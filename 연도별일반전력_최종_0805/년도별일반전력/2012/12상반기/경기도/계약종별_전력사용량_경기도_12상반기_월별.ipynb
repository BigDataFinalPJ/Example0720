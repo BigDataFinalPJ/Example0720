{
 "cells": [
  {
   "cell_type": "markdown",
   "metadata": {
    "pycharm": {
     "name": "#%% md\n"
    }
   },
   "source": []
  },
  {
   "cell_type": "code",
   "execution_count": 1,
   "metadata": {
    "pycharm": {
     "name": "#%%\n"
    }
   },
   "outputs": [],
   "source": [
    "import pandas as pd\n",
    "import re\n",
    "\n",
    "pd.options.display.float_format = '{:.0f}'.format"
   ]
  },
  {
   "cell_type": "markdown",
   "source": [
    "### 1. 꼭 read_csv 21상반기, 19하반기와 같이 맞추어 주세요!!! 또한 지역(전라북도, 남도) 맞추기!!!!!"
   ],
   "metadata": {
    "collapsed": false,
    "pycharm": {
     "name": "#%% md\n"
    }
   }
  },
  {
   "cell_type": "code",
   "execution_count": 2,
   "metadata": {
    "pycharm": {
     "name": "#%%\n"
    }
   },
   "outputs": [
    {
     "data": {
      "text/plain": "      계약종별 전력사용량 월별( 20220804 현재 ) Unnamed: 1     Unnamed: 2 Unnamed: 3  \\\n0    시도 : 강원도, 시군구 : 전체(시 / 군 / 구)        NaN            NaN        NaN   \n1      기간 : 2012년 01 월 ~ 2012년 06월        NaN            NaN        NaN   \n2                               년월         시구            시군구       계약구분   \n3                           201201        강원도  전체(시 / 군 / 구)        주택용   \n4                           201201        강원도  전체(시 / 군 / 구)        일반용   \n..                             ...        ...            ...        ...   \n907                         201206        강원도            횡성군        산업용   \n908                         201206        강원도            횡성군        심 야   \n909                         201206        강원도            횡성군        일반용   \n910                         201206        강원도            횡성군        주택용   \n911                         201206        강원도            횡성군         합계   \n\n    Unnamed: 4    Unnamed: 5       Unnamed: 6     Unnamed: 7  \n0          NaN           NaN              NaN            NaN  \n1          NaN           NaN              NaN            NaN  \n2      고객호수(호)      사용량(kWh)          전기요금(원)  평균판매단가(원/kWh)  \n3     507,057   181,710,905   23,478,724,174          129.2   \n4     118,121   393,935,328   43,701,800,435          110.9   \n..         ...           ...              ...            ...  \n907       512    11,650,068    1,095,392,298             94   \n908     6,615     5,071,321      235,695,238           46.5   \n909     3,995     7,187,470      782,128,225          108.8   \n910    18,986     4,116,054      441,079,383          107.2   \n911    42,581    31,963,793    2,809,437,997           87.9   \n\n[912 rows x 8 columns]",
      "text/html": "<div>\n<style scoped>\n    .dataframe tbody tr th:only-of-type {\n        vertical-align: middle;\n    }\n\n    .dataframe tbody tr th {\n        vertical-align: top;\n    }\n\n    .dataframe thead th {\n        text-align: right;\n    }\n</style>\n<table border=\"1\" class=\"dataframe\">\n  <thead>\n    <tr style=\"text-align: right;\">\n      <th></th>\n      <th>계약종별 전력사용량 월별( 20220804 현재 )</th>\n      <th>Unnamed: 1</th>\n      <th>Unnamed: 2</th>\n      <th>Unnamed: 3</th>\n      <th>Unnamed: 4</th>\n      <th>Unnamed: 5</th>\n      <th>Unnamed: 6</th>\n      <th>Unnamed: 7</th>\n    </tr>\n  </thead>\n  <tbody>\n    <tr>\n      <th>0</th>\n      <td>시도 : 강원도, 시군구 : 전체(시 / 군 / 구)</td>\n      <td>NaN</td>\n      <td>NaN</td>\n      <td>NaN</td>\n      <td>NaN</td>\n      <td>NaN</td>\n      <td>NaN</td>\n      <td>NaN</td>\n    </tr>\n    <tr>\n      <th>1</th>\n      <td>기간 : 2012년 01 월 ~ 2012년 06월</td>\n      <td>NaN</td>\n      <td>NaN</td>\n      <td>NaN</td>\n      <td>NaN</td>\n      <td>NaN</td>\n      <td>NaN</td>\n      <td>NaN</td>\n    </tr>\n    <tr>\n      <th>2</th>\n      <td>년월</td>\n      <td>시구</td>\n      <td>시군구</td>\n      <td>계약구분</td>\n      <td>고객호수(호)</td>\n      <td>사용량(kWh)</td>\n      <td>전기요금(원)</td>\n      <td>평균판매단가(원/kWh)</td>\n    </tr>\n    <tr>\n      <th>3</th>\n      <td>201201</td>\n      <td>강원도</td>\n      <td>전체(시 / 군 / 구)</td>\n      <td>주택용</td>\n      <td>507,057</td>\n      <td>181,710,905</td>\n      <td>23,478,724,174</td>\n      <td>129.2</td>\n    </tr>\n    <tr>\n      <th>4</th>\n      <td>201201</td>\n      <td>강원도</td>\n      <td>전체(시 / 군 / 구)</td>\n      <td>일반용</td>\n      <td>118,121</td>\n      <td>393,935,328</td>\n      <td>43,701,800,435</td>\n      <td>110.9</td>\n    </tr>\n    <tr>\n      <th>...</th>\n      <td>...</td>\n      <td>...</td>\n      <td>...</td>\n      <td>...</td>\n      <td>...</td>\n      <td>...</td>\n      <td>...</td>\n      <td>...</td>\n    </tr>\n    <tr>\n      <th>907</th>\n      <td>201206</td>\n      <td>강원도</td>\n      <td>횡성군</td>\n      <td>산업용</td>\n      <td>512</td>\n      <td>11,650,068</td>\n      <td>1,095,392,298</td>\n      <td>94</td>\n    </tr>\n    <tr>\n      <th>908</th>\n      <td>201206</td>\n      <td>강원도</td>\n      <td>횡성군</td>\n      <td>심 야</td>\n      <td>6,615</td>\n      <td>5,071,321</td>\n      <td>235,695,238</td>\n      <td>46.5</td>\n    </tr>\n    <tr>\n      <th>909</th>\n      <td>201206</td>\n      <td>강원도</td>\n      <td>횡성군</td>\n      <td>일반용</td>\n      <td>3,995</td>\n      <td>7,187,470</td>\n      <td>782,128,225</td>\n      <td>108.8</td>\n    </tr>\n    <tr>\n      <th>910</th>\n      <td>201206</td>\n      <td>강원도</td>\n      <td>횡성군</td>\n      <td>주택용</td>\n      <td>18,986</td>\n      <td>4,116,054</td>\n      <td>441,079,383</td>\n      <td>107.2</td>\n    </tr>\n    <tr>\n      <th>911</th>\n      <td>201206</td>\n      <td>강원도</td>\n      <td>횡성군</td>\n      <td>합계</td>\n      <td>42,581</td>\n      <td>31,963,793</td>\n      <td>2,809,437,997</td>\n      <td>87.9</td>\n    </tr>\n  </tbody>\n</table>\n<p>912 rows × 8 columns</p>\n</div>"
     },
     "execution_count": 2,
     "metadata": {},
     "output_type": "execute_result"
    }
   ],
   "source": [
    "df = pd.read_csv('강원도_계약종별_전력사용량_월별_12상반기.csv' , encoding='cp949')\n",
    "\n",
    "df\n"
   ]
  },
  {
   "cell_type": "code",
   "execution_count": 3,
   "metadata": {
    "pycharm": {
     "name": "#%%\n"
    }
   },
   "outputs": [
    {
     "data": {
      "text/plain": "    계약종별 전력사용량 월별( 20220804 현재 ) Unnamed: 1     Unnamed: 2 Unnamed: 3  \\\n2                             년월         시구            시군구       계약구분   \n3                         201201        강원도  전체(시 / 군 / 구)        주택용   \n4                         201201        강원도  전체(시 / 군 / 구)        일반용   \n5                         201201        강원도  전체(시 / 군 / 구)        교육용   \n6                         201201        강원도  전체(시 / 군 / 구)        산업용   \n..                           ...        ...            ...        ...   \n907                       201206        강원도            횡성군        산업용   \n908                       201206        강원도            횡성군        심 야   \n909                       201206        강원도            횡성군        일반용   \n910                       201206        강원도            횡성군        주택용   \n911                       201206        강원도            횡성군         합계   \n\n    Unnamed: 4    Unnamed: 5       Unnamed: 6     Unnamed: 7  \n2      고객호수(호)      사용량(kWh)          전기요금(원)  평균판매단가(원/kWh)  \n3     507,057   181,710,905   23,478,724,174          129.2   \n4     118,121   393,935,328   43,701,800,435          110.9   \n5       1,540    31,777,612    3,265,573,414          102.8   \n6      11,259   581,408,142   55,187,040,829           94.9   \n..         ...           ...              ...            ...  \n907       512    11,650,068    1,095,392,298             94   \n908     6,615     5,071,321      235,695,238           46.5   \n909     3,995     7,187,470      782,128,225          108.8   \n910    18,986     4,116,054      441,079,383          107.2   \n911    42,581    31,963,793    2,809,437,997           87.9   \n\n[909 rows x 8 columns]",
      "text/html": "<div>\n<style scoped>\n    .dataframe tbody tr th:only-of-type {\n        vertical-align: middle;\n    }\n\n    .dataframe tbody tr th {\n        vertical-align: top;\n    }\n\n    .dataframe thead th {\n        text-align: right;\n    }\n</style>\n<table border=\"1\" class=\"dataframe\">\n  <thead>\n    <tr style=\"text-align: right;\">\n      <th></th>\n      <th>계약종별 전력사용량 월별( 20220804 현재 )</th>\n      <th>Unnamed: 1</th>\n      <th>Unnamed: 2</th>\n      <th>Unnamed: 3</th>\n      <th>Unnamed: 4</th>\n      <th>Unnamed: 5</th>\n      <th>Unnamed: 6</th>\n      <th>Unnamed: 7</th>\n    </tr>\n  </thead>\n  <tbody>\n    <tr>\n      <th>2</th>\n      <td>년월</td>\n      <td>시구</td>\n      <td>시군구</td>\n      <td>계약구분</td>\n      <td>고객호수(호)</td>\n      <td>사용량(kWh)</td>\n      <td>전기요금(원)</td>\n      <td>평균판매단가(원/kWh)</td>\n    </tr>\n    <tr>\n      <th>3</th>\n      <td>201201</td>\n      <td>강원도</td>\n      <td>전체(시 / 군 / 구)</td>\n      <td>주택용</td>\n      <td>507,057</td>\n      <td>181,710,905</td>\n      <td>23,478,724,174</td>\n      <td>129.2</td>\n    </tr>\n    <tr>\n      <th>4</th>\n      <td>201201</td>\n      <td>강원도</td>\n      <td>전체(시 / 군 / 구)</td>\n      <td>일반용</td>\n      <td>118,121</td>\n      <td>393,935,328</td>\n      <td>43,701,800,435</td>\n      <td>110.9</td>\n    </tr>\n    <tr>\n      <th>5</th>\n      <td>201201</td>\n      <td>강원도</td>\n      <td>전체(시 / 군 / 구)</td>\n      <td>교육용</td>\n      <td>1,540</td>\n      <td>31,777,612</td>\n      <td>3,265,573,414</td>\n      <td>102.8</td>\n    </tr>\n    <tr>\n      <th>6</th>\n      <td>201201</td>\n      <td>강원도</td>\n      <td>전체(시 / 군 / 구)</td>\n      <td>산업용</td>\n      <td>11,259</td>\n      <td>581,408,142</td>\n      <td>55,187,040,829</td>\n      <td>94.9</td>\n    </tr>\n    <tr>\n      <th>...</th>\n      <td>...</td>\n      <td>...</td>\n      <td>...</td>\n      <td>...</td>\n      <td>...</td>\n      <td>...</td>\n      <td>...</td>\n      <td>...</td>\n    </tr>\n    <tr>\n      <th>907</th>\n      <td>201206</td>\n      <td>강원도</td>\n      <td>횡성군</td>\n      <td>산업용</td>\n      <td>512</td>\n      <td>11,650,068</td>\n      <td>1,095,392,298</td>\n      <td>94</td>\n    </tr>\n    <tr>\n      <th>908</th>\n      <td>201206</td>\n      <td>강원도</td>\n      <td>횡성군</td>\n      <td>심 야</td>\n      <td>6,615</td>\n      <td>5,071,321</td>\n      <td>235,695,238</td>\n      <td>46.5</td>\n    </tr>\n    <tr>\n      <th>909</th>\n      <td>201206</td>\n      <td>강원도</td>\n      <td>횡성군</td>\n      <td>일반용</td>\n      <td>3,995</td>\n      <td>7,187,470</td>\n      <td>782,128,225</td>\n      <td>108.8</td>\n    </tr>\n    <tr>\n      <th>910</th>\n      <td>201206</td>\n      <td>강원도</td>\n      <td>횡성군</td>\n      <td>주택용</td>\n      <td>18,986</td>\n      <td>4,116,054</td>\n      <td>441,079,383</td>\n      <td>107.2</td>\n    </tr>\n    <tr>\n      <th>911</th>\n      <td>201206</td>\n      <td>강원도</td>\n      <td>횡성군</td>\n      <td>합계</td>\n      <td>42,581</td>\n      <td>31,963,793</td>\n      <td>2,809,437,997</td>\n      <td>87.9</td>\n    </tr>\n  </tbody>\n</table>\n<p>909 rows × 8 columns</p>\n</div>"
     },
     "execution_count": 3,
     "metadata": {},
     "output_type": "execute_result"
    }
   ],
   "source": [
    "df = df.drop([0,1 , 46] , axis = 0)\n",
    "#0,1 , 10은 지우는게 맞다\n",
    "df"
   ]
  },
  {
   "cell_type": "code",
   "execution_count": 4,
   "metadata": {
    "pycharm": {
     "name": "#%%\n"
    }
   },
   "outputs": [],
   "source": [
    "a= df.loc[2].tolist()\n",
    "a\n",
    "df = df.drop([2] , axis = 0)"
   ]
  },
  {
   "cell_type": "code",
   "execution_count": 5,
   "metadata": {
    "pycharm": {
     "name": "#%%\n"
    }
   },
   "outputs": [
    {
     "data": {
      "text/plain": "         년월   시구            시군구 계약구분   고객호수(호)      사용량(kWh)          전기요금(원)  \\\n3    201201  강원도  전체(시 / 군 / 구)  주택용  507,057   181,710,905   23,478,724,174    \n4    201201  강원도  전체(시 / 군 / 구)  일반용  118,121   393,935,328   43,701,800,435    \n5    201201  강원도  전체(시 / 군 / 구)  교육용    1,540    31,777,612    3,265,573,414    \n6    201201  강원도  전체(시 / 군 / 구)  산업용   11,259   581,408,142   55,187,040,829    \n7    201201  강원도  전체(시 / 군 / 구)  농사용   65,193    36,105,700    1,610,830,555    \n..      ...  ...            ...  ...       ...           ...              ...   \n907  201206  강원도            횡성군  산업용      512    11,650,068    1,095,392,298    \n908  201206  강원도            횡성군  심 야    6,615     5,071,321      235,695,238    \n909  201206  강원도            횡성군  일반용    3,995     7,187,470      782,128,225    \n910  201206  강원도            횡성군  주택용   18,986     4,116,054      441,079,383    \n911  201206  강원도            횡성군   합계   42,581    31,963,793    2,809,437,997    \n\n    평균판매단가(원/kWh)  \n3          129.2   \n4          110.9   \n5          102.8   \n6           94.9   \n7           44.6   \n..            ...  \n907           94   \n908         46.5   \n909        108.8   \n910        107.2   \n911         87.9   \n\n[908 rows x 8 columns]",
      "text/html": "<div>\n<style scoped>\n    .dataframe tbody tr th:only-of-type {\n        vertical-align: middle;\n    }\n\n    .dataframe tbody tr th {\n        vertical-align: top;\n    }\n\n    .dataframe thead th {\n        text-align: right;\n    }\n</style>\n<table border=\"1\" class=\"dataframe\">\n  <thead>\n    <tr style=\"text-align: right;\">\n      <th></th>\n      <th>년월</th>\n      <th>시구</th>\n      <th>시군구</th>\n      <th>계약구분</th>\n      <th>고객호수(호)</th>\n      <th>사용량(kWh)</th>\n      <th>전기요금(원)</th>\n      <th>평균판매단가(원/kWh)</th>\n    </tr>\n  </thead>\n  <tbody>\n    <tr>\n      <th>3</th>\n      <td>201201</td>\n      <td>강원도</td>\n      <td>전체(시 / 군 / 구)</td>\n      <td>주택용</td>\n      <td>507,057</td>\n      <td>181,710,905</td>\n      <td>23,478,724,174</td>\n      <td>129.2</td>\n    </tr>\n    <tr>\n      <th>4</th>\n      <td>201201</td>\n      <td>강원도</td>\n      <td>전체(시 / 군 / 구)</td>\n      <td>일반용</td>\n      <td>118,121</td>\n      <td>393,935,328</td>\n      <td>43,701,800,435</td>\n      <td>110.9</td>\n    </tr>\n    <tr>\n      <th>5</th>\n      <td>201201</td>\n      <td>강원도</td>\n      <td>전체(시 / 군 / 구)</td>\n      <td>교육용</td>\n      <td>1,540</td>\n      <td>31,777,612</td>\n      <td>3,265,573,414</td>\n      <td>102.8</td>\n    </tr>\n    <tr>\n      <th>6</th>\n      <td>201201</td>\n      <td>강원도</td>\n      <td>전체(시 / 군 / 구)</td>\n      <td>산업용</td>\n      <td>11,259</td>\n      <td>581,408,142</td>\n      <td>55,187,040,829</td>\n      <td>94.9</td>\n    </tr>\n    <tr>\n      <th>7</th>\n      <td>201201</td>\n      <td>강원도</td>\n      <td>전체(시 / 군 / 구)</td>\n      <td>농사용</td>\n      <td>65,193</td>\n      <td>36,105,700</td>\n      <td>1,610,830,555</td>\n      <td>44.6</td>\n    </tr>\n    <tr>\n      <th>...</th>\n      <td>...</td>\n      <td>...</td>\n      <td>...</td>\n      <td>...</td>\n      <td>...</td>\n      <td>...</td>\n      <td>...</td>\n      <td>...</td>\n    </tr>\n    <tr>\n      <th>907</th>\n      <td>201206</td>\n      <td>강원도</td>\n      <td>횡성군</td>\n      <td>산업용</td>\n      <td>512</td>\n      <td>11,650,068</td>\n      <td>1,095,392,298</td>\n      <td>94</td>\n    </tr>\n    <tr>\n      <th>908</th>\n      <td>201206</td>\n      <td>강원도</td>\n      <td>횡성군</td>\n      <td>심 야</td>\n      <td>6,615</td>\n      <td>5,071,321</td>\n      <td>235,695,238</td>\n      <td>46.5</td>\n    </tr>\n    <tr>\n      <th>909</th>\n      <td>201206</td>\n      <td>강원도</td>\n      <td>횡성군</td>\n      <td>일반용</td>\n      <td>3,995</td>\n      <td>7,187,470</td>\n      <td>782,128,225</td>\n      <td>108.8</td>\n    </tr>\n    <tr>\n      <th>910</th>\n      <td>201206</td>\n      <td>강원도</td>\n      <td>횡성군</td>\n      <td>주택용</td>\n      <td>18,986</td>\n      <td>4,116,054</td>\n      <td>441,079,383</td>\n      <td>107.2</td>\n    </tr>\n    <tr>\n      <th>911</th>\n      <td>201206</td>\n      <td>강원도</td>\n      <td>횡성군</td>\n      <td>합계</td>\n      <td>42,581</td>\n      <td>31,963,793</td>\n      <td>2,809,437,997</td>\n      <td>87.9</td>\n    </tr>\n  </tbody>\n</table>\n<p>908 rows × 8 columns</p>\n</div>"
     },
     "execution_count": 5,
     "metadata": {},
     "output_type": "execute_result"
    }
   ],
   "source": [
    "df.columns = a\n",
    "df"
   ]
  },
  {
   "cell_type": "code",
   "execution_count": 6,
   "metadata": {
    "pycharm": {
     "name": "#%%\n"
    }
   },
   "outputs": [
    {
     "data": {
      "text/plain": "        년월   시구            시군구 계약구분    고객호수(호)       사용량(kWh)  \\\n3   201201  강원도  전체(시 / 군 / 구)  주택용   507,057    181,710,905    \n4   201201  강원도  전체(시 / 군 / 구)  일반용   118,121    393,935,328    \n5   201201  강원도  전체(시 / 군 / 구)  교육용     1,540     31,777,612    \n6   201201  강원도  전체(시 / 군 / 구)  산업용    11,259    581,408,142    \n7   201201  강원도  전체(시 / 군 / 구)  농사용    65,193     36,105,700    \n8   201201  강원도  전체(시 / 군 / 구)  가로등    88,093     16,284,421    \n9   201201  강원도  전체(시 / 군 / 구)  심 야    97,060    354,402,984    \n10  201202  강원도  전체(시 / 군 / 구)  주택용   506,645    183,887,448    \n11  201202  강원도  전체(시 / 군 / 구)  일반용   118,756    380,390,372    \n12  201202  강원도  전체(시 / 군 / 구)  교육용     1,541     29,958,084    \n13  201202  강원도  전체(시 / 군 / 구)  산업용    11,258    537,959,873    \n14  201202  강원도  전체(시 / 군 / 구)  농사용    65,176     37,079,696    \n15  201202  강원도  전체(시 / 군 / 구)  가로등    88,331     15,650,134    \n16  201202  강원도  전체(시 / 군 / 구)  심 야    97,045    361,172,341    \n17  201203  강원도  전체(시 / 군 / 구)  주택용   507,036    165,417,318    \n18  201203  강원도  전체(시 / 군 / 구)  일반용   118,828    325,480,053    \n19  201203  강원도  전체(시 / 군 / 구)  교육용     1,543     29,738,692    \n20  201203  강원도  전체(시 / 군 / 구)  산업용    11,271    614,494,922    \n21  201203  강원도  전체(시 / 군 / 구)  농사용    88,005     34,953,679    \n22  201203  강원도  전체(시 / 군 / 구)  가로등    88,438     14,827,596    \n23  201203  강원도  전체(시 / 군 / 구)  심 야    97,005    287,015,826    \n24  201204  강원도  전체(시 / 군 / 구)  주택용   507,443    167,439,497    \n25  201204  강원도  전체(시 / 군 / 구)  일반용   119,314    298,915,849    \n26  201204  강원도  전체(시 / 군 / 구)  교육용     1,539     28,387,919    \n27  201204  강원도  전체(시 / 군 / 구)  산업용    11,282    602,629,232    \n28  201204  강원도  전체(시 / 군 / 구)  농사용    66,002     32,445,801    \n29  201204  강원도  전체(시 / 군 / 구)  가로등    88,596     14,660,213    \n30  201204  강원도  전체(시 / 군 / 구)  심 야    96,880    238,400,841    \n31  201205  강원도  전체(시 / 군 / 구)  주택용   507,754    152,061,588    \n32  201205  강원도  전체(시 / 군 / 구)  일반용   119,655    264,209,735    \n33  201205  강원도  전체(시 / 군 / 구)  교육용     1,531     19,213,284    \n34  201205  강원도  전체(시 / 군 / 구)  산업용    11,329    623,123,684    \n35  201205  강원도  전체(시 / 군 / 구)  농사용    66,736     28,290,097    \n36  201205  강원도  전체(시 / 군 / 구)  가로등    88,868     13,704,971    \n37  201205  강원도  전체(시 / 군 / 구)  심 야    96,795    129,989,571    \n38  201206  강원도  전체(시 / 군 / 구)  주택용   508,421    151,143,915    \n39  201206  강원도  전체(시 / 군 / 구)  일반용   120,075    271,076,322    \n40  201206  강원도  전체(시 / 군 / 구)  교육용     1,529     18,273,428    \n41  201206  강원도  전체(시 / 군 / 구)  산업용    11,364    623,503,577    \n42  201206  강원도  전체(시 / 군 / 구)  농사용    67,743     30,949,460    \n43  201206  강원도  전체(시 / 군 / 구)  가로등    89,235     13,034,711    \n44  201206  강원도  전체(시 / 군 / 구)  심 야    96,705     78,388,911    \n45      합계   합계             합계   합계  5,367,997  8,413,493,732   \n\n            전기요금(원) 평균판매단가(원/kWh)  \n3   23,478,724,174         129.2   \n4   43,701,800,435         110.9   \n5    3,265,573,414         102.8   \n6   55,187,040,829          94.9   \n7    1,610,830,555          44.6   \n8    1,462,579,337          89.8   \n9   22,859,854,094          64.5   \n10  24,063,667,910         130.9   \n11  43,491,008,041         114.3   \n12   3,185,361,617         106.3   \n13  53,040,030,542          98.6   \n14   1,651,201,516          44.5   \n15   1,462,281,408          93.4   \n16  23,287,034,141          64.5   \n17  19,326,785,961         116.8   \n18  34,588,423,108         106.3   \n19   2,851,395,594          95.9   \n20  48,282,035,458          78.6   \n21   1,570,654,493          44.9   \n22   1,495,070,728         100.8   \n23  16,502,787,950          57.5   \n24  19,614,726,230         117.1   \n25  29,469,258,321          98.6   \n26   2,503,181,086          88.2   \n27  46,754,679,507          77.6   \n28   1,477,797,471          45.5   \n29   1,443,687,452          98.5   \n30  11,151,120,103          46.8   \n31  16,274,622,866         107.0   \n32  27,324,730,945         103.4   \n33   2,000,127,329         104.1   \n34  49,511,573,284          79.5   \n35   1,320,243,346          46.7   \n36   1,391,950,275         101.6   \n37   6,080,486,596          46.8   \n38  16,084,066,371         106.4   \n39  27,478,361,557         101.4   \n40   1,955,075,758         107.0   \n41  50,719,881,243          81.3   \n42   1,380,413,919          44.6   \n43   1,364,651,233         104.7   \n44   3,678,062,301          46.9   \n45  745,342,838,498          88.6  ",
      "text/html": "<div>\n<style scoped>\n    .dataframe tbody tr th:only-of-type {\n        vertical-align: middle;\n    }\n\n    .dataframe tbody tr th {\n        vertical-align: top;\n    }\n\n    .dataframe thead th {\n        text-align: right;\n    }\n</style>\n<table border=\"1\" class=\"dataframe\">\n  <thead>\n    <tr style=\"text-align: right;\">\n      <th></th>\n      <th>년월</th>\n      <th>시구</th>\n      <th>시군구</th>\n      <th>계약구분</th>\n      <th>고객호수(호)</th>\n      <th>사용량(kWh)</th>\n      <th>전기요금(원)</th>\n      <th>평균판매단가(원/kWh)</th>\n    </tr>\n  </thead>\n  <tbody>\n    <tr>\n      <th>3</th>\n      <td>201201</td>\n      <td>강원도</td>\n      <td>전체(시 / 군 / 구)</td>\n      <td>주택용</td>\n      <td>507,057</td>\n      <td>181,710,905</td>\n      <td>23,478,724,174</td>\n      <td>129.2</td>\n    </tr>\n    <tr>\n      <th>4</th>\n      <td>201201</td>\n      <td>강원도</td>\n      <td>전체(시 / 군 / 구)</td>\n      <td>일반용</td>\n      <td>118,121</td>\n      <td>393,935,328</td>\n      <td>43,701,800,435</td>\n      <td>110.9</td>\n    </tr>\n    <tr>\n      <th>5</th>\n      <td>201201</td>\n      <td>강원도</td>\n      <td>전체(시 / 군 / 구)</td>\n      <td>교육용</td>\n      <td>1,540</td>\n      <td>31,777,612</td>\n      <td>3,265,573,414</td>\n      <td>102.8</td>\n    </tr>\n    <tr>\n      <th>6</th>\n      <td>201201</td>\n      <td>강원도</td>\n      <td>전체(시 / 군 / 구)</td>\n      <td>산업용</td>\n      <td>11,259</td>\n      <td>581,408,142</td>\n      <td>55,187,040,829</td>\n      <td>94.9</td>\n    </tr>\n    <tr>\n      <th>7</th>\n      <td>201201</td>\n      <td>강원도</td>\n      <td>전체(시 / 군 / 구)</td>\n      <td>농사용</td>\n      <td>65,193</td>\n      <td>36,105,700</td>\n      <td>1,610,830,555</td>\n      <td>44.6</td>\n    </tr>\n    <tr>\n      <th>8</th>\n      <td>201201</td>\n      <td>강원도</td>\n      <td>전체(시 / 군 / 구)</td>\n      <td>가로등</td>\n      <td>88,093</td>\n      <td>16,284,421</td>\n      <td>1,462,579,337</td>\n      <td>89.8</td>\n    </tr>\n    <tr>\n      <th>9</th>\n      <td>201201</td>\n      <td>강원도</td>\n      <td>전체(시 / 군 / 구)</td>\n      <td>심 야</td>\n      <td>97,060</td>\n      <td>354,402,984</td>\n      <td>22,859,854,094</td>\n      <td>64.5</td>\n    </tr>\n    <tr>\n      <th>10</th>\n      <td>201202</td>\n      <td>강원도</td>\n      <td>전체(시 / 군 / 구)</td>\n      <td>주택용</td>\n      <td>506,645</td>\n      <td>183,887,448</td>\n      <td>24,063,667,910</td>\n      <td>130.9</td>\n    </tr>\n    <tr>\n      <th>11</th>\n      <td>201202</td>\n      <td>강원도</td>\n      <td>전체(시 / 군 / 구)</td>\n      <td>일반용</td>\n      <td>118,756</td>\n      <td>380,390,372</td>\n      <td>43,491,008,041</td>\n      <td>114.3</td>\n    </tr>\n    <tr>\n      <th>12</th>\n      <td>201202</td>\n      <td>강원도</td>\n      <td>전체(시 / 군 / 구)</td>\n      <td>교육용</td>\n      <td>1,541</td>\n      <td>29,958,084</td>\n      <td>3,185,361,617</td>\n      <td>106.3</td>\n    </tr>\n    <tr>\n      <th>13</th>\n      <td>201202</td>\n      <td>강원도</td>\n      <td>전체(시 / 군 / 구)</td>\n      <td>산업용</td>\n      <td>11,258</td>\n      <td>537,959,873</td>\n      <td>53,040,030,542</td>\n      <td>98.6</td>\n    </tr>\n    <tr>\n      <th>14</th>\n      <td>201202</td>\n      <td>강원도</td>\n      <td>전체(시 / 군 / 구)</td>\n      <td>농사용</td>\n      <td>65,176</td>\n      <td>37,079,696</td>\n      <td>1,651,201,516</td>\n      <td>44.5</td>\n    </tr>\n    <tr>\n      <th>15</th>\n      <td>201202</td>\n      <td>강원도</td>\n      <td>전체(시 / 군 / 구)</td>\n      <td>가로등</td>\n      <td>88,331</td>\n      <td>15,650,134</td>\n      <td>1,462,281,408</td>\n      <td>93.4</td>\n    </tr>\n    <tr>\n      <th>16</th>\n      <td>201202</td>\n      <td>강원도</td>\n      <td>전체(시 / 군 / 구)</td>\n      <td>심 야</td>\n      <td>97,045</td>\n      <td>361,172,341</td>\n      <td>23,287,034,141</td>\n      <td>64.5</td>\n    </tr>\n    <tr>\n      <th>17</th>\n      <td>201203</td>\n      <td>강원도</td>\n      <td>전체(시 / 군 / 구)</td>\n      <td>주택용</td>\n      <td>507,036</td>\n      <td>165,417,318</td>\n      <td>19,326,785,961</td>\n      <td>116.8</td>\n    </tr>\n    <tr>\n      <th>18</th>\n      <td>201203</td>\n      <td>강원도</td>\n      <td>전체(시 / 군 / 구)</td>\n      <td>일반용</td>\n      <td>118,828</td>\n      <td>325,480,053</td>\n      <td>34,588,423,108</td>\n      <td>106.3</td>\n    </tr>\n    <tr>\n      <th>19</th>\n      <td>201203</td>\n      <td>강원도</td>\n      <td>전체(시 / 군 / 구)</td>\n      <td>교육용</td>\n      <td>1,543</td>\n      <td>29,738,692</td>\n      <td>2,851,395,594</td>\n      <td>95.9</td>\n    </tr>\n    <tr>\n      <th>20</th>\n      <td>201203</td>\n      <td>강원도</td>\n      <td>전체(시 / 군 / 구)</td>\n      <td>산업용</td>\n      <td>11,271</td>\n      <td>614,494,922</td>\n      <td>48,282,035,458</td>\n      <td>78.6</td>\n    </tr>\n    <tr>\n      <th>21</th>\n      <td>201203</td>\n      <td>강원도</td>\n      <td>전체(시 / 군 / 구)</td>\n      <td>농사용</td>\n      <td>88,005</td>\n      <td>34,953,679</td>\n      <td>1,570,654,493</td>\n      <td>44.9</td>\n    </tr>\n    <tr>\n      <th>22</th>\n      <td>201203</td>\n      <td>강원도</td>\n      <td>전체(시 / 군 / 구)</td>\n      <td>가로등</td>\n      <td>88,438</td>\n      <td>14,827,596</td>\n      <td>1,495,070,728</td>\n      <td>100.8</td>\n    </tr>\n    <tr>\n      <th>23</th>\n      <td>201203</td>\n      <td>강원도</td>\n      <td>전체(시 / 군 / 구)</td>\n      <td>심 야</td>\n      <td>97,005</td>\n      <td>287,015,826</td>\n      <td>16,502,787,950</td>\n      <td>57.5</td>\n    </tr>\n    <tr>\n      <th>24</th>\n      <td>201204</td>\n      <td>강원도</td>\n      <td>전체(시 / 군 / 구)</td>\n      <td>주택용</td>\n      <td>507,443</td>\n      <td>167,439,497</td>\n      <td>19,614,726,230</td>\n      <td>117.1</td>\n    </tr>\n    <tr>\n      <th>25</th>\n      <td>201204</td>\n      <td>강원도</td>\n      <td>전체(시 / 군 / 구)</td>\n      <td>일반용</td>\n      <td>119,314</td>\n      <td>298,915,849</td>\n      <td>29,469,258,321</td>\n      <td>98.6</td>\n    </tr>\n    <tr>\n      <th>26</th>\n      <td>201204</td>\n      <td>강원도</td>\n      <td>전체(시 / 군 / 구)</td>\n      <td>교육용</td>\n      <td>1,539</td>\n      <td>28,387,919</td>\n      <td>2,503,181,086</td>\n      <td>88.2</td>\n    </tr>\n    <tr>\n      <th>27</th>\n      <td>201204</td>\n      <td>강원도</td>\n      <td>전체(시 / 군 / 구)</td>\n      <td>산업용</td>\n      <td>11,282</td>\n      <td>602,629,232</td>\n      <td>46,754,679,507</td>\n      <td>77.6</td>\n    </tr>\n    <tr>\n      <th>28</th>\n      <td>201204</td>\n      <td>강원도</td>\n      <td>전체(시 / 군 / 구)</td>\n      <td>농사용</td>\n      <td>66,002</td>\n      <td>32,445,801</td>\n      <td>1,477,797,471</td>\n      <td>45.5</td>\n    </tr>\n    <tr>\n      <th>29</th>\n      <td>201204</td>\n      <td>강원도</td>\n      <td>전체(시 / 군 / 구)</td>\n      <td>가로등</td>\n      <td>88,596</td>\n      <td>14,660,213</td>\n      <td>1,443,687,452</td>\n      <td>98.5</td>\n    </tr>\n    <tr>\n      <th>30</th>\n      <td>201204</td>\n      <td>강원도</td>\n      <td>전체(시 / 군 / 구)</td>\n      <td>심 야</td>\n      <td>96,880</td>\n      <td>238,400,841</td>\n      <td>11,151,120,103</td>\n      <td>46.8</td>\n    </tr>\n    <tr>\n      <th>31</th>\n      <td>201205</td>\n      <td>강원도</td>\n      <td>전체(시 / 군 / 구)</td>\n      <td>주택용</td>\n      <td>507,754</td>\n      <td>152,061,588</td>\n      <td>16,274,622,866</td>\n      <td>107.0</td>\n    </tr>\n    <tr>\n      <th>32</th>\n      <td>201205</td>\n      <td>강원도</td>\n      <td>전체(시 / 군 / 구)</td>\n      <td>일반용</td>\n      <td>119,655</td>\n      <td>264,209,735</td>\n      <td>27,324,730,945</td>\n      <td>103.4</td>\n    </tr>\n    <tr>\n      <th>33</th>\n      <td>201205</td>\n      <td>강원도</td>\n      <td>전체(시 / 군 / 구)</td>\n      <td>교육용</td>\n      <td>1,531</td>\n      <td>19,213,284</td>\n      <td>2,000,127,329</td>\n      <td>104.1</td>\n    </tr>\n    <tr>\n      <th>34</th>\n      <td>201205</td>\n      <td>강원도</td>\n      <td>전체(시 / 군 / 구)</td>\n      <td>산업용</td>\n      <td>11,329</td>\n      <td>623,123,684</td>\n      <td>49,511,573,284</td>\n      <td>79.5</td>\n    </tr>\n    <tr>\n      <th>35</th>\n      <td>201205</td>\n      <td>강원도</td>\n      <td>전체(시 / 군 / 구)</td>\n      <td>농사용</td>\n      <td>66,736</td>\n      <td>28,290,097</td>\n      <td>1,320,243,346</td>\n      <td>46.7</td>\n    </tr>\n    <tr>\n      <th>36</th>\n      <td>201205</td>\n      <td>강원도</td>\n      <td>전체(시 / 군 / 구)</td>\n      <td>가로등</td>\n      <td>88,868</td>\n      <td>13,704,971</td>\n      <td>1,391,950,275</td>\n      <td>101.6</td>\n    </tr>\n    <tr>\n      <th>37</th>\n      <td>201205</td>\n      <td>강원도</td>\n      <td>전체(시 / 군 / 구)</td>\n      <td>심 야</td>\n      <td>96,795</td>\n      <td>129,989,571</td>\n      <td>6,080,486,596</td>\n      <td>46.8</td>\n    </tr>\n    <tr>\n      <th>38</th>\n      <td>201206</td>\n      <td>강원도</td>\n      <td>전체(시 / 군 / 구)</td>\n      <td>주택용</td>\n      <td>508,421</td>\n      <td>151,143,915</td>\n      <td>16,084,066,371</td>\n      <td>106.4</td>\n    </tr>\n    <tr>\n      <th>39</th>\n      <td>201206</td>\n      <td>강원도</td>\n      <td>전체(시 / 군 / 구)</td>\n      <td>일반용</td>\n      <td>120,075</td>\n      <td>271,076,322</td>\n      <td>27,478,361,557</td>\n      <td>101.4</td>\n    </tr>\n    <tr>\n      <th>40</th>\n      <td>201206</td>\n      <td>강원도</td>\n      <td>전체(시 / 군 / 구)</td>\n      <td>교육용</td>\n      <td>1,529</td>\n      <td>18,273,428</td>\n      <td>1,955,075,758</td>\n      <td>107.0</td>\n    </tr>\n    <tr>\n      <th>41</th>\n      <td>201206</td>\n      <td>강원도</td>\n      <td>전체(시 / 군 / 구)</td>\n      <td>산업용</td>\n      <td>11,364</td>\n      <td>623,503,577</td>\n      <td>50,719,881,243</td>\n      <td>81.3</td>\n    </tr>\n    <tr>\n      <th>42</th>\n      <td>201206</td>\n      <td>강원도</td>\n      <td>전체(시 / 군 / 구)</td>\n      <td>농사용</td>\n      <td>67,743</td>\n      <td>30,949,460</td>\n      <td>1,380,413,919</td>\n      <td>44.6</td>\n    </tr>\n    <tr>\n      <th>43</th>\n      <td>201206</td>\n      <td>강원도</td>\n      <td>전체(시 / 군 / 구)</td>\n      <td>가로등</td>\n      <td>89,235</td>\n      <td>13,034,711</td>\n      <td>1,364,651,233</td>\n      <td>104.7</td>\n    </tr>\n    <tr>\n      <th>44</th>\n      <td>201206</td>\n      <td>강원도</td>\n      <td>전체(시 / 군 / 구)</td>\n      <td>심 야</td>\n      <td>96,705</td>\n      <td>78,388,911</td>\n      <td>3,678,062,301</td>\n      <td>46.9</td>\n    </tr>\n    <tr>\n      <th>45</th>\n      <td>합계</td>\n      <td>합계</td>\n      <td>합계</td>\n      <td>합계</td>\n      <td>5,367,997</td>\n      <td>8,413,493,732</td>\n      <td>745,342,838,498</td>\n      <td>88.6</td>\n    </tr>\n  </tbody>\n</table>\n</div>"
     },
     "execution_count": 6,
     "metadata": {},
     "output_type": "execute_result"
    }
   ],
   "source": [
    "df_2 = df.loc[:45]\n",
    "df_2\n"
   ]
  },
  {
   "cell_type": "code",
   "execution_count": 7,
   "metadata": {
    "pycharm": {
     "name": "#%%\n"
    }
   },
   "outputs": [
    {
     "name": "stderr",
     "output_type": "stream",
     "text": [
      "C:\\Users\\user\\AppData\\Local\\Temp\\ipykernel_7480\\3551721261.py:3: SettingWithCopyWarning: \n",
      "A value is trying to be set on a copy of a slice from a DataFrame\n",
      "\n",
      "See the caveats in the documentation: https://pandas.pydata.org/pandas-docs/stable/user_guide/indexing.html#returning-a-view-versus-a-copy\n",
      "  GyeonGi.drop(['시군구' , '전기요금(원)' , '평균판매단가(원/kWh)'] , axis = 1 , inplace = True)\n"
     ]
    },
    {
     "data": {
      "text/plain": "        년월   시구 계약구분   고객호수(호)      사용량(kWh)\n4   201201  강원도  일반용  118,121   393,935,328 \n11  201202  강원도  일반용  118,756   380,390,372 \n18  201203  강원도  일반용  118,828   325,480,053 \n25  201204  강원도  일반용  119,314   298,915,849 \n32  201205  강원도  일반용  119,655   264,209,735 \n39  201206  강원도  일반용  120,075   271,076,322 ",
      "text/html": "<div>\n<style scoped>\n    .dataframe tbody tr th:only-of-type {\n        vertical-align: middle;\n    }\n\n    .dataframe tbody tr th {\n        vertical-align: top;\n    }\n\n    .dataframe thead th {\n        text-align: right;\n    }\n</style>\n<table border=\"1\" class=\"dataframe\">\n  <thead>\n    <tr style=\"text-align: right;\">\n      <th></th>\n      <th>년월</th>\n      <th>시구</th>\n      <th>계약구분</th>\n      <th>고객호수(호)</th>\n      <th>사용량(kWh)</th>\n    </tr>\n  </thead>\n  <tbody>\n    <tr>\n      <th>4</th>\n      <td>201201</td>\n      <td>강원도</td>\n      <td>일반용</td>\n      <td>118,121</td>\n      <td>393,935,328</td>\n    </tr>\n    <tr>\n      <th>11</th>\n      <td>201202</td>\n      <td>강원도</td>\n      <td>일반용</td>\n      <td>118,756</td>\n      <td>380,390,372</td>\n    </tr>\n    <tr>\n      <th>18</th>\n      <td>201203</td>\n      <td>강원도</td>\n      <td>일반용</td>\n      <td>118,828</td>\n      <td>325,480,053</td>\n    </tr>\n    <tr>\n      <th>25</th>\n      <td>201204</td>\n      <td>강원도</td>\n      <td>일반용</td>\n      <td>119,314</td>\n      <td>298,915,849</td>\n    </tr>\n    <tr>\n      <th>32</th>\n      <td>201205</td>\n      <td>강원도</td>\n      <td>일반용</td>\n      <td>119,655</td>\n      <td>264,209,735</td>\n    </tr>\n    <tr>\n      <th>39</th>\n      <td>201206</td>\n      <td>강원도</td>\n      <td>일반용</td>\n      <td>120,075</td>\n      <td>271,076,322</td>\n    </tr>\n  </tbody>\n</table>\n</div>"
     },
     "execution_count": 7,
     "metadata": {},
     "output_type": "execute_result"
    }
   ],
   "source": [
    "GyeonGi  = df_2.loc[(df_2['계약구분'] == '일반용')]\n",
    "#SEOUL = df_3.loc[(df_3['계약구분'] =='일반용')]\n",
    "GyeonGi.drop(['시군구' , '전기요금(원)' , '평균판매단가(원/kWh)'] , axis = 1 , inplace = True)\n",
    "GyeonGi"
   ]
  },
  {
   "cell_type": "code",
   "execution_count": 8,
   "metadata": {
    "pycharm": {
     "name": "#%%\n"
    }
   },
   "outputs": [
    {
     "data": {
      "text/plain": "         년월   시구  시군구 계약구분  고객호수(호)     사용량(kWh)\n53   201201  강원도  강릉시  일반용  15,817   43,600,925 \n197  201202  강원도  강릉시  일반용  15,908   43,385,435 \n341  201203  강원도  강릉시  일반용  15,948   39,233,079 \n485  201204  강원도  강릉시  일반용  16,038   36,768,763 \n629  201205  강원도  강릉시  일반용  16,047   32,219,716 \n..      ...  ...  ...  ...      ...          ...\n333  201202  강원도  횡성군  일반용   3,972   11,294,392 \n477  201203  강원도  횡성군  일반용   3,969    9,348,124 \n621  201204  강원도  횡성군  일반용   3,967    7,937,749 \n765  201205  강원도  횡성군  일반용   3,984    6,986,071 \n909  201206  강원도  횡성군  일반용   3,995    7,187,470 \n\n[108 rows x 6 columns]",
      "text/html": "<div>\n<style scoped>\n    .dataframe tbody tr th:only-of-type {\n        vertical-align: middle;\n    }\n\n    .dataframe tbody tr th {\n        vertical-align: top;\n    }\n\n    .dataframe thead th {\n        text-align: right;\n    }\n</style>\n<table border=\"1\" class=\"dataframe\">\n  <thead>\n    <tr style=\"text-align: right;\">\n      <th></th>\n      <th>년월</th>\n      <th>시구</th>\n      <th>시군구</th>\n      <th>계약구분</th>\n      <th>고객호수(호)</th>\n      <th>사용량(kWh)</th>\n    </tr>\n  </thead>\n  <tbody>\n    <tr>\n      <th>53</th>\n      <td>201201</td>\n      <td>강원도</td>\n      <td>강릉시</td>\n      <td>일반용</td>\n      <td>15,817</td>\n      <td>43,600,925</td>\n    </tr>\n    <tr>\n      <th>197</th>\n      <td>201202</td>\n      <td>강원도</td>\n      <td>강릉시</td>\n      <td>일반용</td>\n      <td>15,908</td>\n      <td>43,385,435</td>\n    </tr>\n    <tr>\n      <th>341</th>\n      <td>201203</td>\n      <td>강원도</td>\n      <td>강릉시</td>\n      <td>일반용</td>\n      <td>15,948</td>\n      <td>39,233,079</td>\n    </tr>\n    <tr>\n      <th>485</th>\n      <td>201204</td>\n      <td>강원도</td>\n      <td>강릉시</td>\n      <td>일반용</td>\n      <td>16,038</td>\n      <td>36,768,763</td>\n    </tr>\n    <tr>\n      <th>629</th>\n      <td>201205</td>\n      <td>강원도</td>\n      <td>강릉시</td>\n      <td>일반용</td>\n      <td>16,047</td>\n      <td>32,219,716</td>\n    </tr>\n    <tr>\n      <th>...</th>\n      <td>...</td>\n      <td>...</td>\n      <td>...</td>\n      <td>...</td>\n      <td>...</td>\n      <td>...</td>\n    </tr>\n    <tr>\n      <th>333</th>\n      <td>201202</td>\n      <td>강원도</td>\n      <td>횡성군</td>\n      <td>일반용</td>\n      <td>3,972</td>\n      <td>11,294,392</td>\n    </tr>\n    <tr>\n      <th>477</th>\n      <td>201203</td>\n      <td>강원도</td>\n      <td>횡성군</td>\n      <td>일반용</td>\n      <td>3,969</td>\n      <td>9,348,124</td>\n    </tr>\n    <tr>\n      <th>621</th>\n      <td>201204</td>\n      <td>강원도</td>\n      <td>횡성군</td>\n      <td>일반용</td>\n      <td>3,967</td>\n      <td>7,937,749</td>\n    </tr>\n    <tr>\n      <th>765</th>\n      <td>201205</td>\n      <td>강원도</td>\n      <td>횡성군</td>\n      <td>일반용</td>\n      <td>3,984</td>\n      <td>6,986,071</td>\n    </tr>\n    <tr>\n      <th>909</th>\n      <td>201206</td>\n      <td>강원도</td>\n      <td>횡성군</td>\n      <td>일반용</td>\n      <td>3,995</td>\n      <td>7,187,470</td>\n    </tr>\n  </tbody>\n</table>\n<p>108 rows × 6 columns</p>\n</div>"
     },
     "execution_count": 8,
     "metadata": {},
     "output_type": "execute_result"
    }
   ],
   "source": [
    "df_3 = df.loc[48:]\n",
    "df_3 = df_3.loc[(df_3['계약구분'] == '일반용')]\n",
    "df_3 = df_3.sort_values(by=['시군구' , '년월'])\n",
    "df_3.drop(['전기요금(원)',   '평균판매단가(원/kWh)'] , axis = 1 , inplace = True)\n",
    "df_3"
   ]
  },
  {
   "cell_type": "code",
   "execution_count": 9,
   "metadata": {
    "pycharm": {
     "name": "#%%\n"
    }
   },
   "outputs": [
    {
     "data": {
      "text/plain": "['강릉시',\n '고성군',\n '동해시',\n '삼척시',\n '속초시',\n '양구군',\n '양양군',\n '영월군',\n '원주시',\n '인제군',\n '정선군',\n '철원군',\n '춘천시',\n '태백시',\n '평창군',\n '홍천군',\n '화천군',\n '횡성군']"
     },
     "execution_count": 9,
     "metadata": {},
     "output_type": "execute_result"
    }
   ],
   "source": [
    "SIGUNGU = list(set(df_3.loc[: , '시군구'].tolist()))\n",
    "SIGUNGU.sort()\n",
    "SIGUNGU"
   ]
  },
  {
   "cell_type": "code",
   "execution_count": 10,
   "outputs": [
    {
     "data": {
      "text/plain": "0      201201\n1      201202\n2      201203\n3      201204\n4      201205\n        ...  \n103    201202\n104    201203\n105    201204\n106    201205\n107    201206\nName: 년월, Length: 108, dtype: object"
     },
     "execution_count": 10,
     "metadata": {},
     "output_type": "execute_result"
    }
   ],
   "source": [
    "Time = df_3['년월']\n",
    "Time.reset_index(drop=True , inplace = True)\n",
    "Time"
   ],
   "metadata": {
    "collapsed": false,
    "pycharm": {
     "name": "#%%\n"
    }
   }
  },
  {
   "cell_type": "code",
   "execution_count": 11,
   "outputs": [
    {
     "data": {
      "text/plain": "'강원도'"
     },
     "execution_count": 11,
     "metadata": {},
     "output_type": "execute_result"
    }
   ],
   "source": [
    "a = df_3.loc[: , \"시구\"]\n",
    "b = a[:1].tolist()\n",
    "for i in b:\n",
    "    City = i\n",
    "City"
   ],
   "metadata": {
    "collapsed": false,
    "pycharm": {
     "name": "#%%\n"
    }
   }
  },
  {
   "cell_type": "code",
   "execution_count": 12,
   "metadata": {
    "pycharm": {
     "name": "#%%\n"
    }
   },
   "outputs": [
    {
     "data": {
      "text/plain": "         년월   시구  시군구 계약구분   고객호수(호)      사용량(kWh)\n55   201201  강원도  강릉시   합계  115,156   178,003,754 \n199  201202  강원도  강릉시   합계  115,296   175,989,804 \n343  201203  강원도  강릉시   합계  115,761   174,353,850 \n487  201204  강원도  강릉시   합계  115,615   170,257,323 \n631  201205  강원도  강릉시   합계  115,733   158,449,074 \n..      ...  ...  ...  ...       ...           ...\n335  201202  강원도  횡성군   합계   42,192    60,212,523 \n479  201203  강원도  횡성군   합계   44,220    51,647,191 \n623  201204  강원도  횡성군   합계   42,339    45,526,205 \n767  201205  강원도  횡성군   합계   42,409    35,349,184 \n911  201206  강원도  횡성군   합계   42,581    31,963,793 \n\n[108 rows x 6 columns]",
      "text/html": "<div>\n<style scoped>\n    .dataframe tbody tr th:only-of-type {\n        vertical-align: middle;\n    }\n\n    .dataframe tbody tr th {\n        vertical-align: top;\n    }\n\n    .dataframe thead th {\n        text-align: right;\n    }\n</style>\n<table border=\"1\" class=\"dataframe\">\n  <thead>\n    <tr style=\"text-align: right;\">\n      <th></th>\n      <th>년월</th>\n      <th>시구</th>\n      <th>시군구</th>\n      <th>계약구분</th>\n      <th>고객호수(호)</th>\n      <th>사용량(kWh)</th>\n    </tr>\n  </thead>\n  <tbody>\n    <tr>\n      <th>55</th>\n      <td>201201</td>\n      <td>강원도</td>\n      <td>강릉시</td>\n      <td>합계</td>\n      <td>115,156</td>\n      <td>178,003,754</td>\n    </tr>\n    <tr>\n      <th>199</th>\n      <td>201202</td>\n      <td>강원도</td>\n      <td>강릉시</td>\n      <td>합계</td>\n      <td>115,296</td>\n      <td>175,989,804</td>\n    </tr>\n    <tr>\n      <th>343</th>\n      <td>201203</td>\n      <td>강원도</td>\n      <td>강릉시</td>\n      <td>합계</td>\n      <td>115,761</td>\n      <td>174,353,850</td>\n    </tr>\n    <tr>\n      <th>487</th>\n      <td>201204</td>\n      <td>강원도</td>\n      <td>강릉시</td>\n      <td>합계</td>\n      <td>115,615</td>\n      <td>170,257,323</td>\n    </tr>\n    <tr>\n      <th>631</th>\n      <td>201205</td>\n      <td>강원도</td>\n      <td>강릉시</td>\n      <td>합계</td>\n      <td>115,733</td>\n      <td>158,449,074</td>\n    </tr>\n    <tr>\n      <th>...</th>\n      <td>...</td>\n      <td>...</td>\n      <td>...</td>\n      <td>...</td>\n      <td>...</td>\n      <td>...</td>\n    </tr>\n    <tr>\n      <th>335</th>\n      <td>201202</td>\n      <td>강원도</td>\n      <td>횡성군</td>\n      <td>합계</td>\n      <td>42,192</td>\n      <td>60,212,523</td>\n    </tr>\n    <tr>\n      <th>479</th>\n      <td>201203</td>\n      <td>강원도</td>\n      <td>횡성군</td>\n      <td>합계</td>\n      <td>44,220</td>\n      <td>51,647,191</td>\n    </tr>\n    <tr>\n      <th>623</th>\n      <td>201204</td>\n      <td>강원도</td>\n      <td>횡성군</td>\n      <td>합계</td>\n      <td>42,339</td>\n      <td>45,526,205</td>\n    </tr>\n    <tr>\n      <th>767</th>\n      <td>201205</td>\n      <td>강원도</td>\n      <td>횡성군</td>\n      <td>합계</td>\n      <td>42,409</td>\n      <td>35,349,184</td>\n    </tr>\n    <tr>\n      <th>911</th>\n      <td>201206</td>\n      <td>강원도</td>\n      <td>횡성군</td>\n      <td>합계</td>\n      <td>42,581</td>\n      <td>31,963,793</td>\n    </tr>\n  </tbody>\n</table>\n<p>108 rows × 6 columns</p>\n</div>"
     },
     "execution_count": 12,
     "metadata": {},
     "output_type": "execute_result"
    }
   ],
   "source": [
    "df_4 = df.loc[48:]\n",
    "df_4 = df_4.loc[(df_4['계약구분'] == '합계')]\n",
    "df_4 = df_4.sort_values(by=['시군구' , '년월'])\n",
    "df_4.drop(['전기요금(원)',   '평균판매단가(원/kWh)'] , axis = 1 , inplace = True)\n",
    "df_4"
   ]
  },
  {
   "cell_type": "code",
   "execution_count": 13,
   "metadata": {
    "pycharm": {
     "name": "#%%\n"
    }
   },
   "outputs": [
    {
     "data": {
      "text/plain": "['년월', '시구', '시군구', '계약구분', '고객호수(호)', '사용량(kWh)']"
     },
     "execution_count": 13,
     "metadata": {},
     "output_type": "execute_result"
    }
   ],
   "source": [
    "a = (df_3.columns).tolist()\n",
    "\n",
    "a"
   ]
  },
  {
   "cell_type": "code",
   "execution_count": 14,
   "metadata": {
    "pycharm": {
     "name": "#%%\n"
    }
   },
   "outputs": [
    {
     "data": {
      "text/plain": "         년월   시구  시군구 계약구분  고객호수(호)     사용량(kWh)\n53   201201  강원도  강릉시  일반용  15,817   43,600,925 \n197  201202  강원도  강릉시  일반용  15,908   43,385,435 \n341  201203  강원도  강릉시  일반용  15,948   39,233,079 \n485  201204  강원도  강릉시  일반용  16,038   36,768,763 \n629  201205  강원도  강릉시  일반용  16,047   32,219,716 \n..      ...  ...  ...  ...      ...          ...\n333  201202  강원도  횡성군  일반용   3,972   11,294,392 \n477  201203  강원도  횡성군  일반용   3,969    9,348,124 \n621  201204  강원도  횡성군  일반용   3,967    7,937,749 \n765  201205  강원도  횡성군  일반용   3,984    6,986,071 \n909  201206  강원도  횡성군  일반용   3,995    7,187,470 \n\n[108 rows x 6 columns]",
      "text/html": "<div>\n<style scoped>\n    .dataframe tbody tr th:only-of-type {\n        vertical-align: middle;\n    }\n\n    .dataframe tbody tr th {\n        vertical-align: top;\n    }\n\n    .dataframe thead th {\n        text-align: right;\n    }\n</style>\n<table border=\"1\" class=\"dataframe\">\n  <thead>\n    <tr style=\"text-align: right;\">\n      <th></th>\n      <th>년월</th>\n      <th>시구</th>\n      <th>시군구</th>\n      <th>계약구분</th>\n      <th>고객호수(호)</th>\n      <th>사용량(kWh)</th>\n    </tr>\n  </thead>\n  <tbody>\n    <tr>\n      <th>53</th>\n      <td>201201</td>\n      <td>강원도</td>\n      <td>강릉시</td>\n      <td>일반용</td>\n      <td>15,817</td>\n      <td>43,600,925</td>\n    </tr>\n    <tr>\n      <th>197</th>\n      <td>201202</td>\n      <td>강원도</td>\n      <td>강릉시</td>\n      <td>일반용</td>\n      <td>15,908</td>\n      <td>43,385,435</td>\n    </tr>\n    <tr>\n      <th>341</th>\n      <td>201203</td>\n      <td>강원도</td>\n      <td>강릉시</td>\n      <td>일반용</td>\n      <td>15,948</td>\n      <td>39,233,079</td>\n    </tr>\n    <tr>\n      <th>485</th>\n      <td>201204</td>\n      <td>강원도</td>\n      <td>강릉시</td>\n      <td>일반용</td>\n      <td>16,038</td>\n      <td>36,768,763</td>\n    </tr>\n    <tr>\n      <th>629</th>\n      <td>201205</td>\n      <td>강원도</td>\n      <td>강릉시</td>\n      <td>일반용</td>\n      <td>16,047</td>\n      <td>32,219,716</td>\n    </tr>\n    <tr>\n      <th>...</th>\n      <td>...</td>\n      <td>...</td>\n      <td>...</td>\n      <td>...</td>\n      <td>...</td>\n      <td>...</td>\n    </tr>\n    <tr>\n      <th>333</th>\n      <td>201202</td>\n      <td>강원도</td>\n      <td>횡성군</td>\n      <td>일반용</td>\n      <td>3,972</td>\n      <td>11,294,392</td>\n    </tr>\n    <tr>\n      <th>477</th>\n      <td>201203</td>\n      <td>강원도</td>\n      <td>횡성군</td>\n      <td>일반용</td>\n      <td>3,969</td>\n      <td>9,348,124</td>\n    </tr>\n    <tr>\n      <th>621</th>\n      <td>201204</td>\n      <td>강원도</td>\n      <td>횡성군</td>\n      <td>일반용</td>\n      <td>3,967</td>\n      <td>7,937,749</td>\n    </tr>\n    <tr>\n      <th>765</th>\n      <td>201205</td>\n      <td>강원도</td>\n      <td>횡성군</td>\n      <td>일반용</td>\n      <td>3,984</td>\n      <td>6,986,071</td>\n    </tr>\n    <tr>\n      <th>909</th>\n      <td>201206</td>\n      <td>강원도</td>\n      <td>횡성군</td>\n      <td>일반용</td>\n      <td>3,995</td>\n      <td>7,187,470</td>\n    </tr>\n  </tbody>\n</table>\n<p>108 rows × 6 columns</p>\n</div>"
     },
     "execution_count": 14,
     "metadata": {},
     "output_type": "execute_result"
    }
   ],
   "source": [
    "df_3"
   ]
  },
  {
   "cell_type": "code",
   "execution_count": 15,
   "metadata": {
    "pycharm": {
     "name": "#%%\n"
    }
   },
   "outputs": [
    {
     "data": {
      "text/plain": "         년월   시구  시군구 계약구분   고객호수(호)      사용량(kWh)\n53   201201  강원도  강릉시  일반용   15,817    43,600,925 \n55   201201  강원도  강릉시   합계  115,156   178,003,754 \n197  201202  강원도  강릉시  일반용   15,908    43,385,435 \n199  201202  강원도  강릉시   합계  115,296   175,989,804 \n341  201203  강원도  강릉시  일반용   15,948    39,233,079 \n..      ...  ...  ...  ...       ...           ...\n623  201204  강원도  횡성군   합계   42,339    45,526,205 \n765  201205  강원도  횡성군  일반용    3,984     6,986,071 \n767  201205  강원도  횡성군   합계   42,409    35,349,184 \n909  201206  강원도  횡성군  일반용    3,995     7,187,470 \n911  201206  강원도  횡성군   합계   42,581    31,963,793 \n\n[216 rows x 6 columns]",
      "text/html": "<div>\n<style scoped>\n    .dataframe tbody tr th:only-of-type {\n        vertical-align: middle;\n    }\n\n    .dataframe tbody tr th {\n        vertical-align: top;\n    }\n\n    .dataframe thead th {\n        text-align: right;\n    }\n</style>\n<table border=\"1\" class=\"dataframe\">\n  <thead>\n    <tr style=\"text-align: right;\">\n      <th></th>\n      <th>년월</th>\n      <th>시구</th>\n      <th>시군구</th>\n      <th>계약구분</th>\n      <th>고객호수(호)</th>\n      <th>사용량(kWh)</th>\n    </tr>\n  </thead>\n  <tbody>\n    <tr>\n      <th>53</th>\n      <td>201201</td>\n      <td>강원도</td>\n      <td>강릉시</td>\n      <td>일반용</td>\n      <td>15,817</td>\n      <td>43,600,925</td>\n    </tr>\n    <tr>\n      <th>55</th>\n      <td>201201</td>\n      <td>강원도</td>\n      <td>강릉시</td>\n      <td>합계</td>\n      <td>115,156</td>\n      <td>178,003,754</td>\n    </tr>\n    <tr>\n      <th>197</th>\n      <td>201202</td>\n      <td>강원도</td>\n      <td>강릉시</td>\n      <td>일반용</td>\n      <td>15,908</td>\n      <td>43,385,435</td>\n    </tr>\n    <tr>\n      <th>199</th>\n      <td>201202</td>\n      <td>강원도</td>\n      <td>강릉시</td>\n      <td>합계</td>\n      <td>115,296</td>\n      <td>175,989,804</td>\n    </tr>\n    <tr>\n      <th>341</th>\n      <td>201203</td>\n      <td>강원도</td>\n      <td>강릉시</td>\n      <td>일반용</td>\n      <td>15,948</td>\n      <td>39,233,079</td>\n    </tr>\n    <tr>\n      <th>...</th>\n      <td>...</td>\n      <td>...</td>\n      <td>...</td>\n      <td>...</td>\n      <td>...</td>\n      <td>...</td>\n    </tr>\n    <tr>\n      <th>623</th>\n      <td>201204</td>\n      <td>강원도</td>\n      <td>횡성군</td>\n      <td>합계</td>\n      <td>42,339</td>\n      <td>45,526,205</td>\n    </tr>\n    <tr>\n      <th>765</th>\n      <td>201205</td>\n      <td>강원도</td>\n      <td>횡성군</td>\n      <td>일반용</td>\n      <td>3,984</td>\n      <td>6,986,071</td>\n    </tr>\n    <tr>\n      <th>767</th>\n      <td>201205</td>\n      <td>강원도</td>\n      <td>횡성군</td>\n      <td>합계</td>\n      <td>42,409</td>\n      <td>35,349,184</td>\n    </tr>\n    <tr>\n      <th>909</th>\n      <td>201206</td>\n      <td>강원도</td>\n      <td>횡성군</td>\n      <td>일반용</td>\n      <td>3,995</td>\n      <td>7,187,470</td>\n    </tr>\n    <tr>\n      <th>911</th>\n      <td>201206</td>\n      <td>강원도</td>\n      <td>횡성군</td>\n      <td>합계</td>\n      <td>42,581</td>\n      <td>31,963,793</td>\n    </tr>\n  </tbody>\n</table>\n<p>216 rows × 6 columns</p>\n</div>"
     },
     "execution_count": 15,
     "metadata": {},
     "output_type": "execute_result"
    }
   ],
   "source": [
    "\n",
    "df_5 = pd.concat([df_4 , df_3])\n",
    "df_5 = df_5.sort_values(by=['시군구' , '년월' , '계약구분'])\n",
    "df_5"
   ]
  },
  {
   "cell_type": "code",
   "execution_count": 16,
   "outputs": [
    {
     "data": {
      "text/plain": "         년월   시구  시군구 계약구분  고객호수(호)     사용량(kWh)\n53   201201  강원도  강릉시  일반용  15,817   43,600,925 \n197  201202  강원도  강릉시  일반용  15,908   43,385,435 \n341  201203  강원도  강릉시  일반용  15,948   39,233,079 \n485  201204  강원도  강릉시  일반용  16,038   36,768,763 \n629  201205  강원도  강릉시  일반용  16,047   32,219,716 \n..      ...  ...  ...  ...      ...          ...\n333  201202  강원도  횡성군  일반용   3,972   11,294,392 \n477  201203  강원도  횡성군  일반용   3,969    9,348,124 \n621  201204  강원도  횡성군  일반용   3,967    7,937,749 \n765  201205  강원도  횡성군  일반용   3,984    6,986,071 \n909  201206  강원도  횡성군  일반용   3,995    7,187,470 \n\n[108 rows x 6 columns]",
      "text/html": "<div>\n<style scoped>\n    .dataframe tbody tr th:only-of-type {\n        vertical-align: middle;\n    }\n\n    .dataframe tbody tr th {\n        vertical-align: top;\n    }\n\n    .dataframe thead th {\n        text-align: right;\n    }\n</style>\n<table border=\"1\" class=\"dataframe\">\n  <thead>\n    <tr style=\"text-align: right;\">\n      <th></th>\n      <th>년월</th>\n      <th>시구</th>\n      <th>시군구</th>\n      <th>계약구분</th>\n      <th>고객호수(호)</th>\n      <th>사용량(kWh)</th>\n    </tr>\n  </thead>\n  <tbody>\n    <tr>\n      <th>53</th>\n      <td>201201</td>\n      <td>강원도</td>\n      <td>강릉시</td>\n      <td>일반용</td>\n      <td>15,817</td>\n      <td>43,600,925</td>\n    </tr>\n    <tr>\n      <th>197</th>\n      <td>201202</td>\n      <td>강원도</td>\n      <td>강릉시</td>\n      <td>일반용</td>\n      <td>15,908</td>\n      <td>43,385,435</td>\n    </tr>\n    <tr>\n      <th>341</th>\n      <td>201203</td>\n      <td>강원도</td>\n      <td>강릉시</td>\n      <td>일반용</td>\n      <td>15,948</td>\n      <td>39,233,079</td>\n    </tr>\n    <tr>\n      <th>485</th>\n      <td>201204</td>\n      <td>강원도</td>\n      <td>강릉시</td>\n      <td>일반용</td>\n      <td>16,038</td>\n      <td>36,768,763</td>\n    </tr>\n    <tr>\n      <th>629</th>\n      <td>201205</td>\n      <td>강원도</td>\n      <td>강릉시</td>\n      <td>일반용</td>\n      <td>16,047</td>\n      <td>32,219,716</td>\n    </tr>\n    <tr>\n      <th>...</th>\n      <td>...</td>\n      <td>...</td>\n      <td>...</td>\n      <td>...</td>\n      <td>...</td>\n      <td>...</td>\n    </tr>\n    <tr>\n      <th>333</th>\n      <td>201202</td>\n      <td>강원도</td>\n      <td>횡성군</td>\n      <td>일반용</td>\n      <td>3,972</td>\n      <td>11,294,392</td>\n    </tr>\n    <tr>\n      <th>477</th>\n      <td>201203</td>\n      <td>강원도</td>\n      <td>횡성군</td>\n      <td>일반용</td>\n      <td>3,969</td>\n      <td>9,348,124</td>\n    </tr>\n    <tr>\n      <th>621</th>\n      <td>201204</td>\n      <td>강원도</td>\n      <td>횡성군</td>\n      <td>일반용</td>\n      <td>3,967</td>\n      <td>7,937,749</td>\n    </tr>\n    <tr>\n      <th>765</th>\n      <td>201205</td>\n      <td>강원도</td>\n      <td>횡성군</td>\n      <td>일반용</td>\n      <td>3,984</td>\n      <td>6,986,071</td>\n    </tr>\n    <tr>\n      <th>909</th>\n      <td>201206</td>\n      <td>강원도</td>\n      <td>횡성군</td>\n      <td>일반용</td>\n      <td>3,995</td>\n      <td>7,187,470</td>\n    </tr>\n  </tbody>\n</table>\n<p>108 rows × 6 columns</p>\n</div>"
     },
     "execution_count": 16,
     "metadata": {},
     "output_type": "execute_result"
    }
   ],
   "source": [
    "df_3 ##일반용"
   ],
   "metadata": {
    "collapsed": false,
    "pycharm": {
     "name": "#%%\n"
    }
   }
  },
  {
   "cell_type": "code",
   "execution_count": 17,
   "outputs": [
    {
     "data": {
      "text/plain": "         년월   시구  시군구 계약구분   고객호수(호)      사용량(kWh)\n55   201201  강원도  강릉시   합계  115,156   178,003,754 \n199  201202  강원도  강릉시   합계  115,296   175,989,804 \n343  201203  강원도  강릉시   합계  115,761   174,353,850 \n487  201204  강원도  강릉시   합계  115,615   170,257,323 \n631  201205  강원도  강릉시   합계  115,733   158,449,074 \n..      ...  ...  ...  ...       ...           ...\n335  201202  강원도  횡성군   합계   42,192    60,212,523 \n479  201203  강원도  횡성군   합계   44,220    51,647,191 \n623  201204  강원도  횡성군   합계   42,339    45,526,205 \n767  201205  강원도  횡성군   합계   42,409    35,349,184 \n911  201206  강원도  횡성군   합계   42,581    31,963,793 \n\n[108 rows x 6 columns]",
      "text/html": "<div>\n<style scoped>\n    .dataframe tbody tr th:only-of-type {\n        vertical-align: middle;\n    }\n\n    .dataframe tbody tr th {\n        vertical-align: top;\n    }\n\n    .dataframe thead th {\n        text-align: right;\n    }\n</style>\n<table border=\"1\" class=\"dataframe\">\n  <thead>\n    <tr style=\"text-align: right;\">\n      <th></th>\n      <th>년월</th>\n      <th>시구</th>\n      <th>시군구</th>\n      <th>계약구분</th>\n      <th>고객호수(호)</th>\n      <th>사용량(kWh)</th>\n    </tr>\n  </thead>\n  <tbody>\n    <tr>\n      <th>55</th>\n      <td>201201</td>\n      <td>강원도</td>\n      <td>강릉시</td>\n      <td>합계</td>\n      <td>115,156</td>\n      <td>178,003,754</td>\n    </tr>\n    <tr>\n      <th>199</th>\n      <td>201202</td>\n      <td>강원도</td>\n      <td>강릉시</td>\n      <td>합계</td>\n      <td>115,296</td>\n      <td>175,989,804</td>\n    </tr>\n    <tr>\n      <th>343</th>\n      <td>201203</td>\n      <td>강원도</td>\n      <td>강릉시</td>\n      <td>합계</td>\n      <td>115,761</td>\n      <td>174,353,850</td>\n    </tr>\n    <tr>\n      <th>487</th>\n      <td>201204</td>\n      <td>강원도</td>\n      <td>강릉시</td>\n      <td>합계</td>\n      <td>115,615</td>\n      <td>170,257,323</td>\n    </tr>\n    <tr>\n      <th>631</th>\n      <td>201205</td>\n      <td>강원도</td>\n      <td>강릉시</td>\n      <td>합계</td>\n      <td>115,733</td>\n      <td>158,449,074</td>\n    </tr>\n    <tr>\n      <th>...</th>\n      <td>...</td>\n      <td>...</td>\n      <td>...</td>\n      <td>...</td>\n      <td>...</td>\n      <td>...</td>\n    </tr>\n    <tr>\n      <th>335</th>\n      <td>201202</td>\n      <td>강원도</td>\n      <td>횡성군</td>\n      <td>합계</td>\n      <td>42,192</td>\n      <td>60,212,523</td>\n    </tr>\n    <tr>\n      <th>479</th>\n      <td>201203</td>\n      <td>강원도</td>\n      <td>횡성군</td>\n      <td>합계</td>\n      <td>44,220</td>\n      <td>51,647,191</td>\n    </tr>\n    <tr>\n      <th>623</th>\n      <td>201204</td>\n      <td>강원도</td>\n      <td>횡성군</td>\n      <td>합계</td>\n      <td>42,339</td>\n      <td>45,526,205</td>\n    </tr>\n    <tr>\n      <th>767</th>\n      <td>201205</td>\n      <td>강원도</td>\n      <td>횡성군</td>\n      <td>합계</td>\n      <td>42,409</td>\n      <td>35,349,184</td>\n    </tr>\n    <tr>\n      <th>911</th>\n      <td>201206</td>\n      <td>강원도</td>\n      <td>횡성군</td>\n      <td>합계</td>\n      <td>42,581</td>\n      <td>31,963,793</td>\n    </tr>\n  </tbody>\n</table>\n<p>108 rows × 6 columns</p>\n</div>"
     },
     "execution_count": 17,
     "metadata": {},
     "output_type": "execute_result"
    }
   ],
   "source": [
    "df_4 ## 합계"
   ],
   "metadata": {
    "collapsed": false,
    "pycharm": {
     "name": "#%%\n"
    }
   }
  },
  {
   "cell_type": "code",
   "execution_count": 18,
   "outputs": [
    {
     "name": "stdout",
     "output_type": "stream",
     "text": [
      "[24.494385101563644, 24.65224349019674, 22.501986047339937, 21.595995022193552, 20.334429975905067, 21.041095495344212, 35.146080693327534, 34.80900429281341, 34.94710970609061, 34.69024747042886, 38.227317911663185, 40.99295600675552, 6.628880150948873, 6.943874149728425, 6.109135662582969, 5.928153660640708, 5.042558177771751, 5.182421185464581, 11.777685176614744, 13.525073770775068, 10.882187046464045, 10.124383217066363, 9.799447087519814, 9.878989929017473, 46.76039009696476, 46.16696122173153, 45.945790651485574, 45.46647812244964, 48.29393837914842, 50.91041408819525, 42.460283757437686, 31.231895557491608, 31.305493823184683, 32.18902299274751, 35.645191406169516, 39.97381680525612, 38.105548098219174, 38.01663130271384, 39.324056398581206, 39.115926198482654, 42.3924001300093, 45.0252624511146, 8.809527322749824, 10.777498713639842, 6.384749944909801, 6.39514579051677, 5.747710303168971, 6.258392737290916, 28.07539057695141, 27.63197634811046, 26.57774392985745, 27.093148714528997, 28.213819206293334, 30.973548929717726, 36.73742538544515, 35.37650181166858, 35.998061154596215, 36.62976045158467, 40.72398645254613, 45.488865213242605, 33.33449000846591, 32.111193170606725, 29.082591070684867, 26.288954760880905, 27.579412783436503, 27.844761864553952, 29.07097432692386, 28.280816459448904, 28.429817568631254, 28.525160914191787, 30.030257863518006, 33.30082040465659, 35.6696794294835, 35.7165163707607, 34.93481313363619, 34.86661710160644, 38.19113530237738, 42.30750505770312, 28.797970289668267, 27.816858030458924, 26.080280167036403, 26.235386630344166, 25.91373509789447, 26.10266588203744, 36.45138490222783, 33.87539746207588, 32.063849858543264, 30.499366975525362, 35.94660345174117, 39.89198144933635, 29.475365158808632, 28.365191394596394, 27.318361723612828, 27.169554799321332, 32.60979856745813, 35.746349289937925, 39.955172536707906, 39.92325446414645, 39.44826189588822, 40.42787147441116, 44.00952678722723, 48.17648195323312, 19.60343040126728, 18.757546499089568, 18.099965978788664, 17.435560464572, 19.763033285294508, 22.486286280229635]\n",
      "108\n"
     ]
    }
   ],
   "source": [
    "#sum2 , sum3 =[] , []\n",
    "rate = []\n",
    "for k in SIGUNGU:\n",
    "    Hap = pd.DataFrame([] , columns = a)\n",
    "    Hap2 = pd.DataFrame([] , columns = a)\n",
    "\n",
    "    Hap['사용량_일반용']= df_3['사용량(kWh)'].loc[(df_3['시군구'] == '{}'.format(k))]\n",
    "    Hap2['사용량_합계']= df_4['사용량(kWh)'].loc[(df_4['시군구'] == '{}'.format(k))]\n",
    "\n",
    "    b = Hap['사용량_일반용'].tolist()\n",
    "\n",
    "    c = Hap2['사용량_합계'].tolist()\n",
    "\n",
    "    int_list , int_list2 = [] , []\n",
    "    for i in b:\n",
    "         i = re.sub(\",\" , \"\" , i)\n",
    "         #콤마 없애기\n",
    "         int_list.append(int(i))\n",
    "\n",
    "    for i in c:\n",
    "         i = re.sub(\",\" , \"\" , i)\n",
    "         int_list2.append(int(i))\n",
    "\n",
    "\n",
    "\n",
    "    for i in range(len(int_list)):\n",
    "        rate2 = 0\n",
    "        rate2 = int_list[i] / int_list2[i] *100\n",
    "        rate.append(rate2)\n",
    "print(rate)\n",
    "\n",
    "print(len(rate))\n",
    "\n",
    "#print(\"{} 지역별 합계 : \".format(City) , sum2)\n",
    "#print(\"{} 고객호수 평균: \".format(City) , sum3)"
   ],
   "metadata": {
    "collapsed": false,
    "pycharm": {
     "name": "#%%\n"
    }
   }
  },
  {
   "cell_type": "code",
   "execution_count": 19,
   "outputs": [
    {
     "data": {
      "text/plain": "         년월   시구  시군구 계약구분   고객호수(호)      사용량(kWh)\n53   201201  강원도  강릉시  일반용   15,817    43,600,925 \n55   201201  강원도  강릉시   합계  115,156   178,003,754 \n197  201202  강원도  강릉시  일반용   15,908    43,385,435 \n199  201202  강원도  강릉시   합계  115,296   175,989,804 \n341  201203  강원도  강릉시  일반용   15,948    39,233,079 \n..      ...  ...  ...  ...       ...           ...\n623  201204  강원도  횡성군   합계   42,339    45,526,205 \n765  201205  강원도  횡성군  일반용    3,984     6,986,071 \n767  201205  강원도  횡성군   합계   42,409    35,349,184 \n909  201206  강원도  횡성군  일반용    3,995     7,187,470 \n911  201206  강원도  횡성군   합계   42,581    31,963,793 \n\n[216 rows x 6 columns]",
      "text/html": "<div>\n<style scoped>\n    .dataframe tbody tr th:only-of-type {\n        vertical-align: middle;\n    }\n\n    .dataframe tbody tr th {\n        vertical-align: top;\n    }\n\n    .dataframe thead th {\n        text-align: right;\n    }\n</style>\n<table border=\"1\" class=\"dataframe\">\n  <thead>\n    <tr style=\"text-align: right;\">\n      <th></th>\n      <th>년월</th>\n      <th>시구</th>\n      <th>시군구</th>\n      <th>계약구분</th>\n      <th>고객호수(호)</th>\n      <th>사용량(kWh)</th>\n    </tr>\n  </thead>\n  <tbody>\n    <tr>\n      <th>53</th>\n      <td>201201</td>\n      <td>강원도</td>\n      <td>강릉시</td>\n      <td>일반용</td>\n      <td>15,817</td>\n      <td>43,600,925</td>\n    </tr>\n    <tr>\n      <th>55</th>\n      <td>201201</td>\n      <td>강원도</td>\n      <td>강릉시</td>\n      <td>합계</td>\n      <td>115,156</td>\n      <td>178,003,754</td>\n    </tr>\n    <tr>\n      <th>197</th>\n      <td>201202</td>\n      <td>강원도</td>\n      <td>강릉시</td>\n      <td>일반용</td>\n      <td>15,908</td>\n      <td>43,385,435</td>\n    </tr>\n    <tr>\n      <th>199</th>\n      <td>201202</td>\n      <td>강원도</td>\n      <td>강릉시</td>\n      <td>합계</td>\n      <td>115,296</td>\n      <td>175,989,804</td>\n    </tr>\n    <tr>\n      <th>341</th>\n      <td>201203</td>\n      <td>강원도</td>\n      <td>강릉시</td>\n      <td>일반용</td>\n      <td>15,948</td>\n      <td>39,233,079</td>\n    </tr>\n    <tr>\n      <th>...</th>\n      <td>...</td>\n      <td>...</td>\n      <td>...</td>\n      <td>...</td>\n      <td>...</td>\n      <td>...</td>\n    </tr>\n    <tr>\n      <th>623</th>\n      <td>201204</td>\n      <td>강원도</td>\n      <td>횡성군</td>\n      <td>합계</td>\n      <td>42,339</td>\n      <td>45,526,205</td>\n    </tr>\n    <tr>\n      <th>765</th>\n      <td>201205</td>\n      <td>강원도</td>\n      <td>횡성군</td>\n      <td>일반용</td>\n      <td>3,984</td>\n      <td>6,986,071</td>\n    </tr>\n    <tr>\n      <th>767</th>\n      <td>201205</td>\n      <td>강원도</td>\n      <td>횡성군</td>\n      <td>합계</td>\n      <td>42,409</td>\n      <td>35,349,184</td>\n    </tr>\n    <tr>\n      <th>909</th>\n      <td>201206</td>\n      <td>강원도</td>\n      <td>횡성군</td>\n      <td>일반용</td>\n      <td>3,995</td>\n      <td>7,187,470</td>\n    </tr>\n    <tr>\n      <th>911</th>\n      <td>201206</td>\n      <td>강원도</td>\n      <td>횡성군</td>\n      <td>합계</td>\n      <td>42,581</td>\n      <td>31,963,793</td>\n    </tr>\n  </tbody>\n</table>\n<p>216 rows × 6 columns</p>\n</div>"
     },
     "execution_count": 19,
     "metadata": {},
     "output_type": "execute_result"
    }
   ],
   "source": [
    "df_5"
   ],
   "metadata": {
    "collapsed": false,
    "pycharm": {
     "name": "#%%\n"
    }
   }
  },
  {
   "cell_type": "code",
   "execution_count": 20,
   "metadata": {
    "pycharm": {
     "name": "#%%\n"
    }
   },
   "outputs": [
    {
     "data": {
      "text/plain": "0      강릉시\n1      강릉시\n2      강릉시\n3      강릉시\n4      강릉시\n      ... \n103    횡성군\n104    횡성군\n105    횡성군\n106    횡성군\n107    횡성군\nName: 시군구, Length: 108, dtype: object"
     },
     "execution_count": 20,
     "metadata": {},
     "output_type": "execute_result"
    }
   ],
   "source": [
    "Rate = []\n",
    "ilban = []\n",
    "SIGUNGU_2 = df_4['시군구']\n",
    "SIGUNGU_2.reset_index(drop=True , inplace = True)\n",
    "SIGUNGU_2\n",
    "#date = df_5.loc['년월']\n",
    "#print(date)\n",
    "# rae = 0\n",
    "# for i in range(len(ex)):\n",
    "#     rae = round(ex[i] / ex_2[i] *100 ,2)\n",
    "#     Rate.append(rae)\n",
    "# print(Rate)"
   ]
  },
  {
   "cell_type": "code",
   "execution_count": 21,
   "outputs": [
    {
     "data": {
      "text/plain": "     비율\n0    24\n1    25\n2    23\n3    22\n4    20\n..   ..\n103  19\n104  18\n105  17\n106  20\n107  22\n\n[108 rows x 1 columns]",
      "text/html": "<div>\n<style scoped>\n    .dataframe tbody tr th:only-of-type {\n        vertical-align: middle;\n    }\n\n    .dataframe tbody tr th {\n        vertical-align: top;\n    }\n\n    .dataframe thead th {\n        text-align: right;\n    }\n</style>\n<table border=\"1\" class=\"dataframe\">\n  <thead>\n    <tr style=\"text-align: right;\">\n      <th></th>\n      <th>비율</th>\n    </tr>\n  </thead>\n  <tbody>\n    <tr>\n      <th>0</th>\n      <td>24</td>\n    </tr>\n    <tr>\n      <th>1</th>\n      <td>25</td>\n    </tr>\n    <tr>\n      <th>2</th>\n      <td>23</td>\n    </tr>\n    <tr>\n      <th>3</th>\n      <td>22</td>\n    </tr>\n    <tr>\n      <th>4</th>\n      <td>20</td>\n    </tr>\n    <tr>\n      <th>...</th>\n      <td>...</td>\n    </tr>\n    <tr>\n      <th>103</th>\n      <td>19</td>\n    </tr>\n    <tr>\n      <th>104</th>\n      <td>18</td>\n    </tr>\n    <tr>\n      <th>105</th>\n      <td>17</td>\n    </tr>\n    <tr>\n      <th>106</th>\n      <td>20</td>\n    </tr>\n    <tr>\n      <th>107</th>\n      <td>22</td>\n    </tr>\n  </tbody>\n</table>\n<p>108 rows × 1 columns</p>\n</div>"
     },
     "execution_count": 21,
     "metadata": {},
     "output_type": "execute_result"
    }
   ],
   "source": [
    "Rate3 = pd.DataFrame(rate)\n",
    "Rate3['비율'] = Rate3.iloc[:]\n",
    "Rate3.drop(Rate3.columns[0] , axis=1 , inplace=True)\n",
    "Rate3\n"
   ],
   "metadata": {
    "collapsed": false,
    "pycharm": {
     "name": "#%%\n"
    }
   }
  },
  {
   "cell_type": "code",
   "execution_count": 22,
   "outputs": [
    {
     "data": {
      "text/plain": "0      201201\n1      201202\n2      201203\n3      201204\n4      201205\n        ...  \n103    201202\n104    201203\n105    201204\n106    201205\n107    201206\nName: 년월, Length: 108, dtype: object"
     },
     "execution_count": 22,
     "metadata": {},
     "output_type": "execute_result"
    }
   ],
   "source": [
    "Time"
   ],
   "metadata": {
    "collapsed": false,
    "pycharm": {
     "name": "#%%\n"
    }
   }
  },
  {
   "cell_type": "code",
   "execution_count": 23,
   "outputs": [
    {
     "data": {
      "text/plain": "         년월  시군구 계약구분  비율\n0    201201  강릉시  일반용  24\n1    201202  강릉시  일반용  25\n2    201203  강릉시  일반용  23\n3    201204  강릉시  일반용  22\n4    201205  강릉시  일반용  20\n..      ...  ...  ...  ..\n103  201202  횡성군  일반용  19\n104  201203  횡성군  일반용  18\n105  201204  횡성군  일반용  17\n106  201205  횡성군  일반용  20\n107  201206  횡성군  일반용  22\n\n[108 rows x 4 columns]",
      "text/html": "<div>\n<style scoped>\n    .dataframe tbody tr th:only-of-type {\n        vertical-align: middle;\n    }\n\n    .dataframe tbody tr th {\n        vertical-align: top;\n    }\n\n    .dataframe thead th {\n        text-align: right;\n    }\n</style>\n<table border=\"1\" class=\"dataframe\">\n  <thead>\n    <tr style=\"text-align: right;\">\n      <th></th>\n      <th>년월</th>\n      <th>시군구</th>\n      <th>계약구분</th>\n      <th>비율</th>\n    </tr>\n  </thead>\n  <tbody>\n    <tr>\n      <th>0</th>\n      <td>201201</td>\n      <td>강릉시</td>\n      <td>일반용</td>\n      <td>24</td>\n    </tr>\n    <tr>\n      <th>1</th>\n      <td>201202</td>\n      <td>강릉시</td>\n      <td>일반용</td>\n      <td>25</td>\n    </tr>\n    <tr>\n      <th>2</th>\n      <td>201203</td>\n      <td>강릉시</td>\n      <td>일반용</td>\n      <td>23</td>\n    </tr>\n    <tr>\n      <th>3</th>\n      <td>201204</td>\n      <td>강릉시</td>\n      <td>일반용</td>\n      <td>22</td>\n    </tr>\n    <tr>\n      <th>4</th>\n      <td>201205</td>\n      <td>강릉시</td>\n      <td>일반용</td>\n      <td>20</td>\n    </tr>\n    <tr>\n      <th>...</th>\n      <td>...</td>\n      <td>...</td>\n      <td>...</td>\n      <td>...</td>\n    </tr>\n    <tr>\n      <th>103</th>\n      <td>201202</td>\n      <td>횡성군</td>\n      <td>일반용</td>\n      <td>19</td>\n    </tr>\n    <tr>\n      <th>104</th>\n      <td>201203</td>\n      <td>횡성군</td>\n      <td>일반용</td>\n      <td>18</td>\n    </tr>\n    <tr>\n      <th>105</th>\n      <td>201204</td>\n      <td>횡성군</td>\n      <td>일반용</td>\n      <td>17</td>\n    </tr>\n    <tr>\n      <th>106</th>\n      <td>201205</td>\n      <td>횡성군</td>\n      <td>일반용</td>\n      <td>20</td>\n    </tr>\n    <tr>\n      <th>107</th>\n      <td>201206</td>\n      <td>횡성군</td>\n      <td>일반용</td>\n      <td>22</td>\n    </tr>\n  </tbody>\n</table>\n<p>108 rows × 4 columns</p>\n</div>"
     },
     "execution_count": 23,
     "metadata": {},
     "output_type": "execute_result"
    }
   ],
   "source": [
    "for j in range(len(Rate3)):\n",
    "    ilban.append('일반용')\n",
    "\n",
    "Rate4 = pd.concat([Time , SIGUNGU_2 , Rate3] ,axis=1)\n",
    "Rate4['계약구분'] = pd.DataFrame(ilban)\n",
    "#Rate4 = Rate4.rename(columns={'0':'일반용 비율'})\n",
    "Rate4 = Rate4[['년월' , '시군구' , '계약구분' , '비율']]\n",
    "Rate4\n",
    "# Final = pd.concat([Final , Rate3])\n",
    "# Final"
   ],
   "metadata": {
    "collapsed": false,
    "pycharm": {
     "name": "#%%\n"
    }
   }
  },
  {
   "cell_type": "code",
   "execution_count": 24,
   "metadata": {
    "pycharm": {
     "name": "#%%\n"
    }
   },
   "outputs": [
    {
     "data": {
      "text/plain": "         년월   시구  시군구 계약구분  고객호수(호)     사용량(kWh)  비율\n0    201201  강원도  강릉시  일반용  15,817   43,600,925   24\n1    201202  강원도  강릉시  일반용  15,908   43,385,435   25\n2    201203  강원도  강릉시  일반용  15,948   39,233,079   23\n3    201204  강원도  강릉시  일반용  16,038   36,768,763   22\n4    201205  강원도  강릉시  일반용  16,047   32,219,716   20\n..      ...  ...  ...  ...      ...          ...  ..\n211  201202  강원도  횡성군   합계  42,192   60,212,523  NaN\n212  201203  강원도  횡성군   합계  44,220   51,647,191  NaN\n213  201204  강원도  횡성군   합계  42,339   45,526,205  NaN\n214  201205  강원도  횡성군   합계  42,409   35,349,184  NaN\n215  201206  강원도  횡성군   합계  42,581   31,963,793  NaN\n\n[216 rows x 7 columns]",
      "text/html": "<div>\n<style scoped>\n    .dataframe tbody tr th:only-of-type {\n        vertical-align: middle;\n    }\n\n    .dataframe tbody tr th {\n        vertical-align: top;\n    }\n\n    .dataframe thead th {\n        text-align: right;\n    }\n</style>\n<table border=\"1\" class=\"dataframe\">\n  <thead>\n    <tr style=\"text-align: right;\">\n      <th></th>\n      <th>년월</th>\n      <th>시구</th>\n      <th>시군구</th>\n      <th>계약구분</th>\n      <th>고객호수(호)</th>\n      <th>사용량(kWh)</th>\n      <th>비율</th>\n    </tr>\n  </thead>\n  <tbody>\n    <tr>\n      <th>0</th>\n      <td>201201</td>\n      <td>강원도</td>\n      <td>강릉시</td>\n      <td>일반용</td>\n      <td>15,817</td>\n      <td>43,600,925</td>\n      <td>24</td>\n    </tr>\n    <tr>\n      <th>1</th>\n      <td>201202</td>\n      <td>강원도</td>\n      <td>강릉시</td>\n      <td>일반용</td>\n      <td>15,908</td>\n      <td>43,385,435</td>\n      <td>25</td>\n    </tr>\n    <tr>\n      <th>2</th>\n      <td>201203</td>\n      <td>강원도</td>\n      <td>강릉시</td>\n      <td>일반용</td>\n      <td>15,948</td>\n      <td>39,233,079</td>\n      <td>23</td>\n    </tr>\n    <tr>\n      <th>3</th>\n      <td>201204</td>\n      <td>강원도</td>\n      <td>강릉시</td>\n      <td>일반용</td>\n      <td>16,038</td>\n      <td>36,768,763</td>\n      <td>22</td>\n    </tr>\n    <tr>\n      <th>4</th>\n      <td>201205</td>\n      <td>강원도</td>\n      <td>강릉시</td>\n      <td>일반용</td>\n      <td>16,047</td>\n      <td>32,219,716</td>\n      <td>20</td>\n    </tr>\n    <tr>\n      <th>...</th>\n      <td>...</td>\n      <td>...</td>\n      <td>...</td>\n      <td>...</td>\n      <td>...</td>\n      <td>...</td>\n      <td>...</td>\n    </tr>\n    <tr>\n      <th>211</th>\n      <td>201202</td>\n      <td>강원도</td>\n      <td>횡성군</td>\n      <td>합계</td>\n      <td>42,192</td>\n      <td>60,212,523</td>\n      <td>NaN</td>\n    </tr>\n    <tr>\n      <th>212</th>\n      <td>201203</td>\n      <td>강원도</td>\n      <td>횡성군</td>\n      <td>합계</td>\n      <td>44,220</td>\n      <td>51,647,191</td>\n      <td>NaN</td>\n    </tr>\n    <tr>\n      <th>213</th>\n      <td>201204</td>\n      <td>강원도</td>\n      <td>횡성군</td>\n      <td>합계</td>\n      <td>42,339</td>\n      <td>45,526,205</td>\n      <td>NaN</td>\n    </tr>\n    <tr>\n      <th>214</th>\n      <td>201205</td>\n      <td>강원도</td>\n      <td>횡성군</td>\n      <td>합계</td>\n      <td>42,409</td>\n      <td>35,349,184</td>\n      <td>NaN</td>\n    </tr>\n    <tr>\n      <th>215</th>\n      <td>201206</td>\n      <td>강원도</td>\n      <td>횡성군</td>\n      <td>합계</td>\n      <td>42,581</td>\n      <td>31,963,793</td>\n      <td>NaN</td>\n    </tr>\n  </tbody>\n</table>\n<p>216 rows × 7 columns</p>\n</div>"
     },
     "execution_count": 24,
     "metadata": {},
     "output_type": "execute_result"
    }
   ],
   "source": [
    "Final = pd.merge(df_5 , Rate4, on=['년월' , '시군구', '계약구분'] , how='left')\n",
    "\n",
    "#Final.drop(['비율_y]' , axis = 1 , inplace = True)\n",
    "#Final.rename(columns={'비율_y':'전체 계약종별 전력사용량 대비 일반용 사용량 비율'})\n",
    "Final = Final.sort_values(['시군구' , '계약구분'])\n",
    "Final.reset_index(drop=True , inplace = True)\n",
    "Final"
   ]
  },
  {
   "cell_type": "markdown",
   "metadata": {
    "pycharm": {
     "name": "#%% md\n"
    }
   },
   "source": [
    "### 2. 날짜 체크!!!!!!!!!!!!!!!!!!!!1"
   ]
  },
  {
   "cell_type": "code",
   "execution_count": 25,
   "metadata": {
    "pycharm": {
     "name": "#%%\n"
    }
   },
   "outputs": [],
   "source": [
    "Final.to_csv(\"{}_일반용_전력사용량_1201-06_월별.csv\".format(City) , mode = 'w' , encoding= 'cp949' , index =False) #파일명 수정"
   ]
  }
 ],
 "metadata": {
  "kernelspec": {
   "display_name": "Python 3 (ipykernel)",
   "language": "python",
   "name": "python3"
  },
  "language_info": {
   "codemirror_mode": {
    "name": "ipython",
    "version": 3
   },
   "file_extension": ".py",
   "mimetype": "text/x-python",
   "name": "python",
   "nbconvert_exporter": "python",
   "pygments_lexer": "ipython3",
   "version": "3.8.13"
  }
 },
 "nbformat": 4,
 "nbformat_minor": 1
}