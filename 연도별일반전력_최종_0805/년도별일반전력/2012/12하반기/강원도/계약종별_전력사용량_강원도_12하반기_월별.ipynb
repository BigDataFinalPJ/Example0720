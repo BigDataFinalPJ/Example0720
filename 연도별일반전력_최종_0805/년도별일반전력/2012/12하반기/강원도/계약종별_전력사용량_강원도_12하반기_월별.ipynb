{
 "cells": [
  {
   "cell_type": "markdown",
   "metadata": {
    "pycharm": {
     "name": "#%% md\n"
    }
   },
   "source": []
  },
  {
   "cell_type": "code",
   "execution_count": 27,
   "metadata": {
    "pycharm": {
     "name": "#%%\n"
    }
   },
   "outputs": [
    {
     "name": "stdout",
     "output_type": "stream",
     "text": [
      "['.ipynb_checkpoints', '강원도_계약종별_전력사용량_월별_12하반기.csv', '강원도_일반용_전력사용량_1207-12.csv', '강원도_일반용_전력사용량_1207-12_월별.csv', '계약종별_전력사용량_강원도_12하반기.ipynb', '계약종별_전력사용량_강원도_12하반기_월별.ipynb']\n"
     ]
    }
   ],
   "source": [
    "import pandas as pd\n",
    "import re\n",
    "import os\n",
    "\n",
    "print(os.listdir())\n",
    "\n",
    "pd.options.display.float_format = '{:.0f}'.format"
   ]
  },
  {
   "cell_type": "markdown",
   "source": [
    "### 1. 꼭 read_csv 21상반기, 19하반기와 같이 맞추어 주세요!!! 또한 지역(전라북도, 남도) 맞추기!!!!!"
   ],
   "metadata": {
    "collapsed": false,
    "pycharm": {
     "name": "#%% md\n"
    }
   }
  },
  {
   "cell_type": "code",
   "execution_count": 2,
   "metadata": {
    "pycharm": {
     "name": "#%%\n"
    }
   },
   "outputs": [
    {
     "data": {
      "text/plain": "      계약종별 전력사용량 월별( 20220804 현재 ) Unnamed: 1     Unnamed: 2 Unnamed: 3  \\\n0    시도 : 강원도, 시군구 : 전체(시 / 군 / 구)        NaN            NaN        NaN   \n1      기간 : 2012년 07 월 ~ 2012년 12월        NaN            NaN        NaN   \n2                               년월         시구            시군구       계약구분   \n3                           201207        강원도  전체(시 / 군 / 구)        주택용   \n4                           201207        강원도  전체(시 / 군 / 구)        일반용   \n..                             ...        ...            ...        ...   \n907                         201212        강원도            횡성군        산업용   \n908                         201212        강원도            횡성군        심 야   \n909                         201212        강원도            횡성군        일반용   \n910                         201212        강원도            횡성군        주택용   \n911                         201212        강원도            횡성군         합계   \n\n    Unnamed: 4    Unnamed: 5       Unnamed: 6     Unnamed: 7  \n0          NaN           NaN              NaN            NaN  \n1          NaN           NaN              NaN            NaN  \n2      고객호수(호)      사용량(kWh)          전기요금(원)  평균판매단가(원/kWh)  \n3     509,066   149,827,131   15,694,515,060          104.8   \n4     120,807   291,064,554   34,534,057,270          118.6   \n..         ...           ...              ...            ...  \n907       513    12,721,483    1,480,951,824          116.4   \n908     6,613    20,599,599    1,391,628,834           67.6   \n909     4,249    12,840,546    1,523,258,655          118.6   \n910    19,256     3,675,574      -91,878,179            -25   \n911    43,348    56,156,308    4,690,939,247           83.5   \n\n[912 rows x 8 columns]",
      "text/html": "<div>\n<style scoped>\n    .dataframe tbody tr th:only-of-type {\n        vertical-align: middle;\n    }\n\n    .dataframe tbody tr th {\n        vertical-align: top;\n    }\n\n    .dataframe thead th {\n        text-align: right;\n    }\n</style>\n<table border=\"1\" class=\"dataframe\">\n  <thead>\n    <tr style=\"text-align: right;\">\n      <th></th>\n      <th>계약종별 전력사용량 월별( 20220804 현재 )</th>\n      <th>Unnamed: 1</th>\n      <th>Unnamed: 2</th>\n      <th>Unnamed: 3</th>\n      <th>Unnamed: 4</th>\n      <th>Unnamed: 5</th>\n      <th>Unnamed: 6</th>\n      <th>Unnamed: 7</th>\n    </tr>\n  </thead>\n  <tbody>\n    <tr>\n      <th>0</th>\n      <td>시도 : 강원도, 시군구 : 전체(시 / 군 / 구)</td>\n      <td>NaN</td>\n      <td>NaN</td>\n      <td>NaN</td>\n      <td>NaN</td>\n      <td>NaN</td>\n      <td>NaN</td>\n      <td>NaN</td>\n    </tr>\n    <tr>\n      <th>1</th>\n      <td>기간 : 2012년 07 월 ~ 2012년 12월</td>\n      <td>NaN</td>\n      <td>NaN</td>\n      <td>NaN</td>\n      <td>NaN</td>\n      <td>NaN</td>\n      <td>NaN</td>\n      <td>NaN</td>\n    </tr>\n    <tr>\n      <th>2</th>\n      <td>년월</td>\n      <td>시구</td>\n      <td>시군구</td>\n      <td>계약구분</td>\n      <td>고객호수(호)</td>\n      <td>사용량(kWh)</td>\n      <td>전기요금(원)</td>\n      <td>평균판매단가(원/kWh)</td>\n    </tr>\n    <tr>\n      <th>3</th>\n      <td>201207</td>\n      <td>강원도</td>\n      <td>전체(시 / 군 / 구)</td>\n      <td>주택용</td>\n      <td>509,066</td>\n      <td>149,827,131</td>\n      <td>15,694,515,060</td>\n      <td>104.8</td>\n    </tr>\n    <tr>\n      <th>4</th>\n      <td>201207</td>\n      <td>강원도</td>\n      <td>전체(시 / 군 / 구)</td>\n      <td>일반용</td>\n      <td>120,807</td>\n      <td>291,064,554</td>\n      <td>34,534,057,270</td>\n      <td>118.6</td>\n    </tr>\n    <tr>\n      <th>...</th>\n      <td>...</td>\n      <td>...</td>\n      <td>...</td>\n      <td>...</td>\n      <td>...</td>\n      <td>...</td>\n      <td>...</td>\n      <td>...</td>\n    </tr>\n    <tr>\n      <th>907</th>\n      <td>201212</td>\n      <td>강원도</td>\n      <td>횡성군</td>\n      <td>산업용</td>\n      <td>513</td>\n      <td>12,721,483</td>\n      <td>1,480,951,824</td>\n      <td>116.4</td>\n    </tr>\n    <tr>\n      <th>908</th>\n      <td>201212</td>\n      <td>강원도</td>\n      <td>횡성군</td>\n      <td>심 야</td>\n      <td>6,613</td>\n      <td>20,599,599</td>\n      <td>1,391,628,834</td>\n      <td>67.6</td>\n    </tr>\n    <tr>\n      <th>909</th>\n      <td>201212</td>\n      <td>강원도</td>\n      <td>횡성군</td>\n      <td>일반용</td>\n      <td>4,249</td>\n      <td>12,840,546</td>\n      <td>1,523,258,655</td>\n      <td>118.6</td>\n    </tr>\n    <tr>\n      <th>910</th>\n      <td>201212</td>\n      <td>강원도</td>\n      <td>횡성군</td>\n      <td>주택용</td>\n      <td>19,256</td>\n      <td>3,675,574</td>\n      <td>-91,878,179</td>\n      <td>-25</td>\n    </tr>\n    <tr>\n      <th>911</th>\n      <td>201212</td>\n      <td>강원도</td>\n      <td>횡성군</td>\n      <td>합계</td>\n      <td>43,348</td>\n      <td>56,156,308</td>\n      <td>4,690,939,247</td>\n      <td>83.5</td>\n    </tr>\n  </tbody>\n</table>\n<p>912 rows × 8 columns</p>\n</div>"
     },
     "execution_count": 2,
     "metadata": {},
     "output_type": "execute_result"
    }
   ],
   "source": [
    "df = pd.read_csv('강원도_계약종별_전력사용량_월별_12하반기.csv' , encoding='cp949')\n",
    "\n",
    "df\n"
   ]
  },
  {
   "cell_type": "code",
   "execution_count": 3,
   "metadata": {
    "pycharm": {
     "name": "#%%\n"
    }
   },
   "outputs": [
    {
     "data": {
      "text/plain": "    계약종별 전력사용량 월별( 20220804 현재 ) Unnamed: 1     Unnamed: 2 Unnamed: 3  \\\n2                             년월         시구            시군구       계약구분   \n3                         201207        강원도  전체(시 / 군 / 구)        주택용   \n4                         201207        강원도  전체(시 / 군 / 구)        일반용   \n5                         201207        강원도  전체(시 / 군 / 구)        교육용   \n6                         201207        강원도  전체(시 / 군 / 구)        산업용   \n..                           ...        ...            ...        ...   \n907                       201212        강원도            횡성군        산업용   \n908                       201212        강원도            횡성군        심 야   \n909                       201212        강원도            횡성군        일반용   \n910                       201212        강원도            횡성군        주택용   \n911                       201212        강원도            횡성군         합계   \n\n    Unnamed: 4    Unnamed: 5       Unnamed: 6     Unnamed: 7  \n2      고객호수(호)      사용량(kWh)          전기요금(원)  평균판매단가(원/kWh)  \n3     509,066   149,827,131   15,694,515,060          104.8   \n4     120,807   291,064,554   34,534,057,270          118.6   \n5       1,532    19,147,255    2,278,461,199          119.0   \n6      11,454   602,175,744   59,179,825,035           98.3   \n..         ...           ...              ...            ...  \n907       513    12,721,483    1,480,951,824          116.4   \n908     6,613    20,599,599    1,391,628,834           67.6   \n909     4,249    12,840,546    1,523,258,655          118.6   \n910    19,256     3,675,574      -91,878,179            -25   \n911    43,348    56,156,308    4,690,939,247           83.5   \n\n[909 rows x 8 columns]",
      "text/html": "<div>\n<style scoped>\n    .dataframe tbody tr th:only-of-type {\n        vertical-align: middle;\n    }\n\n    .dataframe tbody tr th {\n        vertical-align: top;\n    }\n\n    .dataframe thead th {\n        text-align: right;\n    }\n</style>\n<table border=\"1\" class=\"dataframe\">\n  <thead>\n    <tr style=\"text-align: right;\">\n      <th></th>\n      <th>계약종별 전력사용량 월별( 20220804 현재 )</th>\n      <th>Unnamed: 1</th>\n      <th>Unnamed: 2</th>\n      <th>Unnamed: 3</th>\n      <th>Unnamed: 4</th>\n      <th>Unnamed: 5</th>\n      <th>Unnamed: 6</th>\n      <th>Unnamed: 7</th>\n    </tr>\n  </thead>\n  <tbody>\n    <tr>\n      <th>2</th>\n      <td>년월</td>\n      <td>시구</td>\n      <td>시군구</td>\n      <td>계약구분</td>\n      <td>고객호수(호)</td>\n      <td>사용량(kWh)</td>\n      <td>전기요금(원)</td>\n      <td>평균판매단가(원/kWh)</td>\n    </tr>\n    <tr>\n      <th>3</th>\n      <td>201207</td>\n      <td>강원도</td>\n      <td>전체(시 / 군 / 구)</td>\n      <td>주택용</td>\n      <td>509,066</td>\n      <td>149,827,131</td>\n      <td>15,694,515,060</td>\n      <td>104.8</td>\n    </tr>\n    <tr>\n      <th>4</th>\n      <td>201207</td>\n      <td>강원도</td>\n      <td>전체(시 / 군 / 구)</td>\n      <td>일반용</td>\n      <td>120,807</td>\n      <td>291,064,554</td>\n      <td>34,534,057,270</td>\n      <td>118.6</td>\n    </tr>\n    <tr>\n      <th>5</th>\n      <td>201207</td>\n      <td>강원도</td>\n      <td>전체(시 / 군 / 구)</td>\n      <td>교육용</td>\n      <td>1,532</td>\n      <td>19,147,255</td>\n      <td>2,278,461,199</td>\n      <td>119.0</td>\n    </tr>\n    <tr>\n      <th>6</th>\n      <td>201207</td>\n      <td>강원도</td>\n      <td>전체(시 / 군 / 구)</td>\n      <td>산업용</td>\n      <td>11,454</td>\n      <td>602,175,744</td>\n      <td>59,179,825,035</td>\n      <td>98.3</td>\n    </tr>\n    <tr>\n      <th>...</th>\n      <td>...</td>\n      <td>...</td>\n      <td>...</td>\n      <td>...</td>\n      <td>...</td>\n      <td>...</td>\n      <td>...</td>\n      <td>...</td>\n    </tr>\n    <tr>\n      <th>907</th>\n      <td>201212</td>\n      <td>강원도</td>\n      <td>횡성군</td>\n      <td>산업용</td>\n      <td>513</td>\n      <td>12,721,483</td>\n      <td>1,480,951,824</td>\n      <td>116.4</td>\n    </tr>\n    <tr>\n      <th>908</th>\n      <td>201212</td>\n      <td>강원도</td>\n      <td>횡성군</td>\n      <td>심 야</td>\n      <td>6,613</td>\n      <td>20,599,599</td>\n      <td>1,391,628,834</td>\n      <td>67.6</td>\n    </tr>\n    <tr>\n      <th>909</th>\n      <td>201212</td>\n      <td>강원도</td>\n      <td>횡성군</td>\n      <td>일반용</td>\n      <td>4,249</td>\n      <td>12,840,546</td>\n      <td>1,523,258,655</td>\n      <td>118.6</td>\n    </tr>\n    <tr>\n      <th>910</th>\n      <td>201212</td>\n      <td>강원도</td>\n      <td>횡성군</td>\n      <td>주택용</td>\n      <td>19,256</td>\n      <td>3,675,574</td>\n      <td>-91,878,179</td>\n      <td>-25</td>\n    </tr>\n    <tr>\n      <th>911</th>\n      <td>201212</td>\n      <td>강원도</td>\n      <td>횡성군</td>\n      <td>합계</td>\n      <td>43,348</td>\n      <td>56,156,308</td>\n      <td>4,690,939,247</td>\n      <td>83.5</td>\n    </tr>\n  </tbody>\n</table>\n<p>909 rows × 8 columns</p>\n</div>"
     },
     "execution_count": 3,
     "metadata": {},
     "output_type": "execute_result"
    }
   ],
   "source": [
    "df = df.drop([0,1 , 46] , axis = 0)\n",
    "#0,1 , 10은 지우는게 맞다\n",
    "df"
   ]
  },
  {
   "cell_type": "code",
   "execution_count": 4,
   "metadata": {
    "pycharm": {
     "name": "#%%\n"
    }
   },
   "outputs": [],
   "source": [
    "a= df.loc[2].tolist()\n",
    "a\n",
    "df = df.drop([2] , axis = 0)"
   ]
  },
  {
   "cell_type": "code",
   "execution_count": 5,
   "metadata": {
    "pycharm": {
     "name": "#%%\n"
    }
   },
   "outputs": [
    {
     "data": {
      "text/plain": "         년월   시구            시군구 계약구분   고객호수(호)      사용량(kWh)          전기요금(원)  \\\n3    201207  강원도  전체(시 / 군 / 구)  주택용  509,066   149,827,131   15,694,515,060    \n4    201207  강원도  전체(시 / 군 / 구)  일반용  120,807   291,064,554   34,534,057,270    \n5    201207  강원도  전체(시 / 군 / 구)  교육용    1,532    19,147,255    2,278,461,199    \n6    201207  강원도  전체(시 / 군 / 구)  산업용   11,454   602,175,744   59,179,825,035    \n7    201207  강원도  전체(시 / 군 / 구)  농사용   68,541    31,012,645    1,422,250,672    \n..      ...  ...            ...  ...       ...           ...              ...   \n907  201212  강원도            횡성군  산업용      513    12,721,483    1,480,951,824    \n908  201212  강원도            횡성군  심 야    6,613    20,599,599    1,391,628,834    \n909  201212  강원도            횡성군  일반용    4,249    12,840,546    1,523,258,655    \n910  201212  강원도            횡성군  주택용   19,256     3,675,574      -91,878,179    \n911  201212  강원도            횡성군   합계   43,348    56,156,308    4,690,939,247    \n\n    평균판매단가(원/kWh)  \n3          104.8   \n4          118.6   \n5          119.0   \n6           98.3   \n7           45.9   \n..            ...  \n907        116.4   \n908         67.6   \n909        118.6   \n910          -25   \n911         83.5   \n\n[908 rows x 8 columns]",
      "text/html": "<div>\n<style scoped>\n    .dataframe tbody tr th:only-of-type {\n        vertical-align: middle;\n    }\n\n    .dataframe tbody tr th {\n        vertical-align: top;\n    }\n\n    .dataframe thead th {\n        text-align: right;\n    }\n</style>\n<table border=\"1\" class=\"dataframe\">\n  <thead>\n    <tr style=\"text-align: right;\">\n      <th></th>\n      <th>년월</th>\n      <th>시구</th>\n      <th>시군구</th>\n      <th>계약구분</th>\n      <th>고객호수(호)</th>\n      <th>사용량(kWh)</th>\n      <th>전기요금(원)</th>\n      <th>평균판매단가(원/kWh)</th>\n    </tr>\n  </thead>\n  <tbody>\n    <tr>\n      <th>3</th>\n      <td>201207</td>\n      <td>강원도</td>\n      <td>전체(시 / 군 / 구)</td>\n      <td>주택용</td>\n      <td>509,066</td>\n      <td>149,827,131</td>\n      <td>15,694,515,060</td>\n      <td>104.8</td>\n    </tr>\n    <tr>\n      <th>4</th>\n      <td>201207</td>\n      <td>강원도</td>\n      <td>전체(시 / 군 / 구)</td>\n      <td>일반용</td>\n      <td>120,807</td>\n      <td>291,064,554</td>\n      <td>34,534,057,270</td>\n      <td>118.6</td>\n    </tr>\n    <tr>\n      <th>5</th>\n      <td>201207</td>\n      <td>강원도</td>\n      <td>전체(시 / 군 / 구)</td>\n      <td>교육용</td>\n      <td>1,532</td>\n      <td>19,147,255</td>\n      <td>2,278,461,199</td>\n      <td>119.0</td>\n    </tr>\n    <tr>\n      <th>6</th>\n      <td>201207</td>\n      <td>강원도</td>\n      <td>전체(시 / 군 / 구)</td>\n      <td>산업용</td>\n      <td>11,454</td>\n      <td>602,175,744</td>\n      <td>59,179,825,035</td>\n      <td>98.3</td>\n    </tr>\n    <tr>\n      <th>7</th>\n      <td>201207</td>\n      <td>강원도</td>\n      <td>전체(시 / 군 / 구)</td>\n      <td>농사용</td>\n      <td>68,541</td>\n      <td>31,012,645</td>\n      <td>1,422,250,672</td>\n      <td>45.9</td>\n    </tr>\n    <tr>\n      <th>...</th>\n      <td>...</td>\n      <td>...</td>\n      <td>...</td>\n      <td>...</td>\n      <td>...</td>\n      <td>...</td>\n      <td>...</td>\n      <td>...</td>\n    </tr>\n    <tr>\n      <th>907</th>\n      <td>201212</td>\n      <td>강원도</td>\n      <td>횡성군</td>\n      <td>산업용</td>\n      <td>513</td>\n      <td>12,721,483</td>\n      <td>1,480,951,824</td>\n      <td>116.4</td>\n    </tr>\n    <tr>\n      <th>908</th>\n      <td>201212</td>\n      <td>강원도</td>\n      <td>횡성군</td>\n      <td>심 야</td>\n      <td>6,613</td>\n      <td>20,599,599</td>\n      <td>1,391,628,834</td>\n      <td>67.6</td>\n    </tr>\n    <tr>\n      <th>909</th>\n      <td>201212</td>\n      <td>강원도</td>\n      <td>횡성군</td>\n      <td>일반용</td>\n      <td>4,249</td>\n      <td>12,840,546</td>\n      <td>1,523,258,655</td>\n      <td>118.6</td>\n    </tr>\n    <tr>\n      <th>910</th>\n      <td>201212</td>\n      <td>강원도</td>\n      <td>횡성군</td>\n      <td>주택용</td>\n      <td>19,256</td>\n      <td>3,675,574</td>\n      <td>-91,878,179</td>\n      <td>-25</td>\n    </tr>\n    <tr>\n      <th>911</th>\n      <td>201212</td>\n      <td>강원도</td>\n      <td>횡성군</td>\n      <td>합계</td>\n      <td>43,348</td>\n      <td>56,156,308</td>\n      <td>4,690,939,247</td>\n      <td>83.5</td>\n    </tr>\n  </tbody>\n</table>\n<p>908 rows × 8 columns</p>\n</div>"
     },
     "execution_count": 5,
     "metadata": {},
     "output_type": "execute_result"
    }
   ],
   "source": [
    "df.columns = a\n",
    "df"
   ]
  },
  {
   "cell_type": "code",
   "execution_count": 6,
   "metadata": {
    "pycharm": {
     "name": "#%%\n"
    }
   },
   "outputs": [
    {
     "data": {
      "text/plain": "        년월   시구            시군구 계약구분    고객호수(호)       사용량(kWh)  \\\n3   201207  강원도  전체(시 / 군 / 구)  주택용   509,066    149,827,131    \n4   201207  강원도  전체(시 / 군 / 구)  일반용   120,807    291,064,554    \n5   201207  강원도  전체(시 / 군 / 구)  교육용     1,532     19,147,255    \n6   201207  강원도  전체(시 / 군 / 구)  산업용    11,454    602,175,744    \n7   201207  강원도  전체(시 / 군 / 구)  농사용    68,541     31,012,645    \n8   201207  강원도  전체(시 / 군 / 구)  가로등    89,527     12,815,369    \n9   201207  강원도  전체(시 / 군 / 구)  심 야    96,598     51,781,406    \n10  201208  강원도  전체(시 / 군 / 구)  주택용   509,655    172,152,684    \n11  201208  강원도  전체(시 / 군 / 구)  일반용   121,633    342,276,473    \n12  201208  강원도  전체(시 / 군 / 구)  교육용     1,534     19,524,336    \n13  201208  강원도  전체(시 / 군 / 구)  산업용    11,451    557,897,312    \n14  201208  강원도  전체(시 / 군 / 구)  농사용    69,459     38,327,346    \n15  201208  강원도  전체(시 / 군 / 구)  가로등    89,864     13,124,619    \n16  201208  강원도  전체(시 / 군 / 구)  심 야    96,499     43,953,698    \n17  201209  강원도  전체(시 / 군 / 구)  주택용   510,728    163,008,945    \n18  201209  강원도  전체(시 / 군 / 구)  일반용   122,343    293,260,549    \n19  201209  강원도  전체(시 / 군 / 구)  교육용     1,532     20,028,837    \n20  201209  강원도  전체(시 / 군 / 구)  산업용    11,488    548,144,972    \n21  201209  강원도  전체(시 / 군 / 구)  농사용    70,792     44,658,159    \n22  201209  강원도  전체(시 / 군 / 구)  가로등    90,042     13,283,494    \n23  201209  강원도  전체(시 / 군 / 구)  심 야    96,460     55,126,357    \n24  201210  강원도  전체(시 / 군 / 구)  주택용   511,444    151,320,376    \n25  201210  강원도  전체(시 / 군 / 구)  일반용   123,031    262,559,026    \n26  201210  강원도  전체(시 / 군 / 구)  교육용     1,527     17,473,563    \n27  201210  강원도  전체(시 / 군 / 구)  산업용    11,588    581,388,466    \n28  201210  강원도  전체(시 / 군 / 구)  농사용    71,543     37,955,818    \n29  201210  강원도  전체(시 / 군 / 구)  가로등    90,270     14,305,726    \n30  201210  강원도  전체(시 / 군 / 구)  심 야    96,493     95,782,343    \n31  201211  강원도  전체(시 / 군 / 구)  주택용   511,744    163,840,554    \n32  201211  강원도  전체(시 / 군 / 구)  일반용   124,044    304,571,969    \n33  201211  강원도  전체(시 / 군 / 구)  교육용     1,516     23,661,893    \n34  201211  강원도  전체(시 / 군 / 구)  산업용    11,517    581,731,734    \n35  201211  강원도  전체(시 / 군 / 구)  농사용    94,039     50,291,792    \n36  201211  강원도  전체(시 / 군 / 구)  가로등    90,458     15,075,375    \n37  201211  강원도  전체(시 / 군 / 구)  심 야    96,500    183,236,635    \n38  201212  강원도  전체(시 / 군 / 구)  주택용   511,654    170,872,431    \n39  201212  강원도  전체(시 / 군 / 구)  일반용   125,310    371,492,917    \n40  201212  강원도  전체(시 / 군 / 구)  교육용     1,518     35,866,321    \n41  201212  강원도  전체(시 / 군 / 구)  산업용    11,540    606,718,083    \n42  201212  강원도  전체(시 / 군 / 구)  농사용    71,492     38,935,609    \n43  201212  강원도  전체(시 / 군 / 구)  가로등    90,854     15,430,038    \n44  201212  강원도  전체(시 / 군 / 구)  심 야    96,538    285,785,855    \n45      합계   합계             합계   합계  5,445,625  7,490,888,409   \n\n            전기요금(원) 평균판매단가(원/kWh)  \n3   15,694,515,060         104.8   \n4   34,534,057,270         118.6   \n5    2,278,461,199         119.0   \n6   59,179,825,035          98.3   \n7    1,422,250,672          45.9   \n8    1,336,885,362         104.3   \n9    2,465,864,062          47.6   \n10  21,283,699,920         123.6   \n11  44,891,553,753         131.2   \n12   2,669,725,714         136.7   \n13  57,623,638,877         103.3   \n14   1,730,706,636          45.2   \n15   1,347,010,198         102.6   \n16   2,147,514,835          48.9   \n17  19,123,143,489         117.3   \n18  35,905,559,848         122.4   \n19   2,465,951,586         123.1   \n20  47,263,051,441          86.2   \n21   2,054,858,780          46.0   \n22   1,377,794,892         103.7   \n23   2,761,779,357          50.1   \n24  16,482,377,692         108.9   \n25  29,116,326,660         110.9   \n26   1,956,838,263         112.0   \n27  48,256,848,625          83.0   \n28   1,809,375,651          47.7   \n29   1,404,050,937          98.1   \n30   4,734,349,600          49.4   \n31  19,795,857,284         120.8   \n32  35,326,255,431         116.0   \n33   2,586,337,671         109.3   \n34  59,750,179,141         102.7   \n35   2,065,724,958          41.1   \n36   1,454,009,108          96.4   \n37  10,464,708,055          57.1   \n38  20,500,261,310         120.0   \n39  44,978,933,203         121.1   \n40   3,885,296,670         108.3   \n41  61,116,263,717         100.7   \n42   1,821,669,835          46.8   \n43   1,456,973,393          94.4   \n44  19,390,015,171          67.8   \n45  747,910,500,361          99.8  ",
      "text/html": "<div>\n<style scoped>\n    .dataframe tbody tr th:only-of-type {\n        vertical-align: middle;\n    }\n\n    .dataframe tbody tr th {\n        vertical-align: top;\n    }\n\n    .dataframe thead th {\n        text-align: right;\n    }\n</style>\n<table border=\"1\" class=\"dataframe\">\n  <thead>\n    <tr style=\"text-align: right;\">\n      <th></th>\n      <th>년월</th>\n      <th>시구</th>\n      <th>시군구</th>\n      <th>계약구분</th>\n      <th>고객호수(호)</th>\n      <th>사용량(kWh)</th>\n      <th>전기요금(원)</th>\n      <th>평균판매단가(원/kWh)</th>\n    </tr>\n  </thead>\n  <tbody>\n    <tr>\n      <th>3</th>\n      <td>201207</td>\n      <td>강원도</td>\n      <td>전체(시 / 군 / 구)</td>\n      <td>주택용</td>\n      <td>509,066</td>\n      <td>149,827,131</td>\n      <td>15,694,515,060</td>\n      <td>104.8</td>\n    </tr>\n    <tr>\n      <th>4</th>\n      <td>201207</td>\n      <td>강원도</td>\n      <td>전체(시 / 군 / 구)</td>\n      <td>일반용</td>\n      <td>120,807</td>\n      <td>291,064,554</td>\n      <td>34,534,057,270</td>\n      <td>118.6</td>\n    </tr>\n    <tr>\n      <th>5</th>\n      <td>201207</td>\n      <td>강원도</td>\n      <td>전체(시 / 군 / 구)</td>\n      <td>교육용</td>\n      <td>1,532</td>\n      <td>19,147,255</td>\n      <td>2,278,461,199</td>\n      <td>119.0</td>\n    </tr>\n    <tr>\n      <th>6</th>\n      <td>201207</td>\n      <td>강원도</td>\n      <td>전체(시 / 군 / 구)</td>\n      <td>산업용</td>\n      <td>11,454</td>\n      <td>602,175,744</td>\n      <td>59,179,825,035</td>\n      <td>98.3</td>\n    </tr>\n    <tr>\n      <th>7</th>\n      <td>201207</td>\n      <td>강원도</td>\n      <td>전체(시 / 군 / 구)</td>\n      <td>농사용</td>\n      <td>68,541</td>\n      <td>31,012,645</td>\n      <td>1,422,250,672</td>\n      <td>45.9</td>\n    </tr>\n    <tr>\n      <th>8</th>\n      <td>201207</td>\n      <td>강원도</td>\n      <td>전체(시 / 군 / 구)</td>\n      <td>가로등</td>\n      <td>89,527</td>\n      <td>12,815,369</td>\n      <td>1,336,885,362</td>\n      <td>104.3</td>\n    </tr>\n    <tr>\n      <th>9</th>\n      <td>201207</td>\n      <td>강원도</td>\n      <td>전체(시 / 군 / 구)</td>\n      <td>심 야</td>\n      <td>96,598</td>\n      <td>51,781,406</td>\n      <td>2,465,864,062</td>\n      <td>47.6</td>\n    </tr>\n    <tr>\n      <th>10</th>\n      <td>201208</td>\n      <td>강원도</td>\n      <td>전체(시 / 군 / 구)</td>\n      <td>주택용</td>\n      <td>509,655</td>\n      <td>172,152,684</td>\n      <td>21,283,699,920</td>\n      <td>123.6</td>\n    </tr>\n    <tr>\n      <th>11</th>\n      <td>201208</td>\n      <td>강원도</td>\n      <td>전체(시 / 군 / 구)</td>\n      <td>일반용</td>\n      <td>121,633</td>\n      <td>342,276,473</td>\n      <td>44,891,553,753</td>\n      <td>131.2</td>\n    </tr>\n    <tr>\n      <th>12</th>\n      <td>201208</td>\n      <td>강원도</td>\n      <td>전체(시 / 군 / 구)</td>\n      <td>교육용</td>\n      <td>1,534</td>\n      <td>19,524,336</td>\n      <td>2,669,725,714</td>\n      <td>136.7</td>\n    </tr>\n    <tr>\n      <th>13</th>\n      <td>201208</td>\n      <td>강원도</td>\n      <td>전체(시 / 군 / 구)</td>\n      <td>산업용</td>\n      <td>11,451</td>\n      <td>557,897,312</td>\n      <td>57,623,638,877</td>\n      <td>103.3</td>\n    </tr>\n    <tr>\n      <th>14</th>\n      <td>201208</td>\n      <td>강원도</td>\n      <td>전체(시 / 군 / 구)</td>\n      <td>농사용</td>\n      <td>69,459</td>\n      <td>38,327,346</td>\n      <td>1,730,706,636</td>\n      <td>45.2</td>\n    </tr>\n    <tr>\n      <th>15</th>\n      <td>201208</td>\n      <td>강원도</td>\n      <td>전체(시 / 군 / 구)</td>\n      <td>가로등</td>\n      <td>89,864</td>\n      <td>13,124,619</td>\n      <td>1,347,010,198</td>\n      <td>102.6</td>\n    </tr>\n    <tr>\n      <th>16</th>\n      <td>201208</td>\n      <td>강원도</td>\n      <td>전체(시 / 군 / 구)</td>\n      <td>심 야</td>\n      <td>96,499</td>\n      <td>43,953,698</td>\n      <td>2,147,514,835</td>\n      <td>48.9</td>\n    </tr>\n    <tr>\n      <th>17</th>\n      <td>201209</td>\n      <td>강원도</td>\n      <td>전체(시 / 군 / 구)</td>\n      <td>주택용</td>\n      <td>510,728</td>\n      <td>163,008,945</td>\n      <td>19,123,143,489</td>\n      <td>117.3</td>\n    </tr>\n    <tr>\n      <th>18</th>\n      <td>201209</td>\n      <td>강원도</td>\n      <td>전체(시 / 군 / 구)</td>\n      <td>일반용</td>\n      <td>122,343</td>\n      <td>293,260,549</td>\n      <td>35,905,559,848</td>\n      <td>122.4</td>\n    </tr>\n    <tr>\n      <th>19</th>\n      <td>201209</td>\n      <td>강원도</td>\n      <td>전체(시 / 군 / 구)</td>\n      <td>교육용</td>\n      <td>1,532</td>\n      <td>20,028,837</td>\n      <td>2,465,951,586</td>\n      <td>123.1</td>\n    </tr>\n    <tr>\n      <th>20</th>\n      <td>201209</td>\n      <td>강원도</td>\n      <td>전체(시 / 군 / 구)</td>\n      <td>산업용</td>\n      <td>11,488</td>\n      <td>548,144,972</td>\n      <td>47,263,051,441</td>\n      <td>86.2</td>\n    </tr>\n    <tr>\n      <th>21</th>\n      <td>201209</td>\n      <td>강원도</td>\n      <td>전체(시 / 군 / 구)</td>\n      <td>농사용</td>\n      <td>70,792</td>\n      <td>44,658,159</td>\n      <td>2,054,858,780</td>\n      <td>46.0</td>\n    </tr>\n    <tr>\n      <th>22</th>\n      <td>201209</td>\n      <td>강원도</td>\n      <td>전체(시 / 군 / 구)</td>\n      <td>가로등</td>\n      <td>90,042</td>\n      <td>13,283,494</td>\n      <td>1,377,794,892</td>\n      <td>103.7</td>\n    </tr>\n    <tr>\n      <th>23</th>\n      <td>201209</td>\n      <td>강원도</td>\n      <td>전체(시 / 군 / 구)</td>\n      <td>심 야</td>\n      <td>96,460</td>\n      <td>55,126,357</td>\n      <td>2,761,779,357</td>\n      <td>50.1</td>\n    </tr>\n    <tr>\n      <th>24</th>\n      <td>201210</td>\n      <td>강원도</td>\n      <td>전체(시 / 군 / 구)</td>\n      <td>주택용</td>\n      <td>511,444</td>\n      <td>151,320,376</td>\n      <td>16,482,377,692</td>\n      <td>108.9</td>\n    </tr>\n    <tr>\n      <th>25</th>\n      <td>201210</td>\n      <td>강원도</td>\n      <td>전체(시 / 군 / 구)</td>\n      <td>일반용</td>\n      <td>123,031</td>\n      <td>262,559,026</td>\n      <td>29,116,326,660</td>\n      <td>110.9</td>\n    </tr>\n    <tr>\n      <th>26</th>\n      <td>201210</td>\n      <td>강원도</td>\n      <td>전체(시 / 군 / 구)</td>\n      <td>교육용</td>\n      <td>1,527</td>\n      <td>17,473,563</td>\n      <td>1,956,838,263</td>\n      <td>112.0</td>\n    </tr>\n    <tr>\n      <th>27</th>\n      <td>201210</td>\n      <td>강원도</td>\n      <td>전체(시 / 군 / 구)</td>\n      <td>산업용</td>\n      <td>11,588</td>\n      <td>581,388,466</td>\n      <td>48,256,848,625</td>\n      <td>83.0</td>\n    </tr>\n    <tr>\n      <th>28</th>\n      <td>201210</td>\n      <td>강원도</td>\n      <td>전체(시 / 군 / 구)</td>\n      <td>농사용</td>\n      <td>71,543</td>\n      <td>37,955,818</td>\n      <td>1,809,375,651</td>\n      <td>47.7</td>\n    </tr>\n    <tr>\n      <th>29</th>\n      <td>201210</td>\n      <td>강원도</td>\n      <td>전체(시 / 군 / 구)</td>\n      <td>가로등</td>\n      <td>90,270</td>\n      <td>14,305,726</td>\n      <td>1,404,050,937</td>\n      <td>98.1</td>\n    </tr>\n    <tr>\n      <th>30</th>\n      <td>201210</td>\n      <td>강원도</td>\n      <td>전체(시 / 군 / 구)</td>\n      <td>심 야</td>\n      <td>96,493</td>\n      <td>95,782,343</td>\n      <td>4,734,349,600</td>\n      <td>49.4</td>\n    </tr>\n    <tr>\n      <th>31</th>\n      <td>201211</td>\n      <td>강원도</td>\n      <td>전체(시 / 군 / 구)</td>\n      <td>주택용</td>\n      <td>511,744</td>\n      <td>163,840,554</td>\n      <td>19,795,857,284</td>\n      <td>120.8</td>\n    </tr>\n    <tr>\n      <th>32</th>\n      <td>201211</td>\n      <td>강원도</td>\n      <td>전체(시 / 군 / 구)</td>\n      <td>일반용</td>\n      <td>124,044</td>\n      <td>304,571,969</td>\n      <td>35,326,255,431</td>\n      <td>116.0</td>\n    </tr>\n    <tr>\n      <th>33</th>\n      <td>201211</td>\n      <td>강원도</td>\n      <td>전체(시 / 군 / 구)</td>\n      <td>교육용</td>\n      <td>1,516</td>\n      <td>23,661,893</td>\n      <td>2,586,337,671</td>\n      <td>109.3</td>\n    </tr>\n    <tr>\n      <th>34</th>\n      <td>201211</td>\n      <td>강원도</td>\n      <td>전체(시 / 군 / 구)</td>\n      <td>산업용</td>\n      <td>11,517</td>\n      <td>581,731,734</td>\n      <td>59,750,179,141</td>\n      <td>102.7</td>\n    </tr>\n    <tr>\n      <th>35</th>\n      <td>201211</td>\n      <td>강원도</td>\n      <td>전체(시 / 군 / 구)</td>\n      <td>농사용</td>\n      <td>94,039</td>\n      <td>50,291,792</td>\n      <td>2,065,724,958</td>\n      <td>41.1</td>\n    </tr>\n    <tr>\n      <th>36</th>\n      <td>201211</td>\n      <td>강원도</td>\n      <td>전체(시 / 군 / 구)</td>\n      <td>가로등</td>\n      <td>90,458</td>\n      <td>15,075,375</td>\n      <td>1,454,009,108</td>\n      <td>96.4</td>\n    </tr>\n    <tr>\n      <th>37</th>\n      <td>201211</td>\n      <td>강원도</td>\n      <td>전체(시 / 군 / 구)</td>\n      <td>심 야</td>\n      <td>96,500</td>\n      <td>183,236,635</td>\n      <td>10,464,708,055</td>\n      <td>57.1</td>\n    </tr>\n    <tr>\n      <th>38</th>\n      <td>201212</td>\n      <td>강원도</td>\n      <td>전체(시 / 군 / 구)</td>\n      <td>주택용</td>\n      <td>511,654</td>\n      <td>170,872,431</td>\n      <td>20,500,261,310</td>\n      <td>120.0</td>\n    </tr>\n    <tr>\n      <th>39</th>\n      <td>201212</td>\n      <td>강원도</td>\n      <td>전체(시 / 군 / 구)</td>\n      <td>일반용</td>\n      <td>125,310</td>\n      <td>371,492,917</td>\n      <td>44,978,933,203</td>\n      <td>121.1</td>\n    </tr>\n    <tr>\n      <th>40</th>\n      <td>201212</td>\n      <td>강원도</td>\n      <td>전체(시 / 군 / 구)</td>\n      <td>교육용</td>\n      <td>1,518</td>\n      <td>35,866,321</td>\n      <td>3,885,296,670</td>\n      <td>108.3</td>\n    </tr>\n    <tr>\n      <th>41</th>\n      <td>201212</td>\n      <td>강원도</td>\n      <td>전체(시 / 군 / 구)</td>\n      <td>산업용</td>\n      <td>11,540</td>\n      <td>606,718,083</td>\n      <td>61,116,263,717</td>\n      <td>100.7</td>\n    </tr>\n    <tr>\n      <th>42</th>\n      <td>201212</td>\n      <td>강원도</td>\n      <td>전체(시 / 군 / 구)</td>\n      <td>농사용</td>\n      <td>71,492</td>\n      <td>38,935,609</td>\n      <td>1,821,669,835</td>\n      <td>46.8</td>\n    </tr>\n    <tr>\n      <th>43</th>\n      <td>201212</td>\n      <td>강원도</td>\n      <td>전체(시 / 군 / 구)</td>\n      <td>가로등</td>\n      <td>90,854</td>\n      <td>15,430,038</td>\n      <td>1,456,973,393</td>\n      <td>94.4</td>\n    </tr>\n    <tr>\n      <th>44</th>\n      <td>201212</td>\n      <td>강원도</td>\n      <td>전체(시 / 군 / 구)</td>\n      <td>심 야</td>\n      <td>96,538</td>\n      <td>285,785,855</td>\n      <td>19,390,015,171</td>\n      <td>67.8</td>\n    </tr>\n    <tr>\n      <th>45</th>\n      <td>합계</td>\n      <td>합계</td>\n      <td>합계</td>\n      <td>합계</td>\n      <td>5,445,625</td>\n      <td>7,490,888,409</td>\n      <td>747,910,500,361</td>\n      <td>99.8</td>\n    </tr>\n  </tbody>\n</table>\n</div>"
     },
     "execution_count": 6,
     "metadata": {},
     "output_type": "execute_result"
    }
   ],
   "source": [
    "df_2 = df.loc[:45]\n",
    "df_2\n"
   ]
  },
  {
   "cell_type": "code",
   "execution_count": 7,
   "metadata": {
    "pycharm": {
     "name": "#%%\n"
    }
   },
   "outputs": [
    {
     "name": "stderr",
     "output_type": "stream",
     "text": [
      "C:\\Users\\user\\AppData\\Local\\Temp\\ipykernel_6252\\3551721261.py:3: SettingWithCopyWarning: \n",
      "A value is trying to be set on a copy of a slice from a DataFrame\n",
      "\n",
      "See the caveats in the documentation: https://pandas.pydata.org/pandas-docs/stable/user_guide/indexing.html#returning-a-view-versus-a-copy\n",
      "  GyeonGi.drop(['시군구' , '전기요금(원)' , '평균판매단가(원/kWh)'] , axis = 1 , inplace = True)\n"
     ]
    },
    {
     "data": {
      "text/plain": "        년월   시구 계약구분   고객호수(호)      사용량(kWh)\n4   201207  강원도  일반용  120,807   291,064,554 \n11  201208  강원도  일반용  121,633   342,276,473 \n18  201209  강원도  일반용  122,343   293,260,549 \n25  201210  강원도  일반용  123,031   262,559,026 \n32  201211  강원도  일반용  124,044   304,571,969 \n39  201212  강원도  일반용  125,310   371,492,917 ",
      "text/html": "<div>\n<style scoped>\n    .dataframe tbody tr th:only-of-type {\n        vertical-align: middle;\n    }\n\n    .dataframe tbody tr th {\n        vertical-align: top;\n    }\n\n    .dataframe thead th {\n        text-align: right;\n    }\n</style>\n<table border=\"1\" class=\"dataframe\">\n  <thead>\n    <tr style=\"text-align: right;\">\n      <th></th>\n      <th>년월</th>\n      <th>시구</th>\n      <th>계약구분</th>\n      <th>고객호수(호)</th>\n      <th>사용량(kWh)</th>\n    </tr>\n  </thead>\n  <tbody>\n    <tr>\n      <th>4</th>\n      <td>201207</td>\n      <td>강원도</td>\n      <td>일반용</td>\n      <td>120,807</td>\n      <td>291,064,554</td>\n    </tr>\n    <tr>\n      <th>11</th>\n      <td>201208</td>\n      <td>강원도</td>\n      <td>일반용</td>\n      <td>121,633</td>\n      <td>342,276,473</td>\n    </tr>\n    <tr>\n      <th>18</th>\n      <td>201209</td>\n      <td>강원도</td>\n      <td>일반용</td>\n      <td>122,343</td>\n      <td>293,260,549</td>\n    </tr>\n    <tr>\n      <th>25</th>\n      <td>201210</td>\n      <td>강원도</td>\n      <td>일반용</td>\n      <td>123,031</td>\n      <td>262,559,026</td>\n    </tr>\n    <tr>\n      <th>32</th>\n      <td>201211</td>\n      <td>강원도</td>\n      <td>일반용</td>\n      <td>124,044</td>\n      <td>304,571,969</td>\n    </tr>\n    <tr>\n      <th>39</th>\n      <td>201212</td>\n      <td>강원도</td>\n      <td>일반용</td>\n      <td>125,310</td>\n      <td>371,492,917</td>\n    </tr>\n  </tbody>\n</table>\n</div>"
     },
     "execution_count": 7,
     "metadata": {},
     "output_type": "execute_result"
    }
   ],
   "source": [
    "GyeonGi  = df_2.loc[(df_2['계약구분'] == '일반용')]\n",
    "#SEOUL = df_3.loc[(df_3['계약구분'] =='일반용')]\n",
    "GyeonGi.drop(['시군구' , '전기요금(원)' , '평균판매단가(원/kWh)'] , axis = 1 , inplace = True)\n",
    "GyeonGi"
   ]
  },
  {
   "cell_type": "code",
   "execution_count": 8,
   "metadata": {
    "pycharm": {
     "name": "#%%\n"
    }
   },
   "outputs": [
    {
     "data": {
      "text/plain": "         년월   시구  시군구 계약구분  고객호수(호)     사용량(kWh)\n53   201207  강원도  강릉시  일반용  16,205   34,530,914 \n197  201208  강원도  강릉시  일반용  16,272   42,030,483 \n341  201209  강원도  강릉시  일반용  16,344   36,690,466 \n485  201210  강원도  강릉시  일반용  16,431   31,690,515 \n629  201211  강원도  강릉시  일반용  16,539   34,694,500 \n..      ...  ...  ...  ...      ...          ...\n333  201208  강원도  횡성군  일반용   4,060    9,221,624 \n477  201209  강원도  횡성군  일반용   4,090    7,717,793 \n621  201210  강원도  횡성군  일반용   4,145    6,965,137 \n765  201211  강원도  횡성군  일반용   4,198    9,319,054 \n909  201212  강원도  횡성군  일반용   4,249   12,840,546 \n\n[108 rows x 6 columns]",
      "text/html": "<div>\n<style scoped>\n    .dataframe tbody tr th:only-of-type {\n        vertical-align: middle;\n    }\n\n    .dataframe tbody tr th {\n        vertical-align: top;\n    }\n\n    .dataframe thead th {\n        text-align: right;\n    }\n</style>\n<table border=\"1\" class=\"dataframe\">\n  <thead>\n    <tr style=\"text-align: right;\">\n      <th></th>\n      <th>년월</th>\n      <th>시구</th>\n      <th>시군구</th>\n      <th>계약구분</th>\n      <th>고객호수(호)</th>\n      <th>사용량(kWh)</th>\n    </tr>\n  </thead>\n  <tbody>\n    <tr>\n      <th>53</th>\n      <td>201207</td>\n      <td>강원도</td>\n      <td>강릉시</td>\n      <td>일반용</td>\n      <td>16,205</td>\n      <td>34,530,914</td>\n    </tr>\n    <tr>\n      <th>197</th>\n      <td>201208</td>\n      <td>강원도</td>\n      <td>강릉시</td>\n      <td>일반용</td>\n      <td>16,272</td>\n      <td>42,030,483</td>\n    </tr>\n    <tr>\n      <th>341</th>\n      <td>201209</td>\n      <td>강원도</td>\n      <td>강릉시</td>\n      <td>일반용</td>\n      <td>16,344</td>\n      <td>36,690,466</td>\n    </tr>\n    <tr>\n      <th>485</th>\n      <td>201210</td>\n      <td>강원도</td>\n      <td>강릉시</td>\n      <td>일반용</td>\n      <td>16,431</td>\n      <td>31,690,515</td>\n    </tr>\n    <tr>\n      <th>629</th>\n      <td>201211</td>\n      <td>강원도</td>\n      <td>강릉시</td>\n      <td>일반용</td>\n      <td>16,539</td>\n      <td>34,694,500</td>\n    </tr>\n    <tr>\n      <th>...</th>\n      <td>...</td>\n      <td>...</td>\n      <td>...</td>\n      <td>...</td>\n      <td>...</td>\n      <td>...</td>\n    </tr>\n    <tr>\n      <th>333</th>\n      <td>201208</td>\n      <td>강원도</td>\n      <td>횡성군</td>\n      <td>일반용</td>\n      <td>4,060</td>\n      <td>9,221,624</td>\n    </tr>\n    <tr>\n      <th>477</th>\n      <td>201209</td>\n      <td>강원도</td>\n      <td>횡성군</td>\n      <td>일반용</td>\n      <td>4,090</td>\n      <td>7,717,793</td>\n    </tr>\n    <tr>\n      <th>621</th>\n      <td>201210</td>\n      <td>강원도</td>\n      <td>횡성군</td>\n      <td>일반용</td>\n      <td>4,145</td>\n      <td>6,965,137</td>\n    </tr>\n    <tr>\n      <th>765</th>\n      <td>201211</td>\n      <td>강원도</td>\n      <td>횡성군</td>\n      <td>일반용</td>\n      <td>4,198</td>\n      <td>9,319,054</td>\n    </tr>\n    <tr>\n      <th>909</th>\n      <td>201212</td>\n      <td>강원도</td>\n      <td>횡성군</td>\n      <td>일반용</td>\n      <td>4,249</td>\n      <td>12,840,546</td>\n    </tr>\n  </tbody>\n</table>\n<p>108 rows × 6 columns</p>\n</div>"
     },
     "execution_count": 8,
     "metadata": {},
     "output_type": "execute_result"
    }
   ],
   "source": [
    "df_3 = df.loc[48:]\n",
    "df_3 = df_3.loc[(df_3['계약구분'] == '일반용')]\n",
    "df_3 = df_3.sort_values(by=['시군구' , '년월'])\n",
    "df_3.drop(['전기요금(원)',   '평균판매단가(원/kWh)'] , axis = 1 , inplace = True)\n",
    "df_3"
   ]
  },
  {
   "cell_type": "code",
   "execution_count": 9,
   "metadata": {
    "pycharm": {
     "name": "#%%\n"
    }
   },
   "outputs": [
    {
     "data": {
      "text/plain": "['강릉시',\n '고성군',\n '동해시',\n '삼척시',\n '속초시',\n '양구군',\n '양양군',\n '영월군',\n '원주시',\n '인제군',\n '정선군',\n '철원군',\n '춘천시',\n '태백시',\n '평창군',\n '홍천군',\n '화천군',\n '횡성군']"
     },
     "execution_count": 9,
     "metadata": {},
     "output_type": "execute_result"
    }
   ],
   "source": [
    "SIGUNGU = list(set(df_3.loc[: , '시군구'].tolist()))\n",
    "SIGUNGU.sort()\n",
    "SIGUNGU"
   ]
  },
  {
   "cell_type": "code",
   "execution_count": 10,
   "outputs": [
    {
     "data": {
      "text/plain": "0      201207\n1      201208\n2      201209\n3      201210\n4      201211\n        ...  \n103    201208\n104    201209\n105    201210\n106    201211\n107    201212\nName: 년월, Length: 108, dtype: object"
     },
     "execution_count": 10,
     "metadata": {},
     "output_type": "execute_result"
    }
   ],
   "source": [
    "Time = df_3['년월']\n",
    "Time.reset_index(drop=True , inplace = True)\n",
    "Time"
   ],
   "metadata": {
    "collapsed": false,
    "pycharm": {
     "name": "#%%\n"
    }
   }
  },
  {
   "cell_type": "code",
   "execution_count": 11,
   "outputs": [
    {
     "data": {
      "text/plain": "'강원도'"
     },
     "execution_count": 11,
     "metadata": {},
     "output_type": "execute_result"
    }
   ],
   "source": [
    "a = df_3.loc[: , \"시구\"]\n",
    "b = a[:1].tolist()\n",
    "for i in b:\n",
    "    City = i\n",
    "City"
   ],
   "metadata": {
    "collapsed": false,
    "pycharm": {
     "name": "#%%\n"
    }
   }
  },
  {
   "cell_type": "code",
   "execution_count": 12,
   "metadata": {
    "pycharm": {
     "name": "#%%\n"
    }
   },
   "outputs": [
    {
     "data": {
      "text/plain": "         년월   시구  시군구 계약구분   고객호수(호)      사용량(kWh)\n55   201207  강원도  강릉시   합계  116,209   148,585,668 \n199  201208  강원도  강릉시   합계  116,448   147,674,991 \n343  201209  강원도  강릉시   합계  116,810   123,176,569 \n487  201210  강원도  강릉시   합계  117,059   130,906,118 \n631  201211  강원도  강릉시   합계  117,473   142,826,670 \n..      ...  ...  ...  ...       ...           ...\n335  201208  강원도  횡성군   합계   42,955    33,594,690 \n479  201209  강원도  횡성군   합계   43,076    31,929,663 \n623  201210  강원도  횡성군   합계   43,185    33,725,873 \n767  201211  강원도  횡성군   합계   45,226    46,211,281 \n911  201212  강원도  횡성군   합계   43,348    56,156,308 \n\n[108 rows x 6 columns]",
      "text/html": "<div>\n<style scoped>\n    .dataframe tbody tr th:only-of-type {\n        vertical-align: middle;\n    }\n\n    .dataframe tbody tr th {\n        vertical-align: top;\n    }\n\n    .dataframe thead th {\n        text-align: right;\n    }\n</style>\n<table border=\"1\" class=\"dataframe\">\n  <thead>\n    <tr style=\"text-align: right;\">\n      <th></th>\n      <th>년월</th>\n      <th>시구</th>\n      <th>시군구</th>\n      <th>계약구분</th>\n      <th>고객호수(호)</th>\n      <th>사용량(kWh)</th>\n    </tr>\n  </thead>\n  <tbody>\n    <tr>\n      <th>55</th>\n      <td>201207</td>\n      <td>강원도</td>\n      <td>강릉시</td>\n      <td>합계</td>\n      <td>116,209</td>\n      <td>148,585,668</td>\n    </tr>\n    <tr>\n      <th>199</th>\n      <td>201208</td>\n      <td>강원도</td>\n      <td>강릉시</td>\n      <td>합계</td>\n      <td>116,448</td>\n      <td>147,674,991</td>\n    </tr>\n    <tr>\n      <th>343</th>\n      <td>201209</td>\n      <td>강원도</td>\n      <td>강릉시</td>\n      <td>합계</td>\n      <td>116,810</td>\n      <td>123,176,569</td>\n    </tr>\n    <tr>\n      <th>487</th>\n      <td>201210</td>\n      <td>강원도</td>\n      <td>강릉시</td>\n      <td>합계</td>\n      <td>117,059</td>\n      <td>130,906,118</td>\n    </tr>\n    <tr>\n      <th>631</th>\n      <td>201211</td>\n      <td>강원도</td>\n      <td>강릉시</td>\n      <td>합계</td>\n      <td>117,473</td>\n      <td>142,826,670</td>\n    </tr>\n    <tr>\n      <th>...</th>\n      <td>...</td>\n      <td>...</td>\n      <td>...</td>\n      <td>...</td>\n      <td>...</td>\n      <td>...</td>\n    </tr>\n    <tr>\n      <th>335</th>\n      <td>201208</td>\n      <td>강원도</td>\n      <td>횡성군</td>\n      <td>합계</td>\n      <td>42,955</td>\n      <td>33,594,690</td>\n    </tr>\n    <tr>\n      <th>479</th>\n      <td>201209</td>\n      <td>강원도</td>\n      <td>횡성군</td>\n      <td>합계</td>\n      <td>43,076</td>\n      <td>31,929,663</td>\n    </tr>\n    <tr>\n      <th>623</th>\n      <td>201210</td>\n      <td>강원도</td>\n      <td>횡성군</td>\n      <td>합계</td>\n      <td>43,185</td>\n      <td>33,725,873</td>\n    </tr>\n    <tr>\n      <th>767</th>\n      <td>201211</td>\n      <td>강원도</td>\n      <td>횡성군</td>\n      <td>합계</td>\n      <td>45,226</td>\n      <td>46,211,281</td>\n    </tr>\n    <tr>\n      <th>911</th>\n      <td>201212</td>\n      <td>강원도</td>\n      <td>횡성군</td>\n      <td>합계</td>\n      <td>43,348</td>\n      <td>56,156,308</td>\n    </tr>\n  </tbody>\n</table>\n<p>108 rows × 6 columns</p>\n</div>"
     },
     "execution_count": 12,
     "metadata": {},
     "output_type": "execute_result"
    }
   ],
   "source": [
    "df_4 = df.loc[48:]\n",
    "df_4 = df_4.loc[(df_4['계약구분'] == '합계')]\n",
    "df_4 = df_4.sort_values(by=['시군구' , '년월'])\n",
    "df_4.drop(['전기요금(원)',   '평균판매단가(원/kWh)'] , axis = 1 , inplace = True)\n",
    "df_4"
   ]
  },
  {
   "cell_type": "code",
   "execution_count": 13,
   "metadata": {
    "pycharm": {
     "name": "#%%\n"
    }
   },
   "outputs": [
    {
     "data": {
      "text/plain": "['년월', '시구', '시군구', '계약구분', '고객호수(호)', '사용량(kWh)']"
     },
     "execution_count": 13,
     "metadata": {},
     "output_type": "execute_result"
    }
   ],
   "source": [
    "a = (df_3.columns).tolist()\n",
    "\n",
    "a"
   ]
  },
  {
   "cell_type": "code",
   "execution_count": 14,
   "metadata": {
    "pycharm": {
     "name": "#%%\n"
    }
   },
   "outputs": [
    {
     "data": {
      "text/plain": "         년월   시구  시군구 계약구분  고객호수(호)     사용량(kWh)\n53   201207  강원도  강릉시  일반용  16,205   34,530,914 \n197  201208  강원도  강릉시  일반용  16,272   42,030,483 \n341  201209  강원도  강릉시  일반용  16,344   36,690,466 \n485  201210  강원도  강릉시  일반용  16,431   31,690,515 \n629  201211  강원도  강릉시  일반용  16,539   34,694,500 \n..      ...  ...  ...  ...      ...          ...\n333  201208  강원도  횡성군  일반용   4,060    9,221,624 \n477  201209  강원도  횡성군  일반용   4,090    7,717,793 \n621  201210  강원도  횡성군  일반용   4,145    6,965,137 \n765  201211  강원도  횡성군  일반용   4,198    9,319,054 \n909  201212  강원도  횡성군  일반용   4,249   12,840,546 \n\n[108 rows x 6 columns]",
      "text/html": "<div>\n<style scoped>\n    .dataframe tbody tr th:only-of-type {\n        vertical-align: middle;\n    }\n\n    .dataframe tbody tr th {\n        vertical-align: top;\n    }\n\n    .dataframe thead th {\n        text-align: right;\n    }\n</style>\n<table border=\"1\" class=\"dataframe\">\n  <thead>\n    <tr style=\"text-align: right;\">\n      <th></th>\n      <th>년월</th>\n      <th>시구</th>\n      <th>시군구</th>\n      <th>계약구분</th>\n      <th>고객호수(호)</th>\n      <th>사용량(kWh)</th>\n    </tr>\n  </thead>\n  <tbody>\n    <tr>\n      <th>53</th>\n      <td>201207</td>\n      <td>강원도</td>\n      <td>강릉시</td>\n      <td>일반용</td>\n      <td>16,205</td>\n      <td>34,530,914</td>\n    </tr>\n    <tr>\n      <th>197</th>\n      <td>201208</td>\n      <td>강원도</td>\n      <td>강릉시</td>\n      <td>일반용</td>\n      <td>16,272</td>\n      <td>42,030,483</td>\n    </tr>\n    <tr>\n      <th>341</th>\n      <td>201209</td>\n      <td>강원도</td>\n      <td>강릉시</td>\n      <td>일반용</td>\n      <td>16,344</td>\n      <td>36,690,466</td>\n    </tr>\n    <tr>\n      <th>485</th>\n      <td>201210</td>\n      <td>강원도</td>\n      <td>강릉시</td>\n      <td>일반용</td>\n      <td>16,431</td>\n      <td>31,690,515</td>\n    </tr>\n    <tr>\n      <th>629</th>\n      <td>201211</td>\n      <td>강원도</td>\n      <td>강릉시</td>\n      <td>일반용</td>\n      <td>16,539</td>\n      <td>34,694,500</td>\n    </tr>\n    <tr>\n      <th>...</th>\n      <td>...</td>\n      <td>...</td>\n      <td>...</td>\n      <td>...</td>\n      <td>...</td>\n      <td>...</td>\n    </tr>\n    <tr>\n      <th>333</th>\n      <td>201208</td>\n      <td>강원도</td>\n      <td>횡성군</td>\n      <td>일반용</td>\n      <td>4,060</td>\n      <td>9,221,624</td>\n    </tr>\n    <tr>\n      <th>477</th>\n      <td>201209</td>\n      <td>강원도</td>\n      <td>횡성군</td>\n      <td>일반용</td>\n      <td>4,090</td>\n      <td>7,717,793</td>\n    </tr>\n    <tr>\n      <th>621</th>\n      <td>201210</td>\n      <td>강원도</td>\n      <td>횡성군</td>\n      <td>일반용</td>\n      <td>4,145</td>\n      <td>6,965,137</td>\n    </tr>\n    <tr>\n      <th>765</th>\n      <td>201211</td>\n      <td>강원도</td>\n      <td>횡성군</td>\n      <td>일반용</td>\n      <td>4,198</td>\n      <td>9,319,054</td>\n    </tr>\n    <tr>\n      <th>909</th>\n      <td>201212</td>\n      <td>강원도</td>\n      <td>횡성군</td>\n      <td>일반용</td>\n      <td>4,249</td>\n      <td>12,840,546</td>\n    </tr>\n  </tbody>\n</table>\n<p>108 rows × 6 columns</p>\n</div>"
     },
     "execution_count": 14,
     "metadata": {},
     "output_type": "execute_result"
    }
   ],
   "source": [
    "df_3"
   ]
  },
  {
   "cell_type": "code",
   "execution_count": 15,
   "metadata": {
    "pycharm": {
     "name": "#%%\n"
    }
   },
   "outputs": [
    {
     "data": {
      "text/plain": "         년월   시구  시군구 계약구분   고객호수(호)      사용량(kWh)\n53   201207  강원도  강릉시  일반용   16,205    34,530,914 \n55   201207  강원도  강릉시   합계  116,209   148,585,668 \n197  201208  강원도  강릉시  일반용   16,272    42,030,483 \n199  201208  강원도  강릉시   합계  116,448   147,674,991 \n341  201209  강원도  강릉시  일반용   16,344    36,690,466 \n..      ...  ...  ...  ...       ...           ...\n623  201210  강원도  횡성군   합계   43,185    33,725,873 \n765  201211  강원도  횡성군  일반용    4,198     9,319,054 \n767  201211  강원도  횡성군   합계   45,226    46,211,281 \n909  201212  강원도  횡성군  일반용    4,249    12,840,546 \n911  201212  강원도  횡성군   합계   43,348    56,156,308 \n\n[216 rows x 6 columns]",
      "text/html": "<div>\n<style scoped>\n    .dataframe tbody tr th:only-of-type {\n        vertical-align: middle;\n    }\n\n    .dataframe tbody tr th {\n        vertical-align: top;\n    }\n\n    .dataframe thead th {\n        text-align: right;\n    }\n</style>\n<table border=\"1\" class=\"dataframe\">\n  <thead>\n    <tr style=\"text-align: right;\">\n      <th></th>\n      <th>년월</th>\n      <th>시구</th>\n      <th>시군구</th>\n      <th>계약구분</th>\n      <th>고객호수(호)</th>\n      <th>사용량(kWh)</th>\n    </tr>\n  </thead>\n  <tbody>\n    <tr>\n      <th>53</th>\n      <td>201207</td>\n      <td>강원도</td>\n      <td>강릉시</td>\n      <td>일반용</td>\n      <td>16,205</td>\n      <td>34,530,914</td>\n    </tr>\n    <tr>\n      <th>55</th>\n      <td>201207</td>\n      <td>강원도</td>\n      <td>강릉시</td>\n      <td>합계</td>\n      <td>116,209</td>\n      <td>148,585,668</td>\n    </tr>\n    <tr>\n      <th>197</th>\n      <td>201208</td>\n      <td>강원도</td>\n      <td>강릉시</td>\n      <td>일반용</td>\n      <td>16,272</td>\n      <td>42,030,483</td>\n    </tr>\n    <tr>\n      <th>199</th>\n      <td>201208</td>\n      <td>강원도</td>\n      <td>강릉시</td>\n      <td>합계</td>\n      <td>116,448</td>\n      <td>147,674,991</td>\n    </tr>\n    <tr>\n      <th>341</th>\n      <td>201209</td>\n      <td>강원도</td>\n      <td>강릉시</td>\n      <td>일반용</td>\n      <td>16,344</td>\n      <td>36,690,466</td>\n    </tr>\n    <tr>\n      <th>...</th>\n      <td>...</td>\n      <td>...</td>\n      <td>...</td>\n      <td>...</td>\n      <td>...</td>\n      <td>...</td>\n    </tr>\n    <tr>\n      <th>623</th>\n      <td>201210</td>\n      <td>강원도</td>\n      <td>횡성군</td>\n      <td>합계</td>\n      <td>43,185</td>\n      <td>33,725,873</td>\n    </tr>\n    <tr>\n      <th>765</th>\n      <td>201211</td>\n      <td>강원도</td>\n      <td>횡성군</td>\n      <td>일반용</td>\n      <td>4,198</td>\n      <td>9,319,054</td>\n    </tr>\n    <tr>\n      <th>767</th>\n      <td>201211</td>\n      <td>강원도</td>\n      <td>횡성군</td>\n      <td>합계</td>\n      <td>45,226</td>\n      <td>46,211,281</td>\n    </tr>\n    <tr>\n      <th>909</th>\n      <td>201212</td>\n      <td>강원도</td>\n      <td>횡성군</td>\n      <td>일반용</td>\n      <td>4,249</td>\n      <td>12,840,546</td>\n    </tr>\n    <tr>\n      <th>911</th>\n      <td>201212</td>\n      <td>강원도</td>\n      <td>횡성군</td>\n      <td>합계</td>\n      <td>43,348</td>\n      <td>56,156,308</td>\n    </tr>\n  </tbody>\n</table>\n<p>216 rows × 6 columns</p>\n</div>"
     },
     "execution_count": 15,
     "metadata": {},
     "output_type": "execute_result"
    }
   ],
   "source": [
    "\n",
    "df_5 = pd.concat([df_4 , df_3])\n",
    "df_5 = df_5.sort_values(by=['시군구' , '년월' , '계약구분'])\n",
    "df_5"
   ]
  },
  {
   "cell_type": "code",
   "execution_count": 16,
   "outputs": [
    {
     "data": {
      "text/plain": "         년월   시구  시군구 계약구분  고객호수(호)     사용량(kWh)\n53   201207  강원도  강릉시  일반용  16,205   34,530,914 \n197  201208  강원도  강릉시  일반용  16,272   42,030,483 \n341  201209  강원도  강릉시  일반용  16,344   36,690,466 \n485  201210  강원도  강릉시  일반용  16,431   31,690,515 \n629  201211  강원도  강릉시  일반용  16,539   34,694,500 \n..      ...  ...  ...  ...      ...          ...\n333  201208  강원도  횡성군  일반용   4,060    9,221,624 \n477  201209  강원도  횡성군  일반용   4,090    7,717,793 \n621  201210  강원도  횡성군  일반용   4,145    6,965,137 \n765  201211  강원도  횡성군  일반용   4,198    9,319,054 \n909  201212  강원도  횡성군  일반용   4,249   12,840,546 \n\n[108 rows x 6 columns]",
      "text/html": "<div>\n<style scoped>\n    .dataframe tbody tr th:only-of-type {\n        vertical-align: middle;\n    }\n\n    .dataframe tbody tr th {\n        vertical-align: top;\n    }\n\n    .dataframe thead th {\n        text-align: right;\n    }\n</style>\n<table border=\"1\" class=\"dataframe\">\n  <thead>\n    <tr style=\"text-align: right;\">\n      <th></th>\n      <th>년월</th>\n      <th>시구</th>\n      <th>시군구</th>\n      <th>계약구분</th>\n      <th>고객호수(호)</th>\n      <th>사용량(kWh)</th>\n    </tr>\n  </thead>\n  <tbody>\n    <tr>\n      <th>53</th>\n      <td>201207</td>\n      <td>강원도</td>\n      <td>강릉시</td>\n      <td>일반용</td>\n      <td>16,205</td>\n      <td>34,530,914</td>\n    </tr>\n    <tr>\n      <th>197</th>\n      <td>201208</td>\n      <td>강원도</td>\n      <td>강릉시</td>\n      <td>일반용</td>\n      <td>16,272</td>\n      <td>42,030,483</td>\n    </tr>\n    <tr>\n      <th>341</th>\n      <td>201209</td>\n      <td>강원도</td>\n      <td>강릉시</td>\n      <td>일반용</td>\n      <td>16,344</td>\n      <td>36,690,466</td>\n    </tr>\n    <tr>\n      <th>485</th>\n      <td>201210</td>\n      <td>강원도</td>\n      <td>강릉시</td>\n      <td>일반용</td>\n      <td>16,431</td>\n      <td>31,690,515</td>\n    </tr>\n    <tr>\n      <th>629</th>\n      <td>201211</td>\n      <td>강원도</td>\n      <td>강릉시</td>\n      <td>일반용</td>\n      <td>16,539</td>\n      <td>34,694,500</td>\n    </tr>\n    <tr>\n      <th>...</th>\n      <td>...</td>\n      <td>...</td>\n      <td>...</td>\n      <td>...</td>\n      <td>...</td>\n      <td>...</td>\n    </tr>\n    <tr>\n      <th>333</th>\n      <td>201208</td>\n      <td>강원도</td>\n      <td>횡성군</td>\n      <td>일반용</td>\n      <td>4,060</td>\n      <td>9,221,624</td>\n    </tr>\n    <tr>\n      <th>477</th>\n      <td>201209</td>\n      <td>강원도</td>\n      <td>횡성군</td>\n      <td>일반용</td>\n      <td>4,090</td>\n      <td>7,717,793</td>\n    </tr>\n    <tr>\n      <th>621</th>\n      <td>201210</td>\n      <td>강원도</td>\n      <td>횡성군</td>\n      <td>일반용</td>\n      <td>4,145</td>\n      <td>6,965,137</td>\n    </tr>\n    <tr>\n      <th>765</th>\n      <td>201211</td>\n      <td>강원도</td>\n      <td>횡성군</td>\n      <td>일반용</td>\n      <td>4,198</td>\n      <td>9,319,054</td>\n    </tr>\n    <tr>\n      <th>909</th>\n      <td>201212</td>\n      <td>강원도</td>\n      <td>횡성군</td>\n      <td>일반용</td>\n      <td>4,249</td>\n      <td>12,840,546</td>\n    </tr>\n  </tbody>\n</table>\n<p>108 rows × 6 columns</p>\n</div>"
     },
     "execution_count": 16,
     "metadata": {},
     "output_type": "execute_result"
    }
   ],
   "source": [
    "df_3 ##일반용"
   ],
   "metadata": {
    "collapsed": false,
    "pycharm": {
     "name": "#%%\n"
    }
   }
  },
  {
   "cell_type": "code",
   "execution_count": 17,
   "outputs": [
    {
     "data": {
      "text/plain": "         년월   시구  시군구 계약구분   고객호수(호)      사용량(kWh)\n55   201207  강원도  강릉시   합계  116,209   148,585,668 \n199  201208  강원도  강릉시   합계  116,448   147,674,991 \n343  201209  강원도  강릉시   합계  116,810   123,176,569 \n487  201210  강원도  강릉시   합계  117,059   130,906,118 \n631  201211  강원도  강릉시   합계  117,473   142,826,670 \n..      ...  ...  ...  ...       ...           ...\n335  201208  강원도  횡성군   합계   42,955    33,594,690 \n479  201209  강원도  횡성군   합계   43,076    31,929,663 \n623  201210  강원도  횡성군   합계   43,185    33,725,873 \n767  201211  강원도  횡성군   합계   45,226    46,211,281 \n911  201212  강원도  횡성군   합계   43,348    56,156,308 \n\n[108 rows x 6 columns]",
      "text/html": "<div>\n<style scoped>\n    .dataframe tbody tr th:only-of-type {\n        vertical-align: middle;\n    }\n\n    .dataframe tbody tr th {\n        vertical-align: top;\n    }\n\n    .dataframe thead th {\n        text-align: right;\n    }\n</style>\n<table border=\"1\" class=\"dataframe\">\n  <thead>\n    <tr style=\"text-align: right;\">\n      <th></th>\n      <th>년월</th>\n      <th>시구</th>\n      <th>시군구</th>\n      <th>계약구분</th>\n      <th>고객호수(호)</th>\n      <th>사용량(kWh)</th>\n    </tr>\n  </thead>\n  <tbody>\n    <tr>\n      <th>55</th>\n      <td>201207</td>\n      <td>강원도</td>\n      <td>강릉시</td>\n      <td>합계</td>\n      <td>116,209</td>\n      <td>148,585,668</td>\n    </tr>\n    <tr>\n      <th>199</th>\n      <td>201208</td>\n      <td>강원도</td>\n      <td>강릉시</td>\n      <td>합계</td>\n      <td>116,448</td>\n      <td>147,674,991</td>\n    </tr>\n    <tr>\n      <th>343</th>\n      <td>201209</td>\n      <td>강원도</td>\n      <td>강릉시</td>\n      <td>합계</td>\n      <td>116,810</td>\n      <td>123,176,569</td>\n    </tr>\n    <tr>\n      <th>487</th>\n      <td>201210</td>\n      <td>강원도</td>\n      <td>강릉시</td>\n      <td>합계</td>\n      <td>117,059</td>\n      <td>130,906,118</td>\n    </tr>\n    <tr>\n      <th>631</th>\n      <td>201211</td>\n      <td>강원도</td>\n      <td>강릉시</td>\n      <td>합계</td>\n      <td>117,473</td>\n      <td>142,826,670</td>\n    </tr>\n    <tr>\n      <th>...</th>\n      <td>...</td>\n      <td>...</td>\n      <td>...</td>\n      <td>...</td>\n      <td>...</td>\n      <td>...</td>\n    </tr>\n    <tr>\n      <th>335</th>\n      <td>201208</td>\n      <td>강원도</td>\n      <td>횡성군</td>\n      <td>합계</td>\n      <td>42,955</td>\n      <td>33,594,690</td>\n    </tr>\n    <tr>\n      <th>479</th>\n      <td>201209</td>\n      <td>강원도</td>\n      <td>횡성군</td>\n      <td>합계</td>\n      <td>43,076</td>\n      <td>31,929,663</td>\n    </tr>\n    <tr>\n      <th>623</th>\n      <td>201210</td>\n      <td>강원도</td>\n      <td>횡성군</td>\n      <td>합계</td>\n      <td>43,185</td>\n      <td>33,725,873</td>\n    </tr>\n    <tr>\n      <th>767</th>\n      <td>201211</td>\n      <td>강원도</td>\n      <td>횡성군</td>\n      <td>합계</td>\n      <td>45,226</td>\n      <td>46,211,281</td>\n    </tr>\n    <tr>\n      <th>911</th>\n      <td>201212</td>\n      <td>강원도</td>\n      <td>횡성군</td>\n      <td>합계</td>\n      <td>43,348</td>\n      <td>56,156,308</td>\n    </tr>\n  </tbody>\n</table>\n<p>108 rows × 6 columns</p>\n</div>"
     },
     "execution_count": 17,
     "metadata": {},
     "output_type": "execute_result"
    }
   ],
   "source": [
    "df_4 ## 합계"
   ],
   "metadata": {
    "collapsed": false,
    "pycharm": {
     "name": "#%%\n"
    }
   }
  },
  {
   "cell_type": "code",
   "execution_count": 18,
   "outputs": [
    {
     "name": "stdout",
     "output_type": "stream",
     "text": [
      "[23.239733996417474, 28.461476594909698, 29.78688747208083, 24.208582061840687, 24.29133158394017, 24.45790410183578, 45.885338997187446, 50.39559318459445, 43.527039679276754, 41.39051879970892, 38.1181915699282, 37.037673434094046, 5.4121304617977035, 7.086342789184408, 6.078413597885862, 5.090492174846313, 5.8283604595371745, 6.469597226309411, 11.162182856064321, 13.488121054266028, 12.154886048658147, 10.414534912484916, 11.795366848226992, 12.306866554059715, 54.634152355529594, 57.80059634784048, 53.2366301951988, 50.919554938609636, 47.646978024732995, 47.50139374155745, 44.268652614725326, 45.887421978255205, 42.59673284160242, 38.53186329545965, 30.89819038692993, 33.18953304314752, 47.50433116337673, 52.2054150573516, 46.630066071376376, 41.08052973701716, 39.88986809268492, 38.842995301960485, 7.487022938878569, 8.776869076350742, 7.432172769141733, 5.985988843461667, 6.189574322219804, 7.1440132019158815, 33.630744056599944, 35.951006572492254, 32.87715877009166, 29.11223028977552, 27.143816437470907, 28.19425500788088, 49.659854193401884, 52.02033247301196, 46.61121664902184, 42.84026523613589, 36.32209690880867, 36.18251266484396, 30.056663227156633, 34.75810039796373, 27.96608964116507, 28.74049418271547, 33.13836648651924, 34.29612809179537, 38.294453371122884, 40.4033799331667, 36.989850638122896, 34.84253305553107, 24.569320284134946, 29.196218723707794, 44.41796786131891, 45.917811215513886, 43.469133930469475, 39.724676567449976, 37.01210163992474, 34.41806837999124, 26.593929591294835, 29.31588537771787, 26.428661747722337, 23.964920861660673, 25.766360927906284, 28.098196813168475, 44.721572887214975, 47.99038073673316, 40.20585493951088, 36.136168012408675, 39.89707152966339, 40.58208816013632, 40.75296836460466, 43.028531698689775, 37.213886755165476, 32.52129668351689, 30.604033826126393, 31.70866791634844, 52.03778757563672, 54.24388690029712, 50.56393031546548, 45.72760960662981, 41.96000947484164, 41.25475897232695, 24.642117586716807, 27.44964754846674, 24.171232248833945, 20.652206690098133, 20.166188424856692, 22.865723295057077]\n",
      "108\n"
     ]
    }
   ],
   "source": [
    "#sum2 , sum3 =[] , []\n",
    "rate = []\n",
    "for k in SIGUNGU:\n",
    "    Hap = pd.DataFrame([] , columns = a)\n",
    "    Hap2 = pd.DataFrame([] , columns = a)\n",
    "\n",
    "    Hap['사용량_일반용']= df_3['사용량(kWh)'].loc[(df_3['시군구'] == '{}'.format(k))]\n",
    "    Hap2['사용량_합계']= df_4['사용량(kWh)'].loc[(df_4['시군구'] == '{}'.format(k))]\n",
    "\n",
    "    b = Hap['사용량_일반용'].tolist()\n",
    "\n",
    "    c = Hap2['사용량_합계'].tolist()\n",
    "\n",
    "    int_list , int_list2 = [] , []\n",
    "    for i in b:\n",
    "         i = re.sub(\",\" , \"\" , i)\n",
    "         #콤마 없애기\n",
    "         int_list.append(int(i))\n",
    "\n",
    "    for i in c:\n",
    "         i = re.sub(\",\" , \"\" , i)\n",
    "         int_list2.append(int(i))\n",
    "\n",
    "\n",
    "\n",
    "    for i in range(len(int_list)):\n",
    "        rate2 = 0\n",
    "        rate2 = int_list[i] / int_list2[i] *100\n",
    "        rate.append(rate2)\n",
    "print(rate)\n",
    "\n",
    "print(len(rate))\n",
    "\n",
    "#print(\"{} 지역별 합계 : \".format(City) , sum2)\n",
    "#print(\"{} 고객호수 평균: \".format(City) , sum3)"
   ],
   "metadata": {
    "collapsed": false,
    "pycharm": {
     "name": "#%%\n"
    }
   }
  },
  {
   "cell_type": "code",
   "execution_count": 19,
   "outputs": [
    {
     "data": {
      "text/plain": "         년월   시구  시군구 계약구분   고객호수(호)      사용량(kWh)\n53   201207  강원도  강릉시  일반용   16,205    34,530,914 \n55   201207  강원도  강릉시   합계  116,209   148,585,668 \n197  201208  강원도  강릉시  일반용   16,272    42,030,483 \n199  201208  강원도  강릉시   합계  116,448   147,674,991 \n341  201209  강원도  강릉시  일반용   16,344    36,690,466 \n..      ...  ...  ...  ...       ...           ...\n623  201210  강원도  횡성군   합계   43,185    33,725,873 \n765  201211  강원도  횡성군  일반용    4,198     9,319,054 \n767  201211  강원도  횡성군   합계   45,226    46,211,281 \n909  201212  강원도  횡성군  일반용    4,249    12,840,546 \n911  201212  강원도  횡성군   합계   43,348    56,156,308 \n\n[216 rows x 6 columns]",
      "text/html": "<div>\n<style scoped>\n    .dataframe tbody tr th:only-of-type {\n        vertical-align: middle;\n    }\n\n    .dataframe tbody tr th {\n        vertical-align: top;\n    }\n\n    .dataframe thead th {\n        text-align: right;\n    }\n</style>\n<table border=\"1\" class=\"dataframe\">\n  <thead>\n    <tr style=\"text-align: right;\">\n      <th></th>\n      <th>년월</th>\n      <th>시구</th>\n      <th>시군구</th>\n      <th>계약구분</th>\n      <th>고객호수(호)</th>\n      <th>사용량(kWh)</th>\n    </tr>\n  </thead>\n  <tbody>\n    <tr>\n      <th>53</th>\n      <td>201207</td>\n      <td>강원도</td>\n      <td>강릉시</td>\n      <td>일반용</td>\n      <td>16,205</td>\n      <td>34,530,914</td>\n    </tr>\n    <tr>\n      <th>55</th>\n      <td>201207</td>\n      <td>강원도</td>\n      <td>강릉시</td>\n      <td>합계</td>\n      <td>116,209</td>\n      <td>148,585,668</td>\n    </tr>\n    <tr>\n      <th>197</th>\n      <td>201208</td>\n      <td>강원도</td>\n      <td>강릉시</td>\n      <td>일반용</td>\n      <td>16,272</td>\n      <td>42,030,483</td>\n    </tr>\n    <tr>\n      <th>199</th>\n      <td>201208</td>\n      <td>강원도</td>\n      <td>강릉시</td>\n      <td>합계</td>\n      <td>116,448</td>\n      <td>147,674,991</td>\n    </tr>\n    <tr>\n      <th>341</th>\n      <td>201209</td>\n      <td>강원도</td>\n      <td>강릉시</td>\n      <td>일반용</td>\n      <td>16,344</td>\n      <td>36,690,466</td>\n    </tr>\n    <tr>\n      <th>...</th>\n      <td>...</td>\n      <td>...</td>\n      <td>...</td>\n      <td>...</td>\n      <td>...</td>\n      <td>...</td>\n    </tr>\n    <tr>\n      <th>623</th>\n      <td>201210</td>\n      <td>강원도</td>\n      <td>횡성군</td>\n      <td>합계</td>\n      <td>43,185</td>\n      <td>33,725,873</td>\n    </tr>\n    <tr>\n      <th>765</th>\n      <td>201211</td>\n      <td>강원도</td>\n      <td>횡성군</td>\n      <td>일반용</td>\n      <td>4,198</td>\n      <td>9,319,054</td>\n    </tr>\n    <tr>\n      <th>767</th>\n      <td>201211</td>\n      <td>강원도</td>\n      <td>횡성군</td>\n      <td>합계</td>\n      <td>45,226</td>\n      <td>46,211,281</td>\n    </tr>\n    <tr>\n      <th>909</th>\n      <td>201212</td>\n      <td>강원도</td>\n      <td>횡성군</td>\n      <td>일반용</td>\n      <td>4,249</td>\n      <td>12,840,546</td>\n    </tr>\n    <tr>\n      <th>911</th>\n      <td>201212</td>\n      <td>강원도</td>\n      <td>횡성군</td>\n      <td>합계</td>\n      <td>43,348</td>\n      <td>56,156,308</td>\n    </tr>\n  </tbody>\n</table>\n<p>216 rows × 6 columns</p>\n</div>"
     },
     "execution_count": 19,
     "metadata": {},
     "output_type": "execute_result"
    }
   ],
   "source": [
    "df_5"
   ],
   "metadata": {
    "collapsed": false,
    "pycharm": {
     "name": "#%%\n"
    }
   }
  },
  {
   "cell_type": "code",
   "execution_count": 20,
   "metadata": {
    "pycharm": {
     "name": "#%%\n"
    }
   },
   "outputs": [
    {
     "data": {
      "text/plain": "0      강릉시\n1      강릉시\n2      강릉시\n3      강릉시\n4      강릉시\n      ... \n103    횡성군\n104    횡성군\n105    횡성군\n106    횡성군\n107    횡성군\nName: 시군구, Length: 108, dtype: object"
     },
     "execution_count": 20,
     "metadata": {},
     "output_type": "execute_result"
    }
   ],
   "source": [
    "Rate = []\n",
    "ilban = []\n",
    "SIGUNGU_2 = df_4['시군구']\n",
    "SIGUNGU_2.reset_index(drop=True , inplace = True)\n",
    "SIGUNGU_2\n",
    "#date = df_5.loc['년월']\n",
    "#print(date)\n",
    "# rae = 0\n",
    "# for i in range(len(ex)):\n",
    "#     rae = round(ex[i] / ex_2[i] *100 ,2)\n",
    "#     Rate.append(rae)\n",
    "# print(Rate)"
   ]
  },
  {
   "cell_type": "code",
   "execution_count": 21,
   "outputs": [
    {
     "data": {
      "text/plain": "     비율\n0    23\n1    28\n2    30\n3    24\n4    24\n..   ..\n103  27\n104  24\n105  21\n106  20\n107  23\n\n[108 rows x 1 columns]",
      "text/html": "<div>\n<style scoped>\n    .dataframe tbody tr th:only-of-type {\n        vertical-align: middle;\n    }\n\n    .dataframe tbody tr th {\n        vertical-align: top;\n    }\n\n    .dataframe thead th {\n        text-align: right;\n    }\n</style>\n<table border=\"1\" class=\"dataframe\">\n  <thead>\n    <tr style=\"text-align: right;\">\n      <th></th>\n      <th>비율</th>\n    </tr>\n  </thead>\n  <tbody>\n    <tr>\n      <th>0</th>\n      <td>23</td>\n    </tr>\n    <tr>\n      <th>1</th>\n      <td>28</td>\n    </tr>\n    <tr>\n      <th>2</th>\n      <td>30</td>\n    </tr>\n    <tr>\n      <th>3</th>\n      <td>24</td>\n    </tr>\n    <tr>\n      <th>4</th>\n      <td>24</td>\n    </tr>\n    <tr>\n      <th>...</th>\n      <td>...</td>\n    </tr>\n    <tr>\n      <th>103</th>\n      <td>27</td>\n    </tr>\n    <tr>\n      <th>104</th>\n      <td>24</td>\n    </tr>\n    <tr>\n      <th>105</th>\n      <td>21</td>\n    </tr>\n    <tr>\n      <th>106</th>\n      <td>20</td>\n    </tr>\n    <tr>\n      <th>107</th>\n      <td>23</td>\n    </tr>\n  </tbody>\n</table>\n<p>108 rows × 1 columns</p>\n</div>"
     },
     "execution_count": 21,
     "metadata": {},
     "output_type": "execute_result"
    }
   ],
   "source": [
    "Rate3 = pd.DataFrame(rate)\n",
    "Rate3['비율'] = Rate3.iloc[:]\n",
    "Rate3.drop(Rate3.columns[0] , axis=1 , inplace=True)\n",
    "Rate3\n"
   ],
   "metadata": {
    "collapsed": false,
    "pycharm": {
     "name": "#%%\n"
    }
   }
  },
  {
   "cell_type": "code",
   "execution_count": 22,
   "outputs": [
    {
     "data": {
      "text/plain": "0      201207\n1      201208\n2      201209\n3      201210\n4      201211\n        ...  \n103    201208\n104    201209\n105    201210\n106    201211\n107    201212\nName: 년월, Length: 108, dtype: object"
     },
     "execution_count": 22,
     "metadata": {},
     "output_type": "execute_result"
    }
   ],
   "source": [
    "Time"
   ],
   "metadata": {
    "collapsed": false,
    "pycharm": {
     "name": "#%%\n"
    }
   }
  },
  {
   "cell_type": "code",
   "execution_count": 23,
   "outputs": [
    {
     "data": {
      "text/plain": "         년월  시군구 계약구분  비율\n0    201207  강릉시  일반용  23\n1    201208  강릉시  일반용  28\n2    201209  강릉시  일반용  30\n3    201210  강릉시  일반용  24\n4    201211  강릉시  일반용  24\n..      ...  ...  ...  ..\n103  201208  횡성군  일반용  27\n104  201209  횡성군  일반용  24\n105  201210  횡성군  일반용  21\n106  201211  횡성군  일반용  20\n107  201212  횡성군  일반용  23\n\n[108 rows x 4 columns]",
      "text/html": "<div>\n<style scoped>\n    .dataframe tbody tr th:only-of-type {\n        vertical-align: middle;\n    }\n\n    .dataframe tbody tr th {\n        vertical-align: top;\n    }\n\n    .dataframe thead th {\n        text-align: right;\n    }\n</style>\n<table border=\"1\" class=\"dataframe\">\n  <thead>\n    <tr style=\"text-align: right;\">\n      <th></th>\n      <th>년월</th>\n      <th>시군구</th>\n      <th>계약구분</th>\n      <th>비율</th>\n    </tr>\n  </thead>\n  <tbody>\n    <tr>\n      <th>0</th>\n      <td>201207</td>\n      <td>강릉시</td>\n      <td>일반용</td>\n      <td>23</td>\n    </tr>\n    <tr>\n      <th>1</th>\n      <td>201208</td>\n      <td>강릉시</td>\n      <td>일반용</td>\n      <td>28</td>\n    </tr>\n    <tr>\n      <th>2</th>\n      <td>201209</td>\n      <td>강릉시</td>\n      <td>일반용</td>\n      <td>30</td>\n    </tr>\n    <tr>\n      <th>3</th>\n      <td>201210</td>\n      <td>강릉시</td>\n      <td>일반용</td>\n      <td>24</td>\n    </tr>\n    <tr>\n      <th>4</th>\n      <td>201211</td>\n      <td>강릉시</td>\n      <td>일반용</td>\n      <td>24</td>\n    </tr>\n    <tr>\n      <th>...</th>\n      <td>...</td>\n      <td>...</td>\n      <td>...</td>\n      <td>...</td>\n    </tr>\n    <tr>\n      <th>103</th>\n      <td>201208</td>\n      <td>횡성군</td>\n      <td>일반용</td>\n      <td>27</td>\n    </tr>\n    <tr>\n      <th>104</th>\n      <td>201209</td>\n      <td>횡성군</td>\n      <td>일반용</td>\n      <td>24</td>\n    </tr>\n    <tr>\n      <th>105</th>\n      <td>201210</td>\n      <td>횡성군</td>\n      <td>일반용</td>\n      <td>21</td>\n    </tr>\n    <tr>\n      <th>106</th>\n      <td>201211</td>\n      <td>횡성군</td>\n      <td>일반용</td>\n      <td>20</td>\n    </tr>\n    <tr>\n      <th>107</th>\n      <td>201212</td>\n      <td>횡성군</td>\n      <td>일반용</td>\n      <td>23</td>\n    </tr>\n  </tbody>\n</table>\n<p>108 rows × 4 columns</p>\n</div>"
     },
     "execution_count": 23,
     "metadata": {},
     "output_type": "execute_result"
    }
   ],
   "source": [
    "for j in range(len(Rate3)):\n",
    "    ilban.append('일반용')\n",
    "\n",
    "Rate4 = pd.concat([Time , SIGUNGU_2 , Rate3] ,axis=1)\n",
    "Rate4['계약구분'] = pd.DataFrame(ilban)\n",
    "#Rate4 = Rate4.rename(columns={'0':'일반용 비율'})\n",
    "Rate4 = Rate4[['년월' , '시군구' , '계약구분' , '비율']]\n",
    "Rate4\n",
    "# Final = pd.concat([Final , Rate3])\n",
    "# Final"
   ],
   "metadata": {
    "collapsed": false,
    "pycharm": {
     "name": "#%%\n"
    }
   }
  },
  {
   "cell_type": "code",
   "execution_count": 24,
   "metadata": {
    "pycharm": {
     "name": "#%%\n"
    }
   },
   "outputs": [
    {
     "data": {
      "text/plain": "         년월   시구  시군구 계약구분  고객호수(호)     사용량(kWh)  비율\n0    201207  강원도  강릉시  일반용  16,205   34,530,914   23\n1    201208  강원도  강릉시  일반용  16,272   42,030,483   28\n2    201209  강원도  강릉시  일반용  16,344   36,690,466   30\n3    201210  강원도  강릉시  일반용  16,431   31,690,515   24\n4    201211  강원도  강릉시  일반용  16,539   34,694,500   24\n..      ...  ...  ...  ...      ...          ...  ..\n211  201208  강원도  횡성군   합계  42,955   33,594,690  NaN\n212  201209  강원도  횡성군   합계  43,076   31,929,663  NaN\n213  201210  강원도  횡성군   합계  43,185   33,725,873  NaN\n214  201211  강원도  횡성군   합계  45,226   46,211,281  NaN\n215  201212  강원도  횡성군   합계  43,348   56,156,308  NaN\n\n[216 rows x 7 columns]",
      "text/html": "<div>\n<style scoped>\n    .dataframe tbody tr th:only-of-type {\n        vertical-align: middle;\n    }\n\n    .dataframe tbody tr th {\n        vertical-align: top;\n    }\n\n    .dataframe thead th {\n        text-align: right;\n    }\n</style>\n<table border=\"1\" class=\"dataframe\">\n  <thead>\n    <tr style=\"text-align: right;\">\n      <th></th>\n      <th>년월</th>\n      <th>시구</th>\n      <th>시군구</th>\n      <th>계약구분</th>\n      <th>고객호수(호)</th>\n      <th>사용량(kWh)</th>\n      <th>비율</th>\n    </tr>\n  </thead>\n  <tbody>\n    <tr>\n      <th>0</th>\n      <td>201207</td>\n      <td>강원도</td>\n      <td>강릉시</td>\n      <td>일반용</td>\n      <td>16,205</td>\n      <td>34,530,914</td>\n      <td>23</td>\n    </tr>\n    <tr>\n      <th>1</th>\n      <td>201208</td>\n      <td>강원도</td>\n      <td>강릉시</td>\n      <td>일반용</td>\n      <td>16,272</td>\n      <td>42,030,483</td>\n      <td>28</td>\n    </tr>\n    <tr>\n      <th>2</th>\n      <td>201209</td>\n      <td>강원도</td>\n      <td>강릉시</td>\n      <td>일반용</td>\n      <td>16,344</td>\n      <td>36,690,466</td>\n      <td>30</td>\n    </tr>\n    <tr>\n      <th>3</th>\n      <td>201210</td>\n      <td>강원도</td>\n      <td>강릉시</td>\n      <td>일반용</td>\n      <td>16,431</td>\n      <td>31,690,515</td>\n      <td>24</td>\n    </tr>\n    <tr>\n      <th>4</th>\n      <td>201211</td>\n      <td>강원도</td>\n      <td>강릉시</td>\n      <td>일반용</td>\n      <td>16,539</td>\n      <td>34,694,500</td>\n      <td>24</td>\n    </tr>\n    <tr>\n      <th>...</th>\n      <td>...</td>\n      <td>...</td>\n      <td>...</td>\n      <td>...</td>\n      <td>...</td>\n      <td>...</td>\n      <td>...</td>\n    </tr>\n    <tr>\n      <th>211</th>\n      <td>201208</td>\n      <td>강원도</td>\n      <td>횡성군</td>\n      <td>합계</td>\n      <td>42,955</td>\n      <td>33,594,690</td>\n      <td>NaN</td>\n    </tr>\n    <tr>\n      <th>212</th>\n      <td>201209</td>\n      <td>강원도</td>\n      <td>횡성군</td>\n      <td>합계</td>\n      <td>43,076</td>\n      <td>31,929,663</td>\n      <td>NaN</td>\n    </tr>\n    <tr>\n      <th>213</th>\n      <td>201210</td>\n      <td>강원도</td>\n      <td>횡성군</td>\n      <td>합계</td>\n      <td>43,185</td>\n      <td>33,725,873</td>\n      <td>NaN</td>\n    </tr>\n    <tr>\n      <th>214</th>\n      <td>201211</td>\n      <td>강원도</td>\n      <td>횡성군</td>\n      <td>합계</td>\n      <td>45,226</td>\n      <td>46,211,281</td>\n      <td>NaN</td>\n    </tr>\n    <tr>\n      <th>215</th>\n      <td>201212</td>\n      <td>강원도</td>\n      <td>횡성군</td>\n      <td>합계</td>\n      <td>43,348</td>\n      <td>56,156,308</td>\n      <td>NaN</td>\n    </tr>\n  </tbody>\n</table>\n<p>216 rows × 7 columns</p>\n</div>"
     },
     "execution_count": 24,
     "metadata": {},
     "output_type": "execute_result"
    }
   ],
   "source": [
    "Final = pd.merge(df_5 , Rate4, on=['년월' , '시군구', '계약구분'] , how='left')\n",
    "\n",
    "#Final.drop(['비율_y]' , axis = 1 , inplace = True)\n",
    "#Final.rename(columns={'비율_y':'전체 계약종별 전력사용량 대비 일반용 사용량 비율'})\n",
    "Final = Final.sort_values(['시군구' , '계약구분'])\n",
    "Final.reset_index(drop=True , inplace = True)\n",
    "Final"
   ]
  },
  {
   "cell_type": "markdown",
   "metadata": {
    "pycharm": {
     "name": "#%% md\n"
    }
   },
   "source": [
    "### 2. 날짜 체크!!!!!!!!!!!!!!!!!!!!1"
   ]
  },
  {
   "cell_type": "code",
   "execution_count": 25,
   "metadata": {
    "pycharm": {
     "name": "#%%\n"
    }
   },
   "outputs": [],
   "source": [
    "Final.to_csv(\"{}_일반용_전력사용량_1207-12_월별.csv\".format(City) , mode = 'w' , encoding= 'cp949' , index =False) #파일명 수정"
   ]
  }
 ],
 "metadata": {
  "kernelspec": {
   "display_name": "Python 3 (ipykernel)",
   "language": "python",
   "name": "python3"
  },
  "language_info": {
   "codemirror_mode": {
    "name": "ipython",
    "version": 3
   },
   "file_extension": ".py",
   "mimetype": "text/x-python",
   "name": "python",
   "nbconvert_exporter": "python",
   "pygments_lexer": "ipython3",
   "version": "3.8.13"
  }
 },
 "nbformat": 4,
 "nbformat_minor": 1
}