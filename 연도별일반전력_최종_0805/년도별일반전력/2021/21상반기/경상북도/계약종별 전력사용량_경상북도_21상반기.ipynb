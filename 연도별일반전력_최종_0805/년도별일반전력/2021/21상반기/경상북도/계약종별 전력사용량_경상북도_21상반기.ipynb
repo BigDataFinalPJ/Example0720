{
 "cells": [
  {
   "cell_type": "markdown",
   "source": [],
   "metadata": {
    "collapsed": false,
    "pycharm": {
     "name": "#%% md\n"
    }
   }
  },
  {
   "cell_type": "code",
   "execution_count": 1,
   "outputs": [],
   "source": [
    "import pandas as pd\n",
    "import re\n",
    "\n",
    "pd.options.display.float_format = '{:.0f}'.format"
   ],
   "metadata": {
    "collapsed": false,
    "pycharm": {
     "name": "#%%\n"
    }
   }
  },
  {
   "cell_type": "markdown",
   "source": [
    "### 1. 꼭 read_csv 21상반기, 19하반기와 같이 맞추어 주세요!!! 또한 지역(전라북도, 남도) 맞추기!!!!!"
   ],
   "metadata": {
    "collapsed": false,
    "pycharm": {
     "name": "#%% md\n"
    }
   }
  },
  {
   "cell_type": "code",
   "execution_count": 2,
   "outputs": [
    {
     "data": {
      "text/plain": "        계약종별 전력사용량 월별( 20220804 현재 ) Unnamed: 1     Unnamed: 2 Unnamed: 3  \\\n0     시도 : 경상북도, 시군구 : 전체(시 / 군 / 구)        NaN            NaN        NaN   \n1        기간 : 2021년 01 월 ~ 2021년 06월        NaN            NaN        NaN   \n2                                 년월         시구            시군구       계약구분   \n3                             202101       경상북도  전체(시 / 군 / 구)        주택용   \n4                             202101       경상북도  전체(시 / 군 / 구)        일반용   \n...                              ...        ...            ...        ...   \n1147                          202106       경상북도            포항시        산업용   \n1148                          202106       경상북도            포항시        심 야   \n1149                          202106       경상북도            포항시        일반용   \n1150                          202106       경상북도            포항시        주택용   \n1151                          202106       경상북도            포항시         합계   \n\n      Unnamed: 4    Unnamed: 5       Unnamed: 6     Unnamed: 7  \n0            NaN           NaN              NaN            NaN  \n1            NaN           NaN              NaN            NaN  \n2        고객호수(호)      사용량(kWh)          전기요금(원)  평균판매단가(원/kWh)  \n3     1,172,544   358,828,130   40,900,227,968          114.0   \n4       222,465   557,672,561   72,112,743,061          129.3   \n...          ...           ...              ...            ...  \n1147      2,788   603,275,292   61,183,328,511          101.4   \n1148      4,012     2,586,724      142,095,337           54.9   \n1149     40,740    74,647,419   10,166,416,592          136.2   \n1150    187,698    57,993,371    5,694,452,865           98.2   \n1151    276,366   772,005,636   79,924,114,813          103.5   \n\n[1152 rows x 8 columns]",
      "text/html": "<div>\n<style scoped>\n    .dataframe tbody tr th:only-of-type {\n        vertical-align: middle;\n    }\n\n    .dataframe tbody tr th {\n        vertical-align: top;\n    }\n\n    .dataframe thead th {\n        text-align: right;\n    }\n</style>\n<table border=\"1\" class=\"dataframe\">\n  <thead>\n    <tr style=\"text-align: right;\">\n      <th></th>\n      <th>계약종별 전력사용량 월별( 20220804 현재 )</th>\n      <th>Unnamed: 1</th>\n      <th>Unnamed: 2</th>\n      <th>Unnamed: 3</th>\n      <th>Unnamed: 4</th>\n      <th>Unnamed: 5</th>\n      <th>Unnamed: 6</th>\n      <th>Unnamed: 7</th>\n    </tr>\n  </thead>\n  <tbody>\n    <tr>\n      <th>0</th>\n      <td>시도 : 경상북도, 시군구 : 전체(시 / 군 / 구)</td>\n      <td>NaN</td>\n      <td>NaN</td>\n      <td>NaN</td>\n      <td>NaN</td>\n      <td>NaN</td>\n      <td>NaN</td>\n      <td>NaN</td>\n    </tr>\n    <tr>\n      <th>1</th>\n      <td>기간 : 2021년 01 월 ~ 2021년 06월</td>\n      <td>NaN</td>\n      <td>NaN</td>\n      <td>NaN</td>\n      <td>NaN</td>\n      <td>NaN</td>\n      <td>NaN</td>\n      <td>NaN</td>\n    </tr>\n    <tr>\n      <th>2</th>\n      <td>년월</td>\n      <td>시구</td>\n      <td>시군구</td>\n      <td>계약구분</td>\n      <td>고객호수(호)</td>\n      <td>사용량(kWh)</td>\n      <td>전기요금(원)</td>\n      <td>평균판매단가(원/kWh)</td>\n    </tr>\n    <tr>\n      <th>3</th>\n      <td>202101</td>\n      <td>경상북도</td>\n      <td>전체(시 / 군 / 구)</td>\n      <td>주택용</td>\n      <td>1,172,544</td>\n      <td>358,828,130</td>\n      <td>40,900,227,968</td>\n      <td>114.0</td>\n    </tr>\n    <tr>\n      <th>4</th>\n      <td>202101</td>\n      <td>경상북도</td>\n      <td>전체(시 / 군 / 구)</td>\n      <td>일반용</td>\n      <td>222,465</td>\n      <td>557,672,561</td>\n      <td>72,112,743,061</td>\n      <td>129.3</td>\n    </tr>\n    <tr>\n      <th>...</th>\n      <td>...</td>\n      <td>...</td>\n      <td>...</td>\n      <td>...</td>\n      <td>...</td>\n      <td>...</td>\n      <td>...</td>\n      <td>...</td>\n    </tr>\n    <tr>\n      <th>1147</th>\n      <td>202106</td>\n      <td>경상북도</td>\n      <td>포항시</td>\n      <td>산업용</td>\n      <td>2,788</td>\n      <td>603,275,292</td>\n      <td>61,183,328,511</td>\n      <td>101.4</td>\n    </tr>\n    <tr>\n      <th>1148</th>\n      <td>202106</td>\n      <td>경상북도</td>\n      <td>포항시</td>\n      <td>심 야</td>\n      <td>4,012</td>\n      <td>2,586,724</td>\n      <td>142,095,337</td>\n      <td>54.9</td>\n    </tr>\n    <tr>\n      <th>1149</th>\n      <td>202106</td>\n      <td>경상북도</td>\n      <td>포항시</td>\n      <td>일반용</td>\n      <td>40,740</td>\n      <td>74,647,419</td>\n      <td>10,166,416,592</td>\n      <td>136.2</td>\n    </tr>\n    <tr>\n      <th>1150</th>\n      <td>202106</td>\n      <td>경상북도</td>\n      <td>포항시</td>\n      <td>주택용</td>\n      <td>187,698</td>\n      <td>57,993,371</td>\n      <td>5,694,452,865</td>\n      <td>98.2</td>\n    </tr>\n    <tr>\n      <th>1151</th>\n      <td>202106</td>\n      <td>경상북도</td>\n      <td>포항시</td>\n      <td>합계</td>\n      <td>276,366</td>\n      <td>772,005,636</td>\n      <td>79,924,114,813</td>\n      <td>103.5</td>\n    </tr>\n  </tbody>\n</table>\n<p>1152 rows × 8 columns</p>\n</div>"
     },
     "execution_count": 2,
     "metadata": {},
     "output_type": "execute_result"
    }
   ],
   "source": [
    "df = pd.read_csv('경상북도_계약종별_전력사용량_월별_21상반기.csv' , encoding='cp949')\n",
    "\n",
    "df\n",
    "#exchng=  pd.read_csv('지역별_전력거래량_20220803093050.csv' , encoding='cp949')"
   ],
   "metadata": {
    "collapsed": false,
    "pycharm": {
     "name": "#%%\n"
    }
   }
  },
  {
   "cell_type": "code",
   "execution_count": 3,
   "outputs": [
    {
     "data": {
      "text/plain": "     계약종별 전력사용량 월별( 20220804 현재 ) Unnamed: 1     Unnamed: 2 Unnamed: 3  \\\n2                              년월         시구            시군구       계약구분   \n3                          202101       경상북도  전체(시 / 군 / 구)        주택용   \n4                          202101       경상북도  전체(시 / 군 / 구)        일반용   \n5                          202101       경상북도  전체(시 / 군 / 구)        교육용   \n6                          202101       경상북도  전체(시 / 군 / 구)        산업용   \n...                           ...        ...            ...        ...   \n1147                       202106       경상북도            포항시        산업용   \n1148                       202106       경상북도            포항시        심 야   \n1149                       202106       경상북도            포항시        일반용   \n1150                       202106       경상북도            포항시        주택용   \n1151                       202106       경상북도            포항시         합계   \n\n      Unnamed: 4      Unnamed: 5        Unnamed: 6     Unnamed: 7  \n2        고객호수(호)        사용량(kWh)           전기요금(원)  평균판매단가(원/kWh)  \n3     1,172,544     358,828,130    40,900,227,968          114.0   \n4       222,465     557,672,561    72,112,743,061          129.3   \n5         1,500      67,791,754     6,444,463,602           95.1   \n6        33,201   2,600,160,318   282,567,396,296          108.7   \n...          ...             ...               ...            ...  \n1147      2,788     603,275,292    61,183,328,511          101.4   \n1148      4,012       2,586,724       142,095,337           54.9   \n1149     40,740      74,647,419    10,166,416,592          136.2   \n1150    187,698      57,993,371     5,694,452,865           98.2   \n1151    276,366     772,005,636    79,924,114,813          103.5   \n\n[1149 rows x 8 columns]",
      "text/html": "<div>\n<style scoped>\n    .dataframe tbody tr th:only-of-type {\n        vertical-align: middle;\n    }\n\n    .dataframe tbody tr th {\n        vertical-align: top;\n    }\n\n    .dataframe thead th {\n        text-align: right;\n    }\n</style>\n<table border=\"1\" class=\"dataframe\">\n  <thead>\n    <tr style=\"text-align: right;\">\n      <th></th>\n      <th>계약종별 전력사용량 월별( 20220804 현재 )</th>\n      <th>Unnamed: 1</th>\n      <th>Unnamed: 2</th>\n      <th>Unnamed: 3</th>\n      <th>Unnamed: 4</th>\n      <th>Unnamed: 5</th>\n      <th>Unnamed: 6</th>\n      <th>Unnamed: 7</th>\n    </tr>\n  </thead>\n  <tbody>\n    <tr>\n      <th>2</th>\n      <td>년월</td>\n      <td>시구</td>\n      <td>시군구</td>\n      <td>계약구분</td>\n      <td>고객호수(호)</td>\n      <td>사용량(kWh)</td>\n      <td>전기요금(원)</td>\n      <td>평균판매단가(원/kWh)</td>\n    </tr>\n    <tr>\n      <th>3</th>\n      <td>202101</td>\n      <td>경상북도</td>\n      <td>전체(시 / 군 / 구)</td>\n      <td>주택용</td>\n      <td>1,172,544</td>\n      <td>358,828,130</td>\n      <td>40,900,227,968</td>\n      <td>114.0</td>\n    </tr>\n    <tr>\n      <th>4</th>\n      <td>202101</td>\n      <td>경상북도</td>\n      <td>전체(시 / 군 / 구)</td>\n      <td>일반용</td>\n      <td>222,465</td>\n      <td>557,672,561</td>\n      <td>72,112,743,061</td>\n      <td>129.3</td>\n    </tr>\n    <tr>\n      <th>5</th>\n      <td>202101</td>\n      <td>경상북도</td>\n      <td>전체(시 / 군 / 구)</td>\n      <td>교육용</td>\n      <td>1,500</td>\n      <td>67,791,754</td>\n      <td>6,444,463,602</td>\n      <td>95.1</td>\n    </tr>\n    <tr>\n      <th>6</th>\n      <td>202101</td>\n      <td>경상북도</td>\n      <td>전체(시 / 군 / 구)</td>\n      <td>산업용</td>\n      <td>33,201</td>\n      <td>2,600,160,318</td>\n      <td>282,567,396,296</td>\n      <td>108.7</td>\n    </tr>\n    <tr>\n      <th>...</th>\n      <td>...</td>\n      <td>...</td>\n      <td>...</td>\n      <td>...</td>\n      <td>...</td>\n      <td>...</td>\n      <td>...</td>\n      <td>...</td>\n    </tr>\n    <tr>\n      <th>1147</th>\n      <td>202106</td>\n      <td>경상북도</td>\n      <td>포항시</td>\n      <td>산업용</td>\n      <td>2,788</td>\n      <td>603,275,292</td>\n      <td>61,183,328,511</td>\n      <td>101.4</td>\n    </tr>\n    <tr>\n      <th>1148</th>\n      <td>202106</td>\n      <td>경상북도</td>\n      <td>포항시</td>\n      <td>심 야</td>\n      <td>4,012</td>\n      <td>2,586,724</td>\n      <td>142,095,337</td>\n      <td>54.9</td>\n    </tr>\n    <tr>\n      <th>1149</th>\n      <td>202106</td>\n      <td>경상북도</td>\n      <td>포항시</td>\n      <td>일반용</td>\n      <td>40,740</td>\n      <td>74,647,419</td>\n      <td>10,166,416,592</td>\n      <td>136.2</td>\n    </tr>\n    <tr>\n      <th>1150</th>\n      <td>202106</td>\n      <td>경상북도</td>\n      <td>포항시</td>\n      <td>주택용</td>\n      <td>187,698</td>\n      <td>57,993,371</td>\n      <td>5,694,452,865</td>\n      <td>98.2</td>\n    </tr>\n    <tr>\n      <th>1151</th>\n      <td>202106</td>\n      <td>경상북도</td>\n      <td>포항시</td>\n      <td>합계</td>\n      <td>276,366</td>\n      <td>772,005,636</td>\n      <td>79,924,114,813</td>\n      <td>103.5</td>\n    </tr>\n  </tbody>\n</table>\n<p>1149 rows × 8 columns</p>\n</div>"
     },
     "execution_count": 3,
     "metadata": {},
     "output_type": "execute_result"
    }
   ],
   "source": [
    "df = df.drop([0,1 , 46] , axis = 0)\n",
    "#0,1 , 10은 지우는게 맞다\n",
    "df"
   ],
   "metadata": {
    "collapsed": false,
    "pycharm": {
     "name": "#%%\n"
    }
   }
  },
  {
   "cell_type": "code",
   "execution_count": 4,
   "outputs": [],
   "source": [
    "a= df.loc[2].tolist()\n",
    "a\n",
    "df = df.drop([2] , axis = 0)"
   ],
   "metadata": {
    "collapsed": false,
    "pycharm": {
     "name": "#%%\n"
    }
   }
  },
  {
   "cell_type": "code",
   "execution_count": 5,
   "outputs": [
    {
     "data": {
      "text/plain": "          년월    시구            시군구 계약구분     고객호수(호)        사용량(kWh)  \\\n3     202101  경상북도  전체(시 / 군 / 구)  주택용  1,172,544     358,828,130    \n4     202101  경상북도  전체(시 / 군 / 구)  일반용    222,465     557,672,561    \n5     202101  경상북도  전체(시 / 군 / 구)  교육용      1,500      67,791,754    \n6     202101  경상북도  전체(시 / 군 / 구)  산업용     33,201   2,600,160,318    \n7     202101  경상북도  전체(시 / 군 / 구)  농사용    369,750     214,221,944    \n...      ...   ...            ...  ...         ...             ...   \n1147  202106  경상북도            포항시  산업용      2,788     603,275,292    \n1148  202106  경상북도            포항시  심 야      4,012       2,586,724    \n1149  202106  경상북도            포항시  일반용     40,740      74,647,419    \n1150  202106  경상북도            포항시  주택용    187,698      57,993,371    \n1151  202106  경상북도            포항시   합계    276,366     772,005,636    \n\n               전기요금(원) 평균판매단가(원/kWh)  \n3      40,900,227,968         114.0   \n4      72,112,743,061         129.3   \n5       6,444,463,602          95.1   \n6     282,567,396,296         108.7   \n7       9,892,676,018          46.2   \n...                ...           ...  \n1147   61,183,328,511         101.4   \n1148      142,095,337          54.9   \n1149   10,166,416,592         136.2   \n1150    5,694,452,865          98.2   \n1151   79,924,114,813         103.5   \n\n[1148 rows x 8 columns]",
      "text/html": "<div>\n<style scoped>\n    .dataframe tbody tr th:only-of-type {\n        vertical-align: middle;\n    }\n\n    .dataframe tbody tr th {\n        vertical-align: top;\n    }\n\n    .dataframe thead th {\n        text-align: right;\n    }\n</style>\n<table border=\"1\" class=\"dataframe\">\n  <thead>\n    <tr style=\"text-align: right;\">\n      <th></th>\n      <th>년월</th>\n      <th>시구</th>\n      <th>시군구</th>\n      <th>계약구분</th>\n      <th>고객호수(호)</th>\n      <th>사용량(kWh)</th>\n      <th>전기요금(원)</th>\n      <th>평균판매단가(원/kWh)</th>\n    </tr>\n  </thead>\n  <tbody>\n    <tr>\n      <th>3</th>\n      <td>202101</td>\n      <td>경상북도</td>\n      <td>전체(시 / 군 / 구)</td>\n      <td>주택용</td>\n      <td>1,172,544</td>\n      <td>358,828,130</td>\n      <td>40,900,227,968</td>\n      <td>114.0</td>\n    </tr>\n    <tr>\n      <th>4</th>\n      <td>202101</td>\n      <td>경상북도</td>\n      <td>전체(시 / 군 / 구)</td>\n      <td>일반용</td>\n      <td>222,465</td>\n      <td>557,672,561</td>\n      <td>72,112,743,061</td>\n      <td>129.3</td>\n    </tr>\n    <tr>\n      <th>5</th>\n      <td>202101</td>\n      <td>경상북도</td>\n      <td>전체(시 / 군 / 구)</td>\n      <td>교육용</td>\n      <td>1,500</td>\n      <td>67,791,754</td>\n      <td>6,444,463,602</td>\n      <td>95.1</td>\n    </tr>\n    <tr>\n      <th>6</th>\n      <td>202101</td>\n      <td>경상북도</td>\n      <td>전체(시 / 군 / 구)</td>\n      <td>산업용</td>\n      <td>33,201</td>\n      <td>2,600,160,318</td>\n      <td>282,567,396,296</td>\n      <td>108.7</td>\n    </tr>\n    <tr>\n      <th>7</th>\n      <td>202101</td>\n      <td>경상북도</td>\n      <td>전체(시 / 군 / 구)</td>\n      <td>농사용</td>\n      <td>369,750</td>\n      <td>214,221,944</td>\n      <td>9,892,676,018</td>\n      <td>46.2</td>\n    </tr>\n    <tr>\n      <th>...</th>\n      <td>...</td>\n      <td>...</td>\n      <td>...</td>\n      <td>...</td>\n      <td>...</td>\n      <td>...</td>\n      <td>...</td>\n      <td>...</td>\n    </tr>\n    <tr>\n      <th>1147</th>\n      <td>202106</td>\n      <td>경상북도</td>\n      <td>포항시</td>\n      <td>산업용</td>\n      <td>2,788</td>\n      <td>603,275,292</td>\n      <td>61,183,328,511</td>\n      <td>101.4</td>\n    </tr>\n    <tr>\n      <th>1148</th>\n      <td>202106</td>\n      <td>경상북도</td>\n      <td>포항시</td>\n      <td>심 야</td>\n      <td>4,012</td>\n      <td>2,586,724</td>\n      <td>142,095,337</td>\n      <td>54.9</td>\n    </tr>\n    <tr>\n      <th>1149</th>\n      <td>202106</td>\n      <td>경상북도</td>\n      <td>포항시</td>\n      <td>일반용</td>\n      <td>40,740</td>\n      <td>74,647,419</td>\n      <td>10,166,416,592</td>\n      <td>136.2</td>\n    </tr>\n    <tr>\n      <th>1150</th>\n      <td>202106</td>\n      <td>경상북도</td>\n      <td>포항시</td>\n      <td>주택용</td>\n      <td>187,698</td>\n      <td>57,993,371</td>\n      <td>5,694,452,865</td>\n      <td>98.2</td>\n    </tr>\n    <tr>\n      <th>1151</th>\n      <td>202106</td>\n      <td>경상북도</td>\n      <td>포항시</td>\n      <td>합계</td>\n      <td>276,366</td>\n      <td>772,005,636</td>\n      <td>79,924,114,813</td>\n      <td>103.5</td>\n    </tr>\n  </tbody>\n</table>\n<p>1148 rows × 8 columns</p>\n</div>"
     },
     "execution_count": 5,
     "metadata": {},
     "output_type": "execute_result"
    }
   ],
   "source": [
    "df.columns = a\n",
    "df"
   ],
   "metadata": {
    "collapsed": false,
    "pycharm": {
     "name": "#%%\n"
    }
   }
  },
  {
   "cell_type": "code",
   "execution_count": 6,
   "outputs": [
    {
     "data": {
      "text/plain": "        년월    시구            시군구 계약구분     고객호수(호)        사용량(kWh)  \\\n3   202101  경상북도  전체(시 / 군 / 구)  주택용  1,172,544     358,828,130    \n4   202101  경상북도  전체(시 / 군 / 구)  일반용    222,465     557,672,561    \n5   202101  경상북도  전체(시 / 군 / 구)  교육용      1,500      67,791,754    \n6   202101  경상북도  전체(시 / 군 / 구)  산업용     33,201   2,600,160,318    \n7   202101  경상북도  전체(시 / 군 / 구)  농사용    369,750     214,221,944    \n8   202101  경상북도  전체(시 / 군 / 구)  가로등    216,498      29,044,643    \n9   202101  경상북도  전체(시 / 군 / 구)  심 야     72,041     170,761,598    \n10  202102  경상북도  전체(시 / 군 / 구)  주택용  1,173,960     344,430,550    \n11  202102  경상북도  전체(시 / 군 / 구)  일반용    222,587     522,442,026    \n12  202102  경상북도  전체(시 / 군 / 구)  교육용      1,499      55,366,953    \n13  202102  경상북도  전체(시 / 군 / 구)  산업용     33,226   2,355,562,198    \n14  202102  경상북도  전체(시 / 군 / 구)  농사용    369,534     207,684,461    \n15  202102  경상북도  전체(시 / 군 / 구)  가로등    216,914      27,129,404    \n16  202102  경상북도  전체(시 / 군 / 구)  심 야     71,843     160,758,765    \n17  202103  경상북도  전체(시 / 군 / 구)  주택용  1,174,498     297,825,973    \n18  202103  경상북도  전체(시 / 군 / 구)  일반용    222,628     436,784,063    \n19  202103  경상북도  전체(시 / 군 / 구)  교육용      1,503      59,861,315    \n20  202103  경상북도  전체(시 / 군 / 구)  산업용     33,196   2,508,442,129    \n21  202103  경상북도  전체(시 / 군 / 구)  농사용    442,971     172,360,309    \n22  202103  경상북도  전체(시 / 군 / 구)  가로등    217,140      25,596,427    \n23  202103  경상북도  전체(시 / 군 / 구)  심 야     71,509     120,601,634    \n24  202104  경상북도  전체(시 / 군 / 구)  주택용  1,175,216     304,872,406    \n25  202104  경상북도  전체(시 / 군 / 구)  일반용    223,227     420,278,929    \n26  202104  경상북도  전체(시 / 군 / 구)  교육용      1,501      53,276,745    \n27  202104  경상북도  전체(시 / 군 / 구)  산업용     33,199   2,558,499,397    \n28  202104  경상북도  전체(시 / 군 / 구)  농사용    374,190     164,258,111    \n29  202104  경상북도  전체(시 / 군 / 구)  가로등    217,720      25,758,015    \n30  202104  경상북도  전체(시 / 군 / 구)  심 야     71,303      92,667,825    \n31  202105  경상북도  전체(시 / 군 / 구)  주택용  1,175,624     287,900,470    \n32  202105  경상북도  전체(시 / 군 / 구)  일반용    223,671     395,518,083    \n33  202105  경상북도  전체(시 / 군 / 구)  교육용      1,500      44,421,509    \n34  202105  경상북도  전체(시 / 군 / 구)  산업용     33,232   2,622,221,011    \n35  202105  경상북도  전체(시 / 군 / 구)  농사용    377,148     163,812,338    \n36  202105  경상북도  전체(시 / 군 / 구)  가로등    218,597      24,362,972    \n37  202105  경상북도  전체(시 / 군 / 구)  심 야     71,057      62,288,069    \n38  202106  경상북도  전체(시 / 군 / 구)  주택용  1,176,281     295,203,298    \n39  202106  경상북도  전체(시 / 군 / 구)  일반용    224,299     415,915,951    \n40  202106  경상북도  전체(시 / 군 / 구)  교육용      1,498      50,027,363    \n41  202106  경상북도  전체(시 / 군 / 구)  산업용     33,270   2,492,599,854    \n42  202106  경상북도  전체(시 / 군 / 구)  농사용    380,105     186,690,452    \n43  202106  경상북도  전체(시 / 군 / 구)  가로등    219,498      23,383,752    \n44  202106  경상북도  전체(시 / 군 / 구)  심 야     70,865      42,257,336    \n45      합계    합계             합계   합계  12,644,008  22,019,541,041   \n\n              전기요금(원) 평균판매단가(원/kWh)  \n3     40,900,227,968         114.0   \n4     72,112,743,061         129.3   \n5      6,444,463,602          95.1   \n6    282,567,396,296         108.7   \n7      9,892,676,018          46.2   \n8      3,008,865,789         103.6   \n9     12,300,306,721          72.0   \n10    38,134,308,617         110.7   \n11    68,797,289,525         131.7   \n12     5,523,500,338          99.8   \n13   260,483,417,536         110.6   \n14     9,679,392,931          46.6   \n15     2,984,654,047         110.0   \n16    11,590,972,040          72.1   \n17    29,626,114,957          99.5   \n18    55,048,644,212         126.0   \n19     5,272,088,711          88.1   \n20   227,707,559,303          90.8   \n21     8,276,860,084          48.0   \n22     2,838,677,848         110.9   \n23     7,635,141,691          63.3   \n24    31,268,457,335         102.6   \n25    48,771,908,939         116.0   \n26     4,397,991,734          82.5   \n27   227,252,681,226          88.8   \n28     7,983,558,342          48.6   \n29     2,958,198,436         114.8   \n30     4,757,660,721          51.3   \n31    28,515,940,407          99.0   \n32    47,256,710,608         119.5   \n33     3,681,175,750          82.9   \n34   229,969,528,653          87.7   \n35     7,866,679,707          48.0   \n36     2,882,068,477         118.3   \n37     3,213,254,751          51.6   \n38    29,207,093,413          98.9   \n39    56,222,073,086         135.2   \n40     5,359,700,784         107.1   \n41   275,614,708,910         110.6   \n42     8,550,941,056          45.8   \n43     2,856,070,813         122.1   \n44     2,212,652,931          52.4   \n45  2,191,624,357,374          99.5  ",
      "text/html": "<div>\n<style scoped>\n    .dataframe tbody tr th:only-of-type {\n        vertical-align: middle;\n    }\n\n    .dataframe tbody tr th {\n        vertical-align: top;\n    }\n\n    .dataframe thead th {\n        text-align: right;\n    }\n</style>\n<table border=\"1\" class=\"dataframe\">\n  <thead>\n    <tr style=\"text-align: right;\">\n      <th></th>\n      <th>년월</th>\n      <th>시구</th>\n      <th>시군구</th>\n      <th>계약구분</th>\n      <th>고객호수(호)</th>\n      <th>사용량(kWh)</th>\n      <th>전기요금(원)</th>\n      <th>평균판매단가(원/kWh)</th>\n    </tr>\n  </thead>\n  <tbody>\n    <tr>\n      <th>3</th>\n      <td>202101</td>\n      <td>경상북도</td>\n      <td>전체(시 / 군 / 구)</td>\n      <td>주택용</td>\n      <td>1,172,544</td>\n      <td>358,828,130</td>\n      <td>40,900,227,968</td>\n      <td>114.0</td>\n    </tr>\n    <tr>\n      <th>4</th>\n      <td>202101</td>\n      <td>경상북도</td>\n      <td>전체(시 / 군 / 구)</td>\n      <td>일반용</td>\n      <td>222,465</td>\n      <td>557,672,561</td>\n      <td>72,112,743,061</td>\n      <td>129.3</td>\n    </tr>\n    <tr>\n      <th>5</th>\n      <td>202101</td>\n      <td>경상북도</td>\n      <td>전체(시 / 군 / 구)</td>\n      <td>교육용</td>\n      <td>1,500</td>\n      <td>67,791,754</td>\n      <td>6,444,463,602</td>\n      <td>95.1</td>\n    </tr>\n    <tr>\n      <th>6</th>\n      <td>202101</td>\n      <td>경상북도</td>\n      <td>전체(시 / 군 / 구)</td>\n      <td>산업용</td>\n      <td>33,201</td>\n      <td>2,600,160,318</td>\n      <td>282,567,396,296</td>\n      <td>108.7</td>\n    </tr>\n    <tr>\n      <th>7</th>\n      <td>202101</td>\n      <td>경상북도</td>\n      <td>전체(시 / 군 / 구)</td>\n      <td>농사용</td>\n      <td>369,750</td>\n      <td>214,221,944</td>\n      <td>9,892,676,018</td>\n      <td>46.2</td>\n    </tr>\n    <tr>\n      <th>8</th>\n      <td>202101</td>\n      <td>경상북도</td>\n      <td>전체(시 / 군 / 구)</td>\n      <td>가로등</td>\n      <td>216,498</td>\n      <td>29,044,643</td>\n      <td>3,008,865,789</td>\n      <td>103.6</td>\n    </tr>\n    <tr>\n      <th>9</th>\n      <td>202101</td>\n      <td>경상북도</td>\n      <td>전체(시 / 군 / 구)</td>\n      <td>심 야</td>\n      <td>72,041</td>\n      <td>170,761,598</td>\n      <td>12,300,306,721</td>\n      <td>72.0</td>\n    </tr>\n    <tr>\n      <th>10</th>\n      <td>202102</td>\n      <td>경상북도</td>\n      <td>전체(시 / 군 / 구)</td>\n      <td>주택용</td>\n      <td>1,173,960</td>\n      <td>344,430,550</td>\n      <td>38,134,308,617</td>\n      <td>110.7</td>\n    </tr>\n    <tr>\n      <th>11</th>\n      <td>202102</td>\n      <td>경상북도</td>\n      <td>전체(시 / 군 / 구)</td>\n      <td>일반용</td>\n      <td>222,587</td>\n      <td>522,442,026</td>\n      <td>68,797,289,525</td>\n      <td>131.7</td>\n    </tr>\n    <tr>\n      <th>12</th>\n      <td>202102</td>\n      <td>경상북도</td>\n      <td>전체(시 / 군 / 구)</td>\n      <td>교육용</td>\n      <td>1,499</td>\n      <td>55,366,953</td>\n      <td>5,523,500,338</td>\n      <td>99.8</td>\n    </tr>\n    <tr>\n      <th>13</th>\n      <td>202102</td>\n      <td>경상북도</td>\n      <td>전체(시 / 군 / 구)</td>\n      <td>산업용</td>\n      <td>33,226</td>\n      <td>2,355,562,198</td>\n      <td>260,483,417,536</td>\n      <td>110.6</td>\n    </tr>\n    <tr>\n      <th>14</th>\n      <td>202102</td>\n      <td>경상북도</td>\n      <td>전체(시 / 군 / 구)</td>\n      <td>농사용</td>\n      <td>369,534</td>\n      <td>207,684,461</td>\n      <td>9,679,392,931</td>\n      <td>46.6</td>\n    </tr>\n    <tr>\n      <th>15</th>\n      <td>202102</td>\n      <td>경상북도</td>\n      <td>전체(시 / 군 / 구)</td>\n      <td>가로등</td>\n      <td>216,914</td>\n      <td>27,129,404</td>\n      <td>2,984,654,047</td>\n      <td>110.0</td>\n    </tr>\n    <tr>\n      <th>16</th>\n      <td>202102</td>\n      <td>경상북도</td>\n      <td>전체(시 / 군 / 구)</td>\n      <td>심 야</td>\n      <td>71,843</td>\n      <td>160,758,765</td>\n      <td>11,590,972,040</td>\n      <td>72.1</td>\n    </tr>\n    <tr>\n      <th>17</th>\n      <td>202103</td>\n      <td>경상북도</td>\n      <td>전체(시 / 군 / 구)</td>\n      <td>주택용</td>\n      <td>1,174,498</td>\n      <td>297,825,973</td>\n      <td>29,626,114,957</td>\n      <td>99.5</td>\n    </tr>\n    <tr>\n      <th>18</th>\n      <td>202103</td>\n      <td>경상북도</td>\n      <td>전체(시 / 군 / 구)</td>\n      <td>일반용</td>\n      <td>222,628</td>\n      <td>436,784,063</td>\n      <td>55,048,644,212</td>\n      <td>126.0</td>\n    </tr>\n    <tr>\n      <th>19</th>\n      <td>202103</td>\n      <td>경상북도</td>\n      <td>전체(시 / 군 / 구)</td>\n      <td>교육용</td>\n      <td>1,503</td>\n      <td>59,861,315</td>\n      <td>5,272,088,711</td>\n      <td>88.1</td>\n    </tr>\n    <tr>\n      <th>20</th>\n      <td>202103</td>\n      <td>경상북도</td>\n      <td>전체(시 / 군 / 구)</td>\n      <td>산업용</td>\n      <td>33,196</td>\n      <td>2,508,442,129</td>\n      <td>227,707,559,303</td>\n      <td>90.8</td>\n    </tr>\n    <tr>\n      <th>21</th>\n      <td>202103</td>\n      <td>경상북도</td>\n      <td>전체(시 / 군 / 구)</td>\n      <td>농사용</td>\n      <td>442,971</td>\n      <td>172,360,309</td>\n      <td>8,276,860,084</td>\n      <td>48.0</td>\n    </tr>\n    <tr>\n      <th>22</th>\n      <td>202103</td>\n      <td>경상북도</td>\n      <td>전체(시 / 군 / 구)</td>\n      <td>가로등</td>\n      <td>217,140</td>\n      <td>25,596,427</td>\n      <td>2,838,677,848</td>\n      <td>110.9</td>\n    </tr>\n    <tr>\n      <th>23</th>\n      <td>202103</td>\n      <td>경상북도</td>\n      <td>전체(시 / 군 / 구)</td>\n      <td>심 야</td>\n      <td>71,509</td>\n      <td>120,601,634</td>\n      <td>7,635,141,691</td>\n      <td>63.3</td>\n    </tr>\n    <tr>\n      <th>24</th>\n      <td>202104</td>\n      <td>경상북도</td>\n      <td>전체(시 / 군 / 구)</td>\n      <td>주택용</td>\n      <td>1,175,216</td>\n      <td>304,872,406</td>\n      <td>31,268,457,335</td>\n      <td>102.6</td>\n    </tr>\n    <tr>\n      <th>25</th>\n      <td>202104</td>\n      <td>경상북도</td>\n      <td>전체(시 / 군 / 구)</td>\n      <td>일반용</td>\n      <td>223,227</td>\n      <td>420,278,929</td>\n      <td>48,771,908,939</td>\n      <td>116.0</td>\n    </tr>\n    <tr>\n      <th>26</th>\n      <td>202104</td>\n      <td>경상북도</td>\n      <td>전체(시 / 군 / 구)</td>\n      <td>교육용</td>\n      <td>1,501</td>\n      <td>53,276,745</td>\n      <td>4,397,991,734</td>\n      <td>82.5</td>\n    </tr>\n    <tr>\n      <th>27</th>\n      <td>202104</td>\n      <td>경상북도</td>\n      <td>전체(시 / 군 / 구)</td>\n      <td>산업용</td>\n      <td>33,199</td>\n      <td>2,558,499,397</td>\n      <td>227,252,681,226</td>\n      <td>88.8</td>\n    </tr>\n    <tr>\n      <th>28</th>\n      <td>202104</td>\n      <td>경상북도</td>\n      <td>전체(시 / 군 / 구)</td>\n      <td>농사용</td>\n      <td>374,190</td>\n      <td>164,258,111</td>\n      <td>7,983,558,342</td>\n      <td>48.6</td>\n    </tr>\n    <tr>\n      <th>29</th>\n      <td>202104</td>\n      <td>경상북도</td>\n      <td>전체(시 / 군 / 구)</td>\n      <td>가로등</td>\n      <td>217,720</td>\n      <td>25,758,015</td>\n      <td>2,958,198,436</td>\n      <td>114.8</td>\n    </tr>\n    <tr>\n      <th>30</th>\n      <td>202104</td>\n      <td>경상북도</td>\n      <td>전체(시 / 군 / 구)</td>\n      <td>심 야</td>\n      <td>71,303</td>\n      <td>92,667,825</td>\n      <td>4,757,660,721</td>\n      <td>51.3</td>\n    </tr>\n    <tr>\n      <th>31</th>\n      <td>202105</td>\n      <td>경상북도</td>\n      <td>전체(시 / 군 / 구)</td>\n      <td>주택용</td>\n      <td>1,175,624</td>\n      <td>287,900,470</td>\n      <td>28,515,940,407</td>\n      <td>99.0</td>\n    </tr>\n    <tr>\n      <th>32</th>\n      <td>202105</td>\n      <td>경상북도</td>\n      <td>전체(시 / 군 / 구)</td>\n      <td>일반용</td>\n      <td>223,671</td>\n      <td>395,518,083</td>\n      <td>47,256,710,608</td>\n      <td>119.5</td>\n    </tr>\n    <tr>\n      <th>33</th>\n      <td>202105</td>\n      <td>경상북도</td>\n      <td>전체(시 / 군 / 구)</td>\n      <td>교육용</td>\n      <td>1,500</td>\n      <td>44,421,509</td>\n      <td>3,681,175,750</td>\n      <td>82.9</td>\n    </tr>\n    <tr>\n      <th>34</th>\n      <td>202105</td>\n      <td>경상북도</td>\n      <td>전체(시 / 군 / 구)</td>\n      <td>산업용</td>\n      <td>33,232</td>\n      <td>2,622,221,011</td>\n      <td>229,969,528,653</td>\n      <td>87.7</td>\n    </tr>\n    <tr>\n      <th>35</th>\n      <td>202105</td>\n      <td>경상북도</td>\n      <td>전체(시 / 군 / 구)</td>\n      <td>농사용</td>\n      <td>377,148</td>\n      <td>163,812,338</td>\n      <td>7,866,679,707</td>\n      <td>48.0</td>\n    </tr>\n    <tr>\n      <th>36</th>\n      <td>202105</td>\n      <td>경상북도</td>\n      <td>전체(시 / 군 / 구)</td>\n      <td>가로등</td>\n      <td>218,597</td>\n      <td>24,362,972</td>\n      <td>2,882,068,477</td>\n      <td>118.3</td>\n    </tr>\n    <tr>\n      <th>37</th>\n      <td>202105</td>\n      <td>경상북도</td>\n      <td>전체(시 / 군 / 구)</td>\n      <td>심 야</td>\n      <td>71,057</td>\n      <td>62,288,069</td>\n      <td>3,213,254,751</td>\n      <td>51.6</td>\n    </tr>\n    <tr>\n      <th>38</th>\n      <td>202106</td>\n      <td>경상북도</td>\n      <td>전체(시 / 군 / 구)</td>\n      <td>주택용</td>\n      <td>1,176,281</td>\n      <td>295,203,298</td>\n      <td>29,207,093,413</td>\n      <td>98.9</td>\n    </tr>\n    <tr>\n      <th>39</th>\n      <td>202106</td>\n      <td>경상북도</td>\n      <td>전체(시 / 군 / 구)</td>\n      <td>일반용</td>\n      <td>224,299</td>\n      <td>415,915,951</td>\n      <td>56,222,073,086</td>\n      <td>135.2</td>\n    </tr>\n    <tr>\n      <th>40</th>\n      <td>202106</td>\n      <td>경상북도</td>\n      <td>전체(시 / 군 / 구)</td>\n      <td>교육용</td>\n      <td>1,498</td>\n      <td>50,027,363</td>\n      <td>5,359,700,784</td>\n      <td>107.1</td>\n    </tr>\n    <tr>\n      <th>41</th>\n      <td>202106</td>\n      <td>경상북도</td>\n      <td>전체(시 / 군 / 구)</td>\n      <td>산업용</td>\n      <td>33,270</td>\n      <td>2,492,599,854</td>\n      <td>275,614,708,910</td>\n      <td>110.6</td>\n    </tr>\n    <tr>\n      <th>42</th>\n      <td>202106</td>\n      <td>경상북도</td>\n      <td>전체(시 / 군 / 구)</td>\n      <td>농사용</td>\n      <td>380,105</td>\n      <td>186,690,452</td>\n      <td>8,550,941,056</td>\n      <td>45.8</td>\n    </tr>\n    <tr>\n      <th>43</th>\n      <td>202106</td>\n      <td>경상북도</td>\n      <td>전체(시 / 군 / 구)</td>\n      <td>가로등</td>\n      <td>219,498</td>\n      <td>23,383,752</td>\n      <td>2,856,070,813</td>\n      <td>122.1</td>\n    </tr>\n    <tr>\n      <th>44</th>\n      <td>202106</td>\n      <td>경상북도</td>\n      <td>전체(시 / 군 / 구)</td>\n      <td>심 야</td>\n      <td>70,865</td>\n      <td>42,257,336</td>\n      <td>2,212,652,931</td>\n      <td>52.4</td>\n    </tr>\n    <tr>\n      <th>45</th>\n      <td>합계</td>\n      <td>합계</td>\n      <td>합계</td>\n      <td>합계</td>\n      <td>12,644,008</td>\n      <td>22,019,541,041</td>\n      <td>2,191,624,357,374</td>\n      <td>99.5</td>\n    </tr>\n  </tbody>\n</table>\n</div>"
     },
     "execution_count": 6,
     "metadata": {},
     "output_type": "execute_result"
    }
   ],
   "source": [
    "df_2 = df.loc[:45]\n",
    "df_2\n"
   ],
   "metadata": {
    "collapsed": false,
    "pycharm": {
     "name": "#%%\n"
    }
   }
  },
  {
   "cell_type": "code",
   "execution_count": 7,
   "outputs": [
    {
     "name": "stderr",
     "output_type": "stream",
     "text": [
      "C:\\Users\\user\\AppData\\Local\\Temp\\ipykernel_12100\\3551721261.py:3: SettingWithCopyWarning: \n",
      "A value is trying to be set on a copy of a slice from a DataFrame\n",
      "\n",
      "See the caveats in the documentation: https://pandas.pydata.org/pandas-docs/stable/user_guide/indexing.html#returning-a-view-versus-a-copy\n",
      "  GyeonGi.drop(['시군구' , '전기요금(원)' , '평균판매단가(원/kWh)'] , axis = 1 , inplace = True)\n"
     ]
    },
    {
     "data": {
      "text/plain": "        년월    시구 계약구분   고객호수(호)      사용량(kWh)\n4   202101  경상북도  일반용  222,465   557,672,561 \n11  202102  경상북도  일반용  222,587   522,442,026 \n18  202103  경상북도  일반용  222,628   436,784,063 \n25  202104  경상북도  일반용  223,227   420,278,929 \n32  202105  경상북도  일반용  223,671   395,518,083 \n39  202106  경상북도  일반용  224,299   415,915,951 ",
      "text/html": "<div>\n<style scoped>\n    .dataframe tbody tr th:only-of-type {\n        vertical-align: middle;\n    }\n\n    .dataframe tbody tr th {\n        vertical-align: top;\n    }\n\n    .dataframe thead th {\n        text-align: right;\n    }\n</style>\n<table border=\"1\" class=\"dataframe\">\n  <thead>\n    <tr style=\"text-align: right;\">\n      <th></th>\n      <th>년월</th>\n      <th>시구</th>\n      <th>계약구분</th>\n      <th>고객호수(호)</th>\n      <th>사용량(kWh)</th>\n    </tr>\n  </thead>\n  <tbody>\n    <tr>\n      <th>4</th>\n      <td>202101</td>\n      <td>경상북도</td>\n      <td>일반용</td>\n      <td>222,465</td>\n      <td>557,672,561</td>\n    </tr>\n    <tr>\n      <th>11</th>\n      <td>202102</td>\n      <td>경상북도</td>\n      <td>일반용</td>\n      <td>222,587</td>\n      <td>522,442,026</td>\n    </tr>\n    <tr>\n      <th>18</th>\n      <td>202103</td>\n      <td>경상북도</td>\n      <td>일반용</td>\n      <td>222,628</td>\n      <td>436,784,063</td>\n    </tr>\n    <tr>\n      <th>25</th>\n      <td>202104</td>\n      <td>경상북도</td>\n      <td>일반용</td>\n      <td>223,227</td>\n      <td>420,278,929</td>\n    </tr>\n    <tr>\n      <th>32</th>\n      <td>202105</td>\n      <td>경상북도</td>\n      <td>일반용</td>\n      <td>223,671</td>\n      <td>395,518,083</td>\n    </tr>\n    <tr>\n      <th>39</th>\n      <td>202106</td>\n      <td>경상북도</td>\n      <td>일반용</td>\n      <td>224,299</td>\n      <td>415,915,951</td>\n    </tr>\n  </tbody>\n</table>\n</div>"
     },
     "execution_count": 7,
     "metadata": {},
     "output_type": "execute_result"
    }
   ],
   "source": [
    "GyeonGi  = df_2.loc[(df_2['계약구분'] == '일반용')]\n",
    "#SEOUL = df_3.loc[(df_3['계약구분'] =='일반용')]\n",
    "GyeonGi.drop(['시군구' , '전기요금(원)' , '평균판매단가(원/kWh)'] , axis = 1 , inplace = True)\n",
    "GyeonGi"
   ],
   "metadata": {
    "collapsed": false,
    "pycharm": {
     "name": "#%%\n"
    }
   }
  },
  {
   "cell_type": "code",
   "execution_count": 8,
   "outputs": [],
   "source": [
    "#SEOUL1.to_csv(\"서울특별시_계약종별_전국_전력사용량_2022.csv\" , mode = 'w' , encoding= 'cp949')"
   ],
   "metadata": {
    "collapsed": false,
    "pycharm": {
     "name": "#%%\n"
    }
   }
  },
  {
   "cell_type": "code",
   "execution_count": 9,
   "outputs": [],
   "source": [
    "#df_2.to_csv(\"서울특별시_계약종별_전국_전력사용량.csv\" , mode = 'w' , encoding= 'cp949')"
   ],
   "metadata": {
    "collapsed": false,
    "pycharm": {
     "name": "#%%\n"
    }
   }
  },
  {
   "cell_type": "code",
   "execution_count": 10,
   "outputs": [
    {
     "data": {
      "text/plain": "          년월    시구  시군구 계약구분  고객호수(호)     사용량(kWh)\n53    202101  경상북도  경산시  일반용  18,077   47,199,256 \n237   202102  경상북도  경산시  일반용  18,099   44,304,649 \n421   202103  경상북도  경산시  일반용  18,083   37,129,258 \n605   202104  경상북도  경산시  일반용  18,130   36,253,219 \n789   202105  경상북도  경산시  일반용  18,269   33,979,518 \n...      ...   ...  ...  ...      ...          ...\n413   202102  경상북도  포항시  일반용  40,360   92,285,574 \n597   202103  경상북도  포항시  일반용  40,350   79,303,135 \n781   202104  경상북도  포항시  일반용  40,508   78,056,112 \n965   202105  경상북도  포항시  일반용  40,603   79,010,716 \n1149  202106  경상북도  포항시  일반용  40,740   74,647,419 \n\n[138 rows x 6 columns]",
      "text/html": "<div>\n<style scoped>\n    .dataframe tbody tr th:only-of-type {\n        vertical-align: middle;\n    }\n\n    .dataframe tbody tr th {\n        vertical-align: top;\n    }\n\n    .dataframe thead th {\n        text-align: right;\n    }\n</style>\n<table border=\"1\" class=\"dataframe\">\n  <thead>\n    <tr style=\"text-align: right;\">\n      <th></th>\n      <th>년월</th>\n      <th>시구</th>\n      <th>시군구</th>\n      <th>계약구분</th>\n      <th>고객호수(호)</th>\n      <th>사용량(kWh)</th>\n    </tr>\n  </thead>\n  <tbody>\n    <tr>\n      <th>53</th>\n      <td>202101</td>\n      <td>경상북도</td>\n      <td>경산시</td>\n      <td>일반용</td>\n      <td>18,077</td>\n      <td>47,199,256</td>\n    </tr>\n    <tr>\n      <th>237</th>\n      <td>202102</td>\n      <td>경상북도</td>\n      <td>경산시</td>\n      <td>일반용</td>\n      <td>18,099</td>\n      <td>44,304,649</td>\n    </tr>\n    <tr>\n      <th>421</th>\n      <td>202103</td>\n      <td>경상북도</td>\n      <td>경산시</td>\n      <td>일반용</td>\n      <td>18,083</td>\n      <td>37,129,258</td>\n    </tr>\n    <tr>\n      <th>605</th>\n      <td>202104</td>\n      <td>경상북도</td>\n      <td>경산시</td>\n      <td>일반용</td>\n      <td>18,130</td>\n      <td>36,253,219</td>\n    </tr>\n    <tr>\n      <th>789</th>\n      <td>202105</td>\n      <td>경상북도</td>\n      <td>경산시</td>\n      <td>일반용</td>\n      <td>18,269</td>\n      <td>33,979,518</td>\n    </tr>\n    <tr>\n      <th>...</th>\n      <td>...</td>\n      <td>...</td>\n      <td>...</td>\n      <td>...</td>\n      <td>...</td>\n      <td>...</td>\n    </tr>\n    <tr>\n      <th>413</th>\n      <td>202102</td>\n      <td>경상북도</td>\n      <td>포항시</td>\n      <td>일반용</td>\n      <td>40,360</td>\n      <td>92,285,574</td>\n    </tr>\n    <tr>\n      <th>597</th>\n      <td>202103</td>\n      <td>경상북도</td>\n      <td>포항시</td>\n      <td>일반용</td>\n      <td>40,350</td>\n      <td>79,303,135</td>\n    </tr>\n    <tr>\n      <th>781</th>\n      <td>202104</td>\n      <td>경상북도</td>\n      <td>포항시</td>\n      <td>일반용</td>\n      <td>40,508</td>\n      <td>78,056,112</td>\n    </tr>\n    <tr>\n      <th>965</th>\n      <td>202105</td>\n      <td>경상북도</td>\n      <td>포항시</td>\n      <td>일반용</td>\n      <td>40,603</td>\n      <td>79,010,716</td>\n    </tr>\n    <tr>\n      <th>1149</th>\n      <td>202106</td>\n      <td>경상북도</td>\n      <td>포항시</td>\n      <td>일반용</td>\n      <td>40,740</td>\n      <td>74,647,419</td>\n    </tr>\n  </tbody>\n</table>\n<p>138 rows × 6 columns</p>\n</div>"
     },
     "execution_count": 10,
     "metadata": {},
     "output_type": "execute_result"
    }
   ],
   "source": [
    "df_3 = df.loc[48:]\n",
    "df_3 = df_3.loc[(df_3['계약구분'] == '일반용')]\n",
    "df_3 = df_3.sort_values(by=['시군구' , '년월'])\n",
    "df_3.drop(['전기요금(원)',   '평균판매단가(원/kWh)'] , axis = 1 , inplace = True)\n",
    "df_3"
   ],
   "metadata": {
    "collapsed": false,
    "pycharm": {
     "name": "#%%\n"
    }
   }
  },
  {
   "cell_type": "code",
   "execution_count": 11,
   "outputs": [
    {
     "data": {
      "text/plain": "'경상북도'"
     },
     "execution_count": 11,
     "metadata": {},
     "output_type": "execute_result"
    }
   ],
   "source": [
    "a = df_3.loc[: , \"시구\"]\n",
    "b = a[:1].tolist()\n",
    "for i in b:\n",
    "    City = i\n",
    "City"
   ],
   "metadata": {
    "collapsed": false,
    "pycharm": {
     "name": "#%%\n"
    }
   }
  },
  {
   "cell_type": "code",
   "execution_count": 12,
   "outputs": [
    {
     "data": {
      "text/plain": "['경산시',\n '경주시',\n '고령군',\n '구미시',\n '군위군',\n '김천시',\n '문경시',\n '봉화군',\n '상주시',\n '성주군',\n '안동시',\n '영덕군',\n '영양군',\n '영주시',\n '영천시',\n '예천군',\n '울릉군',\n '울진군',\n '의성군',\n '청도군',\n '청송군',\n '칠곡군',\n '포항시']"
     },
     "execution_count": 12,
     "metadata": {},
     "output_type": "execute_result"
    }
   ],
   "source": [
    "\n",
    "SIGUNGU = list(set(df_3.loc[: , '시군구'].tolist()))\n",
    "SIGUNGU.sort()\n",
    "SIGUNGU"
   ],
   "metadata": {
    "collapsed": false,
    "pycharm": {
     "name": "#%%\n"
    }
   }
  },
  {
   "cell_type": "code",
   "execution_count": 13,
   "outputs": [
    {
     "data": {
      "text/plain": "          년월    시구  시군구 계약구분   고객호수(호)      사용량(kWh)\n55    202101  경상북도  경산시   합계  162,303   255,254,981 \n239   202102  경상북도  경산시   합계  162,431   235,897,762 \n423   202103  경상북도  경산시   합계  162,573   223,490,116 \n607   202104  경상북도  경산시   합계  162,688   223,162,534 \n791   202105  경상북도  경산시   합계  163,084   209,169,975 \n...      ...   ...  ...  ...       ...           ...\n415   202102  경상북도  포항시   합계  275,038   778,378,941 \n599   202103  경상북도  포항시   합계  279,092   808,816,737 \n783   202104  경상북도  포항시   합계  275,705   853,182,720 \n967   202105  경상북도  포항시   합계  276,012   916,268,562 \n1151  202106  경상북도  포항시   합계  276,366   772,005,636 \n\n[138 rows x 6 columns]",
      "text/html": "<div>\n<style scoped>\n    .dataframe tbody tr th:only-of-type {\n        vertical-align: middle;\n    }\n\n    .dataframe tbody tr th {\n        vertical-align: top;\n    }\n\n    .dataframe thead th {\n        text-align: right;\n    }\n</style>\n<table border=\"1\" class=\"dataframe\">\n  <thead>\n    <tr style=\"text-align: right;\">\n      <th></th>\n      <th>년월</th>\n      <th>시구</th>\n      <th>시군구</th>\n      <th>계약구분</th>\n      <th>고객호수(호)</th>\n      <th>사용량(kWh)</th>\n    </tr>\n  </thead>\n  <tbody>\n    <tr>\n      <th>55</th>\n      <td>202101</td>\n      <td>경상북도</td>\n      <td>경산시</td>\n      <td>합계</td>\n      <td>162,303</td>\n      <td>255,254,981</td>\n    </tr>\n    <tr>\n      <th>239</th>\n      <td>202102</td>\n      <td>경상북도</td>\n      <td>경산시</td>\n      <td>합계</td>\n      <td>162,431</td>\n      <td>235,897,762</td>\n    </tr>\n    <tr>\n      <th>423</th>\n      <td>202103</td>\n      <td>경상북도</td>\n      <td>경산시</td>\n      <td>합계</td>\n      <td>162,573</td>\n      <td>223,490,116</td>\n    </tr>\n    <tr>\n      <th>607</th>\n      <td>202104</td>\n      <td>경상북도</td>\n      <td>경산시</td>\n      <td>합계</td>\n      <td>162,688</td>\n      <td>223,162,534</td>\n    </tr>\n    <tr>\n      <th>791</th>\n      <td>202105</td>\n      <td>경상북도</td>\n      <td>경산시</td>\n      <td>합계</td>\n      <td>163,084</td>\n      <td>209,169,975</td>\n    </tr>\n    <tr>\n      <th>...</th>\n      <td>...</td>\n      <td>...</td>\n      <td>...</td>\n      <td>...</td>\n      <td>...</td>\n      <td>...</td>\n    </tr>\n    <tr>\n      <th>415</th>\n      <td>202102</td>\n      <td>경상북도</td>\n      <td>포항시</td>\n      <td>합계</td>\n      <td>275,038</td>\n      <td>778,378,941</td>\n    </tr>\n    <tr>\n      <th>599</th>\n      <td>202103</td>\n      <td>경상북도</td>\n      <td>포항시</td>\n      <td>합계</td>\n      <td>279,092</td>\n      <td>808,816,737</td>\n    </tr>\n    <tr>\n      <th>783</th>\n      <td>202104</td>\n      <td>경상북도</td>\n      <td>포항시</td>\n      <td>합계</td>\n      <td>275,705</td>\n      <td>853,182,720</td>\n    </tr>\n    <tr>\n      <th>967</th>\n      <td>202105</td>\n      <td>경상북도</td>\n      <td>포항시</td>\n      <td>합계</td>\n      <td>276,012</td>\n      <td>916,268,562</td>\n    </tr>\n    <tr>\n      <th>1151</th>\n      <td>202106</td>\n      <td>경상북도</td>\n      <td>포항시</td>\n      <td>합계</td>\n      <td>276,366</td>\n      <td>772,005,636</td>\n    </tr>\n  </tbody>\n</table>\n<p>138 rows × 6 columns</p>\n</div>"
     },
     "execution_count": 13,
     "metadata": {},
     "output_type": "execute_result"
    }
   ],
   "source": [
    "df_4 = df.loc[48:]\n",
    "df_4 = df_4.loc[(df_4['계약구분'] == '합계')]\n",
    "df_4 = df_4.sort_values(by=['시군구' , '년월'])\n",
    "df_4.drop(['전기요금(원)',   '평균판매단가(원/kWh)'] , axis = 1 , inplace = True)\n",
    "df_4"
   ],
   "metadata": {
    "collapsed": false,
    "pycharm": {
     "name": "#%%\n"
    }
   }
  },
  {
   "cell_type": "code",
   "execution_count": 14,
   "outputs": [
    {
     "name": "stdout",
     "output_type": "stream",
     "text": [
      "[255254981, 235897762, 223490116, 223162534, 209169975, 219680022]\n",
      "[384793301, 364013917, 340282693, 335222941, 323206428, 321324811]\n",
      "[120132497, 107131423, 112030135, 112242013, 107676637, 108339416]\n",
      "[831199547, 757484947, 785752232, 774032820, 785576735, 815080885]\n",
      "[28308827, 35888930, 27822721, 27509616, 24939649, 24953539]\n",
      "[221376206, 204808539, 199254812, 187510041, 187671224, 192068868]\n",
      "[62874359, 58970235, 51260983, 47810439, 43705211, 43542484]\n",
      "[175084393, 162104991, 167904618, 168427875, 170334924, 140590225]\n",
      "[80004526, 75708637, 63611386, 60456384, 56733448, 56703615]\n",
      "[102950042, 95273679, 90737941, 90826662, 83935418, 84957646]\n",
      "[117154864, 110793308, 95832380, 91923345, 85216922, 88098058]\n",
      "[30428179, 28432516, 24385141, 23905452, 22131941, 22142859]\n",
      "[12418950, 12040935, 9893982, 8980727, 7757182, 7491094]\n",
      "[158409910, 144213751, 141382926, 136099273, 133119682, 126793900]\n",
      "[147801413, 136884796, 129621340, 130497664, 119818335, 126216743]\n",
      "[40028973, 37672131, 31348684, 28918249, 27482627, 28566368]\n",
      "[5839109, 5447585, 4991646, 5598436, 5316388, 5541700]\n",
      "[54916786, 39632025, 59557586, 59987363, 52592103, 74551184]\n",
      "[43317444, 41061111, 34113379, 33259212, 32825735, 36210189]\n",
      "[49286797, 45696293, 39359353, 38327905, 34810775, 35408179]\n",
      "[20964461, 20069829, 16884486, 16436600, 15152068, 14575682]\n",
      "[188326626, 175768076, 163136573, 165293157, 155082483, 161234903]\n",
      "[867608757, 778378941, 808816737, 853182720, 916268562, 772005636]\n",
      "경상북도 지역별 합계 :  [1366655390, 2068844091, 667552121, 4749127166, 169423282, 1192689690, 308163711, 984447026, 393217996, 548681388, 589018877, 151426088, 58582870, 840019442, 790840291, 194017032, 32734864, 341237047, 220787070, 242889302, 104083126, 1008841818, 4996261353]\n",
      "경상북도 고객호수 평균:  [27123, 34826, 5829, 35015, 5494, 19124, 11406, 7696, 18069, 10222, 22339, 7307, 4339, 14898, 15865, 10294, 1427, 9521, 12797, 10293, 6774, 14522, 46030]\n"
     ]
    }
   ],
   "source": [
    "sum2 , sum3 =[] , []\n",
    "for k in SIGUNGU:\n",
    "    GyeonGiHap = pd.DataFrame([] , columns = a)\n",
    "    HOSU = pd.DataFrame([], columns = a)\n",
    "    GyeonGiHap['사용량']= df_4['사용량(kWh)'].loc[(df_4['시군구'] == '{}'.format(k))]\n",
    "    HOSU['고객호수']= df_4['고객호수(호)'].loc[(df_4['시군구'] == '{}'.format(k))]\n",
    "    #경기합 데이터프레임의 사용량 열에 기군구가 가평군인 사용량 데이터만 뽑아내기\n",
    "    # GyeonGiHap = GyeonGiHap['사용량']\n",
    "\n",
    "    b = GyeonGiHap['사용량'].tolist()\n",
    "    c = HOSU['고객호수'].tolist()\n",
    "\n",
    "\n",
    "    #각지역별 사용량 리스트화\n",
    "    int_list  , int_list2=[] , []\n",
    "    for i in b:\n",
    "        i = re.sub(\",\" , \"\" , i)\n",
    "        #콤마 없애기\n",
    "        int_list.append(int(i))\n",
    "        #int_list에 각지역별 사용량 int로 저장\n",
    "    print(int_list)\n",
    "    sum=0\n",
    "    for i in c:\n",
    "        i = re.sub(\",\" , \"\" , i)\n",
    "        int_list2.append(int(i))\n",
    "\n",
    "    for j in int_list:\n",
    "\n",
    "        sum+= j\n",
    "    sum2.append(sum)\n",
    "    sum = 0\n",
    "    for j in int_list2: #고객호수 추출하여 더하기\n",
    "\n",
    "        sum+= j\n",
    "    sum3.append(sum//36) #6개월 치로 나눠야하나?!\n",
    "\n",
    "\n",
    "\n",
    "\n",
    "print(\"{} 지역별 합계 : \".format(City) , sum2)\n",
    "print(\"{} 고객호수 평균: \".format(City) , sum3)"
   ],
   "metadata": {
    "collapsed": false,
    "pycharm": {
     "name": "#%%\n"
    }
   }
  },
  {
   "cell_type": "markdown",
   "source": [
    "### 2. 날짜 체크!!!!!!!!!!!!!!!!!!!!!!!!!!!!!!!!!!!!!!!!!!!!!!"
   ],
   "metadata": {
    "collapsed": false,
    "pycharm": {
     "name": "#%% md\n"
    }
   }
  },
  {
   "cell_type": "code",
   "execution_count": 15,
   "outputs": [
    {
     "name": "stderr",
     "output_type": "stream",
     "text": [
      "C:\\Users\\user\\AppData\\Local\\Temp\\ipykernel_12100\\1481603074.py:4: FutureWarning: The frame.append method is deprecated and will be removed from pandas in a future version. Use pandas.concat instead.\n",
      "  Hap = Hap.append({'년월' :'202101-202106'  , '시구' : '{}'.format(City) , '시군구' : '{}'.format(SIGUNGU[i]) , '계약구분' : '합계' , '고객호수(호)' : sum3[i] ,  '사용량(kWh)' : sum2[i]} , ignore_index=True) #년월 파일마다 수정하기\n",
      "C:\\Users\\user\\AppData\\Local\\Temp\\ipykernel_12100\\1481603074.py:4: FutureWarning: The frame.append method is deprecated and will be removed from pandas in a future version. Use pandas.concat instead.\n",
      "  Hap = Hap.append({'년월' :'202101-202106'  , '시구' : '{}'.format(City) , '시군구' : '{}'.format(SIGUNGU[i]) , '계약구분' : '합계' , '고객호수(호)' : sum3[i] ,  '사용량(kWh)' : sum2[i]} , ignore_index=True) #년월 파일마다 수정하기\n",
      "C:\\Users\\user\\AppData\\Local\\Temp\\ipykernel_12100\\1481603074.py:4: FutureWarning: The frame.append method is deprecated and will be removed from pandas in a future version. Use pandas.concat instead.\n",
      "  Hap = Hap.append({'년월' :'202101-202106'  , '시구' : '{}'.format(City) , '시군구' : '{}'.format(SIGUNGU[i]) , '계약구분' : '합계' , '고객호수(호)' : sum3[i] ,  '사용량(kWh)' : sum2[i]} , ignore_index=True) #년월 파일마다 수정하기\n",
      "C:\\Users\\user\\AppData\\Local\\Temp\\ipykernel_12100\\1481603074.py:4: FutureWarning: The frame.append method is deprecated and will be removed from pandas in a future version. Use pandas.concat instead.\n",
      "  Hap = Hap.append({'년월' :'202101-202106'  , '시구' : '{}'.format(City) , '시군구' : '{}'.format(SIGUNGU[i]) , '계약구분' : '합계' , '고객호수(호)' : sum3[i] ,  '사용량(kWh)' : sum2[i]} , ignore_index=True) #년월 파일마다 수정하기\n",
      "C:\\Users\\user\\AppData\\Local\\Temp\\ipykernel_12100\\1481603074.py:4: FutureWarning: The frame.append method is deprecated and will be removed from pandas in a future version. Use pandas.concat instead.\n",
      "  Hap = Hap.append({'년월' :'202101-202106'  , '시구' : '{}'.format(City) , '시군구' : '{}'.format(SIGUNGU[i]) , '계약구분' : '합계' , '고객호수(호)' : sum3[i] ,  '사용량(kWh)' : sum2[i]} , ignore_index=True) #년월 파일마다 수정하기\n",
      "C:\\Users\\user\\AppData\\Local\\Temp\\ipykernel_12100\\1481603074.py:4: FutureWarning: The frame.append method is deprecated and will be removed from pandas in a future version. Use pandas.concat instead.\n",
      "  Hap = Hap.append({'년월' :'202101-202106'  , '시구' : '{}'.format(City) , '시군구' : '{}'.format(SIGUNGU[i]) , '계약구분' : '합계' , '고객호수(호)' : sum3[i] ,  '사용량(kWh)' : sum2[i]} , ignore_index=True) #년월 파일마다 수정하기\n",
      "C:\\Users\\user\\AppData\\Local\\Temp\\ipykernel_12100\\1481603074.py:4: FutureWarning: The frame.append method is deprecated and will be removed from pandas in a future version. Use pandas.concat instead.\n",
      "  Hap = Hap.append({'년월' :'202101-202106'  , '시구' : '{}'.format(City) , '시군구' : '{}'.format(SIGUNGU[i]) , '계약구분' : '합계' , '고객호수(호)' : sum3[i] ,  '사용량(kWh)' : sum2[i]} , ignore_index=True) #년월 파일마다 수정하기\n",
      "C:\\Users\\user\\AppData\\Local\\Temp\\ipykernel_12100\\1481603074.py:4: FutureWarning: The frame.append method is deprecated and will be removed from pandas in a future version. Use pandas.concat instead.\n",
      "  Hap = Hap.append({'년월' :'202101-202106'  , '시구' : '{}'.format(City) , '시군구' : '{}'.format(SIGUNGU[i]) , '계약구분' : '합계' , '고객호수(호)' : sum3[i] ,  '사용량(kWh)' : sum2[i]} , ignore_index=True) #년월 파일마다 수정하기\n",
      "C:\\Users\\user\\AppData\\Local\\Temp\\ipykernel_12100\\1481603074.py:4: FutureWarning: The frame.append method is deprecated and will be removed from pandas in a future version. Use pandas.concat instead.\n",
      "  Hap = Hap.append({'년월' :'202101-202106'  , '시구' : '{}'.format(City) , '시군구' : '{}'.format(SIGUNGU[i]) , '계약구분' : '합계' , '고객호수(호)' : sum3[i] ,  '사용량(kWh)' : sum2[i]} , ignore_index=True) #년월 파일마다 수정하기\n",
      "C:\\Users\\user\\AppData\\Local\\Temp\\ipykernel_12100\\1481603074.py:4: FutureWarning: The frame.append method is deprecated and will be removed from pandas in a future version. Use pandas.concat instead.\n",
      "  Hap = Hap.append({'년월' :'202101-202106'  , '시구' : '{}'.format(City) , '시군구' : '{}'.format(SIGUNGU[i]) , '계약구분' : '합계' , '고객호수(호)' : sum3[i] ,  '사용량(kWh)' : sum2[i]} , ignore_index=True) #년월 파일마다 수정하기\n",
      "C:\\Users\\user\\AppData\\Local\\Temp\\ipykernel_12100\\1481603074.py:4: FutureWarning: The frame.append method is deprecated and will be removed from pandas in a future version. Use pandas.concat instead.\n",
      "  Hap = Hap.append({'년월' :'202101-202106'  , '시구' : '{}'.format(City) , '시군구' : '{}'.format(SIGUNGU[i]) , '계약구분' : '합계' , '고객호수(호)' : sum3[i] ,  '사용량(kWh)' : sum2[i]} , ignore_index=True) #년월 파일마다 수정하기\n",
      "C:\\Users\\user\\AppData\\Local\\Temp\\ipykernel_12100\\1481603074.py:4: FutureWarning: The frame.append method is deprecated and will be removed from pandas in a future version. Use pandas.concat instead.\n",
      "  Hap = Hap.append({'년월' :'202101-202106'  , '시구' : '{}'.format(City) , '시군구' : '{}'.format(SIGUNGU[i]) , '계약구분' : '합계' , '고객호수(호)' : sum3[i] ,  '사용량(kWh)' : sum2[i]} , ignore_index=True) #년월 파일마다 수정하기\n",
      "C:\\Users\\user\\AppData\\Local\\Temp\\ipykernel_12100\\1481603074.py:4: FutureWarning: The frame.append method is deprecated and will be removed from pandas in a future version. Use pandas.concat instead.\n",
      "  Hap = Hap.append({'년월' :'202101-202106'  , '시구' : '{}'.format(City) , '시군구' : '{}'.format(SIGUNGU[i]) , '계약구분' : '합계' , '고객호수(호)' : sum3[i] ,  '사용량(kWh)' : sum2[i]} , ignore_index=True) #년월 파일마다 수정하기\n",
      "C:\\Users\\user\\AppData\\Local\\Temp\\ipykernel_12100\\1481603074.py:4: FutureWarning: The frame.append method is deprecated and will be removed from pandas in a future version. Use pandas.concat instead.\n",
      "  Hap = Hap.append({'년월' :'202101-202106'  , '시구' : '{}'.format(City) , '시군구' : '{}'.format(SIGUNGU[i]) , '계약구분' : '합계' , '고객호수(호)' : sum3[i] ,  '사용량(kWh)' : sum2[i]} , ignore_index=True) #년월 파일마다 수정하기\n",
      "C:\\Users\\user\\AppData\\Local\\Temp\\ipykernel_12100\\1481603074.py:4: FutureWarning: The frame.append method is deprecated and will be removed from pandas in a future version. Use pandas.concat instead.\n",
      "  Hap = Hap.append({'년월' :'202101-202106'  , '시구' : '{}'.format(City) , '시군구' : '{}'.format(SIGUNGU[i]) , '계약구분' : '합계' , '고객호수(호)' : sum3[i] ,  '사용량(kWh)' : sum2[i]} , ignore_index=True) #년월 파일마다 수정하기\n",
      "C:\\Users\\user\\AppData\\Local\\Temp\\ipykernel_12100\\1481603074.py:4: FutureWarning: The frame.append method is deprecated and will be removed from pandas in a future version. Use pandas.concat instead.\n",
      "  Hap = Hap.append({'년월' :'202101-202106'  , '시구' : '{}'.format(City) , '시군구' : '{}'.format(SIGUNGU[i]) , '계약구분' : '합계' , '고객호수(호)' : sum3[i] ,  '사용량(kWh)' : sum2[i]} , ignore_index=True) #년월 파일마다 수정하기\n",
      "C:\\Users\\user\\AppData\\Local\\Temp\\ipykernel_12100\\1481603074.py:4: FutureWarning: The frame.append method is deprecated and will be removed from pandas in a future version. Use pandas.concat instead.\n",
      "  Hap = Hap.append({'년월' :'202101-202106'  , '시구' : '{}'.format(City) , '시군구' : '{}'.format(SIGUNGU[i]) , '계약구분' : '합계' , '고객호수(호)' : sum3[i] ,  '사용량(kWh)' : sum2[i]} , ignore_index=True) #년월 파일마다 수정하기\n",
      "C:\\Users\\user\\AppData\\Local\\Temp\\ipykernel_12100\\1481603074.py:4: FutureWarning: The frame.append method is deprecated and will be removed from pandas in a future version. Use pandas.concat instead.\n",
      "  Hap = Hap.append({'년월' :'202101-202106'  , '시구' : '{}'.format(City) , '시군구' : '{}'.format(SIGUNGU[i]) , '계약구분' : '합계' , '고객호수(호)' : sum3[i] ,  '사용량(kWh)' : sum2[i]} , ignore_index=True) #년월 파일마다 수정하기\n",
      "C:\\Users\\user\\AppData\\Local\\Temp\\ipykernel_12100\\1481603074.py:4: FutureWarning: The frame.append method is deprecated and will be removed from pandas in a future version. Use pandas.concat instead.\n",
      "  Hap = Hap.append({'년월' :'202101-202106'  , '시구' : '{}'.format(City) , '시군구' : '{}'.format(SIGUNGU[i]) , '계약구분' : '합계' , '고객호수(호)' : sum3[i] ,  '사용량(kWh)' : sum2[i]} , ignore_index=True) #년월 파일마다 수정하기\n",
      "C:\\Users\\user\\AppData\\Local\\Temp\\ipykernel_12100\\1481603074.py:4: FutureWarning: The frame.append method is deprecated and will be removed from pandas in a future version. Use pandas.concat instead.\n",
      "  Hap = Hap.append({'년월' :'202101-202106'  , '시구' : '{}'.format(City) , '시군구' : '{}'.format(SIGUNGU[i]) , '계약구분' : '합계' , '고객호수(호)' : sum3[i] ,  '사용량(kWh)' : sum2[i]} , ignore_index=True) #년월 파일마다 수정하기\n",
      "C:\\Users\\user\\AppData\\Local\\Temp\\ipykernel_12100\\1481603074.py:4: FutureWarning: The frame.append method is deprecated and will be removed from pandas in a future version. Use pandas.concat instead.\n",
      "  Hap = Hap.append({'년월' :'202101-202106'  , '시구' : '{}'.format(City) , '시군구' : '{}'.format(SIGUNGU[i]) , '계약구분' : '합계' , '고객호수(호)' : sum3[i] ,  '사용량(kWh)' : sum2[i]} , ignore_index=True) #년월 파일마다 수정하기\n",
      "C:\\Users\\user\\AppData\\Local\\Temp\\ipykernel_12100\\1481603074.py:4: FutureWarning: The frame.append method is deprecated and will be removed from pandas in a future version. Use pandas.concat instead.\n",
      "  Hap = Hap.append({'년월' :'202101-202106'  , '시구' : '{}'.format(City) , '시군구' : '{}'.format(SIGUNGU[i]) , '계약구분' : '합계' , '고객호수(호)' : sum3[i] ,  '사용량(kWh)' : sum2[i]} , ignore_index=True) #년월 파일마다 수정하기\n",
      "C:\\Users\\user\\AppData\\Local\\Temp\\ipykernel_12100\\1481603074.py:4: FutureWarning: The frame.append method is deprecated and will be removed from pandas in a future version. Use pandas.concat instead.\n",
      "  Hap = Hap.append({'년월' :'202101-202106'  , '시구' : '{}'.format(City) , '시군구' : '{}'.format(SIGUNGU[i]) , '계약구분' : '합계' , '고객호수(호)' : sum3[i] ,  '사용량(kWh)' : sum2[i]} , ignore_index=True) #년월 파일마다 수정하기\n"
     ]
    },
    {
     "data": {
      "text/plain": "                년월    시구  시군구 계약구분   고객호수(호)      사용량(kWh)\n0           202101  경상북도  경산시   합계  162,303   255,254,981 \n1           202102  경상북도  경산시   합계  162,431   235,897,762 \n2           202103  경상북도  경산시   합계  162,573   223,490,116 \n3           202104  경상북도  경산시   합계  162,688   223,162,534 \n4           202105  경상북도  경산시   합계  163,084   209,169,975 \n..             ...   ...  ...  ...       ...           ...\n156  202101-202106  경상북도  의성군   합계     12797     220787070\n157  202101-202106  경상북도  청도군   합계     10293     242889302\n158  202101-202106  경상북도  청송군   합계      6774     104083126\n159  202101-202106  경상북도  칠곡군   합계     14522    1008841818\n160  202101-202106  경상북도  포항시   합계     46030    4996261353\n\n[161 rows x 6 columns]",
      "text/html": "<div>\n<style scoped>\n    .dataframe tbody tr th:only-of-type {\n        vertical-align: middle;\n    }\n\n    .dataframe tbody tr th {\n        vertical-align: top;\n    }\n\n    .dataframe thead th {\n        text-align: right;\n    }\n</style>\n<table border=\"1\" class=\"dataframe\">\n  <thead>\n    <tr style=\"text-align: right;\">\n      <th></th>\n      <th>년월</th>\n      <th>시구</th>\n      <th>시군구</th>\n      <th>계약구분</th>\n      <th>고객호수(호)</th>\n      <th>사용량(kWh)</th>\n    </tr>\n  </thead>\n  <tbody>\n    <tr>\n      <th>0</th>\n      <td>202101</td>\n      <td>경상북도</td>\n      <td>경산시</td>\n      <td>합계</td>\n      <td>162,303</td>\n      <td>255,254,981</td>\n    </tr>\n    <tr>\n      <th>1</th>\n      <td>202102</td>\n      <td>경상북도</td>\n      <td>경산시</td>\n      <td>합계</td>\n      <td>162,431</td>\n      <td>235,897,762</td>\n    </tr>\n    <tr>\n      <th>2</th>\n      <td>202103</td>\n      <td>경상북도</td>\n      <td>경산시</td>\n      <td>합계</td>\n      <td>162,573</td>\n      <td>223,490,116</td>\n    </tr>\n    <tr>\n      <th>3</th>\n      <td>202104</td>\n      <td>경상북도</td>\n      <td>경산시</td>\n      <td>합계</td>\n      <td>162,688</td>\n      <td>223,162,534</td>\n    </tr>\n    <tr>\n      <th>4</th>\n      <td>202105</td>\n      <td>경상북도</td>\n      <td>경산시</td>\n      <td>합계</td>\n      <td>163,084</td>\n      <td>209,169,975</td>\n    </tr>\n    <tr>\n      <th>...</th>\n      <td>...</td>\n      <td>...</td>\n      <td>...</td>\n      <td>...</td>\n      <td>...</td>\n      <td>...</td>\n    </tr>\n    <tr>\n      <th>156</th>\n      <td>202101-202106</td>\n      <td>경상북도</td>\n      <td>의성군</td>\n      <td>합계</td>\n      <td>12797</td>\n      <td>220787070</td>\n    </tr>\n    <tr>\n      <th>157</th>\n      <td>202101-202106</td>\n      <td>경상북도</td>\n      <td>청도군</td>\n      <td>합계</td>\n      <td>10293</td>\n      <td>242889302</td>\n    </tr>\n    <tr>\n      <th>158</th>\n      <td>202101-202106</td>\n      <td>경상북도</td>\n      <td>청송군</td>\n      <td>합계</td>\n      <td>6774</td>\n      <td>104083126</td>\n    </tr>\n    <tr>\n      <th>159</th>\n      <td>202101-202106</td>\n      <td>경상북도</td>\n      <td>칠곡군</td>\n      <td>합계</td>\n      <td>14522</td>\n      <td>1008841818</td>\n    </tr>\n    <tr>\n      <th>160</th>\n      <td>202101-202106</td>\n      <td>경상북도</td>\n      <td>포항시</td>\n      <td>합계</td>\n      <td>46030</td>\n      <td>4996261353</td>\n    </tr>\n  </tbody>\n</table>\n<p>161 rows × 6 columns</p>\n</div>"
     },
     "execution_count": 15,
     "metadata": {},
     "output_type": "execute_result"
    }
   ],
   "source": [
    "Hap = df_4.copy()\n",
    "Hap.reset_index(drop=True , inplace = True)\n",
    "for i in range(len(SIGUNGU)):\n",
    "    Hap = Hap.append({'년월' :'202101-202106'  , '시구' : '{}'.format(City) , '시군구' : '{}'.format(SIGUNGU[i]) , '계약구분' : '합계' , '고객호수(호)' : sum3[i] ,  '사용량(kWh)' : sum2[i]} , ignore_index=True) #년월 파일마다 수정하기\n",
    "Hap"
   ],
   "metadata": {
    "collapsed": false,
    "pycharm": {
     "name": "#%%\n"
    }
   }
  },
  {
   "cell_type": "markdown",
   "source": [
    "### 3. 날짜 변경!!!!!!!!!!!!!!!!!!!!!!!!!!!!!!!"
   ],
   "metadata": {
    "collapsed": false,
    "pycharm": {
     "name": "#%% md\n"
    }
   }
  },
  {
   "cell_type": "code",
   "execution_count": 16,
   "outputs": [
    {
     "data": {
      "text/plain": "                년월    시구  시군구 계약구분 고객호수(호)    사용량(kWh)\n138  202101-202106  경상북도  경산시   합계   27123  1366655390\n139  202101-202106  경상북도  경주시   합계   34826  2068844091\n140  202101-202106  경상북도  고령군   합계    5829   667552121\n141  202101-202106  경상북도  구미시   합계   35015  4749127166\n142  202101-202106  경상북도  군위군   합계    5494   169423282\n143  202101-202106  경상북도  김천시   합계   19124  1192689690\n144  202101-202106  경상북도  문경시   합계   11406   308163711\n145  202101-202106  경상북도  봉화군   합계    7696   984447026\n146  202101-202106  경상북도  상주시   합계   18069   393217996\n147  202101-202106  경상북도  성주군   합계   10222   548681388\n148  202101-202106  경상북도  안동시   합계   22339   589018877\n149  202101-202106  경상북도  영덕군   합계    7307   151426088\n150  202101-202106  경상북도  영양군   합계    4339    58582870\n151  202101-202106  경상북도  영주시   합계   14898   840019442\n152  202101-202106  경상북도  영천시   합계   15865   790840291\n153  202101-202106  경상북도  예천군   합계   10294   194017032\n154  202101-202106  경상북도  울릉군   합계    1427    32734864\n155  202101-202106  경상북도  울진군   합계    9521   341237047\n156  202101-202106  경상북도  의성군   합계   12797   220787070\n157  202101-202106  경상북도  청도군   합계   10293   242889302\n158  202101-202106  경상북도  청송군   합계    6774   104083126\n159  202101-202106  경상북도  칠곡군   합계   14522  1008841818\n160  202101-202106  경상북도  포항시   합계   46030  4996261353",
      "text/html": "<div>\n<style scoped>\n    .dataframe tbody tr th:only-of-type {\n        vertical-align: middle;\n    }\n\n    .dataframe tbody tr th {\n        vertical-align: top;\n    }\n\n    .dataframe thead th {\n        text-align: right;\n    }\n</style>\n<table border=\"1\" class=\"dataframe\">\n  <thead>\n    <tr style=\"text-align: right;\">\n      <th></th>\n      <th>년월</th>\n      <th>시구</th>\n      <th>시군구</th>\n      <th>계약구분</th>\n      <th>고객호수(호)</th>\n      <th>사용량(kWh)</th>\n    </tr>\n  </thead>\n  <tbody>\n    <tr>\n      <th>138</th>\n      <td>202101-202106</td>\n      <td>경상북도</td>\n      <td>경산시</td>\n      <td>합계</td>\n      <td>27123</td>\n      <td>1366655390</td>\n    </tr>\n    <tr>\n      <th>139</th>\n      <td>202101-202106</td>\n      <td>경상북도</td>\n      <td>경주시</td>\n      <td>합계</td>\n      <td>34826</td>\n      <td>2068844091</td>\n    </tr>\n    <tr>\n      <th>140</th>\n      <td>202101-202106</td>\n      <td>경상북도</td>\n      <td>고령군</td>\n      <td>합계</td>\n      <td>5829</td>\n      <td>667552121</td>\n    </tr>\n    <tr>\n      <th>141</th>\n      <td>202101-202106</td>\n      <td>경상북도</td>\n      <td>구미시</td>\n      <td>합계</td>\n      <td>35015</td>\n      <td>4749127166</td>\n    </tr>\n    <tr>\n      <th>142</th>\n      <td>202101-202106</td>\n      <td>경상북도</td>\n      <td>군위군</td>\n      <td>합계</td>\n      <td>5494</td>\n      <td>169423282</td>\n    </tr>\n    <tr>\n      <th>143</th>\n      <td>202101-202106</td>\n      <td>경상북도</td>\n      <td>김천시</td>\n      <td>합계</td>\n      <td>19124</td>\n      <td>1192689690</td>\n    </tr>\n    <tr>\n      <th>144</th>\n      <td>202101-202106</td>\n      <td>경상북도</td>\n      <td>문경시</td>\n      <td>합계</td>\n      <td>11406</td>\n      <td>308163711</td>\n    </tr>\n    <tr>\n      <th>145</th>\n      <td>202101-202106</td>\n      <td>경상북도</td>\n      <td>봉화군</td>\n      <td>합계</td>\n      <td>7696</td>\n      <td>984447026</td>\n    </tr>\n    <tr>\n      <th>146</th>\n      <td>202101-202106</td>\n      <td>경상북도</td>\n      <td>상주시</td>\n      <td>합계</td>\n      <td>18069</td>\n      <td>393217996</td>\n    </tr>\n    <tr>\n      <th>147</th>\n      <td>202101-202106</td>\n      <td>경상북도</td>\n      <td>성주군</td>\n      <td>합계</td>\n      <td>10222</td>\n      <td>548681388</td>\n    </tr>\n    <tr>\n      <th>148</th>\n      <td>202101-202106</td>\n      <td>경상북도</td>\n      <td>안동시</td>\n      <td>합계</td>\n      <td>22339</td>\n      <td>589018877</td>\n    </tr>\n    <tr>\n      <th>149</th>\n      <td>202101-202106</td>\n      <td>경상북도</td>\n      <td>영덕군</td>\n      <td>합계</td>\n      <td>7307</td>\n      <td>151426088</td>\n    </tr>\n    <tr>\n      <th>150</th>\n      <td>202101-202106</td>\n      <td>경상북도</td>\n      <td>영양군</td>\n      <td>합계</td>\n      <td>4339</td>\n      <td>58582870</td>\n    </tr>\n    <tr>\n      <th>151</th>\n      <td>202101-202106</td>\n      <td>경상북도</td>\n      <td>영주시</td>\n      <td>합계</td>\n      <td>14898</td>\n      <td>840019442</td>\n    </tr>\n    <tr>\n      <th>152</th>\n      <td>202101-202106</td>\n      <td>경상북도</td>\n      <td>영천시</td>\n      <td>합계</td>\n      <td>15865</td>\n      <td>790840291</td>\n    </tr>\n    <tr>\n      <th>153</th>\n      <td>202101-202106</td>\n      <td>경상북도</td>\n      <td>예천군</td>\n      <td>합계</td>\n      <td>10294</td>\n      <td>194017032</td>\n    </tr>\n    <tr>\n      <th>154</th>\n      <td>202101-202106</td>\n      <td>경상북도</td>\n      <td>울릉군</td>\n      <td>합계</td>\n      <td>1427</td>\n      <td>32734864</td>\n    </tr>\n    <tr>\n      <th>155</th>\n      <td>202101-202106</td>\n      <td>경상북도</td>\n      <td>울진군</td>\n      <td>합계</td>\n      <td>9521</td>\n      <td>341237047</td>\n    </tr>\n    <tr>\n      <th>156</th>\n      <td>202101-202106</td>\n      <td>경상북도</td>\n      <td>의성군</td>\n      <td>합계</td>\n      <td>12797</td>\n      <td>220787070</td>\n    </tr>\n    <tr>\n      <th>157</th>\n      <td>202101-202106</td>\n      <td>경상북도</td>\n      <td>청도군</td>\n      <td>합계</td>\n      <td>10293</td>\n      <td>242889302</td>\n    </tr>\n    <tr>\n      <th>158</th>\n      <td>202101-202106</td>\n      <td>경상북도</td>\n      <td>청송군</td>\n      <td>합계</td>\n      <td>6774</td>\n      <td>104083126</td>\n    </tr>\n    <tr>\n      <th>159</th>\n      <td>202101-202106</td>\n      <td>경상북도</td>\n      <td>칠곡군</td>\n      <td>합계</td>\n      <td>14522</td>\n      <td>1008841818</td>\n    </tr>\n    <tr>\n      <th>160</th>\n      <td>202101-202106</td>\n      <td>경상북도</td>\n      <td>포항시</td>\n      <td>합계</td>\n      <td>46030</td>\n      <td>4996261353</td>\n    </tr>\n  </tbody>\n</table>\n</div>"
     },
     "execution_count": 16,
     "metadata": {},
     "output_type": "execute_result"
    }
   ],
   "source": [
    "Hap = Hap.loc[Hap['년월'] == '202101-202106']\n",
    "Hap"
   ],
   "metadata": {
    "collapsed": false,
    "pycharm": {
     "name": "#%%\n"
    }
   }
  },
  {
   "cell_type": "code",
   "execution_count": 17,
   "outputs": [],
   "source": [
    "# SIGUNGU = SIGUNGU[:1]\n",
    "# SIGUNGU\n",
    "#for i in SIGUNGU:\n",
    "#print('{}'.format(i))\n",
    "# df_3 = df_3.loc[(df_3['시군구'] == '가평군')]\n",
    "#\n",
    "# df_3"
   ],
   "metadata": {
    "collapsed": false,
    "pycharm": {
     "name": "#%%\n"
    }
   }
  },
  {
   "cell_type": "code",
   "execution_count": 18,
   "outputs": [
    {
     "data": {
      "text/plain": "['년월', '시구', '시군구', '계약구분', '고객호수(호)', '사용량(kWh)']"
     },
     "execution_count": 18,
     "metadata": {},
     "output_type": "execute_result"
    }
   ],
   "source": [
    "a = (df_3.columns).tolist()\n",
    "\n",
    "a"
   ],
   "metadata": {
    "collapsed": false,
    "pycharm": {
     "name": "#%%\n"
    }
   }
  },
  {
   "cell_type": "code",
   "execution_count": 19,
   "outputs": [
    {
     "data": {
      "text/plain": "          년월    시구  시군구 계약구분  고객호수(호)     사용량(kWh)\n53    202101  경상북도  경산시  일반용  18,077   47,199,256 \n237   202102  경상북도  경산시  일반용  18,099   44,304,649 \n421   202103  경상북도  경산시  일반용  18,083   37,129,258 \n605   202104  경상북도  경산시  일반용  18,130   36,253,219 \n789   202105  경상북도  경산시  일반용  18,269   33,979,518 \n...      ...   ...  ...  ...      ...          ...\n413   202102  경상북도  포항시  일반용  40,360   92,285,574 \n597   202103  경상북도  포항시  일반용  40,350   79,303,135 \n781   202104  경상북도  포항시  일반용  40,508   78,056,112 \n965   202105  경상북도  포항시  일반용  40,603   79,010,716 \n1149  202106  경상북도  포항시  일반용  40,740   74,647,419 \n\n[138 rows x 6 columns]",
      "text/html": "<div>\n<style scoped>\n    .dataframe tbody tr th:only-of-type {\n        vertical-align: middle;\n    }\n\n    .dataframe tbody tr th {\n        vertical-align: top;\n    }\n\n    .dataframe thead th {\n        text-align: right;\n    }\n</style>\n<table border=\"1\" class=\"dataframe\">\n  <thead>\n    <tr style=\"text-align: right;\">\n      <th></th>\n      <th>년월</th>\n      <th>시구</th>\n      <th>시군구</th>\n      <th>계약구분</th>\n      <th>고객호수(호)</th>\n      <th>사용량(kWh)</th>\n    </tr>\n  </thead>\n  <tbody>\n    <tr>\n      <th>53</th>\n      <td>202101</td>\n      <td>경상북도</td>\n      <td>경산시</td>\n      <td>일반용</td>\n      <td>18,077</td>\n      <td>47,199,256</td>\n    </tr>\n    <tr>\n      <th>237</th>\n      <td>202102</td>\n      <td>경상북도</td>\n      <td>경산시</td>\n      <td>일반용</td>\n      <td>18,099</td>\n      <td>44,304,649</td>\n    </tr>\n    <tr>\n      <th>421</th>\n      <td>202103</td>\n      <td>경상북도</td>\n      <td>경산시</td>\n      <td>일반용</td>\n      <td>18,083</td>\n      <td>37,129,258</td>\n    </tr>\n    <tr>\n      <th>605</th>\n      <td>202104</td>\n      <td>경상북도</td>\n      <td>경산시</td>\n      <td>일반용</td>\n      <td>18,130</td>\n      <td>36,253,219</td>\n    </tr>\n    <tr>\n      <th>789</th>\n      <td>202105</td>\n      <td>경상북도</td>\n      <td>경산시</td>\n      <td>일반용</td>\n      <td>18,269</td>\n      <td>33,979,518</td>\n    </tr>\n    <tr>\n      <th>...</th>\n      <td>...</td>\n      <td>...</td>\n      <td>...</td>\n      <td>...</td>\n      <td>...</td>\n      <td>...</td>\n    </tr>\n    <tr>\n      <th>413</th>\n      <td>202102</td>\n      <td>경상북도</td>\n      <td>포항시</td>\n      <td>일반용</td>\n      <td>40,360</td>\n      <td>92,285,574</td>\n    </tr>\n    <tr>\n      <th>597</th>\n      <td>202103</td>\n      <td>경상북도</td>\n      <td>포항시</td>\n      <td>일반용</td>\n      <td>40,350</td>\n      <td>79,303,135</td>\n    </tr>\n    <tr>\n      <th>781</th>\n      <td>202104</td>\n      <td>경상북도</td>\n      <td>포항시</td>\n      <td>일반용</td>\n      <td>40,508</td>\n      <td>78,056,112</td>\n    </tr>\n    <tr>\n      <th>965</th>\n      <td>202105</td>\n      <td>경상북도</td>\n      <td>포항시</td>\n      <td>일반용</td>\n      <td>40,603</td>\n      <td>79,010,716</td>\n    </tr>\n    <tr>\n      <th>1149</th>\n      <td>202106</td>\n      <td>경상북도</td>\n      <td>포항시</td>\n      <td>일반용</td>\n      <td>40,740</td>\n      <td>74,647,419</td>\n    </tr>\n  </tbody>\n</table>\n<p>138 rows × 6 columns</p>\n</div>"
     },
     "execution_count": 19,
     "metadata": {},
     "output_type": "execute_result"
    }
   ],
   "source": [
    "df_3"
   ],
   "metadata": {
    "collapsed": false,
    "pycharm": {
     "name": "#%%\n"
    }
   }
  },
  {
   "cell_type": "code",
   "execution_count": 20,
   "outputs": [],
   "source": [
    "# GyeonGiHap = pd.DataFrame([] , columns = a)\n",
    "# GyeonGiHap['사용량']= df_3['사용량(kWh)'].loc[(df_3['시군구'] == '{가평군}')]\n",
    "# GyeonGiHap"
   ],
   "metadata": {
    "collapsed": false,
    "pycharm": {
     "name": "#%%\n"
    }
   }
  },
  {
   "cell_type": "code",
   "execution_count": 21,
   "outputs": [
    {
     "name": "stdout",
     "output_type": "stream",
     "text": [
      "[47199256, 44304649, 37129258, 36253219, 33979518, 37911729]\n",
      "[64418285, 60580888, 52200414, 50999253, 47837837, 51686721]\n",
      "[6966286, 6566356, 5545198, 5399537, 4955953, 5267697]\n",
      "[70255962, 66029542, 55432075, 52931681, 49597781, 55613759]\n",
      "[5456723, 5927544, 4491313, 4323237, 3874615, 3975105]\n",
      "[29361552, 27096710, 22921187, 21911646, 20578951, 22115601]\n",
      "[16998166, 15927572, 12774881, 11674338, 10498741, 11128025]\n",
      "[6067592, 5704487, 4593979, 4254513, 3771188, 3754638]\n",
      "[17927470, 17016797, 14070670, 12983705, 11788142, 12371034]\n",
      "[10198451, 9496598, 7670218, 7236233, 6533833, 7022296]\n",
      "[38013183, 35685475, 29436058, 27786819, 25579097, 27262664]\n",
      "[12986793, 11907099, 10046780, 9608057, 8825524, 9043443]\n",
      "[3437621, 3200668, 2557807, 2380987, 2086755, 2089520]\n",
      "[21920174, 20732277, 16521397, 15518841, 14083187, 14994908]\n",
      "[20366892, 19090600, 15687306, 15207747, 13891601, 14804469]\n",
      "[10807791, 10134288, 8173911, 7582780, 6891702, 7334129]\n",
      "[3526740, 3277097, 2953312, 3259546, 3350422, 3284383]\n",
      "[15635181, 14385158, 12230610, 11529660, 10387733, 10704568]\n",
      "[9222022, 8784524, 6770370, 6487192, 5714336, 5868346]\n",
      "[9693722, 9099170, 7480291, 7150091, 6600237, 6821820]\n",
      "[6616329, 6321250, 5165306, 4807999, 4249881, 4279221]\n",
      "[30684734, 28887703, 23628587, 22935736, 21430333, 23934456]\n",
      "[99911636, 92285574, 79303135, 78056112, 79010716, 74647419]\n",
      "경상북도 지역별 일반용 합계 :  [236777629, 327723398, 34701027, 349860800, 28048537, 143985647, 79001723, 28146397, 86157818, 48157629, 183763296, 62417696, 15753358, 103770784, 99048615, 50924601, 19651500, 74872910, 42846790, 46845331, 31439986, 151501549, 503214592]\n",
      "경상북도 고객호수 평균:  [18166, 25776, 3249, 27613, 2285, 10515, 6673, 2993, 8075, 4429, 13966, 5310, 1575, 9874, 8706, 3884, 1911, 5591, 4303, 3999, 2789, 10967, 40487]\n"
     ]
    }
   ],
   "source": [
    "sum2 , sum3 =[] , []\n",
    "for k in SIGUNGU:\n",
    "    GyeonGiHap = pd.DataFrame([] , columns = a)\n",
    "    HOSU = pd.DataFrame([], columns = a)\n",
    "    GyeonGiHap['사용량']= df_3['사용량(kWh)'].loc[(df_3['시군구'] == '{}'.format(k))]\n",
    "    HOSU['고객호수']= df_3['고객호수(호)'].loc[(df_3['시군구'] == '{}'.format(k))]\n",
    "    #경기합 데이터프레임의 사용량 열에 기군구가 가평군인 사용량 데이터만 뽑아내기\n",
    "    # GyeonGiHap = GyeonGiHap['사용량']\n",
    "\n",
    "    b = GyeonGiHap['사용량'].tolist()\n",
    "    c = HOSU['고객호수'].tolist()\n",
    "\n",
    "\n",
    "    #각지역별 사용량 리스트화\n",
    "    int_list  , int_list2=[] , []\n",
    "    for i in b:\n",
    "        i = re.sub(\",\" , \"\" , i)\n",
    "        #콤마 없애기\n",
    "        int_list.append(int(i))\n",
    "        #int_list에 각지역별 사용량 int로 저장\n",
    "    print(int_list)\n",
    "    sum=0\n",
    "    for i in c:\n",
    "        i = re.sub(\",\" , \"\" , i)\n",
    "        int_list2.append(int(i))\n",
    "\n",
    "    for j in int_list:\n",
    "\n",
    "        sum+= j\n",
    "    sum2.append(sum)\n",
    "    sum = 0\n",
    "    for j in int_list2: #고객호수 추출하여 더하기\n",
    "\n",
    "        sum+= j\n",
    "    sum3.append(sum//6) #6개월 치로 나눠야하나?!\n",
    "\n",
    "\n",
    "\n",
    "\n",
    "print(\"{} 지역별 일반용 합계 : \".format(City) , sum2)\n",
    "print(\"{} 고객호수 평균: \".format(City) , sum3)\n",
    "# GyeonGiHap['합계'] = sum\n",
    "#\n",
    "# GyeonGiHap"
   ],
   "metadata": {
    "collapsed": false,
    "pycharm": {
     "name": "#%%\n"
    }
   }
  },
  {
   "cell_type": "code",
   "execution_count": 22,
   "outputs": [],
   "source": [
    "# df_3 = df_3.loc[(df_3['시군구'] == '가평군')]\n",
    "#\n",
    "# df_3"
   ],
   "metadata": {
    "collapsed": false,
    "pycharm": {
     "name": "#%%\n"
    }
   }
  },
  {
   "cell_type": "code",
   "execution_count": 23,
   "outputs": [],
   "source": [
    "# GyeonGiHap = df_3.copy()\n",
    "# GyeonGiHap.reset_index(drop=True , inplace = True)\n",
    "# GyeonGiHap.append({'년월' : '202107-202112'  , '시구' : '경기도' , '시군구' : '가평군' , '계약구분' : '일반용' , '사용량(kWh)' : sum}, ignore_index=True)"
   ],
   "metadata": {
    "collapsed": false,
    "pycharm": {
     "name": "#%%\n"
    }
   }
  },
  {
   "cell_type": "code",
   "execution_count": 24,
   "outputs": [],
   "source": [
    "# a=[]\n",
    "# for i in SIGUNGU:\n",
    "#     a.append(i)\n",
    "#\n",
    "# print(a)"
   ],
   "metadata": {
    "collapsed": false,
    "pycharm": {
     "name": "#%%\n"
    }
   }
  },
  {
   "cell_type": "markdown",
   "source": [
    "### 4. 년월 체크!!!!!!!!!!!!!!!!!!!!!!!!!!!!!!!!!!!!!!!!!!!!!!!!!!!!!!!!!!!!!!!!!"
   ],
   "metadata": {
    "collapsed": false,
    "pycharm": {
     "name": "#%% md\n"
    }
   }
  },
  {
   "cell_type": "code",
   "execution_count": 25,
   "outputs": [
    {
     "name": "stderr",
     "output_type": "stream",
     "text": [
      "C:\\Users\\user\\AppData\\Local\\Temp\\ipykernel_12100\\1152688266.py:4: FutureWarning: The frame.append method is deprecated and will be removed from pandas in a future version. Use pandas.concat instead.\n",
      "  GyeonGiHap2 = GyeonGiHap2.append({'년월' :'202101-202106'  , '시구' : '{}'.format(City) , '시군구' : '{}'.format(SIGUNGU[i]) , '계약구분' : '일반용' , '고객호수(호)' : sum3[i] ,  '사용량(kWh)' : sum2[i]} , ignore_index=True) #년월 파일마다 수정하기\n",
      "C:\\Users\\user\\AppData\\Local\\Temp\\ipykernel_12100\\1152688266.py:4: FutureWarning: The frame.append method is deprecated and will be removed from pandas in a future version. Use pandas.concat instead.\n",
      "  GyeonGiHap2 = GyeonGiHap2.append({'년월' :'202101-202106'  , '시구' : '{}'.format(City) , '시군구' : '{}'.format(SIGUNGU[i]) , '계약구분' : '일반용' , '고객호수(호)' : sum3[i] ,  '사용량(kWh)' : sum2[i]} , ignore_index=True) #년월 파일마다 수정하기\n",
      "C:\\Users\\user\\AppData\\Local\\Temp\\ipykernel_12100\\1152688266.py:4: FutureWarning: The frame.append method is deprecated and will be removed from pandas in a future version. Use pandas.concat instead.\n",
      "  GyeonGiHap2 = GyeonGiHap2.append({'년월' :'202101-202106'  , '시구' : '{}'.format(City) , '시군구' : '{}'.format(SIGUNGU[i]) , '계약구분' : '일반용' , '고객호수(호)' : sum3[i] ,  '사용량(kWh)' : sum2[i]} , ignore_index=True) #년월 파일마다 수정하기\n",
      "C:\\Users\\user\\AppData\\Local\\Temp\\ipykernel_12100\\1152688266.py:4: FutureWarning: The frame.append method is deprecated and will be removed from pandas in a future version. Use pandas.concat instead.\n",
      "  GyeonGiHap2 = GyeonGiHap2.append({'년월' :'202101-202106'  , '시구' : '{}'.format(City) , '시군구' : '{}'.format(SIGUNGU[i]) , '계약구분' : '일반용' , '고객호수(호)' : sum3[i] ,  '사용량(kWh)' : sum2[i]} , ignore_index=True) #년월 파일마다 수정하기\n",
      "C:\\Users\\user\\AppData\\Local\\Temp\\ipykernel_12100\\1152688266.py:4: FutureWarning: The frame.append method is deprecated and will be removed from pandas in a future version. Use pandas.concat instead.\n",
      "  GyeonGiHap2 = GyeonGiHap2.append({'년월' :'202101-202106'  , '시구' : '{}'.format(City) , '시군구' : '{}'.format(SIGUNGU[i]) , '계약구분' : '일반용' , '고객호수(호)' : sum3[i] ,  '사용량(kWh)' : sum2[i]} , ignore_index=True) #년월 파일마다 수정하기\n",
      "C:\\Users\\user\\AppData\\Local\\Temp\\ipykernel_12100\\1152688266.py:4: FutureWarning: The frame.append method is deprecated and will be removed from pandas in a future version. Use pandas.concat instead.\n",
      "  GyeonGiHap2 = GyeonGiHap2.append({'년월' :'202101-202106'  , '시구' : '{}'.format(City) , '시군구' : '{}'.format(SIGUNGU[i]) , '계약구분' : '일반용' , '고객호수(호)' : sum3[i] ,  '사용량(kWh)' : sum2[i]} , ignore_index=True) #년월 파일마다 수정하기\n",
      "C:\\Users\\user\\AppData\\Local\\Temp\\ipykernel_12100\\1152688266.py:4: FutureWarning: The frame.append method is deprecated and will be removed from pandas in a future version. Use pandas.concat instead.\n",
      "  GyeonGiHap2 = GyeonGiHap2.append({'년월' :'202101-202106'  , '시구' : '{}'.format(City) , '시군구' : '{}'.format(SIGUNGU[i]) , '계약구분' : '일반용' , '고객호수(호)' : sum3[i] ,  '사용량(kWh)' : sum2[i]} , ignore_index=True) #년월 파일마다 수정하기\n",
      "C:\\Users\\user\\AppData\\Local\\Temp\\ipykernel_12100\\1152688266.py:4: FutureWarning: The frame.append method is deprecated and will be removed from pandas in a future version. Use pandas.concat instead.\n",
      "  GyeonGiHap2 = GyeonGiHap2.append({'년월' :'202101-202106'  , '시구' : '{}'.format(City) , '시군구' : '{}'.format(SIGUNGU[i]) , '계약구분' : '일반용' , '고객호수(호)' : sum3[i] ,  '사용량(kWh)' : sum2[i]} , ignore_index=True) #년월 파일마다 수정하기\n",
      "C:\\Users\\user\\AppData\\Local\\Temp\\ipykernel_12100\\1152688266.py:4: FutureWarning: The frame.append method is deprecated and will be removed from pandas in a future version. Use pandas.concat instead.\n",
      "  GyeonGiHap2 = GyeonGiHap2.append({'년월' :'202101-202106'  , '시구' : '{}'.format(City) , '시군구' : '{}'.format(SIGUNGU[i]) , '계약구분' : '일반용' , '고객호수(호)' : sum3[i] ,  '사용량(kWh)' : sum2[i]} , ignore_index=True) #년월 파일마다 수정하기\n",
      "C:\\Users\\user\\AppData\\Local\\Temp\\ipykernel_12100\\1152688266.py:4: FutureWarning: The frame.append method is deprecated and will be removed from pandas in a future version. Use pandas.concat instead.\n",
      "  GyeonGiHap2 = GyeonGiHap2.append({'년월' :'202101-202106'  , '시구' : '{}'.format(City) , '시군구' : '{}'.format(SIGUNGU[i]) , '계약구분' : '일반용' , '고객호수(호)' : sum3[i] ,  '사용량(kWh)' : sum2[i]} , ignore_index=True) #년월 파일마다 수정하기\n",
      "C:\\Users\\user\\AppData\\Local\\Temp\\ipykernel_12100\\1152688266.py:4: FutureWarning: The frame.append method is deprecated and will be removed from pandas in a future version. Use pandas.concat instead.\n",
      "  GyeonGiHap2 = GyeonGiHap2.append({'년월' :'202101-202106'  , '시구' : '{}'.format(City) , '시군구' : '{}'.format(SIGUNGU[i]) , '계약구분' : '일반용' , '고객호수(호)' : sum3[i] ,  '사용량(kWh)' : sum2[i]} , ignore_index=True) #년월 파일마다 수정하기\n",
      "C:\\Users\\user\\AppData\\Local\\Temp\\ipykernel_12100\\1152688266.py:4: FutureWarning: The frame.append method is deprecated and will be removed from pandas in a future version. Use pandas.concat instead.\n",
      "  GyeonGiHap2 = GyeonGiHap2.append({'년월' :'202101-202106'  , '시구' : '{}'.format(City) , '시군구' : '{}'.format(SIGUNGU[i]) , '계약구분' : '일반용' , '고객호수(호)' : sum3[i] ,  '사용량(kWh)' : sum2[i]} , ignore_index=True) #년월 파일마다 수정하기\n",
      "C:\\Users\\user\\AppData\\Local\\Temp\\ipykernel_12100\\1152688266.py:4: FutureWarning: The frame.append method is deprecated and will be removed from pandas in a future version. Use pandas.concat instead.\n",
      "  GyeonGiHap2 = GyeonGiHap2.append({'년월' :'202101-202106'  , '시구' : '{}'.format(City) , '시군구' : '{}'.format(SIGUNGU[i]) , '계약구분' : '일반용' , '고객호수(호)' : sum3[i] ,  '사용량(kWh)' : sum2[i]} , ignore_index=True) #년월 파일마다 수정하기\n",
      "C:\\Users\\user\\AppData\\Local\\Temp\\ipykernel_12100\\1152688266.py:4: FutureWarning: The frame.append method is deprecated and will be removed from pandas in a future version. Use pandas.concat instead.\n",
      "  GyeonGiHap2 = GyeonGiHap2.append({'년월' :'202101-202106'  , '시구' : '{}'.format(City) , '시군구' : '{}'.format(SIGUNGU[i]) , '계약구분' : '일반용' , '고객호수(호)' : sum3[i] ,  '사용량(kWh)' : sum2[i]} , ignore_index=True) #년월 파일마다 수정하기\n",
      "C:\\Users\\user\\AppData\\Local\\Temp\\ipykernel_12100\\1152688266.py:4: FutureWarning: The frame.append method is deprecated and will be removed from pandas in a future version. Use pandas.concat instead.\n",
      "  GyeonGiHap2 = GyeonGiHap2.append({'년월' :'202101-202106'  , '시구' : '{}'.format(City) , '시군구' : '{}'.format(SIGUNGU[i]) , '계약구분' : '일반용' , '고객호수(호)' : sum3[i] ,  '사용량(kWh)' : sum2[i]} , ignore_index=True) #년월 파일마다 수정하기\n",
      "C:\\Users\\user\\AppData\\Local\\Temp\\ipykernel_12100\\1152688266.py:4: FutureWarning: The frame.append method is deprecated and will be removed from pandas in a future version. Use pandas.concat instead.\n",
      "  GyeonGiHap2 = GyeonGiHap2.append({'년월' :'202101-202106'  , '시구' : '{}'.format(City) , '시군구' : '{}'.format(SIGUNGU[i]) , '계약구분' : '일반용' , '고객호수(호)' : sum3[i] ,  '사용량(kWh)' : sum2[i]} , ignore_index=True) #년월 파일마다 수정하기\n",
      "C:\\Users\\user\\AppData\\Local\\Temp\\ipykernel_12100\\1152688266.py:4: FutureWarning: The frame.append method is deprecated and will be removed from pandas in a future version. Use pandas.concat instead.\n",
      "  GyeonGiHap2 = GyeonGiHap2.append({'년월' :'202101-202106'  , '시구' : '{}'.format(City) , '시군구' : '{}'.format(SIGUNGU[i]) , '계약구분' : '일반용' , '고객호수(호)' : sum3[i] ,  '사용량(kWh)' : sum2[i]} , ignore_index=True) #년월 파일마다 수정하기\n",
      "C:\\Users\\user\\AppData\\Local\\Temp\\ipykernel_12100\\1152688266.py:4: FutureWarning: The frame.append method is deprecated and will be removed from pandas in a future version. Use pandas.concat instead.\n",
      "  GyeonGiHap2 = GyeonGiHap2.append({'년월' :'202101-202106'  , '시구' : '{}'.format(City) , '시군구' : '{}'.format(SIGUNGU[i]) , '계약구분' : '일반용' , '고객호수(호)' : sum3[i] ,  '사용량(kWh)' : sum2[i]} , ignore_index=True) #년월 파일마다 수정하기\n",
      "C:\\Users\\user\\AppData\\Local\\Temp\\ipykernel_12100\\1152688266.py:4: FutureWarning: The frame.append method is deprecated and will be removed from pandas in a future version. Use pandas.concat instead.\n",
      "  GyeonGiHap2 = GyeonGiHap2.append({'년월' :'202101-202106'  , '시구' : '{}'.format(City) , '시군구' : '{}'.format(SIGUNGU[i]) , '계약구분' : '일반용' , '고객호수(호)' : sum3[i] ,  '사용량(kWh)' : sum2[i]} , ignore_index=True) #년월 파일마다 수정하기\n",
      "C:\\Users\\user\\AppData\\Local\\Temp\\ipykernel_12100\\1152688266.py:4: FutureWarning: The frame.append method is deprecated and will be removed from pandas in a future version. Use pandas.concat instead.\n",
      "  GyeonGiHap2 = GyeonGiHap2.append({'년월' :'202101-202106'  , '시구' : '{}'.format(City) , '시군구' : '{}'.format(SIGUNGU[i]) , '계약구분' : '일반용' , '고객호수(호)' : sum3[i] ,  '사용량(kWh)' : sum2[i]} , ignore_index=True) #년월 파일마다 수정하기\n",
      "C:\\Users\\user\\AppData\\Local\\Temp\\ipykernel_12100\\1152688266.py:4: FutureWarning: The frame.append method is deprecated and will be removed from pandas in a future version. Use pandas.concat instead.\n",
      "  GyeonGiHap2 = GyeonGiHap2.append({'년월' :'202101-202106'  , '시구' : '{}'.format(City) , '시군구' : '{}'.format(SIGUNGU[i]) , '계약구분' : '일반용' , '고객호수(호)' : sum3[i] ,  '사용량(kWh)' : sum2[i]} , ignore_index=True) #년월 파일마다 수정하기\n",
      "C:\\Users\\user\\AppData\\Local\\Temp\\ipykernel_12100\\1152688266.py:4: FutureWarning: The frame.append method is deprecated and will be removed from pandas in a future version. Use pandas.concat instead.\n",
      "  GyeonGiHap2 = GyeonGiHap2.append({'년월' :'202101-202106'  , '시구' : '{}'.format(City) , '시군구' : '{}'.format(SIGUNGU[i]) , '계약구분' : '일반용' , '고객호수(호)' : sum3[i] ,  '사용량(kWh)' : sum2[i]} , ignore_index=True) #년월 파일마다 수정하기\n",
      "C:\\Users\\user\\AppData\\Local\\Temp\\ipykernel_12100\\1152688266.py:4: FutureWarning: The frame.append method is deprecated and will be removed from pandas in a future version. Use pandas.concat instead.\n",
      "  GyeonGiHap2 = GyeonGiHap2.append({'년월' :'202101-202106'  , '시구' : '{}'.format(City) , '시군구' : '{}'.format(SIGUNGU[i]) , '계약구분' : '일반용' , '고객호수(호)' : sum3[i] ,  '사용량(kWh)' : sum2[i]} , ignore_index=True) #년월 파일마다 수정하기\n"
     ]
    },
    {
     "data": {
      "text/plain": "                년월    시구  시군구 계약구분  고객호수(호)     사용량(kWh)\n0           202101  경상북도  경산시  일반용  18,077   47,199,256 \n1           202102  경상북도  경산시  일반용  18,099   44,304,649 \n2           202103  경상북도  경산시  일반용  18,083   37,129,258 \n3           202104  경상북도  경산시  일반용  18,130   36,253,219 \n4           202105  경상북도  경산시  일반용  18,269   33,979,518 \n..             ...   ...  ...  ...      ...          ...\n156  202101-202106  경상북도  의성군  일반용     4303     42846790\n157  202101-202106  경상북도  청도군  일반용     3999     46845331\n158  202101-202106  경상북도  청송군  일반용     2789     31439986\n159  202101-202106  경상북도  칠곡군  일반용    10967    151501549\n160  202101-202106  경상북도  포항시  일반용    40487    503214592\n\n[161 rows x 6 columns]",
      "text/html": "<div>\n<style scoped>\n    .dataframe tbody tr th:only-of-type {\n        vertical-align: middle;\n    }\n\n    .dataframe tbody tr th {\n        vertical-align: top;\n    }\n\n    .dataframe thead th {\n        text-align: right;\n    }\n</style>\n<table border=\"1\" class=\"dataframe\">\n  <thead>\n    <tr style=\"text-align: right;\">\n      <th></th>\n      <th>년월</th>\n      <th>시구</th>\n      <th>시군구</th>\n      <th>계약구분</th>\n      <th>고객호수(호)</th>\n      <th>사용량(kWh)</th>\n    </tr>\n  </thead>\n  <tbody>\n    <tr>\n      <th>0</th>\n      <td>202101</td>\n      <td>경상북도</td>\n      <td>경산시</td>\n      <td>일반용</td>\n      <td>18,077</td>\n      <td>47,199,256</td>\n    </tr>\n    <tr>\n      <th>1</th>\n      <td>202102</td>\n      <td>경상북도</td>\n      <td>경산시</td>\n      <td>일반용</td>\n      <td>18,099</td>\n      <td>44,304,649</td>\n    </tr>\n    <tr>\n      <th>2</th>\n      <td>202103</td>\n      <td>경상북도</td>\n      <td>경산시</td>\n      <td>일반용</td>\n      <td>18,083</td>\n      <td>37,129,258</td>\n    </tr>\n    <tr>\n      <th>3</th>\n      <td>202104</td>\n      <td>경상북도</td>\n      <td>경산시</td>\n      <td>일반용</td>\n      <td>18,130</td>\n      <td>36,253,219</td>\n    </tr>\n    <tr>\n      <th>4</th>\n      <td>202105</td>\n      <td>경상북도</td>\n      <td>경산시</td>\n      <td>일반용</td>\n      <td>18,269</td>\n      <td>33,979,518</td>\n    </tr>\n    <tr>\n      <th>...</th>\n      <td>...</td>\n      <td>...</td>\n      <td>...</td>\n      <td>...</td>\n      <td>...</td>\n      <td>...</td>\n    </tr>\n    <tr>\n      <th>156</th>\n      <td>202101-202106</td>\n      <td>경상북도</td>\n      <td>의성군</td>\n      <td>일반용</td>\n      <td>4303</td>\n      <td>42846790</td>\n    </tr>\n    <tr>\n      <th>157</th>\n      <td>202101-202106</td>\n      <td>경상북도</td>\n      <td>청도군</td>\n      <td>일반용</td>\n      <td>3999</td>\n      <td>46845331</td>\n    </tr>\n    <tr>\n      <th>158</th>\n      <td>202101-202106</td>\n      <td>경상북도</td>\n      <td>청송군</td>\n      <td>일반용</td>\n      <td>2789</td>\n      <td>31439986</td>\n    </tr>\n    <tr>\n      <th>159</th>\n      <td>202101-202106</td>\n      <td>경상북도</td>\n      <td>칠곡군</td>\n      <td>일반용</td>\n      <td>10967</td>\n      <td>151501549</td>\n    </tr>\n    <tr>\n      <th>160</th>\n      <td>202101-202106</td>\n      <td>경상북도</td>\n      <td>포항시</td>\n      <td>일반용</td>\n      <td>40487</td>\n      <td>503214592</td>\n    </tr>\n  </tbody>\n</table>\n<p>161 rows × 6 columns</p>\n</div>"
     },
     "execution_count": 25,
     "metadata": {},
     "output_type": "execute_result"
    }
   ],
   "source": [
    "GyeonGiHap2 = df_3.copy()\n",
    "GyeonGiHap2.reset_index(drop=True , inplace = True)\n",
    "for i in range(len(SIGUNGU)):\n",
    "    GyeonGiHap2 = GyeonGiHap2.append({'년월' :'202101-202106'  , '시구' : '{}'.format(City) , '시군구' : '{}'.format(SIGUNGU[i]) , '계약구분' : '일반용' , '고객호수(호)' : sum3[i] ,  '사용량(kWh)' : sum2[i]} , ignore_index=True) #년월 파일마다 수정하기\n",
    "GyeonGiHap2"
   ],
   "metadata": {
    "collapsed": false,
    "pycharm": {
     "name": "#%%\n"
    }
   }
  },
  {
   "cell_type": "markdown",
   "source": [
    "### 5. 날짜 체크!!!!!!!!!!!!!!!!!!!!!!!!!!!!!!!!!!!!!!!!!!!!!!!!!!!!"
   ],
   "metadata": {
    "collapsed": false,
    "pycharm": {
     "name": "#%% md\n"
    }
   }
  },
  {
   "cell_type": "code",
   "execution_count": 26,
   "outputs": [
    {
     "data": {
      "text/plain": "                년월    시구  시군구 계약구분 고객호수(호)   사용량(kWh)\n138  202101-202106  경상북도  경산시  일반용   18166  236777629\n139  202101-202106  경상북도  경주시  일반용   25776  327723398\n140  202101-202106  경상북도  고령군  일반용    3249   34701027\n141  202101-202106  경상북도  구미시  일반용   27613  349860800\n142  202101-202106  경상북도  군위군  일반용    2285   28048537\n143  202101-202106  경상북도  김천시  일반용   10515  143985647\n144  202101-202106  경상북도  문경시  일반용    6673   79001723\n145  202101-202106  경상북도  봉화군  일반용    2993   28146397\n146  202101-202106  경상북도  상주시  일반용    8075   86157818\n147  202101-202106  경상북도  성주군  일반용    4429   48157629\n148  202101-202106  경상북도  안동시  일반용   13966  183763296\n149  202101-202106  경상북도  영덕군  일반용    5310   62417696\n150  202101-202106  경상북도  영양군  일반용    1575   15753358\n151  202101-202106  경상북도  영주시  일반용    9874  103770784\n152  202101-202106  경상북도  영천시  일반용    8706   99048615\n153  202101-202106  경상북도  예천군  일반용    3884   50924601\n154  202101-202106  경상북도  울릉군  일반용    1911   19651500\n155  202101-202106  경상북도  울진군  일반용    5591   74872910\n156  202101-202106  경상북도  의성군  일반용    4303   42846790\n157  202101-202106  경상북도  청도군  일반용    3999   46845331\n158  202101-202106  경상북도  청송군  일반용    2789   31439986\n159  202101-202106  경상북도  칠곡군  일반용   10967  151501549\n160  202101-202106  경상북도  포항시  일반용   40487  503214592",
      "text/html": "<div>\n<style scoped>\n    .dataframe tbody tr th:only-of-type {\n        vertical-align: middle;\n    }\n\n    .dataframe tbody tr th {\n        vertical-align: top;\n    }\n\n    .dataframe thead th {\n        text-align: right;\n    }\n</style>\n<table border=\"1\" class=\"dataframe\">\n  <thead>\n    <tr style=\"text-align: right;\">\n      <th></th>\n      <th>년월</th>\n      <th>시구</th>\n      <th>시군구</th>\n      <th>계약구분</th>\n      <th>고객호수(호)</th>\n      <th>사용량(kWh)</th>\n    </tr>\n  </thead>\n  <tbody>\n    <tr>\n      <th>138</th>\n      <td>202101-202106</td>\n      <td>경상북도</td>\n      <td>경산시</td>\n      <td>일반용</td>\n      <td>18166</td>\n      <td>236777629</td>\n    </tr>\n    <tr>\n      <th>139</th>\n      <td>202101-202106</td>\n      <td>경상북도</td>\n      <td>경주시</td>\n      <td>일반용</td>\n      <td>25776</td>\n      <td>327723398</td>\n    </tr>\n    <tr>\n      <th>140</th>\n      <td>202101-202106</td>\n      <td>경상북도</td>\n      <td>고령군</td>\n      <td>일반용</td>\n      <td>3249</td>\n      <td>34701027</td>\n    </tr>\n    <tr>\n      <th>141</th>\n      <td>202101-202106</td>\n      <td>경상북도</td>\n      <td>구미시</td>\n      <td>일반용</td>\n      <td>27613</td>\n      <td>349860800</td>\n    </tr>\n    <tr>\n      <th>142</th>\n      <td>202101-202106</td>\n      <td>경상북도</td>\n      <td>군위군</td>\n      <td>일반용</td>\n      <td>2285</td>\n      <td>28048537</td>\n    </tr>\n    <tr>\n      <th>143</th>\n      <td>202101-202106</td>\n      <td>경상북도</td>\n      <td>김천시</td>\n      <td>일반용</td>\n      <td>10515</td>\n      <td>143985647</td>\n    </tr>\n    <tr>\n      <th>144</th>\n      <td>202101-202106</td>\n      <td>경상북도</td>\n      <td>문경시</td>\n      <td>일반용</td>\n      <td>6673</td>\n      <td>79001723</td>\n    </tr>\n    <tr>\n      <th>145</th>\n      <td>202101-202106</td>\n      <td>경상북도</td>\n      <td>봉화군</td>\n      <td>일반용</td>\n      <td>2993</td>\n      <td>28146397</td>\n    </tr>\n    <tr>\n      <th>146</th>\n      <td>202101-202106</td>\n      <td>경상북도</td>\n      <td>상주시</td>\n      <td>일반용</td>\n      <td>8075</td>\n      <td>86157818</td>\n    </tr>\n    <tr>\n      <th>147</th>\n      <td>202101-202106</td>\n      <td>경상북도</td>\n      <td>성주군</td>\n      <td>일반용</td>\n      <td>4429</td>\n      <td>48157629</td>\n    </tr>\n    <tr>\n      <th>148</th>\n      <td>202101-202106</td>\n      <td>경상북도</td>\n      <td>안동시</td>\n      <td>일반용</td>\n      <td>13966</td>\n      <td>183763296</td>\n    </tr>\n    <tr>\n      <th>149</th>\n      <td>202101-202106</td>\n      <td>경상북도</td>\n      <td>영덕군</td>\n      <td>일반용</td>\n      <td>5310</td>\n      <td>62417696</td>\n    </tr>\n    <tr>\n      <th>150</th>\n      <td>202101-202106</td>\n      <td>경상북도</td>\n      <td>영양군</td>\n      <td>일반용</td>\n      <td>1575</td>\n      <td>15753358</td>\n    </tr>\n    <tr>\n      <th>151</th>\n      <td>202101-202106</td>\n      <td>경상북도</td>\n      <td>영주시</td>\n      <td>일반용</td>\n      <td>9874</td>\n      <td>103770784</td>\n    </tr>\n    <tr>\n      <th>152</th>\n      <td>202101-202106</td>\n      <td>경상북도</td>\n      <td>영천시</td>\n      <td>일반용</td>\n      <td>8706</td>\n      <td>99048615</td>\n    </tr>\n    <tr>\n      <th>153</th>\n      <td>202101-202106</td>\n      <td>경상북도</td>\n      <td>예천군</td>\n      <td>일반용</td>\n      <td>3884</td>\n      <td>50924601</td>\n    </tr>\n    <tr>\n      <th>154</th>\n      <td>202101-202106</td>\n      <td>경상북도</td>\n      <td>울릉군</td>\n      <td>일반용</td>\n      <td>1911</td>\n      <td>19651500</td>\n    </tr>\n    <tr>\n      <th>155</th>\n      <td>202101-202106</td>\n      <td>경상북도</td>\n      <td>울진군</td>\n      <td>일반용</td>\n      <td>5591</td>\n      <td>74872910</td>\n    </tr>\n    <tr>\n      <th>156</th>\n      <td>202101-202106</td>\n      <td>경상북도</td>\n      <td>의성군</td>\n      <td>일반용</td>\n      <td>4303</td>\n      <td>42846790</td>\n    </tr>\n    <tr>\n      <th>157</th>\n      <td>202101-202106</td>\n      <td>경상북도</td>\n      <td>청도군</td>\n      <td>일반용</td>\n      <td>3999</td>\n      <td>46845331</td>\n    </tr>\n    <tr>\n      <th>158</th>\n      <td>202101-202106</td>\n      <td>경상북도</td>\n      <td>청송군</td>\n      <td>일반용</td>\n      <td>2789</td>\n      <td>31439986</td>\n    </tr>\n    <tr>\n      <th>159</th>\n      <td>202101-202106</td>\n      <td>경상북도</td>\n      <td>칠곡군</td>\n      <td>일반용</td>\n      <td>10967</td>\n      <td>151501549</td>\n    </tr>\n    <tr>\n      <th>160</th>\n      <td>202101-202106</td>\n      <td>경상북도</td>\n      <td>포항시</td>\n      <td>일반용</td>\n      <td>40487</td>\n      <td>503214592</td>\n    </tr>\n  </tbody>\n</table>\n</div>"
     },
     "execution_count": 26,
     "metadata": {},
     "output_type": "execute_result"
    }
   ],
   "source": [
    "GyeonGiHap2 = GyeonGiHap2.loc[GyeonGiHap2['년월'] == '202101-202106']\n",
    "GyeonGiHap2"
   ],
   "metadata": {
    "collapsed": false,
    "pycharm": {
     "name": "#%%\n"
    }
   }
  },
  {
   "cell_type": "code",
   "execution_count": 27,
   "outputs": [
    {
     "data": {
      "text/plain": "                년월    시구  시군구 계약구분 고객호수(호)    사용량(kWh)\n138  202101-202106  경상북도  경산시  일반용   18166   236777629\n138  202101-202106  경상북도  경산시   합계   27123  1366655390\n139  202101-202106  경상북도  경주시  일반용   25776   327723398\n139  202101-202106  경상북도  경주시   합계   34826  2068844091\n140  202101-202106  경상북도  고령군  일반용    3249    34701027\n140  202101-202106  경상북도  고령군   합계    5829   667552121\n141  202101-202106  경상북도  구미시  일반용   27613   349860800\n141  202101-202106  경상북도  구미시   합계   35015  4749127166\n142  202101-202106  경상북도  군위군  일반용    2285    28048537\n142  202101-202106  경상북도  군위군   합계    5494   169423282\n143  202101-202106  경상북도  김천시  일반용   10515   143985647\n143  202101-202106  경상북도  김천시   합계   19124  1192689690\n144  202101-202106  경상북도  문경시  일반용    6673    79001723\n144  202101-202106  경상북도  문경시   합계   11406   308163711\n145  202101-202106  경상북도  봉화군  일반용    2993    28146397\n145  202101-202106  경상북도  봉화군   합계    7696   984447026\n146  202101-202106  경상북도  상주시   합계   18069   393217996\n146  202101-202106  경상북도  상주시  일반용    8075    86157818\n147  202101-202106  경상북도  성주군   합계   10222   548681388\n147  202101-202106  경상북도  성주군  일반용    4429    48157629\n148  202101-202106  경상북도  안동시   합계   22339   589018877\n148  202101-202106  경상북도  안동시  일반용   13966   183763296\n149  202101-202106  경상북도  영덕군   합계    7307   151426088\n149  202101-202106  경상북도  영덕군  일반용    5310    62417696\n150  202101-202106  경상북도  영양군   합계    4339    58582870\n150  202101-202106  경상북도  영양군  일반용    1575    15753358\n151  202101-202106  경상북도  영주시   합계   14898   840019442\n151  202101-202106  경상북도  영주시  일반용    9874   103770784\n152  202101-202106  경상북도  영천시  일반용    8706    99048615\n152  202101-202106  경상북도  영천시   합계   15865   790840291\n153  202101-202106  경상북도  예천군   합계   10294   194017032\n153  202101-202106  경상북도  예천군  일반용    3884    50924601\n154  202101-202106  경상북도  울릉군   합계    1427    32734864\n154  202101-202106  경상북도  울릉군  일반용    1911    19651500\n155  202101-202106  경상북도  울진군  일반용    5591    74872910\n155  202101-202106  경상북도  울진군   합계    9521   341237047\n156  202101-202106  경상북도  의성군   합계   12797   220787070\n156  202101-202106  경상북도  의성군  일반용    4303    42846790\n157  202101-202106  경상북도  청도군   합계   10293   242889302\n157  202101-202106  경상북도  청도군  일반용    3999    46845331\n158  202101-202106  경상북도  청송군   합계    6774   104083126\n158  202101-202106  경상북도  청송군  일반용    2789    31439986\n159  202101-202106  경상북도  칠곡군   합계   14522  1008841818\n159  202101-202106  경상북도  칠곡군  일반용   10967   151501549\n160  202101-202106  경상북도  포항시  일반용   40487   503214592\n160  202101-202106  경상북도  포항시   합계   46030  4996261353",
      "text/html": "<div>\n<style scoped>\n    .dataframe tbody tr th:only-of-type {\n        vertical-align: middle;\n    }\n\n    .dataframe tbody tr th {\n        vertical-align: top;\n    }\n\n    .dataframe thead th {\n        text-align: right;\n    }\n</style>\n<table border=\"1\" class=\"dataframe\">\n  <thead>\n    <tr style=\"text-align: right;\">\n      <th></th>\n      <th>년월</th>\n      <th>시구</th>\n      <th>시군구</th>\n      <th>계약구분</th>\n      <th>고객호수(호)</th>\n      <th>사용량(kWh)</th>\n    </tr>\n  </thead>\n  <tbody>\n    <tr>\n      <th>138</th>\n      <td>202101-202106</td>\n      <td>경상북도</td>\n      <td>경산시</td>\n      <td>일반용</td>\n      <td>18166</td>\n      <td>236777629</td>\n    </tr>\n    <tr>\n      <th>138</th>\n      <td>202101-202106</td>\n      <td>경상북도</td>\n      <td>경산시</td>\n      <td>합계</td>\n      <td>27123</td>\n      <td>1366655390</td>\n    </tr>\n    <tr>\n      <th>139</th>\n      <td>202101-202106</td>\n      <td>경상북도</td>\n      <td>경주시</td>\n      <td>일반용</td>\n      <td>25776</td>\n      <td>327723398</td>\n    </tr>\n    <tr>\n      <th>139</th>\n      <td>202101-202106</td>\n      <td>경상북도</td>\n      <td>경주시</td>\n      <td>합계</td>\n      <td>34826</td>\n      <td>2068844091</td>\n    </tr>\n    <tr>\n      <th>140</th>\n      <td>202101-202106</td>\n      <td>경상북도</td>\n      <td>고령군</td>\n      <td>일반용</td>\n      <td>3249</td>\n      <td>34701027</td>\n    </tr>\n    <tr>\n      <th>140</th>\n      <td>202101-202106</td>\n      <td>경상북도</td>\n      <td>고령군</td>\n      <td>합계</td>\n      <td>5829</td>\n      <td>667552121</td>\n    </tr>\n    <tr>\n      <th>141</th>\n      <td>202101-202106</td>\n      <td>경상북도</td>\n      <td>구미시</td>\n      <td>일반용</td>\n      <td>27613</td>\n      <td>349860800</td>\n    </tr>\n    <tr>\n      <th>141</th>\n      <td>202101-202106</td>\n      <td>경상북도</td>\n      <td>구미시</td>\n      <td>합계</td>\n      <td>35015</td>\n      <td>4749127166</td>\n    </tr>\n    <tr>\n      <th>142</th>\n      <td>202101-202106</td>\n      <td>경상북도</td>\n      <td>군위군</td>\n      <td>일반용</td>\n      <td>2285</td>\n      <td>28048537</td>\n    </tr>\n    <tr>\n      <th>142</th>\n      <td>202101-202106</td>\n      <td>경상북도</td>\n      <td>군위군</td>\n      <td>합계</td>\n      <td>5494</td>\n      <td>169423282</td>\n    </tr>\n    <tr>\n      <th>143</th>\n      <td>202101-202106</td>\n      <td>경상북도</td>\n      <td>김천시</td>\n      <td>일반용</td>\n      <td>10515</td>\n      <td>143985647</td>\n    </tr>\n    <tr>\n      <th>143</th>\n      <td>202101-202106</td>\n      <td>경상북도</td>\n      <td>김천시</td>\n      <td>합계</td>\n      <td>19124</td>\n      <td>1192689690</td>\n    </tr>\n    <tr>\n      <th>144</th>\n      <td>202101-202106</td>\n      <td>경상북도</td>\n      <td>문경시</td>\n      <td>일반용</td>\n      <td>6673</td>\n      <td>79001723</td>\n    </tr>\n    <tr>\n      <th>144</th>\n      <td>202101-202106</td>\n      <td>경상북도</td>\n      <td>문경시</td>\n      <td>합계</td>\n      <td>11406</td>\n      <td>308163711</td>\n    </tr>\n    <tr>\n      <th>145</th>\n      <td>202101-202106</td>\n      <td>경상북도</td>\n      <td>봉화군</td>\n      <td>일반용</td>\n      <td>2993</td>\n      <td>28146397</td>\n    </tr>\n    <tr>\n      <th>145</th>\n      <td>202101-202106</td>\n      <td>경상북도</td>\n      <td>봉화군</td>\n      <td>합계</td>\n      <td>7696</td>\n      <td>984447026</td>\n    </tr>\n    <tr>\n      <th>146</th>\n      <td>202101-202106</td>\n      <td>경상북도</td>\n      <td>상주시</td>\n      <td>합계</td>\n      <td>18069</td>\n      <td>393217996</td>\n    </tr>\n    <tr>\n      <th>146</th>\n      <td>202101-202106</td>\n      <td>경상북도</td>\n      <td>상주시</td>\n      <td>일반용</td>\n      <td>8075</td>\n      <td>86157818</td>\n    </tr>\n    <tr>\n      <th>147</th>\n      <td>202101-202106</td>\n      <td>경상북도</td>\n      <td>성주군</td>\n      <td>합계</td>\n      <td>10222</td>\n      <td>548681388</td>\n    </tr>\n    <tr>\n      <th>147</th>\n      <td>202101-202106</td>\n      <td>경상북도</td>\n      <td>성주군</td>\n      <td>일반용</td>\n      <td>4429</td>\n      <td>48157629</td>\n    </tr>\n    <tr>\n      <th>148</th>\n      <td>202101-202106</td>\n      <td>경상북도</td>\n      <td>안동시</td>\n      <td>합계</td>\n      <td>22339</td>\n      <td>589018877</td>\n    </tr>\n    <tr>\n      <th>148</th>\n      <td>202101-202106</td>\n      <td>경상북도</td>\n      <td>안동시</td>\n      <td>일반용</td>\n      <td>13966</td>\n      <td>183763296</td>\n    </tr>\n    <tr>\n      <th>149</th>\n      <td>202101-202106</td>\n      <td>경상북도</td>\n      <td>영덕군</td>\n      <td>합계</td>\n      <td>7307</td>\n      <td>151426088</td>\n    </tr>\n    <tr>\n      <th>149</th>\n      <td>202101-202106</td>\n      <td>경상북도</td>\n      <td>영덕군</td>\n      <td>일반용</td>\n      <td>5310</td>\n      <td>62417696</td>\n    </tr>\n    <tr>\n      <th>150</th>\n      <td>202101-202106</td>\n      <td>경상북도</td>\n      <td>영양군</td>\n      <td>합계</td>\n      <td>4339</td>\n      <td>58582870</td>\n    </tr>\n    <tr>\n      <th>150</th>\n      <td>202101-202106</td>\n      <td>경상북도</td>\n      <td>영양군</td>\n      <td>일반용</td>\n      <td>1575</td>\n      <td>15753358</td>\n    </tr>\n    <tr>\n      <th>151</th>\n      <td>202101-202106</td>\n      <td>경상북도</td>\n      <td>영주시</td>\n      <td>합계</td>\n      <td>14898</td>\n      <td>840019442</td>\n    </tr>\n    <tr>\n      <th>151</th>\n      <td>202101-202106</td>\n      <td>경상북도</td>\n      <td>영주시</td>\n      <td>일반용</td>\n      <td>9874</td>\n      <td>103770784</td>\n    </tr>\n    <tr>\n      <th>152</th>\n      <td>202101-202106</td>\n      <td>경상북도</td>\n      <td>영천시</td>\n      <td>일반용</td>\n      <td>8706</td>\n      <td>99048615</td>\n    </tr>\n    <tr>\n      <th>152</th>\n      <td>202101-202106</td>\n      <td>경상북도</td>\n      <td>영천시</td>\n      <td>합계</td>\n      <td>15865</td>\n      <td>790840291</td>\n    </tr>\n    <tr>\n      <th>153</th>\n      <td>202101-202106</td>\n      <td>경상북도</td>\n      <td>예천군</td>\n      <td>합계</td>\n      <td>10294</td>\n      <td>194017032</td>\n    </tr>\n    <tr>\n      <th>153</th>\n      <td>202101-202106</td>\n      <td>경상북도</td>\n      <td>예천군</td>\n      <td>일반용</td>\n      <td>3884</td>\n      <td>50924601</td>\n    </tr>\n    <tr>\n      <th>154</th>\n      <td>202101-202106</td>\n      <td>경상북도</td>\n      <td>울릉군</td>\n      <td>합계</td>\n      <td>1427</td>\n      <td>32734864</td>\n    </tr>\n    <tr>\n      <th>154</th>\n      <td>202101-202106</td>\n      <td>경상북도</td>\n      <td>울릉군</td>\n      <td>일반용</td>\n      <td>1911</td>\n      <td>19651500</td>\n    </tr>\n    <tr>\n      <th>155</th>\n      <td>202101-202106</td>\n      <td>경상북도</td>\n      <td>울진군</td>\n      <td>일반용</td>\n      <td>5591</td>\n      <td>74872910</td>\n    </tr>\n    <tr>\n      <th>155</th>\n      <td>202101-202106</td>\n      <td>경상북도</td>\n      <td>울진군</td>\n      <td>합계</td>\n      <td>9521</td>\n      <td>341237047</td>\n    </tr>\n    <tr>\n      <th>156</th>\n      <td>202101-202106</td>\n      <td>경상북도</td>\n      <td>의성군</td>\n      <td>합계</td>\n      <td>12797</td>\n      <td>220787070</td>\n    </tr>\n    <tr>\n      <th>156</th>\n      <td>202101-202106</td>\n      <td>경상북도</td>\n      <td>의성군</td>\n      <td>일반용</td>\n      <td>4303</td>\n      <td>42846790</td>\n    </tr>\n    <tr>\n      <th>157</th>\n      <td>202101-202106</td>\n      <td>경상북도</td>\n      <td>청도군</td>\n      <td>합계</td>\n      <td>10293</td>\n      <td>242889302</td>\n    </tr>\n    <tr>\n      <th>157</th>\n      <td>202101-202106</td>\n      <td>경상북도</td>\n      <td>청도군</td>\n      <td>일반용</td>\n      <td>3999</td>\n      <td>46845331</td>\n    </tr>\n    <tr>\n      <th>158</th>\n      <td>202101-202106</td>\n      <td>경상북도</td>\n      <td>청송군</td>\n      <td>합계</td>\n      <td>6774</td>\n      <td>104083126</td>\n    </tr>\n    <tr>\n      <th>158</th>\n      <td>202101-202106</td>\n      <td>경상북도</td>\n      <td>청송군</td>\n      <td>일반용</td>\n      <td>2789</td>\n      <td>31439986</td>\n    </tr>\n    <tr>\n      <th>159</th>\n      <td>202101-202106</td>\n      <td>경상북도</td>\n      <td>칠곡군</td>\n      <td>합계</td>\n      <td>14522</td>\n      <td>1008841818</td>\n    </tr>\n    <tr>\n      <th>159</th>\n      <td>202101-202106</td>\n      <td>경상북도</td>\n      <td>칠곡군</td>\n      <td>일반용</td>\n      <td>10967</td>\n      <td>151501549</td>\n    </tr>\n    <tr>\n      <th>160</th>\n      <td>202101-202106</td>\n      <td>경상북도</td>\n      <td>포항시</td>\n      <td>일반용</td>\n      <td>40487</td>\n      <td>503214592</td>\n    </tr>\n    <tr>\n      <th>160</th>\n      <td>202101-202106</td>\n      <td>경상북도</td>\n      <td>포항시</td>\n      <td>합계</td>\n      <td>46030</td>\n      <td>4996261353</td>\n    </tr>\n  </tbody>\n</table>\n</div>"
     },
     "execution_count": 27,
     "metadata": {},
     "output_type": "execute_result"
    }
   ],
   "source": [
    "Final = pd.concat([GyeonGiHap2 , Hap])\n",
    "Final = Final.sort_values('시군구')\n",
    "Final"
   ],
   "metadata": {
    "collapsed": false,
    "pycharm": {
     "name": "#%%\n"
    }
   }
  },
  {
   "cell_type": "code",
   "execution_count": 28,
   "outputs": [
    {
     "data": {
      "text/plain": "[236777629,\n 327723398,\n 34701027,\n 349860800,\n 28048537,\n 143985647,\n 79001723,\n 28146397,\n 86157818,\n 48157629,\n 183763296,\n 62417696,\n 15753358,\n 103770784,\n 99048615,\n 50924601,\n 19651500,\n 74872910,\n 42846790,\n 46845331,\n 31439986,\n 151501549,\n 503214592]"
     },
     "execution_count": 28,
     "metadata": {},
     "output_type": "execute_result"
    }
   ],
   "source": [
    "# Final['일반용 전기의 비율'] = (Final['사용량(kWh)'].loc[Final['계약구분'] == '일반용']) // (Final['사용량(kWh)'].loc[Final['계약구분'] == '합계'])\n",
    "# Final\n",
    "ex = (Final['사용량(kWh)'].loc[Final['계약구분'] == '일반용']).tolist()\n",
    "\n",
    "\n",
    "ex\n"
   ],
   "metadata": {
    "collapsed": false,
    "pycharm": {
     "name": "#%%\n"
    }
   }
  },
  {
   "cell_type": "code",
   "execution_count": 29,
   "outputs": [
    {
     "data": {
      "text/plain": "[1366655390,\n 2068844091,\n 667552121,\n 4749127166,\n 169423282,\n 1192689690,\n 308163711,\n 984447026,\n 393217996,\n 548681388,\n 589018877,\n 151426088,\n 58582870,\n 840019442,\n 790840291,\n 194017032,\n 32734864,\n 341237047,\n 220787070,\n 242889302,\n 104083126,\n 1008841818,\n 4996261353]"
     },
     "execution_count": 29,
     "metadata": {},
     "output_type": "execute_result"
    }
   ],
   "source": [
    "ex_2 =(Final['사용량(kWh)'].loc[Final['계약구분'] == '합계']).tolist()\n",
    "ex_2"
   ],
   "metadata": {
    "collapsed": false,
    "pycharm": {
     "name": "#%%\n"
    }
   }
  },
  {
   "cell_type": "code",
   "execution_count": 30,
   "outputs": [
    {
     "name": "stdout",
     "output_type": "stream",
     "text": [
      "[17.33, 15.84, 5.2, 7.37, 16.56, 12.07, 25.64, 2.86, 21.91, 8.78, 31.2, 41.22, 26.89, 12.35, 12.52, 26.25, 60.03, 21.94, 19.41, 19.29, 30.21, 15.02, 10.07]\n"
     ]
    }
   ],
   "source": [
    "Rate = []\n",
    "ilban = []\n",
    "rae = 0\n",
    "for i in range(len(ex)):\n",
    "    rae = round(ex[i] / ex_2[i] *100 ,2)\n",
    "    Rate.append(rae)\n",
    "print(Rate)"
   ],
   "metadata": {
    "collapsed": false,
    "pycharm": {
     "name": "#%%\n"
    }
   }
  },
  {
   "cell_type": "code",
   "execution_count": 31,
   "outputs": [
    {
     "data": {
      "text/plain": "0    17\n1    16\n2     5\n3     7\n4    17\n5    12\n6    26\n7     3\n8    22\n9     9\n10   31\n11   41\n12   27\n13   12\n14   13\n15   26\n16   60\n17   22\n18   19\n19   19\n20   30\n21   15\n22   10\ndtype: float64"
     },
     "execution_count": 31,
     "metadata": {},
     "output_type": "execute_result"
    }
   ],
   "source": [
    "Rate3 = pd.Series(Rate)\n",
    "Rate3\n",
    "\n",
    "# Final = pd.concat([Final , Rate3])\n",
    "# Final"
   ],
   "metadata": {
    "collapsed": false,
    "pycharm": {
     "name": "#%%\n"
    }
   }
  },
  {
   "cell_type": "code",
   "execution_count": 32,
   "outputs": [
    {
     "data": {
      "text/plain": "    시군구 계약구분  비율\n0   경산시  일반용  17\n1   경주시  일반용  16\n2   고령군  일반용   5\n3   구미시  일반용   7\n4   군위군  일반용  17\n5   김천시  일반용  12\n6   문경시  일반용  26\n7   봉화군  일반용   3\n8   상주시  일반용  22\n9   성주군  일반용   9\n10  안동시  일반용  31\n11  영덕군  일반용  41\n12  영양군  일반용  27\n13  영주시  일반용  12\n14  영천시  일반용  13\n15  예천군  일반용  26\n16  울릉군  일반용  60\n17  울진군  일반용  22\n18  의성군  일반용  19\n19  청도군  일반용  19\n20  청송군  일반용  30\n21  칠곡군  일반용  15\n22  포항시  일반용  10",
      "text/html": "<div>\n<style scoped>\n    .dataframe tbody tr th:only-of-type {\n        vertical-align: middle;\n    }\n\n    .dataframe tbody tr th {\n        vertical-align: top;\n    }\n\n    .dataframe thead th {\n        text-align: right;\n    }\n</style>\n<table border=\"1\" class=\"dataframe\">\n  <thead>\n    <tr style=\"text-align: right;\">\n      <th></th>\n      <th>시군구</th>\n      <th>계약구분</th>\n      <th>비율</th>\n    </tr>\n  </thead>\n  <tbody>\n    <tr>\n      <th>0</th>\n      <td>경산시</td>\n      <td>일반용</td>\n      <td>17</td>\n    </tr>\n    <tr>\n      <th>1</th>\n      <td>경주시</td>\n      <td>일반용</td>\n      <td>16</td>\n    </tr>\n    <tr>\n      <th>2</th>\n      <td>고령군</td>\n      <td>일반용</td>\n      <td>5</td>\n    </tr>\n    <tr>\n      <th>3</th>\n      <td>구미시</td>\n      <td>일반용</td>\n      <td>7</td>\n    </tr>\n    <tr>\n      <th>4</th>\n      <td>군위군</td>\n      <td>일반용</td>\n      <td>17</td>\n    </tr>\n    <tr>\n      <th>5</th>\n      <td>김천시</td>\n      <td>일반용</td>\n      <td>12</td>\n    </tr>\n    <tr>\n      <th>6</th>\n      <td>문경시</td>\n      <td>일반용</td>\n      <td>26</td>\n    </tr>\n    <tr>\n      <th>7</th>\n      <td>봉화군</td>\n      <td>일반용</td>\n      <td>3</td>\n    </tr>\n    <tr>\n      <th>8</th>\n      <td>상주시</td>\n      <td>일반용</td>\n      <td>22</td>\n    </tr>\n    <tr>\n      <th>9</th>\n      <td>성주군</td>\n      <td>일반용</td>\n      <td>9</td>\n    </tr>\n    <tr>\n      <th>10</th>\n      <td>안동시</td>\n      <td>일반용</td>\n      <td>31</td>\n    </tr>\n    <tr>\n      <th>11</th>\n      <td>영덕군</td>\n      <td>일반용</td>\n      <td>41</td>\n    </tr>\n    <tr>\n      <th>12</th>\n      <td>영양군</td>\n      <td>일반용</td>\n      <td>27</td>\n    </tr>\n    <tr>\n      <th>13</th>\n      <td>영주시</td>\n      <td>일반용</td>\n      <td>12</td>\n    </tr>\n    <tr>\n      <th>14</th>\n      <td>영천시</td>\n      <td>일반용</td>\n      <td>13</td>\n    </tr>\n    <tr>\n      <th>15</th>\n      <td>예천군</td>\n      <td>일반용</td>\n      <td>26</td>\n    </tr>\n    <tr>\n      <th>16</th>\n      <td>울릉군</td>\n      <td>일반용</td>\n      <td>60</td>\n    </tr>\n    <tr>\n      <th>17</th>\n      <td>울진군</td>\n      <td>일반용</td>\n      <td>22</td>\n    </tr>\n    <tr>\n      <th>18</th>\n      <td>의성군</td>\n      <td>일반용</td>\n      <td>19</td>\n    </tr>\n    <tr>\n      <th>19</th>\n      <td>청도군</td>\n      <td>일반용</td>\n      <td>19</td>\n    </tr>\n    <tr>\n      <th>20</th>\n      <td>청송군</td>\n      <td>일반용</td>\n      <td>30</td>\n    </tr>\n    <tr>\n      <th>21</th>\n      <td>칠곡군</td>\n      <td>일반용</td>\n      <td>15</td>\n    </tr>\n    <tr>\n      <th>22</th>\n      <td>포항시</td>\n      <td>일반용</td>\n      <td>10</td>\n    </tr>\n  </tbody>\n</table>\n</div>"
     },
     "execution_count": 32,
     "metadata": {},
     "output_type": "execute_result"
    }
   ],
   "source": [
    "for j in range(len(Rate)):\n",
    "    ilban.append('일반용')\n",
    "#print(Rate)\n",
    "\n",
    "Rate2 = pd.DataFrame()\n",
    "Rate2['시군구'] = pd.DataFrame(SIGUNGU)\n",
    "Rate2['계약구분'] = pd.DataFrame(ilban)\n",
    "Rate2['비율'] = pd.DataFrame(Rate)\n",
    "Rate2\n",
    "#print(Rate2.dtypes)"
   ],
   "metadata": {
    "collapsed": false,
    "pycharm": {
     "name": "#%%\n"
    }
   }
  },
  {
   "cell_type": "code",
   "execution_count": 33,
   "outputs": [
    {
     "data": {
      "text/plain": "               년월    시구  시군구 계약구분 고객호수(호)    사용량(kWh)  비율\n0   202101-202106  경상북도  경산시  일반용   18166   236777629  17\n1   202101-202106  경상북도  경산시   합계   27123  1366655390 NaN\n2   202101-202106  경상북도  경주시  일반용   25776   327723398  16\n3   202101-202106  경상북도  경주시   합계   34826  2068844091 NaN\n4   202101-202106  경상북도  고령군  일반용    3249    34701027   5\n5   202101-202106  경상북도  고령군   합계    5829   667552121 NaN\n6   202101-202106  경상북도  구미시  일반용   27613   349860800   7\n7   202101-202106  경상북도  구미시   합계   35015  4749127166 NaN\n8   202101-202106  경상북도  군위군  일반용    2285    28048537  17\n9   202101-202106  경상북도  군위군   합계    5494   169423282 NaN\n10  202101-202106  경상북도  김천시  일반용   10515   143985647  12\n11  202101-202106  경상북도  김천시   합계   19124  1192689690 NaN\n12  202101-202106  경상북도  문경시  일반용    6673    79001723  26\n13  202101-202106  경상북도  문경시   합계   11406   308163711 NaN\n14  202101-202106  경상북도  봉화군  일반용    2993    28146397   3\n15  202101-202106  경상북도  봉화군   합계    7696   984447026 NaN\n17  202101-202106  경상북도  상주시  일반용    8075    86157818  22\n16  202101-202106  경상북도  상주시   합계   18069   393217996 NaN\n19  202101-202106  경상북도  성주군  일반용    4429    48157629   9\n18  202101-202106  경상북도  성주군   합계   10222   548681388 NaN\n21  202101-202106  경상북도  안동시  일반용   13966   183763296  31\n20  202101-202106  경상북도  안동시   합계   22339   589018877 NaN\n23  202101-202106  경상북도  영덕군  일반용    5310    62417696  41\n22  202101-202106  경상북도  영덕군   합계    7307   151426088 NaN\n25  202101-202106  경상북도  영양군  일반용    1575    15753358  27\n24  202101-202106  경상북도  영양군   합계    4339    58582870 NaN\n27  202101-202106  경상북도  영주시  일반용    9874   103770784  12\n26  202101-202106  경상북도  영주시   합계   14898   840019442 NaN\n28  202101-202106  경상북도  영천시  일반용    8706    99048615  13\n29  202101-202106  경상북도  영천시   합계   15865   790840291 NaN\n31  202101-202106  경상북도  예천군  일반용    3884    50924601  26\n30  202101-202106  경상북도  예천군   합계   10294   194017032 NaN\n33  202101-202106  경상북도  울릉군  일반용    1911    19651500  60\n32  202101-202106  경상북도  울릉군   합계    1427    32734864 NaN\n34  202101-202106  경상북도  울진군  일반용    5591    74872910  22\n35  202101-202106  경상북도  울진군   합계    9521   341237047 NaN\n37  202101-202106  경상북도  의성군  일반용    4303    42846790  19\n36  202101-202106  경상북도  의성군   합계   12797   220787070 NaN\n39  202101-202106  경상북도  청도군  일반용    3999    46845331  19\n38  202101-202106  경상북도  청도군   합계   10293   242889302 NaN\n41  202101-202106  경상북도  청송군  일반용    2789    31439986  30\n40  202101-202106  경상북도  청송군   합계    6774   104083126 NaN\n43  202101-202106  경상북도  칠곡군  일반용   10967   151501549  15\n42  202101-202106  경상북도  칠곡군   합계   14522  1008841818 NaN\n44  202101-202106  경상북도  포항시  일반용   40487   503214592  10\n45  202101-202106  경상북도  포항시   합계   46030  4996261353 NaN",
      "text/html": "<div>\n<style scoped>\n    .dataframe tbody tr th:only-of-type {\n        vertical-align: middle;\n    }\n\n    .dataframe tbody tr th {\n        vertical-align: top;\n    }\n\n    .dataframe thead th {\n        text-align: right;\n    }\n</style>\n<table border=\"1\" class=\"dataframe\">\n  <thead>\n    <tr style=\"text-align: right;\">\n      <th></th>\n      <th>년월</th>\n      <th>시구</th>\n      <th>시군구</th>\n      <th>계약구분</th>\n      <th>고객호수(호)</th>\n      <th>사용량(kWh)</th>\n      <th>비율</th>\n    </tr>\n  </thead>\n  <tbody>\n    <tr>\n      <th>0</th>\n      <td>202101-202106</td>\n      <td>경상북도</td>\n      <td>경산시</td>\n      <td>일반용</td>\n      <td>18166</td>\n      <td>236777629</td>\n      <td>17</td>\n    </tr>\n    <tr>\n      <th>1</th>\n      <td>202101-202106</td>\n      <td>경상북도</td>\n      <td>경산시</td>\n      <td>합계</td>\n      <td>27123</td>\n      <td>1366655390</td>\n      <td>NaN</td>\n    </tr>\n    <tr>\n      <th>2</th>\n      <td>202101-202106</td>\n      <td>경상북도</td>\n      <td>경주시</td>\n      <td>일반용</td>\n      <td>25776</td>\n      <td>327723398</td>\n      <td>16</td>\n    </tr>\n    <tr>\n      <th>3</th>\n      <td>202101-202106</td>\n      <td>경상북도</td>\n      <td>경주시</td>\n      <td>합계</td>\n      <td>34826</td>\n      <td>2068844091</td>\n      <td>NaN</td>\n    </tr>\n    <tr>\n      <th>4</th>\n      <td>202101-202106</td>\n      <td>경상북도</td>\n      <td>고령군</td>\n      <td>일반용</td>\n      <td>3249</td>\n      <td>34701027</td>\n      <td>5</td>\n    </tr>\n    <tr>\n      <th>5</th>\n      <td>202101-202106</td>\n      <td>경상북도</td>\n      <td>고령군</td>\n      <td>합계</td>\n      <td>5829</td>\n      <td>667552121</td>\n      <td>NaN</td>\n    </tr>\n    <tr>\n      <th>6</th>\n      <td>202101-202106</td>\n      <td>경상북도</td>\n      <td>구미시</td>\n      <td>일반용</td>\n      <td>27613</td>\n      <td>349860800</td>\n      <td>7</td>\n    </tr>\n    <tr>\n      <th>7</th>\n      <td>202101-202106</td>\n      <td>경상북도</td>\n      <td>구미시</td>\n      <td>합계</td>\n      <td>35015</td>\n      <td>4749127166</td>\n      <td>NaN</td>\n    </tr>\n    <tr>\n      <th>8</th>\n      <td>202101-202106</td>\n      <td>경상북도</td>\n      <td>군위군</td>\n      <td>일반용</td>\n      <td>2285</td>\n      <td>28048537</td>\n      <td>17</td>\n    </tr>\n    <tr>\n      <th>9</th>\n      <td>202101-202106</td>\n      <td>경상북도</td>\n      <td>군위군</td>\n      <td>합계</td>\n      <td>5494</td>\n      <td>169423282</td>\n      <td>NaN</td>\n    </tr>\n    <tr>\n      <th>10</th>\n      <td>202101-202106</td>\n      <td>경상북도</td>\n      <td>김천시</td>\n      <td>일반용</td>\n      <td>10515</td>\n      <td>143985647</td>\n      <td>12</td>\n    </tr>\n    <tr>\n      <th>11</th>\n      <td>202101-202106</td>\n      <td>경상북도</td>\n      <td>김천시</td>\n      <td>합계</td>\n      <td>19124</td>\n      <td>1192689690</td>\n      <td>NaN</td>\n    </tr>\n    <tr>\n      <th>12</th>\n      <td>202101-202106</td>\n      <td>경상북도</td>\n      <td>문경시</td>\n      <td>일반용</td>\n      <td>6673</td>\n      <td>79001723</td>\n      <td>26</td>\n    </tr>\n    <tr>\n      <th>13</th>\n      <td>202101-202106</td>\n      <td>경상북도</td>\n      <td>문경시</td>\n      <td>합계</td>\n      <td>11406</td>\n      <td>308163711</td>\n      <td>NaN</td>\n    </tr>\n    <tr>\n      <th>14</th>\n      <td>202101-202106</td>\n      <td>경상북도</td>\n      <td>봉화군</td>\n      <td>일반용</td>\n      <td>2993</td>\n      <td>28146397</td>\n      <td>3</td>\n    </tr>\n    <tr>\n      <th>15</th>\n      <td>202101-202106</td>\n      <td>경상북도</td>\n      <td>봉화군</td>\n      <td>합계</td>\n      <td>7696</td>\n      <td>984447026</td>\n      <td>NaN</td>\n    </tr>\n    <tr>\n      <th>17</th>\n      <td>202101-202106</td>\n      <td>경상북도</td>\n      <td>상주시</td>\n      <td>일반용</td>\n      <td>8075</td>\n      <td>86157818</td>\n      <td>22</td>\n    </tr>\n    <tr>\n      <th>16</th>\n      <td>202101-202106</td>\n      <td>경상북도</td>\n      <td>상주시</td>\n      <td>합계</td>\n      <td>18069</td>\n      <td>393217996</td>\n      <td>NaN</td>\n    </tr>\n    <tr>\n      <th>19</th>\n      <td>202101-202106</td>\n      <td>경상북도</td>\n      <td>성주군</td>\n      <td>일반용</td>\n      <td>4429</td>\n      <td>48157629</td>\n      <td>9</td>\n    </tr>\n    <tr>\n      <th>18</th>\n      <td>202101-202106</td>\n      <td>경상북도</td>\n      <td>성주군</td>\n      <td>합계</td>\n      <td>10222</td>\n      <td>548681388</td>\n      <td>NaN</td>\n    </tr>\n    <tr>\n      <th>21</th>\n      <td>202101-202106</td>\n      <td>경상북도</td>\n      <td>안동시</td>\n      <td>일반용</td>\n      <td>13966</td>\n      <td>183763296</td>\n      <td>31</td>\n    </tr>\n    <tr>\n      <th>20</th>\n      <td>202101-202106</td>\n      <td>경상북도</td>\n      <td>안동시</td>\n      <td>합계</td>\n      <td>22339</td>\n      <td>589018877</td>\n      <td>NaN</td>\n    </tr>\n    <tr>\n      <th>23</th>\n      <td>202101-202106</td>\n      <td>경상북도</td>\n      <td>영덕군</td>\n      <td>일반용</td>\n      <td>5310</td>\n      <td>62417696</td>\n      <td>41</td>\n    </tr>\n    <tr>\n      <th>22</th>\n      <td>202101-202106</td>\n      <td>경상북도</td>\n      <td>영덕군</td>\n      <td>합계</td>\n      <td>7307</td>\n      <td>151426088</td>\n      <td>NaN</td>\n    </tr>\n    <tr>\n      <th>25</th>\n      <td>202101-202106</td>\n      <td>경상북도</td>\n      <td>영양군</td>\n      <td>일반용</td>\n      <td>1575</td>\n      <td>15753358</td>\n      <td>27</td>\n    </tr>\n    <tr>\n      <th>24</th>\n      <td>202101-202106</td>\n      <td>경상북도</td>\n      <td>영양군</td>\n      <td>합계</td>\n      <td>4339</td>\n      <td>58582870</td>\n      <td>NaN</td>\n    </tr>\n    <tr>\n      <th>27</th>\n      <td>202101-202106</td>\n      <td>경상북도</td>\n      <td>영주시</td>\n      <td>일반용</td>\n      <td>9874</td>\n      <td>103770784</td>\n      <td>12</td>\n    </tr>\n    <tr>\n      <th>26</th>\n      <td>202101-202106</td>\n      <td>경상북도</td>\n      <td>영주시</td>\n      <td>합계</td>\n      <td>14898</td>\n      <td>840019442</td>\n      <td>NaN</td>\n    </tr>\n    <tr>\n      <th>28</th>\n      <td>202101-202106</td>\n      <td>경상북도</td>\n      <td>영천시</td>\n      <td>일반용</td>\n      <td>8706</td>\n      <td>99048615</td>\n      <td>13</td>\n    </tr>\n    <tr>\n      <th>29</th>\n      <td>202101-202106</td>\n      <td>경상북도</td>\n      <td>영천시</td>\n      <td>합계</td>\n      <td>15865</td>\n      <td>790840291</td>\n      <td>NaN</td>\n    </tr>\n    <tr>\n      <th>31</th>\n      <td>202101-202106</td>\n      <td>경상북도</td>\n      <td>예천군</td>\n      <td>일반용</td>\n      <td>3884</td>\n      <td>50924601</td>\n      <td>26</td>\n    </tr>\n    <tr>\n      <th>30</th>\n      <td>202101-202106</td>\n      <td>경상북도</td>\n      <td>예천군</td>\n      <td>합계</td>\n      <td>10294</td>\n      <td>194017032</td>\n      <td>NaN</td>\n    </tr>\n    <tr>\n      <th>33</th>\n      <td>202101-202106</td>\n      <td>경상북도</td>\n      <td>울릉군</td>\n      <td>일반용</td>\n      <td>1911</td>\n      <td>19651500</td>\n      <td>60</td>\n    </tr>\n    <tr>\n      <th>32</th>\n      <td>202101-202106</td>\n      <td>경상북도</td>\n      <td>울릉군</td>\n      <td>합계</td>\n      <td>1427</td>\n      <td>32734864</td>\n      <td>NaN</td>\n    </tr>\n    <tr>\n      <th>34</th>\n      <td>202101-202106</td>\n      <td>경상북도</td>\n      <td>울진군</td>\n      <td>일반용</td>\n      <td>5591</td>\n      <td>74872910</td>\n      <td>22</td>\n    </tr>\n    <tr>\n      <th>35</th>\n      <td>202101-202106</td>\n      <td>경상북도</td>\n      <td>울진군</td>\n      <td>합계</td>\n      <td>9521</td>\n      <td>341237047</td>\n      <td>NaN</td>\n    </tr>\n    <tr>\n      <th>37</th>\n      <td>202101-202106</td>\n      <td>경상북도</td>\n      <td>의성군</td>\n      <td>일반용</td>\n      <td>4303</td>\n      <td>42846790</td>\n      <td>19</td>\n    </tr>\n    <tr>\n      <th>36</th>\n      <td>202101-202106</td>\n      <td>경상북도</td>\n      <td>의성군</td>\n      <td>합계</td>\n      <td>12797</td>\n      <td>220787070</td>\n      <td>NaN</td>\n    </tr>\n    <tr>\n      <th>39</th>\n      <td>202101-202106</td>\n      <td>경상북도</td>\n      <td>청도군</td>\n      <td>일반용</td>\n      <td>3999</td>\n      <td>46845331</td>\n      <td>19</td>\n    </tr>\n    <tr>\n      <th>38</th>\n      <td>202101-202106</td>\n      <td>경상북도</td>\n      <td>청도군</td>\n      <td>합계</td>\n      <td>10293</td>\n      <td>242889302</td>\n      <td>NaN</td>\n    </tr>\n    <tr>\n      <th>41</th>\n      <td>202101-202106</td>\n      <td>경상북도</td>\n      <td>청송군</td>\n      <td>일반용</td>\n      <td>2789</td>\n      <td>31439986</td>\n      <td>30</td>\n    </tr>\n    <tr>\n      <th>40</th>\n      <td>202101-202106</td>\n      <td>경상북도</td>\n      <td>청송군</td>\n      <td>합계</td>\n      <td>6774</td>\n      <td>104083126</td>\n      <td>NaN</td>\n    </tr>\n    <tr>\n      <th>43</th>\n      <td>202101-202106</td>\n      <td>경상북도</td>\n      <td>칠곡군</td>\n      <td>일반용</td>\n      <td>10967</td>\n      <td>151501549</td>\n      <td>15</td>\n    </tr>\n    <tr>\n      <th>42</th>\n      <td>202101-202106</td>\n      <td>경상북도</td>\n      <td>칠곡군</td>\n      <td>합계</td>\n      <td>14522</td>\n      <td>1008841818</td>\n      <td>NaN</td>\n    </tr>\n    <tr>\n      <th>44</th>\n      <td>202101-202106</td>\n      <td>경상북도</td>\n      <td>포항시</td>\n      <td>일반용</td>\n      <td>40487</td>\n      <td>503214592</td>\n      <td>10</td>\n    </tr>\n    <tr>\n      <th>45</th>\n      <td>202101-202106</td>\n      <td>경상북도</td>\n      <td>포항시</td>\n      <td>합계</td>\n      <td>46030</td>\n      <td>4996261353</td>\n      <td>NaN</td>\n    </tr>\n  </tbody>\n</table>\n</div>"
     },
     "execution_count": 33,
     "metadata": {},
     "output_type": "execute_result"
    }
   ],
   "source": [
    "Final = pd.merge(Final , Rate2, on=['시군구', '계약구분'] , how='left')\n",
    "\n",
    "#Final.drop(['비율_y]' , axis = 1 , inplace = True)\n",
    "#Final.rename(columns={'비율_y':'전체 계약종별 전력사용량 대비 일반용 사용량 비율'})\n",
    "Final = Final.sort_values(['시군구' , '계약구분'])\n",
    "Final"
   ],
   "metadata": {
    "collapsed": false,
    "pycharm": {
     "name": "#%%\n"
    }
   }
  },
  {
   "cell_type": "code",
   "execution_count": 34,
   "outputs": [],
   "source": [
    "# Final['일반용 전기의 비율'] = Final.append(Rate)\n",
    "# Final"
   ],
   "metadata": {
    "collapsed": false,
    "pycharm": {
     "name": "#%%\n"
    }
   }
  },
  {
   "cell_type": "markdown",
   "source": [
    "### 6. 날짜 체크!!!!!!!!!!!!!!!!!!!!1"
   ],
   "metadata": {
    "collapsed": false,
    "pycharm": {
     "name": "#%% md\n"
    }
   }
  },
  {
   "cell_type": "code",
   "execution_count": 35,
   "outputs": [],
   "source": [
    "Final.to_csv(\"{}_일반용_전력사용량_2101-06.csv\".format(City) , mode = 'w' , encoding= 'cp949' , index =False) #파일명 수정"
   ],
   "metadata": {
    "collapsed": false,
    "pycharm": {
     "name": "#%%\n"
    }
   }
  },
  {
   "cell_type": "code",
   "execution_count": 35,
   "outputs": [],
   "source": [],
   "metadata": {
    "collapsed": false,
    "pycharm": {
     "name": "#%%\n"
    }
   }
  },
  {
   "cell_type": "code",
   "execution_count": 36,
   "outputs": [],
   "source": [
    "# Sigu = list(set(df_3['시군구'].tolist()))\n",
    "#\n",
    "# Sigu.sort()\n",
    "#\n",
    "# Sigu"
   ],
   "metadata": {
    "collapsed": false,
    "pycharm": {
     "name": "#%%\n"
    }
   }
  },
  {
   "cell_type": "code",
   "execution_count": 37,
   "outputs": [],
   "source": [
    "# YearMonth = list(set(df_3['년월'].tolist()))\n",
    "#\n",
    "# YearMonth.sort()\n",
    "# YearMonth"
   ],
   "metadata": {
    "collapsed": false,
    "pycharm": {
     "name": "#%%\n"
    }
   }
  },
  {
   "cell_type": "code",
   "execution_count": 38,
   "outputs": [],
   "source": [
    "# Gayeak = list(set(df_3['계약구분'].tolist()))\n",
    "#\n",
    "# Gayeak.sort()\n",
    "# Gayeak"
   ],
   "metadata": {
    "collapsed": false,
    "pycharm": {
     "name": "#%%\n"
    }
   }
  },
  {
   "cell_type": "code",
   "execution_count": 39,
   "outputs": [],
   "source": [
    "# SEOUL = df_3.loc[(df_3['계약구분'] =='일반용')]\n",
    "# SEOUL.drop(['고객호수(호)' ,'전기요금(원)' , '평균판매단가(원/kWh)'] , axis = 1 , inplace = True)\n",
    "# #SEOUL.dtypes(['사용량(kWh)'])\n",
    "# SEOUL"
   ],
   "metadata": {
    "collapsed": false,
    "pycharm": {
     "name": "#%%\n"
    }
   }
  },
  {
   "cell_type": "code",
   "execution_count": 40,
   "outputs": [],
   "source": [
    "#SEOUL.to_csv(\"서울특별시_일반용_전력사용량.csv\" , mode = 'w' , encoding= 'cp949')"
   ],
   "metadata": {
    "collapsed": false,
    "pycharm": {
     "name": "#%%\n"
    }
   }
  },
  {
   "cell_type": "code",
   "execution_count": 41,
   "outputs": [],
   "source": [
    "# print(SEOUL.dtypes)\n",
    "# SEOUL = SEOUL.astype({'사용량(kWh)' : 'float'})"
   ],
   "metadata": {
    "collapsed": false,
    "pycharm": {
     "name": "#%%\n"
    }
   }
  },
  {
   "cell_type": "code",
   "execution_count": 42,
   "outputs": [],
   "source": [
    "# SEOUL"
   ],
   "metadata": {
    "collapsed": false,
    "pycharm": {
     "name": "#%%\n"
    }
   }
  },
  {
   "cell_type": "code",
   "execution_count": 43,
   "outputs": [],
   "source": [
    "# a = SEOUL['사용량(kWh)'].tolist()\n",
    "# int_list = map(int, a)\n",
    "# b=0\n",
    "# for i in int_list:\n",
    "#     b+=i\n",
    "#\n",
    "# print(b)"
   ],
   "metadata": {
    "collapsed": false,
    "pycharm": {
     "name": "#%%\n"
    }
   }
  },
  {
   "cell_type": "code",
   "execution_count": 43,
   "outputs": [],
   "source": [],
   "metadata": {
    "collapsed": false,
    "pycharm": {
     "name": "#%%\n"
    }
   }
  },
  {
   "cell_type": "code",
   "execution_count": 43,
   "outputs": [],
   "source": [],
   "metadata": {
    "collapsed": false,
    "pycharm": {
     "name": "#%%\n"
    }
   }
  },
  {
   "cell_type": "code",
   "execution_count": 43,
   "outputs": [],
   "source": [],
   "metadata": {
    "collapsed": false,
    "pycharm": {
     "name": "#%%\n"
    }
   }
  },
  {
   "cell_type": "code",
   "execution_count": 43,
   "outputs": [],
   "source": [],
   "metadata": {
    "collapsed": false,
    "pycharm": {
     "name": "#%%\n"
    }
   }
  },
  {
   "cell_type": "code",
   "execution_count": 43,
   "outputs": [],
   "source": [],
   "metadata": {
    "collapsed": false,
    "pycharm": {
     "name": "#%%\n"
    }
   }
  },
  {
   "cell_type": "code",
   "execution_count": 43,
   "outputs": [],
   "source": [],
   "metadata": {
    "collapsed": false,
    "pycharm": {
     "name": "#%%\n"
    }
   }
  },
  {
   "cell_type": "code",
   "execution_count": 43,
   "outputs": [],
   "source": [],
   "metadata": {
    "collapsed": false,
    "pycharm": {
     "name": "#%%\n"
    }
   }
  }
 ],
 "metadata": {
  "kernelspec": {
   "display_name": "Python 3",
   "language": "python",
   "name": "python3"
  },
  "language_info": {
   "codemirror_mode": {
    "name": "ipython",
    "version": 2
   },
   "file_extension": ".py",
   "mimetype": "text/x-python",
   "name": "python",
   "nbconvert_exporter": "python",
   "pygments_lexer": "ipython2",
   "version": "2.7.6"
  }
 },
 "nbformat": 4,
 "nbformat_minor": 0
}