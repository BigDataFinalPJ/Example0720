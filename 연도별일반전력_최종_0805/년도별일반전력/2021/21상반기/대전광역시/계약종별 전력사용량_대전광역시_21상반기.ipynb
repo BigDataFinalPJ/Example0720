{
 "cells": [
  {
   "cell_type": "markdown",
   "source": [],
   "metadata": {
    "collapsed": false,
    "pycharm": {
     "name": "#%% md\n"
    }
   }
  },
  {
   "cell_type": "code",
   "execution_count": 1,
   "outputs": [],
   "source": [
    "import pandas as pd\n",
    "import re\n",
    "\n",
    "pd.options.display.float_format = '{:.0f}'.format"
   ],
   "metadata": {
    "collapsed": false,
    "pycharm": {
     "name": "#%%\n"
    }
   }
  },
  {
   "cell_type": "markdown",
   "source": [
    "### 1. 꼭 read_csv 21상반기, 19하반기와 같이 맞추어 주세요!!! 또한 지역(전라북도, 남도) 맞추기!!!!!"
   ],
   "metadata": {
    "collapsed": false,
    "pycharm": {
     "name": "#%% md\n"
    }
   }
  },
  {
   "cell_type": "code",
   "execution_count": 2,
   "outputs": [
    {
     "data": {
      "text/plain": "        계약종별 전력사용량 월별( 20220804 현재 ) Unnamed: 1     Unnamed: 2 Unnamed: 3  \\\n0    시도 : 대전광역시, 시군구 : 전체(시 / 군 / 구)        NaN            NaN        NaN   \n1        기간 : 2021년 01 월 ~ 2021년 06월        NaN            NaN        NaN   \n2                                 년월         시구            시군구       계약구분   \n3                             202101      대전광역시  전체(시 / 군 / 구)        주택용   \n4                             202101      대전광역시  전체(시 / 군 / 구)        일반용   \n..                               ...        ...            ...        ...   \n283                           202106      대전광역시             중구        산업용   \n284                           202106      대전광역시             중구        심 야   \n285                           202106      대전광역시             중구        일반용   \n286                           202106      대전광역시             중구        주택용   \n287                           202106      대전광역시             중구         합계   \n\n    Unnamed: 4    Unnamed: 5       Unnamed: 6     Unnamed: 7  \n0          NaN           NaN              NaN            NaN  \n1          NaN           NaN              NaN            NaN  \n2      고객호수(호)      사용량(kWh)          전기요금(원)  평균판매단가(원/kWh)  \n3     441,231   195,182,881   21,226,092,447          108.7   \n4      82,689   349,806,431   44,590,453,357          127.5   \n..         ...           ...              ...            ...  \n283       565     2,607,032      335,326,990          128.6   \n284     2,925     1,578,216       93,229,120           59.1   \n285    15,942    40,301,685    5,313,602,668          131.8   \n286    76,008    25,543,479    2,443,644,448           95.7   \n287   103,886    72,743,424    8,468,976,868          116.4   \n\n[288 rows x 8 columns]",
      "text/html": "<div>\n<style scoped>\n    .dataframe tbody tr th:only-of-type {\n        vertical-align: middle;\n    }\n\n    .dataframe tbody tr th {\n        vertical-align: top;\n    }\n\n    .dataframe thead th {\n        text-align: right;\n    }\n</style>\n<table border=\"1\" class=\"dataframe\">\n  <thead>\n    <tr style=\"text-align: right;\">\n      <th></th>\n      <th>계약종별 전력사용량 월별( 20220804 현재 )</th>\n      <th>Unnamed: 1</th>\n      <th>Unnamed: 2</th>\n      <th>Unnamed: 3</th>\n      <th>Unnamed: 4</th>\n      <th>Unnamed: 5</th>\n      <th>Unnamed: 6</th>\n      <th>Unnamed: 7</th>\n    </tr>\n  </thead>\n  <tbody>\n    <tr>\n      <th>0</th>\n      <td>시도 : 대전광역시, 시군구 : 전체(시 / 군 / 구)</td>\n      <td>NaN</td>\n      <td>NaN</td>\n      <td>NaN</td>\n      <td>NaN</td>\n      <td>NaN</td>\n      <td>NaN</td>\n      <td>NaN</td>\n    </tr>\n    <tr>\n      <th>1</th>\n      <td>기간 : 2021년 01 월 ~ 2021년 06월</td>\n      <td>NaN</td>\n      <td>NaN</td>\n      <td>NaN</td>\n      <td>NaN</td>\n      <td>NaN</td>\n      <td>NaN</td>\n      <td>NaN</td>\n    </tr>\n    <tr>\n      <th>2</th>\n      <td>년월</td>\n      <td>시구</td>\n      <td>시군구</td>\n      <td>계약구분</td>\n      <td>고객호수(호)</td>\n      <td>사용량(kWh)</td>\n      <td>전기요금(원)</td>\n      <td>평균판매단가(원/kWh)</td>\n    </tr>\n    <tr>\n      <th>3</th>\n      <td>202101</td>\n      <td>대전광역시</td>\n      <td>전체(시 / 군 / 구)</td>\n      <td>주택용</td>\n      <td>441,231</td>\n      <td>195,182,881</td>\n      <td>21,226,092,447</td>\n      <td>108.7</td>\n    </tr>\n    <tr>\n      <th>4</th>\n      <td>202101</td>\n      <td>대전광역시</td>\n      <td>전체(시 / 군 / 구)</td>\n      <td>일반용</td>\n      <td>82,689</td>\n      <td>349,806,431</td>\n      <td>44,590,453,357</td>\n      <td>127.5</td>\n    </tr>\n    <tr>\n      <th>...</th>\n      <td>...</td>\n      <td>...</td>\n      <td>...</td>\n      <td>...</td>\n      <td>...</td>\n      <td>...</td>\n      <td>...</td>\n      <td>...</td>\n    </tr>\n    <tr>\n      <th>283</th>\n      <td>202106</td>\n      <td>대전광역시</td>\n      <td>중구</td>\n      <td>산업용</td>\n      <td>565</td>\n      <td>2,607,032</td>\n      <td>335,326,990</td>\n      <td>128.6</td>\n    </tr>\n    <tr>\n      <th>284</th>\n      <td>202106</td>\n      <td>대전광역시</td>\n      <td>중구</td>\n      <td>심 야</td>\n      <td>2,925</td>\n      <td>1,578,216</td>\n      <td>93,229,120</td>\n      <td>59.1</td>\n    </tr>\n    <tr>\n      <th>285</th>\n      <td>202106</td>\n      <td>대전광역시</td>\n      <td>중구</td>\n      <td>일반용</td>\n      <td>15,942</td>\n      <td>40,301,685</td>\n      <td>5,313,602,668</td>\n      <td>131.8</td>\n    </tr>\n    <tr>\n      <th>286</th>\n      <td>202106</td>\n      <td>대전광역시</td>\n      <td>중구</td>\n      <td>주택용</td>\n      <td>76,008</td>\n      <td>25,543,479</td>\n      <td>2,443,644,448</td>\n      <td>95.7</td>\n    </tr>\n    <tr>\n      <th>287</th>\n      <td>202106</td>\n      <td>대전광역시</td>\n      <td>중구</td>\n      <td>합계</td>\n      <td>103,886</td>\n      <td>72,743,424</td>\n      <td>8,468,976,868</td>\n      <td>116.4</td>\n    </tr>\n  </tbody>\n</table>\n<p>288 rows × 8 columns</p>\n</div>"
     },
     "execution_count": 2,
     "metadata": {},
     "output_type": "execute_result"
    }
   ],
   "source": [
    "df = pd.read_csv('대전광역시_계약종별_전력사용량_월별_21상반기.csv' , encoding='cp949')\n",
    "\n",
    "df\n",
    "#exchng=  pd.read_csv('지역별_전력거래량_20220803093050.csv' , encoding='cp949')"
   ],
   "metadata": {
    "collapsed": false,
    "pycharm": {
     "name": "#%%\n"
    }
   }
  },
  {
   "cell_type": "code",
   "execution_count": 3,
   "outputs": [
    {
     "data": {
      "text/plain": "    계약종별 전력사용량 월별( 20220804 현재 ) Unnamed: 1     Unnamed: 2 Unnamed: 3  \\\n2                             년월         시구            시군구       계약구분   \n3                         202101      대전광역시  전체(시 / 군 / 구)        주택용   \n4                         202101      대전광역시  전체(시 / 군 / 구)        일반용   \n5                         202101      대전광역시  전체(시 / 군 / 구)        교육용   \n6                         202101      대전광역시  전체(시 / 군 / 구)        산업용   \n..                           ...        ...            ...        ...   \n283                       202106      대전광역시             중구        산업용   \n284                       202106      대전광역시             중구        심 야   \n285                       202106      대전광역시             중구        일반용   \n286                       202106      대전광역시             중구        주택용   \n287                       202106      대전광역시             중구         합계   \n\n    Unnamed: 4    Unnamed: 5       Unnamed: 6     Unnamed: 7  \n2      고객호수(호)      사용량(kWh)          전기요금(원)  평균판매단가(원/kWh)  \n3     441,231   195,182,881   21,226,092,447          108.7   \n4      82,689   349,806,431   44,590,453,357          127.5   \n5         616    45,305,430    4,149,666,067           91.6   \n6       5,598   282,391,468   32,472,788,099          115.0   \n..         ...           ...              ...            ...  \n283       565     2,607,032      335,326,990          128.6   \n284     2,925     1,578,216       93,229,120           59.1   \n285    15,942    40,301,685    5,313,602,668          131.8   \n286    76,008    25,543,479    2,443,644,448           95.7   \n287   103,886    72,743,424    8,468,976,868          116.4   \n\n[285 rows x 8 columns]",
      "text/html": "<div>\n<style scoped>\n    .dataframe tbody tr th:only-of-type {\n        vertical-align: middle;\n    }\n\n    .dataframe tbody tr th {\n        vertical-align: top;\n    }\n\n    .dataframe thead th {\n        text-align: right;\n    }\n</style>\n<table border=\"1\" class=\"dataframe\">\n  <thead>\n    <tr style=\"text-align: right;\">\n      <th></th>\n      <th>계약종별 전력사용량 월별( 20220804 현재 )</th>\n      <th>Unnamed: 1</th>\n      <th>Unnamed: 2</th>\n      <th>Unnamed: 3</th>\n      <th>Unnamed: 4</th>\n      <th>Unnamed: 5</th>\n      <th>Unnamed: 6</th>\n      <th>Unnamed: 7</th>\n    </tr>\n  </thead>\n  <tbody>\n    <tr>\n      <th>2</th>\n      <td>년월</td>\n      <td>시구</td>\n      <td>시군구</td>\n      <td>계약구분</td>\n      <td>고객호수(호)</td>\n      <td>사용량(kWh)</td>\n      <td>전기요금(원)</td>\n      <td>평균판매단가(원/kWh)</td>\n    </tr>\n    <tr>\n      <th>3</th>\n      <td>202101</td>\n      <td>대전광역시</td>\n      <td>전체(시 / 군 / 구)</td>\n      <td>주택용</td>\n      <td>441,231</td>\n      <td>195,182,881</td>\n      <td>21,226,092,447</td>\n      <td>108.7</td>\n    </tr>\n    <tr>\n      <th>4</th>\n      <td>202101</td>\n      <td>대전광역시</td>\n      <td>전체(시 / 군 / 구)</td>\n      <td>일반용</td>\n      <td>82,689</td>\n      <td>349,806,431</td>\n      <td>44,590,453,357</td>\n      <td>127.5</td>\n    </tr>\n    <tr>\n      <th>5</th>\n      <td>202101</td>\n      <td>대전광역시</td>\n      <td>전체(시 / 군 / 구)</td>\n      <td>교육용</td>\n      <td>616</td>\n      <td>45,305,430</td>\n      <td>4,149,666,067</td>\n      <td>91.6</td>\n    </tr>\n    <tr>\n      <th>6</th>\n      <td>202101</td>\n      <td>대전광역시</td>\n      <td>전체(시 / 군 / 구)</td>\n      <td>산업용</td>\n      <td>5,598</td>\n      <td>282,391,468</td>\n      <td>32,472,788,099</td>\n      <td>115.0</td>\n    </tr>\n    <tr>\n      <th>...</th>\n      <td>...</td>\n      <td>...</td>\n      <td>...</td>\n      <td>...</td>\n      <td>...</td>\n      <td>...</td>\n      <td>...</td>\n      <td>...</td>\n    </tr>\n    <tr>\n      <th>283</th>\n      <td>202106</td>\n      <td>대전광역시</td>\n      <td>중구</td>\n      <td>산업용</td>\n      <td>565</td>\n      <td>2,607,032</td>\n      <td>335,326,990</td>\n      <td>128.6</td>\n    </tr>\n    <tr>\n      <th>284</th>\n      <td>202106</td>\n      <td>대전광역시</td>\n      <td>중구</td>\n      <td>심 야</td>\n      <td>2,925</td>\n      <td>1,578,216</td>\n      <td>93,229,120</td>\n      <td>59.1</td>\n    </tr>\n    <tr>\n      <th>285</th>\n      <td>202106</td>\n      <td>대전광역시</td>\n      <td>중구</td>\n      <td>일반용</td>\n      <td>15,942</td>\n      <td>40,301,685</td>\n      <td>5,313,602,668</td>\n      <td>131.8</td>\n    </tr>\n    <tr>\n      <th>286</th>\n      <td>202106</td>\n      <td>대전광역시</td>\n      <td>중구</td>\n      <td>주택용</td>\n      <td>76,008</td>\n      <td>25,543,479</td>\n      <td>2,443,644,448</td>\n      <td>95.7</td>\n    </tr>\n    <tr>\n      <th>287</th>\n      <td>202106</td>\n      <td>대전광역시</td>\n      <td>중구</td>\n      <td>합계</td>\n      <td>103,886</td>\n      <td>72,743,424</td>\n      <td>8,468,976,868</td>\n      <td>116.4</td>\n    </tr>\n  </tbody>\n</table>\n<p>285 rows × 8 columns</p>\n</div>"
     },
     "execution_count": 3,
     "metadata": {},
     "output_type": "execute_result"
    }
   ],
   "source": [
    "df = df.drop([0,1 , 46] , axis = 0)\n",
    "#0,1 , 10은 지우는게 맞다\n",
    "df"
   ],
   "metadata": {
    "collapsed": false,
    "pycharm": {
     "name": "#%%\n"
    }
   }
  },
  {
   "cell_type": "code",
   "execution_count": 4,
   "outputs": [],
   "source": [
    "a= df.loc[2].tolist()\n",
    "a\n",
    "df = df.drop([2] , axis = 0)"
   ],
   "metadata": {
    "collapsed": false,
    "pycharm": {
     "name": "#%%\n"
    }
   }
  },
  {
   "cell_type": "code",
   "execution_count": 5,
   "outputs": [
    {
     "data": {
      "text/plain": "         년월     시구            시군구 계약구분   고객호수(호)      사용량(kWh)  \\\n3    202101  대전광역시  전체(시 / 군 / 구)  주택용  441,231   195,182,881    \n4    202101  대전광역시  전체(시 / 군 / 구)  일반용   82,689   349,806,431    \n5    202101  대전광역시  전체(시 / 군 / 구)  교육용      616    45,305,430    \n6    202101  대전광역시  전체(시 / 군 / 구)  산업용    5,598   282,391,468    \n7    202101  대전광역시  전체(시 / 군 / 구)  농사용    7,900     4,106,395    \n..      ...    ...            ...  ...       ...           ...   \n283  202106  대전광역시             중구  산업용      565     2,607,032    \n284  202106  대전광역시             중구  심 야    2,925     1,578,216    \n285  202106  대전광역시             중구  일반용   15,942    40,301,685    \n286  202106  대전광역시             중구  주택용   76,008    25,543,479    \n287  202106  대전광역시             중구   합계  103,886    72,743,424    \n\n             전기요금(원) 평균판매단가(원/kWh)  \n3    21,226,092,447         108.7   \n4    44,590,453,357         127.5   \n5     4,149,666,067          91.6   \n6    32,472,788,099         115.0   \n7       195,492,181          47.6   \n..               ...           ...  \n283     335,326,990         128.6   \n284      93,229,120          59.1   \n285   5,313,602,668         131.8   \n286   2,443,644,448          95.7   \n287   8,468,976,868         116.4   \n\n[284 rows x 8 columns]",
      "text/html": "<div>\n<style scoped>\n    .dataframe tbody tr th:only-of-type {\n        vertical-align: middle;\n    }\n\n    .dataframe tbody tr th {\n        vertical-align: top;\n    }\n\n    .dataframe thead th {\n        text-align: right;\n    }\n</style>\n<table border=\"1\" class=\"dataframe\">\n  <thead>\n    <tr style=\"text-align: right;\">\n      <th></th>\n      <th>년월</th>\n      <th>시구</th>\n      <th>시군구</th>\n      <th>계약구분</th>\n      <th>고객호수(호)</th>\n      <th>사용량(kWh)</th>\n      <th>전기요금(원)</th>\n      <th>평균판매단가(원/kWh)</th>\n    </tr>\n  </thead>\n  <tbody>\n    <tr>\n      <th>3</th>\n      <td>202101</td>\n      <td>대전광역시</td>\n      <td>전체(시 / 군 / 구)</td>\n      <td>주택용</td>\n      <td>441,231</td>\n      <td>195,182,881</td>\n      <td>21,226,092,447</td>\n      <td>108.7</td>\n    </tr>\n    <tr>\n      <th>4</th>\n      <td>202101</td>\n      <td>대전광역시</td>\n      <td>전체(시 / 군 / 구)</td>\n      <td>일반용</td>\n      <td>82,689</td>\n      <td>349,806,431</td>\n      <td>44,590,453,357</td>\n      <td>127.5</td>\n    </tr>\n    <tr>\n      <th>5</th>\n      <td>202101</td>\n      <td>대전광역시</td>\n      <td>전체(시 / 군 / 구)</td>\n      <td>교육용</td>\n      <td>616</td>\n      <td>45,305,430</td>\n      <td>4,149,666,067</td>\n      <td>91.6</td>\n    </tr>\n    <tr>\n      <th>6</th>\n      <td>202101</td>\n      <td>대전광역시</td>\n      <td>전체(시 / 군 / 구)</td>\n      <td>산업용</td>\n      <td>5,598</td>\n      <td>282,391,468</td>\n      <td>32,472,788,099</td>\n      <td>115.0</td>\n    </tr>\n    <tr>\n      <th>7</th>\n      <td>202101</td>\n      <td>대전광역시</td>\n      <td>전체(시 / 군 / 구)</td>\n      <td>농사용</td>\n      <td>7,900</td>\n      <td>4,106,395</td>\n      <td>195,492,181</td>\n      <td>47.6</td>\n    </tr>\n    <tr>\n      <th>...</th>\n      <td>...</td>\n      <td>...</td>\n      <td>...</td>\n      <td>...</td>\n      <td>...</td>\n      <td>...</td>\n      <td>...</td>\n      <td>...</td>\n    </tr>\n    <tr>\n      <th>283</th>\n      <td>202106</td>\n      <td>대전광역시</td>\n      <td>중구</td>\n      <td>산업용</td>\n      <td>565</td>\n      <td>2,607,032</td>\n      <td>335,326,990</td>\n      <td>128.6</td>\n    </tr>\n    <tr>\n      <th>284</th>\n      <td>202106</td>\n      <td>대전광역시</td>\n      <td>중구</td>\n      <td>심 야</td>\n      <td>2,925</td>\n      <td>1,578,216</td>\n      <td>93,229,120</td>\n      <td>59.1</td>\n    </tr>\n    <tr>\n      <th>285</th>\n      <td>202106</td>\n      <td>대전광역시</td>\n      <td>중구</td>\n      <td>일반용</td>\n      <td>15,942</td>\n      <td>40,301,685</td>\n      <td>5,313,602,668</td>\n      <td>131.8</td>\n    </tr>\n    <tr>\n      <th>286</th>\n      <td>202106</td>\n      <td>대전광역시</td>\n      <td>중구</td>\n      <td>주택용</td>\n      <td>76,008</td>\n      <td>25,543,479</td>\n      <td>2,443,644,448</td>\n      <td>95.7</td>\n    </tr>\n    <tr>\n      <th>287</th>\n      <td>202106</td>\n      <td>대전광역시</td>\n      <td>중구</td>\n      <td>합계</td>\n      <td>103,886</td>\n      <td>72,743,424</td>\n      <td>8,468,976,868</td>\n      <td>116.4</td>\n    </tr>\n  </tbody>\n</table>\n<p>284 rows × 8 columns</p>\n</div>"
     },
     "execution_count": 5,
     "metadata": {},
     "output_type": "execute_result"
    }
   ],
   "source": [
    "df.columns = a\n",
    "df"
   ],
   "metadata": {
    "collapsed": false,
    "pycharm": {
     "name": "#%%\n"
    }
   }
  },
  {
   "cell_type": "code",
   "execution_count": 6,
   "outputs": [
    {
     "data": {
      "text/plain": "        년월     시구            시군구 계약구분    고객호수(호)       사용량(kWh)  \\\n3   202101  대전광역시  전체(시 / 군 / 구)  주택용   441,231    195,182,881    \n4   202101  대전광역시  전체(시 / 군 / 구)  일반용    82,689    349,806,431    \n5   202101  대전광역시  전체(시 / 군 / 구)  교육용       616     45,305,430    \n6   202101  대전광역시  전체(시 / 군 / 구)  산업용     5,598    282,391,468    \n7   202101  대전광역시  전체(시 / 군 / 구)  농사용     7,900      4,106,395    \n8   202101  대전광역시  전체(시 / 군 / 구)  가로등    38,714      7,412,115    \n9   202101  대전광역시  전체(시 / 군 / 구)  심 야    14,693     28,598,956    \n10  202102  대전광역시  전체(시 / 군 / 구)  주택용   441,580    191,629,041    \n11  202102  대전광역시  전체(시 / 군 / 구)  일반용    82,673    325,817,300    \n12  202102  대전광역시  전체(시 / 군 / 구)  교육용       618     39,612,914    \n13  202102  대전광역시  전체(시 / 군 / 구)  산업용     5,586    252,313,262    \n14  202102  대전광역시  전체(시 / 군 / 구)  농사용     7,926      3,774,686    \n15  202102  대전광역시  전체(시 / 군 / 구)  가로등    38,738      6,979,765    \n16  202102  대전광역시  전체(시 / 군 / 구)  심 야    14,656     27,013,975    \n17  202103  대전광역시  전체(시 / 군 / 구)  주택용   441,810    162,635,163    \n18  202103  대전광역시  전체(시 / 군 / 구)  일반용    82,794    279,985,721    \n19  202103  대전광역시  전체(시 / 군 / 구)  교육용       614     34,013,909    \n20  202103  대전광역시  전체(시 / 군 / 구)  산업용     5,582    266,617,543    \n21  202103  대전광역시  전체(시 / 군 / 구)  농사용     9,285      2,886,590    \n22  202103  대전광역시  전체(시 / 군 / 구)  가로등    38,824      6,187,019    \n23  202103  대전광역시  전체(시 / 군 / 구)  심 야    14,610     19,628,976    \n24  202104  대전광역시  전체(시 / 군 / 구)  주택용   441,670    169,291,435    \n25  202104  대전광역시  전체(시 / 군 / 구)  일반용    83,011    266,711,455    \n26  202104  대전광역시  전체(시 / 군 / 구)  교육용       612     29,870,037    \n27  202104  대전광역시  전체(시 / 군 / 구)  산업용     5,595    262,423,691    \n28  202104  대전광역시  전체(시 / 군 / 구)  농사용     8,061      2,578,372    \n29  202104  대전광역시  전체(시 / 군 / 구)  가로등    38,822      6,221,842    \n30  202104  대전광역시  전체(시 / 군 / 구)  심 야    14,569     14,227,337    \n31  202105  대전광역시  전체(시 / 군 / 구)  주택용   441,997    157,957,623    \n32  202105  대전광역시  전체(시 / 군 / 구)  일반용    83,045    255,185,553    \n33  202105  대전광역시  전체(시 / 군 / 구)  교육용       612     25,995,050    \n34  202105  대전광역시  전체(시 / 군 / 구)  산업용     5,585    252,676,987    \n35  202105  대전광역시  전체(시 / 군 / 구)  농사용     8,109      2,292,363    \n36  202105  대전광역시  전체(시 / 군 / 구)  가로등    38,706      5,630,358    \n37  202105  대전광역시  전체(시 / 군 / 구)  심 야    14,500      9,235,626    \n38  202106  대전광역시  전체(시 / 군 / 구)  주택용   442,141    165,857,339    \n39  202106  대전광역시  전체(시 / 군 / 구)  일반용    83,217    288,747,948    \n40  202106  대전광역시  전체(시 / 군 / 구)  교육용       611     30,010,675    \n41  202106  대전광역시  전체(시 / 군 / 구)  산업용     5,585    274,179,103    \n42  202106  대전광역시  전체(시 / 군 / 구)  농사용     8,145      2,410,936    \n43  202106  대전광역시  전체(시 / 군 / 구)  가로등    38,712      5,398,937    \n44  202106  대전광역시  전체(시 / 군 / 구)  심 야    14,404      8,104,257    \n45      합계     합계             합계   합계  3,554,446  4,766,906,464   \n\n            전기요금(원) 평균판매단가(원/kWh)  \n3   21,226,092,447         108.7   \n4   44,590,453,357         127.5   \n5    4,149,666,067          91.6   \n6   32,472,788,099         115.0   \n7      195,492,181          47.6   \n8      777,468,148         104.9   \n9    2,070,211,022          72.4   \n10  20,607,632,691         107.5   \n11  42,388,603,687         130.1   \n12   3,757,460,595          94.9   \n13  29,516,980,754         117.0   \n14     181,978,393          48.2   \n15     756,230,252         108.3   \n16   1,963,259,280          72.7   \n17  15,520,050,219          95.4   \n18  33,836,523,808         120.9   \n19   3,122,349,447          91.8   \n20  25,577,272,852          95.9   \n21     149,159,405          51.7   \n22     686,812,535         111.0   \n23   1,269,100,244          64.7   \n24  16,628,667,019          98.2   \n25  29,892,201,120         112.1   \n26   2,559,375,534          85.7   \n27  24,690,004,178          94.1   \n28     137,553,789          53.3   \n29     697,954,414         112.2   \n30     753,625,029          53.0   \n31  14,787,672,637          93.6   \n32  28,974,778,277         113.5   \n33   2,211,576,251          85.1   \n34  23,644,824,724          93.6   \n35     126,341,179          55.1   \n36     655,386,979         116.4   \n37     507,124,021          54.9   \n38  15,902,954,330          95.9   \n39  37,530,867,993         130.0   \n40   3,175,445,441         105.8   \n41  32,354,700,848         118.0   \n42     130,557,507          54.2   \n43     642,563,709         119.0   \n44     474,514,728          58.6   \n45  521,294,275,190         109.4  ",
      "text/html": "<div>\n<style scoped>\n    .dataframe tbody tr th:only-of-type {\n        vertical-align: middle;\n    }\n\n    .dataframe tbody tr th {\n        vertical-align: top;\n    }\n\n    .dataframe thead th {\n        text-align: right;\n    }\n</style>\n<table border=\"1\" class=\"dataframe\">\n  <thead>\n    <tr style=\"text-align: right;\">\n      <th></th>\n      <th>년월</th>\n      <th>시구</th>\n      <th>시군구</th>\n      <th>계약구분</th>\n      <th>고객호수(호)</th>\n      <th>사용량(kWh)</th>\n      <th>전기요금(원)</th>\n      <th>평균판매단가(원/kWh)</th>\n    </tr>\n  </thead>\n  <tbody>\n    <tr>\n      <th>3</th>\n      <td>202101</td>\n      <td>대전광역시</td>\n      <td>전체(시 / 군 / 구)</td>\n      <td>주택용</td>\n      <td>441,231</td>\n      <td>195,182,881</td>\n      <td>21,226,092,447</td>\n      <td>108.7</td>\n    </tr>\n    <tr>\n      <th>4</th>\n      <td>202101</td>\n      <td>대전광역시</td>\n      <td>전체(시 / 군 / 구)</td>\n      <td>일반용</td>\n      <td>82,689</td>\n      <td>349,806,431</td>\n      <td>44,590,453,357</td>\n      <td>127.5</td>\n    </tr>\n    <tr>\n      <th>5</th>\n      <td>202101</td>\n      <td>대전광역시</td>\n      <td>전체(시 / 군 / 구)</td>\n      <td>교육용</td>\n      <td>616</td>\n      <td>45,305,430</td>\n      <td>4,149,666,067</td>\n      <td>91.6</td>\n    </tr>\n    <tr>\n      <th>6</th>\n      <td>202101</td>\n      <td>대전광역시</td>\n      <td>전체(시 / 군 / 구)</td>\n      <td>산업용</td>\n      <td>5,598</td>\n      <td>282,391,468</td>\n      <td>32,472,788,099</td>\n      <td>115.0</td>\n    </tr>\n    <tr>\n      <th>7</th>\n      <td>202101</td>\n      <td>대전광역시</td>\n      <td>전체(시 / 군 / 구)</td>\n      <td>농사용</td>\n      <td>7,900</td>\n      <td>4,106,395</td>\n      <td>195,492,181</td>\n      <td>47.6</td>\n    </tr>\n    <tr>\n      <th>8</th>\n      <td>202101</td>\n      <td>대전광역시</td>\n      <td>전체(시 / 군 / 구)</td>\n      <td>가로등</td>\n      <td>38,714</td>\n      <td>7,412,115</td>\n      <td>777,468,148</td>\n      <td>104.9</td>\n    </tr>\n    <tr>\n      <th>9</th>\n      <td>202101</td>\n      <td>대전광역시</td>\n      <td>전체(시 / 군 / 구)</td>\n      <td>심 야</td>\n      <td>14,693</td>\n      <td>28,598,956</td>\n      <td>2,070,211,022</td>\n      <td>72.4</td>\n    </tr>\n    <tr>\n      <th>10</th>\n      <td>202102</td>\n      <td>대전광역시</td>\n      <td>전체(시 / 군 / 구)</td>\n      <td>주택용</td>\n      <td>441,580</td>\n      <td>191,629,041</td>\n      <td>20,607,632,691</td>\n      <td>107.5</td>\n    </tr>\n    <tr>\n      <th>11</th>\n      <td>202102</td>\n      <td>대전광역시</td>\n      <td>전체(시 / 군 / 구)</td>\n      <td>일반용</td>\n      <td>82,673</td>\n      <td>325,817,300</td>\n      <td>42,388,603,687</td>\n      <td>130.1</td>\n    </tr>\n    <tr>\n      <th>12</th>\n      <td>202102</td>\n      <td>대전광역시</td>\n      <td>전체(시 / 군 / 구)</td>\n      <td>교육용</td>\n      <td>618</td>\n      <td>39,612,914</td>\n      <td>3,757,460,595</td>\n      <td>94.9</td>\n    </tr>\n    <tr>\n      <th>13</th>\n      <td>202102</td>\n      <td>대전광역시</td>\n      <td>전체(시 / 군 / 구)</td>\n      <td>산업용</td>\n      <td>5,586</td>\n      <td>252,313,262</td>\n      <td>29,516,980,754</td>\n      <td>117.0</td>\n    </tr>\n    <tr>\n      <th>14</th>\n      <td>202102</td>\n      <td>대전광역시</td>\n      <td>전체(시 / 군 / 구)</td>\n      <td>농사용</td>\n      <td>7,926</td>\n      <td>3,774,686</td>\n      <td>181,978,393</td>\n      <td>48.2</td>\n    </tr>\n    <tr>\n      <th>15</th>\n      <td>202102</td>\n      <td>대전광역시</td>\n      <td>전체(시 / 군 / 구)</td>\n      <td>가로등</td>\n      <td>38,738</td>\n      <td>6,979,765</td>\n      <td>756,230,252</td>\n      <td>108.3</td>\n    </tr>\n    <tr>\n      <th>16</th>\n      <td>202102</td>\n      <td>대전광역시</td>\n      <td>전체(시 / 군 / 구)</td>\n      <td>심 야</td>\n      <td>14,656</td>\n      <td>27,013,975</td>\n      <td>1,963,259,280</td>\n      <td>72.7</td>\n    </tr>\n    <tr>\n      <th>17</th>\n      <td>202103</td>\n      <td>대전광역시</td>\n      <td>전체(시 / 군 / 구)</td>\n      <td>주택용</td>\n      <td>441,810</td>\n      <td>162,635,163</td>\n      <td>15,520,050,219</td>\n      <td>95.4</td>\n    </tr>\n    <tr>\n      <th>18</th>\n      <td>202103</td>\n      <td>대전광역시</td>\n      <td>전체(시 / 군 / 구)</td>\n      <td>일반용</td>\n      <td>82,794</td>\n      <td>279,985,721</td>\n      <td>33,836,523,808</td>\n      <td>120.9</td>\n    </tr>\n    <tr>\n      <th>19</th>\n      <td>202103</td>\n      <td>대전광역시</td>\n      <td>전체(시 / 군 / 구)</td>\n      <td>교육용</td>\n      <td>614</td>\n      <td>34,013,909</td>\n      <td>3,122,349,447</td>\n      <td>91.8</td>\n    </tr>\n    <tr>\n      <th>20</th>\n      <td>202103</td>\n      <td>대전광역시</td>\n      <td>전체(시 / 군 / 구)</td>\n      <td>산업용</td>\n      <td>5,582</td>\n      <td>266,617,543</td>\n      <td>25,577,272,852</td>\n      <td>95.9</td>\n    </tr>\n    <tr>\n      <th>21</th>\n      <td>202103</td>\n      <td>대전광역시</td>\n      <td>전체(시 / 군 / 구)</td>\n      <td>농사용</td>\n      <td>9,285</td>\n      <td>2,886,590</td>\n      <td>149,159,405</td>\n      <td>51.7</td>\n    </tr>\n    <tr>\n      <th>22</th>\n      <td>202103</td>\n      <td>대전광역시</td>\n      <td>전체(시 / 군 / 구)</td>\n      <td>가로등</td>\n      <td>38,824</td>\n      <td>6,187,019</td>\n      <td>686,812,535</td>\n      <td>111.0</td>\n    </tr>\n    <tr>\n      <th>23</th>\n      <td>202103</td>\n      <td>대전광역시</td>\n      <td>전체(시 / 군 / 구)</td>\n      <td>심 야</td>\n      <td>14,610</td>\n      <td>19,628,976</td>\n      <td>1,269,100,244</td>\n      <td>64.7</td>\n    </tr>\n    <tr>\n      <th>24</th>\n      <td>202104</td>\n      <td>대전광역시</td>\n      <td>전체(시 / 군 / 구)</td>\n      <td>주택용</td>\n      <td>441,670</td>\n      <td>169,291,435</td>\n      <td>16,628,667,019</td>\n      <td>98.2</td>\n    </tr>\n    <tr>\n      <th>25</th>\n      <td>202104</td>\n      <td>대전광역시</td>\n      <td>전체(시 / 군 / 구)</td>\n      <td>일반용</td>\n      <td>83,011</td>\n      <td>266,711,455</td>\n      <td>29,892,201,120</td>\n      <td>112.1</td>\n    </tr>\n    <tr>\n      <th>26</th>\n      <td>202104</td>\n      <td>대전광역시</td>\n      <td>전체(시 / 군 / 구)</td>\n      <td>교육용</td>\n      <td>612</td>\n      <td>29,870,037</td>\n      <td>2,559,375,534</td>\n      <td>85.7</td>\n    </tr>\n    <tr>\n      <th>27</th>\n      <td>202104</td>\n      <td>대전광역시</td>\n      <td>전체(시 / 군 / 구)</td>\n      <td>산업용</td>\n      <td>5,595</td>\n      <td>262,423,691</td>\n      <td>24,690,004,178</td>\n      <td>94.1</td>\n    </tr>\n    <tr>\n      <th>28</th>\n      <td>202104</td>\n      <td>대전광역시</td>\n      <td>전체(시 / 군 / 구)</td>\n      <td>농사용</td>\n      <td>8,061</td>\n      <td>2,578,372</td>\n      <td>137,553,789</td>\n      <td>53.3</td>\n    </tr>\n    <tr>\n      <th>29</th>\n      <td>202104</td>\n      <td>대전광역시</td>\n      <td>전체(시 / 군 / 구)</td>\n      <td>가로등</td>\n      <td>38,822</td>\n      <td>6,221,842</td>\n      <td>697,954,414</td>\n      <td>112.2</td>\n    </tr>\n    <tr>\n      <th>30</th>\n      <td>202104</td>\n      <td>대전광역시</td>\n      <td>전체(시 / 군 / 구)</td>\n      <td>심 야</td>\n      <td>14,569</td>\n      <td>14,227,337</td>\n      <td>753,625,029</td>\n      <td>53.0</td>\n    </tr>\n    <tr>\n      <th>31</th>\n      <td>202105</td>\n      <td>대전광역시</td>\n      <td>전체(시 / 군 / 구)</td>\n      <td>주택용</td>\n      <td>441,997</td>\n      <td>157,957,623</td>\n      <td>14,787,672,637</td>\n      <td>93.6</td>\n    </tr>\n    <tr>\n      <th>32</th>\n      <td>202105</td>\n      <td>대전광역시</td>\n      <td>전체(시 / 군 / 구)</td>\n      <td>일반용</td>\n      <td>83,045</td>\n      <td>255,185,553</td>\n      <td>28,974,778,277</td>\n      <td>113.5</td>\n    </tr>\n    <tr>\n      <th>33</th>\n      <td>202105</td>\n      <td>대전광역시</td>\n      <td>전체(시 / 군 / 구)</td>\n      <td>교육용</td>\n      <td>612</td>\n      <td>25,995,050</td>\n      <td>2,211,576,251</td>\n      <td>85.1</td>\n    </tr>\n    <tr>\n      <th>34</th>\n      <td>202105</td>\n      <td>대전광역시</td>\n      <td>전체(시 / 군 / 구)</td>\n      <td>산업용</td>\n      <td>5,585</td>\n      <td>252,676,987</td>\n      <td>23,644,824,724</td>\n      <td>93.6</td>\n    </tr>\n    <tr>\n      <th>35</th>\n      <td>202105</td>\n      <td>대전광역시</td>\n      <td>전체(시 / 군 / 구)</td>\n      <td>농사용</td>\n      <td>8,109</td>\n      <td>2,292,363</td>\n      <td>126,341,179</td>\n      <td>55.1</td>\n    </tr>\n    <tr>\n      <th>36</th>\n      <td>202105</td>\n      <td>대전광역시</td>\n      <td>전체(시 / 군 / 구)</td>\n      <td>가로등</td>\n      <td>38,706</td>\n      <td>5,630,358</td>\n      <td>655,386,979</td>\n      <td>116.4</td>\n    </tr>\n    <tr>\n      <th>37</th>\n      <td>202105</td>\n      <td>대전광역시</td>\n      <td>전체(시 / 군 / 구)</td>\n      <td>심 야</td>\n      <td>14,500</td>\n      <td>9,235,626</td>\n      <td>507,124,021</td>\n      <td>54.9</td>\n    </tr>\n    <tr>\n      <th>38</th>\n      <td>202106</td>\n      <td>대전광역시</td>\n      <td>전체(시 / 군 / 구)</td>\n      <td>주택용</td>\n      <td>442,141</td>\n      <td>165,857,339</td>\n      <td>15,902,954,330</td>\n      <td>95.9</td>\n    </tr>\n    <tr>\n      <th>39</th>\n      <td>202106</td>\n      <td>대전광역시</td>\n      <td>전체(시 / 군 / 구)</td>\n      <td>일반용</td>\n      <td>83,217</td>\n      <td>288,747,948</td>\n      <td>37,530,867,993</td>\n      <td>130.0</td>\n    </tr>\n    <tr>\n      <th>40</th>\n      <td>202106</td>\n      <td>대전광역시</td>\n      <td>전체(시 / 군 / 구)</td>\n      <td>교육용</td>\n      <td>611</td>\n      <td>30,010,675</td>\n      <td>3,175,445,441</td>\n      <td>105.8</td>\n    </tr>\n    <tr>\n      <th>41</th>\n      <td>202106</td>\n      <td>대전광역시</td>\n      <td>전체(시 / 군 / 구)</td>\n      <td>산업용</td>\n      <td>5,585</td>\n      <td>274,179,103</td>\n      <td>32,354,700,848</td>\n      <td>118.0</td>\n    </tr>\n    <tr>\n      <th>42</th>\n      <td>202106</td>\n      <td>대전광역시</td>\n      <td>전체(시 / 군 / 구)</td>\n      <td>농사용</td>\n      <td>8,145</td>\n      <td>2,410,936</td>\n      <td>130,557,507</td>\n      <td>54.2</td>\n    </tr>\n    <tr>\n      <th>43</th>\n      <td>202106</td>\n      <td>대전광역시</td>\n      <td>전체(시 / 군 / 구)</td>\n      <td>가로등</td>\n      <td>38,712</td>\n      <td>5,398,937</td>\n      <td>642,563,709</td>\n      <td>119.0</td>\n    </tr>\n    <tr>\n      <th>44</th>\n      <td>202106</td>\n      <td>대전광역시</td>\n      <td>전체(시 / 군 / 구)</td>\n      <td>심 야</td>\n      <td>14,404</td>\n      <td>8,104,257</td>\n      <td>474,514,728</td>\n      <td>58.6</td>\n    </tr>\n    <tr>\n      <th>45</th>\n      <td>합계</td>\n      <td>합계</td>\n      <td>합계</td>\n      <td>합계</td>\n      <td>3,554,446</td>\n      <td>4,766,906,464</td>\n      <td>521,294,275,190</td>\n      <td>109.4</td>\n    </tr>\n  </tbody>\n</table>\n</div>"
     },
     "execution_count": 6,
     "metadata": {},
     "output_type": "execute_result"
    }
   ],
   "source": [
    "df_2 = df.loc[:45]\n",
    "df_2\n"
   ],
   "metadata": {
    "collapsed": false,
    "pycharm": {
     "name": "#%%\n"
    }
   }
  },
  {
   "cell_type": "code",
   "execution_count": 7,
   "outputs": [
    {
     "name": "stderr",
     "output_type": "stream",
     "text": [
      "C:\\Users\\user\\AppData\\Local\\Temp\\ipykernel_17676\\3551721261.py:3: SettingWithCopyWarning: \n",
      "A value is trying to be set on a copy of a slice from a DataFrame\n",
      "\n",
      "See the caveats in the documentation: https://pandas.pydata.org/pandas-docs/stable/user_guide/indexing.html#returning-a-view-versus-a-copy\n",
      "  GyeonGi.drop(['시군구' , '전기요금(원)' , '평균판매단가(원/kWh)'] , axis = 1 , inplace = True)\n"
     ]
    },
    {
     "data": {
      "text/plain": "        년월     시구 계약구분  고객호수(호)      사용량(kWh)\n4   202101  대전광역시  일반용  82,689   349,806,431 \n11  202102  대전광역시  일반용  82,673   325,817,300 \n18  202103  대전광역시  일반용  82,794   279,985,721 \n25  202104  대전광역시  일반용  83,011   266,711,455 \n32  202105  대전광역시  일반용  83,045   255,185,553 \n39  202106  대전광역시  일반용  83,217   288,747,948 ",
      "text/html": "<div>\n<style scoped>\n    .dataframe tbody tr th:only-of-type {\n        vertical-align: middle;\n    }\n\n    .dataframe tbody tr th {\n        vertical-align: top;\n    }\n\n    .dataframe thead th {\n        text-align: right;\n    }\n</style>\n<table border=\"1\" class=\"dataframe\">\n  <thead>\n    <tr style=\"text-align: right;\">\n      <th></th>\n      <th>년월</th>\n      <th>시구</th>\n      <th>계약구분</th>\n      <th>고객호수(호)</th>\n      <th>사용량(kWh)</th>\n    </tr>\n  </thead>\n  <tbody>\n    <tr>\n      <th>4</th>\n      <td>202101</td>\n      <td>대전광역시</td>\n      <td>일반용</td>\n      <td>82,689</td>\n      <td>349,806,431</td>\n    </tr>\n    <tr>\n      <th>11</th>\n      <td>202102</td>\n      <td>대전광역시</td>\n      <td>일반용</td>\n      <td>82,673</td>\n      <td>325,817,300</td>\n    </tr>\n    <tr>\n      <th>18</th>\n      <td>202103</td>\n      <td>대전광역시</td>\n      <td>일반용</td>\n      <td>82,794</td>\n      <td>279,985,721</td>\n    </tr>\n    <tr>\n      <th>25</th>\n      <td>202104</td>\n      <td>대전광역시</td>\n      <td>일반용</td>\n      <td>83,011</td>\n      <td>266,711,455</td>\n    </tr>\n    <tr>\n      <th>32</th>\n      <td>202105</td>\n      <td>대전광역시</td>\n      <td>일반용</td>\n      <td>83,045</td>\n      <td>255,185,553</td>\n    </tr>\n    <tr>\n      <th>39</th>\n      <td>202106</td>\n      <td>대전광역시</td>\n      <td>일반용</td>\n      <td>83,217</td>\n      <td>288,747,948</td>\n    </tr>\n  </tbody>\n</table>\n</div>"
     },
     "execution_count": 7,
     "metadata": {},
     "output_type": "execute_result"
    }
   ],
   "source": [
    "GyeonGi  = df_2.loc[(df_2['계약구분'] == '일반용')]\n",
    "#SEOUL = df_3.loc[(df_3['계약구분'] =='일반용')]\n",
    "GyeonGi.drop(['시군구' , '전기요금(원)' , '평균판매단가(원/kWh)'] , axis = 1 , inplace = True)\n",
    "GyeonGi"
   ],
   "metadata": {
    "collapsed": false,
    "pycharm": {
     "name": "#%%\n"
    }
   }
  },
  {
   "cell_type": "code",
   "execution_count": 8,
   "outputs": [],
   "source": [
    "#SEOUL1.to_csv(\"서울특별시_계약종별_전국_전력사용량_2022.csv\" , mode = 'w' , encoding= 'cp949')"
   ],
   "metadata": {
    "collapsed": false,
    "pycharm": {
     "name": "#%%\n"
    }
   }
  },
  {
   "cell_type": "code",
   "execution_count": 9,
   "outputs": [],
   "source": [
    "#df_2.to_csv(\"서울특별시_계약종별_전국_전력사용량.csv\" , mode = 'w' , encoding= 'cp949')"
   ],
   "metadata": {
    "collapsed": false,
    "pycharm": {
     "name": "#%%\n"
    }
   }
  },
  {
   "cell_type": "code",
   "execution_count": 10,
   "outputs": [
    {
     "data": {
      "text/plain": "         년월     시구  시군구 계약구분  고객호수(호)      사용량(kWh)\n53   202101  대전광역시  대덕구  일반용  12,336    37,026,833 \n93   202102  대전광역시  대덕구  일반용  12,330    35,832,547 \n133  202103  대전광역시  대덕구  일반용  12,337    29,738,528 \n173  202104  대전광역시  대덕구  일반용  12,356    28,143,283 \n213  202105  대전광역시  대덕구  일반용  12,352    25,667,569 \n253  202106  대전광역시  대덕구  일반용  12,345    28,555,254 \n61   202101  대전광역시   동구  일반용  14,781    39,514,712 \n101  202102  대전광역시   동구  일반용  14,754    37,094,928 \n141  202103  대전광역시   동구  일반용  14,777    30,617,255 \n181  202104  대전광역시   동구  일반용  14,797    29,371,834 \n221  202105  대전광역시   동구  일반용  14,804    27,278,786 \n261  202106  대전광역시   동구  일반용  14,828    30,423,447 \n69   202101  대전광역시   서구  일반용  22,181    99,630,054 \n109  202102  대전광역시   서구  일반용  22,219    94,663,364 \n149  202103  대전광역시   서구  일반용  22,259    79,453,858 \n189  202104  대전광역시   서구  일반용  22,350    75,731,764 \n229  202105  대전광역시   서구  일반용  22,362    72,184,103 \n269  202106  대전광역시   서구  일반용  22,450    81,764,168 \n77   202101  대전광역시  유성구  일반용  17,485   123,646,507 \n117  202102  대전광역시  유성구  일반용  17,451   110,477,052 \n157  202103  대전광역시  유성구  일반용  17,488   100,566,844 \n197  202104  대전광역시  유성구  일반용  17,571    95,512,116 \n237  202105  대전광역시  유성구  일반용  17,594    94,192,217 \n277  202106  대전광역시  유성구  일반용  17,652   107,703,394 \n85   202101  대전광역시   중구  일반용  15,906    49,988,325 \n125  202102  대전광역시   중구  일반용  15,919    47,749,409 \n165  202103  대전광역시   중구  일반용  15,933    39,609,236 \n205  202104  대전광역시   중구  일반용  15,937    37,952,458 \n245  202105  대전광역시   중구  일반용  15,933    35,862,878 \n285  202106  대전광역시   중구  일반용  15,942    40,301,685 ",
      "text/html": "<div>\n<style scoped>\n    .dataframe tbody tr th:only-of-type {\n        vertical-align: middle;\n    }\n\n    .dataframe tbody tr th {\n        vertical-align: top;\n    }\n\n    .dataframe thead th {\n        text-align: right;\n    }\n</style>\n<table border=\"1\" class=\"dataframe\">\n  <thead>\n    <tr style=\"text-align: right;\">\n      <th></th>\n      <th>년월</th>\n      <th>시구</th>\n      <th>시군구</th>\n      <th>계약구분</th>\n      <th>고객호수(호)</th>\n      <th>사용량(kWh)</th>\n    </tr>\n  </thead>\n  <tbody>\n    <tr>\n      <th>53</th>\n      <td>202101</td>\n      <td>대전광역시</td>\n      <td>대덕구</td>\n      <td>일반용</td>\n      <td>12,336</td>\n      <td>37,026,833</td>\n    </tr>\n    <tr>\n      <th>93</th>\n      <td>202102</td>\n      <td>대전광역시</td>\n      <td>대덕구</td>\n      <td>일반용</td>\n      <td>12,330</td>\n      <td>35,832,547</td>\n    </tr>\n    <tr>\n      <th>133</th>\n      <td>202103</td>\n      <td>대전광역시</td>\n      <td>대덕구</td>\n      <td>일반용</td>\n      <td>12,337</td>\n      <td>29,738,528</td>\n    </tr>\n    <tr>\n      <th>173</th>\n      <td>202104</td>\n      <td>대전광역시</td>\n      <td>대덕구</td>\n      <td>일반용</td>\n      <td>12,356</td>\n      <td>28,143,283</td>\n    </tr>\n    <tr>\n      <th>213</th>\n      <td>202105</td>\n      <td>대전광역시</td>\n      <td>대덕구</td>\n      <td>일반용</td>\n      <td>12,352</td>\n      <td>25,667,569</td>\n    </tr>\n    <tr>\n      <th>253</th>\n      <td>202106</td>\n      <td>대전광역시</td>\n      <td>대덕구</td>\n      <td>일반용</td>\n      <td>12,345</td>\n      <td>28,555,254</td>\n    </tr>\n    <tr>\n      <th>61</th>\n      <td>202101</td>\n      <td>대전광역시</td>\n      <td>동구</td>\n      <td>일반용</td>\n      <td>14,781</td>\n      <td>39,514,712</td>\n    </tr>\n    <tr>\n      <th>101</th>\n      <td>202102</td>\n      <td>대전광역시</td>\n      <td>동구</td>\n      <td>일반용</td>\n      <td>14,754</td>\n      <td>37,094,928</td>\n    </tr>\n    <tr>\n      <th>141</th>\n      <td>202103</td>\n      <td>대전광역시</td>\n      <td>동구</td>\n      <td>일반용</td>\n      <td>14,777</td>\n      <td>30,617,255</td>\n    </tr>\n    <tr>\n      <th>181</th>\n      <td>202104</td>\n      <td>대전광역시</td>\n      <td>동구</td>\n      <td>일반용</td>\n      <td>14,797</td>\n      <td>29,371,834</td>\n    </tr>\n    <tr>\n      <th>221</th>\n      <td>202105</td>\n      <td>대전광역시</td>\n      <td>동구</td>\n      <td>일반용</td>\n      <td>14,804</td>\n      <td>27,278,786</td>\n    </tr>\n    <tr>\n      <th>261</th>\n      <td>202106</td>\n      <td>대전광역시</td>\n      <td>동구</td>\n      <td>일반용</td>\n      <td>14,828</td>\n      <td>30,423,447</td>\n    </tr>\n    <tr>\n      <th>69</th>\n      <td>202101</td>\n      <td>대전광역시</td>\n      <td>서구</td>\n      <td>일반용</td>\n      <td>22,181</td>\n      <td>99,630,054</td>\n    </tr>\n    <tr>\n      <th>109</th>\n      <td>202102</td>\n      <td>대전광역시</td>\n      <td>서구</td>\n      <td>일반용</td>\n      <td>22,219</td>\n      <td>94,663,364</td>\n    </tr>\n    <tr>\n      <th>149</th>\n      <td>202103</td>\n      <td>대전광역시</td>\n      <td>서구</td>\n      <td>일반용</td>\n      <td>22,259</td>\n      <td>79,453,858</td>\n    </tr>\n    <tr>\n      <th>189</th>\n      <td>202104</td>\n      <td>대전광역시</td>\n      <td>서구</td>\n      <td>일반용</td>\n      <td>22,350</td>\n      <td>75,731,764</td>\n    </tr>\n    <tr>\n      <th>229</th>\n      <td>202105</td>\n      <td>대전광역시</td>\n      <td>서구</td>\n      <td>일반용</td>\n      <td>22,362</td>\n      <td>72,184,103</td>\n    </tr>\n    <tr>\n      <th>269</th>\n      <td>202106</td>\n      <td>대전광역시</td>\n      <td>서구</td>\n      <td>일반용</td>\n      <td>22,450</td>\n      <td>81,764,168</td>\n    </tr>\n    <tr>\n      <th>77</th>\n      <td>202101</td>\n      <td>대전광역시</td>\n      <td>유성구</td>\n      <td>일반용</td>\n      <td>17,485</td>\n      <td>123,646,507</td>\n    </tr>\n    <tr>\n      <th>117</th>\n      <td>202102</td>\n      <td>대전광역시</td>\n      <td>유성구</td>\n      <td>일반용</td>\n      <td>17,451</td>\n      <td>110,477,052</td>\n    </tr>\n    <tr>\n      <th>157</th>\n      <td>202103</td>\n      <td>대전광역시</td>\n      <td>유성구</td>\n      <td>일반용</td>\n      <td>17,488</td>\n      <td>100,566,844</td>\n    </tr>\n    <tr>\n      <th>197</th>\n      <td>202104</td>\n      <td>대전광역시</td>\n      <td>유성구</td>\n      <td>일반용</td>\n      <td>17,571</td>\n      <td>95,512,116</td>\n    </tr>\n    <tr>\n      <th>237</th>\n      <td>202105</td>\n      <td>대전광역시</td>\n      <td>유성구</td>\n      <td>일반용</td>\n      <td>17,594</td>\n      <td>94,192,217</td>\n    </tr>\n    <tr>\n      <th>277</th>\n      <td>202106</td>\n      <td>대전광역시</td>\n      <td>유성구</td>\n      <td>일반용</td>\n      <td>17,652</td>\n      <td>107,703,394</td>\n    </tr>\n    <tr>\n      <th>85</th>\n      <td>202101</td>\n      <td>대전광역시</td>\n      <td>중구</td>\n      <td>일반용</td>\n      <td>15,906</td>\n      <td>49,988,325</td>\n    </tr>\n    <tr>\n      <th>125</th>\n      <td>202102</td>\n      <td>대전광역시</td>\n      <td>중구</td>\n      <td>일반용</td>\n      <td>15,919</td>\n      <td>47,749,409</td>\n    </tr>\n    <tr>\n      <th>165</th>\n      <td>202103</td>\n      <td>대전광역시</td>\n      <td>중구</td>\n      <td>일반용</td>\n      <td>15,933</td>\n      <td>39,609,236</td>\n    </tr>\n    <tr>\n      <th>205</th>\n      <td>202104</td>\n      <td>대전광역시</td>\n      <td>중구</td>\n      <td>일반용</td>\n      <td>15,937</td>\n      <td>37,952,458</td>\n    </tr>\n    <tr>\n      <th>245</th>\n      <td>202105</td>\n      <td>대전광역시</td>\n      <td>중구</td>\n      <td>일반용</td>\n      <td>15,933</td>\n      <td>35,862,878</td>\n    </tr>\n    <tr>\n      <th>285</th>\n      <td>202106</td>\n      <td>대전광역시</td>\n      <td>중구</td>\n      <td>일반용</td>\n      <td>15,942</td>\n      <td>40,301,685</td>\n    </tr>\n  </tbody>\n</table>\n</div>"
     },
     "execution_count": 10,
     "metadata": {},
     "output_type": "execute_result"
    }
   ],
   "source": [
    "df_3 = df.loc[48:]\n",
    "df_3 = df_3.loc[(df_3['계약구분'] == '일반용')]\n",
    "df_3 = df_3.sort_values(by=['시군구' , '년월'])\n",
    "df_3.drop(['전기요금(원)',   '평균판매단가(원/kWh)'] , axis = 1 , inplace = True)\n",
    "df_3"
   ],
   "metadata": {
    "collapsed": false,
    "pycharm": {
     "name": "#%%\n"
    }
   }
  },
  {
   "cell_type": "code",
   "execution_count": 11,
   "outputs": [
    {
     "data": {
      "text/plain": "'대전광역시'"
     },
     "execution_count": 11,
     "metadata": {},
     "output_type": "execute_result"
    }
   ],
   "source": [
    "a = df_3.loc[: , \"시구\"]\n",
    "b = a[:1].tolist()\n",
    "for i in b:\n",
    "    City = i\n",
    "City"
   ],
   "metadata": {
    "collapsed": false,
    "pycharm": {
     "name": "#%%\n"
    }
   }
  },
  {
   "cell_type": "code",
   "execution_count": 12,
   "outputs": [
    {
     "data": {
      "text/plain": "['대덕구', '동구', '서구', '유성구', '중구']"
     },
     "execution_count": 12,
     "metadata": {},
     "output_type": "execute_result"
    }
   ],
   "source": [
    "\n",
    "SIGUNGU = list(set(df_3.loc[: , '시군구'].tolist()))\n",
    "SIGUNGU.sort()\n",
    "SIGUNGU"
   ],
   "metadata": {
    "collapsed": false,
    "pycharm": {
     "name": "#%%\n"
    }
   }
  },
  {
   "cell_type": "code",
   "execution_count": 13,
   "outputs": [
    {
     "data": {
      "text/plain": "         년월     시구  시군구 계약구분   고객호수(호)      사용량(kWh)\n55   202101  대전광역시  대덕구   합계   83,492   249,018,574 \n95   202102  대전광역시  대덕구   합계   83,494   227,590,919 \n135  202103  대전광역시  대덕구   합계   83,593   233,495,988 \n175  202104  대전광역시  대덕구   합계   83,528   228,215,356 \n215  202105  대전광역시  대덕구   합계   83,600   212,029,982 \n255  202106  대전광역시  대덕구   합계   83,655   227,498,440 \n63   202101  대전광역시   동구   합계  121,279    94,286,166 \n103  202102  대전광역시   동구   합계  121,356    89,704,891 \n143  202103  대전광역시   동구   합계  121,720    74,476,990 \n183  202104  대전광역시   동구   합계  121,439    72,137,552 \n223  202105  대전광역시   동구   합계  121,340    65,020,091 \n263  202106  대전광역시   동구   합계  121,284    69,159,023 \n71   202101  대전광역시   서구   합계  171,985   183,977,258 \n111  202102  대전광역시   서구   합계  172,114   176,352,244 \n151  202103  대전광역시   서구   합계  172,567   147,686,097 \n191  202104  대전광역시   서구   합계  172,316   144,163,139 \n231  202105  대전광역시   서구   합계  172,473   134,394,168 \n271  202106  대전광역시   서구   합계  172,635   146,721,172 \n79   202101  대전광역시  유성구   합계  110,833   289,458,042 \n119  202102  대전광역시  유성구   합계  110,850   261,616,295 \n159  202103  대전광역시  유성구   합계  111,627   240,424,430 \n199  202104  대전광역시  유성구   합계  111,185   233,145,085 \n239  202105  대전광역시  유성구   합계  111,210   230,028,160 \n279  202106  대전광역시  유성구   합계  111,355   258,587,136 \n87   202101  대전광역시   중구   합계  103,852    96,063,636 \n127  202102  대전광역시   중구   합계  103,963    91,876,594 \n167  202103  대전광역시   중구   합계  104,012    75,871,416 \n207  202104  대전광역시   중구   합계  103,872    73,663,037 \n247  202105  대전광역시   중구   합계  103,931    67,501,159 \n287  202106  대전광역시   중구   합계  103,886    72,743,424 ",
      "text/html": "<div>\n<style scoped>\n    .dataframe tbody tr th:only-of-type {\n        vertical-align: middle;\n    }\n\n    .dataframe tbody tr th {\n        vertical-align: top;\n    }\n\n    .dataframe thead th {\n        text-align: right;\n    }\n</style>\n<table border=\"1\" class=\"dataframe\">\n  <thead>\n    <tr style=\"text-align: right;\">\n      <th></th>\n      <th>년월</th>\n      <th>시구</th>\n      <th>시군구</th>\n      <th>계약구분</th>\n      <th>고객호수(호)</th>\n      <th>사용량(kWh)</th>\n    </tr>\n  </thead>\n  <tbody>\n    <tr>\n      <th>55</th>\n      <td>202101</td>\n      <td>대전광역시</td>\n      <td>대덕구</td>\n      <td>합계</td>\n      <td>83,492</td>\n      <td>249,018,574</td>\n    </tr>\n    <tr>\n      <th>95</th>\n      <td>202102</td>\n      <td>대전광역시</td>\n      <td>대덕구</td>\n      <td>합계</td>\n      <td>83,494</td>\n      <td>227,590,919</td>\n    </tr>\n    <tr>\n      <th>135</th>\n      <td>202103</td>\n      <td>대전광역시</td>\n      <td>대덕구</td>\n      <td>합계</td>\n      <td>83,593</td>\n      <td>233,495,988</td>\n    </tr>\n    <tr>\n      <th>175</th>\n      <td>202104</td>\n      <td>대전광역시</td>\n      <td>대덕구</td>\n      <td>합계</td>\n      <td>83,528</td>\n      <td>228,215,356</td>\n    </tr>\n    <tr>\n      <th>215</th>\n      <td>202105</td>\n      <td>대전광역시</td>\n      <td>대덕구</td>\n      <td>합계</td>\n      <td>83,600</td>\n      <td>212,029,982</td>\n    </tr>\n    <tr>\n      <th>255</th>\n      <td>202106</td>\n      <td>대전광역시</td>\n      <td>대덕구</td>\n      <td>합계</td>\n      <td>83,655</td>\n      <td>227,498,440</td>\n    </tr>\n    <tr>\n      <th>63</th>\n      <td>202101</td>\n      <td>대전광역시</td>\n      <td>동구</td>\n      <td>합계</td>\n      <td>121,279</td>\n      <td>94,286,166</td>\n    </tr>\n    <tr>\n      <th>103</th>\n      <td>202102</td>\n      <td>대전광역시</td>\n      <td>동구</td>\n      <td>합계</td>\n      <td>121,356</td>\n      <td>89,704,891</td>\n    </tr>\n    <tr>\n      <th>143</th>\n      <td>202103</td>\n      <td>대전광역시</td>\n      <td>동구</td>\n      <td>합계</td>\n      <td>121,720</td>\n      <td>74,476,990</td>\n    </tr>\n    <tr>\n      <th>183</th>\n      <td>202104</td>\n      <td>대전광역시</td>\n      <td>동구</td>\n      <td>합계</td>\n      <td>121,439</td>\n      <td>72,137,552</td>\n    </tr>\n    <tr>\n      <th>223</th>\n      <td>202105</td>\n      <td>대전광역시</td>\n      <td>동구</td>\n      <td>합계</td>\n      <td>121,340</td>\n      <td>65,020,091</td>\n    </tr>\n    <tr>\n      <th>263</th>\n      <td>202106</td>\n      <td>대전광역시</td>\n      <td>동구</td>\n      <td>합계</td>\n      <td>121,284</td>\n      <td>69,159,023</td>\n    </tr>\n    <tr>\n      <th>71</th>\n      <td>202101</td>\n      <td>대전광역시</td>\n      <td>서구</td>\n      <td>합계</td>\n      <td>171,985</td>\n      <td>183,977,258</td>\n    </tr>\n    <tr>\n      <th>111</th>\n      <td>202102</td>\n      <td>대전광역시</td>\n      <td>서구</td>\n      <td>합계</td>\n      <td>172,114</td>\n      <td>176,352,244</td>\n    </tr>\n    <tr>\n      <th>151</th>\n      <td>202103</td>\n      <td>대전광역시</td>\n      <td>서구</td>\n      <td>합계</td>\n      <td>172,567</td>\n      <td>147,686,097</td>\n    </tr>\n    <tr>\n      <th>191</th>\n      <td>202104</td>\n      <td>대전광역시</td>\n      <td>서구</td>\n      <td>합계</td>\n      <td>172,316</td>\n      <td>144,163,139</td>\n    </tr>\n    <tr>\n      <th>231</th>\n      <td>202105</td>\n      <td>대전광역시</td>\n      <td>서구</td>\n      <td>합계</td>\n      <td>172,473</td>\n      <td>134,394,168</td>\n    </tr>\n    <tr>\n      <th>271</th>\n      <td>202106</td>\n      <td>대전광역시</td>\n      <td>서구</td>\n      <td>합계</td>\n      <td>172,635</td>\n      <td>146,721,172</td>\n    </tr>\n    <tr>\n      <th>79</th>\n      <td>202101</td>\n      <td>대전광역시</td>\n      <td>유성구</td>\n      <td>합계</td>\n      <td>110,833</td>\n      <td>289,458,042</td>\n    </tr>\n    <tr>\n      <th>119</th>\n      <td>202102</td>\n      <td>대전광역시</td>\n      <td>유성구</td>\n      <td>합계</td>\n      <td>110,850</td>\n      <td>261,616,295</td>\n    </tr>\n    <tr>\n      <th>159</th>\n      <td>202103</td>\n      <td>대전광역시</td>\n      <td>유성구</td>\n      <td>합계</td>\n      <td>111,627</td>\n      <td>240,424,430</td>\n    </tr>\n    <tr>\n      <th>199</th>\n      <td>202104</td>\n      <td>대전광역시</td>\n      <td>유성구</td>\n      <td>합계</td>\n      <td>111,185</td>\n      <td>233,145,085</td>\n    </tr>\n    <tr>\n      <th>239</th>\n      <td>202105</td>\n      <td>대전광역시</td>\n      <td>유성구</td>\n      <td>합계</td>\n      <td>111,210</td>\n      <td>230,028,160</td>\n    </tr>\n    <tr>\n      <th>279</th>\n      <td>202106</td>\n      <td>대전광역시</td>\n      <td>유성구</td>\n      <td>합계</td>\n      <td>111,355</td>\n      <td>258,587,136</td>\n    </tr>\n    <tr>\n      <th>87</th>\n      <td>202101</td>\n      <td>대전광역시</td>\n      <td>중구</td>\n      <td>합계</td>\n      <td>103,852</td>\n      <td>96,063,636</td>\n    </tr>\n    <tr>\n      <th>127</th>\n      <td>202102</td>\n      <td>대전광역시</td>\n      <td>중구</td>\n      <td>합계</td>\n      <td>103,963</td>\n      <td>91,876,594</td>\n    </tr>\n    <tr>\n      <th>167</th>\n      <td>202103</td>\n      <td>대전광역시</td>\n      <td>중구</td>\n      <td>합계</td>\n      <td>104,012</td>\n      <td>75,871,416</td>\n    </tr>\n    <tr>\n      <th>207</th>\n      <td>202104</td>\n      <td>대전광역시</td>\n      <td>중구</td>\n      <td>합계</td>\n      <td>103,872</td>\n      <td>73,663,037</td>\n    </tr>\n    <tr>\n      <th>247</th>\n      <td>202105</td>\n      <td>대전광역시</td>\n      <td>중구</td>\n      <td>합계</td>\n      <td>103,931</td>\n      <td>67,501,159</td>\n    </tr>\n    <tr>\n      <th>287</th>\n      <td>202106</td>\n      <td>대전광역시</td>\n      <td>중구</td>\n      <td>합계</td>\n      <td>103,886</td>\n      <td>72,743,424</td>\n    </tr>\n  </tbody>\n</table>\n</div>"
     },
     "execution_count": 13,
     "metadata": {},
     "output_type": "execute_result"
    }
   ],
   "source": [
    "df_4 = df.loc[48:]\n",
    "df_4 = df_4.loc[(df_4['계약구분'] == '합계')]\n",
    "df_4 = df_4.sort_values(by=['시군구' , '년월'])\n",
    "df_4.drop(['전기요금(원)',   '평균판매단가(원/kWh)'] , axis = 1 , inplace = True)\n",
    "df_4"
   ],
   "metadata": {
    "collapsed": false,
    "pycharm": {
     "name": "#%%\n"
    }
   }
  },
  {
   "cell_type": "code",
   "execution_count": 14,
   "outputs": [
    {
     "name": "stdout",
     "output_type": "stream",
     "text": [
      "[249018574, 227590919, 233495988, 228215356, 212029982, 227498440]\n",
      "[94286166, 89704891, 74476990, 72137552, 65020091, 69159023]\n",
      "[183977258, 176352244, 147686097, 144163139, 134394168, 146721172]\n",
      "[289458042, 261616295, 240424430, 233145085, 230028160, 258587136]\n",
      "[96063636, 91876594, 75871416, 73663037, 67501159, 72743424]\n",
      "대전광역시 지역별 합계 :  [1377849259, 464784713, 933294078, 1513259148, 477719266]\n",
      "대전광역시 고객호수 평균:  [13926, 20233, 28724, 18529, 17319]\n"
     ]
    }
   ],
   "source": [
    "sum2 , sum3 =[] , []\n",
    "for k in SIGUNGU:\n",
    "    GyeonGiHap = pd.DataFrame([] , columns = a)\n",
    "    HOSU = pd.DataFrame([], columns = a)\n",
    "    GyeonGiHap['사용량']= df_4['사용량(kWh)'].loc[(df_4['시군구'] == '{}'.format(k))]\n",
    "    HOSU['고객호수']= df_4['고객호수(호)'].loc[(df_4['시군구'] == '{}'.format(k))]\n",
    "    #경기합 데이터프레임의 사용량 열에 기군구가 가평군인 사용량 데이터만 뽑아내기\n",
    "    # GyeonGiHap = GyeonGiHap['사용량']\n",
    "\n",
    "    b = GyeonGiHap['사용량'].tolist()\n",
    "    c = HOSU['고객호수'].tolist()\n",
    "\n",
    "\n",
    "    #각지역별 사용량 리스트화\n",
    "    int_list  , int_list2=[] , []\n",
    "    for i in b:\n",
    "        i = re.sub(\",\" , \"\" , i)\n",
    "        #콤마 없애기\n",
    "        int_list.append(int(i))\n",
    "        #int_list에 각지역별 사용량 int로 저장\n",
    "    print(int_list)\n",
    "    sum=0\n",
    "    for i in c:\n",
    "        i = re.sub(\",\" , \"\" , i)\n",
    "        int_list2.append(int(i))\n",
    "\n",
    "    for j in int_list:\n",
    "\n",
    "        sum+= j\n",
    "    sum2.append(sum)\n",
    "    sum = 0\n",
    "    for j in int_list2: #고객호수 추출하여 더하기\n",
    "\n",
    "        sum+= j\n",
    "    sum3.append(sum//36) #6개월 치로 나눠야하나?!\n",
    "\n",
    "\n",
    "\n",
    "\n",
    "print(\"{} 지역별 합계 : \".format(City) , sum2)\n",
    "print(\"{} 고객호수 평균: \".format(City) , sum3)"
   ],
   "metadata": {
    "collapsed": false,
    "pycharm": {
     "name": "#%%\n"
    }
   }
  },
  {
   "cell_type": "markdown",
   "source": [
    "### 2. 날짜 체크!!!!!!!!!!!!!!!!!!!!!!!!!!!!!!!!!!!!!!!!!!!!!!"
   ],
   "metadata": {
    "collapsed": false,
    "pycharm": {
     "name": "#%% md\n"
    }
   }
  },
  {
   "cell_type": "code",
   "execution_count": 15,
   "outputs": [
    {
     "name": "stderr",
     "output_type": "stream",
     "text": [
      "C:\\Users\\user\\AppData\\Local\\Temp\\ipykernel_17676\\1481603074.py:4: FutureWarning: The frame.append method is deprecated and will be removed from pandas in a future version. Use pandas.concat instead.\n",
      "  Hap = Hap.append({'년월' :'202101-202106'  , '시구' : '{}'.format(City) , '시군구' : '{}'.format(SIGUNGU[i]) , '계약구분' : '합계' , '고객호수(호)' : sum3[i] ,  '사용량(kWh)' : sum2[i]} , ignore_index=True) #년월 파일마다 수정하기\n",
      "C:\\Users\\user\\AppData\\Local\\Temp\\ipykernel_17676\\1481603074.py:4: FutureWarning: The frame.append method is deprecated and will be removed from pandas in a future version. Use pandas.concat instead.\n",
      "  Hap = Hap.append({'년월' :'202101-202106'  , '시구' : '{}'.format(City) , '시군구' : '{}'.format(SIGUNGU[i]) , '계약구분' : '합계' , '고객호수(호)' : sum3[i] ,  '사용량(kWh)' : sum2[i]} , ignore_index=True) #년월 파일마다 수정하기\n",
      "C:\\Users\\user\\AppData\\Local\\Temp\\ipykernel_17676\\1481603074.py:4: FutureWarning: The frame.append method is deprecated and will be removed from pandas in a future version. Use pandas.concat instead.\n",
      "  Hap = Hap.append({'년월' :'202101-202106'  , '시구' : '{}'.format(City) , '시군구' : '{}'.format(SIGUNGU[i]) , '계약구분' : '합계' , '고객호수(호)' : sum3[i] ,  '사용량(kWh)' : sum2[i]} , ignore_index=True) #년월 파일마다 수정하기\n",
      "C:\\Users\\user\\AppData\\Local\\Temp\\ipykernel_17676\\1481603074.py:4: FutureWarning: The frame.append method is deprecated and will be removed from pandas in a future version. Use pandas.concat instead.\n",
      "  Hap = Hap.append({'년월' :'202101-202106'  , '시구' : '{}'.format(City) , '시군구' : '{}'.format(SIGUNGU[i]) , '계약구분' : '합계' , '고객호수(호)' : sum3[i] ,  '사용량(kWh)' : sum2[i]} , ignore_index=True) #년월 파일마다 수정하기\n",
      "C:\\Users\\user\\AppData\\Local\\Temp\\ipykernel_17676\\1481603074.py:4: FutureWarning: The frame.append method is deprecated and will be removed from pandas in a future version. Use pandas.concat instead.\n",
      "  Hap = Hap.append({'년월' :'202101-202106'  , '시구' : '{}'.format(City) , '시군구' : '{}'.format(SIGUNGU[i]) , '계약구분' : '합계' , '고객호수(호)' : sum3[i] ,  '사용량(kWh)' : sum2[i]} , ignore_index=True) #년월 파일마다 수정하기\n"
     ]
    },
    {
     "data": {
      "text/plain": "               년월     시구  시군구 계약구분   고객호수(호)      사용량(kWh)\n0          202101  대전광역시  대덕구   합계   83,492   249,018,574 \n1          202102  대전광역시  대덕구   합계   83,494   227,590,919 \n2          202103  대전광역시  대덕구   합계   83,593   233,495,988 \n3          202104  대전광역시  대덕구   합계   83,528   228,215,356 \n4          202105  대전광역시  대덕구   합계   83,600   212,029,982 \n5          202106  대전광역시  대덕구   합계   83,655   227,498,440 \n6          202101  대전광역시   동구   합계  121,279    94,286,166 \n7          202102  대전광역시   동구   합계  121,356    89,704,891 \n8          202103  대전광역시   동구   합계  121,720    74,476,990 \n9          202104  대전광역시   동구   합계  121,439    72,137,552 \n10         202105  대전광역시   동구   합계  121,340    65,020,091 \n11         202106  대전광역시   동구   합계  121,284    69,159,023 \n12         202101  대전광역시   서구   합계  171,985   183,977,258 \n13         202102  대전광역시   서구   합계  172,114   176,352,244 \n14         202103  대전광역시   서구   합계  172,567   147,686,097 \n15         202104  대전광역시   서구   합계  172,316   144,163,139 \n16         202105  대전광역시   서구   합계  172,473   134,394,168 \n17         202106  대전광역시   서구   합계  172,635   146,721,172 \n18         202101  대전광역시  유성구   합계  110,833   289,458,042 \n19         202102  대전광역시  유성구   합계  110,850   261,616,295 \n20         202103  대전광역시  유성구   합계  111,627   240,424,430 \n21         202104  대전광역시  유성구   합계  111,185   233,145,085 \n22         202105  대전광역시  유성구   합계  111,210   230,028,160 \n23         202106  대전광역시  유성구   합계  111,355   258,587,136 \n24         202101  대전광역시   중구   합계  103,852    96,063,636 \n25         202102  대전광역시   중구   합계  103,963    91,876,594 \n26         202103  대전광역시   중구   합계  104,012    75,871,416 \n27         202104  대전광역시   중구   합계  103,872    73,663,037 \n28         202105  대전광역시   중구   합계  103,931    67,501,159 \n29         202106  대전광역시   중구   합계  103,886    72,743,424 \n30  202101-202106  대전광역시  대덕구   합계     13926    1377849259\n31  202101-202106  대전광역시   동구   합계     20233     464784713\n32  202101-202106  대전광역시   서구   합계     28724     933294078\n33  202101-202106  대전광역시  유성구   합계     18529    1513259148\n34  202101-202106  대전광역시   중구   합계     17319     477719266",
      "text/html": "<div>\n<style scoped>\n    .dataframe tbody tr th:only-of-type {\n        vertical-align: middle;\n    }\n\n    .dataframe tbody tr th {\n        vertical-align: top;\n    }\n\n    .dataframe thead th {\n        text-align: right;\n    }\n</style>\n<table border=\"1\" class=\"dataframe\">\n  <thead>\n    <tr style=\"text-align: right;\">\n      <th></th>\n      <th>년월</th>\n      <th>시구</th>\n      <th>시군구</th>\n      <th>계약구분</th>\n      <th>고객호수(호)</th>\n      <th>사용량(kWh)</th>\n    </tr>\n  </thead>\n  <tbody>\n    <tr>\n      <th>0</th>\n      <td>202101</td>\n      <td>대전광역시</td>\n      <td>대덕구</td>\n      <td>합계</td>\n      <td>83,492</td>\n      <td>249,018,574</td>\n    </tr>\n    <tr>\n      <th>1</th>\n      <td>202102</td>\n      <td>대전광역시</td>\n      <td>대덕구</td>\n      <td>합계</td>\n      <td>83,494</td>\n      <td>227,590,919</td>\n    </tr>\n    <tr>\n      <th>2</th>\n      <td>202103</td>\n      <td>대전광역시</td>\n      <td>대덕구</td>\n      <td>합계</td>\n      <td>83,593</td>\n      <td>233,495,988</td>\n    </tr>\n    <tr>\n      <th>3</th>\n      <td>202104</td>\n      <td>대전광역시</td>\n      <td>대덕구</td>\n      <td>합계</td>\n      <td>83,528</td>\n      <td>228,215,356</td>\n    </tr>\n    <tr>\n      <th>4</th>\n      <td>202105</td>\n      <td>대전광역시</td>\n      <td>대덕구</td>\n      <td>합계</td>\n      <td>83,600</td>\n      <td>212,029,982</td>\n    </tr>\n    <tr>\n      <th>5</th>\n      <td>202106</td>\n      <td>대전광역시</td>\n      <td>대덕구</td>\n      <td>합계</td>\n      <td>83,655</td>\n      <td>227,498,440</td>\n    </tr>\n    <tr>\n      <th>6</th>\n      <td>202101</td>\n      <td>대전광역시</td>\n      <td>동구</td>\n      <td>합계</td>\n      <td>121,279</td>\n      <td>94,286,166</td>\n    </tr>\n    <tr>\n      <th>7</th>\n      <td>202102</td>\n      <td>대전광역시</td>\n      <td>동구</td>\n      <td>합계</td>\n      <td>121,356</td>\n      <td>89,704,891</td>\n    </tr>\n    <tr>\n      <th>8</th>\n      <td>202103</td>\n      <td>대전광역시</td>\n      <td>동구</td>\n      <td>합계</td>\n      <td>121,720</td>\n      <td>74,476,990</td>\n    </tr>\n    <tr>\n      <th>9</th>\n      <td>202104</td>\n      <td>대전광역시</td>\n      <td>동구</td>\n      <td>합계</td>\n      <td>121,439</td>\n      <td>72,137,552</td>\n    </tr>\n    <tr>\n      <th>10</th>\n      <td>202105</td>\n      <td>대전광역시</td>\n      <td>동구</td>\n      <td>합계</td>\n      <td>121,340</td>\n      <td>65,020,091</td>\n    </tr>\n    <tr>\n      <th>11</th>\n      <td>202106</td>\n      <td>대전광역시</td>\n      <td>동구</td>\n      <td>합계</td>\n      <td>121,284</td>\n      <td>69,159,023</td>\n    </tr>\n    <tr>\n      <th>12</th>\n      <td>202101</td>\n      <td>대전광역시</td>\n      <td>서구</td>\n      <td>합계</td>\n      <td>171,985</td>\n      <td>183,977,258</td>\n    </tr>\n    <tr>\n      <th>13</th>\n      <td>202102</td>\n      <td>대전광역시</td>\n      <td>서구</td>\n      <td>합계</td>\n      <td>172,114</td>\n      <td>176,352,244</td>\n    </tr>\n    <tr>\n      <th>14</th>\n      <td>202103</td>\n      <td>대전광역시</td>\n      <td>서구</td>\n      <td>합계</td>\n      <td>172,567</td>\n      <td>147,686,097</td>\n    </tr>\n    <tr>\n      <th>15</th>\n      <td>202104</td>\n      <td>대전광역시</td>\n      <td>서구</td>\n      <td>합계</td>\n      <td>172,316</td>\n      <td>144,163,139</td>\n    </tr>\n    <tr>\n      <th>16</th>\n      <td>202105</td>\n      <td>대전광역시</td>\n      <td>서구</td>\n      <td>합계</td>\n      <td>172,473</td>\n      <td>134,394,168</td>\n    </tr>\n    <tr>\n      <th>17</th>\n      <td>202106</td>\n      <td>대전광역시</td>\n      <td>서구</td>\n      <td>합계</td>\n      <td>172,635</td>\n      <td>146,721,172</td>\n    </tr>\n    <tr>\n      <th>18</th>\n      <td>202101</td>\n      <td>대전광역시</td>\n      <td>유성구</td>\n      <td>합계</td>\n      <td>110,833</td>\n      <td>289,458,042</td>\n    </tr>\n    <tr>\n      <th>19</th>\n      <td>202102</td>\n      <td>대전광역시</td>\n      <td>유성구</td>\n      <td>합계</td>\n      <td>110,850</td>\n      <td>261,616,295</td>\n    </tr>\n    <tr>\n      <th>20</th>\n      <td>202103</td>\n      <td>대전광역시</td>\n      <td>유성구</td>\n      <td>합계</td>\n      <td>111,627</td>\n      <td>240,424,430</td>\n    </tr>\n    <tr>\n      <th>21</th>\n      <td>202104</td>\n      <td>대전광역시</td>\n      <td>유성구</td>\n      <td>합계</td>\n      <td>111,185</td>\n      <td>233,145,085</td>\n    </tr>\n    <tr>\n      <th>22</th>\n      <td>202105</td>\n      <td>대전광역시</td>\n      <td>유성구</td>\n      <td>합계</td>\n      <td>111,210</td>\n      <td>230,028,160</td>\n    </tr>\n    <tr>\n      <th>23</th>\n      <td>202106</td>\n      <td>대전광역시</td>\n      <td>유성구</td>\n      <td>합계</td>\n      <td>111,355</td>\n      <td>258,587,136</td>\n    </tr>\n    <tr>\n      <th>24</th>\n      <td>202101</td>\n      <td>대전광역시</td>\n      <td>중구</td>\n      <td>합계</td>\n      <td>103,852</td>\n      <td>96,063,636</td>\n    </tr>\n    <tr>\n      <th>25</th>\n      <td>202102</td>\n      <td>대전광역시</td>\n      <td>중구</td>\n      <td>합계</td>\n      <td>103,963</td>\n      <td>91,876,594</td>\n    </tr>\n    <tr>\n      <th>26</th>\n      <td>202103</td>\n      <td>대전광역시</td>\n      <td>중구</td>\n      <td>합계</td>\n      <td>104,012</td>\n      <td>75,871,416</td>\n    </tr>\n    <tr>\n      <th>27</th>\n      <td>202104</td>\n      <td>대전광역시</td>\n      <td>중구</td>\n      <td>합계</td>\n      <td>103,872</td>\n      <td>73,663,037</td>\n    </tr>\n    <tr>\n      <th>28</th>\n      <td>202105</td>\n      <td>대전광역시</td>\n      <td>중구</td>\n      <td>합계</td>\n      <td>103,931</td>\n      <td>67,501,159</td>\n    </tr>\n    <tr>\n      <th>29</th>\n      <td>202106</td>\n      <td>대전광역시</td>\n      <td>중구</td>\n      <td>합계</td>\n      <td>103,886</td>\n      <td>72,743,424</td>\n    </tr>\n    <tr>\n      <th>30</th>\n      <td>202101-202106</td>\n      <td>대전광역시</td>\n      <td>대덕구</td>\n      <td>합계</td>\n      <td>13926</td>\n      <td>1377849259</td>\n    </tr>\n    <tr>\n      <th>31</th>\n      <td>202101-202106</td>\n      <td>대전광역시</td>\n      <td>동구</td>\n      <td>합계</td>\n      <td>20233</td>\n      <td>464784713</td>\n    </tr>\n    <tr>\n      <th>32</th>\n      <td>202101-202106</td>\n      <td>대전광역시</td>\n      <td>서구</td>\n      <td>합계</td>\n      <td>28724</td>\n      <td>933294078</td>\n    </tr>\n    <tr>\n      <th>33</th>\n      <td>202101-202106</td>\n      <td>대전광역시</td>\n      <td>유성구</td>\n      <td>합계</td>\n      <td>18529</td>\n      <td>1513259148</td>\n    </tr>\n    <tr>\n      <th>34</th>\n      <td>202101-202106</td>\n      <td>대전광역시</td>\n      <td>중구</td>\n      <td>합계</td>\n      <td>17319</td>\n      <td>477719266</td>\n    </tr>\n  </tbody>\n</table>\n</div>"
     },
     "execution_count": 15,
     "metadata": {},
     "output_type": "execute_result"
    }
   ],
   "source": [
    "Hap = df_4.copy()\n",
    "Hap.reset_index(drop=True , inplace = True)\n",
    "for i in range(len(SIGUNGU)):\n",
    "    Hap = Hap.append({'년월' :'202101-202106'  , '시구' : '{}'.format(City) , '시군구' : '{}'.format(SIGUNGU[i]) , '계약구분' : '합계' , '고객호수(호)' : sum3[i] ,  '사용량(kWh)' : sum2[i]} , ignore_index=True) #년월 파일마다 수정하기\n",
    "Hap"
   ],
   "metadata": {
    "collapsed": false,
    "pycharm": {
     "name": "#%%\n"
    }
   }
  },
  {
   "cell_type": "markdown",
   "source": [
    "### 3. 날짜 변경!!!!!!!!!!!!!!!!!!!!!!!!!!!!!!!"
   ],
   "metadata": {
    "collapsed": false,
    "pycharm": {
     "name": "#%% md\n"
    }
   }
  },
  {
   "cell_type": "code",
   "execution_count": 16,
   "outputs": [
    {
     "data": {
      "text/plain": "               년월     시구  시군구 계약구분 고객호수(호)    사용량(kWh)\n30  202101-202106  대전광역시  대덕구   합계   13926  1377849259\n31  202101-202106  대전광역시   동구   합계   20233   464784713\n32  202101-202106  대전광역시   서구   합계   28724   933294078\n33  202101-202106  대전광역시  유성구   합계   18529  1513259148\n34  202101-202106  대전광역시   중구   합계   17319   477719266",
      "text/html": "<div>\n<style scoped>\n    .dataframe tbody tr th:only-of-type {\n        vertical-align: middle;\n    }\n\n    .dataframe tbody tr th {\n        vertical-align: top;\n    }\n\n    .dataframe thead th {\n        text-align: right;\n    }\n</style>\n<table border=\"1\" class=\"dataframe\">\n  <thead>\n    <tr style=\"text-align: right;\">\n      <th></th>\n      <th>년월</th>\n      <th>시구</th>\n      <th>시군구</th>\n      <th>계약구분</th>\n      <th>고객호수(호)</th>\n      <th>사용량(kWh)</th>\n    </tr>\n  </thead>\n  <tbody>\n    <tr>\n      <th>30</th>\n      <td>202101-202106</td>\n      <td>대전광역시</td>\n      <td>대덕구</td>\n      <td>합계</td>\n      <td>13926</td>\n      <td>1377849259</td>\n    </tr>\n    <tr>\n      <th>31</th>\n      <td>202101-202106</td>\n      <td>대전광역시</td>\n      <td>동구</td>\n      <td>합계</td>\n      <td>20233</td>\n      <td>464784713</td>\n    </tr>\n    <tr>\n      <th>32</th>\n      <td>202101-202106</td>\n      <td>대전광역시</td>\n      <td>서구</td>\n      <td>합계</td>\n      <td>28724</td>\n      <td>933294078</td>\n    </tr>\n    <tr>\n      <th>33</th>\n      <td>202101-202106</td>\n      <td>대전광역시</td>\n      <td>유성구</td>\n      <td>합계</td>\n      <td>18529</td>\n      <td>1513259148</td>\n    </tr>\n    <tr>\n      <th>34</th>\n      <td>202101-202106</td>\n      <td>대전광역시</td>\n      <td>중구</td>\n      <td>합계</td>\n      <td>17319</td>\n      <td>477719266</td>\n    </tr>\n  </tbody>\n</table>\n</div>"
     },
     "execution_count": 16,
     "metadata": {},
     "output_type": "execute_result"
    }
   ],
   "source": [
    "Hap = Hap.loc[Hap['년월'] == '202101-202106']\n",
    "Hap"
   ],
   "metadata": {
    "collapsed": false,
    "pycharm": {
     "name": "#%%\n"
    }
   }
  },
  {
   "cell_type": "code",
   "execution_count": 17,
   "outputs": [],
   "source": [
    "# SIGUNGU = SIGUNGU[:1]\n",
    "# SIGUNGU\n",
    "#for i in SIGUNGU:\n",
    "#print('{}'.format(i))\n",
    "# df_3 = df_3.loc[(df_3['시군구'] == '가평군')]\n",
    "#\n",
    "# df_3"
   ],
   "metadata": {
    "collapsed": false,
    "pycharm": {
     "name": "#%%\n"
    }
   }
  },
  {
   "cell_type": "code",
   "execution_count": 18,
   "outputs": [
    {
     "data": {
      "text/plain": "['년월', '시구', '시군구', '계약구분', '고객호수(호)', '사용량(kWh)']"
     },
     "execution_count": 18,
     "metadata": {},
     "output_type": "execute_result"
    }
   ],
   "source": [
    "a = (df_3.columns).tolist()\n",
    "\n",
    "a"
   ],
   "metadata": {
    "collapsed": false,
    "pycharm": {
     "name": "#%%\n"
    }
   }
  },
  {
   "cell_type": "code",
   "execution_count": 19,
   "outputs": [
    {
     "data": {
      "text/plain": "         년월     시구  시군구 계약구분  고객호수(호)      사용량(kWh)\n53   202101  대전광역시  대덕구  일반용  12,336    37,026,833 \n93   202102  대전광역시  대덕구  일반용  12,330    35,832,547 \n133  202103  대전광역시  대덕구  일반용  12,337    29,738,528 \n173  202104  대전광역시  대덕구  일반용  12,356    28,143,283 \n213  202105  대전광역시  대덕구  일반용  12,352    25,667,569 \n253  202106  대전광역시  대덕구  일반용  12,345    28,555,254 \n61   202101  대전광역시   동구  일반용  14,781    39,514,712 \n101  202102  대전광역시   동구  일반용  14,754    37,094,928 \n141  202103  대전광역시   동구  일반용  14,777    30,617,255 \n181  202104  대전광역시   동구  일반용  14,797    29,371,834 \n221  202105  대전광역시   동구  일반용  14,804    27,278,786 \n261  202106  대전광역시   동구  일반용  14,828    30,423,447 \n69   202101  대전광역시   서구  일반용  22,181    99,630,054 \n109  202102  대전광역시   서구  일반용  22,219    94,663,364 \n149  202103  대전광역시   서구  일반용  22,259    79,453,858 \n189  202104  대전광역시   서구  일반용  22,350    75,731,764 \n229  202105  대전광역시   서구  일반용  22,362    72,184,103 \n269  202106  대전광역시   서구  일반용  22,450    81,764,168 \n77   202101  대전광역시  유성구  일반용  17,485   123,646,507 \n117  202102  대전광역시  유성구  일반용  17,451   110,477,052 \n157  202103  대전광역시  유성구  일반용  17,488   100,566,844 \n197  202104  대전광역시  유성구  일반용  17,571    95,512,116 \n237  202105  대전광역시  유성구  일반용  17,594    94,192,217 \n277  202106  대전광역시  유성구  일반용  17,652   107,703,394 \n85   202101  대전광역시   중구  일반용  15,906    49,988,325 \n125  202102  대전광역시   중구  일반용  15,919    47,749,409 \n165  202103  대전광역시   중구  일반용  15,933    39,609,236 \n205  202104  대전광역시   중구  일반용  15,937    37,952,458 \n245  202105  대전광역시   중구  일반용  15,933    35,862,878 \n285  202106  대전광역시   중구  일반용  15,942    40,301,685 ",
      "text/html": "<div>\n<style scoped>\n    .dataframe tbody tr th:only-of-type {\n        vertical-align: middle;\n    }\n\n    .dataframe tbody tr th {\n        vertical-align: top;\n    }\n\n    .dataframe thead th {\n        text-align: right;\n    }\n</style>\n<table border=\"1\" class=\"dataframe\">\n  <thead>\n    <tr style=\"text-align: right;\">\n      <th></th>\n      <th>년월</th>\n      <th>시구</th>\n      <th>시군구</th>\n      <th>계약구분</th>\n      <th>고객호수(호)</th>\n      <th>사용량(kWh)</th>\n    </tr>\n  </thead>\n  <tbody>\n    <tr>\n      <th>53</th>\n      <td>202101</td>\n      <td>대전광역시</td>\n      <td>대덕구</td>\n      <td>일반용</td>\n      <td>12,336</td>\n      <td>37,026,833</td>\n    </tr>\n    <tr>\n      <th>93</th>\n      <td>202102</td>\n      <td>대전광역시</td>\n      <td>대덕구</td>\n      <td>일반용</td>\n      <td>12,330</td>\n      <td>35,832,547</td>\n    </tr>\n    <tr>\n      <th>133</th>\n      <td>202103</td>\n      <td>대전광역시</td>\n      <td>대덕구</td>\n      <td>일반용</td>\n      <td>12,337</td>\n      <td>29,738,528</td>\n    </tr>\n    <tr>\n      <th>173</th>\n      <td>202104</td>\n      <td>대전광역시</td>\n      <td>대덕구</td>\n      <td>일반용</td>\n      <td>12,356</td>\n      <td>28,143,283</td>\n    </tr>\n    <tr>\n      <th>213</th>\n      <td>202105</td>\n      <td>대전광역시</td>\n      <td>대덕구</td>\n      <td>일반용</td>\n      <td>12,352</td>\n      <td>25,667,569</td>\n    </tr>\n    <tr>\n      <th>253</th>\n      <td>202106</td>\n      <td>대전광역시</td>\n      <td>대덕구</td>\n      <td>일반용</td>\n      <td>12,345</td>\n      <td>28,555,254</td>\n    </tr>\n    <tr>\n      <th>61</th>\n      <td>202101</td>\n      <td>대전광역시</td>\n      <td>동구</td>\n      <td>일반용</td>\n      <td>14,781</td>\n      <td>39,514,712</td>\n    </tr>\n    <tr>\n      <th>101</th>\n      <td>202102</td>\n      <td>대전광역시</td>\n      <td>동구</td>\n      <td>일반용</td>\n      <td>14,754</td>\n      <td>37,094,928</td>\n    </tr>\n    <tr>\n      <th>141</th>\n      <td>202103</td>\n      <td>대전광역시</td>\n      <td>동구</td>\n      <td>일반용</td>\n      <td>14,777</td>\n      <td>30,617,255</td>\n    </tr>\n    <tr>\n      <th>181</th>\n      <td>202104</td>\n      <td>대전광역시</td>\n      <td>동구</td>\n      <td>일반용</td>\n      <td>14,797</td>\n      <td>29,371,834</td>\n    </tr>\n    <tr>\n      <th>221</th>\n      <td>202105</td>\n      <td>대전광역시</td>\n      <td>동구</td>\n      <td>일반용</td>\n      <td>14,804</td>\n      <td>27,278,786</td>\n    </tr>\n    <tr>\n      <th>261</th>\n      <td>202106</td>\n      <td>대전광역시</td>\n      <td>동구</td>\n      <td>일반용</td>\n      <td>14,828</td>\n      <td>30,423,447</td>\n    </tr>\n    <tr>\n      <th>69</th>\n      <td>202101</td>\n      <td>대전광역시</td>\n      <td>서구</td>\n      <td>일반용</td>\n      <td>22,181</td>\n      <td>99,630,054</td>\n    </tr>\n    <tr>\n      <th>109</th>\n      <td>202102</td>\n      <td>대전광역시</td>\n      <td>서구</td>\n      <td>일반용</td>\n      <td>22,219</td>\n      <td>94,663,364</td>\n    </tr>\n    <tr>\n      <th>149</th>\n      <td>202103</td>\n      <td>대전광역시</td>\n      <td>서구</td>\n      <td>일반용</td>\n      <td>22,259</td>\n      <td>79,453,858</td>\n    </tr>\n    <tr>\n      <th>189</th>\n      <td>202104</td>\n      <td>대전광역시</td>\n      <td>서구</td>\n      <td>일반용</td>\n      <td>22,350</td>\n      <td>75,731,764</td>\n    </tr>\n    <tr>\n      <th>229</th>\n      <td>202105</td>\n      <td>대전광역시</td>\n      <td>서구</td>\n      <td>일반용</td>\n      <td>22,362</td>\n      <td>72,184,103</td>\n    </tr>\n    <tr>\n      <th>269</th>\n      <td>202106</td>\n      <td>대전광역시</td>\n      <td>서구</td>\n      <td>일반용</td>\n      <td>22,450</td>\n      <td>81,764,168</td>\n    </tr>\n    <tr>\n      <th>77</th>\n      <td>202101</td>\n      <td>대전광역시</td>\n      <td>유성구</td>\n      <td>일반용</td>\n      <td>17,485</td>\n      <td>123,646,507</td>\n    </tr>\n    <tr>\n      <th>117</th>\n      <td>202102</td>\n      <td>대전광역시</td>\n      <td>유성구</td>\n      <td>일반용</td>\n      <td>17,451</td>\n      <td>110,477,052</td>\n    </tr>\n    <tr>\n      <th>157</th>\n      <td>202103</td>\n      <td>대전광역시</td>\n      <td>유성구</td>\n      <td>일반용</td>\n      <td>17,488</td>\n      <td>100,566,844</td>\n    </tr>\n    <tr>\n      <th>197</th>\n      <td>202104</td>\n      <td>대전광역시</td>\n      <td>유성구</td>\n      <td>일반용</td>\n      <td>17,571</td>\n      <td>95,512,116</td>\n    </tr>\n    <tr>\n      <th>237</th>\n      <td>202105</td>\n      <td>대전광역시</td>\n      <td>유성구</td>\n      <td>일반용</td>\n      <td>17,594</td>\n      <td>94,192,217</td>\n    </tr>\n    <tr>\n      <th>277</th>\n      <td>202106</td>\n      <td>대전광역시</td>\n      <td>유성구</td>\n      <td>일반용</td>\n      <td>17,652</td>\n      <td>107,703,394</td>\n    </tr>\n    <tr>\n      <th>85</th>\n      <td>202101</td>\n      <td>대전광역시</td>\n      <td>중구</td>\n      <td>일반용</td>\n      <td>15,906</td>\n      <td>49,988,325</td>\n    </tr>\n    <tr>\n      <th>125</th>\n      <td>202102</td>\n      <td>대전광역시</td>\n      <td>중구</td>\n      <td>일반용</td>\n      <td>15,919</td>\n      <td>47,749,409</td>\n    </tr>\n    <tr>\n      <th>165</th>\n      <td>202103</td>\n      <td>대전광역시</td>\n      <td>중구</td>\n      <td>일반용</td>\n      <td>15,933</td>\n      <td>39,609,236</td>\n    </tr>\n    <tr>\n      <th>205</th>\n      <td>202104</td>\n      <td>대전광역시</td>\n      <td>중구</td>\n      <td>일반용</td>\n      <td>15,937</td>\n      <td>37,952,458</td>\n    </tr>\n    <tr>\n      <th>245</th>\n      <td>202105</td>\n      <td>대전광역시</td>\n      <td>중구</td>\n      <td>일반용</td>\n      <td>15,933</td>\n      <td>35,862,878</td>\n    </tr>\n    <tr>\n      <th>285</th>\n      <td>202106</td>\n      <td>대전광역시</td>\n      <td>중구</td>\n      <td>일반용</td>\n      <td>15,942</td>\n      <td>40,301,685</td>\n    </tr>\n  </tbody>\n</table>\n</div>"
     },
     "execution_count": 19,
     "metadata": {},
     "output_type": "execute_result"
    }
   ],
   "source": [
    "df_3"
   ],
   "metadata": {
    "collapsed": false,
    "pycharm": {
     "name": "#%%\n"
    }
   }
  },
  {
   "cell_type": "code",
   "execution_count": 20,
   "outputs": [],
   "source": [
    "# GyeonGiHap = pd.DataFrame([] , columns = a)\n",
    "# GyeonGiHap['사용량']= df_3['사용량(kWh)'].loc[(df_3['시군구'] == '{가평군}')]\n",
    "# GyeonGiHap"
   ],
   "metadata": {
    "collapsed": false,
    "pycharm": {
     "name": "#%%\n"
    }
   }
  },
  {
   "cell_type": "code",
   "execution_count": 21,
   "outputs": [
    {
     "name": "stdout",
     "output_type": "stream",
     "text": [
      "[37026833, 35832547, 29738528, 28143283, 25667569, 28555254]\n",
      "[39514712, 37094928, 30617255, 29371834, 27278786, 30423447]\n",
      "[99630054, 94663364, 79453858, 75731764, 72184103, 81764168]\n",
      "[123646507, 110477052, 100566844, 95512116, 94192217, 107703394]\n",
      "[49988325, 47749409, 39609236, 37952458, 35862878, 40301685]\n",
      "대전광역시 지역별 일반용 합계 :  [184964014, 194300962, 503427311, 632098130, 251463991]\n",
      "대전광역시 고객호수 평균:  [12342, 14790, 22303, 17540, 15928]\n"
     ]
    }
   ],
   "source": [
    "sum2 , sum3 =[] , []\n",
    "for k in SIGUNGU:\n",
    "    GyeonGiHap = pd.DataFrame([] , columns = a)\n",
    "    HOSU = pd.DataFrame([], columns = a)\n",
    "    GyeonGiHap['사용량']= df_3['사용량(kWh)'].loc[(df_3['시군구'] == '{}'.format(k))]\n",
    "    HOSU['고객호수']= df_3['고객호수(호)'].loc[(df_3['시군구'] == '{}'.format(k))]\n",
    "    #경기합 데이터프레임의 사용량 열에 기군구가 가평군인 사용량 데이터만 뽑아내기\n",
    "    # GyeonGiHap = GyeonGiHap['사용량']\n",
    "\n",
    "    b = GyeonGiHap['사용량'].tolist()\n",
    "    c = HOSU['고객호수'].tolist()\n",
    "\n",
    "\n",
    "    #각지역별 사용량 리스트화\n",
    "    int_list  , int_list2=[] , []\n",
    "    for i in b:\n",
    "        i = re.sub(\",\" , \"\" , i)\n",
    "        #콤마 없애기\n",
    "        int_list.append(int(i))\n",
    "        #int_list에 각지역별 사용량 int로 저장\n",
    "    print(int_list)\n",
    "    sum=0\n",
    "    for i in c:\n",
    "        i = re.sub(\",\" , \"\" , i)\n",
    "        int_list2.append(int(i))\n",
    "\n",
    "    for j in int_list:\n",
    "\n",
    "        sum+= j\n",
    "    sum2.append(sum)\n",
    "    sum = 0\n",
    "    for j in int_list2: #고객호수 추출하여 더하기\n",
    "\n",
    "        sum+= j\n",
    "    sum3.append(sum//6) #6개월 치로 나눠야하나?!\n",
    "\n",
    "\n",
    "\n",
    "\n",
    "print(\"{} 지역별 일반용 합계 : \".format(City) , sum2)\n",
    "print(\"{} 고객호수 평균: \".format(City) , sum3)\n",
    "# GyeonGiHap['합계'] = sum\n",
    "#\n",
    "# GyeonGiHap"
   ],
   "metadata": {
    "collapsed": false,
    "pycharm": {
     "name": "#%%\n"
    }
   }
  },
  {
   "cell_type": "code",
   "execution_count": 22,
   "outputs": [],
   "source": [
    "# df_3 = df_3.loc[(df_3['시군구'] == '가평군')]\n",
    "#\n",
    "# df_3"
   ],
   "metadata": {
    "collapsed": false,
    "pycharm": {
     "name": "#%%\n"
    }
   }
  },
  {
   "cell_type": "code",
   "execution_count": 23,
   "outputs": [],
   "source": [
    "# GyeonGiHap = df_3.copy()\n",
    "# GyeonGiHap.reset_index(drop=True , inplace = True)\n",
    "# GyeonGiHap.append({'년월' : '202107-202112'  , '시구' : '경기도' , '시군구' : '가평군' , '계약구분' : '일반용' , '사용량(kWh)' : sum}, ignore_index=True)"
   ],
   "metadata": {
    "collapsed": false,
    "pycharm": {
     "name": "#%%\n"
    }
   }
  },
  {
   "cell_type": "code",
   "execution_count": 24,
   "outputs": [],
   "source": [
    "# a=[]\n",
    "# for i in SIGUNGU:\n",
    "#     a.append(i)\n",
    "#\n",
    "# print(a)"
   ],
   "metadata": {
    "collapsed": false,
    "pycharm": {
     "name": "#%%\n"
    }
   }
  },
  {
   "cell_type": "markdown",
   "source": [
    "### 4. 년월 체크!!!!!!!!!!!!!!!!!!!!!!!!!!!!!!!!!!!!!!!!!!!!!!!!!!!!!!!!!!!!!!!!!"
   ],
   "metadata": {
    "collapsed": false,
    "pycharm": {
     "name": "#%% md\n"
    }
   }
  },
  {
   "cell_type": "code",
   "execution_count": 25,
   "outputs": [
    {
     "name": "stderr",
     "output_type": "stream",
     "text": [
      "C:\\Users\\user\\AppData\\Local\\Temp\\ipykernel_17676\\1152688266.py:4: FutureWarning: The frame.append method is deprecated and will be removed from pandas in a future version. Use pandas.concat instead.\n",
      "  GyeonGiHap2 = GyeonGiHap2.append({'년월' :'202101-202106'  , '시구' : '{}'.format(City) , '시군구' : '{}'.format(SIGUNGU[i]) , '계약구분' : '일반용' , '고객호수(호)' : sum3[i] ,  '사용량(kWh)' : sum2[i]} , ignore_index=True) #년월 파일마다 수정하기\n",
      "C:\\Users\\user\\AppData\\Local\\Temp\\ipykernel_17676\\1152688266.py:4: FutureWarning: The frame.append method is deprecated and will be removed from pandas in a future version. Use pandas.concat instead.\n",
      "  GyeonGiHap2 = GyeonGiHap2.append({'년월' :'202101-202106'  , '시구' : '{}'.format(City) , '시군구' : '{}'.format(SIGUNGU[i]) , '계약구분' : '일반용' , '고객호수(호)' : sum3[i] ,  '사용량(kWh)' : sum2[i]} , ignore_index=True) #년월 파일마다 수정하기\n",
      "C:\\Users\\user\\AppData\\Local\\Temp\\ipykernel_17676\\1152688266.py:4: FutureWarning: The frame.append method is deprecated and will be removed from pandas in a future version. Use pandas.concat instead.\n",
      "  GyeonGiHap2 = GyeonGiHap2.append({'년월' :'202101-202106'  , '시구' : '{}'.format(City) , '시군구' : '{}'.format(SIGUNGU[i]) , '계약구분' : '일반용' , '고객호수(호)' : sum3[i] ,  '사용량(kWh)' : sum2[i]} , ignore_index=True) #년월 파일마다 수정하기\n",
      "C:\\Users\\user\\AppData\\Local\\Temp\\ipykernel_17676\\1152688266.py:4: FutureWarning: The frame.append method is deprecated and will be removed from pandas in a future version. Use pandas.concat instead.\n",
      "  GyeonGiHap2 = GyeonGiHap2.append({'년월' :'202101-202106'  , '시구' : '{}'.format(City) , '시군구' : '{}'.format(SIGUNGU[i]) , '계약구분' : '일반용' , '고객호수(호)' : sum3[i] ,  '사용량(kWh)' : sum2[i]} , ignore_index=True) #년월 파일마다 수정하기\n",
      "C:\\Users\\user\\AppData\\Local\\Temp\\ipykernel_17676\\1152688266.py:4: FutureWarning: The frame.append method is deprecated and will be removed from pandas in a future version. Use pandas.concat instead.\n",
      "  GyeonGiHap2 = GyeonGiHap2.append({'년월' :'202101-202106'  , '시구' : '{}'.format(City) , '시군구' : '{}'.format(SIGUNGU[i]) , '계약구분' : '일반용' , '고객호수(호)' : sum3[i] ,  '사용량(kWh)' : sum2[i]} , ignore_index=True) #년월 파일마다 수정하기\n"
     ]
    },
    {
     "data": {
      "text/plain": "               년월     시구  시군구 계약구분  고객호수(호)      사용량(kWh)\n0          202101  대전광역시  대덕구  일반용  12,336    37,026,833 \n1          202102  대전광역시  대덕구  일반용  12,330    35,832,547 \n2          202103  대전광역시  대덕구  일반용  12,337    29,738,528 \n3          202104  대전광역시  대덕구  일반용  12,356    28,143,283 \n4          202105  대전광역시  대덕구  일반용  12,352    25,667,569 \n5          202106  대전광역시  대덕구  일반용  12,345    28,555,254 \n6          202101  대전광역시   동구  일반용  14,781    39,514,712 \n7          202102  대전광역시   동구  일반용  14,754    37,094,928 \n8          202103  대전광역시   동구  일반용  14,777    30,617,255 \n9          202104  대전광역시   동구  일반용  14,797    29,371,834 \n10         202105  대전광역시   동구  일반용  14,804    27,278,786 \n11         202106  대전광역시   동구  일반용  14,828    30,423,447 \n12         202101  대전광역시   서구  일반용  22,181    99,630,054 \n13         202102  대전광역시   서구  일반용  22,219    94,663,364 \n14         202103  대전광역시   서구  일반용  22,259    79,453,858 \n15         202104  대전광역시   서구  일반용  22,350    75,731,764 \n16         202105  대전광역시   서구  일반용  22,362    72,184,103 \n17         202106  대전광역시   서구  일반용  22,450    81,764,168 \n18         202101  대전광역시  유성구  일반용  17,485   123,646,507 \n19         202102  대전광역시  유성구  일반용  17,451   110,477,052 \n20         202103  대전광역시  유성구  일반용  17,488   100,566,844 \n21         202104  대전광역시  유성구  일반용  17,571    95,512,116 \n22         202105  대전광역시  유성구  일반용  17,594    94,192,217 \n23         202106  대전광역시  유성구  일반용  17,652   107,703,394 \n24         202101  대전광역시   중구  일반용  15,906    49,988,325 \n25         202102  대전광역시   중구  일반용  15,919    47,749,409 \n26         202103  대전광역시   중구  일반용  15,933    39,609,236 \n27         202104  대전광역시   중구  일반용  15,937    37,952,458 \n28         202105  대전광역시   중구  일반용  15,933    35,862,878 \n29         202106  대전광역시   중구  일반용  15,942    40,301,685 \n30  202101-202106  대전광역시  대덕구  일반용    12342     184964014\n31  202101-202106  대전광역시   동구  일반용    14790     194300962\n32  202101-202106  대전광역시   서구  일반용    22303     503427311\n33  202101-202106  대전광역시  유성구  일반용    17540     632098130\n34  202101-202106  대전광역시   중구  일반용    15928     251463991",
      "text/html": "<div>\n<style scoped>\n    .dataframe tbody tr th:only-of-type {\n        vertical-align: middle;\n    }\n\n    .dataframe tbody tr th {\n        vertical-align: top;\n    }\n\n    .dataframe thead th {\n        text-align: right;\n    }\n</style>\n<table border=\"1\" class=\"dataframe\">\n  <thead>\n    <tr style=\"text-align: right;\">\n      <th></th>\n      <th>년월</th>\n      <th>시구</th>\n      <th>시군구</th>\n      <th>계약구분</th>\n      <th>고객호수(호)</th>\n      <th>사용량(kWh)</th>\n    </tr>\n  </thead>\n  <tbody>\n    <tr>\n      <th>0</th>\n      <td>202101</td>\n      <td>대전광역시</td>\n      <td>대덕구</td>\n      <td>일반용</td>\n      <td>12,336</td>\n      <td>37,026,833</td>\n    </tr>\n    <tr>\n      <th>1</th>\n      <td>202102</td>\n      <td>대전광역시</td>\n      <td>대덕구</td>\n      <td>일반용</td>\n      <td>12,330</td>\n      <td>35,832,547</td>\n    </tr>\n    <tr>\n      <th>2</th>\n      <td>202103</td>\n      <td>대전광역시</td>\n      <td>대덕구</td>\n      <td>일반용</td>\n      <td>12,337</td>\n      <td>29,738,528</td>\n    </tr>\n    <tr>\n      <th>3</th>\n      <td>202104</td>\n      <td>대전광역시</td>\n      <td>대덕구</td>\n      <td>일반용</td>\n      <td>12,356</td>\n      <td>28,143,283</td>\n    </tr>\n    <tr>\n      <th>4</th>\n      <td>202105</td>\n      <td>대전광역시</td>\n      <td>대덕구</td>\n      <td>일반용</td>\n      <td>12,352</td>\n      <td>25,667,569</td>\n    </tr>\n    <tr>\n      <th>5</th>\n      <td>202106</td>\n      <td>대전광역시</td>\n      <td>대덕구</td>\n      <td>일반용</td>\n      <td>12,345</td>\n      <td>28,555,254</td>\n    </tr>\n    <tr>\n      <th>6</th>\n      <td>202101</td>\n      <td>대전광역시</td>\n      <td>동구</td>\n      <td>일반용</td>\n      <td>14,781</td>\n      <td>39,514,712</td>\n    </tr>\n    <tr>\n      <th>7</th>\n      <td>202102</td>\n      <td>대전광역시</td>\n      <td>동구</td>\n      <td>일반용</td>\n      <td>14,754</td>\n      <td>37,094,928</td>\n    </tr>\n    <tr>\n      <th>8</th>\n      <td>202103</td>\n      <td>대전광역시</td>\n      <td>동구</td>\n      <td>일반용</td>\n      <td>14,777</td>\n      <td>30,617,255</td>\n    </tr>\n    <tr>\n      <th>9</th>\n      <td>202104</td>\n      <td>대전광역시</td>\n      <td>동구</td>\n      <td>일반용</td>\n      <td>14,797</td>\n      <td>29,371,834</td>\n    </tr>\n    <tr>\n      <th>10</th>\n      <td>202105</td>\n      <td>대전광역시</td>\n      <td>동구</td>\n      <td>일반용</td>\n      <td>14,804</td>\n      <td>27,278,786</td>\n    </tr>\n    <tr>\n      <th>11</th>\n      <td>202106</td>\n      <td>대전광역시</td>\n      <td>동구</td>\n      <td>일반용</td>\n      <td>14,828</td>\n      <td>30,423,447</td>\n    </tr>\n    <tr>\n      <th>12</th>\n      <td>202101</td>\n      <td>대전광역시</td>\n      <td>서구</td>\n      <td>일반용</td>\n      <td>22,181</td>\n      <td>99,630,054</td>\n    </tr>\n    <tr>\n      <th>13</th>\n      <td>202102</td>\n      <td>대전광역시</td>\n      <td>서구</td>\n      <td>일반용</td>\n      <td>22,219</td>\n      <td>94,663,364</td>\n    </tr>\n    <tr>\n      <th>14</th>\n      <td>202103</td>\n      <td>대전광역시</td>\n      <td>서구</td>\n      <td>일반용</td>\n      <td>22,259</td>\n      <td>79,453,858</td>\n    </tr>\n    <tr>\n      <th>15</th>\n      <td>202104</td>\n      <td>대전광역시</td>\n      <td>서구</td>\n      <td>일반용</td>\n      <td>22,350</td>\n      <td>75,731,764</td>\n    </tr>\n    <tr>\n      <th>16</th>\n      <td>202105</td>\n      <td>대전광역시</td>\n      <td>서구</td>\n      <td>일반용</td>\n      <td>22,362</td>\n      <td>72,184,103</td>\n    </tr>\n    <tr>\n      <th>17</th>\n      <td>202106</td>\n      <td>대전광역시</td>\n      <td>서구</td>\n      <td>일반용</td>\n      <td>22,450</td>\n      <td>81,764,168</td>\n    </tr>\n    <tr>\n      <th>18</th>\n      <td>202101</td>\n      <td>대전광역시</td>\n      <td>유성구</td>\n      <td>일반용</td>\n      <td>17,485</td>\n      <td>123,646,507</td>\n    </tr>\n    <tr>\n      <th>19</th>\n      <td>202102</td>\n      <td>대전광역시</td>\n      <td>유성구</td>\n      <td>일반용</td>\n      <td>17,451</td>\n      <td>110,477,052</td>\n    </tr>\n    <tr>\n      <th>20</th>\n      <td>202103</td>\n      <td>대전광역시</td>\n      <td>유성구</td>\n      <td>일반용</td>\n      <td>17,488</td>\n      <td>100,566,844</td>\n    </tr>\n    <tr>\n      <th>21</th>\n      <td>202104</td>\n      <td>대전광역시</td>\n      <td>유성구</td>\n      <td>일반용</td>\n      <td>17,571</td>\n      <td>95,512,116</td>\n    </tr>\n    <tr>\n      <th>22</th>\n      <td>202105</td>\n      <td>대전광역시</td>\n      <td>유성구</td>\n      <td>일반용</td>\n      <td>17,594</td>\n      <td>94,192,217</td>\n    </tr>\n    <tr>\n      <th>23</th>\n      <td>202106</td>\n      <td>대전광역시</td>\n      <td>유성구</td>\n      <td>일반용</td>\n      <td>17,652</td>\n      <td>107,703,394</td>\n    </tr>\n    <tr>\n      <th>24</th>\n      <td>202101</td>\n      <td>대전광역시</td>\n      <td>중구</td>\n      <td>일반용</td>\n      <td>15,906</td>\n      <td>49,988,325</td>\n    </tr>\n    <tr>\n      <th>25</th>\n      <td>202102</td>\n      <td>대전광역시</td>\n      <td>중구</td>\n      <td>일반용</td>\n      <td>15,919</td>\n      <td>47,749,409</td>\n    </tr>\n    <tr>\n      <th>26</th>\n      <td>202103</td>\n      <td>대전광역시</td>\n      <td>중구</td>\n      <td>일반용</td>\n      <td>15,933</td>\n      <td>39,609,236</td>\n    </tr>\n    <tr>\n      <th>27</th>\n      <td>202104</td>\n      <td>대전광역시</td>\n      <td>중구</td>\n      <td>일반용</td>\n      <td>15,937</td>\n      <td>37,952,458</td>\n    </tr>\n    <tr>\n      <th>28</th>\n      <td>202105</td>\n      <td>대전광역시</td>\n      <td>중구</td>\n      <td>일반용</td>\n      <td>15,933</td>\n      <td>35,862,878</td>\n    </tr>\n    <tr>\n      <th>29</th>\n      <td>202106</td>\n      <td>대전광역시</td>\n      <td>중구</td>\n      <td>일반용</td>\n      <td>15,942</td>\n      <td>40,301,685</td>\n    </tr>\n    <tr>\n      <th>30</th>\n      <td>202101-202106</td>\n      <td>대전광역시</td>\n      <td>대덕구</td>\n      <td>일반용</td>\n      <td>12342</td>\n      <td>184964014</td>\n    </tr>\n    <tr>\n      <th>31</th>\n      <td>202101-202106</td>\n      <td>대전광역시</td>\n      <td>동구</td>\n      <td>일반용</td>\n      <td>14790</td>\n      <td>194300962</td>\n    </tr>\n    <tr>\n      <th>32</th>\n      <td>202101-202106</td>\n      <td>대전광역시</td>\n      <td>서구</td>\n      <td>일반용</td>\n      <td>22303</td>\n      <td>503427311</td>\n    </tr>\n    <tr>\n      <th>33</th>\n      <td>202101-202106</td>\n      <td>대전광역시</td>\n      <td>유성구</td>\n      <td>일반용</td>\n      <td>17540</td>\n      <td>632098130</td>\n    </tr>\n    <tr>\n      <th>34</th>\n      <td>202101-202106</td>\n      <td>대전광역시</td>\n      <td>중구</td>\n      <td>일반용</td>\n      <td>15928</td>\n      <td>251463991</td>\n    </tr>\n  </tbody>\n</table>\n</div>"
     },
     "execution_count": 25,
     "metadata": {},
     "output_type": "execute_result"
    }
   ],
   "source": [
    "GyeonGiHap2 = df_3.copy()\n",
    "GyeonGiHap2.reset_index(drop=True , inplace = True)\n",
    "for i in range(len(SIGUNGU)):\n",
    "    GyeonGiHap2 = GyeonGiHap2.append({'년월' :'202101-202106'  , '시구' : '{}'.format(City) , '시군구' : '{}'.format(SIGUNGU[i]) , '계약구분' : '일반용' , '고객호수(호)' : sum3[i] ,  '사용량(kWh)' : sum2[i]} , ignore_index=True) #년월 파일마다 수정하기\n",
    "GyeonGiHap2"
   ],
   "metadata": {
    "collapsed": false,
    "pycharm": {
     "name": "#%%\n"
    }
   }
  },
  {
   "cell_type": "markdown",
   "source": [
    "### 5. 날짜 체크!!!!!!!!!!!!!!!!!!!!!!!!!!!!!!!!!!!!!!!!!!!!!!!!!!!!"
   ],
   "metadata": {
    "collapsed": false,
    "pycharm": {
     "name": "#%% md\n"
    }
   }
  },
  {
   "cell_type": "code",
   "execution_count": 26,
   "outputs": [
    {
     "data": {
      "text/plain": "               년월     시구  시군구 계약구분 고객호수(호)   사용량(kWh)\n30  202101-202106  대전광역시  대덕구  일반용   12342  184964014\n31  202101-202106  대전광역시   동구  일반용   14790  194300962\n32  202101-202106  대전광역시   서구  일반용   22303  503427311\n33  202101-202106  대전광역시  유성구  일반용   17540  632098130\n34  202101-202106  대전광역시   중구  일반용   15928  251463991",
      "text/html": "<div>\n<style scoped>\n    .dataframe tbody tr th:only-of-type {\n        vertical-align: middle;\n    }\n\n    .dataframe tbody tr th {\n        vertical-align: top;\n    }\n\n    .dataframe thead th {\n        text-align: right;\n    }\n</style>\n<table border=\"1\" class=\"dataframe\">\n  <thead>\n    <tr style=\"text-align: right;\">\n      <th></th>\n      <th>년월</th>\n      <th>시구</th>\n      <th>시군구</th>\n      <th>계약구분</th>\n      <th>고객호수(호)</th>\n      <th>사용량(kWh)</th>\n    </tr>\n  </thead>\n  <tbody>\n    <tr>\n      <th>30</th>\n      <td>202101-202106</td>\n      <td>대전광역시</td>\n      <td>대덕구</td>\n      <td>일반용</td>\n      <td>12342</td>\n      <td>184964014</td>\n    </tr>\n    <tr>\n      <th>31</th>\n      <td>202101-202106</td>\n      <td>대전광역시</td>\n      <td>동구</td>\n      <td>일반용</td>\n      <td>14790</td>\n      <td>194300962</td>\n    </tr>\n    <tr>\n      <th>32</th>\n      <td>202101-202106</td>\n      <td>대전광역시</td>\n      <td>서구</td>\n      <td>일반용</td>\n      <td>22303</td>\n      <td>503427311</td>\n    </tr>\n    <tr>\n      <th>33</th>\n      <td>202101-202106</td>\n      <td>대전광역시</td>\n      <td>유성구</td>\n      <td>일반용</td>\n      <td>17540</td>\n      <td>632098130</td>\n    </tr>\n    <tr>\n      <th>34</th>\n      <td>202101-202106</td>\n      <td>대전광역시</td>\n      <td>중구</td>\n      <td>일반용</td>\n      <td>15928</td>\n      <td>251463991</td>\n    </tr>\n  </tbody>\n</table>\n</div>"
     },
     "execution_count": 26,
     "metadata": {},
     "output_type": "execute_result"
    }
   ],
   "source": [
    "GyeonGiHap2 = GyeonGiHap2.loc[GyeonGiHap2['년월'] == '202101-202106']\n",
    "GyeonGiHap2"
   ],
   "metadata": {
    "collapsed": false,
    "pycharm": {
     "name": "#%%\n"
    }
   }
  },
  {
   "cell_type": "code",
   "execution_count": 27,
   "outputs": [
    {
     "data": {
      "text/plain": "               년월     시구  시군구 계약구분 고객호수(호)    사용량(kWh)\n30  202101-202106  대전광역시  대덕구  일반용   12342   184964014\n30  202101-202106  대전광역시  대덕구   합계   13926  1377849259\n31  202101-202106  대전광역시   동구  일반용   14790   194300962\n31  202101-202106  대전광역시   동구   합계   20233   464784713\n32  202101-202106  대전광역시   서구  일반용   22303   503427311\n32  202101-202106  대전광역시   서구   합계   28724   933294078\n33  202101-202106  대전광역시  유성구  일반용   17540   632098130\n33  202101-202106  대전광역시  유성구   합계   18529  1513259148\n34  202101-202106  대전광역시   중구  일반용   15928   251463991\n34  202101-202106  대전광역시   중구   합계   17319   477719266",
      "text/html": "<div>\n<style scoped>\n    .dataframe tbody tr th:only-of-type {\n        vertical-align: middle;\n    }\n\n    .dataframe tbody tr th {\n        vertical-align: top;\n    }\n\n    .dataframe thead th {\n        text-align: right;\n    }\n</style>\n<table border=\"1\" class=\"dataframe\">\n  <thead>\n    <tr style=\"text-align: right;\">\n      <th></th>\n      <th>년월</th>\n      <th>시구</th>\n      <th>시군구</th>\n      <th>계약구분</th>\n      <th>고객호수(호)</th>\n      <th>사용량(kWh)</th>\n    </tr>\n  </thead>\n  <tbody>\n    <tr>\n      <th>30</th>\n      <td>202101-202106</td>\n      <td>대전광역시</td>\n      <td>대덕구</td>\n      <td>일반용</td>\n      <td>12342</td>\n      <td>184964014</td>\n    </tr>\n    <tr>\n      <th>30</th>\n      <td>202101-202106</td>\n      <td>대전광역시</td>\n      <td>대덕구</td>\n      <td>합계</td>\n      <td>13926</td>\n      <td>1377849259</td>\n    </tr>\n    <tr>\n      <th>31</th>\n      <td>202101-202106</td>\n      <td>대전광역시</td>\n      <td>동구</td>\n      <td>일반용</td>\n      <td>14790</td>\n      <td>194300962</td>\n    </tr>\n    <tr>\n      <th>31</th>\n      <td>202101-202106</td>\n      <td>대전광역시</td>\n      <td>동구</td>\n      <td>합계</td>\n      <td>20233</td>\n      <td>464784713</td>\n    </tr>\n    <tr>\n      <th>32</th>\n      <td>202101-202106</td>\n      <td>대전광역시</td>\n      <td>서구</td>\n      <td>일반용</td>\n      <td>22303</td>\n      <td>503427311</td>\n    </tr>\n    <tr>\n      <th>32</th>\n      <td>202101-202106</td>\n      <td>대전광역시</td>\n      <td>서구</td>\n      <td>합계</td>\n      <td>28724</td>\n      <td>933294078</td>\n    </tr>\n    <tr>\n      <th>33</th>\n      <td>202101-202106</td>\n      <td>대전광역시</td>\n      <td>유성구</td>\n      <td>일반용</td>\n      <td>17540</td>\n      <td>632098130</td>\n    </tr>\n    <tr>\n      <th>33</th>\n      <td>202101-202106</td>\n      <td>대전광역시</td>\n      <td>유성구</td>\n      <td>합계</td>\n      <td>18529</td>\n      <td>1513259148</td>\n    </tr>\n    <tr>\n      <th>34</th>\n      <td>202101-202106</td>\n      <td>대전광역시</td>\n      <td>중구</td>\n      <td>일반용</td>\n      <td>15928</td>\n      <td>251463991</td>\n    </tr>\n    <tr>\n      <th>34</th>\n      <td>202101-202106</td>\n      <td>대전광역시</td>\n      <td>중구</td>\n      <td>합계</td>\n      <td>17319</td>\n      <td>477719266</td>\n    </tr>\n  </tbody>\n</table>\n</div>"
     },
     "execution_count": 27,
     "metadata": {},
     "output_type": "execute_result"
    }
   ],
   "source": [
    "Final = pd.concat([GyeonGiHap2 , Hap])\n",
    "Final = Final.sort_values('시군구')\n",
    "Final"
   ],
   "metadata": {
    "collapsed": false,
    "pycharm": {
     "name": "#%%\n"
    }
   }
  },
  {
   "cell_type": "code",
   "execution_count": 28,
   "outputs": [
    {
     "data": {
      "text/plain": "[184964014, 194300962, 503427311, 632098130, 251463991]"
     },
     "execution_count": 28,
     "metadata": {},
     "output_type": "execute_result"
    }
   ],
   "source": [
    "# Final['일반용 전기의 비율'] = (Final['사용량(kWh)'].loc[Final['계약구분'] == '일반용']) // (Final['사용량(kWh)'].loc[Final['계약구분'] == '합계'])\n",
    "# Final\n",
    "ex = (Final['사용량(kWh)'].loc[Final['계약구분'] == '일반용']).tolist()\n",
    "\n",
    "\n",
    "ex\n"
   ],
   "metadata": {
    "collapsed": false,
    "pycharm": {
     "name": "#%%\n"
    }
   }
  },
  {
   "cell_type": "code",
   "execution_count": 29,
   "outputs": [
    {
     "data": {
      "text/plain": "[1377849259, 464784713, 933294078, 1513259148, 477719266]"
     },
     "execution_count": 29,
     "metadata": {},
     "output_type": "execute_result"
    }
   ],
   "source": [
    "ex_2 =(Final['사용량(kWh)'].loc[Final['계약구분'] == '합계']).tolist()\n",
    "ex_2"
   ],
   "metadata": {
    "collapsed": false,
    "pycharm": {
     "name": "#%%\n"
    }
   }
  },
  {
   "cell_type": "code",
   "execution_count": 30,
   "outputs": [
    {
     "name": "stdout",
     "output_type": "stream",
     "text": [
      "[13.42, 41.8, 53.94, 41.77, 52.64]\n"
     ]
    }
   ],
   "source": [
    "Rate = []\n",
    "ilban = []\n",
    "rae = 0\n",
    "for i in range(len(ex)):\n",
    "    rae = round(ex[i] / ex_2[i] *100 ,2)\n",
    "    Rate.append(rae)\n",
    "print(Rate)"
   ],
   "metadata": {
    "collapsed": false,
    "pycharm": {
     "name": "#%%\n"
    }
   }
  },
  {
   "cell_type": "code",
   "execution_count": 31,
   "outputs": [
    {
     "data": {
      "text/plain": "0   13\n1   42\n2   54\n3   42\n4   53\ndtype: float64"
     },
     "execution_count": 31,
     "metadata": {},
     "output_type": "execute_result"
    }
   ],
   "source": [
    "Rate3 = pd.Series(Rate)\n",
    "Rate3\n",
    "\n",
    "# Final = pd.concat([Final , Rate3])\n",
    "# Final"
   ],
   "metadata": {
    "collapsed": false,
    "pycharm": {
     "name": "#%%\n"
    }
   }
  },
  {
   "cell_type": "code",
   "execution_count": 32,
   "outputs": [
    {
     "data": {
      "text/plain": "   시군구 계약구분  비율\n0  대덕구  일반용  13\n1   동구  일반용  42\n2   서구  일반용  54\n3  유성구  일반용  42\n4   중구  일반용  53",
      "text/html": "<div>\n<style scoped>\n    .dataframe tbody tr th:only-of-type {\n        vertical-align: middle;\n    }\n\n    .dataframe tbody tr th {\n        vertical-align: top;\n    }\n\n    .dataframe thead th {\n        text-align: right;\n    }\n</style>\n<table border=\"1\" class=\"dataframe\">\n  <thead>\n    <tr style=\"text-align: right;\">\n      <th></th>\n      <th>시군구</th>\n      <th>계약구분</th>\n      <th>비율</th>\n    </tr>\n  </thead>\n  <tbody>\n    <tr>\n      <th>0</th>\n      <td>대덕구</td>\n      <td>일반용</td>\n      <td>13</td>\n    </tr>\n    <tr>\n      <th>1</th>\n      <td>동구</td>\n      <td>일반용</td>\n      <td>42</td>\n    </tr>\n    <tr>\n      <th>2</th>\n      <td>서구</td>\n      <td>일반용</td>\n      <td>54</td>\n    </tr>\n    <tr>\n      <th>3</th>\n      <td>유성구</td>\n      <td>일반용</td>\n      <td>42</td>\n    </tr>\n    <tr>\n      <th>4</th>\n      <td>중구</td>\n      <td>일반용</td>\n      <td>53</td>\n    </tr>\n  </tbody>\n</table>\n</div>"
     },
     "execution_count": 32,
     "metadata": {},
     "output_type": "execute_result"
    }
   ],
   "source": [
    "for j in range(len(Rate)):\n",
    "    ilban.append('일반용')\n",
    "#print(Rate)\n",
    "\n",
    "Rate2 = pd.DataFrame()\n",
    "Rate2['시군구'] = pd.DataFrame(SIGUNGU)\n",
    "Rate2['계약구분'] = pd.DataFrame(ilban)\n",
    "Rate2['비율'] = pd.DataFrame(Rate)\n",
    "Rate2\n",
    "#print(Rate2.dtypes)"
   ],
   "metadata": {
    "collapsed": false,
    "pycharm": {
     "name": "#%%\n"
    }
   }
  },
  {
   "cell_type": "code",
   "execution_count": 33,
   "outputs": [
    {
     "data": {
      "text/plain": "              년월     시구  시군구 계약구분 고객호수(호)    사용량(kWh)  비율\n0  202101-202106  대전광역시  대덕구  일반용   12342   184964014  13\n1  202101-202106  대전광역시  대덕구   합계   13926  1377849259 NaN\n2  202101-202106  대전광역시   동구  일반용   14790   194300962  42\n3  202101-202106  대전광역시   동구   합계   20233   464784713 NaN\n4  202101-202106  대전광역시   서구  일반용   22303   503427311  54\n5  202101-202106  대전광역시   서구   합계   28724   933294078 NaN\n6  202101-202106  대전광역시  유성구  일반용   17540   632098130  42\n7  202101-202106  대전광역시  유성구   합계   18529  1513259148 NaN\n8  202101-202106  대전광역시   중구  일반용   15928   251463991  53\n9  202101-202106  대전광역시   중구   합계   17319   477719266 NaN",
      "text/html": "<div>\n<style scoped>\n    .dataframe tbody tr th:only-of-type {\n        vertical-align: middle;\n    }\n\n    .dataframe tbody tr th {\n        vertical-align: top;\n    }\n\n    .dataframe thead th {\n        text-align: right;\n    }\n</style>\n<table border=\"1\" class=\"dataframe\">\n  <thead>\n    <tr style=\"text-align: right;\">\n      <th></th>\n      <th>년월</th>\n      <th>시구</th>\n      <th>시군구</th>\n      <th>계약구분</th>\n      <th>고객호수(호)</th>\n      <th>사용량(kWh)</th>\n      <th>비율</th>\n    </tr>\n  </thead>\n  <tbody>\n    <tr>\n      <th>0</th>\n      <td>202101-202106</td>\n      <td>대전광역시</td>\n      <td>대덕구</td>\n      <td>일반용</td>\n      <td>12342</td>\n      <td>184964014</td>\n      <td>13</td>\n    </tr>\n    <tr>\n      <th>1</th>\n      <td>202101-202106</td>\n      <td>대전광역시</td>\n      <td>대덕구</td>\n      <td>합계</td>\n      <td>13926</td>\n      <td>1377849259</td>\n      <td>NaN</td>\n    </tr>\n    <tr>\n      <th>2</th>\n      <td>202101-202106</td>\n      <td>대전광역시</td>\n      <td>동구</td>\n      <td>일반용</td>\n      <td>14790</td>\n      <td>194300962</td>\n      <td>42</td>\n    </tr>\n    <tr>\n      <th>3</th>\n      <td>202101-202106</td>\n      <td>대전광역시</td>\n      <td>동구</td>\n      <td>합계</td>\n      <td>20233</td>\n      <td>464784713</td>\n      <td>NaN</td>\n    </tr>\n    <tr>\n      <th>4</th>\n      <td>202101-202106</td>\n      <td>대전광역시</td>\n      <td>서구</td>\n      <td>일반용</td>\n      <td>22303</td>\n      <td>503427311</td>\n      <td>54</td>\n    </tr>\n    <tr>\n      <th>5</th>\n      <td>202101-202106</td>\n      <td>대전광역시</td>\n      <td>서구</td>\n      <td>합계</td>\n      <td>28724</td>\n      <td>933294078</td>\n      <td>NaN</td>\n    </tr>\n    <tr>\n      <th>6</th>\n      <td>202101-202106</td>\n      <td>대전광역시</td>\n      <td>유성구</td>\n      <td>일반용</td>\n      <td>17540</td>\n      <td>632098130</td>\n      <td>42</td>\n    </tr>\n    <tr>\n      <th>7</th>\n      <td>202101-202106</td>\n      <td>대전광역시</td>\n      <td>유성구</td>\n      <td>합계</td>\n      <td>18529</td>\n      <td>1513259148</td>\n      <td>NaN</td>\n    </tr>\n    <tr>\n      <th>8</th>\n      <td>202101-202106</td>\n      <td>대전광역시</td>\n      <td>중구</td>\n      <td>일반용</td>\n      <td>15928</td>\n      <td>251463991</td>\n      <td>53</td>\n    </tr>\n    <tr>\n      <th>9</th>\n      <td>202101-202106</td>\n      <td>대전광역시</td>\n      <td>중구</td>\n      <td>합계</td>\n      <td>17319</td>\n      <td>477719266</td>\n      <td>NaN</td>\n    </tr>\n  </tbody>\n</table>\n</div>"
     },
     "execution_count": 33,
     "metadata": {},
     "output_type": "execute_result"
    }
   ],
   "source": [
    "Final = pd.merge(Final , Rate2, on=['시군구', '계약구분'] , how='left')\n",
    "\n",
    "#Final.drop(['비율_y]' , axis = 1 , inplace = True)\n",
    "#Final.rename(columns={'비율_y':'전체 계약종별 전력사용량 대비 일반용 사용량 비율'})\n",
    "Final = Final.sort_values(['시군구' , '계약구분'])\n",
    "Final"
   ],
   "metadata": {
    "collapsed": false,
    "pycharm": {
     "name": "#%%\n"
    }
   }
  },
  {
   "cell_type": "code",
   "execution_count": 34,
   "outputs": [],
   "source": [
    "# Final['일반용 전기의 비율'] = Final.append(Rate)\n",
    "# Final"
   ],
   "metadata": {
    "collapsed": false,
    "pycharm": {
     "name": "#%%\n"
    }
   }
  },
  {
   "cell_type": "markdown",
   "source": [
    "### 6. 날짜 체크!!!!!!!!!!!!!!!!!!!!1"
   ],
   "metadata": {
    "collapsed": false,
    "pycharm": {
     "name": "#%% md\n"
    }
   }
  },
  {
   "cell_type": "code",
   "execution_count": 35,
   "outputs": [],
   "source": [
    "Final.to_csv(\"{}_일반용_전력사용량_2101-06.csv\".format(City) , mode = 'w' , encoding= 'cp949' , index =False) #파일명 수정"
   ],
   "metadata": {
    "collapsed": false,
    "pycharm": {
     "name": "#%%\n"
    }
   }
  },
  {
   "cell_type": "code",
   "execution_count": 35,
   "outputs": [],
   "source": [],
   "metadata": {
    "collapsed": false,
    "pycharm": {
     "name": "#%%\n"
    }
   }
  },
  {
   "cell_type": "code",
   "execution_count": 36,
   "outputs": [],
   "source": [
    "# Sigu = list(set(df_3['시군구'].tolist()))\n",
    "#\n",
    "# Sigu.sort()\n",
    "#\n",
    "# Sigu"
   ],
   "metadata": {
    "collapsed": false,
    "pycharm": {
     "name": "#%%\n"
    }
   }
  },
  {
   "cell_type": "code",
   "execution_count": 37,
   "outputs": [],
   "source": [
    "# YearMonth = list(set(df_3['년월'].tolist()))\n",
    "#\n",
    "# YearMonth.sort()\n",
    "# YearMonth"
   ],
   "metadata": {
    "collapsed": false,
    "pycharm": {
     "name": "#%%\n"
    }
   }
  },
  {
   "cell_type": "code",
   "execution_count": 38,
   "outputs": [],
   "source": [
    "# Gayeak = list(set(df_3['계약구분'].tolist()))\n",
    "#\n",
    "# Gayeak.sort()\n",
    "# Gayeak"
   ],
   "metadata": {
    "collapsed": false,
    "pycharm": {
     "name": "#%%\n"
    }
   }
  },
  {
   "cell_type": "code",
   "execution_count": 39,
   "outputs": [],
   "source": [
    "# SEOUL = df_3.loc[(df_3['계약구분'] =='일반용')]\n",
    "# SEOUL.drop(['고객호수(호)' ,'전기요금(원)' , '평균판매단가(원/kWh)'] , axis = 1 , inplace = True)\n",
    "# #SEOUL.dtypes(['사용량(kWh)'])\n",
    "# SEOUL"
   ],
   "metadata": {
    "collapsed": false,
    "pycharm": {
     "name": "#%%\n"
    }
   }
  },
  {
   "cell_type": "code",
   "execution_count": 40,
   "outputs": [],
   "source": [
    "#SEOUL.to_csv(\"서울특별시_일반용_전력사용량.csv\" , mode = 'w' , encoding= 'cp949')"
   ],
   "metadata": {
    "collapsed": false,
    "pycharm": {
     "name": "#%%\n"
    }
   }
  },
  {
   "cell_type": "code",
   "execution_count": 41,
   "outputs": [],
   "source": [
    "# print(SEOUL.dtypes)\n",
    "# SEOUL = SEOUL.astype({'사용량(kWh)' : 'float'})"
   ],
   "metadata": {
    "collapsed": false,
    "pycharm": {
     "name": "#%%\n"
    }
   }
  },
  {
   "cell_type": "code",
   "execution_count": 42,
   "outputs": [],
   "source": [
    "# SEOUL"
   ],
   "metadata": {
    "collapsed": false,
    "pycharm": {
     "name": "#%%\n"
    }
   }
  },
  {
   "cell_type": "code",
   "execution_count": 43,
   "outputs": [],
   "source": [
    "# a = SEOUL['사용량(kWh)'].tolist()\n",
    "# int_list = map(int, a)\n",
    "# b=0\n",
    "# for i in int_list:\n",
    "#     b+=i\n",
    "#\n",
    "# print(b)"
   ],
   "metadata": {
    "collapsed": false,
    "pycharm": {
     "name": "#%%\n"
    }
   }
  },
  {
   "cell_type": "code",
   "execution_count": 43,
   "outputs": [],
   "source": [],
   "metadata": {
    "collapsed": false,
    "pycharm": {
     "name": "#%%\n"
    }
   }
  },
  {
   "cell_type": "code",
   "execution_count": 43,
   "outputs": [],
   "source": [],
   "metadata": {
    "collapsed": false,
    "pycharm": {
     "name": "#%%\n"
    }
   }
  },
  {
   "cell_type": "code",
   "execution_count": 43,
   "outputs": [],
   "source": [],
   "metadata": {
    "collapsed": false,
    "pycharm": {
     "name": "#%%\n"
    }
   }
  },
  {
   "cell_type": "code",
   "execution_count": 43,
   "outputs": [],
   "source": [],
   "metadata": {
    "collapsed": false,
    "pycharm": {
     "name": "#%%\n"
    }
   }
  },
  {
   "cell_type": "code",
   "execution_count": 43,
   "outputs": [],
   "source": [],
   "metadata": {
    "collapsed": false,
    "pycharm": {
     "name": "#%%\n"
    }
   }
  },
  {
   "cell_type": "code",
   "execution_count": 43,
   "outputs": [],
   "source": [],
   "metadata": {
    "collapsed": false,
    "pycharm": {
     "name": "#%%\n"
    }
   }
  },
  {
   "cell_type": "code",
   "execution_count": 43,
   "outputs": [],
   "source": [],
   "metadata": {
    "collapsed": false,
    "pycharm": {
     "name": "#%%\n"
    }
   }
  }
 ],
 "metadata": {
  "kernelspec": {
   "display_name": "Python 3",
   "language": "python",
   "name": "python3"
  },
  "language_info": {
   "codemirror_mode": {
    "name": "ipython",
    "version": 2
   },
   "file_extension": ".py",
   "mimetype": "text/x-python",
   "name": "python",
   "nbconvert_exporter": "python",
   "pygments_lexer": "ipython2",
   "version": "2.7.6"
  }
 },
 "nbformat": 4,
 "nbformat_minor": 0
}