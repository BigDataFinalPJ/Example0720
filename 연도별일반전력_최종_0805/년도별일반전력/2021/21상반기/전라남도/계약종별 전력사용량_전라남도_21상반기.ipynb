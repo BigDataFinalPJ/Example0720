{
 "cells": [
  {
   "cell_type": "markdown",
   "source": [],
   "metadata": {
    "collapsed": false,
    "pycharm": {
     "name": "#%% md\n"
    }
   }
  },
  {
   "cell_type": "code",
   "execution_count": 3,
   "outputs": [],
   "source": [
    "import pandas as pd\n",
    "import re\n",
    "\n",
    "pd.options.display.float_format = '{:.0f}'.format"
   ],
   "metadata": {
    "collapsed": false,
    "pycharm": {
     "name": "#%%\n"
    }
   }
  },
  {
   "cell_type": "markdown",
   "source": [
    "### 1. 꼭 read_csv 21상반기, 19하반기와 같이 맞추어 주세요!!! 또한 지역(전라북도, 남도) 맞추기!!!!!"
   ],
   "metadata": {
    "collapsed": false,
    "pycharm": {
     "name": "#%% md\n"
    }
   }
  },
  {
   "cell_type": "code",
   "execution_count": 4,
   "outputs": [
    {
     "data": {
      "text/plain": "        계약종별 전력사용량 월별( 20220804 현재 ) Unnamed: 1     Unnamed: 2 Unnamed: 3  \\\n0     시도 : 전라남도, 시군구 : 전체(시 / 군 / 구)        NaN            NaN        NaN   \n1        기간 : 2021년 01 월 ~ 2021년 06월        NaN            NaN        NaN   \n2                                 년월         시구            시군구       계약구분   \n3                             202101       전라남도  전체(시 / 군 / 구)        주택용   \n4                             202101       전라남도  전체(시 / 군 / 구)        일반용   \n...                              ...        ...            ...        ...   \n1099                          202106       전라남도            화순군        산업용   \n1100                          202106       전라남도            화순군        심 야   \n1101                          202106       전라남도            화순군        일반용   \n1102                          202106       전라남도            화순군        주택용   \n1103                          202106       전라남도            화순군         합계   \n\n     Unnamed: 4    Unnamed: 5       Unnamed: 6     Unnamed: 7  \n0           NaN           NaN              NaN            NaN  \n1           NaN           NaN              NaN            NaN  \n2       고객호수(호)      사용량(kWh)          전기요금(원)  평균판매단가(원/kWh)  \n3      764,995   244,404,385   28,572,634,284          116.9   \n4      156,164   389,556,776   50,734,773,089          130.2   \n...         ...           ...              ...            ...  \n1099       802    11,064,669    1,458,435,056          131.8   \n1100     1,492       684,855       34,470,783           50.3   \n1101     4,778    11,460,363    1,506,339,414          131.4   \n1102    26,801     6,432,728      655,553,420          101.9   \n1103    45,144    38,031,879    4,176,138,161          109.8   \n\n[1104 rows x 8 columns]",
      "text/html": "<div>\n<style scoped>\n    .dataframe tbody tr th:only-of-type {\n        vertical-align: middle;\n    }\n\n    .dataframe tbody tr th {\n        vertical-align: top;\n    }\n\n    .dataframe thead th {\n        text-align: right;\n    }\n</style>\n<table border=\"1\" class=\"dataframe\">\n  <thead>\n    <tr style=\"text-align: right;\">\n      <th></th>\n      <th>계약종별 전력사용량 월별( 20220804 현재 )</th>\n      <th>Unnamed: 1</th>\n      <th>Unnamed: 2</th>\n      <th>Unnamed: 3</th>\n      <th>Unnamed: 4</th>\n      <th>Unnamed: 5</th>\n      <th>Unnamed: 6</th>\n      <th>Unnamed: 7</th>\n    </tr>\n  </thead>\n  <tbody>\n    <tr>\n      <th>0</th>\n      <td>시도 : 전라남도, 시군구 : 전체(시 / 군 / 구)</td>\n      <td>NaN</td>\n      <td>NaN</td>\n      <td>NaN</td>\n      <td>NaN</td>\n      <td>NaN</td>\n      <td>NaN</td>\n      <td>NaN</td>\n    </tr>\n    <tr>\n      <th>1</th>\n      <td>기간 : 2021년 01 월 ~ 2021년 06월</td>\n      <td>NaN</td>\n      <td>NaN</td>\n      <td>NaN</td>\n      <td>NaN</td>\n      <td>NaN</td>\n      <td>NaN</td>\n      <td>NaN</td>\n    </tr>\n    <tr>\n      <th>2</th>\n      <td>년월</td>\n      <td>시구</td>\n      <td>시군구</td>\n      <td>계약구분</td>\n      <td>고객호수(호)</td>\n      <td>사용량(kWh)</td>\n      <td>전기요금(원)</td>\n      <td>평균판매단가(원/kWh)</td>\n    </tr>\n    <tr>\n      <th>3</th>\n      <td>202101</td>\n      <td>전라남도</td>\n      <td>전체(시 / 군 / 구)</td>\n      <td>주택용</td>\n      <td>764,995</td>\n      <td>244,404,385</td>\n      <td>28,572,634,284</td>\n      <td>116.9</td>\n    </tr>\n    <tr>\n      <th>4</th>\n      <td>202101</td>\n      <td>전라남도</td>\n      <td>전체(시 / 군 / 구)</td>\n      <td>일반용</td>\n      <td>156,164</td>\n      <td>389,556,776</td>\n      <td>50,734,773,089</td>\n      <td>130.2</td>\n    </tr>\n    <tr>\n      <th>...</th>\n      <td>...</td>\n      <td>...</td>\n      <td>...</td>\n      <td>...</td>\n      <td>...</td>\n      <td>...</td>\n      <td>...</td>\n      <td>...</td>\n    </tr>\n    <tr>\n      <th>1099</th>\n      <td>202106</td>\n      <td>전라남도</td>\n      <td>화순군</td>\n      <td>산업용</td>\n      <td>802</td>\n      <td>11,064,669</td>\n      <td>1,458,435,056</td>\n      <td>131.8</td>\n    </tr>\n    <tr>\n      <th>1100</th>\n      <td>202106</td>\n      <td>전라남도</td>\n      <td>화순군</td>\n      <td>심 야</td>\n      <td>1,492</td>\n      <td>684,855</td>\n      <td>34,470,783</td>\n      <td>50.3</td>\n    </tr>\n    <tr>\n      <th>1101</th>\n      <td>202106</td>\n      <td>전라남도</td>\n      <td>화순군</td>\n      <td>일반용</td>\n      <td>4,778</td>\n      <td>11,460,363</td>\n      <td>1,506,339,414</td>\n      <td>131.4</td>\n    </tr>\n    <tr>\n      <th>1102</th>\n      <td>202106</td>\n      <td>전라남도</td>\n      <td>화순군</td>\n      <td>주택용</td>\n      <td>26,801</td>\n      <td>6,432,728</td>\n      <td>655,553,420</td>\n      <td>101.9</td>\n    </tr>\n    <tr>\n      <th>1103</th>\n      <td>202106</td>\n      <td>전라남도</td>\n      <td>화순군</td>\n      <td>합계</td>\n      <td>45,144</td>\n      <td>38,031,879</td>\n      <td>4,176,138,161</td>\n      <td>109.8</td>\n    </tr>\n  </tbody>\n</table>\n<p>1104 rows × 8 columns</p>\n</div>"
     },
     "execution_count": 4,
     "metadata": {},
     "output_type": "execute_result"
    }
   ],
   "source": [
    "df = pd.read_csv('전라남도_계약종별_전력사용량_월별_21상반기.csv' , encoding='cp949')\n",
    "\n",
    "df\n",
    "#exchng=  pd.read_csv('지역별_전력거래량_20220803093050.csv' , encoding='cp949')"
   ],
   "metadata": {
    "collapsed": false,
    "pycharm": {
     "name": "#%%\n"
    }
   }
  },
  {
   "cell_type": "code",
   "execution_count": 5,
   "outputs": [
    {
     "data": {
      "text/plain": "     계약종별 전력사용량 월별( 20220804 현재 ) Unnamed: 1     Unnamed: 2 Unnamed: 3  \\\n2                              년월         시구            시군구       계약구분   \n3                          202101       전라남도  전체(시 / 군 / 구)        주택용   \n4                          202101       전라남도  전체(시 / 군 / 구)        일반용   \n5                          202101       전라남도  전체(시 / 군 / 구)        교육용   \n6                          202101       전라남도  전체(시 / 군 / 구)        산업용   \n...                           ...        ...            ...        ...   \n1099                       202106       전라남도            화순군        산업용   \n1100                       202106       전라남도            화순군        심 야   \n1101                       202106       전라남도            화순군        일반용   \n1102                       202106       전라남도            화순군        주택용   \n1103                       202106       전라남도            화순군         합계   \n\n     Unnamed: 4      Unnamed: 5        Unnamed: 6     Unnamed: 7  \n2       고객호수(호)        사용량(kWh)           전기요금(원)  평균판매단가(원/kWh)  \n3      764,995     244,404,385    28,572,634,284          116.9   \n4      156,164     389,556,776    50,734,773,089          130.2   \n5        1,333      37,542,087     3,757,437,650          100.1   \n6       21,526   1,695,150,791   181,027,906,137          106.8   \n...         ...             ...               ...            ...  \n1099       802      11,064,669     1,458,435,056          131.8   \n1100     1,492         684,855        34,470,783           50.3   \n1101     4,778      11,460,363     1,506,339,414          131.4   \n1102    26,801       6,432,728       655,553,420          101.9   \n1103    45,144      38,031,879     4,176,138,161          109.8   \n\n[1101 rows x 8 columns]",
      "text/html": "<div>\n<style scoped>\n    .dataframe tbody tr th:only-of-type {\n        vertical-align: middle;\n    }\n\n    .dataframe tbody tr th {\n        vertical-align: top;\n    }\n\n    .dataframe thead th {\n        text-align: right;\n    }\n</style>\n<table border=\"1\" class=\"dataframe\">\n  <thead>\n    <tr style=\"text-align: right;\">\n      <th></th>\n      <th>계약종별 전력사용량 월별( 20220804 현재 )</th>\n      <th>Unnamed: 1</th>\n      <th>Unnamed: 2</th>\n      <th>Unnamed: 3</th>\n      <th>Unnamed: 4</th>\n      <th>Unnamed: 5</th>\n      <th>Unnamed: 6</th>\n      <th>Unnamed: 7</th>\n    </tr>\n  </thead>\n  <tbody>\n    <tr>\n      <th>2</th>\n      <td>년월</td>\n      <td>시구</td>\n      <td>시군구</td>\n      <td>계약구분</td>\n      <td>고객호수(호)</td>\n      <td>사용량(kWh)</td>\n      <td>전기요금(원)</td>\n      <td>평균판매단가(원/kWh)</td>\n    </tr>\n    <tr>\n      <th>3</th>\n      <td>202101</td>\n      <td>전라남도</td>\n      <td>전체(시 / 군 / 구)</td>\n      <td>주택용</td>\n      <td>764,995</td>\n      <td>244,404,385</td>\n      <td>28,572,634,284</td>\n      <td>116.9</td>\n    </tr>\n    <tr>\n      <th>4</th>\n      <td>202101</td>\n      <td>전라남도</td>\n      <td>전체(시 / 군 / 구)</td>\n      <td>일반용</td>\n      <td>156,164</td>\n      <td>389,556,776</td>\n      <td>50,734,773,089</td>\n      <td>130.2</td>\n    </tr>\n    <tr>\n      <th>5</th>\n      <td>202101</td>\n      <td>전라남도</td>\n      <td>전체(시 / 군 / 구)</td>\n      <td>교육용</td>\n      <td>1,333</td>\n      <td>37,542,087</td>\n      <td>3,757,437,650</td>\n      <td>100.1</td>\n    </tr>\n    <tr>\n      <th>6</th>\n      <td>202101</td>\n      <td>전라남도</td>\n      <td>전체(시 / 군 / 구)</td>\n      <td>산업용</td>\n      <td>21,526</td>\n      <td>1,695,150,791</td>\n      <td>181,027,906,137</td>\n      <td>106.8</td>\n    </tr>\n    <tr>\n      <th>...</th>\n      <td>...</td>\n      <td>...</td>\n      <td>...</td>\n      <td>...</td>\n      <td>...</td>\n      <td>...</td>\n      <td>...</td>\n      <td>...</td>\n    </tr>\n    <tr>\n      <th>1099</th>\n      <td>202106</td>\n      <td>전라남도</td>\n      <td>화순군</td>\n      <td>산업용</td>\n      <td>802</td>\n      <td>11,064,669</td>\n      <td>1,458,435,056</td>\n      <td>131.8</td>\n    </tr>\n    <tr>\n      <th>1100</th>\n      <td>202106</td>\n      <td>전라남도</td>\n      <td>화순군</td>\n      <td>심 야</td>\n      <td>1,492</td>\n      <td>684,855</td>\n      <td>34,470,783</td>\n      <td>50.3</td>\n    </tr>\n    <tr>\n      <th>1101</th>\n      <td>202106</td>\n      <td>전라남도</td>\n      <td>화순군</td>\n      <td>일반용</td>\n      <td>4,778</td>\n      <td>11,460,363</td>\n      <td>1,506,339,414</td>\n      <td>131.4</td>\n    </tr>\n    <tr>\n      <th>1102</th>\n      <td>202106</td>\n      <td>전라남도</td>\n      <td>화순군</td>\n      <td>주택용</td>\n      <td>26,801</td>\n      <td>6,432,728</td>\n      <td>655,553,420</td>\n      <td>101.9</td>\n    </tr>\n    <tr>\n      <th>1103</th>\n      <td>202106</td>\n      <td>전라남도</td>\n      <td>화순군</td>\n      <td>합계</td>\n      <td>45,144</td>\n      <td>38,031,879</td>\n      <td>4,176,138,161</td>\n      <td>109.8</td>\n    </tr>\n  </tbody>\n</table>\n<p>1101 rows × 8 columns</p>\n</div>"
     },
     "execution_count": 5,
     "metadata": {},
     "output_type": "execute_result"
    }
   ],
   "source": [
    "df = df.drop([0,1 , 46] , axis = 0)\n",
    "#0,1 , 10은 지우는게 맞다\n",
    "df"
   ],
   "metadata": {
    "collapsed": false,
    "pycharm": {
     "name": "#%%\n"
    }
   }
  },
  {
   "cell_type": "code",
   "execution_count": 6,
   "outputs": [],
   "source": [
    "a= df.loc[2].tolist()\n",
    "a\n",
    "df = df.drop([2] , axis = 0)"
   ],
   "metadata": {
    "collapsed": false,
    "pycharm": {
     "name": "#%%\n"
    }
   }
  },
  {
   "cell_type": "code",
   "execution_count": 7,
   "outputs": [
    {
     "data": {
      "text/plain": "          년월    시구            시군구 계약구분   고객호수(호)        사용량(kWh)  \\\n3     202101  전라남도  전체(시 / 군 / 구)  주택용  764,995     244,404,385    \n4     202101  전라남도  전체(시 / 군 / 구)  일반용  156,164     389,556,776    \n5     202101  전라남도  전체(시 / 군 / 구)  교육용    1,333      37,542,087    \n6     202101  전라남도  전체(시 / 군 / 구)  산업용   21,526   1,695,150,791    \n7     202101  전라남도  전체(시 / 군 / 구)  농사용  300,121     374,558,648    \n...      ...   ...            ...  ...       ...             ...   \n1099  202106  전라남도            화순군  산업용      802      11,064,669    \n1100  202106  전라남도            화순군  심 야    1,492         684,855    \n1101  202106  전라남도            화순군  일반용    4,778      11,460,363    \n1102  202106  전라남도            화순군  주택용   26,801       6,432,728    \n1103  202106  전라남도            화순군   합계   45,144      38,031,879    \n\n               전기요금(원) 평균판매단가(원/kWh)  \n3      28,572,634,284         116.9   \n4      50,734,773,089         130.2   \n5       3,757,437,650         100.1   \n6     181,027,906,137         106.8   \n7      16,743,038,040          44.7   \n...                ...           ...  \n1099    1,458,435,056         131.8   \n1100       34,470,783          50.3   \n1101    1,506,339,414         131.4   \n1102      655,553,420         101.9   \n1103    4,176,138,161         109.8   \n\n[1100 rows x 8 columns]",
      "text/html": "<div>\n<style scoped>\n    .dataframe tbody tr th:only-of-type {\n        vertical-align: middle;\n    }\n\n    .dataframe tbody tr th {\n        vertical-align: top;\n    }\n\n    .dataframe thead th {\n        text-align: right;\n    }\n</style>\n<table border=\"1\" class=\"dataframe\">\n  <thead>\n    <tr style=\"text-align: right;\">\n      <th></th>\n      <th>년월</th>\n      <th>시구</th>\n      <th>시군구</th>\n      <th>계약구분</th>\n      <th>고객호수(호)</th>\n      <th>사용량(kWh)</th>\n      <th>전기요금(원)</th>\n      <th>평균판매단가(원/kWh)</th>\n    </tr>\n  </thead>\n  <tbody>\n    <tr>\n      <th>3</th>\n      <td>202101</td>\n      <td>전라남도</td>\n      <td>전체(시 / 군 / 구)</td>\n      <td>주택용</td>\n      <td>764,995</td>\n      <td>244,404,385</td>\n      <td>28,572,634,284</td>\n      <td>116.9</td>\n    </tr>\n    <tr>\n      <th>4</th>\n      <td>202101</td>\n      <td>전라남도</td>\n      <td>전체(시 / 군 / 구)</td>\n      <td>일반용</td>\n      <td>156,164</td>\n      <td>389,556,776</td>\n      <td>50,734,773,089</td>\n      <td>130.2</td>\n    </tr>\n    <tr>\n      <th>5</th>\n      <td>202101</td>\n      <td>전라남도</td>\n      <td>전체(시 / 군 / 구)</td>\n      <td>교육용</td>\n      <td>1,333</td>\n      <td>37,542,087</td>\n      <td>3,757,437,650</td>\n      <td>100.1</td>\n    </tr>\n    <tr>\n      <th>6</th>\n      <td>202101</td>\n      <td>전라남도</td>\n      <td>전체(시 / 군 / 구)</td>\n      <td>산업용</td>\n      <td>21,526</td>\n      <td>1,695,150,791</td>\n      <td>181,027,906,137</td>\n      <td>106.8</td>\n    </tr>\n    <tr>\n      <th>7</th>\n      <td>202101</td>\n      <td>전라남도</td>\n      <td>전체(시 / 군 / 구)</td>\n      <td>농사용</td>\n      <td>300,121</td>\n      <td>374,558,648</td>\n      <td>16,743,038,040</td>\n      <td>44.7</td>\n    </tr>\n    <tr>\n      <th>...</th>\n      <td>...</td>\n      <td>...</td>\n      <td>...</td>\n      <td>...</td>\n      <td>...</td>\n      <td>...</td>\n      <td>...</td>\n      <td>...</td>\n    </tr>\n    <tr>\n      <th>1099</th>\n      <td>202106</td>\n      <td>전라남도</td>\n      <td>화순군</td>\n      <td>산업용</td>\n      <td>802</td>\n      <td>11,064,669</td>\n      <td>1,458,435,056</td>\n      <td>131.8</td>\n    </tr>\n    <tr>\n      <th>1100</th>\n      <td>202106</td>\n      <td>전라남도</td>\n      <td>화순군</td>\n      <td>심 야</td>\n      <td>1,492</td>\n      <td>684,855</td>\n      <td>34,470,783</td>\n      <td>50.3</td>\n    </tr>\n    <tr>\n      <th>1101</th>\n      <td>202106</td>\n      <td>전라남도</td>\n      <td>화순군</td>\n      <td>일반용</td>\n      <td>4,778</td>\n      <td>11,460,363</td>\n      <td>1,506,339,414</td>\n      <td>131.4</td>\n    </tr>\n    <tr>\n      <th>1102</th>\n      <td>202106</td>\n      <td>전라남도</td>\n      <td>화순군</td>\n      <td>주택용</td>\n      <td>26,801</td>\n      <td>6,432,728</td>\n      <td>655,553,420</td>\n      <td>101.9</td>\n    </tr>\n    <tr>\n      <th>1103</th>\n      <td>202106</td>\n      <td>전라남도</td>\n      <td>화순군</td>\n      <td>합계</td>\n      <td>45,144</td>\n      <td>38,031,879</td>\n      <td>4,176,138,161</td>\n      <td>109.8</td>\n    </tr>\n  </tbody>\n</table>\n<p>1100 rows × 8 columns</p>\n</div>"
     },
     "execution_count": 7,
     "metadata": {},
     "output_type": "execute_result"
    }
   ],
   "source": [
    "df.columns = a\n",
    "df"
   ],
   "metadata": {
    "collapsed": false,
    "pycharm": {
     "name": "#%%\n"
    }
   }
  },
  {
   "cell_type": "code",
   "execution_count": 8,
   "outputs": [
    {
     "data": {
      "text/plain": "        년월    시구            시군구 계약구분    고객호수(호)        사용량(kWh)  \\\n3   202101  전라남도  전체(시 / 군 / 구)  주택용   764,995     244,404,385    \n4   202101  전라남도  전체(시 / 군 / 구)  일반용   156,164     389,556,776    \n5   202101  전라남도  전체(시 / 군 / 구)  교육용     1,333      37,542,087    \n6   202101  전라남도  전체(시 / 군 / 구)  산업용    21,526   1,695,150,791    \n7   202101  전라남도  전체(시 / 군 / 구)  농사용   300,121     374,558,648    \n8   202101  전라남도  전체(시 / 군 / 구)  가로등   189,433      21,856,139    \n9   202101  전라남도  전체(시 / 군 / 구)  심 야    41,258      81,589,377    \n10  202102  전라남도  전체(시 / 군 / 구)  주택용   765,827     236,620,407    \n11  202102  전라남도  전체(시 / 군 / 구)  일반용   156,384     369,365,629    \n12  202102  전라남도  전체(시 / 군 / 구)  교육용     1,332      27,383,968    \n13  202102  전라남도  전체(시 / 군 / 구)  산업용    21,572   1,636,483,186    \n14  202102  전라남도  전체(시 / 군 / 구)  농사용   300,427     370,783,149    \n15  202102  전라남도  전체(시 / 군 / 구)  가로등   190,119      20,402,644    \n16  202102  전라남도  전체(시 / 군 / 구)  심 야    41,122      77,861,214    \n17  202103  전라남도  전체(시 / 군 / 구)  주택용   766,620     204,684,851    \n18  202103  전라남도  전체(시 / 군 / 구)  일반용   156,089     310,150,654    \n19  202103  전라남도  전체(시 / 군 / 구)  교육용     1,332      25,902,319    \n20  202103  전라남도  전체(시 / 군 / 구)  산업용    21,587   1,748,109,289    \n21  202103  전라남도  전체(시 / 군 / 구)  농사용   422,839     355,550,781    \n22  202103  전라남도  전체(시 / 군 / 구)  가로등   191,074      19,413,988    \n23  202103  전라남도  전체(시 / 군 / 구)  심 야    40,931      60,192,724    \n24  202104  전라남도  전체(시 / 군 / 구)  주택용   768,249     209,377,348    \n25  202104  전라남도  전체(시 / 군 / 구)  일반용   156,267     303,133,392    \n26  202104  전라남도  전체(시 / 군 / 구)  교육용     1,333      25,698,477    \n27  202104  전라남도  전체(시 / 군 / 구)  산업용    21,615   1,724,576,988    \n28  202104  전라남도  전체(시 / 군 / 구)  농사용   326,755     340,519,374    \n29  202104  전라남도  전체(시 / 군 / 구)  가로등   191,254      19,414,307    \n30  202104  전라남도  전체(시 / 군 / 구)  심 야    40,766      47,773,504    \n31  202105  전라남도  전체(시 / 군 / 구)  주택용   768,723     197,239,667    \n32  202105  전라남도  전체(시 / 군 / 구)  일반용   156,451     279,883,897    \n33  202105  전라남도  전체(시 / 군 / 구)  교육용     1,328      19,916,094    \n34  202105  전라남도  전체(시 / 군 / 구)  산업용    21,649   1,903,089,039    \n35  202105  전라남도  전체(시 / 군 / 구)  농사용   303,958     271,220,758    \n36  202105  전라남도  전체(시 / 군 / 구)  가로등   191,831      18,449,987    \n37  202105  전라남도  전체(시 / 군 / 구)  심 야    40,550      32,303,132    \n38  202106  전라남도  전체(시 / 군 / 구)  주택용   769,736     201,791,367    \n39  202106  전라남도  전체(시 / 군 / 구)  일반용   156,848     303,013,315    \n40  202106  전라남도  전체(시 / 군 / 구)  교육용     1,327      22,169,238    \n41  202106  전라남도  전체(시 / 군 / 구)  산업용    21,671   1,799,199,347    \n42  202106  전라남도  전체(시 / 군 / 구)  농사용   305,230     282,597,175    \n43  202106  전라남도  전체(시 / 군 / 구)  가로등   194,433      17,867,302    \n44  202106  전라남도  전체(시 / 군 / 구)  심 야    40,382      21,467,568    \n45      합계    합계             합계   합계  9,032,441  16,348,264,282   \n\n              전기요금(원) 평균판매단가(원/kWh)  \n3     28,572,634,284         116.9   \n4     50,734,773,089         130.2   \n5      3,757,437,650         100.1   \n6    181,027,906,137         106.8   \n7     16,743,038,040          44.7   \n8      2,267,593,830         103.8   \n9      5,885,764,673          72.1   \n10    27,101,242,486         114.5   \n11    48,816,382,035         132.2   \n12     3,061,318,718         111.8   \n13   175,134,957,635         107.0   \n14    16,635,319,231          44.9   \n15     2,249,001,776         110.2   \n16     5,628,772,171          72.3   \n17    21,222,144,409         103.7   \n18    39,457,210,568         127.2   \n19     2,723,705,536         105.2   \n20   152,113,998,352          87.0   \n21    15,873,114,394          44.6   \n22     2,153,115,631         110.9   \n23     3,854,705,425          64.0   \n24    22,633,534,527         108.1   \n25    34,910,131,474         115.2   \n26     2,304,496,677          89.7   \n27   151,381,369,078          87.8   \n28    15,167,673,392          44.5   \n29     2,240,327,226         115.4   \n30     2,472,884,022          51.8   \n31    20,687,388,351         104.9   \n32    33,357,700,629         119.2   \n33     1,833,454,668          92.1   \n34   160,859,244,277          84.5   \n35    12,241,225,446          45.1   \n36     2,190,046,443         118.7   \n37     1,687,520,488          52.2   \n38    21,147,197,743         104.8   \n39    40,180,164,972         132.6   \n40     2,493,215,842         112.5   \n41   197,371,119,992         109.7   \n42    12,324,833,315          43.6   \n43     2,180,320,945         122.0   \n44     1,147,157,214          53.4   \n45  1,545,825,142,791          94.6  ",
      "text/html": "<div>\n<style scoped>\n    .dataframe tbody tr th:only-of-type {\n        vertical-align: middle;\n    }\n\n    .dataframe tbody tr th {\n        vertical-align: top;\n    }\n\n    .dataframe thead th {\n        text-align: right;\n    }\n</style>\n<table border=\"1\" class=\"dataframe\">\n  <thead>\n    <tr style=\"text-align: right;\">\n      <th></th>\n      <th>년월</th>\n      <th>시구</th>\n      <th>시군구</th>\n      <th>계약구분</th>\n      <th>고객호수(호)</th>\n      <th>사용량(kWh)</th>\n      <th>전기요금(원)</th>\n      <th>평균판매단가(원/kWh)</th>\n    </tr>\n  </thead>\n  <tbody>\n    <tr>\n      <th>3</th>\n      <td>202101</td>\n      <td>전라남도</td>\n      <td>전체(시 / 군 / 구)</td>\n      <td>주택용</td>\n      <td>764,995</td>\n      <td>244,404,385</td>\n      <td>28,572,634,284</td>\n      <td>116.9</td>\n    </tr>\n    <tr>\n      <th>4</th>\n      <td>202101</td>\n      <td>전라남도</td>\n      <td>전체(시 / 군 / 구)</td>\n      <td>일반용</td>\n      <td>156,164</td>\n      <td>389,556,776</td>\n      <td>50,734,773,089</td>\n      <td>130.2</td>\n    </tr>\n    <tr>\n      <th>5</th>\n      <td>202101</td>\n      <td>전라남도</td>\n      <td>전체(시 / 군 / 구)</td>\n      <td>교육용</td>\n      <td>1,333</td>\n      <td>37,542,087</td>\n      <td>3,757,437,650</td>\n      <td>100.1</td>\n    </tr>\n    <tr>\n      <th>6</th>\n      <td>202101</td>\n      <td>전라남도</td>\n      <td>전체(시 / 군 / 구)</td>\n      <td>산업용</td>\n      <td>21,526</td>\n      <td>1,695,150,791</td>\n      <td>181,027,906,137</td>\n      <td>106.8</td>\n    </tr>\n    <tr>\n      <th>7</th>\n      <td>202101</td>\n      <td>전라남도</td>\n      <td>전체(시 / 군 / 구)</td>\n      <td>농사용</td>\n      <td>300,121</td>\n      <td>374,558,648</td>\n      <td>16,743,038,040</td>\n      <td>44.7</td>\n    </tr>\n    <tr>\n      <th>8</th>\n      <td>202101</td>\n      <td>전라남도</td>\n      <td>전체(시 / 군 / 구)</td>\n      <td>가로등</td>\n      <td>189,433</td>\n      <td>21,856,139</td>\n      <td>2,267,593,830</td>\n      <td>103.8</td>\n    </tr>\n    <tr>\n      <th>9</th>\n      <td>202101</td>\n      <td>전라남도</td>\n      <td>전체(시 / 군 / 구)</td>\n      <td>심 야</td>\n      <td>41,258</td>\n      <td>81,589,377</td>\n      <td>5,885,764,673</td>\n      <td>72.1</td>\n    </tr>\n    <tr>\n      <th>10</th>\n      <td>202102</td>\n      <td>전라남도</td>\n      <td>전체(시 / 군 / 구)</td>\n      <td>주택용</td>\n      <td>765,827</td>\n      <td>236,620,407</td>\n      <td>27,101,242,486</td>\n      <td>114.5</td>\n    </tr>\n    <tr>\n      <th>11</th>\n      <td>202102</td>\n      <td>전라남도</td>\n      <td>전체(시 / 군 / 구)</td>\n      <td>일반용</td>\n      <td>156,384</td>\n      <td>369,365,629</td>\n      <td>48,816,382,035</td>\n      <td>132.2</td>\n    </tr>\n    <tr>\n      <th>12</th>\n      <td>202102</td>\n      <td>전라남도</td>\n      <td>전체(시 / 군 / 구)</td>\n      <td>교육용</td>\n      <td>1,332</td>\n      <td>27,383,968</td>\n      <td>3,061,318,718</td>\n      <td>111.8</td>\n    </tr>\n    <tr>\n      <th>13</th>\n      <td>202102</td>\n      <td>전라남도</td>\n      <td>전체(시 / 군 / 구)</td>\n      <td>산업용</td>\n      <td>21,572</td>\n      <td>1,636,483,186</td>\n      <td>175,134,957,635</td>\n      <td>107.0</td>\n    </tr>\n    <tr>\n      <th>14</th>\n      <td>202102</td>\n      <td>전라남도</td>\n      <td>전체(시 / 군 / 구)</td>\n      <td>농사용</td>\n      <td>300,427</td>\n      <td>370,783,149</td>\n      <td>16,635,319,231</td>\n      <td>44.9</td>\n    </tr>\n    <tr>\n      <th>15</th>\n      <td>202102</td>\n      <td>전라남도</td>\n      <td>전체(시 / 군 / 구)</td>\n      <td>가로등</td>\n      <td>190,119</td>\n      <td>20,402,644</td>\n      <td>2,249,001,776</td>\n      <td>110.2</td>\n    </tr>\n    <tr>\n      <th>16</th>\n      <td>202102</td>\n      <td>전라남도</td>\n      <td>전체(시 / 군 / 구)</td>\n      <td>심 야</td>\n      <td>41,122</td>\n      <td>77,861,214</td>\n      <td>5,628,772,171</td>\n      <td>72.3</td>\n    </tr>\n    <tr>\n      <th>17</th>\n      <td>202103</td>\n      <td>전라남도</td>\n      <td>전체(시 / 군 / 구)</td>\n      <td>주택용</td>\n      <td>766,620</td>\n      <td>204,684,851</td>\n      <td>21,222,144,409</td>\n      <td>103.7</td>\n    </tr>\n    <tr>\n      <th>18</th>\n      <td>202103</td>\n      <td>전라남도</td>\n      <td>전체(시 / 군 / 구)</td>\n      <td>일반용</td>\n      <td>156,089</td>\n      <td>310,150,654</td>\n      <td>39,457,210,568</td>\n      <td>127.2</td>\n    </tr>\n    <tr>\n      <th>19</th>\n      <td>202103</td>\n      <td>전라남도</td>\n      <td>전체(시 / 군 / 구)</td>\n      <td>교육용</td>\n      <td>1,332</td>\n      <td>25,902,319</td>\n      <td>2,723,705,536</td>\n      <td>105.2</td>\n    </tr>\n    <tr>\n      <th>20</th>\n      <td>202103</td>\n      <td>전라남도</td>\n      <td>전체(시 / 군 / 구)</td>\n      <td>산업용</td>\n      <td>21,587</td>\n      <td>1,748,109,289</td>\n      <td>152,113,998,352</td>\n      <td>87.0</td>\n    </tr>\n    <tr>\n      <th>21</th>\n      <td>202103</td>\n      <td>전라남도</td>\n      <td>전체(시 / 군 / 구)</td>\n      <td>농사용</td>\n      <td>422,839</td>\n      <td>355,550,781</td>\n      <td>15,873,114,394</td>\n      <td>44.6</td>\n    </tr>\n    <tr>\n      <th>22</th>\n      <td>202103</td>\n      <td>전라남도</td>\n      <td>전체(시 / 군 / 구)</td>\n      <td>가로등</td>\n      <td>191,074</td>\n      <td>19,413,988</td>\n      <td>2,153,115,631</td>\n      <td>110.9</td>\n    </tr>\n    <tr>\n      <th>23</th>\n      <td>202103</td>\n      <td>전라남도</td>\n      <td>전체(시 / 군 / 구)</td>\n      <td>심 야</td>\n      <td>40,931</td>\n      <td>60,192,724</td>\n      <td>3,854,705,425</td>\n      <td>64.0</td>\n    </tr>\n    <tr>\n      <th>24</th>\n      <td>202104</td>\n      <td>전라남도</td>\n      <td>전체(시 / 군 / 구)</td>\n      <td>주택용</td>\n      <td>768,249</td>\n      <td>209,377,348</td>\n      <td>22,633,534,527</td>\n      <td>108.1</td>\n    </tr>\n    <tr>\n      <th>25</th>\n      <td>202104</td>\n      <td>전라남도</td>\n      <td>전체(시 / 군 / 구)</td>\n      <td>일반용</td>\n      <td>156,267</td>\n      <td>303,133,392</td>\n      <td>34,910,131,474</td>\n      <td>115.2</td>\n    </tr>\n    <tr>\n      <th>26</th>\n      <td>202104</td>\n      <td>전라남도</td>\n      <td>전체(시 / 군 / 구)</td>\n      <td>교육용</td>\n      <td>1,333</td>\n      <td>25,698,477</td>\n      <td>2,304,496,677</td>\n      <td>89.7</td>\n    </tr>\n    <tr>\n      <th>27</th>\n      <td>202104</td>\n      <td>전라남도</td>\n      <td>전체(시 / 군 / 구)</td>\n      <td>산업용</td>\n      <td>21,615</td>\n      <td>1,724,576,988</td>\n      <td>151,381,369,078</td>\n      <td>87.8</td>\n    </tr>\n    <tr>\n      <th>28</th>\n      <td>202104</td>\n      <td>전라남도</td>\n      <td>전체(시 / 군 / 구)</td>\n      <td>농사용</td>\n      <td>326,755</td>\n      <td>340,519,374</td>\n      <td>15,167,673,392</td>\n      <td>44.5</td>\n    </tr>\n    <tr>\n      <th>29</th>\n      <td>202104</td>\n      <td>전라남도</td>\n      <td>전체(시 / 군 / 구)</td>\n      <td>가로등</td>\n      <td>191,254</td>\n      <td>19,414,307</td>\n      <td>2,240,327,226</td>\n      <td>115.4</td>\n    </tr>\n    <tr>\n      <th>30</th>\n      <td>202104</td>\n      <td>전라남도</td>\n      <td>전체(시 / 군 / 구)</td>\n      <td>심 야</td>\n      <td>40,766</td>\n      <td>47,773,504</td>\n      <td>2,472,884,022</td>\n      <td>51.8</td>\n    </tr>\n    <tr>\n      <th>31</th>\n      <td>202105</td>\n      <td>전라남도</td>\n      <td>전체(시 / 군 / 구)</td>\n      <td>주택용</td>\n      <td>768,723</td>\n      <td>197,239,667</td>\n      <td>20,687,388,351</td>\n      <td>104.9</td>\n    </tr>\n    <tr>\n      <th>32</th>\n      <td>202105</td>\n      <td>전라남도</td>\n      <td>전체(시 / 군 / 구)</td>\n      <td>일반용</td>\n      <td>156,451</td>\n      <td>279,883,897</td>\n      <td>33,357,700,629</td>\n      <td>119.2</td>\n    </tr>\n    <tr>\n      <th>33</th>\n      <td>202105</td>\n      <td>전라남도</td>\n      <td>전체(시 / 군 / 구)</td>\n      <td>교육용</td>\n      <td>1,328</td>\n      <td>19,916,094</td>\n      <td>1,833,454,668</td>\n      <td>92.1</td>\n    </tr>\n    <tr>\n      <th>34</th>\n      <td>202105</td>\n      <td>전라남도</td>\n      <td>전체(시 / 군 / 구)</td>\n      <td>산업용</td>\n      <td>21,649</td>\n      <td>1,903,089,039</td>\n      <td>160,859,244,277</td>\n      <td>84.5</td>\n    </tr>\n    <tr>\n      <th>35</th>\n      <td>202105</td>\n      <td>전라남도</td>\n      <td>전체(시 / 군 / 구)</td>\n      <td>농사용</td>\n      <td>303,958</td>\n      <td>271,220,758</td>\n      <td>12,241,225,446</td>\n      <td>45.1</td>\n    </tr>\n    <tr>\n      <th>36</th>\n      <td>202105</td>\n      <td>전라남도</td>\n      <td>전체(시 / 군 / 구)</td>\n      <td>가로등</td>\n      <td>191,831</td>\n      <td>18,449,987</td>\n      <td>2,190,046,443</td>\n      <td>118.7</td>\n    </tr>\n    <tr>\n      <th>37</th>\n      <td>202105</td>\n      <td>전라남도</td>\n      <td>전체(시 / 군 / 구)</td>\n      <td>심 야</td>\n      <td>40,550</td>\n      <td>32,303,132</td>\n      <td>1,687,520,488</td>\n      <td>52.2</td>\n    </tr>\n    <tr>\n      <th>38</th>\n      <td>202106</td>\n      <td>전라남도</td>\n      <td>전체(시 / 군 / 구)</td>\n      <td>주택용</td>\n      <td>769,736</td>\n      <td>201,791,367</td>\n      <td>21,147,197,743</td>\n      <td>104.8</td>\n    </tr>\n    <tr>\n      <th>39</th>\n      <td>202106</td>\n      <td>전라남도</td>\n      <td>전체(시 / 군 / 구)</td>\n      <td>일반용</td>\n      <td>156,848</td>\n      <td>303,013,315</td>\n      <td>40,180,164,972</td>\n      <td>132.6</td>\n    </tr>\n    <tr>\n      <th>40</th>\n      <td>202106</td>\n      <td>전라남도</td>\n      <td>전체(시 / 군 / 구)</td>\n      <td>교육용</td>\n      <td>1,327</td>\n      <td>22,169,238</td>\n      <td>2,493,215,842</td>\n      <td>112.5</td>\n    </tr>\n    <tr>\n      <th>41</th>\n      <td>202106</td>\n      <td>전라남도</td>\n      <td>전체(시 / 군 / 구)</td>\n      <td>산업용</td>\n      <td>21,671</td>\n      <td>1,799,199,347</td>\n      <td>197,371,119,992</td>\n      <td>109.7</td>\n    </tr>\n    <tr>\n      <th>42</th>\n      <td>202106</td>\n      <td>전라남도</td>\n      <td>전체(시 / 군 / 구)</td>\n      <td>농사용</td>\n      <td>305,230</td>\n      <td>282,597,175</td>\n      <td>12,324,833,315</td>\n      <td>43.6</td>\n    </tr>\n    <tr>\n      <th>43</th>\n      <td>202106</td>\n      <td>전라남도</td>\n      <td>전체(시 / 군 / 구)</td>\n      <td>가로등</td>\n      <td>194,433</td>\n      <td>17,867,302</td>\n      <td>2,180,320,945</td>\n      <td>122.0</td>\n    </tr>\n    <tr>\n      <th>44</th>\n      <td>202106</td>\n      <td>전라남도</td>\n      <td>전체(시 / 군 / 구)</td>\n      <td>심 야</td>\n      <td>40,382</td>\n      <td>21,467,568</td>\n      <td>1,147,157,214</td>\n      <td>53.4</td>\n    </tr>\n    <tr>\n      <th>45</th>\n      <td>합계</td>\n      <td>합계</td>\n      <td>합계</td>\n      <td>합계</td>\n      <td>9,032,441</td>\n      <td>16,348,264,282</td>\n      <td>1,545,825,142,791</td>\n      <td>94.6</td>\n    </tr>\n  </tbody>\n</table>\n</div>"
     },
     "execution_count": 8,
     "metadata": {},
     "output_type": "execute_result"
    }
   ],
   "source": [
    "df_2 = df.loc[:45]\n",
    "df_2\n"
   ],
   "metadata": {
    "collapsed": false,
    "pycharm": {
     "name": "#%%\n"
    }
   }
  },
  {
   "cell_type": "code",
   "execution_count": 9,
   "outputs": [
    {
     "name": "stderr",
     "output_type": "stream",
     "text": [
      "C:\\Users\\user\\AppData\\Local\\Temp\\ipykernel_16576\\3551721261.py:3: SettingWithCopyWarning: \n",
      "A value is trying to be set on a copy of a slice from a DataFrame\n",
      "\n",
      "See the caveats in the documentation: https://pandas.pydata.org/pandas-docs/stable/user_guide/indexing.html#returning-a-view-versus-a-copy\n",
      "  GyeonGi.drop(['시군구' , '전기요금(원)' , '평균판매단가(원/kWh)'] , axis = 1 , inplace = True)\n"
     ]
    },
    {
     "data": {
      "text/plain": "        년월    시구 계약구분   고객호수(호)      사용량(kWh)\n4   202101  전라남도  일반용  156,164   389,556,776 \n11  202102  전라남도  일반용  156,384   369,365,629 \n18  202103  전라남도  일반용  156,089   310,150,654 \n25  202104  전라남도  일반용  156,267   303,133,392 \n32  202105  전라남도  일반용  156,451   279,883,897 \n39  202106  전라남도  일반용  156,848   303,013,315 ",
      "text/html": "<div>\n<style scoped>\n    .dataframe tbody tr th:only-of-type {\n        vertical-align: middle;\n    }\n\n    .dataframe tbody tr th {\n        vertical-align: top;\n    }\n\n    .dataframe thead th {\n        text-align: right;\n    }\n</style>\n<table border=\"1\" class=\"dataframe\">\n  <thead>\n    <tr style=\"text-align: right;\">\n      <th></th>\n      <th>년월</th>\n      <th>시구</th>\n      <th>계약구분</th>\n      <th>고객호수(호)</th>\n      <th>사용량(kWh)</th>\n    </tr>\n  </thead>\n  <tbody>\n    <tr>\n      <th>4</th>\n      <td>202101</td>\n      <td>전라남도</td>\n      <td>일반용</td>\n      <td>156,164</td>\n      <td>389,556,776</td>\n    </tr>\n    <tr>\n      <th>11</th>\n      <td>202102</td>\n      <td>전라남도</td>\n      <td>일반용</td>\n      <td>156,384</td>\n      <td>369,365,629</td>\n    </tr>\n    <tr>\n      <th>18</th>\n      <td>202103</td>\n      <td>전라남도</td>\n      <td>일반용</td>\n      <td>156,089</td>\n      <td>310,150,654</td>\n    </tr>\n    <tr>\n      <th>25</th>\n      <td>202104</td>\n      <td>전라남도</td>\n      <td>일반용</td>\n      <td>156,267</td>\n      <td>303,133,392</td>\n    </tr>\n    <tr>\n      <th>32</th>\n      <td>202105</td>\n      <td>전라남도</td>\n      <td>일반용</td>\n      <td>156,451</td>\n      <td>279,883,897</td>\n    </tr>\n    <tr>\n      <th>39</th>\n      <td>202106</td>\n      <td>전라남도</td>\n      <td>일반용</td>\n      <td>156,848</td>\n      <td>303,013,315</td>\n    </tr>\n  </tbody>\n</table>\n</div>"
     },
     "execution_count": 9,
     "metadata": {},
     "output_type": "execute_result"
    }
   ],
   "source": [
    "GyeonGi  = df_2.loc[(df_2['계약구분'] == '일반용')]\n",
    "#SEOUL = df_3.loc[(df_3['계약구분'] =='일반용')]\n",
    "GyeonGi.drop(['시군구' , '전기요금(원)' , '평균판매단가(원/kWh)'] , axis = 1 , inplace = True)\n",
    "GyeonGi"
   ],
   "metadata": {
    "collapsed": false,
    "pycharm": {
     "name": "#%%\n"
    }
   }
  },
  {
   "cell_type": "code",
   "execution_count": 10,
   "outputs": [],
   "source": [
    "#SEOUL1.to_csv(\"서울특별시_계약종별_전국_전력사용량_2022.csv\" , mode = 'w' , encoding= 'cp949')"
   ],
   "metadata": {
    "collapsed": false,
    "pycharm": {
     "name": "#%%\n"
    }
   }
  },
  {
   "cell_type": "code",
   "execution_count": 11,
   "outputs": [],
   "source": [
    "#df_2.to_csv(\"서울특별시_계약종별_전국_전력사용량.csv\" , mode = 'w' , encoding= 'cp949')"
   ],
   "metadata": {
    "collapsed": false,
    "pycharm": {
     "name": "#%%\n"
    }
   }
  },
  {
   "cell_type": "code",
   "execution_count": 12,
   "outputs": [
    {
     "data": {
      "text/plain": "          년월    시구  시군구 계약구분 고객호수(호)     사용량(kWh)\n53    202101  전라남도  강진군  일반용  3,240    6,883,269 \n229   202102  전라남도  강진군  일반용  3,252    6,912,051 \n405   202103  전라남도  강진군  일반용  3,236    5,491,008 \n581   202104  전라남도  강진군  일반용  3,213    5,365,569 \n757   202105  전라남도  강진군  일반용  3,248    4,833,539 \n...      ...   ...  ...  ...     ...          ...\n397   202102  전라남도  화순군  일반용  4,793   13,829,459 \n573   202103  전라남도  화순군  일반용  4,769   11,682,071 \n749   202104  전라남도  화순군  일반용  4,763   11,306,862 \n925   202105  전라남도  화순군  일반용  4,778   10,632,231 \n1101  202106  전라남도  화순군  일반용  4,778   11,460,363 \n\n[132 rows x 6 columns]",
      "text/html": "<div>\n<style scoped>\n    .dataframe tbody tr th:only-of-type {\n        vertical-align: middle;\n    }\n\n    .dataframe tbody tr th {\n        vertical-align: top;\n    }\n\n    .dataframe thead th {\n        text-align: right;\n    }\n</style>\n<table border=\"1\" class=\"dataframe\">\n  <thead>\n    <tr style=\"text-align: right;\">\n      <th></th>\n      <th>년월</th>\n      <th>시구</th>\n      <th>시군구</th>\n      <th>계약구분</th>\n      <th>고객호수(호)</th>\n      <th>사용량(kWh)</th>\n    </tr>\n  </thead>\n  <tbody>\n    <tr>\n      <th>53</th>\n      <td>202101</td>\n      <td>전라남도</td>\n      <td>강진군</td>\n      <td>일반용</td>\n      <td>3,240</td>\n      <td>6,883,269</td>\n    </tr>\n    <tr>\n      <th>229</th>\n      <td>202102</td>\n      <td>전라남도</td>\n      <td>강진군</td>\n      <td>일반용</td>\n      <td>3,252</td>\n      <td>6,912,051</td>\n    </tr>\n    <tr>\n      <th>405</th>\n      <td>202103</td>\n      <td>전라남도</td>\n      <td>강진군</td>\n      <td>일반용</td>\n      <td>3,236</td>\n      <td>5,491,008</td>\n    </tr>\n    <tr>\n      <th>581</th>\n      <td>202104</td>\n      <td>전라남도</td>\n      <td>강진군</td>\n      <td>일반용</td>\n      <td>3,213</td>\n      <td>5,365,569</td>\n    </tr>\n    <tr>\n      <th>757</th>\n      <td>202105</td>\n      <td>전라남도</td>\n      <td>강진군</td>\n      <td>일반용</td>\n      <td>3,248</td>\n      <td>4,833,539</td>\n    </tr>\n    <tr>\n      <th>...</th>\n      <td>...</td>\n      <td>...</td>\n      <td>...</td>\n      <td>...</td>\n      <td>...</td>\n      <td>...</td>\n    </tr>\n    <tr>\n      <th>397</th>\n      <td>202102</td>\n      <td>전라남도</td>\n      <td>화순군</td>\n      <td>일반용</td>\n      <td>4,793</td>\n      <td>13,829,459</td>\n    </tr>\n    <tr>\n      <th>573</th>\n      <td>202103</td>\n      <td>전라남도</td>\n      <td>화순군</td>\n      <td>일반용</td>\n      <td>4,769</td>\n      <td>11,682,071</td>\n    </tr>\n    <tr>\n      <th>749</th>\n      <td>202104</td>\n      <td>전라남도</td>\n      <td>화순군</td>\n      <td>일반용</td>\n      <td>4,763</td>\n      <td>11,306,862</td>\n    </tr>\n    <tr>\n      <th>925</th>\n      <td>202105</td>\n      <td>전라남도</td>\n      <td>화순군</td>\n      <td>일반용</td>\n      <td>4,778</td>\n      <td>10,632,231</td>\n    </tr>\n    <tr>\n      <th>1101</th>\n      <td>202106</td>\n      <td>전라남도</td>\n      <td>화순군</td>\n      <td>일반용</td>\n      <td>4,778</td>\n      <td>11,460,363</td>\n    </tr>\n  </tbody>\n</table>\n<p>132 rows × 6 columns</p>\n</div>"
     },
     "execution_count": 12,
     "metadata": {},
     "output_type": "execute_result"
    }
   ],
   "source": [
    "df_3 = df.loc[48:]\n",
    "df_3 = df_3.loc[(df_3['계약구분'] == '일반용')]\n",
    "df_3 = df_3.sort_values(by=['시군구' , '년월'])\n",
    "df_3.drop(['전기요금(원)',   '평균판매단가(원/kWh)'] , axis = 1 , inplace = True)\n",
    "df_3"
   ],
   "metadata": {
    "collapsed": false,
    "pycharm": {
     "name": "#%%\n"
    }
   }
  },
  {
   "cell_type": "code",
   "execution_count": 13,
   "outputs": [
    {
     "data": {
      "text/plain": "'전라남도'"
     },
     "execution_count": 13,
     "metadata": {},
     "output_type": "execute_result"
    }
   ],
   "source": [
    "a = df_3.loc[: , \"시구\"]\n",
    "b = a[:1].tolist()\n",
    "for i in b:\n",
    "    City = i\n",
    "City"
   ],
   "metadata": {
    "collapsed": false,
    "pycharm": {
     "name": "#%%\n"
    }
   }
  },
  {
   "cell_type": "code",
   "execution_count": 14,
   "outputs": [
    {
     "data": {
      "text/plain": "['강진군',\n '고흥군',\n '곡성군',\n '광양시',\n '구례군',\n '나주시',\n '담양군',\n '목포시',\n '무안군',\n '보성군',\n '순천시',\n '신안군',\n '여수시',\n '영광군',\n '영암군',\n '완도군',\n '장성군',\n '장흥군',\n '진도군',\n '함평군',\n '해남군',\n '화순군']"
     },
     "execution_count": 14,
     "metadata": {},
     "output_type": "execute_result"
    }
   ],
   "source": [
    "\n",
    "SIGUNGU = list(set(df_3.loc[: , '시군구'].tolist()))\n",
    "SIGUNGU.sort()\n",
    "SIGUNGU"
   ],
   "metadata": {
    "collapsed": false,
    "pycharm": {
     "name": "#%%\n"
    }
   }
  },
  {
   "cell_type": "code",
   "execution_count": 15,
   "outputs": [
    {
     "data": {
      "text/plain": "          년월    시구  시군구 계약구분  고객호수(호)     사용량(kWh)\n55    202101  전라남도  강진군   합계  41,157   39,344,162 \n231   202102  전라남도  강진군   합계  41,186   38,175,335 \n407   202103  전라남도  강진군   합계  50,479   33,538,525 \n583   202104  전라남도  강진군   합계  41,295   31,447,105 \n759   202105  전라남도  강진군   합계  41,483   27,763,080 \n...      ...   ...  ...  ...      ...          ...\n399   202102  전라남도  화순군   합계  44,733   52,856,072 \n575   202103  전라남도  화순군   합계  46,603   44,212,498 \n751   202104  전라남도  화순군   합계  44,874   42,820,801 \n927   202105  전라남도  화순군   합계  45,019   37,114,449 \n1103  202106  전라남도  화순군   합계  45,144   38,031,879 \n\n[132 rows x 6 columns]",
      "text/html": "<div>\n<style scoped>\n    .dataframe tbody tr th:only-of-type {\n        vertical-align: middle;\n    }\n\n    .dataframe tbody tr th {\n        vertical-align: top;\n    }\n\n    .dataframe thead th {\n        text-align: right;\n    }\n</style>\n<table border=\"1\" class=\"dataframe\">\n  <thead>\n    <tr style=\"text-align: right;\">\n      <th></th>\n      <th>년월</th>\n      <th>시구</th>\n      <th>시군구</th>\n      <th>계약구분</th>\n      <th>고객호수(호)</th>\n      <th>사용량(kWh)</th>\n    </tr>\n  </thead>\n  <tbody>\n    <tr>\n      <th>55</th>\n      <td>202101</td>\n      <td>전라남도</td>\n      <td>강진군</td>\n      <td>합계</td>\n      <td>41,157</td>\n      <td>39,344,162</td>\n    </tr>\n    <tr>\n      <th>231</th>\n      <td>202102</td>\n      <td>전라남도</td>\n      <td>강진군</td>\n      <td>합계</td>\n      <td>41,186</td>\n      <td>38,175,335</td>\n    </tr>\n    <tr>\n      <th>407</th>\n      <td>202103</td>\n      <td>전라남도</td>\n      <td>강진군</td>\n      <td>합계</td>\n      <td>50,479</td>\n      <td>33,538,525</td>\n    </tr>\n    <tr>\n      <th>583</th>\n      <td>202104</td>\n      <td>전라남도</td>\n      <td>강진군</td>\n      <td>합계</td>\n      <td>41,295</td>\n      <td>31,447,105</td>\n    </tr>\n    <tr>\n      <th>759</th>\n      <td>202105</td>\n      <td>전라남도</td>\n      <td>강진군</td>\n      <td>합계</td>\n      <td>41,483</td>\n      <td>27,763,080</td>\n    </tr>\n    <tr>\n      <th>...</th>\n      <td>...</td>\n      <td>...</td>\n      <td>...</td>\n      <td>...</td>\n      <td>...</td>\n      <td>...</td>\n    </tr>\n    <tr>\n      <th>399</th>\n      <td>202102</td>\n      <td>전라남도</td>\n      <td>화순군</td>\n      <td>합계</td>\n      <td>44,733</td>\n      <td>52,856,072</td>\n    </tr>\n    <tr>\n      <th>575</th>\n      <td>202103</td>\n      <td>전라남도</td>\n      <td>화순군</td>\n      <td>합계</td>\n      <td>46,603</td>\n      <td>44,212,498</td>\n    </tr>\n    <tr>\n      <th>751</th>\n      <td>202104</td>\n      <td>전라남도</td>\n      <td>화순군</td>\n      <td>합계</td>\n      <td>44,874</td>\n      <td>42,820,801</td>\n    </tr>\n    <tr>\n      <th>927</th>\n      <td>202105</td>\n      <td>전라남도</td>\n      <td>화순군</td>\n      <td>합계</td>\n      <td>45,019</td>\n      <td>37,114,449</td>\n    </tr>\n    <tr>\n      <th>1103</th>\n      <td>202106</td>\n      <td>전라남도</td>\n      <td>화순군</td>\n      <td>합계</td>\n      <td>45,144</td>\n      <td>38,031,879</td>\n    </tr>\n  </tbody>\n</table>\n<p>132 rows × 6 columns</p>\n</div>"
     },
     "execution_count": 15,
     "metadata": {},
     "output_type": "execute_result"
    }
   ],
   "source": [
    "df_4 = df.loc[48:]\n",
    "df_4 = df_4.loc[(df_4['계약구분'] == '합계')]\n",
    "df_4 = df_4.sort_values(by=['시군구' , '년월'])\n",
    "df_4.drop(['전기요금(원)',   '평균판매단가(원/kWh)'] , axis = 1 , inplace = True)\n",
    "df_4"
   ],
   "metadata": {
    "collapsed": false,
    "pycharm": {
     "name": "#%%\n"
    }
   }
  },
  {
   "cell_type": "code",
   "execution_count": 16,
   "outputs": [
    {
     "name": "stdout",
     "output_type": "stream",
     "text": [
      "[39344162, 38175335, 33538525, 31447105, 27763080, 27422176]\n",
      "[65080823, 60872616, 53091757, 48409090, 34995465, 36137278]\n",
      "[38670950, 34367605, 33481357, 32871369, 31944519, 33701089]\n",
      "[314478976, 279154806, 312611008, 312093452, 410320597, 325511144]\n",
      "[17899080, 16894893, 14405695, 13967825, 12817980, 13120962]\n",
      "[126125187, 119295984, 108447112, 105146168, 99782798, 108133572]\n",
      "[56735547, 53013724, 44555649, 41844838, 38286917, 39181889]\n",
      "[101445465, 97952050, 86476844, 83153082, 74151862, 77728181]\n",
      "[64557139, 60936285, 54800542, 53420057, 50203968, 53381108]\n",
      "[30856956, 29434431, 24201326, 24308179, 22253375, 22736655]\n",
      "[188654664, 182927197, 172630341, 158544341, 164695934, 162049887]\n",
      "[26379866, 27489936, 24953115, 24910892, 20725857, 22601471]\n",
      "[1220320597, 1147490393, 1208432074, 1196139115, 1245821863, 1255823074]\n",
      "[84783957, 80005061, 80763242, 79520386, 83167955, 58562430]\n",
      "[84373008, 133788450, 101947222, 95604920, 91755627, 101768529]\n",
      "[82978006, 85625586, 93194812, 106296387, 93661499, 84711662]\n",
      "[60491498, 56757428, 56963281, 55837126, 51897120, 52834357]\n",
      "[35949113, 34360953, 32454769, 31907191, 26198385, 26584243]\n",
      "[32663238, 31387529, 31718084, 32290610, 26426107, 26143642]\n",
      "[38635793, 37215414, 32756060, 32188148, 28695608, 29656517]\n",
      "[77236987, 78898449, 78369293, 67772308, 49421609, 52283567]\n",
      "[56997191, 52856072, 44212498, 42820801, 37114449, 38031879]\n",
      "전라남도 지역별 합계 :  [197690383, 298587029, 205036889, 1954169983, 89106435, 666930821, 273618564, 520907484, 337299099, 153790922, 1029502364, 147061137, 7274027116, 466803031, 609237756, 546467952, 334780810, 187454654, 180629210, 199147540, 403982213, 272032890]\n",
      "전라남도 고객호수 평균:  [7146, 14483, 6315, 13758, 5445, 15429, 8607, 16546, 11821, 9076, 26751, 8966, 27397, 9589, 10130, 8610, 7117, 7834, 7004, 6977, 14364, 7527]\n"
     ]
    }
   ],
   "source": [
    "sum2 , sum3 =[] , []\n",
    "for k in SIGUNGU:\n",
    "    GyeonGiHap = pd.DataFrame([] , columns = a)\n",
    "    HOSU = pd.DataFrame([], columns = a)\n",
    "    GyeonGiHap['사용량']= df_4['사용량(kWh)'].loc[(df_4['시군구'] == '{}'.format(k))]\n",
    "    HOSU['고객호수']= df_4['고객호수(호)'].loc[(df_4['시군구'] == '{}'.format(k))]\n",
    "    #경기합 데이터프레임의 사용량 열에 기군구가 가평군인 사용량 데이터만 뽑아내기\n",
    "    # GyeonGiHap = GyeonGiHap['사용량']\n",
    "\n",
    "    b = GyeonGiHap['사용량'].tolist()\n",
    "    c = HOSU['고객호수'].tolist()\n",
    "\n",
    "\n",
    "    #각지역별 사용량 리스트화\n",
    "    int_list  , int_list2=[] , []\n",
    "    for i in b:\n",
    "        i = re.sub(\",\" , \"\" , i)\n",
    "        #콤마 없애기\n",
    "        int_list.append(int(i))\n",
    "        #int_list에 각지역별 사용량 int로 저장\n",
    "    print(int_list)\n",
    "    sum=0\n",
    "    for i in c:\n",
    "        i = re.sub(\",\" , \"\" , i)\n",
    "        int_list2.append(int(i))\n",
    "\n",
    "    for j in int_list:\n",
    "\n",
    "        sum+= j\n",
    "    sum2.append(sum)\n",
    "    sum = 0\n",
    "    for j in int_list2: #고객호수 추출하여 더하기\n",
    "\n",
    "        sum+= j\n",
    "    sum3.append(sum//36) #6개월 치로 나눠야하나?!\n",
    "\n",
    "\n",
    "\n",
    "\n",
    "print(\"{} 지역별 합계 : \".format(City) , sum2)\n",
    "print(\"{} 고객호수 평균: \".format(City) , sum3)"
   ],
   "metadata": {
    "collapsed": false,
    "pycharm": {
     "name": "#%%\n"
    }
   }
  },
  {
   "cell_type": "markdown",
   "source": [
    "### 2. 날짜 체크!!!!!!!!!!!!!!!!!!!!!!!!!!!!!!!!!!!!!!!!!!!!!!"
   ],
   "metadata": {
    "collapsed": false,
    "pycharm": {
     "name": "#%% md\n"
    }
   }
  },
  {
   "cell_type": "code",
   "execution_count": 17,
   "outputs": [
    {
     "name": "stderr",
     "output_type": "stream",
     "text": [
      "C:\\Users\\user\\AppData\\Local\\Temp\\ipykernel_16576\\1481603074.py:4: FutureWarning: The frame.append method is deprecated and will be removed from pandas in a future version. Use pandas.concat instead.\n",
      "  Hap = Hap.append({'년월' :'202101-202106'  , '시구' : '{}'.format(City) , '시군구' : '{}'.format(SIGUNGU[i]) , '계약구분' : '합계' , '고객호수(호)' : sum3[i] ,  '사용량(kWh)' : sum2[i]} , ignore_index=True) #년월 파일마다 수정하기\n",
      "C:\\Users\\user\\AppData\\Local\\Temp\\ipykernel_16576\\1481603074.py:4: FutureWarning: The frame.append method is deprecated and will be removed from pandas in a future version. Use pandas.concat instead.\n",
      "  Hap = Hap.append({'년월' :'202101-202106'  , '시구' : '{}'.format(City) , '시군구' : '{}'.format(SIGUNGU[i]) , '계약구분' : '합계' , '고객호수(호)' : sum3[i] ,  '사용량(kWh)' : sum2[i]} , ignore_index=True) #년월 파일마다 수정하기\n",
      "C:\\Users\\user\\AppData\\Local\\Temp\\ipykernel_16576\\1481603074.py:4: FutureWarning: The frame.append method is deprecated and will be removed from pandas in a future version. Use pandas.concat instead.\n",
      "  Hap = Hap.append({'년월' :'202101-202106'  , '시구' : '{}'.format(City) , '시군구' : '{}'.format(SIGUNGU[i]) , '계약구분' : '합계' , '고객호수(호)' : sum3[i] ,  '사용량(kWh)' : sum2[i]} , ignore_index=True) #년월 파일마다 수정하기\n",
      "C:\\Users\\user\\AppData\\Local\\Temp\\ipykernel_16576\\1481603074.py:4: FutureWarning: The frame.append method is deprecated and will be removed from pandas in a future version. Use pandas.concat instead.\n",
      "  Hap = Hap.append({'년월' :'202101-202106'  , '시구' : '{}'.format(City) , '시군구' : '{}'.format(SIGUNGU[i]) , '계약구분' : '합계' , '고객호수(호)' : sum3[i] ,  '사용량(kWh)' : sum2[i]} , ignore_index=True) #년월 파일마다 수정하기\n",
      "C:\\Users\\user\\AppData\\Local\\Temp\\ipykernel_16576\\1481603074.py:4: FutureWarning: The frame.append method is deprecated and will be removed from pandas in a future version. Use pandas.concat instead.\n",
      "  Hap = Hap.append({'년월' :'202101-202106'  , '시구' : '{}'.format(City) , '시군구' : '{}'.format(SIGUNGU[i]) , '계약구분' : '합계' , '고객호수(호)' : sum3[i] ,  '사용량(kWh)' : sum2[i]} , ignore_index=True) #년월 파일마다 수정하기\n",
      "C:\\Users\\user\\AppData\\Local\\Temp\\ipykernel_16576\\1481603074.py:4: FutureWarning: The frame.append method is deprecated and will be removed from pandas in a future version. Use pandas.concat instead.\n",
      "  Hap = Hap.append({'년월' :'202101-202106'  , '시구' : '{}'.format(City) , '시군구' : '{}'.format(SIGUNGU[i]) , '계약구분' : '합계' , '고객호수(호)' : sum3[i] ,  '사용량(kWh)' : sum2[i]} , ignore_index=True) #년월 파일마다 수정하기\n",
      "C:\\Users\\user\\AppData\\Local\\Temp\\ipykernel_16576\\1481603074.py:4: FutureWarning: The frame.append method is deprecated and will be removed from pandas in a future version. Use pandas.concat instead.\n",
      "  Hap = Hap.append({'년월' :'202101-202106'  , '시구' : '{}'.format(City) , '시군구' : '{}'.format(SIGUNGU[i]) , '계약구분' : '합계' , '고객호수(호)' : sum3[i] ,  '사용량(kWh)' : sum2[i]} , ignore_index=True) #년월 파일마다 수정하기\n",
      "C:\\Users\\user\\AppData\\Local\\Temp\\ipykernel_16576\\1481603074.py:4: FutureWarning: The frame.append method is deprecated and will be removed from pandas in a future version. Use pandas.concat instead.\n",
      "  Hap = Hap.append({'년월' :'202101-202106'  , '시구' : '{}'.format(City) , '시군구' : '{}'.format(SIGUNGU[i]) , '계약구분' : '합계' , '고객호수(호)' : sum3[i] ,  '사용량(kWh)' : sum2[i]} , ignore_index=True) #년월 파일마다 수정하기\n",
      "C:\\Users\\user\\AppData\\Local\\Temp\\ipykernel_16576\\1481603074.py:4: FutureWarning: The frame.append method is deprecated and will be removed from pandas in a future version. Use pandas.concat instead.\n",
      "  Hap = Hap.append({'년월' :'202101-202106'  , '시구' : '{}'.format(City) , '시군구' : '{}'.format(SIGUNGU[i]) , '계약구분' : '합계' , '고객호수(호)' : sum3[i] ,  '사용량(kWh)' : sum2[i]} , ignore_index=True) #년월 파일마다 수정하기\n",
      "C:\\Users\\user\\AppData\\Local\\Temp\\ipykernel_16576\\1481603074.py:4: FutureWarning: The frame.append method is deprecated and will be removed from pandas in a future version. Use pandas.concat instead.\n",
      "  Hap = Hap.append({'년월' :'202101-202106'  , '시구' : '{}'.format(City) , '시군구' : '{}'.format(SIGUNGU[i]) , '계약구분' : '합계' , '고객호수(호)' : sum3[i] ,  '사용량(kWh)' : sum2[i]} , ignore_index=True) #년월 파일마다 수정하기\n",
      "C:\\Users\\user\\AppData\\Local\\Temp\\ipykernel_16576\\1481603074.py:4: FutureWarning: The frame.append method is deprecated and will be removed from pandas in a future version. Use pandas.concat instead.\n",
      "  Hap = Hap.append({'년월' :'202101-202106'  , '시구' : '{}'.format(City) , '시군구' : '{}'.format(SIGUNGU[i]) , '계약구분' : '합계' , '고객호수(호)' : sum3[i] ,  '사용량(kWh)' : sum2[i]} , ignore_index=True) #년월 파일마다 수정하기\n",
      "C:\\Users\\user\\AppData\\Local\\Temp\\ipykernel_16576\\1481603074.py:4: FutureWarning: The frame.append method is deprecated and will be removed from pandas in a future version. Use pandas.concat instead.\n",
      "  Hap = Hap.append({'년월' :'202101-202106'  , '시구' : '{}'.format(City) , '시군구' : '{}'.format(SIGUNGU[i]) , '계약구분' : '합계' , '고객호수(호)' : sum3[i] ,  '사용량(kWh)' : sum2[i]} , ignore_index=True) #년월 파일마다 수정하기\n",
      "C:\\Users\\user\\AppData\\Local\\Temp\\ipykernel_16576\\1481603074.py:4: FutureWarning: The frame.append method is deprecated and will be removed from pandas in a future version. Use pandas.concat instead.\n",
      "  Hap = Hap.append({'년월' :'202101-202106'  , '시구' : '{}'.format(City) , '시군구' : '{}'.format(SIGUNGU[i]) , '계약구분' : '합계' , '고객호수(호)' : sum3[i] ,  '사용량(kWh)' : sum2[i]} , ignore_index=True) #년월 파일마다 수정하기\n",
      "C:\\Users\\user\\AppData\\Local\\Temp\\ipykernel_16576\\1481603074.py:4: FutureWarning: The frame.append method is deprecated and will be removed from pandas in a future version. Use pandas.concat instead.\n",
      "  Hap = Hap.append({'년월' :'202101-202106'  , '시구' : '{}'.format(City) , '시군구' : '{}'.format(SIGUNGU[i]) , '계약구분' : '합계' , '고객호수(호)' : sum3[i] ,  '사용량(kWh)' : sum2[i]} , ignore_index=True) #년월 파일마다 수정하기\n",
      "C:\\Users\\user\\AppData\\Local\\Temp\\ipykernel_16576\\1481603074.py:4: FutureWarning: The frame.append method is deprecated and will be removed from pandas in a future version. Use pandas.concat instead.\n",
      "  Hap = Hap.append({'년월' :'202101-202106'  , '시구' : '{}'.format(City) , '시군구' : '{}'.format(SIGUNGU[i]) , '계약구분' : '합계' , '고객호수(호)' : sum3[i] ,  '사용량(kWh)' : sum2[i]} , ignore_index=True) #년월 파일마다 수정하기\n",
      "C:\\Users\\user\\AppData\\Local\\Temp\\ipykernel_16576\\1481603074.py:4: FutureWarning: The frame.append method is deprecated and will be removed from pandas in a future version. Use pandas.concat instead.\n",
      "  Hap = Hap.append({'년월' :'202101-202106'  , '시구' : '{}'.format(City) , '시군구' : '{}'.format(SIGUNGU[i]) , '계약구분' : '합계' , '고객호수(호)' : sum3[i] ,  '사용량(kWh)' : sum2[i]} , ignore_index=True) #년월 파일마다 수정하기\n",
      "C:\\Users\\user\\AppData\\Local\\Temp\\ipykernel_16576\\1481603074.py:4: FutureWarning: The frame.append method is deprecated and will be removed from pandas in a future version. Use pandas.concat instead.\n",
      "  Hap = Hap.append({'년월' :'202101-202106'  , '시구' : '{}'.format(City) , '시군구' : '{}'.format(SIGUNGU[i]) , '계약구분' : '합계' , '고객호수(호)' : sum3[i] ,  '사용량(kWh)' : sum2[i]} , ignore_index=True) #년월 파일마다 수정하기\n",
      "C:\\Users\\user\\AppData\\Local\\Temp\\ipykernel_16576\\1481603074.py:4: FutureWarning: The frame.append method is deprecated and will be removed from pandas in a future version. Use pandas.concat instead.\n",
      "  Hap = Hap.append({'년월' :'202101-202106'  , '시구' : '{}'.format(City) , '시군구' : '{}'.format(SIGUNGU[i]) , '계약구분' : '합계' , '고객호수(호)' : sum3[i] ,  '사용량(kWh)' : sum2[i]} , ignore_index=True) #년월 파일마다 수정하기\n",
      "C:\\Users\\user\\AppData\\Local\\Temp\\ipykernel_16576\\1481603074.py:4: FutureWarning: The frame.append method is deprecated and will be removed from pandas in a future version. Use pandas.concat instead.\n",
      "  Hap = Hap.append({'년월' :'202101-202106'  , '시구' : '{}'.format(City) , '시군구' : '{}'.format(SIGUNGU[i]) , '계약구분' : '합계' , '고객호수(호)' : sum3[i] ,  '사용량(kWh)' : sum2[i]} , ignore_index=True) #년월 파일마다 수정하기\n",
      "C:\\Users\\user\\AppData\\Local\\Temp\\ipykernel_16576\\1481603074.py:4: FutureWarning: The frame.append method is deprecated and will be removed from pandas in a future version. Use pandas.concat instead.\n",
      "  Hap = Hap.append({'년월' :'202101-202106'  , '시구' : '{}'.format(City) , '시군구' : '{}'.format(SIGUNGU[i]) , '계약구분' : '합계' , '고객호수(호)' : sum3[i] ,  '사용량(kWh)' : sum2[i]} , ignore_index=True) #년월 파일마다 수정하기\n",
      "C:\\Users\\user\\AppData\\Local\\Temp\\ipykernel_16576\\1481603074.py:4: FutureWarning: The frame.append method is deprecated and will be removed from pandas in a future version. Use pandas.concat instead.\n",
      "  Hap = Hap.append({'년월' :'202101-202106'  , '시구' : '{}'.format(City) , '시군구' : '{}'.format(SIGUNGU[i]) , '계약구분' : '합계' , '고객호수(호)' : sum3[i] ,  '사용량(kWh)' : sum2[i]} , ignore_index=True) #년월 파일마다 수정하기\n",
      "C:\\Users\\user\\AppData\\Local\\Temp\\ipykernel_16576\\1481603074.py:4: FutureWarning: The frame.append method is deprecated and will be removed from pandas in a future version. Use pandas.concat instead.\n",
      "  Hap = Hap.append({'년월' :'202101-202106'  , '시구' : '{}'.format(City) , '시군구' : '{}'.format(SIGUNGU[i]) , '계약구분' : '합계' , '고객호수(호)' : sum3[i] ,  '사용량(kWh)' : sum2[i]} , ignore_index=True) #년월 파일마다 수정하기\n"
     ]
    },
    {
     "data": {
      "text/plain": "                년월    시구  시군구 계약구분  고객호수(호)     사용량(kWh)\n0           202101  전라남도  강진군   합계  41,157   39,344,162 \n1           202102  전라남도  강진군   합계  41,186   38,175,335 \n2           202103  전라남도  강진군   합계  50,479   33,538,525 \n3           202104  전라남도  강진군   합계  41,295   31,447,105 \n4           202105  전라남도  강진군   합계  41,483   27,763,080 \n..             ...   ...  ...  ...      ...          ...\n149  202101-202106  전라남도  장흥군   합계     7834    187454654\n150  202101-202106  전라남도  진도군   합계     7004    180629210\n151  202101-202106  전라남도  함평군   합계     6977    199147540\n152  202101-202106  전라남도  해남군   합계    14364    403982213\n153  202101-202106  전라남도  화순군   합계     7527    272032890\n\n[154 rows x 6 columns]",
      "text/html": "<div>\n<style scoped>\n    .dataframe tbody tr th:only-of-type {\n        vertical-align: middle;\n    }\n\n    .dataframe tbody tr th {\n        vertical-align: top;\n    }\n\n    .dataframe thead th {\n        text-align: right;\n    }\n</style>\n<table border=\"1\" class=\"dataframe\">\n  <thead>\n    <tr style=\"text-align: right;\">\n      <th></th>\n      <th>년월</th>\n      <th>시구</th>\n      <th>시군구</th>\n      <th>계약구분</th>\n      <th>고객호수(호)</th>\n      <th>사용량(kWh)</th>\n    </tr>\n  </thead>\n  <tbody>\n    <tr>\n      <th>0</th>\n      <td>202101</td>\n      <td>전라남도</td>\n      <td>강진군</td>\n      <td>합계</td>\n      <td>41,157</td>\n      <td>39,344,162</td>\n    </tr>\n    <tr>\n      <th>1</th>\n      <td>202102</td>\n      <td>전라남도</td>\n      <td>강진군</td>\n      <td>합계</td>\n      <td>41,186</td>\n      <td>38,175,335</td>\n    </tr>\n    <tr>\n      <th>2</th>\n      <td>202103</td>\n      <td>전라남도</td>\n      <td>강진군</td>\n      <td>합계</td>\n      <td>50,479</td>\n      <td>33,538,525</td>\n    </tr>\n    <tr>\n      <th>3</th>\n      <td>202104</td>\n      <td>전라남도</td>\n      <td>강진군</td>\n      <td>합계</td>\n      <td>41,295</td>\n      <td>31,447,105</td>\n    </tr>\n    <tr>\n      <th>4</th>\n      <td>202105</td>\n      <td>전라남도</td>\n      <td>강진군</td>\n      <td>합계</td>\n      <td>41,483</td>\n      <td>27,763,080</td>\n    </tr>\n    <tr>\n      <th>...</th>\n      <td>...</td>\n      <td>...</td>\n      <td>...</td>\n      <td>...</td>\n      <td>...</td>\n      <td>...</td>\n    </tr>\n    <tr>\n      <th>149</th>\n      <td>202101-202106</td>\n      <td>전라남도</td>\n      <td>장흥군</td>\n      <td>합계</td>\n      <td>7834</td>\n      <td>187454654</td>\n    </tr>\n    <tr>\n      <th>150</th>\n      <td>202101-202106</td>\n      <td>전라남도</td>\n      <td>진도군</td>\n      <td>합계</td>\n      <td>7004</td>\n      <td>180629210</td>\n    </tr>\n    <tr>\n      <th>151</th>\n      <td>202101-202106</td>\n      <td>전라남도</td>\n      <td>함평군</td>\n      <td>합계</td>\n      <td>6977</td>\n      <td>199147540</td>\n    </tr>\n    <tr>\n      <th>152</th>\n      <td>202101-202106</td>\n      <td>전라남도</td>\n      <td>해남군</td>\n      <td>합계</td>\n      <td>14364</td>\n      <td>403982213</td>\n    </tr>\n    <tr>\n      <th>153</th>\n      <td>202101-202106</td>\n      <td>전라남도</td>\n      <td>화순군</td>\n      <td>합계</td>\n      <td>7527</td>\n      <td>272032890</td>\n    </tr>\n  </tbody>\n</table>\n<p>154 rows × 6 columns</p>\n</div>"
     },
     "execution_count": 17,
     "metadata": {},
     "output_type": "execute_result"
    }
   ],
   "source": [
    "Hap = df_4.copy()\n",
    "Hap.reset_index(drop=True , inplace = True)\n",
    "for i in range(len(SIGUNGU)):\n",
    "    Hap = Hap.append({'년월' :'202101-202106'  , '시구' : '{}'.format(City) , '시군구' : '{}'.format(SIGUNGU[i]) , '계약구분' : '합계' , '고객호수(호)' : sum3[i] ,  '사용량(kWh)' : sum2[i]} , ignore_index=True) #년월 파일마다 수정하기\n",
    "Hap"
   ],
   "metadata": {
    "collapsed": false,
    "pycharm": {
     "name": "#%%\n"
    }
   }
  },
  {
   "cell_type": "markdown",
   "source": [
    "### 3. 날짜 변경!!!!!!!!!!!!!!!!!!!!!!!!!!!!!!!"
   ],
   "metadata": {
    "collapsed": false,
    "pycharm": {
     "name": "#%% md\n"
    }
   }
  },
  {
   "cell_type": "code",
   "execution_count": 18,
   "outputs": [
    {
     "data": {
      "text/plain": "                년월    시구  시군구 계약구분 고객호수(호)    사용량(kWh)\n132  202101-202106  전라남도  강진군   합계    7146   197690383\n133  202101-202106  전라남도  고흥군   합계   14483   298587029\n134  202101-202106  전라남도  곡성군   합계    6315   205036889\n135  202101-202106  전라남도  광양시   합계   13758  1954169983\n136  202101-202106  전라남도  구례군   합계    5445    89106435\n137  202101-202106  전라남도  나주시   합계   15429   666930821\n138  202101-202106  전라남도  담양군   합계    8607   273618564\n139  202101-202106  전라남도  목포시   합계   16546   520907484\n140  202101-202106  전라남도  무안군   합계   11821   337299099\n141  202101-202106  전라남도  보성군   합계    9076   153790922\n142  202101-202106  전라남도  순천시   합계   26751  1029502364\n143  202101-202106  전라남도  신안군   합계    8966   147061137\n144  202101-202106  전라남도  여수시   합계   27397  7274027116\n145  202101-202106  전라남도  영광군   합계    9589   466803031\n146  202101-202106  전라남도  영암군   합계   10130   609237756\n147  202101-202106  전라남도  완도군   합계    8610   546467952\n148  202101-202106  전라남도  장성군   합계    7117   334780810\n149  202101-202106  전라남도  장흥군   합계    7834   187454654\n150  202101-202106  전라남도  진도군   합계    7004   180629210\n151  202101-202106  전라남도  함평군   합계    6977   199147540\n152  202101-202106  전라남도  해남군   합계   14364   403982213\n153  202101-202106  전라남도  화순군   합계    7527   272032890",
      "text/html": "<div>\n<style scoped>\n    .dataframe tbody tr th:only-of-type {\n        vertical-align: middle;\n    }\n\n    .dataframe tbody tr th {\n        vertical-align: top;\n    }\n\n    .dataframe thead th {\n        text-align: right;\n    }\n</style>\n<table border=\"1\" class=\"dataframe\">\n  <thead>\n    <tr style=\"text-align: right;\">\n      <th></th>\n      <th>년월</th>\n      <th>시구</th>\n      <th>시군구</th>\n      <th>계약구분</th>\n      <th>고객호수(호)</th>\n      <th>사용량(kWh)</th>\n    </tr>\n  </thead>\n  <tbody>\n    <tr>\n      <th>132</th>\n      <td>202101-202106</td>\n      <td>전라남도</td>\n      <td>강진군</td>\n      <td>합계</td>\n      <td>7146</td>\n      <td>197690383</td>\n    </tr>\n    <tr>\n      <th>133</th>\n      <td>202101-202106</td>\n      <td>전라남도</td>\n      <td>고흥군</td>\n      <td>합계</td>\n      <td>14483</td>\n      <td>298587029</td>\n    </tr>\n    <tr>\n      <th>134</th>\n      <td>202101-202106</td>\n      <td>전라남도</td>\n      <td>곡성군</td>\n      <td>합계</td>\n      <td>6315</td>\n      <td>205036889</td>\n    </tr>\n    <tr>\n      <th>135</th>\n      <td>202101-202106</td>\n      <td>전라남도</td>\n      <td>광양시</td>\n      <td>합계</td>\n      <td>13758</td>\n      <td>1954169983</td>\n    </tr>\n    <tr>\n      <th>136</th>\n      <td>202101-202106</td>\n      <td>전라남도</td>\n      <td>구례군</td>\n      <td>합계</td>\n      <td>5445</td>\n      <td>89106435</td>\n    </tr>\n    <tr>\n      <th>137</th>\n      <td>202101-202106</td>\n      <td>전라남도</td>\n      <td>나주시</td>\n      <td>합계</td>\n      <td>15429</td>\n      <td>666930821</td>\n    </tr>\n    <tr>\n      <th>138</th>\n      <td>202101-202106</td>\n      <td>전라남도</td>\n      <td>담양군</td>\n      <td>합계</td>\n      <td>8607</td>\n      <td>273618564</td>\n    </tr>\n    <tr>\n      <th>139</th>\n      <td>202101-202106</td>\n      <td>전라남도</td>\n      <td>목포시</td>\n      <td>합계</td>\n      <td>16546</td>\n      <td>520907484</td>\n    </tr>\n    <tr>\n      <th>140</th>\n      <td>202101-202106</td>\n      <td>전라남도</td>\n      <td>무안군</td>\n      <td>합계</td>\n      <td>11821</td>\n      <td>337299099</td>\n    </tr>\n    <tr>\n      <th>141</th>\n      <td>202101-202106</td>\n      <td>전라남도</td>\n      <td>보성군</td>\n      <td>합계</td>\n      <td>9076</td>\n      <td>153790922</td>\n    </tr>\n    <tr>\n      <th>142</th>\n      <td>202101-202106</td>\n      <td>전라남도</td>\n      <td>순천시</td>\n      <td>합계</td>\n      <td>26751</td>\n      <td>1029502364</td>\n    </tr>\n    <tr>\n      <th>143</th>\n      <td>202101-202106</td>\n      <td>전라남도</td>\n      <td>신안군</td>\n      <td>합계</td>\n      <td>8966</td>\n      <td>147061137</td>\n    </tr>\n    <tr>\n      <th>144</th>\n      <td>202101-202106</td>\n      <td>전라남도</td>\n      <td>여수시</td>\n      <td>합계</td>\n      <td>27397</td>\n      <td>7274027116</td>\n    </tr>\n    <tr>\n      <th>145</th>\n      <td>202101-202106</td>\n      <td>전라남도</td>\n      <td>영광군</td>\n      <td>합계</td>\n      <td>9589</td>\n      <td>466803031</td>\n    </tr>\n    <tr>\n      <th>146</th>\n      <td>202101-202106</td>\n      <td>전라남도</td>\n      <td>영암군</td>\n      <td>합계</td>\n      <td>10130</td>\n      <td>609237756</td>\n    </tr>\n    <tr>\n      <th>147</th>\n      <td>202101-202106</td>\n      <td>전라남도</td>\n      <td>완도군</td>\n      <td>합계</td>\n      <td>8610</td>\n      <td>546467952</td>\n    </tr>\n    <tr>\n      <th>148</th>\n      <td>202101-202106</td>\n      <td>전라남도</td>\n      <td>장성군</td>\n      <td>합계</td>\n      <td>7117</td>\n      <td>334780810</td>\n    </tr>\n    <tr>\n      <th>149</th>\n      <td>202101-202106</td>\n      <td>전라남도</td>\n      <td>장흥군</td>\n      <td>합계</td>\n      <td>7834</td>\n      <td>187454654</td>\n    </tr>\n    <tr>\n      <th>150</th>\n      <td>202101-202106</td>\n      <td>전라남도</td>\n      <td>진도군</td>\n      <td>합계</td>\n      <td>7004</td>\n      <td>180629210</td>\n    </tr>\n    <tr>\n      <th>151</th>\n      <td>202101-202106</td>\n      <td>전라남도</td>\n      <td>함평군</td>\n      <td>합계</td>\n      <td>6977</td>\n      <td>199147540</td>\n    </tr>\n    <tr>\n      <th>152</th>\n      <td>202101-202106</td>\n      <td>전라남도</td>\n      <td>해남군</td>\n      <td>합계</td>\n      <td>14364</td>\n      <td>403982213</td>\n    </tr>\n    <tr>\n      <th>153</th>\n      <td>202101-202106</td>\n      <td>전라남도</td>\n      <td>화순군</td>\n      <td>합계</td>\n      <td>7527</td>\n      <td>272032890</td>\n    </tr>\n  </tbody>\n</table>\n</div>"
     },
     "execution_count": 18,
     "metadata": {},
     "output_type": "execute_result"
    }
   ],
   "source": [
    "Hap = Hap.loc[Hap['년월'] == '202101-202106']\n",
    "Hap"
   ],
   "metadata": {
    "collapsed": false,
    "pycharm": {
     "name": "#%%\n"
    }
   }
  },
  {
   "cell_type": "code",
   "execution_count": 19,
   "outputs": [],
   "source": [
    "# SIGUNGU = SIGUNGU[:1]\n",
    "# SIGUNGU\n",
    "#for i in SIGUNGU:\n",
    "#print('{}'.format(i))\n",
    "# df_3 = df_3.loc[(df_3['시군구'] == '가평군')]\n",
    "#\n",
    "# df_3"
   ],
   "metadata": {
    "collapsed": false,
    "pycharm": {
     "name": "#%%\n"
    }
   }
  },
  {
   "cell_type": "code",
   "execution_count": 20,
   "outputs": [
    {
     "data": {
      "text/plain": "['년월', '시구', '시군구', '계약구분', '고객호수(호)', '사용량(kWh)']"
     },
     "execution_count": 20,
     "metadata": {},
     "output_type": "execute_result"
    }
   ],
   "source": [
    "a = (df_3.columns).tolist()\n",
    "\n",
    "a"
   ],
   "metadata": {
    "collapsed": false,
    "pycharm": {
     "name": "#%%\n"
    }
   }
  },
  {
   "cell_type": "code",
   "execution_count": 21,
   "outputs": [
    {
     "data": {
      "text/plain": "          년월    시구  시군구 계약구분 고객호수(호)     사용량(kWh)\n53    202101  전라남도  강진군  일반용  3,240    6,883,269 \n229   202102  전라남도  강진군  일반용  3,252    6,912,051 \n405   202103  전라남도  강진군  일반용  3,236    5,491,008 \n581   202104  전라남도  강진군  일반용  3,213    5,365,569 \n757   202105  전라남도  강진군  일반용  3,248    4,833,539 \n...      ...   ...  ...  ...     ...          ...\n397   202102  전라남도  화순군  일반용  4,793   13,829,459 \n573   202103  전라남도  화순군  일반용  4,769   11,682,071 \n749   202104  전라남도  화순군  일반용  4,763   11,306,862 \n925   202105  전라남도  화순군  일반용  4,778   10,632,231 \n1101  202106  전라남도  화순군  일반용  4,778   11,460,363 \n\n[132 rows x 6 columns]",
      "text/html": "<div>\n<style scoped>\n    .dataframe tbody tr th:only-of-type {\n        vertical-align: middle;\n    }\n\n    .dataframe tbody tr th {\n        vertical-align: top;\n    }\n\n    .dataframe thead th {\n        text-align: right;\n    }\n</style>\n<table border=\"1\" class=\"dataframe\">\n  <thead>\n    <tr style=\"text-align: right;\">\n      <th></th>\n      <th>년월</th>\n      <th>시구</th>\n      <th>시군구</th>\n      <th>계약구분</th>\n      <th>고객호수(호)</th>\n      <th>사용량(kWh)</th>\n    </tr>\n  </thead>\n  <tbody>\n    <tr>\n      <th>53</th>\n      <td>202101</td>\n      <td>전라남도</td>\n      <td>강진군</td>\n      <td>일반용</td>\n      <td>3,240</td>\n      <td>6,883,269</td>\n    </tr>\n    <tr>\n      <th>229</th>\n      <td>202102</td>\n      <td>전라남도</td>\n      <td>강진군</td>\n      <td>일반용</td>\n      <td>3,252</td>\n      <td>6,912,051</td>\n    </tr>\n    <tr>\n      <th>405</th>\n      <td>202103</td>\n      <td>전라남도</td>\n      <td>강진군</td>\n      <td>일반용</td>\n      <td>3,236</td>\n      <td>5,491,008</td>\n    </tr>\n    <tr>\n      <th>581</th>\n      <td>202104</td>\n      <td>전라남도</td>\n      <td>강진군</td>\n      <td>일반용</td>\n      <td>3,213</td>\n      <td>5,365,569</td>\n    </tr>\n    <tr>\n      <th>757</th>\n      <td>202105</td>\n      <td>전라남도</td>\n      <td>강진군</td>\n      <td>일반용</td>\n      <td>3,248</td>\n      <td>4,833,539</td>\n    </tr>\n    <tr>\n      <th>...</th>\n      <td>...</td>\n      <td>...</td>\n      <td>...</td>\n      <td>...</td>\n      <td>...</td>\n      <td>...</td>\n    </tr>\n    <tr>\n      <th>397</th>\n      <td>202102</td>\n      <td>전라남도</td>\n      <td>화순군</td>\n      <td>일반용</td>\n      <td>4,793</td>\n      <td>13,829,459</td>\n    </tr>\n    <tr>\n      <th>573</th>\n      <td>202103</td>\n      <td>전라남도</td>\n      <td>화순군</td>\n      <td>일반용</td>\n      <td>4,769</td>\n      <td>11,682,071</td>\n    </tr>\n    <tr>\n      <th>749</th>\n      <td>202104</td>\n      <td>전라남도</td>\n      <td>화순군</td>\n      <td>일반용</td>\n      <td>4,763</td>\n      <td>11,306,862</td>\n    </tr>\n    <tr>\n      <th>925</th>\n      <td>202105</td>\n      <td>전라남도</td>\n      <td>화순군</td>\n      <td>일반용</td>\n      <td>4,778</td>\n      <td>10,632,231</td>\n    </tr>\n    <tr>\n      <th>1101</th>\n      <td>202106</td>\n      <td>전라남도</td>\n      <td>화순군</td>\n      <td>일반용</td>\n      <td>4,778</td>\n      <td>11,460,363</td>\n    </tr>\n  </tbody>\n</table>\n<p>132 rows × 6 columns</p>\n</div>"
     },
     "execution_count": 21,
     "metadata": {},
     "output_type": "execute_result"
    }
   ],
   "source": [
    "df_3"
   ],
   "metadata": {
    "collapsed": false,
    "pycharm": {
     "name": "#%%\n"
    }
   }
  },
  {
   "cell_type": "code",
   "execution_count": 22,
   "outputs": [],
   "source": [
    "# GyeonGiHap = pd.DataFrame([] , columns = a)\n",
    "# GyeonGiHap['사용량']= df_3['사용량(kWh)'].loc[(df_3['시군구'] == '{가평군}')]\n",
    "# GyeonGiHap"
   ],
   "metadata": {
    "collapsed": false,
    "pycharm": {
     "name": "#%%\n"
    }
   }
  },
  {
   "cell_type": "code",
   "execution_count": 23,
   "outputs": [
    {
     "name": "stdout",
     "output_type": "stream",
     "text": [
      "[6883269, 6912051, 5491008, 5365569, 4833539, 5076495]\n",
      "[11021348, 10471039, 8682851, 8611057, 7748063, 8075499]\n",
      "[5132105, 4959967, 4031501, 3884688, 3511813, 3718815]\n",
      "[27123519, 25403954, 21339640, 21049455, 19968675, 21934490]\n",
      "[6341989, 6092291, 5139830, 4839235, 4403571, 4474206]\n",
      "[29146676, 26880606, 23723026, 22686477, 21774454, 24202723]\n",
      "[11956147, 11550190, 9483106, 9225937, 8353991, 9729540]\n",
      "[48001469, 46609056, 39056394, 38094182, 34727700, 37864290]\n",
      "[17955916, 16973673, 14011941, 13760426, 12612890, 13753720]\n",
      "[8019069, 7656485, 6400569, 6214954, 5593214, 5637128]\n",
      "[52320318, 49387882, 41391470, 40994121, 38798926, 43135521]\n",
      "[6745621, 6742302, 5628819, 5501877, 5006106, 6208294]\n",
      "[64598150, 60544531, 50739316, 50144015, 46356022, 49741566]\n",
      "[11376248, 10974089, 9141324, 8570833, 7524637, 7708701]\n",
      "[13355650, 12467085, 10530408, 10243055, 9280971, 9682676]\n",
      "[10528301, 10118133, 8343613, 8217305, 7427064, 7657645]\n",
      "[10989161, 10059927, 8638583, 8319796, 7425523, 8040464]\n",
      "[7359947, 7008550, 5625472, 5641079, 5138603, 5344906]\n",
      "[6454474, 6158436, 5373767, 5249274, 4924133, 5085784]\n",
      "[5571792, 5394222, 4426122, 4339880, 3934602, 4081583]\n",
      "[14163392, 13171701, 11269823, 10873315, 9907169, 10398906]\n",
      "[14512215, 13829459, 11682071, 11306862, 10632231, 11460363]\n",
      "전라남도 지역별 일반용 합계 :  [34561931, 54609857, 25238889, 136819733, 31291122, 148413962, 60298911, 244353091, 89068566, 39521419, 266028238, 35833019, 322123600, 55295832, 65559845, 52292061, 53473454, 36118557, 33245868, 27748201, 69784306, 73423201]\n",
      "전라남도 고객호수 평균:  [3243, 5850, 2370, 11524, 2690, 8150, 4278, 19422, 6411, 3846, 21223, 3914, 23977, 5023, 4625, 5712, 3758, 3494, 3058, 2529, 6481, 4779]\n"
     ]
    }
   ],
   "source": [
    "sum2 , sum3 =[] , []\n",
    "for k in SIGUNGU:\n",
    "    GyeonGiHap = pd.DataFrame([] , columns = a)\n",
    "    HOSU = pd.DataFrame([], columns = a)\n",
    "    GyeonGiHap['사용량']= df_3['사용량(kWh)'].loc[(df_3['시군구'] == '{}'.format(k))]\n",
    "    HOSU['고객호수']= df_3['고객호수(호)'].loc[(df_3['시군구'] == '{}'.format(k))]\n",
    "    #경기합 데이터프레임의 사용량 열에 기군구가 가평군인 사용량 데이터만 뽑아내기\n",
    "    # GyeonGiHap = GyeonGiHap['사용량']\n",
    "\n",
    "    b = GyeonGiHap['사용량'].tolist()\n",
    "    c = HOSU['고객호수'].tolist()\n",
    "\n",
    "\n",
    "    #각지역별 사용량 리스트화\n",
    "    int_list  , int_list2=[] , []\n",
    "    for i in b:\n",
    "        i = re.sub(\",\" , \"\" , i)\n",
    "        #콤마 없애기\n",
    "        int_list.append(int(i))\n",
    "        #int_list에 각지역별 사용량 int로 저장\n",
    "    print(int_list)\n",
    "    sum=0\n",
    "    for i in c:\n",
    "        i = re.sub(\",\" , \"\" , i)\n",
    "        int_list2.append(int(i))\n",
    "\n",
    "    for j in int_list:\n",
    "\n",
    "        sum+= j\n",
    "    sum2.append(sum)\n",
    "    sum = 0\n",
    "    for j in int_list2: #고객호수 추출하여 더하기\n",
    "\n",
    "        sum+= j\n",
    "    sum3.append(sum//6) #6개월 치로 나눠야하나?!\n",
    "\n",
    "\n",
    "\n",
    "\n",
    "print(\"{} 지역별 일반용 합계 : \".format(City) , sum2)\n",
    "print(\"{} 고객호수 평균: \".format(City) , sum3)\n",
    "# GyeonGiHap['합계'] = sum\n",
    "#\n",
    "# GyeonGiHap"
   ],
   "metadata": {
    "collapsed": false,
    "pycharm": {
     "name": "#%%\n"
    }
   }
  },
  {
   "cell_type": "code",
   "execution_count": 24,
   "outputs": [],
   "source": [
    "# df_3 = df_3.loc[(df_3['시군구'] == '가평군')]\n",
    "#\n",
    "# df_3"
   ],
   "metadata": {
    "collapsed": false,
    "pycharm": {
     "name": "#%%\n"
    }
   }
  },
  {
   "cell_type": "code",
   "execution_count": 25,
   "outputs": [],
   "source": [
    "# GyeonGiHap = df_3.copy()\n",
    "# GyeonGiHap.reset_index(drop=True , inplace = True)\n",
    "# GyeonGiHap.append({'년월' : '202107-202112'  , '시구' : '경기도' , '시군구' : '가평군' , '계약구분' : '일반용' , '사용량(kWh)' : sum}, ignore_index=True)"
   ],
   "metadata": {
    "collapsed": false,
    "pycharm": {
     "name": "#%%\n"
    }
   }
  },
  {
   "cell_type": "code",
   "execution_count": 26,
   "outputs": [],
   "source": [
    "# a=[]\n",
    "# for i in SIGUNGU:\n",
    "#     a.append(i)\n",
    "#\n",
    "# print(a)"
   ],
   "metadata": {
    "collapsed": false,
    "pycharm": {
     "name": "#%%\n"
    }
   }
  },
  {
   "cell_type": "markdown",
   "source": [
    "### 4. 년월 체크!!!!!!!!!!!!!!!!!!!!!!!!!!!!!!!!!!!!!!!!!!!!!!!!!!!!!!!!!!!!!!!!!"
   ],
   "metadata": {
    "collapsed": false,
    "pycharm": {
     "name": "#%% md\n"
    }
   }
  },
  {
   "cell_type": "code",
   "execution_count": 27,
   "outputs": [
    {
     "name": "stderr",
     "output_type": "stream",
     "text": [
      "C:\\Users\\user\\AppData\\Local\\Temp\\ipykernel_16576\\1152688266.py:4: FutureWarning: The frame.append method is deprecated and will be removed from pandas in a future version. Use pandas.concat instead.\n",
      "  GyeonGiHap2 = GyeonGiHap2.append({'년월' :'202101-202106'  , '시구' : '{}'.format(City) , '시군구' : '{}'.format(SIGUNGU[i]) , '계약구분' : '일반용' , '고객호수(호)' : sum3[i] ,  '사용량(kWh)' : sum2[i]} , ignore_index=True) #년월 파일마다 수정하기\n",
      "C:\\Users\\user\\AppData\\Local\\Temp\\ipykernel_16576\\1152688266.py:4: FutureWarning: The frame.append method is deprecated and will be removed from pandas in a future version. Use pandas.concat instead.\n",
      "  GyeonGiHap2 = GyeonGiHap2.append({'년월' :'202101-202106'  , '시구' : '{}'.format(City) , '시군구' : '{}'.format(SIGUNGU[i]) , '계약구분' : '일반용' , '고객호수(호)' : sum3[i] ,  '사용량(kWh)' : sum2[i]} , ignore_index=True) #년월 파일마다 수정하기\n",
      "C:\\Users\\user\\AppData\\Local\\Temp\\ipykernel_16576\\1152688266.py:4: FutureWarning: The frame.append method is deprecated and will be removed from pandas in a future version. Use pandas.concat instead.\n",
      "  GyeonGiHap2 = GyeonGiHap2.append({'년월' :'202101-202106'  , '시구' : '{}'.format(City) , '시군구' : '{}'.format(SIGUNGU[i]) , '계약구분' : '일반용' , '고객호수(호)' : sum3[i] ,  '사용량(kWh)' : sum2[i]} , ignore_index=True) #년월 파일마다 수정하기\n",
      "C:\\Users\\user\\AppData\\Local\\Temp\\ipykernel_16576\\1152688266.py:4: FutureWarning: The frame.append method is deprecated and will be removed from pandas in a future version. Use pandas.concat instead.\n",
      "  GyeonGiHap2 = GyeonGiHap2.append({'년월' :'202101-202106'  , '시구' : '{}'.format(City) , '시군구' : '{}'.format(SIGUNGU[i]) , '계약구분' : '일반용' , '고객호수(호)' : sum3[i] ,  '사용량(kWh)' : sum2[i]} , ignore_index=True) #년월 파일마다 수정하기\n",
      "C:\\Users\\user\\AppData\\Local\\Temp\\ipykernel_16576\\1152688266.py:4: FutureWarning: The frame.append method is deprecated and will be removed from pandas in a future version. Use pandas.concat instead.\n",
      "  GyeonGiHap2 = GyeonGiHap2.append({'년월' :'202101-202106'  , '시구' : '{}'.format(City) , '시군구' : '{}'.format(SIGUNGU[i]) , '계약구분' : '일반용' , '고객호수(호)' : sum3[i] ,  '사용량(kWh)' : sum2[i]} , ignore_index=True) #년월 파일마다 수정하기\n",
      "C:\\Users\\user\\AppData\\Local\\Temp\\ipykernel_16576\\1152688266.py:4: FutureWarning: The frame.append method is deprecated and will be removed from pandas in a future version. Use pandas.concat instead.\n",
      "  GyeonGiHap2 = GyeonGiHap2.append({'년월' :'202101-202106'  , '시구' : '{}'.format(City) , '시군구' : '{}'.format(SIGUNGU[i]) , '계약구분' : '일반용' , '고객호수(호)' : sum3[i] ,  '사용량(kWh)' : sum2[i]} , ignore_index=True) #년월 파일마다 수정하기\n",
      "C:\\Users\\user\\AppData\\Local\\Temp\\ipykernel_16576\\1152688266.py:4: FutureWarning: The frame.append method is deprecated and will be removed from pandas in a future version. Use pandas.concat instead.\n",
      "  GyeonGiHap2 = GyeonGiHap2.append({'년월' :'202101-202106'  , '시구' : '{}'.format(City) , '시군구' : '{}'.format(SIGUNGU[i]) , '계약구분' : '일반용' , '고객호수(호)' : sum3[i] ,  '사용량(kWh)' : sum2[i]} , ignore_index=True) #년월 파일마다 수정하기\n",
      "C:\\Users\\user\\AppData\\Local\\Temp\\ipykernel_16576\\1152688266.py:4: FutureWarning: The frame.append method is deprecated and will be removed from pandas in a future version. Use pandas.concat instead.\n",
      "  GyeonGiHap2 = GyeonGiHap2.append({'년월' :'202101-202106'  , '시구' : '{}'.format(City) , '시군구' : '{}'.format(SIGUNGU[i]) , '계약구분' : '일반용' , '고객호수(호)' : sum3[i] ,  '사용량(kWh)' : sum2[i]} , ignore_index=True) #년월 파일마다 수정하기\n",
      "C:\\Users\\user\\AppData\\Local\\Temp\\ipykernel_16576\\1152688266.py:4: FutureWarning: The frame.append method is deprecated and will be removed from pandas in a future version. Use pandas.concat instead.\n",
      "  GyeonGiHap2 = GyeonGiHap2.append({'년월' :'202101-202106'  , '시구' : '{}'.format(City) , '시군구' : '{}'.format(SIGUNGU[i]) , '계약구분' : '일반용' , '고객호수(호)' : sum3[i] ,  '사용량(kWh)' : sum2[i]} , ignore_index=True) #년월 파일마다 수정하기\n",
      "C:\\Users\\user\\AppData\\Local\\Temp\\ipykernel_16576\\1152688266.py:4: FutureWarning: The frame.append method is deprecated and will be removed from pandas in a future version. Use pandas.concat instead.\n",
      "  GyeonGiHap2 = GyeonGiHap2.append({'년월' :'202101-202106'  , '시구' : '{}'.format(City) , '시군구' : '{}'.format(SIGUNGU[i]) , '계약구분' : '일반용' , '고객호수(호)' : sum3[i] ,  '사용량(kWh)' : sum2[i]} , ignore_index=True) #년월 파일마다 수정하기\n",
      "C:\\Users\\user\\AppData\\Local\\Temp\\ipykernel_16576\\1152688266.py:4: FutureWarning: The frame.append method is deprecated and will be removed from pandas in a future version. Use pandas.concat instead.\n",
      "  GyeonGiHap2 = GyeonGiHap2.append({'년월' :'202101-202106'  , '시구' : '{}'.format(City) , '시군구' : '{}'.format(SIGUNGU[i]) , '계약구분' : '일반용' , '고객호수(호)' : sum3[i] ,  '사용량(kWh)' : sum2[i]} , ignore_index=True) #년월 파일마다 수정하기\n",
      "C:\\Users\\user\\AppData\\Local\\Temp\\ipykernel_16576\\1152688266.py:4: FutureWarning: The frame.append method is deprecated and will be removed from pandas in a future version. Use pandas.concat instead.\n",
      "  GyeonGiHap2 = GyeonGiHap2.append({'년월' :'202101-202106'  , '시구' : '{}'.format(City) , '시군구' : '{}'.format(SIGUNGU[i]) , '계약구분' : '일반용' , '고객호수(호)' : sum3[i] ,  '사용량(kWh)' : sum2[i]} , ignore_index=True) #년월 파일마다 수정하기\n",
      "C:\\Users\\user\\AppData\\Local\\Temp\\ipykernel_16576\\1152688266.py:4: FutureWarning: The frame.append method is deprecated and will be removed from pandas in a future version. Use pandas.concat instead.\n",
      "  GyeonGiHap2 = GyeonGiHap2.append({'년월' :'202101-202106'  , '시구' : '{}'.format(City) , '시군구' : '{}'.format(SIGUNGU[i]) , '계약구분' : '일반용' , '고객호수(호)' : sum3[i] ,  '사용량(kWh)' : sum2[i]} , ignore_index=True) #년월 파일마다 수정하기\n",
      "C:\\Users\\user\\AppData\\Local\\Temp\\ipykernel_16576\\1152688266.py:4: FutureWarning: The frame.append method is deprecated and will be removed from pandas in a future version. Use pandas.concat instead.\n",
      "  GyeonGiHap2 = GyeonGiHap2.append({'년월' :'202101-202106'  , '시구' : '{}'.format(City) , '시군구' : '{}'.format(SIGUNGU[i]) , '계약구분' : '일반용' , '고객호수(호)' : sum3[i] ,  '사용량(kWh)' : sum2[i]} , ignore_index=True) #년월 파일마다 수정하기\n",
      "C:\\Users\\user\\AppData\\Local\\Temp\\ipykernel_16576\\1152688266.py:4: FutureWarning: The frame.append method is deprecated and will be removed from pandas in a future version. Use pandas.concat instead.\n",
      "  GyeonGiHap2 = GyeonGiHap2.append({'년월' :'202101-202106'  , '시구' : '{}'.format(City) , '시군구' : '{}'.format(SIGUNGU[i]) , '계약구분' : '일반용' , '고객호수(호)' : sum3[i] ,  '사용량(kWh)' : sum2[i]} , ignore_index=True) #년월 파일마다 수정하기\n",
      "C:\\Users\\user\\AppData\\Local\\Temp\\ipykernel_16576\\1152688266.py:4: FutureWarning: The frame.append method is deprecated and will be removed from pandas in a future version. Use pandas.concat instead.\n",
      "  GyeonGiHap2 = GyeonGiHap2.append({'년월' :'202101-202106'  , '시구' : '{}'.format(City) , '시군구' : '{}'.format(SIGUNGU[i]) , '계약구분' : '일반용' , '고객호수(호)' : sum3[i] ,  '사용량(kWh)' : sum2[i]} , ignore_index=True) #년월 파일마다 수정하기\n",
      "C:\\Users\\user\\AppData\\Local\\Temp\\ipykernel_16576\\1152688266.py:4: FutureWarning: The frame.append method is deprecated and will be removed from pandas in a future version. Use pandas.concat instead.\n",
      "  GyeonGiHap2 = GyeonGiHap2.append({'년월' :'202101-202106'  , '시구' : '{}'.format(City) , '시군구' : '{}'.format(SIGUNGU[i]) , '계약구분' : '일반용' , '고객호수(호)' : sum3[i] ,  '사용량(kWh)' : sum2[i]} , ignore_index=True) #년월 파일마다 수정하기\n",
      "C:\\Users\\user\\AppData\\Local\\Temp\\ipykernel_16576\\1152688266.py:4: FutureWarning: The frame.append method is deprecated and will be removed from pandas in a future version. Use pandas.concat instead.\n",
      "  GyeonGiHap2 = GyeonGiHap2.append({'년월' :'202101-202106'  , '시구' : '{}'.format(City) , '시군구' : '{}'.format(SIGUNGU[i]) , '계약구분' : '일반용' , '고객호수(호)' : sum3[i] ,  '사용량(kWh)' : sum2[i]} , ignore_index=True) #년월 파일마다 수정하기\n",
      "C:\\Users\\user\\AppData\\Local\\Temp\\ipykernel_16576\\1152688266.py:4: FutureWarning: The frame.append method is deprecated and will be removed from pandas in a future version. Use pandas.concat instead.\n",
      "  GyeonGiHap2 = GyeonGiHap2.append({'년월' :'202101-202106'  , '시구' : '{}'.format(City) , '시군구' : '{}'.format(SIGUNGU[i]) , '계약구분' : '일반용' , '고객호수(호)' : sum3[i] ,  '사용량(kWh)' : sum2[i]} , ignore_index=True) #년월 파일마다 수정하기\n",
      "C:\\Users\\user\\AppData\\Local\\Temp\\ipykernel_16576\\1152688266.py:4: FutureWarning: The frame.append method is deprecated and will be removed from pandas in a future version. Use pandas.concat instead.\n",
      "  GyeonGiHap2 = GyeonGiHap2.append({'년월' :'202101-202106'  , '시구' : '{}'.format(City) , '시군구' : '{}'.format(SIGUNGU[i]) , '계약구분' : '일반용' , '고객호수(호)' : sum3[i] ,  '사용량(kWh)' : sum2[i]} , ignore_index=True) #년월 파일마다 수정하기\n",
      "C:\\Users\\user\\AppData\\Local\\Temp\\ipykernel_16576\\1152688266.py:4: FutureWarning: The frame.append method is deprecated and will be removed from pandas in a future version. Use pandas.concat instead.\n",
      "  GyeonGiHap2 = GyeonGiHap2.append({'년월' :'202101-202106'  , '시구' : '{}'.format(City) , '시군구' : '{}'.format(SIGUNGU[i]) , '계약구분' : '일반용' , '고객호수(호)' : sum3[i] ,  '사용량(kWh)' : sum2[i]} , ignore_index=True) #년월 파일마다 수정하기\n",
      "C:\\Users\\user\\AppData\\Local\\Temp\\ipykernel_16576\\1152688266.py:4: FutureWarning: The frame.append method is deprecated and will be removed from pandas in a future version. Use pandas.concat instead.\n",
      "  GyeonGiHap2 = GyeonGiHap2.append({'년월' :'202101-202106'  , '시구' : '{}'.format(City) , '시군구' : '{}'.format(SIGUNGU[i]) , '계약구분' : '일반용' , '고객호수(호)' : sum3[i] ,  '사용량(kWh)' : sum2[i]} , ignore_index=True) #년월 파일마다 수정하기\n"
     ]
    },
    {
     "data": {
      "text/plain": "                년월    시구  시군구 계약구분 고객호수(호)    사용량(kWh)\n0           202101  전라남도  강진군  일반용  3,240   6,883,269 \n1           202102  전라남도  강진군  일반용  3,252   6,912,051 \n2           202103  전라남도  강진군  일반용  3,236   5,491,008 \n3           202104  전라남도  강진군  일반용  3,213   5,365,569 \n4           202105  전라남도  강진군  일반용  3,248   4,833,539 \n..             ...   ...  ...  ...     ...         ...\n149  202101-202106  전라남도  장흥군  일반용    3494    36118557\n150  202101-202106  전라남도  진도군  일반용    3058    33245868\n151  202101-202106  전라남도  함평군  일반용    2529    27748201\n152  202101-202106  전라남도  해남군  일반용    6481    69784306\n153  202101-202106  전라남도  화순군  일반용    4779    73423201\n\n[154 rows x 6 columns]",
      "text/html": "<div>\n<style scoped>\n    .dataframe tbody tr th:only-of-type {\n        vertical-align: middle;\n    }\n\n    .dataframe tbody tr th {\n        vertical-align: top;\n    }\n\n    .dataframe thead th {\n        text-align: right;\n    }\n</style>\n<table border=\"1\" class=\"dataframe\">\n  <thead>\n    <tr style=\"text-align: right;\">\n      <th></th>\n      <th>년월</th>\n      <th>시구</th>\n      <th>시군구</th>\n      <th>계약구분</th>\n      <th>고객호수(호)</th>\n      <th>사용량(kWh)</th>\n    </tr>\n  </thead>\n  <tbody>\n    <tr>\n      <th>0</th>\n      <td>202101</td>\n      <td>전라남도</td>\n      <td>강진군</td>\n      <td>일반용</td>\n      <td>3,240</td>\n      <td>6,883,269</td>\n    </tr>\n    <tr>\n      <th>1</th>\n      <td>202102</td>\n      <td>전라남도</td>\n      <td>강진군</td>\n      <td>일반용</td>\n      <td>3,252</td>\n      <td>6,912,051</td>\n    </tr>\n    <tr>\n      <th>2</th>\n      <td>202103</td>\n      <td>전라남도</td>\n      <td>강진군</td>\n      <td>일반용</td>\n      <td>3,236</td>\n      <td>5,491,008</td>\n    </tr>\n    <tr>\n      <th>3</th>\n      <td>202104</td>\n      <td>전라남도</td>\n      <td>강진군</td>\n      <td>일반용</td>\n      <td>3,213</td>\n      <td>5,365,569</td>\n    </tr>\n    <tr>\n      <th>4</th>\n      <td>202105</td>\n      <td>전라남도</td>\n      <td>강진군</td>\n      <td>일반용</td>\n      <td>3,248</td>\n      <td>4,833,539</td>\n    </tr>\n    <tr>\n      <th>...</th>\n      <td>...</td>\n      <td>...</td>\n      <td>...</td>\n      <td>...</td>\n      <td>...</td>\n      <td>...</td>\n    </tr>\n    <tr>\n      <th>149</th>\n      <td>202101-202106</td>\n      <td>전라남도</td>\n      <td>장흥군</td>\n      <td>일반용</td>\n      <td>3494</td>\n      <td>36118557</td>\n    </tr>\n    <tr>\n      <th>150</th>\n      <td>202101-202106</td>\n      <td>전라남도</td>\n      <td>진도군</td>\n      <td>일반용</td>\n      <td>3058</td>\n      <td>33245868</td>\n    </tr>\n    <tr>\n      <th>151</th>\n      <td>202101-202106</td>\n      <td>전라남도</td>\n      <td>함평군</td>\n      <td>일반용</td>\n      <td>2529</td>\n      <td>27748201</td>\n    </tr>\n    <tr>\n      <th>152</th>\n      <td>202101-202106</td>\n      <td>전라남도</td>\n      <td>해남군</td>\n      <td>일반용</td>\n      <td>6481</td>\n      <td>69784306</td>\n    </tr>\n    <tr>\n      <th>153</th>\n      <td>202101-202106</td>\n      <td>전라남도</td>\n      <td>화순군</td>\n      <td>일반용</td>\n      <td>4779</td>\n      <td>73423201</td>\n    </tr>\n  </tbody>\n</table>\n<p>154 rows × 6 columns</p>\n</div>"
     },
     "execution_count": 27,
     "metadata": {},
     "output_type": "execute_result"
    }
   ],
   "source": [
    "GyeonGiHap2 = df_3.copy()\n",
    "GyeonGiHap2.reset_index(drop=True , inplace = True)\n",
    "for i in range(len(SIGUNGU)):\n",
    "    GyeonGiHap2 = GyeonGiHap2.append({'년월' :'202101-202106'  , '시구' : '{}'.format(City) , '시군구' : '{}'.format(SIGUNGU[i]) , '계약구분' : '일반용' , '고객호수(호)' : sum3[i] ,  '사용량(kWh)' : sum2[i]} , ignore_index=True) #년월 파일마다 수정하기\n",
    "GyeonGiHap2"
   ],
   "metadata": {
    "collapsed": false,
    "pycharm": {
     "name": "#%%\n"
    }
   }
  },
  {
   "cell_type": "markdown",
   "source": [
    "### 5. 날짜 체크!!!!!!!!!!!!!!!!!!!!!!!!!!!!!!!!!!!!!!!!!!!!!!!!!!!!"
   ],
   "metadata": {
    "collapsed": false,
    "pycharm": {
     "name": "#%% md\n"
    }
   }
  },
  {
   "cell_type": "code",
   "execution_count": 28,
   "outputs": [
    {
     "data": {
      "text/plain": "                년월    시구  시군구 계약구분 고객호수(호)   사용량(kWh)\n132  202101-202106  전라남도  강진군  일반용    3243   34561931\n133  202101-202106  전라남도  고흥군  일반용    5850   54609857\n134  202101-202106  전라남도  곡성군  일반용    2370   25238889\n135  202101-202106  전라남도  광양시  일반용   11524  136819733\n136  202101-202106  전라남도  구례군  일반용    2690   31291122\n137  202101-202106  전라남도  나주시  일반용    8150  148413962\n138  202101-202106  전라남도  담양군  일반용    4278   60298911\n139  202101-202106  전라남도  목포시  일반용   19422  244353091\n140  202101-202106  전라남도  무안군  일반용    6411   89068566\n141  202101-202106  전라남도  보성군  일반용    3846   39521419\n142  202101-202106  전라남도  순천시  일반용   21223  266028238\n143  202101-202106  전라남도  신안군  일반용    3914   35833019\n144  202101-202106  전라남도  여수시  일반용   23977  322123600\n145  202101-202106  전라남도  영광군  일반용    5023   55295832\n146  202101-202106  전라남도  영암군  일반용    4625   65559845\n147  202101-202106  전라남도  완도군  일반용    5712   52292061\n148  202101-202106  전라남도  장성군  일반용    3758   53473454\n149  202101-202106  전라남도  장흥군  일반용    3494   36118557\n150  202101-202106  전라남도  진도군  일반용    3058   33245868\n151  202101-202106  전라남도  함평군  일반용    2529   27748201\n152  202101-202106  전라남도  해남군  일반용    6481   69784306\n153  202101-202106  전라남도  화순군  일반용    4779   73423201",
      "text/html": "<div>\n<style scoped>\n    .dataframe tbody tr th:only-of-type {\n        vertical-align: middle;\n    }\n\n    .dataframe tbody tr th {\n        vertical-align: top;\n    }\n\n    .dataframe thead th {\n        text-align: right;\n    }\n</style>\n<table border=\"1\" class=\"dataframe\">\n  <thead>\n    <tr style=\"text-align: right;\">\n      <th></th>\n      <th>년월</th>\n      <th>시구</th>\n      <th>시군구</th>\n      <th>계약구분</th>\n      <th>고객호수(호)</th>\n      <th>사용량(kWh)</th>\n    </tr>\n  </thead>\n  <tbody>\n    <tr>\n      <th>132</th>\n      <td>202101-202106</td>\n      <td>전라남도</td>\n      <td>강진군</td>\n      <td>일반용</td>\n      <td>3243</td>\n      <td>34561931</td>\n    </tr>\n    <tr>\n      <th>133</th>\n      <td>202101-202106</td>\n      <td>전라남도</td>\n      <td>고흥군</td>\n      <td>일반용</td>\n      <td>5850</td>\n      <td>54609857</td>\n    </tr>\n    <tr>\n      <th>134</th>\n      <td>202101-202106</td>\n      <td>전라남도</td>\n      <td>곡성군</td>\n      <td>일반용</td>\n      <td>2370</td>\n      <td>25238889</td>\n    </tr>\n    <tr>\n      <th>135</th>\n      <td>202101-202106</td>\n      <td>전라남도</td>\n      <td>광양시</td>\n      <td>일반용</td>\n      <td>11524</td>\n      <td>136819733</td>\n    </tr>\n    <tr>\n      <th>136</th>\n      <td>202101-202106</td>\n      <td>전라남도</td>\n      <td>구례군</td>\n      <td>일반용</td>\n      <td>2690</td>\n      <td>31291122</td>\n    </tr>\n    <tr>\n      <th>137</th>\n      <td>202101-202106</td>\n      <td>전라남도</td>\n      <td>나주시</td>\n      <td>일반용</td>\n      <td>8150</td>\n      <td>148413962</td>\n    </tr>\n    <tr>\n      <th>138</th>\n      <td>202101-202106</td>\n      <td>전라남도</td>\n      <td>담양군</td>\n      <td>일반용</td>\n      <td>4278</td>\n      <td>60298911</td>\n    </tr>\n    <tr>\n      <th>139</th>\n      <td>202101-202106</td>\n      <td>전라남도</td>\n      <td>목포시</td>\n      <td>일반용</td>\n      <td>19422</td>\n      <td>244353091</td>\n    </tr>\n    <tr>\n      <th>140</th>\n      <td>202101-202106</td>\n      <td>전라남도</td>\n      <td>무안군</td>\n      <td>일반용</td>\n      <td>6411</td>\n      <td>89068566</td>\n    </tr>\n    <tr>\n      <th>141</th>\n      <td>202101-202106</td>\n      <td>전라남도</td>\n      <td>보성군</td>\n      <td>일반용</td>\n      <td>3846</td>\n      <td>39521419</td>\n    </tr>\n    <tr>\n      <th>142</th>\n      <td>202101-202106</td>\n      <td>전라남도</td>\n      <td>순천시</td>\n      <td>일반용</td>\n      <td>21223</td>\n      <td>266028238</td>\n    </tr>\n    <tr>\n      <th>143</th>\n      <td>202101-202106</td>\n      <td>전라남도</td>\n      <td>신안군</td>\n      <td>일반용</td>\n      <td>3914</td>\n      <td>35833019</td>\n    </tr>\n    <tr>\n      <th>144</th>\n      <td>202101-202106</td>\n      <td>전라남도</td>\n      <td>여수시</td>\n      <td>일반용</td>\n      <td>23977</td>\n      <td>322123600</td>\n    </tr>\n    <tr>\n      <th>145</th>\n      <td>202101-202106</td>\n      <td>전라남도</td>\n      <td>영광군</td>\n      <td>일반용</td>\n      <td>5023</td>\n      <td>55295832</td>\n    </tr>\n    <tr>\n      <th>146</th>\n      <td>202101-202106</td>\n      <td>전라남도</td>\n      <td>영암군</td>\n      <td>일반용</td>\n      <td>4625</td>\n      <td>65559845</td>\n    </tr>\n    <tr>\n      <th>147</th>\n      <td>202101-202106</td>\n      <td>전라남도</td>\n      <td>완도군</td>\n      <td>일반용</td>\n      <td>5712</td>\n      <td>52292061</td>\n    </tr>\n    <tr>\n      <th>148</th>\n      <td>202101-202106</td>\n      <td>전라남도</td>\n      <td>장성군</td>\n      <td>일반용</td>\n      <td>3758</td>\n      <td>53473454</td>\n    </tr>\n    <tr>\n      <th>149</th>\n      <td>202101-202106</td>\n      <td>전라남도</td>\n      <td>장흥군</td>\n      <td>일반용</td>\n      <td>3494</td>\n      <td>36118557</td>\n    </tr>\n    <tr>\n      <th>150</th>\n      <td>202101-202106</td>\n      <td>전라남도</td>\n      <td>진도군</td>\n      <td>일반용</td>\n      <td>3058</td>\n      <td>33245868</td>\n    </tr>\n    <tr>\n      <th>151</th>\n      <td>202101-202106</td>\n      <td>전라남도</td>\n      <td>함평군</td>\n      <td>일반용</td>\n      <td>2529</td>\n      <td>27748201</td>\n    </tr>\n    <tr>\n      <th>152</th>\n      <td>202101-202106</td>\n      <td>전라남도</td>\n      <td>해남군</td>\n      <td>일반용</td>\n      <td>6481</td>\n      <td>69784306</td>\n    </tr>\n    <tr>\n      <th>153</th>\n      <td>202101-202106</td>\n      <td>전라남도</td>\n      <td>화순군</td>\n      <td>일반용</td>\n      <td>4779</td>\n      <td>73423201</td>\n    </tr>\n  </tbody>\n</table>\n</div>"
     },
     "execution_count": 28,
     "metadata": {},
     "output_type": "execute_result"
    }
   ],
   "source": [
    "GyeonGiHap2 = GyeonGiHap2.loc[GyeonGiHap2['년월'] == '202101-202106']\n",
    "GyeonGiHap2"
   ],
   "metadata": {
    "collapsed": false,
    "pycharm": {
     "name": "#%%\n"
    }
   }
  },
  {
   "cell_type": "code",
   "execution_count": 29,
   "outputs": [
    {
     "data": {
      "text/plain": "                년월    시구  시군구 계약구분 고객호수(호)    사용량(kWh)\n132  202101-202106  전라남도  강진군  일반용    3243    34561931\n132  202101-202106  전라남도  강진군   합계    7146   197690383\n133  202101-202106  전라남도  고흥군  일반용    5850    54609857\n133  202101-202106  전라남도  고흥군   합계   14483   298587029\n134  202101-202106  전라남도  곡성군  일반용    2370    25238889\n134  202101-202106  전라남도  곡성군   합계    6315   205036889\n135  202101-202106  전라남도  광양시  일반용   11524   136819733\n135  202101-202106  전라남도  광양시   합계   13758  1954169983\n136  202101-202106  전라남도  구례군  일반용    2690    31291122\n136  202101-202106  전라남도  구례군   합계    5445    89106435\n137  202101-202106  전라남도  나주시  일반용    8150   148413962\n137  202101-202106  전라남도  나주시   합계   15429   666930821\n138  202101-202106  전라남도  담양군  일반용    4278    60298911\n138  202101-202106  전라남도  담양군   합계    8607   273618564\n139  202101-202106  전라남도  목포시   합계   16546   520907484\n139  202101-202106  전라남도  목포시  일반용   19422   244353091\n140  202101-202106  전라남도  무안군   합계   11821   337299099\n140  202101-202106  전라남도  무안군  일반용    6411    89068566\n141  202101-202106  전라남도  보성군   합계    9076   153790922\n141  202101-202106  전라남도  보성군  일반용    3846    39521419\n142  202101-202106  전라남도  순천시   합계   26751  1029502364\n142  202101-202106  전라남도  순천시  일반용   21223   266028238\n143  202101-202106  전라남도  신안군   합계    8966   147061137\n143  202101-202106  전라남도  신안군  일반용    3914    35833019\n144  202101-202106  전라남도  여수시   합계   27397  7274027116\n144  202101-202106  전라남도  여수시  일반용   23977   322123600\n145  202101-202106  전라남도  영광군   합계    9589   466803031\n145  202101-202106  전라남도  영광군  일반용    5023    55295832\n146  202101-202106  전라남도  영암군   합계   10130   609237756\n146  202101-202106  전라남도  영암군  일반용    4625    65559845\n147  202101-202106  전라남도  완도군   합계    8610   546467952\n147  202101-202106  전라남도  완도군  일반용    5712    52292061\n148  202101-202106  전라남도  장성군  일반용    3758    53473454\n148  202101-202106  전라남도  장성군   합계    7117   334780810\n149  202101-202106  전라남도  장흥군   합계    7834   187454654\n149  202101-202106  전라남도  장흥군  일반용    3494    36118557\n150  202101-202106  전라남도  진도군   합계    7004   180629210\n150  202101-202106  전라남도  진도군  일반용    3058    33245868\n151  202101-202106  전라남도  함평군   합계    6977   199147540\n151  202101-202106  전라남도  함평군  일반용    2529    27748201\n152  202101-202106  전라남도  해남군   합계   14364   403982213\n152  202101-202106  전라남도  해남군  일반용    6481    69784306\n153  202101-202106  전라남도  화순군  일반용    4779    73423201\n153  202101-202106  전라남도  화순군   합계    7527   272032890",
      "text/html": "<div>\n<style scoped>\n    .dataframe tbody tr th:only-of-type {\n        vertical-align: middle;\n    }\n\n    .dataframe tbody tr th {\n        vertical-align: top;\n    }\n\n    .dataframe thead th {\n        text-align: right;\n    }\n</style>\n<table border=\"1\" class=\"dataframe\">\n  <thead>\n    <tr style=\"text-align: right;\">\n      <th></th>\n      <th>년월</th>\n      <th>시구</th>\n      <th>시군구</th>\n      <th>계약구분</th>\n      <th>고객호수(호)</th>\n      <th>사용량(kWh)</th>\n    </tr>\n  </thead>\n  <tbody>\n    <tr>\n      <th>132</th>\n      <td>202101-202106</td>\n      <td>전라남도</td>\n      <td>강진군</td>\n      <td>일반용</td>\n      <td>3243</td>\n      <td>34561931</td>\n    </tr>\n    <tr>\n      <th>132</th>\n      <td>202101-202106</td>\n      <td>전라남도</td>\n      <td>강진군</td>\n      <td>합계</td>\n      <td>7146</td>\n      <td>197690383</td>\n    </tr>\n    <tr>\n      <th>133</th>\n      <td>202101-202106</td>\n      <td>전라남도</td>\n      <td>고흥군</td>\n      <td>일반용</td>\n      <td>5850</td>\n      <td>54609857</td>\n    </tr>\n    <tr>\n      <th>133</th>\n      <td>202101-202106</td>\n      <td>전라남도</td>\n      <td>고흥군</td>\n      <td>합계</td>\n      <td>14483</td>\n      <td>298587029</td>\n    </tr>\n    <tr>\n      <th>134</th>\n      <td>202101-202106</td>\n      <td>전라남도</td>\n      <td>곡성군</td>\n      <td>일반용</td>\n      <td>2370</td>\n      <td>25238889</td>\n    </tr>\n    <tr>\n      <th>134</th>\n      <td>202101-202106</td>\n      <td>전라남도</td>\n      <td>곡성군</td>\n      <td>합계</td>\n      <td>6315</td>\n      <td>205036889</td>\n    </tr>\n    <tr>\n      <th>135</th>\n      <td>202101-202106</td>\n      <td>전라남도</td>\n      <td>광양시</td>\n      <td>일반용</td>\n      <td>11524</td>\n      <td>136819733</td>\n    </tr>\n    <tr>\n      <th>135</th>\n      <td>202101-202106</td>\n      <td>전라남도</td>\n      <td>광양시</td>\n      <td>합계</td>\n      <td>13758</td>\n      <td>1954169983</td>\n    </tr>\n    <tr>\n      <th>136</th>\n      <td>202101-202106</td>\n      <td>전라남도</td>\n      <td>구례군</td>\n      <td>일반용</td>\n      <td>2690</td>\n      <td>31291122</td>\n    </tr>\n    <tr>\n      <th>136</th>\n      <td>202101-202106</td>\n      <td>전라남도</td>\n      <td>구례군</td>\n      <td>합계</td>\n      <td>5445</td>\n      <td>89106435</td>\n    </tr>\n    <tr>\n      <th>137</th>\n      <td>202101-202106</td>\n      <td>전라남도</td>\n      <td>나주시</td>\n      <td>일반용</td>\n      <td>8150</td>\n      <td>148413962</td>\n    </tr>\n    <tr>\n      <th>137</th>\n      <td>202101-202106</td>\n      <td>전라남도</td>\n      <td>나주시</td>\n      <td>합계</td>\n      <td>15429</td>\n      <td>666930821</td>\n    </tr>\n    <tr>\n      <th>138</th>\n      <td>202101-202106</td>\n      <td>전라남도</td>\n      <td>담양군</td>\n      <td>일반용</td>\n      <td>4278</td>\n      <td>60298911</td>\n    </tr>\n    <tr>\n      <th>138</th>\n      <td>202101-202106</td>\n      <td>전라남도</td>\n      <td>담양군</td>\n      <td>합계</td>\n      <td>8607</td>\n      <td>273618564</td>\n    </tr>\n    <tr>\n      <th>139</th>\n      <td>202101-202106</td>\n      <td>전라남도</td>\n      <td>목포시</td>\n      <td>합계</td>\n      <td>16546</td>\n      <td>520907484</td>\n    </tr>\n    <tr>\n      <th>139</th>\n      <td>202101-202106</td>\n      <td>전라남도</td>\n      <td>목포시</td>\n      <td>일반용</td>\n      <td>19422</td>\n      <td>244353091</td>\n    </tr>\n    <tr>\n      <th>140</th>\n      <td>202101-202106</td>\n      <td>전라남도</td>\n      <td>무안군</td>\n      <td>합계</td>\n      <td>11821</td>\n      <td>337299099</td>\n    </tr>\n    <tr>\n      <th>140</th>\n      <td>202101-202106</td>\n      <td>전라남도</td>\n      <td>무안군</td>\n      <td>일반용</td>\n      <td>6411</td>\n      <td>89068566</td>\n    </tr>\n    <tr>\n      <th>141</th>\n      <td>202101-202106</td>\n      <td>전라남도</td>\n      <td>보성군</td>\n      <td>합계</td>\n      <td>9076</td>\n      <td>153790922</td>\n    </tr>\n    <tr>\n      <th>141</th>\n      <td>202101-202106</td>\n      <td>전라남도</td>\n      <td>보성군</td>\n      <td>일반용</td>\n      <td>3846</td>\n      <td>39521419</td>\n    </tr>\n    <tr>\n      <th>142</th>\n      <td>202101-202106</td>\n      <td>전라남도</td>\n      <td>순천시</td>\n      <td>합계</td>\n      <td>26751</td>\n      <td>1029502364</td>\n    </tr>\n    <tr>\n      <th>142</th>\n      <td>202101-202106</td>\n      <td>전라남도</td>\n      <td>순천시</td>\n      <td>일반용</td>\n      <td>21223</td>\n      <td>266028238</td>\n    </tr>\n    <tr>\n      <th>143</th>\n      <td>202101-202106</td>\n      <td>전라남도</td>\n      <td>신안군</td>\n      <td>합계</td>\n      <td>8966</td>\n      <td>147061137</td>\n    </tr>\n    <tr>\n      <th>143</th>\n      <td>202101-202106</td>\n      <td>전라남도</td>\n      <td>신안군</td>\n      <td>일반용</td>\n      <td>3914</td>\n      <td>35833019</td>\n    </tr>\n    <tr>\n      <th>144</th>\n      <td>202101-202106</td>\n      <td>전라남도</td>\n      <td>여수시</td>\n      <td>합계</td>\n      <td>27397</td>\n      <td>7274027116</td>\n    </tr>\n    <tr>\n      <th>144</th>\n      <td>202101-202106</td>\n      <td>전라남도</td>\n      <td>여수시</td>\n      <td>일반용</td>\n      <td>23977</td>\n      <td>322123600</td>\n    </tr>\n    <tr>\n      <th>145</th>\n      <td>202101-202106</td>\n      <td>전라남도</td>\n      <td>영광군</td>\n      <td>합계</td>\n      <td>9589</td>\n      <td>466803031</td>\n    </tr>\n    <tr>\n      <th>145</th>\n      <td>202101-202106</td>\n      <td>전라남도</td>\n      <td>영광군</td>\n      <td>일반용</td>\n      <td>5023</td>\n      <td>55295832</td>\n    </tr>\n    <tr>\n      <th>146</th>\n      <td>202101-202106</td>\n      <td>전라남도</td>\n      <td>영암군</td>\n      <td>합계</td>\n      <td>10130</td>\n      <td>609237756</td>\n    </tr>\n    <tr>\n      <th>146</th>\n      <td>202101-202106</td>\n      <td>전라남도</td>\n      <td>영암군</td>\n      <td>일반용</td>\n      <td>4625</td>\n      <td>65559845</td>\n    </tr>\n    <tr>\n      <th>147</th>\n      <td>202101-202106</td>\n      <td>전라남도</td>\n      <td>완도군</td>\n      <td>합계</td>\n      <td>8610</td>\n      <td>546467952</td>\n    </tr>\n    <tr>\n      <th>147</th>\n      <td>202101-202106</td>\n      <td>전라남도</td>\n      <td>완도군</td>\n      <td>일반용</td>\n      <td>5712</td>\n      <td>52292061</td>\n    </tr>\n    <tr>\n      <th>148</th>\n      <td>202101-202106</td>\n      <td>전라남도</td>\n      <td>장성군</td>\n      <td>일반용</td>\n      <td>3758</td>\n      <td>53473454</td>\n    </tr>\n    <tr>\n      <th>148</th>\n      <td>202101-202106</td>\n      <td>전라남도</td>\n      <td>장성군</td>\n      <td>합계</td>\n      <td>7117</td>\n      <td>334780810</td>\n    </tr>\n    <tr>\n      <th>149</th>\n      <td>202101-202106</td>\n      <td>전라남도</td>\n      <td>장흥군</td>\n      <td>합계</td>\n      <td>7834</td>\n      <td>187454654</td>\n    </tr>\n    <tr>\n      <th>149</th>\n      <td>202101-202106</td>\n      <td>전라남도</td>\n      <td>장흥군</td>\n      <td>일반용</td>\n      <td>3494</td>\n      <td>36118557</td>\n    </tr>\n    <tr>\n      <th>150</th>\n      <td>202101-202106</td>\n      <td>전라남도</td>\n      <td>진도군</td>\n      <td>합계</td>\n      <td>7004</td>\n      <td>180629210</td>\n    </tr>\n    <tr>\n      <th>150</th>\n      <td>202101-202106</td>\n      <td>전라남도</td>\n      <td>진도군</td>\n      <td>일반용</td>\n      <td>3058</td>\n      <td>33245868</td>\n    </tr>\n    <tr>\n      <th>151</th>\n      <td>202101-202106</td>\n      <td>전라남도</td>\n      <td>함평군</td>\n      <td>합계</td>\n      <td>6977</td>\n      <td>199147540</td>\n    </tr>\n    <tr>\n      <th>151</th>\n      <td>202101-202106</td>\n      <td>전라남도</td>\n      <td>함평군</td>\n      <td>일반용</td>\n      <td>2529</td>\n      <td>27748201</td>\n    </tr>\n    <tr>\n      <th>152</th>\n      <td>202101-202106</td>\n      <td>전라남도</td>\n      <td>해남군</td>\n      <td>합계</td>\n      <td>14364</td>\n      <td>403982213</td>\n    </tr>\n    <tr>\n      <th>152</th>\n      <td>202101-202106</td>\n      <td>전라남도</td>\n      <td>해남군</td>\n      <td>일반용</td>\n      <td>6481</td>\n      <td>69784306</td>\n    </tr>\n    <tr>\n      <th>153</th>\n      <td>202101-202106</td>\n      <td>전라남도</td>\n      <td>화순군</td>\n      <td>일반용</td>\n      <td>4779</td>\n      <td>73423201</td>\n    </tr>\n    <tr>\n      <th>153</th>\n      <td>202101-202106</td>\n      <td>전라남도</td>\n      <td>화순군</td>\n      <td>합계</td>\n      <td>7527</td>\n      <td>272032890</td>\n    </tr>\n  </tbody>\n</table>\n</div>"
     },
     "execution_count": 29,
     "metadata": {},
     "output_type": "execute_result"
    }
   ],
   "source": [
    "Final = pd.concat([GyeonGiHap2 , Hap])\n",
    "Final = Final.sort_values('시군구')\n",
    "Final"
   ],
   "metadata": {
    "collapsed": false,
    "pycharm": {
     "name": "#%%\n"
    }
   }
  },
  {
   "cell_type": "code",
   "execution_count": 30,
   "outputs": [
    {
     "data": {
      "text/plain": "[34561931,\n 54609857,\n 25238889,\n 136819733,\n 31291122,\n 148413962,\n 60298911,\n 244353091,\n 89068566,\n 39521419,\n 266028238,\n 35833019,\n 322123600,\n 55295832,\n 65559845,\n 52292061,\n 53473454,\n 36118557,\n 33245868,\n 27748201,\n 69784306,\n 73423201]"
     },
     "execution_count": 30,
     "metadata": {},
     "output_type": "execute_result"
    }
   ],
   "source": [
    "# Final['일반용 전기의 비율'] = (Final['사용량(kWh)'].loc[Final['계약구분'] == '일반용']) // (Final['사용량(kWh)'].loc[Final['계약구분'] == '합계'])\n",
    "# Final\n",
    "ex = (Final['사용량(kWh)'].loc[Final['계약구분'] == '일반용']).tolist()\n",
    "\n",
    "\n",
    "ex\n"
   ],
   "metadata": {
    "collapsed": false,
    "pycharm": {
     "name": "#%%\n"
    }
   }
  },
  {
   "cell_type": "code",
   "execution_count": 31,
   "outputs": [
    {
     "data": {
      "text/plain": "[197690383,\n 298587029,\n 205036889,\n 1954169983,\n 89106435,\n 666930821,\n 273618564,\n 520907484,\n 337299099,\n 153790922,\n 1029502364,\n 147061137,\n 7274027116,\n 466803031,\n 609237756,\n 546467952,\n 334780810,\n 187454654,\n 180629210,\n 199147540,\n 403982213,\n 272032890]"
     },
     "execution_count": 31,
     "metadata": {},
     "output_type": "execute_result"
    }
   ],
   "source": [
    "ex_2 =(Final['사용량(kWh)'].loc[Final['계약구분'] == '합계']).tolist()\n",
    "ex_2"
   ],
   "metadata": {
    "collapsed": false,
    "pycharm": {
     "name": "#%%\n"
    }
   }
  },
  {
   "cell_type": "code",
   "execution_count": 32,
   "outputs": [
    {
     "name": "stdout",
     "output_type": "stream",
     "text": [
      "[17.48, 18.29, 12.31, 7.0, 35.12, 22.25, 22.04, 46.91, 26.41, 25.7, 25.84, 24.37, 4.43, 11.85, 10.76, 9.57, 15.97, 19.27, 18.41, 13.93, 17.27, 26.99]\n"
     ]
    }
   ],
   "source": [
    "Rate = []\n",
    "ilban = []\n",
    "rae = 0\n",
    "for i in range(len(ex)):\n",
    "    rae = round(ex[i] / ex_2[i] *100 ,2)\n",
    "    Rate.append(rae)\n",
    "print(Rate)"
   ],
   "metadata": {
    "collapsed": false,
    "pycharm": {
     "name": "#%%\n"
    }
   }
  },
  {
   "cell_type": "code",
   "execution_count": 33,
   "outputs": [
    {
     "data": {
      "text/plain": "0    17\n1    18\n2    12\n3     7\n4    35\n5    22\n6    22\n7    47\n8    26\n9    26\n10   26\n11   24\n12    4\n13   12\n14   11\n15   10\n16   16\n17   19\n18   18\n19   14\n20   17\n21   27\ndtype: float64"
     },
     "execution_count": 33,
     "metadata": {},
     "output_type": "execute_result"
    }
   ],
   "source": [
    "Rate3 = pd.Series(Rate)\n",
    "Rate3\n",
    "\n",
    "# Final = pd.concat([Final , Rate3])\n",
    "# Final"
   ],
   "metadata": {
    "collapsed": false,
    "pycharm": {
     "name": "#%%\n"
    }
   }
  },
  {
   "cell_type": "code",
   "execution_count": 34,
   "outputs": [
    {
     "data": {
      "text/plain": "    시군구 계약구분  비율\n0   강진군  일반용  17\n1   고흥군  일반용  18\n2   곡성군  일반용  12\n3   광양시  일반용   7\n4   구례군  일반용  35\n5   나주시  일반용  22\n6   담양군  일반용  22\n7   목포시  일반용  47\n8   무안군  일반용  26\n9   보성군  일반용  26\n10  순천시  일반용  26\n11  신안군  일반용  24\n12  여수시  일반용   4\n13  영광군  일반용  12\n14  영암군  일반용  11\n15  완도군  일반용  10\n16  장성군  일반용  16\n17  장흥군  일반용  19\n18  진도군  일반용  18\n19  함평군  일반용  14\n20  해남군  일반용  17\n21  화순군  일반용  27",
      "text/html": "<div>\n<style scoped>\n    .dataframe tbody tr th:only-of-type {\n        vertical-align: middle;\n    }\n\n    .dataframe tbody tr th {\n        vertical-align: top;\n    }\n\n    .dataframe thead th {\n        text-align: right;\n    }\n</style>\n<table border=\"1\" class=\"dataframe\">\n  <thead>\n    <tr style=\"text-align: right;\">\n      <th></th>\n      <th>시군구</th>\n      <th>계약구분</th>\n      <th>비율</th>\n    </tr>\n  </thead>\n  <tbody>\n    <tr>\n      <th>0</th>\n      <td>강진군</td>\n      <td>일반용</td>\n      <td>17</td>\n    </tr>\n    <tr>\n      <th>1</th>\n      <td>고흥군</td>\n      <td>일반용</td>\n      <td>18</td>\n    </tr>\n    <tr>\n      <th>2</th>\n      <td>곡성군</td>\n      <td>일반용</td>\n      <td>12</td>\n    </tr>\n    <tr>\n      <th>3</th>\n      <td>광양시</td>\n      <td>일반용</td>\n      <td>7</td>\n    </tr>\n    <tr>\n      <th>4</th>\n      <td>구례군</td>\n      <td>일반용</td>\n      <td>35</td>\n    </tr>\n    <tr>\n      <th>5</th>\n      <td>나주시</td>\n      <td>일반용</td>\n      <td>22</td>\n    </tr>\n    <tr>\n      <th>6</th>\n      <td>담양군</td>\n      <td>일반용</td>\n      <td>22</td>\n    </tr>\n    <tr>\n      <th>7</th>\n      <td>목포시</td>\n      <td>일반용</td>\n      <td>47</td>\n    </tr>\n    <tr>\n      <th>8</th>\n      <td>무안군</td>\n      <td>일반용</td>\n      <td>26</td>\n    </tr>\n    <tr>\n      <th>9</th>\n      <td>보성군</td>\n      <td>일반용</td>\n      <td>26</td>\n    </tr>\n    <tr>\n      <th>10</th>\n      <td>순천시</td>\n      <td>일반용</td>\n      <td>26</td>\n    </tr>\n    <tr>\n      <th>11</th>\n      <td>신안군</td>\n      <td>일반용</td>\n      <td>24</td>\n    </tr>\n    <tr>\n      <th>12</th>\n      <td>여수시</td>\n      <td>일반용</td>\n      <td>4</td>\n    </tr>\n    <tr>\n      <th>13</th>\n      <td>영광군</td>\n      <td>일반용</td>\n      <td>12</td>\n    </tr>\n    <tr>\n      <th>14</th>\n      <td>영암군</td>\n      <td>일반용</td>\n      <td>11</td>\n    </tr>\n    <tr>\n      <th>15</th>\n      <td>완도군</td>\n      <td>일반용</td>\n      <td>10</td>\n    </tr>\n    <tr>\n      <th>16</th>\n      <td>장성군</td>\n      <td>일반용</td>\n      <td>16</td>\n    </tr>\n    <tr>\n      <th>17</th>\n      <td>장흥군</td>\n      <td>일반용</td>\n      <td>19</td>\n    </tr>\n    <tr>\n      <th>18</th>\n      <td>진도군</td>\n      <td>일반용</td>\n      <td>18</td>\n    </tr>\n    <tr>\n      <th>19</th>\n      <td>함평군</td>\n      <td>일반용</td>\n      <td>14</td>\n    </tr>\n    <tr>\n      <th>20</th>\n      <td>해남군</td>\n      <td>일반용</td>\n      <td>17</td>\n    </tr>\n    <tr>\n      <th>21</th>\n      <td>화순군</td>\n      <td>일반용</td>\n      <td>27</td>\n    </tr>\n  </tbody>\n</table>\n</div>"
     },
     "execution_count": 34,
     "metadata": {},
     "output_type": "execute_result"
    }
   ],
   "source": [
    "for j in range(len(Rate)):\n",
    "    ilban.append('일반용')\n",
    "#print(Rate)\n",
    "\n",
    "Rate2 = pd.DataFrame()\n",
    "Rate2['시군구'] = pd.DataFrame(SIGUNGU)\n",
    "Rate2['계약구분'] = pd.DataFrame(ilban)\n",
    "Rate2['비율'] = pd.DataFrame(Rate)\n",
    "Rate2\n",
    "#print(Rate2.dtypes)"
   ],
   "metadata": {
    "collapsed": false,
    "pycharm": {
     "name": "#%%\n"
    }
   }
  },
  {
   "cell_type": "code",
   "execution_count": 35,
   "outputs": [
    {
     "data": {
      "text/plain": "               년월    시구  시군구 계약구분 고객호수(호)    사용량(kWh)  비율\n0   202101-202106  전라남도  강진군  일반용    3243    34561931  17\n1   202101-202106  전라남도  강진군   합계    7146   197690383 NaN\n2   202101-202106  전라남도  고흥군  일반용    5850    54609857  18\n3   202101-202106  전라남도  고흥군   합계   14483   298587029 NaN\n4   202101-202106  전라남도  곡성군  일반용    2370    25238889  12\n5   202101-202106  전라남도  곡성군   합계    6315   205036889 NaN\n6   202101-202106  전라남도  광양시  일반용   11524   136819733   7\n7   202101-202106  전라남도  광양시   합계   13758  1954169983 NaN\n8   202101-202106  전라남도  구례군  일반용    2690    31291122  35\n9   202101-202106  전라남도  구례군   합계    5445    89106435 NaN\n10  202101-202106  전라남도  나주시  일반용    8150   148413962  22\n11  202101-202106  전라남도  나주시   합계   15429   666930821 NaN\n12  202101-202106  전라남도  담양군  일반용    4278    60298911  22\n13  202101-202106  전라남도  담양군   합계    8607   273618564 NaN\n15  202101-202106  전라남도  목포시  일반용   19422   244353091  47\n14  202101-202106  전라남도  목포시   합계   16546   520907484 NaN\n17  202101-202106  전라남도  무안군  일반용    6411    89068566  26\n16  202101-202106  전라남도  무안군   합계   11821   337299099 NaN\n19  202101-202106  전라남도  보성군  일반용    3846    39521419  26\n18  202101-202106  전라남도  보성군   합계    9076   153790922 NaN\n21  202101-202106  전라남도  순천시  일반용   21223   266028238  26\n20  202101-202106  전라남도  순천시   합계   26751  1029502364 NaN\n23  202101-202106  전라남도  신안군  일반용    3914    35833019  24\n22  202101-202106  전라남도  신안군   합계    8966   147061137 NaN\n25  202101-202106  전라남도  여수시  일반용   23977   322123600   4\n24  202101-202106  전라남도  여수시   합계   27397  7274027116 NaN\n27  202101-202106  전라남도  영광군  일반용    5023    55295832  12\n26  202101-202106  전라남도  영광군   합계    9589   466803031 NaN\n29  202101-202106  전라남도  영암군  일반용    4625    65559845  11\n28  202101-202106  전라남도  영암군   합계   10130   609237756 NaN\n31  202101-202106  전라남도  완도군  일반용    5712    52292061  10\n30  202101-202106  전라남도  완도군   합계    8610   546467952 NaN\n32  202101-202106  전라남도  장성군  일반용    3758    53473454  16\n33  202101-202106  전라남도  장성군   합계    7117   334780810 NaN\n35  202101-202106  전라남도  장흥군  일반용    3494    36118557  19\n34  202101-202106  전라남도  장흥군   합계    7834   187454654 NaN\n37  202101-202106  전라남도  진도군  일반용    3058    33245868  18\n36  202101-202106  전라남도  진도군   합계    7004   180629210 NaN\n39  202101-202106  전라남도  함평군  일반용    2529    27748201  14\n38  202101-202106  전라남도  함평군   합계    6977   199147540 NaN\n41  202101-202106  전라남도  해남군  일반용    6481    69784306  17\n40  202101-202106  전라남도  해남군   합계   14364   403982213 NaN\n42  202101-202106  전라남도  화순군  일반용    4779    73423201  27\n43  202101-202106  전라남도  화순군   합계    7527   272032890 NaN",
      "text/html": "<div>\n<style scoped>\n    .dataframe tbody tr th:only-of-type {\n        vertical-align: middle;\n    }\n\n    .dataframe tbody tr th {\n        vertical-align: top;\n    }\n\n    .dataframe thead th {\n        text-align: right;\n    }\n</style>\n<table border=\"1\" class=\"dataframe\">\n  <thead>\n    <tr style=\"text-align: right;\">\n      <th></th>\n      <th>년월</th>\n      <th>시구</th>\n      <th>시군구</th>\n      <th>계약구분</th>\n      <th>고객호수(호)</th>\n      <th>사용량(kWh)</th>\n      <th>비율</th>\n    </tr>\n  </thead>\n  <tbody>\n    <tr>\n      <th>0</th>\n      <td>202101-202106</td>\n      <td>전라남도</td>\n      <td>강진군</td>\n      <td>일반용</td>\n      <td>3243</td>\n      <td>34561931</td>\n      <td>17</td>\n    </tr>\n    <tr>\n      <th>1</th>\n      <td>202101-202106</td>\n      <td>전라남도</td>\n      <td>강진군</td>\n      <td>합계</td>\n      <td>7146</td>\n      <td>197690383</td>\n      <td>NaN</td>\n    </tr>\n    <tr>\n      <th>2</th>\n      <td>202101-202106</td>\n      <td>전라남도</td>\n      <td>고흥군</td>\n      <td>일반용</td>\n      <td>5850</td>\n      <td>54609857</td>\n      <td>18</td>\n    </tr>\n    <tr>\n      <th>3</th>\n      <td>202101-202106</td>\n      <td>전라남도</td>\n      <td>고흥군</td>\n      <td>합계</td>\n      <td>14483</td>\n      <td>298587029</td>\n      <td>NaN</td>\n    </tr>\n    <tr>\n      <th>4</th>\n      <td>202101-202106</td>\n      <td>전라남도</td>\n      <td>곡성군</td>\n      <td>일반용</td>\n      <td>2370</td>\n      <td>25238889</td>\n      <td>12</td>\n    </tr>\n    <tr>\n      <th>5</th>\n      <td>202101-202106</td>\n      <td>전라남도</td>\n      <td>곡성군</td>\n      <td>합계</td>\n      <td>6315</td>\n      <td>205036889</td>\n      <td>NaN</td>\n    </tr>\n    <tr>\n      <th>6</th>\n      <td>202101-202106</td>\n      <td>전라남도</td>\n      <td>광양시</td>\n      <td>일반용</td>\n      <td>11524</td>\n      <td>136819733</td>\n      <td>7</td>\n    </tr>\n    <tr>\n      <th>7</th>\n      <td>202101-202106</td>\n      <td>전라남도</td>\n      <td>광양시</td>\n      <td>합계</td>\n      <td>13758</td>\n      <td>1954169983</td>\n      <td>NaN</td>\n    </tr>\n    <tr>\n      <th>8</th>\n      <td>202101-202106</td>\n      <td>전라남도</td>\n      <td>구례군</td>\n      <td>일반용</td>\n      <td>2690</td>\n      <td>31291122</td>\n      <td>35</td>\n    </tr>\n    <tr>\n      <th>9</th>\n      <td>202101-202106</td>\n      <td>전라남도</td>\n      <td>구례군</td>\n      <td>합계</td>\n      <td>5445</td>\n      <td>89106435</td>\n      <td>NaN</td>\n    </tr>\n    <tr>\n      <th>10</th>\n      <td>202101-202106</td>\n      <td>전라남도</td>\n      <td>나주시</td>\n      <td>일반용</td>\n      <td>8150</td>\n      <td>148413962</td>\n      <td>22</td>\n    </tr>\n    <tr>\n      <th>11</th>\n      <td>202101-202106</td>\n      <td>전라남도</td>\n      <td>나주시</td>\n      <td>합계</td>\n      <td>15429</td>\n      <td>666930821</td>\n      <td>NaN</td>\n    </tr>\n    <tr>\n      <th>12</th>\n      <td>202101-202106</td>\n      <td>전라남도</td>\n      <td>담양군</td>\n      <td>일반용</td>\n      <td>4278</td>\n      <td>60298911</td>\n      <td>22</td>\n    </tr>\n    <tr>\n      <th>13</th>\n      <td>202101-202106</td>\n      <td>전라남도</td>\n      <td>담양군</td>\n      <td>합계</td>\n      <td>8607</td>\n      <td>273618564</td>\n      <td>NaN</td>\n    </tr>\n    <tr>\n      <th>15</th>\n      <td>202101-202106</td>\n      <td>전라남도</td>\n      <td>목포시</td>\n      <td>일반용</td>\n      <td>19422</td>\n      <td>244353091</td>\n      <td>47</td>\n    </tr>\n    <tr>\n      <th>14</th>\n      <td>202101-202106</td>\n      <td>전라남도</td>\n      <td>목포시</td>\n      <td>합계</td>\n      <td>16546</td>\n      <td>520907484</td>\n      <td>NaN</td>\n    </tr>\n    <tr>\n      <th>17</th>\n      <td>202101-202106</td>\n      <td>전라남도</td>\n      <td>무안군</td>\n      <td>일반용</td>\n      <td>6411</td>\n      <td>89068566</td>\n      <td>26</td>\n    </tr>\n    <tr>\n      <th>16</th>\n      <td>202101-202106</td>\n      <td>전라남도</td>\n      <td>무안군</td>\n      <td>합계</td>\n      <td>11821</td>\n      <td>337299099</td>\n      <td>NaN</td>\n    </tr>\n    <tr>\n      <th>19</th>\n      <td>202101-202106</td>\n      <td>전라남도</td>\n      <td>보성군</td>\n      <td>일반용</td>\n      <td>3846</td>\n      <td>39521419</td>\n      <td>26</td>\n    </tr>\n    <tr>\n      <th>18</th>\n      <td>202101-202106</td>\n      <td>전라남도</td>\n      <td>보성군</td>\n      <td>합계</td>\n      <td>9076</td>\n      <td>153790922</td>\n      <td>NaN</td>\n    </tr>\n    <tr>\n      <th>21</th>\n      <td>202101-202106</td>\n      <td>전라남도</td>\n      <td>순천시</td>\n      <td>일반용</td>\n      <td>21223</td>\n      <td>266028238</td>\n      <td>26</td>\n    </tr>\n    <tr>\n      <th>20</th>\n      <td>202101-202106</td>\n      <td>전라남도</td>\n      <td>순천시</td>\n      <td>합계</td>\n      <td>26751</td>\n      <td>1029502364</td>\n      <td>NaN</td>\n    </tr>\n    <tr>\n      <th>23</th>\n      <td>202101-202106</td>\n      <td>전라남도</td>\n      <td>신안군</td>\n      <td>일반용</td>\n      <td>3914</td>\n      <td>35833019</td>\n      <td>24</td>\n    </tr>\n    <tr>\n      <th>22</th>\n      <td>202101-202106</td>\n      <td>전라남도</td>\n      <td>신안군</td>\n      <td>합계</td>\n      <td>8966</td>\n      <td>147061137</td>\n      <td>NaN</td>\n    </tr>\n    <tr>\n      <th>25</th>\n      <td>202101-202106</td>\n      <td>전라남도</td>\n      <td>여수시</td>\n      <td>일반용</td>\n      <td>23977</td>\n      <td>322123600</td>\n      <td>4</td>\n    </tr>\n    <tr>\n      <th>24</th>\n      <td>202101-202106</td>\n      <td>전라남도</td>\n      <td>여수시</td>\n      <td>합계</td>\n      <td>27397</td>\n      <td>7274027116</td>\n      <td>NaN</td>\n    </tr>\n    <tr>\n      <th>27</th>\n      <td>202101-202106</td>\n      <td>전라남도</td>\n      <td>영광군</td>\n      <td>일반용</td>\n      <td>5023</td>\n      <td>55295832</td>\n      <td>12</td>\n    </tr>\n    <tr>\n      <th>26</th>\n      <td>202101-202106</td>\n      <td>전라남도</td>\n      <td>영광군</td>\n      <td>합계</td>\n      <td>9589</td>\n      <td>466803031</td>\n      <td>NaN</td>\n    </tr>\n    <tr>\n      <th>29</th>\n      <td>202101-202106</td>\n      <td>전라남도</td>\n      <td>영암군</td>\n      <td>일반용</td>\n      <td>4625</td>\n      <td>65559845</td>\n      <td>11</td>\n    </tr>\n    <tr>\n      <th>28</th>\n      <td>202101-202106</td>\n      <td>전라남도</td>\n      <td>영암군</td>\n      <td>합계</td>\n      <td>10130</td>\n      <td>609237756</td>\n      <td>NaN</td>\n    </tr>\n    <tr>\n      <th>31</th>\n      <td>202101-202106</td>\n      <td>전라남도</td>\n      <td>완도군</td>\n      <td>일반용</td>\n      <td>5712</td>\n      <td>52292061</td>\n      <td>10</td>\n    </tr>\n    <tr>\n      <th>30</th>\n      <td>202101-202106</td>\n      <td>전라남도</td>\n      <td>완도군</td>\n      <td>합계</td>\n      <td>8610</td>\n      <td>546467952</td>\n      <td>NaN</td>\n    </tr>\n    <tr>\n      <th>32</th>\n      <td>202101-202106</td>\n      <td>전라남도</td>\n      <td>장성군</td>\n      <td>일반용</td>\n      <td>3758</td>\n      <td>53473454</td>\n      <td>16</td>\n    </tr>\n    <tr>\n      <th>33</th>\n      <td>202101-202106</td>\n      <td>전라남도</td>\n      <td>장성군</td>\n      <td>합계</td>\n      <td>7117</td>\n      <td>334780810</td>\n      <td>NaN</td>\n    </tr>\n    <tr>\n      <th>35</th>\n      <td>202101-202106</td>\n      <td>전라남도</td>\n      <td>장흥군</td>\n      <td>일반용</td>\n      <td>3494</td>\n      <td>36118557</td>\n      <td>19</td>\n    </tr>\n    <tr>\n      <th>34</th>\n      <td>202101-202106</td>\n      <td>전라남도</td>\n      <td>장흥군</td>\n      <td>합계</td>\n      <td>7834</td>\n      <td>187454654</td>\n      <td>NaN</td>\n    </tr>\n    <tr>\n      <th>37</th>\n      <td>202101-202106</td>\n      <td>전라남도</td>\n      <td>진도군</td>\n      <td>일반용</td>\n      <td>3058</td>\n      <td>33245868</td>\n      <td>18</td>\n    </tr>\n    <tr>\n      <th>36</th>\n      <td>202101-202106</td>\n      <td>전라남도</td>\n      <td>진도군</td>\n      <td>합계</td>\n      <td>7004</td>\n      <td>180629210</td>\n      <td>NaN</td>\n    </tr>\n    <tr>\n      <th>39</th>\n      <td>202101-202106</td>\n      <td>전라남도</td>\n      <td>함평군</td>\n      <td>일반용</td>\n      <td>2529</td>\n      <td>27748201</td>\n      <td>14</td>\n    </tr>\n    <tr>\n      <th>38</th>\n      <td>202101-202106</td>\n      <td>전라남도</td>\n      <td>함평군</td>\n      <td>합계</td>\n      <td>6977</td>\n      <td>199147540</td>\n      <td>NaN</td>\n    </tr>\n    <tr>\n      <th>41</th>\n      <td>202101-202106</td>\n      <td>전라남도</td>\n      <td>해남군</td>\n      <td>일반용</td>\n      <td>6481</td>\n      <td>69784306</td>\n      <td>17</td>\n    </tr>\n    <tr>\n      <th>40</th>\n      <td>202101-202106</td>\n      <td>전라남도</td>\n      <td>해남군</td>\n      <td>합계</td>\n      <td>14364</td>\n      <td>403982213</td>\n      <td>NaN</td>\n    </tr>\n    <tr>\n      <th>42</th>\n      <td>202101-202106</td>\n      <td>전라남도</td>\n      <td>화순군</td>\n      <td>일반용</td>\n      <td>4779</td>\n      <td>73423201</td>\n      <td>27</td>\n    </tr>\n    <tr>\n      <th>43</th>\n      <td>202101-202106</td>\n      <td>전라남도</td>\n      <td>화순군</td>\n      <td>합계</td>\n      <td>7527</td>\n      <td>272032890</td>\n      <td>NaN</td>\n    </tr>\n  </tbody>\n</table>\n</div>"
     },
     "execution_count": 35,
     "metadata": {},
     "output_type": "execute_result"
    }
   ],
   "source": [
    "Final = pd.merge(Final , Rate2, on=['시군구', '계약구분'] , how='left')\n",
    "\n",
    "#Final.drop(['비율_y]' , axis = 1 , inplace = True)\n",
    "#Final.rename(columns={'비율_y':'전체 계약종별 전력사용량 대비 일반용 사용량 비율'})\n",
    "Final = Final.sort_values(['시군구' , '계약구분'])\n",
    "Final"
   ],
   "metadata": {
    "collapsed": false,
    "pycharm": {
     "name": "#%%\n"
    }
   }
  },
  {
   "cell_type": "code",
   "execution_count": 36,
   "outputs": [],
   "source": [
    "# Final['일반용 전기의 비율'] = Final.append(Rate)\n",
    "# Final"
   ],
   "metadata": {
    "collapsed": false,
    "pycharm": {
     "name": "#%%\n"
    }
   }
  },
  {
   "cell_type": "markdown",
   "source": [
    "### 6. 날짜 체크!!!!!!!!!!!!!!!!!!!!1"
   ],
   "metadata": {
    "collapsed": false,
    "pycharm": {
     "name": "#%% md\n"
    }
   }
  },
  {
   "cell_type": "code",
   "execution_count": 37,
   "outputs": [],
   "source": [
    "Final.to_csv(\"{}_일반용_전력사용량_2101-06.csv\".format(City) , mode = 'w' , encoding= 'cp949' , index =False) #파일명 수정"
   ],
   "metadata": {
    "collapsed": false,
    "pycharm": {
     "name": "#%%\n"
    }
   }
  },
  {
   "cell_type": "code",
   "execution_count": 37,
   "outputs": [],
   "source": [],
   "metadata": {
    "collapsed": false,
    "pycharm": {
     "name": "#%%\n"
    }
   }
  },
  {
   "cell_type": "code",
   "execution_count": 38,
   "outputs": [],
   "source": [
    "# Sigu = list(set(df_3['시군구'].tolist()))\n",
    "#\n",
    "# Sigu.sort()\n",
    "#\n",
    "# Sigu"
   ],
   "metadata": {
    "collapsed": false,
    "pycharm": {
     "name": "#%%\n"
    }
   }
  },
  {
   "cell_type": "code",
   "execution_count": 39,
   "outputs": [],
   "source": [
    "# YearMonth = list(set(df_3['년월'].tolist()))\n",
    "#\n",
    "# YearMonth.sort()\n",
    "# YearMonth"
   ],
   "metadata": {
    "collapsed": false,
    "pycharm": {
     "name": "#%%\n"
    }
   }
  },
  {
   "cell_type": "code",
   "execution_count": 40,
   "outputs": [],
   "source": [
    "# Gayeak = list(set(df_3['계약구분'].tolist()))\n",
    "#\n",
    "# Gayeak.sort()\n",
    "# Gayeak"
   ],
   "metadata": {
    "collapsed": false,
    "pycharm": {
     "name": "#%%\n"
    }
   }
  },
  {
   "cell_type": "code",
   "execution_count": 41,
   "outputs": [],
   "source": [
    "# SEOUL = df_3.loc[(df_3['계약구분'] =='일반용')]\n",
    "# SEOUL.drop(['고객호수(호)' ,'전기요금(원)' , '평균판매단가(원/kWh)'] , axis = 1 , inplace = True)\n",
    "# #SEOUL.dtypes(['사용량(kWh)'])\n",
    "# SEOUL"
   ],
   "metadata": {
    "collapsed": false,
    "pycharm": {
     "name": "#%%\n"
    }
   }
  },
  {
   "cell_type": "code",
   "execution_count": 42,
   "outputs": [],
   "source": [
    "#SEOUL.to_csv(\"서울특별시_일반용_전력사용량.csv\" , mode = 'w' , encoding= 'cp949')"
   ],
   "metadata": {
    "collapsed": false,
    "pycharm": {
     "name": "#%%\n"
    }
   }
  },
  {
   "cell_type": "code",
   "execution_count": 43,
   "outputs": [],
   "source": [
    "# print(SEOUL.dtypes)\n",
    "# SEOUL = SEOUL.astype({'사용량(kWh)' : 'float'})"
   ],
   "metadata": {
    "collapsed": false,
    "pycharm": {
     "name": "#%%\n"
    }
   }
  },
  {
   "cell_type": "code",
   "execution_count": 44,
   "outputs": [],
   "source": [
    "# SEOUL"
   ],
   "metadata": {
    "collapsed": false,
    "pycharm": {
     "name": "#%%\n"
    }
   }
  },
  {
   "cell_type": "code",
   "execution_count": 45,
   "outputs": [],
   "source": [
    "# a = SEOUL['사용량(kWh)'].tolist()\n",
    "# int_list = map(int, a)\n",
    "# b=0\n",
    "# for i in int_list:\n",
    "#     b+=i\n",
    "#\n",
    "# print(b)"
   ],
   "metadata": {
    "collapsed": false,
    "pycharm": {
     "name": "#%%\n"
    }
   }
  },
  {
   "cell_type": "code",
   "execution_count": 45,
   "outputs": [],
   "source": [],
   "metadata": {
    "collapsed": false,
    "pycharm": {
     "name": "#%%\n"
    }
   }
  },
  {
   "cell_type": "code",
   "execution_count": 45,
   "outputs": [],
   "source": [],
   "metadata": {
    "collapsed": false,
    "pycharm": {
     "name": "#%%\n"
    }
   }
  },
  {
   "cell_type": "code",
   "execution_count": 45,
   "outputs": [],
   "source": [],
   "metadata": {
    "collapsed": false,
    "pycharm": {
     "name": "#%%\n"
    }
   }
  },
  {
   "cell_type": "code",
   "execution_count": 45,
   "outputs": [],
   "source": [],
   "metadata": {
    "collapsed": false,
    "pycharm": {
     "name": "#%%\n"
    }
   }
  },
  {
   "cell_type": "code",
   "execution_count": 45,
   "outputs": [],
   "source": [],
   "metadata": {
    "collapsed": false,
    "pycharm": {
     "name": "#%%\n"
    }
   }
  },
  {
   "cell_type": "code",
   "execution_count": 45,
   "outputs": [],
   "source": [],
   "metadata": {
    "collapsed": false,
    "pycharm": {
     "name": "#%%\n"
    }
   }
  },
  {
   "cell_type": "code",
   "execution_count": 45,
   "outputs": [],
   "source": [],
   "metadata": {
    "collapsed": false,
    "pycharm": {
     "name": "#%%\n"
    }
   }
  }
 ],
 "metadata": {
  "kernelspec": {
   "display_name": "Python 3",
   "language": "python",
   "name": "python3"
  },
  "language_info": {
   "codemirror_mode": {
    "name": "ipython",
    "version": 2
   },
   "file_extension": ".py",
   "mimetype": "text/x-python",
   "name": "python",
   "nbconvert_exporter": "python",
   "pygments_lexer": "ipython2",
   "version": "2.7.6"
  }
 },
 "nbformat": 4,
 "nbformat_minor": 0
}