{
 "cells": [
  {
   "cell_type": "markdown",
   "source": [],
   "metadata": {
    "collapsed": false,
    "pycharm": {
     "name": "#%% md\n"
    }
   }
  },
  {
   "cell_type": "code",
   "execution_count": 24,
   "outputs": [],
   "source": [
    "import pandas as pd\n",
    "import re\n",
    "\n",
    "pd.options.display.float_format = '{:.0f}'.format"
   ],
   "metadata": {
    "collapsed": false,
    "pycharm": {
     "name": "#%%\n"
    }
   }
  },
  {
   "cell_type": "markdown",
   "source": [
    "### 1. 꼭 read_csv 21상반기, 19하반기와 같이 맞추어 주세요!!! 또한 지역(전라북도, 남도) 맞추기!!!!!"
   ],
   "metadata": {
    "collapsed": false,
    "pycharm": {
     "name": "#%% md\n"
    }
   }
  },
  {
   "cell_type": "code",
   "execution_count": 29,
   "outputs": [
    {
     "data": {
      "text/plain": "       계약종별 전력사용량 월별( 20220804 현재 ) Unnamed: 1     Unnamed: 2 Unnamed: 3  \\\n0    시도 : 전라북도, 시군구 : 전체(시 / 군 / 구)        NaN            NaN        NaN   \n1       기간 : 2021년 01 월 ~ 2021년 06월        NaN            NaN        NaN   \n2                                년월         시구            시군구       계약구분   \n3                            202101       전라북도  전체(시 / 군 / 구)        주택용   \n4                            202101       전라북도  전체(시 / 군 / 구)        일반용   \n..                              ...        ...            ...        ...   \n715                          202106       전라북도            진안군        산업용   \n716                          202106       전라북도            진안군        심 야   \n717                          202106       전라북도            진안군        일반용   \n718                          202106       전라북도            진안군        주택용   \n719                          202106       전라북도            진안군         합계   \n\n    Unnamed: 4    Unnamed: 5       Unnamed: 6     Unnamed: 7  \n0          NaN           NaN              NaN            NaN  \n1          NaN           NaN              NaN            NaN  \n2      고객호수(호)      사용량(kWh)          전기요금(원)  평균판매단가(원/kWh)  \n3     679,034   245,214,143   28,181,639,636          114.9   \n4     144,604   374,566,781   48,848,634,242          130.4   \n..         ...           ...              ...            ...  \n715       980     2,890,375      394,630,916          136.5   \n716     1,734     1,050,604       55,960,210           53.3   \n717     2,253     3,346,227      472,066,455          141.1   \n718    15,317     2,323,904      263,668,531          113.5   \n719    32,997    14,592,377    1,508,040,095          103.3   \n\n[720 rows x 8 columns]",
      "text/html": "<div>\n<style scoped>\n    .dataframe tbody tr th:only-of-type {\n        vertical-align: middle;\n    }\n\n    .dataframe tbody tr th {\n        vertical-align: top;\n    }\n\n    .dataframe thead th {\n        text-align: right;\n    }\n</style>\n<table border=\"1\" class=\"dataframe\">\n  <thead>\n    <tr style=\"text-align: right;\">\n      <th></th>\n      <th>계약종별 전력사용량 월별( 20220804 현재 )</th>\n      <th>Unnamed: 1</th>\n      <th>Unnamed: 2</th>\n      <th>Unnamed: 3</th>\n      <th>Unnamed: 4</th>\n      <th>Unnamed: 5</th>\n      <th>Unnamed: 6</th>\n      <th>Unnamed: 7</th>\n    </tr>\n  </thead>\n  <tbody>\n    <tr>\n      <th>0</th>\n      <td>시도 : 전라북도, 시군구 : 전체(시 / 군 / 구)</td>\n      <td>NaN</td>\n      <td>NaN</td>\n      <td>NaN</td>\n      <td>NaN</td>\n      <td>NaN</td>\n      <td>NaN</td>\n      <td>NaN</td>\n    </tr>\n    <tr>\n      <th>1</th>\n      <td>기간 : 2021년 01 월 ~ 2021년 06월</td>\n      <td>NaN</td>\n      <td>NaN</td>\n      <td>NaN</td>\n      <td>NaN</td>\n      <td>NaN</td>\n      <td>NaN</td>\n      <td>NaN</td>\n    </tr>\n    <tr>\n      <th>2</th>\n      <td>년월</td>\n      <td>시구</td>\n      <td>시군구</td>\n      <td>계약구분</td>\n      <td>고객호수(호)</td>\n      <td>사용량(kWh)</td>\n      <td>전기요금(원)</td>\n      <td>평균판매단가(원/kWh)</td>\n    </tr>\n    <tr>\n      <th>3</th>\n      <td>202101</td>\n      <td>전라북도</td>\n      <td>전체(시 / 군 / 구)</td>\n      <td>주택용</td>\n      <td>679,034</td>\n      <td>245,214,143</td>\n      <td>28,181,639,636</td>\n      <td>114.9</td>\n    </tr>\n    <tr>\n      <th>4</th>\n      <td>202101</td>\n      <td>전라북도</td>\n      <td>전체(시 / 군 / 구)</td>\n      <td>일반용</td>\n      <td>144,604</td>\n      <td>374,566,781</td>\n      <td>48,848,634,242</td>\n      <td>130.4</td>\n    </tr>\n    <tr>\n      <th>...</th>\n      <td>...</td>\n      <td>...</td>\n      <td>...</td>\n      <td>...</td>\n      <td>...</td>\n      <td>...</td>\n      <td>...</td>\n      <td>...</td>\n    </tr>\n    <tr>\n      <th>715</th>\n      <td>202106</td>\n      <td>전라북도</td>\n      <td>진안군</td>\n      <td>산업용</td>\n      <td>980</td>\n      <td>2,890,375</td>\n      <td>394,630,916</td>\n      <td>136.5</td>\n    </tr>\n    <tr>\n      <th>716</th>\n      <td>202106</td>\n      <td>전라북도</td>\n      <td>진안군</td>\n      <td>심 야</td>\n      <td>1,734</td>\n      <td>1,050,604</td>\n      <td>55,960,210</td>\n      <td>53.3</td>\n    </tr>\n    <tr>\n      <th>717</th>\n      <td>202106</td>\n      <td>전라북도</td>\n      <td>진안군</td>\n      <td>일반용</td>\n      <td>2,253</td>\n      <td>3,346,227</td>\n      <td>472,066,455</td>\n      <td>141.1</td>\n    </tr>\n    <tr>\n      <th>718</th>\n      <td>202106</td>\n      <td>전라북도</td>\n      <td>진안군</td>\n      <td>주택용</td>\n      <td>15,317</td>\n      <td>2,323,904</td>\n      <td>263,668,531</td>\n      <td>113.5</td>\n    </tr>\n    <tr>\n      <th>719</th>\n      <td>202106</td>\n      <td>전라북도</td>\n      <td>진안군</td>\n      <td>합계</td>\n      <td>32,997</td>\n      <td>14,592,377</td>\n      <td>1,508,040,095</td>\n      <td>103.3</td>\n    </tr>\n  </tbody>\n</table>\n<p>720 rows × 8 columns</p>\n</div>"
     },
     "execution_count": 29,
     "metadata": {},
     "output_type": "execute_result"
    }
   ],
   "source": [
    "df = pd.read_csv('전라북도_계약종별_전력사용량_월별_21상반기_2.csv' , encoding='cp949')\n",
    "\n",
    "df\n",
    "#exchng=  pd.read_csv('지역별_전력거래량_20220803093050.csv' , encoding='cp949')"
   ],
   "metadata": {
    "collapsed": false,
    "pycharm": {
     "name": "#%%\n"
    }
   }
  },
  {
   "cell_type": "code",
   "execution_count": 30,
   "outputs": [
    {
     "data": {
      "text/plain": "    계약종별 전력사용량 월별( 20220804 현재 ) Unnamed: 1     Unnamed: 2 Unnamed: 3  \\\n2                             년월         시구            시군구       계약구분   \n3                         202101       전라북도  전체(시 / 군 / 구)        주택용   \n4                         202101       전라북도  전체(시 / 군 / 구)        일반용   \n5                         202101       전라북도  전체(시 / 군 / 구)        교육용   \n6                         202101       전라북도  전체(시 / 군 / 구)        산업용   \n..                           ...        ...            ...        ...   \n715                       202106       전라북도            진안군        산업용   \n716                       202106       전라북도            진안군        심 야   \n717                       202106       전라북도            진안군        일반용   \n718                       202106       전라북도            진안군        주택용   \n719                       202106       전라북도            진안군         합계   \n\n    Unnamed: 4      Unnamed: 5        Unnamed: 6     Unnamed: 7  \n2      고객호수(호)        사용량(kWh)           전기요금(원)  평균판매단가(원/kWh)  \n3     679,034     245,214,143    28,181,639,636          114.9   \n4     144,604     374,566,781    48,848,634,242          130.4   \n5       1,233      43,552,607     4,230,595,047           97.1   \n6      16,103   1,009,741,345   111,884,234,197          110.8   \n..         ...             ...               ...            ...  \n715       980       2,890,375       394,630,916          136.5   \n716     1,734       1,050,604        55,960,210           53.3   \n717     2,253       3,346,227       472,066,455          141.1   \n718    15,317       2,323,904       263,668,531          113.5   \n719    32,997      14,592,377     1,508,040,095          103.3   \n\n[717 rows x 8 columns]",
      "text/html": "<div>\n<style scoped>\n    .dataframe tbody tr th:only-of-type {\n        vertical-align: middle;\n    }\n\n    .dataframe tbody tr th {\n        vertical-align: top;\n    }\n\n    .dataframe thead th {\n        text-align: right;\n    }\n</style>\n<table border=\"1\" class=\"dataframe\">\n  <thead>\n    <tr style=\"text-align: right;\">\n      <th></th>\n      <th>계약종별 전력사용량 월별( 20220804 현재 )</th>\n      <th>Unnamed: 1</th>\n      <th>Unnamed: 2</th>\n      <th>Unnamed: 3</th>\n      <th>Unnamed: 4</th>\n      <th>Unnamed: 5</th>\n      <th>Unnamed: 6</th>\n      <th>Unnamed: 7</th>\n    </tr>\n  </thead>\n  <tbody>\n    <tr>\n      <th>2</th>\n      <td>년월</td>\n      <td>시구</td>\n      <td>시군구</td>\n      <td>계약구분</td>\n      <td>고객호수(호)</td>\n      <td>사용량(kWh)</td>\n      <td>전기요금(원)</td>\n      <td>평균판매단가(원/kWh)</td>\n    </tr>\n    <tr>\n      <th>3</th>\n      <td>202101</td>\n      <td>전라북도</td>\n      <td>전체(시 / 군 / 구)</td>\n      <td>주택용</td>\n      <td>679,034</td>\n      <td>245,214,143</td>\n      <td>28,181,639,636</td>\n      <td>114.9</td>\n    </tr>\n    <tr>\n      <th>4</th>\n      <td>202101</td>\n      <td>전라북도</td>\n      <td>전체(시 / 군 / 구)</td>\n      <td>일반용</td>\n      <td>144,604</td>\n      <td>374,566,781</td>\n      <td>48,848,634,242</td>\n      <td>130.4</td>\n    </tr>\n    <tr>\n      <th>5</th>\n      <td>202101</td>\n      <td>전라북도</td>\n      <td>전체(시 / 군 / 구)</td>\n      <td>교육용</td>\n      <td>1,233</td>\n      <td>43,552,607</td>\n      <td>4,230,595,047</td>\n      <td>97.1</td>\n    </tr>\n    <tr>\n      <th>6</th>\n      <td>202101</td>\n      <td>전라북도</td>\n      <td>전체(시 / 군 / 구)</td>\n      <td>산업용</td>\n      <td>16,103</td>\n      <td>1,009,741,345</td>\n      <td>111,884,234,197</td>\n      <td>110.8</td>\n    </tr>\n    <tr>\n      <th>...</th>\n      <td>...</td>\n      <td>...</td>\n      <td>...</td>\n      <td>...</td>\n      <td>...</td>\n      <td>...</td>\n      <td>...</td>\n      <td>...</td>\n    </tr>\n    <tr>\n      <th>715</th>\n      <td>202106</td>\n      <td>전라북도</td>\n      <td>진안군</td>\n      <td>산업용</td>\n      <td>980</td>\n      <td>2,890,375</td>\n      <td>394,630,916</td>\n      <td>136.5</td>\n    </tr>\n    <tr>\n      <th>716</th>\n      <td>202106</td>\n      <td>전라북도</td>\n      <td>진안군</td>\n      <td>심 야</td>\n      <td>1,734</td>\n      <td>1,050,604</td>\n      <td>55,960,210</td>\n      <td>53.3</td>\n    </tr>\n    <tr>\n      <th>717</th>\n      <td>202106</td>\n      <td>전라북도</td>\n      <td>진안군</td>\n      <td>일반용</td>\n      <td>2,253</td>\n      <td>3,346,227</td>\n      <td>472,066,455</td>\n      <td>141.1</td>\n    </tr>\n    <tr>\n      <th>718</th>\n      <td>202106</td>\n      <td>전라북도</td>\n      <td>진안군</td>\n      <td>주택용</td>\n      <td>15,317</td>\n      <td>2,323,904</td>\n      <td>263,668,531</td>\n      <td>113.5</td>\n    </tr>\n    <tr>\n      <th>719</th>\n      <td>202106</td>\n      <td>전라북도</td>\n      <td>진안군</td>\n      <td>합계</td>\n      <td>32,997</td>\n      <td>14,592,377</td>\n      <td>1,508,040,095</td>\n      <td>103.3</td>\n    </tr>\n  </tbody>\n</table>\n<p>717 rows × 8 columns</p>\n</div>"
     },
     "execution_count": 30,
     "metadata": {},
     "output_type": "execute_result"
    }
   ],
   "source": [
    "df = df.drop([0,1 , 46] , axis = 0)\n",
    "#0,1 , 10은 지우는게 맞다\n",
    "df"
   ],
   "metadata": {
    "collapsed": false,
    "pycharm": {
     "name": "#%%\n"
    }
   }
  },
  {
   "cell_type": "code",
   "execution_count": 31,
   "outputs": [],
   "source": [
    "a= df.loc[2].tolist()\n",
    "a\n",
    "df = df.drop([2] , axis = 0)"
   ],
   "metadata": {
    "collapsed": false,
    "pycharm": {
     "name": "#%%\n"
    }
   }
  },
  {
   "cell_type": "code",
   "execution_count": 32,
   "outputs": [
    {
     "data": {
      "text/plain": "         년월    시구            시군구 계약구분   고객호수(호)        사용량(kWh)  \\\n3    202101  전라북도  전체(시 / 군 / 구)  주택용  679,034     245,214,143    \n4    202101  전라북도  전체(시 / 군 / 구)  일반용  144,604     374,566,781    \n5    202101  전라북도  전체(시 / 군 / 구)  교육용    1,233      43,552,607    \n6    202101  전라북도  전체(시 / 군 / 구)  산업용   16,103   1,009,741,345    \n7    202101  전라북도  전체(시 / 군 / 구)  농사용  160,171     182,383,879    \n..      ...   ...            ...  ...       ...             ...   \n715  202106  전라북도            진안군  산업용      980       2,890,375    \n716  202106  전라북도            진안군  심 야    1,734       1,050,604    \n717  202106  전라북도            진안군  일반용    2,253       3,346,227    \n718  202106  전라북도            진안군  주택용   15,317       2,323,904    \n719  202106  전라북도            진안군   합계   32,997      14,592,377    \n\n              전기요금(원) 평균판매단가(원/kWh)  \n3     28,181,639,636         114.9   \n4     48,848,634,242         130.4   \n5      4,230,595,047          97.1   \n6    111,884,234,197         110.8   \n7      8,227,547,806          45.1   \n..                ...           ...  \n715      394,630,916         136.5   \n716       55,960,210          53.3   \n717      472,066,455         141.1   \n718      263,668,531         113.5   \n719    1,508,040,095         103.3   \n\n[716 rows x 8 columns]",
      "text/html": "<div>\n<style scoped>\n    .dataframe tbody tr th:only-of-type {\n        vertical-align: middle;\n    }\n\n    .dataframe tbody tr th {\n        vertical-align: top;\n    }\n\n    .dataframe thead th {\n        text-align: right;\n    }\n</style>\n<table border=\"1\" class=\"dataframe\">\n  <thead>\n    <tr style=\"text-align: right;\">\n      <th></th>\n      <th>년월</th>\n      <th>시구</th>\n      <th>시군구</th>\n      <th>계약구분</th>\n      <th>고객호수(호)</th>\n      <th>사용량(kWh)</th>\n      <th>전기요금(원)</th>\n      <th>평균판매단가(원/kWh)</th>\n    </tr>\n  </thead>\n  <tbody>\n    <tr>\n      <th>3</th>\n      <td>202101</td>\n      <td>전라북도</td>\n      <td>전체(시 / 군 / 구)</td>\n      <td>주택용</td>\n      <td>679,034</td>\n      <td>245,214,143</td>\n      <td>28,181,639,636</td>\n      <td>114.9</td>\n    </tr>\n    <tr>\n      <th>4</th>\n      <td>202101</td>\n      <td>전라북도</td>\n      <td>전체(시 / 군 / 구)</td>\n      <td>일반용</td>\n      <td>144,604</td>\n      <td>374,566,781</td>\n      <td>48,848,634,242</td>\n      <td>130.4</td>\n    </tr>\n    <tr>\n      <th>5</th>\n      <td>202101</td>\n      <td>전라북도</td>\n      <td>전체(시 / 군 / 구)</td>\n      <td>교육용</td>\n      <td>1,233</td>\n      <td>43,552,607</td>\n      <td>4,230,595,047</td>\n      <td>97.1</td>\n    </tr>\n    <tr>\n      <th>6</th>\n      <td>202101</td>\n      <td>전라북도</td>\n      <td>전체(시 / 군 / 구)</td>\n      <td>산업용</td>\n      <td>16,103</td>\n      <td>1,009,741,345</td>\n      <td>111,884,234,197</td>\n      <td>110.8</td>\n    </tr>\n    <tr>\n      <th>7</th>\n      <td>202101</td>\n      <td>전라북도</td>\n      <td>전체(시 / 군 / 구)</td>\n      <td>농사용</td>\n      <td>160,171</td>\n      <td>182,383,879</td>\n      <td>8,227,547,806</td>\n      <td>45.1</td>\n    </tr>\n    <tr>\n      <th>...</th>\n      <td>...</td>\n      <td>...</td>\n      <td>...</td>\n      <td>...</td>\n      <td>...</td>\n      <td>...</td>\n      <td>...</td>\n      <td>...</td>\n    </tr>\n    <tr>\n      <th>715</th>\n      <td>202106</td>\n      <td>전라북도</td>\n      <td>진안군</td>\n      <td>산업용</td>\n      <td>980</td>\n      <td>2,890,375</td>\n      <td>394,630,916</td>\n      <td>136.5</td>\n    </tr>\n    <tr>\n      <th>716</th>\n      <td>202106</td>\n      <td>전라북도</td>\n      <td>진안군</td>\n      <td>심 야</td>\n      <td>1,734</td>\n      <td>1,050,604</td>\n      <td>55,960,210</td>\n      <td>53.3</td>\n    </tr>\n    <tr>\n      <th>717</th>\n      <td>202106</td>\n      <td>전라북도</td>\n      <td>진안군</td>\n      <td>일반용</td>\n      <td>2,253</td>\n      <td>3,346,227</td>\n      <td>472,066,455</td>\n      <td>141.1</td>\n    </tr>\n    <tr>\n      <th>718</th>\n      <td>202106</td>\n      <td>전라북도</td>\n      <td>진안군</td>\n      <td>주택용</td>\n      <td>15,317</td>\n      <td>2,323,904</td>\n      <td>263,668,531</td>\n      <td>113.5</td>\n    </tr>\n    <tr>\n      <th>719</th>\n      <td>202106</td>\n      <td>전라북도</td>\n      <td>진안군</td>\n      <td>합계</td>\n      <td>32,997</td>\n      <td>14,592,377</td>\n      <td>1,508,040,095</td>\n      <td>103.3</td>\n    </tr>\n  </tbody>\n</table>\n<p>716 rows × 8 columns</p>\n</div>"
     },
     "execution_count": 32,
     "metadata": {},
     "output_type": "execute_result"
    }
   ],
   "source": [
    "df.columns = a\n",
    "df"
   ],
   "metadata": {
    "collapsed": false,
    "pycharm": {
     "name": "#%%\n"
    }
   }
  },
  {
   "cell_type": "code",
   "execution_count": 33,
   "outputs": [
    {
     "data": {
      "text/plain": "        년월    시구            시군구 계약구분    고객호수(호)        사용량(kWh)  \\\n3   202101  전라북도  전체(시 / 군 / 구)  주택용   679,034     245,214,143    \n4   202101  전라북도  전체(시 / 군 / 구)  일반용   144,604     374,566,781    \n5   202101  전라북도  전체(시 / 군 / 구)  교육용     1,233      43,552,607    \n6   202101  전라북도  전체(시 / 군 / 구)  산업용    16,103   1,009,741,345    \n7   202101  전라북도  전체(시 / 군 / 구)  농사용   160,171     182,383,879    \n8   202101  전라북도  전체(시 / 군 / 구)  가로등   163,425      18,945,180    \n9   202101  전라북도  전체(시 / 군 / 구)  심 야    58,839     122,732,449    \n10  202102  전라북도  전체(시 / 군 / 구)  주택용   679,713     237,460,081    \n11  202102  전라북도  전체(시 / 군 / 구)  일반용   144,640     354,597,612    \n12  202102  전라북도  전체(시 / 군 / 구)  교육용     1,234      36,478,108    \n13  202102  전라북도  전체(시 / 군 / 구)  산업용    16,128     892,887,812    \n14  202102  전라북도  전체(시 / 군 / 구)  농사용   160,168     174,052,380    \n15  202102  전라북도  전체(시 / 군 / 구)  가로등   157,817      17,616,571    \n16  202102  전라북도  전체(시 / 군 / 구)  심 야    58,705     117,141,703    \n17  202103  전라북도  전체(시 / 군 / 구)  주택용   680,394     202,960,726    \n18  202103  전라북도  전체(시 / 군 / 구)  일반용   144,584     295,152,001    \n19  202103  전라북도  전체(시 / 군 / 구)  교육용     1,235      33,081,583    \n20  202103  전라북도  전체(시 / 군 / 구)  산업용    16,165     987,116,910    \n21  202103  전라북도  전체(시 / 군 / 구)  농사용   233,397     148,142,708    \n22  202103  전라북도  전체(시 / 군 / 구)  가로등   158,024      16,724,118    \n23  202103  전라북도  전체(시 / 군 / 구)  심 야    58,506      87,974,693    \n24  202104  전라북도  전체(시 / 군 / 구)  주택용   681,158     210,566,303    \n25  202104  전라북도  전체(시 / 군 / 구)  일반용   144,651     282,113,575    \n26  202104  전라북도  전체(시 / 군 / 구)  교육용     1,232      29,674,797    \n27  202104  전라북도  전체(시 / 군 / 구)  산업용    16,199     980,262,579    \n28  202104  전라북도  전체(시 / 군 / 구)  농사용   199,824     138,530,005    \n29  202104  전라북도  전체(시 / 군 / 구)  가로등   158,351      16,550,757    \n30  202104  전라북도  전체(시 / 군 / 구)  심 야    58,322      67,773,469    \n31  202105  전라북도  전체(시 / 군 / 구)  주택용   681,770     197,170,860    \n32  202105  전라북도  전체(시 / 군 / 구)  일반용   144,804     263,078,054    \n33  202105  전라북도  전체(시 / 군 / 구)  교육용     1,230      23,199,242    \n34  202105  전라북도  전체(시 / 군 / 구)  산업용    16,249     995,401,931    \n35  202105  전라북도  전체(시 / 군 / 구)  농사용   162,907     129,389,401    \n36  202105  전라북도  전체(시 / 군 / 구)  가로등   158,615      15,564,096    \n37  202105  전라북도  전체(시 / 군 / 구)  심 야    58,028      43,887,494    \n38  202106  전라북도  전체(시 / 군 / 구)  주택용   682,316     201,734,506    \n39  202106  전라북도  전체(시 / 군 / 구)  일반용   145,003     288,080,741    \n40  202106  전라북도  전체(시 / 군 / 구)  교육용     1,229      25,801,986    \n41  202106  전라북도  전체(시 / 군 / 구)  산업용    16,259     995,239,327    \n42  202106  전라북도  전체(시 / 군 / 구)  농사용   163,759     143,228,837    \n43  202106  전라북도  전체(시 / 군 / 구)  가로등   158,949      14,870,959    \n44  202106  전라북도  전체(시 / 군 / 구)  심 야    57,795      28,496,266    \n45      합계    합계             합계   합계  7,442,769  10,689,138,575   \n\n              전기요금(원) 평균판매단가(원/kWh)  \n3     28,181,639,636         114.9   \n4     48,848,634,242         130.4   \n5      4,230,595,047          97.1   \n6    111,884,234,197         110.8   \n7      8,227,547,806          45.1   \n8      1,959,953,917         103.5   \n9      8,761,213,188          71.4   \n10    26,784,127,041         112.8   \n11    47,062,726,231         132.7   \n12     3,754,074,533         102.9   \n13   100,838,256,511         112.9   \n14     7,932,693,679          45.6   \n15     1,900,656,166         107.9   \n16     8,377,643,330          71.5   \n17    20,569,961,584         101.3   \n18    37,609,592,138         127.4   \n19     3,282,795,180          99.2   \n20    90,238,192,358          91.4   \n21     6,876,502,172          46.4   \n22     1,812,998,150         108.4   \n23     5,565,666,733          63.3   \n24    22,369,266,188         106.2   \n25    33,152,767,702         117.5   \n26     2,654,063,546          89.4   \n27    88,843,308,616          90.6   \n28     6,446,288,116          46.5   \n29     1,877,329,247         113.4   \n30     3,466,583,481          51.1   \n31    20,144,024,815         102.2   \n32    31,808,039,746         120.9   \n33     2,136,267,857          92.1   \n34    88,059,266,260          88.5   \n35     5,943,400,458          45.9   \n36     1,827,095,384         117.4   \n37     2,264,268,278          51.6   \n38    20,640,367,176         102.3   \n39    39,026,757,436         135.5   \n40     2,890,046,539         112.0   \n41   113,615,315,812         114.2   \n42     6,279,456,529          43.8   \n43     1,812,613,795         121.9   \n44     1,510,679,709          53.0   \n45  1,071,466,910,529         100.2  ",
      "text/html": "<div>\n<style scoped>\n    .dataframe tbody tr th:only-of-type {\n        vertical-align: middle;\n    }\n\n    .dataframe tbody tr th {\n        vertical-align: top;\n    }\n\n    .dataframe thead th {\n        text-align: right;\n    }\n</style>\n<table border=\"1\" class=\"dataframe\">\n  <thead>\n    <tr style=\"text-align: right;\">\n      <th></th>\n      <th>년월</th>\n      <th>시구</th>\n      <th>시군구</th>\n      <th>계약구분</th>\n      <th>고객호수(호)</th>\n      <th>사용량(kWh)</th>\n      <th>전기요금(원)</th>\n      <th>평균판매단가(원/kWh)</th>\n    </tr>\n  </thead>\n  <tbody>\n    <tr>\n      <th>3</th>\n      <td>202101</td>\n      <td>전라북도</td>\n      <td>전체(시 / 군 / 구)</td>\n      <td>주택용</td>\n      <td>679,034</td>\n      <td>245,214,143</td>\n      <td>28,181,639,636</td>\n      <td>114.9</td>\n    </tr>\n    <tr>\n      <th>4</th>\n      <td>202101</td>\n      <td>전라북도</td>\n      <td>전체(시 / 군 / 구)</td>\n      <td>일반용</td>\n      <td>144,604</td>\n      <td>374,566,781</td>\n      <td>48,848,634,242</td>\n      <td>130.4</td>\n    </tr>\n    <tr>\n      <th>5</th>\n      <td>202101</td>\n      <td>전라북도</td>\n      <td>전체(시 / 군 / 구)</td>\n      <td>교육용</td>\n      <td>1,233</td>\n      <td>43,552,607</td>\n      <td>4,230,595,047</td>\n      <td>97.1</td>\n    </tr>\n    <tr>\n      <th>6</th>\n      <td>202101</td>\n      <td>전라북도</td>\n      <td>전체(시 / 군 / 구)</td>\n      <td>산업용</td>\n      <td>16,103</td>\n      <td>1,009,741,345</td>\n      <td>111,884,234,197</td>\n      <td>110.8</td>\n    </tr>\n    <tr>\n      <th>7</th>\n      <td>202101</td>\n      <td>전라북도</td>\n      <td>전체(시 / 군 / 구)</td>\n      <td>농사용</td>\n      <td>160,171</td>\n      <td>182,383,879</td>\n      <td>8,227,547,806</td>\n      <td>45.1</td>\n    </tr>\n    <tr>\n      <th>8</th>\n      <td>202101</td>\n      <td>전라북도</td>\n      <td>전체(시 / 군 / 구)</td>\n      <td>가로등</td>\n      <td>163,425</td>\n      <td>18,945,180</td>\n      <td>1,959,953,917</td>\n      <td>103.5</td>\n    </tr>\n    <tr>\n      <th>9</th>\n      <td>202101</td>\n      <td>전라북도</td>\n      <td>전체(시 / 군 / 구)</td>\n      <td>심 야</td>\n      <td>58,839</td>\n      <td>122,732,449</td>\n      <td>8,761,213,188</td>\n      <td>71.4</td>\n    </tr>\n    <tr>\n      <th>10</th>\n      <td>202102</td>\n      <td>전라북도</td>\n      <td>전체(시 / 군 / 구)</td>\n      <td>주택용</td>\n      <td>679,713</td>\n      <td>237,460,081</td>\n      <td>26,784,127,041</td>\n      <td>112.8</td>\n    </tr>\n    <tr>\n      <th>11</th>\n      <td>202102</td>\n      <td>전라북도</td>\n      <td>전체(시 / 군 / 구)</td>\n      <td>일반용</td>\n      <td>144,640</td>\n      <td>354,597,612</td>\n      <td>47,062,726,231</td>\n      <td>132.7</td>\n    </tr>\n    <tr>\n      <th>12</th>\n      <td>202102</td>\n      <td>전라북도</td>\n      <td>전체(시 / 군 / 구)</td>\n      <td>교육용</td>\n      <td>1,234</td>\n      <td>36,478,108</td>\n      <td>3,754,074,533</td>\n      <td>102.9</td>\n    </tr>\n    <tr>\n      <th>13</th>\n      <td>202102</td>\n      <td>전라북도</td>\n      <td>전체(시 / 군 / 구)</td>\n      <td>산업용</td>\n      <td>16,128</td>\n      <td>892,887,812</td>\n      <td>100,838,256,511</td>\n      <td>112.9</td>\n    </tr>\n    <tr>\n      <th>14</th>\n      <td>202102</td>\n      <td>전라북도</td>\n      <td>전체(시 / 군 / 구)</td>\n      <td>농사용</td>\n      <td>160,168</td>\n      <td>174,052,380</td>\n      <td>7,932,693,679</td>\n      <td>45.6</td>\n    </tr>\n    <tr>\n      <th>15</th>\n      <td>202102</td>\n      <td>전라북도</td>\n      <td>전체(시 / 군 / 구)</td>\n      <td>가로등</td>\n      <td>157,817</td>\n      <td>17,616,571</td>\n      <td>1,900,656,166</td>\n      <td>107.9</td>\n    </tr>\n    <tr>\n      <th>16</th>\n      <td>202102</td>\n      <td>전라북도</td>\n      <td>전체(시 / 군 / 구)</td>\n      <td>심 야</td>\n      <td>58,705</td>\n      <td>117,141,703</td>\n      <td>8,377,643,330</td>\n      <td>71.5</td>\n    </tr>\n    <tr>\n      <th>17</th>\n      <td>202103</td>\n      <td>전라북도</td>\n      <td>전체(시 / 군 / 구)</td>\n      <td>주택용</td>\n      <td>680,394</td>\n      <td>202,960,726</td>\n      <td>20,569,961,584</td>\n      <td>101.3</td>\n    </tr>\n    <tr>\n      <th>18</th>\n      <td>202103</td>\n      <td>전라북도</td>\n      <td>전체(시 / 군 / 구)</td>\n      <td>일반용</td>\n      <td>144,584</td>\n      <td>295,152,001</td>\n      <td>37,609,592,138</td>\n      <td>127.4</td>\n    </tr>\n    <tr>\n      <th>19</th>\n      <td>202103</td>\n      <td>전라북도</td>\n      <td>전체(시 / 군 / 구)</td>\n      <td>교육용</td>\n      <td>1,235</td>\n      <td>33,081,583</td>\n      <td>3,282,795,180</td>\n      <td>99.2</td>\n    </tr>\n    <tr>\n      <th>20</th>\n      <td>202103</td>\n      <td>전라북도</td>\n      <td>전체(시 / 군 / 구)</td>\n      <td>산업용</td>\n      <td>16,165</td>\n      <td>987,116,910</td>\n      <td>90,238,192,358</td>\n      <td>91.4</td>\n    </tr>\n    <tr>\n      <th>21</th>\n      <td>202103</td>\n      <td>전라북도</td>\n      <td>전체(시 / 군 / 구)</td>\n      <td>농사용</td>\n      <td>233,397</td>\n      <td>148,142,708</td>\n      <td>6,876,502,172</td>\n      <td>46.4</td>\n    </tr>\n    <tr>\n      <th>22</th>\n      <td>202103</td>\n      <td>전라북도</td>\n      <td>전체(시 / 군 / 구)</td>\n      <td>가로등</td>\n      <td>158,024</td>\n      <td>16,724,118</td>\n      <td>1,812,998,150</td>\n      <td>108.4</td>\n    </tr>\n    <tr>\n      <th>23</th>\n      <td>202103</td>\n      <td>전라북도</td>\n      <td>전체(시 / 군 / 구)</td>\n      <td>심 야</td>\n      <td>58,506</td>\n      <td>87,974,693</td>\n      <td>5,565,666,733</td>\n      <td>63.3</td>\n    </tr>\n    <tr>\n      <th>24</th>\n      <td>202104</td>\n      <td>전라북도</td>\n      <td>전체(시 / 군 / 구)</td>\n      <td>주택용</td>\n      <td>681,158</td>\n      <td>210,566,303</td>\n      <td>22,369,266,188</td>\n      <td>106.2</td>\n    </tr>\n    <tr>\n      <th>25</th>\n      <td>202104</td>\n      <td>전라북도</td>\n      <td>전체(시 / 군 / 구)</td>\n      <td>일반용</td>\n      <td>144,651</td>\n      <td>282,113,575</td>\n      <td>33,152,767,702</td>\n      <td>117.5</td>\n    </tr>\n    <tr>\n      <th>26</th>\n      <td>202104</td>\n      <td>전라북도</td>\n      <td>전체(시 / 군 / 구)</td>\n      <td>교육용</td>\n      <td>1,232</td>\n      <td>29,674,797</td>\n      <td>2,654,063,546</td>\n      <td>89.4</td>\n    </tr>\n    <tr>\n      <th>27</th>\n      <td>202104</td>\n      <td>전라북도</td>\n      <td>전체(시 / 군 / 구)</td>\n      <td>산업용</td>\n      <td>16,199</td>\n      <td>980,262,579</td>\n      <td>88,843,308,616</td>\n      <td>90.6</td>\n    </tr>\n    <tr>\n      <th>28</th>\n      <td>202104</td>\n      <td>전라북도</td>\n      <td>전체(시 / 군 / 구)</td>\n      <td>농사용</td>\n      <td>199,824</td>\n      <td>138,530,005</td>\n      <td>6,446,288,116</td>\n      <td>46.5</td>\n    </tr>\n    <tr>\n      <th>29</th>\n      <td>202104</td>\n      <td>전라북도</td>\n      <td>전체(시 / 군 / 구)</td>\n      <td>가로등</td>\n      <td>158,351</td>\n      <td>16,550,757</td>\n      <td>1,877,329,247</td>\n      <td>113.4</td>\n    </tr>\n    <tr>\n      <th>30</th>\n      <td>202104</td>\n      <td>전라북도</td>\n      <td>전체(시 / 군 / 구)</td>\n      <td>심 야</td>\n      <td>58,322</td>\n      <td>67,773,469</td>\n      <td>3,466,583,481</td>\n      <td>51.1</td>\n    </tr>\n    <tr>\n      <th>31</th>\n      <td>202105</td>\n      <td>전라북도</td>\n      <td>전체(시 / 군 / 구)</td>\n      <td>주택용</td>\n      <td>681,770</td>\n      <td>197,170,860</td>\n      <td>20,144,024,815</td>\n      <td>102.2</td>\n    </tr>\n    <tr>\n      <th>32</th>\n      <td>202105</td>\n      <td>전라북도</td>\n      <td>전체(시 / 군 / 구)</td>\n      <td>일반용</td>\n      <td>144,804</td>\n      <td>263,078,054</td>\n      <td>31,808,039,746</td>\n      <td>120.9</td>\n    </tr>\n    <tr>\n      <th>33</th>\n      <td>202105</td>\n      <td>전라북도</td>\n      <td>전체(시 / 군 / 구)</td>\n      <td>교육용</td>\n      <td>1,230</td>\n      <td>23,199,242</td>\n      <td>2,136,267,857</td>\n      <td>92.1</td>\n    </tr>\n    <tr>\n      <th>34</th>\n      <td>202105</td>\n      <td>전라북도</td>\n      <td>전체(시 / 군 / 구)</td>\n      <td>산업용</td>\n      <td>16,249</td>\n      <td>995,401,931</td>\n      <td>88,059,266,260</td>\n      <td>88.5</td>\n    </tr>\n    <tr>\n      <th>35</th>\n      <td>202105</td>\n      <td>전라북도</td>\n      <td>전체(시 / 군 / 구)</td>\n      <td>농사용</td>\n      <td>162,907</td>\n      <td>129,389,401</td>\n      <td>5,943,400,458</td>\n      <td>45.9</td>\n    </tr>\n    <tr>\n      <th>36</th>\n      <td>202105</td>\n      <td>전라북도</td>\n      <td>전체(시 / 군 / 구)</td>\n      <td>가로등</td>\n      <td>158,615</td>\n      <td>15,564,096</td>\n      <td>1,827,095,384</td>\n      <td>117.4</td>\n    </tr>\n    <tr>\n      <th>37</th>\n      <td>202105</td>\n      <td>전라북도</td>\n      <td>전체(시 / 군 / 구)</td>\n      <td>심 야</td>\n      <td>58,028</td>\n      <td>43,887,494</td>\n      <td>2,264,268,278</td>\n      <td>51.6</td>\n    </tr>\n    <tr>\n      <th>38</th>\n      <td>202106</td>\n      <td>전라북도</td>\n      <td>전체(시 / 군 / 구)</td>\n      <td>주택용</td>\n      <td>682,316</td>\n      <td>201,734,506</td>\n      <td>20,640,367,176</td>\n      <td>102.3</td>\n    </tr>\n    <tr>\n      <th>39</th>\n      <td>202106</td>\n      <td>전라북도</td>\n      <td>전체(시 / 군 / 구)</td>\n      <td>일반용</td>\n      <td>145,003</td>\n      <td>288,080,741</td>\n      <td>39,026,757,436</td>\n      <td>135.5</td>\n    </tr>\n    <tr>\n      <th>40</th>\n      <td>202106</td>\n      <td>전라북도</td>\n      <td>전체(시 / 군 / 구)</td>\n      <td>교육용</td>\n      <td>1,229</td>\n      <td>25,801,986</td>\n      <td>2,890,046,539</td>\n      <td>112.0</td>\n    </tr>\n    <tr>\n      <th>41</th>\n      <td>202106</td>\n      <td>전라북도</td>\n      <td>전체(시 / 군 / 구)</td>\n      <td>산업용</td>\n      <td>16,259</td>\n      <td>995,239,327</td>\n      <td>113,615,315,812</td>\n      <td>114.2</td>\n    </tr>\n    <tr>\n      <th>42</th>\n      <td>202106</td>\n      <td>전라북도</td>\n      <td>전체(시 / 군 / 구)</td>\n      <td>농사용</td>\n      <td>163,759</td>\n      <td>143,228,837</td>\n      <td>6,279,456,529</td>\n      <td>43.8</td>\n    </tr>\n    <tr>\n      <th>43</th>\n      <td>202106</td>\n      <td>전라북도</td>\n      <td>전체(시 / 군 / 구)</td>\n      <td>가로등</td>\n      <td>158,949</td>\n      <td>14,870,959</td>\n      <td>1,812,613,795</td>\n      <td>121.9</td>\n    </tr>\n    <tr>\n      <th>44</th>\n      <td>202106</td>\n      <td>전라북도</td>\n      <td>전체(시 / 군 / 구)</td>\n      <td>심 야</td>\n      <td>57,795</td>\n      <td>28,496,266</td>\n      <td>1,510,679,709</td>\n      <td>53.0</td>\n    </tr>\n    <tr>\n      <th>45</th>\n      <td>합계</td>\n      <td>합계</td>\n      <td>합계</td>\n      <td>합계</td>\n      <td>7,442,769</td>\n      <td>10,689,138,575</td>\n      <td>1,071,466,910,529</td>\n      <td>100.2</td>\n    </tr>\n  </tbody>\n</table>\n</div>"
     },
     "execution_count": 33,
     "metadata": {},
     "output_type": "execute_result"
    }
   ],
   "source": [
    "df_2 = df.loc[:45]\n",
    "df_2\n"
   ],
   "metadata": {
    "collapsed": false,
    "pycharm": {
     "name": "#%%\n"
    }
   }
  },
  {
   "cell_type": "code",
   "execution_count": 34,
   "outputs": [
    {
     "name": "stderr",
     "output_type": "stream",
     "text": [
      "C:\\Users\\user\\AppData\\Local\\Temp\\ipykernel_3380\\3551721261.py:3: SettingWithCopyWarning: \n",
      "A value is trying to be set on a copy of a slice from a DataFrame\n",
      "\n",
      "See the caveats in the documentation: https://pandas.pydata.org/pandas-docs/stable/user_guide/indexing.html#returning-a-view-versus-a-copy\n",
      "  GyeonGi.drop(['시군구' , '전기요금(원)' , '평균판매단가(원/kWh)'] , axis = 1 , inplace = True)\n"
     ]
    },
    {
     "data": {
      "text/plain": "        년월    시구 계약구분   고객호수(호)      사용량(kWh)\n4   202101  전라북도  일반용  144,604   374,566,781 \n11  202102  전라북도  일반용  144,640   354,597,612 \n18  202103  전라북도  일반용  144,584   295,152,001 \n25  202104  전라북도  일반용  144,651   282,113,575 \n32  202105  전라북도  일반용  144,804   263,078,054 \n39  202106  전라북도  일반용  145,003   288,080,741 ",
      "text/html": "<div>\n<style scoped>\n    .dataframe tbody tr th:only-of-type {\n        vertical-align: middle;\n    }\n\n    .dataframe tbody tr th {\n        vertical-align: top;\n    }\n\n    .dataframe thead th {\n        text-align: right;\n    }\n</style>\n<table border=\"1\" class=\"dataframe\">\n  <thead>\n    <tr style=\"text-align: right;\">\n      <th></th>\n      <th>년월</th>\n      <th>시구</th>\n      <th>계약구분</th>\n      <th>고객호수(호)</th>\n      <th>사용량(kWh)</th>\n    </tr>\n  </thead>\n  <tbody>\n    <tr>\n      <th>4</th>\n      <td>202101</td>\n      <td>전라북도</td>\n      <td>일반용</td>\n      <td>144,604</td>\n      <td>374,566,781</td>\n    </tr>\n    <tr>\n      <th>11</th>\n      <td>202102</td>\n      <td>전라북도</td>\n      <td>일반용</td>\n      <td>144,640</td>\n      <td>354,597,612</td>\n    </tr>\n    <tr>\n      <th>18</th>\n      <td>202103</td>\n      <td>전라북도</td>\n      <td>일반용</td>\n      <td>144,584</td>\n      <td>295,152,001</td>\n    </tr>\n    <tr>\n      <th>25</th>\n      <td>202104</td>\n      <td>전라북도</td>\n      <td>일반용</td>\n      <td>144,651</td>\n      <td>282,113,575</td>\n    </tr>\n    <tr>\n      <th>32</th>\n      <td>202105</td>\n      <td>전라북도</td>\n      <td>일반용</td>\n      <td>144,804</td>\n      <td>263,078,054</td>\n    </tr>\n    <tr>\n      <th>39</th>\n      <td>202106</td>\n      <td>전라북도</td>\n      <td>일반용</td>\n      <td>145,003</td>\n      <td>288,080,741</td>\n    </tr>\n  </tbody>\n</table>\n</div>"
     },
     "execution_count": 34,
     "metadata": {},
     "output_type": "execute_result"
    }
   ],
   "source": [
    "GyeonGi  = df_2.loc[(df_2['계약구분'] == '일반용')]\n",
    "#SEOUL = df_3.loc[(df_3['계약구분'] =='일반용')]\n",
    "GyeonGi.drop(['시군구' , '전기요금(원)' , '평균판매단가(원/kWh)'] , axis = 1 , inplace = True)\n",
    "GyeonGi"
   ],
   "metadata": {
    "collapsed": false,
    "pycharm": {
     "name": "#%%\n"
    }
   }
  },
  {
   "cell_type": "code",
   "execution_count": 35,
   "outputs": [],
   "source": [
    "#SEOUL1.to_csv(\"서울특별시_계약종별_전국_전력사용량_2022.csv\" , mode = 'w' , encoding= 'cp949')"
   ],
   "metadata": {
    "collapsed": false,
    "pycharm": {
     "name": "#%%\n"
    }
   }
  },
  {
   "cell_type": "code",
   "execution_count": 36,
   "outputs": [],
   "source": [
    "#df_2.to_csv(\"서울특별시_계약종별_전국_전력사용량.csv\" , mode = 'w' , encoding= 'cp949')"
   ],
   "metadata": {
    "collapsed": false,
    "pycharm": {
     "name": "#%%\n"
    }
   }
  },
  {
   "cell_type": "code",
   "execution_count": 37,
   "outputs": [
    {
     "data": {
      "text/plain": "         년월    시구  시군구 계약구분 고객호수(호)     사용량(kWh)\n53   202101  전라북도  고창군  일반용  4,877   11,195,564 \n165  202102  전라북도  고창군  일반용  4,891   10,723,181 \n277  202103  전라북도  고창군  일반용  4,876    8,947,866 \n389  202104  전라북도  고창군  일반용  4,872    8,683,176 \n501  202105  전라북도  고창군  일반용  4,892    7,991,671 \n..      ...   ...  ...  ...     ...          ...\n269  202102  전라북도  진안군  일반용  2,275    4,928,993 \n381  202103  전라북도  진안군  일반용  2,263    4,043,514 \n493  202104  전라북도  진안군  일반용  2,259    3,738,366 \n605  202105  전라북도  진안군  일반용  2,257    3,355,321 \n717  202106  전라북도  진안군  일반용  2,253    3,346,227 \n\n[84 rows x 6 columns]",
      "text/html": "<div>\n<style scoped>\n    .dataframe tbody tr th:only-of-type {\n        vertical-align: middle;\n    }\n\n    .dataframe tbody tr th {\n        vertical-align: top;\n    }\n\n    .dataframe thead th {\n        text-align: right;\n    }\n</style>\n<table border=\"1\" class=\"dataframe\">\n  <thead>\n    <tr style=\"text-align: right;\">\n      <th></th>\n      <th>년월</th>\n      <th>시구</th>\n      <th>시군구</th>\n      <th>계약구분</th>\n      <th>고객호수(호)</th>\n      <th>사용량(kWh)</th>\n    </tr>\n  </thead>\n  <tbody>\n    <tr>\n      <th>53</th>\n      <td>202101</td>\n      <td>전라북도</td>\n      <td>고창군</td>\n      <td>일반용</td>\n      <td>4,877</td>\n      <td>11,195,564</td>\n    </tr>\n    <tr>\n      <th>165</th>\n      <td>202102</td>\n      <td>전라북도</td>\n      <td>고창군</td>\n      <td>일반용</td>\n      <td>4,891</td>\n      <td>10,723,181</td>\n    </tr>\n    <tr>\n      <th>277</th>\n      <td>202103</td>\n      <td>전라북도</td>\n      <td>고창군</td>\n      <td>일반용</td>\n      <td>4,876</td>\n      <td>8,947,866</td>\n    </tr>\n    <tr>\n      <th>389</th>\n      <td>202104</td>\n      <td>전라북도</td>\n      <td>고창군</td>\n      <td>일반용</td>\n      <td>4,872</td>\n      <td>8,683,176</td>\n    </tr>\n    <tr>\n      <th>501</th>\n      <td>202105</td>\n      <td>전라북도</td>\n      <td>고창군</td>\n      <td>일반용</td>\n      <td>4,892</td>\n      <td>7,991,671</td>\n    </tr>\n    <tr>\n      <th>...</th>\n      <td>...</td>\n      <td>...</td>\n      <td>...</td>\n      <td>...</td>\n      <td>...</td>\n      <td>...</td>\n    </tr>\n    <tr>\n      <th>269</th>\n      <td>202102</td>\n      <td>전라북도</td>\n      <td>진안군</td>\n      <td>일반용</td>\n      <td>2,275</td>\n      <td>4,928,993</td>\n    </tr>\n    <tr>\n      <th>381</th>\n      <td>202103</td>\n      <td>전라북도</td>\n      <td>진안군</td>\n      <td>일반용</td>\n      <td>2,263</td>\n      <td>4,043,514</td>\n    </tr>\n    <tr>\n      <th>493</th>\n      <td>202104</td>\n      <td>전라북도</td>\n      <td>진안군</td>\n      <td>일반용</td>\n      <td>2,259</td>\n      <td>3,738,366</td>\n    </tr>\n    <tr>\n      <th>605</th>\n      <td>202105</td>\n      <td>전라북도</td>\n      <td>진안군</td>\n      <td>일반용</td>\n      <td>2,257</td>\n      <td>3,355,321</td>\n    </tr>\n    <tr>\n      <th>717</th>\n      <td>202106</td>\n      <td>전라북도</td>\n      <td>진안군</td>\n      <td>일반용</td>\n      <td>2,253</td>\n      <td>3,346,227</td>\n    </tr>\n  </tbody>\n</table>\n<p>84 rows × 6 columns</p>\n</div>"
     },
     "execution_count": 37,
     "metadata": {},
     "output_type": "execute_result"
    }
   ],
   "source": [
    "df_3 = df.loc[48:]\n",
    "df_3 = df_3.loc[(df_3['계약구분'] == '일반용')]\n",
    "df_3 = df_3.sort_values(by=['시군구' , '년월'])\n",
    "df_3.drop(['전기요금(원)',   '평균판매단가(원/kWh)'] , axis = 1 , inplace = True)\n",
    "df_3"
   ],
   "metadata": {
    "collapsed": false,
    "pycharm": {
     "name": "#%%\n"
    }
   }
  },
  {
   "cell_type": "code",
   "execution_count": 38,
   "outputs": [
    {
     "data": {
      "text/plain": "'전라북도'"
     },
     "execution_count": 38,
     "metadata": {},
     "output_type": "execute_result"
    }
   ],
   "source": [
    "a = df_3.loc[: , \"시구\"]\n",
    "b = a[:1].tolist()\n",
    "for i in b:\n",
    "    City = i\n",
    "City"
   ],
   "metadata": {
    "collapsed": false,
    "pycharm": {
     "name": "#%%\n"
    }
   }
  },
  {
   "cell_type": "code",
   "execution_count": 39,
   "outputs": [
    {
     "data": {
      "text/plain": "['고창군',\n '군산시',\n '김제시',\n '남원시',\n '무주군',\n '부안군',\n '순창군',\n '완주군',\n '익산시',\n '임실군',\n '장수군',\n '전주시',\n '정읍시',\n '진안군']"
     },
     "execution_count": 39,
     "metadata": {},
     "output_type": "execute_result"
    }
   ],
   "source": [
    "\n",
    "SIGUNGU = list(set(df_3.loc[: , '시군구'].tolist()))\n",
    "SIGUNGU.sort()\n",
    "SIGUNGU"
   ],
   "metadata": {
    "collapsed": false,
    "pycharm": {
     "name": "#%%\n"
    }
   }
  },
  {
   "cell_type": "code",
   "execution_count": 40,
   "outputs": [
    {
     "data": {
      "text/plain": "         년월    시구  시군구 계약구분  고객호수(호)     사용량(kWh)\n55   202101  전라북도  고창군   합계  60,460   65,346,944 \n167  202102  전라북도  고창군   합계  60,531   62,147,774 \n279  202103  전라북도  고창군   합계  63,806   54,320,460 \n391  202104  전라북도  고창군   합계  80,256   53,667,700 \n503  202105  전라북도  고창군   합계  61,087   48,336,202 \n..      ...   ...  ...  ...      ...          ...\n271  202102  전라북도  진안군   합계  32,715   22,347,363 \n383  202103  전라북도  진안군   합계  35,064   18,832,437 \n495  202104  전라북도  진안군   합계  32,802   17,392,427 \n607  202105  전라북도  진안군   합계  32,878   15,166,124 \n719  202106  전라북도  진안군   합계  32,997   14,592,377 \n\n[84 rows x 6 columns]",
      "text/html": "<div>\n<style scoped>\n    .dataframe tbody tr th:only-of-type {\n        vertical-align: middle;\n    }\n\n    .dataframe tbody tr th {\n        vertical-align: top;\n    }\n\n    .dataframe thead th {\n        text-align: right;\n    }\n</style>\n<table border=\"1\" class=\"dataframe\">\n  <thead>\n    <tr style=\"text-align: right;\">\n      <th></th>\n      <th>년월</th>\n      <th>시구</th>\n      <th>시군구</th>\n      <th>계약구분</th>\n      <th>고객호수(호)</th>\n      <th>사용량(kWh)</th>\n    </tr>\n  </thead>\n  <tbody>\n    <tr>\n      <th>55</th>\n      <td>202101</td>\n      <td>전라북도</td>\n      <td>고창군</td>\n      <td>합계</td>\n      <td>60,460</td>\n      <td>65,346,944</td>\n    </tr>\n    <tr>\n      <th>167</th>\n      <td>202102</td>\n      <td>전라북도</td>\n      <td>고창군</td>\n      <td>합계</td>\n      <td>60,531</td>\n      <td>62,147,774</td>\n    </tr>\n    <tr>\n      <th>279</th>\n      <td>202103</td>\n      <td>전라북도</td>\n      <td>고창군</td>\n      <td>합계</td>\n      <td>63,806</td>\n      <td>54,320,460</td>\n    </tr>\n    <tr>\n      <th>391</th>\n      <td>202104</td>\n      <td>전라북도</td>\n      <td>고창군</td>\n      <td>합계</td>\n      <td>80,256</td>\n      <td>53,667,700</td>\n    </tr>\n    <tr>\n      <th>503</th>\n      <td>202105</td>\n      <td>전라북도</td>\n      <td>고창군</td>\n      <td>합계</td>\n      <td>61,087</td>\n      <td>48,336,202</td>\n    </tr>\n    <tr>\n      <th>...</th>\n      <td>...</td>\n      <td>...</td>\n      <td>...</td>\n      <td>...</td>\n      <td>...</td>\n      <td>...</td>\n    </tr>\n    <tr>\n      <th>271</th>\n      <td>202102</td>\n      <td>전라북도</td>\n      <td>진안군</td>\n      <td>합계</td>\n      <td>32,715</td>\n      <td>22,347,363</td>\n    </tr>\n    <tr>\n      <th>383</th>\n      <td>202103</td>\n      <td>전라북도</td>\n      <td>진안군</td>\n      <td>합계</td>\n      <td>35,064</td>\n      <td>18,832,437</td>\n    </tr>\n    <tr>\n      <th>495</th>\n      <td>202104</td>\n      <td>전라북도</td>\n      <td>진안군</td>\n      <td>합계</td>\n      <td>32,802</td>\n      <td>17,392,427</td>\n    </tr>\n    <tr>\n      <th>607</th>\n      <td>202105</td>\n      <td>전라북도</td>\n      <td>진안군</td>\n      <td>합계</td>\n      <td>32,878</td>\n      <td>15,166,124</td>\n    </tr>\n    <tr>\n      <th>719</th>\n      <td>202106</td>\n      <td>전라북도</td>\n      <td>진안군</td>\n      <td>합계</td>\n      <td>32,997</td>\n      <td>14,592,377</td>\n    </tr>\n  </tbody>\n</table>\n<p>84 rows × 6 columns</p>\n</div>"
     },
     "execution_count": 40,
     "metadata": {},
     "output_type": "execute_result"
    }
   ],
   "source": [
    "df_4 = df.loc[48:]\n",
    "df_4 = df_4.loc[(df_4['계약구분'] == '합계')]\n",
    "df_4 = df_4.sort_values(by=['시군구' , '년월'])\n",
    "df_4.drop(['전기요금(원)',   '평균판매단가(원/kWh)'] , axis = 1 , inplace = True)\n",
    "df_4"
   ],
   "metadata": {
    "collapsed": false,
    "pycharm": {
     "name": "#%%\n"
    }
   }
  },
  {
   "cell_type": "code",
   "execution_count": 41,
   "outputs": [
    {
     "name": "stdout",
     "output_type": "stream",
     "text": [
      "[65346944, 62147774, 54320460, 53667700, 48336202, 48095137]\n",
      "[535478668, 475380381, 504191384, 498422114, 504735650, 497096509]\n",
      "[111750065, 102859381, 94411407, 91768465, 83009639, 84610327]\n",
      "[61856991, 59037131, 52210731, 52819910, 47784955, 49086401]\n",
      "[25504469, 22335399, 18087553, 16372089, 14871837, 14748014]\n",
      "[48380523, 46278995, 40812051, 39340299, 34752082, 36660934]\n",
      "[25589218, 24235118, 21983680, 21019449, 20099926, 21041730]\n",
      "[165853395, 150895814, 150325509, 144377732, 137684547, 144288784]\n",
      "[291132385, 270925378, 257440091, 250386604, 239864552, 250144768]\n",
      "[31660597, 30037850, 26169573, 24503888, 22363281, 22844239]\n",
      "[27164211, 25203097, 20237130, 18302118, 15120379, 13999445]\n",
      "[422449818, 387017077, 366504142, 355404380, 342557009, 356246382]\n",
      "[161641565, 151533509, 145626591, 141694310, 141344895, 143997575]\n",
      "[23327535, 22347363, 18832437, 17392427, 15166124, 14592377]\n",
      "전라북도 지역별 합계 :  [331914217, 3015304706, 568409284, 322796119, 111919361, 246224884, 133969121, 893425781, 1559893778, 157579428, 120026380, 2230178808, 885838445, 111658263]\n",
      "전라북도 고객호수 평균:  [10763, 23751, 15365, 14161, 5044, 9383, 6200, 12180, 29029, 5961, 4842, 47310, 17219, 5531]\n"
     ]
    }
   ],
   "source": [
    "sum2 , sum3 =[] , []\n",
    "for k in SIGUNGU:\n",
    "    GyeonGiHap = pd.DataFrame([] , columns = a)\n",
    "    HOSU = pd.DataFrame([], columns = a)\n",
    "    GyeonGiHap['사용량']= df_4['사용량(kWh)'].loc[(df_4['시군구'] == '{}'.format(k))]\n",
    "    HOSU['고객호수']= df_4['고객호수(호)'].loc[(df_4['시군구'] == '{}'.format(k))]\n",
    "    #경기합 데이터프레임의 사용량 열에 기군구가 가평군인 사용량 데이터만 뽑아내기\n",
    "    # GyeonGiHap = GyeonGiHap['사용량']\n",
    "\n",
    "    b = GyeonGiHap['사용량'].tolist()\n",
    "    c = HOSU['고객호수'].tolist()\n",
    "\n",
    "\n",
    "    #각지역별 사용량 리스트화\n",
    "    int_list  , int_list2=[] , []\n",
    "    for i in b:\n",
    "        i = re.sub(\",\" , \"\" , i)\n",
    "        #콤마 없애기\n",
    "        int_list.append(int(i))\n",
    "        #int_list에 각지역별 사용량 int로 저장\n",
    "    print(int_list)\n",
    "    sum=0\n",
    "    for i in c:\n",
    "        i = re.sub(\",\" , \"\" , i)\n",
    "        int_list2.append(int(i))\n",
    "\n",
    "    for j in int_list:\n",
    "\n",
    "        sum+= j\n",
    "    sum2.append(sum)\n",
    "    sum = 0\n",
    "    for j in int_list2: #고객호수 추출하여 더하기\n",
    "\n",
    "        sum+= j\n",
    "    sum3.append(sum//36) #6개월 치로 나눠야하나?!\n",
    "\n",
    "\n",
    "\n",
    "\n",
    "print(\"{} 지역별 합계 : \".format(City) , sum2)\n",
    "print(\"{} 고객호수 평균: \".format(City) , sum3)"
   ],
   "metadata": {
    "collapsed": false,
    "pycharm": {
     "name": "#%%\n"
    }
   }
  },
  {
   "cell_type": "markdown",
   "source": [
    "### 2. 날짜 체크!!!!!!!!!!!!!!!!!!!!!!!!!!!!!!!!!!!!!!!!!!!!!!"
   ],
   "metadata": {
    "collapsed": false,
    "pycharm": {
     "name": "#%% md\n"
    }
   }
  },
  {
   "cell_type": "code",
   "execution_count": 42,
   "outputs": [
    {
     "name": "stderr",
     "output_type": "stream",
     "text": [
      "C:\\Users\\user\\AppData\\Local\\Temp\\ipykernel_3380\\1481603074.py:4: FutureWarning: The frame.append method is deprecated and will be removed from pandas in a future version. Use pandas.concat instead.\n",
      "  Hap = Hap.append({'년월' :'202101-202106'  , '시구' : '{}'.format(City) , '시군구' : '{}'.format(SIGUNGU[i]) , '계약구분' : '합계' , '고객호수(호)' : sum3[i] ,  '사용량(kWh)' : sum2[i]} , ignore_index=True) #년월 파일마다 수정하기\n",
      "C:\\Users\\user\\AppData\\Local\\Temp\\ipykernel_3380\\1481603074.py:4: FutureWarning: The frame.append method is deprecated and will be removed from pandas in a future version. Use pandas.concat instead.\n",
      "  Hap = Hap.append({'년월' :'202101-202106'  , '시구' : '{}'.format(City) , '시군구' : '{}'.format(SIGUNGU[i]) , '계약구분' : '합계' , '고객호수(호)' : sum3[i] ,  '사용량(kWh)' : sum2[i]} , ignore_index=True) #년월 파일마다 수정하기\n",
      "C:\\Users\\user\\AppData\\Local\\Temp\\ipykernel_3380\\1481603074.py:4: FutureWarning: The frame.append method is deprecated and will be removed from pandas in a future version. Use pandas.concat instead.\n",
      "  Hap = Hap.append({'년월' :'202101-202106'  , '시구' : '{}'.format(City) , '시군구' : '{}'.format(SIGUNGU[i]) , '계약구분' : '합계' , '고객호수(호)' : sum3[i] ,  '사용량(kWh)' : sum2[i]} , ignore_index=True) #년월 파일마다 수정하기\n",
      "C:\\Users\\user\\AppData\\Local\\Temp\\ipykernel_3380\\1481603074.py:4: FutureWarning: The frame.append method is deprecated and will be removed from pandas in a future version. Use pandas.concat instead.\n",
      "  Hap = Hap.append({'년월' :'202101-202106'  , '시구' : '{}'.format(City) , '시군구' : '{}'.format(SIGUNGU[i]) , '계약구분' : '합계' , '고객호수(호)' : sum3[i] ,  '사용량(kWh)' : sum2[i]} , ignore_index=True) #년월 파일마다 수정하기\n",
      "C:\\Users\\user\\AppData\\Local\\Temp\\ipykernel_3380\\1481603074.py:4: FutureWarning: The frame.append method is deprecated and will be removed from pandas in a future version. Use pandas.concat instead.\n",
      "  Hap = Hap.append({'년월' :'202101-202106'  , '시구' : '{}'.format(City) , '시군구' : '{}'.format(SIGUNGU[i]) , '계약구분' : '합계' , '고객호수(호)' : sum3[i] ,  '사용량(kWh)' : sum2[i]} , ignore_index=True) #년월 파일마다 수정하기\n",
      "C:\\Users\\user\\AppData\\Local\\Temp\\ipykernel_3380\\1481603074.py:4: FutureWarning: The frame.append method is deprecated and will be removed from pandas in a future version. Use pandas.concat instead.\n",
      "  Hap = Hap.append({'년월' :'202101-202106'  , '시구' : '{}'.format(City) , '시군구' : '{}'.format(SIGUNGU[i]) , '계약구분' : '합계' , '고객호수(호)' : sum3[i] ,  '사용량(kWh)' : sum2[i]} , ignore_index=True) #년월 파일마다 수정하기\n",
      "C:\\Users\\user\\AppData\\Local\\Temp\\ipykernel_3380\\1481603074.py:4: FutureWarning: The frame.append method is deprecated and will be removed from pandas in a future version. Use pandas.concat instead.\n",
      "  Hap = Hap.append({'년월' :'202101-202106'  , '시구' : '{}'.format(City) , '시군구' : '{}'.format(SIGUNGU[i]) , '계약구분' : '합계' , '고객호수(호)' : sum3[i] ,  '사용량(kWh)' : sum2[i]} , ignore_index=True) #년월 파일마다 수정하기\n",
      "C:\\Users\\user\\AppData\\Local\\Temp\\ipykernel_3380\\1481603074.py:4: FutureWarning: The frame.append method is deprecated and will be removed from pandas in a future version. Use pandas.concat instead.\n",
      "  Hap = Hap.append({'년월' :'202101-202106'  , '시구' : '{}'.format(City) , '시군구' : '{}'.format(SIGUNGU[i]) , '계약구분' : '합계' , '고객호수(호)' : sum3[i] ,  '사용량(kWh)' : sum2[i]} , ignore_index=True) #년월 파일마다 수정하기\n",
      "C:\\Users\\user\\AppData\\Local\\Temp\\ipykernel_3380\\1481603074.py:4: FutureWarning: The frame.append method is deprecated and will be removed from pandas in a future version. Use pandas.concat instead.\n",
      "  Hap = Hap.append({'년월' :'202101-202106'  , '시구' : '{}'.format(City) , '시군구' : '{}'.format(SIGUNGU[i]) , '계약구분' : '합계' , '고객호수(호)' : sum3[i] ,  '사용량(kWh)' : sum2[i]} , ignore_index=True) #년월 파일마다 수정하기\n",
      "C:\\Users\\user\\AppData\\Local\\Temp\\ipykernel_3380\\1481603074.py:4: FutureWarning: The frame.append method is deprecated and will be removed from pandas in a future version. Use pandas.concat instead.\n",
      "  Hap = Hap.append({'년월' :'202101-202106'  , '시구' : '{}'.format(City) , '시군구' : '{}'.format(SIGUNGU[i]) , '계약구분' : '합계' , '고객호수(호)' : sum3[i] ,  '사용량(kWh)' : sum2[i]} , ignore_index=True) #년월 파일마다 수정하기\n",
      "C:\\Users\\user\\AppData\\Local\\Temp\\ipykernel_3380\\1481603074.py:4: FutureWarning: The frame.append method is deprecated and will be removed from pandas in a future version. Use pandas.concat instead.\n",
      "  Hap = Hap.append({'년월' :'202101-202106'  , '시구' : '{}'.format(City) , '시군구' : '{}'.format(SIGUNGU[i]) , '계약구분' : '합계' , '고객호수(호)' : sum3[i] ,  '사용량(kWh)' : sum2[i]} , ignore_index=True) #년월 파일마다 수정하기\n",
      "C:\\Users\\user\\AppData\\Local\\Temp\\ipykernel_3380\\1481603074.py:4: FutureWarning: The frame.append method is deprecated and will be removed from pandas in a future version. Use pandas.concat instead.\n",
      "  Hap = Hap.append({'년월' :'202101-202106'  , '시구' : '{}'.format(City) , '시군구' : '{}'.format(SIGUNGU[i]) , '계약구분' : '합계' , '고객호수(호)' : sum3[i] ,  '사용량(kWh)' : sum2[i]} , ignore_index=True) #년월 파일마다 수정하기\n",
      "C:\\Users\\user\\AppData\\Local\\Temp\\ipykernel_3380\\1481603074.py:4: FutureWarning: The frame.append method is deprecated and will be removed from pandas in a future version. Use pandas.concat instead.\n",
      "  Hap = Hap.append({'년월' :'202101-202106'  , '시구' : '{}'.format(City) , '시군구' : '{}'.format(SIGUNGU[i]) , '계약구분' : '합계' , '고객호수(호)' : sum3[i] ,  '사용량(kWh)' : sum2[i]} , ignore_index=True) #년월 파일마다 수정하기\n",
      "C:\\Users\\user\\AppData\\Local\\Temp\\ipykernel_3380\\1481603074.py:4: FutureWarning: The frame.append method is deprecated and will be removed from pandas in a future version. Use pandas.concat instead.\n",
      "  Hap = Hap.append({'년월' :'202101-202106'  , '시구' : '{}'.format(City) , '시군구' : '{}'.format(SIGUNGU[i]) , '계약구분' : '합계' , '고객호수(호)' : sum3[i] ,  '사용량(kWh)' : sum2[i]} , ignore_index=True) #년월 파일마다 수정하기\n"
     ]
    },
    {
     "data": {
      "text/plain": "               년월    시구  시군구 계약구분  고객호수(호)     사용량(kWh)\n0          202101  전라북도  고창군   합계  60,460   65,346,944 \n1          202102  전라북도  고창군   합계  60,531   62,147,774 \n2          202103  전라북도  고창군   합계  63,806   54,320,460 \n3          202104  전라북도  고창군   합계  80,256   53,667,700 \n4          202105  전라북도  고창군   합계  61,087   48,336,202 \n..            ...   ...  ...  ...      ...          ...\n93  202101-202106  전라북도  임실군   합계     5961    157579428\n94  202101-202106  전라북도  장수군   합계     4842    120026380\n95  202101-202106  전라북도  전주시   합계    47310   2230178808\n96  202101-202106  전라북도  정읍시   합계    17219    885838445\n97  202101-202106  전라북도  진안군   합계     5531    111658263\n\n[98 rows x 6 columns]",
      "text/html": "<div>\n<style scoped>\n    .dataframe tbody tr th:only-of-type {\n        vertical-align: middle;\n    }\n\n    .dataframe tbody tr th {\n        vertical-align: top;\n    }\n\n    .dataframe thead th {\n        text-align: right;\n    }\n</style>\n<table border=\"1\" class=\"dataframe\">\n  <thead>\n    <tr style=\"text-align: right;\">\n      <th></th>\n      <th>년월</th>\n      <th>시구</th>\n      <th>시군구</th>\n      <th>계약구분</th>\n      <th>고객호수(호)</th>\n      <th>사용량(kWh)</th>\n    </tr>\n  </thead>\n  <tbody>\n    <tr>\n      <th>0</th>\n      <td>202101</td>\n      <td>전라북도</td>\n      <td>고창군</td>\n      <td>합계</td>\n      <td>60,460</td>\n      <td>65,346,944</td>\n    </tr>\n    <tr>\n      <th>1</th>\n      <td>202102</td>\n      <td>전라북도</td>\n      <td>고창군</td>\n      <td>합계</td>\n      <td>60,531</td>\n      <td>62,147,774</td>\n    </tr>\n    <tr>\n      <th>2</th>\n      <td>202103</td>\n      <td>전라북도</td>\n      <td>고창군</td>\n      <td>합계</td>\n      <td>63,806</td>\n      <td>54,320,460</td>\n    </tr>\n    <tr>\n      <th>3</th>\n      <td>202104</td>\n      <td>전라북도</td>\n      <td>고창군</td>\n      <td>합계</td>\n      <td>80,256</td>\n      <td>53,667,700</td>\n    </tr>\n    <tr>\n      <th>4</th>\n      <td>202105</td>\n      <td>전라북도</td>\n      <td>고창군</td>\n      <td>합계</td>\n      <td>61,087</td>\n      <td>48,336,202</td>\n    </tr>\n    <tr>\n      <th>...</th>\n      <td>...</td>\n      <td>...</td>\n      <td>...</td>\n      <td>...</td>\n      <td>...</td>\n      <td>...</td>\n    </tr>\n    <tr>\n      <th>93</th>\n      <td>202101-202106</td>\n      <td>전라북도</td>\n      <td>임실군</td>\n      <td>합계</td>\n      <td>5961</td>\n      <td>157579428</td>\n    </tr>\n    <tr>\n      <th>94</th>\n      <td>202101-202106</td>\n      <td>전라북도</td>\n      <td>장수군</td>\n      <td>합계</td>\n      <td>4842</td>\n      <td>120026380</td>\n    </tr>\n    <tr>\n      <th>95</th>\n      <td>202101-202106</td>\n      <td>전라북도</td>\n      <td>전주시</td>\n      <td>합계</td>\n      <td>47310</td>\n      <td>2230178808</td>\n    </tr>\n    <tr>\n      <th>96</th>\n      <td>202101-202106</td>\n      <td>전라북도</td>\n      <td>정읍시</td>\n      <td>합계</td>\n      <td>17219</td>\n      <td>885838445</td>\n    </tr>\n    <tr>\n      <th>97</th>\n      <td>202101-202106</td>\n      <td>전라북도</td>\n      <td>진안군</td>\n      <td>합계</td>\n      <td>5531</td>\n      <td>111658263</td>\n    </tr>\n  </tbody>\n</table>\n<p>98 rows × 6 columns</p>\n</div>"
     },
     "execution_count": 42,
     "metadata": {},
     "output_type": "execute_result"
    }
   ],
   "source": [
    "Hap = df_4.copy()\n",
    "Hap.reset_index(drop=True , inplace = True)\n",
    "for i in range(len(SIGUNGU)):\n",
    "    Hap = Hap.append({'년월' :'202101-202106'  , '시구' : '{}'.format(City) , '시군구' : '{}'.format(SIGUNGU[i]) , '계약구분' : '합계' , '고객호수(호)' : sum3[i] ,  '사용량(kWh)' : sum2[i]} , ignore_index=True) #년월 파일마다 수정하기\n",
    "Hap"
   ],
   "metadata": {
    "collapsed": false,
    "pycharm": {
     "name": "#%%\n"
    }
   }
  },
  {
   "cell_type": "markdown",
   "source": [
    "### 3. 날짜 변경!!!!!!!!!!!!!!!!!!!!!!!!!!!!!!!"
   ],
   "metadata": {
    "collapsed": false,
    "pycharm": {
     "name": "#%% md\n"
    }
   }
  },
  {
   "cell_type": "code",
   "execution_count": 43,
   "outputs": [
    {
     "data": {
      "text/plain": "               년월    시구  시군구 계약구분 고객호수(호)    사용량(kWh)\n84  202101-202106  전라북도  고창군   합계   10763   331914217\n85  202101-202106  전라북도  군산시   합계   23751  3015304706\n86  202101-202106  전라북도  김제시   합계   15365   568409284\n87  202101-202106  전라북도  남원시   합계   14161   322796119\n88  202101-202106  전라북도  무주군   합계    5044   111919361\n89  202101-202106  전라북도  부안군   합계    9383   246224884\n90  202101-202106  전라북도  순창군   합계    6200   133969121\n91  202101-202106  전라북도  완주군   합계   12180   893425781\n92  202101-202106  전라북도  익산시   합계   29029  1559893778\n93  202101-202106  전라북도  임실군   합계    5961   157579428\n94  202101-202106  전라북도  장수군   합계    4842   120026380\n95  202101-202106  전라북도  전주시   합계   47310  2230178808\n96  202101-202106  전라북도  정읍시   합계   17219   885838445\n97  202101-202106  전라북도  진안군   합계    5531   111658263",
      "text/html": "<div>\n<style scoped>\n    .dataframe tbody tr th:only-of-type {\n        vertical-align: middle;\n    }\n\n    .dataframe tbody tr th {\n        vertical-align: top;\n    }\n\n    .dataframe thead th {\n        text-align: right;\n    }\n</style>\n<table border=\"1\" class=\"dataframe\">\n  <thead>\n    <tr style=\"text-align: right;\">\n      <th></th>\n      <th>년월</th>\n      <th>시구</th>\n      <th>시군구</th>\n      <th>계약구분</th>\n      <th>고객호수(호)</th>\n      <th>사용량(kWh)</th>\n    </tr>\n  </thead>\n  <tbody>\n    <tr>\n      <th>84</th>\n      <td>202101-202106</td>\n      <td>전라북도</td>\n      <td>고창군</td>\n      <td>합계</td>\n      <td>10763</td>\n      <td>331914217</td>\n    </tr>\n    <tr>\n      <th>85</th>\n      <td>202101-202106</td>\n      <td>전라북도</td>\n      <td>군산시</td>\n      <td>합계</td>\n      <td>23751</td>\n      <td>3015304706</td>\n    </tr>\n    <tr>\n      <th>86</th>\n      <td>202101-202106</td>\n      <td>전라북도</td>\n      <td>김제시</td>\n      <td>합계</td>\n      <td>15365</td>\n      <td>568409284</td>\n    </tr>\n    <tr>\n      <th>87</th>\n      <td>202101-202106</td>\n      <td>전라북도</td>\n      <td>남원시</td>\n      <td>합계</td>\n      <td>14161</td>\n      <td>322796119</td>\n    </tr>\n    <tr>\n      <th>88</th>\n      <td>202101-202106</td>\n      <td>전라북도</td>\n      <td>무주군</td>\n      <td>합계</td>\n      <td>5044</td>\n      <td>111919361</td>\n    </tr>\n    <tr>\n      <th>89</th>\n      <td>202101-202106</td>\n      <td>전라북도</td>\n      <td>부안군</td>\n      <td>합계</td>\n      <td>9383</td>\n      <td>246224884</td>\n    </tr>\n    <tr>\n      <th>90</th>\n      <td>202101-202106</td>\n      <td>전라북도</td>\n      <td>순창군</td>\n      <td>합계</td>\n      <td>6200</td>\n      <td>133969121</td>\n    </tr>\n    <tr>\n      <th>91</th>\n      <td>202101-202106</td>\n      <td>전라북도</td>\n      <td>완주군</td>\n      <td>합계</td>\n      <td>12180</td>\n      <td>893425781</td>\n    </tr>\n    <tr>\n      <th>92</th>\n      <td>202101-202106</td>\n      <td>전라북도</td>\n      <td>익산시</td>\n      <td>합계</td>\n      <td>29029</td>\n      <td>1559893778</td>\n    </tr>\n    <tr>\n      <th>93</th>\n      <td>202101-202106</td>\n      <td>전라북도</td>\n      <td>임실군</td>\n      <td>합계</td>\n      <td>5961</td>\n      <td>157579428</td>\n    </tr>\n    <tr>\n      <th>94</th>\n      <td>202101-202106</td>\n      <td>전라북도</td>\n      <td>장수군</td>\n      <td>합계</td>\n      <td>4842</td>\n      <td>120026380</td>\n    </tr>\n    <tr>\n      <th>95</th>\n      <td>202101-202106</td>\n      <td>전라북도</td>\n      <td>전주시</td>\n      <td>합계</td>\n      <td>47310</td>\n      <td>2230178808</td>\n    </tr>\n    <tr>\n      <th>96</th>\n      <td>202101-202106</td>\n      <td>전라북도</td>\n      <td>정읍시</td>\n      <td>합계</td>\n      <td>17219</td>\n      <td>885838445</td>\n    </tr>\n    <tr>\n      <th>97</th>\n      <td>202101-202106</td>\n      <td>전라북도</td>\n      <td>진안군</td>\n      <td>합계</td>\n      <td>5531</td>\n      <td>111658263</td>\n    </tr>\n  </tbody>\n</table>\n</div>"
     },
     "execution_count": 43,
     "metadata": {},
     "output_type": "execute_result"
    }
   ],
   "source": [
    "Hap = Hap.loc[Hap['년월'] == '202101-202106']\n",
    "Hap"
   ],
   "metadata": {
    "collapsed": false,
    "pycharm": {
     "name": "#%%\n"
    }
   }
  },
  {
   "cell_type": "code",
   "execution_count": 44,
   "outputs": [],
   "source": [
    "# SIGUNGU = SIGUNGU[:1]\n",
    "# SIGUNGU\n",
    "#for i in SIGUNGU:\n",
    "#print('{}'.format(i))\n",
    "# df_3 = df_3.loc[(df_3['시군구'] == '가평군')]\n",
    "#\n",
    "# df_3"
   ],
   "metadata": {
    "collapsed": false,
    "pycharm": {
     "name": "#%%\n"
    }
   }
  },
  {
   "cell_type": "code",
   "execution_count": 45,
   "outputs": [
    {
     "data": {
      "text/plain": "['년월', '시구', '시군구', '계약구분', '고객호수(호)', '사용량(kWh)']"
     },
     "execution_count": 45,
     "metadata": {},
     "output_type": "execute_result"
    }
   ],
   "source": [
    "a = (df_3.columns).tolist()\n",
    "\n",
    "a"
   ],
   "metadata": {
    "collapsed": false,
    "pycharm": {
     "name": "#%%\n"
    }
   }
  },
  {
   "cell_type": "code",
   "execution_count": 46,
   "outputs": [
    {
     "data": {
      "text/plain": "         년월    시구  시군구 계약구분 고객호수(호)     사용량(kWh)\n53   202101  전라북도  고창군  일반용  4,877   11,195,564 \n165  202102  전라북도  고창군  일반용  4,891   10,723,181 \n277  202103  전라북도  고창군  일반용  4,876    8,947,866 \n389  202104  전라북도  고창군  일반용  4,872    8,683,176 \n501  202105  전라북도  고창군  일반용  4,892    7,991,671 \n..      ...   ...  ...  ...     ...          ...\n269  202102  전라북도  진안군  일반용  2,275    4,928,993 \n381  202103  전라북도  진안군  일반용  2,263    4,043,514 \n493  202104  전라북도  진안군  일반용  2,259    3,738,366 \n605  202105  전라북도  진안군  일반용  2,257    3,355,321 \n717  202106  전라북도  진안군  일반용  2,253    3,346,227 \n\n[84 rows x 6 columns]",
      "text/html": "<div>\n<style scoped>\n    .dataframe tbody tr th:only-of-type {\n        vertical-align: middle;\n    }\n\n    .dataframe tbody tr th {\n        vertical-align: top;\n    }\n\n    .dataframe thead th {\n        text-align: right;\n    }\n</style>\n<table border=\"1\" class=\"dataframe\">\n  <thead>\n    <tr style=\"text-align: right;\">\n      <th></th>\n      <th>년월</th>\n      <th>시구</th>\n      <th>시군구</th>\n      <th>계약구분</th>\n      <th>고객호수(호)</th>\n      <th>사용량(kWh)</th>\n    </tr>\n  </thead>\n  <tbody>\n    <tr>\n      <th>53</th>\n      <td>202101</td>\n      <td>전라북도</td>\n      <td>고창군</td>\n      <td>일반용</td>\n      <td>4,877</td>\n      <td>11,195,564</td>\n    </tr>\n    <tr>\n      <th>165</th>\n      <td>202102</td>\n      <td>전라북도</td>\n      <td>고창군</td>\n      <td>일반용</td>\n      <td>4,891</td>\n      <td>10,723,181</td>\n    </tr>\n    <tr>\n      <th>277</th>\n      <td>202103</td>\n      <td>전라북도</td>\n      <td>고창군</td>\n      <td>일반용</td>\n      <td>4,876</td>\n      <td>8,947,866</td>\n    </tr>\n    <tr>\n      <th>389</th>\n      <td>202104</td>\n      <td>전라북도</td>\n      <td>고창군</td>\n      <td>일반용</td>\n      <td>4,872</td>\n      <td>8,683,176</td>\n    </tr>\n    <tr>\n      <th>501</th>\n      <td>202105</td>\n      <td>전라북도</td>\n      <td>고창군</td>\n      <td>일반용</td>\n      <td>4,892</td>\n      <td>7,991,671</td>\n    </tr>\n    <tr>\n      <th>...</th>\n      <td>...</td>\n      <td>...</td>\n      <td>...</td>\n      <td>...</td>\n      <td>...</td>\n      <td>...</td>\n    </tr>\n    <tr>\n      <th>269</th>\n      <td>202102</td>\n      <td>전라북도</td>\n      <td>진안군</td>\n      <td>일반용</td>\n      <td>2,275</td>\n      <td>4,928,993</td>\n    </tr>\n    <tr>\n      <th>381</th>\n      <td>202103</td>\n      <td>전라북도</td>\n      <td>진안군</td>\n      <td>일반용</td>\n      <td>2,263</td>\n      <td>4,043,514</td>\n    </tr>\n    <tr>\n      <th>493</th>\n      <td>202104</td>\n      <td>전라북도</td>\n      <td>진안군</td>\n      <td>일반용</td>\n      <td>2,259</td>\n      <td>3,738,366</td>\n    </tr>\n    <tr>\n      <th>605</th>\n      <td>202105</td>\n      <td>전라북도</td>\n      <td>진안군</td>\n      <td>일반용</td>\n      <td>2,257</td>\n      <td>3,355,321</td>\n    </tr>\n    <tr>\n      <th>717</th>\n      <td>202106</td>\n      <td>전라북도</td>\n      <td>진안군</td>\n      <td>일반용</td>\n      <td>2,253</td>\n      <td>3,346,227</td>\n    </tr>\n  </tbody>\n</table>\n<p>84 rows × 6 columns</p>\n</div>"
     },
     "execution_count": 46,
     "metadata": {},
     "output_type": "execute_result"
    }
   ],
   "source": [
    "df_3"
   ],
   "metadata": {
    "collapsed": false,
    "pycharm": {
     "name": "#%%\n"
    }
   }
  },
  {
   "cell_type": "code",
   "execution_count": 47,
   "outputs": [],
   "source": [
    "# GyeonGiHap = pd.DataFrame([] , columns = a)\n",
    "# GyeonGiHap['사용량']= df_3['사용량(kWh)'].loc[(df_3['시군구'] == '{가평군}')]\n",
    "# GyeonGiHap"
   ],
   "metadata": {
    "collapsed": false,
    "pycharm": {
     "name": "#%%\n"
    }
   }
  },
  {
   "cell_type": "code",
   "execution_count": 48,
   "outputs": [
    {
     "name": "stdout",
     "output_type": "stream",
     "text": [
      "[11195564, 10723181, 8947866, 8683176, 7991671, 8295220]\n",
      "[59212837, 56650885, 48248423, 46664853, 43177728, 47178520]\n",
      "[16526110, 15968365, 13250602, 12962364, 11831317, 12503128]\n",
      "[16930961, 16094619, 13296215, 12618459, 11412856, 11998680]\n",
      "[11403482, 8849219, 6514904, 5396131, 4976841, 4987285]\n",
      "[13620107, 13338748, 11133856, 10492565, 9672745, 10021131]\n",
      "[4863047, 4730499, 3767346, 3543720, 3244919, 3421866]\n",
      "[24753651, 22893568, 19495046, 18764756, 18011347, 19857901]\n",
      "[50603255, 48970063, 40112211, 38610665, 35359880, 39121673]\n",
      "[6334045, 5943349, 4835151, 4403631, 4016516, 4297835]\n",
      "[4429025, 4119316, 3416653, 3120768, 2750135, 2707025]\n",
      "[129583316, 122204979, 102216594, 97713818, 93102590, 105104437]\n",
      "[20090447, 19181828, 15873620, 15400303, 14174188, 15239813]\n",
      "[5020934, 4928993, 4043514, 3738366, 3355321, 3346227]\n",
      "전라북도 지역별 일반용 합계 :  [55836678, 301133246, 83041886, 82351790, 42127862, 68279152, 23571397, 123776269, 252777747, 29830527, 20542922, 649925734, 99960199, 24433355]\n",
      "전라북도 고객호수 평균:  [4886, 20925, 6780, 7697, 2820, 5798, 2380, 7849, 20931, 2396, 1863, 48644, 9476, 2264]\n"
     ]
    }
   ],
   "source": [
    "sum2 , sum3 =[] , []\n",
    "for k in SIGUNGU:\n",
    "    GyeonGiHap = pd.DataFrame([] , columns = a)\n",
    "    HOSU = pd.DataFrame([], columns = a)\n",
    "    GyeonGiHap['사용량']= df_3['사용량(kWh)'].loc[(df_3['시군구'] == '{}'.format(k))]\n",
    "    HOSU['고객호수']= df_3['고객호수(호)'].loc[(df_3['시군구'] == '{}'.format(k))]\n",
    "    #경기합 데이터프레임의 사용량 열에 기군구가 가평군인 사용량 데이터만 뽑아내기\n",
    "    # GyeonGiHap = GyeonGiHap['사용량']\n",
    "\n",
    "    b = GyeonGiHap['사용량'].tolist()\n",
    "    c = HOSU['고객호수'].tolist()\n",
    "\n",
    "\n",
    "    #각지역별 사용량 리스트화\n",
    "    int_list  , int_list2=[] , []\n",
    "    for i in b:\n",
    "        i = re.sub(\",\" , \"\" , i)\n",
    "        #콤마 없애기\n",
    "        int_list.append(int(i))\n",
    "        #int_list에 각지역별 사용량 int로 저장\n",
    "    print(int_list)\n",
    "    sum=0\n",
    "    for i in c:\n",
    "        i = re.sub(\",\" , \"\" , i)\n",
    "        int_list2.append(int(i))\n",
    "\n",
    "    for j in int_list:\n",
    "\n",
    "        sum+= j\n",
    "    sum2.append(sum)\n",
    "    sum = 0\n",
    "    for j in int_list2: #고객호수 추출하여 더하기\n",
    "\n",
    "        sum+= j\n",
    "    sum3.append(sum//6) #6개월 치로 나눠야하나?!\n",
    "\n",
    "\n",
    "\n",
    "\n",
    "print(\"{} 지역별 일반용 합계 : \".format(City) , sum2)\n",
    "print(\"{} 고객호수 평균: \".format(City) , sum3)\n",
    "# GyeonGiHap['합계'] = sum\n",
    "#\n",
    "# GyeonGiHap"
   ],
   "metadata": {
    "collapsed": false,
    "pycharm": {
     "name": "#%%\n"
    }
   }
  },
  {
   "cell_type": "code",
   "execution_count": 49,
   "outputs": [],
   "source": [
    "# df_3 = df_3.loc[(df_3['시군구'] == '가평군')]\n",
    "#\n",
    "# df_3"
   ],
   "metadata": {
    "collapsed": false,
    "pycharm": {
     "name": "#%%\n"
    }
   }
  },
  {
   "cell_type": "code",
   "execution_count": 50,
   "outputs": [],
   "source": [
    "# GyeonGiHap = df_3.copy()\n",
    "# GyeonGiHap.reset_index(drop=True , inplace = True)\n",
    "# GyeonGiHap.append({'년월' : '202107-202112'  , '시구' : '경기도' , '시군구' : '가평군' , '계약구분' : '일반용' , '사용량(kWh)' : sum}, ignore_index=True)"
   ],
   "metadata": {
    "collapsed": false,
    "pycharm": {
     "name": "#%%\n"
    }
   }
  },
  {
   "cell_type": "code",
   "execution_count": 51,
   "outputs": [],
   "source": [
    "# a=[]\n",
    "# for i in SIGUNGU:\n",
    "#     a.append(i)\n",
    "#\n",
    "# print(a)"
   ],
   "metadata": {
    "collapsed": false,
    "pycharm": {
     "name": "#%%\n"
    }
   }
  },
  {
   "cell_type": "markdown",
   "source": [
    "### 4. 년월 체크!!!!!!!!!!!!!!!!!!!!!!!!!!!!!!!!!!!!!!!!!!!!!!!!!!!!!!!!!!!!!!!!!"
   ],
   "metadata": {
    "collapsed": false,
    "pycharm": {
     "name": "#%% md\n"
    }
   }
  },
  {
   "cell_type": "code",
   "execution_count": 52,
   "outputs": [
    {
     "name": "stderr",
     "output_type": "stream",
     "text": [
      "C:\\Users\\user\\AppData\\Local\\Temp\\ipykernel_3380\\1152688266.py:4: FutureWarning: The frame.append method is deprecated and will be removed from pandas in a future version. Use pandas.concat instead.\n",
      "  GyeonGiHap2 = GyeonGiHap2.append({'년월' :'202101-202106'  , '시구' : '{}'.format(City) , '시군구' : '{}'.format(SIGUNGU[i]) , '계약구분' : '일반용' , '고객호수(호)' : sum3[i] ,  '사용량(kWh)' : sum2[i]} , ignore_index=True) #년월 파일마다 수정하기\n",
      "C:\\Users\\user\\AppData\\Local\\Temp\\ipykernel_3380\\1152688266.py:4: FutureWarning: The frame.append method is deprecated and will be removed from pandas in a future version. Use pandas.concat instead.\n",
      "  GyeonGiHap2 = GyeonGiHap2.append({'년월' :'202101-202106'  , '시구' : '{}'.format(City) , '시군구' : '{}'.format(SIGUNGU[i]) , '계약구분' : '일반용' , '고객호수(호)' : sum3[i] ,  '사용량(kWh)' : sum2[i]} , ignore_index=True) #년월 파일마다 수정하기\n",
      "C:\\Users\\user\\AppData\\Local\\Temp\\ipykernel_3380\\1152688266.py:4: FutureWarning: The frame.append method is deprecated and will be removed from pandas in a future version. Use pandas.concat instead.\n",
      "  GyeonGiHap2 = GyeonGiHap2.append({'년월' :'202101-202106'  , '시구' : '{}'.format(City) , '시군구' : '{}'.format(SIGUNGU[i]) , '계약구분' : '일반용' , '고객호수(호)' : sum3[i] ,  '사용량(kWh)' : sum2[i]} , ignore_index=True) #년월 파일마다 수정하기\n",
      "C:\\Users\\user\\AppData\\Local\\Temp\\ipykernel_3380\\1152688266.py:4: FutureWarning: The frame.append method is deprecated and will be removed from pandas in a future version. Use pandas.concat instead.\n",
      "  GyeonGiHap2 = GyeonGiHap2.append({'년월' :'202101-202106'  , '시구' : '{}'.format(City) , '시군구' : '{}'.format(SIGUNGU[i]) , '계약구분' : '일반용' , '고객호수(호)' : sum3[i] ,  '사용량(kWh)' : sum2[i]} , ignore_index=True) #년월 파일마다 수정하기\n",
      "C:\\Users\\user\\AppData\\Local\\Temp\\ipykernel_3380\\1152688266.py:4: FutureWarning: The frame.append method is deprecated and will be removed from pandas in a future version. Use pandas.concat instead.\n",
      "  GyeonGiHap2 = GyeonGiHap2.append({'년월' :'202101-202106'  , '시구' : '{}'.format(City) , '시군구' : '{}'.format(SIGUNGU[i]) , '계약구분' : '일반용' , '고객호수(호)' : sum3[i] ,  '사용량(kWh)' : sum2[i]} , ignore_index=True) #년월 파일마다 수정하기\n",
      "C:\\Users\\user\\AppData\\Local\\Temp\\ipykernel_3380\\1152688266.py:4: FutureWarning: The frame.append method is deprecated and will be removed from pandas in a future version. Use pandas.concat instead.\n",
      "  GyeonGiHap2 = GyeonGiHap2.append({'년월' :'202101-202106'  , '시구' : '{}'.format(City) , '시군구' : '{}'.format(SIGUNGU[i]) , '계약구분' : '일반용' , '고객호수(호)' : sum3[i] ,  '사용량(kWh)' : sum2[i]} , ignore_index=True) #년월 파일마다 수정하기\n",
      "C:\\Users\\user\\AppData\\Local\\Temp\\ipykernel_3380\\1152688266.py:4: FutureWarning: The frame.append method is deprecated and will be removed from pandas in a future version. Use pandas.concat instead.\n",
      "  GyeonGiHap2 = GyeonGiHap2.append({'년월' :'202101-202106'  , '시구' : '{}'.format(City) , '시군구' : '{}'.format(SIGUNGU[i]) , '계약구분' : '일반용' , '고객호수(호)' : sum3[i] ,  '사용량(kWh)' : sum2[i]} , ignore_index=True) #년월 파일마다 수정하기\n",
      "C:\\Users\\user\\AppData\\Local\\Temp\\ipykernel_3380\\1152688266.py:4: FutureWarning: The frame.append method is deprecated and will be removed from pandas in a future version. Use pandas.concat instead.\n",
      "  GyeonGiHap2 = GyeonGiHap2.append({'년월' :'202101-202106'  , '시구' : '{}'.format(City) , '시군구' : '{}'.format(SIGUNGU[i]) , '계약구분' : '일반용' , '고객호수(호)' : sum3[i] ,  '사용량(kWh)' : sum2[i]} , ignore_index=True) #년월 파일마다 수정하기\n",
      "C:\\Users\\user\\AppData\\Local\\Temp\\ipykernel_3380\\1152688266.py:4: FutureWarning: The frame.append method is deprecated and will be removed from pandas in a future version. Use pandas.concat instead.\n",
      "  GyeonGiHap2 = GyeonGiHap2.append({'년월' :'202101-202106'  , '시구' : '{}'.format(City) , '시군구' : '{}'.format(SIGUNGU[i]) , '계약구분' : '일반용' , '고객호수(호)' : sum3[i] ,  '사용량(kWh)' : sum2[i]} , ignore_index=True) #년월 파일마다 수정하기\n",
      "C:\\Users\\user\\AppData\\Local\\Temp\\ipykernel_3380\\1152688266.py:4: FutureWarning: The frame.append method is deprecated and will be removed from pandas in a future version. Use pandas.concat instead.\n",
      "  GyeonGiHap2 = GyeonGiHap2.append({'년월' :'202101-202106'  , '시구' : '{}'.format(City) , '시군구' : '{}'.format(SIGUNGU[i]) , '계약구분' : '일반용' , '고객호수(호)' : sum3[i] ,  '사용량(kWh)' : sum2[i]} , ignore_index=True) #년월 파일마다 수정하기\n",
      "C:\\Users\\user\\AppData\\Local\\Temp\\ipykernel_3380\\1152688266.py:4: FutureWarning: The frame.append method is deprecated and will be removed from pandas in a future version. Use pandas.concat instead.\n",
      "  GyeonGiHap2 = GyeonGiHap2.append({'년월' :'202101-202106'  , '시구' : '{}'.format(City) , '시군구' : '{}'.format(SIGUNGU[i]) , '계약구분' : '일반용' , '고객호수(호)' : sum3[i] ,  '사용량(kWh)' : sum2[i]} , ignore_index=True) #년월 파일마다 수정하기\n",
      "C:\\Users\\user\\AppData\\Local\\Temp\\ipykernel_3380\\1152688266.py:4: FutureWarning: The frame.append method is deprecated and will be removed from pandas in a future version. Use pandas.concat instead.\n",
      "  GyeonGiHap2 = GyeonGiHap2.append({'년월' :'202101-202106'  , '시구' : '{}'.format(City) , '시군구' : '{}'.format(SIGUNGU[i]) , '계약구분' : '일반용' , '고객호수(호)' : sum3[i] ,  '사용량(kWh)' : sum2[i]} , ignore_index=True) #년월 파일마다 수정하기\n",
      "C:\\Users\\user\\AppData\\Local\\Temp\\ipykernel_3380\\1152688266.py:4: FutureWarning: The frame.append method is deprecated and will be removed from pandas in a future version. Use pandas.concat instead.\n",
      "  GyeonGiHap2 = GyeonGiHap2.append({'년월' :'202101-202106'  , '시구' : '{}'.format(City) , '시군구' : '{}'.format(SIGUNGU[i]) , '계약구분' : '일반용' , '고객호수(호)' : sum3[i] ,  '사용량(kWh)' : sum2[i]} , ignore_index=True) #년월 파일마다 수정하기\n",
      "C:\\Users\\user\\AppData\\Local\\Temp\\ipykernel_3380\\1152688266.py:4: FutureWarning: The frame.append method is deprecated and will be removed from pandas in a future version. Use pandas.concat instead.\n",
      "  GyeonGiHap2 = GyeonGiHap2.append({'년월' :'202101-202106'  , '시구' : '{}'.format(City) , '시군구' : '{}'.format(SIGUNGU[i]) , '계약구분' : '일반용' , '고객호수(호)' : sum3[i] ,  '사용량(kWh)' : sum2[i]} , ignore_index=True) #년월 파일마다 수정하기\n"
     ]
    },
    {
     "data": {
      "text/plain": "               년월    시구  시군구 계약구분 고객호수(호)     사용량(kWh)\n0          202101  전라북도  고창군  일반용  4,877   11,195,564 \n1          202102  전라북도  고창군  일반용  4,891   10,723,181 \n2          202103  전라북도  고창군  일반용  4,876    8,947,866 \n3          202104  전라북도  고창군  일반용  4,872    8,683,176 \n4          202105  전라북도  고창군  일반용  4,892    7,991,671 \n..            ...   ...  ...  ...     ...          ...\n93  202101-202106  전라북도  임실군  일반용    2396     29830527\n94  202101-202106  전라북도  장수군  일반용    1863     20542922\n95  202101-202106  전라북도  전주시  일반용   48644    649925734\n96  202101-202106  전라북도  정읍시  일반용    9476     99960199\n97  202101-202106  전라북도  진안군  일반용    2264     24433355\n\n[98 rows x 6 columns]",
      "text/html": "<div>\n<style scoped>\n    .dataframe tbody tr th:only-of-type {\n        vertical-align: middle;\n    }\n\n    .dataframe tbody tr th {\n        vertical-align: top;\n    }\n\n    .dataframe thead th {\n        text-align: right;\n    }\n</style>\n<table border=\"1\" class=\"dataframe\">\n  <thead>\n    <tr style=\"text-align: right;\">\n      <th></th>\n      <th>년월</th>\n      <th>시구</th>\n      <th>시군구</th>\n      <th>계약구분</th>\n      <th>고객호수(호)</th>\n      <th>사용량(kWh)</th>\n    </tr>\n  </thead>\n  <tbody>\n    <tr>\n      <th>0</th>\n      <td>202101</td>\n      <td>전라북도</td>\n      <td>고창군</td>\n      <td>일반용</td>\n      <td>4,877</td>\n      <td>11,195,564</td>\n    </tr>\n    <tr>\n      <th>1</th>\n      <td>202102</td>\n      <td>전라북도</td>\n      <td>고창군</td>\n      <td>일반용</td>\n      <td>4,891</td>\n      <td>10,723,181</td>\n    </tr>\n    <tr>\n      <th>2</th>\n      <td>202103</td>\n      <td>전라북도</td>\n      <td>고창군</td>\n      <td>일반용</td>\n      <td>4,876</td>\n      <td>8,947,866</td>\n    </tr>\n    <tr>\n      <th>3</th>\n      <td>202104</td>\n      <td>전라북도</td>\n      <td>고창군</td>\n      <td>일반용</td>\n      <td>4,872</td>\n      <td>8,683,176</td>\n    </tr>\n    <tr>\n      <th>4</th>\n      <td>202105</td>\n      <td>전라북도</td>\n      <td>고창군</td>\n      <td>일반용</td>\n      <td>4,892</td>\n      <td>7,991,671</td>\n    </tr>\n    <tr>\n      <th>...</th>\n      <td>...</td>\n      <td>...</td>\n      <td>...</td>\n      <td>...</td>\n      <td>...</td>\n      <td>...</td>\n    </tr>\n    <tr>\n      <th>93</th>\n      <td>202101-202106</td>\n      <td>전라북도</td>\n      <td>임실군</td>\n      <td>일반용</td>\n      <td>2396</td>\n      <td>29830527</td>\n    </tr>\n    <tr>\n      <th>94</th>\n      <td>202101-202106</td>\n      <td>전라북도</td>\n      <td>장수군</td>\n      <td>일반용</td>\n      <td>1863</td>\n      <td>20542922</td>\n    </tr>\n    <tr>\n      <th>95</th>\n      <td>202101-202106</td>\n      <td>전라북도</td>\n      <td>전주시</td>\n      <td>일반용</td>\n      <td>48644</td>\n      <td>649925734</td>\n    </tr>\n    <tr>\n      <th>96</th>\n      <td>202101-202106</td>\n      <td>전라북도</td>\n      <td>정읍시</td>\n      <td>일반용</td>\n      <td>9476</td>\n      <td>99960199</td>\n    </tr>\n    <tr>\n      <th>97</th>\n      <td>202101-202106</td>\n      <td>전라북도</td>\n      <td>진안군</td>\n      <td>일반용</td>\n      <td>2264</td>\n      <td>24433355</td>\n    </tr>\n  </tbody>\n</table>\n<p>98 rows × 6 columns</p>\n</div>"
     },
     "execution_count": 52,
     "metadata": {},
     "output_type": "execute_result"
    }
   ],
   "source": [
    "GyeonGiHap2 = df_3.copy()\n",
    "GyeonGiHap2.reset_index(drop=True , inplace = True)\n",
    "for i in range(len(SIGUNGU)):\n",
    "    GyeonGiHap2 = GyeonGiHap2.append({'년월' :'202101-202106'  , '시구' : '{}'.format(City) , '시군구' : '{}'.format(SIGUNGU[i]) , '계약구분' : '일반용' , '고객호수(호)' : sum3[i] ,  '사용량(kWh)' : sum2[i]} , ignore_index=True) #년월 파일마다 수정하기\n",
    "GyeonGiHap2"
   ],
   "metadata": {
    "collapsed": false,
    "pycharm": {
     "name": "#%%\n"
    }
   }
  },
  {
   "cell_type": "markdown",
   "source": [
    "### 5. 날짜 체크!!!!!!!!!!!!!!!!!!!!!!!!!!!!!!!!!!!!!!!!!!!!!!!!!!!!"
   ],
   "metadata": {
    "collapsed": false,
    "pycharm": {
     "name": "#%% md\n"
    }
   }
  },
  {
   "cell_type": "code",
   "execution_count": 53,
   "outputs": [
    {
     "data": {
      "text/plain": "               년월    시구  시군구 계약구분 고객호수(호)   사용량(kWh)\n84  202101-202106  전라북도  고창군  일반용    4886   55836678\n85  202101-202106  전라북도  군산시  일반용   20925  301133246\n86  202101-202106  전라북도  김제시  일반용    6780   83041886\n87  202101-202106  전라북도  남원시  일반용    7697   82351790\n88  202101-202106  전라북도  무주군  일반용    2820   42127862\n89  202101-202106  전라북도  부안군  일반용    5798   68279152\n90  202101-202106  전라북도  순창군  일반용    2380   23571397\n91  202101-202106  전라북도  완주군  일반용    7849  123776269\n92  202101-202106  전라북도  익산시  일반용   20931  252777747\n93  202101-202106  전라북도  임실군  일반용    2396   29830527\n94  202101-202106  전라북도  장수군  일반용    1863   20542922\n95  202101-202106  전라북도  전주시  일반용   48644  649925734\n96  202101-202106  전라북도  정읍시  일반용    9476   99960199\n97  202101-202106  전라북도  진안군  일반용    2264   24433355",
      "text/html": "<div>\n<style scoped>\n    .dataframe tbody tr th:only-of-type {\n        vertical-align: middle;\n    }\n\n    .dataframe tbody tr th {\n        vertical-align: top;\n    }\n\n    .dataframe thead th {\n        text-align: right;\n    }\n</style>\n<table border=\"1\" class=\"dataframe\">\n  <thead>\n    <tr style=\"text-align: right;\">\n      <th></th>\n      <th>년월</th>\n      <th>시구</th>\n      <th>시군구</th>\n      <th>계약구분</th>\n      <th>고객호수(호)</th>\n      <th>사용량(kWh)</th>\n    </tr>\n  </thead>\n  <tbody>\n    <tr>\n      <th>84</th>\n      <td>202101-202106</td>\n      <td>전라북도</td>\n      <td>고창군</td>\n      <td>일반용</td>\n      <td>4886</td>\n      <td>55836678</td>\n    </tr>\n    <tr>\n      <th>85</th>\n      <td>202101-202106</td>\n      <td>전라북도</td>\n      <td>군산시</td>\n      <td>일반용</td>\n      <td>20925</td>\n      <td>301133246</td>\n    </tr>\n    <tr>\n      <th>86</th>\n      <td>202101-202106</td>\n      <td>전라북도</td>\n      <td>김제시</td>\n      <td>일반용</td>\n      <td>6780</td>\n      <td>83041886</td>\n    </tr>\n    <tr>\n      <th>87</th>\n      <td>202101-202106</td>\n      <td>전라북도</td>\n      <td>남원시</td>\n      <td>일반용</td>\n      <td>7697</td>\n      <td>82351790</td>\n    </tr>\n    <tr>\n      <th>88</th>\n      <td>202101-202106</td>\n      <td>전라북도</td>\n      <td>무주군</td>\n      <td>일반용</td>\n      <td>2820</td>\n      <td>42127862</td>\n    </tr>\n    <tr>\n      <th>89</th>\n      <td>202101-202106</td>\n      <td>전라북도</td>\n      <td>부안군</td>\n      <td>일반용</td>\n      <td>5798</td>\n      <td>68279152</td>\n    </tr>\n    <tr>\n      <th>90</th>\n      <td>202101-202106</td>\n      <td>전라북도</td>\n      <td>순창군</td>\n      <td>일반용</td>\n      <td>2380</td>\n      <td>23571397</td>\n    </tr>\n    <tr>\n      <th>91</th>\n      <td>202101-202106</td>\n      <td>전라북도</td>\n      <td>완주군</td>\n      <td>일반용</td>\n      <td>7849</td>\n      <td>123776269</td>\n    </tr>\n    <tr>\n      <th>92</th>\n      <td>202101-202106</td>\n      <td>전라북도</td>\n      <td>익산시</td>\n      <td>일반용</td>\n      <td>20931</td>\n      <td>252777747</td>\n    </tr>\n    <tr>\n      <th>93</th>\n      <td>202101-202106</td>\n      <td>전라북도</td>\n      <td>임실군</td>\n      <td>일반용</td>\n      <td>2396</td>\n      <td>29830527</td>\n    </tr>\n    <tr>\n      <th>94</th>\n      <td>202101-202106</td>\n      <td>전라북도</td>\n      <td>장수군</td>\n      <td>일반용</td>\n      <td>1863</td>\n      <td>20542922</td>\n    </tr>\n    <tr>\n      <th>95</th>\n      <td>202101-202106</td>\n      <td>전라북도</td>\n      <td>전주시</td>\n      <td>일반용</td>\n      <td>48644</td>\n      <td>649925734</td>\n    </tr>\n    <tr>\n      <th>96</th>\n      <td>202101-202106</td>\n      <td>전라북도</td>\n      <td>정읍시</td>\n      <td>일반용</td>\n      <td>9476</td>\n      <td>99960199</td>\n    </tr>\n    <tr>\n      <th>97</th>\n      <td>202101-202106</td>\n      <td>전라북도</td>\n      <td>진안군</td>\n      <td>일반용</td>\n      <td>2264</td>\n      <td>24433355</td>\n    </tr>\n  </tbody>\n</table>\n</div>"
     },
     "execution_count": 53,
     "metadata": {},
     "output_type": "execute_result"
    }
   ],
   "source": [
    "GyeonGiHap2 = GyeonGiHap2.loc[GyeonGiHap2['년월'] == '202101-202106']\n",
    "GyeonGiHap2"
   ],
   "metadata": {
    "collapsed": false,
    "pycharm": {
     "name": "#%%\n"
    }
   }
  },
  {
   "cell_type": "code",
   "execution_count": 54,
   "outputs": [
    {
     "data": {
      "text/plain": "               년월    시구  시군구 계약구분 고객호수(호)    사용량(kWh)\n84  202101-202106  전라북도  고창군  일반용    4886    55836678\n84  202101-202106  전라북도  고창군   합계   10763   331914217\n85  202101-202106  전라북도  군산시  일반용   20925   301133246\n85  202101-202106  전라북도  군산시   합계   23751  3015304706\n86  202101-202106  전라북도  김제시  일반용    6780    83041886\n86  202101-202106  전라북도  김제시   합계   15365   568409284\n87  202101-202106  전라북도  남원시  일반용    7697    82351790\n87  202101-202106  전라북도  남원시   합계   14161   322796119\n88  202101-202106  전라북도  무주군  일반용    2820    42127862\n88  202101-202106  전라북도  무주군   합계    5044   111919361\n89  202101-202106  전라북도  부안군  일반용    5798    68279152\n89  202101-202106  전라북도  부안군   합계    9383   246224884\n90  202101-202106  전라북도  순창군  일반용    2380    23571397\n90  202101-202106  전라북도  순창군   합계    6200   133969121\n91  202101-202106  전라북도  완주군   합계   12180   893425781\n91  202101-202106  전라북도  완주군  일반용    7849   123776269\n92  202101-202106  전라북도  익산시  일반용   20931   252777747\n92  202101-202106  전라북도  익산시   합계   29029  1559893778\n93  202101-202106  전라북도  임실군   합계    5961   157579428\n93  202101-202106  전라북도  임실군  일반용    2396    29830527\n94  202101-202106  전라북도  장수군   합계    4842   120026380\n94  202101-202106  전라북도  장수군  일반용    1863    20542922\n95  202101-202106  전라북도  전주시   합계   47310  2230178808\n95  202101-202106  전라북도  전주시  일반용   48644   649925734\n96  202101-202106  전라북도  정읍시   합계   17219   885838445\n96  202101-202106  전라북도  정읍시  일반용    9476    99960199\n97  202101-202106  전라북도  진안군  일반용    2264    24433355\n97  202101-202106  전라북도  진안군   합계    5531   111658263",
      "text/html": "<div>\n<style scoped>\n    .dataframe tbody tr th:only-of-type {\n        vertical-align: middle;\n    }\n\n    .dataframe tbody tr th {\n        vertical-align: top;\n    }\n\n    .dataframe thead th {\n        text-align: right;\n    }\n</style>\n<table border=\"1\" class=\"dataframe\">\n  <thead>\n    <tr style=\"text-align: right;\">\n      <th></th>\n      <th>년월</th>\n      <th>시구</th>\n      <th>시군구</th>\n      <th>계약구분</th>\n      <th>고객호수(호)</th>\n      <th>사용량(kWh)</th>\n    </tr>\n  </thead>\n  <tbody>\n    <tr>\n      <th>84</th>\n      <td>202101-202106</td>\n      <td>전라북도</td>\n      <td>고창군</td>\n      <td>일반용</td>\n      <td>4886</td>\n      <td>55836678</td>\n    </tr>\n    <tr>\n      <th>84</th>\n      <td>202101-202106</td>\n      <td>전라북도</td>\n      <td>고창군</td>\n      <td>합계</td>\n      <td>10763</td>\n      <td>331914217</td>\n    </tr>\n    <tr>\n      <th>85</th>\n      <td>202101-202106</td>\n      <td>전라북도</td>\n      <td>군산시</td>\n      <td>일반용</td>\n      <td>20925</td>\n      <td>301133246</td>\n    </tr>\n    <tr>\n      <th>85</th>\n      <td>202101-202106</td>\n      <td>전라북도</td>\n      <td>군산시</td>\n      <td>합계</td>\n      <td>23751</td>\n      <td>3015304706</td>\n    </tr>\n    <tr>\n      <th>86</th>\n      <td>202101-202106</td>\n      <td>전라북도</td>\n      <td>김제시</td>\n      <td>일반용</td>\n      <td>6780</td>\n      <td>83041886</td>\n    </tr>\n    <tr>\n      <th>86</th>\n      <td>202101-202106</td>\n      <td>전라북도</td>\n      <td>김제시</td>\n      <td>합계</td>\n      <td>15365</td>\n      <td>568409284</td>\n    </tr>\n    <tr>\n      <th>87</th>\n      <td>202101-202106</td>\n      <td>전라북도</td>\n      <td>남원시</td>\n      <td>일반용</td>\n      <td>7697</td>\n      <td>82351790</td>\n    </tr>\n    <tr>\n      <th>87</th>\n      <td>202101-202106</td>\n      <td>전라북도</td>\n      <td>남원시</td>\n      <td>합계</td>\n      <td>14161</td>\n      <td>322796119</td>\n    </tr>\n    <tr>\n      <th>88</th>\n      <td>202101-202106</td>\n      <td>전라북도</td>\n      <td>무주군</td>\n      <td>일반용</td>\n      <td>2820</td>\n      <td>42127862</td>\n    </tr>\n    <tr>\n      <th>88</th>\n      <td>202101-202106</td>\n      <td>전라북도</td>\n      <td>무주군</td>\n      <td>합계</td>\n      <td>5044</td>\n      <td>111919361</td>\n    </tr>\n    <tr>\n      <th>89</th>\n      <td>202101-202106</td>\n      <td>전라북도</td>\n      <td>부안군</td>\n      <td>일반용</td>\n      <td>5798</td>\n      <td>68279152</td>\n    </tr>\n    <tr>\n      <th>89</th>\n      <td>202101-202106</td>\n      <td>전라북도</td>\n      <td>부안군</td>\n      <td>합계</td>\n      <td>9383</td>\n      <td>246224884</td>\n    </tr>\n    <tr>\n      <th>90</th>\n      <td>202101-202106</td>\n      <td>전라북도</td>\n      <td>순창군</td>\n      <td>일반용</td>\n      <td>2380</td>\n      <td>23571397</td>\n    </tr>\n    <tr>\n      <th>90</th>\n      <td>202101-202106</td>\n      <td>전라북도</td>\n      <td>순창군</td>\n      <td>합계</td>\n      <td>6200</td>\n      <td>133969121</td>\n    </tr>\n    <tr>\n      <th>91</th>\n      <td>202101-202106</td>\n      <td>전라북도</td>\n      <td>완주군</td>\n      <td>합계</td>\n      <td>12180</td>\n      <td>893425781</td>\n    </tr>\n    <tr>\n      <th>91</th>\n      <td>202101-202106</td>\n      <td>전라북도</td>\n      <td>완주군</td>\n      <td>일반용</td>\n      <td>7849</td>\n      <td>123776269</td>\n    </tr>\n    <tr>\n      <th>92</th>\n      <td>202101-202106</td>\n      <td>전라북도</td>\n      <td>익산시</td>\n      <td>일반용</td>\n      <td>20931</td>\n      <td>252777747</td>\n    </tr>\n    <tr>\n      <th>92</th>\n      <td>202101-202106</td>\n      <td>전라북도</td>\n      <td>익산시</td>\n      <td>합계</td>\n      <td>29029</td>\n      <td>1559893778</td>\n    </tr>\n    <tr>\n      <th>93</th>\n      <td>202101-202106</td>\n      <td>전라북도</td>\n      <td>임실군</td>\n      <td>합계</td>\n      <td>5961</td>\n      <td>157579428</td>\n    </tr>\n    <tr>\n      <th>93</th>\n      <td>202101-202106</td>\n      <td>전라북도</td>\n      <td>임실군</td>\n      <td>일반용</td>\n      <td>2396</td>\n      <td>29830527</td>\n    </tr>\n    <tr>\n      <th>94</th>\n      <td>202101-202106</td>\n      <td>전라북도</td>\n      <td>장수군</td>\n      <td>합계</td>\n      <td>4842</td>\n      <td>120026380</td>\n    </tr>\n    <tr>\n      <th>94</th>\n      <td>202101-202106</td>\n      <td>전라북도</td>\n      <td>장수군</td>\n      <td>일반용</td>\n      <td>1863</td>\n      <td>20542922</td>\n    </tr>\n    <tr>\n      <th>95</th>\n      <td>202101-202106</td>\n      <td>전라북도</td>\n      <td>전주시</td>\n      <td>합계</td>\n      <td>47310</td>\n      <td>2230178808</td>\n    </tr>\n    <tr>\n      <th>95</th>\n      <td>202101-202106</td>\n      <td>전라북도</td>\n      <td>전주시</td>\n      <td>일반용</td>\n      <td>48644</td>\n      <td>649925734</td>\n    </tr>\n    <tr>\n      <th>96</th>\n      <td>202101-202106</td>\n      <td>전라북도</td>\n      <td>정읍시</td>\n      <td>합계</td>\n      <td>17219</td>\n      <td>885838445</td>\n    </tr>\n    <tr>\n      <th>96</th>\n      <td>202101-202106</td>\n      <td>전라북도</td>\n      <td>정읍시</td>\n      <td>일반용</td>\n      <td>9476</td>\n      <td>99960199</td>\n    </tr>\n    <tr>\n      <th>97</th>\n      <td>202101-202106</td>\n      <td>전라북도</td>\n      <td>진안군</td>\n      <td>일반용</td>\n      <td>2264</td>\n      <td>24433355</td>\n    </tr>\n    <tr>\n      <th>97</th>\n      <td>202101-202106</td>\n      <td>전라북도</td>\n      <td>진안군</td>\n      <td>합계</td>\n      <td>5531</td>\n      <td>111658263</td>\n    </tr>\n  </tbody>\n</table>\n</div>"
     },
     "execution_count": 54,
     "metadata": {},
     "output_type": "execute_result"
    }
   ],
   "source": [
    "Final = pd.concat([GyeonGiHap2 , Hap])\n",
    "Final = Final.sort_values('시군구')\n",
    "Final"
   ],
   "metadata": {
    "collapsed": false,
    "pycharm": {
     "name": "#%%\n"
    }
   }
  },
  {
   "cell_type": "code",
   "execution_count": 55,
   "outputs": [
    {
     "data": {
      "text/plain": "[55836678,\n 301133246,\n 83041886,\n 82351790,\n 42127862,\n 68279152,\n 23571397,\n 123776269,\n 252777747,\n 29830527,\n 20542922,\n 649925734,\n 99960199,\n 24433355]"
     },
     "execution_count": 55,
     "metadata": {},
     "output_type": "execute_result"
    }
   ],
   "source": [
    "# Final['일반용 전기의 비율'] = (Final['사용량(kWh)'].loc[Final['계약구분'] == '일반용']) // (Final['사용량(kWh)'].loc[Final['계약구분'] == '합계'])\n",
    "# Final\n",
    "ex = (Final['사용량(kWh)'].loc[Final['계약구분'] == '일반용']).tolist()\n",
    "\n",
    "\n",
    "ex\n"
   ],
   "metadata": {
    "collapsed": false,
    "pycharm": {
     "name": "#%%\n"
    }
   }
  },
  {
   "cell_type": "code",
   "execution_count": 56,
   "outputs": [
    {
     "data": {
      "text/plain": "[331914217,\n 3015304706,\n 568409284,\n 322796119,\n 111919361,\n 246224884,\n 133969121,\n 893425781,\n 1559893778,\n 157579428,\n 120026380,\n 2230178808,\n 885838445,\n 111658263]"
     },
     "execution_count": 56,
     "metadata": {},
     "output_type": "execute_result"
    }
   ],
   "source": [
    "ex_2 =(Final['사용량(kWh)'].loc[Final['계약구분'] == '합계']).tolist()\n",
    "ex_2"
   ],
   "metadata": {
    "collapsed": false,
    "pycharm": {
     "name": "#%%\n"
    }
   }
  },
  {
   "cell_type": "code",
   "execution_count": 57,
   "outputs": [
    {
     "name": "stdout",
     "output_type": "stream",
     "text": [
      "[16.82, 9.99, 14.61, 25.51, 37.64, 27.73, 17.59, 13.85, 16.2, 18.93, 17.12, 29.14, 11.28, 21.88]\n"
     ]
    }
   ],
   "source": [
    "Rate = []\n",
    "ilban = []\n",
    "rae = 0\n",
    "for i in range(len(ex)):\n",
    "    rae = round(ex[i] / ex_2[i] *100 ,2)\n",
    "    Rate.append(rae)\n",
    "print(Rate)"
   ],
   "metadata": {
    "collapsed": false,
    "pycharm": {
     "name": "#%%\n"
    }
   }
  },
  {
   "cell_type": "code",
   "execution_count": 58,
   "outputs": [
    {
     "data": {
      "text/plain": "0    17\n1    10\n2    15\n3    26\n4    38\n5    28\n6    18\n7    14\n8    16\n9    19\n10   17\n11   29\n12   11\n13   22\ndtype: float64"
     },
     "execution_count": 58,
     "metadata": {},
     "output_type": "execute_result"
    }
   ],
   "source": [
    "Rate3 = pd.Series(Rate)\n",
    "Rate3\n",
    "\n",
    "# Final = pd.concat([Final , Rate3])\n",
    "# Final"
   ],
   "metadata": {
    "collapsed": false,
    "pycharm": {
     "name": "#%%\n"
    }
   }
  },
  {
   "cell_type": "code",
   "execution_count": 59,
   "outputs": [
    {
     "data": {
      "text/plain": "    시군구 계약구분  비율\n0   고창군  일반용  17\n1   군산시  일반용  10\n2   김제시  일반용  15\n3   남원시  일반용  26\n4   무주군  일반용  38\n5   부안군  일반용  28\n6   순창군  일반용  18\n7   완주군  일반용  14\n8   익산시  일반용  16\n9   임실군  일반용  19\n10  장수군  일반용  17\n11  전주시  일반용  29\n12  정읍시  일반용  11\n13  진안군  일반용  22",
      "text/html": "<div>\n<style scoped>\n    .dataframe tbody tr th:only-of-type {\n        vertical-align: middle;\n    }\n\n    .dataframe tbody tr th {\n        vertical-align: top;\n    }\n\n    .dataframe thead th {\n        text-align: right;\n    }\n</style>\n<table border=\"1\" class=\"dataframe\">\n  <thead>\n    <tr style=\"text-align: right;\">\n      <th></th>\n      <th>시군구</th>\n      <th>계약구분</th>\n      <th>비율</th>\n    </tr>\n  </thead>\n  <tbody>\n    <tr>\n      <th>0</th>\n      <td>고창군</td>\n      <td>일반용</td>\n      <td>17</td>\n    </tr>\n    <tr>\n      <th>1</th>\n      <td>군산시</td>\n      <td>일반용</td>\n      <td>10</td>\n    </tr>\n    <tr>\n      <th>2</th>\n      <td>김제시</td>\n      <td>일반용</td>\n      <td>15</td>\n    </tr>\n    <tr>\n      <th>3</th>\n      <td>남원시</td>\n      <td>일반용</td>\n      <td>26</td>\n    </tr>\n    <tr>\n      <th>4</th>\n      <td>무주군</td>\n      <td>일반용</td>\n      <td>38</td>\n    </tr>\n    <tr>\n      <th>5</th>\n      <td>부안군</td>\n      <td>일반용</td>\n      <td>28</td>\n    </tr>\n    <tr>\n      <th>6</th>\n      <td>순창군</td>\n      <td>일반용</td>\n      <td>18</td>\n    </tr>\n    <tr>\n      <th>7</th>\n      <td>완주군</td>\n      <td>일반용</td>\n      <td>14</td>\n    </tr>\n    <tr>\n      <th>8</th>\n      <td>익산시</td>\n      <td>일반용</td>\n      <td>16</td>\n    </tr>\n    <tr>\n      <th>9</th>\n      <td>임실군</td>\n      <td>일반용</td>\n      <td>19</td>\n    </tr>\n    <tr>\n      <th>10</th>\n      <td>장수군</td>\n      <td>일반용</td>\n      <td>17</td>\n    </tr>\n    <tr>\n      <th>11</th>\n      <td>전주시</td>\n      <td>일반용</td>\n      <td>29</td>\n    </tr>\n    <tr>\n      <th>12</th>\n      <td>정읍시</td>\n      <td>일반용</td>\n      <td>11</td>\n    </tr>\n    <tr>\n      <th>13</th>\n      <td>진안군</td>\n      <td>일반용</td>\n      <td>22</td>\n    </tr>\n  </tbody>\n</table>\n</div>"
     },
     "execution_count": 59,
     "metadata": {},
     "output_type": "execute_result"
    }
   ],
   "source": [
    "for j in range(len(Rate)):\n",
    "    ilban.append('일반용')\n",
    "#print(Rate)\n",
    "\n",
    "Rate2 = pd.DataFrame()\n",
    "Rate2['시군구'] = pd.DataFrame(SIGUNGU)\n",
    "Rate2['계약구분'] = pd.DataFrame(ilban)\n",
    "Rate2['비율'] = pd.DataFrame(Rate)\n",
    "Rate2\n",
    "#print(Rate2.dtypes)"
   ],
   "metadata": {
    "collapsed": false,
    "pycharm": {
     "name": "#%%\n"
    }
   }
  },
  {
   "cell_type": "code",
   "execution_count": 60,
   "outputs": [
    {
     "data": {
      "text/plain": "               년월    시구  시군구 계약구분 고객호수(호)    사용량(kWh)  비율\n0   202101-202106  전라북도  고창군  일반용    4886    55836678  17\n1   202101-202106  전라북도  고창군   합계   10763   331914217 NaN\n2   202101-202106  전라북도  군산시  일반용   20925   301133246  10\n3   202101-202106  전라북도  군산시   합계   23751  3015304706 NaN\n4   202101-202106  전라북도  김제시  일반용    6780    83041886  15\n5   202101-202106  전라북도  김제시   합계   15365   568409284 NaN\n6   202101-202106  전라북도  남원시  일반용    7697    82351790  26\n7   202101-202106  전라북도  남원시   합계   14161   322796119 NaN\n8   202101-202106  전라북도  무주군  일반용    2820    42127862  38\n9   202101-202106  전라북도  무주군   합계    5044   111919361 NaN\n10  202101-202106  전라북도  부안군  일반용    5798    68279152  28\n11  202101-202106  전라북도  부안군   합계    9383   246224884 NaN\n12  202101-202106  전라북도  순창군  일반용    2380    23571397  18\n13  202101-202106  전라북도  순창군   합계    6200   133969121 NaN\n15  202101-202106  전라북도  완주군  일반용    7849   123776269  14\n14  202101-202106  전라북도  완주군   합계   12180   893425781 NaN\n16  202101-202106  전라북도  익산시  일반용   20931   252777747  16\n17  202101-202106  전라북도  익산시   합계   29029  1559893778 NaN\n19  202101-202106  전라북도  임실군  일반용    2396    29830527  19\n18  202101-202106  전라북도  임실군   합계    5961   157579428 NaN\n21  202101-202106  전라북도  장수군  일반용    1863    20542922  17\n20  202101-202106  전라북도  장수군   합계    4842   120026380 NaN\n23  202101-202106  전라북도  전주시  일반용   48644   649925734  29\n22  202101-202106  전라북도  전주시   합계   47310  2230178808 NaN\n25  202101-202106  전라북도  정읍시  일반용    9476    99960199  11\n24  202101-202106  전라북도  정읍시   합계   17219   885838445 NaN\n26  202101-202106  전라북도  진안군  일반용    2264    24433355  22\n27  202101-202106  전라북도  진안군   합계    5531   111658263 NaN",
      "text/html": "<div>\n<style scoped>\n    .dataframe tbody tr th:only-of-type {\n        vertical-align: middle;\n    }\n\n    .dataframe tbody tr th {\n        vertical-align: top;\n    }\n\n    .dataframe thead th {\n        text-align: right;\n    }\n</style>\n<table border=\"1\" class=\"dataframe\">\n  <thead>\n    <tr style=\"text-align: right;\">\n      <th></th>\n      <th>년월</th>\n      <th>시구</th>\n      <th>시군구</th>\n      <th>계약구분</th>\n      <th>고객호수(호)</th>\n      <th>사용량(kWh)</th>\n      <th>비율</th>\n    </tr>\n  </thead>\n  <tbody>\n    <tr>\n      <th>0</th>\n      <td>202101-202106</td>\n      <td>전라북도</td>\n      <td>고창군</td>\n      <td>일반용</td>\n      <td>4886</td>\n      <td>55836678</td>\n      <td>17</td>\n    </tr>\n    <tr>\n      <th>1</th>\n      <td>202101-202106</td>\n      <td>전라북도</td>\n      <td>고창군</td>\n      <td>합계</td>\n      <td>10763</td>\n      <td>331914217</td>\n      <td>NaN</td>\n    </tr>\n    <tr>\n      <th>2</th>\n      <td>202101-202106</td>\n      <td>전라북도</td>\n      <td>군산시</td>\n      <td>일반용</td>\n      <td>20925</td>\n      <td>301133246</td>\n      <td>10</td>\n    </tr>\n    <tr>\n      <th>3</th>\n      <td>202101-202106</td>\n      <td>전라북도</td>\n      <td>군산시</td>\n      <td>합계</td>\n      <td>23751</td>\n      <td>3015304706</td>\n      <td>NaN</td>\n    </tr>\n    <tr>\n      <th>4</th>\n      <td>202101-202106</td>\n      <td>전라북도</td>\n      <td>김제시</td>\n      <td>일반용</td>\n      <td>6780</td>\n      <td>83041886</td>\n      <td>15</td>\n    </tr>\n    <tr>\n      <th>5</th>\n      <td>202101-202106</td>\n      <td>전라북도</td>\n      <td>김제시</td>\n      <td>합계</td>\n      <td>15365</td>\n      <td>568409284</td>\n      <td>NaN</td>\n    </tr>\n    <tr>\n      <th>6</th>\n      <td>202101-202106</td>\n      <td>전라북도</td>\n      <td>남원시</td>\n      <td>일반용</td>\n      <td>7697</td>\n      <td>82351790</td>\n      <td>26</td>\n    </tr>\n    <tr>\n      <th>7</th>\n      <td>202101-202106</td>\n      <td>전라북도</td>\n      <td>남원시</td>\n      <td>합계</td>\n      <td>14161</td>\n      <td>322796119</td>\n      <td>NaN</td>\n    </tr>\n    <tr>\n      <th>8</th>\n      <td>202101-202106</td>\n      <td>전라북도</td>\n      <td>무주군</td>\n      <td>일반용</td>\n      <td>2820</td>\n      <td>42127862</td>\n      <td>38</td>\n    </tr>\n    <tr>\n      <th>9</th>\n      <td>202101-202106</td>\n      <td>전라북도</td>\n      <td>무주군</td>\n      <td>합계</td>\n      <td>5044</td>\n      <td>111919361</td>\n      <td>NaN</td>\n    </tr>\n    <tr>\n      <th>10</th>\n      <td>202101-202106</td>\n      <td>전라북도</td>\n      <td>부안군</td>\n      <td>일반용</td>\n      <td>5798</td>\n      <td>68279152</td>\n      <td>28</td>\n    </tr>\n    <tr>\n      <th>11</th>\n      <td>202101-202106</td>\n      <td>전라북도</td>\n      <td>부안군</td>\n      <td>합계</td>\n      <td>9383</td>\n      <td>246224884</td>\n      <td>NaN</td>\n    </tr>\n    <tr>\n      <th>12</th>\n      <td>202101-202106</td>\n      <td>전라북도</td>\n      <td>순창군</td>\n      <td>일반용</td>\n      <td>2380</td>\n      <td>23571397</td>\n      <td>18</td>\n    </tr>\n    <tr>\n      <th>13</th>\n      <td>202101-202106</td>\n      <td>전라북도</td>\n      <td>순창군</td>\n      <td>합계</td>\n      <td>6200</td>\n      <td>133969121</td>\n      <td>NaN</td>\n    </tr>\n    <tr>\n      <th>15</th>\n      <td>202101-202106</td>\n      <td>전라북도</td>\n      <td>완주군</td>\n      <td>일반용</td>\n      <td>7849</td>\n      <td>123776269</td>\n      <td>14</td>\n    </tr>\n    <tr>\n      <th>14</th>\n      <td>202101-202106</td>\n      <td>전라북도</td>\n      <td>완주군</td>\n      <td>합계</td>\n      <td>12180</td>\n      <td>893425781</td>\n      <td>NaN</td>\n    </tr>\n    <tr>\n      <th>16</th>\n      <td>202101-202106</td>\n      <td>전라북도</td>\n      <td>익산시</td>\n      <td>일반용</td>\n      <td>20931</td>\n      <td>252777747</td>\n      <td>16</td>\n    </tr>\n    <tr>\n      <th>17</th>\n      <td>202101-202106</td>\n      <td>전라북도</td>\n      <td>익산시</td>\n      <td>합계</td>\n      <td>29029</td>\n      <td>1559893778</td>\n      <td>NaN</td>\n    </tr>\n    <tr>\n      <th>19</th>\n      <td>202101-202106</td>\n      <td>전라북도</td>\n      <td>임실군</td>\n      <td>일반용</td>\n      <td>2396</td>\n      <td>29830527</td>\n      <td>19</td>\n    </tr>\n    <tr>\n      <th>18</th>\n      <td>202101-202106</td>\n      <td>전라북도</td>\n      <td>임실군</td>\n      <td>합계</td>\n      <td>5961</td>\n      <td>157579428</td>\n      <td>NaN</td>\n    </tr>\n    <tr>\n      <th>21</th>\n      <td>202101-202106</td>\n      <td>전라북도</td>\n      <td>장수군</td>\n      <td>일반용</td>\n      <td>1863</td>\n      <td>20542922</td>\n      <td>17</td>\n    </tr>\n    <tr>\n      <th>20</th>\n      <td>202101-202106</td>\n      <td>전라북도</td>\n      <td>장수군</td>\n      <td>합계</td>\n      <td>4842</td>\n      <td>120026380</td>\n      <td>NaN</td>\n    </tr>\n    <tr>\n      <th>23</th>\n      <td>202101-202106</td>\n      <td>전라북도</td>\n      <td>전주시</td>\n      <td>일반용</td>\n      <td>48644</td>\n      <td>649925734</td>\n      <td>29</td>\n    </tr>\n    <tr>\n      <th>22</th>\n      <td>202101-202106</td>\n      <td>전라북도</td>\n      <td>전주시</td>\n      <td>합계</td>\n      <td>47310</td>\n      <td>2230178808</td>\n      <td>NaN</td>\n    </tr>\n    <tr>\n      <th>25</th>\n      <td>202101-202106</td>\n      <td>전라북도</td>\n      <td>정읍시</td>\n      <td>일반용</td>\n      <td>9476</td>\n      <td>99960199</td>\n      <td>11</td>\n    </tr>\n    <tr>\n      <th>24</th>\n      <td>202101-202106</td>\n      <td>전라북도</td>\n      <td>정읍시</td>\n      <td>합계</td>\n      <td>17219</td>\n      <td>885838445</td>\n      <td>NaN</td>\n    </tr>\n    <tr>\n      <th>26</th>\n      <td>202101-202106</td>\n      <td>전라북도</td>\n      <td>진안군</td>\n      <td>일반용</td>\n      <td>2264</td>\n      <td>24433355</td>\n      <td>22</td>\n    </tr>\n    <tr>\n      <th>27</th>\n      <td>202101-202106</td>\n      <td>전라북도</td>\n      <td>진안군</td>\n      <td>합계</td>\n      <td>5531</td>\n      <td>111658263</td>\n      <td>NaN</td>\n    </tr>\n  </tbody>\n</table>\n</div>"
     },
     "execution_count": 60,
     "metadata": {},
     "output_type": "execute_result"
    }
   ],
   "source": [
    "Final = pd.merge(Final , Rate2, on=['시군구', '계약구분'] , how='left')\n",
    "\n",
    "#Final.drop(['비율_y]' , axis = 1 , inplace = True)\n",
    "#Final.rename(columns={'비율_y':'전체 계약종별 전력사용량 대비 일반용 사용량 비율'})\n",
    "Final = Final.sort_values(['시군구' , '계약구분'])\n",
    "Final"
   ],
   "metadata": {
    "collapsed": false,
    "pycharm": {
     "name": "#%%\n"
    }
   }
  },
  {
   "cell_type": "code",
   "execution_count": 61,
   "outputs": [],
   "source": [
    "# Final['일반용 전기의 비율'] = Final.append(Rate)\n",
    "# Final"
   ],
   "metadata": {
    "collapsed": false,
    "pycharm": {
     "name": "#%%\n"
    }
   }
  },
  {
   "cell_type": "markdown",
   "source": [
    "### 6. 날짜 체크!!!!!!!!!!!!!!!!!!!!1"
   ],
   "metadata": {
    "collapsed": false,
    "pycharm": {
     "name": "#%% md\n"
    }
   }
  },
  {
   "cell_type": "code",
   "execution_count": 63,
   "outputs": [],
   "source": [
    "Final.to_csv(\"{}_일반용_전력사용량_2101-06.csv\".format(City) , mode = 'w' , encoding= 'cp949' , index =False) #파일명 수정"
   ],
   "metadata": {
    "collapsed": false,
    "pycharm": {
     "name": "#%%\n"
    }
   }
  },
  {
   "cell_type": "code",
   "execution_count": 106,
   "outputs": [],
   "source": [],
   "metadata": {
    "collapsed": false,
    "pycharm": {
     "name": "#%%\n"
    }
   }
  },
  {
   "cell_type": "code",
   "execution_count": 107,
   "outputs": [],
   "source": [
    "# Sigu = list(set(df_3['시군구'].tolist()))\n",
    "#\n",
    "# Sigu.sort()\n",
    "#\n",
    "# Sigu"
   ],
   "metadata": {
    "collapsed": false,
    "pycharm": {
     "name": "#%%\n"
    }
   }
  },
  {
   "cell_type": "code",
   "execution_count": 108,
   "outputs": [],
   "source": [
    "# YearMonth = list(set(df_3['년월'].tolist()))\n",
    "#\n",
    "# YearMonth.sort()\n",
    "# YearMonth"
   ],
   "metadata": {
    "collapsed": false,
    "pycharm": {
     "name": "#%%\n"
    }
   }
  },
  {
   "cell_type": "code",
   "execution_count": 109,
   "outputs": [],
   "source": [
    "# Gayeak = list(set(df_3['계약구분'].tolist()))\n",
    "#\n",
    "# Gayeak.sort()\n",
    "# Gayeak"
   ],
   "metadata": {
    "collapsed": false,
    "pycharm": {
     "name": "#%%\n"
    }
   }
  },
  {
   "cell_type": "code",
   "execution_count": 110,
   "outputs": [],
   "source": [
    "# SEOUL = df_3.loc[(df_3['계약구분'] =='일반용')]\n",
    "# SEOUL.drop(['고객호수(호)' ,'전기요금(원)' , '평균판매단가(원/kWh)'] , axis = 1 , inplace = True)\n",
    "# #SEOUL.dtypes(['사용량(kWh)'])\n",
    "# SEOUL"
   ],
   "metadata": {
    "collapsed": false,
    "pycharm": {
     "name": "#%%\n"
    }
   }
  },
  {
   "cell_type": "code",
   "execution_count": 111,
   "outputs": [],
   "source": [
    "#SEOUL.to_csv(\"서울특별시_일반용_전력사용량.csv\" , mode = 'w' , encoding= 'cp949')"
   ],
   "metadata": {
    "collapsed": false,
    "pycharm": {
     "name": "#%%\n"
    }
   }
  },
  {
   "cell_type": "code",
   "execution_count": 112,
   "outputs": [],
   "source": [
    "# print(SEOUL.dtypes)\n",
    "# SEOUL = SEOUL.astype({'사용량(kWh)' : 'float'})"
   ],
   "metadata": {
    "collapsed": false,
    "pycharm": {
     "name": "#%%\n"
    }
   }
  },
  {
   "cell_type": "code",
   "execution_count": 113,
   "outputs": [],
   "source": [
    "# SEOUL"
   ],
   "metadata": {
    "collapsed": false,
    "pycharm": {
     "name": "#%%\n"
    }
   }
  },
  {
   "cell_type": "code",
   "execution_count": 114,
   "outputs": [],
   "source": [
    "# a = SEOUL['사용량(kWh)'].tolist()\n",
    "# int_list = map(int, a)\n",
    "# b=0\n",
    "# for i in int_list:\n",
    "#     b+=i\n",
    "#\n",
    "# print(b)"
   ],
   "metadata": {
    "collapsed": false,
    "pycharm": {
     "name": "#%%\n"
    }
   }
  },
  {
   "cell_type": "code",
   "execution_count": 114,
   "outputs": [],
   "source": [],
   "metadata": {
    "collapsed": false,
    "pycharm": {
     "name": "#%%\n"
    }
   }
  },
  {
   "cell_type": "code",
   "execution_count": 114,
   "outputs": [],
   "source": [],
   "metadata": {
    "collapsed": false,
    "pycharm": {
     "name": "#%%\n"
    }
   }
  },
  {
   "cell_type": "code",
   "execution_count": 114,
   "outputs": [],
   "source": [],
   "metadata": {
    "collapsed": false,
    "pycharm": {
     "name": "#%%\n"
    }
   }
  },
  {
   "cell_type": "code",
   "execution_count": 114,
   "outputs": [],
   "source": [],
   "metadata": {
    "collapsed": false,
    "pycharm": {
     "name": "#%%\n"
    }
   }
  },
  {
   "cell_type": "code",
   "execution_count": 114,
   "outputs": [],
   "source": [],
   "metadata": {
    "collapsed": false,
    "pycharm": {
     "name": "#%%\n"
    }
   }
  },
  {
   "cell_type": "code",
   "execution_count": 114,
   "outputs": [],
   "source": [],
   "metadata": {
    "collapsed": false,
    "pycharm": {
     "name": "#%%\n"
    }
   }
  },
  {
   "cell_type": "code",
   "execution_count": 114,
   "outputs": [],
   "source": [],
   "metadata": {
    "collapsed": false,
    "pycharm": {
     "name": "#%%\n"
    }
   }
  }
 ],
 "metadata": {
  "kernelspec": {
   "display_name": "Python 3",
   "language": "python",
   "name": "python3"
  },
  "language_info": {
   "codemirror_mode": {
    "name": "ipython",
    "version": 2
   },
   "file_extension": ".py",
   "mimetype": "text/x-python",
   "name": "python",
   "nbconvert_exporter": "python",
   "pygments_lexer": "ipython2",
   "version": "2.7.6"
  }
 },
 "nbformat": 4,
 "nbformat_minor": 0
}