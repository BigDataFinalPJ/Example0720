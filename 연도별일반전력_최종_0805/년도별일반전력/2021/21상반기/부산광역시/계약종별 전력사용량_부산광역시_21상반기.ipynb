{
 "cells": [
  {
   "cell_type": "markdown",
   "source": [],
   "metadata": {
    "collapsed": false,
    "pycharm": {
     "name": "#%% md\n"
    }
   }
  },
  {
   "cell_type": "code",
   "execution_count": 1,
   "outputs": [],
   "source": [
    "import pandas as pd\n",
    "import re\n",
    "\n",
    "pd.options.display.float_format = '{:.0f}'.format"
   ],
   "metadata": {
    "collapsed": false,
    "pycharm": {
     "name": "#%%\n"
    }
   }
  },
  {
   "cell_type": "markdown",
   "source": [
    "### 1. 꼭 read_csv 21상반기, 19하반기와 같이 맞추어 주세요!!! 또한 지역(전라북도, 남도) 맞추기!!!!!"
   ],
   "metadata": {
    "collapsed": false,
    "pycharm": {
     "name": "#%% md\n"
    }
   }
  },
  {
   "cell_type": "code",
   "execution_count": 2,
   "outputs": [
    {
     "data": {
      "text/plain": "        계약종별 전력사용량 월별( 20220804 현재 ) Unnamed: 1     Unnamed: 2 Unnamed: 3  \\\n0    시도 : 부산광역시, 시군구 : 전체(시 / 군 / 구)        NaN            NaN        NaN   \n1        기간 : 2021년 01 월 ~ 2021년 06월        NaN            NaN        NaN   \n2                                 년월         시구            시군구       계약구분   \n3                             202101      부산광역시  전체(시 / 군 / 구)        주택용   \n4                             202101      부산광역시  전체(시 / 군 / 구)        일반용   \n..                               ...        ...            ...        ...   \n811                           202106      부산광역시           해운대구        산업용   \n812                           202106      부산광역시           해운대구        심 야   \n813                           202106      부산광역시           해운대구        일반용   \n814                           202106      부산광역시           해운대구        주택용   \n815                           202106      부산광역시           해운대구         합계   \n\n    Unnamed: 4    Unnamed: 5       Unnamed: 6     Unnamed: 7  \n0          NaN           NaN              NaN            NaN  \n1          NaN           NaN              NaN            NaN  \n2      고객호수(호)      사용량(kWh)          전기요금(원)  평균판매단가(원/kWh)  \n3     954,501   461,241,639   52,841,511,084          114.6   \n4     189,868   585,762,157   78,577,155,442          134.1   \n..         ...           ...              ...            ...  \n811       917    17,616,771    2,191,755,594          124.4   \n812       775     2,052,158      124,899,619           60.9   \n813    14,866    70,798,799    9,696,864,101            137   \n814    72,634    53,473,122    5,774,890,900            108   \n815    94,767   147,733,296   18,211,465,955          123.3   \n\n[816 rows x 8 columns]",
      "text/html": "<div>\n<style scoped>\n    .dataframe tbody tr th:only-of-type {\n        vertical-align: middle;\n    }\n\n    .dataframe tbody tr th {\n        vertical-align: top;\n    }\n\n    .dataframe thead th {\n        text-align: right;\n    }\n</style>\n<table border=\"1\" class=\"dataframe\">\n  <thead>\n    <tr style=\"text-align: right;\">\n      <th></th>\n      <th>계약종별 전력사용량 월별( 20220804 현재 )</th>\n      <th>Unnamed: 1</th>\n      <th>Unnamed: 2</th>\n      <th>Unnamed: 3</th>\n      <th>Unnamed: 4</th>\n      <th>Unnamed: 5</th>\n      <th>Unnamed: 6</th>\n      <th>Unnamed: 7</th>\n    </tr>\n  </thead>\n  <tbody>\n    <tr>\n      <th>0</th>\n      <td>시도 : 부산광역시, 시군구 : 전체(시 / 군 / 구)</td>\n      <td>NaN</td>\n      <td>NaN</td>\n      <td>NaN</td>\n      <td>NaN</td>\n      <td>NaN</td>\n      <td>NaN</td>\n      <td>NaN</td>\n    </tr>\n    <tr>\n      <th>1</th>\n      <td>기간 : 2021년 01 월 ~ 2021년 06월</td>\n      <td>NaN</td>\n      <td>NaN</td>\n      <td>NaN</td>\n      <td>NaN</td>\n      <td>NaN</td>\n      <td>NaN</td>\n      <td>NaN</td>\n    </tr>\n    <tr>\n      <th>2</th>\n      <td>년월</td>\n      <td>시구</td>\n      <td>시군구</td>\n      <td>계약구분</td>\n      <td>고객호수(호)</td>\n      <td>사용량(kWh)</td>\n      <td>전기요금(원)</td>\n      <td>평균판매단가(원/kWh)</td>\n    </tr>\n    <tr>\n      <th>3</th>\n      <td>202101</td>\n      <td>부산광역시</td>\n      <td>전체(시 / 군 / 구)</td>\n      <td>주택용</td>\n      <td>954,501</td>\n      <td>461,241,639</td>\n      <td>52,841,511,084</td>\n      <td>114.6</td>\n    </tr>\n    <tr>\n      <th>4</th>\n      <td>202101</td>\n      <td>부산광역시</td>\n      <td>전체(시 / 군 / 구)</td>\n      <td>일반용</td>\n      <td>189,868</td>\n      <td>585,762,157</td>\n      <td>78,577,155,442</td>\n      <td>134.1</td>\n    </tr>\n    <tr>\n      <th>...</th>\n      <td>...</td>\n      <td>...</td>\n      <td>...</td>\n      <td>...</td>\n      <td>...</td>\n      <td>...</td>\n      <td>...</td>\n      <td>...</td>\n    </tr>\n    <tr>\n      <th>811</th>\n      <td>202106</td>\n      <td>부산광역시</td>\n      <td>해운대구</td>\n      <td>산업용</td>\n      <td>917</td>\n      <td>17,616,771</td>\n      <td>2,191,755,594</td>\n      <td>124.4</td>\n    </tr>\n    <tr>\n      <th>812</th>\n      <td>202106</td>\n      <td>부산광역시</td>\n      <td>해운대구</td>\n      <td>심 야</td>\n      <td>775</td>\n      <td>2,052,158</td>\n      <td>124,899,619</td>\n      <td>60.9</td>\n    </tr>\n    <tr>\n      <th>813</th>\n      <td>202106</td>\n      <td>부산광역시</td>\n      <td>해운대구</td>\n      <td>일반용</td>\n      <td>14,866</td>\n      <td>70,798,799</td>\n      <td>9,696,864,101</td>\n      <td>137</td>\n    </tr>\n    <tr>\n      <th>814</th>\n      <td>202106</td>\n      <td>부산광역시</td>\n      <td>해운대구</td>\n      <td>주택용</td>\n      <td>72,634</td>\n      <td>53,473,122</td>\n      <td>5,774,890,900</td>\n      <td>108</td>\n    </tr>\n    <tr>\n      <th>815</th>\n      <td>202106</td>\n      <td>부산광역시</td>\n      <td>해운대구</td>\n      <td>합계</td>\n      <td>94,767</td>\n      <td>147,733,296</td>\n      <td>18,211,465,955</td>\n      <td>123.3</td>\n    </tr>\n  </tbody>\n</table>\n<p>816 rows × 8 columns</p>\n</div>"
     },
     "execution_count": 2,
     "metadata": {},
     "output_type": "execute_result"
    }
   ],
   "source": [
    "df = pd.read_csv('부산광역시_계약종별_전력사용량_월별_21상반기.csv' , encoding='cp949')\n",
    "\n",
    "df\n",
    "#exchng=  pd.read_csv('지역별_전력거래량_20220803093050.csv' , encoding='cp949')"
   ],
   "metadata": {
    "collapsed": false,
    "pycharm": {
     "name": "#%%\n"
    }
   }
  },
  {
   "cell_type": "code",
   "execution_count": 3,
   "outputs": [
    {
     "data": {
      "text/plain": "    계약종별 전력사용량 월별( 20220804 현재 ) Unnamed: 1     Unnamed: 2 Unnamed: 3  \\\n2                             년월         시구            시군구       계약구분   \n3                         202101      부산광역시  전체(시 / 군 / 구)        주택용   \n4                         202101      부산광역시  전체(시 / 군 / 구)        일반용   \n5                         202101      부산광역시  전체(시 / 군 / 구)        교육용   \n6                         202101      부산광역시  전체(시 / 군 / 구)        산업용   \n..                           ...        ...            ...        ...   \n811                       202106      부산광역시           해운대구        산업용   \n812                       202106      부산광역시           해운대구        심 야   \n813                       202106      부산광역시           해운대구        일반용   \n814                       202106      부산광역시           해운대구        주택용   \n815                       202106      부산광역시           해운대구         합계   \n\n    Unnamed: 4    Unnamed: 5       Unnamed: 6     Unnamed: 7  \n2      고객호수(호)      사용량(kWh)          전기요금(원)  평균판매단가(원/kWh)  \n3     954,501   461,241,639   52,841,511,084          114.6   \n4     189,868   585,762,157   78,577,155,442          134.1   \n5       1,140    46,087,711    4,718,020,171          102.4   \n6      24,858   703,997,152   89,526,688,287          127.2   \n..         ...           ...              ...            ...  \n811       917    17,616,771    2,191,755,594          124.4   \n812       775     2,052,158      124,899,619           60.9   \n813    14,866    70,798,799    9,696,864,101            137   \n814    72,634    53,473,122    5,774,890,900            108   \n815    94,767   147,733,296   18,211,465,955          123.3   \n\n[813 rows x 8 columns]",
      "text/html": "<div>\n<style scoped>\n    .dataframe tbody tr th:only-of-type {\n        vertical-align: middle;\n    }\n\n    .dataframe tbody tr th {\n        vertical-align: top;\n    }\n\n    .dataframe thead th {\n        text-align: right;\n    }\n</style>\n<table border=\"1\" class=\"dataframe\">\n  <thead>\n    <tr style=\"text-align: right;\">\n      <th></th>\n      <th>계약종별 전력사용량 월별( 20220804 현재 )</th>\n      <th>Unnamed: 1</th>\n      <th>Unnamed: 2</th>\n      <th>Unnamed: 3</th>\n      <th>Unnamed: 4</th>\n      <th>Unnamed: 5</th>\n      <th>Unnamed: 6</th>\n      <th>Unnamed: 7</th>\n    </tr>\n  </thead>\n  <tbody>\n    <tr>\n      <th>2</th>\n      <td>년월</td>\n      <td>시구</td>\n      <td>시군구</td>\n      <td>계약구분</td>\n      <td>고객호수(호)</td>\n      <td>사용량(kWh)</td>\n      <td>전기요금(원)</td>\n      <td>평균판매단가(원/kWh)</td>\n    </tr>\n    <tr>\n      <th>3</th>\n      <td>202101</td>\n      <td>부산광역시</td>\n      <td>전체(시 / 군 / 구)</td>\n      <td>주택용</td>\n      <td>954,501</td>\n      <td>461,241,639</td>\n      <td>52,841,511,084</td>\n      <td>114.6</td>\n    </tr>\n    <tr>\n      <th>4</th>\n      <td>202101</td>\n      <td>부산광역시</td>\n      <td>전체(시 / 군 / 구)</td>\n      <td>일반용</td>\n      <td>189,868</td>\n      <td>585,762,157</td>\n      <td>78,577,155,442</td>\n      <td>134.1</td>\n    </tr>\n    <tr>\n      <th>5</th>\n      <td>202101</td>\n      <td>부산광역시</td>\n      <td>전체(시 / 군 / 구)</td>\n      <td>교육용</td>\n      <td>1,140</td>\n      <td>46,087,711</td>\n      <td>4,718,020,171</td>\n      <td>102.4</td>\n    </tr>\n    <tr>\n      <th>6</th>\n      <td>202101</td>\n      <td>부산광역시</td>\n      <td>전체(시 / 군 / 구)</td>\n      <td>산업용</td>\n      <td>24,858</td>\n      <td>703,997,152</td>\n      <td>89,526,688,287</td>\n      <td>127.2</td>\n    </tr>\n    <tr>\n      <th>...</th>\n      <td>...</td>\n      <td>...</td>\n      <td>...</td>\n      <td>...</td>\n      <td>...</td>\n      <td>...</td>\n      <td>...</td>\n      <td>...</td>\n    </tr>\n    <tr>\n      <th>811</th>\n      <td>202106</td>\n      <td>부산광역시</td>\n      <td>해운대구</td>\n      <td>산업용</td>\n      <td>917</td>\n      <td>17,616,771</td>\n      <td>2,191,755,594</td>\n      <td>124.4</td>\n    </tr>\n    <tr>\n      <th>812</th>\n      <td>202106</td>\n      <td>부산광역시</td>\n      <td>해운대구</td>\n      <td>심 야</td>\n      <td>775</td>\n      <td>2,052,158</td>\n      <td>124,899,619</td>\n      <td>60.9</td>\n    </tr>\n    <tr>\n      <th>813</th>\n      <td>202106</td>\n      <td>부산광역시</td>\n      <td>해운대구</td>\n      <td>일반용</td>\n      <td>14,866</td>\n      <td>70,798,799</td>\n      <td>9,696,864,101</td>\n      <td>137</td>\n    </tr>\n    <tr>\n      <th>814</th>\n      <td>202106</td>\n      <td>부산광역시</td>\n      <td>해운대구</td>\n      <td>주택용</td>\n      <td>72,634</td>\n      <td>53,473,122</td>\n      <td>5,774,890,900</td>\n      <td>108</td>\n    </tr>\n    <tr>\n      <th>815</th>\n      <td>202106</td>\n      <td>부산광역시</td>\n      <td>해운대구</td>\n      <td>합계</td>\n      <td>94,767</td>\n      <td>147,733,296</td>\n      <td>18,211,465,955</td>\n      <td>123.3</td>\n    </tr>\n  </tbody>\n</table>\n<p>813 rows × 8 columns</p>\n</div>"
     },
     "execution_count": 3,
     "metadata": {},
     "output_type": "execute_result"
    }
   ],
   "source": [
    "df = df.drop([0,1 , 46] , axis = 0)\n",
    "#0,1 , 10은 지우는게 맞다\n",
    "df"
   ],
   "metadata": {
    "collapsed": false,
    "pycharm": {
     "name": "#%%\n"
    }
   }
  },
  {
   "cell_type": "code",
   "execution_count": 4,
   "outputs": [],
   "source": [
    "a= df.loc[2].tolist()\n",
    "a\n",
    "df = df.drop([2] , axis = 0)"
   ],
   "metadata": {
    "collapsed": false,
    "pycharm": {
     "name": "#%%\n"
    }
   }
  },
  {
   "cell_type": "code",
   "execution_count": 5,
   "outputs": [
    {
     "data": {
      "text/plain": "         년월     시구            시군구 계약구분   고객호수(호)      사용량(kWh)  \\\n3    202101  부산광역시  전체(시 / 군 / 구)  주택용  954,501   461,241,639    \n4    202101  부산광역시  전체(시 / 군 / 구)  일반용  189,868   585,762,157    \n5    202101  부산광역시  전체(시 / 군 / 구)  교육용    1,140    46,087,711    \n6    202101  부산광역시  전체(시 / 군 / 구)  산업용   24,858   703,997,152    \n7    202101  부산광역시  전체(시 / 군 / 구)  농사용   12,058    14,380,143    \n..      ...    ...            ...  ...       ...           ...   \n811  202106  부산광역시           해운대구  산업용      917    17,616,771    \n812  202106  부산광역시           해운대구  심 야      775     2,052,158    \n813  202106  부산광역시           해운대구  일반용   14,866    70,798,799    \n814  202106  부산광역시           해운대구  주택용   72,634    53,473,122    \n815  202106  부산광역시           해운대구   합계   94,767   147,733,296    \n\n             전기요금(원) 평균판매단가(원/kWh)  \n3    52,841,511,084         114.6   \n4    78,577,155,442         134.1   \n5     4,718,020,171         102.4   \n6    89,526,688,287         127.2   \n7       653,644,217          45.5   \n..               ...           ...  \n811   2,191,755,594         124.4   \n812     124,899,619          60.9   \n813   9,696,864,101           137   \n814   5,774,890,900           108   \n815  18,211,465,955         123.3   \n\n[812 rows x 8 columns]",
      "text/html": "<div>\n<style scoped>\n    .dataframe tbody tr th:only-of-type {\n        vertical-align: middle;\n    }\n\n    .dataframe tbody tr th {\n        vertical-align: top;\n    }\n\n    .dataframe thead th {\n        text-align: right;\n    }\n</style>\n<table border=\"1\" class=\"dataframe\">\n  <thead>\n    <tr style=\"text-align: right;\">\n      <th></th>\n      <th>년월</th>\n      <th>시구</th>\n      <th>시군구</th>\n      <th>계약구분</th>\n      <th>고객호수(호)</th>\n      <th>사용량(kWh)</th>\n      <th>전기요금(원)</th>\n      <th>평균판매단가(원/kWh)</th>\n    </tr>\n  </thead>\n  <tbody>\n    <tr>\n      <th>3</th>\n      <td>202101</td>\n      <td>부산광역시</td>\n      <td>전체(시 / 군 / 구)</td>\n      <td>주택용</td>\n      <td>954,501</td>\n      <td>461,241,639</td>\n      <td>52,841,511,084</td>\n      <td>114.6</td>\n    </tr>\n    <tr>\n      <th>4</th>\n      <td>202101</td>\n      <td>부산광역시</td>\n      <td>전체(시 / 군 / 구)</td>\n      <td>일반용</td>\n      <td>189,868</td>\n      <td>585,762,157</td>\n      <td>78,577,155,442</td>\n      <td>134.1</td>\n    </tr>\n    <tr>\n      <th>5</th>\n      <td>202101</td>\n      <td>부산광역시</td>\n      <td>전체(시 / 군 / 구)</td>\n      <td>교육용</td>\n      <td>1,140</td>\n      <td>46,087,711</td>\n      <td>4,718,020,171</td>\n      <td>102.4</td>\n    </tr>\n    <tr>\n      <th>6</th>\n      <td>202101</td>\n      <td>부산광역시</td>\n      <td>전체(시 / 군 / 구)</td>\n      <td>산업용</td>\n      <td>24,858</td>\n      <td>703,997,152</td>\n      <td>89,526,688,287</td>\n      <td>127.2</td>\n    </tr>\n    <tr>\n      <th>7</th>\n      <td>202101</td>\n      <td>부산광역시</td>\n      <td>전체(시 / 군 / 구)</td>\n      <td>농사용</td>\n      <td>12,058</td>\n      <td>14,380,143</td>\n      <td>653,644,217</td>\n      <td>45.5</td>\n    </tr>\n    <tr>\n      <th>...</th>\n      <td>...</td>\n      <td>...</td>\n      <td>...</td>\n      <td>...</td>\n      <td>...</td>\n      <td>...</td>\n      <td>...</td>\n      <td>...</td>\n    </tr>\n    <tr>\n      <th>811</th>\n      <td>202106</td>\n      <td>부산광역시</td>\n      <td>해운대구</td>\n      <td>산업용</td>\n      <td>917</td>\n      <td>17,616,771</td>\n      <td>2,191,755,594</td>\n      <td>124.4</td>\n    </tr>\n    <tr>\n      <th>812</th>\n      <td>202106</td>\n      <td>부산광역시</td>\n      <td>해운대구</td>\n      <td>심 야</td>\n      <td>775</td>\n      <td>2,052,158</td>\n      <td>124,899,619</td>\n      <td>60.9</td>\n    </tr>\n    <tr>\n      <th>813</th>\n      <td>202106</td>\n      <td>부산광역시</td>\n      <td>해운대구</td>\n      <td>일반용</td>\n      <td>14,866</td>\n      <td>70,798,799</td>\n      <td>9,696,864,101</td>\n      <td>137</td>\n    </tr>\n    <tr>\n      <th>814</th>\n      <td>202106</td>\n      <td>부산광역시</td>\n      <td>해운대구</td>\n      <td>주택용</td>\n      <td>72,634</td>\n      <td>53,473,122</td>\n      <td>5,774,890,900</td>\n      <td>108</td>\n    </tr>\n    <tr>\n      <th>815</th>\n      <td>202106</td>\n      <td>부산광역시</td>\n      <td>해운대구</td>\n      <td>합계</td>\n      <td>94,767</td>\n      <td>147,733,296</td>\n      <td>18,211,465,955</td>\n      <td>123.3</td>\n    </tr>\n  </tbody>\n</table>\n<p>812 rows × 8 columns</p>\n</div>"
     },
     "execution_count": 5,
     "metadata": {},
     "output_type": "execute_result"
    }
   ],
   "source": [
    "df.columns = a\n",
    "df"
   ],
   "metadata": {
    "collapsed": false,
    "pycharm": {
     "name": "#%%\n"
    }
   }
  },
  {
   "cell_type": "code",
   "execution_count": 6,
   "outputs": [
    {
     "data": {
      "text/plain": "        년월     시구            시군구 계약구분    고객호수(호)        사용량(kWh)  \\\n3   202101  부산광역시  전체(시 / 군 / 구)  주택용   954,501     461,241,639    \n4   202101  부산광역시  전체(시 / 군 / 구)  일반용   189,868     585,762,157    \n5   202101  부산광역시  전체(시 / 군 / 구)  교육용     1,140      46,087,711    \n6   202101  부산광역시  전체(시 / 군 / 구)  산업용    24,858     703,997,152    \n7   202101  부산광역시  전체(시 / 군 / 구)  농사용    12,058      14,380,143    \n8   202101  부산광역시  전체(시 / 군 / 구)  가로등    87,327      16,211,181    \n9   202101  부산광역시  전체(시 / 군 / 구)  심 야    18,672      34,599,558    \n10  202102  부산광역시  전체(시 / 군 / 구)  주택용   954,242     445,134,316    \n11  202102  부산광역시  전체(시 / 군 / 구)  일반용   189,943     553,258,253    \n12  202102  부산광역시  전체(시 / 군 / 구)  교육용     1,140      41,694,853    \n13  202102  부산광역시  전체(시 / 군 / 구)  산업용    24,845     662,287,938    \n14  202102  부산광역시  전체(시 / 군 / 구)  농사용    12,082      12,590,459    \n15  202102  부산광역시  전체(시 / 군 / 구)  가로등    87,466      15,357,756    \n16  202102  부산광역시  전체(시 / 군 / 구)  심 야    18,596      32,011,524    \n17  202103  부산광역시  전체(시 / 군 / 구)  주택용   954,087     383,660,829    \n18  202103  부산광역시  전체(시 / 군 / 구)  일반용   190,084     486,543,702    \n19  202103  부산광역시  전체(시 / 군 / 구)  교육용     1,145      37,005,985    \n20  202103  부산광역시  전체(시 / 군 / 구)  산업용    24,845     701,518,591    \n21  202103  부산광역시  전체(시 / 군 / 구)  농사용    12,254       9,338,039    \n22  202103  부산광역시  전체(시 / 군 / 구)  가로등    87,244      14,274,225    \n23  202103  부산광역시  전체(시 / 군 / 구)  심 야    18,508      24,150,980    \n24  202104  부산광역시  전체(시 / 군 / 구)  주택용   954,390     398,811,878    \n25  202104  부산광역시  전체(시 / 군 / 구)  일반용   190,417     474,073,660    \n26  202104  부산광역시  전체(시 / 군 / 구)  교육용     1,144      33,516,687    \n27  202104  부산광역시  전체(시 / 군 / 구)  산업용    24,834     707,415,654    \n28  202104  부산광역시  전체(시 / 군 / 구)  농사용    12,205       8,649,347    \n29  202104  부산광역시  전체(시 / 군 / 구)  가로등    87,374      13,516,963    \n30  202104  부산광역시  전체(시 / 군 / 구)  심 야    18,403      18,356,108    \n31  202105  부산광역시  전체(시 / 군 / 구)  주택용   954,762     374,807,474    \n32  202105  부산광역시  전체(시 / 군 / 구)  일반용   190,624     459,396,256    \n33  202105  부산광역시  전체(시 / 군 / 구)  교육용     1,144      27,613,069    \n34  202105  부산광역시  전체(시 / 군 / 구)  산업용    24,813     676,710,737    \n35  202105  부산광역시  전체(시 / 군 / 구)  농사용    12,236       7,577,831    \n36  202105  부산광역시  전체(시 / 군 / 구)  가로등    87,421      13,035,199    \n37  202105  부산광역시  전체(시 / 군 / 구)  심 야    18,294      13,080,292    \n38  202106  부산광역시  전체(시 / 군 / 구)  주택용   954,901     389,611,098    \n39  202106  부산광역시  전체(시 / 군 / 구)  일반용   191,091     517,268,067    \n40  202106  부산광역시  전체(시 / 군 / 구)  교육용     1,144      32,127,292    \n41  202106  부산광역시  전체(시 / 군 / 구)  산업용    24,785     706,246,591    \n42  202106  부산광역시  전체(시 / 군 / 구)  농사용    12,271       7,736,497    \n43  202106  부산광역시  전체(시 / 군 / 구)  가로등    87,419      11,953,528    \n44  202106  부산광역시  전체(시 / 군 / 구)  심 야    18,222      12,011,109    \n45      합계     합계             합계   합계  7,732,799  10,184,622,328   \n\n              전기요금(원) 평균판매단가(원/kWh)  \n3     52,841,511,084         114.6   \n4     78,577,155,442         134.1   \n5      4,718,020,171         102.4   \n6     89,526,688,287         127.2   \n7        653,644,217          45.5   \n8      1,679,660,007         103.6   \n9      2,531,794,346          73.2   \n10    49,664,153,655         111.6   \n11    75,179,426,136         135.9   \n12     4,356,514,374         104.5   \n13    82,705,545,836         124.9   \n14       585,100,663          46.5   \n15     1,653,954,568         107.7   \n16     2,343,532,821          73.2   \n17    38,278,960,802          99.8   \n18    61,200,348,114         125.8   \n19     3,734,553,620         100.9   \n20    72,795,332,282         103.8   \n21       456,697,853          48.9   \n22     1,541,949,324         108.0   \n23     1,570,444,228          65.0   \n24    40,661,526,850         102.0   \n25    55,465,332,749         117.0   \n26     3,022,814,332          90.2   \n27    71,605,542,455         101.2   \n28       425,615,999          49.2   \n29     1,502,783,558         111.2   \n30       997,298,930          54.3   \n31    36,673,366,542          97.8   \n32    54,243,139,155         118.1   \n33     2,528,984,705          91.6   \n34    68,226,204,368         100.8   \n35       379,893,358          50.1   \n36     1,477,811,427         113.4   \n37       748,116,867          57.2   \n38    39,055,359,376         100.2   \n39    70,118,104,889         135.6   \n40     3,632,640,437         113.1   \n41    87,592,962,181         124.0   \n42       384,236,560          49.7   \n43     1,400,050,064         117.1   \n44       712,431,352          59.3   \n45  1,167,449,203,984         114.6  ",
      "text/html": "<div>\n<style scoped>\n    .dataframe tbody tr th:only-of-type {\n        vertical-align: middle;\n    }\n\n    .dataframe tbody tr th {\n        vertical-align: top;\n    }\n\n    .dataframe thead th {\n        text-align: right;\n    }\n</style>\n<table border=\"1\" class=\"dataframe\">\n  <thead>\n    <tr style=\"text-align: right;\">\n      <th></th>\n      <th>년월</th>\n      <th>시구</th>\n      <th>시군구</th>\n      <th>계약구분</th>\n      <th>고객호수(호)</th>\n      <th>사용량(kWh)</th>\n      <th>전기요금(원)</th>\n      <th>평균판매단가(원/kWh)</th>\n    </tr>\n  </thead>\n  <tbody>\n    <tr>\n      <th>3</th>\n      <td>202101</td>\n      <td>부산광역시</td>\n      <td>전체(시 / 군 / 구)</td>\n      <td>주택용</td>\n      <td>954,501</td>\n      <td>461,241,639</td>\n      <td>52,841,511,084</td>\n      <td>114.6</td>\n    </tr>\n    <tr>\n      <th>4</th>\n      <td>202101</td>\n      <td>부산광역시</td>\n      <td>전체(시 / 군 / 구)</td>\n      <td>일반용</td>\n      <td>189,868</td>\n      <td>585,762,157</td>\n      <td>78,577,155,442</td>\n      <td>134.1</td>\n    </tr>\n    <tr>\n      <th>5</th>\n      <td>202101</td>\n      <td>부산광역시</td>\n      <td>전체(시 / 군 / 구)</td>\n      <td>교육용</td>\n      <td>1,140</td>\n      <td>46,087,711</td>\n      <td>4,718,020,171</td>\n      <td>102.4</td>\n    </tr>\n    <tr>\n      <th>6</th>\n      <td>202101</td>\n      <td>부산광역시</td>\n      <td>전체(시 / 군 / 구)</td>\n      <td>산업용</td>\n      <td>24,858</td>\n      <td>703,997,152</td>\n      <td>89,526,688,287</td>\n      <td>127.2</td>\n    </tr>\n    <tr>\n      <th>7</th>\n      <td>202101</td>\n      <td>부산광역시</td>\n      <td>전체(시 / 군 / 구)</td>\n      <td>농사용</td>\n      <td>12,058</td>\n      <td>14,380,143</td>\n      <td>653,644,217</td>\n      <td>45.5</td>\n    </tr>\n    <tr>\n      <th>8</th>\n      <td>202101</td>\n      <td>부산광역시</td>\n      <td>전체(시 / 군 / 구)</td>\n      <td>가로등</td>\n      <td>87,327</td>\n      <td>16,211,181</td>\n      <td>1,679,660,007</td>\n      <td>103.6</td>\n    </tr>\n    <tr>\n      <th>9</th>\n      <td>202101</td>\n      <td>부산광역시</td>\n      <td>전체(시 / 군 / 구)</td>\n      <td>심 야</td>\n      <td>18,672</td>\n      <td>34,599,558</td>\n      <td>2,531,794,346</td>\n      <td>73.2</td>\n    </tr>\n    <tr>\n      <th>10</th>\n      <td>202102</td>\n      <td>부산광역시</td>\n      <td>전체(시 / 군 / 구)</td>\n      <td>주택용</td>\n      <td>954,242</td>\n      <td>445,134,316</td>\n      <td>49,664,153,655</td>\n      <td>111.6</td>\n    </tr>\n    <tr>\n      <th>11</th>\n      <td>202102</td>\n      <td>부산광역시</td>\n      <td>전체(시 / 군 / 구)</td>\n      <td>일반용</td>\n      <td>189,943</td>\n      <td>553,258,253</td>\n      <td>75,179,426,136</td>\n      <td>135.9</td>\n    </tr>\n    <tr>\n      <th>12</th>\n      <td>202102</td>\n      <td>부산광역시</td>\n      <td>전체(시 / 군 / 구)</td>\n      <td>교육용</td>\n      <td>1,140</td>\n      <td>41,694,853</td>\n      <td>4,356,514,374</td>\n      <td>104.5</td>\n    </tr>\n    <tr>\n      <th>13</th>\n      <td>202102</td>\n      <td>부산광역시</td>\n      <td>전체(시 / 군 / 구)</td>\n      <td>산업용</td>\n      <td>24,845</td>\n      <td>662,287,938</td>\n      <td>82,705,545,836</td>\n      <td>124.9</td>\n    </tr>\n    <tr>\n      <th>14</th>\n      <td>202102</td>\n      <td>부산광역시</td>\n      <td>전체(시 / 군 / 구)</td>\n      <td>농사용</td>\n      <td>12,082</td>\n      <td>12,590,459</td>\n      <td>585,100,663</td>\n      <td>46.5</td>\n    </tr>\n    <tr>\n      <th>15</th>\n      <td>202102</td>\n      <td>부산광역시</td>\n      <td>전체(시 / 군 / 구)</td>\n      <td>가로등</td>\n      <td>87,466</td>\n      <td>15,357,756</td>\n      <td>1,653,954,568</td>\n      <td>107.7</td>\n    </tr>\n    <tr>\n      <th>16</th>\n      <td>202102</td>\n      <td>부산광역시</td>\n      <td>전체(시 / 군 / 구)</td>\n      <td>심 야</td>\n      <td>18,596</td>\n      <td>32,011,524</td>\n      <td>2,343,532,821</td>\n      <td>73.2</td>\n    </tr>\n    <tr>\n      <th>17</th>\n      <td>202103</td>\n      <td>부산광역시</td>\n      <td>전체(시 / 군 / 구)</td>\n      <td>주택용</td>\n      <td>954,087</td>\n      <td>383,660,829</td>\n      <td>38,278,960,802</td>\n      <td>99.8</td>\n    </tr>\n    <tr>\n      <th>18</th>\n      <td>202103</td>\n      <td>부산광역시</td>\n      <td>전체(시 / 군 / 구)</td>\n      <td>일반용</td>\n      <td>190,084</td>\n      <td>486,543,702</td>\n      <td>61,200,348,114</td>\n      <td>125.8</td>\n    </tr>\n    <tr>\n      <th>19</th>\n      <td>202103</td>\n      <td>부산광역시</td>\n      <td>전체(시 / 군 / 구)</td>\n      <td>교육용</td>\n      <td>1,145</td>\n      <td>37,005,985</td>\n      <td>3,734,553,620</td>\n      <td>100.9</td>\n    </tr>\n    <tr>\n      <th>20</th>\n      <td>202103</td>\n      <td>부산광역시</td>\n      <td>전체(시 / 군 / 구)</td>\n      <td>산업용</td>\n      <td>24,845</td>\n      <td>701,518,591</td>\n      <td>72,795,332,282</td>\n      <td>103.8</td>\n    </tr>\n    <tr>\n      <th>21</th>\n      <td>202103</td>\n      <td>부산광역시</td>\n      <td>전체(시 / 군 / 구)</td>\n      <td>농사용</td>\n      <td>12,254</td>\n      <td>9,338,039</td>\n      <td>456,697,853</td>\n      <td>48.9</td>\n    </tr>\n    <tr>\n      <th>22</th>\n      <td>202103</td>\n      <td>부산광역시</td>\n      <td>전체(시 / 군 / 구)</td>\n      <td>가로등</td>\n      <td>87,244</td>\n      <td>14,274,225</td>\n      <td>1,541,949,324</td>\n      <td>108.0</td>\n    </tr>\n    <tr>\n      <th>23</th>\n      <td>202103</td>\n      <td>부산광역시</td>\n      <td>전체(시 / 군 / 구)</td>\n      <td>심 야</td>\n      <td>18,508</td>\n      <td>24,150,980</td>\n      <td>1,570,444,228</td>\n      <td>65.0</td>\n    </tr>\n    <tr>\n      <th>24</th>\n      <td>202104</td>\n      <td>부산광역시</td>\n      <td>전체(시 / 군 / 구)</td>\n      <td>주택용</td>\n      <td>954,390</td>\n      <td>398,811,878</td>\n      <td>40,661,526,850</td>\n      <td>102.0</td>\n    </tr>\n    <tr>\n      <th>25</th>\n      <td>202104</td>\n      <td>부산광역시</td>\n      <td>전체(시 / 군 / 구)</td>\n      <td>일반용</td>\n      <td>190,417</td>\n      <td>474,073,660</td>\n      <td>55,465,332,749</td>\n      <td>117.0</td>\n    </tr>\n    <tr>\n      <th>26</th>\n      <td>202104</td>\n      <td>부산광역시</td>\n      <td>전체(시 / 군 / 구)</td>\n      <td>교육용</td>\n      <td>1,144</td>\n      <td>33,516,687</td>\n      <td>3,022,814,332</td>\n      <td>90.2</td>\n    </tr>\n    <tr>\n      <th>27</th>\n      <td>202104</td>\n      <td>부산광역시</td>\n      <td>전체(시 / 군 / 구)</td>\n      <td>산업용</td>\n      <td>24,834</td>\n      <td>707,415,654</td>\n      <td>71,605,542,455</td>\n      <td>101.2</td>\n    </tr>\n    <tr>\n      <th>28</th>\n      <td>202104</td>\n      <td>부산광역시</td>\n      <td>전체(시 / 군 / 구)</td>\n      <td>농사용</td>\n      <td>12,205</td>\n      <td>8,649,347</td>\n      <td>425,615,999</td>\n      <td>49.2</td>\n    </tr>\n    <tr>\n      <th>29</th>\n      <td>202104</td>\n      <td>부산광역시</td>\n      <td>전체(시 / 군 / 구)</td>\n      <td>가로등</td>\n      <td>87,374</td>\n      <td>13,516,963</td>\n      <td>1,502,783,558</td>\n      <td>111.2</td>\n    </tr>\n    <tr>\n      <th>30</th>\n      <td>202104</td>\n      <td>부산광역시</td>\n      <td>전체(시 / 군 / 구)</td>\n      <td>심 야</td>\n      <td>18,403</td>\n      <td>18,356,108</td>\n      <td>997,298,930</td>\n      <td>54.3</td>\n    </tr>\n    <tr>\n      <th>31</th>\n      <td>202105</td>\n      <td>부산광역시</td>\n      <td>전체(시 / 군 / 구)</td>\n      <td>주택용</td>\n      <td>954,762</td>\n      <td>374,807,474</td>\n      <td>36,673,366,542</td>\n      <td>97.8</td>\n    </tr>\n    <tr>\n      <th>32</th>\n      <td>202105</td>\n      <td>부산광역시</td>\n      <td>전체(시 / 군 / 구)</td>\n      <td>일반용</td>\n      <td>190,624</td>\n      <td>459,396,256</td>\n      <td>54,243,139,155</td>\n      <td>118.1</td>\n    </tr>\n    <tr>\n      <th>33</th>\n      <td>202105</td>\n      <td>부산광역시</td>\n      <td>전체(시 / 군 / 구)</td>\n      <td>교육용</td>\n      <td>1,144</td>\n      <td>27,613,069</td>\n      <td>2,528,984,705</td>\n      <td>91.6</td>\n    </tr>\n    <tr>\n      <th>34</th>\n      <td>202105</td>\n      <td>부산광역시</td>\n      <td>전체(시 / 군 / 구)</td>\n      <td>산업용</td>\n      <td>24,813</td>\n      <td>676,710,737</td>\n      <td>68,226,204,368</td>\n      <td>100.8</td>\n    </tr>\n    <tr>\n      <th>35</th>\n      <td>202105</td>\n      <td>부산광역시</td>\n      <td>전체(시 / 군 / 구)</td>\n      <td>농사용</td>\n      <td>12,236</td>\n      <td>7,577,831</td>\n      <td>379,893,358</td>\n      <td>50.1</td>\n    </tr>\n    <tr>\n      <th>36</th>\n      <td>202105</td>\n      <td>부산광역시</td>\n      <td>전체(시 / 군 / 구)</td>\n      <td>가로등</td>\n      <td>87,421</td>\n      <td>13,035,199</td>\n      <td>1,477,811,427</td>\n      <td>113.4</td>\n    </tr>\n    <tr>\n      <th>37</th>\n      <td>202105</td>\n      <td>부산광역시</td>\n      <td>전체(시 / 군 / 구)</td>\n      <td>심 야</td>\n      <td>18,294</td>\n      <td>13,080,292</td>\n      <td>748,116,867</td>\n      <td>57.2</td>\n    </tr>\n    <tr>\n      <th>38</th>\n      <td>202106</td>\n      <td>부산광역시</td>\n      <td>전체(시 / 군 / 구)</td>\n      <td>주택용</td>\n      <td>954,901</td>\n      <td>389,611,098</td>\n      <td>39,055,359,376</td>\n      <td>100.2</td>\n    </tr>\n    <tr>\n      <th>39</th>\n      <td>202106</td>\n      <td>부산광역시</td>\n      <td>전체(시 / 군 / 구)</td>\n      <td>일반용</td>\n      <td>191,091</td>\n      <td>517,268,067</td>\n      <td>70,118,104,889</td>\n      <td>135.6</td>\n    </tr>\n    <tr>\n      <th>40</th>\n      <td>202106</td>\n      <td>부산광역시</td>\n      <td>전체(시 / 군 / 구)</td>\n      <td>교육용</td>\n      <td>1,144</td>\n      <td>32,127,292</td>\n      <td>3,632,640,437</td>\n      <td>113.1</td>\n    </tr>\n    <tr>\n      <th>41</th>\n      <td>202106</td>\n      <td>부산광역시</td>\n      <td>전체(시 / 군 / 구)</td>\n      <td>산업용</td>\n      <td>24,785</td>\n      <td>706,246,591</td>\n      <td>87,592,962,181</td>\n      <td>124.0</td>\n    </tr>\n    <tr>\n      <th>42</th>\n      <td>202106</td>\n      <td>부산광역시</td>\n      <td>전체(시 / 군 / 구)</td>\n      <td>농사용</td>\n      <td>12,271</td>\n      <td>7,736,497</td>\n      <td>384,236,560</td>\n      <td>49.7</td>\n    </tr>\n    <tr>\n      <th>43</th>\n      <td>202106</td>\n      <td>부산광역시</td>\n      <td>전체(시 / 군 / 구)</td>\n      <td>가로등</td>\n      <td>87,419</td>\n      <td>11,953,528</td>\n      <td>1,400,050,064</td>\n      <td>117.1</td>\n    </tr>\n    <tr>\n      <th>44</th>\n      <td>202106</td>\n      <td>부산광역시</td>\n      <td>전체(시 / 군 / 구)</td>\n      <td>심 야</td>\n      <td>18,222</td>\n      <td>12,011,109</td>\n      <td>712,431,352</td>\n      <td>59.3</td>\n    </tr>\n    <tr>\n      <th>45</th>\n      <td>합계</td>\n      <td>합계</td>\n      <td>합계</td>\n      <td>합계</td>\n      <td>7,732,799</td>\n      <td>10,184,622,328</td>\n      <td>1,167,449,203,984</td>\n      <td>114.6</td>\n    </tr>\n  </tbody>\n</table>\n</div>"
     },
     "execution_count": 6,
     "metadata": {},
     "output_type": "execute_result"
    }
   ],
   "source": [
    "df_2 = df.loc[:45]\n",
    "df_2\n"
   ],
   "metadata": {
    "collapsed": false,
    "pycharm": {
     "name": "#%%\n"
    }
   }
  },
  {
   "cell_type": "code",
   "execution_count": 7,
   "outputs": [
    {
     "name": "stderr",
     "output_type": "stream",
     "text": [
      "C:\\Users\\user\\AppData\\Local\\Temp\\ipykernel_9976\\3551721261.py:3: SettingWithCopyWarning: \n",
      "A value is trying to be set on a copy of a slice from a DataFrame\n",
      "\n",
      "See the caveats in the documentation: https://pandas.pydata.org/pandas-docs/stable/user_guide/indexing.html#returning-a-view-versus-a-copy\n",
      "  GyeonGi.drop(['시군구' , '전기요금(원)' , '평균판매단가(원/kWh)'] , axis = 1 , inplace = True)\n"
     ]
    },
    {
     "data": {
      "text/plain": "        년월     시구 계약구분   고객호수(호)      사용량(kWh)\n4   202101  부산광역시  일반용  189,868   585,762,157 \n11  202102  부산광역시  일반용  189,943   553,258,253 \n18  202103  부산광역시  일반용  190,084   486,543,702 \n25  202104  부산광역시  일반용  190,417   474,073,660 \n32  202105  부산광역시  일반용  190,624   459,396,256 \n39  202106  부산광역시  일반용  191,091   517,268,067 ",
      "text/html": "<div>\n<style scoped>\n    .dataframe tbody tr th:only-of-type {\n        vertical-align: middle;\n    }\n\n    .dataframe tbody tr th {\n        vertical-align: top;\n    }\n\n    .dataframe thead th {\n        text-align: right;\n    }\n</style>\n<table border=\"1\" class=\"dataframe\">\n  <thead>\n    <tr style=\"text-align: right;\">\n      <th></th>\n      <th>년월</th>\n      <th>시구</th>\n      <th>계약구분</th>\n      <th>고객호수(호)</th>\n      <th>사용량(kWh)</th>\n    </tr>\n  </thead>\n  <tbody>\n    <tr>\n      <th>4</th>\n      <td>202101</td>\n      <td>부산광역시</td>\n      <td>일반용</td>\n      <td>189,868</td>\n      <td>585,762,157</td>\n    </tr>\n    <tr>\n      <th>11</th>\n      <td>202102</td>\n      <td>부산광역시</td>\n      <td>일반용</td>\n      <td>189,943</td>\n      <td>553,258,253</td>\n    </tr>\n    <tr>\n      <th>18</th>\n      <td>202103</td>\n      <td>부산광역시</td>\n      <td>일반용</td>\n      <td>190,084</td>\n      <td>486,543,702</td>\n    </tr>\n    <tr>\n      <th>25</th>\n      <td>202104</td>\n      <td>부산광역시</td>\n      <td>일반용</td>\n      <td>190,417</td>\n      <td>474,073,660</td>\n    </tr>\n    <tr>\n      <th>32</th>\n      <td>202105</td>\n      <td>부산광역시</td>\n      <td>일반용</td>\n      <td>190,624</td>\n      <td>459,396,256</td>\n    </tr>\n    <tr>\n      <th>39</th>\n      <td>202106</td>\n      <td>부산광역시</td>\n      <td>일반용</td>\n      <td>191,091</td>\n      <td>517,268,067</td>\n    </tr>\n  </tbody>\n</table>\n</div>"
     },
     "execution_count": 7,
     "metadata": {},
     "output_type": "execute_result"
    }
   ],
   "source": [
    "GyeonGi  = df_2.loc[(df_2['계약구분'] == '일반용')]\n",
    "#SEOUL = df_3.loc[(df_3['계약구분'] =='일반용')]\n",
    "GyeonGi.drop(['시군구' , '전기요금(원)' , '평균판매단가(원/kWh)'] , axis = 1 , inplace = True)\n",
    "GyeonGi"
   ],
   "metadata": {
    "collapsed": false,
    "pycharm": {
     "name": "#%%\n"
    }
   }
  },
  {
   "cell_type": "code",
   "execution_count": 8,
   "outputs": [],
   "source": [
    "#SEOUL1.to_csv(\"서울특별시_계약종별_전국_전력사용량_2022.csv\" , mode = 'w' , encoding= 'cp949')"
   ],
   "metadata": {
    "collapsed": false,
    "pycharm": {
     "name": "#%%\n"
    }
   }
  },
  {
   "cell_type": "code",
   "execution_count": 9,
   "outputs": [],
   "source": [
    "#df_2.to_csv(\"서울특별시_계약종별_전국_전력사용량.csv\" , mode = 'w' , encoding= 'cp949')"
   ],
   "metadata": {
    "collapsed": false,
    "pycharm": {
     "name": "#%%\n"
    }
   }
  },
  {
   "cell_type": "code",
   "execution_count": 10,
   "outputs": [
    {
     "data": {
      "text/plain": "         년월     시구   시군구 계약구분  고객호수(호)     사용량(kWh)\n53   202101  부산광역시   강서구  일반용  10,377   43,658,821 \n181  202102  부산광역시   강서구  일반용  10,400   40,109,279 \n309  202103  부산광역시   강서구  일반용  10,412   37,128,536 \n437  202104  부산광역시   강서구  일반용  10,490   37,233,560 \n565  202105  부산광역시   강서구  일반용  10,525   38,966,357 \n..      ...    ...   ...  ...      ...          ...\n301  202102  부산광역시  해운대구  일반용  14,821   69,327,730 \n429  202103  부산광역시  해운대구  일반용  14,807   64,751,798 \n557  202104  부산광역시  해운대구  일반용  14,808   62,012,037 \n685  202105  부산광역시  해운대구  일반용  14,838   62,450,850 \n813  202106  부산광역시  해운대구  일반용  14,866   70,798,799 \n\n[96 rows x 6 columns]",
      "text/html": "<div>\n<style scoped>\n    .dataframe tbody tr th:only-of-type {\n        vertical-align: middle;\n    }\n\n    .dataframe tbody tr th {\n        vertical-align: top;\n    }\n\n    .dataframe thead th {\n        text-align: right;\n    }\n</style>\n<table border=\"1\" class=\"dataframe\">\n  <thead>\n    <tr style=\"text-align: right;\">\n      <th></th>\n      <th>년월</th>\n      <th>시구</th>\n      <th>시군구</th>\n      <th>계약구분</th>\n      <th>고객호수(호)</th>\n      <th>사용량(kWh)</th>\n    </tr>\n  </thead>\n  <tbody>\n    <tr>\n      <th>53</th>\n      <td>202101</td>\n      <td>부산광역시</td>\n      <td>강서구</td>\n      <td>일반용</td>\n      <td>10,377</td>\n      <td>43,658,821</td>\n    </tr>\n    <tr>\n      <th>181</th>\n      <td>202102</td>\n      <td>부산광역시</td>\n      <td>강서구</td>\n      <td>일반용</td>\n      <td>10,400</td>\n      <td>40,109,279</td>\n    </tr>\n    <tr>\n      <th>309</th>\n      <td>202103</td>\n      <td>부산광역시</td>\n      <td>강서구</td>\n      <td>일반용</td>\n      <td>10,412</td>\n      <td>37,128,536</td>\n    </tr>\n    <tr>\n      <th>437</th>\n      <td>202104</td>\n      <td>부산광역시</td>\n      <td>강서구</td>\n      <td>일반용</td>\n      <td>10,490</td>\n      <td>37,233,560</td>\n    </tr>\n    <tr>\n      <th>565</th>\n      <td>202105</td>\n      <td>부산광역시</td>\n      <td>강서구</td>\n      <td>일반용</td>\n      <td>10,525</td>\n      <td>38,966,357</td>\n    </tr>\n    <tr>\n      <th>...</th>\n      <td>...</td>\n      <td>...</td>\n      <td>...</td>\n      <td>...</td>\n      <td>...</td>\n      <td>...</td>\n    </tr>\n    <tr>\n      <th>301</th>\n      <td>202102</td>\n      <td>부산광역시</td>\n      <td>해운대구</td>\n      <td>일반용</td>\n      <td>14,821</td>\n      <td>69,327,730</td>\n    </tr>\n    <tr>\n      <th>429</th>\n      <td>202103</td>\n      <td>부산광역시</td>\n      <td>해운대구</td>\n      <td>일반용</td>\n      <td>14,807</td>\n      <td>64,751,798</td>\n    </tr>\n    <tr>\n      <th>557</th>\n      <td>202104</td>\n      <td>부산광역시</td>\n      <td>해운대구</td>\n      <td>일반용</td>\n      <td>14,808</td>\n      <td>62,012,037</td>\n    </tr>\n    <tr>\n      <th>685</th>\n      <td>202105</td>\n      <td>부산광역시</td>\n      <td>해운대구</td>\n      <td>일반용</td>\n      <td>14,838</td>\n      <td>62,450,850</td>\n    </tr>\n    <tr>\n      <th>813</th>\n      <td>202106</td>\n      <td>부산광역시</td>\n      <td>해운대구</td>\n      <td>일반용</td>\n      <td>14,866</td>\n      <td>70,798,799</td>\n    </tr>\n  </tbody>\n</table>\n<p>96 rows × 6 columns</p>\n</div>"
     },
     "execution_count": 10,
     "metadata": {},
     "output_type": "execute_result"
    }
   ],
   "source": [
    "df_3 = df.loc[48:]\n",
    "df_3 = df_3.loc[(df_3['계약구분'] == '일반용')]\n",
    "df_3 = df_3.sort_values(by=['시군구' , '년월'])\n",
    "df_3.drop(['전기요금(원)',   '평균판매단가(원/kWh)'] , axis = 1 , inplace = True)\n",
    "df_3"
   ],
   "metadata": {
    "collapsed": false,
    "pycharm": {
     "name": "#%%\n"
    }
   }
  },
  {
   "cell_type": "code",
   "execution_count": 11,
   "outputs": [
    {
     "data": {
      "text/plain": "'부산광역시'"
     },
     "execution_count": 11,
     "metadata": {},
     "output_type": "execute_result"
    }
   ],
   "source": [
    "a = df_3.loc[: , \"시구\"]\n",
    "b = a[:1].tolist()\n",
    "for i in b:\n",
    "    City = i\n",
    "City"
   ],
   "metadata": {
    "collapsed": false,
    "pycharm": {
     "name": "#%%\n"
    }
   }
  },
  {
   "cell_type": "code",
   "execution_count": 12,
   "outputs": [
    {
     "data": {
      "text/plain": "['강서구',\n '금정구',\n '기장군',\n '남구',\n '동구',\n '동래구',\n '부산진구',\n '북구',\n '사상구',\n '사하구',\n '서구',\n '수영구',\n '연제구',\n '영도구',\n '중구',\n '해운대구']"
     },
     "execution_count": 12,
     "metadata": {},
     "output_type": "execute_result"
    }
   ],
   "source": [
    "\n",
    "SIGUNGU = list(set(df_3.loc[: , '시군구'].tolist()))\n",
    "SIGUNGU.sort()\n",
    "SIGUNGU"
   ],
   "metadata": {
    "collapsed": false,
    "pycharm": {
     "name": "#%%\n"
    }
   }
  },
  {
   "cell_type": "code",
   "execution_count": 13,
   "outputs": [
    {
     "data": {
      "text/plain": "         년월     시구   시군구 계약구분  고객호수(호)      사용량(kWh)\n55   202101  부산광역시   강서구   합계  56,074   377,291,190 \n183  202102  부산광역시   강서구   합계  56,148   341,370,537 \n311  202103  부산광역시   강서구   합계  56,256   351,231,598 \n439  202104  부산광역시   강서구   합계  56,371   352,385,597 \n567  202105  부산광역시   강서구   합계  56,393   339,757,045 \n..      ...    ...   ...  ...      ...           ...\n303  202102  부산광역시  해운대구   합계  94,704   152,957,923 \n431  202103  부산광역시  해운대구   합계  94,685   141,437,097 \n559  202104  부산광역시  해운대구   합계  94,668   139,717,530 \n687  202105  부산광역시  해운대구   합계  94,669   136,737,891 \n815  202106  부산광역시  해운대구   합계  94,767   147,733,296 \n\n[96 rows x 6 columns]",
      "text/html": "<div>\n<style scoped>\n    .dataframe tbody tr th:only-of-type {\n        vertical-align: middle;\n    }\n\n    .dataframe tbody tr th {\n        vertical-align: top;\n    }\n\n    .dataframe thead th {\n        text-align: right;\n    }\n</style>\n<table border=\"1\" class=\"dataframe\">\n  <thead>\n    <tr style=\"text-align: right;\">\n      <th></th>\n      <th>년월</th>\n      <th>시구</th>\n      <th>시군구</th>\n      <th>계약구분</th>\n      <th>고객호수(호)</th>\n      <th>사용량(kWh)</th>\n    </tr>\n  </thead>\n  <tbody>\n    <tr>\n      <th>55</th>\n      <td>202101</td>\n      <td>부산광역시</td>\n      <td>강서구</td>\n      <td>합계</td>\n      <td>56,074</td>\n      <td>377,291,190</td>\n    </tr>\n    <tr>\n      <th>183</th>\n      <td>202102</td>\n      <td>부산광역시</td>\n      <td>강서구</td>\n      <td>합계</td>\n      <td>56,148</td>\n      <td>341,370,537</td>\n    </tr>\n    <tr>\n      <th>311</th>\n      <td>202103</td>\n      <td>부산광역시</td>\n      <td>강서구</td>\n      <td>합계</td>\n      <td>56,256</td>\n      <td>351,231,598</td>\n    </tr>\n    <tr>\n      <th>439</th>\n      <td>202104</td>\n      <td>부산광역시</td>\n      <td>강서구</td>\n      <td>합계</td>\n      <td>56,371</td>\n      <td>352,385,597</td>\n    </tr>\n    <tr>\n      <th>567</th>\n      <td>202105</td>\n      <td>부산광역시</td>\n      <td>강서구</td>\n      <td>합계</td>\n      <td>56,393</td>\n      <td>339,757,045</td>\n    </tr>\n    <tr>\n      <th>...</th>\n      <td>...</td>\n      <td>...</td>\n      <td>...</td>\n      <td>...</td>\n      <td>...</td>\n      <td>...</td>\n    </tr>\n    <tr>\n      <th>303</th>\n      <td>202102</td>\n      <td>부산광역시</td>\n      <td>해운대구</td>\n      <td>합계</td>\n      <td>94,704</td>\n      <td>152,957,923</td>\n    </tr>\n    <tr>\n      <th>431</th>\n      <td>202103</td>\n      <td>부산광역시</td>\n      <td>해운대구</td>\n      <td>합계</td>\n      <td>94,685</td>\n      <td>141,437,097</td>\n    </tr>\n    <tr>\n      <th>559</th>\n      <td>202104</td>\n      <td>부산광역시</td>\n      <td>해운대구</td>\n      <td>합계</td>\n      <td>94,668</td>\n      <td>139,717,530</td>\n    </tr>\n    <tr>\n      <th>687</th>\n      <td>202105</td>\n      <td>부산광역시</td>\n      <td>해운대구</td>\n      <td>합계</td>\n      <td>94,669</td>\n      <td>136,737,891</td>\n    </tr>\n    <tr>\n      <th>815</th>\n      <td>202106</td>\n      <td>부산광역시</td>\n      <td>해운대구</td>\n      <td>합계</td>\n      <td>94,767</td>\n      <td>147,733,296</td>\n    </tr>\n  </tbody>\n</table>\n<p>96 rows × 6 columns</p>\n</div>"
     },
     "execution_count": 13,
     "metadata": {},
     "output_type": "execute_result"
    }
   ],
   "source": [
    "df_4 = df.loc[48:]\n",
    "df_4 = df_4.loc[(df_4['계약구분'] == '합계')]\n",
    "df_4 = df_4.sort_values(by=['시군구' , '년월'])\n",
    "df_4.drop(['전기요금(원)',   '평균판매단가(원/kWh)'] , axis = 1 , inplace = True)\n",
    "df_4"
   ],
   "metadata": {
    "collapsed": false,
    "pycharm": {
     "name": "#%%\n"
    }
   }
  },
  {
   "cell_type": "code",
   "execution_count": 14,
   "outputs": [
    {
     "name": "stdout",
     "output_type": "stream",
     "text": [
      "[377291190, 341370537, 351231598, 352385597, 339757045, 360661007]\n",
      "[103120961, 96785434, 85628952, 84868670, 79492154, 84179172]\n",
      "[78498510, 103850584, 97151138, 100317773, 90279860, 96279127]\n",
      "[130899627, 121503923, 115395911, 113706853, 110446456, 116094678]\n",
      "[49135832, 45681348, 40548986, 39630275, 37224682, 39905653]\n",
      "[87288104, 83661167, 73262773, 73139287, 69133479, 73383694]\n",
      "[157203473, 147541153, 131237210, 129681648, 122995795, 133121362]\n",
      "[82136024, 78438891, 67824143, 68342900, 64415329, 68970901]\n",
      "[149269846, 141061059, 128580935, 129204264, 119992989, 127260683]\n",
      "[220897252, 201382238, 205972406, 206084596, 197004376, 207104777]\n",
      "[54373851, 49737915, 46080039, 45458455, 43552194, 47300240]\n",
      "[56617260, 54155391, 46733852, 46809923, 43768596, 47539993]\n",
      "[73041207, 69808811, 60821858, 60195970, 57365326, 62497323]\n",
      "[44789471, 43120556, 37296823, 38273734, 35011446, 37288252]\n",
      "[33153896, 31278169, 27288630, 26522822, 25043240, 27634024]\n",
      "[164563037, 152957923, 141437097, 139717530, 136737891, 147733296]\n",
      "부산광역시 지역별 합계 :  [2122696974, 534075343, 566376992, 708047448, 252126776, 459868504, 821780641, 430128188, 795369776, 1238445645, 286502694, 295625015, 383730495, 235780282, 170920781, 883146774]\n",
      "부산광역시 고객호수 평균:  [9382, 18729, 9556, 16540, 8907, 15613, 22924, 12961, 13944, 19435, 10165, 12749, 12047, 9637, 6422, 15783]\n"
     ]
    }
   ],
   "source": [
    "sum2 , sum3 =[] , []\n",
    "for k in SIGUNGU:\n",
    "    GyeonGiHap = pd.DataFrame([] , columns = a)\n",
    "    HOSU = pd.DataFrame([], columns = a)\n",
    "    GyeonGiHap['사용량']= df_4['사용량(kWh)'].loc[(df_4['시군구'] == '{}'.format(k))]\n",
    "    HOSU['고객호수']= df_4['고객호수(호)'].loc[(df_4['시군구'] == '{}'.format(k))]\n",
    "    #경기합 데이터프레임의 사용량 열에 기군구가 가평군인 사용량 데이터만 뽑아내기\n",
    "    # GyeonGiHap = GyeonGiHap['사용량']\n",
    "\n",
    "    b = GyeonGiHap['사용량'].tolist()\n",
    "    c = HOSU['고객호수'].tolist()\n",
    "\n",
    "\n",
    "    #각지역별 사용량 리스트화\n",
    "    int_list  , int_list2=[] , []\n",
    "    for i in b:\n",
    "        i = re.sub(\",\" , \"\" , i)\n",
    "        #콤마 없애기\n",
    "        int_list.append(int(i))\n",
    "        #int_list에 각지역별 사용량 int로 저장\n",
    "    print(int_list)\n",
    "    sum=0\n",
    "    for i in c:\n",
    "        i = re.sub(\",\" , \"\" , i)\n",
    "        int_list2.append(int(i))\n",
    "\n",
    "    for j in int_list:\n",
    "\n",
    "        sum+= j\n",
    "    sum2.append(sum)\n",
    "    sum = 0\n",
    "    for j in int_list2: #고객호수 추출하여 더하기\n",
    "\n",
    "        sum+= j\n",
    "    sum3.append(sum//36) #6개월 치로 나눠야하나?!\n",
    "\n",
    "\n",
    "\n",
    "\n",
    "print(\"{} 지역별 합계 : \".format(City) , sum2)\n",
    "print(\"{} 고객호수 평균: \".format(City) , sum3)"
   ],
   "metadata": {
    "collapsed": false,
    "pycharm": {
     "name": "#%%\n"
    }
   }
  },
  {
   "cell_type": "markdown",
   "source": [
    "### 2. 날짜 체크!!!!!!!!!!!!!!!!!!!!!!!!!!!!!!!!!!!!!!!!!!!!!!"
   ],
   "metadata": {
    "collapsed": false,
    "pycharm": {
     "name": "#%% md\n"
    }
   }
  },
  {
   "cell_type": "code",
   "execution_count": 15,
   "outputs": [
    {
     "name": "stderr",
     "output_type": "stream",
     "text": [
      "C:\\Users\\user\\AppData\\Local\\Temp\\ipykernel_9976\\1481603074.py:4: FutureWarning: The frame.append method is deprecated and will be removed from pandas in a future version. Use pandas.concat instead.\n",
      "  Hap = Hap.append({'년월' :'202101-202106'  , '시구' : '{}'.format(City) , '시군구' : '{}'.format(SIGUNGU[i]) , '계약구분' : '합계' , '고객호수(호)' : sum3[i] ,  '사용량(kWh)' : sum2[i]} , ignore_index=True) #년월 파일마다 수정하기\n",
      "C:\\Users\\user\\AppData\\Local\\Temp\\ipykernel_9976\\1481603074.py:4: FutureWarning: The frame.append method is deprecated and will be removed from pandas in a future version. Use pandas.concat instead.\n",
      "  Hap = Hap.append({'년월' :'202101-202106'  , '시구' : '{}'.format(City) , '시군구' : '{}'.format(SIGUNGU[i]) , '계약구분' : '합계' , '고객호수(호)' : sum3[i] ,  '사용량(kWh)' : sum2[i]} , ignore_index=True) #년월 파일마다 수정하기\n",
      "C:\\Users\\user\\AppData\\Local\\Temp\\ipykernel_9976\\1481603074.py:4: FutureWarning: The frame.append method is deprecated and will be removed from pandas in a future version. Use pandas.concat instead.\n",
      "  Hap = Hap.append({'년월' :'202101-202106'  , '시구' : '{}'.format(City) , '시군구' : '{}'.format(SIGUNGU[i]) , '계약구분' : '합계' , '고객호수(호)' : sum3[i] ,  '사용량(kWh)' : sum2[i]} , ignore_index=True) #년월 파일마다 수정하기\n",
      "C:\\Users\\user\\AppData\\Local\\Temp\\ipykernel_9976\\1481603074.py:4: FutureWarning: The frame.append method is deprecated and will be removed from pandas in a future version. Use pandas.concat instead.\n",
      "  Hap = Hap.append({'년월' :'202101-202106'  , '시구' : '{}'.format(City) , '시군구' : '{}'.format(SIGUNGU[i]) , '계약구분' : '합계' , '고객호수(호)' : sum3[i] ,  '사용량(kWh)' : sum2[i]} , ignore_index=True) #년월 파일마다 수정하기\n",
      "C:\\Users\\user\\AppData\\Local\\Temp\\ipykernel_9976\\1481603074.py:4: FutureWarning: The frame.append method is deprecated and will be removed from pandas in a future version. Use pandas.concat instead.\n",
      "  Hap = Hap.append({'년월' :'202101-202106'  , '시구' : '{}'.format(City) , '시군구' : '{}'.format(SIGUNGU[i]) , '계약구분' : '합계' , '고객호수(호)' : sum3[i] ,  '사용량(kWh)' : sum2[i]} , ignore_index=True) #년월 파일마다 수정하기\n",
      "C:\\Users\\user\\AppData\\Local\\Temp\\ipykernel_9976\\1481603074.py:4: FutureWarning: The frame.append method is deprecated and will be removed from pandas in a future version. Use pandas.concat instead.\n",
      "  Hap = Hap.append({'년월' :'202101-202106'  , '시구' : '{}'.format(City) , '시군구' : '{}'.format(SIGUNGU[i]) , '계약구분' : '합계' , '고객호수(호)' : sum3[i] ,  '사용량(kWh)' : sum2[i]} , ignore_index=True) #년월 파일마다 수정하기\n",
      "C:\\Users\\user\\AppData\\Local\\Temp\\ipykernel_9976\\1481603074.py:4: FutureWarning: The frame.append method is deprecated and will be removed from pandas in a future version. Use pandas.concat instead.\n",
      "  Hap = Hap.append({'년월' :'202101-202106'  , '시구' : '{}'.format(City) , '시군구' : '{}'.format(SIGUNGU[i]) , '계약구분' : '합계' , '고객호수(호)' : sum3[i] ,  '사용량(kWh)' : sum2[i]} , ignore_index=True) #년월 파일마다 수정하기\n",
      "C:\\Users\\user\\AppData\\Local\\Temp\\ipykernel_9976\\1481603074.py:4: FutureWarning: The frame.append method is deprecated and will be removed from pandas in a future version. Use pandas.concat instead.\n",
      "  Hap = Hap.append({'년월' :'202101-202106'  , '시구' : '{}'.format(City) , '시군구' : '{}'.format(SIGUNGU[i]) , '계약구분' : '합계' , '고객호수(호)' : sum3[i] ,  '사용량(kWh)' : sum2[i]} , ignore_index=True) #년월 파일마다 수정하기\n",
      "C:\\Users\\user\\AppData\\Local\\Temp\\ipykernel_9976\\1481603074.py:4: FutureWarning: The frame.append method is deprecated and will be removed from pandas in a future version. Use pandas.concat instead.\n",
      "  Hap = Hap.append({'년월' :'202101-202106'  , '시구' : '{}'.format(City) , '시군구' : '{}'.format(SIGUNGU[i]) , '계약구분' : '합계' , '고객호수(호)' : sum3[i] ,  '사용량(kWh)' : sum2[i]} , ignore_index=True) #년월 파일마다 수정하기\n",
      "C:\\Users\\user\\AppData\\Local\\Temp\\ipykernel_9976\\1481603074.py:4: FutureWarning: The frame.append method is deprecated and will be removed from pandas in a future version. Use pandas.concat instead.\n",
      "  Hap = Hap.append({'년월' :'202101-202106'  , '시구' : '{}'.format(City) , '시군구' : '{}'.format(SIGUNGU[i]) , '계약구분' : '합계' , '고객호수(호)' : sum3[i] ,  '사용량(kWh)' : sum2[i]} , ignore_index=True) #년월 파일마다 수정하기\n",
      "C:\\Users\\user\\AppData\\Local\\Temp\\ipykernel_9976\\1481603074.py:4: FutureWarning: The frame.append method is deprecated and will be removed from pandas in a future version. Use pandas.concat instead.\n",
      "  Hap = Hap.append({'년월' :'202101-202106'  , '시구' : '{}'.format(City) , '시군구' : '{}'.format(SIGUNGU[i]) , '계약구분' : '합계' , '고객호수(호)' : sum3[i] ,  '사용량(kWh)' : sum2[i]} , ignore_index=True) #년월 파일마다 수정하기\n",
      "C:\\Users\\user\\AppData\\Local\\Temp\\ipykernel_9976\\1481603074.py:4: FutureWarning: The frame.append method is deprecated and will be removed from pandas in a future version. Use pandas.concat instead.\n",
      "  Hap = Hap.append({'년월' :'202101-202106'  , '시구' : '{}'.format(City) , '시군구' : '{}'.format(SIGUNGU[i]) , '계약구분' : '합계' , '고객호수(호)' : sum3[i] ,  '사용량(kWh)' : sum2[i]} , ignore_index=True) #년월 파일마다 수정하기\n",
      "C:\\Users\\user\\AppData\\Local\\Temp\\ipykernel_9976\\1481603074.py:4: FutureWarning: The frame.append method is deprecated and will be removed from pandas in a future version. Use pandas.concat instead.\n",
      "  Hap = Hap.append({'년월' :'202101-202106'  , '시구' : '{}'.format(City) , '시군구' : '{}'.format(SIGUNGU[i]) , '계약구분' : '합계' , '고객호수(호)' : sum3[i] ,  '사용량(kWh)' : sum2[i]} , ignore_index=True) #년월 파일마다 수정하기\n",
      "C:\\Users\\user\\AppData\\Local\\Temp\\ipykernel_9976\\1481603074.py:4: FutureWarning: The frame.append method is deprecated and will be removed from pandas in a future version. Use pandas.concat instead.\n",
      "  Hap = Hap.append({'년월' :'202101-202106'  , '시구' : '{}'.format(City) , '시군구' : '{}'.format(SIGUNGU[i]) , '계약구분' : '합계' , '고객호수(호)' : sum3[i] ,  '사용량(kWh)' : sum2[i]} , ignore_index=True) #년월 파일마다 수정하기\n",
      "C:\\Users\\user\\AppData\\Local\\Temp\\ipykernel_9976\\1481603074.py:4: FutureWarning: The frame.append method is deprecated and will be removed from pandas in a future version. Use pandas.concat instead.\n",
      "  Hap = Hap.append({'년월' :'202101-202106'  , '시구' : '{}'.format(City) , '시군구' : '{}'.format(SIGUNGU[i]) , '계약구분' : '합계' , '고객호수(호)' : sum3[i] ,  '사용량(kWh)' : sum2[i]} , ignore_index=True) #년월 파일마다 수정하기\n",
      "C:\\Users\\user\\AppData\\Local\\Temp\\ipykernel_9976\\1481603074.py:4: FutureWarning: The frame.append method is deprecated and will be removed from pandas in a future version. Use pandas.concat instead.\n",
      "  Hap = Hap.append({'년월' :'202101-202106'  , '시구' : '{}'.format(City) , '시군구' : '{}'.format(SIGUNGU[i]) , '계약구분' : '합계' , '고객호수(호)' : sum3[i] ,  '사용량(kWh)' : sum2[i]} , ignore_index=True) #년월 파일마다 수정하기\n"
     ]
    },
    {
     "data": {
      "text/plain": "                년월     시구   시군구 계약구분  고객호수(호)      사용량(kWh)\n0           202101  부산광역시   강서구   합계  56,074   377,291,190 \n1           202102  부산광역시   강서구   합계  56,148   341,370,537 \n2           202103  부산광역시   강서구   합계  56,256   351,231,598 \n3           202104  부산광역시   강서구   합계  56,371   352,385,597 \n4           202105  부산광역시   강서구   합계  56,393   339,757,045 \n..             ...    ...   ...  ...      ...           ...\n107  202101-202106  부산광역시   수영구   합계    12749     295625015\n108  202101-202106  부산광역시   연제구   합계    12047     383730495\n109  202101-202106  부산광역시   영도구   합계     9637     235780282\n110  202101-202106  부산광역시    중구   합계     6422     170920781\n111  202101-202106  부산광역시  해운대구   합계    15783     883146774\n\n[112 rows x 6 columns]",
      "text/html": "<div>\n<style scoped>\n    .dataframe tbody tr th:only-of-type {\n        vertical-align: middle;\n    }\n\n    .dataframe tbody tr th {\n        vertical-align: top;\n    }\n\n    .dataframe thead th {\n        text-align: right;\n    }\n</style>\n<table border=\"1\" class=\"dataframe\">\n  <thead>\n    <tr style=\"text-align: right;\">\n      <th></th>\n      <th>년월</th>\n      <th>시구</th>\n      <th>시군구</th>\n      <th>계약구분</th>\n      <th>고객호수(호)</th>\n      <th>사용량(kWh)</th>\n    </tr>\n  </thead>\n  <tbody>\n    <tr>\n      <th>0</th>\n      <td>202101</td>\n      <td>부산광역시</td>\n      <td>강서구</td>\n      <td>합계</td>\n      <td>56,074</td>\n      <td>377,291,190</td>\n    </tr>\n    <tr>\n      <th>1</th>\n      <td>202102</td>\n      <td>부산광역시</td>\n      <td>강서구</td>\n      <td>합계</td>\n      <td>56,148</td>\n      <td>341,370,537</td>\n    </tr>\n    <tr>\n      <th>2</th>\n      <td>202103</td>\n      <td>부산광역시</td>\n      <td>강서구</td>\n      <td>합계</td>\n      <td>56,256</td>\n      <td>351,231,598</td>\n    </tr>\n    <tr>\n      <th>3</th>\n      <td>202104</td>\n      <td>부산광역시</td>\n      <td>강서구</td>\n      <td>합계</td>\n      <td>56,371</td>\n      <td>352,385,597</td>\n    </tr>\n    <tr>\n      <th>4</th>\n      <td>202105</td>\n      <td>부산광역시</td>\n      <td>강서구</td>\n      <td>합계</td>\n      <td>56,393</td>\n      <td>339,757,045</td>\n    </tr>\n    <tr>\n      <th>...</th>\n      <td>...</td>\n      <td>...</td>\n      <td>...</td>\n      <td>...</td>\n      <td>...</td>\n      <td>...</td>\n    </tr>\n    <tr>\n      <th>107</th>\n      <td>202101-202106</td>\n      <td>부산광역시</td>\n      <td>수영구</td>\n      <td>합계</td>\n      <td>12749</td>\n      <td>295625015</td>\n    </tr>\n    <tr>\n      <th>108</th>\n      <td>202101-202106</td>\n      <td>부산광역시</td>\n      <td>연제구</td>\n      <td>합계</td>\n      <td>12047</td>\n      <td>383730495</td>\n    </tr>\n    <tr>\n      <th>109</th>\n      <td>202101-202106</td>\n      <td>부산광역시</td>\n      <td>영도구</td>\n      <td>합계</td>\n      <td>9637</td>\n      <td>235780282</td>\n    </tr>\n    <tr>\n      <th>110</th>\n      <td>202101-202106</td>\n      <td>부산광역시</td>\n      <td>중구</td>\n      <td>합계</td>\n      <td>6422</td>\n      <td>170920781</td>\n    </tr>\n    <tr>\n      <th>111</th>\n      <td>202101-202106</td>\n      <td>부산광역시</td>\n      <td>해운대구</td>\n      <td>합계</td>\n      <td>15783</td>\n      <td>883146774</td>\n    </tr>\n  </tbody>\n</table>\n<p>112 rows × 6 columns</p>\n</div>"
     },
     "execution_count": 15,
     "metadata": {},
     "output_type": "execute_result"
    }
   ],
   "source": [
    "Hap = df_4.copy()\n",
    "Hap.reset_index(drop=True , inplace = True)\n",
    "for i in range(len(SIGUNGU)):\n",
    "    Hap = Hap.append({'년월' :'202101-202106'  , '시구' : '{}'.format(City) , '시군구' : '{}'.format(SIGUNGU[i]) , '계약구분' : '합계' , '고객호수(호)' : sum3[i] ,  '사용량(kWh)' : sum2[i]} , ignore_index=True) #년월 파일마다 수정하기\n",
    "Hap"
   ],
   "metadata": {
    "collapsed": false,
    "pycharm": {
     "name": "#%%\n"
    }
   }
  },
  {
   "cell_type": "markdown",
   "source": [
    "### 3. 날짜 변경!!!!!!!!!!!!!!!!!!!!!!!!!!!!!!!"
   ],
   "metadata": {
    "collapsed": false,
    "pycharm": {
     "name": "#%% md\n"
    }
   }
  },
  {
   "cell_type": "code",
   "execution_count": 16,
   "outputs": [
    {
     "data": {
      "text/plain": "                년월     시구   시군구 계약구분 고객호수(호)    사용량(kWh)\n96   202101-202106  부산광역시   강서구   합계    9382  2122696974\n97   202101-202106  부산광역시   금정구   합계   18729   534075343\n98   202101-202106  부산광역시   기장군   합계    9556   566376992\n99   202101-202106  부산광역시    남구   합계   16540   708047448\n100  202101-202106  부산광역시    동구   합계    8907   252126776\n101  202101-202106  부산광역시   동래구   합계   15613   459868504\n102  202101-202106  부산광역시  부산진구   합계   22924   821780641\n103  202101-202106  부산광역시    북구   합계   12961   430128188\n104  202101-202106  부산광역시   사상구   합계   13944   795369776\n105  202101-202106  부산광역시   사하구   합계   19435  1238445645\n106  202101-202106  부산광역시    서구   합계   10165   286502694\n107  202101-202106  부산광역시   수영구   합계   12749   295625015\n108  202101-202106  부산광역시   연제구   합계   12047   383730495\n109  202101-202106  부산광역시   영도구   합계    9637   235780282\n110  202101-202106  부산광역시    중구   합계    6422   170920781\n111  202101-202106  부산광역시  해운대구   합계   15783   883146774",
      "text/html": "<div>\n<style scoped>\n    .dataframe tbody tr th:only-of-type {\n        vertical-align: middle;\n    }\n\n    .dataframe tbody tr th {\n        vertical-align: top;\n    }\n\n    .dataframe thead th {\n        text-align: right;\n    }\n</style>\n<table border=\"1\" class=\"dataframe\">\n  <thead>\n    <tr style=\"text-align: right;\">\n      <th></th>\n      <th>년월</th>\n      <th>시구</th>\n      <th>시군구</th>\n      <th>계약구분</th>\n      <th>고객호수(호)</th>\n      <th>사용량(kWh)</th>\n    </tr>\n  </thead>\n  <tbody>\n    <tr>\n      <th>96</th>\n      <td>202101-202106</td>\n      <td>부산광역시</td>\n      <td>강서구</td>\n      <td>합계</td>\n      <td>9382</td>\n      <td>2122696974</td>\n    </tr>\n    <tr>\n      <th>97</th>\n      <td>202101-202106</td>\n      <td>부산광역시</td>\n      <td>금정구</td>\n      <td>합계</td>\n      <td>18729</td>\n      <td>534075343</td>\n    </tr>\n    <tr>\n      <th>98</th>\n      <td>202101-202106</td>\n      <td>부산광역시</td>\n      <td>기장군</td>\n      <td>합계</td>\n      <td>9556</td>\n      <td>566376992</td>\n    </tr>\n    <tr>\n      <th>99</th>\n      <td>202101-202106</td>\n      <td>부산광역시</td>\n      <td>남구</td>\n      <td>합계</td>\n      <td>16540</td>\n      <td>708047448</td>\n    </tr>\n    <tr>\n      <th>100</th>\n      <td>202101-202106</td>\n      <td>부산광역시</td>\n      <td>동구</td>\n      <td>합계</td>\n      <td>8907</td>\n      <td>252126776</td>\n    </tr>\n    <tr>\n      <th>101</th>\n      <td>202101-202106</td>\n      <td>부산광역시</td>\n      <td>동래구</td>\n      <td>합계</td>\n      <td>15613</td>\n      <td>459868504</td>\n    </tr>\n    <tr>\n      <th>102</th>\n      <td>202101-202106</td>\n      <td>부산광역시</td>\n      <td>부산진구</td>\n      <td>합계</td>\n      <td>22924</td>\n      <td>821780641</td>\n    </tr>\n    <tr>\n      <th>103</th>\n      <td>202101-202106</td>\n      <td>부산광역시</td>\n      <td>북구</td>\n      <td>합계</td>\n      <td>12961</td>\n      <td>430128188</td>\n    </tr>\n    <tr>\n      <th>104</th>\n      <td>202101-202106</td>\n      <td>부산광역시</td>\n      <td>사상구</td>\n      <td>합계</td>\n      <td>13944</td>\n      <td>795369776</td>\n    </tr>\n    <tr>\n      <th>105</th>\n      <td>202101-202106</td>\n      <td>부산광역시</td>\n      <td>사하구</td>\n      <td>합계</td>\n      <td>19435</td>\n      <td>1238445645</td>\n    </tr>\n    <tr>\n      <th>106</th>\n      <td>202101-202106</td>\n      <td>부산광역시</td>\n      <td>서구</td>\n      <td>합계</td>\n      <td>10165</td>\n      <td>286502694</td>\n    </tr>\n    <tr>\n      <th>107</th>\n      <td>202101-202106</td>\n      <td>부산광역시</td>\n      <td>수영구</td>\n      <td>합계</td>\n      <td>12749</td>\n      <td>295625015</td>\n    </tr>\n    <tr>\n      <th>108</th>\n      <td>202101-202106</td>\n      <td>부산광역시</td>\n      <td>연제구</td>\n      <td>합계</td>\n      <td>12047</td>\n      <td>383730495</td>\n    </tr>\n    <tr>\n      <th>109</th>\n      <td>202101-202106</td>\n      <td>부산광역시</td>\n      <td>영도구</td>\n      <td>합계</td>\n      <td>9637</td>\n      <td>235780282</td>\n    </tr>\n    <tr>\n      <th>110</th>\n      <td>202101-202106</td>\n      <td>부산광역시</td>\n      <td>중구</td>\n      <td>합계</td>\n      <td>6422</td>\n      <td>170920781</td>\n    </tr>\n    <tr>\n      <th>111</th>\n      <td>202101-202106</td>\n      <td>부산광역시</td>\n      <td>해운대구</td>\n      <td>합계</td>\n      <td>15783</td>\n      <td>883146774</td>\n    </tr>\n  </tbody>\n</table>\n</div>"
     },
     "execution_count": 16,
     "metadata": {},
     "output_type": "execute_result"
    }
   ],
   "source": [
    "Hap = Hap.loc[Hap['년월'] == '202101-202106']\n",
    "Hap"
   ],
   "metadata": {
    "collapsed": false,
    "pycharm": {
     "name": "#%%\n"
    }
   }
  },
  {
   "cell_type": "code",
   "execution_count": 17,
   "outputs": [],
   "source": [
    "# SIGUNGU = SIGUNGU[:1]\n",
    "# SIGUNGU\n",
    "#for i in SIGUNGU:\n",
    "#print('{}'.format(i))\n",
    "# df_3 = df_3.loc[(df_3['시군구'] == '가평군')]\n",
    "#\n",
    "# df_3"
   ],
   "metadata": {
    "collapsed": false,
    "pycharm": {
     "name": "#%%\n"
    }
   }
  },
  {
   "cell_type": "code",
   "execution_count": 18,
   "outputs": [
    {
     "data": {
      "text/plain": "['년월', '시구', '시군구', '계약구분', '고객호수(호)', '사용량(kWh)']"
     },
     "execution_count": 18,
     "metadata": {},
     "output_type": "execute_result"
    }
   ],
   "source": [
    "a = (df_3.columns).tolist()\n",
    "\n",
    "a"
   ],
   "metadata": {
    "collapsed": false,
    "pycharm": {
     "name": "#%%\n"
    }
   }
  },
  {
   "cell_type": "code",
   "execution_count": 19,
   "outputs": [
    {
     "data": {
      "text/plain": "         년월     시구   시군구 계약구분  고객호수(호)     사용량(kWh)\n53   202101  부산광역시   강서구  일반용  10,377   43,658,821 \n181  202102  부산광역시   강서구  일반용  10,400   40,109,279 \n309  202103  부산광역시   강서구  일반용  10,412   37,128,536 \n437  202104  부산광역시   강서구  일반용  10,490   37,233,560 \n565  202105  부산광역시   강서구  일반용  10,525   38,966,357 \n..      ...    ...   ...  ...      ...          ...\n301  202102  부산광역시  해운대구  일반용  14,821   69,327,730 \n429  202103  부산광역시  해운대구  일반용  14,807   64,751,798 \n557  202104  부산광역시  해운대구  일반용  14,808   62,012,037 \n685  202105  부산광역시  해운대구  일반용  14,838   62,450,850 \n813  202106  부산광역시  해운대구  일반용  14,866   70,798,799 \n\n[96 rows x 6 columns]",
      "text/html": "<div>\n<style scoped>\n    .dataframe tbody tr th:only-of-type {\n        vertical-align: middle;\n    }\n\n    .dataframe tbody tr th {\n        vertical-align: top;\n    }\n\n    .dataframe thead th {\n        text-align: right;\n    }\n</style>\n<table border=\"1\" class=\"dataframe\">\n  <thead>\n    <tr style=\"text-align: right;\">\n      <th></th>\n      <th>년월</th>\n      <th>시구</th>\n      <th>시군구</th>\n      <th>계약구분</th>\n      <th>고객호수(호)</th>\n      <th>사용량(kWh)</th>\n    </tr>\n  </thead>\n  <tbody>\n    <tr>\n      <th>53</th>\n      <td>202101</td>\n      <td>부산광역시</td>\n      <td>강서구</td>\n      <td>일반용</td>\n      <td>10,377</td>\n      <td>43,658,821</td>\n    </tr>\n    <tr>\n      <th>181</th>\n      <td>202102</td>\n      <td>부산광역시</td>\n      <td>강서구</td>\n      <td>일반용</td>\n      <td>10,400</td>\n      <td>40,109,279</td>\n    </tr>\n    <tr>\n      <th>309</th>\n      <td>202103</td>\n      <td>부산광역시</td>\n      <td>강서구</td>\n      <td>일반용</td>\n      <td>10,412</td>\n      <td>37,128,536</td>\n    </tr>\n    <tr>\n      <th>437</th>\n      <td>202104</td>\n      <td>부산광역시</td>\n      <td>강서구</td>\n      <td>일반용</td>\n      <td>10,490</td>\n      <td>37,233,560</td>\n    </tr>\n    <tr>\n      <th>565</th>\n      <td>202105</td>\n      <td>부산광역시</td>\n      <td>강서구</td>\n      <td>일반용</td>\n      <td>10,525</td>\n      <td>38,966,357</td>\n    </tr>\n    <tr>\n      <th>...</th>\n      <td>...</td>\n      <td>...</td>\n      <td>...</td>\n      <td>...</td>\n      <td>...</td>\n      <td>...</td>\n    </tr>\n    <tr>\n      <th>301</th>\n      <td>202102</td>\n      <td>부산광역시</td>\n      <td>해운대구</td>\n      <td>일반용</td>\n      <td>14,821</td>\n      <td>69,327,730</td>\n    </tr>\n    <tr>\n      <th>429</th>\n      <td>202103</td>\n      <td>부산광역시</td>\n      <td>해운대구</td>\n      <td>일반용</td>\n      <td>14,807</td>\n      <td>64,751,798</td>\n    </tr>\n    <tr>\n      <th>557</th>\n      <td>202104</td>\n      <td>부산광역시</td>\n      <td>해운대구</td>\n      <td>일반용</td>\n      <td>14,808</td>\n      <td>62,012,037</td>\n    </tr>\n    <tr>\n      <th>685</th>\n      <td>202105</td>\n      <td>부산광역시</td>\n      <td>해운대구</td>\n      <td>일반용</td>\n      <td>14,838</td>\n      <td>62,450,850</td>\n    </tr>\n    <tr>\n      <th>813</th>\n      <td>202106</td>\n      <td>부산광역시</td>\n      <td>해운대구</td>\n      <td>일반용</td>\n      <td>14,866</td>\n      <td>70,798,799</td>\n    </tr>\n  </tbody>\n</table>\n<p>96 rows × 6 columns</p>\n</div>"
     },
     "execution_count": 19,
     "metadata": {},
     "output_type": "execute_result"
    }
   ],
   "source": [
    "df_3"
   ],
   "metadata": {
    "collapsed": false,
    "pycharm": {
     "name": "#%%\n"
    }
   }
  },
  {
   "cell_type": "code",
   "execution_count": 20,
   "outputs": [],
   "source": [
    "# GyeonGiHap = pd.DataFrame([] , columns = a)\n",
    "# GyeonGiHap['사용량']= df_3['사용량(kWh)'].loc[(df_3['시군구'] == '{가평군}')]\n",
    "# GyeonGiHap"
   ],
   "metadata": {
    "collapsed": false,
    "pycharm": {
     "name": "#%%\n"
    }
   }
  },
  {
   "cell_type": "code",
   "execution_count": 21,
   "outputs": [
    {
     "name": "stdout",
     "output_type": "stream",
     "text": [
      "[43658821, 40109279, 37128536, 37233560, 38966357, 42609274]\n",
      "[35374437, 33610341, 28976194, 28268081, 26609364, 29602590]\n",
      "[31368553, 31916073, 25421675, 24851861, 24491463, 27160342]\n",
      "[36944597, 35278065, 31165543, 29876638, 29115482, 33469940]\n",
      "[26415418, 24580320, 21796256, 20905862, 19601098, 21968232]\n",
      "[37314790, 35405064, 30868554, 30001811, 28734849, 32353674]\n",
      "[71002382, 67467991, 59183794, 57876382, 55276613, 62930311]\n",
      "[30206208, 28662825, 24279613, 23916784, 22627094, 25605018]\n",
      "[37806872, 35585125, 30644726, 30045677, 28664908, 32226394]\n",
      "[37496598, 35705026, 30865035, 30590271, 28775816, 32255686]\n",
      "[21371666, 19869716, 18008570, 17343669, 16830191, 18889761]\n",
      "[27194035, 25781283, 22541331, 22104407, 20829329, 23553042]\n",
      "[34450285, 33040999, 28753332, 27623787, 26504125, 30310097]\n",
      "[14045934, 13514204, 11467026, 11430020, 10799453, 11910014]\n",
      "[24892673, 23404212, 20691719, 19992813, 19119264, 21624893]\n",
      "[76218888, 69327730, 64751798, 62012037, 62450850, 70798799]\n",
      "부산광역시 지역별 일반용 합계 :  [239705827, 182441007, 165209967, 195850265, 135267186, 194678742, 373737473, 155297542, 194973702, 195688432, 112313573, 142003427, 180682625, 73166651, 129725574, 405560102]\n",
      "부산광역시 고객호수 평균:  [10464, 15528, 8929, 12232, 7380, 15754, 23008, 10795, 13154, 14529, 6508, 11200, 11500, 6211, 8310, 14827]\n"
     ]
    }
   ],
   "source": [
    "sum2 , sum3 =[] , []\n",
    "for k in SIGUNGU:\n",
    "    GyeonGiHap = pd.DataFrame([] , columns = a)\n",
    "    HOSU = pd.DataFrame([], columns = a)\n",
    "    GyeonGiHap['사용량']= df_3['사용량(kWh)'].loc[(df_3['시군구'] == '{}'.format(k))]\n",
    "    HOSU['고객호수']= df_3['고객호수(호)'].loc[(df_3['시군구'] == '{}'.format(k))]\n",
    "    #경기합 데이터프레임의 사용량 열에 기군구가 가평군인 사용량 데이터만 뽑아내기\n",
    "    # GyeonGiHap = GyeonGiHap['사용량']\n",
    "\n",
    "    b = GyeonGiHap['사용량'].tolist()\n",
    "    c = HOSU['고객호수'].tolist()\n",
    "\n",
    "\n",
    "    #각지역별 사용량 리스트화\n",
    "    int_list  , int_list2=[] , []\n",
    "    for i in b:\n",
    "        i = re.sub(\",\" , \"\" , i)\n",
    "        #콤마 없애기\n",
    "        int_list.append(int(i))\n",
    "        #int_list에 각지역별 사용량 int로 저장\n",
    "    print(int_list)\n",
    "    sum=0\n",
    "    for i in c:\n",
    "        i = re.sub(\",\" , \"\" , i)\n",
    "        int_list2.append(int(i))\n",
    "\n",
    "    for j in int_list:\n",
    "\n",
    "        sum+= j\n",
    "    sum2.append(sum)\n",
    "    sum = 0\n",
    "    for j in int_list2: #고객호수 추출하여 더하기\n",
    "\n",
    "        sum+= j\n",
    "    sum3.append(sum//6) #6개월 치로 나눠야하나?!\n",
    "\n",
    "\n",
    "\n",
    "\n",
    "print(\"{} 지역별 일반용 합계 : \".format(City) , sum2)\n",
    "print(\"{} 고객호수 평균: \".format(City) , sum3)\n",
    "# GyeonGiHap['합계'] = sum\n",
    "#\n",
    "# GyeonGiHap"
   ],
   "metadata": {
    "collapsed": false,
    "pycharm": {
     "name": "#%%\n"
    }
   }
  },
  {
   "cell_type": "code",
   "execution_count": 22,
   "outputs": [],
   "source": [
    "# df_3 = df_3.loc[(df_3['시군구'] == '가평군')]\n",
    "#\n",
    "# df_3"
   ],
   "metadata": {
    "collapsed": false,
    "pycharm": {
     "name": "#%%\n"
    }
   }
  },
  {
   "cell_type": "code",
   "execution_count": 23,
   "outputs": [],
   "source": [
    "# GyeonGiHap = df_3.copy()\n",
    "# GyeonGiHap.reset_index(drop=True , inplace = True)\n",
    "# GyeonGiHap.append({'년월' : '202107-202112'  , '시구' : '경기도' , '시군구' : '가평군' , '계약구분' : '일반용' , '사용량(kWh)' : sum}, ignore_index=True)"
   ],
   "metadata": {
    "collapsed": false,
    "pycharm": {
     "name": "#%%\n"
    }
   }
  },
  {
   "cell_type": "code",
   "execution_count": 24,
   "outputs": [],
   "source": [
    "# a=[]\n",
    "# for i in SIGUNGU:\n",
    "#     a.append(i)\n",
    "#\n",
    "# print(a)"
   ],
   "metadata": {
    "collapsed": false,
    "pycharm": {
     "name": "#%%\n"
    }
   }
  },
  {
   "cell_type": "markdown",
   "source": [
    "### 4. 년월 체크!!!!!!!!!!!!!!!!!!!!!!!!!!!!!!!!!!!!!!!!!!!!!!!!!!!!!!!!!!!!!!!!!"
   ],
   "metadata": {
    "collapsed": false,
    "pycharm": {
     "name": "#%% md\n"
    }
   }
  },
  {
   "cell_type": "code",
   "execution_count": 25,
   "outputs": [
    {
     "name": "stderr",
     "output_type": "stream",
     "text": [
      "C:\\Users\\user\\AppData\\Local\\Temp\\ipykernel_9976\\1152688266.py:4: FutureWarning: The frame.append method is deprecated and will be removed from pandas in a future version. Use pandas.concat instead.\n",
      "  GyeonGiHap2 = GyeonGiHap2.append({'년월' :'202101-202106'  , '시구' : '{}'.format(City) , '시군구' : '{}'.format(SIGUNGU[i]) , '계약구분' : '일반용' , '고객호수(호)' : sum3[i] ,  '사용량(kWh)' : sum2[i]} , ignore_index=True) #년월 파일마다 수정하기\n",
      "C:\\Users\\user\\AppData\\Local\\Temp\\ipykernel_9976\\1152688266.py:4: FutureWarning: The frame.append method is deprecated and will be removed from pandas in a future version. Use pandas.concat instead.\n",
      "  GyeonGiHap2 = GyeonGiHap2.append({'년월' :'202101-202106'  , '시구' : '{}'.format(City) , '시군구' : '{}'.format(SIGUNGU[i]) , '계약구분' : '일반용' , '고객호수(호)' : sum3[i] ,  '사용량(kWh)' : sum2[i]} , ignore_index=True) #년월 파일마다 수정하기\n",
      "C:\\Users\\user\\AppData\\Local\\Temp\\ipykernel_9976\\1152688266.py:4: FutureWarning: The frame.append method is deprecated and will be removed from pandas in a future version. Use pandas.concat instead.\n",
      "  GyeonGiHap2 = GyeonGiHap2.append({'년월' :'202101-202106'  , '시구' : '{}'.format(City) , '시군구' : '{}'.format(SIGUNGU[i]) , '계약구분' : '일반용' , '고객호수(호)' : sum3[i] ,  '사용량(kWh)' : sum2[i]} , ignore_index=True) #년월 파일마다 수정하기\n",
      "C:\\Users\\user\\AppData\\Local\\Temp\\ipykernel_9976\\1152688266.py:4: FutureWarning: The frame.append method is deprecated and will be removed from pandas in a future version. Use pandas.concat instead.\n",
      "  GyeonGiHap2 = GyeonGiHap2.append({'년월' :'202101-202106'  , '시구' : '{}'.format(City) , '시군구' : '{}'.format(SIGUNGU[i]) , '계약구분' : '일반용' , '고객호수(호)' : sum3[i] ,  '사용량(kWh)' : sum2[i]} , ignore_index=True) #년월 파일마다 수정하기\n",
      "C:\\Users\\user\\AppData\\Local\\Temp\\ipykernel_9976\\1152688266.py:4: FutureWarning: The frame.append method is deprecated and will be removed from pandas in a future version. Use pandas.concat instead.\n",
      "  GyeonGiHap2 = GyeonGiHap2.append({'년월' :'202101-202106'  , '시구' : '{}'.format(City) , '시군구' : '{}'.format(SIGUNGU[i]) , '계약구분' : '일반용' , '고객호수(호)' : sum3[i] ,  '사용량(kWh)' : sum2[i]} , ignore_index=True) #년월 파일마다 수정하기\n",
      "C:\\Users\\user\\AppData\\Local\\Temp\\ipykernel_9976\\1152688266.py:4: FutureWarning: The frame.append method is deprecated and will be removed from pandas in a future version. Use pandas.concat instead.\n",
      "  GyeonGiHap2 = GyeonGiHap2.append({'년월' :'202101-202106'  , '시구' : '{}'.format(City) , '시군구' : '{}'.format(SIGUNGU[i]) , '계약구분' : '일반용' , '고객호수(호)' : sum3[i] ,  '사용량(kWh)' : sum2[i]} , ignore_index=True) #년월 파일마다 수정하기\n",
      "C:\\Users\\user\\AppData\\Local\\Temp\\ipykernel_9976\\1152688266.py:4: FutureWarning: The frame.append method is deprecated and will be removed from pandas in a future version. Use pandas.concat instead.\n",
      "  GyeonGiHap2 = GyeonGiHap2.append({'년월' :'202101-202106'  , '시구' : '{}'.format(City) , '시군구' : '{}'.format(SIGUNGU[i]) , '계약구분' : '일반용' , '고객호수(호)' : sum3[i] ,  '사용량(kWh)' : sum2[i]} , ignore_index=True) #년월 파일마다 수정하기\n",
      "C:\\Users\\user\\AppData\\Local\\Temp\\ipykernel_9976\\1152688266.py:4: FutureWarning: The frame.append method is deprecated and will be removed from pandas in a future version. Use pandas.concat instead.\n",
      "  GyeonGiHap2 = GyeonGiHap2.append({'년월' :'202101-202106'  , '시구' : '{}'.format(City) , '시군구' : '{}'.format(SIGUNGU[i]) , '계약구분' : '일반용' , '고객호수(호)' : sum3[i] ,  '사용량(kWh)' : sum2[i]} , ignore_index=True) #년월 파일마다 수정하기\n",
      "C:\\Users\\user\\AppData\\Local\\Temp\\ipykernel_9976\\1152688266.py:4: FutureWarning: The frame.append method is deprecated and will be removed from pandas in a future version. Use pandas.concat instead.\n",
      "  GyeonGiHap2 = GyeonGiHap2.append({'년월' :'202101-202106'  , '시구' : '{}'.format(City) , '시군구' : '{}'.format(SIGUNGU[i]) , '계약구분' : '일반용' , '고객호수(호)' : sum3[i] ,  '사용량(kWh)' : sum2[i]} , ignore_index=True) #년월 파일마다 수정하기\n",
      "C:\\Users\\user\\AppData\\Local\\Temp\\ipykernel_9976\\1152688266.py:4: FutureWarning: The frame.append method is deprecated and will be removed from pandas in a future version. Use pandas.concat instead.\n",
      "  GyeonGiHap2 = GyeonGiHap2.append({'년월' :'202101-202106'  , '시구' : '{}'.format(City) , '시군구' : '{}'.format(SIGUNGU[i]) , '계약구분' : '일반용' , '고객호수(호)' : sum3[i] ,  '사용량(kWh)' : sum2[i]} , ignore_index=True) #년월 파일마다 수정하기\n",
      "C:\\Users\\user\\AppData\\Local\\Temp\\ipykernel_9976\\1152688266.py:4: FutureWarning: The frame.append method is deprecated and will be removed from pandas in a future version. Use pandas.concat instead.\n",
      "  GyeonGiHap2 = GyeonGiHap2.append({'년월' :'202101-202106'  , '시구' : '{}'.format(City) , '시군구' : '{}'.format(SIGUNGU[i]) , '계약구분' : '일반용' , '고객호수(호)' : sum3[i] ,  '사용량(kWh)' : sum2[i]} , ignore_index=True) #년월 파일마다 수정하기\n",
      "C:\\Users\\user\\AppData\\Local\\Temp\\ipykernel_9976\\1152688266.py:4: FutureWarning: The frame.append method is deprecated and will be removed from pandas in a future version. Use pandas.concat instead.\n",
      "  GyeonGiHap2 = GyeonGiHap2.append({'년월' :'202101-202106'  , '시구' : '{}'.format(City) , '시군구' : '{}'.format(SIGUNGU[i]) , '계약구분' : '일반용' , '고객호수(호)' : sum3[i] ,  '사용량(kWh)' : sum2[i]} , ignore_index=True) #년월 파일마다 수정하기\n",
      "C:\\Users\\user\\AppData\\Local\\Temp\\ipykernel_9976\\1152688266.py:4: FutureWarning: The frame.append method is deprecated and will be removed from pandas in a future version. Use pandas.concat instead.\n",
      "  GyeonGiHap2 = GyeonGiHap2.append({'년월' :'202101-202106'  , '시구' : '{}'.format(City) , '시군구' : '{}'.format(SIGUNGU[i]) , '계약구분' : '일반용' , '고객호수(호)' : sum3[i] ,  '사용량(kWh)' : sum2[i]} , ignore_index=True) #년월 파일마다 수정하기\n",
      "C:\\Users\\user\\AppData\\Local\\Temp\\ipykernel_9976\\1152688266.py:4: FutureWarning: The frame.append method is deprecated and will be removed from pandas in a future version. Use pandas.concat instead.\n",
      "  GyeonGiHap2 = GyeonGiHap2.append({'년월' :'202101-202106'  , '시구' : '{}'.format(City) , '시군구' : '{}'.format(SIGUNGU[i]) , '계약구분' : '일반용' , '고객호수(호)' : sum3[i] ,  '사용량(kWh)' : sum2[i]} , ignore_index=True) #년월 파일마다 수정하기\n",
      "C:\\Users\\user\\AppData\\Local\\Temp\\ipykernel_9976\\1152688266.py:4: FutureWarning: The frame.append method is deprecated and will be removed from pandas in a future version. Use pandas.concat instead.\n",
      "  GyeonGiHap2 = GyeonGiHap2.append({'년월' :'202101-202106'  , '시구' : '{}'.format(City) , '시군구' : '{}'.format(SIGUNGU[i]) , '계약구분' : '일반용' , '고객호수(호)' : sum3[i] ,  '사용량(kWh)' : sum2[i]} , ignore_index=True) #년월 파일마다 수정하기\n",
      "C:\\Users\\user\\AppData\\Local\\Temp\\ipykernel_9976\\1152688266.py:4: FutureWarning: The frame.append method is deprecated and will be removed from pandas in a future version. Use pandas.concat instead.\n",
      "  GyeonGiHap2 = GyeonGiHap2.append({'년월' :'202101-202106'  , '시구' : '{}'.format(City) , '시군구' : '{}'.format(SIGUNGU[i]) , '계약구분' : '일반용' , '고객호수(호)' : sum3[i] ,  '사용량(kWh)' : sum2[i]} , ignore_index=True) #년월 파일마다 수정하기\n"
     ]
    },
    {
     "data": {
      "text/plain": "                년월     시구   시군구 계약구분  고객호수(호)     사용량(kWh)\n0           202101  부산광역시   강서구  일반용  10,377   43,658,821 \n1           202102  부산광역시   강서구  일반용  10,400   40,109,279 \n2           202103  부산광역시   강서구  일반용  10,412   37,128,536 \n3           202104  부산광역시   강서구  일반용  10,490   37,233,560 \n4           202105  부산광역시   강서구  일반용  10,525   38,966,357 \n..             ...    ...   ...  ...      ...          ...\n107  202101-202106  부산광역시   수영구  일반용    11200    142003427\n108  202101-202106  부산광역시   연제구  일반용    11500    180682625\n109  202101-202106  부산광역시   영도구  일반용     6211     73166651\n110  202101-202106  부산광역시    중구  일반용     8310    129725574\n111  202101-202106  부산광역시  해운대구  일반용    14827    405560102\n\n[112 rows x 6 columns]",
      "text/html": "<div>\n<style scoped>\n    .dataframe tbody tr th:only-of-type {\n        vertical-align: middle;\n    }\n\n    .dataframe tbody tr th {\n        vertical-align: top;\n    }\n\n    .dataframe thead th {\n        text-align: right;\n    }\n</style>\n<table border=\"1\" class=\"dataframe\">\n  <thead>\n    <tr style=\"text-align: right;\">\n      <th></th>\n      <th>년월</th>\n      <th>시구</th>\n      <th>시군구</th>\n      <th>계약구분</th>\n      <th>고객호수(호)</th>\n      <th>사용량(kWh)</th>\n    </tr>\n  </thead>\n  <tbody>\n    <tr>\n      <th>0</th>\n      <td>202101</td>\n      <td>부산광역시</td>\n      <td>강서구</td>\n      <td>일반용</td>\n      <td>10,377</td>\n      <td>43,658,821</td>\n    </tr>\n    <tr>\n      <th>1</th>\n      <td>202102</td>\n      <td>부산광역시</td>\n      <td>강서구</td>\n      <td>일반용</td>\n      <td>10,400</td>\n      <td>40,109,279</td>\n    </tr>\n    <tr>\n      <th>2</th>\n      <td>202103</td>\n      <td>부산광역시</td>\n      <td>강서구</td>\n      <td>일반용</td>\n      <td>10,412</td>\n      <td>37,128,536</td>\n    </tr>\n    <tr>\n      <th>3</th>\n      <td>202104</td>\n      <td>부산광역시</td>\n      <td>강서구</td>\n      <td>일반용</td>\n      <td>10,490</td>\n      <td>37,233,560</td>\n    </tr>\n    <tr>\n      <th>4</th>\n      <td>202105</td>\n      <td>부산광역시</td>\n      <td>강서구</td>\n      <td>일반용</td>\n      <td>10,525</td>\n      <td>38,966,357</td>\n    </tr>\n    <tr>\n      <th>...</th>\n      <td>...</td>\n      <td>...</td>\n      <td>...</td>\n      <td>...</td>\n      <td>...</td>\n      <td>...</td>\n    </tr>\n    <tr>\n      <th>107</th>\n      <td>202101-202106</td>\n      <td>부산광역시</td>\n      <td>수영구</td>\n      <td>일반용</td>\n      <td>11200</td>\n      <td>142003427</td>\n    </tr>\n    <tr>\n      <th>108</th>\n      <td>202101-202106</td>\n      <td>부산광역시</td>\n      <td>연제구</td>\n      <td>일반용</td>\n      <td>11500</td>\n      <td>180682625</td>\n    </tr>\n    <tr>\n      <th>109</th>\n      <td>202101-202106</td>\n      <td>부산광역시</td>\n      <td>영도구</td>\n      <td>일반용</td>\n      <td>6211</td>\n      <td>73166651</td>\n    </tr>\n    <tr>\n      <th>110</th>\n      <td>202101-202106</td>\n      <td>부산광역시</td>\n      <td>중구</td>\n      <td>일반용</td>\n      <td>8310</td>\n      <td>129725574</td>\n    </tr>\n    <tr>\n      <th>111</th>\n      <td>202101-202106</td>\n      <td>부산광역시</td>\n      <td>해운대구</td>\n      <td>일반용</td>\n      <td>14827</td>\n      <td>405560102</td>\n    </tr>\n  </tbody>\n</table>\n<p>112 rows × 6 columns</p>\n</div>"
     },
     "execution_count": 25,
     "metadata": {},
     "output_type": "execute_result"
    }
   ],
   "source": [
    "GyeonGiHap2 = df_3.copy()\n",
    "GyeonGiHap2.reset_index(drop=True , inplace = True)\n",
    "for i in range(len(SIGUNGU)):\n",
    "    GyeonGiHap2 = GyeonGiHap2.append({'년월' :'202101-202106'  , '시구' : '{}'.format(City) , '시군구' : '{}'.format(SIGUNGU[i]) , '계약구분' : '일반용' , '고객호수(호)' : sum3[i] ,  '사용량(kWh)' : sum2[i]} , ignore_index=True) #년월 파일마다 수정하기\n",
    "GyeonGiHap2"
   ],
   "metadata": {
    "collapsed": false,
    "pycharm": {
     "name": "#%%\n"
    }
   }
  },
  {
   "cell_type": "markdown",
   "source": [
    "### 5. 날짜 체크!!!!!!!!!!!!!!!!!!!!!!!!!!!!!!!!!!!!!!!!!!!!!!!!!!!!"
   ],
   "metadata": {
    "collapsed": false,
    "pycharm": {
     "name": "#%% md\n"
    }
   }
  },
  {
   "cell_type": "code",
   "execution_count": 26,
   "outputs": [
    {
     "data": {
      "text/plain": "                년월     시구   시군구 계약구분 고객호수(호)   사용량(kWh)\n96   202101-202106  부산광역시   강서구  일반용   10464  239705827\n97   202101-202106  부산광역시   금정구  일반용   15528  182441007\n98   202101-202106  부산광역시   기장군  일반용    8929  165209967\n99   202101-202106  부산광역시    남구  일반용   12232  195850265\n100  202101-202106  부산광역시    동구  일반용    7380  135267186\n101  202101-202106  부산광역시   동래구  일반용   15754  194678742\n102  202101-202106  부산광역시  부산진구  일반용   23008  373737473\n103  202101-202106  부산광역시    북구  일반용   10795  155297542\n104  202101-202106  부산광역시   사상구  일반용   13154  194973702\n105  202101-202106  부산광역시   사하구  일반용   14529  195688432\n106  202101-202106  부산광역시    서구  일반용    6508  112313573\n107  202101-202106  부산광역시   수영구  일반용   11200  142003427\n108  202101-202106  부산광역시   연제구  일반용   11500  180682625\n109  202101-202106  부산광역시   영도구  일반용    6211   73166651\n110  202101-202106  부산광역시    중구  일반용    8310  129725574\n111  202101-202106  부산광역시  해운대구  일반용   14827  405560102",
      "text/html": "<div>\n<style scoped>\n    .dataframe tbody tr th:only-of-type {\n        vertical-align: middle;\n    }\n\n    .dataframe tbody tr th {\n        vertical-align: top;\n    }\n\n    .dataframe thead th {\n        text-align: right;\n    }\n</style>\n<table border=\"1\" class=\"dataframe\">\n  <thead>\n    <tr style=\"text-align: right;\">\n      <th></th>\n      <th>년월</th>\n      <th>시구</th>\n      <th>시군구</th>\n      <th>계약구분</th>\n      <th>고객호수(호)</th>\n      <th>사용량(kWh)</th>\n    </tr>\n  </thead>\n  <tbody>\n    <tr>\n      <th>96</th>\n      <td>202101-202106</td>\n      <td>부산광역시</td>\n      <td>강서구</td>\n      <td>일반용</td>\n      <td>10464</td>\n      <td>239705827</td>\n    </tr>\n    <tr>\n      <th>97</th>\n      <td>202101-202106</td>\n      <td>부산광역시</td>\n      <td>금정구</td>\n      <td>일반용</td>\n      <td>15528</td>\n      <td>182441007</td>\n    </tr>\n    <tr>\n      <th>98</th>\n      <td>202101-202106</td>\n      <td>부산광역시</td>\n      <td>기장군</td>\n      <td>일반용</td>\n      <td>8929</td>\n      <td>165209967</td>\n    </tr>\n    <tr>\n      <th>99</th>\n      <td>202101-202106</td>\n      <td>부산광역시</td>\n      <td>남구</td>\n      <td>일반용</td>\n      <td>12232</td>\n      <td>195850265</td>\n    </tr>\n    <tr>\n      <th>100</th>\n      <td>202101-202106</td>\n      <td>부산광역시</td>\n      <td>동구</td>\n      <td>일반용</td>\n      <td>7380</td>\n      <td>135267186</td>\n    </tr>\n    <tr>\n      <th>101</th>\n      <td>202101-202106</td>\n      <td>부산광역시</td>\n      <td>동래구</td>\n      <td>일반용</td>\n      <td>15754</td>\n      <td>194678742</td>\n    </tr>\n    <tr>\n      <th>102</th>\n      <td>202101-202106</td>\n      <td>부산광역시</td>\n      <td>부산진구</td>\n      <td>일반용</td>\n      <td>23008</td>\n      <td>373737473</td>\n    </tr>\n    <tr>\n      <th>103</th>\n      <td>202101-202106</td>\n      <td>부산광역시</td>\n      <td>북구</td>\n      <td>일반용</td>\n      <td>10795</td>\n      <td>155297542</td>\n    </tr>\n    <tr>\n      <th>104</th>\n      <td>202101-202106</td>\n      <td>부산광역시</td>\n      <td>사상구</td>\n      <td>일반용</td>\n      <td>13154</td>\n      <td>194973702</td>\n    </tr>\n    <tr>\n      <th>105</th>\n      <td>202101-202106</td>\n      <td>부산광역시</td>\n      <td>사하구</td>\n      <td>일반용</td>\n      <td>14529</td>\n      <td>195688432</td>\n    </tr>\n    <tr>\n      <th>106</th>\n      <td>202101-202106</td>\n      <td>부산광역시</td>\n      <td>서구</td>\n      <td>일반용</td>\n      <td>6508</td>\n      <td>112313573</td>\n    </tr>\n    <tr>\n      <th>107</th>\n      <td>202101-202106</td>\n      <td>부산광역시</td>\n      <td>수영구</td>\n      <td>일반용</td>\n      <td>11200</td>\n      <td>142003427</td>\n    </tr>\n    <tr>\n      <th>108</th>\n      <td>202101-202106</td>\n      <td>부산광역시</td>\n      <td>연제구</td>\n      <td>일반용</td>\n      <td>11500</td>\n      <td>180682625</td>\n    </tr>\n    <tr>\n      <th>109</th>\n      <td>202101-202106</td>\n      <td>부산광역시</td>\n      <td>영도구</td>\n      <td>일반용</td>\n      <td>6211</td>\n      <td>73166651</td>\n    </tr>\n    <tr>\n      <th>110</th>\n      <td>202101-202106</td>\n      <td>부산광역시</td>\n      <td>중구</td>\n      <td>일반용</td>\n      <td>8310</td>\n      <td>129725574</td>\n    </tr>\n    <tr>\n      <th>111</th>\n      <td>202101-202106</td>\n      <td>부산광역시</td>\n      <td>해운대구</td>\n      <td>일반용</td>\n      <td>14827</td>\n      <td>405560102</td>\n    </tr>\n  </tbody>\n</table>\n</div>"
     },
     "execution_count": 26,
     "metadata": {},
     "output_type": "execute_result"
    }
   ],
   "source": [
    "GyeonGiHap2 = GyeonGiHap2.loc[GyeonGiHap2['년월'] == '202101-202106']\n",
    "GyeonGiHap2"
   ],
   "metadata": {
    "collapsed": false,
    "pycharm": {
     "name": "#%%\n"
    }
   }
  },
  {
   "cell_type": "code",
   "execution_count": 27,
   "outputs": [
    {
     "data": {
      "text/plain": "                년월     시구   시군구 계약구분 고객호수(호)    사용량(kWh)\n96   202101-202106  부산광역시   강서구  일반용   10464   239705827\n96   202101-202106  부산광역시   강서구   합계    9382  2122696974\n97   202101-202106  부산광역시   금정구   합계   18729   534075343\n97   202101-202106  부산광역시   금정구  일반용   15528   182441007\n98   202101-202106  부산광역시   기장군   합계    9556   566376992\n98   202101-202106  부산광역시   기장군  일반용    8929   165209967\n99   202101-202106  부산광역시    남구  일반용   12232   195850265\n99   202101-202106  부산광역시    남구   합계   16540   708047448\n100  202101-202106  부산광역시    동구  일반용    7380   135267186\n100  202101-202106  부산광역시    동구   합계    8907   252126776\n101  202101-202106  부산광역시   동래구  일반용   15754   194678742\n101  202101-202106  부산광역시   동래구   합계   15613   459868504\n102  202101-202106  부산광역시  부산진구  일반용   23008   373737473\n102  202101-202106  부산광역시  부산진구   합계   22924   821780641\n103  202101-202106  부산광역시    북구  일반용   10795   155297542\n103  202101-202106  부산광역시    북구   합계   12961   430128188\n104  202101-202106  부산광역시   사상구   합계   13944   795369776\n104  202101-202106  부산광역시   사상구  일반용   13154   194973702\n105  202101-202106  부산광역시   사하구   합계   19435  1238445645\n105  202101-202106  부산광역시   사하구  일반용   14529   195688432\n106  202101-202106  부산광역시    서구  일반용    6508   112313573\n106  202101-202106  부산광역시    서구   합계   10165   286502694\n107  202101-202106  부산광역시   수영구   합계   12749   295625015\n107  202101-202106  부산광역시   수영구  일반용   11200   142003427\n108  202101-202106  부산광역시   연제구   합계   12047   383730495\n108  202101-202106  부산광역시   연제구  일반용   11500   180682625\n109  202101-202106  부산광역시   영도구   합계    9637   235780282\n109  202101-202106  부산광역시   영도구  일반용    6211    73166651\n110  202101-202106  부산광역시    중구   합계    6422   170920781\n110  202101-202106  부산광역시    중구  일반용    8310   129725574\n111  202101-202106  부산광역시  해운대구  일반용   14827   405560102\n111  202101-202106  부산광역시  해운대구   합계   15783   883146774",
      "text/html": "<div>\n<style scoped>\n    .dataframe tbody tr th:only-of-type {\n        vertical-align: middle;\n    }\n\n    .dataframe tbody tr th {\n        vertical-align: top;\n    }\n\n    .dataframe thead th {\n        text-align: right;\n    }\n</style>\n<table border=\"1\" class=\"dataframe\">\n  <thead>\n    <tr style=\"text-align: right;\">\n      <th></th>\n      <th>년월</th>\n      <th>시구</th>\n      <th>시군구</th>\n      <th>계약구분</th>\n      <th>고객호수(호)</th>\n      <th>사용량(kWh)</th>\n    </tr>\n  </thead>\n  <tbody>\n    <tr>\n      <th>96</th>\n      <td>202101-202106</td>\n      <td>부산광역시</td>\n      <td>강서구</td>\n      <td>일반용</td>\n      <td>10464</td>\n      <td>239705827</td>\n    </tr>\n    <tr>\n      <th>96</th>\n      <td>202101-202106</td>\n      <td>부산광역시</td>\n      <td>강서구</td>\n      <td>합계</td>\n      <td>9382</td>\n      <td>2122696974</td>\n    </tr>\n    <tr>\n      <th>97</th>\n      <td>202101-202106</td>\n      <td>부산광역시</td>\n      <td>금정구</td>\n      <td>합계</td>\n      <td>18729</td>\n      <td>534075343</td>\n    </tr>\n    <tr>\n      <th>97</th>\n      <td>202101-202106</td>\n      <td>부산광역시</td>\n      <td>금정구</td>\n      <td>일반용</td>\n      <td>15528</td>\n      <td>182441007</td>\n    </tr>\n    <tr>\n      <th>98</th>\n      <td>202101-202106</td>\n      <td>부산광역시</td>\n      <td>기장군</td>\n      <td>합계</td>\n      <td>9556</td>\n      <td>566376992</td>\n    </tr>\n    <tr>\n      <th>98</th>\n      <td>202101-202106</td>\n      <td>부산광역시</td>\n      <td>기장군</td>\n      <td>일반용</td>\n      <td>8929</td>\n      <td>165209967</td>\n    </tr>\n    <tr>\n      <th>99</th>\n      <td>202101-202106</td>\n      <td>부산광역시</td>\n      <td>남구</td>\n      <td>일반용</td>\n      <td>12232</td>\n      <td>195850265</td>\n    </tr>\n    <tr>\n      <th>99</th>\n      <td>202101-202106</td>\n      <td>부산광역시</td>\n      <td>남구</td>\n      <td>합계</td>\n      <td>16540</td>\n      <td>708047448</td>\n    </tr>\n    <tr>\n      <th>100</th>\n      <td>202101-202106</td>\n      <td>부산광역시</td>\n      <td>동구</td>\n      <td>일반용</td>\n      <td>7380</td>\n      <td>135267186</td>\n    </tr>\n    <tr>\n      <th>100</th>\n      <td>202101-202106</td>\n      <td>부산광역시</td>\n      <td>동구</td>\n      <td>합계</td>\n      <td>8907</td>\n      <td>252126776</td>\n    </tr>\n    <tr>\n      <th>101</th>\n      <td>202101-202106</td>\n      <td>부산광역시</td>\n      <td>동래구</td>\n      <td>일반용</td>\n      <td>15754</td>\n      <td>194678742</td>\n    </tr>\n    <tr>\n      <th>101</th>\n      <td>202101-202106</td>\n      <td>부산광역시</td>\n      <td>동래구</td>\n      <td>합계</td>\n      <td>15613</td>\n      <td>459868504</td>\n    </tr>\n    <tr>\n      <th>102</th>\n      <td>202101-202106</td>\n      <td>부산광역시</td>\n      <td>부산진구</td>\n      <td>일반용</td>\n      <td>23008</td>\n      <td>373737473</td>\n    </tr>\n    <tr>\n      <th>102</th>\n      <td>202101-202106</td>\n      <td>부산광역시</td>\n      <td>부산진구</td>\n      <td>합계</td>\n      <td>22924</td>\n      <td>821780641</td>\n    </tr>\n    <tr>\n      <th>103</th>\n      <td>202101-202106</td>\n      <td>부산광역시</td>\n      <td>북구</td>\n      <td>일반용</td>\n      <td>10795</td>\n      <td>155297542</td>\n    </tr>\n    <tr>\n      <th>103</th>\n      <td>202101-202106</td>\n      <td>부산광역시</td>\n      <td>북구</td>\n      <td>합계</td>\n      <td>12961</td>\n      <td>430128188</td>\n    </tr>\n    <tr>\n      <th>104</th>\n      <td>202101-202106</td>\n      <td>부산광역시</td>\n      <td>사상구</td>\n      <td>합계</td>\n      <td>13944</td>\n      <td>795369776</td>\n    </tr>\n    <tr>\n      <th>104</th>\n      <td>202101-202106</td>\n      <td>부산광역시</td>\n      <td>사상구</td>\n      <td>일반용</td>\n      <td>13154</td>\n      <td>194973702</td>\n    </tr>\n    <tr>\n      <th>105</th>\n      <td>202101-202106</td>\n      <td>부산광역시</td>\n      <td>사하구</td>\n      <td>합계</td>\n      <td>19435</td>\n      <td>1238445645</td>\n    </tr>\n    <tr>\n      <th>105</th>\n      <td>202101-202106</td>\n      <td>부산광역시</td>\n      <td>사하구</td>\n      <td>일반용</td>\n      <td>14529</td>\n      <td>195688432</td>\n    </tr>\n    <tr>\n      <th>106</th>\n      <td>202101-202106</td>\n      <td>부산광역시</td>\n      <td>서구</td>\n      <td>일반용</td>\n      <td>6508</td>\n      <td>112313573</td>\n    </tr>\n    <tr>\n      <th>106</th>\n      <td>202101-202106</td>\n      <td>부산광역시</td>\n      <td>서구</td>\n      <td>합계</td>\n      <td>10165</td>\n      <td>286502694</td>\n    </tr>\n    <tr>\n      <th>107</th>\n      <td>202101-202106</td>\n      <td>부산광역시</td>\n      <td>수영구</td>\n      <td>합계</td>\n      <td>12749</td>\n      <td>295625015</td>\n    </tr>\n    <tr>\n      <th>107</th>\n      <td>202101-202106</td>\n      <td>부산광역시</td>\n      <td>수영구</td>\n      <td>일반용</td>\n      <td>11200</td>\n      <td>142003427</td>\n    </tr>\n    <tr>\n      <th>108</th>\n      <td>202101-202106</td>\n      <td>부산광역시</td>\n      <td>연제구</td>\n      <td>합계</td>\n      <td>12047</td>\n      <td>383730495</td>\n    </tr>\n    <tr>\n      <th>108</th>\n      <td>202101-202106</td>\n      <td>부산광역시</td>\n      <td>연제구</td>\n      <td>일반용</td>\n      <td>11500</td>\n      <td>180682625</td>\n    </tr>\n    <tr>\n      <th>109</th>\n      <td>202101-202106</td>\n      <td>부산광역시</td>\n      <td>영도구</td>\n      <td>합계</td>\n      <td>9637</td>\n      <td>235780282</td>\n    </tr>\n    <tr>\n      <th>109</th>\n      <td>202101-202106</td>\n      <td>부산광역시</td>\n      <td>영도구</td>\n      <td>일반용</td>\n      <td>6211</td>\n      <td>73166651</td>\n    </tr>\n    <tr>\n      <th>110</th>\n      <td>202101-202106</td>\n      <td>부산광역시</td>\n      <td>중구</td>\n      <td>합계</td>\n      <td>6422</td>\n      <td>170920781</td>\n    </tr>\n    <tr>\n      <th>110</th>\n      <td>202101-202106</td>\n      <td>부산광역시</td>\n      <td>중구</td>\n      <td>일반용</td>\n      <td>8310</td>\n      <td>129725574</td>\n    </tr>\n    <tr>\n      <th>111</th>\n      <td>202101-202106</td>\n      <td>부산광역시</td>\n      <td>해운대구</td>\n      <td>일반용</td>\n      <td>14827</td>\n      <td>405560102</td>\n    </tr>\n    <tr>\n      <th>111</th>\n      <td>202101-202106</td>\n      <td>부산광역시</td>\n      <td>해운대구</td>\n      <td>합계</td>\n      <td>15783</td>\n      <td>883146774</td>\n    </tr>\n  </tbody>\n</table>\n</div>"
     },
     "execution_count": 27,
     "metadata": {},
     "output_type": "execute_result"
    }
   ],
   "source": [
    "Final = pd.concat([GyeonGiHap2 , Hap])\n",
    "Final = Final.sort_values('시군구')\n",
    "Final"
   ],
   "metadata": {
    "collapsed": false,
    "pycharm": {
     "name": "#%%\n"
    }
   }
  },
  {
   "cell_type": "code",
   "execution_count": 28,
   "outputs": [
    {
     "data": {
      "text/plain": "[239705827,\n 182441007,\n 165209967,\n 195850265,\n 135267186,\n 194678742,\n 373737473,\n 155297542,\n 194973702,\n 195688432,\n 112313573,\n 142003427,\n 180682625,\n 73166651,\n 129725574,\n 405560102]"
     },
     "execution_count": 28,
     "metadata": {},
     "output_type": "execute_result"
    }
   ],
   "source": [
    "# Final['일반용 전기의 비율'] = (Final['사용량(kWh)'].loc[Final['계약구분'] == '일반용']) // (Final['사용량(kWh)'].loc[Final['계약구분'] == '합계'])\n",
    "# Final\n",
    "ex = (Final['사용량(kWh)'].loc[Final['계약구분'] == '일반용']).tolist()\n",
    "\n",
    "\n",
    "ex\n"
   ],
   "metadata": {
    "collapsed": false,
    "pycharm": {
     "name": "#%%\n"
    }
   }
  },
  {
   "cell_type": "code",
   "execution_count": 29,
   "outputs": [
    {
     "data": {
      "text/plain": "[2122696974,\n 534075343,\n 566376992,\n 708047448,\n 252126776,\n 459868504,\n 821780641,\n 430128188,\n 795369776,\n 1238445645,\n 286502694,\n 295625015,\n 383730495,\n 235780282,\n 170920781,\n 883146774]"
     },
     "execution_count": 29,
     "metadata": {},
     "output_type": "execute_result"
    }
   ],
   "source": [
    "ex_2 =(Final['사용량(kWh)'].loc[Final['계약구분'] == '합계']).tolist()\n",
    "ex_2"
   ],
   "metadata": {
    "collapsed": false,
    "pycharm": {
     "name": "#%%\n"
    }
   }
  },
  {
   "cell_type": "code",
   "execution_count": 30,
   "outputs": [
    {
     "name": "stdout",
     "output_type": "stream",
     "text": [
      "[11.29, 34.16, 29.17, 27.66, 53.65, 42.33, 45.48, 36.1, 24.51, 15.8, 39.2, 48.03, 47.09, 31.03, 75.9, 45.92]\n"
     ]
    }
   ],
   "source": [
    "Rate = []\n",
    "ilban = []\n",
    "rae = 0\n",
    "for i in range(len(ex)):\n",
    "    rae = round(ex[i] / ex_2[i] *100 ,2)\n",
    "    Rate.append(rae)\n",
    "print(Rate)"
   ],
   "metadata": {
    "collapsed": false,
    "pycharm": {
     "name": "#%%\n"
    }
   }
  },
  {
   "cell_type": "code",
   "execution_count": 31,
   "outputs": [
    {
     "data": {
      "text/plain": "0    11\n1    34\n2    29\n3    28\n4    54\n5    42\n6    45\n7    36\n8    25\n9    16\n10   39\n11   48\n12   47\n13   31\n14   76\n15   46\ndtype: float64"
     },
     "execution_count": 31,
     "metadata": {},
     "output_type": "execute_result"
    }
   ],
   "source": [
    "Rate3 = pd.Series(Rate)\n",
    "Rate3\n",
    "\n",
    "# Final = pd.concat([Final , Rate3])\n",
    "# Final"
   ],
   "metadata": {
    "collapsed": false,
    "pycharm": {
     "name": "#%%\n"
    }
   }
  },
  {
   "cell_type": "code",
   "execution_count": 32,
   "outputs": [
    {
     "data": {
      "text/plain": "     시군구 계약구분  비율\n0    강서구  일반용  11\n1    금정구  일반용  34\n2    기장군  일반용  29\n3     남구  일반용  28\n4     동구  일반용  54\n5    동래구  일반용  42\n6   부산진구  일반용  45\n7     북구  일반용  36\n8    사상구  일반용  25\n9    사하구  일반용  16\n10    서구  일반용  39\n11   수영구  일반용  48\n12   연제구  일반용  47\n13   영도구  일반용  31\n14    중구  일반용  76\n15  해운대구  일반용  46",
      "text/html": "<div>\n<style scoped>\n    .dataframe tbody tr th:only-of-type {\n        vertical-align: middle;\n    }\n\n    .dataframe tbody tr th {\n        vertical-align: top;\n    }\n\n    .dataframe thead th {\n        text-align: right;\n    }\n</style>\n<table border=\"1\" class=\"dataframe\">\n  <thead>\n    <tr style=\"text-align: right;\">\n      <th></th>\n      <th>시군구</th>\n      <th>계약구분</th>\n      <th>비율</th>\n    </tr>\n  </thead>\n  <tbody>\n    <tr>\n      <th>0</th>\n      <td>강서구</td>\n      <td>일반용</td>\n      <td>11</td>\n    </tr>\n    <tr>\n      <th>1</th>\n      <td>금정구</td>\n      <td>일반용</td>\n      <td>34</td>\n    </tr>\n    <tr>\n      <th>2</th>\n      <td>기장군</td>\n      <td>일반용</td>\n      <td>29</td>\n    </tr>\n    <tr>\n      <th>3</th>\n      <td>남구</td>\n      <td>일반용</td>\n      <td>28</td>\n    </tr>\n    <tr>\n      <th>4</th>\n      <td>동구</td>\n      <td>일반용</td>\n      <td>54</td>\n    </tr>\n    <tr>\n      <th>5</th>\n      <td>동래구</td>\n      <td>일반용</td>\n      <td>42</td>\n    </tr>\n    <tr>\n      <th>6</th>\n      <td>부산진구</td>\n      <td>일반용</td>\n      <td>45</td>\n    </tr>\n    <tr>\n      <th>7</th>\n      <td>북구</td>\n      <td>일반용</td>\n      <td>36</td>\n    </tr>\n    <tr>\n      <th>8</th>\n      <td>사상구</td>\n      <td>일반용</td>\n      <td>25</td>\n    </tr>\n    <tr>\n      <th>9</th>\n      <td>사하구</td>\n      <td>일반용</td>\n      <td>16</td>\n    </tr>\n    <tr>\n      <th>10</th>\n      <td>서구</td>\n      <td>일반용</td>\n      <td>39</td>\n    </tr>\n    <tr>\n      <th>11</th>\n      <td>수영구</td>\n      <td>일반용</td>\n      <td>48</td>\n    </tr>\n    <tr>\n      <th>12</th>\n      <td>연제구</td>\n      <td>일반용</td>\n      <td>47</td>\n    </tr>\n    <tr>\n      <th>13</th>\n      <td>영도구</td>\n      <td>일반용</td>\n      <td>31</td>\n    </tr>\n    <tr>\n      <th>14</th>\n      <td>중구</td>\n      <td>일반용</td>\n      <td>76</td>\n    </tr>\n    <tr>\n      <th>15</th>\n      <td>해운대구</td>\n      <td>일반용</td>\n      <td>46</td>\n    </tr>\n  </tbody>\n</table>\n</div>"
     },
     "execution_count": 32,
     "metadata": {},
     "output_type": "execute_result"
    }
   ],
   "source": [
    "for j in range(len(Rate)):\n",
    "    ilban.append('일반용')\n",
    "#print(Rate)\n",
    "\n",
    "Rate2 = pd.DataFrame()\n",
    "Rate2['시군구'] = pd.DataFrame(SIGUNGU)\n",
    "Rate2['계약구분'] = pd.DataFrame(ilban)\n",
    "Rate2['비율'] = pd.DataFrame(Rate)\n",
    "Rate2\n",
    "#print(Rate2.dtypes)"
   ],
   "metadata": {
    "collapsed": false,
    "pycharm": {
     "name": "#%%\n"
    }
   }
  },
  {
   "cell_type": "code",
   "execution_count": 33,
   "outputs": [
    {
     "data": {
      "text/plain": "               년월     시구   시군구 계약구분 고객호수(호)    사용량(kWh)  비율\n0   202101-202106  부산광역시   강서구  일반용   10464   239705827  11\n1   202101-202106  부산광역시   강서구   합계    9382  2122696974 NaN\n3   202101-202106  부산광역시   금정구  일반용   15528   182441007  34\n2   202101-202106  부산광역시   금정구   합계   18729   534075343 NaN\n5   202101-202106  부산광역시   기장군  일반용    8929   165209967  29\n4   202101-202106  부산광역시   기장군   합계    9556   566376992 NaN\n6   202101-202106  부산광역시    남구  일반용   12232   195850265  28\n7   202101-202106  부산광역시    남구   합계   16540   708047448 NaN\n8   202101-202106  부산광역시    동구  일반용    7380   135267186  54\n9   202101-202106  부산광역시    동구   합계    8907   252126776 NaN\n10  202101-202106  부산광역시   동래구  일반용   15754   194678742  42\n11  202101-202106  부산광역시   동래구   합계   15613   459868504 NaN\n12  202101-202106  부산광역시  부산진구  일반용   23008   373737473  45\n13  202101-202106  부산광역시  부산진구   합계   22924   821780641 NaN\n14  202101-202106  부산광역시    북구  일반용   10795   155297542  36\n15  202101-202106  부산광역시    북구   합계   12961   430128188 NaN\n17  202101-202106  부산광역시   사상구  일반용   13154   194973702  25\n16  202101-202106  부산광역시   사상구   합계   13944   795369776 NaN\n19  202101-202106  부산광역시   사하구  일반용   14529   195688432  16\n18  202101-202106  부산광역시   사하구   합계   19435  1238445645 NaN\n20  202101-202106  부산광역시    서구  일반용    6508   112313573  39\n21  202101-202106  부산광역시    서구   합계   10165   286502694 NaN\n23  202101-202106  부산광역시   수영구  일반용   11200   142003427  48\n22  202101-202106  부산광역시   수영구   합계   12749   295625015 NaN\n25  202101-202106  부산광역시   연제구  일반용   11500   180682625  47\n24  202101-202106  부산광역시   연제구   합계   12047   383730495 NaN\n27  202101-202106  부산광역시   영도구  일반용    6211    73166651  31\n26  202101-202106  부산광역시   영도구   합계    9637   235780282 NaN\n29  202101-202106  부산광역시    중구  일반용    8310   129725574  76\n28  202101-202106  부산광역시    중구   합계    6422   170920781 NaN\n30  202101-202106  부산광역시  해운대구  일반용   14827   405560102  46\n31  202101-202106  부산광역시  해운대구   합계   15783   883146774 NaN",
      "text/html": "<div>\n<style scoped>\n    .dataframe tbody tr th:only-of-type {\n        vertical-align: middle;\n    }\n\n    .dataframe tbody tr th {\n        vertical-align: top;\n    }\n\n    .dataframe thead th {\n        text-align: right;\n    }\n</style>\n<table border=\"1\" class=\"dataframe\">\n  <thead>\n    <tr style=\"text-align: right;\">\n      <th></th>\n      <th>년월</th>\n      <th>시구</th>\n      <th>시군구</th>\n      <th>계약구분</th>\n      <th>고객호수(호)</th>\n      <th>사용량(kWh)</th>\n      <th>비율</th>\n    </tr>\n  </thead>\n  <tbody>\n    <tr>\n      <th>0</th>\n      <td>202101-202106</td>\n      <td>부산광역시</td>\n      <td>강서구</td>\n      <td>일반용</td>\n      <td>10464</td>\n      <td>239705827</td>\n      <td>11</td>\n    </tr>\n    <tr>\n      <th>1</th>\n      <td>202101-202106</td>\n      <td>부산광역시</td>\n      <td>강서구</td>\n      <td>합계</td>\n      <td>9382</td>\n      <td>2122696974</td>\n      <td>NaN</td>\n    </tr>\n    <tr>\n      <th>3</th>\n      <td>202101-202106</td>\n      <td>부산광역시</td>\n      <td>금정구</td>\n      <td>일반용</td>\n      <td>15528</td>\n      <td>182441007</td>\n      <td>34</td>\n    </tr>\n    <tr>\n      <th>2</th>\n      <td>202101-202106</td>\n      <td>부산광역시</td>\n      <td>금정구</td>\n      <td>합계</td>\n      <td>18729</td>\n      <td>534075343</td>\n      <td>NaN</td>\n    </tr>\n    <tr>\n      <th>5</th>\n      <td>202101-202106</td>\n      <td>부산광역시</td>\n      <td>기장군</td>\n      <td>일반용</td>\n      <td>8929</td>\n      <td>165209967</td>\n      <td>29</td>\n    </tr>\n    <tr>\n      <th>4</th>\n      <td>202101-202106</td>\n      <td>부산광역시</td>\n      <td>기장군</td>\n      <td>합계</td>\n      <td>9556</td>\n      <td>566376992</td>\n      <td>NaN</td>\n    </tr>\n    <tr>\n      <th>6</th>\n      <td>202101-202106</td>\n      <td>부산광역시</td>\n      <td>남구</td>\n      <td>일반용</td>\n      <td>12232</td>\n      <td>195850265</td>\n      <td>28</td>\n    </tr>\n    <tr>\n      <th>7</th>\n      <td>202101-202106</td>\n      <td>부산광역시</td>\n      <td>남구</td>\n      <td>합계</td>\n      <td>16540</td>\n      <td>708047448</td>\n      <td>NaN</td>\n    </tr>\n    <tr>\n      <th>8</th>\n      <td>202101-202106</td>\n      <td>부산광역시</td>\n      <td>동구</td>\n      <td>일반용</td>\n      <td>7380</td>\n      <td>135267186</td>\n      <td>54</td>\n    </tr>\n    <tr>\n      <th>9</th>\n      <td>202101-202106</td>\n      <td>부산광역시</td>\n      <td>동구</td>\n      <td>합계</td>\n      <td>8907</td>\n      <td>252126776</td>\n      <td>NaN</td>\n    </tr>\n    <tr>\n      <th>10</th>\n      <td>202101-202106</td>\n      <td>부산광역시</td>\n      <td>동래구</td>\n      <td>일반용</td>\n      <td>15754</td>\n      <td>194678742</td>\n      <td>42</td>\n    </tr>\n    <tr>\n      <th>11</th>\n      <td>202101-202106</td>\n      <td>부산광역시</td>\n      <td>동래구</td>\n      <td>합계</td>\n      <td>15613</td>\n      <td>459868504</td>\n      <td>NaN</td>\n    </tr>\n    <tr>\n      <th>12</th>\n      <td>202101-202106</td>\n      <td>부산광역시</td>\n      <td>부산진구</td>\n      <td>일반용</td>\n      <td>23008</td>\n      <td>373737473</td>\n      <td>45</td>\n    </tr>\n    <tr>\n      <th>13</th>\n      <td>202101-202106</td>\n      <td>부산광역시</td>\n      <td>부산진구</td>\n      <td>합계</td>\n      <td>22924</td>\n      <td>821780641</td>\n      <td>NaN</td>\n    </tr>\n    <tr>\n      <th>14</th>\n      <td>202101-202106</td>\n      <td>부산광역시</td>\n      <td>북구</td>\n      <td>일반용</td>\n      <td>10795</td>\n      <td>155297542</td>\n      <td>36</td>\n    </tr>\n    <tr>\n      <th>15</th>\n      <td>202101-202106</td>\n      <td>부산광역시</td>\n      <td>북구</td>\n      <td>합계</td>\n      <td>12961</td>\n      <td>430128188</td>\n      <td>NaN</td>\n    </tr>\n    <tr>\n      <th>17</th>\n      <td>202101-202106</td>\n      <td>부산광역시</td>\n      <td>사상구</td>\n      <td>일반용</td>\n      <td>13154</td>\n      <td>194973702</td>\n      <td>25</td>\n    </tr>\n    <tr>\n      <th>16</th>\n      <td>202101-202106</td>\n      <td>부산광역시</td>\n      <td>사상구</td>\n      <td>합계</td>\n      <td>13944</td>\n      <td>795369776</td>\n      <td>NaN</td>\n    </tr>\n    <tr>\n      <th>19</th>\n      <td>202101-202106</td>\n      <td>부산광역시</td>\n      <td>사하구</td>\n      <td>일반용</td>\n      <td>14529</td>\n      <td>195688432</td>\n      <td>16</td>\n    </tr>\n    <tr>\n      <th>18</th>\n      <td>202101-202106</td>\n      <td>부산광역시</td>\n      <td>사하구</td>\n      <td>합계</td>\n      <td>19435</td>\n      <td>1238445645</td>\n      <td>NaN</td>\n    </tr>\n    <tr>\n      <th>20</th>\n      <td>202101-202106</td>\n      <td>부산광역시</td>\n      <td>서구</td>\n      <td>일반용</td>\n      <td>6508</td>\n      <td>112313573</td>\n      <td>39</td>\n    </tr>\n    <tr>\n      <th>21</th>\n      <td>202101-202106</td>\n      <td>부산광역시</td>\n      <td>서구</td>\n      <td>합계</td>\n      <td>10165</td>\n      <td>286502694</td>\n      <td>NaN</td>\n    </tr>\n    <tr>\n      <th>23</th>\n      <td>202101-202106</td>\n      <td>부산광역시</td>\n      <td>수영구</td>\n      <td>일반용</td>\n      <td>11200</td>\n      <td>142003427</td>\n      <td>48</td>\n    </tr>\n    <tr>\n      <th>22</th>\n      <td>202101-202106</td>\n      <td>부산광역시</td>\n      <td>수영구</td>\n      <td>합계</td>\n      <td>12749</td>\n      <td>295625015</td>\n      <td>NaN</td>\n    </tr>\n    <tr>\n      <th>25</th>\n      <td>202101-202106</td>\n      <td>부산광역시</td>\n      <td>연제구</td>\n      <td>일반용</td>\n      <td>11500</td>\n      <td>180682625</td>\n      <td>47</td>\n    </tr>\n    <tr>\n      <th>24</th>\n      <td>202101-202106</td>\n      <td>부산광역시</td>\n      <td>연제구</td>\n      <td>합계</td>\n      <td>12047</td>\n      <td>383730495</td>\n      <td>NaN</td>\n    </tr>\n    <tr>\n      <th>27</th>\n      <td>202101-202106</td>\n      <td>부산광역시</td>\n      <td>영도구</td>\n      <td>일반용</td>\n      <td>6211</td>\n      <td>73166651</td>\n      <td>31</td>\n    </tr>\n    <tr>\n      <th>26</th>\n      <td>202101-202106</td>\n      <td>부산광역시</td>\n      <td>영도구</td>\n      <td>합계</td>\n      <td>9637</td>\n      <td>235780282</td>\n      <td>NaN</td>\n    </tr>\n    <tr>\n      <th>29</th>\n      <td>202101-202106</td>\n      <td>부산광역시</td>\n      <td>중구</td>\n      <td>일반용</td>\n      <td>8310</td>\n      <td>129725574</td>\n      <td>76</td>\n    </tr>\n    <tr>\n      <th>28</th>\n      <td>202101-202106</td>\n      <td>부산광역시</td>\n      <td>중구</td>\n      <td>합계</td>\n      <td>6422</td>\n      <td>170920781</td>\n      <td>NaN</td>\n    </tr>\n    <tr>\n      <th>30</th>\n      <td>202101-202106</td>\n      <td>부산광역시</td>\n      <td>해운대구</td>\n      <td>일반용</td>\n      <td>14827</td>\n      <td>405560102</td>\n      <td>46</td>\n    </tr>\n    <tr>\n      <th>31</th>\n      <td>202101-202106</td>\n      <td>부산광역시</td>\n      <td>해운대구</td>\n      <td>합계</td>\n      <td>15783</td>\n      <td>883146774</td>\n      <td>NaN</td>\n    </tr>\n  </tbody>\n</table>\n</div>"
     },
     "execution_count": 33,
     "metadata": {},
     "output_type": "execute_result"
    }
   ],
   "source": [
    "Final = pd.merge(Final , Rate2, on=['시군구', '계약구분'] , how='left')\n",
    "\n",
    "#Final.drop(['비율_y]' , axis = 1 , inplace = True)\n",
    "#Final.rename(columns={'비율_y':'전체 계약종별 전력사용량 대비 일반용 사용량 비율'})\n",
    "Final = Final.sort_values(['시군구' , '계약구분'])\n",
    "Final"
   ],
   "metadata": {
    "collapsed": false,
    "pycharm": {
     "name": "#%%\n"
    }
   }
  },
  {
   "cell_type": "code",
   "execution_count": 34,
   "outputs": [],
   "source": [
    "# Final['일반용 전기의 비율'] = Final.append(Rate)\n",
    "# Final"
   ],
   "metadata": {
    "collapsed": false,
    "pycharm": {
     "name": "#%%\n"
    }
   }
  },
  {
   "cell_type": "markdown",
   "source": [
    "### 6. 날짜 체크!!!!!!!!!!!!!!!!!!!!1"
   ],
   "metadata": {
    "collapsed": false,
    "pycharm": {
     "name": "#%% md\n"
    }
   }
  },
  {
   "cell_type": "code",
   "execution_count": 35,
   "outputs": [],
   "source": [
    "Final.to_csv(\"{}_일반용_전력사용량_2101-06.csv\".format(City) , mode = 'w' , encoding= 'cp949' , index =False) #파일명 수정"
   ],
   "metadata": {
    "collapsed": false,
    "pycharm": {
     "name": "#%%\n"
    }
   }
  },
  {
   "cell_type": "code",
   "execution_count": 35,
   "outputs": [],
   "source": [],
   "metadata": {
    "collapsed": false,
    "pycharm": {
     "name": "#%%\n"
    }
   }
  },
  {
   "cell_type": "code",
   "execution_count": 36,
   "outputs": [],
   "source": [
    "# Sigu = list(set(df_3['시군구'].tolist()))\n",
    "#\n",
    "# Sigu.sort()\n",
    "#\n",
    "# Sigu"
   ],
   "metadata": {
    "collapsed": false,
    "pycharm": {
     "name": "#%%\n"
    }
   }
  },
  {
   "cell_type": "code",
   "execution_count": 37,
   "outputs": [],
   "source": [
    "# YearMonth = list(set(df_3['년월'].tolist()))\n",
    "#\n",
    "# YearMonth.sort()\n",
    "# YearMonth"
   ],
   "metadata": {
    "collapsed": false,
    "pycharm": {
     "name": "#%%\n"
    }
   }
  },
  {
   "cell_type": "code",
   "execution_count": 38,
   "outputs": [],
   "source": [
    "# Gayeak = list(set(df_3['계약구분'].tolist()))\n",
    "#\n",
    "# Gayeak.sort()\n",
    "# Gayeak"
   ],
   "metadata": {
    "collapsed": false,
    "pycharm": {
     "name": "#%%\n"
    }
   }
  },
  {
   "cell_type": "code",
   "execution_count": 39,
   "outputs": [],
   "source": [
    "# SEOUL = df_3.loc[(df_3['계약구분'] =='일반용')]\n",
    "# SEOUL.drop(['고객호수(호)' ,'전기요금(원)' , '평균판매단가(원/kWh)'] , axis = 1 , inplace = True)\n",
    "# #SEOUL.dtypes(['사용량(kWh)'])\n",
    "# SEOUL"
   ],
   "metadata": {
    "collapsed": false,
    "pycharm": {
     "name": "#%%\n"
    }
   }
  },
  {
   "cell_type": "code",
   "execution_count": 40,
   "outputs": [],
   "source": [
    "#SEOUL.to_csv(\"서울특별시_일반용_전력사용량.csv\" , mode = 'w' , encoding= 'cp949')"
   ],
   "metadata": {
    "collapsed": false,
    "pycharm": {
     "name": "#%%\n"
    }
   }
  },
  {
   "cell_type": "code",
   "execution_count": 41,
   "outputs": [],
   "source": [
    "# print(SEOUL.dtypes)\n",
    "# SEOUL = SEOUL.astype({'사용량(kWh)' : 'float'})"
   ],
   "metadata": {
    "collapsed": false,
    "pycharm": {
     "name": "#%%\n"
    }
   }
  },
  {
   "cell_type": "code",
   "execution_count": 42,
   "outputs": [],
   "source": [
    "# SEOUL"
   ],
   "metadata": {
    "collapsed": false,
    "pycharm": {
     "name": "#%%\n"
    }
   }
  },
  {
   "cell_type": "code",
   "execution_count": 43,
   "outputs": [],
   "source": [
    "# a = SEOUL['사용량(kWh)'].tolist()\n",
    "# int_list = map(int, a)\n",
    "# b=0\n",
    "# for i in int_list:\n",
    "#     b+=i\n",
    "#\n",
    "# print(b)"
   ],
   "metadata": {
    "collapsed": false,
    "pycharm": {
     "name": "#%%\n"
    }
   }
  },
  {
   "cell_type": "code",
   "execution_count": 43,
   "outputs": [],
   "source": [],
   "metadata": {
    "collapsed": false,
    "pycharm": {
     "name": "#%%\n"
    }
   }
  },
  {
   "cell_type": "code",
   "execution_count": 43,
   "outputs": [],
   "source": [],
   "metadata": {
    "collapsed": false,
    "pycharm": {
     "name": "#%%\n"
    }
   }
  },
  {
   "cell_type": "code",
   "execution_count": 43,
   "outputs": [],
   "source": [],
   "metadata": {
    "collapsed": false,
    "pycharm": {
     "name": "#%%\n"
    }
   }
  },
  {
   "cell_type": "code",
   "execution_count": 43,
   "outputs": [],
   "source": [],
   "metadata": {
    "collapsed": false,
    "pycharm": {
     "name": "#%%\n"
    }
   }
  },
  {
   "cell_type": "code",
   "execution_count": 43,
   "outputs": [],
   "source": [],
   "metadata": {
    "collapsed": false,
    "pycharm": {
     "name": "#%%\n"
    }
   }
  },
  {
   "cell_type": "code",
   "execution_count": 43,
   "outputs": [],
   "source": [],
   "metadata": {
    "collapsed": false,
    "pycharm": {
     "name": "#%%\n"
    }
   }
  },
  {
   "cell_type": "code",
   "execution_count": 43,
   "outputs": [],
   "source": [],
   "metadata": {
    "collapsed": false,
    "pycharm": {
     "name": "#%%\n"
    }
   }
  }
 ],
 "metadata": {
  "kernelspec": {
   "display_name": "Python 3",
   "language": "python",
   "name": "python3"
  },
  "language_info": {
   "codemirror_mode": {
    "name": "ipython",
    "version": 2
   },
   "file_extension": ".py",
   "mimetype": "text/x-python",
   "name": "python",
   "nbconvert_exporter": "python",
   "pygments_lexer": "ipython2",
   "version": "2.7.6"
  }
 },
 "nbformat": 4,
 "nbformat_minor": 0
}