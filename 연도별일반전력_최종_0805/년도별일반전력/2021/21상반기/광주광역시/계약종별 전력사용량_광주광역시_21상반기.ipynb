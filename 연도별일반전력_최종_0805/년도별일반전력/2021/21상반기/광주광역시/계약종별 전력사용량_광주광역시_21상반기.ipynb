{
 "cells": [
  {
   "cell_type": "markdown",
   "source": [],
   "metadata": {
    "collapsed": false,
    "pycharm": {
     "name": "#%% md\n"
    }
   }
  },
  {
   "cell_type": "code",
   "execution_count": 1,
   "outputs": [],
   "source": [
    "import pandas as pd\n",
    "import re\n",
    "\n",
    "pd.options.display.float_format = '{:.0f}'.format"
   ],
   "metadata": {
    "collapsed": false,
    "pycharm": {
     "name": "#%%\n"
    }
   }
  },
  {
   "cell_type": "markdown",
   "source": [
    "### 1. 꼭 read_csv 21상반기, 19하반기와 같이 맞추어 주세요!!! 또한 지역(전라북도, 남도) 맞추기!!!!!"
   ],
   "metadata": {
    "collapsed": false,
    "pycharm": {
     "name": "#%% md\n"
    }
   }
  },
  {
   "cell_type": "code",
   "execution_count": 2,
   "outputs": [
    {
     "data": {
      "text/plain": "        계약종별 전력사용량 월별( 20220804 현재 ) Unnamed: 1     Unnamed: 2 Unnamed: 3  \\\n0    시도 : 광주광역시, 시군구 : 전체(시 / 군 / 구)        NaN            NaN        NaN   \n1        기간 : 2021년 01 월 ~ 2021년 06월        NaN            NaN        NaN   \n2                                 년월         시구            시군구       계약구분   \n3                             202101      광주광역시  전체(시 / 군 / 구)        주택용   \n4                             202101      광주광역시  전체(시 / 군 / 구)        일반용   \n..                               ...        ...            ...        ...   \n283                           202106      광주광역시             서구        산업용   \n284                           202106      광주광역시             서구        심 야   \n285                           202106      광주광역시             서구        일반용   \n286                           202106      광주광역시             서구        주택용   \n287                           202106      광주광역시             서구         합계   \n\n    Unnamed: 4    Unnamed: 5       Unnamed: 6     Unnamed: 7  \n0          NaN           NaN              NaN            NaN  \n1          NaN           NaN              NaN            NaN  \n2      고객호수(호)      사용량(kWh)          전기요금(원)  평균판매단가(원/kWh)  \n3     386,291   200,924,825   22,352,496,686          111.2   \n4      94,050   278,464,922   36,025,290,206          129.4   \n..         ...           ...              ...            ...  \n283       685    26,498,907    3,224,055,216          121.7   \n284       758     1,033,357       72,170,170           69.8   \n285    19,717    60,939,034    7,704,447,415          126.4   \n286    76,627    35,205,670    3,472,329,780           98.6   \n287   107,660   126,314,187   14,768,406,250          116.9   \n\n[288 rows x 8 columns]",
      "text/html": "<div>\n<style scoped>\n    .dataframe tbody tr th:only-of-type {\n        vertical-align: middle;\n    }\n\n    .dataframe tbody tr th {\n        vertical-align: top;\n    }\n\n    .dataframe thead th {\n        text-align: right;\n    }\n</style>\n<table border=\"1\" class=\"dataframe\">\n  <thead>\n    <tr style=\"text-align: right;\">\n      <th></th>\n      <th>계약종별 전력사용량 월별( 20220804 현재 )</th>\n      <th>Unnamed: 1</th>\n      <th>Unnamed: 2</th>\n      <th>Unnamed: 3</th>\n      <th>Unnamed: 4</th>\n      <th>Unnamed: 5</th>\n      <th>Unnamed: 6</th>\n      <th>Unnamed: 7</th>\n    </tr>\n  </thead>\n  <tbody>\n    <tr>\n      <th>0</th>\n      <td>시도 : 광주광역시, 시군구 : 전체(시 / 군 / 구)</td>\n      <td>NaN</td>\n      <td>NaN</td>\n      <td>NaN</td>\n      <td>NaN</td>\n      <td>NaN</td>\n      <td>NaN</td>\n      <td>NaN</td>\n    </tr>\n    <tr>\n      <th>1</th>\n      <td>기간 : 2021년 01 월 ~ 2021년 06월</td>\n      <td>NaN</td>\n      <td>NaN</td>\n      <td>NaN</td>\n      <td>NaN</td>\n      <td>NaN</td>\n      <td>NaN</td>\n      <td>NaN</td>\n    </tr>\n    <tr>\n      <th>2</th>\n      <td>년월</td>\n      <td>시구</td>\n      <td>시군구</td>\n      <td>계약구분</td>\n      <td>고객호수(호)</td>\n      <td>사용량(kWh)</td>\n      <td>전기요금(원)</td>\n      <td>평균판매단가(원/kWh)</td>\n    </tr>\n    <tr>\n      <th>3</th>\n      <td>202101</td>\n      <td>광주광역시</td>\n      <td>전체(시 / 군 / 구)</td>\n      <td>주택용</td>\n      <td>386,291</td>\n      <td>200,924,825</td>\n      <td>22,352,496,686</td>\n      <td>111.2</td>\n    </tr>\n    <tr>\n      <th>4</th>\n      <td>202101</td>\n      <td>광주광역시</td>\n      <td>전체(시 / 군 / 구)</td>\n      <td>일반용</td>\n      <td>94,050</td>\n      <td>278,464,922</td>\n      <td>36,025,290,206</td>\n      <td>129.4</td>\n    </tr>\n    <tr>\n      <th>...</th>\n      <td>...</td>\n      <td>...</td>\n      <td>...</td>\n      <td>...</td>\n      <td>...</td>\n      <td>...</td>\n      <td>...</td>\n      <td>...</td>\n    </tr>\n    <tr>\n      <th>283</th>\n      <td>202106</td>\n      <td>광주광역시</td>\n      <td>서구</td>\n      <td>산업용</td>\n      <td>685</td>\n      <td>26,498,907</td>\n      <td>3,224,055,216</td>\n      <td>121.7</td>\n    </tr>\n    <tr>\n      <th>284</th>\n      <td>202106</td>\n      <td>광주광역시</td>\n      <td>서구</td>\n      <td>심 야</td>\n      <td>758</td>\n      <td>1,033,357</td>\n      <td>72,170,170</td>\n      <td>69.8</td>\n    </tr>\n    <tr>\n      <th>285</th>\n      <td>202106</td>\n      <td>광주광역시</td>\n      <td>서구</td>\n      <td>일반용</td>\n      <td>19,717</td>\n      <td>60,939,034</td>\n      <td>7,704,447,415</td>\n      <td>126.4</td>\n    </tr>\n    <tr>\n      <th>286</th>\n      <td>202106</td>\n      <td>광주광역시</td>\n      <td>서구</td>\n      <td>주택용</td>\n      <td>76,627</td>\n      <td>35,205,670</td>\n      <td>3,472,329,780</td>\n      <td>98.6</td>\n    </tr>\n    <tr>\n      <th>287</th>\n      <td>202106</td>\n      <td>광주광역시</td>\n      <td>서구</td>\n      <td>합계</td>\n      <td>107,660</td>\n      <td>126,314,187</td>\n      <td>14,768,406,250</td>\n      <td>116.9</td>\n    </tr>\n  </tbody>\n</table>\n<p>288 rows × 8 columns</p>\n</div>"
     },
     "execution_count": 2,
     "metadata": {},
     "output_type": "execute_result"
    }
   ],
   "source": [
    "df = pd.read_csv('광주광역시_계약종별_전력사용량_월별_21상반기.csv' , encoding='cp949')\n",
    "\n",
    "df\n",
    "#exchng=  pd.read_csv('지역별_전력거래량_20220803093050.csv' , encoding='cp949')"
   ],
   "metadata": {
    "collapsed": false,
    "pycharm": {
     "name": "#%%\n"
    }
   }
  },
  {
   "cell_type": "code",
   "execution_count": 3,
   "outputs": [
    {
     "data": {
      "text/plain": "    계약종별 전력사용량 월별( 20220804 현재 ) Unnamed: 1     Unnamed: 2 Unnamed: 3  \\\n2                             년월         시구            시군구       계약구분   \n3                         202101      광주광역시  전체(시 / 군 / 구)        주택용   \n4                         202101      광주광역시  전체(시 / 군 / 구)        일반용   \n5                         202101      광주광역시  전체(시 / 군 / 구)        교육용   \n6                         202101      광주광역시  전체(시 / 군 / 구)        산업용   \n..                           ...        ...            ...        ...   \n283                       202106      광주광역시             서구        산업용   \n284                       202106      광주광역시             서구        심 야   \n285                       202106      광주광역시             서구        일반용   \n286                       202106      광주광역시             서구        주택용   \n287                       202106      광주광역시             서구         합계   \n\n    Unnamed: 4    Unnamed: 5       Unnamed: 6     Unnamed: 7  \n2      고객호수(호)      사용량(kWh)          전기요금(원)  평균판매단가(원/kWh)  \n3     386,291   200,924,825   22,352,496,686          111.2   \n4      94,050   278,464,922   36,025,290,206          129.4   \n5         630    32,355,494    3,074,821,310           95.0   \n6       6,402   267,717,054   32,272,757,689          120.5   \n..         ...           ...              ...            ...  \n283       685    26,498,907    3,224,055,216          121.7   \n284       758     1,033,357       72,170,170           69.8   \n285    19,717    60,939,034    7,704,447,415          126.4   \n286    76,627    35,205,670    3,472,329,780           98.6   \n287   107,660   126,314,187   14,768,406,250          116.9   \n\n[285 rows x 8 columns]",
      "text/html": "<div>\n<style scoped>\n    .dataframe tbody tr th:only-of-type {\n        vertical-align: middle;\n    }\n\n    .dataframe tbody tr th {\n        vertical-align: top;\n    }\n\n    .dataframe thead th {\n        text-align: right;\n    }\n</style>\n<table border=\"1\" class=\"dataframe\">\n  <thead>\n    <tr style=\"text-align: right;\">\n      <th></th>\n      <th>계약종별 전력사용량 월별( 20220804 현재 )</th>\n      <th>Unnamed: 1</th>\n      <th>Unnamed: 2</th>\n      <th>Unnamed: 3</th>\n      <th>Unnamed: 4</th>\n      <th>Unnamed: 5</th>\n      <th>Unnamed: 6</th>\n      <th>Unnamed: 7</th>\n    </tr>\n  </thead>\n  <tbody>\n    <tr>\n      <th>2</th>\n      <td>년월</td>\n      <td>시구</td>\n      <td>시군구</td>\n      <td>계약구분</td>\n      <td>고객호수(호)</td>\n      <td>사용량(kWh)</td>\n      <td>전기요금(원)</td>\n      <td>평균판매단가(원/kWh)</td>\n    </tr>\n    <tr>\n      <th>3</th>\n      <td>202101</td>\n      <td>광주광역시</td>\n      <td>전체(시 / 군 / 구)</td>\n      <td>주택용</td>\n      <td>386,291</td>\n      <td>200,924,825</td>\n      <td>22,352,496,686</td>\n      <td>111.2</td>\n    </tr>\n    <tr>\n      <th>4</th>\n      <td>202101</td>\n      <td>광주광역시</td>\n      <td>전체(시 / 군 / 구)</td>\n      <td>일반용</td>\n      <td>94,050</td>\n      <td>278,464,922</td>\n      <td>36,025,290,206</td>\n      <td>129.4</td>\n    </tr>\n    <tr>\n      <th>5</th>\n      <td>202101</td>\n      <td>광주광역시</td>\n      <td>전체(시 / 군 / 구)</td>\n      <td>교육용</td>\n      <td>630</td>\n      <td>32,355,494</td>\n      <td>3,074,821,310</td>\n      <td>95.0</td>\n    </tr>\n    <tr>\n      <th>6</th>\n      <td>202101</td>\n      <td>광주광역시</td>\n      <td>전체(시 / 군 / 구)</td>\n      <td>산업용</td>\n      <td>6,402</td>\n      <td>267,717,054</td>\n      <td>32,272,757,689</td>\n      <td>120.5</td>\n    </tr>\n    <tr>\n      <th>...</th>\n      <td>...</td>\n      <td>...</td>\n      <td>...</td>\n      <td>...</td>\n      <td>...</td>\n      <td>...</td>\n      <td>...</td>\n      <td>...</td>\n    </tr>\n    <tr>\n      <th>283</th>\n      <td>202106</td>\n      <td>광주광역시</td>\n      <td>서구</td>\n      <td>산업용</td>\n      <td>685</td>\n      <td>26,498,907</td>\n      <td>3,224,055,216</td>\n      <td>121.7</td>\n    </tr>\n    <tr>\n      <th>284</th>\n      <td>202106</td>\n      <td>광주광역시</td>\n      <td>서구</td>\n      <td>심 야</td>\n      <td>758</td>\n      <td>1,033,357</td>\n      <td>72,170,170</td>\n      <td>69.8</td>\n    </tr>\n    <tr>\n      <th>285</th>\n      <td>202106</td>\n      <td>광주광역시</td>\n      <td>서구</td>\n      <td>일반용</td>\n      <td>19,717</td>\n      <td>60,939,034</td>\n      <td>7,704,447,415</td>\n      <td>126.4</td>\n    </tr>\n    <tr>\n      <th>286</th>\n      <td>202106</td>\n      <td>광주광역시</td>\n      <td>서구</td>\n      <td>주택용</td>\n      <td>76,627</td>\n      <td>35,205,670</td>\n      <td>3,472,329,780</td>\n      <td>98.6</td>\n    </tr>\n    <tr>\n      <th>287</th>\n      <td>202106</td>\n      <td>광주광역시</td>\n      <td>서구</td>\n      <td>합계</td>\n      <td>107,660</td>\n      <td>126,314,187</td>\n      <td>14,768,406,250</td>\n      <td>116.9</td>\n    </tr>\n  </tbody>\n</table>\n<p>285 rows × 8 columns</p>\n</div>"
     },
     "execution_count": 3,
     "metadata": {},
     "output_type": "execute_result"
    }
   ],
   "source": [
    "df = df.drop([0,1 , 46] , axis = 0)\n",
    "#0,1 , 10은 지우는게 맞다\n",
    "df"
   ],
   "metadata": {
    "collapsed": false,
    "pycharm": {
     "name": "#%%\n"
    }
   }
  },
  {
   "cell_type": "code",
   "execution_count": 4,
   "outputs": [],
   "source": [
    "a= df.loc[2].tolist()\n",
    "a\n",
    "df = df.drop([2] , axis = 0)"
   ],
   "metadata": {
    "collapsed": false,
    "pycharm": {
     "name": "#%%\n"
    }
   }
  },
  {
   "cell_type": "code",
   "execution_count": 5,
   "outputs": [
    {
     "data": {
      "text/plain": "         년월     시구            시군구 계약구분   고객호수(호)      사용량(kWh)  \\\n3    202101  광주광역시  전체(시 / 군 / 구)  주택용  386,291   200,924,825    \n4    202101  광주광역시  전체(시 / 군 / 구)  일반용   94,050   278,464,922    \n5    202101  광주광역시  전체(시 / 군 / 구)  교육용      630    32,355,494    \n6    202101  광주광역시  전체(시 / 군 / 구)  산업용    6,402   267,717,054    \n7    202101  광주광역시  전체(시 / 군 / 구)  농사용   12,017    11,148,705    \n..      ...    ...            ...  ...       ...           ...   \n283  202106  광주광역시             서구  산업용      685    26,498,907    \n284  202106  광주광역시             서구  심 야      758     1,033,357    \n285  202106  광주광역시             서구  일반용   19,717    60,939,034    \n286  202106  광주광역시             서구  주택용   76,627    35,205,670    \n287  202106  광주광역시             서구   합계  107,660   126,314,187    \n\n             전기요금(원) 평균판매단가(원/kWh)  \n3    22,352,496,686         111.2   \n4    36,025,290,206         129.4   \n5     3,074,821,310          95.0   \n6    32,272,757,689         120.5   \n7       494,595,520          44.4   \n..               ...           ...  \n283   3,224,055,216         121.7   \n284      72,170,170          69.8   \n285   7,704,447,415         126.4   \n286   3,472,329,780          98.6   \n287  14,768,406,250         116.9   \n\n[284 rows x 8 columns]",
      "text/html": "<div>\n<style scoped>\n    .dataframe tbody tr th:only-of-type {\n        vertical-align: middle;\n    }\n\n    .dataframe tbody tr th {\n        vertical-align: top;\n    }\n\n    .dataframe thead th {\n        text-align: right;\n    }\n</style>\n<table border=\"1\" class=\"dataframe\">\n  <thead>\n    <tr style=\"text-align: right;\">\n      <th></th>\n      <th>년월</th>\n      <th>시구</th>\n      <th>시군구</th>\n      <th>계약구분</th>\n      <th>고객호수(호)</th>\n      <th>사용량(kWh)</th>\n      <th>전기요금(원)</th>\n      <th>평균판매단가(원/kWh)</th>\n    </tr>\n  </thead>\n  <tbody>\n    <tr>\n      <th>3</th>\n      <td>202101</td>\n      <td>광주광역시</td>\n      <td>전체(시 / 군 / 구)</td>\n      <td>주택용</td>\n      <td>386,291</td>\n      <td>200,924,825</td>\n      <td>22,352,496,686</td>\n      <td>111.2</td>\n    </tr>\n    <tr>\n      <th>4</th>\n      <td>202101</td>\n      <td>광주광역시</td>\n      <td>전체(시 / 군 / 구)</td>\n      <td>일반용</td>\n      <td>94,050</td>\n      <td>278,464,922</td>\n      <td>36,025,290,206</td>\n      <td>129.4</td>\n    </tr>\n    <tr>\n      <th>5</th>\n      <td>202101</td>\n      <td>광주광역시</td>\n      <td>전체(시 / 군 / 구)</td>\n      <td>교육용</td>\n      <td>630</td>\n      <td>32,355,494</td>\n      <td>3,074,821,310</td>\n      <td>95.0</td>\n    </tr>\n    <tr>\n      <th>6</th>\n      <td>202101</td>\n      <td>광주광역시</td>\n      <td>전체(시 / 군 / 구)</td>\n      <td>산업용</td>\n      <td>6,402</td>\n      <td>267,717,054</td>\n      <td>32,272,757,689</td>\n      <td>120.5</td>\n    </tr>\n    <tr>\n      <th>7</th>\n      <td>202101</td>\n      <td>광주광역시</td>\n      <td>전체(시 / 군 / 구)</td>\n      <td>농사용</td>\n      <td>12,017</td>\n      <td>11,148,705</td>\n      <td>494,595,520</td>\n      <td>44.4</td>\n    </tr>\n    <tr>\n      <th>...</th>\n      <td>...</td>\n      <td>...</td>\n      <td>...</td>\n      <td>...</td>\n      <td>...</td>\n      <td>...</td>\n      <td>...</td>\n      <td>...</td>\n    </tr>\n    <tr>\n      <th>283</th>\n      <td>202106</td>\n      <td>광주광역시</td>\n      <td>서구</td>\n      <td>산업용</td>\n      <td>685</td>\n      <td>26,498,907</td>\n      <td>3,224,055,216</td>\n      <td>121.7</td>\n    </tr>\n    <tr>\n      <th>284</th>\n      <td>202106</td>\n      <td>광주광역시</td>\n      <td>서구</td>\n      <td>심 야</td>\n      <td>758</td>\n      <td>1,033,357</td>\n      <td>72,170,170</td>\n      <td>69.8</td>\n    </tr>\n    <tr>\n      <th>285</th>\n      <td>202106</td>\n      <td>광주광역시</td>\n      <td>서구</td>\n      <td>일반용</td>\n      <td>19,717</td>\n      <td>60,939,034</td>\n      <td>7,704,447,415</td>\n      <td>126.4</td>\n    </tr>\n    <tr>\n      <th>286</th>\n      <td>202106</td>\n      <td>광주광역시</td>\n      <td>서구</td>\n      <td>주택용</td>\n      <td>76,627</td>\n      <td>35,205,670</td>\n      <td>3,472,329,780</td>\n      <td>98.6</td>\n    </tr>\n    <tr>\n      <th>287</th>\n      <td>202106</td>\n      <td>광주광역시</td>\n      <td>서구</td>\n      <td>합계</td>\n      <td>107,660</td>\n      <td>126,314,187</td>\n      <td>14,768,406,250</td>\n      <td>116.9</td>\n    </tr>\n  </tbody>\n</table>\n<p>284 rows × 8 columns</p>\n</div>"
     },
     "execution_count": 5,
     "metadata": {},
     "output_type": "execute_result"
    }
   ],
   "source": [
    "df.columns = a\n",
    "df"
   ],
   "metadata": {
    "collapsed": false,
    "pycharm": {
     "name": "#%%\n"
    }
   }
  },
  {
   "cell_type": "code",
   "execution_count": 6,
   "outputs": [
    {
     "data": {
      "text/plain": "        년월     시구            시군구 계약구분    고객호수(호)       사용량(kWh)  \\\n3   202101  광주광역시  전체(시 / 군 / 구)  주택용   386,291    200,924,825    \n4   202101  광주광역시  전체(시 / 군 / 구)  일반용    94,050    278,464,922    \n5   202101  광주광역시  전체(시 / 군 / 구)  교육용       630     32,355,494    \n6   202101  광주광역시  전체(시 / 군 / 구)  산업용     6,402    267,717,054    \n7   202101  광주광역시  전체(시 / 군 / 구)  농사용    12,017     11,148,705    \n8   202101  광주광역시  전체(시 / 군 / 구)  가로등    47,953      7,885,102    \n9   202101  광주광역시  전체(시 / 군 / 구)  심 야     5,704     13,368,315    \n10  202102  광주광역시  전체(시 / 군 / 구)  주택용   386,628    194,943,127    \n11  202102  광주광역시  전체(시 / 군 / 구)  일반용    94,096    262,898,297    \n12  202102  광주광역시  전체(시 / 군 / 구)  교육용       629     24,793,275    \n13  202102  광주광역시  전체(시 / 군 / 구)  산업용     6,425    254,822,173    \n14  202102  광주광역시  전체(시 / 군 / 구)  농사용    12,023      9,634,653    \n15  202102  광주광역시  전체(시 / 군 / 구)  가로등    48,094      7,322,476    \n16  202102  광주광역시  전체(시 / 군 / 구)  심 야     5,683     12,813,406    \n17  202103  광주광역시  전체(시 / 군 / 구)  주택용   386,718    168,879,092    \n18  202103  광주광역시  전체(시 / 군 / 구)  일반용    94,186    224,108,275    \n19  202103  광주광역시  전체(시 / 군 / 구)  교육용       627     23,293,857    \n20  202103  광주광역시  전체(시 / 군 / 구)  산업용     6,428    257,753,536    \n21  202103  광주광역시  전체(시 / 군 / 구)  농사용    16,454      7,260,157    \n22  202103  광주광역시  전체(시 / 군 / 구)  가로등    48,127      6,617,821    \n23  202103  광주광역시  전체(시 / 군 / 구)  심 야     5,656      9,848,039    \n24  202104  광주광역시  전체(시 / 군 / 구)  주택용   387,106    174,583,982    \n25  202104  광주광역시  전체(시 / 군 / 구)  일반용    94,341    218,711,488    \n26  202104  광주광역시  전체(시 / 군 / 구)  교육용       627     21,737,718    \n27  202104  광주광역시  전체(시 / 군 / 구)  산업용     6,427    261,583,240    \n28  202104  광주광역시  전체(시 / 군 / 구)  농사용    12,102      5,523,430    \n29  202104  광주광역시  전체(시 / 군 / 구)  가로등    48,179      6,610,963    \n30  202104  광주광역시  전체(시 / 군 / 구)  심 야     5,631      7,301,404    \n31  202105  광주광역시  전체(시 / 군 / 구)  주택용   387,231    165,167,087    \n32  202105  광주광역시  전체(시 / 군 / 구)  일반용    94,458    208,632,377    \n33  202105  광주광역시  전체(시 / 군 / 구)  교육용       627     18,411,616    \n34  202105  광주광역시  전체(시 / 군 / 구)  산업용     6,433    252,521,324    \n35  202105  광주광역시  전체(시 / 군 / 구)  농사용    12,134      4,738,437    \n36  202105  광주광역시  전체(시 / 군 / 구)  가로등    48,190      6,058,362    \n37  202105  광주광역시  전체(시 / 군 / 구)  심 야     5,608      4,221,302    \n38  202106  광주광역시  전체(시 / 군 / 구)  주택용   387,496    172,340,558    \n39  202106  광주광역시  전체(시 / 군 / 구)  일반용    94,628    234,029,873    \n40  202106  광주광역시  전체(시 / 군 / 구)  교육용       629     21,371,394    \n41  202106  광주광역시  전체(시 / 군 / 구)  산업용     6,437    271,679,455    \n42  202106  광주광역시  전체(시 / 군 / 구)  농사용    12,153      4,904,372    \n43  202106  광주광역시  전체(시 / 군 / 구)  가로등    48,236      5,699,794    \n44  202106  광주광역시  전체(시 / 군 / 구)  심 야     5,572      3,709,156    \n45      합계     합계             합계   합계  3,329,066  4,346,389,933   \n\n            전기요금(원) 평균판매단가(원/kWh)  \n3   22,352,496,686         111.2   \n4   36,025,290,206         129.4   \n5    3,074,821,310          95.0   \n6   32,272,757,689         120.5   \n7      494,595,520          44.4   \n8      815,183,230         103.4   \n9      960,768,979          71.9   \n10  21,209,147,084         108.8   \n11  34,550,202,881         131.4   \n12   2,569,210,647         103.6   \n13  31,128,521,654         122.2   \n14     438,224,144          45.5   \n15     790,731,599         108.0   \n16     918,000,389          71.6   \n17  16,610,672,782          98.4   \n18  27,854,903,302         124.3   \n19   2,275,244,039          97.7   \n20  26,497,575,802         102.8   \n21     347,823,063          47.9   \n22     723,291,299         109.3   \n23     621,531,570          63.1   \n24  17,573,491,756         100.7   \n25  24,647,170,342         112.7   \n26   1,910,592,464          87.9   \n27  25,698,445,450          98.2   \n28     278,500,286          50.4   \n29     737,403,076         111.5   \n30     392,904,875          53.8   \n31  16,012,943,925          96.9   \n32  23,879,863,066         114.5   \n33   1,629,877,635          88.5   \n34  24,878,896,017          98.5   \n35     246,301,071          52.0   \n36     696,982,284         115.0   \n37     245,889,901          58.2   \n38  17,080,314,677          99.1   \n39  30,220,377,322         129.1   \n40   2,358,358,733         110.4   \n41  32,623,756,269         120.1   \n42     243,822,162          49.7   \n43     675,268,763         118.5   \n44     230,672,670          62.2   \n45  484,792,826,619         111.5  ",
      "text/html": "<div>\n<style scoped>\n    .dataframe tbody tr th:only-of-type {\n        vertical-align: middle;\n    }\n\n    .dataframe tbody tr th {\n        vertical-align: top;\n    }\n\n    .dataframe thead th {\n        text-align: right;\n    }\n</style>\n<table border=\"1\" class=\"dataframe\">\n  <thead>\n    <tr style=\"text-align: right;\">\n      <th></th>\n      <th>년월</th>\n      <th>시구</th>\n      <th>시군구</th>\n      <th>계약구분</th>\n      <th>고객호수(호)</th>\n      <th>사용량(kWh)</th>\n      <th>전기요금(원)</th>\n      <th>평균판매단가(원/kWh)</th>\n    </tr>\n  </thead>\n  <tbody>\n    <tr>\n      <th>3</th>\n      <td>202101</td>\n      <td>광주광역시</td>\n      <td>전체(시 / 군 / 구)</td>\n      <td>주택용</td>\n      <td>386,291</td>\n      <td>200,924,825</td>\n      <td>22,352,496,686</td>\n      <td>111.2</td>\n    </tr>\n    <tr>\n      <th>4</th>\n      <td>202101</td>\n      <td>광주광역시</td>\n      <td>전체(시 / 군 / 구)</td>\n      <td>일반용</td>\n      <td>94,050</td>\n      <td>278,464,922</td>\n      <td>36,025,290,206</td>\n      <td>129.4</td>\n    </tr>\n    <tr>\n      <th>5</th>\n      <td>202101</td>\n      <td>광주광역시</td>\n      <td>전체(시 / 군 / 구)</td>\n      <td>교육용</td>\n      <td>630</td>\n      <td>32,355,494</td>\n      <td>3,074,821,310</td>\n      <td>95.0</td>\n    </tr>\n    <tr>\n      <th>6</th>\n      <td>202101</td>\n      <td>광주광역시</td>\n      <td>전체(시 / 군 / 구)</td>\n      <td>산업용</td>\n      <td>6,402</td>\n      <td>267,717,054</td>\n      <td>32,272,757,689</td>\n      <td>120.5</td>\n    </tr>\n    <tr>\n      <th>7</th>\n      <td>202101</td>\n      <td>광주광역시</td>\n      <td>전체(시 / 군 / 구)</td>\n      <td>농사용</td>\n      <td>12,017</td>\n      <td>11,148,705</td>\n      <td>494,595,520</td>\n      <td>44.4</td>\n    </tr>\n    <tr>\n      <th>8</th>\n      <td>202101</td>\n      <td>광주광역시</td>\n      <td>전체(시 / 군 / 구)</td>\n      <td>가로등</td>\n      <td>47,953</td>\n      <td>7,885,102</td>\n      <td>815,183,230</td>\n      <td>103.4</td>\n    </tr>\n    <tr>\n      <th>9</th>\n      <td>202101</td>\n      <td>광주광역시</td>\n      <td>전체(시 / 군 / 구)</td>\n      <td>심 야</td>\n      <td>5,704</td>\n      <td>13,368,315</td>\n      <td>960,768,979</td>\n      <td>71.9</td>\n    </tr>\n    <tr>\n      <th>10</th>\n      <td>202102</td>\n      <td>광주광역시</td>\n      <td>전체(시 / 군 / 구)</td>\n      <td>주택용</td>\n      <td>386,628</td>\n      <td>194,943,127</td>\n      <td>21,209,147,084</td>\n      <td>108.8</td>\n    </tr>\n    <tr>\n      <th>11</th>\n      <td>202102</td>\n      <td>광주광역시</td>\n      <td>전체(시 / 군 / 구)</td>\n      <td>일반용</td>\n      <td>94,096</td>\n      <td>262,898,297</td>\n      <td>34,550,202,881</td>\n      <td>131.4</td>\n    </tr>\n    <tr>\n      <th>12</th>\n      <td>202102</td>\n      <td>광주광역시</td>\n      <td>전체(시 / 군 / 구)</td>\n      <td>교육용</td>\n      <td>629</td>\n      <td>24,793,275</td>\n      <td>2,569,210,647</td>\n      <td>103.6</td>\n    </tr>\n    <tr>\n      <th>13</th>\n      <td>202102</td>\n      <td>광주광역시</td>\n      <td>전체(시 / 군 / 구)</td>\n      <td>산업용</td>\n      <td>6,425</td>\n      <td>254,822,173</td>\n      <td>31,128,521,654</td>\n      <td>122.2</td>\n    </tr>\n    <tr>\n      <th>14</th>\n      <td>202102</td>\n      <td>광주광역시</td>\n      <td>전체(시 / 군 / 구)</td>\n      <td>농사용</td>\n      <td>12,023</td>\n      <td>9,634,653</td>\n      <td>438,224,144</td>\n      <td>45.5</td>\n    </tr>\n    <tr>\n      <th>15</th>\n      <td>202102</td>\n      <td>광주광역시</td>\n      <td>전체(시 / 군 / 구)</td>\n      <td>가로등</td>\n      <td>48,094</td>\n      <td>7,322,476</td>\n      <td>790,731,599</td>\n      <td>108.0</td>\n    </tr>\n    <tr>\n      <th>16</th>\n      <td>202102</td>\n      <td>광주광역시</td>\n      <td>전체(시 / 군 / 구)</td>\n      <td>심 야</td>\n      <td>5,683</td>\n      <td>12,813,406</td>\n      <td>918,000,389</td>\n      <td>71.6</td>\n    </tr>\n    <tr>\n      <th>17</th>\n      <td>202103</td>\n      <td>광주광역시</td>\n      <td>전체(시 / 군 / 구)</td>\n      <td>주택용</td>\n      <td>386,718</td>\n      <td>168,879,092</td>\n      <td>16,610,672,782</td>\n      <td>98.4</td>\n    </tr>\n    <tr>\n      <th>18</th>\n      <td>202103</td>\n      <td>광주광역시</td>\n      <td>전체(시 / 군 / 구)</td>\n      <td>일반용</td>\n      <td>94,186</td>\n      <td>224,108,275</td>\n      <td>27,854,903,302</td>\n      <td>124.3</td>\n    </tr>\n    <tr>\n      <th>19</th>\n      <td>202103</td>\n      <td>광주광역시</td>\n      <td>전체(시 / 군 / 구)</td>\n      <td>교육용</td>\n      <td>627</td>\n      <td>23,293,857</td>\n      <td>2,275,244,039</td>\n      <td>97.7</td>\n    </tr>\n    <tr>\n      <th>20</th>\n      <td>202103</td>\n      <td>광주광역시</td>\n      <td>전체(시 / 군 / 구)</td>\n      <td>산업용</td>\n      <td>6,428</td>\n      <td>257,753,536</td>\n      <td>26,497,575,802</td>\n      <td>102.8</td>\n    </tr>\n    <tr>\n      <th>21</th>\n      <td>202103</td>\n      <td>광주광역시</td>\n      <td>전체(시 / 군 / 구)</td>\n      <td>농사용</td>\n      <td>16,454</td>\n      <td>7,260,157</td>\n      <td>347,823,063</td>\n      <td>47.9</td>\n    </tr>\n    <tr>\n      <th>22</th>\n      <td>202103</td>\n      <td>광주광역시</td>\n      <td>전체(시 / 군 / 구)</td>\n      <td>가로등</td>\n      <td>48,127</td>\n      <td>6,617,821</td>\n      <td>723,291,299</td>\n      <td>109.3</td>\n    </tr>\n    <tr>\n      <th>23</th>\n      <td>202103</td>\n      <td>광주광역시</td>\n      <td>전체(시 / 군 / 구)</td>\n      <td>심 야</td>\n      <td>5,656</td>\n      <td>9,848,039</td>\n      <td>621,531,570</td>\n      <td>63.1</td>\n    </tr>\n    <tr>\n      <th>24</th>\n      <td>202104</td>\n      <td>광주광역시</td>\n      <td>전체(시 / 군 / 구)</td>\n      <td>주택용</td>\n      <td>387,106</td>\n      <td>174,583,982</td>\n      <td>17,573,491,756</td>\n      <td>100.7</td>\n    </tr>\n    <tr>\n      <th>25</th>\n      <td>202104</td>\n      <td>광주광역시</td>\n      <td>전체(시 / 군 / 구)</td>\n      <td>일반용</td>\n      <td>94,341</td>\n      <td>218,711,488</td>\n      <td>24,647,170,342</td>\n      <td>112.7</td>\n    </tr>\n    <tr>\n      <th>26</th>\n      <td>202104</td>\n      <td>광주광역시</td>\n      <td>전체(시 / 군 / 구)</td>\n      <td>교육용</td>\n      <td>627</td>\n      <td>21,737,718</td>\n      <td>1,910,592,464</td>\n      <td>87.9</td>\n    </tr>\n    <tr>\n      <th>27</th>\n      <td>202104</td>\n      <td>광주광역시</td>\n      <td>전체(시 / 군 / 구)</td>\n      <td>산업용</td>\n      <td>6,427</td>\n      <td>261,583,240</td>\n      <td>25,698,445,450</td>\n      <td>98.2</td>\n    </tr>\n    <tr>\n      <th>28</th>\n      <td>202104</td>\n      <td>광주광역시</td>\n      <td>전체(시 / 군 / 구)</td>\n      <td>농사용</td>\n      <td>12,102</td>\n      <td>5,523,430</td>\n      <td>278,500,286</td>\n      <td>50.4</td>\n    </tr>\n    <tr>\n      <th>29</th>\n      <td>202104</td>\n      <td>광주광역시</td>\n      <td>전체(시 / 군 / 구)</td>\n      <td>가로등</td>\n      <td>48,179</td>\n      <td>6,610,963</td>\n      <td>737,403,076</td>\n      <td>111.5</td>\n    </tr>\n    <tr>\n      <th>30</th>\n      <td>202104</td>\n      <td>광주광역시</td>\n      <td>전체(시 / 군 / 구)</td>\n      <td>심 야</td>\n      <td>5,631</td>\n      <td>7,301,404</td>\n      <td>392,904,875</td>\n      <td>53.8</td>\n    </tr>\n    <tr>\n      <th>31</th>\n      <td>202105</td>\n      <td>광주광역시</td>\n      <td>전체(시 / 군 / 구)</td>\n      <td>주택용</td>\n      <td>387,231</td>\n      <td>165,167,087</td>\n      <td>16,012,943,925</td>\n      <td>96.9</td>\n    </tr>\n    <tr>\n      <th>32</th>\n      <td>202105</td>\n      <td>광주광역시</td>\n      <td>전체(시 / 군 / 구)</td>\n      <td>일반용</td>\n      <td>94,458</td>\n      <td>208,632,377</td>\n      <td>23,879,863,066</td>\n      <td>114.5</td>\n    </tr>\n    <tr>\n      <th>33</th>\n      <td>202105</td>\n      <td>광주광역시</td>\n      <td>전체(시 / 군 / 구)</td>\n      <td>교육용</td>\n      <td>627</td>\n      <td>18,411,616</td>\n      <td>1,629,877,635</td>\n      <td>88.5</td>\n    </tr>\n    <tr>\n      <th>34</th>\n      <td>202105</td>\n      <td>광주광역시</td>\n      <td>전체(시 / 군 / 구)</td>\n      <td>산업용</td>\n      <td>6,433</td>\n      <td>252,521,324</td>\n      <td>24,878,896,017</td>\n      <td>98.5</td>\n    </tr>\n    <tr>\n      <th>35</th>\n      <td>202105</td>\n      <td>광주광역시</td>\n      <td>전체(시 / 군 / 구)</td>\n      <td>농사용</td>\n      <td>12,134</td>\n      <td>4,738,437</td>\n      <td>246,301,071</td>\n      <td>52.0</td>\n    </tr>\n    <tr>\n      <th>36</th>\n      <td>202105</td>\n      <td>광주광역시</td>\n      <td>전체(시 / 군 / 구)</td>\n      <td>가로등</td>\n      <td>48,190</td>\n      <td>6,058,362</td>\n      <td>696,982,284</td>\n      <td>115.0</td>\n    </tr>\n    <tr>\n      <th>37</th>\n      <td>202105</td>\n      <td>광주광역시</td>\n      <td>전체(시 / 군 / 구)</td>\n      <td>심 야</td>\n      <td>5,608</td>\n      <td>4,221,302</td>\n      <td>245,889,901</td>\n      <td>58.2</td>\n    </tr>\n    <tr>\n      <th>38</th>\n      <td>202106</td>\n      <td>광주광역시</td>\n      <td>전체(시 / 군 / 구)</td>\n      <td>주택용</td>\n      <td>387,496</td>\n      <td>172,340,558</td>\n      <td>17,080,314,677</td>\n      <td>99.1</td>\n    </tr>\n    <tr>\n      <th>39</th>\n      <td>202106</td>\n      <td>광주광역시</td>\n      <td>전체(시 / 군 / 구)</td>\n      <td>일반용</td>\n      <td>94,628</td>\n      <td>234,029,873</td>\n      <td>30,220,377,322</td>\n      <td>129.1</td>\n    </tr>\n    <tr>\n      <th>40</th>\n      <td>202106</td>\n      <td>광주광역시</td>\n      <td>전체(시 / 군 / 구)</td>\n      <td>교육용</td>\n      <td>629</td>\n      <td>21,371,394</td>\n      <td>2,358,358,733</td>\n      <td>110.4</td>\n    </tr>\n    <tr>\n      <th>41</th>\n      <td>202106</td>\n      <td>광주광역시</td>\n      <td>전체(시 / 군 / 구)</td>\n      <td>산업용</td>\n      <td>6,437</td>\n      <td>271,679,455</td>\n      <td>32,623,756,269</td>\n      <td>120.1</td>\n    </tr>\n    <tr>\n      <th>42</th>\n      <td>202106</td>\n      <td>광주광역시</td>\n      <td>전체(시 / 군 / 구)</td>\n      <td>농사용</td>\n      <td>12,153</td>\n      <td>4,904,372</td>\n      <td>243,822,162</td>\n      <td>49.7</td>\n    </tr>\n    <tr>\n      <th>43</th>\n      <td>202106</td>\n      <td>광주광역시</td>\n      <td>전체(시 / 군 / 구)</td>\n      <td>가로등</td>\n      <td>48,236</td>\n      <td>5,699,794</td>\n      <td>675,268,763</td>\n      <td>118.5</td>\n    </tr>\n    <tr>\n      <th>44</th>\n      <td>202106</td>\n      <td>광주광역시</td>\n      <td>전체(시 / 군 / 구)</td>\n      <td>심 야</td>\n      <td>5,572</td>\n      <td>3,709,156</td>\n      <td>230,672,670</td>\n      <td>62.2</td>\n    </tr>\n    <tr>\n      <th>45</th>\n      <td>합계</td>\n      <td>합계</td>\n      <td>합계</td>\n      <td>합계</td>\n      <td>3,329,066</td>\n      <td>4,346,389,933</td>\n      <td>484,792,826,619</td>\n      <td>111.5</td>\n    </tr>\n  </tbody>\n</table>\n</div>"
     },
     "execution_count": 6,
     "metadata": {},
     "output_type": "execute_result"
    }
   ],
   "source": [
    "df_2 = df.loc[:45]\n",
    "df_2\n"
   ],
   "metadata": {
    "collapsed": false,
    "pycharm": {
     "name": "#%%\n"
    }
   }
  },
  {
   "cell_type": "code",
   "execution_count": 7,
   "outputs": [
    {
     "name": "stderr",
     "output_type": "stream",
     "text": [
      "C:\\Users\\user\\AppData\\Local\\Temp\\ipykernel_924\\3551721261.py:3: SettingWithCopyWarning: \n",
      "A value is trying to be set on a copy of a slice from a DataFrame\n",
      "\n",
      "See the caveats in the documentation: https://pandas.pydata.org/pandas-docs/stable/user_guide/indexing.html#returning-a-view-versus-a-copy\n",
      "  GyeonGi.drop(['시군구' , '전기요금(원)' , '평균판매단가(원/kWh)'] , axis = 1 , inplace = True)\n"
     ]
    },
    {
     "data": {
      "text/plain": "        년월     시구 계약구분  고객호수(호)      사용량(kWh)\n4   202101  광주광역시  일반용  94,050   278,464,922 \n11  202102  광주광역시  일반용  94,096   262,898,297 \n18  202103  광주광역시  일반용  94,186   224,108,275 \n25  202104  광주광역시  일반용  94,341   218,711,488 \n32  202105  광주광역시  일반용  94,458   208,632,377 \n39  202106  광주광역시  일반용  94,628   234,029,873 ",
      "text/html": "<div>\n<style scoped>\n    .dataframe tbody tr th:only-of-type {\n        vertical-align: middle;\n    }\n\n    .dataframe tbody tr th {\n        vertical-align: top;\n    }\n\n    .dataframe thead th {\n        text-align: right;\n    }\n</style>\n<table border=\"1\" class=\"dataframe\">\n  <thead>\n    <tr style=\"text-align: right;\">\n      <th></th>\n      <th>년월</th>\n      <th>시구</th>\n      <th>계약구분</th>\n      <th>고객호수(호)</th>\n      <th>사용량(kWh)</th>\n    </tr>\n  </thead>\n  <tbody>\n    <tr>\n      <th>4</th>\n      <td>202101</td>\n      <td>광주광역시</td>\n      <td>일반용</td>\n      <td>94,050</td>\n      <td>278,464,922</td>\n    </tr>\n    <tr>\n      <th>11</th>\n      <td>202102</td>\n      <td>광주광역시</td>\n      <td>일반용</td>\n      <td>94,096</td>\n      <td>262,898,297</td>\n    </tr>\n    <tr>\n      <th>18</th>\n      <td>202103</td>\n      <td>광주광역시</td>\n      <td>일반용</td>\n      <td>94,186</td>\n      <td>224,108,275</td>\n    </tr>\n    <tr>\n      <th>25</th>\n      <td>202104</td>\n      <td>광주광역시</td>\n      <td>일반용</td>\n      <td>94,341</td>\n      <td>218,711,488</td>\n    </tr>\n    <tr>\n      <th>32</th>\n      <td>202105</td>\n      <td>광주광역시</td>\n      <td>일반용</td>\n      <td>94,458</td>\n      <td>208,632,377</td>\n    </tr>\n    <tr>\n      <th>39</th>\n      <td>202106</td>\n      <td>광주광역시</td>\n      <td>일반용</td>\n      <td>94,628</td>\n      <td>234,029,873</td>\n    </tr>\n  </tbody>\n</table>\n</div>"
     },
     "execution_count": 7,
     "metadata": {},
     "output_type": "execute_result"
    }
   ],
   "source": [
    "GyeonGi  = df_2.loc[(df_2['계약구분'] == '일반용')]\n",
    "#SEOUL = df_3.loc[(df_3['계약구분'] =='일반용')]\n",
    "GyeonGi.drop(['시군구' , '전기요금(원)' , '평균판매단가(원/kWh)'] , axis = 1 , inplace = True)\n",
    "GyeonGi"
   ],
   "metadata": {
    "collapsed": false,
    "pycharm": {
     "name": "#%%\n"
    }
   }
  },
  {
   "cell_type": "code",
   "execution_count": 8,
   "outputs": [],
   "source": [
    "#SEOUL1.to_csv(\"서울특별시_계약종별_전국_전력사용량_2022.csv\" , mode = 'w' , encoding= 'cp949')"
   ],
   "metadata": {
    "collapsed": false,
    "pycharm": {
     "name": "#%%\n"
    }
   }
  },
  {
   "cell_type": "code",
   "execution_count": 9,
   "outputs": [],
   "source": [
    "#df_2.to_csv(\"서울특별시_계약종별_전국_전력사용량.csv\" , mode = 'w' , encoding= 'cp949')"
   ],
   "metadata": {
    "collapsed": false,
    "pycharm": {
     "name": "#%%\n"
    }
   }
  },
  {
   "cell_type": "code",
   "execution_count": 10,
   "outputs": [
    {
     "data": {
      "text/plain": "         년월     시구  시군구 계약구분  고객호수(호)     사용량(kWh)\n53   202101  광주광역시  광산구  일반용  23,677   72,084,207 \n93   202102  광주광역시  광산구  일반용  23,679   69,014,764 \n133  202103  광주광역시  광산구  일반용  23,750   58,780,285 \n173  202104  광주광역시  광산구  일반용  23,846   57,849,434 \n213  202105  광주광역시  광산구  일반용  23,939   55,150,173 \n253  202106  광주광역시  광산구  일반용  23,988   61,788,726 \n61   202101  광주광역시   남구  일반용  11,686   29,534,847 \n101  202102  광주광역시   남구  일반용  11,737   27,296,786 \n141  202103  광주광역시   남구  일반용  11,743   22,941,364 \n181  202104  광주광역시   남구  일반용  11,769   22,505,760 \n221  202105  광주광역시   남구  일반용  11,769   21,374,413 \n261  202106  광주광역시   남구  일반용  11,792   24,630,986 \n69   202101  광주광역시   동구  일반용  11,568   34,485,010 \n109  202102  광주광역시   동구  일반용  11,552   32,050,257 \n149  202103  광주광역시   동구  일반용  11,538   27,822,115 \n189  202104  광주광역시   동구  일반용  11,515   26,437,201 \n229  202105  광주광역시   동구  일반용  11,491   25,514,142 \n269  202106  광주광역시   동구  일반용  11,493   28,632,980 \n77   202101  광주광역시   북구  일반용  27,518   69,610,415 \n117  202102  광주광역시   북구  일반용  27,513   65,393,073 \n157  202103  광주광역시   북구  일반용  27,527   55,191,360 \n197  202104  광주광역시   북구  일반용  27,563   54,044,978 \n237  202105  광주광역시   북구  일반용  27,591   51,677,151 \n277  202106  광주광역시   북구  일반용  27,638   58,038,147 \n85   202101  광주광역시   서구  일반용  19,601   72,750,443 \n125  202102  광주광역시   서구  일반용  19,615   69,143,417 \n165  202103  광주광역시   서구  일반용  19,628   59,373,151 \n205  202104  광주광역시   서구  일반용  19,648   57,874,115 \n245  202105  광주광역시   서구  일반용  19,668   54,916,498 \n285  202106  광주광역시   서구  일반용  19,717   60,939,034 ",
      "text/html": "<div>\n<style scoped>\n    .dataframe tbody tr th:only-of-type {\n        vertical-align: middle;\n    }\n\n    .dataframe tbody tr th {\n        vertical-align: top;\n    }\n\n    .dataframe thead th {\n        text-align: right;\n    }\n</style>\n<table border=\"1\" class=\"dataframe\">\n  <thead>\n    <tr style=\"text-align: right;\">\n      <th></th>\n      <th>년월</th>\n      <th>시구</th>\n      <th>시군구</th>\n      <th>계약구분</th>\n      <th>고객호수(호)</th>\n      <th>사용량(kWh)</th>\n    </tr>\n  </thead>\n  <tbody>\n    <tr>\n      <th>53</th>\n      <td>202101</td>\n      <td>광주광역시</td>\n      <td>광산구</td>\n      <td>일반용</td>\n      <td>23,677</td>\n      <td>72,084,207</td>\n    </tr>\n    <tr>\n      <th>93</th>\n      <td>202102</td>\n      <td>광주광역시</td>\n      <td>광산구</td>\n      <td>일반용</td>\n      <td>23,679</td>\n      <td>69,014,764</td>\n    </tr>\n    <tr>\n      <th>133</th>\n      <td>202103</td>\n      <td>광주광역시</td>\n      <td>광산구</td>\n      <td>일반용</td>\n      <td>23,750</td>\n      <td>58,780,285</td>\n    </tr>\n    <tr>\n      <th>173</th>\n      <td>202104</td>\n      <td>광주광역시</td>\n      <td>광산구</td>\n      <td>일반용</td>\n      <td>23,846</td>\n      <td>57,849,434</td>\n    </tr>\n    <tr>\n      <th>213</th>\n      <td>202105</td>\n      <td>광주광역시</td>\n      <td>광산구</td>\n      <td>일반용</td>\n      <td>23,939</td>\n      <td>55,150,173</td>\n    </tr>\n    <tr>\n      <th>253</th>\n      <td>202106</td>\n      <td>광주광역시</td>\n      <td>광산구</td>\n      <td>일반용</td>\n      <td>23,988</td>\n      <td>61,788,726</td>\n    </tr>\n    <tr>\n      <th>61</th>\n      <td>202101</td>\n      <td>광주광역시</td>\n      <td>남구</td>\n      <td>일반용</td>\n      <td>11,686</td>\n      <td>29,534,847</td>\n    </tr>\n    <tr>\n      <th>101</th>\n      <td>202102</td>\n      <td>광주광역시</td>\n      <td>남구</td>\n      <td>일반용</td>\n      <td>11,737</td>\n      <td>27,296,786</td>\n    </tr>\n    <tr>\n      <th>141</th>\n      <td>202103</td>\n      <td>광주광역시</td>\n      <td>남구</td>\n      <td>일반용</td>\n      <td>11,743</td>\n      <td>22,941,364</td>\n    </tr>\n    <tr>\n      <th>181</th>\n      <td>202104</td>\n      <td>광주광역시</td>\n      <td>남구</td>\n      <td>일반용</td>\n      <td>11,769</td>\n      <td>22,505,760</td>\n    </tr>\n    <tr>\n      <th>221</th>\n      <td>202105</td>\n      <td>광주광역시</td>\n      <td>남구</td>\n      <td>일반용</td>\n      <td>11,769</td>\n      <td>21,374,413</td>\n    </tr>\n    <tr>\n      <th>261</th>\n      <td>202106</td>\n      <td>광주광역시</td>\n      <td>남구</td>\n      <td>일반용</td>\n      <td>11,792</td>\n      <td>24,630,986</td>\n    </tr>\n    <tr>\n      <th>69</th>\n      <td>202101</td>\n      <td>광주광역시</td>\n      <td>동구</td>\n      <td>일반용</td>\n      <td>11,568</td>\n      <td>34,485,010</td>\n    </tr>\n    <tr>\n      <th>109</th>\n      <td>202102</td>\n      <td>광주광역시</td>\n      <td>동구</td>\n      <td>일반용</td>\n      <td>11,552</td>\n      <td>32,050,257</td>\n    </tr>\n    <tr>\n      <th>149</th>\n      <td>202103</td>\n      <td>광주광역시</td>\n      <td>동구</td>\n      <td>일반용</td>\n      <td>11,538</td>\n      <td>27,822,115</td>\n    </tr>\n    <tr>\n      <th>189</th>\n      <td>202104</td>\n      <td>광주광역시</td>\n      <td>동구</td>\n      <td>일반용</td>\n      <td>11,515</td>\n      <td>26,437,201</td>\n    </tr>\n    <tr>\n      <th>229</th>\n      <td>202105</td>\n      <td>광주광역시</td>\n      <td>동구</td>\n      <td>일반용</td>\n      <td>11,491</td>\n      <td>25,514,142</td>\n    </tr>\n    <tr>\n      <th>269</th>\n      <td>202106</td>\n      <td>광주광역시</td>\n      <td>동구</td>\n      <td>일반용</td>\n      <td>11,493</td>\n      <td>28,632,980</td>\n    </tr>\n    <tr>\n      <th>77</th>\n      <td>202101</td>\n      <td>광주광역시</td>\n      <td>북구</td>\n      <td>일반용</td>\n      <td>27,518</td>\n      <td>69,610,415</td>\n    </tr>\n    <tr>\n      <th>117</th>\n      <td>202102</td>\n      <td>광주광역시</td>\n      <td>북구</td>\n      <td>일반용</td>\n      <td>27,513</td>\n      <td>65,393,073</td>\n    </tr>\n    <tr>\n      <th>157</th>\n      <td>202103</td>\n      <td>광주광역시</td>\n      <td>북구</td>\n      <td>일반용</td>\n      <td>27,527</td>\n      <td>55,191,360</td>\n    </tr>\n    <tr>\n      <th>197</th>\n      <td>202104</td>\n      <td>광주광역시</td>\n      <td>북구</td>\n      <td>일반용</td>\n      <td>27,563</td>\n      <td>54,044,978</td>\n    </tr>\n    <tr>\n      <th>237</th>\n      <td>202105</td>\n      <td>광주광역시</td>\n      <td>북구</td>\n      <td>일반용</td>\n      <td>27,591</td>\n      <td>51,677,151</td>\n    </tr>\n    <tr>\n      <th>277</th>\n      <td>202106</td>\n      <td>광주광역시</td>\n      <td>북구</td>\n      <td>일반용</td>\n      <td>27,638</td>\n      <td>58,038,147</td>\n    </tr>\n    <tr>\n      <th>85</th>\n      <td>202101</td>\n      <td>광주광역시</td>\n      <td>서구</td>\n      <td>일반용</td>\n      <td>19,601</td>\n      <td>72,750,443</td>\n    </tr>\n    <tr>\n      <th>125</th>\n      <td>202102</td>\n      <td>광주광역시</td>\n      <td>서구</td>\n      <td>일반용</td>\n      <td>19,615</td>\n      <td>69,143,417</td>\n    </tr>\n    <tr>\n      <th>165</th>\n      <td>202103</td>\n      <td>광주광역시</td>\n      <td>서구</td>\n      <td>일반용</td>\n      <td>19,628</td>\n      <td>59,373,151</td>\n    </tr>\n    <tr>\n      <th>205</th>\n      <td>202104</td>\n      <td>광주광역시</td>\n      <td>서구</td>\n      <td>일반용</td>\n      <td>19,648</td>\n      <td>57,874,115</td>\n    </tr>\n    <tr>\n      <th>245</th>\n      <td>202105</td>\n      <td>광주광역시</td>\n      <td>서구</td>\n      <td>일반용</td>\n      <td>19,668</td>\n      <td>54,916,498</td>\n    </tr>\n    <tr>\n      <th>285</th>\n      <td>202106</td>\n      <td>광주광역시</td>\n      <td>서구</td>\n      <td>일반용</td>\n      <td>19,717</td>\n      <td>60,939,034</td>\n    </tr>\n  </tbody>\n</table>\n</div>"
     },
     "execution_count": 10,
     "metadata": {},
     "output_type": "execute_result"
    }
   ],
   "source": [
    "df_3 = df.loc[48:]\n",
    "df_3 = df_3.loc[(df_3['계약구분'] == '일반용')]\n",
    "df_3 = df_3.sort_values(by=['시군구' , '년월'])\n",
    "df_3.drop(['전기요금(원)',   '평균판매단가(원/kWh)'] , axis = 1 , inplace = True)\n",
    "df_3"
   ],
   "metadata": {
    "collapsed": false,
    "pycharm": {
     "name": "#%%\n"
    }
   }
  },
  {
   "cell_type": "code",
   "execution_count": 11,
   "outputs": [
    {
     "data": {
      "text/plain": "'광주광역시'"
     },
     "execution_count": 11,
     "metadata": {},
     "output_type": "execute_result"
    }
   ],
   "source": [
    "a = df_3.loc[: , \"시구\"]\n",
    "b = a[:1].tolist()\n",
    "for i in b:\n",
    "    City = i\n",
    "City"
   ],
   "metadata": {
    "collapsed": false,
    "pycharm": {
     "name": "#%%\n"
    }
   }
  },
  {
   "cell_type": "code",
   "execution_count": 12,
   "outputs": [
    {
     "data": {
      "text/plain": "['광산구', '남구', '동구', '북구', '서구']"
     },
     "execution_count": 12,
     "metadata": {},
     "output_type": "execute_result"
    }
   ],
   "source": [
    "\n",
    "SIGUNGU = list(set(df_3.loc[: , '시군구'].tolist()))\n",
    "SIGUNGU.sort()\n",
    "SIGUNGU"
   ],
   "metadata": {
    "collapsed": false,
    "pycharm": {
     "name": "#%%\n"
    }
   }
  },
  {
   "cell_type": "code",
   "execution_count": 13,
   "outputs": [
    {
     "data": {
      "text/plain": "         년월     시구  시군구 계약구분   고객호수(호)      사용량(kWh)\n55   202101  광주광역시  광산구   합계  132,496   319,599,262 \n95   202102  광주광역시  광산구   합계  132,589   307,322,011 \n135  202103  광주광역시  광산구   합계  134,764   287,378,423 \n175  202104  광주광역시  광산구   합계  133,159   290,589,653 \n215  202105  광주광역시  광산구   합계  133,449   275,759,758 \n255  202106  광주광역시  광산구   합계  133,715   295,827,698 \n63   202101  광주광역시   남구   합계   81,106    71,491,642 \n103  202102  광주광역시   남구   합계   81,200    66,643,040 \n143  202103  광주광역시   남구   합계   82,397    57,007,435 \n183  202104  광주광역시   남구   합계   81,294    56,708,946 \n223  202105  광주광역시   남구   합계   81,273    52,565,452 \n263  202106  광주광역시   남구   합계   81,297    57,150,398 \n71   202101  광주광역시   동구   합계   61,110    60,019,593 \n111  202102  광주광역시   동구   합계   61,128    55,690,909 \n151  202103  광주광역시   동구   합계   61,162    48,563,571 \n191  202104  광주광역시   동구   합계   61,148    47,069,262 \n231  202105  광주광역시   동구   합계   61,078    44,892,258 \n271  202106  광주광역시   동구   합계   61,166    48,688,228 \n79   202101  광주광역시   북구   합계  171,166   213,108,694 \n119  202102  광주광역시   북구   합계  171,337   197,545,185 \n159  202103  광주광역시   북구   합계  171,957   180,193,744 \n199  202104  광주광역시   북구   합계  171,327   177,679,067 \n239  202105  광주광역시   북구   합계  171,281   170,661,652 \n279  202106  광주광역시   북구   합계  171,313   185,754,091 \n87   202101  광주광역시   서구   합계  107,169   147,645,226 \n127  202102  광주광역시   서구   합계  107,324   140,026,262 \n167  202103  광주광역시   서구   합계  107,916   124,617,604 \n207  202104  광주광역시   서구   합계  107,485   124,005,297 \n247  202105  광주광역시   서구   합계  107,600   115,871,385 \n287  202106  광주광역시   서구   합계  107,660   126,314,187 ",
      "text/html": "<div>\n<style scoped>\n    .dataframe tbody tr th:only-of-type {\n        vertical-align: middle;\n    }\n\n    .dataframe tbody tr th {\n        vertical-align: top;\n    }\n\n    .dataframe thead th {\n        text-align: right;\n    }\n</style>\n<table border=\"1\" class=\"dataframe\">\n  <thead>\n    <tr style=\"text-align: right;\">\n      <th></th>\n      <th>년월</th>\n      <th>시구</th>\n      <th>시군구</th>\n      <th>계약구분</th>\n      <th>고객호수(호)</th>\n      <th>사용량(kWh)</th>\n    </tr>\n  </thead>\n  <tbody>\n    <tr>\n      <th>55</th>\n      <td>202101</td>\n      <td>광주광역시</td>\n      <td>광산구</td>\n      <td>합계</td>\n      <td>132,496</td>\n      <td>319,599,262</td>\n    </tr>\n    <tr>\n      <th>95</th>\n      <td>202102</td>\n      <td>광주광역시</td>\n      <td>광산구</td>\n      <td>합계</td>\n      <td>132,589</td>\n      <td>307,322,011</td>\n    </tr>\n    <tr>\n      <th>135</th>\n      <td>202103</td>\n      <td>광주광역시</td>\n      <td>광산구</td>\n      <td>합계</td>\n      <td>134,764</td>\n      <td>287,378,423</td>\n    </tr>\n    <tr>\n      <th>175</th>\n      <td>202104</td>\n      <td>광주광역시</td>\n      <td>광산구</td>\n      <td>합계</td>\n      <td>133,159</td>\n      <td>290,589,653</td>\n    </tr>\n    <tr>\n      <th>215</th>\n      <td>202105</td>\n      <td>광주광역시</td>\n      <td>광산구</td>\n      <td>합계</td>\n      <td>133,449</td>\n      <td>275,759,758</td>\n    </tr>\n    <tr>\n      <th>255</th>\n      <td>202106</td>\n      <td>광주광역시</td>\n      <td>광산구</td>\n      <td>합계</td>\n      <td>133,715</td>\n      <td>295,827,698</td>\n    </tr>\n    <tr>\n      <th>63</th>\n      <td>202101</td>\n      <td>광주광역시</td>\n      <td>남구</td>\n      <td>합계</td>\n      <td>81,106</td>\n      <td>71,491,642</td>\n    </tr>\n    <tr>\n      <th>103</th>\n      <td>202102</td>\n      <td>광주광역시</td>\n      <td>남구</td>\n      <td>합계</td>\n      <td>81,200</td>\n      <td>66,643,040</td>\n    </tr>\n    <tr>\n      <th>143</th>\n      <td>202103</td>\n      <td>광주광역시</td>\n      <td>남구</td>\n      <td>합계</td>\n      <td>82,397</td>\n      <td>57,007,435</td>\n    </tr>\n    <tr>\n      <th>183</th>\n      <td>202104</td>\n      <td>광주광역시</td>\n      <td>남구</td>\n      <td>합계</td>\n      <td>81,294</td>\n      <td>56,708,946</td>\n    </tr>\n    <tr>\n      <th>223</th>\n      <td>202105</td>\n      <td>광주광역시</td>\n      <td>남구</td>\n      <td>합계</td>\n      <td>81,273</td>\n      <td>52,565,452</td>\n    </tr>\n    <tr>\n      <th>263</th>\n      <td>202106</td>\n      <td>광주광역시</td>\n      <td>남구</td>\n      <td>합계</td>\n      <td>81,297</td>\n      <td>57,150,398</td>\n    </tr>\n    <tr>\n      <th>71</th>\n      <td>202101</td>\n      <td>광주광역시</td>\n      <td>동구</td>\n      <td>합계</td>\n      <td>61,110</td>\n      <td>60,019,593</td>\n    </tr>\n    <tr>\n      <th>111</th>\n      <td>202102</td>\n      <td>광주광역시</td>\n      <td>동구</td>\n      <td>합계</td>\n      <td>61,128</td>\n      <td>55,690,909</td>\n    </tr>\n    <tr>\n      <th>151</th>\n      <td>202103</td>\n      <td>광주광역시</td>\n      <td>동구</td>\n      <td>합계</td>\n      <td>61,162</td>\n      <td>48,563,571</td>\n    </tr>\n    <tr>\n      <th>191</th>\n      <td>202104</td>\n      <td>광주광역시</td>\n      <td>동구</td>\n      <td>합계</td>\n      <td>61,148</td>\n      <td>47,069,262</td>\n    </tr>\n    <tr>\n      <th>231</th>\n      <td>202105</td>\n      <td>광주광역시</td>\n      <td>동구</td>\n      <td>합계</td>\n      <td>61,078</td>\n      <td>44,892,258</td>\n    </tr>\n    <tr>\n      <th>271</th>\n      <td>202106</td>\n      <td>광주광역시</td>\n      <td>동구</td>\n      <td>합계</td>\n      <td>61,166</td>\n      <td>48,688,228</td>\n    </tr>\n    <tr>\n      <th>79</th>\n      <td>202101</td>\n      <td>광주광역시</td>\n      <td>북구</td>\n      <td>합계</td>\n      <td>171,166</td>\n      <td>213,108,694</td>\n    </tr>\n    <tr>\n      <th>119</th>\n      <td>202102</td>\n      <td>광주광역시</td>\n      <td>북구</td>\n      <td>합계</td>\n      <td>171,337</td>\n      <td>197,545,185</td>\n    </tr>\n    <tr>\n      <th>159</th>\n      <td>202103</td>\n      <td>광주광역시</td>\n      <td>북구</td>\n      <td>합계</td>\n      <td>171,957</td>\n      <td>180,193,744</td>\n    </tr>\n    <tr>\n      <th>199</th>\n      <td>202104</td>\n      <td>광주광역시</td>\n      <td>북구</td>\n      <td>합계</td>\n      <td>171,327</td>\n      <td>177,679,067</td>\n    </tr>\n    <tr>\n      <th>239</th>\n      <td>202105</td>\n      <td>광주광역시</td>\n      <td>북구</td>\n      <td>합계</td>\n      <td>171,281</td>\n      <td>170,661,652</td>\n    </tr>\n    <tr>\n      <th>279</th>\n      <td>202106</td>\n      <td>광주광역시</td>\n      <td>북구</td>\n      <td>합계</td>\n      <td>171,313</td>\n      <td>185,754,091</td>\n    </tr>\n    <tr>\n      <th>87</th>\n      <td>202101</td>\n      <td>광주광역시</td>\n      <td>서구</td>\n      <td>합계</td>\n      <td>107,169</td>\n      <td>147,645,226</td>\n    </tr>\n    <tr>\n      <th>127</th>\n      <td>202102</td>\n      <td>광주광역시</td>\n      <td>서구</td>\n      <td>합계</td>\n      <td>107,324</td>\n      <td>140,026,262</td>\n    </tr>\n    <tr>\n      <th>167</th>\n      <td>202103</td>\n      <td>광주광역시</td>\n      <td>서구</td>\n      <td>합계</td>\n      <td>107,916</td>\n      <td>124,617,604</td>\n    </tr>\n    <tr>\n      <th>207</th>\n      <td>202104</td>\n      <td>광주광역시</td>\n      <td>서구</td>\n      <td>합계</td>\n      <td>107,485</td>\n      <td>124,005,297</td>\n    </tr>\n    <tr>\n      <th>247</th>\n      <td>202105</td>\n      <td>광주광역시</td>\n      <td>서구</td>\n      <td>합계</td>\n      <td>107,600</td>\n      <td>115,871,385</td>\n    </tr>\n    <tr>\n      <th>287</th>\n      <td>202106</td>\n      <td>광주광역시</td>\n      <td>서구</td>\n      <td>합계</td>\n      <td>107,660</td>\n      <td>126,314,187</td>\n    </tr>\n  </tbody>\n</table>\n</div>"
     },
     "execution_count": 13,
     "metadata": {},
     "output_type": "execute_result"
    }
   ],
   "source": [
    "df_4 = df.loc[48:]\n",
    "df_4 = df_4.loc[(df_4['계약구분'] == '합계')]\n",
    "df_4 = df_4.sort_values(by=['시군구' , '년월'])\n",
    "df_4.drop(['전기요금(원)',   '평균판매단가(원/kWh)'] , axis = 1 , inplace = True)\n",
    "df_4"
   ],
   "metadata": {
    "collapsed": false,
    "pycharm": {
     "name": "#%%\n"
    }
   }
  },
  {
   "cell_type": "code",
   "execution_count": 14,
   "outputs": [
    {
     "name": "stdout",
     "output_type": "stream",
     "text": [
      "[319599262, 307322011, 287378423, 290589653, 275759758, 295827698]\n",
      "[71491642, 66643040, 57007435, 56708946, 52565452, 57150398]\n",
      "[60019593, 55690909, 48563571, 47069262, 44892258, 48688228]\n",
      "[213108694, 197545185, 180193744, 177679067, 170661652, 185754091]\n",
      "[147645226, 140026262, 124617604, 124005297, 115871385, 126314187]\n",
      "광주광역시 지역별 합계 :  [1776476805, 361566913, 304923821, 1124942433, 778479961]\n",
      "광주광역시 고객호수 평균:  [22227, 13571, 10188, 28566, 17920]\n"
     ]
    }
   ],
   "source": [
    "sum2 , sum3 =[] , []\n",
    "for k in SIGUNGU:\n",
    "    GyeonGiHap = pd.DataFrame([] , columns = a)\n",
    "    HOSU = pd.DataFrame([], columns = a)\n",
    "    GyeonGiHap['사용량']= df_4['사용량(kWh)'].loc[(df_4['시군구'] == '{}'.format(k))]\n",
    "    HOSU['고객호수']= df_4['고객호수(호)'].loc[(df_4['시군구'] == '{}'.format(k))]\n",
    "    #경기합 데이터프레임의 사용량 열에 기군구가 가평군인 사용량 데이터만 뽑아내기\n",
    "    # GyeonGiHap = GyeonGiHap['사용량']\n",
    "\n",
    "    b = GyeonGiHap['사용량'].tolist()\n",
    "    c = HOSU['고객호수'].tolist()\n",
    "\n",
    "\n",
    "    #각지역별 사용량 리스트화\n",
    "    int_list  , int_list2=[] , []\n",
    "    for i in b:\n",
    "        i = re.sub(\",\" , \"\" , i)\n",
    "        #콤마 없애기\n",
    "        int_list.append(int(i))\n",
    "        #int_list에 각지역별 사용량 int로 저장\n",
    "    print(int_list)\n",
    "    sum=0\n",
    "    for i in c:\n",
    "        i = re.sub(\",\" , \"\" , i)\n",
    "        int_list2.append(int(i))\n",
    "\n",
    "    for j in int_list:\n",
    "\n",
    "        sum+= j\n",
    "    sum2.append(sum)\n",
    "    sum = 0\n",
    "    for j in int_list2: #고객호수 추출하여 더하기\n",
    "\n",
    "        sum+= j\n",
    "    sum3.append(sum//36) #6개월 치로 나눠야하나?!\n",
    "\n",
    "\n",
    "\n",
    "\n",
    "print(\"{} 지역별 합계 : \".format(City) , sum2)\n",
    "print(\"{} 고객호수 평균: \".format(City) , sum3)"
   ],
   "metadata": {
    "collapsed": false,
    "pycharm": {
     "name": "#%%\n"
    }
   }
  },
  {
   "cell_type": "markdown",
   "source": [
    "### 2. 날짜 체크!!!!!!!!!!!!!!!!!!!!!!!!!!!!!!!!!!!!!!!!!!!!!!"
   ],
   "metadata": {
    "collapsed": false,
    "pycharm": {
     "name": "#%% md\n"
    }
   }
  },
  {
   "cell_type": "code",
   "execution_count": 15,
   "outputs": [
    {
     "name": "stderr",
     "output_type": "stream",
     "text": [
      "C:\\Users\\user\\AppData\\Local\\Temp\\ipykernel_924\\1481603074.py:4: FutureWarning: The frame.append method is deprecated and will be removed from pandas in a future version. Use pandas.concat instead.\n",
      "  Hap = Hap.append({'년월' :'202101-202106'  , '시구' : '{}'.format(City) , '시군구' : '{}'.format(SIGUNGU[i]) , '계약구분' : '합계' , '고객호수(호)' : sum3[i] ,  '사용량(kWh)' : sum2[i]} , ignore_index=True) #년월 파일마다 수정하기\n",
      "C:\\Users\\user\\AppData\\Local\\Temp\\ipykernel_924\\1481603074.py:4: FutureWarning: The frame.append method is deprecated and will be removed from pandas in a future version. Use pandas.concat instead.\n",
      "  Hap = Hap.append({'년월' :'202101-202106'  , '시구' : '{}'.format(City) , '시군구' : '{}'.format(SIGUNGU[i]) , '계약구분' : '합계' , '고객호수(호)' : sum3[i] ,  '사용량(kWh)' : sum2[i]} , ignore_index=True) #년월 파일마다 수정하기\n",
      "C:\\Users\\user\\AppData\\Local\\Temp\\ipykernel_924\\1481603074.py:4: FutureWarning: The frame.append method is deprecated and will be removed from pandas in a future version. Use pandas.concat instead.\n",
      "  Hap = Hap.append({'년월' :'202101-202106'  , '시구' : '{}'.format(City) , '시군구' : '{}'.format(SIGUNGU[i]) , '계약구분' : '합계' , '고객호수(호)' : sum3[i] ,  '사용량(kWh)' : sum2[i]} , ignore_index=True) #년월 파일마다 수정하기\n",
      "C:\\Users\\user\\AppData\\Local\\Temp\\ipykernel_924\\1481603074.py:4: FutureWarning: The frame.append method is deprecated and will be removed from pandas in a future version. Use pandas.concat instead.\n",
      "  Hap = Hap.append({'년월' :'202101-202106'  , '시구' : '{}'.format(City) , '시군구' : '{}'.format(SIGUNGU[i]) , '계약구분' : '합계' , '고객호수(호)' : sum3[i] ,  '사용량(kWh)' : sum2[i]} , ignore_index=True) #년월 파일마다 수정하기\n",
      "C:\\Users\\user\\AppData\\Local\\Temp\\ipykernel_924\\1481603074.py:4: FutureWarning: The frame.append method is deprecated and will be removed from pandas in a future version. Use pandas.concat instead.\n",
      "  Hap = Hap.append({'년월' :'202101-202106'  , '시구' : '{}'.format(City) , '시군구' : '{}'.format(SIGUNGU[i]) , '계약구분' : '합계' , '고객호수(호)' : sum3[i] ,  '사용량(kWh)' : sum2[i]} , ignore_index=True) #년월 파일마다 수정하기\n"
     ]
    },
    {
     "data": {
      "text/plain": "               년월     시구  시군구 계약구분   고객호수(호)      사용량(kWh)\n0          202101  광주광역시  광산구   합계  132,496   319,599,262 \n1          202102  광주광역시  광산구   합계  132,589   307,322,011 \n2          202103  광주광역시  광산구   합계  134,764   287,378,423 \n3          202104  광주광역시  광산구   합계  133,159   290,589,653 \n4          202105  광주광역시  광산구   합계  133,449   275,759,758 \n5          202106  광주광역시  광산구   합계  133,715   295,827,698 \n6          202101  광주광역시   남구   합계   81,106    71,491,642 \n7          202102  광주광역시   남구   합계   81,200    66,643,040 \n8          202103  광주광역시   남구   합계   82,397    57,007,435 \n9          202104  광주광역시   남구   합계   81,294    56,708,946 \n10         202105  광주광역시   남구   합계   81,273    52,565,452 \n11         202106  광주광역시   남구   합계   81,297    57,150,398 \n12         202101  광주광역시   동구   합계   61,110    60,019,593 \n13         202102  광주광역시   동구   합계   61,128    55,690,909 \n14         202103  광주광역시   동구   합계   61,162    48,563,571 \n15         202104  광주광역시   동구   합계   61,148    47,069,262 \n16         202105  광주광역시   동구   합계   61,078    44,892,258 \n17         202106  광주광역시   동구   합계   61,166    48,688,228 \n18         202101  광주광역시   북구   합계  171,166   213,108,694 \n19         202102  광주광역시   북구   합계  171,337   197,545,185 \n20         202103  광주광역시   북구   합계  171,957   180,193,744 \n21         202104  광주광역시   북구   합계  171,327   177,679,067 \n22         202105  광주광역시   북구   합계  171,281   170,661,652 \n23         202106  광주광역시   북구   합계  171,313   185,754,091 \n24         202101  광주광역시   서구   합계  107,169   147,645,226 \n25         202102  광주광역시   서구   합계  107,324   140,026,262 \n26         202103  광주광역시   서구   합계  107,916   124,617,604 \n27         202104  광주광역시   서구   합계  107,485   124,005,297 \n28         202105  광주광역시   서구   합계  107,600   115,871,385 \n29         202106  광주광역시   서구   합계  107,660   126,314,187 \n30  202101-202106  광주광역시  광산구   합계     22227    1776476805\n31  202101-202106  광주광역시   남구   합계     13571     361566913\n32  202101-202106  광주광역시   동구   합계     10188     304923821\n33  202101-202106  광주광역시   북구   합계     28566    1124942433\n34  202101-202106  광주광역시   서구   합계     17920     778479961",
      "text/html": "<div>\n<style scoped>\n    .dataframe tbody tr th:only-of-type {\n        vertical-align: middle;\n    }\n\n    .dataframe tbody tr th {\n        vertical-align: top;\n    }\n\n    .dataframe thead th {\n        text-align: right;\n    }\n</style>\n<table border=\"1\" class=\"dataframe\">\n  <thead>\n    <tr style=\"text-align: right;\">\n      <th></th>\n      <th>년월</th>\n      <th>시구</th>\n      <th>시군구</th>\n      <th>계약구분</th>\n      <th>고객호수(호)</th>\n      <th>사용량(kWh)</th>\n    </tr>\n  </thead>\n  <tbody>\n    <tr>\n      <th>0</th>\n      <td>202101</td>\n      <td>광주광역시</td>\n      <td>광산구</td>\n      <td>합계</td>\n      <td>132,496</td>\n      <td>319,599,262</td>\n    </tr>\n    <tr>\n      <th>1</th>\n      <td>202102</td>\n      <td>광주광역시</td>\n      <td>광산구</td>\n      <td>합계</td>\n      <td>132,589</td>\n      <td>307,322,011</td>\n    </tr>\n    <tr>\n      <th>2</th>\n      <td>202103</td>\n      <td>광주광역시</td>\n      <td>광산구</td>\n      <td>합계</td>\n      <td>134,764</td>\n      <td>287,378,423</td>\n    </tr>\n    <tr>\n      <th>3</th>\n      <td>202104</td>\n      <td>광주광역시</td>\n      <td>광산구</td>\n      <td>합계</td>\n      <td>133,159</td>\n      <td>290,589,653</td>\n    </tr>\n    <tr>\n      <th>4</th>\n      <td>202105</td>\n      <td>광주광역시</td>\n      <td>광산구</td>\n      <td>합계</td>\n      <td>133,449</td>\n      <td>275,759,758</td>\n    </tr>\n    <tr>\n      <th>5</th>\n      <td>202106</td>\n      <td>광주광역시</td>\n      <td>광산구</td>\n      <td>합계</td>\n      <td>133,715</td>\n      <td>295,827,698</td>\n    </tr>\n    <tr>\n      <th>6</th>\n      <td>202101</td>\n      <td>광주광역시</td>\n      <td>남구</td>\n      <td>합계</td>\n      <td>81,106</td>\n      <td>71,491,642</td>\n    </tr>\n    <tr>\n      <th>7</th>\n      <td>202102</td>\n      <td>광주광역시</td>\n      <td>남구</td>\n      <td>합계</td>\n      <td>81,200</td>\n      <td>66,643,040</td>\n    </tr>\n    <tr>\n      <th>8</th>\n      <td>202103</td>\n      <td>광주광역시</td>\n      <td>남구</td>\n      <td>합계</td>\n      <td>82,397</td>\n      <td>57,007,435</td>\n    </tr>\n    <tr>\n      <th>9</th>\n      <td>202104</td>\n      <td>광주광역시</td>\n      <td>남구</td>\n      <td>합계</td>\n      <td>81,294</td>\n      <td>56,708,946</td>\n    </tr>\n    <tr>\n      <th>10</th>\n      <td>202105</td>\n      <td>광주광역시</td>\n      <td>남구</td>\n      <td>합계</td>\n      <td>81,273</td>\n      <td>52,565,452</td>\n    </tr>\n    <tr>\n      <th>11</th>\n      <td>202106</td>\n      <td>광주광역시</td>\n      <td>남구</td>\n      <td>합계</td>\n      <td>81,297</td>\n      <td>57,150,398</td>\n    </tr>\n    <tr>\n      <th>12</th>\n      <td>202101</td>\n      <td>광주광역시</td>\n      <td>동구</td>\n      <td>합계</td>\n      <td>61,110</td>\n      <td>60,019,593</td>\n    </tr>\n    <tr>\n      <th>13</th>\n      <td>202102</td>\n      <td>광주광역시</td>\n      <td>동구</td>\n      <td>합계</td>\n      <td>61,128</td>\n      <td>55,690,909</td>\n    </tr>\n    <tr>\n      <th>14</th>\n      <td>202103</td>\n      <td>광주광역시</td>\n      <td>동구</td>\n      <td>합계</td>\n      <td>61,162</td>\n      <td>48,563,571</td>\n    </tr>\n    <tr>\n      <th>15</th>\n      <td>202104</td>\n      <td>광주광역시</td>\n      <td>동구</td>\n      <td>합계</td>\n      <td>61,148</td>\n      <td>47,069,262</td>\n    </tr>\n    <tr>\n      <th>16</th>\n      <td>202105</td>\n      <td>광주광역시</td>\n      <td>동구</td>\n      <td>합계</td>\n      <td>61,078</td>\n      <td>44,892,258</td>\n    </tr>\n    <tr>\n      <th>17</th>\n      <td>202106</td>\n      <td>광주광역시</td>\n      <td>동구</td>\n      <td>합계</td>\n      <td>61,166</td>\n      <td>48,688,228</td>\n    </tr>\n    <tr>\n      <th>18</th>\n      <td>202101</td>\n      <td>광주광역시</td>\n      <td>북구</td>\n      <td>합계</td>\n      <td>171,166</td>\n      <td>213,108,694</td>\n    </tr>\n    <tr>\n      <th>19</th>\n      <td>202102</td>\n      <td>광주광역시</td>\n      <td>북구</td>\n      <td>합계</td>\n      <td>171,337</td>\n      <td>197,545,185</td>\n    </tr>\n    <tr>\n      <th>20</th>\n      <td>202103</td>\n      <td>광주광역시</td>\n      <td>북구</td>\n      <td>합계</td>\n      <td>171,957</td>\n      <td>180,193,744</td>\n    </tr>\n    <tr>\n      <th>21</th>\n      <td>202104</td>\n      <td>광주광역시</td>\n      <td>북구</td>\n      <td>합계</td>\n      <td>171,327</td>\n      <td>177,679,067</td>\n    </tr>\n    <tr>\n      <th>22</th>\n      <td>202105</td>\n      <td>광주광역시</td>\n      <td>북구</td>\n      <td>합계</td>\n      <td>171,281</td>\n      <td>170,661,652</td>\n    </tr>\n    <tr>\n      <th>23</th>\n      <td>202106</td>\n      <td>광주광역시</td>\n      <td>북구</td>\n      <td>합계</td>\n      <td>171,313</td>\n      <td>185,754,091</td>\n    </tr>\n    <tr>\n      <th>24</th>\n      <td>202101</td>\n      <td>광주광역시</td>\n      <td>서구</td>\n      <td>합계</td>\n      <td>107,169</td>\n      <td>147,645,226</td>\n    </tr>\n    <tr>\n      <th>25</th>\n      <td>202102</td>\n      <td>광주광역시</td>\n      <td>서구</td>\n      <td>합계</td>\n      <td>107,324</td>\n      <td>140,026,262</td>\n    </tr>\n    <tr>\n      <th>26</th>\n      <td>202103</td>\n      <td>광주광역시</td>\n      <td>서구</td>\n      <td>합계</td>\n      <td>107,916</td>\n      <td>124,617,604</td>\n    </tr>\n    <tr>\n      <th>27</th>\n      <td>202104</td>\n      <td>광주광역시</td>\n      <td>서구</td>\n      <td>합계</td>\n      <td>107,485</td>\n      <td>124,005,297</td>\n    </tr>\n    <tr>\n      <th>28</th>\n      <td>202105</td>\n      <td>광주광역시</td>\n      <td>서구</td>\n      <td>합계</td>\n      <td>107,600</td>\n      <td>115,871,385</td>\n    </tr>\n    <tr>\n      <th>29</th>\n      <td>202106</td>\n      <td>광주광역시</td>\n      <td>서구</td>\n      <td>합계</td>\n      <td>107,660</td>\n      <td>126,314,187</td>\n    </tr>\n    <tr>\n      <th>30</th>\n      <td>202101-202106</td>\n      <td>광주광역시</td>\n      <td>광산구</td>\n      <td>합계</td>\n      <td>22227</td>\n      <td>1776476805</td>\n    </tr>\n    <tr>\n      <th>31</th>\n      <td>202101-202106</td>\n      <td>광주광역시</td>\n      <td>남구</td>\n      <td>합계</td>\n      <td>13571</td>\n      <td>361566913</td>\n    </tr>\n    <tr>\n      <th>32</th>\n      <td>202101-202106</td>\n      <td>광주광역시</td>\n      <td>동구</td>\n      <td>합계</td>\n      <td>10188</td>\n      <td>304923821</td>\n    </tr>\n    <tr>\n      <th>33</th>\n      <td>202101-202106</td>\n      <td>광주광역시</td>\n      <td>북구</td>\n      <td>합계</td>\n      <td>28566</td>\n      <td>1124942433</td>\n    </tr>\n    <tr>\n      <th>34</th>\n      <td>202101-202106</td>\n      <td>광주광역시</td>\n      <td>서구</td>\n      <td>합계</td>\n      <td>17920</td>\n      <td>778479961</td>\n    </tr>\n  </tbody>\n</table>\n</div>"
     },
     "execution_count": 15,
     "metadata": {},
     "output_type": "execute_result"
    }
   ],
   "source": [
    "Hap = df_4.copy()\n",
    "Hap.reset_index(drop=True , inplace = True)\n",
    "for i in range(len(SIGUNGU)):\n",
    "    Hap = Hap.append({'년월' :'202101-202106'  , '시구' : '{}'.format(City) , '시군구' : '{}'.format(SIGUNGU[i]) , '계약구분' : '합계' , '고객호수(호)' : sum3[i] ,  '사용량(kWh)' : sum2[i]} , ignore_index=True) #년월 파일마다 수정하기\n",
    "Hap"
   ],
   "metadata": {
    "collapsed": false,
    "pycharm": {
     "name": "#%%\n"
    }
   }
  },
  {
   "cell_type": "markdown",
   "source": [
    "### 3. 날짜 변경!!!!!!!!!!!!!!!!!!!!!!!!!!!!!!!"
   ],
   "metadata": {
    "collapsed": false,
    "pycharm": {
     "name": "#%% md\n"
    }
   }
  },
  {
   "cell_type": "code",
   "execution_count": 16,
   "outputs": [
    {
     "data": {
      "text/plain": "               년월     시구  시군구 계약구분 고객호수(호)    사용량(kWh)\n30  202101-202106  광주광역시  광산구   합계   22227  1776476805\n31  202101-202106  광주광역시   남구   합계   13571   361566913\n32  202101-202106  광주광역시   동구   합계   10188   304923821\n33  202101-202106  광주광역시   북구   합계   28566  1124942433\n34  202101-202106  광주광역시   서구   합계   17920   778479961",
      "text/html": "<div>\n<style scoped>\n    .dataframe tbody tr th:only-of-type {\n        vertical-align: middle;\n    }\n\n    .dataframe tbody tr th {\n        vertical-align: top;\n    }\n\n    .dataframe thead th {\n        text-align: right;\n    }\n</style>\n<table border=\"1\" class=\"dataframe\">\n  <thead>\n    <tr style=\"text-align: right;\">\n      <th></th>\n      <th>년월</th>\n      <th>시구</th>\n      <th>시군구</th>\n      <th>계약구분</th>\n      <th>고객호수(호)</th>\n      <th>사용량(kWh)</th>\n    </tr>\n  </thead>\n  <tbody>\n    <tr>\n      <th>30</th>\n      <td>202101-202106</td>\n      <td>광주광역시</td>\n      <td>광산구</td>\n      <td>합계</td>\n      <td>22227</td>\n      <td>1776476805</td>\n    </tr>\n    <tr>\n      <th>31</th>\n      <td>202101-202106</td>\n      <td>광주광역시</td>\n      <td>남구</td>\n      <td>합계</td>\n      <td>13571</td>\n      <td>361566913</td>\n    </tr>\n    <tr>\n      <th>32</th>\n      <td>202101-202106</td>\n      <td>광주광역시</td>\n      <td>동구</td>\n      <td>합계</td>\n      <td>10188</td>\n      <td>304923821</td>\n    </tr>\n    <tr>\n      <th>33</th>\n      <td>202101-202106</td>\n      <td>광주광역시</td>\n      <td>북구</td>\n      <td>합계</td>\n      <td>28566</td>\n      <td>1124942433</td>\n    </tr>\n    <tr>\n      <th>34</th>\n      <td>202101-202106</td>\n      <td>광주광역시</td>\n      <td>서구</td>\n      <td>합계</td>\n      <td>17920</td>\n      <td>778479961</td>\n    </tr>\n  </tbody>\n</table>\n</div>"
     },
     "execution_count": 16,
     "metadata": {},
     "output_type": "execute_result"
    }
   ],
   "source": [
    "Hap = Hap.loc[Hap['년월'] == '202101-202106']\n",
    "Hap"
   ],
   "metadata": {
    "collapsed": false,
    "pycharm": {
     "name": "#%%\n"
    }
   }
  },
  {
   "cell_type": "code",
   "execution_count": 17,
   "outputs": [],
   "source": [
    "# SIGUNGU = SIGUNGU[:1]\n",
    "# SIGUNGU\n",
    "#for i in SIGUNGU:\n",
    "#print('{}'.format(i))\n",
    "# df_3 = df_3.loc[(df_3['시군구'] == '가평군')]\n",
    "#\n",
    "# df_3"
   ],
   "metadata": {
    "collapsed": false,
    "pycharm": {
     "name": "#%%\n"
    }
   }
  },
  {
   "cell_type": "code",
   "execution_count": 18,
   "outputs": [
    {
     "data": {
      "text/plain": "['년월', '시구', '시군구', '계약구분', '고객호수(호)', '사용량(kWh)']"
     },
     "execution_count": 18,
     "metadata": {},
     "output_type": "execute_result"
    }
   ],
   "source": [
    "a = (df_3.columns).tolist()\n",
    "\n",
    "a"
   ],
   "metadata": {
    "collapsed": false,
    "pycharm": {
     "name": "#%%\n"
    }
   }
  },
  {
   "cell_type": "code",
   "execution_count": 19,
   "outputs": [
    {
     "data": {
      "text/plain": "         년월     시구  시군구 계약구분  고객호수(호)     사용량(kWh)\n53   202101  광주광역시  광산구  일반용  23,677   72,084,207 \n93   202102  광주광역시  광산구  일반용  23,679   69,014,764 \n133  202103  광주광역시  광산구  일반용  23,750   58,780,285 \n173  202104  광주광역시  광산구  일반용  23,846   57,849,434 \n213  202105  광주광역시  광산구  일반용  23,939   55,150,173 \n253  202106  광주광역시  광산구  일반용  23,988   61,788,726 \n61   202101  광주광역시   남구  일반용  11,686   29,534,847 \n101  202102  광주광역시   남구  일반용  11,737   27,296,786 \n141  202103  광주광역시   남구  일반용  11,743   22,941,364 \n181  202104  광주광역시   남구  일반용  11,769   22,505,760 \n221  202105  광주광역시   남구  일반용  11,769   21,374,413 \n261  202106  광주광역시   남구  일반용  11,792   24,630,986 \n69   202101  광주광역시   동구  일반용  11,568   34,485,010 \n109  202102  광주광역시   동구  일반용  11,552   32,050,257 \n149  202103  광주광역시   동구  일반용  11,538   27,822,115 \n189  202104  광주광역시   동구  일반용  11,515   26,437,201 \n229  202105  광주광역시   동구  일반용  11,491   25,514,142 \n269  202106  광주광역시   동구  일반용  11,493   28,632,980 \n77   202101  광주광역시   북구  일반용  27,518   69,610,415 \n117  202102  광주광역시   북구  일반용  27,513   65,393,073 \n157  202103  광주광역시   북구  일반용  27,527   55,191,360 \n197  202104  광주광역시   북구  일반용  27,563   54,044,978 \n237  202105  광주광역시   북구  일반용  27,591   51,677,151 \n277  202106  광주광역시   북구  일반용  27,638   58,038,147 \n85   202101  광주광역시   서구  일반용  19,601   72,750,443 \n125  202102  광주광역시   서구  일반용  19,615   69,143,417 \n165  202103  광주광역시   서구  일반용  19,628   59,373,151 \n205  202104  광주광역시   서구  일반용  19,648   57,874,115 \n245  202105  광주광역시   서구  일반용  19,668   54,916,498 \n285  202106  광주광역시   서구  일반용  19,717   60,939,034 ",
      "text/html": "<div>\n<style scoped>\n    .dataframe tbody tr th:only-of-type {\n        vertical-align: middle;\n    }\n\n    .dataframe tbody tr th {\n        vertical-align: top;\n    }\n\n    .dataframe thead th {\n        text-align: right;\n    }\n</style>\n<table border=\"1\" class=\"dataframe\">\n  <thead>\n    <tr style=\"text-align: right;\">\n      <th></th>\n      <th>년월</th>\n      <th>시구</th>\n      <th>시군구</th>\n      <th>계약구분</th>\n      <th>고객호수(호)</th>\n      <th>사용량(kWh)</th>\n    </tr>\n  </thead>\n  <tbody>\n    <tr>\n      <th>53</th>\n      <td>202101</td>\n      <td>광주광역시</td>\n      <td>광산구</td>\n      <td>일반용</td>\n      <td>23,677</td>\n      <td>72,084,207</td>\n    </tr>\n    <tr>\n      <th>93</th>\n      <td>202102</td>\n      <td>광주광역시</td>\n      <td>광산구</td>\n      <td>일반용</td>\n      <td>23,679</td>\n      <td>69,014,764</td>\n    </tr>\n    <tr>\n      <th>133</th>\n      <td>202103</td>\n      <td>광주광역시</td>\n      <td>광산구</td>\n      <td>일반용</td>\n      <td>23,750</td>\n      <td>58,780,285</td>\n    </tr>\n    <tr>\n      <th>173</th>\n      <td>202104</td>\n      <td>광주광역시</td>\n      <td>광산구</td>\n      <td>일반용</td>\n      <td>23,846</td>\n      <td>57,849,434</td>\n    </tr>\n    <tr>\n      <th>213</th>\n      <td>202105</td>\n      <td>광주광역시</td>\n      <td>광산구</td>\n      <td>일반용</td>\n      <td>23,939</td>\n      <td>55,150,173</td>\n    </tr>\n    <tr>\n      <th>253</th>\n      <td>202106</td>\n      <td>광주광역시</td>\n      <td>광산구</td>\n      <td>일반용</td>\n      <td>23,988</td>\n      <td>61,788,726</td>\n    </tr>\n    <tr>\n      <th>61</th>\n      <td>202101</td>\n      <td>광주광역시</td>\n      <td>남구</td>\n      <td>일반용</td>\n      <td>11,686</td>\n      <td>29,534,847</td>\n    </tr>\n    <tr>\n      <th>101</th>\n      <td>202102</td>\n      <td>광주광역시</td>\n      <td>남구</td>\n      <td>일반용</td>\n      <td>11,737</td>\n      <td>27,296,786</td>\n    </tr>\n    <tr>\n      <th>141</th>\n      <td>202103</td>\n      <td>광주광역시</td>\n      <td>남구</td>\n      <td>일반용</td>\n      <td>11,743</td>\n      <td>22,941,364</td>\n    </tr>\n    <tr>\n      <th>181</th>\n      <td>202104</td>\n      <td>광주광역시</td>\n      <td>남구</td>\n      <td>일반용</td>\n      <td>11,769</td>\n      <td>22,505,760</td>\n    </tr>\n    <tr>\n      <th>221</th>\n      <td>202105</td>\n      <td>광주광역시</td>\n      <td>남구</td>\n      <td>일반용</td>\n      <td>11,769</td>\n      <td>21,374,413</td>\n    </tr>\n    <tr>\n      <th>261</th>\n      <td>202106</td>\n      <td>광주광역시</td>\n      <td>남구</td>\n      <td>일반용</td>\n      <td>11,792</td>\n      <td>24,630,986</td>\n    </tr>\n    <tr>\n      <th>69</th>\n      <td>202101</td>\n      <td>광주광역시</td>\n      <td>동구</td>\n      <td>일반용</td>\n      <td>11,568</td>\n      <td>34,485,010</td>\n    </tr>\n    <tr>\n      <th>109</th>\n      <td>202102</td>\n      <td>광주광역시</td>\n      <td>동구</td>\n      <td>일반용</td>\n      <td>11,552</td>\n      <td>32,050,257</td>\n    </tr>\n    <tr>\n      <th>149</th>\n      <td>202103</td>\n      <td>광주광역시</td>\n      <td>동구</td>\n      <td>일반용</td>\n      <td>11,538</td>\n      <td>27,822,115</td>\n    </tr>\n    <tr>\n      <th>189</th>\n      <td>202104</td>\n      <td>광주광역시</td>\n      <td>동구</td>\n      <td>일반용</td>\n      <td>11,515</td>\n      <td>26,437,201</td>\n    </tr>\n    <tr>\n      <th>229</th>\n      <td>202105</td>\n      <td>광주광역시</td>\n      <td>동구</td>\n      <td>일반용</td>\n      <td>11,491</td>\n      <td>25,514,142</td>\n    </tr>\n    <tr>\n      <th>269</th>\n      <td>202106</td>\n      <td>광주광역시</td>\n      <td>동구</td>\n      <td>일반용</td>\n      <td>11,493</td>\n      <td>28,632,980</td>\n    </tr>\n    <tr>\n      <th>77</th>\n      <td>202101</td>\n      <td>광주광역시</td>\n      <td>북구</td>\n      <td>일반용</td>\n      <td>27,518</td>\n      <td>69,610,415</td>\n    </tr>\n    <tr>\n      <th>117</th>\n      <td>202102</td>\n      <td>광주광역시</td>\n      <td>북구</td>\n      <td>일반용</td>\n      <td>27,513</td>\n      <td>65,393,073</td>\n    </tr>\n    <tr>\n      <th>157</th>\n      <td>202103</td>\n      <td>광주광역시</td>\n      <td>북구</td>\n      <td>일반용</td>\n      <td>27,527</td>\n      <td>55,191,360</td>\n    </tr>\n    <tr>\n      <th>197</th>\n      <td>202104</td>\n      <td>광주광역시</td>\n      <td>북구</td>\n      <td>일반용</td>\n      <td>27,563</td>\n      <td>54,044,978</td>\n    </tr>\n    <tr>\n      <th>237</th>\n      <td>202105</td>\n      <td>광주광역시</td>\n      <td>북구</td>\n      <td>일반용</td>\n      <td>27,591</td>\n      <td>51,677,151</td>\n    </tr>\n    <tr>\n      <th>277</th>\n      <td>202106</td>\n      <td>광주광역시</td>\n      <td>북구</td>\n      <td>일반용</td>\n      <td>27,638</td>\n      <td>58,038,147</td>\n    </tr>\n    <tr>\n      <th>85</th>\n      <td>202101</td>\n      <td>광주광역시</td>\n      <td>서구</td>\n      <td>일반용</td>\n      <td>19,601</td>\n      <td>72,750,443</td>\n    </tr>\n    <tr>\n      <th>125</th>\n      <td>202102</td>\n      <td>광주광역시</td>\n      <td>서구</td>\n      <td>일반용</td>\n      <td>19,615</td>\n      <td>69,143,417</td>\n    </tr>\n    <tr>\n      <th>165</th>\n      <td>202103</td>\n      <td>광주광역시</td>\n      <td>서구</td>\n      <td>일반용</td>\n      <td>19,628</td>\n      <td>59,373,151</td>\n    </tr>\n    <tr>\n      <th>205</th>\n      <td>202104</td>\n      <td>광주광역시</td>\n      <td>서구</td>\n      <td>일반용</td>\n      <td>19,648</td>\n      <td>57,874,115</td>\n    </tr>\n    <tr>\n      <th>245</th>\n      <td>202105</td>\n      <td>광주광역시</td>\n      <td>서구</td>\n      <td>일반용</td>\n      <td>19,668</td>\n      <td>54,916,498</td>\n    </tr>\n    <tr>\n      <th>285</th>\n      <td>202106</td>\n      <td>광주광역시</td>\n      <td>서구</td>\n      <td>일반용</td>\n      <td>19,717</td>\n      <td>60,939,034</td>\n    </tr>\n  </tbody>\n</table>\n</div>"
     },
     "execution_count": 19,
     "metadata": {},
     "output_type": "execute_result"
    }
   ],
   "source": [
    "df_3"
   ],
   "metadata": {
    "collapsed": false,
    "pycharm": {
     "name": "#%%\n"
    }
   }
  },
  {
   "cell_type": "code",
   "execution_count": 20,
   "outputs": [],
   "source": [
    "# GyeonGiHap = pd.DataFrame([] , columns = a)\n",
    "# GyeonGiHap['사용량']= df_3['사용량(kWh)'].loc[(df_3['시군구'] == '{가평군}')]\n",
    "# GyeonGiHap"
   ],
   "metadata": {
    "collapsed": false,
    "pycharm": {
     "name": "#%%\n"
    }
   }
  },
  {
   "cell_type": "code",
   "execution_count": 21,
   "outputs": [
    {
     "name": "stdout",
     "output_type": "stream",
     "text": [
      "[72084207, 69014764, 58780285, 57849434, 55150173, 61788726]\n",
      "[29534847, 27296786, 22941364, 22505760, 21374413, 24630986]\n",
      "[34485010, 32050257, 27822115, 26437201, 25514142, 28632980]\n",
      "[69610415, 65393073, 55191360, 54044978, 51677151, 58038147]\n",
      "[72750443, 69143417, 59373151, 57874115, 54916498, 60939034]\n",
      "광주광역시 지역별 일반용 합계 :  [374667589, 148284156, 174941705, 353955124, 374996658]\n",
      "광주광역시 고객호수 평균:  [23813, 11749, 11526, 27558, 19646]\n"
     ]
    }
   ],
   "source": [
    "sum2 , sum3 =[] , []\n",
    "for k in SIGUNGU:\n",
    "    GyeonGiHap = pd.DataFrame([] , columns = a)\n",
    "    HOSU = pd.DataFrame([], columns = a)\n",
    "    GyeonGiHap['사용량']= df_3['사용량(kWh)'].loc[(df_3['시군구'] == '{}'.format(k))]\n",
    "    HOSU['고객호수']= df_3['고객호수(호)'].loc[(df_3['시군구'] == '{}'.format(k))]\n",
    "    #경기합 데이터프레임의 사용량 열에 기군구가 가평군인 사용량 데이터만 뽑아내기\n",
    "    # GyeonGiHap = GyeonGiHap['사용량']\n",
    "\n",
    "    b = GyeonGiHap['사용량'].tolist()\n",
    "    c = HOSU['고객호수'].tolist()\n",
    "\n",
    "\n",
    "    #각지역별 사용량 리스트화\n",
    "    int_list  , int_list2=[] , []\n",
    "    for i in b:\n",
    "        i = re.sub(\",\" , \"\" , i)\n",
    "        #콤마 없애기\n",
    "        int_list.append(int(i))\n",
    "        #int_list에 각지역별 사용량 int로 저장\n",
    "    print(int_list)\n",
    "    sum=0\n",
    "    for i in c:\n",
    "        i = re.sub(\",\" , \"\" , i)\n",
    "        int_list2.append(int(i))\n",
    "\n",
    "    for j in int_list:\n",
    "\n",
    "        sum+= j\n",
    "    sum2.append(sum)\n",
    "    sum = 0\n",
    "    for j in int_list2: #고객호수 추출하여 더하기\n",
    "\n",
    "        sum+= j\n",
    "    sum3.append(sum//6) #6개월 치로 나눠야하나?!\n",
    "\n",
    "\n",
    "\n",
    "\n",
    "print(\"{} 지역별 일반용 합계 : \".format(City) , sum2)\n",
    "print(\"{} 고객호수 평균: \".format(City) , sum3)\n",
    "# GyeonGiHap['합계'] = sum\n",
    "#\n",
    "# GyeonGiHap"
   ],
   "metadata": {
    "collapsed": false,
    "pycharm": {
     "name": "#%%\n"
    }
   }
  },
  {
   "cell_type": "code",
   "execution_count": 22,
   "outputs": [],
   "source": [
    "# df_3 = df_3.loc[(df_3['시군구'] == '가평군')]\n",
    "#\n",
    "# df_3"
   ],
   "metadata": {
    "collapsed": false,
    "pycharm": {
     "name": "#%%\n"
    }
   }
  },
  {
   "cell_type": "code",
   "execution_count": 23,
   "outputs": [],
   "source": [
    "# GyeonGiHap = df_3.copy()\n",
    "# GyeonGiHap.reset_index(drop=True , inplace = True)\n",
    "# GyeonGiHap.append({'년월' : '202107-202112'  , '시구' : '경기도' , '시군구' : '가평군' , '계약구분' : '일반용' , '사용량(kWh)' : sum}, ignore_index=True)"
   ],
   "metadata": {
    "collapsed": false,
    "pycharm": {
     "name": "#%%\n"
    }
   }
  },
  {
   "cell_type": "code",
   "execution_count": 24,
   "outputs": [],
   "source": [
    "# a=[]\n",
    "# for i in SIGUNGU:\n",
    "#     a.append(i)\n",
    "#\n",
    "# print(a)"
   ],
   "metadata": {
    "collapsed": false,
    "pycharm": {
     "name": "#%%\n"
    }
   }
  },
  {
   "cell_type": "markdown",
   "source": [
    "### 4. 년월 체크!!!!!!!!!!!!!!!!!!!!!!!!!!!!!!!!!!!!!!!!!!!!!!!!!!!!!!!!!!!!!!!!!"
   ],
   "metadata": {
    "collapsed": false,
    "pycharm": {
     "name": "#%% md\n"
    }
   }
  },
  {
   "cell_type": "code",
   "execution_count": 25,
   "outputs": [
    {
     "name": "stderr",
     "output_type": "stream",
     "text": [
      "C:\\Users\\user\\AppData\\Local\\Temp\\ipykernel_924\\1152688266.py:4: FutureWarning: The frame.append method is deprecated and will be removed from pandas in a future version. Use pandas.concat instead.\n",
      "  GyeonGiHap2 = GyeonGiHap2.append({'년월' :'202101-202106'  , '시구' : '{}'.format(City) , '시군구' : '{}'.format(SIGUNGU[i]) , '계약구분' : '일반용' , '고객호수(호)' : sum3[i] ,  '사용량(kWh)' : sum2[i]} , ignore_index=True) #년월 파일마다 수정하기\n",
      "C:\\Users\\user\\AppData\\Local\\Temp\\ipykernel_924\\1152688266.py:4: FutureWarning: The frame.append method is deprecated and will be removed from pandas in a future version. Use pandas.concat instead.\n",
      "  GyeonGiHap2 = GyeonGiHap2.append({'년월' :'202101-202106'  , '시구' : '{}'.format(City) , '시군구' : '{}'.format(SIGUNGU[i]) , '계약구분' : '일반용' , '고객호수(호)' : sum3[i] ,  '사용량(kWh)' : sum2[i]} , ignore_index=True) #년월 파일마다 수정하기\n",
      "C:\\Users\\user\\AppData\\Local\\Temp\\ipykernel_924\\1152688266.py:4: FutureWarning: The frame.append method is deprecated and will be removed from pandas in a future version. Use pandas.concat instead.\n",
      "  GyeonGiHap2 = GyeonGiHap2.append({'년월' :'202101-202106'  , '시구' : '{}'.format(City) , '시군구' : '{}'.format(SIGUNGU[i]) , '계약구분' : '일반용' , '고객호수(호)' : sum3[i] ,  '사용량(kWh)' : sum2[i]} , ignore_index=True) #년월 파일마다 수정하기\n",
      "C:\\Users\\user\\AppData\\Local\\Temp\\ipykernel_924\\1152688266.py:4: FutureWarning: The frame.append method is deprecated and will be removed from pandas in a future version. Use pandas.concat instead.\n",
      "  GyeonGiHap2 = GyeonGiHap2.append({'년월' :'202101-202106'  , '시구' : '{}'.format(City) , '시군구' : '{}'.format(SIGUNGU[i]) , '계약구분' : '일반용' , '고객호수(호)' : sum3[i] ,  '사용량(kWh)' : sum2[i]} , ignore_index=True) #년월 파일마다 수정하기\n",
      "C:\\Users\\user\\AppData\\Local\\Temp\\ipykernel_924\\1152688266.py:4: FutureWarning: The frame.append method is deprecated and will be removed from pandas in a future version. Use pandas.concat instead.\n",
      "  GyeonGiHap2 = GyeonGiHap2.append({'년월' :'202101-202106'  , '시구' : '{}'.format(City) , '시군구' : '{}'.format(SIGUNGU[i]) , '계약구분' : '일반용' , '고객호수(호)' : sum3[i] ,  '사용량(kWh)' : sum2[i]} , ignore_index=True) #년월 파일마다 수정하기\n"
     ]
    },
    {
     "data": {
      "text/plain": "               년월     시구  시군구 계약구분  고객호수(호)     사용량(kWh)\n0          202101  광주광역시  광산구  일반용  23,677   72,084,207 \n1          202102  광주광역시  광산구  일반용  23,679   69,014,764 \n2          202103  광주광역시  광산구  일반용  23,750   58,780,285 \n3          202104  광주광역시  광산구  일반용  23,846   57,849,434 \n4          202105  광주광역시  광산구  일반용  23,939   55,150,173 \n5          202106  광주광역시  광산구  일반용  23,988   61,788,726 \n6          202101  광주광역시   남구  일반용  11,686   29,534,847 \n7          202102  광주광역시   남구  일반용  11,737   27,296,786 \n8          202103  광주광역시   남구  일반용  11,743   22,941,364 \n9          202104  광주광역시   남구  일반용  11,769   22,505,760 \n10         202105  광주광역시   남구  일반용  11,769   21,374,413 \n11         202106  광주광역시   남구  일반용  11,792   24,630,986 \n12         202101  광주광역시   동구  일반용  11,568   34,485,010 \n13         202102  광주광역시   동구  일반용  11,552   32,050,257 \n14         202103  광주광역시   동구  일반용  11,538   27,822,115 \n15         202104  광주광역시   동구  일반용  11,515   26,437,201 \n16         202105  광주광역시   동구  일반용  11,491   25,514,142 \n17         202106  광주광역시   동구  일반용  11,493   28,632,980 \n18         202101  광주광역시   북구  일반용  27,518   69,610,415 \n19         202102  광주광역시   북구  일반용  27,513   65,393,073 \n20         202103  광주광역시   북구  일반용  27,527   55,191,360 \n21         202104  광주광역시   북구  일반용  27,563   54,044,978 \n22         202105  광주광역시   북구  일반용  27,591   51,677,151 \n23         202106  광주광역시   북구  일반용  27,638   58,038,147 \n24         202101  광주광역시   서구  일반용  19,601   72,750,443 \n25         202102  광주광역시   서구  일반용  19,615   69,143,417 \n26         202103  광주광역시   서구  일반용  19,628   59,373,151 \n27         202104  광주광역시   서구  일반용  19,648   57,874,115 \n28         202105  광주광역시   서구  일반용  19,668   54,916,498 \n29         202106  광주광역시   서구  일반용  19,717   60,939,034 \n30  202101-202106  광주광역시  광산구  일반용    23813    374667589\n31  202101-202106  광주광역시   남구  일반용    11749    148284156\n32  202101-202106  광주광역시   동구  일반용    11526    174941705\n33  202101-202106  광주광역시   북구  일반용    27558    353955124\n34  202101-202106  광주광역시   서구  일반용    19646    374996658",
      "text/html": "<div>\n<style scoped>\n    .dataframe tbody tr th:only-of-type {\n        vertical-align: middle;\n    }\n\n    .dataframe tbody tr th {\n        vertical-align: top;\n    }\n\n    .dataframe thead th {\n        text-align: right;\n    }\n</style>\n<table border=\"1\" class=\"dataframe\">\n  <thead>\n    <tr style=\"text-align: right;\">\n      <th></th>\n      <th>년월</th>\n      <th>시구</th>\n      <th>시군구</th>\n      <th>계약구분</th>\n      <th>고객호수(호)</th>\n      <th>사용량(kWh)</th>\n    </tr>\n  </thead>\n  <tbody>\n    <tr>\n      <th>0</th>\n      <td>202101</td>\n      <td>광주광역시</td>\n      <td>광산구</td>\n      <td>일반용</td>\n      <td>23,677</td>\n      <td>72,084,207</td>\n    </tr>\n    <tr>\n      <th>1</th>\n      <td>202102</td>\n      <td>광주광역시</td>\n      <td>광산구</td>\n      <td>일반용</td>\n      <td>23,679</td>\n      <td>69,014,764</td>\n    </tr>\n    <tr>\n      <th>2</th>\n      <td>202103</td>\n      <td>광주광역시</td>\n      <td>광산구</td>\n      <td>일반용</td>\n      <td>23,750</td>\n      <td>58,780,285</td>\n    </tr>\n    <tr>\n      <th>3</th>\n      <td>202104</td>\n      <td>광주광역시</td>\n      <td>광산구</td>\n      <td>일반용</td>\n      <td>23,846</td>\n      <td>57,849,434</td>\n    </tr>\n    <tr>\n      <th>4</th>\n      <td>202105</td>\n      <td>광주광역시</td>\n      <td>광산구</td>\n      <td>일반용</td>\n      <td>23,939</td>\n      <td>55,150,173</td>\n    </tr>\n    <tr>\n      <th>5</th>\n      <td>202106</td>\n      <td>광주광역시</td>\n      <td>광산구</td>\n      <td>일반용</td>\n      <td>23,988</td>\n      <td>61,788,726</td>\n    </tr>\n    <tr>\n      <th>6</th>\n      <td>202101</td>\n      <td>광주광역시</td>\n      <td>남구</td>\n      <td>일반용</td>\n      <td>11,686</td>\n      <td>29,534,847</td>\n    </tr>\n    <tr>\n      <th>7</th>\n      <td>202102</td>\n      <td>광주광역시</td>\n      <td>남구</td>\n      <td>일반용</td>\n      <td>11,737</td>\n      <td>27,296,786</td>\n    </tr>\n    <tr>\n      <th>8</th>\n      <td>202103</td>\n      <td>광주광역시</td>\n      <td>남구</td>\n      <td>일반용</td>\n      <td>11,743</td>\n      <td>22,941,364</td>\n    </tr>\n    <tr>\n      <th>9</th>\n      <td>202104</td>\n      <td>광주광역시</td>\n      <td>남구</td>\n      <td>일반용</td>\n      <td>11,769</td>\n      <td>22,505,760</td>\n    </tr>\n    <tr>\n      <th>10</th>\n      <td>202105</td>\n      <td>광주광역시</td>\n      <td>남구</td>\n      <td>일반용</td>\n      <td>11,769</td>\n      <td>21,374,413</td>\n    </tr>\n    <tr>\n      <th>11</th>\n      <td>202106</td>\n      <td>광주광역시</td>\n      <td>남구</td>\n      <td>일반용</td>\n      <td>11,792</td>\n      <td>24,630,986</td>\n    </tr>\n    <tr>\n      <th>12</th>\n      <td>202101</td>\n      <td>광주광역시</td>\n      <td>동구</td>\n      <td>일반용</td>\n      <td>11,568</td>\n      <td>34,485,010</td>\n    </tr>\n    <tr>\n      <th>13</th>\n      <td>202102</td>\n      <td>광주광역시</td>\n      <td>동구</td>\n      <td>일반용</td>\n      <td>11,552</td>\n      <td>32,050,257</td>\n    </tr>\n    <tr>\n      <th>14</th>\n      <td>202103</td>\n      <td>광주광역시</td>\n      <td>동구</td>\n      <td>일반용</td>\n      <td>11,538</td>\n      <td>27,822,115</td>\n    </tr>\n    <tr>\n      <th>15</th>\n      <td>202104</td>\n      <td>광주광역시</td>\n      <td>동구</td>\n      <td>일반용</td>\n      <td>11,515</td>\n      <td>26,437,201</td>\n    </tr>\n    <tr>\n      <th>16</th>\n      <td>202105</td>\n      <td>광주광역시</td>\n      <td>동구</td>\n      <td>일반용</td>\n      <td>11,491</td>\n      <td>25,514,142</td>\n    </tr>\n    <tr>\n      <th>17</th>\n      <td>202106</td>\n      <td>광주광역시</td>\n      <td>동구</td>\n      <td>일반용</td>\n      <td>11,493</td>\n      <td>28,632,980</td>\n    </tr>\n    <tr>\n      <th>18</th>\n      <td>202101</td>\n      <td>광주광역시</td>\n      <td>북구</td>\n      <td>일반용</td>\n      <td>27,518</td>\n      <td>69,610,415</td>\n    </tr>\n    <tr>\n      <th>19</th>\n      <td>202102</td>\n      <td>광주광역시</td>\n      <td>북구</td>\n      <td>일반용</td>\n      <td>27,513</td>\n      <td>65,393,073</td>\n    </tr>\n    <tr>\n      <th>20</th>\n      <td>202103</td>\n      <td>광주광역시</td>\n      <td>북구</td>\n      <td>일반용</td>\n      <td>27,527</td>\n      <td>55,191,360</td>\n    </tr>\n    <tr>\n      <th>21</th>\n      <td>202104</td>\n      <td>광주광역시</td>\n      <td>북구</td>\n      <td>일반용</td>\n      <td>27,563</td>\n      <td>54,044,978</td>\n    </tr>\n    <tr>\n      <th>22</th>\n      <td>202105</td>\n      <td>광주광역시</td>\n      <td>북구</td>\n      <td>일반용</td>\n      <td>27,591</td>\n      <td>51,677,151</td>\n    </tr>\n    <tr>\n      <th>23</th>\n      <td>202106</td>\n      <td>광주광역시</td>\n      <td>북구</td>\n      <td>일반용</td>\n      <td>27,638</td>\n      <td>58,038,147</td>\n    </tr>\n    <tr>\n      <th>24</th>\n      <td>202101</td>\n      <td>광주광역시</td>\n      <td>서구</td>\n      <td>일반용</td>\n      <td>19,601</td>\n      <td>72,750,443</td>\n    </tr>\n    <tr>\n      <th>25</th>\n      <td>202102</td>\n      <td>광주광역시</td>\n      <td>서구</td>\n      <td>일반용</td>\n      <td>19,615</td>\n      <td>69,143,417</td>\n    </tr>\n    <tr>\n      <th>26</th>\n      <td>202103</td>\n      <td>광주광역시</td>\n      <td>서구</td>\n      <td>일반용</td>\n      <td>19,628</td>\n      <td>59,373,151</td>\n    </tr>\n    <tr>\n      <th>27</th>\n      <td>202104</td>\n      <td>광주광역시</td>\n      <td>서구</td>\n      <td>일반용</td>\n      <td>19,648</td>\n      <td>57,874,115</td>\n    </tr>\n    <tr>\n      <th>28</th>\n      <td>202105</td>\n      <td>광주광역시</td>\n      <td>서구</td>\n      <td>일반용</td>\n      <td>19,668</td>\n      <td>54,916,498</td>\n    </tr>\n    <tr>\n      <th>29</th>\n      <td>202106</td>\n      <td>광주광역시</td>\n      <td>서구</td>\n      <td>일반용</td>\n      <td>19,717</td>\n      <td>60,939,034</td>\n    </tr>\n    <tr>\n      <th>30</th>\n      <td>202101-202106</td>\n      <td>광주광역시</td>\n      <td>광산구</td>\n      <td>일반용</td>\n      <td>23813</td>\n      <td>374667589</td>\n    </tr>\n    <tr>\n      <th>31</th>\n      <td>202101-202106</td>\n      <td>광주광역시</td>\n      <td>남구</td>\n      <td>일반용</td>\n      <td>11749</td>\n      <td>148284156</td>\n    </tr>\n    <tr>\n      <th>32</th>\n      <td>202101-202106</td>\n      <td>광주광역시</td>\n      <td>동구</td>\n      <td>일반용</td>\n      <td>11526</td>\n      <td>174941705</td>\n    </tr>\n    <tr>\n      <th>33</th>\n      <td>202101-202106</td>\n      <td>광주광역시</td>\n      <td>북구</td>\n      <td>일반용</td>\n      <td>27558</td>\n      <td>353955124</td>\n    </tr>\n    <tr>\n      <th>34</th>\n      <td>202101-202106</td>\n      <td>광주광역시</td>\n      <td>서구</td>\n      <td>일반용</td>\n      <td>19646</td>\n      <td>374996658</td>\n    </tr>\n  </tbody>\n</table>\n</div>"
     },
     "execution_count": 25,
     "metadata": {},
     "output_type": "execute_result"
    }
   ],
   "source": [
    "GyeonGiHap2 = df_3.copy()\n",
    "GyeonGiHap2.reset_index(drop=True , inplace = True)\n",
    "for i in range(len(SIGUNGU)):\n",
    "    GyeonGiHap2 = GyeonGiHap2.append({'년월' :'202101-202106'  , '시구' : '{}'.format(City) , '시군구' : '{}'.format(SIGUNGU[i]) , '계약구분' : '일반용' , '고객호수(호)' : sum3[i] ,  '사용량(kWh)' : sum2[i]} , ignore_index=True) #년월 파일마다 수정하기\n",
    "GyeonGiHap2"
   ],
   "metadata": {
    "collapsed": false,
    "pycharm": {
     "name": "#%%\n"
    }
   }
  },
  {
   "cell_type": "markdown",
   "source": [
    "### 5. 날짜 체크!!!!!!!!!!!!!!!!!!!!!!!!!!!!!!!!!!!!!!!!!!!!!!!!!!!!"
   ],
   "metadata": {
    "collapsed": false,
    "pycharm": {
     "name": "#%% md\n"
    }
   }
  },
  {
   "cell_type": "code",
   "execution_count": 26,
   "outputs": [
    {
     "data": {
      "text/plain": "               년월     시구  시군구 계약구분 고객호수(호)   사용량(kWh)\n30  202101-202106  광주광역시  광산구  일반용   23813  374667589\n31  202101-202106  광주광역시   남구  일반용   11749  148284156\n32  202101-202106  광주광역시   동구  일반용   11526  174941705\n33  202101-202106  광주광역시   북구  일반용   27558  353955124\n34  202101-202106  광주광역시   서구  일반용   19646  374996658",
      "text/html": "<div>\n<style scoped>\n    .dataframe tbody tr th:only-of-type {\n        vertical-align: middle;\n    }\n\n    .dataframe tbody tr th {\n        vertical-align: top;\n    }\n\n    .dataframe thead th {\n        text-align: right;\n    }\n</style>\n<table border=\"1\" class=\"dataframe\">\n  <thead>\n    <tr style=\"text-align: right;\">\n      <th></th>\n      <th>년월</th>\n      <th>시구</th>\n      <th>시군구</th>\n      <th>계약구분</th>\n      <th>고객호수(호)</th>\n      <th>사용량(kWh)</th>\n    </tr>\n  </thead>\n  <tbody>\n    <tr>\n      <th>30</th>\n      <td>202101-202106</td>\n      <td>광주광역시</td>\n      <td>광산구</td>\n      <td>일반용</td>\n      <td>23813</td>\n      <td>374667589</td>\n    </tr>\n    <tr>\n      <th>31</th>\n      <td>202101-202106</td>\n      <td>광주광역시</td>\n      <td>남구</td>\n      <td>일반용</td>\n      <td>11749</td>\n      <td>148284156</td>\n    </tr>\n    <tr>\n      <th>32</th>\n      <td>202101-202106</td>\n      <td>광주광역시</td>\n      <td>동구</td>\n      <td>일반용</td>\n      <td>11526</td>\n      <td>174941705</td>\n    </tr>\n    <tr>\n      <th>33</th>\n      <td>202101-202106</td>\n      <td>광주광역시</td>\n      <td>북구</td>\n      <td>일반용</td>\n      <td>27558</td>\n      <td>353955124</td>\n    </tr>\n    <tr>\n      <th>34</th>\n      <td>202101-202106</td>\n      <td>광주광역시</td>\n      <td>서구</td>\n      <td>일반용</td>\n      <td>19646</td>\n      <td>374996658</td>\n    </tr>\n  </tbody>\n</table>\n</div>"
     },
     "execution_count": 26,
     "metadata": {},
     "output_type": "execute_result"
    }
   ],
   "source": [
    "GyeonGiHap2 = GyeonGiHap2.loc[GyeonGiHap2['년월'] == '202101-202106']\n",
    "GyeonGiHap2"
   ],
   "metadata": {
    "collapsed": false,
    "pycharm": {
     "name": "#%%\n"
    }
   }
  },
  {
   "cell_type": "code",
   "execution_count": 27,
   "outputs": [
    {
     "data": {
      "text/plain": "               년월     시구  시군구 계약구분 고객호수(호)    사용량(kWh)\n30  202101-202106  광주광역시  광산구  일반용   23813   374667589\n30  202101-202106  광주광역시  광산구   합계   22227  1776476805\n31  202101-202106  광주광역시   남구  일반용   11749   148284156\n31  202101-202106  광주광역시   남구   합계   13571   361566913\n32  202101-202106  광주광역시   동구  일반용   11526   174941705\n32  202101-202106  광주광역시   동구   합계   10188   304923821\n33  202101-202106  광주광역시   북구  일반용   27558   353955124\n33  202101-202106  광주광역시   북구   합계   28566  1124942433\n34  202101-202106  광주광역시   서구  일반용   19646   374996658\n34  202101-202106  광주광역시   서구   합계   17920   778479961",
      "text/html": "<div>\n<style scoped>\n    .dataframe tbody tr th:only-of-type {\n        vertical-align: middle;\n    }\n\n    .dataframe tbody tr th {\n        vertical-align: top;\n    }\n\n    .dataframe thead th {\n        text-align: right;\n    }\n</style>\n<table border=\"1\" class=\"dataframe\">\n  <thead>\n    <tr style=\"text-align: right;\">\n      <th></th>\n      <th>년월</th>\n      <th>시구</th>\n      <th>시군구</th>\n      <th>계약구분</th>\n      <th>고객호수(호)</th>\n      <th>사용량(kWh)</th>\n    </tr>\n  </thead>\n  <tbody>\n    <tr>\n      <th>30</th>\n      <td>202101-202106</td>\n      <td>광주광역시</td>\n      <td>광산구</td>\n      <td>일반용</td>\n      <td>23813</td>\n      <td>374667589</td>\n    </tr>\n    <tr>\n      <th>30</th>\n      <td>202101-202106</td>\n      <td>광주광역시</td>\n      <td>광산구</td>\n      <td>합계</td>\n      <td>22227</td>\n      <td>1776476805</td>\n    </tr>\n    <tr>\n      <th>31</th>\n      <td>202101-202106</td>\n      <td>광주광역시</td>\n      <td>남구</td>\n      <td>일반용</td>\n      <td>11749</td>\n      <td>148284156</td>\n    </tr>\n    <tr>\n      <th>31</th>\n      <td>202101-202106</td>\n      <td>광주광역시</td>\n      <td>남구</td>\n      <td>합계</td>\n      <td>13571</td>\n      <td>361566913</td>\n    </tr>\n    <tr>\n      <th>32</th>\n      <td>202101-202106</td>\n      <td>광주광역시</td>\n      <td>동구</td>\n      <td>일반용</td>\n      <td>11526</td>\n      <td>174941705</td>\n    </tr>\n    <tr>\n      <th>32</th>\n      <td>202101-202106</td>\n      <td>광주광역시</td>\n      <td>동구</td>\n      <td>합계</td>\n      <td>10188</td>\n      <td>304923821</td>\n    </tr>\n    <tr>\n      <th>33</th>\n      <td>202101-202106</td>\n      <td>광주광역시</td>\n      <td>북구</td>\n      <td>일반용</td>\n      <td>27558</td>\n      <td>353955124</td>\n    </tr>\n    <tr>\n      <th>33</th>\n      <td>202101-202106</td>\n      <td>광주광역시</td>\n      <td>북구</td>\n      <td>합계</td>\n      <td>28566</td>\n      <td>1124942433</td>\n    </tr>\n    <tr>\n      <th>34</th>\n      <td>202101-202106</td>\n      <td>광주광역시</td>\n      <td>서구</td>\n      <td>일반용</td>\n      <td>19646</td>\n      <td>374996658</td>\n    </tr>\n    <tr>\n      <th>34</th>\n      <td>202101-202106</td>\n      <td>광주광역시</td>\n      <td>서구</td>\n      <td>합계</td>\n      <td>17920</td>\n      <td>778479961</td>\n    </tr>\n  </tbody>\n</table>\n</div>"
     },
     "execution_count": 27,
     "metadata": {},
     "output_type": "execute_result"
    }
   ],
   "source": [
    "Final = pd.concat([GyeonGiHap2 , Hap])\n",
    "Final = Final.sort_values('시군구')\n",
    "Final"
   ],
   "metadata": {
    "collapsed": false,
    "pycharm": {
     "name": "#%%\n"
    }
   }
  },
  {
   "cell_type": "code",
   "execution_count": 28,
   "outputs": [
    {
     "data": {
      "text/plain": "[374667589, 148284156, 174941705, 353955124, 374996658]"
     },
     "execution_count": 28,
     "metadata": {},
     "output_type": "execute_result"
    }
   ],
   "source": [
    "# Final['일반용 전기의 비율'] = (Final['사용량(kWh)'].loc[Final['계약구분'] == '일반용']) // (Final['사용량(kWh)'].loc[Final['계약구분'] == '합계'])\n",
    "# Final\n",
    "ex = (Final['사용량(kWh)'].loc[Final['계약구분'] == '일반용']).tolist()\n",
    "\n",
    "\n",
    "ex\n"
   ],
   "metadata": {
    "collapsed": false,
    "pycharm": {
     "name": "#%%\n"
    }
   }
  },
  {
   "cell_type": "code",
   "execution_count": 29,
   "outputs": [
    {
     "data": {
      "text/plain": "[1776476805, 361566913, 304923821, 1124942433, 778479961]"
     },
     "execution_count": 29,
     "metadata": {},
     "output_type": "execute_result"
    }
   ],
   "source": [
    "ex_2 =(Final['사용량(kWh)'].loc[Final['계약구분'] == '합계']).tolist()\n",
    "ex_2"
   ],
   "metadata": {
    "collapsed": false,
    "pycharm": {
     "name": "#%%\n"
    }
   }
  },
  {
   "cell_type": "code",
   "execution_count": 30,
   "outputs": [
    {
     "name": "stdout",
     "output_type": "stream",
     "text": [
      "[21.09, 41.01, 57.37, 31.46, 48.17]\n"
     ]
    }
   ],
   "source": [
    "Rate = []\n",
    "ilban = []\n",
    "rae = 0\n",
    "for i in range(len(ex)):\n",
    "    rae = round(ex[i] / ex_2[i] *100 ,2)\n",
    "    Rate.append(rae)\n",
    "print(Rate)"
   ],
   "metadata": {
    "collapsed": false,
    "pycharm": {
     "name": "#%%\n"
    }
   }
  },
  {
   "cell_type": "code",
   "execution_count": 31,
   "outputs": [
    {
     "data": {
      "text/plain": "0   21\n1   41\n2   57\n3   31\n4   48\ndtype: float64"
     },
     "execution_count": 31,
     "metadata": {},
     "output_type": "execute_result"
    }
   ],
   "source": [
    "Rate3 = pd.Series(Rate)\n",
    "Rate3\n",
    "\n",
    "# Final = pd.concat([Final , Rate3])\n",
    "# Final"
   ],
   "metadata": {
    "collapsed": false,
    "pycharm": {
     "name": "#%%\n"
    }
   }
  },
  {
   "cell_type": "code",
   "execution_count": 32,
   "outputs": [
    {
     "data": {
      "text/plain": "   시군구 계약구분  비율\n0  광산구  일반용  21\n1   남구  일반용  41\n2   동구  일반용  57\n3   북구  일반용  31\n4   서구  일반용  48",
      "text/html": "<div>\n<style scoped>\n    .dataframe tbody tr th:only-of-type {\n        vertical-align: middle;\n    }\n\n    .dataframe tbody tr th {\n        vertical-align: top;\n    }\n\n    .dataframe thead th {\n        text-align: right;\n    }\n</style>\n<table border=\"1\" class=\"dataframe\">\n  <thead>\n    <tr style=\"text-align: right;\">\n      <th></th>\n      <th>시군구</th>\n      <th>계약구분</th>\n      <th>비율</th>\n    </tr>\n  </thead>\n  <tbody>\n    <tr>\n      <th>0</th>\n      <td>광산구</td>\n      <td>일반용</td>\n      <td>21</td>\n    </tr>\n    <tr>\n      <th>1</th>\n      <td>남구</td>\n      <td>일반용</td>\n      <td>41</td>\n    </tr>\n    <tr>\n      <th>2</th>\n      <td>동구</td>\n      <td>일반용</td>\n      <td>57</td>\n    </tr>\n    <tr>\n      <th>3</th>\n      <td>북구</td>\n      <td>일반용</td>\n      <td>31</td>\n    </tr>\n    <tr>\n      <th>4</th>\n      <td>서구</td>\n      <td>일반용</td>\n      <td>48</td>\n    </tr>\n  </tbody>\n</table>\n</div>"
     },
     "execution_count": 32,
     "metadata": {},
     "output_type": "execute_result"
    }
   ],
   "source": [
    "for j in range(len(Rate)):\n",
    "    ilban.append('일반용')\n",
    "#print(Rate)\n",
    "\n",
    "Rate2 = pd.DataFrame()\n",
    "Rate2['시군구'] = pd.DataFrame(SIGUNGU)\n",
    "Rate2['계약구분'] = pd.DataFrame(ilban)\n",
    "Rate2['비율'] = pd.DataFrame(Rate)\n",
    "Rate2\n",
    "#print(Rate2.dtypes)"
   ],
   "metadata": {
    "collapsed": false,
    "pycharm": {
     "name": "#%%\n"
    }
   }
  },
  {
   "cell_type": "code",
   "execution_count": 33,
   "outputs": [
    {
     "data": {
      "text/plain": "              년월     시구  시군구 계약구분 고객호수(호)    사용량(kWh)  비율\n0  202101-202106  광주광역시  광산구  일반용   23813   374667589  21\n1  202101-202106  광주광역시  광산구   합계   22227  1776476805 NaN\n2  202101-202106  광주광역시   남구  일반용   11749   148284156  41\n3  202101-202106  광주광역시   남구   합계   13571   361566913 NaN\n4  202101-202106  광주광역시   동구  일반용   11526   174941705  57\n5  202101-202106  광주광역시   동구   합계   10188   304923821 NaN\n6  202101-202106  광주광역시   북구  일반용   27558   353955124  31\n7  202101-202106  광주광역시   북구   합계   28566  1124942433 NaN\n8  202101-202106  광주광역시   서구  일반용   19646   374996658  48\n9  202101-202106  광주광역시   서구   합계   17920   778479961 NaN",
      "text/html": "<div>\n<style scoped>\n    .dataframe tbody tr th:only-of-type {\n        vertical-align: middle;\n    }\n\n    .dataframe tbody tr th {\n        vertical-align: top;\n    }\n\n    .dataframe thead th {\n        text-align: right;\n    }\n</style>\n<table border=\"1\" class=\"dataframe\">\n  <thead>\n    <tr style=\"text-align: right;\">\n      <th></th>\n      <th>년월</th>\n      <th>시구</th>\n      <th>시군구</th>\n      <th>계약구분</th>\n      <th>고객호수(호)</th>\n      <th>사용량(kWh)</th>\n      <th>비율</th>\n    </tr>\n  </thead>\n  <tbody>\n    <tr>\n      <th>0</th>\n      <td>202101-202106</td>\n      <td>광주광역시</td>\n      <td>광산구</td>\n      <td>일반용</td>\n      <td>23813</td>\n      <td>374667589</td>\n      <td>21</td>\n    </tr>\n    <tr>\n      <th>1</th>\n      <td>202101-202106</td>\n      <td>광주광역시</td>\n      <td>광산구</td>\n      <td>합계</td>\n      <td>22227</td>\n      <td>1776476805</td>\n      <td>NaN</td>\n    </tr>\n    <tr>\n      <th>2</th>\n      <td>202101-202106</td>\n      <td>광주광역시</td>\n      <td>남구</td>\n      <td>일반용</td>\n      <td>11749</td>\n      <td>148284156</td>\n      <td>41</td>\n    </tr>\n    <tr>\n      <th>3</th>\n      <td>202101-202106</td>\n      <td>광주광역시</td>\n      <td>남구</td>\n      <td>합계</td>\n      <td>13571</td>\n      <td>361566913</td>\n      <td>NaN</td>\n    </tr>\n    <tr>\n      <th>4</th>\n      <td>202101-202106</td>\n      <td>광주광역시</td>\n      <td>동구</td>\n      <td>일반용</td>\n      <td>11526</td>\n      <td>174941705</td>\n      <td>57</td>\n    </tr>\n    <tr>\n      <th>5</th>\n      <td>202101-202106</td>\n      <td>광주광역시</td>\n      <td>동구</td>\n      <td>합계</td>\n      <td>10188</td>\n      <td>304923821</td>\n      <td>NaN</td>\n    </tr>\n    <tr>\n      <th>6</th>\n      <td>202101-202106</td>\n      <td>광주광역시</td>\n      <td>북구</td>\n      <td>일반용</td>\n      <td>27558</td>\n      <td>353955124</td>\n      <td>31</td>\n    </tr>\n    <tr>\n      <th>7</th>\n      <td>202101-202106</td>\n      <td>광주광역시</td>\n      <td>북구</td>\n      <td>합계</td>\n      <td>28566</td>\n      <td>1124942433</td>\n      <td>NaN</td>\n    </tr>\n    <tr>\n      <th>8</th>\n      <td>202101-202106</td>\n      <td>광주광역시</td>\n      <td>서구</td>\n      <td>일반용</td>\n      <td>19646</td>\n      <td>374996658</td>\n      <td>48</td>\n    </tr>\n    <tr>\n      <th>9</th>\n      <td>202101-202106</td>\n      <td>광주광역시</td>\n      <td>서구</td>\n      <td>합계</td>\n      <td>17920</td>\n      <td>778479961</td>\n      <td>NaN</td>\n    </tr>\n  </tbody>\n</table>\n</div>"
     },
     "execution_count": 33,
     "metadata": {},
     "output_type": "execute_result"
    }
   ],
   "source": [
    "Final = pd.merge(Final , Rate2, on=['시군구', '계약구분'] , how='left')\n",
    "\n",
    "#Final.drop(['비율_y]' , axis = 1 , inplace = True)\n",
    "#Final.rename(columns={'비율_y':'전체 계약종별 전력사용량 대비 일반용 사용량 비율'})\n",
    "Final = Final.sort_values(['시군구' , '계약구분'])\n",
    "Final"
   ],
   "metadata": {
    "collapsed": false,
    "pycharm": {
     "name": "#%%\n"
    }
   }
  },
  {
   "cell_type": "code",
   "execution_count": 34,
   "outputs": [],
   "source": [
    "# Final['일반용 전기의 비율'] = Final.append(Rate)\n",
    "# Final"
   ],
   "metadata": {
    "collapsed": false,
    "pycharm": {
     "name": "#%%\n"
    }
   }
  },
  {
   "cell_type": "markdown",
   "source": [
    "### 6. 날짜 체크!!!!!!!!!!!!!!!!!!!!1"
   ],
   "metadata": {
    "collapsed": false,
    "pycharm": {
     "name": "#%% md\n"
    }
   }
  },
  {
   "cell_type": "code",
   "execution_count": 35,
   "outputs": [],
   "source": [
    "Final.to_csv(\"{}_일반용_전력사용량_2101-06.csv\".format(City) , mode = 'w' , encoding= 'cp949' , index =False) #파일명 수정"
   ],
   "metadata": {
    "collapsed": false,
    "pycharm": {
     "name": "#%%\n"
    }
   }
  },
  {
   "cell_type": "code",
   "execution_count": 35,
   "outputs": [],
   "source": [],
   "metadata": {
    "collapsed": false,
    "pycharm": {
     "name": "#%%\n"
    }
   }
  },
  {
   "cell_type": "code",
   "execution_count": 36,
   "outputs": [],
   "source": [
    "# Sigu = list(set(df_3['시군구'].tolist()))\n",
    "#\n",
    "# Sigu.sort()\n",
    "#\n",
    "# Sigu"
   ],
   "metadata": {
    "collapsed": false,
    "pycharm": {
     "name": "#%%\n"
    }
   }
  },
  {
   "cell_type": "code",
   "execution_count": 37,
   "outputs": [],
   "source": [
    "# YearMonth = list(set(df_3['년월'].tolist()))\n",
    "#\n",
    "# YearMonth.sort()\n",
    "# YearMonth"
   ],
   "metadata": {
    "collapsed": false,
    "pycharm": {
     "name": "#%%\n"
    }
   }
  },
  {
   "cell_type": "code",
   "execution_count": 38,
   "outputs": [],
   "source": [
    "# Gayeak = list(set(df_3['계약구분'].tolist()))\n",
    "#\n",
    "# Gayeak.sort()\n",
    "# Gayeak"
   ],
   "metadata": {
    "collapsed": false,
    "pycharm": {
     "name": "#%%\n"
    }
   }
  },
  {
   "cell_type": "code",
   "execution_count": 39,
   "outputs": [],
   "source": [
    "# SEOUL = df_3.loc[(df_3['계약구분'] =='일반용')]\n",
    "# SEOUL.drop(['고객호수(호)' ,'전기요금(원)' , '평균판매단가(원/kWh)'] , axis = 1 , inplace = True)\n",
    "# #SEOUL.dtypes(['사용량(kWh)'])\n",
    "# SEOUL"
   ],
   "metadata": {
    "collapsed": false,
    "pycharm": {
     "name": "#%%\n"
    }
   }
  },
  {
   "cell_type": "code",
   "execution_count": 40,
   "outputs": [],
   "source": [
    "#SEOUL.to_csv(\"서울특별시_일반용_전력사용량.csv\" , mode = 'w' , encoding= 'cp949')"
   ],
   "metadata": {
    "collapsed": false,
    "pycharm": {
     "name": "#%%\n"
    }
   }
  },
  {
   "cell_type": "code",
   "execution_count": 41,
   "outputs": [],
   "source": [
    "# print(SEOUL.dtypes)\n",
    "# SEOUL = SEOUL.astype({'사용량(kWh)' : 'float'})"
   ],
   "metadata": {
    "collapsed": false,
    "pycharm": {
     "name": "#%%\n"
    }
   }
  },
  {
   "cell_type": "code",
   "execution_count": 42,
   "outputs": [],
   "source": [
    "# SEOUL"
   ],
   "metadata": {
    "collapsed": false,
    "pycharm": {
     "name": "#%%\n"
    }
   }
  },
  {
   "cell_type": "code",
   "execution_count": 43,
   "outputs": [],
   "source": [
    "# a = SEOUL['사용량(kWh)'].tolist()\n",
    "# int_list = map(int, a)\n",
    "# b=0\n",
    "# for i in int_list:\n",
    "#     b+=i\n",
    "#\n",
    "# print(b)"
   ],
   "metadata": {
    "collapsed": false,
    "pycharm": {
     "name": "#%%\n"
    }
   }
  },
  {
   "cell_type": "code",
   "execution_count": 43,
   "outputs": [],
   "source": [],
   "metadata": {
    "collapsed": false,
    "pycharm": {
     "name": "#%%\n"
    }
   }
  },
  {
   "cell_type": "code",
   "execution_count": 43,
   "outputs": [],
   "source": [],
   "metadata": {
    "collapsed": false,
    "pycharm": {
     "name": "#%%\n"
    }
   }
  },
  {
   "cell_type": "code",
   "execution_count": 43,
   "outputs": [],
   "source": [],
   "metadata": {
    "collapsed": false,
    "pycharm": {
     "name": "#%%\n"
    }
   }
  },
  {
   "cell_type": "code",
   "execution_count": 43,
   "outputs": [],
   "source": [],
   "metadata": {
    "collapsed": false,
    "pycharm": {
     "name": "#%%\n"
    }
   }
  },
  {
   "cell_type": "code",
   "execution_count": 43,
   "outputs": [],
   "source": [],
   "metadata": {
    "collapsed": false,
    "pycharm": {
     "name": "#%%\n"
    }
   }
  },
  {
   "cell_type": "code",
   "execution_count": 43,
   "outputs": [],
   "source": [],
   "metadata": {
    "collapsed": false,
    "pycharm": {
     "name": "#%%\n"
    }
   }
  },
  {
   "cell_type": "code",
   "execution_count": 43,
   "outputs": [],
   "source": [],
   "metadata": {
    "collapsed": false,
    "pycharm": {
     "name": "#%%\n"
    }
   }
  }
 ],
 "metadata": {
  "kernelspec": {
   "display_name": "Python 3",
   "language": "python",
   "name": "python3"
  },
  "language_info": {
   "codemirror_mode": {
    "name": "ipython",
    "version": 2
   },
   "file_extension": ".py",
   "mimetype": "text/x-python",
   "name": "python",
   "nbconvert_exporter": "python",
   "pygments_lexer": "ipython2",
   "version": "2.7.6"
  }
 },
 "nbformat": 4,
 "nbformat_minor": 0
}