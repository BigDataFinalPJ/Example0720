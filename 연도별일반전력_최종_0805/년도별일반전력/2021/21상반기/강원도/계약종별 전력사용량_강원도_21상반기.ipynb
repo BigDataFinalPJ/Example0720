{
 "cells": [
  {
   "cell_type": "markdown",
   "source": [],
   "metadata": {
    "collapsed": false,
    "pycharm": {
     "name": "#%% md\n"
    }
   }
  },
  {
   "cell_type": "code",
   "execution_count": 25,
   "outputs": [],
   "source": [
    "import pandas as pd\n",
    "import re\n",
    "\n",
    "pd.options.display.float_format = '{:.0f}'.format"
   ],
   "metadata": {
    "collapsed": false,
    "pycharm": {
     "name": "#%%\n"
    }
   }
  },
  {
   "cell_type": "markdown",
   "source": [
    "### 1. 꼭 read_csv 21상반기, 19하반기와 같이 맞추어 주세요!!! 또한 지역(전라북도, 남도) 맞추기!!!!!"
   ],
   "metadata": {
    "collapsed": false,
    "pycharm": {
     "name": "#%% md\n"
    }
   }
  },
  {
   "cell_type": "code",
   "execution_count": 26,
   "outputs": [
    {
     "data": {
      "text/plain": "      계약종별 전력사용량 월별( 20220804 현재 ) Unnamed: 1     Unnamed: 2 Unnamed: 3  \\\n0    시도 : 강원도, 시군구 : 전체(시 / 군 / 구)        NaN            NaN        NaN   \n1      기간 : 2021년 01 월 ~ 2021년 06월        NaN            NaN        NaN   \n2                               년월         시구            시군구       계약구분   \n3                           202101        강원도  전체(시 / 군 / 구)        주택용   \n4                           202101        강원도  전체(시 / 군 / 구)        일반용   \n..                             ...        ...            ...        ...   \n907                         202106        강원도            횡성군        산업용   \n908                         202106        강원도            횡성군        심 야   \n909                         202106        강원도            횡성군        일반용   \n910                         202106        강원도            횡성군        주택용   \n911                         202106        강원도            횡성군         합계   \n\n    Unnamed: 4    Unnamed: 5       Unnamed: 6     Unnamed: 7  \n0          NaN           NaN              NaN            NaN  \n1          NaN           NaN              NaN            NaN  \n2      고객호수(호)      사용량(kWh)          전기요금(원)  평균판매단가(원/kWh)  \n3     618,327   227,246,195   26,955,651,763          118.6   \n4     152,413   493,397,443   62,321,881,894          126.3   \n..         ...           ...              ...            ...  \n907       769    21,109,992    2,761,838,738          130.8   \n908     6,123     4,775,914      244,446,522           51.2   \n909     5,324     8,849,533    1,252,212,504          141.5   \n910    26,920     5,261,636      568,911,620          108.1   \n911    60,232    47,599,857    5,285,872,056            111   \n\n[912 rows x 8 columns]",
      "text/html": "<div>\n<style scoped>\n    .dataframe tbody tr th:only-of-type {\n        vertical-align: middle;\n    }\n\n    .dataframe tbody tr th {\n        vertical-align: top;\n    }\n\n    .dataframe thead th {\n        text-align: right;\n    }\n</style>\n<table border=\"1\" class=\"dataframe\">\n  <thead>\n    <tr style=\"text-align: right;\">\n      <th></th>\n      <th>계약종별 전력사용량 월별( 20220804 현재 )</th>\n      <th>Unnamed: 1</th>\n      <th>Unnamed: 2</th>\n      <th>Unnamed: 3</th>\n      <th>Unnamed: 4</th>\n      <th>Unnamed: 5</th>\n      <th>Unnamed: 6</th>\n      <th>Unnamed: 7</th>\n    </tr>\n  </thead>\n  <tbody>\n    <tr>\n      <th>0</th>\n      <td>시도 : 강원도, 시군구 : 전체(시 / 군 / 구)</td>\n      <td>NaN</td>\n      <td>NaN</td>\n      <td>NaN</td>\n      <td>NaN</td>\n      <td>NaN</td>\n      <td>NaN</td>\n      <td>NaN</td>\n    </tr>\n    <tr>\n      <th>1</th>\n      <td>기간 : 2021년 01 월 ~ 2021년 06월</td>\n      <td>NaN</td>\n      <td>NaN</td>\n      <td>NaN</td>\n      <td>NaN</td>\n      <td>NaN</td>\n      <td>NaN</td>\n      <td>NaN</td>\n    </tr>\n    <tr>\n      <th>2</th>\n      <td>년월</td>\n      <td>시구</td>\n      <td>시군구</td>\n      <td>계약구분</td>\n      <td>고객호수(호)</td>\n      <td>사용량(kWh)</td>\n      <td>전기요금(원)</td>\n      <td>평균판매단가(원/kWh)</td>\n    </tr>\n    <tr>\n      <th>3</th>\n      <td>202101</td>\n      <td>강원도</td>\n      <td>전체(시 / 군 / 구)</td>\n      <td>주택용</td>\n      <td>618,327</td>\n      <td>227,246,195</td>\n      <td>26,955,651,763</td>\n      <td>118.6</td>\n    </tr>\n    <tr>\n      <th>4</th>\n      <td>202101</td>\n      <td>강원도</td>\n      <td>전체(시 / 군 / 구)</td>\n      <td>일반용</td>\n      <td>152,413</td>\n      <td>493,397,443</td>\n      <td>62,321,881,894</td>\n      <td>126.3</td>\n    </tr>\n    <tr>\n      <th>...</th>\n      <td>...</td>\n      <td>...</td>\n      <td>...</td>\n      <td>...</td>\n      <td>...</td>\n      <td>...</td>\n      <td>...</td>\n      <td>...</td>\n    </tr>\n    <tr>\n      <th>907</th>\n      <td>202106</td>\n      <td>강원도</td>\n      <td>횡성군</td>\n      <td>산업용</td>\n      <td>769</td>\n      <td>21,109,992</td>\n      <td>2,761,838,738</td>\n      <td>130.8</td>\n    </tr>\n    <tr>\n      <th>908</th>\n      <td>202106</td>\n      <td>강원도</td>\n      <td>횡성군</td>\n      <td>심 야</td>\n      <td>6,123</td>\n      <td>4,775,914</td>\n      <td>244,446,522</td>\n      <td>51.2</td>\n    </tr>\n    <tr>\n      <th>909</th>\n      <td>202106</td>\n      <td>강원도</td>\n      <td>횡성군</td>\n      <td>일반용</td>\n      <td>5,324</td>\n      <td>8,849,533</td>\n      <td>1,252,212,504</td>\n      <td>141.5</td>\n    </tr>\n    <tr>\n      <th>910</th>\n      <td>202106</td>\n      <td>강원도</td>\n      <td>횡성군</td>\n      <td>주택용</td>\n      <td>26,920</td>\n      <td>5,261,636</td>\n      <td>568,911,620</td>\n      <td>108.1</td>\n    </tr>\n    <tr>\n      <th>911</th>\n      <td>202106</td>\n      <td>강원도</td>\n      <td>횡성군</td>\n      <td>합계</td>\n      <td>60,232</td>\n      <td>47,599,857</td>\n      <td>5,285,872,056</td>\n      <td>111</td>\n    </tr>\n  </tbody>\n</table>\n<p>912 rows × 8 columns</p>\n</div>"
     },
     "execution_count": 26,
     "metadata": {},
     "output_type": "execute_result"
    }
   ],
   "source": [
    "df = pd.read_csv('강원도_계약종별_전력사용량_월별_21상반기.csv' , encoding='cp949')\n",
    "\n",
    "df\n",
    "#exchng=  pd.read_csv('지역별_전력거래량_20220803093050.csv' , encoding='cp949')"
   ],
   "metadata": {
    "collapsed": false,
    "pycharm": {
     "name": "#%%\n"
    }
   }
  },
  {
   "cell_type": "code",
   "execution_count": 27,
   "outputs": [
    {
     "data": {
      "text/plain": "    계약종별 전력사용량 월별( 20220804 현재 ) Unnamed: 1     Unnamed: 2 Unnamed: 3  \\\n2                             년월         시구            시군구       계약구분   \n3                         202101        강원도  전체(시 / 군 / 구)        주택용   \n4                         202101        강원도  전체(시 / 군 / 구)        일반용   \n5                         202101        강원도  전체(시 / 군 / 구)        교육용   \n6                         202101        강원도  전체(시 / 군 / 구)        산업용   \n..                           ...        ...            ...        ...   \n907                       202106        강원도            횡성군        산업용   \n908                       202106        강원도            횡성군        심 야   \n909                       202106        강원도            횡성군        일반용   \n910                       202106        강원도            횡성군        주택용   \n911                       202106        강원도            횡성군         합계   \n\n    Unnamed: 4    Unnamed: 5       Unnamed: 6     Unnamed: 7  \n2      고객호수(호)      사용량(kWh)          전기요금(원)  평균판매단가(원/kWh)  \n3     618,327   227,246,195   26,955,651,763          118.6   \n4     152,413   493,397,443   62,321,881,894          126.3   \n5       1,061    41,413,887    3,909,542,188           94.4   \n6      14,345   533,361,061   59,613,508,699          111.8   \n..         ...           ...              ...            ...  \n907       769    21,109,992    2,761,838,738          130.8   \n908     6,123     4,775,914      244,446,522           51.2   \n909     5,324     8,849,533    1,252,212,504          141.5   \n910    26,920     5,261,636      568,911,620          108.1   \n911    60,232    47,599,857    5,285,872,056            111   \n\n[909 rows x 8 columns]",
      "text/html": "<div>\n<style scoped>\n    .dataframe tbody tr th:only-of-type {\n        vertical-align: middle;\n    }\n\n    .dataframe tbody tr th {\n        vertical-align: top;\n    }\n\n    .dataframe thead th {\n        text-align: right;\n    }\n</style>\n<table border=\"1\" class=\"dataframe\">\n  <thead>\n    <tr style=\"text-align: right;\">\n      <th></th>\n      <th>계약종별 전력사용량 월별( 20220804 현재 )</th>\n      <th>Unnamed: 1</th>\n      <th>Unnamed: 2</th>\n      <th>Unnamed: 3</th>\n      <th>Unnamed: 4</th>\n      <th>Unnamed: 5</th>\n      <th>Unnamed: 6</th>\n      <th>Unnamed: 7</th>\n    </tr>\n  </thead>\n  <tbody>\n    <tr>\n      <th>2</th>\n      <td>년월</td>\n      <td>시구</td>\n      <td>시군구</td>\n      <td>계약구분</td>\n      <td>고객호수(호)</td>\n      <td>사용량(kWh)</td>\n      <td>전기요금(원)</td>\n      <td>평균판매단가(원/kWh)</td>\n    </tr>\n    <tr>\n      <th>3</th>\n      <td>202101</td>\n      <td>강원도</td>\n      <td>전체(시 / 군 / 구)</td>\n      <td>주택용</td>\n      <td>618,327</td>\n      <td>227,246,195</td>\n      <td>26,955,651,763</td>\n      <td>118.6</td>\n    </tr>\n    <tr>\n      <th>4</th>\n      <td>202101</td>\n      <td>강원도</td>\n      <td>전체(시 / 군 / 구)</td>\n      <td>일반용</td>\n      <td>152,413</td>\n      <td>493,397,443</td>\n      <td>62,321,881,894</td>\n      <td>126.3</td>\n    </tr>\n    <tr>\n      <th>5</th>\n      <td>202101</td>\n      <td>강원도</td>\n      <td>전체(시 / 군 / 구)</td>\n      <td>교육용</td>\n      <td>1,061</td>\n      <td>41,413,887</td>\n      <td>3,909,542,188</td>\n      <td>94.4</td>\n    </tr>\n    <tr>\n      <th>6</th>\n      <td>202101</td>\n      <td>강원도</td>\n      <td>전체(시 / 군 / 구)</td>\n      <td>산업용</td>\n      <td>14,345</td>\n      <td>533,361,061</td>\n      <td>59,613,508,699</td>\n      <td>111.8</td>\n    </tr>\n    <tr>\n      <th>...</th>\n      <td>...</td>\n      <td>...</td>\n      <td>...</td>\n      <td>...</td>\n      <td>...</td>\n      <td>...</td>\n      <td>...</td>\n      <td>...</td>\n    </tr>\n    <tr>\n      <th>907</th>\n      <td>202106</td>\n      <td>강원도</td>\n      <td>횡성군</td>\n      <td>산업용</td>\n      <td>769</td>\n      <td>21,109,992</td>\n      <td>2,761,838,738</td>\n      <td>130.8</td>\n    </tr>\n    <tr>\n      <th>908</th>\n      <td>202106</td>\n      <td>강원도</td>\n      <td>횡성군</td>\n      <td>심 야</td>\n      <td>6,123</td>\n      <td>4,775,914</td>\n      <td>244,446,522</td>\n      <td>51.2</td>\n    </tr>\n    <tr>\n      <th>909</th>\n      <td>202106</td>\n      <td>강원도</td>\n      <td>횡성군</td>\n      <td>일반용</td>\n      <td>5,324</td>\n      <td>8,849,533</td>\n      <td>1,252,212,504</td>\n      <td>141.5</td>\n    </tr>\n    <tr>\n      <th>910</th>\n      <td>202106</td>\n      <td>강원도</td>\n      <td>횡성군</td>\n      <td>주택용</td>\n      <td>26,920</td>\n      <td>5,261,636</td>\n      <td>568,911,620</td>\n      <td>108.1</td>\n    </tr>\n    <tr>\n      <th>911</th>\n      <td>202106</td>\n      <td>강원도</td>\n      <td>횡성군</td>\n      <td>합계</td>\n      <td>60,232</td>\n      <td>47,599,857</td>\n      <td>5,285,872,056</td>\n      <td>111</td>\n    </tr>\n  </tbody>\n</table>\n<p>909 rows × 8 columns</p>\n</div>"
     },
     "execution_count": 27,
     "metadata": {},
     "output_type": "execute_result"
    }
   ],
   "source": [
    "df = df.drop([0,1 , 46] , axis = 0)\n",
    "#0,1 , 10은 지우는게 맞다\n",
    "df"
   ],
   "metadata": {
    "collapsed": false,
    "pycharm": {
     "name": "#%%\n"
    }
   }
  },
  {
   "cell_type": "code",
   "execution_count": 28,
   "outputs": [],
   "source": [
    "a= df.loc[2].tolist()\n",
    "a\n",
    "df = df.drop([2] , axis = 0)"
   ],
   "metadata": {
    "collapsed": false,
    "pycharm": {
     "name": "#%%\n"
    }
   }
  },
  {
   "cell_type": "code",
   "execution_count": 29,
   "outputs": [
    {
     "data": {
      "text/plain": "         년월   시구            시군구 계약구분   고객호수(호)      사용량(kWh)          전기요금(원)  \\\n3    202101  강원도  전체(시 / 군 / 구)  주택용  618,327   227,246,195   26,955,651,763    \n4    202101  강원도  전체(시 / 군 / 구)  일반용  152,413   493,397,443   62,321,881,894    \n5    202101  강원도  전체(시 / 군 / 구)  교육용    1,061    41,413,887    3,909,542,188    \n6    202101  강원도  전체(시 / 군 / 구)  산업용   14,345   533,361,061   59,613,508,699    \n7    202101  강원도  전체(시 / 군 / 구)  농사용  115,482    67,586,268    3,177,299,997    \n..      ...  ...            ...  ...       ...           ...              ...   \n907  202106  강원도            횡성군  산업용      769    21,109,992    2,761,838,738    \n908  202106  강원도            횡성군  심 야    6,123     4,775,914      244,446,522    \n909  202106  강원도            횡성군  일반용    5,324     8,849,533    1,252,212,504    \n910  202106  강원도            횡성군  주택용   26,920     5,261,636      568,911,620    \n911  202106  강원도            횡성군   합계   60,232    47,599,857    5,285,872,056    \n\n    평균판매단가(원/kWh)  \n3          118.6   \n4          126.3   \n5           94.4   \n6          111.8   \n7           47.0   \n..            ...  \n907        130.8   \n908         51.2   \n909        141.5   \n910        108.1   \n911          111   \n\n[908 rows x 8 columns]",
      "text/html": "<div>\n<style scoped>\n    .dataframe tbody tr th:only-of-type {\n        vertical-align: middle;\n    }\n\n    .dataframe tbody tr th {\n        vertical-align: top;\n    }\n\n    .dataframe thead th {\n        text-align: right;\n    }\n</style>\n<table border=\"1\" class=\"dataframe\">\n  <thead>\n    <tr style=\"text-align: right;\">\n      <th></th>\n      <th>년월</th>\n      <th>시구</th>\n      <th>시군구</th>\n      <th>계약구분</th>\n      <th>고객호수(호)</th>\n      <th>사용량(kWh)</th>\n      <th>전기요금(원)</th>\n      <th>평균판매단가(원/kWh)</th>\n    </tr>\n  </thead>\n  <tbody>\n    <tr>\n      <th>3</th>\n      <td>202101</td>\n      <td>강원도</td>\n      <td>전체(시 / 군 / 구)</td>\n      <td>주택용</td>\n      <td>618,327</td>\n      <td>227,246,195</td>\n      <td>26,955,651,763</td>\n      <td>118.6</td>\n    </tr>\n    <tr>\n      <th>4</th>\n      <td>202101</td>\n      <td>강원도</td>\n      <td>전체(시 / 군 / 구)</td>\n      <td>일반용</td>\n      <td>152,413</td>\n      <td>493,397,443</td>\n      <td>62,321,881,894</td>\n      <td>126.3</td>\n    </tr>\n    <tr>\n      <th>5</th>\n      <td>202101</td>\n      <td>강원도</td>\n      <td>전체(시 / 군 / 구)</td>\n      <td>교육용</td>\n      <td>1,061</td>\n      <td>41,413,887</td>\n      <td>3,909,542,188</td>\n      <td>94.4</td>\n    </tr>\n    <tr>\n      <th>6</th>\n      <td>202101</td>\n      <td>강원도</td>\n      <td>전체(시 / 군 / 구)</td>\n      <td>산업용</td>\n      <td>14,345</td>\n      <td>533,361,061</td>\n      <td>59,613,508,699</td>\n      <td>111.8</td>\n    </tr>\n    <tr>\n      <th>7</th>\n      <td>202101</td>\n      <td>강원도</td>\n      <td>전체(시 / 군 / 구)</td>\n      <td>농사용</td>\n      <td>115,482</td>\n      <td>67,586,268</td>\n      <td>3,177,299,997</td>\n      <td>47.0</td>\n    </tr>\n    <tr>\n      <th>...</th>\n      <td>...</td>\n      <td>...</td>\n      <td>...</td>\n      <td>...</td>\n      <td>...</td>\n      <td>...</td>\n      <td>...</td>\n      <td>...</td>\n    </tr>\n    <tr>\n      <th>907</th>\n      <td>202106</td>\n      <td>강원도</td>\n      <td>횡성군</td>\n      <td>산업용</td>\n      <td>769</td>\n      <td>21,109,992</td>\n      <td>2,761,838,738</td>\n      <td>130.8</td>\n    </tr>\n    <tr>\n      <th>908</th>\n      <td>202106</td>\n      <td>강원도</td>\n      <td>횡성군</td>\n      <td>심 야</td>\n      <td>6,123</td>\n      <td>4,775,914</td>\n      <td>244,446,522</td>\n      <td>51.2</td>\n    </tr>\n    <tr>\n      <th>909</th>\n      <td>202106</td>\n      <td>강원도</td>\n      <td>횡성군</td>\n      <td>일반용</td>\n      <td>5,324</td>\n      <td>8,849,533</td>\n      <td>1,252,212,504</td>\n      <td>141.5</td>\n    </tr>\n    <tr>\n      <th>910</th>\n      <td>202106</td>\n      <td>강원도</td>\n      <td>횡성군</td>\n      <td>주택용</td>\n      <td>26,920</td>\n      <td>5,261,636</td>\n      <td>568,911,620</td>\n      <td>108.1</td>\n    </tr>\n    <tr>\n      <th>911</th>\n      <td>202106</td>\n      <td>강원도</td>\n      <td>횡성군</td>\n      <td>합계</td>\n      <td>60,232</td>\n      <td>47,599,857</td>\n      <td>5,285,872,056</td>\n      <td>111</td>\n    </tr>\n  </tbody>\n</table>\n<p>908 rows × 8 columns</p>\n</div>"
     },
     "execution_count": 29,
     "metadata": {},
     "output_type": "execute_result"
    }
   ],
   "source": [
    "df.columns = a\n",
    "df"
   ],
   "metadata": {
    "collapsed": false,
    "pycharm": {
     "name": "#%%\n"
    }
   }
  },
  {
   "cell_type": "code",
   "execution_count": 30,
   "outputs": [
    {
     "data": {
      "text/plain": "        년월   시구            시군구 계약구분    고객호수(호)       사용량(kWh)  \\\n3   202101  강원도  전체(시 / 군 / 구)  주택용   618,327    227,246,195    \n4   202101  강원도  전체(시 / 군 / 구)  일반용   152,413    493,397,443    \n5   202101  강원도  전체(시 / 군 / 구)  교육용     1,061     41,413,887    \n6   202101  강원도  전체(시 / 군 / 구)  산업용    14,345    533,361,061    \n7   202101  강원도  전체(시 / 군 / 구)  농사용   115,482     67,586,268    \n8   202101  강원도  전체(시 / 군 / 구)  가로등   126,130     17,427,965    \n9   202101  강원도  전체(시 / 군 / 구)  심 야    87,060    249,378,699    \n10  202102  강원도  전체(시 / 군 / 구)  주택용   619,003    220,535,806    \n11  202102  강원도  전체(시 / 군 / 구)  일반용   152,327    459,624,210    \n12  202102  강원도  전체(시 / 군 / 구)  교육용     1,061     36,258,473    \n13  202102  강원도  전체(시 / 군 / 구)  산업용    14,350    506,406,239    \n14  202102  강원도  전체(시 / 군 / 구)  농사용   115,521     66,043,260    \n15  202102  강원도  전체(시 / 군 / 구)  가로등   126,687     16,717,110    \n16  202102  강원도  전체(시 / 군 / 구)  심 야    86,854    234,020,292    \n17  202103  강원도  전체(시 / 군 / 구)  주택용   619,437    185,777,135    \n18  202103  강원도  전체(시 / 군 / 구)  일반용   152,487    380,163,545    \n19  202103  강원도  전체(시 / 군 / 구)  교육용     1,058     31,431,946    \n20  202103  강원도  전체(시 / 군 / 구)  산업용    14,350    549,422,731    \n21  202103  강원도  전체(시 / 군 / 구)  농사용   137,780     58,168,831    \n22  202103  강원도  전체(시 / 군 / 구)  가로등   127,043     15,946,172    \n23  202103  강원도  전체(시 / 군 / 구)  심 야    86,701    174,163,835    \n24  202104  강원도  전체(시 / 군 / 구)  주택용   620,632    187,549,848    \n25  202104  강원도  전체(시 / 군 / 구)  일반용   152,864    351,157,093    \n26  202104  강원도  전체(시 / 군 / 구)  교육용     1,052     26,217,011    \n27  202104  강원도  전체(시 / 군 / 구)  산업용    14,367    562,748,669    \n28  202104  강원도  전체(시 / 군 / 구)  농사용   116,777     57,805,965    \n29  202104  강원도  전체(시 / 군 / 구)  가로등   127,641     16,473,943    \n30  202104  강원도  전체(시 / 군 / 구)  심 야    86,513    132,563,217    \n31  202105  강원도  전체(시 / 군 / 구)  주택용   621,392    176,377,560    \n32  202105  강원도  전체(시 / 군 / 구)  일반용   153,090    374,262,637    \n33  202105  강원도  전체(시 / 군 / 구)  교육용     1,051     20,065,719    \n34  202105  강원도  전체(시 / 군 / 구)  산업용    14,366    557,153,540    \n35  202105  강원도  전체(시 / 군 / 구)  농사용   117,672     54,923,673    \n36  202105  강원도  전체(시 / 군 / 구)  가로등   128,033     15,913,852    \n37  202105  강원도  전체(시 / 군 / 구)  심 야    86,248     93,005,044    \n38  202106  강원도  전체(시 / 군 / 구)  주택용   622,428    179,556,200    \n39  202106  강원도  전체(시 / 군 / 구)  일반용   153,437    385,694,278    \n40  202106  강원도  전체(시 / 군 / 구)  교육용     1,051     20,286,522    \n41  202106  강원도  전체(시 / 군 / 구)  산업용    14,395    552,392,283    \n42  202106  강원도  전체(시 / 군 / 구)  농사용   118,590     56,498,105    \n43  202106  강원도  전체(시 / 군 / 구)  가로등   128,374     15,579,774    \n44  202106  강원도  전체(시 / 군 / 구)  심 야    85,987     64,166,932    \n45      합계   합계             합계   합계  6,735,437  8,464,882,968   \n\n            전기요금(원) 평균판매단가(원/kWh)  \n3   26,955,651,763         118.6   \n4   62,321,881,894         126.3   \n5    3,909,542,188          94.4   \n6   59,613,508,699         111.8   \n7    3,177,299,997          47.0   \n8    1,868,643,036         107.2   \n9   17,972,165,489          72.1   \n10  25,520,093,709         115.7   \n11  59,254,466,666         128.9   \n12   3,518,519,110          97.0   \n13  56,698,454,160         112.0   \n14   3,122,388,495          47.3   \n15   1,872,906,545         112.0   \n16  16,897,927,896          72.2   \n17  19,076,608,433         102.7   \n18  46,345,708,896         121.9   \n19   3,136,140,168          99.8   \n20  50,961,458,389          92.8   \n21   2,810,500,138          48.3   \n22   1,801,120,941         113.0   \n23  11,135,602,773          63.9   \n24  19,762,271,010         105.4   \n25  40,220,003,080         114.5   \n26   2,376,819,253          90.7   \n27  51,689,153,622          91.9   \n28   2,787,702,448          48.2   \n29   1,883,192,767         114.3   \n30   6,826,636,747          51.5   \n31  17,859,096,772         101.3   \n32  38,706,046,797         103.4   \n33   1,875,091,494          93.4   \n34  50,460,410,488          90.6   \n35   2,711,741,091          49.4   \n36   1,842,302,816         115.8   \n37   4,822,561,625          51.9   \n38  18,124,201,742         100.9   \n39  47,061,718,729         122.0   \n40   2,270,337,152         111.9   \n41  63,647,904,902         115.2   \n42   2,752,000,554          48.7   \n43   1,861,554,302         119.5   \n44   3,359,196,813          52.4   \n45  860,870,533,589         101.7  ",
      "text/html": "<div>\n<style scoped>\n    .dataframe tbody tr th:only-of-type {\n        vertical-align: middle;\n    }\n\n    .dataframe tbody tr th {\n        vertical-align: top;\n    }\n\n    .dataframe thead th {\n        text-align: right;\n    }\n</style>\n<table border=\"1\" class=\"dataframe\">\n  <thead>\n    <tr style=\"text-align: right;\">\n      <th></th>\n      <th>년월</th>\n      <th>시구</th>\n      <th>시군구</th>\n      <th>계약구분</th>\n      <th>고객호수(호)</th>\n      <th>사용량(kWh)</th>\n      <th>전기요금(원)</th>\n      <th>평균판매단가(원/kWh)</th>\n    </tr>\n  </thead>\n  <tbody>\n    <tr>\n      <th>3</th>\n      <td>202101</td>\n      <td>강원도</td>\n      <td>전체(시 / 군 / 구)</td>\n      <td>주택용</td>\n      <td>618,327</td>\n      <td>227,246,195</td>\n      <td>26,955,651,763</td>\n      <td>118.6</td>\n    </tr>\n    <tr>\n      <th>4</th>\n      <td>202101</td>\n      <td>강원도</td>\n      <td>전체(시 / 군 / 구)</td>\n      <td>일반용</td>\n      <td>152,413</td>\n      <td>493,397,443</td>\n      <td>62,321,881,894</td>\n      <td>126.3</td>\n    </tr>\n    <tr>\n      <th>5</th>\n      <td>202101</td>\n      <td>강원도</td>\n      <td>전체(시 / 군 / 구)</td>\n      <td>교육용</td>\n      <td>1,061</td>\n      <td>41,413,887</td>\n      <td>3,909,542,188</td>\n      <td>94.4</td>\n    </tr>\n    <tr>\n      <th>6</th>\n      <td>202101</td>\n      <td>강원도</td>\n      <td>전체(시 / 군 / 구)</td>\n      <td>산업용</td>\n      <td>14,345</td>\n      <td>533,361,061</td>\n      <td>59,613,508,699</td>\n      <td>111.8</td>\n    </tr>\n    <tr>\n      <th>7</th>\n      <td>202101</td>\n      <td>강원도</td>\n      <td>전체(시 / 군 / 구)</td>\n      <td>농사용</td>\n      <td>115,482</td>\n      <td>67,586,268</td>\n      <td>3,177,299,997</td>\n      <td>47.0</td>\n    </tr>\n    <tr>\n      <th>8</th>\n      <td>202101</td>\n      <td>강원도</td>\n      <td>전체(시 / 군 / 구)</td>\n      <td>가로등</td>\n      <td>126,130</td>\n      <td>17,427,965</td>\n      <td>1,868,643,036</td>\n      <td>107.2</td>\n    </tr>\n    <tr>\n      <th>9</th>\n      <td>202101</td>\n      <td>강원도</td>\n      <td>전체(시 / 군 / 구)</td>\n      <td>심 야</td>\n      <td>87,060</td>\n      <td>249,378,699</td>\n      <td>17,972,165,489</td>\n      <td>72.1</td>\n    </tr>\n    <tr>\n      <th>10</th>\n      <td>202102</td>\n      <td>강원도</td>\n      <td>전체(시 / 군 / 구)</td>\n      <td>주택용</td>\n      <td>619,003</td>\n      <td>220,535,806</td>\n      <td>25,520,093,709</td>\n      <td>115.7</td>\n    </tr>\n    <tr>\n      <th>11</th>\n      <td>202102</td>\n      <td>강원도</td>\n      <td>전체(시 / 군 / 구)</td>\n      <td>일반용</td>\n      <td>152,327</td>\n      <td>459,624,210</td>\n      <td>59,254,466,666</td>\n      <td>128.9</td>\n    </tr>\n    <tr>\n      <th>12</th>\n      <td>202102</td>\n      <td>강원도</td>\n      <td>전체(시 / 군 / 구)</td>\n      <td>교육용</td>\n      <td>1,061</td>\n      <td>36,258,473</td>\n      <td>3,518,519,110</td>\n      <td>97.0</td>\n    </tr>\n    <tr>\n      <th>13</th>\n      <td>202102</td>\n      <td>강원도</td>\n      <td>전체(시 / 군 / 구)</td>\n      <td>산업용</td>\n      <td>14,350</td>\n      <td>506,406,239</td>\n      <td>56,698,454,160</td>\n      <td>112.0</td>\n    </tr>\n    <tr>\n      <th>14</th>\n      <td>202102</td>\n      <td>강원도</td>\n      <td>전체(시 / 군 / 구)</td>\n      <td>농사용</td>\n      <td>115,521</td>\n      <td>66,043,260</td>\n      <td>3,122,388,495</td>\n      <td>47.3</td>\n    </tr>\n    <tr>\n      <th>15</th>\n      <td>202102</td>\n      <td>강원도</td>\n      <td>전체(시 / 군 / 구)</td>\n      <td>가로등</td>\n      <td>126,687</td>\n      <td>16,717,110</td>\n      <td>1,872,906,545</td>\n      <td>112.0</td>\n    </tr>\n    <tr>\n      <th>16</th>\n      <td>202102</td>\n      <td>강원도</td>\n      <td>전체(시 / 군 / 구)</td>\n      <td>심 야</td>\n      <td>86,854</td>\n      <td>234,020,292</td>\n      <td>16,897,927,896</td>\n      <td>72.2</td>\n    </tr>\n    <tr>\n      <th>17</th>\n      <td>202103</td>\n      <td>강원도</td>\n      <td>전체(시 / 군 / 구)</td>\n      <td>주택용</td>\n      <td>619,437</td>\n      <td>185,777,135</td>\n      <td>19,076,608,433</td>\n      <td>102.7</td>\n    </tr>\n    <tr>\n      <th>18</th>\n      <td>202103</td>\n      <td>강원도</td>\n      <td>전체(시 / 군 / 구)</td>\n      <td>일반용</td>\n      <td>152,487</td>\n      <td>380,163,545</td>\n      <td>46,345,708,896</td>\n      <td>121.9</td>\n    </tr>\n    <tr>\n      <th>19</th>\n      <td>202103</td>\n      <td>강원도</td>\n      <td>전체(시 / 군 / 구)</td>\n      <td>교육용</td>\n      <td>1,058</td>\n      <td>31,431,946</td>\n      <td>3,136,140,168</td>\n      <td>99.8</td>\n    </tr>\n    <tr>\n      <th>20</th>\n      <td>202103</td>\n      <td>강원도</td>\n      <td>전체(시 / 군 / 구)</td>\n      <td>산업용</td>\n      <td>14,350</td>\n      <td>549,422,731</td>\n      <td>50,961,458,389</td>\n      <td>92.8</td>\n    </tr>\n    <tr>\n      <th>21</th>\n      <td>202103</td>\n      <td>강원도</td>\n      <td>전체(시 / 군 / 구)</td>\n      <td>농사용</td>\n      <td>137,780</td>\n      <td>58,168,831</td>\n      <td>2,810,500,138</td>\n      <td>48.3</td>\n    </tr>\n    <tr>\n      <th>22</th>\n      <td>202103</td>\n      <td>강원도</td>\n      <td>전체(시 / 군 / 구)</td>\n      <td>가로등</td>\n      <td>127,043</td>\n      <td>15,946,172</td>\n      <td>1,801,120,941</td>\n      <td>113.0</td>\n    </tr>\n    <tr>\n      <th>23</th>\n      <td>202103</td>\n      <td>강원도</td>\n      <td>전체(시 / 군 / 구)</td>\n      <td>심 야</td>\n      <td>86,701</td>\n      <td>174,163,835</td>\n      <td>11,135,602,773</td>\n      <td>63.9</td>\n    </tr>\n    <tr>\n      <th>24</th>\n      <td>202104</td>\n      <td>강원도</td>\n      <td>전체(시 / 군 / 구)</td>\n      <td>주택용</td>\n      <td>620,632</td>\n      <td>187,549,848</td>\n      <td>19,762,271,010</td>\n      <td>105.4</td>\n    </tr>\n    <tr>\n      <th>25</th>\n      <td>202104</td>\n      <td>강원도</td>\n      <td>전체(시 / 군 / 구)</td>\n      <td>일반용</td>\n      <td>152,864</td>\n      <td>351,157,093</td>\n      <td>40,220,003,080</td>\n      <td>114.5</td>\n    </tr>\n    <tr>\n      <th>26</th>\n      <td>202104</td>\n      <td>강원도</td>\n      <td>전체(시 / 군 / 구)</td>\n      <td>교육용</td>\n      <td>1,052</td>\n      <td>26,217,011</td>\n      <td>2,376,819,253</td>\n      <td>90.7</td>\n    </tr>\n    <tr>\n      <th>27</th>\n      <td>202104</td>\n      <td>강원도</td>\n      <td>전체(시 / 군 / 구)</td>\n      <td>산업용</td>\n      <td>14,367</td>\n      <td>562,748,669</td>\n      <td>51,689,153,622</td>\n      <td>91.9</td>\n    </tr>\n    <tr>\n      <th>28</th>\n      <td>202104</td>\n      <td>강원도</td>\n      <td>전체(시 / 군 / 구)</td>\n      <td>농사용</td>\n      <td>116,777</td>\n      <td>57,805,965</td>\n      <td>2,787,702,448</td>\n      <td>48.2</td>\n    </tr>\n    <tr>\n      <th>29</th>\n      <td>202104</td>\n      <td>강원도</td>\n      <td>전체(시 / 군 / 구)</td>\n      <td>가로등</td>\n      <td>127,641</td>\n      <td>16,473,943</td>\n      <td>1,883,192,767</td>\n      <td>114.3</td>\n    </tr>\n    <tr>\n      <th>30</th>\n      <td>202104</td>\n      <td>강원도</td>\n      <td>전체(시 / 군 / 구)</td>\n      <td>심 야</td>\n      <td>86,513</td>\n      <td>132,563,217</td>\n      <td>6,826,636,747</td>\n      <td>51.5</td>\n    </tr>\n    <tr>\n      <th>31</th>\n      <td>202105</td>\n      <td>강원도</td>\n      <td>전체(시 / 군 / 구)</td>\n      <td>주택용</td>\n      <td>621,392</td>\n      <td>176,377,560</td>\n      <td>17,859,096,772</td>\n      <td>101.3</td>\n    </tr>\n    <tr>\n      <th>32</th>\n      <td>202105</td>\n      <td>강원도</td>\n      <td>전체(시 / 군 / 구)</td>\n      <td>일반용</td>\n      <td>153,090</td>\n      <td>374,262,637</td>\n      <td>38,706,046,797</td>\n      <td>103.4</td>\n    </tr>\n    <tr>\n      <th>33</th>\n      <td>202105</td>\n      <td>강원도</td>\n      <td>전체(시 / 군 / 구)</td>\n      <td>교육용</td>\n      <td>1,051</td>\n      <td>20,065,719</td>\n      <td>1,875,091,494</td>\n      <td>93.4</td>\n    </tr>\n    <tr>\n      <th>34</th>\n      <td>202105</td>\n      <td>강원도</td>\n      <td>전체(시 / 군 / 구)</td>\n      <td>산업용</td>\n      <td>14,366</td>\n      <td>557,153,540</td>\n      <td>50,460,410,488</td>\n      <td>90.6</td>\n    </tr>\n    <tr>\n      <th>35</th>\n      <td>202105</td>\n      <td>강원도</td>\n      <td>전체(시 / 군 / 구)</td>\n      <td>농사용</td>\n      <td>117,672</td>\n      <td>54,923,673</td>\n      <td>2,711,741,091</td>\n      <td>49.4</td>\n    </tr>\n    <tr>\n      <th>36</th>\n      <td>202105</td>\n      <td>강원도</td>\n      <td>전체(시 / 군 / 구)</td>\n      <td>가로등</td>\n      <td>128,033</td>\n      <td>15,913,852</td>\n      <td>1,842,302,816</td>\n      <td>115.8</td>\n    </tr>\n    <tr>\n      <th>37</th>\n      <td>202105</td>\n      <td>강원도</td>\n      <td>전체(시 / 군 / 구)</td>\n      <td>심 야</td>\n      <td>86,248</td>\n      <td>93,005,044</td>\n      <td>4,822,561,625</td>\n      <td>51.9</td>\n    </tr>\n    <tr>\n      <th>38</th>\n      <td>202106</td>\n      <td>강원도</td>\n      <td>전체(시 / 군 / 구)</td>\n      <td>주택용</td>\n      <td>622,428</td>\n      <td>179,556,200</td>\n      <td>18,124,201,742</td>\n      <td>100.9</td>\n    </tr>\n    <tr>\n      <th>39</th>\n      <td>202106</td>\n      <td>강원도</td>\n      <td>전체(시 / 군 / 구)</td>\n      <td>일반용</td>\n      <td>153,437</td>\n      <td>385,694,278</td>\n      <td>47,061,718,729</td>\n      <td>122.0</td>\n    </tr>\n    <tr>\n      <th>40</th>\n      <td>202106</td>\n      <td>강원도</td>\n      <td>전체(시 / 군 / 구)</td>\n      <td>교육용</td>\n      <td>1,051</td>\n      <td>20,286,522</td>\n      <td>2,270,337,152</td>\n      <td>111.9</td>\n    </tr>\n    <tr>\n      <th>41</th>\n      <td>202106</td>\n      <td>강원도</td>\n      <td>전체(시 / 군 / 구)</td>\n      <td>산업용</td>\n      <td>14,395</td>\n      <td>552,392,283</td>\n      <td>63,647,904,902</td>\n      <td>115.2</td>\n    </tr>\n    <tr>\n      <th>42</th>\n      <td>202106</td>\n      <td>강원도</td>\n      <td>전체(시 / 군 / 구)</td>\n      <td>농사용</td>\n      <td>118,590</td>\n      <td>56,498,105</td>\n      <td>2,752,000,554</td>\n      <td>48.7</td>\n    </tr>\n    <tr>\n      <th>43</th>\n      <td>202106</td>\n      <td>강원도</td>\n      <td>전체(시 / 군 / 구)</td>\n      <td>가로등</td>\n      <td>128,374</td>\n      <td>15,579,774</td>\n      <td>1,861,554,302</td>\n      <td>119.5</td>\n    </tr>\n    <tr>\n      <th>44</th>\n      <td>202106</td>\n      <td>강원도</td>\n      <td>전체(시 / 군 / 구)</td>\n      <td>심 야</td>\n      <td>85,987</td>\n      <td>64,166,932</td>\n      <td>3,359,196,813</td>\n      <td>52.4</td>\n    </tr>\n    <tr>\n      <th>45</th>\n      <td>합계</td>\n      <td>합계</td>\n      <td>합계</td>\n      <td>합계</td>\n      <td>6,735,437</td>\n      <td>8,464,882,968</td>\n      <td>860,870,533,589</td>\n      <td>101.7</td>\n    </tr>\n  </tbody>\n</table>\n</div>"
     },
     "execution_count": 30,
     "metadata": {},
     "output_type": "execute_result"
    }
   ],
   "source": [
    "df_2 = df.loc[:45]\n",
    "df_2\n"
   ],
   "metadata": {
    "collapsed": false,
    "pycharm": {
     "name": "#%%\n"
    }
   }
  },
  {
   "cell_type": "code",
   "execution_count": 31,
   "outputs": [
    {
     "name": "stderr",
     "output_type": "stream",
     "text": [
      "C:\\Users\\user\\AppData\\Local\\Temp\\ipykernel_19396\\3551721261.py:3: SettingWithCopyWarning: \n",
      "A value is trying to be set on a copy of a slice from a DataFrame\n",
      "\n",
      "See the caveats in the documentation: https://pandas.pydata.org/pandas-docs/stable/user_guide/indexing.html#returning-a-view-versus-a-copy\n",
      "  GyeonGi.drop(['시군구' , '전기요금(원)' , '평균판매단가(원/kWh)'] , axis = 1 , inplace = True)\n"
     ]
    },
    {
     "data": {
      "text/plain": "        년월   시구 계약구분   고객호수(호)      사용량(kWh)\n4   202101  강원도  일반용  152,413   493,397,443 \n11  202102  강원도  일반용  152,327   459,624,210 \n18  202103  강원도  일반용  152,487   380,163,545 \n25  202104  강원도  일반용  152,864   351,157,093 \n32  202105  강원도  일반용  153,090   374,262,637 \n39  202106  강원도  일반용  153,437   385,694,278 ",
      "text/html": "<div>\n<style scoped>\n    .dataframe tbody tr th:only-of-type {\n        vertical-align: middle;\n    }\n\n    .dataframe tbody tr th {\n        vertical-align: top;\n    }\n\n    .dataframe thead th {\n        text-align: right;\n    }\n</style>\n<table border=\"1\" class=\"dataframe\">\n  <thead>\n    <tr style=\"text-align: right;\">\n      <th></th>\n      <th>년월</th>\n      <th>시구</th>\n      <th>계약구분</th>\n      <th>고객호수(호)</th>\n      <th>사용량(kWh)</th>\n    </tr>\n  </thead>\n  <tbody>\n    <tr>\n      <th>4</th>\n      <td>202101</td>\n      <td>강원도</td>\n      <td>일반용</td>\n      <td>152,413</td>\n      <td>493,397,443</td>\n    </tr>\n    <tr>\n      <th>11</th>\n      <td>202102</td>\n      <td>강원도</td>\n      <td>일반용</td>\n      <td>152,327</td>\n      <td>459,624,210</td>\n    </tr>\n    <tr>\n      <th>18</th>\n      <td>202103</td>\n      <td>강원도</td>\n      <td>일반용</td>\n      <td>152,487</td>\n      <td>380,163,545</td>\n    </tr>\n    <tr>\n      <th>25</th>\n      <td>202104</td>\n      <td>강원도</td>\n      <td>일반용</td>\n      <td>152,864</td>\n      <td>351,157,093</td>\n    </tr>\n    <tr>\n      <th>32</th>\n      <td>202105</td>\n      <td>강원도</td>\n      <td>일반용</td>\n      <td>153,090</td>\n      <td>374,262,637</td>\n    </tr>\n    <tr>\n      <th>39</th>\n      <td>202106</td>\n      <td>강원도</td>\n      <td>일반용</td>\n      <td>153,437</td>\n      <td>385,694,278</td>\n    </tr>\n  </tbody>\n</table>\n</div>"
     },
     "execution_count": 31,
     "metadata": {},
     "output_type": "execute_result"
    }
   ],
   "source": [
    "GyeonGi  = df_2.loc[(df_2['계약구분'] == '일반용')]\n",
    "#SEOUL = df_3.loc[(df_3['계약구분'] =='일반용')]\n",
    "GyeonGi.drop(['시군구' , '전기요금(원)' , '평균판매단가(원/kWh)'] , axis = 1 , inplace = True)\n",
    "GyeonGi"
   ],
   "metadata": {
    "collapsed": false,
    "pycharm": {
     "name": "#%%\n"
    }
   }
  },
  {
   "cell_type": "code",
   "execution_count": 32,
   "outputs": [],
   "source": [
    "#SEOUL1.to_csv(\"서울특별시_계약종별_전국_전력사용량_2022.csv\" , mode = 'w' , encoding= 'cp949')"
   ],
   "metadata": {
    "collapsed": false,
    "pycharm": {
     "name": "#%%\n"
    }
   }
  },
  {
   "cell_type": "code",
   "execution_count": 33,
   "outputs": [],
   "source": [
    "#df_2.to_csv(\"서울특별시_계약종별_전국_전력사용량.csv\" , mode = 'w' , encoding= 'cp949')"
   ],
   "metadata": {
    "collapsed": false,
    "pycharm": {
     "name": "#%%\n"
    }
   }
  },
  {
   "cell_type": "code",
   "execution_count": 34,
   "outputs": [
    {
     "data": {
      "text/plain": "         년월   시구  시군구 계약구분  고객호수(호)     사용량(kWh)\n53   202101  강원도  강릉시  일반용  21,181   59,914,337 \n197  202102  강원도  강릉시  일반용  21,164   56,784,869 \n341  202103  강원도  강릉시  일반용  21,236   48,964,957 \n485  202104  강원도  강릉시  일반용  21,298   46,160,441 \n629  202105  강원도  강릉시  일반용  21,364   42,618,434 \n..      ...  ...  ...  ...      ...          ...\n333  202102  강원도  횡성군  일반용   5,290   12,727,972 \n477  202103  강원도  횡성군  일반용   5,300    9,869,006 \n621  202104  강원도  횡성군  일반용   5,303    8,953,879 \n765  202105  강원도  횡성군  일반용   5,318    8,569,401 \n909  202106  강원도  횡성군  일반용   5,324    8,849,533 \n\n[108 rows x 6 columns]",
      "text/html": "<div>\n<style scoped>\n    .dataframe tbody tr th:only-of-type {\n        vertical-align: middle;\n    }\n\n    .dataframe tbody tr th {\n        vertical-align: top;\n    }\n\n    .dataframe thead th {\n        text-align: right;\n    }\n</style>\n<table border=\"1\" class=\"dataframe\">\n  <thead>\n    <tr style=\"text-align: right;\">\n      <th></th>\n      <th>년월</th>\n      <th>시구</th>\n      <th>시군구</th>\n      <th>계약구분</th>\n      <th>고객호수(호)</th>\n      <th>사용량(kWh)</th>\n    </tr>\n  </thead>\n  <tbody>\n    <tr>\n      <th>53</th>\n      <td>202101</td>\n      <td>강원도</td>\n      <td>강릉시</td>\n      <td>일반용</td>\n      <td>21,181</td>\n      <td>59,914,337</td>\n    </tr>\n    <tr>\n      <th>197</th>\n      <td>202102</td>\n      <td>강원도</td>\n      <td>강릉시</td>\n      <td>일반용</td>\n      <td>21,164</td>\n      <td>56,784,869</td>\n    </tr>\n    <tr>\n      <th>341</th>\n      <td>202103</td>\n      <td>강원도</td>\n      <td>강릉시</td>\n      <td>일반용</td>\n      <td>21,236</td>\n      <td>48,964,957</td>\n    </tr>\n    <tr>\n      <th>485</th>\n      <td>202104</td>\n      <td>강원도</td>\n      <td>강릉시</td>\n      <td>일반용</td>\n      <td>21,298</td>\n      <td>46,160,441</td>\n    </tr>\n    <tr>\n      <th>629</th>\n      <td>202105</td>\n      <td>강원도</td>\n      <td>강릉시</td>\n      <td>일반용</td>\n      <td>21,364</td>\n      <td>42,618,434</td>\n    </tr>\n    <tr>\n      <th>...</th>\n      <td>...</td>\n      <td>...</td>\n      <td>...</td>\n      <td>...</td>\n      <td>...</td>\n      <td>...</td>\n    </tr>\n    <tr>\n      <th>333</th>\n      <td>202102</td>\n      <td>강원도</td>\n      <td>횡성군</td>\n      <td>일반용</td>\n      <td>5,290</td>\n      <td>12,727,972</td>\n    </tr>\n    <tr>\n      <th>477</th>\n      <td>202103</td>\n      <td>강원도</td>\n      <td>횡성군</td>\n      <td>일반용</td>\n      <td>5,300</td>\n      <td>9,869,006</td>\n    </tr>\n    <tr>\n      <th>621</th>\n      <td>202104</td>\n      <td>강원도</td>\n      <td>횡성군</td>\n      <td>일반용</td>\n      <td>5,303</td>\n      <td>8,953,879</td>\n    </tr>\n    <tr>\n      <th>765</th>\n      <td>202105</td>\n      <td>강원도</td>\n      <td>횡성군</td>\n      <td>일반용</td>\n      <td>5,318</td>\n      <td>8,569,401</td>\n    </tr>\n    <tr>\n      <th>909</th>\n      <td>202106</td>\n      <td>강원도</td>\n      <td>횡성군</td>\n      <td>일반용</td>\n      <td>5,324</td>\n      <td>8,849,533</td>\n    </tr>\n  </tbody>\n</table>\n<p>108 rows × 6 columns</p>\n</div>"
     },
     "execution_count": 34,
     "metadata": {},
     "output_type": "execute_result"
    }
   ],
   "source": [
    "df_3 = df.loc[48:]\n",
    "df_3 = df_3.loc[(df_3['계약구분'] == '일반용')]\n",
    "df_3 = df_3.sort_values(by=['시군구' , '년월'])\n",
    "df_3.drop(['전기요금(원)',   '평균판매단가(원/kWh)'] , axis = 1 , inplace = True)\n",
    "df_3"
   ],
   "metadata": {
    "collapsed": false,
    "pycharm": {
     "name": "#%%\n"
    }
   }
  },
  {
   "cell_type": "code",
   "execution_count": 35,
   "outputs": [
    {
     "data": {
      "text/plain": "'강원도'"
     },
     "execution_count": 35,
     "metadata": {},
     "output_type": "execute_result"
    }
   ],
   "source": [
    "a = df_3.loc[: , \"시구\"]\n",
    "b = a[:1].tolist()\n",
    "for i in b:\n",
    "    City = i\n",
    "City"
   ],
   "metadata": {
    "collapsed": false,
    "pycharm": {
     "name": "#%%\n"
    }
   }
  },
  {
   "cell_type": "code",
   "execution_count": 36,
   "outputs": [
    {
     "data": {
      "text/plain": "['강릉시',\n '고성군',\n '동해시',\n '삼척시',\n '속초시',\n '양구군',\n '양양군',\n '영월군',\n '원주시',\n '인제군',\n '정선군',\n '철원군',\n '춘천시',\n '태백시',\n '평창군',\n '홍천군',\n '화천군',\n '횡성군']"
     },
     "execution_count": 36,
     "metadata": {},
     "output_type": "execute_result"
    }
   ],
   "source": [
    "\n",
    "SIGUNGU = list(set(df_3.loc[: , '시군구'].tolist()))\n",
    "SIGUNGU.sort()\n",
    "SIGUNGU"
   ],
   "metadata": {
    "collapsed": false,
    "pycharm": {
     "name": "#%%\n"
    }
   }
  },
  {
   "cell_type": "code",
   "execution_count": 37,
   "outputs": [
    {
     "data": {
      "text/plain": "         년월   시구  시군구 계약구분   고객호수(호)      사용량(kWh)\n55   202101  강원도  강릉시   합계  140,224   179,196,237 \n199  202102  강원도  강릉시   합계  140,294   178,896,265 \n343  202103  강원도  강릉시   합계  140,751   162,820,232 \n487  202104  강원도  강릉시   합계  140,706   152,060,540 \n631  202105  강원도  강릉시   합계  140,866   152,413,341 \n..      ...  ...  ...  ...       ...           ...\n335  202102  강원도  횡성군   합계   59,383    66,768,374 \n479  202103  강원도  횡성군   합계   61,459    56,862,969 \n623  202104  강원도  횡성군   합계   59,780    52,645,774 \n767  202105  강원도  횡성군   합계   60,033    47,949,537 \n911  202106  강원도  횡성군   합계   60,232    47,599,857 \n\n[108 rows x 6 columns]",
      "text/html": "<div>\n<style scoped>\n    .dataframe tbody tr th:only-of-type {\n        vertical-align: middle;\n    }\n\n    .dataframe tbody tr th {\n        vertical-align: top;\n    }\n\n    .dataframe thead th {\n        text-align: right;\n    }\n</style>\n<table border=\"1\" class=\"dataframe\">\n  <thead>\n    <tr style=\"text-align: right;\">\n      <th></th>\n      <th>년월</th>\n      <th>시구</th>\n      <th>시군구</th>\n      <th>계약구분</th>\n      <th>고객호수(호)</th>\n      <th>사용량(kWh)</th>\n    </tr>\n  </thead>\n  <tbody>\n    <tr>\n      <th>55</th>\n      <td>202101</td>\n      <td>강원도</td>\n      <td>강릉시</td>\n      <td>합계</td>\n      <td>140,224</td>\n      <td>179,196,237</td>\n    </tr>\n    <tr>\n      <th>199</th>\n      <td>202102</td>\n      <td>강원도</td>\n      <td>강릉시</td>\n      <td>합계</td>\n      <td>140,294</td>\n      <td>178,896,265</td>\n    </tr>\n    <tr>\n      <th>343</th>\n      <td>202103</td>\n      <td>강원도</td>\n      <td>강릉시</td>\n      <td>합계</td>\n      <td>140,751</td>\n      <td>162,820,232</td>\n    </tr>\n    <tr>\n      <th>487</th>\n      <td>202104</td>\n      <td>강원도</td>\n      <td>강릉시</td>\n      <td>합계</td>\n      <td>140,706</td>\n      <td>152,060,540</td>\n    </tr>\n    <tr>\n      <th>631</th>\n      <td>202105</td>\n      <td>강원도</td>\n      <td>강릉시</td>\n      <td>합계</td>\n      <td>140,866</td>\n      <td>152,413,341</td>\n    </tr>\n    <tr>\n      <th>...</th>\n      <td>...</td>\n      <td>...</td>\n      <td>...</td>\n      <td>...</td>\n      <td>...</td>\n      <td>...</td>\n    </tr>\n    <tr>\n      <th>335</th>\n      <td>202102</td>\n      <td>강원도</td>\n      <td>횡성군</td>\n      <td>합계</td>\n      <td>59,383</td>\n      <td>66,768,374</td>\n    </tr>\n    <tr>\n      <th>479</th>\n      <td>202103</td>\n      <td>강원도</td>\n      <td>횡성군</td>\n      <td>합계</td>\n      <td>61,459</td>\n      <td>56,862,969</td>\n    </tr>\n    <tr>\n      <th>623</th>\n      <td>202104</td>\n      <td>강원도</td>\n      <td>횡성군</td>\n      <td>합계</td>\n      <td>59,780</td>\n      <td>52,645,774</td>\n    </tr>\n    <tr>\n      <th>767</th>\n      <td>202105</td>\n      <td>강원도</td>\n      <td>횡성군</td>\n      <td>합계</td>\n      <td>60,033</td>\n      <td>47,949,537</td>\n    </tr>\n    <tr>\n      <th>911</th>\n      <td>202106</td>\n      <td>강원도</td>\n      <td>횡성군</td>\n      <td>합계</td>\n      <td>60,232</td>\n      <td>47,599,857</td>\n    </tr>\n  </tbody>\n</table>\n<p>108 rows × 6 columns</p>\n</div>"
     },
     "execution_count": 37,
     "metadata": {},
     "output_type": "execute_result"
    }
   ],
   "source": [
    "df_4 = df.loc[48:]\n",
    "df_4 = df_4.loc[(df_4['계약구분'] == '합계')]\n",
    "df_4 = df_4.sort_values(by=['시군구' , '년월'])\n",
    "df_4.drop(['전기요금(원)',   '평균판매단가(원/kWh)'] , axis = 1 , inplace = True)\n",
    "df_4"
   ],
   "metadata": {
    "collapsed": false,
    "pycharm": {
     "name": "#%%\n"
    }
   }
  },
  {
   "cell_type": "code",
   "execution_count": 38,
   "outputs": [
    {
     "name": "stdout",
     "output_type": "stream",
     "text": [
      "[179196237, 178896265, 162820232, 152060540, 152413341, 149847284]\n",
      "[35243392, 34220151, 29097158, 27047768, 24004383, 23654682]\n",
      "[175888842, 168971568, 179273003, 185656113, 177390295, 174332487]\n",
      "[128676813, 121622277, 115609263, 126805443, 115878633, 113401523]\n",
      "[52958894, 50357221, 43830457, 41529044, 82020725, 75877365]\n",
      "[24194859, 23180333, 18538405, 16890382, 14666237, 14030355]\n",
      "[33531558, 31409869, 27153702, 25209569, 22944352, 22724320]\n",
      "[90338674, 83074863, 103618832, 98952303, 97335726, 93177357]\n",
      "[265486520, 248406742, 213002295, 197397927, 182160598, 189769897]\n",
      "[39740737, 37328191, 29999939, 27826159, 24487235, 23832391]\n",
      "[60787663, 54217255, 49361840, 46574188, 43552042, 42681903]\n",
      "[60422896, 55534428, 44928108, 40388141, 36347783, 34616742]\n",
      "[189227326, 179672081, 151826123, 141897757, 131819891, 133956205]\n",
      "[32850133, 30449114, 26671151, 25931322, 23457245, 22661318]\n",
      "[75727309, 68889278, 55620610, 49385715, 44401051, 41876092]\n",
      "[82832180, 77547506, 63592813, 57439477, 52750291, 52202729]\n",
      "[30812858, 29059874, 23267295, 20878124, 18122660, 17931587]\n",
      "[71894627, 66768374, 56862969, 52645774, 47949537, 47599857]\n",
      "강원도 지역별 합계 :  [975233899, 173267534, 1061512308, 721993952, 346573706, 111500571, 162973370, 566497755, 1296223979, 183214652, 297174891, 272238098, 928399383, 162020283, 335900055, 386364996, 140072398, 343721138]\n",
      "강원도 고객호수 평균:  [23442, 5194, 8391, 9700, 7004, 4224, 5473, 7190, 28399, 6318, 6958, 7544, 25213, 4701, 9437, 13240, 4654, 10005]\n"
     ]
    }
   ],
   "source": [
    "sum2 , sum3 =[] , []\n",
    "for k in SIGUNGU:\n",
    "    GyeonGiHap = pd.DataFrame([] , columns = a)\n",
    "    HOSU = pd.DataFrame([], columns = a)\n",
    "    GyeonGiHap['사용량']= df_4['사용량(kWh)'].loc[(df_4['시군구'] == '{}'.format(k))]\n",
    "    HOSU['고객호수']= df_4['고객호수(호)'].loc[(df_4['시군구'] == '{}'.format(k))]\n",
    "    #경기합 데이터프레임의 사용량 열에 기군구가 가평군인 사용량 데이터만 뽑아내기\n",
    "    # GyeonGiHap = GyeonGiHap['사용량']\n",
    "\n",
    "    b = GyeonGiHap['사용량'].tolist()\n",
    "    c = HOSU['고객호수'].tolist()\n",
    "\n",
    "\n",
    "    #각지역별 사용량 리스트화\n",
    "    int_list  , int_list2=[] , []\n",
    "    for i in b:\n",
    "        i = re.sub(\",\" , \"\" , i)\n",
    "        #콤마 없애기\n",
    "        int_list.append(int(i))\n",
    "        #int_list에 각지역별 사용량 int로 저장\n",
    "    print(int_list)\n",
    "    sum=0\n",
    "    for i in c:\n",
    "        i = re.sub(\",\" , \"\" , i)\n",
    "        int_list2.append(int(i))\n",
    "\n",
    "    for j in int_list:\n",
    "\n",
    "        sum+= j\n",
    "    sum2.append(sum)\n",
    "    sum = 0\n",
    "    for j in int_list2: #고객호수 추출하여 더하기\n",
    "\n",
    "        sum+= j\n",
    "    sum3.append(sum//36) #6개월 치로 나눠야하나?!\n",
    "\n",
    "\n",
    "\n",
    "\n",
    "print(\"{} 지역별 합계 : \".format(City) , sum2)\n",
    "print(\"{} 고객호수 평균: \".format(City) , sum3)"
   ],
   "metadata": {
    "collapsed": false,
    "pycharm": {
     "name": "#%%\n"
    }
   }
  },
  {
   "cell_type": "markdown",
   "source": [
    "### 2. 날짜 체크!!!!!!!!!!!!!!!!!!!!!!!!!!!!!!!!!!!!!!!!!!!!!!"
   ],
   "metadata": {
    "collapsed": false,
    "pycharm": {
     "name": "#%% md\n"
    }
   }
  },
  {
   "cell_type": "code",
   "execution_count": 39,
   "outputs": [
    {
     "name": "stderr",
     "output_type": "stream",
     "text": [
      "C:\\Users\\user\\AppData\\Local\\Temp\\ipykernel_19396\\1481603074.py:4: FutureWarning: The frame.append method is deprecated and will be removed from pandas in a future version. Use pandas.concat instead.\n",
      "  Hap = Hap.append({'년월' :'202101-202106'  , '시구' : '{}'.format(City) , '시군구' : '{}'.format(SIGUNGU[i]) , '계약구분' : '합계' , '고객호수(호)' : sum3[i] ,  '사용량(kWh)' : sum2[i]} , ignore_index=True) #년월 파일마다 수정하기\n",
      "C:\\Users\\user\\AppData\\Local\\Temp\\ipykernel_19396\\1481603074.py:4: FutureWarning: The frame.append method is deprecated and will be removed from pandas in a future version. Use pandas.concat instead.\n",
      "  Hap = Hap.append({'년월' :'202101-202106'  , '시구' : '{}'.format(City) , '시군구' : '{}'.format(SIGUNGU[i]) , '계약구분' : '합계' , '고객호수(호)' : sum3[i] ,  '사용량(kWh)' : sum2[i]} , ignore_index=True) #년월 파일마다 수정하기\n",
      "C:\\Users\\user\\AppData\\Local\\Temp\\ipykernel_19396\\1481603074.py:4: FutureWarning: The frame.append method is deprecated and will be removed from pandas in a future version. Use pandas.concat instead.\n",
      "  Hap = Hap.append({'년월' :'202101-202106'  , '시구' : '{}'.format(City) , '시군구' : '{}'.format(SIGUNGU[i]) , '계약구분' : '합계' , '고객호수(호)' : sum3[i] ,  '사용량(kWh)' : sum2[i]} , ignore_index=True) #년월 파일마다 수정하기\n",
      "C:\\Users\\user\\AppData\\Local\\Temp\\ipykernel_19396\\1481603074.py:4: FutureWarning: The frame.append method is deprecated and will be removed from pandas in a future version. Use pandas.concat instead.\n",
      "  Hap = Hap.append({'년월' :'202101-202106'  , '시구' : '{}'.format(City) , '시군구' : '{}'.format(SIGUNGU[i]) , '계약구분' : '합계' , '고객호수(호)' : sum3[i] ,  '사용량(kWh)' : sum2[i]} , ignore_index=True) #년월 파일마다 수정하기\n",
      "C:\\Users\\user\\AppData\\Local\\Temp\\ipykernel_19396\\1481603074.py:4: FutureWarning: The frame.append method is deprecated and will be removed from pandas in a future version. Use pandas.concat instead.\n",
      "  Hap = Hap.append({'년월' :'202101-202106'  , '시구' : '{}'.format(City) , '시군구' : '{}'.format(SIGUNGU[i]) , '계약구분' : '합계' , '고객호수(호)' : sum3[i] ,  '사용량(kWh)' : sum2[i]} , ignore_index=True) #년월 파일마다 수정하기\n",
      "C:\\Users\\user\\AppData\\Local\\Temp\\ipykernel_19396\\1481603074.py:4: FutureWarning: The frame.append method is deprecated and will be removed from pandas in a future version. Use pandas.concat instead.\n",
      "  Hap = Hap.append({'년월' :'202101-202106'  , '시구' : '{}'.format(City) , '시군구' : '{}'.format(SIGUNGU[i]) , '계약구분' : '합계' , '고객호수(호)' : sum3[i] ,  '사용량(kWh)' : sum2[i]} , ignore_index=True) #년월 파일마다 수정하기\n",
      "C:\\Users\\user\\AppData\\Local\\Temp\\ipykernel_19396\\1481603074.py:4: FutureWarning: The frame.append method is deprecated and will be removed from pandas in a future version. Use pandas.concat instead.\n",
      "  Hap = Hap.append({'년월' :'202101-202106'  , '시구' : '{}'.format(City) , '시군구' : '{}'.format(SIGUNGU[i]) , '계약구분' : '합계' , '고객호수(호)' : sum3[i] ,  '사용량(kWh)' : sum2[i]} , ignore_index=True) #년월 파일마다 수정하기\n",
      "C:\\Users\\user\\AppData\\Local\\Temp\\ipykernel_19396\\1481603074.py:4: FutureWarning: The frame.append method is deprecated and will be removed from pandas in a future version. Use pandas.concat instead.\n",
      "  Hap = Hap.append({'년월' :'202101-202106'  , '시구' : '{}'.format(City) , '시군구' : '{}'.format(SIGUNGU[i]) , '계약구분' : '합계' , '고객호수(호)' : sum3[i] ,  '사용량(kWh)' : sum2[i]} , ignore_index=True) #년월 파일마다 수정하기\n",
      "C:\\Users\\user\\AppData\\Local\\Temp\\ipykernel_19396\\1481603074.py:4: FutureWarning: The frame.append method is deprecated and will be removed from pandas in a future version. Use pandas.concat instead.\n",
      "  Hap = Hap.append({'년월' :'202101-202106'  , '시구' : '{}'.format(City) , '시군구' : '{}'.format(SIGUNGU[i]) , '계약구분' : '합계' , '고객호수(호)' : sum3[i] ,  '사용량(kWh)' : sum2[i]} , ignore_index=True) #년월 파일마다 수정하기\n",
      "C:\\Users\\user\\AppData\\Local\\Temp\\ipykernel_19396\\1481603074.py:4: FutureWarning: The frame.append method is deprecated and will be removed from pandas in a future version. Use pandas.concat instead.\n",
      "  Hap = Hap.append({'년월' :'202101-202106'  , '시구' : '{}'.format(City) , '시군구' : '{}'.format(SIGUNGU[i]) , '계약구분' : '합계' , '고객호수(호)' : sum3[i] ,  '사용량(kWh)' : sum2[i]} , ignore_index=True) #년월 파일마다 수정하기\n",
      "C:\\Users\\user\\AppData\\Local\\Temp\\ipykernel_19396\\1481603074.py:4: FutureWarning: The frame.append method is deprecated and will be removed from pandas in a future version. Use pandas.concat instead.\n",
      "  Hap = Hap.append({'년월' :'202101-202106'  , '시구' : '{}'.format(City) , '시군구' : '{}'.format(SIGUNGU[i]) , '계약구분' : '합계' , '고객호수(호)' : sum3[i] ,  '사용량(kWh)' : sum2[i]} , ignore_index=True) #년월 파일마다 수정하기\n",
      "C:\\Users\\user\\AppData\\Local\\Temp\\ipykernel_19396\\1481603074.py:4: FutureWarning: The frame.append method is deprecated and will be removed from pandas in a future version. Use pandas.concat instead.\n",
      "  Hap = Hap.append({'년월' :'202101-202106'  , '시구' : '{}'.format(City) , '시군구' : '{}'.format(SIGUNGU[i]) , '계약구분' : '합계' , '고객호수(호)' : sum3[i] ,  '사용량(kWh)' : sum2[i]} , ignore_index=True) #년월 파일마다 수정하기\n",
      "C:\\Users\\user\\AppData\\Local\\Temp\\ipykernel_19396\\1481603074.py:4: FutureWarning: The frame.append method is deprecated and will be removed from pandas in a future version. Use pandas.concat instead.\n",
      "  Hap = Hap.append({'년월' :'202101-202106'  , '시구' : '{}'.format(City) , '시군구' : '{}'.format(SIGUNGU[i]) , '계약구분' : '합계' , '고객호수(호)' : sum3[i] ,  '사용량(kWh)' : sum2[i]} , ignore_index=True) #년월 파일마다 수정하기\n",
      "C:\\Users\\user\\AppData\\Local\\Temp\\ipykernel_19396\\1481603074.py:4: FutureWarning: The frame.append method is deprecated and will be removed from pandas in a future version. Use pandas.concat instead.\n",
      "  Hap = Hap.append({'년월' :'202101-202106'  , '시구' : '{}'.format(City) , '시군구' : '{}'.format(SIGUNGU[i]) , '계약구분' : '합계' , '고객호수(호)' : sum3[i] ,  '사용량(kWh)' : sum2[i]} , ignore_index=True) #년월 파일마다 수정하기\n",
      "C:\\Users\\user\\AppData\\Local\\Temp\\ipykernel_19396\\1481603074.py:4: FutureWarning: The frame.append method is deprecated and will be removed from pandas in a future version. Use pandas.concat instead.\n",
      "  Hap = Hap.append({'년월' :'202101-202106'  , '시구' : '{}'.format(City) , '시군구' : '{}'.format(SIGUNGU[i]) , '계약구분' : '합계' , '고객호수(호)' : sum3[i] ,  '사용량(kWh)' : sum2[i]} , ignore_index=True) #년월 파일마다 수정하기\n",
      "C:\\Users\\user\\AppData\\Local\\Temp\\ipykernel_19396\\1481603074.py:4: FutureWarning: The frame.append method is deprecated and will be removed from pandas in a future version. Use pandas.concat instead.\n",
      "  Hap = Hap.append({'년월' :'202101-202106'  , '시구' : '{}'.format(City) , '시군구' : '{}'.format(SIGUNGU[i]) , '계약구분' : '합계' , '고객호수(호)' : sum3[i] ,  '사용량(kWh)' : sum2[i]} , ignore_index=True) #년월 파일마다 수정하기\n",
      "C:\\Users\\user\\AppData\\Local\\Temp\\ipykernel_19396\\1481603074.py:4: FutureWarning: The frame.append method is deprecated and will be removed from pandas in a future version. Use pandas.concat instead.\n",
      "  Hap = Hap.append({'년월' :'202101-202106'  , '시구' : '{}'.format(City) , '시군구' : '{}'.format(SIGUNGU[i]) , '계약구분' : '합계' , '고객호수(호)' : sum3[i] ,  '사용량(kWh)' : sum2[i]} , ignore_index=True) #년월 파일마다 수정하기\n",
      "C:\\Users\\user\\AppData\\Local\\Temp\\ipykernel_19396\\1481603074.py:4: FutureWarning: The frame.append method is deprecated and will be removed from pandas in a future version. Use pandas.concat instead.\n",
      "  Hap = Hap.append({'년월' :'202101-202106'  , '시구' : '{}'.format(City) , '시군구' : '{}'.format(SIGUNGU[i]) , '계약구분' : '합계' , '고객호수(호)' : sum3[i] ,  '사용량(kWh)' : sum2[i]} , ignore_index=True) #년월 파일마다 수정하기\n"
     ]
    },
    {
     "data": {
      "text/plain": "                년월   시구  시군구 계약구분   고객호수(호)      사용량(kWh)\n0           202101  강원도  강릉시   합계  140,224   179,196,237 \n1           202102  강원도  강릉시   합계  140,294   178,896,265 \n2           202103  강원도  강릉시   합계  140,751   162,820,232 \n3           202104  강원도  강릉시   합계  140,706   152,060,540 \n4           202105  강원도  강릉시   합계  140,866   152,413,341 \n..             ...  ...  ...  ...       ...           ...\n121  202101-202106  강원도  태백시   합계      4701     162020283\n122  202101-202106  강원도  평창군   합계      9437     335900055\n123  202101-202106  강원도  홍천군   합계     13240     386364996\n124  202101-202106  강원도  화천군   합계      4654     140072398\n125  202101-202106  강원도  횡성군   합계     10005     343721138\n\n[126 rows x 6 columns]",
      "text/html": "<div>\n<style scoped>\n    .dataframe tbody tr th:only-of-type {\n        vertical-align: middle;\n    }\n\n    .dataframe tbody tr th {\n        vertical-align: top;\n    }\n\n    .dataframe thead th {\n        text-align: right;\n    }\n</style>\n<table border=\"1\" class=\"dataframe\">\n  <thead>\n    <tr style=\"text-align: right;\">\n      <th></th>\n      <th>년월</th>\n      <th>시구</th>\n      <th>시군구</th>\n      <th>계약구분</th>\n      <th>고객호수(호)</th>\n      <th>사용량(kWh)</th>\n    </tr>\n  </thead>\n  <tbody>\n    <tr>\n      <th>0</th>\n      <td>202101</td>\n      <td>강원도</td>\n      <td>강릉시</td>\n      <td>합계</td>\n      <td>140,224</td>\n      <td>179,196,237</td>\n    </tr>\n    <tr>\n      <th>1</th>\n      <td>202102</td>\n      <td>강원도</td>\n      <td>강릉시</td>\n      <td>합계</td>\n      <td>140,294</td>\n      <td>178,896,265</td>\n    </tr>\n    <tr>\n      <th>2</th>\n      <td>202103</td>\n      <td>강원도</td>\n      <td>강릉시</td>\n      <td>합계</td>\n      <td>140,751</td>\n      <td>162,820,232</td>\n    </tr>\n    <tr>\n      <th>3</th>\n      <td>202104</td>\n      <td>강원도</td>\n      <td>강릉시</td>\n      <td>합계</td>\n      <td>140,706</td>\n      <td>152,060,540</td>\n    </tr>\n    <tr>\n      <th>4</th>\n      <td>202105</td>\n      <td>강원도</td>\n      <td>강릉시</td>\n      <td>합계</td>\n      <td>140,866</td>\n      <td>152,413,341</td>\n    </tr>\n    <tr>\n      <th>...</th>\n      <td>...</td>\n      <td>...</td>\n      <td>...</td>\n      <td>...</td>\n      <td>...</td>\n      <td>...</td>\n    </tr>\n    <tr>\n      <th>121</th>\n      <td>202101-202106</td>\n      <td>강원도</td>\n      <td>태백시</td>\n      <td>합계</td>\n      <td>4701</td>\n      <td>162020283</td>\n    </tr>\n    <tr>\n      <th>122</th>\n      <td>202101-202106</td>\n      <td>강원도</td>\n      <td>평창군</td>\n      <td>합계</td>\n      <td>9437</td>\n      <td>335900055</td>\n    </tr>\n    <tr>\n      <th>123</th>\n      <td>202101-202106</td>\n      <td>강원도</td>\n      <td>홍천군</td>\n      <td>합계</td>\n      <td>13240</td>\n      <td>386364996</td>\n    </tr>\n    <tr>\n      <th>124</th>\n      <td>202101-202106</td>\n      <td>강원도</td>\n      <td>화천군</td>\n      <td>합계</td>\n      <td>4654</td>\n      <td>140072398</td>\n    </tr>\n    <tr>\n      <th>125</th>\n      <td>202101-202106</td>\n      <td>강원도</td>\n      <td>횡성군</td>\n      <td>합계</td>\n      <td>10005</td>\n      <td>343721138</td>\n    </tr>\n  </tbody>\n</table>\n<p>126 rows × 6 columns</p>\n</div>"
     },
     "execution_count": 39,
     "metadata": {},
     "output_type": "execute_result"
    }
   ],
   "source": [
    "Hap = df_4.copy()\n",
    "Hap.reset_index(drop=True , inplace = True)\n",
    "for i in range(len(SIGUNGU)):\n",
    "    Hap = Hap.append({'년월' :'202101-202106'  , '시구' : '{}'.format(City) , '시군구' : '{}'.format(SIGUNGU[i]) , '계약구분' : '합계' , '고객호수(호)' : sum3[i] ,  '사용량(kWh)' : sum2[i]} , ignore_index=True) #년월 파일마다 수정하기\n",
    "Hap"
   ],
   "metadata": {
    "collapsed": false,
    "pycharm": {
     "name": "#%%\n"
    }
   }
  },
  {
   "cell_type": "markdown",
   "source": [
    "### 3. 날짜 변경!!!!!!!!!!!!!!!!!!!!!!!!!!!!!!!"
   ],
   "metadata": {
    "collapsed": false,
    "pycharm": {
     "name": "#%% md\n"
    }
   }
  },
  {
   "cell_type": "code",
   "execution_count": 40,
   "outputs": [
    {
     "data": {
      "text/plain": "                년월   시구  시군구 계약구분 고객호수(호)    사용량(kWh)\n108  202101-202106  강원도  강릉시   합계   23442   975233899\n109  202101-202106  강원도  고성군   합계    5194   173267534\n110  202101-202106  강원도  동해시   합계    8391  1061512308\n111  202101-202106  강원도  삼척시   합계    9700   721993952\n112  202101-202106  강원도  속초시   합계    7004   346573706\n113  202101-202106  강원도  양구군   합계    4224   111500571\n114  202101-202106  강원도  양양군   합계    5473   162973370\n115  202101-202106  강원도  영월군   합계    7190   566497755\n116  202101-202106  강원도  원주시   합계   28399  1296223979\n117  202101-202106  강원도  인제군   합계    6318   183214652\n118  202101-202106  강원도  정선군   합계    6958   297174891\n119  202101-202106  강원도  철원군   합계    7544   272238098\n120  202101-202106  강원도  춘천시   합계   25213   928399383\n121  202101-202106  강원도  태백시   합계    4701   162020283\n122  202101-202106  강원도  평창군   합계    9437   335900055\n123  202101-202106  강원도  홍천군   합계   13240   386364996\n124  202101-202106  강원도  화천군   합계    4654   140072398\n125  202101-202106  강원도  횡성군   합계   10005   343721138",
      "text/html": "<div>\n<style scoped>\n    .dataframe tbody tr th:only-of-type {\n        vertical-align: middle;\n    }\n\n    .dataframe tbody tr th {\n        vertical-align: top;\n    }\n\n    .dataframe thead th {\n        text-align: right;\n    }\n</style>\n<table border=\"1\" class=\"dataframe\">\n  <thead>\n    <tr style=\"text-align: right;\">\n      <th></th>\n      <th>년월</th>\n      <th>시구</th>\n      <th>시군구</th>\n      <th>계약구분</th>\n      <th>고객호수(호)</th>\n      <th>사용량(kWh)</th>\n    </tr>\n  </thead>\n  <tbody>\n    <tr>\n      <th>108</th>\n      <td>202101-202106</td>\n      <td>강원도</td>\n      <td>강릉시</td>\n      <td>합계</td>\n      <td>23442</td>\n      <td>975233899</td>\n    </tr>\n    <tr>\n      <th>109</th>\n      <td>202101-202106</td>\n      <td>강원도</td>\n      <td>고성군</td>\n      <td>합계</td>\n      <td>5194</td>\n      <td>173267534</td>\n    </tr>\n    <tr>\n      <th>110</th>\n      <td>202101-202106</td>\n      <td>강원도</td>\n      <td>동해시</td>\n      <td>합계</td>\n      <td>8391</td>\n      <td>1061512308</td>\n    </tr>\n    <tr>\n      <th>111</th>\n      <td>202101-202106</td>\n      <td>강원도</td>\n      <td>삼척시</td>\n      <td>합계</td>\n      <td>9700</td>\n      <td>721993952</td>\n    </tr>\n    <tr>\n      <th>112</th>\n      <td>202101-202106</td>\n      <td>강원도</td>\n      <td>속초시</td>\n      <td>합계</td>\n      <td>7004</td>\n      <td>346573706</td>\n    </tr>\n    <tr>\n      <th>113</th>\n      <td>202101-202106</td>\n      <td>강원도</td>\n      <td>양구군</td>\n      <td>합계</td>\n      <td>4224</td>\n      <td>111500571</td>\n    </tr>\n    <tr>\n      <th>114</th>\n      <td>202101-202106</td>\n      <td>강원도</td>\n      <td>양양군</td>\n      <td>합계</td>\n      <td>5473</td>\n      <td>162973370</td>\n    </tr>\n    <tr>\n      <th>115</th>\n      <td>202101-202106</td>\n      <td>강원도</td>\n      <td>영월군</td>\n      <td>합계</td>\n      <td>7190</td>\n      <td>566497755</td>\n    </tr>\n    <tr>\n      <th>116</th>\n      <td>202101-202106</td>\n      <td>강원도</td>\n      <td>원주시</td>\n      <td>합계</td>\n      <td>28399</td>\n      <td>1296223979</td>\n    </tr>\n    <tr>\n      <th>117</th>\n      <td>202101-202106</td>\n      <td>강원도</td>\n      <td>인제군</td>\n      <td>합계</td>\n      <td>6318</td>\n      <td>183214652</td>\n    </tr>\n    <tr>\n      <th>118</th>\n      <td>202101-202106</td>\n      <td>강원도</td>\n      <td>정선군</td>\n      <td>합계</td>\n      <td>6958</td>\n      <td>297174891</td>\n    </tr>\n    <tr>\n      <th>119</th>\n      <td>202101-202106</td>\n      <td>강원도</td>\n      <td>철원군</td>\n      <td>합계</td>\n      <td>7544</td>\n      <td>272238098</td>\n    </tr>\n    <tr>\n      <th>120</th>\n      <td>202101-202106</td>\n      <td>강원도</td>\n      <td>춘천시</td>\n      <td>합계</td>\n      <td>25213</td>\n      <td>928399383</td>\n    </tr>\n    <tr>\n      <th>121</th>\n      <td>202101-202106</td>\n      <td>강원도</td>\n      <td>태백시</td>\n      <td>합계</td>\n      <td>4701</td>\n      <td>162020283</td>\n    </tr>\n    <tr>\n      <th>122</th>\n      <td>202101-202106</td>\n      <td>강원도</td>\n      <td>평창군</td>\n      <td>합계</td>\n      <td>9437</td>\n      <td>335900055</td>\n    </tr>\n    <tr>\n      <th>123</th>\n      <td>202101-202106</td>\n      <td>강원도</td>\n      <td>홍천군</td>\n      <td>합계</td>\n      <td>13240</td>\n      <td>386364996</td>\n    </tr>\n    <tr>\n      <th>124</th>\n      <td>202101-202106</td>\n      <td>강원도</td>\n      <td>화천군</td>\n      <td>합계</td>\n      <td>4654</td>\n      <td>140072398</td>\n    </tr>\n    <tr>\n      <th>125</th>\n      <td>202101-202106</td>\n      <td>강원도</td>\n      <td>횡성군</td>\n      <td>합계</td>\n      <td>10005</td>\n      <td>343721138</td>\n    </tr>\n  </tbody>\n</table>\n</div>"
     },
     "execution_count": 40,
     "metadata": {},
     "output_type": "execute_result"
    }
   ],
   "source": [
    "Hap = Hap.loc[Hap['년월'] == '202101-202106']\n",
    "Hap"
   ],
   "metadata": {
    "collapsed": false,
    "pycharm": {
     "name": "#%%\n"
    }
   }
  },
  {
   "cell_type": "code",
   "execution_count": 41,
   "outputs": [],
   "source": [
    "# SIGUNGU = SIGUNGU[:1]\n",
    "# SIGUNGU\n",
    "#for i in SIGUNGU:\n",
    "#print('{}'.format(i))\n",
    "# df_3 = df_3.loc[(df_3['시군구'] == '가평군')]\n",
    "#\n",
    "# df_3"
   ],
   "metadata": {
    "collapsed": false,
    "pycharm": {
     "name": "#%%\n"
    }
   }
  },
  {
   "cell_type": "code",
   "execution_count": 42,
   "outputs": [
    {
     "data": {
      "text/plain": "['년월', '시구', '시군구', '계약구분', '고객호수(호)', '사용량(kWh)']"
     },
     "execution_count": 42,
     "metadata": {},
     "output_type": "execute_result"
    }
   ],
   "source": [
    "a = (df_3.columns).tolist()\n",
    "\n",
    "a"
   ],
   "metadata": {
    "collapsed": false,
    "pycharm": {
     "name": "#%%\n"
    }
   }
  },
  {
   "cell_type": "code",
   "execution_count": 43,
   "outputs": [
    {
     "data": {
      "text/plain": "         년월   시구  시군구 계약구분  고객호수(호)     사용량(kWh)\n53   202101  강원도  강릉시  일반용  21,181   59,914,337 \n197  202102  강원도  강릉시  일반용  21,164   56,784,869 \n341  202103  강원도  강릉시  일반용  21,236   48,964,957 \n485  202104  강원도  강릉시  일반용  21,298   46,160,441 \n629  202105  강원도  강릉시  일반용  21,364   42,618,434 \n..      ...  ...  ...  ...      ...          ...\n333  202102  강원도  횡성군  일반용   5,290   12,727,972 \n477  202103  강원도  횡성군  일반용   5,300    9,869,006 \n621  202104  강원도  횡성군  일반용   5,303    8,953,879 \n765  202105  강원도  횡성군  일반용   5,318    8,569,401 \n909  202106  강원도  횡성군  일반용   5,324    8,849,533 \n\n[108 rows x 6 columns]",
      "text/html": "<div>\n<style scoped>\n    .dataframe tbody tr th:only-of-type {\n        vertical-align: middle;\n    }\n\n    .dataframe tbody tr th {\n        vertical-align: top;\n    }\n\n    .dataframe thead th {\n        text-align: right;\n    }\n</style>\n<table border=\"1\" class=\"dataframe\">\n  <thead>\n    <tr style=\"text-align: right;\">\n      <th></th>\n      <th>년월</th>\n      <th>시구</th>\n      <th>시군구</th>\n      <th>계약구분</th>\n      <th>고객호수(호)</th>\n      <th>사용량(kWh)</th>\n    </tr>\n  </thead>\n  <tbody>\n    <tr>\n      <th>53</th>\n      <td>202101</td>\n      <td>강원도</td>\n      <td>강릉시</td>\n      <td>일반용</td>\n      <td>21,181</td>\n      <td>59,914,337</td>\n    </tr>\n    <tr>\n      <th>197</th>\n      <td>202102</td>\n      <td>강원도</td>\n      <td>강릉시</td>\n      <td>일반용</td>\n      <td>21,164</td>\n      <td>56,784,869</td>\n    </tr>\n    <tr>\n      <th>341</th>\n      <td>202103</td>\n      <td>강원도</td>\n      <td>강릉시</td>\n      <td>일반용</td>\n      <td>21,236</td>\n      <td>48,964,957</td>\n    </tr>\n    <tr>\n      <th>485</th>\n      <td>202104</td>\n      <td>강원도</td>\n      <td>강릉시</td>\n      <td>일반용</td>\n      <td>21,298</td>\n      <td>46,160,441</td>\n    </tr>\n    <tr>\n      <th>629</th>\n      <td>202105</td>\n      <td>강원도</td>\n      <td>강릉시</td>\n      <td>일반용</td>\n      <td>21,364</td>\n      <td>42,618,434</td>\n    </tr>\n    <tr>\n      <th>...</th>\n      <td>...</td>\n      <td>...</td>\n      <td>...</td>\n      <td>...</td>\n      <td>...</td>\n      <td>...</td>\n    </tr>\n    <tr>\n      <th>333</th>\n      <td>202102</td>\n      <td>강원도</td>\n      <td>횡성군</td>\n      <td>일반용</td>\n      <td>5,290</td>\n      <td>12,727,972</td>\n    </tr>\n    <tr>\n      <th>477</th>\n      <td>202103</td>\n      <td>강원도</td>\n      <td>횡성군</td>\n      <td>일반용</td>\n      <td>5,300</td>\n      <td>9,869,006</td>\n    </tr>\n    <tr>\n      <th>621</th>\n      <td>202104</td>\n      <td>강원도</td>\n      <td>횡성군</td>\n      <td>일반용</td>\n      <td>5,303</td>\n      <td>8,953,879</td>\n    </tr>\n    <tr>\n      <th>765</th>\n      <td>202105</td>\n      <td>강원도</td>\n      <td>횡성군</td>\n      <td>일반용</td>\n      <td>5,318</td>\n      <td>8,569,401</td>\n    </tr>\n    <tr>\n      <th>909</th>\n      <td>202106</td>\n      <td>강원도</td>\n      <td>횡성군</td>\n      <td>일반용</td>\n      <td>5,324</td>\n      <td>8,849,533</td>\n    </tr>\n  </tbody>\n</table>\n<p>108 rows × 6 columns</p>\n</div>"
     },
     "execution_count": 43,
     "metadata": {},
     "output_type": "execute_result"
    }
   ],
   "source": [
    "df_3"
   ],
   "metadata": {
    "collapsed": false,
    "pycharm": {
     "name": "#%%\n"
    }
   }
  },
  {
   "cell_type": "code",
   "execution_count": 44,
   "outputs": [],
   "source": [
    "# GyeonGiHap = pd.DataFrame([] , columns = a)\n",
    "# GyeonGiHap['사용량']= df_3['사용량(kWh)'].loc[(df_3['시군구'] == '{가평군}')]\n",
    "# GyeonGiHap"
   ],
   "metadata": {
    "collapsed": false,
    "pycharm": {
     "name": "#%%\n"
    }
   }
  },
  {
   "cell_type": "code",
   "execution_count": 45,
   "outputs": [
    {
     "name": "stdout",
     "output_type": "stream",
     "text": [
      "[59914337, 56784869, 48964957, 46160441, 42618434, 45628403]\n",
      "[16004993, 15405356, 12842146, 11731093, 10707367, 10911464]\n",
      "[20415830, 19266404, 17238758, 16260613, 15324445, 16099997]\n",
      "[16390064, 15292482, 13374139, 12797632, 12079419, 12712475]\n",
      "[26784480, 25260213, 21677402, 20378022, 62858966, 57001094]\n",
      "[9309815, 9082676, 6977018, 6311687, 5604079, 5904584]\n",
      "[15117938, 13860800, 11966653, 10689337, 10071767, 10544295]\n",
      "[9728502, 9166725, 7247841, 6690851, 6209029, 6408573]\n",
      "[86149149, 80439870, 64901085, 60307942, 56550788, 61826214]\n",
      "[17191144, 15871604, 12617028, 11454561, 10319675, 10866052]\n",
      "[20516441, 18017047, 15036389, 13417798, 13377005, 13777251]\n",
      "[19917225, 17547613, 13777695, 12120888, 11134860, 11815590]\n",
      "[81753719, 77470979, 66085305, 61918920, 60016184, 63047215]\n",
      "[10621134, 9942908, 8053986, 7784973, 7141553, 7054364]\n",
      "[28153594, 24687538, 18964262, 16271820, 15526289, 15527576]\n",
      "[27503576, 25384013, 20026761, 18417642, 17712148, 18839491]\n",
      "[14222951, 13415141, 10543114, 9488994, 8441228, 8880107]\n",
      "[13702551, 12727972, 9869006, 8953879, 8569401, 8849533]\n",
      "강원도 지역별 일반용 합계 :  [300071441, 77602419, 104606047, 82646211, 213960177, 43189859, 72250790, 45451521, 410175048, 78320064, 94141931, 86313871, 410292322, 50598918, 119131079, 127883631, 64991535, 62672342]\n",
      "강원도 고객호수 평균:  [21279, 4496, 7602, 7123, 8658, 2801, 4497, 4253, 26997, 4845, 5073, 5013, 21900, 4359, 6750, 8500, 3312, 5307]\n"
     ]
    }
   ],
   "source": [
    "sum2 , sum3 =[] , []\n",
    "for k in SIGUNGU:\n",
    "    GyeonGiHap = pd.DataFrame([] , columns = a)\n",
    "    HOSU = pd.DataFrame([], columns = a)\n",
    "    GyeonGiHap['사용량']= df_3['사용량(kWh)'].loc[(df_3['시군구'] == '{}'.format(k))]\n",
    "    HOSU['고객호수']= df_3['고객호수(호)'].loc[(df_3['시군구'] == '{}'.format(k))]\n",
    "    #경기합 데이터프레임의 사용량 열에 기군구가 가평군인 사용량 데이터만 뽑아내기\n",
    "    # GyeonGiHap = GyeonGiHap['사용량']\n",
    "\n",
    "    b = GyeonGiHap['사용량'].tolist()\n",
    "    c = HOSU['고객호수'].tolist()\n",
    "\n",
    "\n",
    "    #각지역별 사용량 리스트화\n",
    "    int_list  , int_list2=[] , []\n",
    "    for i in b:\n",
    "        i = re.sub(\",\" , \"\" , i)\n",
    "        #콤마 없애기\n",
    "        int_list.append(int(i))\n",
    "        #int_list에 각지역별 사용량 int로 저장\n",
    "    print(int_list)\n",
    "    sum=0\n",
    "    for i in c:\n",
    "        i = re.sub(\",\" , \"\" , i)\n",
    "        int_list2.append(int(i))\n",
    "\n",
    "    for j in int_list:\n",
    "\n",
    "        sum+= j\n",
    "    sum2.append(sum)\n",
    "    sum = 0\n",
    "    for j in int_list2: #고객호수 추출하여 더하기\n",
    "\n",
    "        sum+= j\n",
    "    sum3.append(sum//6) #6개월 치로 나눠야하나?!\n",
    "\n",
    "\n",
    "\n",
    "\n",
    "print(\"{} 지역별 일반용 합계 : \".format(City) , sum2)\n",
    "print(\"{} 고객호수 평균: \".format(City) , sum3)\n",
    "# GyeonGiHap['합계'] = sum\n",
    "#\n",
    "# GyeonGiHap"
   ],
   "metadata": {
    "collapsed": false,
    "pycharm": {
     "name": "#%%\n"
    }
   }
  },
  {
   "cell_type": "code",
   "execution_count": 46,
   "outputs": [],
   "source": [
    "# df_3 = df_3.loc[(df_3['시군구'] == '가평군')]\n",
    "#\n",
    "# df_3"
   ],
   "metadata": {
    "collapsed": false,
    "pycharm": {
     "name": "#%%\n"
    }
   }
  },
  {
   "cell_type": "code",
   "execution_count": 47,
   "outputs": [],
   "source": [
    "# GyeonGiHap = df_3.copy()\n",
    "# GyeonGiHap.reset_index(drop=True , inplace = True)\n",
    "# GyeonGiHap.append({'년월' : '202107-202112'  , '시구' : '경기도' , '시군구' : '가평군' , '계약구분' : '일반용' , '사용량(kWh)' : sum}, ignore_index=True)"
   ],
   "metadata": {
    "collapsed": false,
    "pycharm": {
     "name": "#%%\n"
    }
   }
  },
  {
   "cell_type": "code",
   "execution_count": 48,
   "outputs": [],
   "source": [
    "# a=[]\n",
    "# for i in SIGUNGU:\n",
    "#     a.append(i)\n",
    "#\n",
    "# print(a)"
   ],
   "metadata": {
    "collapsed": false,
    "pycharm": {
     "name": "#%%\n"
    }
   }
  },
  {
   "cell_type": "markdown",
   "source": [
    "### 4. 년월 체크!!!!!!!!!!!!!!!!!!!!!!!!!!!!!!!!!!!!!!!!!!!!!!!!!!!!!!!!!!!!!!!!!"
   ],
   "metadata": {
    "collapsed": false,
    "pycharm": {
     "name": "#%% md\n"
    }
   }
  },
  {
   "cell_type": "code",
   "execution_count": 49,
   "outputs": [
    {
     "name": "stderr",
     "output_type": "stream",
     "text": [
      "C:\\Users\\user\\AppData\\Local\\Temp\\ipykernel_19396\\1152688266.py:4: FutureWarning: The frame.append method is deprecated and will be removed from pandas in a future version. Use pandas.concat instead.\n",
      "  GyeonGiHap2 = GyeonGiHap2.append({'년월' :'202101-202106'  , '시구' : '{}'.format(City) , '시군구' : '{}'.format(SIGUNGU[i]) , '계약구분' : '일반용' , '고객호수(호)' : sum3[i] ,  '사용량(kWh)' : sum2[i]} , ignore_index=True) #년월 파일마다 수정하기\n",
      "C:\\Users\\user\\AppData\\Local\\Temp\\ipykernel_19396\\1152688266.py:4: FutureWarning: The frame.append method is deprecated and will be removed from pandas in a future version. Use pandas.concat instead.\n",
      "  GyeonGiHap2 = GyeonGiHap2.append({'년월' :'202101-202106'  , '시구' : '{}'.format(City) , '시군구' : '{}'.format(SIGUNGU[i]) , '계약구분' : '일반용' , '고객호수(호)' : sum3[i] ,  '사용량(kWh)' : sum2[i]} , ignore_index=True) #년월 파일마다 수정하기\n",
      "C:\\Users\\user\\AppData\\Local\\Temp\\ipykernel_19396\\1152688266.py:4: FutureWarning: The frame.append method is deprecated and will be removed from pandas in a future version. Use pandas.concat instead.\n",
      "  GyeonGiHap2 = GyeonGiHap2.append({'년월' :'202101-202106'  , '시구' : '{}'.format(City) , '시군구' : '{}'.format(SIGUNGU[i]) , '계약구분' : '일반용' , '고객호수(호)' : sum3[i] ,  '사용량(kWh)' : sum2[i]} , ignore_index=True) #년월 파일마다 수정하기\n",
      "C:\\Users\\user\\AppData\\Local\\Temp\\ipykernel_19396\\1152688266.py:4: FutureWarning: The frame.append method is deprecated and will be removed from pandas in a future version. Use pandas.concat instead.\n",
      "  GyeonGiHap2 = GyeonGiHap2.append({'년월' :'202101-202106'  , '시구' : '{}'.format(City) , '시군구' : '{}'.format(SIGUNGU[i]) , '계약구분' : '일반용' , '고객호수(호)' : sum3[i] ,  '사용량(kWh)' : sum2[i]} , ignore_index=True) #년월 파일마다 수정하기\n",
      "C:\\Users\\user\\AppData\\Local\\Temp\\ipykernel_19396\\1152688266.py:4: FutureWarning: The frame.append method is deprecated and will be removed from pandas in a future version. Use pandas.concat instead.\n",
      "  GyeonGiHap2 = GyeonGiHap2.append({'년월' :'202101-202106'  , '시구' : '{}'.format(City) , '시군구' : '{}'.format(SIGUNGU[i]) , '계약구분' : '일반용' , '고객호수(호)' : sum3[i] ,  '사용량(kWh)' : sum2[i]} , ignore_index=True) #년월 파일마다 수정하기\n",
      "C:\\Users\\user\\AppData\\Local\\Temp\\ipykernel_19396\\1152688266.py:4: FutureWarning: The frame.append method is deprecated and will be removed from pandas in a future version. Use pandas.concat instead.\n",
      "  GyeonGiHap2 = GyeonGiHap2.append({'년월' :'202101-202106'  , '시구' : '{}'.format(City) , '시군구' : '{}'.format(SIGUNGU[i]) , '계약구분' : '일반용' , '고객호수(호)' : sum3[i] ,  '사용량(kWh)' : sum2[i]} , ignore_index=True) #년월 파일마다 수정하기\n",
      "C:\\Users\\user\\AppData\\Local\\Temp\\ipykernel_19396\\1152688266.py:4: FutureWarning: The frame.append method is deprecated and will be removed from pandas in a future version. Use pandas.concat instead.\n",
      "  GyeonGiHap2 = GyeonGiHap2.append({'년월' :'202101-202106'  , '시구' : '{}'.format(City) , '시군구' : '{}'.format(SIGUNGU[i]) , '계약구분' : '일반용' , '고객호수(호)' : sum3[i] ,  '사용량(kWh)' : sum2[i]} , ignore_index=True) #년월 파일마다 수정하기\n",
      "C:\\Users\\user\\AppData\\Local\\Temp\\ipykernel_19396\\1152688266.py:4: FutureWarning: The frame.append method is deprecated and will be removed from pandas in a future version. Use pandas.concat instead.\n",
      "  GyeonGiHap2 = GyeonGiHap2.append({'년월' :'202101-202106'  , '시구' : '{}'.format(City) , '시군구' : '{}'.format(SIGUNGU[i]) , '계약구분' : '일반용' , '고객호수(호)' : sum3[i] ,  '사용량(kWh)' : sum2[i]} , ignore_index=True) #년월 파일마다 수정하기\n",
      "C:\\Users\\user\\AppData\\Local\\Temp\\ipykernel_19396\\1152688266.py:4: FutureWarning: The frame.append method is deprecated and will be removed from pandas in a future version. Use pandas.concat instead.\n",
      "  GyeonGiHap2 = GyeonGiHap2.append({'년월' :'202101-202106'  , '시구' : '{}'.format(City) , '시군구' : '{}'.format(SIGUNGU[i]) , '계약구분' : '일반용' , '고객호수(호)' : sum3[i] ,  '사용량(kWh)' : sum2[i]} , ignore_index=True) #년월 파일마다 수정하기\n",
      "C:\\Users\\user\\AppData\\Local\\Temp\\ipykernel_19396\\1152688266.py:4: FutureWarning: The frame.append method is deprecated and will be removed from pandas in a future version. Use pandas.concat instead.\n",
      "  GyeonGiHap2 = GyeonGiHap2.append({'년월' :'202101-202106'  , '시구' : '{}'.format(City) , '시군구' : '{}'.format(SIGUNGU[i]) , '계약구분' : '일반용' , '고객호수(호)' : sum3[i] ,  '사용량(kWh)' : sum2[i]} , ignore_index=True) #년월 파일마다 수정하기\n",
      "C:\\Users\\user\\AppData\\Local\\Temp\\ipykernel_19396\\1152688266.py:4: FutureWarning: The frame.append method is deprecated and will be removed from pandas in a future version. Use pandas.concat instead.\n",
      "  GyeonGiHap2 = GyeonGiHap2.append({'년월' :'202101-202106'  , '시구' : '{}'.format(City) , '시군구' : '{}'.format(SIGUNGU[i]) , '계약구분' : '일반용' , '고객호수(호)' : sum3[i] ,  '사용량(kWh)' : sum2[i]} , ignore_index=True) #년월 파일마다 수정하기\n",
      "C:\\Users\\user\\AppData\\Local\\Temp\\ipykernel_19396\\1152688266.py:4: FutureWarning: The frame.append method is deprecated and will be removed from pandas in a future version. Use pandas.concat instead.\n",
      "  GyeonGiHap2 = GyeonGiHap2.append({'년월' :'202101-202106'  , '시구' : '{}'.format(City) , '시군구' : '{}'.format(SIGUNGU[i]) , '계약구분' : '일반용' , '고객호수(호)' : sum3[i] ,  '사용량(kWh)' : sum2[i]} , ignore_index=True) #년월 파일마다 수정하기\n",
      "C:\\Users\\user\\AppData\\Local\\Temp\\ipykernel_19396\\1152688266.py:4: FutureWarning: The frame.append method is deprecated and will be removed from pandas in a future version. Use pandas.concat instead.\n",
      "  GyeonGiHap2 = GyeonGiHap2.append({'년월' :'202101-202106'  , '시구' : '{}'.format(City) , '시군구' : '{}'.format(SIGUNGU[i]) , '계약구분' : '일반용' , '고객호수(호)' : sum3[i] ,  '사용량(kWh)' : sum2[i]} , ignore_index=True) #년월 파일마다 수정하기\n",
      "C:\\Users\\user\\AppData\\Local\\Temp\\ipykernel_19396\\1152688266.py:4: FutureWarning: The frame.append method is deprecated and will be removed from pandas in a future version. Use pandas.concat instead.\n",
      "  GyeonGiHap2 = GyeonGiHap2.append({'년월' :'202101-202106'  , '시구' : '{}'.format(City) , '시군구' : '{}'.format(SIGUNGU[i]) , '계약구분' : '일반용' , '고객호수(호)' : sum3[i] ,  '사용량(kWh)' : sum2[i]} , ignore_index=True) #년월 파일마다 수정하기\n",
      "C:\\Users\\user\\AppData\\Local\\Temp\\ipykernel_19396\\1152688266.py:4: FutureWarning: The frame.append method is deprecated and will be removed from pandas in a future version. Use pandas.concat instead.\n",
      "  GyeonGiHap2 = GyeonGiHap2.append({'년월' :'202101-202106'  , '시구' : '{}'.format(City) , '시군구' : '{}'.format(SIGUNGU[i]) , '계약구분' : '일반용' , '고객호수(호)' : sum3[i] ,  '사용량(kWh)' : sum2[i]} , ignore_index=True) #년월 파일마다 수정하기\n",
      "C:\\Users\\user\\AppData\\Local\\Temp\\ipykernel_19396\\1152688266.py:4: FutureWarning: The frame.append method is deprecated and will be removed from pandas in a future version. Use pandas.concat instead.\n",
      "  GyeonGiHap2 = GyeonGiHap2.append({'년월' :'202101-202106'  , '시구' : '{}'.format(City) , '시군구' : '{}'.format(SIGUNGU[i]) , '계약구분' : '일반용' , '고객호수(호)' : sum3[i] ,  '사용량(kWh)' : sum2[i]} , ignore_index=True) #년월 파일마다 수정하기\n",
      "C:\\Users\\user\\AppData\\Local\\Temp\\ipykernel_19396\\1152688266.py:4: FutureWarning: The frame.append method is deprecated and will be removed from pandas in a future version. Use pandas.concat instead.\n",
      "  GyeonGiHap2 = GyeonGiHap2.append({'년월' :'202101-202106'  , '시구' : '{}'.format(City) , '시군구' : '{}'.format(SIGUNGU[i]) , '계약구분' : '일반용' , '고객호수(호)' : sum3[i] ,  '사용량(kWh)' : sum2[i]} , ignore_index=True) #년월 파일마다 수정하기\n",
      "C:\\Users\\user\\AppData\\Local\\Temp\\ipykernel_19396\\1152688266.py:4: FutureWarning: The frame.append method is deprecated and will be removed from pandas in a future version. Use pandas.concat instead.\n",
      "  GyeonGiHap2 = GyeonGiHap2.append({'년월' :'202101-202106'  , '시구' : '{}'.format(City) , '시군구' : '{}'.format(SIGUNGU[i]) , '계약구분' : '일반용' , '고객호수(호)' : sum3[i] ,  '사용량(kWh)' : sum2[i]} , ignore_index=True) #년월 파일마다 수정하기\n"
     ]
    },
    {
     "data": {
      "text/plain": "                년월   시구  시군구 계약구분  고객호수(호)     사용량(kWh)\n0           202101  강원도  강릉시  일반용  21,181   59,914,337 \n1           202102  강원도  강릉시  일반용  21,164   56,784,869 \n2           202103  강원도  강릉시  일반용  21,236   48,964,957 \n3           202104  강원도  강릉시  일반용  21,298   46,160,441 \n4           202105  강원도  강릉시  일반용  21,364   42,618,434 \n..             ...  ...  ...  ...      ...          ...\n121  202101-202106  강원도  태백시  일반용     4359     50598918\n122  202101-202106  강원도  평창군  일반용     6750    119131079\n123  202101-202106  강원도  홍천군  일반용     8500    127883631\n124  202101-202106  강원도  화천군  일반용     3312     64991535\n125  202101-202106  강원도  횡성군  일반용     5307     62672342\n\n[126 rows x 6 columns]",
      "text/html": "<div>\n<style scoped>\n    .dataframe tbody tr th:only-of-type {\n        vertical-align: middle;\n    }\n\n    .dataframe tbody tr th {\n        vertical-align: top;\n    }\n\n    .dataframe thead th {\n        text-align: right;\n    }\n</style>\n<table border=\"1\" class=\"dataframe\">\n  <thead>\n    <tr style=\"text-align: right;\">\n      <th></th>\n      <th>년월</th>\n      <th>시구</th>\n      <th>시군구</th>\n      <th>계약구분</th>\n      <th>고객호수(호)</th>\n      <th>사용량(kWh)</th>\n    </tr>\n  </thead>\n  <tbody>\n    <tr>\n      <th>0</th>\n      <td>202101</td>\n      <td>강원도</td>\n      <td>강릉시</td>\n      <td>일반용</td>\n      <td>21,181</td>\n      <td>59,914,337</td>\n    </tr>\n    <tr>\n      <th>1</th>\n      <td>202102</td>\n      <td>강원도</td>\n      <td>강릉시</td>\n      <td>일반용</td>\n      <td>21,164</td>\n      <td>56,784,869</td>\n    </tr>\n    <tr>\n      <th>2</th>\n      <td>202103</td>\n      <td>강원도</td>\n      <td>강릉시</td>\n      <td>일반용</td>\n      <td>21,236</td>\n      <td>48,964,957</td>\n    </tr>\n    <tr>\n      <th>3</th>\n      <td>202104</td>\n      <td>강원도</td>\n      <td>강릉시</td>\n      <td>일반용</td>\n      <td>21,298</td>\n      <td>46,160,441</td>\n    </tr>\n    <tr>\n      <th>4</th>\n      <td>202105</td>\n      <td>강원도</td>\n      <td>강릉시</td>\n      <td>일반용</td>\n      <td>21,364</td>\n      <td>42,618,434</td>\n    </tr>\n    <tr>\n      <th>...</th>\n      <td>...</td>\n      <td>...</td>\n      <td>...</td>\n      <td>...</td>\n      <td>...</td>\n      <td>...</td>\n    </tr>\n    <tr>\n      <th>121</th>\n      <td>202101-202106</td>\n      <td>강원도</td>\n      <td>태백시</td>\n      <td>일반용</td>\n      <td>4359</td>\n      <td>50598918</td>\n    </tr>\n    <tr>\n      <th>122</th>\n      <td>202101-202106</td>\n      <td>강원도</td>\n      <td>평창군</td>\n      <td>일반용</td>\n      <td>6750</td>\n      <td>119131079</td>\n    </tr>\n    <tr>\n      <th>123</th>\n      <td>202101-202106</td>\n      <td>강원도</td>\n      <td>홍천군</td>\n      <td>일반용</td>\n      <td>8500</td>\n      <td>127883631</td>\n    </tr>\n    <tr>\n      <th>124</th>\n      <td>202101-202106</td>\n      <td>강원도</td>\n      <td>화천군</td>\n      <td>일반용</td>\n      <td>3312</td>\n      <td>64991535</td>\n    </tr>\n    <tr>\n      <th>125</th>\n      <td>202101-202106</td>\n      <td>강원도</td>\n      <td>횡성군</td>\n      <td>일반용</td>\n      <td>5307</td>\n      <td>62672342</td>\n    </tr>\n  </tbody>\n</table>\n<p>126 rows × 6 columns</p>\n</div>"
     },
     "execution_count": 49,
     "metadata": {},
     "output_type": "execute_result"
    }
   ],
   "source": [
    "GyeonGiHap2 = df_3.copy()\n",
    "GyeonGiHap2.reset_index(drop=True , inplace = True)\n",
    "for i in range(len(SIGUNGU)):\n",
    "    GyeonGiHap2 = GyeonGiHap2.append({'년월' :'202101-202106'  , '시구' : '{}'.format(City) , '시군구' : '{}'.format(SIGUNGU[i]) , '계약구분' : '일반용' , '고객호수(호)' : sum3[i] ,  '사용량(kWh)' : sum2[i]} , ignore_index=True) #년월 파일마다 수정하기\n",
    "GyeonGiHap2"
   ],
   "metadata": {
    "collapsed": false,
    "pycharm": {
     "name": "#%%\n"
    }
   }
  },
  {
   "cell_type": "markdown",
   "source": [
    "### 5. 날짜 체크!!!!!!!!!!!!!!!!!!!!!!!!!!!!!!!!!!!!!!!!!!!!!!!!!!!!"
   ],
   "metadata": {
    "collapsed": false,
    "pycharm": {
     "name": "#%% md\n"
    }
   }
  },
  {
   "cell_type": "code",
   "execution_count": 50,
   "outputs": [
    {
     "data": {
      "text/plain": "                년월   시구  시군구 계약구분 고객호수(호)   사용량(kWh)\n108  202101-202106  강원도  강릉시  일반용   21279  300071441\n109  202101-202106  강원도  고성군  일반용    4496   77602419\n110  202101-202106  강원도  동해시  일반용    7602  104606047\n111  202101-202106  강원도  삼척시  일반용    7123   82646211\n112  202101-202106  강원도  속초시  일반용    8658  213960177\n113  202101-202106  강원도  양구군  일반용    2801   43189859\n114  202101-202106  강원도  양양군  일반용    4497   72250790\n115  202101-202106  강원도  영월군  일반용    4253   45451521\n116  202101-202106  강원도  원주시  일반용   26997  410175048\n117  202101-202106  강원도  인제군  일반용    4845   78320064\n118  202101-202106  강원도  정선군  일반용    5073   94141931\n119  202101-202106  강원도  철원군  일반용    5013   86313871\n120  202101-202106  강원도  춘천시  일반용   21900  410292322\n121  202101-202106  강원도  태백시  일반용    4359   50598918\n122  202101-202106  강원도  평창군  일반용    6750  119131079\n123  202101-202106  강원도  홍천군  일반용    8500  127883631\n124  202101-202106  강원도  화천군  일반용    3312   64991535\n125  202101-202106  강원도  횡성군  일반용    5307   62672342",
      "text/html": "<div>\n<style scoped>\n    .dataframe tbody tr th:only-of-type {\n        vertical-align: middle;\n    }\n\n    .dataframe tbody tr th {\n        vertical-align: top;\n    }\n\n    .dataframe thead th {\n        text-align: right;\n    }\n</style>\n<table border=\"1\" class=\"dataframe\">\n  <thead>\n    <tr style=\"text-align: right;\">\n      <th></th>\n      <th>년월</th>\n      <th>시구</th>\n      <th>시군구</th>\n      <th>계약구분</th>\n      <th>고객호수(호)</th>\n      <th>사용량(kWh)</th>\n    </tr>\n  </thead>\n  <tbody>\n    <tr>\n      <th>108</th>\n      <td>202101-202106</td>\n      <td>강원도</td>\n      <td>강릉시</td>\n      <td>일반용</td>\n      <td>21279</td>\n      <td>300071441</td>\n    </tr>\n    <tr>\n      <th>109</th>\n      <td>202101-202106</td>\n      <td>강원도</td>\n      <td>고성군</td>\n      <td>일반용</td>\n      <td>4496</td>\n      <td>77602419</td>\n    </tr>\n    <tr>\n      <th>110</th>\n      <td>202101-202106</td>\n      <td>강원도</td>\n      <td>동해시</td>\n      <td>일반용</td>\n      <td>7602</td>\n      <td>104606047</td>\n    </tr>\n    <tr>\n      <th>111</th>\n      <td>202101-202106</td>\n      <td>강원도</td>\n      <td>삼척시</td>\n      <td>일반용</td>\n      <td>7123</td>\n      <td>82646211</td>\n    </tr>\n    <tr>\n      <th>112</th>\n      <td>202101-202106</td>\n      <td>강원도</td>\n      <td>속초시</td>\n      <td>일반용</td>\n      <td>8658</td>\n      <td>213960177</td>\n    </tr>\n    <tr>\n      <th>113</th>\n      <td>202101-202106</td>\n      <td>강원도</td>\n      <td>양구군</td>\n      <td>일반용</td>\n      <td>2801</td>\n      <td>43189859</td>\n    </tr>\n    <tr>\n      <th>114</th>\n      <td>202101-202106</td>\n      <td>강원도</td>\n      <td>양양군</td>\n      <td>일반용</td>\n      <td>4497</td>\n      <td>72250790</td>\n    </tr>\n    <tr>\n      <th>115</th>\n      <td>202101-202106</td>\n      <td>강원도</td>\n      <td>영월군</td>\n      <td>일반용</td>\n      <td>4253</td>\n      <td>45451521</td>\n    </tr>\n    <tr>\n      <th>116</th>\n      <td>202101-202106</td>\n      <td>강원도</td>\n      <td>원주시</td>\n      <td>일반용</td>\n      <td>26997</td>\n      <td>410175048</td>\n    </tr>\n    <tr>\n      <th>117</th>\n      <td>202101-202106</td>\n      <td>강원도</td>\n      <td>인제군</td>\n      <td>일반용</td>\n      <td>4845</td>\n      <td>78320064</td>\n    </tr>\n    <tr>\n      <th>118</th>\n      <td>202101-202106</td>\n      <td>강원도</td>\n      <td>정선군</td>\n      <td>일반용</td>\n      <td>5073</td>\n      <td>94141931</td>\n    </tr>\n    <tr>\n      <th>119</th>\n      <td>202101-202106</td>\n      <td>강원도</td>\n      <td>철원군</td>\n      <td>일반용</td>\n      <td>5013</td>\n      <td>86313871</td>\n    </tr>\n    <tr>\n      <th>120</th>\n      <td>202101-202106</td>\n      <td>강원도</td>\n      <td>춘천시</td>\n      <td>일반용</td>\n      <td>21900</td>\n      <td>410292322</td>\n    </tr>\n    <tr>\n      <th>121</th>\n      <td>202101-202106</td>\n      <td>강원도</td>\n      <td>태백시</td>\n      <td>일반용</td>\n      <td>4359</td>\n      <td>50598918</td>\n    </tr>\n    <tr>\n      <th>122</th>\n      <td>202101-202106</td>\n      <td>강원도</td>\n      <td>평창군</td>\n      <td>일반용</td>\n      <td>6750</td>\n      <td>119131079</td>\n    </tr>\n    <tr>\n      <th>123</th>\n      <td>202101-202106</td>\n      <td>강원도</td>\n      <td>홍천군</td>\n      <td>일반용</td>\n      <td>8500</td>\n      <td>127883631</td>\n    </tr>\n    <tr>\n      <th>124</th>\n      <td>202101-202106</td>\n      <td>강원도</td>\n      <td>화천군</td>\n      <td>일반용</td>\n      <td>3312</td>\n      <td>64991535</td>\n    </tr>\n    <tr>\n      <th>125</th>\n      <td>202101-202106</td>\n      <td>강원도</td>\n      <td>횡성군</td>\n      <td>일반용</td>\n      <td>5307</td>\n      <td>62672342</td>\n    </tr>\n  </tbody>\n</table>\n</div>"
     },
     "execution_count": 50,
     "metadata": {},
     "output_type": "execute_result"
    }
   ],
   "source": [
    "GyeonGiHap2 = GyeonGiHap2.loc[GyeonGiHap2['년월'] == '202101-202106']\n",
    "GyeonGiHap2"
   ],
   "metadata": {
    "collapsed": false,
    "pycharm": {
     "name": "#%%\n"
    }
   }
  },
  {
   "cell_type": "code",
   "execution_count": 51,
   "outputs": [
    {
     "data": {
      "text/plain": "                년월   시구  시군구 계약구분 고객호수(호)    사용량(kWh)\n108  202101-202106  강원도  강릉시  일반용   21279   300071441\n108  202101-202106  강원도  강릉시   합계   23442   975233899\n109  202101-202106  강원도  고성군  일반용    4496    77602419\n109  202101-202106  강원도  고성군   합계    5194   173267534\n110  202101-202106  강원도  동해시  일반용    7602   104606047\n110  202101-202106  강원도  동해시   합계    8391  1061512308\n111  202101-202106  강원도  삼척시   합계    9700   721993952\n111  202101-202106  강원도  삼척시  일반용    7123    82646211\n112  202101-202106  강원도  속초시   합계    7004   346573706\n112  202101-202106  강원도  속초시  일반용    8658   213960177\n113  202101-202106  강원도  양구군  일반용    2801    43189859\n113  202101-202106  강원도  양구군   합계    4224   111500571\n114  202101-202106  강원도  양양군   합계    5473   162973370\n114  202101-202106  강원도  양양군  일반용    4497    72250790\n115  202101-202106  강원도  영월군  일반용    4253    45451521\n115  202101-202106  강원도  영월군   합계    7190   566497755\n116  202101-202106  강원도  원주시  일반용   26997   410175048\n116  202101-202106  강원도  원주시   합계   28399  1296223979\n117  202101-202106  강원도  인제군  일반용    4845    78320064\n117  202101-202106  강원도  인제군   합계    6318   183214652\n118  202101-202106  강원도  정선군   합계    6958   297174891\n118  202101-202106  강원도  정선군  일반용    5073    94141931\n119  202101-202106  강원도  철원군   합계    7544   272238098\n119  202101-202106  강원도  철원군  일반용    5013    86313871\n120  202101-202106  강원도  춘천시  일반용   21900   410292322\n120  202101-202106  강원도  춘천시   합계   25213   928399383\n121  202101-202106  강원도  태백시   합계    4701   162020283\n121  202101-202106  강원도  태백시  일반용    4359    50598918\n122  202101-202106  강원도  평창군   합계    9437   335900055\n122  202101-202106  강원도  평창군  일반용    6750   119131079\n123  202101-202106  강원도  홍천군   합계   13240   386364996\n123  202101-202106  강원도  홍천군  일반용    8500   127883631\n124  202101-202106  강원도  화천군   합계    4654   140072398\n124  202101-202106  강원도  화천군  일반용    3312    64991535\n125  202101-202106  강원도  횡성군  일반용    5307    62672342\n125  202101-202106  강원도  횡성군   합계   10005   343721138",
      "text/html": "<div>\n<style scoped>\n    .dataframe tbody tr th:only-of-type {\n        vertical-align: middle;\n    }\n\n    .dataframe tbody tr th {\n        vertical-align: top;\n    }\n\n    .dataframe thead th {\n        text-align: right;\n    }\n</style>\n<table border=\"1\" class=\"dataframe\">\n  <thead>\n    <tr style=\"text-align: right;\">\n      <th></th>\n      <th>년월</th>\n      <th>시구</th>\n      <th>시군구</th>\n      <th>계약구분</th>\n      <th>고객호수(호)</th>\n      <th>사용량(kWh)</th>\n    </tr>\n  </thead>\n  <tbody>\n    <tr>\n      <th>108</th>\n      <td>202101-202106</td>\n      <td>강원도</td>\n      <td>강릉시</td>\n      <td>일반용</td>\n      <td>21279</td>\n      <td>300071441</td>\n    </tr>\n    <tr>\n      <th>108</th>\n      <td>202101-202106</td>\n      <td>강원도</td>\n      <td>강릉시</td>\n      <td>합계</td>\n      <td>23442</td>\n      <td>975233899</td>\n    </tr>\n    <tr>\n      <th>109</th>\n      <td>202101-202106</td>\n      <td>강원도</td>\n      <td>고성군</td>\n      <td>일반용</td>\n      <td>4496</td>\n      <td>77602419</td>\n    </tr>\n    <tr>\n      <th>109</th>\n      <td>202101-202106</td>\n      <td>강원도</td>\n      <td>고성군</td>\n      <td>합계</td>\n      <td>5194</td>\n      <td>173267534</td>\n    </tr>\n    <tr>\n      <th>110</th>\n      <td>202101-202106</td>\n      <td>강원도</td>\n      <td>동해시</td>\n      <td>일반용</td>\n      <td>7602</td>\n      <td>104606047</td>\n    </tr>\n    <tr>\n      <th>110</th>\n      <td>202101-202106</td>\n      <td>강원도</td>\n      <td>동해시</td>\n      <td>합계</td>\n      <td>8391</td>\n      <td>1061512308</td>\n    </tr>\n    <tr>\n      <th>111</th>\n      <td>202101-202106</td>\n      <td>강원도</td>\n      <td>삼척시</td>\n      <td>합계</td>\n      <td>9700</td>\n      <td>721993952</td>\n    </tr>\n    <tr>\n      <th>111</th>\n      <td>202101-202106</td>\n      <td>강원도</td>\n      <td>삼척시</td>\n      <td>일반용</td>\n      <td>7123</td>\n      <td>82646211</td>\n    </tr>\n    <tr>\n      <th>112</th>\n      <td>202101-202106</td>\n      <td>강원도</td>\n      <td>속초시</td>\n      <td>합계</td>\n      <td>7004</td>\n      <td>346573706</td>\n    </tr>\n    <tr>\n      <th>112</th>\n      <td>202101-202106</td>\n      <td>강원도</td>\n      <td>속초시</td>\n      <td>일반용</td>\n      <td>8658</td>\n      <td>213960177</td>\n    </tr>\n    <tr>\n      <th>113</th>\n      <td>202101-202106</td>\n      <td>강원도</td>\n      <td>양구군</td>\n      <td>일반용</td>\n      <td>2801</td>\n      <td>43189859</td>\n    </tr>\n    <tr>\n      <th>113</th>\n      <td>202101-202106</td>\n      <td>강원도</td>\n      <td>양구군</td>\n      <td>합계</td>\n      <td>4224</td>\n      <td>111500571</td>\n    </tr>\n    <tr>\n      <th>114</th>\n      <td>202101-202106</td>\n      <td>강원도</td>\n      <td>양양군</td>\n      <td>합계</td>\n      <td>5473</td>\n      <td>162973370</td>\n    </tr>\n    <tr>\n      <th>114</th>\n      <td>202101-202106</td>\n      <td>강원도</td>\n      <td>양양군</td>\n      <td>일반용</td>\n      <td>4497</td>\n      <td>72250790</td>\n    </tr>\n    <tr>\n      <th>115</th>\n      <td>202101-202106</td>\n      <td>강원도</td>\n      <td>영월군</td>\n      <td>일반용</td>\n      <td>4253</td>\n      <td>45451521</td>\n    </tr>\n    <tr>\n      <th>115</th>\n      <td>202101-202106</td>\n      <td>강원도</td>\n      <td>영월군</td>\n      <td>합계</td>\n      <td>7190</td>\n      <td>566497755</td>\n    </tr>\n    <tr>\n      <th>116</th>\n      <td>202101-202106</td>\n      <td>강원도</td>\n      <td>원주시</td>\n      <td>일반용</td>\n      <td>26997</td>\n      <td>410175048</td>\n    </tr>\n    <tr>\n      <th>116</th>\n      <td>202101-202106</td>\n      <td>강원도</td>\n      <td>원주시</td>\n      <td>합계</td>\n      <td>28399</td>\n      <td>1296223979</td>\n    </tr>\n    <tr>\n      <th>117</th>\n      <td>202101-202106</td>\n      <td>강원도</td>\n      <td>인제군</td>\n      <td>일반용</td>\n      <td>4845</td>\n      <td>78320064</td>\n    </tr>\n    <tr>\n      <th>117</th>\n      <td>202101-202106</td>\n      <td>강원도</td>\n      <td>인제군</td>\n      <td>합계</td>\n      <td>6318</td>\n      <td>183214652</td>\n    </tr>\n    <tr>\n      <th>118</th>\n      <td>202101-202106</td>\n      <td>강원도</td>\n      <td>정선군</td>\n      <td>합계</td>\n      <td>6958</td>\n      <td>297174891</td>\n    </tr>\n    <tr>\n      <th>118</th>\n      <td>202101-202106</td>\n      <td>강원도</td>\n      <td>정선군</td>\n      <td>일반용</td>\n      <td>5073</td>\n      <td>94141931</td>\n    </tr>\n    <tr>\n      <th>119</th>\n      <td>202101-202106</td>\n      <td>강원도</td>\n      <td>철원군</td>\n      <td>합계</td>\n      <td>7544</td>\n      <td>272238098</td>\n    </tr>\n    <tr>\n      <th>119</th>\n      <td>202101-202106</td>\n      <td>강원도</td>\n      <td>철원군</td>\n      <td>일반용</td>\n      <td>5013</td>\n      <td>86313871</td>\n    </tr>\n    <tr>\n      <th>120</th>\n      <td>202101-202106</td>\n      <td>강원도</td>\n      <td>춘천시</td>\n      <td>일반용</td>\n      <td>21900</td>\n      <td>410292322</td>\n    </tr>\n    <tr>\n      <th>120</th>\n      <td>202101-202106</td>\n      <td>강원도</td>\n      <td>춘천시</td>\n      <td>합계</td>\n      <td>25213</td>\n      <td>928399383</td>\n    </tr>\n    <tr>\n      <th>121</th>\n      <td>202101-202106</td>\n      <td>강원도</td>\n      <td>태백시</td>\n      <td>합계</td>\n      <td>4701</td>\n      <td>162020283</td>\n    </tr>\n    <tr>\n      <th>121</th>\n      <td>202101-202106</td>\n      <td>강원도</td>\n      <td>태백시</td>\n      <td>일반용</td>\n      <td>4359</td>\n      <td>50598918</td>\n    </tr>\n    <tr>\n      <th>122</th>\n      <td>202101-202106</td>\n      <td>강원도</td>\n      <td>평창군</td>\n      <td>합계</td>\n      <td>9437</td>\n      <td>335900055</td>\n    </tr>\n    <tr>\n      <th>122</th>\n      <td>202101-202106</td>\n      <td>강원도</td>\n      <td>평창군</td>\n      <td>일반용</td>\n      <td>6750</td>\n      <td>119131079</td>\n    </tr>\n    <tr>\n      <th>123</th>\n      <td>202101-202106</td>\n      <td>강원도</td>\n      <td>홍천군</td>\n      <td>합계</td>\n      <td>13240</td>\n      <td>386364996</td>\n    </tr>\n    <tr>\n      <th>123</th>\n      <td>202101-202106</td>\n      <td>강원도</td>\n      <td>홍천군</td>\n      <td>일반용</td>\n      <td>8500</td>\n      <td>127883631</td>\n    </tr>\n    <tr>\n      <th>124</th>\n      <td>202101-202106</td>\n      <td>강원도</td>\n      <td>화천군</td>\n      <td>합계</td>\n      <td>4654</td>\n      <td>140072398</td>\n    </tr>\n    <tr>\n      <th>124</th>\n      <td>202101-202106</td>\n      <td>강원도</td>\n      <td>화천군</td>\n      <td>일반용</td>\n      <td>3312</td>\n      <td>64991535</td>\n    </tr>\n    <tr>\n      <th>125</th>\n      <td>202101-202106</td>\n      <td>강원도</td>\n      <td>횡성군</td>\n      <td>일반용</td>\n      <td>5307</td>\n      <td>62672342</td>\n    </tr>\n    <tr>\n      <th>125</th>\n      <td>202101-202106</td>\n      <td>강원도</td>\n      <td>횡성군</td>\n      <td>합계</td>\n      <td>10005</td>\n      <td>343721138</td>\n    </tr>\n  </tbody>\n</table>\n</div>"
     },
     "execution_count": 51,
     "metadata": {},
     "output_type": "execute_result"
    }
   ],
   "source": [
    "Final = pd.concat([GyeonGiHap2 , Hap])\n",
    "Final = Final.sort_values('시군구')\n",
    "Final"
   ],
   "metadata": {
    "collapsed": false,
    "pycharm": {
     "name": "#%%\n"
    }
   }
  },
  {
   "cell_type": "code",
   "execution_count": 52,
   "outputs": [
    {
     "data": {
      "text/plain": "[300071441,\n 77602419,\n 104606047,\n 82646211,\n 213960177,\n 43189859,\n 72250790,\n 45451521,\n 410175048,\n 78320064,\n 94141931,\n 86313871,\n 410292322,\n 50598918,\n 119131079,\n 127883631,\n 64991535,\n 62672342]"
     },
     "execution_count": 52,
     "metadata": {},
     "output_type": "execute_result"
    }
   ],
   "source": [
    "# Final['일반용 전기의 비율'] = (Final['사용량(kWh)'].loc[Final['계약구분'] == '일반용']) // (Final['사용량(kWh)'].loc[Final['계약구분'] == '합계'])\n",
    "# Final\n",
    "ex = (Final['사용량(kWh)'].loc[Final['계약구분'] == '일반용']).tolist()\n",
    "\n",
    "\n",
    "ex\n"
   ],
   "metadata": {
    "collapsed": false,
    "pycharm": {
     "name": "#%%\n"
    }
   }
  },
  {
   "cell_type": "code",
   "execution_count": 53,
   "outputs": [
    {
     "data": {
      "text/plain": "[975233899,\n 173267534,\n 1061512308,\n 721993952,\n 346573706,\n 111500571,\n 162973370,\n 566497755,\n 1296223979,\n 183214652,\n 297174891,\n 272238098,\n 928399383,\n 162020283,\n 335900055,\n 386364996,\n 140072398,\n 343721138]"
     },
     "execution_count": 53,
     "metadata": {},
     "output_type": "execute_result"
    }
   ],
   "source": [
    "ex_2 =(Final['사용량(kWh)'].loc[Final['계약구분'] == '합계']).tolist()\n",
    "ex_2"
   ],
   "metadata": {
    "collapsed": false,
    "pycharm": {
     "name": "#%%\n"
    }
   }
  },
  {
   "cell_type": "code",
   "execution_count": 54,
   "outputs": [
    {
     "name": "stdout",
     "output_type": "stream",
     "text": [
      "[30.77, 44.79, 9.85, 11.45, 61.74, 38.74, 44.33, 8.02, 31.64, 42.75, 31.68, 31.71, 44.19, 31.23, 35.47, 33.1, 46.4, 18.23]\n"
     ]
    }
   ],
   "source": [
    "Rate = []\n",
    "ilban = []\n",
    "rae = 0\n",
    "for i in range(len(ex)):\n",
    "    rae = round(ex[i] / ex_2[i] *100 ,2)\n",
    "    Rate.append(rae)\n",
    "print(Rate)"
   ],
   "metadata": {
    "collapsed": false,
    "pycharm": {
     "name": "#%%\n"
    }
   }
  },
  {
   "cell_type": "code",
   "execution_count": 55,
   "outputs": [
    {
     "data": {
      "text/plain": "0    31\n1    45\n2    10\n3    11\n4    62\n5    39\n6    44\n7     8\n8    32\n9    43\n10   32\n11   32\n12   44\n13   31\n14   35\n15   33\n16   46\n17   18\ndtype: float64"
     },
     "execution_count": 55,
     "metadata": {},
     "output_type": "execute_result"
    }
   ],
   "source": [
    "Rate3 = pd.Series(Rate)\n",
    "Rate3\n",
    "\n",
    "# Final = pd.concat([Final , Rate3])\n",
    "# Final"
   ],
   "metadata": {
    "collapsed": false,
    "pycharm": {
     "name": "#%%\n"
    }
   }
  },
  {
   "cell_type": "code",
   "execution_count": 56,
   "outputs": [
    {
     "data": {
      "text/plain": "    시군구 계약구분  비율\n0   강릉시  일반용  31\n1   고성군  일반용  45\n2   동해시  일반용  10\n3   삼척시  일반용  11\n4   속초시  일반용  62\n5   양구군  일반용  39\n6   양양군  일반용  44\n7   영월군  일반용   8\n8   원주시  일반용  32\n9   인제군  일반용  43\n10  정선군  일반용  32\n11  철원군  일반용  32\n12  춘천시  일반용  44\n13  태백시  일반용  31\n14  평창군  일반용  35\n15  홍천군  일반용  33\n16  화천군  일반용  46\n17  횡성군  일반용  18",
      "text/html": "<div>\n<style scoped>\n    .dataframe tbody tr th:only-of-type {\n        vertical-align: middle;\n    }\n\n    .dataframe tbody tr th {\n        vertical-align: top;\n    }\n\n    .dataframe thead th {\n        text-align: right;\n    }\n</style>\n<table border=\"1\" class=\"dataframe\">\n  <thead>\n    <tr style=\"text-align: right;\">\n      <th></th>\n      <th>시군구</th>\n      <th>계약구분</th>\n      <th>비율</th>\n    </tr>\n  </thead>\n  <tbody>\n    <tr>\n      <th>0</th>\n      <td>강릉시</td>\n      <td>일반용</td>\n      <td>31</td>\n    </tr>\n    <tr>\n      <th>1</th>\n      <td>고성군</td>\n      <td>일반용</td>\n      <td>45</td>\n    </tr>\n    <tr>\n      <th>2</th>\n      <td>동해시</td>\n      <td>일반용</td>\n      <td>10</td>\n    </tr>\n    <tr>\n      <th>3</th>\n      <td>삼척시</td>\n      <td>일반용</td>\n      <td>11</td>\n    </tr>\n    <tr>\n      <th>4</th>\n      <td>속초시</td>\n      <td>일반용</td>\n      <td>62</td>\n    </tr>\n    <tr>\n      <th>5</th>\n      <td>양구군</td>\n      <td>일반용</td>\n      <td>39</td>\n    </tr>\n    <tr>\n      <th>6</th>\n      <td>양양군</td>\n      <td>일반용</td>\n      <td>44</td>\n    </tr>\n    <tr>\n      <th>7</th>\n      <td>영월군</td>\n      <td>일반용</td>\n      <td>8</td>\n    </tr>\n    <tr>\n      <th>8</th>\n      <td>원주시</td>\n      <td>일반용</td>\n      <td>32</td>\n    </tr>\n    <tr>\n      <th>9</th>\n      <td>인제군</td>\n      <td>일반용</td>\n      <td>43</td>\n    </tr>\n    <tr>\n      <th>10</th>\n      <td>정선군</td>\n      <td>일반용</td>\n      <td>32</td>\n    </tr>\n    <tr>\n      <th>11</th>\n      <td>철원군</td>\n      <td>일반용</td>\n      <td>32</td>\n    </tr>\n    <tr>\n      <th>12</th>\n      <td>춘천시</td>\n      <td>일반용</td>\n      <td>44</td>\n    </tr>\n    <tr>\n      <th>13</th>\n      <td>태백시</td>\n      <td>일반용</td>\n      <td>31</td>\n    </tr>\n    <tr>\n      <th>14</th>\n      <td>평창군</td>\n      <td>일반용</td>\n      <td>35</td>\n    </tr>\n    <tr>\n      <th>15</th>\n      <td>홍천군</td>\n      <td>일반용</td>\n      <td>33</td>\n    </tr>\n    <tr>\n      <th>16</th>\n      <td>화천군</td>\n      <td>일반용</td>\n      <td>46</td>\n    </tr>\n    <tr>\n      <th>17</th>\n      <td>횡성군</td>\n      <td>일반용</td>\n      <td>18</td>\n    </tr>\n  </tbody>\n</table>\n</div>"
     },
     "execution_count": 56,
     "metadata": {},
     "output_type": "execute_result"
    }
   ],
   "source": [
    "for j in range(len(Rate)):\n",
    "    ilban.append('일반용')\n",
    "#print(Rate)\n",
    "\n",
    "Rate2 = pd.DataFrame()\n",
    "Rate2['시군구'] = pd.DataFrame(SIGUNGU)\n",
    "Rate2['계약구분'] = pd.DataFrame(ilban)\n",
    "Rate2['비율'] = pd.DataFrame(Rate)\n",
    "Rate2\n",
    "#print(Rate2.dtypes)"
   ],
   "metadata": {
    "collapsed": false,
    "pycharm": {
     "name": "#%%\n"
    }
   }
  },
  {
   "cell_type": "code",
   "execution_count": 57,
   "outputs": [
    {
     "data": {
      "text/plain": "               년월   시구  시군구 계약구분 고객호수(호)    사용량(kWh)  비율\n0   202101-202106  강원도  강릉시  일반용   21279   300071441  31\n1   202101-202106  강원도  강릉시   합계   23442   975233899 NaN\n2   202101-202106  강원도  고성군  일반용    4496    77602419  45\n3   202101-202106  강원도  고성군   합계    5194   173267534 NaN\n4   202101-202106  강원도  동해시  일반용    7602   104606047  10\n5   202101-202106  강원도  동해시   합계    8391  1061512308 NaN\n7   202101-202106  강원도  삼척시  일반용    7123    82646211  11\n6   202101-202106  강원도  삼척시   합계    9700   721993952 NaN\n9   202101-202106  강원도  속초시  일반용    8658   213960177  62\n8   202101-202106  강원도  속초시   합계    7004   346573706 NaN\n10  202101-202106  강원도  양구군  일반용    2801    43189859  39\n11  202101-202106  강원도  양구군   합계    4224   111500571 NaN\n13  202101-202106  강원도  양양군  일반용    4497    72250790  44\n12  202101-202106  강원도  양양군   합계    5473   162973370 NaN\n14  202101-202106  강원도  영월군  일반용    4253    45451521   8\n15  202101-202106  강원도  영월군   합계    7190   566497755 NaN\n16  202101-202106  강원도  원주시  일반용   26997   410175048  32\n17  202101-202106  강원도  원주시   합계   28399  1296223979 NaN\n18  202101-202106  강원도  인제군  일반용    4845    78320064  43\n19  202101-202106  강원도  인제군   합계    6318   183214652 NaN\n21  202101-202106  강원도  정선군  일반용    5073    94141931  32\n20  202101-202106  강원도  정선군   합계    6958   297174891 NaN\n23  202101-202106  강원도  철원군  일반용    5013    86313871  32\n22  202101-202106  강원도  철원군   합계    7544   272238098 NaN\n24  202101-202106  강원도  춘천시  일반용   21900   410292322  44\n25  202101-202106  강원도  춘천시   합계   25213   928399383 NaN\n27  202101-202106  강원도  태백시  일반용    4359    50598918  31\n26  202101-202106  강원도  태백시   합계    4701   162020283 NaN\n29  202101-202106  강원도  평창군  일반용    6750   119131079  35\n28  202101-202106  강원도  평창군   합계    9437   335900055 NaN\n31  202101-202106  강원도  홍천군  일반용    8500   127883631  33\n30  202101-202106  강원도  홍천군   합계   13240   386364996 NaN\n33  202101-202106  강원도  화천군  일반용    3312    64991535  46\n32  202101-202106  강원도  화천군   합계    4654   140072398 NaN\n34  202101-202106  강원도  횡성군  일반용    5307    62672342  18\n35  202101-202106  강원도  횡성군   합계   10005   343721138 NaN",
      "text/html": "<div>\n<style scoped>\n    .dataframe tbody tr th:only-of-type {\n        vertical-align: middle;\n    }\n\n    .dataframe tbody tr th {\n        vertical-align: top;\n    }\n\n    .dataframe thead th {\n        text-align: right;\n    }\n</style>\n<table border=\"1\" class=\"dataframe\">\n  <thead>\n    <tr style=\"text-align: right;\">\n      <th></th>\n      <th>년월</th>\n      <th>시구</th>\n      <th>시군구</th>\n      <th>계약구분</th>\n      <th>고객호수(호)</th>\n      <th>사용량(kWh)</th>\n      <th>비율</th>\n    </tr>\n  </thead>\n  <tbody>\n    <tr>\n      <th>0</th>\n      <td>202101-202106</td>\n      <td>강원도</td>\n      <td>강릉시</td>\n      <td>일반용</td>\n      <td>21279</td>\n      <td>300071441</td>\n      <td>31</td>\n    </tr>\n    <tr>\n      <th>1</th>\n      <td>202101-202106</td>\n      <td>강원도</td>\n      <td>강릉시</td>\n      <td>합계</td>\n      <td>23442</td>\n      <td>975233899</td>\n      <td>NaN</td>\n    </tr>\n    <tr>\n      <th>2</th>\n      <td>202101-202106</td>\n      <td>강원도</td>\n      <td>고성군</td>\n      <td>일반용</td>\n      <td>4496</td>\n      <td>77602419</td>\n      <td>45</td>\n    </tr>\n    <tr>\n      <th>3</th>\n      <td>202101-202106</td>\n      <td>강원도</td>\n      <td>고성군</td>\n      <td>합계</td>\n      <td>5194</td>\n      <td>173267534</td>\n      <td>NaN</td>\n    </tr>\n    <tr>\n      <th>4</th>\n      <td>202101-202106</td>\n      <td>강원도</td>\n      <td>동해시</td>\n      <td>일반용</td>\n      <td>7602</td>\n      <td>104606047</td>\n      <td>10</td>\n    </tr>\n    <tr>\n      <th>5</th>\n      <td>202101-202106</td>\n      <td>강원도</td>\n      <td>동해시</td>\n      <td>합계</td>\n      <td>8391</td>\n      <td>1061512308</td>\n      <td>NaN</td>\n    </tr>\n    <tr>\n      <th>7</th>\n      <td>202101-202106</td>\n      <td>강원도</td>\n      <td>삼척시</td>\n      <td>일반용</td>\n      <td>7123</td>\n      <td>82646211</td>\n      <td>11</td>\n    </tr>\n    <tr>\n      <th>6</th>\n      <td>202101-202106</td>\n      <td>강원도</td>\n      <td>삼척시</td>\n      <td>합계</td>\n      <td>9700</td>\n      <td>721993952</td>\n      <td>NaN</td>\n    </tr>\n    <tr>\n      <th>9</th>\n      <td>202101-202106</td>\n      <td>강원도</td>\n      <td>속초시</td>\n      <td>일반용</td>\n      <td>8658</td>\n      <td>213960177</td>\n      <td>62</td>\n    </tr>\n    <tr>\n      <th>8</th>\n      <td>202101-202106</td>\n      <td>강원도</td>\n      <td>속초시</td>\n      <td>합계</td>\n      <td>7004</td>\n      <td>346573706</td>\n      <td>NaN</td>\n    </tr>\n    <tr>\n      <th>10</th>\n      <td>202101-202106</td>\n      <td>강원도</td>\n      <td>양구군</td>\n      <td>일반용</td>\n      <td>2801</td>\n      <td>43189859</td>\n      <td>39</td>\n    </tr>\n    <tr>\n      <th>11</th>\n      <td>202101-202106</td>\n      <td>강원도</td>\n      <td>양구군</td>\n      <td>합계</td>\n      <td>4224</td>\n      <td>111500571</td>\n      <td>NaN</td>\n    </tr>\n    <tr>\n      <th>13</th>\n      <td>202101-202106</td>\n      <td>강원도</td>\n      <td>양양군</td>\n      <td>일반용</td>\n      <td>4497</td>\n      <td>72250790</td>\n      <td>44</td>\n    </tr>\n    <tr>\n      <th>12</th>\n      <td>202101-202106</td>\n      <td>강원도</td>\n      <td>양양군</td>\n      <td>합계</td>\n      <td>5473</td>\n      <td>162973370</td>\n      <td>NaN</td>\n    </tr>\n    <tr>\n      <th>14</th>\n      <td>202101-202106</td>\n      <td>강원도</td>\n      <td>영월군</td>\n      <td>일반용</td>\n      <td>4253</td>\n      <td>45451521</td>\n      <td>8</td>\n    </tr>\n    <tr>\n      <th>15</th>\n      <td>202101-202106</td>\n      <td>강원도</td>\n      <td>영월군</td>\n      <td>합계</td>\n      <td>7190</td>\n      <td>566497755</td>\n      <td>NaN</td>\n    </tr>\n    <tr>\n      <th>16</th>\n      <td>202101-202106</td>\n      <td>강원도</td>\n      <td>원주시</td>\n      <td>일반용</td>\n      <td>26997</td>\n      <td>410175048</td>\n      <td>32</td>\n    </tr>\n    <tr>\n      <th>17</th>\n      <td>202101-202106</td>\n      <td>강원도</td>\n      <td>원주시</td>\n      <td>합계</td>\n      <td>28399</td>\n      <td>1296223979</td>\n      <td>NaN</td>\n    </tr>\n    <tr>\n      <th>18</th>\n      <td>202101-202106</td>\n      <td>강원도</td>\n      <td>인제군</td>\n      <td>일반용</td>\n      <td>4845</td>\n      <td>78320064</td>\n      <td>43</td>\n    </tr>\n    <tr>\n      <th>19</th>\n      <td>202101-202106</td>\n      <td>강원도</td>\n      <td>인제군</td>\n      <td>합계</td>\n      <td>6318</td>\n      <td>183214652</td>\n      <td>NaN</td>\n    </tr>\n    <tr>\n      <th>21</th>\n      <td>202101-202106</td>\n      <td>강원도</td>\n      <td>정선군</td>\n      <td>일반용</td>\n      <td>5073</td>\n      <td>94141931</td>\n      <td>32</td>\n    </tr>\n    <tr>\n      <th>20</th>\n      <td>202101-202106</td>\n      <td>강원도</td>\n      <td>정선군</td>\n      <td>합계</td>\n      <td>6958</td>\n      <td>297174891</td>\n      <td>NaN</td>\n    </tr>\n    <tr>\n      <th>23</th>\n      <td>202101-202106</td>\n      <td>강원도</td>\n      <td>철원군</td>\n      <td>일반용</td>\n      <td>5013</td>\n      <td>86313871</td>\n      <td>32</td>\n    </tr>\n    <tr>\n      <th>22</th>\n      <td>202101-202106</td>\n      <td>강원도</td>\n      <td>철원군</td>\n      <td>합계</td>\n      <td>7544</td>\n      <td>272238098</td>\n      <td>NaN</td>\n    </tr>\n    <tr>\n      <th>24</th>\n      <td>202101-202106</td>\n      <td>강원도</td>\n      <td>춘천시</td>\n      <td>일반용</td>\n      <td>21900</td>\n      <td>410292322</td>\n      <td>44</td>\n    </tr>\n    <tr>\n      <th>25</th>\n      <td>202101-202106</td>\n      <td>강원도</td>\n      <td>춘천시</td>\n      <td>합계</td>\n      <td>25213</td>\n      <td>928399383</td>\n      <td>NaN</td>\n    </tr>\n    <tr>\n      <th>27</th>\n      <td>202101-202106</td>\n      <td>강원도</td>\n      <td>태백시</td>\n      <td>일반용</td>\n      <td>4359</td>\n      <td>50598918</td>\n      <td>31</td>\n    </tr>\n    <tr>\n      <th>26</th>\n      <td>202101-202106</td>\n      <td>강원도</td>\n      <td>태백시</td>\n      <td>합계</td>\n      <td>4701</td>\n      <td>162020283</td>\n      <td>NaN</td>\n    </tr>\n    <tr>\n      <th>29</th>\n      <td>202101-202106</td>\n      <td>강원도</td>\n      <td>평창군</td>\n      <td>일반용</td>\n      <td>6750</td>\n      <td>119131079</td>\n      <td>35</td>\n    </tr>\n    <tr>\n      <th>28</th>\n      <td>202101-202106</td>\n      <td>강원도</td>\n      <td>평창군</td>\n      <td>합계</td>\n      <td>9437</td>\n      <td>335900055</td>\n      <td>NaN</td>\n    </tr>\n    <tr>\n      <th>31</th>\n      <td>202101-202106</td>\n      <td>강원도</td>\n      <td>홍천군</td>\n      <td>일반용</td>\n      <td>8500</td>\n      <td>127883631</td>\n      <td>33</td>\n    </tr>\n    <tr>\n      <th>30</th>\n      <td>202101-202106</td>\n      <td>강원도</td>\n      <td>홍천군</td>\n      <td>합계</td>\n      <td>13240</td>\n      <td>386364996</td>\n      <td>NaN</td>\n    </tr>\n    <tr>\n      <th>33</th>\n      <td>202101-202106</td>\n      <td>강원도</td>\n      <td>화천군</td>\n      <td>일반용</td>\n      <td>3312</td>\n      <td>64991535</td>\n      <td>46</td>\n    </tr>\n    <tr>\n      <th>32</th>\n      <td>202101-202106</td>\n      <td>강원도</td>\n      <td>화천군</td>\n      <td>합계</td>\n      <td>4654</td>\n      <td>140072398</td>\n      <td>NaN</td>\n    </tr>\n    <tr>\n      <th>34</th>\n      <td>202101-202106</td>\n      <td>강원도</td>\n      <td>횡성군</td>\n      <td>일반용</td>\n      <td>5307</td>\n      <td>62672342</td>\n      <td>18</td>\n    </tr>\n    <tr>\n      <th>35</th>\n      <td>202101-202106</td>\n      <td>강원도</td>\n      <td>횡성군</td>\n      <td>합계</td>\n      <td>10005</td>\n      <td>343721138</td>\n      <td>NaN</td>\n    </tr>\n  </tbody>\n</table>\n</div>"
     },
     "execution_count": 57,
     "metadata": {},
     "output_type": "execute_result"
    }
   ],
   "source": [
    "Final = pd.merge(Final , Rate2, on=['시군구', '계약구분'] , how='left')\n",
    "\n",
    "#Final.drop(['비율_y]' , axis = 1 , inplace = True)\n",
    "#Final.rename(columns={'비율_y':'전체 계약종별 전력사용량 대비 일반용 사용량 비율'})\n",
    "Final = Final.sort_values(['시군구' , '계약구분'])\n",
    "Final"
   ],
   "metadata": {
    "collapsed": false,
    "pycharm": {
     "name": "#%%\n"
    }
   }
  },
  {
   "cell_type": "code",
   "execution_count": 58,
   "outputs": [],
   "source": [
    "# Final['일반용 전기의 비율'] = Final.append(Rate)\n",
    "# Final"
   ],
   "metadata": {
    "collapsed": false,
    "pycharm": {
     "name": "#%%\n"
    }
   }
  },
  {
   "cell_type": "markdown",
   "source": [
    "### 6. 날짜 체크!!!!!!!!!!!!!!!!!!!!1"
   ],
   "metadata": {
    "collapsed": false,
    "pycharm": {
     "name": "#%% md\n"
    }
   }
  },
  {
   "cell_type": "code",
   "execution_count": 59,
   "outputs": [],
   "source": [
    "Final.to_csv(\"{}_일반용_전력사용량_2101-06.csv\".format(City) , mode = 'w' , encoding= 'cp949' , index =False) #파일명 수정"
   ],
   "metadata": {
    "collapsed": false,
    "pycharm": {
     "name": "#%%\n"
    }
   }
  },
  {
   "cell_type": "code",
   "execution_count": 59,
   "outputs": [],
   "source": [],
   "metadata": {
    "collapsed": false,
    "pycharm": {
     "name": "#%%\n"
    }
   }
  },
  {
   "cell_type": "code",
   "execution_count": 60,
   "outputs": [],
   "source": [
    "# Sigu = list(set(df_3['시군구'].tolist()))\n",
    "#\n",
    "# Sigu.sort()\n",
    "#\n",
    "# Sigu"
   ],
   "metadata": {
    "collapsed": false,
    "pycharm": {
     "name": "#%%\n"
    }
   }
  },
  {
   "cell_type": "code",
   "execution_count": 61,
   "outputs": [],
   "source": [
    "# YearMonth = list(set(df_3['년월'].tolist()))\n",
    "#\n",
    "# YearMonth.sort()\n",
    "# YearMonth"
   ],
   "metadata": {
    "collapsed": false,
    "pycharm": {
     "name": "#%%\n"
    }
   }
  },
  {
   "cell_type": "code",
   "execution_count": 62,
   "outputs": [],
   "source": [
    "# Gayeak = list(set(df_3['계약구분'].tolist()))\n",
    "#\n",
    "# Gayeak.sort()\n",
    "# Gayeak"
   ],
   "metadata": {
    "collapsed": false,
    "pycharm": {
     "name": "#%%\n"
    }
   }
  },
  {
   "cell_type": "code",
   "execution_count": 63,
   "outputs": [],
   "source": [
    "# SEOUL = df_3.loc[(df_3['계약구분'] =='일반용')]\n",
    "# SEOUL.drop(['고객호수(호)' ,'전기요금(원)' , '평균판매단가(원/kWh)'] , axis = 1 , inplace = True)\n",
    "# #SEOUL.dtypes(['사용량(kWh)'])\n",
    "# SEOUL"
   ],
   "metadata": {
    "collapsed": false,
    "pycharm": {
     "name": "#%%\n"
    }
   }
  },
  {
   "cell_type": "code",
   "execution_count": 64,
   "outputs": [],
   "source": [
    "#SEOUL.to_csv(\"서울특별시_일반용_전력사용량.csv\" , mode = 'w' , encoding= 'cp949')"
   ],
   "metadata": {
    "collapsed": false,
    "pycharm": {
     "name": "#%%\n"
    }
   }
  },
  {
   "cell_type": "code",
   "execution_count": 65,
   "outputs": [],
   "source": [
    "# print(SEOUL.dtypes)\n",
    "# SEOUL = SEOUL.astype({'사용량(kWh)' : 'float'})"
   ],
   "metadata": {
    "collapsed": false,
    "pycharm": {
     "name": "#%%\n"
    }
   }
  },
  {
   "cell_type": "code",
   "execution_count": 66,
   "outputs": [],
   "source": [
    "# SEOUL"
   ],
   "metadata": {
    "collapsed": false,
    "pycharm": {
     "name": "#%%\n"
    }
   }
  },
  {
   "cell_type": "code",
   "execution_count": 67,
   "outputs": [],
   "source": [
    "# a = SEOUL['사용량(kWh)'].tolist()\n",
    "# int_list = map(int, a)\n",
    "# b=0\n",
    "# for i in int_list:\n",
    "#     b+=i\n",
    "#\n",
    "# print(b)"
   ],
   "metadata": {
    "collapsed": false,
    "pycharm": {
     "name": "#%%\n"
    }
   }
  },
  {
   "cell_type": "code",
   "execution_count": 67,
   "outputs": [],
   "source": [],
   "metadata": {
    "collapsed": false,
    "pycharm": {
     "name": "#%%\n"
    }
   }
  },
  {
   "cell_type": "code",
   "execution_count": 67,
   "outputs": [],
   "source": [],
   "metadata": {
    "collapsed": false,
    "pycharm": {
     "name": "#%%\n"
    }
   }
  },
  {
   "cell_type": "code",
   "execution_count": 67,
   "outputs": [],
   "source": [],
   "metadata": {
    "collapsed": false,
    "pycharm": {
     "name": "#%%\n"
    }
   }
  },
  {
   "cell_type": "code",
   "execution_count": 67,
   "outputs": [],
   "source": [],
   "metadata": {
    "collapsed": false,
    "pycharm": {
     "name": "#%%\n"
    }
   }
  },
  {
   "cell_type": "code",
   "execution_count": 67,
   "outputs": [],
   "source": [],
   "metadata": {
    "collapsed": false,
    "pycharm": {
     "name": "#%%\n"
    }
   }
  },
  {
   "cell_type": "code",
   "execution_count": 67,
   "outputs": [],
   "source": [],
   "metadata": {
    "collapsed": false,
    "pycharm": {
     "name": "#%%\n"
    }
   }
  },
  {
   "cell_type": "code",
   "execution_count": 67,
   "outputs": [],
   "source": [],
   "metadata": {
    "collapsed": false,
    "pycharm": {
     "name": "#%%\n"
    }
   }
  }
 ],
 "metadata": {
  "kernelspec": {
   "display_name": "Python 3",
   "language": "python",
   "name": "python3"
  },
  "language_info": {
   "codemirror_mode": {
    "name": "ipython",
    "version": 2
   },
   "file_extension": ".py",
   "mimetype": "text/x-python",
   "name": "python",
   "nbconvert_exporter": "python",
   "pygments_lexer": "ipython2",
   "version": "2.7.6"
  }
 },
 "nbformat": 4,
 "nbformat_minor": 0
}