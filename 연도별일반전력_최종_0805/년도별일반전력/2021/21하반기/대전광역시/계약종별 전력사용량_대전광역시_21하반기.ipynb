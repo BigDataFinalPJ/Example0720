{
 "cells": [
  {
   "cell_type": "markdown",
   "source": [],
   "metadata": {
    "collapsed": false,
    "pycharm": {
     "name": "#%% md\n"
    }
   }
  },
  {
   "cell_type": "code",
   "execution_count": 1,
   "outputs": [],
   "source": [
    "import pandas as pd\n",
    "import re\n",
    "\n",
    "pd.options.display.float_format = '{:.0f}'.format"
   ],
   "metadata": {
    "collapsed": false,
    "pycharm": {
     "name": "#%%\n"
    }
   }
  },
  {
   "cell_type": "markdown",
   "source": [
    "### 1. 꼭 read_csv 21상반기, 19하반기와 같이 맞추어 주세요!!! 또한 지역(전라북도, 남도) 맞추기!!!!!"
   ],
   "metadata": {
    "collapsed": false,
    "pycharm": {
     "name": "#%% md\n"
    }
   }
  },
  {
   "cell_type": "code",
   "execution_count": 2,
   "outputs": [
    {
     "data": {
      "text/plain": "        계약종별 전력사용량 월별( 20220804 현재 ) Unnamed: 1     Unnamed: 2 Unnamed: 3  \\\n0    시도 : 대전광역시, 시군구 : 전체(시 / 군 / 구)        NaN            NaN        NaN   \n1        기간 : 2021년 07 월 ~ 2021년 12월        NaN            NaN        NaN   \n2                                 년월         시구            시군구       계약구분   \n3                             202107      대전광역시  전체(시 / 군 / 구)        주택용   \n4                             202107      대전광역시  전체(시 / 군 / 구)        일반용   \n..                               ...        ...            ...        ...   \n283                           202112      대전광역시             중구        산업용   \n284                           202112      대전광역시             중구        심 야   \n285                           202112      대전광역시             중구        일반용   \n286                           202112      대전광역시             중구        주택용   \n287                           202112      대전광역시             중구         합계   \n\n    Unnamed: 4    Unnamed: 5       Unnamed: 6     Unnamed: 7  \n0          NaN           NaN              NaN            NaN  \n1          NaN           NaN              NaN            NaN  \n2      고객호수(호)      사용량(kWh)          전기요금(원)  평균판매단가(원/kWh)  \n3     442,157   184,266,050   18,040,884,902           97.9   \n4      83,360   334,539,009   46,577,660,934          139.2   \n..         ...           ...              ...            ...  \n283       566     2,771,416      367,307,115          132.5   \n284     2,816     4,392,586      331,186,404           75.4   \n285    15,947    42,826,867    5,938,750,574          138.7   \n286    75,488    27,350,965    2,888,001,607          105.6   \n287   103,287    81,523,377    9,943,603,370            122   \n\n[288 rows x 8 columns]",
      "text/html": "<div>\n<style scoped>\n    .dataframe tbody tr th:only-of-type {\n        vertical-align: middle;\n    }\n\n    .dataframe tbody tr th {\n        vertical-align: top;\n    }\n\n    .dataframe thead th {\n        text-align: right;\n    }\n</style>\n<table border=\"1\" class=\"dataframe\">\n  <thead>\n    <tr style=\"text-align: right;\">\n      <th></th>\n      <th>계약종별 전력사용량 월별( 20220804 현재 )</th>\n      <th>Unnamed: 1</th>\n      <th>Unnamed: 2</th>\n      <th>Unnamed: 3</th>\n      <th>Unnamed: 4</th>\n      <th>Unnamed: 5</th>\n      <th>Unnamed: 6</th>\n      <th>Unnamed: 7</th>\n    </tr>\n  </thead>\n  <tbody>\n    <tr>\n      <th>0</th>\n      <td>시도 : 대전광역시, 시군구 : 전체(시 / 군 / 구)</td>\n      <td>NaN</td>\n      <td>NaN</td>\n      <td>NaN</td>\n      <td>NaN</td>\n      <td>NaN</td>\n      <td>NaN</td>\n      <td>NaN</td>\n    </tr>\n    <tr>\n      <th>1</th>\n      <td>기간 : 2021년 07 월 ~ 2021년 12월</td>\n      <td>NaN</td>\n      <td>NaN</td>\n      <td>NaN</td>\n      <td>NaN</td>\n      <td>NaN</td>\n      <td>NaN</td>\n      <td>NaN</td>\n    </tr>\n    <tr>\n      <th>2</th>\n      <td>년월</td>\n      <td>시구</td>\n      <td>시군구</td>\n      <td>계약구분</td>\n      <td>고객호수(호)</td>\n      <td>사용량(kWh)</td>\n      <td>전기요금(원)</td>\n      <td>평균판매단가(원/kWh)</td>\n    </tr>\n    <tr>\n      <th>3</th>\n      <td>202107</td>\n      <td>대전광역시</td>\n      <td>전체(시 / 군 / 구)</td>\n      <td>주택용</td>\n      <td>442,157</td>\n      <td>184,266,050</td>\n      <td>18,040,884,902</td>\n      <td>97.9</td>\n    </tr>\n    <tr>\n      <th>4</th>\n      <td>202107</td>\n      <td>대전광역시</td>\n      <td>전체(시 / 군 / 구)</td>\n      <td>일반용</td>\n      <td>83,360</td>\n      <td>334,539,009</td>\n      <td>46,577,660,934</td>\n      <td>139.2</td>\n    </tr>\n    <tr>\n      <th>...</th>\n      <td>...</td>\n      <td>...</td>\n      <td>...</td>\n      <td>...</td>\n      <td>...</td>\n      <td>...</td>\n      <td>...</td>\n      <td>...</td>\n    </tr>\n    <tr>\n      <th>283</th>\n      <td>202112</td>\n      <td>대전광역시</td>\n      <td>중구</td>\n      <td>산업용</td>\n      <td>566</td>\n      <td>2,771,416</td>\n      <td>367,307,115</td>\n      <td>132.5</td>\n    </tr>\n    <tr>\n      <th>284</th>\n      <td>202112</td>\n      <td>대전광역시</td>\n      <td>중구</td>\n      <td>심 야</td>\n      <td>2,816</td>\n      <td>4,392,586</td>\n      <td>331,186,404</td>\n      <td>75.4</td>\n    </tr>\n    <tr>\n      <th>285</th>\n      <td>202112</td>\n      <td>대전광역시</td>\n      <td>중구</td>\n      <td>일반용</td>\n      <td>15,947</td>\n      <td>42,826,867</td>\n      <td>5,938,750,574</td>\n      <td>138.7</td>\n    </tr>\n    <tr>\n      <th>286</th>\n      <td>202112</td>\n      <td>대전광역시</td>\n      <td>중구</td>\n      <td>주택용</td>\n      <td>75,488</td>\n      <td>27,350,965</td>\n      <td>2,888,001,607</td>\n      <td>105.6</td>\n    </tr>\n    <tr>\n      <th>287</th>\n      <td>202112</td>\n      <td>대전광역시</td>\n      <td>중구</td>\n      <td>합계</td>\n      <td>103,287</td>\n      <td>81,523,377</td>\n      <td>9,943,603,370</td>\n      <td>122</td>\n    </tr>\n  </tbody>\n</table>\n<p>288 rows × 8 columns</p>\n</div>"
     },
     "execution_count": 2,
     "metadata": {},
     "output_type": "execute_result"
    }
   ],
   "source": [
    "df = pd.read_csv('대전광역시_계약종별_전력사용량_월별_21하반기.csv' , encoding='cp949')\n",
    "\n",
    "df\n",
    "#exchng=  pd.read_csv('지역별_전력거래량_20220803093050.csv' , encoding='cp949')"
   ],
   "metadata": {
    "collapsed": false,
    "pycharm": {
     "name": "#%%\n"
    }
   }
  },
  {
   "cell_type": "code",
   "execution_count": 3,
   "outputs": [
    {
     "data": {
      "text/plain": "    계약종별 전력사용량 월별( 20220804 현재 ) Unnamed: 1     Unnamed: 2 Unnamed: 3  \\\n2                             년월         시구            시군구       계약구분   \n3                         202107      대전광역시  전체(시 / 군 / 구)        주택용   \n4                         202107      대전광역시  전체(시 / 군 / 구)        일반용   \n5                         202107      대전광역시  전체(시 / 군 / 구)        교육용   \n6                         202107      대전광역시  전체(시 / 군 / 구)        산업용   \n..                           ...        ...            ...        ...   \n283                       202112      대전광역시             중구        산업용   \n284                       202112      대전광역시             중구        심 야   \n285                       202112      대전광역시             중구        일반용   \n286                       202112      대전광역시             중구        주택용   \n287                       202112      대전광역시             중구         합계   \n\n    Unnamed: 4    Unnamed: 5       Unnamed: 6     Unnamed: 7  \n2      고객호수(호)      사용량(kWh)          전기요금(원)  평균판매단가(원/kWh)  \n3     442,157   184,266,050   18,040,884,902           97.9   \n4      83,360   334,539,009   46,577,660,934          139.2   \n5         611    35,304,331    3,920,832,556          111.1   \n6       5,582   291,487,606   34,881,736,538          119.7   \n..         ...           ...              ...            ...  \n283       566     2,771,416      367,307,115          132.5   \n284     2,816     4,392,586      331,186,404           75.4   \n285    15,947    42,826,867    5,938,750,574          138.7   \n286    75,488    27,350,965    2,888,001,607          105.6   \n287   103,287    81,523,377    9,943,603,370            122   \n\n[285 rows x 8 columns]",
      "text/html": "<div>\n<style scoped>\n    .dataframe tbody tr th:only-of-type {\n        vertical-align: middle;\n    }\n\n    .dataframe tbody tr th {\n        vertical-align: top;\n    }\n\n    .dataframe thead th {\n        text-align: right;\n    }\n</style>\n<table border=\"1\" class=\"dataframe\">\n  <thead>\n    <tr style=\"text-align: right;\">\n      <th></th>\n      <th>계약종별 전력사용량 월별( 20220804 현재 )</th>\n      <th>Unnamed: 1</th>\n      <th>Unnamed: 2</th>\n      <th>Unnamed: 3</th>\n      <th>Unnamed: 4</th>\n      <th>Unnamed: 5</th>\n      <th>Unnamed: 6</th>\n      <th>Unnamed: 7</th>\n    </tr>\n  </thead>\n  <tbody>\n    <tr>\n      <th>2</th>\n      <td>년월</td>\n      <td>시구</td>\n      <td>시군구</td>\n      <td>계약구분</td>\n      <td>고객호수(호)</td>\n      <td>사용량(kWh)</td>\n      <td>전기요금(원)</td>\n      <td>평균판매단가(원/kWh)</td>\n    </tr>\n    <tr>\n      <th>3</th>\n      <td>202107</td>\n      <td>대전광역시</td>\n      <td>전체(시 / 군 / 구)</td>\n      <td>주택용</td>\n      <td>442,157</td>\n      <td>184,266,050</td>\n      <td>18,040,884,902</td>\n      <td>97.9</td>\n    </tr>\n    <tr>\n      <th>4</th>\n      <td>202107</td>\n      <td>대전광역시</td>\n      <td>전체(시 / 군 / 구)</td>\n      <td>일반용</td>\n      <td>83,360</td>\n      <td>334,539,009</td>\n      <td>46,577,660,934</td>\n      <td>139.2</td>\n    </tr>\n    <tr>\n      <th>5</th>\n      <td>202107</td>\n      <td>대전광역시</td>\n      <td>전체(시 / 군 / 구)</td>\n      <td>교육용</td>\n      <td>611</td>\n      <td>35,304,331</td>\n      <td>3,920,832,556</td>\n      <td>111.1</td>\n    </tr>\n    <tr>\n      <th>6</th>\n      <td>202107</td>\n      <td>대전광역시</td>\n      <td>전체(시 / 군 / 구)</td>\n      <td>산업용</td>\n      <td>5,582</td>\n      <td>291,487,606</td>\n      <td>34,881,736,538</td>\n      <td>119.7</td>\n    </tr>\n    <tr>\n      <th>...</th>\n      <td>...</td>\n      <td>...</td>\n      <td>...</td>\n      <td>...</td>\n      <td>...</td>\n      <td>...</td>\n      <td>...</td>\n      <td>...</td>\n    </tr>\n    <tr>\n      <th>283</th>\n      <td>202112</td>\n      <td>대전광역시</td>\n      <td>중구</td>\n      <td>산업용</td>\n      <td>566</td>\n      <td>2,771,416</td>\n      <td>367,307,115</td>\n      <td>132.5</td>\n    </tr>\n    <tr>\n      <th>284</th>\n      <td>202112</td>\n      <td>대전광역시</td>\n      <td>중구</td>\n      <td>심 야</td>\n      <td>2,816</td>\n      <td>4,392,586</td>\n      <td>331,186,404</td>\n      <td>75.4</td>\n    </tr>\n    <tr>\n      <th>285</th>\n      <td>202112</td>\n      <td>대전광역시</td>\n      <td>중구</td>\n      <td>일반용</td>\n      <td>15,947</td>\n      <td>42,826,867</td>\n      <td>5,938,750,574</td>\n      <td>138.7</td>\n    </tr>\n    <tr>\n      <th>286</th>\n      <td>202112</td>\n      <td>대전광역시</td>\n      <td>중구</td>\n      <td>주택용</td>\n      <td>75,488</td>\n      <td>27,350,965</td>\n      <td>2,888,001,607</td>\n      <td>105.6</td>\n    </tr>\n    <tr>\n      <th>287</th>\n      <td>202112</td>\n      <td>대전광역시</td>\n      <td>중구</td>\n      <td>합계</td>\n      <td>103,287</td>\n      <td>81,523,377</td>\n      <td>9,943,603,370</td>\n      <td>122</td>\n    </tr>\n  </tbody>\n</table>\n<p>285 rows × 8 columns</p>\n</div>"
     },
     "execution_count": 3,
     "metadata": {},
     "output_type": "execute_result"
    }
   ],
   "source": [
    "df = df.drop([0,1 , 46] , axis = 0)\n",
    "#0,1 , 10은 지우는게 맞다\n",
    "df"
   ],
   "metadata": {
    "collapsed": false,
    "pycharm": {
     "name": "#%%\n"
    }
   }
  },
  {
   "cell_type": "code",
   "execution_count": 4,
   "outputs": [],
   "source": [
    "a= df.loc[2].tolist()\n",
    "a\n",
    "df = df.drop([2] , axis = 0)"
   ],
   "metadata": {
    "collapsed": false,
    "pycharm": {
     "name": "#%%\n"
    }
   }
  },
  {
   "cell_type": "code",
   "execution_count": 5,
   "outputs": [
    {
     "data": {
      "text/plain": "         년월     시구            시군구 계약구분   고객호수(호)      사용량(kWh)  \\\n3    202107  대전광역시  전체(시 / 군 / 구)  주택용  442,157   184,266,050    \n4    202107  대전광역시  전체(시 / 군 / 구)  일반용   83,360   334,539,009    \n5    202107  대전광역시  전체(시 / 군 / 구)  교육용      611    35,304,331    \n6    202107  대전광역시  전체(시 / 군 / 구)  산업용    5,582   291,487,606    \n7    202107  대전광역시  전체(시 / 군 / 구)  농사용    8,182     2,646,926    \n..      ...    ...            ...  ...       ...           ...   \n283  202112  대전광역시             중구  산업용      566     2,771,416    \n284  202112  대전광역시             중구  심 야    2,816     4,392,586    \n285  202112  대전광역시             중구  일반용   15,947    42,826,867    \n286  202112  대전광역시             중구  주택용   75,488    27,350,965    \n287  202112  대전광역시             중구   합계  103,287    81,523,377    \n\n             전기요금(원) 평균판매단가(원/kWh)  \n3    18,040,884,902          97.9   \n4    46,577,660,934         139.2   \n5     3,920,832,556         111.1   \n6    34,881,736,538         119.7   \n7       141,352,697          53.4   \n..               ...           ...  \n283     367,307,115         132.5   \n284     331,186,404          75.4   \n285   5,938,750,574         138.7   \n286   2,888,001,607         105.6   \n287   9,943,603,370           122   \n\n[284 rows x 8 columns]",
      "text/html": "<div>\n<style scoped>\n    .dataframe tbody tr th:only-of-type {\n        vertical-align: middle;\n    }\n\n    .dataframe tbody tr th {\n        vertical-align: top;\n    }\n\n    .dataframe thead th {\n        text-align: right;\n    }\n</style>\n<table border=\"1\" class=\"dataframe\">\n  <thead>\n    <tr style=\"text-align: right;\">\n      <th></th>\n      <th>년월</th>\n      <th>시구</th>\n      <th>시군구</th>\n      <th>계약구분</th>\n      <th>고객호수(호)</th>\n      <th>사용량(kWh)</th>\n      <th>전기요금(원)</th>\n      <th>평균판매단가(원/kWh)</th>\n    </tr>\n  </thead>\n  <tbody>\n    <tr>\n      <th>3</th>\n      <td>202107</td>\n      <td>대전광역시</td>\n      <td>전체(시 / 군 / 구)</td>\n      <td>주택용</td>\n      <td>442,157</td>\n      <td>184,266,050</td>\n      <td>18,040,884,902</td>\n      <td>97.9</td>\n    </tr>\n    <tr>\n      <th>4</th>\n      <td>202107</td>\n      <td>대전광역시</td>\n      <td>전체(시 / 군 / 구)</td>\n      <td>일반용</td>\n      <td>83,360</td>\n      <td>334,539,009</td>\n      <td>46,577,660,934</td>\n      <td>139.2</td>\n    </tr>\n    <tr>\n      <th>5</th>\n      <td>202107</td>\n      <td>대전광역시</td>\n      <td>전체(시 / 군 / 구)</td>\n      <td>교육용</td>\n      <td>611</td>\n      <td>35,304,331</td>\n      <td>3,920,832,556</td>\n      <td>111.1</td>\n    </tr>\n    <tr>\n      <th>6</th>\n      <td>202107</td>\n      <td>대전광역시</td>\n      <td>전체(시 / 군 / 구)</td>\n      <td>산업용</td>\n      <td>5,582</td>\n      <td>291,487,606</td>\n      <td>34,881,736,538</td>\n      <td>119.7</td>\n    </tr>\n    <tr>\n      <th>7</th>\n      <td>202107</td>\n      <td>대전광역시</td>\n      <td>전체(시 / 군 / 구)</td>\n      <td>농사용</td>\n      <td>8,182</td>\n      <td>2,646,926</td>\n      <td>141,352,697</td>\n      <td>53.4</td>\n    </tr>\n    <tr>\n      <th>...</th>\n      <td>...</td>\n      <td>...</td>\n      <td>...</td>\n      <td>...</td>\n      <td>...</td>\n      <td>...</td>\n      <td>...</td>\n      <td>...</td>\n    </tr>\n    <tr>\n      <th>283</th>\n      <td>202112</td>\n      <td>대전광역시</td>\n      <td>중구</td>\n      <td>산업용</td>\n      <td>566</td>\n      <td>2,771,416</td>\n      <td>367,307,115</td>\n      <td>132.5</td>\n    </tr>\n    <tr>\n      <th>284</th>\n      <td>202112</td>\n      <td>대전광역시</td>\n      <td>중구</td>\n      <td>심 야</td>\n      <td>2,816</td>\n      <td>4,392,586</td>\n      <td>331,186,404</td>\n      <td>75.4</td>\n    </tr>\n    <tr>\n      <th>285</th>\n      <td>202112</td>\n      <td>대전광역시</td>\n      <td>중구</td>\n      <td>일반용</td>\n      <td>15,947</td>\n      <td>42,826,867</td>\n      <td>5,938,750,574</td>\n      <td>138.7</td>\n    </tr>\n    <tr>\n      <th>286</th>\n      <td>202112</td>\n      <td>대전광역시</td>\n      <td>중구</td>\n      <td>주택용</td>\n      <td>75,488</td>\n      <td>27,350,965</td>\n      <td>2,888,001,607</td>\n      <td>105.6</td>\n    </tr>\n    <tr>\n      <th>287</th>\n      <td>202112</td>\n      <td>대전광역시</td>\n      <td>중구</td>\n      <td>합계</td>\n      <td>103,287</td>\n      <td>81,523,377</td>\n      <td>9,943,603,370</td>\n      <td>122</td>\n    </tr>\n  </tbody>\n</table>\n<p>284 rows × 8 columns</p>\n</div>"
     },
     "execution_count": 5,
     "metadata": {},
     "output_type": "execute_result"
    }
   ],
   "source": [
    "df.columns = a\n",
    "df"
   ],
   "metadata": {
    "collapsed": false,
    "pycharm": {
     "name": "#%%\n"
    }
   }
  },
  {
   "cell_type": "code",
   "execution_count": 6,
   "outputs": [
    {
     "data": {
      "text/plain": "        년월     시구            시군구 계약구분    고객호수(호)       사용량(kWh)  \\\n3   202107  대전광역시  전체(시 / 군 / 구)  주택용   442,157    184,266,050    \n4   202107  대전광역시  전체(시 / 군 / 구)  일반용    83,360    334,539,009    \n5   202107  대전광역시  전체(시 / 군 / 구)  교육용       611     35,304,331    \n6   202107  대전광역시  전체(시 / 군 / 구)  산업용     5,582    291,487,606    \n7   202107  대전광역시  전체(시 / 군 / 구)  농사용     8,182      2,646,926    \n8   202107  대전광역시  전체(시 / 군 / 구)  가로등    38,897      5,305,261    \n9   202107  대전광역시  전체(시 / 군 / 구)  심 야    14,267      8,887,805    \n10  202108  대전광역시  전체(시 / 군 / 구)  주택용   441,679    256,634,576    \n11  202108  대전광역시  전체(시 / 군 / 구)  일반용    83,503    370,279,974    \n12  202108  대전광역시  전체(시 / 군 / 구)  교육용       611     33,615,279    \n13  202108  대전광역시  전체(시 / 군 / 구)  산업용     5,585    286,585,035    \n14  202108  대전광역시  전체(시 / 군 / 구)  농사용     8,236      4,207,107    \n15  202108  대전광역시  전체(시 / 군 / 구)  가로등    38,976      5,585,553    \n16  202108  대전광역시  전체(시 / 군 / 구)  심 야    14,181      8,874,058    \n17  202109  대전광역시  전체(시 / 군 / 구)  주택용   441,849    199,100,527    \n18  202109  대전광역시  전체(시 / 군 / 구)  일반용    83,576    317,203,234    \n19  202109  대전광역시  전체(시 / 군 / 구)  교육용       610     31,110,438    \n20  202109  대전광역시  전체(시 / 군 / 구)  산업용     5,598    266,495,596    \n21  202109  대전광역시  전체(시 / 군 / 구)  농사용     8,285      3,761,461    \n22  202109  대전광역시  전체(시 / 군 / 구)  가로등    38,945      5,823,032    \n23  202109  대전광역시  전체(시 / 군 / 구)  심 야    14,080      7,351,732    \n24  202110  대전광역시  전체(시 / 군 / 구)  주택용   441,883    164,946,341    \n25  202110  대전광역시  전체(시 / 군 / 구)  일반용    83,701    282,294,603    \n26  202110  대전광역시  전체(시 / 군 / 구)  교육용       609     28,255,282    \n27  202110  대전광역시  전체(시 / 군 / 구)  산업용     5,612    263,624,982    \n28  202110  대전광역시  전체(시 / 군 / 구)  농사용     8,310      2,879,713    \n29  202110  대전광역시  전체(시 / 군 / 구)  가로등    38,972      6,151,152    \n30  202110  대전광역시  전체(시 / 군 / 구)  심 야    14,017      6,206,334    \n31  202111  대전광역시  전체(시 / 군 / 구)  주택용   442,293    168,821,437    \n32  202111  대전광역시  전체(시 / 군 / 구)  일반용    83,863    279,699,187    \n33  202111  대전광역시  전체(시 / 군 / 구)  교육용       612     30,569,809    \n34  202111  대전광역시  전체(시 / 군 / 구)  산업용     5,602    252,746,315    \n35  202111  대전광역시  전체(시 / 군 / 구)  농사용     9,633      3,682,478    \n36  202111  대전광역시  전체(시 / 군 / 구)  가로등    38,999      6,668,041    \n37  202111  대전광역시  전체(시 / 군 / 구)  심 야    13,973     11,624,230    \n38  202112  대전광역시  전체(시 / 군 / 구)  주택용   442,444    173,924,001    \n39  202112  대전광역시  전체(시 / 군 / 구)  일반용    84,227    314,143,105    \n40  202112  대전광역시  전체(시 / 군 / 구)  교육용       611     40,446,081    \n41  202112  대전광역시  전체(시 / 군 / 구)  산업용     5,606    257,392,248    \n42  202112  대전광역시  전체(시 / 군 / 구)  농사용     8,353      3,429,094    \n43  202112  대전광역시  전체(시 / 군 / 구)  가로등    39,124      6,804,700    \n44  202112  대전광역시  전체(시 / 군 / 구)  심 야    13,921     18,340,491    \n45      합계     합계             합계   합계  3,561,135  4,981,714,214   \n\n            전기요금(원) 평균판매단가(원/kWh)  \n3   18,040,884,902          97.9   \n4   46,577,660,934         139.2   \n5    3,920,832,556         111.1   \n6   34,881,736,538         119.7   \n7      141,352,697          53.4   \n8      631,817,635         119.1   \n9      553,553,270          62.3   \n10  28,895,330,807         112.6   \n11  50,091,993,908         135.3   \n12   3,751,380,146         111.6   \n13  33,652,013,928         117.4   \n14     200,825,652          47.7   \n15     647,846,142         116.0   \n16     568,163,253          64.0   \n17  19,506,310,890          98.0   \n18  38,459,791,815         121.2   \n19   2,947,051,388          94.7   \n20  25,593,312,715          96.0   \n21     185,066,992          49.2   \n22     662,074,106         113.7   \n23     449,810,999          61.2   \n24  16,591,271,776         100.6   \n25  31,486,254,299         111.5   \n26   2,490,548,005          88.1   \n27  24,965,912,129          94.7   \n28     160,115,255          55.6   \n29     697,151,151         113.3   \n30     385,672,030          62.1   \n31  17,323,743,371         102.6   \n32  36,026,504,108         128.8   \n33   3,154,029,639         103.2   \n34  30,314,694,625         119.9   \n35     175,102,899          47.6   \n36     739,070,014         110.8   \n37     761,269,721          65.5   \n38  18,169,102,796         104.5   \n39  42,618,378,787         135.7   \n40   4,028,609,881          99.6   \n41  31,242,298,646         121.4   \n42     181,769,773          53.0   \n43     741,632,282         109.0   \n44   1,388,478,027          75.7   \n45  574,000,420,487         115.2  ",
      "text/html": "<div>\n<style scoped>\n    .dataframe tbody tr th:only-of-type {\n        vertical-align: middle;\n    }\n\n    .dataframe tbody tr th {\n        vertical-align: top;\n    }\n\n    .dataframe thead th {\n        text-align: right;\n    }\n</style>\n<table border=\"1\" class=\"dataframe\">\n  <thead>\n    <tr style=\"text-align: right;\">\n      <th></th>\n      <th>년월</th>\n      <th>시구</th>\n      <th>시군구</th>\n      <th>계약구분</th>\n      <th>고객호수(호)</th>\n      <th>사용량(kWh)</th>\n      <th>전기요금(원)</th>\n      <th>평균판매단가(원/kWh)</th>\n    </tr>\n  </thead>\n  <tbody>\n    <tr>\n      <th>3</th>\n      <td>202107</td>\n      <td>대전광역시</td>\n      <td>전체(시 / 군 / 구)</td>\n      <td>주택용</td>\n      <td>442,157</td>\n      <td>184,266,050</td>\n      <td>18,040,884,902</td>\n      <td>97.9</td>\n    </tr>\n    <tr>\n      <th>4</th>\n      <td>202107</td>\n      <td>대전광역시</td>\n      <td>전체(시 / 군 / 구)</td>\n      <td>일반용</td>\n      <td>83,360</td>\n      <td>334,539,009</td>\n      <td>46,577,660,934</td>\n      <td>139.2</td>\n    </tr>\n    <tr>\n      <th>5</th>\n      <td>202107</td>\n      <td>대전광역시</td>\n      <td>전체(시 / 군 / 구)</td>\n      <td>교육용</td>\n      <td>611</td>\n      <td>35,304,331</td>\n      <td>3,920,832,556</td>\n      <td>111.1</td>\n    </tr>\n    <tr>\n      <th>6</th>\n      <td>202107</td>\n      <td>대전광역시</td>\n      <td>전체(시 / 군 / 구)</td>\n      <td>산업용</td>\n      <td>5,582</td>\n      <td>291,487,606</td>\n      <td>34,881,736,538</td>\n      <td>119.7</td>\n    </tr>\n    <tr>\n      <th>7</th>\n      <td>202107</td>\n      <td>대전광역시</td>\n      <td>전체(시 / 군 / 구)</td>\n      <td>농사용</td>\n      <td>8,182</td>\n      <td>2,646,926</td>\n      <td>141,352,697</td>\n      <td>53.4</td>\n    </tr>\n    <tr>\n      <th>8</th>\n      <td>202107</td>\n      <td>대전광역시</td>\n      <td>전체(시 / 군 / 구)</td>\n      <td>가로등</td>\n      <td>38,897</td>\n      <td>5,305,261</td>\n      <td>631,817,635</td>\n      <td>119.1</td>\n    </tr>\n    <tr>\n      <th>9</th>\n      <td>202107</td>\n      <td>대전광역시</td>\n      <td>전체(시 / 군 / 구)</td>\n      <td>심 야</td>\n      <td>14,267</td>\n      <td>8,887,805</td>\n      <td>553,553,270</td>\n      <td>62.3</td>\n    </tr>\n    <tr>\n      <th>10</th>\n      <td>202108</td>\n      <td>대전광역시</td>\n      <td>전체(시 / 군 / 구)</td>\n      <td>주택용</td>\n      <td>441,679</td>\n      <td>256,634,576</td>\n      <td>28,895,330,807</td>\n      <td>112.6</td>\n    </tr>\n    <tr>\n      <th>11</th>\n      <td>202108</td>\n      <td>대전광역시</td>\n      <td>전체(시 / 군 / 구)</td>\n      <td>일반용</td>\n      <td>83,503</td>\n      <td>370,279,974</td>\n      <td>50,091,993,908</td>\n      <td>135.3</td>\n    </tr>\n    <tr>\n      <th>12</th>\n      <td>202108</td>\n      <td>대전광역시</td>\n      <td>전체(시 / 군 / 구)</td>\n      <td>교육용</td>\n      <td>611</td>\n      <td>33,615,279</td>\n      <td>3,751,380,146</td>\n      <td>111.6</td>\n    </tr>\n    <tr>\n      <th>13</th>\n      <td>202108</td>\n      <td>대전광역시</td>\n      <td>전체(시 / 군 / 구)</td>\n      <td>산업용</td>\n      <td>5,585</td>\n      <td>286,585,035</td>\n      <td>33,652,013,928</td>\n      <td>117.4</td>\n    </tr>\n    <tr>\n      <th>14</th>\n      <td>202108</td>\n      <td>대전광역시</td>\n      <td>전체(시 / 군 / 구)</td>\n      <td>농사용</td>\n      <td>8,236</td>\n      <td>4,207,107</td>\n      <td>200,825,652</td>\n      <td>47.7</td>\n    </tr>\n    <tr>\n      <th>15</th>\n      <td>202108</td>\n      <td>대전광역시</td>\n      <td>전체(시 / 군 / 구)</td>\n      <td>가로등</td>\n      <td>38,976</td>\n      <td>5,585,553</td>\n      <td>647,846,142</td>\n      <td>116.0</td>\n    </tr>\n    <tr>\n      <th>16</th>\n      <td>202108</td>\n      <td>대전광역시</td>\n      <td>전체(시 / 군 / 구)</td>\n      <td>심 야</td>\n      <td>14,181</td>\n      <td>8,874,058</td>\n      <td>568,163,253</td>\n      <td>64.0</td>\n    </tr>\n    <tr>\n      <th>17</th>\n      <td>202109</td>\n      <td>대전광역시</td>\n      <td>전체(시 / 군 / 구)</td>\n      <td>주택용</td>\n      <td>441,849</td>\n      <td>199,100,527</td>\n      <td>19,506,310,890</td>\n      <td>98.0</td>\n    </tr>\n    <tr>\n      <th>18</th>\n      <td>202109</td>\n      <td>대전광역시</td>\n      <td>전체(시 / 군 / 구)</td>\n      <td>일반용</td>\n      <td>83,576</td>\n      <td>317,203,234</td>\n      <td>38,459,791,815</td>\n      <td>121.2</td>\n    </tr>\n    <tr>\n      <th>19</th>\n      <td>202109</td>\n      <td>대전광역시</td>\n      <td>전체(시 / 군 / 구)</td>\n      <td>교육용</td>\n      <td>610</td>\n      <td>31,110,438</td>\n      <td>2,947,051,388</td>\n      <td>94.7</td>\n    </tr>\n    <tr>\n      <th>20</th>\n      <td>202109</td>\n      <td>대전광역시</td>\n      <td>전체(시 / 군 / 구)</td>\n      <td>산업용</td>\n      <td>5,598</td>\n      <td>266,495,596</td>\n      <td>25,593,312,715</td>\n      <td>96.0</td>\n    </tr>\n    <tr>\n      <th>21</th>\n      <td>202109</td>\n      <td>대전광역시</td>\n      <td>전체(시 / 군 / 구)</td>\n      <td>농사용</td>\n      <td>8,285</td>\n      <td>3,761,461</td>\n      <td>185,066,992</td>\n      <td>49.2</td>\n    </tr>\n    <tr>\n      <th>22</th>\n      <td>202109</td>\n      <td>대전광역시</td>\n      <td>전체(시 / 군 / 구)</td>\n      <td>가로등</td>\n      <td>38,945</td>\n      <td>5,823,032</td>\n      <td>662,074,106</td>\n      <td>113.7</td>\n    </tr>\n    <tr>\n      <th>23</th>\n      <td>202109</td>\n      <td>대전광역시</td>\n      <td>전체(시 / 군 / 구)</td>\n      <td>심 야</td>\n      <td>14,080</td>\n      <td>7,351,732</td>\n      <td>449,810,999</td>\n      <td>61.2</td>\n    </tr>\n    <tr>\n      <th>24</th>\n      <td>202110</td>\n      <td>대전광역시</td>\n      <td>전체(시 / 군 / 구)</td>\n      <td>주택용</td>\n      <td>441,883</td>\n      <td>164,946,341</td>\n      <td>16,591,271,776</td>\n      <td>100.6</td>\n    </tr>\n    <tr>\n      <th>25</th>\n      <td>202110</td>\n      <td>대전광역시</td>\n      <td>전체(시 / 군 / 구)</td>\n      <td>일반용</td>\n      <td>83,701</td>\n      <td>282,294,603</td>\n      <td>31,486,254,299</td>\n      <td>111.5</td>\n    </tr>\n    <tr>\n      <th>26</th>\n      <td>202110</td>\n      <td>대전광역시</td>\n      <td>전체(시 / 군 / 구)</td>\n      <td>교육용</td>\n      <td>609</td>\n      <td>28,255,282</td>\n      <td>2,490,548,005</td>\n      <td>88.1</td>\n    </tr>\n    <tr>\n      <th>27</th>\n      <td>202110</td>\n      <td>대전광역시</td>\n      <td>전체(시 / 군 / 구)</td>\n      <td>산업용</td>\n      <td>5,612</td>\n      <td>263,624,982</td>\n      <td>24,965,912,129</td>\n      <td>94.7</td>\n    </tr>\n    <tr>\n      <th>28</th>\n      <td>202110</td>\n      <td>대전광역시</td>\n      <td>전체(시 / 군 / 구)</td>\n      <td>농사용</td>\n      <td>8,310</td>\n      <td>2,879,713</td>\n      <td>160,115,255</td>\n      <td>55.6</td>\n    </tr>\n    <tr>\n      <th>29</th>\n      <td>202110</td>\n      <td>대전광역시</td>\n      <td>전체(시 / 군 / 구)</td>\n      <td>가로등</td>\n      <td>38,972</td>\n      <td>6,151,152</td>\n      <td>697,151,151</td>\n      <td>113.3</td>\n    </tr>\n    <tr>\n      <th>30</th>\n      <td>202110</td>\n      <td>대전광역시</td>\n      <td>전체(시 / 군 / 구)</td>\n      <td>심 야</td>\n      <td>14,017</td>\n      <td>6,206,334</td>\n      <td>385,672,030</td>\n      <td>62.1</td>\n    </tr>\n    <tr>\n      <th>31</th>\n      <td>202111</td>\n      <td>대전광역시</td>\n      <td>전체(시 / 군 / 구)</td>\n      <td>주택용</td>\n      <td>442,293</td>\n      <td>168,821,437</td>\n      <td>17,323,743,371</td>\n      <td>102.6</td>\n    </tr>\n    <tr>\n      <th>32</th>\n      <td>202111</td>\n      <td>대전광역시</td>\n      <td>전체(시 / 군 / 구)</td>\n      <td>일반용</td>\n      <td>83,863</td>\n      <td>279,699,187</td>\n      <td>36,026,504,108</td>\n      <td>128.8</td>\n    </tr>\n    <tr>\n      <th>33</th>\n      <td>202111</td>\n      <td>대전광역시</td>\n      <td>전체(시 / 군 / 구)</td>\n      <td>교육용</td>\n      <td>612</td>\n      <td>30,569,809</td>\n      <td>3,154,029,639</td>\n      <td>103.2</td>\n    </tr>\n    <tr>\n      <th>34</th>\n      <td>202111</td>\n      <td>대전광역시</td>\n      <td>전체(시 / 군 / 구)</td>\n      <td>산업용</td>\n      <td>5,602</td>\n      <td>252,746,315</td>\n      <td>30,314,694,625</td>\n      <td>119.9</td>\n    </tr>\n    <tr>\n      <th>35</th>\n      <td>202111</td>\n      <td>대전광역시</td>\n      <td>전체(시 / 군 / 구)</td>\n      <td>농사용</td>\n      <td>9,633</td>\n      <td>3,682,478</td>\n      <td>175,102,899</td>\n      <td>47.6</td>\n    </tr>\n    <tr>\n      <th>36</th>\n      <td>202111</td>\n      <td>대전광역시</td>\n      <td>전체(시 / 군 / 구)</td>\n      <td>가로등</td>\n      <td>38,999</td>\n      <td>6,668,041</td>\n      <td>739,070,014</td>\n      <td>110.8</td>\n    </tr>\n    <tr>\n      <th>37</th>\n      <td>202111</td>\n      <td>대전광역시</td>\n      <td>전체(시 / 군 / 구)</td>\n      <td>심 야</td>\n      <td>13,973</td>\n      <td>11,624,230</td>\n      <td>761,269,721</td>\n      <td>65.5</td>\n    </tr>\n    <tr>\n      <th>38</th>\n      <td>202112</td>\n      <td>대전광역시</td>\n      <td>전체(시 / 군 / 구)</td>\n      <td>주택용</td>\n      <td>442,444</td>\n      <td>173,924,001</td>\n      <td>18,169,102,796</td>\n      <td>104.5</td>\n    </tr>\n    <tr>\n      <th>39</th>\n      <td>202112</td>\n      <td>대전광역시</td>\n      <td>전체(시 / 군 / 구)</td>\n      <td>일반용</td>\n      <td>84,227</td>\n      <td>314,143,105</td>\n      <td>42,618,378,787</td>\n      <td>135.7</td>\n    </tr>\n    <tr>\n      <th>40</th>\n      <td>202112</td>\n      <td>대전광역시</td>\n      <td>전체(시 / 군 / 구)</td>\n      <td>교육용</td>\n      <td>611</td>\n      <td>40,446,081</td>\n      <td>4,028,609,881</td>\n      <td>99.6</td>\n    </tr>\n    <tr>\n      <th>41</th>\n      <td>202112</td>\n      <td>대전광역시</td>\n      <td>전체(시 / 군 / 구)</td>\n      <td>산업용</td>\n      <td>5,606</td>\n      <td>257,392,248</td>\n      <td>31,242,298,646</td>\n      <td>121.4</td>\n    </tr>\n    <tr>\n      <th>42</th>\n      <td>202112</td>\n      <td>대전광역시</td>\n      <td>전체(시 / 군 / 구)</td>\n      <td>농사용</td>\n      <td>8,353</td>\n      <td>3,429,094</td>\n      <td>181,769,773</td>\n      <td>53.0</td>\n    </tr>\n    <tr>\n      <th>43</th>\n      <td>202112</td>\n      <td>대전광역시</td>\n      <td>전체(시 / 군 / 구)</td>\n      <td>가로등</td>\n      <td>39,124</td>\n      <td>6,804,700</td>\n      <td>741,632,282</td>\n      <td>109.0</td>\n    </tr>\n    <tr>\n      <th>44</th>\n      <td>202112</td>\n      <td>대전광역시</td>\n      <td>전체(시 / 군 / 구)</td>\n      <td>심 야</td>\n      <td>13,921</td>\n      <td>18,340,491</td>\n      <td>1,388,478,027</td>\n      <td>75.7</td>\n    </tr>\n    <tr>\n      <th>45</th>\n      <td>합계</td>\n      <td>합계</td>\n      <td>합계</td>\n      <td>합계</td>\n      <td>3,561,135</td>\n      <td>4,981,714,214</td>\n      <td>574,000,420,487</td>\n      <td>115.2</td>\n    </tr>\n  </tbody>\n</table>\n</div>"
     },
     "execution_count": 6,
     "metadata": {},
     "output_type": "execute_result"
    }
   ],
   "source": [
    "df_2 = df.loc[:45]\n",
    "df_2\n"
   ],
   "metadata": {
    "collapsed": false,
    "pycharm": {
     "name": "#%%\n"
    }
   }
  },
  {
   "cell_type": "code",
   "execution_count": 7,
   "outputs": [
    {
     "name": "stderr",
     "output_type": "stream",
     "text": [
      "C:\\Users\\user\\AppData\\Local\\Temp\\ipykernel_8116\\3551721261.py:3: SettingWithCopyWarning: \n",
      "A value is trying to be set on a copy of a slice from a DataFrame\n",
      "\n",
      "See the caveats in the documentation: https://pandas.pydata.org/pandas-docs/stable/user_guide/indexing.html#returning-a-view-versus-a-copy\n",
      "  GyeonGi.drop(['시군구' , '전기요금(원)' , '평균판매단가(원/kWh)'] , axis = 1 , inplace = True)\n"
     ]
    },
    {
     "data": {
      "text/plain": "        년월     시구 계약구분  고객호수(호)      사용량(kWh)\n4   202107  대전광역시  일반용  83,360   334,539,009 \n11  202108  대전광역시  일반용  83,503   370,279,974 \n18  202109  대전광역시  일반용  83,576   317,203,234 \n25  202110  대전광역시  일반용  83,701   282,294,603 \n32  202111  대전광역시  일반용  83,863   279,699,187 \n39  202112  대전광역시  일반용  84,227   314,143,105 ",
      "text/html": "<div>\n<style scoped>\n    .dataframe tbody tr th:only-of-type {\n        vertical-align: middle;\n    }\n\n    .dataframe tbody tr th {\n        vertical-align: top;\n    }\n\n    .dataframe thead th {\n        text-align: right;\n    }\n</style>\n<table border=\"1\" class=\"dataframe\">\n  <thead>\n    <tr style=\"text-align: right;\">\n      <th></th>\n      <th>년월</th>\n      <th>시구</th>\n      <th>계약구분</th>\n      <th>고객호수(호)</th>\n      <th>사용량(kWh)</th>\n    </tr>\n  </thead>\n  <tbody>\n    <tr>\n      <th>4</th>\n      <td>202107</td>\n      <td>대전광역시</td>\n      <td>일반용</td>\n      <td>83,360</td>\n      <td>334,539,009</td>\n    </tr>\n    <tr>\n      <th>11</th>\n      <td>202108</td>\n      <td>대전광역시</td>\n      <td>일반용</td>\n      <td>83,503</td>\n      <td>370,279,974</td>\n    </tr>\n    <tr>\n      <th>18</th>\n      <td>202109</td>\n      <td>대전광역시</td>\n      <td>일반용</td>\n      <td>83,576</td>\n      <td>317,203,234</td>\n    </tr>\n    <tr>\n      <th>25</th>\n      <td>202110</td>\n      <td>대전광역시</td>\n      <td>일반용</td>\n      <td>83,701</td>\n      <td>282,294,603</td>\n    </tr>\n    <tr>\n      <th>32</th>\n      <td>202111</td>\n      <td>대전광역시</td>\n      <td>일반용</td>\n      <td>83,863</td>\n      <td>279,699,187</td>\n    </tr>\n    <tr>\n      <th>39</th>\n      <td>202112</td>\n      <td>대전광역시</td>\n      <td>일반용</td>\n      <td>84,227</td>\n      <td>314,143,105</td>\n    </tr>\n  </tbody>\n</table>\n</div>"
     },
     "execution_count": 7,
     "metadata": {},
     "output_type": "execute_result"
    }
   ],
   "source": [
    "GyeonGi  = df_2.loc[(df_2['계약구분'] == '일반용')]\n",
    "#SEOUL = df_3.loc[(df_3['계약구분'] =='일반용')]\n",
    "GyeonGi.drop(['시군구' , '전기요금(원)' , '평균판매단가(원/kWh)'] , axis = 1 , inplace = True)\n",
    "GyeonGi"
   ],
   "metadata": {
    "collapsed": false,
    "pycharm": {
     "name": "#%%\n"
    }
   }
  },
  {
   "cell_type": "code",
   "execution_count": 8,
   "outputs": [],
   "source": [
    "#SEOUL1.to_csv(\"서울특별시_계약종별_전국_전력사용량_2022.csv\" , mode = 'w' , encoding= 'cp949')"
   ],
   "metadata": {
    "collapsed": false,
    "pycharm": {
     "name": "#%%\n"
    }
   }
  },
  {
   "cell_type": "code",
   "execution_count": 9,
   "outputs": [],
   "source": [
    "#df_2.to_csv(\"서울특별시_계약종별_전국_전력사용량.csv\" , mode = 'w' , encoding= 'cp949')"
   ],
   "metadata": {
    "collapsed": false,
    "pycharm": {
     "name": "#%%\n"
    }
   }
  },
  {
   "cell_type": "code",
   "execution_count": 10,
   "outputs": [
    {
     "data": {
      "text/plain": "         년월     시구  시군구 계약구분  고객호수(호)      사용량(kWh)\n53   202107  대전광역시  대덕구  일반용  12,365    32,988,770 \n93   202108  대전광역시  대덕구  일반용  12,391    37,682,312 \n133  202109  대전광역시  대덕구  일반용  12,395    32,241,893 \n173  202110  대전광역시  대덕구  일반용  12,392    28,140,135 \n213  202111  대전광역시  대덕구  일반용  12,407    28,637,636 \n253  202112  대전광역시  대덕구  일반용  12,506    32,178,880 \n61   202107  대전광역시   동구  일반용  14,827    34,344,221 \n101  202108  대전광역시   동구  일반용  14,830    39,909,414 \n141  202109  대전광역시   동구  일반용  14,846    33,846,778 \n181  202110  대전광역시   동구  일반용  14,822    29,627,371 \n221  202111  대전광역시   동구  일반용  14,852    29,569,799 \n261  202112  대전광역시   동구  일반용  14,874    33,459,240 \n69   202107  대전광역시   서구  일반용  22,503    94,161,505 \n109  202108  대전광역시   서구  일반용  22,559   105,121,142 \n149  202109  대전광역시   서구  일반용  22,573    89,600,037 \n189  202110  대전광역시   서구  일반용  22,605    78,640,880 \n229  202111  대전광역시   서구  일반용  22,665    77,010,049 \n269  202112  대전광역시   서구  일반용  22,779    86,882,137 \n77   202107  대전광역시  유성구  일반용  17,729   126,179,075 \n117  202108  대전광역시  유성구  일반용  17,779   135,277,195 \n157  202109  대전광역시  유성구  일반용  17,823   117,035,731 \n197  202110  대전광역시  유성구  일반용  17,969   107,133,798 \n237  202111  대전광역시  유성구  일반용  18,031   106,389,061 \n277  202112  대전광역시  유성구  일반용  18,121   118,795,981 \n85   202107  대전광역시   중구  일반용  15,936    46,865,438 \n125  202108  대전광역시   중구  일반용  15,944    52,289,911 \n165  202109  대전광역시   중구  일반용  15,939    44,478,795 \n205  202110  대전광역시   중구  일반용  15,913    38,752,419 \n245  202111  대전광역시   중구  일반용  15,908    38,092,642 \n285  202112  대전광역시   중구  일반용  15,947    42,826,867 ",
      "text/html": "<div>\n<style scoped>\n    .dataframe tbody tr th:only-of-type {\n        vertical-align: middle;\n    }\n\n    .dataframe tbody tr th {\n        vertical-align: top;\n    }\n\n    .dataframe thead th {\n        text-align: right;\n    }\n</style>\n<table border=\"1\" class=\"dataframe\">\n  <thead>\n    <tr style=\"text-align: right;\">\n      <th></th>\n      <th>년월</th>\n      <th>시구</th>\n      <th>시군구</th>\n      <th>계약구분</th>\n      <th>고객호수(호)</th>\n      <th>사용량(kWh)</th>\n    </tr>\n  </thead>\n  <tbody>\n    <tr>\n      <th>53</th>\n      <td>202107</td>\n      <td>대전광역시</td>\n      <td>대덕구</td>\n      <td>일반용</td>\n      <td>12,365</td>\n      <td>32,988,770</td>\n    </tr>\n    <tr>\n      <th>93</th>\n      <td>202108</td>\n      <td>대전광역시</td>\n      <td>대덕구</td>\n      <td>일반용</td>\n      <td>12,391</td>\n      <td>37,682,312</td>\n    </tr>\n    <tr>\n      <th>133</th>\n      <td>202109</td>\n      <td>대전광역시</td>\n      <td>대덕구</td>\n      <td>일반용</td>\n      <td>12,395</td>\n      <td>32,241,893</td>\n    </tr>\n    <tr>\n      <th>173</th>\n      <td>202110</td>\n      <td>대전광역시</td>\n      <td>대덕구</td>\n      <td>일반용</td>\n      <td>12,392</td>\n      <td>28,140,135</td>\n    </tr>\n    <tr>\n      <th>213</th>\n      <td>202111</td>\n      <td>대전광역시</td>\n      <td>대덕구</td>\n      <td>일반용</td>\n      <td>12,407</td>\n      <td>28,637,636</td>\n    </tr>\n    <tr>\n      <th>253</th>\n      <td>202112</td>\n      <td>대전광역시</td>\n      <td>대덕구</td>\n      <td>일반용</td>\n      <td>12,506</td>\n      <td>32,178,880</td>\n    </tr>\n    <tr>\n      <th>61</th>\n      <td>202107</td>\n      <td>대전광역시</td>\n      <td>동구</td>\n      <td>일반용</td>\n      <td>14,827</td>\n      <td>34,344,221</td>\n    </tr>\n    <tr>\n      <th>101</th>\n      <td>202108</td>\n      <td>대전광역시</td>\n      <td>동구</td>\n      <td>일반용</td>\n      <td>14,830</td>\n      <td>39,909,414</td>\n    </tr>\n    <tr>\n      <th>141</th>\n      <td>202109</td>\n      <td>대전광역시</td>\n      <td>동구</td>\n      <td>일반용</td>\n      <td>14,846</td>\n      <td>33,846,778</td>\n    </tr>\n    <tr>\n      <th>181</th>\n      <td>202110</td>\n      <td>대전광역시</td>\n      <td>동구</td>\n      <td>일반용</td>\n      <td>14,822</td>\n      <td>29,627,371</td>\n    </tr>\n    <tr>\n      <th>221</th>\n      <td>202111</td>\n      <td>대전광역시</td>\n      <td>동구</td>\n      <td>일반용</td>\n      <td>14,852</td>\n      <td>29,569,799</td>\n    </tr>\n    <tr>\n      <th>261</th>\n      <td>202112</td>\n      <td>대전광역시</td>\n      <td>동구</td>\n      <td>일반용</td>\n      <td>14,874</td>\n      <td>33,459,240</td>\n    </tr>\n    <tr>\n      <th>69</th>\n      <td>202107</td>\n      <td>대전광역시</td>\n      <td>서구</td>\n      <td>일반용</td>\n      <td>22,503</td>\n      <td>94,161,505</td>\n    </tr>\n    <tr>\n      <th>109</th>\n      <td>202108</td>\n      <td>대전광역시</td>\n      <td>서구</td>\n      <td>일반용</td>\n      <td>22,559</td>\n      <td>105,121,142</td>\n    </tr>\n    <tr>\n      <th>149</th>\n      <td>202109</td>\n      <td>대전광역시</td>\n      <td>서구</td>\n      <td>일반용</td>\n      <td>22,573</td>\n      <td>89,600,037</td>\n    </tr>\n    <tr>\n      <th>189</th>\n      <td>202110</td>\n      <td>대전광역시</td>\n      <td>서구</td>\n      <td>일반용</td>\n      <td>22,605</td>\n      <td>78,640,880</td>\n    </tr>\n    <tr>\n      <th>229</th>\n      <td>202111</td>\n      <td>대전광역시</td>\n      <td>서구</td>\n      <td>일반용</td>\n      <td>22,665</td>\n      <td>77,010,049</td>\n    </tr>\n    <tr>\n      <th>269</th>\n      <td>202112</td>\n      <td>대전광역시</td>\n      <td>서구</td>\n      <td>일반용</td>\n      <td>22,779</td>\n      <td>86,882,137</td>\n    </tr>\n    <tr>\n      <th>77</th>\n      <td>202107</td>\n      <td>대전광역시</td>\n      <td>유성구</td>\n      <td>일반용</td>\n      <td>17,729</td>\n      <td>126,179,075</td>\n    </tr>\n    <tr>\n      <th>117</th>\n      <td>202108</td>\n      <td>대전광역시</td>\n      <td>유성구</td>\n      <td>일반용</td>\n      <td>17,779</td>\n      <td>135,277,195</td>\n    </tr>\n    <tr>\n      <th>157</th>\n      <td>202109</td>\n      <td>대전광역시</td>\n      <td>유성구</td>\n      <td>일반용</td>\n      <td>17,823</td>\n      <td>117,035,731</td>\n    </tr>\n    <tr>\n      <th>197</th>\n      <td>202110</td>\n      <td>대전광역시</td>\n      <td>유성구</td>\n      <td>일반용</td>\n      <td>17,969</td>\n      <td>107,133,798</td>\n    </tr>\n    <tr>\n      <th>237</th>\n      <td>202111</td>\n      <td>대전광역시</td>\n      <td>유성구</td>\n      <td>일반용</td>\n      <td>18,031</td>\n      <td>106,389,061</td>\n    </tr>\n    <tr>\n      <th>277</th>\n      <td>202112</td>\n      <td>대전광역시</td>\n      <td>유성구</td>\n      <td>일반용</td>\n      <td>18,121</td>\n      <td>118,795,981</td>\n    </tr>\n    <tr>\n      <th>85</th>\n      <td>202107</td>\n      <td>대전광역시</td>\n      <td>중구</td>\n      <td>일반용</td>\n      <td>15,936</td>\n      <td>46,865,438</td>\n    </tr>\n    <tr>\n      <th>125</th>\n      <td>202108</td>\n      <td>대전광역시</td>\n      <td>중구</td>\n      <td>일반용</td>\n      <td>15,944</td>\n      <td>52,289,911</td>\n    </tr>\n    <tr>\n      <th>165</th>\n      <td>202109</td>\n      <td>대전광역시</td>\n      <td>중구</td>\n      <td>일반용</td>\n      <td>15,939</td>\n      <td>44,478,795</td>\n    </tr>\n    <tr>\n      <th>205</th>\n      <td>202110</td>\n      <td>대전광역시</td>\n      <td>중구</td>\n      <td>일반용</td>\n      <td>15,913</td>\n      <td>38,752,419</td>\n    </tr>\n    <tr>\n      <th>245</th>\n      <td>202111</td>\n      <td>대전광역시</td>\n      <td>중구</td>\n      <td>일반용</td>\n      <td>15,908</td>\n      <td>38,092,642</td>\n    </tr>\n    <tr>\n      <th>285</th>\n      <td>202112</td>\n      <td>대전광역시</td>\n      <td>중구</td>\n      <td>일반용</td>\n      <td>15,947</td>\n      <td>42,826,867</td>\n    </tr>\n  </tbody>\n</table>\n</div>"
     },
     "execution_count": 10,
     "metadata": {},
     "output_type": "execute_result"
    }
   ],
   "source": [
    "df_3 = df.loc[48:]\n",
    "df_3 = df_3.loc[(df_3['계약구분'] == '일반용')]\n",
    "df_3 = df_3.sort_values(by=['시군구' , '년월'])\n",
    "df_3.drop(['전기요금(원)',   '평균판매단가(원/kWh)'] , axis = 1 , inplace = True)\n",
    "df_3"
   ],
   "metadata": {
    "collapsed": false,
    "pycharm": {
     "name": "#%%\n"
    }
   }
  },
  {
   "cell_type": "code",
   "execution_count": 11,
   "outputs": [
    {
     "data": {
      "text/plain": "'대전광역시'"
     },
     "execution_count": 11,
     "metadata": {},
     "output_type": "execute_result"
    }
   ],
   "source": [
    "a = df_3.loc[: , \"시구\"]\n",
    "b = a[:1].tolist()\n",
    "for i in b:\n",
    "    City = i\n",
    "City"
   ],
   "metadata": {
    "collapsed": false,
    "pycharm": {
     "name": "#%%\n"
    }
   }
  },
  {
   "cell_type": "code",
   "execution_count": 12,
   "outputs": [
    {
     "data": {
      "text/plain": "['대덕구', '동구', '서구', '유성구', '중구']"
     },
     "execution_count": 12,
     "metadata": {},
     "output_type": "execute_result"
    }
   ],
   "source": [
    "\n",
    "SIGUNGU = list(set(df_3.loc[: , '시군구'].tolist()))\n",
    "SIGUNGU.sort()\n",
    "SIGUNGU"
   ],
   "metadata": {
    "collapsed": false,
    "pycharm": {
     "name": "#%%\n"
    }
   }
  },
  {
   "cell_type": "code",
   "execution_count": 13,
   "outputs": [
    {
     "data": {
      "text/plain": "         년월     시구  시군구 계약구분   고객호수(호)      사용량(kWh)\n55   202107  대전광역시  대덕구   합계   83,726   241,904,102 \n95   202108  대전광역시  대덕구   합계   83,717   250,710,347 \n135  202109  대전광역시  대덕구   합계   83,725   228,878,545 \n175  202110  대전광역시  대덕구   합계   83,807   223,723,802 \n215  202111  대전광역시  대덕구   합계   83,997   218,678,605 \n255  202112  대전광역시  대덕구   합계   84,013   223,052,654 \n63   202107  대전광역시   동구   합계  121,324    75,696,902 \n103  202108  대전광역시   동구   합계  121,289    91,998,889 \n143  202109  대전광역시   동구   합계  121,420    77,025,685 \n183  202110  대전광역시   동구   합계  121,374    67,220,572 \n223  202111  대전광역시   동구   합계  121,641    71,112,080 \n263  202112  대전광역시   동구   합계  121,470    79,671,124 \n71   202107  대전광역시   서구   합계  172,714   165,682,985 \n111  202108  대전광역시   서구   합계  172,675   203,031,386 \n151  202109  대전광역시   서구   합계  172,727   168,228,517 \n191  202110  대전광역시   서구   합계  172,803   143,448,441 \n231  202111  대전광역시   서구   합계  173,479   144,992,577 \n271  202112  대전광역시   서구   합계  173,464   160,113,713 \n79   202107  대전광역시  유성구   합계  111,445   295,463,260 \n119  202108  대전광역시  유성구   합계  111,496   321,177,211 \n159  202109  대전광역시  유성구   합계  111,626   275,585,049 \n199  202110  대전광역시  유성구   합계  111,721   249,133,915 \n239  202111  대전광역시  유성구   합계  112,417   245,980,057 \n279  202112  대전광역시  유성구   합계  112,052   270,118,852 \n87   202107  대전광역시   중구   합계  103,847    83,689,739 \n127  202108  대전광역시   중구   합계  103,594    98,863,749 \n167  202109  대전광역시   중구   합계  103,445    81,128,224 \n207  202110  대전광역시   중구   합계  103,399    70,831,677 \n247  202111  대전광역시   중구   합계  103,441    73,048,178 \n287  202112  대전광역시   중구   합계  103,287    81,523,377 ",
      "text/html": "<div>\n<style scoped>\n    .dataframe tbody tr th:only-of-type {\n        vertical-align: middle;\n    }\n\n    .dataframe tbody tr th {\n        vertical-align: top;\n    }\n\n    .dataframe thead th {\n        text-align: right;\n    }\n</style>\n<table border=\"1\" class=\"dataframe\">\n  <thead>\n    <tr style=\"text-align: right;\">\n      <th></th>\n      <th>년월</th>\n      <th>시구</th>\n      <th>시군구</th>\n      <th>계약구분</th>\n      <th>고객호수(호)</th>\n      <th>사용량(kWh)</th>\n    </tr>\n  </thead>\n  <tbody>\n    <tr>\n      <th>55</th>\n      <td>202107</td>\n      <td>대전광역시</td>\n      <td>대덕구</td>\n      <td>합계</td>\n      <td>83,726</td>\n      <td>241,904,102</td>\n    </tr>\n    <tr>\n      <th>95</th>\n      <td>202108</td>\n      <td>대전광역시</td>\n      <td>대덕구</td>\n      <td>합계</td>\n      <td>83,717</td>\n      <td>250,710,347</td>\n    </tr>\n    <tr>\n      <th>135</th>\n      <td>202109</td>\n      <td>대전광역시</td>\n      <td>대덕구</td>\n      <td>합계</td>\n      <td>83,725</td>\n      <td>228,878,545</td>\n    </tr>\n    <tr>\n      <th>175</th>\n      <td>202110</td>\n      <td>대전광역시</td>\n      <td>대덕구</td>\n      <td>합계</td>\n      <td>83,807</td>\n      <td>223,723,802</td>\n    </tr>\n    <tr>\n      <th>215</th>\n      <td>202111</td>\n      <td>대전광역시</td>\n      <td>대덕구</td>\n      <td>합계</td>\n      <td>83,997</td>\n      <td>218,678,605</td>\n    </tr>\n    <tr>\n      <th>255</th>\n      <td>202112</td>\n      <td>대전광역시</td>\n      <td>대덕구</td>\n      <td>합계</td>\n      <td>84,013</td>\n      <td>223,052,654</td>\n    </tr>\n    <tr>\n      <th>63</th>\n      <td>202107</td>\n      <td>대전광역시</td>\n      <td>동구</td>\n      <td>합계</td>\n      <td>121,324</td>\n      <td>75,696,902</td>\n    </tr>\n    <tr>\n      <th>103</th>\n      <td>202108</td>\n      <td>대전광역시</td>\n      <td>동구</td>\n      <td>합계</td>\n      <td>121,289</td>\n      <td>91,998,889</td>\n    </tr>\n    <tr>\n      <th>143</th>\n      <td>202109</td>\n      <td>대전광역시</td>\n      <td>동구</td>\n      <td>합계</td>\n      <td>121,420</td>\n      <td>77,025,685</td>\n    </tr>\n    <tr>\n      <th>183</th>\n      <td>202110</td>\n      <td>대전광역시</td>\n      <td>동구</td>\n      <td>합계</td>\n      <td>121,374</td>\n      <td>67,220,572</td>\n    </tr>\n    <tr>\n      <th>223</th>\n      <td>202111</td>\n      <td>대전광역시</td>\n      <td>동구</td>\n      <td>합계</td>\n      <td>121,641</td>\n      <td>71,112,080</td>\n    </tr>\n    <tr>\n      <th>263</th>\n      <td>202112</td>\n      <td>대전광역시</td>\n      <td>동구</td>\n      <td>합계</td>\n      <td>121,470</td>\n      <td>79,671,124</td>\n    </tr>\n    <tr>\n      <th>71</th>\n      <td>202107</td>\n      <td>대전광역시</td>\n      <td>서구</td>\n      <td>합계</td>\n      <td>172,714</td>\n      <td>165,682,985</td>\n    </tr>\n    <tr>\n      <th>111</th>\n      <td>202108</td>\n      <td>대전광역시</td>\n      <td>서구</td>\n      <td>합계</td>\n      <td>172,675</td>\n      <td>203,031,386</td>\n    </tr>\n    <tr>\n      <th>151</th>\n      <td>202109</td>\n      <td>대전광역시</td>\n      <td>서구</td>\n      <td>합계</td>\n      <td>172,727</td>\n      <td>168,228,517</td>\n    </tr>\n    <tr>\n      <th>191</th>\n      <td>202110</td>\n      <td>대전광역시</td>\n      <td>서구</td>\n      <td>합계</td>\n      <td>172,803</td>\n      <td>143,448,441</td>\n    </tr>\n    <tr>\n      <th>231</th>\n      <td>202111</td>\n      <td>대전광역시</td>\n      <td>서구</td>\n      <td>합계</td>\n      <td>173,479</td>\n      <td>144,992,577</td>\n    </tr>\n    <tr>\n      <th>271</th>\n      <td>202112</td>\n      <td>대전광역시</td>\n      <td>서구</td>\n      <td>합계</td>\n      <td>173,464</td>\n      <td>160,113,713</td>\n    </tr>\n    <tr>\n      <th>79</th>\n      <td>202107</td>\n      <td>대전광역시</td>\n      <td>유성구</td>\n      <td>합계</td>\n      <td>111,445</td>\n      <td>295,463,260</td>\n    </tr>\n    <tr>\n      <th>119</th>\n      <td>202108</td>\n      <td>대전광역시</td>\n      <td>유성구</td>\n      <td>합계</td>\n      <td>111,496</td>\n      <td>321,177,211</td>\n    </tr>\n    <tr>\n      <th>159</th>\n      <td>202109</td>\n      <td>대전광역시</td>\n      <td>유성구</td>\n      <td>합계</td>\n      <td>111,626</td>\n      <td>275,585,049</td>\n    </tr>\n    <tr>\n      <th>199</th>\n      <td>202110</td>\n      <td>대전광역시</td>\n      <td>유성구</td>\n      <td>합계</td>\n      <td>111,721</td>\n      <td>249,133,915</td>\n    </tr>\n    <tr>\n      <th>239</th>\n      <td>202111</td>\n      <td>대전광역시</td>\n      <td>유성구</td>\n      <td>합계</td>\n      <td>112,417</td>\n      <td>245,980,057</td>\n    </tr>\n    <tr>\n      <th>279</th>\n      <td>202112</td>\n      <td>대전광역시</td>\n      <td>유성구</td>\n      <td>합계</td>\n      <td>112,052</td>\n      <td>270,118,852</td>\n    </tr>\n    <tr>\n      <th>87</th>\n      <td>202107</td>\n      <td>대전광역시</td>\n      <td>중구</td>\n      <td>합계</td>\n      <td>103,847</td>\n      <td>83,689,739</td>\n    </tr>\n    <tr>\n      <th>127</th>\n      <td>202108</td>\n      <td>대전광역시</td>\n      <td>중구</td>\n      <td>합계</td>\n      <td>103,594</td>\n      <td>98,863,749</td>\n    </tr>\n    <tr>\n      <th>167</th>\n      <td>202109</td>\n      <td>대전광역시</td>\n      <td>중구</td>\n      <td>합계</td>\n      <td>103,445</td>\n      <td>81,128,224</td>\n    </tr>\n    <tr>\n      <th>207</th>\n      <td>202110</td>\n      <td>대전광역시</td>\n      <td>중구</td>\n      <td>합계</td>\n      <td>103,399</td>\n      <td>70,831,677</td>\n    </tr>\n    <tr>\n      <th>247</th>\n      <td>202111</td>\n      <td>대전광역시</td>\n      <td>중구</td>\n      <td>합계</td>\n      <td>103,441</td>\n      <td>73,048,178</td>\n    </tr>\n    <tr>\n      <th>287</th>\n      <td>202112</td>\n      <td>대전광역시</td>\n      <td>중구</td>\n      <td>합계</td>\n      <td>103,287</td>\n      <td>81,523,377</td>\n    </tr>\n  </tbody>\n</table>\n</div>"
     },
     "execution_count": 13,
     "metadata": {},
     "output_type": "execute_result"
    }
   ],
   "source": [
    "df_4 = df.loc[48:]\n",
    "df_4 = df_4.loc[(df_4['계약구분'] == '합계')]\n",
    "df_4 = df_4.sort_values(by=['시군구' , '년월'])\n",
    "df_4.drop(['전기요금(원)',   '평균판매단가(원/kWh)'] , axis = 1 , inplace = True)\n",
    "df_4"
   ],
   "metadata": {
    "collapsed": false,
    "pycharm": {
     "name": "#%%\n"
    }
   }
  },
  {
   "cell_type": "code",
   "execution_count": 14,
   "outputs": [
    {
     "name": "stdout",
     "output_type": "stream",
     "text": [
      "[241904102, 250710347, 228878545, 223723802, 218678605, 223052654]\n",
      "[75696902, 91998889, 77025685, 67220572, 71112080, 79671124]\n",
      "[165682985, 203031386, 168228517, 143448441, 144992577, 160113713]\n",
      "[295463260, 321177211, 275585049, 249133915, 245980057, 270118852]\n",
      "[83689739, 98863749, 81128224, 70831677, 73048178, 81523377]\n",
      "대전광역시 지역별 합계 :  [1386948055, 462725252, 985497619, 1657458344, 489084944]\n",
      "대전광역시 고객호수 평균:  [13971, 20236, 28829, 18632, 17250]\n"
     ]
    }
   ],
   "source": [
    "sum2 , sum3 =[] , []\n",
    "for k in SIGUNGU:\n",
    "    GyeonGiHap = pd.DataFrame([] , columns = a)\n",
    "    HOSU = pd.DataFrame([], columns = a)\n",
    "    GyeonGiHap['사용량']= df_4['사용량(kWh)'].loc[(df_4['시군구'] == '{}'.format(k))]\n",
    "    HOSU['고객호수']= df_4['고객호수(호)'].loc[(df_4['시군구'] == '{}'.format(k))]\n",
    "    #경기합 데이터프레임의 사용량 열에 기군구가 가평군인 사용량 데이터만 뽑아내기\n",
    "    # GyeonGiHap = GyeonGiHap['사용량']\n",
    "\n",
    "    b = GyeonGiHap['사용량'].tolist()\n",
    "    c = HOSU['고객호수'].tolist()\n",
    "\n",
    "\n",
    "    #각지역별 사용량 리스트화\n",
    "    int_list  , int_list2=[] , []\n",
    "    for i in b:\n",
    "        i = re.sub(\",\" , \"\" , i)\n",
    "        #콤마 없애기\n",
    "        int_list.append(int(i))\n",
    "        #int_list에 각지역별 사용량 int로 저장\n",
    "    print(int_list)\n",
    "    sum=0\n",
    "    for i in c:\n",
    "        i = re.sub(\",\" , \"\" , i)\n",
    "        int_list2.append(int(i))\n",
    "\n",
    "    for j in int_list:\n",
    "\n",
    "        sum+= j\n",
    "    sum2.append(sum)\n",
    "    sum = 0\n",
    "    for j in int_list2: #고객호수 추출하여 더하기\n",
    "\n",
    "        sum+= j\n",
    "    sum3.append(sum//36) #6개월 치로 나눠야하나?!\n",
    "\n",
    "\n",
    "\n",
    "\n",
    "print(\"{} 지역별 합계 : \".format(City) , sum2)\n",
    "print(\"{} 고객호수 평균: \".format(City) , sum3)"
   ],
   "metadata": {
    "collapsed": false,
    "pycharm": {
     "name": "#%%\n"
    }
   }
  },
  {
   "cell_type": "markdown",
   "source": [
    "### 2. 날짜 체크!!!!!!!!!!!!!!!!!!!!!!!!!!!!!!!!!!!!!!!!!!!!!!"
   ],
   "metadata": {
    "collapsed": false,
    "pycharm": {
     "name": "#%% md\n"
    }
   }
  },
  {
   "cell_type": "code",
   "execution_count": 15,
   "outputs": [
    {
     "name": "stderr",
     "output_type": "stream",
     "text": [
      "C:\\Users\\user\\AppData\\Local\\Temp\\ipykernel_8116\\895775541.py:4: FutureWarning: The frame.append method is deprecated and will be removed from pandas in a future version. Use pandas.concat instead.\n",
      "  Hap = Hap.append({'년월' :'202107-202112'  , '시구' : '{}'.format(City) , '시군구' : '{}'.format(SIGUNGU[i]) , '계약구분' : '합계' , '고객호수(호)' : sum3[i] ,  '사용량(kWh)' : sum2[i]} , ignore_index=True) #년월 파일마다 수정하기\n",
      "C:\\Users\\user\\AppData\\Local\\Temp\\ipykernel_8116\\895775541.py:4: FutureWarning: The frame.append method is deprecated and will be removed from pandas in a future version. Use pandas.concat instead.\n",
      "  Hap = Hap.append({'년월' :'202107-202112'  , '시구' : '{}'.format(City) , '시군구' : '{}'.format(SIGUNGU[i]) , '계약구분' : '합계' , '고객호수(호)' : sum3[i] ,  '사용량(kWh)' : sum2[i]} , ignore_index=True) #년월 파일마다 수정하기\n",
      "C:\\Users\\user\\AppData\\Local\\Temp\\ipykernel_8116\\895775541.py:4: FutureWarning: The frame.append method is deprecated and will be removed from pandas in a future version. Use pandas.concat instead.\n",
      "  Hap = Hap.append({'년월' :'202107-202112'  , '시구' : '{}'.format(City) , '시군구' : '{}'.format(SIGUNGU[i]) , '계약구분' : '합계' , '고객호수(호)' : sum3[i] ,  '사용량(kWh)' : sum2[i]} , ignore_index=True) #년월 파일마다 수정하기\n",
      "C:\\Users\\user\\AppData\\Local\\Temp\\ipykernel_8116\\895775541.py:4: FutureWarning: The frame.append method is deprecated and will be removed from pandas in a future version. Use pandas.concat instead.\n",
      "  Hap = Hap.append({'년월' :'202107-202112'  , '시구' : '{}'.format(City) , '시군구' : '{}'.format(SIGUNGU[i]) , '계약구분' : '합계' , '고객호수(호)' : sum3[i] ,  '사용량(kWh)' : sum2[i]} , ignore_index=True) #년월 파일마다 수정하기\n",
      "C:\\Users\\user\\AppData\\Local\\Temp\\ipykernel_8116\\895775541.py:4: FutureWarning: The frame.append method is deprecated and will be removed from pandas in a future version. Use pandas.concat instead.\n",
      "  Hap = Hap.append({'년월' :'202107-202112'  , '시구' : '{}'.format(City) , '시군구' : '{}'.format(SIGUNGU[i]) , '계약구분' : '합계' , '고객호수(호)' : sum3[i] ,  '사용량(kWh)' : sum2[i]} , ignore_index=True) #년월 파일마다 수정하기\n"
     ]
    },
    {
     "data": {
      "text/plain": "               년월     시구  시군구 계약구분   고객호수(호)      사용량(kWh)\n0          202107  대전광역시  대덕구   합계   83,726   241,904,102 \n1          202108  대전광역시  대덕구   합계   83,717   250,710,347 \n2          202109  대전광역시  대덕구   합계   83,725   228,878,545 \n3          202110  대전광역시  대덕구   합계   83,807   223,723,802 \n4          202111  대전광역시  대덕구   합계   83,997   218,678,605 \n5          202112  대전광역시  대덕구   합계   84,013   223,052,654 \n6          202107  대전광역시   동구   합계  121,324    75,696,902 \n7          202108  대전광역시   동구   합계  121,289    91,998,889 \n8          202109  대전광역시   동구   합계  121,420    77,025,685 \n9          202110  대전광역시   동구   합계  121,374    67,220,572 \n10         202111  대전광역시   동구   합계  121,641    71,112,080 \n11         202112  대전광역시   동구   합계  121,470    79,671,124 \n12         202107  대전광역시   서구   합계  172,714   165,682,985 \n13         202108  대전광역시   서구   합계  172,675   203,031,386 \n14         202109  대전광역시   서구   합계  172,727   168,228,517 \n15         202110  대전광역시   서구   합계  172,803   143,448,441 \n16         202111  대전광역시   서구   합계  173,479   144,992,577 \n17         202112  대전광역시   서구   합계  173,464   160,113,713 \n18         202107  대전광역시  유성구   합계  111,445   295,463,260 \n19         202108  대전광역시  유성구   합계  111,496   321,177,211 \n20         202109  대전광역시  유성구   합계  111,626   275,585,049 \n21         202110  대전광역시  유성구   합계  111,721   249,133,915 \n22         202111  대전광역시  유성구   합계  112,417   245,980,057 \n23         202112  대전광역시  유성구   합계  112,052   270,118,852 \n24         202107  대전광역시   중구   합계  103,847    83,689,739 \n25         202108  대전광역시   중구   합계  103,594    98,863,749 \n26         202109  대전광역시   중구   합계  103,445    81,128,224 \n27         202110  대전광역시   중구   합계  103,399    70,831,677 \n28         202111  대전광역시   중구   합계  103,441    73,048,178 \n29         202112  대전광역시   중구   합계  103,287    81,523,377 \n30  202107-202112  대전광역시  대덕구   합계     13971    1386948055\n31  202107-202112  대전광역시   동구   합계     20236     462725252\n32  202107-202112  대전광역시   서구   합계     28829     985497619\n33  202107-202112  대전광역시  유성구   합계     18632    1657458344\n34  202107-202112  대전광역시   중구   합계     17250     489084944",
      "text/html": "<div>\n<style scoped>\n    .dataframe tbody tr th:only-of-type {\n        vertical-align: middle;\n    }\n\n    .dataframe tbody tr th {\n        vertical-align: top;\n    }\n\n    .dataframe thead th {\n        text-align: right;\n    }\n</style>\n<table border=\"1\" class=\"dataframe\">\n  <thead>\n    <tr style=\"text-align: right;\">\n      <th></th>\n      <th>년월</th>\n      <th>시구</th>\n      <th>시군구</th>\n      <th>계약구분</th>\n      <th>고객호수(호)</th>\n      <th>사용량(kWh)</th>\n    </tr>\n  </thead>\n  <tbody>\n    <tr>\n      <th>0</th>\n      <td>202107</td>\n      <td>대전광역시</td>\n      <td>대덕구</td>\n      <td>합계</td>\n      <td>83,726</td>\n      <td>241,904,102</td>\n    </tr>\n    <tr>\n      <th>1</th>\n      <td>202108</td>\n      <td>대전광역시</td>\n      <td>대덕구</td>\n      <td>합계</td>\n      <td>83,717</td>\n      <td>250,710,347</td>\n    </tr>\n    <tr>\n      <th>2</th>\n      <td>202109</td>\n      <td>대전광역시</td>\n      <td>대덕구</td>\n      <td>합계</td>\n      <td>83,725</td>\n      <td>228,878,545</td>\n    </tr>\n    <tr>\n      <th>3</th>\n      <td>202110</td>\n      <td>대전광역시</td>\n      <td>대덕구</td>\n      <td>합계</td>\n      <td>83,807</td>\n      <td>223,723,802</td>\n    </tr>\n    <tr>\n      <th>4</th>\n      <td>202111</td>\n      <td>대전광역시</td>\n      <td>대덕구</td>\n      <td>합계</td>\n      <td>83,997</td>\n      <td>218,678,605</td>\n    </tr>\n    <tr>\n      <th>5</th>\n      <td>202112</td>\n      <td>대전광역시</td>\n      <td>대덕구</td>\n      <td>합계</td>\n      <td>84,013</td>\n      <td>223,052,654</td>\n    </tr>\n    <tr>\n      <th>6</th>\n      <td>202107</td>\n      <td>대전광역시</td>\n      <td>동구</td>\n      <td>합계</td>\n      <td>121,324</td>\n      <td>75,696,902</td>\n    </tr>\n    <tr>\n      <th>7</th>\n      <td>202108</td>\n      <td>대전광역시</td>\n      <td>동구</td>\n      <td>합계</td>\n      <td>121,289</td>\n      <td>91,998,889</td>\n    </tr>\n    <tr>\n      <th>8</th>\n      <td>202109</td>\n      <td>대전광역시</td>\n      <td>동구</td>\n      <td>합계</td>\n      <td>121,420</td>\n      <td>77,025,685</td>\n    </tr>\n    <tr>\n      <th>9</th>\n      <td>202110</td>\n      <td>대전광역시</td>\n      <td>동구</td>\n      <td>합계</td>\n      <td>121,374</td>\n      <td>67,220,572</td>\n    </tr>\n    <tr>\n      <th>10</th>\n      <td>202111</td>\n      <td>대전광역시</td>\n      <td>동구</td>\n      <td>합계</td>\n      <td>121,641</td>\n      <td>71,112,080</td>\n    </tr>\n    <tr>\n      <th>11</th>\n      <td>202112</td>\n      <td>대전광역시</td>\n      <td>동구</td>\n      <td>합계</td>\n      <td>121,470</td>\n      <td>79,671,124</td>\n    </tr>\n    <tr>\n      <th>12</th>\n      <td>202107</td>\n      <td>대전광역시</td>\n      <td>서구</td>\n      <td>합계</td>\n      <td>172,714</td>\n      <td>165,682,985</td>\n    </tr>\n    <tr>\n      <th>13</th>\n      <td>202108</td>\n      <td>대전광역시</td>\n      <td>서구</td>\n      <td>합계</td>\n      <td>172,675</td>\n      <td>203,031,386</td>\n    </tr>\n    <tr>\n      <th>14</th>\n      <td>202109</td>\n      <td>대전광역시</td>\n      <td>서구</td>\n      <td>합계</td>\n      <td>172,727</td>\n      <td>168,228,517</td>\n    </tr>\n    <tr>\n      <th>15</th>\n      <td>202110</td>\n      <td>대전광역시</td>\n      <td>서구</td>\n      <td>합계</td>\n      <td>172,803</td>\n      <td>143,448,441</td>\n    </tr>\n    <tr>\n      <th>16</th>\n      <td>202111</td>\n      <td>대전광역시</td>\n      <td>서구</td>\n      <td>합계</td>\n      <td>173,479</td>\n      <td>144,992,577</td>\n    </tr>\n    <tr>\n      <th>17</th>\n      <td>202112</td>\n      <td>대전광역시</td>\n      <td>서구</td>\n      <td>합계</td>\n      <td>173,464</td>\n      <td>160,113,713</td>\n    </tr>\n    <tr>\n      <th>18</th>\n      <td>202107</td>\n      <td>대전광역시</td>\n      <td>유성구</td>\n      <td>합계</td>\n      <td>111,445</td>\n      <td>295,463,260</td>\n    </tr>\n    <tr>\n      <th>19</th>\n      <td>202108</td>\n      <td>대전광역시</td>\n      <td>유성구</td>\n      <td>합계</td>\n      <td>111,496</td>\n      <td>321,177,211</td>\n    </tr>\n    <tr>\n      <th>20</th>\n      <td>202109</td>\n      <td>대전광역시</td>\n      <td>유성구</td>\n      <td>합계</td>\n      <td>111,626</td>\n      <td>275,585,049</td>\n    </tr>\n    <tr>\n      <th>21</th>\n      <td>202110</td>\n      <td>대전광역시</td>\n      <td>유성구</td>\n      <td>합계</td>\n      <td>111,721</td>\n      <td>249,133,915</td>\n    </tr>\n    <tr>\n      <th>22</th>\n      <td>202111</td>\n      <td>대전광역시</td>\n      <td>유성구</td>\n      <td>합계</td>\n      <td>112,417</td>\n      <td>245,980,057</td>\n    </tr>\n    <tr>\n      <th>23</th>\n      <td>202112</td>\n      <td>대전광역시</td>\n      <td>유성구</td>\n      <td>합계</td>\n      <td>112,052</td>\n      <td>270,118,852</td>\n    </tr>\n    <tr>\n      <th>24</th>\n      <td>202107</td>\n      <td>대전광역시</td>\n      <td>중구</td>\n      <td>합계</td>\n      <td>103,847</td>\n      <td>83,689,739</td>\n    </tr>\n    <tr>\n      <th>25</th>\n      <td>202108</td>\n      <td>대전광역시</td>\n      <td>중구</td>\n      <td>합계</td>\n      <td>103,594</td>\n      <td>98,863,749</td>\n    </tr>\n    <tr>\n      <th>26</th>\n      <td>202109</td>\n      <td>대전광역시</td>\n      <td>중구</td>\n      <td>합계</td>\n      <td>103,445</td>\n      <td>81,128,224</td>\n    </tr>\n    <tr>\n      <th>27</th>\n      <td>202110</td>\n      <td>대전광역시</td>\n      <td>중구</td>\n      <td>합계</td>\n      <td>103,399</td>\n      <td>70,831,677</td>\n    </tr>\n    <tr>\n      <th>28</th>\n      <td>202111</td>\n      <td>대전광역시</td>\n      <td>중구</td>\n      <td>합계</td>\n      <td>103,441</td>\n      <td>73,048,178</td>\n    </tr>\n    <tr>\n      <th>29</th>\n      <td>202112</td>\n      <td>대전광역시</td>\n      <td>중구</td>\n      <td>합계</td>\n      <td>103,287</td>\n      <td>81,523,377</td>\n    </tr>\n    <tr>\n      <th>30</th>\n      <td>202107-202112</td>\n      <td>대전광역시</td>\n      <td>대덕구</td>\n      <td>합계</td>\n      <td>13971</td>\n      <td>1386948055</td>\n    </tr>\n    <tr>\n      <th>31</th>\n      <td>202107-202112</td>\n      <td>대전광역시</td>\n      <td>동구</td>\n      <td>합계</td>\n      <td>20236</td>\n      <td>462725252</td>\n    </tr>\n    <tr>\n      <th>32</th>\n      <td>202107-202112</td>\n      <td>대전광역시</td>\n      <td>서구</td>\n      <td>합계</td>\n      <td>28829</td>\n      <td>985497619</td>\n    </tr>\n    <tr>\n      <th>33</th>\n      <td>202107-202112</td>\n      <td>대전광역시</td>\n      <td>유성구</td>\n      <td>합계</td>\n      <td>18632</td>\n      <td>1657458344</td>\n    </tr>\n    <tr>\n      <th>34</th>\n      <td>202107-202112</td>\n      <td>대전광역시</td>\n      <td>중구</td>\n      <td>합계</td>\n      <td>17250</td>\n      <td>489084944</td>\n    </tr>\n  </tbody>\n</table>\n</div>"
     },
     "execution_count": 15,
     "metadata": {},
     "output_type": "execute_result"
    }
   ],
   "source": [
    "Hap = df_4.copy()\n",
    "Hap.reset_index(drop=True , inplace = True)\n",
    "for i in range(len(SIGUNGU)):\n",
    "    Hap = Hap.append({'년월' :'202107-202112'  , '시구' : '{}'.format(City) , '시군구' : '{}'.format(SIGUNGU[i]) , '계약구분' : '합계' , '고객호수(호)' : sum3[i] ,  '사용량(kWh)' : sum2[i]} , ignore_index=True) #년월 파일마다 수정하기\n",
    "Hap"
   ],
   "metadata": {
    "collapsed": false,
    "pycharm": {
     "name": "#%%\n"
    }
   }
  },
  {
   "cell_type": "markdown",
   "source": [
    "### 3. 날짜 변경!!!!!!!!!!!!!!!!!!!!!!!!!!!!!!!"
   ],
   "metadata": {
    "collapsed": false,
    "pycharm": {
     "name": "#%% md\n"
    }
   }
  },
  {
   "cell_type": "code",
   "execution_count": 16,
   "outputs": [
    {
     "data": {
      "text/plain": "               년월     시구  시군구 계약구분 고객호수(호)    사용량(kWh)\n30  202107-202112  대전광역시  대덕구   합계   13971  1386948055\n31  202107-202112  대전광역시   동구   합계   20236   462725252\n32  202107-202112  대전광역시   서구   합계   28829   985497619\n33  202107-202112  대전광역시  유성구   합계   18632  1657458344\n34  202107-202112  대전광역시   중구   합계   17250   489084944",
      "text/html": "<div>\n<style scoped>\n    .dataframe tbody tr th:only-of-type {\n        vertical-align: middle;\n    }\n\n    .dataframe tbody tr th {\n        vertical-align: top;\n    }\n\n    .dataframe thead th {\n        text-align: right;\n    }\n</style>\n<table border=\"1\" class=\"dataframe\">\n  <thead>\n    <tr style=\"text-align: right;\">\n      <th></th>\n      <th>년월</th>\n      <th>시구</th>\n      <th>시군구</th>\n      <th>계약구분</th>\n      <th>고객호수(호)</th>\n      <th>사용량(kWh)</th>\n    </tr>\n  </thead>\n  <tbody>\n    <tr>\n      <th>30</th>\n      <td>202107-202112</td>\n      <td>대전광역시</td>\n      <td>대덕구</td>\n      <td>합계</td>\n      <td>13971</td>\n      <td>1386948055</td>\n    </tr>\n    <tr>\n      <th>31</th>\n      <td>202107-202112</td>\n      <td>대전광역시</td>\n      <td>동구</td>\n      <td>합계</td>\n      <td>20236</td>\n      <td>462725252</td>\n    </tr>\n    <tr>\n      <th>32</th>\n      <td>202107-202112</td>\n      <td>대전광역시</td>\n      <td>서구</td>\n      <td>합계</td>\n      <td>28829</td>\n      <td>985497619</td>\n    </tr>\n    <tr>\n      <th>33</th>\n      <td>202107-202112</td>\n      <td>대전광역시</td>\n      <td>유성구</td>\n      <td>합계</td>\n      <td>18632</td>\n      <td>1657458344</td>\n    </tr>\n    <tr>\n      <th>34</th>\n      <td>202107-202112</td>\n      <td>대전광역시</td>\n      <td>중구</td>\n      <td>합계</td>\n      <td>17250</td>\n      <td>489084944</td>\n    </tr>\n  </tbody>\n</table>\n</div>"
     },
     "execution_count": 16,
     "metadata": {},
     "output_type": "execute_result"
    }
   ],
   "source": [
    "Hap = Hap.loc[Hap['년월'] == '202107-202112']\n",
    "Hap"
   ],
   "metadata": {
    "collapsed": false,
    "pycharm": {
     "name": "#%%\n"
    }
   }
  },
  {
   "cell_type": "code",
   "execution_count": 17,
   "outputs": [],
   "source": [
    "# SIGUNGU = SIGUNGU[:1]\n",
    "# SIGUNGU\n",
    "#for i in SIGUNGU:\n",
    "#print('{}'.format(i))\n",
    "# df_3 = df_3.loc[(df_3['시군구'] == '가평군')]\n",
    "#\n",
    "# df_3"
   ],
   "metadata": {
    "collapsed": false,
    "pycharm": {
     "name": "#%%\n"
    }
   }
  },
  {
   "cell_type": "code",
   "execution_count": 18,
   "outputs": [
    {
     "data": {
      "text/plain": "['년월', '시구', '시군구', '계약구분', '고객호수(호)', '사용량(kWh)']"
     },
     "execution_count": 18,
     "metadata": {},
     "output_type": "execute_result"
    }
   ],
   "source": [
    "a = (df_3.columns).tolist()\n",
    "\n",
    "a"
   ],
   "metadata": {
    "collapsed": false,
    "pycharm": {
     "name": "#%%\n"
    }
   }
  },
  {
   "cell_type": "code",
   "execution_count": 19,
   "outputs": [
    {
     "data": {
      "text/plain": "         년월     시구  시군구 계약구분  고객호수(호)      사용량(kWh)\n53   202107  대전광역시  대덕구  일반용  12,365    32,988,770 \n93   202108  대전광역시  대덕구  일반용  12,391    37,682,312 \n133  202109  대전광역시  대덕구  일반용  12,395    32,241,893 \n173  202110  대전광역시  대덕구  일반용  12,392    28,140,135 \n213  202111  대전광역시  대덕구  일반용  12,407    28,637,636 \n253  202112  대전광역시  대덕구  일반용  12,506    32,178,880 \n61   202107  대전광역시   동구  일반용  14,827    34,344,221 \n101  202108  대전광역시   동구  일반용  14,830    39,909,414 \n141  202109  대전광역시   동구  일반용  14,846    33,846,778 \n181  202110  대전광역시   동구  일반용  14,822    29,627,371 \n221  202111  대전광역시   동구  일반용  14,852    29,569,799 \n261  202112  대전광역시   동구  일반용  14,874    33,459,240 \n69   202107  대전광역시   서구  일반용  22,503    94,161,505 \n109  202108  대전광역시   서구  일반용  22,559   105,121,142 \n149  202109  대전광역시   서구  일반용  22,573    89,600,037 \n189  202110  대전광역시   서구  일반용  22,605    78,640,880 \n229  202111  대전광역시   서구  일반용  22,665    77,010,049 \n269  202112  대전광역시   서구  일반용  22,779    86,882,137 \n77   202107  대전광역시  유성구  일반용  17,729   126,179,075 \n117  202108  대전광역시  유성구  일반용  17,779   135,277,195 \n157  202109  대전광역시  유성구  일반용  17,823   117,035,731 \n197  202110  대전광역시  유성구  일반용  17,969   107,133,798 \n237  202111  대전광역시  유성구  일반용  18,031   106,389,061 \n277  202112  대전광역시  유성구  일반용  18,121   118,795,981 \n85   202107  대전광역시   중구  일반용  15,936    46,865,438 \n125  202108  대전광역시   중구  일반용  15,944    52,289,911 \n165  202109  대전광역시   중구  일반용  15,939    44,478,795 \n205  202110  대전광역시   중구  일반용  15,913    38,752,419 \n245  202111  대전광역시   중구  일반용  15,908    38,092,642 \n285  202112  대전광역시   중구  일반용  15,947    42,826,867 ",
      "text/html": "<div>\n<style scoped>\n    .dataframe tbody tr th:only-of-type {\n        vertical-align: middle;\n    }\n\n    .dataframe tbody tr th {\n        vertical-align: top;\n    }\n\n    .dataframe thead th {\n        text-align: right;\n    }\n</style>\n<table border=\"1\" class=\"dataframe\">\n  <thead>\n    <tr style=\"text-align: right;\">\n      <th></th>\n      <th>년월</th>\n      <th>시구</th>\n      <th>시군구</th>\n      <th>계약구분</th>\n      <th>고객호수(호)</th>\n      <th>사용량(kWh)</th>\n    </tr>\n  </thead>\n  <tbody>\n    <tr>\n      <th>53</th>\n      <td>202107</td>\n      <td>대전광역시</td>\n      <td>대덕구</td>\n      <td>일반용</td>\n      <td>12,365</td>\n      <td>32,988,770</td>\n    </tr>\n    <tr>\n      <th>93</th>\n      <td>202108</td>\n      <td>대전광역시</td>\n      <td>대덕구</td>\n      <td>일반용</td>\n      <td>12,391</td>\n      <td>37,682,312</td>\n    </tr>\n    <tr>\n      <th>133</th>\n      <td>202109</td>\n      <td>대전광역시</td>\n      <td>대덕구</td>\n      <td>일반용</td>\n      <td>12,395</td>\n      <td>32,241,893</td>\n    </tr>\n    <tr>\n      <th>173</th>\n      <td>202110</td>\n      <td>대전광역시</td>\n      <td>대덕구</td>\n      <td>일반용</td>\n      <td>12,392</td>\n      <td>28,140,135</td>\n    </tr>\n    <tr>\n      <th>213</th>\n      <td>202111</td>\n      <td>대전광역시</td>\n      <td>대덕구</td>\n      <td>일반용</td>\n      <td>12,407</td>\n      <td>28,637,636</td>\n    </tr>\n    <tr>\n      <th>253</th>\n      <td>202112</td>\n      <td>대전광역시</td>\n      <td>대덕구</td>\n      <td>일반용</td>\n      <td>12,506</td>\n      <td>32,178,880</td>\n    </tr>\n    <tr>\n      <th>61</th>\n      <td>202107</td>\n      <td>대전광역시</td>\n      <td>동구</td>\n      <td>일반용</td>\n      <td>14,827</td>\n      <td>34,344,221</td>\n    </tr>\n    <tr>\n      <th>101</th>\n      <td>202108</td>\n      <td>대전광역시</td>\n      <td>동구</td>\n      <td>일반용</td>\n      <td>14,830</td>\n      <td>39,909,414</td>\n    </tr>\n    <tr>\n      <th>141</th>\n      <td>202109</td>\n      <td>대전광역시</td>\n      <td>동구</td>\n      <td>일반용</td>\n      <td>14,846</td>\n      <td>33,846,778</td>\n    </tr>\n    <tr>\n      <th>181</th>\n      <td>202110</td>\n      <td>대전광역시</td>\n      <td>동구</td>\n      <td>일반용</td>\n      <td>14,822</td>\n      <td>29,627,371</td>\n    </tr>\n    <tr>\n      <th>221</th>\n      <td>202111</td>\n      <td>대전광역시</td>\n      <td>동구</td>\n      <td>일반용</td>\n      <td>14,852</td>\n      <td>29,569,799</td>\n    </tr>\n    <tr>\n      <th>261</th>\n      <td>202112</td>\n      <td>대전광역시</td>\n      <td>동구</td>\n      <td>일반용</td>\n      <td>14,874</td>\n      <td>33,459,240</td>\n    </tr>\n    <tr>\n      <th>69</th>\n      <td>202107</td>\n      <td>대전광역시</td>\n      <td>서구</td>\n      <td>일반용</td>\n      <td>22,503</td>\n      <td>94,161,505</td>\n    </tr>\n    <tr>\n      <th>109</th>\n      <td>202108</td>\n      <td>대전광역시</td>\n      <td>서구</td>\n      <td>일반용</td>\n      <td>22,559</td>\n      <td>105,121,142</td>\n    </tr>\n    <tr>\n      <th>149</th>\n      <td>202109</td>\n      <td>대전광역시</td>\n      <td>서구</td>\n      <td>일반용</td>\n      <td>22,573</td>\n      <td>89,600,037</td>\n    </tr>\n    <tr>\n      <th>189</th>\n      <td>202110</td>\n      <td>대전광역시</td>\n      <td>서구</td>\n      <td>일반용</td>\n      <td>22,605</td>\n      <td>78,640,880</td>\n    </tr>\n    <tr>\n      <th>229</th>\n      <td>202111</td>\n      <td>대전광역시</td>\n      <td>서구</td>\n      <td>일반용</td>\n      <td>22,665</td>\n      <td>77,010,049</td>\n    </tr>\n    <tr>\n      <th>269</th>\n      <td>202112</td>\n      <td>대전광역시</td>\n      <td>서구</td>\n      <td>일반용</td>\n      <td>22,779</td>\n      <td>86,882,137</td>\n    </tr>\n    <tr>\n      <th>77</th>\n      <td>202107</td>\n      <td>대전광역시</td>\n      <td>유성구</td>\n      <td>일반용</td>\n      <td>17,729</td>\n      <td>126,179,075</td>\n    </tr>\n    <tr>\n      <th>117</th>\n      <td>202108</td>\n      <td>대전광역시</td>\n      <td>유성구</td>\n      <td>일반용</td>\n      <td>17,779</td>\n      <td>135,277,195</td>\n    </tr>\n    <tr>\n      <th>157</th>\n      <td>202109</td>\n      <td>대전광역시</td>\n      <td>유성구</td>\n      <td>일반용</td>\n      <td>17,823</td>\n      <td>117,035,731</td>\n    </tr>\n    <tr>\n      <th>197</th>\n      <td>202110</td>\n      <td>대전광역시</td>\n      <td>유성구</td>\n      <td>일반용</td>\n      <td>17,969</td>\n      <td>107,133,798</td>\n    </tr>\n    <tr>\n      <th>237</th>\n      <td>202111</td>\n      <td>대전광역시</td>\n      <td>유성구</td>\n      <td>일반용</td>\n      <td>18,031</td>\n      <td>106,389,061</td>\n    </tr>\n    <tr>\n      <th>277</th>\n      <td>202112</td>\n      <td>대전광역시</td>\n      <td>유성구</td>\n      <td>일반용</td>\n      <td>18,121</td>\n      <td>118,795,981</td>\n    </tr>\n    <tr>\n      <th>85</th>\n      <td>202107</td>\n      <td>대전광역시</td>\n      <td>중구</td>\n      <td>일반용</td>\n      <td>15,936</td>\n      <td>46,865,438</td>\n    </tr>\n    <tr>\n      <th>125</th>\n      <td>202108</td>\n      <td>대전광역시</td>\n      <td>중구</td>\n      <td>일반용</td>\n      <td>15,944</td>\n      <td>52,289,911</td>\n    </tr>\n    <tr>\n      <th>165</th>\n      <td>202109</td>\n      <td>대전광역시</td>\n      <td>중구</td>\n      <td>일반용</td>\n      <td>15,939</td>\n      <td>44,478,795</td>\n    </tr>\n    <tr>\n      <th>205</th>\n      <td>202110</td>\n      <td>대전광역시</td>\n      <td>중구</td>\n      <td>일반용</td>\n      <td>15,913</td>\n      <td>38,752,419</td>\n    </tr>\n    <tr>\n      <th>245</th>\n      <td>202111</td>\n      <td>대전광역시</td>\n      <td>중구</td>\n      <td>일반용</td>\n      <td>15,908</td>\n      <td>38,092,642</td>\n    </tr>\n    <tr>\n      <th>285</th>\n      <td>202112</td>\n      <td>대전광역시</td>\n      <td>중구</td>\n      <td>일반용</td>\n      <td>15,947</td>\n      <td>42,826,867</td>\n    </tr>\n  </tbody>\n</table>\n</div>"
     },
     "execution_count": 19,
     "metadata": {},
     "output_type": "execute_result"
    }
   ],
   "source": [
    "df_3"
   ],
   "metadata": {
    "collapsed": false,
    "pycharm": {
     "name": "#%%\n"
    }
   }
  },
  {
   "cell_type": "code",
   "execution_count": 20,
   "outputs": [],
   "source": [
    "# GyeonGiHap = pd.DataFrame([] , columns = a)\n",
    "# GyeonGiHap['사용량']= df_3['사용량(kWh)'].loc[(df_3['시군구'] == '{가평군}')]\n",
    "# GyeonGiHap"
   ],
   "metadata": {
    "collapsed": false,
    "pycharm": {
     "name": "#%%\n"
    }
   }
  },
  {
   "cell_type": "code",
   "execution_count": 21,
   "outputs": [
    {
     "name": "stdout",
     "output_type": "stream",
     "text": [
      "[32988770, 37682312, 32241893, 28140135, 28637636, 32178880]\n",
      "[34344221, 39909414, 33846778, 29627371, 29569799, 33459240]\n",
      "[94161505, 105121142, 89600037, 78640880, 77010049, 86882137]\n",
      "[126179075, 135277195, 117035731, 107133798, 106389061, 118795981]\n",
      "[46865438, 52289911, 44478795, 38752419, 38092642, 42826867]\n",
      "대전광역시 지역별 일반용 합계 :  [191869626, 200756823, 531415750, 710810841, 263306072]\n",
      "대전광역시 고객호수 평균:  [12409, 14841, 22614, 17908, 15931]\n"
     ]
    }
   ],
   "source": [
    "sum2 , sum3 =[] , []\n",
    "for k in SIGUNGU:\n",
    "    GyeonGiHap = pd.DataFrame([] , columns = a)\n",
    "    HOSU = pd.DataFrame([], columns = a)\n",
    "    GyeonGiHap['사용량']= df_3['사용량(kWh)'].loc[(df_3['시군구'] == '{}'.format(k))]\n",
    "    HOSU['고객호수']= df_3['고객호수(호)'].loc[(df_3['시군구'] == '{}'.format(k))]\n",
    "    #경기합 데이터프레임의 사용량 열에 기군구가 가평군인 사용량 데이터만 뽑아내기\n",
    "    # GyeonGiHap = GyeonGiHap['사용량']\n",
    "\n",
    "    b = GyeonGiHap['사용량'].tolist()\n",
    "    c = HOSU['고객호수'].tolist()\n",
    "\n",
    "\n",
    "    #각지역별 사용량 리스트화\n",
    "    int_list  , int_list2=[] , []\n",
    "    for i in b:\n",
    "        i = re.sub(\",\" , \"\" , i)\n",
    "        #콤마 없애기\n",
    "        int_list.append(int(i))\n",
    "        #int_list에 각지역별 사용량 int로 저장\n",
    "    print(int_list)\n",
    "    sum=0\n",
    "    for i in c:\n",
    "        i = re.sub(\",\" , \"\" , i)\n",
    "        int_list2.append(int(i))\n",
    "\n",
    "    for j in int_list:\n",
    "\n",
    "        sum+= j\n",
    "    sum2.append(sum)\n",
    "    sum = 0\n",
    "    for j in int_list2: #고객호수 추출하여 더하기\n",
    "\n",
    "        sum+= j\n",
    "    sum3.append(sum//6) #6개월 치로 나눠야하나?!\n",
    "\n",
    "\n",
    "\n",
    "\n",
    "print(\"{} 지역별 일반용 합계 : \".format(City) , sum2)\n",
    "print(\"{} 고객호수 평균: \".format(City) , sum3)\n",
    "# GyeonGiHap['합계'] = sum\n",
    "#\n",
    "# GyeonGiHap"
   ],
   "metadata": {
    "collapsed": false,
    "pycharm": {
     "name": "#%%\n"
    }
   }
  },
  {
   "cell_type": "code",
   "execution_count": 22,
   "outputs": [],
   "source": [
    "# df_3 = df_3.loc[(df_3['시군구'] == '가평군')]\n",
    "#\n",
    "# df_3"
   ],
   "metadata": {
    "collapsed": false,
    "pycharm": {
     "name": "#%%\n"
    }
   }
  },
  {
   "cell_type": "code",
   "execution_count": 23,
   "outputs": [],
   "source": [
    "# GyeonGiHap = df_3.copy()\n",
    "# GyeonGiHap.reset_index(drop=True , inplace = True)\n",
    "# GyeonGiHap.append({'년월' : '202107-202112'  , '시구' : '경기도' , '시군구' : '가평군' , '계약구분' : '일반용' , '사용량(kWh)' : sum}, ignore_index=True)"
   ],
   "metadata": {
    "collapsed": false,
    "pycharm": {
     "name": "#%%\n"
    }
   }
  },
  {
   "cell_type": "code",
   "execution_count": 24,
   "outputs": [],
   "source": [
    "# a=[]\n",
    "# for i in SIGUNGU:\n",
    "#     a.append(i)\n",
    "#\n",
    "# print(a)"
   ],
   "metadata": {
    "collapsed": false,
    "pycharm": {
     "name": "#%%\n"
    }
   }
  },
  {
   "cell_type": "markdown",
   "source": [
    "### 4. 년월 체크!!!!!!!!!!!!!!!!!!!!!!!!!!!!!!!!!!!!!!!!!!!!!!!!!!!!!!!!!!!!!!!!!"
   ],
   "metadata": {
    "collapsed": false,
    "pycharm": {
     "name": "#%% md\n"
    }
   }
  },
  {
   "cell_type": "code",
   "execution_count": 25,
   "outputs": [
    {
     "name": "stderr",
     "output_type": "stream",
     "text": [
      "C:\\Users\\user\\AppData\\Local\\Temp\\ipykernel_8116\\2943201010.py:4: FutureWarning: The frame.append method is deprecated and will be removed from pandas in a future version. Use pandas.concat instead.\n",
      "  GyeonGiHap2 = GyeonGiHap2.append({'년월' :'202107-202112'  , '시구' : '{}'.format(City) , '시군구' : '{}'.format(SIGUNGU[i]) , '계약구분' : '일반용' , '고객호수(호)' : sum3[i] ,  '사용량(kWh)' : sum2[i]} , ignore_index=True) #년월 파일마다 수정하기\n",
      "C:\\Users\\user\\AppData\\Local\\Temp\\ipykernel_8116\\2943201010.py:4: FutureWarning: The frame.append method is deprecated and will be removed from pandas in a future version. Use pandas.concat instead.\n",
      "  GyeonGiHap2 = GyeonGiHap2.append({'년월' :'202107-202112'  , '시구' : '{}'.format(City) , '시군구' : '{}'.format(SIGUNGU[i]) , '계약구분' : '일반용' , '고객호수(호)' : sum3[i] ,  '사용량(kWh)' : sum2[i]} , ignore_index=True) #년월 파일마다 수정하기\n",
      "C:\\Users\\user\\AppData\\Local\\Temp\\ipykernel_8116\\2943201010.py:4: FutureWarning: The frame.append method is deprecated and will be removed from pandas in a future version. Use pandas.concat instead.\n",
      "  GyeonGiHap2 = GyeonGiHap2.append({'년월' :'202107-202112'  , '시구' : '{}'.format(City) , '시군구' : '{}'.format(SIGUNGU[i]) , '계약구분' : '일반용' , '고객호수(호)' : sum3[i] ,  '사용량(kWh)' : sum2[i]} , ignore_index=True) #년월 파일마다 수정하기\n",
      "C:\\Users\\user\\AppData\\Local\\Temp\\ipykernel_8116\\2943201010.py:4: FutureWarning: The frame.append method is deprecated and will be removed from pandas in a future version. Use pandas.concat instead.\n",
      "  GyeonGiHap2 = GyeonGiHap2.append({'년월' :'202107-202112'  , '시구' : '{}'.format(City) , '시군구' : '{}'.format(SIGUNGU[i]) , '계약구분' : '일반용' , '고객호수(호)' : sum3[i] ,  '사용량(kWh)' : sum2[i]} , ignore_index=True) #년월 파일마다 수정하기\n",
      "C:\\Users\\user\\AppData\\Local\\Temp\\ipykernel_8116\\2943201010.py:4: FutureWarning: The frame.append method is deprecated and will be removed from pandas in a future version. Use pandas.concat instead.\n",
      "  GyeonGiHap2 = GyeonGiHap2.append({'년월' :'202107-202112'  , '시구' : '{}'.format(City) , '시군구' : '{}'.format(SIGUNGU[i]) , '계약구분' : '일반용' , '고객호수(호)' : sum3[i] ,  '사용량(kWh)' : sum2[i]} , ignore_index=True) #년월 파일마다 수정하기\n"
     ]
    },
    {
     "data": {
      "text/plain": "               년월     시구  시군구 계약구분  고객호수(호)      사용량(kWh)\n0          202107  대전광역시  대덕구  일반용  12,365    32,988,770 \n1          202108  대전광역시  대덕구  일반용  12,391    37,682,312 \n2          202109  대전광역시  대덕구  일반용  12,395    32,241,893 \n3          202110  대전광역시  대덕구  일반용  12,392    28,140,135 \n4          202111  대전광역시  대덕구  일반용  12,407    28,637,636 \n5          202112  대전광역시  대덕구  일반용  12,506    32,178,880 \n6          202107  대전광역시   동구  일반용  14,827    34,344,221 \n7          202108  대전광역시   동구  일반용  14,830    39,909,414 \n8          202109  대전광역시   동구  일반용  14,846    33,846,778 \n9          202110  대전광역시   동구  일반용  14,822    29,627,371 \n10         202111  대전광역시   동구  일반용  14,852    29,569,799 \n11         202112  대전광역시   동구  일반용  14,874    33,459,240 \n12         202107  대전광역시   서구  일반용  22,503    94,161,505 \n13         202108  대전광역시   서구  일반용  22,559   105,121,142 \n14         202109  대전광역시   서구  일반용  22,573    89,600,037 \n15         202110  대전광역시   서구  일반용  22,605    78,640,880 \n16         202111  대전광역시   서구  일반용  22,665    77,010,049 \n17         202112  대전광역시   서구  일반용  22,779    86,882,137 \n18         202107  대전광역시  유성구  일반용  17,729   126,179,075 \n19         202108  대전광역시  유성구  일반용  17,779   135,277,195 \n20         202109  대전광역시  유성구  일반용  17,823   117,035,731 \n21         202110  대전광역시  유성구  일반용  17,969   107,133,798 \n22         202111  대전광역시  유성구  일반용  18,031   106,389,061 \n23         202112  대전광역시  유성구  일반용  18,121   118,795,981 \n24         202107  대전광역시   중구  일반용  15,936    46,865,438 \n25         202108  대전광역시   중구  일반용  15,944    52,289,911 \n26         202109  대전광역시   중구  일반용  15,939    44,478,795 \n27         202110  대전광역시   중구  일반용  15,913    38,752,419 \n28         202111  대전광역시   중구  일반용  15,908    38,092,642 \n29         202112  대전광역시   중구  일반용  15,947    42,826,867 \n30  202107-202112  대전광역시  대덕구  일반용    12409     191869626\n31  202107-202112  대전광역시   동구  일반용    14841     200756823\n32  202107-202112  대전광역시   서구  일반용    22614     531415750\n33  202107-202112  대전광역시  유성구  일반용    17908     710810841\n34  202107-202112  대전광역시   중구  일반용    15931     263306072",
      "text/html": "<div>\n<style scoped>\n    .dataframe tbody tr th:only-of-type {\n        vertical-align: middle;\n    }\n\n    .dataframe tbody tr th {\n        vertical-align: top;\n    }\n\n    .dataframe thead th {\n        text-align: right;\n    }\n</style>\n<table border=\"1\" class=\"dataframe\">\n  <thead>\n    <tr style=\"text-align: right;\">\n      <th></th>\n      <th>년월</th>\n      <th>시구</th>\n      <th>시군구</th>\n      <th>계약구분</th>\n      <th>고객호수(호)</th>\n      <th>사용량(kWh)</th>\n    </tr>\n  </thead>\n  <tbody>\n    <tr>\n      <th>0</th>\n      <td>202107</td>\n      <td>대전광역시</td>\n      <td>대덕구</td>\n      <td>일반용</td>\n      <td>12,365</td>\n      <td>32,988,770</td>\n    </tr>\n    <tr>\n      <th>1</th>\n      <td>202108</td>\n      <td>대전광역시</td>\n      <td>대덕구</td>\n      <td>일반용</td>\n      <td>12,391</td>\n      <td>37,682,312</td>\n    </tr>\n    <tr>\n      <th>2</th>\n      <td>202109</td>\n      <td>대전광역시</td>\n      <td>대덕구</td>\n      <td>일반용</td>\n      <td>12,395</td>\n      <td>32,241,893</td>\n    </tr>\n    <tr>\n      <th>3</th>\n      <td>202110</td>\n      <td>대전광역시</td>\n      <td>대덕구</td>\n      <td>일반용</td>\n      <td>12,392</td>\n      <td>28,140,135</td>\n    </tr>\n    <tr>\n      <th>4</th>\n      <td>202111</td>\n      <td>대전광역시</td>\n      <td>대덕구</td>\n      <td>일반용</td>\n      <td>12,407</td>\n      <td>28,637,636</td>\n    </tr>\n    <tr>\n      <th>5</th>\n      <td>202112</td>\n      <td>대전광역시</td>\n      <td>대덕구</td>\n      <td>일반용</td>\n      <td>12,506</td>\n      <td>32,178,880</td>\n    </tr>\n    <tr>\n      <th>6</th>\n      <td>202107</td>\n      <td>대전광역시</td>\n      <td>동구</td>\n      <td>일반용</td>\n      <td>14,827</td>\n      <td>34,344,221</td>\n    </tr>\n    <tr>\n      <th>7</th>\n      <td>202108</td>\n      <td>대전광역시</td>\n      <td>동구</td>\n      <td>일반용</td>\n      <td>14,830</td>\n      <td>39,909,414</td>\n    </tr>\n    <tr>\n      <th>8</th>\n      <td>202109</td>\n      <td>대전광역시</td>\n      <td>동구</td>\n      <td>일반용</td>\n      <td>14,846</td>\n      <td>33,846,778</td>\n    </tr>\n    <tr>\n      <th>9</th>\n      <td>202110</td>\n      <td>대전광역시</td>\n      <td>동구</td>\n      <td>일반용</td>\n      <td>14,822</td>\n      <td>29,627,371</td>\n    </tr>\n    <tr>\n      <th>10</th>\n      <td>202111</td>\n      <td>대전광역시</td>\n      <td>동구</td>\n      <td>일반용</td>\n      <td>14,852</td>\n      <td>29,569,799</td>\n    </tr>\n    <tr>\n      <th>11</th>\n      <td>202112</td>\n      <td>대전광역시</td>\n      <td>동구</td>\n      <td>일반용</td>\n      <td>14,874</td>\n      <td>33,459,240</td>\n    </tr>\n    <tr>\n      <th>12</th>\n      <td>202107</td>\n      <td>대전광역시</td>\n      <td>서구</td>\n      <td>일반용</td>\n      <td>22,503</td>\n      <td>94,161,505</td>\n    </tr>\n    <tr>\n      <th>13</th>\n      <td>202108</td>\n      <td>대전광역시</td>\n      <td>서구</td>\n      <td>일반용</td>\n      <td>22,559</td>\n      <td>105,121,142</td>\n    </tr>\n    <tr>\n      <th>14</th>\n      <td>202109</td>\n      <td>대전광역시</td>\n      <td>서구</td>\n      <td>일반용</td>\n      <td>22,573</td>\n      <td>89,600,037</td>\n    </tr>\n    <tr>\n      <th>15</th>\n      <td>202110</td>\n      <td>대전광역시</td>\n      <td>서구</td>\n      <td>일반용</td>\n      <td>22,605</td>\n      <td>78,640,880</td>\n    </tr>\n    <tr>\n      <th>16</th>\n      <td>202111</td>\n      <td>대전광역시</td>\n      <td>서구</td>\n      <td>일반용</td>\n      <td>22,665</td>\n      <td>77,010,049</td>\n    </tr>\n    <tr>\n      <th>17</th>\n      <td>202112</td>\n      <td>대전광역시</td>\n      <td>서구</td>\n      <td>일반용</td>\n      <td>22,779</td>\n      <td>86,882,137</td>\n    </tr>\n    <tr>\n      <th>18</th>\n      <td>202107</td>\n      <td>대전광역시</td>\n      <td>유성구</td>\n      <td>일반용</td>\n      <td>17,729</td>\n      <td>126,179,075</td>\n    </tr>\n    <tr>\n      <th>19</th>\n      <td>202108</td>\n      <td>대전광역시</td>\n      <td>유성구</td>\n      <td>일반용</td>\n      <td>17,779</td>\n      <td>135,277,195</td>\n    </tr>\n    <tr>\n      <th>20</th>\n      <td>202109</td>\n      <td>대전광역시</td>\n      <td>유성구</td>\n      <td>일반용</td>\n      <td>17,823</td>\n      <td>117,035,731</td>\n    </tr>\n    <tr>\n      <th>21</th>\n      <td>202110</td>\n      <td>대전광역시</td>\n      <td>유성구</td>\n      <td>일반용</td>\n      <td>17,969</td>\n      <td>107,133,798</td>\n    </tr>\n    <tr>\n      <th>22</th>\n      <td>202111</td>\n      <td>대전광역시</td>\n      <td>유성구</td>\n      <td>일반용</td>\n      <td>18,031</td>\n      <td>106,389,061</td>\n    </tr>\n    <tr>\n      <th>23</th>\n      <td>202112</td>\n      <td>대전광역시</td>\n      <td>유성구</td>\n      <td>일반용</td>\n      <td>18,121</td>\n      <td>118,795,981</td>\n    </tr>\n    <tr>\n      <th>24</th>\n      <td>202107</td>\n      <td>대전광역시</td>\n      <td>중구</td>\n      <td>일반용</td>\n      <td>15,936</td>\n      <td>46,865,438</td>\n    </tr>\n    <tr>\n      <th>25</th>\n      <td>202108</td>\n      <td>대전광역시</td>\n      <td>중구</td>\n      <td>일반용</td>\n      <td>15,944</td>\n      <td>52,289,911</td>\n    </tr>\n    <tr>\n      <th>26</th>\n      <td>202109</td>\n      <td>대전광역시</td>\n      <td>중구</td>\n      <td>일반용</td>\n      <td>15,939</td>\n      <td>44,478,795</td>\n    </tr>\n    <tr>\n      <th>27</th>\n      <td>202110</td>\n      <td>대전광역시</td>\n      <td>중구</td>\n      <td>일반용</td>\n      <td>15,913</td>\n      <td>38,752,419</td>\n    </tr>\n    <tr>\n      <th>28</th>\n      <td>202111</td>\n      <td>대전광역시</td>\n      <td>중구</td>\n      <td>일반용</td>\n      <td>15,908</td>\n      <td>38,092,642</td>\n    </tr>\n    <tr>\n      <th>29</th>\n      <td>202112</td>\n      <td>대전광역시</td>\n      <td>중구</td>\n      <td>일반용</td>\n      <td>15,947</td>\n      <td>42,826,867</td>\n    </tr>\n    <tr>\n      <th>30</th>\n      <td>202107-202112</td>\n      <td>대전광역시</td>\n      <td>대덕구</td>\n      <td>일반용</td>\n      <td>12409</td>\n      <td>191869626</td>\n    </tr>\n    <tr>\n      <th>31</th>\n      <td>202107-202112</td>\n      <td>대전광역시</td>\n      <td>동구</td>\n      <td>일반용</td>\n      <td>14841</td>\n      <td>200756823</td>\n    </tr>\n    <tr>\n      <th>32</th>\n      <td>202107-202112</td>\n      <td>대전광역시</td>\n      <td>서구</td>\n      <td>일반용</td>\n      <td>22614</td>\n      <td>531415750</td>\n    </tr>\n    <tr>\n      <th>33</th>\n      <td>202107-202112</td>\n      <td>대전광역시</td>\n      <td>유성구</td>\n      <td>일반용</td>\n      <td>17908</td>\n      <td>710810841</td>\n    </tr>\n    <tr>\n      <th>34</th>\n      <td>202107-202112</td>\n      <td>대전광역시</td>\n      <td>중구</td>\n      <td>일반용</td>\n      <td>15931</td>\n      <td>263306072</td>\n    </tr>\n  </tbody>\n</table>\n</div>"
     },
     "execution_count": 25,
     "metadata": {},
     "output_type": "execute_result"
    }
   ],
   "source": [
    "GyeonGiHap2 = df_3.copy()\n",
    "GyeonGiHap2.reset_index(drop=True , inplace = True)\n",
    "for i in range(len(SIGUNGU)):\n",
    "    GyeonGiHap2 = GyeonGiHap2.append({'년월' :'202107-202112'  , '시구' : '{}'.format(City) , '시군구' : '{}'.format(SIGUNGU[i]) , '계약구분' : '일반용' , '고객호수(호)' : sum3[i] ,  '사용량(kWh)' : sum2[i]} , ignore_index=True) #년월 파일마다 수정하기\n",
    "GyeonGiHap2"
   ],
   "metadata": {
    "collapsed": false,
    "pycharm": {
     "name": "#%%\n"
    }
   }
  },
  {
   "cell_type": "markdown",
   "source": [
    "### 5. 날짜 체크!!!!!!!!!!!!!!!!!!!!!!!!!!!!!!!!!!!!!!!!!!!!!!!!!!!!"
   ],
   "metadata": {
    "collapsed": false,
    "pycharm": {
     "name": "#%% md\n"
    }
   }
  },
  {
   "cell_type": "code",
   "execution_count": 26,
   "outputs": [
    {
     "data": {
      "text/plain": "               년월     시구  시군구 계약구분 고객호수(호)   사용량(kWh)\n30  202107-202112  대전광역시  대덕구  일반용   12409  191869626\n31  202107-202112  대전광역시   동구  일반용   14841  200756823\n32  202107-202112  대전광역시   서구  일반용   22614  531415750\n33  202107-202112  대전광역시  유성구  일반용   17908  710810841\n34  202107-202112  대전광역시   중구  일반용   15931  263306072",
      "text/html": "<div>\n<style scoped>\n    .dataframe tbody tr th:only-of-type {\n        vertical-align: middle;\n    }\n\n    .dataframe tbody tr th {\n        vertical-align: top;\n    }\n\n    .dataframe thead th {\n        text-align: right;\n    }\n</style>\n<table border=\"1\" class=\"dataframe\">\n  <thead>\n    <tr style=\"text-align: right;\">\n      <th></th>\n      <th>년월</th>\n      <th>시구</th>\n      <th>시군구</th>\n      <th>계약구분</th>\n      <th>고객호수(호)</th>\n      <th>사용량(kWh)</th>\n    </tr>\n  </thead>\n  <tbody>\n    <tr>\n      <th>30</th>\n      <td>202107-202112</td>\n      <td>대전광역시</td>\n      <td>대덕구</td>\n      <td>일반용</td>\n      <td>12409</td>\n      <td>191869626</td>\n    </tr>\n    <tr>\n      <th>31</th>\n      <td>202107-202112</td>\n      <td>대전광역시</td>\n      <td>동구</td>\n      <td>일반용</td>\n      <td>14841</td>\n      <td>200756823</td>\n    </tr>\n    <tr>\n      <th>32</th>\n      <td>202107-202112</td>\n      <td>대전광역시</td>\n      <td>서구</td>\n      <td>일반용</td>\n      <td>22614</td>\n      <td>531415750</td>\n    </tr>\n    <tr>\n      <th>33</th>\n      <td>202107-202112</td>\n      <td>대전광역시</td>\n      <td>유성구</td>\n      <td>일반용</td>\n      <td>17908</td>\n      <td>710810841</td>\n    </tr>\n    <tr>\n      <th>34</th>\n      <td>202107-202112</td>\n      <td>대전광역시</td>\n      <td>중구</td>\n      <td>일반용</td>\n      <td>15931</td>\n      <td>263306072</td>\n    </tr>\n  </tbody>\n</table>\n</div>"
     },
     "execution_count": 26,
     "metadata": {},
     "output_type": "execute_result"
    }
   ],
   "source": [
    "GyeonGiHap2 = GyeonGiHap2.loc[GyeonGiHap2['년월'] == '202107-202112']\n",
    "GyeonGiHap2"
   ],
   "metadata": {
    "collapsed": false,
    "pycharm": {
     "name": "#%%\n"
    }
   }
  },
  {
   "cell_type": "code",
   "execution_count": 27,
   "outputs": [
    {
     "data": {
      "text/plain": "               년월     시구  시군구 계약구분 고객호수(호)    사용량(kWh)\n30  202107-202112  대전광역시  대덕구  일반용   12409   191869626\n30  202107-202112  대전광역시  대덕구   합계   13971  1386948055\n31  202107-202112  대전광역시   동구  일반용   14841   200756823\n31  202107-202112  대전광역시   동구   합계   20236   462725252\n32  202107-202112  대전광역시   서구  일반용   22614   531415750\n32  202107-202112  대전광역시   서구   합계   28829   985497619\n33  202107-202112  대전광역시  유성구  일반용   17908   710810841\n33  202107-202112  대전광역시  유성구   합계   18632  1657458344\n34  202107-202112  대전광역시   중구  일반용   15931   263306072\n34  202107-202112  대전광역시   중구   합계   17250   489084944",
      "text/html": "<div>\n<style scoped>\n    .dataframe tbody tr th:only-of-type {\n        vertical-align: middle;\n    }\n\n    .dataframe tbody tr th {\n        vertical-align: top;\n    }\n\n    .dataframe thead th {\n        text-align: right;\n    }\n</style>\n<table border=\"1\" class=\"dataframe\">\n  <thead>\n    <tr style=\"text-align: right;\">\n      <th></th>\n      <th>년월</th>\n      <th>시구</th>\n      <th>시군구</th>\n      <th>계약구분</th>\n      <th>고객호수(호)</th>\n      <th>사용량(kWh)</th>\n    </tr>\n  </thead>\n  <tbody>\n    <tr>\n      <th>30</th>\n      <td>202107-202112</td>\n      <td>대전광역시</td>\n      <td>대덕구</td>\n      <td>일반용</td>\n      <td>12409</td>\n      <td>191869626</td>\n    </tr>\n    <tr>\n      <th>30</th>\n      <td>202107-202112</td>\n      <td>대전광역시</td>\n      <td>대덕구</td>\n      <td>합계</td>\n      <td>13971</td>\n      <td>1386948055</td>\n    </tr>\n    <tr>\n      <th>31</th>\n      <td>202107-202112</td>\n      <td>대전광역시</td>\n      <td>동구</td>\n      <td>일반용</td>\n      <td>14841</td>\n      <td>200756823</td>\n    </tr>\n    <tr>\n      <th>31</th>\n      <td>202107-202112</td>\n      <td>대전광역시</td>\n      <td>동구</td>\n      <td>합계</td>\n      <td>20236</td>\n      <td>462725252</td>\n    </tr>\n    <tr>\n      <th>32</th>\n      <td>202107-202112</td>\n      <td>대전광역시</td>\n      <td>서구</td>\n      <td>일반용</td>\n      <td>22614</td>\n      <td>531415750</td>\n    </tr>\n    <tr>\n      <th>32</th>\n      <td>202107-202112</td>\n      <td>대전광역시</td>\n      <td>서구</td>\n      <td>합계</td>\n      <td>28829</td>\n      <td>985497619</td>\n    </tr>\n    <tr>\n      <th>33</th>\n      <td>202107-202112</td>\n      <td>대전광역시</td>\n      <td>유성구</td>\n      <td>일반용</td>\n      <td>17908</td>\n      <td>710810841</td>\n    </tr>\n    <tr>\n      <th>33</th>\n      <td>202107-202112</td>\n      <td>대전광역시</td>\n      <td>유성구</td>\n      <td>합계</td>\n      <td>18632</td>\n      <td>1657458344</td>\n    </tr>\n    <tr>\n      <th>34</th>\n      <td>202107-202112</td>\n      <td>대전광역시</td>\n      <td>중구</td>\n      <td>일반용</td>\n      <td>15931</td>\n      <td>263306072</td>\n    </tr>\n    <tr>\n      <th>34</th>\n      <td>202107-202112</td>\n      <td>대전광역시</td>\n      <td>중구</td>\n      <td>합계</td>\n      <td>17250</td>\n      <td>489084944</td>\n    </tr>\n  </tbody>\n</table>\n</div>"
     },
     "execution_count": 27,
     "metadata": {},
     "output_type": "execute_result"
    }
   ],
   "source": [
    "Final = pd.concat([GyeonGiHap2 , Hap])\n",
    "Final = Final.sort_values('시군구')\n",
    "Final"
   ],
   "metadata": {
    "collapsed": false,
    "pycharm": {
     "name": "#%%\n"
    }
   }
  },
  {
   "cell_type": "code",
   "execution_count": 28,
   "outputs": [
    {
     "data": {
      "text/plain": "[191869626, 200756823, 531415750, 710810841, 263306072]"
     },
     "execution_count": 28,
     "metadata": {},
     "output_type": "execute_result"
    }
   ],
   "source": [
    "# Final['일반용 전기의 비율'] = (Final['사용량(kWh)'].loc[Final['계약구분'] == '일반용']) // (Final['사용량(kWh)'].loc[Final['계약구분'] == '합계'])\n",
    "# Final\n",
    "ex = (Final['사용량(kWh)'].loc[Final['계약구분'] == '일반용']).tolist()\n",
    "\n",
    "\n",
    "ex\n"
   ],
   "metadata": {
    "collapsed": false,
    "pycharm": {
     "name": "#%%\n"
    }
   }
  },
  {
   "cell_type": "code",
   "execution_count": 29,
   "outputs": [
    {
     "data": {
      "text/plain": "[1386948055, 462725252, 985497619, 1657458344, 489084944]"
     },
     "execution_count": 29,
     "metadata": {},
     "output_type": "execute_result"
    }
   ],
   "source": [
    "ex_2 =(Final['사용량(kWh)'].loc[Final['계약구분'] == '합계']).tolist()\n",
    "ex_2"
   ],
   "metadata": {
    "collapsed": false,
    "pycharm": {
     "name": "#%%\n"
    }
   }
  },
  {
   "cell_type": "code",
   "execution_count": 30,
   "outputs": [
    {
     "name": "stdout",
     "output_type": "stream",
     "text": [
      "[13.83, 43.39, 53.92, 42.89, 53.84]\n"
     ]
    }
   ],
   "source": [
    "Rate = []\n",
    "ilban = []\n",
    "rae = 0\n",
    "for i in range(len(ex)):\n",
    "    rae = round(ex[i] / ex_2[i] *100 ,2)\n",
    "    Rate.append(rae)\n",
    "print(Rate)"
   ],
   "metadata": {
    "collapsed": false,
    "pycharm": {
     "name": "#%%\n"
    }
   }
  },
  {
   "cell_type": "code",
   "execution_count": 31,
   "outputs": [
    {
     "data": {
      "text/plain": "0   14\n1   43\n2   54\n3   43\n4   54\ndtype: float64"
     },
     "execution_count": 31,
     "metadata": {},
     "output_type": "execute_result"
    }
   ],
   "source": [
    "Rate3 = pd.Series(Rate)\n",
    "Rate3\n",
    "\n",
    "# Final = pd.concat([Final , Rate3])\n",
    "# Final"
   ],
   "metadata": {
    "collapsed": false,
    "pycharm": {
     "name": "#%%\n"
    }
   }
  },
  {
   "cell_type": "code",
   "execution_count": 32,
   "outputs": [
    {
     "data": {
      "text/plain": "   시군구 계약구분  비율\n0  대덕구  일반용  14\n1   동구  일반용  43\n2   서구  일반용  54\n3  유성구  일반용  43\n4   중구  일반용  54",
      "text/html": "<div>\n<style scoped>\n    .dataframe tbody tr th:only-of-type {\n        vertical-align: middle;\n    }\n\n    .dataframe tbody tr th {\n        vertical-align: top;\n    }\n\n    .dataframe thead th {\n        text-align: right;\n    }\n</style>\n<table border=\"1\" class=\"dataframe\">\n  <thead>\n    <tr style=\"text-align: right;\">\n      <th></th>\n      <th>시군구</th>\n      <th>계약구분</th>\n      <th>비율</th>\n    </tr>\n  </thead>\n  <tbody>\n    <tr>\n      <th>0</th>\n      <td>대덕구</td>\n      <td>일반용</td>\n      <td>14</td>\n    </tr>\n    <tr>\n      <th>1</th>\n      <td>동구</td>\n      <td>일반용</td>\n      <td>43</td>\n    </tr>\n    <tr>\n      <th>2</th>\n      <td>서구</td>\n      <td>일반용</td>\n      <td>54</td>\n    </tr>\n    <tr>\n      <th>3</th>\n      <td>유성구</td>\n      <td>일반용</td>\n      <td>43</td>\n    </tr>\n    <tr>\n      <th>4</th>\n      <td>중구</td>\n      <td>일반용</td>\n      <td>54</td>\n    </tr>\n  </tbody>\n</table>\n</div>"
     },
     "execution_count": 32,
     "metadata": {},
     "output_type": "execute_result"
    }
   ],
   "source": [
    "for j in range(len(Rate)):\n",
    "    ilban.append('일반용')\n",
    "#print(Rate)\n",
    "\n",
    "Rate2 = pd.DataFrame()\n",
    "Rate2['시군구'] = pd.DataFrame(SIGUNGU)\n",
    "Rate2['계약구분'] = pd.DataFrame(ilban)\n",
    "Rate2['비율'] = pd.DataFrame(Rate)\n",
    "Rate2\n",
    "#print(Rate2.dtypes)"
   ],
   "metadata": {
    "collapsed": false,
    "pycharm": {
     "name": "#%%\n"
    }
   }
  },
  {
   "cell_type": "code",
   "execution_count": 33,
   "outputs": [
    {
     "data": {
      "text/plain": "              년월     시구  시군구 계약구분 고객호수(호)    사용량(kWh)  비율\n0  202107-202112  대전광역시  대덕구  일반용   12409   191869626  14\n1  202107-202112  대전광역시  대덕구   합계   13971  1386948055 NaN\n2  202107-202112  대전광역시   동구  일반용   14841   200756823  43\n3  202107-202112  대전광역시   동구   합계   20236   462725252 NaN\n4  202107-202112  대전광역시   서구  일반용   22614   531415750  54\n5  202107-202112  대전광역시   서구   합계   28829   985497619 NaN\n6  202107-202112  대전광역시  유성구  일반용   17908   710810841  43\n7  202107-202112  대전광역시  유성구   합계   18632  1657458344 NaN\n8  202107-202112  대전광역시   중구  일반용   15931   263306072  54\n9  202107-202112  대전광역시   중구   합계   17250   489084944 NaN",
      "text/html": "<div>\n<style scoped>\n    .dataframe tbody tr th:only-of-type {\n        vertical-align: middle;\n    }\n\n    .dataframe tbody tr th {\n        vertical-align: top;\n    }\n\n    .dataframe thead th {\n        text-align: right;\n    }\n</style>\n<table border=\"1\" class=\"dataframe\">\n  <thead>\n    <tr style=\"text-align: right;\">\n      <th></th>\n      <th>년월</th>\n      <th>시구</th>\n      <th>시군구</th>\n      <th>계약구분</th>\n      <th>고객호수(호)</th>\n      <th>사용량(kWh)</th>\n      <th>비율</th>\n    </tr>\n  </thead>\n  <tbody>\n    <tr>\n      <th>0</th>\n      <td>202107-202112</td>\n      <td>대전광역시</td>\n      <td>대덕구</td>\n      <td>일반용</td>\n      <td>12409</td>\n      <td>191869626</td>\n      <td>14</td>\n    </tr>\n    <tr>\n      <th>1</th>\n      <td>202107-202112</td>\n      <td>대전광역시</td>\n      <td>대덕구</td>\n      <td>합계</td>\n      <td>13971</td>\n      <td>1386948055</td>\n      <td>NaN</td>\n    </tr>\n    <tr>\n      <th>2</th>\n      <td>202107-202112</td>\n      <td>대전광역시</td>\n      <td>동구</td>\n      <td>일반용</td>\n      <td>14841</td>\n      <td>200756823</td>\n      <td>43</td>\n    </tr>\n    <tr>\n      <th>3</th>\n      <td>202107-202112</td>\n      <td>대전광역시</td>\n      <td>동구</td>\n      <td>합계</td>\n      <td>20236</td>\n      <td>462725252</td>\n      <td>NaN</td>\n    </tr>\n    <tr>\n      <th>4</th>\n      <td>202107-202112</td>\n      <td>대전광역시</td>\n      <td>서구</td>\n      <td>일반용</td>\n      <td>22614</td>\n      <td>531415750</td>\n      <td>54</td>\n    </tr>\n    <tr>\n      <th>5</th>\n      <td>202107-202112</td>\n      <td>대전광역시</td>\n      <td>서구</td>\n      <td>합계</td>\n      <td>28829</td>\n      <td>985497619</td>\n      <td>NaN</td>\n    </tr>\n    <tr>\n      <th>6</th>\n      <td>202107-202112</td>\n      <td>대전광역시</td>\n      <td>유성구</td>\n      <td>일반용</td>\n      <td>17908</td>\n      <td>710810841</td>\n      <td>43</td>\n    </tr>\n    <tr>\n      <th>7</th>\n      <td>202107-202112</td>\n      <td>대전광역시</td>\n      <td>유성구</td>\n      <td>합계</td>\n      <td>18632</td>\n      <td>1657458344</td>\n      <td>NaN</td>\n    </tr>\n    <tr>\n      <th>8</th>\n      <td>202107-202112</td>\n      <td>대전광역시</td>\n      <td>중구</td>\n      <td>일반용</td>\n      <td>15931</td>\n      <td>263306072</td>\n      <td>54</td>\n    </tr>\n    <tr>\n      <th>9</th>\n      <td>202107-202112</td>\n      <td>대전광역시</td>\n      <td>중구</td>\n      <td>합계</td>\n      <td>17250</td>\n      <td>489084944</td>\n      <td>NaN</td>\n    </tr>\n  </tbody>\n</table>\n</div>"
     },
     "execution_count": 33,
     "metadata": {},
     "output_type": "execute_result"
    }
   ],
   "source": [
    "Final = pd.merge(Final , Rate2, on=['시군구', '계약구분'] , how='left')\n",
    "\n",
    "#Final.drop(['비율_y]' , axis = 1 , inplace = True)\n",
    "#Final.rename(columns={'비율_y':'전체 계약종별 전력사용량 대비 일반용 사용량 비율'})\n",
    "Final = Final.sort_values(['시군구' , '계약구분'])\n",
    "Final"
   ],
   "metadata": {
    "collapsed": false,
    "pycharm": {
     "name": "#%%\n"
    }
   }
  },
  {
   "cell_type": "code",
   "execution_count": 34,
   "outputs": [],
   "source": [
    "# Final['일반용 전기의 비율'] = Final.append(Rate)\n",
    "# Final"
   ],
   "metadata": {
    "collapsed": false,
    "pycharm": {
     "name": "#%%\n"
    }
   }
  },
  {
   "cell_type": "markdown",
   "source": [
    "### 6. 날짜 체크!!!!!!!!!!!!!!!!!!!!1"
   ],
   "metadata": {
    "collapsed": false,
    "pycharm": {
     "name": "#%% md\n"
    }
   }
  },
  {
   "cell_type": "code",
   "execution_count": 35,
   "outputs": [],
   "source": [
    "Final.to_csv(\"{}_일반용_전력사용량_2107-12.csv\".format(City) , mode = 'w' , encoding= 'cp949' , index =False) #파일명 수정"
   ],
   "metadata": {
    "collapsed": false,
    "pycharm": {
     "name": "#%%\n"
    }
   }
  },
  {
   "cell_type": "code",
   "execution_count": 35,
   "outputs": [],
   "source": [],
   "metadata": {
    "collapsed": false,
    "pycharm": {
     "name": "#%%\n"
    }
   }
  },
  {
   "cell_type": "code",
   "execution_count": 36,
   "outputs": [],
   "source": [
    "# Sigu = list(set(df_3['시군구'].tolist()))\n",
    "#\n",
    "# Sigu.sort()\n",
    "#\n",
    "# Sigu"
   ],
   "metadata": {
    "collapsed": false,
    "pycharm": {
     "name": "#%%\n"
    }
   }
  },
  {
   "cell_type": "code",
   "execution_count": 37,
   "outputs": [],
   "source": [
    "# YearMonth = list(set(df_3['년월'].tolist()))\n",
    "#\n",
    "# YearMonth.sort()\n",
    "# YearMonth"
   ],
   "metadata": {
    "collapsed": false,
    "pycharm": {
     "name": "#%%\n"
    }
   }
  },
  {
   "cell_type": "code",
   "execution_count": 38,
   "outputs": [],
   "source": [
    "# Gayeak = list(set(df_3['계약구분'].tolist()))\n",
    "#\n",
    "# Gayeak.sort()\n",
    "# Gayeak"
   ],
   "metadata": {
    "collapsed": false,
    "pycharm": {
     "name": "#%%\n"
    }
   }
  },
  {
   "cell_type": "code",
   "execution_count": 39,
   "outputs": [],
   "source": [
    "# SEOUL = df_3.loc[(df_3['계약구분'] =='일반용')]\n",
    "# SEOUL.drop(['고객호수(호)' ,'전기요금(원)' , '평균판매단가(원/kWh)'] , axis = 1 , inplace = True)\n",
    "# #SEOUL.dtypes(['사용량(kWh)'])\n",
    "# SEOUL"
   ],
   "metadata": {
    "collapsed": false,
    "pycharm": {
     "name": "#%%\n"
    }
   }
  },
  {
   "cell_type": "code",
   "execution_count": 40,
   "outputs": [],
   "source": [
    "#SEOUL.to_csv(\"서울특별시_일반용_전력사용량.csv\" , mode = 'w' , encoding= 'cp949')"
   ],
   "metadata": {
    "collapsed": false,
    "pycharm": {
     "name": "#%%\n"
    }
   }
  },
  {
   "cell_type": "code",
   "execution_count": 41,
   "outputs": [],
   "source": [
    "# print(SEOUL.dtypes)\n",
    "# SEOUL = SEOUL.astype({'사용량(kWh)' : 'float'})"
   ],
   "metadata": {
    "collapsed": false,
    "pycharm": {
     "name": "#%%\n"
    }
   }
  },
  {
   "cell_type": "code",
   "execution_count": 42,
   "outputs": [],
   "source": [
    "# SEOUL"
   ],
   "metadata": {
    "collapsed": false,
    "pycharm": {
     "name": "#%%\n"
    }
   }
  },
  {
   "cell_type": "code",
   "execution_count": 43,
   "outputs": [],
   "source": [
    "# a = SEOUL['사용량(kWh)'].tolist()\n",
    "# int_list = map(int, a)\n",
    "# b=0\n",
    "# for i in int_list:\n",
    "#     b+=i\n",
    "#\n",
    "# print(b)"
   ],
   "metadata": {
    "collapsed": false,
    "pycharm": {
     "name": "#%%\n"
    }
   }
  },
  {
   "cell_type": "code",
   "execution_count": 43,
   "outputs": [],
   "source": [],
   "metadata": {
    "collapsed": false,
    "pycharm": {
     "name": "#%%\n"
    }
   }
  },
  {
   "cell_type": "code",
   "execution_count": 43,
   "outputs": [],
   "source": [],
   "metadata": {
    "collapsed": false,
    "pycharm": {
     "name": "#%%\n"
    }
   }
  },
  {
   "cell_type": "code",
   "execution_count": 43,
   "outputs": [],
   "source": [],
   "metadata": {
    "collapsed": false,
    "pycharm": {
     "name": "#%%\n"
    }
   }
  },
  {
   "cell_type": "code",
   "execution_count": 43,
   "outputs": [],
   "source": [],
   "metadata": {
    "collapsed": false,
    "pycharm": {
     "name": "#%%\n"
    }
   }
  },
  {
   "cell_type": "code",
   "execution_count": 43,
   "outputs": [],
   "source": [],
   "metadata": {
    "collapsed": false,
    "pycharm": {
     "name": "#%%\n"
    }
   }
  },
  {
   "cell_type": "code",
   "execution_count": 43,
   "outputs": [],
   "source": [],
   "metadata": {
    "collapsed": false,
    "pycharm": {
     "name": "#%%\n"
    }
   }
  },
  {
   "cell_type": "code",
   "execution_count": 43,
   "outputs": [],
   "source": [],
   "metadata": {
    "collapsed": false,
    "pycharm": {
     "name": "#%%\n"
    }
   }
  }
 ],
 "metadata": {
  "kernelspec": {
   "display_name": "Python 3",
   "language": "python",
   "name": "python3"
  },
  "language_info": {
   "codemirror_mode": {
    "name": "ipython",
    "version": 2
   },
   "file_extension": ".py",
   "mimetype": "text/x-python",
   "name": "python",
   "nbconvert_exporter": "python",
   "pygments_lexer": "ipython2",
   "version": "2.7.6"
  }
 },
 "nbformat": 4,
 "nbformat_minor": 0
}