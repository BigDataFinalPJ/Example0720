{
 "cells": [
  {
   "cell_type": "markdown",
   "source": [],
   "metadata": {
    "collapsed": false,
    "pycharm": {
     "name": "#%% md\n"
    }
   }
  },
  {
   "cell_type": "code",
   "execution_count": 1,
   "outputs": [],
   "source": [
    "import pandas as pd\n",
    "import re\n",
    "\n",
    "pd.options.display.float_format = '{:.0f}'.format"
   ],
   "metadata": {
    "collapsed": false,
    "pycharm": {
     "name": "#%%\n"
    }
   }
  },
  {
   "cell_type": "markdown",
   "source": [
    "### 1. 꼭 read_csv 21상반기, 19하반기와 같이 맞추어 주세요!!! 또한 지역(전라북도, 남도) 맞추기!!!!!"
   ],
   "metadata": {
    "collapsed": false,
    "pycharm": {
     "name": "#%% md\n"
    }
   }
  },
  {
   "cell_type": "code",
   "execution_count": 2,
   "outputs": [
    {
     "data": {
      "text/plain": "         계약종별 전력사용량 월별( 20220804 현재 ) Unnamed: 1     Unnamed: 2 Unnamed: 3  \\\n0   시도 : 세종특별자치시, 시군구 : 전체(시 / 군 / 구)        NaN            NaN        NaN   \n1         기간 : 2021년 07 월 ~ 2021년 12월        NaN            NaN        NaN   \n2                                  년월         시구            시군구       계약구분   \n3                              202107    세종특별자치시  전체(시 / 군 / 구)        주택용   \n4                              202107    세종특별자치시  전체(시 / 군 / 구)        일반용   \n..                                ...        ...            ...        ...   \n91                             202112    세종특별자치시            세종시        산업용   \n92                             202112    세종특별자치시            세종시        심 야   \n93                             202112    세종특별자치시            세종시        일반용   \n94                             202112    세종특별자치시            세종시        주택용   \n95                             202112    세종특별자치시            세종시         합계   \n\n   Unnamed: 4    Unnamed: 5       Unnamed: 6     Unnamed: 7  \n0         NaN           NaN              NaN            NaN  \n1         NaN           NaN              NaN            NaN  \n2     고객호수(호)      사용량(kWh)          전기요금(원)  평균판매단가(원/kWh)  \n3     54,198    49,869,896    5,192,142,613          104.1   \n4     14,520    73,330,465   10,570,743,751          144.2   \n..        ...           ...              ...            ...  \n91     1,691   169,320,998   19,803,420,187            117   \n92     6,945     9,431,606      713,046,680           75.6   \n93    15,037   710,372,301   53,916,553,410           75.9   \n94    54,837    49,670,256    5,438,745,098          109.5   \n95   103,381   957,934,330   81,441,213,492             85   \n\n[96 rows x 8 columns]",
      "text/html": "<div>\n<style scoped>\n    .dataframe tbody tr th:only-of-type {\n        vertical-align: middle;\n    }\n\n    .dataframe tbody tr th {\n        vertical-align: top;\n    }\n\n    .dataframe thead th {\n        text-align: right;\n    }\n</style>\n<table border=\"1\" class=\"dataframe\">\n  <thead>\n    <tr style=\"text-align: right;\">\n      <th></th>\n      <th>계약종별 전력사용량 월별( 20220804 현재 )</th>\n      <th>Unnamed: 1</th>\n      <th>Unnamed: 2</th>\n      <th>Unnamed: 3</th>\n      <th>Unnamed: 4</th>\n      <th>Unnamed: 5</th>\n      <th>Unnamed: 6</th>\n      <th>Unnamed: 7</th>\n    </tr>\n  </thead>\n  <tbody>\n    <tr>\n      <th>0</th>\n      <td>시도 : 세종특별자치시, 시군구 : 전체(시 / 군 / 구)</td>\n      <td>NaN</td>\n      <td>NaN</td>\n      <td>NaN</td>\n      <td>NaN</td>\n      <td>NaN</td>\n      <td>NaN</td>\n      <td>NaN</td>\n    </tr>\n    <tr>\n      <th>1</th>\n      <td>기간 : 2021년 07 월 ~ 2021년 12월</td>\n      <td>NaN</td>\n      <td>NaN</td>\n      <td>NaN</td>\n      <td>NaN</td>\n      <td>NaN</td>\n      <td>NaN</td>\n      <td>NaN</td>\n    </tr>\n    <tr>\n      <th>2</th>\n      <td>년월</td>\n      <td>시구</td>\n      <td>시군구</td>\n      <td>계약구분</td>\n      <td>고객호수(호)</td>\n      <td>사용량(kWh)</td>\n      <td>전기요금(원)</td>\n      <td>평균판매단가(원/kWh)</td>\n    </tr>\n    <tr>\n      <th>3</th>\n      <td>202107</td>\n      <td>세종특별자치시</td>\n      <td>전체(시 / 군 / 구)</td>\n      <td>주택용</td>\n      <td>54,198</td>\n      <td>49,869,896</td>\n      <td>5,192,142,613</td>\n      <td>104.1</td>\n    </tr>\n    <tr>\n      <th>4</th>\n      <td>202107</td>\n      <td>세종특별자치시</td>\n      <td>전체(시 / 군 / 구)</td>\n      <td>일반용</td>\n      <td>14,520</td>\n      <td>73,330,465</td>\n      <td>10,570,743,751</td>\n      <td>144.2</td>\n    </tr>\n    <tr>\n      <th>...</th>\n      <td>...</td>\n      <td>...</td>\n      <td>...</td>\n      <td>...</td>\n      <td>...</td>\n      <td>...</td>\n      <td>...</td>\n      <td>...</td>\n    </tr>\n    <tr>\n      <th>91</th>\n      <td>202112</td>\n      <td>세종특별자치시</td>\n      <td>세종시</td>\n      <td>산업용</td>\n      <td>1,691</td>\n      <td>169,320,998</td>\n      <td>19,803,420,187</td>\n      <td>117</td>\n    </tr>\n    <tr>\n      <th>92</th>\n      <td>202112</td>\n      <td>세종특별자치시</td>\n      <td>세종시</td>\n      <td>심 야</td>\n      <td>6,945</td>\n      <td>9,431,606</td>\n      <td>713,046,680</td>\n      <td>75.6</td>\n    </tr>\n    <tr>\n      <th>93</th>\n      <td>202112</td>\n      <td>세종특별자치시</td>\n      <td>세종시</td>\n      <td>일반용</td>\n      <td>15,037</td>\n      <td>710,372,301</td>\n      <td>53,916,553,410</td>\n      <td>75.9</td>\n    </tr>\n    <tr>\n      <th>94</th>\n      <td>202112</td>\n      <td>세종특별자치시</td>\n      <td>세종시</td>\n      <td>주택용</td>\n      <td>54,837</td>\n      <td>49,670,256</td>\n      <td>5,438,745,098</td>\n      <td>109.5</td>\n    </tr>\n    <tr>\n      <th>95</th>\n      <td>202112</td>\n      <td>세종특별자치시</td>\n      <td>세종시</td>\n      <td>합계</td>\n      <td>103,381</td>\n      <td>957,934,330</td>\n      <td>81,441,213,492</td>\n      <td>85</td>\n    </tr>\n  </tbody>\n</table>\n<p>96 rows × 8 columns</p>\n</div>"
     },
     "execution_count": 2,
     "metadata": {},
     "output_type": "execute_result"
    }
   ],
   "source": [
    "df = pd.read_csv('세종특별자치시_계약종별_전력사용량_월별_21하반기.csv' , encoding='cp949')\n",
    "\n",
    "df\n",
    "#exchng=  pd.read_csv('지역별_전력거래량_20220803093050.csv' , encoding='cp949')"
   ],
   "metadata": {
    "collapsed": false,
    "pycharm": {
     "name": "#%%\n"
    }
   }
  },
  {
   "cell_type": "code",
   "execution_count": 3,
   "outputs": [
    {
     "data": {
      "text/plain": "   계약종별 전력사용량 월별( 20220804 현재 ) Unnamed: 1     Unnamed: 2 Unnamed: 3  \\\n2                            년월         시구            시군구       계약구분   \n3                        202107    세종특별자치시  전체(시 / 군 / 구)        주택용   \n4                        202107    세종특별자치시  전체(시 / 군 / 구)        일반용   \n5                        202107    세종특별자치시  전체(시 / 군 / 구)        교육용   \n6                        202107    세종특별자치시  전체(시 / 군 / 구)        산업용   \n..                          ...        ...            ...        ...   \n91                       202112    세종특별자치시            세종시        산업용   \n92                       202112    세종특별자치시            세종시        심 야   \n93                       202112    세종특별자치시            세종시        일반용   \n94                       202112    세종특별자치시            세종시        주택용   \n95                       202112    세종특별자치시            세종시         합계   \n\n   Unnamed: 4    Unnamed: 5       Unnamed: 6     Unnamed: 7  \n2     고객호수(호)      사용량(kWh)          전기요금(원)  평균판매단가(원/kWh)  \n3     54,198    49,869,896    5,192,142,613          104.1   \n4     14,520    73,330,465   10,570,743,751          144.2   \n5        151     6,155,191      715,278,631          116.2   \n6      1,664   174,174,622   20,476,801,068          117.6   \n..        ...           ...              ...            ...  \n91     1,691   169,320,998   19,803,420,187            117   \n92     6,945     9,431,606      713,046,680           75.6   \n93    15,037   710,372,301   53,916,553,410           75.9   \n94    54,837    49,670,256    5,438,745,098          109.5   \n95   103,381   957,934,330   81,441,213,492             85   \n\n[93 rows x 8 columns]",
      "text/html": "<div>\n<style scoped>\n    .dataframe tbody tr th:only-of-type {\n        vertical-align: middle;\n    }\n\n    .dataframe tbody tr th {\n        vertical-align: top;\n    }\n\n    .dataframe thead th {\n        text-align: right;\n    }\n</style>\n<table border=\"1\" class=\"dataframe\">\n  <thead>\n    <tr style=\"text-align: right;\">\n      <th></th>\n      <th>계약종별 전력사용량 월별( 20220804 현재 )</th>\n      <th>Unnamed: 1</th>\n      <th>Unnamed: 2</th>\n      <th>Unnamed: 3</th>\n      <th>Unnamed: 4</th>\n      <th>Unnamed: 5</th>\n      <th>Unnamed: 6</th>\n      <th>Unnamed: 7</th>\n    </tr>\n  </thead>\n  <tbody>\n    <tr>\n      <th>2</th>\n      <td>년월</td>\n      <td>시구</td>\n      <td>시군구</td>\n      <td>계약구분</td>\n      <td>고객호수(호)</td>\n      <td>사용량(kWh)</td>\n      <td>전기요금(원)</td>\n      <td>평균판매단가(원/kWh)</td>\n    </tr>\n    <tr>\n      <th>3</th>\n      <td>202107</td>\n      <td>세종특별자치시</td>\n      <td>전체(시 / 군 / 구)</td>\n      <td>주택용</td>\n      <td>54,198</td>\n      <td>49,869,896</td>\n      <td>5,192,142,613</td>\n      <td>104.1</td>\n    </tr>\n    <tr>\n      <th>4</th>\n      <td>202107</td>\n      <td>세종특별자치시</td>\n      <td>전체(시 / 군 / 구)</td>\n      <td>일반용</td>\n      <td>14,520</td>\n      <td>73,330,465</td>\n      <td>10,570,743,751</td>\n      <td>144.2</td>\n    </tr>\n    <tr>\n      <th>5</th>\n      <td>202107</td>\n      <td>세종특별자치시</td>\n      <td>전체(시 / 군 / 구)</td>\n      <td>교육용</td>\n      <td>151</td>\n      <td>6,155,191</td>\n      <td>715,278,631</td>\n      <td>116.2</td>\n    </tr>\n    <tr>\n      <th>6</th>\n      <td>202107</td>\n      <td>세종특별자치시</td>\n      <td>전체(시 / 군 / 구)</td>\n      <td>산업용</td>\n      <td>1,664</td>\n      <td>174,174,622</td>\n      <td>20,476,801,068</td>\n      <td>117.6</td>\n    </tr>\n    <tr>\n      <th>...</th>\n      <td>...</td>\n      <td>...</td>\n      <td>...</td>\n      <td>...</td>\n      <td>...</td>\n      <td>...</td>\n      <td>...</td>\n      <td>...</td>\n    </tr>\n    <tr>\n      <th>91</th>\n      <td>202112</td>\n      <td>세종특별자치시</td>\n      <td>세종시</td>\n      <td>산업용</td>\n      <td>1,691</td>\n      <td>169,320,998</td>\n      <td>19,803,420,187</td>\n      <td>117</td>\n    </tr>\n    <tr>\n      <th>92</th>\n      <td>202112</td>\n      <td>세종특별자치시</td>\n      <td>세종시</td>\n      <td>심 야</td>\n      <td>6,945</td>\n      <td>9,431,606</td>\n      <td>713,046,680</td>\n      <td>75.6</td>\n    </tr>\n    <tr>\n      <th>93</th>\n      <td>202112</td>\n      <td>세종특별자치시</td>\n      <td>세종시</td>\n      <td>일반용</td>\n      <td>15,037</td>\n      <td>710,372,301</td>\n      <td>53,916,553,410</td>\n      <td>75.9</td>\n    </tr>\n    <tr>\n      <th>94</th>\n      <td>202112</td>\n      <td>세종특별자치시</td>\n      <td>세종시</td>\n      <td>주택용</td>\n      <td>54,837</td>\n      <td>49,670,256</td>\n      <td>5,438,745,098</td>\n      <td>109.5</td>\n    </tr>\n    <tr>\n      <th>95</th>\n      <td>202112</td>\n      <td>세종특별자치시</td>\n      <td>세종시</td>\n      <td>합계</td>\n      <td>103,381</td>\n      <td>957,934,330</td>\n      <td>81,441,213,492</td>\n      <td>85</td>\n    </tr>\n  </tbody>\n</table>\n<p>93 rows × 8 columns</p>\n</div>"
     },
     "execution_count": 3,
     "metadata": {},
     "output_type": "execute_result"
    }
   ],
   "source": [
    "df = df.drop([0,1 , 46] , axis = 0)\n",
    "#0,1 , 10은 지우는게 맞다\n",
    "df"
   ],
   "metadata": {
    "collapsed": false,
    "pycharm": {
     "name": "#%%\n"
    }
   }
  },
  {
   "cell_type": "code",
   "execution_count": 4,
   "outputs": [],
   "source": [
    "a= df.loc[2].tolist()\n",
    "a\n",
    "df = df.drop([2] , axis = 0)"
   ],
   "metadata": {
    "collapsed": false,
    "pycharm": {
     "name": "#%%\n"
    }
   }
  },
  {
   "cell_type": "code",
   "execution_count": 5,
   "outputs": [
    {
     "data": {
      "text/plain": "        년월       시구            시군구 계약구분   고객호수(호)      사용량(kWh)  \\\n3   202107  세종특별자치시  전체(시 / 군 / 구)  주택용   54,198    49,869,896    \n4   202107  세종특별자치시  전체(시 / 군 / 구)  일반용   14,520    73,330,465    \n5   202107  세종특별자치시  전체(시 / 군 / 구)  교육용      151     6,155,191    \n6   202107  세종특별자치시  전체(시 / 군 / 구)  산업용    1,664   174,174,622    \n7   202107  세종특별자치시  전체(시 / 군 / 구)  농사용   10,184     7,685,545    \n..     ...      ...            ...  ...       ...           ...   \n91  202112  세종특별자치시            세종시  산업용    1,691   169,320,998    \n92  202112  세종특별자치시            세종시  심 야    6,945     9,431,606    \n93  202112  세종특별자치시            세종시  일반용   15,037   710,372,301    \n94  202112  세종특별자치시            세종시  주택용   54,837    49,670,256    \n95  202112  세종특별자치시            세종시   합계  103,381   957,934,330    \n\n            전기요금(원) 평균판매단가(원/kWh)  \n3    5,192,142,613         104.1   \n4   10,570,743,751         144.2   \n5      715,278,631         116.2   \n6   20,476,801,068         117.6   \n7      351,650,798          45.8   \n..              ...           ...  \n91  19,803,420,187           117   \n92     713,046,680          75.6   \n93  53,916,553,410          75.9   \n94   5,438,745,098         109.5   \n95  81,441,213,492            85   \n\n[92 rows x 8 columns]",
      "text/html": "<div>\n<style scoped>\n    .dataframe tbody tr th:only-of-type {\n        vertical-align: middle;\n    }\n\n    .dataframe tbody tr th {\n        vertical-align: top;\n    }\n\n    .dataframe thead th {\n        text-align: right;\n    }\n</style>\n<table border=\"1\" class=\"dataframe\">\n  <thead>\n    <tr style=\"text-align: right;\">\n      <th></th>\n      <th>년월</th>\n      <th>시구</th>\n      <th>시군구</th>\n      <th>계약구분</th>\n      <th>고객호수(호)</th>\n      <th>사용량(kWh)</th>\n      <th>전기요금(원)</th>\n      <th>평균판매단가(원/kWh)</th>\n    </tr>\n  </thead>\n  <tbody>\n    <tr>\n      <th>3</th>\n      <td>202107</td>\n      <td>세종특별자치시</td>\n      <td>전체(시 / 군 / 구)</td>\n      <td>주택용</td>\n      <td>54,198</td>\n      <td>49,869,896</td>\n      <td>5,192,142,613</td>\n      <td>104.1</td>\n    </tr>\n    <tr>\n      <th>4</th>\n      <td>202107</td>\n      <td>세종특별자치시</td>\n      <td>전체(시 / 군 / 구)</td>\n      <td>일반용</td>\n      <td>14,520</td>\n      <td>73,330,465</td>\n      <td>10,570,743,751</td>\n      <td>144.2</td>\n    </tr>\n    <tr>\n      <th>5</th>\n      <td>202107</td>\n      <td>세종특별자치시</td>\n      <td>전체(시 / 군 / 구)</td>\n      <td>교육용</td>\n      <td>151</td>\n      <td>6,155,191</td>\n      <td>715,278,631</td>\n      <td>116.2</td>\n    </tr>\n    <tr>\n      <th>6</th>\n      <td>202107</td>\n      <td>세종특별자치시</td>\n      <td>전체(시 / 군 / 구)</td>\n      <td>산업용</td>\n      <td>1,664</td>\n      <td>174,174,622</td>\n      <td>20,476,801,068</td>\n      <td>117.6</td>\n    </tr>\n    <tr>\n      <th>7</th>\n      <td>202107</td>\n      <td>세종특별자치시</td>\n      <td>전체(시 / 군 / 구)</td>\n      <td>농사용</td>\n      <td>10,184</td>\n      <td>7,685,545</td>\n      <td>351,650,798</td>\n      <td>45.8</td>\n    </tr>\n    <tr>\n      <th>...</th>\n      <td>...</td>\n      <td>...</td>\n      <td>...</td>\n      <td>...</td>\n      <td>...</td>\n      <td>...</td>\n      <td>...</td>\n      <td>...</td>\n    </tr>\n    <tr>\n      <th>91</th>\n      <td>202112</td>\n      <td>세종특별자치시</td>\n      <td>세종시</td>\n      <td>산업용</td>\n      <td>1,691</td>\n      <td>169,320,998</td>\n      <td>19,803,420,187</td>\n      <td>117</td>\n    </tr>\n    <tr>\n      <th>92</th>\n      <td>202112</td>\n      <td>세종특별자치시</td>\n      <td>세종시</td>\n      <td>심 야</td>\n      <td>6,945</td>\n      <td>9,431,606</td>\n      <td>713,046,680</td>\n      <td>75.6</td>\n    </tr>\n    <tr>\n      <th>93</th>\n      <td>202112</td>\n      <td>세종특별자치시</td>\n      <td>세종시</td>\n      <td>일반용</td>\n      <td>15,037</td>\n      <td>710,372,301</td>\n      <td>53,916,553,410</td>\n      <td>75.9</td>\n    </tr>\n    <tr>\n      <th>94</th>\n      <td>202112</td>\n      <td>세종특별자치시</td>\n      <td>세종시</td>\n      <td>주택용</td>\n      <td>54,837</td>\n      <td>49,670,256</td>\n      <td>5,438,745,098</td>\n      <td>109.5</td>\n    </tr>\n    <tr>\n      <th>95</th>\n      <td>202112</td>\n      <td>세종특별자치시</td>\n      <td>세종시</td>\n      <td>합계</td>\n      <td>103,381</td>\n      <td>957,934,330</td>\n      <td>81,441,213,492</td>\n      <td>85</td>\n    </tr>\n  </tbody>\n</table>\n<p>92 rows × 8 columns</p>\n</div>"
     },
     "execution_count": 5,
     "metadata": {},
     "output_type": "execute_result"
    }
   ],
   "source": [
    "df.columns = a\n",
    "df"
   ],
   "metadata": {
    "collapsed": false,
    "pycharm": {
     "name": "#%%\n"
    }
   }
  },
  {
   "cell_type": "code",
   "execution_count": 6,
   "outputs": [
    {
     "data": {
      "text/plain": "        년월       시구            시군구 계약구분  고객호수(호)       사용량(kWh)  \\\n3   202107  세종특별자치시  전체(시 / 군 / 구)  주택용  54,198     49,869,896    \n4   202107  세종특별자치시  전체(시 / 군 / 구)  일반용  14,520     73,330,465    \n5   202107  세종특별자치시  전체(시 / 군 / 구)  교육용     151      6,155,191    \n6   202107  세종특별자치시  전체(시 / 군 / 구)  산업용   1,664    174,174,622    \n7   202107  세종특별자치시  전체(시 / 군 / 구)  농사용  10,184      7,685,545    \n8   202107  세종특별자치시  전체(시 / 군 / 구)  가로등  14,246      2,383,116    \n9   202107  세종특별자치시  전체(시 / 군 / 구)  심 야   7,001      1,699,694    \n10  202108  세종특별자치시  전체(시 / 군 / 구)  주택용  54,207     71,904,003    \n11  202108  세종특별자치시  전체(시 / 군 / 구)  일반용  14,633     79,976,832    \n12  202108  세종특별자치시  전체(시 / 군 / 구)  교육용     151      5,625,312    \n13  202108  세종특별자치시  전체(시 / 군 / 구)  산업용   1,674    166,810,462    \n14  202108  세종특별자치시  전체(시 / 군 / 구)  농사용  10,231     10,788,765    \n15  202108  세종특별자치시  전체(시 / 군 / 구)  가로등  14,276      2,520,946    \n16  202108  세종특별자치시  전체(시 / 군 / 구)  심 야   6,987      1,375,779    \n17  202109  세종특별자치시  전체(시 / 군 / 구)  주택용  54,605     60,816,118    \n18  202109  세종특별자치시  전체(시 / 군 / 구)  일반용  14,753     68,787,186    \n19  202109  세종특별자치시  전체(시 / 군 / 구)  교육용     151      6,224,255    \n20  202109  세종특별자치시  전체(시 / 군 / 구)  산업용   1,676    160,030,114    \n21  202109  세종특별자치시  전체(시 / 군 / 구)  농사용  10,271      9,285,211    \n22  202109  세종특별자치시  전체(시 / 군 / 구)  가로등  14,299      2,653,518    \n23  202109  세종특별자치시  전체(시 / 군 / 구)  심 야   6,981      1,554,697    \n24  202110  세종특별자치시  전체(시 / 군 / 구)  주택용  54,710     47,987,667    \n25  202110  세종특별자치시  전체(시 / 군 / 구)  일반용  14,821     60,864,010    \n26  202110  세종특별자치시  전체(시 / 군 / 구)  교육용     151      5,467,544    \n27  202110  세종특별자치시  전체(시 / 군 / 구)  산업용   1,688    160,105,571    \n28  202110  세종특별자치시  전체(시 / 군 / 구)  농사용  10,291      7,156,614    \n29  202110  세종특별자치시  전체(시 / 군 / 구)  가로등  14,329      2,853,168    \n30  202110  세종특별자치시  전체(시 / 군 / 구)  심 야   6,972      2,266,419    \n31  202111  세종특별자치시  전체(시 / 군 / 구)  주택용  54,762     49,000,537    \n32  202111  세종특별자치시  전체(시 / 군 / 구)  일반용  14,953     60,730,206    \n33  202111  세종특별자치시  전체(시 / 군 / 구)  교육용     151      6,562,494    \n34  202111  세종특별자치시  전체(시 / 군 / 구)  산업용   1,691    161,778,265    \n35  202111  세종특별자치시  전체(시 / 군 / 구)  농사용  15,243     10,000,246    \n36  202111  세종특별자치시  전체(시 / 군 / 구)  가로등  14,367      3,140,008    \n37  202111  세종특별자치시  전체(시 / 군 / 구)  심 야   6,966      6,078,348    \n38  202112  세종특별자치시  전체(시 / 군 / 구)  주택용  54,837     49,670,256    \n39  202112  세종특별자치시  전체(시 / 군 / 구)  일반용  15,037    710,372,301    \n40  202112  세종특별자치시  전체(시 / 군 / 구)  교육용     151      8,728,109    \n41  202112  세종특별자치시  전체(시 / 군 / 구)  산업용   1,691    169,320,998    \n42  202112  세종특별자치시  전체(시 / 군 / 구)  농사용  10,330      7,146,127    \n43  202112  세종특별자치시  전체(시 / 군 / 구)  가로등  14,390      3,264,933    \n44  202112  세종특별자치시  전체(시 / 군 / 구)  심 야   6,945      9,431,606    \n45      합계       합계             합계   합계  621,335  2,505,577,154   \n\n            전기요금(원) 평균판매단가(원/kWh)  \n3    5,192,142,613         104.1   \n4   10,570,743,751         144.2   \n5      715,278,631         116.2   \n6   20,476,801,068         117.6   \n7      351,650,798          45.8   \n8      288,611,351         121.1   \n9       96,343,470          56.7   \n10   8,629,545,588         120.0   \n11  11,246,455,079         140.6   \n12     687,931,601         122.3   \n13  19,164,073,394         114.9   \n14     466,991,714          43.3   \n15     296,355,045         117.6   \n16      79,848,751          58.0   \n17   6,560,485,211         107.9   \n18   8,632,677,399         125.5   \n19     674,463,843         108.4   \n20  14,836,984,978          92.7   \n21     413,860,060          44.6   \n22     304,907,934         114.9   \n23      87,657,741          56.4   \n24   5,045,779,506         105.1   \n25   7,115,689,521         116.9   \n26     503,840,044          92.2   \n27  14,696,367,642          91.8   \n28     358,379,393          50.1   \n29     321,766,601         112.8   \n30     127,884,586          56.4   \n31   5,292,863,383         108.0   \n32   8,209,493,796         135.2   \n33     668,958,659         101.9   \n34  18,897,693,222         116.8   \n35     412,047,891          41.2   \n36     346,686,575         110.4   \n37     396,179,175          65.2   \n38   5,438,745,098         109.5   \n39  53,916,553,410          75.9   \n40     859,686,263          98.5   \n41  19,803,420,187         117.0   \n42     356,316,714          49.9   \n43     353,445,140         108.3   \n44     713,046,680          75.6   \n45  253,608,653,506         101.2  ",
      "text/html": "<div>\n<style scoped>\n    .dataframe tbody tr th:only-of-type {\n        vertical-align: middle;\n    }\n\n    .dataframe tbody tr th {\n        vertical-align: top;\n    }\n\n    .dataframe thead th {\n        text-align: right;\n    }\n</style>\n<table border=\"1\" class=\"dataframe\">\n  <thead>\n    <tr style=\"text-align: right;\">\n      <th></th>\n      <th>년월</th>\n      <th>시구</th>\n      <th>시군구</th>\n      <th>계약구분</th>\n      <th>고객호수(호)</th>\n      <th>사용량(kWh)</th>\n      <th>전기요금(원)</th>\n      <th>평균판매단가(원/kWh)</th>\n    </tr>\n  </thead>\n  <tbody>\n    <tr>\n      <th>3</th>\n      <td>202107</td>\n      <td>세종특별자치시</td>\n      <td>전체(시 / 군 / 구)</td>\n      <td>주택용</td>\n      <td>54,198</td>\n      <td>49,869,896</td>\n      <td>5,192,142,613</td>\n      <td>104.1</td>\n    </tr>\n    <tr>\n      <th>4</th>\n      <td>202107</td>\n      <td>세종특별자치시</td>\n      <td>전체(시 / 군 / 구)</td>\n      <td>일반용</td>\n      <td>14,520</td>\n      <td>73,330,465</td>\n      <td>10,570,743,751</td>\n      <td>144.2</td>\n    </tr>\n    <tr>\n      <th>5</th>\n      <td>202107</td>\n      <td>세종특별자치시</td>\n      <td>전체(시 / 군 / 구)</td>\n      <td>교육용</td>\n      <td>151</td>\n      <td>6,155,191</td>\n      <td>715,278,631</td>\n      <td>116.2</td>\n    </tr>\n    <tr>\n      <th>6</th>\n      <td>202107</td>\n      <td>세종특별자치시</td>\n      <td>전체(시 / 군 / 구)</td>\n      <td>산업용</td>\n      <td>1,664</td>\n      <td>174,174,622</td>\n      <td>20,476,801,068</td>\n      <td>117.6</td>\n    </tr>\n    <tr>\n      <th>7</th>\n      <td>202107</td>\n      <td>세종특별자치시</td>\n      <td>전체(시 / 군 / 구)</td>\n      <td>농사용</td>\n      <td>10,184</td>\n      <td>7,685,545</td>\n      <td>351,650,798</td>\n      <td>45.8</td>\n    </tr>\n    <tr>\n      <th>8</th>\n      <td>202107</td>\n      <td>세종특별자치시</td>\n      <td>전체(시 / 군 / 구)</td>\n      <td>가로등</td>\n      <td>14,246</td>\n      <td>2,383,116</td>\n      <td>288,611,351</td>\n      <td>121.1</td>\n    </tr>\n    <tr>\n      <th>9</th>\n      <td>202107</td>\n      <td>세종특별자치시</td>\n      <td>전체(시 / 군 / 구)</td>\n      <td>심 야</td>\n      <td>7,001</td>\n      <td>1,699,694</td>\n      <td>96,343,470</td>\n      <td>56.7</td>\n    </tr>\n    <tr>\n      <th>10</th>\n      <td>202108</td>\n      <td>세종특별자치시</td>\n      <td>전체(시 / 군 / 구)</td>\n      <td>주택용</td>\n      <td>54,207</td>\n      <td>71,904,003</td>\n      <td>8,629,545,588</td>\n      <td>120.0</td>\n    </tr>\n    <tr>\n      <th>11</th>\n      <td>202108</td>\n      <td>세종특별자치시</td>\n      <td>전체(시 / 군 / 구)</td>\n      <td>일반용</td>\n      <td>14,633</td>\n      <td>79,976,832</td>\n      <td>11,246,455,079</td>\n      <td>140.6</td>\n    </tr>\n    <tr>\n      <th>12</th>\n      <td>202108</td>\n      <td>세종특별자치시</td>\n      <td>전체(시 / 군 / 구)</td>\n      <td>교육용</td>\n      <td>151</td>\n      <td>5,625,312</td>\n      <td>687,931,601</td>\n      <td>122.3</td>\n    </tr>\n    <tr>\n      <th>13</th>\n      <td>202108</td>\n      <td>세종특별자치시</td>\n      <td>전체(시 / 군 / 구)</td>\n      <td>산업용</td>\n      <td>1,674</td>\n      <td>166,810,462</td>\n      <td>19,164,073,394</td>\n      <td>114.9</td>\n    </tr>\n    <tr>\n      <th>14</th>\n      <td>202108</td>\n      <td>세종특별자치시</td>\n      <td>전체(시 / 군 / 구)</td>\n      <td>농사용</td>\n      <td>10,231</td>\n      <td>10,788,765</td>\n      <td>466,991,714</td>\n      <td>43.3</td>\n    </tr>\n    <tr>\n      <th>15</th>\n      <td>202108</td>\n      <td>세종특별자치시</td>\n      <td>전체(시 / 군 / 구)</td>\n      <td>가로등</td>\n      <td>14,276</td>\n      <td>2,520,946</td>\n      <td>296,355,045</td>\n      <td>117.6</td>\n    </tr>\n    <tr>\n      <th>16</th>\n      <td>202108</td>\n      <td>세종특별자치시</td>\n      <td>전체(시 / 군 / 구)</td>\n      <td>심 야</td>\n      <td>6,987</td>\n      <td>1,375,779</td>\n      <td>79,848,751</td>\n      <td>58.0</td>\n    </tr>\n    <tr>\n      <th>17</th>\n      <td>202109</td>\n      <td>세종특별자치시</td>\n      <td>전체(시 / 군 / 구)</td>\n      <td>주택용</td>\n      <td>54,605</td>\n      <td>60,816,118</td>\n      <td>6,560,485,211</td>\n      <td>107.9</td>\n    </tr>\n    <tr>\n      <th>18</th>\n      <td>202109</td>\n      <td>세종특별자치시</td>\n      <td>전체(시 / 군 / 구)</td>\n      <td>일반용</td>\n      <td>14,753</td>\n      <td>68,787,186</td>\n      <td>8,632,677,399</td>\n      <td>125.5</td>\n    </tr>\n    <tr>\n      <th>19</th>\n      <td>202109</td>\n      <td>세종특별자치시</td>\n      <td>전체(시 / 군 / 구)</td>\n      <td>교육용</td>\n      <td>151</td>\n      <td>6,224,255</td>\n      <td>674,463,843</td>\n      <td>108.4</td>\n    </tr>\n    <tr>\n      <th>20</th>\n      <td>202109</td>\n      <td>세종특별자치시</td>\n      <td>전체(시 / 군 / 구)</td>\n      <td>산업용</td>\n      <td>1,676</td>\n      <td>160,030,114</td>\n      <td>14,836,984,978</td>\n      <td>92.7</td>\n    </tr>\n    <tr>\n      <th>21</th>\n      <td>202109</td>\n      <td>세종특별자치시</td>\n      <td>전체(시 / 군 / 구)</td>\n      <td>농사용</td>\n      <td>10,271</td>\n      <td>9,285,211</td>\n      <td>413,860,060</td>\n      <td>44.6</td>\n    </tr>\n    <tr>\n      <th>22</th>\n      <td>202109</td>\n      <td>세종특별자치시</td>\n      <td>전체(시 / 군 / 구)</td>\n      <td>가로등</td>\n      <td>14,299</td>\n      <td>2,653,518</td>\n      <td>304,907,934</td>\n      <td>114.9</td>\n    </tr>\n    <tr>\n      <th>23</th>\n      <td>202109</td>\n      <td>세종특별자치시</td>\n      <td>전체(시 / 군 / 구)</td>\n      <td>심 야</td>\n      <td>6,981</td>\n      <td>1,554,697</td>\n      <td>87,657,741</td>\n      <td>56.4</td>\n    </tr>\n    <tr>\n      <th>24</th>\n      <td>202110</td>\n      <td>세종특별자치시</td>\n      <td>전체(시 / 군 / 구)</td>\n      <td>주택용</td>\n      <td>54,710</td>\n      <td>47,987,667</td>\n      <td>5,045,779,506</td>\n      <td>105.1</td>\n    </tr>\n    <tr>\n      <th>25</th>\n      <td>202110</td>\n      <td>세종특별자치시</td>\n      <td>전체(시 / 군 / 구)</td>\n      <td>일반용</td>\n      <td>14,821</td>\n      <td>60,864,010</td>\n      <td>7,115,689,521</td>\n      <td>116.9</td>\n    </tr>\n    <tr>\n      <th>26</th>\n      <td>202110</td>\n      <td>세종특별자치시</td>\n      <td>전체(시 / 군 / 구)</td>\n      <td>교육용</td>\n      <td>151</td>\n      <td>5,467,544</td>\n      <td>503,840,044</td>\n      <td>92.2</td>\n    </tr>\n    <tr>\n      <th>27</th>\n      <td>202110</td>\n      <td>세종특별자치시</td>\n      <td>전체(시 / 군 / 구)</td>\n      <td>산업용</td>\n      <td>1,688</td>\n      <td>160,105,571</td>\n      <td>14,696,367,642</td>\n      <td>91.8</td>\n    </tr>\n    <tr>\n      <th>28</th>\n      <td>202110</td>\n      <td>세종특별자치시</td>\n      <td>전체(시 / 군 / 구)</td>\n      <td>농사용</td>\n      <td>10,291</td>\n      <td>7,156,614</td>\n      <td>358,379,393</td>\n      <td>50.1</td>\n    </tr>\n    <tr>\n      <th>29</th>\n      <td>202110</td>\n      <td>세종특별자치시</td>\n      <td>전체(시 / 군 / 구)</td>\n      <td>가로등</td>\n      <td>14,329</td>\n      <td>2,853,168</td>\n      <td>321,766,601</td>\n      <td>112.8</td>\n    </tr>\n    <tr>\n      <th>30</th>\n      <td>202110</td>\n      <td>세종특별자치시</td>\n      <td>전체(시 / 군 / 구)</td>\n      <td>심 야</td>\n      <td>6,972</td>\n      <td>2,266,419</td>\n      <td>127,884,586</td>\n      <td>56.4</td>\n    </tr>\n    <tr>\n      <th>31</th>\n      <td>202111</td>\n      <td>세종특별자치시</td>\n      <td>전체(시 / 군 / 구)</td>\n      <td>주택용</td>\n      <td>54,762</td>\n      <td>49,000,537</td>\n      <td>5,292,863,383</td>\n      <td>108.0</td>\n    </tr>\n    <tr>\n      <th>32</th>\n      <td>202111</td>\n      <td>세종특별자치시</td>\n      <td>전체(시 / 군 / 구)</td>\n      <td>일반용</td>\n      <td>14,953</td>\n      <td>60,730,206</td>\n      <td>8,209,493,796</td>\n      <td>135.2</td>\n    </tr>\n    <tr>\n      <th>33</th>\n      <td>202111</td>\n      <td>세종특별자치시</td>\n      <td>전체(시 / 군 / 구)</td>\n      <td>교육용</td>\n      <td>151</td>\n      <td>6,562,494</td>\n      <td>668,958,659</td>\n      <td>101.9</td>\n    </tr>\n    <tr>\n      <th>34</th>\n      <td>202111</td>\n      <td>세종특별자치시</td>\n      <td>전체(시 / 군 / 구)</td>\n      <td>산업용</td>\n      <td>1,691</td>\n      <td>161,778,265</td>\n      <td>18,897,693,222</td>\n      <td>116.8</td>\n    </tr>\n    <tr>\n      <th>35</th>\n      <td>202111</td>\n      <td>세종특별자치시</td>\n      <td>전체(시 / 군 / 구)</td>\n      <td>농사용</td>\n      <td>15,243</td>\n      <td>10,000,246</td>\n      <td>412,047,891</td>\n      <td>41.2</td>\n    </tr>\n    <tr>\n      <th>36</th>\n      <td>202111</td>\n      <td>세종특별자치시</td>\n      <td>전체(시 / 군 / 구)</td>\n      <td>가로등</td>\n      <td>14,367</td>\n      <td>3,140,008</td>\n      <td>346,686,575</td>\n      <td>110.4</td>\n    </tr>\n    <tr>\n      <th>37</th>\n      <td>202111</td>\n      <td>세종특별자치시</td>\n      <td>전체(시 / 군 / 구)</td>\n      <td>심 야</td>\n      <td>6,966</td>\n      <td>6,078,348</td>\n      <td>396,179,175</td>\n      <td>65.2</td>\n    </tr>\n    <tr>\n      <th>38</th>\n      <td>202112</td>\n      <td>세종특별자치시</td>\n      <td>전체(시 / 군 / 구)</td>\n      <td>주택용</td>\n      <td>54,837</td>\n      <td>49,670,256</td>\n      <td>5,438,745,098</td>\n      <td>109.5</td>\n    </tr>\n    <tr>\n      <th>39</th>\n      <td>202112</td>\n      <td>세종특별자치시</td>\n      <td>전체(시 / 군 / 구)</td>\n      <td>일반용</td>\n      <td>15,037</td>\n      <td>710,372,301</td>\n      <td>53,916,553,410</td>\n      <td>75.9</td>\n    </tr>\n    <tr>\n      <th>40</th>\n      <td>202112</td>\n      <td>세종특별자치시</td>\n      <td>전체(시 / 군 / 구)</td>\n      <td>교육용</td>\n      <td>151</td>\n      <td>8,728,109</td>\n      <td>859,686,263</td>\n      <td>98.5</td>\n    </tr>\n    <tr>\n      <th>41</th>\n      <td>202112</td>\n      <td>세종특별자치시</td>\n      <td>전체(시 / 군 / 구)</td>\n      <td>산업용</td>\n      <td>1,691</td>\n      <td>169,320,998</td>\n      <td>19,803,420,187</td>\n      <td>117.0</td>\n    </tr>\n    <tr>\n      <th>42</th>\n      <td>202112</td>\n      <td>세종특별자치시</td>\n      <td>전체(시 / 군 / 구)</td>\n      <td>농사용</td>\n      <td>10,330</td>\n      <td>7,146,127</td>\n      <td>356,316,714</td>\n      <td>49.9</td>\n    </tr>\n    <tr>\n      <th>43</th>\n      <td>202112</td>\n      <td>세종특별자치시</td>\n      <td>전체(시 / 군 / 구)</td>\n      <td>가로등</td>\n      <td>14,390</td>\n      <td>3,264,933</td>\n      <td>353,445,140</td>\n      <td>108.3</td>\n    </tr>\n    <tr>\n      <th>44</th>\n      <td>202112</td>\n      <td>세종특별자치시</td>\n      <td>전체(시 / 군 / 구)</td>\n      <td>심 야</td>\n      <td>6,945</td>\n      <td>9,431,606</td>\n      <td>713,046,680</td>\n      <td>75.6</td>\n    </tr>\n    <tr>\n      <th>45</th>\n      <td>합계</td>\n      <td>합계</td>\n      <td>합계</td>\n      <td>합계</td>\n      <td>621,335</td>\n      <td>2,505,577,154</td>\n      <td>253,608,653,506</td>\n      <td>101.2</td>\n    </tr>\n  </tbody>\n</table>\n</div>"
     },
     "execution_count": 6,
     "metadata": {},
     "output_type": "execute_result"
    }
   ],
   "source": [
    "df_2 = df.loc[:45]\n",
    "df_2\n"
   ],
   "metadata": {
    "collapsed": false,
    "pycharm": {
     "name": "#%%\n"
    }
   }
  },
  {
   "cell_type": "code",
   "execution_count": 7,
   "outputs": [
    {
     "name": "stderr",
     "output_type": "stream",
     "text": [
      "C:\\Users\\user\\AppData\\Local\\Temp\\ipykernel_15616\\3551721261.py:3: SettingWithCopyWarning: \n",
      "A value is trying to be set on a copy of a slice from a DataFrame\n",
      "\n",
      "See the caveats in the documentation: https://pandas.pydata.org/pandas-docs/stable/user_guide/indexing.html#returning-a-view-versus-a-copy\n",
      "  GyeonGi.drop(['시군구' , '전기요금(원)' , '평균판매단가(원/kWh)'] , axis = 1 , inplace = True)\n"
     ]
    },
    {
     "data": {
      "text/plain": "        년월       시구 계약구분  고객호수(호)      사용량(kWh)\n4   202107  세종특별자치시  일반용  14,520    73,330,465 \n11  202108  세종특별자치시  일반용  14,633    79,976,832 \n18  202109  세종특별자치시  일반용  14,753    68,787,186 \n25  202110  세종특별자치시  일반용  14,821    60,864,010 \n32  202111  세종특별자치시  일반용  14,953    60,730,206 \n39  202112  세종특별자치시  일반용  15,037   710,372,301 ",
      "text/html": "<div>\n<style scoped>\n    .dataframe tbody tr th:only-of-type {\n        vertical-align: middle;\n    }\n\n    .dataframe tbody tr th {\n        vertical-align: top;\n    }\n\n    .dataframe thead th {\n        text-align: right;\n    }\n</style>\n<table border=\"1\" class=\"dataframe\">\n  <thead>\n    <tr style=\"text-align: right;\">\n      <th></th>\n      <th>년월</th>\n      <th>시구</th>\n      <th>계약구분</th>\n      <th>고객호수(호)</th>\n      <th>사용량(kWh)</th>\n    </tr>\n  </thead>\n  <tbody>\n    <tr>\n      <th>4</th>\n      <td>202107</td>\n      <td>세종특별자치시</td>\n      <td>일반용</td>\n      <td>14,520</td>\n      <td>73,330,465</td>\n    </tr>\n    <tr>\n      <th>11</th>\n      <td>202108</td>\n      <td>세종특별자치시</td>\n      <td>일반용</td>\n      <td>14,633</td>\n      <td>79,976,832</td>\n    </tr>\n    <tr>\n      <th>18</th>\n      <td>202109</td>\n      <td>세종특별자치시</td>\n      <td>일반용</td>\n      <td>14,753</td>\n      <td>68,787,186</td>\n    </tr>\n    <tr>\n      <th>25</th>\n      <td>202110</td>\n      <td>세종특별자치시</td>\n      <td>일반용</td>\n      <td>14,821</td>\n      <td>60,864,010</td>\n    </tr>\n    <tr>\n      <th>32</th>\n      <td>202111</td>\n      <td>세종특별자치시</td>\n      <td>일반용</td>\n      <td>14,953</td>\n      <td>60,730,206</td>\n    </tr>\n    <tr>\n      <th>39</th>\n      <td>202112</td>\n      <td>세종특별자치시</td>\n      <td>일반용</td>\n      <td>15,037</td>\n      <td>710,372,301</td>\n    </tr>\n  </tbody>\n</table>\n</div>"
     },
     "execution_count": 7,
     "metadata": {},
     "output_type": "execute_result"
    }
   ],
   "source": [
    "GyeonGi  = df_2.loc[(df_2['계약구분'] == '일반용')]\n",
    "#SEOUL = df_3.loc[(df_3['계약구분'] =='일반용')]\n",
    "GyeonGi.drop(['시군구' , '전기요금(원)' , '평균판매단가(원/kWh)'] , axis = 1 , inplace = True)\n",
    "GyeonGi"
   ],
   "metadata": {
    "collapsed": false,
    "pycharm": {
     "name": "#%%\n"
    }
   }
  },
  {
   "cell_type": "code",
   "execution_count": 8,
   "outputs": [],
   "source": [
    "#SEOUL1.to_csv(\"서울특별시_계약종별_전국_전력사용량_2022.csv\" , mode = 'w' , encoding= 'cp949')"
   ],
   "metadata": {
    "collapsed": false,
    "pycharm": {
     "name": "#%%\n"
    }
   }
  },
  {
   "cell_type": "code",
   "execution_count": 9,
   "outputs": [],
   "source": [
    "#df_2.to_csv(\"서울특별시_계약종별_전국_전력사용량.csv\" , mode = 'w' , encoding= 'cp949')"
   ],
   "metadata": {
    "collapsed": false,
    "pycharm": {
     "name": "#%%\n"
    }
   }
  },
  {
   "cell_type": "code",
   "execution_count": 10,
   "outputs": [
    {
     "data": {
      "text/plain": "        년월       시구  시군구 계약구분  고객호수(호)      사용량(kWh)\n53  202107  세종특별자치시  세종시  일반용  14,520    73,330,465 \n61  202108  세종특별자치시  세종시  일반용  14,633    79,976,832 \n69  202109  세종특별자치시  세종시  일반용  14,753    68,787,186 \n77  202110  세종특별자치시  세종시  일반용  14,821    60,864,010 \n85  202111  세종특별자치시  세종시  일반용  14,953    60,730,206 \n93  202112  세종특별자치시  세종시  일반용  15,037   710,372,301 ",
      "text/html": "<div>\n<style scoped>\n    .dataframe tbody tr th:only-of-type {\n        vertical-align: middle;\n    }\n\n    .dataframe tbody tr th {\n        vertical-align: top;\n    }\n\n    .dataframe thead th {\n        text-align: right;\n    }\n</style>\n<table border=\"1\" class=\"dataframe\">\n  <thead>\n    <tr style=\"text-align: right;\">\n      <th></th>\n      <th>년월</th>\n      <th>시구</th>\n      <th>시군구</th>\n      <th>계약구분</th>\n      <th>고객호수(호)</th>\n      <th>사용량(kWh)</th>\n    </tr>\n  </thead>\n  <tbody>\n    <tr>\n      <th>53</th>\n      <td>202107</td>\n      <td>세종특별자치시</td>\n      <td>세종시</td>\n      <td>일반용</td>\n      <td>14,520</td>\n      <td>73,330,465</td>\n    </tr>\n    <tr>\n      <th>61</th>\n      <td>202108</td>\n      <td>세종특별자치시</td>\n      <td>세종시</td>\n      <td>일반용</td>\n      <td>14,633</td>\n      <td>79,976,832</td>\n    </tr>\n    <tr>\n      <th>69</th>\n      <td>202109</td>\n      <td>세종특별자치시</td>\n      <td>세종시</td>\n      <td>일반용</td>\n      <td>14,753</td>\n      <td>68,787,186</td>\n    </tr>\n    <tr>\n      <th>77</th>\n      <td>202110</td>\n      <td>세종특별자치시</td>\n      <td>세종시</td>\n      <td>일반용</td>\n      <td>14,821</td>\n      <td>60,864,010</td>\n    </tr>\n    <tr>\n      <th>85</th>\n      <td>202111</td>\n      <td>세종특별자치시</td>\n      <td>세종시</td>\n      <td>일반용</td>\n      <td>14,953</td>\n      <td>60,730,206</td>\n    </tr>\n    <tr>\n      <th>93</th>\n      <td>202112</td>\n      <td>세종특별자치시</td>\n      <td>세종시</td>\n      <td>일반용</td>\n      <td>15,037</td>\n      <td>710,372,301</td>\n    </tr>\n  </tbody>\n</table>\n</div>"
     },
     "execution_count": 10,
     "metadata": {},
     "output_type": "execute_result"
    }
   ],
   "source": [
    "df_3 = df.loc[48:]\n",
    "df_3 = df_3.loc[(df_3['계약구분'] == '일반용')]\n",
    "df_3 = df_3.sort_values(by=['시군구' , '년월'])\n",
    "df_3.drop(['전기요금(원)',   '평균판매단가(원/kWh)'] , axis = 1 , inplace = True)\n",
    "df_3"
   ],
   "metadata": {
    "collapsed": false,
    "pycharm": {
     "name": "#%%\n"
    }
   }
  },
  {
   "cell_type": "code",
   "execution_count": 11,
   "outputs": [
    {
     "data": {
      "text/plain": "'세종특별자치시'"
     },
     "execution_count": 11,
     "metadata": {},
     "output_type": "execute_result"
    }
   ],
   "source": [
    "a = df_3.loc[: , \"시구\"]\n",
    "b = a[:1].tolist()\n",
    "for i in b:\n",
    "    City = i\n",
    "City"
   ],
   "metadata": {
    "collapsed": false,
    "pycharm": {
     "name": "#%%\n"
    }
   }
  },
  {
   "cell_type": "code",
   "execution_count": 12,
   "outputs": [
    {
     "data": {
      "text/plain": "['세종시']"
     },
     "execution_count": 12,
     "metadata": {},
     "output_type": "execute_result"
    }
   ],
   "source": [
    "\n",
    "SIGUNGU = list(set(df_3.loc[: , '시군구'].tolist()))\n",
    "SIGUNGU.sort()\n",
    "SIGUNGU"
   ],
   "metadata": {
    "collapsed": false,
    "pycharm": {
     "name": "#%%\n"
    }
   }
  },
  {
   "cell_type": "code",
   "execution_count": 13,
   "outputs": [
    {
     "data": {
      "text/plain": "        년월       시구  시군구 계약구분   고객호수(호)      사용량(kWh)\n55  202107  세종특별자치시  세종시   합계  101,964   315,298,529 \n63  202108  세종특별자치시  세종시   합계  102,159   339,002,099 \n71  202109  세종특별자치시  세종시   합계  102,736   309,351,099 \n79  202110  세종특별자치시  세종시   합계  102,962   286,700,993 \n87  202111  세종특별자치시  세종시   합계  108,133   297,290,104 \n95  202112  세종특별자치시  세종시   합계  103,381   957,934,330 ",
      "text/html": "<div>\n<style scoped>\n    .dataframe tbody tr th:only-of-type {\n        vertical-align: middle;\n    }\n\n    .dataframe tbody tr th {\n        vertical-align: top;\n    }\n\n    .dataframe thead th {\n        text-align: right;\n    }\n</style>\n<table border=\"1\" class=\"dataframe\">\n  <thead>\n    <tr style=\"text-align: right;\">\n      <th></th>\n      <th>년월</th>\n      <th>시구</th>\n      <th>시군구</th>\n      <th>계약구분</th>\n      <th>고객호수(호)</th>\n      <th>사용량(kWh)</th>\n    </tr>\n  </thead>\n  <tbody>\n    <tr>\n      <th>55</th>\n      <td>202107</td>\n      <td>세종특별자치시</td>\n      <td>세종시</td>\n      <td>합계</td>\n      <td>101,964</td>\n      <td>315,298,529</td>\n    </tr>\n    <tr>\n      <th>63</th>\n      <td>202108</td>\n      <td>세종특별자치시</td>\n      <td>세종시</td>\n      <td>합계</td>\n      <td>102,159</td>\n      <td>339,002,099</td>\n    </tr>\n    <tr>\n      <th>71</th>\n      <td>202109</td>\n      <td>세종특별자치시</td>\n      <td>세종시</td>\n      <td>합계</td>\n      <td>102,736</td>\n      <td>309,351,099</td>\n    </tr>\n    <tr>\n      <th>79</th>\n      <td>202110</td>\n      <td>세종특별자치시</td>\n      <td>세종시</td>\n      <td>합계</td>\n      <td>102,962</td>\n      <td>286,700,993</td>\n    </tr>\n    <tr>\n      <th>87</th>\n      <td>202111</td>\n      <td>세종특별자치시</td>\n      <td>세종시</td>\n      <td>합계</td>\n      <td>108,133</td>\n      <td>297,290,104</td>\n    </tr>\n    <tr>\n      <th>95</th>\n      <td>202112</td>\n      <td>세종특별자치시</td>\n      <td>세종시</td>\n      <td>합계</td>\n      <td>103,381</td>\n      <td>957,934,330</td>\n    </tr>\n  </tbody>\n</table>\n</div>"
     },
     "execution_count": 13,
     "metadata": {},
     "output_type": "execute_result"
    }
   ],
   "source": [
    "df_4 = df.loc[48:]\n",
    "df_4 = df_4.loc[(df_4['계약구분'] == '합계')]\n",
    "df_4 = df_4.sort_values(by=['시군구' , '년월'])\n",
    "df_4.drop(['전기요금(원)',   '평균판매단가(원/kWh)'] , axis = 1 , inplace = True)\n",
    "df_4"
   ],
   "metadata": {
    "collapsed": false,
    "pycharm": {
     "name": "#%%\n"
    }
   }
  },
  {
   "cell_type": "code",
   "execution_count": 14,
   "outputs": [
    {
     "name": "stdout",
     "output_type": "stream",
     "text": [
      "[315298529, 339002099, 309351099, 286700993, 297290104, 957934330]\n",
      "세종특별자치시 지역별 합계 :  [2505577154]\n",
      "세종특별자치시 고객호수 평균:  [17259]\n"
     ]
    }
   ],
   "source": [
    "sum2 , sum3 =[] , []\n",
    "for k in SIGUNGU:\n",
    "    GyeonGiHap = pd.DataFrame([] , columns = a)\n",
    "    HOSU = pd.DataFrame([], columns = a)\n",
    "    GyeonGiHap['사용량']= df_4['사용량(kWh)'].loc[(df_4['시군구'] == '{}'.format(k))]\n",
    "    HOSU['고객호수']= df_4['고객호수(호)'].loc[(df_4['시군구'] == '{}'.format(k))]\n",
    "    #경기합 데이터프레임의 사용량 열에 기군구가 가평군인 사용량 데이터만 뽑아내기\n",
    "    # GyeonGiHap = GyeonGiHap['사용량']\n",
    "\n",
    "    b = GyeonGiHap['사용량'].tolist()\n",
    "    c = HOSU['고객호수'].tolist()\n",
    "\n",
    "\n",
    "    #각지역별 사용량 리스트화\n",
    "    int_list  , int_list2=[] , []\n",
    "    for i in b:\n",
    "        i = re.sub(\",\" , \"\" , i)\n",
    "        #콤마 없애기\n",
    "        int_list.append(int(i))\n",
    "        #int_list에 각지역별 사용량 int로 저장\n",
    "    print(int_list)\n",
    "    sum=0\n",
    "    for i in c:\n",
    "        i = re.sub(\",\" , \"\" , i)\n",
    "        int_list2.append(int(i))\n",
    "\n",
    "    for j in int_list:\n",
    "\n",
    "        sum+= j\n",
    "    sum2.append(sum)\n",
    "    sum = 0\n",
    "    for j in int_list2: #고객호수 추출하여 더하기\n",
    "\n",
    "        sum+= j\n",
    "    sum3.append(sum//36) #6개월 치로 나눠야하나?!\n",
    "\n",
    "\n",
    "\n",
    "\n",
    "print(\"{} 지역별 합계 : \".format(City) , sum2)\n",
    "print(\"{} 고객호수 평균: \".format(City) , sum3)"
   ],
   "metadata": {
    "collapsed": false,
    "pycharm": {
     "name": "#%%\n"
    }
   }
  },
  {
   "cell_type": "markdown",
   "source": [
    "### 2. 날짜 체크!!!!!!!!!!!!!!!!!!!!!!!!!!!!!!!!!!!!!!!!!!!!!!"
   ],
   "metadata": {
    "collapsed": false,
    "pycharm": {
     "name": "#%% md\n"
    }
   }
  },
  {
   "cell_type": "code",
   "execution_count": 15,
   "outputs": [
    {
     "name": "stderr",
     "output_type": "stream",
     "text": [
      "C:\\Users\\user\\AppData\\Local\\Temp\\ipykernel_15616\\895775541.py:4: FutureWarning: The frame.append method is deprecated and will be removed from pandas in a future version. Use pandas.concat instead.\n",
      "  Hap = Hap.append({'년월' :'202107-202112'  , '시구' : '{}'.format(City) , '시군구' : '{}'.format(SIGUNGU[i]) , '계약구분' : '합계' , '고객호수(호)' : sum3[i] ,  '사용량(kWh)' : sum2[i]} , ignore_index=True) #년월 파일마다 수정하기\n"
     ]
    },
    {
     "data": {
      "text/plain": "              년월       시구  시군구 계약구분   고객호수(호)      사용량(kWh)\n0         202107  세종특별자치시  세종시   합계  101,964   315,298,529 \n1         202108  세종특별자치시  세종시   합계  102,159   339,002,099 \n2         202109  세종특별자치시  세종시   합계  102,736   309,351,099 \n3         202110  세종특별자치시  세종시   합계  102,962   286,700,993 \n4         202111  세종특별자치시  세종시   합계  108,133   297,290,104 \n5         202112  세종특별자치시  세종시   합계  103,381   957,934,330 \n6  202107-202112  세종특별자치시  세종시   합계     17259    2505577154",
      "text/html": "<div>\n<style scoped>\n    .dataframe tbody tr th:only-of-type {\n        vertical-align: middle;\n    }\n\n    .dataframe tbody tr th {\n        vertical-align: top;\n    }\n\n    .dataframe thead th {\n        text-align: right;\n    }\n</style>\n<table border=\"1\" class=\"dataframe\">\n  <thead>\n    <tr style=\"text-align: right;\">\n      <th></th>\n      <th>년월</th>\n      <th>시구</th>\n      <th>시군구</th>\n      <th>계약구분</th>\n      <th>고객호수(호)</th>\n      <th>사용량(kWh)</th>\n    </tr>\n  </thead>\n  <tbody>\n    <tr>\n      <th>0</th>\n      <td>202107</td>\n      <td>세종특별자치시</td>\n      <td>세종시</td>\n      <td>합계</td>\n      <td>101,964</td>\n      <td>315,298,529</td>\n    </tr>\n    <tr>\n      <th>1</th>\n      <td>202108</td>\n      <td>세종특별자치시</td>\n      <td>세종시</td>\n      <td>합계</td>\n      <td>102,159</td>\n      <td>339,002,099</td>\n    </tr>\n    <tr>\n      <th>2</th>\n      <td>202109</td>\n      <td>세종특별자치시</td>\n      <td>세종시</td>\n      <td>합계</td>\n      <td>102,736</td>\n      <td>309,351,099</td>\n    </tr>\n    <tr>\n      <th>3</th>\n      <td>202110</td>\n      <td>세종특별자치시</td>\n      <td>세종시</td>\n      <td>합계</td>\n      <td>102,962</td>\n      <td>286,700,993</td>\n    </tr>\n    <tr>\n      <th>4</th>\n      <td>202111</td>\n      <td>세종특별자치시</td>\n      <td>세종시</td>\n      <td>합계</td>\n      <td>108,133</td>\n      <td>297,290,104</td>\n    </tr>\n    <tr>\n      <th>5</th>\n      <td>202112</td>\n      <td>세종특별자치시</td>\n      <td>세종시</td>\n      <td>합계</td>\n      <td>103,381</td>\n      <td>957,934,330</td>\n    </tr>\n    <tr>\n      <th>6</th>\n      <td>202107-202112</td>\n      <td>세종특별자치시</td>\n      <td>세종시</td>\n      <td>합계</td>\n      <td>17259</td>\n      <td>2505577154</td>\n    </tr>\n  </tbody>\n</table>\n</div>"
     },
     "execution_count": 15,
     "metadata": {},
     "output_type": "execute_result"
    }
   ],
   "source": [
    "Hap = df_4.copy()\n",
    "Hap.reset_index(drop=True , inplace = True)\n",
    "for i in range(len(SIGUNGU)):\n",
    "    Hap = Hap.append({'년월' :'202107-202112'  , '시구' : '{}'.format(City) , '시군구' : '{}'.format(SIGUNGU[i]) , '계약구분' : '합계' , '고객호수(호)' : sum3[i] ,  '사용량(kWh)' : sum2[i]} , ignore_index=True) #년월 파일마다 수정하기\n",
    "Hap"
   ],
   "metadata": {
    "collapsed": false,
    "pycharm": {
     "name": "#%%\n"
    }
   }
  },
  {
   "cell_type": "markdown",
   "source": [
    "### 3. 날짜 변경!!!!!!!!!!!!!!!!!!!!!!!!!!!!!!!"
   ],
   "metadata": {
    "collapsed": false,
    "pycharm": {
     "name": "#%% md\n"
    }
   }
  },
  {
   "cell_type": "code",
   "execution_count": 16,
   "outputs": [
    {
     "data": {
      "text/plain": "              년월       시구  시군구 계약구분 고객호수(호)    사용량(kWh)\n6  202107-202112  세종특별자치시  세종시   합계   17259  2505577154",
      "text/html": "<div>\n<style scoped>\n    .dataframe tbody tr th:only-of-type {\n        vertical-align: middle;\n    }\n\n    .dataframe tbody tr th {\n        vertical-align: top;\n    }\n\n    .dataframe thead th {\n        text-align: right;\n    }\n</style>\n<table border=\"1\" class=\"dataframe\">\n  <thead>\n    <tr style=\"text-align: right;\">\n      <th></th>\n      <th>년월</th>\n      <th>시구</th>\n      <th>시군구</th>\n      <th>계약구분</th>\n      <th>고객호수(호)</th>\n      <th>사용량(kWh)</th>\n    </tr>\n  </thead>\n  <tbody>\n    <tr>\n      <th>6</th>\n      <td>202107-202112</td>\n      <td>세종특별자치시</td>\n      <td>세종시</td>\n      <td>합계</td>\n      <td>17259</td>\n      <td>2505577154</td>\n    </tr>\n  </tbody>\n</table>\n</div>"
     },
     "execution_count": 16,
     "metadata": {},
     "output_type": "execute_result"
    }
   ],
   "source": [
    "Hap = Hap.loc[Hap['년월'] == '202107-202112']\n",
    "Hap"
   ],
   "metadata": {
    "collapsed": false,
    "pycharm": {
     "name": "#%%\n"
    }
   }
  },
  {
   "cell_type": "code",
   "execution_count": 17,
   "outputs": [],
   "source": [
    "# SIGUNGU = SIGUNGU[:1]\n",
    "# SIGUNGU\n",
    "#for i in SIGUNGU:\n",
    "#print('{}'.format(i))\n",
    "# df_3 = df_3.loc[(df_3['시군구'] == '가평군')]\n",
    "#\n",
    "# df_3"
   ],
   "metadata": {
    "collapsed": false,
    "pycharm": {
     "name": "#%%\n"
    }
   }
  },
  {
   "cell_type": "code",
   "execution_count": 18,
   "outputs": [
    {
     "data": {
      "text/plain": "['년월', '시구', '시군구', '계약구분', '고객호수(호)', '사용량(kWh)']"
     },
     "execution_count": 18,
     "metadata": {},
     "output_type": "execute_result"
    }
   ],
   "source": [
    "a = (df_3.columns).tolist()\n",
    "\n",
    "a"
   ],
   "metadata": {
    "collapsed": false,
    "pycharm": {
     "name": "#%%\n"
    }
   }
  },
  {
   "cell_type": "code",
   "execution_count": 19,
   "outputs": [
    {
     "data": {
      "text/plain": "        년월       시구  시군구 계약구분  고객호수(호)      사용량(kWh)\n53  202107  세종특별자치시  세종시  일반용  14,520    73,330,465 \n61  202108  세종특별자치시  세종시  일반용  14,633    79,976,832 \n69  202109  세종특별자치시  세종시  일반용  14,753    68,787,186 \n77  202110  세종특별자치시  세종시  일반용  14,821    60,864,010 \n85  202111  세종특별자치시  세종시  일반용  14,953    60,730,206 \n93  202112  세종특별자치시  세종시  일반용  15,037   710,372,301 ",
      "text/html": "<div>\n<style scoped>\n    .dataframe tbody tr th:only-of-type {\n        vertical-align: middle;\n    }\n\n    .dataframe tbody tr th {\n        vertical-align: top;\n    }\n\n    .dataframe thead th {\n        text-align: right;\n    }\n</style>\n<table border=\"1\" class=\"dataframe\">\n  <thead>\n    <tr style=\"text-align: right;\">\n      <th></th>\n      <th>년월</th>\n      <th>시구</th>\n      <th>시군구</th>\n      <th>계약구분</th>\n      <th>고객호수(호)</th>\n      <th>사용량(kWh)</th>\n    </tr>\n  </thead>\n  <tbody>\n    <tr>\n      <th>53</th>\n      <td>202107</td>\n      <td>세종특별자치시</td>\n      <td>세종시</td>\n      <td>일반용</td>\n      <td>14,520</td>\n      <td>73,330,465</td>\n    </tr>\n    <tr>\n      <th>61</th>\n      <td>202108</td>\n      <td>세종특별자치시</td>\n      <td>세종시</td>\n      <td>일반용</td>\n      <td>14,633</td>\n      <td>79,976,832</td>\n    </tr>\n    <tr>\n      <th>69</th>\n      <td>202109</td>\n      <td>세종특별자치시</td>\n      <td>세종시</td>\n      <td>일반용</td>\n      <td>14,753</td>\n      <td>68,787,186</td>\n    </tr>\n    <tr>\n      <th>77</th>\n      <td>202110</td>\n      <td>세종특별자치시</td>\n      <td>세종시</td>\n      <td>일반용</td>\n      <td>14,821</td>\n      <td>60,864,010</td>\n    </tr>\n    <tr>\n      <th>85</th>\n      <td>202111</td>\n      <td>세종특별자치시</td>\n      <td>세종시</td>\n      <td>일반용</td>\n      <td>14,953</td>\n      <td>60,730,206</td>\n    </tr>\n    <tr>\n      <th>93</th>\n      <td>202112</td>\n      <td>세종특별자치시</td>\n      <td>세종시</td>\n      <td>일반용</td>\n      <td>15,037</td>\n      <td>710,372,301</td>\n    </tr>\n  </tbody>\n</table>\n</div>"
     },
     "execution_count": 19,
     "metadata": {},
     "output_type": "execute_result"
    }
   ],
   "source": [
    "df_3"
   ],
   "metadata": {
    "collapsed": false,
    "pycharm": {
     "name": "#%%\n"
    }
   }
  },
  {
   "cell_type": "code",
   "execution_count": 20,
   "outputs": [],
   "source": [
    "# GyeonGiHap = pd.DataFrame([] , columns = a)\n",
    "# GyeonGiHap['사용량']= df_3['사용량(kWh)'].loc[(df_3['시군구'] == '{가평군}')]\n",
    "# GyeonGiHap"
   ],
   "metadata": {
    "collapsed": false,
    "pycharm": {
     "name": "#%%\n"
    }
   }
  },
  {
   "cell_type": "code",
   "execution_count": 21,
   "outputs": [
    {
     "name": "stdout",
     "output_type": "stream",
     "text": [
      "[73330465, 79976832, 68787186, 60864010, 60730206, 710372301]\n",
      "세종특별자치시 지역별 일반용 합계 :  [1054061000]\n",
      "세종특별자치시 고객호수 평균:  [14786]\n"
     ]
    }
   ],
   "source": [
    "sum2 , sum3 =[] , []\n",
    "for k in SIGUNGU:\n",
    "    GyeonGiHap = pd.DataFrame([] , columns = a)\n",
    "    HOSU = pd.DataFrame([], columns = a)\n",
    "    GyeonGiHap['사용량']= df_3['사용량(kWh)'].loc[(df_3['시군구'] == '{}'.format(k))]\n",
    "    HOSU['고객호수']= df_3['고객호수(호)'].loc[(df_3['시군구'] == '{}'.format(k))]\n",
    "    #경기합 데이터프레임의 사용량 열에 기군구가 가평군인 사용량 데이터만 뽑아내기\n",
    "    # GyeonGiHap = GyeonGiHap['사용량']\n",
    "\n",
    "    b = GyeonGiHap['사용량'].tolist()\n",
    "    c = HOSU['고객호수'].tolist()\n",
    "\n",
    "\n",
    "    #각지역별 사용량 리스트화\n",
    "    int_list  , int_list2=[] , []\n",
    "    for i in b:\n",
    "        i = re.sub(\",\" , \"\" , i)\n",
    "        #콤마 없애기\n",
    "        int_list.append(int(i))\n",
    "        #int_list에 각지역별 사용량 int로 저장\n",
    "    print(int_list)\n",
    "    sum=0\n",
    "    for i in c:\n",
    "        i = re.sub(\",\" , \"\" , i)\n",
    "        int_list2.append(int(i))\n",
    "\n",
    "    for j in int_list:\n",
    "\n",
    "        sum+= j\n",
    "    sum2.append(sum)\n",
    "    sum = 0\n",
    "    for j in int_list2: #고객호수 추출하여 더하기\n",
    "\n",
    "        sum+= j\n",
    "    sum3.append(sum//6) #6개월 치로 나눠야하나?!\n",
    "\n",
    "\n",
    "\n",
    "\n",
    "print(\"{} 지역별 일반용 합계 : \".format(City) , sum2)\n",
    "print(\"{} 고객호수 평균: \".format(City) , sum3)\n",
    "# GyeonGiHap['합계'] = sum\n",
    "#\n",
    "# GyeonGiHap"
   ],
   "metadata": {
    "collapsed": false,
    "pycharm": {
     "name": "#%%\n"
    }
   }
  },
  {
   "cell_type": "code",
   "execution_count": 22,
   "outputs": [],
   "source": [
    "# df_3 = df_3.loc[(df_3['시군구'] == '가평군')]\n",
    "#\n",
    "# df_3"
   ],
   "metadata": {
    "collapsed": false,
    "pycharm": {
     "name": "#%%\n"
    }
   }
  },
  {
   "cell_type": "code",
   "execution_count": 23,
   "outputs": [],
   "source": [
    "# GyeonGiHap = df_3.copy()\n",
    "# GyeonGiHap.reset_index(drop=True , inplace = True)\n",
    "# GyeonGiHap.append({'년월' : '202107-202112'  , '시구' : '경기도' , '시군구' : '가평군' , '계약구분' : '일반용' , '사용량(kWh)' : sum}, ignore_index=True)"
   ],
   "metadata": {
    "collapsed": false,
    "pycharm": {
     "name": "#%%\n"
    }
   }
  },
  {
   "cell_type": "code",
   "execution_count": 24,
   "outputs": [],
   "source": [
    "# a=[]\n",
    "# for i in SIGUNGU:\n",
    "#     a.append(i)\n",
    "#\n",
    "# print(a)"
   ],
   "metadata": {
    "collapsed": false,
    "pycharm": {
     "name": "#%%\n"
    }
   }
  },
  {
   "cell_type": "markdown",
   "source": [
    "### 4. 년월 체크!!!!!!!!!!!!!!!!!!!!!!!!!!!!!!!!!!!!!!!!!!!!!!!!!!!!!!!!!!!!!!!!!"
   ],
   "metadata": {
    "collapsed": false,
    "pycharm": {
     "name": "#%% md\n"
    }
   }
  },
  {
   "cell_type": "code",
   "execution_count": 25,
   "outputs": [
    {
     "name": "stderr",
     "output_type": "stream",
     "text": [
      "C:\\Users\\user\\AppData\\Local\\Temp\\ipykernel_15616\\2943201010.py:4: FutureWarning: The frame.append method is deprecated and will be removed from pandas in a future version. Use pandas.concat instead.\n",
      "  GyeonGiHap2 = GyeonGiHap2.append({'년월' :'202107-202112'  , '시구' : '{}'.format(City) , '시군구' : '{}'.format(SIGUNGU[i]) , '계약구분' : '일반용' , '고객호수(호)' : sum3[i] ,  '사용량(kWh)' : sum2[i]} , ignore_index=True) #년월 파일마다 수정하기\n"
     ]
    },
    {
     "data": {
      "text/plain": "              년월       시구  시군구 계약구분  고객호수(호)      사용량(kWh)\n0         202107  세종특별자치시  세종시  일반용  14,520    73,330,465 \n1         202108  세종특별자치시  세종시  일반용  14,633    79,976,832 \n2         202109  세종특별자치시  세종시  일반용  14,753    68,787,186 \n3         202110  세종특별자치시  세종시  일반용  14,821    60,864,010 \n4         202111  세종특별자치시  세종시  일반용  14,953    60,730,206 \n5         202112  세종특별자치시  세종시  일반용  15,037   710,372,301 \n6  202107-202112  세종특별자치시  세종시  일반용    14786    1054061000",
      "text/html": "<div>\n<style scoped>\n    .dataframe tbody tr th:only-of-type {\n        vertical-align: middle;\n    }\n\n    .dataframe tbody tr th {\n        vertical-align: top;\n    }\n\n    .dataframe thead th {\n        text-align: right;\n    }\n</style>\n<table border=\"1\" class=\"dataframe\">\n  <thead>\n    <tr style=\"text-align: right;\">\n      <th></th>\n      <th>년월</th>\n      <th>시구</th>\n      <th>시군구</th>\n      <th>계약구분</th>\n      <th>고객호수(호)</th>\n      <th>사용량(kWh)</th>\n    </tr>\n  </thead>\n  <tbody>\n    <tr>\n      <th>0</th>\n      <td>202107</td>\n      <td>세종특별자치시</td>\n      <td>세종시</td>\n      <td>일반용</td>\n      <td>14,520</td>\n      <td>73,330,465</td>\n    </tr>\n    <tr>\n      <th>1</th>\n      <td>202108</td>\n      <td>세종특별자치시</td>\n      <td>세종시</td>\n      <td>일반용</td>\n      <td>14,633</td>\n      <td>79,976,832</td>\n    </tr>\n    <tr>\n      <th>2</th>\n      <td>202109</td>\n      <td>세종특별자치시</td>\n      <td>세종시</td>\n      <td>일반용</td>\n      <td>14,753</td>\n      <td>68,787,186</td>\n    </tr>\n    <tr>\n      <th>3</th>\n      <td>202110</td>\n      <td>세종특별자치시</td>\n      <td>세종시</td>\n      <td>일반용</td>\n      <td>14,821</td>\n      <td>60,864,010</td>\n    </tr>\n    <tr>\n      <th>4</th>\n      <td>202111</td>\n      <td>세종특별자치시</td>\n      <td>세종시</td>\n      <td>일반용</td>\n      <td>14,953</td>\n      <td>60,730,206</td>\n    </tr>\n    <tr>\n      <th>5</th>\n      <td>202112</td>\n      <td>세종특별자치시</td>\n      <td>세종시</td>\n      <td>일반용</td>\n      <td>15,037</td>\n      <td>710,372,301</td>\n    </tr>\n    <tr>\n      <th>6</th>\n      <td>202107-202112</td>\n      <td>세종특별자치시</td>\n      <td>세종시</td>\n      <td>일반용</td>\n      <td>14786</td>\n      <td>1054061000</td>\n    </tr>\n  </tbody>\n</table>\n</div>"
     },
     "execution_count": 25,
     "metadata": {},
     "output_type": "execute_result"
    }
   ],
   "source": [
    "GyeonGiHap2 = df_3.copy()\n",
    "GyeonGiHap2.reset_index(drop=True , inplace = True)\n",
    "for i in range(len(SIGUNGU)):\n",
    "    GyeonGiHap2 = GyeonGiHap2.append({'년월' :'202107-202112'  , '시구' : '{}'.format(City) , '시군구' : '{}'.format(SIGUNGU[i]) , '계약구분' : '일반용' , '고객호수(호)' : sum3[i] ,  '사용량(kWh)' : sum2[i]} , ignore_index=True) #년월 파일마다 수정하기\n",
    "GyeonGiHap2"
   ],
   "metadata": {
    "collapsed": false,
    "pycharm": {
     "name": "#%%\n"
    }
   }
  },
  {
   "cell_type": "markdown",
   "source": [
    "### 5. 날짜 체크!!!!!!!!!!!!!!!!!!!!!!!!!!!!!!!!!!!!!!!!!!!!!!!!!!!!"
   ],
   "metadata": {
    "collapsed": false,
    "pycharm": {
     "name": "#%% md\n"
    }
   }
  },
  {
   "cell_type": "code",
   "execution_count": 26,
   "outputs": [
    {
     "data": {
      "text/plain": "              년월       시구  시군구 계약구분 고객호수(호)    사용량(kWh)\n6  202107-202112  세종특별자치시  세종시  일반용   14786  1054061000",
      "text/html": "<div>\n<style scoped>\n    .dataframe tbody tr th:only-of-type {\n        vertical-align: middle;\n    }\n\n    .dataframe tbody tr th {\n        vertical-align: top;\n    }\n\n    .dataframe thead th {\n        text-align: right;\n    }\n</style>\n<table border=\"1\" class=\"dataframe\">\n  <thead>\n    <tr style=\"text-align: right;\">\n      <th></th>\n      <th>년월</th>\n      <th>시구</th>\n      <th>시군구</th>\n      <th>계약구분</th>\n      <th>고객호수(호)</th>\n      <th>사용량(kWh)</th>\n    </tr>\n  </thead>\n  <tbody>\n    <tr>\n      <th>6</th>\n      <td>202107-202112</td>\n      <td>세종특별자치시</td>\n      <td>세종시</td>\n      <td>일반용</td>\n      <td>14786</td>\n      <td>1054061000</td>\n    </tr>\n  </tbody>\n</table>\n</div>"
     },
     "execution_count": 26,
     "metadata": {},
     "output_type": "execute_result"
    }
   ],
   "source": [
    "GyeonGiHap2 = GyeonGiHap2.loc[GyeonGiHap2['년월'] == '202107-202112']\n",
    "GyeonGiHap2"
   ],
   "metadata": {
    "collapsed": false,
    "pycharm": {
     "name": "#%%\n"
    }
   }
  },
  {
   "cell_type": "code",
   "execution_count": 27,
   "outputs": [
    {
     "data": {
      "text/plain": "              년월       시구  시군구 계약구분 고객호수(호)    사용량(kWh)\n6  202107-202112  세종특별자치시  세종시  일반용   14786  1054061000\n6  202107-202112  세종특별자치시  세종시   합계   17259  2505577154",
      "text/html": "<div>\n<style scoped>\n    .dataframe tbody tr th:only-of-type {\n        vertical-align: middle;\n    }\n\n    .dataframe tbody tr th {\n        vertical-align: top;\n    }\n\n    .dataframe thead th {\n        text-align: right;\n    }\n</style>\n<table border=\"1\" class=\"dataframe\">\n  <thead>\n    <tr style=\"text-align: right;\">\n      <th></th>\n      <th>년월</th>\n      <th>시구</th>\n      <th>시군구</th>\n      <th>계약구분</th>\n      <th>고객호수(호)</th>\n      <th>사용량(kWh)</th>\n    </tr>\n  </thead>\n  <tbody>\n    <tr>\n      <th>6</th>\n      <td>202107-202112</td>\n      <td>세종특별자치시</td>\n      <td>세종시</td>\n      <td>일반용</td>\n      <td>14786</td>\n      <td>1054061000</td>\n    </tr>\n    <tr>\n      <th>6</th>\n      <td>202107-202112</td>\n      <td>세종특별자치시</td>\n      <td>세종시</td>\n      <td>합계</td>\n      <td>17259</td>\n      <td>2505577154</td>\n    </tr>\n  </tbody>\n</table>\n</div>"
     },
     "execution_count": 27,
     "metadata": {},
     "output_type": "execute_result"
    }
   ],
   "source": [
    "Final = pd.concat([GyeonGiHap2 , Hap])\n",
    "Final = Final.sort_values('시군구')\n",
    "Final"
   ],
   "metadata": {
    "collapsed": false,
    "pycharm": {
     "name": "#%%\n"
    }
   }
  },
  {
   "cell_type": "code",
   "execution_count": 28,
   "outputs": [
    {
     "data": {
      "text/plain": "[1054061000]"
     },
     "execution_count": 28,
     "metadata": {},
     "output_type": "execute_result"
    }
   ],
   "source": [
    "# Final['일반용 전기의 비율'] = (Final['사용량(kWh)'].loc[Final['계약구분'] == '일반용']) // (Final['사용량(kWh)'].loc[Final['계약구분'] == '합계'])\n",
    "# Final\n",
    "ex = (Final['사용량(kWh)'].loc[Final['계약구분'] == '일반용']).tolist()\n",
    "\n",
    "\n",
    "ex\n"
   ],
   "metadata": {
    "collapsed": false,
    "pycharm": {
     "name": "#%%\n"
    }
   }
  },
  {
   "cell_type": "code",
   "execution_count": 29,
   "outputs": [
    {
     "data": {
      "text/plain": "[2505577154]"
     },
     "execution_count": 29,
     "metadata": {},
     "output_type": "execute_result"
    }
   ],
   "source": [
    "ex_2 =(Final['사용량(kWh)'].loc[Final['계약구분'] == '합계']).tolist()\n",
    "ex_2"
   ],
   "metadata": {
    "collapsed": false,
    "pycharm": {
     "name": "#%%\n"
    }
   }
  },
  {
   "cell_type": "code",
   "execution_count": 30,
   "outputs": [
    {
     "name": "stdout",
     "output_type": "stream",
     "text": [
      "[42.07]\n"
     ]
    }
   ],
   "source": [
    "Rate = []\n",
    "ilban = []\n",
    "rae = 0\n",
    "for i in range(len(ex)):\n",
    "    rae = round(ex[i] / ex_2[i] *100 ,2)\n",
    "    Rate.append(rae)\n",
    "print(Rate)"
   ],
   "metadata": {
    "collapsed": false,
    "pycharm": {
     "name": "#%%\n"
    }
   }
  },
  {
   "cell_type": "code",
   "execution_count": 31,
   "outputs": [
    {
     "data": {
      "text/plain": "0   42\ndtype: float64"
     },
     "execution_count": 31,
     "metadata": {},
     "output_type": "execute_result"
    }
   ],
   "source": [
    "Rate3 = pd.Series(Rate)\n",
    "Rate3\n",
    "\n",
    "# Final = pd.concat([Final , Rate3])\n",
    "# Final"
   ],
   "metadata": {
    "collapsed": false,
    "pycharm": {
     "name": "#%%\n"
    }
   }
  },
  {
   "cell_type": "code",
   "execution_count": 32,
   "outputs": [
    {
     "data": {
      "text/plain": "   시군구 계약구분  비율\n0  세종시  일반용  42",
      "text/html": "<div>\n<style scoped>\n    .dataframe tbody tr th:only-of-type {\n        vertical-align: middle;\n    }\n\n    .dataframe tbody tr th {\n        vertical-align: top;\n    }\n\n    .dataframe thead th {\n        text-align: right;\n    }\n</style>\n<table border=\"1\" class=\"dataframe\">\n  <thead>\n    <tr style=\"text-align: right;\">\n      <th></th>\n      <th>시군구</th>\n      <th>계약구분</th>\n      <th>비율</th>\n    </tr>\n  </thead>\n  <tbody>\n    <tr>\n      <th>0</th>\n      <td>세종시</td>\n      <td>일반용</td>\n      <td>42</td>\n    </tr>\n  </tbody>\n</table>\n</div>"
     },
     "execution_count": 32,
     "metadata": {},
     "output_type": "execute_result"
    }
   ],
   "source": [
    "for j in range(len(Rate)):\n",
    "    ilban.append('일반용')\n",
    "#print(Rate)\n",
    "\n",
    "Rate2 = pd.DataFrame()\n",
    "Rate2['시군구'] = pd.DataFrame(SIGUNGU)\n",
    "Rate2['계약구분'] = pd.DataFrame(ilban)\n",
    "Rate2['비율'] = pd.DataFrame(Rate)\n",
    "Rate2\n",
    "#print(Rate2.dtypes)"
   ],
   "metadata": {
    "collapsed": false,
    "pycharm": {
     "name": "#%%\n"
    }
   }
  },
  {
   "cell_type": "code",
   "execution_count": 33,
   "outputs": [
    {
     "data": {
      "text/plain": "              년월       시구  시군구 계약구분 고객호수(호)    사용량(kWh)  비율\n0  202107-202112  세종특별자치시  세종시  일반용   14786  1054061000  42\n1  202107-202112  세종특별자치시  세종시   합계   17259  2505577154 NaN",
      "text/html": "<div>\n<style scoped>\n    .dataframe tbody tr th:only-of-type {\n        vertical-align: middle;\n    }\n\n    .dataframe tbody tr th {\n        vertical-align: top;\n    }\n\n    .dataframe thead th {\n        text-align: right;\n    }\n</style>\n<table border=\"1\" class=\"dataframe\">\n  <thead>\n    <tr style=\"text-align: right;\">\n      <th></th>\n      <th>년월</th>\n      <th>시구</th>\n      <th>시군구</th>\n      <th>계약구분</th>\n      <th>고객호수(호)</th>\n      <th>사용량(kWh)</th>\n      <th>비율</th>\n    </tr>\n  </thead>\n  <tbody>\n    <tr>\n      <th>0</th>\n      <td>202107-202112</td>\n      <td>세종특별자치시</td>\n      <td>세종시</td>\n      <td>일반용</td>\n      <td>14786</td>\n      <td>1054061000</td>\n      <td>42</td>\n    </tr>\n    <tr>\n      <th>1</th>\n      <td>202107-202112</td>\n      <td>세종특별자치시</td>\n      <td>세종시</td>\n      <td>합계</td>\n      <td>17259</td>\n      <td>2505577154</td>\n      <td>NaN</td>\n    </tr>\n  </tbody>\n</table>\n</div>"
     },
     "execution_count": 33,
     "metadata": {},
     "output_type": "execute_result"
    }
   ],
   "source": [
    "Final = pd.merge(Final , Rate2, on=['시군구', '계약구분'] , how='left')\n",
    "\n",
    "#Final.drop(['비율_y]' , axis = 1 , inplace = True)\n",
    "#Final.rename(columns={'비율_y':'전체 계약종별 전력사용량 대비 일반용 사용량 비율'})\n",
    "Final = Final.sort_values(['시군구' , '계약구분'])\n",
    "Final"
   ],
   "metadata": {
    "collapsed": false,
    "pycharm": {
     "name": "#%%\n"
    }
   }
  },
  {
   "cell_type": "code",
   "execution_count": 34,
   "outputs": [],
   "source": [
    "# Final['일반용 전기의 비율'] = Final.append(Rate)\n",
    "# Final"
   ],
   "metadata": {
    "collapsed": false,
    "pycharm": {
     "name": "#%%\n"
    }
   }
  },
  {
   "cell_type": "markdown",
   "source": [
    "### 6. 날짜 체크!!!!!!!!!!!!!!!!!!!!1"
   ],
   "metadata": {
    "collapsed": false,
    "pycharm": {
     "name": "#%% md\n"
    }
   }
  },
  {
   "cell_type": "code",
   "execution_count": 35,
   "outputs": [],
   "source": [
    "Final.to_csv(\"{}_일반용_전력사용량_2107-12.csv\".format(City) , mode = 'w' , encoding= 'cp949' , index =False) #파일명 수정"
   ],
   "metadata": {
    "collapsed": false,
    "pycharm": {
     "name": "#%%\n"
    }
   }
  },
  {
   "cell_type": "code",
   "execution_count": 35,
   "outputs": [],
   "source": [],
   "metadata": {
    "collapsed": false,
    "pycharm": {
     "name": "#%%\n"
    }
   }
  },
  {
   "cell_type": "code",
   "execution_count": 36,
   "outputs": [],
   "source": [
    "# Sigu = list(set(df_3['시군구'].tolist()))\n",
    "#\n",
    "# Sigu.sort()\n",
    "#\n",
    "# Sigu"
   ],
   "metadata": {
    "collapsed": false,
    "pycharm": {
     "name": "#%%\n"
    }
   }
  },
  {
   "cell_type": "code",
   "execution_count": 37,
   "outputs": [],
   "source": [
    "# YearMonth = list(set(df_3['년월'].tolist()))\n",
    "#\n",
    "# YearMonth.sort()\n",
    "# YearMonth"
   ],
   "metadata": {
    "collapsed": false,
    "pycharm": {
     "name": "#%%\n"
    }
   }
  },
  {
   "cell_type": "code",
   "execution_count": 38,
   "outputs": [],
   "source": [
    "# Gayeak = list(set(df_3['계약구분'].tolist()))\n",
    "#\n",
    "# Gayeak.sort()\n",
    "# Gayeak"
   ],
   "metadata": {
    "collapsed": false,
    "pycharm": {
     "name": "#%%\n"
    }
   }
  },
  {
   "cell_type": "code",
   "execution_count": 39,
   "outputs": [],
   "source": [
    "# SEOUL = df_3.loc[(df_3['계약구분'] =='일반용')]\n",
    "# SEOUL.drop(['고객호수(호)' ,'전기요금(원)' , '평균판매단가(원/kWh)'] , axis = 1 , inplace = True)\n",
    "# #SEOUL.dtypes(['사용량(kWh)'])\n",
    "# SEOUL"
   ],
   "metadata": {
    "collapsed": false,
    "pycharm": {
     "name": "#%%\n"
    }
   }
  },
  {
   "cell_type": "code",
   "execution_count": 40,
   "outputs": [],
   "source": [
    "#SEOUL.to_csv(\"서울특별시_일반용_전력사용량.csv\" , mode = 'w' , encoding= 'cp949')"
   ],
   "metadata": {
    "collapsed": false,
    "pycharm": {
     "name": "#%%\n"
    }
   }
  },
  {
   "cell_type": "code",
   "execution_count": 41,
   "outputs": [],
   "source": [
    "# print(SEOUL.dtypes)\n",
    "# SEOUL = SEOUL.astype({'사용량(kWh)' : 'float'})"
   ],
   "metadata": {
    "collapsed": false,
    "pycharm": {
     "name": "#%%\n"
    }
   }
  },
  {
   "cell_type": "code",
   "execution_count": 42,
   "outputs": [],
   "source": [
    "# SEOUL"
   ],
   "metadata": {
    "collapsed": false,
    "pycharm": {
     "name": "#%%\n"
    }
   }
  },
  {
   "cell_type": "code",
   "execution_count": 43,
   "outputs": [],
   "source": [
    "# a = SEOUL['사용량(kWh)'].tolist()\n",
    "# int_list = map(int, a)\n",
    "# b=0\n",
    "# for i in int_list:\n",
    "#     b+=i\n",
    "#\n",
    "# print(b)"
   ],
   "metadata": {
    "collapsed": false,
    "pycharm": {
     "name": "#%%\n"
    }
   }
  },
  {
   "cell_type": "code",
   "execution_count": 43,
   "outputs": [],
   "source": [],
   "metadata": {
    "collapsed": false,
    "pycharm": {
     "name": "#%%\n"
    }
   }
  },
  {
   "cell_type": "code",
   "execution_count": 43,
   "outputs": [],
   "source": [],
   "metadata": {
    "collapsed": false,
    "pycharm": {
     "name": "#%%\n"
    }
   }
  },
  {
   "cell_type": "code",
   "execution_count": 43,
   "outputs": [],
   "source": [],
   "metadata": {
    "collapsed": false,
    "pycharm": {
     "name": "#%%\n"
    }
   }
  },
  {
   "cell_type": "code",
   "execution_count": 43,
   "outputs": [],
   "source": [],
   "metadata": {
    "collapsed": false,
    "pycharm": {
     "name": "#%%\n"
    }
   }
  },
  {
   "cell_type": "code",
   "execution_count": 43,
   "outputs": [],
   "source": [],
   "metadata": {
    "collapsed": false,
    "pycharm": {
     "name": "#%%\n"
    }
   }
  },
  {
   "cell_type": "code",
   "execution_count": 43,
   "outputs": [],
   "source": [],
   "metadata": {
    "collapsed": false,
    "pycharm": {
     "name": "#%%\n"
    }
   }
  },
  {
   "cell_type": "code",
   "execution_count": 43,
   "outputs": [],
   "source": [],
   "metadata": {
    "collapsed": false,
    "pycharm": {
     "name": "#%%\n"
    }
   }
  }
 ],
 "metadata": {
  "kernelspec": {
   "display_name": "Python 3",
   "language": "python",
   "name": "python3"
  },
  "language_info": {
   "codemirror_mode": {
    "name": "ipython",
    "version": 2
   },
   "file_extension": ".py",
   "mimetype": "text/x-python",
   "name": "python",
   "nbconvert_exporter": "python",
   "pygments_lexer": "ipython2",
   "version": "2.7.6"
  }
 },
 "nbformat": 4,
 "nbformat_minor": 0
}