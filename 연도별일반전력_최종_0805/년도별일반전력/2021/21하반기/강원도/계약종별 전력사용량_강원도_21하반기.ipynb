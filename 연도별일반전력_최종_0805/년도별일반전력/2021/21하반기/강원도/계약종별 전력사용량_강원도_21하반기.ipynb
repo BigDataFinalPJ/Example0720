{
 "cells": [
  {
   "cell_type": "markdown",
   "source": [],
   "metadata": {
    "collapsed": false,
    "pycharm": {
     "name": "#%% md\n"
    }
   }
  },
  {
   "cell_type": "code",
   "execution_count": 64,
   "outputs": [],
   "source": [
    "import pandas as pd\n",
    "import re\n",
    "\n",
    "pd.options.display.float_format = '{:.0f}'.format"
   ],
   "metadata": {
    "collapsed": false,
    "pycharm": {
     "name": "#%%\n"
    }
   }
  },
  {
   "cell_type": "markdown",
   "source": [
    "### 1. 꼭 read_csv 21상반기, 19하반기와 같이 맞추어 주세요!!! 또한 지역(전라북도, 남도) 맞추기!!!!!"
   ],
   "metadata": {
    "collapsed": false,
    "pycharm": {
     "name": "#%% md\n"
    }
   }
  },
  {
   "cell_type": "code",
   "execution_count": 65,
   "outputs": [
    {
     "data": {
      "text/plain": "      계약종별 전력사용량 월별( 20220804 현재 ) Unnamed: 1     Unnamed: 2 Unnamed: 3  \\\n0    시도 : 강원도, 시군구 : 전체(시 / 군 / 구)        NaN            NaN        NaN   \n1      기간 : 2021년 07 월 ~ 2021년 12월        NaN            NaN        NaN   \n2                               년월         시구            시군구       계약구분   \n3                           202107        강원도  전체(시 / 군 / 구)        주택용   \n4                           202107        강원도  전체(시 / 군 / 구)        일반용   \n..                             ...        ...            ...        ...   \n907                         202112        강원도            횡성군        산업용   \n908                         202112        강원도            횡성군        심 야   \n909                         202112        강원도            횡성군        일반용   \n910                         202112        강원도            횡성군        주택용   \n911                         202112        강원도            횡성군         합계   \n\n    Unnamed: 4    Unnamed: 5       Unnamed: 6     Unnamed: 7  \n0          NaN           NaN              NaN            NaN  \n1          NaN           NaN              NaN            NaN  \n2      고객호수(호)      사용량(kWh)          전기요금(원)  평균판매단가(원/kWh)  \n3     623,622   191,086,604   18,920,818,251           99.0   \n4     153,638   398,964,121   57,770,750,228          144.8   \n..         ...           ...              ...            ...  \n907       809    22,580,698    2,984,630,156          132.2   \n908     6,049    13,405,459    1,004,396,917           74.9   \n909     5,404    13,670,892    1,804,455,401            132   \n910    27,438     6,025,821      720,645,572          119.6   \n911    61,442    64,786,777    7,077,532,649          109.2   \n\n[912 rows x 8 columns]",
      "text/html": "<div>\n<style scoped>\n    .dataframe tbody tr th:only-of-type {\n        vertical-align: middle;\n    }\n\n    .dataframe tbody tr th {\n        vertical-align: top;\n    }\n\n    .dataframe thead th {\n        text-align: right;\n    }\n</style>\n<table border=\"1\" class=\"dataframe\">\n  <thead>\n    <tr style=\"text-align: right;\">\n      <th></th>\n      <th>계약종별 전력사용량 월별( 20220804 현재 )</th>\n      <th>Unnamed: 1</th>\n      <th>Unnamed: 2</th>\n      <th>Unnamed: 3</th>\n      <th>Unnamed: 4</th>\n      <th>Unnamed: 5</th>\n      <th>Unnamed: 6</th>\n      <th>Unnamed: 7</th>\n    </tr>\n  </thead>\n  <tbody>\n    <tr>\n      <th>0</th>\n      <td>시도 : 강원도, 시군구 : 전체(시 / 군 / 구)</td>\n      <td>NaN</td>\n      <td>NaN</td>\n      <td>NaN</td>\n      <td>NaN</td>\n      <td>NaN</td>\n      <td>NaN</td>\n      <td>NaN</td>\n    </tr>\n    <tr>\n      <th>1</th>\n      <td>기간 : 2021년 07 월 ~ 2021년 12월</td>\n      <td>NaN</td>\n      <td>NaN</td>\n      <td>NaN</td>\n      <td>NaN</td>\n      <td>NaN</td>\n      <td>NaN</td>\n      <td>NaN</td>\n    </tr>\n    <tr>\n      <th>2</th>\n      <td>년월</td>\n      <td>시구</td>\n      <td>시군구</td>\n      <td>계약구분</td>\n      <td>고객호수(호)</td>\n      <td>사용량(kWh)</td>\n      <td>전기요금(원)</td>\n      <td>평균판매단가(원/kWh)</td>\n    </tr>\n    <tr>\n      <th>3</th>\n      <td>202107</td>\n      <td>강원도</td>\n      <td>전체(시 / 군 / 구)</td>\n      <td>주택용</td>\n      <td>623,622</td>\n      <td>191,086,604</td>\n      <td>18,920,818,251</td>\n      <td>99.0</td>\n    </tr>\n    <tr>\n      <th>4</th>\n      <td>202107</td>\n      <td>강원도</td>\n      <td>전체(시 / 군 / 구)</td>\n      <td>일반용</td>\n      <td>153,638</td>\n      <td>398,964,121</td>\n      <td>57,770,750,228</td>\n      <td>144.8</td>\n    </tr>\n    <tr>\n      <th>...</th>\n      <td>...</td>\n      <td>...</td>\n      <td>...</td>\n      <td>...</td>\n      <td>...</td>\n      <td>...</td>\n      <td>...</td>\n      <td>...</td>\n    </tr>\n    <tr>\n      <th>907</th>\n      <td>202112</td>\n      <td>강원도</td>\n      <td>횡성군</td>\n      <td>산업용</td>\n      <td>809</td>\n      <td>22,580,698</td>\n      <td>2,984,630,156</td>\n      <td>132.2</td>\n    </tr>\n    <tr>\n      <th>908</th>\n      <td>202112</td>\n      <td>강원도</td>\n      <td>횡성군</td>\n      <td>심 야</td>\n      <td>6,049</td>\n      <td>13,405,459</td>\n      <td>1,004,396,917</td>\n      <td>74.9</td>\n    </tr>\n    <tr>\n      <th>909</th>\n      <td>202112</td>\n      <td>강원도</td>\n      <td>횡성군</td>\n      <td>일반용</td>\n      <td>5,404</td>\n      <td>13,670,892</td>\n      <td>1,804,455,401</td>\n      <td>132</td>\n    </tr>\n    <tr>\n      <th>910</th>\n      <td>202112</td>\n      <td>강원도</td>\n      <td>횡성군</td>\n      <td>주택용</td>\n      <td>27,438</td>\n      <td>6,025,821</td>\n      <td>720,645,572</td>\n      <td>119.6</td>\n    </tr>\n    <tr>\n      <th>911</th>\n      <td>202112</td>\n      <td>강원도</td>\n      <td>횡성군</td>\n      <td>합계</td>\n      <td>61,442</td>\n      <td>64,786,777</td>\n      <td>7,077,532,649</td>\n      <td>109.2</td>\n    </tr>\n  </tbody>\n</table>\n<p>912 rows × 8 columns</p>\n</div>"
     },
     "execution_count": 65,
     "metadata": {},
     "output_type": "execute_result"
    }
   ],
   "source": [
    "df = pd.read_csv('강원도_계약종별_전력사용량_월별_21하반기.csv' , encoding='cp949')\n",
    "\n",
    "df\n",
    "#exchng=  pd.read_csv('지역별_전력거래량_20220803093050.csv' , encoding='cp949')"
   ],
   "metadata": {
    "collapsed": false,
    "pycharm": {
     "name": "#%%\n"
    }
   }
  },
  {
   "cell_type": "code",
   "execution_count": 66,
   "outputs": [
    {
     "data": {
      "text/plain": "    계약종별 전력사용량 월별( 20220804 현재 ) Unnamed: 1     Unnamed: 2 Unnamed: 3  \\\n2                             년월         시구            시군구       계약구분   \n3                         202107        강원도  전체(시 / 군 / 구)        주택용   \n4                         202107        강원도  전체(시 / 군 / 구)        일반용   \n5                         202107        강원도  전체(시 / 군 / 구)        교육용   \n6                         202107        강원도  전체(시 / 군 / 구)        산업용   \n..                           ...        ...            ...        ...   \n907                       202112        강원도            횡성군        산업용   \n908                       202112        강원도            횡성군        심 야   \n909                       202112        강원도            횡성군        일반용   \n910                       202112        강원도            횡성군        주택용   \n911                       202112        강원도            횡성군         합계   \n\n    Unnamed: 4    Unnamed: 5       Unnamed: 6     Unnamed: 7  \n2      고객호수(호)      사용량(kWh)          전기요금(원)  평균판매단가(원/kWh)  \n3     623,622   191,086,604   18,920,818,251           99.0   \n4     153,638   398,964,121   57,770,750,228          144.8   \n5       1,050    22,562,381    2,814,466,821          124.7   \n6      14,421   587,997,485   68,095,118,275          115.8   \n..         ...           ...              ...            ...  \n907       809    22,580,698    2,984,630,156          132.2   \n908     6,049    13,405,459    1,004,396,917           74.9   \n909     5,404    13,670,892    1,804,455,401            132   \n910    27,438     6,025,821      720,645,572          119.6   \n911    61,442    64,786,777    7,077,532,649          109.2   \n\n[909 rows x 8 columns]",
      "text/html": "<div>\n<style scoped>\n    .dataframe tbody tr th:only-of-type {\n        vertical-align: middle;\n    }\n\n    .dataframe tbody tr th {\n        vertical-align: top;\n    }\n\n    .dataframe thead th {\n        text-align: right;\n    }\n</style>\n<table border=\"1\" class=\"dataframe\">\n  <thead>\n    <tr style=\"text-align: right;\">\n      <th></th>\n      <th>계약종별 전력사용량 월별( 20220804 현재 )</th>\n      <th>Unnamed: 1</th>\n      <th>Unnamed: 2</th>\n      <th>Unnamed: 3</th>\n      <th>Unnamed: 4</th>\n      <th>Unnamed: 5</th>\n      <th>Unnamed: 6</th>\n      <th>Unnamed: 7</th>\n    </tr>\n  </thead>\n  <tbody>\n    <tr>\n      <th>2</th>\n      <td>년월</td>\n      <td>시구</td>\n      <td>시군구</td>\n      <td>계약구분</td>\n      <td>고객호수(호)</td>\n      <td>사용량(kWh)</td>\n      <td>전기요금(원)</td>\n      <td>평균판매단가(원/kWh)</td>\n    </tr>\n    <tr>\n      <th>3</th>\n      <td>202107</td>\n      <td>강원도</td>\n      <td>전체(시 / 군 / 구)</td>\n      <td>주택용</td>\n      <td>623,622</td>\n      <td>191,086,604</td>\n      <td>18,920,818,251</td>\n      <td>99.0</td>\n    </tr>\n    <tr>\n      <th>4</th>\n      <td>202107</td>\n      <td>강원도</td>\n      <td>전체(시 / 군 / 구)</td>\n      <td>일반용</td>\n      <td>153,638</td>\n      <td>398,964,121</td>\n      <td>57,770,750,228</td>\n      <td>144.8</td>\n    </tr>\n    <tr>\n      <th>5</th>\n      <td>202107</td>\n      <td>강원도</td>\n      <td>전체(시 / 군 / 구)</td>\n      <td>교육용</td>\n      <td>1,050</td>\n      <td>22,562,381</td>\n      <td>2,814,466,821</td>\n      <td>124.7</td>\n    </tr>\n    <tr>\n      <th>6</th>\n      <td>202107</td>\n      <td>강원도</td>\n      <td>전체(시 / 군 / 구)</td>\n      <td>산업용</td>\n      <td>14,421</td>\n      <td>587,997,485</td>\n      <td>68,095,118,275</td>\n      <td>115.8</td>\n    </tr>\n    <tr>\n      <th>...</th>\n      <td>...</td>\n      <td>...</td>\n      <td>...</td>\n      <td>...</td>\n      <td>...</td>\n      <td>...</td>\n      <td>...</td>\n      <td>...</td>\n    </tr>\n    <tr>\n      <th>907</th>\n      <td>202112</td>\n      <td>강원도</td>\n      <td>횡성군</td>\n      <td>산업용</td>\n      <td>809</td>\n      <td>22,580,698</td>\n      <td>2,984,630,156</td>\n      <td>132.2</td>\n    </tr>\n    <tr>\n      <th>908</th>\n      <td>202112</td>\n      <td>강원도</td>\n      <td>횡성군</td>\n      <td>심 야</td>\n      <td>6,049</td>\n      <td>13,405,459</td>\n      <td>1,004,396,917</td>\n      <td>74.9</td>\n    </tr>\n    <tr>\n      <th>909</th>\n      <td>202112</td>\n      <td>강원도</td>\n      <td>횡성군</td>\n      <td>일반용</td>\n      <td>5,404</td>\n      <td>13,670,892</td>\n      <td>1,804,455,401</td>\n      <td>132</td>\n    </tr>\n    <tr>\n      <th>910</th>\n      <td>202112</td>\n      <td>강원도</td>\n      <td>횡성군</td>\n      <td>주택용</td>\n      <td>27,438</td>\n      <td>6,025,821</td>\n      <td>720,645,572</td>\n      <td>119.6</td>\n    </tr>\n    <tr>\n      <th>911</th>\n      <td>202112</td>\n      <td>강원도</td>\n      <td>횡성군</td>\n      <td>합계</td>\n      <td>61,442</td>\n      <td>64,786,777</td>\n      <td>7,077,532,649</td>\n      <td>109.2</td>\n    </tr>\n  </tbody>\n</table>\n<p>909 rows × 8 columns</p>\n</div>"
     },
     "execution_count": 66,
     "metadata": {},
     "output_type": "execute_result"
    }
   ],
   "source": [
    "df = df.drop([0,1 , 46] , axis = 0)\n",
    "#0,1 , 10은 지우는게 맞다\n",
    "df"
   ],
   "metadata": {
    "collapsed": false,
    "pycharm": {
     "name": "#%%\n"
    }
   }
  },
  {
   "cell_type": "code",
   "execution_count": 67,
   "outputs": [],
   "source": [
    "a= df.loc[2].tolist()\n",
    "a\n",
    "df = df.drop([2] , axis = 0)"
   ],
   "metadata": {
    "collapsed": false,
    "pycharm": {
     "name": "#%%\n"
    }
   }
  },
  {
   "cell_type": "code",
   "execution_count": 68,
   "outputs": [
    {
     "data": {
      "text/plain": "         년월   시구            시군구 계약구분   고객호수(호)      사용량(kWh)          전기요금(원)  \\\n3    202107  강원도  전체(시 / 군 / 구)  주택용  623,622   191,086,604   18,920,818,251    \n4    202107  강원도  전체(시 / 군 / 구)  일반용  153,638   398,964,121   57,770,750,228    \n5    202107  강원도  전체(시 / 군 / 구)  교육용    1,050    22,562,381    2,814,466,821    \n6    202107  강원도  전체(시 / 군 / 구)  산업용   14,421   587,997,485   68,095,118,275    \n7    202107  강원도  전체(시 / 군 / 구)  농사용  119,310    63,298,378    3,029,201,624    \n..      ...  ...            ...  ...       ...           ...              ...   \n907  202112  강원도            횡성군  산업용      809    22,580,698    2,984,630,156    \n908  202112  강원도            횡성군  심 야    6,049    13,405,459    1,004,396,917    \n909  202112  강원도            횡성군  일반용    5,404    13,670,892    1,804,455,401    \n910  202112  강원도            횡성군  주택용   27,438     6,025,821      720,645,572    \n911  202112  강원도            횡성군   합계   61,442    64,786,777    7,077,532,649    \n\n    평균판매단가(원/kWh)  \n3           99.0   \n4          144.8   \n5          124.7   \n6          115.8   \n7           47.9   \n..            ...  \n907        132.2   \n908         74.9   \n909          132   \n910        119.6   \n911        109.2   \n\n[908 rows x 8 columns]",
      "text/html": "<div>\n<style scoped>\n    .dataframe tbody tr th:only-of-type {\n        vertical-align: middle;\n    }\n\n    .dataframe tbody tr th {\n        vertical-align: top;\n    }\n\n    .dataframe thead th {\n        text-align: right;\n    }\n</style>\n<table border=\"1\" class=\"dataframe\">\n  <thead>\n    <tr style=\"text-align: right;\">\n      <th></th>\n      <th>년월</th>\n      <th>시구</th>\n      <th>시군구</th>\n      <th>계약구분</th>\n      <th>고객호수(호)</th>\n      <th>사용량(kWh)</th>\n      <th>전기요금(원)</th>\n      <th>평균판매단가(원/kWh)</th>\n    </tr>\n  </thead>\n  <tbody>\n    <tr>\n      <th>3</th>\n      <td>202107</td>\n      <td>강원도</td>\n      <td>전체(시 / 군 / 구)</td>\n      <td>주택용</td>\n      <td>623,622</td>\n      <td>191,086,604</td>\n      <td>18,920,818,251</td>\n      <td>99.0</td>\n    </tr>\n    <tr>\n      <th>4</th>\n      <td>202107</td>\n      <td>강원도</td>\n      <td>전체(시 / 군 / 구)</td>\n      <td>일반용</td>\n      <td>153,638</td>\n      <td>398,964,121</td>\n      <td>57,770,750,228</td>\n      <td>144.8</td>\n    </tr>\n    <tr>\n      <th>5</th>\n      <td>202107</td>\n      <td>강원도</td>\n      <td>전체(시 / 군 / 구)</td>\n      <td>교육용</td>\n      <td>1,050</td>\n      <td>22,562,381</td>\n      <td>2,814,466,821</td>\n      <td>124.7</td>\n    </tr>\n    <tr>\n      <th>6</th>\n      <td>202107</td>\n      <td>강원도</td>\n      <td>전체(시 / 군 / 구)</td>\n      <td>산업용</td>\n      <td>14,421</td>\n      <td>587,997,485</td>\n      <td>68,095,118,275</td>\n      <td>115.8</td>\n    </tr>\n    <tr>\n      <th>7</th>\n      <td>202107</td>\n      <td>강원도</td>\n      <td>전체(시 / 군 / 구)</td>\n      <td>농사용</td>\n      <td>119,310</td>\n      <td>63,298,378</td>\n      <td>3,029,201,624</td>\n      <td>47.9</td>\n    </tr>\n    <tr>\n      <th>...</th>\n      <td>...</td>\n      <td>...</td>\n      <td>...</td>\n      <td>...</td>\n      <td>...</td>\n      <td>...</td>\n      <td>...</td>\n      <td>...</td>\n    </tr>\n    <tr>\n      <th>907</th>\n      <td>202112</td>\n      <td>강원도</td>\n      <td>횡성군</td>\n      <td>산업용</td>\n      <td>809</td>\n      <td>22,580,698</td>\n      <td>2,984,630,156</td>\n      <td>132.2</td>\n    </tr>\n    <tr>\n      <th>908</th>\n      <td>202112</td>\n      <td>강원도</td>\n      <td>횡성군</td>\n      <td>심 야</td>\n      <td>6,049</td>\n      <td>13,405,459</td>\n      <td>1,004,396,917</td>\n      <td>74.9</td>\n    </tr>\n    <tr>\n      <th>909</th>\n      <td>202112</td>\n      <td>강원도</td>\n      <td>횡성군</td>\n      <td>일반용</td>\n      <td>5,404</td>\n      <td>13,670,892</td>\n      <td>1,804,455,401</td>\n      <td>132</td>\n    </tr>\n    <tr>\n      <th>910</th>\n      <td>202112</td>\n      <td>강원도</td>\n      <td>횡성군</td>\n      <td>주택용</td>\n      <td>27,438</td>\n      <td>6,025,821</td>\n      <td>720,645,572</td>\n      <td>119.6</td>\n    </tr>\n    <tr>\n      <th>911</th>\n      <td>202112</td>\n      <td>강원도</td>\n      <td>횡성군</td>\n      <td>합계</td>\n      <td>61,442</td>\n      <td>64,786,777</td>\n      <td>7,077,532,649</td>\n      <td>109.2</td>\n    </tr>\n  </tbody>\n</table>\n<p>908 rows × 8 columns</p>\n</div>"
     },
     "execution_count": 68,
     "metadata": {},
     "output_type": "execute_result"
    }
   ],
   "source": [
    "df.columns = a\n",
    "df"
   ],
   "metadata": {
    "collapsed": false,
    "pycharm": {
     "name": "#%%\n"
    }
   }
  },
  {
   "cell_type": "code",
   "execution_count": 69,
   "outputs": [
    {
     "data": {
      "text/plain": "        년월   시구            시군구 계약구분    고객호수(호)       사용량(kWh)  \\\n3   202107  강원도  전체(시 / 군 / 구)  주택용   623,622    191,086,604    \n4   202107  강원도  전체(시 / 군 / 구)  일반용   153,638    398,964,121    \n5   202107  강원도  전체(시 / 군 / 구)  교육용     1,050     22,562,381    \n6   202107  강원도  전체(시 / 군 / 구)  산업용    14,421    587,997,485    \n7   202107  강원도  전체(시 / 군 / 구)  농사용   119,310     63,298,378    \n8   202107  강원도  전체(시 / 군 / 구)  가로등   128,881     15,385,142    \n9   202107  강원도  전체(시 / 군 / 구)  심 야    85,723     41,527,392    \n10  202108  강원도  전체(시 / 군 / 구)  주택용   624,670    253,976,656    \n11  202108  강원도  전체(시 / 군 / 구)  일반용   154,092    457,828,874    \n12  202108  강원도  전체(시 / 군 / 구)  교육용     1,050     22,355,425    \n13  202108  강원도  전체(시 / 군 / 구)  산업용    14,432    580,310,465    \n14  202108  강원도  전체(시 / 군 / 구)  농사용   120,104     85,930,916    \n15  202108  강원도  전체(시 / 군 / 구)  가로등   129,287     16,174,640    \n16  202108  강원도  전체(시 / 군 / 구)  심 야    85,529     32,557,849    \n17  202109  강원도  전체(시 / 군 / 구)  주택용   625,615    201,495,293    \n18  202109  강원도  전체(시 / 군 / 구)  일반용   154,461    381,097,139    \n19  202109  강원도  전체(시 / 군 / 구)  교육용     1,049     22,169,233    \n20  202109  강원도  전체(시 / 군 / 구)  산업용    14,450    562,168,312    \n21  202109  강원도  전체(시 / 군 / 구)  농사용   121,093     91,358,489    \n22  202109  강원도  전체(시 / 군 / 구)  가로등   129,779     15,974,736    \n23  202109  강원도  전체(시 / 군 / 구)  심 야    85,374     38,289,832    \n24  202110  강원도  전체(시 / 군 / 구)  주택용   626,421    182,742,908    \n25  202110  강원도  전체(시 / 군 / 구)  일반용   154,785    348,119,623    \n26  202110  강원도  전체(시 / 군 / 구)  교육용     1,046     20,127,176    \n27  202110  강원도  전체(시 / 군 / 구)  산업용    14,496    583,984,850    \n28  202110  강원도  전체(시 / 군 / 구)  농사용   121,557     78,428,964    \n29  202110  강원도  전체(시 / 군 / 구)  가로등   130,014     16,298,621    \n30  202110  강원도  전체(시 / 군 / 구)  심 야    85,230     51,178,402    \n31  202111  강원도  전체(시 / 군 / 구)  주택용   627,478    193,418,829    \n32  202111  강원도  전체(시 / 군 / 구)  일반용   155,659    379,510,412    \n33  202111  강원도  전체(시 / 군 / 구)  교육용     1,044     27,023,539    \n34  202111  강원도  전체(시 / 군 / 구)  산업용    14,545    588,617,004    \n35  202111  강원도  전체(시 / 군 / 구)  농사용   143,721     84,182,397    \n36  202111  강원도  전체(시 / 군 / 구)  가로등   130,467     16,958,330    \n37  202111  강원도  전체(시 / 군 / 구)  심 야    85,079    116,467,255    \n38  202112  강원도  전체(시 / 군 / 구)  주택용   628,284    201,007,603    \n39  202112  강원도  전체(시 / 군 / 구)  일반용   156,403    447,917,924    \n40  202112  강원도  전체(시 / 군 / 구)  교육용     1,044     38,271,506    \n41  202112  강원도  전체(시 / 군 / 구)  산업용    14,582    636,471,417    \n42  202112  강원도  전체(시 / 군 / 구)  농사용   121,719     62,569,532    \n43  202112  강원도  전체(시 / 군 / 구)  가로등   131,006     17,008,606    \n44  202112  강원도  전체(시 / 군 / 구)  심 야    84,897    170,308,418    \n45      합계   합계             합계   합계  6,817,107  8,343,122,678   \n\n            전기요금(원) 평균판매단가(원/kWh)  \n3   18,920,818,251          99.0   \n4   57,770,750,228         144.8   \n5    2,814,466,821         124.7   \n6   68,095,118,275         115.8   \n7    3,029,201,624          47.9   \n8    1,804,557,983         117.3   \n9    2,249,116,160          54.2   \n10  27,849,850,927         109.7   \n11  63,750,211,213         139.2   \n12   2,843,452,342         127.2   \n13  64,856,825,725         111.8   \n14   3,884,792,737          45.2   \n15   1,849,618,865         114.4   \n16   1,800,353,924          55.3   \n17  19,798,891,200          98.3   \n18  48,738,961,240         127.9   \n19   2,433,117,721         109.8   \n20  52,103,428,333          92.7   \n21   4,129,854,005          45.2   \n22   1,807,046,502         113.1   \n23   2,619,360,887          68.4   \n24  19,258,859,881         105.4   \n25  40,840,320,345         117.3   \n26   1,975,277,697          98.1   \n27  53,307,224,602          91.3   \n28   3,901,964,864          49.8   \n29   1,840,700,047         112.9   \n30   2,297,521,884          44.9   \n31  21,142,561,137         109.3   \n32  49,403,041,266         130.2   \n33   2,886,050,030         106.8   \n34  67,097,357,776         114.0   \n35   3,873,123,300          46.0   \n36   1,887,016,957         111.3   \n37   7,368,281,007          63.3   \n38  22,494,168,528         111.9   \n39  60,222,931,262         134.5   \n40   3,832,966,613         100.2   \n41  72,586,665,682         114.0   \n42   3,251,215,356          52.0   \n43   1,864,382,631         109.6   \n44  12,782,309,242          75.1   \n45  907,263,735,070         108.7  ",
      "text/html": "<div>\n<style scoped>\n    .dataframe tbody tr th:only-of-type {\n        vertical-align: middle;\n    }\n\n    .dataframe tbody tr th {\n        vertical-align: top;\n    }\n\n    .dataframe thead th {\n        text-align: right;\n    }\n</style>\n<table border=\"1\" class=\"dataframe\">\n  <thead>\n    <tr style=\"text-align: right;\">\n      <th></th>\n      <th>년월</th>\n      <th>시구</th>\n      <th>시군구</th>\n      <th>계약구분</th>\n      <th>고객호수(호)</th>\n      <th>사용량(kWh)</th>\n      <th>전기요금(원)</th>\n      <th>평균판매단가(원/kWh)</th>\n    </tr>\n  </thead>\n  <tbody>\n    <tr>\n      <th>3</th>\n      <td>202107</td>\n      <td>강원도</td>\n      <td>전체(시 / 군 / 구)</td>\n      <td>주택용</td>\n      <td>623,622</td>\n      <td>191,086,604</td>\n      <td>18,920,818,251</td>\n      <td>99.0</td>\n    </tr>\n    <tr>\n      <th>4</th>\n      <td>202107</td>\n      <td>강원도</td>\n      <td>전체(시 / 군 / 구)</td>\n      <td>일반용</td>\n      <td>153,638</td>\n      <td>398,964,121</td>\n      <td>57,770,750,228</td>\n      <td>144.8</td>\n    </tr>\n    <tr>\n      <th>5</th>\n      <td>202107</td>\n      <td>강원도</td>\n      <td>전체(시 / 군 / 구)</td>\n      <td>교육용</td>\n      <td>1,050</td>\n      <td>22,562,381</td>\n      <td>2,814,466,821</td>\n      <td>124.7</td>\n    </tr>\n    <tr>\n      <th>6</th>\n      <td>202107</td>\n      <td>강원도</td>\n      <td>전체(시 / 군 / 구)</td>\n      <td>산업용</td>\n      <td>14,421</td>\n      <td>587,997,485</td>\n      <td>68,095,118,275</td>\n      <td>115.8</td>\n    </tr>\n    <tr>\n      <th>7</th>\n      <td>202107</td>\n      <td>강원도</td>\n      <td>전체(시 / 군 / 구)</td>\n      <td>농사용</td>\n      <td>119,310</td>\n      <td>63,298,378</td>\n      <td>3,029,201,624</td>\n      <td>47.9</td>\n    </tr>\n    <tr>\n      <th>8</th>\n      <td>202107</td>\n      <td>강원도</td>\n      <td>전체(시 / 군 / 구)</td>\n      <td>가로등</td>\n      <td>128,881</td>\n      <td>15,385,142</td>\n      <td>1,804,557,983</td>\n      <td>117.3</td>\n    </tr>\n    <tr>\n      <th>9</th>\n      <td>202107</td>\n      <td>강원도</td>\n      <td>전체(시 / 군 / 구)</td>\n      <td>심 야</td>\n      <td>85,723</td>\n      <td>41,527,392</td>\n      <td>2,249,116,160</td>\n      <td>54.2</td>\n    </tr>\n    <tr>\n      <th>10</th>\n      <td>202108</td>\n      <td>강원도</td>\n      <td>전체(시 / 군 / 구)</td>\n      <td>주택용</td>\n      <td>624,670</td>\n      <td>253,976,656</td>\n      <td>27,849,850,927</td>\n      <td>109.7</td>\n    </tr>\n    <tr>\n      <th>11</th>\n      <td>202108</td>\n      <td>강원도</td>\n      <td>전체(시 / 군 / 구)</td>\n      <td>일반용</td>\n      <td>154,092</td>\n      <td>457,828,874</td>\n      <td>63,750,211,213</td>\n      <td>139.2</td>\n    </tr>\n    <tr>\n      <th>12</th>\n      <td>202108</td>\n      <td>강원도</td>\n      <td>전체(시 / 군 / 구)</td>\n      <td>교육용</td>\n      <td>1,050</td>\n      <td>22,355,425</td>\n      <td>2,843,452,342</td>\n      <td>127.2</td>\n    </tr>\n    <tr>\n      <th>13</th>\n      <td>202108</td>\n      <td>강원도</td>\n      <td>전체(시 / 군 / 구)</td>\n      <td>산업용</td>\n      <td>14,432</td>\n      <td>580,310,465</td>\n      <td>64,856,825,725</td>\n      <td>111.8</td>\n    </tr>\n    <tr>\n      <th>14</th>\n      <td>202108</td>\n      <td>강원도</td>\n      <td>전체(시 / 군 / 구)</td>\n      <td>농사용</td>\n      <td>120,104</td>\n      <td>85,930,916</td>\n      <td>3,884,792,737</td>\n      <td>45.2</td>\n    </tr>\n    <tr>\n      <th>15</th>\n      <td>202108</td>\n      <td>강원도</td>\n      <td>전체(시 / 군 / 구)</td>\n      <td>가로등</td>\n      <td>129,287</td>\n      <td>16,174,640</td>\n      <td>1,849,618,865</td>\n      <td>114.4</td>\n    </tr>\n    <tr>\n      <th>16</th>\n      <td>202108</td>\n      <td>강원도</td>\n      <td>전체(시 / 군 / 구)</td>\n      <td>심 야</td>\n      <td>85,529</td>\n      <td>32,557,849</td>\n      <td>1,800,353,924</td>\n      <td>55.3</td>\n    </tr>\n    <tr>\n      <th>17</th>\n      <td>202109</td>\n      <td>강원도</td>\n      <td>전체(시 / 군 / 구)</td>\n      <td>주택용</td>\n      <td>625,615</td>\n      <td>201,495,293</td>\n      <td>19,798,891,200</td>\n      <td>98.3</td>\n    </tr>\n    <tr>\n      <th>18</th>\n      <td>202109</td>\n      <td>강원도</td>\n      <td>전체(시 / 군 / 구)</td>\n      <td>일반용</td>\n      <td>154,461</td>\n      <td>381,097,139</td>\n      <td>48,738,961,240</td>\n      <td>127.9</td>\n    </tr>\n    <tr>\n      <th>19</th>\n      <td>202109</td>\n      <td>강원도</td>\n      <td>전체(시 / 군 / 구)</td>\n      <td>교육용</td>\n      <td>1,049</td>\n      <td>22,169,233</td>\n      <td>2,433,117,721</td>\n      <td>109.8</td>\n    </tr>\n    <tr>\n      <th>20</th>\n      <td>202109</td>\n      <td>강원도</td>\n      <td>전체(시 / 군 / 구)</td>\n      <td>산업용</td>\n      <td>14,450</td>\n      <td>562,168,312</td>\n      <td>52,103,428,333</td>\n      <td>92.7</td>\n    </tr>\n    <tr>\n      <th>21</th>\n      <td>202109</td>\n      <td>강원도</td>\n      <td>전체(시 / 군 / 구)</td>\n      <td>농사용</td>\n      <td>121,093</td>\n      <td>91,358,489</td>\n      <td>4,129,854,005</td>\n      <td>45.2</td>\n    </tr>\n    <tr>\n      <th>22</th>\n      <td>202109</td>\n      <td>강원도</td>\n      <td>전체(시 / 군 / 구)</td>\n      <td>가로등</td>\n      <td>129,779</td>\n      <td>15,974,736</td>\n      <td>1,807,046,502</td>\n      <td>113.1</td>\n    </tr>\n    <tr>\n      <th>23</th>\n      <td>202109</td>\n      <td>강원도</td>\n      <td>전체(시 / 군 / 구)</td>\n      <td>심 야</td>\n      <td>85,374</td>\n      <td>38,289,832</td>\n      <td>2,619,360,887</td>\n      <td>68.4</td>\n    </tr>\n    <tr>\n      <th>24</th>\n      <td>202110</td>\n      <td>강원도</td>\n      <td>전체(시 / 군 / 구)</td>\n      <td>주택용</td>\n      <td>626,421</td>\n      <td>182,742,908</td>\n      <td>19,258,859,881</td>\n      <td>105.4</td>\n    </tr>\n    <tr>\n      <th>25</th>\n      <td>202110</td>\n      <td>강원도</td>\n      <td>전체(시 / 군 / 구)</td>\n      <td>일반용</td>\n      <td>154,785</td>\n      <td>348,119,623</td>\n      <td>40,840,320,345</td>\n      <td>117.3</td>\n    </tr>\n    <tr>\n      <th>26</th>\n      <td>202110</td>\n      <td>강원도</td>\n      <td>전체(시 / 군 / 구)</td>\n      <td>교육용</td>\n      <td>1,046</td>\n      <td>20,127,176</td>\n      <td>1,975,277,697</td>\n      <td>98.1</td>\n    </tr>\n    <tr>\n      <th>27</th>\n      <td>202110</td>\n      <td>강원도</td>\n      <td>전체(시 / 군 / 구)</td>\n      <td>산업용</td>\n      <td>14,496</td>\n      <td>583,984,850</td>\n      <td>53,307,224,602</td>\n      <td>91.3</td>\n    </tr>\n    <tr>\n      <th>28</th>\n      <td>202110</td>\n      <td>강원도</td>\n      <td>전체(시 / 군 / 구)</td>\n      <td>농사용</td>\n      <td>121,557</td>\n      <td>78,428,964</td>\n      <td>3,901,964,864</td>\n      <td>49.8</td>\n    </tr>\n    <tr>\n      <th>29</th>\n      <td>202110</td>\n      <td>강원도</td>\n      <td>전체(시 / 군 / 구)</td>\n      <td>가로등</td>\n      <td>130,014</td>\n      <td>16,298,621</td>\n      <td>1,840,700,047</td>\n      <td>112.9</td>\n    </tr>\n    <tr>\n      <th>30</th>\n      <td>202110</td>\n      <td>강원도</td>\n      <td>전체(시 / 군 / 구)</td>\n      <td>심 야</td>\n      <td>85,230</td>\n      <td>51,178,402</td>\n      <td>2,297,521,884</td>\n      <td>44.9</td>\n    </tr>\n    <tr>\n      <th>31</th>\n      <td>202111</td>\n      <td>강원도</td>\n      <td>전체(시 / 군 / 구)</td>\n      <td>주택용</td>\n      <td>627,478</td>\n      <td>193,418,829</td>\n      <td>21,142,561,137</td>\n      <td>109.3</td>\n    </tr>\n    <tr>\n      <th>32</th>\n      <td>202111</td>\n      <td>강원도</td>\n      <td>전체(시 / 군 / 구)</td>\n      <td>일반용</td>\n      <td>155,659</td>\n      <td>379,510,412</td>\n      <td>49,403,041,266</td>\n      <td>130.2</td>\n    </tr>\n    <tr>\n      <th>33</th>\n      <td>202111</td>\n      <td>강원도</td>\n      <td>전체(시 / 군 / 구)</td>\n      <td>교육용</td>\n      <td>1,044</td>\n      <td>27,023,539</td>\n      <td>2,886,050,030</td>\n      <td>106.8</td>\n    </tr>\n    <tr>\n      <th>34</th>\n      <td>202111</td>\n      <td>강원도</td>\n      <td>전체(시 / 군 / 구)</td>\n      <td>산업용</td>\n      <td>14,545</td>\n      <td>588,617,004</td>\n      <td>67,097,357,776</td>\n      <td>114.0</td>\n    </tr>\n    <tr>\n      <th>35</th>\n      <td>202111</td>\n      <td>강원도</td>\n      <td>전체(시 / 군 / 구)</td>\n      <td>농사용</td>\n      <td>143,721</td>\n      <td>84,182,397</td>\n      <td>3,873,123,300</td>\n      <td>46.0</td>\n    </tr>\n    <tr>\n      <th>36</th>\n      <td>202111</td>\n      <td>강원도</td>\n      <td>전체(시 / 군 / 구)</td>\n      <td>가로등</td>\n      <td>130,467</td>\n      <td>16,958,330</td>\n      <td>1,887,016,957</td>\n      <td>111.3</td>\n    </tr>\n    <tr>\n      <th>37</th>\n      <td>202111</td>\n      <td>강원도</td>\n      <td>전체(시 / 군 / 구)</td>\n      <td>심 야</td>\n      <td>85,079</td>\n      <td>116,467,255</td>\n      <td>7,368,281,007</td>\n      <td>63.3</td>\n    </tr>\n    <tr>\n      <th>38</th>\n      <td>202112</td>\n      <td>강원도</td>\n      <td>전체(시 / 군 / 구)</td>\n      <td>주택용</td>\n      <td>628,284</td>\n      <td>201,007,603</td>\n      <td>22,494,168,528</td>\n      <td>111.9</td>\n    </tr>\n    <tr>\n      <th>39</th>\n      <td>202112</td>\n      <td>강원도</td>\n      <td>전체(시 / 군 / 구)</td>\n      <td>일반용</td>\n      <td>156,403</td>\n      <td>447,917,924</td>\n      <td>60,222,931,262</td>\n      <td>134.5</td>\n    </tr>\n    <tr>\n      <th>40</th>\n      <td>202112</td>\n      <td>강원도</td>\n      <td>전체(시 / 군 / 구)</td>\n      <td>교육용</td>\n      <td>1,044</td>\n      <td>38,271,506</td>\n      <td>3,832,966,613</td>\n      <td>100.2</td>\n    </tr>\n    <tr>\n      <th>41</th>\n      <td>202112</td>\n      <td>강원도</td>\n      <td>전체(시 / 군 / 구)</td>\n      <td>산업용</td>\n      <td>14,582</td>\n      <td>636,471,417</td>\n      <td>72,586,665,682</td>\n      <td>114.0</td>\n    </tr>\n    <tr>\n      <th>42</th>\n      <td>202112</td>\n      <td>강원도</td>\n      <td>전체(시 / 군 / 구)</td>\n      <td>농사용</td>\n      <td>121,719</td>\n      <td>62,569,532</td>\n      <td>3,251,215,356</td>\n      <td>52.0</td>\n    </tr>\n    <tr>\n      <th>43</th>\n      <td>202112</td>\n      <td>강원도</td>\n      <td>전체(시 / 군 / 구)</td>\n      <td>가로등</td>\n      <td>131,006</td>\n      <td>17,008,606</td>\n      <td>1,864,382,631</td>\n      <td>109.6</td>\n    </tr>\n    <tr>\n      <th>44</th>\n      <td>202112</td>\n      <td>강원도</td>\n      <td>전체(시 / 군 / 구)</td>\n      <td>심 야</td>\n      <td>84,897</td>\n      <td>170,308,418</td>\n      <td>12,782,309,242</td>\n      <td>75.1</td>\n    </tr>\n    <tr>\n      <th>45</th>\n      <td>합계</td>\n      <td>합계</td>\n      <td>합계</td>\n      <td>합계</td>\n      <td>6,817,107</td>\n      <td>8,343,122,678</td>\n      <td>907,263,735,070</td>\n      <td>108.7</td>\n    </tr>\n  </tbody>\n</table>\n</div>"
     },
     "execution_count": 69,
     "metadata": {},
     "output_type": "execute_result"
    }
   ],
   "source": [
    "df_2 = df.loc[:45]\n",
    "df_2\n"
   ],
   "metadata": {
    "collapsed": false,
    "pycharm": {
     "name": "#%%\n"
    }
   }
  },
  {
   "cell_type": "code",
   "execution_count": 70,
   "outputs": [
    {
     "name": "stderr",
     "output_type": "stream",
     "text": [
      "C:\\Users\\user\\AppData\\Local\\Temp\\ipykernel_18820\\3551721261.py:3: SettingWithCopyWarning: \n",
      "A value is trying to be set on a copy of a slice from a DataFrame\n",
      "\n",
      "See the caveats in the documentation: https://pandas.pydata.org/pandas-docs/stable/user_guide/indexing.html#returning-a-view-versus-a-copy\n",
      "  GyeonGi.drop(['시군구' , '전기요금(원)' , '평균판매단가(원/kWh)'] , axis = 1 , inplace = True)\n"
     ]
    },
    {
     "data": {
      "text/plain": "        년월   시구 계약구분   고객호수(호)      사용량(kWh)\n4   202107  강원도  일반용  153,638   398,964,121 \n11  202108  강원도  일반용  154,092   457,828,874 \n18  202109  강원도  일반용  154,461   381,097,139 \n25  202110  강원도  일반용  154,785   348,119,623 \n32  202111  강원도  일반용  155,659   379,510,412 \n39  202112  강원도  일반용  156,403   447,917,924 ",
      "text/html": "<div>\n<style scoped>\n    .dataframe tbody tr th:only-of-type {\n        vertical-align: middle;\n    }\n\n    .dataframe tbody tr th {\n        vertical-align: top;\n    }\n\n    .dataframe thead th {\n        text-align: right;\n    }\n</style>\n<table border=\"1\" class=\"dataframe\">\n  <thead>\n    <tr style=\"text-align: right;\">\n      <th></th>\n      <th>년월</th>\n      <th>시구</th>\n      <th>계약구분</th>\n      <th>고객호수(호)</th>\n      <th>사용량(kWh)</th>\n    </tr>\n  </thead>\n  <tbody>\n    <tr>\n      <th>4</th>\n      <td>202107</td>\n      <td>강원도</td>\n      <td>일반용</td>\n      <td>153,638</td>\n      <td>398,964,121</td>\n    </tr>\n    <tr>\n      <th>11</th>\n      <td>202108</td>\n      <td>강원도</td>\n      <td>일반용</td>\n      <td>154,092</td>\n      <td>457,828,874</td>\n    </tr>\n    <tr>\n      <th>18</th>\n      <td>202109</td>\n      <td>강원도</td>\n      <td>일반용</td>\n      <td>154,461</td>\n      <td>381,097,139</td>\n    </tr>\n    <tr>\n      <th>25</th>\n      <td>202110</td>\n      <td>강원도</td>\n      <td>일반용</td>\n      <td>154,785</td>\n      <td>348,119,623</td>\n    </tr>\n    <tr>\n      <th>32</th>\n      <td>202111</td>\n      <td>강원도</td>\n      <td>일반용</td>\n      <td>155,659</td>\n      <td>379,510,412</td>\n    </tr>\n    <tr>\n      <th>39</th>\n      <td>202112</td>\n      <td>강원도</td>\n      <td>일반용</td>\n      <td>156,403</td>\n      <td>447,917,924</td>\n    </tr>\n  </tbody>\n</table>\n</div>"
     },
     "execution_count": 70,
     "metadata": {},
     "output_type": "execute_result"
    }
   ],
   "source": [
    "GyeonGi  = df_2.loc[(df_2['계약구분'] == '일반용')]\n",
    "#SEOUL = df_3.loc[(df_3['계약구분'] =='일반용')]\n",
    "GyeonGi.drop(['시군구' , '전기요금(원)' , '평균판매단가(원/kWh)'] , axis = 1 , inplace = True)\n",
    "GyeonGi"
   ],
   "metadata": {
    "collapsed": false,
    "pycharm": {
     "name": "#%%\n"
    }
   }
  },
  {
   "cell_type": "code",
   "execution_count": 71,
   "outputs": [],
   "source": [
    "#SEOUL1.to_csv(\"서울특별시_계약종별_전국_전력사용량_2022.csv\" , mode = 'w' , encoding= 'cp949')"
   ],
   "metadata": {
    "collapsed": false,
    "pycharm": {
     "name": "#%%\n"
    }
   }
  },
  {
   "cell_type": "code",
   "execution_count": 72,
   "outputs": [],
   "source": [
    "#df_2.to_csv(\"서울특별시_계약종별_전국_전력사용량.csv\" , mode = 'w' , encoding= 'cp949')"
   ],
   "metadata": {
    "collapsed": false,
    "pycharm": {
     "name": "#%%\n"
    }
   }
  },
  {
   "cell_type": "code",
   "execution_count": 73,
   "outputs": [
    {
     "data": {
      "text/plain": "         년월   시구  시군구 계약구분  고객호수(호)     사용량(kWh)\n53   202107  강원도  강릉시  일반용  21,509   51,643,213 \n197  202108  강원도  강릉시  일반용  21,597   59,344,788 \n341  202109  강원도  강릉시  일반용  21,656   50,427,755 \n485  202110  강원도  강릉시  일반용  21,808   44,920,646 \n629  202111  강원도  강릉시  일반용  21,957   46,813,115 \n..      ...  ...  ...  ...      ...          ...\n333  202108  강원도  횡성군  일반용   5,319   12,098,880 \n477  202109  강원도  횡성군  일반용   5,324    9,599,617 \n621  202110  강원도  횡성군  일반용   5,322    8,841,575 \n765  202111  강원도  횡성군  일반용   5,367   10,493,464 \n909  202112  강원도  횡성군  일반용   5,404   13,670,892 \n\n[108 rows x 6 columns]",
      "text/html": "<div>\n<style scoped>\n    .dataframe tbody tr th:only-of-type {\n        vertical-align: middle;\n    }\n\n    .dataframe tbody tr th {\n        vertical-align: top;\n    }\n\n    .dataframe thead th {\n        text-align: right;\n    }\n</style>\n<table border=\"1\" class=\"dataframe\">\n  <thead>\n    <tr style=\"text-align: right;\">\n      <th></th>\n      <th>년월</th>\n      <th>시구</th>\n      <th>시군구</th>\n      <th>계약구분</th>\n      <th>고객호수(호)</th>\n      <th>사용량(kWh)</th>\n    </tr>\n  </thead>\n  <tbody>\n    <tr>\n      <th>53</th>\n      <td>202107</td>\n      <td>강원도</td>\n      <td>강릉시</td>\n      <td>일반용</td>\n      <td>21,509</td>\n      <td>51,643,213</td>\n    </tr>\n    <tr>\n      <th>197</th>\n      <td>202108</td>\n      <td>강원도</td>\n      <td>강릉시</td>\n      <td>일반용</td>\n      <td>21,597</td>\n      <td>59,344,788</td>\n    </tr>\n    <tr>\n      <th>341</th>\n      <td>202109</td>\n      <td>강원도</td>\n      <td>강릉시</td>\n      <td>일반용</td>\n      <td>21,656</td>\n      <td>50,427,755</td>\n    </tr>\n    <tr>\n      <th>485</th>\n      <td>202110</td>\n      <td>강원도</td>\n      <td>강릉시</td>\n      <td>일반용</td>\n      <td>21,808</td>\n      <td>44,920,646</td>\n    </tr>\n    <tr>\n      <th>629</th>\n      <td>202111</td>\n      <td>강원도</td>\n      <td>강릉시</td>\n      <td>일반용</td>\n      <td>21,957</td>\n      <td>46,813,115</td>\n    </tr>\n    <tr>\n      <th>...</th>\n      <td>...</td>\n      <td>...</td>\n      <td>...</td>\n      <td>...</td>\n      <td>...</td>\n      <td>...</td>\n    </tr>\n    <tr>\n      <th>333</th>\n      <td>202108</td>\n      <td>강원도</td>\n      <td>횡성군</td>\n      <td>일반용</td>\n      <td>5,319</td>\n      <td>12,098,880</td>\n    </tr>\n    <tr>\n      <th>477</th>\n      <td>202109</td>\n      <td>강원도</td>\n      <td>횡성군</td>\n      <td>일반용</td>\n      <td>5,324</td>\n      <td>9,599,617</td>\n    </tr>\n    <tr>\n      <th>621</th>\n      <td>202110</td>\n      <td>강원도</td>\n      <td>횡성군</td>\n      <td>일반용</td>\n      <td>5,322</td>\n      <td>8,841,575</td>\n    </tr>\n    <tr>\n      <th>765</th>\n      <td>202111</td>\n      <td>강원도</td>\n      <td>횡성군</td>\n      <td>일반용</td>\n      <td>5,367</td>\n      <td>10,493,464</td>\n    </tr>\n    <tr>\n      <th>909</th>\n      <td>202112</td>\n      <td>강원도</td>\n      <td>횡성군</td>\n      <td>일반용</td>\n      <td>5,404</td>\n      <td>13,670,892</td>\n    </tr>\n  </tbody>\n</table>\n<p>108 rows × 6 columns</p>\n</div>"
     },
     "execution_count": 73,
     "metadata": {},
     "output_type": "execute_result"
    }
   ],
   "source": [
    "df_3 = df.loc[48:]\n",
    "df_3 = df_3.loc[(df_3['계약구분'] == '일반용')]\n",
    "df_3 = df_3.sort_values(by=['시군구' , '년월'])\n",
    "df_3.drop(['전기요금(원)',   '평균판매단가(원/kWh)'] , axis = 1 , inplace = True)\n",
    "df_3"
   ],
   "metadata": {
    "collapsed": false,
    "pycharm": {
     "name": "#%%\n"
    }
   }
  },
  {
   "cell_type": "code",
   "execution_count": 74,
   "outputs": [
    {
     "data": {
      "text/plain": "'강원도'"
     },
     "execution_count": 74,
     "metadata": {},
     "output_type": "execute_result"
    }
   ],
   "source": [
    "a = df_3.loc[: , \"시구\"]\n",
    "b = a[:1].tolist()\n",
    "for i in b:\n",
    "    City = i\n",
    "City"
   ],
   "metadata": {
    "collapsed": false,
    "pycharm": {
     "name": "#%%\n"
    }
   }
  },
  {
   "cell_type": "code",
   "execution_count": 75,
   "outputs": [
    {
     "data": {
      "text/plain": "['강릉시',\n '고성군',\n '동해시',\n '삼척시',\n '속초시',\n '양구군',\n '양양군',\n '영월군',\n '원주시',\n '인제군',\n '정선군',\n '철원군',\n '춘천시',\n '태백시',\n '평창군',\n '홍천군',\n '화천군',\n '횡성군']"
     },
     "execution_count": 75,
     "metadata": {},
     "output_type": "execute_result"
    }
   ],
   "source": [
    "\n",
    "SIGUNGU = list(set(df_3.loc[: , '시군구'].tolist()))\n",
    "SIGUNGU.sort()\n",
    "SIGUNGU"
   ],
   "metadata": {
    "collapsed": false,
    "pycharm": {
     "name": "#%%\n"
    }
   }
  },
  {
   "cell_type": "code",
   "execution_count": 76,
   "outputs": [
    {
     "data": {
      "text/plain": "         년월   시구  시군구 계약구분   고객호수(호)      사용량(kWh)\n55   202107  강원도  강릉시   합계  141,373   160,642,099 \n199  202108  강원도  강릉시   합계  141,657   174,103,741 \n343  202109  강원도  강릉시   합계  141,938   156,920,273 \n487  202110  강원도  강릉시   합계  142,234   150,856,439 \n631  202111  강원도  강릉시   합계  142,765   163,972,525 \n..      ...  ...  ...  ...       ...           ...\n335  202108  강원도  횡성군   합계   60,629    54,880,741 \n479  202109  강원도  횡성군   합계   60,948    49,708,607 \n623  202110  강원도  횡성군   합계   61,128    48,390,346 \n767  202111  강원도  횡성군   합계   63,262    56,970,800 \n911  202112  강원도  횡성군   합계   61,442    64,786,777 \n\n[108 rows x 6 columns]",
      "text/html": "<div>\n<style scoped>\n    .dataframe tbody tr th:only-of-type {\n        vertical-align: middle;\n    }\n\n    .dataframe tbody tr th {\n        vertical-align: top;\n    }\n\n    .dataframe thead th {\n        text-align: right;\n    }\n</style>\n<table border=\"1\" class=\"dataframe\">\n  <thead>\n    <tr style=\"text-align: right;\">\n      <th></th>\n      <th>년월</th>\n      <th>시구</th>\n      <th>시군구</th>\n      <th>계약구분</th>\n      <th>고객호수(호)</th>\n      <th>사용량(kWh)</th>\n    </tr>\n  </thead>\n  <tbody>\n    <tr>\n      <th>55</th>\n      <td>202107</td>\n      <td>강원도</td>\n      <td>강릉시</td>\n      <td>합계</td>\n      <td>141,373</td>\n      <td>160,642,099</td>\n    </tr>\n    <tr>\n      <th>199</th>\n      <td>202108</td>\n      <td>강원도</td>\n      <td>강릉시</td>\n      <td>합계</td>\n      <td>141,657</td>\n      <td>174,103,741</td>\n    </tr>\n    <tr>\n      <th>343</th>\n      <td>202109</td>\n      <td>강원도</td>\n      <td>강릉시</td>\n      <td>합계</td>\n      <td>141,938</td>\n      <td>156,920,273</td>\n    </tr>\n    <tr>\n      <th>487</th>\n      <td>202110</td>\n      <td>강원도</td>\n      <td>강릉시</td>\n      <td>합계</td>\n      <td>142,234</td>\n      <td>150,856,439</td>\n    </tr>\n    <tr>\n      <th>631</th>\n      <td>202111</td>\n      <td>강원도</td>\n      <td>강릉시</td>\n      <td>합계</td>\n      <td>142,765</td>\n      <td>163,972,525</td>\n    </tr>\n    <tr>\n      <th>...</th>\n      <td>...</td>\n      <td>...</td>\n      <td>...</td>\n      <td>...</td>\n      <td>...</td>\n      <td>...</td>\n    </tr>\n    <tr>\n      <th>335</th>\n      <td>202108</td>\n      <td>강원도</td>\n      <td>횡성군</td>\n      <td>합계</td>\n      <td>60,629</td>\n      <td>54,880,741</td>\n    </tr>\n    <tr>\n      <th>479</th>\n      <td>202109</td>\n      <td>강원도</td>\n      <td>횡성군</td>\n      <td>합계</td>\n      <td>60,948</td>\n      <td>49,708,607</td>\n    </tr>\n    <tr>\n      <th>623</th>\n      <td>202110</td>\n      <td>강원도</td>\n      <td>횡성군</td>\n      <td>합계</td>\n      <td>61,128</td>\n      <td>48,390,346</td>\n    </tr>\n    <tr>\n      <th>767</th>\n      <td>202111</td>\n      <td>강원도</td>\n      <td>횡성군</td>\n      <td>합계</td>\n      <td>63,262</td>\n      <td>56,970,800</td>\n    </tr>\n    <tr>\n      <th>911</th>\n      <td>202112</td>\n      <td>강원도</td>\n      <td>횡성군</td>\n      <td>합계</td>\n      <td>61,442</td>\n      <td>64,786,777</td>\n    </tr>\n  </tbody>\n</table>\n<p>108 rows × 6 columns</p>\n</div>"
     },
     "execution_count": 76,
     "metadata": {},
     "output_type": "execute_result"
    }
   ],
   "source": [
    "df_4 = df.loc[48:]\n",
    "df_4 = df_4.loc[(df_4['계약구분'] == '합계')]\n",
    "df_4 = df_4.sort_values(by=['시군구' , '년월'])\n",
    "df_4.drop(['전기요금(원)',   '평균판매단가(원/kWh)'] , axis = 1 , inplace = True)\n",
    "df_4"
   ],
   "metadata": {
    "collapsed": false,
    "pycharm": {
     "name": "#%%\n"
    }
   }
  },
  {
   "cell_type": "code",
   "execution_count": 77,
   "outputs": [
    {
     "name": "stdout",
     "output_type": "stream",
     "text": [
      "[160642099, 174103741, 156920273, 150856439, 163972525, 180931567]\n",
      "[25558327, 29396742, 26500979, 24808793, 27835559, 30456067]\n",
      "[193555193, 203525795, 190733421, 195391420, 188526109, 219056683]\n",
      "[120092165, 122179920, 121426884, 122572154, 125622321, 133541497]\n",
      "[44230566, 51571026, 43162502, 40149334, 42895892, 47436812]\n",
      "[14369320, 16606431, 15214883, 14389335, 19091188, 20270379]\n",
      "[23016724, 28969828, 25783665, 23784870, 26749516, 28864460]\n",
      "[92725726, 97368975, 87864830, 98166196, 102526173, 106390254]\n",
      "[201855058, 227527095, 201242490, 186483248, 208359290, 235251030]\n",
      "[24275625, 27004449, 24553618, 24144961, 29567415, 33804590]\n",
      "[45717091, 47912403, 45342820, 46869390, 53824867, 63102867]\n",
      "[36529499, 41603264, 36567950, 33631083, 46673395, 47417063]\n",
      "[148820371, 173891599, 147055449, 132641585, 146732220, 166853430]\n",
      "[22329316, 23449831, 22846533, 22527563, 25917783, 30129018]\n",
      "[43383775, 45408125, 43653613, 45677496, 56600369, 68587846]\n",
      "[55139328, 61478144, 54655032, 52151572, 62214442, 71365626]\n",
      "[18835043, 22256716, 19319485, 18244759, 22097902, 25309040]\n",
      "[49746277, 54880741, 49708607, 48390346, 56970800, 64786777]\n",
      "강원도 지역별 합계 :  [987426644, 164556467, 1190788621, 745434941, 269446132, 99941536, 157169063, 585042154, 1260718211, 163350658, 302769438, 242422254, 915994654, 147200044, 303311224, 357004144, 126062945, 324483548]\n",
      "강원도 고객호수 평균:  [23682, 5256, 8436, 9811, 7036, 4276, 5561, 7307, 28690, 6388, 7044, 7618, 25422, 4737, 9609, 13533, 4733, 10218]\n"
     ]
    }
   ],
   "source": [
    "sum2 , sum3 =[] , []\n",
    "for k in SIGUNGU:\n",
    "    GyeonGiHap = pd.DataFrame([] , columns = a)\n",
    "    HOSU = pd.DataFrame([], columns = a)\n",
    "    GyeonGiHap['사용량']= df_4['사용량(kWh)'].loc[(df_4['시군구'] == '{}'.format(k))]\n",
    "    HOSU['고객호수']= df_4['고객호수(호)'].loc[(df_4['시군구'] == '{}'.format(k))]\n",
    "    #경기합 데이터프레임의 사용량 열에 기군구가 가평군인 사용량 데이터만 뽑아내기\n",
    "    # GyeonGiHap = GyeonGiHap['사용량']\n",
    "\n",
    "    b = GyeonGiHap['사용량'].tolist()\n",
    "    c = HOSU['고객호수'].tolist()\n",
    "\n",
    "\n",
    "    #각지역별 사용량 리스트화\n",
    "    int_list  , int_list2=[] , []\n",
    "    for i in b:\n",
    "        i = re.sub(\",\" , \"\" , i)\n",
    "        #콤마 없애기\n",
    "        int_list.append(int(i))\n",
    "        #int_list에 각지역별 사용량 int로 저장\n",
    "    print(int_list)\n",
    "    sum=0\n",
    "    for i in c:\n",
    "        i = re.sub(\",\" , \"\" , i)\n",
    "        int_list2.append(int(i))\n",
    "\n",
    "    for j in int_list:\n",
    "\n",
    "        sum+= j\n",
    "    sum2.append(sum)\n",
    "    sum = 0\n",
    "    for j in int_list2: #고객호수 추출하여 더하기\n",
    "\n",
    "        sum+= j\n",
    "    sum3.append(sum//36) #6개월 치로 나눠야하나?!\n",
    "\n",
    "\n",
    "\n",
    "\n",
    "print(\"{} 지역별 합계 : \".format(City) , sum2)\n",
    "print(\"{} 고객호수 평균: \".format(City) , sum3)"
   ],
   "metadata": {
    "collapsed": false,
    "pycharm": {
     "name": "#%%\n"
    }
   }
  },
  {
   "cell_type": "markdown",
   "source": [
    "### 2. 날짜 체크!!!!!!!!!!!!!!!!!!!!!!!!!!!!!!!!!!!!!!!!!!!!!!"
   ],
   "metadata": {
    "collapsed": false,
    "pycharm": {
     "name": "#%% md\n"
    }
   }
  },
  {
   "cell_type": "code",
   "execution_count": 78,
   "outputs": [
    {
     "name": "stderr",
     "output_type": "stream",
     "text": [
      "C:\\Users\\user\\AppData\\Local\\Temp\\ipykernel_18820\\895775541.py:4: FutureWarning: The frame.append method is deprecated and will be removed from pandas in a future version. Use pandas.concat instead.\n",
      "  Hap = Hap.append({'년월' :'202107-202112'  , '시구' : '{}'.format(City) , '시군구' : '{}'.format(SIGUNGU[i]) , '계약구분' : '합계' , '고객호수(호)' : sum3[i] ,  '사용량(kWh)' : sum2[i]} , ignore_index=True) #년월 파일마다 수정하기\n",
      "C:\\Users\\user\\AppData\\Local\\Temp\\ipykernel_18820\\895775541.py:4: FutureWarning: The frame.append method is deprecated and will be removed from pandas in a future version. Use pandas.concat instead.\n",
      "  Hap = Hap.append({'년월' :'202107-202112'  , '시구' : '{}'.format(City) , '시군구' : '{}'.format(SIGUNGU[i]) , '계약구분' : '합계' , '고객호수(호)' : sum3[i] ,  '사용량(kWh)' : sum2[i]} , ignore_index=True) #년월 파일마다 수정하기\n",
      "C:\\Users\\user\\AppData\\Local\\Temp\\ipykernel_18820\\895775541.py:4: FutureWarning: The frame.append method is deprecated and will be removed from pandas in a future version. Use pandas.concat instead.\n",
      "  Hap = Hap.append({'년월' :'202107-202112'  , '시구' : '{}'.format(City) , '시군구' : '{}'.format(SIGUNGU[i]) , '계약구분' : '합계' , '고객호수(호)' : sum3[i] ,  '사용량(kWh)' : sum2[i]} , ignore_index=True) #년월 파일마다 수정하기\n",
      "C:\\Users\\user\\AppData\\Local\\Temp\\ipykernel_18820\\895775541.py:4: FutureWarning: The frame.append method is deprecated and will be removed from pandas in a future version. Use pandas.concat instead.\n",
      "  Hap = Hap.append({'년월' :'202107-202112'  , '시구' : '{}'.format(City) , '시군구' : '{}'.format(SIGUNGU[i]) , '계약구분' : '합계' , '고객호수(호)' : sum3[i] ,  '사용량(kWh)' : sum2[i]} , ignore_index=True) #년월 파일마다 수정하기\n",
      "C:\\Users\\user\\AppData\\Local\\Temp\\ipykernel_18820\\895775541.py:4: FutureWarning: The frame.append method is deprecated and will be removed from pandas in a future version. Use pandas.concat instead.\n",
      "  Hap = Hap.append({'년월' :'202107-202112'  , '시구' : '{}'.format(City) , '시군구' : '{}'.format(SIGUNGU[i]) , '계약구분' : '합계' , '고객호수(호)' : sum3[i] ,  '사용량(kWh)' : sum2[i]} , ignore_index=True) #년월 파일마다 수정하기\n",
      "C:\\Users\\user\\AppData\\Local\\Temp\\ipykernel_18820\\895775541.py:4: FutureWarning: The frame.append method is deprecated and will be removed from pandas in a future version. Use pandas.concat instead.\n",
      "  Hap = Hap.append({'년월' :'202107-202112'  , '시구' : '{}'.format(City) , '시군구' : '{}'.format(SIGUNGU[i]) , '계약구분' : '합계' , '고객호수(호)' : sum3[i] ,  '사용량(kWh)' : sum2[i]} , ignore_index=True) #년월 파일마다 수정하기\n",
      "C:\\Users\\user\\AppData\\Local\\Temp\\ipykernel_18820\\895775541.py:4: FutureWarning: The frame.append method is deprecated and will be removed from pandas in a future version. Use pandas.concat instead.\n",
      "  Hap = Hap.append({'년월' :'202107-202112'  , '시구' : '{}'.format(City) , '시군구' : '{}'.format(SIGUNGU[i]) , '계약구분' : '합계' , '고객호수(호)' : sum3[i] ,  '사용량(kWh)' : sum2[i]} , ignore_index=True) #년월 파일마다 수정하기\n",
      "C:\\Users\\user\\AppData\\Local\\Temp\\ipykernel_18820\\895775541.py:4: FutureWarning: The frame.append method is deprecated and will be removed from pandas in a future version. Use pandas.concat instead.\n",
      "  Hap = Hap.append({'년월' :'202107-202112'  , '시구' : '{}'.format(City) , '시군구' : '{}'.format(SIGUNGU[i]) , '계약구분' : '합계' , '고객호수(호)' : sum3[i] ,  '사용량(kWh)' : sum2[i]} , ignore_index=True) #년월 파일마다 수정하기\n",
      "C:\\Users\\user\\AppData\\Local\\Temp\\ipykernel_18820\\895775541.py:4: FutureWarning: The frame.append method is deprecated and will be removed from pandas in a future version. Use pandas.concat instead.\n",
      "  Hap = Hap.append({'년월' :'202107-202112'  , '시구' : '{}'.format(City) , '시군구' : '{}'.format(SIGUNGU[i]) , '계약구분' : '합계' , '고객호수(호)' : sum3[i] ,  '사용량(kWh)' : sum2[i]} , ignore_index=True) #년월 파일마다 수정하기\n",
      "C:\\Users\\user\\AppData\\Local\\Temp\\ipykernel_18820\\895775541.py:4: FutureWarning: The frame.append method is deprecated and will be removed from pandas in a future version. Use pandas.concat instead.\n",
      "  Hap = Hap.append({'년월' :'202107-202112'  , '시구' : '{}'.format(City) , '시군구' : '{}'.format(SIGUNGU[i]) , '계약구분' : '합계' , '고객호수(호)' : sum3[i] ,  '사용량(kWh)' : sum2[i]} , ignore_index=True) #년월 파일마다 수정하기\n",
      "C:\\Users\\user\\AppData\\Local\\Temp\\ipykernel_18820\\895775541.py:4: FutureWarning: The frame.append method is deprecated and will be removed from pandas in a future version. Use pandas.concat instead.\n",
      "  Hap = Hap.append({'년월' :'202107-202112'  , '시구' : '{}'.format(City) , '시군구' : '{}'.format(SIGUNGU[i]) , '계약구분' : '합계' , '고객호수(호)' : sum3[i] ,  '사용량(kWh)' : sum2[i]} , ignore_index=True) #년월 파일마다 수정하기\n",
      "C:\\Users\\user\\AppData\\Local\\Temp\\ipykernel_18820\\895775541.py:4: FutureWarning: The frame.append method is deprecated and will be removed from pandas in a future version. Use pandas.concat instead.\n",
      "  Hap = Hap.append({'년월' :'202107-202112'  , '시구' : '{}'.format(City) , '시군구' : '{}'.format(SIGUNGU[i]) , '계약구분' : '합계' , '고객호수(호)' : sum3[i] ,  '사용량(kWh)' : sum2[i]} , ignore_index=True) #년월 파일마다 수정하기\n",
      "C:\\Users\\user\\AppData\\Local\\Temp\\ipykernel_18820\\895775541.py:4: FutureWarning: The frame.append method is deprecated and will be removed from pandas in a future version. Use pandas.concat instead.\n",
      "  Hap = Hap.append({'년월' :'202107-202112'  , '시구' : '{}'.format(City) , '시군구' : '{}'.format(SIGUNGU[i]) , '계약구분' : '합계' , '고객호수(호)' : sum3[i] ,  '사용량(kWh)' : sum2[i]} , ignore_index=True) #년월 파일마다 수정하기\n",
      "C:\\Users\\user\\AppData\\Local\\Temp\\ipykernel_18820\\895775541.py:4: FutureWarning: The frame.append method is deprecated and will be removed from pandas in a future version. Use pandas.concat instead.\n",
      "  Hap = Hap.append({'년월' :'202107-202112'  , '시구' : '{}'.format(City) , '시군구' : '{}'.format(SIGUNGU[i]) , '계약구분' : '합계' , '고객호수(호)' : sum3[i] ,  '사용량(kWh)' : sum2[i]} , ignore_index=True) #년월 파일마다 수정하기\n",
      "C:\\Users\\user\\AppData\\Local\\Temp\\ipykernel_18820\\895775541.py:4: FutureWarning: The frame.append method is deprecated and will be removed from pandas in a future version. Use pandas.concat instead.\n",
      "  Hap = Hap.append({'년월' :'202107-202112'  , '시구' : '{}'.format(City) , '시군구' : '{}'.format(SIGUNGU[i]) , '계약구분' : '합계' , '고객호수(호)' : sum3[i] ,  '사용량(kWh)' : sum2[i]} , ignore_index=True) #년월 파일마다 수정하기\n",
      "C:\\Users\\user\\AppData\\Local\\Temp\\ipykernel_18820\\895775541.py:4: FutureWarning: The frame.append method is deprecated and will be removed from pandas in a future version. Use pandas.concat instead.\n",
      "  Hap = Hap.append({'년월' :'202107-202112'  , '시구' : '{}'.format(City) , '시군구' : '{}'.format(SIGUNGU[i]) , '계약구분' : '합계' , '고객호수(호)' : sum3[i] ,  '사용량(kWh)' : sum2[i]} , ignore_index=True) #년월 파일마다 수정하기\n",
      "C:\\Users\\user\\AppData\\Local\\Temp\\ipykernel_18820\\895775541.py:4: FutureWarning: The frame.append method is deprecated and will be removed from pandas in a future version. Use pandas.concat instead.\n",
      "  Hap = Hap.append({'년월' :'202107-202112'  , '시구' : '{}'.format(City) , '시군구' : '{}'.format(SIGUNGU[i]) , '계약구분' : '합계' , '고객호수(호)' : sum3[i] ,  '사용량(kWh)' : sum2[i]} , ignore_index=True) #년월 파일마다 수정하기\n",
      "C:\\Users\\user\\AppData\\Local\\Temp\\ipykernel_18820\\895775541.py:4: FutureWarning: The frame.append method is deprecated and will be removed from pandas in a future version. Use pandas.concat instead.\n",
      "  Hap = Hap.append({'년월' :'202107-202112'  , '시구' : '{}'.format(City) , '시군구' : '{}'.format(SIGUNGU[i]) , '계약구분' : '합계' , '고객호수(호)' : sum3[i] ,  '사용량(kWh)' : sum2[i]} , ignore_index=True) #년월 파일마다 수정하기\n"
     ]
    },
    {
     "data": {
      "text/plain": "                년월   시구  시군구 계약구분   고객호수(호)      사용량(kWh)\n0           202107  강원도  강릉시   합계  141,373   160,642,099 \n1           202108  강원도  강릉시   합계  141,657   174,103,741 \n2           202109  강원도  강릉시   합계  141,938   156,920,273 \n3           202110  강원도  강릉시   합계  142,234   150,856,439 \n4           202111  강원도  강릉시   합계  142,765   163,972,525 \n..             ...  ...  ...  ...       ...           ...\n121  202107-202112  강원도  태백시   합계      4737     147200044\n122  202107-202112  강원도  평창군   합계      9609     303311224\n123  202107-202112  강원도  홍천군   합계     13533     357004144\n124  202107-202112  강원도  화천군   합계      4733     126062945\n125  202107-202112  강원도  횡성군   합계     10218     324483548\n\n[126 rows x 6 columns]",
      "text/html": "<div>\n<style scoped>\n    .dataframe tbody tr th:only-of-type {\n        vertical-align: middle;\n    }\n\n    .dataframe tbody tr th {\n        vertical-align: top;\n    }\n\n    .dataframe thead th {\n        text-align: right;\n    }\n</style>\n<table border=\"1\" class=\"dataframe\">\n  <thead>\n    <tr style=\"text-align: right;\">\n      <th></th>\n      <th>년월</th>\n      <th>시구</th>\n      <th>시군구</th>\n      <th>계약구분</th>\n      <th>고객호수(호)</th>\n      <th>사용량(kWh)</th>\n    </tr>\n  </thead>\n  <tbody>\n    <tr>\n      <th>0</th>\n      <td>202107</td>\n      <td>강원도</td>\n      <td>강릉시</td>\n      <td>합계</td>\n      <td>141,373</td>\n      <td>160,642,099</td>\n    </tr>\n    <tr>\n      <th>1</th>\n      <td>202108</td>\n      <td>강원도</td>\n      <td>강릉시</td>\n      <td>합계</td>\n      <td>141,657</td>\n      <td>174,103,741</td>\n    </tr>\n    <tr>\n      <th>2</th>\n      <td>202109</td>\n      <td>강원도</td>\n      <td>강릉시</td>\n      <td>합계</td>\n      <td>141,938</td>\n      <td>156,920,273</td>\n    </tr>\n    <tr>\n      <th>3</th>\n      <td>202110</td>\n      <td>강원도</td>\n      <td>강릉시</td>\n      <td>합계</td>\n      <td>142,234</td>\n      <td>150,856,439</td>\n    </tr>\n    <tr>\n      <th>4</th>\n      <td>202111</td>\n      <td>강원도</td>\n      <td>강릉시</td>\n      <td>합계</td>\n      <td>142,765</td>\n      <td>163,972,525</td>\n    </tr>\n    <tr>\n      <th>...</th>\n      <td>...</td>\n      <td>...</td>\n      <td>...</td>\n      <td>...</td>\n      <td>...</td>\n      <td>...</td>\n    </tr>\n    <tr>\n      <th>121</th>\n      <td>202107-202112</td>\n      <td>강원도</td>\n      <td>태백시</td>\n      <td>합계</td>\n      <td>4737</td>\n      <td>147200044</td>\n    </tr>\n    <tr>\n      <th>122</th>\n      <td>202107-202112</td>\n      <td>강원도</td>\n      <td>평창군</td>\n      <td>합계</td>\n      <td>9609</td>\n      <td>303311224</td>\n    </tr>\n    <tr>\n      <th>123</th>\n      <td>202107-202112</td>\n      <td>강원도</td>\n      <td>홍천군</td>\n      <td>합계</td>\n      <td>13533</td>\n      <td>357004144</td>\n    </tr>\n    <tr>\n      <th>124</th>\n      <td>202107-202112</td>\n      <td>강원도</td>\n      <td>화천군</td>\n      <td>합계</td>\n      <td>4733</td>\n      <td>126062945</td>\n    </tr>\n    <tr>\n      <th>125</th>\n      <td>202107-202112</td>\n      <td>강원도</td>\n      <td>횡성군</td>\n      <td>합계</td>\n      <td>10218</td>\n      <td>324483548</td>\n    </tr>\n  </tbody>\n</table>\n<p>126 rows × 6 columns</p>\n</div>"
     },
     "execution_count": 78,
     "metadata": {},
     "output_type": "execute_result"
    }
   ],
   "source": [
    "Hap = df_4.copy()\n",
    "Hap.reset_index(drop=True , inplace = True)\n",
    "for i in range(len(SIGUNGU)):\n",
    "    Hap = Hap.append({'년월' :'202107-202112'  , '시구' : '{}'.format(City) , '시군구' : '{}'.format(SIGUNGU[i]) , '계약구분' : '합계' , '고객호수(호)' : sum3[i] ,  '사용량(kWh)' : sum2[i]} , ignore_index=True) #년월 파일마다 수정하기\n",
    "Hap"
   ],
   "metadata": {
    "collapsed": false,
    "pycharm": {
     "name": "#%%\n"
    }
   }
  },
  {
   "cell_type": "markdown",
   "source": [
    "### 3. 날짜 변경!!!!!!!!!!!!!!!!!!!!!!!!!!!!!!!"
   ],
   "metadata": {
    "collapsed": false,
    "pycharm": {
     "name": "#%% md\n"
    }
   }
  },
  {
   "cell_type": "code",
   "execution_count": 79,
   "outputs": [
    {
     "data": {
      "text/plain": "                년월   시구  시군구 계약구분 고객호수(호)    사용량(kWh)\n108  202107-202112  강원도  강릉시   합계   23682   987426644\n109  202107-202112  강원도  고성군   합계    5256   164556467\n110  202107-202112  강원도  동해시   합계    8436  1190788621\n111  202107-202112  강원도  삼척시   합계    9811   745434941\n112  202107-202112  강원도  속초시   합계    7036   269446132\n113  202107-202112  강원도  양구군   합계    4276    99941536\n114  202107-202112  강원도  양양군   합계    5561   157169063\n115  202107-202112  강원도  영월군   합계    7307   585042154\n116  202107-202112  강원도  원주시   합계   28690  1260718211\n117  202107-202112  강원도  인제군   합계    6388   163350658\n118  202107-202112  강원도  정선군   합계    7044   302769438\n119  202107-202112  강원도  철원군   합계    7618   242422254\n120  202107-202112  강원도  춘천시   합계   25422   915994654\n121  202107-202112  강원도  태백시   합계    4737   147200044\n122  202107-202112  강원도  평창군   합계    9609   303311224\n123  202107-202112  강원도  홍천군   합계   13533   357004144\n124  202107-202112  강원도  화천군   합계    4733   126062945\n125  202107-202112  강원도  횡성군   합계   10218   324483548",
      "text/html": "<div>\n<style scoped>\n    .dataframe tbody tr th:only-of-type {\n        vertical-align: middle;\n    }\n\n    .dataframe tbody tr th {\n        vertical-align: top;\n    }\n\n    .dataframe thead th {\n        text-align: right;\n    }\n</style>\n<table border=\"1\" class=\"dataframe\">\n  <thead>\n    <tr style=\"text-align: right;\">\n      <th></th>\n      <th>년월</th>\n      <th>시구</th>\n      <th>시군구</th>\n      <th>계약구분</th>\n      <th>고객호수(호)</th>\n      <th>사용량(kWh)</th>\n    </tr>\n  </thead>\n  <tbody>\n    <tr>\n      <th>108</th>\n      <td>202107-202112</td>\n      <td>강원도</td>\n      <td>강릉시</td>\n      <td>합계</td>\n      <td>23682</td>\n      <td>987426644</td>\n    </tr>\n    <tr>\n      <th>109</th>\n      <td>202107-202112</td>\n      <td>강원도</td>\n      <td>고성군</td>\n      <td>합계</td>\n      <td>5256</td>\n      <td>164556467</td>\n    </tr>\n    <tr>\n      <th>110</th>\n      <td>202107-202112</td>\n      <td>강원도</td>\n      <td>동해시</td>\n      <td>합계</td>\n      <td>8436</td>\n      <td>1190788621</td>\n    </tr>\n    <tr>\n      <th>111</th>\n      <td>202107-202112</td>\n      <td>강원도</td>\n      <td>삼척시</td>\n      <td>합계</td>\n      <td>9811</td>\n      <td>745434941</td>\n    </tr>\n    <tr>\n      <th>112</th>\n      <td>202107-202112</td>\n      <td>강원도</td>\n      <td>속초시</td>\n      <td>합계</td>\n      <td>7036</td>\n      <td>269446132</td>\n    </tr>\n    <tr>\n      <th>113</th>\n      <td>202107-202112</td>\n      <td>강원도</td>\n      <td>양구군</td>\n      <td>합계</td>\n      <td>4276</td>\n      <td>99941536</td>\n    </tr>\n    <tr>\n      <th>114</th>\n      <td>202107-202112</td>\n      <td>강원도</td>\n      <td>양양군</td>\n      <td>합계</td>\n      <td>5561</td>\n      <td>157169063</td>\n    </tr>\n    <tr>\n      <th>115</th>\n      <td>202107-202112</td>\n      <td>강원도</td>\n      <td>영월군</td>\n      <td>합계</td>\n      <td>7307</td>\n      <td>585042154</td>\n    </tr>\n    <tr>\n      <th>116</th>\n      <td>202107-202112</td>\n      <td>강원도</td>\n      <td>원주시</td>\n      <td>합계</td>\n      <td>28690</td>\n      <td>1260718211</td>\n    </tr>\n    <tr>\n      <th>117</th>\n      <td>202107-202112</td>\n      <td>강원도</td>\n      <td>인제군</td>\n      <td>합계</td>\n      <td>6388</td>\n      <td>163350658</td>\n    </tr>\n    <tr>\n      <th>118</th>\n      <td>202107-202112</td>\n      <td>강원도</td>\n      <td>정선군</td>\n      <td>합계</td>\n      <td>7044</td>\n      <td>302769438</td>\n    </tr>\n    <tr>\n      <th>119</th>\n      <td>202107-202112</td>\n      <td>강원도</td>\n      <td>철원군</td>\n      <td>합계</td>\n      <td>7618</td>\n      <td>242422254</td>\n    </tr>\n    <tr>\n      <th>120</th>\n      <td>202107-202112</td>\n      <td>강원도</td>\n      <td>춘천시</td>\n      <td>합계</td>\n      <td>25422</td>\n      <td>915994654</td>\n    </tr>\n    <tr>\n      <th>121</th>\n      <td>202107-202112</td>\n      <td>강원도</td>\n      <td>태백시</td>\n      <td>합계</td>\n      <td>4737</td>\n      <td>147200044</td>\n    </tr>\n    <tr>\n      <th>122</th>\n      <td>202107-202112</td>\n      <td>강원도</td>\n      <td>평창군</td>\n      <td>합계</td>\n      <td>9609</td>\n      <td>303311224</td>\n    </tr>\n    <tr>\n      <th>123</th>\n      <td>202107-202112</td>\n      <td>강원도</td>\n      <td>홍천군</td>\n      <td>합계</td>\n      <td>13533</td>\n      <td>357004144</td>\n    </tr>\n    <tr>\n      <th>124</th>\n      <td>202107-202112</td>\n      <td>강원도</td>\n      <td>화천군</td>\n      <td>합계</td>\n      <td>4733</td>\n      <td>126062945</td>\n    </tr>\n    <tr>\n      <th>125</th>\n      <td>202107-202112</td>\n      <td>강원도</td>\n      <td>횡성군</td>\n      <td>합계</td>\n      <td>10218</td>\n      <td>324483548</td>\n    </tr>\n  </tbody>\n</table>\n</div>"
     },
     "execution_count": 79,
     "metadata": {},
     "output_type": "execute_result"
    }
   ],
   "source": [
    "Hap = Hap.loc[Hap['년월'] == '202107-202112']\n",
    "Hap"
   ],
   "metadata": {
    "collapsed": false,
    "pycharm": {
     "name": "#%%\n"
    }
   }
  },
  {
   "cell_type": "code",
   "execution_count": 80,
   "outputs": [],
   "source": [
    "# SIGUNGU = SIGUNGU[:1]\n",
    "# SIGUNGU\n",
    "#for i in SIGUNGU:\n",
    "#print('{}'.format(i))\n",
    "# df_3 = df_3.loc[(df_3['시군구'] == '가평군')]\n",
    "#\n",
    "# df_3"
   ],
   "metadata": {
    "collapsed": false,
    "pycharm": {
     "name": "#%%\n"
    }
   }
  },
  {
   "cell_type": "code",
   "execution_count": 81,
   "outputs": [
    {
     "data": {
      "text/plain": "['년월', '시구', '시군구', '계약구분', '고객호수(호)', '사용량(kWh)']"
     },
     "execution_count": 81,
     "metadata": {},
     "output_type": "execute_result"
    }
   ],
   "source": [
    "a = (df_3.columns).tolist()\n",
    "\n",
    "a"
   ],
   "metadata": {
    "collapsed": false,
    "pycharm": {
     "name": "#%%\n"
    }
   }
  },
  {
   "cell_type": "code",
   "execution_count": 82,
   "outputs": [
    {
     "data": {
      "text/plain": "         년월   시구  시군구 계약구분  고객호수(호)     사용량(kWh)\n53   202107  강원도  강릉시  일반용  21,509   51,643,213 \n197  202108  강원도  강릉시  일반용  21,597   59,344,788 \n341  202109  강원도  강릉시  일반용  21,656   50,427,755 \n485  202110  강원도  강릉시  일반용  21,808   44,920,646 \n629  202111  강원도  강릉시  일반용  21,957   46,813,115 \n..      ...  ...  ...  ...      ...          ...\n333  202108  강원도  횡성군  일반용   5,319   12,098,880 \n477  202109  강원도  횡성군  일반용   5,324    9,599,617 \n621  202110  강원도  횡성군  일반용   5,322    8,841,575 \n765  202111  강원도  횡성군  일반용   5,367   10,493,464 \n909  202112  강원도  횡성군  일반용   5,404   13,670,892 \n\n[108 rows x 6 columns]",
      "text/html": "<div>\n<style scoped>\n    .dataframe tbody tr th:only-of-type {\n        vertical-align: middle;\n    }\n\n    .dataframe tbody tr th {\n        vertical-align: top;\n    }\n\n    .dataframe thead th {\n        text-align: right;\n    }\n</style>\n<table border=\"1\" class=\"dataframe\">\n  <thead>\n    <tr style=\"text-align: right;\">\n      <th></th>\n      <th>년월</th>\n      <th>시구</th>\n      <th>시군구</th>\n      <th>계약구분</th>\n      <th>고객호수(호)</th>\n      <th>사용량(kWh)</th>\n    </tr>\n  </thead>\n  <tbody>\n    <tr>\n      <th>53</th>\n      <td>202107</td>\n      <td>강원도</td>\n      <td>강릉시</td>\n      <td>일반용</td>\n      <td>21,509</td>\n      <td>51,643,213</td>\n    </tr>\n    <tr>\n      <th>197</th>\n      <td>202108</td>\n      <td>강원도</td>\n      <td>강릉시</td>\n      <td>일반용</td>\n      <td>21,597</td>\n      <td>59,344,788</td>\n    </tr>\n    <tr>\n      <th>341</th>\n      <td>202109</td>\n      <td>강원도</td>\n      <td>강릉시</td>\n      <td>일반용</td>\n      <td>21,656</td>\n      <td>50,427,755</td>\n    </tr>\n    <tr>\n      <th>485</th>\n      <td>202110</td>\n      <td>강원도</td>\n      <td>강릉시</td>\n      <td>일반용</td>\n      <td>21,808</td>\n      <td>44,920,646</td>\n    </tr>\n    <tr>\n      <th>629</th>\n      <td>202111</td>\n      <td>강원도</td>\n      <td>강릉시</td>\n      <td>일반용</td>\n      <td>21,957</td>\n      <td>46,813,115</td>\n    </tr>\n    <tr>\n      <th>...</th>\n      <td>...</td>\n      <td>...</td>\n      <td>...</td>\n      <td>...</td>\n      <td>...</td>\n      <td>...</td>\n    </tr>\n    <tr>\n      <th>333</th>\n      <td>202108</td>\n      <td>강원도</td>\n      <td>횡성군</td>\n      <td>일반용</td>\n      <td>5,319</td>\n      <td>12,098,880</td>\n    </tr>\n    <tr>\n      <th>477</th>\n      <td>202109</td>\n      <td>강원도</td>\n      <td>횡성군</td>\n      <td>일반용</td>\n      <td>5,324</td>\n      <td>9,599,617</td>\n    </tr>\n    <tr>\n      <th>621</th>\n      <td>202110</td>\n      <td>강원도</td>\n      <td>횡성군</td>\n      <td>일반용</td>\n      <td>5,322</td>\n      <td>8,841,575</td>\n    </tr>\n    <tr>\n      <th>765</th>\n      <td>202111</td>\n      <td>강원도</td>\n      <td>횡성군</td>\n      <td>일반용</td>\n      <td>5,367</td>\n      <td>10,493,464</td>\n    </tr>\n    <tr>\n      <th>909</th>\n      <td>202112</td>\n      <td>강원도</td>\n      <td>횡성군</td>\n      <td>일반용</td>\n      <td>5,404</td>\n      <td>13,670,892</td>\n    </tr>\n  </tbody>\n</table>\n<p>108 rows × 6 columns</p>\n</div>"
     },
     "execution_count": 82,
     "metadata": {},
     "output_type": "execute_result"
    }
   ],
   "source": [
    "df_3"
   ],
   "metadata": {
    "collapsed": false,
    "pycharm": {
     "name": "#%%\n"
    }
   }
  },
  {
   "cell_type": "code",
   "execution_count": 83,
   "outputs": [],
   "source": [
    "# GyeonGiHap = pd.DataFrame([] , columns = a)\n",
    "# GyeonGiHap['사용량']= df_3['사용량(kWh)'].loc[(df_3['시군구'] == '{가평군}')]\n",
    "# GyeonGiHap"
   ],
   "metadata": {
    "collapsed": false,
    "pycharm": {
     "name": "#%%\n"
    }
   }
  },
  {
   "cell_type": "code",
   "execution_count": 84,
   "outputs": [
    {
     "name": "stdout",
     "output_type": "stream",
     "text": [
      "[51643213, 59344788, 50427755, 44920646, 46813115, 52193015]\n",
      "[12894715, 15268010, 12680343, 11746820, 12433783, 14029685]\n",
      "[17804902, 21321823, 18068678, 16344272, 17050588, 19054489]\n",
      "[14133054, 16472543, 13813755, 12669045, 13167055, 14701273]\n",
      "[24609171, 28877790, 23434306, 21363171, 21867405, 24363332]\n",
      "[6554436, 7440125, 6283398, 5695971, 6817121, 8076336]\n",
      "[11050900, 15643576, 12309350, 11188554, 11933638, 13312785]\n",
      "[6932386, 8674862, 7337208, 6569921, 7296123, 8242405]\n",
      "[70412633, 80273813, 67045792, 59999172, 63893658, 75289032]\n",
      "[12155458, 13743562, 11390953, 10668281, 12876480, 15212018]\n",
      "[16012311, 16324810, 13473355, 13555141, 16615040, 22470190]\n",
      "[13807590, 14990747, 12595618, 11531114, 13120675, 16060249]\n",
      "[72178484, 82314960, 69289752, 62171725, 64713919, 73747114]\n",
      "[7325606, 8174855, 7386810, 6887425, 7990053, 10075407]\n",
      "[18253706, 19787732, 16398101, 17091752, 21692140, 29638500]\n",
      "[22705468, 25229930, 19974620, 18363868, 20725594, 25964573]\n",
      "[10029524, 11846068, 9587728, 8511170, 10010561, 11816629]\n",
      "[10460564, 12098880, 9599617, 8841575, 10493464, 13670892]\n",
      "강원도 지역별 일반용 합계 :  [305342532, 79053356, 109644752, 84956725, 144515175, 40867387, 75438803, 45052905, 416914100, 76046752, 98450847, 82105993, 424415954, 47840156, 122861931, 132964053, 61801680, 65164992]\n",
      "강원도 고객호수 평균:  [21756, 4524, 7746, 7194, 8776, 2810, 4607, 4276, 27347, 4896, 5078, 5018, 22323, 4458, 6851, 8518, 3310, 5344]\n"
     ]
    }
   ],
   "source": [
    "sum2 , sum3 =[] , []\n",
    "for k in SIGUNGU:\n",
    "    GyeonGiHap = pd.DataFrame([] , columns = a)\n",
    "    HOSU = pd.DataFrame([], columns = a)\n",
    "    GyeonGiHap['사용량']= df_3['사용량(kWh)'].loc[(df_3['시군구'] == '{}'.format(k))]\n",
    "    HOSU['고객호수']= df_3['고객호수(호)'].loc[(df_3['시군구'] == '{}'.format(k))]\n",
    "    #경기합 데이터프레임의 사용량 열에 기군구가 가평군인 사용량 데이터만 뽑아내기\n",
    "    # GyeonGiHap = GyeonGiHap['사용량']\n",
    "\n",
    "    b = GyeonGiHap['사용량'].tolist()\n",
    "    c = HOSU['고객호수'].tolist()\n",
    "\n",
    "\n",
    "    #각지역별 사용량 리스트화\n",
    "    int_list  , int_list2=[] , []\n",
    "    for i in b:\n",
    "        i = re.sub(\",\" , \"\" , i)\n",
    "        #콤마 없애기\n",
    "        int_list.append(int(i))\n",
    "        #int_list에 각지역별 사용량 int로 저장\n",
    "    print(int_list)\n",
    "    sum=0\n",
    "    for i in c:\n",
    "        i = re.sub(\",\" , \"\" , i)\n",
    "        int_list2.append(int(i))\n",
    "\n",
    "    for j in int_list:\n",
    "\n",
    "        sum+= j\n",
    "    sum2.append(sum)\n",
    "    sum = 0\n",
    "    for j in int_list2: #고객호수 추출하여 더하기\n",
    "\n",
    "        sum+= j\n",
    "    sum3.append(sum//6) #6개월 치로 나눠야하나?!\n",
    "\n",
    "\n",
    "\n",
    "\n",
    "print(\"{} 지역별 일반용 합계 : \".format(City) , sum2)\n",
    "print(\"{} 고객호수 평균: \".format(City) , sum3)\n",
    "# GyeonGiHap['합계'] = sum\n",
    "#\n",
    "# GyeonGiHap"
   ],
   "metadata": {
    "collapsed": false,
    "pycharm": {
     "name": "#%%\n"
    }
   }
  },
  {
   "cell_type": "code",
   "execution_count": 85,
   "outputs": [],
   "source": [
    "# df_3 = df_3.loc[(df_3['시군구'] == '가평군')]\n",
    "#\n",
    "# df_3"
   ],
   "metadata": {
    "collapsed": false,
    "pycharm": {
     "name": "#%%\n"
    }
   }
  },
  {
   "cell_type": "code",
   "execution_count": 86,
   "outputs": [],
   "source": [
    "# GyeonGiHap = df_3.copy()\n",
    "# GyeonGiHap.reset_index(drop=True , inplace = True)\n",
    "# GyeonGiHap.append({'년월' : '202107-202112'  , '시구' : '경기도' , '시군구' : '가평군' , '계약구분' : '일반용' , '사용량(kWh)' : sum}, ignore_index=True)"
   ],
   "metadata": {
    "collapsed": false,
    "pycharm": {
     "name": "#%%\n"
    }
   }
  },
  {
   "cell_type": "code",
   "execution_count": 87,
   "outputs": [],
   "source": [
    "# a=[]\n",
    "# for i in SIGUNGU:\n",
    "#     a.append(i)\n",
    "#\n",
    "# print(a)"
   ],
   "metadata": {
    "collapsed": false,
    "pycharm": {
     "name": "#%%\n"
    }
   }
  },
  {
   "cell_type": "markdown",
   "source": [
    "### 4. 년월 체크!!!!!!!!!!!!!!!!!!!!!!!!!!!!!!!!!!!!!!!!!!!!!!!!!!!!!!!!!!!!!!!!!"
   ],
   "metadata": {
    "collapsed": false,
    "pycharm": {
     "name": "#%% md\n"
    }
   }
  },
  {
   "cell_type": "code",
   "execution_count": 88,
   "outputs": [
    {
     "name": "stderr",
     "output_type": "stream",
     "text": [
      "C:\\Users\\user\\AppData\\Local\\Temp\\ipykernel_18820\\2943201010.py:4: FutureWarning: The frame.append method is deprecated and will be removed from pandas in a future version. Use pandas.concat instead.\n",
      "  GyeonGiHap2 = GyeonGiHap2.append({'년월' :'202107-202112'  , '시구' : '{}'.format(City) , '시군구' : '{}'.format(SIGUNGU[i]) , '계약구분' : '일반용' , '고객호수(호)' : sum3[i] ,  '사용량(kWh)' : sum2[i]} , ignore_index=True) #년월 파일마다 수정하기\n",
      "C:\\Users\\user\\AppData\\Local\\Temp\\ipykernel_18820\\2943201010.py:4: FutureWarning: The frame.append method is deprecated and will be removed from pandas in a future version. Use pandas.concat instead.\n",
      "  GyeonGiHap2 = GyeonGiHap2.append({'년월' :'202107-202112'  , '시구' : '{}'.format(City) , '시군구' : '{}'.format(SIGUNGU[i]) , '계약구분' : '일반용' , '고객호수(호)' : sum3[i] ,  '사용량(kWh)' : sum2[i]} , ignore_index=True) #년월 파일마다 수정하기\n",
      "C:\\Users\\user\\AppData\\Local\\Temp\\ipykernel_18820\\2943201010.py:4: FutureWarning: The frame.append method is deprecated and will be removed from pandas in a future version. Use pandas.concat instead.\n",
      "  GyeonGiHap2 = GyeonGiHap2.append({'년월' :'202107-202112'  , '시구' : '{}'.format(City) , '시군구' : '{}'.format(SIGUNGU[i]) , '계약구분' : '일반용' , '고객호수(호)' : sum3[i] ,  '사용량(kWh)' : sum2[i]} , ignore_index=True) #년월 파일마다 수정하기\n",
      "C:\\Users\\user\\AppData\\Local\\Temp\\ipykernel_18820\\2943201010.py:4: FutureWarning: The frame.append method is deprecated and will be removed from pandas in a future version. Use pandas.concat instead.\n",
      "  GyeonGiHap2 = GyeonGiHap2.append({'년월' :'202107-202112'  , '시구' : '{}'.format(City) , '시군구' : '{}'.format(SIGUNGU[i]) , '계약구분' : '일반용' , '고객호수(호)' : sum3[i] ,  '사용량(kWh)' : sum2[i]} , ignore_index=True) #년월 파일마다 수정하기\n",
      "C:\\Users\\user\\AppData\\Local\\Temp\\ipykernel_18820\\2943201010.py:4: FutureWarning: The frame.append method is deprecated and will be removed from pandas in a future version. Use pandas.concat instead.\n",
      "  GyeonGiHap2 = GyeonGiHap2.append({'년월' :'202107-202112'  , '시구' : '{}'.format(City) , '시군구' : '{}'.format(SIGUNGU[i]) , '계약구분' : '일반용' , '고객호수(호)' : sum3[i] ,  '사용량(kWh)' : sum2[i]} , ignore_index=True) #년월 파일마다 수정하기\n",
      "C:\\Users\\user\\AppData\\Local\\Temp\\ipykernel_18820\\2943201010.py:4: FutureWarning: The frame.append method is deprecated and will be removed from pandas in a future version. Use pandas.concat instead.\n",
      "  GyeonGiHap2 = GyeonGiHap2.append({'년월' :'202107-202112'  , '시구' : '{}'.format(City) , '시군구' : '{}'.format(SIGUNGU[i]) , '계약구분' : '일반용' , '고객호수(호)' : sum3[i] ,  '사용량(kWh)' : sum2[i]} , ignore_index=True) #년월 파일마다 수정하기\n",
      "C:\\Users\\user\\AppData\\Local\\Temp\\ipykernel_18820\\2943201010.py:4: FutureWarning: The frame.append method is deprecated and will be removed from pandas in a future version. Use pandas.concat instead.\n",
      "  GyeonGiHap2 = GyeonGiHap2.append({'년월' :'202107-202112'  , '시구' : '{}'.format(City) , '시군구' : '{}'.format(SIGUNGU[i]) , '계약구분' : '일반용' , '고객호수(호)' : sum3[i] ,  '사용량(kWh)' : sum2[i]} , ignore_index=True) #년월 파일마다 수정하기\n",
      "C:\\Users\\user\\AppData\\Local\\Temp\\ipykernel_18820\\2943201010.py:4: FutureWarning: The frame.append method is deprecated and will be removed from pandas in a future version. Use pandas.concat instead.\n",
      "  GyeonGiHap2 = GyeonGiHap2.append({'년월' :'202107-202112'  , '시구' : '{}'.format(City) , '시군구' : '{}'.format(SIGUNGU[i]) , '계약구분' : '일반용' , '고객호수(호)' : sum3[i] ,  '사용량(kWh)' : sum2[i]} , ignore_index=True) #년월 파일마다 수정하기\n",
      "C:\\Users\\user\\AppData\\Local\\Temp\\ipykernel_18820\\2943201010.py:4: FutureWarning: The frame.append method is deprecated and will be removed from pandas in a future version. Use pandas.concat instead.\n",
      "  GyeonGiHap2 = GyeonGiHap2.append({'년월' :'202107-202112'  , '시구' : '{}'.format(City) , '시군구' : '{}'.format(SIGUNGU[i]) , '계약구분' : '일반용' , '고객호수(호)' : sum3[i] ,  '사용량(kWh)' : sum2[i]} , ignore_index=True) #년월 파일마다 수정하기\n",
      "C:\\Users\\user\\AppData\\Local\\Temp\\ipykernel_18820\\2943201010.py:4: FutureWarning: The frame.append method is deprecated and will be removed from pandas in a future version. Use pandas.concat instead.\n",
      "  GyeonGiHap2 = GyeonGiHap2.append({'년월' :'202107-202112'  , '시구' : '{}'.format(City) , '시군구' : '{}'.format(SIGUNGU[i]) , '계약구분' : '일반용' , '고객호수(호)' : sum3[i] ,  '사용량(kWh)' : sum2[i]} , ignore_index=True) #년월 파일마다 수정하기\n",
      "C:\\Users\\user\\AppData\\Local\\Temp\\ipykernel_18820\\2943201010.py:4: FutureWarning: The frame.append method is deprecated and will be removed from pandas in a future version. Use pandas.concat instead.\n",
      "  GyeonGiHap2 = GyeonGiHap2.append({'년월' :'202107-202112'  , '시구' : '{}'.format(City) , '시군구' : '{}'.format(SIGUNGU[i]) , '계약구분' : '일반용' , '고객호수(호)' : sum3[i] ,  '사용량(kWh)' : sum2[i]} , ignore_index=True) #년월 파일마다 수정하기\n",
      "C:\\Users\\user\\AppData\\Local\\Temp\\ipykernel_18820\\2943201010.py:4: FutureWarning: The frame.append method is deprecated and will be removed from pandas in a future version. Use pandas.concat instead.\n",
      "  GyeonGiHap2 = GyeonGiHap2.append({'년월' :'202107-202112'  , '시구' : '{}'.format(City) , '시군구' : '{}'.format(SIGUNGU[i]) , '계약구분' : '일반용' , '고객호수(호)' : sum3[i] ,  '사용량(kWh)' : sum2[i]} , ignore_index=True) #년월 파일마다 수정하기\n",
      "C:\\Users\\user\\AppData\\Local\\Temp\\ipykernel_18820\\2943201010.py:4: FutureWarning: The frame.append method is deprecated and will be removed from pandas in a future version. Use pandas.concat instead.\n",
      "  GyeonGiHap2 = GyeonGiHap2.append({'년월' :'202107-202112'  , '시구' : '{}'.format(City) , '시군구' : '{}'.format(SIGUNGU[i]) , '계약구분' : '일반용' , '고객호수(호)' : sum3[i] ,  '사용량(kWh)' : sum2[i]} , ignore_index=True) #년월 파일마다 수정하기\n",
      "C:\\Users\\user\\AppData\\Local\\Temp\\ipykernel_18820\\2943201010.py:4: FutureWarning: The frame.append method is deprecated and will be removed from pandas in a future version. Use pandas.concat instead.\n",
      "  GyeonGiHap2 = GyeonGiHap2.append({'년월' :'202107-202112'  , '시구' : '{}'.format(City) , '시군구' : '{}'.format(SIGUNGU[i]) , '계약구분' : '일반용' , '고객호수(호)' : sum3[i] ,  '사용량(kWh)' : sum2[i]} , ignore_index=True) #년월 파일마다 수정하기\n",
      "C:\\Users\\user\\AppData\\Local\\Temp\\ipykernel_18820\\2943201010.py:4: FutureWarning: The frame.append method is deprecated and will be removed from pandas in a future version. Use pandas.concat instead.\n",
      "  GyeonGiHap2 = GyeonGiHap2.append({'년월' :'202107-202112'  , '시구' : '{}'.format(City) , '시군구' : '{}'.format(SIGUNGU[i]) , '계약구분' : '일반용' , '고객호수(호)' : sum3[i] ,  '사용량(kWh)' : sum2[i]} , ignore_index=True) #년월 파일마다 수정하기\n",
      "C:\\Users\\user\\AppData\\Local\\Temp\\ipykernel_18820\\2943201010.py:4: FutureWarning: The frame.append method is deprecated and will be removed from pandas in a future version. Use pandas.concat instead.\n",
      "  GyeonGiHap2 = GyeonGiHap2.append({'년월' :'202107-202112'  , '시구' : '{}'.format(City) , '시군구' : '{}'.format(SIGUNGU[i]) , '계약구분' : '일반용' , '고객호수(호)' : sum3[i] ,  '사용량(kWh)' : sum2[i]} , ignore_index=True) #년월 파일마다 수정하기\n",
      "C:\\Users\\user\\AppData\\Local\\Temp\\ipykernel_18820\\2943201010.py:4: FutureWarning: The frame.append method is deprecated and will be removed from pandas in a future version. Use pandas.concat instead.\n",
      "  GyeonGiHap2 = GyeonGiHap2.append({'년월' :'202107-202112'  , '시구' : '{}'.format(City) , '시군구' : '{}'.format(SIGUNGU[i]) , '계약구분' : '일반용' , '고객호수(호)' : sum3[i] ,  '사용량(kWh)' : sum2[i]} , ignore_index=True) #년월 파일마다 수정하기\n",
      "C:\\Users\\user\\AppData\\Local\\Temp\\ipykernel_18820\\2943201010.py:4: FutureWarning: The frame.append method is deprecated and will be removed from pandas in a future version. Use pandas.concat instead.\n",
      "  GyeonGiHap2 = GyeonGiHap2.append({'년월' :'202107-202112'  , '시구' : '{}'.format(City) , '시군구' : '{}'.format(SIGUNGU[i]) , '계약구분' : '일반용' , '고객호수(호)' : sum3[i] ,  '사용량(kWh)' : sum2[i]} , ignore_index=True) #년월 파일마다 수정하기\n"
     ]
    },
    {
     "data": {
      "text/plain": "                년월   시구  시군구 계약구분  고객호수(호)     사용량(kWh)\n0           202107  강원도  강릉시  일반용  21,509   51,643,213 \n1           202108  강원도  강릉시  일반용  21,597   59,344,788 \n2           202109  강원도  강릉시  일반용  21,656   50,427,755 \n3           202110  강원도  강릉시  일반용  21,808   44,920,646 \n4           202111  강원도  강릉시  일반용  21,957   46,813,115 \n..             ...  ...  ...  ...      ...          ...\n121  202107-202112  강원도  태백시  일반용     4458     47840156\n122  202107-202112  강원도  평창군  일반용     6851    122861931\n123  202107-202112  강원도  홍천군  일반용     8518    132964053\n124  202107-202112  강원도  화천군  일반용     3310     61801680\n125  202107-202112  강원도  횡성군  일반용     5344     65164992\n\n[126 rows x 6 columns]",
      "text/html": "<div>\n<style scoped>\n    .dataframe tbody tr th:only-of-type {\n        vertical-align: middle;\n    }\n\n    .dataframe tbody tr th {\n        vertical-align: top;\n    }\n\n    .dataframe thead th {\n        text-align: right;\n    }\n</style>\n<table border=\"1\" class=\"dataframe\">\n  <thead>\n    <tr style=\"text-align: right;\">\n      <th></th>\n      <th>년월</th>\n      <th>시구</th>\n      <th>시군구</th>\n      <th>계약구분</th>\n      <th>고객호수(호)</th>\n      <th>사용량(kWh)</th>\n    </tr>\n  </thead>\n  <tbody>\n    <tr>\n      <th>0</th>\n      <td>202107</td>\n      <td>강원도</td>\n      <td>강릉시</td>\n      <td>일반용</td>\n      <td>21,509</td>\n      <td>51,643,213</td>\n    </tr>\n    <tr>\n      <th>1</th>\n      <td>202108</td>\n      <td>강원도</td>\n      <td>강릉시</td>\n      <td>일반용</td>\n      <td>21,597</td>\n      <td>59,344,788</td>\n    </tr>\n    <tr>\n      <th>2</th>\n      <td>202109</td>\n      <td>강원도</td>\n      <td>강릉시</td>\n      <td>일반용</td>\n      <td>21,656</td>\n      <td>50,427,755</td>\n    </tr>\n    <tr>\n      <th>3</th>\n      <td>202110</td>\n      <td>강원도</td>\n      <td>강릉시</td>\n      <td>일반용</td>\n      <td>21,808</td>\n      <td>44,920,646</td>\n    </tr>\n    <tr>\n      <th>4</th>\n      <td>202111</td>\n      <td>강원도</td>\n      <td>강릉시</td>\n      <td>일반용</td>\n      <td>21,957</td>\n      <td>46,813,115</td>\n    </tr>\n    <tr>\n      <th>...</th>\n      <td>...</td>\n      <td>...</td>\n      <td>...</td>\n      <td>...</td>\n      <td>...</td>\n      <td>...</td>\n    </tr>\n    <tr>\n      <th>121</th>\n      <td>202107-202112</td>\n      <td>강원도</td>\n      <td>태백시</td>\n      <td>일반용</td>\n      <td>4458</td>\n      <td>47840156</td>\n    </tr>\n    <tr>\n      <th>122</th>\n      <td>202107-202112</td>\n      <td>강원도</td>\n      <td>평창군</td>\n      <td>일반용</td>\n      <td>6851</td>\n      <td>122861931</td>\n    </tr>\n    <tr>\n      <th>123</th>\n      <td>202107-202112</td>\n      <td>강원도</td>\n      <td>홍천군</td>\n      <td>일반용</td>\n      <td>8518</td>\n      <td>132964053</td>\n    </tr>\n    <tr>\n      <th>124</th>\n      <td>202107-202112</td>\n      <td>강원도</td>\n      <td>화천군</td>\n      <td>일반용</td>\n      <td>3310</td>\n      <td>61801680</td>\n    </tr>\n    <tr>\n      <th>125</th>\n      <td>202107-202112</td>\n      <td>강원도</td>\n      <td>횡성군</td>\n      <td>일반용</td>\n      <td>5344</td>\n      <td>65164992</td>\n    </tr>\n  </tbody>\n</table>\n<p>126 rows × 6 columns</p>\n</div>"
     },
     "execution_count": 88,
     "metadata": {},
     "output_type": "execute_result"
    }
   ],
   "source": [
    "GyeonGiHap2 = df_3.copy()\n",
    "GyeonGiHap2.reset_index(drop=True , inplace = True)\n",
    "for i in range(len(SIGUNGU)):\n",
    "    GyeonGiHap2 = GyeonGiHap2.append({'년월' :'202107-202112'  , '시구' : '{}'.format(City) , '시군구' : '{}'.format(SIGUNGU[i]) , '계약구분' : '일반용' , '고객호수(호)' : sum3[i] ,  '사용량(kWh)' : sum2[i]} , ignore_index=True) #년월 파일마다 수정하기\n",
    "GyeonGiHap2"
   ],
   "metadata": {
    "collapsed": false,
    "pycharm": {
     "name": "#%%\n"
    }
   }
  },
  {
   "cell_type": "markdown",
   "source": [
    "### 5. 날짜 체크!!!!!!!!!!!!!!!!!!!!!!!!!!!!!!!!!!!!!!!!!!!!!!!!!!!!"
   ],
   "metadata": {
    "collapsed": false,
    "pycharm": {
     "name": "#%% md\n"
    }
   }
  },
  {
   "cell_type": "code",
   "execution_count": 89,
   "outputs": [
    {
     "data": {
      "text/plain": "                년월   시구  시군구 계약구분 고객호수(호)   사용량(kWh)\n108  202107-202112  강원도  강릉시  일반용   21756  305342532\n109  202107-202112  강원도  고성군  일반용    4524   79053356\n110  202107-202112  강원도  동해시  일반용    7746  109644752\n111  202107-202112  강원도  삼척시  일반용    7194   84956725\n112  202107-202112  강원도  속초시  일반용    8776  144515175\n113  202107-202112  강원도  양구군  일반용    2810   40867387\n114  202107-202112  강원도  양양군  일반용    4607   75438803\n115  202107-202112  강원도  영월군  일반용    4276   45052905\n116  202107-202112  강원도  원주시  일반용   27347  416914100\n117  202107-202112  강원도  인제군  일반용    4896   76046752\n118  202107-202112  강원도  정선군  일반용    5078   98450847\n119  202107-202112  강원도  철원군  일반용    5018   82105993\n120  202107-202112  강원도  춘천시  일반용   22323  424415954\n121  202107-202112  강원도  태백시  일반용    4458   47840156\n122  202107-202112  강원도  평창군  일반용    6851  122861931\n123  202107-202112  강원도  홍천군  일반용    8518  132964053\n124  202107-202112  강원도  화천군  일반용    3310   61801680\n125  202107-202112  강원도  횡성군  일반용    5344   65164992",
      "text/html": "<div>\n<style scoped>\n    .dataframe tbody tr th:only-of-type {\n        vertical-align: middle;\n    }\n\n    .dataframe tbody tr th {\n        vertical-align: top;\n    }\n\n    .dataframe thead th {\n        text-align: right;\n    }\n</style>\n<table border=\"1\" class=\"dataframe\">\n  <thead>\n    <tr style=\"text-align: right;\">\n      <th></th>\n      <th>년월</th>\n      <th>시구</th>\n      <th>시군구</th>\n      <th>계약구분</th>\n      <th>고객호수(호)</th>\n      <th>사용량(kWh)</th>\n    </tr>\n  </thead>\n  <tbody>\n    <tr>\n      <th>108</th>\n      <td>202107-202112</td>\n      <td>강원도</td>\n      <td>강릉시</td>\n      <td>일반용</td>\n      <td>21756</td>\n      <td>305342532</td>\n    </tr>\n    <tr>\n      <th>109</th>\n      <td>202107-202112</td>\n      <td>강원도</td>\n      <td>고성군</td>\n      <td>일반용</td>\n      <td>4524</td>\n      <td>79053356</td>\n    </tr>\n    <tr>\n      <th>110</th>\n      <td>202107-202112</td>\n      <td>강원도</td>\n      <td>동해시</td>\n      <td>일반용</td>\n      <td>7746</td>\n      <td>109644752</td>\n    </tr>\n    <tr>\n      <th>111</th>\n      <td>202107-202112</td>\n      <td>강원도</td>\n      <td>삼척시</td>\n      <td>일반용</td>\n      <td>7194</td>\n      <td>84956725</td>\n    </tr>\n    <tr>\n      <th>112</th>\n      <td>202107-202112</td>\n      <td>강원도</td>\n      <td>속초시</td>\n      <td>일반용</td>\n      <td>8776</td>\n      <td>144515175</td>\n    </tr>\n    <tr>\n      <th>113</th>\n      <td>202107-202112</td>\n      <td>강원도</td>\n      <td>양구군</td>\n      <td>일반용</td>\n      <td>2810</td>\n      <td>40867387</td>\n    </tr>\n    <tr>\n      <th>114</th>\n      <td>202107-202112</td>\n      <td>강원도</td>\n      <td>양양군</td>\n      <td>일반용</td>\n      <td>4607</td>\n      <td>75438803</td>\n    </tr>\n    <tr>\n      <th>115</th>\n      <td>202107-202112</td>\n      <td>강원도</td>\n      <td>영월군</td>\n      <td>일반용</td>\n      <td>4276</td>\n      <td>45052905</td>\n    </tr>\n    <tr>\n      <th>116</th>\n      <td>202107-202112</td>\n      <td>강원도</td>\n      <td>원주시</td>\n      <td>일반용</td>\n      <td>27347</td>\n      <td>416914100</td>\n    </tr>\n    <tr>\n      <th>117</th>\n      <td>202107-202112</td>\n      <td>강원도</td>\n      <td>인제군</td>\n      <td>일반용</td>\n      <td>4896</td>\n      <td>76046752</td>\n    </tr>\n    <tr>\n      <th>118</th>\n      <td>202107-202112</td>\n      <td>강원도</td>\n      <td>정선군</td>\n      <td>일반용</td>\n      <td>5078</td>\n      <td>98450847</td>\n    </tr>\n    <tr>\n      <th>119</th>\n      <td>202107-202112</td>\n      <td>강원도</td>\n      <td>철원군</td>\n      <td>일반용</td>\n      <td>5018</td>\n      <td>82105993</td>\n    </tr>\n    <tr>\n      <th>120</th>\n      <td>202107-202112</td>\n      <td>강원도</td>\n      <td>춘천시</td>\n      <td>일반용</td>\n      <td>22323</td>\n      <td>424415954</td>\n    </tr>\n    <tr>\n      <th>121</th>\n      <td>202107-202112</td>\n      <td>강원도</td>\n      <td>태백시</td>\n      <td>일반용</td>\n      <td>4458</td>\n      <td>47840156</td>\n    </tr>\n    <tr>\n      <th>122</th>\n      <td>202107-202112</td>\n      <td>강원도</td>\n      <td>평창군</td>\n      <td>일반용</td>\n      <td>6851</td>\n      <td>122861931</td>\n    </tr>\n    <tr>\n      <th>123</th>\n      <td>202107-202112</td>\n      <td>강원도</td>\n      <td>홍천군</td>\n      <td>일반용</td>\n      <td>8518</td>\n      <td>132964053</td>\n    </tr>\n    <tr>\n      <th>124</th>\n      <td>202107-202112</td>\n      <td>강원도</td>\n      <td>화천군</td>\n      <td>일반용</td>\n      <td>3310</td>\n      <td>61801680</td>\n    </tr>\n    <tr>\n      <th>125</th>\n      <td>202107-202112</td>\n      <td>강원도</td>\n      <td>횡성군</td>\n      <td>일반용</td>\n      <td>5344</td>\n      <td>65164992</td>\n    </tr>\n  </tbody>\n</table>\n</div>"
     },
     "execution_count": 89,
     "metadata": {},
     "output_type": "execute_result"
    }
   ],
   "source": [
    "GyeonGiHap2 = GyeonGiHap2.loc[GyeonGiHap2['년월'] == '202107-202112']\n",
    "GyeonGiHap2"
   ],
   "metadata": {
    "collapsed": false,
    "pycharm": {
     "name": "#%%\n"
    }
   }
  },
  {
   "cell_type": "code",
   "execution_count": 90,
   "outputs": [
    {
     "data": {
      "text/plain": "                년월   시구  시군구 계약구분 고객호수(호)    사용량(kWh)\n108  202107-202112  강원도  강릉시  일반용   21756   305342532\n108  202107-202112  강원도  강릉시   합계   23682   987426644\n109  202107-202112  강원도  고성군  일반용    4524    79053356\n109  202107-202112  강원도  고성군   합계    5256   164556467\n110  202107-202112  강원도  동해시  일반용    7746   109644752\n110  202107-202112  강원도  동해시   합계    8436  1190788621\n111  202107-202112  강원도  삼척시   합계    9811   745434941\n111  202107-202112  강원도  삼척시  일반용    7194    84956725\n112  202107-202112  강원도  속초시   합계    7036   269446132\n112  202107-202112  강원도  속초시  일반용    8776   144515175\n113  202107-202112  강원도  양구군  일반용    2810    40867387\n113  202107-202112  강원도  양구군   합계    4276    99941536\n114  202107-202112  강원도  양양군   합계    5561   157169063\n114  202107-202112  강원도  양양군  일반용    4607    75438803\n115  202107-202112  강원도  영월군  일반용    4276    45052905\n115  202107-202112  강원도  영월군   합계    7307   585042154\n116  202107-202112  강원도  원주시  일반용   27347   416914100\n116  202107-202112  강원도  원주시   합계   28690  1260718211\n117  202107-202112  강원도  인제군  일반용    4896    76046752\n117  202107-202112  강원도  인제군   합계    6388   163350658\n118  202107-202112  강원도  정선군   합계    7044   302769438\n118  202107-202112  강원도  정선군  일반용    5078    98450847\n119  202107-202112  강원도  철원군   합계    7618   242422254\n119  202107-202112  강원도  철원군  일반용    5018    82105993\n120  202107-202112  강원도  춘천시  일반용   22323   424415954\n120  202107-202112  강원도  춘천시   합계   25422   915994654\n121  202107-202112  강원도  태백시   합계    4737   147200044\n121  202107-202112  강원도  태백시  일반용    4458    47840156\n122  202107-202112  강원도  평창군   합계    9609   303311224\n122  202107-202112  강원도  평창군  일반용    6851   122861931\n123  202107-202112  강원도  홍천군   합계   13533   357004144\n123  202107-202112  강원도  홍천군  일반용    8518   132964053\n124  202107-202112  강원도  화천군   합계    4733   126062945\n124  202107-202112  강원도  화천군  일반용    3310    61801680\n125  202107-202112  강원도  횡성군  일반용    5344    65164992\n125  202107-202112  강원도  횡성군   합계   10218   324483548",
      "text/html": "<div>\n<style scoped>\n    .dataframe tbody tr th:only-of-type {\n        vertical-align: middle;\n    }\n\n    .dataframe tbody tr th {\n        vertical-align: top;\n    }\n\n    .dataframe thead th {\n        text-align: right;\n    }\n</style>\n<table border=\"1\" class=\"dataframe\">\n  <thead>\n    <tr style=\"text-align: right;\">\n      <th></th>\n      <th>년월</th>\n      <th>시구</th>\n      <th>시군구</th>\n      <th>계약구분</th>\n      <th>고객호수(호)</th>\n      <th>사용량(kWh)</th>\n    </tr>\n  </thead>\n  <tbody>\n    <tr>\n      <th>108</th>\n      <td>202107-202112</td>\n      <td>강원도</td>\n      <td>강릉시</td>\n      <td>일반용</td>\n      <td>21756</td>\n      <td>305342532</td>\n    </tr>\n    <tr>\n      <th>108</th>\n      <td>202107-202112</td>\n      <td>강원도</td>\n      <td>강릉시</td>\n      <td>합계</td>\n      <td>23682</td>\n      <td>987426644</td>\n    </tr>\n    <tr>\n      <th>109</th>\n      <td>202107-202112</td>\n      <td>강원도</td>\n      <td>고성군</td>\n      <td>일반용</td>\n      <td>4524</td>\n      <td>79053356</td>\n    </tr>\n    <tr>\n      <th>109</th>\n      <td>202107-202112</td>\n      <td>강원도</td>\n      <td>고성군</td>\n      <td>합계</td>\n      <td>5256</td>\n      <td>164556467</td>\n    </tr>\n    <tr>\n      <th>110</th>\n      <td>202107-202112</td>\n      <td>강원도</td>\n      <td>동해시</td>\n      <td>일반용</td>\n      <td>7746</td>\n      <td>109644752</td>\n    </tr>\n    <tr>\n      <th>110</th>\n      <td>202107-202112</td>\n      <td>강원도</td>\n      <td>동해시</td>\n      <td>합계</td>\n      <td>8436</td>\n      <td>1190788621</td>\n    </tr>\n    <tr>\n      <th>111</th>\n      <td>202107-202112</td>\n      <td>강원도</td>\n      <td>삼척시</td>\n      <td>합계</td>\n      <td>9811</td>\n      <td>745434941</td>\n    </tr>\n    <tr>\n      <th>111</th>\n      <td>202107-202112</td>\n      <td>강원도</td>\n      <td>삼척시</td>\n      <td>일반용</td>\n      <td>7194</td>\n      <td>84956725</td>\n    </tr>\n    <tr>\n      <th>112</th>\n      <td>202107-202112</td>\n      <td>강원도</td>\n      <td>속초시</td>\n      <td>합계</td>\n      <td>7036</td>\n      <td>269446132</td>\n    </tr>\n    <tr>\n      <th>112</th>\n      <td>202107-202112</td>\n      <td>강원도</td>\n      <td>속초시</td>\n      <td>일반용</td>\n      <td>8776</td>\n      <td>144515175</td>\n    </tr>\n    <tr>\n      <th>113</th>\n      <td>202107-202112</td>\n      <td>강원도</td>\n      <td>양구군</td>\n      <td>일반용</td>\n      <td>2810</td>\n      <td>40867387</td>\n    </tr>\n    <tr>\n      <th>113</th>\n      <td>202107-202112</td>\n      <td>강원도</td>\n      <td>양구군</td>\n      <td>합계</td>\n      <td>4276</td>\n      <td>99941536</td>\n    </tr>\n    <tr>\n      <th>114</th>\n      <td>202107-202112</td>\n      <td>강원도</td>\n      <td>양양군</td>\n      <td>합계</td>\n      <td>5561</td>\n      <td>157169063</td>\n    </tr>\n    <tr>\n      <th>114</th>\n      <td>202107-202112</td>\n      <td>강원도</td>\n      <td>양양군</td>\n      <td>일반용</td>\n      <td>4607</td>\n      <td>75438803</td>\n    </tr>\n    <tr>\n      <th>115</th>\n      <td>202107-202112</td>\n      <td>강원도</td>\n      <td>영월군</td>\n      <td>일반용</td>\n      <td>4276</td>\n      <td>45052905</td>\n    </tr>\n    <tr>\n      <th>115</th>\n      <td>202107-202112</td>\n      <td>강원도</td>\n      <td>영월군</td>\n      <td>합계</td>\n      <td>7307</td>\n      <td>585042154</td>\n    </tr>\n    <tr>\n      <th>116</th>\n      <td>202107-202112</td>\n      <td>강원도</td>\n      <td>원주시</td>\n      <td>일반용</td>\n      <td>27347</td>\n      <td>416914100</td>\n    </tr>\n    <tr>\n      <th>116</th>\n      <td>202107-202112</td>\n      <td>강원도</td>\n      <td>원주시</td>\n      <td>합계</td>\n      <td>28690</td>\n      <td>1260718211</td>\n    </tr>\n    <tr>\n      <th>117</th>\n      <td>202107-202112</td>\n      <td>강원도</td>\n      <td>인제군</td>\n      <td>일반용</td>\n      <td>4896</td>\n      <td>76046752</td>\n    </tr>\n    <tr>\n      <th>117</th>\n      <td>202107-202112</td>\n      <td>강원도</td>\n      <td>인제군</td>\n      <td>합계</td>\n      <td>6388</td>\n      <td>163350658</td>\n    </tr>\n    <tr>\n      <th>118</th>\n      <td>202107-202112</td>\n      <td>강원도</td>\n      <td>정선군</td>\n      <td>합계</td>\n      <td>7044</td>\n      <td>302769438</td>\n    </tr>\n    <tr>\n      <th>118</th>\n      <td>202107-202112</td>\n      <td>강원도</td>\n      <td>정선군</td>\n      <td>일반용</td>\n      <td>5078</td>\n      <td>98450847</td>\n    </tr>\n    <tr>\n      <th>119</th>\n      <td>202107-202112</td>\n      <td>강원도</td>\n      <td>철원군</td>\n      <td>합계</td>\n      <td>7618</td>\n      <td>242422254</td>\n    </tr>\n    <tr>\n      <th>119</th>\n      <td>202107-202112</td>\n      <td>강원도</td>\n      <td>철원군</td>\n      <td>일반용</td>\n      <td>5018</td>\n      <td>82105993</td>\n    </tr>\n    <tr>\n      <th>120</th>\n      <td>202107-202112</td>\n      <td>강원도</td>\n      <td>춘천시</td>\n      <td>일반용</td>\n      <td>22323</td>\n      <td>424415954</td>\n    </tr>\n    <tr>\n      <th>120</th>\n      <td>202107-202112</td>\n      <td>강원도</td>\n      <td>춘천시</td>\n      <td>합계</td>\n      <td>25422</td>\n      <td>915994654</td>\n    </tr>\n    <tr>\n      <th>121</th>\n      <td>202107-202112</td>\n      <td>강원도</td>\n      <td>태백시</td>\n      <td>합계</td>\n      <td>4737</td>\n      <td>147200044</td>\n    </tr>\n    <tr>\n      <th>121</th>\n      <td>202107-202112</td>\n      <td>강원도</td>\n      <td>태백시</td>\n      <td>일반용</td>\n      <td>4458</td>\n      <td>47840156</td>\n    </tr>\n    <tr>\n      <th>122</th>\n      <td>202107-202112</td>\n      <td>강원도</td>\n      <td>평창군</td>\n      <td>합계</td>\n      <td>9609</td>\n      <td>303311224</td>\n    </tr>\n    <tr>\n      <th>122</th>\n      <td>202107-202112</td>\n      <td>강원도</td>\n      <td>평창군</td>\n      <td>일반용</td>\n      <td>6851</td>\n      <td>122861931</td>\n    </tr>\n    <tr>\n      <th>123</th>\n      <td>202107-202112</td>\n      <td>강원도</td>\n      <td>홍천군</td>\n      <td>합계</td>\n      <td>13533</td>\n      <td>357004144</td>\n    </tr>\n    <tr>\n      <th>123</th>\n      <td>202107-202112</td>\n      <td>강원도</td>\n      <td>홍천군</td>\n      <td>일반용</td>\n      <td>8518</td>\n      <td>132964053</td>\n    </tr>\n    <tr>\n      <th>124</th>\n      <td>202107-202112</td>\n      <td>강원도</td>\n      <td>화천군</td>\n      <td>합계</td>\n      <td>4733</td>\n      <td>126062945</td>\n    </tr>\n    <tr>\n      <th>124</th>\n      <td>202107-202112</td>\n      <td>강원도</td>\n      <td>화천군</td>\n      <td>일반용</td>\n      <td>3310</td>\n      <td>61801680</td>\n    </tr>\n    <tr>\n      <th>125</th>\n      <td>202107-202112</td>\n      <td>강원도</td>\n      <td>횡성군</td>\n      <td>일반용</td>\n      <td>5344</td>\n      <td>65164992</td>\n    </tr>\n    <tr>\n      <th>125</th>\n      <td>202107-202112</td>\n      <td>강원도</td>\n      <td>횡성군</td>\n      <td>합계</td>\n      <td>10218</td>\n      <td>324483548</td>\n    </tr>\n  </tbody>\n</table>\n</div>"
     },
     "execution_count": 90,
     "metadata": {},
     "output_type": "execute_result"
    }
   ],
   "source": [
    "Final = pd.concat([GyeonGiHap2 , Hap])\n",
    "Final = Final.sort_values('시군구')\n",
    "Final"
   ],
   "metadata": {
    "collapsed": false,
    "pycharm": {
     "name": "#%%\n"
    }
   }
  },
  {
   "cell_type": "code",
   "execution_count": 91,
   "outputs": [
    {
     "data": {
      "text/plain": "[305342532,\n 79053356,\n 109644752,\n 84956725,\n 144515175,\n 40867387,\n 75438803,\n 45052905,\n 416914100,\n 76046752,\n 98450847,\n 82105993,\n 424415954,\n 47840156,\n 122861931,\n 132964053,\n 61801680,\n 65164992]"
     },
     "execution_count": 91,
     "metadata": {},
     "output_type": "execute_result"
    }
   ],
   "source": [
    "# Final['일반용 전기의 비율'] = (Final['사용량(kWh)'].loc[Final['계약구분'] == '일반용']) // (Final['사용량(kWh)'].loc[Final['계약구분'] == '합계'])\n",
    "# Final\n",
    "ex = (Final['사용량(kWh)'].loc[Final['계약구분'] == '일반용']).tolist()\n",
    "\n",
    "\n",
    "ex\n"
   ],
   "metadata": {
    "collapsed": false,
    "pycharm": {
     "name": "#%%\n"
    }
   }
  },
  {
   "cell_type": "code",
   "execution_count": 92,
   "outputs": [
    {
     "data": {
      "text/plain": "[987426644,\n 164556467,\n 1190788621,\n 745434941,\n 269446132,\n 99941536,\n 157169063,\n 585042154,\n 1260718211,\n 163350658,\n 302769438,\n 242422254,\n 915994654,\n 147200044,\n 303311224,\n 357004144,\n 126062945,\n 324483548]"
     },
     "execution_count": 92,
     "metadata": {},
     "output_type": "execute_result"
    }
   ],
   "source": [
    "ex_2 =(Final['사용량(kWh)'].loc[Final['계약구분'] == '합계']).tolist()\n",
    "ex_2"
   ],
   "metadata": {
    "collapsed": false,
    "pycharm": {
     "name": "#%%\n"
    }
   }
  },
  {
   "cell_type": "code",
   "execution_count": 93,
   "outputs": [
    {
     "name": "stdout",
     "output_type": "stream",
     "text": [
      "[30.92, 48.04, 9.21, 11.4, 53.63, 40.89, 48.0, 7.7, 33.07, 46.55, 32.52, 33.87, 46.33, 32.5, 40.51, 37.24, 49.02, 20.08]\n"
     ]
    }
   ],
   "source": [
    "Rate = []\n",
    "ilban = []\n",
    "rae = 0\n",
    "for i in range(len(ex)):\n",
    "    rae = round(ex[i] / ex_2[i] *100 ,2)\n",
    "    Rate.append(rae)\n",
    "print(Rate)"
   ],
   "metadata": {
    "collapsed": false,
    "pycharm": {
     "name": "#%%\n"
    }
   }
  },
  {
   "cell_type": "code",
   "execution_count": 94,
   "outputs": [
    {
     "data": {
      "text/plain": "0    31\n1    48\n2     9\n3    11\n4    54\n5    41\n6    48\n7     8\n8    33\n9    47\n10   33\n11   34\n12   46\n13   32\n14   41\n15   37\n16   49\n17   20\ndtype: float64"
     },
     "execution_count": 94,
     "metadata": {},
     "output_type": "execute_result"
    }
   ],
   "source": [
    "Rate3 = pd.Series(Rate)\n",
    "Rate3\n",
    "\n",
    "# Final = pd.concat([Final , Rate3])\n",
    "# Final"
   ],
   "metadata": {
    "collapsed": false,
    "pycharm": {
     "name": "#%%\n"
    }
   }
  },
  {
   "cell_type": "code",
   "execution_count": 95,
   "outputs": [
    {
     "data": {
      "text/plain": "    시군구 계약구분  비율\n0   강릉시  일반용  31\n1   고성군  일반용  48\n2   동해시  일반용   9\n3   삼척시  일반용  11\n4   속초시  일반용  54\n5   양구군  일반용  41\n6   양양군  일반용  48\n7   영월군  일반용   8\n8   원주시  일반용  33\n9   인제군  일반용  47\n10  정선군  일반용  33\n11  철원군  일반용  34\n12  춘천시  일반용  46\n13  태백시  일반용  32\n14  평창군  일반용  41\n15  홍천군  일반용  37\n16  화천군  일반용  49\n17  횡성군  일반용  20",
      "text/html": "<div>\n<style scoped>\n    .dataframe tbody tr th:only-of-type {\n        vertical-align: middle;\n    }\n\n    .dataframe tbody tr th {\n        vertical-align: top;\n    }\n\n    .dataframe thead th {\n        text-align: right;\n    }\n</style>\n<table border=\"1\" class=\"dataframe\">\n  <thead>\n    <tr style=\"text-align: right;\">\n      <th></th>\n      <th>시군구</th>\n      <th>계약구분</th>\n      <th>비율</th>\n    </tr>\n  </thead>\n  <tbody>\n    <tr>\n      <th>0</th>\n      <td>강릉시</td>\n      <td>일반용</td>\n      <td>31</td>\n    </tr>\n    <tr>\n      <th>1</th>\n      <td>고성군</td>\n      <td>일반용</td>\n      <td>48</td>\n    </tr>\n    <tr>\n      <th>2</th>\n      <td>동해시</td>\n      <td>일반용</td>\n      <td>9</td>\n    </tr>\n    <tr>\n      <th>3</th>\n      <td>삼척시</td>\n      <td>일반용</td>\n      <td>11</td>\n    </tr>\n    <tr>\n      <th>4</th>\n      <td>속초시</td>\n      <td>일반용</td>\n      <td>54</td>\n    </tr>\n    <tr>\n      <th>5</th>\n      <td>양구군</td>\n      <td>일반용</td>\n      <td>41</td>\n    </tr>\n    <tr>\n      <th>6</th>\n      <td>양양군</td>\n      <td>일반용</td>\n      <td>48</td>\n    </tr>\n    <tr>\n      <th>7</th>\n      <td>영월군</td>\n      <td>일반용</td>\n      <td>8</td>\n    </tr>\n    <tr>\n      <th>8</th>\n      <td>원주시</td>\n      <td>일반용</td>\n      <td>33</td>\n    </tr>\n    <tr>\n      <th>9</th>\n      <td>인제군</td>\n      <td>일반용</td>\n      <td>47</td>\n    </tr>\n    <tr>\n      <th>10</th>\n      <td>정선군</td>\n      <td>일반용</td>\n      <td>33</td>\n    </tr>\n    <tr>\n      <th>11</th>\n      <td>철원군</td>\n      <td>일반용</td>\n      <td>34</td>\n    </tr>\n    <tr>\n      <th>12</th>\n      <td>춘천시</td>\n      <td>일반용</td>\n      <td>46</td>\n    </tr>\n    <tr>\n      <th>13</th>\n      <td>태백시</td>\n      <td>일반용</td>\n      <td>32</td>\n    </tr>\n    <tr>\n      <th>14</th>\n      <td>평창군</td>\n      <td>일반용</td>\n      <td>41</td>\n    </tr>\n    <tr>\n      <th>15</th>\n      <td>홍천군</td>\n      <td>일반용</td>\n      <td>37</td>\n    </tr>\n    <tr>\n      <th>16</th>\n      <td>화천군</td>\n      <td>일반용</td>\n      <td>49</td>\n    </tr>\n    <tr>\n      <th>17</th>\n      <td>횡성군</td>\n      <td>일반용</td>\n      <td>20</td>\n    </tr>\n  </tbody>\n</table>\n</div>"
     },
     "execution_count": 95,
     "metadata": {},
     "output_type": "execute_result"
    }
   ],
   "source": [
    "for j in range(len(Rate)):\n",
    "    ilban.append('일반용')\n",
    "#print(Rate)\n",
    "\n",
    "Rate2 = pd.DataFrame()\n",
    "Rate2['시군구'] = pd.DataFrame(SIGUNGU)\n",
    "Rate2['계약구분'] = pd.DataFrame(ilban)\n",
    "Rate2['비율'] = pd.DataFrame(Rate)\n",
    "Rate2\n",
    "#print(Rate2.dtypes)"
   ],
   "metadata": {
    "collapsed": false,
    "pycharm": {
     "name": "#%%\n"
    }
   }
  },
  {
   "cell_type": "code",
   "execution_count": 96,
   "outputs": [
    {
     "data": {
      "text/plain": "               년월   시구  시군구 계약구분 고객호수(호)    사용량(kWh)  비율\n0   202107-202112  강원도  강릉시  일반용   21756   305342532  31\n1   202107-202112  강원도  강릉시   합계   23682   987426644 NaN\n2   202107-202112  강원도  고성군  일반용    4524    79053356  48\n3   202107-202112  강원도  고성군   합계    5256   164556467 NaN\n4   202107-202112  강원도  동해시  일반용    7746   109644752   9\n5   202107-202112  강원도  동해시   합계    8436  1190788621 NaN\n7   202107-202112  강원도  삼척시  일반용    7194    84956725  11\n6   202107-202112  강원도  삼척시   합계    9811   745434941 NaN\n9   202107-202112  강원도  속초시  일반용    8776   144515175  54\n8   202107-202112  강원도  속초시   합계    7036   269446132 NaN\n10  202107-202112  강원도  양구군  일반용    2810    40867387  41\n11  202107-202112  강원도  양구군   합계    4276    99941536 NaN\n13  202107-202112  강원도  양양군  일반용    4607    75438803  48\n12  202107-202112  강원도  양양군   합계    5561   157169063 NaN\n14  202107-202112  강원도  영월군  일반용    4276    45052905   8\n15  202107-202112  강원도  영월군   합계    7307   585042154 NaN\n16  202107-202112  강원도  원주시  일반용   27347   416914100  33\n17  202107-202112  강원도  원주시   합계   28690  1260718211 NaN\n18  202107-202112  강원도  인제군  일반용    4896    76046752  47\n19  202107-202112  강원도  인제군   합계    6388   163350658 NaN\n21  202107-202112  강원도  정선군  일반용    5078    98450847  33\n20  202107-202112  강원도  정선군   합계    7044   302769438 NaN\n23  202107-202112  강원도  철원군  일반용    5018    82105993  34\n22  202107-202112  강원도  철원군   합계    7618   242422254 NaN\n24  202107-202112  강원도  춘천시  일반용   22323   424415954  46\n25  202107-202112  강원도  춘천시   합계   25422   915994654 NaN\n27  202107-202112  강원도  태백시  일반용    4458    47840156  32\n26  202107-202112  강원도  태백시   합계    4737   147200044 NaN\n29  202107-202112  강원도  평창군  일반용    6851   122861931  41\n28  202107-202112  강원도  평창군   합계    9609   303311224 NaN\n31  202107-202112  강원도  홍천군  일반용    8518   132964053  37\n30  202107-202112  강원도  홍천군   합계   13533   357004144 NaN\n33  202107-202112  강원도  화천군  일반용    3310    61801680  49\n32  202107-202112  강원도  화천군   합계    4733   126062945 NaN\n34  202107-202112  강원도  횡성군  일반용    5344    65164992  20\n35  202107-202112  강원도  횡성군   합계   10218   324483548 NaN",
      "text/html": "<div>\n<style scoped>\n    .dataframe tbody tr th:only-of-type {\n        vertical-align: middle;\n    }\n\n    .dataframe tbody tr th {\n        vertical-align: top;\n    }\n\n    .dataframe thead th {\n        text-align: right;\n    }\n</style>\n<table border=\"1\" class=\"dataframe\">\n  <thead>\n    <tr style=\"text-align: right;\">\n      <th></th>\n      <th>년월</th>\n      <th>시구</th>\n      <th>시군구</th>\n      <th>계약구분</th>\n      <th>고객호수(호)</th>\n      <th>사용량(kWh)</th>\n      <th>비율</th>\n    </tr>\n  </thead>\n  <tbody>\n    <tr>\n      <th>0</th>\n      <td>202107-202112</td>\n      <td>강원도</td>\n      <td>강릉시</td>\n      <td>일반용</td>\n      <td>21756</td>\n      <td>305342532</td>\n      <td>31</td>\n    </tr>\n    <tr>\n      <th>1</th>\n      <td>202107-202112</td>\n      <td>강원도</td>\n      <td>강릉시</td>\n      <td>합계</td>\n      <td>23682</td>\n      <td>987426644</td>\n      <td>NaN</td>\n    </tr>\n    <tr>\n      <th>2</th>\n      <td>202107-202112</td>\n      <td>강원도</td>\n      <td>고성군</td>\n      <td>일반용</td>\n      <td>4524</td>\n      <td>79053356</td>\n      <td>48</td>\n    </tr>\n    <tr>\n      <th>3</th>\n      <td>202107-202112</td>\n      <td>강원도</td>\n      <td>고성군</td>\n      <td>합계</td>\n      <td>5256</td>\n      <td>164556467</td>\n      <td>NaN</td>\n    </tr>\n    <tr>\n      <th>4</th>\n      <td>202107-202112</td>\n      <td>강원도</td>\n      <td>동해시</td>\n      <td>일반용</td>\n      <td>7746</td>\n      <td>109644752</td>\n      <td>9</td>\n    </tr>\n    <tr>\n      <th>5</th>\n      <td>202107-202112</td>\n      <td>강원도</td>\n      <td>동해시</td>\n      <td>합계</td>\n      <td>8436</td>\n      <td>1190788621</td>\n      <td>NaN</td>\n    </tr>\n    <tr>\n      <th>7</th>\n      <td>202107-202112</td>\n      <td>강원도</td>\n      <td>삼척시</td>\n      <td>일반용</td>\n      <td>7194</td>\n      <td>84956725</td>\n      <td>11</td>\n    </tr>\n    <tr>\n      <th>6</th>\n      <td>202107-202112</td>\n      <td>강원도</td>\n      <td>삼척시</td>\n      <td>합계</td>\n      <td>9811</td>\n      <td>745434941</td>\n      <td>NaN</td>\n    </tr>\n    <tr>\n      <th>9</th>\n      <td>202107-202112</td>\n      <td>강원도</td>\n      <td>속초시</td>\n      <td>일반용</td>\n      <td>8776</td>\n      <td>144515175</td>\n      <td>54</td>\n    </tr>\n    <tr>\n      <th>8</th>\n      <td>202107-202112</td>\n      <td>강원도</td>\n      <td>속초시</td>\n      <td>합계</td>\n      <td>7036</td>\n      <td>269446132</td>\n      <td>NaN</td>\n    </tr>\n    <tr>\n      <th>10</th>\n      <td>202107-202112</td>\n      <td>강원도</td>\n      <td>양구군</td>\n      <td>일반용</td>\n      <td>2810</td>\n      <td>40867387</td>\n      <td>41</td>\n    </tr>\n    <tr>\n      <th>11</th>\n      <td>202107-202112</td>\n      <td>강원도</td>\n      <td>양구군</td>\n      <td>합계</td>\n      <td>4276</td>\n      <td>99941536</td>\n      <td>NaN</td>\n    </tr>\n    <tr>\n      <th>13</th>\n      <td>202107-202112</td>\n      <td>강원도</td>\n      <td>양양군</td>\n      <td>일반용</td>\n      <td>4607</td>\n      <td>75438803</td>\n      <td>48</td>\n    </tr>\n    <tr>\n      <th>12</th>\n      <td>202107-202112</td>\n      <td>강원도</td>\n      <td>양양군</td>\n      <td>합계</td>\n      <td>5561</td>\n      <td>157169063</td>\n      <td>NaN</td>\n    </tr>\n    <tr>\n      <th>14</th>\n      <td>202107-202112</td>\n      <td>강원도</td>\n      <td>영월군</td>\n      <td>일반용</td>\n      <td>4276</td>\n      <td>45052905</td>\n      <td>8</td>\n    </tr>\n    <tr>\n      <th>15</th>\n      <td>202107-202112</td>\n      <td>강원도</td>\n      <td>영월군</td>\n      <td>합계</td>\n      <td>7307</td>\n      <td>585042154</td>\n      <td>NaN</td>\n    </tr>\n    <tr>\n      <th>16</th>\n      <td>202107-202112</td>\n      <td>강원도</td>\n      <td>원주시</td>\n      <td>일반용</td>\n      <td>27347</td>\n      <td>416914100</td>\n      <td>33</td>\n    </tr>\n    <tr>\n      <th>17</th>\n      <td>202107-202112</td>\n      <td>강원도</td>\n      <td>원주시</td>\n      <td>합계</td>\n      <td>28690</td>\n      <td>1260718211</td>\n      <td>NaN</td>\n    </tr>\n    <tr>\n      <th>18</th>\n      <td>202107-202112</td>\n      <td>강원도</td>\n      <td>인제군</td>\n      <td>일반용</td>\n      <td>4896</td>\n      <td>76046752</td>\n      <td>47</td>\n    </tr>\n    <tr>\n      <th>19</th>\n      <td>202107-202112</td>\n      <td>강원도</td>\n      <td>인제군</td>\n      <td>합계</td>\n      <td>6388</td>\n      <td>163350658</td>\n      <td>NaN</td>\n    </tr>\n    <tr>\n      <th>21</th>\n      <td>202107-202112</td>\n      <td>강원도</td>\n      <td>정선군</td>\n      <td>일반용</td>\n      <td>5078</td>\n      <td>98450847</td>\n      <td>33</td>\n    </tr>\n    <tr>\n      <th>20</th>\n      <td>202107-202112</td>\n      <td>강원도</td>\n      <td>정선군</td>\n      <td>합계</td>\n      <td>7044</td>\n      <td>302769438</td>\n      <td>NaN</td>\n    </tr>\n    <tr>\n      <th>23</th>\n      <td>202107-202112</td>\n      <td>강원도</td>\n      <td>철원군</td>\n      <td>일반용</td>\n      <td>5018</td>\n      <td>82105993</td>\n      <td>34</td>\n    </tr>\n    <tr>\n      <th>22</th>\n      <td>202107-202112</td>\n      <td>강원도</td>\n      <td>철원군</td>\n      <td>합계</td>\n      <td>7618</td>\n      <td>242422254</td>\n      <td>NaN</td>\n    </tr>\n    <tr>\n      <th>24</th>\n      <td>202107-202112</td>\n      <td>강원도</td>\n      <td>춘천시</td>\n      <td>일반용</td>\n      <td>22323</td>\n      <td>424415954</td>\n      <td>46</td>\n    </tr>\n    <tr>\n      <th>25</th>\n      <td>202107-202112</td>\n      <td>강원도</td>\n      <td>춘천시</td>\n      <td>합계</td>\n      <td>25422</td>\n      <td>915994654</td>\n      <td>NaN</td>\n    </tr>\n    <tr>\n      <th>27</th>\n      <td>202107-202112</td>\n      <td>강원도</td>\n      <td>태백시</td>\n      <td>일반용</td>\n      <td>4458</td>\n      <td>47840156</td>\n      <td>32</td>\n    </tr>\n    <tr>\n      <th>26</th>\n      <td>202107-202112</td>\n      <td>강원도</td>\n      <td>태백시</td>\n      <td>합계</td>\n      <td>4737</td>\n      <td>147200044</td>\n      <td>NaN</td>\n    </tr>\n    <tr>\n      <th>29</th>\n      <td>202107-202112</td>\n      <td>강원도</td>\n      <td>평창군</td>\n      <td>일반용</td>\n      <td>6851</td>\n      <td>122861931</td>\n      <td>41</td>\n    </tr>\n    <tr>\n      <th>28</th>\n      <td>202107-202112</td>\n      <td>강원도</td>\n      <td>평창군</td>\n      <td>합계</td>\n      <td>9609</td>\n      <td>303311224</td>\n      <td>NaN</td>\n    </tr>\n    <tr>\n      <th>31</th>\n      <td>202107-202112</td>\n      <td>강원도</td>\n      <td>홍천군</td>\n      <td>일반용</td>\n      <td>8518</td>\n      <td>132964053</td>\n      <td>37</td>\n    </tr>\n    <tr>\n      <th>30</th>\n      <td>202107-202112</td>\n      <td>강원도</td>\n      <td>홍천군</td>\n      <td>합계</td>\n      <td>13533</td>\n      <td>357004144</td>\n      <td>NaN</td>\n    </tr>\n    <tr>\n      <th>33</th>\n      <td>202107-202112</td>\n      <td>강원도</td>\n      <td>화천군</td>\n      <td>일반용</td>\n      <td>3310</td>\n      <td>61801680</td>\n      <td>49</td>\n    </tr>\n    <tr>\n      <th>32</th>\n      <td>202107-202112</td>\n      <td>강원도</td>\n      <td>화천군</td>\n      <td>합계</td>\n      <td>4733</td>\n      <td>126062945</td>\n      <td>NaN</td>\n    </tr>\n    <tr>\n      <th>34</th>\n      <td>202107-202112</td>\n      <td>강원도</td>\n      <td>횡성군</td>\n      <td>일반용</td>\n      <td>5344</td>\n      <td>65164992</td>\n      <td>20</td>\n    </tr>\n    <tr>\n      <th>35</th>\n      <td>202107-202112</td>\n      <td>강원도</td>\n      <td>횡성군</td>\n      <td>합계</td>\n      <td>10218</td>\n      <td>324483548</td>\n      <td>NaN</td>\n    </tr>\n  </tbody>\n</table>\n</div>"
     },
     "execution_count": 96,
     "metadata": {},
     "output_type": "execute_result"
    }
   ],
   "source": [
    "Final = pd.merge(Final , Rate2, on=['시군구', '계약구분'] , how='left')\n",
    "\n",
    "#Final.drop(['비율_y]' , axis = 1 , inplace = True)\n",
    "#Final.rename(columns={'비율_y':'전체 계약종별 전력사용량 대비 일반용 사용량 비율'})\n",
    "Final = Final.sort_values(['시군구' , '계약구분'])\n",
    "Final"
   ],
   "metadata": {
    "collapsed": false,
    "pycharm": {
     "name": "#%%\n"
    }
   }
  },
  {
   "cell_type": "code",
   "execution_count": 97,
   "outputs": [],
   "source": [
    "# Final['일반용 전기의 비율'] = Final.append(Rate)\n",
    "# Final"
   ],
   "metadata": {
    "collapsed": false,
    "pycharm": {
     "name": "#%%\n"
    }
   }
  },
  {
   "cell_type": "markdown",
   "source": [
    "### 6. 날짜 체크!!!!!!!!!!!!!!!!!!!!1"
   ],
   "metadata": {
    "collapsed": false,
    "pycharm": {
     "name": "#%% md\n"
    }
   }
  },
  {
   "cell_type": "code",
   "execution_count": 98,
   "outputs": [],
   "source": [
    "Final.to_csv(\"{}_일반용_전력사용량_2107-12.csv\".format(City) , mode = 'w' , encoding= 'cp949' , index =False) #파일명 수정"
   ],
   "metadata": {
    "collapsed": false,
    "pycharm": {
     "name": "#%%\n"
    }
   }
  },
  {
   "cell_type": "code",
   "execution_count": 98,
   "outputs": [],
   "source": [],
   "metadata": {
    "collapsed": false,
    "pycharm": {
     "name": "#%%\n"
    }
   }
  },
  {
   "cell_type": "code",
   "execution_count": 99,
   "outputs": [],
   "source": [
    "# Sigu = list(set(df_3['시군구'].tolist()))\n",
    "#\n",
    "# Sigu.sort()\n",
    "#\n",
    "# Sigu"
   ],
   "metadata": {
    "collapsed": false,
    "pycharm": {
     "name": "#%%\n"
    }
   }
  },
  {
   "cell_type": "code",
   "execution_count": 100,
   "outputs": [],
   "source": [
    "# YearMonth = list(set(df_3['년월'].tolist()))\n",
    "#\n",
    "# YearMonth.sort()\n",
    "# YearMonth"
   ],
   "metadata": {
    "collapsed": false,
    "pycharm": {
     "name": "#%%\n"
    }
   }
  },
  {
   "cell_type": "code",
   "execution_count": 101,
   "outputs": [],
   "source": [
    "# Gayeak = list(set(df_3['계약구분'].tolist()))\n",
    "#\n",
    "# Gayeak.sort()\n",
    "# Gayeak"
   ],
   "metadata": {
    "collapsed": false,
    "pycharm": {
     "name": "#%%\n"
    }
   }
  },
  {
   "cell_type": "code",
   "execution_count": 102,
   "outputs": [],
   "source": [
    "# SEOUL = df_3.loc[(df_3['계약구분'] =='일반용')]\n",
    "# SEOUL.drop(['고객호수(호)' ,'전기요금(원)' , '평균판매단가(원/kWh)'] , axis = 1 , inplace = True)\n",
    "# #SEOUL.dtypes(['사용량(kWh)'])\n",
    "# SEOUL"
   ],
   "metadata": {
    "collapsed": false,
    "pycharm": {
     "name": "#%%\n"
    }
   }
  },
  {
   "cell_type": "code",
   "execution_count": 103,
   "outputs": [],
   "source": [
    "#SEOUL.to_csv(\"서울특별시_일반용_전력사용량.csv\" , mode = 'w' , encoding= 'cp949')"
   ],
   "metadata": {
    "collapsed": false,
    "pycharm": {
     "name": "#%%\n"
    }
   }
  },
  {
   "cell_type": "code",
   "execution_count": 104,
   "outputs": [],
   "source": [
    "# print(SEOUL.dtypes)\n",
    "# SEOUL = SEOUL.astype({'사용량(kWh)' : 'float'})"
   ],
   "metadata": {
    "collapsed": false,
    "pycharm": {
     "name": "#%%\n"
    }
   }
  },
  {
   "cell_type": "code",
   "execution_count": 105,
   "outputs": [],
   "source": [
    "# SEOUL"
   ],
   "metadata": {
    "collapsed": false,
    "pycharm": {
     "name": "#%%\n"
    }
   }
  },
  {
   "cell_type": "code",
   "execution_count": 106,
   "outputs": [],
   "source": [
    "# a = SEOUL['사용량(kWh)'].tolist()\n",
    "# int_list = map(int, a)\n",
    "# b=0\n",
    "# for i in int_list:\n",
    "#     b+=i\n",
    "#\n",
    "# print(b)"
   ],
   "metadata": {
    "collapsed": false,
    "pycharm": {
     "name": "#%%\n"
    }
   }
  },
  {
   "cell_type": "code",
   "execution_count": 106,
   "outputs": [],
   "source": [],
   "metadata": {
    "collapsed": false,
    "pycharm": {
     "name": "#%%\n"
    }
   }
  },
  {
   "cell_type": "code",
   "execution_count": 106,
   "outputs": [],
   "source": [],
   "metadata": {
    "collapsed": false,
    "pycharm": {
     "name": "#%%\n"
    }
   }
  },
  {
   "cell_type": "code",
   "execution_count": 106,
   "outputs": [],
   "source": [],
   "metadata": {
    "collapsed": false,
    "pycharm": {
     "name": "#%%\n"
    }
   }
  },
  {
   "cell_type": "code",
   "execution_count": 106,
   "outputs": [],
   "source": [],
   "metadata": {
    "collapsed": false,
    "pycharm": {
     "name": "#%%\n"
    }
   }
  },
  {
   "cell_type": "code",
   "execution_count": 106,
   "outputs": [],
   "source": [],
   "metadata": {
    "collapsed": false,
    "pycharm": {
     "name": "#%%\n"
    }
   }
  },
  {
   "cell_type": "code",
   "execution_count": 106,
   "outputs": [],
   "source": [],
   "metadata": {
    "collapsed": false,
    "pycharm": {
     "name": "#%%\n"
    }
   }
  },
  {
   "cell_type": "code",
   "execution_count": 106,
   "outputs": [],
   "source": [],
   "metadata": {
    "collapsed": false,
    "pycharm": {
     "name": "#%%\n"
    }
   }
  }
 ],
 "metadata": {
  "kernelspec": {
   "display_name": "Python 3",
   "language": "python",
   "name": "python3"
  },
  "language_info": {
   "codemirror_mode": {
    "name": "ipython",
    "version": 2
   },
   "file_extension": ".py",
   "mimetype": "text/x-python",
   "name": "python",
   "nbconvert_exporter": "python",
   "pygments_lexer": "ipython2",
   "version": "2.7.6"
  }
 },
 "nbformat": 4,
 "nbformat_minor": 0
}