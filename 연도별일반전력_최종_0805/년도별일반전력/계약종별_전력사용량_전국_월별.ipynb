{
 "cells": [
  {
   "cell_type": "markdown",
   "metadata": {
    "pycharm": {
     "name": "#%% md\n"
    }
   },
   "source": []
  },
  {
   "cell_type": "code",
   "execution_count": 1,
   "metadata": {
    "pycharm": {
     "name": "#%%\n"
    }
   },
   "outputs": [],
   "source": [
    "import pandas as pd\n",
    "import re\n",
    "import os\n",
    "\n",
    "#print(os.listdir())\n",
    "a = os.listdir()\n",
    "Times = [\"12하반기\", \"13상반기\" , \"13하반기\" , \"14상반기\", \"14하반기\", \"15상반기\", \"15하반기\", \"16상반기\", \"16하반기\", \"17상반기\", \"17하반기\", \"18상반기\", \"18하반기\", \"19상반기\", \"19하반기\", \"20상반기\", \"20하반기\", \"21상반기\", \"21하반기\" , \"22상반기\"]\n",
    "\n",
    "pd.options.display.float_format = '{:.0f}'.format\n",
    "\n",
    "columns = [\"년월\" , \"시구\" , \"시군구\" , \"계약구분\" , \"고객호수(호)\" , \"사용량(kWh)\" , \"비율\"]"
   ]
  },
  {
   "cell_type": "markdown",
   "metadata": {
    "pycharm": {
     "name": "#%% md\n"
    }
   },
   "source": [
    "### 1. 꼭 read_csv 21상반기, 19하반기와 같이 맞추어 주세요!!! 또한 지역(전라북도, 남도) 맞추기!!!!!"
   ]
  },
  {
   "cell_type": "code",
   "execution_count": 2,
   "metadata": {
    "pycharm": {
     "name": "#%%\n"
    }
   },
   "outputs": [
    {
     "data": {
      "text/html": [
       "<div>\n",
       "<style scoped>\n",
       "    .dataframe tbody tr th:only-of-type {\n",
       "        vertical-align: middle;\n",
       "    }\n",
       "\n",
       "    .dataframe tbody tr th {\n",
       "        vertical-align: top;\n",
       "    }\n",
       "\n",
       "    .dataframe thead th {\n",
       "        text-align: right;\n",
       "    }\n",
       "</style>\n",
       "<table border=\"1\" class=\"dataframe\">\n",
       "  <thead>\n",
       "    <tr style=\"text-align: right;\">\n",
       "      <th></th>\n",
       "      <th>년월</th>\n",
       "      <th>시구</th>\n",
       "      <th>시군구</th>\n",
       "      <th>계약구분</th>\n",
       "      <th>고객호수(호)</th>\n",
       "      <th>사용량(kWh)</th>\n",
       "      <th>비율</th>\n",
       "    </tr>\n",
       "  </thead>\n",
       "  <tbody>\n",
       "    <tr>\n",
       "      <th>0</th>\n",
       "      <td>201207</td>\n",
       "      <td>경기도</td>\n",
       "      <td>가평군</td>\n",
       "      <td>일반용</td>\n",
       "      <td>7,891</td>\n",
       "      <td>18,740,590</td>\n",
       "      <td>50</td>\n",
       "    </tr>\n",
       "    <tr>\n",
       "      <th>1</th>\n",
       "      <td>201207</td>\n",
       "      <td>경기도</td>\n",
       "      <td>가평군</td>\n",
       "      <td>합계</td>\n",
       "      <td>53,913</td>\n",
       "      <td>37,552,828</td>\n",
       "      <td>NaN</td>\n",
       "    </tr>\n",
       "    <tr>\n",
       "      <th>2</th>\n",
       "      <td>201208</td>\n",
       "      <td>경기도</td>\n",
       "      <td>가평군</td>\n",
       "      <td>일반용</td>\n",
       "      <td>8,001</td>\n",
       "      <td>22,827,836</td>\n",
       "      <td>53</td>\n",
       "    </tr>\n",
       "    <tr>\n",
       "      <th>3</th>\n",
       "      <td>201208</td>\n",
       "      <td>경기도</td>\n",
       "      <td>가평군</td>\n",
       "      <td>합계</td>\n",
       "      <td>54,194</td>\n",
       "      <td>43,464,970</td>\n",
       "      <td>NaN</td>\n",
       "    </tr>\n",
       "    <tr>\n",
       "      <th>4</th>\n",
       "      <td>201209</td>\n",
       "      <td>경기도</td>\n",
       "      <td>가평군</td>\n",
       "      <td>일반용</td>\n",
       "      <td>8,067</td>\n",
       "      <td>19,561,033</td>\n",
       "      <td>48</td>\n",
       "    </tr>\n",
       "    <tr>\n",
       "      <th>...</th>\n",
       "      <td>...</td>\n",
       "      <td>...</td>\n",
       "      <td>...</td>\n",
       "      <td>...</td>\n",
       "      <td>...</td>\n",
       "      <td>...</td>\n",
       "      <td>...</td>\n",
       "    </tr>\n",
       "    <tr>\n",
       "      <th>55127</th>\n",
       "      <td>202204</td>\n",
       "      <td>강원도</td>\n",
       "      <td>횡성군</td>\n",
       "      <td>합계</td>\n",
       "      <td>61,878</td>\n",
       "      <td>56,473,517</td>\n",
       "      <td>NaN</td>\n",
       "    </tr>\n",
       "    <tr>\n",
       "      <th>55128</th>\n",
       "      <td>202205</td>\n",
       "      <td>강원도</td>\n",
       "      <td>횡성군</td>\n",
       "      <td>일반용</td>\n",
       "      <td>5,505</td>\n",
       "      <td>9,179,386</td>\n",
       "      <td>18</td>\n",
       "    </tr>\n",
       "    <tr>\n",
       "      <th>55129</th>\n",
       "      <td>202205</td>\n",
       "      <td>강원도</td>\n",
       "      <td>횡성군</td>\n",
       "      <td>합계</td>\n",
       "      <td>62,200</td>\n",
       "      <td>49,806,235</td>\n",
       "      <td>NaN</td>\n",
       "    </tr>\n",
       "    <tr>\n",
       "      <th>55130</th>\n",
       "      <td>202206</td>\n",
       "      <td>강원도</td>\n",
       "      <td>횡성군</td>\n",
       "      <td>일반용</td>\n",
       "      <td>5,526</td>\n",
       "      <td>9,643,301</td>\n",
       "      <td>20</td>\n",
       "    </tr>\n",
       "    <tr>\n",
       "      <th>55131</th>\n",
       "      <td>202206</td>\n",
       "      <td>강원도</td>\n",
       "      <td>횡성군</td>\n",
       "      <td>합계</td>\n",
       "      <td>62,396</td>\n",
       "      <td>49,016,886</td>\n",
       "      <td>NaN</td>\n",
       "    </tr>\n",
       "  </tbody>\n",
       "</table>\n",
       "<p>55132 rows × 7 columns</p>\n",
       "</div>"
      ],
      "text/plain": [
       "           년월   시구  시군구 계약구분  고객호수(호)     사용량(kWh)   비율\n",
       "0      201207  경기도  가평군  일반용   7,891   18,740,590    50\n",
       "1      201207  경기도  가평군   합계  53,913   37,552,828   NaN\n",
       "2      201208  경기도  가평군  일반용   8,001   22,827,836    53\n",
       "3      201208  경기도  가평군   합계  54,194   43,464,970   NaN\n",
       "4      201209  경기도  가평군  일반용   8,067   19,561,033    48\n",
       "...       ...  ...  ...  ...      ...          ...  ...\n",
       "55127  202204  강원도  횡성군   합계  61,878   56,473,517   NaN\n",
       "55128  202205  강원도  횡성군  일반용   5,505    9,179,386    18\n",
       "55129  202205  강원도  횡성군   합계  62,200   49,806,235   NaN\n",
       "55130  202206  강원도  횡성군  일반용   5,526    9,643,301    20\n",
       "55131  202206  강원도  횡성군   합계  62,396   49,016,886   NaN\n",
       "\n",
       "[55132 rows x 7 columns]"
      ]
     },
     "execution_count": 2,
     "metadata": {},
     "output_type": "execute_result"
    }
   ],
   "source": [
    "Final2 = pd.DataFrame(columns = columns)\n",
    "\n",
    "\n",
    "for af in range(len(Times)):\n",
    "    df = pd.read_csv('{}.csv'.format(Times[af]) , encoding='utf-8')\n",
    "\n",
    "    Final2 = pd.concat([df , Final2])\n",
    "\n",
    "Final2 = Final2.sort_values(by=['시군구' , '년월'])\n",
    "Final2.reset_index(drop=True , inplace = True)\n",
    "Final2"
   ]
  },
  {
   "cell_type": "code",
   "execution_count": 3,
   "metadata": {
    "pycharm": {
     "name": "#%%\n"
    }
   },
   "outputs": [],
   "source": [
    "Final2.to_csv('./2012-2022전국.csv' , mode = 'w' , encoding = 'utf-8-sig' , index=False)"
   ]
  }
 ],
 "metadata": {
  "kernelspec": {
   "display_name": "Python 3 (ipykernel)",
   "language": "python",
   "name": "python3"
  },
  "language_info": {
   "codemirror_mode": {
    "name": "ipython",
    "version": 3
   },
   "file_extension": ".py",
   "mimetype": "text/x-python",
   "name": "python",
   "nbconvert_exporter": "python",
   "pygments_lexer": "ipython3",
   "version": "3.9.12"
  }
 },
 "nbformat": 4,
 "nbformat_minor": 1
}
