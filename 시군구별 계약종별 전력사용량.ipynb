{
 "cells": [
  {
   "cell_type": "code",
   "execution_count": 1,
   "outputs": [],
   "source": [
    "import pandas as pd\n",
    "\n",
    "\n",
    "pd.options.display.float_format = '{:.0f}'.format"
   ],
   "metadata": {
    "collapsed": false,
    "pycharm": {
     "name": "#%%\n"
    }
   }
  },
  {
   "cell_type": "code",
   "execution_count": 35,
   "outputs": [],
   "source": [
    "df = pd.read_csv('계약종별_전력사용량_월별_20220803.csv' , encoding='cp949')\n",
    "\n",
    "\n",
    "exchng=  pd.read_csv('지역별_전력거래량_20220803093050.csv' , encoding='cp949')"
   ],
   "metadata": {
    "collapsed": false,
    "pycharm": {
     "name": "#%%\n"
    }
   }
  },
  {
   "cell_type": "code",
   "execution_count": 36,
   "outputs": [],
   "source": [
    "df = df.drop([0,1 , 39] , axis = 0)"
   ],
   "metadata": {
    "collapsed": false,
    "pycharm": {
     "name": "#%%\n"
    }
   }
  },
  {
   "cell_type": "code",
   "execution_count": 37,
   "outputs": [],
   "source": [
    "a= df.loc[2].tolist()\n",
    "a\n",
    "df = df.drop([2] , axis = 0)"
   ],
   "metadata": {
    "collapsed": false,
    "pycharm": {
     "name": "#%%\n"
    }
   }
  },
  {
   "cell_type": "code",
   "execution_count": 38,
   "outputs": [
    {
     "data": {
      "text/plain": "         년월      시구            시군구 계약구분      고객호수(호)         사용량(kWh)  \\\n3    202201  전체(시도)  전체(시 / 군 / 구)  주택용  15,737,787    7,092,815,490    \n4    202201  전체(시도)  전체(시 / 군 / 구)  일반용   3,373,949   11,518,841,629    \n5    202201  전체(시도)  전체(시 / 군 / 구)  교육용      20,996    1,017,613,102    \n6    202201  전체(시도)  전체(시 / 군 / 구)  산업용     434,515   26,069,752,354    \n7    202201  전체(시도)  전체(시 / 군 / 구)  농사용   1,976,665    2,157,527,601    \n..      ...     ...            ...  ...          ...              ...   \n730  202205    충청북도             전체  일반용     132,291      275,561,839    \n731  202205    충청북도             전체  주택용     638,999      178,536,605    \n732  202205    충청북도             전체   합계   1,137,204    2,276,641,282    \n733  202205    황해북도             전체  주택용           1                0    \n734  202205    황해북도             전체   합계           1                0    \n\n                전기요금(원) 평균판매단가(원/kWh)  \n3      844,730,080,922         119.1   \n4    1,545,238,430,754         134.1   \n5       99,652,769,614          97.9   \n6    2,965,453,569,848         113.8   \n7      103,974,118,145          48.2   \n..                  ...           ...  \n730     35,426,326,300         128.6   \n731     20,600,049,361         115.4   \n732    234,127,600,595         102.8   \n733                  0             0   \n734                  0             0   \n\n[731 rows x 8 columns]",
      "text/html": "<div>\n<style scoped>\n    .dataframe tbody tr th:only-of-type {\n        vertical-align: middle;\n    }\n\n    .dataframe tbody tr th {\n        vertical-align: top;\n    }\n\n    .dataframe thead th {\n        text-align: right;\n    }\n</style>\n<table border=\"1\" class=\"dataframe\">\n  <thead>\n    <tr style=\"text-align: right;\">\n      <th></th>\n      <th>년월</th>\n      <th>시구</th>\n      <th>시군구</th>\n      <th>계약구분</th>\n      <th>고객호수(호)</th>\n      <th>사용량(kWh)</th>\n      <th>전기요금(원)</th>\n      <th>평균판매단가(원/kWh)</th>\n    </tr>\n  </thead>\n  <tbody>\n    <tr>\n      <th>3</th>\n      <td>202201</td>\n      <td>전체(시도)</td>\n      <td>전체(시 / 군 / 구)</td>\n      <td>주택용</td>\n      <td>15,737,787</td>\n      <td>7,092,815,490</td>\n      <td>844,730,080,922</td>\n      <td>119.1</td>\n    </tr>\n    <tr>\n      <th>4</th>\n      <td>202201</td>\n      <td>전체(시도)</td>\n      <td>전체(시 / 군 / 구)</td>\n      <td>일반용</td>\n      <td>3,373,949</td>\n      <td>11,518,841,629</td>\n      <td>1,545,238,430,754</td>\n      <td>134.1</td>\n    </tr>\n    <tr>\n      <th>5</th>\n      <td>202201</td>\n      <td>전체(시도)</td>\n      <td>전체(시 / 군 / 구)</td>\n      <td>교육용</td>\n      <td>20,996</td>\n      <td>1,017,613,102</td>\n      <td>99,652,769,614</td>\n      <td>97.9</td>\n    </tr>\n    <tr>\n      <th>6</th>\n      <td>202201</td>\n      <td>전체(시도)</td>\n      <td>전체(시 / 군 / 구)</td>\n      <td>산업용</td>\n      <td>434,515</td>\n      <td>26,069,752,354</td>\n      <td>2,965,453,569,848</td>\n      <td>113.8</td>\n    </tr>\n    <tr>\n      <th>7</th>\n      <td>202201</td>\n      <td>전체(시도)</td>\n      <td>전체(시 / 군 / 구)</td>\n      <td>농사용</td>\n      <td>1,976,665</td>\n      <td>2,157,527,601</td>\n      <td>103,974,118,145</td>\n      <td>48.2</td>\n    </tr>\n    <tr>\n      <th>...</th>\n      <td>...</td>\n      <td>...</td>\n      <td>...</td>\n      <td>...</td>\n      <td>...</td>\n      <td>...</td>\n      <td>...</td>\n      <td>...</td>\n    </tr>\n    <tr>\n      <th>730</th>\n      <td>202205</td>\n      <td>충청북도</td>\n      <td>전체</td>\n      <td>일반용</td>\n      <td>132,291</td>\n      <td>275,561,839</td>\n      <td>35,426,326,300</td>\n      <td>128.6</td>\n    </tr>\n    <tr>\n      <th>731</th>\n      <td>202205</td>\n      <td>충청북도</td>\n      <td>전체</td>\n      <td>주택용</td>\n      <td>638,999</td>\n      <td>178,536,605</td>\n      <td>20,600,049,361</td>\n      <td>115.4</td>\n    </tr>\n    <tr>\n      <th>732</th>\n      <td>202205</td>\n      <td>충청북도</td>\n      <td>전체</td>\n      <td>합계</td>\n      <td>1,137,204</td>\n      <td>2,276,641,282</td>\n      <td>234,127,600,595</td>\n      <td>102.8</td>\n    </tr>\n    <tr>\n      <th>733</th>\n      <td>202205</td>\n      <td>황해북도</td>\n      <td>전체</td>\n      <td>주택용</td>\n      <td>1</td>\n      <td>0</td>\n      <td>0</td>\n      <td>0</td>\n    </tr>\n    <tr>\n      <th>734</th>\n      <td>202205</td>\n      <td>황해북도</td>\n      <td>전체</td>\n      <td>합계</td>\n      <td>1</td>\n      <td>0</td>\n      <td>0</td>\n      <td>0</td>\n    </tr>\n  </tbody>\n</table>\n<p>731 rows × 8 columns</p>\n</div>"
     },
     "execution_count": 38,
     "metadata": {},
     "output_type": "execute_result"
    }
   ],
   "source": [
    "df.columns = a\n",
    "df"
   ],
   "metadata": {
    "collapsed": false,
    "pycharm": {
     "name": "#%%\n"
    }
   }
  },
  {
   "cell_type": "code",
   "execution_count": 40,
   "outputs": [
    {
     "data": {
      "text/plain": "        년월      시구            시군구 계약구분      고객호수(호)         사용량(kWh)  \\\n3   202201  전체(시도)  전체(시 / 군 / 구)  주택용  15,737,787    7,092,815,490    \n4   202201  전체(시도)  전체(시 / 군 / 구)  일반용   3,373,949   11,518,841,629    \n5   202201  전체(시도)  전체(시 / 군 / 구)  교육용      20,996    1,017,613,102    \n6   202201  전체(시도)  전체(시 / 군 / 구)  산업용     434,515   26,069,752,354    \n7   202201  전체(시도)  전체(시 / 군 / 구)  농사용   1,976,665    2,157,527,601    \n8   202201  전체(시도)  전체(시 / 군 / 구)  가로등   2,214,680      328,875,859    \n9   202201  전체(시도)  전체(시 / 군 / 구)  심 야     721,855    1,616,792,652    \n10  202202  전체(시도)  전체(시 / 군 / 구)  주택용  15,741,080    7,060,528,652    \n11  202202  전체(시도)  전체(시 / 군 / 구)  일반용   3,380,096   11,732,996,163    \n12  202202  전체(시도)  전체(시 / 군 / 구)  교육용      21,011      868,413,314    \n13  202202  전체(시도)  전체(시 / 군 / 구)  산업용     434,767   23,735,957,208    \n14  202202  전체(시도)  전체(시 / 군 / 구)  농사용   1,977,121    2,181,944,493    \n15  202202  전체(시도)  전체(시 / 군 / 구)  가로등   2,218,550      310,203,708    \n16  202202  전체(시도)  전체(시 / 군 / 구)  심 야     719,631    1,651,427,730    \n17  202203  전체(시도)  전체(시 / 군 / 구)  주택용  15,747,870    6,223,157,413    \n18  202203  전체(시도)  전체(시 / 군 / 구)  일반용   3,385,728   10,164,688,166    \n19  202203  전체(시도)  전체(시 / 군 / 구)  교육용      21,007      828,257,212    \n20  202203  전체(시도)  전체(시 / 군 / 구)  산업용     434,864   25,171,140,819    \n21  202203  전체(시도)  전체(시 / 군 / 구)  농사용   2,528,525    1,872,358,280    \n22  202203  전체(시도)  전체(시 / 군 / 구)  가로등   2,221,968      286,558,649    \n23  202203  전체(시도)  전체(시 / 군 / 구)  심 야     717,845    1,290,645,844    \n24  202204  전체(시도)  전체(시 / 군 / 구)  주택용  15,757,790    6,285,886,096    \n25  202204  전체(시도)  전체(시 / 군 / 구)  일반용   3,395,530    9,389,482,294    \n26  202204  전체(시도)  전체(시 / 군 / 구)  교육용      20,981      710,421,572    \n27  202204  전체(시도)  전체(시 / 군 / 구)  산업용     435,332   24,455,290,187    \n28  202204  전체(시도)  전체(시 / 군 / 구)  농사용   2,076,247    1,655,504,780    \n29  202204  전체(시도)  전체(시 / 군 / 구)  가로등   2,241,266      282,644,222    \n30  202204  전체(시도)  전체(시 / 군 / 구)  심 야     716,163      979,051,169    \n31  202205  전체(시도)  전체(시 / 군 / 구)  주택용  15,761,570    5,779,665,068    \n32  202205  전체(시도)  전체(시 / 군 / 구)  일반용   3,403,431    9,001,666,664    \n33  202205  전체(시도)  전체(시 / 군 / 구)  교육용      20,964      553,398,406    \n34  202205  전체(시도)  전체(시 / 군 / 구)  산업용     435,785   24,585,743,421    \n35  202205  전체(시도)  전체(시 / 군 / 구)  농사용   2,004,356    1,445,037,112    \n36  202205  전체(시도)  전체(시 / 군 / 구)  가로등   2,251,185      264,707,512    \n37  202205  전체(시도)  전체(시 / 군 / 구)  심 야     714,168      574,775,696    \n38      합계      합계             합계   합계  123,265,278  229,143,770,537   \n\n               전기요금(원) 평균판매단가(원/kWh)  \n3     844,730,080,922         119.1   \n4   1,545,238,430,754         134.1   \n5      99,652,769,614          97.9   \n6   2,965,453,569,848         113.8   \n7     103,974,118,145          48.2   \n8      35,536,816,330         108.1   \n9     121,807,547,231          75.3   \n10    839,720,703,665         118.9   \n11  1,545,714,849,864         131.7   \n12     88,040,677,112         101.4   \n13  2,740,383,913,802         115.5   \n14    105,045,194,442          48.1   \n15     35,110,721,318         113.2   \n16    124,376,112,865          75.3   \n17    680,388,923,307         109.3   \n18  1,246,201,267,239         122.6   \n19     81,574,937,353          98.5   \n20  2,395,279,397,203          95.2   \n21     91,335,155,230          48.8   \n22     32,758,449,449         114.3   \n23     86,340,984,819          66.9   \n24    709,902,706,172         112.9   \n25  1,120,872,761,982         119.4   \n26     67,961,237,807          95.7   \n27  2,461,663,779,705         100.7   \n28     86,492,415,763          52.2   \n29     34,286,906,699         121.3   \n30     56,709,216,623          57.9   \n31    648,211,126,916         112.2   \n32  1,119,359,481,909         124.4   \n33     54,796,044,881          99.0   \n34  2,480,253,111,401         100.9   \n35     80,952,631,162          56.0   \n36     34,123,765,901         128.9   \n37     36,569,312,664          63.6   \n38  24,800,819,120,097         108.2  ",
      "text/html": "<div>\n<style scoped>\n    .dataframe tbody tr th:only-of-type {\n        vertical-align: middle;\n    }\n\n    .dataframe tbody tr th {\n        vertical-align: top;\n    }\n\n    .dataframe thead th {\n        text-align: right;\n    }\n</style>\n<table border=\"1\" class=\"dataframe\">\n  <thead>\n    <tr style=\"text-align: right;\">\n      <th></th>\n      <th>년월</th>\n      <th>시구</th>\n      <th>시군구</th>\n      <th>계약구분</th>\n      <th>고객호수(호)</th>\n      <th>사용량(kWh)</th>\n      <th>전기요금(원)</th>\n      <th>평균판매단가(원/kWh)</th>\n    </tr>\n  </thead>\n  <tbody>\n    <tr>\n      <th>3</th>\n      <td>202201</td>\n      <td>전체(시도)</td>\n      <td>전체(시 / 군 / 구)</td>\n      <td>주택용</td>\n      <td>15,737,787</td>\n      <td>7,092,815,490</td>\n      <td>844,730,080,922</td>\n      <td>119.1</td>\n    </tr>\n    <tr>\n      <th>4</th>\n      <td>202201</td>\n      <td>전체(시도)</td>\n      <td>전체(시 / 군 / 구)</td>\n      <td>일반용</td>\n      <td>3,373,949</td>\n      <td>11,518,841,629</td>\n      <td>1,545,238,430,754</td>\n      <td>134.1</td>\n    </tr>\n    <tr>\n      <th>5</th>\n      <td>202201</td>\n      <td>전체(시도)</td>\n      <td>전체(시 / 군 / 구)</td>\n      <td>교육용</td>\n      <td>20,996</td>\n      <td>1,017,613,102</td>\n      <td>99,652,769,614</td>\n      <td>97.9</td>\n    </tr>\n    <tr>\n      <th>6</th>\n      <td>202201</td>\n      <td>전체(시도)</td>\n      <td>전체(시 / 군 / 구)</td>\n      <td>산업용</td>\n      <td>434,515</td>\n      <td>26,069,752,354</td>\n      <td>2,965,453,569,848</td>\n      <td>113.8</td>\n    </tr>\n    <tr>\n      <th>7</th>\n      <td>202201</td>\n      <td>전체(시도)</td>\n      <td>전체(시 / 군 / 구)</td>\n      <td>농사용</td>\n      <td>1,976,665</td>\n      <td>2,157,527,601</td>\n      <td>103,974,118,145</td>\n      <td>48.2</td>\n    </tr>\n    <tr>\n      <th>8</th>\n      <td>202201</td>\n      <td>전체(시도)</td>\n      <td>전체(시 / 군 / 구)</td>\n      <td>가로등</td>\n      <td>2,214,680</td>\n      <td>328,875,859</td>\n      <td>35,536,816,330</td>\n      <td>108.1</td>\n    </tr>\n    <tr>\n      <th>9</th>\n      <td>202201</td>\n      <td>전체(시도)</td>\n      <td>전체(시 / 군 / 구)</td>\n      <td>심 야</td>\n      <td>721,855</td>\n      <td>1,616,792,652</td>\n      <td>121,807,547,231</td>\n      <td>75.3</td>\n    </tr>\n    <tr>\n      <th>10</th>\n      <td>202202</td>\n      <td>전체(시도)</td>\n      <td>전체(시 / 군 / 구)</td>\n      <td>주택용</td>\n      <td>15,741,080</td>\n      <td>7,060,528,652</td>\n      <td>839,720,703,665</td>\n      <td>118.9</td>\n    </tr>\n    <tr>\n      <th>11</th>\n      <td>202202</td>\n      <td>전체(시도)</td>\n      <td>전체(시 / 군 / 구)</td>\n      <td>일반용</td>\n      <td>3,380,096</td>\n      <td>11,732,996,163</td>\n      <td>1,545,714,849,864</td>\n      <td>131.7</td>\n    </tr>\n    <tr>\n      <th>12</th>\n      <td>202202</td>\n      <td>전체(시도)</td>\n      <td>전체(시 / 군 / 구)</td>\n      <td>교육용</td>\n      <td>21,011</td>\n      <td>868,413,314</td>\n      <td>88,040,677,112</td>\n      <td>101.4</td>\n    </tr>\n    <tr>\n      <th>13</th>\n      <td>202202</td>\n      <td>전체(시도)</td>\n      <td>전체(시 / 군 / 구)</td>\n      <td>산업용</td>\n      <td>434,767</td>\n      <td>23,735,957,208</td>\n      <td>2,740,383,913,802</td>\n      <td>115.5</td>\n    </tr>\n    <tr>\n      <th>14</th>\n      <td>202202</td>\n      <td>전체(시도)</td>\n      <td>전체(시 / 군 / 구)</td>\n      <td>농사용</td>\n      <td>1,977,121</td>\n      <td>2,181,944,493</td>\n      <td>105,045,194,442</td>\n      <td>48.1</td>\n    </tr>\n    <tr>\n      <th>15</th>\n      <td>202202</td>\n      <td>전체(시도)</td>\n      <td>전체(시 / 군 / 구)</td>\n      <td>가로등</td>\n      <td>2,218,550</td>\n      <td>310,203,708</td>\n      <td>35,110,721,318</td>\n      <td>113.2</td>\n    </tr>\n    <tr>\n      <th>16</th>\n      <td>202202</td>\n      <td>전체(시도)</td>\n      <td>전체(시 / 군 / 구)</td>\n      <td>심 야</td>\n      <td>719,631</td>\n      <td>1,651,427,730</td>\n      <td>124,376,112,865</td>\n      <td>75.3</td>\n    </tr>\n    <tr>\n      <th>17</th>\n      <td>202203</td>\n      <td>전체(시도)</td>\n      <td>전체(시 / 군 / 구)</td>\n      <td>주택용</td>\n      <td>15,747,870</td>\n      <td>6,223,157,413</td>\n      <td>680,388,923,307</td>\n      <td>109.3</td>\n    </tr>\n    <tr>\n      <th>18</th>\n      <td>202203</td>\n      <td>전체(시도)</td>\n      <td>전체(시 / 군 / 구)</td>\n      <td>일반용</td>\n      <td>3,385,728</td>\n      <td>10,164,688,166</td>\n      <td>1,246,201,267,239</td>\n      <td>122.6</td>\n    </tr>\n    <tr>\n      <th>19</th>\n      <td>202203</td>\n      <td>전체(시도)</td>\n      <td>전체(시 / 군 / 구)</td>\n      <td>교육용</td>\n      <td>21,007</td>\n      <td>828,257,212</td>\n      <td>81,574,937,353</td>\n      <td>98.5</td>\n    </tr>\n    <tr>\n      <th>20</th>\n      <td>202203</td>\n      <td>전체(시도)</td>\n      <td>전체(시 / 군 / 구)</td>\n      <td>산업용</td>\n      <td>434,864</td>\n      <td>25,171,140,819</td>\n      <td>2,395,279,397,203</td>\n      <td>95.2</td>\n    </tr>\n    <tr>\n      <th>21</th>\n      <td>202203</td>\n      <td>전체(시도)</td>\n      <td>전체(시 / 군 / 구)</td>\n      <td>농사용</td>\n      <td>2,528,525</td>\n      <td>1,872,358,280</td>\n      <td>91,335,155,230</td>\n      <td>48.8</td>\n    </tr>\n    <tr>\n      <th>22</th>\n      <td>202203</td>\n      <td>전체(시도)</td>\n      <td>전체(시 / 군 / 구)</td>\n      <td>가로등</td>\n      <td>2,221,968</td>\n      <td>286,558,649</td>\n      <td>32,758,449,449</td>\n      <td>114.3</td>\n    </tr>\n    <tr>\n      <th>23</th>\n      <td>202203</td>\n      <td>전체(시도)</td>\n      <td>전체(시 / 군 / 구)</td>\n      <td>심 야</td>\n      <td>717,845</td>\n      <td>1,290,645,844</td>\n      <td>86,340,984,819</td>\n      <td>66.9</td>\n    </tr>\n    <tr>\n      <th>24</th>\n      <td>202204</td>\n      <td>전체(시도)</td>\n      <td>전체(시 / 군 / 구)</td>\n      <td>주택용</td>\n      <td>15,757,790</td>\n      <td>6,285,886,096</td>\n      <td>709,902,706,172</td>\n      <td>112.9</td>\n    </tr>\n    <tr>\n      <th>25</th>\n      <td>202204</td>\n      <td>전체(시도)</td>\n      <td>전체(시 / 군 / 구)</td>\n      <td>일반용</td>\n      <td>3,395,530</td>\n      <td>9,389,482,294</td>\n      <td>1,120,872,761,982</td>\n      <td>119.4</td>\n    </tr>\n    <tr>\n      <th>26</th>\n      <td>202204</td>\n      <td>전체(시도)</td>\n      <td>전체(시 / 군 / 구)</td>\n      <td>교육용</td>\n      <td>20,981</td>\n      <td>710,421,572</td>\n      <td>67,961,237,807</td>\n      <td>95.7</td>\n    </tr>\n    <tr>\n      <th>27</th>\n      <td>202204</td>\n      <td>전체(시도)</td>\n      <td>전체(시 / 군 / 구)</td>\n      <td>산업용</td>\n      <td>435,332</td>\n      <td>24,455,290,187</td>\n      <td>2,461,663,779,705</td>\n      <td>100.7</td>\n    </tr>\n    <tr>\n      <th>28</th>\n      <td>202204</td>\n      <td>전체(시도)</td>\n      <td>전체(시 / 군 / 구)</td>\n      <td>농사용</td>\n      <td>2,076,247</td>\n      <td>1,655,504,780</td>\n      <td>86,492,415,763</td>\n      <td>52.2</td>\n    </tr>\n    <tr>\n      <th>29</th>\n      <td>202204</td>\n      <td>전체(시도)</td>\n      <td>전체(시 / 군 / 구)</td>\n      <td>가로등</td>\n      <td>2,241,266</td>\n      <td>282,644,222</td>\n      <td>34,286,906,699</td>\n      <td>121.3</td>\n    </tr>\n    <tr>\n      <th>30</th>\n      <td>202204</td>\n      <td>전체(시도)</td>\n      <td>전체(시 / 군 / 구)</td>\n      <td>심 야</td>\n      <td>716,163</td>\n      <td>979,051,169</td>\n      <td>56,709,216,623</td>\n      <td>57.9</td>\n    </tr>\n    <tr>\n      <th>31</th>\n      <td>202205</td>\n      <td>전체(시도)</td>\n      <td>전체(시 / 군 / 구)</td>\n      <td>주택용</td>\n      <td>15,761,570</td>\n      <td>5,779,665,068</td>\n      <td>648,211,126,916</td>\n      <td>112.2</td>\n    </tr>\n    <tr>\n      <th>32</th>\n      <td>202205</td>\n      <td>전체(시도)</td>\n      <td>전체(시 / 군 / 구)</td>\n      <td>일반용</td>\n      <td>3,403,431</td>\n      <td>9,001,666,664</td>\n      <td>1,119,359,481,909</td>\n      <td>124.4</td>\n    </tr>\n    <tr>\n      <th>33</th>\n      <td>202205</td>\n      <td>전체(시도)</td>\n      <td>전체(시 / 군 / 구)</td>\n      <td>교육용</td>\n      <td>20,964</td>\n      <td>553,398,406</td>\n      <td>54,796,044,881</td>\n      <td>99.0</td>\n    </tr>\n    <tr>\n      <th>34</th>\n      <td>202205</td>\n      <td>전체(시도)</td>\n      <td>전체(시 / 군 / 구)</td>\n      <td>산업용</td>\n      <td>435,785</td>\n      <td>24,585,743,421</td>\n      <td>2,480,253,111,401</td>\n      <td>100.9</td>\n    </tr>\n    <tr>\n      <th>35</th>\n      <td>202205</td>\n      <td>전체(시도)</td>\n      <td>전체(시 / 군 / 구)</td>\n      <td>농사용</td>\n      <td>2,004,356</td>\n      <td>1,445,037,112</td>\n      <td>80,952,631,162</td>\n      <td>56.0</td>\n    </tr>\n    <tr>\n      <th>36</th>\n      <td>202205</td>\n      <td>전체(시도)</td>\n      <td>전체(시 / 군 / 구)</td>\n      <td>가로등</td>\n      <td>2,251,185</td>\n      <td>264,707,512</td>\n      <td>34,123,765,901</td>\n      <td>128.9</td>\n    </tr>\n    <tr>\n      <th>37</th>\n      <td>202205</td>\n      <td>전체(시도)</td>\n      <td>전체(시 / 군 / 구)</td>\n      <td>심 야</td>\n      <td>714,168</td>\n      <td>574,775,696</td>\n      <td>36,569,312,664</td>\n      <td>63.6</td>\n    </tr>\n    <tr>\n      <th>38</th>\n      <td>합계</td>\n      <td>합계</td>\n      <td>합계</td>\n      <td>합계</td>\n      <td>123,265,278</td>\n      <td>229,143,770,537</td>\n      <td>24,800,819,120,097</td>\n      <td>108.2</td>\n    </tr>\n  </tbody>\n</table>\n</div>"
     },
     "execution_count": 40,
     "metadata": {},
     "output_type": "execute_result"
    }
   ],
   "source": [
    "df_2 = df.loc[:38]\n",
    "df_2\n"
   ],
   "metadata": {
    "collapsed": false,
    "pycharm": {
     "name": "#%%\n"
    }
   }
  },
  {
   "cell_type": "code",
   "execution_count": 41,
   "outputs": [],
   "source": [
    "df_2.to_csv(\"계약종별_전국_전력사용량.csv\" , mode = 'w' , encoding= 'cp949')"
   ],
   "metadata": {
    "collapsed": false,
    "pycharm": {
     "name": "#%%\n"
    }
   }
  },
  {
   "cell_type": "code",
   "execution_count": 45,
   "outputs": [
    {
     "data": {
      "text/plain": "         년월    시구 시군구 계약구분     고객호수(호)        사용량(kWh)           전기요금(원)  \\\n41   202201   강원도  전체  가로등    131,784      17,414,132     1,924,962,228    \n42   202201   강원도  전체  교육용      1,049      43,825,900     4,268,122,127    \n43   202201   강원도  전체  농사용    121,724      68,893,777     3,489,020,497    \n44   202201   강원도  전체  산업용     14,616     597,339,963    67,242,549,588    \n45   202201   강원도  전체  심 야     84,713     225,803,446    16,948,913,183    \n..      ...   ...  ..  ...         ...             ...               ...   \n730  202205  충청북도  전체  일반용    132,291     275,561,839    35,426,326,300    \n731  202205  충청북도  전체  주택용    638,999     178,536,605    20,600,049,361    \n732  202205  충청북도  전체   합계  1,137,204   2,276,641,282   234,127,600,595    \n733  202205  황해북도  전체  주택용          1               0                 0    \n734  202205  황해북도  전체   합계          1               0                 0    \n\n    평균판매단가(원/kWh)  \n41         110.5   \n42          97.4   \n43          50.6   \n44         112.6   \n45          75.1   \n..            ...  \n730        128.6   \n731        115.4   \n732        102.8   \n733            0   \n734            0   \n\n[694 rows x 8 columns]",
      "text/html": "<div>\n<style scoped>\n    .dataframe tbody tr th:only-of-type {\n        vertical-align: middle;\n    }\n\n    .dataframe tbody tr th {\n        vertical-align: top;\n    }\n\n    .dataframe thead th {\n        text-align: right;\n    }\n</style>\n<table border=\"1\" class=\"dataframe\">\n  <thead>\n    <tr style=\"text-align: right;\">\n      <th></th>\n      <th>년월</th>\n      <th>시구</th>\n      <th>시군구</th>\n      <th>계약구분</th>\n      <th>고객호수(호)</th>\n      <th>사용량(kWh)</th>\n      <th>전기요금(원)</th>\n      <th>평균판매단가(원/kWh)</th>\n    </tr>\n  </thead>\n  <tbody>\n    <tr>\n      <th>41</th>\n      <td>202201</td>\n      <td>강원도</td>\n      <td>전체</td>\n      <td>가로등</td>\n      <td>131,784</td>\n      <td>17,414,132</td>\n      <td>1,924,962,228</td>\n      <td>110.5</td>\n    </tr>\n    <tr>\n      <th>42</th>\n      <td>202201</td>\n      <td>강원도</td>\n      <td>전체</td>\n      <td>교육용</td>\n      <td>1,049</td>\n      <td>43,825,900</td>\n      <td>4,268,122,127</td>\n      <td>97.4</td>\n    </tr>\n    <tr>\n      <th>43</th>\n      <td>202201</td>\n      <td>강원도</td>\n      <td>전체</td>\n      <td>농사용</td>\n      <td>121,724</td>\n      <td>68,893,777</td>\n      <td>3,489,020,497</td>\n      <td>50.6</td>\n    </tr>\n    <tr>\n      <th>44</th>\n      <td>202201</td>\n      <td>강원도</td>\n      <td>전체</td>\n      <td>산업용</td>\n      <td>14,616</td>\n      <td>597,339,963</td>\n      <td>67,242,549,588</td>\n      <td>112.6</td>\n    </tr>\n    <tr>\n      <th>45</th>\n      <td>202201</td>\n      <td>강원도</td>\n      <td>전체</td>\n      <td>심 야</td>\n      <td>84,713</td>\n      <td>225,803,446</td>\n      <td>16,948,913,183</td>\n      <td>75.1</td>\n    </tr>\n    <tr>\n      <th>...</th>\n      <td>...</td>\n      <td>...</td>\n      <td>...</td>\n      <td>...</td>\n      <td>...</td>\n      <td>...</td>\n      <td>...</td>\n      <td>...</td>\n    </tr>\n    <tr>\n      <th>730</th>\n      <td>202205</td>\n      <td>충청북도</td>\n      <td>전체</td>\n      <td>일반용</td>\n      <td>132,291</td>\n      <td>275,561,839</td>\n      <td>35,426,326,300</td>\n      <td>128.6</td>\n    </tr>\n    <tr>\n      <th>731</th>\n      <td>202205</td>\n      <td>충청북도</td>\n      <td>전체</td>\n      <td>주택용</td>\n      <td>638,999</td>\n      <td>178,536,605</td>\n      <td>20,600,049,361</td>\n      <td>115.4</td>\n    </tr>\n    <tr>\n      <th>732</th>\n      <td>202205</td>\n      <td>충청북도</td>\n      <td>전체</td>\n      <td>합계</td>\n      <td>1,137,204</td>\n      <td>2,276,641,282</td>\n      <td>234,127,600,595</td>\n      <td>102.8</td>\n    </tr>\n    <tr>\n      <th>733</th>\n      <td>202205</td>\n      <td>황해북도</td>\n      <td>전체</td>\n      <td>주택용</td>\n      <td>1</td>\n      <td>0</td>\n      <td>0</td>\n      <td>0</td>\n    </tr>\n    <tr>\n      <th>734</th>\n      <td>202205</td>\n      <td>황해북도</td>\n      <td>전체</td>\n      <td>합계</td>\n      <td>1</td>\n      <td>0</td>\n      <td>0</td>\n      <td>0</td>\n    </tr>\n  </tbody>\n</table>\n<p>694 rows × 8 columns</p>\n</div>"
     },
     "execution_count": 45,
     "metadata": {},
     "output_type": "execute_result"
    }
   ],
   "source": [
    "df_3 = df.loc[41:]\n",
    "\n",
    "df_3"
   ],
   "metadata": {
    "collapsed": false,
    "pycharm": {
     "name": "#%%\n"
    }
   }
  },
  {
   "cell_type": "code",
   "execution_count": 52,
   "outputs": [
    {
     "data": {
      "text/plain": "['강원도',\n '경기도',\n '경상남도',\n '경상북도',\n '광주광역시',\n '대구광역시',\n '대전광역시',\n '부산광역시',\n '서울특별시',\n '세종특별자치시',\n '울산광역시',\n '인천광역시',\n '전라남도',\n '전라북도',\n '제주특별자치도',\n '충청남도',\n '충청북도',\n '황해북도']"
     },
     "execution_count": 52,
     "metadata": {},
     "output_type": "execute_result"
    }
   ],
   "source": [
    "Sigu = list(set(df_3['시구'].tolist()))\n",
    "\n",
    "Sigu.sort()\n",
    "\n",
    "Sigu"
   ],
   "metadata": {
    "collapsed": false,
    "pycharm": {
     "name": "#%%\n"
    }
   }
  },
  {
   "cell_type": "code",
   "execution_count": 54,
   "outputs": [
    {
     "data": {
      "text/plain": "['202201', '202202', '202203', '202204', '202205']"
     },
     "execution_count": 54,
     "metadata": {},
     "output_type": "execute_result"
    }
   ],
   "source": [
    "YearMonth = list(set(df_3['년월'].tolist()))\n",
    "\n",
    "YearMonth.sort()\n",
    "YearMonth"
   ],
   "metadata": {
    "collapsed": false,
    "pycharm": {
     "name": "#%%\n"
    }
   }
  },
  {
   "cell_type": "code",
   "execution_count": 55,
   "outputs": [
    {
     "data": {
      "text/plain": "['가로등', '교육용', '농사용', '산업용', '심 야', '일반용', '주택용', '합계']"
     },
     "execution_count": 55,
     "metadata": {},
     "output_type": "execute_result"
    }
   ],
   "source": [
    "Gayeak = list(set(df_3['계약구분'].tolist()))\n",
    "\n",
    "Gayeak.sort()\n",
    "Gayeak"
   ],
   "metadata": {
    "collapsed": false,
    "pycharm": {
     "name": "#%%\n"
    }
   }
  },
  {
   "cell_type": "code",
   "execution_count": 66,
   "outputs": [
    {
     "ename": "ValueError",
     "evalue": "could not convert string to float: '520,419,913 '",
     "output_type": "error",
     "traceback": [
      "\u001B[1;31m---------------------------------------------------------------------------\u001B[0m",
      "\u001B[1;31mValueError\u001B[0m                                Traceback (most recent call last)",
      "Input \u001B[1;32mIn [66]\u001B[0m, in \u001B[0;36m<cell line: 2>\u001B[1;34m()\u001B[0m\n\u001B[0;32m      1\u001B[0m Gangwon \u001B[38;5;241m=\u001B[39m df_3\u001B[38;5;241m.\u001B[39mloc[(df_3[\u001B[38;5;124m'\u001B[39m\u001B[38;5;124m계약구분\u001B[39m\u001B[38;5;124m'\u001B[39m] \u001B[38;5;241m==\u001B[39m\u001B[38;5;124m'\u001B[39m\u001B[38;5;124m일반용\u001B[39m\u001B[38;5;124m'\u001B[39m) \u001B[38;5;241m&\u001B[39m(df_3[\u001B[38;5;124m'\u001B[39m\u001B[38;5;124m시구\u001B[39m\u001B[38;5;124m'\u001B[39m] \u001B[38;5;241m==\u001B[39m\u001B[38;5;124m'\u001B[39m\u001B[38;5;124m강원도\u001B[39m\u001B[38;5;124m'\u001B[39m )]\n\u001B[1;32m----> 2\u001B[0m Gangwon \u001B[38;5;241m=\u001B[39m \u001B[43mGangwon\u001B[49m\u001B[38;5;241;43m.\u001B[39;49m\u001B[43mastype\u001B[49m\u001B[43m(\u001B[49m\u001B[43m{\u001B[49m\u001B[38;5;124;43m'\u001B[39;49m\u001B[38;5;124;43m사용량(kWh)\u001B[39;49m\u001B[38;5;124;43m'\u001B[39;49m\u001B[43m \u001B[49m\u001B[43m:\u001B[49m\u001B[43m \u001B[49m\u001B[38;5;124;43m'\u001B[39;49m\u001B[38;5;124;43mfloat\u001B[39;49m\u001B[38;5;124;43m'\u001B[39;49m\u001B[43m}\u001B[49m\u001B[43m)\u001B[49m\n\u001B[0;32m      3\u001B[0m Gangwon\n",
      "File \u001B[1;32m~\\anaconda3\\lib\\site-packages\\pandas\\core\\generic.py:5898\u001B[0m, in \u001B[0;36mNDFrame.astype\u001B[1;34m(self, dtype, copy, errors)\u001B[0m\n\u001B[0;32m   5896\u001B[0m             res_col \u001B[38;5;241m=\u001B[39m col\u001B[38;5;241m.\u001B[39mcopy() \u001B[38;5;28;01mif\u001B[39;00m copy \u001B[38;5;28;01melse\u001B[39;00m col\n\u001B[0;32m   5897\u001B[0m         \u001B[38;5;28;01melse\u001B[39;00m:\n\u001B[1;32m-> 5898\u001B[0m             res_col \u001B[38;5;241m=\u001B[39m \u001B[43mcol\u001B[49m\u001B[38;5;241;43m.\u001B[39;49m\u001B[43mastype\u001B[49m\u001B[43m(\u001B[49m\u001B[43mdtype\u001B[49m\u001B[38;5;241;43m=\u001B[39;49m\u001B[43mcdt\u001B[49m\u001B[43m,\u001B[49m\u001B[43m \u001B[49m\u001B[43mcopy\u001B[49m\u001B[38;5;241;43m=\u001B[39;49m\u001B[43mcopy\u001B[49m\u001B[43m,\u001B[49m\u001B[43m \u001B[49m\u001B[43merrors\u001B[49m\u001B[38;5;241;43m=\u001B[39;49m\u001B[43merrors\u001B[49m\u001B[43m)\u001B[49m\n\u001B[0;32m   5899\u001B[0m         results\u001B[38;5;241m.\u001B[39mappend(res_col)\n\u001B[0;32m   5901\u001B[0m \u001B[38;5;28;01melif\u001B[39;00m is_extension_array_dtype(dtype) \u001B[38;5;129;01mand\u001B[39;00m \u001B[38;5;28mself\u001B[39m\u001B[38;5;241m.\u001B[39mndim \u001B[38;5;241m>\u001B[39m \u001B[38;5;241m1\u001B[39m:\n\u001B[0;32m   5902\u001B[0m     \u001B[38;5;66;03m# GH 18099/22869: columnwise conversion to extension dtype\u001B[39;00m\n\u001B[0;32m   5903\u001B[0m     \u001B[38;5;66;03m# GH 24704: use iloc to handle duplicate column names\u001B[39;00m\n\u001B[0;32m   5904\u001B[0m     \u001B[38;5;66;03m# TODO(EA2D): special case not needed with 2D EAs\u001B[39;00m\n",
      "File \u001B[1;32m~\\anaconda3\\lib\\site-packages\\pandas\\core\\generic.py:5912\u001B[0m, in \u001B[0;36mNDFrame.astype\u001B[1;34m(self, dtype, copy, errors)\u001B[0m\n\u001B[0;32m   5905\u001B[0m     results \u001B[38;5;241m=\u001B[39m [\n\u001B[0;32m   5906\u001B[0m         \u001B[38;5;28mself\u001B[39m\u001B[38;5;241m.\u001B[39miloc[:, i]\u001B[38;5;241m.\u001B[39mastype(dtype, copy\u001B[38;5;241m=\u001B[39mcopy)\n\u001B[0;32m   5907\u001B[0m         \u001B[38;5;28;01mfor\u001B[39;00m i \u001B[38;5;129;01min\u001B[39;00m \u001B[38;5;28mrange\u001B[39m(\u001B[38;5;28mlen\u001B[39m(\u001B[38;5;28mself\u001B[39m\u001B[38;5;241m.\u001B[39mcolumns))\n\u001B[0;32m   5908\u001B[0m     ]\n\u001B[0;32m   5910\u001B[0m \u001B[38;5;28;01melse\u001B[39;00m:\n\u001B[0;32m   5911\u001B[0m     \u001B[38;5;66;03m# else, only a single dtype is given\u001B[39;00m\n\u001B[1;32m-> 5912\u001B[0m     new_data \u001B[38;5;241m=\u001B[39m \u001B[38;5;28;43mself\u001B[39;49m\u001B[38;5;241;43m.\u001B[39;49m\u001B[43m_mgr\u001B[49m\u001B[38;5;241;43m.\u001B[39;49m\u001B[43mastype\u001B[49m\u001B[43m(\u001B[49m\u001B[43mdtype\u001B[49m\u001B[38;5;241;43m=\u001B[39;49m\u001B[43mdtype\u001B[49m\u001B[43m,\u001B[49m\u001B[43m \u001B[49m\u001B[43mcopy\u001B[49m\u001B[38;5;241;43m=\u001B[39;49m\u001B[43mcopy\u001B[49m\u001B[43m,\u001B[49m\u001B[43m \u001B[49m\u001B[43merrors\u001B[49m\u001B[38;5;241;43m=\u001B[39;49m\u001B[43merrors\u001B[49m\u001B[43m)\u001B[49m\n\u001B[0;32m   5913\u001B[0m     \u001B[38;5;28;01mreturn\u001B[39;00m \u001B[38;5;28mself\u001B[39m\u001B[38;5;241m.\u001B[39m_constructor(new_data)\u001B[38;5;241m.\u001B[39m__finalize__(\u001B[38;5;28mself\u001B[39m, method\u001B[38;5;241m=\u001B[39m\u001B[38;5;124m\"\u001B[39m\u001B[38;5;124mastype\u001B[39m\u001B[38;5;124m\"\u001B[39m)\n\u001B[0;32m   5915\u001B[0m \u001B[38;5;66;03m# GH 33113: handle empty frame or series\u001B[39;00m\n",
      "File \u001B[1;32m~\\anaconda3\\lib\\site-packages\\pandas\\core\\internals\\managers.py:419\u001B[0m, in \u001B[0;36mBaseBlockManager.astype\u001B[1;34m(self, dtype, copy, errors)\u001B[0m\n\u001B[0;32m    418\u001B[0m \u001B[38;5;28;01mdef\u001B[39;00m \u001B[38;5;21mastype\u001B[39m(\u001B[38;5;28mself\u001B[39m: T, dtype, copy: \u001B[38;5;28mbool\u001B[39m \u001B[38;5;241m=\u001B[39m \u001B[38;5;28;01mFalse\u001B[39;00m, errors: \u001B[38;5;28mstr\u001B[39m \u001B[38;5;241m=\u001B[39m \u001B[38;5;124m\"\u001B[39m\u001B[38;5;124mraise\u001B[39m\u001B[38;5;124m\"\u001B[39m) \u001B[38;5;241m-\u001B[39m\u001B[38;5;241m>\u001B[39m T:\n\u001B[1;32m--> 419\u001B[0m     \u001B[38;5;28;01mreturn\u001B[39;00m \u001B[38;5;28;43mself\u001B[39;49m\u001B[38;5;241;43m.\u001B[39;49m\u001B[43mapply\u001B[49m\u001B[43m(\u001B[49m\u001B[38;5;124;43m\"\u001B[39;49m\u001B[38;5;124;43mastype\u001B[39;49m\u001B[38;5;124;43m\"\u001B[39;49m\u001B[43m,\u001B[49m\u001B[43m \u001B[49m\u001B[43mdtype\u001B[49m\u001B[38;5;241;43m=\u001B[39;49m\u001B[43mdtype\u001B[49m\u001B[43m,\u001B[49m\u001B[43m \u001B[49m\u001B[43mcopy\u001B[49m\u001B[38;5;241;43m=\u001B[39;49m\u001B[43mcopy\u001B[49m\u001B[43m,\u001B[49m\u001B[43m \u001B[49m\u001B[43merrors\u001B[49m\u001B[38;5;241;43m=\u001B[39;49m\u001B[43merrors\u001B[49m\u001B[43m)\u001B[49m\n",
      "File \u001B[1;32m~\\anaconda3\\lib\\site-packages\\pandas\\core\\internals\\managers.py:304\u001B[0m, in \u001B[0;36mBaseBlockManager.apply\u001B[1;34m(self, f, align_keys, ignore_failures, **kwargs)\u001B[0m\n\u001B[0;32m    302\u001B[0m         applied \u001B[38;5;241m=\u001B[39m b\u001B[38;5;241m.\u001B[39mapply(f, \u001B[38;5;241m*\u001B[39m\u001B[38;5;241m*\u001B[39mkwargs)\n\u001B[0;32m    303\u001B[0m     \u001B[38;5;28;01melse\u001B[39;00m:\n\u001B[1;32m--> 304\u001B[0m         applied \u001B[38;5;241m=\u001B[39m \u001B[38;5;28mgetattr\u001B[39m(b, f)(\u001B[38;5;241m*\u001B[39m\u001B[38;5;241m*\u001B[39mkwargs)\n\u001B[0;32m    305\u001B[0m \u001B[38;5;28;01mexcept\u001B[39;00m (\u001B[38;5;167;01mTypeError\u001B[39;00m, \u001B[38;5;167;01mNotImplementedError\u001B[39;00m):\n\u001B[0;32m    306\u001B[0m     \u001B[38;5;28;01mif\u001B[39;00m \u001B[38;5;129;01mnot\u001B[39;00m ignore_failures:\n",
      "File \u001B[1;32m~\\anaconda3\\lib\\site-packages\\pandas\\core\\internals\\blocks.py:580\u001B[0m, in \u001B[0;36mBlock.astype\u001B[1;34m(self, dtype, copy, errors)\u001B[0m\n\u001B[0;32m    562\u001B[0m \u001B[38;5;124;03m\"\"\"\u001B[39;00m\n\u001B[0;32m    563\u001B[0m \u001B[38;5;124;03mCoerce to the new dtype.\u001B[39;00m\n\u001B[0;32m    564\u001B[0m \n\u001B[1;32m   (...)\u001B[0m\n\u001B[0;32m    576\u001B[0m \u001B[38;5;124;03mBlock\u001B[39;00m\n\u001B[0;32m    577\u001B[0m \u001B[38;5;124;03m\"\"\"\u001B[39;00m\n\u001B[0;32m    578\u001B[0m values \u001B[38;5;241m=\u001B[39m \u001B[38;5;28mself\u001B[39m\u001B[38;5;241m.\u001B[39mvalues\n\u001B[1;32m--> 580\u001B[0m new_values \u001B[38;5;241m=\u001B[39m \u001B[43mastype_array_safe\u001B[49m\u001B[43m(\u001B[49m\u001B[43mvalues\u001B[49m\u001B[43m,\u001B[49m\u001B[43m \u001B[49m\u001B[43mdtype\u001B[49m\u001B[43m,\u001B[49m\u001B[43m \u001B[49m\u001B[43mcopy\u001B[49m\u001B[38;5;241;43m=\u001B[39;49m\u001B[43mcopy\u001B[49m\u001B[43m,\u001B[49m\u001B[43m \u001B[49m\u001B[43merrors\u001B[49m\u001B[38;5;241;43m=\u001B[39;49m\u001B[43merrors\u001B[49m\u001B[43m)\u001B[49m\n\u001B[0;32m    582\u001B[0m new_values \u001B[38;5;241m=\u001B[39m maybe_coerce_values(new_values)\n\u001B[0;32m    583\u001B[0m newb \u001B[38;5;241m=\u001B[39m \u001B[38;5;28mself\u001B[39m\u001B[38;5;241m.\u001B[39mmake_block(new_values)\n",
      "File \u001B[1;32m~\\anaconda3\\lib\\site-packages\\pandas\\core\\dtypes\\cast.py:1292\u001B[0m, in \u001B[0;36mastype_array_safe\u001B[1;34m(values, dtype, copy, errors)\u001B[0m\n\u001B[0;32m   1289\u001B[0m     dtype \u001B[38;5;241m=\u001B[39m dtype\u001B[38;5;241m.\u001B[39mnumpy_dtype\n\u001B[0;32m   1291\u001B[0m \u001B[38;5;28;01mtry\u001B[39;00m:\n\u001B[1;32m-> 1292\u001B[0m     new_values \u001B[38;5;241m=\u001B[39m \u001B[43mastype_array\u001B[49m\u001B[43m(\u001B[49m\u001B[43mvalues\u001B[49m\u001B[43m,\u001B[49m\u001B[43m \u001B[49m\u001B[43mdtype\u001B[49m\u001B[43m,\u001B[49m\u001B[43m \u001B[49m\u001B[43mcopy\u001B[49m\u001B[38;5;241;43m=\u001B[39;49m\u001B[43mcopy\u001B[49m\u001B[43m)\u001B[49m\n\u001B[0;32m   1293\u001B[0m \u001B[38;5;28;01mexcept\u001B[39;00m (\u001B[38;5;167;01mValueError\u001B[39;00m, \u001B[38;5;167;01mTypeError\u001B[39;00m):\n\u001B[0;32m   1294\u001B[0m     \u001B[38;5;66;03m# e.g. astype_nansafe can fail on object-dtype of strings\u001B[39;00m\n\u001B[0;32m   1295\u001B[0m     \u001B[38;5;66;03m#  trying to convert to float\u001B[39;00m\n\u001B[0;32m   1296\u001B[0m     \u001B[38;5;28;01mif\u001B[39;00m errors \u001B[38;5;241m==\u001B[39m \u001B[38;5;124m\"\u001B[39m\u001B[38;5;124mignore\u001B[39m\u001B[38;5;124m\"\u001B[39m:\n",
      "File \u001B[1;32m~\\anaconda3\\lib\\site-packages\\pandas\\core\\dtypes\\cast.py:1237\u001B[0m, in \u001B[0;36mastype_array\u001B[1;34m(values, dtype, copy)\u001B[0m\n\u001B[0;32m   1234\u001B[0m     values \u001B[38;5;241m=\u001B[39m values\u001B[38;5;241m.\u001B[39mastype(dtype, copy\u001B[38;5;241m=\u001B[39mcopy)\n\u001B[0;32m   1236\u001B[0m \u001B[38;5;28;01melse\u001B[39;00m:\n\u001B[1;32m-> 1237\u001B[0m     values \u001B[38;5;241m=\u001B[39m \u001B[43mastype_nansafe\u001B[49m\u001B[43m(\u001B[49m\u001B[43mvalues\u001B[49m\u001B[43m,\u001B[49m\u001B[43m \u001B[49m\u001B[43mdtype\u001B[49m\u001B[43m,\u001B[49m\u001B[43m \u001B[49m\u001B[43mcopy\u001B[49m\u001B[38;5;241;43m=\u001B[39;49m\u001B[43mcopy\u001B[49m\u001B[43m)\u001B[49m\n\u001B[0;32m   1239\u001B[0m \u001B[38;5;66;03m# in pandas we don't store numpy str dtypes, so convert to object\u001B[39;00m\n\u001B[0;32m   1240\u001B[0m \u001B[38;5;28;01mif\u001B[39;00m \u001B[38;5;28misinstance\u001B[39m(dtype, np\u001B[38;5;241m.\u001B[39mdtype) \u001B[38;5;129;01mand\u001B[39;00m \u001B[38;5;28missubclass\u001B[39m(values\u001B[38;5;241m.\u001B[39mdtype\u001B[38;5;241m.\u001B[39mtype, \u001B[38;5;28mstr\u001B[39m):\n",
      "File \u001B[1;32m~\\anaconda3\\lib\\site-packages\\pandas\\core\\dtypes\\cast.py:1181\u001B[0m, in \u001B[0;36mastype_nansafe\u001B[1;34m(arr, dtype, copy, skipna)\u001B[0m\n\u001B[0;32m   1177\u001B[0m     \u001B[38;5;28;01mraise\u001B[39;00m \u001B[38;5;167;01mValueError\u001B[39;00m(msg)\n\u001B[0;32m   1179\u001B[0m \u001B[38;5;28;01mif\u001B[39;00m copy \u001B[38;5;129;01mor\u001B[39;00m is_object_dtype(arr\u001B[38;5;241m.\u001B[39mdtype) \u001B[38;5;129;01mor\u001B[39;00m is_object_dtype(dtype):\n\u001B[0;32m   1180\u001B[0m     \u001B[38;5;66;03m# Explicit copy, or required since NumPy can't view from / to object.\u001B[39;00m\n\u001B[1;32m-> 1181\u001B[0m     \u001B[38;5;28;01mreturn\u001B[39;00m \u001B[43marr\u001B[49m\u001B[38;5;241;43m.\u001B[39;49m\u001B[43mastype\u001B[49m\u001B[43m(\u001B[49m\u001B[43mdtype\u001B[49m\u001B[43m,\u001B[49m\u001B[43m \u001B[49m\u001B[43mcopy\u001B[49m\u001B[38;5;241;43m=\u001B[39;49m\u001B[38;5;28;43;01mTrue\u001B[39;49;00m\u001B[43m)\u001B[49m\n\u001B[0;32m   1183\u001B[0m \u001B[38;5;28;01mreturn\u001B[39;00m arr\u001B[38;5;241m.\u001B[39mastype(dtype, copy\u001B[38;5;241m=\u001B[39mcopy)\n",
      "\u001B[1;31mValueError\u001B[0m: could not convert string to float: '520,419,913 '"
     ]
    }
   ],
   "source": [
    "Gangwon = df_3.loc[(df_3['계약구분'] =='일반용') &(df_3['시구'] =='강원도' )]\n",
    "Gangwon = Gangwon.astype({'사용량(kWh)' : 'float'})\n",
    "Gangwon"
   ],
   "metadata": {
    "collapsed": false,
    "pycharm": {
     "name": "#%%\n"
    }
   }
  },
  {
   "cell_type": "code",
   "execution_count": 64,
   "outputs": [
    {
     "data": {
      "text/plain": "'520,419,913 503,901,688 415,769,457 377,426,572 348,726,563 '"
     },
     "execution_count": 64,
     "metadata": {},
     "output_type": "execute_result"
    }
   ],
   "source": [
    "Gangwon['사용량(kWh)'].sum()\n"
   ],
   "metadata": {
    "collapsed": false,
    "pycharm": {
     "name": "#%%\n"
    }
   }
  },
  {
   "cell_type": "code",
   "execution_count": null,
   "outputs": [],
   "source": [],
   "metadata": {
    "collapsed": false,
    "pycharm": {
     "name": "#%%\n"
    }
   }
  },
  {
   "cell_type": "code",
   "execution_count": null,
   "outputs": [],
   "source": [],
   "metadata": {
    "collapsed": false,
    "pycharm": {
     "name": "#%%\n"
    }
   }
  },
  {
   "cell_type": "code",
   "execution_count": null,
   "outputs": [],
   "source": [],
   "metadata": {
    "collapsed": false,
    "pycharm": {
     "name": "#%%\n"
    }
   }
  },
  {
   "cell_type": "code",
   "execution_count": null,
   "outputs": [],
   "source": [],
   "metadata": {
    "collapsed": false,
    "pycharm": {
     "name": "#%%\n"
    }
   }
  },
  {
   "cell_type": "code",
   "execution_count": null,
   "outputs": [],
   "source": [],
   "metadata": {
    "collapsed": false,
    "pycharm": {
     "name": "#%%\n"
    }
   }
  },
  {
   "cell_type": "code",
   "execution_count": 5,
   "outputs": [
    {
     "data": {
      "text/plain": "    지역별(1)         2012        2012.1         2013        2013.1         2014  \\\n0   지역별(1)  전력거래량 (GWh)  전력거래량 비율 (%)  전력거래량 (GWh)  전력거래량 비율 (%)  전력거래량 (GWh)   \n1       전국       471795           100       479541           100       490399   \n2      경기도        23567             5        28692             6        33053   \n3      강원도        10996           2.3        11631           2.4         9463   \n4     경상남도        59496          12.6        59730          12.5        56368   \n5     경상북도        66408          14.1        65007          13.6        73023   \n6     전라남도        60562          12.8        58081          12.1        63338   \n7     전라북도         7720           1.6         7637           1.6         7244   \n8     충청남도       108544            23       112811          23.5       108894   \n9     충청북도         1253           0.3         1249           0.3          877   \n10     제주도         2870           0.6         2964           0.6         2775   \n11      서울         1908           0.4         1603           0.3          770   \n12      인천        68214          14.5        73208          15.3        69097   \n13      대전          192             0          200             0          156   \n14      광주           41             0          449           0.1          396   \n15      대구          220             0          210             0          515   \n16      세종            8             0          618           0.1         2689   \n17      울산        12908           2.7        12659           2.6         9768   \n18      부산        46888           9.9        42790           8.9        51972   \n\n          2014.1         2015        2015.1         2016  ...         2017  \\\n0   전력거래량 비율 (%)  전력거래량 (GWh)  전력거래량 비율 (%)  전력거래량 (GWh)  ...  전력거래량 (GWh)   \n1            100       495361           100       509234  ...       520917   \n2            6.7        47342           9.6        53907  ...        58961   \n3            1.9         7581           1.5         9891  ...        19803   \n4           11.5        55843          11.3        55226  ...        52652   \n5           14.9        84168            17        77891  ...        79858   \n6           12.9        61013          12.3        63504  ...        60694   \n7            1.5         5944           1.2         8783  ...         8650   \n8           22.2       103645          20.9       104044  ...       122424   \n9            0.2          727           0.1         1019  ...         1096   \n10           0.6         2863           0.6         2935  ...         2944   \n11           0.2          742           0.1          836  ...          810   \n12          14.1        65179          13.2        62921  ...        59679   \n13             0          175             0          182  ...          203   \n14           0.1          356           0.1          381  ...          413   \n15           0.1         2815           0.6         3093  ...         2657   \n16           0.5         2787           0.6         2749  ...         2952   \n17             2         8741           1.8        11444  ...        19553   \n18          10.6        45438           9.2        50429  ...        27569   \n\n          2017.1         2018        2018.1      2019 p)     2019 p).1  \\\n0   전력거래량 비율 (%)  전력거래량 (GWh)  전력거래량 비율 (%)  전력거래량 (GWh)  전력거래량 비율 (%)   \n1            100       537061           100       529851           100   \n2           11.3        71010          13.2        72987          13.8   \n3            3.8        29474           5.5        26995           5.1   \n4           10.1        50336           9.4        45523           8.6   \n5           15.3        72015          13.4        75178          14.2   \n6           11.7        54295          10.1        50263           9.5   \n7            1.7        10367           1.9        10352             2   \n8           23.5       120715          22.5       114874          21.7   \n9            0.2         1349           0.3         1165           0.2   \n10           0.6         3215           0.6         3723           0.7   \n11           0.2          616           0.1         1776           0.3   \n12          11.5        59955          11.2        57443          10.8   \n13             0          196             0          174             0   \n14           0.1          422           0.1          429           0.1   \n15           0.5         2626           0.5         2835           0.5   \n16           0.6         3595           0.7         2371           0.4   \n17           3.8        19902           3.7        27826           5.3   \n18           5.3        36973           6.9        35938           6.8   \n\n        2020 p)     2020 p).1      2021 p)     2021 p).1  \n0   전력거래량 (GWh)  전력거래량 비율 (%)  전력거래량 (GWh)  전력거래량 비율 (%)  \n1        515983           100       537061           100  \n2         70924          13.7        80234          14.9  \n3         25593             5        27891           5.2  \n4         32762           6.3        41109           7.7  \n5         80581          15.6        75475          14.1  \n6         51713            10        54371          10.1  \n7          9871           1.9        10721             2  \n8        105447          20.4       102741          19.1  \n9          1551           0.3         1314           0.2  \n10         3829           0.7         4074           0.8  \n11         4956             1         5170             1  \n12        54608          10.6        58059          10.8  \n13          169             0          177             0  \n14          450           0.1          461           0.1  \n15         2511           0.5         2737           0.5  \n16         3425           0.7         3642           0.7  \n17        28611           5.5        30244           5.6  \n18        38982           7.6        38643           7.2  \n\n[19 rows x 21 columns]",
      "text/html": "<div>\n<style scoped>\n    .dataframe tbody tr th:only-of-type {\n        vertical-align: middle;\n    }\n\n    .dataframe tbody tr th {\n        vertical-align: top;\n    }\n\n    .dataframe thead th {\n        text-align: right;\n    }\n</style>\n<table border=\"1\" class=\"dataframe\">\n  <thead>\n    <tr style=\"text-align: right;\">\n      <th></th>\n      <th>지역별(1)</th>\n      <th>2012</th>\n      <th>2012.1</th>\n      <th>2013</th>\n      <th>2013.1</th>\n      <th>2014</th>\n      <th>2014.1</th>\n      <th>2015</th>\n      <th>2015.1</th>\n      <th>2016</th>\n      <th>...</th>\n      <th>2017</th>\n      <th>2017.1</th>\n      <th>2018</th>\n      <th>2018.1</th>\n      <th>2019 p)</th>\n      <th>2019 p).1</th>\n      <th>2020 p)</th>\n      <th>2020 p).1</th>\n      <th>2021 p)</th>\n      <th>2021 p).1</th>\n    </tr>\n  </thead>\n  <tbody>\n    <tr>\n      <th>0</th>\n      <td>지역별(1)</td>\n      <td>전력거래량 (GWh)</td>\n      <td>전력거래량 비율 (%)</td>\n      <td>전력거래량 (GWh)</td>\n      <td>전력거래량 비율 (%)</td>\n      <td>전력거래량 (GWh)</td>\n      <td>전력거래량 비율 (%)</td>\n      <td>전력거래량 (GWh)</td>\n      <td>전력거래량 비율 (%)</td>\n      <td>전력거래량 (GWh)</td>\n      <td>...</td>\n      <td>전력거래량 (GWh)</td>\n      <td>전력거래량 비율 (%)</td>\n      <td>전력거래량 (GWh)</td>\n      <td>전력거래량 비율 (%)</td>\n      <td>전력거래량 (GWh)</td>\n      <td>전력거래량 비율 (%)</td>\n      <td>전력거래량 (GWh)</td>\n      <td>전력거래량 비율 (%)</td>\n      <td>전력거래량 (GWh)</td>\n      <td>전력거래량 비율 (%)</td>\n    </tr>\n    <tr>\n      <th>1</th>\n      <td>전국</td>\n      <td>471795</td>\n      <td>100</td>\n      <td>479541</td>\n      <td>100</td>\n      <td>490399</td>\n      <td>100</td>\n      <td>495361</td>\n      <td>100</td>\n      <td>509234</td>\n      <td>...</td>\n      <td>520917</td>\n      <td>100</td>\n      <td>537061</td>\n      <td>100</td>\n      <td>529851</td>\n      <td>100</td>\n      <td>515983</td>\n      <td>100</td>\n      <td>537061</td>\n      <td>100</td>\n    </tr>\n    <tr>\n      <th>2</th>\n      <td>경기도</td>\n      <td>23567</td>\n      <td>5</td>\n      <td>28692</td>\n      <td>6</td>\n      <td>33053</td>\n      <td>6.7</td>\n      <td>47342</td>\n      <td>9.6</td>\n      <td>53907</td>\n      <td>...</td>\n      <td>58961</td>\n      <td>11.3</td>\n      <td>71010</td>\n      <td>13.2</td>\n      <td>72987</td>\n      <td>13.8</td>\n      <td>70924</td>\n      <td>13.7</td>\n      <td>80234</td>\n      <td>14.9</td>\n    </tr>\n    <tr>\n      <th>3</th>\n      <td>강원도</td>\n      <td>10996</td>\n      <td>2.3</td>\n      <td>11631</td>\n      <td>2.4</td>\n      <td>9463</td>\n      <td>1.9</td>\n      <td>7581</td>\n      <td>1.5</td>\n      <td>9891</td>\n      <td>...</td>\n      <td>19803</td>\n      <td>3.8</td>\n      <td>29474</td>\n      <td>5.5</td>\n      <td>26995</td>\n      <td>5.1</td>\n      <td>25593</td>\n      <td>5</td>\n      <td>27891</td>\n      <td>5.2</td>\n    </tr>\n    <tr>\n      <th>4</th>\n      <td>경상남도</td>\n      <td>59496</td>\n      <td>12.6</td>\n      <td>59730</td>\n      <td>12.5</td>\n      <td>56368</td>\n      <td>11.5</td>\n      <td>55843</td>\n      <td>11.3</td>\n      <td>55226</td>\n      <td>...</td>\n      <td>52652</td>\n      <td>10.1</td>\n      <td>50336</td>\n      <td>9.4</td>\n      <td>45523</td>\n      <td>8.6</td>\n      <td>32762</td>\n      <td>6.3</td>\n      <td>41109</td>\n      <td>7.7</td>\n    </tr>\n    <tr>\n      <th>5</th>\n      <td>경상북도</td>\n      <td>66408</td>\n      <td>14.1</td>\n      <td>65007</td>\n      <td>13.6</td>\n      <td>73023</td>\n      <td>14.9</td>\n      <td>84168</td>\n      <td>17</td>\n      <td>77891</td>\n      <td>...</td>\n      <td>79858</td>\n      <td>15.3</td>\n      <td>72015</td>\n      <td>13.4</td>\n      <td>75178</td>\n      <td>14.2</td>\n      <td>80581</td>\n      <td>15.6</td>\n      <td>75475</td>\n      <td>14.1</td>\n    </tr>\n    <tr>\n      <th>6</th>\n      <td>전라남도</td>\n      <td>60562</td>\n      <td>12.8</td>\n      <td>58081</td>\n      <td>12.1</td>\n      <td>63338</td>\n      <td>12.9</td>\n      <td>61013</td>\n      <td>12.3</td>\n      <td>63504</td>\n      <td>...</td>\n      <td>60694</td>\n      <td>11.7</td>\n      <td>54295</td>\n      <td>10.1</td>\n      <td>50263</td>\n      <td>9.5</td>\n      <td>51713</td>\n      <td>10</td>\n      <td>54371</td>\n      <td>10.1</td>\n    </tr>\n    <tr>\n      <th>7</th>\n      <td>전라북도</td>\n      <td>7720</td>\n      <td>1.6</td>\n      <td>7637</td>\n      <td>1.6</td>\n      <td>7244</td>\n      <td>1.5</td>\n      <td>5944</td>\n      <td>1.2</td>\n      <td>8783</td>\n      <td>...</td>\n      <td>8650</td>\n      <td>1.7</td>\n      <td>10367</td>\n      <td>1.9</td>\n      <td>10352</td>\n      <td>2</td>\n      <td>9871</td>\n      <td>1.9</td>\n      <td>10721</td>\n      <td>2</td>\n    </tr>\n    <tr>\n      <th>8</th>\n      <td>충청남도</td>\n      <td>108544</td>\n      <td>23</td>\n      <td>112811</td>\n      <td>23.5</td>\n      <td>108894</td>\n      <td>22.2</td>\n      <td>103645</td>\n      <td>20.9</td>\n      <td>104044</td>\n      <td>...</td>\n      <td>122424</td>\n      <td>23.5</td>\n      <td>120715</td>\n      <td>22.5</td>\n      <td>114874</td>\n      <td>21.7</td>\n      <td>105447</td>\n      <td>20.4</td>\n      <td>102741</td>\n      <td>19.1</td>\n    </tr>\n    <tr>\n      <th>9</th>\n      <td>충청북도</td>\n      <td>1253</td>\n      <td>0.3</td>\n      <td>1249</td>\n      <td>0.3</td>\n      <td>877</td>\n      <td>0.2</td>\n      <td>727</td>\n      <td>0.1</td>\n      <td>1019</td>\n      <td>...</td>\n      <td>1096</td>\n      <td>0.2</td>\n      <td>1349</td>\n      <td>0.3</td>\n      <td>1165</td>\n      <td>0.2</td>\n      <td>1551</td>\n      <td>0.3</td>\n      <td>1314</td>\n      <td>0.2</td>\n    </tr>\n    <tr>\n      <th>10</th>\n      <td>제주도</td>\n      <td>2870</td>\n      <td>0.6</td>\n      <td>2964</td>\n      <td>0.6</td>\n      <td>2775</td>\n      <td>0.6</td>\n      <td>2863</td>\n      <td>0.6</td>\n      <td>2935</td>\n      <td>...</td>\n      <td>2944</td>\n      <td>0.6</td>\n      <td>3215</td>\n      <td>0.6</td>\n      <td>3723</td>\n      <td>0.7</td>\n      <td>3829</td>\n      <td>0.7</td>\n      <td>4074</td>\n      <td>0.8</td>\n    </tr>\n    <tr>\n      <th>11</th>\n      <td>서울</td>\n      <td>1908</td>\n      <td>0.4</td>\n      <td>1603</td>\n      <td>0.3</td>\n      <td>770</td>\n      <td>0.2</td>\n      <td>742</td>\n      <td>0.1</td>\n      <td>836</td>\n      <td>...</td>\n      <td>810</td>\n      <td>0.2</td>\n      <td>616</td>\n      <td>0.1</td>\n      <td>1776</td>\n      <td>0.3</td>\n      <td>4956</td>\n      <td>1</td>\n      <td>5170</td>\n      <td>1</td>\n    </tr>\n    <tr>\n      <th>12</th>\n      <td>인천</td>\n      <td>68214</td>\n      <td>14.5</td>\n      <td>73208</td>\n      <td>15.3</td>\n      <td>69097</td>\n      <td>14.1</td>\n      <td>65179</td>\n      <td>13.2</td>\n      <td>62921</td>\n      <td>...</td>\n      <td>59679</td>\n      <td>11.5</td>\n      <td>59955</td>\n      <td>11.2</td>\n      <td>57443</td>\n      <td>10.8</td>\n      <td>54608</td>\n      <td>10.6</td>\n      <td>58059</td>\n      <td>10.8</td>\n    </tr>\n    <tr>\n      <th>13</th>\n      <td>대전</td>\n      <td>192</td>\n      <td>0</td>\n      <td>200</td>\n      <td>0</td>\n      <td>156</td>\n      <td>0</td>\n      <td>175</td>\n      <td>0</td>\n      <td>182</td>\n      <td>...</td>\n      <td>203</td>\n      <td>0</td>\n      <td>196</td>\n      <td>0</td>\n      <td>174</td>\n      <td>0</td>\n      <td>169</td>\n      <td>0</td>\n      <td>177</td>\n      <td>0</td>\n    </tr>\n    <tr>\n      <th>14</th>\n      <td>광주</td>\n      <td>41</td>\n      <td>0</td>\n      <td>449</td>\n      <td>0.1</td>\n      <td>396</td>\n      <td>0.1</td>\n      <td>356</td>\n      <td>0.1</td>\n      <td>381</td>\n      <td>...</td>\n      <td>413</td>\n      <td>0.1</td>\n      <td>422</td>\n      <td>0.1</td>\n      <td>429</td>\n      <td>0.1</td>\n      <td>450</td>\n      <td>0.1</td>\n      <td>461</td>\n      <td>0.1</td>\n    </tr>\n    <tr>\n      <th>15</th>\n      <td>대구</td>\n      <td>220</td>\n      <td>0</td>\n      <td>210</td>\n      <td>0</td>\n      <td>515</td>\n      <td>0.1</td>\n      <td>2815</td>\n      <td>0.6</td>\n      <td>3093</td>\n      <td>...</td>\n      <td>2657</td>\n      <td>0.5</td>\n      <td>2626</td>\n      <td>0.5</td>\n      <td>2835</td>\n      <td>0.5</td>\n      <td>2511</td>\n      <td>0.5</td>\n      <td>2737</td>\n      <td>0.5</td>\n    </tr>\n    <tr>\n      <th>16</th>\n      <td>세종</td>\n      <td>8</td>\n      <td>0</td>\n      <td>618</td>\n      <td>0.1</td>\n      <td>2689</td>\n      <td>0.5</td>\n      <td>2787</td>\n      <td>0.6</td>\n      <td>2749</td>\n      <td>...</td>\n      <td>2952</td>\n      <td>0.6</td>\n      <td>3595</td>\n      <td>0.7</td>\n      <td>2371</td>\n      <td>0.4</td>\n      <td>3425</td>\n      <td>0.7</td>\n      <td>3642</td>\n      <td>0.7</td>\n    </tr>\n    <tr>\n      <th>17</th>\n      <td>울산</td>\n      <td>12908</td>\n      <td>2.7</td>\n      <td>12659</td>\n      <td>2.6</td>\n      <td>9768</td>\n      <td>2</td>\n      <td>8741</td>\n      <td>1.8</td>\n      <td>11444</td>\n      <td>...</td>\n      <td>19553</td>\n      <td>3.8</td>\n      <td>19902</td>\n      <td>3.7</td>\n      <td>27826</td>\n      <td>5.3</td>\n      <td>28611</td>\n      <td>5.5</td>\n      <td>30244</td>\n      <td>5.6</td>\n    </tr>\n    <tr>\n      <th>18</th>\n      <td>부산</td>\n      <td>46888</td>\n      <td>9.9</td>\n      <td>42790</td>\n      <td>8.9</td>\n      <td>51972</td>\n      <td>10.6</td>\n      <td>45438</td>\n      <td>9.2</td>\n      <td>50429</td>\n      <td>...</td>\n      <td>27569</td>\n      <td>5.3</td>\n      <td>36973</td>\n      <td>6.9</td>\n      <td>35938</td>\n      <td>6.8</td>\n      <td>38982</td>\n      <td>7.6</td>\n      <td>38643</td>\n      <td>7.2</td>\n    </tr>\n  </tbody>\n</table>\n<p>19 rows × 21 columns</p>\n</div>"
     },
     "execution_count": 5,
     "metadata": {},
     "output_type": "execute_result"
    }
   ],
   "source": [
    "exchng"
   ],
   "metadata": {
    "collapsed": false,
    "pycharm": {
     "name": "#%%\n"
    }
   }
  },
  {
   "cell_type": "code",
   "execution_count": null,
   "outputs": [],
   "source": [],
   "metadata": {
    "collapsed": false,
    "pycharm": {
     "name": "#%%\n"
    }
   }
  }
 ],
 "metadata": {
  "kernelspec": {
   "display_name": "Python 3",
   "language": "python",
   "name": "python3"
  },
  "language_info": {
   "codemirror_mode": {
    "name": "ipython",
    "version": 2
   },
   "file_extension": ".py",
   "mimetype": "text/x-python",
   "name": "python",
   "nbconvert_exporter": "python",
   "pygments_lexer": "ipython2",
   "version": "2.7.6"
  }
 },
 "nbformat": 4,
 "nbformat_minor": 0
}