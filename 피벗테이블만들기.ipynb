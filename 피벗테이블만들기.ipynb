{
 "cells": [
  {
   "cell_type": "code",
   "execution_count": 3,
   "id": "4ffdd45c",
   "metadata": {
    "pycharm": {
     "name": "#%%\n"
    }
   },
   "outputs": [],
   "source": [
    "import pandas as pd"
   ]
  },
  {
   "cell_type": "code",
   "execution_count": 4,
   "id": "e101bace",
   "metadata": {
    "pycharm": {
     "name": "#%%\n"
    }
   },
   "outputs": [
    {
     "data": {
      "text/plain": "           년월   시구  시군구 계약구분 고객호수(호)  사용량(kWh)         비율\n0      201207  경기도  가평군  일반용   7,891  18740590  49.904604\n1      201207  경기도  가평군   합계  53,913  37552828        NaN\n2      201208  경기도  가평군  일반용   8,001  22827836  52.520078\n3      201208  경기도  가평군   합계  54,194  43464970        NaN\n4      201209  경기도  가평군  일반용   8,067  19561033  47.929931\n...       ...  ...  ...  ...     ...       ...        ...\n55127  202204  강원도  횡성군   합계  61,878  56473517        NaN\n55128  202205  강원도  횡성군  일반용   5,505   9179386  18.430195\n55129  202205  강원도  횡성군   합계  62,200  49806235        NaN\n55130  202206  강원도  횡성군  일반용   5,526   9643301  19.673426\n55131  202206  강원도  횡성군   합계  62,396  49016886        NaN\n\n[55132 rows x 7 columns]",
      "text/html": "<div>\n<style scoped>\n    .dataframe tbody tr th:only-of-type {\n        vertical-align: middle;\n    }\n\n    .dataframe tbody tr th {\n        vertical-align: top;\n    }\n\n    .dataframe thead th {\n        text-align: right;\n    }\n</style>\n<table border=\"1\" class=\"dataframe\">\n  <thead>\n    <tr style=\"text-align: right;\">\n      <th></th>\n      <th>년월</th>\n      <th>시구</th>\n      <th>시군구</th>\n      <th>계약구분</th>\n      <th>고객호수(호)</th>\n      <th>사용량(kWh)</th>\n      <th>비율</th>\n    </tr>\n  </thead>\n  <tbody>\n    <tr>\n      <th>0</th>\n      <td>201207</td>\n      <td>경기도</td>\n      <td>가평군</td>\n      <td>일반용</td>\n      <td>7,891</td>\n      <td>18740590</td>\n      <td>49.904604</td>\n    </tr>\n    <tr>\n      <th>1</th>\n      <td>201207</td>\n      <td>경기도</td>\n      <td>가평군</td>\n      <td>합계</td>\n      <td>53,913</td>\n      <td>37552828</td>\n      <td>NaN</td>\n    </tr>\n    <tr>\n      <th>2</th>\n      <td>201208</td>\n      <td>경기도</td>\n      <td>가평군</td>\n      <td>일반용</td>\n      <td>8,001</td>\n      <td>22827836</td>\n      <td>52.520078</td>\n    </tr>\n    <tr>\n      <th>3</th>\n      <td>201208</td>\n      <td>경기도</td>\n      <td>가평군</td>\n      <td>합계</td>\n      <td>54,194</td>\n      <td>43464970</td>\n      <td>NaN</td>\n    </tr>\n    <tr>\n      <th>4</th>\n      <td>201209</td>\n      <td>경기도</td>\n      <td>가평군</td>\n      <td>일반용</td>\n      <td>8,067</td>\n      <td>19561033</td>\n      <td>47.929931</td>\n    </tr>\n    <tr>\n      <th>...</th>\n      <td>...</td>\n      <td>...</td>\n      <td>...</td>\n      <td>...</td>\n      <td>...</td>\n      <td>...</td>\n      <td>...</td>\n    </tr>\n    <tr>\n      <th>55127</th>\n      <td>202204</td>\n      <td>강원도</td>\n      <td>횡성군</td>\n      <td>합계</td>\n      <td>61,878</td>\n      <td>56473517</td>\n      <td>NaN</td>\n    </tr>\n    <tr>\n      <th>55128</th>\n      <td>202205</td>\n      <td>강원도</td>\n      <td>횡성군</td>\n      <td>일반용</td>\n      <td>5,505</td>\n      <td>9179386</td>\n      <td>18.430195</td>\n    </tr>\n    <tr>\n      <th>55129</th>\n      <td>202205</td>\n      <td>강원도</td>\n      <td>횡성군</td>\n      <td>합계</td>\n      <td>62,200</td>\n      <td>49806235</td>\n      <td>NaN</td>\n    </tr>\n    <tr>\n      <th>55130</th>\n      <td>202206</td>\n      <td>강원도</td>\n      <td>횡성군</td>\n      <td>일반용</td>\n      <td>5,526</td>\n      <td>9643301</td>\n      <td>19.673426</td>\n    </tr>\n    <tr>\n      <th>55131</th>\n      <td>202206</td>\n      <td>강원도</td>\n      <td>횡성군</td>\n      <td>합계</td>\n      <td>62,396</td>\n      <td>49016886</td>\n      <td>NaN</td>\n    </tr>\n  </tbody>\n</table>\n<p>55132 rows × 7 columns</p>\n</div>"
     },
     "execution_count": 4,
     "metadata": {},
     "output_type": "execute_result"
    }
   ],
   "source": [
    "df = pd.read_csv('2012-2022전국.csv')\n",
    "df"
   ]
  },
  {
   "cell_type": "code",
   "execution_count": 5,
   "id": "8e94c381",
   "metadata": {
    "pycharm": {
     "name": "#%%\n"
    }
   },
   "outputs": [],
   "source": [
    "df = df[df.isin({'시구' : ['서울특별시','부산광역시','울산광역시','대전광역시','대구광역시','인천광역시','광주광역시']})['시구']]"
   ]
  },
  {
   "cell_type": "code",
   "execution_count": 6,
   "id": "a6aa06cf",
   "metadata": {
    "pycharm": {
     "name": "#%%\n"
    }
   },
   "outputs": [
    {
     "data": {
      "text/plain": "           년월     시구   시군구 계약구분  고객호수(호)   사용량(kWh)         비율\n240    201207  서울특별시   강남구  일반용   46,932  326322519  74.842229\n241    201207  서울특별시   강남구   합계  193,462  436013897        NaN\n242    201208  서울특별시   강남구  일반용   47,024  363036206  73.135339\n243    201208  서울특별시   강남구   합계  193,705  496389585        NaN\n244    201209  서울특별시   강남구  일반용   47,041  309702307  74.779928\n...       ...    ...   ...  ...      ...        ...        ...\n53687  202204  부산광역시  해운대구   합계   94,877  145094704        NaN\n53688  202205  부산광역시  해운대구  일반용   15,180   67573000  47.339948\n53689  202205  부산광역시  해운대구   합계   94,626  142739913        NaN\n53690  202206  부산광역시  해운대구  일반용   15,173   74417099  49.167258\n53691  202206  부산광역시  해운대구   합계   94,550  151354991        NaN\n\n[17760 rows x 7 columns]",
      "text/html": "<div>\n<style scoped>\n    .dataframe tbody tr th:only-of-type {\n        vertical-align: middle;\n    }\n\n    .dataframe tbody tr th {\n        vertical-align: top;\n    }\n\n    .dataframe thead th {\n        text-align: right;\n    }\n</style>\n<table border=\"1\" class=\"dataframe\">\n  <thead>\n    <tr style=\"text-align: right;\">\n      <th></th>\n      <th>년월</th>\n      <th>시구</th>\n      <th>시군구</th>\n      <th>계약구분</th>\n      <th>고객호수(호)</th>\n      <th>사용량(kWh)</th>\n      <th>비율</th>\n    </tr>\n  </thead>\n  <tbody>\n    <tr>\n      <th>240</th>\n      <td>201207</td>\n      <td>서울특별시</td>\n      <td>강남구</td>\n      <td>일반용</td>\n      <td>46,932</td>\n      <td>326322519</td>\n      <td>74.842229</td>\n    </tr>\n    <tr>\n      <th>241</th>\n      <td>201207</td>\n      <td>서울특별시</td>\n      <td>강남구</td>\n      <td>합계</td>\n      <td>193,462</td>\n      <td>436013897</td>\n      <td>NaN</td>\n    </tr>\n    <tr>\n      <th>242</th>\n      <td>201208</td>\n      <td>서울특별시</td>\n      <td>강남구</td>\n      <td>일반용</td>\n      <td>47,024</td>\n      <td>363036206</td>\n      <td>73.135339</td>\n    </tr>\n    <tr>\n      <th>243</th>\n      <td>201208</td>\n      <td>서울특별시</td>\n      <td>강남구</td>\n      <td>합계</td>\n      <td>193,705</td>\n      <td>496389585</td>\n      <td>NaN</td>\n    </tr>\n    <tr>\n      <th>244</th>\n      <td>201209</td>\n      <td>서울특별시</td>\n      <td>강남구</td>\n      <td>일반용</td>\n      <td>47,041</td>\n      <td>309702307</td>\n      <td>74.779928</td>\n    </tr>\n    <tr>\n      <th>...</th>\n      <td>...</td>\n      <td>...</td>\n      <td>...</td>\n      <td>...</td>\n      <td>...</td>\n      <td>...</td>\n      <td>...</td>\n    </tr>\n    <tr>\n      <th>53687</th>\n      <td>202204</td>\n      <td>부산광역시</td>\n      <td>해운대구</td>\n      <td>합계</td>\n      <td>94,877</td>\n      <td>145094704</td>\n      <td>NaN</td>\n    </tr>\n    <tr>\n      <th>53688</th>\n      <td>202205</td>\n      <td>부산광역시</td>\n      <td>해운대구</td>\n      <td>일반용</td>\n      <td>15,180</td>\n      <td>67573000</td>\n      <td>47.339948</td>\n    </tr>\n    <tr>\n      <th>53689</th>\n      <td>202205</td>\n      <td>부산광역시</td>\n      <td>해운대구</td>\n      <td>합계</td>\n      <td>94,626</td>\n      <td>142739913</td>\n      <td>NaN</td>\n    </tr>\n    <tr>\n      <th>53690</th>\n      <td>202206</td>\n      <td>부산광역시</td>\n      <td>해운대구</td>\n      <td>일반용</td>\n      <td>15,173</td>\n      <td>74417099</td>\n      <td>49.167258</td>\n    </tr>\n    <tr>\n      <th>53691</th>\n      <td>202206</td>\n      <td>부산광역시</td>\n      <td>해운대구</td>\n      <td>합계</td>\n      <td>94,550</td>\n      <td>151354991</td>\n      <td>NaN</td>\n    </tr>\n  </tbody>\n</table>\n<p>17760 rows × 7 columns</p>\n</div>"
     },
     "execution_count": 6,
     "metadata": {},
     "output_type": "execute_result"
    }
   ],
   "source": [
    "df"
   ]
  },
  {
   "cell_type": "code",
   "execution_count": 7,
   "id": "c4b78f00",
   "metadata": {
    "pycharm": {
     "name": "#%%\n"
    }
   },
   "outputs": [],
   "source": [
    "df = df.groupby(['시구','년월','계약구분']).sum().reset_index()"
   ]
  },
  {
   "cell_type": "code",
   "execution_count": 8,
   "id": "39c39330",
   "metadata": {
    "pycharm": {
     "name": "#%%\n"
    }
   },
   "outputs": [
    {
     "data": {
      "text/plain": "         시구      년월 계약구분    사용량(kWh)          비율\n0     광주광역시  201207  일반용   220724511  209.325141\n1     광주광역시  201207   합계   660058978    0.000000\n2     광주광역시  201208  일반용   261255159  214.083330\n3     광주광역시  201208   합계   734888703    0.000000\n4     광주광역시  201209  일반용   229827317  210.112342\n...     ...     ...  ...         ...         ...\n1675  인천광역시  202204   합계  2021334980    0.000000\n1676  인천광역시  202205  일반용   462641558  295.699852\n1677  인천광역시  202205   합계  1940036207    0.000000\n1678  인천광역시  202206  일반용   516906603  308.649395\n1679  인천광역시  202206   합계  1970250933    0.000000\n\n[1680 rows x 5 columns]",
      "text/html": "<div>\n<style scoped>\n    .dataframe tbody tr th:only-of-type {\n        vertical-align: middle;\n    }\n\n    .dataframe tbody tr th {\n        vertical-align: top;\n    }\n\n    .dataframe thead th {\n        text-align: right;\n    }\n</style>\n<table border=\"1\" class=\"dataframe\">\n  <thead>\n    <tr style=\"text-align: right;\">\n      <th></th>\n      <th>시구</th>\n      <th>년월</th>\n      <th>계약구분</th>\n      <th>사용량(kWh)</th>\n      <th>비율</th>\n    </tr>\n  </thead>\n  <tbody>\n    <tr>\n      <th>0</th>\n      <td>광주광역시</td>\n      <td>201207</td>\n      <td>일반용</td>\n      <td>220724511</td>\n      <td>209.325141</td>\n    </tr>\n    <tr>\n      <th>1</th>\n      <td>광주광역시</td>\n      <td>201207</td>\n      <td>합계</td>\n      <td>660058978</td>\n      <td>0.000000</td>\n    </tr>\n    <tr>\n      <th>2</th>\n      <td>광주광역시</td>\n      <td>201208</td>\n      <td>일반용</td>\n      <td>261255159</td>\n      <td>214.083330</td>\n    </tr>\n    <tr>\n      <th>3</th>\n      <td>광주광역시</td>\n      <td>201208</td>\n      <td>합계</td>\n      <td>734888703</td>\n      <td>0.000000</td>\n    </tr>\n    <tr>\n      <th>4</th>\n      <td>광주광역시</td>\n      <td>201209</td>\n      <td>일반용</td>\n      <td>229827317</td>\n      <td>210.112342</td>\n    </tr>\n    <tr>\n      <th>...</th>\n      <td>...</td>\n      <td>...</td>\n      <td>...</td>\n      <td>...</td>\n      <td>...</td>\n    </tr>\n    <tr>\n      <th>1675</th>\n      <td>인천광역시</td>\n      <td>202204</td>\n      <td>합계</td>\n      <td>2021334980</td>\n      <td>0.000000</td>\n    </tr>\n    <tr>\n      <th>1676</th>\n      <td>인천광역시</td>\n      <td>202205</td>\n      <td>일반용</td>\n      <td>462641558</td>\n      <td>295.699852</td>\n    </tr>\n    <tr>\n      <th>1677</th>\n      <td>인천광역시</td>\n      <td>202205</td>\n      <td>합계</td>\n      <td>1940036207</td>\n      <td>0.000000</td>\n    </tr>\n    <tr>\n      <th>1678</th>\n      <td>인천광역시</td>\n      <td>202206</td>\n      <td>일반용</td>\n      <td>516906603</td>\n      <td>308.649395</td>\n    </tr>\n    <tr>\n      <th>1679</th>\n      <td>인천광역시</td>\n      <td>202206</td>\n      <td>합계</td>\n      <td>1970250933</td>\n      <td>0.000000</td>\n    </tr>\n  </tbody>\n</table>\n<p>1680 rows × 5 columns</p>\n</div>"
     },
     "execution_count": 8,
     "metadata": {},
     "output_type": "execute_result"
    }
   ],
   "source": [
    "df"
   ]
  },
  {
   "cell_type": "code",
   "execution_count": 9,
   "id": "1644c1ee",
   "metadata": {
    "pycharm": {
     "name": "#%%\n"
    }
   },
   "outputs": [
    {
     "data": {
      "text/plain": "계약구분      년월     시구         일반용          합계\n0     201207  광주광역시   220724511   660058978\n1     201207  대구광역시   360183692  1214719767\n2     201207  대전광역시   276759379   752157780\n3     201207  부산광역시   520765719  1671135507\n4     201207  서울특별시  2288831156  4075847429\n..       ...    ...         ...         ...\n835   202206  대전광역시   314890919   793085502\n836   202206  부산광역시   557332225  1723002765\n837   202206  서울특별시  2099202516  3807869835\n838   202206  울산광역시   175245992  2610376170\n839   202206  인천광역시   516906603  1970250933\n\n[840 rows x 4 columns]",
      "text/html": "<div>\n<style scoped>\n    .dataframe tbody tr th:only-of-type {\n        vertical-align: middle;\n    }\n\n    .dataframe tbody tr th {\n        vertical-align: top;\n    }\n\n    .dataframe thead th {\n        text-align: right;\n    }\n</style>\n<table border=\"1\" class=\"dataframe\">\n  <thead>\n    <tr style=\"text-align: right;\">\n      <th>계약구분</th>\n      <th>년월</th>\n      <th>시구</th>\n      <th>일반용</th>\n      <th>합계</th>\n    </tr>\n  </thead>\n  <tbody>\n    <tr>\n      <th>0</th>\n      <td>201207</td>\n      <td>광주광역시</td>\n      <td>220724511</td>\n      <td>660058978</td>\n    </tr>\n    <tr>\n      <th>1</th>\n      <td>201207</td>\n      <td>대구광역시</td>\n      <td>360183692</td>\n      <td>1214719767</td>\n    </tr>\n    <tr>\n      <th>2</th>\n      <td>201207</td>\n      <td>대전광역시</td>\n      <td>276759379</td>\n      <td>752157780</td>\n    </tr>\n    <tr>\n      <th>3</th>\n      <td>201207</td>\n      <td>부산광역시</td>\n      <td>520765719</td>\n      <td>1671135507</td>\n    </tr>\n    <tr>\n      <th>4</th>\n      <td>201207</td>\n      <td>서울특별시</td>\n      <td>2288831156</td>\n      <td>4075847429</td>\n    </tr>\n    <tr>\n      <th>...</th>\n      <td>...</td>\n      <td>...</td>\n      <td>...</td>\n      <td>...</td>\n    </tr>\n    <tr>\n      <th>835</th>\n      <td>202206</td>\n      <td>대전광역시</td>\n      <td>314890919</td>\n      <td>793085502</td>\n    </tr>\n    <tr>\n      <th>836</th>\n      <td>202206</td>\n      <td>부산광역시</td>\n      <td>557332225</td>\n      <td>1723002765</td>\n    </tr>\n    <tr>\n      <th>837</th>\n      <td>202206</td>\n      <td>서울특별시</td>\n      <td>2099202516</td>\n      <td>3807869835</td>\n    </tr>\n    <tr>\n      <th>838</th>\n      <td>202206</td>\n      <td>울산광역시</td>\n      <td>175245992</td>\n      <td>2610376170</td>\n    </tr>\n    <tr>\n      <th>839</th>\n      <td>202206</td>\n      <td>인천광역시</td>\n      <td>516906603</td>\n      <td>1970250933</td>\n    </tr>\n  </tbody>\n</table>\n<p>840 rows × 4 columns</p>\n</div>"
     },
     "execution_count": 9,
     "metadata": {},
     "output_type": "execute_result"
    }
   ],
   "source": [
    "df2 = pd.pivot_table(df, index = ['년월','시구'], columns = '계약구분', values='사용량(kWh)').reset_index()\n",
    "df2"
   ]
  },
  {
   "cell_type": "code",
   "execution_count": 10,
   "id": "7f7080ad",
   "metadata": {
    "pycharm": {
     "name": "#%%\n"
    }
   },
   "outputs": [
    {
     "data": {
      "text/plain": "계약구분      년월     시구         일반용          합계     비율    시군구\n0     201207  광주광역시   220724511   660058978  33.44  광주광역시\n1     201207  대구광역시   360183692  1214719767  29.65  대구광역시\n2     201207  대전광역시   276759379   752157780  36.80  대전광역시\n3     201207  부산광역시   520765719  1671135507  31.16  부산광역시\n4     201207  서울특별시  2288831156  4075847429  56.16  서울특별시\n..       ...    ...         ...         ...    ...    ...\n835   202206  대전광역시   314890919   793085502  39.70  대전광역시\n836   202206  부산광역시   557332225  1723002765  32.35  부산광역시\n837   202206  서울특별시  2099202516  3807869835  55.13  서울특별시\n838   202206  울산광역시   175245992  2610376170   6.71  울산광역시\n839   202206  인천광역시   516906603  1970250933  26.24  인천광역시\n\n[840 rows x 6 columns]",
      "text/html": "<div>\n<style scoped>\n    .dataframe tbody tr th:only-of-type {\n        vertical-align: middle;\n    }\n\n    .dataframe tbody tr th {\n        vertical-align: top;\n    }\n\n    .dataframe thead th {\n        text-align: right;\n    }\n</style>\n<table border=\"1\" class=\"dataframe\">\n  <thead>\n    <tr style=\"text-align: right;\">\n      <th>계약구분</th>\n      <th>년월</th>\n      <th>시구</th>\n      <th>일반용</th>\n      <th>합계</th>\n      <th>비율</th>\n      <th>시군구</th>\n    </tr>\n  </thead>\n  <tbody>\n    <tr>\n      <th>0</th>\n      <td>201207</td>\n      <td>광주광역시</td>\n      <td>220724511</td>\n      <td>660058978</td>\n      <td>33.44</td>\n      <td>광주광역시</td>\n    </tr>\n    <tr>\n      <th>1</th>\n      <td>201207</td>\n      <td>대구광역시</td>\n      <td>360183692</td>\n      <td>1214719767</td>\n      <td>29.65</td>\n      <td>대구광역시</td>\n    </tr>\n    <tr>\n      <th>2</th>\n      <td>201207</td>\n      <td>대전광역시</td>\n      <td>276759379</td>\n      <td>752157780</td>\n      <td>36.80</td>\n      <td>대전광역시</td>\n    </tr>\n    <tr>\n      <th>3</th>\n      <td>201207</td>\n      <td>부산광역시</td>\n      <td>520765719</td>\n      <td>1671135507</td>\n      <td>31.16</td>\n      <td>부산광역시</td>\n    </tr>\n    <tr>\n      <th>4</th>\n      <td>201207</td>\n      <td>서울특별시</td>\n      <td>2288831156</td>\n      <td>4075847429</td>\n      <td>56.16</td>\n      <td>서울특별시</td>\n    </tr>\n    <tr>\n      <th>...</th>\n      <td>...</td>\n      <td>...</td>\n      <td>...</td>\n      <td>...</td>\n      <td>...</td>\n      <td>...</td>\n    </tr>\n    <tr>\n      <th>835</th>\n      <td>202206</td>\n      <td>대전광역시</td>\n      <td>314890919</td>\n      <td>793085502</td>\n      <td>39.70</td>\n      <td>대전광역시</td>\n    </tr>\n    <tr>\n      <th>836</th>\n      <td>202206</td>\n      <td>부산광역시</td>\n      <td>557332225</td>\n      <td>1723002765</td>\n      <td>32.35</td>\n      <td>부산광역시</td>\n    </tr>\n    <tr>\n      <th>837</th>\n      <td>202206</td>\n      <td>서울특별시</td>\n      <td>2099202516</td>\n      <td>3807869835</td>\n      <td>55.13</td>\n      <td>서울특별시</td>\n    </tr>\n    <tr>\n      <th>838</th>\n      <td>202206</td>\n      <td>울산광역시</td>\n      <td>175245992</td>\n      <td>2610376170</td>\n      <td>6.71</td>\n      <td>울산광역시</td>\n    </tr>\n    <tr>\n      <th>839</th>\n      <td>202206</td>\n      <td>인천광역시</td>\n      <td>516906603</td>\n      <td>1970250933</td>\n      <td>26.24</td>\n      <td>인천광역시</td>\n    </tr>\n  </tbody>\n</table>\n<p>840 rows × 6 columns</p>\n</div>"
     },
     "execution_count": 10,
     "metadata": {},
     "output_type": "execute_result"
    }
   ],
   "source": [
    "df2['비율'] = round(df2['일반용']/df2['합계']*100,2)\n",
    "df2['시군구'] = df2['시구']\n",
    "df2"
   ]
  },
  {
   "cell_type": "code",
   "execution_count": 11,
   "id": "ea660fc0",
   "metadata": {
    "pycharm": {
     "name": "#%%\n"
    }
   },
   "outputs": [
    {
     "data": {
      "text/plain": "계약구분      년월     시구     비율    시군구\n0     201207  광주광역시  33.44  광주광역시\n1     201207  대구광역시  29.65  대구광역시\n2     201207  대전광역시  36.80  대전광역시\n3     201207  부산광역시  31.16  부산광역시\n4     201207  서울특별시  56.16  서울특별시\n..       ...    ...    ...    ...\n835   202206  대전광역시  39.70  대전광역시\n836   202206  부산광역시  32.35  부산광역시\n837   202206  서울특별시  55.13  서울특별시\n838   202206  울산광역시   6.71  울산광역시\n839   202206  인천광역시  26.24  인천광역시\n\n[840 rows x 4 columns]",
      "text/html": "<div>\n<style scoped>\n    .dataframe tbody tr th:only-of-type {\n        vertical-align: middle;\n    }\n\n    .dataframe tbody tr th {\n        vertical-align: top;\n    }\n\n    .dataframe thead th {\n        text-align: right;\n    }\n</style>\n<table border=\"1\" class=\"dataframe\">\n  <thead>\n    <tr style=\"text-align: right;\">\n      <th>계약구분</th>\n      <th>년월</th>\n      <th>시구</th>\n      <th>비율</th>\n      <th>시군구</th>\n    </tr>\n  </thead>\n  <tbody>\n    <tr>\n      <th>0</th>\n      <td>201207</td>\n      <td>광주광역시</td>\n      <td>33.44</td>\n      <td>광주광역시</td>\n    </tr>\n    <tr>\n      <th>1</th>\n      <td>201207</td>\n      <td>대구광역시</td>\n      <td>29.65</td>\n      <td>대구광역시</td>\n    </tr>\n    <tr>\n      <th>2</th>\n      <td>201207</td>\n      <td>대전광역시</td>\n      <td>36.80</td>\n      <td>대전광역시</td>\n    </tr>\n    <tr>\n      <th>3</th>\n      <td>201207</td>\n      <td>부산광역시</td>\n      <td>31.16</td>\n      <td>부산광역시</td>\n    </tr>\n    <tr>\n      <th>4</th>\n      <td>201207</td>\n      <td>서울특별시</td>\n      <td>56.16</td>\n      <td>서울특별시</td>\n    </tr>\n    <tr>\n      <th>...</th>\n      <td>...</td>\n      <td>...</td>\n      <td>...</td>\n      <td>...</td>\n    </tr>\n    <tr>\n      <th>835</th>\n      <td>202206</td>\n      <td>대전광역시</td>\n      <td>39.70</td>\n      <td>대전광역시</td>\n    </tr>\n    <tr>\n      <th>836</th>\n      <td>202206</td>\n      <td>부산광역시</td>\n      <td>32.35</td>\n      <td>부산광역시</td>\n    </tr>\n    <tr>\n      <th>837</th>\n      <td>202206</td>\n      <td>서울특별시</td>\n      <td>55.13</td>\n      <td>서울특별시</td>\n    </tr>\n    <tr>\n      <th>838</th>\n      <td>202206</td>\n      <td>울산광역시</td>\n      <td>6.71</td>\n      <td>울산광역시</td>\n    </tr>\n    <tr>\n      <th>839</th>\n      <td>202206</td>\n      <td>인천광역시</td>\n      <td>26.24</td>\n      <td>인천광역시</td>\n    </tr>\n  </tbody>\n</table>\n<p>840 rows × 4 columns</p>\n</div>"
     },
     "execution_count": 11,
     "metadata": {},
     "output_type": "execute_result"
    }
   ],
   "source": [
    "df2.drop(['일반용', '합계'], axis=1, inplace=True)\n",
    "df2"
   ]
  },
  {
   "cell_type": "code",
   "execution_count": 12,
   "id": "7c8ef075",
   "metadata": {
    "pycharm": {
     "name": "#%%\n"
    }
   },
   "outputs": [
    {
     "data": {
      "text/plain": "           년월   시구  시군구 계약구분 고객호수(호)  사용량(kWh)         비율\n0      201207  경기도  가평군  일반용   7,891  18740590  49.904604\n1      201207  경기도  가평군   합계  53,913  37552828        NaN\n2      201208  경기도  가평군  일반용   8,001  22827836  52.520078\n3      201208  경기도  가평군   합계  54,194  43464970        NaN\n4      201209  경기도  가평군  일반용   8,067  19561033  47.929931\n...       ...  ...  ...  ...     ...       ...        ...\n55127  202204  강원도  횡성군   합계  61,878  56473517        NaN\n55128  202205  강원도  횡성군  일반용   5,505   9179386  18.430195\n55129  202205  강원도  횡성군   합계  62,200  49806235        NaN\n55130  202206  강원도  횡성군  일반용   5,526   9643301  19.673426\n55131  202206  강원도  횡성군   합계  62,396  49016886        NaN\n\n[55132 rows x 7 columns]",
      "text/html": "<div>\n<style scoped>\n    .dataframe tbody tr th:only-of-type {\n        vertical-align: middle;\n    }\n\n    .dataframe tbody tr th {\n        vertical-align: top;\n    }\n\n    .dataframe thead th {\n        text-align: right;\n    }\n</style>\n<table border=\"1\" class=\"dataframe\">\n  <thead>\n    <tr style=\"text-align: right;\">\n      <th></th>\n      <th>년월</th>\n      <th>시구</th>\n      <th>시군구</th>\n      <th>계약구분</th>\n      <th>고객호수(호)</th>\n      <th>사용량(kWh)</th>\n      <th>비율</th>\n    </tr>\n  </thead>\n  <tbody>\n    <tr>\n      <th>0</th>\n      <td>201207</td>\n      <td>경기도</td>\n      <td>가평군</td>\n      <td>일반용</td>\n      <td>7,891</td>\n      <td>18740590</td>\n      <td>49.904604</td>\n    </tr>\n    <tr>\n      <th>1</th>\n      <td>201207</td>\n      <td>경기도</td>\n      <td>가평군</td>\n      <td>합계</td>\n      <td>53,913</td>\n      <td>37552828</td>\n      <td>NaN</td>\n    </tr>\n    <tr>\n      <th>2</th>\n      <td>201208</td>\n      <td>경기도</td>\n      <td>가평군</td>\n      <td>일반용</td>\n      <td>8,001</td>\n      <td>22827836</td>\n      <td>52.520078</td>\n    </tr>\n    <tr>\n      <th>3</th>\n      <td>201208</td>\n      <td>경기도</td>\n      <td>가평군</td>\n      <td>합계</td>\n      <td>54,194</td>\n      <td>43464970</td>\n      <td>NaN</td>\n    </tr>\n    <tr>\n      <th>4</th>\n      <td>201209</td>\n      <td>경기도</td>\n      <td>가평군</td>\n      <td>일반용</td>\n      <td>8,067</td>\n      <td>19561033</td>\n      <td>47.929931</td>\n    </tr>\n    <tr>\n      <th>...</th>\n      <td>...</td>\n      <td>...</td>\n      <td>...</td>\n      <td>...</td>\n      <td>...</td>\n      <td>...</td>\n      <td>...</td>\n    </tr>\n    <tr>\n      <th>55127</th>\n      <td>202204</td>\n      <td>강원도</td>\n      <td>횡성군</td>\n      <td>합계</td>\n      <td>61,878</td>\n      <td>56473517</td>\n      <td>NaN</td>\n    </tr>\n    <tr>\n      <th>55128</th>\n      <td>202205</td>\n      <td>강원도</td>\n      <td>횡성군</td>\n      <td>일반용</td>\n      <td>5,505</td>\n      <td>9179386</td>\n      <td>18.430195</td>\n    </tr>\n    <tr>\n      <th>55129</th>\n      <td>202205</td>\n      <td>강원도</td>\n      <td>횡성군</td>\n      <td>합계</td>\n      <td>62,200</td>\n      <td>49806235</td>\n      <td>NaN</td>\n    </tr>\n    <tr>\n      <th>55130</th>\n      <td>202206</td>\n      <td>강원도</td>\n      <td>횡성군</td>\n      <td>일반용</td>\n      <td>5,526</td>\n      <td>9643301</td>\n      <td>19.673426</td>\n    </tr>\n    <tr>\n      <th>55131</th>\n      <td>202206</td>\n      <td>강원도</td>\n      <td>횡성군</td>\n      <td>합계</td>\n      <td>62,396</td>\n      <td>49016886</td>\n      <td>NaN</td>\n    </tr>\n  </tbody>\n</table>\n<p>55132 rows × 7 columns</p>\n</div>"
     },
     "execution_count": 12,
     "metadata": {},
     "output_type": "execute_result"
    }
   ],
   "source": [
    "original = pd.read_csv('2012-2022전국.csv')\n",
    "original"
   ]
  },
  {
   "cell_type": "code",
   "execution_count": 13,
   "id": "9676db2c",
   "metadata": {
    "pycharm": {
     "name": "#%%\n"
    }
   },
   "outputs": [],
   "source": [
    "original = original[~original.isin({'시구' : ['서울특별시','부산광역시','울산광역시','대전광역시','대구광역시','인천광역시','광주광역시']})['시구']]"
   ]
  },
  {
   "cell_type": "code",
   "execution_count": 14,
   "id": "0b46685e",
   "metadata": {
    "pycharm": {
     "name": "#%%\n"
    }
   },
   "outputs": [
    {
     "data": {
      "text/plain": "           년월   시구  시군구 계약구분 고객호수(호)  사용량(kWh)         비율\n0      201207  경기도  가평군  일반용   7,891  18740590  49.904604\n1      201207  경기도  가평군   합계  53,913  37552828        NaN\n2      201208  경기도  가평군  일반용   8,001  22827836  52.520078\n3      201208  경기도  가평군   합계  54,194  43464970        NaN\n4      201209  경기도  가평군  일반용   8,067  19561033  47.929931\n...       ...  ...  ...  ...     ...       ...        ...\n55127  202204  강원도  횡성군   합계  61,878  56473517        NaN\n55128  202205  강원도  횡성군  일반용   5,505   9179386  18.430195\n55129  202205  강원도  횡성군   합계  62,200  49806235        NaN\n55130  202206  강원도  횡성군  일반용   5,526   9643301  19.673426\n55131  202206  강원도  횡성군   합계  62,396  49016886        NaN\n\n[37372 rows x 7 columns]",
      "text/html": "<div>\n<style scoped>\n    .dataframe tbody tr th:only-of-type {\n        vertical-align: middle;\n    }\n\n    .dataframe tbody tr th {\n        vertical-align: top;\n    }\n\n    .dataframe thead th {\n        text-align: right;\n    }\n</style>\n<table border=\"1\" class=\"dataframe\">\n  <thead>\n    <tr style=\"text-align: right;\">\n      <th></th>\n      <th>년월</th>\n      <th>시구</th>\n      <th>시군구</th>\n      <th>계약구분</th>\n      <th>고객호수(호)</th>\n      <th>사용량(kWh)</th>\n      <th>비율</th>\n    </tr>\n  </thead>\n  <tbody>\n    <tr>\n      <th>0</th>\n      <td>201207</td>\n      <td>경기도</td>\n      <td>가평군</td>\n      <td>일반용</td>\n      <td>7,891</td>\n      <td>18740590</td>\n      <td>49.904604</td>\n    </tr>\n    <tr>\n      <th>1</th>\n      <td>201207</td>\n      <td>경기도</td>\n      <td>가평군</td>\n      <td>합계</td>\n      <td>53,913</td>\n      <td>37552828</td>\n      <td>NaN</td>\n    </tr>\n    <tr>\n      <th>2</th>\n      <td>201208</td>\n      <td>경기도</td>\n      <td>가평군</td>\n      <td>일반용</td>\n      <td>8,001</td>\n      <td>22827836</td>\n      <td>52.520078</td>\n    </tr>\n    <tr>\n      <th>3</th>\n      <td>201208</td>\n      <td>경기도</td>\n      <td>가평군</td>\n      <td>합계</td>\n      <td>54,194</td>\n      <td>43464970</td>\n      <td>NaN</td>\n    </tr>\n    <tr>\n      <th>4</th>\n      <td>201209</td>\n      <td>경기도</td>\n      <td>가평군</td>\n      <td>일반용</td>\n      <td>8,067</td>\n      <td>19561033</td>\n      <td>47.929931</td>\n    </tr>\n    <tr>\n      <th>...</th>\n      <td>...</td>\n      <td>...</td>\n      <td>...</td>\n      <td>...</td>\n      <td>...</td>\n      <td>...</td>\n      <td>...</td>\n    </tr>\n    <tr>\n      <th>55127</th>\n      <td>202204</td>\n      <td>강원도</td>\n      <td>횡성군</td>\n      <td>합계</td>\n      <td>61,878</td>\n      <td>56473517</td>\n      <td>NaN</td>\n    </tr>\n    <tr>\n      <th>55128</th>\n      <td>202205</td>\n      <td>강원도</td>\n      <td>횡성군</td>\n      <td>일반용</td>\n      <td>5,505</td>\n      <td>9179386</td>\n      <td>18.430195</td>\n    </tr>\n    <tr>\n      <th>55129</th>\n      <td>202205</td>\n      <td>강원도</td>\n      <td>횡성군</td>\n      <td>합계</td>\n      <td>62,200</td>\n      <td>49806235</td>\n      <td>NaN</td>\n    </tr>\n    <tr>\n      <th>55130</th>\n      <td>202206</td>\n      <td>강원도</td>\n      <td>횡성군</td>\n      <td>일반용</td>\n      <td>5,526</td>\n      <td>9643301</td>\n      <td>19.673426</td>\n    </tr>\n    <tr>\n      <th>55131</th>\n      <td>202206</td>\n      <td>강원도</td>\n      <td>횡성군</td>\n      <td>합계</td>\n      <td>62,396</td>\n      <td>49016886</td>\n      <td>NaN</td>\n    </tr>\n  </tbody>\n</table>\n<p>37372 rows × 7 columns</p>\n</div>"
     },
     "execution_count": 14,
     "metadata": {},
     "output_type": "execute_result"
    }
   ],
   "source": [
    "original"
   ]
  },
  {
   "cell_type": "code",
   "execution_count": 15,
   "id": "1fdcf757",
   "metadata": {
    "pycharm": {
     "name": "#%%\n"
    }
   },
   "outputs": [
    {
     "data": {
      "text/plain": "         년월     시구    시군구 계약구분 고객호수(호)    사용량(kWh)         비율\n0    201207    경기도    가평군  일반용   7,891  18740590.0  49.904604\n1    201207    경기도    가평군   합계  53,913  37552828.0        NaN\n2    201208    경기도    가평군  일반용   8,001  22827836.0  52.520078\n3    201208    경기도    가평군   합계  54,194  43464970.0        NaN\n4    201209    경기도    가평군  일반용   8,067  19561033.0  47.929931\n..      ...    ...    ...  ...     ...         ...        ...\n835  202206  대전광역시  대전광역시  NaN     NaN         NaN  39.700000\n836  202206  부산광역시  부산광역시  NaN     NaN         NaN  32.350000\n837  202206  서울특별시  서울특별시  NaN     NaN         NaN  55.130000\n838  202206  울산광역시  울산광역시  NaN     NaN         NaN   6.710000\n839  202206  인천광역시  인천광역시  NaN     NaN         NaN  26.240000\n\n[38212 rows x 7 columns]",
      "text/html": "<div>\n<style scoped>\n    .dataframe tbody tr th:only-of-type {\n        vertical-align: middle;\n    }\n\n    .dataframe tbody tr th {\n        vertical-align: top;\n    }\n\n    .dataframe thead th {\n        text-align: right;\n    }\n</style>\n<table border=\"1\" class=\"dataframe\">\n  <thead>\n    <tr style=\"text-align: right;\">\n      <th></th>\n      <th>년월</th>\n      <th>시구</th>\n      <th>시군구</th>\n      <th>계약구분</th>\n      <th>고객호수(호)</th>\n      <th>사용량(kWh)</th>\n      <th>비율</th>\n    </tr>\n  </thead>\n  <tbody>\n    <tr>\n      <th>0</th>\n      <td>201207</td>\n      <td>경기도</td>\n      <td>가평군</td>\n      <td>일반용</td>\n      <td>7,891</td>\n      <td>18740590.0</td>\n      <td>49.904604</td>\n    </tr>\n    <tr>\n      <th>1</th>\n      <td>201207</td>\n      <td>경기도</td>\n      <td>가평군</td>\n      <td>합계</td>\n      <td>53,913</td>\n      <td>37552828.0</td>\n      <td>NaN</td>\n    </tr>\n    <tr>\n      <th>2</th>\n      <td>201208</td>\n      <td>경기도</td>\n      <td>가평군</td>\n      <td>일반용</td>\n      <td>8,001</td>\n      <td>22827836.0</td>\n      <td>52.520078</td>\n    </tr>\n    <tr>\n      <th>3</th>\n      <td>201208</td>\n      <td>경기도</td>\n      <td>가평군</td>\n      <td>합계</td>\n      <td>54,194</td>\n      <td>43464970.0</td>\n      <td>NaN</td>\n    </tr>\n    <tr>\n      <th>4</th>\n      <td>201209</td>\n      <td>경기도</td>\n      <td>가평군</td>\n      <td>일반용</td>\n      <td>8,067</td>\n      <td>19561033.0</td>\n      <td>47.929931</td>\n    </tr>\n    <tr>\n      <th>...</th>\n      <td>...</td>\n      <td>...</td>\n      <td>...</td>\n      <td>...</td>\n      <td>...</td>\n      <td>...</td>\n      <td>...</td>\n    </tr>\n    <tr>\n      <th>835</th>\n      <td>202206</td>\n      <td>대전광역시</td>\n      <td>대전광역시</td>\n      <td>NaN</td>\n      <td>NaN</td>\n      <td>NaN</td>\n      <td>39.700000</td>\n    </tr>\n    <tr>\n      <th>836</th>\n      <td>202206</td>\n      <td>부산광역시</td>\n      <td>부산광역시</td>\n      <td>NaN</td>\n      <td>NaN</td>\n      <td>NaN</td>\n      <td>32.350000</td>\n    </tr>\n    <tr>\n      <th>837</th>\n      <td>202206</td>\n      <td>서울특별시</td>\n      <td>서울특별시</td>\n      <td>NaN</td>\n      <td>NaN</td>\n      <td>NaN</td>\n      <td>55.130000</td>\n    </tr>\n    <tr>\n      <th>838</th>\n      <td>202206</td>\n      <td>울산광역시</td>\n      <td>울산광역시</td>\n      <td>NaN</td>\n      <td>NaN</td>\n      <td>NaN</td>\n      <td>6.710000</td>\n    </tr>\n    <tr>\n      <th>839</th>\n      <td>202206</td>\n      <td>인천광역시</td>\n      <td>인천광역시</td>\n      <td>NaN</td>\n      <td>NaN</td>\n      <td>NaN</td>\n      <td>26.240000</td>\n    </tr>\n  </tbody>\n</table>\n<p>38212 rows × 7 columns</p>\n</div>"
     },
     "execution_count": 15,
     "metadata": {},
     "output_type": "execute_result"
    }
   ],
   "source": [
    "final = pd.concat([original, df2])\n",
    "final"
   ]
  },
  {
   "cell_type": "code",
   "execution_count": 16,
   "id": "629df010",
   "metadata": {
    "pycharm": {
     "name": "#%%\n"
    }
   },
   "outputs": [
    {
     "data": {
      "text/plain": "년월      201207     201208     201209     201210     201211     201212  \\\n시군구                                                                     \n가평군  49.904604  52.520078  47.929931  42.124389  38.668570  37.147787   \n강릉시  23.239734  28.461477  29.786887  24.208582  24.291332  24.457904   \n강진군  22.873028  23.430791  22.944297  22.073889  18.304564  22.394694   \n거제시  18.877278  22.532916  21.435366  19.109108  18.468690  19.658469   \n거창군  24.164292  26.507241  23.311054  22.275773  22.583569  24.282723   \n..         ...        ...        ...        ...        ...        ...   \n홍천군  40.752968  43.028532  37.213887  32.521297  30.604034  31.708668   \n화성시   9.563935  10.612643   9.982081   8.633315   8.757733   9.848500   \n화순군  28.391742  30.284665  28.163697  26.389090  24.748432  25.598917   \n화천군  52.037788  54.243887  50.563930  45.727610  41.960009  41.254759   \n횡성군  24.642118  27.449648  24.171232  20.652207  20.166188  22.865723   \n\n년월      201301     201302     201303     201304  ...     202109     202110  \\\n시군구                                              ...                         \n가평군  37.330245  37.212697  37.228394  38.165834  ...  53.321425  52.192104   \n강릉시  25.890283  26.754284  24.297519  22.681266  ...  32.135908  29.777082   \n강진군  23.317998  22.026713  21.611173  20.747734  ...  18.377672  17.824560   \n거제시  21.119714  21.932150  19.670099  20.034940  ...  23.131568  22.641530   \n거창군  24.793985  24.656547  22.648182  22.922625  ...  23.735098  23.980361   \n..         ...        ...        ...        ...  ...        ...        ...   \n홍천군  29.393393  28.649573  27.340232  27.726198  ...  36.546717  35.212492   \n화성시  11.045701  11.007507   9.841465   9.518011  ...  12.488215  12.083996   \n화순군  25.553348  25.078412  24.770617  24.691015  ...  30.773970  29.814763   \n화천군  40.992231  41.981783  41.147597  42.249996  ...  49.627244  46.649945   \n횡성군  19.977536  19.303456  18.552739  17.664387  ...  19.311780  18.271361   \n\n년월      202111     202112     202201     202202     202203     202204  \\\n시군구                                                                     \n가평군  50.799034  51.396716  52.697673  52.750232  51.491564  50.596097   \n강릉시  28.549365  28.846826  31.664158  32.218508  29.910974  27.419616   \n강진군  14.391787  13.585989  17.263214  16.757431  16.213430  16.796029   \n거제시  22.799548  22.487805  24.276450  25.359417  22.974697  22.844094   \n거창군  25.441676  27.541404  27.649651  27.549918  26.219157  25.823814   \n..         ...        ...        ...        ...        ...        ...   \n홍천군  33.313156  36.382464  35.591591  34.740827  32.549036  32.901422   \n화성시  11.758318  12.412801  13.625685  14.051310  12.856790  12.354155   \n화순군  25.296964  25.520254  25.767278  26.416325  27.418616  27.585808   \n화천군  45.300957  46.689361  48.043892  47.838186  46.872889  46.638046   \n횡성군  18.419022  21.101361  20.253565  19.801676  17.879036  17.433311   \n\n년월      202205     202206  \n시군구                        \n가평군  52.798831  55.178713  \n강릉시  25.828095  29.324267  \n강진군  17.849569  18.521212  \n거제시  22.912278  23.662738  \n거창군  25.844438  26.008739  \n..         ...        ...  \n홍천군  36.021392  38.846567  \n화성시  12.359557  13.115597  \n화순군  29.132586  30.631644  \n화천군  46.803573  49.491825  \n횡성군  18.430195  19.673426  \n\n[163 rows x 120 columns]",
      "text/html": "<div>\n<style scoped>\n    .dataframe tbody tr th:only-of-type {\n        vertical-align: middle;\n    }\n\n    .dataframe tbody tr th {\n        vertical-align: top;\n    }\n\n    .dataframe thead th {\n        text-align: right;\n    }\n</style>\n<table border=\"1\" class=\"dataframe\">\n  <thead>\n    <tr style=\"text-align: right;\">\n      <th>년월</th>\n      <th>201207</th>\n      <th>201208</th>\n      <th>201209</th>\n      <th>201210</th>\n      <th>201211</th>\n      <th>201212</th>\n      <th>201301</th>\n      <th>201302</th>\n      <th>201303</th>\n      <th>201304</th>\n      <th>...</th>\n      <th>202109</th>\n      <th>202110</th>\n      <th>202111</th>\n      <th>202112</th>\n      <th>202201</th>\n      <th>202202</th>\n      <th>202203</th>\n      <th>202204</th>\n      <th>202205</th>\n      <th>202206</th>\n    </tr>\n    <tr>\n      <th>시군구</th>\n      <th></th>\n      <th></th>\n      <th></th>\n      <th></th>\n      <th></th>\n      <th></th>\n      <th></th>\n      <th></th>\n      <th></th>\n      <th></th>\n      <th></th>\n      <th></th>\n      <th></th>\n      <th></th>\n      <th></th>\n      <th></th>\n      <th></th>\n      <th></th>\n      <th></th>\n      <th></th>\n      <th></th>\n    </tr>\n  </thead>\n  <tbody>\n    <tr>\n      <th>가평군</th>\n      <td>49.904604</td>\n      <td>52.520078</td>\n      <td>47.929931</td>\n      <td>42.124389</td>\n      <td>38.668570</td>\n      <td>37.147787</td>\n      <td>37.330245</td>\n      <td>37.212697</td>\n      <td>37.228394</td>\n      <td>38.165834</td>\n      <td>...</td>\n      <td>53.321425</td>\n      <td>52.192104</td>\n      <td>50.799034</td>\n      <td>51.396716</td>\n      <td>52.697673</td>\n      <td>52.750232</td>\n      <td>51.491564</td>\n      <td>50.596097</td>\n      <td>52.798831</td>\n      <td>55.178713</td>\n    </tr>\n    <tr>\n      <th>강릉시</th>\n      <td>23.239734</td>\n      <td>28.461477</td>\n      <td>29.786887</td>\n      <td>24.208582</td>\n      <td>24.291332</td>\n      <td>24.457904</td>\n      <td>25.890283</td>\n      <td>26.754284</td>\n      <td>24.297519</td>\n      <td>22.681266</td>\n      <td>...</td>\n      <td>32.135908</td>\n      <td>29.777082</td>\n      <td>28.549365</td>\n      <td>28.846826</td>\n      <td>31.664158</td>\n      <td>32.218508</td>\n      <td>29.910974</td>\n      <td>27.419616</td>\n      <td>25.828095</td>\n      <td>29.324267</td>\n    </tr>\n    <tr>\n      <th>강진군</th>\n      <td>22.873028</td>\n      <td>23.430791</td>\n      <td>22.944297</td>\n      <td>22.073889</td>\n      <td>18.304564</td>\n      <td>22.394694</td>\n      <td>23.317998</td>\n      <td>22.026713</td>\n      <td>21.611173</td>\n      <td>20.747734</td>\n      <td>...</td>\n      <td>18.377672</td>\n      <td>17.824560</td>\n      <td>14.391787</td>\n      <td>13.585989</td>\n      <td>17.263214</td>\n      <td>16.757431</td>\n      <td>16.213430</td>\n      <td>16.796029</td>\n      <td>17.849569</td>\n      <td>18.521212</td>\n    </tr>\n    <tr>\n      <th>거제시</th>\n      <td>18.877278</td>\n      <td>22.532916</td>\n      <td>21.435366</td>\n      <td>19.109108</td>\n      <td>18.468690</td>\n      <td>19.658469</td>\n      <td>21.119714</td>\n      <td>21.932150</td>\n      <td>19.670099</td>\n      <td>20.034940</td>\n      <td>...</td>\n      <td>23.131568</td>\n      <td>22.641530</td>\n      <td>22.799548</td>\n      <td>22.487805</td>\n      <td>24.276450</td>\n      <td>25.359417</td>\n      <td>22.974697</td>\n      <td>22.844094</td>\n      <td>22.912278</td>\n      <td>23.662738</td>\n    </tr>\n    <tr>\n      <th>거창군</th>\n      <td>24.164292</td>\n      <td>26.507241</td>\n      <td>23.311054</td>\n      <td>22.275773</td>\n      <td>22.583569</td>\n      <td>24.282723</td>\n      <td>24.793985</td>\n      <td>24.656547</td>\n      <td>22.648182</td>\n      <td>22.922625</td>\n      <td>...</td>\n      <td>23.735098</td>\n      <td>23.980361</td>\n      <td>25.441676</td>\n      <td>27.541404</td>\n      <td>27.649651</td>\n      <td>27.549918</td>\n      <td>26.219157</td>\n      <td>25.823814</td>\n      <td>25.844438</td>\n      <td>26.008739</td>\n    </tr>\n    <tr>\n      <th>...</th>\n      <td>...</td>\n      <td>...</td>\n      <td>...</td>\n      <td>...</td>\n      <td>...</td>\n      <td>...</td>\n      <td>...</td>\n      <td>...</td>\n      <td>...</td>\n      <td>...</td>\n      <td>...</td>\n      <td>...</td>\n      <td>...</td>\n      <td>...</td>\n      <td>...</td>\n      <td>...</td>\n      <td>...</td>\n      <td>...</td>\n      <td>...</td>\n      <td>...</td>\n      <td>...</td>\n    </tr>\n    <tr>\n      <th>홍천군</th>\n      <td>40.752968</td>\n      <td>43.028532</td>\n      <td>37.213887</td>\n      <td>32.521297</td>\n      <td>30.604034</td>\n      <td>31.708668</td>\n      <td>29.393393</td>\n      <td>28.649573</td>\n      <td>27.340232</td>\n      <td>27.726198</td>\n      <td>...</td>\n      <td>36.546717</td>\n      <td>35.212492</td>\n      <td>33.313156</td>\n      <td>36.382464</td>\n      <td>35.591591</td>\n      <td>34.740827</td>\n      <td>32.549036</td>\n      <td>32.901422</td>\n      <td>36.021392</td>\n      <td>38.846567</td>\n    </tr>\n    <tr>\n      <th>화성시</th>\n      <td>9.563935</td>\n      <td>10.612643</td>\n      <td>9.982081</td>\n      <td>8.633315</td>\n      <td>8.757733</td>\n      <td>9.848500</td>\n      <td>11.045701</td>\n      <td>11.007507</td>\n      <td>9.841465</td>\n      <td>9.518011</td>\n      <td>...</td>\n      <td>12.488215</td>\n      <td>12.083996</td>\n      <td>11.758318</td>\n      <td>12.412801</td>\n      <td>13.625685</td>\n      <td>14.051310</td>\n      <td>12.856790</td>\n      <td>12.354155</td>\n      <td>12.359557</td>\n      <td>13.115597</td>\n    </tr>\n    <tr>\n      <th>화순군</th>\n      <td>28.391742</td>\n      <td>30.284665</td>\n      <td>28.163697</td>\n      <td>26.389090</td>\n      <td>24.748432</td>\n      <td>25.598917</td>\n      <td>25.553348</td>\n      <td>25.078412</td>\n      <td>24.770617</td>\n      <td>24.691015</td>\n      <td>...</td>\n      <td>30.773970</td>\n      <td>29.814763</td>\n      <td>25.296964</td>\n      <td>25.520254</td>\n      <td>25.767278</td>\n      <td>26.416325</td>\n      <td>27.418616</td>\n      <td>27.585808</td>\n      <td>29.132586</td>\n      <td>30.631644</td>\n    </tr>\n    <tr>\n      <th>화천군</th>\n      <td>52.037788</td>\n      <td>54.243887</td>\n      <td>50.563930</td>\n      <td>45.727610</td>\n      <td>41.960009</td>\n      <td>41.254759</td>\n      <td>40.992231</td>\n      <td>41.981783</td>\n      <td>41.147597</td>\n      <td>42.249996</td>\n      <td>...</td>\n      <td>49.627244</td>\n      <td>46.649945</td>\n      <td>45.300957</td>\n      <td>46.689361</td>\n      <td>48.043892</td>\n      <td>47.838186</td>\n      <td>46.872889</td>\n      <td>46.638046</td>\n      <td>46.803573</td>\n      <td>49.491825</td>\n    </tr>\n    <tr>\n      <th>횡성군</th>\n      <td>24.642118</td>\n      <td>27.449648</td>\n      <td>24.171232</td>\n      <td>20.652207</td>\n      <td>20.166188</td>\n      <td>22.865723</td>\n      <td>19.977536</td>\n      <td>19.303456</td>\n      <td>18.552739</td>\n      <td>17.664387</td>\n      <td>...</td>\n      <td>19.311780</td>\n      <td>18.271361</td>\n      <td>18.419022</td>\n      <td>21.101361</td>\n      <td>20.253565</td>\n      <td>19.801676</td>\n      <td>17.879036</td>\n      <td>17.433311</td>\n      <td>18.430195</td>\n      <td>19.673426</td>\n    </tr>\n  </tbody>\n</table>\n<p>163 rows × 120 columns</p>\n</div>"
     },
     "execution_count": 16,
     "metadata": {},
     "output_type": "execute_result"
    }
   ],
   "source": [
    "final = pd.pivot_table(final, index = ['시군구'], columns = '년월', values='비율')\n",
    "final"
   ]
  },
  {
   "cell_type": "code",
   "execution_count": 19,
   "id": "541a3c99",
   "metadata": {
    "pycharm": {
     "name": "#%%\n"
    }
   },
   "outputs": [],
   "source": [
    "aa = pd.read_csv('광케이블_시군.csv')['시군'].tolist()"
   ]
  },
  {
   "cell_type": "code",
   "execution_count": 20,
   "id": "e7a0fe27",
   "metadata": {
    "pycharm": {
     "name": "#%%\n"
    }
   },
   "outputs": [
    {
     "ename": "KeyError",
     "evalue": "\"['세종특별자치시'] not in index\"",
     "output_type": "error",
     "traceback": [
      "\u001B[1;31m---------------------------------------------------------------------------\u001B[0m",
      "\u001B[1;31mKeyError\u001B[0m                                  Traceback (most recent call last)",
      "Input \u001B[1;32mIn [20]\u001B[0m, in \u001B[0;36m<cell line: 1>\u001B[1;34m()\u001B[0m\n\u001B[1;32m----> 1\u001B[0m real_final \u001B[38;5;241m=\u001B[39m \u001B[43mfinal\u001B[49m\u001B[38;5;241;43m.\u001B[39;49m\u001B[43mloc\u001B[49m\u001B[43m[\u001B[49m\u001B[43maa\u001B[49m\u001B[43m]\u001B[49m\n\u001B[0;32m      2\u001B[0m real_final\n",
      "File \u001B[1;32m~\\anaconda3\\lib\\site-packages\\pandas\\core\\indexing.py:967\u001B[0m, in \u001B[0;36m_LocationIndexer.__getitem__\u001B[1;34m(self, key)\u001B[0m\n\u001B[0;32m    964\u001B[0m axis \u001B[38;5;241m=\u001B[39m \u001B[38;5;28mself\u001B[39m\u001B[38;5;241m.\u001B[39maxis \u001B[38;5;129;01mor\u001B[39;00m \u001B[38;5;241m0\u001B[39m\n\u001B[0;32m    966\u001B[0m maybe_callable \u001B[38;5;241m=\u001B[39m com\u001B[38;5;241m.\u001B[39mapply_if_callable(key, \u001B[38;5;28mself\u001B[39m\u001B[38;5;241m.\u001B[39mobj)\n\u001B[1;32m--> 967\u001B[0m \u001B[38;5;28;01mreturn\u001B[39;00m \u001B[38;5;28;43mself\u001B[39;49m\u001B[38;5;241;43m.\u001B[39;49m\u001B[43m_getitem_axis\u001B[49m\u001B[43m(\u001B[49m\u001B[43mmaybe_callable\u001B[49m\u001B[43m,\u001B[49m\u001B[43m \u001B[49m\u001B[43maxis\u001B[49m\u001B[38;5;241;43m=\u001B[39;49m\u001B[43maxis\u001B[49m\u001B[43m)\u001B[49m\n",
      "File \u001B[1;32m~\\anaconda3\\lib\\site-packages\\pandas\\core\\indexing.py:1191\u001B[0m, in \u001B[0;36m_LocIndexer._getitem_axis\u001B[1;34m(self, key, axis)\u001B[0m\n\u001B[0;32m   1188\u001B[0m     \u001B[38;5;28;01mif\u001B[39;00m \u001B[38;5;28mhasattr\u001B[39m(key, \u001B[38;5;124m\"\u001B[39m\u001B[38;5;124mndim\u001B[39m\u001B[38;5;124m\"\u001B[39m) \u001B[38;5;129;01mand\u001B[39;00m key\u001B[38;5;241m.\u001B[39mndim \u001B[38;5;241m>\u001B[39m \u001B[38;5;241m1\u001B[39m:\n\u001B[0;32m   1189\u001B[0m         \u001B[38;5;28;01mraise\u001B[39;00m \u001B[38;5;167;01mValueError\u001B[39;00m(\u001B[38;5;124m\"\u001B[39m\u001B[38;5;124mCannot index with multidimensional key\u001B[39m\u001B[38;5;124m\"\u001B[39m)\n\u001B[1;32m-> 1191\u001B[0m     \u001B[38;5;28;01mreturn\u001B[39;00m \u001B[38;5;28;43mself\u001B[39;49m\u001B[38;5;241;43m.\u001B[39;49m\u001B[43m_getitem_iterable\u001B[49m\u001B[43m(\u001B[49m\u001B[43mkey\u001B[49m\u001B[43m,\u001B[49m\u001B[43m \u001B[49m\u001B[43maxis\u001B[49m\u001B[38;5;241;43m=\u001B[39;49m\u001B[43maxis\u001B[49m\u001B[43m)\u001B[49m\n\u001B[0;32m   1193\u001B[0m \u001B[38;5;66;03m# nested tuple slicing\u001B[39;00m\n\u001B[0;32m   1194\u001B[0m \u001B[38;5;28;01mif\u001B[39;00m is_nested_tuple(key, labels):\n",
      "File \u001B[1;32m~\\anaconda3\\lib\\site-packages\\pandas\\core\\indexing.py:1132\u001B[0m, in \u001B[0;36m_LocIndexer._getitem_iterable\u001B[1;34m(self, key, axis)\u001B[0m\n\u001B[0;32m   1129\u001B[0m \u001B[38;5;28mself\u001B[39m\u001B[38;5;241m.\u001B[39m_validate_key(key, axis)\n\u001B[0;32m   1131\u001B[0m \u001B[38;5;66;03m# A collection of keys\u001B[39;00m\n\u001B[1;32m-> 1132\u001B[0m keyarr, indexer \u001B[38;5;241m=\u001B[39m \u001B[38;5;28;43mself\u001B[39;49m\u001B[38;5;241;43m.\u001B[39;49m\u001B[43m_get_listlike_indexer\u001B[49m\u001B[43m(\u001B[49m\u001B[43mkey\u001B[49m\u001B[43m,\u001B[49m\u001B[43m \u001B[49m\u001B[43maxis\u001B[49m\u001B[43m)\u001B[49m\n\u001B[0;32m   1133\u001B[0m \u001B[38;5;28;01mreturn\u001B[39;00m \u001B[38;5;28mself\u001B[39m\u001B[38;5;241m.\u001B[39mobj\u001B[38;5;241m.\u001B[39m_reindex_with_indexers(\n\u001B[0;32m   1134\u001B[0m     {axis: [keyarr, indexer]}, copy\u001B[38;5;241m=\u001B[39m\u001B[38;5;28;01mTrue\u001B[39;00m, allow_dups\u001B[38;5;241m=\u001B[39m\u001B[38;5;28;01mTrue\u001B[39;00m\n\u001B[0;32m   1135\u001B[0m )\n",
      "File \u001B[1;32m~\\anaconda3\\lib\\site-packages\\pandas\\core\\indexing.py:1327\u001B[0m, in \u001B[0;36m_LocIndexer._get_listlike_indexer\u001B[1;34m(self, key, axis)\u001B[0m\n\u001B[0;32m   1324\u001B[0m ax \u001B[38;5;241m=\u001B[39m \u001B[38;5;28mself\u001B[39m\u001B[38;5;241m.\u001B[39mobj\u001B[38;5;241m.\u001B[39m_get_axis(axis)\n\u001B[0;32m   1325\u001B[0m axis_name \u001B[38;5;241m=\u001B[39m \u001B[38;5;28mself\u001B[39m\u001B[38;5;241m.\u001B[39mobj\u001B[38;5;241m.\u001B[39m_get_axis_name(axis)\n\u001B[1;32m-> 1327\u001B[0m keyarr, indexer \u001B[38;5;241m=\u001B[39m \u001B[43max\u001B[49m\u001B[38;5;241;43m.\u001B[39;49m\u001B[43m_get_indexer_strict\u001B[49m\u001B[43m(\u001B[49m\u001B[43mkey\u001B[49m\u001B[43m,\u001B[49m\u001B[43m \u001B[49m\u001B[43maxis_name\u001B[49m\u001B[43m)\u001B[49m\n\u001B[0;32m   1329\u001B[0m \u001B[38;5;28;01mreturn\u001B[39;00m keyarr, indexer\n",
      "File \u001B[1;32m~\\anaconda3\\lib\\site-packages\\pandas\\core\\indexes\\base.py:5782\u001B[0m, in \u001B[0;36mIndex._get_indexer_strict\u001B[1;34m(self, key, axis_name)\u001B[0m\n\u001B[0;32m   5779\u001B[0m \u001B[38;5;28;01melse\u001B[39;00m:\n\u001B[0;32m   5780\u001B[0m     keyarr, indexer, new_indexer \u001B[38;5;241m=\u001B[39m \u001B[38;5;28mself\u001B[39m\u001B[38;5;241m.\u001B[39m_reindex_non_unique(keyarr)\n\u001B[1;32m-> 5782\u001B[0m \u001B[38;5;28;43mself\u001B[39;49m\u001B[38;5;241;43m.\u001B[39;49m\u001B[43m_raise_if_missing\u001B[49m\u001B[43m(\u001B[49m\u001B[43mkeyarr\u001B[49m\u001B[43m,\u001B[49m\u001B[43m \u001B[49m\u001B[43mindexer\u001B[49m\u001B[43m,\u001B[49m\u001B[43m \u001B[49m\u001B[43maxis_name\u001B[49m\u001B[43m)\u001B[49m\n\u001B[0;32m   5784\u001B[0m keyarr \u001B[38;5;241m=\u001B[39m \u001B[38;5;28mself\u001B[39m\u001B[38;5;241m.\u001B[39mtake(indexer)\n\u001B[0;32m   5785\u001B[0m \u001B[38;5;28;01mif\u001B[39;00m \u001B[38;5;28misinstance\u001B[39m(key, Index):\n\u001B[0;32m   5786\u001B[0m     \u001B[38;5;66;03m# GH 42790 - Preserve name from an Index\u001B[39;00m\n",
      "File \u001B[1;32m~\\anaconda3\\lib\\site-packages\\pandas\\core\\indexes\\base.py:5845\u001B[0m, in \u001B[0;36mIndex._raise_if_missing\u001B[1;34m(self, key, indexer, axis_name)\u001B[0m\n\u001B[0;32m   5842\u001B[0m     \u001B[38;5;28;01mraise\u001B[39;00m \u001B[38;5;167;01mKeyError\u001B[39;00m(\u001B[38;5;124mf\u001B[39m\u001B[38;5;124m\"\u001B[39m\u001B[38;5;124mNone of [\u001B[39m\u001B[38;5;132;01m{\u001B[39;00mkey\u001B[38;5;132;01m}\u001B[39;00m\u001B[38;5;124m] are in the [\u001B[39m\u001B[38;5;132;01m{\u001B[39;00maxis_name\u001B[38;5;132;01m}\u001B[39;00m\u001B[38;5;124m]\u001B[39m\u001B[38;5;124m\"\u001B[39m)\n\u001B[0;32m   5844\u001B[0m not_found \u001B[38;5;241m=\u001B[39m \u001B[38;5;28mlist\u001B[39m(ensure_index(key)[missing_mask\u001B[38;5;241m.\u001B[39mnonzero()[\u001B[38;5;241m0\u001B[39m]]\u001B[38;5;241m.\u001B[39munique())\n\u001B[1;32m-> 5845\u001B[0m \u001B[38;5;28;01mraise\u001B[39;00m \u001B[38;5;167;01mKeyError\u001B[39;00m(\u001B[38;5;124mf\u001B[39m\u001B[38;5;124m\"\u001B[39m\u001B[38;5;132;01m{\u001B[39;00mnot_found\u001B[38;5;132;01m}\u001B[39;00m\u001B[38;5;124m not in index\u001B[39m\u001B[38;5;124m\"\u001B[39m)\n",
      "\u001B[1;31mKeyError\u001B[0m: \"['세종특별자치시'] not in index\""
     ]
    }
   ],
   "source": [
    "real_final = final.loc[aa]\n",
    "real_final"
   ]
  },
  {
   "cell_type": "code",
   "execution_count": 21,
   "id": "c279359c",
   "metadata": {
    "pycharm": {
     "name": "#%%\n"
    }
   },
   "outputs": [
    {
     "ename": "NameError",
     "evalue": "name 'real_final' is not defined",
     "output_type": "error",
     "traceback": [
      "\u001B[1;31m---------------------------------------------------------------------------\u001B[0m",
      "\u001B[1;31mNameError\u001B[0m                                 Traceback (most recent call last)",
      "Input \u001B[1;32mIn [21]\u001B[0m, in \u001B[0;36m<cell line: 1>\u001B[1;34m()\u001B[0m\n\u001B[1;32m----> 1\u001B[0m real_final \u001B[38;5;241m=\u001B[39m \u001B[43mreal_final\u001B[49m\u001B[38;5;241m.\u001B[39mreset_index()\n",
      "\u001B[1;31mNameError\u001B[0m: name 'real_final' is not defined"
     ]
    }
   ],
   "source": [
    "real_final = real_final.reset_index()"
   ]
  },
  {
   "cell_type": "code",
   "execution_count": 25,
   "id": "f27c9769",
   "metadata": {
    "pycharm": {
     "name": "#%%\n"
    }
   },
   "outputs": [],
   "source": [
    "real_final.to_csv(\"시계열데이터.csv\", encoding='utf-8-sig')"
   ]
  },
  {
   "cell_type": "code",
   "execution_count": null,
   "id": "d6f4f00f",
   "metadata": {
    "pycharm": {
     "name": "#%%\n"
    }
   },
   "outputs": [],
   "source": []
  },
  {
   "cell_type": "markdown",
   "source": [],
   "metadata": {
    "collapsed": false,
    "pycharm": {
     "name": "#%% md\n"
    }
   }
  },
  {
   "cell_type": "code",
   "execution_count": null,
   "id": "71e634e2",
   "metadata": {
    "pycharm": {
     "name": "#%%\n"
    }
   },
   "outputs": [],
   "source": []
  },
  {
   "cell_type": "code",
   "execution_count": null,
   "id": "7f8b4a15",
   "metadata": {
    "pycharm": {
     "name": "#%%\n"
    }
   },
   "outputs": [],
   "source": []
  },
  {
   "cell_type": "code",
   "execution_count": null,
   "id": "f7476cbe",
   "metadata": {
    "pycharm": {
     "name": "#%%\n"
    }
   },
   "outputs": [],
   "source": []
  },
  {
   "cell_type": "code",
   "execution_count": null,
   "id": "d84676f8",
   "metadata": {
    "pycharm": {
     "name": "#%%\n"
    }
   },
   "outputs": [],
   "source": []
  },
  {
   "cell_type": "code",
   "execution_count": null,
   "id": "44a80c78",
   "metadata": {
    "pycharm": {
     "name": "#%%\n"
    }
   },
   "outputs": [],
   "source": []
  }
 ],
 "metadata": {
  "kernelspec": {
   "display_name": "Python 3 (ipykernel)",
   "language": "python",
   "name": "python3"
  },
  "language_info": {
   "codemirror_mode": {
    "name": "ipython",
    "version": 3
   },
   "file_extension": ".py",
   "mimetype": "text/x-python",
   "name": "python",
   "nbconvert_exporter": "python",
   "pygments_lexer": "ipython3",
   "version": "3.9.12"
  }
 },
 "nbformat": 4,
 "nbformat_minor": 5
}