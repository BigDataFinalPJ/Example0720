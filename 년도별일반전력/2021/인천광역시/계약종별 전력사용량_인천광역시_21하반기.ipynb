{
 "cells": [
  {
   "cell_type": "markdown",
   "source": [],
   "metadata": {
    "collapsed": false,
    "pycharm": {
     "name": "#%% md\n"
    }
   }
  },
  {
   "cell_type": "code",
   "execution_count": 1,
   "outputs": [],
   "source": [
    "import pandas as pd\n",
    "import re\n",
    "\n",
    "pd.options.display.float_format = '{:.0f}'.format"
   ],
   "metadata": {
    "collapsed": false,
    "pycharm": {
     "name": "#%%\n"
    }
   }
  },
  {
   "cell_type": "markdown",
   "source": [
    "### 1. 꼭 read_csv 21상반기, 19하반기와 같이 맞추어 주세요!!! 또한 지역(전라북도, 남도) 맞추기!!!!!"
   ],
   "metadata": {
    "collapsed": false,
    "pycharm": {
     "name": "#%% md\n"
    }
   }
  },
  {
   "cell_type": "code",
   "execution_count": 2,
   "outputs": [
    {
     "data": {
      "text/plain": "        계약종별 전력사용량 월별( 20220804 현재 ) Unnamed: 1     Unnamed: 2 Unnamed: 3  \\\n0    시도 : 인천광역시, 시군구 : 전체(시 / 군 / 구)        NaN            NaN        NaN   \n1        기간 : 2021년 07 월 ~ 2021년 12월        NaN            NaN        NaN   \n2                                 년월         시구            시군구       계약구분   \n3                             202107      인천광역시  전체(시 / 군 / 구)        주택용   \n4                             202107      인천광역시  전체(시 / 군 / 구)        일반용   \n..                               ...        ...            ...        ...   \n523                           202112      인천광역시             중구        산업용   \n524                           202112      인천광역시             중구        심 야   \n525                           202112      인천광역시             중구        일반용   \n526                           202112      인천광역시             중구        주택용   \n527                           202112      인천광역시             중구         합계   \n\n    Unnamed: 4    Unnamed: 5       Unnamed: 6     Unnamed: 7  \n0          NaN           NaN              NaN            NaN  \n1          NaN           NaN              NaN            NaN  \n2      고객호수(호)      사용량(kWh)          전기요금(원)  평균판매단가(원/kWh)  \n3     756,809   420,911,665   47,123,270,488          112.0   \n4     142,468   565,920,596   79,536,048,680          140.5   \n..         ...           ...              ...            ...  \n523       622    90,748,340   10,427,894,300          114.9   \n524     1,174     2,292,845      178,738,448             78   \n525    11,851    98,488,618   12,406,089,845            126   \n526    40,850    20,374,480    2,315,262,953          113.6   \n527    62,173   218,104,834   25,934,904,041          118.9   \n\n[528 rows x 8 columns]",
      "text/html": "<div>\n<style scoped>\n    .dataframe tbody tr th:only-of-type {\n        vertical-align: middle;\n    }\n\n    .dataframe tbody tr th {\n        vertical-align: top;\n    }\n\n    .dataframe thead th {\n        text-align: right;\n    }\n</style>\n<table border=\"1\" class=\"dataframe\">\n  <thead>\n    <tr style=\"text-align: right;\">\n      <th></th>\n      <th>계약종별 전력사용량 월별( 20220804 현재 )</th>\n      <th>Unnamed: 1</th>\n      <th>Unnamed: 2</th>\n      <th>Unnamed: 3</th>\n      <th>Unnamed: 4</th>\n      <th>Unnamed: 5</th>\n      <th>Unnamed: 6</th>\n      <th>Unnamed: 7</th>\n    </tr>\n  </thead>\n  <tbody>\n    <tr>\n      <th>0</th>\n      <td>시도 : 인천광역시, 시군구 : 전체(시 / 군 / 구)</td>\n      <td>NaN</td>\n      <td>NaN</td>\n      <td>NaN</td>\n      <td>NaN</td>\n      <td>NaN</td>\n      <td>NaN</td>\n      <td>NaN</td>\n    </tr>\n    <tr>\n      <th>1</th>\n      <td>기간 : 2021년 07 월 ~ 2021년 12월</td>\n      <td>NaN</td>\n      <td>NaN</td>\n      <td>NaN</td>\n      <td>NaN</td>\n      <td>NaN</td>\n      <td>NaN</td>\n      <td>NaN</td>\n    </tr>\n    <tr>\n      <th>2</th>\n      <td>년월</td>\n      <td>시구</td>\n      <td>시군구</td>\n      <td>계약구분</td>\n      <td>고객호수(호)</td>\n      <td>사용량(kWh)</td>\n      <td>전기요금(원)</td>\n      <td>평균판매단가(원/kWh)</td>\n    </tr>\n    <tr>\n      <th>3</th>\n      <td>202107</td>\n      <td>인천광역시</td>\n      <td>전체(시 / 군 / 구)</td>\n      <td>주택용</td>\n      <td>756,809</td>\n      <td>420,911,665</td>\n      <td>47,123,270,488</td>\n      <td>112.0</td>\n    </tr>\n    <tr>\n      <th>4</th>\n      <td>202107</td>\n      <td>인천광역시</td>\n      <td>전체(시 / 군 / 구)</td>\n      <td>일반용</td>\n      <td>142,468</td>\n      <td>565,920,596</td>\n      <td>79,536,048,680</td>\n      <td>140.5</td>\n    </tr>\n    <tr>\n      <th>...</th>\n      <td>...</td>\n      <td>...</td>\n      <td>...</td>\n      <td>...</td>\n      <td>...</td>\n      <td>...</td>\n      <td>...</td>\n      <td>...</td>\n    </tr>\n    <tr>\n      <th>523</th>\n      <td>202112</td>\n      <td>인천광역시</td>\n      <td>중구</td>\n      <td>산업용</td>\n      <td>622</td>\n      <td>90,748,340</td>\n      <td>10,427,894,300</td>\n      <td>114.9</td>\n    </tr>\n    <tr>\n      <th>524</th>\n      <td>202112</td>\n      <td>인천광역시</td>\n      <td>중구</td>\n      <td>심 야</td>\n      <td>1,174</td>\n      <td>2,292,845</td>\n      <td>178,738,448</td>\n      <td>78</td>\n    </tr>\n    <tr>\n      <th>525</th>\n      <td>202112</td>\n      <td>인천광역시</td>\n      <td>중구</td>\n      <td>일반용</td>\n      <td>11,851</td>\n      <td>98,488,618</td>\n      <td>12,406,089,845</td>\n      <td>126</td>\n    </tr>\n    <tr>\n      <th>526</th>\n      <td>202112</td>\n      <td>인천광역시</td>\n      <td>중구</td>\n      <td>주택용</td>\n      <td>40,850</td>\n      <td>20,374,480</td>\n      <td>2,315,262,953</td>\n      <td>113.6</td>\n    </tr>\n    <tr>\n      <th>527</th>\n      <td>202112</td>\n      <td>인천광역시</td>\n      <td>중구</td>\n      <td>합계</td>\n      <td>62,173</td>\n      <td>218,104,834</td>\n      <td>25,934,904,041</td>\n      <td>118.9</td>\n    </tr>\n  </tbody>\n</table>\n<p>528 rows × 8 columns</p>\n</div>"
     },
     "execution_count": 2,
     "metadata": {},
     "output_type": "execute_result"
    }
   ],
   "source": [
    "df = pd.read_csv('인천광역시_계약종별_전력사용량_월별_21하반기.csv' , encoding='cp949')\n",
    "\n",
    "df\n",
    "#exchng=  pd.read_csv('지역별_전력거래량_20220803093050.csv' , encoding='cp949')"
   ],
   "metadata": {
    "collapsed": false,
    "pycharm": {
     "name": "#%%\n"
    }
   }
  },
  {
   "cell_type": "code",
   "execution_count": 3,
   "outputs": [
    {
     "data": {
      "text/plain": "    계약종별 전력사용량 월별( 20220804 현재 ) Unnamed: 1     Unnamed: 2 Unnamed: 3  \\\n2                             년월         시구            시군구       계약구분   \n3                         202107      인천광역시  전체(시 / 군 / 구)        주택용   \n4                         202107      인천광역시  전체(시 / 군 / 구)        일반용   \n5                         202107      인천광역시  전체(시 / 군 / 구)        교육용   \n6                         202107      인천광역시  전체(시 / 군 / 구)        산업용   \n..                           ...        ...            ...        ...   \n523                       202112      인천광역시             중구        산업용   \n524                       202112      인천광역시             중구        심 야   \n525                       202112      인천광역시             중구        일반용   \n526                       202112      인천광역시             중구        주택용   \n527                       202112      인천광역시             중구         합계   \n\n    Unnamed: 4      Unnamed: 5        Unnamed: 6     Unnamed: 7  \n2      고객호수(호)        사용량(kWh)           전기요금(원)  평균판매단가(원/kWh)  \n3     756,809     420,911,665    47,123,270,488          112.0   \n4     142,468     565,920,596    79,536,048,680          140.5   \n5         975      27,608,642     3,391,164,194          122.8   \n6      19,826   1,146,345,507   137,711,669,664          120.1   \n..         ...             ...               ...            ...  \n523       622      90,748,340    10,427,894,300          114.9   \n524     1,174       2,292,845       178,738,448             78   \n525    11,851      98,488,618    12,406,089,845            126   \n526    40,850      20,374,480     2,315,262,953          113.6   \n527    62,173     218,104,834    25,934,904,041          118.9   \n\n[525 rows x 8 columns]",
      "text/html": "<div>\n<style scoped>\n    .dataframe tbody tr th:only-of-type {\n        vertical-align: middle;\n    }\n\n    .dataframe tbody tr th {\n        vertical-align: top;\n    }\n\n    .dataframe thead th {\n        text-align: right;\n    }\n</style>\n<table border=\"1\" class=\"dataframe\">\n  <thead>\n    <tr style=\"text-align: right;\">\n      <th></th>\n      <th>계약종별 전력사용량 월별( 20220804 현재 )</th>\n      <th>Unnamed: 1</th>\n      <th>Unnamed: 2</th>\n      <th>Unnamed: 3</th>\n      <th>Unnamed: 4</th>\n      <th>Unnamed: 5</th>\n      <th>Unnamed: 6</th>\n      <th>Unnamed: 7</th>\n    </tr>\n  </thead>\n  <tbody>\n    <tr>\n      <th>2</th>\n      <td>년월</td>\n      <td>시구</td>\n      <td>시군구</td>\n      <td>계약구분</td>\n      <td>고객호수(호)</td>\n      <td>사용량(kWh)</td>\n      <td>전기요금(원)</td>\n      <td>평균판매단가(원/kWh)</td>\n    </tr>\n    <tr>\n      <th>3</th>\n      <td>202107</td>\n      <td>인천광역시</td>\n      <td>전체(시 / 군 / 구)</td>\n      <td>주택용</td>\n      <td>756,809</td>\n      <td>420,911,665</td>\n      <td>47,123,270,488</td>\n      <td>112.0</td>\n    </tr>\n    <tr>\n      <th>4</th>\n      <td>202107</td>\n      <td>인천광역시</td>\n      <td>전체(시 / 군 / 구)</td>\n      <td>일반용</td>\n      <td>142,468</td>\n      <td>565,920,596</td>\n      <td>79,536,048,680</td>\n      <td>140.5</td>\n    </tr>\n    <tr>\n      <th>5</th>\n      <td>202107</td>\n      <td>인천광역시</td>\n      <td>전체(시 / 군 / 구)</td>\n      <td>교육용</td>\n      <td>975</td>\n      <td>27,608,642</td>\n      <td>3,391,164,194</td>\n      <td>122.8</td>\n    </tr>\n    <tr>\n      <th>6</th>\n      <td>202107</td>\n      <td>인천광역시</td>\n      <td>전체(시 / 군 / 구)</td>\n      <td>산업용</td>\n      <td>19,826</td>\n      <td>1,146,345,507</td>\n      <td>137,711,669,664</td>\n      <td>120.1</td>\n    </tr>\n    <tr>\n      <th>...</th>\n      <td>...</td>\n      <td>...</td>\n      <td>...</td>\n      <td>...</td>\n      <td>...</td>\n      <td>...</td>\n      <td>...</td>\n      <td>...</td>\n    </tr>\n    <tr>\n      <th>523</th>\n      <td>202112</td>\n      <td>인천광역시</td>\n      <td>중구</td>\n      <td>산업용</td>\n      <td>622</td>\n      <td>90,748,340</td>\n      <td>10,427,894,300</td>\n      <td>114.9</td>\n    </tr>\n    <tr>\n      <th>524</th>\n      <td>202112</td>\n      <td>인천광역시</td>\n      <td>중구</td>\n      <td>심 야</td>\n      <td>1,174</td>\n      <td>2,292,845</td>\n      <td>178,738,448</td>\n      <td>78</td>\n    </tr>\n    <tr>\n      <th>525</th>\n      <td>202112</td>\n      <td>인천광역시</td>\n      <td>중구</td>\n      <td>일반용</td>\n      <td>11,851</td>\n      <td>98,488,618</td>\n      <td>12,406,089,845</td>\n      <td>126</td>\n    </tr>\n    <tr>\n      <th>526</th>\n      <td>202112</td>\n      <td>인천광역시</td>\n      <td>중구</td>\n      <td>주택용</td>\n      <td>40,850</td>\n      <td>20,374,480</td>\n      <td>2,315,262,953</td>\n      <td>113.6</td>\n    </tr>\n    <tr>\n      <th>527</th>\n      <td>202112</td>\n      <td>인천광역시</td>\n      <td>중구</td>\n      <td>합계</td>\n      <td>62,173</td>\n      <td>218,104,834</td>\n      <td>25,934,904,041</td>\n      <td>118.9</td>\n    </tr>\n  </tbody>\n</table>\n<p>525 rows × 8 columns</p>\n</div>"
     },
     "execution_count": 3,
     "metadata": {},
     "output_type": "execute_result"
    }
   ],
   "source": [
    "df = df.drop([0,1 , 46] , axis = 0)\n",
    "#0,1 , 10은 지우는게 맞다\n",
    "df"
   ],
   "metadata": {
    "collapsed": false,
    "pycharm": {
     "name": "#%%\n"
    }
   }
  },
  {
   "cell_type": "code",
   "execution_count": 4,
   "outputs": [],
   "source": [
    "a= df.loc[2].tolist()\n",
    "a\n",
    "df = df.drop([2] , axis = 0)"
   ],
   "metadata": {
    "collapsed": false,
    "pycharm": {
     "name": "#%%\n"
    }
   }
  },
  {
   "cell_type": "code",
   "execution_count": 5,
   "outputs": [
    {
     "data": {
      "text/plain": "         년월     시구            시군구 계약구분   고객호수(호)        사용량(kWh)  \\\n3    202107  인천광역시  전체(시 / 군 / 구)  주택용  756,809     420,911,665    \n4    202107  인천광역시  전체(시 / 군 / 구)  일반용  142,468     565,920,596    \n5    202107  인천광역시  전체(시 / 군 / 구)  교육용      975      27,608,642    \n6    202107  인천광역시  전체(시 / 군 / 구)  산업용   19,826   1,146,345,507    \n7    202107  인천광역시  전체(시 / 군 / 구)  농사용   27,078      12,003,150    \n..      ...    ...            ...  ...       ...             ...   \n523  202112  인천광역시             중구  산업용      622      90,748,340    \n524  202112  인천광역시             중구  심 야    1,174       2,292,845    \n525  202112  인천광역시             중구  일반용   11,851      98,488,618    \n526  202112  인천광역시             중구  주택용   40,850      20,374,480    \n527  202112  인천광역시             중구   합계   62,173     218,104,834    \n\n              전기요금(원) 평균판매단가(원/kWh)  \n3     47,123,270,488         112.0   \n4     79,536,048,680         140.5   \n5      3,391,164,194         122.8   \n6    137,711,669,664         120.1   \n7        583,306,915          48.6   \n..                ...           ...  \n523   10,427,894,300         114.9   \n524      178,738,448            78   \n525   12,406,089,845           126   \n526    2,315,262,953         113.6   \n527   25,934,904,041         118.9   \n\n[524 rows x 8 columns]",
      "text/html": "<div>\n<style scoped>\n    .dataframe tbody tr th:only-of-type {\n        vertical-align: middle;\n    }\n\n    .dataframe tbody tr th {\n        vertical-align: top;\n    }\n\n    .dataframe thead th {\n        text-align: right;\n    }\n</style>\n<table border=\"1\" class=\"dataframe\">\n  <thead>\n    <tr style=\"text-align: right;\">\n      <th></th>\n      <th>년월</th>\n      <th>시구</th>\n      <th>시군구</th>\n      <th>계약구분</th>\n      <th>고객호수(호)</th>\n      <th>사용량(kWh)</th>\n      <th>전기요금(원)</th>\n      <th>평균판매단가(원/kWh)</th>\n    </tr>\n  </thead>\n  <tbody>\n    <tr>\n      <th>3</th>\n      <td>202107</td>\n      <td>인천광역시</td>\n      <td>전체(시 / 군 / 구)</td>\n      <td>주택용</td>\n      <td>756,809</td>\n      <td>420,911,665</td>\n      <td>47,123,270,488</td>\n      <td>112.0</td>\n    </tr>\n    <tr>\n      <th>4</th>\n      <td>202107</td>\n      <td>인천광역시</td>\n      <td>전체(시 / 군 / 구)</td>\n      <td>일반용</td>\n      <td>142,468</td>\n      <td>565,920,596</td>\n      <td>79,536,048,680</td>\n      <td>140.5</td>\n    </tr>\n    <tr>\n      <th>5</th>\n      <td>202107</td>\n      <td>인천광역시</td>\n      <td>전체(시 / 군 / 구)</td>\n      <td>교육용</td>\n      <td>975</td>\n      <td>27,608,642</td>\n      <td>3,391,164,194</td>\n      <td>122.8</td>\n    </tr>\n    <tr>\n      <th>6</th>\n      <td>202107</td>\n      <td>인천광역시</td>\n      <td>전체(시 / 군 / 구)</td>\n      <td>산업용</td>\n      <td>19,826</td>\n      <td>1,146,345,507</td>\n      <td>137,711,669,664</td>\n      <td>120.1</td>\n    </tr>\n    <tr>\n      <th>7</th>\n      <td>202107</td>\n      <td>인천광역시</td>\n      <td>전체(시 / 군 / 구)</td>\n      <td>농사용</td>\n      <td>27,078</td>\n      <td>12,003,150</td>\n      <td>583,306,915</td>\n      <td>48.6</td>\n    </tr>\n    <tr>\n      <th>...</th>\n      <td>...</td>\n      <td>...</td>\n      <td>...</td>\n      <td>...</td>\n      <td>...</td>\n      <td>...</td>\n      <td>...</td>\n      <td>...</td>\n    </tr>\n    <tr>\n      <th>523</th>\n      <td>202112</td>\n      <td>인천광역시</td>\n      <td>중구</td>\n      <td>산업용</td>\n      <td>622</td>\n      <td>90,748,340</td>\n      <td>10,427,894,300</td>\n      <td>114.9</td>\n    </tr>\n    <tr>\n      <th>524</th>\n      <td>202112</td>\n      <td>인천광역시</td>\n      <td>중구</td>\n      <td>심 야</td>\n      <td>1,174</td>\n      <td>2,292,845</td>\n      <td>178,738,448</td>\n      <td>78</td>\n    </tr>\n    <tr>\n      <th>525</th>\n      <td>202112</td>\n      <td>인천광역시</td>\n      <td>중구</td>\n      <td>일반용</td>\n      <td>11,851</td>\n      <td>98,488,618</td>\n      <td>12,406,089,845</td>\n      <td>126</td>\n    </tr>\n    <tr>\n      <th>526</th>\n      <td>202112</td>\n      <td>인천광역시</td>\n      <td>중구</td>\n      <td>주택용</td>\n      <td>40,850</td>\n      <td>20,374,480</td>\n      <td>2,315,262,953</td>\n      <td>113.6</td>\n    </tr>\n    <tr>\n      <th>527</th>\n      <td>202112</td>\n      <td>인천광역시</td>\n      <td>중구</td>\n      <td>합계</td>\n      <td>62,173</td>\n      <td>218,104,834</td>\n      <td>25,934,904,041</td>\n      <td>118.9</td>\n    </tr>\n  </tbody>\n</table>\n<p>524 rows × 8 columns</p>\n</div>"
     },
     "execution_count": 5,
     "metadata": {},
     "output_type": "execute_result"
    }
   ],
   "source": [
    "df.columns = a\n",
    "df"
   ],
   "metadata": {
    "collapsed": false,
    "pycharm": {
     "name": "#%%\n"
    }
   }
  },
  {
   "cell_type": "code",
   "execution_count": 6,
   "outputs": [
    {
     "data": {
      "text/plain": "        년월     시구            시군구 계약구분    고객호수(호)        사용량(kWh)  \\\n3   202107  인천광역시  전체(시 / 군 / 구)  주택용   756,809     420,911,665    \n4   202107  인천광역시  전체(시 / 군 / 구)  일반용   142,468     565,920,596    \n5   202107  인천광역시  전체(시 / 군 / 구)  교육용       975      27,608,642    \n6   202107  인천광역시  전체(시 / 군 / 구)  산업용    19,826   1,146,345,507    \n7   202107  인천광역시  전체(시 / 군 / 구)  농사용    27,078      12,003,150    \n8   202107  인천광역시  전체(시 / 군 / 구)  가로등    72,163      10,692,265    \n9   202107  인천광역시  전체(시 / 군 / 구)  심 야    14,034       7,814,903    \n10  202108  인천광역시  전체(시 / 군 / 구)  주택용   756,868     566,349,753    \n11  202108  인천광역시  전체(시 / 군 / 구)  일반용   142,898     625,697,395    \n12  202108  인천광역시  전체(시 / 군 / 구)  교육용       975      25,849,529    \n13  202108  인천광역시  전체(시 / 군 / 구)  산업용    19,840   1,133,521,394    \n14  202108  인천광역시  전체(시 / 군 / 구)  농사용    27,225      18,226,804    \n15  202108  인천광역시  전체(시 / 군 / 구)  가로등    72,389      11,384,054    \n16  202108  인천광역시  전체(시 / 군 / 구)  심 야    13,985       6,457,128    \n17  202109  인천광역시  전체(시 / 군 / 구)  주택용   756,882     419,685,629    \n18  202109  인천광역시  전체(시 / 군 / 구)  일반용   143,176     537,377,402    \n19  202109  인천광역시  전체(시 / 군 / 구)  교육용       980      25,760,190    \n20  202109  인천광역시  전체(시 / 군 / 구)  산업용    19,861   1,044,166,546    \n21  202109  인천광역시  전체(시 / 군 / 구)  농사용    27,351      19,874,086    \n22  202109  인천광역시  전체(시 / 군 / 구)  가로등    72,435      12,035,012    \n23  202109  인천광역시  전체(시 / 군 / 구)  심 야    13,951       6,272,354    \n24  202110  인천광역시  전체(시 / 군 / 구)  주택용   756,747     356,672,586    \n25  202110  인천광역시  전체(시 / 군 / 구)  일반용   143,278     474,072,210    \n26  202110  인천광역시  전체(시 / 군 / 구)  교육용       978      22,481,369    \n27  202110  인천광역시  전체(시 / 군 / 구)  산업용    19,877   1,037,432,020    \n28  202110  인천광역시  전체(시 / 군 / 구)  농사용    27,412      14,782,513    \n29  202110  인천광역시  전체(시 / 군 / 구)  가로등    72,647      13,131,515    \n30  202110  인천광역시  전체(시 / 군 / 구)  심 야    13,898       6,450,990    \n31  202111  인천광역시  전체(시 / 군 / 구)  주택용   757,125     360,757,928    \n32  202111  인천광역시  전체(시 / 군 / 구)  일반용   143,648     468,938,682    \n33  202111  인천광역시  전체(시 / 군 / 구)  교육용       976      30,532,339    \n34  202111  인천광역시  전체(시 / 군 / 구)  산업용    19,926   1,037,858,004    \n35  202111  인천광역시  전체(시 / 군 / 구)  농사용    35,177      19,741,441    \n36  202111  인천광역시  전체(시 / 군 / 구)  가로등    72,956      14,071,432    \n37  202111  인천광역시  전체(시 / 군 / 구)  심 야    13,856      14,516,770    \n38  202112  인천광역시  전체(시 / 군 / 구)  주택용   757,462     375,990,440    \n39  202112  인천광역시  전체(시 / 군 / 구)  일반용   144,307     548,526,695    \n40  202112  인천광역시  전체(시 / 군 / 구)  교육용       975      46,804,220    \n41  202112  인천광역시  전체(시 / 군 / 구)  산업용    19,939   1,133,402,851    \n42  202112  인천광역시  전체(시 / 군 / 구)  농사용    32,071      16,442,844    \n43  202112  인천광역시  전체(시 / 군 / 구)  가로등    73,549      14,748,762    \n44  202112  인천광역시  전체(시 / 군 / 구)  심 야    13,790      23,408,582    \n45      합계     합계             합계   합계  6,222,763  12,674,718,197   \n\n              전기요금(원) 평균판매단가(원/kWh)  \n3     47,123,270,488         112.0   \n4     79,536,048,680         140.5   \n5      3,391,164,194         122.8   \n6    137,711,669,664         120.1   \n7        583,306,915          48.6   \n8      1,320,348,850         123.5   \n9        470,464,552          60.2   \n10    72,031,297,122         127.2   \n11    85,212,510,613         136.2   \n12     3,193,088,450         123.5   \n13   133,519,406,023         117.8   \n14       809,039,564          44.4   \n15     1,362,147,583         119.7   \n16       393,972,636          61.0   \n17    45,375,978,756         108.1   \n18    64,804,159,844         120.6   \n19     2,503,374,647          97.2   \n20   103,739,022,293          99.4   \n21       881,701,913          44.4   \n22     1,403,208,442         116.6   \n23       363,540,380          58.0   \n24    38,568,522,496         108.1   \n25    53,753,964,580         113.4   \n26     2,250,918,585         100.1   \n27   100,903,344,997          97.3   \n28       743,357,047          50.3   \n29     1,505,672,430         114.7   \n30       390,193,440          60.5   \n31    39,605,626,638         109.8   \n32    62,223,555,370         132.7   \n33     3,634,199,759         119.0   \n34   124,821,533,113         120.3   \n35       829,690,346          42.0   \n36     1,578,199,677         112.2   \n37       951,426,755          65.5   \n38    42,377,535,283         112.7   \n39    74,672,302,588         136.1   \n40     4,476,608,912          95.6   \n41   136,862,015,552         120.8   \n42       730,059,922          44.4   \n43     1,619,130,784         109.8   \n44     1,785,888,328          76.3   \n45  1,480,012,468,211         116.8  ",
      "text/html": "<div>\n<style scoped>\n    .dataframe tbody tr th:only-of-type {\n        vertical-align: middle;\n    }\n\n    .dataframe tbody tr th {\n        vertical-align: top;\n    }\n\n    .dataframe thead th {\n        text-align: right;\n    }\n</style>\n<table border=\"1\" class=\"dataframe\">\n  <thead>\n    <tr style=\"text-align: right;\">\n      <th></th>\n      <th>년월</th>\n      <th>시구</th>\n      <th>시군구</th>\n      <th>계약구분</th>\n      <th>고객호수(호)</th>\n      <th>사용량(kWh)</th>\n      <th>전기요금(원)</th>\n      <th>평균판매단가(원/kWh)</th>\n    </tr>\n  </thead>\n  <tbody>\n    <tr>\n      <th>3</th>\n      <td>202107</td>\n      <td>인천광역시</td>\n      <td>전체(시 / 군 / 구)</td>\n      <td>주택용</td>\n      <td>756,809</td>\n      <td>420,911,665</td>\n      <td>47,123,270,488</td>\n      <td>112.0</td>\n    </tr>\n    <tr>\n      <th>4</th>\n      <td>202107</td>\n      <td>인천광역시</td>\n      <td>전체(시 / 군 / 구)</td>\n      <td>일반용</td>\n      <td>142,468</td>\n      <td>565,920,596</td>\n      <td>79,536,048,680</td>\n      <td>140.5</td>\n    </tr>\n    <tr>\n      <th>5</th>\n      <td>202107</td>\n      <td>인천광역시</td>\n      <td>전체(시 / 군 / 구)</td>\n      <td>교육용</td>\n      <td>975</td>\n      <td>27,608,642</td>\n      <td>3,391,164,194</td>\n      <td>122.8</td>\n    </tr>\n    <tr>\n      <th>6</th>\n      <td>202107</td>\n      <td>인천광역시</td>\n      <td>전체(시 / 군 / 구)</td>\n      <td>산업용</td>\n      <td>19,826</td>\n      <td>1,146,345,507</td>\n      <td>137,711,669,664</td>\n      <td>120.1</td>\n    </tr>\n    <tr>\n      <th>7</th>\n      <td>202107</td>\n      <td>인천광역시</td>\n      <td>전체(시 / 군 / 구)</td>\n      <td>농사용</td>\n      <td>27,078</td>\n      <td>12,003,150</td>\n      <td>583,306,915</td>\n      <td>48.6</td>\n    </tr>\n    <tr>\n      <th>8</th>\n      <td>202107</td>\n      <td>인천광역시</td>\n      <td>전체(시 / 군 / 구)</td>\n      <td>가로등</td>\n      <td>72,163</td>\n      <td>10,692,265</td>\n      <td>1,320,348,850</td>\n      <td>123.5</td>\n    </tr>\n    <tr>\n      <th>9</th>\n      <td>202107</td>\n      <td>인천광역시</td>\n      <td>전체(시 / 군 / 구)</td>\n      <td>심 야</td>\n      <td>14,034</td>\n      <td>7,814,903</td>\n      <td>470,464,552</td>\n      <td>60.2</td>\n    </tr>\n    <tr>\n      <th>10</th>\n      <td>202108</td>\n      <td>인천광역시</td>\n      <td>전체(시 / 군 / 구)</td>\n      <td>주택용</td>\n      <td>756,868</td>\n      <td>566,349,753</td>\n      <td>72,031,297,122</td>\n      <td>127.2</td>\n    </tr>\n    <tr>\n      <th>11</th>\n      <td>202108</td>\n      <td>인천광역시</td>\n      <td>전체(시 / 군 / 구)</td>\n      <td>일반용</td>\n      <td>142,898</td>\n      <td>625,697,395</td>\n      <td>85,212,510,613</td>\n      <td>136.2</td>\n    </tr>\n    <tr>\n      <th>12</th>\n      <td>202108</td>\n      <td>인천광역시</td>\n      <td>전체(시 / 군 / 구)</td>\n      <td>교육용</td>\n      <td>975</td>\n      <td>25,849,529</td>\n      <td>3,193,088,450</td>\n      <td>123.5</td>\n    </tr>\n    <tr>\n      <th>13</th>\n      <td>202108</td>\n      <td>인천광역시</td>\n      <td>전체(시 / 군 / 구)</td>\n      <td>산업용</td>\n      <td>19,840</td>\n      <td>1,133,521,394</td>\n      <td>133,519,406,023</td>\n      <td>117.8</td>\n    </tr>\n    <tr>\n      <th>14</th>\n      <td>202108</td>\n      <td>인천광역시</td>\n      <td>전체(시 / 군 / 구)</td>\n      <td>농사용</td>\n      <td>27,225</td>\n      <td>18,226,804</td>\n      <td>809,039,564</td>\n      <td>44.4</td>\n    </tr>\n    <tr>\n      <th>15</th>\n      <td>202108</td>\n      <td>인천광역시</td>\n      <td>전체(시 / 군 / 구)</td>\n      <td>가로등</td>\n      <td>72,389</td>\n      <td>11,384,054</td>\n      <td>1,362,147,583</td>\n      <td>119.7</td>\n    </tr>\n    <tr>\n      <th>16</th>\n      <td>202108</td>\n      <td>인천광역시</td>\n      <td>전체(시 / 군 / 구)</td>\n      <td>심 야</td>\n      <td>13,985</td>\n      <td>6,457,128</td>\n      <td>393,972,636</td>\n      <td>61.0</td>\n    </tr>\n    <tr>\n      <th>17</th>\n      <td>202109</td>\n      <td>인천광역시</td>\n      <td>전체(시 / 군 / 구)</td>\n      <td>주택용</td>\n      <td>756,882</td>\n      <td>419,685,629</td>\n      <td>45,375,978,756</td>\n      <td>108.1</td>\n    </tr>\n    <tr>\n      <th>18</th>\n      <td>202109</td>\n      <td>인천광역시</td>\n      <td>전체(시 / 군 / 구)</td>\n      <td>일반용</td>\n      <td>143,176</td>\n      <td>537,377,402</td>\n      <td>64,804,159,844</td>\n      <td>120.6</td>\n    </tr>\n    <tr>\n      <th>19</th>\n      <td>202109</td>\n      <td>인천광역시</td>\n      <td>전체(시 / 군 / 구)</td>\n      <td>교육용</td>\n      <td>980</td>\n      <td>25,760,190</td>\n      <td>2,503,374,647</td>\n      <td>97.2</td>\n    </tr>\n    <tr>\n      <th>20</th>\n      <td>202109</td>\n      <td>인천광역시</td>\n      <td>전체(시 / 군 / 구)</td>\n      <td>산업용</td>\n      <td>19,861</td>\n      <td>1,044,166,546</td>\n      <td>103,739,022,293</td>\n      <td>99.4</td>\n    </tr>\n    <tr>\n      <th>21</th>\n      <td>202109</td>\n      <td>인천광역시</td>\n      <td>전체(시 / 군 / 구)</td>\n      <td>농사용</td>\n      <td>27,351</td>\n      <td>19,874,086</td>\n      <td>881,701,913</td>\n      <td>44.4</td>\n    </tr>\n    <tr>\n      <th>22</th>\n      <td>202109</td>\n      <td>인천광역시</td>\n      <td>전체(시 / 군 / 구)</td>\n      <td>가로등</td>\n      <td>72,435</td>\n      <td>12,035,012</td>\n      <td>1,403,208,442</td>\n      <td>116.6</td>\n    </tr>\n    <tr>\n      <th>23</th>\n      <td>202109</td>\n      <td>인천광역시</td>\n      <td>전체(시 / 군 / 구)</td>\n      <td>심 야</td>\n      <td>13,951</td>\n      <td>6,272,354</td>\n      <td>363,540,380</td>\n      <td>58.0</td>\n    </tr>\n    <tr>\n      <th>24</th>\n      <td>202110</td>\n      <td>인천광역시</td>\n      <td>전체(시 / 군 / 구)</td>\n      <td>주택용</td>\n      <td>756,747</td>\n      <td>356,672,586</td>\n      <td>38,568,522,496</td>\n      <td>108.1</td>\n    </tr>\n    <tr>\n      <th>25</th>\n      <td>202110</td>\n      <td>인천광역시</td>\n      <td>전체(시 / 군 / 구)</td>\n      <td>일반용</td>\n      <td>143,278</td>\n      <td>474,072,210</td>\n      <td>53,753,964,580</td>\n      <td>113.4</td>\n    </tr>\n    <tr>\n      <th>26</th>\n      <td>202110</td>\n      <td>인천광역시</td>\n      <td>전체(시 / 군 / 구)</td>\n      <td>교육용</td>\n      <td>978</td>\n      <td>22,481,369</td>\n      <td>2,250,918,585</td>\n      <td>100.1</td>\n    </tr>\n    <tr>\n      <th>27</th>\n      <td>202110</td>\n      <td>인천광역시</td>\n      <td>전체(시 / 군 / 구)</td>\n      <td>산업용</td>\n      <td>19,877</td>\n      <td>1,037,432,020</td>\n      <td>100,903,344,997</td>\n      <td>97.3</td>\n    </tr>\n    <tr>\n      <th>28</th>\n      <td>202110</td>\n      <td>인천광역시</td>\n      <td>전체(시 / 군 / 구)</td>\n      <td>농사용</td>\n      <td>27,412</td>\n      <td>14,782,513</td>\n      <td>743,357,047</td>\n      <td>50.3</td>\n    </tr>\n    <tr>\n      <th>29</th>\n      <td>202110</td>\n      <td>인천광역시</td>\n      <td>전체(시 / 군 / 구)</td>\n      <td>가로등</td>\n      <td>72,647</td>\n      <td>13,131,515</td>\n      <td>1,505,672,430</td>\n      <td>114.7</td>\n    </tr>\n    <tr>\n      <th>30</th>\n      <td>202110</td>\n      <td>인천광역시</td>\n      <td>전체(시 / 군 / 구)</td>\n      <td>심 야</td>\n      <td>13,898</td>\n      <td>6,450,990</td>\n      <td>390,193,440</td>\n      <td>60.5</td>\n    </tr>\n    <tr>\n      <th>31</th>\n      <td>202111</td>\n      <td>인천광역시</td>\n      <td>전체(시 / 군 / 구)</td>\n      <td>주택용</td>\n      <td>757,125</td>\n      <td>360,757,928</td>\n      <td>39,605,626,638</td>\n      <td>109.8</td>\n    </tr>\n    <tr>\n      <th>32</th>\n      <td>202111</td>\n      <td>인천광역시</td>\n      <td>전체(시 / 군 / 구)</td>\n      <td>일반용</td>\n      <td>143,648</td>\n      <td>468,938,682</td>\n      <td>62,223,555,370</td>\n      <td>132.7</td>\n    </tr>\n    <tr>\n      <th>33</th>\n      <td>202111</td>\n      <td>인천광역시</td>\n      <td>전체(시 / 군 / 구)</td>\n      <td>교육용</td>\n      <td>976</td>\n      <td>30,532,339</td>\n      <td>3,634,199,759</td>\n      <td>119.0</td>\n    </tr>\n    <tr>\n      <th>34</th>\n      <td>202111</td>\n      <td>인천광역시</td>\n      <td>전체(시 / 군 / 구)</td>\n      <td>산업용</td>\n      <td>19,926</td>\n      <td>1,037,858,004</td>\n      <td>124,821,533,113</td>\n      <td>120.3</td>\n    </tr>\n    <tr>\n      <th>35</th>\n      <td>202111</td>\n      <td>인천광역시</td>\n      <td>전체(시 / 군 / 구)</td>\n      <td>농사용</td>\n      <td>35,177</td>\n      <td>19,741,441</td>\n      <td>829,690,346</td>\n      <td>42.0</td>\n    </tr>\n    <tr>\n      <th>36</th>\n      <td>202111</td>\n      <td>인천광역시</td>\n      <td>전체(시 / 군 / 구)</td>\n      <td>가로등</td>\n      <td>72,956</td>\n      <td>14,071,432</td>\n      <td>1,578,199,677</td>\n      <td>112.2</td>\n    </tr>\n    <tr>\n      <th>37</th>\n      <td>202111</td>\n      <td>인천광역시</td>\n      <td>전체(시 / 군 / 구)</td>\n      <td>심 야</td>\n      <td>13,856</td>\n      <td>14,516,770</td>\n      <td>951,426,755</td>\n      <td>65.5</td>\n    </tr>\n    <tr>\n      <th>38</th>\n      <td>202112</td>\n      <td>인천광역시</td>\n      <td>전체(시 / 군 / 구)</td>\n      <td>주택용</td>\n      <td>757,462</td>\n      <td>375,990,440</td>\n      <td>42,377,535,283</td>\n      <td>112.7</td>\n    </tr>\n    <tr>\n      <th>39</th>\n      <td>202112</td>\n      <td>인천광역시</td>\n      <td>전체(시 / 군 / 구)</td>\n      <td>일반용</td>\n      <td>144,307</td>\n      <td>548,526,695</td>\n      <td>74,672,302,588</td>\n      <td>136.1</td>\n    </tr>\n    <tr>\n      <th>40</th>\n      <td>202112</td>\n      <td>인천광역시</td>\n      <td>전체(시 / 군 / 구)</td>\n      <td>교육용</td>\n      <td>975</td>\n      <td>46,804,220</td>\n      <td>4,476,608,912</td>\n      <td>95.6</td>\n    </tr>\n    <tr>\n      <th>41</th>\n      <td>202112</td>\n      <td>인천광역시</td>\n      <td>전체(시 / 군 / 구)</td>\n      <td>산업용</td>\n      <td>19,939</td>\n      <td>1,133,402,851</td>\n      <td>136,862,015,552</td>\n      <td>120.8</td>\n    </tr>\n    <tr>\n      <th>42</th>\n      <td>202112</td>\n      <td>인천광역시</td>\n      <td>전체(시 / 군 / 구)</td>\n      <td>농사용</td>\n      <td>32,071</td>\n      <td>16,442,844</td>\n      <td>730,059,922</td>\n      <td>44.4</td>\n    </tr>\n    <tr>\n      <th>43</th>\n      <td>202112</td>\n      <td>인천광역시</td>\n      <td>전체(시 / 군 / 구)</td>\n      <td>가로등</td>\n      <td>73,549</td>\n      <td>14,748,762</td>\n      <td>1,619,130,784</td>\n      <td>109.8</td>\n    </tr>\n    <tr>\n      <th>44</th>\n      <td>202112</td>\n      <td>인천광역시</td>\n      <td>전체(시 / 군 / 구)</td>\n      <td>심 야</td>\n      <td>13,790</td>\n      <td>23,408,582</td>\n      <td>1,785,888,328</td>\n      <td>76.3</td>\n    </tr>\n    <tr>\n      <th>45</th>\n      <td>합계</td>\n      <td>합계</td>\n      <td>합계</td>\n      <td>합계</td>\n      <td>6,222,763</td>\n      <td>12,674,718,197</td>\n      <td>1,480,012,468,211</td>\n      <td>116.8</td>\n    </tr>\n  </tbody>\n</table>\n</div>"
     },
     "execution_count": 6,
     "metadata": {},
     "output_type": "execute_result"
    }
   ],
   "source": [
    "df_2 = df.loc[:45]\n",
    "df_2\n"
   ],
   "metadata": {
    "collapsed": false,
    "pycharm": {
     "name": "#%%\n"
    }
   }
  },
  {
   "cell_type": "code",
   "execution_count": 7,
   "outputs": [
    {
     "name": "stderr",
     "output_type": "stream",
     "text": [
      "C:\\Users\\user\\AppData\\Local\\Temp\\ipykernel_15464\\3551721261.py:3: SettingWithCopyWarning: \n",
      "A value is trying to be set on a copy of a slice from a DataFrame\n",
      "\n",
      "See the caveats in the documentation: https://pandas.pydata.org/pandas-docs/stable/user_guide/indexing.html#returning-a-view-versus-a-copy\n",
      "  GyeonGi.drop(['시군구' , '전기요금(원)' , '평균판매단가(원/kWh)'] , axis = 1 , inplace = True)\n"
     ]
    },
    {
     "data": {
      "text/plain": "        년월     시구 계약구분   고객호수(호)      사용량(kWh)\n4   202107  인천광역시  일반용  142,468   565,920,596 \n11  202108  인천광역시  일반용  142,898   625,697,395 \n18  202109  인천광역시  일반용  143,176   537,377,402 \n25  202110  인천광역시  일반용  143,278   474,072,210 \n32  202111  인천광역시  일반용  143,648   468,938,682 \n39  202112  인천광역시  일반용  144,307   548,526,695 ",
      "text/html": "<div>\n<style scoped>\n    .dataframe tbody tr th:only-of-type {\n        vertical-align: middle;\n    }\n\n    .dataframe tbody tr th {\n        vertical-align: top;\n    }\n\n    .dataframe thead th {\n        text-align: right;\n    }\n</style>\n<table border=\"1\" class=\"dataframe\">\n  <thead>\n    <tr style=\"text-align: right;\">\n      <th></th>\n      <th>년월</th>\n      <th>시구</th>\n      <th>계약구분</th>\n      <th>고객호수(호)</th>\n      <th>사용량(kWh)</th>\n    </tr>\n  </thead>\n  <tbody>\n    <tr>\n      <th>4</th>\n      <td>202107</td>\n      <td>인천광역시</td>\n      <td>일반용</td>\n      <td>142,468</td>\n      <td>565,920,596</td>\n    </tr>\n    <tr>\n      <th>11</th>\n      <td>202108</td>\n      <td>인천광역시</td>\n      <td>일반용</td>\n      <td>142,898</td>\n      <td>625,697,395</td>\n    </tr>\n    <tr>\n      <th>18</th>\n      <td>202109</td>\n      <td>인천광역시</td>\n      <td>일반용</td>\n      <td>143,176</td>\n      <td>537,377,402</td>\n    </tr>\n    <tr>\n      <th>25</th>\n      <td>202110</td>\n      <td>인천광역시</td>\n      <td>일반용</td>\n      <td>143,278</td>\n      <td>474,072,210</td>\n    </tr>\n    <tr>\n      <th>32</th>\n      <td>202111</td>\n      <td>인천광역시</td>\n      <td>일반용</td>\n      <td>143,648</td>\n      <td>468,938,682</td>\n    </tr>\n    <tr>\n      <th>39</th>\n      <td>202112</td>\n      <td>인천광역시</td>\n      <td>일반용</td>\n      <td>144,307</td>\n      <td>548,526,695</td>\n    </tr>\n  </tbody>\n</table>\n</div>"
     },
     "execution_count": 7,
     "metadata": {},
     "output_type": "execute_result"
    }
   ],
   "source": [
    "GyeonGi  = df_2.loc[(df_2['계약구분'] == '일반용')]\n",
    "#SEOUL = df_3.loc[(df_3['계약구분'] =='일반용')]\n",
    "GyeonGi.drop(['시군구' , '전기요금(원)' , '평균판매단가(원/kWh)'] , axis = 1 , inplace = True)\n",
    "GyeonGi"
   ],
   "metadata": {
    "collapsed": false,
    "pycharm": {
     "name": "#%%\n"
    }
   }
  },
  {
   "cell_type": "code",
   "execution_count": 8,
   "outputs": [],
   "source": [
    "#SEOUL1.to_csv(\"서울특별시_계약종별_전국_전력사용량_2022.csv\" , mode = 'w' , encoding= 'cp949')"
   ],
   "metadata": {
    "collapsed": false,
    "pycharm": {
     "name": "#%%\n"
    }
   }
  },
  {
   "cell_type": "code",
   "execution_count": 9,
   "outputs": [],
   "source": [
    "#df_2.to_csv(\"서울특별시_계약종별_전국_전력사용량.csv\" , mode = 'w' , encoding= 'cp949')"
   ],
   "metadata": {
    "collapsed": false,
    "pycharm": {
     "name": "#%%\n"
    }
   }
  },
  {
   "cell_type": "code",
   "execution_count": 10,
   "outputs": [
    {
     "data": {
      "text/plain": "         년월     시구   시군구 계약구분  고객호수(호)      사용량(kWh)\n53   202107  인천광역시   강화군  일반용   8,382    13,998,334 \n133  202108  인천광역시   강화군  일반용   8,444    17,380,269 \n213  202109  인천광역시   강화군  일반용   8,488    14,794,220 \n293  202110  인천광역시   강화군  일반용   8,497    13,078,096 \n373  202111  인천광역시   강화군  일반용   8,538    14,388,604 \n453  202112  인천광역시   강화군  일반용   8,590    17,506,614 \n61   202107  인천광역시   계양구  일반용  12,619    39,805,636 \n141  202108  인천광역시   계양구  일반용  12,631    44,895,285 \n221  202109  인천광역시   계양구  일반용  12,667    37,966,742 \n301  202110  인천광역시   계양구  일반용  12,672    32,930,377 \n381  202111  인천광역시   계양구  일반용  12,703    32,490,216 \n461  202112  인천광역시   계양구  일반용  12,762    38,048,723 \n69   202107  인천광역시   남동구  일반용  23,970    85,468,163 \n149  202108  인천광역시   남동구  일반용  24,006    95,869,312 \n229  202109  인천광역시   남동구  일반용  24,026    80,595,972 \n309  202110  인천광역시   남동구  일반용  24,019    69,993,256 \n389  202111  인천광역시   남동구  일반용  24,063    69,071,389 \n469  202112  인천광역시   남동구  일반용  24,153    80,399,925 \n77   202107  인천광역시    동구  일반용   3,697     9,662,700 \n157  202108  인천광역시    동구  일반용   3,719    10,765,424 \n237  202109  인천광역시    동구  일반용   3,696     9,082,836 \n317  202110  인천광역시    동구  일반용   3,687     7,871,445 \n397  202111  인천광역시    동구  일반용   3,704     8,408,380 \n477  202112  인천광역시    동구  일반용   3,707    10,228,105 \n85   202107  인천광역시  미추홀구  일반용  21,555    55,442,085 \n165  202108  인천광역시  미추홀구  일반용  21,596    64,323,519 \n245  202109  인천광역시  미추홀구  일반용  21,616    54,319,577 \n325  202110  인천광역시  미추홀구  일반용  21,623    47,080,950 \n405  202111  인천광역시  미추홀구  일반용  21,676    46,187,681 \n485  202112  인천광역시  미추홀구  일반용  21,754    54,437,275 \n93   202107  인천광역시   부평구  일반용  21,905    71,384,023 \n173  202108  인천광역시   부평구  일반용  21,936    79,171,214 \n253  202109  인천광역시   부평구  일반용  21,940    67,074,132 \n333  202110  인천광역시   부평구  일반용  21,923    57,999,494 \n413  202111  인천광역시   부평구  일반용  21,950    57,100,126 \n493  202112  인천광역시   부평구  일반용  22,021    67,188,753 \n101  202107  인천광역시    서구  일반용  24,756   100,383,692 \n181  202108  인천광역시    서구  일반용  24,882   110,735,178 \n261  202109  인천광역시    서구  일반용  24,975    97,105,677 \n341  202110  인천광역시    서구  일반용  25,056    85,575,432 \n421  202111  인천광역시    서구  일반용  25,094    86,818,274 \n501  202112  인천광역시    서구  일반용  25,262   102,439,716 \n109  202107  인천광역시   연수구  일반용   9,930    76,990,330 \n189  202108  인천광역시   연수구  일반용   9,963    81,540,862 \n269  202109  인천광역시   연수구  일반용  10,005    70,057,147 \n349  202110  인천광역시   연수구  일반용  10,010    62,269,527 \n429  202111  인천광역시   연수구  일반용  10,036    59,470,084 \n509  202112  인천광역시   연수구  일반용  10,106    69,653,451 \n117  202107  인천광역시   옹진군  일반용   4,026     8,968,277 \n197  202108  인천광역시   옹진군  일반용   4,033    11,083,442 \n277  202109  인천광역시   옹진군  일반용   4,047     9,887,690 \n357  202110  인천광역시   옹진군  일반용   4,059     8,948,056 \n437  202111  인천광역시   옹진군  일반용   4,077     8,899,818 \n517  202112  인천광역시   옹진군  일반용   4,101    10,135,515 \n125  202107  인천광역시    중구  일반용  11,628   103,817,356 \n205  202108  인천광역시    중구  일반용  11,688   109,932,890 \n285  202109  인천광역시    중구  일반용  11,716    96,493,409 \n365  202110  인천광역시    중구  일반용  11,732    88,325,577 \n445  202111  인천광역시    중구  일반용  11,807    86,104,110 \n525  202112  인천광역시    중구  일반용  11,851    98,488,618 ",
      "text/html": "<div>\n<style scoped>\n    .dataframe tbody tr th:only-of-type {\n        vertical-align: middle;\n    }\n\n    .dataframe tbody tr th {\n        vertical-align: top;\n    }\n\n    .dataframe thead th {\n        text-align: right;\n    }\n</style>\n<table border=\"1\" class=\"dataframe\">\n  <thead>\n    <tr style=\"text-align: right;\">\n      <th></th>\n      <th>년월</th>\n      <th>시구</th>\n      <th>시군구</th>\n      <th>계약구분</th>\n      <th>고객호수(호)</th>\n      <th>사용량(kWh)</th>\n    </tr>\n  </thead>\n  <tbody>\n    <tr>\n      <th>53</th>\n      <td>202107</td>\n      <td>인천광역시</td>\n      <td>강화군</td>\n      <td>일반용</td>\n      <td>8,382</td>\n      <td>13,998,334</td>\n    </tr>\n    <tr>\n      <th>133</th>\n      <td>202108</td>\n      <td>인천광역시</td>\n      <td>강화군</td>\n      <td>일반용</td>\n      <td>8,444</td>\n      <td>17,380,269</td>\n    </tr>\n    <tr>\n      <th>213</th>\n      <td>202109</td>\n      <td>인천광역시</td>\n      <td>강화군</td>\n      <td>일반용</td>\n      <td>8,488</td>\n      <td>14,794,220</td>\n    </tr>\n    <tr>\n      <th>293</th>\n      <td>202110</td>\n      <td>인천광역시</td>\n      <td>강화군</td>\n      <td>일반용</td>\n      <td>8,497</td>\n      <td>13,078,096</td>\n    </tr>\n    <tr>\n      <th>373</th>\n      <td>202111</td>\n      <td>인천광역시</td>\n      <td>강화군</td>\n      <td>일반용</td>\n      <td>8,538</td>\n      <td>14,388,604</td>\n    </tr>\n    <tr>\n      <th>453</th>\n      <td>202112</td>\n      <td>인천광역시</td>\n      <td>강화군</td>\n      <td>일반용</td>\n      <td>8,590</td>\n      <td>17,506,614</td>\n    </tr>\n    <tr>\n      <th>61</th>\n      <td>202107</td>\n      <td>인천광역시</td>\n      <td>계양구</td>\n      <td>일반용</td>\n      <td>12,619</td>\n      <td>39,805,636</td>\n    </tr>\n    <tr>\n      <th>141</th>\n      <td>202108</td>\n      <td>인천광역시</td>\n      <td>계양구</td>\n      <td>일반용</td>\n      <td>12,631</td>\n      <td>44,895,285</td>\n    </tr>\n    <tr>\n      <th>221</th>\n      <td>202109</td>\n      <td>인천광역시</td>\n      <td>계양구</td>\n      <td>일반용</td>\n      <td>12,667</td>\n      <td>37,966,742</td>\n    </tr>\n    <tr>\n      <th>301</th>\n      <td>202110</td>\n      <td>인천광역시</td>\n      <td>계양구</td>\n      <td>일반용</td>\n      <td>12,672</td>\n      <td>32,930,377</td>\n    </tr>\n    <tr>\n      <th>381</th>\n      <td>202111</td>\n      <td>인천광역시</td>\n      <td>계양구</td>\n      <td>일반용</td>\n      <td>12,703</td>\n      <td>32,490,216</td>\n    </tr>\n    <tr>\n      <th>461</th>\n      <td>202112</td>\n      <td>인천광역시</td>\n      <td>계양구</td>\n      <td>일반용</td>\n      <td>12,762</td>\n      <td>38,048,723</td>\n    </tr>\n    <tr>\n      <th>69</th>\n      <td>202107</td>\n      <td>인천광역시</td>\n      <td>남동구</td>\n      <td>일반용</td>\n      <td>23,970</td>\n      <td>85,468,163</td>\n    </tr>\n    <tr>\n      <th>149</th>\n      <td>202108</td>\n      <td>인천광역시</td>\n      <td>남동구</td>\n      <td>일반용</td>\n      <td>24,006</td>\n      <td>95,869,312</td>\n    </tr>\n    <tr>\n      <th>229</th>\n      <td>202109</td>\n      <td>인천광역시</td>\n      <td>남동구</td>\n      <td>일반용</td>\n      <td>24,026</td>\n      <td>80,595,972</td>\n    </tr>\n    <tr>\n      <th>309</th>\n      <td>202110</td>\n      <td>인천광역시</td>\n      <td>남동구</td>\n      <td>일반용</td>\n      <td>24,019</td>\n      <td>69,993,256</td>\n    </tr>\n    <tr>\n      <th>389</th>\n      <td>202111</td>\n      <td>인천광역시</td>\n      <td>남동구</td>\n      <td>일반용</td>\n      <td>24,063</td>\n      <td>69,071,389</td>\n    </tr>\n    <tr>\n      <th>469</th>\n      <td>202112</td>\n      <td>인천광역시</td>\n      <td>남동구</td>\n      <td>일반용</td>\n      <td>24,153</td>\n      <td>80,399,925</td>\n    </tr>\n    <tr>\n      <th>77</th>\n      <td>202107</td>\n      <td>인천광역시</td>\n      <td>동구</td>\n      <td>일반용</td>\n      <td>3,697</td>\n      <td>9,662,700</td>\n    </tr>\n    <tr>\n      <th>157</th>\n      <td>202108</td>\n      <td>인천광역시</td>\n      <td>동구</td>\n      <td>일반용</td>\n      <td>3,719</td>\n      <td>10,765,424</td>\n    </tr>\n    <tr>\n      <th>237</th>\n      <td>202109</td>\n      <td>인천광역시</td>\n      <td>동구</td>\n      <td>일반용</td>\n      <td>3,696</td>\n      <td>9,082,836</td>\n    </tr>\n    <tr>\n      <th>317</th>\n      <td>202110</td>\n      <td>인천광역시</td>\n      <td>동구</td>\n      <td>일반용</td>\n      <td>3,687</td>\n      <td>7,871,445</td>\n    </tr>\n    <tr>\n      <th>397</th>\n      <td>202111</td>\n      <td>인천광역시</td>\n      <td>동구</td>\n      <td>일반용</td>\n      <td>3,704</td>\n      <td>8,408,380</td>\n    </tr>\n    <tr>\n      <th>477</th>\n      <td>202112</td>\n      <td>인천광역시</td>\n      <td>동구</td>\n      <td>일반용</td>\n      <td>3,707</td>\n      <td>10,228,105</td>\n    </tr>\n    <tr>\n      <th>85</th>\n      <td>202107</td>\n      <td>인천광역시</td>\n      <td>미추홀구</td>\n      <td>일반용</td>\n      <td>21,555</td>\n      <td>55,442,085</td>\n    </tr>\n    <tr>\n      <th>165</th>\n      <td>202108</td>\n      <td>인천광역시</td>\n      <td>미추홀구</td>\n      <td>일반용</td>\n      <td>21,596</td>\n      <td>64,323,519</td>\n    </tr>\n    <tr>\n      <th>245</th>\n      <td>202109</td>\n      <td>인천광역시</td>\n      <td>미추홀구</td>\n      <td>일반용</td>\n      <td>21,616</td>\n      <td>54,319,577</td>\n    </tr>\n    <tr>\n      <th>325</th>\n      <td>202110</td>\n      <td>인천광역시</td>\n      <td>미추홀구</td>\n      <td>일반용</td>\n      <td>21,623</td>\n      <td>47,080,950</td>\n    </tr>\n    <tr>\n      <th>405</th>\n      <td>202111</td>\n      <td>인천광역시</td>\n      <td>미추홀구</td>\n      <td>일반용</td>\n      <td>21,676</td>\n      <td>46,187,681</td>\n    </tr>\n    <tr>\n      <th>485</th>\n      <td>202112</td>\n      <td>인천광역시</td>\n      <td>미추홀구</td>\n      <td>일반용</td>\n      <td>21,754</td>\n      <td>54,437,275</td>\n    </tr>\n    <tr>\n      <th>93</th>\n      <td>202107</td>\n      <td>인천광역시</td>\n      <td>부평구</td>\n      <td>일반용</td>\n      <td>21,905</td>\n      <td>71,384,023</td>\n    </tr>\n    <tr>\n      <th>173</th>\n      <td>202108</td>\n      <td>인천광역시</td>\n      <td>부평구</td>\n      <td>일반용</td>\n      <td>21,936</td>\n      <td>79,171,214</td>\n    </tr>\n    <tr>\n      <th>253</th>\n      <td>202109</td>\n      <td>인천광역시</td>\n      <td>부평구</td>\n      <td>일반용</td>\n      <td>21,940</td>\n      <td>67,074,132</td>\n    </tr>\n    <tr>\n      <th>333</th>\n      <td>202110</td>\n      <td>인천광역시</td>\n      <td>부평구</td>\n      <td>일반용</td>\n      <td>21,923</td>\n      <td>57,999,494</td>\n    </tr>\n    <tr>\n      <th>413</th>\n      <td>202111</td>\n      <td>인천광역시</td>\n      <td>부평구</td>\n      <td>일반용</td>\n      <td>21,950</td>\n      <td>57,100,126</td>\n    </tr>\n    <tr>\n      <th>493</th>\n      <td>202112</td>\n      <td>인천광역시</td>\n      <td>부평구</td>\n      <td>일반용</td>\n      <td>22,021</td>\n      <td>67,188,753</td>\n    </tr>\n    <tr>\n      <th>101</th>\n      <td>202107</td>\n      <td>인천광역시</td>\n      <td>서구</td>\n      <td>일반용</td>\n      <td>24,756</td>\n      <td>100,383,692</td>\n    </tr>\n    <tr>\n      <th>181</th>\n      <td>202108</td>\n      <td>인천광역시</td>\n      <td>서구</td>\n      <td>일반용</td>\n      <td>24,882</td>\n      <td>110,735,178</td>\n    </tr>\n    <tr>\n      <th>261</th>\n      <td>202109</td>\n      <td>인천광역시</td>\n      <td>서구</td>\n      <td>일반용</td>\n      <td>24,975</td>\n      <td>97,105,677</td>\n    </tr>\n    <tr>\n      <th>341</th>\n      <td>202110</td>\n      <td>인천광역시</td>\n      <td>서구</td>\n      <td>일반용</td>\n      <td>25,056</td>\n      <td>85,575,432</td>\n    </tr>\n    <tr>\n      <th>421</th>\n      <td>202111</td>\n      <td>인천광역시</td>\n      <td>서구</td>\n      <td>일반용</td>\n      <td>25,094</td>\n      <td>86,818,274</td>\n    </tr>\n    <tr>\n      <th>501</th>\n      <td>202112</td>\n      <td>인천광역시</td>\n      <td>서구</td>\n      <td>일반용</td>\n      <td>25,262</td>\n      <td>102,439,716</td>\n    </tr>\n    <tr>\n      <th>109</th>\n      <td>202107</td>\n      <td>인천광역시</td>\n      <td>연수구</td>\n      <td>일반용</td>\n      <td>9,930</td>\n      <td>76,990,330</td>\n    </tr>\n    <tr>\n      <th>189</th>\n      <td>202108</td>\n      <td>인천광역시</td>\n      <td>연수구</td>\n      <td>일반용</td>\n      <td>9,963</td>\n      <td>81,540,862</td>\n    </tr>\n    <tr>\n      <th>269</th>\n      <td>202109</td>\n      <td>인천광역시</td>\n      <td>연수구</td>\n      <td>일반용</td>\n      <td>10,005</td>\n      <td>70,057,147</td>\n    </tr>\n    <tr>\n      <th>349</th>\n      <td>202110</td>\n      <td>인천광역시</td>\n      <td>연수구</td>\n      <td>일반용</td>\n      <td>10,010</td>\n      <td>62,269,527</td>\n    </tr>\n    <tr>\n      <th>429</th>\n      <td>202111</td>\n      <td>인천광역시</td>\n      <td>연수구</td>\n      <td>일반용</td>\n      <td>10,036</td>\n      <td>59,470,084</td>\n    </tr>\n    <tr>\n      <th>509</th>\n      <td>202112</td>\n      <td>인천광역시</td>\n      <td>연수구</td>\n      <td>일반용</td>\n      <td>10,106</td>\n      <td>69,653,451</td>\n    </tr>\n    <tr>\n      <th>117</th>\n      <td>202107</td>\n      <td>인천광역시</td>\n      <td>옹진군</td>\n      <td>일반용</td>\n      <td>4,026</td>\n      <td>8,968,277</td>\n    </tr>\n    <tr>\n      <th>197</th>\n      <td>202108</td>\n      <td>인천광역시</td>\n      <td>옹진군</td>\n      <td>일반용</td>\n      <td>4,033</td>\n      <td>11,083,442</td>\n    </tr>\n    <tr>\n      <th>277</th>\n      <td>202109</td>\n      <td>인천광역시</td>\n      <td>옹진군</td>\n      <td>일반용</td>\n      <td>4,047</td>\n      <td>9,887,690</td>\n    </tr>\n    <tr>\n      <th>357</th>\n      <td>202110</td>\n      <td>인천광역시</td>\n      <td>옹진군</td>\n      <td>일반용</td>\n      <td>4,059</td>\n      <td>8,948,056</td>\n    </tr>\n    <tr>\n      <th>437</th>\n      <td>202111</td>\n      <td>인천광역시</td>\n      <td>옹진군</td>\n      <td>일반용</td>\n      <td>4,077</td>\n      <td>8,899,818</td>\n    </tr>\n    <tr>\n      <th>517</th>\n      <td>202112</td>\n      <td>인천광역시</td>\n      <td>옹진군</td>\n      <td>일반용</td>\n      <td>4,101</td>\n      <td>10,135,515</td>\n    </tr>\n    <tr>\n      <th>125</th>\n      <td>202107</td>\n      <td>인천광역시</td>\n      <td>중구</td>\n      <td>일반용</td>\n      <td>11,628</td>\n      <td>103,817,356</td>\n    </tr>\n    <tr>\n      <th>205</th>\n      <td>202108</td>\n      <td>인천광역시</td>\n      <td>중구</td>\n      <td>일반용</td>\n      <td>11,688</td>\n      <td>109,932,890</td>\n    </tr>\n    <tr>\n      <th>285</th>\n      <td>202109</td>\n      <td>인천광역시</td>\n      <td>중구</td>\n      <td>일반용</td>\n      <td>11,716</td>\n      <td>96,493,409</td>\n    </tr>\n    <tr>\n      <th>365</th>\n      <td>202110</td>\n      <td>인천광역시</td>\n      <td>중구</td>\n      <td>일반용</td>\n      <td>11,732</td>\n      <td>88,325,577</td>\n    </tr>\n    <tr>\n      <th>445</th>\n      <td>202111</td>\n      <td>인천광역시</td>\n      <td>중구</td>\n      <td>일반용</td>\n      <td>11,807</td>\n      <td>86,104,110</td>\n    </tr>\n    <tr>\n      <th>525</th>\n      <td>202112</td>\n      <td>인천광역시</td>\n      <td>중구</td>\n      <td>일반용</td>\n      <td>11,851</td>\n      <td>98,488,618</td>\n    </tr>\n  </tbody>\n</table>\n</div>"
     },
     "execution_count": 10,
     "metadata": {},
     "output_type": "execute_result"
    }
   ],
   "source": [
    "df_3 = df.loc[48:]\n",
    "df_3 = df_3.loc[(df_3['계약구분'] == '일반용')]\n",
    "df_3 = df_3.sort_values(by=['시군구' , '년월'])\n",
    "df_3.drop(['전기요금(원)',   '평균판매단가(원/kWh)'] , axis = 1 , inplace = True)\n",
    "df_3"
   ],
   "metadata": {
    "collapsed": false,
    "pycharm": {
     "name": "#%%\n"
    }
   }
  },
  {
   "cell_type": "code",
   "execution_count": 11,
   "outputs": [
    {
     "data": {
      "text/plain": "'인천광역시'"
     },
     "execution_count": 11,
     "metadata": {},
     "output_type": "execute_result"
    }
   ],
   "source": [
    "a = df_3.loc[: , \"시구\"]\n",
    "b = a[:1].tolist()\n",
    "for i in b:\n",
    "    City = i\n",
    "City"
   ],
   "metadata": {
    "collapsed": false,
    "pycharm": {
     "name": "#%%\n"
    }
   }
  },
  {
   "cell_type": "code",
   "execution_count": 12,
   "outputs": [
    {
     "data": {
      "text/plain": "['강화군', '계양구', '남동구', '동구', '미추홀구', '부평구', '서구', '연수구', '옹진군', '중구']"
     },
     "execution_count": 12,
     "metadata": {},
     "output_type": "execute_result"
    }
   ],
   "source": [
    "\n",
    "SIGUNGU = list(set(df_3.loc[: , '시군구'].tolist()))\n",
    "SIGUNGU.sort()\n",
    "SIGUNGU"
   ],
   "metadata": {
    "collapsed": false,
    "pycharm": {
     "name": "#%%\n"
    }
   }
  },
  {
   "cell_type": "code",
   "execution_count": 13,
   "outputs": [
    {
     "data": {
      "text/plain": "         년월     시구   시군구 계약구분   고객호수(호)      사용량(kWh)\n55   202107  인천광역시   강화군   합계   84,204    42,008,021 \n135  202108  인천광역시   강화군   합계   84,605    52,216,627 \n215  202109  인천광역시   강화군   합계   84,863    49,024,334 \n295  202110  인천광역시   강화군   합계   85,142    42,901,162 \n375  202111  인천광역시   강화군   합계   91,397    53,386,052 \n455  202112  인천광역시   강화군   합계   90,072    60,362,560 \n63   202107  인천광역시   계양구   합계   97,504   116,746,574 \n143  202108  인천광역시   계양구   합계   97,427   135,659,287 \n223  202109  인천광역시   계양구   합계   97,463   111,859,060 \n303  202110  인천광역시   계양구   합계   97,438   100,026,324 \n383  202111  인천광역시   계양구   합계   97,816   104,272,668 \n463  202112  인천광역시   계양구   합계   97,537   114,447,481 \n71   202107  인천광역시   남동구   합계  158,322   340,133,284 \n151  202108  인천광역시   남동구   합계  158,429   366,652,254 \n231  202109  인천광역시   남동구   합계  158,390   327,591,299 \n311  202110  인천광역시   남동구   합계  158,449   288,222,920 \n391  202111  인천광역시   남동구   합계  158,551   309,445,293 \n471  202112  인천광역시   남동구   합계  158,658   341,882,557 \n79   202107  인천광역시    동구   합계   25,977   336,362,392 \n159  202108  인천광역시    동구   합계   25,959   348,606,582 \n239  202109  인천광역시    동구   합계   25,922   274,340,856 \n319  202110  인천광역시    동구   합계   25,889   302,523,576 \n399  202111  인천광역시    동구   합계   25,878   265,695,036 \n479  202112  인천광역시    동구   합계   25,726   302,759,087 \n87   202107  인천광역시  미추홀구   합계  192,533   154,668,074 \n167  202108  인천광역시  미추홀구   합계  192,617   182,962,206 \n247  202109  인천광역시  미추홀구   합계  192,470   152,003,450 \n327  202110  인천광역시  미추홀구   합계  192,388   132,637,038 \n407  202111  인천광역시  미추홀구   합계  192,517   134,703,295 \n487  202112  인천광역시  미추홀구   합계  192,820   151,873,566 \n95   202107  인천광역시   부평구   합계  157,961   207,572,635 \n175  202108  인천광역시   부평구   합계  157,808   233,514,053 \n255  202109  인천광역시   부평구   합계  157,647   191,729,511 \n335  202110  인천광역시   부평구   합계  157,478   170,211,428 \n415  202111  인천광역시   부평구   합계  157,503   175,047,356 \n495  202112  인천광역시   부평구   합계  157,582   195,532,477 \n103  202107  인천광역시    서구   합계  166,668   500,285,771 \n183  202108  인천광역시    서구   합계  166,915   533,500,440 \n263  202109  인천광역시    서구   합계  167,108   489,284,965 \n343  202110  인천광역시    서구   합계  167,169   452,579,758 \n423  202111  인천광역시    서구   합계  167,516   471,627,269 \n503  202112  인천광역시    서구   합계  167,850   514,752,081 \n111  202107  인천광역시   연수구   합계   63,195   259,987,329 \n191  202108  인천광역시   연수구   합계   63,312   283,308,541 \n271  202109  인천광역시   연수구   합계   63,487   240,101,314 \n351  202110  인천광역시   연수구   합계   63,483   218,021,726 \n431  202111  인천광역시   연수구   합계   63,485   213,785,257 \n511  202112  인천광역시   연수구   합계   63,668   240,712,486 \n119  202107  인천광역시   옹진군   합계   25,383    14,733,038 \n199  202108  인천광역시   옹진군   합계   25,424    18,874,067 \n279  202109  인천광역시   옹진군   합계   25,488    18,755,134 \n359  202110  인천광역시   옹진군   합계   25,508    17,766,409 \n439  202111  인천광역시   옹진군   합계   26,560    20,773,530 \n519  202112  인천광역시   옹진군   합계   26,007    18,897,265 \n127  202107  인천광역시    중구   합계   61,606   218,799,610 \n207  202108  인천광역시    중구   합계   61,684   232,192,000 \n287  202109  인천광역시    중구   합계   61,798   210,481,296 \n367  202110  인천광역시    중구   합계   61,893   200,132,862 \n447  202111  인천광역시    중구   합계   62,441   197,680,840 \n527  202112  인천광역시    중구   합계   62,173   218,104,834 ",
      "text/html": "<div>\n<style scoped>\n    .dataframe tbody tr th:only-of-type {\n        vertical-align: middle;\n    }\n\n    .dataframe tbody tr th {\n        vertical-align: top;\n    }\n\n    .dataframe thead th {\n        text-align: right;\n    }\n</style>\n<table border=\"1\" class=\"dataframe\">\n  <thead>\n    <tr style=\"text-align: right;\">\n      <th></th>\n      <th>년월</th>\n      <th>시구</th>\n      <th>시군구</th>\n      <th>계약구분</th>\n      <th>고객호수(호)</th>\n      <th>사용량(kWh)</th>\n    </tr>\n  </thead>\n  <tbody>\n    <tr>\n      <th>55</th>\n      <td>202107</td>\n      <td>인천광역시</td>\n      <td>강화군</td>\n      <td>합계</td>\n      <td>84,204</td>\n      <td>42,008,021</td>\n    </tr>\n    <tr>\n      <th>135</th>\n      <td>202108</td>\n      <td>인천광역시</td>\n      <td>강화군</td>\n      <td>합계</td>\n      <td>84,605</td>\n      <td>52,216,627</td>\n    </tr>\n    <tr>\n      <th>215</th>\n      <td>202109</td>\n      <td>인천광역시</td>\n      <td>강화군</td>\n      <td>합계</td>\n      <td>84,863</td>\n      <td>49,024,334</td>\n    </tr>\n    <tr>\n      <th>295</th>\n      <td>202110</td>\n      <td>인천광역시</td>\n      <td>강화군</td>\n      <td>합계</td>\n      <td>85,142</td>\n      <td>42,901,162</td>\n    </tr>\n    <tr>\n      <th>375</th>\n      <td>202111</td>\n      <td>인천광역시</td>\n      <td>강화군</td>\n      <td>합계</td>\n      <td>91,397</td>\n      <td>53,386,052</td>\n    </tr>\n    <tr>\n      <th>455</th>\n      <td>202112</td>\n      <td>인천광역시</td>\n      <td>강화군</td>\n      <td>합계</td>\n      <td>90,072</td>\n      <td>60,362,560</td>\n    </tr>\n    <tr>\n      <th>63</th>\n      <td>202107</td>\n      <td>인천광역시</td>\n      <td>계양구</td>\n      <td>합계</td>\n      <td>97,504</td>\n      <td>116,746,574</td>\n    </tr>\n    <tr>\n      <th>143</th>\n      <td>202108</td>\n      <td>인천광역시</td>\n      <td>계양구</td>\n      <td>합계</td>\n      <td>97,427</td>\n      <td>135,659,287</td>\n    </tr>\n    <tr>\n      <th>223</th>\n      <td>202109</td>\n      <td>인천광역시</td>\n      <td>계양구</td>\n      <td>합계</td>\n      <td>97,463</td>\n      <td>111,859,060</td>\n    </tr>\n    <tr>\n      <th>303</th>\n      <td>202110</td>\n      <td>인천광역시</td>\n      <td>계양구</td>\n      <td>합계</td>\n      <td>97,438</td>\n      <td>100,026,324</td>\n    </tr>\n    <tr>\n      <th>383</th>\n      <td>202111</td>\n      <td>인천광역시</td>\n      <td>계양구</td>\n      <td>합계</td>\n      <td>97,816</td>\n      <td>104,272,668</td>\n    </tr>\n    <tr>\n      <th>463</th>\n      <td>202112</td>\n      <td>인천광역시</td>\n      <td>계양구</td>\n      <td>합계</td>\n      <td>97,537</td>\n      <td>114,447,481</td>\n    </tr>\n    <tr>\n      <th>71</th>\n      <td>202107</td>\n      <td>인천광역시</td>\n      <td>남동구</td>\n      <td>합계</td>\n      <td>158,322</td>\n      <td>340,133,284</td>\n    </tr>\n    <tr>\n      <th>151</th>\n      <td>202108</td>\n      <td>인천광역시</td>\n      <td>남동구</td>\n      <td>합계</td>\n      <td>158,429</td>\n      <td>366,652,254</td>\n    </tr>\n    <tr>\n      <th>231</th>\n      <td>202109</td>\n      <td>인천광역시</td>\n      <td>남동구</td>\n      <td>합계</td>\n      <td>158,390</td>\n      <td>327,591,299</td>\n    </tr>\n    <tr>\n      <th>311</th>\n      <td>202110</td>\n      <td>인천광역시</td>\n      <td>남동구</td>\n      <td>합계</td>\n      <td>158,449</td>\n      <td>288,222,920</td>\n    </tr>\n    <tr>\n      <th>391</th>\n      <td>202111</td>\n      <td>인천광역시</td>\n      <td>남동구</td>\n      <td>합계</td>\n      <td>158,551</td>\n      <td>309,445,293</td>\n    </tr>\n    <tr>\n      <th>471</th>\n      <td>202112</td>\n      <td>인천광역시</td>\n      <td>남동구</td>\n      <td>합계</td>\n      <td>158,658</td>\n      <td>341,882,557</td>\n    </tr>\n    <tr>\n      <th>79</th>\n      <td>202107</td>\n      <td>인천광역시</td>\n      <td>동구</td>\n      <td>합계</td>\n      <td>25,977</td>\n      <td>336,362,392</td>\n    </tr>\n    <tr>\n      <th>159</th>\n      <td>202108</td>\n      <td>인천광역시</td>\n      <td>동구</td>\n      <td>합계</td>\n      <td>25,959</td>\n      <td>348,606,582</td>\n    </tr>\n    <tr>\n      <th>239</th>\n      <td>202109</td>\n      <td>인천광역시</td>\n      <td>동구</td>\n      <td>합계</td>\n      <td>25,922</td>\n      <td>274,340,856</td>\n    </tr>\n    <tr>\n      <th>319</th>\n      <td>202110</td>\n      <td>인천광역시</td>\n      <td>동구</td>\n      <td>합계</td>\n      <td>25,889</td>\n      <td>302,523,576</td>\n    </tr>\n    <tr>\n      <th>399</th>\n      <td>202111</td>\n      <td>인천광역시</td>\n      <td>동구</td>\n      <td>합계</td>\n      <td>25,878</td>\n      <td>265,695,036</td>\n    </tr>\n    <tr>\n      <th>479</th>\n      <td>202112</td>\n      <td>인천광역시</td>\n      <td>동구</td>\n      <td>합계</td>\n      <td>25,726</td>\n      <td>302,759,087</td>\n    </tr>\n    <tr>\n      <th>87</th>\n      <td>202107</td>\n      <td>인천광역시</td>\n      <td>미추홀구</td>\n      <td>합계</td>\n      <td>192,533</td>\n      <td>154,668,074</td>\n    </tr>\n    <tr>\n      <th>167</th>\n      <td>202108</td>\n      <td>인천광역시</td>\n      <td>미추홀구</td>\n      <td>합계</td>\n      <td>192,617</td>\n      <td>182,962,206</td>\n    </tr>\n    <tr>\n      <th>247</th>\n      <td>202109</td>\n      <td>인천광역시</td>\n      <td>미추홀구</td>\n      <td>합계</td>\n      <td>192,470</td>\n      <td>152,003,450</td>\n    </tr>\n    <tr>\n      <th>327</th>\n      <td>202110</td>\n      <td>인천광역시</td>\n      <td>미추홀구</td>\n      <td>합계</td>\n      <td>192,388</td>\n      <td>132,637,038</td>\n    </tr>\n    <tr>\n      <th>407</th>\n      <td>202111</td>\n      <td>인천광역시</td>\n      <td>미추홀구</td>\n      <td>합계</td>\n      <td>192,517</td>\n      <td>134,703,295</td>\n    </tr>\n    <tr>\n      <th>487</th>\n      <td>202112</td>\n      <td>인천광역시</td>\n      <td>미추홀구</td>\n      <td>합계</td>\n      <td>192,820</td>\n      <td>151,873,566</td>\n    </tr>\n    <tr>\n      <th>95</th>\n      <td>202107</td>\n      <td>인천광역시</td>\n      <td>부평구</td>\n      <td>합계</td>\n      <td>157,961</td>\n      <td>207,572,635</td>\n    </tr>\n    <tr>\n      <th>175</th>\n      <td>202108</td>\n      <td>인천광역시</td>\n      <td>부평구</td>\n      <td>합계</td>\n      <td>157,808</td>\n      <td>233,514,053</td>\n    </tr>\n    <tr>\n      <th>255</th>\n      <td>202109</td>\n      <td>인천광역시</td>\n      <td>부평구</td>\n      <td>합계</td>\n      <td>157,647</td>\n      <td>191,729,511</td>\n    </tr>\n    <tr>\n      <th>335</th>\n      <td>202110</td>\n      <td>인천광역시</td>\n      <td>부평구</td>\n      <td>합계</td>\n      <td>157,478</td>\n      <td>170,211,428</td>\n    </tr>\n    <tr>\n      <th>415</th>\n      <td>202111</td>\n      <td>인천광역시</td>\n      <td>부평구</td>\n      <td>합계</td>\n      <td>157,503</td>\n      <td>175,047,356</td>\n    </tr>\n    <tr>\n      <th>495</th>\n      <td>202112</td>\n      <td>인천광역시</td>\n      <td>부평구</td>\n      <td>합계</td>\n      <td>157,582</td>\n      <td>195,532,477</td>\n    </tr>\n    <tr>\n      <th>103</th>\n      <td>202107</td>\n      <td>인천광역시</td>\n      <td>서구</td>\n      <td>합계</td>\n      <td>166,668</td>\n      <td>500,285,771</td>\n    </tr>\n    <tr>\n      <th>183</th>\n      <td>202108</td>\n      <td>인천광역시</td>\n      <td>서구</td>\n      <td>합계</td>\n      <td>166,915</td>\n      <td>533,500,440</td>\n    </tr>\n    <tr>\n      <th>263</th>\n      <td>202109</td>\n      <td>인천광역시</td>\n      <td>서구</td>\n      <td>합계</td>\n      <td>167,108</td>\n      <td>489,284,965</td>\n    </tr>\n    <tr>\n      <th>343</th>\n      <td>202110</td>\n      <td>인천광역시</td>\n      <td>서구</td>\n      <td>합계</td>\n      <td>167,169</td>\n      <td>452,579,758</td>\n    </tr>\n    <tr>\n      <th>423</th>\n      <td>202111</td>\n      <td>인천광역시</td>\n      <td>서구</td>\n      <td>합계</td>\n      <td>167,516</td>\n      <td>471,627,269</td>\n    </tr>\n    <tr>\n      <th>503</th>\n      <td>202112</td>\n      <td>인천광역시</td>\n      <td>서구</td>\n      <td>합계</td>\n      <td>167,850</td>\n      <td>514,752,081</td>\n    </tr>\n    <tr>\n      <th>111</th>\n      <td>202107</td>\n      <td>인천광역시</td>\n      <td>연수구</td>\n      <td>합계</td>\n      <td>63,195</td>\n      <td>259,987,329</td>\n    </tr>\n    <tr>\n      <th>191</th>\n      <td>202108</td>\n      <td>인천광역시</td>\n      <td>연수구</td>\n      <td>합계</td>\n      <td>63,312</td>\n      <td>283,308,541</td>\n    </tr>\n    <tr>\n      <th>271</th>\n      <td>202109</td>\n      <td>인천광역시</td>\n      <td>연수구</td>\n      <td>합계</td>\n      <td>63,487</td>\n      <td>240,101,314</td>\n    </tr>\n    <tr>\n      <th>351</th>\n      <td>202110</td>\n      <td>인천광역시</td>\n      <td>연수구</td>\n      <td>합계</td>\n      <td>63,483</td>\n      <td>218,021,726</td>\n    </tr>\n    <tr>\n      <th>431</th>\n      <td>202111</td>\n      <td>인천광역시</td>\n      <td>연수구</td>\n      <td>합계</td>\n      <td>63,485</td>\n      <td>213,785,257</td>\n    </tr>\n    <tr>\n      <th>511</th>\n      <td>202112</td>\n      <td>인천광역시</td>\n      <td>연수구</td>\n      <td>합계</td>\n      <td>63,668</td>\n      <td>240,712,486</td>\n    </tr>\n    <tr>\n      <th>119</th>\n      <td>202107</td>\n      <td>인천광역시</td>\n      <td>옹진군</td>\n      <td>합계</td>\n      <td>25,383</td>\n      <td>14,733,038</td>\n    </tr>\n    <tr>\n      <th>199</th>\n      <td>202108</td>\n      <td>인천광역시</td>\n      <td>옹진군</td>\n      <td>합계</td>\n      <td>25,424</td>\n      <td>18,874,067</td>\n    </tr>\n    <tr>\n      <th>279</th>\n      <td>202109</td>\n      <td>인천광역시</td>\n      <td>옹진군</td>\n      <td>합계</td>\n      <td>25,488</td>\n      <td>18,755,134</td>\n    </tr>\n    <tr>\n      <th>359</th>\n      <td>202110</td>\n      <td>인천광역시</td>\n      <td>옹진군</td>\n      <td>합계</td>\n      <td>25,508</td>\n      <td>17,766,409</td>\n    </tr>\n    <tr>\n      <th>439</th>\n      <td>202111</td>\n      <td>인천광역시</td>\n      <td>옹진군</td>\n      <td>합계</td>\n      <td>26,560</td>\n      <td>20,773,530</td>\n    </tr>\n    <tr>\n      <th>519</th>\n      <td>202112</td>\n      <td>인천광역시</td>\n      <td>옹진군</td>\n      <td>합계</td>\n      <td>26,007</td>\n      <td>18,897,265</td>\n    </tr>\n    <tr>\n      <th>127</th>\n      <td>202107</td>\n      <td>인천광역시</td>\n      <td>중구</td>\n      <td>합계</td>\n      <td>61,606</td>\n      <td>218,799,610</td>\n    </tr>\n    <tr>\n      <th>207</th>\n      <td>202108</td>\n      <td>인천광역시</td>\n      <td>중구</td>\n      <td>합계</td>\n      <td>61,684</td>\n      <td>232,192,000</td>\n    </tr>\n    <tr>\n      <th>287</th>\n      <td>202109</td>\n      <td>인천광역시</td>\n      <td>중구</td>\n      <td>합계</td>\n      <td>61,798</td>\n      <td>210,481,296</td>\n    </tr>\n    <tr>\n      <th>367</th>\n      <td>202110</td>\n      <td>인천광역시</td>\n      <td>중구</td>\n      <td>합계</td>\n      <td>61,893</td>\n      <td>200,132,862</td>\n    </tr>\n    <tr>\n      <th>447</th>\n      <td>202111</td>\n      <td>인천광역시</td>\n      <td>중구</td>\n      <td>합계</td>\n      <td>62,441</td>\n      <td>197,680,840</td>\n    </tr>\n    <tr>\n      <th>527</th>\n      <td>202112</td>\n      <td>인천광역시</td>\n      <td>중구</td>\n      <td>합계</td>\n      <td>62,173</td>\n      <td>218,104,834</td>\n    </tr>\n  </tbody>\n</table>\n</div>"
     },
     "execution_count": 13,
     "metadata": {},
     "output_type": "execute_result"
    }
   ],
   "source": [
    "df_4 = df.loc[48:]\n",
    "df_4 = df_4.loc[(df_4['계약구분'] == '합계')]\n",
    "df_4 = df_4.sort_values(by=['시군구' , '년월'])\n",
    "df_4.drop(['전기요금(원)',   '평균판매단가(원/kWh)'] , axis = 1 , inplace = True)\n",
    "df_4"
   ],
   "metadata": {
    "collapsed": false,
    "pycharm": {
     "name": "#%%\n"
    }
   }
  },
  {
   "cell_type": "code",
   "execution_count": 14,
   "outputs": [
    {
     "name": "stdout",
     "output_type": "stream",
     "text": [
      "[42008021, 52216627, 49024334, 42901162, 53386052, 60362560]\n",
      "[116746574, 135659287, 111859060, 100026324, 104272668, 114447481]\n",
      "[340133284, 366652254, 327591299, 288222920, 309445293, 341882557]\n",
      "[336362392, 348606582, 274340856, 302523576, 265695036, 302759087]\n",
      "[154668074, 182962206, 152003450, 132637038, 134703295, 151873566]\n",
      "[207572635, 233514053, 191729511, 170211428, 175047356, 195532477]\n",
      "[500285771, 533500440, 489284965, 452579758, 471627269, 514752081]\n",
      "[259987329, 283308541, 240101314, 218021726, 213785257, 240712486]\n",
      "[14733038, 18874067, 18755134, 17766409, 20773530, 18897265]\n",
      "[218799610, 232192000, 210481296, 200132862, 197680840, 218104834]\n",
      "인천광역시 지역별 합계 :  [299898756, 683011394, 1973927607, 1830287529, 908847629, 1173607460, 2962030284, 1455916653, 109799443, 1277391442]\n",
      "인천광역시 고객호수 평균:  [14452, 16255, 26411, 4315, 32092, 26277, 27867, 10573, 4288, 10322]\n"
     ]
    }
   ],
   "source": [
    "sum2 , sum3 =[] , []\n",
    "for k in SIGUNGU:\n",
    "    GyeonGiHap = pd.DataFrame([] , columns = a)\n",
    "    HOSU = pd.DataFrame([], columns = a)\n",
    "    GyeonGiHap['사용량']= df_4['사용량(kWh)'].loc[(df_4['시군구'] == '{}'.format(k))]\n",
    "    HOSU['고객호수']= df_4['고객호수(호)'].loc[(df_4['시군구'] == '{}'.format(k))]\n",
    "    #경기합 데이터프레임의 사용량 열에 기군구가 가평군인 사용량 데이터만 뽑아내기\n",
    "    # GyeonGiHap = GyeonGiHap['사용량']\n",
    "\n",
    "    b = GyeonGiHap['사용량'].tolist()\n",
    "    c = HOSU['고객호수'].tolist()\n",
    "\n",
    "\n",
    "    #각지역별 사용량 리스트화\n",
    "    int_list  , int_list2=[] , []\n",
    "    for i in b:\n",
    "        i = re.sub(\",\" , \"\" , i)\n",
    "        #콤마 없애기\n",
    "        int_list.append(int(i))\n",
    "        #int_list에 각지역별 사용량 int로 저장\n",
    "    print(int_list)\n",
    "    sum=0\n",
    "    for i in c:\n",
    "        i = re.sub(\",\" , \"\" , i)\n",
    "        int_list2.append(int(i))\n",
    "\n",
    "    for j in int_list:\n",
    "\n",
    "        sum+= j\n",
    "    sum2.append(sum)\n",
    "    sum = 0\n",
    "    for j in int_list2: #고객호수 추출하여 더하기\n",
    "\n",
    "        sum+= j\n",
    "    sum3.append(sum//36) #6개월 치로 나눠야하나?!\n",
    "\n",
    "\n",
    "\n",
    "\n",
    "print(\"{} 지역별 합계 : \".format(City) , sum2)\n",
    "print(\"{} 고객호수 평균: \".format(City) , sum3)"
   ],
   "metadata": {
    "collapsed": false,
    "pycharm": {
     "name": "#%%\n"
    }
   }
  },
  {
   "cell_type": "markdown",
   "source": [
    "### 2. 날짜 체크!!!!!!!!!!!!!!!!!!!!!!!!!!!!!!!!!!!!!!!!!!!!!!"
   ],
   "metadata": {
    "collapsed": false,
    "pycharm": {
     "name": "#%% md\n"
    }
   }
  },
  {
   "cell_type": "code",
   "execution_count": 15,
   "outputs": [
    {
     "name": "stderr",
     "output_type": "stream",
     "text": [
      "C:\\Users\\user\\AppData\\Local\\Temp\\ipykernel_15464\\895775541.py:4: FutureWarning: The frame.append method is deprecated and will be removed from pandas in a future version. Use pandas.concat instead.\n",
      "  Hap = Hap.append({'년월' :'202107-202112'  , '시구' : '{}'.format(City) , '시군구' : '{}'.format(SIGUNGU[i]) , '계약구분' : '합계' , '고객호수(호)' : sum3[i] ,  '사용량(kWh)' : sum2[i]} , ignore_index=True) #년월 파일마다 수정하기\n",
      "C:\\Users\\user\\AppData\\Local\\Temp\\ipykernel_15464\\895775541.py:4: FutureWarning: The frame.append method is deprecated and will be removed from pandas in a future version. Use pandas.concat instead.\n",
      "  Hap = Hap.append({'년월' :'202107-202112'  , '시구' : '{}'.format(City) , '시군구' : '{}'.format(SIGUNGU[i]) , '계약구분' : '합계' , '고객호수(호)' : sum3[i] ,  '사용량(kWh)' : sum2[i]} , ignore_index=True) #년월 파일마다 수정하기\n",
      "C:\\Users\\user\\AppData\\Local\\Temp\\ipykernel_15464\\895775541.py:4: FutureWarning: The frame.append method is deprecated and will be removed from pandas in a future version. Use pandas.concat instead.\n",
      "  Hap = Hap.append({'년월' :'202107-202112'  , '시구' : '{}'.format(City) , '시군구' : '{}'.format(SIGUNGU[i]) , '계약구분' : '합계' , '고객호수(호)' : sum3[i] ,  '사용량(kWh)' : sum2[i]} , ignore_index=True) #년월 파일마다 수정하기\n",
      "C:\\Users\\user\\AppData\\Local\\Temp\\ipykernel_15464\\895775541.py:4: FutureWarning: The frame.append method is deprecated and will be removed from pandas in a future version. Use pandas.concat instead.\n",
      "  Hap = Hap.append({'년월' :'202107-202112'  , '시구' : '{}'.format(City) , '시군구' : '{}'.format(SIGUNGU[i]) , '계약구분' : '합계' , '고객호수(호)' : sum3[i] ,  '사용량(kWh)' : sum2[i]} , ignore_index=True) #년월 파일마다 수정하기\n",
      "C:\\Users\\user\\AppData\\Local\\Temp\\ipykernel_15464\\895775541.py:4: FutureWarning: The frame.append method is deprecated and will be removed from pandas in a future version. Use pandas.concat instead.\n",
      "  Hap = Hap.append({'년월' :'202107-202112'  , '시구' : '{}'.format(City) , '시군구' : '{}'.format(SIGUNGU[i]) , '계약구분' : '합계' , '고객호수(호)' : sum3[i] ,  '사용량(kWh)' : sum2[i]} , ignore_index=True) #년월 파일마다 수정하기\n",
      "C:\\Users\\user\\AppData\\Local\\Temp\\ipykernel_15464\\895775541.py:4: FutureWarning: The frame.append method is deprecated and will be removed from pandas in a future version. Use pandas.concat instead.\n",
      "  Hap = Hap.append({'년월' :'202107-202112'  , '시구' : '{}'.format(City) , '시군구' : '{}'.format(SIGUNGU[i]) , '계약구분' : '합계' , '고객호수(호)' : sum3[i] ,  '사용량(kWh)' : sum2[i]} , ignore_index=True) #년월 파일마다 수정하기\n",
      "C:\\Users\\user\\AppData\\Local\\Temp\\ipykernel_15464\\895775541.py:4: FutureWarning: The frame.append method is deprecated and will be removed from pandas in a future version. Use pandas.concat instead.\n",
      "  Hap = Hap.append({'년월' :'202107-202112'  , '시구' : '{}'.format(City) , '시군구' : '{}'.format(SIGUNGU[i]) , '계약구분' : '합계' , '고객호수(호)' : sum3[i] ,  '사용량(kWh)' : sum2[i]} , ignore_index=True) #년월 파일마다 수정하기\n",
      "C:\\Users\\user\\AppData\\Local\\Temp\\ipykernel_15464\\895775541.py:4: FutureWarning: The frame.append method is deprecated and will be removed from pandas in a future version. Use pandas.concat instead.\n",
      "  Hap = Hap.append({'년월' :'202107-202112'  , '시구' : '{}'.format(City) , '시군구' : '{}'.format(SIGUNGU[i]) , '계약구분' : '합계' , '고객호수(호)' : sum3[i] ,  '사용량(kWh)' : sum2[i]} , ignore_index=True) #년월 파일마다 수정하기\n",
      "C:\\Users\\user\\AppData\\Local\\Temp\\ipykernel_15464\\895775541.py:4: FutureWarning: The frame.append method is deprecated and will be removed from pandas in a future version. Use pandas.concat instead.\n",
      "  Hap = Hap.append({'년월' :'202107-202112'  , '시구' : '{}'.format(City) , '시군구' : '{}'.format(SIGUNGU[i]) , '계약구분' : '합계' , '고객호수(호)' : sum3[i] ,  '사용량(kWh)' : sum2[i]} , ignore_index=True) #년월 파일마다 수정하기\n",
      "C:\\Users\\user\\AppData\\Local\\Temp\\ipykernel_15464\\895775541.py:4: FutureWarning: The frame.append method is deprecated and will be removed from pandas in a future version. Use pandas.concat instead.\n",
      "  Hap = Hap.append({'년월' :'202107-202112'  , '시구' : '{}'.format(City) , '시군구' : '{}'.format(SIGUNGU[i]) , '계약구분' : '합계' , '고객호수(호)' : sum3[i] ,  '사용량(kWh)' : sum2[i]} , ignore_index=True) #년월 파일마다 수정하기\n"
     ]
    },
    {
     "data": {
      "text/plain": "               년월     시구  시군구 계약구분  고객호수(호)     사용량(kWh)\n0          202107  인천광역시  강화군   합계  84,204   42,008,021 \n1          202108  인천광역시  강화군   합계  84,605   52,216,627 \n2          202109  인천광역시  강화군   합계  84,863   49,024,334 \n3          202110  인천광역시  강화군   합계  85,142   42,901,162 \n4          202111  인천광역시  강화군   합계  91,397   53,386,052 \n..            ...    ...  ...  ...      ...          ...\n65  202107-202112  인천광역시  부평구   합계    26277   1173607460\n66  202107-202112  인천광역시   서구   합계    27867   2962030284\n67  202107-202112  인천광역시  연수구   합계    10573   1455916653\n68  202107-202112  인천광역시  옹진군   합계     4288    109799443\n69  202107-202112  인천광역시   중구   합계    10322   1277391442\n\n[70 rows x 6 columns]",
      "text/html": "<div>\n<style scoped>\n    .dataframe tbody tr th:only-of-type {\n        vertical-align: middle;\n    }\n\n    .dataframe tbody tr th {\n        vertical-align: top;\n    }\n\n    .dataframe thead th {\n        text-align: right;\n    }\n</style>\n<table border=\"1\" class=\"dataframe\">\n  <thead>\n    <tr style=\"text-align: right;\">\n      <th></th>\n      <th>년월</th>\n      <th>시구</th>\n      <th>시군구</th>\n      <th>계약구분</th>\n      <th>고객호수(호)</th>\n      <th>사용량(kWh)</th>\n    </tr>\n  </thead>\n  <tbody>\n    <tr>\n      <th>0</th>\n      <td>202107</td>\n      <td>인천광역시</td>\n      <td>강화군</td>\n      <td>합계</td>\n      <td>84,204</td>\n      <td>42,008,021</td>\n    </tr>\n    <tr>\n      <th>1</th>\n      <td>202108</td>\n      <td>인천광역시</td>\n      <td>강화군</td>\n      <td>합계</td>\n      <td>84,605</td>\n      <td>52,216,627</td>\n    </tr>\n    <tr>\n      <th>2</th>\n      <td>202109</td>\n      <td>인천광역시</td>\n      <td>강화군</td>\n      <td>합계</td>\n      <td>84,863</td>\n      <td>49,024,334</td>\n    </tr>\n    <tr>\n      <th>3</th>\n      <td>202110</td>\n      <td>인천광역시</td>\n      <td>강화군</td>\n      <td>합계</td>\n      <td>85,142</td>\n      <td>42,901,162</td>\n    </tr>\n    <tr>\n      <th>4</th>\n      <td>202111</td>\n      <td>인천광역시</td>\n      <td>강화군</td>\n      <td>합계</td>\n      <td>91,397</td>\n      <td>53,386,052</td>\n    </tr>\n    <tr>\n      <th>...</th>\n      <td>...</td>\n      <td>...</td>\n      <td>...</td>\n      <td>...</td>\n      <td>...</td>\n      <td>...</td>\n    </tr>\n    <tr>\n      <th>65</th>\n      <td>202107-202112</td>\n      <td>인천광역시</td>\n      <td>부평구</td>\n      <td>합계</td>\n      <td>26277</td>\n      <td>1173607460</td>\n    </tr>\n    <tr>\n      <th>66</th>\n      <td>202107-202112</td>\n      <td>인천광역시</td>\n      <td>서구</td>\n      <td>합계</td>\n      <td>27867</td>\n      <td>2962030284</td>\n    </tr>\n    <tr>\n      <th>67</th>\n      <td>202107-202112</td>\n      <td>인천광역시</td>\n      <td>연수구</td>\n      <td>합계</td>\n      <td>10573</td>\n      <td>1455916653</td>\n    </tr>\n    <tr>\n      <th>68</th>\n      <td>202107-202112</td>\n      <td>인천광역시</td>\n      <td>옹진군</td>\n      <td>합계</td>\n      <td>4288</td>\n      <td>109799443</td>\n    </tr>\n    <tr>\n      <th>69</th>\n      <td>202107-202112</td>\n      <td>인천광역시</td>\n      <td>중구</td>\n      <td>합계</td>\n      <td>10322</td>\n      <td>1277391442</td>\n    </tr>\n  </tbody>\n</table>\n<p>70 rows × 6 columns</p>\n</div>"
     },
     "execution_count": 15,
     "metadata": {},
     "output_type": "execute_result"
    }
   ],
   "source": [
    "Hap = df_4.copy()\n",
    "Hap.reset_index(drop=True , inplace = True)\n",
    "for i in range(len(SIGUNGU)):\n",
    "    Hap = Hap.append({'년월' :'202107-202112'  , '시구' : '{}'.format(City) , '시군구' : '{}'.format(SIGUNGU[i]) , '계약구분' : '합계' , '고객호수(호)' : sum3[i] ,  '사용량(kWh)' : sum2[i]} , ignore_index=True) #년월 파일마다 수정하기\n",
    "Hap"
   ],
   "metadata": {
    "collapsed": false,
    "pycharm": {
     "name": "#%%\n"
    }
   }
  },
  {
   "cell_type": "markdown",
   "source": [
    "### 3. 날짜 변경!!!!!!!!!!!!!!!!!!!!!!!!!!!!!!!"
   ],
   "metadata": {
    "collapsed": false,
    "pycharm": {
     "name": "#%% md\n"
    }
   }
  },
  {
   "cell_type": "code",
   "execution_count": 16,
   "outputs": [
    {
     "data": {
      "text/plain": "               년월     시구   시군구 계약구분 고객호수(호)    사용량(kWh)\n60  202107-202112  인천광역시   강화군   합계   14452   299898756\n61  202107-202112  인천광역시   계양구   합계   16255   683011394\n62  202107-202112  인천광역시   남동구   합계   26411  1973927607\n63  202107-202112  인천광역시    동구   합계    4315  1830287529\n64  202107-202112  인천광역시  미추홀구   합계   32092   908847629\n65  202107-202112  인천광역시   부평구   합계   26277  1173607460\n66  202107-202112  인천광역시    서구   합계   27867  2962030284\n67  202107-202112  인천광역시   연수구   합계   10573  1455916653\n68  202107-202112  인천광역시   옹진군   합계    4288   109799443\n69  202107-202112  인천광역시    중구   합계   10322  1277391442",
      "text/html": "<div>\n<style scoped>\n    .dataframe tbody tr th:only-of-type {\n        vertical-align: middle;\n    }\n\n    .dataframe tbody tr th {\n        vertical-align: top;\n    }\n\n    .dataframe thead th {\n        text-align: right;\n    }\n</style>\n<table border=\"1\" class=\"dataframe\">\n  <thead>\n    <tr style=\"text-align: right;\">\n      <th></th>\n      <th>년월</th>\n      <th>시구</th>\n      <th>시군구</th>\n      <th>계약구분</th>\n      <th>고객호수(호)</th>\n      <th>사용량(kWh)</th>\n    </tr>\n  </thead>\n  <tbody>\n    <tr>\n      <th>60</th>\n      <td>202107-202112</td>\n      <td>인천광역시</td>\n      <td>강화군</td>\n      <td>합계</td>\n      <td>14452</td>\n      <td>299898756</td>\n    </tr>\n    <tr>\n      <th>61</th>\n      <td>202107-202112</td>\n      <td>인천광역시</td>\n      <td>계양구</td>\n      <td>합계</td>\n      <td>16255</td>\n      <td>683011394</td>\n    </tr>\n    <tr>\n      <th>62</th>\n      <td>202107-202112</td>\n      <td>인천광역시</td>\n      <td>남동구</td>\n      <td>합계</td>\n      <td>26411</td>\n      <td>1973927607</td>\n    </tr>\n    <tr>\n      <th>63</th>\n      <td>202107-202112</td>\n      <td>인천광역시</td>\n      <td>동구</td>\n      <td>합계</td>\n      <td>4315</td>\n      <td>1830287529</td>\n    </tr>\n    <tr>\n      <th>64</th>\n      <td>202107-202112</td>\n      <td>인천광역시</td>\n      <td>미추홀구</td>\n      <td>합계</td>\n      <td>32092</td>\n      <td>908847629</td>\n    </tr>\n    <tr>\n      <th>65</th>\n      <td>202107-202112</td>\n      <td>인천광역시</td>\n      <td>부평구</td>\n      <td>합계</td>\n      <td>26277</td>\n      <td>1173607460</td>\n    </tr>\n    <tr>\n      <th>66</th>\n      <td>202107-202112</td>\n      <td>인천광역시</td>\n      <td>서구</td>\n      <td>합계</td>\n      <td>27867</td>\n      <td>2962030284</td>\n    </tr>\n    <tr>\n      <th>67</th>\n      <td>202107-202112</td>\n      <td>인천광역시</td>\n      <td>연수구</td>\n      <td>합계</td>\n      <td>10573</td>\n      <td>1455916653</td>\n    </tr>\n    <tr>\n      <th>68</th>\n      <td>202107-202112</td>\n      <td>인천광역시</td>\n      <td>옹진군</td>\n      <td>합계</td>\n      <td>4288</td>\n      <td>109799443</td>\n    </tr>\n    <tr>\n      <th>69</th>\n      <td>202107-202112</td>\n      <td>인천광역시</td>\n      <td>중구</td>\n      <td>합계</td>\n      <td>10322</td>\n      <td>1277391442</td>\n    </tr>\n  </tbody>\n</table>\n</div>"
     },
     "execution_count": 16,
     "metadata": {},
     "output_type": "execute_result"
    }
   ],
   "source": [
    "Hap = Hap.loc[Hap['년월'] == '202107-202112']\n",
    "Hap"
   ],
   "metadata": {
    "collapsed": false,
    "pycharm": {
     "name": "#%%\n"
    }
   }
  },
  {
   "cell_type": "code",
   "execution_count": 17,
   "outputs": [],
   "source": [
    "# SIGUNGU = SIGUNGU[:1]\n",
    "# SIGUNGU\n",
    "#for i in SIGUNGU:\n",
    "#print('{}'.format(i))\n",
    "# df_3 = df_3.loc[(df_3['시군구'] == '가평군')]\n",
    "#\n",
    "# df_3"
   ],
   "metadata": {
    "collapsed": false,
    "pycharm": {
     "name": "#%%\n"
    }
   }
  },
  {
   "cell_type": "code",
   "execution_count": 18,
   "outputs": [
    {
     "data": {
      "text/plain": "['년월', '시구', '시군구', '계약구분', '고객호수(호)', '사용량(kWh)']"
     },
     "execution_count": 18,
     "metadata": {},
     "output_type": "execute_result"
    }
   ],
   "source": [
    "a = (df_3.columns).tolist()\n",
    "\n",
    "a"
   ],
   "metadata": {
    "collapsed": false,
    "pycharm": {
     "name": "#%%\n"
    }
   }
  },
  {
   "cell_type": "code",
   "execution_count": 19,
   "outputs": [
    {
     "data": {
      "text/plain": "         년월     시구   시군구 계약구분  고객호수(호)      사용량(kWh)\n53   202107  인천광역시   강화군  일반용   8,382    13,998,334 \n133  202108  인천광역시   강화군  일반용   8,444    17,380,269 \n213  202109  인천광역시   강화군  일반용   8,488    14,794,220 \n293  202110  인천광역시   강화군  일반용   8,497    13,078,096 \n373  202111  인천광역시   강화군  일반용   8,538    14,388,604 \n453  202112  인천광역시   강화군  일반용   8,590    17,506,614 \n61   202107  인천광역시   계양구  일반용  12,619    39,805,636 \n141  202108  인천광역시   계양구  일반용  12,631    44,895,285 \n221  202109  인천광역시   계양구  일반용  12,667    37,966,742 \n301  202110  인천광역시   계양구  일반용  12,672    32,930,377 \n381  202111  인천광역시   계양구  일반용  12,703    32,490,216 \n461  202112  인천광역시   계양구  일반용  12,762    38,048,723 \n69   202107  인천광역시   남동구  일반용  23,970    85,468,163 \n149  202108  인천광역시   남동구  일반용  24,006    95,869,312 \n229  202109  인천광역시   남동구  일반용  24,026    80,595,972 \n309  202110  인천광역시   남동구  일반용  24,019    69,993,256 \n389  202111  인천광역시   남동구  일반용  24,063    69,071,389 \n469  202112  인천광역시   남동구  일반용  24,153    80,399,925 \n77   202107  인천광역시    동구  일반용   3,697     9,662,700 \n157  202108  인천광역시    동구  일반용   3,719    10,765,424 \n237  202109  인천광역시    동구  일반용   3,696     9,082,836 \n317  202110  인천광역시    동구  일반용   3,687     7,871,445 \n397  202111  인천광역시    동구  일반용   3,704     8,408,380 \n477  202112  인천광역시    동구  일반용   3,707    10,228,105 \n85   202107  인천광역시  미추홀구  일반용  21,555    55,442,085 \n165  202108  인천광역시  미추홀구  일반용  21,596    64,323,519 \n245  202109  인천광역시  미추홀구  일반용  21,616    54,319,577 \n325  202110  인천광역시  미추홀구  일반용  21,623    47,080,950 \n405  202111  인천광역시  미추홀구  일반용  21,676    46,187,681 \n485  202112  인천광역시  미추홀구  일반용  21,754    54,437,275 \n93   202107  인천광역시   부평구  일반용  21,905    71,384,023 \n173  202108  인천광역시   부평구  일반용  21,936    79,171,214 \n253  202109  인천광역시   부평구  일반용  21,940    67,074,132 \n333  202110  인천광역시   부평구  일반용  21,923    57,999,494 \n413  202111  인천광역시   부평구  일반용  21,950    57,100,126 \n493  202112  인천광역시   부평구  일반용  22,021    67,188,753 \n101  202107  인천광역시    서구  일반용  24,756   100,383,692 \n181  202108  인천광역시    서구  일반용  24,882   110,735,178 \n261  202109  인천광역시    서구  일반용  24,975    97,105,677 \n341  202110  인천광역시    서구  일반용  25,056    85,575,432 \n421  202111  인천광역시    서구  일반용  25,094    86,818,274 \n501  202112  인천광역시    서구  일반용  25,262   102,439,716 \n109  202107  인천광역시   연수구  일반용   9,930    76,990,330 \n189  202108  인천광역시   연수구  일반용   9,963    81,540,862 \n269  202109  인천광역시   연수구  일반용  10,005    70,057,147 \n349  202110  인천광역시   연수구  일반용  10,010    62,269,527 \n429  202111  인천광역시   연수구  일반용  10,036    59,470,084 \n509  202112  인천광역시   연수구  일반용  10,106    69,653,451 \n117  202107  인천광역시   옹진군  일반용   4,026     8,968,277 \n197  202108  인천광역시   옹진군  일반용   4,033    11,083,442 \n277  202109  인천광역시   옹진군  일반용   4,047     9,887,690 \n357  202110  인천광역시   옹진군  일반용   4,059     8,948,056 \n437  202111  인천광역시   옹진군  일반용   4,077     8,899,818 \n517  202112  인천광역시   옹진군  일반용   4,101    10,135,515 \n125  202107  인천광역시    중구  일반용  11,628   103,817,356 \n205  202108  인천광역시    중구  일반용  11,688   109,932,890 \n285  202109  인천광역시    중구  일반용  11,716    96,493,409 \n365  202110  인천광역시    중구  일반용  11,732    88,325,577 \n445  202111  인천광역시    중구  일반용  11,807    86,104,110 \n525  202112  인천광역시    중구  일반용  11,851    98,488,618 ",
      "text/html": "<div>\n<style scoped>\n    .dataframe tbody tr th:only-of-type {\n        vertical-align: middle;\n    }\n\n    .dataframe tbody tr th {\n        vertical-align: top;\n    }\n\n    .dataframe thead th {\n        text-align: right;\n    }\n</style>\n<table border=\"1\" class=\"dataframe\">\n  <thead>\n    <tr style=\"text-align: right;\">\n      <th></th>\n      <th>년월</th>\n      <th>시구</th>\n      <th>시군구</th>\n      <th>계약구분</th>\n      <th>고객호수(호)</th>\n      <th>사용량(kWh)</th>\n    </tr>\n  </thead>\n  <tbody>\n    <tr>\n      <th>53</th>\n      <td>202107</td>\n      <td>인천광역시</td>\n      <td>강화군</td>\n      <td>일반용</td>\n      <td>8,382</td>\n      <td>13,998,334</td>\n    </tr>\n    <tr>\n      <th>133</th>\n      <td>202108</td>\n      <td>인천광역시</td>\n      <td>강화군</td>\n      <td>일반용</td>\n      <td>8,444</td>\n      <td>17,380,269</td>\n    </tr>\n    <tr>\n      <th>213</th>\n      <td>202109</td>\n      <td>인천광역시</td>\n      <td>강화군</td>\n      <td>일반용</td>\n      <td>8,488</td>\n      <td>14,794,220</td>\n    </tr>\n    <tr>\n      <th>293</th>\n      <td>202110</td>\n      <td>인천광역시</td>\n      <td>강화군</td>\n      <td>일반용</td>\n      <td>8,497</td>\n      <td>13,078,096</td>\n    </tr>\n    <tr>\n      <th>373</th>\n      <td>202111</td>\n      <td>인천광역시</td>\n      <td>강화군</td>\n      <td>일반용</td>\n      <td>8,538</td>\n      <td>14,388,604</td>\n    </tr>\n    <tr>\n      <th>453</th>\n      <td>202112</td>\n      <td>인천광역시</td>\n      <td>강화군</td>\n      <td>일반용</td>\n      <td>8,590</td>\n      <td>17,506,614</td>\n    </tr>\n    <tr>\n      <th>61</th>\n      <td>202107</td>\n      <td>인천광역시</td>\n      <td>계양구</td>\n      <td>일반용</td>\n      <td>12,619</td>\n      <td>39,805,636</td>\n    </tr>\n    <tr>\n      <th>141</th>\n      <td>202108</td>\n      <td>인천광역시</td>\n      <td>계양구</td>\n      <td>일반용</td>\n      <td>12,631</td>\n      <td>44,895,285</td>\n    </tr>\n    <tr>\n      <th>221</th>\n      <td>202109</td>\n      <td>인천광역시</td>\n      <td>계양구</td>\n      <td>일반용</td>\n      <td>12,667</td>\n      <td>37,966,742</td>\n    </tr>\n    <tr>\n      <th>301</th>\n      <td>202110</td>\n      <td>인천광역시</td>\n      <td>계양구</td>\n      <td>일반용</td>\n      <td>12,672</td>\n      <td>32,930,377</td>\n    </tr>\n    <tr>\n      <th>381</th>\n      <td>202111</td>\n      <td>인천광역시</td>\n      <td>계양구</td>\n      <td>일반용</td>\n      <td>12,703</td>\n      <td>32,490,216</td>\n    </tr>\n    <tr>\n      <th>461</th>\n      <td>202112</td>\n      <td>인천광역시</td>\n      <td>계양구</td>\n      <td>일반용</td>\n      <td>12,762</td>\n      <td>38,048,723</td>\n    </tr>\n    <tr>\n      <th>69</th>\n      <td>202107</td>\n      <td>인천광역시</td>\n      <td>남동구</td>\n      <td>일반용</td>\n      <td>23,970</td>\n      <td>85,468,163</td>\n    </tr>\n    <tr>\n      <th>149</th>\n      <td>202108</td>\n      <td>인천광역시</td>\n      <td>남동구</td>\n      <td>일반용</td>\n      <td>24,006</td>\n      <td>95,869,312</td>\n    </tr>\n    <tr>\n      <th>229</th>\n      <td>202109</td>\n      <td>인천광역시</td>\n      <td>남동구</td>\n      <td>일반용</td>\n      <td>24,026</td>\n      <td>80,595,972</td>\n    </tr>\n    <tr>\n      <th>309</th>\n      <td>202110</td>\n      <td>인천광역시</td>\n      <td>남동구</td>\n      <td>일반용</td>\n      <td>24,019</td>\n      <td>69,993,256</td>\n    </tr>\n    <tr>\n      <th>389</th>\n      <td>202111</td>\n      <td>인천광역시</td>\n      <td>남동구</td>\n      <td>일반용</td>\n      <td>24,063</td>\n      <td>69,071,389</td>\n    </tr>\n    <tr>\n      <th>469</th>\n      <td>202112</td>\n      <td>인천광역시</td>\n      <td>남동구</td>\n      <td>일반용</td>\n      <td>24,153</td>\n      <td>80,399,925</td>\n    </tr>\n    <tr>\n      <th>77</th>\n      <td>202107</td>\n      <td>인천광역시</td>\n      <td>동구</td>\n      <td>일반용</td>\n      <td>3,697</td>\n      <td>9,662,700</td>\n    </tr>\n    <tr>\n      <th>157</th>\n      <td>202108</td>\n      <td>인천광역시</td>\n      <td>동구</td>\n      <td>일반용</td>\n      <td>3,719</td>\n      <td>10,765,424</td>\n    </tr>\n    <tr>\n      <th>237</th>\n      <td>202109</td>\n      <td>인천광역시</td>\n      <td>동구</td>\n      <td>일반용</td>\n      <td>3,696</td>\n      <td>9,082,836</td>\n    </tr>\n    <tr>\n      <th>317</th>\n      <td>202110</td>\n      <td>인천광역시</td>\n      <td>동구</td>\n      <td>일반용</td>\n      <td>3,687</td>\n      <td>7,871,445</td>\n    </tr>\n    <tr>\n      <th>397</th>\n      <td>202111</td>\n      <td>인천광역시</td>\n      <td>동구</td>\n      <td>일반용</td>\n      <td>3,704</td>\n      <td>8,408,380</td>\n    </tr>\n    <tr>\n      <th>477</th>\n      <td>202112</td>\n      <td>인천광역시</td>\n      <td>동구</td>\n      <td>일반용</td>\n      <td>3,707</td>\n      <td>10,228,105</td>\n    </tr>\n    <tr>\n      <th>85</th>\n      <td>202107</td>\n      <td>인천광역시</td>\n      <td>미추홀구</td>\n      <td>일반용</td>\n      <td>21,555</td>\n      <td>55,442,085</td>\n    </tr>\n    <tr>\n      <th>165</th>\n      <td>202108</td>\n      <td>인천광역시</td>\n      <td>미추홀구</td>\n      <td>일반용</td>\n      <td>21,596</td>\n      <td>64,323,519</td>\n    </tr>\n    <tr>\n      <th>245</th>\n      <td>202109</td>\n      <td>인천광역시</td>\n      <td>미추홀구</td>\n      <td>일반용</td>\n      <td>21,616</td>\n      <td>54,319,577</td>\n    </tr>\n    <tr>\n      <th>325</th>\n      <td>202110</td>\n      <td>인천광역시</td>\n      <td>미추홀구</td>\n      <td>일반용</td>\n      <td>21,623</td>\n      <td>47,080,950</td>\n    </tr>\n    <tr>\n      <th>405</th>\n      <td>202111</td>\n      <td>인천광역시</td>\n      <td>미추홀구</td>\n      <td>일반용</td>\n      <td>21,676</td>\n      <td>46,187,681</td>\n    </tr>\n    <tr>\n      <th>485</th>\n      <td>202112</td>\n      <td>인천광역시</td>\n      <td>미추홀구</td>\n      <td>일반용</td>\n      <td>21,754</td>\n      <td>54,437,275</td>\n    </tr>\n    <tr>\n      <th>93</th>\n      <td>202107</td>\n      <td>인천광역시</td>\n      <td>부평구</td>\n      <td>일반용</td>\n      <td>21,905</td>\n      <td>71,384,023</td>\n    </tr>\n    <tr>\n      <th>173</th>\n      <td>202108</td>\n      <td>인천광역시</td>\n      <td>부평구</td>\n      <td>일반용</td>\n      <td>21,936</td>\n      <td>79,171,214</td>\n    </tr>\n    <tr>\n      <th>253</th>\n      <td>202109</td>\n      <td>인천광역시</td>\n      <td>부평구</td>\n      <td>일반용</td>\n      <td>21,940</td>\n      <td>67,074,132</td>\n    </tr>\n    <tr>\n      <th>333</th>\n      <td>202110</td>\n      <td>인천광역시</td>\n      <td>부평구</td>\n      <td>일반용</td>\n      <td>21,923</td>\n      <td>57,999,494</td>\n    </tr>\n    <tr>\n      <th>413</th>\n      <td>202111</td>\n      <td>인천광역시</td>\n      <td>부평구</td>\n      <td>일반용</td>\n      <td>21,950</td>\n      <td>57,100,126</td>\n    </tr>\n    <tr>\n      <th>493</th>\n      <td>202112</td>\n      <td>인천광역시</td>\n      <td>부평구</td>\n      <td>일반용</td>\n      <td>22,021</td>\n      <td>67,188,753</td>\n    </tr>\n    <tr>\n      <th>101</th>\n      <td>202107</td>\n      <td>인천광역시</td>\n      <td>서구</td>\n      <td>일반용</td>\n      <td>24,756</td>\n      <td>100,383,692</td>\n    </tr>\n    <tr>\n      <th>181</th>\n      <td>202108</td>\n      <td>인천광역시</td>\n      <td>서구</td>\n      <td>일반용</td>\n      <td>24,882</td>\n      <td>110,735,178</td>\n    </tr>\n    <tr>\n      <th>261</th>\n      <td>202109</td>\n      <td>인천광역시</td>\n      <td>서구</td>\n      <td>일반용</td>\n      <td>24,975</td>\n      <td>97,105,677</td>\n    </tr>\n    <tr>\n      <th>341</th>\n      <td>202110</td>\n      <td>인천광역시</td>\n      <td>서구</td>\n      <td>일반용</td>\n      <td>25,056</td>\n      <td>85,575,432</td>\n    </tr>\n    <tr>\n      <th>421</th>\n      <td>202111</td>\n      <td>인천광역시</td>\n      <td>서구</td>\n      <td>일반용</td>\n      <td>25,094</td>\n      <td>86,818,274</td>\n    </tr>\n    <tr>\n      <th>501</th>\n      <td>202112</td>\n      <td>인천광역시</td>\n      <td>서구</td>\n      <td>일반용</td>\n      <td>25,262</td>\n      <td>102,439,716</td>\n    </tr>\n    <tr>\n      <th>109</th>\n      <td>202107</td>\n      <td>인천광역시</td>\n      <td>연수구</td>\n      <td>일반용</td>\n      <td>9,930</td>\n      <td>76,990,330</td>\n    </tr>\n    <tr>\n      <th>189</th>\n      <td>202108</td>\n      <td>인천광역시</td>\n      <td>연수구</td>\n      <td>일반용</td>\n      <td>9,963</td>\n      <td>81,540,862</td>\n    </tr>\n    <tr>\n      <th>269</th>\n      <td>202109</td>\n      <td>인천광역시</td>\n      <td>연수구</td>\n      <td>일반용</td>\n      <td>10,005</td>\n      <td>70,057,147</td>\n    </tr>\n    <tr>\n      <th>349</th>\n      <td>202110</td>\n      <td>인천광역시</td>\n      <td>연수구</td>\n      <td>일반용</td>\n      <td>10,010</td>\n      <td>62,269,527</td>\n    </tr>\n    <tr>\n      <th>429</th>\n      <td>202111</td>\n      <td>인천광역시</td>\n      <td>연수구</td>\n      <td>일반용</td>\n      <td>10,036</td>\n      <td>59,470,084</td>\n    </tr>\n    <tr>\n      <th>509</th>\n      <td>202112</td>\n      <td>인천광역시</td>\n      <td>연수구</td>\n      <td>일반용</td>\n      <td>10,106</td>\n      <td>69,653,451</td>\n    </tr>\n    <tr>\n      <th>117</th>\n      <td>202107</td>\n      <td>인천광역시</td>\n      <td>옹진군</td>\n      <td>일반용</td>\n      <td>4,026</td>\n      <td>8,968,277</td>\n    </tr>\n    <tr>\n      <th>197</th>\n      <td>202108</td>\n      <td>인천광역시</td>\n      <td>옹진군</td>\n      <td>일반용</td>\n      <td>4,033</td>\n      <td>11,083,442</td>\n    </tr>\n    <tr>\n      <th>277</th>\n      <td>202109</td>\n      <td>인천광역시</td>\n      <td>옹진군</td>\n      <td>일반용</td>\n      <td>4,047</td>\n      <td>9,887,690</td>\n    </tr>\n    <tr>\n      <th>357</th>\n      <td>202110</td>\n      <td>인천광역시</td>\n      <td>옹진군</td>\n      <td>일반용</td>\n      <td>4,059</td>\n      <td>8,948,056</td>\n    </tr>\n    <tr>\n      <th>437</th>\n      <td>202111</td>\n      <td>인천광역시</td>\n      <td>옹진군</td>\n      <td>일반용</td>\n      <td>4,077</td>\n      <td>8,899,818</td>\n    </tr>\n    <tr>\n      <th>517</th>\n      <td>202112</td>\n      <td>인천광역시</td>\n      <td>옹진군</td>\n      <td>일반용</td>\n      <td>4,101</td>\n      <td>10,135,515</td>\n    </tr>\n    <tr>\n      <th>125</th>\n      <td>202107</td>\n      <td>인천광역시</td>\n      <td>중구</td>\n      <td>일반용</td>\n      <td>11,628</td>\n      <td>103,817,356</td>\n    </tr>\n    <tr>\n      <th>205</th>\n      <td>202108</td>\n      <td>인천광역시</td>\n      <td>중구</td>\n      <td>일반용</td>\n      <td>11,688</td>\n      <td>109,932,890</td>\n    </tr>\n    <tr>\n      <th>285</th>\n      <td>202109</td>\n      <td>인천광역시</td>\n      <td>중구</td>\n      <td>일반용</td>\n      <td>11,716</td>\n      <td>96,493,409</td>\n    </tr>\n    <tr>\n      <th>365</th>\n      <td>202110</td>\n      <td>인천광역시</td>\n      <td>중구</td>\n      <td>일반용</td>\n      <td>11,732</td>\n      <td>88,325,577</td>\n    </tr>\n    <tr>\n      <th>445</th>\n      <td>202111</td>\n      <td>인천광역시</td>\n      <td>중구</td>\n      <td>일반용</td>\n      <td>11,807</td>\n      <td>86,104,110</td>\n    </tr>\n    <tr>\n      <th>525</th>\n      <td>202112</td>\n      <td>인천광역시</td>\n      <td>중구</td>\n      <td>일반용</td>\n      <td>11,851</td>\n      <td>98,488,618</td>\n    </tr>\n  </tbody>\n</table>\n</div>"
     },
     "execution_count": 19,
     "metadata": {},
     "output_type": "execute_result"
    }
   ],
   "source": [
    "df_3"
   ],
   "metadata": {
    "collapsed": false,
    "pycharm": {
     "name": "#%%\n"
    }
   }
  },
  {
   "cell_type": "code",
   "execution_count": 20,
   "outputs": [],
   "source": [
    "# GyeonGiHap = pd.DataFrame([] , columns = a)\n",
    "# GyeonGiHap['사용량']= df_3['사용량(kWh)'].loc[(df_3['시군구'] == '{가평군}')]\n",
    "# GyeonGiHap"
   ],
   "metadata": {
    "collapsed": false,
    "pycharm": {
     "name": "#%%\n"
    }
   }
  },
  {
   "cell_type": "code",
   "execution_count": 21,
   "outputs": [
    {
     "name": "stdout",
     "output_type": "stream",
     "text": [
      "[13998334, 17380269, 14794220, 13078096, 14388604, 17506614]\n",
      "[39805636, 44895285, 37966742, 32930377, 32490216, 38048723]\n",
      "[85468163, 95869312, 80595972, 69993256, 69071389, 80399925]\n",
      "[9662700, 10765424, 9082836, 7871445, 8408380, 10228105]\n",
      "[55442085, 64323519, 54319577, 47080950, 46187681, 54437275]\n",
      "[71384023, 79171214, 67074132, 57999494, 57100126, 67188753]\n",
      "[100383692, 110735178, 97105677, 85575432, 86818274, 102439716]\n",
      "[76990330, 81540862, 70057147, 62269527, 59470084, 69653451]\n",
      "[8968277, 11083442, 9887690, 8948056, 8899818, 10135515]\n",
      "[103817356, 109932890, 96493409, 88325577, 86104110, 98488618]\n",
      "인천광역시 지역별 일반용 합계 :  [91146137, 226136979, 481398017, 56018890, 321791087, 399917742, 583057969, 419981401, 57922798, 583161960]\n",
      "인천광역시 고객호수 평균:  [8489, 12675, 24039, 3701, 21636, 21945, 25004, 10008, 4057, 11737]\n"
     ]
    }
   ],
   "source": [
    "sum2 , sum3 =[] , []\n",
    "for k in SIGUNGU:\n",
    "    GyeonGiHap = pd.DataFrame([] , columns = a)\n",
    "    HOSU = pd.DataFrame([], columns = a)\n",
    "    GyeonGiHap['사용량']= df_3['사용량(kWh)'].loc[(df_3['시군구'] == '{}'.format(k))]\n",
    "    HOSU['고객호수']= df_3['고객호수(호)'].loc[(df_3['시군구'] == '{}'.format(k))]\n",
    "    #경기합 데이터프레임의 사용량 열에 기군구가 가평군인 사용량 데이터만 뽑아내기\n",
    "    # GyeonGiHap = GyeonGiHap['사용량']\n",
    "\n",
    "    b = GyeonGiHap['사용량'].tolist()\n",
    "    c = HOSU['고객호수'].tolist()\n",
    "\n",
    "\n",
    "    #각지역별 사용량 리스트화\n",
    "    int_list  , int_list2=[] , []\n",
    "    for i in b:\n",
    "        i = re.sub(\",\" , \"\" , i)\n",
    "        #콤마 없애기\n",
    "        int_list.append(int(i))\n",
    "        #int_list에 각지역별 사용량 int로 저장\n",
    "    print(int_list)\n",
    "    sum=0\n",
    "    for i in c:\n",
    "        i = re.sub(\",\" , \"\" , i)\n",
    "        int_list2.append(int(i))\n",
    "\n",
    "    for j in int_list:\n",
    "\n",
    "        sum+= j\n",
    "    sum2.append(sum)\n",
    "    sum = 0\n",
    "    for j in int_list2: #고객호수 추출하여 더하기\n",
    "\n",
    "        sum+= j\n",
    "    sum3.append(sum//6) #6개월 치로 나눠야하나?!\n",
    "\n",
    "\n",
    "\n",
    "\n",
    "print(\"{} 지역별 일반용 합계 : \".format(City) , sum2)\n",
    "print(\"{} 고객호수 평균: \".format(City) , sum3)\n",
    "# GyeonGiHap['합계'] = sum\n",
    "#\n",
    "# GyeonGiHap"
   ],
   "metadata": {
    "collapsed": false,
    "pycharm": {
     "name": "#%%\n"
    }
   }
  },
  {
   "cell_type": "code",
   "execution_count": 22,
   "outputs": [],
   "source": [
    "# df_3 = df_3.loc[(df_3['시군구'] == '가평군')]\n",
    "#\n",
    "# df_3"
   ],
   "metadata": {
    "collapsed": false,
    "pycharm": {
     "name": "#%%\n"
    }
   }
  },
  {
   "cell_type": "code",
   "execution_count": 23,
   "outputs": [],
   "source": [
    "# GyeonGiHap = df_3.copy()\n",
    "# GyeonGiHap.reset_index(drop=True , inplace = True)\n",
    "# GyeonGiHap.append({'년월' : '202107-202112'  , '시구' : '경기도' , '시군구' : '가평군' , '계약구분' : '일반용' , '사용량(kWh)' : sum}, ignore_index=True)"
   ],
   "metadata": {
    "collapsed": false,
    "pycharm": {
     "name": "#%%\n"
    }
   }
  },
  {
   "cell_type": "code",
   "execution_count": 24,
   "outputs": [],
   "source": [
    "# a=[]\n",
    "# for i in SIGUNGU:\n",
    "#     a.append(i)\n",
    "#\n",
    "# print(a)"
   ],
   "metadata": {
    "collapsed": false,
    "pycharm": {
     "name": "#%%\n"
    }
   }
  },
  {
   "cell_type": "markdown",
   "source": [
    "### 4. 년월 체크!!!!!!!!!!!!!!!!!!!!!!!!!!!!!!!!!!!!!!!!!!!!!!!!!!!!!!!!!!!!!!!!!"
   ],
   "metadata": {
    "collapsed": false,
    "pycharm": {
     "name": "#%% md\n"
    }
   }
  },
  {
   "cell_type": "code",
   "execution_count": 25,
   "outputs": [
    {
     "name": "stderr",
     "output_type": "stream",
     "text": [
      "C:\\Users\\user\\AppData\\Local\\Temp\\ipykernel_15464\\2943201010.py:4: FutureWarning: The frame.append method is deprecated and will be removed from pandas in a future version. Use pandas.concat instead.\n",
      "  GyeonGiHap2 = GyeonGiHap2.append({'년월' :'202107-202112'  , '시구' : '{}'.format(City) , '시군구' : '{}'.format(SIGUNGU[i]) , '계약구분' : '일반용' , '고객호수(호)' : sum3[i] ,  '사용량(kWh)' : sum2[i]} , ignore_index=True) #년월 파일마다 수정하기\n",
      "C:\\Users\\user\\AppData\\Local\\Temp\\ipykernel_15464\\2943201010.py:4: FutureWarning: The frame.append method is deprecated and will be removed from pandas in a future version. Use pandas.concat instead.\n",
      "  GyeonGiHap2 = GyeonGiHap2.append({'년월' :'202107-202112'  , '시구' : '{}'.format(City) , '시군구' : '{}'.format(SIGUNGU[i]) , '계약구분' : '일반용' , '고객호수(호)' : sum3[i] ,  '사용량(kWh)' : sum2[i]} , ignore_index=True) #년월 파일마다 수정하기\n",
      "C:\\Users\\user\\AppData\\Local\\Temp\\ipykernel_15464\\2943201010.py:4: FutureWarning: The frame.append method is deprecated and will be removed from pandas in a future version. Use pandas.concat instead.\n",
      "  GyeonGiHap2 = GyeonGiHap2.append({'년월' :'202107-202112'  , '시구' : '{}'.format(City) , '시군구' : '{}'.format(SIGUNGU[i]) , '계약구분' : '일반용' , '고객호수(호)' : sum3[i] ,  '사용량(kWh)' : sum2[i]} , ignore_index=True) #년월 파일마다 수정하기\n",
      "C:\\Users\\user\\AppData\\Local\\Temp\\ipykernel_15464\\2943201010.py:4: FutureWarning: The frame.append method is deprecated and will be removed from pandas in a future version. Use pandas.concat instead.\n",
      "  GyeonGiHap2 = GyeonGiHap2.append({'년월' :'202107-202112'  , '시구' : '{}'.format(City) , '시군구' : '{}'.format(SIGUNGU[i]) , '계약구분' : '일반용' , '고객호수(호)' : sum3[i] ,  '사용량(kWh)' : sum2[i]} , ignore_index=True) #년월 파일마다 수정하기\n",
      "C:\\Users\\user\\AppData\\Local\\Temp\\ipykernel_15464\\2943201010.py:4: FutureWarning: The frame.append method is deprecated and will be removed from pandas in a future version. Use pandas.concat instead.\n",
      "  GyeonGiHap2 = GyeonGiHap2.append({'년월' :'202107-202112'  , '시구' : '{}'.format(City) , '시군구' : '{}'.format(SIGUNGU[i]) , '계약구분' : '일반용' , '고객호수(호)' : sum3[i] ,  '사용량(kWh)' : sum2[i]} , ignore_index=True) #년월 파일마다 수정하기\n",
      "C:\\Users\\user\\AppData\\Local\\Temp\\ipykernel_15464\\2943201010.py:4: FutureWarning: The frame.append method is deprecated and will be removed from pandas in a future version. Use pandas.concat instead.\n",
      "  GyeonGiHap2 = GyeonGiHap2.append({'년월' :'202107-202112'  , '시구' : '{}'.format(City) , '시군구' : '{}'.format(SIGUNGU[i]) , '계약구분' : '일반용' , '고객호수(호)' : sum3[i] ,  '사용량(kWh)' : sum2[i]} , ignore_index=True) #년월 파일마다 수정하기\n",
      "C:\\Users\\user\\AppData\\Local\\Temp\\ipykernel_15464\\2943201010.py:4: FutureWarning: The frame.append method is deprecated and will be removed from pandas in a future version. Use pandas.concat instead.\n",
      "  GyeonGiHap2 = GyeonGiHap2.append({'년월' :'202107-202112'  , '시구' : '{}'.format(City) , '시군구' : '{}'.format(SIGUNGU[i]) , '계약구분' : '일반용' , '고객호수(호)' : sum3[i] ,  '사용량(kWh)' : sum2[i]} , ignore_index=True) #년월 파일마다 수정하기\n",
      "C:\\Users\\user\\AppData\\Local\\Temp\\ipykernel_15464\\2943201010.py:4: FutureWarning: The frame.append method is deprecated and will be removed from pandas in a future version. Use pandas.concat instead.\n",
      "  GyeonGiHap2 = GyeonGiHap2.append({'년월' :'202107-202112'  , '시구' : '{}'.format(City) , '시군구' : '{}'.format(SIGUNGU[i]) , '계약구분' : '일반용' , '고객호수(호)' : sum3[i] ,  '사용량(kWh)' : sum2[i]} , ignore_index=True) #년월 파일마다 수정하기\n",
      "C:\\Users\\user\\AppData\\Local\\Temp\\ipykernel_15464\\2943201010.py:4: FutureWarning: The frame.append method is deprecated and will be removed from pandas in a future version. Use pandas.concat instead.\n",
      "  GyeonGiHap2 = GyeonGiHap2.append({'년월' :'202107-202112'  , '시구' : '{}'.format(City) , '시군구' : '{}'.format(SIGUNGU[i]) , '계약구분' : '일반용' , '고객호수(호)' : sum3[i] ,  '사용량(kWh)' : sum2[i]} , ignore_index=True) #년월 파일마다 수정하기\n",
      "C:\\Users\\user\\AppData\\Local\\Temp\\ipykernel_15464\\2943201010.py:4: FutureWarning: The frame.append method is deprecated and will be removed from pandas in a future version. Use pandas.concat instead.\n",
      "  GyeonGiHap2 = GyeonGiHap2.append({'년월' :'202107-202112'  , '시구' : '{}'.format(City) , '시군구' : '{}'.format(SIGUNGU[i]) , '계약구분' : '일반용' , '고객호수(호)' : sum3[i] ,  '사용량(kWh)' : sum2[i]} , ignore_index=True) #년월 파일마다 수정하기\n"
     ]
    },
    {
     "data": {
      "text/plain": "               년월     시구  시군구 계약구분 고객호수(호)     사용량(kWh)\n0          202107  인천광역시  강화군  일반용  8,382   13,998,334 \n1          202108  인천광역시  강화군  일반용  8,444   17,380,269 \n2          202109  인천광역시  강화군  일반용  8,488   14,794,220 \n3          202110  인천광역시  강화군  일반용  8,497   13,078,096 \n4          202111  인천광역시  강화군  일반용  8,538   14,388,604 \n..            ...    ...  ...  ...     ...          ...\n65  202107-202112  인천광역시  부평구  일반용   21945    399917742\n66  202107-202112  인천광역시   서구  일반용   25004    583057969\n67  202107-202112  인천광역시  연수구  일반용   10008    419981401\n68  202107-202112  인천광역시  옹진군  일반용    4057     57922798\n69  202107-202112  인천광역시   중구  일반용   11737    583161960\n\n[70 rows x 6 columns]",
      "text/html": "<div>\n<style scoped>\n    .dataframe tbody tr th:only-of-type {\n        vertical-align: middle;\n    }\n\n    .dataframe tbody tr th {\n        vertical-align: top;\n    }\n\n    .dataframe thead th {\n        text-align: right;\n    }\n</style>\n<table border=\"1\" class=\"dataframe\">\n  <thead>\n    <tr style=\"text-align: right;\">\n      <th></th>\n      <th>년월</th>\n      <th>시구</th>\n      <th>시군구</th>\n      <th>계약구분</th>\n      <th>고객호수(호)</th>\n      <th>사용량(kWh)</th>\n    </tr>\n  </thead>\n  <tbody>\n    <tr>\n      <th>0</th>\n      <td>202107</td>\n      <td>인천광역시</td>\n      <td>강화군</td>\n      <td>일반용</td>\n      <td>8,382</td>\n      <td>13,998,334</td>\n    </tr>\n    <tr>\n      <th>1</th>\n      <td>202108</td>\n      <td>인천광역시</td>\n      <td>강화군</td>\n      <td>일반용</td>\n      <td>8,444</td>\n      <td>17,380,269</td>\n    </tr>\n    <tr>\n      <th>2</th>\n      <td>202109</td>\n      <td>인천광역시</td>\n      <td>강화군</td>\n      <td>일반용</td>\n      <td>8,488</td>\n      <td>14,794,220</td>\n    </tr>\n    <tr>\n      <th>3</th>\n      <td>202110</td>\n      <td>인천광역시</td>\n      <td>강화군</td>\n      <td>일반용</td>\n      <td>8,497</td>\n      <td>13,078,096</td>\n    </tr>\n    <tr>\n      <th>4</th>\n      <td>202111</td>\n      <td>인천광역시</td>\n      <td>강화군</td>\n      <td>일반용</td>\n      <td>8,538</td>\n      <td>14,388,604</td>\n    </tr>\n    <tr>\n      <th>...</th>\n      <td>...</td>\n      <td>...</td>\n      <td>...</td>\n      <td>...</td>\n      <td>...</td>\n      <td>...</td>\n    </tr>\n    <tr>\n      <th>65</th>\n      <td>202107-202112</td>\n      <td>인천광역시</td>\n      <td>부평구</td>\n      <td>일반용</td>\n      <td>21945</td>\n      <td>399917742</td>\n    </tr>\n    <tr>\n      <th>66</th>\n      <td>202107-202112</td>\n      <td>인천광역시</td>\n      <td>서구</td>\n      <td>일반용</td>\n      <td>25004</td>\n      <td>583057969</td>\n    </tr>\n    <tr>\n      <th>67</th>\n      <td>202107-202112</td>\n      <td>인천광역시</td>\n      <td>연수구</td>\n      <td>일반용</td>\n      <td>10008</td>\n      <td>419981401</td>\n    </tr>\n    <tr>\n      <th>68</th>\n      <td>202107-202112</td>\n      <td>인천광역시</td>\n      <td>옹진군</td>\n      <td>일반용</td>\n      <td>4057</td>\n      <td>57922798</td>\n    </tr>\n    <tr>\n      <th>69</th>\n      <td>202107-202112</td>\n      <td>인천광역시</td>\n      <td>중구</td>\n      <td>일반용</td>\n      <td>11737</td>\n      <td>583161960</td>\n    </tr>\n  </tbody>\n</table>\n<p>70 rows × 6 columns</p>\n</div>"
     },
     "execution_count": 25,
     "metadata": {},
     "output_type": "execute_result"
    }
   ],
   "source": [
    "GyeonGiHap2 = df_3.copy()\n",
    "GyeonGiHap2.reset_index(drop=True , inplace = True)\n",
    "for i in range(len(SIGUNGU)):\n",
    "    GyeonGiHap2 = GyeonGiHap2.append({'년월' :'202107-202112'  , '시구' : '{}'.format(City) , '시군구' : '{}'.format(SIGUNGU[i]) , '계약구분' : '일반용' , '고객호수(호)' : sum3[i] ,  '사용량(kWh)' : sum2[i]} , ignore_index=True) #년월 파일마다 수정하기\n",
    "GyeonGiHap2"
   ],
   "metadata": {
    "collapsed": false,
    "pycharm": {
     "name": "#%%\n"
    }
   }
  },
  {
   "cell_type": "markdown",
   "source": [
    "### 5. 날짜 체크!!!!!!!!!!!!!!!!!!!!!!!!!!!!!!!!!!!!!!!!!!!!!!!!!!!!"
   ],
   "metadata": {
    "collapsed": false,
    "pycharm": {
     "name": "#%% md\n"
    }
   }
  },
  {
   "cell_type": "code",
   "execution_count": 26,
   "outputs": [
    {
     "data": {
      "text/plain": "               년월     시구   시군구 계약구분 고객호수(호)   사용량(kWh)\n60  202107-202112  인천광역시   강화군  일반용    8489   91146137\n61  202107-202112  인천광역시   계양구  일반용   12675  226136979\n62  202107-202112  인천광역시   남동구  일반용   24039  481398017\n63  202107-202112  인천광역시    동구  일반용    3701   56018890\n64  202107-202112  인천광역시  미추홀구  일반용   21636  321791087\n65  202107-202112  인천광역시   부평구  일반용   21945  399917742\n66  202107-202112  인천광역시    서구  일반용   25004  583057969\n67  202107-202112  인천광역시   연수구  일반용   10008  419981401\n68  202107-202112  인천광역시   옹진군  일반용    4057   57922798\n69  202107-202112  인천광역시    중구  일반용   11737  583161960",
      "text/html": "<div>\n<style scoped>\n    .dataframe tbody tr th:only-of-type {\n        vertical-align: middle;\n    }\n\n    .dataframe tbody tr th {\n        vertical-align: top;\n    }\n\n    .dataframe thead th {\n        text-align: right;\n    }\n</style>\n<table border=\"1\" class=\"dataframe\">\n  <thead>\n    <tr style=\"text-align: right;\">\n      <th></th>\n      <th>년월</th>\n      <th>시구</th>\n      <th>시군구</th>\n      <th>계약구분</th>\n      <th>고객호수(호)</th>\n      <th>사용량(kWh)</th>\n    </tr>\n  </thead>\n  <tbody>\n    <tr>\n      <th>60</th>\n      <td>202107-202112</td>\n      <td>인천광역시</td>\n      <td>강화군</td>\n      <td>일반용</td>\n      <td>8489</td>\n      <td>91146137</td>\n    </tr>\n    <tr>\n      <th>61</th>\n      <td>202107-202112</td>\n      <td>인천광역시</td>\n      <td>계양구</td>\n      <td>일반용</td>\n      <td>12675</td>\n      <td>226136979</td>\n    </tr>\n    <tr>\n      <th>62</th>\n      <td>202107-202112</td>\n      <td>인천광역시</td>\n      <td>남동구</td>\n      <td>일반용</td>\n      <td>24039</td>\n      <td>481398017</td>\n    </tr>\n    <tr>\n      <th>63</th>\n      <td>202107-202112</td>\n      <td>인천광역시</td>\n      <td>동구</td>\n      <td>일반용</td>\n      <td>3701</td>\n      <td>56018890</td>\n    </tr>\n    <tr>\n      <th>64</th>\n      <td>202107-202112</td>\n      <td>인천광역시</td>\n      <td>미추홀구</td>\n      <td>일반용</td>\n      <td>21636</td>\n      <td>321791087</td>\n    </tr>\n    <tr>\n      <th>65</th>\n      <td>202107-202112</td>\n      <td>인천광역시</td>\n      <td>부평구</td>\n      <td>일반용</td>\n      <td>21945</td>\n      <td>399917742</td>\n    </tr>\n    <tr>\n      <th>66</th>\n      <td>202107-202112</td>\n      <td>인천광역시</td>\n      <td>서구</td>\n      <td>일반용</td>\n      <td>25004</td>\n      <td>583057969</td>\n    </tr>\n    <tr>\n      <th>67</th>\n      <td>202107-202112</td>\n      <td>인천광역시</td>\n      <td>연수구</td>\n      <td>일반용</td>\n      <td>10008</td>\n      <td>419981401</td>\n    </tr>\n    <tr>\n      <th>68</th>\n      <td>202107-202112</td>\n      <td>인천광역시</td>\n      <td>옹진군</td>\n      <td>일반용</td>\n      <td>4057</td>\n      <td>57922798</td>\n    </tr>\n    <tr>\n      <th>69</th>\n      <td>202107-202112</td>\n      <td>인천광역시</td>\n      <td>중구</td>\n      <td>일반용</td>\n      <td>11737</td>\n      <td>583161960</td>\n    </tr>\n  </tbody>\n</table>\n</div>"
     },
     "execution_count": 26,
     "metadata": {},
     "output_type": "execute_result"
    }
   ],
   "source": [
    "GyeonGiHap2 = GyeonGiHap2.loc[GyeonGiHap2['년월'] == '202107-202112']\n",
    "GyeonGiHap2"
   ],
   "metadata": {
    "collapsed": false,
    "pycharm": {
     "name": "#%%\n"
    }
   }
  },
  {
   "cell_type": "code",
   "execution_count": 27,
   "outputs": [
    {
     "data": {
      "text/plain": "               년월     시구   시군구 계약구분 고객호수(호)    사용량(kWh)\n60  202107-202112  인천광역시   강화군  일반용    8489    91146137\n60  202107-202112  인천광역시   강화군   합계   14452   299898756\n61  202107-202112  인천광역시   계양구  일반용   12675   226136979\n61  202107-202112  인천광역시   계양구   합계   16255   683011394\n62  202107-202112  인천광역시   남동구  일반용   24039   481398017\n62  202107-202112  인천광역시   남동구   합계   26411  1973927607\n63  202107-202112  인천광역시    동구  일반용    3701    56018890\n63  202107-202112  인천광역시    동구   합계    4315  1830287529\n64  202107-202112  인천광역시  미추홀구  일반용   21636   321791087\n64  202107-202112  인천광역시  미추홀구   합계   32092   908847629\n65  202107-202112  인천광역시   부평구  일반용   21945   399917742\n65  202107-202112  인천광역시   부평구   합계   26277  1173607460\n66  202107-202112  인천광역시    서구  일반용   25004   583057969\n66  202107-202112  인천광역시    서구   합계   27867  2962030284\n67  202107-202112  인천광역시   연수구   합계   10573  1455916653\n67  202107-202112  인천광역시   연수구  일반용   10008   419981401\n68  202107-202112  인천광역시   옹진군   합계    4288   109799443\n68  202107-202112  인천광역시   옹진군  일반용    4057    57922798\n69  202107-202112  인천광역시    중구  일반용   11737   583161960\n69  202107-202112  인천광역시    중구   합계   10322  1277391442",
      "text/html": "<div>\n<style scoped>\n    .dataframe tbody tr th:only-of-type {\n        vertical-align: middle;\n    }\n\n    .dataframe tbody tr th {\n        vertical-align: top;\n    }\n\n    .dataframe thead th {\n        text-align: right;\n    }\n</style>\n<table border=\"1\" class=\"dataframe\">\n  <thead>\n    <tr style=\"text-align: right;\">\n      <th></th>\n      <th>년월</th>\n      <th>시구</th>\n      <th>시군구</th>\n      <th>계약구분</th>\n      <th>고객호수(호)</th>\n      <th>사용량(kWh)</th>\n    </tr>\n  </thead>\n  <tbody>\n    <tr>\n      <th>60</th>\n      <td>202107-202112</td>\n      <td>인천광역시</td>\n      <td>강화군</td>\n      <td>일반용</td>\n      <td>8489</td>\n      <td>91146137</td>\n    </tr>\n    <tr>\n      <th>60</th>\n      <td>202107-202112</td>\n      <td>인천광역시</td>\n      <td>강화군</td>\n      <td>합계</td>\n      <td>14452</td>\n      <td>299898756</td>\n    </tr>\n    <tr>\n      <th>61</th>\n      <td>202107-202112</td>\n      <td>인천광역시</td>\n      <td>계양구</td>\n      <td>일반용</td>\n      <td>12675</td>\n      <td>226136979</td>\n    </tr>\n    <tr>\n      <th>61</th>\n      <td>202107-202112</td>\n      <td>인천광역시</td>\n      <td>계양구</td>\n      <td>합계</td>\n      <td>16255</td>\n      <td>683011394</td>\n    </tr>\n    <tr>\n      <th>62</th>\n      <td>202107-202112</td>\n      <td>인천광역시</td>\n      <td>남동구</td>\n      <td>일반용</td>\n      <td>24039</td>\n      <td>481398017</td>\n    </tr>\n    <tr>\n      <th>62</th>\n      <td>202107-202112</td>\n      <td>인천광역시</td>\n      <td>남동구</td>\n      <td>합계</td>\n      <td>26411</td>\n      <td>1973927607</td>\n    </tr>\n    <tr>\n      <th>63</th>\n      <td>202107-202112</td>\n      <td>인천광역시</td>\n      <td>동구</td>\n      <td>일반용</td>\n      <td>3701</td>\n      <td>56018890</td>\n    </tr>\n    <tr>\n      <th>63</th>\n      <td>202107-202112</td>\n      <td>인천광역시</td>\n      <td>동구</td>\n      <td>합계</td>\n      <td>4315</td>\n      <td>1830287529</td>\n    </tr>\n    <tr>\n      <th>64</th>\n      <td>202107-202112</td>\n      <td>인천광역시</td>\n      <td>미추홀구</td>\n      <td>일반용</td>\n      <td>21636</td>\n      <td>321791087</td>\n    </tr>\n    <tr>\n      <th>64</th>\n      <td>202107-202112</td>\n      <td>인천광역시</td>\n      <td>미추홀구</td>\n      <td>합계</td>\n      <td>32092</td>\n      <td>908847629</td>\n    </tr>\n    <tr>\n      <th>65</th>\n      <td>202107-202112</td>\n      <td>인천광역시</td>\n      <td>부평구</td>\n      <td>일반용</td>\n      <td>21945</td>\n      <td>399917742</td>\n    </tr>\n    <tr>\n      <th>65</th>\n      <td>202107-202112</td>\n      <td>인천광역시</td>\n      <td>부평구</td>\n      <td>합계</td>\n      <td>26277</td>\n      <td>1173607460</td>\n    </tr>\n    <tr>\n      <th>66</th>\n      <td>202107-202112</td>\n      <td>인천광역시</td>\n      <td>서구</td>\n      <td>일반용</td>\n      <td>25004</td>\n      <td>583057969</td>\n    </tr>\n    <tr>\n      <th>66</th>\n      <td>202107-202112</td>\n      <td>인천광역시</td>\n      <td>서구</td>\n      <td>합계</td>\n      <td>27867</td>\n      <td>2962030284</td>\n    </tr>\n    <tr>\n      <th>67</th>\n      <td>202107-202112</td>\n      <td>인천광역시</td>\n      <td>연수구</td>\n      <td>합계</td>\n      <td>10573</td>\n      <td>1455916653</td>\n    </tr>\n    <tr>\n      <th>67</th>\n      <td>202107-202112</td>\n      <td>인천광역시</td>\n      <td>연수구</td>\n      <td>일반용</td>\n      <td>10008</td>\n      <td>419981401</td>\n    </tr>\n    <tr>\n      <th>68</th>\n      <td>202107-202112</td>\n      <td>인천광역시</td>\n      <td>옹진군</td>\n      <td>합계</td>\n      <td>4288</td>\n      <td>109799443</td>\n    </tr>\n    <tr>\n      <th>68</th>\n      <td>202107-202112</td>\n      <td>인천광역시</td>\n      <td>옹진군</td>\n      <td>일반용</td>\n      <td>4057</td>\n      <td>57922798</td>\n    </tr>\n    <tr>\n      <th>69</th>\n      <td>202107-202112</td>\n      <td>인천광역시</td>\n      <td>중구</td>\n      <td>일반용</td>\n      <td>11737</td>\n      <td>583161960</td>\n    </tr>\n    <tr>\n      <th>69</th>\n      <td>202107-202112</td>\n      <td>인천광역시</td>\n      <td>중구</td>\n      <td>합계</td>\n      <td>10322</td>\n      <td>1277391442</td>\n    </tr>\n  </tbody>\n</table>\n</div>"
     },
     "execution_count": 27,
     "metadata": {},
     "output_type": "execute_result"
    }
   ],
   "source": [
    "Final = pd.concat([GyeonGiHap2 , Hap])\n",
    "Final = Final.sort_values('시군구')\n",
    "Final"
   ],
   "metadata": {
    "collapsed": false,
    "pycharm": {
     "name": "#%%\n"
    }
   }
  },
  {
   "cell_type": "code",
   "execution_count": 28,
   "outputs": [
    {
     "data": {
      "text/plain": "[91146137,\n 226136979,\n 481398017,\n 56018890,\n 321791087,\n 399917742,\n 583057969,\n 419981401,\n 57922798,\n 583161960]"
     },
     "execution_count": 28,
     "metadata": {},
     "output_type": "execute_result"
    }
   ],
   "source": [
    "# Final['일반용 전기의 비율'] = (Final['사용량(kWh)'].loc[Final['계약구분'] == '일반용']) // (Final['사용량(kWh)'].loc[Final['계약구분'] == '합계'])\n",
    "# Final\n",
    "ex = (Final['사용량(kWh)'].loc[Final['계약구분'] == '일반용']).tolist()\n",
    "\n",
    "\n",
    "ex\n"
   ],
   "metadata": {
    "collapsed": false,
    "pycharm": {
     "name": "#%%\n"
    }
   }
  },
  {
   "cell_type": "code",
   "execution_count": 29,
   "outputs": [
    {
     "data": {
      "text/plain": "[299898756,\n 683011394,\n 1973927607,\n 1830287529,\n 908847629,\n 1173607460,\n 2962030284,\n 1455916653,\n 109799443,\n 1277391442]"
     },
     "execution_count": 29,
     "metadata": {},
     "output_type": "execute_result"
    }
   ],
   "source": [
    "ex_2 =(Final['사용량(kWh)'].loc[Final['계약구분'] == '합계']).tolist()\n",
    "ex_2"
   ],
   "metadata": {
    "collapsed": false,
    "pycharm": {
     "name": "#%%\n"
    }
   }
  },
  {
   "cell_type": "code",
   "execution_count": 30,
   "outputs": [
    {
     "name": "stdout",
     "output_type": "stream",
     "text": [
      "[30.39, 33.11, 24.39, 3.06, 35.41, 34.08, 19.68, 28.85, 52.75, 45.65]\n"
     ]
    }
   ],
   "source": [
    "Rate = []\n",
    "ilban = []\n",
    "rae = 0\n",
    "for i in range(len(ex)):\n",
    "    rae = round(ex[i] / ex_2[i] *100 ,2)\n",
    "    Rate.append(rae)\n",
    "print(Rate)"
   ],
   "metadata": {
    "collapsed": false,
    "pycharm": {
     "name": "#%%\n"
    }
   }
  },
  {
   "cell_type": "code",
   "execution_count": 31,
   "outputs": [
    {
     "data": {
      "text/plain": "0   30\n1   33\n2   24\n3    3\n4   35\n5   34\n6   20\n7   29\n8   53\n9   46\ndtype: float64"
     },
     "execution_count": 31,
     "metadata": {},
     "output_type": "execute_result"
    }
   ],
   "source": [
    "Rate3 = pd.Series(Rate)\n",
    "Rate3\n",
    "\n",
    "# Final = pd.concat([Final , Rate3])\n",
    "# Final"
   ],
   "metadata": {
    "collapsed": false,
    "pycharm": {
     "name": "#%%\n"
    }
   }
  },
  {
   "cell_type": "code",
   "execution_count": 32,
   "outputs": [
    {
     "data": {
      "text/plain": "    시군구 계약구분  비율\n0   강화군  일반용  30\n1   계양구  일반용  33\n2   남동구  일반용  24\n3    동구  일반용   3\n4  미추홀구  일반용  35\n5   부평구  일반용  34\n6    서구  일반용  20\n7   연수구  일반용  29\n8   옹진군  일반용  53\n9    중구  일반용  46",
      "text/html": "<div>\n<style scoped>\n    .dataframe tbody tr th:only-of-type {\n        vertical-align: middle;\n    }\n\n    .dataframe tbody tr th {\n        vertical-align: top;\n    }\n\n    .dataframe thead th {\n        text-align: right;\n    }\n</style>\n<table border=\"1\" class=\"dataframe\">\n  <thead>\n    <tr style=\"text-align: right;\">\n      <th></th>\n      <th>시군구</th>\n      <th>계약구분</th>\n      <th>비율</th>\n    </tr>\n  </thead>\n  <tbody>\n    <tr>\n      <th>0</th>\n      <td>강화군</td>\n      <td>일반용</td>\n      <td>30</td>\n    </tr>\n    <tr>\n      <th>1</th>\n      <td>계양구</td>\n      <td>일반용</td>\n      <td>33</td>\n    </tr>\n    <tr>\n      <th>2</th>\n      <td>남동구</td>\n      <td>일반용</td>\n      <td>24</td>\n    </tr>\n    <tr>\n      <th>3</th>\n      <td>동구</td>\n      <td>일반용</td>\n      <td>3</td>\n    </tr>\n    <tr>\n      <th>4</th>\n      <td>미추홀구</td>\n      <td>일반용</td>\n      <td>35</td>\n    </tr>\n    <tr>\n      <th>5</th>\n      <td>부평구</td>\n      <td>일반용</td>\n      <td>34</td>\n    </tr>\n    <tr>\n      <th>6</th>\n      <td>서구</td>\n      <td>일반용</td>\n      <td>20</td>\n    </tr>\n    <tr>\n      <th>7</th>\n      <td>연수구</td>\n      <td>일반용</td>\n      <td>29</td>\n    </tr>\n    <tr>\n      <th>8</th>\n      <td>옹진군</td>\n      <td>일반용</td>\n      <td>53</td>\n    </tr>\n    <tr>\n      <th>9</th>\n      <td>중구</td>\n      <td>일반용</td>\n      <td>46</td>\n    </tr>\n  </tbody>\n</table>\n</div>"
     },
     "execution_count": 32,
     "metadata": {},
     "output_type": "execute_result"
    }
   ],
   "source": [
    "for j in range(len(Rate)):\n",
    "    ilban.append('일반용')\n",
    "#print(Rate)\n",
    "\n",
    "Rate2 = pd.DataFrame()\n",
    "Rate2['시군구'] = pd.DataFrame(SIGUNGU)\n",
    "Rate2['계약구분'] = pd.DataFrame(ilban)\n",
    "Rate2['비율'] = pd.DataFrame(Rate)\n",
    "Rate2\n",
    "#print(Rate2.dtypes)"
   ],
   "metadata": {
    "collapsed": false,
    "pycharm": {
     "name": "#%%\n"
    }
   }
  },
  {
   "cell_type": "code",
   "execution_count": 33,
   "outputs": [
    {
     "data": {
      "text/plain": "               년월     시구   시군구 계약구분 고객호수(호)    사용량(kWh)  비율\n0   202107-202112  인천광역시   강화군  일반용    8489    91146137  30\n1   202107-202112  인천광역시   강화군   합계   14452   299898756 NaN\n2   202107-202112  인천광역시   계양구  일반용   12675   226136979  33\n3   202107-202112  인천광역시   계양구   합계   16255   683011394 NaN\n4   202107-202112  인천광역시   남동구  일반용   24039   481398017  24\n5   202107-202112  인천광역시   남동구   합계   26411  1973927607 NaN\n6   202107-202112  인천광역시    동구  일반용    3701    56018890   3\n7   202107-202112  인천광역시    동구   합계    4315  1830287529 NaN\n8   202107-202112  인천광역시  미추홀구  일반용   21636   321791087  35\n9   202107-202112  인천광역시  미추홀구   합계   32092   908847629 NaN\n10  202107-202112  인천광역시   부평구  일반용   21945   399917742  34\n11  202107-202112  인천광역시   부평구   합계   26277  1173607460 NaN\n12  202107-202112  인천광역시    서구  일반용   25004   583057969  20\n13  202107-202112  인천광역시    서구   합계   27867  2962030284 NaN\n15  202107-202112  인천광역시   연수구  일반용   10008   419981401  29\n14  202107-202112  인천광역시   연수구   합계   10573  1455916653 NaN\n17  202107-202112  인천광역시   옹진군  일반용    4057    57922798  53\n16  202107-202112  인천광역시   옹진군   합계    4288   109799443 NaN\n18  202107-202112  인천광역시    중구  일반용   11737   583161960  46\n19  202107-202112  인천광역시    중구   합계   10322  1277391442 NaN",
      "text/html": "<div>\n<style scoped>\n    .dataframe tbody tr th:only-of-type {\n        vertical-align: middle;\n    }\n\n    .dataframe tbody tr th {\n        vertical-align: top;\n    }\n\n    .dataframe thead th {\n        text-align: right;\n    }\n</style>\n<table border=\"1\" class=\"dataframe\">\n  <thead>\n    <tr style=\"text-align: right;\">\n      <th></th>\n      <th>년월</th>\n      <th>시구</th>\n      <th>시군구</th>\n      <th>계약구분</th>\n      <th>고객호수(호)</th>\n      <th>사용량(kWh)</th>\n      <th>비율</th>\n    </tr>\n  </thead>\n  <tbody>\n    <tr>\n      <th>0</th>\n      <td>202107-202112</td>\n      <td>인천광역시</td>\n      <td>강화군</td>\n      <td>일반용</td>\n      <td>8489</td>\n      <td>91146137</td>\n      <td>30</td>\n    </tr>\n    <tr>\n      <th>1</th>\n      <td>202107-202112</td>\n      <td>인천광역시</td>\n      <td>강화군</td>\n      <td>합계</td>\n      <td>14452</td>\n      <td>299898756</td>\n      <td>NaN</td>\n    </tr>\n    <tr>\n      <th>2</th>\n      <td>202107-202112</td>\n      <td>인천광역시</td>\n      <td>계양구</td>\n      <td>일반용</td>\n      <td>12675</td>\n      <td>226136979</td>\n      <td>33</td>\n    </tr>\n    <tr>\n      <th>3</th>\n      <td>202107-202112</td>\n      <td>인천광역시</td>\n      <td>계양구</td>\n      <td>합계</td>\n      <td>16255</td>\n      <td>683011394</td>\n      <td>NaN</td>\n    </tr>\n    <tr>\n      <th>4</th>\n      <td>202107-202112</td>\n      <td>인천광역시</td>\n      <td>남동구</td>\n      <td>일반용</td>\n      <td>24039</td>\n      <td>481398017</td>\n      <td>24</td>\n    </tr>\n    <tr>\n      <th>5</th>\n      <td>202107-202112</td>\n      <td>인천광역시</td>\n      <td>남동구</td>\n      <td>합계</td>\n      <td>26411</td>\n      <td>1973927607</td>\n      <td>NaN</td>\n    </tr>\n    <tr>\n      <th>6</th>\n      <td>202107-202112</td>\n      <td>인천광역시</td>\n      <td>동구</td>\n      <td>일반용</td>\n      <td>3701</td>\n      <td>56018890</td>\n      <td>3</td>\n    </tr>\n    <tr>\n      <th>7</th>\n      <td>202107-202112</td>\n      <td>인천광역시</td>\n      <td>동구</td>\n      <td>합계</td>\n      <td>4315</td>\n      <td>1830287529</td>\n      <td>NaN</td>\n    </tr>\n    <tr>\n      <th>8</th>\n      <td>202107-202112</td>\n      <td>인천광역시</td>\n      <td>미추홀구</td>\n      <td>일반용</td>\n      <td>21636</td>\n      <td>321791087</td>\n      <td>35</td>\n    </tr>\n    <tr>\n      <th>9</th>\n      <td>202107-202112</td>\n      <td>인천광역시</td>\n      <td>미추홀구</td>\n      <td>합계</td>\n      <td>32092</td>\n      <td>908847629</td>\n      <td>NaN</td>\n    </tr>\n    <tr>\n      <th>10</th>\n      <td>202107-202112</td>\n      <td>인천광역시</td>\n      <td>부평구</td>\n      <td>일반용</td>\n      <td>21945</td>\n      <td>399917742</td>\n      <td>34</td>\n    </tr>\n    <tr>\n      <th>11</th>\n      <td>202107-202112</td>\n      <td>인천광역시</td>\n      <td>부평구</td>\n      <td>합계</td>\n      <td>26277</td>\n      <td>1173607460</td>\n      <td>NaN</td>\n    </tr>\n    <tr>\n      <th>12</th>\n      <td>202107-202112</td>\n      <td>인천광역시</td>\n      <td>서구</td>\n      <td>일반용</td>\n      <td>25004</td>\n      <td>583057969</td>\n      <td>20</td>\n    </tr>\n    <tr>\n      <th>13</th>\n      <td>202107-202112</td>\n      <td>인천광역시</td>\n      <td>서구</td>\n      <td>합계</td>\n      <td>27867</td>\n      <td>2962030284</td>\n      <td>NaN</td>\n    </tr>\n    <tr>\n      <th>15</th>\n      <td>202107-202112</td>\n      <td>인천광역시</td>\n      <td>연수구</td>\n      <td>일반용</td>\n      <td>10008</td>\n      <td>419981401</td>\n      <td>29</td>\n    </tr>\n    <tr>\n      <th>14</th>\n      <td>202107-202112</td>\n      <td>인천광역시</td>\n      <td>연수구</td>\n      <td>합계</td>\n      <td>10573</td>\n      <td>1455916653</td>\n      <td>NaN</td>\n    </tr>\n    <tr>\n      <th>17</th>\n      <td>202107-202112</td>\n      <td>인천광역시</td>\n      <td>옹진군</td>\n      <td>일반용</td>\n      <td>4057</td>\n      <td>57922798</td>\n      <td>53</td>\n    </tr>\n    <tr>\n      <th>16</th>\n      <td>202107-202112</td>\n      <td>인천광역시</td>\n      <td>옹진군</td>\n      <td>합계</td>\n      <td>4288</td>\n      <td>109799443</td>\n      <td>NaN</td>\n    </tr>\n    <tr>\n      <th>18</th>\n      <td>202107-202112</td>\n      <td>인천광역시</td>\n      <td>중구</td>\n      <td>일반용</td>\n      <td>11737</td>\n      <td>583161960</td>\n      <td>46</td>\n    </tr>\n    <tr>\n      <th>19</th>\n      <td>202107-202112</td>\n      <td>인천광역시</td>\n      <td>중구</td>\n      <td>합계</td>\n      <td>10322</td>\n      <td>1277391442</td>\n      <td>NaN</td>\n    </tr>\n  </tbody>\n</table>\n</div>"
     },
     "execution_count": 33,
     "metadata": {},
     "output_type": "execute_result"
    }
   ],
   "source": [
    "Final = pd.merge(Final , Rate2, on=['시군구', '계약구분'] , how='left')\n",
    "\n",
    "#Final.drop(['비율_y]' , axis = 1 , inplace = True)\n",
    "#Final.rename(columns={'비율_y':'전체 계약종별 전력사용량 대비 일반용 사용량 비율'})\n",
    "Final = Final.sort_values(['시군구' , '계약구분'])\n",
    "Final"
   ],
   "metadata": {
    "collapsed": false,
    "pycharm": {
     "name": "#%%\n"
    }
   }
  },
  {
   "cell_type": "code",
   "execution_count": 34,
   "outputs": [],
   "source": [
    "# Final['일반용 전기의 비율'] = Final.append(Rate)\n",
    "# Final"
   ],
   "metadata": {
    "collapsed": false,
    "pycharm": {
     "name": "#%%\n"
    }
   }
  },
  {
   "cell_type": "markdown",
   "source": [
    "### 6. 날짜 체크!!!!!!!!!!!!!!!!!!!!1"
   ],
   "metadata": {
    "collapsed": false,
    "pycharm": {
     "name": "#%% md\n"
    }
   }
  },
  {
   "cell_type": "code",
   "execution_count": 35,
   "outputs": [],
   "source": [
    "Final.to_csv(\"{}_일반용_전력사용량_2107-12.csv\".format(City) , mode = 'w' , encoding= 'cp949' , index =False) #파일명 수정"
   ],
   "metadata": {
    "collapsed": false,
    "pycharm": {
     "name": "#%%\n"
    }
   }
  },
  {
   "cell_type": "code",
   "execution_count": 35,
   "outputs": [],
   "source": [],
   "metadata": {
    "collapsed": false,
    "pycharm": {
     "name": "#%%\n"
    }
   }
  },
  {
   "cell_type": "code",
   "execution_count": 36,
   "outputs": [],
   "source": [
    "# Sigu = list(set(df_3['시군구'].tolist()))\n",
    "#\n",
    "# Sigu.sort()\n",
    "#\n",
    "# Sigu"
   ],
   "metadata": {
    "collapsed": false,
    "pycharm": {
     "name": "#%%\n"
    }
   }
  },
  {
   "cell_type": "code",
   "execution_count": 37,
   "outputs": [],
   "source": [
    "# YearMonth = list(set(df_3['년월'].tolist()))\n",
    "#\n",
    "# YearMonth.sort()\n",
    "# YearMonth"
   ],
   "metadata": {
    "collapsed": false,
    "pycharm": {
     "name": "#%%\n"
    }
   }
  },
  {
   "cell_type": "code",
   "execution_count": 38,
   "outputs": [],
   "source": [
    "# Gayeak = list(set(df_3['계약구분'].tolist()))\n",
    "#\n",
    "# Gayeak.sort()\n",
    "# Gayeak"
   ],
   "metadata": {
    "collapsed": false,
    "pycharm": {
     "name": "#%%\n"
    }
   }
  },
  {
   "cell_type": "code",
   "execution_count": 39,
   "outputs": [],
   "source": [
    "# SEOUL = df_3.loc[(df_3['계약구분'] =='일반용')]\n",
    "# SEOUL.drop(['고객호수(호)' ,'전기요금(원)' , '평균판매단가(원/kWh)'] , axis = 1 , inplace = True)\n",
    "# #SEOUL.dtypes(['사용량(kWh)'])\n",
    "# SEOUL"
   ],
   "metadata": {
    "collapsed": false,
    "pycharm": {
     "name": "#%%\n"
    }
   }
  },
  {
   "cell_type": "code",
   "execution_count": 40,
   "outputs": [],
   "source": [
    "#SEOUL.to_csv(\"서울특별시_일반용_전력사용량.csv\" , mode = 'w' , encoding= 'cp949')"
   ],
   "metadata": {
    "collapsed": false,
    "pycharm": {
     "name": "#%%\n"
    }
   }
  },
  {
   "cell_type": "code",
   "execution_count": 41,
   "outputs": [],
   "source": [
    "# print(SEOUL.dtypes)\n",
    "# SEOUL = SEOUL.astype({'사용량(kWh)' : 'float'})"
   ],
   "metadata": {
    "collapsed": false,
    "pycharm": {
     "name": "#%%\n"
    }
   }
  },
  {
   "cell_type": "code",
   "execution_count": 42,
   "outputs": [],
   "source": [
    "# SEOUL"
   ],
   "metadata": {
    "collapsed": false,
    "pycharm": {
     "name": "#%%\n"
    }
   }
  },
  {
   "cell_type": "code",
   "execution_count": 43,
   "outputs": [],
   "source": [
    "# a = SEOUL['사용량(kWh)'].tolist()\n",
    "# int_list = map(int, a)\n",
    "# b=0\n",
    "# for i in int_list:\n",
    "#     b+=i\n",
    "#\n",
    "# print(b)"
   ],
   "metadata": {
    "collapsed": false,
    "pycharm": {
     "name": "#%%\n"
    }
   }
  },
  {
   "cell_type": "code",
   "execution_count": 43,
   "outputs": [],
   "source": [],
   "metadata": {
    "collapsed": false,
    "pycharm": {
     "name": "#%%\n"
    }
   }
  },
  {
   "cell_type": "code",
   "execution_count": 43,
   "outputs": [],
   "source": [],
   "metadata": {
    "collapsed": false,
    "pycharm": {
     "name": "#%%\n"
    }
   }
  },
  {
   "cell_type": "code",
   "execution_count": 43,
   "outputs": [],
   "source": [],
   "metadata": {
    "collapsed": false,
    "pycharm": {
     "name": "#%%\n"
    }
   }
  },
  {
   "cell_type": "code",
   "execution_count": 43,
   "outputs": [],
   "source": [],
   "metadata": {
    "collapsed": false,
    "pycharm": {
     "name": "#%%\n"
    }
   }
  },
  {
   "cell_type": "code",
   "execution_count": 43,
   "outputs": [],
   "source": [],
   "metadata": {
    "collapsed": false,
    "pycharm": {
     "name": "#%%\n"
    }
   }
  },
  {
   "cell_type": "code",
   "execution_count": 43,
   "outputs": [],
   "source": [],
   "metadata": {
    "collapsed": false,
    "pycharm": {
     "name": "#%%\n"
    }
   }
  },
  {
   "cell_type": "code",
   "execution_count": 43,
   "outputs": [],
   "source": [],
   "metadata": {
    "collapsed": false,
    "pycharm": {
     "name": "#%%\n"
    }
   }
  }
 ],
 "metadata": {
  "kernelspec": {
   "display_name": "Python 3",
   "language": "python",
   "name": "python3"
  },
  "language_info": {
   "codemirror_mode": {
    "name": "ipython",
    "version": 2
   },
   "file_extension": ".py",
   "mimetype": "text/x-python",
   "name": "python",
   "nbconvert_exporter": "python",
   "pygments_lexer": "ipython2",
   "version": "2.7.6"
  }
 },
 "nbformat": 4,
 "nbformat_minor": 0
}