{
 "cells": [
  {
   "cell_type": "markdown",
   "source": [],
   "metadata": {
    "collapsed": false,
    "pycharm": {
     "name": "#%% md\n"
    }
   }
  },
  {
   "cell_type": "code",
   "execution_count": 1,
   "outputs": [],
   "source": [
    "import pandas as pd\n",
    "import re\n",
    "\n",
    "pd.options.display.float_format = '{:.0f}'.format"
   ],
   "metadata": {
    "collapsed": false,
    "pycharm": {
     "name": "#%%\n"
    }
   }
  },
  {
   "cell_type": "markdown",
   "source": [
    "### 1. 꼭 read_csv 21상반기, 19하반기와 같이 맞추어 주세요!!! 또한 지역(전라북도, 남도) 맞추기!!!!!"
   ],
   "metadata": {
    "collapsed": false,
    "pycharm": {
     "name": "#%% md\n"
    }
   }
  },
  {
   "cell_type": "code",
   "execution_count": 2,
   "outputs": [
    {
     "data": {
      "text/plain": "        계약종별 전력사용량 월별( 20220804 현재 ) Unnamed: 1     Unnamed: 2 Unnamed: 3  \\\n0    시도 : 인천광역시, 시군구 : 전체(시 / 군 / 구)        NaN            NaN        NaN   \n1        기간 : 2021년 01 월 ~ 2021년 06월        NaN            NaN        NaN   \n2                                 년월         시구            시군구       계약구분   \n3                             202101      인천광역시  전체(시 / 군 / 구)        주택용   \n4                             202101      인천광역시  전체(시 / 군 / 구)        일반용   \n..                               ...        ...            ...        ...   \n523                           202106      인천광역시             중구        산업용   \n524                           202106      인천광역시             중구        심 야   \n525                           202106      인천광역시             중구        일반용   \n526                           202106      인천광역시             중구        주택용   \n527                           202106      인천광역시             중구         합계   \n\n    Unnamed: 4    Unnamed: 5       Unnamed: 6     Unnamed: 7  \n0          NaN           NaN              NaN            NaN  \n1          NaN           NaN              NaN            NaN  \n2      고객호수(호)      사용량(kWh)          전기요금(원)  평균판매단가(원/kWh)  \n3     754,716   415,306,061   48,683,421,711          117.2   \n4     141,266   594,853,766   76,353,838,442          128.4   \n..         ...           ...              ...            ...  \n523       611    80,722,050    9,278,258,830          114.9   \n524     1,196     1,048,011       65,744,476           62.7   \n525    11,593    86,513,167   10,759,714,350          124.4   \n526    40,522    18,004,369    1,864,751,893          103.6   \n527    61,469   190,342,199   22,434,598,601          117.9   \n\n[528 rows x 8 columns]",
      "text/html": "<div>\n<style scoped>\n    .dataframe tbody tr th:only-of-type {\n        vertical-align: middle;\n    }\n\n    .dataframe tbody tr th {\n        vertical-align: top;\n    }\n\n    .dataframe thead th {\n        text-align: right;\n    }\n</style>\n<table border=\"1\" class=\"dataframe\">\n  <thead>\n    <tr style=\"text-align: right;\">\n      <th></th>\n      <th>계약종별 전력사용량 월별( 20220804 현재 )</th>\n      <th>Unnamed: 1</th>\n      <th>Unnamed: 2</th>\n      <th>Unnamed: 3</th>\n      <th>Unnamed: 4</th>\n      <th>Unnamed: 5</th>\n      <th>Unnamed: 6</th>\n      <th>Unnamed: 7</th>\n    </tr>\n  </thead>\n  <tbody>\n    <tr>\n      <th>0</th>\n      <td>시도 : 인천광역시, 시군구 : 전체(시 / 군 / 구)</td>\n      <td>NaN</td>\n      <td>NaN</td>\n      <td>NaN</td>\n      <td>NaN</td>\n      <td>NaN</td>\n      <td>NaN</td>\n      <td>NaN</td>\n    </tr>\n    <tr>\n      <th>1</th>\n      <td>기간 : 2021년 01 월 ~ 2021년 06월</td>\n      <td>NaN</td>\n      <td>NaN</td>\n      <td>NaN</td>\n      <td>NaN</td>\n      <td>NaN</td>\n      <td>NaN</td>\n      <td>NaN</td>\n    </tr>\n    <tr>\n      <th>2</th>\n      <td>년월</td>\n      <td>시구</td>\n      <td>시군구</td>\n      <td>계약구분</td>\n      <td>고객호수(호)</td>\n      <td>사용량(kWh)</td>\n      <td>전기요금(원)</td>\n      <td>평균판매단가(원/kWh)</td>\n    </tr>\n    <tr>\n      <th>3</th>\n      <td>202101</td>\n      <td>인천광역시</td>\n      <td>전체(시 / 군 / 구)</td>\n      <td>주택용</td>\n      <td>754,716</td>\n      <td>415,306,061</td>\n      <td>48,683,421,711</td>\n      <td>117.2</td>\n    </tr>\n    <tr>\n      <th>4</th>\n      <td>202101</td>\n      <td>인천광역시</td>\n      <td>전체(시 / 군 / 구)</td>\n      <td>일반용</td>\n      <td>141,266</td>\n      <td>594,853,766</td>\n      <td>76,353,838,442</td>\n      <td>128.4</td>\n    </tr>\n    <tr>\n      <th>...</th>\n      <td>...</td>\n      <td>...</td>\n      <td>...</td>\n      <td>...</td>\n      <td>...</td>\n      <td>...</td>\n      <td>...</td>\n      <td>...</td>\n    </tr>\n    <tr>\n      <th>523</th>\n      <td>202106</td>\n      <td>인천광역시</td>\n      <td>중구</td>\n      <td>산업용</td>\n      <td>611</td>\n      <td>80,722,050</td>\n      <td>9,278,258,830</td>\n      <td>114.9</td>\n    </tr>\n    <tr>\n      <th>524</th>\n      <td>202106</td>\n      <td>인천광역시</td>\n      <td>중구</td>\n      <td>심 야</td>\n      <td>1,196</td>\n      <td>1,048,011</td>\n      <td>65,744,476</td>\n      <td>62.7</td>\n    </tr>\n    <tr>\n      <th>525</th>\n      <td>202106</td>\n      <td>인천광역시</td>\n      <td>중구</td>\n      <td>일반용</td>\n      <td>11,593</td>\n      <td>86,513,167</td>\n      <td>10,759,714,350</td>\n      <td>124.4</td>\n    </tr>\n    <tr>\n      <th>526</th>\n      <td>202106</td>\n      <td>인천광역시</td>\n      <td>중구</td>\n      <td>주택용</td>\n      <td>40,522</td>\n      <td>18,004,369</td>\n      <td>1,864,751,893</td>\n      <td>103.6</td>\n    </tr>\n    <tr>\n      <th>527</th>\n      <td>202106</td>\n      <td>인천광역시</td>\n      <td>중구</td>\n      <td>합계</td>\n      <td>61,469</td>\n      <td>190,342,199</td>\n      <td>22,434,598,601</td>\n      <td>117.9</td>\n    </tr>\n  </tbody>\n</table>\n<p>528 rows × 8 columns</p>\n</div>"
     },
     "execution_count": 2,
     "metadata": {},
     "output_type": "execute_result"
    }
   ],
   "source": [
    "df = pd.read_csv('인천광역시_계약종별_전력사용량_월별_21상반기.csv' , encoding='cp949')\n",
    "\n",
    "df\n",
    "#exchng=  pd.read_csv('지역별_전력거래량_20220803093050.csv' , encoding='cp949')"
   ],
   "metadata": {
    "collapsed": false,
    "pycharm": {
     "name": "#%%\n"
    }
   }
  },
  {
   "cell_type": "code",
   "execution_count": 3,
   "outputs": [
    {
     "data": {
      "text/plain": "    계약종별 전력사용량 월별( 20220804 현재 ) Unnamed: 1     Unnamed: 2 Unnamed: 3  \\\n2                             년월         시구            시군구       계약구분   \n3                         202101      인천광역시  전체(시 / 군 / 구)        주택용   \n4                         202101      인천광역시  전체(시 / 군 / 구)        일반용   \n5                         202101      인천광역시  전체(시 / 군 / 구)        교육용   \n6                         202101      인천광역시  전체(시 / 군 / 구)        산업용   \n..                           ...        ...            ...        ...   \n523                       202106      인천광역시             중구        산업용   \n524                       202106      인천광역시             중구        심 야   \n525                       202106      인천광역시             중구        일반용   \n526                       202106      인천광역시             중구        주택용   \n527                       202106      인천광역시             중구         합계   \n\n    Unnamed: 4      Unnamed: 5        Unnamed: 6     Unnamed: 7  \n2      고객호수(호)        사용량(kWh)           전기요금(원)  평균판매단가(원/kWh)  \n3     754,716     415,306,061    48,683,421,711          117.2   \n4     141,266     594,853,766    76,353,838,442          128.4   \n5         977      41,031,658     3,802,129,086           92.7   \n6      19,731   1,142,637,275   131,507,703,731          115.1   \n..         ...             ...               ...            ...  \n523       611      80,722,050     9,278,258,830          114.9   \n524     1,196       1,048,011        65,744,476           62.7   \n525    11,593      86,513,167    10,759,714,350          124.4   \n526    40,522      18,004,369     1,864,751,893          103.6   \n527    61,469     190,342,199    22,434,598,601          117.9   \n\n[525 rows x 8 columns]",
      "text/html": "<div>\n<style scoped>\n    .dataframe tbody tr th:only-of-type {\n        vertical-align: middle;\n    }\n\n    .dataframe tbody tr th {\n        vertical-align: top;\n    }\n\n    .dataframe thead th {\n        text-align: right;\n    }\n</style>\n<table border=\"1\" class=\"dataframe\">\n  <thead>\n    <tr style=\"text-align: right;\">\n      <th></th>\n      <th>계약종별 전력사용량 월별( 20220804 현재 )</th>\n      <th>Unnamed: 1</th>\n      <th>Unnamed: 2</th>\n      <th>Unnamed: 3</th>\n      <th>Unnamed: 4</th>\n      <th>Unnamed: 5</th>\n      <th>Unnamed: 6</th>\n      <th>Unnamed: 7</th>\n    </tr>\n  </thead>\n  <tbody>\n    <tr>\n      <th>2</th>\n      <td>년월</td>\n      <td>시구</td>\n      <td>시군구</td>\n      <td>계약구분</td>\n      <td>고객호수(호)</td>\n      <td>사용량(kWh)</td>\n      <td>전기요금(원)</td>\n      <td>평균판매단가(원/kWh)</td>\n    </tr>\n    <tr>\n      <th>3</th>\n      <td>202101</td>\n      <td>인천광역시</td>\n      <td>전체(시 / 군 / 구)</td>\n      <td>주택용</td>\n      <td>754,716</td>\n      <td>415,306,061</td>\n      <td>48,683,421,711</td>\n      <td>117.2</td>\n    </tr>\n    <tr>\n      <th>4</th>\n      <td>202101</td>\n      <td>인천광역시</td>\n      <td>전체(시 / 군 / 구)</td>\n      <td>일반용</td>\n      <td>141,266</td>\n      <td>594,853,766</td>\n      <td>76,353,838,442</td>\n      <td>128.4</td>\n    </tr>\n    <tr>\n      <th>5</th>\n      <td>202101</td>\n      <td>인천광역시</td>\n      <td>전체(시 / 군 / 구)</td>\n      <td>교육용</td>\n      <td>977</td>\n      <td>41,031,658</td>\n      <td>3,802,129,086</td>\n      <td>92.7</td>\n    </tr>\n    <tr>\n      <th>6</th>\n      <td>202101</td>\n      <td>인천광역시</td>\n      <td>전체(시 / 군 / 구)</td>\n      <td>산업용</td>\n      <td>19,731</td>\n      <td>1,142,637,275</td>\n      <td>131,507,703,731</td>\n      <td>115.1</td>\n    </tr>\n    <tr>\n      <th>...</th>\n      <td>...</td>\n      <td>...</td>\n      <td>...</td>\n      <td>...</td>\n      <td>...</td>\n      <td>...</td>\n      <td>...</td>\n      <td>...</td>\n    </tr>\n    <tr>\n      <th>523</th>\n      <td>202106</td>\n      <td>인천광역시</td>\n      <td>중구</td>\n      <td>산업용</td>\n      <td>611</td>\n      <td>80,722,050</td>\n      <td>9,278,258,830</td>\n      <td>114.9</td>\n    </tr>\n    <tr>\n      <th>524</th>\n      <td>202106</td>\n      <td>인천광역시</td>\n      <td>중구</td>\n      <td>심 야</td>\n      <td>1,196</td>\n      <td>1,048,011</td>\n      <td>65,744,476</td>\n      <td>62.7</td>\n    </tr>\n    <tr>\n      <th>525</th>\n      <td>202106</td>\n      <td>인천광역시</td>\n      <td>중구</td>\n      <td>일반용</td>\n      <td>11,593</td>\n      <td>86,513,167</td>\n      <td>10,759,714,350</td>\n      <td>124.4</td>\n    </tr>\n    <tr>\n      <th>526</th>\n      <td>202106</td>\n      <td>인천광역시</td>\n      <td>중구</td>\n      <td>주택용</td>\n      <td>40,522</td>\n      <td>18,004,369</td>\n      <td>1,864,751,893</td>\n      <td>103.6</td>\n    </tr>\n    <tr>\n      <th>527</th>\n      <td>202106</td>\n      <td>인천광역시</td>\n      <td>중구</td>\n      <td>합계</td>\n      <td>61,469</td>\n      <td>190,342,199</td>\n      <td>22,434,598,601</td>\n      <td>117.9</td>\n    </tr>\n  </tbody>\n</table>\n<p>525 rows × 8 columns</p>\n</div>"
     },
     "execution_count": 3,
     "metadata": {},
     "output_type": "execute_result"
    }
   ],
   "source": [
    "df = df.drop([0,1 , 46] , axis = 0)\n",
    "#0,1 , 10은 지우는게 맞다\n",
    "df"
   ],
   "metadata": {
    "collapsed": false,
    "pycharm": {
     "name": "#%%\n"
    }
   }
  },
  {
   "cell_type": "code",
   "execution_count": 4,
   "outputs": [],
   "source": [
    "a= df.loc[2].tolist()\n",
    "a\n",
    "df = df.drop([2] , axis = 0)"
   ],
   "metadata": {
    "collapsed": false,
    "pycharm": {
     "name": "#%%\n"
    }
   }
  },
  {
   "cell_type": "code",
   "execution_count": 5,
   "outputs": [
    {
     "data": {
      "text/plain": "         년월     시구            시군구 계약구분   고객호수(호)        사용량(kWh)  \\\n3    202101  인천광역시  전체(시 / 군 / 구)  주택용  754,716     415,306,061    \n4    202101  인천광역시  전체(시 / 군 / 구)  일반용  141,266     594,853,766    \n5    202101  인천광역시  전체(시 / 군 / 구)  교육용      977      41,031,658    \n6    202101  인천광역시  전체(시 / 군 / 구)  산업용   19,731   1,142,637,275    \n7    202101  인천광역시  전체(시 / 군 / 구)  농사용   26,379      13,049,020    \n..      ...    ...            ...  ...       ...             ...   \n523  202106  인천광역시             중구  산업용      611      80,722,050    \n524  202106  인천광역시             중구  심 야    1,196       1,048,011    \n525  202106  인천광역시             중구  일반용   11,593      86,513,167    \n526  202106  인천광역시             중구  주택용   40,522      18,004,369    \n527  202106  인천광역시             중구   합계   61,469     190,342,199    \n\n              전기요금(원) 평균판매단가(원/kWh)  \n3     48,683,421,711         117.2   \n4     76,353,838,442         128.4   \n5      3,802,129,086          92.7   \n6    131,507,703,731         115.1   \n7        626,497,033          48.0   \n..                ...           ...  \n523    9,278,258,830         114.9   \n524       65,744,476          62.7   \n525   10,759,714,350         124.4   \n526    1,864,751,893         103.6   \n527   22,434,598,601         117.9   \n\n[524 rows x 8 columns]",
      "text/html": "<div>\n<style scoped>\n    .dataframe tbody tr th:only-of-type {\n        vertical-align: middle;\n    }\n\n    .dataframe tbody tr th {\n        vertical-align: top;\n    }\n\n    .dataframe thead th {\n        text-align: right;\n    }\n</style>\n<table border=\"1\" class=\"dataframe\">\n  <thead>\n    <tr style=\"text-align: right;\">\n      <th></th>\n      <th>년월</th>\n      <th>시구</th>\n      <th>시군구</th>\n      <th>계약구분</th>\n      <th>고객호수(호)</th>\n      <th>사용량(kWh)</th>\n      <th>전기요금(원)</th>\n      <th>평균판매단가(원/kWh)</th>\n    </tr>\n  </thead>\n  <tbody>\n    <tr>\n      <th>3</th>\n      <td>202101</td>\n      <td>인천광역시</td>\n      <td>전체(시 / 군 / 구)</td>\n      <td>주택용</td>\n      <td>754,716</td>\n      <td>415,306,061</td>\n      <td>48,683,421,711</td>\n      <td>117.2</td>\n    </tr>\n    <tr>\n      <th>4</th>\n      <td>202101</td>\n      <td>인천광역시</td>\n      <td>전체(시 / 군 / 구)</td>\n      <td>일반용</td>\n      <td>141,266</td>\n      <td>594,853,766</td>\n      <td>76,353,838,442</td>\n      <td>128.4</td>\n    </tr>\n    <tr>\n      <th>5</th>\n      <td>202101</td>\n      <td>인천광역시</td>\n      <td>전체(시 / 군 / 구)</td>\n      <td>교육용</td>\n      <td>977</td>\n      <td>41,031,658</td>\n      <td>3,802,129,086</td>\n      <td>92.7</td>\n    </tr>\n    <tr>\n      <th>6</th>\n      <td>202101</td>\n      <td>인천광역시</td>\n      <td>전체(시 / 군 / 구)</td>\n      <td>산업용</td>\n      <td>19,731</td>\n      <td>1,142,637,275</td>\n      <td>131,507,703,731</td>\n      <td>115.1</td>\n    </tr>\n    <tr>\n      <th>7</th>\n      <td>202101</td>\n      <td>인천광역시</td>\n      <td>전체(시 / 군 / 구)</td>\n      <td>농사용</td>\n      <td>26,379</td>\n      <td>13,049,020</td>\n      <td>626,497,033</td>\n      <td>48.0</td>\n    </tr>\n    <tr>\n      <th>...</th>\n      <td>...</td>\n      <td>...</td>\n      <td>...</td>\n      <td>...</td>\n      <td>...</td>\n      <td>...</td>\n      <td>...</td>\n      <td>...</td>\n    </tr>\n    <tr>\n      <th>523</th>\n      <td>202106</td>\n      <td>인천광역시</td>\n      <td>중구</td>\n      <td>산업용</td>\n      <td>611</td>\n      <td>80,722,050</td>\n      <td>9,278,258,830</td>\n      <td>114.9</td>\n    </tr>\n    <tr>\n      <th>524</th>\n      <td>202106</td>\n      <td>인천광역시</td>\n      <td>중구</td>\n      <td>심 야</td>\n      <td>1,196</td>\n      <td>1,048,011</td>\n      <td>65,744,476</td>\n      <td>62.7</td>\n    </tr>\n    <tr>\n      <th>525</th>\n      <td>202106</td>\n      <td>인천광역시</td>\n      <td>중구</td>\n      <td>일반용</td>\n      <td>11,593</td>\n      <td>86,513,167</td>\n      <td>10,759,714,350</td>\n      <td>124.4</td>\n    </tr>\n    <tr>\n      <th>526</th>\n      <td>202106</td>\n      <td>인천광역시</td>\n      <td>중구</td>\n      <td>주택용</td>\n      <td>40,522</td>\n      <td>18,004,369</td>\n      <td>1,864,751,893</td>\n      <td>103.6</td>\n    </tr>\n    <tr>\n      <th>527</th>\n      <td>202106</td>\n      <td>인천광역시</td>\n      <td>중구</td>\n      <td>합계</td>\n      <td>61,469</td>\n      <td>190,342,199</td>\n      <td>22,434,598,601</td>\n      <td>117.9</td>\n    </tr>\n  </tbody>\n</table>\n<p>524 rows × 8 columns</p>\n</div>"
     },
     "execution_count": 5,
     "metadata": {},
     "output_type": "execute_result"
    }
   ],
   "source": [
    "df.columns = a\n",
    "df"
   ],
   "metadata": {
    "collapsed": false,
    "pycharm": {
     "name": "#%%\n"
    }
   }
  },
  {
   "cell_type": "code",
   "execution_count": 6,
   "outputs": [
    {
     "data": {
      "text/plain": "        년월     시구            시군구 계약구분    고객호수(호)        사용량(kWh)  \\\n3   202101  인천광역시  전체(시 / 군 / 구)  주택용   754,716     415,306,061    \n4   202101  인천광역시  전체(시 / 군 / 구)  일반용   141,266     594,853,766    \n5   202101  인천광역시  전체(시 / 군 / 구)  교육용       977      41,031,658    \n6   202101  인천광역시  전체(시 / 군 / 구)  산업용    19,731   1,142,637,275    \n7   202101  인천광역시  전체(시 / 군 / 구)  농사용    26,379      13,049,020    \n8   202101  인천광역시  전체(시 / 군 / 구)  가로등    71,450      15,683,789    \n9   202101  인천광역시  전체(시 / 군 / 구)  심 야    14,351      36,062,435    \n10  202102  인천광역시  전체(시 / 군 / 구)  주택용   754,660     399,007,877    \n11  202102  인천광역시  전체(시 / 군 / 구)  일반용   141,323     556,369,967    \n12  202102  인천광역시  전체(시 / 군 / 구)  교육용       978      33,528,394    \n13  202102  인천광역시  전체(시 / 군 / 구)  산업용    19,748   1,039,257,457    \n14  202102  인천광역시  전체(시 / 군 / 구)  농사용    26,378      12,553,036    \n15  202102  인천광역시  전체(시 / 군 / 구)  가로등    71,491      14,405,029    \n16  202102  인천광역시  전체(시 / 군 / 구)  심 야    14,291      34,309,121    \n17  202103  인천광역시  전체(시 / 군 / 구)  주택용   754,758     343,945,674    \n18  202103  인천광역시  전체(시 / 군 / 구)  일반용   141,336     476,594,154    \n19  202103  인천광역시  전체(시 / 군 / 구)  교육용       980      33,094,449    \n20  202103  인천광역시  전체(시 / 군 / 구)  산업용    19,751   1,117,997,431    \n21  202103  인천광역시  전체(시 / 군 / 구)  농사용    34,128      11,110,390    \n22  202103  인천광역시  전체(시 / 군 / 구)  가로등    71,623      13,124,340    \n23  202103  인천광역시  전체(시 / 군 / 구)  심 야    14,254      25,435,860    \n24  202104  인천광역시  전체(시 / 군 / 구)  주택용   755,329     351,840,880    \n25  202104  인천광역시  전체(시 / 군 / 구)  일반용   141,567     444,384,930    \n26  202104  인천광역시  전체(시 / 군 / 구)  교육용       981      23,235,932    \n27  202104  인천광역시  전체(시 / 군 / 구)  산업용    19,764   1,089,844,015    \n28  202104  인천광역시  전체(시 / 군 / 구)  농사용    31,196      11,375,406    \n29  202104  인천광역시  전체(시 / 군 / 구)  가로등    71,841      12,917,447    \n30  202104  인천광역시  전체(시 / 군 / 구)  심 야    14,207      18,561,968    \n31  202105  인천광역시  전체(시 / 군 / 구)  주택용   755,526     334,178,465    \n32  202105  인천광역시  전체(시 / 군 / 구)  일반용   141,778     426,926,935    \n33  202105  인천광역시  전체(시 / 군 / 구)  교육용       980      20,112,636    \n34  202105  인천광역시  전체(시 / 군 / 구)  산업용    19,778   1,088,187,043    \n35  202105  인천광역시  전체(시 / 군 / 구)  농사용    26,790      10,789,238    \n36  202105  인천광역시  전체(시 / 군 / 구)  가로등    71,997      11,451,890    \n37  202105  인천광역시  전체(시 / 군 / 구)  심 야    14,143      12,614,048    \n38  202106  인천광역시  전체(시 / 군 / 구)  주택용   756,100     349,559,481    \n39  202106  인천광역시  전체(시 / 군 / 구)  일반용   142,102     477,066,739    \n40  202106  인천광역시  전체(시 / 군 / 구)  교육용       974      25,611,204    \n41  202106  인천광역시  전체(시 / 군 / 구)  산업용    19,785   1,117,132,497    \n42  202106  인천광역시  전체(시 / 군 / 구)  농사용    26,955      10,889,527    \n43  202106  인천광역시  전체(시 / 군 / 구)  가로등    72,189      10,764,830    \n44  202106  인천광역시  전체(시 / 군 / 구)  심 야    14,087       9,673,899    \n45      합계     합계             합계   합계  6,192,638  12,226,476,193   \n\n              전기요금(원) 평균판매단가(원/kWh)  \n3     48,683,421,711         117.2   \n4     76,353,838,442         128.4   \n5      3,802,129,086          92.7   \n6    131,507,703,731         115.1   \n7        626,497,033          48.0   \n8      1,662,988,653         106.0   \n9      2,639,921,490          73.2   \n10    45,518,986,469         114.1   \n11    72,693,594,407         130.7   \n12     3,358,176,617         100.2   \n13   122,319,480,322         117.7   \n14       607,672,138          48.4   \n15     1,591,115,095         110.5   \n16     2,514,170,139          73.3   \n17    35,224,316,735         102.4   \n18    57,470,432,013         120.6   \n19     3,057,380,031          92.4   \n20   107,666,367,071          96.3   \n21       553,632,927          49.8   \n22     1,478,972,369         112.7   \n23     1,655,446,274          65.1   \n24    36,512,493,678         103.8   \n25    50,828,410,245         114.4   \n26     2,158,901,062          92.9   \n27   103,397,793,310          94.9   \n28       561,090,322          49.3   \n29     1,490,118,165         115.4   \n30       983,792,607          53.0   \n31    33,465,598,466         100.1   \n32    49,426,043,745         115.8   \n33     1,913,636,585          95.1   \n34   101,623,847,511          93.4   \n35       523,724,901          48.5   \n36     1,378,104,274         120.3   \n37       684,170,094          54.2   \n38    36,303,136,410         103.9   \n39    64,171,374,477         134.5   \n40     3,223,216,161         125.9   \n41   131,502,908,755         117.7   \n42       534,799,009          49.1   \n43     1,335,540,214         124.1   \n44       545,711,604          56.4   \n45  1,343,550,654,348         109.9  ",
      "text/html": "<div>\n<style scoped>\n    .dataframe tbody tr th:only-of-type {\n        vertical-align: middle;\n    }\n\n    .dataframe tbody tr th {\n        vertical-align: top;\n    }\n\n    .dataframe thead th {\n        text-align: right;\n    }\n</style>\n<table border=\"1\" class=\"dataframe\">\n  <thead>\n    <tr style=\"text-align: right;\">\n      <th></th>\n      <th>년월</th>\n      <th>시구</th>\n      <th>시군구</th>\n      <th>계약구분</th>\n      <th>고객호수(호)</th>\n      <th>사용량(kWh)</th>\n      <th>전기요금(원)</th>\n      <th>평균판매단가(원/kWh)</th>\n    </tr>\n  </thead>\n  <tbody>\n    <tr>\n      <th>3</th>\n      <td>202101</td>\n      <td>인천광역시</td>\n      <td>전체(시 / 군 / 구)</td>\n      <td>주택용</td>\n      <td>754,716</td>\n      <td>415,306,061</td>\n      <td>48,683,421,711</td>\n      <td>117.2</td>\n    </tr>\n    <tr>\n      <th>4</th>\n      <td>202101</td>\n      <td>인천광역시</td>\n      <td>전체(시 / 군 / 구)</td>\n      <td>일반용</td>\n      <td>141,266</td>\n      <td>594,853,766</td>\n      <td>76,353,838,442</td>\n      <td>128.4</td>\n    </tr>\n    <tr>\n      <th>5</th>\n      <td>202101</td>\n      <td>인천광역시</td>\n      <td>전체(시 / 군 / 구)</td>\n      <td>교육용</td>\n      <td>977</td>\n      <td>41,031,658</td>\n      <td>3,802,129,086</td>\n      <td>92.7</td>\n    </tr>\n    <tr>\n      <th>6</th>\n      <td>202101</td>\n      <td>인천광역시</td>\n      <td>전체(시 / 군 / 구)</td>\n      <td>산업용</td>\n      <td>19,731</td>\n      <td>1,142,637,275</td>\n      <td>131,507,703,731</td>\n      <td>115.1</td>\n    </tr>\n    <tr>\n      <th>7</th>\n      <td>202101</td>\n      <td>인천광역시</td>\n      <td>전체(시 / 군 / 구)</td>\n      <td>농사용</td>\n      <td>26,379</td>\n      <td>13,049,020</td>\n      <td>626,497,033</td>\n      <td>48.0</td>\n    </tr>\n    <tr>\n      <th>8</th>\n      <td>202101</td>\n      <td>인천광역시</td>\n      <td>전체(시 / 군 / 구)</td>\n      <td>가로등</td>\n      <td>71,450</td>\n      <td>15,683,789</td>\n      <td>1,662,988,653</td>\n      <td>106.0</td>\n    </tr>\n    <tr>\n      <th>9</th>\n      <td>202101</td>\n      <td>인천광역시</td>\n      <td>전체(시 / 군 / 구)</td>\n      <td>심 야</td>\n      <td>14,351</td>\n      <td>36,062,435</td>\n      <td>2,639,921,490</td>\n      <td>73.2</td>\n    </tr>\n    <tr>\n      <th>10</th>\n      <td>202102</td>\n      <td>인천광역시</td>\n      <td>전체(시 / 군 / 구)</td>\n      <td>주택용</td>\n      <td>754,660</td>\n      <td>399,007,877</td>\n      <td>45,518,986,469</td>\n      <td>114.1</td>\n    </tr>\n    <tr>\n      <th>11</th>\n      <td>202102</td>\n      <td>인천광역시</td>\n      <td>전체(시 / 군 / 구)</td>\n      <td>일반용</td>\n      <td>141,323</td>\n      <td>556,369,967</td>\n      <td>72,693,594,407</td>\n      <td>130.7</td>\n    </tr>\n    <tr>\n      <th>12</th>\n      <td>202102</td>\n      <td>인천광역시</td>\n      <td>전체(시 / 군 / 구)</td>\n      <td>교육용</td>\n      <td>978</td>\n      <td>33,528,394</td>\n      <td>3,358,176,617</td>\n      <td>100.2</td>\n    </tr>\n    <tr>\n      <th>13</th>\n      <td>202102</td>\n      <td>인천광역시</td>\n      <td>전체(시 / 군 / 구)</td>\n      <td>산업용</td>\n      <td>19,748</td>\n      <td>1,039,257,457</td>\n      <td>122,319,480,322</td>\n      <td>117.7</td>\n    </tr>\n    <tr>\n      <th>14</th>\n      <td>202102</td>\n      <td>인천광역시</td>\n      <td>전체(시 / 군 / 구)</td>\n      <td>농사용</td>\n      <td>26,378</td>\n      <td>12,553,036</td>\n      <td>607,672,138</td>\n      <td>48.4</td>\n    </tr>\n    <tr>\n      <th>15</th>\n      <td>202102</td>\n      <td>인천광역시</td>\n      <td>전체(시 / 군 / 구)</td>\n      <td>가로등</td>\n      <td>71,491</td>\n      <td>14,405,029</td>\n      <td>1,591,115,095</td>\n      <td>110.5</td>\n    </tr>\n    <tr>\n      <th>16</th>\n      <td>202102</td>\n      <td>인천광역시</td>\n      <td>전체(시 / 군 / 구)</td>\n      <td>심 야</td>\n      <td>14,291</td>\n      <td>34,309,121</td>\n      <td>2,514,170,139</td>\n      <td>73.3</td>\n    </tr>\n    <tr>\n      <th>17</th>\n      <td>202103</td>\n      <td>인천광역시</td>\n      <td>전체(시 / 군 / 구)</td>\n      <td>주택용</td>\n      <td>754,758</td>\n      <td>343,945,674</td>\n      <td>35,224,316,735</td>\n      <td>102.4</td>\n    </tr>\n    <tr>\n      <th>18</th>\n      <td>202103</td>\n      <td>인천광역시</td>\n      <td>전체(시 / 군 / 구)</td>\n      <td>일반용</td>\n      <td>141,336</td>\n      <td>476,594,154</td>\n      <td>57,470,432,013</td>\n      <td>120.6</td>\n    </tr>\n    <tr>\n      <th>19</th>\n      <td>202103</td>\n      <td>인천광역시</td>\n      <td>전체(시 / 군 / 구)</td>\n      <td>교육용</td>\n      <td>980</td>\n      <td>33,094,449</td>\n      <td>3,057,380,031</td>\n      <td>92.4</td>\n    </tr>\n    <tr>\n      <th>20</th>\n      <td>202103</td>\n      <td>인천광역시</td>\n      <td>전체(시 / 군 / 구)</td>\n      <td>산업용</td>\n      <td>19,751</td>\n      <td>1,117,997,431</td>\n      <td>107,666,367,071</td>\n      <td>96.3</td>\n    </tr>\n    <tr>\n      <th>21</th>\n      <td>202103</td>\n      <td>인천광역시</td>\n      <td>전체(시 / 군 / 구)</td>\n      <td>농사용</td>\n      <td>34,128</td>\n      <td>11,110,390</td>\n      <td>553,632,927</td>\n      <td>49.8</td>\n    </tr>\n    <tr>\n      <th>22</th>\n      <td>202103</td>\n      <td>인천광역시</td>\n      <td>전체(시 / 군 / 구)</td>\n      <td>가로등</td>\n      <td>71,623</td>\n      <td>13,124,340</td>\n      <td>1,478,972,369</td>\n      <td>112.7</td>\n    </tr>\n    <tr>\n      <th>23</th>\n      <td>202103</td>\n      <td>인천광역시</td>\n      <td>전체(시 / 군 / 구)</td>\n      <td>심 야</td>\n      <td>14,254</td>\n      <td>25,435,860</td>\n      <td>1,655,446,274</td>\n      <td>65.1</td>\n    </tr>\n    <tr>\n      <th>24</th>\n      <td>202104</td>\n      <td>인천광역시</td>\n      <td>전체(시 / 군 / 구)</td>\n      <td>주택용</td>\n      <td>755,329</td>\n      <td>351,840,880</td>\n      <td>36,512,493,678</td>\n      <td>103.8</td>\n    </tr>\n    <tr>\n      <th>25</th>\n      <td>202104</td>\n      <td>인천광역시</td>\n      <td>전체(시 / 군 / 구)</td>\n      <td>일반용</td>\n      <td>141,567</td>\n      <td>444,384,930</td>\n      <td>50,828,410,245</td>\n      <td>114.4</td>\n    </tr>\n    <tr>\n      <th>26</th>\n      <td>202104</td>\n      <td>인천광역시</td>\n      <td>전체(시 / 군 / 구)</td>\n      <td>교육용</td>\n      <td>981</td>\n      <td>23,235,932</td>\n      <td>2,158,901,062</td>\n      <td>92.9</td>\n    </tr>\n    <tr>\n      <th>27</th>\n      <td>202104</td>\n      <td>인천광역시</td>\n      <td>전체(시 / 군 / 구)</td>\n      <td>산업용</td>\n      <td>19,764</td>\n      <td>1,089,844,015</td>\n      <td>103,397,793,310</td>\n      <td>94.9</td>\n    </tr>\n    <tr>\n      <th>28</th>\n      <td>202104</td>\n      <td>인천광역시</td>\n      <td>전체(시 / 군 / 구)</td>\n      <td>농사용</td>\n      <td>31,196</td>\n      <td>11,375,406</td>\n      <td>561,090,322</td>\n      <td>49.3</td>\n    </tr>\n    <tr>\n      <th>29</th>\n      <td>202104</td>\n      <td>인천광역시</td>\n      <td>전체(시 / 군 / 구)</td>\n      <td>가로등</td>\n      <td>71,841</td>\n      <td>12,917,447</td>\n      <td>1,490,118,165</td>\n      <td>115.4</td>\n    </tr>\n    <tr>\n      <th>30</th>\n      <td>202104</td>\n      <td>인천광역시</td>\n      <td>전체(시 / 군 / 구)</td>\n      <td>심 야</td>\n      <td>14,207</td>\n      <td>18,561,968</td>\n      <td>983,792,607</td>\n      <td>53.0</td>\n    </tr>\n    <tr>\n      <th>31</th>\n      <td>202105</td>\n      <td>인천광역시</td>\n      <td>전체(시 / 군 / 구)</td>\n      <td>주택용</td>\n      <td>755,526</td>\n      <td>334,178,465</td>\n      <td>33,465,598,466</td>\n      <td>100.1</td>\n    </tr>\n    <tr>\n      <th>32</th>\n      <td>202105</td>\n      <td>인천광역시</td>\n      <td>전체(시 / 군 / 구)</td>\n      <td>일반용</td>\n      <td>141,778</td>\n      <td>426,926,935</td>\n      <td>49,426,043,745</td>\n      <td>115.8</td>\n    </tr>\n    <tr>\n      <th>33</th>\n      <td>202105</td>\n      <td>인천광역시</td>\n      <td>전체(시 / 군 / 구)</td>\n      <td>교육용</td>\n      <td>980</td>\n      <td>20,112,636</td>\n      <td>1,913,636,585</td>\n      <td>95.1</td>\n    </tr>\n    <tr>\n      <th>34</th>\n      <td>202105</td>\n      <td>인천광역시</td>\n      <td>전체(시 / 군 / 구)</td>\n      <td>산업용</td>\n      <td>19,778</td>\n      <td>1,088,187,043</td>\n      <td>101,623,847,511</td>\n      <td>93.4</td>\n    </tr>\n    <tr>\n      <th>35</th>\n      <td>202105</td>\n      <td>인천광역시</td>\n      <td>전체(시 / 군 / 구)</td>\n      <td>농사용</td>\n      <td>26,790</td>\n      <td>10,789,238</td>\n      <td>523,724,901</td>\n      <td>48.5</td>\n    </tr>\n    <tr>\n      <th>36</th>\n      <td>202105</td>\n      <td>인천광역시</td>\n      <td>전체(시 / 군 / 구)</td>\n      <td>가로등</td>\n      <td>71,997</td>\n      <td>11,451,890</td>\n      <td>1,378,104,274</td>\n      <td>120.3</td>\n    </tr>\n    <tr>\n      <th>37</th>\n      <td>202105</td>\n      <td>인천광역시</td>\n      <td>전체(시 / 군 / 구)</td>\n      <td>심 야</td>\n      <td>14,143</td>\n      <td>12,614,048</td>\n      <td>684,170,094</td>\n      <td>54.2</td>\n    </tr>\n    <tr>\n      <th>38</th>\n      <td>202106</td>\n      <td>인천광역시</td>\n      <td>전체(시 / 군 / 구)</td>\n      <td>주택용</td>\n      <td>756,100</td>\n      <td>349,559,481</td>\n      <td>36,303,136,410</td>\n      <td>103.9</td>\n    </tr>\n    <tr>\n      <th>39</th>\n      <td>202106</td>\n      <td>인천광역시</td>\n      <td>전체(시 / 군 / 구)</td>\n      <td>일반용</td>\n      <td>142,102</td>\n      <td>477,066,739</td>\n      <td>64,171,374,477</td>\n      <td>134.5</td>\n    </tr>\n    <tr>\n      <th>40</th>\n      <td>202106</td>\n      <td>인천광역시</td>\n      <td>전체(시 / 군 / 구)</td>\n      <td>교육용</td>\n      <td>974</td>\n      <td>25,611,204</td>\n      <td>3,223,216,161</td>\n      <td>125.9</td>\n    </tr>\n    <tr>\n      <th>41</th>\n      <td>202106</td>\n      <td>인천광역시</td>\n      <td>전체(시 / 군 / 구)</td>\n      <td>산업용</td>\n      <td>19,785</td>\n      <td>1,117,132,497</td>\n      <td>131,502,908,755</td>\n      <td>117.7</td>\n    </tr>\n    <tr>\n      <th>42</th>\n      <td>202106</td>\n      <td>인천광역시</td>\n      <td>전체(시 / 군 / 구)</td>\n      <td>농사용</td>\n      <td>26,955</td>\n      <td>10,889,527</td>\n      <td>534,799,009</td>\n      <td>49.1</td>\n    </tr>\n    <tr>\n      <th>43</th>\n      <td>202106</td>\n      <td>인천광역시</td>\n      <td>전체(시 / 군 / 구)</td>\n      <td>가로등</td>\n      <td>72,189</td>\n      <td>10,764,830</td>\n      <td>1,335,540,214</td>\n      <td>124.1</td>\n    </tr>\n    <tr>\n      <th>44</th>\n      <td>202106</td>\n      <td>인천광역시</td>\n      <td>전체(시 / 군 / 구)</td>\n      <td>심 야</td>\n      <td>14,087</td>\n      <td>9,673,899</td>\n      <td>545,711,604</td>\n      <td>56.4</td>\n    </tr>\n    <tr>\n      <th>45</th>\n      <td>합계</td>\n      <td>합계</td>\n      <td>합계</td>\n      <td>합계</td>\n      <td>6,192,638</td>\n      <td>12,226,476,193</td>\n      <td>1,343,550,654,348</td>\n      <td>109.9</td>\n    </tr>\n  </tbody>\n</table>\n</div>"
     },
     "execution_count": 6,
     "metadata": {},
     "output_type": "execute_result"
    }
   ],
   "source": [
    "df_2 = df.loc[:45]\n",
    "df_2\n"
   ],
   "metadata": {
    "collapsed": false,
    "pycharm": {
     "name": "#%%\n"
    }
   }
  },
  {
   "cell_type": "code",
   "execution_count": 7,
   "outputs": [
    {
     "name": "stderr",
     "output_type": "stream",
     "text": [
      "C:\\Users\\user\\AppData\\Local\\Temp\\ipykernel_11580\\3551721261.py:3: SettingWithCopyWarning: \n",
      "A value is trying to be set on a copy of a slice from a DataFrame\n",
      "\n",
      "See the caveats in the documentation: https://pandas.pydata.org/pandas-docs/stable/user_guide/indexing.html#returning-a-view-versus-a-copy\n",
      "  GyeonGi.drop(['시군구' , '전기요금(원)' , '평균판매단가(원/kWh)'] , axis = 1 , inplace = True)\n"
     ]
    },
    {
     "data": {
      "text/plain": "        년월     시구 계약구분   고객호수(호)      사용량(kWh)\n4   202101  인천광역시  일반용  141,266   594,853,766 \n11  202102  인천광역시  일반용  141,323   556,369,967 \n18  202103  인천광역시  일반용  141,336   476,594,154 \n25  202104  인천광역시  일반용  141,567   444,384,930 \n32  202105  인천광역시  일반용  141,778   426,926,935 \n39  202106  인천광역시  일반용  142,102   477,066,739 ",
      "text/html": "<div>\n<style scoped>\n    .dataframe tbody tr th:only-of-type {\n        vertical-align: middle;\n    }\n\n    .dataframe tbody tr th {\n        vertical-align: top;\n    }\n\n    .dataframe thead th {\n        text-align: right;\n    }\n</style>\n<table border=\"1\" class=\"dataframe\">\n  <thead>\n    <tr style=\"text-align: right;\">\n      <th></th>\n      <th>년월</th>\n      <th>시구</th>\n      <th>계약구분</th>\n      <th>고객호수(호)</th>\n      <th>사용량(kWh)</th>\n    </tr>\n  </thead>\n  <tbody>\n    <tr>\n      <th>4</th>\n      <td>202101</td>\n      <td>인천광역시</td>\n      <td>일반용</td>\n      <td>141,266</td>\n      <td>594,853,766</td>\n    </tr>\n    <tr>\n      <th>11</th>\n      <td>202102</td>\n      <td>인천광역시</td>\n      <td>일반용</td>\n      <td>141,323</td>\n      <td>556,369,967</td>\n    </tr>\n    <tr>\n      <th>18</th>\n      <td>202103</td>\n      <td>인천광역시</td>\n      <td>일반용</td>\n      <td>141,336</td>\n      <td>476,594,154</td>\n    </tr>\n    <tr>\n      <th>25</th>\n      <td>202104</td>\n      <td>인천광역시</td>\n      <td>일반용</td>\n      <td>141,567</td>\n      <td>444,384,930</td>\n    </tr>\n    <tr>\n      <th>32</th>\n      <td>202105</td>\n      <td>인천광역시</td>\n      <td>일반용</td>\n      <td>141,778</td>\n      <td>426,926,935</td>\n    </tr>\n    <tr>\n      <th>39</th>\n      <td>202106</td>\n      <td>인천광역시</td>\n      <td>일반용</td>\n      <td>142,102</td>\n      <td>477,066,739</td>\n    </tr>\n  </tbody>\n</table>\n</div>"
     },
     "execution_count": 7,
     "metadata": {},
     "output_type": "execute_result"
    }
   ],
   "source": [
    "GyeonGi  = df_2.loc[(df_2['계약구분'] == '일반용')]\n",
    "#SEOUL = df_3.loc[(df_3['계약구분'] =='일반용')]\n",
    "GyeonGi.drop(['시군구' , '전기요금(원)' , '평균판매단가(원/kWh)'] , axis = 1 , inplace = True)\n",
    "GyeonGi"
   ],
   "metadata": {
    "collapsed": false,
    "pycharm": {
     "name": "#%%\n"
    }
   }
  },
  {
   "cell_type": "code",
   "execution_count": 8,
   "outputs": [],
   "source": [
    "#SEOUL1.to_csv(\"서울특별시_계약종별_전국_전력사용량_2022.csv\" , mode = 'w' , encoding= 'cp949')"
   ],
   "metadata": {
    "collapsed": false,
    "pycharm": {
     "name": "#%%\n"
    }
   }
  },
  {
   "cell_type": "code",
   "execution_count": 9,
   "outputs": [],
   "source": [
    "#df_2.to_csv(\"서울특별시_계약종별_전국_전력사용량.csv\" , mode = 'w' , encoding= 'cp949')"
   ],
   "metadata": {
    "collapsed": false,
    "pycharm": {
     "name": "#%%\n"
    }
   }
  },
  {
   "cell_type": "code",
   "execution_count": 10,
   "outputs": [
    {
     "data": {
      "text/plain": "         년월     시구   시군구 계약구분  고객호수(호)      사용량(kWh)\n53   202101  인천광역시   강화군  일반용   8,311    21,297,105 \n133  202102  인천광역시   강화군  일반용   8,291    20,556,457 \n213  202103  인천광역시   강화군  일반용   8,290    16,274,977 \n293  202104  인천광역시   강화군  일반용   8,307    14,241,213 \n373  202105  인천광역시   강화군  일반용   8,335    12,581,695 \n453  202106  인천광역시   강화군  일반용   8,367    12,657,271 \n61   202101  인천광역시   계양구  일반용  12,585    42,456,752 \n141  202102  인천광역시   계양구  일반용  12,575    39,997,625 \n221  202103  인천광역시   계양구  일반용  12,565    33,255,660 \n301  202104  인천광역시   계양구  일반용  12,571    31,368,927 \n381  202105  인천광역시   계양구  일반용  12,578    30,268,677 \n461  202106  인천광역시   계양구  일반용  12,600    33,816,421 \n69   202101  인천광역시   남동구  일반용  23,748    89,421,469 \n149  202102  인천광역시   남동구  일반용  23,738    84,216,147 \n229  202103  인천광역시   남동구  일반용  23,750    70,310,611 \n309  202104  인천광역시   남동구  일반용  23,815    65,883,894 \n389  202105  인천광역시   남동구  일반용  23,817    62,851,821 \n469  202106  인천광역시   남동구  일반용  23,867    71,410,919 \n77   202101  인천광역시    동구  일반용   3,682    11,881,520 \n157  202102  인천광역시    동구  일반용   3,673    11,138,903 \n237  202103  인천광역시    동구  일반용   3,672     8,923,880 \n317  202104  인천광역시    동구  일반용   3,679     8,086,524 \n397  202105  인천광역시    동구  일반용   3,677     7,390,387 \n477  202106  인천광역시    동구  일반용   3,686     8,072,844 \n85   202101  인천광역시  미추홀구  일반용  21,460    61,372,361 \n165  202102  인천광역시  미추홀구  일반용  21,485    58,870,465 \n245  202103  인천광역시  미추홀구  일반용  21,487    48,201,105 \n325  202104  인천광역시  미추홀구  일반용  21,458    45,097,097 \n405  202105  인천광역시  미추홀구  일반용  21,448    42,105,043 \n485  202106  인천광역시  미추홀구  일반용  21,512    46,693,205 \n93   202101  인천광역시   부평구  일반용  21,891    75,737,287 \n173  202102  인천광역시   부평구  일반용  21,868    71,048,643 \n253  202103  인천광역시   부평구  일반용  21,856    60,147,634 \n333  202104  인천광역시   부평구  일반용  21,875    55,736,982 \n413  202105  인천광역시   부평구  일반용  21,910    52,597,252 \n493  202106  인천광역시   부평구  일반용  21,889    59,808,517 \n101  202101  인천광역시    서구  일반용  24,301   109,892,854 \n181  202102  인천광역시    서구  일반용  24,377   103,587,206 \n261  202103  인천광역시    서구  일반용  24,401    87,770,838 \n341  202104  인천광역시    서구  일반용  24,468    82,244,289 \n421  202105  인천광역시    서구  일반용  24,552    78,311,239 \n501  202106  인천광역시    서구  일반용  24,655    86,848,420 \n109  202101  인천광역시   연수구  일반용   9,814    69,593,901 \n189  202102  인천광역시   연수구  일반용   9,816    63,767,054 \n269  202103  인천광역시   연수구  일반용   9,804    57,677,822 \n349  202104  인천광역시   연수구  일반용   9,856    54,702,906 \n429  202105  인천광역시   연수구  일반용   9,889    54,365,209 \n509  202106  인천광역시   연수구  일반용   9,926    63,204,251 \n117  202101  인천광역시   옹진군  일반용   4,026    12,298,084 \n197  202102  인천광역시   옹진군  일반용   4,023    11,849,167 \n277  202103  인천광역시   옹진군  일반용   4,033     9,731,004 \n357  202104  인천광역시   옹진군  일반용   4,026     9,129,105 \n437  202105  인천광역시   옹진군  일반용   4,032     8,166,466 \n517  202106  인천광역시   옹진군  일반용   4,007     8,041,724 \n125  202101  인천광역시    중구  일반용  11,448   100,902,433 \n205  202102  인천광역시    중구  일반용  11,477    91,338,300 \n285  202103  인천광역시    중구  일반용  11,478    84,300,623 \n365  202104  인천광역시    중구  일반용  11,512    77,893,993 \n445  202105  인천광역시    중구  일반용  11,540    78,289,146 \n525  202106  인천광역시    중구  일반용  11,593    86,513,167 ",
      "text/html": "<div>\n<style scoped>\n    .dataframe tbody tr th:only-of-type {\n        vertical-align: middle;\n    }\n\n    .dataframe tbody tr th {\n        vertical-align: top;\n    }\n\n    .dataframe thead th {\n        text-align: right;\n    }\n</style>\n<table border=\"1\" class=\"dataframe\">\n  <thead>\n    <tr style=\"text-align: right;\">\n      <th></th>\n      <th>년월</th>\n      <th>시구</th>\n      <th>시군구</th>\n      <th>계약구분</th>\n      <th>고객호수(호)</th>\n      <th>사용량(kWh)</th>\n    </tr>\n  </thead>\n  <tbody>\n    <tr>\n      <th>53</th>\n      <td>202101</td>\n      <td>인천광역시</td>\n      <td>강화군</td>\n      <td>일반용</td>\n      <td>8,311</td>\n      <td>21,297,105</td>\n    </tr>\n    <tr>\n      <th>133</th>\n      <td>202102</td>\n      <td>인천광역시</td>\n      <td>강화군</td>\n      <td>일반용</td>\n      <td>8,291</td>\n      <td>20,556,457</td>\n    </tr>\n    <tr>\n      <th>213</th>\n      <td>202103</td>\n      <td>인천광역시</td>\n      <td>강화군</td>\n      <td>일반용</td>\n      <td>8,290</td>\n      <td>16,274,977</td>\n    </tr>\n    <tr>\n      <th>293</th>\n      <td>202104</td>\n      <td>인천광역시</td>\n      <td>강화군</td>\n      <td>일반용</td>\n      <td>8,307</td>\n      <td>14,241,213</td>\n    </tr>\n    <tr>\n      <th>373</th>\n      <td>202105</td>\n      <td>인천광역시</td>\n      <td>강화군</td>\n      <td>일반용</td>\n      <td>8,335</td>\n      <td>12,581,695</td>\n    </tr>\n    <tr>\n      <th>453</th>\n      <td>202106</td>\n      <td>인천광역시</td>\n      <td>강화군</td>\n      <td>일반용</td>\n      <td>8,367</td>\n      <td>12,657,271</td>\n    </tr>\n    <tr>\n      <th>61</th>\n      <td>202101</td>\n      <td>인천광역시</td>\n      <td>계양구</td>\n      <td>일반용</td>\n      <td>12,585</td>\n      <td>42,456,752</td>\n    </tr>\n    <tr>\n      <th>141</th>\n      <td>202102</td>\n      <td>인천광역시</td>\n      <td>계양구</td>\n      <td>일반용</td>\n      <td>12,575</td>\n      <td>39,997,625</td>\n    </tr>\n    <tr>\n      <th>221</th>\n      <td>202103</td>\n      <td>인천광역시</td>\n      <td>계양구</td>\n      <td>일반용</td>\n      <td>12,565</td>\n      <td>33,255,660</td>\n    </tr>\n    <tr>\n      <th>301</th>\n      <td>202104</td>\n      <td>인천광역시</td>\n      <td>계양구</td>\n      <td>일반용</td>\n      <td>12,571</td>\n      <td>31,368,927</td>\n    </tr>\n    <tr>\n      <th>381</th>\n      <td>202105</td>\n      <td>인천광역시</td>\n      <td>계양구</td>\n      <td>일반용</td>\n      <td>12,578</td>\n      <td>30,268,677</td>\n    </tr>\n    <tr>\n      <th>461</th>\n      <td>202106</td>\n      <td>인천광역시</td>\n      <td>계양구</td>\n      <td>일반용</td>\n      <td>12,600</td>\n      <td>33,816,421</td>\n    </tr>\n    <tr>\n      <th>69</th>\n      <td>202101</td>\n      <td>인천광역시</td>\n      <td>남동구</td>\n      <td>일반용</td>\n      <td>23,748</td>\n      <td>89,421,469</td>\n    </tr>\n    <tr>\n      <th>149</th>\n      <td>202102</td>\n      <td>인천광역시</td>\n      <td>남동구</td>\n      <td>일반용</td>\n      <td>23,738</td>\n      <td>84,216,147</td>\n    </tr>\n    <tr>\n      <th>229</th>\n      <td>202103</td>\n      <td>인천광역시</td>\n      <td>남동구</td>\n      <td>일반용</td>\n      <td>23,750</td>\n      <td>70,310,611</td>\n    </tr>\n    <tr>\n      <th>309</th>\n      <td>202104</td>\n      <td>인천광역시</td>\n      <td>남동구</td>\n      <td>일반용</td>\n      <td>23,815</td>\n      <td>65,883,894</td>\n    </tr>\n    <tr>\n      <th>389</th>\n      <td>202105</td>\n      <td>인천광역시</td>\n      <td>남동구</td>\n      <td>일반용</td>\n      <td>23,817</td>\n      <td>62,851,821</td>\n    </tr>\n    <tr>\n      <th>469</th>\n      <td>202106</td>\n      <td>인천광역시</td>\n      <td>남동구</td>\n      <td>일반용</td>\n      <td>23,867</td>\n      <td>71,410,919</td>\n    </tr>\n    <tr>\n      <th>77</th>\n      <td>202101</td>\n      <td>인천광역시</td>\n      <td>동구</td>\n      <td>일반용</td>\n      <td>3,682</td>\n      <td>11,881,520</td>\n    </tr>\n    <tr>\n      <th>157</th>\n      <td>202102</td>\n      <td>인천광역시</td>\n      <td>동구</td>\n      <td>일반용</td>\n      <td>3,673</td>\n      <td>11,138,903</td>\n    </tr>\n    <tr>\n      <th>237</th>\n      <td>202103</td>\n      <td>인천광역시</td>\n      <td>동구</td>\n      <td>일반용</td>\n      <td>3,672</td>\n      <td>8,923,880</td>\n    </tr>\n    <tr>\n      <th>317</th>\n      <td>202104</td>\n      <td>인천광역시</td>\n      <td>동구</td>\n      <td>일반용</td>\n      <td>3,679</td>\n      <td>8,086,524</td>\n    </tr>\n    <tr>\n      <th>397</th>\n      <td>202105</td>\n      <td>인천광역시</td>\n      <td>동구</td>\n      <td>일반용</td>\n      <td>3,677</td>\n      <td>7,390,387</td>\n    </tr>\n    <tr>\n      <th>477</th>\n      <td>202106</td>\n      <td>인천광역시</td>\n      <td>동구</td>\n      <td>일반용</td>\n      <td>3,686</td>\n      <td>8,072,844</td>\n    </tr>\n    <tr>\n      <th>85</th>\n      <td>202101</td>\n      <td>인천광역시</td>\n      <td>미추홀구</td>\n      <td>일반용</td>\n      <td>21,460</td>\n      <td>61,372,361</td>\n    </tr>\n    <tr>\n      <th>165</th>\n      <td>202102</td>\n      <td>인천광역시</td>\n      <td>미추홀구</td>\n      <td>일반용</td>\n      <td>21,485</td>\n      <td>58,870,465</td>\n    </tr>\n    <tr>\n      <th>245</th>\n      <td>202103</td>\n      <td>인천광역시</td>\n      <td>미추홀구</td>\n      <td>일반용</td>\n      <td>21,487</td>\n      <td>48,201,105</td>\n    </tr>\n    <tr>\n      <th>325</th>\n      <td>202104</td>\n      <td>인천광역시</td>\n      <td>미추홀구</td>\n      <td>일반용</td>\n      <td>21,458</td>\n      <td>45,097,097</td>\n    </tr>\n    <tr>\n      <th>405</th>\n      <td>202105</td>\n      <td>인천광역시</td>\n      <td>미추홀구</td>\n      <td>일반용</td>\n      <td>21,448</td>\n      <td>42,105,043</td>\n    </tr>\n    <tr>\n      <th>485</th>\n      <td>202106</td>\n      <td>인천광역시</td>\n      <td>미추홀구</td>\n      <td>일반용</td>\n      <td>21,512</td>\n      <td>46,693,205</td>\n    </tr>\n    <tr>\n      <th>93</th>\n      <td>202101</td>\n      <td>인천광역시</td>\n      <td>부평구</td>\n      <td>일반용</td>\n      <td>21,891</td>\n      <td>75,737,287</td>\n    </tr>\n    <tr>\n      <th>173</th>\n      <td>202102</td>\n      <td>인천광역시</td>\n      <td>부평구</td>\n      <td>일반용</td>\n      <td>21,868</td>\n      <td>71,048,643</td>\n    </tr>\n    <tr>\n      <th>253</th>\n      <td>202103</td>\n      <td>인천광역시</td>\n      <td>부평구</td>\n      <td>일반용</td>\n      <td>21,856</td>\n      <td>60,147,634</td>\n    </tr>\n    <tr>\n      <th>333</th>\n      <td>202104</td>\n      <td>인천광역시</td>\n      <td>부평구</td>\n      <td>일반용</td>\n      <td>21,875</td>\n      <td>55,736,982</td>\n    </tr>\n    <tr>\n      <th>413</th>\n      <td>202105</td>\n      <td>인천광역시</td>\n      <td>부평구</td>\n      <td>일반용</td>\n      <td>21,910</td>\n      <td>52,597,252</td>\n    </tr>\n    <tr>\n      <th>493</th>\n      <td>202106</td>\n      <td>인천광역시</td>\n      <td>부평구</td>\n      <td>일반용</td>\n      <td>21,889</td>\n      <td>59,808,517</td>\n    </tr>\n    <tr>\n      <th>101</th>\n      <td>202101</td>\n      <td>인천광역시</td>\n      <td>서구</td>\n      <td>일반용</td>\n      <td>24,301</td>\n      <td>109,892,854</td>\n    </tr>\n    <tr>\n      <th>181</th>\n      <td>202102</td>\n      <td>인천광역시</td>\n      <td>서구</td>\n      <td>일반용</td>\n      <td>24,377</td>\n      <td>103,587,206</td>\n    </tr>\n    <tr>\n      <th>261</th>\n      <td>202103</td>\n      <td>인천광역시</td>\n      <td>서구</td>\n      <td>일반용</td>\n      <td>24,401</td>\n      <td>87,770,838</td>\n    </tr>\n    <tr>\n      <th>341</th>\n      <td>202104</td>\n      <td>인천광역시</td>\n      <td>서구</td>\n      <td>일반용</td>\n      <td>24,468</td>\n      <td>82,244,289</td>\n    </tr>\n    <tr>\n      <th>421</th>\n      <td>202105</td>\n      <td>인천광역시</td>\n      <td>서구</td>\n      <td>일반용</td>\n      <td>24,552</td>\n      <td>78,311,239</td>\n    </tr>\n    <tr>\n      <th>501</th>\n      <td>202106</td>\n      <td>인천광역시</td>\n      <td>서구</td>\n      <td>일반용</td>\n      <td>24,655</td>\n      <td>86,848,420</td>\n    </tr>\n    <tr>\n      <th>109</th>\n      <td>202101</td>\n      <td>인천광역시</td>\n      <td>연수구</td>\n      <td>일반용</td>\n      <td>9,814</td>\n      <td>69,593,901</td>\n    </tr>\n    <tr>\n      <th>189</th>\n      <td>202102</td>\n      <td>인천광역시</td>\n      <td>연수구</td>\n      <td>일반용</td>\n      <td>9,816</td>\n      <td>63,767,054</td>\n    </tr>\n    <tr>\n      <th>269</th>\n      <td>202103</td>\n      <td>인천광역시</td>\n      <td>연수구</td>\n      <td>일반용</td>\n      <td>9,804</td>\n      <td>57,677,822</td>\n    </tr>\n    <tr>\n      <th>349</th>\n      <td>202104</td>\n      <td>인천광역시</td>\n      <td>연수구</td>\n      <td>일반용</td>\n      <td>9,856</td>\n      <td>54,702,906</td>\n    </tr>\n    <tr>\n      <th>429</th>\n      <td>202105</td>\n      <td>인천광역시</td>\n      <td>연수구</td>\n      <td>일반용</td>\n      <td>9,889</td>\n      <td>54,365,209</td>\n    </tr>\n    <tr>\n      <th>509</th>\n      <td>202106</td>\n      <td>인천광역시</td>\n      <td>연수구</td>\n      <td>일반용</td>\n      <td>9,926</td>\n      <td>63,204,251</td>\n    </tr>\n    <tr>\n      <th>117</th>\n      <td>202101</td>\n      <td>인천광역시</td>\n      <td>옹진군</td>\n      <td>일반용</td>\n      <td>4,026</td>\n      <td>12,298,084</td>\n    </tr>\n    <tr>\n      <th>197</th>\n      <td>202102</td>\n      <td>인천광역시</td>\n      <td>옹진군</td>\n      <td>일반용</td>\n      <td>4,023</td>\n      <td>11,849,167</td>\n    </tr>\n    <tr>\n      <th>277</th>\n      <td>202103</td>\n      <td>인천광역시</td>\n      <td>옹진군</td>\n      <td>일반용</td>\n      <td>4,033</td>\n      <td>9,731,004</td>\n    </tr>\n    <tr>\n      <th>357</th>\n      <td>202104</td>\n      <td>인천광역시</td>\n      <td>옹진군</td>\n      <td>일반용</td>\n      <td>4,026</td>\n      <td>9,129,105</td>\n    </tr>\n    <tr>\n      <th>437</th>\n      <td>202105</td>\n      <td>인천광역시</td>\n      <td>옹진군</td>\n      <td>일반용</td>\n      <td>4,032</td>\n      <td>8,166,466</td>\n    </tr>\n    <tr>\n      <th>517</th>\n      <td>202106</td>\n      <td>인천광역시</td>\n      <td>옹진군</td>\n      <td>일반용</td>\n      <td>4,007</td>\n      <td>8,041,724</td>\n    </tr>\n    <tr>\n      <th>125</th>\n      <td>202101</td>\n      <td>인천광역시</td>\n      <td>중구</td>\n      <td>일반용</td>\n      <td>11,448</td>\n      <td>100,902,433</td>\n    </tr>\n    <tr>\n      <th>205</th>\n      <td>202102</td>\n      <td>인천광역시</td>\n      <td>중구</td>\n      <td>일반용</td>\n      <td>11,477</td>\n      <td>91,338,300</td>\n    </tr>\n    <tr>\n      <th>285</th>\n      <td>202103</td>\n      <td>인천광역시</td>\n      <td>중구</td>\n      <td>일반용</td>\n      <td>11,478</td>\n      <td>84,300,623</td>\n    </tr>\n    <tr>\n      <th>365</th>\n      <td>202104</td>\n      <td>인천광역시</td>\n      <td>중구</td>\n      <td>일반용</td>\n      <td>11,512</td>\n      <td>77,893,993</td>\n    </tr>\n    <tr>\n      <th>445</th>\n      <td>202105</td>\n      <td>인천광역시</td>\n      <td>중구</td>\n      <td>일반용</td>\n      <td>11,540</td>\n      <td>78,289,146</td>\n    </tr>\n    <tr>\n      <th>525</th>\n      <td>202106</td>\n      <td>인천광역시</td>\n      <td>중구</td>\n      <td>일반용</td>\n      <td>11,593</td>\n      <td>86,513,167</td>\n    </tr>\n  </tbody>\n</table>\n</div>"
     },
     "execution_count": 10,
     "metadata": {},
     "output_type": "execute_result"
    }
   ],
   "source": [
    "df_3 = df.loc[48:]\n",
    "df_3 = df_3.loc[(df_3['계약구분'] == '일반용')]\n",
    "df_3 = df_3.sort_values(by=['시군구' , '년월'])\n",
    "df_3.drop(['전기요금(원)',   '평균판매단가(원/kWh)'] , axis = 1 , inplace = True)\n",
    "df_3"
   ],
   "metadata": {
    "collapsed": false,
    "pycharm": {
     "name": "#%%\n"
    }
   }
  },
  {
   "cell_type": "code",
   "execution_count": 11,
   "outputs": [
    {
     "data": {
      "text/plain": "'인천광역시'"
     },
     "execution_count": 11,
     "metadata": {},
     "output_type": "execute_result"
    }
   ],
   "source": [
    "a = df_3.loc[: , \"시구\"]\n",
    "b = a[:1].tolist()\n",
    "for i in b:\n",
    "    City = i\n",
    "City"
   ],
   "metadata": {
    "collapsed": false,
    "pycharm": {
     "name": "#%%\n"
    }
   }
  },
  {
   "cell_type": "code",
   "execution_count": 12,
   "outputs": [
    {
     "data": {
      "text/plain": "['강화군', '계양구', '남동구', '동구', '미추홀구', '부평구', '서구', '연수구', '옹진군', '중구']"
     },
     "execution_count": 12,
     "metadata": {},
     "output_type": "execute_result"
    }
   ],
   "source": [
    "\n",
    "SIGUNGU = list(set(df_3.loc[: , '시군구'].tolist()))\n",
    "SIGUNGU.sort()\n",
    "SIGUNGU"
   ],
   "metadata": {
    "collapsed": false,
    "pycharm": {
     "name": "#%%\n"
    }
   }
  },
  {
   "cell_type": "code",
   "execution_count": 13,
   "outputs": [
    {
     "data": {
      "text/plain": "         년월     시구   시군구 계약구분   고객호수(호)      사용량(kWh)\n55   202101  인천광역시   강화군   합계   82,249    66,643,673 \n135  202102  인천광역시   강화군   합계   82,379    64,764,558 \n215  202103  인천광역시   강화군   합계   88,368    52,599,336 \n295  202104  인천광역시   강화군   합계   87,213    47,447,268 \n375  202105  인천광역시   강화군   합계   83,432    42,020,119 \n455  202106  인천광역시   강화군   합계   83,907    40,806,786 \n63   202101  인천광역시   계양구   합계   97,406   124,067,163 \n143  202102  인천광역시   계양구   합계   97,398   116,296,402 \n223  202103  인천광역시   계양구   합계   97,786   102,303,394 \n303  202104  인천광역시   계양구   합계   97,457    98,669,833 \n383  202105  인천광역시   계양구   합계   97,468    94,825,210 \n463  202106  인천광역시   계양구   합계   97,491   101,018,980 \n71   202101  인천광역시   남동구   합계  157,269   372,952,927 \n151  202102  인천광역시   남동구   합계  157,355   348,691,616 \n231  202103  인천광역시   남동구   합계  157,393   316,384,670 \n311  202104  인천광역시   남동구   합계  157,853   307,986,017 \n391  202105  인천광역시   남동구   합계  157,966   286,195,728 \n471  202106  인천광역시   남동구   합계  158,133   308,612,934 \n79   202101  인천광역시    동구   합계   26,025   286,281,460 \n159  202102  인천광역시    동구   합계   25,996   261,670,461 \n239  202103  인천광역시    동구   합계   25,980   335,577,599 \n319  202104  인천광역시    동구   합계   26,001   328,993,020 \n399  202105  인천광역시    동구   합계   25,918   346,906,435 \n479  202106  인천광역시    동구   합계   25,989   337,421,699 \n87   202101  인천광역시  미추홀구   합계  192,473   168,537,883 \n167  202102  인천광역시  미추홀구   합계  192,477   157,721,752 \n247  202103  인천광역시  미추홀구   합계  192,526   137,571,994 \n327  202104  인천광역시  미추홀구   합계  192,446   132,323,218 \n407  202105  인천광역시  미추홀구   합계  192,392   124,458,741 \n487  202106  인천광역시  미추홀구   합계  192,367   133,902,540 \n95   202101  인천광역시   부평구   합계  158,843   221,810,254 \n175  202102  인천광역시   부평구   합계  158,664   202,948,264 \n255  202103  인천광역시   부평구   합계  158,488   181,546,319 \n335  202104  인천광역시   부평구   합계  158,325   173,379,967 \n415  202105  인천광역시   부평구   합계  158,243   163,637,646 \n495  202106  인천광역시   부평구   합계  158,047   180,582,570 \n103  202101  인천광역시    서구   합계  165,519   534,911,462 \n183  202102  인천광역시    서구   합계  165,664   497,833,673 \n263  202103  인천광역시    서구   합계  165,925   472,811,788 \n343  202104  인천광역시    서구   합계  166,062   464,266,626 \n423  202105  인천광역시    서구   합계  166,068   447,114,907 \n503  202106  인천광역시    서구   합계  166,351   467,862,902 \n111  202101  인천광역시   연수구   합계   62,898   247,529,484 \n191  202102  인천광역시   연수구   합계   62,945   222,086,568 \n271  202103  인천광역시   연수구   합계   62,925   209,069,186 \n351  202104  인천광역시   연수구   합계   62,948   198,879,162 \n431  202105  인천광역시   연수구   합계   63,000   196,868,911 \n511  202106  인천광역시   연수구   합계   63,134   216,881,577 \n119  202101  인천광역시   옹진군   합계   25,092    22,168,244 \n199  202102  인천광역시   옹진군   합계   25,105    23,250,140 \n279  202103  인천광역시   옹진군   합계   26,122    25,088,243 \n359  202104  인천광역시   옹진군   합계   25,559    21,369,527 \n439  202105  인천광역시   옹진군   합계   25,230    22,516,947 \n519  202106  인천광역시   옹진군   합계   25,304    23,265,990 \n127  202101  인천광역시    중구   합계   61,096   213,721,454 \n207  202102  인천광역시    중구   합계   60,886   194,167,447 \n287  202103  인천광역시    중구   합계   61,317   188,349,769 \n367  202104  인천광역시    중구   합계   61,021   178,845,940 \n447  202105  인천광역시    중구   합계   61,275   179,715,611 \n527  202106  인천광역시    중구   합계   61,469   190,342,199 ",
      "text/html": "<div>\n<style scoped>\n    .dataframe tbody tr th:only-of-type {\n        vertical-align: middle;\n    }\n\n    .dataframe tbody tr th {\n        vertical-align: top;\n    }\n\n    .dataframe thead th {\n        text-align: right;\n    }\n</style>\n<table border=\"1\" class=\"dataframe\">\n  <thead>\n    <tr style=\"text-align: right;\">\n      <th></th>\n      <th>년월</th>\n      <th>시구</th>\n      <th>시군구</th>\n      <th>계약구분</th>\n      <th>고객호수(호)</th>\n      <th>사용량(kWh)</th>\n    </tr>\n  </thead>\n  <tbody>\n    <tr>\n      <th>55</th>\n      <td>202101</td>\n      <td>인천광역시</td>\n      <td>강화군</td>\n      <td>합계</td>\n      <td>82,249</td>\n      <td>66,643,673</td>\n    </tr>\n    <tr>\n      <th>135</th>\n      <td>202102</td>\n      <td>인천광역시</td>\n      <td>강화군</td>\n      <td>합계</td>\n      <td>82,379</td>\n      <td>64,764,558</td>\n    </tr>\n    <tr>\n      <th>215</th>\n      <td>202103</td>\n      <td>인천광역시</td>\n      <td>강화군</td>\n      <td>합계</td>\n      <td>88,368</td>\n      <td>52,599,336</td>\n    </tr>\n    <tr>\n      <th>295</th>\n      <td>202104</td>\n      <td>인천광역시</td>\n      <td>강화군</td>\n      <td>합계</td>\n      <td>87,213</td>\n      <td>47,447,268</td>\n    </tr>\n    <tr>\n      <th>375</th>\n      <td>202105</td>\n      <td>인천광역시</td>\n      <td>강화군</td>\n      <td>합계</td>\n      <td>83,432</td>\n      <td>42,020,119</td>\n    </tr>\n    <tr>\n      <th>455</th>\n      <td>202106</td>\n      <td>인천광역시</td>\n      <td>강화군</td>\n      <td>합계</td>\n      <td>83,907</td>\n      <td>40,806,786</td>\n    </tr>\n    <tr>\n      <th>63</th>\n      <td>202101</td>\n      <td>인천광역시</td>\n      <td>계양구</td>\n      <td>합계</td>\n      <td>97,406</td>\n      <td>124,067,163</td>\n    </tr>\n    <tr>\n      <th>143</th>\n      <td>202102</td>\n      <td>인천광역시</td>\n      <td>계양구</td>\n      <td>합계</td>\n      <td>97,398</td>\n      <td>116,296,402</td>\n    </tr>\n    <tr>\n      <th>223</th>\n      <td>202103</td>\n      <td>인천광역시</td>\n      <td>계양구</td>\n      <td>합계</td>\n      <td>97,786</td>\n      <td>102,303,394</td>\n    </tr>\n    <tr>\n      <th>303</th>\n      <td>202104</td>\n      <td>인천광역시</td>\n      <td>계양구</td>\n      <td>합계</td>\n      <td>97,457</td>\n      <td>98,669,833</td>\n    </tr>\n    <tr>\n      <th>383</th>\n      <td>202105</td>\n      <td>인천광역시</td>\n      <td>계양구</td>\n      <td>합계</td>\n      <td>97,468</td>\n      <td>94,825,210</td>\n    </tr>\n    <tr>\n      <th>463</th>\n      <td>202106</td>\n      <td>인천광역시</td>\n      <td>계양구</td>\n      <td>합계</td>\n      <td>97,491</td>\n      <td>101,018,980</td>\n    </tr>\n    <tr>\n      <th>71</th>\n      <td>202101</td>\n      <td>인천광역시</td>\n      <td>남동구</td>\n      <td>합계</td>\n      <td>157,269</td>\n      <td>372,952,927</td>\n    </tr>\n    <tr>\n      <th>151</th>\n      <td>202102</td>\n      <td>인천광역시</td>\n      <td>남동구</td>\n      <td>합계</td>\n      <td>157,355</td>\n      <td>348,691,616</td>\n    </tr>\n    <tr>\n      <th>231</th>\n      <td>202103</td>\n      <td>인천광역시</td>\n      <td>남동구</td>\n      <td>합계</td>\n      <td>157,393</td>\n      <td>316,384,670</td>\n    </tr>\n    <tr>\n      <th>311</th>\n      <td>202104</td>\n      <td>인천광역시</td>\n      <td>남동구</td>\n      <td>합계</td>\n      <td>157,853</td>\n      <td>307,986,017</td>\n    </tr>\n    <tr>\n      <th>391</th>\n      <td>202105</td>\n      <td>인천광역시</td>\n      <td>남동구</td>\n      <td>합계</td>\n      <td>157,966</td>\n      <td>286,195,728</td>\n    </tr>\n    <tr>\n      <th>471</th>\n      <td>202106</td>\n      <td>인천광역시</td>\n      <td>남동구</td>\n      <td>합계</td>\n      <td>158,133</td>\n      <td>308,612,934</td>\n    </tr>\n    <tr>\n      <th>79</th>\n      <td>202101</td>\n      <td>인천광역시</td>\n      <td>동구</td>\n      <td>합계</td>\n      <td>26,025</td>\n      <td>286,281,460</td>\n    </tr>\n    <tr>\n      <th>159</th>\n      <td>202102</td>\n      <td>인천광역시</td>\n      <td>동구</td>\n      <td>합계</td>\n      <td>25,996</td>\n      <td>261,670,461</td>\n    </tr>\n    <tr>\n      <th>239</th>\n      <td>202103</td>\n      <td>인천광역시</td>\n      <td>동구</td>\n      <td>합계</td>\n      <td>25,980</td>\n      <td>335,577,599</td>\n    </tr>\n    <tr>\n      <th>319</th>\n      <td>202104</td>\n      <td>인천광역시</td>\n      <td>동구</td>\n      <td>합계</td>\n      <td>26,001</td>\n      <td>328,993,020</td>\n    </tr>\n    <tr>\n      <th>399</th>\n      <td>202105</td>\n      <td>인천광역시</td>\n      <td>동구</td>\n      <td>합계</td>\n      <td>25,918</td>\n      <td>346,906,435</td>\n    </tr>\n    <tr>\n      <th>479</th>\n      <td>202106</td>\n      <td>인천광역시</td>\n      <td>동구</td>\n      <td>합계</td>\n      <td>25,989</td>\n      <td>337,421,699</td>\n    </tr>\n    <tr>\n      <th>87</th>\n      <td>202101</td>\n      <td>인천광역시</td>\n      <td>미추홀구</td>\n      <td>합계</td>\n      <td>192,473</td>\n      <td>168,537,883</td>\n    </tr>\n    <tr>\n      <th>167</th>\n      <td>202102</td>\n      <td>인천광역시</td>\n      <td>미추홀구</td>\n      <td>합계</td>\n      <td>192,477</td>\n      <td>157,721,752</td>\n    </tr>\n    <tr>\n      <th>247</th>\n      <td>202103</td>\n      <td>인천광역시</td>\n      <td>미추홀구</td>\n      <td>합계</td>\n      <td>192,526</td>\n      <td>137,571,994</td>\n    </tr>\n    <tr>\n      <th>327</th>\n      <td>202104</td>\n      <td>인천광역시</td>\n      <td>미추홀구</td>\n      <td>합계</td>\n      <td>192,446</td>\n      <td>132,323,218</td>\n    </tr>\n    <tr>\n      <th>407</th>\n      <td>202105</td>\n      <td>인천광역시</td>\n      <td>미추홀구</td>\n      <td>합계</td>\n      <td>192,392</td>\n      <td>124,458,741</td>\n    </tr>\n    <tr>\n      <th>487</th>\n      <td>202106</td>\n      <td>인천광역시</td>\n      <td>미추홀구</td>\n      <td>합계</td>\n      <td>192,367</td>\n      <td>133,902,540</td>\n    </tr>\n    <tr>\n      <th>95</th>\n      <td>202101</td>\n      <td>인천광역시</td>\n      <td>부평구</td>\n      <td>합계</td>\n      <td>158,843</td>\n      <td>221,810,254</td>\n    </tr>\n    <tr>\n      <th>175</th>\n      <td>202102</td>\n      <td>인천광역시</td>\n      <td>부평구</td>\n      <td>합계</td>\n      <td>158,664</td>\n      <td>202,948,264</td>\n    </tr>\n    <tr>\n      <th>255</th>\n      <td>202103</td>\n      <td>인천광역시</td>\n      <td>부평구</td>\n      <td>합계</td>\n      <td>158,488</td>\n      <td>181,546,319</td>\n    </tr>\n    <tr>\n      <th>335</th>\n      <td>202104</td>\n      <td>인천광역시</td>\n      <td>부평구</td>\n      <td>합계</td>\n      <td>158,325</td>\n      <td>173,379,967</td>\n    </tr>\n    <tr>\n      <th>415</th>\n      <td>202105</td>\n      <td>인천광역시</td>\n      <td>부평구</td>\n      <td>합계</td>\n      <td>158,243</td>\n      <td>163,637,646</td>\n    </tr>\n    <tr>\n      <th>495</th>\n      <td>202106</td>\n      <td>인천광역시</td>\n      <td>부평구</td>\n      <td>합계</td>\n      <td>158,047</td>\n      <td>180,582,570</td>\n    </tr>\n    <tr>\n      <th>103</th>\n      <td>202101</td>\n      <td>인천광역시</td>\n      <td>서구</td>\n      <td>합계</td>\n      <td>165,519</td>\n      <td>534,911,462</td>\n    </tr>\n    <tr>\n      <th>183</th>\n      <td>202102</td>\n      <td>인천광역시</td>\n      <td>서구</td>\n      <td>합계</td>\n      <td>165,664</td>\n      <td>497,833,673</td>\n    </tr>\n    <tr>\n      <th>263</th>\n      <td>202103</td>\n      <td>인천광역시</td>\n      <td>서구</td>\n      <td>합계</td>\n      <td>165,925</td>\n      <td>472,811,788</td>\n    </tr>\n    <tr>\n      <th>343</th>\n      <td>202104</td>\n      <td>인천광역시</td>\n      <td>서구</td>\n      <td>합계</td>\n      <td>166,062</td>\n      <td>464,266,626</td>\n    </tr>\n    <tr>\n      <th>423</th>\n      <td>202105</td>\n      <td>인천광역시</td>\n      <td>서구</td>\n      <td>합계</td>\n      <td>166,068</td>\n      <td>447,114,907</td>\n    </tr>\n    <tr>\n      <th>503</th>\n      <td>202106</td>\n      <td>인천광역시</td>\n      <td>서구</td>\n      <td>합계</td>\n      <td>166,351</td>\n      <td>467,862,902</td>\n    </tr>\n    <tr>\n      <th>111</th>\n      <td>202101</td>\n      <td>인천광역시</td>\n      <td>연수구</td>\n      <td>합계</td>\n      <td>62,898</td>\n      <td>247,529,484</td>\n    </tr>\n    <tr>\n      <th>191</th>\n      <td>202102</td>\n      <td>인천광역시</td>\n      <td>연수구</td>\n      <td>합계</td>\n      <td>62,945</td>\n      <td>222,086,568</td>\n    </tr>\n    <tr>\n      <th>271</th>\n      <td>202103</td>\n      <td>인천광역시</td>\n      <td>연수구</td>\n      <td>합계</td>\n      <td>62,925</td>\n      <td>209,069,186</td>\n    </tr>\n    <tr>\n      <th>351</th>\n      <td>202104</td>\n      <td>인천광역시</td>\n      <td>연수구</td>\n      <td>합계</td>\n      <td>62,948</td>\n      <td>198,879,162</td>\n    </tr>\n    <tr>\n      <th>431</th>\n      <td>202105</td>\n      <td>인천광역시</td>\n      <td>연수구</td>\n      <td>합계</td>\n      <td>63,000</td>\n      <td>196,868,911</td>\n    </tr>\n    <tr>\n      <th>511</th>\n      <td>202106</td>\n      <td>인천광역시</td>\n      <td>연수구</td>\n      <td>합계</td>\n      <td>63,134</td>\n      <td>216,881,577</td>\n    </tr>\n    <tr>\n      <th>119</th>\n      <td>202101</td>\n      <td>인천광역시</td>\n      <td>옹진군</td>\n      <td>합계</td>\n      <td>25,092</td>\n      <td>22,168,244</td>\n    </tr>\n    <tr>\n      <th>199</th>\n      <td>202102</td>\n      <td>인천광역시</td>\n      <td>옹진군</td>\n      <td>합계</td>\n      <td>25,105</td>\n      <td>23,250,140</td>\n    </tr>\n    <tr>\n      <th>279</th>\n      <td>202103</td>\n      <td>인천광역시</td>\n      <td>옹진군</td>\n      <td>합계</td>\n      <td>26,122</td>\n      <td>25,088,243</td>\n    </tr>\n    <tr>\n      <th>359</th>\n      <td>202104</td>\n      <td>인천광역시</td>\n      <td>옹진군</td>\n      <td>합계</td>\n      <td>25,559</td>\n      <td>21,369,527</td>\n    </tr>\n    <tr>\n      <th>439</th>\n      <td>202105</td>\n      <td>인천광역시</td>\n      <td>옹진군</td>\n      <td>합계</td>\n      <td>25,230</td>\n      <td>22,516,947</td>\n    </tr>\n    <tr>\n      <th>519</th>\n      <td>202106</td>\n      <td>인천광역시</td>\n      <td>옹진군</td>\n      <td>합계</td>\n      <td>25,304</td>\n      <td>23,265,990</td>\n    </tr>\n    <tr>\n      <th>127</th>\n      <td>202101</td>\n      <td>인천광역시</td>\n      <td>중구</td>\n      <td>합계</td>\n      <td>61,096</td>\n      <td>213,721,454</td>\n    </tr>\n    <tr>\n      <th>207</th>\n      <td>202102</td>\n      <td>인천광역시</td>\n      <td>중구</td>\n      <td>합계</td>\n      <td>60,886</td>\n      <td>194,167,447</td>\n    </tr>\n    <tr>\n      <th>287</th>\n      <td>202103</td>\n      <td>인천광역시</td>\n      <td>중구</td>\n      <td>합계</td>\n      <td>61,317</td>\n      <td>188,349,769</td>\n    </tr>\n    <tr>\n      <th>367</th>\n      <td>202104</td>\n      <td>인천광역시</td>\n      <td>중구</td>\n      <td>합계</td>\n      <td>61,021</td>\n      <td>178,845,940</td>\n    </tr>\n    <tr>\n      <th>447</th>\n      <td>202105</td>\n      <td>인천광역시</td>\n      <td>중구</td>\n      <td>합계</td>\n      <td>61,275</td>\n      <td>179,715,611</td>\n    </tr>\n    <tr>\n      <th>527</th>\n      <td>202106</td>\n      <td>인천광역시</td>\n      <td>중구</td>\n      <td>합계</td>\n      <td>61,469</td>\n      <td>190,342,199</td>\n    </tr>\n  </tbody>\n</table>\n</div>"
     },
     "execution_count": 13,
     "metadata": {},
     "output_type": "execute_result"
    }
   ],
   "source": [
    "df_4 = df.loc[48:]\n",
    "df_4 = df_4.loc[(df_4['계약구분'] == '합계')]\n",
    "df_4 = df_4.sort_values(by=['시군구' , '년월'])\n",
    "df_4.drop(['전기요금(원)',   '평균판매단가(원/kWh)'] , axis = 1 , inplace = True)\n",
    "df_4"
   ],
   "metadata": {
    "collapsed": false,
    "pycharm": {
     "name": "#%%\n"
    }
   }
  },
  {
   "cell_type": "code",
   "execution_count": 14,
   "outputs": [
    {
     "name": "stdout",
     "output_type": "stream",
     "text": [
      "[66643673, 64764558, 52599336, 47447268, 42020119, 40806786]\n",
      "[124067163, 116296402, 102303394, 98669833, 94825210, 101018980]\n",
      "[372952927, 348691616, 316384670, 307986017, 286195728, 308612934]\n",
      "[286281460, 261670461, 335577599, 328993020, 346906435, 337421699]\n",
      "[168537883, 157721752, 137571994, 132323218, 124458741, 133902540]\n",
      "[221810254, 202948264, 181546319, 173379967, 163637646, 180582570]\n",
      "[534911462, 497833673, 472811788, 464266626, 447114907, 467862902]\n",
      "[247529484, 222086568, 209069186, 198879162, 196868911, 216881577]\n",
      "[22168244, 23250140, 25088243, 21369527, 22516947, 23265990]\n",
      "[213721454, 194167447, 188349769, 178845940, 179715611, 190342199]\n",
      "인천광역시 지역별 합계 :  [314281740, 637180982, 1940823892, 1896850674, 854516128, 1123905020, 2884801358, 1291314888, 137659091, 1145142420]\n",
      "인천광역시 고객호수 평균:  [14098, 16250, 26276, 4330, 32074, 26405, 27655, 10495, 4233, 10196]\n"
     ]
    }
   ],
   "source": [
    "sum2 , sum3 =[] , []\n",
    "for k in SIGUNGU:\n",
    "    GyeonGiHap = pd.DataFrame([] , columns = a)\n",
    "    HOSU = pd.DataFrame([], columns = a)\n",
    "    GyeonGiHap['사용량']= df_4['사용량(kWh)'].loc[(df_4['시군구'] == '{}'.format(k))]\n",
    "    HOSU['고객호수']= df_4['고객호수(호)'].loc[(df_4['시군구'] == '{}'.format(k))]\n",
    "    #경기합 데이터프레임의 사용량 열에 기군구가 가평군인 사용량 데이터만 뽑아내기\n",
    "    # GyeonGiHap = GyeonGiHap['사용량']\n",
    "\n",
    "    b = GyeonGiHap['사용량'].tolist()\n",
    "    c = HOSU['고객호수'].tolist()\n",
    "\n",
    "\n",
    "    #각지역별 사용량 리스트화\n",
    "    int_list  , int_list2=[] , []\n",
    "    for i in b:\n",
    "        i = re.sub(\",\" , \"\" , i)\n",
    "        #콤마 없애기\n",
    "        int_list.append(int(i))\n",
    "        #int_list에 각지역별 사용량 int로 저장\n",
    "    print(int_list)\n",
    "    sum=0\n",
    "    for i in c:\n",
    "        i = re.sub(\",\" , \"\" , i)\n",
    "        int_list2.append(int(i))\n",
    "\n",
    "    for j in int_list:\n",
    "\n",
    "        sum+= j\n",
    "    sum2.append(sum)\n",
    "    sum = 0\n",
    "    for j in int_list2: #고객호수 추출하여 더하기\n",
    "\n",
    "        sum+= j\n",
    "    sum3.append(sum//36) #6개월 치로 나눠야하나?!\n",
    "\n",
    "\n",
    "\n",
    "\n",
    "print(\"{} 지역별 합계 : \".format(City) , sum2)\n",
    "print(\"{} 고객호수 평균: \".format(City) , sum3)"
   ],
   "metadata": {
    "collapsed": false,
    "pycharm": {
     "name": "#%%\n"
    }
   }
  },
  {
   "cell_type": "markdown",
   "source": [
    "### 2. 날짜 체크!!!!!!!!!!!!!!!!!!!!!!!!!!!!!!!!!!!!!!!!!!!!!!"
   ],
   "metadata": {
    "collapsed": false,
    "pycharm": {
     "name": "#%% md\n"
    }
   }
  },
  {
   "cell_type": "code",
   "execution_count": 15,
   "outputs": [
    {
     "name": "stderr",
     "output_type": "stream",
     "text": [
      "C:\\Users\\user\\AppData\\Local\\Temp\\ipykernel_11580\\1481603074.py:4: FutureWarning: The frame.append method is deprecated and will be removed from pandas in a future version. Use pandas.concat instead.\n",
      "  Hap = Hap.append({'년월' :'202101-202106'  , '시구' : '{}'.format(City) , '시군구' : '{}'.format(SIGUNGU[i]) , '계약구분' : '합계' , '고객호수(호)' : sum3[i] ,  '사용량(kWh)' : sum2[i]} , ignore_index=True) #년월 파일마다 수정하기\n",
      "C:\\Users\\user\\AppData\\Local\\Temp\\ipykernel_11580\\1481603074.py:4: FutureWarning: The frame.append method is deprecated and will be removed from pandas in a future version. Use pandas.concat instead.\n",
      "  Hap = Hap.append({'년월' :'202101-202106'  , '시구' : '{}'.format(City) , '시군구' : '{}'.format(SIGUNGU[i]) , '계약구분' : '합계' , '고객호수(호)' : sum3[i] ,  '사용량(kWh)' : sum2[i]} , ignore_index=True) #년월 파일마다 수정하기\n",
      "C:\\Users\\user\\AppData\\Local\\Temp\\ipykernel_11580\\1481603074.py:4: FutureWarning: The frame.append method is deprecated and will be removed from pandas in a future version. Use pandas.concat instead.\n",
      "  Hap = Hap.append({'년월' :'202101-202106'  , '시구' : '{}'.format(City) , '시군구' : '{}'.format(SIGUNGU[i]) , '계약구분' : '합계' , '고객호수(호)' : sum3[i] ,  '사용량(kWh)' : sum2[i]} , ignore_index=True) #년월 파일마다 수정하기\n",
      "C:\\Users\\user\\AppData\\Local\\Temp\\ipykernel_11580\\1481603074.py:4: FutureWarning: The frame.append method is deprecated and will be removed from pandas in a future version. Use pandas.concat instead.\n",
      "  Hap = Hap.append({'년월' :'202101-202106'  , '시구' : '{}'.format(City) , '시군구' : '{}'.format(SIGUNGU[i]) , '계약구분' : '합계' , '고객호수(호)' : sum3[i] ,  '사용량(kWh)' : sum2[i]} , ignore_index=True) #년월 파일마다 수정하기\n",
      "C:\\Users\\user\\AppData\\Local\\Temp\\ipykernel_11580\\1481603074.py:4: FutureWarning: The frame.append method is deprecated and will be removed from pandas in a future version. Use pandas.concat instead.\n",
      "  Hap = Hap.append({'년월' :'202101-202106'  , '시구' : '{}'.format(City) , '시군구' : '{}'.format(SIGUNGU[i]) , '계약구분' : '합계' , '고객호수(호)' : sum3[i] ,  '사용량(kWh)' : sum2[i]} , ignore_index=True) #년월 파일마다 수정하기\n",
      "C:\\Users\\user\\AppData\\Local\\Temp\\ipykernel_11580\\1481603074.py:4: FutureWarning: The frame.append method is deprecated and will be removed from pandas in a future version. Use pandas.concat instead.\n",
      "  Hap = Hap.append({'년월' :'202101-202106'  , '시구' : '{}'.format(City) , '시군구' : '{}'.format(SIGUNGU[i]) , '계약구분' : '합계' , '고객호수(호)' : sum3[i] ,  '사용량(kWh)' : sum2[i]} , ignore_index=True) #년월 파일마다 수정하기\n",
      "C:\\Users\\user\\AppData\\Local\\Temp\\ipykernel_11580\\1481603074.py:4: FutureWarning: The frame.append method is deprecated and will be removed from pandas in a future version. Use pandas.concat instead.\n",
      "  Hap = Hap.append({'년월' :'202101-202106'  , '시구' : '{}'.format(City) , '시군구' : '{}'.format(SIGUNGU[i]) , '계약구분' : '합계' , '고객호수(호)' : sum3[i] ,  '사용량(kWh)' : sum2[i]} , ignore_index=True) #년월 파일마다 수정하기\n",
      "C:\\Users\\user\\AppData\\Local\\Temp\\ipykernel_11580\\1481603074.py:4: FutureWarning: The frame.append method is deprecated and will be removed from pandas in a future version. Use pandas.concat instead.\n",
      "  Hap = Hap.append({'년월' :'202101-202106'  , '시구' : '{}'.format(City) , '시군구' : '{}'.format(SIGUNGU[i]) , '계약구분' : '합계' , '고객호수(호)' : sum3[i] ,  '사용량(kWh)' : sum2[i]} , ignore_index=True) #년월 파일마다 수정하기\n",
      "C:\\Users\\user\\AppData\\Local\\Temp\\ipykernel_11580\\1481603074.py:4: FutureWarning: The frame.append method is deprecated and will be removed from pandas in a future version. Use pandas.concat instead.\n",
      "  Hap = Hap.append({'년월' :'202101-202106'  , '시구' : '{}'.format(City) , '시군구' : '{}'.format(SIGUNGU[i]) , '계약구분' : '합계' , '고객호수(호)' : sum3[i] ,  '사용량(kWh)' : sum2[i]} , ignore_index=True) #년월 파일마다 수정하기\n",
      "C:\\Users\\user\\AppData\\Local\\Temp\\ipykernel_11580\\1481603074.py:4: FutureWarning: The frame.append method is deprecated and will be removed from pandas in a future version. Use pandas.concat instead.\n",
      "  Hap = Hap.append({'년월' :'202101-202106'  , '시구' : '{}'.format(City) , '시군구' : '{}'.format(SIGUNGU[i]) , '계약구분' : '합계' , '고객호수(호)' : sum3[i] ,  '사용량(kWh)' : sum2[i]} , ignore_index=True) #년월 파일마다 수정하기\n"
     ]
    },
    {
     "data": {
      "text/plain": "               년월     시구  시군구 계약구분  고객호수(호)     사용량(kWh)\n0          202101  인천광역시  강화군   합계  82,249   66,643,673 \n1          202102  인천광역시  강화군   합계  82,379   64,764,558 \n2          202103  인천광역시  강화군   합계  88,368   52,599,336 \n3          202104  인천광역시  강화군   합계  87,213   47,447,268 \n4          202105  인천광역시  강화군   합계  83,432   42,020,119 \n..            ...    ...  ...  ...      ...          ...\n65  202101-202106  인천광역시  부평구   합계    26405   1123905020\n66  202101-202106  인천광역시   서구   합계    27655   2884801358\n67  202101-202106  인천광역시  연수구   합계    10495   1291314888\n68  202101-202106  인천광역시  옹진군   합계     4233    137659091\n69  202101-202106  인천광역시   중구   합계    10196   1145142420\n\n[70 rows x 6 columns]",
      "text/html": "<div>\n<style scoped>\n    .dataframe tbody tr th:only-of-type {\n        vertical-align: middle;\n    }\n\n    .dataframe tbody tr th {\n        vertical-align: top;\n    }\n\n    .dataframe thead th {\n        text-align: right;\n    }\n</style>\n<table border=\"1\" class=\"dataframe\">\n  <thead>\n    <tr style=\"text-align: right;\">\n      <th></th>\n      <th>년월</th>\n      <th>시구</th>\n      <th>시군구</th>\n      <th>계약구분</th>\n      <th>고객호수(호)</th>\n      <th>사용량(kWh)</th>\n    </tr>\n  </thead>\n  <tbody>\n    <tr>\n      <th>0</th>\n      <td>202101</td>\n      <td>인천광역시</td>\n      <td>강화군</td>\n      <td>합계</td>\n      <td>82,249</td>\n      <td>66,643,673</td>\n    </tr>\n    <tr>\n      <th>1</th>\n      <td>202102</td>\n      <td>인천광역시</td>\n      <td>강화군</td>\n      <td>합계</td>\n      <td>82,379</td>\n      <td>64,764,558</td>\n    </tr>\n    <tr>\n      <th>2</th>\n      <td>202103</td>\n      <td>인천광역시</td>\n      <td>강화군</td>\n      <td>합계</td>\n      <td>88,368</td>\n      <td>52,599,336</td>\n    </tr>\n    <tr>\n      <th>3</th>\n      <td>202104</td>\n      <td>인천광역시</td>\n      <td>강화군</td>\n      <td>합계</td>\n      <td>87,213</td>\n      <td>47,447,268</td>\n    </tr>\n    <tr>\n      <th>4</th>\n      <td>202105</td>\n      <td>인천광역시</td>\n      <td>강화군</td>\n      <td>합계</td>\n      <td>83,432</td>\n      <td>42,020,119</td>\n    </tr>\n    <tr>\n      <th>...</th>\n      <td>...</td>\n      <td>...</td>\n      <td>...</td>\n      <td>...</td>\n      <td>...</td>\n      <td>...</td>\n    </tr>\n    <tr>\n      <th>65</th>\n      <td>202101-202106</td>\n      <td>인천광역시</td>\n      <td>부평구</td>\n      <td>합계</td>\n      <td>26405</td>\n      <td>1123905020</td>\n    </tr>\n    <tr>\n      <th>66</th>\n      <td>202101-202106</td>\n      <td>인천광역시</td>\n      <td>서구</td>\n      <td>합계</td>\n      <td>27655</td>\n      <td>2884801358</td>\n    </tr>\n    <tr>\n      <th>67</th>\n      <td>202101-202106</td>\n      <td>인천광역시</td>\n      <td>연수구</td>\n      <td>합계</td>\n      <td>10495</td>\n      <td>1291314888</td>\n    </tr>\n    <tr>\n      <th>68</th>\n      <td>202101-202106</td>\n      <td>인천광역시</td>\n      <td>옹진군</td>\n      <td>합계</td>\n      <td>4233</td>\n      <td>137659091</td>\n    </tr>\n    <tr>\n      <th>69</th>\n      <td>202101-202106</td>\n      <td>인천광역시</td>\n      <td>중구</td>\n      <td>합계</td>\n      <td>10196</td>\n      <td>1145142420</td>\n    </tr>\n  </tbody>\n</table>\n<p>70 rows × 6 columns</p>\n</div>"
     },
     "execution_count": 15,
     "metadata": {},
     "output_type": "execute_result"
    }
   ],
   "source": [
    "Hap = df_4.copy()\n",
    "Hap.reset_index(drop=True , inplace = True)\n",
    "for i in range(len(SIGUNGU)):\n",
    "    Hap = Hap.append({'년월' :'202101-202106'  , '시구' : '{}'.format(City) , '시군구' : '{}'.format(SIGUNGU[i]) , '계약구분' : '합계' , '고객호수(호)' : sum3[i] ,  '사용량(kWh)' : sum2[i]} , ignore_index=True) #년월 파일마다 수정하기\n",
    "Hap"
   ],
   "metadata": {
    "collapsed": false,
    "pycharm": {
     "name": "#%%\n"
    }
   }
  },
  {
   "cell_type": "markdown",
   "source": [
    "### 3. 날짜 변경!!!!!!!!!!!!!!!!!!!!!!!!!!!!!!!"
   ],
   "metadata": {
    "collapsed": false,
    "pycharm": {
     "name": "#%% md\n"
    }
   }
  },
  {
   "cell_type": "code",
   "execution_count": 16,
   "outputs": [
    {
     "data": {
      "text/plain": "               년월     시구   시군구 계약구분 고객호수(호)    사용량(kWh)\n60  202101-202106  인천광역시   강화군   합계   14098   314281740\n61  202101-202106  인천광역시   계양구   합계   16250   637180982\n62  202101-202106  인천광역시   남동구   합계   26276  1940823892\n63  202101-202106  인천광역시    동구   합계    4330  1896850674\n64  202101-202106  인천광역시  미추홀구   합계   32074   854516128\n65  202101-202106  인천광역시   부평구   합계   26405  1123905020\n66  202101-202106  인천광역시    서구   합계   27655  2884801358\n67  202101-202106  인천광역시   연수구   합계   10495  1291314888\n68  202101-202106  인천광역시   옹진군   합계    4233   137659091\n69  202101-202106  인천광역시    중구   합계   10196  1145142420",
      "text/html": "<div>\n<style scoped>\n    .dataframe tbody tr th:only-of-type {\n        vertical-align: middle;\n    }\n\n    .dataframe tbody tr th {\n        vertical-align: top;\n    }\n\n    .dataframe thead th {\n        text-align: right;\n    }\n</style>\n<table border=\"1\" class=\"dataframe\">\n  <thead>\n    <tr style=\"text-align: right;\">\n      <th></th>\n      <th>년월</th>\n      <th>시구</th>\n      <th>시군구</th>\n      <th>계약구분</th>\n      <th>고객호수(호)</th>\n      <th>사용량(kWh)</th>\n    </tr>\n  </thead>\n  <tbody>\n    <tr>\n      <th>60</th>\n      <td>202101-202106</td>\n      <td>인천광역시</td>\n      <td>강화군</td>\n      <td>합계</td>\n      <td>14098</td>\n      <td>314281740</td>\n    </tr>\n    <tr>\n      <th>61</th>\n      <td>202101-202106</td>\n      <td>인천광역시</td>\n      <td>계양구</td>\n      <td>합계</td>\n      <td>16250</td>\n      <td>637180982</td>\n    </tr>\n    <tr>\n      <th>62</th>\n      <td>202101-202106</td>\n      <td>인천광역시</td>\n      <td>남동구</td>\n      <td>합계</td>\n      <td>26276</td>\n      <td>1940823892</td>\n    </tr>\n    <tr>\n      <th>63</th>\n      <td>202101-202106</td>\n      <td>인천광역시</td>\n      <td>동구</td>\n      <td>합계</td>\n      <td>4330</td>\n      <td>1896850674</td>\n    </tr>\n    <tr>\n      <th>64</th>\n      <td>202101-202106</td>\n      <td>인천광역시</td>\n      <td>미추홀구</td>\n      <td>합계</td>\n      <td>32074</td>\n      <td>854516128</td>\n    </tr>\n    <tr>\n      <th>65</th>\n      <td>202101-202106</td>\n      <td>인천광역시</td>\n      <td>부평구</td>\n      <td>합계</td>\n      <td>26405</td>\n      <td>1123905020</td>\n    </tr>\n    <tr>\n      <th>66</th>\n      <td>202101-202106</td>\n      <td>인천광역시</td>\n      <td>서구</td>\n      <td>합계</td>\n      <td>27655</td>\n      <td>2884801358</td>\n    </tr>\n    <tr>\n      <th>67</th>\n      <td>202101-202106</td>\n      <td>인천광역시</td>\n      <td>연수구</td>\n      <td>합계</td>\n      <td>10495</td>\n      <td>1291314888</td>\n    </tr>\n    <tr>\n      <th>68</th>\n      <td>202101-202106</td>\n      <td>인천광역시</td>\n      <td>옹진군</td>\n      <td>합계</td>\n      <td>4233</td>\n      <td>137659091</td>\n    </tr>\n    <tr>\n      <th>69</th>\n      <td>202101-202106</td>\n      <td>인천광역시</td>\n      <td>중구</td>\n      <td>합계</td>\n      <td>10196</td>\n      <td>1145142420</td>\n    </tr>\n  </tbody>\n</table>\n</div>"
     },
     "execution_count": 16,
     "metadata": {},
     "output_type": "execute_result"
    }
   ],
   "source": [
    "Hap = Hap.loc[Hap['년월'] == '202101-202106']\n",
    "Hap"
   ],
   "metadata": {
    "collapsed": false,
    "pycharm": {
     "name": "#%%\n"
    }
   }
  },
  {
   "cell_type": "code",
   "execution_count": 17,
   "outputs": [],
   "source": [
    "# SIGUNGU = SIGUNGU[:1]\n",
    "# SIGUNGU\n",
    "#for i in SIGUNGU:\n",
    "#print('{}'.format(i))\n",
    "# df_3 = df_3.loc[(df_3['시군구'] == '가평군')]\n",
    "#\n",
    "# df_3"
   ],
   "metadata": {
    "collapsed": false,
    "pycharm": {
     "name": "#%%\n"
    }
   }
  },
  {
   "cell_type": "code",
   "execution_count": 18,
   "outputs": [
    {
     "data": {
      "text/plain": "['년월', '시구', '시군구', '계약구분', '고객호수(호)', '사용량(kWh)']"
     },
     "execution_count": 18,
     "metadata": {},
     "output_type": "execute_result"
    }
   ],
   "source": [
    "a = (df_3.columns).tolist()\n",
    "\n",
    "a"
   ],
   "metadata": {
    "collapsed": false,
    "pycharm": {
     "name": "#%%\n"
    }
   }
  },
  {
   "cell_type": "code",
   "execution_count": 19,
   "outputs": [
    {
     "data": {
      "text/plain": "         년월     시구   시군구 계약구분  고객호수(호)      사용량(kWh)\n53   202101  인천광역시   강화군  일반용   8,311    21,297,105 \n133  202102  인천광역시   강화군  일반용   8,291    20,556,457 \n213  202103  인천광역시   강화군  일반용   8,290    16,274,977 \n293  202104  인천광역시   강화군  일반용   8,307    14,241,213 \n373  202105  인천광역시   강화군  일반용   8,335    12,581,695 \n453  202106  인천광역시   강화군  일반용   8,367    12,657,271 \n61   202101  인천광역시   계양구  일반용  12,585    42,456,752 \n141  202102  인천광역시   계양구  일반용  12,575    39,997,625 \n221  202103  인천광역시   계양구  일반용  12,565    33,255,660 \n301  202104  인천광역시   계양구  일반용  12,571    31,368,927 \n381  202105  인천광역시   계양구  일반용  12,578    30,268,677 \n461  202106  인천광역시   계양구  일반용  12,600    33,816,421 \n69   202101  인천광역시   남동구  일반용  23,748    89,421,469 \n149  202102  인천광역시   남동구  일반용  23,738    84,216,147 \n229  202103  인천광역시   남동구  일반용  23,750    70,310,611 \n309  202104  인천광역시   남동구  일반용  23,815    65,883,894 \n389  202105  인천광역시   남동구  일반용  23,817    62,851,821 \n469  202106  인천광역시   남동구  일반용  23,867    71,410,919 \n77   202101  인천광역시    동구  일반용   3,682    11,881,520 \n157  202102  인천광역시    동구  일반용   3,673    11,138,903 \n237  202103  인천광역시    동구  일반용   3,672     8,923,880 \n317  202104  인천광역시    동구  일반용   3,679     8,086,524 \n397  202105  인천광역시    동구  일반용   3,677     7,390,387 \n477  202106  인천광역시    동구  일반용   3,686     8,072,844 \n85   202101  인천광역시  미추홀구  일반용  21,460    61,372,361 \n165  202102  인천광역시  미추홀구  일반용  21,485    58,870,465 \n245  202103  인천광역시  미추홀구  일반용  21,487    48,201,105 \n325  202104  인천광역시  미추홀구  일반용  21,458    45,097,097 \n405  202105  인천광역시  미추홀구  일반용  21,448    42,105,043 \n485  202106  인천광역시  미추홀구  일반용  21,512    46,693,205 \n93   202101  인천광역시   부평구  일반용  21,891    75,737,287 \n173  202102  인천광역시   부평구  일반용  21,868    71,048,643 \n253  202103  인천광역시   부평구  일반용  21,856    60,147,634 \n333  202104  인천광역시   부평구  일반용  21,875    55,736,982 \n413  202105  인천광역시   부평구  일반용  21,910    52,597,252 \n493  202106  인천광역시   부평구  일반용  21,889    59,808,517 \n101  202101  인천광역시    서구  일반용  24,301   109,892,854 \n181  202102  인천광역시    서구  일반용  24,377   103,587,206 \n261  202103  인천광역시    서구  일반용  24,401    87,770,838 \n341  202104  인천광역시    서구  일반용  24,468    82,244,289 \n421  202105  인천광역시    서구  일반용  24,552    78,311,239 \n501  202106  인천광역시    서구  일반용  24,655    86,848,420 \n109  202101  인천광역시   연수구  일반용   9,814    69,593,901 \n189  202102  인천광역시   연수구  일반용   9,816    63,767,054 \n269  202103  인천광역시   연수구  일반용   9,804    57,677,822 \n349  202104  인천광역시   연수구  일반용   9,856    54,702,906 \n429  202105  인천광역시   연수구  일반용   9,889    54,365,209 \n509  202106  인천광역시   연수구  일반용   9,926    63,204,251 \n117  202101  인천광역시   옹진군  일반용   4,026    12,298,084 \n197  202102  인천광역시   옹진군  일반용   4,023    11,849,167 \n277  202103  인천광역시   옹진군  일반용   4,033     9,731,004 \n357  202104  인천광역시   옹진군  일반용   4,026     9,129,105 \n437  202105  인천광역시   옹진군  일반용   4,032     8,166,466 \n517  202106  인천광역시   옹진군  일반용   4,007     8,041,724 \n125  202101  인천광역시    중구  일반용  11,448   100,902,433 \n205  202102  인천광역시    중구  일반용  11,477    91,338,300 \n285  202103  인천광역시    중구  일반용  11,478    84,300,623 \n365  202104  인천광역시    중구  일반용  11,512    77,893,993 \n445  202105  인천광역시    중구  일반용  11,540    78,289,146 \n525  202106  인천광역시    중구  일반용  11,593    86,513,167 ",
      "text/html": "<div>\n<style scoped>\n    .dataframe tbody tr th:only-of-type {\n        vertical-align: middle;\n    }\n\n    .dataframe tbody tr th {\n        vertical-align: top;\n    }\n\n    .dataframe thead th {\n        text-align: right;\n    }\n</style>\n<table border=\"1\" class=\"dataframe\">\n  <thead>\n    <tr style=\"text-align: right;\">\n      <th></th>\n      <th>년월</th>\n      <th>시구</th>\n      <th>시군구</th>\n      <th>계약구분</th>\n      <th>고객호수(호)</th>\n      <th>사용량(kWh)</th>\n    </tr>\n  </thead>\n  <tbody>\n    <tr>\n      <th>53</th>\n      <td>202101</td>\n      <td>인천광역시</td>\n      <td>강화군</td>\n      <td>일반용</td>\n      <td>8,311</td>\n      <td>21,297,105</td>\n    </tr>\n    <tr>\n      <th>133</th>\n      <td>202102</td>\n      <td>인천광역시</td>\n      <td>강화군</td>\n      <td>일반용</td>\n      <td>8,291</td>\n      <td>20,556,457</td>\n    </tr>\n    <tr>\n      <th>213</th>\n      <td>202103</td>\n      <td>인천광역시</td>\n      <td>강화군</td>\n      <td>일반용</td>\n      <td>8,290</td>\n      <td>16,274,977</td>\n    </tr>\n    <tr>\n      <th>293</th>\n      <td>202104</td>\n      <td>인천광역시</td>\n      <td>강화군</td>\n      <td>일반용</td>\n      <td>8,307</td>\n      <td>14,241,213</td>\n    </tr>\n    <tr>\n      <th>373</th>\n      <td>202105</td>\n      <td>인천광역시</td>\n      <td>강화군</td>\n      <td>일반용</td>\n      <td>8,335</td>\n      <td>12,581,695</td>\n    </tr>\n    <tr>\n      <th>453</th>\n      <td>202106</td>\n      <td>인천광역시</td>\n      <td>강화군</td>\n      <td>일반용</td>\n      <td>8,367</td>\n      <td>12,657,271</td>\n    </tr>\n    <tr>\n      <th>61</th>\n      <td>202101</td>\n      <td>인천광역시</td>\n      <td>계양구</td>\n      <td>일반용</td>\n      <td>12,585</td>\n      <td>42,456,752</td>\n    </tr>\n    <tr>\n      <th>141</th>\n      <td>202102</td>\n      <td>인천광역시</td>\n      <td>계양구</td>\n      <td>일반용</td>\n      <td>12,575</td>\n      <td>39,997,625</td>\n    </tr>\n    <tr>\n      <th>221</th>\n      <td>202103</td>\n      <td>인천광역시</td>\n      <td>계양구</td>\n      <td>일반용</td>\n      <td>12,565</td>\n      <td>33,255,660</td>\n    </tr>\n    <tr>\n      <th>301</th>\n      <td>202104</td>\n      <td>인천광역시</td>\n      <td>계양구</td>\n      <td>일반용</td>\n      <td>12,571</td>\n      <td>31,368,927</td>\n    </tr>\n    <tr>\n      <th>381</th>\n      <td>202105</td>\n      <td>인천광역시</td>\n      <td>계양구</td>\n      <td>일반용</td>\n      <td>12,578</td>\n      <td>30,268,677</td>\n    </tr>\n    <tr>\n      <th>461</th>\n      <td>202106</td>\n      <td>인천광역시</td>\n      <td>계양구</td>\n      <td>일반용</td>\n      <td>12,600</td>\n      <td>33,816,421</td>\n    </tr>\n    <tr>\n      <th>69</th>\n      <td>202101</td>\n      <td>인천광역시</td>\n      <td>남동구</td>\n      <td>일반용</td>\n      <td>23,748</td>\n      <td>89,421,469</td>\n    </tr>\n    <tr>\n      <th>149</th>\n      <td>202102</td>\n      <td>인천광역시</td>\n      <td>남동구</td>\n      <td>일반용</td>\n      <td>23,738</td>\n      <td>84,216,147</td>\n    </tr>\n    <tr>\n      <th>229</th>\n      <td>202103</td>\n      <td>인천광역시</td>\n      <td>남동구</td>\n      <td>일반용</td>\n      <td>23,750</td>\n      <td>70,310,611</td>\n    </tr>\n    <tr>\n      <th>309</th>\n      <td>202104</td>\n      <td>인천광역시</td>\n      <td>남동구</td>\n      <td>일반용</td>\n      <td>23,815</td>\n      <td>65,883,894</td>\n    </tr>\n    <tr>\n      <th>389</th>\n      <td>202105</td>\n      <td>인천광역시</td>\n      <td>남동구</td>\n      <td>일반용</td>\n      <td>23,817</td>\n      <td>62,851,821</td>\n    </tr>\n    <tr>\n      <th>469</th>\n      <td>202106</td>\n      <td>인천광역시</td>\n      <td>남동구</td>\n      <td>일반용</td>\n      <td>23,867</td>\n      <td>71,410,919</td>\n    </tr>\n    <tr>\n      <th>77</th>\n      <td>202101</td>\n      <td>인천광역시</td>\n      <td>동구</td>\n      <td>일반용</td>\n      <td>3,682</td>\n      <td>11,881,520</td>\n    </tr>\n    <tr>\n      <th>157</th>\n      <td>202102</td>\n      <td>인천광역시</td>\n      <td>동구</td>\n      <td>일반용</td>\n      <td>3,673</td>\n      <td>11,138,903</td>\n    </tr>\n    <tr>\n      <th>237</th>\n      <td>202103</td>\n      <td>인천광역시</td>\n      <td>동구</td>\n      <td>일반용</td>\n      <td>3,672</td>\n      <td>8,923,880</td>\n    </tr>\n    <tr>\n      <th>317</th>\n      <td>202104</td>\n      <td>인천광역시</td>\n      <td>동구</td>\n      <td>일반용</td>\n      <td>3,679</td>\n      <td>8,086,524</td>\n    </tr>\n    <tr>\n      <th>397</th>\n      <td>202105</td>\n      <td>인천광역시</td>\n      <td>동구</td>\n      <td>일반용</td>\n      <td>3,677</td>\n      <td>7,390,387</td>\n    </tr>\n    <tr>\n      <th>477</th>\n      <td>202106</td>\n      <td>인천광역시</td>\n      <td>동구</td>\n      <td>일반용</td>\n      <td>3,686</td>\n      <td>8,072,844</td>\n    </tr>\n    <tr>\n      <th>85</th>\n      <td>202101</td>\n      <td>인천광역시</td>\n      <td>미추홀구</td>\n      <td>일반용</td>\n      <td>21,460</td>\n      <td>61,372,361</td>\n    </tr>\n    <tr>\n      <th>165</th>\n      <td>202102</td>\n      <td>인천광역시</td>\n      <td>미추홀구</td>\n      <td>일반용</td>\n      <td>21,485</td>\n      <td>58,870,465</td>\n    </tr>\n    <tr>\n      <th>245</th>\n      <td>202103</td>\n      <td>인천광역시</td>\n      <td>미추홀구</td>\n      <td>일반용</td>\n      <td>21,487</td>\n      <td>48,201,105</td>\n    </tr>\n    <tr>\n      <th>325</th>\n      <td>202104</td>\n      <td>인천광역시</td>\n      <td>미추홀구</td>\n      <td>일반용</td>\n      <td>21,458</td>\n      <td>45,097,097</td>\n    </tr>\n    <tr>\n      <th>405</th>\n      <td>202105</td>\n      <td>인천광역시</td>\n      <td>미추홀구</td>\n      <td>일반용</td>\n      <td>21,448</td>\n      <td>42,105,043</td>\n    </tr>\n    <tr>\n      <th>485</th>\n      <td>202106</td>\n      <td>인천광역시</td>\n      <td>미추홀구</td>\n      <td>일반용</td>\n      <td>21,512</td>\n      <td>46,693,205</td>\n    </tr>\n    <tr>\n      <th>93</th>\n      <td>202101</td>\n      <td>인천광역시</td>\n      <td>부평구</td>\n      <td>일반용</td>\n      <td>21,891</td>\n      <td>75,737,287</td>\n    </tr>\n    <tr>\n      <th>173</th>\n      <td>202102</td>\n      <td>인천광역시</td>\n      <td>부평구</td>\n      <td>일반용</td>\n      <td>21,868</td>\n      <td>71,048,643</td>\n    </tr>\n    <tr>\n      <th>253</th>\n      <td>202103</td>\n      <td>인천광역시</td>\n      <td>부평구</td>\n      <td>일반용</td>\n      <td>21,856</td>\n      <td>60,147,634</td>\n    </tr>\n    <tr>\n      <th>333</th>\n      <td>202104</td>\n      <td>인천광역시</td>\n      <td>부평구</td>\n      <td>일반용</td>\n      <td>21,875</td>\n      <td>55,736,982</td>\n    </tr>\n    <tr>\n      <th>413</th>\n      <td>202105</td>\n      <td>인천광역시</td>\n      <td>부평구</td>\n      <td>일반용</td>\n      <td>21,910</td>\n      <td>52,597,252</td>\n    </tr>\n    <tr>\n      <th>493</th>\n      <td>202106</td>\n      <td>인천광역시</td>\n      <td>부평구</td>\n      <td>일반용</td>\n      <td>21,889</td>\n      <td>59,808,517</td>\n    </tr>\n    <tr>\n      <th>101</th>\n      <td>202101</td>\n      <td>인천광역시</td>\n      <td>서구</td>\n      <td>일반용</td>\n      <td>24,301</td>\n      <td>109,892,854</td>\n    </tr>\n    <tr>\n      <th>181</th>\n      <td>202102</td>\n      <td>인천광역시</td>\n      <td>서구</td>\n      <td>일반용</td>\n      <td>24,377</td>\n      <td>103,587,206</td>\n    </tr>\n    <tr>\n      <th>261</th>\n      <td>202103</td>\n      <td>인천광역시</td>\n      <td>서구</td>\n      <td>일반용</td>\n      <td>24,401</td>\n      <td>87,770,838</td>\n    </tr>\n    <tr>\n      <th>341</th>\n      <td>202104</td>\n      <td>인천광역시</td>\n      <td>서구</td>\n      <td>일반용</td>\n      <td>24,468</td>\n      <td>82,244,289</td>\n    </tr>\n    <tr>\n      <th>421</th>\n      <td>202105</td>\n      <td>인천광역시</td>\n      <td>서구</td>\n      <td>일반용</td>\n      <td>24,552</td>\n      <td>78,311,239</td>\n    </tr>\n    <tr>\n      <th>501</th>\n      <td>202106</td>\n      <td>인천광역시</td>\n      <td>서구</td>\n      <td>일반용</td>\n      <td>24,655</td>\n      <td>86,848,420</td>\n    </tr>\n    <tr>\n      <th>109</th>\n      <td>202101</td>\n      <td>인천광역시</td>\n      <td>연수구</td>\n      <td>일반용</td>\n      <td>9,814</td>\n      <td>69,593,901</td>\n    </tr>\n    <tr>\n      <th>189</th>\n      <td>202102</td>\n      <td>인천광역시</td>\n      <td>연수구</td>\n      <td>일반용</td>\n      <td>9,816</td>\n      <td>63,767,054</td>\n    </tr>\n    <tr>\n      <th>269</th>\n      <td>202103</td>\n      <td>인천광역시</td>\n      <td>연수구</td>\n      <td>일반용</td>\n      <td>9,804</td>\n      <td>57,677,822</td>\n    </tr>\n    <tr>\n      <th>349</th>\n      <td>202104</td>\n      <td>인천광역시</td>\n      <td>연수구</td>\n      <td>일반용</td>\n      <td>9,856</td>\n      <td>54,702,906</td>\n    </tr>\n    <tr>\n      <th>429</th>\n      <td>202105</td>\n      <td>인천광역시</td>\n      <td>연수구</td>\n      <td>일반용</td>\n      <td>9,889</td>\n      <td>54,365,209</td>\n    </tr>\n    <tr>\n      <th>509</th>\n      <td>202106</td>\n      <td>인천광역시</td>\n      <td>연수구</td>\n      <td>일반용</td>\n      <td>9,926</td>\n      <td>63,204,251</td>\n    </tr>\n    <tr>\n      <th>117</th>\n      <td>202101</td>\n      <td>인천광역시</td>\n      <td>옹진군</td>\n      <td>일반용</td>\n      <td>4,026</td>\n      <td>12,298,084</td>\n    </tr>\n    <tr>\n      <th>197</th>\n      <td>202102</td>\n      <td>인천광역시</td>\n      <td>옹진군</td>\n      <td>일반용</td>\n      <td>4,023</td>\n      <td>11,849,167</td>\n    </tr>\n    <tr>\n      <th>277</th>\n      <td>202103</td>\n      <td>인천광역시</td>\n      <td>옹진군</td>\n      <td>일반용</td>\n      <td>4,033</td>\n      <td>9,731,004</td>\n    </tr>\n    <tr>\n      <th>357</th>\n      <td>202104</td>\n      <td>인천광역시</td>\n      <td>옹진군</td>\n      <td>일반용</td>\n      <td>4,026</td>\n      <td>9,129,105</td>\n    </tr>\n    <tr>\n      <th>437</th>\n      <td>202105</td>\n      <td>인천광역시</td>\n      <td>옹진군</td>\n      <td>일반용</td>\n      <td>4,032</td>\n      <td>8,166,466</td>\n    </tr>\n    <tr>\n      <th>517</th>\n      <td>202106</td>\n      <td>인천광역시</td>\n      <td>옹진군</td>\n      <td>일반용</td>\n      <td>4,007</td>\n      <td>8,041,724</td>\n    </tr>\n    <tr>\n      <th>125</th>\n      <td>202101</td>\n      <td>인천광역시</td>\n      <td>중구</td>\n      <td>일반용</td>\n      <td>11,448</td>\n      <td>100,902,433</td>\n    </tr>\n    <tr>\n      <th>205</th>\n      <td>202102</td>\n      <td>인천광역시</td>\n      <td>중구</td>\n      <td>일반용</td>\n      <td>11,477</td>\n      <td>91,338,300</td>\n    </tr>\n    <tr>\n      <th>285</th>\n      <td>202103</td>\n      <td>인천광역시</td>\n      <td>중구</td>\n      <td>일반용</td>\n      <td>11,478</td>\n      <td>84,300,623</td>\n    </tr>\n    <tr>\n      <th>365</th>\n      <td>202104</td>\n      <td>인천광역시</td>\n      <td>중구</td>\n      <td>일반용</td>\n      <td>11,512</td>\n      <td>77,893,993</td>\n    </tr>\n    <tr>\n      <th>445</th>\n      <td>202105</td>\n      <td>인천광역시</td>\n      <td>중구</td>\n      <td>일반용</td>\n      <td>11,540</td>\n      <td>78,289,146</td>\n    </tr>\n    <tr>\n      <th>525</th>\n      <td>202106</td>\n      <td>인천광역시</td>\n      <td>중구</td>\n      <td>일반용</td>\n      <td>11,593</td>\n      <td>86,513,167</td>\n    </tr>\n  </tbody>\n</table>\n</div>"
     },
     "execution_count": 19,
     "metadata": {},
     "output_type": "execute_result"
    }
   ],
   "source": [
    "df_3"
   ],
   "metadata": {
    "collapsed": false,
    "pycharm": {
     "name": "#%%\n"
    }
   }
  },
  {
   "cell_type": "code",
   "execution_count": 20,
   "outputs": [],
   "source": [
    "# GyeonGiHap = pd.DataFrame([] , columns = a)\n",
    "# GyeonGiHap['사용량']= df_3['사용량(kWh)'].loc[(df_3['시군구'] == '{가평군}')]\n",
    "# GyeonGiHap"
   ],
   "metadata": {
    "collapsed": false,
    "pycharm": {
     "name": "#%%\n"
    }
   }
  },
  {
   "cell_type": "code",
   "execution_count": 21,
   "outputs": [
    {
     "name": "stdout",
     "output_type": "stream",
     "text": [
      "[21297105, 20556457, 16274977, 14241213, 12581695, 12657271]\n",
      "[42456752, 39997625, 33255660, 31368927, 30268677, 33816421]\n",
      "[89421469, 84216147, 70310611, 65883894, 62851821, 71410919]\n",
      "[11881520, 11138903, 8923880, 8086524, 7390387, 8072844]\n",
      "[61372361, 58870465, 48201105, 45097097, 42105043, 46693205]\n",
      "[75737287, 71048643, 60147634, 55736982, 52597252, 59808517]\n",
      "[109892854, 103587206, 87770838, 82244289, 78311239, 86848420]\n",
      "[69593901, 63767054, 57677822, 54702906, 54365209, 63204251]\n",
      "[12298084, 11849167, 9731004, 9129105, 8166466, 8041724]\n",
      "[100902433, 91338300, 84300623, 77893993, 78289146, 86513167]\n",
      "인천광역시 지역별 일반용 합계 :  [97608718, 211164062, 444094861, 55494058, 302339276, 375076315, 548654846, 363311143, 59215550, 519237662]\n",
      "인천광역시 고객호수 평균:  [8316, 12579, 23789, 3678, 21475, 21881, 24459, 9850, 4024, 11508]\n"
     ]
    }
   ],
   "source": [
    "sum2 , sum3 =[] , []\n",
    "for k in SIGUNGU:\n",
    "    GyeonGiHap = pd.DataFrame([] , columns = a)\n",
    "    HOSU = pd.DataFrame([], columns = a)\n",
    "    GyeonGiHap['사용량']= df_3['사용량(kWh)'].loc[(df_3['시군구'] == '{}'.format(k))]\n",
    "    HOSU['고객호수']= df_3['고객호수(호)'].loc[(df_3['시군구'] == '{}'.format(k))]\n",
    "    #경기합 데이터프레임의 사용량 열에 기군구가 가평군인 사용량 데이터만 뽑아내기\n",
    "    # GyeonGiHap = GyeonGiHap['사용량']\n",
    "\n",
    "    b = GyeonGiHap['사용량'].tolist()\n",
    "    c = HOSU['고객호수'].tolist()\n",
    "\n",
    "\n",
    "    #각지역별 사용량 리스트화\n",
    "    int_list  , int_list2=[] , []\n",
    "    for i in b:\n",
    "        i = re.sub(\",\" , \"\" , i)\n",
    "        #콤마 없애기\n",
    "        int_list.append(int(i))\n",
    "        #int_list에 각지역별 사용량 int로 저장\n",
    "    print(int_list)\n",
    "    sum=0\n",
    "    for i in c:\n",
    "        i = re.sub(\",\" , \"\" , i)\n",
    "        int_list2.append(int(i))\n",
    "\n",
    "    for j in int_list:\n",
    "\n",
    "        sum+= j\n",
    "    sum2.append(sum)\n",
    "    sum = 0\n",
    "    for j in int_list2: #고객호수 추출하여 더하기\n",
    "\n",
    "        sum+= j\n",
    "    sum3.append(sum//6) #6개월 치로 나눠야하나?!\n",
    "\n",
    "\n",
    "\n",
    "\n",
    "print(\"{} 지역별 일반용 합계 : \".format(City) , sum2)\n",
    "print(\"{} 고객호수 평균: \".format(City) , sum3)\n",
    "# GyeonGiHap['합계'] = sum\n",
    "#\n",
    "# GyeonGiHap"
   ],
   "metadata": {
    "collapsed": false,
    "pycharm": {
     "name": "#%%\n"
    }
   }
  },
  {
   "cell_type": "code",
   "execution_count": 22,
   "outputs": [],
   "source": [
    "# df_3 = df_3.loc[(df_3['시군구'] == '가평군')]\n",
    "#\n",
    "# df_3"
   ],
   "metadata": {
    "collapsed": false,
    "pycharm": {
     "name": "#%%\n"
    }
   }
  },
  {
   "cell_type": "code",
   "execution_count": 23,
   "outputs": [],
   "source": [
    "# GyeonGiHap = df_3.copy()\n",
    "# GyeonGiHap.reset_index(drop=True , inplace = True)\n",
    "# GyeonGiHap.append({'년월' : '202107-202112'  , '시구' : '경기도' , '시군구' : '가평군' , '계약구분' : '일반용' , '사용량(kWh)' : sum}, ignore_index=True)"
   ],
   "metadata": {
    "collapsed": false,
    "pycharm": {
     "name": "#%%\n"
    }
   }
  },
  {
   "cell_type": "code",
   "execution_count": 24,
   "outputs": [],
   "source": [
    "# a=[]\n",
    "# for i in SIGUNGU:\n",
    "#     a.append(i)\n",
    "#\n",
    "# print(a)"
   ],
   "metadata": {
    "collapsed": false,
    "pycharm": {
     "name": "#%%\n"
    }
   }
  },
  {
   "cell_type": "markdown",
   "source": [
    "### 4. 년월 체크!!!!!!!!!!!!!!!!!!!!!!!!!!!!!!!!!!!!!!!!!!!!!!!!!!!!!!!!!!!!!!!!!"
   ],
   "metadata": {
    "collapsed": false,
    "pycharm": {
     "name": "#%% md\n"
    }
   }
  },
  {
   "cell_type": "code",
   "execution_count": 25,
   "outputs": [
    {
     "name": "stderr",
     "output_type": "stream",
     "text": [
      "C:\\Users\\user\\AppData\\Local\\Temp\\ipykernel_11580\\1152688266.py:4: FutureWarning: The frame.append method is deprecated and will be removed from pandas in a future version. Use pandas.concat instead.\n",
      "  GyeonGiHap2 = GyeonGiHap2.append({'년월' :'202101-202106'  , '시구' : '{}'.format(City) , '시군구' : '{}'.format(SIGUNGU[i]) , '계약구분' : '일반용' , '고객호수(호)' : sum3[i] ,  '사용량(kWh)' : sum2[i]} , ignore_index=True) #년월 파일마다 수정하기\n",
      "C:\\Users\\user\\AppData\\Local\\Temp\\ipykernel_11580\\1152688266.py:4: FutureWarning: The frame.append method is deprecated and will be removed from pandas in a future version. Use pandas.concat instead.\n",
      "  GyeonGiHap2 = GyeonGiHap2.append({'년월' :'202101-202106'  , '시구' : '{}'.format(City) , '시군구' : '{}'.format(SIGUNGU[i]) , '계약구분' : '일반용' , '고객호수(호)' : sum3[i] ,  '사용량(kWh)' : sum2[i]} , ignore_index=True) #년월 파일마다 수정하기\n",
      "C:\\Users\\user\\AppData\\Local\\Temp\\ipykernel_11580\\1152688266.py:4: FutureWarning: The frame.append method is deprecated and will be removed from pandas in a future version. Use pandas.concat instead.\n",
      "  GyeonGiHap2 = GyeonGiHap2.append({'년월' :'202101-202106'  , '시구' : '{}'.format(City) , '시군구' : '{}'.format(SIGUNGU[i]) , '계약구분' : '일반용' , '고객호수(호)' : sum3[i] ,  '사용량(kWh)' : sum2[i]} , ignore_index=True) #년월 파일마다 수정하기\n",
      "C:\\Users\\user\\AppData\\Local\\Temp\\ipykernel_11580\\1152688266.py:4: FutureWarning: The frame.append method is deprecated and will be removed from pandas in a future version. Use pandas.concat instead.\n",
      "  GyeonGiHap2 = GyeonGiHap2.append({'년월' :'202101-202106'  , '시구' : '{}'.format(City) , '시군구' : '{}'.format(SIGUNGU[i]) , '계약구분' : '일반용' , '고객호수(호)' : sum3[i] ,  '사용량(kWh)' : sum2[i]} , ignore_index=True) #년월 파일마다 수정하기\n",
      "C:\\Users\\user\\AppData\\Local\\Temp\\ipykernel_11580\\1152688266.py:4: FutureWarning: The frame.append method is deprecated and will be removed from pandas in a future version. Use pandas.concat instead.\n",
      "  GyeonGiHap2 = GyeonGiHap2.append({'년월' :'202101-202106'  , '시구' : '{}'.format(City) , '시군구' : '{}'.format(SIGUNGU[i]) , '계약구분' : '일반용' , '고객호수(호)' : sum3[i] ,  '사용량(kWh)' : sum2[i]} , ignore_index=True) #년월 파일마다 수정하기\n",
      "C:\\Users\\user\\AppData\\Local\\Temp\\ipykernel_11580\\1152688266.py:4: FutureWarning: The frame.append method is deprecated and will be removed from pandas in a future version. Use pandas.concat instead.\n",
      "  GyeonGiHap2 = GyeonGiHap2.append({'년월' :'202101-202106'  , '시구' : '{}'.format(City) , '시군구' : '{}'.format(SIGUNGU[i]) , '계약구분' : '일반용' , '고객호수(호)' : sum3[i] ,  '사용량(kWh)' : sum2[i]} , ignore_index=True) #년월 파일마다 수정하기\n",
      "C:\\Users\\user\\AppData\\Local\\Temp\\ipykernel_11580\\1152688266.py:4: FutureWarning: The frame.append method is deprecated and will be removed from pandas in a future version. Use pandas.concat instead.\n",
      "  GyeonGiHap2 = GyeonGiHap2.append({'년월' :'202101-202106'  , '시구' : '{}'.format(City) , '시군구' : '{}'.format(SIGUNGU[i]) , '계약구분' : '일반용' , '고객호수(호)' : sum3[i] ,  '사용량(kWh)' : sum2[i]} , ignore_index=True) #년월 파일마다 수정하기\n",
      "C:\\Users\\user\\AppData\\Local\\Temp\\ipykernel_11580\\1152688266.py:4: FutureWarning: The frame.append method is deprecated and will be removed from pandas in a future version. Use pandas.concat instead.\n",
      "  GyeonGiHap2 = GyeonGiHap2.append({'년월' :'202101-202106'  , '시구' : '{}'.format(City) , '시군구' : '{}'.format(SIGUNGU[i]) , '계약구분' : '일반용' , '고객호수(호)' : sum3[i] ,  '사용량(kWh)' : sum2[i]} , ignore_index=True) #년월 파일마다 수정하기\n",
      "C:\\Users\\user\\AppData\\Local\\Temp\\ipykernel_11580\\1152688266.py:4: FutureWarning: The frame.append method is deprecated and will be removed from pandas in a future version. Use pandas.concat instead.\n",
      "  GyeonGiHap2 = GyeonGiHap2.append({'년월' :'202101-202106'  , '시구' : '{}'.format(City) , '시군구' : '{}'.format(SIGUNGU[i]) , '계약구분' : '일반용' , '고객호수(호)' : sum3[i] ,  '사용량(kWh)' : sum2[i]} , ignore_index=True) #년월 파일마다 수정하기\n",
      "C:\\Users\\user\\AppData\\Local\\Temp\\ipykernel_11580\\1152688266.py:4: FutureWarning: The frame.append method is deprecated and will be removed from pandas in a future version. Use pandas.concat instead.\n",
      "  GyeonGiHap2 = GyeonGiHap2.append({'년월' :'202101-202106'  , '시구' : '{}'.format(City) , '시군구' : '{}'.format(SIGUNGU[i]) , '계약구분' : '일반용' , '고객호수(호)' : sum3[i] ,  '사용량(kWh)' : sum2[i]} , ignore_index=True) #년월 파일마다 수정하기\n"
     ]
    },
    {
     "data": {
      "text/plain": "               년월     시구  시군구 계약구분 고객호수(호)     사용량(kWh)\n0          202101  인천광역시  강화군  일반용  8,311   21,297,105 \n1          202102  인천광역시  강화군  일반용  8,291   20,556,457 \n2          202103  인천광역시  강화군  일반용  8,290   16,274,977 \n3          202104  인천광역시  강화군  일반용  8,307   14,241,213 \n4          202105  인천광역시  강화군  일반용  8,335   12,581,695 \n..            ...    ...  ...  ...     ...          ...\n65  202101-202106  인천광역시  부평구  일반용   21881    375076315\n66  202101-202106  인천광역시   서구  일반용   24459    548654846\n67  202101-202106  인천광역시  연수구  일반용    9850    363311143\n68  202101-202106  인천광역시  옹진군  일반용    4024     59215550\n69  202101-202106  인천광역시   중구  일반용   11508    519237662\n\n[70 rows x 6 columns]",
      "text/html": "<div>\n<style scoped>\n    .dataframe tbody tr th:only-of-type {\n        vertical-align: middle;\n    }\n\n    .dataframe tbody tr th {\n        vertical-align: top;\n    }\n\n    .dataframe thead th {\n        text-align: right;\n    }\n</style>\n<table border=\"1\" class=\"dataframe\">\n  <thead>\n    <tr style=\"text-align: right;\">\n      <th></th>\n      <th>년월</th>\n      <th>시구</th>\n      <th>시군구</th>\n      <th>계약구분</th>\n      <th>고객호수(호)</th>\n      <th>사용량(kWh)</th>\n    </tr>\n  </thead>\n  <tbody>\n    <tr>\n      <th>0</th>\n      <td>202101</td>\n      <td>인천광역시</td>\n      <td>강화군</td>\n      <td>일반용</td>\n      <td>8,311</td>\n      <td>21,297,105</td>\n    </tr>\n    <tr>\n      <th>1</th>\n      <td>202102</td>\n      <td>인천광역시</td>\n      <td>강화군</td>\n      <td>일반용</td>\n      <td>8,291</td>\n      <td>20,556,457</td>\n    </tr>\n    <tr>\n      <th>2</th>\n      <td>202103</td>\n      <td>인천광역시</td>\n      <td>강화군</td>\n      <td>일반용</td>\n      <td>8,290</td>\n      <td>16,274,977</td>\n    </tr>\n    <tr>\n      <th>3</th>\n      <td>202104</td>\n      <td>인천광역시</td>\n      <td>강화군</td>\n      <td>일반용</td>\n      <td>8,307</td>\n      <td>14,241,213</td>\n    </tr>\n    <tr>\n      <th>4</th>\n      <td>202105</td>\n      <td>인천광역시</td>\n      <td>강화군</td>\n      <td>일반용</td>\n      <td>8,335</td>\n      <td>12,581,695</td>\n    </tr>\n    <tr>\n      <th>...</th>\n      <td>...</td>\n      <td>...</td>\n      <td>...</td>\n      <td>...</td>\n      <td>...</td>\n      <td>...</td>\n    </tr>\n    <tr>\n      <th>65</th>\n      <td>202101-202106</td>\n      <td>인천광역시</td>\n      <td>부평구</td>\n      <td>일반용</td>\n      <td>21881</td>\n      <td>375076315</td>\n    </tr>\n    <tr>\n      <th>66</th>\n      <td>202101-202106</td>\n      <td>인천광역시</td>\n      <td>서구</td>\n      <td>일반용</td>\n      <td>24459</td>\n      <td>548654846</td>\n    </tr>\n    <tr>\n      <th>67</th>\n      <td>202101-202106</td>\n      <td>인천광역시</td>\n      <td>연수구</td>\n      <td>일반용</td>\n      <td>9850</td>\n      <td>363311143</td>\n    </tr>\n    <tr>\n      <th>68</th>\n      <td>202101-202106</td>\n      <td>인천광역시</td>\n      <td>옹진군</td>\n      <td>일반용</td>\n      <td>4024</td>\n      <td>59215550</td>\n    </tr>\n    <tr>\n      <th>69</th>\n      <td>202101-202106</td>\n      <td>인천광역시</td>\n      <td>중구</td>\n      <td>일반용</td>\n      <td>11508</td>\n      <td>519237662</td>\n    </tr>\n  </tbody>\n</table>\n<p>70 rows × 6 columns</p>\n</div>"
     },
     "execution_count": 25,
     "metadata": {},
     "output_type": "execute_result"
    }
   ],
   "source": [
    "GyeonGiHap2 = df_3.copy()\n",
    "GyeonGiHap2.reset_index(drop=True , inplace = True)\n",
    "for i in range(len(SIGUNGU)):\n",
    "    GyeonGiHap2 = GyeonGiHap2.append({'년월' :'202101-202106'  , '시구' : '{}'.format(City) , '시군구' : '{}'.format(SIGUNGU[i]) , '계약구분' : '일반용' , '고객호수(호)' : sum3[i] ,  '사용량(kWh)' : sum2[i]} , ignore_index=True) #년월 파일마다 수정하기\n",
    "GyeonGiHap2"
   ],
   "metadata": {
    "collapsed": false,
    "pycharm": {
     "name": "#%%\n"
    }
   }
  },
  {
   "cell_type": "markdown",
   "source": [
    "### 5. 날짜 체크!!!!!!!!!!!!!!!!!!!!!!!!!!!!!!!!!!!!!!!!!!!!!!!!!!!!"
   ],
   "metadata": {
    "collapsed": false,
    "pycharm": {
     "name": "#%% md\n"
    }
   }
  },
  {
   "cell_type": "code",
   "execution_count": 26,
   "outputs": [
    {
     "data": {
      "text/plain": "               년월     시구   시군구 계약구분 고객호수(호)   사용량(kWh)\n60  202101-202106  인천광역시   강화군  일반용    8316   97608718\n61  202101-202106  인천광역시   계양구  일반용   12579  211164062\n62  202101-202106  인천광역시   남동구  일반용   23789  444094861\n63  202101-202106  인천광역시    동구  일반용    3678   55494058\n64  202101-202106  인천광역시  미추홀구  일반용   21475  302339276\n65  202101-202106  인천광역시   부평구  일반용   21881  375076315\n66  202101-202106  인천광역시    서구  일반용   24459  548654846\n67  202101-202106  인천광역시   연수구  일반용    9850  363311143\n68  202101-202106  인천광역시   옹진군  일반용    4024   59215550\n69  202101-202106  인천광역시    중구  일반용   11508  519237662",
      "text/html": "<div>\n<style scoped>\n    .dataframe tbody tr th:only-of-type {\n        vertical-align: middle;\n    }\n\n    .dataframe tbody tr th {\n        vertical-align: top;\n    }\n\n    .dataframe thead th {\n        text-align: right;\n    }\n</style>\n<table border=\"1\" class=\"dataframe\">\n  <thead>\n    <tr style=\"text-align: right;\">\n      <th></th>\n      <th>년월</th>\n      <th>시구</th>\n      <th>시군구</th>\n      <th>계약구분</th>\n      <th>고객호수(호)</th>\n      <th>사용량(kWh)</th>\n    </tr>\n  </thead>\n  <tbody>\n    <tr>\n      <th>60</th>\n      <td>202101-202106</td>\n      <td>인천광역시</td>\n      <td>강화군</td>\n      <td>일반용</td>\n      <td>8316</td>\n      <td>97608718</td>\n    </tr>\n    <tr>\n      <th>61</th>\n      <td>202101-202106</td>\n      <td>인천광역시</td>\n      <td>계양구</td>\n      <td>일반용</td>\n      <td>12579</td>\n      <td>211164062</td>\n    </tr>\n    <tr>\n      <th>62</th>\n      <td>202101-202106</td>\n      <td>인천광역시</td>\n      <td>남동구</td>\n      <td>일반용</td>\n      <td>23789</td>\n      <td>444094861</td>\n    </tr>\n    <tr>\n      <th>63</th>\n      <td>202101-202106</td>\n      <td>인천광역시</td>\n      <td>동구</td>\n      <td>일반용</td>\n      <td>3678</td>\n      <td>55494058</td>\n    </tr>\n    <tr>\n      <th>64</th>\n      <td>202101-202106</td>\n      <td>인천광역시</td>\n      <td>미추홀구</td>\n      <td>일반용</td>\n      <td>21475</td>\n      <td>302339276</td>\n    </tr>\n    <tr>\n      <th>65</th>\n      <td>202101-202106</td>\n      <td>인천광역시</td>\n      <td>부평구</td>\n      <td>일반용</td>\n      <td>21881</td>\n      <td>375076315</td>\n    </tr>\n    <tr>\n      <th>66</th>\n      <td>202101-202106</td>\n      <td>인천광역시</td>\n      <td>서구</td>\n      <td>일반용</td>\n      <td>24459</td>\n      <td>548654846</td>\n    </tr>\n    <tr>\n      <th>67</th>\n      <td>202101-202106</td>\n      <td>인천광역시</td>\n      <td>연수구</td>\n      <td>일반용</td>\n      <td>9850</td>\n      <td>363311143</td>\n    </tr>\n    <tr>\n      <th>68</th>\n      <td>202101-202106</td>\n      <td>인천광역시</td>\n      <td>옹진군</td>\n      <td>일반용</td>\n      <td>4024</td>\n      <td>59215550</td>\n    </tr>\n    <tr>\n      <th>69</th>\n      <td>202101-202106</td>\n      <td>인천광역시</td>\n      <td>중구</td>\n      <td>일반용</td>\n      <td>11508</td>\n      <td>519237662</td>\n    </tr>\n  </tbody>\n</table>\n</div>"
     },
     "execution_count": 26,
     "metadata": {},
     "output_type": "execute_result"
    }
   ],
   "source": [
    "GyeonGiHap2 = GyeonGiHap2.loc[GyeonGiHap2['년월'] == '202101-202106']\n",
    "GyeonGiHap2"
   ],
   "metadata": {
    "collapsed": false,
    "pycharm": {
     "name": "#%%\n"
    }
   }
  },
  {
   "cell_type": "code",
   "execution_count": 27,
   "outputs": [
    {
     "data": {
      "text/plain": "               년월     시구   시군구 계약구분 고객호수(호)    사용량(kWh)\n60  202101-202106  인천광역시   강화군  일반용    8316    97608718\n60  202101-202106  인천광역시   강화군   합계   14098   314281740\n61  202101-202106  인천광역시   계양구  일반용   12579   211164062\n61  202101-202106  인천광역시   계양구   합계   16250   637180982\n62  202101-202106  인천광역시   남동구  일반용   23789   444094861\n62  202101-202106  인천광역시   남동구   합계   26276  1940823892\n63  202101-202106  인천광역시    동구  일반용    3678    55494058\n63  202101-202106  인천광역시    동구   합계    4330  1896850674\n64  202101-202106  인천광역시  미추홀구  일반용   21475   302339276\n64  202101-202106  인천광역시  미추홀구   합계   32074   854516128\n65  202101-202106  인천광역시   부평구  일반용   21881   375076315\n65  202101-202106  인천광역시   부평구   합계   26405  1123905020\n66  202101-202106  인천광역시    서구  일반용   24459   548654846\n66  202101-202106  인천광역시    서구   합계   27655  2884801358\n67  202101-202106  인천광역시   연수구   합계   10495  1291314888\n67  202101-202106  인천광역시   연수구  일반용    9850   363311143\n68  202101-202106  인천광역시   옹진군   합계    4233   137659091\n68  202101-202106  인천광역시   옹진군  일반용    4024    59215550\n69  202101-202106  인천광역시    중구  일반용   11508   519237662\n69  202101-202106  인천광역시    중구   합계   10196  1145142420",
      "text/html": "<div>\n<style scoped>\n    .dataframe tbody tr th:only-of-type {\n        vertical-align: middle;\n    }\n\n    .dataframe tbody tr th {\n        vertical-align: top;\n    }\n\n    .dataframe thead th {\n        text-align: right;\n    }\n</style>\n<table border=\"1\" class=\"dataframe\">\n  <thead>\n    <tr style=\"text-align: right;\">\n      <th></th>\n      <th>년월</th>\n      <th>시구</th>\n      <th>시군구</th>\n      <th>계약구분</th>\n      <th>고객호수(호)</th>\n      <th>사용량(kWh)</th>\n    </tr>\n  </thead>\n  <tbody>\n    <tr>\n      <th>60</th>\n      <td>202101-202106</td>\n      <td>인천광역시</td>\n      <td>강화군</td>\n      <td>일반용</td>\n      <td>8316</td>\n      <td>97608718</td>\n    </tr>\n    <tr>\n      <th>60</th>\n      <td>202101-202106</td>\n      <td>인천광역시</td>\n      <td>강화군</td>\n      <td>합계</td>\n      <td>14098</td>\n      <td>314281740</td>\n    </tr>\n    <tr>\n      <th>61</th>\n      <td>202101-202106</td>\n      <td>인천광역시</td>\n      <td>계양구</td>\n      <td>일반용</td>\n      <td>12579</td>\n      <td>211164062</td>\n    </tr>\n    <tr>\n      <th>61</th>\n      <td>202101-202106</td>\n      <td>인천광역시</td>\n      <td>계양구</td>\n      <td>합계</td>\n      <td>16250</td>\n      <td>637180982</td>\n    </tr>\n    <tr>\n      <th>62</th>\n      <td>202101-202106</td>\n      <td>인천광역시</td>\n      <td>남동구</td>\n      <td>일반용</td>\n      <td>23789</td>\n      <td>444094861</td>\n    </tr>\n    <tr>\n      <th>62</th>\n      <td>202101-202106</td>\n      <td>인천광역시</td>\n      <td>남동구</td>\n      <td>합계</td>\n      <td>26276</td>\n      <td>1940823892</td>\n    </tr>\n    <tr>\n      <th>63</th>\n      <td>202101-202106</td>\n      <td>인천광역시</td>\n      <td>동구</td>\n      <td>일반용</td>\n      <td>3678</td>\n      <td>55494058</td>\n    </tr>\n    <tr>\n      <th>63</th>\n      <td>202101-202106</td>\n      <td>인천광역시</td>\n      <td>동구</td>\n      <td>합계</td>\n      <td>4330</td>\n      <td>1896850674</td>\n    </tr>\n    <tr>\n      <th>64</th>\n      <td>202101-202106</td>\n      <td>인천광역시</td>\n      <td>미추홀구</td>\n      <td>일반용</td>\n      <td>21475</td>\n      <td>302339276</td>\n    </tr>\n    <tr>\n      <th>64</th>\n      <td>202101-202106</td>\n      <td>인천광역시</td>\n      <td>미추홀구</td>\n      <td>합계</td>\n      <td>32074</td>\n      <td>854516128</td>\n    </tr>\n    <tr>\n      <th>65</th>\n      <td>202101-202106</td>\n      <td>인천광역시</td>\n      <td>부평구</td>\n      <td>일반용</td>\n      <td>21881</td>\n      <td>375076315</td>\n    </tr>\n    <tr>\n      <th>65</th>\n      <td>202101-202106</td>\n      <td>인천광역시</td>\n      <td>부평구</td>\n      <td>합계</td>\n      <td>26405</td>\n      <td>1123905020</td>\n    </tr>\n    <tr>\n      <th>66</th>\n      <td>202101-202106</td>\n      <td>인천광역시</td>\n      <td>서구</td>\n      <td>일반용</td>\n      <td>24459</td>\n      <td>548654846</td>\n    </tr>\n    <tr>\n      <th>66</th>\n      <td>202101-202106</td>\n      <td>인천광역시</td>\n      <td>서구</td>\n      <td>합계</td>\n      <td>27655</td>\n      <td>2884801358</td>\n    </tr>\n    <tr>\n      <th>67</th>\n      <td>202101-202106</td>\n      <td>인천광역시</td>\n      <td>연수구</td>\n      <td>합계</td>\n      <td>10495</td>\n      <td>1291314888</td>\n    </tr>\n    <tr>\n      <th>67</th>\n      <td>202101-202106</td>\n      <td>인천광역시</td>\n      <td>연수구</td>\n      <td>일반용</td>\n      <td>9850</td>\n      <td>363311143</td>\n    </tr>\n    <tr>\n      <th>68</th>\n      <td>202101-202106</td>\n      <td>인천광역시</td>\n      <td>옹진군</td>\n      <td>합계</td>\n      <td>4233</td>\n      <td>137659091</td>\n    </tr>\n    <tr>\n      <th>68</th>\n      <td>202101-202106</td>\n      <td>인천광역시</td>\n      <td>옹진군</td>\n      <td>일반용</td>\n      <td>4024</td>\n      <td>59215550</td>\n    </tr>\n    <tr>\n      <th>69</th>\n      <td>202101-202106</td>\n      <td>인천광역시</td>\n      <td>중구</td>\n      <td>일반용</td>\n      <td>11508</td>\n      <td>519237662</td>\n    </tr>\n    <tr>\n      <th>69</th>\n      <td>202101-202106</td>\n      <td>인천광역시</td>\n      <td>중구</td>\n      <td>합계</td>\n      <td>10196</td>\n      <td>1145142420</td>\n    </tr>\n  </tbody>\n</table>\n</div>"
     },
     "execution_count": 27,
     "metadata": {},
     "output_type": "execute_result"
    }
   ],
   "source": [
    "Final = pd.concat([GyeonGiHap2 , Hap])\n",
    "Final = Final.sort_values('시군구')\n",
    "Final"
   ],
   "metadata": {
    "collapsed": false,
    "pycharm": {
     "name": "#%%\n"
    }
   }
  },
  {
   "cell_type": "code",
   "execution_count": 28,
   "outputs": [
    {
     "data": {
      "text/plain": "[97608718,\n 211164062,\n 444094861,\n 55494058,\n 302339276,\n 375076315,\n 548654846,\n 363311143,\n 59215550,\n 519237662]"
     },
     "execution_count": 28,
     "metadata": {},
     "output_type": "execute_result"
    }
   ],
   "source": [
    "# Final['일반용 전기의 비율'] = (Final['사용량(kWh)'].loc[Final['계약구분'] == '일반용']) // (Final['사용량(kWh)'].loc[Final['계약구분'] == '합계'])\n",
    "# Final\n",
    "ex = (Final['사용량(kWh)'].loc[Final['계약구분'] == '일반용']).tolist()\n",
    "\n",
    "\n",
    "ex\n"
   ],
   "metadata": {
    "collapsed": false,
    "pycharm": {
     "name": "#%%\n"
    }
   }
  },
  {
   "cell_type": "code",
   "execution_count": 29,
   "outputs": [
    {
     "data": {
      "text/plain": "[314281740,\n 637180982,\n 1940823892,\n 1896850674,\n 854516128,\n 1123905020,\n 2884801358,\n 1291314888,\n 137659091,\n 1145142420]"
     },
     "execution_count": 29,
     "metadata": {},
     "output_type": "execute_result"
    }
   ],
   "source": [
    "ex_2 =(Final['사용량(kWh)'].loc[Final['계약구분'] == '합계']).tolist()\n",
    "ex_2"
   ],
   "metadata": {
    "collapsed": false,
    "pycharm": {
     "name": "#%%\n"
    }
   }
  },
  {
   "cell_type": "code",
   "execution_count": 30,
   "outputs": [
    {
     "name": "stdout",
     "output_type": "stream",
     "text": [
      "[31.06, 33.14, 22.88, 2.93, 35.38, 33.37, 19.02, 28.13, 43.02, 45.34]\n"
     ]
    }
   ],
   "source": [
    "Rate = []\n",
    "ilban = []\n",
    "rae = 0\n",
    "for i in range(len(ex)):\n",
    "    rae = round(ex[i] / ex_2[i] *100 ,2)\n",
    "    Rate.append(rae)\n",
    "print(Rate)"
   ],
   "metadata": {
    "collapsed": false,
    "pycharm": {
     "name": "#%%\n"
    }
   }
  },
  {
   "cell_type": "code",
   "execution_count": 31,
   "outputs": [
    {
     "data": {
      "text/plain": "0   31\n1   33\n2   23\n3    3\n4   35\n5   33\n6   19\n7   28\n8   43\n9   45\ndtype: float64"
     },
     "execution_count": 31,
     "metadata": {},
     "output_type": "execute_result"
    }
   ],
   "source": [
    "Rate3 = pd.Series(Rate)\n",
    "Rate3\n",
    "\n",
    "# Final = pd.concat([Final , Rate3])\n",
    "# Final"
   ],
   "metadata": {
    "collapsed": false,
    "pycharm": {
     "name": "#%%\n"
    }
   }
  },
  {
   "cell_type": "code",
   "execution_count": 32,
   "outputs": [
    {
     "data": {
      "text/plain": "    시군구 계약구분  비율\n0   강화군  일반용  31\n1   계양구  일반용  33\n2   남동구  일반용  23\n3    동구  일반용   3\n4  미추홀구  일반용  35\n5   부평구  일반용  33\n6    서구  일반용  19\n7   연수구  일반용  28\n8   옹진군  일반용  43\n9    중구  일반용  45",
      "text/html": "<div>\n<style scoped>\n    .dataframe tbody tr th:only-of-type {\n        vertical-align: middle;\n    }\n\n    .dataframe tbody tr th {\n        vertical-align: top;\n    }\n\n    .dataframe thead th {\n        text-align: right;\n    }\n</style>\n<table border=\"1\" class=\"dataframe\">\n  <thead>\n    <tr style=\"text-align: right;\">\n      <th></th>\n      <th>시군구</th>\n      <th>계약구분</th>\n      <th>비율</th>\n    </tr>\n  </thead>\n  <tbody>\n    <tr>\n      <th>0</th>\n      <td>강화군</td>\n      <td>일반용</td>\n      <td>31</td>\n    </tr>\n    <tr>\n      <th>1</th>\n      <td>계양구</td>\n      <td>일반용</td>\n      <td>33</td>\n    </tr>\n    <tr>\n      <th>2</th>\n      <td>남동구</td>\n      <td>일반용</td>\n      <td>23</td>\n    </tr>\n    <tr>\n      <th>3</th>\n      <td>동구</td>\n      <td>일반용</td>\n      <td>3</td>\n    </tr>\n    <tr>\n      <th>4</th>\n      <td>미추홀구</td>\n      <td>일반용</td>\n      <td>35</td>\n    </tr>\n    <tr>\n      <th>5</th>\n      <td>부평구</td>\n      <td>일반용</td>\n      <td>33</td>\n    </tr>\n    <tr>\n      <th>6</th>\n      <td>서구</td>\n      <td>일반용</td>\n      <td>19</td>\n    </tr>\n    <tr>\n      <th>7</th>\n      <td>연수구</td>\n      <td>일반용</td>\n      <td>28</td>\n    </tr>\n    <tr>\n      <th>8</th>\n      <td>옹진군</td>\n      <td>일반용</td>\n      <td>43</td>\n    </tr>\n    <tr>\n      <th>9</th>\n      <td>중구</td>\n      <td>일반용</td>\n      <td>45</td>\n    </tr>\n  </tbody>\n</table>\n</div>"
     },
     "execution_count": 32,
     "metadata": {},
     "output_type": "execute_result"
    }
   ],
   "source": [
    "for j in range(len(Rate)):\n",
    "    ilban.append('일반용')\n",
    "#print(Rate)\n",
    "\n",
    "Rate2 = pd.DataFrame()\n",
    "Rate2['시군구'] = pd.DataFrame(SIGUNGU)\n",
    "Rate2['계약구분'] = pd.DataFrame(ilban)\n",
    "Rate2['비율'] = pd.DataFrame(Rate)\n",
    "Rate2\n",
    "#print(Rate2.dtypes)"
   ],
   "metadata": {
    "collapsed": false,
    "pycharm": {
     "name": "#%%\n"
    }
   }
  },
  {
   "cell_type": "code",
   "execution_count": 33,
   "outputs": [
    {
     "data": {
      "text/plain": "               년월     시구   시군구 계약구분 고객호수(호)    사용량(kWh)  비율\n0   202101-202106  인천광역시   강화군  일반용    8316    97608718  31\n1   202101-202106  인천광역시   강화군   합계   14098   314281740 NaN\n2   202101-202106  인천광역시   계양구  일반용   12579   211164062  33\n3   202101-202106  인천광역시   계양구   합계   16250   637180982 NaN\n4   202101-202106  인천광역시   남동구  일반용   23789   444094861  23\n5   202101-202106  인천광역시   남동구   합계   26276  1940823892 NaN\n6   202101-202106  인천광역시    동구  일반용    3678    55494058   3\n7   202101-202106  인천광역시    동구   합계    4330  1896850674 NaN\n8   202101-202106  인천광역시  미추홀구  일반용   21475   302339276  35\n9   202101-202106  인천광역시  미추홀구   합계   32074   854516128 NaN\n10  202101-202106  인천광역시   부평구  일반용   21881   375076315  33\n11  202101-202106  인천광역시   부평구   합계   26405  1123905020 NaN\n12  202101-202106  인천광역시    서구  일반용   24459   548654846  19\n13  202101-202106  인천광역시    서구   합계   27655  2884801358 NaN\n15  202101-202106  인천광역시   연수구  일반용    9850   363311143  28\n14  202101-202106  인천광역시   연수구   합계   10495  1291314888 NaN\n17  202101-202106  인천광역시   옹진군  일반용    4024    59215550  43\n16  202101-202106  인천광역시   옹진군   합계    4233   137659091 NaN\n18  202101-202106  인천광역시    중구  일반용   11508   519237662  45\n19  202101-202106  인천광역시    중구   합계   10196  1145142420 NaN",
      "text/html": "<div>\n<style scoped>\n    .dataframe tbody tr th:only-of-type {\n        vertical-align: middle;\n    }\n\n    .dataframe tbody tr th {\n        vertical-align: top;\n    }\n\n    .dataframe thead th {\n        text-align: right;\n    }\n</style>\n<table border=\"1\" class=\"dataframe\">\n  <thead>\n    <tr style=\"text-align: right;\">\n      <th></th>\n      <th>년월</th>\n      <th>시구</th>\n      <th>시군구</th>\n      <th>계약구분</th>\n      <th>고객호수(호)</th>\n      <th>사용량(kWh)</th>\n      <th>비율</th>\n    </tr>\n  </thead>\n  <tbody>\n    <tr>\n      <th>0</th>\n      <td>202101-202106</td>\n      <td>인천광역시</td>\n      <td>강화군</td>\n      <td>일반용</td>\n      <td>8316</td>\n      <td>97608718</td>\n      <td>31</td>\n    </tr>\n    <tr>\n      <th>1</th>\n      <td>202101-202106</td>\n      <td>인천광역시</td>\n      <td>강화군</td>\n      <td>합계</td>\n      <td>14098</td>\n      <td>314281740</td>\n      <td>NaN</td>\n    </tr>\n    <tr>\n      <th>2</th>\n      <td>202101-202106</td>\n      <td>인천광역시</td>\n      <td>계양구</td>\n      <td>일반용</td>\n      <td>12579</td>\n      <td>211164062</td>\n      <td>33</td>\n    </tr>\n    <tr>\n      <th>3</th>\n      <td>202101-202106</td>\n      <td>인천광역시</td>\n      <td>계양구</td>\n      <td>합계</td>\n      <td>16250</td>\n      <td>637180982</td>\n      <td>NaN</td>\n    </tr>\n    <tr>\n      <th>4</th>\n      <td>202101-202106</td>\n      <td>인천광역시</td>\n      <td>남동구</td>\n      <td>일반용</td>\n      <td>23789</td>\n      <td>444094861</td>\n      <td>23</td>\n    </tr>\n    <tr>\n      <th>5</th>\n      <td>202101-202106</td>\n      <td>인천광역시</td>\n      <td>남동구</td>\n      <td>합계</td>\n      <td>26276</td>\n      <td>1940823892</td>\n      <td>NaN</td>\n    </tr>\n    <tr>\n      <th>6</th>\n      <td>202101-202106</td>\n      <td>인천광역시</td>\n      <td>동구</td>\n      <td>일반용</td>\n      <td>3678</td>\n      <td>55494058</td>\n      <td>3</td>\n    </tr>\n    <tr>\n      <th>7</th>\n      <td>202101-202106</td>\n      <td>인천광역시</td>\n      <td>동구</td>\n      <td>합계</td>\n      <td>4330</td>\n      <td>1896850674</td>\n      <td>NaN</td>\n    </tr>\n    <tr>\n      <th>8</th>\n      <td>202101-202106</td>\n      <td>인천광역시</td>\n      <td>미추홀구</td>\n      <td>일반용</td>\n      <td>21475</td>\n      <td>302339276</td>\n      <td>35</td>\n    </tr>\n    <tr>\n      <th>9</th>\n      <td>202101-202106</td>\n      <td>인천광역시</td>\n      <td>미추홀구</td>\n      <td>합계</td>\n      <td>32074</td>\n      <td>854516128</td>\n      <td>NaN</td>\n    </tr>\n    <tr>\n      <th>10</th>\n      <td>202101-202106</td>\n      <td>인천광역시</td>\n      <td>부평구</td>\n      <td>일반용</td>\n      <td>21881</td>\n      <td>375076315</td>\n      <td>33</td>\n    </tr>\n    <tr>\n      <th>11</th>\n      <td>202101-202106</td>\n      <td>인천광역시</td>\n      <td>부평구</td>\n      <td>합계</td>\n      <td>26405</td>\n      <td>1123905020</td>\n      <td>NaN</td>\n    </tr>\n    <tr>\n      <th>12</th>\n      <td>202101-202106</td>\n      <td>인천광역시</td>\n      <td>서구</td>\n      <td>일반용</td>\n      <td>24459</td>\n      <td>548654846</td>\n      <td>19</td>\n    </tr>\n    <tr>\n      <th>13</th>\n      <td>202101-202106</td>\n      <td>인천광역시</td>\n      <td>서구</td>\n      <td>합계</td>\n      <td>27655</td>\n      <td>2884801358</td>\n      <td>NaN</td>\n    </tr>\n    <tr>\n      <th>15</th>\n      <td>202101-202106</td>\n      <td>인천광역시</td>\n      <td>연수구</td>\n      <td>일반용</td>\n      <td>9850</td>\n      <td>363311143</td>\n      <td>28</td>\n    </tr>\n    <tr>\n      <th>14</th>\n      <td>202101-202106</td>\n      <td>인천광역시</td>\n      <td>연수구</td>\n      <td>합계</td>\n      <td>10495</td>\n      <td>1291314888</td>\n      <td>NaN</td>\n    </tr>\n    <tr>\n      <th>17</th>\n      <td>202101-202106</td>\n      <td>인천광역시</td>\n      <td>옹진군</td>\n      <td>일반용</td>\n      <td>4024</td>\n      <td>59215550</td>\n      <td>43</td>\n    </tr>\n    <tr>\n      <th>16</th>\n      <td>202101-202106</td>\n      <td>인천광역시</td>\n      <td>옹진군</td>\n      <td>합계</td>\n      <td>4233</td>\n      <td>137659091</td>\n      <td>NaN</td>\n    </tr>\n    <tr>\n      <th>18</th>\n      <td>202101-202106</td>\n      <td>인천광역시</td>\n      <td>중구</td>\n      <td>일반용</td>\n      <td>11508</td>\n      <td>519237662</td>\n      <td>45</td>\n    </tr>\n    <tr>\n      <th>19</th>\n      <td>202101-202106</td>\n      <td>인천광역시</td>\n      <td>중구</td>\n      <td>합계</td>\n      <td>10196</td>\n      <td>1145142420</td>\n      <td>NaN</td>\n    </tr>\n  </tbody>\n</table>\n</div>"
     },
     "execution_count": 33,
     "metadata": {},
     "output_type": "execute_result"
    }
   ],
   "source": [
    "Final = pd.merge(Final , Rate2, on=['시군구', '계약구분'] , how='left')\n",
    "\n",
    "#Final.drop(['비율_y]' , axis = 1 , inplace = True)\n",
    "#Final.rename(columns={'비율_y':'전체 계약종별 전력사용량 대비 일반용 사용량 비율'})\n",
    "Final = Final.sort_values(['시군구' , '계약구분'])\n",
    "Final"
   ],
   "metadata": {
    "collapsed": false,
    "pycharm": {
     "name": "#%%\n"
    }
   }
  },
  {
   "cell_type": "code",
   "execution_count": 34,
   "outputs": [],
   "source": [
    "# Final['일반용 전기의 비율'] = Final.append(Rate)\n",
    "# Final"
   ],
   "metadata": {
    "collapsed": false,
    "pycharm": {
     "name": "#%%\n"
    }
   }
  },
  {
   "cell_type": "markdown",
   "source": [
    "### 6. 날짜 체크!!!!!!!!!!!!!!!!!!!!1"
   ],
   "metadata": {
    "collapsed": false,
    "pycharm": {
     "name": "#%% md\n"
    }
   }
  },
  {
   "cell_type": "code",
   "execution_count": 35,
   "outputs": [],
   "source": [
    "Final.to_csv(\"{}_일반용_전력사용량_2101-06.csv\".format(City) , mode = 'w' , encoding= 'cp949' , index =False) #파일명 수정"
   ],
   "metadata": {
    "collapsed": false,
    "pycharm": {
     "name": "#%%\n"
    }
   }
  },
  {
   "cell_type": "code",
   "execution_count": 35,
   "outputs": [],
   "source": [],
   "metadata": {
    "collapsed": false,
    "pycharm": {
     "name": "#%%\n"
    }
   }
  },
  {
   "cell_type": "code",
   "execution_count": 36,
   "outputs": [],
   "source": [
    "# Sigu = list(set(df_3['시군구'].tolist()))\n",
    "#\n",
    "# Sigu.sort()\n",
    "#\n",
    "# Sigu"
   ],
   "metadata": {
    "collapsed": false,
    "pycharm": {
     "name": "#%%\n"
    }
   }
  },
  {
   "cell_type": "code",
   "execution_count": 37,
   "outputs": [],
   "source": [
    "# YearMonth = list(set(df_3['년월'].tolist()))\n",
    "#\n",
    "# YearMonth.sort()\n",
    "# YearMonth"
   ],
   "metadata": {
    "collapsed": false,
    "pycharm": {
     "name": "#%%\n"
    }
   }
  },
  {
   "cell_type": "code",
   "execution_count": 38,
   "outputs": [],
   "source": [
    "# Gayeak = list(set(df_3['계약구분'].tolist()))\n",
    "#\n",
    "# Gayeak.sort()\n",
    "# Gayeak"
   ],
   "metadata": {
    "collapsed": false,
    "pycharm": {
     "name": "#%%\n"
    }
   }
  },
  {
   "cell_type": "code",
   "execution_count": 39,
   "outputs": [],
   "source": [
    "# SEOUL = df_3.loc[(df_3['계약구분'] =='일반용')]\n",
    "# SEOUL.drop(['고객호수(호)' ,'전기요금(원)' , '평균판매단가(원/kWh)'] , axis = 1 , inplace = True)\n",
    "# #SEOUL.dtypes(['사용량(kWh)'])\n",
    "# SEOUL"
   ],
   "metadata": {
    "collapsed": false,
    "pycharm": {
     "name": "#%%\n"
    }
   }
  },
  {
   "cell_type": "code",
   "execution_count": 40,
   "outputs": [],
   "source": [
    "#SEOUL.to_csv(\"서울특별시_일반용_전력사용량.csv\" , mode = 'w' , encoding= 'cp949')"
   ],
   "metadata": {
    "collapsed": false,
    "pycharm": {
     "name": "#%%\n"
    }
   }
  },
  {
   "cell_type": "code",
   "execution_count": 41,
   "outputs": [],
   "source": [
    "# print(SEOUL.dtypes)\n",
    "# SEOUL = SEOUL.astype({'사용량(kWh)' : 'float'})"
   ],
   "metadata": {
    "collapsed": false,
    "pycharm": {
     "name": "#%%\n"
    }
   }
  },
  {
   "cell_type": "code",
   "execution_count": 42,
   "outputs": [],
   "source": [
    "# SEOUL"
   ],
   "metadata": {
    "collapsed": false,
    "pycharm": {
     "name": "#%%\n"
    }
   }
  },
  {
   "cell_type": "code",
   "execution_count": 43,
   "outputs": [],
   "source": [
    "# a = SEOUL['사용량(kWh)'].tolist()\n",
    "# int_list = map(int, a)\n",
    "# b=0\n",
    "# for i in int_list:\n",
    "#     b+=i\n",
    "#\n",
    "# print(b)"
   ],
   "metadata": {
    "collapsed": false,
    "pycharm": {
     "name": "#%%\n"
    }
   }
  },
  {
   "cell_type": "code",
   "execution_count": 43,
   "outputs": [],
   "source": [],
   "metadata": {
    "collapsed": false,
    "pycharm": {
     "name": "#%%\n"
    }
   }
  },
  {
   "cell_type": "code",
   "execution_count": 43,
   "outputs": [],
   "source": [],
   "metadata": {
    "collapsed": false,
    "pycharm": {
     "name": "#%%\n"
    }
   }
  },
  {
   "cell_type": "code",
   "execution_count": 43,
   "outputs": [],
   "source": [],
   "metadata": {
    "collapsed": false,
    "pycharm": {
     "name": "#%%\n"
    }
   }
  },
  {
   "cell_type": "code",
   "execution_count": 43,
   "outputs": [],
   "source": [],
   "metadata": {
    "collapsed": false,
    "pycharm": {
     "name": "#%%\n"
    }
   }
  },
  {
   "cell_type": "code",
   "execution_count": 43,
   "outputs": [],
   "source": [],
   "metadata": {
    "collapsed": false,
    "pycharm": {
     "name": "#%%\n"
    }
   }
  },
  {
   "cell_type": "code",
   "execution_count": 43,
   "outputs": [],
   "source": [],
   "metadata": {
    "collapsed": false,
    "pycharm": {
     "name": "#%%\n"
    }
   }
  },
  {
   "cell_type": "code",
   "execution_count": 43,
   "outputs": [],
   "source": [],
   "metadata": {
    "collapsed": false,
    "pycharm": {
     "name": "#%%\n"
    }
   }
  }
 ],
 "metadata": {
  "kernelspec": {
   "display_name": "Python 3",
   "language": "python",
   "name": "python3"
  },
  "language_info": {
   "codemirror_mode": {
    "name": "ipython",
    "version": 2
   },
   "file_extension": ".py",
   "mimetype": "text/x-python",
   "name": "python",
   "nbconvert_exporter": "python",
   "pygments_lexer": "ipython2",
   "version": "2.7.6"
  }
 },
 "nbformat": 4,
 "nbformat_minor": 0
}