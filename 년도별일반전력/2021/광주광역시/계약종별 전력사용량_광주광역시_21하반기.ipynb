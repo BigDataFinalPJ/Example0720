{
 "cells": [
  {
   "cell_type": "markdown",
   "source": [],
   "metadata": {
    "collapsed": false,
    "pycharm": {
     "name": "#%% md\n"
    }
   }
  },
  {
   "cell_type": "code",
   "execution_count": 1,
   "outputs": [],
   "source": [
    "import pandas as pd\n",
    "import re\n",
    "\n",
    "pd.options.display.float_format = '{:.0f}'.format"
   ],
   "metadata": {
    "collapsed": false,
    "pycharm": {
     "name": "#%%\n"
    }
   }
  },
  {
   "cell_type": "markdown",
   "source": [
    "### 1. 꼭 read_csv 21상반기, 19하반기와 같이 맞추어 주세요!!! 또한 지역(전라북도, 남도) 맞추기!!!!!"
   ],
   "metadata": {
    "collapsed": false,
    "pycharm": {
     "name": "#%% md\n"
    }
   }
  },
  {
   "cell_type": "code",
   "execution_count": 2,
   "outputs": [
    {
     "data": {
      "text/plain": "        계약종별 전력사용량 월별( 20220804 현재 ) Unnamed: 1     Unnamed: 2 Unnamed: 3  \\\n0    시도 : 광주광역시, 시군구 : 전체(시 / 군 / 구)        NaN            NaN        NaN   \n1        기간 : 2021년 07 월 ~ 2021년 12월        NaN            NaN        NaN   \n2                                 년월         시구            시군구       계약구분   \n3                             202107      광주광역시  전체(시 / 군 / 구)        주택용   \n4                             202107      광주광역시  전체(시 / 군 / 구)        일반용   \n..                               ...        ...            ...        ...   \n283                           202112      광주광역시             서구        산업용   \n284                           202112      광주광역시             서구        심 야   \n285                           202112      광주광역시             서구        일반용   \n286                           202112      광주광역시             서구        주택용   \n287                           202112      광주광역시             서구         합계   \n\n    Unnamed: 4    Unnamed: 5       Unnamed: 6     Unnamed: 7  \n0          NaN           NaN              NaN            NaN  \n1          NaN           NaN              NaN            NaN  \n2      고객호수(호)      사용량(kWh)          전기요금(원)  평균판매단가(원/kWh)  \n3     387,682   194,781,115   19,607,188,124          100.7   \n4      94,824   271,010,453   38,312,765,028          141.4   \n..         ...           ...              ...            ...  \n283       682    27,488,272    3,431,216,502          124.8   \n284       740     1,485,977      114,715,191           77.2   \n285    20,012    64,050,824    8,849,702,280          138.2   \n286    76,728    36,353,318    3,854,905,776            106   \n287   108,084   133,371,815   16,655,546,283          124.9   \n\n[288 rows x 8 columns]",
      "text/html": "<div>\n<style scoped>\n    .dataframe tbody tr th:only-of-type {\n        vertical-align: middle;\n    }\n\n    .dataframe tbody tr th {\n        vertical-align: top;\n    }\n\n    .dataframe thead th {\n        text-align: right;\n    }\n</style>\n<table border=\"1\" class=\"dataframe\">\n  <thead>\n    <tr style=\"text-align: right;\">\n      <th></th>\n      <th>계약종별 전력사용량 월별( 20220804 현재 )</th>\n      <th>Unnamed: 1</th>\n      <th>Unnamed: 2</th>\n      <th>Unnamed: 3</th>\n      <th>Unnamed: 4</th>\n      <th>Unnamed: 5</th>\n      <th>Unnamed: 6</th>\n      <th>Unnamed: 7</th>\n    </tr>\n  </thead>\n  <tbody>\n    <tr>\n      <th>0</th>\n      <td>시도 : 광주광역시, 시군구 : 전체(시 / 군 / 구)</td>\n      <td>NaN</td>\n      <td>NaN</td>\n      <td>NaN</td>\n      <td>NaN</td>\n      <td>NaN</td>\n      <td>NaN</td>\n      <td>NaN</td>\n    </tr>\n    <tr>\n      <th>1</th>\n      <td>기간 : 2021년 07 월 ~ 2021년 12월</td>\n      <td>NaN</td>\n      <td>NaN</td>\n      <td>NaN</td>\n      <td>NaN</td>\n      <td>NaN</td>\n      <td>NaN</td>\n      <td>NaN</td>\n    </tr>\n    <tr>\n      <th>2</th>\n      <td>년월</td>\n      <td>시구</td>\n      <td>시군구</td>\n      <td>계약구분</td>\n      <td>고객호수(호)</td>\n      <td>사용량(kWh)</td>\n      <td>전기요금(원)</td>\n      <td>평균판매단가(원/kWh)</td>\n    </tr>\n    <tr>\n      <th>3</th>\n      <td>202107</td>\n      <td>광주광역시</td>\n      <td>전체(시 / 군 / 구)</td>\n      <td>주택용</td>\n      <td>387,682</td>\n      <td>194,781,115</td>\n      <td>19,607,188,124</td>\n      <td>100.7</td>\n    </tr>\n    <tr>\n      <th>4</th>\n      <td>202107</td>\n      <td>광주광역시</td>\n      <td>전체(시 / 군 / 구)</td>\n      <td>일반용</td>\n      <td>94,824</td>\n      <td>271,010,453</td>\n      <td>38,312,765,028</td>\n      <td>141.4</td>\n    </tr>\n    <tr>\n      <th>...</th>\n      <td>...</td>\n      <td>...</td>\n      <td>...</td>\n      <td>...</td>\n      <td>...</td>\n      <td>...</td>\n      <td>...</td>\n      <td>...</td>\n    </tr>\n    <tr>\n      <th>283</th>\n      <td>202112</td>\n      <td>광주광역시</td>\n      <td>서구</td>\n      <td>산업용</td>\n      <td>682</td>\n      <td>27,488,272</td>\n      <td>3,431,216,502</td>\n      <td>124.8</td>\n    </tr>\n    <tr>\n      <th>284</th>\n      <td>202112</td>\n      <td>광주광역시</td>\n      <td>서구</td>\n      <td>심 야</td>\n      <td>740</td>\n      <td>1,485,977</td>\n      <td>114,715,191</td>\n      <td>77.2</td>\n    </tr>\n    <tr>\n      <th>285</th>\n      <td>202112</td>\n      <td>광주광역시</td>\n      <td>서구</td>\n      <td>일반용</td>\n      <td>20,012</td>\n      <td>64,050,824</td>\n      <td>8,849,702,280</td>\n      <td>138.2</td>\n    </tr>\n    <tr>\n      <th>286</th>\n      <td>202112</td>\n      <td>광주광역시</td>\n      <td>서구</td>\n      <td>주택용</td>\n      <td>76,728</td>\n      <td>36,353,318</td>\n      <td>3,854,905,776</td>\n      <td>106</td>\n    </tr>\n    <tr>\n      <th>287</th>\n      <td>202112</td>\n      <td>광주광역시</td>\n      <td>서구</td>\n      <td>합계</td>\n      <td>108,084</td>\n      <td>133,371,815</td>\n      <td>16,655,546,283</td>\n      <td>124.9</td>\n    </tr>\n  </tbody>\n</table>\n<p>288 rows × 8 columns</p>\n</div>"
     },
     "execution_count": 2,
     "metadata": {},
     "output_type": "execute_result"
    }
   ],
   "source": [
    "df = pd.read_csv('광주광역시_계약종별_전력사용량_월별_21하반기.csv' , encoding='cp949')\n",
    "\n",
    "df\n",
    "#exchng=  pd.read_csv('지역별_전력거래량_20220803093050.csv' , encoding='cp949')"
   ],
   "metadata": {
    "collapsed": false,
    "pycharm": {
     "name": "#%%\n"
    }
   }
  },
  {
   "cell_type": "code",
   "execution_count": 3,
   "outputs": [
    {
     "data": {
      "text/plain": "    계약종별 전력사용량 월별( 20220804 현재 ) Unnamed: 1     Unnamed: 2 Unnamed: 3  \\\n2                             년월         시구            시군구       계약구분   \n3                         202107      광주광역시  전체(시 / 군 / 구)        주택용   \n4                         202107      광주광역시  전체(시 / 군 / 구)        일반용   \n5                         202107      광주광역시  전체(시 / 군 / 구)        교육용   \n6                         202107      광주광역시  전체(시 / 군 / 구)        산업용   \n..                           ...        ...            ...        ...   \n283                       202112      광주광역시             서구        산업용   \n284                       202112      광주광역시             서구        심 야   \n285                       202112      광주광역시             서구        일반용   \n286                       202112      광주광역시             서구        주택용   \n287                       202112      광주광역시             서구         합계   \n\n    Unnamed: 4    Unnamed: 5       Unnamed: 6     Unnamed: 7  \n2      고객호수(호)      사용량(kWh)          전기요금(원)  평균판매단가(원/kWh)  \n3     387,682   194,781,115   19,607,188,124          100.7   \n4      94,824   271,010,453   38,312,765,028          141.4   \n5         628    26,593,717    2,989,093,757          112.4   \n6       6,446   283,956,048   35,573,674,946          125.3   \n..         ...           ...              ...            ...  \n283       682    27,488,272    3,431,216,502          124.8   \n284       740     1,485,977      114,715,191           77.2   \n285    20,012    64,050,824    8,849,702,280          138.2   \n286    76,728    36,353,318    3,854,905,776            106   \n287   108,084   133,371,815   16,655,546,283          124.9   \n\n[285 rows x 8 columns]",
      "text/html": "<div>\n<style scoped>\n    .dataframe tbody tr th:only-of-type {\n        vertical-align: middle;\n    }\n\n    .dataframe tbody tr th {\n        vertical-align: top;\n    }\n\n    .dataframe thead th {\n        text-align: right;\n    }\n</style>\n<table border=\"1\" class=\"dataframe\">\n  <thead>\n    <tr style=\"text-align: right;\">\n      <th></th>\n      <th>계약종별 전력사용량 월별( 20220804 현재 )</th>\n      <th>Unnamed: 1</th>\n      <th>Unnamed: 2</th>\n      <th>Unnamed: 3</th>\n      <th>Unnamed: 4</th>\n      <th>Unnamed: 5</th>\n      <th>Unnamed: 6</th>\n      <th>Unnamed: 7</th>\n    </tr>\n  </thead>\n  <tbody>\n    <tr>\n      <th>2</th>\n      <td>년월</td>\n      <td>시구</td>\n      <td>시군구</td>\n      <td>계약구분</td>\n      <td>고객호수(호)</td>\n      <td>사용량(kWh)</td>\n      <td>전기요금(원)</td>\n      <td>평균판매단가(원/kWh)</td>\n    </tr>\n    <tr>\n      <th>3</th>\n      <td>202107</td>\n      <td>광주광역시</td>\n      <td>전체(시 / 군 / 구)</td>\n      <td>주택용</td>\n      <td>387,682</td>\n      <td>194,781,115</td>\n      <td>19,607,188,124</td>\n      <td>100.7</td>\n    </tr>\n    <tr>\n      <th>4</th>\n      <td>202107</td>\n      <td>광주광역시</td>\n      <td>전체(시 / 군 / 구)</td>\n      <td>일반용</td>\n      <td>94,824</td>\n      <td>271,010,453</td>\n      <td>38,312,765,028</td>\n      <td>141.4</td>\n    </tr>\n    <tr>\n      <th>5</th>\n      <td>202107</td>\n      <td>광주광역시</td>\n      <td>전체(시 / 군 / 구)</td>\n      <td>교육용</td>\n      <td>628</td>\n      <td>26,593,717</td>\n      <td>2,989,093,757</td>\n      <td>112.4</td>\n    </tr>\n    <tr>\n      <th>6</th>\n      <td>202107</td>\n      <td>광주광역시</td>\n      <td>전체(시 / 군 / 구)</td>\n      <td>산업용</td>\n      <td>6,446</td>\n      <td>283,956,048</td>\n      <td>35,573,674,946</td>\n      <td>125.3</td>\n    </tr>\n    <tr>\n      <th>...</th>\n      <td>...</td>\n      <td>...</td>\n      <td>...</td>\n      <td>...</td>\n      <td>...</td>\n      <td>...</td>\n      <td>...</td>\n      <td>...</td>\n    </tr>\n    <tr>\n      <th>283</th>\n      <td>202112</td>\n      <td>광주광역시</td>\n      <td>서구</td>\n      <td>산업용</td>\n      <td>682</td>\n      <td>27,488,272</td>\n      <td>3,431,216,502</td>\n      <td>124.8</td>\n    </tr>\n    <tr>\n      <th>284</th>\n      <td>202112</td>\n      <td>광주광역시</td>\n      <td>서구</td>\n      <td>심 야</td>\n      <td>740</td>\n      <td>1,485,977</td>\n      <td>114,715,191</td>\n      <td>77.2</td>\n    </tr>\n    <tr>\n      <th>285</th>\n      <td>202112</td>\n      <td>광주광역시</td>\n      <td>서구</td>\n      <td>일반용</td>\n      <td>20,012</td>\n      <td>64,050,824</td>\n      <td>8,849,702,280</td>\n      <td>138.2</td>\n    </tr>\n    <tr>\n      <th>286</th>\n      <td>202112</td>\n      <td>광주광역시</td>\n      <td>서구</td>\n      <td>주택용</td>\n      <td>76,728</td>\n      <td>36,353,318</td>\n      <td>3,854,905,776</td>\n      <td>106</td>\n    </tr>\n    <tr>\n      <th>287</th>\n      <td>202112</td>\n      <td>광주광역시</td>\n      <td>서구</td>\n      <td>합계</td>\n      <td>108,084</td>\n      <td>133,371,815</td>\n      <td>16,655,546,283</td>\n      <td>124.9</td>\n    </tr>\n  </tbody>\n</table>\n<p>285 rows × 8 columns</p>\n</div>"
     },
     "execution_count": 3,
     "metadata": {},
     "output_type": "execute_result"
    }
   ],
   "source": [
    "df = df.drop([0,1 , 46] , axis = 0)\n",
    "#0,1 , 10은 지우는게 맞다\n",
    "df"
   ],
   "metadata": {
    "collapsed": false,
    "pycharm": {
     "name": "#%%\n"
    }
   }
  },
  {
   "cell_type": "code",
   "execution_count": 4,
   "outputs": [],
   "source": [
    "a= df.loc[2].tolist()\n",
    "a\n",
    "df = df.drop([2] , axis = 0)"
   ],
   "metadata": {
    "collapsed": false,
    "pycharm": {
     "name": "#%%\n"
    }
   }
  },
  {
   "cell_type": "code",
   "execution_count": 5,
   "outputs": [
    {
     "data": {
      "text/plain": "         년월     시구            시군구 계약구분   고객호수(호)      사용량(kWh)  \\\n3    202107  광주광역시  전체(시 / 군 / 구)  주택용  387,682   194,781,115    \n4    202107  광주광역시  전체(시 / 군 / 구)  일반용   94,824   271,010,453    \n5    202107  광주광역시  전체(시 / 군 / 구)  교육용      628    26,593,717    \n6    202107  광주광역시  전체(시 / 군 / 구)  산업용    6,446   283,956,048    \n7    202107  광주광역시  전체(시 / 군 / 구)  농사용   12,197     5,451,554    \n..      ...    ...            ...  ...       ...           ...   \n283  202112  광주광역시             서구  산업용      682    27,488,272    \n284  202112  광주광역시             서구  심 야      740     1,485,977    \n285  202112  광주광역시             서구  일반용   20,012    64,050,824    \n286  202112  광주광역시             서구  주택용   76,728    36,353,318    \n287  202112  광주광역시             서구   합계  108,084   133,371,815    \n\n             전기요금(원) 평균판매단가(원/kWh)  \n3    19,607,188,124         100.7   \n4    38,312,765,028         141.4   \n5     2,989,093,757         112.4   \n6    35,573,674,946         125.3   \n7       267,962,113          49.2   \n..               ...           ...  \n283   3,431,216,502         124.8   \n284     114,715,191          77.2   \n285   8,849,702,280         138.2   \n286   3,854,905,776           106   \n287  16,655,546,283         124.9   \n\n[284 rows x 8 columns]",
      "text/html": "<div>\n<style scoped>\n    .dataframe tbody tr th:only-of-type {\n        vertical-align: middle;\n    }\n\n    .dataframe tbody tr th {\n        vertical-align: top;\n    }\n\n    .dataframe thead th {\n        text-align: right;\n    }\n</style>\n<table border=\"1\" class=\"dataframe\">\n  <thead>\n    <tr style=\"text-align: right;\">\n      <th></th>\n      <th>년월</th>\n      <th>시구</th>\n      <th>시군구</th>\n      <th>계약구분</th>\n      <th>고객호수(호)</th>\n      <th>사용량(kWh)</th>\n      <th>전기요금(원)</th>\n      <th>평균판매단가(원/kWh)</th>\n    </tr>\n  </thead>\n  <tbody>\n    <tr>\n      <th>3</th>\n      <td>202107</td>\n      <td>광주광역시</td>\n      <td>전체(시 / 군 / 구)</td>\n      <td>주택용</td>\n      <td>387,682</td>\n      <td>194,781,115</td>\n      <td>19,607,188,124</td>\n      <td>100.7</td>\n    </tr>\n    <tr>\n      <th>4</th>\n      <td>202107</td>\n      <td>광주광역시</td>\n      <td>전체(시 / 군 / 구)</td>\n      <td>일반용</td>\n      <td>94,824</td>\n      <td>271,010,453</td>\n      <td>38,312,765,028</td>\n      <td>141.4</td>\n    </tr>\n    <tr>\n      <th>5</th>\n      <td>202107</td>\n      <td>광주광역시</td>\n      <td>전체(시 / 군 / 구)</td>\n      <td>교육용</td>\n      <td>628</td>\n      <td>26,593,717</td>\n      <td>2,989,093,757</td>\n      <td>112.4</td>\n    </tr>\n    <tr>\n      <th>6</th>\n      <td>202107</td>\n      <td>광주광역시</td>\n      <td>전체(시 / 군 / 구)</td>\n      <td>산업용</td>\n      <td>6,446</td>\n      <td>283,956,048</td>\n      <td>35,573,674,946</td>\n      <td>125.3</td>\n    </tr>\n    <tr>\n      <th>7</th>\n      <td>202107</td>\n      <td>광주광역시</td>\n      <td>전체(시 / 군 / 구)</td>\n      <td>농사용</td>\n      <td>12,197</td>\n      <td>5,451,554</td>\n      <td>267,962,113</td>\n      <td>49.2</td>\n    </tr>\n    <tr>\n      <th>...</th>\n      <td>...</td>\n      <td>...</td>\n      <td>...</td>\n      <td>...</td>\n      <td>...</td>\n      <td>...</td>\n      <td>...</td>\n      <td>...</td>\n    </tr>\n    <tr>\n      <th>283</th>\n      <td>202112</td>\n      <td>광주광역시</td>\n      <td>서구</td>\n      <td>산업용</td>\n      <td>682</td>\n      <td>27,488,272</td>\n      <td>3,431,216,502</td>\n      <td>124.8</td>\n    </tr>\n    <tr>\n      <th>284</th>\n      <td>202112</td>\n      <td>광주광역시</td>\n      <td>서구</td>\n      <td>심 야</td>\n      <td>740</td>\n      <td>1,485,977</td>\n      <td>114,715,191</td>\n      <td>77.2</td>\n    </tr>\n    <tr>\n      <th>285</th>\n      <td>202112</td>\n      <td>광주광역시</td>\n      <td>서구</td>\n      <td>일반용</td>\n      <td>20,012</td>\n      <td>64,050,824</td>\n      <td>8,849,702,280</td>\n      <td>138.2</td>\n    </tr>\n    <tr>\n      <th>286</th>\n      <td>202112</td>\n      <td>광주광역시</td>\n      <td>서구</td>\n      <td>주택용</td>\n      <td>76,728</td>\n      <td>36,353,318</td>\n      <td>3,854,905,776</td>\n      <td>106</td>\n    </tr>\n    <tr>\n      <th>287</th>\n      <td>202112</td>\n      <td>광주광역시</td>\n      <td>서구</td>\n      <td>합계</td>\n      <td>108,084</td>\n      <td>133,371,815</td>\n      <td>16,655,546,283</td>\n      <td>124.9</td>\n    </tr>\n  </tbody>\n</table>\n<p>284 rows × 8 columns</p>\n</div>"
     },
     "execution_count": 5,
     "metadata": {},
     "output_type": "execute_result"
    }
   ],
   "source": [
    "df.columns = a\n",
    "df"
   ],
   "metadata": {
    "collapsed": false,
    "pycharm": {
     "name": "#%%\n"
    }
   }
  },
  {
   "cell_type": "code",
   "execution_count": 6,
   "outputs": [
    {
     "data": {
      "text/plain": "        년월     시구            시군구 계약구분    고객호수(호)       사용량(kWh)  \\\n3   202107  광주광역시  전체(시 / 군 / 구)  주택용   387,682    194,781,115    \n4   202107  광주광역시  전체(시 / 군 / 구)  일반용    94,824    271,010,453    \n5   202107  광주광역시  전체(시 / 군 / 구)  교육용       628     26,593,717    \n6   202107  광주광역시  전체(시 / 군 / 구)  산업용     6,446    283,956,048    \n7   202107  광주광역시  전체(시 / 군 / 구)  농사용    12,197      5,451,554    \n8   202107  광주광역시  전체(시 / 군 / 구)  가로등    48,315      5,533,969    \n9   202107  광주광역시  전체(시 / 군 / 구)  심 야     5,547      3,618,761    \n10  202108  광주광역시  전체(시 / 군 / 구)  주택용   387,653    258,512,577    \n11  202108  광주광역시  전체(시 / 군 / 구)  일반용    95,066    308,673,441    \n12  202108  광주광역시  전체(시 / 군 / 구)  교육용       628     24,239,568    \n13  202108  광주광역시  전체(시 / 군 / 구)  산업용     6,446    268,027,985    \n14  202108  광주광역시  전체(시 / 군 / 구)  농사용    12,245      7,654,088    \n15  202108  광주광역시  전체(시 / 군 / 구)  가로등    48,354      5,952,283    \n16  202108  광주광역시  전체(시 / 군 / 구)  심 야     5,512      3,461,140    \n17  202109  광주광역시  전체(시 / 군 / 구)  주택용   387,837    209,947,202    \n18  202109  광주광역시  전체(시 / 군 / 구)  일반용    95,310    270,062,761    \n19  202109  광주광역시  전체(시 / 군 / 구)  교육용       628     25,204,460    \n20  202109  광주광역시  전체(시 / 군 / 구)  산업용     6,461    260,904,562    \n21  202109  광주광역시  전체(시 / 군 / 구)  농사용    12,261      6,404,678    \n22  202109  광주광역시  전체(시 / 군 / 구)  가로등    48,497      6,165,556    \n23  202109  광주광역시  전체(시 / 군 / 구)  심 야     5,488      3,068,882    \n24  202110  광주광역시  전체(시 / 군 / 구)  주택용   388,074    175,801,672    \n25  202110  광주광역시  전체(시 / 군 / 구)  일반용    95,415    236,352,904    \n26  202110  광주광역시  전체(시 / 군 / 구)  교육용       630     22,002,688    \n27  202110  광주광역시  전체(시 / 군 / 구)  산업용     6,469    256,744,228    \n28  202110  광주광역시  전체(시 / 군 / 구)  농사용    12,311      5,137,866    \n29  202110  광주광역시  전체(시 / 군 / 구)  가로등    48,396      6,682,524    \n30  202110  광주광역시  전체(시 / 군 / 구)  심 야     5,475      2,881,856    \n31  202111  광주광역시  전체(시 / 군 / 구)  주택용   388,504    175,674,460    \n32  202111  광주광역시  전체(시 / 군 / 구)  일반용    95,629    224,021,536    \n33  202111  광주광역시  전체(시 / 군 / 구)  교육용       630     22,376,986    \n34  202111  광주광역시  전체(시 / 군 / 구)  산업용     6,484    267,176,503    \n35  202111  광주광역시  전체(시 / 군 / 구)  농사용    16,812      8,451,779    \n36  202111  광주광역시  전체(시 / 군 / 구)  가로등    48,458      7,267,973    \n37  202111  광주광역시  전체(시 / 군 / 구)  심 야     5,454      5,844,383    \n38  202112  광주광역시  전체(시 / 군 / 구)  주택용   388,676    181,093,517    \n39  202112  광주광역시  전체(시 / 군 / 구)  일반용    96,004    248,035,067    \n40  202112  광주광역시  전체(시 / 군 / 구)  교육용       630     29,869,281    \n41  202112  광주광역시  전체(시 / 군 / 구)  산업용     6,487    277,038,051    \n42  202112  광주광역시  전체(시 / 군 / 구)  농사용    12,393      8,271,911    \n43  202112  광주광역시  전체(시 / 군 / 구)  가로등    48,497      7,534,150    \n44  202112  광주광역시  전체(시 / 군 / 구)  심 야     5,419      9,572,455    \n45      합계     합계             합계   합계  3,344,872  4,627,056,590   \n\n            전기요금(원) 평균판매단가(원/kWh)  \n3   19,607,188,124         100.7   \n4   38,312,765,028         141.4   \n5    2,989,093,757         112.4   \n6   35,573,674,946         125.3   \n7      267,962,113          49.2   \n8      655,973,400         118.5   \n9      236,811,425          65.4   \n10  29,189,720,148         112.9   \n11  42,206,089,199         136.7   \n12   2,851,503,983         117.6   \n13  33,463,399,375         124.9   \n14     351,279,182          45.9   \n15     682,817,719         114.7   \n16     230,683,923          66.6   \n17  21,655,880,930         103.1   \n18  33,363,196,711         123.5   \n19   2,561,298,563         101.6   \n20  27,226,702,157         104.4   \n21     309,202,078          48.3   \n22     692,036,534         112.2   \n23     201,210,179          65.6   \n24  18,401,897,275         104.7   \n25  26,352,020,706         111.5   \n26   2,028,393,358          92.2   \n27  25,620,715,923          99.8   \n28     276,611,249          53.8   \n29     739,486,244         110.7   \n30     198,653,091          68.9   \n31  18,435,183,604         104.9   \n32  28,633,968,900         127.8   \n33   2,355,682,071         105.3   \n34  32,250,082,705         120.7   \n35     370,925,157          43.9   \n36     789,731,191         108.7   \n37     394,951,458          67.6   \n38  19,418,543,343         107.2   \n39  34,118,686,636         137.6   \n40   3,110,040,095         104.1   \n41  34,453,346,921         124.4   \n42     411,026,691          49.7   \n43     803,585,081         106.7   \n44     718,684,534          75.1   \n45  542,510,705,707         117.2  ",
      "text/html": "<div>\n<style scoped>\n    .dataframe tbody tr th:only-of-type {\n        vertical-align: middle;\n    }\n\n    .dataframe tbody tr th {\n        vertical-align: top;\n    }\n\n    .dataframe thead th {\n        text-align: right;\n    }\n</style>\n<table border=\"1\" class=\"dataframe\">\n  <thead>\n    <tr style=\"text-align: right;\">\n      <th></th>\n      <th>년월</th>\n      <th>시구</th>\n      <th>시군구</th>\n      <th>계약구분</th>\n      <th>고객호수(호)</th>\n      <th>사용량(kWh)</th>\n      <th>전기요금(원)</th>\n      <th>평균판매단가(원/kWh)</th>\n    </tr>\n  </thead>\n  <tbody>\n    <tr>\n      <th>3</th>\n      <td>202107</td>\n      <td>광주광역시</td>\n      <td>전체(시 / 군 / 구)</td>\n      <td>주택용</td>\n      <td>387,682</td>\n      <td>194,781,115</td>\n      <td>19,607,188,124</td>\n      <td>100.7</td>\n    </tr>\n    <tr>\n      <th>4</th>\n      <td>202107</td>\n      <td>광주광역시</td>\n      <td>전체(시 / 군 / 구)</td>\n      <td>일반용</td>\n      <td>94,824</td>\n      <td>271,010,453</td>\n      <td>38,312,765,028</td>\n      <td>141.4</td>\n    </tr>\n    <tr>\n      <th>5</th>\n      <td>202107</td>\n      <td>광주광역시</td>\n      <td>전체(시 / 군 / 구)</td>\n      <td>교육용</td>\n      <td>628</td>\n      <td>26,593,717</td>\n      <td>2,989,093,757</td>\n      <td>112.4</td>\n    </tr>\n    <tr>\n      <th>6</th>\n      <td>202107</td>\n      <td>광주광역시</td>\n      <td>전체(시 / 군 / 구)</td>\n      <td>산업용</td>\n      <td>6,446</td>\n      <td>283,956,048</td>\n      <td>35,573,674,946</td>\n      <td>125.3</td>\n    </tr>\n    <tr>\n      <th>7</th>\n      <td>202107</td>\n      <td>광주광역시</td>\n      <td>전체(시 / 군 / 구)</td>\n      <td>농사용</td>\n      <td>12,197</td>\n      <td>5,451,554</td>\n      <td>267,962,113</td>\n      <td>49.2</td>\n    </tr>\n    <tr>\n      <th>8</th>\n      <td>202107</td>\n      <td>광주광역시</td>\n      <td>전체(시 / 군 / 구)</td>\n      <td>가로등</td>\n      <td>48,315</td>\n      <td>5,533,969</td>\n      <td>655,973,400</td>\n      <td>118.5</td>\n    </tr>\n    <tr>\n      <th>9</th>\n      <td>202107</td>\n      <td>광주광역시</td>\n      <td>전체(시 / 군 / 구)</td>\n      <td>심 야</td>\n      <td>5,547</td>\n      <td>3,618,761</td>\n      <td>236,811,425</td>\n      <td>65.4</td>\n    </tr>\n    <tr>\n      <th>10</th>\n      <td>202108</td>\n      <td>광주광역시</td>\n      <td>전체(시 / 군 / 구)</td>\n      <td>주택용</td>\n      <td>387,653</td>\n      <td>258,512,577</td>\n      <td>29,189,720,148</td>\n      <td>112.9</td>\n    </tr>\n    <tr>\n      <th>11</th>\n      <td>202108</td>\n      <td>광주광역시</td>\n      <td>전체(시 / 군 / 구)</td>\n      <td>일반용</td>\n      <td>95,066</td>\n      <td>308,673,441</td>\n      <td>42,206,089,199</td>\n      <td>136.7</td>\n    </tr>\n    <tr>\n      <th>12</th>\n      <td>202108</td>\n      <td>광주광역시</td>\n      <td>전체(시 / 군 / 구)</td>\n      <td>교육용</td>\n      <td>628</td>\n      <td>24,239,568</td>\n      <td>2,851,503,983</td>\n      <td>117.6</td>\n    </tr>\n    <tr>\n      <th>13</th>\n      <td>202108</td>\n      <td>광주광역시</td>\n      <td>전체(시 / 군 / 구)</td>\n      <td>산업용</td>\n      <td>6,446</td>\n      <td>268,027,985</td>\n      <td>33,463,399,375</td>\n      <td>124.9</td>\n    </tr>\n    <tr>\n      <th>14</th>\n      <td>202108</td>\n      <td>광주광역시</td>\n      <td>전체(시 / 군 / 구)</td>\n      <td>농사용</td>\n      <td>12,245</td>\n      <td>7,654,088</td>\n      <td>351,279,182</td>\n      <td>45.9</td>\n    </tr>\n    <tr>\n      <th>15</th>\n      <td>202108</td>\n      <td>광주광역시</td>\n      <td>전체(시 / 군 / 구)</td>\n      <td>가로등</td>\n      <td>48,354</td>\n      <td>5,952,283</td>\n      <td>682,817,719</td>\n      <td>114.7</td>\n    </tr>\n    <tr>\n      <th>16</th>\n      <td>202108</td>\n      <td>광주광역시</td>\n      <td>전체(시 / 군 / 구)</td>\n      <td>심 야</td>\n      <td>5,512</td>\n      <td>3,461,140</td>\n      <td>230,683,923</td>\n      <td>66.6</td>\n    </tr>\n    <tr>\n      <th>17</th>\n      <td>202109</td>\n      <td>광주광역시</td>\n      <td>전체(시 / 군 / 구)</td>\n      <td>주택용</td>\n      <td>387,837</td>\n      <td>209,947,202</td>\n      <td>21,655,880,930</td>\n      <td>103.1</td>\n    </tr>\n    <tr>\n      <th>18</th>\n      <td>202109</td>\n      <td>광주광역시</td>\n      <td>전체(시 / 군 / 구)</td>\n      <td>일반용</td>\n      <td>95,310</td>\n      <td>270,062,761</td>\n      <td>33,363,196,711</td>\n      <td>123.5</td>\n    </tr>\n    <tr>\n      <th>19</th>\n      <td>202109</td>\n      <td>광주광역시</td>\n      <td>전체(시 / 군 / 구)</td>\n      <td>교육용</td>\n      <td>628</td>\n      <td>25,204,460</td>\n      <td>2,561,298,563</td>\n      <td>101.6</td>\n    </tr>\n    <tr>\n      <th>20</th>\n      <td>202109</td>\n      <td>광주광역시</td>\n      <td>전체(시 / 군 / 구)</td>\n      <td>산업용</td>\n      <td>6,461</td>\n      <td>260,904,562</td>\n      <td>27,226,702,157</td>\n      <td>104.4</td>\n    </tr>\n    <tr>\n      <th>21</th>\n      <td>202109</td>\n      <td>광주광역시</td>\n      <td>전체(시 / 군 / 구)</td>\n      <td>농사용</td>\n      <td>12,261</td>\n      <td>6,404,678</td>\n      <td>309,202,078</td>\n      <td>48.3</td>\n    </tr>\n    <tr>\n      <th>22</th>\n      <td>202109</td>\n      <td>광주광역시</td>\n      <td>전체(시 / 군 / 구)</td>\n      <td>가로등</td>\n      <td>48,497</td>\n      <td>6,165,556</td>\n      <td>692,036,534</td>\n      <td>112.2</td>\n    </tr>\n    <tr>\n      <th>23</th>\n      <td>202109</td>\n      <td>광주광역시</td>\n      <td>전체(시 / 군 / 구)</td>\n      <td>심 야</td>\n      <td>5,488</td>\n      <td>3,068,882</td>\n      <td>201,210,179</td>\n      <td>65.6</td>\n    </tr>\n    <tr>\n      <th>24</th>\n      <td>202110</td>\n      <td>광주광역시</td>\n      <td>전체(시 / 군 / 구)</td>\n      <td>주택용</td>\n      <td>388,074</td>\n      <td>175,801,672</td>\n      <td>18,401,897,275</td>\n      <td>104.7</td>\n    </tr>\n    <tr>\n      <th>25</th>\n      <td>202110</td>\n      <td>광주광역시</td>\n      <td>전체(시 / 군 / 구)</td>\n      <td>일반용</td>\n      <td>95,415</td>\n      <td>236,352,904</td>\n      <td>26,352,020,706</td>\n      <td>111.5</td>\n    </tr>\n    <tr>\n      <th>26</th>\n      <td>202110</td>\n      <td>광주광역시</td>\n      <td>전체(시 / 군 / 구)</td>\n      <td>교육용</td>\n      <td>630</td>\n      <td>22,002,688</td>\n      <td>2,028,393,358</td>\n      <td>92.2</td>\n    </tr>\n    <tr>\n      <th>27</th>\n      <td>202110</td>\n      <td>광주광역시</td>\n      <td>전체(시 / 군 / 구)</td>\n      <td>산업용</td>\n      <td>6,469</td>\n      <td>256,744,228</td>\n      <td>25,620,715,923</td>\n      <td>99.8</td>\n    </tr>\n    <tr>\n      <th>28</th>\n      <td>202110</td>\n      <td>광주광역시</td>\n      <td>전체(시 / 군 / 구)</td>\n      <td>농사용</td>\n      <td>12,311</td>\n      <td>5,137,866</td>\n      <td>276,611,249</td>\n      <td>53.8</td>\n    </tr>\n    <tr>\n      <th>29</th>\n      <td>202110</td>\n      <td>광주광역시</td>\n      <td>전체(시 / 군 / 구)</td>\n      <td>가로등</td>\n      <td>48,396</td>\n      <td>6,682,524</td>\n      <td>739,486,244</td>\n      <td>110.7</td>\n    </tr>\n    <tr>\n      <th>30</th>\n      <td>202110</td>\n      <td>광주광역시</td>\n      <td>전체(시 / 군 / 구)</td>\n      <td>심 야</td>\n      <td>5,475</td>\n      <td>2,881,856</td>\n      <td>198,653,091</td>\n      <td>68.9</td>\n    </tr>\n    <tr>\n      <th>31</th>\n      <td>202111</td>\n      <td>광주광역시</td>\n      <td>전체(시 / 군 / 구)</td>\n      <td>주택용</td>\n      <td>388,504</td>\n      <td>175,674,460</td>\n      <td>18,435,183,604</td>\n      <td>104.9</td>\n    </tr>\n    <tr>\n      <th>32</th>\n      <td>202111</td>\n      <td>광주광역시</td>\n      <td>전체(시 / 군 / 구)</td>\n      <td>일반용</td>\n      <td>95,629</td>\n      <td>224,021,536</td>\n      <td>28,633,968,900</td>\n      <td>127.8</td>\n    </tr>\n    <tr>\n      <th>33</th>\n      <td>202111</td>\n      <td>광주광역시</td>\n      <td>전체(시 / 군 / 구)</td>\n      <td>교육용</td>\n      <td>630</td>\n      <td>22,376,986</td>\n      <td>2,355,682,071</td>\n      <td>105.3</td>\n    </tr>\n    <tr>\n      <th>34</th>\n      <td>202111</td>\n      <td>광주광역시</td>\n      <td>전체(시 / 군 / 구)</td>\n      <td>산업용</td>\n      <td>6,484</td>\n      <td>267,176,503</td>\n      <td>32,250,082,705</td>\n      <td>120.7</td>\n    </tr>\n    <tr>\n      <th>35</th>\n      <td>202111</td>\n      <td>광주광역시</td>\n      <td>전체(시 / 군 / 구)</td>\n      <td>농사용</td>\n      <td>16,812</td>\n      <td>8,451,779</td>\n      <td>370,925,157</td>\n      <td>43.9</td>\n    </tr>\n    <tr>\n      <th>36</th>\n      <td>202111</td>\n      <td>광주광역시</td>\n      <td>전체(시 / 군 / 구)</td>\n      <td>가로등</td>\n      <td>48,458</td>\n      <td>7,267,973</td>\n      <td>789,731,191</td>\n      <td>108.7</td>\n    </tr>\n    <tr>\n      <th>37</th>\n      <td>202111</td>\n      <td>광주광역시</td>\n      <td>전체(시 / 군 / 구)</td>\n      <td>심 야</td>\n      <td>5,454</td>\n      <td>5,844,383</td>\n      <td>394,951,458</td>\n      <td>67.6</td>\n    </tr>\n    <tr>\n      <th>38</th>\n      <td>202112</td>\n      <td>광주광역시</td>\n      <td>전체(시 / 군 / 구)</td>\n      <td>주택용</td>\n      <td>388,676</td>\n      <td>181,093,517</td>\n      <td>19,418,543,343</td>\n      <td>107.2</td>\n    </tr>\n    <tr>\n      <th>39</th>\n      <td>202112</td>\n      <td>광주광역시</td>\n      <td>전체(시 / 군 / 구)</td>\n      <td>일반용</td>\n      <td>96,004</td>\n      <td>248,035,067</td>\n      <td>34,118,686,636</td>\n      <td>137.6</td>\n    </tr>\n    <tr>\n      <th>40</th>\n      <td>202112</td>\n      <td>광주광역시</td>\n      <td>전체(시 / 군 / 구)</td>\n      <td>교육용</td>\n      <td>630</td>\n      <td>29,869,281</td>\n      <td>3,110,040,095</td>\n      <td>104.1</td>\n    </tr>\n    <tr>\n      <th>41</th>\n      <td>202112</td>\n      <td>광주광역시</td>\n      <td>전체(시 / 군 / 구)</td>\n      <td>산업용</td>\n      <td>6,487</td>\n      <td>277,038,051</td>\n      <td>34,453,346,921</td>\n      <td>124.4</td>\n    </tr>\n    <tr>\n      <th>42</th>\n      <td>202112</td>\n      <td>광주광역시</td>\n      <td>전체(시 / 군 / 구)</td>\n      <td>농사용</td>\n      <td>12,393</td>\n      <td>8,271,911</td>\n      <td>411,026,691</td>\n      <td>49.7</td>\n    </tr>\n    <tr>\n      <th>43</th>\n      <td>202112</td>\n      <td>광주광역시</td>\n      <td>전체(시 / 군 / 구)</td>\n      <td>가로등</td>\n      <td>48,497</td>\n      <td>7,534,150</td>\n      <td>803,585,081</td>\n      <td>106.7</td>\n    </tr>\n    <tr>\n      <th>44</th>\n      <td>202112</td>\n      <td>광주광역시</td>\n      <td>전체(시 / 군 / 구)</td>\n      <td>심 야</td>\n      <td>5,419</td>\n      <td>9,572,455</td>\n      <td>718,684,534</td>\n      <td>75.1</td>\n    </tr>\n    <tr>\n      <th>45</th>\n      <td>합계</td>\n      <td>합계</td>\n      <td>합계</td>\n      <td>합계</td>\n      <td>3,344,872</td>\n      <td>4,627,056,590</td>\n      <td>542,510,705,707</td>\n      <td>117.2</td>\n    </tr>\n  </tbody>\n</table>\n</div>"
     },
     "execution_count": 6,
     "metadata": {},
     "output_type": "execute_result"
    }
   ],
   "source": [
    "df_2 = df.loc[:45]\n",
    "df_2\n"
   ],
   "metadata": {
    "collapsed": false,
    "pycharm": {
     "name": "#%%\n"
    }
   }
  },
  {
   "cell_type": "code",
   "execution_count": 7,
   "outputs": [
    {
     "name": "stderr",
     "output_type": "stream",
     "text": [
      "C:\\Users\\user\\AppData\\Local\\Temp\\ipykernel_12404\\3551721261.py:3: SettingWithCopyWarning: \n",
      "A value is trying to be set on a copy of a slice from a DataFrame\n",
      "\n",
      "See the caveats in the documentation: https://pandas.pydata.org/pandas-docs/stable/user_guide/indexing.html#returning-a-view-versus-a-copy\n",
      "  GyeonGi.drop(['시군구' , '전기요금(원)' , '평균판매단가(원/kWh)'] , axis = 1 , inplace = True)\n"
     ]
    },
    {
     "data": {
      "text/plain": "        년월     시구 계약구분  고객호수(호)      사용량(kWh)\n4   202107  광주광역시  일반용  94,824   271,010,453 \n11  202108  광주광역시  일반용  95,066   308,673,441 \n18  202109  광주광역시  일반용  95,310   270,062,761 \n25  202110  광주광역시  일반용  95,415   236,352,904 \n32  202111  광주광역시  일반용  95,629   224,021,536 \n39  202112  광주광역시  일반용  96,004   248,035,067 ",
      "text/html": "<div>\n<style scoped>\n    .dataframe tbody tr th:only-of-type {\n        vertical-align: middle;\n    }\n\n    .dataframe tbody tr th {\n        vertical-align: top;\n    }\n\n    .dataframe thead th {\n        text-align: right;\n    }\n</style>\n<table border=\"1\" class=\"dataframe\">\n  <thead>\n    <tr style=\"text-align: right;\">\n      <th></th>\n      <th>년월</th>\n      <th>시구</th>\n      <th>계약구분</th>\n      <th>고객호수(호)</th>\n      <th>사용량(kWh)</th>\n    </tr>\n  </thead>\n  <tbody>\n    <tr>\n      <th>4</th>\n      <td>202107</td>\n      <td>광주광역시</td>\n      <td>일반용</td>\n      <td>94,824</td>\n      <td>271,010,453</td>\n    </tr>\n    <tr>\n      <th>11</th>\n      <td>202108</td>\n      <td>광주광역시</td>\n      <td>일반용</td>\n      <td>95,066</td>\n      <td>308,673,441</td>\n    </tr>\n    <tr>\n      <th>18</th>\n      <td>202109</td>\n      <td>광주광역시</td>\n      <td>일반용</td>\n      <td>95,310</td>\n      <td>270,062,761</td>\n    </tr>\n    <tr>\n      <th>25</th>\n      <td>202110</td>\n      <td>광주광역시</td>\n      <td>일반용</td>\n      <td>95,415</td>\n      <td>236,352,904</td>\n    </tr>\n    <tr>\n      <th>32</th>\n      <td>202111</td>\n      <td>광주광역시</td>\n      <td>일반용</td>\n      <td>95,629</td>\n      <td>224,021,536</td>\n    </tr>\n    <tr>\n      <th>39</th>\n      <td>202112</td>\n      <td>광주광역시</td>\n      <td>일반용</td>\n      <td>96,004</td>\n      <td>248,035,067</td>\n    </tr>\n  </tbody>\n</table>\n</div>"
     },
     "execution_count": 7,
     "metadata": {},
     "output_type": "execute_result"
    }
   ],
   "source": [
    "GyeonGi  = df_2.loc[(df_2['계약구분'] == '일반용')]\n",
    "#SEOUL = df_3.loc[(df_3['계약구분'] =='일반용')]\n",
    "GyeonGi.drop(['시군구' , '전기요금(원)' , '평균판매단가(원/kWh)'] , axis = 1 , inplace = True)\n",
    "GyeonGi"
   ],
   "metadata": {
    "collapsed": false,
    "pycharm": {
     "name": "#%%\n"
    }
   }
  },
  {
   "cell_type": "code",
   "execution_count": 8,
   "outputs": [],
   "source": [
    "#SEOUL1.to_csv(\"서울특별시_계약종별_전국_전력사용량_2022.csv\" , mode = 'w' , encoding= 'cp949')"
   ],
   "metadata": {
    "collapsed": false,
    "pycharm": {
     "name": "#%%\n"
    }
   }
  },
  {
   "cell_type": "code",
   "execution_count": 9,
   "outputs": [],
   "source": [
    "#df_2.to_csv(\"서울특별시_계약종별_전국_전력사용량.csv\" , mode = 'w' , encoding= 'cp949')"
   ],
   "metadata": {
    "collapsed": false,
    "pycharm": {
     "name": "#%%\n"
    }
   }
  },
  {
   "cell_type": "code",
   "execution_count": 10,
   "outputs": [
    {
     "data": {
      "text/plain": "         년월     시구  시군구 계약구분  고객호수(호)     사용량(kWh)\n53   202107  광주광역시  광산구  일반용  24,072   72,031,208 \n93   202108  광주광역시  광산구  일반용  24,108   82,532,069 \n133  202109  광주광역시  광산구  일반용  24,258   72,747,411 \n173  202110  광주광역시  광산구  일반용  24,315   63,829,120 \n213  202111  광주광역시  광산구  일반용  24,425   59,854,682 \n253  202112  광주광역시  광산구  일반용  24,543   65,482,168 \n61   202107  광주광역시   남구  일반용  11,803   28,438,303 \n101  202108  광주광역시   남구  일반용  11,824   31,832,186 \n141  202109  광주광역시   남구  일반용  11,886   27,363,291 \n181  202110  광주광역시   남구  일반용  11,909   23,987,460 \n221  202111  광주광역시   남구  일반용  11,921   23,549,022 \n261  202112  광주광역시   남구  일반용  11,984   26,381,684 \n69   202107  광주광역시   동구  일반용  11,486   33,429,183 \n109  202108  광주광역시   동구  일반용  11,486   37,613,661 \n149  202109  광주광역시   동구  일반용  11,501   32,382,040 \n189  202110  광주광역시   동구  일반용  11,499   28,562,133 \n229  202111  광주광역시   동구  일반용  11,498   26,865,120 \n269  202112  광주광역시   동구  일반용  11,549   30,767,193 \n77   202107  광주광역시   북구  일반용  27,673   66,846,417 \n117  202108  광주광역시   북구  일반용  27,728   76,264,261 \n157  202109  광주광역시   북구  일반용  27,714   66,309,339 \n197  202110  광주광역시   북구  일반용  27,758   57,799,501 \n237  202111  광주광역시   북구  일반용  27,818   55,255,082 \n277  202112  광주광역시   북구  일반용  27,916   61,353,198 \n85   202107  광주광역시   서구  일반용  19,790   70,265,342 \n125  202108  광주광역시   서구  일반용  19,920   80,431,264 \n165  202109  광주광역시   서구  일반용  19,951   71,260,680 \n205  202110  광주광역시   서구  일반용  19,934   62,174,690 \n245  202111  광주광역시   서구  일반용  19,967   58,497,630 \n285  202112  광주광역시   서구  일반용  20,012   64,050,824 ",
      "text/html": "<div>\n<style scoped>\n    .dataframe tbody tr th:only-of-type {\n        vertical-align: middle;\n    }\n\n    .dataframe tbody tr th {\n        vertical-align: top;\n    }\n\n    .dataframe thead th {\n        text-align: right;\n    }\n</style>\n<table border=\"1\" class=\"dataframe\">\n  <thead>\n    <tr style=\"text-align: right;\">\n      <th></th>\n      <th>년월</th>\n      <th>시구</th>\n      <th>시군구</th>\n      <th>계약구분</th>\n      <th>고객호수(호)</th>\n      <th>사용량(kWh)</th>\n    </tr>\n  </thead>\n  <tbody>\n    <tr>\n      <th>53</th>\n      <td>202107</td>\n      <td>광주광역시</td>\n      <td>광산구</td>\n      <td>일반용</td>\n      <td>24,072</td>\n      <td>72,031,208</td>\n    </tr>\n    <tr>\n      <th>93</th>\n      <td>202108</td>\n      <td>광주광역시</td>\n      <td>광산구</td>\n      <td>일반용</td>\n      <td>24,108</td>\n      <td>82,532,069</td>\n    </tr>\n    <tr>\n      <th>133</th>\n      <td>202109</td>\n      <td>광주광역시</td>\n      <td>광산구</td>\n      <td>일반용</td>\n      <td>24,258</td>\n      <td>72,747,411</td>\n    </tr>\n    <tr>\n      <th>173</th>\n      <td>202110</td>\n      <td>광주광역시</td>\n      <td>광산구</td>\n      <td>일반용</td>\n      <td>24,315</td>\n      <td>63,829,120</td>\n    </tr>\n    <tr>\n      <th>213</th>\n      <td>202111</td>\n      <td>광주광역시</td>\n      <td>광산구</td>\n      <td>일반용</td>\n      <td>24,425</td>\n      <td>59,854,682</td>\n    </tr>\n    <tr>\n      <th>253</th>\n      <td>202112</td>\n      <td>광주광역시</td>\n      <td>광산구</td>\n      <td>일반용</td>\n      <td>24,543</td>\n      <td>65,482,168</td>\n    </tr>\n    <tr>\n      <th>61</th>\n      <td>202107</td>\n      <td>광주광역시</td>\n      <td>남구</td>\n      <td>일반용</td>\n      <td>11,803</td>\n      <td>28,438,303</td>\n    </tr>\n    <tr>\n      <th>101</th>\n      <td>202108</td>\n      <td>광주광역시</td>\n      <td>남구</td>\n      <td>일반용</td>\n      <td>11,824</td>\n      <td>31,832,186</td>\n    </tr>\n    <tr>\n      <th>141</th>\n      <td>202109</td>\n      <td>광주광역시</td>\n      <td>남구</td>\n      <td>일반용</td>\n      <td>11,886</td>\n      <td>27,363,291</td>\n    </tr>\n    <tr>\n      <th>181</th>\n      <td>202110</td>\n      <td>광주광역시</td>\n      <td>남구</td>\n      <td>일반용</td>\n      <td>11,909</td>\n      <td>23,987,460</td>\n    </tr>\n    <tr>\n      <th>221</th>\n      <td>202111</td>\n      <td>광주광역시</td>\n      <td>남구</td>\n      <td>일반용</td>\n      <td>11,921</td>\n      <td>23,549,022</td>\n    </tr>\n    <tr>\n      <th>261</th>\n      <td>202112</td>\n      <td>광주광역시</td>\n      <td>남구</td>\n      <td>일반용</td>\n      <td>11,984</td>\n      <td>26,381,684</td>\n    </tr>\n    <tr>\n      <th>69</th>\n      <td>202107</td>\n      <td>광주광역시</td>\n      <td>동구</td>\n      <td>일반용</td>\n      <td>11,486</td>\n      <td>33,429,183</td>\n    </tr>\n    <tr>\n      <th>109</th>\n      <td>202108</td>\n      <td>광주광역시</td>\n      <td>동구</td>\n      <td>일반용</td>\n      <td>11,486</td>\n      <td>37,613,661</td>\n    </tr>\n    <tr>\n      <th>149</th>\n      <td>202109</td>\n      <td>광주광역시</td>\n      <td>동구</td>\n      <td>일반용</td>\n      <td>11,501</td>\n      <td>32,382,040</td>\n    </tr>\n    <tr>\n      <th>189</th>\n      <td>202110</td>\n      <td>광주광역시</td>\n      <td>동구</td>\n      <td>일반용</td>\n      <td>11,499</td>\n      <td>28,562,133</td>\n    </tr>\n    <tr>\n      <th>229</th>\n      <td>202111</td>\n      <td>광주광역시</td>\n      <td>동구</td>\n      <td>일반용</td>\n      <td>11,498</td>\n      <td>26,865,120</td>\n    </tr>\n    <tr>\n      <th>269</th>\n      <td>202112</td>\n      <td>광주광역시</td>\n      <td>동구</td>\n      <td>일반용</td>\n      <td>11,549</td>\n      <td>30,767,193</td>\n    </tr>\n    <tr>\n      <th>77</th>\n      <td>202107</td>\n      <td>광주광역시</td>\n      <td>북구</td>\n      <td>일반용</td>\n      <td>27,673</td>\n      <td>66,846,417</td>\n    </tr>\n    <tr>\n      <th>117</th>\n      <td>202108</td>\n      <td>광주광역시</td>\n      <td>북구</td>\n      <td>일반용</td>\n      <td>27,728</td>\n      <td>76,264,261</td>\n    </tr>\n    <tr>\n      <th>157</th>\n      <td>202109</td>\n      <td>광주광역시</td>\n      <td>북구</td>\n      <td>일반용</td>\n      <td>27,714</td>\n      <td>66,309,339</td>\n    </tr>\n    <tr>\n      <th>197</th>\n      <td>202110</td>\n      <td>광주광역시</td>\n      <td>북구</td>\n      <td>일반용</td>\n      <td>27,758</td>\n      <td>57,799,501</td>\n    </tr>\n    <tr>\n      <th>237</th>\n      <td>202111</td>\n      <td>광주광역시</td>\n      <td>북구</td>\n      <td>일반용</td>\n      <td>27,818</td>\n      <td>55,255,082</td>\n    </tr>\n    <tr>\n      <th>277</th>\n      <td>202112</td>\n      <td>광주광역시</td>\n      <td>북구</td>\n      <td>일반용</td>\n      <td>27,916</td>\n      <td>61,353,198</td>\n    </tr>\n    <tr>\n      <th>85</th>\n      <td>202107</td>\n      <td>광주광역시</td>\n      <td>서구</td>\n      <td>일반용</td>\n      <td>19,790</td>\n      <td>70,265,342</td>\n    </tr>\n    <tr>\n      <th>125</th>\n      <td>202108</td>\n      <td>광주광역시</td>\n      <td>서구</td>\n      <td>일반용</td>\n      <td>19,920</td>\n      <td>80,431,264</td>\n    </tr>\n    <tr>\n      <th>165</th>\n      <td>202109</td>\n      <td>광주광역시</td>\n      <td>서구</td>\n      <td>일반용</td>\n      <td>19,951</td>\n      <td>71,260,680</td>\n    </tr>\n    <tr>\n      <th>205</th>\n      <td>202110</td>\n      <td>광주광역시</td>\n      <td>서구</td>\n      <td>일반용</td>\n      <td>19,934</td>\n      <td>62,174,690</td>\n    </tr>\n    <tr>\n      <th>245</th>\n      <td>202111</td>\n      <td>광주광역시</td>\n      <td>서구</td>\n      <td>일반용</td>\n      <td>19,967</td>\n      <td>58,497,630</td>\n    </tr>\n    <tr>\n      <th>285</th>\n      <td>202112</td>\n      <td>광주광역시</td>\n      <td>서구</td>\n      <td>일반용</td>\n      <td>20,012</td>\n      <td>64,050,824</td>\n    </tr>\n  </tbody>\n</table>\n</div>"
     },
     "execution_count": 10,
     "metadata": {},
     "output_type": "execute_result"
    }
   ],
   "source": [
    "df_3 = df.loc[48:]\n",
    "df_3 = df_3.loc[(df_3['계약구분'] == '일반용')]\n",
    "df_3 = df_3.sort_values(by=['시군구' , '년월'])\n",
    "df_3.drop(['전기요금(원)',   '평균판매단가(원/kWh)'] , axis = 1 , inplace = True)\n",
    "df_3"
   ],
   "metadata": {
    "collapsed": false,
    "pycharm": {
     "name": "#%%\n"
    }
   }
  },
  {
   "cell_type": "code",
   "execution_count": 11,
   "outputs": [
    {
     "data": {
      "text/plain": "'광주광역시'"
     },
     "execution_count": 11,
     "metadata": {},
     "output_type": "execute_result"
    }
   ],
   "source": [
    "a = df_3.loc[: , \"시구\"]\n",
    "b = a[:1].tolist()\n",
    "for i in b:\n",
    "    City = i\n",
    "City"
   ],
   "metadata": {
    "collapsed": false,
    "pycharm": {
     "name": "#%%\n"
    }
   }
  },
  {
   "cell_type": "code",
   "execution_count": 12,
   "outputs": [
    {
     "data": {
      "text/plain": "['광산구', '남구', '동구', '북구', '서구']"
     },
     "execution_count": 12,
     "metadata": {},
     "output_type": "execute_result"
    }
   ],
   "source": [
    "\n",
    "SIGUNGU = list(set(df_3.loc[: , '시군구'].tolist()))\n",
    "SIGUNGU.sort()\n",
    "SIGUNGU"
   ],
   "metadata": {
    "collapsed": false,
    "pycharm": {
     "name": "#%%\n"
    }
   }
  },
  {
   "cell_type": "code",
   "execution_count": 13,
   "outputs": [
    {
     "data": {
      "text/plain": "         년월     시구  시군구 계약구분   고객호수(호)      사용량(kWh)\n55   202107  광주광역시  광산구   합계  134,061   316,247,678 \n95   202108  광주광역시  광산구   합계  134,323   333,060,019 \n135  202109  광주광역시  광산구   합계  134,559   312,250,739 \n175  202110  광주광역시  광산구   합계  134,725   286,535,586 \n215  202111  광주광역시  광산구   합계  137,153   299,905,074 \n255  202112  광주광역시  광산구   합계  135,514   312,876,274 \n63   202107  광주광역시   남구   합계   81,374    65,211,147 \n103  202108  광주광역시   남구   합계   81,318    76,589,439 \n143  202109  광주광역시   남구   합계   81,366    65,360,784 \n183  202110  광주광역시   남구   합계   81,358    56,917,327 \n223  202111  광주광역시   남구   합계   82,563    59,000,095 \n263  202112  광주광역시   남구   합계   81,405    64,384,798 \n71   202107  광주광역시   동구   합계   61,108    56,422,457 \n111  202108  광주광역시   동구   합계   61,075    64,458,085 \n151  202109  광주광역시   동구   합계   61,158    54,922,110 \n191  202110  광주광역시   동구   합계   61,098    48,850,696 \n231  202111  광주광역시   동구   합계   61,156    47,881,631 \n271  202112  광주광역시   동구   합계   61,163    53,855,551 \n79   202107  광주광역시   북구   합계  171,441   210,954,037 \n119  202108  광주광역시   북구   합계  171,402   236,386,444 \n159  202109  광주광역시   북구   합계  171,530   204,793,712 \n199  202110  광주광역시   북구   합계  171,606   184,299,724 \n239  202111  광주광역시   북구   합계  172,504   181,868,922 \n279  202112  광주광역시   북구   합계  171,940   196,925,994 \n87   202107  광주광역시   서구   합계  107,655   142,110,298 \n127  202108  광주광역시   서구   합계  107,786   166,027,095 \n167  202109  광주광역시   서구   합계  107,869   144,430,756 \n207  202110  광주광역시   서구   합계  107,983   129,000,405 \n247  202111  광주광역시   서구   합계  108,595   122,157,898 \n287  202112  광주광역시   서구   합계  108,084   133,371,815 ",
      "text/html": "<div>\n<style scoped>\n    .dataframe tbody tr th:only-of-type {\n        vertical-align: middle;\n    }\n\n    .dataframe tbody tr th {\n        vertical-align: top;\n    }\n\n    .dataframe thead th {\n        text-align: right;\n    }\n</style>\n<table border=\"1\" class=\"dataframe\">\n  <thead>\n    <tr style=\"text-align: right;\">\n      <th></th>\n      <th>년월</th>\n      <th>시구</th>\n      <th>시군구</th>\n      <th>계약구분</th>\n      <th>고객호수(호)</th>\n      <th>사용량(kWh)</th>\n    </tr>\n  </thead>\n  <tbody>\n    <tr>\n      <th>55</th>\n      <td>202107</td>\n      <td>광주광역시</td>\n      <td>광산구</td>\n      <td>합계</td>\n      <td>134,061</td>\n      <td>316,247,678</td>\n    </tr>\n    <tr>\n      <th>95</th>\n      <td>202108</td>\n      <td>광주광역시</td>\n      <td>광산구</td>\n      <td>합계</td>\n      <td>134,323</td>\n      <td>333,060,019</td>\n    </tr>\n    <tr>\n      <th>135</th>\n      <td>202109</td>\n      <td>광주광역시</td>\n      <td>광산구</td>\n      <td>합계</td>\n      <td>134,559</td>\n      <td>312,250,739</td>\n    </tr>\n    <tr>\n      <th>175</th>\n      <td>202110</td>\n      <td>광주광역시</td>\n      <td>광산구</td>\n      <td>합계</td>\n      <td>134,725</td>\n      <td>286,535,586</td>\n    </tr>\n    <tr>\n      <th>215</th>\n      <td>202111</td>\n      <td>광주광역시</td>\n      <td>광산구</td>\n      <td>합계</td>\n      <td>137,153</td>\n      <td>299,905,074</td>\n    </tr>\n    <tr>\n      <th>255</th>\n      <td>202112</td>\n      <td>광주광역시</td>\n      <td>광산구</td>\n      <td>합계</td>\n      <td>135,514</td>\n      <td>312,876,274</td>\n    </tr>\n    <tr>\n      <th>63</th>\n      <td>202107</td>\n      <td>광주광역시</td>\n      <td>남구</td>\n      <td>합계</td>\n      <td>81,374</td>\n      <td>65,211,147</td>\n    </tr>\n    <tr>\n      <th>103</th>\n      <td>202108</td>\n      <td>광주광역시</td>\n      <td>남구</td>\n      <td>합계</td>\n      <td>81,318</td>\n      <td>76,589,439</td>\n    </tr>\n    <tr>\n      <th>143</th>\n      <td>202109</td>\n      <td>광주광역시</td>\n      <td>남구</td>\n      <td>합계</td>\n      <td>81,366</td>\n      <td>65,360,784</td>\n    </tr>\n    <tr>\n      <th>183</th>\n      <td>202110</td>\n      <td>광주광역시</td>\n      <td>남구</td>\n      <td>합계</td>\n      <td>81,358</td>\n      <td>56,917,327</td>\n    </tr>\n    <tr>\n      <th>223</th>\n      <td>202111</td>\n      <td>광주광역시</td>\n      <td>남구</td>\n      <td>합계</td>\n      <td>82,563</td>\n      <td>59,000,095</td>\n    </tr>\n    <tr>\n      <th>263</th>\n      <td>202112</td>\n      <td>광주광역시</td>\n      <td>남구</td>\n      <td>합계</td>\n      <td>81,405</td>\n      <td>64,384,798</td>\n    </tr>\n    <tr>\n      <th>71</th>\n      <td>202107</td>\n      <td>광주광역시</td>\n      <td>동구</td>\n      <td>합계</td>\n      <td>61,108</td>\n      <td>56,422,457</td>\n    </tr>\n    <tr>\n      <th>111</th>\n      <td>202108</td>\n      <td>광주광역시</td>\n      <td>동구</td>\n      <td>합계</td>\n      <td>61,075</td>\n      <td>64,458,085</td>\n    </tr>\n    <tr>\n      <th>151</th>\n      <td>202109</td>\n      <td>광주광역시</td>\n      <td>동구</td>\n      <td>합계</td>\n      <td>61,158</td>\n      <td>54,922,110</td>\n    </tr>\n    <tr>\n      <th>191</th>\n      <td>202110</td>\n      <td>광주광역시</td>\n      <td>동구</td>\n      <td>합계</td>\n      <td>61,098</td>\n      <td>48,850,696</td>\n    </tr>\n    <tr>\n      <th>231</th>\n      <td>202111</td>\n      <td>광주광역시</td>\n      <td>동구</td>\n      <td>합계</td>\n      <td>61,156</td>\n      <td>47,881,631</td>\n    </tr>\n    <tr>\n      <th>271</th>\n      <td>202112</td>\n      <td>광주광역시</td>\n      <td>동구</td>\n      <td>합계</td>\n      <td>61,163</td>\n      <td>53,855,551</td>\n    </tr>\n    <tr>\n      <th>79</th>\n      <td>202107</td>\n      <td>광주광역시</td>\n      <td>북구</td>\n      <td>합계</td>\n      <td>171,441</td>\n      <td>210,954,037</td>\n    </tr>\n    <tr>\n      <th>119</th>\n      <td>202108</td>\n      <td>광주광역시</td>\n      <td>북구</td>\n      <td>합계</td>\n      <td>171,402</td>\n      <td>236,386,444</td>\n    </tr>\n    <tr>\n      <th>159</th>\n      <td>202109</td>\n      <td>광주광역시</td>\n      <td>북구</td>\n      <td>합계</td>\n      <td>171,530</td>\n      <td>204,793,712</td>\n    </tr>\n    <tr>\n      <th>199</th>\n      <td>202110</td>\n      <td>광주광역시</td>\n      <td>북구</td>\n      <td>합계</td>\n      <td>171,606</td>\n      <td>184,299,724</td>\n    </tr>\n    <tr>\n      <th>239</th>\n      <td>202111</td>\n      <td>광주광역시</td>\n      <td>북구</td>\n      <td>합계</td>\n      <td>172,504</td>\n      <td>181,868,922</td>\n    </tr>\n    <tr>\n      <th>279</th>\n      <td>202112</td>\n      <td>광주광역시</td>\n      <td>북구</td>\n      <td>합계</td>\n      <td>171,940</td>\n      <td>196,925,994</td>\n    </tr>\n    <tr>\n      <th>87</th>\n      <td>202107</td>\n      <td>광주광역시</td>\n      <td>서구</td>\n      <td>합계</td>\n      <td>107,655</td>\n      <td>142,110,298</td>\n    </tr>\n    <tr>\n      <th>127</th>\n      <td>202108</td>\n      <td>광주광역시</td>\n      <td>서구</td>\n      <td>합계</td>\n      <td>107,786</td>\n      <td>166,027,095</td>\n    </tr>\n    <tr>\n      <th>167</th>\n      <td>202109</td>\n      <td>광주광역시</td>\n      <td>서구</td>\n      <td>합계</td>\n      <td>107,869</td>\n      <td>144,430,756</td>\n    </tr>\n    <tr>\n      <th>207</th>\n      <td>202110</td>\n      <td>광주광역시</td>\n      <td>서구</td>\n      <td>합계</td>\n      <td>107,983</td>\n      <td>129,000,405</td>\n    </tr>\n    <tr>\n      <th>247</th>\n      <td>202111</td>\n      <td>광주광역시</td>\n      <td>서구</td>\n      <td>합계</td>\n      <td>108,595</td>\n      <td>122,157,898</td>\n    </tr>\n    <tr>\n      <th>287</th>\n      <td>202112</td>\n      <td>광주광역시</td>\n      <td>서구</td>\n      <td>합계</td>\n      <td>108,084</td>\n      <td>133,371,815</td>\n    </tr>\n  </tbody>\n</table>\n</div>"
     },
     "execution_count": 13,
     "metadata": {},
     "output_type": "execute_result"
    }
   ],
   "source": [
    "df_4 = df.loc[48:]\n",
    "df_4 = df_4.loc[(df_4['계약구분'] == '합계')]\n",
    "df_4 = df_4.sort_values(by=['시군구' , '년월'])\n",
    "df_4.drop(['전기요금(원)',   '평균판매단가(원/kWh)'] , axis = 1 , inplace = True)\n",
    "df_4"
   ],
   "metadata": {
    "collapsed": false,
    "pycharm": {
     "name": "#%%\n"
    }
   }
  },
  {
   "cell_type": "code",
   "execution_count": 14,
   "outputs": [
    {
     "name": "stdout",
     "output_type": "stream",
     "text": [
      "[316247678, 333060019, 312250739, 286535586, 299905074, 312876274]\n",
      "[65211147, 76589439, 65360784, 56917327, 59000095, 64384798]\n",
      "[56422457, 64458085, 54922110, 48850696, 47881631, 53855551]\n",
      "[210954037, 236386444, 204793712, 184299724, 181868922, 196925994]\n",
      "[142110298, 166027095, 144430756, 129000405, 122157898, 133371815]\n",
      "광주광역시 지역별 합계 :  [1860875370, 387463590, 326390530, 1215228833, 837098267]\n",
      "광주광역시 고객호수 평균:  [22509, 13594, 10187, 28622, 17999]\n"
     ]
    }
   ],
   "source": [
    "sum2 , sum3 =[] , []\n",
    "for k in SIGUNGU:\n",
    "    GyeonGiHap = pd.DataFrame([] , columns = a)\n",
    "    HOSU = pd.DataFrame([], columns = a)\n",
    "    GyeonGiHap['사용량']= df_4['사용량(kWh)'].loc[(df_4['시군구'] == '{}'.format(k))]\n",
    "    HOSU['고객호수']= df_4['고객호수(호)'].loc[(df_4['시군구'] == '{}'.format(k))]\n",
    "    #경기합 데이터프레임의 사용량 열에 기군구가 가평군인 사용량 데이터만 뽑아내기\n",
    "    # GyeonGiHap = GyeonGiHap['사용량']\n",
    "\n",
    "    b = GyeonGiHap['사용량'].tolist()\n",
    "    c = HOSU['고객호수'].tolist()\n",
    "\n",
    "\n",
    "    #각지역별 사용량 리스트화\n",
    "    int_list  , int_list2=[] , []\n",
    "    for i in b:\n",
    "        i = re.sub(\",\" , \"\" , i)\n",
    "        #콤마 없애기\n",
    "        int_list.append(int(i))\n",
    "        #int_list에 각지역별 사용량 int로 저장\n",
    "    print(int_list)\n",
    "    sum=0\n",
    "    for i in c:\n",
    "        i = re.sub(\",\" , \"\" , i)\n",
    "        int_list2.append(int(i))\n",
    "\n",
    "    for j in int_list:\n",
    "\n",
    "        sum+= j\n",
    "    sum2.append(sum)\n",
    "    sum = 0\n",
    "    for j in int_list2: #고객호수 추출하여 더하기\n",
    "\n",
    "        sum+= j\n",
    "    sum3.append(sum//36) #6개월 치로 나눠야하나?!\n",
    "\n",
    "\n",
    "\n",
    "\n",
    "print(\"{} 지역별 합계 : \".format(City) , sum2)\n",
    "print(\"{} 고객호수 평균: \".format(City) , sum3)"
   ],
   "metadata": {
    "collapsed": false,
    "pycharm": {
     "name": "#%%\n"
    }
   }
  },
  {
   "cell_type": "markdown",
   "source": [
    "### 2. 날짜 체크!!!!!!!!!!!!!!!!!!!!!!!!!!!!!!!!!!!!!!!!!!!!!!"
   ],
   "metadata": {
    "collapsed": false,
    "pycharm": {
     "name": "#%% md\n"
    }
   }
  },
  {
   "cell_type": "code",
   "execution_count": 15,
   "outputs": [
    {
     "name": "stderr",
     "output_type": "stream",
     "text": [
      "C:\\Users\\user\\AppData\\Local\\Temp\\ipykernel_12404\\895775541.py:4: FutureWarning: The frame.append method is deprecated and will be removed from pandas in a future version. Use pandas.concat instead.\n",
      "  Hap = Hap.append({'년월' :'202107-202112'  , '시구' : '{}'.format(City) , '시군구' : '{}'.format(SIGUNGU[i]) , '계약구분' : '합계' , '고객호수(호)' : sum3[i] ,  '사용량(kWh)' : sum2[i]} , ignore_index=True) #년월 파일마다 수정하기\n",
      "C:\\Users\\user\\AppData\\Local\\Temp\\ipykernel_12404\\895775541.py:4: FutureWarning: The frame.append method is deprecated and will be removed from pandas in a future version. Use pandas.concat instead.\n",
      "  Hap = Hap.append({'년월' :'202107-202112'  , '시구' : '{}'.format(City) , '시군구' : '{}'.format(SIGUNGU[i]) , '계약구분' : '합계' , '고객호수(호)' : sum3[i] ,  '사용량(kWh)' : sum2[i]} , ignore_index=True) #년월 파일마다 수정하기\n",
      "C:\\Users\\user\\AppData\\Local\\Temp\\ipykernel_12404\\895775541.py:4: FutureWarning: The frame.append method is deprecated and will be removed from pandas in a future version. Use pandas.concat instead.\n",
      "  Hap = Hap.append({'년월' :'202107-202112'  , '시구' : '{}'.format(City) , '시군구' : '{}'.format(SIGUNGU[i]) , '계약구분' : '합계' , '고객호수(호)' : sum3[i] ,  '사용량(kWh)' : sum2[i]} , ignore_index=True) #년월 파일마다 수정하기\n",
      "C:\\Users\\user\\AppData\\Local\\Temp\\ipykernel_12404\\895775541.py:4: FutureWarning: The frame.append method is deprecated and will be removed from pandas in a future version. Use pandas.concat instead.\n",
      "  Hap = Hap.append({'년월' :'202107-202112'  , '시구' : '{}'.format(City) , '시군구' : '{}'.format(SIGUNGU[i]) , '계약구분' : '합계' , '고객호수(호)' : sum3[i] ,  '사용량(kWh)' : sum2[i]} , ignore_index=True) #년월 파일마다 수정하기\n",
      "C:\\Users\\user\\AppData\\Local\\Temp\\ipykernel_12404\\895775541.py:4: FutureWarning: The frame.append method is deprecated and will be removed from pandas in a future version. Use pandas.concat instead.\n",
      "  Hap = Hap.append({'년월' :'202107-202112'  , '시구' : '{}'.format(City) , '시군구' : '{}'.format(SIGUNGU[i]) , '계약구분' : '합계' , '고객호수(호)' : sum3[i] ,  '사용량(kWh)' : sum2[i]} , ignore_index=True) #년월 파일마다 수정하기\n"
     ]
    },
    {
     "data": {
      "text/plain": "               년월     시구  시군구 계약구분   고객호수(호)      사용량(kWh)\n0          202107  광주광역시  광산구   합계  134,061   316,247,678 \n1          202108  광주광역시  광산구   합계  134,323   333,060,019 \n2          202109  광주광역시  광산구   합계  134,559   312,250,739 \n3          202110  광주광역시  광산구   합계  134,725   286,535,586 \n4          202111  광주광역시  광산구   합계  137,153   299,905,074 \n5          202112  광주광역시  광산구   합계  135,514   312,876,274 \n6          202107  광주광역시   남구   합계   81,374    65,211,147 \n7          202108  광주광역시   남구   합계   81,318    76,589,439 \n8          202109  광주광역시   남구   합계   81,366    65,360,784 \n9          202110  광주광역시   남구   합계   81,358    56,917,327 \n10         202111  광주광역시   남구   합계   82,563    59,000,095 \n11         202112  광주광역시   남구   합계   81,405    64,384,798 \n12         202107  광주광역시   동구   합계   61,108    56,422,457 \n13         202108  광주광역시   동구   합계   61,075    64,458,085 \n14         202109  광주광역시   동구   합계   61,158    54,922,110 \n15         202110  광주광역시   동구   합계   61,098    48,850,696 \n16         202111  광주광역시   동구   합계   61,156    47,881,631 \n17         202112  광주광역시   동구   합계   61,163    53,855,551 \n18         202107  광주광역시   북구   합계  171,441   210,954,037 \n19         202108  광주광역시   북구   합계  171,402   236,386,444 \n20         202109  광주광역시   북구   합계  171,530   204,793,712 \n21         202110  광주광역시   북구   합계  171,606   184,299,724 \n22         202111  광주광역시   북구   합계  172,504   181,868,922 \n23         202112  광주광역시   북구   합계  171,940   196,925,994 \n24         202107  광주광역시   서구   합계  107,655   142,110,298 \n25         202108  광주광역시   서구   합계  107,786   166,027,095 \n26         202109  광주광역시   서구   합계  107,869   144,430,756 \n27         202110  광주광역시   서구   합계  107,983   129,000,405 \n28         202111  광주광역시   서구   합계  108,595   122,157,898 \n29         202112  광주광역시   서구   합계  108,084   133,371,815 \n30  202107-202112  광주광역시  광산구   합계     22509    1860875370\n31  202107-202112  광주광역시   남구   합계     13594     387463590\n32  202107-202112  광주광역시   동구   합계     10187     326390530\n33  202107-202112  광주광역시   북구   합계     28622    1215228833\n34  202107-202112  광주광역시   서구   합계     17999     837098267",
      "text/html": "<div>\n<style scoped>\n    .dataframe tbody tr th:only-of-type {\n        vertical-align: middle;\n    }\n\n    .dataframe tbody tr th {\n        vertical-align: top;\n    }\n\n    .dataframe thead th {\n        text-align: right;\n    }\n</style>\n<table border=\"1\" class=\"dataframe\">\n  <thead>\n    <tr style=\"text-align: right;\">\n      <th></th>\n      <th>년월</th>\n      <th>시구</th>\n      <th>시군구</th>\n      <th>계약구분</th>\n      <th>고객호수(호)</th>\n      <th>사용량(kWh)</th>\n    </tr>\n  </thead>\n  <tbody>\n    <tr>\n      <th>0</th>\n      <td>202107</td>\n      <td>광주광역시</td>\n      <td>광산구</td>\n      <td>합계</td>\n      <td>134,061</td>\n      <td>316,247,678</td>\n    </tr>\n    <tr>\n      <th>1</th>\n      <td>202108</td>\n      <td>광주광역시</td>\n      <td>광산구</td>\n      <td>합계</td>\n      <td>134,323</td>\n      <td>333,060,019</td>\n    </tr>\n    <tr>\n      <th>2</th>\n      <td>202109</td>\n      <td>광주광역시</td>\n      <td>광산구</td>\n      <td>합계</td>\n      <td>134,559</td>\n      <td>312,250,739</td>\n    </tr>\n    <tr>\n      <th>3</th>\n      <td>202110</td>\n      <td>광주광역시</td>\n      <td>광산구</td>\n      <td>합계</td>\n      <td>134,725</td>\n      <td>286,535,586</td>\n    </tr>\n    <tr>\n      <th>4</th>\n      <td>202111</td>\n      <td>광주광역시</td>\n      <td>광산구</td>\n      <td>합계</td>\n      <td>137,153</td>\n      <td>299,905,074</td>\n    </tr>\n    <tr>\n      <th>5</th>\n      <td>202112</td>\n      <td>광주광역시</td>\n      <td>광산구</td>\n      <td>합계</td>\n      <td>135,514</td>\n      <td>312,876,274</td>\n    </tr>\n    <tr>\n      <th>6</th>\n      <td>202107</td>\n      <td>광주광역시</td>\n      <td>남구</td>\n      <td>합계</td>\n      <td>81,374</td>\n      <td>65,211,147</td>\n    </tr>\n    <tr>\n      <th>7</th>\n      <td>202108</td>\n      <td>광주광역시</td>\n      <td>남구</td>\n      <td>합계</td>\n      <td>81,318</td>\n      <td>76,589,439</td>\n    </tr>\n    <tr>\n      <th>8</th>\n      <td>202109</td>\n      <td>광주광역시</td>\n      <td>남구</td>\n      <td>합계</td>\n      <td>81,366</td>\n      <td>65,360,784</td>\n    </tr>\n    <tr>\n      <th>9</th>\n      <td>202110</td>\n      <td>광주광역시</td>\n      <td>남구</td>\n      <td>합계</td>\n      <td>81,358</td>\n      <td>56,917,327</td>\n    </tr>\n    <tr>\n      <th>10</th>\n      <td>202111</td>\n      <td>광주광역시</td>\n      <td>남구</td>\n      <td>합계</td>\n      <td>82,563</td>\n      <td>59,000,095</td>\n    </tr>\n    <tr>\n      <th>11</th>\n      <td>202112</td>\n      <td>광주광역시</td>\n      <td>남구</td>\n      <td>합계</td>\n      <td>81,405</td>\n      <td>64,384,798</td>\n    </tr>\n    <tr>\n      <th>12</th>\n      <td>202107</td>\n      <td>광주광역시</td>\n      <td>동구</td>\n      <td>합계</td>\n      <td>61,108</td>\n      <td>56,422,457</td>\n    </tr>\n    <tr>\n      <th>13</th>\n      <td>202108</td>\n      <td>광주광역시</td>\n      <td>동구</td>\n      <td>합계</td>\n      <td>61,075</td>\n      <td>64,458,085</td>\n    </tr>\n    <tr>\n      <th>14</th>\n      <td>202109</td>\n      <td>광주광역시</td>\n      <td>동구</td>\n      <td>합계</td>\n      <td>61,158</td>\n      <td>54,922,110</td>\n    </tr>\n    <tr>\n      <th>15</th>\n      <td>202110</td>\n      <td>광주광역시</td>\n      <td>동구</td>\n      <td>합계</td>\n      <td>61,098</td>\n      <td>48,850,696</td>\n    </tr>\n    <tr>\n      <th>16</th>\n      <td>202111</td>\n      <td>광주광역시</td>\n      <td>동구</td>\n      <td>합계</td>\n      <td>61,156</td>\n      <td>47,881,631</td>\n    </tr>\n    <tr>\n      <th>17</th>\n      <td>202112</td>\n      <td>광주광역시</td>\n      <td>동구</td>\n      <td>합계</td>\n      <td>61,163</td>\n      <td>53,855,551</td>\n    </tr>\n    <tr>\n      <th>18</th>\n      <td>202107</td>\n      <td>광주광역시</td>\n      <td>북구</td>\n      <td>합계</td>\n      <td>171,441</td>\n      <td>210,954,037</td>\n    </tr>\n    <tr>\n      <th>19</th>\n      <td>202108</td>\n      <td>광주광역시</td>\n      <td>북구</td>\n      <td>합계</td>\n      <td>171,402</td>\n      <td>236,386,444</td>\n    </tr>\n    <tr>\n      <th>20</th>\n      <td>202109</td>\n      <td>광주광역시</td>\n      <td>북구</td>\n      <td>합계</td>\n      <td>171,530</td>\n      <td>204,793,712</td>\n    </tr>\n    <tr>\n      <th>21</th>\n      <td>202110</td>\n      <td>광주광역시</td>\n      <td>북구</td>\n      <td>합계</td>\n      <td>171,606</td>\n      <td>184,299,724</td>\n    </tr>\n    <tr>\n      <th>22</th>\n      <td>202111</td>\n      <td>광주광역시</td>\n      <td>북구</td>\n      <td>합계</td>\n      <td>172,504</td>\n      <td>181,868,922</td>\n    </tr>\n    <tr>\n      <th>23</th>\n      <td>202112</td>\n      <td>광주광역시</td>\n      <td>북구</td>\n      <td>합계</td>\n      <td>171,940</td>\n      <td>196,925,994</td>\n    </tr>\n    <tr>\n      <th>24</th>\n      <td>202107</td>\n      <td>광주광역시</td>\n      <td>서구</td>\n      <td>합계</td>\n      <td>107,655</td>\n      <td>142,110,298</td>\n    </tr>\n    <tr>\n      <th>25</th>\n      <td>202108</td>\n      <td>광주광역시</td>\n      <td>서구</td>\n      <td>합계</td>\n      <td>107,786</td>\n      <td>166,027,095</td>\n    </tr>\n    <tr>\n      <th>26</th>\n      <td>202109</td>\n      <td>광주광역시</td>\n      <td>서구</td>\n      <td>합계</td>\n      <td>107,869</td>\n      <td>144,430,756</td>\n    </tr>\n    <tr>\n      <th>27</th>\n      <td>202110</td>\n      <td>광주광역시</td>\n      <td>서구</td>\n      <td>합계</td>\n      <td>107,983</td>\n      <td>129,000,405</td>\n    </tr>\n    <tr>\n      <th>28</th>\n      <td>202111</td>\n      <td>광주광역시</td>\n      <td>서구</td>\n      <td>합계</td>\n      <td>108,595</td>\n      <td>122,157,898</td>\n    </tr>\n    <tr>\n      <th>29</th>\n      <td>202112</td>\n      <td>광주광역시</td>\n      <td>서구</td>\n      <td>합계</td>\n      <td>108,084</td>\n      <td>133,371,815</td>\n    </tr>\n    <tr>\n      <th>30</th>\n      <td>202107-202112</td>\n      <td>광주광역시</td>\n      <td>광산구</td>\n      <td>합계</td>\n      <td>22509</td>\n      <td>1860875370</td>\n    </tr>\n    <tr>\n      <th>31</th>\n      <td>202107-202112</td>\n      <td>광주광역시</td>\n      <td>남구</td>\n      <td>합계</td>\n      <td>13594</td>\n      <td>387463590</td>\n    </tr>\n    <tr>\n      <th>32</th>\n      <td>202107-202112</td>\n      <td>광주광역시</td>\n      <td>동구</td>\n      <td>합계</td>\n      <td>10187</td>\n      <td>326390530</td>\n    </tr>\n    <tr>\n      <th>33</th>\n      <td>202107-202112</td>\n      <td>광주광역시</td>\n      <td>북구</td>\n      <td>합계</td>\n      <td>28622</td>\n      <td>1215228833</td>\n    </tr>\n    <tr>\n      <th>34</th>\n      <td>202107-202112</td>\n      <td>광주광역시</td>\n      <td>서구</td>\n      <td>합계</td>\n      <td>17999</td>\n      <td>837098267</td>\n    </tr>\n  </tbody>\n</table>\n</div>"
     },
     "execution_count": 15,
     "metadata": {},
     "output_type": "execute_result"
    }
   ],
   "source": [
    "Hap = df_4.copy()\n",
    "Hap.reset_index(drop=True , inplace = True)\n",
    "for i in range(len(SIGUNGU)):\n",
    "    Hap = Hap.append({'년월' :'202107-202112'  , '시구' : '{}'.format(City) , '시군구' : '{}'.format(SIGUNGU[i]) , '계약구분' : '합계' , '고객호수(호)' : sum3[i] ,  '사용량(kWh)' : sum2[i]} , ignore_index=True) #년월 파일마다 수정하기\n",
    "Hap"
   ],
   "metadata": {
    "collapsed": false,
    "pycharm": {
     "name": "#%%\n"
    }
   }
  },
  {
   "cell_type": "markdown",
   "source": [
    "### 3. 날짜 변경!!!!!!!!!!!!!!!!!!!!!!!!!!!!!!!"
   ],
   "metadata": {
    "collapsed": false,
    "pycharm": {
     "name": "#%% md\n"
    }
   }
  },
  {
   "cell_type": "code",
   "execution_count": 16,
   "outputs": [
    {
     "data": {
      "text/plain": "               년월     시구  시군구 계약구분 고객호수(호)    사용량(kWh)\n30  202107-202112  광주광역시  광산구   합계   22509  1860875370\n31  202107-202112  광주광역시   남구   합계   13594   387463590\n32  202107-202112  광주광역시   동구   합계   10187   326390530\n33  202107-202112  광주광역시   북구   합계   28622  1215228833\n34  202107-202112  광주광역시   서구   합계   17999   837098267",
      "text/html": "<div>\n<style scoped>\n    .dataframe tbody tr th:only-of-type {\n        vertical-align: middle;\n    }\n\n    .dataframe tbody tr th {\n        vertical-align: top;\n    }\n\n    .dataframe thead th {\n        text-align: right;\n    }\n</style>\n<table border=\"1\" class=\"dataframe\">\n  <thead>\n    <tr style=\"text-align: right;\">\n      <th></th>\n      <th>년월</th>\n      <th>시구</th>\n      <th>시군구</th>\n      <th>계약구분</th>\n      <th>고객호수(호)</th>\n      <th>사용량(kWh)</th>\n    </tr>\n  </thead>\n  <tbody>\n    <tr>\n      <th>30</th>\n      <td>202107-202112</td>\n      <td>광주광역시</td>\n      <td>광산구</td>\n      <td>합계</td>\n      <td>22509</td>\n      <td>1860875370</td>\n    </tr>\n    <tr>\n      <th>31</th>\n      <td>202107-202112</td>\n      <td>광주광역시</td>\n      <td>남구</td>\n      <td>합계</td>\n      <td>13594</td>\n      <td>387463590</td>\n    </tr>\n    <tr>\n      <th>32</th>\n      <td>202107-202112</td>\n      <td>광주광역시</td>\n      <td>동구</td>\n      <td>합계</td>\n      <td>10187</td>\n      <td>326390530</td>\n    </tr>\n    <tr>\n      <th>33</th>\n      <td>202107-202112</td>\n      <td>광주광역시</td>\n      <td>북구</td>\n      <td>합계</td>\n      <td>28622</td>\n      <td>1215228833</td>\n    </tr>\n    <tr>\n      <th>34</th>\n      <td>202107-202112</td>\n      <td>광주광역시</td>\n      <td>서구</td>\n      <td>합계</td>\n      <td>17999</td>\n      <td>837098267</td>\n    </tr>\n  </tbody>\n</table>\n</div>"
     },
     "execution_count": 16,
     "metadata": {},
     "output_type": "execute_result"
    }
   ],
   "source": [
    "Hap = Hap.loc[Hap['년월'] == '202107-202112']\n",
    "Hap"
   ],
   "metadata": {
    "collapsed": false,
    "pycharm": {
     "name": "#%%\n"
    }
   }
  },
  {
   "cell_type": "code",
   "execution_count": 17,
   "outputs": [],
   "source": [
    "# SIGUNGU = SIGUNGU[:1]\n",
    "# SIGUNGU\n",
    "#for i in SIGUNGU:\n",
    "#print('{}'.format(i))\n",
    "# df_3 = df_3.loc[(df_3['시군구'] == '가평군')]\n",
    "#\n",
    "# df_3"
   ],
   "metadata": {
    "collapsed": false,
    "pycharm": {
     "name": "#%%\n"
    }
   }
  },
  {
   "cell_type": "code",
   "execution_count": 18,
   "outputs": [
    {
     "data": {
      "text/plain": "['년월', '시구', '시군구', '계약구분', '고객호수(호)', '사용량(kWh)']"
     },
     "execution_count": 18,
     "metadata": {},
     "output_type": "execute_result"
    }
   ],
   "source": [
    "a = (df_3.columns).tolist()\n",
    "\n",
    "a"
   ],
   "metadata": {
    "collapsed": false,
    "pycharm": {
     "name": "#%%\n"
    }
   }
  },
  {
   "cell_type": "code",
   "execution_count": 19,
   "outputs": [
    {
     "data": {
      "text/plain": "         년월     시구  시군구 계약구분  고객호수(호)     사용량(kWh)\n53   202107  광주광역시  광산구  일반용  24,072   72,031,208 \n93   202108  광주광역시  광산구  일반용  24,108   82,532,069 \n133  202109  광주광역시  광산구  일반용  24,258   72,747,411 \n173  202110  광주광역시  광산구  일반용  24,315   63,829,120 \n213  202111  광주광역시  광산구  일반용  24,425   59,854,682 \n253  202112  광주광역시  광산구  일반용  24,543   65,482,168 \n61   202107  광주광역시   남구  일반용  11,803   28,438,303 \n101  202108  광주광역시   남구  일반용  11,824   31,832,186 \n141  202109  광주광역시   남구  일반용  11,886   27,363,291 \n181  202110  광주광역시   남구  일반용  11,909   23,987,460 \n221  202111  광주광역시   남구  일반용  11,921   23,549,022 \n261  202112  광주광역시   남구  일반용  11,984   26,381,684 \n69   202107  광주광역시   동구  일반용  11,486   33,429,183 \n109  202108  광주광역시   동구  일반용  11,486   37,613,661 \n149  202109  광주광역시   동구  일반용  11,501   32,382,040 \n189  202110  광주광역시   동구  일반용  11,499   28,562,133 \n229  202111  광주광역시   동구  일반용  11,498   26,865,120 \n269  202112  광주광역시   동구  일반용  11,549   30,767,193 \n77   202107  광주광역시   북구  일반용  27,673   66,846,417 \n117  202108  광주광역시   북구  일반용  27,728   76,264,261 \n157  202109  광주광역시   북구  일반용  27,714   66,309,339 \n197  202110  광주광역시   북구  일반용  27,758   57,799,501 \n237  202111  광주광역시   북구  일반용  27,818   55,255,082 \n277  202112  광주광역시   북구  일반용  27,916   61,353,198 \n85   202107  광주광역시   서구  일반용  19,790   70,265,342 \n125  202108  광주광역시   서구  일반용  19,920   80,431,264 \n165  202109  광주광역시   서구  일반용  19,951   71,260,680 \n205  202110  광주광역시   서구  일반용  19,934   62,174,690 \n245  202111  광주광역시   서구  일반용  19,967   58,497,630 \n285  202112  광주광역시   서구  일반용  20,012   64,050,824 ",
      "text/html": "<div>\n<style scoped>\n    .dataframe tbody tr th:only-of-type {\n        vertical-align: middle;\n    }\n\n    .dataframe tbody tr th {\n        vertical-align: top;\n    }\n\n    .dataframe thead th {\n        text-align: right;\n    }\n</style>\n<table border=\"1\" class=\"dataframe\">\n  <thead>\n    <tr style=\"text-align: right;\">\n      <th></th>\n      <th>년월</th>\n      <th>시구</th>\n      <th>시군구</th>\n      <th>계약구분</th>\n      <th>고객호수(호)</th>\n      <th>사용량(kWh)</th>\n    </tr>\n  </thead>\n  <tbody>\n    <tr>\n      <th>53</th>\n      <td>202107</td>\n      <td>광주광역시</td>\n      <td>광산구</td>\n      <td>일반용</td>\n      <td>24,072</td>\n      <td>72,031,208</td>\n    </tr>\n    <tr>\n      <th>93</th>\n      <td>202108</td>\n      <td>광주광역시</td>\n      <td>광산구</td>\n      <td>일반용</td>\n      <td>24,108</td>\n      <td>82,532,069</td>\n    </tr>\n    <tr>\n      <th>133</th>\n      <td>202109</td>\n      <td>광주광역시</td>\n      <td>광산구</td>\n      <td>일반용</td>\n      <td>24,258</td>\n      <td>72,747,411</td>\n    </tr>\n    <tr>\n      <th>173</th>\n      <td>202110</td>\n      <td>광주광역시</td>\n      <td>광산구</td>\n      <td>일반용</td>\n      <td>24,315</td>\n      <td>63,829,120</td>\n    </tr>\n    <tr>\n      <th>213</th>\n      <td>202111</td>\n      <td>광주광역시</td>\n      <td>광산구</td>\n      <td>일반용</td>\n      <td>24,425</td>\n      <td>59,854,682</td>\n    </tr>\n    <tr>\n      <th>253</th>\n      <td>202112</td>\n      <td>광주광역시</td>\n      <td>광산구</td>\n      <td>일반용</td>\n      <td>24,543</td>\n      <td>65,482,168</td>\n    </tr>\n    <tr>\n      <th>61</th>\n      <td>202107</td>\n      <td>광주광역시</td>\n      <td>남구</td>\n      <td>일반용</td>\n      <td>11,803</td>\n      <td>28,438,303</td>\n    </tr>\n    <tr>\n      <th>101</th>\n      <td>202108</td>\n      <td>광주광역시</td>\n      <td>남구</td>\n      <td>일반용</td>\n      <td>11,824</td>\n      <td>31,832,186</td>\n    </tr>\n    <tr>\n      <th>141</th>\n      <td>202109</td>\n      <td>광주광역시</td>\n      <td>남구</td>\n      <td>일반용</td>\n      <td>11,886</td>\n      <td>27,363,291</td>\n    </tr>\n    <tr>\n      <th>181</th>\n      <td>202110</td>\n      <td>광주광역시</td>\n      <td>남구</td>\n      <td>일반용</td>\n      <td>11,909</td>\n      <td>23,987,460</td>\n    </tr>\n    <tr>\n      <th>221</th>\n      <td>202111</td>\n      <td>광주광역시</td>\n      <td>남구</td>\n      <td>일반용</td>\n      <td>11,921</td>\n      <td>23,549,022</td>\n    </tr>\n    <tr>\n      <th>261</th>\n      <td>202112</td>\n      <td>광주광역시</td>\n      <td>남구</td>\n      <td>일반용</td>\n      <td>11,984</td>\n      <td>26,381,684</td>\n    </tr>\n    <tr>\n      <th>69</th>\n      <td>202107</td>\n      <td>광주광역시</td>\n      <td>동구</td>\n      <td>일반용</td>\n      <td>11,486</td>\n      <td>33,429,183</td>\n    </tr>\n    <tr>\n      <th>109</th>\n      <td>202108</td>\n      <td>광주광역시</td>\n      <td>동구</td>\n      <td>일반용</td>\n      <td>11,486</td>\n      <td>37,613,661</td>\n    </tr>\n    <tr>\n      <th>149</th>\n      <td>202109</td>\n      <td>광주광역시</td>\n      <td>동구</td>\n      <td>일반용</td>\n      <td>11,501</td>\n      <td>32,382,040</td>\n    </tr>\n    <tr>\n      <th>189</th>\n      <td>202110</td>\n      <td>광주광역시</td>\n      <td>동구</td>\n      <td>일반용</td>\n      <td>11,499</td>\n      <td>28,562,133</td>\n    </tr>\n    <tr>\n      <th>229</th>\n      <td>202111</td>\n      <td>광주광역시</td>\n      <td>동구</td>\n      <td>일반용</td>\n      <td>11,498</td>\n      <td>26,865,120</td>\n    </tr>\n    <tr>\n      <th>269</th>\n      <td>202112</td>\n      <td>광주광역시</td>\n      <td>동구</td>\n      <td>일반용</td>\n      <td>11,549</td>\n      <td>30,767,193</td>\n    </tr>\n    <tr>\n      <th>77</th>\n      <td>202107</td>\n      <td>광주광역시</td>\n      <td>북구</td>\n      <td>일반용</td>\n      <td>27,673</td>\n      <td>66,846,417</td>\n    </tr>\n    <tr>\n      <th>117</th>\n      <td>202108</td>\n      <td>광주광역시</td>\n      <td>북구</td>\n      <td>일반용</td>\n      <td>27,728</td>\n      <td>76,264,261</td>\n    </tr>\n    <tr>\n      <th>157</th>\n      <td>202109</td>\n      <td>광주광역시</td>\n      <td>북구</td>\n      <td>일반용</td>\n      <td>27,714</td>\n      <td>66,309,339</td>\n    </tr>\n    <tr>\n      <th>197</th>\n      <td>202110</td>\n      <td>광주광역시</td>\n      <td>북구</td>\n      <td>일반용</td>\n      <td>27,758</td>\n      <td>57,799,501</td>\n    </tr>\n    <tr>\n      <th>237</th>\n      <td>202111</td>\n      <td>광주광역시</td>\n      <td>북구</td>\n      <td>일반용</td>\n      <td>27,818</td>\n      <td>55,255,082</td>\n    </tr>\n    <tr>\n      <th>277</th>\n      <td>202112</td>\n      <td>광주광역시</td>\n      <td>북구</td>\n      <td>일반용</td>\n      <td>27,916</td>\n      <td>61,353,198</td>\n    </tr>\n    <tr>\n      <th>85</th>\n      <td>202107</td>\n      <td>광주광역시</td>\n      <td>서구</td>\n      <td>일반용</td>\n      <td>19,790</td>\n      <td>70,265,342</td>\n    </tr>\n    <tr>\n      <th>125</th>\n      <td>202108</td>\n      <td>광주광역시</td>\n      <td>서구</td>\n      <td>일반용</td>\n      <td>19,920</td>\n      <td>80,431,264</td>\n    </tr>\n    <tr>\n      <th>165</th>\n      <td>202109</td>\n      <td>광주광역시</td>\n      <td>서구</td>\n      <td>일반용</td>\n      <td>19,951</td>\n      <td>71,260,680</td>\n    </tr>\n    <tr>\n      <th>205</th>\n      <td>202110</td>\n      <td>광주광역시</td>\n      <td>서구</td>\n      <td>일반용</td>\n      <td>19,934</td>\n      <td>62,174,690</td>\n    </tr>\n    <tr>\n      <th>245</th>\n      <td>202111</td>\n      <td>광주광역시</td>\n      <td>서구</td>\n      <td>일반용</td>\n      <td>19,967</td>\n      <td>58,497,630</td>\n    </tr>\n    <tr>\n      <th>285</th>\n      <td>202112</td>\n      <td>광주광역시</td>\n      <td>서구</td>\n      <td>일반용</td>\n      <td>20,012</td>\n      <td>64,050,824</td>\n    </tr>\n  </tbody>\n</table>\n</div>"
     },
     "execution_count": 19,
     "metadata": {},
     "output_type": "execute_result"
    }
   ],
   "source": [
    "df_3"
   ],
   "metadata": {
    "collapsed": false,
    "pycharm": {
     "name": "#%%\n"
    }
   }
  },
  {
   "cell_type": "code",
   "execution_count": 20,
   "outputs": [],
   "source": [
    "# GyeonGiHap = pd.DataFrame([] , columns = a)\n",
    "# GyeonGiHap['사용량']= df_3['사용량(kWh)'].loc[(df_3['시군구'] == '{가평군}')]\n",
    "# GyeonGiHap"
   ],
   "metadata": {
    "collapsed": false,
    "pycharm": {
     "name": "#%%\n"
    }
   }
  },
  {
   "cell_type": "code",
   "execution_count": 21,
   "outputs": [
    {
     "name": "stdout",
     "output_type": "stream",
     "text": [
      "[72031208, 82532069, 72747411, 63829120, 59854682, 65482168]\n",
      "[28438303, 31832186, 27363291, 23987460, 23549022, 26381684]\n",
      "[33429183, 37613661, 32382040, 28562133, 26865120, 30767193]\n",
      "[66846417, 76264261, 66309339, 57799501, 55255082, 61353198]\n",
      "[70265342, 80431264, 71260680, 62174690, 58497630, 64050824]\n",
      "광주광역시 지역별 일반용 합계 :  [416476658, 161551946, 189619330, 383827798, 406680430]\n",
      "광주광역시 고객호수 평균:  [24286, 11887, 11503, 27767, 19929]\n"
     ]
    }
   ],
   "source": [
    "sum2 , sum3 =[] , []\n",
    "for k in SIGUNGU:\n",
    "    GyeonGiHap = pd.DataFrame([] , columns = a)\n",
    "    HOSU = pd.DataFrame([], columns = a)\n",
    "    GyeonGiHap['사용량']= df_3['사용량(kWh)'].loc[(df_3['시군구'] == '{}'.format(k))]\n",
    "    HOSU['고객호수']= df_3['고객호수(호)'].loc[(df_3['시군구'] == '{}'.format(k))]\n",
    "    #경기합 데이터프레임의 사용량 열에 기군구가 가평군인 사용량 데이터만 뽑아내기\n",
    "    # GyeonGiHap = GyeonGiHap['사용량']\n",
    "\n",
    "    b = GyeonGiHap['사용량'].tolist()\n",
    "    c = HOSU['고객호수'].tolist()\n",
    "\n",
    "\n",
    "    #각지역별 사용량 리스트화\n",
    "    int_list  , int_list2=[] , []\n",
    "    for i in b:\n",
    "        i = re.sub(\",\" , \"\" , i)\n",
    "        #콤마 없애기\n",
    "        int_list.append(int(i))\n",
    "        #int_list에 각지역별 사용량 int로 저장\n",
    "    print(int_list)\n",
    "    sum=0\n",
    "    for i in c:\n",
    "        i = re.sub(\",\" , \"\" , i)\n",
    "        int_list2.append(int(i))\n",
    "\n",
    "    for j in int_list:\n",
    "\n",
    "        sum+= j\n",
    "    sum2.append(sum)\n",
    "    sum = 0\n",
    "    for j in int_list2: #고객호수 추출하여 더하기\n",
    "\n",
    "        sum+= j\n",
    "    sum3.append(sum//6) #6개월 치로 나눠야하나?!\n",
    "\n",
    "\n",
    "\n",
    "\n",
    "print(\"{} 지역별 일반용 합계 : \".format(City) , sum2)\n",
    "print(\"{} 고객호수 평균: \".format(City) , sum3)\n",
    "# GyeonGiHap['합계'] = sum\n",
    "#\n",
    "# GyeonGiHap"
   ],
   "metadata": {
    "collapsed": false,
    "pycharm": {
     "name": "#%%\n"
    }
   }
  },
  {
   "cell_type": "code",
   "execution_count": 22,
   "outputs": [],
   "source": [
    "# df_3 = df_3.loc[(df_3['시군구'] == '가평군')]\n",
    "#\n",
    "# df_3"
   ],
   "metadata": {
    "collapsed": false,
    "pycharm": {
     "name": "#%%\n"
    }
   }
  },
  {
   "cell_type": "code",
   "execution_count": 23,
   "outputs": [],
   "source": [
    "# GyeonGiHap = df_3.copy()\n",
    "# GyeonGiHap.reset_index(drop=True , inplace = True)\n",
    "# GyeonGiHap.append({'년월' : '202107-202112'  , '시구' : '경기도' , '시군구' : '가평군' , '계약구분' : '일반용' , '사용량(kWh)' : sum}, ignore_index=True)"
   ],
   "metadata": {
    "collapsed": false,
    "pycharm": {
     "name": "#%%\n"
    }
   }
  },
  {
   "cell_type": "code",
   "execution_count": 24,
   "outputs": [],
   "source": [
    "# a=[]\n",
    "# for i in SIGUNGU:\n",
    "#     a.append(i)\n",
    "#\n",
    "# print(a)"
   ],
   "metadata": {
    "collapsed": false,
    "pycharm": {
     "name": "#%%\n"
    }
   }
  },
  {
   "cell_type": "markdown",
   "source": [
    "### 4. 년월 체크!!!!!!!!!!!!!!!!!!!!!!!!!!!!!!!!!!!!!!!!!!!!!!!!!!!!!!!!!!!!!!!!!"
   ],
   "metadata": {
    "collapsed": false,
    "pycharm": {
     "name": "#%% md\n"
    }
   }
  },
  {
   "cell_type": "code",
   "execution_count": 25,
   "outputs": [
    {
     "name": "stderr",
     "output_type": "stream",
     "text": [
      "C:\\Users\\user\\AppData\\Local\\Temp\\ipykernel_12404\\2943201010.py:4: FutureWarning: The frame.append method is deprecated and will be removed from pandas in a future version. Use pandas.concat instead.\n",
      "  GyeonGiHap2 = GyeonGiHap2.append({'년월' :'202107-202112'  , '시구' : '{}'.format(City) , '시군구' : '{}'.format(SIGUNGU[i]) , '계약구분' : '일반용' , '고객호수(호)' : sum3[i] ,  '사용량(kWh)' : sum2[i]} , ignore_index=True) #년월 파일마다 수정하기\n",
      "C:\\Users\\user\\AppData\\Local\\Temp\\ipykernel_12404\\2943201010.py:4: FutureWarning: The frame.append method is deprecated and will be removed from pandas in a future version. Use pandas.concat instead.\n",
      "  GyeonGiHap2 = GyeonGiHap2.append({'년월' :'202107-202112'  , '시구' : '{}'.format(City) , '시군구' : '{}'.format(SIGUNGU[i]) , '계약구분' : '일반용' , '고객호수(호)' : sum3[i] ,  '사용량(kWh)' : sum2[i]} , ignore_index=True) #년월 파일마다 수정하기\n",
      "C:\\Users\\user\\AppData\\Local\\Temp\\ipykernel_12404\\2943201010.py:4: FutureWarning: The frame.append method is deprecated and will be removed from pandas in a future version. Use pandas.concat instead.\n",
      "  GyeonGiHap2 = GyeonGiHap2.append({'년월' :'202107-202112'  , '시구' : '{}'.format(City) , '시군구' : '{}'.format(SIGUNGU[i]) , '계약구분' : '일반용' , '고객호수(호)' : sum3[i] ,  '사용량(kWh)' : sum2[i]} , ignore_index=True) #년월 파일마다 수정하기\n",
      "C:\\Users\\user\\AppData\\Local\\Temp\\ipykernel_12404\\2943201010.py:4: FutureWarning: The frame.append method is deprecated and will be removed from pandas in a future version. Use pandas.concat instead.\n",
      "  GyeonGiHap2 = GyeonGiHap2.append({'년월' :'202107-202112'  , '시구' : '{}'.format(City) , '시군구' : '{}'.format(SIGUNGU[i]) , '계약구분' : '일반용' , '고객호수(호)' : sum3[i] ,  '사용량(kWh)' : sum2[i]} , ignore_index=True) #년월 파일마다 수정하기\n",
      "C:\\Users\\user\\AppData\\Local\\Temp\\ipykernel_12404\\2943201010.py:4: FutureWarning: The frame.append method is deprecated and will be removed from pandas in a future version. Use pandas.concat instead.\n",
      "  GyeonGiHap2 = GyeonGiHap2.append({'년월' :'202107-202112'  , '시구' : '{}'.format(City) , '시군구' : '{}'.format(SIGUNGU[i]) , '계약구분' : '일반용' , '고객호수(호)' : sum3[i] ,  '사용량(kWh)' : sum2[i]} , ignore_index=True) #년월 파일마다 수정하기\n"
     ]
    },
    {
     "data": {
      "text/plain": "               년월     시구  시군구 계약구분  고객호수(호)     사용량(kWh)\n0          202107  광주광역시  광산구  일반용  24,072   72,031,208 \n1          202108  광주광역시  광산구  일반용  24,108   82,532,069 \n2          202109  광주광역시  광산구  일반용  24,258   72,747,411 \n3          202110  광주광역시  광산구  일반용  24,315   63,829,120 \n4          202111  광주광역시  광산구  일반용  24,425   59,854,682 \n5          202112  광주광역시  광산구  일반용  24,543   65,482,168 \n6          202107  광주광역시   남구  일반용  11,803   28,438,303 \n7          202108  광주광역시   남구  일반용  11,824   31,832,186 \n8          202109  광주광역시   남구  일반용  11,886   27,363,291 \n9          202110  광주광역시   남구  일반용  11,909   23,987,460 \n10         202111  광주광역시   남구  일반용  11,921   23,549,022 \n11         202112  광주광역시   남구  일반용  11,984   26,381,684 \n12         202107  광주광역시   동구  일반용  11,486   33,429,183 \n13         202108  광주광역시   동구  일반용  11,486   37,613,661 \n14         202109  광주광역시   동구  일반용  11,501   32,382,040 \n15         202110  광주광역시   동구  일반용  11,499   28,562,133 \n16         202111  광주광역시   동구  일반용  11,498   26,865,120 \n17         202112  광주광역시   동구  일반용  11,549   30,767,193 \n18         202107  광주광역시   북구  일반용  27,673   66,846,417 \n19         202108  광주광역시   북구  일반용  27,728   76,264,261 \n20         202109  광주광역시   북구  일반용  27,714   66,309,339 \n21         202110  광주광역시   북구  일반용  27,758   57,799,501 \n22         202111  광주광역시   북구  일반용  27,818   55,255,082 \n23         202112  광주광역시   북구  일반용  27,916   61,353,198 \n24         202107  광주광역시   서구  일반용  19,790   70,265,342 \n25         202108  광주광역시   서구  일반용  19,920   80,431,264 \n26         202109  광주광역시   서구  일반용  19,951   71,260,680 \n27         202110  광주광역시   서구  일반용  19,934   62,174,690 \n28         202111  광주광역시   서구  일반용  19,967   58,497,630 \n29         202112  광주광역시   서구  일반용  20,012   64,050,824 \n30  202107-202112  광주광역시  광산구  일반용    24286    416476658\n31  202107-202112  광주광역시   남구  일반용    11887    161551946\n32  202107-202112  광주광역시   동구  일반용    11503    189619330\n33  202107-202112  광주광역시   북구  일반용    27767    383827798\n34  202107-202112  광주광역시   서구  일반용    19929    406680430",
      "text/html": "<div>\n<style scoped>\n    .dataframe tbody tr th:only-of-type {\n        vertical-align: middle;\n    }\n\n    .dataframe tbody tr th {\n        vertical-align: top;\n    }\n\n    .dataframe thead th {\n        text-align: right;\n    }\n</style>\n<table border=\"1\" class=\"dataframe\">\n  <thead>\n    <tr style=\"text-align: right;\">\n      <th></th>\n      <th>년월</th>\n      <th>시구</th>\n      <th>시군구</th>\n      <th>계약구분</th>\n      <th>고객호수(호)</th>\n      <th>사용량(kWh)</th>\n    </tr>\n  </thead>\n  <tbody>\n    <tr>\n      <th>0</th>\n      <td>202107</td>\n      <td>광주광역시</td>\n      <td>광산구</td>\n      <td>일반용</td>\n      <td>24,072</td>\n      <td>72,031,208</td>\n    </tr>\n    <tr>\n      <th>1</th>\n      <td>202108</td>\n      <td>광주광역시</td>\n      <td>광산구</td>\n      <td>일반용</td>\n      <td>24,108</td>\n      <td>82,532,069</td>\n    </tr>\n    <tr>\n      <th>2</th>\n      <td>202109</td>\n      <td>광주광역시</td>\n      <td>광산구</td>\n      <td>일반용</td>\n      <td>24,258</td>\n      <td>72,747,411</td>\n    </tr>\n    <tr>\n      <th>3</th>\n      <td>202110</td>\n      <td>광주광역시</td>\n      <td>광산구</td>\n      <td>일반용</td>\n      <td>24,315</td>\n      <td>63,829,120</td>\n    </tr>\n    <tr>\n      <th>4</th>\n      <td>202111</td>\n      <td>광주광역시</td>\n      <td>광산구</td>\n      <td>일반용</td>\n      <td>24,425</td>\n      <td>59,854,682</td>\n    </tr>\n    <tr>\n      <th>5</th>\n      <td>202112</td>\n      <td>광주광역시</td>\n      <td>광산구</td>\n      <td>일반용</td>\n      <td>24,543</td>\n      <td>65,482,168</td>\n    </tr>\n    <tr>\n      <th>6</th>\n      <td>202107</td>\n      <td>광주광역시</td>\n      <td>남구</td>\n      <td>일반용</td>\n      <td>11,803</td>\n      <td>28,438,303</td>\n    </tr>\n    <tr>\n      <th>7</th>\n      <td>202108</td>\n      <td>광주광역시</td>\n      <td>남구</td>\n      <td>일반용</td>\n      <td>11,824</td>\n      <td>31,832,186</td>\n    </tr>\n    <tr>\n      <th>8</th>\n      <td>202109</td>\n      <td>광주광역시</td>\n      <td>남구</td>\n      <td>일반용</td>\n      <td>11,886</td>\n      <td>27,363,291</td>\n    </tr>\n    <tr>\n      <th>9</th>\n      <td>202110</td>\n      <td>광주광역시</td>\n      <td>남구</td>\n      <td>일반용</td>\n      <td>11,909</td>\n      <td>23,987,460</td>\n    </tr>\n    <tr>\n      <th>10</th>\n      <td>202111</td>\n      <td>광주광역시</td>\n      <td>남구</td>\n      <td>일반용</td>\n      <td>11,921</td>\n      <td>23,549,022</td>\n    </tr>\n    <tr>\n      <th>11</th>\n      <td>202112</td>\n      <td>광주광역시</td>\n      <td>남구</td>\n      <td>일반용</td>\n      <td>11,984</td>\n      <td>26,381,684</td>\n    </tr>\n    <tr>\n      <th>12</th>\n      <td>202107</td>\n      <td>광주광역시</td>\n      <td>동구</td>\n      <td>일반용</td>\n      <td>11,486</td>\n      <td>33,429,183</td>\n    </tr>\n    <tr>\n      <th>13</th>\n      <td>202108</td>\n      <td>광주광역시</td>\n      <td>동구</td>\n      <td>일반용</td>\n      <td>11,486</td>\n      <td>37,613,661</td>\n    </tr>\n    <tr>\n      <th>14</th>\n      <td>202109</td>\n      <td>광주광역시</td>\n      <td>동구</td>\n      <td>일반용</td>\n      <td>11,501</td>\n      <td>32,382,040</td>\n    </tr>\n    <tr>\n      <th>15</th>\n      <td>202110</td>\n      <td>광주광역시</td>\n      <td>동구</td>\n      <td>일반용</td>\n      <td>11,499</td>\n      <td>28,562,133</td>\n    </tr>\n    <tr>\n      <th>16</th>\n      <td>202111</td>\n      <td>광주광역시</td>\n      <td>동구</td>\n      <td>일반용</td>\n      <td>11,498</td>\n      <td>26,865,120</td>\n    </tr>\n    <tr>\n      <th>17</th>\n      <td>202112</td>\n      <td>광주광역시</td>\n      <td>동구</td>\n      <td>일반용</td>\n      <td>11,549</td>\n      <td>30,767,193</td>\n    </tr>\n    <tr>\n      <th>18</th>\n      <td>202107</td>\n      <td>광주광역시</td>\n      <td>북구</td>\n      <td>일반용</td>\n      <td>27,673</td>\n      <td>66,846,417</td>\n    </tr>\n    <tr>\n      <th>19</th>\n      <td>202108</td>\n      <td>광주광역시</td>\n      <td>북구</td>\n      <td>일반용</td>\n      <td>27,728</td>\n      <td>76,264,261</td>\n    </tr>\n    <tr>\n      <th>20</th>\n      <td>202109</td>\n      <td>광주광역시</td>\n      <td>북구</td>\n      <td>일반용</td>\n      <td>27,714</td>\n      <td>66,309,339</td>\n    </tr>\n    <tr>\n      <th>21</th>\n      <td>202110</td>\n      <td>광주광역시</td>\n      <td>북구</td>\n      <td>일반용</td>\n      <td>27,758</td>\n      <td>57,799,501</td>\n    </tr>\n    <tr>\n      <th>22</th>\n      <td>202111</td>\n      <td>광주광역시</td>\n      <td>북구</td>\n      <td>일반용</td>\n      <td>27,818</td>\n      <td>55,255,082</td>\n    </tr>\n    <tr>\n      <th>23</th>\n      <td>202112</td>\n      <td>광주광역시</td>\n      <td>북구</td>\n      <td>일반용</td>\n      <td>27,916</td>\n      <td>61,353,198</td>\n    </tr>\n    <tr>\n      <th>24</th>\n      <td>202107</td>\n      <td>광주광역시</td>\n      <td>서구</td>\n      <td>일반용</td>\n      <td>19,790</td>\n      <td>70,265,342</td>\n    </tr>\n    <tr>\n      <th>25</th>\n      <td>202108</td>\n      <td>광주광역시</td>\n      <td>서구</td>\n      <td>일반용</td>\n      <td>19,920</td>\n      <td>80,431,264</td>\n    </tr>\n    <tr>\n      <th>26</th>\n      <td>202109</td>\n      <td>광주광역시</td>\n      <td>서구</td>\n      <td>일반용</td>\n      <td>19,951</td>\n      <td>71,260,680</td>\n    </tr>\n    <tr>\n      <th>27</th>\n      <td>202110</td>\n      <td>광주광역시</td>\n      <td>서구</td>\n      <td>일반용</td>\n      <td>19,934</td>\n      <td>62,174,690</td>\n    </tr>\n    <tr>\n      <th>28</th>\n      <td>202111</td>\n      <td>광주광역시</td>\n      <td>서구</td>\n      <td>일반용</td>\n      <td>19,967</td>\n      <td>58,497,630</td>\n    </tr>\n    <tr>\n      <th>29</th>\n      <td>202112</td>\n      <td>광주광역시</td>\n      <td>서구</td>\n      <td>일반용</td>\n      <td>20,012</td>\n      <td>64,050,824</td>\n    </tr>\n    <tr>\n      <th>30</th>\n      <td>202107-202112</td>\n      <td>광주광역시</td>\n      <td>광산구</td>\n      <td>일반용</td>\n      <td>24286</td>\n      <td>416476658</td>\n    </tr>\n    <tr>\n      <th>31</th>\n      <td>202107-202112</td>\n      <td>광주광역시</td>\n      <td>남구</td>\n      <td>일반용</td>\n      <td>11887</td>\n      <td>161551946</td>\n    </tr>\n    <tr>\n      <th>32</th>\n      <td>202107-202112</td>\n      <td>광주광역시</td>\n      <td>동구</td>\n      <td>일반용</td>\n      <td>11503</td>\n      <td>189619330</td>\n    </tr>\n    <tr>\n      <th>33</th>\n      <td>202107-202112</td>\n      <td>광주광역시</td>\n      <td>북구</td>\n      <td>일반용</td>\n      <td>27767</td>\n      <td>383827798</td>\n    </tr>\n    <tr>\n      <th>34</th>\n      <td>202107-202112</td>\n      <td>광주광역시</td>\n      <td>서구</td>\n      <td>일반용</td>\n      <td>19929</td>\n      <td>406680430</td>\n    </tr>\n  </tbody>\n</table>\n</div>"
     },
     "execution_count": 25,
     "metadata": {},
     "output_type": "execute_result"
    }
   ],
   "source": [
    "GyeonGiHap2 = df_3.copy()\n",
    "GyeonGiHap2.reset_index(drop=True , inplace = True)\n",
    "for i in range(len(SIGUNGU)):\n",
    "    GyeonGiHap2 = GyeonGiHap2.append({'년월' :'202107-202112'  , '시구' : '{}'.format(City) , '시군구' : '{}'.format(SIGUNGU[i]) , '계약구분' : '일반용' , '고객호수(호)' : sum3[i] ,  '사용량(kWh)' : sum2[i]} , ignore_index=True) #년월 파일마다 수정하기\n",
    "GyeonGiHap2"
   ],
   "metadata": {
    "collapsed": false,
    "pycharm": {
     "name": "#%%\n"
    }
   }
  },
  {
   "cell_type": "markdown",
   "source": [
    "### 5. 날짜 체크!!!!!!!!!!!!!!!!!!!!!!!!!!!!!!!!!!!!!!!!!!!!!!!!!!!!"
   ],
   "metadata": {
    "collapsed": false,
    "pycharm": {
     "name": "#%% md\n"
    }
   }
  },
  {
   "cell_type": "code",
   "execution_count": 26,
   "outputs": [
    {
     "data": {
      "text/plain": "               년월     시구  시군구 계약구분 고객호수(호)   사용량(kWh)\n30  202107-202112  광주광역시  광산구  일반용   24286  416476658\n31  202107-202112  광주광역시   남구  일반용   11887  161551946\n32  202107-202112  광주광역시   동구  일반용   11503  189619330\n33  202107-202112  광주광역시   북구  일반용   27767  383827798\n34  202107-202112  광주광역시   서구  일반용   19929  406680430",
      "text/html": "<div>\n<style scoped>\n    .dataframe tbody tr th:only-of-type {\n        vertical-align: middle;\n    }\n\n    .dataframe tbody tr th {\n        vertical-align: top;\n    }\n\n    .dataframe thead th {\n        text-align: right;\n    }\n</style>\n<table border=\"1\" class=\"dataframe\">\n  <thead>\n    <tr style=\"text-align: right;\">\n      <th></th>\n      <th>년월</th>\n      <th>시구</th>\n      <th>시군구</th>\n      <th>계약구분</th>\n      <th>고객호수(호)</th>\n      <th>사용량(kWh)</th>\n    </tr>\n  </thead>\n  <tbody>\n    <tr>\n      <th>30</th>\n      <td>202107-202112</td>\n      <td>광주광역시</td>\n      <td>광산구</td>\n      <td>일반용</td>\n      <td>24286</td>\n      <td>416476658</td>\n    </tr>\n    <tr>\n      <th>31</th>\n      <td>202107-202112</td>\n      <td>광주광역시</td>\n      <td>남구</td>\n      <td>일반용</td>\n      <td>11887</td>\n      <td>161551946</td>\n    </tr>\n    <tr>\n      <th>32</th>\n      <td>202107-202112</td>\n      <td>광주광역시</td>\n      <td>동구</td>\n      <td>일반용</td>\n      <td>11503</td>\n      <td>189619330</td>\n    </tr>\n    <tr>\n      <th>33</th>\n      <td>202107-202112</td>\n      <td>광주광역시</td>\n      <td>북구</td>\n      <td>일반용</td>\n      <td>27767</td>\n      <td>383827798</td>\n    </tr>\n    <tr>\n      <th>34</th>\n      <td>202107-202112</td>\n      <td>광주광역시</td>\n      <td>서구</td>\n      <td>일반용</td>\n      <td>19929</td>\n      <td>406680430</td>\n    </tr>\n  </tbody>\n</table>\n</div>"
     },
     "execution_count": 26,
     "metadata": {},
     "output_type": "execute_result"
    }
   ],
   "source": [
    "GyeonGiHap2 = GyeonGiHap2.loc[GyeonGiHap2['년월'] == '202107-202112']\n",
    "GyeonGiHap2"
   ],
   "metadata": {
    "collapsed": false,
    "pycharm": {
     "name": "#%%\n"
    }
   }
  },
  {
   "cell_type": "code",
   "execution_count": 27,
   "outputs": [
    {
     "data": {
      "text/plain": "               년월     시구  시군구 계약구분 고객호수(호)    사용량(kWh)\n30  202107-202112  광주광역시  광산구  일반용   24286   416476658\n30  202107-202112  광주광역시  광산구   합계   22509  1860875370\n31  202107-202112  광주광역시   남구  일반용   11887   161551946\n31  202107-202112  광주광역시   남구   합계   13594   387463590\n32  202107-202112  광주광역시   동구  일반용   11503   189619330\n32  202107-202112  광주광역시   동구   합계   10187   326390530\n33  202107-202112  광주광역시   북구  일반용   27767   383827798\n33  202107-202112  광주광역시   북구   합계   28622  1215228833\n34  202107-202112  광주광역시   서구  일반용   19929   406680430\n34  202107-202112  광주광역시   서구   합계   17999   837098267",
      "text/html": "<div>\n<style scoped>\n    .dataframe tbody tr th:only-of-type {\n        vertical-align: middle;\n    }\n\n    .dataframe tbody tr th {\n        vertical-align: top;\n    }\n\n    .dataframe thead th {\n        text-align: right;\n    }\n</style>\n<table border=\"1\" class=\"dataframe\">\n  <thead>\n    <tr style=\"text-align: right;\">\n      <th></th>\n      <th>년월</th>\n      <th>시구</th>\n      <th>시군구</th>\n      <th>계약구분</th>\n      <th>고객호수(호)</th>\n      <th>사용량(kWh)</th>\n    </tr>\n  </thead>\n  <tbody>\n    <tr>\n      <th>30</th>\n      <td>202107-202112</td>\n      <td>광주광역시</td>\n      <td>광산구</td>\n      <td>일반용</td>\n      <td>24286</td>\n      <td>416476658</td>\n    </tr>\n    <tr>\n      <th>30</th>\n      <td>202107-202112</td>\n      <td>광주광역시</td>\n      <td>광산구</td>\n      <td>합계</td>\n      <td>22509</td>\n      <td>1860875370</td>\n    </tr>\n    <tr>\n      <th>31</th>\n      <td>202107-202112</td>\n      <td>광주광역시</td>\n      <td>남구</td>\n      <td>일반용</td>\n      <td>11887</td>\n      <td>161551946</td>\n    </tr>\n    <tr>\n      <th>31</th>\n      <td>202107-202112</td>\n      <td>광주광역시</td>\n      <td>남구</td>\n      <td>합계</td>\n      <td>13594</td>\n      <td>387463590</td>\n    </tr>\n    <tr>\n      <th>32</th>\n      <td>202107-202112</td>\n      <td>광주광역시</td>\n      <td>동구</td>\n      <td>일반용</td>\n      <td>11503</td>\n      <td>189619330</td>\n    </tr>\n    <tr>\n      <th>32</th>\n      <td>202107-202112</td>\n      <td>광주광역시</td>\n      <td>동구</td>\n      <td>합계</td>\n      <td>10187</td>\n      <td>326390530</td>\n    </tr>\n    <tr>\n      <th>33</th>\n      <td>202107-202112</td>\n      <td>광주광역시</td>\n      <td>북구</td>\n      <td>일반용</td>\n      <td>27767</td>\n      <td>383827798</td>\n    </tr>\n    <tr>\n      <th>33</th>\n      <td>202107-202112</td>\n      <td>광주광역시</td>\n      <td>북구</td>\n      <td>합계</td>\n      <td>28622</td>\n      <td>1215228833</td>\n    </tr>\n    <tr>\n      <th>34</th>\n      <td>202107-202112</td>\n      <td>광주광역시</td>\n      <td>서구</td>\n      <td>일반용</td>\n      <td>19929</td>\n      <td>406680430</td>\n    </tr>\n    <tr>\n      <th>34</th>\n      <td>202107-202112</td>\n      <td>광주광역시</td>\n      <td>서구</td>\n      <td>합계</td>\n      <td>17999</td>\n      <td>837098267</td>\n    </tr>\n  </tbody>\n</table>\n</div>"
     },
     "execution_count": 27,
     "metadata": {},
     "output_type": "execute_result"
    }
   ],
   "source": [
    "Final = pd.concat([GyeonGiHap2 , Hap])\n",
    "Final = Final.sort_values('시군구')\n",
    "Final"
   ],
   "metadata": {
    "collapsed": false,
    "pycharm": {
     "name": "#%%\n"
    }
   }
  },
  {
   "cell_type": "code",
   "execution_count": 28,
   "outputs": [
    {
     "data": {
      "text/plain": "[416476658, 161551946, 189619330, 383827798, 406680430]"
     },
     "execution_count": 28,
     "metadata": {},
     "output_type": "execute_result"
    }
   ],
   "source": [
    "# Final['일반용 전기의 비율'] = (Final['사용량(kWh)'].loc[Final['계약구분'] == '일반용']) // (Final['사용량(kWh)'].loc[Final['계약구분'] == '합계'])\n",
    "# Final\n",
    "ex = (Final['사용량(kWh)'].loc[Final['계약구분'] == '일반용']).tolist()\n",
    "\n",
    "\n",
    "ex\n"
   ],
   "metadata": {
    "collapsed": false,
    "pycharm": {
     "name": "#%%\n"
    }
   }
  },
  {
   "cell_type": "code",
   "execution_count": 29,
   "outputs": [
    {
     "data": {
      "text/plain": "[1860875370, 387463590, 326390530, 1215228833, 837098267]"
     },
     "execution_count": 29,
     "metadata": {},
     "output_type": "execute_result"
    }
   ],
   "source": [
    "ex_2 =(Final['사용량(kWh)'].loc[Final['계약구분'] == '합계']).tolist()\n",
    "ex_2"
   ],
   "metadata": {
    "collapsed": false,
    "pycharm": {
     "name": "#%%\n"
    }
   }
  },
  {
   "cell_type": "code",
   "execution_count": 30,
   "outputs": [
    {
     "name": "stdout",
     "output_type": "stream",
     "text": [
      "[22.38, 41.69, 58.1, 31.58, 48.58]\n"
     ]
    }
   ],
   "source": [
    "Rate = []\n",
    "ilban = []\n",
    "rae = 0\n",
    "for i in range(len(ex)):\n",
    "    rae = round(ex[i] / ex_2[i] *100 ,2)\n",
    "    Rate.append(rae)\n",
    "print(Rate)"
   ],
   "metadata": {
    "collapsed": false,
    "pycharm": {
     "name": "#%%\n"
    }
   }
  },
  {
   "cell_type": "code",
   "execution_count": 31,
   "outputs": [
    {
     "data": {
      "text/plain": "0   22\n1   42\n2   58\n3   32\n4   49\ndtype: float64"
     },
     "execution_count": 31,
     "metadata": {},
     "output_type": "execute_result"
    }
   ],
   "source": [
    "Rate3 = pd.Series(Rate)\n",
    "Rate3\n",
    "\n",
    "# Final = pd.concat([Final , Rate3])\n",
    "# Final"
   ],
   "metadata": {
    "collapsed": false,
    "pycharm": {
     "name": "#%%\n"
    }
   }
  },
  {
   "cell_type": "code",
   "execution_count": 32,
   "outputs": [
    {
     "data": {
      "text/plain": "   시군구 계약구분  비율\n0  광산구  일반용  22\n1   남구  일반용  42\n2   동구  일반용  58\n3   북구  일반용  32\n4   서구  일반용  49",
      "text/html": "<div>\n<style scoped>\n    .dataframe tbody tr th:only-of-type {\n        vertical-align: middle;\n    }\n\n    .dataframe tbody tr th {\n        vertical-align: top;\n    }\n\n    .dataframe thead th {\n        text-align: right;\n    }\n</style>\n<table border=\"1\" class=\"dataframe\">\n  <thead>\n    <tr style=\"text-align: right;\">\n      <th></th>\n      <th>시군구</th>\n      <th>계약구분</th>\n      <th>비율</th>\n    </tr>\n  </thead>\n  <tbody>\n    <tr>\n      <th>0</th>\n      <td>광산구</td>\n      <td>일반용</td>\n      <td>22</td>\n    </tr>\n    <tr>\n      <th>1</th>\n      <td>남구</td>\n      <td>일반용</td>\n      <td>42</td>\n    </tr>\n    <tr>\n      <th>2</th>\n      <td>동구</td>\n      <td>일반용</td>\n      <td>58</td>\n    </tr>\n    <tr>\n      <th>3</th>\n      <td>북구</td>\n      <td>일반용</td>\n      <td>32</td>\n    </tr>\n    <tr>\n      <th>4</th>\n      <td>서구</td>\n      <td>일반용</td>\n      <td>49</td>\n    </tr>\n  </tbody>\n</table>\n</div>"
     },
     "execution_count": 32,
     "metadata": {},
     "output_type": "execute_result"
    }
   ],
   "source": [
    "for j in range(len(Rate)):\n",
    "    ilban.append('일반용')\n",
    "#print(Rate)\n",
    "\n",
    "Rate2 = pd.DataFrame()\n",
    "Rate2['시군구'] = pd.DataFrame(SIGUNGU)\n",
    "Rate2['계약구분'] = pd.DataFrame(ilban)\n",
    "Rate2['비율'] = pd.DataFrame(Rate)\n",
    "Rate2\n",
    "#print(Rate2.dtypes)"
   ],
   "metadata": {
    "collapsed": false,
    "pycharm": {
     "name": "#%%\n"
    }
   }
  },
  {
   "cell_type": "code",
   "execution_count": 33,
   "outputs": [
    {
     "data": {
      "text/plain": "              년월     시구  시군구 계약구분 고객호수(호)    사용량(kWh)  비율\n0  202107-202112  광주광역시  광산구  일반용   24286   416476658  22\n1  202107-202112  광주광역시  광산구   합계   22509  1860875370 NaN\n2  202107-202112  광주광역시   남구  일반용   11887   161551946  42\n3  202107-202112  광주광역시   남구   합계   13594   387463590 NaN\n4  202107-202112  광주광역시   동구  일반용   11503   189619330  58\n5  202107-202112  광주광역시   동구   합계   10187   326390530 NaN\n6  202107-202112  광주광역시   북구  일반용   27767   383827798  32\n7  202107-202112  광주광역시   북구   합계   28622  1215228833 NaN\n8  202107-202112  광주광역시   서구  일반용   19929   406680430  49\n9  202107-202112  광주광역시   서구   합계   17999   837098267 NaN",
      "text/html": "<div>\n<style scoped>\n    .dataframe tbody tr th:only-of-type {\n        vertical-align: middle;\n    }\n\n    .dataframe tbody tr th {\n        vertical-align: top;\n    }\n\n    .dataframe thead th {\n        text-align: right;\n    }\n</style>\n<table border=\"1\" class=\"dataframe\">\n  <thead>\n    <tr style=\"text-align: right;\">\n      <th></th>\n      <th>년월</th>\n      <th>시구</th>\n      <th>시군구</th>\n      <th>계약구분</th>\n      <th>고객호수(호)</th>\n      <th>사용량(kWh)</th>\n      <th>비율</th>\n    </tr>\n  </thead>\n  <tbody>\n    <tr>\n      <th>0</th>\n      <td>202107-202112</td>\n      <td>광주광역시</td>\n      <td>광산구</td>\n      <td>일반용</td>\n      <td>24286</td>\n      <td>416476658</td>\n      <td>22</td>\n    </tr>\n    <tr>\n      <th>1</th>\n      <td>202107-202112</td>\n      <td>광주광역시</td>\n      <td>광산구</td>\n      <td>합계</td>\n      <td>22509</td>\n      <td>1860875370</td>\n      <td>NaN</td>\n    </tr>\n    <tr>\n      <th>2</th>\n      <td>202107-202112</td>\n      <td>광주광역시</td>\n      <td>남구</td>\n      <td>일반용</td>\n      <td>11887</td>\n      <td>161551946</td>\n      <td>42</td>\n    </tr>\n    <tr>\n      <th>3</th>\n      <td>202107-202112</td>\n      <td>광주광역시</td>\n      <td>남구</td>\n      <td>합계</td>\n      <td>13594</td>\n      <td>387463590</td>\n      <td>NaN</td>\n    </tr>\n    <tr>\n      <th>4</th>\n      <td>202107-202112</td>\n      <td>광주광역시</td>\n      <td>동구</td>\n      <td>일반용</td>\n      <td>11503</td>\n      <td>189619330</td>\n      <td>58</td>\n    </tr>\n    <tr>\n      <th>5</th>\n      <td>202107-202112</td>\n      <td>광주광역시</td>\n      <td>동구</td>\n      <td>합계</td>\n      <td>10187</td>\n      <td>326390530</td>\n      <td>NaN</td>\n    </tr>\n    <tr>\n      <th>6</th>\n      <td>202107-202112</td>\n      <td>광주광역시</td>\n      <td>북구</td>\n      <td>일반용</td>\n      <td>27767</td>\n      <td>383827798</td>\n      <td>32</td>\n    </tr>\n    <tr>\n      <th>7</th>\n      <td>202107-202112</td>\n      <td>광주광역시</td>\n      <td>북구</td>\n      <td>합계</td>\n      <td>28622</td>\n      <td>1215228833</td>\n      <td>NaN</td>\n    </tr>\n    <tr>\n      <th>8</th>\n      <td>202107-202112</td>\n      <td>광주광역시</td>\n      <td>서구</td>\n      <td>일반용</td>\n      <td>19929</td>\n      <td>406680430</td>\n      <td>49</td>\n    </tr>\n    <tr>\n      <th>9</th>\n      <td>202107-202112</td>\n      <td>광주광역시</td>\n      <td>서구</td>\n      <td>합계</td>\n      <td>17999</td>\n      <td>837098267</td>\n      <td>NaN</td>\n    </tr>\n  </tbody>\n</table>\n</div>"
     },
     "execution_count": 33,
     "metadata": {},
     "output_type": "execute_result"
    }
   ],
   "source": [
    "Final = pd.merge(Final , Rate2, on=['시군구', '계약구분'] , how='left')\n",
    "\n",
    "#Final.drop(['비율_y]' , axis = 1 , inplace = True)\n",
    "#Final.rename(columns={'비율_y':'전체 계약종별 전력사용량 대비 일반용 사용량 비율'})\n",
    "Final = Final.sort_values(['시군구' , '계약구분'])\n",
    "Final"
   ],
   "metadata": {
    "collapsed": false,
    "pycharm": {
     "name": "#%%\n"
    }
   }
  },
  {
   "cell_type": "code",
   "execution_count": 34,
   "outputs": [],
   "source": [
    "# Final['일반용 전기의 비율'] = Final.append(Rate)\n",
    "# Final"
   ],
   "metadata": {
    "collapsed": false,
    "pycharm": {
     "name": "#%%\n"
    }
   }
  },
  {
   "cell_type": "markdown",
   "source": [
    "### 6. 날짜 체크!!!!!!!!!!!!!!!!!!!!1"
   ],
   "metadata": {
    "collapsed": false,
    "pycharm": {
     "name": "#%% md\n"
    }
   }
  },
  {
   "cell_type": "code",
   "execution_count": 35,
   "outputs": [],
   "source": [
    "Final.to_csv(\"{}_일반용_전력사용량_2107-12.csv\".format(City) , mode = 'w' , encoding= 'cp949' , index =False) #파일명 수정"
   ],
   "metadata": {
    "collapsed": false,
    "pycharm": {
     "name": "#%%\n"
    }
   }
  },
  {
   "cell_type": "code",
   "execution_count": 35,
   "outputs": [],
   "source": [],
   "metadata": {
    "collapsed": false,
    "pycharm": {
     "name": "#%%\n"
    }
   }
  },
  {
   "cell_type": "code",
   "execution_count": 36,
   "outputs": [],
   "source": [
    "# Sigu = list(set(df_3['시군구'].tolist()))\n",
    "#\n",
    "# Sigu.sort()\n",
    "#\n",
    "# Sigu"
   ],
   "metadata": {
    "collapsed": false,
    "pycharm": {
     "name": "#%%\n"
    }
   }
  },
  {
   "cell_type": "code",
   "execution_count": 37,
   "outputs": [],
   "source": [
    "# YearMonth = list(set(df_3['년월'].tolist()))\n",
    "#\n",
    "# YearMonth.sort()\n",
    "# YearMonth"
   ],
   "metadata": {
    "collapsed": false,
    "pycharm": {
     "name": "#%%\n"
    }
   }
  },
  {
   "cell_type": "code",
   "execution_count": 38,
   "outputs": [],
   "source": [
    "# Gayeak = list(set(df_3['계약구분'].tolist()))\n",
    "#\n",
    "# Gayeak.sort()\n",
    "# Gayeak"
   ],
   "metadata": {
    "collapsed": false,
    "pycharm": {
     "name": "#%%\n"
    }
   }
  },
  {
   "cell_type": "code",
   "execution_count": 39,
   "outputs": [],
   "source": [
    "# SEOUL = df_3.loc[(df_3['계약구분'] =='일반용')]\n",
    "# SEOUL.drop(['고객호수(호)' ,'전기요금(원)' , '평균판매단가(원/kWh)'] , axis = 1 , inplace = True)\n",
    "# #SEOUL.dtypes(['사용량(kWh)'])\n",
    "# SEOUL"
   ],
   "metadata": {
    "collapsed": false,
    "pycharm": {
     "name": "#%%\n"
    }
   }
  },
  {
   "cell_type": "code",
   "execution_count": 40,
   "outputs": [],
   "source": [
    "#SEOUL.to_csv(\"서울특별시_일반용_전력사용량.csv\" , mode = 'w' , encoding= 'cp949')"
   ],
   "metadata": {
    "collapsed": false,
    "pycharm": {
     "name": "#%%\n"
    }
   }
  },
  {
   "cell_type": "code",
   "execution_count": 41,
   "outputs": [],
   "source": [
    "# print(SEOUL.dtypes)\n",
    "# SEOUL = SEOUL.astype({'사용량(kWh)' : 'float'})"
   ],
   "metadata": {
    "collapsed": false,
    "pycharm": {
     "name": "#%%\n"
    }
   }
  },
  {
   "cell_type": "code",
   "execution_count": 42,
   "outputs": [],
   "source": [
    "# SEOUL"
   ],
   "metadata": {
    "collapsed": false,
    "pycharm": {
     "name": "#%%\n"
    }
   }
  },
  {
   "cell_type": "code",
   "execution_count": 43,
   "outputs": [],
   "source": [
    "# a = SEOUL['사용량(kWh)'].tolist()\n",
    "# int_list = map(int, a)\n",
    "# b=0\n",
    "# for i in int_list:\n",
    "#     b+=i\n",
    "#\n",
    "# print(b)"
   ],
   "metadata": {
    "collapsed": false,
    "pycharm": {
     "name": "#%%\n"
    }
   }
  },
  {
   "cell_type": "code",
   "execution_count": 43,
   "outputs": [],
   "source": [],
   "metadata": {
    "collapsed": false,
    "pycharm": {
     "name": "#%%\n"
    }
   }
  },
  {
   "cell_type": "code",
   "execution_count": 43,
   "outputs": [],
   "source": [],
   "metadata": {
    "collapsed": false,
    "pycharm": {
     "name": "#%%\n"
    }
   }
  },
  {
   "cell_type": "code",
   "execution_count": 43,
   "outputs": [],
   "source": [],
   "metadata": {
    "collapsed": false,
    "pycharm": {
     "name": "#%%\n"
    }
   }
  },
  {
   "cell_type": "code",
   "execution_count": 43,
   "outputs": [],
   "source": [],
   "metadata": {
    "collapsed": false,
    "pycharm": {
     "name": "#%%\n"
    }
   }
  },
  {
   "cell_type": "code",
   "execution_count": 43,
   "outputs": [],
   "source": [],
   "metadata": {
    "collapsed": false,
    "pycharm": {
     "name": "#%%\n"
    }
   }
  },
  {
   "cell_type": "code",
   "execution_count": 43,
   "outputs": [],
   "source": [],
   "metadata": {
    "collapsed": false,
    "pycharm": {
     "name": "#%%\n"
    }
   }
  },
  {
   "cell_type": "code",
   "execution_count": 43,
   "outputs": [],
   "source": [],
   "metadata": {
    "collapsed": false,
    "pycharm": {
     "name": "#%%\n"
    }
   }
  }
 ],
 "metadata": {
  "kernelspec": {
   "display_name": "Python 3",
   "language": "python",
   "name": "python3"
  },
  "language_info": {
   "codemirror_mode": {
    "name": "ipython",
    "version": 2
   },
   "file_extension": ".py",
   "mimetype": "text/x-python",
   "name": "python",
   "nbconvert_exporter": "python",
   "pygments_lexer": "ipython2",
   "version": "2.7.6"
  }
 },
 "nbformat": 4,
 "nbformat_minor": 0
}