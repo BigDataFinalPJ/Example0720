{
 "cells": [
  {
   "cell_type": "markdown",
   "source": [],
   "metadata": {
    "collapsed": false,
    "pycharm": {
     "name": "#%% md\n"
    }
   }
  },
  {
   "cell_type": "code",
   "execution_count": 1,
   "outputs": [],
   "source": [
    "import pandas as pd\n",
    "import re\n",
    "\n",
    "pd.options.display.float_format = '{:.0f}'.format"
   ],
   "metadata": {
    "collapsed": false,
    "pycharm": {
     "name": "#%%\n"
    }
   }
  },
  {
   "cell_type": "markdown",
   "source": [
    "### 1. 꼭 read_csv 21상반기, 19하반기와 같이 맞추어 주세요!!! 또한 지역(전라북도, 남도) 맞추기!!!!!"
   ],
   "metadata": {
    "collapsed": false,
    "pycharm": {
     "name": "#%% md\n"
    }
   }
  },
  {
   "cell_type": "code",
   "execution_count": 2,
   "outputs": [
    {
     "data": {
      "text/plain": "        계약종별 전력사용량 월별( 20220804 현재 ) Unnamed: 1     Unnamed: 2 Unnamed: 3  \\\n0    시도 : 대구광역시, 시군구 : 전체(시 / 군 / 구)        NaN            NaN        NaN   \n1        기간 : 2021년 01 월 ~ 2021년 06월        NaN            NaN        NaN   \n2                                 년월         시구            시군구       계약구분   \n3                             202101      대구광역시  전체(시 / 군 / 구)        주택용   \n4                             202101      대구광역시  전체(시 / 군 / 구)        일반용   \n..                               ...        ...            ...        ...   \n427                           202106      대구광역시             중구        산업용   \n428                           202106      대구광역시             중구        심 야   \n429                           202106      대구광역시             중구        일반용   \n430                           202106      대구광역시             중구        주택용   \n431                           202106      대구광역시             중구         합계   \n\n    Unnamed: 4    Unnamed: 5       Unnamed: 6     Unnamed: 7  \n0          NaN           NaN              NaN            NaN  \n1          NaN           NaN              NaN            NaN  \n2      고객호수(호)      사용량(kWh)          전기요금(원)  평균판매단가(원/kWh)  \n3     656,667   323,293,264   35,976,122,622          111.3   \n4     155,194   456,494,369   58,902,263,108          129.0   \n..         ...           ...              ...            ...  \n427       992     1,978,084      283,096,344          143.1   \n428       799     1,671,041      108,985,089           65.2   \n429    14,513    39,839,522    5,774,313,604          144.9   \n430    29,132    10,065,728    1,010,778,640          100.4   \n431    50,619    55,199,819    7,366,171,373          133.4   \n\n[432 rows x 8 columns]",
      "text/html": "<div>\n<style scoped>\n    .dataframe tbody tr th:only-of-type {\n        vertical-align: middle;\n    }\n\n    .dataframe tbody tr th {\n        vertical-align: top;\n    }\n\n    .dataframe thead th {\n        text-align: right;\n    }\n</style>\n<table border=\"1\" class=\"dataframe\">\n  <thead>\n    <tr style=\"text-align: right;\">\n      <th></th>\n      <th>계약종별 전력사용량 월별( 20220804 현재 )</th>\n      <th>Unnamed: 1</th>\n      <th>Unnamed: 2</th>\n      <th>Unnamed: 3</th>\n      <th>Unnamed: 4</th>\n      <th>Unnamed: 5</th>\n      <th>Unnamed: 6</th>\n      <th>Unnamed: 7</th>\n    </tr>\n  </thead>\n  <tbody>\n    <tr>\n      <th>0</th>\n      <td>시도 : 대구광역시, 시군구 : 전체(시 / 군 / 구)</td>\n      <td>NaN</td>\n      <td>NaN</td>\n      <td>NaN</td>\n      <td>NaN</td>\n      <td>NaN</td>\n      <td>NaN</td>\n      <td>NaN</td>\n    </tr>\n    <tr>\n      <th>1</th>\n      <td>기간 : 2021년 01 월 ~ 2021년 06월</td>\n      <td>NaN</td>\n      <td>NaN</td>\n      <td>NaN</td>\n      <td>NaN</td>\n      <td>NaN</td>\n      <td>NaN</td>\n      <td>NaN</td>\n    </tr>\n    <tr>\n      <th>2</th>\n      <td>년월</td>\n      <td>시구</td>\n      <td>시군구</td>\n      <td>계약구분</td>\n      <td>고객호수(호)</td>\n      <td>사용량(kWh)</td>\n      <td>전기요금(원)</td>\n      <td>평균판매단가(원/kWh)</td>\n    </tr>\n    <tr>\n      <th>3</th>\n      <td>202101</td>\n      <td>대구광역시</td>\n      <td>전체(시 / 군 / 구)</td>\n      <td>주택용</td>\n      <td>656,667</td>\n      <td>323,293,264</td>\n      <td>35,976,122,622</td>\n      <td>111.3</td>\n    </tr>\n    <tr>\n      <th>4</th>\n      <td>202101</td>\n      <td>대구광역시</td>\n      <td>전체(시 / 군 / 구)</td>\n      <td>일반용</td>\n      <td>155,194</td>\n      <td>456,494,369</td>\n      <td>58,902,263,108</td>\n      <td>129.0</td>\n    </tr>\n    <tr>\n      <th>...</th>\n      <td>...</td>\n      <td>...</td>\n      <td>...</td>\n      <td>...</td>\n      <td>...</td>\n      <td>...</td>\n      <td>...</td>\n      <td>...</td>\n    </tr>\n    <tr>\n      <th>427</th>\n      <td>202106</td>\n      <td>대구광역시</td>\n      <td>중구</td>\n      <td>산업용</td>\n      <td>992</td>\n      <td>1,978,084</td>\n      <td>283,096,344</td>\n      <td>143.1</td>\n    </tr>\n    <tr>\n      <th>428</th>\n      <td>202106</td>\n      <td>대구광역시</td>\n      <td>중구</td>\n      <td>심 야</td>\n      <td>799</td>\n      <td>1,671,041</td>\n      <td>108,985,089</td>\n      <td>65.2</td>\n    </tr>\n    <tr>\n      <th>429</th>\n      <td>202106</td>\n      <td>대구광역시</td>\n      <td>중구</td>\n      <td>일반용</td>\n      <td>14,513</td>\n      <td>39,839,522</td>\n      <td>5,774,313,604</td>\n      <td>144.9</td>\n    </tr>\n    <tr>\n      <th>430</th>\n      <td>202106</td>\n      <td>대구광역시</td>\n      <td>중구</td>\n      <td>주택용</td>\n      <td>29,132</td>\n      <td>10,065,728</td>\n      <td>1,010,778,640</td>\n      <td>100.4</td>\n    </tr>\n    <tr>\n      <th>431</th>\n      <td>202106</td>\n      <td>대구광역시</td>\n      <td>중구</td>\n      <td>합계</td>\n      <td>50,619</td>\n      <td>55,199,819</td>\n      <td>7,366,171,373</td>\n      <td>133.4</td>\n    </tr>\n  </tbody>\n</table>\n<p>432 rows × 8 columns</p>\n</div>"
     },
     "execution_count": 2,
     "metadata": {},
     "output_type": "execute_result"
    }
   ],
   "source": [
    "df = pd.read_csv('대구광역시_계약종별_전력사용량_월별_21상반기.csv' , encoding='cp949')\n",
    "\n",
    "df\n",
    "#exchng=  pd.read_csv('지역별_전력거래량_20220803093050.csv' , encoding='cp949')"
   ],
   "metadata": {
    "collapsed": false,
    "pycharm": {
     "name": "#%%\n"
    }
   }
  },
  {
   "cell_type": "code",
   "execution_count": 3,
   "outputs": [
    {
     "data": {
      "text/plain": "    계약종별 전력사용량 월별( 20220804 현재 ) Unnamed: 1     Unnamed: 2 Unnamed: 3  \\\n2                             년월         시구            시군구       계약구분   \n3                         202101      대구광역시  전체(시 / 군 / 구)        주택용   \n4                         202101      대구광역시  전체(시 / 군 / 구)        일반용   \n5                         202101      대구광역시  전체(시 / 군 / 구)        교육용   \n6                         202101      대구광역시  전체(시 / 군 / 구)        산업용   \n..                           ...        ...            ...        ...   \n427                       202106      대구광역시             중구        산업용   \n428                       202106      대구광역시             중구        심 야   \n429                       202106      대구광역시             중구        일반용   \n430                       202106      대구광역시             중구        주택용   \n431                       202106      대구광역시             중구         합계   \n\n    Unnamed: 4    Unnamed: 5       Unnamed: 6     Unnamed: 7  \n2      고객호수(호)      사용량(kWh)          전기요금(원)  평균판매단가(원/kWh)  \n3     656,667   323,293,264   35,976,122,622          111.3   \n4     155,194   456,494,369   58,902,263,108          129.0   \n5         818    38,503,461    3,775,463,587           98.1   \n6      20,394   573,679,294   67,552,724,035          117.8   \n..         ...           ...              ...            ...  \n427       992     1,978,084      283,096,344          143.1   \n428       799     1,671,041      108,985,089           65.2   \n429    14,513    39,839,522    5,774,313,604          144.9   \n430    29,132    10,065,728    1,010,778,640          100.4   \n431    50,619    55,199,819    7,366,171,373          133.4   \n\n[429 rows x 8 columns]",
      "text/html": "<div>\n<style scoped>\n    .dataframe tbody tr th:only-of-type {\n        vertical-align: middle;\n    }\n\n    .dataframe tbody tr th {\n        vertical-align: top;\n    }\n\n    .dataframe thead th {\n        text-align: right;\n    }\n</style>\n<table border=\"1\" class=\"dataframe\">\n  <thead>\n    <tr style=\"text-align: right;\">\n      <th></th>\n      <th>계약종별 전력사용량 월별( 20220804 현재 )</th>\n      <th>Unnamed: 1</th>\n      <th>Unnamed: 2</th>\n      <th>Unnamed: 3</th>\n      <th>Unnamed: 4</th>\n      <th>Unnamed: 5</th>\n      <th>Unnamed: 6</th>\n      <th>Unnamed: 7</th>\n    </tr>\n  </thead>\n  <tbody>\n    <tr>\n      <th>2</th>\n      <td>년월</td>\n      <td>시구</td>\n      <td>시군구</td>\n      <td>계약구분</td>\n      <td>고객호수(호)</td>\n      <td>사용량(kWh)</td>\n      <td>전기요금(원)</td>\n      <td>평균판매단가(원/kWh)</td>\n    </tr>\n    <tr>\n      <th>3</th>\n      <td>202101</td>\n      <td>대구광역시</td>\n      <td>전체(시 / 군 / 구)</td>\n      <td>주택용</td>\n      <td>656,667</td>\n      <td>323,293,264</td>\n      <td>35,976,122,622</td>\n      <td>111.3</td>\n    </tr>\n    <tr>\n      <th>4</th>\n      <td>202101</td>\n      <td>대구광역시</td>\n      <td>전체(시 / 군 / 구)</td>\n      <td>일반용</td>\n      <td>155,194</td>\n      <td>456,494,369</td>\n      <td>58,902,263,108</td>\n      <td>129.0</td>\n    </tr>\n    <tr>\n      <th>5</th>\n      <td>202101</td>\n      <td>대구광역시</td>\n      <td>전체(시 / 군 / 구)</td>\n      <td>교육용</td>\n      <td>818</td>\n      <td>38,503,461</td>\n      <td>3,775,463,587</td>\n      <td>98.1</td>\n    </tr>\n    <tr>\n      <th>6</th>\n      <td>202101</td>\n      <td>대구광역시</td>\n      <td>전체(시 / 군 / 구)</td>\n      <td>산업용</td>\n      <td>20,394</td>\n      <td>573,679,294</td>\n      <td>67,552,724,035</td>\n      <td>117.8</td>\n    </tr>\n    <tr>\n      <th>...</th>\n      <td>...</td>\n      <td>...</td>\n      <td>...</td>\n      <td>...</td>\n      <td>...</td>\n      <td>...</td>\n      <td>...</td>\n      <td>...</td>\n    </tr>\n    <tr>\n      <th>427</th>\n      <td>202106</td>\n      <td>대구광역시</td>\n      <td>중구</td>\n      <td>산업용</td>\n      <td>992</td>\n      <td>1,978,084</td>\n      <td>283,096,344</td>\n      <td>143.1</td>\n    </tr>\n    <tr>\n      <th>428</th>\n      <td>202106</td>\n      <td>대구광역시</td>\n      <td>중구</td>\n      <td>심 야</td>\n      <td>799</td>\n      <td>1,671,041</td>\n      <td>108,985,089</td>\n      <td>65.2</td>\n    </tr>\n    <tr>\n      <th>429</th>\n      <td>202106</td>\n      <td>대구광역시</td>\n      <td>중구</td>\n      <td>일반용</td>\n      <td>14,513</td>\n      <td>39,839,522</td>\n      <td>5,774,313,604</td>\n      <td>144.9</td>\n    </tr>\n    <tr>\n      <th>430</th>\n      <td>202106</td>\n      <td>대구광역시</td>\n      <td>중구</td>\n      <td>주택용</td>\n      <td>29,132</td>\n      <td>10,065,728</td>\n      <td>1,010,778,640</td>\n      <td>100.4</td>\n    </tr>\n    <tr>\n      <th>431</th>\n      <td>202106</td>\n      <td>대구광역시</td>\n      <td>중구</td>\n      <td>합계</td>\n      <td>50,619</td>\n      <td>55,199,819</td>\n      <td>7,366,171,373</td>\n      <td>133.4</td>\n    </tr>\n  </tbody>\n</table>\n<p>429 rows × 8 columns</p>\n</div>"
     },
     "execution_count": 3,
     "metadata": {},
     "output_type": "execute_result"
    }
   ],
   "source": [
    "df = df.drop([0,1 , 46] , axis = 0)\n",
    "#0,1 , 10은 지우는게 맞다\n",
    "df"
   ],
   "metadata": {
    "collapsed": false,
    "pycharm": {
     "name": "#%%\n"
    }
   }
  },
  {
   "cell_type": "code",
   "execution_count": 4,
   "outputs": [],
   "source": [
    "a= df.loc[2].tolist()\n",
    "a\n",
    "df = df.drop([2] , axis = 0)"
   ],
   "metadata": {
    "collapsed": false,
    "pycharm": {
     "name": "#%%\n"
    }
   }
  },
  {
   "cell_type": "code",
   "execution_count": 5,
   "outputs": [
    {
     "data": {
      "text/plain": "         년월     시구            시군구 계약구분   고객호수(호)      사용량(kWh)  \\\n3    202101  대구광역시  전체(시 / 군 / 구)  주택용  656,667   323,293,264    \n4    202101  대구광역시  전체(시 / 군 / 구)  일반용  155,194   456,494,369    \n5    202101  대구광역시  전체(시 / 군 / 구)  교육용      818    38,503,461    \n6    202101  대구광역시  전체(시 / 군 / 구)  산업용   20,394   573,679,294    \n7    202101  대구광역시  전체(시 / 군 / 구)  농사용   15,574     8,861,884    \n..      ...    ...            ...  ...       ...           ...   \n427  202106  대구광역시             중구  산업용      992     1,978,084    \n428  202106  대구광역시             중구  심 야      799     1,671,041    \n429  202106  대구광역시             중구  일반용   14,513    39,839,522    \n430  202106  대구광역시             중구  주택용   29,132    10,065,728    \n431  202106  대구광역시             중구   합계   50,619    55,199,819    \n\n             전기요금(원) 평균판매단가(원/kWh)  \n3    35,976,122,622         111.3   \n4    58,902,263,108         129.0   \n5     3,775,463,587          98.1   \n6    67,552,724,035         117.8   \n7       418,739,507          47.3   \n..               ...           ...  \n427     283,096,344         143.1   \n428     108,985,089          65.2   \n429   5,774,313,604         144.9   \n430   1,010,778,640         100.4   \n431   7,366,171,373         133.4   \n\n[428 rows x 8 columns]",
      "text/html": "<div>\n<style scoped>\n    .dataframe tbody tr th:only-of-type {\n        vertical-align: middle;\n    }\n\n    .dataframe tbody tr th {\n        vertical-align: top;\n    }\n\n    .dataframe thead th {\n        text-align: right;\n    }\n</style>\n<table border=\"1\" class=\"dataframe\">\n  <thead>\n    <tr style=\"text-align: right;\">\n      <th></th>\n      <th>년월</th>\n      <th>시구</th>\n      <th>시군구</th>\n      <th>계약구분</th>\n      <th>고객호수(호)</th>\n      <th>사용량(kWh)</th>\n      <th>전기요금(원)</th>\n      <th>평균판매단가(원/kWh)</th>\n    </tr>\n  </thead>\n  <tbody>\n    <tr>\n      <th>3</th>\n      <td>202101</td>\n      <td>대구광역시</td>\n      <td>전체(시 / 군 / 구)</td>\n      <td>주택용</td>\n      <td>656,667</td>\n      <td>323,293,264</td>\n      <td>35,976,122,622</td>\n      <td>111.3</td>\n    </tr>\n    <tr>\n      <th>4</th>\n      <td>202101</td>\n      <td>대구광역시</td>\n      <td>전체(시 / 군 / 구)</td>\n      <td>일반용</td>\n      <td>155,194</td>\n      <td>456,494,369</td>\n      <td>58,902,263,108</td>\n      <td>129.0</td>\n    </tr>\n    <tr>\n      <th>5</th>\n      <td>202101</td>\n      <td>대구광역시</td>\n      <td>전체(시 / 군 / 구)</td>\n      <td>교육용</td>\n      <td>818</td>\n      <td>38,503,461</td>\n      <td>3,775,463,587</td>\n      <td>98.1</td>\n    </tr>\n    <tr>\n      <th>6</th>\n      <td>202101</td>\n      <td>대구광역시</td>\n      <td>전체(시 / 군 / 구)</td>\n      <td>산업용</td>\n      <td>20,394</td>\n      <td>573,679,294</td>\n      <td>67,552,724,035</td>\n      <td>117.8</td>\n    </tr>\n    <tr>\n      <th>7</th>\n      <td>202101</td>\n      <td>대구광역시</td>\n      <td>전체(시 / 군 / 구)</td>\n      <td>농사용</td>\n      <td>15,574</td>\n      <td>8,861,884</td>\n      <td>418,739,507</td>\n      <td>47.3</td>\n    </tr>\n    <tr>\n      <th>...</th>\n      <td>...</td>\n      <td>...</td>\n      <td>...</td>\n      <td>...</td>\n      <td>...</td>\n      <td>...</td>\n      <td>...</td>\n      <td>...</td>\n    </tr>\n    <tr>\n      <th>427</th>\n      <td>202106</td>\n      <td>대구광역시</td>\n      <td>중구</td>\n      <td>산업용</td>\n      <td>992</td>\n      <td>1,978,084</td>\n      <td>283,096,344</td>\n      <td>143.1</td>\n    </tr>\n    <tr>\n      <th>428</th>\n      <td>202106</td>\n      <td>대구광역시</td>\n      <td>중구</td>\n      <td>심 야</td>\n      <td>799</td>\n      <td>1,671,041</td>\n      <td>108,985,089</td>\n      <td>65.2</td>\n    </tr>\n    <tr>\n      <th>429</th>\n      <td>202106</td>\n      <td>대구광역시</td>\n      <td>중구</td>\n      <td>일반용</td>\n      <td>14,513</td>\n      <td>39,839,522</td>\n      <td>5,774,313,604</td>\n      <td>144.9</td>\n    </tr>\n    <tr>\n      <th>430</th>\n      <td>202106</td>\n      <td>대구광역시</td>\n      <td>중구</td>\n      <td>주택용</td>\n      <td>29,132</td>\n      <td>10,065,728</td>\n      <td>1,010,778,640</td>\n      <td>100.4</td>\n    </tr>\n    <tr>\n      <th>431</th>\n      <td>202106</td>\n      <td>대구광역시</td>\n      <td>중구</td>\n      <td>합계</td>\n      <td>50,619</td>\n      <td>55,199,819</td>\n      <td>7,366,171,373</td>\n      <td>133.4</td>\n    </tr>\n  </tbody>\n</table>\n<p>428 rows × 8 columns</p>\n</div>"
     },
     "execution_count": 5,
     "metadata": {},
     "output_type": "execute_result"
    }
   ],
   "source": [
    "df.columns = a\n",
    "df"
   ],
   "metadata": {
    "collapsed": false,
    "pycharm": {
     "name": "#%%\n"
    }
   }
  },
  {
   "cell_type": "code",
   "execution_count": 6,
   "outputs": [
    {
     "data": {
      "text/plain": "        년월     시구            시군구 계약구분    고객호수(호)       사용량(kWh)  \\\n3   202101  대구광역시  전체(시 / 군 / 구)  주택용   656,667    323,293,264    \n4   202101  대구광역시  전체(시 / 군 / 구)  일반용   155,194    456,494,369    \n5   202101  대구광역시  전체(시 / 군 / 구)  교육용       818     38,503,461    \n6   202101  대구광역시  전체(시 / 군 / 구)  산업용    20,394    573,679,294    \n7   202101  대구광역시  전체(시 / 군 / 구)  농사용    15,574      8,861,884    \n8   202101  대구광역시  전체(시 / 군 / 구)  가로등    64,208     12,467,701    \n9   202101  대구광역시  전체(시 / 군 / 구)  심 야    16,711     30,537,976    \n10  202102  대구광역시  전체(시 / 군 / 구)  주택용   656,150    313,147,740    \n11  202102  대구광역시  전체(시 / 군 / 구)  일반용   155,208    420,898,792    \n12  202102  대구광역시  전체(시 / 군 / 구)  교육용       821     32,881,684    \n13  202102  대구광역시  전체(시 / 군 / 구)  산업용    20,394    527,516,775    \n14  202102  대구광역시  전체(시 / 군 / 구)  농사용    15,617      8,339,797    \n15  202102  대구광역시  전체(시 / 군 / 구)  가로등    64,191     11,661,109    \n16  202102  대구광역시  전체(시 / 군 / 구)  심 야    16,649     28,542,478    \n17  202103  대구광역시  전체(시 / 군 / 구)  주택용   655,949    271,190,535    \n18  202103  대구광역시  전체(시 / 군 / 구)  일반용   155,176    351,966,804    \n19  202103  대구광역시  전체(시 / 군 / 구)  교육용       820     29,784,006    \n20  202103  대구광역시  전체(시 / 군 / 구)  산업용    20,371    532,198,332    \n21  202103  대구광역시  전체(시 / 군 / 구)  농사용    16,080      6,263,823    \n22  202103  대구광역시  전체(시 / 군 / 구)  가로등    64,206     10,474,153    \n23  202103  대구광역시  전체(시 / 군 / 구)  심 야    16,568     20,870,441    \n24  202104  대구광역시  전체(시 / 군 / 구)  주택용   655,949    279,617,765    \n25  202104  대구광역시  전체(시 / 군 / 구)  일반용   155,254    338,570,005    \n26  202104  대구광역시  전체(시 / 군 / 구)  교육용       822     25,889,315    \n27  202104  대구광역시  전체(시 / 군 / 구)  산업용    20,374    534,816,923    \n28  202104  대구광역시  전체(시 / 군 / 구)  농사용    15,852      5,713,892    \n29  202104  대구광역시  전체(시 / 군 / 구)  가로등    64,285     10,307,206    \n30  202104  대구광역시  전체(시 / 군 / 구)  심 야    16,496     15,106,889    \n31  202105  대구광역시  전체(시 / 군 / 구)  주택용   655,817    263,391,739    \n32  202105  대구광역시  전체(시 / 군 / 구)  일반용   155,420    325,172,570    \n33  202105  대구광역시  전체(시 / 군 / 구)  교육용       822     22,406,277    \n34  202105  대구광역시  전체(시 / 군 / 구)  산업용    20,369    516,868,513    \n35  202105  대구광역시  전체(시 / 군 / 구)  농사용    16,017      5,743,329    \n36  202105  대구광역시  전체(시 / 군 / 구)  가로등    64,361      9,404,358    \n37  202105  대구광역시  전체(시 / 군 / 구)  심 야    16,403     10,428,546    \n38  202106  대구광역시  전체(시 / 군 / 구)  주택용   655,412    276,081,648    \n39  202106  대구광역시  전체(시 / 군 / 구)  일반용   155,460    365,035,757    \n40  202106  대구광역시  전체(시 / 군 / 구)  교육용       819     27,897,543    \n41  202106  대구광역시  전체(시 / 군 / 구)  산업용    20,361    537,679,828    \n42  202106  대구광역시  전체(시 / 군 / 구)  농사용    16,104      7,186,426    \n43  202106  대구광역시  전체(시 / 군 / 구)  가로등    64,319      9,000,193    \n44  202106  대구광역시  전체(시 / 군 / 구)  심 야    16,287      9,672,678    \n45      합계     합계             합계   합계  5,574,769  7,605,565,818   \n\n            전기요금(원) 평균판매단가(원/kWh)  \n3   35,976,122,622         111.3   \n4   58,902,263,108         129.0   \n5    3,775,463,587          98.1   \n6   67,552,724,035         117.8   \n7      418,739,507          47.3   \n8    1,269,854,255         101.9   \n9    2,212,425,547          72.4   \n10  34,071,366,469         108.8   \n11  55,542,527,468         132.0   \n12   3,345,326,836         101.7   \n13  63,347,263,835         120.1   \n14     399,912,920          48.0   \n15   1,234,351,621         105.9   \n16   2,065,743,555          72.4   \n17  26,465,813,251          97.6   \n18  43,822,228,425         124.5   \n19   2,901,626,183          97.4   \n20  54,611,461,618         102.6   \n21     317,496,078          50.7   \n22   1,118,305,217         106.8   \n23   1,340,393,318          64.2   \n24  27,853,045,716          99.6   \n25  39,044,579,970         115.3   \n26   2,294,031,546          88.6   \n27  52,298,971,980          97.8   \n28     294,762,308          51.6   \n29   1,130,894,778         109.7   \n30     817,951,476          54.1   \n31  25,116,091,532          95.4   \n32  38,007,268,847         116.9   \n33   1,987,265,059          88.7   \n34  50,841,731,265          98.4   \n35     285,780,726          49.8   \n36   1,062,504,526         113.0   \n37     582,692,659          55.9   \n38  27,100,425,807          98.2   \n39  48,660,498,256         133.3   \n40   3,152,559,447         113.0   \n41  64,666,874,711         120.3   \n42     323,794,028          45.1   \n43   1,042,593,190         115.8   \n44     565,607,167          58.5   \n45  847,821,334,449         111.5  ",
      "text/html": "<div>\n<style scoped>\n    .dataframe tbody tr th:only-of-type {\n        vertical-align: middle;\n    }\n\n    .dataframe tbody tr th {\n        vertical-align: top;\n    }\n\n    .dataframe thead th {\n        text-align: right;\n    }\n</style>\n<table border=\"1\" class=\"dataframe\">\n  <thead>\n    <tr style=\"text-align: right;\">\n      <th></th>\n      <th>년월</th>\n      <th>시구</th>\n      <th>시군구</th>\n      <th>계약구분</th>\n      <th>고객호수(호)</th>\n      <th>사용량(kWh)</th>\n      <th>전기요금(원)</th>\n      <th>평균판매단가(원/kWh)</th>\n    </tr>\n  </thead>\n  <tbody>\n    <tr>\n      <th>3</th>\n      <td>202101</td>\n      <td>대구광역시</td>\n      <td>전체(시 / 군 / 구)</td>\n      <td>주택용</td>\n      <td>656,667</td>\n      <td>323,293,264</td>\n      <td>35,976,122,622</td>\n      <td>111.3</td>\n    </tr>\n    <tr>\n      <th>4</th>\n      <td>202101</td>\n      <td>대구광역시</td>\n      <td>전체(시 / 군 / 구)</td>\n      <td>일반용</td>\n      <td>155,194</td>\n      <td>456,494,369</td>\n      <td>58,902,263,108</td>\n      <td>129.0</td>\n    </tr>\n    <tr>\n      <th>5</th>\n      <td>202101</td>\n      <td>대구광역시</td>\n      <td>전체(시 / 군 / 구)</td>\n      <td>교육용</td>\n      <td>818</td>\n      <td>38,503,461</td>\n      <td>3,775,463,587</td>\n      <td>98.1</td>\n    </tr>\n    <tr>\n      <th>6</th>\n      <td>202101</td>\n      <td>대구광역시</td>\n      <td>전체(시 / 군 / 구)</td>\n      <td>산업용</td>\n      <td>20,394</td>\n      <td>573,679,294</td>\n      <td>67,552,724,035</td>\n      <td>117.8</td>\n    </tr>\n    <tr>\n      <th>7</th>\n      <td>202101</td>\n      <td>대구광역시</td>\n      <td>전체(시 / 군 / 구)</td>\n      <td>농사용</td>\n      <td>15,574</td>\n      <td>8,861,884</td>\n      <td>418,739,507</td>\n      <td>47.3</td>\n    </tr>\n    <tr>\n      <th>8</th>\n      <td>202101</td>\n      <td>대구광역시</td>\n      <td>전체(시 / 군 / 구)</td>\n      <td>가로등</td>\n      <td>64,208</td>\n      <td>12,467,701</td>\n      <td>1,269,854,255</td>\n      <td>101.9</td>\n    </tr>\n    <tr>\n      <th>9</th>\n      <td>202101</td>\n      <td>대구광역시</td>\n      <td>전체(시 / 군 / 구)</td>\n      <td>심 야</td>\n      <td>16,711</td>\n      <td>30,537,976</td>\n      <td>2,212,425,547</td>\n      <td>72.4</td>\n    </tr>\n    <tr>\n      <th>10</th>\n      <td>202102</td>\n      <td>대구광역시</td>\n      <td>전체(시 / 군 / 구)</td>\n      <td>주택용</td>\n      <td>656,150</td>\n      <td>313,147,740</td>\n      <td>34,071,366,469</td>\n      <td>108.8</td>\n    </tr>\n    <tr>\n      <th>11</th>\n      <td>202102</td>\n      <td>대구광역시</td>\n      <td>전체(시 / 군 / 구)</td>\n      <td>일반용</td>\n      <td>155,208</td>\n      <td>420,898,792</td>\n      <td>55,542,527,468</td>\n      <td>132.0</td>\n    </tr>\n    <tr>\n      <th>12</th>\n      <td>202102</td>\n      <td>대구광역시</td>\n      <td>전체(시 / 군 / 구)</td>\n      <td>교육용</td>\n      <td>821</td>\n      <td>32,881,684</td>\n      <td>3,345,326,836</td>\n      <td>101.7</td>\n    </tr>\n    <tr>\n      <th>13</th>\n      <td>202102</td>\n      <td>대구광역시</td>\n      <td>전체(시 / 군 / 구)</td>\n      <td>산업용</td>\n      <td>20,394</td>\n      <td>527,516,775</td>\n      <td>63,347,263,835</td>\n      <td>120.1</td>\n    </tr>\n    <tr>\n      <th>14</th>\n      <td>202102</td>\n      <td>대구광역시</td>\n      <td>전체(시 / 군 / 구)</td>\n      <td>농사용</td>\n      <td>15,617</td>\n      <td>8,339,797</td>\n      <td>399,912,920</td>\n      <td>48.0</td>\n    </tr>\n    <tr>\n      <th>15</th>\n      <td>202102</td>\n      <td>대구광역시</td>\n      <td>전체(시 / 군 / 구)</td>\n      <td>가로등</td>\n      <td>64,191</td>\n      <td>11,661,109</td>\n      <td>1,234,351,621</td>\n      <td>105.9</td>\n    </tr>\n    <tr>\n      <th>16</th>\n      <td>202102</td>\n      <td>대구광역시</td>\n      <td>전체(시 / 군 / 구)</td>\n      <td>심 야</td>\n      <td>16,649</td>\n      <td>28,542,478</td>\n      <td>2,065,743,555</td>\n      <td>72.4</td>\n    </tr>\n    <tr>\n      <th>17</th>\n      <td>202103</td>\n      <td>대구광역시</td>\n      <td>전체(시 / 군 / 구)</td>\n      <td>주택용</td>\n      <td>655,949</td>\n      <td>271,190,535</td>\n      <td>26,465,813,251</td>\n      <td>97.6</td>\n    </tr>\n    <tr>\n      <th>18</th>\n      <td>202103</td>\n      <td>대구광역시</td>\n      <td>전체(시 / 군 / 구)</td>\n      <td>일반용</td>\n      <td>155,176</td>\n      <td>351,966,804</td>\n      <td>43,822,228,425</td>\n      <td>124.5</td>\n    </tr>\n    <tr>\n      <th>19</th>\n      <td>202103</td>\n      <td>대구광역시</td>\n      <td>전체(시 / 군 / 구)</td>\n      <td>교육용</td>\n      <td>820</td>\n      <td>29,784,006</td>\n      <td>2,901,626,183</td>\n      <td>97.4</td>\n    </tr>\n    <tr>\n      <th>20</th>\n      <td>202103</td>\n      <td>대구광역시</td>\n      <td>전체(시 / 군 / 구)</td>\n      <td>산업용</td>\n      <td>20,371</td>\n      <td>532,198,332</td>\n      <td>54,611,461,618</td>\n      <td>102.6</td>\n    </tr>\n    <tr>\n      <th>21</th>\n      <td>202103</td>\n      <td>대구광역시</td>\n      <td>전체(시 / 군 / 구)</td>\n      <td>농사용</td>\n      <td>16,080</td>\n      <td>6,263,823</td>\n      <td>317,496,078</td>\n      <td>50.7</td>\n    </tr>\n    <tr>\n      <th>22</th>\n      <td>202103</td>\n      <td>대구광역시</td>\n      <td>전체(시 / 군 / 구)</td>\n      <td>가로등</td>\n      <td>64,206</td>\n      <td>10,474,153</td>\n      <td>1,118,305,217</td>\n      <td>106.8</td>\n    </tr>\n    <tr>\n      <th>23</th>\n      <td>202103</td>\n      <td>대구광역시</td>\n      <td>전체(시 / 군 / 구)</td>\n      <td>심 야</td>\n      <td>16,568</td>\n      <td>20,870,441</td>\n      <td>1,340,393,318</td>\n      <td>64.2</td>\n    </tr>\n    <tr>\n      <th>24</th>\n      <td>202104</td>\n      <td>대구광역시</td>\n      <td>전체(시 / 군 / 구)</td>\n      <td>주택용</td>\n      <td>655,949</td>\n      <td>279,617,765</td>\n      <td>27,853,045,716</td>\n      <td>99.6</td>\n    </tr>\n    <tr>\n      <th>25</th>\n      <td>202104</td>\n      <td>대구광역시</td>\n      <td>전체(시 / 군 / 구)</td>\n      <td>일반용</td>\n      <td>155,254</td>\n      <td>338,570,005</td>\n      <td>39,044,579,970</td>\n      <td>115.3</td>\n    </tr>\n    <tr>\n      <th>26</th>\n      <td>202104</td>\n      <td>대구광역시</td>\n      <td>전체(시 / 군 / 구)</td>\n      <td>교육용</td>\n      <td>822</td>\n      <td>25,889,315</td>\n      <td>2,294,031,546</td>\n      <td>88.6</td>\n    </tr>\n    <tr>\n      <th>27</th>\n      <td>202104</td>\n      <td>대구광역시</td>\n      <td>전체(시 / 군 / 구)</td>\n      <td>산업용</td>\n      <td>20,374</td>\n      <td>534,816,923</td>\n      <td>52,298,971,980</td>\n      <td>97.8</td>\n    </tr>\n    <tr>\n      <th>28</th>\n      <td>202104</td>\n      <td>대구광역시</td>\n      <td>전체(시 / 군 / 구)</td>\n      <td>농사용</td>\n      <td>15,852</td>\n      <td>5,713,892</td>\n      <td>294,762,308</td>\n      <td>51.6</td>\n    </tr>\n    <tr>\n      <th>29</th>\n      <td>202104</td>\n      <td>대구광역시</td>\n      <td>전체(시 / 군 / 구)</td>\n      <td>가로등</td>\n      <td>64,285</td>\n      <td>10,307,206</td>\n      <td>1,130,894,778</td>\n      <td>109.7</td>\n    </tr>\n    <tr>\n      <th>30</th>\n      <td>202104</td>\n      <td>대구광역시</td>\n      <td>전체(시 / 군 / 구)</td>\n      <td>심 야</td>\n      <td>16,496</td>\n      <td>15,106,889</td>\n      <td>817,951,476</td>\n      <td>54.1</td>\n    </tr>\n    <tr>\n      <th>31</th>\n      <td>202105</td>\n      <td>대구광역시</td>\n      <td>전체(시 / 군 / 구)</td>\n      <td>주택용</td>\n      <td>655,817</td>\n      <td>263,391,739</td>\n      <td>25,116,091,532</td>\n      <td>95.4</td>\n    </tr>\n    <tr>\n      <th>32</th>\n      <td>202105</td>\n      <td>대구광역시</td>\n      <td>전체(시 / 군 / 구)</td>\n      <td>일반용</td>\n      <td>155,420</td>\n      <td>325,172,570</td>\n      <td>38,007,268,847</td>\n      <td>116.9</td>\n    </tr>\n    <tr>\n      <th>33</th>\n      <td>202105</td>\n      <td>대구광역시</td>\n      <td>전체(시 / 군 / 구)</td>\n      <td>교육용</td>\n      <td>822</td>\n      <td>22,406,277</td>\n      <td>1,987,265,059</td>\n      <td>88.7</td>\n    </tr>\n    <tr>\n      <th>34</th>\n      <td>202105</td>\n      <td>대구광역시</td>\n      <td>전체(시 / 군 / 구)</td>\n      <td>산업용</td>\n      <td>20,369</td>\n      <td>516,868,513</td>\n      <td>50,841,731,265</td>\n      <td>98.4</td>\n    </tr>\n    <tr>\n      <th>35</th>\n      <td>202105</td>\n      <td>대구광역시</td>\n      <td>전체(시 / 군 / 구)</td>\n      <td>농사용</td>\n      <td>16,017</td>\n      <td>5,743,329</td>\n      <td>285,780,726</td>\n      <td>49.8</td>\n    </tr>\n    <tr>\n      <th>36</th>\n      <td>202105</td>\n      <td>대구광역시</td>\n      <td>전체(시 / 군 / 구)</td>\n      <td>가로등</td>\n      <td>64,361</td>\n      <td>9,404,358</td>\n      <td>1,062,504,526</td>\n      <td>113.0</td>\n    </tr>\n    <tr>\n      <th>37</th>\n      <td>202105</td>\n      <td>대구광역시</td>\n      <td>전체(시 / 군 / 구)</td>\n      <td>심 야</td>\n      <td>16,403</td>\n      <td>10,428,546</td>\n      <td>582,692,659</td>\n      <td>55.9</td>\n    </tr>\n    <tr>\n      <th>38</th>\n      <td>202106</td>\n      <td>대구광역시</td>\n      <td>전체(시 / 군 / 구)</td>\n      <td>주택용</td>\n      <td>655,412</td>\n      <td>276,081,648</td>\n      <td>27,100,425,807</td>\n      <td>98.2</td>\n    </tr>\n    <tr>\n      <th>39</th>\n      <td>202106</td>\n      <td>대구광역시</td>\n      <td>전체(시 / 군 / 구)</td>\n      <td>일반용</td>\n      <td>155,460</td>\n      <td>365,035,757</td>\n      <td>48,660,498,256</td>\n      <td>133.3</td>\n    </tr>\n    <tr>\n      <th>40</th>\n      <td>202106</td>\n      <td>대구광역시</td>\n      <td>전체(시 / 군 / 구)</td>\n      <td>교육용</td>\n      <td>819</td>\n      <td>27,897,543</td>\n      <td>3,152,559,447</td>\n      <td>113.0</td>\n    </tr>\n    <tr>\n      <th>41</th>\n      <td>202106</td>\n      <td>대구광역시</td>\n      <td>전체(시 / 군 / 구)</td>\n      <td>산업용</td>\n      <td>20,361</td>\n      <td>537,679,828</td>\n      <td>64,666,874,711</td>\n      <td>120.3</td>\n    </tr>\n    <tr>\n      <th>42</th>\n      <td>202106</td>\n      <td>대구광역시</td>\n      <td>전체(시 / 군 / 구)</td>\n      <td>농사용</td>\n      <td>16,104</td>\n      <td>7,186,426</td>\n      <td>323,794,028</td>\n      <td>45.1</td>\n    </tr>\n    <tr>\n      <th>43</th>\n      <td>202106</td>\n      <td>대구광역시</td>\n      <td>전체(시 / 군 / 구)</td>\n      <td>가로등</td>\n      <td>64,319</td>\n      <td>9,000,193</td>\n      <td>1,042,593,190</td>\n      <td>115.8</td>\n    </tr>\n    <tr>\n      <th>44</th>\n      <td>202106</td>\n      <td>대구광역시</td>\n      <td>전체(시 / 군 / 구)</td>\n      <td>심 야</td>\n      <td>16,287</td>\n      <td>9,672,678</td>\n      <td>565,607,167</td>\n      <td>58.5</td>\n    </tr>\n    <tr>\n      <th>45</th>\n      <td>합계</td>\n      <td>합계</td>\n      <td>합계</td>\n      <td>합계</td>\n      <td>5,574,769</td>\n      <td>7,605,565,818</td>\n      <td>847,821,334,449</td>\n      <td>111.5</td>\n    </tr>\n  </tbody>\n</table>\n</div>"
     },
     "execution_count": 6,
     "metadata": {},
     "output_type": "execute_result"
    }
   ],
   "source": [
    "df_2 = df.loc[:45]\n",
    "df_2\n"
   ],
   "metadata": {
    "collapsed": false,
    "pycharm": {
     "name": "#%%\n"
    }
   }
  },
  {
   "cell_type": "code",
   "execution_count": 7,
   "outputs": [
    {
     "name": "stderr",
     "output_type": "stream",
     "text": [
      "C:\\Users\\user\\AppData\\Local\\Temp\\ipykernel_20072\\3551721261.py:3: SettingWithCopyWarning: \n",
      "A value is trying to be set on a copy of a slice from a DataFrame\n",
      "\n",
      "See the caveats in the documentation: https://pandas.pydata.org/pandas-docs/stable/user_guide/indexing.html#returning-a-view-versus-a-copy\n",
      "  GyeonGi.drop(['시군구' , '전기요금(원)' , '평균판매단가(원/kWh)'] , axis = 1 , inplace = True)\n"
     ]
    },
    {
     "data": {
      "text/plain": "        년월     시구 계약구분   고객호수(호)      사용량(kWh)\n4   202101  대구광역시  일반용  155,194   456,494,369 \n11  202102  대구광역시  일반용  155,208   420,898,792 \n18  202103  대구광역시  일반용  155,176   351,966,804 \n25  202104  대구광역시  일반용  155,254   338,570,005 \n32  202105  대구광역시  일반용  155,420   325,172,570 \n39  202106  대구광역시  일반용  155,460   365,035,757 ",
      "text/html": "<div>\n<style scoped>\n    .dataframe tbody tr th:only-of-type {\n        vertical-align: middle;\n    }\n\n    .dataframe tbody tr th {\n        vertical-align: top;\n    }\n\n    .dataframe thead th {\n        text-align: right;\n    }\n</style>\n<table border=\"1\" class=\"dataframe\">\n  <thead>\n    <tr style=\"text-align: right;\">\n      <th></th>\n      <th>년월</th>\n      <th>시구</th>\n      <th>계약구분</th>\n      <th>고객호수(호)</th>\n      <th>사용량(kWh)</th>\n    </tr>\n  </thead>\n  <tbody>\n    <tr>\n      <th>4</th>\n      <td>202101</td>\n      <td>대구광역시</td>\n      <td>일반용</td>\n      <td>155,194</td>\n      <td>456,494,369</td>\n    </tr>\n    <tr>\n      <th>11</th>\n      <td>202102</td>\n      <td>대구광역시</td>\n      <td>일반용</td>\n      <td>155,208</td>\n      <td>420,898,792</td>\n    </tr>\n    <tr>\n      <th>18</th>\n      <td>202103</td>\n      <td>대구광역시</td>\n      <td>일반용</td>\n      <td>155,176</td>\n      <td>351,966,804</td>\n    </tr>\n    <tr>\n      <th>25</th>\n      <td>202104</td>\n      <td>대구광역시</td>\n      <td>일반용</td>\n      <td>155,254</td>\n      <td>338,570,005</td>\n    </tr>\n    <tr>\n      <th>32</th>\n      <td>202105</td>\n      <td>대구광역시</td>\n      <td>일반용</td>\n      <td>155,420</td>\n      <td>325,172,570</td>\n    </tr>\n    <tr>\n      <th>39</th>\n      <td>202106</td>\n      <td>대구광역시</td>\n      <td>일반용</td>\n      <td>155,460</td>\n      <td>365,035,757</td>\n    </tr>\n  </tbody>\n</table>\n</div>"
     },
     "execution_count": 7,
     "metadata": {},
     "output_type": "execute_result"
    }
   ],
   "source": [
    "GyeonGi  = df_2.loc[(df_2['계약구분'] == '일반용')]\n",
    "#SEOUL = df_3.loc[(df_3['계약구분'] =='일반용')]\n",
    "GyeonGi.drop(['시군구' , '전기요금(원)' , '평균판매단가(원/kWh)'] , axis = 1 , inplace = True)\n",
    "GyeonGi"
   ],
   "metadata": {
    "collapsed": false,
    "pycharm": {
     "name": "#%%\n"
    }
   }
  },
  {
   "cell_type": "code",
   "execution_count": 8,
   "outputs": [],
   "source": [
    "#SEOUL1.to_csv(\"서울특별시_계약종별_전국_전력사용량_2022.csv\" , mode = 'w' , encoding= 'cp949')"
   ],
   "metadata": {
    "collapsed": false,
    "pycharm": {
     "name": "#%%\n"
    }
   }
  },
  {
   "cell_type": "code",
   "execution_count": 9,
   "outputs": [],
   "source": [
    "#df_2.to_csv(\"서울특별시_계약종별_전국_전력사용량.csv\" , mode = 'w' , encoding= 'cp949')"
   ],
   "metadata": {
    "collapsed": false,
    "pycharm": {
     "name": "#%%\n"
    }
   }
  },
  {
   "cell_type": "code",
   "execution_count": 10,
   "outputs": [
    {
     "data": {
      "text/plain": "         년월     시구  시군구 계약구분  고객호수(호)     사용량(kWh)\n53   202101  대구광역시   남구  일반용  12,069   30,006,425 \n117  202102  대구광역시   남구  일반용  12,084   28,463,856 \n181  202103  대구광역시   남구  일반용  12,065   23,801,614 \n245  202104  대구광역시   남구  일반용  12,094   23,155,818 \n309  202105  대구광역시   남구  일반용  12,081   22,176,462 \n373  202106  대구광역시   남구  일반용  12,081   24,847,720 \n61   202101  대구광역시  달서구  일반용  28,877   84,654,645 \n125  202102  대구광역시  달서구  일반용  28,837   79,341,620 \n189  202103  대구광역시  달서구  일반용  28,808   66,387,503 \n253  202104  대구광역시  달서구  일반용  28,806   64,429,940 \n317  202105  대구광역시  달서구  일반용  28,839   61,704,042 \n381  202106  대구광역시  달서구  일반용  28,853   69,381,508 \n69   202101  대구광역시  달성군  일반용  13,631   40,686,362 \n133  202102  대구광역시  달성군  일반용  13,642   37,791,128 \n197  202103  대구광역시  달성군  일반용  13,631   27,963,030 \n261  202104  대구광역시  달성군  일반용  13,706   27,391,546 \n325  202105  대구광역시  달성군  일반용  13,751   26,147,640 \n389  202106  대구광역시  달성군  일반용  13,782   28,928,549 \n77   202101  대구광역시   동구  일반용  21,814   73,579,000 \n141  202102  대구광역시   동구  일반용  21,842   67,204,745 \n205  202103  대구광역시   동구  일반용  21,824   58,375,857 \n269  202104  대구광역시   동구  일반용  21,822   55,902,532 \n333  202105  대구광역시   동구  일반용  21,817   54,403,022 \n397  202106  대구광역시   동구  일반용  21,835   60,869,965 \n85   202101  대구광역시   북구  일반용  26,205   77,214,488 \n149  202102  대구광역시   북구  일반용  26,187   70,425,590 \n213  202103  대구광역시   북구  일반용  26,239   60,127,587 \n277  202104  대구광역시   북구  일반용  26,233   58,328,349 \n341  202105  대구광역시   북구  일반용  26,286   55,969,874 \n405  202106  대구광역시   북구  일반용  26,258   62,835,636 \n93   202101  대구광역시   서구  일반용  13,596   29,298,841 \n157  202102  대구광역시   서구  일반용  13,595   28,007,777 \n221  202103  대구광역시   서구  일반용  13,591   22,898,470 \n285  202104  대구광역시   서구  일반용  13,592   21,940,406 \n349  202105  대구광역시   서구  일반용  13,578   20,271,808 \n413  202106  대구광역시   서구  일반용  13,566   22,281,037 \n101  202101  대구광역시  수성구  일반용  24,357   71,453,989 \n165  202102  대구광역시  수성구  일반용  24,394   65,923,117 \n229  202103  대구광역시  수성구  일반용  24,424   55,149,695 \n293  202104  대구광역시  수성구  일반용  24,442   52,613,817 \n357  202105  대구광역시  수성구  일반용  24,511   50,028,278 \n421  202106  대구광역시  수성구  일반용  24,572   56,051,820 \n109  202101  대구광역시   중구  일반용  14,645   49,600,619 \n173  202102  대구광역시   중구  일반용  14,627   43,740,959 \n237  202103  대구광역시   중구  일반용  14,594   37,263,048 \n301  202104  대구광역시   중구  일반용  14,559   34,807,597 \n365  202105  대구광역시   중구  일반용  14,557   34,471,444 \n429  202106  대구광역시   중구  일반용  14,513   39,839,522 ",
      "text/html": "<div>\n<style scoped>\n    .dataframe tbody tr th:only-of-type {\n        vertical-align: middle;\n    }\n\n    .dataframe tbody tr th {\n        vertical-align: top;\n    }\n\n    .dataframe thead th {\n        text-align: right;\n    }\n</style>\n<table border=\"1\" class=\"dataframe\">\n  <thead>\n    <tr style=\"text-align: right;\">\n      <th></th>\n      <th>년월</th>\n      <th>시구</th>\n      <th>시군구</th>\n      <th>계약구분</th>\n      <th>고객호수(호)</th>\n      <th>사용량(kWh)</th>\n    </tr>\n  </thead>\n  <tbody>\n    <tr>\n      <th>53</th>\n      <td>202101</td>\n      <td>대구광역시</td>\n      <td>남구</td>\n      <td>일반용</td>\n      <td>12,069</td>\n      <td>30,006,425</td>\n    </tr>\n    <tr>\n      <th>117</th>\n      <td>202102</td>\n      <td>대구광역시</td>\n      <td>남구</td>\n      <td>일반용</td>\n      <td>12,084</td>\n      <td>28,463,856</td>\n    </tr>\n    <tr>\n      <th>181</th>\n      <td>202103</td>\n      <td>대구광역시</td>\n      <td>남구</td>\n      <td>일반용</td>\n      <td>12,065</td>\n      <td>23,801,614</td>\n    </tr>\n    <tr>\n      <th>245</th>\n      <td>202104</td>\n      <td>대구광역시</td>\n      <td>남구</td>\n      <td>일반용</td>\n      <td>12,094</td>\n      <td>23,155,818</td>\n    </tr>\n    <tr>\n      <th>309</th>\n      <td>202105</td>\n      <td>대구광역시</td>\n      <td>남구</td>\n      <td>일반용</td>\n      <td>12,081</td>\n      <td>22,176,462</td>\n    </tr>\n    <tr>\n      <th>373</th>\n      <td>202106</td>\n      <td>대구광역시</td>\n      <td>남구</td>\n      <td>일반용</td>\n      <td>12,081</td>\n      <td>24,847,720</td>\n    </tr>\n    <tr>\n      <th>61</th>\n      <td>202101</td>\n      <td>대구광역시</td>\n      <td>달서구</td>\n      <td>일반용</td>\n      <td>28,877</td>\n      <td>84,654,645</td>\n    </tr>\n    <tr>\n      <th>125</th>\n      <td>202102</td>\n      <td>대구광역시</td>\n      <td>달서구</td>\n      <td>일반용</td>\n      <td>28,837</td>\n      <td>79,341,620</td>\n    </tr>\n    <tr>\n      <th>189</th>\n      <td>202103</td>\n      <td>대구광역시</td>\n      <td>달서구</td>\n      <td>일반용</td>\n      <td>28,808</td>\n      <td>66,387,503</td>\n    </tr>\n    <tr>\n      <th>253</th>\n      <td>202104</td>\n      <td>대구광역시</td>\n      <td>달서구</td>\n      <td>일반용</td>\n      <td>28,806</td>\n      <td>64,429,940</td>\n    </tr>\n    <tr>\n      <th>317</th>\n      <td>202105</td>\n      <td>대구광역시</td>\n      <td>달서구</td>\n      <td>일반용</td>\n      <td>28,839</td>\n      <td>61,704,042</td>\n    </tr>\n    <tr>\n      <th>381</th>\n      <td>202106</td>\n      <td>대구광역시</td>\n      <td>달서구</td>\n      <td>일반용</td>\n      <td>28,853</td>\n      <td>69,381,508</td>\n    </tr>\n    <tr>\n      <th>69</th>\n      <td>202101</td>\n      <td>대구광역시</td>\n      <td>달성군</td>\n      <td>일반용</td>\n      <td>13,631</td>\n      <td>40,686,362</td>\n    </tr>\n    <tr>\n      <th>133</th>\n      <td>202102</td>\n      <td>대구광역시</td>\n      <td>달성군</td>\n      <td>일반용</td>\n      <td>13,642</td>\n      <td>37,791,128</td>\n    </tr>\n    <tr>\n      <th>197</th>\n      <td>202103</td>\n      <td>대구광역시</td>\n      <td>달성군</td>\n      <td>일반용</td>\n      <td>13,631</td>\n      <td>27,963,030</td>\n    </tr>\n    <tr>\n      <th>261</th>\n      <td>202104</td>\n      <td>대구광역시</td>\n      <td>달성군</td>\n      <td>일반용</td>\n      <td>13,706</td>\n      <td>27,391,546</td>\n    </tr>\n    <tr>\n      <th>325</th>\n      <td>202105</td>\n      <td>대구광역시</td>\n      <td>달성군</td>\n      <td>일반용</td>\n      <td>13,751</td>\n      <td>26,147,640</td>\n    </tr>\n    <tr>\n      <th>389</th>\n      <td>202106</td>\n      <td>대구광역시</td>\n      <td>달성군</td>\n      <td>일반용</td>\n      <td>13,782</td>\n      <td>28,928,549</td>\n    </tr>\n    <tr>\n      <th>77</th>\n      <td>202101</td>\n      <td>대구광역시</td>\n      <td>동구</td>\n      <td>일반용</td>\n      <td>21,814</td>\n      <td>73,579,000</td>\n    </tr>\n    <tr>\n      <th>141</th>\n      <td>202102</td>\n      <td>대구광역시</td>\n      <td>동구</td>\n      <td>일반용</td>\n      <td>21,842</td>\n      <td>67,204,745</td>\n    </tr>\n    <tr>\n      <th>205</th>\n      <td>202103</td>\n      <td>대구광역시</td>\n      <td>동구</td>\n      <td>일반용</td>\n      <td>21,824</td>\n      <td>58,375,857</td>\n    </tr>\n    <tr>\n      <th>269</th>\n      <td>202104</td>\n      <td>대구광역시</td>\n      <td>동구</td>\n      <td>일반용</td>\n      <td>21,822</td>\n      <td>55,902,532</td>\n    </tr>\n    <tr>\n      <th>333</th>\n      <td>202105</td>\n      <td>대구광역시</td>\n      <td>동구</td>\n      <td>일반용</td>\n      <td>21,817</td>\n      <td>54,403,022</td>\n    </tr>\n    <tr>\n      <th>397</th>\n      <td>202106</td>\n      <td>대구광역시</td>\n      <td>동구</td>\n      <td>일반용</td>\n      <td>21,835</td>\n      <td>60,869,965</td>\n    </tr>\n    <tr>\n      <th>85</th>\n      <td>202101</td>\n      <td>대구광역시</td>\n      <td>북구</td>\n      <td>일반용</td>\n      <td>26,205</td>\n      <td>77,214,488</td>\n    </tr>\n    <tr>\n      <th>149</th>\n      <td>202102</td>\n      <td>대구광역시</td>\n      <td>북구</td>\n      <td>일반용</td>\n      <td>26,187</td>\n      <td>70,425,590</td>\n    </tr>\n    <tr>\n      <th>213</th>\n      <td>202103</td>\n      <td>대구광역시</td>\n      <td>북구</td>\n      <td>일반용</td>\n      <td>26,239</td>\n      <td>60,127,587</td>\n    </tr>\n    <tr>\n      <th>277</th>\n      <td>202104</td>\n      <td>대구광역시</td>\n      <td>북구</td>\n      <td>일반용</td>\n      <td>26,233</td>\n      <td>58,328,349</td>\n    </tr>\n    <tr>\n      <th>341</th>\n      <td>202105</td>\n      <td>대구광역시</td>\n      <td>북구</td>\n      <td>일반용</td>\n      <td>26,286</td>\n      <td>55,969,874</td>\n    </tr>\n    <tr>\n      <th>405</th>\n      <td>202106</td>\n      <td>대구광역시</td>\n      <td>북구</td>\n      <td>일반용</td>\n      <td>26,258</td>\n      <td>62,835,636</td>\n    </tr>\n    <tr>\n      <th>93</th>\n      <td>202101</td>\n      <td>대구광역시</td>\n      <td>서구</td>\n      <td>일반용</td>\n      <td>13,596</td>\n      <td>29,298,841</td>\n    </tr>\n    <tr>\n      <th>157</th>\n      <td>202102</td>\n      <td>대구광역시</td>\n      <td>서구</td>\n      <td>일반용</td>\n      <td>13,595</td>\n      <td>28,007,777</td>\n    </tr>\n    <tr>\n      <th>221</th>\n      <td>202103</td>\n      <td>대구광역시</td>\n      <td>서구</td>\n      <td>일반용</td>\n      <td>13,591</td>\n      <td>22,898,470</td>\n    </tr>\n    <tr>\n      <th>285</th>\n      <td>202104</td>\n      <td>대구광역시</td>\n      <td>서구</td>\n      <td>일반용</td>\n      <td>13,592</td>\n      <td>21,940,406</td>\n    </tr>\n    <tr>\n      <th>349</th>\n      <td>202105</td>\n      <td>대구광역시</td>\n      <td>서구</td>\n      <td>일반용</td>\n      <td>13,578</td>\n      <td>20,271,808</td>\n    </tr>\n    <tr>\n      <th>413</th>\n      <td>202106</td>\n      <td>대구광역시</td>\n      <td>서구</td>\n      <td>일반용</td>\n      <td>13,566</td>\n      <td>22,281,037</td>\n    </tr>\n    <tr>\n      <th>101</th>\n      <td>202101</td>\n      <td>대구광역시</td>\n      <td>수성구</td>\n      <td>일반용</td>\n      <td>24,357</td>\n      <td>71,453,989</td>\n    </tr>\n    <tr>\n      <th>165</th>\n      <td>202102</td>\n      <td>대구광역시</td>\n      <td>수성구</td>\n      <td>일반용</td>\n      <td>24,394</td>\n      <td>65,923,117</td>\n    </tr>\n    <tr>\n      <th>229</th>\n      <td>202103</td>\n      <td>대구광역시</td>\n      <td>수성구</td>\n      <td>일반용</td>\n      <td>24,424</td>\n      <td>55,149,695</td>\n    </tr>\n    <tr>\n      <th>293</th>\n      <td>202104</td>\n      <td>대구광역시</td>\n      <td>수성구</td>\n      <td>일반용</td>\n      <td>24,442</td>\n      <td>52,613,817</td>\n    </tr>\n    <tr>\n      <th>357</th>\n      <td>202105</td>\n      <td>대구광역시</td>\n      <td>수성구</td>\n      <td>일반용</td>\n      <td>24,511</td>\n      <td>50,028,278</td>\n    </tr>\n    <tr>\n      <th>421</th>\n      <td>202106</td>\n      <td>대구광역시</td>\n      <td>수성구</td>\n      <td>일반용</td>\n      <td>24,572</td>\n      <td>56,051,820</td>\n    </tr>\n    <tr>\n      <th>109</th>\n      <td>202101</td>\n      <td>대구광역시</td>\n      <td>중구</td>\n      <td>일반용</td>\n      <td>14,645</td>\n      <td>49,600,619</td>\n    </tr>\n    <tr>\n      <th>173</th>\n      <td>202102</td>\n      <td>대구광역시</td>\n      <td>중구</td>\n      <td>일반용</td>\n      <td>14,627</td>\n      <td>43,740,959</td>\n    </tr>\n    <tr>\n      <th>237</th>\n      <td>202103</td>\n      <td>대구광역시</td>\n      <td>중구</td>\n      <td>일반용</td>\n      <td>14,594</td>\n      <td>37,263,048</td>\n    </tr>\n    <tr>\n      <th>301</th>\n      <td>202104</td>\n      <td>대구광역시</td>\n      <td>중구</td>\n      <td>일반용</td>\n      <td>14,559</td>\n      <td>34,807,597</td>\n    </tr>\n    <tr>\n      <th>365</th>\n      <td>202105</td>\n      <td>대구광역시</td>\n      <td>중구</td>\n      <td>일반용</td>\n      <td>14,557</td>\n      <td>34,471,444</td>\n    </tr>\n    <tr>\n      <th>429</th>\n      <td>202106</td>\n      <td>대구광역시</td>\n      <td>중구</td>\n      <td>일반용</td>\n      <td>14,513</td>\n      <td>39,839,522</td>\n    </tr>\n  </tbody>\n</table>\n</div>"
     },
     "execution_count": 10,
     "metadata": {},
     "output_type": "execute_result"
    }
   ],
   "source": [
    "df_3 = df.loc[48:]\n",
    "df_3 = df_3.loc[(df_3['계약구분'] == '일반용')]\n",
    "df_3 = df_3.sort_values(by=['시군구' , '년월'])\n",
    "df_3.drop(['전기요금(원)',   '평균판매단가(원/kWh)'] , axis = 1 , inplace = True)\n",
    "df_3"
   ],
   "metadata": {
    "collapsed": false,
    "pycharm": {
     "name": "#%%\n"
    }
   }
  },
  {
   "cell_type": "code",
   "execution_count": 11,
   "outputs": [
    {
     "data": {
      "text/plain": "'대구광역시'"
     },
     "execution_count": 11,
     "metadata": {},
     "output_type": "execute_result"
    }
   ],
   "source": [
    "a = df_3.loc[: , \"시구\"]\n",
    "b = a[:1].tolist()\n",
    "for i in b:\n",
    "    City = i\n",
    "City"
   ],
   "metadata": {
    "collapsed": false,
    "pycharm": {
     "name": "#%%\n"
    }
   }
  },
  {
   "cell_type": "code",
   "execution_count": 12,
   "outputs": [
    {
     "data": {
      "text/plain": "['남구', '달서구', '달성군', '동구', '북구', '서구', '수성구', '중구']"
     },
     "execution_count": 12,
     "metadata": {},
     "output_type": "execute_result"
    }
   ],
   "source": [
    "\n",
    "SIGUNGU = list(set(df_3.loc[: , '시군구'].tolist()))\n",
    "SIGUNGU.sort()\n",
    "SIGUNGU"
   ],
   "metadata": {
    "collapsed": false,
    "pycharm": {
     "name": "#%%\n"
    }
   }
  },
  {
   "cell_type": "code",
   "execution_count": 13,
   "outputs": [
    {
     "data": {
      "text/plain": "         년월     시구  시군구 계약구분   고객호수(호)      사용량(kWh)\n55   202101  대구광역시   남구   합계   99,309    58,771,711 \n119  202102  대구광역시   남구   합계   99,190    55,276,855 \n183  202103  대구광역시   남구   합계   99,085    46,511,463 \n247  202104  대구광역시   남구   합계   99,049    45,246,770 \n311  202105  대구광역시   남구   합계   99,038    42,035,690 \n375  202106  대구광역시   남구   합계   98,855    45,425,010 \n63   202101  대구광역시  달서구   합계  172,926   357,677,357 \n127  202102  대구광역시  달서구   합계  172,610   334,496,326 \n191  202103  대구광역시  달서구   합계  172,521   310,919,011 \n255  202104  대구광역시  달서구   합계  172,462   310,752,887 \n319  202105  대구광역시  달서구   합계  172,454   293,167,653 \n383  202106  대구광역시  달서구   합계  172,430   313,031,068 \n71   202101  대구광역시  달성군   합계   79,758   345,316,494 \n135  202102  대구광역시  달성군   합계   79,814   315,388,417 \n199  202103  대구광역시  달성군   합계   80,241   310,985,996 \n263  202104  대구광역시  달성군   합계   80,215   308,231,059 \n327  202105  대구광역시  달성군   합계   80,418   302,607,296 \n391  202106  대구광역시  달성군   합계   80,612   315,557,622 \n79   202101  대구광역시   동구   합계  148,703   146,070,949 \n143  202102  대구광역시   동구   합계  148,605   136,235,695 \n207  202103  대구광역시   동구   합계  148,546   117,772,995 \n271  202104  대구광역시   동구   합계  148,590   115,069,239 \n335  202105  대구광역시   동구   합계  148,522   108,697,056 \n399  202106  대구광역시   동구   합계  148,352   117,216,839 \n87   202101  대구광역시   북구   합계  148,969   221,600,871 \n151  202102  대구광역시   북구   합계  149,024   207,625,472 \n215  202103  대구광역시   북구   합계  149,073   182,025,448 \n279  202104  대구광역시   북구   합계  149,008   179,814,606 \n343  202105  대구광역시   북구   합계  149,068   168,933,797 \n407  202106  대구광역시   북구   합계  149,025   183,072,063 \n95   202101  대구광역시   서구   합계  102,461    86,070,819 \n159  202102  대구광역시   서구   합계  102,436    83,188,264 \n223  202103  대구광역시   서구   합계  102,435    73,110,074 \n287  202104  대구광역시   서구   합계  102,487    74,699,849 \n351  202105  대구광역시   서구   합계  102,523    69,666,307 \n415  202106  대구광역시   서구   합계  102,511    74,034,682 \n103  202101  대구광역시  수성구   합계  126,499   160,731,916 \n167  202102  대구광역시  수성구   합계  126,441   150,162,717 \n231  202103  대구광역시  수성구   합계  126,442   129,904,655 \n295  202104  대구광역시  수성구   합계  126,468   127,473,609 \n359  202105  대구광역시  수성구   합계  126,466   120,488,990 \n423  202106  대구광역시  수성구   합계  126,358   129,016,970 \n111  202101  대구광역시   중구   합계   50,941    67,597,832 \n175  202102  대구광역시   중구   합계   50,910    60,614,629 \n239  202103  대구광역시   중구   합계   50,827    51,518,452 \n303  202104  대구광역시   중구   합계   50,753    48,733,976 \n367  202105  대구광역시   중구   합계   50,720    47,818,543 \n431  202106  대구광역시   중구   합계   50,619    55,199,819 ",
      "text/html": "<div>\n<style scoped>\n    .dataframe tbody tr th:only-of-type {\n        vertical-align: middle;\n    }\n\n    .dataframe tbody tr th {\n        vertical-align: top;\n    }\n\n    .dataframe thead th {\n        text-align: right;\n    }\n</style>\n<table border=\"1\" class=\"dataframe\">\n  <thead>\n    <tr style=\"text-align: right;\">\n      <th></th>\n      <th>년월</th>\n      <th>시구</th>\n      <th>시군구</th>\n      <th>계약구분</th>\n      <th>고객호수(호)</th>\n      <th>사용량(kWh)</th>\n    </tr>\n  </thead>\n  <tbody>\n    <tr>\n      <th>55</th>\n      <td>202101</td>\n      <td>대구광역시</td>\n      <td>남구</td>\n      <td>합계</td>\n      <td>99,309</td>\n      <td>58,771,711</td>\n    </tr>\n    <tr>\n      <th>119</th>\n      <td>202102</td>\n      <td>대구광역시</td>\n      <td>남구</td>\n      <td>합계</td>\n      <td>99,190</td>\n      <td>55,276,855</td>\n    </tr>\n    <tr>\n      <th>183</th>\n      <td>202103</td>\n      <td>대구광역시</td>\n      <td>남구</td>\n      <td>합계</td>\n      <td>99,085</td>\n      <td>46,511,463</td>\n    </tr>\n    <tr>\n      <th>247</th>\n      <td>202104</td>\n      <td>대구광역시</td>\n      <td>남구</td>\n      <td>합계</td>\n      <td>99,049</td>\n      <td>45,246,770</td>\n    </tr>\n    <tr>\n      <th>311</th>\n      <td>202105</td>\n      <td>대구광역시</td>\n      <td>남구</td>\n      <td>합계</td>\n      <td>99,038</td>\n      <td>42,035,690</td>\n    </tr>\n    <tr>\n      <th>375</th>\n      <td>202106</td>\n      <td>대구광역시</td>\n      <td>남구</td>\n      <td>합계</td>\n      <td>98,855</td>\n      <td>45,425,010</td>\n    </tr>\n    <tr>\n      <th>63</th>\n      <td>202101</td>\n      <td>대구광역시</td>\n      <td>달서구</td>\n      <td>합계</td>\n      <td>172,926</td>\n      <td>357,677,357</td>\n    </tr>\n    <tr>\n      <th>127</th>\n      <td>202102</td>\n      <td>대구광역시</td>\n      <td>달서구</td>\n      <td>합계</td>\n      <td>172,610</td>\n      <td>334,496,326</td>\n    </tr>\n    <tr>\n      <th>191</th>\n      <td>202103</td>\n      <td>대구광역시</td>\n      <td>달서구</td>\n      <td>합계</td>\n      <td>172,521</td>\n      <td>310,919,011</td>\n    </tr>\n    <tr>\n      <th>255</th>\n      <td>202104</td>\n      <td>대구광역시</td>\n      <td>달서구</td>\n      <td>합계</td>\n      <td>172,462</td>\n      <td>310,752,887</td>\n    </tr>\n    <tr>\n      <th>319</th>\n      <td>202105</td>\n      <td>대구광역시</td>\n      <td>달서구</td>\n      <td>합계</td>\n      <td>172,454</td>\n      <td>293,167,653</td>\n    </tr>\n    <tr>\n      <th>383</th>\n      <td>202106</td>\n      <td>대구광역시</td>\n      <td>달서구</td>\n      <td>합계</td>\n      <td>172,430</td>\n      <td>313,031,068</td>\n    </tr>\n    <tr>\n      <th>71</th>\n      <td>202101</td>\n      <td>대구광역시</td>\n      <td>달성군</td>\n      <td>합계</td>\n      <td>79,758</td>\n      <td>345,316,494</td>\n    </tr>\n    <tr>\n      <th>135</th>\n      <td>202102</td>\n      <td>대구광역시</td>\n      <td>달성군</td>\n      <td>합계</td>\n      <td>79,814</td>\n      <td>315,388,417</td>\n    </tr>\n    <tr>\n      <th>199</th>\n      <td>202103</td>\n      <td>대구광역시</td>\n      <td>달성군</td>\n      <td>합계</td>\n      <td>80,241</td>\n      <td>310,985,996</td>\n    </tr>\n    <tr>\n      <th>263</th>\n      <td>202104</td>\n      <td>대구광역시</td>\n      <td>달성군</td>\n      <td>합계</td>\n      <td>80,215</td>\n      <td>308,231,059</td>\n    </tr>\n    <tr>\n      <th>327</th>\n      <td>202105</td>\n      <td>대구광역시</td>\n      <td>달성군</td>\n      <td>합계</td>\n      <td>80,418</td>\n      <td>302,607,296</td>\n    </tr>\n    <tr>\n      <th>391</th>\n      <td>202106</td>\n      <td>대구광역시</td>\n      <td>달성군</td>\n      <td>합계</td>\n      <td>80,612</td>\n      <td>315,557,622</td>\n    </tr>\n    <tr>\n      <th>79</th>\n      <td>202101</td>\n      <td>대구광역시</td>\n      <td>동구</td>\n      <td>합계</td>\n      <td>148,703</td>\n      <td>146,070,949</td>\n    </tr>\n    <tr>\n      <th>143</th>\n      <td>202102</td>\n      <td>대구광역시</td>\n      <td>동구</td>\n      <td>합계</td>\n      <td>148,605</td>\n      <td>136,235,695</td>\n    </tr>\n    <tr>\n      <th>207</th>\n      <td>202103</td>\n      <td>대구광역시</td>\n      <td>동구</td>\n      <td>합계</td>\n      <td>148,546</td>\n      <td>117,772,995</td>\n    </tr>\n    <tr>\n      <th>271</th>\n      <td>202104</td>\n      <td>대구광역시</td>\n      <td>동구</td>\n      <td>합계</td>\n      <td>148,590</td>\n      <td>115,069,239</td>\n    </tr>\n    <tr>\n      <th>335</th>\n      <td>202105</td>\n      <td>대구광역시</td>\n      <td>동구</td>\n      <td>합계</td>\n      <td>148,522</td>\n      <td>108,697,056</td>\n    </tr>\n    <tr>\n      <th>399</th>\n      <td>202106</td>\n      <td>대구광역시</td>\n      <td>동구</td>\n      <td>합계</td>\n      <td>148,352</td>\n      <td>117,216,839</td>\n    </tr>\n    <tr>\n      <th>87</th>\n      <td>202101</td>\n      <td>대구광역시</td>\n      <td>북구</td>\n      <td>합계</td>\n      <td>148,969</td>\n      <td>221,600,871</td>\n    </tr>\n    <tr>\n      <th>151</th>\n      <td>202102</td>\n      <td>대구광역시</td>\n      <td>북구</td>\n      <td>합계</td>\n      <td>149,024</td>\n      <td>207,625,472</td>\n    </tr>\n    <tr>\n      <th>215</th>\n      <td>202103</td>\n      <td>대구광역시</td>\n      <td>북구</td>\n      <td>합계</td>\n      <td>149,073</td>\n      <td>182,025,448</td>\n    </tr>\n    <tr>\n      <th>279</th>\n      <td>202104</td>\n      <td>대구광역시</td>\n      <td>북구</td>\n      <td>합계</td>\n      <td>149,008</td>\n      <td>179,814,606</td>\n    </tr>\n    <tr>\n      <th>343</th>\n      <td>202105</td>\n      <td>대구광역시</td>\n      <td>북구</td>\n      <td>합계</td>\n      <td>149,068</td>\n      <td>168,933,797</td>\n    </tr>\n    <tr>\n      <th>407</th>\n      <td>202106</td>\n      <td>대구광역시</td>\n      <td>북구</td>\n      <td>합계</td>\n      <td>149,025</td>\n      <td>183,072,063</td>\n    </tr>\n    <tr>\n      <th>95</th>\n      <td>202101</td>\n      <td>대구광역시</td>\n      <td>서구</td>\n      <td>합계</td>\n      <td>102,461</td>\n      <td>86,070,819</td>\n    </tr>\n    <tr>\n      <th>159</th>\n      <td>202102</td>\n      <td>대구광역시</td>\n      <td>서구</td>\n      <td>합계</td>\n      <td>102,436</td>\n      <td>83,188,264</td>\n    </tr>\n    <tr>\n      <th>223</th>\n      <td>202103</td>\n      <td>대구광역시</td>\n      <td>서구</td>\n      <td>합계</td>\n      <td>102,435</td>\n      <td>73,110,074</td>\n    </tr>\n    <tr>\n      <th>287</th>\n      <td>202104</td>\n      <td>대구광역시</td>\n      <td>서구</td>\n      <td>합계</td>\n      <td>102,487</td>\n      <td>74,699,849</td>\n    </tr>\n    <tr>\n      <th>351</th>\n      <td>202105</td>\n      <td>대구광역시</td>\n      <td>서구</td>\n      <td>합계</td>\n      <td>102,523</td>\n      <td>69,666,307</td>\n    </tr>\n    <tr>\n      <th>415</th>\n      <td>202106</td>\n      <td>대구광역시</td>\n      <td>서구</td>\n      <td>합계</td>\n      <td>102,511</td>\n      <td>74,034,682</td>\n    </tr>\n    <tr>\n      <th>103</th>\n      <td>202101</td>\n      <td>대구광역시</td>\n      <td>수성구</td>\n      <td>합계</td>\n      <td>126,499</td>\n      <td>160,731,916</td>\n    </tr>\n    <tr>\n      <th>167</th>\n      <td>202102</td>\n      <td>대구광역시</td>\n      <td>수성구</td>\n      <td>합계</td>\n      <td>126,441</td>\n      <td>150,162,717</td>\n    </tr>\n    <tr>\n      <th>231</th>\n      <td>202103</td>\n      <td>대구광역시</td>\n      <td>수성구</td>\n      <td>합계</td>\n      <td>126,442</td>\n      <td>129,904,655</td>\n    </tr>\n    <tr>\n      <th>295</th>\n      <td>202104</td>\n      <td>대구광역시</td>\n      <td>수성구</td>\n      <td>합계</td>\n      <td>126,468</td>\n      <td>127,473,609</td>\n    </tr>\n    <tr>\n      <th>359</th>\n      <td>202105</td>\n      <td>대구광역시</td>\n      <td>수성구</td>\n      <td>합계</td>\n      <td>126,466</td>\n      <td>120,488,990</td>\n    </tr>\n    <tr>\n      <th>423</th>\n      <td>202106</td>\n      <td>대구광역시</td>\n      <td>수성구</td>\n      <td>합계</td>\n      <td>126,358</td>\n      <td>129,016,970</td>\n    </tr>\n    <tr>\n      <th>111</th>\n      <td>202101</td>\n      <td>대구광역시</td>\n      <td>중구</td>\n      <td>합계</td>\n      <td>50,941</td>\n      <td>67,597,832</td>\n    </tr>\n    <tr>\n      <th>175</th>\n      <td>202102</td>\n      <td>대구광역시</td>\n      <td>중구</td>\n      <td>합계</td>\n      <td>50,910</td>\n      <td>60,614,629</td>\n    </tr>\n    <tr>\n      <th>239</th>\n      <td>202103</td>\n      <td>대구광역시</td>\n      <td>중구</td>\n      <td>합계</td>\n      <td>50,827</td>\n      <td>51,518,452</td>\n    </tr>\n    <tr>\n      <th>303</th>\n      <td>202104</td>\n      <td>대구광역시</td>\n      <td>중구</td>\n      <td>합계</td>\n      <td>50,753</td>\n      <td>48,733,976</td>\n    </tr>\n    <tr>\n      <th>367</th>\n      <td>202105</td>\n      <td>대구광역시</td>\n      <td>중구</td>\n      <td>합계</td>\n      <td>50,720</td>\n      <td>47,818,543</td>\n    </tr>\n    <tr>\n      <th>431</th>\n      <td>202106</td>\n      <td>대구광역시</td>\n      <td>중구</td>\n      <td>합계</td>\n      <td>50,619</td>\n      <td>55,199,819</td>\n    </tr>\n  </tbody>\n</table>\n</div>"
     },
     "execution_count": 13,
     "metadata": {},
     "output_type": "execute_result"
    }
   ],
   "source": [
    "df_4 = df.loc[48:]\n",
    "df_4 = df_4.loc[(df_4['계약구분'] == '합계')]\n",
    "df_4 = df_4.sort_values(by=['시군구' , '년월'])\n",
    "df_4.drop(['전기요금(원)',   '평균판매단가(원/kWh)'] , axis = 1 , inplace = True)\n",
    "df_4"
   ],
   "metadata": {
    "collapsed": false,
    "pycharm": {
     "name": "#%%\n"
    }
   }
  },
  {
   "cell_type": "code",
   "execution_count": 14,
   "outputs": [
    {
     "name": "stdout",
     "output_type": "stream",
     "text": [
      "[58771711, 55276855, 46511463, 45246770, 42035690, 45425010]\n",
      "[357677357, 334496326, 310919011, 310752887, 293167653, 313031068]\n",
      "[345316494, 315388417, 310985996, 308231059, 302607296, 315557622]\n",
      "[146070949, 136235695, 117772995, 115069239, 108697056, 117216839]\n",
      "[221600871, 207625472, 182025448, 179814606, 168933797, 183072063]\n",
      "[86070819, 83188264, 73110074, 74699849, 69666307, 74034682]\n",
      "[160731916, 150162717, 129904655, 127473609, 120488990, 129016970]\n",
      "[67597832, 60614629, 51518452, 48733976, 47818543, 55199819]\n",
      "대구광역시 지역별 합계 :  [293267499, 1920044302, 1898086884, 741062773, 1143072257, 460769995, 817778857, 331483251]\n",
      "대구광역시 고객호수 평균:  [16514, 28761, 13362, 24758, 24837, 17079, 21074, 8465]\n"
     ]
    }
   ],
   "source": [
    "sum2 , sum3 =[] , []\n",
    "for k in SIGUNGU:\n",
    "    GyeonGiHap = pd.DataFrame([] , columns = a)\n",
    "    HOSU = pd.DataFrame([], columns = a)\n",
    "    GyeonGiHap['사용량']= df_4['사용량(kWh)'].loc[(df_4['시군구'] == '{}'.format(k))]\n",
    "    HOSU['고객호수']= df_4['고객호수(호)'].loc[(df_4['시군구'] == '{}'.format(k))]\n",
    "    #경기합 데이터프레임의 사용량 열에 기군구가 가평군인 사용량 데이터만 뽑아내기\n",
    "    # GyeonGiHap = GyeonGiHap['사용량']\n",
    "\n",
    "    b = GyeonGiHap['사용량'].tolist()\n",
    "    c = HOSU['고객호수'].tolist()\n",
    "\n",
    "\n",
    "    #각지역별 사용량 리스트화\n",
    "    int_list  , int_list2=[] , []\n",
    "    for i in b:\n",
    "        i = re.sub(\",\" , \"\" , i)\n",
    "        #콤마 없애기\n",
    "        int_list.append(int(i))\n",
    "        #int_list에 각지역별 사용량 int로 저장\n",
    "    print(int_list)\n",
    "    sum=0\n",
    "    for i in c:\n",
    "        i = re.sub(\",\" , \"\" , i)\n",
    "        int_list2.append(int(i))\n",
    "\n",
    "    for j in int_list:\n",
    "\n",
    "        sum+= j\n",
    "    sum2.append(sum)\n",
    "    sum = 0\n",
    "    for j in int_list2: #고객호수 추출하여 더하기\n",
    "\n",
    "        sum+= j\n",
    "    sum3.append(sum//36) #6개월 치로 나눠야하나?!\n",
    "\n",
    "\n",
    "\n",
    "\n",
    "print(\"{} 지역별 합계 : \".format(City) , sum2)\n",
    "print(\"{} 고객호수 평균: \".format(City) , sum3)"
   ],
   "metadata": {
    "collapsed": false,
    "pycharm": {
     "name": "#%%\n"
    }
   }
  },
  {
   "cell_type": "markdown",
   "source": [
    "### 2. 날짜 체크!!!!!!!!!!!!!!!!!!!!!!!!!!!!!!!!!!!!!!!!!!!!!!"
   ],
   "metadata": {
    "collapsed": false,
    "pycharm": {
     "name": "#%% md\n"
    }
   }
  },
  {
   "cell_type": "code",
   "execution_count": 15,
   "outputs": [
    {
     "name": "stderr",
     "output_type": "stream",
     "text": [
      "C:\\Users\\user\\AppData\\Local\\Temp\\ipykernel_20072\\1481603074.py:4: FutureWarning: The frame.append method is deprecated and will be removed from pandas in a future version. Use pandas.concat instead.\n",
      "  Hap = Hap.append({'년월' :'202101-202106'  , '시구' : '{}'.format(City) , '시군구' : '{}'.format(SIGUNGU[i]) , '계약구분' : '합계' , '고객호수(호)' : sum3[i] ,  '사용량(kWh)' : sum2[i]} , ignore_index=True) #년월 파일마다 수정하기\n",
      "C:\\Users\\user\\AppData\\Local\\Temp\\ipykernel_20072\\1481603074.py:4: FutureWarning: The frame.append method is deprecated and will be removed from pandas in a future version. Use pandas.concat instead.\n",
      "  Hap = Hap.append({'년월' :'202101-202106'  , '시구' : '{}'.format(City) , '시군구' : '{}'.format(SIGUNGU[i]) , '계약구분' : '합계' , '고객호수(호)' : sum3[i] ,  '사용량(kWh)' : sum2[i]} , ignore_index=True) #년월 파일마다 수정하기\n",
      "C:\\Users\\user\\AppData\\Local\\Temp\\ipykernel_20072\\1481603074.py:4: FutureWarning: The frame.append method is deprecated and will be removed from pandas in a future version. Use pandas.concat instead.\n",
      "  Hap = Hap.append({'년월' :'202101-202106'  , '시구' : '{}'.format(City) , '시군구' : '{}'.format(SIGUNGU[i]) , '계약구분' : '합계' , '고객호수(호)' : sum3[i] ,  '사용량(kWh)' : sum2[i]} , ignore_index=True) #년월 파일마다 수정하기\n",
      "C:\\Users\\user\\AppData\\Local\\Temp\\ipykernel_20072\\1481603074.py:4: FutureWarning: The frame.append method is deprecated and will be removed from pandas in a future version. Use pandas.concat instead.\n",
      "  Hap = Hap.append({'년월' :'202101-202106'  , '시구' : '{}'.format(City) , '시군구' : '{}'.format(SIGUNGU[i]) , '계약구분' : '합계' , '고객호수(호)' : sum3[i] ,  '사용량(kWh)' : sum2[i]} , ignore_index=True) #년월 파일마다 수정하기\n",
      "C:\\Users\\user\\AppData\\Local\\Temp\\ipykernel_20072\\1481603074.py:4: FutureWarning: The frame.append method is deprecated and will be removed from pandas in a future version. Use pandas.concat instead.\n",
      "  Hap = Hap.append({'년월' :'202101-202106'  , '시구' : '{}'.format(City) , '시군구' : '{}'.format(SIGUNGU[i]) , '계약구분' : '합계' , '고객호수(호)' : sum3[i] ,  '사용량(kWh)' : sum2[i]} , ignore_index=True) #년월 파일마다 수정하기\n",
      "C:\\Users\\user\\AppData\\Local\\Temp\\ipykernel_20072\\1481603074.py:4: FutureWarning: The frame.append method is deprecated and will be removed from pandas in a future version. Use pandas.concat instead.\n",
      "  Hap = Hap.append({'년월' :'202101-202106'  , '시구' : '{}'.format(City) , '시군구' : '{}'.format(SIGUNGU[i]) , '계약구분' : '합계' , '고객호수(호)' : sum3[i] ,  '사용량(kWh)' : sum2[i]} , ignore_index=True) #년월 파일마다 수정하기\n",
      "C:\\Users\\user\\AppData\\Local\\Temp\\ipykernel_20072\\1481603074.py:4: FutureWarning: The frame.append method is deprecated and will be removed from pandas in a future version. Use pandas.concat instead.\n",
      "  Hap = Hap.append({'년월' :'202101-202106'  , '시구' : '{}'.format(City) , '시군구' : '{}'.format(SIGUNGU[i]) , '계약구분' : '합계' , '고객호수(호)' : sum3[i] ,  '사용량(kWh)' : sum2[i]} , ignore_index=True) #년월 파일마다 수정하기\n",
      "C:\\Users\\user\\AppData\\Local\\Temp\\ipykernel_20072\\1481603074.py:4: FutureWarning: The frame.append method is deprecated and will be removed from pandas in a future version. Use pandas.concat instead.\n",
      "  Hap = Hap.append({'년월' :'202101-202106'  , '시구' : '{}'.format(City) , '시군구' : '{}'.format(SIGUNGU[i]) , '계약구분' : '합계' , '고객호수(호)' : sum3[i] ,  '사용량(kWh)' : sum2[i]} , ignore_index=True) #년월 파일마다 수정하기\n"
     ]
    },
    {
     "data": {
      "text/plain": "               년월     시구  시군구 계약구분   고객호수(호)      사용량(kWh)\n0          202101  대구광역시   남구   합계   99,309    58,771,711 \n1          202102  대구광역시   남구   합계   99,190    55,276,855 \n2          202103  대구광역시   남구   합계   99,085    46,511,463 \n3          202104  대구광역시   남구   합계   99,049    45,246,770 \n4          202105  대구광역시   남구   합계   99,038    42,035,690 \n5          202106  대구광역시   남구   합계   98,855    45,425,010 \n6          202101  대구광역시  달서구   합계  172,926   357,677,357 \n7          202102  대구광역시  달서구   합계  172,610   334,496,326 \n8          202103  대구광역시  달서구   합계  172,521   310,919,011 \n9          202104  대구광역시  달서구   합계  172,462   310,752,887 \n10         202105  대구광역시  달서구   합계  172,454   293,167,653 \n11         202106  대구광역시  달서구   합계  172,430   313,031,068 \n12         202101  대구광역시  달성군   합계   79,758   345,316,494 \n13         202102  대구광역시  달성군   합계   79,814   315,388,417 \n14         202103  대구광역시  달성군   합계   80,241   310,985,996 \n15         202104  대구광역시  달성군   합계   80,215   308,231,059 \n16         202105  대구광역시  달성군   합계   80,418   302,607,296 \n17         202106  대구광역시  달성군   합계   80,612   315,557,622 \n18         202101  대구광역시   동구   합계  148,703   146,070,949 \n19         202102  대구광역시   동구   합계  148,605   136,235,695 \n20         202103  대구광역시   동구   합계  148,546   117,772,995 \n21         202104  대구광역시   동구   합계  148,590   115,069,239 \n22         202105  대구광역시   동구   합계  148,522   108,697,056 \n23         202106  대구광역시   동구   합계  148,352   117,216,839 \n24         202101  대구광역시   북구   합계  148,969   221,600,871 \n25         202102  대구광역시   북구   합계  149,024   207,625,472 \n26         202103  대구광역시   북구   합계  149,073   182,025,448 \n27         202104  대구광역시   북구   합계  149,008   179,814,606 \n28         202105  대구광역시   북구   합계  149,068   168,933,797 \n29         202106  대구광역시   북구   합계  149,025   183,072,063 \n30         202101  대구광역시   서구   합계  102,461    86,070,819 \n31         202102  대구광역시   서구   합계  102,436    83,188,264 \n32         202103  대구광역시   서구   합계  102,435    73,110,074 \n33         202104  대구광역시   서구   합계  102,487    74,699,849 \n34         202105  대구광역시   서구   합계  102,523    69,666,307 \n35         202106  대구광역시   서구   합계  102,511    74,034,682 \n36         202101  대구광역시  수성구   합계  126,499   160,731,916 \n37         202102  대구광역시  수성구   합계  126,441   150,162,717 \n38         202103  대구광역시  수성구   합계  126,442   129,904,655 \n39         202104  대구광역시  수성구   합계  126,468   127,473,609 \n40         202105  대구광역시  수성구   합계  126,466   120,488,990 \n41         202106  대구광역시  수성구   합계  126,358   129,016,970 \n42         202101  대구광역시   중구   합계   50,941    67,597,832 \n43         202102  대구광역시   중구   합계   50,910    60,614,629 \n44         202103  대구광역시   중구   합계   50,827    51,518,452 \n45         202104  대구광역시   중구   합계   50,753    48,733,976 \n46         202105  대구광역시   중구   합계   50,720    47,818,543 \n47         202106  대구광역시   중구   합계   50,619    55,199,819 \n48  202101-202106  대구광역시   남구   합계     16514     293267499\n49  202101-202106  대구광역시  달서구   합계     28761    1920044302\n50  202101-202106  대구광역시  달성군   합계     13362    1898086884\n51  202101-202106  대구광역시   동구   합계     24758     741062773\n52  202101-202106  대구광역시   북구   합계     24837    1143072257\n53  202101-202106  대구광역시   서구   합계     17079     460769995\n54  202101-202106  대구광역시  수성구   합계     21074     817778857\n55  202101-202106  대구광역시   중구   합계      8465     331483251",
      "text/html": "<div>\n<style scoped>\n    .dataframe tbody tr th:only-of-type {\n        vertical-align: middle;\n    }\n\n    .dataframe tbody tr th {\n        vertical-align: top;\n    }\n\n    .dataframe thead th {\n        text-align: right;\n    }\n</style>\n<table border=\"1\" class=\"dataframe\">\n  <thead>\n    <tr style=\"text-align: right;\">\n      <th></th>\n      <th>년월</th>\n      <th>시구</th>\n      <th>시군구</th>\n      <th>계약구분</th>\n      <th>고객호수(호)</th>\n      <th>사용량(kWh)</th>\n    </tr>\n  </thead>\n  <tbody>\n    <tr>\n      <th>0</th>\n      <td>202101</td>\n      <td>대구광역시</td>\n      <td>남구</td>\n      <td>합계</td>\n      <td>99,309</td>\n      <td>58,771,711</td>\n    </tr>\n    <tr>\n      <th>1</th>\n      <td>202102</td>\n      <td>대구광역시</td>\n      <td>남구</td>\n      <td>합계</td>\n      <td>99,190</td>\n      <td>55,276,855</td>\n    </tr>\n    <tr>\n      <th>2</th>\n      <td>202103</td>\n      <td>대구광역시</td>\n      <td>남구</td>\n      <td>합계</td>\n      <td>99,085</td>\n      <td>46,511,463</td>\n    </tr>\n    <tr>\n      <th>3</th>\n      <td>202104</td>\n      <td>대구광역시</td>\n      <td>남구</td>\n      <td>합계</td>\n      <td>99,049</td>\n      <td>45,246,770</td>\n    </tr>\n    <tr>\n      <th>4</th>\n      <td>202105</td>\n      <td>대구광역시</td>\n      <td>남구</td>\n      <td>합계</td>\n      <td>99,038</td>\n      <td>42,035,690</td>\n    </tr>\n    <tr>\n      <th>5</th>\n      <td>202106</td>\n      <td>대구광역시</td>\n      <td>남구</td>\n      <td>합계</td>\n      <td>98,855</td>\n      <td>45,425,010</td>\n    </tr>\n    <tr>\n      <th>6</th>\n      <td>202101</td>\n      <td>대구광역시</td>\n      <td>달서구</td>\n      <td>합계</td>\n      <td>172,926</td>\n      <td>357,677,357</td>\n    </tr>\n    <tr>\n      <th>7</th>\n      <td>202102</td>\n      <td>대구광역시</td>\n      <td>달서구</td>\n      <td>합계</td>\n      <td>172,610</td>\n      <td>334,496,326</td>\n    </tr>\n    <tr>\n      <th>8</th>\n      <td>202103</td>\n      <td>대구광역시</td>\n      <td>달서구</td>\n      <td>합계</td>\n      <td>172,521</td>\n      <td>310,919,011</td>\n    </tr>\n    <tr>\n      <th>9</th>\n      <td>202104</td>\n      <td>대구광역시</td>\n      <td>달서구</td>\n      <td>합계</td>\n      <td>172,462</td>\n      <td>310,752,887</td>\n    </tr>\n    <tr>\n      <th>10</th>\n      <td>202105</td>\n      <td>대구광역시</td>\n      <td>달서구</td>\n      <td>합계</td>\n      <td>172,454</td>\n      <td>293,167,653</td>\n    </tr>\n    <tr>\n      <th>11</th>\n      <td>202106</td>\n      <td>대구광역시</td>\n      <td>달서구</td>\n      <td>합계</td>\n      <td>172,430</td>\n      <td>313,031,068</td>\n    </tr>\n    <tr>\n      <th>12</th>\n      <td>202101</td>\n      <td>대구광역시</td>\n      <td>달성군</td>\n      <td>합계</td>\n      <td>79,758</td>\n      <td>345,316,494</td>\n    </tr>\n    <tr>\n      <th>13</th>\n      <td>202102</td>\n      <td>대구광역시</td>\n      <td>달성군</td>\n      <td>합계</td>\n      <td>79,814</td>\n      <td>315,388,417</td>\n    </tr>\n    <tr>\n      <th>14</th>\n      <td>202103</td>\n      <td>대구광역시</td>\n      <td>달성군</td>\n      <td>합계</td>\n      <td>80,241</td>\n      <td>310,985,996</td>\n    </tr>\n    <tr>\n      <th>15</th>\n      <td>202104</td>\n      <td>대구광역시</td>\n      <td>달성군</td>\n      <td>합계</td>\n      <td>80,215</td>\n      <td>308,231,059</td>\n    </tr>\n    <tr>\n      <th>16</th>\n      <td>202105</td>\n      <td>대구광역시</td>\n      <td>달성군</td>\n      <td>합계</td>\n      <td>80,418</td>\n      <td>302,607,296</td>\n    </tr>\n    <tr>\n      <th>17</th>\n      <td>202106</td>\n      <td>대구광역시</td>\n      <td>달성군</td>\n      <td>합계</td>\n      <td>80,612</td>\n      <td>315,557,622</td>\n    </tr>\n    <tr>\n      <th>18</th>\n      <td>202101</td>\n      <td>대구광역시</td>\n      <td>동구</td>\n      <td>합계</td>\n      <td>148,703</td>\n      <td>146,070,949</td>\n    </tr>\n    <tr>\n      <th>19</th>\n      <td>202102</td>\n      <td>대구광역시</td>\n      <td>동구</td>\n      <td>합계</td>\n      <td>148,605</td>\n      <td>136,235,695</td>\n    </tr>\n    <tr>\n      <th>20</th>\n      <td>202103</td>\n      <td>대구광역시</td>\n      <td>동구</td>\n      <td>합계</td>\n      <td>148,546</td>\n      <td>117,772,995</td>\n    </tr>\n    <tr>\n      <th>21</th>\n      <td>202104</td>\n      <td>대구광역시</td>\n      <td>동구</td>\n      <td>합계</td>\n      <td>148,590</td>\n      <td>115,069,239</td>\n    </tr>\n    <tr>\n      <th>22</th>\n      <td>202105</td>\n      <td>대구광역시</td>\n      <td>동구</td>\n      <td>합계</td>\n      <td>148,522</td>\n      <td>108,697,056</td>\n    </tr>\n    <tr>\n      <th>23</th>\n      <td>202106</td>\n      <td>대구광역시</td>\n      <td>동구</td>\n      <td>합계</td>\n      <td>148,352</td>\n      <td>117,216,839</td>\n    </tr>\n    <tr>\n      <th>24</th>\n      <td>202101</td>\n      <td>대구광역시</td>\n      <td>북구</td>\n      <td>합계</td>\n      <td>148,969</td>\n      <td>221,600,871</td>\n    </tr>\n    <tr>\n      <th>25</th>\n      <td>202102</td>\n      <td>대구광역시</td>\n      <td>북구</td>\n      <td>합계</td>\n      <td>149,024</td>\n      <td>207,625,472</td>\n    </tr>\n    <tr>\n      <th>26</th>\n      <td>202103</td>\n      <td>대구광역시</td>\n      <td>북구</td>\n      <td>합계</td>\n      <td>149,073</td>\n      <td>182,025,448</td>\n    </tr>\n    <tr>\n      <th>27</th>\n      <td>202104</td>\n      <td>대구광역시</td>\n      <td>북구</td>\n      <td>합계</td>\n      <td>149,008</td>\n      <td>179,814,606</td>\n    </tr>\n    <tr>\n      <th>28</th>\n      <td>202105</td>\n      <td>대구광역시</td>\n      <td>북구</td>\n      <td>합계</td>\n      <td>149,068</td>\n      <td>168,933,797</td>\n    </tr>\n    <tr>\n      <th>29</th>\n      <td>202106</td>\n      <td>대구광역시</td>\n      <td>북구</td>\n      <td>합계</td>\n      <td>149,025</td>\n      <td>183,072,063</td>\n    </tr>\n    <tr>\n      <th>30</th>\n      <td>202101</td>\n      <td>대구광역시</td>\n      <td>서구</td>\n      <td>합계</td>\n      <td>102,461</td>\n      <td>86,070,819</td>\n    </tr>\n    <tr>\n      <th>31</th>\n      <td>202102</td>\n      <td>대구광역시</td>\n      <td>서구</td>\n      <td>합계</td>\n      <td>102,436</td>\n      <td>83,188,264</td>\n    </tr>\n    <tr>\n      <th>32</th>\n      <td>202103</td>\n      <td>대구광역시</td>\n      <td>서구</td>\n      <td>합계</td>\n      <td>102,435</td>\n      <td>73,110,074</td>\n    </tr>\n    <tr>\n      <th>33</th>\n      <td>202104</td>\n      <td>대구광역시</td>\n      <td>서구</td>\n      <td>합계</td>\n      <td>102,487</td>\n      <td>74,699,849</td>\n    </tr>\n    <tr>\n      <th>34</th>\n      <td>202105</td>\n      <td>대구광역시</td>\n      <td>서구</td>\n      <td>합계</td>\n      <td>102,523</td>\n      <td>69,666,307</td>\n    </tr>\n    <tr>\n      <th>35</th>\n      <td>202106</td>\n      <td>대구광역시</td>\n      <td>서구</td>\n      <td>합계</td>\n      <td>102,511</td>\n      <td>74,034,682</td>\n    </tr>\n    <tr>\n      <th>36</th>\n      <td>202101</td>\n      <td>대구광역시</td>\n      <td>수성구</td>\n      <td>합계</td>\n      <td>126,499</td>\n      <td>160,731,916</td>\n    </tr>\n    <tr>\n      <th>37</th>\n      <td>202102</td>\n      <td>대구광역시</td>\n      <td>수성구</td>\n      <td>합계</td>\n      <td>126,441</td>\n      <td>150,162,717</td>\n    </tr>\n    <tr>\n      <th>38</th>\n      <td>202103</td>\n      <td>대구광역시</td>\n      <td>수성구</td>\n      <td>합계</td>\n      <td>126,442</td>\n      <td>129,904,655</td>\n    </tr>\n    <tr>\n      <th>39</th>\n      <td>202104</td>\n      <td>대구광역시</td>\n      <td>수성구</td>\n      <td>합계</td>\n      <td>126,468</td>\n      <td>127,473,609</td>\n    </tr>\n    <tr>\n      <th>40</th>\n      <td>202105</td>\n      <td>대구광역시</td>\n      <td>수성구</td>\n      <td>합계</td>\n      <td>126,466</td>\n      <td>120,488,990</td>\n    </tr>\n    <tr>\n      <th>41</th>\n      <td>202106</td>\n      <td>대구광역시</td>\n      <td>수성구</td>\n      <td>합계</td>\n      <td>126,358</td>\n      <td>129,016,970</td>\n    </tr>\n    <tr>\n      <th>42</th>\n      <td>202101</td>\n      <td>대구광역시</td>\n      <td>중구</td>\n      <td>합계</td>\n      <td>50,941</td>\n      <td>67,597,832</td>\n    </tr>\n    <tr>\n      <th>43</th>\n      <td>202102</td>\n      <td>대구광역시</td>\n      <td>중구</td>\n      <td>합계</td>\n      <td>50,910</td>\n      <td>60,614,629</td>\n    </tr>\n    <tr>\n      <th>44</th>\n      <td>202103</td>\n      <td>대구광역시</td>\n      <td>중구</td>\n      <td>합계</td>\n      <td>50,827</td>\n      <td>51,518,452</td>\n    </tr>\n    <tr>\n      <th>45</th>\n      <td>202104</td>\n      <td>대구광역시</td>\n      <td>중구</td>\n      <td>합계</td>\n      <td>50,753</td>\n      <td>48,733,976</td>\n    </tr>\n    <tr>\n      <th>46</th>\n      <td>202105</td>\n      <td>대구광역시</td>\n      <td>중구</td>\n      <td>합계</td>\n      <td>50,720</td>\n      <td>47,818,543</td>\n    </tr>\n    <tr>\n      <th>47</th>\n      <td>202106</td>\n      <td>대구광역시</td>\n      <td>중구</td>\n      <td>합계</td>\n      <td>50,619</td>\n      <td>55,199,819</td>\n    </tr>\n    <tr>\n      <th>48</th>\n      <td>202101-202106</td>\n      <td>대구광역시</td>\n      <td>남구</td>\n      <td>합계</td>\n      <td>16514</td>\n      <td>293267499</td>\n    </tr>\n    <tr>\n      <th>49</th>\n      <td>202101-202106</td>\n      <td>대구광역시</td>\n      <td>달서구</td>\n      <td>합계</td>\n      <td>28761</td>\n      <td>1920044302</td>\n    </tr>\n    <tr>\n      <th>50</th>\n      <td>202101-202106</td>\n      <td>대구광역시</td>\n      <td>달성군</td>\n      <td>합계</td>\n      <td>13362</td>\n      <td>1898086884</td>\n    </tr>\n    <tr>\n      <th>51</th>\n      <td>202101-202106</td>\n      <td>대구광역시</td>\n      <td>동구</td>\n      <td>합계</td>\n      <td>24758</td>\n      <td>741062773</td>\n    </tr>\n    <tr>\n      <th>52</th>\n      <td>202101-202106</td>\n      <td>대구광역시</td>\n      <td>북구</td>\n      <td>합계</td>\n      <td>24837</td>\n      <td>1143072257</td>\n    </tr>\n    <tr>\n      <th>53</th>\n      <td>202101-202106</td>\n      <td>대구광역시</td>\n      <td>서구</td>\n      <td>합계</td>\n      <td>17079</td>\n      <td>460769995</td>\n    </tr>\n    <tr>\n      <th>54</th>\n      <td>202101-202106</td>\n      <td>대구광역시</td>\n      <td>수성구</td>\n      <td>합계</td>\n      <td>21074</td>\n      <td>817778857</td>\n    </tr>\n    <tr>\n      <th>55</th>\n      <td>202101-202106</td>\n      <td>대구광역시</td>\n      <td>중구</td>\n      <td>합계</td>\n      <td>8465</td>\n      <td>331483251</td>\n    </tr>\n  </tbody>\n</table>\n</div>"
     },
     "execution_count": 15,
     "metadata": {},
     "output_type": "execute_result"
    }
   ],
   "source": [
    "Hap = df_4.copy()\n",
    "Hap.reset_index(drop=True , inplace = True)\n",
    "for i in range(len(SIGUNGU)):\n",
    "    Hap = Hap.append({'년월' :'202101-202106'  , '시구' : '{}'.format(City) , '시군구' : '{}'.format(SIGUNGU[i]) , '계약구분' : '합계' , '고객호수(호)' : sum3[i] ,  '사용량(kWh)' : sum2[i]} , ignore_index=True) #년월 파일마다 수정하기\n",
    "Hap"
   ],
   "metadata": {
    "collapsed": false,
    "pycharm": {
     "name": "#%%\n"
    }
   }
  },
  {
   "cell_type": "markdown",
   "source": [
    "### 3. 날짜 변경!!!!!!!!!!!!!!!!!!!!!!!!!!!!!!!"
   ],
   "metadata": {
    "collapsed": false,
    "pycharm": {
     "name": "#%% md\n"
    }
   }
  },
  {
   "cell_type": "code",
   "execution_count": 16,
   "outputs": [
    {
     "data": {
      "text/plain": "               년월     시구  시군구 계약구분 고객호수(호)    사용량(kWh)\n48  202101-202106  대구광역시   남구   합계   16514   293267499\n49  202101-202106  대구광역시  달서구   합계   28761  1920044302\n50  202101-202106  대구광역시  달성군   합계   13362  1898086884\n51  202101-202106  대구광역시   동구   합계   24758   741062773\n52  202101-202106  대구광역시   북구   합계   24837  1143072257\n53  202101-202106  대구광역시   서구   합계   17079   460769995\n54  202101-202106  대구광역시  수성구   합계   21074   817778857\n55  202101-202106  대구광역시   중구   합계    8465   331483251",
      "text/html": "<div>\n<style scoped>\n    .dataframe tbody tr th:only-of-type {\n        vertical-align: middle;\n    }\n\n    .dataframe tbody tr th {\n        vertical-align: top;\n    }\n\n    .dataframe thead th {\n        text-align: right;\n    }\n</style>\n<table border=\"1\" class=\"dataframe\">\n  <thead>\n    <tr style=\"text-align: right;\">\n      <th></th>\n      <th>년월</th>\n      <th>시구</th>\n      <th>시군구</th>\n      <th>계약구분</th>\n      <th>고객호수(호)</th>\n      <th>사용량(kWh)</th>\n    </tr>\n  </thead>\n  <tbody>\n    <tr>\n      <th>48</th>\n      <td>202101-202106</td>\n      <td>대구광역시</td>\n      <td>남구</td>\n      <td>합계</td>\n      <td>16514</td>\n      <td>293267499</td>\n    </tr>\n    <tr>\n      <th>49</th>\n      <td>202101-202106</td>\n      <td>대구광역시</td>\n      <td>달서구</td>\n      <td>합계</td>\n      <td>28761</td>\n      <td>1920044302</td>\n    </tr>\n    <tr>\n      <th>50</th>\n      <td>202101-202106</td>\n      <td>대구광역시</td>\n      <td>달성군</td>\n      <td>합계</td>\n      <td>13362</td>\n      <td>1898086884</td>\n    </tr>\n    <tr>\n      <th>51</th>\n      <td>202101-202106</td>\n      <td>대구광역시</td>\n      <td>동구</td>\n      <td>합계</td>\n      <td>24758</td>\n      <td>741062773</td>\n    </tr>\n    <tr>\n      <th>52</th>\n      <td>202101-202106</td>\n      <td>대구광역시</td>\n      <td>북구</td>\n      <td>합계</td>\n      <td>24837</td>\n      <td>1143072257</td>\n    </tr>\n    <tr>\n      <th>53</th>\n      <td>202101-202106</td>\n      <td>대구광역시</td>\n      <td>서구</td>\n      <td>합계</td>\n      <td>17079</td>\n      <td>460769995</td>\n    </tr>\n    <tr>\n      <th>54</th>\n      <td>202101-202106</td>\n      <td>대구광역시</td>\n      <td>수성구</td>\n      <td>합계</td>\n      <td>21074</td>\n      <td>817778857</td>\n    </tr>\n    <tr>\n      <th>55</th>\n      <td>202101-202106</td>\n      <td>대구광역시</td>\n      <td>중구</td>\n      <td>합계</td>\n      <td>8465</td>\n      <td>331483251</td>\n    </tr>\n  </tbody>\n</table>\n</div>"
     },
     "execution_count": 16,
     "metadata": {},
     "output_type": "execute_result"
    }
   ],
   "source": [
    "Hap = Hap.loc[Hap['년월'] == '202101-202106']\n",
    "Hap"
   ],
   "metadata": {
    "collapsed": false,
    "pycharm": {
     "name": "#%%\n"
    }
   }
  },
  {
   "cell_type": "code",
   "execution_count": 17,
   "outputs": [],
   "source": [
    "# SIGUNGU = SIGUNGU[:1]\n",
    "# SIGUNGU\n",
    "#for i in SIGUNGU:\n",
    "#print('{}'.format(i))\n",
    "# df_3 = df_3.loc[(df_3['시군구'] == '가평군')]\n",
    "#\n",
    "# df_3"
   ],
   "metadata": {
    "collapsed": false,
    "pycharm": {
     "name": "#%%\n"
    }
   }
  },
  {
   "cell_type": "code",
   "execution_count": 18,
   "outputs": [
    {
     "data": {
      "text/plain": "['년월', '시구', '시군구', '계약구분', '고객호수(호)', '사용량(kWh)']"
     },
     "execution_count": 18,
     "metadata": {},
     "output_type": "execute_result"
    }
   ],
   "source": [
    "a = (df_3.columns).tolist()\n",
    "\n",
    "a"
   ],
   "metadata": {
    "collapsed": false,
    "pycharm": {
     "name": "#%%\n"
    }
   }
  },
  {
   "cell_type": "code",
   "execution_count": 19,
   "outputs": [
    {
     "data": {
      "text/plain": "         년월     시구  시군구 계약구분  고객호수(호)     사용량(kWh)\n53   202101  대구광역시   남구  일반용  12,069   30,006,425 \n117  202102  대구광역시   남구  일반용  12,084   28,463,856 \n181  202103  대구광역시   남구  일반용  12,065   23,801,614 \n245  202104  대구광역시   남구  일반용  12,094   23,155,818 \n309  202105  대구광역시   남구  일반용  12,081   22,176,462 \n373  202106  대구광역시   남구  일반용  12,081   24,847,720 \n61   202101  대구광역시  달서구  일반용  28,877   84,654,645 \n125  202102  대구광역시  달서구  일반용  28,837   79,341,620 \n189  202103  대구광역시  달서구  일반용  28,808   66,387,503 \n253  202104  대구광역시  달서구  일반용  28,806   64,429,940 \n317  202105  대구광역시  달서구  일반용  28,839   61,704,042 \n381  202106  대구광역시  달서구  일반용  28,853   69,381,508 \n69   202101  대구광역시  달성군  일반용  13,631   40,686,362 \n133  202102  대구광역시  달성군  일반용  13,642   37,791,128 \n197  202103  대구광역시  달성군  일반용  13,631   27,963,030 \n261  202104  대구광역시  달성군  일반용  13,706   27,391,546 \n325  202105  대구광역시  달성군  일반용  13,751   26,147,640 \n389  202106  대구광역시  달성군  일반용  13,782   28,928,549 \n77   202101  대구광역시   동구  일반용  21,814   73,579,000 \n141  202102  대구광역시   동구  일반용  21,842   67,204,745 \n205  202103  대구광역시   동구  일반용  21,824   58,375,857 \n269  202104  대구광역시   동구  일반용  21,822   55,902,532 \n333  202105  대구광역시   동구  일반용  21,817   54,403,022 \n397  202106  대구광역시   동구  일반용  21,835   60,869,965 \n85   202101  대구광역시   북구  일반용  26,205   77,214,488 \n149  202102  대구광역시   북구  일반용  26,187   70,425,590 \n213  202103  대구광역시   북구  일반용  26,239   60,127,587 \n277  202104  대구광역시   북구  일반용  26,233   58,328,349 \n341  202105  대구광역시   북구  일반용  26,286   55,969,874 \n405  202106  대구광역시   북구  일반용  26,258   62,835,636 \n93   202101  대구광역시   서구  일반용  13,596   29,298,841 \n157  202102  대구광역시   서구  일반용  13,595   28,007,777 \n221  202103  대구광역시   서구  일반용  13,591   22,898,470 \n285  202104  대구광역시   서구  일반용  13,592   21,940,406 \n349  202105  대구광역시   서구  일반용  13,578   20,271,808 \n413  202106  대구광역시   서구  일반용  13,566   22,281,037 \n101  202101  대구광역시  수성구  일반용  24,357   71,453,989 \n165  202102  대구광역시  수성구  일반용  24,394   65,923,117 \n229  202103  대구광역시  수성구  일반용  24,424   55,149,695 \n293  202104  대구광역시  수성구  일반용  24,442   52,613,817 \n357  202105  대구광역시  수성구  일반용  24,511   50,028,278 \n421  202106  대구광역시  수성구  일반용  24,572   56,051,820 \n109  202101  대구광역시   중구  일반용  14,645   49,600,619 \n173  202102  대구광역시   중구  일반용  14,627   43,740,959 \n237  202103  대구광역시   중구  일반용  14,594   37,263,048 \n301  202104  대구광역시   중구  일반용  14,559   34,807,597 \n365  202105  대구광역시   중구  일반용  14,557   34,471,444 \n429  202106  대구광역시   중구  일반용  14,513   39,839,522 ",
      "text/html": "<div>\n<style scoped>\n    .dataframe tbody tr th:only-of-type {\n        vertical-align: middle;\n    }\n\n    .dataframe tbody tr th {\n        vertical-align: top;\n    }\n\n    .dataframe thead th {\n        text-align: right;\n    }\n</style>\n<table border=\"1\" class=\"dataframe\">\n  <thead>\n    <tr style=\"text-align: right;\">\n      <th></th>\n      <th>년월</th>\n      <th>시구</th>\n      <th>시군구</th>\n      <th>계약구분</th>\n      <th>고객호수(호)</th>\n      <th>사용량(kWh)</th>\n    </tr>\n  </thead>\n  <tbody>\n    <tr>\n      <th>53</th>\n      <td>202101</td>\n      <td>대구광역시</td>\n      <td>남구</td>\n      <td>일반용</td>\n      <td>12,069</td>\n      <td>30,006,425</td>\n    </tr>\n    <tr>\n      <th>117</th>\n      <td>202102</td>\n      <td>대구광역시</td>\n      <td>남구</td>\n      <td>일반용</td>\n      <td>12,084</td>\n      <td>28,463,856</td>\n    </tr>\n    <tr>\n      <th>181</th>\n      <td>202103</td>\n      <td>대구광역시</td>\n      <td>남구</td>\n      <td>일반용</td>\n      <td>12,065</td>\n      <td>23,801,614</td>\n    </tr>\n    <tr>\n      <th>245</th>\n      <td>202104</td>\n      <td>대구광역시</td>\n      <td>남구</td>\n      <td>일반용</td>\n      <td>12,094</td>\n      <td>23,155,818</td>\n    </tr>\n    <tr>\n      <th>309</th>\n      <td>202105</td>\n      <td>대구광역시</td>\n      <td>남구</td>\n      <td>일반용</td>\n      <td>12,081</td>\n      <td>22,176,462</td>\n    </tr>\n    <tr>\n      <th>373</th>\n      <td>202106</td>\n      <td>대구광역시</td>\n      <td>남구</td>\n      <td>일반용</td>\n      <td>12,081</td>\n      <td>24,847,720</td>\n    </tr>\n    <tr>\n      <th>61</th>\n      <td>202101</td>\n      <td>대구광역시</td>\n      <td>달서구</td>\n      <td>일반용</td>\n      <td>28,877</td>\n      <td>84,654,645</td>\n    </tr>\n    <tr>\n      <th>125</th>\n      <td>202102</td>\n      <td>대구광역시</td>\n      <td>달서구</td>\n      <td>일반용</td>\n      <td>28,837</td>\n      <td>79,341,620</td>\n    </tr>\n    <tr>\n      <th>189</th>\n      <td>202103</td>\n      <td>대구광역시</td>\n      <td>달서구</td>\n      <td>일반용</td>\n      <td>28,808</td>\n      <td>66,387,503</td>\n    </tr>\n    <tr>\n      <th>253</th>\n      <td>202104</td>\n      <td>대구광역시</td>\n      <td>달서구</td>\n      <td>일반용</td>\n      <td>28,806</td>\n      <td>64,429,940</td>\n    </tr>\n    <tr>\n      <th>317</th>\n      <td>202105</td>\n      <td>대구광역시</td>\n      <td>달서구</td>\n      <td>일반용</td>\n      <td>28,839</td>\n      <td>61,704,042</td>\n    </tr>\n    <tr>\n      <th>381</th>\n      <td>202106</td>\n      <td>대구광역시</td>\n      <td>달서구</td>\n      <td>일반용</td>\n      <td>28,853</td>\n      <td>69,381,508</td>\n    </tr>\n    <tr>\n      <th>69</th>\n      <td>202101</td>\n      <td>대구광역시</td>\n      <td>달성군</td>\n      <td>일반용</td>\n      <td>13,631</td>\n      <td>40,686,362</td>\n    </tr>\n    <tr>\n      <th>133</th>\n      <td>202102</td>\n      <td>대구광역시</td>\n      <td>달성군</td>\n      <td>일반용</td>\n      <td>13,642</td>\n      <td>37,791,128</td>\n    </tr>\n    <tr>\n      <th>197</th>\n      <td>202103</td>\n      <td>대구광역시</td>\n      <td>달성군</td>\n      <td>일반용</td>\n      <td>13,631</td>\n      <td>27,963,030</td>\n    </tr>\n    <tr>\n      <th>261</th>\n      <td>202104</td>\n      <td>대구광역시</td>\n      <td>달성군</td>\n      <td>일반용</td>\n      <td>13,706</td>\n      <td>27,391,546</td>\n    </tr>\n    <tr>\n      <th>325</th>\n      <td>202105</td>\n      <td>대구광역시</td>\n      <td>달성군</td>\n      <td>일반용</td>\n      <td>13,751</td>\n      <td>26,147,640</td>\n    </tr>\n    <tr>\n      <th>389</th>\n      <td>202106</td>\n      <td>대구광역시</td>\n      <td>달성군</td>\n      <td>일반용</td>\n      <td>13,782</td>\n      <td>28,928,549</td>\n    </tr>\n    <tr>\n      <th>77</th>\n      <td>202101</td>\n      <td>대구광역시</td>\n      <td>동구</td>\n      <td>일반용</td>\n      <td>21,814</td>\n      <td>73,579,000</td>\n    </tr>\n    <tr>\n      <th>141</th>\n      <td>202102</td>\n      <td>대구광역시</td>\n      <td>동구</td>\n      <td>일반용</td>\n      <td>21,842</td>\n      <td>67,204,745</td>\n    </tr>\n    <tr>\n      <th>205</th>\n      <td>202103</td>\n      <td>대구광역시</td>\n      <td>동구</td>\n      <td>일반용</td>\n      <td>21,824</td>\n      <td>58,375,857</td>\n    </tr>\n    <tr>\n      <th>269</th>\n      <td>202104</td>\n      <td>대구광역시</td>\n      <td>동구</td>\n      <td>일반용</td>\n      <td>21,822</td>\n      <td>55,902,532</td>\n    </tr>\n    <tr>\n      <th>333</th>\n      <td>202105</td>\n      <td>대구광역시</td>\n      <td>동구</td>\n      <td>일반용</td>\n      <td>21,817</td>\n      <td>54,403,022</td>\n    </tr>\n    <tr>\n      <th>397</th>\n      <td>202106</td>\n      <td>대구광역시</td>\n      <td>동구</td>\n      <td>일반용</td>\n      <td>21,835</td>\n      <td>60,869,965</td>\n    </tr>\n    <tr>\n      <th>85</th>\n      <td>202101</td>\n      <td>대구광역시</td>\n      <td>북구</td>\n      <td>일반용</td>\n      <td>26,205</td>\n      <td>77,214,488</td>\n    </tr>\n    <tr>\n      <th>149</th>\n      <td>202102</td>\n      <td>대구광역시</td>\n      <td>북구</td>\n      <td>일반용</td>\n      <td>26,187</td>\n      <td>70,425,590</td>\n    </tr>\n    <tr>\n      <th>213</th>\n      <td>202103</td>\n      <td>대구광역시</td>\n      <td>북구</td>\n      <td>일반용</td>\n      <td>26,239</td>\n      <td>60,127,587</td>\n    </tr>\n    <tr>\n      <th>277</th>\n      <td>202104</td>\n      <td>대구광역시</td>\n      <td>북구</td>\n      <td>일반용</td>\n      <td>26,233</td>\n      <td>58,328,349</td>\n    </tr>\n    <tr>\n      <th>341</th>\n      <td>202105</td>\n      <td>대구광역시</td>\n      <td>북구</td>\n      <td>일반용</td>\n      <td>26,286</td>\n      <td>55,969,874</td>\n    </tr>\n    <tr>\n      <th>405</th>\n      <td>202106</td>\n      <td>대구광역시</td>\n      <td>북구</td>\n      <td>일반용</td>\n      <td>26,258</td>\n      <td>62,835,636</td>\n    </tr>\n    <tr>\n      <th>93</th>\n      <td>202101</td>\n      <td>대구광역시</td>\n      <td>서구</td>\n      <td>일반용</td>\n      <td>13,596</td>\n      <td>29,298,841</td>\n    </tr>\n    <tr>\n      <th>157</th>\n      <td>202102</td>\n      <td>대구광역시</td>\n      <td>서구</td>\n      <td>일반용</td>\n      <td>13,595</td>\n      <td>28,007,777</td>\n    </tr>\n    <tr>\n      <th>221</th>\n      <td>202103</td>\n      <td>대구광역시</td>\n      <td>서구</td>\n      <td>일반용</td>\n      <td>13,591</td>\n      <td>22,898,470</td>\n    </tr>\n    <tr>\n      <th>285</th>\n      <td>202104</td>\n      <td>대구광역시</td>\n      <td>서구</td>\n      <td>일반용</td>\n      <td>13,592</td>\n      <td>21,940,406</td>\n    </tr>\n    <tr>\n      <th>349</th>\n      <td>202105</td>\n      <td>대구광역시</td>\n      <td>서구</td>\n      <td>일반용</td>\n      <td>13,578</td>\n      <td>20,271,808</td>\n    </tr>\n    <tr>\n      <th>413</th>\n      <td>202106</td>\n      <td>대구광역시</td>\n      <td>서구</td>\n      <td>일반용</td>\n      <td>13,566</td>\n      <td>22,281,037</td>\n    </tr>\n    <tr>\n      <th>101</th>\n      <td>202101</td>\n      <td>대구광역시</td>\n      <td>수성구</td>\n      <td>일반용</td>\n      <td>24,357</td>\n      <td>71,453,989</td>\n    </tr>\n    <tr>\n      <th>165</th>\n      <td>202102</td>\n      <td>대구광역시</td>\n      <td>수성구</td>\n      <td>일반용</td>\n      <td>24,394</td>\n      <td>65,923,117</td>\n    </tr>\n    <tr>\n      <th>229</th>\n      <td>202103</td>\n      <td>대구광역시</td>\n      <td>수성구</td>\n      <td>일반용</td>\n      <td>24,424</td>\n      <td>55,149,695</td>\n    </tr>\n    <tr>\n      <th>293</th>\n      <td>202104</td>\n      <td>대구광역시</td>\n      <td>수성구</td>\n      <td>일반용</td>\n      <td>24,442</td>\n      <td>52,613,817</td>\n    </tr>\n    <tr>\n      <th>357</th>\n      <td>202105</td>\n      <td>대구광역시</td>\n      <td>수성구</td>\n      <td>일반용</td>\n      <td>24,511</td>\n      <td>50,028,278</td>\n    </tr>\n    <tr>\n      <th>421</th>\n      <td>202106</td>\n      <td>대구광역시</td>\n      <td>수성구</td>\n      <td>일반용</td>\n      <td>24,572</td>\n      <td>56,051,820</td>\n    </tr>\n    <tr>\n      <th>109</th>\n      <td>202101</td>\n      <td>대구광역시</td>\n      <td>중구</td>\n      <td>일반용</td>\n      <td>14,645</td>\n      <td>49,600,619</td>\n    </tr>\n    <tr>\n      <th>173</th>\n      <td>202102</td>\n      <td>대구광역시</td>\n      <td>중구</td>\n      <td>일반용</td>\n      <td>14,627</td>\n      <td>43,740,959</td>\n    </tr>\n    <tr>\n      <th>237</th>\n      <td>202103</td>\n      <td>대구광역시</td>\n      <td>중구</td>\n      <td>일반용</td>\n      <td>14,594</td>\n      <td>37,263,048</td>\n    </tr>\n    <tr>\n      <th>301</th>\n      <td>202104</td>\n      <td>대구광역시</td>\n      <td>중구</td>\n      <td>일반용</td>\n      <td>14,559</td>\n      <td>34,807,597</td>\n    </tr>\n    <tr>\n      <th>365</th>\n      <td>202105</td>\n      <td>대구광역시</td>\n      <td>중구</td>\n      <td>일반용</td>\n      <td>14,557</td>\n      <td>34,471,444</td>\n    </tr>\n    <tr>\n      <th>429</th>\n      <td>202106</td>\n      <td>대구광역시</td>\n      <td>중구</td>\n      <td>일반용</td>\n      <td>14,513</td>\n      <td>39,839,522</td>\n    </tr>\n  </tbody>\n</table>\n</div>"
     },
     "execution_count": 19,
     "metadata": {},
     "output_type": "execute_result"
    }
   ],
   "source": [
    "df_3"
   ],
   "metadata": {
    "collapsed": false,
    "pycharm": {
     "name": "#%%\n"
    }
   }
  },
  {
   "cell_type": "code",
   "execution_count": 20,
   "outputs": [],
   "source": [
    "# GyeonGiHap = pd.DataFrame([] , columns = a)\n",
    "# GyeonGiHap['사용량']= df_3['사용량(kWh)'].loc[(df_3['시군구'] == '{가평군}')]\n",
    "# GyeonGiHap"
   ],
   "metadata": {
    "collapsed": false,
    "pycharm": {
     "name": "#%%\n"
    }
   }
  },
  {
   "cell_type": "code",
   "execution_count": 21,
   "outputs": [
    {
     "name": "stdout",
     "output_type": "stream",
     "text": [
      "[30006425, 28463856, 23801614, 23155818, 22176462, 24847720]\n",
      "[84654645, 79341620, 66387503, 64429940, 61704042, 69381508]\n",
      "[40686362, 37791128, 27963030, 27391546, 26147640, 28928549]\n",
      "[73579000, 67204745, 58375857, 55902532, 54403022, 60869965]\n",
      "[77214488, 70425590, 60127587, 58328349, 55969874, 62835636]\n",
      "[29298841, 28007777, 22898470, 21940406, 20271808, 22281037]\n",
      "[71453989, 65923117, 55149695, 52613817, 50028278, 56051820]\n",
      "[49600619, 43740959, 37263048, 34807597, 34471444, 39839522]\n",
      "대구광역시 지역별 일반용 합계 :  [152451895, 425899258, 188908255, 370335121, 384901524, 144698339, 351220716, 239723189]\n",
      "대구광역시 고객호수 평균:  [12079, 28836, 13690, 21825, 26234, 13586, 24450, 14582]\n"
     ]
    }
   ],
   "source": [
    "sum2 , sum3 =[] , []\n",
    "for k in SIGUNGU:\n",
    "    GyeonGiHap = pd.DataFrame([] , columns = a)\n",
    "    HOSU = pd.DataFrame([], columns = a)\n",
    "    GyeonGiHap['사용량']= df_3['사용량(kWh)'].loc[(df_3['시군구'] == '{}'.format(k))]\n",
    "    HOSU['고객호수']= df_3['고객호수(호)'].loc[(df_3['시군구'] == '{}'.format(k))]\n",
    "    #경기합 데이터프레임의 사용량 열에 기군구가 가평군인 사용량 데이터만 뽑아내기\n",
    "    # GyeonGiHap = GyeonGiHap['사용량']\n",
    "\n",
    "    b = GyeonGiHap['사용량'].tolist()\n",
    "    c = HOSU['고객호수'].tolist()\n",
    "\n",
    "\n",
    "    #각지역별 사용량 리스트화\n",
    "    int_list  , int_list2=[] , []\n",
    "    for i in b:\n",
    "        i = re.sub(\",\" , \"\" , i)\n",
    "        #콤마 없애기\n",
    "        int_list.append(int(i))\n",
    "        #int_list에 각지역별 사용량 int로 저장\n",
    "    print(int_list)\n",
    "    sum=0\n",
    "    for i in c:\n",
    "        i = re.sub(\",\" , \"\" , i)\n",
    "        int_list2.append(int(i))\n",
    "\n",
    "    for j in int_list:\n",
    "\n",
    "        sum+= j\n",
    "    sum2.append(sum)\n",
    "    sum = 0\n",
    "    for j in int_list2: #고객호수 추출하여 더하기\n",
    "\n",
    "        sum+= j\n",
    "    sum3.append(sum//6) #6개월 치로 나눠야하나?!\n",
    "\n",
    "\n",
    "\n",
    "\n",
    "print(\"{} 지역별 일반용 합계 : \".format(City) , sum2)\n",
    "print(\"{} 고객호수 평균: \".format(City) , sum3)\n",
    "# GyeonGiHap['합계'] = sum\n",
    "#\n",
    "# GyeonGiHap"
   ],
   "metadata": {
    "collapsed": false,
    "pycharm": {
     "name": "#%%\n"
    }
   }
  },
  {
   "cell_type": "code",
   "execution_count": 22,
   "outputs": [],
   "source": [
    "# df_3 = df_3.loc[(df_3['시군구'] == '가평군')]\n",
    "#\n",
    "# df_3"
   ],
   "metadata": {
    "collapsed": false,
    "pycharm": {
     "name": "#%%\n"
    }
   }
  },
  {
   "cell_type": "code",
   "execution_count": 23,
   "outputs": [],
   "source": [
    "# GyeonGiHap = df_3.copy()\n",
    "# GyeonGiHap.reset_index(drop=True , inplace = True)\n",
    "# GyeonGiHap.append({'년월' : '202107-202112'  , '시구' : '경기도' , '시군구' : '가평군' , '계약구분' : '일반용' , '사용량(kWh)' : sum}, ignore_index=True)"
   ],
   "metadata": {
    "collapsed": false,
    "pycharm": {
     "name": "#%%\n"
    }
   }
  },
  {
   "cell_type": "code",
   "execution_count": 24,
   "outputs": [],
   "source": [
    "# a=[]\n",
    "# for i in SIGUNGU:\n",
    "#     a.append(i)\n",
    "#\n",
    "# print(a)"
   ],
   "metadata": {
    "collapsed": false,
    "pycharm": {
     "name": "#%%\n"
    }
   }
  },
  {
   "cell_type": "markdown",
   "source": [
    "### 4. 년월 체크!!!!!!!!!!!!!!!!!!!!!!!!!!!!!!!!!!!!!!!!!!!!!!!!!!!!!!!!!!!!!!!!!"
   ],
   "metadata": {
    "collapsed": false,
    "pycharm": {
     "name": "#%% md\n"
    }
   }
  },
  {
   "cell_type": "code",
   "execution_count": 25,
   "outputs": [
    {
     "name": "stderr",
     "output_type": "stream",
     "text": [
      "C:\\Users\\user\\AppData\\Local\\Temp\\ipykernel_20072\\1152688266.py:4: FutureWarning: The frame.append method is deprecated and will be removed from pandas in a future version. Use pandas.concat instead.\n",
      "  GyeonGiHap2 = GyeonGiHap2.append({'년월' :'202101-202106'  , '시구' : '{}'.format(City) , '시군구' : '{}'.format(SIGUNGU[i]) , '계약구분' : '일반용' , '고객호수(호)' : sum3[i] ,  '사용량(kWh)' : sum2[i]} , ignore_index=True) #년월 파일마다 수정하기\n",
      "C:\\Users\\user\\AppData\\Local\\Temp\\ipykernel_20072\\1152688266.py:4: FutureWarning: The frame.append method is deprecated and will be removed from pandas in a future version. Use pandas.concat instead.\n",
      "  GyeonGiHap2 = GyeonGiHap2.append({'년월' :'202101-202106'  , '시구' : '{}'.format(City) , '시군구' : '{}'.format(SIGUNGU[i]) , '계약구분' : '일반용' , '고객호수(호)' : sum3[i] ,  '사용량(kWh)' : sum2[i]} , ignore_index=True) #년월 파일마다 수정하기\n",
      "C:\\Users\\user\\AppData\\Local\\Temp\\ipykernel_20072\\1152688266.py:4: FutureWarning: The frame.append method is deprecated and will be removed from pandas in a future version. Use pandas.concat instead.\n",
      "  GyeonGiHap2 = GyeonGiHap2.append({'년월' :'202101-202106'  , '시구' : '{}'.format(City) , '시군구' : '{}'.format(SIGUNGU[i]) , '계약구분' : '일반용' , '고객호수(호)' : sum3[i] ,  '사용량(kWh)' : sum2[i]} , ignore_index=True) #년월 파일마다 수정하기\n",
      "C:\\Users\\user\\AppData\\Local\\Temp\\ipykernel_20072\\1152688266.py:4: FutureWarning: The frame.append method is deprecated and will be removed from pandas in a future version. Use pandas.concat instead.\n",
      "  GyeonGiHap2 = GyeonGiHap2.append({'년월' :'202101-202106'  , '시구' : '{}'.format(City) , '시군구' : '{}'.format(SIGUNGU[i]) , '계약구분' : '일반용' , '고객호수(호)' : sum3[i] ,  '사용량(kWh)' : sum2[i]} , ignore_index=True) #년월 파일마다 수정하기\n",
      "C:\\Users\\user\\AppData\\Local\\Temp\\ipykernel_20072\\1152688266.py:4: FutureWarning: The frame.append method is deprecated and will be removed from pandas in a future version. Use pandas.concat instead.\n",
      "  GyeonGiHap2 = GyeonGiHap2.append({'년월' :'202101-202106'  , '시구' : '{}'.format(City) , '시군구' : '{}'.format(SIGUNGU[i]) , '계약구분' : '일반용' , '고객호수(호)' : sum3[i] ,  '사용량(kWh)' : sum2[i]} , ignore_index=True) #년월 파일마다 수정하기\n",
      "C:\\Users\\user\\AppData\\Local\\Temp\\ipykernel_20072\\1152688266.py:4: FutureWarning: The frame.append method is deprecated and will be removed from pandas in a future version. Use pandas.concat instead.\n",
      "  GyeonGiHap2 = GyeonGiHap2.append({'년월' :'202101-202106'  , '시구' : '{}'.format(City) , '시군구' : '{}'.format(SIGUNGU[i]) , '계약구분' : '일반용' , '고객호수(호)' : sum3[i] ,  '사용량(kWh)' : sum2[i]} , ignore_index=True) #년월 파일마다 수정하기\n",
      "C:\\Users\\user\\AppData\\Local\\Temp\\ipykernel_20072\\1152688266.py:4: FutureWarning: The frame.append method is deprecated and will be removed from pandas in a future version. Use pandas.concat instead.\n",
      "  GyeonGiHap2 = GyeonGiHap2.append({'년월' :'202101-202106'  , '시구' : '{}'.format(City) , '시군구' : '{}'.format(SIGUNGU[i]) , '계약구분' : '일반용' , '고객호수(호)' : sum3[i] ,  '사용량(kWh)' : sum2[i]} , ignore_index=True) #년월 파일마다 수정하기\n",
      "C:\\Users\\user\\AppData\\Local\\Temp\\ipykernel_20072\\1152688266.py:4: FutureWarning: The frame.append method is deprecated and will be removed from pandas in a future version. Use pandas.concat instead.\n",
      "  GyeonGiHap2 = GyeonGiHap2.append({'년월' :'202101-202106'  , '시구' : '{}'.format(City) , '시군구' : '{}'.format(SIGUNGU[i]) , '계약구분' : '일반용' , '고객호수(호)' : sum3[i] ,  '사용량(kWh)' : sum2[i]} , ignore_index=True) #년월 파일마다 수정하기\n"
     ]
    },
    {
     "data": {
      "text/plain": "               년월     시구  시군구 계약구분  고객호수(호)     사용량(kWh)\n0          202101  대구광역시   남구  일반용  12,069   30,006,425 \n1          202102  대구광역시   남구  일반용  12,084   28,463,856 \n2          202103  대구광역시   남구  일반용  12,065   23,801,614 \n3          202104  대구광역시   남구  일반용  12,094   23,155,818 \n4          202105  대구광역시   남구  일반용  12,081   22,176,462 \n5          202106  대구광역시   남구  일반용  12,081   24,847,720 \n6          202101  대구광역시  달서구  일반용  28,877   84,654,645 \n7          202102  대구광역시  달서구  일반용  28,837   79,341,620 \n8          202103  대구광역시  달서구  일반용  28,808   66,387,503 \n9          202104  대구광역시  달서구  일반용  28,806   64,429,940 \n10         202105  대구광역시  달서구  일반용  28,839   61,704,042 \n11         202106  대구광역시  달서구  일반용  28,853   69,381,508 \n12         202101  대구광역시  달성군  일반용  13,631   40,686,362 \n13         202102  대구광역시  달성군  일반용  13,642   37,791,128 \n14         202103  대구광역시  달성군  일반용  13,631   27,963,030 \n15         202104  대구광역시  달성군  일반용  13,706   27,391,546 \n16         202105  대구광역시  달성군  일반용  13,751   26,147,640 \n17         202106  대구광역시  달성군  일반용  13,782   28,928,549 \n18         202101  대구광역시   동구  일반용  21,814   73,579,000 \n19         202102  대구광역시   동구  일반용  21,842   67,204,745 \n20         202103  대구광역시   동구  일반용  21,824   58,375,857 \n21         202104  대구광역시   동구  일반용  21,822   55,902,532 \n22         202105  대구광역시   동구  일반용  21,817   54,403,022 \n23         202106  대구광역시   동구  일반용  21,835   60,869,965 \n24         202101  대구광역시   북구  일반용  26,205   77,214,488 \n25         202102  대구광역시   북구  일반용  26,187   70,425,590 \n26         202103  대구광역시   북구  일반용  26,239   60,127,587 \n27         202104  대구광역시   북구  일반용  26,233   58,328,349 \n28         202105  대구광역시   북구  일반용  26,286   55,969,874 \n29         202106  대구광역시   북구  일반용  26,258   62,835,636 \n30         202101  대구광역시   서구  일반용  13,596   29,298,841 \n31         202102  대구광역시   서구  일반용  13,595   28,007,777 \n32         202103  대구광역시   서구  일반용  13,591   22,898,470 \n33         202104  대구광역시   서구  일반용  13,592   21,940,406 \n34         202105  대구광역시   서구  일반용  13,578   20,271,808 \n35         202106  대구광역시   서구  일반용  13,566   22,281,037 \n36         202101  대구광역시  수성구  일반용  24,357   71,453,989 \n37         202102  대구광역시  수성구  일반용  24,394   65,923,117 \n38         202103  대구광역시  수성구  일반용  24,424   55,149,695 \n39         202104  대구광역시  수성구  일반용  24,442   52,613,817 \n40         202105  대구광역시  수성구  일반용  24,511   50,028,278 \n41         202106  대구광역시  수성구  일반용  24,572   56,051,820 \n42         202101  대구광역시   중구  일반용  14,645   49,600,619 \n43         202102  대구광역시   중구  일반용  14,627   43,740,959 \n44         202103  대구광역시   중구  일반용  14,594   37,263,048 \n45         202104  대구광역시   중구  일반용  14,559   34,807,597 \n46         202105  대구광역시   중구  일반용  14,557   34,471,444 \n47         202106  대구광역시   중구  일반용  14,513   39,839,522 \n48  202101-202106  대구광역시   남구  일반용    12079    152451895\n49  202101-202106  대구광역시  달서구  일반용    28836    425899258\n50  202101-202106  대구광역시  달성군  일반용    13690    188908255\n51  202101-202106  대구광역시   동구  일반용    21825    370335121\n52  202101-202106  대구광역시   북구  일반용    26234    384901524\n53  202101-202106  대구광역시   서구  일반용    13586    144698339\n54  202101-202106  대구광역시  수성구  일반용    24450    351220716\n55  202101-202106  대구광역시   중구  일반용    14582    239723189",
      "text/html": "<div>\n<style scoped>\n    .dataframe tbody tr th:only-of-type {\n        vertical-align: middle;\n    }\n\n    .dataframe tbody tr th {\n        vertical-align: top;\n    }\n\n    .dataframe thead th {\n        text-align: right;\n    }\n</style>\n<table border=\"1\" class=\"dataframe\">\n  <thead>\n    <tr style=\"text-align: right;\">\n      <th></th>\n      <th>년월</th>\n      <th>시구</th>\n      <th>시군구</th>\n      <th>계약구분</th>\n      <th>고객호수(호)</th>\n      <th>사용량(kWh)</th>\n    </tr>\n  </thead>\n  <tbody>\n    <tr>\n      <th>0</th>\n      <td>202101</td>\n      <td>대구광역시</td>\n      <td>남구</td>\n      <td>일반용</td>\n      <td>12,069</td>\n      <td>30,006,425</td>\n    </tr>\n    <tr>\n      <th>1</th>\n      <td>202102</td>\n      <td>대구광역시</td>\n      <td>남구</td>\n      <td>일반용</td>\n      <td>12,084</td>\n      <td>28,463,856</td>\n    </tr>\n    <tr>\n      <th>2</th>\n      <td>202103</td>\n      <td>대구광역시</td>\n      <td>남구</td>\n      <td>일반용</td>\n      <td>12,065</td>\n      <td>23,801,614</td>\n    </tr>\n    <tr>\n      <th>3</th>\n      <td>202104</td>\n      <td>대구광역시</td>\n      <td>남구</td>\n      <td>일반용</td>\n      <td>12,094</td>\n      <td>23,155,818</td>\n    </tr>\n    <tr>\n      <th>4</th>\n      <td>202105</td>\n      <td>대구광역시</td>\n      <td>남구</td>\n      <td>일반용</td>\n      <td>12,081</td>\n      <td>22,176,462</td>\n    </tr>\n    <tr>\n      <th>5</th>\n      <td>202106</td>\n      <td>대구광역시</td>\n      <td>남구</td>\n      <td>일반용</td>\n      <td>12,081</td>\n      <td>24,847,720</td>\n    </tr>\n    <tr>\n      <th>6</th>\n      <td>202101</td>\n      <td>대구광역시</td>\n      <td>달서구</td>\n      <td>일반용</td>\n      <td>28,877</td>\n      <td>84,654,645</td>\n    </tr>\n    <tr>\n      <th>7</th>\n      <td>202102</td>\n      <td>대구광역시</td>\n      <td>달서구</td>\n      <td>일반용</td>\n      <td>28,837</td>\n      <td>79,341,620</td>\n    </tr>\n    <tr>\n      <th>8</th>\n      <td>202103</td>\n      <td>대구광역시</td>\n      <td>달서구</td>\n      <td>일반용</td>\n      <td>28,808</td>\n      <td>66,387,503</td>\n    </tr>\n    <tr>\n      <th>9</th>\n      <td>202104</td>\n      <td>대구광역시</td>\n      <td>달서구</td>\n      <td>일반용</td>\n      <td>28,806</td>\n      <td>64,429,940</td>\n    </tr>\n    <tr>\n      <th>10</th>\n      <td>202105</td>\n      <td>대구광역시</td>\n      <td>달서구</td>\n      <td>일반용</td>\n      <td>28,839</td>\n      <td>61,704,042</td>\n    </tr>\n    <tr>\n      <th>11</th>\n      <td>202106</td>\n      <td>대구광역시</td>\n      <td>달서구</td>\n      <td>일반용</td>\n      <td>28,853</td>\n      <td>69,381,508</td>\n    </tr>\n    <tr>\n      <th>12</th>\n      <td>202101</td>\n      <td>대구광역시</td>\n      <td>달성군</td>\n      <td>일반용</td>\n      <td>13,631</td>\n      <td>40,686,362</td>\n    </tr>\n    <tr>\n      <th>13</th>\n      <td>202102</td>\n      <td>대구광역시</td>\n      <td>달성군</td>\n      <td>일반용</td>\n      <td>13,642</td>\n      <td>37,791,128</td>\n    </tr>\n    <tr>\n      <th>14</th>\n      <td>202103</td>\n      <td>대구광역시</td>\n      <td>달성군</td>\n      <td>일반용</td>\n      <td>13,631</td>\n      <td>27,963,030</td>\n    </tr>\n    <tr>\n      <th>15</th>\n      <td>202104</td>\n      <td>대구광역시</td>\n      <td>달성군</td>\n      <td>일반용</td>\n      <td>13,706</td>\n      <td>27,391,546</td>\n    </tr>\n    <tr>\n      <th>16</th>\n      <td>202105</td>\n      <td>대구광역시</td>\n      <td>달성군</td>\n      <td>일반용</td>\n      <td>13,751</td>\n      <td>26,147,640</td>\n    </tr>\n    <tr>\n      <th>17</th>\n      <td>202106</td>\n      <td>대구광역시</td>\n      <td>달성군</td>\n      <td>일반용</td>\n      <td>13,782</td>\n      <td>28,928,549</td>\n    </tr>\n    <tr>\n      <th>18</th>\n      <td>202101</td>\n      <td>대구광역시</td>\n      <td>동구</td>\n      <td>일반용</td>\n      <td>21,814</td>\n      <td>73,579,000</td>\n    </tr>\n    <tr>\n      <th>19</th>\n      <td>202102</td>\n      <td>대구광역시</td>\n      <td>동구</td>\n      <td>일반용</td>\n      <td>21,842</td>\n      <td>67,204,745</td>\n    </tr>\n    <tr>\n      <th>20</th>\n      <td>202103</td>\n      <td>대구광역시</td>\n      <td>동구</td>\n      <td>일반용</td>\n      <td>21,824</td>\n      <td>58,375,857</td>\n    </tr>\n    <tr>\n      <th>21</th>\n      <td>202104</td>\n      <td>대구광역시</td>\n      <td>동구</td>\n      <td>일반용</td>\n      <td>21,822</td>\n      <td>55,902,532</td>\n    </tr>\n    <tr>\n      <th>22</th>\n      <td>202105</td>\n      <td>대구광역시</td>\n      <td>동구</td>\n      <td>일반용</td>\n      <td>21,817</td>\n      <td>54,403,022</td>\n    </tr>\n    <tr>\n      <th>23</th>\n      <td>202106</td>\n      <td>대구광역시</td>\n      <td>동구</td>\n      <td>일반용</td>\n      <td>21,835</td>\n      <td>60,869,965</td>\n    </tr>\n    <tr>\n      <th>24</th>\n      <td>202101</td>\n      <td>대구광역시</td>\n      <td>북구</td>\n      <td>일반용</td>\n      <td>26,205</td>\n      <td>77,214,488</td>\n    </tr>\n    <tr>\n      <th>25</th>\n      <td>202102</td>\n      <td>대구광역시</td>\n      <td>북구</td>\n      <td>일반용</td>\n      <td>26,187</td>\n      <td>70,425,590</td>\n    </tr>\n    <tr>\n      <th>26</th>\n      <td>202103</td>\n      <td>대구광역시</td>\n      <td>북구</td>\n      <td>일반용</td>\n      <td>26,239</td>\n      <td>60,127,587</td>\n    </tr>\n    <tr>\n      <th>27</th>\n      <td>202104</td>\n      <td>대구광역시</td>\n      <td>북구</td>\n      <td>일반용</td>\n      <td>26,233</td>\n      <td>58,328,349</td>\n    </tr>\n    <tr>\n      <th>28</th>\n      <td>202105</td>\n      <td>대구광역시</td>\n      <td>북구</td>\n      <td>일반용</td>\n      <td>26,286</td>\n      <td>55,969,874</td>\n    </tr>\n    <tr>\n      <th>29</th>\n      <td>202106</td>\n      <td>대구광역시</td>\n      <td>북구</td>\n      <td>일반용</td>\n      <td>26,258</td>\n      <td>62,835,636</td>\n    </tr>\n    <tr>\n      <th>30</th>\n      <td>202101</td>\n      <td>대구광역시</td>\n      <td>서구</td>\n      <td>일반용</td>\n      <td>13,596</td>\n      <td>29,298,841</td>\n    </tr>\n    <tr>\n      <th>31</th>\n      <td>202102</td>\n      <td>대구광역시</td>\n      <td>서구</td>\n      <td>일반용</td>\n      <td>13,595</td>\n      <td>28,007,777</td>\n    </tr>\n    <tr>\n      <th>32</th>\n      <td>202103</td>\n      <td>대구광역시</td>\n      <td>서구</td>\n      <td>일반용</td>\n      <td>13,591</td>\n      <td>22,898,470</td>\n    </tr>\n    <tr>\n      <th>33</th>\n      <td>202104</td>\n      <td>대구광역시</td>\n      <td>서구</td>\n      <td>일반용</td>\n      <td>13,592</td>\n      <td>21,940,406</td>\n    </tr>\n    <tr>\n      <th>34</th>\n      <td>202105</td>\n      <td>대구광역시</td>\n      <td>서구</td>\n      <td>일반용</td>\n      <td>13,578</td>\n      <td>20,271,808</td>\n    </tr>\n    <tr>\n      <th>35</th>\n      <td>202106</td>\n      <td>대구광역시</td>\n      <td>서구</td>\n      <td>일반용</td>\n      <td>13,566</td>\n      <td>22,281,037</td>\n    </tr>\n    <tr>\n      <th>36</th>\n      <td>202101</td>\n      <td>대구광역시</td>\n      <td>수성구</td>\n      <td>일반용</td>\n      <td>24,357</td>\n      <td>71,453,989</td>\n    </tr>\n    <tr>\n      <th>37</th>\n      <td>202102</td>\n      <td>대구광역시</td>\n      <td>수성구</td>\n      <td>일반용</td>\n      <td>24,394</td>\n      <td>65,923,117</td>\n    </tr>\n    <tr>\n      <th>38</th>\n      <td>202103</td>\n      <td>대구광역시</td>\n      <td>수성구</td>\n      <td>일반용</td>\n      <td>24,424</td>\n      <td>55,149,695</td>\n    </tr>\n    <tr>\n      <th>39</th>\n      <td>202104</td>\n      <td>대구광역시</td>\n      <td>수성구</td>\n      <td>일반용</td>\n      <td>24,442</td>\n      <td>52,613,817</td>\n    </tr>\n    <tr>\n      <th>40</th>\n      <td>202105</td>\n      <td>대구광역시</td>\n      <td>수성구</td>\n      <td>일반용</td>\n      <td>24,511</td>\n      <td>50,028,278</td>\n    </tr>\n    <tr>\n      <th>41</th>\n      <td>202106</td>\n      <td>대구광역시</td>\n      <td>수성구</td>\n      <td>일반용</td>\n      <td>24,572</td>\n      <td>56,051,820</td>\n    </tr>\n    <tr>\n      <th>42</th>\n      <td>202101</td>\n      <td>대구광역시</td>\n      <td>중구</td>\n      <td>일반용</td>\n      <td>14,645</td>\n      <td>49,600,619</td>\n    </tr>\n    <tr>\n      <th>43</th>\n      <td>202102</td>\n      <td>대구광역시</td>\n      <td>중구</td>\n      <td>일반용</td>\n      <td>14,627</td>\n      <td>43,740,959</td>\n    </tr>\n    <tr>\n      <th>44</th>\n      <td>202103</td>\n      <td>대구광역시</td>\n      <td>중구</td>\n      <td>일반용</td>\n      <td>14,594</td>\n      <td>37,263,048</td>\n    </tr>\n    <tr>\n      <th>45</th>\n      <td>202104</td>\n      <td>대구광역시</td>\n      <td>중구</td>\n      <td>일반용</td>\n      <td>14,559</td>\n      <td>34,807,597</td>\n    </tr>\n    <tr>\n      <th>46</th>\n      <td>202105</td>\n      <td>대구광역시</td>\n      <td>중구</td>\n      <td>일반용</td>\n      <td>14,557</td>\n      <td>34,471,444</td>\n    </tr>\n    <tr>\n      <th>47</th>\n      <td>202106</td>\n      <td>대구광역시</td>\n      <td>중구</td>\n      <td>일반용</td>\n      <td>14,513</td>\n      <td>39,839,522</td>\n    </tr>\n    <tr>\n      <th>48</th>\n      <td>202101-202106</td>\n      <td>대구광역시</td>\n      <td>남구</td>\n      <td>일반용</td>\n      <td>12079</td>\n      <td>152451895</td>\n    </tr>\n    <tr>\n      <th>49</th>\n      <td>202101-202106</td>\n      <td>대구광역시</td>\n      <td>달서구</td>\n      <td>일반용</td>\n      <td>28836</td>\n      <td>425899258</td>\n    </tr>\n    <tr>\n      <th>50</th>\n      <td>202101-202106</td>\n      <td>대구광역시</td>\n      <td>달성군</td>\n      <td>일반용</td>\n      <td>13690</td>\n      <td>188908255</td>\n    </tr>\n    <tr>\n      <th>51</th>\n      <td>202101-202106</td>\n      <td>대구광역시</td>\n      <td>동구</td>\n      <td>일반용</td>\n      <td>21825</td>\n      <td>370335121</td>\n    </tr>\n    <tr>\n      <th>52</th>\n      <td>202101-202106</td>\n      <td>대구광역시</td>\n      <td>북구</td>\n      <td>일반용</td>\n      <td>26234</td>\n      <td>384901524</td>\n    </tr>\n    <tr>\n      <th>53</th>\n      <td>202101-202106</td>\n      <td>대구광역시</td>\n      <td>서구</td>\n      <td>일반용</td>\n      <td>13586</td>\n      <td>144698339</td>\n    </tr>\n    <tr>\n      <th>54</th>\n      <td>202101-202106</td>\n      <td>대구광역시</td>\n      <td>수성구</td>\n      <td>일반용</td>\n      <td>24450</td>\n      <td>351220716</td>\n    </tr>\n    <tr>\n      <th>55</th>\n      <td>202101-202106</td>\n      <td>대구광역시</td>\n      <td>중구</td>\n      <td>일반용</td>\n      <td>14582</td>\n      <td>239723189</td>\n    </tr>\n  </tbody>\n</table>\n</div>"
     },
     "execution_count": 25,
     "metadata": {},
     "output_type": "execute_result"
    }
   ],
   "source": [
    "GyeonGiHap2 = df_3.copy()\n",
    "GyeonGiHap2.reset_index(drop=True , inplace = True)\n",
    "for i in range(len(SIGUNGU)):\n",
    "    GyeonGiHap2 = GyeonGiHap2.append({'년월' :'202101-202106'  , '시구' : '{}'.format(City) , '시군구' : '{}'.format(SIGUNGU[i]) , '계약구분' : '일반용' , '고객호수(호)' : sum3[i] ,  '사용량(kWh)' : sum2[i]} , ignore_index=True) #년월 파일마다 수정하기\n",
    "GyeonGiHap2"
   ],
   "metadata": {
    "collapsed": false,
    "pycharm": {
     "name": "#%%\n"
    }
   }
  },
  {
   "cell_type": "markdown",
   "source": [
    "### 5. 날짜 체크!!!!!!!!!!!!!!!!!!!!!!!!!!!!!!!!!!!!!!!!!!!!!!!!!!!!"
   ],
   "metadata": {
    "collapsed": false,
    "pycharm": {
     "name": "#%% md\n"
    }
   }
  },
  {
   "cell_type": "code",
   "execution_count": 26,
   "outputs": [
    {
     "data": {
      "text/plain": "               년월     시구  시군구 계약구분 고객호수(호)   사용량(kWh)\n48  202101-202106  대구광역시   남구  일반용   12079  152451895\n49  202101-202106  대구광역시  달서구  일반용   28836  425899258\n50  202101-202106  대구광역시  달성군  일반용   13690  188908255\n51  202101-202106  대구광역시   동구  일반용   21825  370335121\n52  202101-202106  대구광역시   북구  일반용   26234  384901524\n53  202101-202106  대구광역시   서구  일반용   13586  144698339\n54  202101-202106  대구광역시  수성구  일반용   24450  351220716\n55  202101-202106  대구광역시   중구  일반용   14582  239723189",
      "text/html": "<div>\n<style scoped>\n    .dataframe tbody tr th:only-of-type {\n        vertical-align: middle;\n    }\n\n    .dataframe tbody tr th {\n        vertical-align: top;\n    }\n\n    .dataframe thead th {\n        text-align: right;\n    }\n</style>\n<table border=\"1\" class=\"dataframe\">\n  <thead>\n    <tr style=\"text-align: right;\">\n      <th></th>\n      <th>년월</th>\n      <th>시구</th>\n      <th>시군구</th>\n      <th>계약구분</th>\n      <th>고객호수(호)</th>\n      <th>사용량(kWh)</th>\n    </tr>\n  </thead>\n  <tbody>\n    <tr>\n      <th>48</th>\n      <td>202101-202106</td>\n      <td>대구광역시</td>\n      <td>남구</td>\n      <td>일반용</td>\n      <td>12079</td>\n      <td>152451895</td>\n    </tr>\n    <tr>\n      <th>49</th>\n      <td>202101-202106</td>\n      <td>대구광역시</td>\n      <td>달서구</td>\n      <td>일반용</td>\n      <td>28836</td>\n      <td>425899258</td>\n    </tr>\n    <tr>\n      <th>50</th>\n      <td>202101-202106</td>\n      <td>대구광역시</td>\n      <td>달성군</td>\n      <td>일반용</td>\n      <td>13690</td>\n      <td>188908255</td>\n    </tr>\n    <tr>\n      <th>51</th>\n      <td>202101-202106</td>\n      <td>대구광역시</td>\n      <td>동구</td>\n      <td>일반용</td>\n      <td>21825</td>\n      <td>370335121</td>\n    </tr>\n    <tr>\n      <th>52</th>\n      <td>202101-202106</td>\n      <td>대구광역시</td>\n      <td>북구</td>\n      <td>일반용</td>\n      <td>26234</td>\n      <td>384901524</td>\n    </tr>\n    <tr>\n      <th>53</th>\n      <td>202101-202106</td>\n      <td>대구광역시</td>\n      <td>서구</td>\n      <td>일반용</td>\n      <td>13586</td>\n      <td>144698339</td>\n    </tr>\n    <tr>\n      <th>54</th>\n      <td>202101-202106</td>\n      <td>대구광역시</td>\n      <td>수성구</td>\n      <td>일반용</td>\n      <td>24450</td>\n      <td>351220716</td>\n    </tr>\n    <tr>\n      <th>55</th>\n      <td>202101-202106</td>\n      <td>대구광역시</td>\n      <td>중구</td>\n      <td>일반용</td>\n      <td>14582</td>\n      <td>239723189</td>\n    </tr>\n  </tbody>\n</table>\n</div>"
     },
     "execution_count": 26,
     "metadata": {},
     "output_type": "execute_result"
    }
   ],
   "source": [
    "GyeonGiHap2 = GyeonGiHap2.loc[GyeonGiHap2['년월'] == '202101-202106']\n",
    "GyeonGiHap2"
   ],
   "metadata": {
    "collapsed": false,
    "pycharm": {
     "name": "#%%\n"
    }
   }
  },
  {
   "cell_type": "code",
   "execution_count": 27,
   "outputs": [
    {
     "data": {
      "text/plain": "               년월     시구  시군구 계약구분 고객호수(호)    사용량(kWh)\n48  202101-202106  대구광역시   남구  일반용   12079   152451895\n48  202101-202106  대구광역시   남구   합계   16514   293267499\n49  202101-202106  대구광역시  달서구  일반용   28836   425899258\n49  202101-202106  대구광역시  달서구   합계   28761  1920044302\n50  202101-202106  대구광역시  달성군  일반용   13690   188908255\n50  202101-202106  대구광역시  달성군   합계   13362  1898086884\n51  202101-202106  대구광역시   동구  일반용   21825   370335121\n51  202101-202106  대구광역시   동구   합계   24758   741062773\n52  202101-202106  대구광역시   북구  일반용   26234   384901524\n52  202101-202106  대구광역시   북구   합계   24837  1143072257\n53  202101-202106  대구광역시   서구  일반용   13586   144698339\n53  202101-202106  대구광역시   서구   합계   17079   460769995\n54  202101-202106  대구광역시  수성구  일반용   24450   351220716\n54  202101-202106  대구광역시  수성구   합계   21074   817778857\n55  202101-202106  대구광역시   중구  일반용   14582   239723189\n55  202101-202106  대구광역시   중구   합계    8465   331483251",
      "text/html": "<div>\n<style scoped>\n    .dataframe tbody tr th:only-of-type {\n        vertical-align: middle;\n    }\n\n    .dataframe tbody tr th {\n        vertical-align: top;\n    }\n\n    .dataframe thead th {\n        text-align: right;\n    }\n</style>\n<table border=\"1\" class=\"dataframe\">\n  <thead>\n    <tr style=\"text-align: right;\">\n      <th></th>\n      <th>년월</th>\n      <th>시구</th>\n      <th>시군구</th>\n      <th>계약구분</th>\n      <th>고객호수(호)</th>\n      <th>사용량(kWh)</th>\n    </tr>\n  </thead>\n  <tbody>\n    <tr>\n      <th>48</th>\n      <td>202101-202106</td>\n      <td>대구광역시</td>\n      <td>남구</td>\n      <td>일반용</td>\n      <td>12079</td>\n      <td>152451895</td>\n    </tr>\n    <tr>\n      <th>48</th>\n      <td>202101-202106</td>\n      <td>대구광역시</td>\n      <td>남구</td>\n      <td>합계</td>\n      <td>16514</td>\n      <td>293267499</td>\n    </tr>\n    <tr>\n      <th>49</th>\n      <td>202101-202106</td>\n      <td>대구광역시</td>\n      <td>달서구</td>\n      <td>일반용</td>\n      <td>28836</td>\n      <td>425899258</td>\n    </tr>\n    <tr>\n      <th>49</th>\n      <td>202101-202106</td>\n      <td>대구광역시</td>\n      <td>달서구</td>\n      <td>합계</td>\n      <td>28761</td>\n      <td>1920044302</td>\n    </tr>\n    <tr>\n      <th>50</th>\n      <td>202101-202106</td>\n      <td>대구광역시</td>\n      <td>달성군</td>\n      <td>일반용</td>\n      <td>13690</td>\n      <td>188908255</td>\n    </tr>\n    <tr>\n      <th>50</th>\n      <td>202101-202106</td>\n      <td>대구광역시</td>\n      <td>달성군</td>\n      <td>합계</td>\n      <td>13362</td>\n      <td>1898086884</td>\n    </tr>\n    <tr>\n      <th>51</th>\n      <td>202101-202106</td>\n      <td>대구광역시</td>\n      <td>동구</td>\n      <td>일반용</td>\n      <td>21825</td>\n      <td>370335121</td>\n    </tr>\n    <tr>\n      <th>51</th>\n      <td>202101-202106</td>\n      <td>대구광역시</td>\n      <td>동구</td>\n      <td>합계</td>\n      <td>24758</td>\n      <td>741062773</td>\n    </tr>\n    <tr>\n      <th>52</th>\n      <td>202101-202106</td>\n      <td>대구광역시</td>\n      <td>북구</td>\n      <td>일반용</td>\n      <td>26234</td>\n      <td>384901524</td>\n    </tr>\n    <tr>\n      <th>52</th>\n      <td>202101-202106</td>\n      <td>대구광역시</td>\n      <td>북구</td>\n      <td>합계</td>\n      <td>24837</td>\n      <td>1143072257</td>\n    </tr>\n    <tr>\n      <th>53</th>\n      <td>202101-202106</td>\n      <td>대구광역시</td>\n      <td>서구</td>\n      <td>일반용</td>\n      <td>13586</td>\n      <td>144698339</td>\n    </tr>\n    <tr>\n      <th>53</th>\n      <td>202101-202106</td>\n      <td>대구광역시</td>\n      <td>서구</td>\n      <td>합계</td>\n      <td>17079</td>\n      <td>460769995</td>\n    </tr>\n    <tr>\n      <th>54</th>\n      <td>202101-202106</td>\n      <td>대구광역시</td>\n      <td>수성구</td>\n      <td>일반용</td>\n      <td>24450</td>\n      <td>351220716</td>\n    </tr>\n    <tr>\n      <th>54</th>\n      <td>202101-202106</td>\n      <td>대구광역시</td>\n      <td>수성구</td>\n      <td>합계</td>\n      <td>21074</td>\n      <td>817778857</td>\n    </tr>\n    <tr>\n      <th>55</th>\n      <td>202101-202106</td>\n      <td>대구광역시</td>\n      <td>중구</td>\n      <td>일반용</td>\n      <td>14582</td>\n      <td>239723189</td>\n    </tr>\n    <tr>\n      <th>55</th>\n      <td>202101-202106</td>\n      <td>대구광역시</td>\n      <td>중구</td>\n      <td>합계</td>\n      <td>8465</td>\n      <td>331483251</td>\n    </tr>\n  </tbody>\n</table>\n</div>"
     },
     "execution_count": 27,
     "metadata": {},
     "output_type": "execute_result"
    }
   ],
   "source": [
    "Final = pd.concat([GyeonGiHap2 , Hap])\n",
    "Final = Final.sort_values('시군구')\n",
    "Final"
   ],
   "metadata": {
    "collapsed": false,
    "pycharm": {
     "name": "#%%\n"
    }
   }
  },
  {
   "cell_type": "code",
   "execution_count": 28,
   "outputs": [
    {
     "data": {
      "text/plain": "[152451895,\n 425899258,\n 188908255,\n 370335121,\n 384901524,\n 144698339,\n 351220716,\n 239723189]"
     },
     "execution_count": 28,
     "metadata": {},
     "output_type": "execute_result"
    }
   ],
   "source": [
    "# Final['일반용 전기의 비율'] = (Final['사용량(kWh)'].loc[Final['계약구분'] == '일반용']) // (Final['사용량(kWh)'].loc[Final['계약구분'] == '합계'])\n",
    "# Final\n",
    "ex = (Final['사용량(kWh)'].loc[Final['계약구분'] == '일반용']).tolist()\n",
    "\n",
    "\n",
    "ex\n"
   ],
   "metadata": {
    "collapsed": false,
    "pycharm": {
     "name": "#%%\n"
    }
   }
  },
  {
   "cell_type": "code",
   "execution_count": 29,
   "outputs": [
    {
     "data": {
      "text/plain": "[293267499,\n 1920044302,\n 1898086884,\n 741062773,\n 1143072257,\n 460769995,\n 817778857,\n 331483251]"
     },
     "execution_count": 29,
     "metadata": {},
     "output_type": "execute_result"
    }
   ],
   "source": [
    "ex_2 =(Final['사용량(kWh)'].loc[Final['계약구분'] == '합계']).tolist()\n",
    "ex_2"
   ],
   "metadata": {
    "collapsed": false,
    "pycharm": {
     "name": "#%%\n"
    }
   }
  },
  {
   "cell_type": "code",
   "execution_count": 30,
   "outputs": [
    {
     "name": "stdout",
     "output_type": "stream",
     "text": [
      "[51.98, 22.18, 9.95, 49.97, 33.67, 31.4, 42.95, 72.32]\n"
     ]
    }
   ],
   "source": [
    "Rate = []\n",
    "ilban = []\n",
    "rae = 0\n",
    "for i in range(len(ex)):\n",
    "    rae = round(ex[i] / ex_2[i] *100 ,2)\n",
    "    Rate.append(rae)\n",
    "print(Rate)"
   ],
   "metadata": {
    "collapsed": false,
    "pycharm": {
     "name": "#%%\n"
    }
   }
  },
  {
   "cell_type": "code",
   "execution_count": 31,
   "outputs": [
    {
     "data": {
      "text/plain": "0   52\n1   22\n2   10\n3   50\n4   34\n5   31\n6   43\n7   72\ndtype: float64"
     },
     "execution_count": 31,
     "metadata": {},
     "output_type": "execute_result"
    }
   ],
   "source": [
    "Rate3 = pd.Series(Rate)\n",
    "Rate3\n",
    "\n",
    "# Final = pd.concat([Final , Rate3])\n",
    "# Final"
   ],
   "metadata": {
    "collapsed": false,
    "pycharm": {
     "name": "#%%\n"
    }
   }
  },
  {
   "cell_type": "code",
   "execution_count": 32,
   "outputs": [
    {
     "data": {
      "text/plain": "   시군구 계약구분  비율\n0   남구  일반용  52\n1  달서구  일반용  22\n2  달성군  일반용  10\n3   동구  일반용  50\n4   북구  일반용  34\n5   서구  일반용  31\n6  수성구  일반용  43\n7   중구  일반용  72",
      "text/html": "<div>\n<style scoped>\n    .dataframe tbody tr th:only-of-type {\n        vertical-align: middle;\n    }\n\n    .dataframe tbody tr th {\n        vertical-align: top;\n    }\n\n    .dataframe thead th {\n        text-align: right;\n    }\n</style>\n<table border=\"1\" class=\"dataframe\">\n  <thead>\n    <tr style=\"text-align: right;\">\n      <th></th>\n      <th>시군구</th>\n      <th>계약구분</th>\n      <th>비율</th>\n    </tr>\n  </thead>\n  <tbody>\n    <tr>\n      <th>0</th>\n      <td>남구</td>\n      <td>일반용</td>\n      <td>52</td>\n    </tr>\n    <tr>\n      <th>1</th>\n      <td>달서구</td>\n      <td>일반용</td>\n      <td>22</td>\n    </tr>\n    <tr>\n      <th>2</th>\n      <td>달성군</td>\n      <td>일반용</td>\n      <td>10</td>\n    </tr>\n    <tr>\n      <th>3</th>\n      <td>동구</td>\n      <td>일반용</td>\n      <td>50</td>\n    </tr>\n    <tr>\n      <th>4</th>\n      <td>북구</td>\n      <td>일반용</td>\n      <td>34</td>\n    </tr>\n    <tr>\n      <th>5</th>\n      <td>서구</td>\n      <td>일반용</td>\n      <td>31</td>\n    </tr>\n    <tr>\n      <th>6</th>\n      <td>수성구</td>\n      <td>일반용</td>\n      <td>43</td>\n    </tr>\n    <tr>\n      <th>7</th>\n      <td>중구</td>\n      <td>일반용</td>\n      <td>72</td>\n    </tr>\n  </tbody>\n</table>\n</div>"
     },
     "execution_count": 32,
     "metadata": {},
     "output_type": "execute_result"
    }
   ],
   "source": [
    "for j in range(len(Rate)):\n",
    "    ilban.append('일반용')\n",
    "#print(Rate)\n",
    "\n",
    "Rate2 = pd.DataFrame()\n",
    "Rate2['시군구'] = pd.DataFrame(SIGUNGU)\n",
    "Rate2['계약구분'] = pd.DataFrame(ilban)\n",
    "Rate2['비율'] = pd.DataFrame(Rate)\n",
    "Rate2\n",
    "#print(Rate2.dtypes)"
   ],
   "metadata": {
    "collapsed": false,
    "pycharm": {
     "name": "#%%\n"
    }
   }
  },
  {
   "cell_type": "code",
   "execution_count": 33,
   "outputs": [
    {
     "data": {
      "text/plain": "               년월     시구  시군구 계약구분 고객호수(호)    사용량(kWh)  비율\n0   202101-202106  대구광역시   남구  일반용   12079   152451895  52\n1   202101-202106  대구광역시   남구   합계   16514   293267499 NaN\n2   202101-202106  대구광역시  달서구  일반용   28836   425899258  22\n3   202101-202106  대구광역시  달서구   합계   28761  1920044302 NaN\n4   202101-202106  대구광역시  달성군  일반용   13690   188908255  10\n5   202101-202106  대구광역시  달성군   합계   13362  1898086884 NaN\n6   202101-202106  대구광역시   동구  일반용   21825   370335121  50\n7   202101-202106  대구광역시   동구   합계   24758   741062773 NaN\n8   202101-202106  대구광역시   북구  일반용   26234   384901524  34\n9   202101-202106  대구광역시   북구   합계   24837  1143072257 NaN\n10  202101-202106  대구광역시   서구  일반용   13586   144698339  31\n11  202101-202106  대구광역시   서구   합계   17079   460769995 NaN\n12  202101-202106  대구광역시  수성구  일반용   24450   351220716  43\n13  202101-202106  대구광역시  수성구   합계   21074   817778857 NaN\n14  202101-202106  대구광역시   중구  일반용   14582   239723189  72\n15  202101-202106  대구광역시   중구   합계    8465   331483251 NaN",
      "text/html": "<div>\n<style scoped>\n    .dataframe tbody tr th:only-of-type {\n        vertical-align: middle;\n    }\n\n    .dataframe tbody tr th {\n        vertical-align: top;\n    }\n\n    .dataframe thead th {\n        text-align: right;\n    }\n</style>\n<table border=\"1\" class=\"dataframe\">\n  <thead>\n    <tr style=\"text-align: right;\">\n      <th></th>\n      <th>년월</th>\n      <th>시구</th>\n      <th>시군구</th>\n      <th>계약구분</th>\n      <th>고객호수(호)</th>\n      <th>사용량(kWh)</th>\n      <th>비율</th>\n    </tr>\n  </thead>\n  <tbody>\n    <tr>\n      <th>0</th>\n      <td>202101-202106</td>\n      <td>대구광역시</td>\n      <td>남구</td>\n      <td>일반용</td>\n      <td>12079</td>\n      <td>152451895</td>\n      <td>52</td>\n    </tr>\n    <tr>\n      <th>1</th>\n      <td>202101-202106</td>\n      <td>대구광역시</td>\n      <td>남구</td>\n      <td>합계</td>\n      <td>16514</td>\n      <td>293267499</td>\n      <td>NaN</td>\n    </tr>\n    <tr>\n      <th>2</th>\n      <td>202101-202106</td>\n      <td>대구광역시</td>\n      <td>달서구</td>\n      <td>일반용</td>\n      <td>28836</td>\n      <td>425899258</td>\n      <td>22</td>\n    </tr>\n    <tr>\n      <th>3</th>\n      <td>202101-202106</td>\n      <td>대구광역시</td>\n      <td>달서구</td>\n      <td>합계</td>\n      <td>28761</td>\n      <td>1920044302</td>\n      <td>NaN</td>\n    </tr>\n    <tr>\n      <th>4</th>\n      <td>202101-202106</td>\n      <td>대구광역시</td>\n      <td>달성군</td>\n      <td>일반용</td>\n      <td>13690</td>\n      <td>188908255</td>\n      <td>10</td>\n    </tr>\n    <tr>\n      <th>5</th>\n      <td>202101-202106</td>\n      <td>대구광역시</td>\n      <td>달성군</td>\n      <td>합계</td>\n      <td>13362</td>\n      <td>1898086884</td>\n      <td>NaN</td>\n    </tr>\n    <tr>\n      <th>6</th>\n      <td>202101-202106</td>\n      <td>대구광역시</td>\n      <td>동구</td>\n      <td>일반용</td>\n      <td>21825</td>\n      <td>370335121</td>\n      <td>50</td>\n    </tr>\n    <tr>\n      <th>7</th>\n      <td>202101-202106</td>\n      <td>대구광역시</td>\n      <td>동구</td>\n      <td>합계</td>\n      <td>24758</td>\n      <td>741062773</td>\n      <td>NaN</td>\n    </tr>\n    <tr>\n      <th>8</th>\n      <td>202101-202106</td>\n      <td>대구광역시</td>\n      <td>북구</td>\n      <td>일반용</td>\n      <td>26234</td>\n      <td>384901524</td>\n      <td>34</td>\n    </tr>\n    <tr>\n      <th>9</th>\n      <td>202101-202106</td>\n      <td>대구광역시</td>\n      <td>북구</td>\n      <td>합계</td>\n      <td>24837</td>\n      <td>1143072257</td>\n      <td>NaN</td>\n    </tr>\n    <tr>\n      <th>10</th>\n      <td>202101-202106</td>\n      <td>대구광역시</td>\n      <td>서구</td>\n      <td>일반용</td>\n      <td>13586</td>\n      <td>144698339</td>\n      <td>31</td>\n    </tr>\n    <tr>\n      <th>11</th>\n      <td>202101-202106</td>\n      <td>대구광역시</td>\n      <td>서구</td>\n      <td>합계</td>\n      <td>17079</td>\n      <td>460769995</td>\n      <td>NaN</td>\n    </tr>\n    <tr>\n      <th>12</th>\n      <td>202101-202106</td>\n      <td>대구광역시</td>\n      <td>수성구</td>\n      <td>일반용</td>\n      <td>24450</td>\n      <td>351220716</td>\n      <td>43</td>\n    </tr>\n    <tr>\n      <th>13</th>\n      <td>202101-202106</td>\n      <td>대구광역시</td>\n      <td>수성구</td>\n      <td>합계</td>\n      <td>21074</td>\n      <td>817778857</td>\n      <td>NaN</td>\n    </tr>\n    <tr>\n      <th>14</th>\n      <td>202101-202106</td>\n      <td>대구광역시</td>\n      <td>중구</td>\n      <td>일반용</td>\n      <td>14582</td>\n      <td>239723189</td>\n      <td>72</td>\n    </tr>\n    <tr>\n      <th>15</th>\n      <td>202101-202106</td>\n      <td>대구광역시</td>\n      <td>중구</td>\n      <td>합계</td>\n      <td>8465</td>\n      <td>331483251</td>\n      <td>NaN</td>\n    </tr>\n  </tbody>\n</table>\n</div>"
     },
     "execution_count": 33,
     "metadata": {},
     "output_type": "execute_result"
    }
   ],
   "source": [
    "Final = pd.merge(Final , Rate2, on=['시군구', '계약구분'] , how='left')\n",
    "\n",
    "#Final.drop(['비율_y]' , axis = 1 , inplace = True)\n",
    "#Final.rename(columns={'비율_y':'전체 계약종별 전력사용량 대비 일반용 사용량 비율'})\n",
    "Final = Final.sort_values(['시군구' , '계약구분'])\n",
    "Final"
   ],
   "metadata": {
    "collapsed": false,
    "pycharm": {
     "name": "#%%\n"
    }
   }
  },
  {
   "cell_type": "code",
   "execution_count": 34,
   "outputs": [],
   "source": [
    "# Final['일반용 전기의 비율'] = Final.append(Rate)\n",
    "# Final"
   ],
   "metadata": {
    "collapsed": false,
    "pycharm": {
     "name": "#%%\n"
    }
   }
  },
  {
   "cell_type": "markdown",
   "source": [
    "### 6. 날짜 체크!!!!!!!!!!!!!!!!!!!!1"
   ],
   "metadata": {
    "collapsed": false,
    "pycharm": {
     "name": "#%% md\n"
    }
   }
  },
  {
   "cell_type": "code",
   "execution_count": 35,
   "outputs": [],
   "source": [
    "Final.to_csv(\"{}_일반용_전력사용량_2101-06.csv\".format(City) , mode = 'w' , encoding= 'cp949' , index =False) #파일명 수정"
   ],
   "metadata": {
    "collapsed": false,
    "pycharm": {
     "name": "#%%\n"
    }
   }
  },
  {
   "cell_type": "code",
   "execution_count": 35,
   "outputs": [],
   "source": [],
   "metadata": {
    "collapsed": false,
    "pycharm": {
     "name": "#%%\n"
    }
   }
  },
  {
   "cell_type": "code",
   "execution_count": 36,
   "outputs": [],
   "source": [
    "# Sigu = list(set(df_3['시군구'].tolist()))\n",
    "#\n",
    "# Sigu.sort()\n",
    "#\n",
    "# Sigu"
   ],
   "metadata": {
    "collapsed": false,
    "pycharm": {
     "name": "#%%\n"
    }
   }
  },
  {
   "cell_type": "code",
   "execution_count": 37,
   "outputs": [],
   "source": [
    "# YearMonth = list(set(df_3['년월'].tolist()))\n",
    "#\n",
    "# YearMonth.sort()\n",
    "# YearMonth"
   ],
   "metadata": {
    "collapsed": false,
    "pycharm": {
     "name": "#%%\n"
    }
   }
  },
  {
   "cell_type": "code",
   "execution_count": 38,
   "outputs": [],
   "source": [
    "# Gayeak = list(set(df_3['계약구분'].tolist()))\n",
    "#\n",
    "# Gayeak.sort()\n",
    "# Gayeak"
   ],
   "metadata": {
    "collapsed": false,
    "pycharm": {
     "name": "#%%\n"
    }
   }
  },
  {
   "cell_type": "code",
   "execution_count": 39,
   "outputs": [],
   "source": [
    "# SEOUL = df_3.loc[(df_3['계약구분'] =='일반용')]\n",
    "# SEOUL.drop(['고객호수(호)' ,'전기요금(원)' , '평균판매단가(원/kWh)'] , axis = 1 , inplace = True)\n",
    "# #SEOUL.dtypes(['사용량(kWh)'])\n",
    "# SEOUL"
   ],
   "metadata": {
    "collapsed": false,
    "pycharm": {
     "name": "#%%\n"
    }
   }
  },
  {
   "cell_type": "code",
   "execution_count": 40,
   "outputs": [],
   "source": [
    "#SEOUL.to_csv(\"서울특별시_일반용_전력사용량.csv\" , mode = 'w' , encoding= 'cp949')"
   ],
   "metadata": {
    "collapsed": false,
    "pycharm": {
     "name": "#%%\n"
    }
   }
  },
  {
   "cell_type": "code",
   "execution_count": 41,
   "outputs": [],
   "source": [
    "# print(SEOUL.dtypes)\n",
    "# SEOUL = SEOUL.astype({'사용량(kWh)' : 'float'})"
   ],
   "metadata": {
    "collapsed": false,
    "pycharm": {
     "name": "#%%\n"
    }
   }
  },
  {
   "cell_type": "code",
   "execution_count": 42,
   "outputs": [],
   "source": [
    "# SEOUL"
   ],
   "metadata": {
    "collapsed": false,
    "pycharm": {
     "name": "#%%\n"
    }
   }
  },
  {
   "cell_type": "code",
   "execution_count": 43,
   "outputs": [],
   "source": [
    "# a = SEOUL['사용량(kWh)'].tolist()\n",
    "# int_list = map(int, a)\n",
    "# b=0\n",
    "# for i in int_list:\n",
    "#     b+=i\n",
    "#\n",
    "# print(b)"
   ],
   "metadata": {
    "collapsed": false,
    "pycharm": {
     "name": "#%%\n"
    }
   }
  },
  {
   "cell_type": "code",
   "execution_count": 43,
   "outputs": [],
   "source": [],
   "metadata": {
    "collapsed": false,
    "pycharm": {
     "name": "#%%\n"
    }
   }
  },
  {
   "cell_type": "code",
   "execution_count": 43,
   "outputs": [],
   "source": [],
   "metadata": {
    "collapsed": false,
    "pycharm": {
     "name": "#%%\n"
    }
   }
  },
  {
   "cell_type": "code",
   "execution_count": 43,
   "outputs": [],
   "source": [],
   "metadata": {
    "collapsed": false,
    "pycharm": {
     "name": "#%%\n"
    }
   }
  },
  {
   "cell_type": "code",
   "execution_count": 43,
   "outputs": [],
   "source": [],
   "metadata": {
    "collapsed": false,
    "pycharm": {
     "name": "#%%\n"
    }
   }
  },
  {
   "cell_type": "code",
   "execution_count": 43,
   "outputs": [],
   "source": [],
   "metadata": {
    "collapsed": false,
    "pycharm": {
     "name": "#%%\n"
    }
   }
  },
  {
   "cell_type": "code",
   "execution_count": 43,
   "outputs": [],
   "source": [],
   "metadata": {
    "collapsed": false,
    "pycharm": {
     "name": "#%%\n"
    }
   }
  },
  {
   "cell_type": "code",
   "execution_count": 43,
   "outputs": [],
   "source": [],
   "metadata": {
    "collapsed": false,
    "pycharm": {
     "name": "#%%\n"
    }
   }
  }
 ],
 "metadata": {
  "kernelspec": {
   "display_name": "Python 3",
   "language": "python",
   "name": "python3"
  },
  "language_info": {
   "codemirror_mode": {
    "name": "ipython",
    "version": 2
   },
   "file_extension": ".py",
   "mimetype": "text/x-python",
   "name": "python",
   "nbconvert_exporter": "python",
   "pygments_lexer": "ipython2",
   "version": "2.7.6"
  }
 },
 "nbformat": 4,
 "nbformat_minor": 0
}