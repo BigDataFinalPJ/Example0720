{
 "cells": [
  {
   "cell_type": "markdown",
   "source": [],
   "metadata": {
    "collapsed": false,
    "pycharm": {
     "name": "#%% md\n"
    }
   }
  },
  {
   "cell_type": "code",
   "execution_count": 1,
   "outputs": [],
   "source": [
    "import pandas as pd\n",
    "import re\n",
    "\n",
    "pd.options.display.float_format = '{:.0f}'.format"
   ],
   "metadata": {
    "collapsed": false,
    "pycharm": {
     "name": "#%%\n"
    }
   }
  },
  {
   "cell_type": "markdown",
   "source": [
    "### 1. 꼭 read_csv 21상반기, 19하반기와 같이 맞추어 주세요!!! 또한 지역(전라북도, 남도) 맞추기!!!!!"
   ],
   "metadata": {
    "collapsed": false,
    "pycharm": {
     "name": "#%% md\n"
    }
   }
  },
  {
   "cell_type": "code",
   "execution_count": 2,
   "outputs": [
    {
     "data": {
      "text/plain": "        계약종별 전력사용량 월별( 20220804 현재 ) Unnamed: 1     Unnamed: 2 Unnamed: 3  \\\n0    시도 : 대구광역시, 시군구 : 전체(시 / 군 / 구)        NaN            NaN        NaN   \n1        기간 : 2021년 07 월 ~ 2021년 12월        NaN            NaN        NaN   \n2                                 년월         시구            시군구       계약구분   \n3                             202107      대구광역시  전체(시 / 군 / 구)        주택용   \n4                             202107      대구광역시  전체(시 / 군 / 구)        일반용   \n..                               ...        ...            ...        ...   \n427                           202112      대구광역시             중구        산업용   \n428                           202112      대구광역시             중구        심 야   \n429                           202112      대구광역시             중구        일반용   \n430                           202112      대구광역시             중구        주택용   \n431                           202112      대구광역시             중구         합계   \n\n    Unnamed: 4    Unnamed: 5       Unnamed: 6     Unnamed: 7  \n0          NaN           NaN              NaN            NaN  \n1          NaN           NaN              NaN            NaN  \n2      고객호수(호)      사용량(kWh)          전기요금(원)  평균판매단가(원/kWh)  \n3     655,228   305,971,534   30,267,088,782           98.9   \n4     155,683   416,541,704   59,610,819,370          143.1   \n..         ...           ...              ...            ...  \n427       969     2,417,797      318,387,732          131.7   \n428       769       792,236       61,270,061           77.3   \n429    14,405    41,623,418    5,915,984,367          142.1   \n430    28,600    10,952,431    1,202,521,146          109.8   \n431    49,935    57,921,353    7,715,597,312          133.2   \n\n[432 rows x 8 columns]",
      "text/html": "<div>\n<style scoped>\n    .dataframe tbody tr th:only-of-type {\n        vertical-align: middle;\n    }\n\n    .dataframe tbody tr th {\n        vertical-align: top;\n    }\n\n    .dataframe thead th {\n        text-align: right;\n    }\n</style>\n<table border=\"1\" class=\"dataframe\">\n  <thead>\n    <tr style=\"text-align: right;\">\n      <th></th>\n      <th>계약종별 전력사용량 월별( 20220804 현재 )</th>\n      <th>Unnamed: 1</th>\n      <th>Unnamed: 2</th>\n      <th>Unnamed: 3</th>\n      <th>Unnamed: 4</th>\n      <th>Unnamed: 5</th>\n      <th>Unnamed: 6</th>\n      <th>Unnamed: 7</th>\n    </tr>\n  </thead>\n  <tbody>\n    <tr>\n      <th>0</th>\n      <td>시도 : 대구광역시, 시군구 : 전체(시 / 군 / 구)</td>\n      <td>NaN</td>\n      <td>NaN</td>\n      <td>NaN</td>\n      <td>NaN</td>\n      <td>NaN</td>\n      <td>NaN</td>\n      <td>NaN</td>\n    </tr>\n    <tr>\n      <th>1</th>\n      <td>기간 : 2021년 07 월 ~ 2021년 12월</td>\n      <td>NaN</td>\n      <td>NaN</td>\n      <td>NaN</td>\n      <td>NaN</td>\n      <td>NaN</td>\n      <td>NaN</td>\n      <td>NaN</td>\n    </tr>\n    <tr>\n      <th>2</th>\n      <td>년월</td>\n      <td>시구</td>\n      <td>시군구</td>\n      <td>계약구분</td>\n      <td>고객호수(호)</td>\n      <td>사용량(kWh)</td>\n      <td>전기요금(원)</td>\n      <td>평균판매단가(원/kWh)</td>\n    </tr>\n    <tr>\n      <th>3</th>\n      <td>202107</td>\n      <td>대구광역시</td>\n      <td>전체(시 / 군 / 구)</td>\n      <td>주택용</td>\n      <td>655,228</td>\n      <td>305,971,534</td>\n      <td>30,267,088,782</td>\n      <td>98.9</td>\n    </tr>\n    <tr>\n      <th>4</th>\n      <td>202107</td>\n      <td>대구광역시</td>\n      <td>전체(시 / 군 / 구)</td>\n      <td>일반용</td>\n      <td>155,683</td>\n      <td>416,541,704</td>\n      <td>59,610,819,370</td>\n      <td>143.1</td>\n    </tr>\n    <tr>\n      <th>...</th>\n      <td>...</td>\n      <td>...</td>\n      <td>...</td>\n      <td>...</td>\n      <td>...</td>\n      <td>...</td>\n      <td>...</td>\n      <td>...</td>\n    </tr>\n    <tr>\n      <th>427</th>\n      <td>202112</td>\n      <td>대구광역시</td>\n      <td>중구</td>\n      <td>산업용</td>\n      <td>969</td>\n      <td>2,417,797</td>\n      <td>318,387,732</td>\n      <td>131.7</td>\n    </tr>\n    <tr>\n      <th>428</th>\n      <td>202112</td>\n      <td>대구광역시</td>\n      <td>중구</td>\n      <td>심 야</td>\n      <td>769</td>\n      <td>792,236</td>\n      <td>61,270,061</td>\n      <td>77.3</td>\n    </tr>\n    <tr>\n      <th>429</th>\n      <td>202112</td>\n      <td>대구광역시</td>\n      <td>중구</td>\n      <td>일반용</td>\n      <td>14,405</td>\n      <td>41,623,418</td>\n      <td>5,915,984,367</td>\n      <td>142.1</td>\n    </tr>\n    <tr>\n      <th>430</th>\n      <td>202112</td>\n      <td>대구광역시</td>\n      <td>중구</td>\n      <td>주택용</td>\n      <td>28,600</td>\n      <td>10,952,431</td>\n      <td>1,202,521,146</td>\n      <td>109.8</td>\n    </tr>\n    <tr>\n      <th>431</th>\n      <td>202112</td>\n      <td>대구광역시</td>\n      <td>중구</td>\n      <td>합계</td>\n      <td>49,935</td>\n      <td>57,921,353</td>\n      <td>7,715,597,312</td>\n      <td>133.2</td>\n    </tr>\n  </tbody>\n</table>\n<p>432 rows × 8 columns</p>\n</div>"
     },
     "execution_count": 2,
     "metadata": {},
     "output_type": "execute_result"
    }
   ],
   "source": [
    "df = pd.read_csv('대구광역시_계약종별_전력사용량_월별_21하반기.csv' , encoding='cp949')\n",
    "\n",
    "df\n",
    "#exchng=  pd.read_csv('지역별_전력거래량_20220803093050.csv' , encoding='cp949')"
   ],
   "metadata": {
    "collapsed": false,
    "pycharm": {
     "name": "#%%\n"
    }
   }
  },
  {
   "cell_type": "code",
   "execution_count": 3,
   "outputs": [
    {
     "data": {
      "text/plain": "    계약종별 전력사용량 월별( 20220804 현재 ) Unnamed: 1     Unnamed: 2 Unnamed: 3  \\\n2                             년월         시구            시군구       계약구분   \n3                         202107      대구광역시  전체(시 / 군 / 구)        주택용   \n4                         202107      대구광역시  전체(시 / 군 / 구)        일반용   \n5                         202107      대구광역시  전체(시 / 군 / 구)        교육용   \n6                         202107      대구광역시  전체(시 / 군 / 구)        산업용   \n..                           ...        ...            ...        ...   \n427                       202112      대구광역시             중구        산업용   \n428                       202112      대구광역시             중구        심 야   \n429                       202112      대구광역시             중구        일반용   \n430                       202112      대구광역시             중구        주택용   \n431                       202112      대구광역시             중구         합계   \n\n    Unnamed: 4    Unnamed: 5       Unnamed: 6     Unnamed: 7  \n2      고객호수(호)      사용량(kWh)          전기요금(원)  평균판매단가(원/kWh)  \n3     655,228   305,971,534   30,267,088,782           98.9   \n4     155,683   416,541,704   59,610,819,370          143.1   \n5         818    31,168,122    3,609,219,669          115.8   \n6      20,370   563,550,557   70,071,922,830          124.3   \n..         ...           ...              ...            ...  \n427       969     2,417,797      318,387,732          131.7   \n428       769       792,236       61,270,061           77.3   \n429    14,405    41,623,418    5,915,984,367          142.1   \n430    28,600    10,952,431    1,202,521,146          109.8   \n431    49,935    57,921,353    7,715,597,312          133.2   \n\n[429 rows x 8 columns]",
      "text/html": "<div>\n<style scoped>\n    .dataframe tbody tr th:only-of-type {\n        vertical-align: middle;\n    }\n\n    .dataframe tbody tr th {\n        vertical-align: top;\n    }\n\n    .dataframe thead th {\n        text-align: right;\n    }\n</style>\n<table border=\"1\" class=\"dataframe\">\n  <thead>\n    <tr style=\"text-align: right;\">\n      <th></th>\n      <th>계약종별 전력사용량 월별( 20220804 현재 )</th>\n      <th>Unnamed: 1</th>\n      <th>Unnamed: 2</th>\n      <th>Unnamed: 3</th>\n      <th>Unnamed: 4</th>\n      <th>Unnamed: 5</th>\n      <th>Unnamed: 6</th>\n      <th>Unnamed: 7</th>\n    </tr>\n  </thead>\n  <tbody>\n    <tr>\n      <th>2</th>\n      <td>년월</td>\n      <td>시구</td>\n      <td>시군구</td>\n      <td>계약구분</td>\n      <td>고객호수(호)</td>\n      <td>사용량(kWh)</td>\n      <td>전기요금(원)</td>\n      <td>평균판매단가(원/kWh)</td>\n    </tr>\n    <tr>\n      <th>3</th>\n      <td>202107</td>\n      <td>대구광역시</td>\n      <td>전체(시 / 군 / 구)</td>\n      <td>주택용</td>\n      <td>655,228</td>\n      <td>305,971,534</td>\n      <td>30,267,088,782</td>\n      <td>98.9</td>\n    </tr>\n    <tr>\n      <th>4</th>\n      <td>202107</td>\n      <td>대구광역시</td>\n      <td>전체(시 / 군 / 구)</td>\n      <td>일반용</td>\n      <td>155,683</td>\n      <td>416,541,704</td>\n      <td>59,610,819,370</td>\n      <td>143.1</td>\n    </tr>\n    <tr>\n      <th>5</th>\n      <td>202107</td>\n      <td>대구광역시</td>\n      <td>전체(시 / 군 / 구)</td>\n      <td>교육용</td>\n      <td>818</td>\n      <td>31,168,122</td>\n      <td>3,609,219,669</td>\n      <td>115.8</td>\n    </tr>\n    <tr>\n      <th>6</th>\n      <td>202107</td>\n      <td>대구광역시</td>\n      <td>전체(시 / 군 / 구)</td>\n      <td>산업용</td>\n      <td>20,370</td>\n      <td>563,550,557</td>\n      <td>70,071,922,830</td>\n      <td>124.3</td>\n    </tr>\n    <tr>\n      <th>...</th>\n      <td>...</td>\n      <td>...</td>\n      <td>...</td>\n      <td>...</td>\n      <td>...</td>\n      <td>...</td>\n      <td>...</td>\n      <td>...</td>\n    </tr>\n    <tr>\n      <th>427</th>\n      <td>202112</td>\n      <td>대구광역시</td>\n      <td>중구</td>\n      <td>산업용</td>\n      <td>969</td>\n      <td>2,417,797</td>\n      <td>318,387,732</td>\n      <td>131.7</td>\n    </tr>\n    <tr>\n      <th>428</th>\n      <td>202112</td>\n      <td>대구광역시</td>\n      <td>중구</td>\n      <td>심 야</td>\n      <td>769</td>\n      <td>792,236</td>\n      <td>61,270,061</td>\n      <td>77.3</td>\n    </tr>\n    <tr>\n      <th>429</th>\n      <td>202112</td>\n      <td>대구광역시</td>\n      <td>중구</td>\n      <td>일반용</td>\n      <td>14,405</td>\n      <td>41,623,418</td>\n      <td>5,915,984,367</td>\n      <td>142.1</td>\n    </tr>\n    <tr>\n      <th>430</th>\n      <td>202112</td>\n      <td>대구광역시</td>\n      <td>중구</td>\n      <td>주택용</td>\n      <td>28,600</td>\n      <td>10,952,431</td>\n      <td>1,202,521,146</td>\n      <td>109.8</td>\n    </tr>\n    <tr>\n      <th>431</th>\n      <td>202112</td>\n      <td>대구광역시</td>\n      <td>중구</td>\n      <td>합계</td>\n      <td>49,935</td>\n      <td>57,921,353</td>\n      <td>7,715,597,312</td>\n      <td>133.2</td>\n    </tr>\n  </tbody>\n</table>\n<p>429 rows × 8 columns</p>\n</div>"
     },
     "execution_count": 3,
     "metadata": {},
     "output_type": "execute_result"
    }
   ],
   "source": [
    "df = df.drop([0,1 , 46] , axis = 0)\n",
    "#0,1 , 10은 지우는게 맞다\n",
    "df"
   ],
   "metadata": {
    "collapsed": false,
    "pycharm": {
     "name": "#%%\n"
    }
   }
  },
  {
   "cell_type": "code",
   "execution_count": 4,
   "outputs": [],
   "source": [
    "a= df.loc[2].tolist()\n",
    "a\n",
    "df = df.drop([2] , axis = 0)"
   ],
   "metadata": {
    "collapsed": false,
    "pycharm": {
     "name": "#%%\n"
    }
   }
  },
  {
   "cell_type": "code",
   "execution_count": 5,
   "outputs": [
    {
     "data": {
      "text/plain": "         년월     시구            시군구 계약구분   고객호수(호)      사용량(kWh)  \\\n3    202107  대구광역시  전체(시 / 군 / 구)  주택용  655,228   305,971,534    \n4    202107  대구광역시  전체(시 / 군 / 구)  일반용  155,683   416,541,704    \n5    202107  대구광역시  전체(시 / 군 / 구)  교육용      818    31,168,122    \n6    202107  대구광역시  전체(시 / 군 / 구)  산업용   20,370   563,550,557    \n7    202107  대구광역시  전체(시 / 군 / 구)  농사용   16,190     8,173,733    \n..      ...    ...            ...  ...       ...           ...   \n427  202112  대구광역시             중구  산업용      969     2,417,797    \n428  202112  대구광역시             중구  심 야      769       792,236    \n429  202112  대구광역시             중구  일반용   14,405    41,623,418    \n430  202112  대구광역시             중구  주택용   28,600    10,952,431    \n431  202112  대구광역시             중구   합계   49,935    57,921,353    \n\n             전기요금(원) 평균판매단가(원/kWh)  \n3    30,267,088,782          98.9   \n4    59,610,819,370         143.1   \n5     3,609,219,669         115.8   \n6    70,071,922,830         124.3   \n7       372,936,704          45.6   \n..               ...           ...  \n427     318,387,732         131.7   \n428      61,270,061          77.3   \n429   5,915,984,367         142.1   \n430   1,202,521,146         109.8   \n431   7,715,597,312         133.2   \n\n[428 rows x 8 columns]",
      "text/html": "<div>\n<style scoped>\n    .dataframe tbody tr th:only-of-type {\n        vertical-align: middle;\n    }\n\n    .dataframe tbody tr th {\n        vertical-align: top;\n    }\n\n    .dataframe thead th {\n        text-align: right;\n    }\n</style>\n<table border=\"1\" class=\"dataframe\">\n  <thead>\n    <tr style=\"text-align: right;\">\n      <th></th>\n      <th>년월</th>\n      <th>시구</th>\n      <th>시군구</th>\n      <th>계약구분</th>\n      <th>고객호수(호)</th>\n      <th>사용량(kWh)</th>\n      <th>전기요금(원)</th>\n      <th>평균판매단가(원/kWh)</th>\n    </tr>\n  </thead>\n  <tbody>\n    <tr>\n      <th>3</th>\n      <td>202107</td>\n      <td>대구광역시</td>\n      <td>전체(시 / 군 / 구)</td>\n      <td>주택용</td>\n      <td>655,228</td>\n      <td>305,971,534</td>\n      <td>30,267,088,782</td>\n      <td>98.9</td>\n    </tr>\n    <tr>\n      <th>4</th>\n      <td>202107</td>\n      <td>대구광역시</td>\n      <td>전체(시 / 군 / 구)</td>\n      <td>일반용</td>\n      <td>155,683</td>\n      <td>416,541,704</td>\n      <td>59,610,819,370</td>\n      <td>143.1</td>\n    </tr>\n    <tr>\n      <th>5</th>\n      <td>202107</td>\n      <td>대구광역시</td>\n      <td>전체(시 / 군 / 구)</td>\n      <td>교육용</td>\n      <td>818</td>\n      <td>31,168,122</td>\n      <td>3,609,219,669</td>\n      <td>115.8</td>\n    </tr>\n    <tr>\n      <th>6</th>\n      <td>202107</td>\n      <td>대구광역시</td>\n      <td>전체(시 / 군 / 구)</td>\n      <td>산업용</td>\n      <td>20,370</td>\n      <td>563,550,557</td>\n      <td>70,071,922,830</td>\n      <td>124.3</td>\n    </tr>\n    <tr>\n      <th>7</th>\n      <td>202107</td>\n      <td>대구광역시</td>\n      <td>전체(시 / 군 / 구)</td>\n      <td>농사용</td>\n      <td>16,190</td>\n      <td>8,173,733</td>\n      <td>372,936,704</td>\n      <td>45.6</td>\n    </tr>\n    <tr>\n      <th>...</th>\n      <td>...</td>\n      <td>...</td>\n      <td>...</td>\n      <td>...</td>\n      <td>...</td>\n      <td>...</td>\n      <td>...</td>\n      <td>...</td>\n    </tr>\n    <tr>\n      <th>427</th>\n      <td>202112</td>\n      <td>대구광역시</td>\n      <td>중구</td>\n      <td>산업용</td>\n      <td>969</td>\n      <td>2,417,797</td>\n      <td>318,387,732</td>\n      <td>131.7</td>\n    </tr>\n    <tr>\n      <th>428</th>\n      <td>202112</td>\n      <td>대구광역시</td>\n      <td>중구</td>\n      <td>심 야</td>\n      <td>769</td>\n      <td>792,236</td>\n      <td>61,270,061</td>\n      <td>77.3</td>\n    </tr>\n    <tr>\n      <th>429</th>\n      <td>202112</td>\n      <td>대구광역시</td>\n      <td>중구</td>\n      <td>일반용</td>\n      <td>14,405</td>\n      <td>41,623,418</td>\n      <td>5,915,984,367</td>\n      <td>142.1</td>\n    </tr>\n    <tr>\n      <th>430</th>\n      <td>202112</td>\n      <td>대구광역시</td>\n      <td>중구</td>\n      <td>주택용</td>\n      <td>28,600</td>\n      <td>10,952,431</td>\n      <td>1,202,521,146</td>\n      <td>109.8</td>\n    </tr>\n    <tr>\n      <th>431</th>\n      <td>202112</td>\n      <td>대구광역시</td>\n      <td>중구</td>\n      <td>합계</td>\n      <td>49,935</td>\n      <td>57,921,353</td>\n      <td>7,715,597,312</td>\n      <td>133.2</td>\n    </tr>\n  </tbody>\n</table>\n<p>428 rows × 8 columns</p>\n</div>"
     },
     "execution_count": 5,
     "metadata": {},
     "output_type": "execute_result"
    }
   ],
   "source": [
    "df.columns = a\n",
    "df"
   ],
   "metadata": {
    "collapsed": false,
    "pycharm": {
     "name": "#%%\n"
    }
   }
  },
  {
   "cell_type": "code",
   "execution_count": 6,
   "outputs": [
    {
     "data": {
      "text/plain": "        년월     시구            시군구 계약구분    고객호수(호)       사용량(kWh)  \\\n3   202107  대구광역시  전체(시 / 군 / 구)  주택용   655,228    305,971,534    \n4   202107  대구광역시  전체(시 / 군 / 구)  일반용   155,683    416,541,704    \n5   202107  대구광역시  전체(시 / 군 / 구)  교육용       818     31,168,122    \n6   202107  대구광역시  전체(시 / 군 / 구)  산업용    20,370    563,550,557    \n7   202107  대구광역시  전체(시 / 군 / 구)  농사용    16,190      8,173,733    \n8   202107  대구광역시  전체(시 / 군 / 구)  가로등    64,491      8,831,826    \n9   202107  대구광역시  전체(시 / 군 / 구)  심 야    16,181     10,425,615    \n10  202108  대구광역시  전체(시 / 군 / 구)  주택용   654,598    405,875,524    \n11  202108  대구광역시  전체(시 / 군 / 구)  일반용   155,979    470,788,716    \n12  202108  대구광역시  전체(시 / 군 / 구)  교육용       816     27,845,252    \n13  202108  대구광역시  전체(시 / 군 / 구)  산업용    20,358    528,288,182    \n14  202108  대구광역시  전체(시 / 군 / 구)  농사용    16,281      9,649,502    \n15  202108  대구광역시  전체(시 / 군 / 구)  가로등    64,621      9,343,303    \n16  202108  대구광역시  전체(시 / 군 / 구)  심 야    16,084      9,588,473    \n17  202109  대구광역시  전체(시 / 군 / 구)  주택용   654,272    320,003,989    \n18  202109  대구광역시  전체(시 / 군 / 구)  일반용   156,054    400,311,357    \n19  202109  대구광역시  전체(시 / 군 / 구)  교육용       815     29,610,426    \n20  202109  대구광역시  전체(시 / 군 / 구)  산업용    20,350    525,617,325    \n21  202109  대구광역시  전체(시 / 군 / 구)  농사용    16,348      8,077,953    \n22  202109  대구광역시  전체(시 / 군 / 구)  가로등    64,690      9,915,152    \n23  202109  대구광역시  전체(시 / 군 / 구)  심 야    15,988      7,851,234    \n24  202110  대구광역시  전체(시 / 군 / 구)  주택용   653,893    275,716,761    \n25  202110  대구광역시  전체(시 / 군 / 구)  일반용   156,143    353,440,337    \n26  202110  대구광역시  전체(시 / 군 / 구)  교육용       817     25,606,844    \n27  202110  대구광역시  전체(시 / 군 / 구)  산업용    20,340    497,006,248    \n28  202110  대구광역시  전체(시 / 군 / 구)  농사용    16,387      6,341,480    \n29  202110  대구광역시  전체(시 / 군 / 구)  가로등    64,735     10,635,747    \n30  202110  대구광역시  전체(시 / 군 / 구)  심 야    15,932      6,331,633    \n31  202111  대구광역시  전체(시 / 군 / 구)  주택용   653,548    282,359,870    \n32  202111  대구광역시  전체(시 / 군 / 구)  일반용   156,664    347,538,662    \n33  202111  대구광역시  전체(시 / 군 / 구)  교육용       820     28,119,081    \n34  202111  대구광역시  전체(시 / 군 / 구)  산업용    20,313    532,789,923    \n35  202111  대구광역시  전체(시 / 군 / 구)  농사용    16,808      6,581,780    \n36  202111  대구광역시  전체(시 / 군 / 구)  가로등    64,811     11,515,643    \n37  202111  대구광역시  전체(시 / 군 / 구)  심 야    15,872     12,157,866    \n38  202112  대구광역시  전체(시 / 군 / 구)  주택용   652,976    292,489,989    \n39  202112  대구광역시  전체(시 / 군 / 구)  일반용   157,057    401,298,694    \n40  202112  대구광역시  전체(시 / 군 / 구)  교육용       821     38,056,176    \n41  202112  대구광역시  전체(시 / 군 / 구)  산업용    20,307    564,260,841    \n42  202112  대구광역시  전체(시 / 군 / 구)  농사용    16,414      7,083,292    \n43  202112  대구광역시  전체(시 / 군 / 구)  가로등    64,922     11,954,984    \n44  202112  대구광역시  전체(시 / 군 / 구)  심 야    15,798     19,667,703    \n45      합계     합계             합계   합계  5,571,593  7,838,383,033   \n\n            전기요금(원) 평균판매단가(원/kWh)  \n3   30,267,088,782          98.9   \n4   59,610,819,370         143.1   \n5    3,609,219,669         115.8   \n6   70,071,922,830         124.3   \n7      372,936,704          45.6   \n8    1,022,885,110         115.8   \n9      642,281,992          61.6   \n10  45,115,116,197         111.2   \n11  65,163,608,381         138.4   \n12   3,302,497,476         118.6   \n13  65,556,469,315         124.1   \n14     430,827,359          44.6   \n15   1,052,027,913         112.6   \n16     590,658,913          61.6   \n17  32,033,819,928         100.1   \n18  50,007,070,053         124.9   \n19   2,932,719,672          99.0   \n20  55,118,599,780         104.9   \n21     383,975,062          47.5   \n22   1,091,454,712         110.1   \n23     471,660,728          60.1   \n24  28,282,136,972         102.6   \n25  40,609,602,754         114.9   \n26   2,387,905,293          93.3   \n27  50,714,776,145         102.0   \n28     340,250,686          53.7   \n29   1,159,031,083         109.0   \n30     399,011,720          63.0   \n31  29,534,808,874         104.6   \n32  45,765,771,227         131.7   \n33   3,056,090,869         108.7   \n34  64,141,374,901         120.4   \n35     345,943,926          52.6   \n36   1,231,993,458         107.0   \n37     793,120,163          65.2   \n38  31,225,447,910         106.8   \n39  55,171,036,455         137.5   \n40   3,892,970,317         102.3   \n41  69,456,139,832         123.1   \n42     373,868,535          52.8   \n43   1,264,407,163         105.8   \n44   1,483,134,089          75.4   \n45  920,476,482,318         117.4  ",
      "text/html": "<div>\n<style scoped>\n    .dataframe tbody tr th:only-of-type {\n        vertical-align: middle;\n    }\n\n    .dataframe tbody tr th {\n        vertical-align: top;\n    }\n\n    .dataframe thead th {\n        text-align: right;\n    }\n</style>\n<table border=\"1\" class=\"dataframe\">\n  <thead>\n    <tr style=\"text-align: right;\">\n      <th></th>\n      <th>년월</th>\n      <th>시구</th>\n      <th>시군구</th>\n      <th>계약구분</th>\n      <th>고객호수(호)</th>\n      <th>사용량(kWh)</th>\n      <th>전기요금(원)</th>\n      <th>평균판매단가(원/kWh)</th>\n    </tr>\n  </thead>\n  <tbody>\n    <tr>\n      <th>3</th>\n      <td>202107</td>\n      <td>대구광역시</td>\n      <td>전체(시 / 군 / 구)</td>\n      <td>주택용</td>\n      <td>655,228</td>\n      <td>305,971,534</td>\n      <td>30,267,088,782</td>\n      <td>98.9</td>\n    </tr>\n    <tr>\n      <th>4</th>\n      <td>202107</td>\n      <td>대구광역시</td>\n      <td>전체(시 / 군 / 구)</td>\n      <td>일반용</td>\n      <td>155,683</td>\n      <td>416,541,704</td>\n      <td>59,610,819,370</td>\n      <td>143.1</td>\n    </tr>\n    <tr>\n      <th>5</th>\n      <td>202107</td>\n      <td>대구광역시</td>\n      <td>전체(시 / 군 / 구)</td>\n      <td>교육용</td>\n      <td>818</td>\n      <td>31,168,122</td>\n      <td>3,609,219,669</td>\n      <td>115.8</td>\n    </tr>\n    <tr>\n      <th>6</th>\n      <td>202107</td>\n      <td>대구광역시</td>\n      <td>전체(시 / 군 / 구)</td>\n      <td>산업용</td>\n      <td>20,370</td>\n      <td>563,550,557</td>\n      <td>70,071,922,830</td>\n      <td>124.3</td>\n    </tr>\n    <tr>\n      <th>7</th>\n      <td>202107</td>\n      <td>대구광역시</td>\n      <td>전체(시 / 군 / 구)</td>\n      <td>농사용</td>\n      <td>16,190</td>\n      <td>8,173,733</td>\n      <td>372,936,704</td>\n      <td>45.6</td>\n    </tr>\n    <tr>\n      <th>8</th>\n      <td>202107</td>\n      <td>대구광역시</td>\n      <td>전체(시 / 군 / 구)</td>\n      <td>가로등</td>\n      <td>64,491</td>\n      <td>8,831,826</td>\n      <td>1,022,885,110</td>\n      <td>115.8</td>\n    </tr>\n    <tr>\n      <th>9</th>\n      <td>202107</td>\n      <td>대구광역시</td>\n      <td>전체(시 / 군 / 구)</td>\n      <td>심 야</td>\n      <td>16,181</td>\n      <td>10,425,615</td>\n      <td>642,281,992</td>\n      <td>61.6</td>\n    </tr>\n    <tr>\n      <th>10</th>\n      <td>202108</td>\n      <td>대구광역시</td>\n      <td>전체(시 / 군 / 구)</td>\n      <td>주택용</td>\n      <td>654,598</td>\n      <td>405,875,524</td>\n      <td>45,115,116,197</td>\n      <td>111.2</td>\n    </tr>\n    <tr>\n      <th>11</th>\n      <td>202108</td>\n      <td>대구광역시</td>\n      <td>전체(시 / 군 / 구)</td>\n      <td>일반용</td>\n      <td>155,979</td>\n      <td>470,788,716</td>\n      <td>65,163,608,381</td>\n      <td>138.4</td>\n    </tr>\n    <tr>\n      <th>12</th>\n      <td>202108</td>\n      <td>대구광역시</td>\n      <td>전체(시 / 군 / 구)</td>\n      <td>교육용</td>\n      <td>816</td>\n      <td>27,845,252</td>\n      <td>3,302,497,476</td>\n      <td>118.6</td>\n    </tr>\n    <tr>\n      <th>13</th>\n      <td>202108</td>\n      <td>대구광역시</td>\n      <td>전체(시 / 군 / 구)</td>\n      <td>산업용</td>\n      <td>20,358</td>\n      <td>528,288,182</td>\n      <td>65,556,469,315</td>\n      <td>124.1</td>\n    </tr>\n    <tr>\n      <th>14</th>\n      <td>202108</td>\n      <td>대구광역시</td>\n      <td>전체(시 / 군 / 구)</td>\n      <td>농사용</td>\n      <td>16,281</td>\n      <td>9,649,502</td>\n      <td>430,827,359</td>\n      <td>44.6</td>\n    </tr>\n    <tr>\n      <th>15</th>\n      <td>202108</td>\n      <td>대구광역시</td>\n      <td>전체(시 / 군 / 구)</td>\n      <td>가로등</td>\n      <td>64,621</td>\n      <td>9,343,303</td>\n      <td>1,052,027,913</td>\n      <td>112.6</td>\n    </tr>\n    <tr>\n      <th>16</th>\n      <td>202108</td>\n      <td>대구광역시</td>\n      <td>전체(시 / 군 / 구)</td>\n      <td>심 야</td>\n      <td>16,084</td>\n      <td>9,588,473</td>\n      <td>590,658,913</td>\n      <td>61.6</td>\n    </tr>\n    <tr>\n      <th>17</th>\n      <td>202109</td>\n      <td>대구광역시</td>\n      <td>전체(시 / 군 / 구)</td>\n      <td>주택용</td>\n      <td>654,272</td>\n      <td>320,003,989</td>\n      <td>32,033,819,928</td>\n      <td>100.1</td>\n    </tr>\n    <tr>\n      <th>18</th>\n      <td>202109</td>\n      <td>대구광역시</td>\n      <td>전체(시 / 군 / 구)</td>\n      <td>일반용</td>\n      <td>156,054</td>\n      <td>400,311,357</td>\n      <td>50,007,070,053</td>\n      <td>124.9</td>\n    </tr>\n    <tr>\n      <th>19</th>\n      <td>202109</td>\n      <td>대구광역시</td>\n      <td>전체(시 / 군 / 구)</td>\n      <td>교육용</td>\n      <td>815</td>\n      <td>29,610,426</td>\n      <td>2,932,719,672</td>\n      <td>99.0</td>\n    </tr>\n    <tr>\n      <th>20</th>\n      <td>202109</td>\n      <td>대구광역시</td>\n      <td>전체(시 / 군 / 구)</td>\n      <td>산업용</td>\n      <td>20,350</td>\n      <td>525,617,325</td>\n      <td>55,118,599,780</td>\n      <td>104.9</td>\n    </tr>\n    <tr>\n      <th>21</th>\n      <td>202109</td>\n      <td>대구광역시</td>\n      <td>전체(시 / 군 / 구)</td>\n      <td>농사용</td>\n      <td>16,348</td>\n      <td>8,077,953</td>\n      <td>383,975,062</td>\n      <td>47.5</td>\n    </tr>\n    <tr>\n      <th>22</th>\n      <td>202109</td>\n      <td>대구광역시</td>\n      <td>전체(시 / 군 / 구)</td>\n      <td>가로등</td>\n      <td>64,690</td>\n      <td>9,915,152</td>\n      <td>1,091,454,712</td>\n      <td>110.1</td>\n    </tr>\n    <tr>\n      <th>23</th>\n      <td>202109</td>\n      <td>대구광역시</td>\n      <td>전체(시 / 군 / 구)</td>\n      <td>심 야</td>\n      <td>15,988</td>\n      <td>7,851,234</td>\n      <td>471,660,728</td>\n      <td>60.1</td>\n    </tr>\n    <tr>\n      <th>24</th>\n      <td>202110</td>\n      <td>대구광역시</td>\n      <td>전체(시 / 군 / 구)</td>\n      <td>주택용</td>\n      <td>653,893</td>\n      <td>275,716,761</td>\n      <td>28,282,136,972</td>\n      <td>102.6</td>\n    </tr>\n    <tr>\n      <th>25</th>\n      <td>202110</td>\n      <td>대구광역시</td>\n      <td>전체(시 / 군 / 구)</td>\n      <td>일반용</td>\n      <td>156,143</td>\n      <td>353,440,337</td>\n      <td>40,609,602,754</td>\n      <td>114.9</td>\n    </tr>\n    <tr>\n      <th>26</th>\n      <td>202110</td>\n      <td>대구광역시</td>\n      <td>전체(시 / 군 / 구)</td>\n      <td>교육용</td>\n      <td>817</td>\n      <td>25,606,844</td>\n      <td>2,387,905,293</td>\n      <td>93.3</td>\n    </tr>\n    <tr>\n      <th>27</th>\n      <td>202110</td>\n      <td>대구광역시</td>\n      <td>전체(시 / 군 / 구)</td>\n      <td>산업용</td>\n      <td>20,340</td>\n      <td>497,006,248</td>\n      <td>50,714,776,145</td>\n      <td>102.0</td>\n    </tr>\n    <tr>\n      <th>28</th>\n      <td>202110</td>\n      <td>대구광역시</td>\n      <td>전체(시 / 군 / 구)</td>\n      <td>농사용</td>\n      <td>16,387</td>\n      <td>6,341,480</td>\n      <td>340,250,686</td>\n      <td>53.7</td>\n    </tr>\n    <tr>\n      <th>29</th>\n      <td>202110</td>\n      <td>대구광역시</td>\n      <td>전체(시 / 군 / 구)</td>\n      <td>가로등</td>\n      <td>64,735</td>\n      <td>10,635,747</td>\n      <td>1,159,031,083</td>\n      <td>109.0</td>\n    </tr>\n    <tr>\n      <th>30</th>\n      <td>202110</td>\n      <td>대구광역시</td>\n      <td>전체(시 / 군 / 구)</td>\n      <td>심 야</td>\n      <td>15,932</td>\n      <td>6,331,633</td>\n      <td>399,011,720</td>\n      <td>63.0</td>\n    </tr>\n    <tr>\n      <th>31</th>\n      <td>202111</td>\n      <td>대구광역시</td>\n      <td>전체(시 / 군 / 구)</td>\n      <td>주택용</td>\n      <td>653,548</td>\n      <td>282,359,870</td>\n      <td>29,534,808,874</td>\n      <td>104.6</td>\n    </tr>\n    <tr>\n      <th>32</th>\n      <td>202111</td>\n      <td>대구광역시</td>\n      <td>전체(시 / 군 / 구)</td>\n      <td>일반용</td>\n      <td>156,664</td>\n      <td>347,538,662</td>\n      <td>45,765,771,227</td>\n      <td>131.7</td>\n    </tr>\n    <tr>\n      <th>33</th>\n      <td>202111</td>\n      <td>대구광역시</td>\n      <td>전체(시 / 군 / 구)</td>\n      <td>교육용</td>\n      <td>820</td>\n      <td>28,119,081</td>\n      <td>3,056,090,869</td>\n      <td>108.7</td>\n    </tr>\n    <tr>\n      <th>34</th>\n      <td>202111</td>\n      <td>대구광역시</td>\n      <td>전체(시 / 군 / 구)</td>\n      <td>산업용</td>\n      <td>20,313</td>\n      <td>532,789,923</td>\n      <td>64,141,374,901</td>\n      <td>120.4</td>\n    </tr>\n    <tr>\n      <th>35</th>\n      <td>202111</td>\n      <td>대구광역시</td>\n      <td>전체(시 / 군 / 구)</td>\n      <td>농사용</td>\n      <td>16,808</td>\n      <td>6,581,780</td>\n      <td>345,943,926</td>\n      <td>52.6</td>\n    </tr>\n    <tr>\n      <th>36</th>\n      <td>202111</td>\n      <td>대구광역시</td>\n      <td>전체(시 / 군 / 구)</td>\n      <td>가로등</td>\n      <td>64,811</td>\n      <td>11,515,643</td>\n      <td>1,231,993,458</td>\n      <td>107.0</td>\n    </tr>\n    <tr>\n      <th>37</th>\n      <td>202111</td>\n      <td>대구광역시</td>\n      <td>전체(시 / 군 / 구)</td>\n      <td>심 야</td>\n      <td>15,872</td>\n      <td>12,157,866</td>\n      <td>793,120,163</td>\n      <td>65.2</td>\n    </tr>\n    <tr>\n      <th>38</th>\n      <td>202112</td>\n      <td>대구광역시</td>\n      <td>전체(시 / 군 / 구)</td>\n      <td>주택용</td>\n      <td>652,976</td>\n      <td>292,489,989</td>\n      <td>31,225,447,910</td>\n      <td>106.8</td>\n    </tr>\n    <tr>\n      <th>39</th>\n      <td>202112</td>\n      <td>대구광역시</td>\n      <td>전체(시 / 군 / 구)</td>\n      <td>일반용</td>\n      <td>157,057</td>\n      <td>401,298,694</td>\n      <td>55,171,036,455</td>\n      <td>137.5</td>\n    </tr>\n    <tr>\n      <th>40</th>\n      <td>202112</td>\n      <td>대구광역시</td>\n      <td>전체(시 / 군 / 구)</td>\n      <td>교육용</td>\n      <td>821</td>\n      <td>38,056,176</td>\n      <td>3,892,970,317</td>\n      <td>102.3</td>\n    </tr>\n    <tr>\n      <th>41</th>\n      <td>202112</td>\n      <td>대구광역시</td>\n      <td>전체(시 / 군 / 구)</td>\n      <td>산업용</td>\n      <td>20,307</td>\n      <td>564,260,841</td>\n      <td>69,456,139,832</td>\n      <td>123.1</td>\n    </tr>\n    <tr>\n      <th>42</th>\n      <td>202112</td>\n      <td>대구광역시</td>\n      <td>전체(시 / 군 / 구)</td>\n      <td>농사용</td>\n      <td>16,414</td>\n      <td>7,083,292</td>\n      <td>373,868,535</td>\n      <td>52.8</td>\n    </tr>\n    <tr>\n      <th>43</th>\n      <td>202112</td>\n      <td>대구광역시</td>\n      <td>전체(시 / 군 / 구)</td>\n      <td>가로등</td>\n      <td>64,922</td>\n      <td>11,954,984</td>\n      <td>1,264,407,163</td>\n      <td>105.8</td>\n    </tr>\n    <tr>\n      <th>44</th>\n      <td>202112</td>\n      <td>대구광역시</td>\n      <td>전체(시 / 군 / 구)</td>\n      <td>심 야</td>\n      <td>15,798</td>\n      <td>19,667,703</td>\n      <td>1,483,134,089</td>\n      <td>75.4</td>\n    </tr>\n    <tr>\n      <th>45</th>\n      <td>합계</td>\n      <td>합계</td>\n      <td>합계</td>\n      <td>합계</td>\n      <td>5,571,593</td>\n      <td>7,838,383,033</td>\n      <td>920,476,482,318</td>\n      <td>117.4</td>\n    </tr>\n  </tbody>\n</table>\n</div>"
     },
     "execution_count": 6,
     "metadata": {},
     "output_type": "execute_result"
    }
   ],
   "source": [
    "df_2 = df.loc[:45]\n",
    "df_2\n"
   ],
   "metadata": {
    "collapsed": false,
    "pycharm": {
     "name": "#%%\n"
    }
   }
  },
  {
   "cell_type": "code",
   "execution_count": 7,
   "outputs": [
    {
     "name": "stderr",
     "output_type": "stream",
     "text": [
      "C:\\Users\\user\\AppData\\Local\\Temp\\ipykernel_25048\\3551721261.py:3: SettingWithCopyWarning: \n",
      "A value is trying to be set on a copy of a slice from a DataFrame\n",
      "\n",
      "See the caveats in the documentation: https://pandas.pydata.org/pandas-docs/stable/user_guide/indexing.html#returning-a-view-versus-a-copy\n",
      "  GyeonGi.drop(['시군구' , '전기요금(원)' , '평균판매단가(원/kWh)'] , axis = 1 , inplace = True)\n"
     ]
    },
    {
     "data": {
      "text/plain": "        년월     시구 계약구분   고객호수(호)      사용량(kWh)\n4   202107  대구광역시  일반용  155,683   416,541,704 \n11  202108  대구광역시  일반용  155,979   470,788,716 \n18  202109  대구광역시  일반용  156,054   400,311,357 \n25  202110  대구광역시  일반용  156,143   353,440,337 \n32  202111  대구광역시  일반용  156,664   347,538,662 \n39  202112  대구광역시  일반용  157,057   401,298,694 ",
      "text/html": "<div>\n<style scoped>\n    .dataframe tbody tr th:only-of-type {\n        vertical-align: middle;\n    }\n\n    .dataframe tbody tr th {\n        vertical-align: top;\n    }\n\n    .dataframe thead th {\n        text-align: right;\n    }\n</style>\n<table border=\"1\" class=\"dataframe\">\n  <thead>\n    <tr style=\"text-align: right;\">\n      <th></th>\n      <th>년월</th>\n      <th>시구</th>\n      <th>계약구분</th>\n      <th>고객호수(호)</th>\n      <th>사용량(kWh)</th>\n    </tr>\n  </thead>\n  <tbody>\n    <tr>\n      <th>4</th>\n      <td>202107</td>\n      <td>대구광역시</td>\n      <td>일반용</td>\n      <td>155,683</td>\n      <td>416,541,704</td>\n    </tr>\n    <tr>\n      <th>11</th>\n      <td>202108</td>\n      <td>대구광역시</td>\n      <td>일반용</td>\n      <td>155,979</td>\n      <td>470,788,716</td>\n    </tr>\n    <tr>\n      <th>18</th>\n      <td>202109</td>\n      <td>대구광역시</td>\n      <td>일반용</td>\n      <td>156,054</td>\n      <td>400,311,357</td>\n    </tr>\n    <tr>\n      <th>25</th>\n      <td>202110</td>\n      <td>대구광역시</td>\n      <td>일반용</td>\n      <td>156,143</td>\n      <td>353,440,337</td>\n    </tr>\n    <tr>\n      <th>32</th>\n      <td>202111</td>\n      <td>대구광역시</td>\n      <td>일반용</td>\n      <td>156,664</td>\n      <td>347,538,662</td>\n    </tr>\n    <tr>\n      <th>39</th>\n      <td>202112</td>\n      <td>대구광역시</td>\n      <td>일반용</td>\n      <td>157,057</td>\n      <td>401,298,694</td>\n    </tr>\n  </tbody>\n</table>\n</div>"
     },
     "execution_count": 7,
     "metadata": {},
     "output_type": "execute_result"
    }
   ],
   "source": [
    "GyeonGi  = df_2.loc[(df_2['계약구분'] == '일반용')]\n",
    "#SEOUL = df_3.loc[(df_3['계약구분'] =='일반용')]\n",
    "GyeonGi.drop(['시군구' , '전기요금(원)' , '평균판매단가(원/kWh)'] , axis = 1 , inplace = True)\n",
    "GyeonGi"
   ],
   "metadata": {
    "collapsed": false,
    "pycharm": {
     "name": "#%%\n"
    }
   }
  },
  {
   "cell_type": "code",
   "execution_count": 8,
   "outputs": [],
   "source": [
    "#SEOUL1.to_csv(\"서울특별시_계약종별_전국_전력사용량_2022.csv\" , mode = 'w' , encoding= 'cp949')"
   ],
   "metadata": {
    "collapsed": false,
    "pycharm": {
     "name": "#%%\n"
    }
   }
  },
  {
   "cell_type": "code",
   "execution_count": 9,
   "outputs": [],
   "source": [
    "#df_2.to_csv(\"서울특별시_계약종별_전국_전력사용량.csv\" , mode = 'w' , encoding= 'cp949')"
   ],
   "metadata": {
    "collapsed": false,
    "pycharm": {
     "name": "#%%\n"
    }
   }
  },
  {
   "cell_type": "code",
   "execution_count": 10,
   "outputs": [
    {
     "data": {
      "text/plain": "         년월     시구  시군구 계약구분  고객호수(호)     사용량(kWh)\n53   202107  대구광역시   남구  일반용  12,051   28,342,734 \n117  202108  대구광역시   남구  일반용  12,042   32,434,897 \n181  202109  대구광역시   남구  일반용  12,049   27,839,859 \n245  202110  대구광역시   남구  일반용  12,046   23,880,488 \n309  202111  대구광역시   남구  일반용  12,041   24,572,419 \n373  202112  대구광역시   남구  일반용  12,057   26,316,704 \n61   202107  대구광역시  달서구  일반용  28,921   79,737,706 \n125  202108  대구광역시  달서구  일반용  28,947   90,956,306 \n189  202109  대구광역시  달서구  일반용  28,961   76,937,516 \n253  202110  대구광역시  달서구  일반용  28,956   67,892,434 \n317  202111  대구광역시  달서구  일반용  29,008   65,505,470 \n381  202112  대구광역시  달서구  일반용  29,035   73,434,227 \n69   202107  대구광역시  달성군  일반용  13,845   32,460,227 \n133  202108  대구광역시  달성군  일반용  13,970   37,283,806 \n197  202109  대구광역시  달성군  일반용  13,992   32,174,401 \n261  202110  대구광역시  달성군  일반용  14,053   28,844,682 \n325  202111  대구광역시  달성군  일반용  14,099   29,142,550 \n389  202112  대구광역시  달성군  일반용  14,193   38,607,678 \n77   202107  대구광역시   동구  일반용  21,874   69,357,301 \n141  202108  대구광역시   동구  일반용  21,935   76,521,776 \n205  202109  대구광역시   동구  일반용  21,995   65,738,592 \n269  202110  대구광역시   동구  일반용  22,036   58,741,711 \n333  202111  대구광역시   동구  일반용  22,140   57,386,913 \n397  202112  대구광역시   동구  일반용  22,248   66,342,951 \n85   202107  대구광역시   북구  일반용  26,278   71,511,224 \n149  202108  대구광역시   북구  일반용  26,324   80,847,013 \n213  202109  대구광역시   북구  일반용  26,352   68,981,207 \n277  202110  대구광역시   북구  일반용  26,364   61,014,112 \n341  202111  대구광역시   북구  일반용  26,508   59,871,476 \n405  202112  대구광역시   북구  일반용  26,596   67,804,175 \n93   202107  대구광역시   서구  일반용  13,573   25,457,711 \n157  202108  대구광역시   서구  일반용  13,567   29,986,726 \n221  202109  대구광역시   서구  일반용  13,571   25,317,605 \n285  202110  대구광역시   서구  일반용  13,546   21,891,359 \n349  202111  대구광역시   서구  일반용  13,560   22,107,128 \n413  202112  대구광역시   서구  일반용  13,550   25,118,121 \n101  202107  대구광역시  수성구  일반용  24,657   63,999,621 \n165  202108  대구광역시  수성구  일반용  24,696   73,421,534 \n229  202109  대구광역시  수성구  일반용  24,717   62,220,481 \n293  202110  대구광역시  수성구  일반용  24,750   54,566,501 \n357  202111  대구광역시  수성구  일반용  24,917   53,959,374 \n421  202112  대구광역시  수성구  일반용  24,973   62,051,420 \n109  202107  대구광역시   중구  일반용  14,484   45,675,180 \n173  202108  대구광역시   중구  일반용  14,498   49,336,658 \n237  202109  대구광역시   중구  일반용  14,417   41,101,696 \n301  202110  대구광역시   중구  일반용  14,392   36,609,050 \n365  202111  대구광역시   중구  일반용  14,391   34,993,332 \n429  202112  대구광역시   중구  일반용  14,405   41,623,418 ",
      "text/html": "<div>\n<style scoped>\n    .dataframe tbody tr th:only-of-type {\n        vertical-align: middle;\n    }\n\n    .dataframe tbody tr th {\n        vertical-align: top;\n    }\n\n    .dataframe thead th {\n        text-align: right;\n    }\n</style>\n<table border=\"1\" class=\"dataframe\">\n  <thead>\n    <tr style=\"text-align: right;\">\n      <th></th>\n      <th>년월</th>\n      <th>시구</th>\n      <th>시군구</th>\n      <th>계약구분</th>\n      <th>고객호수(호)</th>\n      <th>사용량(kWh)</th>\n    </tr>\n  </thead>\n  <tbody>\n    <tr>\n      <th>53</th>\n      <td>202107</td>\n      <td>대구광역시</td>\n      <td>남구</td>\n      <td>일반용</td>\n      <td>12,051</td>\n      <td>28,342,734</td>\n    </tr>\n    <tr>\n      <th>117</th>\n      <td>202108</td>\n      <td>대구광역시</td>\n      <td>남구</td>\n      <td>일반용</td>\n      <td>12,042</td>\n      <td>32,434,897</td>\n    </tr>\n    <tr>\n      <th>181</th>\n      <td>202109</td>\n      <td>대구광역시</td>\n      <td>남구</td>\n      <td>일반용</td>\n      <td>12,049</td>\n      <td>27,839,859</td>\n    </tr>\n    <tr>\n      <th>245</th>\n      <td>202110</td>\n      <td>대구광역시</td>\n      <td>남구</td>\n      <td>일반용</td>\n      <td>12,046</td>\n      <td>23,880,488</td>\n    </tr>\n    <tr>\n      <th>309</th>\n      <td>202111</td>\n      <td>대구광역시</td>\n      <td>남구</td>\n      <td>일반용</td>\n      <td>12,041</td>\n      <td>24,572,419</td>\n    </tr>\n    <tr>\n      <th>373</th>\n      <td>202112</td>\n      <td>대구광역시</td>\n      <td>남구</td>\n      <td>일반용</td>\n      <td>12,057</td>\n      <td>26,316,704</td>\n    </tr>\n    <tr>\n      <th>61</th>\n      <td>202107</td>\n      <td>대구광역시</td>\n      <td>달서구</td>\n      <td>일반용</td>\n      <td>28,921</td>\n      <td>79,737,706</td>\n    </tr>\n    <tr>\n      <th>125</th>\n      <td>202108</td>\n      <td>대구광역시</td>\n      <td>달서구</td>\n      <td>일반용</td>\n      <td>28,947</td>\n      <td>90,956,306</td>\n    </tr>\n    <tr>\n      <th>189</th>\n      <td>202109</td>\n      <td>대구광역시</td>\n      <td>달서구</td>\n      <td>일반용</td>\n      <td>28,961</td>\n      <td>76,937,516</td>\n    </tr>\n    <tr>\n      <th>253</th>\n      <td>202110</td>\n      <td>대구광역시</td>\n      <td>달서구</td>\n      <td>일반용</td>\n      <td>28,956</td>\n      <td>67,892,434</td>\n    </tr>\n    <tr>\n      <th>317</th>\n      <td>202111</td>\n      <td>대구광역시</td>\n      <td>달서구</td>\n      <td>일반용</td>\n      <td>29,008</td>\n      <td>65,505,470</td>\n    </tr>\n    <tr>\n      <th>381</th>\n      <td>202112</td>\n      <td>대구광역시</td>\n      <td>달서구</td>\n      <td>일반용</td>\n      <td>29,035</td>\n      <td>73,434,227</td>\n    </tr>\n    <tr>\n      <th>69</th>\n      <td>202107</td>\n      <td>대구광역시</td>\n      <td>달성군</td>\n      <td>일반용</td>\n      <td>13,845</td>\n      <td>32,460,227</td>\n    </tr>\n    <tr>\n      <th>133</th>\n      <td>202108</td>\n      <td>대구광역시</td>\n      <td>달성군</td>\n      <td>일반용</td>\n      <td>13,970</td>\n      <td>37,283,806</td>\n    </tr>\n    <tr>\n      <th>197</th>\n      <td>202109</td>\n      <td>대구광역시</td>\n      <td>달성군</td>\n      <td>일반용</td>\n      <td>13,992</td>\n      <td>32,174,401</td>\n    </tr>\n    <tr>\n      <th>261</th>\n      <td>202110</td>\n      <td>대구광역시</td>\n      <td>달성군</td>\n      <td>일반용</td>\n      <td>14,053</td>\n      <td>28,844,682</td>\n    </tr>\n    <tr>\n      <th>325</th>\n      <td>202111</td>\n      <td>대구광역시</td>\n      <td>달성군</td>\n      <td>일반용</td>\n      <td>14,099</td>\n      <td>29,142,550</td>\n    </tr>\n    <tr>\n      <th>389</th>\n      <td>202112</td>\n      <td>대구광역시</td>\n      <td>달성군</td>\n      <td>일반용</td>\n      <td>14,193</td>\n      <td>38,607,678</td>\n    </tr>\n    <tr>\n      <th>77</th>\n      <td>202107</td>\n      <td>대구광역시</td>\n      <td>동구</td>\n      <td>일반용</td>\n      <td>21,874</td>\n      <td>69,357,301</td>\n    </tr>\n    <tr>\n      <th>141</th>\n      <td>202108</td>\n      <td>대구광역시</td>\n      <td>동구</td>\n      <td>일반용</td>\n      <td>21,935</td>\n      <td>76,521,776</td>\n    </tr>\n    <tr>\n      <th>205</th>\n      <td>202109</td>\n      <td>대구광역시</td>\n      <td>동구</td>\n      <td>일반용</td>\n      <td>21,995</td>\n      <td>65,738,592</td>\n    </tr>\n    <tr>\n      <th>269</th>\n      <td>202110</td>\n      <td>대구광역시</td>\n      <td>동구</td>\n      <td>일반용</td>\n      <td>22,036</td>\n      <td>58,741,711</td>\n    </tr>\n    <tr>\n      <th>333</th>\n      <td>202111</td>\n      <td>대구광역시</td>\n      <td>동구</td>\n      <td>일반용</td>\n      <td>22,140</td>\n      <td>57,386,913</td>\n    </tr>\n    <tr>\n      <th>397</th>\n      <td>202112</td>\n      <td>대구광역시</td>\n      <td>동구</td>\n      <td>일반용</td>\n      <td>22,248</td>\n      <td>66,342,951</td>\n    </tr>\n    <tr>\n      <th>85</th>\n      <td>202107</td>\n      <td>대구광역시</td>\n      <td>북구</td>\n      <td>일반용</td>\n      <td>26,278</td>\n      <td>71,511,224</td>\n    </tr>\n    <tr>\n      <th>149</th>\n      <td>202108</td>\n      <td>대구광역시</td>\n      <td>북구</td>\n      <td>일반용</td>\n      <td>26,324</td>\n      <td>80,847,013</td>\n    </tr>\n    <tr>\n      <th>213</th>\n      <td>202109</td>\n      <td>대구광역시</td>\n      <td>북구</td>\n      <td>일반용</td>\n      <td>26,352</td>\n      <td>68,981,207</td>\n    </tr>\n    <tr>\n      <th>277</th>\n      <td>202110</td>\n      <td>대구광역시</td>\n      <td>북구</td>\n      <td>일반용</td>\n      <td>26,364</td>\n      <td>61,014,112</td>\n    </tr>\n    <tr>\n      <th>341</th>\n      <td>202111</td>\n      <td>대구광역시</td>\n      <td>북구</td>\n      <td>일반용</td>\n      <td>26,508</td>\n      <td>59,871,476</td>\n    </tr>\n    <tr>\n      <th>405</th>\n      <td>202112</td>\n      <td>대구광역시</td>\n      <td>북구</td>\n      <td>일반용</td>\n      <td>26,596</td>\n      <td>67,804,175</td>\n    </tr>\n    <tr>\n      <th>93</th>\n      <td>202107</td>\n      <td>대구광역시</td>\n      <td>서구</td>\n      <td>일반용</td>\n      <td>13,573</td>\n      <td>25,457,711</td>\n    </tr>\n    <tr>\n      <th>157</th>\n      <td>202108</td>\n      <td>대구광역시</td>\n      <td>서구</td>\n      <td>일반용</td>\n      <td>13,567</td>\n      <td>29,986,726</td>\n    </tr>\n    <tr>\n      <th>221</th>\n      <td>202109</td>\n      <td>대구광역시</td>\n      <td>서구</td>\n      <td>일반용</td>\n      <td>13,571</td>\n      <td>25,317,605</td>\n    </tr>\n    <tr>\n      <th>285</th>\n      <td>202110</td>\n      <td>대구광역시</td>\n      <td>서구</td>\n      <td>일반용</td>\n      <td>13,546</td>\n      <td>21,891,359</td>\n    </tr>\n    <tr>\n      <th>349</th>\n      <td>202111</td>\n      <td>대구광역시</td>\n      <td>서구</td>\n      <td>일반용</td>\n      <td>13,560</td>\n      <td>22,107,128</td>\n    </tr>\n    <tr>\n      <th>413</th>\n      <td>202112</td>\n      <td>대구광역시</td>\n      <td>서구</td>\n      <td>일반용</td>\n      <td>13,550</td>\n      <td>25,118,121</td>\n    </tr>\n    <tr>\n      <th>101</th>\n      <td>202107</td>\n      <td>대구광역시</td>\n      <td>수성구</td>\n      <td>일반용</td>\n      <td>24,657</td>\n      <td>63,999,621</td>\n    </tr>\n    <tr>\n      <th>165</th>\n      <td>202108</td>\n      <td>대구광역시</td>\n      <td>수성구</td>\n      <td>일반용</td>\n      <td>24,696</td>\n      <td>73,421,534</td>\n    </tr>\n    <tr>\n      <th>229</th>\n      <td>202109</td>\n      <td>대구광역시</td>\n      <td>수성구</td>\n      <td>일반용</td>\n      <td>24,717</td>\n      <td>62,220,481</td>\n    </tr>\n    <tr>\n      <th>293</th>\n      <td>202110</td>\n      <td>대구광역시</td>\n      <td>수성구</td>\n      <td>일반용</td>\n      <td>24,750</td>\n      <td>54,566,501</td>\n    </tr>\n    <tr>\n      <th>357</th>\n      <td>202111</td>\n      <td>대구광역시</td>\n      <td>수성구</td>\n      <td>일반용</td>\n      <td>24,917</td>\n      <td>53,959,374</td>\n    </tr>\n    <tr>\n      <th>421</th>\n      <td>202112</td>\n      <td>대구광역시</td>\n      <td>수성구</td>\n      <td>일반용</td>\n      <td>24,973</td>\n      <td>62,051,420</td>\n    </tr>\n    <tr>\n      <th>109</th>\n      <td>202107</td>\n      <td>대구광역시</td>\n      <td>중구</td>\n      <td>일반용</td>\n      <td>14,484</td>\n      <td>45,675,180</td>\n    </tr>\n    <tr>\n      <th>173</th>\n      <td>202108</td>\n      <td>대구광역시</td>\n      <td>중구</td>\n      <td>일반용</td>\n      <td>14,498</td>\n      <td>49,336,658</td>\n    </tr>\n    <tr>\n      <th>237</th>\n      <td>202109</td>\n      <td>대구광역시</td>\n      <td>중구</td>\n      <td>일반용</td>\n      <td>14,417</td>\n      <td>41,101,696</td>\n    </tr>\n    <tr>\n      <th>301</th>\n      <td>202110</td>\n      <td>대구광역시</td>\n      <td>중구</td>\n      <td>일반용</td>\n      <td>14,392</td>\n      <td>36,609,050</td>\n    </tr>\n    <tr>\n      <th>365</th>\n      <td>202111</td>\n      <td>대구광역시</td>\n      <td>중구</td>\n      <td>일반용</td>\n      <td>14,391</td>\n      <td>34,993,332</td>\n    </tr>\n    <tr>\n      <th>429</th>\n      <td>202112</td>\n      <td>대구광역시</td>\n      <td>중구</td>\n      <td>일반용</td>\n      <td>14,405</td>\n      <td>41,623,418</td>\n    </tr>\n  </tbody>\n</table>\n</div>"
     },
     "execution_count": 10,
     "metadata": {},
     "output_type": "execute_result"
    }
   ],
   "source": [
    "df_3 = df.loc[48:]\n",
    "df_3 = df_3.loc[(df_3['계약구분'] == '일반용')]\n",
    "df_3 = df_3.sort_values(by=['시군구' , '년월'])\n",
    "df_3.drop(['전기요금(원)',   '평균판매단가(원/kWh)'] , axis = 1 , inplace = True)\n",
    "df_3"
   ],
   "metadata": {
    "collapsed": false,
    "pycharm": {
     "name": "#%%\n"
    }
   }
  },
  {
   "cell_type": "code",
   "execution_count": 11,
   "outputs": [
    {
     "data": {
      "text/plain": "'대구광역시'"
     },
     "execution_count": 11,
     "metadata": {},
     "output_type": "execute_result"
    }
   ],
   "source": [
    "a = df_3.loc[: , \"시구\"]\n",
    "b = a[:1].tolist()\n",
    "for i in b:\n",
    "    City = i\n",
    "City"
   ],
   "metadata": {
    "collapsed": false,
    "pycharm": {
     "name": "#%%\n"
    }
   }
  },
  {
   "cell_type": "code",
   "execution_count": 12,
   "outputs": [
    {
     "data": {
      "text/plain": "['남구', '달서구', '달성군', '동구', '북구', '서구', '수성구', '중구']"
     },
     "execution_count": 12,
     "metadata": {},
     "output_type": "execute_result"
    }
   ],
   "source": [
    "\n",
    "SIGUNGU = list(set(df_3.loc[: , '시군구'].tolist()))\n",
    "SIGUNGU.sort()\n",
    "SIGUNGU"
   ],
   "metadata": {
    "collapsed": false,
    "pycharm": {
     "name": "#%%\n"
    }
   }
  },
  {
   "cell_type": "code",
   "execution_count": 13,
   "outputs": [
    {
     "data": {
      "text/plain": "         년월     시구  시군구 계약구분   고객호수(호)      사용량(kWh)\n55   202107  대구광역시   남구   합계   98,833    51,057,731 \n119  202108  대구광역시   남구   합계   98,675    61,316,406 \n183  202109  대구광역시   남구   합계   98,561    50,686,585 \n247  202110  대구광역시   남구   합계   98,444    44,174,148 \n311  202111  대구광역시   남구   합계   98,332    46,567,966 \n375  202112  대구광역시   남구   합계   98,240    50,960,623 \n63   202107  대구광역시  달서구   합계  172,471   336,727,386 \n127  202108  대구광역시  달서구   합계  172,489   362,386,449 \n191  202109  대구광역시  달서구   합계  172,522   330,613,109 \n255  202110  대구광역시  달서구   합계  172,580   293,987,157 \n319  202111  대구광역시  달서구   합계  172,736   310,068,416 \n383  202112  대구광역시  달서구   합계  172,696   332,031,976 \n71   202107  대구광역시  달성군   합계   80,870   337,795,407 \n135  202108  대구광역시  달성군   합계   81,164   327,460,112 \n199  202109  대구광역시  달성군   합계   81,353   313,058,204 \n263  202110  대구광역시  달성군   합계   81,486   301,416,808 \n327  202111  대구광역시  달성군   합계   81,939   315,091,981 \n391  202112  대구광역시  달성군   합계   81,851   344,867,583 \n79   202107  대구광역시   동구   합계  148,241   129,524,816 \n143  202108  대구광역시   동구   합계  148,127   151,650,617 \n207  202109  대구광역시   동구   합계  148,096   129,770,293 \n271  202110  대구광역시   동구   합계  148,120   114,323,214 \n335  202111  대구광역시   동구   합계  148,220   116,858,756 \n399  202112  대구광역시   동구   합계  148,195   130,712,637 \n87   202107  대구광역시   북구   합계  149,210   200,077,625 \n151  202108  대구광역시   북구   합계  149,210   226,339,465 \n215  202109  대구광역시   북구   합계  149,296   197,062,425 \n279  202110  대구광역시   북구   합계  149,317   173,398,498 \n343  202111  대구광역시   북구   합계  149,546   181,070,128 \n407  202112  대구광역시   북구   합계  149,630   198,753,864 \n95   202107  대구광역시   서구   합계  102,429    81,602,546 \n159  202108  대구광역시   서구   합계  102,372    90,705,126 \n223  202109  대구광역시   서구   합계  102,257    78,326,250 \n287  202110  대구광역시   서구   합계  102,079    69,739,726 \n351  202111  대구광역시   서구   합계  101,885    73,026,292 \n415  202112  대구광역시   서구   합계  101,653    77,170,546 \n103  202107  대구광역시  수성구   합계  126,385   144,054,649 \n167  202108  대구광역시  수성구   합계  126,262   170,973,812 \n231  202109  대구광역시  수성구   합계  126,168   143,851,382 \n295  202110  대구광역시  수성구   합계  126,094   127,344,074 \n359  202111  대구광역시  수성구   합계  126,135   128,855,471 \n423  202112  대구광역시  수성구   합계  126,095   142,393,097 \n111  202107  대구광역시   중구   합계   50,522    63,822,931 \n175  202108  대구광역시   중구   합계   50,438    70,546,965 \n239  202109  대구광역시   중구   합계   50,264    58,019,188 \n303  202110  대구광역시   중구   합계   50,127    50,695,425 \n367  202111  대구광역시   중구   합계   50,043    49,523,815 \n431  202112  대구광역시   중구   합계   49,935    57,921,353 ",
      "text/html": "<div>\n<style scoped>\n    .dataframe tbody tr th:only-of-type {\n        vertical-align: middle;\n    }\n\n    .dataframe tbody tr th {\n        vertical-align: top;\n    }\n\n    .dataframe thead th {\n        text-align: right;\n    }\n</style>\n<table border=\"1\" class=\"dataframe\">\n  <thead>\n    <tr style=\"text-align: right;\">\n      <th></th>\n      <th>년월</th>\n      <th>시구</th>\n      <th>시군구</th>\n      <th>계약구분</th>\n      <th>고객호수(호)</th>\n      <th>사용량(kWh)</th>\n    </tr>\n  </thead>\n  <tbody>\n    <tr>\n      <th>55</th>\n      <td>202107</td>\n      <td>대구광역시</td>\n      <td>남구</td>\n      <td>합계</td>\n      <td>98,833</td>\n      <td>51,057,731</td>\n    </tr>\n    <tr>\n      <th>119</th>\n      <td>202108</td>\n      <td>대구광역시</td>\n      <td>남구</td>\n      <td>합계</td>\n      <td>98,675</td>\n      <td>61,316,406</td>\n    </tr>\n    <tr>\n      <th>183</th>\n      <td>202109</td>\n      <td>대구광역시</td>\n      <td>남구</td>\n      <td>합계</td>\n      <td>98,561</td>\n      <td>50,686,585</td>\n    </tr>\n    <tr>\n      <th>247</th>\n      <td>202110</td>\n      <td>대구광역시</td>\n      <td>남구</td>\n      <td>합계</td>\n      <td>98,444</td>\n      <td>44,174,148</td>\n    </tr>\n    <tr>\n      <th>311</th>\n      <td>202111</td>\n      <td>대구광역시</td>\n      <td>남구</td>\n      <td>합계</td>\n      <td>98,332</td>\n      <td>46,567,966</td>\n    </tr>\n    <tr>\n      <th>375</th>\n      <td>202112</td>\n      <td>대구광역시</td>\n      <td>남구</td>\n      <td>합계</td>\n      <td>98,240</td>\n      <td>50,960,623</td>\n    </tr>\n    <tr>\n      <th>63</th>\n      <td>202107</td>\n      <td>대구광역시</td>\n      <td>달서구</td>\n      <td>합계</td>\n      <td>172,471</td>\n      <td>336,727,386</td>\n    </tr>\n    <tr>\n      <th>127</th>\n      <td>202108</td>\n      <td>대구광역시</td>\n      <td>달서구</td>\n      <td>합계</td>\n      <td>172,489</td>\n      <td>362,386,449</td>\n    </tr>\n    <tr>\n      <th>191</th>\n      <td>202109</td>\n      <td>대구광역시</td>\n      <td>달서구</td>\n      <td>합계</td>\n      <td>172,522</td>\n      <td>330,613,109</td>\n    </tr>\n    <tr>\n      <th>255</th>\n      <td>202110</td>\n      <td>대구광역시</td>\n      <td>달서구</td>\n      <td>합계</td>\n      <td>172,580</td>\n      <td>293,987,157</td>\n    </tr>\n    <tr>\n      <th>319</th>\n      <td>202111</td>\n      <td>대구광역시</td>\n      <td>달서구</td>\n      <td>합계</td>\n      <td>172,736</td>\n      <td>310,068,416</td>\n    </tr>\n    <tr>\n      <th>383</th>\n      <td>202112</td>\n      <td>대구광역시</td>\n      <td>달서구</td>\n      <td>합계</td>\n      <td>172,696</td>\n      <td>332,031,976</td>\n    </tr>\n    <tr>\n      <th>71</th>\n      <td>202107</td>\n      <td>대구광역시</td>\n      <td>달성군</td>\n      <td>합계</td>\n      <td>80,870</td>\n      <td>337,795,407</td>\n    </tr>\n    <tr>\n      <th>135</th>\n      <td>202108</td>\n      <td>대구광역시</td>\n      <td>달성군</td>\n      <td>합계</td>\n      <td>81,164</td>\n      <td>327,460,112</td>\n    </tr>\n    <tr>\n      <th>199</th>\n      <td>202109</td>\n      <td>대구광역시</td>\n      <td>달성군</td>\n      <td>합계</td>\n      <td>81,353</td>\n      <td>313,058,204</td>\n    </tr>\n    <tr>\n      <th>263</th>\n      <td>202110</td>\n      <td>대구광역시</td>\n      <td>달성군</td>\n      <td>합계</td>\n      <td>81,486</td>\n      <td>301,416,808</td>\n    </tr>\n    <tr>\n      <th>327</th>\n      <td>202111</td>\n      <td>대구광역시</td>\n      <td>달성군</td>\n      <td>합계</td>\n      <td>81,939</td>\n      <td>315,091,981</td>\n    </tr>\n    <tr>\n      <th>391</th>\n      <td>202112</td>\n      <td>대구광역시</td>\n      <td>달성군</td>\n      <td>합계</td>\n      <td>81,851</td>\n      <td>344,867,583</td>\n    </tr>\n    <tr>\n      <th>79</th>\n      <td>202107</td>\n      <td>대구광역시</td>\n      <td>동구</td>\n      <td>합계</td>\n      <td>148,241</td>\n      <td>129,524,816</td>\n    </tr>\n    <tr>\n      <th>143</th>\n      <td>202108</td>\n      <td>대구광역시</td>\n      <td>동구</td>\n      <td>합계</td>\n      <td>148,127</td>\n      <td>151,650,617</td>\n    </tr>\n    <tr>\n      <th>207</th>\n      <td>202109</td>\n      <td>대구광역시</td>\n      <td>동구</td>\n      <td>합계</td>\n      <td>148,096</td>\n      <td>129,770,293</td>\n    </tr>\n    <tr>\n      <th>271</th>\n      <td>202110</td>\n      <td>대구광역시</td>\n      <td>동구</td>\n      <td>합계</td>\n      <td>148,120</td>\n      <td>114,323,214</td>\n    </tr>\n    <tr>\n      <th>335</th>\n      <td>202111</td>\n      <td>대구광역시</td>\n      <td>동구</td>\n      <td>합계</td>\n      <td>148,220</td>\n      <td>116,858,756</td>\n    </tr>\n    <tr>\n      <th>399</th>\n      <td>202112</td>\n      <td>대구광역시</td>\n      <td>동구</td>\n      <td>합계</td>\n      <td>148,195</td>\n      <td>130,712,637</td>\n    </tr>\n    <tr>\n      <th>87</th>\n      <td>202107</td>\n      <td>대구광역시</td>\n      <td>북구</td>\n      <td>합계</td>\n      <td>149,210</td>\n      <td>200,077,625</td>\n    </tr>\n    <tr>\n      <th>151</th>\n      <td>202108</td>\n      <td>대구광역시</td>\n      <td>북구</td>\n      <td>합계</td>\n      <td>149,210</td>\n      <td>226,339,465</td>\n    </tr>\n    <tr>\n      <th>215</th>\n      <td>202109</td>\n      <td>대구광역시</td>\n      <td>북구</td>\n      <td>합계</td>\n      <td>149,296</td>\n      <td>197,062,425</td>\n    </tr>\n    <tr>\n      <th>279</th>\n      <td>202110</td>\n      <td>대구광역시</td>\n      <td>북구</td>\n      <td>합계</td>\n      <td>149,317</td>\n      <td>173,398,498</td>\n    </tr>\n    <tr>\n      <th>343</th>\n      <td>202111</td>\n      <td>대구광역시</td>\n      <td>북구</td>\n      <td>합계</td>\n      <td>149,546</td>\n      <td>181,070,128</td>\n    </tr>\n    <tr>\n      <th>407</th>\n      <td>202112</td>\n      <td>대구광역시</td>\n      <td>북구</td>\n      <td>합계</td>\n      <td>149,630</td>\n      <td>198,753,864</td>\n    </tr>\n    <tr>\n      <th>95</th>\n      <td>202107</td>\n      <td>대구광역시</td>\n      <td>서구</td>\n      <td>합계</td>\n      <td>102,429</td>\n      <td>81,602,546</td>\n    </tr>\n    <tr>\n      <th>159</th>\n      <td>202108</td>\n      <td>대구광역시</td>\n      <td>서구</td>\n      <td>합계</td>\n      <td>102,372</td>\n      <td>90,705,126</td>\n    </tr>\n    <tr>\n      <th>223</th>\n      <td>202109</td>\n      <td>대구광역시</td>\n      <td>서구</td>\n      <td>합계</td>\n      <td>102,257</td>\n      <td>78,326,250</td>\n    </tr>\n    <tr>\n      <th>287</th>\n      <td>202110</td>\n      <td>대구광역시</td>\n      <td>서구</td>\n      <td>합계</td>\n      <td>102,079</td>\n      <td>69,739,726</td>\n    </tr>\n    <tr>\n      <th>351</th>\n      <td>202111</td>\n      <td>대구광역시</td>\n      <td>서구</td>\n      <td>합계</td>\n      <td>101,885</td>\n      <td>73,026,292</td>\n    </tr>\n    <tr>\n      <th>415</th>\n      <td>202112</td>\n      <td>대구광역시</td>\n      <td>서구</td>\n      <td>합계</td>\n      <td>101,653</td>\n      <td>77,170,546</td>\n    </tr>\n    <tr>\n      <th>103</th>\n      <td>202107</td>\n      <td>대구광역시</td>\n      <td>수성구</td>\n      <td>합계</td>\n      <td>126,385</td>\n      <td>144,054,649</td>\n    </tr>\n    <tr>\n      <th>167</th>\n      <td>202108</td>\n      <td>대구광역시</td>\n      <td>수성구</td>\n      <td>합계</td>\n      <td>126,262</td>\n      <td>170,973,812</td>\n    </tr>\n    <tr>\n      <th>231</th>\n      <td>202109</td>\n      <td>대구광역시</td>\n      <td>수성구</td>\n      <td>합계</td>\n      <td>126,168</td>\n      <td>143,851,382</td>\n    </tr>\n    <tr>\n      <th>295</th>\n      <td>202110</td>\n      <td>대구광역시</td>\n      <td>수성구</td>\n      <td>합계</td>\n      <td>126,094</td>\n      <td>127,344,074</td>\n    </tr>\n    <tr>\n      <th>359</th>\n      <td>202111</td>\n      <td>대구광역시</td>\n      <td>수성구</td>\n      <td>합계</td>\n      <td>126,135</td>\n      <td>128,855,471</td>\n    </tr>\n    <tr>\n      <th>423</th>\n      <td>202112</td>\n      <td>대구광역시</td>\n      <td>수성구</td>\n      <td>합계</td>\n      <td>126,095</td>\n      <td>142,393,097</td>\n    </tr>\n    <tr>\n      <th>111</th>\n      <td>202107</td>\n      <td>대구광역시</td>\n      <td>중구</td>\n      <td>합계</td>\n      <td>50,522</td>\n      <td>63,822,931</td>\n    </tr>\n    <tr>\n      <th>175</th>\n      <td>202108</td>\n      <td>대구광역시</td>\n      <td>중구</td>\n      <td>합계</td>\n      <td>50,438</td>\n      <td>70,546,965</td>\n    </tr>\n    <tr>\n      <th>239</th>\n      <td>202109</td>\n      <td>대구광역시</td>\n      <td>중구</td>\n      <td>합계</td>\n      <td>50,264</td>\n      <td>58,019,188</td>\n    </tr>\n    <tr>\n      <th>303</th>\n      <td>202110</td>\n      <td>대구광역시</td>\n      <td>중구</td>\n      <td>합계</td>\n      <td>50,127</td>\n      <td>50,695,425</td>\n    </tr>\n    <tr>\n      <th>367</th>\n      <td>202111</td>\n      <td>대구광역시</td>\n      <td>중구</td>\n      <td>합계</td>\n      <td>50,043</td>\n      <td>49,523,815</td>\n    </tr>\n    <tr>\n      <th>431</th>\n      <td>202112</td>\n      <td>대구광역시</td>\n      <td>중구</td>\n      <td>합계</td>\n      <td>49,935</td>\n      <td>57,921,353</td>\n    </tr>\n  </tbody>\n</table>\n</div>"
     },
     "execution_count": 13,
     "metadata": {},
     "output_type": "execute_result"
    }
   ],
   "source": [
    "df_4 = df.loc[48:]\n",
    "df_4 = df_4.loc[(df_4['계약구분'] == '합계')]\n",
    "df_4 = df_4.sort_values(by=['시군구' , '년월'])\n",
    "df_4.drop(['전기요금(원)',   '평균판매단가(원/kWh)'] , axis = 1 , inplace = True)\n",
    "df_4"
   ],
   "metadata": {
    "collapsed": false,
    "pycharm": {
     "name": "#%%\n"
    }
   }
  },
  {
   "cell_type": "code",
   "execution_count": 14,
   "outputs": [
    {
     "name": "stdout",
     "output_type": "stream",
     "text": [
      "[51057731, 61316406, 50686585, 44174148, 46567966, 50960623]\n",
      "[336727386, 362386449, 330613109, 293987157, 310068416, 332031976]\n",
      "[337795407, 327460112, 313058204, 301416808, 315091981, 344867583]\n",
      "[129524816, 151650617, 129770293, 114323214, 116858756, 130712637]\n",
      "[200077625, 226339465, 197062425, 173398498, 181070128, 198753864]\n",
      "[81602546, 90705126, 78326250, 69739726, 73026292, 77170546]\n",
      "[144054649, 170973812, 143851382, 127344074, 128855471, 142393097]\n",
      "[63822931, 70546965, 58019188, 50695425, 49523815, 57921353]\n",
      "대구광역시 지역별 합계 :  [304763459, 1965814493, 1939690095, 772840333, 1176702005, 470570486, 857472485, 350529677]\n",
      "대구광역시 고객호수 평균:  [16419, 28763, 13573, 24694, 24894, 17018, 21031, 8370]\n"
     ]
    }
   ],
   "source": [
    "sum2 , sum3 =[] , []\n",
    "for k in SIGUNGU:\n",
    "    GyeonGiHap = pd.DataFrame([] , columns = a)\n",
    "    HOSU = pd.DataFrame([], columns = a)\n",
    "    GyeonGiHap['사용량']= df_4['사용량(kWh)'].loc[(df_4['시군구'] == '{}'.format(k))]\n",
    "    HOSU['고객호수']= df_4['고객호수(호)'].loc[(df_4['시군구'] == '{}'.format(k))]\n",
    "    #경기합 데이터프레임의 사용량 열에 기군구가 가평군인 사용량 데이터만 뽑아내기\n",
    "    # GyeonGiHap = GyeonGiHap['사용량']\n",
    "\n",
    "    b = GyeonGiHap['사용량'].tolist()\n",
    "    c = HOSU['고객호수'].tolist()\n",
    "\n",
    "\n",
    "    #각지역별 사용량 리스트화\n",
    "    int_list  , int_list2=[] , []\n",
    "    for i in b:\n",
    "        i = re.sub(\",\" , \"\" , i)\n",
    "        #콤마 없애기\n",
    "        int_list.append(int(i))\n",
    "        #int_list에 각지역별 사용량 int로 저장\n",
    "    print(int_list)\n",
    "    sum=0\n",
    "    for i in c:\n",
    "        i = re.sub(\",\" , \"\" , i)\n",
    "        int_list2.append(int(i))\n",
    "\n",
    "    for j in int_list:\n",
    "\n",
    "        sum+= j\n",
    "    sum2.append(sum)\n",
    "    sum = 0\n",
    "    for j in int_list2: #고객호수 추출하여 더하기\n",
    "\n",
    "        sum+= j\n",
    "    sum3.append(sum//36) #6개월 치로 나눠야하나?!\n",
    "\n",
    "\n",
    "\n",
    "\n",
    "print(\"{} 지역별 합계 : \".format(City) , sum2)\n",
    "print(\"{} 고객호수 평균: \".format(City) , sum3)"
   ],
   "metadata": {
    "collapsed": false,
    "pycharm": {
     "name": "#%%\n"
    }
   }
  },
  {
   "cell_type": "markdown",
   "source": [
    "### 2. 날짜 체크!!!!!!!!!!!!!!!!!!!!!!!!!!!!!!!!!!!!!!!!!!!!!!"
   ],
   "metadata": {
    "collapsed": false,
    "pycharm": {
     "name": "#%% md\n"
    }
   }
  },
  {
   "cell_type": "code",
   "execution_count": 15,
   "outputs": [
    {
     "name": "stderr",
     "output_type": "stream",
     "text": [
      "C:\\Users\\user\\AppData\\Local\\Temp\\ipykernel_25048\\895775541.py:4: FutureWarning: The frame.append method is deprecated and will be removed from pandas in a future version. Use pandas.concat instead.\n",
      "  Hap = Hap.append({'년월' :'202107-202112'  , '시구' : '{}'.format(City) , '시군구' : '{}'.format(SIGUNGU[i]) , '계약구분' : '합계' , '고객호수(호)' : sum3[i] ,  '사용량(kWh)' : sum2[i]} , ignore_index=True) #년월 파일마다 수정하기\n",
      "C:\\Users\\user\\AppData\\Local\\Temp\\ipykernel_25048\\895775541.py:4: FutureWarning: The frame.append method is deprecated and will be removed from pandas in a future version. Use pandas.concat instead.\n",
      "  Hap = Hap.append({'년월' :'202107-202112'  , '시구' : '{}'.format(City) , '시군구' : '{}'.format(SIGUNGU[i]) , '계약구분' : '합계' , '고객호수(호)' : sum3[i] ,  '사용량(kWh)' : sum2[i]} , ignore_index=True) #년월 파일마다 수정하기\n",
      "C:\\Users\\user\\AppData\\Local\\Temp\\ipykernel_25048\\895775541.py:4: FutureWarning: The frame.append method is deprecated and will be removed from pandas in a future version. Use pandas.concat instead.\n",
      "  Hap = Hap.append({'년월' :'202107-202112'  , '시구' : '{}'.format(City) , '시군구' : '{}'.format(SIGUNGU[i]) , '계약구분' : '합계' , '고객호수(호)' : sum3[i] ,  '사용량(kWh)' : sum2[i]} , ignore_index=True) #년월 파일마다 수정하기\n",
      "C:\\Users\\user\\AppData\\Local\\Temp\\ipykernel_25048\\895775541.py:4: FutureWarning: The frame.append method is deprecated and will be removed from pandas in a future version. Use pandas.concat instead.\n",
      "  Hap = Hap.append({'년월' :'202107-202112'  , '시구' : '{}'.format(City) , '시군구' : '{}'.format(SIGUNGU[i]) , '계약구분' : '합계' , '고객호수(호)' : sum3[i] ,  '사용량(kWh)' : sum2[i]} , ignore_index=True) #년월 파일마다 수정하기\n",
      "C:\\Users\\user\\AppData\\Local\\Temp\\ipykernel_25048\\895775541.py:4: FutureWarning: The frame.append method is deprecated and will be removed from pandas in a future version. Use pandas.concat instead.\n",
      "  Hap = Hap.append({'년월' :'202107-202112'  , '시구' : '{}'.format(City) , '시군구' : '{}'.format(SIGUNGU[i]) , '계약구분' : '합계' , '고객호수(호)' : sum3[i] ,  '사용량(kWh)' : sum2[i]} , ignore_index=True) #년월 파일마다 수정하기\n",
      "C:\\Users\\user\\AppData\\Local\\Temp\\ipykernel_25048\\895775541.py:4: FutureWarning: The frame.append method is deprecated and will be removed from pandas in a future version. Use pandas.concat instead.\n",
      "  Hap = Hap.append({'년월' :'202107-202112'  , '시구' : '{}'.format(City) , '시군구' : '{}'.format(SIGUNGU[i]) , '계약구분' : '합계' , '고객호수(호)' : sum3[i] ,  '사용량(kWh)' : sum2[i]} , ignore_index=True) #년월 파일마다 수정하기\n",
      "C:\\Users\\user\\AppData\\Local\\Temp\\ipykernel_25048\\895775541.py:4: FutureWarning: The frame.append method is deprecated and will be removed from pandas in a future version. Use pandas.concat instead.\n",
      "  Hap = Hap.append({'년월' :'202107-202112'  , '시구' : '{}'.format(City) , '시군구' : '{}'.format(SIGUNGU[i]) , '계약구분' : '합계' , '고객호수(호)' : sum3[i] ,  '사용량(kWh)' : sum2[i]} , ignore_index=True) #년월 파일마다 수정하기\n",
      "C:\\Users\\user\\AppData\\Local\\Temp\\ipykernel_25048\\895775541.py:4: FutureWarning: The frame.append method is deprecated and will be removed from pandas in a future version. Use pandas.concat instead.\n",
      "  Hap = Hap.append({'년월' :'202107-202112'  , '시구' : '{}'.format(City) , '시군구' : '{}'.format(SIGUNGU[i]) , '계약구분' : '합계' , '고객호수(호)' : sum3[i] ,  '사용량(kWh)' : sum2[i]} , ignore_index=True) #년월 파일마다 수정하기\n"
     ]
    },
    {
     "data": {
      "text/plain": "               년월     시구  시군구 계약구분   고객호수(호)      사용량(kWh)\n0          202107  대구광역시   남구   합계   98,833    51,057,731 \n1          202108  대구광역시   남구   합계   98,675    61,316,406 \n2          202109  대구광역시   남구   합계   98,561    50,686,585 \n3          202110  대구광역시   남구   합계   98,444    44,174,148 \n4          202111  대구광역시   남구   합계   98,332    46,567,966 \n5          202112  대구광역시   남구   합계   98,240    50,960,623 \n6          202107  대구광역시  달서구   합계  172,471   336,727,386 \n7          202108  대구광역시  달서구   합계  172,489   362,386,449 \n8          202109  대구광역시  달서구   합계  172,522   330,613,109 \n9          202110  대구광역시  달서구   합계  172,580   293,987,157 \n10         202111  대구광역시  달서구   합계  172,736   310,068,416 \n11         202112  대구광역시  달서구   합계  172,696   332,031,976 \n12         202107  대구광역시  달성군   합계   80,870   337,795,407 \n13         202108  대구광역시  달성군   합계   81,164   327,460,112 \n14         202109  대구광역시  달성군   합계   81,353   313,058,204 \n15         202110  대구광역시  달성군   합계   81,486   301,416,808 \n16         202111  대구광역시  달성군   합계   81,939   315,091,981 \n17         202112  대구광역시  달성군   합계   81,851   344,867,583 \n18         202107  대구광역시   동구   합계  148,241   129,524,816 \n19         202108  대구광역시   동구   합계  148,127   151,650,617 \n20         202109  대구광역시   동구   합계  148,096   129,770,293 \n21         202110  대구광역시   동구   합계  148,120   114,323,214 \n22         202111  대구광역시   동구   합계  148,220   116,858,756 \n23         202112  대구광역시   동구   합계  148,195   130,712,637 \n24         202107  대구광역시   북구   합계  149,210   200,077,625 \n25         202108  대구광역시   북구   합계  149,210   226,339,465 \n26         202109  대구광역시   북구   합계  149,296   197,062,425 \n27         202110  대구광역시   북구   합계  149,317   173,398,498 \n28         202111  대구광역시   북구   합계  149,546   181,070,128 \n29         202112  대구광역시   북구   합계  149,630   198,753,864 \n30         202107  대구광역시   서구   합계  102,429    81,602,546 \n31         202108  대구광역시   서구   합계  102,372    90,705,126 \n32         202109  대구광역시   서구   합계  102,257    78,326,250 \n33         202110  대구광역시   서구   합계  102,079    69,739,726 \n34         202111  대구광역시   서구   합계  101,885    73,026,292 \n35         202112  대구광역시   서구   합계  101,653    77,170,546 \n36         202107  대구광역시  수성구   합계  126,385   144,054,649 \n37         202108  대구광역시  수성구   합계  126,262   170,973,812 \n38         202109  대구광역시  수성구   합계  126,168   143,851,382 \n39         202110  대구광역시  수성구   합계  126,094   127,344,074 \n40         202111  대구광역시  수성구   합계  126,135   128,855,471 \n41         202112  대구광역시  수성구   합계  126,095   142,393,097 \n42         202107  대구광역시   중구   합계   50,522    63,822,931 \n43         202108  대구광역시   중구   합계   50,438    70,546,965 \n44         202109  대구광역시   중구   합계   50,264    58,019,188 \n45         202110  대구광역시   중구   합계   50,127    50,695,425 \n46         202111  대구광역시   중구   합계   50,043    49,523,815 \n47         202112  대구광역시   중구   합계   49,935    57,921,353 \n48  202107-202112  대구광역시   남구   합계     16419     304763459\n49  202107-202112  대구광역시  달서구   합계     28763    1965814493\n50  202107-202112  대구광역시  달성군   합계     13573    1939690095\n51  202107-202112  대구광역시   동구   합계     24694     772840333\n52  202107-202112  대구광역시   북구   합계     24894    1176702005\n53  202107-202112  대구광역시   서구   합계     17018     470570486\n54  202107-202112  대구광역시  수성구   합계     21031     857472485\n55  202107-202112  대구광역시   중구   합계      8370     350529677",
      "text/html": "<div>\n<style scoped>\n    .dataframe tbody tr th:only-of-type {\n        vertical-align: middle;\n    }\n\n    .dataframe tbody tr th {\n        vertical-align: top;\n    }\n\n    .dataframe thead th {\n        text-align: right;\n    }\n</style>\n<table border=\"1\" class=\"dataframe\">\n  <thead>\n    <tr style=\"text-align: right;\">\n      <th></th>\n      <th>년월</th>\n      <th>시구</th>\n      <th>시군구</th>\n      <th>계약구분</th>\n      <th>고객호수(호)</th>\n      <th>사용량(kWh)</th>\n    </tr>\n  </thead>\n  <tbody>\n    <tr>\n      <th>0</th>\n      <td>202107</td>\n      <td>대구광역시</td>\n      <td>남구</td>\n      <td>합계</td>\n      <td>98,833</td>\n      <td>51,057,731</td>\n    </tr>\n    <tr>\n      <th>1</th>\n      <td>202108</td>\n      <td>대구광역시</td>\n      <td>남구</td>\n      <td>합계</td>\n      <td>98,675</td>\n      <td>61,316,406</td>\n    </tr>\n    <tr>\n      <th>2</th>\n      <td>202109</td>\n      <td>대구광역시</td>\n      <td>남구</td>\n      <td>합계</td>\n      <td>98,561</td>\n      <td>50,686,585</td>\n    </tr>\n    <tr>\n      <th>3</th>\n      <td>202110</td>\n      <td>대구광역시</td>\n      <td>남구</td>\n      <td>합계</td>\n      <td>98,444</td>\n      <td>44,174,148</td>\n    </tr>\n    <tr>\n      <th>4</th>\n      <td>202111</td>\n      <td>대구광역시</td>\n      <td>남구</td>\n      <td>합계</td>\n      <td>98,332</td>\n      <td>46,567,966</td>\n    </tr>\n    <tr>\n      <th>5</th>\n      <td>202112</td>\n      <td>대구광역시</td>\n      <td>남구</td>\n      <td>합계</td>\n      <td>98,240</td>\n      <td>50,960,623</td>\n    </tr>\n    <tr>\n      <th>6</th>\n      <td>202107</td>\n      <td>대구광역시</td>\n      <td>달서구</td>\n      <td>합계</td>\n      <td>172,471</td>\n      <td>336,727,386</td>\n    </tr>\n    <tr>\n      <th>7</th>\n      <td>202108</td>\n      <td>대구광역시</td>\n      <td>달서구</td>\n      <td>합계</td>\n      <td>172,489</td>\n      <td>362,386,449</td>\n    </tr>\n    <tr>\n      <th>8</th>\n      <td>202109</td>\n      <td>대구광역시</td>\n      <td>달서구</td>\n      <td>합계</td>\n      <td>172,522</td>\n      <td>330,613,109</td>\n    </tr>\n    <tr>\n      <th>9</th>\n      <td>202110</td>\n      <td>대구광역시</td>\n      <td>달서구</td>\n      <td>합계</td>\n      <td>172,580</td>\n      <td>293,987,157</td>\n    </tr>\n    <tr>\n      <th>10</th>\n      <td>202111</td>\n      <td>대구광역시</td>\n      <td>달서구</td>\n      <td>합계</td>\n      <td>172,736</td>\n      <td>310,068,416</td>\n    </tr>\n    <tr>\n      <th>11</th>\n      <td>202112</td>\n      <td>대구광역시</td>\n      <td>달서구</td>\n      <td>합계</td>\n      <td>172,696</td>\n      <td>332,031,976</td>\n    </tr>\n    <tr>\n      <th>12</th>\n      <td>202107</td>\n      <td>대구광역시</td>\n      <td>달성군</td>\n      <td>합계</td>\n      <td>80,870</td>\n      <td>337,795,407</td>\n    </tr>\n    <tr>\n      <th>13</th>\n      <td>202108</td>\n      <td>대구광역시</td>\n      <td>달성군</td>\n      <td>합계</td>\n      <td>81,164</td>\n      <td>327,460,112</td>\n    </tr>\n    <tr>\n      <th>14</th>\n      <td>202109</td>\n      <td>대구광역시</td>\n      <td>달성군</td>\n      <td>합계</td>\n      <td>81,353</td>\n      <td>313,058,204</td>\n    </tr>\n    <tr>\n      <th>15</th>\n      <td>202110</td>\n      <td>대구광역시</td>\n      <td>달성군</td>\n      <td>합계</td>\n      <td>81,486</td>\n      <td>301,416,808</td>\n    </tr>\n    <tr>\n      <th>16</th>\n      <td>202111</td>\n      <td>대구광역시</td>\n      <td>달성군</td>\n      <td>합계</td>\n      <td>81,939</td>\n      <td>315,091,981</td>\n    </tr>\n    <tr>\n      <th>17</th>\n      <td>202112</td>\n      <td>대구광역시</td>\n      <td>달성군</td>\n      <td>합계</td>\n      <td>81,851</td>\n      <td>344,867,583</td>\n    </tr>\n    <tr>\n      <th>18</th>\n      <td>202107</td>\n      <td>대구광역시</td>\n      <td>동구</td>\n      <td>합계</td>\n      <td>148,241</td>\n      <td>129,524,816</td>\n    </tr>\n    <tr>\n      <th>19</th>\n      <td>202108</td>\n      <td>대구광역시</td>\n      <td>동구</td>\n      <td>합계</td>\n      <td>148,127</td>\n      <td>151,650,617</td>\n    </tr>\n    <tr>\n      <th>20</th>\n      <td>202109</td>\n      <td>대구광역시</td>\n      <td>동구</td>\n      <td>합계</td>\n      <td>148,096</td>\n      <td>129,770,293</td>\n    </tr>\n    <tr>\n      <th>21</th>\n      <td>202110</td>\n      <td>대구광역시</td>\n      <td>동구</td>\n      <td>합계</td>\n      <td>148,120</td>\n      <td>114,323,214</td>\n    </tr>\n    <tr>\n      <th>22</th>\n      <td>202111</td>\n      <td>대구광역시</td>\n      <td>동구</td>\n      <td>합계</td>\n      <td>148,220</td>\n      <td>116,858,756</td>\n    </tr>\n    <tr>\n      <th>23</th>\n      <td>202112</td>\n      <td>대구광역시</td>\n      <td>동구</td>\n      <td>합계</td>\n      <td>148,195</td>\n      <td>130,712,637</td>\n    </tr>\n    <tr>\n      <th>24</th>\n      <td>202107</td>\n      <td>대구광역시</td>\n      <td>북구</td>\n      <td>합계</td>\n      <td>149,210</td>\n      <td>200,077,625</td>\n    </tr>\n    <tr>\n      <th>25</th>\n      <td>202108</td>\n      <td>대구광역시</td>\n      <td>북구</td>\n      <td>합계</td>\n      <td>149,210</td>\n      <td>226,339,465</td>\n    </tr>\n    <tr>\n      <th>26</th>\n      <td>202109</td>\n      <td>대구광역시</td>\n      <td>북구</td>\n      <td>합계</td>\n      <td>149,296</td>\n      <td>197,062,425</td>\n    </tr>\n    <tr>\n      <th>27</th>\n      <td>202110</td>\n      <td>대구광역시</td>\n      <td>북구</td>\n      <td>합계</td>\n      <td>149,317</td>\n      <td>173,398,498</td>\n    </tr>\n    <tr>\n      <th>28</th>\n      <td>202111</td>\n      <td>대구광역시</td>\n      <td>북구</td>\n      <td>합계</td>\n      <td>149,546</td>\n      <td>181,070,128</td>\n    </tr>\n    <tr>\n      <th>29</th>\n      <td>202112</td>\n      <td>대구광역시</td>\n      <td>북구</td>\n      <td>합계</td>\n      <td>149,630</td>\n      <td>198,753,864</td>\n    </tr>\n    <tr>\n      <th>30</th>\n      <td>202107</td>\n      <td>대구광역시</td>\n      <td>서구</td>\n      <td>합계</td>\n      <td>102,429</td>\n      <td>81,602,546</td>\n    </tr>\n    <tr>\n      <th>31</th>\n      <td>202108</td>\n      <td>대구광역시</td>\n      <td>서구</td>\n      <td>합계</td>\n      <td>102,372</td>\n      <td>90,705,126</td>\n    </tr>\n    <tr>\n      <th>32</th>\n      <td>202109</td>\n      <td>대구광역시</td>\n      <td>서구</td>\n      <td>합계</td>\n      <td>102,257</td>\n      <td>78,326,250</td>\n    </tr>\n    <tr>\n      <th>33</th>\n      <td>202110</td>\n      <td>대구광역시</td>\n      <td>서구</td>\n      <td>합계</td>\n      <td>102,079</td>\n      <td>69,739,726</td>\n    </tr>\n    <tr>\n      <th>34</th>\n      <td>202111</td>\n      <td>대구광역시</td>\n      <td>서구</td>\n      <td>합계</td>\n      <td>101,885</td>\n      <td>73,026,292</td>\n    </tr>\n    <tr>\n      <th>35</th>\n      <td>202112</td>\n      <td>대구광역시</td>\n      <td>서구</td>\n      <td>합계</td>\n      <td>101,653</td>\n      <td>77,170,546</td>\n    </tr>\n    <tr>\n      <th>36</th>\n      <td>202107</td>\n      <td>대구광역시</td>\n      <td>수성구</td>\n      <td>합계</td>\n      <td>126,385</td>\n      <td>144,054,649</td>\n    </tr>\n    <tr>\n      <th>37</th>\n      <td>202108</td>\n      <td>대구광역시</td>\n      <td>수성구</td>\n      <td>합계</td>\n      <td>126,262</td>\n      <td>170,973,812</td>\n    </tr>\n    <tr>\n      <th>38</th>\n      <td>202109</td>\n      <td>대구광역시</td>\n      <td>수성구</td>\n      <td>합계</td>\n      <td>126,168</td>\n      <td>143,851,382</td>\n    </tr>\n    <tr>\n      <th>39</th>\n      <td>202110</td>\n      <td>대구광역시</td>\n      <td>수성구</td>\n      <td>합계</td>\n      <td>126,094</td>\n      <td>127,344,074</td>\n    </tr>\n    <tr>\n      <th>40</th>\n      <td>202111</td>\n      <td>대구광역시</td>\n      <td>수성구</td>\n      <td>합계</td>\n      <td>126,135</td>\n      <td>128,855,471</td>\n    </tr>\n    <tr>\n      <th>41</th>\n      <td>202112</td>\n      <td>대구광역시</td>\n      <td>수성구</td>\n      <td>합계</td>\n      <td>126,095</td>\n      <td>142,393,097</td>\n    </tr>\n    <tr>\n      <th>42</th>\n      <td>202107</td>\n      <td>대구광역시</td>\n      <td>중구</td>\n      <td>합계</td>\n      <td>50,522</td>\n      <td>63,822,931</td>\n    </tr>\n    <tr>\n      <th>43</th>\n      <td>202108</td>\n      <td>대구광역시</td>\n      <td>중구</td>\n      <td>합계</td>\n      <td>50,438</td>\n      <td>70,546,965</td>\n    </tr>\n    <tr>\n      <th>44</th>\n      <td>202109</td>\n      <td>대구광역시</td>\n      <td>중구</td>\n      <td>합계</td>\n      <td>50,264</td>\n      <td>58,019,188</td>\n    </tr>\n    <tr>\n      <th>45</th>\n      <td>202110</td>\n      <td>대구광역시</td>\n      <td>중구</td>\n      <td>합계</td>\n      <td>50,127</td>\n      <td>50,695,425</td>\n    </tr>\n    <tr>\n      <th>46</th>\n      <td>202111</td>\n      <td>대구광역시</td>\n      <td>중구</td>\n      <td>합계</td>\n      <td>50,043</td>\n      <td>49,523,815</td>\n    </tr>\n    <tr>\n      <th>47</th>\n      <td>202112</td>\n      <td>대구광역시</td>\n      <td>중구</td>\n      <td>합계</td>\n      <td>49,935</td>\n      <td>57,921,353</td>\n    </tr>\n    <tr>\n      <th>48</th>\n      <td>202107-202112</td>\n      <td>대구광역시</td>\n      <td>남구</td>\n      <td>합계</td>\n      <td>16419</td>\n      <td>304763459</td>\n    </tr>\n    <tr>\n      <th>49</th>\n      <td>202107-202112</td>\n      <td>대구광역시</td>\n      <td>달서구</td>\n      <td>합계</td>\n      <td>28763</td>\n      <td>1965814493</td>\n    </tr>\n    <tr>\n      <th>50</th>\n      <td>202107-202112</td>\n      <td>대구광역시</td>\n      <td>달성군</td>\n      <td>합계</td>\n      <td>13573</td>\n      <td>1939690095</td>\n    </tr>\n    <tr>\n      <th>51</th>\n      <td>202107-202112</td>\n      <td>대구광역시</td>\n      <td>동구</td>\n      <td>합계</td>\n      <td>24694</td>\n      <td>772840333</td>\n    </tr>\n    <tr>\n      <th>52</th>\n      <td>202107-202112</td>\n      <td>대구광역시</td>\n      <td>북구</td>\n      <td>합계</td>\n      <td>24894</td>\n      <td>1176702005</td>\n    </tr>\n    <tr>\n      <th>53</th>\n      <td>202107-202112</td>\n      <td>대구광역시</td>\n      <td>서구</td>\n      <td>합계</td>\n      <td>17018</td>\n      <td>470570486</td>\n    </tr>\n    <tr>\n      <th>54</th>\n      <td>202107-202112</td>\n      <td>대구광역시</td>\n      <td>수성구</td>\n      <td>합계</td>\n      <td>21031</td>\n      <td>857472485</td>\n    </tr>\n    <tr>\n      <th>55</th>\n      <td>202107-202112</td>\n      <td>대구광역시</td>\n      <td>중구</td>\n      <td>합계</td>\n      <td>8370</td>\n      <td>350529677</td>\n    </tr>\n  </tbody>\n</table>\n</div>"
     },
     "execution_count": 15,
     "metadata": {},
     "output_type": "execute_result"
    }
   ],
   "source": [
    "Hap = df_4.copy()\n",
    "Hap.reset_index(drop=True , inplace = True)\n",
    "for i in range(len(SIGUNGU)):\n",
    "    Hap = Hap.append({'년월' :'202107-202112'  , '시구' : '{}'.format(City) , '시군구' : '{}'.format(SIGUNGU[i]) , '계약구분' : '합계' , '고객호수(호)' : sum3[i] ,  '사용량(kWh)' : sum2[i]} , ignore_index=True) #년월 파일마다 수정하기\n",
    "Hap"
   ],
   "metadata": {
    "collapsed": false,
    "pycharm": {
     "name": "#%%\n"
    }
   }
  },
  {
   "cell_type": "markdown",
   "source": [
    "### 3. 날짜 변경!!!!!!!!!!!!!!!!!!!!!!!!!!!!!!!"
   ],
   "metadata": {
    "collapsed": false,
    "pycharm": {
     "name": "#%% md\n"
    }
   }
  },
  {
   "cell_type": "code",
   "execution_count": 16,
   "outputs": [
    {
     "data": {
      "text/plain": "               년월     시구  시군구 계약구분 고객호수(호)    사용량(kWh)\n48  202107-202112  대구광역시   남구   합계   16419   304763459\n49  202107-202112  대구광역시  달서구   합계   28763  1965814493\n50  202107-202112  대구광역시  달성군   합계   13573  1939690095\n51  202107-202112  대구광역시   동구   합계   24694   772840333\n52  202107-202112  대구광역시   북구   합계   24894  1176702005\n53  202107-202112  대구광역시   서구   합계   17018   470570486\n54  202107-202112  대구광역시  수성구   합계   21031   857472485\n55  202107-202112  대구광역시   중구   합계    8370   350529677",
      "text/html": "<div>\n<style scoped>\n    .dataframe tbody tr th:only-of-type {\n        vertical-align: middle;\n    }\n\n    .dataframe tbody tr th {\n        vertical-align: top;\n    }\n\n    .dataframe thead th {\n        text-align: right;\n    }\n</style>\n<table border=\"1\" class=\"dataframe\">\n  <thead>\n    <tr style=\"text-align: right;\">\n      <th></th>\n      <th>년월</th>\n      <th>시구</th>\n      <th>시군구</th>\n      <th>계약구분</th>\n      <th>고객호수(호)</th>\n      <th>사용량(kWh)</th>\n    </tr>\n  </thead>\n  <tbody>\n    <tr>\n      <th>48</th>\n      <td>202107-202112</td>\n      <td>대구광역시</td>\n      <td>남구</td>\n      <td>합계</td>\n      <td>16419</td>\n      <td>304763459</td>\n    </tr>\n    <tr>\n      <th>49</th>\n      <td>202107-202112</td>\n      <td>대구광역시</td>\n      <td>달서구</td>\n      <td>합계</td>\n      <td>28763</td>\n      <td>1965814493</td>\n    </tr>\n    <tr>\n      <th>50</th>\n      <td>202107-202112</td>\n      <td>대구광역시</td>\n      <td>달성군</td>\n      <td>합계</td>\n      <td>13573</td>\n      <td>1939690095</td>\n    </tr>\n    <tr>\n      <th>51</th>\n      <td>202107-202112</td>\n      <td>대구광역시</td>\n      <td>동구</td>\n      <td>합계</td>\n      <td>24694</td>\n      <td>772840333</td>\n    </tr>\n    <tr>\n      <th>52</th>\n      <td>202107-202112</td>\n      <td>대구광역시</td>\n      <td>북구</td>\n      <td>합계</td>\n      <td>24894</td>\n      <td>1176702005</td>\n    </tr>\n    <tr>\n      <th>53</th>\n      <td>202107-202112</td>\n      <td>대구광역시</td>\n      <td>서구</td>\n      <td>합계</td>\n      <td>17018</td>\n      <td>470570486</td>\n    </tr>\n    <tr>\n      <th>54</th>\n      <td>202107-202112</td>\n      <td>대구광역시</td>\n      <td>수성구</td>\n      <td>합계</td>\n      <td>21031</td>\n      <td>857472485</td>\n    </tr>\n    <tr>\n      <th>55</th>\n      <td>202107-202112</td>\n      <td>대구광역시</td>\n      <td>중구</td>\n      <td>합계</td>\n      <td>8370</td>\n      <td>350529677</td>\n    </tr>\n  </tbody>\n</table>\n</div>"
     },
     "execution_count": 16,
     "metadata": {},
     "output_type": "execute_result"
    }
   ],
   "source": [
    "Hap = Hap.loc[Hap['년월'] == '202107-202112']\n",
    "Hap"
   ],
   "metadata": {
    "collapsed": false,
    "pycharm": {
     "name": "#%%\n"
    }
   }
  },
  {
   "cell_type": "code",
   "execution_count": 17,
   "outputs": [],
   "source": [
    "# SIGUNGU = SIGUNGU[:1]\n",
    "# SIGUNGU\n",
    "#for i in SIGUNGU:\n",
    "#print('{}'.format(i))\n",
    "# df_3 = df_3.loc[(df_3['시군구'] == '가평군')]\n",
    "#\n",
    "# df_3"
   ],
   "metadata": {
    "collapsed": false,
    "pycharm": {
     "name": "#%%\n"
    }
   }
  },
  {
   "cell_type": "code",
   "execution_count": 18,
   "outputs": [
    {
     "data": {
      "text/plain": "['년월', '시구', '시군구', '계약구분', '고객호수(호)', '사용량(kWh)']"
     },
     "execution_count": 18,
     "metadata": {},
     "output_type": "execute_result"
    }
   ],
   "source": [
    "a = (df_3.columns).tolist()\n",
    "\n",
    "a"
   ],
   "metadata": {
    "collapsed": false,
    "pycharm": {
     "name": "#%%\n"
    }
   }
  },
  {
   "cell_type": "code",
   "execution_count": 19,
   "outputs": [
    {
     "data": {
      "text/plain": "         년월     시구  시군구 계약구분  고객호수(호)     사용량(kWh)\n53   202107  대구광역시   남구  일반용  12,051   28,342,734 \n117  202108  대구광역시   남구  일반용  12,042   32,434,897 \n181  202109  대구광역시   남구  일반용  12,049   27,839,859 \n245  202110  대구광역시   남구  일반용  12,046   23,880,488 \n309  202111  대구광역시   남구  일반용  12,041   24,572,419 \n373  202112  대구광역시   남구  일반용  12,057   26,316,704 \n61   202107  대구광역시  달서구  일반용  28,921   79,737,706 \n125  202108  대구광역시  달서구  일반용  28,947   90,956,306 \n189  202109  대구광역시  달서구  일반용  28,961   76,937,516 \n253  202110  대구광역시  달서구  일반용  28,956   67,892,434 \n317  202111  대구광역시  달서구  일반용  29,008   65,505,470 \n381  202112  대구광역시  달서구  일반용  29,035   73,434,227 \n69   202107  대구광역시  달성군  일반용  13,845   32,460,227 \n133  202108  대구광역시  달성군  일반용  13,970   37,283,806 \n197  202109  대구광역시  달성군  일반용  13,992   32,174,401 \n261  202110  대구광역시  달성군  일반용  14,053   28,844,682 \n325  202111  대구광역시  달성군  일반용  14,099   29,142,550 \n389  202112  대구광역시  달성군  일반용  14,193   38,607,678 \n77   202107  대구광역시   동구  일반용  21,874   69,357,301 \n141  202108  대구광역시   동구  일반용  21,935   76,521,776 \n205  202109  대구광역시   동구  일반용  21,995   65,738,592 \n269  202110  대구광역시   동구  일반용  22,036   58,741,711 \n333  202111  대구광역시   동구  일반용  22,140   57,386,913 \n397  202112  대구광역시   동구  일반용  22,248   66,342,951 \n85   202107  대구광역시   북구  일반용  26,278   71,511,224 \n149  202108  대구광역시   북구  일반용  26,324   80,847,013 \n213  202109  대구광역시   북구  일반용  26,352   68,981,207 \n277  202110  대구광역시   북구  일반용  26,364   61,014,112 \n341  202111  대구광역시   북구  일반용  26,508   59,871,476 \n405  202112  대구광역시   북구  일반용  26,596   67,804,175 \n93   202107  대구광역시   서구  일반용  13,573   25,457,711 \n157  202108  대구광역시   서구  일반용  13,567   29,986,726 \n221  202109  대구광역시   서구  일반용  13,571   25,317,605 \n285  202110  대구광역시   서구  일반용  13,546   21,891,359 \n349  202111  대구광역시   서구  일반용  13,560   22,107,128 \n413  202112  대구광역시   서구  일반용  13,550   25,118,121 \n101  202107  대구광역시  수성구  일반용  24,657   63,999,621 \n165  202108  대구광역시  수성구  일반용  24,696   73,421,534 \n229  202109  대구광역시  수성구  일반용  24,717   62,220,481 \n293  202110  대구광역시  수성구  일반용  24,750   54,566,501 \n357  202111  대구광역시  수성구  일반용  24,917   53,959,374 \n421  202112  대구광역시  수성구  일반용  24,973   62,051,420 \n109  202107  대구광역시   중구  일반용  14,484   45,675,180 \n173  202108  대구광역시   중구  일반용  14,498   49,336,658 \n237  202109  대구광역시   중구  일반용  14,417   41,101,696 \n301  202110  대구광역시   중구  일반용  14,392   36,609,050 \n365  202111  대구광역시   중구  일반용  14,391   34,993,332 \n429  202112  대구광역시   중구  일반용  14,405   41,623,418 ",
      "text/html": "<div>\n<style scoped>\n    .dataframe tbody tr th:only-of-type {\n        vertical-align: middle;\n    }\n\n    .dataframe tbody tr th {\n        vertical-align: top;\n    }\n\n    .dataframe thead th {\n        text-align: right;\n    }\n</style>\n<table border=\"1\" class=\"dataframe\">\n  <thead>\n    <tr style=\"text-align: right;\">\n      <th></th>\n      <th>년월</th>\n      <th>시구</th>\n      <th>시군구</th>\n      <th>계약구분</th>\n      <th>고객호수(호)</th>\n      <th>사용량(kWh)</th>\n    </tr>\n  </thead>\n  <tbody>\n    <tr>\n      <th>53</th>\n      <td>202107</td>\n      <td>대구광역시</td>\n      <td>남구</td>\n      <td>일반용</td>\n      <td>12,051</td>\n      <td>28,342,734</td>\n    </tr>\n    <tr>\n      <th>117</th>\n      <td>202108</td>\n      <td>대구광역시</td>\n      <td>남구</td>\n      <td>일반용</td>\n      <td>12,042</td>\n      <td>32,434,897</td>\n    </tr>\n    <tr>\n      <th>181</th>\n      <td>202109</td>\n      <td>대구광역시</td>\n      <td>남구</td>\n      <td>일반용</td>\n      <td>12,049</td>\n      <td>27,839,859</td>\n    </tr>\n    <tr>\n      <th>245</th>\n      <td>202110</td>\n      <td>대구광역시</td>\n      <td>남구</td>\n      <td>일반용</td>\n      <td>12,046</td>\n      <td>23,880,488</td>\n    </tr>\n    <tr>\n      <th>309</th>\n      <td>202111</td>\n      <td>대구광역시</td>\n      <td>남구</td>\n      <td>일반용</td>\n      <td>12,041</td>\n      <td>24,572,419</td>\n    </tr>\n    <tr>\n      <th>373</th>\n      <td>202112</td>\n      <td>대구광역시</td>\n      <td>남구</td>\n      <td>일반용</td>\n      <td>12,057</td>\n      <td>26,316,704</td>\n    </tr>\n    <tr>\n      <th>61</th>\n      <td>202107</td>\n      <td>대구광역시</td>\n      <td>달서구</td>\n      <td>일반용</td>\n      <td>28,921</td>\n      <td>79,737,706</td>\n    </tr>\n    <tr>\n      <th>125</th>\n      <td>202108</td>\n      <td>대구광역시</td>\n      <td>달서구</td>\n      <td>일반용</td>\n      <td>28,947</td>\n      <td>90,956,306</td>\n    </tr>\n    <tr>\n      <th>189</th>\n      <td>202109</td>\n      <td>대구광역시</td>\n      <td>달서구</td>\n      <td>일반용</td>\n      <td>28,961</td>\n      <td>76,937,516</td>\n    </tr>\n    <tr>\n      <th>253</th>\n      <td>202110</td>\n      <td>대구광역시</td>\n      <td>달서구</td>\n      <td>일반용</td>\n      <td>28,956</td>\n      <td>67,892,434</td>\n    </tr>\n    <tr>\n      <th>317</th>\n      <td>202111</td>\n      <td>대구광역시</td>\n      <td>달서구</td>\n      <td>일반용</td>\n      <td>29,008</td>\n      <td>65,505,470</td>\n    </tr>\n    <tr>\n      <th>381</th>\n      <td>202112</td>\n      <td>대구광역시</td>\n      <td>달서구</td>\n      <td>일반용</td>\n      <td>29,035</td>\n      <td>73,434,227</td>\n    </tr>\n    <tr>\n      <th>69</th>\n      <td>202107</td>\n      <td>대구광역시</td>\n      <td>달성군</td>\n      <td>일반용</td>\n      <td>13,845</td>\n      <td>32,460,227</td>\n    </tr>\n    <tr>\n      <th>133</th>\n      <td>202108</td>\n      <td>대구광역시</td>\n      <td>달성군</td>\n      <td>일반용</td>\n      <td>13,970</td>\n      <td>37,283,806</td>\n    </tr>\n    <tr>\n      <th>197</th>\n      <td>202109</td>\n      <td>대구광역시</td>\n      <td>달성군</td>\n      <td>일반용</td>\n      <td>13,992</td>\n      <td>32,174,401</td>\n    </tr>\n    <tr>\n      <th>261</th>\n      <td>202110</td>\n      <td>대구광역시</td>\n      <td>달성군</td>\n      <td>일반용</td>\n      <td>14,053</td>\n      <td>28,844,682</td>\n    </tr>\n    <tr>\n      <th>325</th>\n      <td>202111</td>\n      <td>대구광역시</td>\n      <td>달성군</td>\n      <td>일반용</td>\n      <td>14,099</td>\n      <td>29,142,550</td>\n    </tr>\n    <tr>\n      <th>389</th>\n      <td>202112</td>\n      <td>대구광역시</td>\n      <td>달성군</td>\n      <td>일반용</td>\n      <td>14,193</td>\n      <td>38,607,678</td>\n    </tr>\n    <tr>\n      <th>77</th>\n      <td>202107</td>\n      <td>대구광역시</td>\n      <td>동구</td>\n      <td>일반용</td>\n      <td>21,874</td>\n      <td>69,357,301</td>\n    </tr>\n    <tr>\n      <th>141</th>\n      <td>202108</td>\n      <td>대구광역시</td>\n      <td>동구</td>\n      <td>일반용</td>\n      <td>21,935</td>\n      <td>76,521,776</td>\n    </tr>\n    <tr>\n      <th>205</th>\n      <td>202109</td>\n      <td>대구광역시</td>\n      <td>동구</td>\n      <td>일반용</td>\n      <td>21,995</td>\n      <td>65,738,592</td>\n    </tr>\n    <tr>\n      <th>269</th>\n      <td>202110</td>\n      <td>대구광역시</td>\n      <td>동구</td>\n      <td>일반용</td>\n      <td>22,036</td>\n      <td>58,741,711</td>\n    </tr>\n    <tr>\n      <th>333</th>\n      <td>202111</td>\n      <td>대구광역시</td>\n      <td>동구</td>\n      <td>일반용</td>\n      <td>22,140</td>\n      <td>57,386,913</td>\n    </tr>\n    <tr>\n      <th>397</th>\n      <td>202112</td>\n      <td>대구광역시</td>\n      <td>동구</td>\n      <td>일반용</td>\n      <td>22,248</td>\n      <td>66,342,951</td>\n    </tr>\n    <tr>\n      <th>85</th>\n      <td>202107</td>\n      <td>대구광역시</td>\n      <td>북구</td>\n      <td>일반용</td>\n      <td>26,278</td>\n      <td>71,511,224</td>\n    </tr>\n    <tr>\n      <th>149</th>\n      <td>202108</td>\n      <td>대구광역시</td>\n      <td>북구</td>\n      <td>일반용</td>\n      <td>26,324</td>\n      <td>80,847,013</td>\n    </tr>\n    <tr>\n      <th>213</th>\n      <td>202109</td>\n      <td>대구광역시</td>\n      <td>북구</td>\n      <td>일반용</td>\n      <td>26,352</td>\n      <td>68,981,207</td>\n    </tr>\n    <tr>\n      <th>277</th>\n      <td>202110</td>\n      <td>대구광역시</td>\n      <td>북구</td>\n      <td>일반용</td>\n      <td>26,364</td>\n      <td>61,014,112</td>\n    </tr>\n    <tr>\n      <th>341</th>\n      <td>202111</td>\n      <td>대구광역시</td>\n      <td>북구</td>\n      <td>일반용</td>\n      <td>26,508</td>\n      <td>59,871,476</td>\n    </tr>\n    <tr>\n      <th>405</th>\n      <td>202112</td>\n      <td>대구광역시</td>\n      <td>북구</td>\n      <td>일반용</td>\n      <td>26,596</td>\n      <td>67,804,175</td>\n    </tr>\n    <tr>\n      <th>93</th>\n      <td>202107</td>\n      <td>대구광역시</td>\n      <td>서구</td>\n      <td>일반용</td>\n      <td>13,573</td>\n      <td>25,457,711</td>\n    </tr>\n    <tr>\n      <th>157</th>\n      <td>202108</td>\n      <td>대구광역시</td>\n      <td>서구</td>\n      <td>일반용</td>\n      <td>13,567</td>\n      <td>29,986,726</td>\n    </tr>\n    <tr>\n      <th>221</th>\n      <td>202109</td>\n      <td>대구광역시</td>\n      <td>서구</td>\n      <td>일반용</td>\n      <td>13,571</td>\n      <td>25,317,605</td>\n    </tr>\n    <tr>\n      <th>285</th>\n      <td>202110</td>\n      <td>대구광역시</td>\n      <td>서구</td>\n      <td>일반용</td>\n      <td>13,546</td>\n      <td>21,891,359</td>\n    </tr>\n    <tr>\n      <th>349</th>\n      <td>202111</td>\n      <td>대구광역시</td>\n      <td>서구</td>\n      <td>일반용</td>\n      <td>13,560</td>\n      <td>22,107,128</td>\n    </tr>\n    <tr>\n      <th>413</th>\n      <td>202112</td>\n      <td>대구광역시</td>\n      <td>서구</td>\n      <td>일반용</td>\n      <td>13,550</td>\n      <td>25,118,121</td>\n    </tr>\n    <tr>\n      <th>101</th>\n      <td>202107</td>\n      <td>대구광역시</td>\n      <td>수성구</td>\n      <td>일반용</td>\n      <td>24,657</td>\n      <td>63,999,621</td>\n    </tr>\n    <tr>\n      <th>165</th>\n      <td>202108</td>\n      <td>대구광역시</td>\n      <td>수성구</td>\n      <td>일반용</td>\n      <td>24,696</td>\n      <td>73,421,534</td>\n    </tr>\n    <tr>\n      <th>229</th>\n      <td>202109</td>\n      <td>대구광역시</td>\n      <td>수성구</td>\n      <td>일반용</td>\n      <td>24,717</td>\n      <td>62,220,481</td>\n    </tr>\n    <tr>\n      <th>293</th>\n      <td>202110</td>\n      <td>대구광역시</td>\n      <td>수성구</td>\n      <td>일반용</td>\n      <td>24,750</td>\n      <td>54,566,501</td>\n    </tr>\n    <tr>\n      <th>357</th>\n      <td>202111</td>\n      <td>대구광역시</td>\n      <td>수성구</td>\n      <td>일반용</td>\n      <td>24,917</td>\n      <td>53,959,374</td>\n    </tr>\n    <tr>\n      <th>421</th>\n      <td>202112</td>\n      <td>대구광역시</td>\n      <td>수성구</td>\n      <td>일반용</td>\n      <td>24,973</td>\n      <td>62,051,420</td>\n    </tr>\n    <tr>\n      <th>109</th>\n      <td>202107</td>\n      <td>대구광역시</td>\n      <td>중구</td>\n      <td>일반용</td>\n      <td>14,484</td>\n      <td>45,675,180</td>\n    </tr>\n    <tr>\n      <th>173</th>\n      <td>202108</td>\n      <td>대구광역시</td>\n      <td>중구</td>\n      <td>일반용</td>\n      <td>14,498</td>\n      <td>49,336,658</td>\n    </tr>\n    <tr>\n      <th>237</th>\n      <td>202109</td>\n      <td>대구광역시</td>\n      <td>중구</td>\n      <td>일반용</td>\n      <td>14,417</td>\n      <td>41,101,696</td>\n    </tr>\n    <tr>\n      <th>301</th>\n      <td>202110</td>\n      <td>대구광역시</td>\n      <td>중구</td>\n      <td>일반용</td>\n      <td>14,392</td>\n      <td>36,609,050</td>\n    </tr>\n    <tr>\n      <th>365</th>\n      <td>202111</td>\n      <td>대구광역시</td>\n      <td>중구</td>\n      <td>일반용</td>\n      <td>14,391</td>\n      <td>34,993,332</td>\n    </tr>\n    <tr>\n      <th>429</th>\n      <td>202112</td>\n      <td>대구광역시</td>\n      <td>중구</td>\n      <td>일반용</td>\n      <td>14,405</td>\n      <td>41,623,418</td>\n    </tr>\n  </tbody>\n</table>\n</div>"
     },
     "execution_count": 19,
     "metadata": {},
     "output_type": "execute_result"
    }
   ],
   "source": [
    "df_3"
   ],
   "metadata": {
    "collapsed": false,
    "pycharm": {
     "name": "#%%\n"
    }
   }
  },
  {
   "cell_type": "code",
   "execution_count": 20,
   "outputs": [],
   "source": [
    "# GyeonGiHap = pd.DataFrame([] , columns = a)\n",
    "# GyeonGiHap['사용량']= df_3['사용량(kWh)'].loc[(df_3['시군구'] == '{가평군}')]\n",
    "# GyeonGiHap"
   ],
   "metadata": {
    "collapsed": false,
    "pycharm": {
     "name": "#%%\n"
    }
   }
  },
  {
   "cell_type": "code",
   "execution_count": 21,
   "outputs": [
    {
     "name": "stdout",
     "output_type": "stream",
     "text": [
      "[28342734, 32434897, 27839859, 23880488, 24572419, 26316704]\n",
      "[79737706, 90956306, 76937516, 67892434, 65505470, 73434227]\n",
      "[32460227, 37283806, 32174401, 28844682, 29142550, 38607678]\n",
      "[69357301, 76521776, 65738592, 58741711, 57386913, 66342951]\n",
      "[71511224, 80847013, 68981207, 61014112, 59871476, 67804175]\n",
      "[25457711, 29986726, 25317605, 21891359, 22107128, 25118121]\n",
      "[63999621, 73421534, 62220481, 54566501, 53959374, 62051420]\n",
      "[45675180, 49336658, 41101696, 36609050, 34993332, 41623418]\n",
      "대구광역시 지역별 일반용 합계 :  [163387101, 454463659, 198513344, 394089244, 410029207, 149878650, 370218931, 249339334]\n",
      "대구광역시 고객호수 평균:  [12047, 28971, 14025, 22038, 26403, 13561, 24785, 14431]\n"
     ]
    }
   ],
   "source": [
    "sum2 , sum3 =[] , []\n",
    "for k in SIGUNGU:\n",
    "    GyeonGiHap = pd.DataFrame([] , columns = a)\n",
    "    HOSU = pd.DataFrame([], columns = a)\n",
    "    GyeonGiHap['사용량']= df_3['사용량(kWh)'].loc[(df_3['시군구'] == '{}'.format(k))]\n",
    "    HOSU['고객호수']= df_3['고객호수(호)'].loc[(df_3['시군구'] == '{}'.format(k))]\n",
    "    #경기합 데이터프레임의 사용량 열에 기군구가 가평군인 사용량 데이터만 뽑아내기\n",
    "    # GyeonGiHap = GyeonGiHap['사용량']\n",
    "\n",
    "    b = GyeonGiHap['사용량'].tolist()\n",
    "    c = HOSU['고객호수'].tolist()\n",
    "\n",
    "\n",
    "    #각지역별 사용량 리스트화\n",
    "    int_list  , int_list2=[] , []\n",
    "    for i in b:\n",
    "        i = re.sub(\",\" , \"\" , i)\n",
    "        #콤마 없애기\n",
    "        int_list.append(int(i))\n",
    "        #int_list에 각지역별 사용량 int로 저장\n",
    "    print(int_list)\n",
    "    sum=0\n",
    "    for i in c:\n",
    "        i = re.sub(\",\" , \"\" , i)\n",
    "        int_list2.append(int(i))\n",
    "\n",
    "    for j in int_list:\n",
    "\n",
    "        sum+= j\n",
    "    sum2.append(sum)\n",
    "    sum = 0\n",
    "    for j in int_list2: #고객호수 추출하여 더하기\n",
    "\n",
    "        sum+= j\n",
    "    sum3.append(sum//6) #6개월 치로 나눠야하나?!\n",
    "\n",
    "\n",
    "\n",
    "\n",
    "print(\"{} 지역별 일반용 합계 : \".format(City) , sum2)\n",
    "print(\"{} 고객호수 평균: \".format(City) , sum3)\n",
    "# GyeonGiHap['합계'] = sum\n",
    "#\n",
    "# GyeonGiHap"
   ],
   "metadata": {
    "collapsed": false,
    "pycharm": {
     "name": "#%%\n"
    }
   }
  },
  {
   "cell_type": "code",
   "execution_count": 22,
   "outputs": [],
   "source": [
    "# df_3 = df_3.loc[(df_3['시군구'] == '가평군')]\n",
    "#\n",
    "# df_3"
   ],
   "metadata": {
    "collapsed": false,
    "pycharm": {
     "name": "#%%\n"
    }
   }
  },
  {
   "cell_type": "code",
   "execution_count": 23,
   "outputs": [],
   "source": [
    "# GyeonGiHap = df_3.copy()\n",
    "# GyeonGiHap.reset_index(drop=True , inplace = True)\n",
    "# GyeonGiHap.append({'년월' : '202107-202112'  , '시구' : '경기도' , '시군구' : '가평군' , '계약구분' : '일반용' , '사용량(kWh)' : sum}, ignore_index=True)"
   ],
   "metadata": {
    "collapsed": false,
    "pycharm": {
     "name": "#%%\n"
    }
   }
  },
  {
   "cell_type": "code",
   "execution_count": 24,
   "outputs": [],
   "source": [
    "# a=[]\n",
    "# for i in SIGUNGU:\n",
    "#     a.append(i)\n",
    "#\n",
    "# print(a)"
   ],
   "metadata": {
    "collapsed": false,
    "pycharm": {
     "name": "#%%\n"
    }
   }
  },
  {
   "cell_type": "markdown",
   "source": [
    "### 4. 년월 체크!!!!!!!!!!!!!!!!!!!!!!!!!!!!!!!!!!!!!!!!!!!!!!!!!!!!!!!!!!!!!!!!!"
   ],
   "metadata": {
    "collapsed": false,
    "pycharm": {
     "name": "#%% md\n"
    }
   }
  },
  {
   "cell_type": "code",
   "execution_count": 25,
   "outputs": [
    {
     "name": "stderr",
     "output_type": "stream",
     "text": [
      "C:\\Users\\user\\AppData\\Local\\Temp\\ipykernel_25048\\2943201010.py:4: FutureWarning: The frame.append method is deprecated and will be removed from pandas in a future version. Use pandas.concat instead.\n",
      "  GyeonGiHap2 = GyeonGiHap2.append({'년월' :'202107-202112'  , '시구' : '{}'.format(City) , '시군구' : '{}'.format(SIGUNGU[i]) , '계약구분' : '일반용' , '고객호수(호)' : sum3[i] ,  '사용량(kWh)' : sum2[i]} , ignore_index=True) #년월 파일마다 수정하기\n",
      "C:\\Users\\user\\AppData\\Local\\Temp\\ipykernel_25048\\2943201010.py:4: FutureWarning: The frame.append method is deprecated and will be removed from pandas in a future version. Use pandas.concat instead.\n",
      "  GyeonGiHap2 = GyeonGiHap2.append({'년월' :'202107-202112'  , '시구' : '{}'.format(City) , '시군구' : '{}'.format(SIGUNGU[i]) , '계약구분' : '일반용' , '고객호수(호)' : sum3[i] ,  '사용량(kWh)' : sum2[i]} , ignore_index=True) #년월 파일마다 수정하기\n",
      "C:\\Users\\user\\AppData\\Local\\Temp\\ipykernel_25048\\2943201010.py:4: FutureWarning: The frame.append method is deprecated and will be removed from pandas in a future version. Use pandas.concat instead.\n",
      "  GyeonGiHap2 = GyeonGiHap2.append({'년월' :'202107-202112'  , '시구' : '{}'.format(City) , '시군구' : '{}'.format(SIGUNGU[i]) , '계약구분' : '일반용' , '고객호수(호)' : sum3[i] ,  '사용량(kWh)' : sum2[i]} , ignore_index=True) #년월 파일마다 수정하기\n",
      "C:\\Users\\user\\AppData\\Local\\Temp\\ipykernel_25048\\2943201010.py:4: FutureWarning: The frame.append method is deprecated and will be removed from pandas in a future version. Use pandas.concat instead.\n",
      "  GyeonGiHap2 = GyeonGiHap2.append({'년월' :'202107-202112'  , '시구' : '{}'.format(City) , '시군구' : '{}'.format(SIGUNGU[i]) , '계약구분' : '일반용' , '고객호수(호)' : sum3[i] ,  '사용량(kWh)' : sum2[i]} , ignore_index=True) #년월 파일마다 수정하기\n",
      "C:\\Users\\user\\AppData\\Local\\Temp\\ipykernel_25048\\2943201010.py:4: FutureWarning: The frame.append method is deprecated and will be removed from pandas in a future version. Use pandas.concat instead.\n",
      "  GyeonGiHap2 = GyeonGiHap2.append({'년월' :'202107-202112'  , '시구' : '{}'.format(City) , '시군구' : '{}'.format(SIGUNGU[i]) , '계약구분' : '일반용' , '고객호수(호)' : sum3[i] ,  '사용량(kWh)' : sum2[i]} , ignore_index=True) #년월 파일마다 수정하기\n",
      "C:\\Users\\user\\AppData\\Local\\Temp\\ipykernel_25048\\2943201010.py:4: FutureWarning: The frame.append method is deprecated and will be removed from pandas in a future version. Use pandas.concat instead.\n",
      "  GyeonGiHap2 = GyeonGiHap2.append({'년월' :'202107-202112'  , '시구' : '{}'.format(City) , '시군구' : '{}'.format(SIGUNGU[i]) , '계약구분' : '일반용' , '고객호수(호)' : sum3[i] ,  '사용량(kWh)' : sum2[i]} , ignore_index=True) #년월 파일마다 수정하기\n",
      "C:\\Users\\user\\AppData\\Local\\Temp\\ipykernel_25048\\2943201010.py:4: FutureWarning: The frame.append method is deprecated and will be removed from pandas in a future version. Use pandas.concat instead.\n",
      "  GyeonGiHap2 = GyeonGiHap2.append({'년월' :'202107-202112'  , '시구' : '{}'.format(City) , '시군구' : '{}'.format(SIGUNGU[i]) , '계약구분' : '일반용' , '고객호수(호)' : sum3[i] ,  '사용량(kWh)' : sum2[i]} , ignore_index=True) #년월 파일마다 수정하기\n",
      "C:\\Users\\user\\AppData\\Local\\Temp\\ipykernel_25048\\2943201010.py:4: FutureWarning: The frame.append method is deprecated and will be removed from pandas in a future version. Use pandas.concat instead.\n",
      "  GyeonGiHap2 = GyeonGiHap2.append({'년월' :'202107-202112'  , '시구' : '{}'.format(City) , '시군구' : '{}'.format(SIGUNGU[i]) , '계약구분' : '일반용' , '고객호수(호)' : sum3[i] ,  '사용량(kWh)' : sum2[i]} , ignore_index=True) #년월 파일마다 수정하기\n"
     ]
    },
    {
     "data": {
      "text/plain": "               년월     시구  시군구 계약구분  고객호수(호)     사용량(kWh)\n0          202107  대구광역시   남구  일반용  12,051   28,342,734 \n1          202108  대구광역시   남구  일반용  12,042   32,434,897 \n2          202109  대구광역시   남구  일반용  12,049   27,839,859 \n3          202110  대구광역시   남구  일반용  12,046   23,880,488 \n4          202111  대구광역시   남구  일반용  12,041   24,572,419 \n5          202112  대구광역시   남구  일반용  12,057   26,316,704 \n6          202107  대구광역시  달서구  일반용  28,921   79,737,706 \n7          202108  대구광역시  달서구  일반용  28,947   90,956,306 \n8          202109  대구광역시  달서구  일반용  28,961   76,937,516 \n9          202110  대구광역시  달서구  일반용  28,956   67,892,434 \n10         202111  대구광역시  달서구  일반용  29,008   65,505,470 \n11         202112  대구광역시  달서구  일반용  29,035   73,434,227 \n12         202107  대구광역시  달성군  일반용  13,845   32,460,227 \n13         202108  대구광역시  달성군  일반용  13,970   37,283,806 \n14         202109  대구광역시  달성군  일반용  13,992   32,174,401 \n15         202110  대구광역시  달성군  일반용  14,053   28,844,682 \n16         202111  대구광역시  달성군  일반용  14,099   29,142,550 \n17         202112  대구광역시  달성군  일반용  14,193   38,607,678 \n18         202107  대구광역시   동구  일반용  21,874   69,357,301 \n19         202108  대구광역시   동구  일반용  21,935   76,521,776 \n20         202109  대구광역시   동구  일반용  21,995   65,738,592 \n21         202110  대구광역시   동구  일반용  22,036   58,741,711 \n22         202111  대구광역시   동구  일반용  22,140   57,386,913 \n23         202112  대구광역시   동구  일반용  22,248   66,342,951 \n24         202107  대구광역시   북구  일반용  26,278   71,511,224 \n25         202108  대구광역시   북구  일반용  26,324   80,847,013 \n26         202109  대구광역시   북구  일반용  26,352   68,981,207 \n27         202110  대구광역시   북구  일반용  26,364   61,014,112 \n28         202111  대구광역시   북구  일반용  26,508   59,871,476 \n29         202112  대구광역시   북구  일반용  26,596   67,804,175 \n30         202107  대구광역시   서구  일반용  13,573   25,457,711 \n31         202108  대구광역시   서구  일반용  13,567   29,986,726 \n32         202109  대구광역시   서구  일반용  13,571   25,317,605 \n33         202110  대구광역시   서구  일반용  13,546   21,891,359 \n34         202111  대구광역시   서구  일반용  13,560   22,107,128 \n35         202112  대구광역시   서구  일반용  13,550   25,118,121 \n36         202107  대구광역시  수성구  일반용  24,657   63,999,621 \n37         202108  대구광역시  수성구  일반용  24,696   73,421,534 \n38         202109  대구광역시  수성구  일반용  24,717   62,220,481 \n39         202110  대구광역시  수성구  일반용  24,750   54,566,501 \n40         202111  대구광역시  수성구  일반용  24,917   53,959,374 \n41         202112  대구광역시  수성구  일반용  24,973   62,051,420 \n42         202107  대구광역시   중구  일반용  14,484   45,675,180 \n43         202108  대구광역시   중구  일반용  14,498   49,336,658 \n44         202109  대구광역시   중구  일반용  14,417   41,101,696 \n45         202110  대구광역시   중구  일반용  14,392   36,609,050 \n46         202111  대구광역시   중구  일반용  14,391   34,993,332 \n47         202112  대구광역시   중구  일반용  14,405   41,623,418 \n48  202107-202112  대구광역시   남구  일반용    12047    163387101\n49  202107-202112  대구광역시  달서구  일반용    28971    454463659\n50  202107-202112  대구광역시  달성군  일반용    14025    198513344\n51  202107-202112  대구광역시   동구  일반용    22038    394089244\n52  202107-202112  대구광역시   북구  일반용    26403    410029207\n53  202107-202112  대구광역시   서구  일반용    13561    149878650\n54  202107-202112  대구광역시  수성구  일반용    24785    370218931\n55  202107-202112  대구광역시   중구  일반용    14431    249339334",
      "text/html": "<div>\n<style scoped>\n    .dataframe tbody tr th:only-of-type {\n        vertical-align: middle;\n    }\n\n    .dataframe tbody tr th {\n        vertical-align: top;\n    }\n\n    .dataframe thead th {\n        text-align: right;\n    }\n</style>\n<table border=\"1\" class=\"dataframe\">\n  <thead>\n    <tr style=\"text-align: right;\">\n      <th></th>\n      <th>년월</th>\n      <th>시구</th>\n      <th>시군구</th>\n      <th>계약구분</th>\n      <th>고객호수(호)</th>\n      <th>사용량(kWh)</th>\n    </tr>\n  </thead>\n  <tbody>\n    <tr>\n      <th>0</th>\n      <td>202107</td>\n      <td>대구광역시</td>\n      <td>남구</td>\n      <td>일반용</td>\n      <td>12,051</td>\n      <td>28,342,734</td>\n    </tr>\n    <tr>\n      <th>1</th>\n      <td>202108</td>\n      <td>대구광역시</td>\n      <td>남구</td>\n      <td>일반용</td>\n      <td>12,042</td>\n      <td>32,434,897</td>\n    </tr>\n    <tr>\n      <th>2</th>\n      <td>202109</td>\n      <td>대구광역시</td>\n      <td>남구</td>\n      <td>일반용</td>\n      <td>12,049</td>\n      <td>27,839,859</td>\n    </tr>\n    <tr>\n      <th>3</th>\n      <td>202110</td>\n      <td>대구광역시</td>\n      <td>남구</td>\n      <td>일반용</td>\n      <td>12,046</td>\n      <td>23,880,488</td>\n    </tr>\n    <tr>\n      <th>4</th>\n      <td>202111</td>\n      <td>대구광역시</td>\n      <td>남구</td>\n      <td>일반용</td>\n      <td>12,041</td>\n      <td>24,572,419</td>\n    </tr>\n    <tr>\n      <th>5</th>\n      <td>202112</td>\n      <td>대구광역시</td>\n      <td>남구</td>\n      <td>일반용</td>\n      <td>12,057</td>\n      <td>26,316,704</td>\n    </tr>\n    <tr>\n      <th>6</th>\n      <td>202107</td>\n      <td>대구광역시</td>\n      <td>달서구</td>\n      <td>일반용</td>\n      <td>28,921</td>\n      <td>79,737,706</td>\n    </tr>\n    <tr>\n      <th>7</th>\n      <td>202108</td>\n      <td>대구광역시</td>\n      <td>달서구</td>\n      <td>일반용</td>\n      <td>28,947</td>\n      <td>90,956,306</td>\n    </tr>\n    <tr>\n      <th>8</th>\n      <td>202109</td>\n      <td>대구광역시</td>\n      <td>달서구</td>\n      <td>일반용</td>\n      <td>28,961</td>\n      <td>76,937,516</td>\n    </tr>\n    <tr>\n      <th>9</th>\n      <td>202110</td>\n      <td>대구광역시</td>\n      <td>달서구</td>\n      <td>일반용</td>\n      <td>28,956</td>\n      <td>67,892,434</td>\n    </tr>\n    <tr>\n      <th>10</th>\n      <td>202111</td>\n      <td>대구광역시</td>\n      <td>달서구</td>\n      <td>일반용</td>\n      <td>29,008</td>\n      <td>65,505,470</td>\n    </tr>\n    <tr>\n      <th>11</th>\n      <td>202112</td>\n      <td>대구광역시</td>\n      <td>달서구</td>\n      <td>일반용</td>\n      <td>29,035</td>\n      <td>73,434,227</td>\n    </tr>\n    <tr>\n      <th>12</th>\n      <td>202107</td>\n      <td>대구광역시</td>\n      <td>달성군</td>\n      <td>일반용</td>\n      <td>13,845</td>\n      <td>32,460,227</td>\n    </tr>\n    <tr>\n      <th>13</th>\n      <td>202108</td>\n      <td>대구광역시</td>\n      <td>달성군</td>\n      <td>일반용</td>\n      <td>13,970</td>\n      <td>37,283,806</td>\n    </tr>\n    <tr>\n      <th>14</th>\n      <td>202109</td>\n      <td>대구광역시</td>\n      <td>달성군</td>\n      <td>일반용</td>\n      <td>13,992</td>\n      <td>32,174,401</td>\n    </tr>\n    <tr>\n      <th>15</th>\n      <td>202110</td>\n      <td>대구광역시</td>\n      <td>달성군</td>\n      <td>일반용</td>\n      <td>14,053</td>\n      <td>28,844,682</td>\n    </tr>\n    <tr>\n      <th>16</th>\n      <td>202111</td>\n      <td>대구광역시</td>\n      <td>달성군</td>\n      <td>일반용</td>\n      <td>14,099</td>\n      <td>29,142,550</td>\n    </tr>\n    <tr>\n      <th>17</th>\n      <td>202112</td>\n      <td>대구광역시</td>\n      <td>달성군</td>\n      <td>일반용</td>\n      <td>14,193</td>\n      <td>38,607,678</td>\n    </tr>\n    <tr>\n      <th>18</th>\n      <td>202107</td>\n      <td>대구광역시</td>\n      <td>동구</td>\n      <td>일반용</td>\n      <td>21,874</td>\n      <td>69,357,301</td>\n    </tr>\n    <tr>\n      <th>19</th>\n      <td>202108</td>\n      <td>대구광역시</td>\n      <td>동구</td>\n      <td>일반용</td>\n      <td>21,935</td>\n      <td>76,521,776</td>\n    </tr>\n    <tr>\n      <th>20</th>\n      <td>202109</td>\n      <td>대구광역시</td>\n      <td>동구</td>\n      <td>일반용</td>\n      <td>21,995</td>\n      <td>65,738,592</td>\n    </tr>\n    <tr>\n      <th>21</th>\n      <td>202110</td>\n      <td>대구광역시</td>\n      <td>동구</td>\n      <td>일반용</td>\n      <td>22,036</td>\n      <td>58,741,711</td>\n    </tr>\n    <tr>\n      <th>22</th>\n      <td>202111</td>\n      <td>대구광역시</td>\n      <td>동구</td>\n      <td>일반용</td>\n      <td>22,140</td>\n      <td>57,386,913</td>\n    </tr>\n    <tr>\n      <th>23</th>\n      <td>202112</td>\n      <td>대구광역시</td>\n      <td>동구</td>\n      <td>일반용</td>\n      <td>22,248</td>\n      <td>66,342,951</td>\n    </tr>\n    <tr>\n      <th>24</th>\n      <td>202107</td>\n      <td>대구광역시</td>\n      <td>북구</td>\n      <td>일반용</td>\n      <td>26,278</td>\n      <td>71,511,224</td>\n    </tr>\n    <tr>\n      <th>25</th>\n      <td>202108</td>\n      <td>대구광역시</td>\n      <td>북구</td>\n      <td>일반용</td>\n      <td>26,324</td>\n      <td>80,847,013</td>\n    </tr>\n    <tr>\n      <th>26</th>\n      <td>202109</td>\n      <td>대구광역시</td>\n      <td>북구</td>\n      <td>일반용</td>\n      <td>26,352</td>\n      <td>68,981,207</td>\n    </tr>\n    <tr>\n      <th>27</th>\n      <td>202110</td>\n      <td>대구광역시</td>\n      <td>북구</td>\n      <td>일반용</td>\n      <td>26,364</td>\n      <td>61,014,112</td>\n    </tr>\n    <tr>\n      <th>28</th>\n      <td>202111</td>\n      <td>대구광역시</td>\n      <td>북구</td>\n      <td>일반용</td>\n      <td>26,508</td>\n      <td>59,871,476</td>\n    </tr>\n    <tr>\n      <th>29</th>\n      <td>202112</td>\n      <td>대구광역시</td>\n      <td>북구</td>\n      <td>일반용</td>\n      <td>26,596</td>\n      <td>67,804,175</td>\n    </tr>\n    <tr>\n      <th>30</th>\n      <td>202107</td>\n      <td>대구광역시</td>\n      <td>서구</td>\n      <td>일반용</td>\n      <td>13,573</td>\n      <td>25,457,711</td>\n    </tr>\n    <tr>\n      <th>31</th>\n      <td>202108</td>\n      <td>대구광역시</td>\n      <td>서구</td>\n      <td>일반용</td>\n      <td>13,567</td>\n      <td>29,986,726</td>\n    </tr>\n    <tr>\n      <th>32</th>\n      <td>202109</td>\n      <td>대구광역시</td>\n      <td>서구</td>\n      <td>일반용</td>\n      <td>13,571</td>\n      <td>25,317,605</td>\n    </tr>\n    <tr>\n      <th>33</th>\n      <td>202110</td>\n      <td>대구광역시</td>\n      <td>서구</td>\n      <td>일반용</td>\n      <td>13,546</td>\n      <td>21,891,359</td>\n    </tr>\n    <tr>\n      <th>34</th>\n      <td>202111</td>\n      <td>대구광역시</td>\n      <td>서구</td>\n      <td>일반용</td>\n      <td>13,560</td>\n      <td>22,107,128</td>\n    </tr>\n    <tr>\n      <th>35</th>\n      <td>202112</td>\n      <td>대구광역시</td>\n      <td>서구</td>\n      <td>일반용</td>\n      <td>13,550</td>\n      <td>25,118,121</td>\n    </tr>\n    <tr>\n      <th>36</th>\n      <td>202107</td>\n      <td>대구광역시</td>\n      <td>수성구</td>\n      <td>일반용</td>\n      <td>24,657</td>\n      <td>63,999,621</td>\n    </tr>\n    <tr>\n      <th>37</th>\n      <td>202108</td>\n      <td>대구광역시</td>\n      <td>수성구</td>\n      <td>일반용</td>\n      <td>24,696</td>\n      <td>73,421,534</td>\n    </tr>\n    <tr>\n      <th>38</th>\n      <td>202109</td>\n      <td>대구광역시</td>\n      <td>수성구</td>\n      <td>일반용</td>\n      <td>24,717</td>\n      <td>62,220,481</td>\n    </tr>\n    <tr>\n      <th>39</th>\n      <td>202110</td>\n      <td>대구광역시</td>\n      <td>수성구</td>\n      <td>일반용</td>\n      <td>24,750</td>\n      <td>54,566,501</td>\n    </tr>\n    <tr>\n      <th>40</th>\n      <td>202111</td>\n      <td>대구광역시</td>\n      <td>수성구</td>\n      <td>일반용</td>\n      <td>24,917</td>\n      <td>53,959,374</td>\n    </tr>\n    <tr>\n      <th>41</th>\n      <td>202112</td>\n      <td>대구광역시</td>\n      <td>수성구</td>\n      <td>일반용</td>\n      <td>24,973</td>\n      <td>62,051,420</td>\n    </tr>\n    <tr>\n      <th>42</th>\n      <td>202107</td>\n      <td>대구광역시</td>\n      <td>중구</td>\n      <td>일반용</td>\n      <td>14,484</td>\n      <td>45,675,180</td>\n    </tr>\n    <tr>\n      <th>43</th>\n      <td>202108</td>\n      <td>대구광역시</td>\n      <td>중구</td>\n      <td>일반용</td>\n      <td>14,498</td>\n      <td>49,336,658</td>\n    </tr>\n    <tr>\n      <th>44</th>\n      <td>202109</td>\n      <td>대구광역시</td>\n      <td>중구</td>\n      <td>일반용</td>\n      <td>14,417</td>\n      <td>41,101,696</td>\n    </tr>\n    <tr>\n      <th>45</th>\n      <td>202110</td>\n      <td>대구광역시</td>\n      <td>중구</td>\n      <td>일반용</td>\n      <td>14,392</td>\n      <td>36,609,050</td>\n    </tr>\n    <tr>\n      <th>46</th>\n      <td>202111</td>\n      <td>대구광역시</td>\n      <td>중구</td>\n      <td>일반용</td>\n      <td>14,391</td>\n      <td>34,993,332</td>\n    </tr>\n    <tr>\n      <th>47</th>\n      <td>202112</td>\n      <td>대구광역시</td>\n      <td>중구</td>\n      <td>일반용</td>\n      <td>14,405</td>\n      <td>41,623,418</td>\n    </tr>\n    <tr>\n      <th>48</th>\n      <td>202107-202112</td>\n      <td>대구광역시</td>\n      <td>남구</td>\n      <td>일반용</td>\n      <td>12047</td>\n      <td>163387101</td>\n    </tr>\n    <tr>\n      <th>49</th>\n      <td>202107-202112</td>\n      <td>대구광역시</td>\n      <td>달서구</td>\n      <td>일반용</td>\n      <td>28971</td>\n      <td>454463659</td>\n    </tr>\n    <tr>\n      <th>50</th>\n      <td>202107-202112</td>\n      <td>대구광역시</td>\n      <td>달성군</td>\n      <td>일반용</td>\n      <td>14025</td>\n      <td>198513344</td>\n    </tr>\n    <tr>\n      <th>51</th>\n      <td>202107-202112</td>\n      <td>대구광역시</td>\n      <td>동구</td>\n      <td>일반용</td>\n      <td>22038</td>\n      <td>394089244</td>\n    </tr>\n    <tr>\n      <th>52</th>\n      <td>202107-202112</td>\n      <td>대구광역시</td>\n      <td>북구</td>\n      <td>일반용</td>\n      <td>26403</td>\n      <td>410029207</td>\n    </tr>\n    <tr>\n      <th>53</th>\n      <td>202107-202112</td>\n      <td>대구광역시</td>\n      <td>서구</td>\n      <td>일반용</td>\n      <td>13561</td>\n      <td>149878650</td>\n    </tr>\n    <tr>\n      <th>54</th>\n      <td>202107-202112</td>\n      <td>대구광역시</td>\n      <td>수성구</td>\n      <td>일반용</td>\n      <td>24785</td>\n      <td>370218931</td>\n    </tr>\n    <tr>\n      <th>55</th>\n      <td>202107-202112</td>\n      <td>대구광역시</td>\n      <td>중구</td>\n      <td>일반용</td>\n      <td>14431</td>\n      <td>249339334</td>\n    </tr>\n  </tbody>\n</table>\n</div>"
     },
     "execution_count": 25,
     "metadata": {},
     "output_type": "execute_result"
    }
   ],
   "source": [
    "GyeonGiHap2 = df_3.copy()\n",
    "GyeonGiHap2.reset_index(drop=True , inplace = True)\n",
    "for i in range(len(SIGUNGU)):\n",
    "    GyeonGiHap2 = GyeonGiHap2.append({'년월' :'202107-202112'  , '시구' : '{}'.format(City) , '시군구' : '{}'.format(SIGUNGU[i]) , '계약구분' : '일반용' , '고객호수(호)' : sum3[i] ,  '사용량(kWh)' : sum2[i]} , ignore_index=True) #년월 파일마다 수정하기\n",
    "GyeonGiHap2"
   ],
   "metadata": {
    "collapsed": false,
    "pycharm": {
     "name": "#%%\n"
    }
   }
  },
  {
   "cell_type": "markdown",
   "source": [
    "### 5. 날짜 체크!!!!!!!!!!!!!!!!!!!!!!!!!!!!!!!!!!!!!!!!!!!!!!!!!!!!"
   ],
   "metadata": {
    "collapsed": false,
    "pycharm": {
     "name": "#%% md\n"
    }
   }
  },
  {
   "cell_type": "code",
   "execution_count": 26,
   "outputs": [
    {
     "data": {
      "text/plain": "               년월     시구  시군구 계약구분 고객호수(호)   사용량(kWh)\n48  202107-202112  대구광역시   남구  일반용   12047  163387101\n49  202107-202112  대구광역시  달서구  일반용   28971  454463659\n50  202107-202112  대구광역시  달성군  일반용   14025  198513344\n51  202107-202112  대구광역시   동구  일반용   22038  394089244\n52  202107-202112  대구광역시   북구  일반용   26403  410029207\n53  202107-202112  대구광역시   서구  일반용   13561  149878650\n54  202107-202112  대구광역시  수성구  일반용   24785  370218931\n55  202107-202112  대구광역시   중구  일반용   14431  249339334",
      "text/html": "<div>\n<style scoped>\n    .dataframe tbody tr th:only-of-type {\n        vertical-align: middle;\n    }\n\n    .dataframe tbody tr th {\n        vertical-align: top;\n    }\n\n    .dataframe thead th {\n        text-align: right;\n    }\n</style>\n<table border=\"1\" class=\"dataframe\">\n  <thead>\n    <tr style=\"text-align: right;\">\n      <th></th>\n      <th>년월</th>\n      <th>시구</th>\n      <th>시군구</th>\n      <th>계약구분</th>\n      <th>고객호수(호)</th>\n      <th>사용량(kWh)</th>\n    </tr>\n  </thead>\n  <tbody>\n    <tr>\n      <th>48</th>\n      <td>202107-202112</td>\n      <td>대구광역시</td>\n      <td>남구</td>\n      <td>일반용</td>\n      <td>12047</td>\n      <td>163387101</td>\n    </tr>\n    <tr>\n      <th>49</th>\n      <td>202107-202112</td>\n      <td>대구광역시</td>\n      <td>달서구</td>\n      <td>일반용</td>\n      <td>28971</td>\n      <td>454463659</td>\n    </tr>\n    <tr>\n      <th>50</th>\n      <td>202107-202112</td>\n      <td>대구광역시</td>\n      <td>달성군</td>\n      <td>일반용</td>\n      <td>14025</td>\n      <td>198513344</td>\n    </tr>\n    <tr>\n      <th>51</th>\n      <td>202107-202112</td>\n      <td>대구광역시</td>\n      <td>동구</td>\n      <td>일반용</td>\n      <td>22038</td>\n      <td>394089244</td>\n    </tr>\n    <tr>\n      <th>52</th>\n      <td>202107-202112</td>\n      <td>대구광역시</td>\n      <td>북구</td>\n      <td>일반용</td>\n      <td>26403</td>\n      <td>410029207</td>\n    </tr>\n    <tr>\n      <th>53</th>\n      <td>202107-202112</td>\n      <td>대구광역시</td>\n      <td>서구</td>\n      <td>일반용</td>\n      <td>13561</td>\n      <td>149878650</td>\n    </tr>\n    <tr>\n      <th>54</th>\n      <td>202107-202112</td>\n      <td>대구광역시</td>\n      <td>수성구</td>\n      <td>일반용</td>\n      <td>24785</td>\n      <td>370218931</td>\n    </tr>\n    <tr>\n      <th>55</th>\n      <td>202107-202112</td>\n      <td>대구광역시</td>\n      <td>중구</td>\n      <td>일반용</td>\n      <td>14431</td>\n      <td>249339334</td>\n    </tr>\n  </tbody>\n</table>\n</div>"
     },
     "execution_count": 26,
     "metadata": {},
     "output_type": "execute_result"
    }
   ],
   "source": [
    "GyeonGiHap2 = GyeonGiHap2.loc[GyeonGiHap2['년월'] == '202107-202112']\n",
    "GyeonGiHap2"
   ],
   "metadata": {
    "collapsed": false,
    "pycharm": {
     "name": "#%%\n"
    }
   }
  },
  {
   "cell_type": "code",
   "execution_count": 27,
   "outputs": [
    {
     "data": {
      "text/plain": "               년월     시구  시군구 계약구분 고객호수(호)    사용량(kWh)\n48  202107-202112  대구광역시   남구  일반용   12047   163387101\n48  202107-202112  대구광역시   남구   합계   16419   304763459\n49  202107-202112  대구광역시  달서구  일반용   28971   454463659\n49  202107-202112  대구광역시  달서구   합계   28763  1965814493\n50  202107-202112  대구광역시  달성군  일반용   14025   198513344\n50  202107-202112  대구광역시  달성군   합계   13573  1939690095\n51  202107-202112  대구광역시   동구  일반용   22038   394089244\n51  202107-202112  대구광역시   동구   합계   24694   772840333\n52  202107-202112  대구광역시   북구  일반용   26403   410029207\n52  202107-202112  대구광역시   북구   합계   24894  1176702005\n53  202107-202112  대구광역시   서구  일반용   13561   149878650\n53  202107-202112  대구광역시   서구   합계   17018   470570486\n54  202107-202112  대구광역시  수성구  일반용   24785   370218931\n54  202107-202112  대구광역시  수성구   합계   21031   857472485\n55  202107-202112  대구광역시   중구  일반용   14431   249339334\n55  202107-202112  대구광역시   중구   합계    8370   350529677",
      "text/html": "<div>\n<style scoped>\n    .dataframe tbody tr th:only-of-type {\n        vertical-align: middle;\n    }\n\n    .dataframe tbody tr th {\n        vertical-align: top;\n    }\n\n    .dataframe thead th {\n        text-align: right;\n    }\n</style>\n<table border=\"1\" class=\"dataframe\">\n  <thead>\n    <tr style=\"text-align: right;\">\n      <th></th>\n      <th>년월</th>\n      <th>시구</th>\n      <th>시군구</th>\n      <th>계약구분</th>\n      <th>고객호수(호)</th>\n      <th>사용량(kWh)</th>\n    </tr>\n  </thead>\n  <tbody>\n    <tr>\n      <th>48</th>\n      <td>202107-202112</td>\n      <td>대구광역시</td>\n      <td>남구</td>\n      <td>일반용</td>\n      <td>12047</td>\n      <td>163387101</td>\n    </tr>\n    <tr>\n      <th>48</th>\n      <td>202107-202112</td>\n      <td>대구광역시</td>\n      <td>남구</td>\n      <td>합계</td>\n      <td>16419</td>\n      <td>304763459</td>\n    </tr>\n    <tr>\n      <th>49</th>\n      <td>202107-202112</td>\n      <td>대구광역시</td>\n      <td>달서구</td>\n      <td>일반용</td>\n      <td>28971</td>\n      <td>454463659</td>\n    </tr>\n    <tr>\n      <th>49</th>\n      <td>202107-202112</td>\n      <td>대구광역시</td>\n      <td>달서구</td>\n      <td>합계</td>\n      <td>28763</td>\n      <td>1965814493</td>\n    </tr>\n    <tr>\n      <th>50</th>\n      <td>202107-202112</td>\n      <td>대구광역시</td>\n      <td>달성군</td>\n      <td>일반용</td>\n      <td>14025</td>\n      <td>198513344</td>\n    </tr>\n    <tr>\n      <th>50</th>\n      <td>202107-202112</td>\n      <td>대구광역시</td>\n      <td>달성군</td>\n      <td>합계</td>\n      <td>13573</td>\n      <td>1939690095</td>\n    </tr>\n    <tr>\n      <th>51</th>\n      <td>202107-202112</td>\n      <td>대구광역시</td>\n      <td>동구</td>\n      <td>일반용</td>\n      <td>22038</td>\n      <td>394089244</td>\n    </tr>\n    <tr>\n      <th>51</th>\n      <td>202107-202112</td>\n      <td>대구광역시</td>\n      <td>동구</td>\n      <td>합계</td>\n      <td>24694</td>\n      <td>772840333</td>\n    </tr>\n    <tr>\n      <th>52</th>\n      <td>202107-202112</td>\n      <td>대구광역시</td>\n      <td>북구</td>\n      <td>일반용</td>\n      <td>26403</td>\n      <td>410029207</td>\n    </tr>\n    <tr>\n      <th>52</th>\n      <td>202107-202112</td>\n      <td>대구광역시</td>\n      <td>북구</td>\n      <td>합계</td>\n      <td>24894</td>\n      <td>1176702005</td>\n    </tr>\n    <tr>\n      <th>53</th>\n      <td>202107-202112</td>\n      <td>대구광역시</td>\n      <td>서구</td>\n      <td>일반용</td>\n      <td>13561</td>\n      <td>149878650</td>\n    </tr>\n    <tr>\n      <th>53</th>\n      <td>202107-202112</td>\n      <td>대구광역시</td>\n      <td>서구</td>\n      <td>합계</td>\n      <td>17018</td>\n      <td>470570486</td>\n    </tr>\n    <tr>\n      <th>54</th>\n      <td>202107-202112</td>\n      <td>대구광역시</td>\n      <td>수성구</td>\n      <td>일반용</td>\n      <td>24785</td>\n      <td>370218931</td>\n    </tr>\n    <tr>\n      <th>54</th>\n      <td>202107-202112</td>\n      <td>대구광역시</td>\n      <td>수성구</td>\n      <td>합계</td>\n      <td>21031</td>\n      <td>857472485</td>\n    </tr>\n    <tr>\n      <th>55</th>\n      <td>202107-202112</td>\n      <td>대구광역시</td>\n      <td>중구</td>\n      <td>일반용</td>\n      <td>14431</td>\n      <td>249339334</td>\n    </tr>\n    <tr>\n      <th>55</th>\n      <td>202107-202112</td>\n      <td>대구광역시</td>\n      <td>중구</td>\n      <td>합계</td>\n      <td>8370</td>\n      <td>350529677</td>\n    </tr>\n  </tbody>\n</table>\n</div>"
     },
     "execution_count": 27,
     "metadata": {},
     "output_type": "execute_result"
    }
   ],
   "source": [
    "Final = pd.concat([GyeonGiHap2 , Hap])\n",
    "Final = Final.sort_values('시군구')\n",
    "Final"
   ],
   "metadata": {
    "collapsed": false,
    "pycharm": {
     "name": "#%%\n"
    }
   }
  },
  {
   "cell_type": "code",
   "execution_count": 28,
   "outputs": [
    {
     "data": {
      "text/plain": "[163387101,\n 454463659,\n 198513344,\n 394089244,\n 410029207,\n 149878650,\n 370218931,\n 249339334]"
     },
     "execution_count": 28,
     "metadata": {},
     "output_type": "execute_result"
    }
   ],
   "source": [
    "# Final['일반용 전기의 비율'] = (Final['사용량(kWh)'].loc[Final['계약구분'] == '일반용']) // (Final['사용량(kWh)'].loc[Final['계약구분'] == '합계'])\n",
    "# Final\n",
    "ex = (Final['사용량(kWh)'].loc[Final['계약구분'] == '일반용']).tolist()\n",
    "\n",
    "\n",
    "ex\n"
   ],
   "metadata": {
    "collapsed": false,
    "pycharm": {
     "name": "#%%\n"
    }
   }
  },
  {
   "cell_type": "code",
   "execution_count": 29,
   "outputs": [
    {
     "data": {
      "text/plain": "[304763459,\n 1965814493,\n 1939690095,\n 772840333,\n 1176702005,\n 470570486,\n 857472485,\n 350529677]"
     },
     "execution_count": 29,
     "metadata": {},
     "output_type": "execute_result"
    }
   ],
   "source": [
    "ex_2 =(Final['사용량(kWh)'].loc[Final['계약구분'] == '합계']).tolist()\n",
    "ex_2"
   ],
   "metadata": {
    "collapsed": false,
    "pycharm": {
     "name": "#%%\n"
    }
   }
  },
  {
   "cell_type": "code",
   "execution_count": 30,
   "outputs": [
    {
     "name": "stdout",
     "output_type": "stream",
     "text": [
      "[53.61, 23.12, 10.23, 50.99, 34.85, 31.85, 43.18, 71.13]\n"
     ]
    }
   ],
   "source": [
    "Rate = []\n",
    "ilban = []\n",
    "rae = 0\n",
    "for i in range(len(ex)):\n",
    "    rae = round(ex[i] / ex_2[i] *100 ,2)\n",
    "    Rate.append(rae)\n",
    "print(Rate)"
   ],
   "metadata": {
    "collapsed": false,
    "pycharm": {
     "name": "#%%\n"
    }
   }
  },
  {
   "cell_type": "code",
   "execution_count": 31,
   "outputs": [
    {
     "data": {
      "text/plain": "0   54\n1   23\n2   10\n3   51\n4   35\n5   32\n6   43\n7   71\ndtype: float64"
     },
     "execution_count": 31,
     "metadata": {},
     "output_type": "execute_result"
    }
   ],
   "source": [
    "Rate3 = pd.Series(Rate)\n",
    "Rate3\n",
    "\n",
    "# Final = pd.concat([Final , Rate3])\n",
    "# Final"
   ],
   "metadata": {
    "collapsed": false,
    "pycharm": {
     "name": "#%%\n"
    }
   }
  },
  {
   "cell_type": "code",
   "execution_count": 32,
   "outputs": [
    {
     "data": {
      "text/plain": "   시군구 계약구분  비율\n0   남구  일반용  54\n1  달서구  일반용  23\n2  달성군  일반용  10\n3   동구  일반용  51\n4   북구  일반용  35\n5   서구  일반용  32\n6  수성구  일반용  43\n7   중구  일반용  71",
      "text/html": "<div>\n<style scoped>\n    .dataframe tbody tr th:only-of-type {\n        vertical-align: middle;\n    }\n\n    .dataframe tbody tr th {\n        vertical-align: top;\n    }\n\n    .dataframe thead th {\n        text-align: right;\n    }\n</style>\n<table border=\"1\" class=\"dataframe\">\n  <thead>\n    <tr style=\"text-align: right;\">\n      <th></th>\n      <th>시군구</th>\n      <th>계약구분</th>\n      <th>비율</th>\n    </tr>\n  </thead>\n  <tbody>\n    <tr>\n      <th>0</th>\n      <td>남구</td>\n      <td>일반용</td>\n      <td>54</td>\n    </tr>\n    <tr>\n      <th>1</th>\n      <td>달서구</td>\n      <td>일반용</td>\n      <td>23</td>\n    </tr>\n    <tr>\n      <th>2</th>\n      <td>달성군</td>\n      <td>일반용</td>\n      <td>10</td>\n    </tr>\n    <tr>\n      <th>3</th>\n      <td>동구</td>\n      <td>일반용</td>\n      <td>51</td>\n    </tr>\n    <tr>\n      <th>4</th>\n      <td>북구</td>\n      <td>일반용</td>\n      <td>35</td>\n    </tr>\n    <tr>\n      <th>5</th>\n      <td>서구</td>\n      <td>일반용</td>\n      <td>32</td>\n    </tr>\n    <tr>\n      <th>6</th>\n      <td>수성구</td>\n      <td>일반용</td>\n      <td>43</td>\n    </tr>\n    <tr>\n      <th>7</th>\n      <td>중구</td>\n      <td>일반용</td>\n      <td>71</td>\n    </tr>\n  </tbody>\n</table>\n</div>"
     },
     "execution_count": 32,
     "metadata": {},
     "output_type": "execute_result"
    }
   ],
   "source": [
    "for j in range(len(Rate)):\n",
    "    ilban.append('일반용')\n",
    "#print(Rate)\n",
    "\n",
    "Rate2 = pd.DataFrame()\n",
    "Rate2['시군구'] = pd.DataFrame(SIGUNGU)\n",
    "Rate2['계약구분'] = pd.DataFrame(ilban)\n",
    "Rate2['비율'] = pd.DataFrame(Rate)\n",
    "Rate2\n",
    "#print(Rate2.dtypes)"
   ],
   "metadata": {
    "collapsed": false,
    "pycharm": {
     "name": "#%%\n"
    }
   }
  },
  {
   "cell_type": "code",
   "execution_count": 33,
   "outputs": [
    {
     "data": {
      "text/plain": "               년월     시구  시군구 계약구분 고객호수(호)    사용량(kWh)  비율\n0   202107-202112  대구광역시   남구  일반용   12047   163387101  54\n1   202107-202112  대구광역시   남구   합계   16419   304763459 NaN\n2   202107-202112  대구광역시  달서구  일반용   28971   454463659  23\n3   202107-202112  대구광역시  달서구   합계   28763  1965814493 NaN\n4   202107-202112  대구광역시  달성군  일반용   14025   198513344  10\n5   202107-202112  대구광역시  달성군   합계   13573  1939690095 NaN\n6   202107-202112  대구광역시   동구  일반용   22038   394089244  51\n7   202107-202112  대구광역시   동구   합계   24694   772840333 NaN\n8   202107-202112  대구광역시   북구  일반용   26403   410029207  35\n9   202107-202112  대구광역시   북구   합계   24894  1176702005 NaN\n10  202107-202112  대구광역시   서구  일반용   13561   149878650  32\n11  202107-202112  대구광역시   서구   합계   17018   470570486 NaN\n12  202107-202112  대구광역시  수성구  일반용   24785   370218931  43\n13  202107-202112  대구광역시  수성구   합계   21031   857472485 NaN\n14  202107-202112  대구광역시   중구  일반용   14431   249339334  71\n15  202107-202112  대구광역시   중구   합계    8370   350529677 NaN",
      "text/html": "<div>\n<style scoped>\n    .dataframe tbody tr th:only-of-type {\n        vertical-align: middle;\n    }\n\n    .dataframe tbody tr th {\n        vertical-align: top;\n    }\n\n    .dataframe thead th {\n        text-align: right;\n    }\n</style>\n<table border=\"1\" class=\"dataframe\">\n  <thead>\n    <tr style=\"text-align: right;\">\n      <th></th>\n      <th>년월</th>\n      <th>시구</th>\n      <th>시군구</th>\n      <th>계약구분</th>\n      <th>고객호수(호)</th>\n      <th>사용량(kWh)</th>\n      <th>비율</th>\n    </tr>\n  </thead>\n  <tbody>\n    <tr>\n      <th>0</th>\n      <td>202107-202112</td>\n      <td>대구광역시</td>\n      <td>남구</td>\n      <td>일반용</td>\n      <td>12047</td>\n      <td>163387101</td>\n      <td>54</td>\n    </tr>\n    <tr>\n      <th>1</th>\n      <td>202107-202112</td>\n      <td>대구광역시</td>\n      <td>남구</td>\n      <td>합계</td>\n      <td>16419</td>\n      <td>304763459</td>\n      <td>NaN</td>\n    </tr>\n    <tr>\n      <th>2</th>\n      <td>202107-202112</td>\n      <td>대구광역시</td>\n      <td>달서구</td>\n      <td>일반용</td>\n      <td>28971</td>\n      <td>454463659</td>\n      <td>23</td>\n    </tr>\n    <tr>\n      <th>3</th>\n      <td>202107-202112</td>\n      <td>대구광역시</td>\n      <td>달서구</td>\n      <td>합계</td>\n      <td>28763</td>\n      <td>1965814493</td>\n      <td>NaN</td>\n    </tr>\n    <tr>\n      <th>4</th>\n      <td>202107-202112</td>\n      <td>대구광역시</td>\n      <td>달성군</td>\n      <td>일반용</td>\n      <td>14025</td>\n      <td>198513344</td>\n      <td>10</td>\n    </tr>\n    <tr>\n      <th>5</th>\n      <td>202107-202112</td>\n      <td>대구광역시</td>\n      <td>달성군</td>\n      <td>합계</td>\n      <td>13573</td>\n      <td>1939690095</td>\n      <td>NaN</td>\n    </tr>\n    <tr>\n      <th>6</th>\n      <td>202107-202112</td>\n      <td>대구광역시</td>\n      <td>동구</td>\n      <td>일반용</td>\n      <td>22038</td>\n      <td>394089244</td>\n      <td>51</td>\n    </tr>\n    <tr>\n      <th>7</th>\n      <td>202107-202112</td>\n      <td>대구광역시</td>\n      <td>동구</td>\n      <td>합계</td>\n      <td>24694</td>\n      <td>772840333</td>\n      <td>NaN</td>\n    </tr>\n    <tr>\n      <th>8</th>\n      <td>202107-202112</td>\n      <td>대구광역시</td>\n      <td>북구</td>\n      <td>일반용</td>\n      <td>26403</td>\n      <td>410029207</td>\n      <td>35</td>\n    </tr>\n    <tr>\n      <th>9</th>\n      <td>202107-202112</td>\n      <td>대구광역시</td>\n      <td>북구</td>\n      <td>합계</td>\n      <td>24894</td>\n      <td>1176702005</td>\n      <td>NaN</td>\n    </tr>\n    <tr>\n      <th>10</th>\n      <td>202107-202112</td>\n      <td>대구광역시</td>\n      <td>서구</td>\n      <td>일반용</td>\n      <td>13561</td>\n      <td>149878650</td>\n      <td>32</td>\n    </tr>\n    <tr>\n      <th>11</th>\n      <td>202107-202112</td>\n      <td>대구광역시</td>\n      <td>서구</td>\n      <td>합계</td>\n      <td>17018</td>\n      <td>470570486</td>\n      <td>NaN</td>\n    </tr>\n    <tr>\n      <th>12</th>\n      <td>202107-202112</td>\n      <td>대구광역시</td>\n      <td>수성구</td>\n      <td>일반용</td>\n      <td>24785</td>\n      <td>370218931</td>\n      <td>43</td>\n    </tr>\n    <tr>\n      <th>13</th>\n      <td>202107-202112</td>\n      <td>대구광역시</td>\n      <td>수성구</td>\n      <td>합계</td>\n      <td>21031</td>\n      <td>857472485</td>\n      <td>NaN</td>\n    </tr>\n    <tr>\n      <th>14</th>\n      <td>202107-202112</td>\n      <td>대구광역시</td>\n      <td>중구</td>\n      <td>일반용</td>\n      <td>14431</td>\n      <td>249339334</td>\n      <td>71</td>\n    </tr>\n    <tr>\n      <th>15</th>\n      <td>202107-202112</td>\n      <td>대구광역시</td>\n      <td>중구</td>\n      <td>합계</td>\n      <td>8370</td>\n      <td>350529677</td>\n      <td>NaN</td>\n    </tr>\n  </tbody>\n</table>\n</div>"
     },
     "execution_count": 33,
     "metadata": {},
     "output_type": "execute_result"
    }
   ],
   "source": [
    "Final = pd.merge(Final , Rate2, on=['시군구', '계약구분'] , how='left')\n",
    "\n",
    "#Final.drop(['비율_y]' , axis = 1 , inplace = True)\n",
    "#Final.rename(columns={'비율_y':'전체 계약종별 전력사용량 대비 일반용 사용량 비율'})\n",
    "Final = Final.sort_values(['시군구' , '계약구분'])\n",
    "Final"
   ],
   "metadata": {
    "collapsed": false,
    "pycharm": {
     "name": "#%%\n"
    }
   }
  },
  {
   "cell_type": "code",
   "execution_count": 34,
   "outputs": [],
   "source": [
    "# Final['일반용 전기의 비율'] = Final.append(Rate)\n",
    "# Final"
   ],
   "metadata": {
    "collapsed": false,
    "pycharm": {
     "name": "#%%\n"
    }
   }
  },
  {
   "cell_type": "markdown",
   "source": [
    "### 6. 날짜 체크!!!!!!!!!!!!!!!!!!!!1"
   ],
   "metadata": {
    "collapsed": false,
    "pycharm": {
     "name": "#%% md\n"
    }
   }
  },
  {
   "cell_type": "code",
   "execution_count": 35,
   "outputs": [],
   "source": [
    "Final.to_csv(\"{}_일반용_전력사용량_2107-12.csv\".format(City) , mode = 'w' , encoding= 'cp949' , index =False) #파일명 수정"
   ],
   "metadata": {
    "collapsed": false,
    "pycharm": {
     "name": "#%%\n"
    }
   }
  },
  {
   "cell_type": "code",
   "execution_count": 35,
   "outputs": [],
   "source": [],
   "metadata": {
    "collapsed": false,
    "pycharm": {
     "name": "#%%\n"
    }
   }
  },
  {
   "cell_type": "code",
   "execution_count": 36,
   "outputs": [],
   "source": [
    "# Sigu = list(set(df_3['시군구'].tolist()))\n",
    "#\n",
    "# Sigu.sort()\n",
    "#\n",
    "# Sigu"
   ],
   "metadata": {
    "collapsed": false,
    "pycharm": {
     "name": "#%%\n"
    }
   }
  },
  {
   "cell_type": "code",
   "execution_count": 37,
   "outputs": [],
   "source": [
    "# YearMonth = list(set(df_3['년월'].tolist()))\n",
    "#\n",
    "# YearMonth.sort()\n",
    "# YearMonth"
   ],
   "metadata": {
    "collapsed": false,
    "pycharm": {
     "name": "#%%\n"
    }
   }
  },
  {
   "cell_type": "code",
   "execution_count": 38,
   "outputs": [],
   "source": [
    "# Gayeak = list(set(df_3['계약구분'].tolist()))\n",
    "#\n",
    "# Gayeak.sort()\n",
    "# Gayeak"
   ],
   "metadata": {
    "collapsed": false,
    "pycharm": {
     "name": "#%%\n"
    }
   }
  },
  {
   "cell_type": "code",
   "execution_count": 39,
   "outputs": [],
   "source": [
    "# SEOUL = df_3.loc[(df_3['계약구분'] =='일반용')]\n",
    "# SEOUL.drop(['고객호수(호)' ,'전기요금(원)' , '평균판매단가(원/kWh)'] , axis = 1 , inplace = True)\n",
    "# #SEOUL.dtypes(['사용량(kWh)'])\n",
    "# SEOUL"
   ],
   "metadata": {
    "collapsed": false,
    "pycharm": {
     "name": "#%%\n"
    }
   }
  },
  {
   "cell_type": "code",
   "execution_count": 40,
   "outputs": [],
   "source": [
    "#SEOUL.to_csv(\"서울특별시_일반용_전력사용량.csv\" , mode = 'w' , encoding= 'cp949')"
   ],
   "metadata": {
    "collapsed": false,
    "pycharm": {
     "name": "#%%\n"
    }
   }
  },
  {
   "cell_type": "code",
   "execution_count": 41,
   "outputs": [],
   "source": [
    "# print(SEOUL.dtypes)\n",
    "# SEOUL = SEOUL.astype({'사용량(kWh)' : 'float'})"
   ],
   "metadata": {
    "collapsed": false,
    "pycharm": {
     "name": "#%%\n"
    }
   }
  },
  {
   "cell_type": "code",
   "execution_count": 42,
   "outputs": [],
   "source": [
    "# SEOUL"
   ],
   "metadata": {
    "collapsed": false,
    "pycharm": {
     "name": "#%%\n"
    }
   }
  },
  {
   "cell_type": "code",
   "execution_count": 43,
   "outputs": [],
   "source": [
    "# a = SEOUL['사용량(kWh)'].tolist()\n",
    "# int_list = map(int, a)\n",
    "# b=0\n",
    "# for i in int_list:\n",
    "#     b+=i\n",
    "#\n",
    "# print(b)"
   ],
   "metadata": {
    "collapsed": false,
    "pycharm": {
     "name": "#%%\n"
    }
   }
  },
  {
   "cell_type": "code",
   "execution_count": 43,
   "outputs": [],
   "source": [],
   "metadata": {
    "collapsed": false,
    "pycharm": {
     "name": "#%%\n"
    }
   }
  },
  {
   "cell_type": "code",
   "execution_count": 43,
   "outputs": [],
   "source": [],
   "metadata": {
    "collapsed": false,
    "pycharm": {
     "name": "#%%\n"
    }
   }
  },
  {
   "cell_type": "code",
   "execution_count": 43,
   "outputs": [],
   "source": [],
   "metadata": {
    "collapsed": false,
    "pycharm": {
     "name": "#%%\n"
    }
   }
  },
  {
   "cell_type": "code",
   "execution_count": 43,
   "outputs": [],
   "source": [],
   "metadata": {
    "collapsed": false,
    "pycharm": {
     "name": "#%%\n"
    }
   }
  },
  {
   "cell_type": "code",
   "execution_count": 43,
   "outputs": [],
   "source": [],
   "metadata": {
    "collapsed": false,
    "pycharm": {
     "name": "#%%\n"
    }
   }
  },
  {
   "cell_type": "code",
   "execution_count": 43,
   "outputs": [],
   "source": [],
   "metadata": {
    "collapsed": false,
    "pycharm": {
     "name": "#%%\n"
    }
   }
  },
  {
   "cell_type": "code",
   "execution_count": 43,
   "outputs": [],
   "source": [],
   "metadata": {
    "collapsed": false,
    "pycharm": {
     "name": "#%%\n"
    }
   }
  }
 ],
 "metadata": {
  "kernelspec": {
   "display_name": "Python 3",
   "language": "python",
   "name": "python3"
  },
  "language_info": {
   "codemirror_mode": {
    "name": "ipython",
    "version": 2
   },
   "file_extension": ".py",
   "mimetype": "text/x-python",
   "name": "python",
   "nbconvert_exporter": "python",
   "pygments_lexer": "ipython2",
   "version": "2.7.6"
  }
 },
 "nbformat": 4,
 "nbformat_minor": 0
}