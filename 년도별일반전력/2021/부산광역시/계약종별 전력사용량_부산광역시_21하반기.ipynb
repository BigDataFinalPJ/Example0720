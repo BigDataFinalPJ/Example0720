{
 "cells": [
  {
   "cell_type": "markdown",
   "source": [],
   "metadata": {
    "collapsed": false,
    "pycharm": {
     "name": "#%% md\n"
    }
   }
  },
  {
   "cell_type": "code",
   "execution_count": 1,
   "outputs": [],
   "source": [
    "import pandas as pd\n",
    "import re\n",
    "\n",
    "pd.options.display.float_format = '{:.0f}'.format"
   ],
   "metadata": {
    "collapsed": false,
    "pycharm": {
     "name": "#%%\n"
    }
   }
  },
  {
   "cell_type": "markdown",
   "source": [
    "### 1. 꼭 read_csv 21상반기, 19하반기와 같이 맞추어 주세요!!! 또한 지역(전라북도, 남도) 맞추기!!!!!"
   ],
   "metadata": {
    "collapsed": false,
    "pycharm": {
     "name": "#%% md\n"
    }
   }
  },
  {
   "cell_type": "code",
   "execution_count": 2,
   "outputs": [
    {
     "data": {
      "text/plain": "        계약종별 전력사용량 월별( 20220804 현재 ) Unnamed: 1     Unnamed: 2 Unnamed: 3  \\\n0    시도 : 부산광역시, 시군구 : 전체(시 / 군 / 구)        NaN            NaN        NaN   \n1        기간 : 2021년 07 월 ~ 2021년 12월        NaN            NaN        NaN   \n2                                 년월         시구            시군구       계약구분   \n3                             202107      부산광역시  전체(시 / 군 / 구)        주택용   \n4                             202107      부산광역시  전체(시 / 군 / 구)        일반용   \n..                               ...        ...            ...        ...   \n811                           202112      부산광역시           해운대구        산업용   \n812                           202112      부산광역시           해운대구        심 야   \n813                           202112      부산광역시           해운대구        일반용   \n814                           202112      부산광역시           해운대구        주택용   \n815                           202112      부산광역시           해운대구         합계   \n\n    Unnamed: 4    Unnamed: 5       Unnamed: 6     Unnamed: 7  \n0          NaN           NaN              NaN            NaN  \n1          NaN           NaN              NaN            NaN  \n2      고객호수(호)      사용량(kWh)          전기요금(원)  평균판매단가(원/kWh)  \n3     954,740   435,379,029   44,347,601,382          101.9   \n4     191,506   606,377,925   86,906,581,127          143.3   \n..         ...           ...              ...            ...  \n811       909    20,741,566    2,494,571,213          120.3   \n812       746     1,465,880      119,935,049           81.8   \n813    15,094    73,175,382   10,269,331,801          140.3   \n814    72,472    53,538,784    6,023,283,782          112.5   \n815    94,921   153,845,022   19,437,223,206          126.3   \n\n[816 rows x 8 columns]",
      "text/html": "<div>\n<style scoped>\n    .dataframe tbody tr th:only-of-type {\n        vertical-align: middle;\n    }\n\n    .dataframe tbody tr th {\n        vertical-align: top;\n    }\n\n    .dataframe thead th {\n        text-align: right;\n    }\n</style>\n<table border=\"1\" class=\"dataframe\">\n  <thead>\n    <tr style=\"text-align: right;\">\n      <th></th>\n      <th>계약종별 전력사용량 월별( 20220804 현재 )</th>\n      <th>Unnamed: 1</th>\n      <th>Unnamed: 2</th>\n      <th>Unnamed: 3</th>\n      <th>Unnamed: 4</th>\n      <th>Unnamed: 5</th>\n      <th>Unnamed: 6</th>\n      <th>Unnamed: 7</th>\n    </tr>\n  </thead>\n  <tbody>\n    <tr>\n      <th>0</th>\n      <td>시도 : 부산광역시, 시군구 : 전체(시 / 군 / 구)</td>\n      <td>NaN</td>\n      <td>NaN</td>\n      <td>NaN</td>\n      <td>NaN</td>\n      <td>NaN</td>\n      <td>NaN</td>\n      <td>NaN</td>\n    </tr>\n    <tr>\n      <th>1</th>\n      <td>기간 : 2021년 07 월 ~ 2021년 12월</td>\n      <td>NaN</td>\n      <td>NaN</td>\n      <td>NaN</td>\n      <td>NaN</td>\n      <td>NaN</td>\n      <td>NaN</td>\n      <td>NaN</td>\n    </tr>\n    <tr>\n      <th>2</th>\n      <td>년월</td>\n      <td>시구</td>\n      <td>시군구</td>\n      <td>계약구분</td>\n      <td>고객호수(호)</td>\n      <td>사용량(kWh)</td>\n      <td>전기요금(원)</td>\n      <td>평균판매단가(원/kWh)</td>\n    </tr>\n    <tr>\n      <th>3</th>\n      <td>202107</td>\n      <td>부산광역시</td>\n      <td>전체(시 / 군 / 구)</td>\n      <td>주택용</td>\n      <td>954,740</td>\n      <td>435,379,029</td>\n      <td>44,347,601,382</td>\n      <td>101.9</td>\n    </tr>\n    <tr>\n      <th>4</th>\n      <td>202107</td>\n      <td>부산광역시</td>\n      <td>전체(시 / 군 / 구)</td>\n      <td>일반용</td>\n      <td>191,506</td>\n      <td>606,377,925</td>\n      <td>86,906,581,127</td>\n      <td>143.3</td>\n    </tr>\n    <tr>\n      <th>...</th>\n      <td>...</td>\n      <td>...</td>\n      <td>...</td>\n      <td>...</td>\n      <td>...</td>\n      <td>...</td>\n      <td>...</td>\n      <td>...</td>\n    </tr>\n    <tr>\n      <th>811</th>\n      <td>202112</td>\n      <td>부산광역시</td>\n      <td>해운대구</td>\n      <td>산업용</td>\n      <td>909</td>\n      <td>20,741,566</td>\n      <td>2,494,571,213</td>\n      <td>120.3</td>\n    </tr>\n    <tr>\n      <th>812</th>\n      <td>202112</td>\n      <td>부산광역시</td>\n      <td>해운대구</td>\n      <td>심 야</td>\n      <td>746</td>\n      <td>1,465,880</td>\n      <td>119,935,049</td>\n      <td>81.8</td>\n    </tr>\n    <tr>\n      <th>813</th>\n      <td>202112</td>\n      <td>부산광역시</td>\n      <td>해운대구</td>\n      <td>일반용</td>\n      <td>15,094</td>\n      <td>73,175,382</td>\n      <td>10,269,331,801</td>\n      <td>140.3</td>\n    </tr>\n    <tr>\n      <th>814</th>\n      <td>202112</td>\n      <td>부산광역시</td>\n      <td>해운대구</td>\n      <td>주택용</td>\n      <td>72,472</td>\n      <td>53,538,784</td>\n      <td>6,023,283,782</td>\n      <td>112.5</td>\n    </tr>\n    <tr>\n      <th>815</th>\n      <td>202112</td>\n      <td>부산광역시</td>\n      <td>해운대구</td>\n      <td>합계</td>\n      <td>94,921</td>\n      <td>153,845,022</td>\n      <td>19,437,223,206</td>\n      <td>126.3</td>\n    </tr>\n  </tbody>\n</table>\n<p>816 rows × 8 columns</p>\n</div>"
     },
     "execution_count": 2,
     "metadata": {},
     "output_type": "execute_result"
    }
   ],
   "source": [
    "df = pd.read_csv('부산광역시_계약종별_전력사용량_월별_21하반기.csv' , encoding='cp949')\n",
    "\n",
    "df\n",
    "#exchng=  pd.read_csv('지역별_전력거래량_20220803093050.csv' , encoding='cp949')"
   ],
   "metadata": {
    "collapsed": false,
    "pycharm": {
     "name": "#%%\n"
    }
   }
  },
  {
   "cell_type": "code",
   "execution_count": 3,
   "outputs": [
    {
     "data": {
      "text/plain": "    계약종별 전력사용량 월별( 20220804 현재 ) Unnamed: 1     Unnamed: 2 Unnamed: 3  \\\n2                             년월         시구            시군구       계약구분   \n3                         202107      부산광역시  전체(시 / 군 / 구)        주택용   \n4                         202107      부산광역시  전체(시 / 군 / 구)        일반용   \n5                         202107      부산광역시  전체(시 / 군 / 구)        교육용   \n6                         202107      부산광역시  전체(시 / 군 / 구)        산업용   \n..                           ...        ...            ...        ...   \n811                       202112      부산광역시           해운대구        산업용   \n812                       202112      부산광역시           해운대구        심 야   \n813                       202112      부산광역시           해운대구        일반용   \n814                       202112      부산광역시           해운대구        주택용   \n815                       202112      부산광역시           해운대구         합계   \n\n    Unnamed: 4    Unnamed: 5       Unnamed: 6     Unnamed: 7  \n2      고객호수(호)      사용량(kWh)          전기요금(원)  평균판매단가(원/kWh)  \n3     954,740   435,379,029   44,347,601,382          101.9   \n4     191,506   606,377,925   86,906,581,127          143.3   \n5       1,144    38,468,600    4,574,692,976          118.9   \n6      24,786   746,631,063   94,354,400,765          126.4   \n..         ...           ...              ...            ...  \n811       909    20,741,566    2,494,571,213          120.3   \n812       746     1,465,880      119,935,049           81.8   \n813    15,094    73,175,382   10,269,331,801          140.3   \n814    72,472    53,538,784    6,023,283,782          112.5   \n815    94,921   153,845,022   19,437,223,206          126.3   \n\n[813 rows x 8 columns]",
      "text/html": "<div>\n<style scoped>\n    .dataframe tbody tr th:only-of-type {\n        vertical-align: middle;\n    }\n\n    .dataframe tbody tr th {\n        vertical-align: top;\n    }\n\n    .dataframe thead th {\n        text-align: right;\n    }\n</style>\n<table border=\"1\" class=\"dataframe\">\n  <thead>\n    <tr style=\"text-align: right;\">\n      <th></th>\n      <th>계약종별 전력사용량 월별( 20220804 현재 )</th>\n      <th>Unnamed: 1</th>\n      <th>Unnamed: 2</th>\n      <th>Unnamed: 3</th>\n      <th>Unnamed: 4</th>\n      <th>Unnamed: 5</th>\n      <th>Unnamed: 6</th>\n      <th>Unnamed: 7</th>\n    </tr>\n  </thead>\n  <tbody>\n    <tr>\n      <th>2</th>\n      <td>년월</td>\n      <td>시구</td>\n      <td>시군구</td>\n      <td>계약구분</td>\n      <td>고객호수(호)</td>\n      <td>사용량(kWh)</td>\n      <td>전기요금(원)</td>\n      <td>평균판매단가(원/kWh)</td>\n    </tr>\n    <tr>\n      <th>3</th>\n      <td>202107</td>\n      <td>부산광역시</td>\n      <td>전체(시 / 군 / 구)</td>\n      <td>주택용</td>\n      <td>954,740</td>\n      <td>435,379,029</td>\n      <td>44,347,601,382</td>\n      <td>101.9</td>\n    </tr>\n    <tr>\n      <th>4</th>\n      <td>202107</td>\n      <td>부산광역시</td>\n      <td>전체(시 / 군 / 구)</td>\n      <td>일반용</td>\n      <td>191,506</td>\n      <td>606,377,925</td>\n      <td>86,906,581,127</td>\n      <td>143.3</td>\n    </tr>\n    <tr>\n      <th>5</th>\n      <td>202107</td>\n      <td>부산광역시</td>\n      <td>전체(시 / 군 / 구)</td>\n      <td>교육용</td>\n      <td>1,144</td>\n      <td>38,468,600</td>\n      <td>4,574,692,976</td>\n      <td>118.9</td>\n    </tr>\n    <tr>\n      <th>6</th>\n      <td>202107</td>\n      <td>부산광역시</td>\n      <td>전체(시 / 군 / 구)</td>\n      <td>산업용</td>\n      <td>24,786</td>\n      <td>746,631,063</td>\n      <td>94,354,400,765</td>\n      <td>126.4</td>\n    </tr>\n    <tr>\n      <th>...</th>\n      <td>...</td>\n      <td>...</td>\n      <td>...</td>\n      <td>...</td>\n      <td>...</td>\n      <td>...</td>\n      <td>...</td>\n      <td>...</td>\n    </tr>\n    <tr>\n      <th>811</th>\n      <td>202112</td>\n      <td>부산광역시</td>\n      <td>해운대구</td>\n      <td>산업용</td>\n      <td>909</td>\n      <td>20,741,566</td>\n      <td>2,494,571,213</td>\n      <td>120.3</td>\n    </tr>\n    <tr>\n      <th>812</th>\n      <td>202112</td>\n      <td>부산광역시</td>\n      <td>해운대구</td>\n      <td>심 야</td>\n      <td>746</td>\n      <td>1,465,880</td>\n      <td>119,935,049</td>\n      <td>81.8</td>\n    </tr>\n    <tr>\n      <th>813</th>\n      <td>202112</td>\n      <td>부산광역시</td>\n      <td>해운대구</td>\n      <td>일반용</td>\n      <td>15,094</td>\n      <td>73,175,382</td>\n      <td>10,269,331,801</td>\n      <td>140.3</td>\n    </tr>\n    <tr>\n      <th>814</th>\n      <td>202112</td>\n      <td>부산광역시</td>\n      <td>해운대구</td>\n      <td>주택용</td>\n      <td>72,472</td>\n      <td>53,538,784</td>\n      <td>6,023,283,782</td>\n      <td>112.5</td>\n    </tr>\n    <tr>\n      <th>815</th>\n      <td>202112</td>\n      <td>부산광역시</td>\n      <td>해운대구</td>\n      <td>합계</td>\n      <td>94,921</td>\n      <td>153,845,022</td>\n      <td>19,437,223,206</td>\n      <td>126.3</td>\n    </tr>\n  </tbody>\n</table>\n<p>813 rows × 8 columns</p>\n</div>"
     },
     "execution_count": 3,
     "metadata": {},
     "output_type": "execute_result"
    }
   ],
   "source": [
    "df = df.drop([0,1 , 46] , axis = 0)\n",
    "#0,1 , 10은 지우는게 맞다\n",
    "df"
   ],
   "metadata": {
    "collapsed": false,
    "pycharm": {
     "name": "#%%\n"
    }
   }
  },
  {
   "cell_type": "code",
   "execution_count": 4,
   "outputs": [],
   "source": [
    "a= df.loc[2].tolist()\n",
    "a\n",
    "df = df.drop([2] , axis = 0)"
   ],
   "metadata": {
    "collapsed": false,
    "pycharm": {
     "name": "#%%\n"
    }
   }
  },
  {
   "cell_type": "code",
   "execution_count": 5,
   "outputs": [
    {
     "data": {
      "text/plain": "         년월     시구            시군구 계약구분   고객호수(호)      사용량(kWh)  \\\n3    202107  부산광역시  전체(시 / 군 / 구)  주택용  954,740   435,379,029    \n4    202107  부산광역시  전체(시 / 군 / 구)  일반용  191,506   606,377,925    \n5    202107  부산광역시  전체(시 / 군 / 구)  교육용    1,144    38,468,600    \n6    202107  부산광역시  전체(시 / 군 / 구)  산업용   24,786   746,631,063    \n7    202107  부산광역시  전체(시 / 군 / 구)  농사용   12,308     9,909,668    \n..      ...    ...            ...  ...       ...           ...   \n811  202112  부산광역시           해운대구  산업용      909    20,741,566    \n812  202112  부산광역시           해운대구  심 야      746     1,465,880    \n813  202112  부산광역시           해운대구  일반용   15,094    73,175,382    \n814  202112  부산광역시           해운대구  주택용   72,472    53,538,784    \n815  202112  부산광역시           해운대구   합계   94,921   153,845,022    \n\n             전기요금(원) 평균판매단가(원/kWh)  \n3    44,347,601,382         101.9   \n4    86,906,581,127         143.3   \n5     4,574,692,976         118.9   \n6    94,354,400,765         126.4   \n7       426,462,793          43.0   \n..               ...           ...  \n811   2,494,571,213         120.3   \n812     119,935,049          81.8   \n813  10,269,331,801         140.3   \n814   6,023,283,782         112.5   \n815  19,437,223,206         126.3   \n\n[812 rows x 8 columns]",
      "text/html": "<div>\n<style scoped>\n    .dataframe tbody tr th:only-of-type {\n        vertical-align: middle;\n    }\n\n    .dataframe tbody tr th {\n        vertical-align: top;\n    }\n\n    .dataframe thead th {\n        text-align: right;\n    }\n</style>\n<table border=\"1\" class=\"dataframe\">\n  <thead>\n    <tr style=\"text-align: right;\">\n      <th></th>\n      <th>년월</th>\n      <th>시구</th>\n      <th>시군구</th>\n      <th>계약구분</th>\n      <th>고객호수(호)</th>\n      <th>사용량(kWh)</th>\n      <th>전기요금(원)</th>\n      <th>평균판매단가(원/kWh)</th>\n    </tr>\n  </thead>\n  <tbody>\n    <tr>\n      <th>3</th>\n      <td>202107</td>\n      <td>부산광역시</td>\n      <td>전체(시 / 군 / 구)</td>\n      <td>주택용</td>\n      <td>954,740</td>\n      <td>435,379,029</td>\n      <td>44,347,601,382</td>\n      <td>101.9</td>\n    </tr>\n    <tr>\n      <th>4</th>\n      <td>202107</td>\n      <td>부산광역시</td>\n      <td>전체(시 / 군 / 구)</td>\n      <td>일반용</td>\n      <td>191,506</td>\n      <td>606,377,925</td>\n      <td>86,906,581,127</td>\n      <td>143.3</td>\n    </tr>\n    <tr>\n      <th>5</th>\n      <td>202107</td>\n      <td>부산광역시</td>\n      <td>전체(시 / 군 / 구)</td>\n      <td>교육용</td>\n      <td>1,144</td>\n      <td>38,468,600</td>\n      <td>4,574,692,976</td>\n      <td>118.9</td>\n    </tr>\n    <tr>\n      <th>6</th>\n      <td>202107</td>\n      <td>부산광역시</td>\n      <td>전체(시 / 군 / 구)</td>\n      <td>산업용</td>\n      <td>24,786</td>\n      <td>746,631,063</td>\n      <td>94,354,400,765</td>\n      <td>126.4</td>\n    </tr>\n    <tr>\n      <th>7</th>\n      <td>202107</td>\n      <td>부산광역시</td>\n      <td>전체(시 / 군 / 구)</td>\n      <td>농사용</td>\n      <td>12,308</td>\n      <td>9,909,668</td>\n      <td>426,462,793</td>\n      <td>43.0</td>\n    </tr>\n    <tr>\n      <th>...</th>\n      <td>...</td>\n      <td>...</td>\n      <td>...</td>\n      <td>...</td>\n      <td>...</td>\n      <td>...</td>\n      <td>...</td>\n      <td>...</td>\n    </tr>\n    <tr>\n      <th>811</th>\n      <td>202112</td>\n      <td>부산광역시</td>\n      <td>해운대구</td>\n      <td>산업용</td>\n      <td>909</td>\n      <td>20,741,566</td>\n      <td>2,494,571,213</td>\n      <td>120.3</td>\n    </tr>\n    <tr>\n      <th>812</th>\n      <td>202112</td>\n      <td>부산광역시</td>\n      <td>해운대구</td>\n      <td>심 야</td>\n      <td>746</td>\n      <td>1,465,880</td>\n      <td>119,935,049</td>\n      <td>81.8</td>\n    </tr>\n    <tr>\n      <th>813</th>\n      <td>202112</td>\n      <td>부산광역시</td>\n      <td>해운대구</td>\n      <td>일반용</td>\n      <td>15,094</td>\n      <td>73,175,382</td>\n      <td>10,269,331,801</td>\n      <td>140.3</td>\n    </tr>\n    <tr>\n      <th>814</th>\n      <td>202112</td>\n      <td>부산광역시</td>\n      <td>해운대구</td>\n      <td>주택용</td>\n      <td>72,472</td>\n      <td>53,538,784</td>\n      <td>6,023,283,782</td>\n      <td>112.5</td>\n    </tr>\n    <tr>\n      <th>815</th>\n      <td>202112</td>\n      <td>부산광역시</td>\n      <td>해운대구</td>\n      <td>합계</td>\n      <td>94,921</td>\n      <td>153,845,022</td>\n      <td>19,437,223,206</td>\n      <td>126.3</td>\n    </tr>\n  </tbody>\n</table>\n<p>812 rows × 8 columns</p>\n</div>"
     },
     "execution_count": 5,
     "metadata": {},
     "output_type": "execute_result"
    }
   ],
   "source": [
    "df.columns = a\n",
    "df"
   ],
   "metadata": {
    "collapsed": false,
    "pycharm": {
     "name": "#%%\n"
    }
   }
  },
  {
   "cell_type": "code",
   "execution_count": 6,
   "outputs": [
    {
     "data": {
      "text/plain": "        년월     시구            시군구 계약구분    고객호수(호)        사용량(kWh)  \\\n3   202107  부산광역시  전체(시 / 군 / 구)  주택용   954,740     435,379,029    \n4   202107  부산광역시  전체(시 / 군 / 구)  일반용   191,506     606,377,925    \n5   202107  부산광역시  전체(시 / 군 / 구)  교육용     1,144      38,468,600    \n6   202107  부산광역시  전체(시 / 군 / 구)  산업용    24,786     746,631,063    \n7   202107  부산광역시  전체(시 / 군 / 구)  농사용    12,308       9,909,668    \n8   202107  부산광역시  전체(시 / 군 / 구)  가로등    87,629      11,649,081    \n9   202107  부산광역시  전체(시 / 군 / 구)  심 야    18,143      12,966,005    \n10  202108  부산광역시  전체(시 / 군 / 구)  주택용   953,776     577,673,685    \n11  202108  부산광역시  전체(시 / 군 / 구)  일반용   191,881     678,124,931    \n12  202108  부산광역시  전체(시 / 군 / 구)  교육용     1,143      36,524,585    \n13  202108  부산광역시  전체(시 / 군 / 구)  산업용    24,772     711,731,525    \n14  202108  부산광역시  전체(시 / 군 / 구)  농사용    12,346       9,225,768    \n15  202108  부산광역시  전체(시 / 군 / 구)  가로등    88,102      12,200,220    \n16  202108  부산광역시  전체(시 / 군 / 구)  심 야    18,040      11,738,650    \n17  202109  부산광역시  전체(시 / 군 / 구)  주택용   953,154     481,606,007    \n18  202109  부산광역시  전체(시 / 군 / 구)  일반용   192,060     598,164,421    \n19  202109  부산광역시  전체(시 / 군 / 구)  교육용     1,145      39,304,577    \n20  202109  부산광역시  전체(시 / 군 / 구)  산업용    24,775     689,790,544    \n21  202109  부산광역시  전체(시 / 군 / 구)  농사용    12,381      11,023,664    \n22  202109  부산광역시  전체(시 / 군 / 구)  가로등    88,285      12,624,244    \n23  202109  부산광역시  전체(시 / 군 / 구)  심 야    17,959       9,775,334    \n24  202110  부산광역시  전체(시 / 군 / 구)  주택용   952,802     399,430,625    \n25  202110  부산광역시  전체(시 / 군 / 구)  일반용   192,134     531,191,920    \n26  202110  부산광역시  전체(시 / 군 / 구)  교육용     1,143      34,307,075    \n27  202110  부산광역시  전체(시 / 군 / 구)  산업용    24,763     685,952,119    \n28  202110  부산광역시  전체(시 / 군 / 구)  농사용    12,404       7,466,561    \n29  202110  부산광역시  전체(시 / 군 / 구)  가로등    88,364      13,611,318    \n30  202110  부산광역시  전체(시 / 군 / 구)  심 야    17,862       8,925,118    \n31  202111  부산광역시  전체(시 / 군 / 구)  주택용   953,191     396,662,875    \n32  202111  부산광역시  전체(시 / 군 / 구)  일반용   192,387     501,087,645    \n33  202111  부산광역시  전체(시 / 군 / 구)  교육용     1,143      34,353,050    \n34  202111  부산광역시  전체(시 / 군 / 구)  산업용    24,766     705,186,668    \n35  202111  부산광역시  전체(시 / 군 / 구)  농사용    12,587       8,506,702    \n36  202111  부산광역시  전체(시 / 군 / 구)  가로등    88,710      14,504,395    \n37  202111  부산광역시  전체(시 / 군 / 구)  심 야    17,801      13,915,012    \n38  202112  부산광역시  전체(시 / 군 / 구)  주택용   952,619     408,030,555    \n39  202112  부산광역시  전체(시 / 군 / 구)  일반용   192,821     551,204,387    \n40  202112  부산광역시  전체(시 / 군 / 구)  교육용     1,146      44,697,369    \n41  202112  부산광역시  전체(시 / 군 / 구)  산업용    24,728     735,434,624    \n42  202112  부산광역시  전체(시 / 군 / 구)  농사용    12,547      10,494,478    \n43  202112  부산광역시  전체(시 / 군 / 구)  가로등    88,813      15,170,152    \n44  202112  부산광역시  전체(시 / 군 / 구)  심 야    17,713      22,188,748    \n45      합계     합계             합계   합계  7,740,519  10,883,210,922   \n\n              전기요금(원) 평균판매단가(원/kWh)  \n3     44,347,601,382         101.9   \n4     86,906,581,127         143.3   \n5      4,574,692,976         118.9   \n6     94,354,400,765         126.4   \n7        426,462,793          43.0   \n8      1,359,750,379         116.7   \n9        831,392,376          64.1   \n10    66,844,000,738         115.7   \n11    94,611,074,407         139.5   \n12     4,430,343,751         121.3   \n13    88,966,353,245         125.0   \n14       443,055,351          48.0   \n15     1,387,113,473         113.7   \n16       782,177,446          66.6   \n17    51,722,972,680         107.4   \n18    73,314,518,780         122.6   \n19     4,173,675,958         106.2   \n20    72,730,641,624         105.4   \n21       469,933,937          42.6   \n22     1,407,619,094         111.5   \n23       605,335,896          61.9   \n24    42,290,825,059         105.9   \n25    60,258,013,426         113.4   \n26     3,307,899,310          96.4   \n27    70,467,846,418         102.7   \n28       399,045,151          53.4   \n29     1,497,099,231         110.0   \n30       583,605,578          65.4   \n31    42,043,743,996         106.0   \n32    66,815,468,490         133.3   \n33     3,610,942,081         105.1   \n34    87,399,480,655         123.9   \n35       447,602,354          52.6   \n36     1,570,034,200         108.2   \n37       950,681,035          68.3   \n38    44,147,030,752         108.2   \n39    77,421,708,367         140.5   \n40     4,805,631,177         107.5   \n41    92,413,531,402         125.7   \n42       540,362,507          51.5   \n43     1,613,307,993         106.3   \n44     1,716,606,530          77.4   \n45  1,298,990,163,890         119.4  ",
      "text/html": "<div>\n<style scoped>\n    .dataframe tbody tr th:only-of-type {\n        vertical-align: middle;\n    }\n\n    .dataframe tbody tr th {\n        vertical-align: top;\n    }\n\n    .dataframe thead th {\n        text-align: right;\n    }\n</style>\n<table border=\"1\" class=\"dataframe\">\n  <thead>\n    <tr style=\"text-align: right;\">\n      <th></th>\n      <th>년월</th>\n      <th>시구</th>\n      <th>시군구</th>\n      <th>계약구분</th>\n      <th>고객호수(호)</th>\n      <th>사용량(kWh)</th>\n      <th>전기요금(원)</th>\n      <th>평균판매단가(원/kWh)</th>\n    </tr>\n  </thead>\n  <tbody>\n    <tr>\n      <th>3</th>\n      <td>202107</td>\n      <td>부산광역시</td>\n      <td>전체(시 / 군 / 구)</td>\n      <td>주택용</td>\n      <td>954,740</td>\n      <td>435,379,029</td>\n      <td>44,347,601,382</td>\n      <td>101.9</td>\n    </tr>\n    <tr>\n      <th>4</th>\n      <td>202107</td>\n      <td>부산광역시</td>\n      <td>전체(시 / 군 / 구)</td>\n      <td>일반용</td>\n      <td>191,506</td>\n      <td>606,377,925</td>\n      <td>86,906,581,127</td>\n      <td>143.3</td>\n    </tr>\n    <tr>\n      <th>5</th>\n      <td>202107</td>\n      <td>부산광역시</td>\n      <td>전체(시 / 군 / 구)</td>\n      <td>교육용</td>\n      <td>1,144</td>\n      <td>38,468,600</td>\n      <td>4,574,692,976</td>\n      <td>118.9</td>\n    </tr>\n    <tr>\n      <th>6</th>\n      <td>202107</td>\n      <td>부산광역시</td>\n      <td>전체(시 / 군 / 구)</td>\n      <td>산업용</td>\n      <td>24,786</td>\n      <td>746,631,063</td>\n      <td>94,354,400,765</td>\n      <td>126.4</td>\n    </tr>\n    <tr>\n      <th>7</th>\n      <td>202107</td>\n      <td>부산광역시</td>\n      <td>전체(시 / 군 / 구)</td>\n      <td>농사용</td>\n      <td>12,308</td>\n      <td>9,909,668</td>\n      <td>426,462,793</td>\n      <td>43.0</td>\n    </tr>\n    <tr>\n      <th>8</th>\n      <td>202107</td>\n      <td>부산광역시</td>\n      <td>전체(시 / 군 / 구)</td>\n      <td>가로등</td>\n      <td>87,629</td>\n      <td>11,649,081</td>\n      <td>1,359,750,379</td>\n      <td>116.7</td>\n    </tr>\n    <tr>\n      <th>9</th>\n      <td>202107</td>\n      <td>부산광역시</td>\n      <td>전체(시 / 군 / 구)</td>\n      <td>심 야</td>\n      <td>18,143</td>\n      <td>12,966,005</td>\n      <td>831,392,376</td>\n      <td>64.1</td>\n    </tr>\n    <tr>\n      <th>10</th>\n      <td>202108</td>\n      <td>부산광역시</td>\n      <td>전체(시 / 군 / 구)</td>\n      <td>주택용</td>\n      <td>953,776</td>\n      <td>577,673,685</td>\n      <td>66,844,000,738</td>\n      <td>115.7</td>\n    </tr>\n    <tr>\n      <th>11</th>\n      <td>202108</td>\n      <td>부산광역시</td>\n      <td>전체(시 / 군 / 구)</td>\n      <td>일반용</td>\n      <td>191,881</td>\n      <td>678,124,931</td>\n      <td>94,611,074,407</td>\n      <td>139.5</td>\n    </tr>\n    <tr>\n      <th>12</th>\n      <td>202108</td>\n      <td>부산광역시</td>\n      <td>전체(시 / 군 / 구)</td>\n      <td>교육용</td>\n      <td>1,143</td>\n      <td>36,524,585</td>\n      <td>4,430,343,751</td>\n      <td>121.3</td>\n    </tr>\n    <tr>\n      <th>13</th>\n      <td>202108</td>\n      <td>부산광역시</td>\n      <td>전체(시 / 군 / 구)</td>\n      <td>산업용</td>\n      <td>24,772</td>\n      <td>711,731,525</td>\n      <td>88,966,353,245</td>\n      <td>125.0</td>\n    </tr>\n    <tr>\n      <th>14</th>\n      <td>202108</td>\n      <td>부산광역시</td>\n      <td>전체(시 / 군 / 구)</td>\n      <td>농사용</td>\n      <td>12,346</td>\n      <td>9,225,768</td>\n      <td>443,055,351</td>\n      <td>48.0</td>\n    </tr>\n    <tr>\n      <th>15</th>\n      <td>202108</td>\n      <td>부산광역시</td>\n      <td>전체(시 / 군 / 구)</td>\n      <td>가로등</td>\n      <td>88,102</td>\n      <td>12,200,220</td>\n      <td>1,387,113,473</td>\n      <td>113.7</td>\n    </tr>\n    <tr>\n      <th>16</th>\n      <td>202108</td>\n      <td>부산광역시</td>\n      <td>전체(시 / 군 / 구)</td>\n      <td>심 야</td>\n      <td>18,040</td>\n      <td>11,738,650</td>\n      <td>782,177,446</td>\n      <td>66.6</td>\n    </tr>\n    <tr>\n      <th>17</th>\n      <td>202109</td>\n      <td>부산광역시</td>\n      <td>전체(시 / 군 / 구)</td>\n      <td>주택용</td>\n      <td>953,154</td>\n      <td>481,606,007</td>\n      <td>51,722,972,680</td>\n      <td>107.4</td>\n    </tr>\n    <tr>\n      <th>18</th>\n      <td>202109</td>\n      <td>부산광역시</td>\n      <td>전체(시 / 군 / 구)</td>\n      <td>일반용</td>\n      <td>192,060</td>\n      <td>598,164,421</td>\n      <td>73,314,518,780</td>\n      <td>122.6</td>\n    </tr>\n    <tr>\n      <th>19</th>\n      <td>202109</td>\n      <td>부산광역시</td>\n      <td>전체(시 / 군 / 구)</td>\n      <td>교육용</td>\n      <td>1,145</td>\n      <td>39,304,577</td>\n      <td>4,173,675,958</td>\n      <td>106.2</td>\n    </tr>\n    <tr>\n      <th>20</th>\n      <td>202109</td>\n      <td>부산광역시</td>\n      <td>전체(시 / 군 / 구)</td>\n      <td>산업용</td>\n      <td>24,775</td>\n      <td>689,790,544</td>\n      <td>72,730,641,624</td>\n      <td>105.4</td>\n    </tr>\n    <tr>\n      <th>21</th>\n      <td>202109</td>\n      <td>부산광역시</td>\n      <td>전체(시 / 군 / 구)</td>\n      <td>농사용</td>\n      <td>12,381</td>\n      <td>11,023,664</td>\n      <td>469,933,937</td>\n      <td>42.6</td>\n    </tr>\n    <tr>\n      <th>22</th>\n      <td>202109</td>\n      <td>부산광역시</td>\n      <td>전체(시 / 군 / 구)</td>\n      <td>가로등</td>\n      <td>88,285</td>\n      <td>12,624,244</td>\n      <td>1,407,619,094</td>\n      <td>111.5</td>\n    </tr>\n    <tr>\n      <th>23</th>\n      <td>202109</td>\n      <td>부산광역시</td>\n      <td>전체(시 / 군 / 구)</td>\n      <td>심 야</td>\n      <td>17,959</td>\n      <td>9,775,334</td>\n      <td>605,335,896</td>\n      <td>61.9</td>\n    </tr>\n    <tr>\n      <th>24</th>\n      <td>202110</td>\n      <td>부산광역시</td>\n      <td>전체(시 / 군 / 구)</td>\n      <td>주택용</td>\n      <td>952,802</td>\n      <td>399,430,625</td>\n      <td>42,290,825,059</td>\n      <td>105.9</td>\n    </tr>\n    <tr>\n      <th>25</th>\n      <td>202110</td>\n      <td>부산광역시</td>\n      <td>전체(시 / 군 / 구)</td>\n      <td>일반용</td>\n      <td>192,134</td>\n      <td>531,191,920</td>\n      <td>60,258,013,426</td>\n      <td>113.4</td>\n    </tr>\n    <tr>\n      <th>26</th>\n      <td>202110</td>\n      <td>부산광역시</td>\n      <td>전체(시 / 군 / 구)</td>\n      <td>교육용</td>\n      <td>1,143</td>\n      <td>34,307,075</td>\n      <td>3,307,899,310</td>\n      <td>96.4</td>\n    </tr>\n    <tr>\n      <th>27</th>\n      <td>202110</td>\n      <td>부산광역시</td>\n      <td>전체(시 / 군 / 구)</td>\n      <td>산업용</td>\n      <td>24,763</td>\n      <td>685,952,119</td>\n      <td>70,467,846,418</td>\n      <td>102.7</td>\n    </tr>\n    <tr>\n      <th>28</th>\n      <td>202110</td>\n      <td>부산광역시</td>\n      <td>전체(시 / 군 / 구)</td>\n      <td>농사용</td>\n      <td>12,404</td>\n      <td>7,466,561</td>\n      <td>399,045,151</td>\n      <td>53.4</td>\n    </tr>\n    <tr>\n      <th>29</th>\n      <td>202110</td>\n      <td>부산광역시</td>\n      <td>전체(시 / 군 / 구)</td>\n      <td>가로등</td>\n      <td>88,364</td>\n      <td>13,611,318</td>\n      <td>1,497,099,231</td>\n      <td>110.0</td>\n    </tr>\n    <tr>\n      <th>30</th>\n      <td>202110</td>\n      <td>부산광역시</td>\n      <td>전체(시 / 군 / 구)</td>\n      <td>심 야</td>\n      <td>17,862</td>\n      <td>8,925,118</td>\n      <td>583,605,578</td>\n      <td>65.4</td>\n    </tr>\n    <tr>\n      <th>31</th>\n      <td>202111</td>\n      <td>부산광역시</td>\n      <td>전체(시 / 군 / 구)</td>\n      <td>주택용</td>\n      <td>953,191</td>\n      <td>396,662,875</td>\n      <td>42,043,743,996</td>\n      <td>106.0</td>\n    </tr>\n    <tr>\n      <th>32</th>\n      <td>202111</td>\n      <td>부산광역시</td>\n      <td>전체(시 / 군 / 구)</td>\n      <td>일반용</td>\n      <td>192,387</td>\n      <td>501,087,645</td>\n      <td>66,815,468,490</td>\n      <td>133.3</td>\n    </tr>\n    <tr>\n      <th>33</th>\n      <td>202111</td>\n      <td>부산광역시</td>\n      <td>전체(시 / 군 / 구)</td>\n      <td>교육용</td>\n      <td>1,143</td>\n      <td>34,353,050</td>\n      <td>3,610,942,081</td>\n      <td>105.1</td>\n    </tr>\n    <tr>\n      <th>34</th>\n      <td>202111</td>\n      <td>부산광역시</td>\n      <td>전체(시 / 군 / 구)</td>\n      <td>산업용</td>\n      <td>24,766</td>\n      <td>705,186,668</td>\n      <td>87,399,480,655</td>\n      <td>123.9</td>\n    </tr>\n    <tr>\n      <th>35</th>\n      <td>202111</td>\n      <td>부산광역시</td>\n      <td>전체(시 / 군 / 구)</td>\n      <td>농사용</td>\n      <td>12,587</td>\n      <td>8,506,702</td>\n      <td>447,602,354</td>\n      <td>52.6</td>\n    </tr>\n    <tr>\n      <th>36</th>\n      <td>202111</td>\n      <td>부산광역시</td>\n      <td>전체(시 / 군 / 구)</td>\n      <td>가로등</td>\n      <td>88,710</td>\n      <td>14,504,395</td>\n      <td>1,570,034,200</td>\n      <td>108.2</td>\n    </tr>\n    <tr>\n      <th>37</th>\n      <td>202111</td>\n      <td>부산광역시</td>\n      <td>전체(시 / 군 / 구)</td>\n      <td>심 야</td>\n      <td>17,801</td>\n      <td>13,915,012</td>\n      <td>950,681,035</td>\n      <td>68.3</td>\n    </tr>\n    <tr>\n      <th>38</th>\n      <td>202112</td>\n      <td>부산광역시</td>\n      <td>전체(시 / 군 / 구)</td>\n      <td>주택용</td>\n      <td>952,619</td>\n      <td>408,030,555</td>\n      <td>44,147,030,752</td>\n      <td>108.2</td>\n    </tr>\n    <tr>\n      <th>39</th>\n      <td>202112</td>\n      <td>부산광역시</td>\n      <td>전체(시 / 군 / 구)</td>\n      <td>일반용</td>\n      <td>192,821</td>\n      <td>551,204,387</td>\n      <td>77,421,708,367</td>\n      <td>140.5</td>\n    </tr>\n    <tr>\n      <th>40</th>\n      <td>202112</td>\n      <td>부산광역시</td>\n      <td>전체(시 / 군 / 구)</td>\n      <td>교육용</td>\n      <td>1,146</td>\n      <td>44,697,369</td>\n      <td>4,805,631,177</td>\n      <td>107.5</td>\n    </tr>\n    <tr>\n      <th>41</th>\n      <td>202112</td>\n      <td>부산광역시</td>\n      <td>전체(시 / 군 / 구)</td>\n      <td>산업용</td>\n      <td>24,728</td>\n      <td>735,434,624</td>\n      <td>92,413,531,402</td>\n      <td>125.7</td>\n    </tr>\n    <tr>\n      <th>42</th>\n      <td>202112</td>\n      <td>부산광역시</td>\n      <td>전체(시 / 군 / 구)</td>\n      <td>농사용</td>\n      <td>12,547</td>\n      <td>10,494,478</td>\n      <td>540,362,507</td>\n      <td>51.5</td>\n    </tr>\n    <tr>\n      <th>43</th>\n      <td>202112</td>\n      <td>부산광역시</td>\n      <td>전체(시 / 군 / 구)</td>\n      <td>가로등</td>\n      <td>88,813</td>\n      <td>15,170,152</td>\n      <td>1,613,307,993</td>\n      <td>106.3</td>\n    </tr>\n    <tr>\n      <th>44</th>\n      <td>202112</td>\n      <td>부산광역시</td>\n      <td>전체(시 / 군 / 구)</td>\n      <td>심 야</td>\n      <td>17,713</td>\n      <td>22,188,748</td>\n      <td>1,716,606,530</td>\n      <td>77.4</td>\n    </tr>\n    <tr>\n      <th>45</th>\n      <td>합계</td>\n      <td>합계</td>\n      <td>합계</td>\n      <td>합계</td>\n      <td>7,740,519</td>\n      <td>10,883,210,922</td>\n      <td>1,298,990,163,890</td>\n      <td>119.4</td>\n    </tr>\n  </tbody>\n</table>\n</div>"
     },
     "execution_count": 6,
     "metadata": {},
     "output_type": "execute_result"
    }
   ],
   "source": [
    "df_2 = df.loc[:45]\n",
    "df_2\n"
   ],
   "metadata": {
    "collapsed": false,
    "pycharm": {
     "name": "#%%\n"
    }
   }
  },
  {
   "cell_type": "code",
   "execution_count": 7,
   "outputs": [
    {
     "name": "stderr",
     "output_type": "stream",
     "text": [
      "C:\\Users\\user\\AppData\\Local\\Temp\\ipykernel_23192\\3551721261.py:3: SettingWithCopyWarning: \n",
      "A value is trying to be set on a copy of a slice from a DataFrame\n",
      "\n",
      "See the caveats in the documentation: https://pandas.pydata.org/pandas-docs/stable/user_guide/indexing.html#returning-a-view-versus-a-copy\n",
      "  GyeonGi.drop(['시군구' , '전기요금(원)' , '평균판매단가(원/kWh)'] , axis = 1 , inplace = True)\n"
     ]
    },
    {
     "data": {
      "text/plain": "        년월     시구 계약구분   고객호수(호)      사용량(kWh)\n4   202107  부산광역시  일반용  191,506   606,377,925 \n11  202108  부산광역시  일반용  191,881   678,124,931 \n18  202109  부산광역시  일반용  192,060   598,164,421 \n25  202110  부산광역시  일반용  192,134   531,191,920 \n32  202111  부산광역시  일반용  192,387   501,087,645 \n39  202112  부산광역시  일반용  192,821   551,204,387 ",
      "text/html": "<div>\n<style scoped>\n    .dataframe tbody tr th:only-of-type {\n        vertical-align: middle;\n    }\n\n    .dataframe tbody tr th {\n        vertical-align: top;\n    }\n\n    .dataframe thead th {\n        text-align: right;\n    }\n</style>\n<table border=\"1\" class=\"dataframe\">\n  <thead>\n    <tr style=\"text-align: right;\">\n      <th></th>\n      <th>년월</th>\n      <th>시구</th>\n      <th>계약구분</th>\n      <th>고객호수(호)</th>\n      <th>사용량(kWh)</th>\n    </tr>\n  </thead>\n  <tbody>\n    <tr>\n      <th>4</th>\n      <td>202107</td>\n      <td>부산광역시</td>\n      <td>일반용</td>\n      <td>191,506</td>\n      <td>606,377,925</td>\n    </tr>\n    <tr>\n      <th>11</th>\n      <td>202108</td>\n      <td>부산광역시</td>\n      <td>일반용</td>\n      <td>191,881</td>\n      <td>678,124,931</td>\n    </tr>\n    <tr>\n      <th>18</th>\n      <td>202109</td>\n      <td>부산광역시</td>\n      <td>일반용</td>\n      <td>192,060</td>\n      <td>598,164,421</td>\n    </tr>\n    <tr>\n      <th>25</th>\n      <td>202110</td>\n      <td>부산광역시</td>\n      <td>일반용</td>\n      <td>192,134</td>\n      <td>531,191,920</td>\n    </tr>\n    <tr>\n      <th>32</th>\n      <td>202111</td>\n      <td>부산광역시</td>\n      <td>일반용</td>\n      <td>192,387</td>\n      <td>501,087,645</td>\n    </tr>\n    <tr>\n      <th>39</th>\n      <td>202112</td>\n      <td>부산광역시</td>\n      <td>일반용</td>\n      <td>192,821</td>\n      <td>551,204,387</td>\n    </tr>\n  </tbody>\n</table>\n</div>"
     },
     "execution_count": 7,
     "metadata": {},
     "output_type": "execute_result"
    }
   ],
   "source": [
    "GyeonGi  = df_2.loc[(df_2['계약구분'] == '일반용')]\n",
    "#SEOUL = df_3.loc[(df_3['계약구분'] =='일반용')]\n",
    "GyeonGi.drop(['시군구' , '전기요금(원)' , '평균판매단가(원/kWh)'] , axis = 1 , inplace = True)\n",
    "GyeonGi"
   ],
   "metadata": {
    "collapsed": false,
    "pycharm": {
     "name": "#%%\n"
    }
   }
  },
  {
   "cell_type": "code",
   "execution_count": 8,
   "outputs": [],
   "source": [
    "#SEOUL1.to_csv(\"서울특별시_계약종별_전국_전력사용량_2022.csv\" , mode = 'w' , encoding= 'cp949')"
   ],
   "metadata": {
    "collapsed": false,
    "pycharm": {
     "name": "#%%\n"
    }
   }
  },
  {
   "cell_type": "code",
   "execution_count": 9,
   "outputs": [],
   "source": [
    "#df_2.to_csv(\"서울특별시_계약종별_전국_전력사용량.csv\" , mode = 'w' , encoding= 'cp949')"
   ],
   "metadata": {
    "collapsed": false,
    "pycharm": {
     "name": "#%%\n"
    }
   }
  },
  {
   "cell_type": "code",
   "execution_count": 10,
   "outputs": [
    {
     "data": {
      "text/plain": "         년월     시구   시군구 계약구분  고객호수(호)     사용량(kWh)\n53   202107  부산광역시   강서구  일반용  10,654   49,815,761 \n181  202108  부산광역시   강서구  일반용  10,692   54,417,985 \n309  202109  부산광역시   강서구  일반용  10,732   50,462,302 \n437  202110  부산광역시   강서구  일반용  10,795   44,854,468 \n565  202111  부산광역시   강서구  일반용  10,799   47,116,075 \n..      ...    ...   ...  ...      ...          ...\n301  202108  부산광역시  해운대구  일반용  14,961   92,266,525 \n429  202109  부산광역시  해운대구  일반용  14,992   79,329,372 \n557  202110  부산광역시  해운대구  일반용  15,015   71,988,592 \n685  202111  부산광역시  해운대구  일반용  15,046   65,554,001 \n813  202112  부산광역시  해운대구  일반용  15,094   73,175,382 \n\n[96 rows x 6 columns]",
      "text/html": "<div>\n<style scoped>\n    .dataframe tbody tr th:only-of-type {\n        vertical-align: middle;\n    }\n\n    .dataframe tbody tr th {\n        vertical-align: top;\n    }\n\n    .dataframe thead th {\n        text-align: right;\n    }\n</style>\n<table border=\"1\" class=\"dataframe\">\n  <thead>\n    <tr style=\"text-align: right;\">\n      <th></th>\n      <th>년월</th>\n      <th>시구</th>\n      <th>시군구</th>\n      <th>계약구분</th>\n      <th>고객호수(호)</th>\n      <th>사용량(kWh)</th>\n    </tr>\n  </thead>\n  <tbody>\n    <tr>\n      <th>53</th>\n      <td>202107</td>\n      <td>부산광역시</td>\n      <td>강서구</td>\n      <td>일반용</td>\n      <td>10,654</td>\n      <td>49,815,761</td>\n    </tr>\n    <tr>\n      <th>181</th>\n      <td>202108</td>\n      <td>부산광역시</td>\n      <td>강서구</td>\n      <td>일반용</td>\n      <td>10,692</td>\n      <td>54,417,985</td>\n    </tr>\n    <tr>\n      <th>309</th>\n      <td>202109</td>\n      <td>부산광역시</td>\n      <td>강서구</td>\n      <td>일반용</td>\n      <td>10,732</td>\n      <td>50,462,302</td>\n    </tr>\n    <tr>\n      <th>437</th>\n      <td>202110</td>\n      <td>부산광역시</td>\n      <td>강서구</td>\n      <td>일반용</td>\n      <td>10,795</td>\n      <td>44,854,468</td>\n    </tr>\n    <tr>\n      <th>565</th>\n      <td>202111</td>\n      <td>부산광역시</td>\n      <td>강서구</td>\n      <td>일반용</td>\n      <td>10,799</td>\n      <td>47,116,075</td>\n    </tr>\n    <tr>\n      <th>...</th>\n      <td>...</td>\n      <td>...</td>\n      <td>...</td>\n      <td>...</td>\n      <td>...</td>\n      <td>...</td>\n    </tr>\n    <tr>\n      <th>301</th>\n      <td>202108</td>\n      <td>부산광역시</td>\n      <td>해운대구</td>\n      <td>일반용</td>\n      <td>14,961</td>\n      <td>92,266,525</td>\n    </tr>\n    <tr>\n      <th>429</th>\n      <td>202109</td>\n      <td>부산광역시</td>\n      <td>해운대구</td>\n      <td>일반용</td>\n      <td>14,992</td>\n      <td>79,329,372</td>\n    </tr>\n    <tr>\n      <th>557</th>\n      <td>202110</td>\n      <td>부산광역시</td>\n      <td>해운대구</td>\n      <td>일반용</td>\n      <td>15,015</td>\n      <td>71,988,592</td>\n    </tr>\n    <tr>\n      <th>685</th>\n      <td>202111</td>\n      <td>부산광역시</td>\n      <td>해운대구</td>\n      <td>일반용</td>\n      <td>15,046</td>\n      <td>65,554,001</td>\n    </tr>\n    <tr>\n      <th>813</th>\n      <td>202112</td>\n      <td>부산광역시</td>\n      <td>해운대구</td>\n      <td>일반용</td>\n      <td>15,094</td>\n      <td>73,175,382</td>\n    </tr>\n  </tbody>\n</table>\n<p>96 rows × 6 columns</p>\n</div>"
     },
     "execution_count": 10,
     "metadata": {},
     "output_type": "execute_result"
    }
   ],
   "source": [
    "df_3 = df.loc[48:]\n",
    "df_3 = df_3.loc[(df_3['계약구분'] == '일반용')]\n",
    "df_3 = df_3.sort_values(by=['시군구' , '년월'])\n",
    "df_3.drop(['전기요금(원)',   '평균판매단가(원/kWh)'] , axis = 1 , inplace = True)\n",
    "df_3"
   ],
   "metadata": {
    "collapsed": false,
    "pycharm": {
     "name": "#%%\n"
    }
   }
  },
  {
   "cell_type": "code",
   "execution_count": 11,
   "outputs": [
    {
     "data": {
      "text/plain": "'부산광역시'"
     },
     "execution_count": 11,
     "metadata": {},
     "output_type": "execute_result"
    }
   ],
   "source": [
    "a = df_3.loc[: , \"시구\"]\n",
    "b = a[:1].tolist()\n",
    "for i in b:\n",
    "    City = i\n",
    "City"
   ],
   "metadata": {
    "collapsed": false,
    "pycharm": {
     "name": "#%%\n"
    }
   }
  },
  {
   "cell_type": "code",
   "execution_count": 12,
   "outputs": [
    {
     "data": {
      "text/plain": "['강서구',\n '금정구',\n '기장군',\n '남구',\n '동구',\n '동래구',\n '부산진구',\n '북구',\n '사상구',\n '사하구',\n '서구',\n '수영구',\n '연제구',\n '영도구',\n '중구',\n '해운대구']"
     },
     "execution_count": 12,
     "metadata": {},
     "output_type": "execute_result"
    }
   ],
   "source": [
    "\n",
    "SIGUNGU = list(set(df_3.loc[: , '시군구'].tolist()))\n",
    "SIGUNGU.sort()\n",
    "SIGUNGU"
   ],
   "metadata": {
    "collapsed": false,
    "pycharm": {
     "name": "#%%\n"
    }
   }
  },
  {
   "cell_type": "code",
   "execution_count": 13,
   "outputs": [
    {
     "data": {
      "text/plain": "         년월     시구   시군구 계약구분  고객호수(호)      사용량(kWh)\n55   202107  부산광역시   강서구   합계  56,593   389,118,696 \n183  202108  부산광역시   강서구   합계  56,702   373,412,163 \n311  202109  부산광역시   강서구   합계  56,770   361,947,265 \n439  202110  부산광역시   강서구   합계  56,871   350,844,644 \n567  202111  부산광역시   강서구   합계  57,035   353,886,155 \n..      ...    ...   ...  ...      ...           ...\n303  202108  부산광역시  해운대구   합계  94,811   196,064,697 \n431  202109  부산광역시  해운대구   합계  94,851   170,282,845 \n559  202110  부산광역시  해운대구   합계  94,858   151,495,686 \n687  202111  부산광역시  해운대구   합계  94,873   144,817,567 \n815  202112  부산광역시  해운대구   합계  94,921   153,845,022 \n\n[96 rows x 6 columns]",
      "text/html": "<div>\n<style scoped>\n    .dataframe tbody tr th:only-of-type {\n        vertical-align: middle;\n    }\n\n    .dataframe tbody tr th {\n        vertical-align: top;\n    }\n\n    .dataframe thead th {\n        text-align: right;\n    }\n</style>\n<table border=\"1\" class=\"dataframe\">\n  <thead>\n    <tr style=\"text-align: right;\">\n      <th></th>\n      <th>년월</th>\n      <th>시구</th>\n      <th>시군구</th>\n      <th>계약구분</th>\n      <th>고객호수(호)</th>\n      <th>사용량(kWh)</th>\n    </tr>\n  </thead>\n  <tbody>\n    <tr>\n      <th>55</th>\n      <td>202107</td>\n      <td>부산광역시</td>\n      <td>강서구</td>\n      <td>합계</td>\n      <td>56,593</td>\n      <td>389,118,696</td>\n    </tr>\n    <tr>\n      <th>183</th>\n      <td>202108</td>\n      <td>부산광역시</td>\n      <td>강서구</td>\n      <td>합계</td>\n      <td>56,702</td>\n      <td>373,412,163</td>\n    </tr>\n    <tr>\n      <th>311</th>\n      <td>202109</td>\n      <td>부산광역시</td>\n      <td>강서구</td>\n      <td>합계</td>\n      <td>56,770</td>\n      <td>361,947,265</td>\n    </tr>\n    <tr>\n      <th>439</th>\n      <td>202110</td>\n      <td>부산광역시</td>\n      <td>강서구</td>\n      <td>합계</td>\n      <td>56,871</td>\n      <td>350,844,644</td>\n    </tr>\n    <tr>\n      <th>567</th>\n      <td>202111</td>\n      <td>부산광역시</td>\n      <td>강서구</td>\n      <td>합계</td>\n      <td>57,035</td>\n      <td>353,886,155</td>\n    </tr>\n    <tr>\n      <th>...</th>\n      <td>...</td>\n      <td>...</td>\n      <td>...</td>\n      <td>...</td>\n      <td>...</td>\n      <td>...</td>\n    </tr>\n    <tr>\n      <th>303</th>\n      <td>202108</td>\n      <td>부산광역시</td>\n      <td>해운대구</td>\n      <td>합계</td>\n      <td>94,811</td>\n      <td>196,064,697</td>\n    </tr>\n    <tr>\n      <th>431</th>\n      <td>202109</td>\n      <td>부산광역시</td>\n      <td>해운대구</td>\n      <td>합계</td>\n      <td>94,851</td>\n      <td>170,282,845</td>\n    </tr>\n    <tr>\n      <th>559</th>\n      <td>202110</td>\n      <td>부산광역시</td>\n      <td>해운대구</td>\n      <td>합계</td>\n      <td>94,858</td>\n      <td>151,495,686</td>\n    </tr>\n    <tr>\n      <th>687</th>\n      <td>202111</td>\n      <td>부산광역시</td>\n      <td>해운대구</td>\n      <td>합계</td>\n      <td>94,873</td>\n      <td>144,817,567</td>\n    </tr>\n    <tr>\n      <th>815</th>\n      <td>202112</td>\n      <td>부산광역시</td>\n      <td>해운대구</td>\n      <td>합계</td>\n      <td>94,921</td>\n      <td>153,845,022</td>\n    </tr>\n  </tbody>\n</table>\n<p>96 rows × 6 columns</p>\n</div>"
     },
     "execution_count": 13,
     "metadata": {},
     "output_type": "execute_result"
    }
   ],
   "source": [
    "df_4 = df.loc[48:]\n",
    "df_4 = df_4.loc[(df_4['계약구분'] == '합계')]\n",
    "df_4 = df_4.sort_values(by=['시군구' , '년월'])\n",
    "df_4.drop(['전기요금(원)',   '평균판매단가(원/kWh)'] , axis = 1 , inplace = True)\n",
    "df_4"
   ],
   "metadata": {
    "collapsed": false,
    "pycharm": {
     "name": "#%%\n"
    }
   }
  },
  {
   "cell_type": "code",
   "execution_count": 14,
   "outputs": [
    {
     "name": "stdout",
     "output_type": "stream",
     "text": [
      "[389118696, 373412163, 361947265, 350844644, 353886155, 378419982]\n",
      "[92285421, 107564472, 95499710, 84302701, 79875683, 97054644]\n",
      "[110371315, 112243437, 106877529, 97763315, 114740311, 110501793]\n",
      "[129105523, 145781863, 129961016, 119597987, 114464849, 119617898]\n",
      "[46150648, 53393007, 46653235, 41099249, 39737151, 44009514]\n",
      "[82271656, 100196449, 86544847, 75173601, 73614367, 79021525]\n",
      "[151790275, 172049268, 152971692, 134016996, 129499301, 140502640]\n",
      "[76262339, 93885975, 79455847, 69787730, 70026713, 74540581]\n",
      "[136177579, 145550743, 134908079, 120450141, 127266175, 137621472]\n",
      "[221947430, 234187075, 212543315, 205849692, 207428670, 216122661]\n",
      "[55525787, 63570859, 56936874, 51784865, 47877448, 51830272]\n",
      "[55154077, 69146606, 59377797, 50732926, 48096572, 50658561]\n",
      "[71507144, 85134722, 73425795, 62679900, 60716855, 65928446]\n",
      "[41341479, 46749216, 41974503, 36711519, 35872556, 38893884]\n",
      "[32405633, 38288812, 32928442, 28593784, 26295974, 28651418]\n",
      "[169966369, 196064697, 170282845, 151495686, 144817567, 153845022]\n",
      "부산광역시 지역별 합계 :  [2207628905, 556582631, 652497700, 758529136, 271042804, 496822445, 880830172, 463959185, 801974189, 1298078843, 327526105, 333166539, 419392862, 241543157, 187164063, 986472186]\n",
      "부산광역시 고객호수 평균:  [9472, 18700, 9680, 16464, 8851, 15648, 22831, 12957, 14003, 19461, 10153, 12853, 12084, 9617, 6423, 15809]\n"
     ]
    }
   ],
   "source": [
    "sum2 , sum3 =[] , []\n",
    "for k in SIGUNGU:\n",
    "    GyeonGiHap = pd.DataFrame([] , columns = a)\n",
    "    HOSU = pd.DataFrame([], columns = a)\n",
    "    GyeonGiHap['사용량']= df_4['사용량(kWh)'].loc[(df_4['시군구'] == '{}'.format(k))]\n",
    "    HOSU['고객호수']= df_4['고객호수(호)'].loc[(df_4['시군구'] == '{}'.format(k))]\n",
    "    #경기합 데이터프레임의 사용량 열에 기군구가 가평군인 사용량 데이터만 뽑아내기\n",
    "    # GyeonGiHap = GyeonGiHap['사용량']\n",
    "\n",
    "    b = GyeonGiHap['사용량'].tolist()\n",
    "    c = HOSU['고객호수'].tolist()\n",
    "\n",
    "\n",
    "    #각지역별 사용량 리스트화\n",
    "    int_list  , int_list2=[] , []\n",
    "    for i in b:\n",
    "        i = re.sub(\",\" , \"\" , i)\n",
    "        #콤마 없애기\n",
    "        int_list.append(int(i))\n",
    "        #int_list에 각지역별 사용량 int로 저장\n",
    "    print(int_list)\n",
    "    sum=0\n",
    "    for i in c:\n",
    "        i = re.sub(\",\" , \"\" , i)\n",
    "        int_list2.append(int(i))\n",
    "\n",
    "    for j in int_list:\n",
    "\n",
    "        sum+= j\n",
    "    sum2.append(sum)\n",
    "    sum = 0\n",
    "    for j in int_list2: #고객호수 추출하여 더하기\n",
    "\n",
    "        sum+= j\n",
    "    sum3.append(sum//36) #6개월 치로 나눠야하나?!\n",
    "\n",
    "\n",
    "\n",
    "\n",
    "print(\"{} 지역별 합계 : \".format(City) , sum2)\n",
    "print(\"{} 고객호수 평균: \".format(City) , sum3)"
   ],
   "metadata": {
    "collapsed": false,
    "pycharm": {
     "name": "#%%\n"
    }
   }
  },
  {
   "cell_type": "markdown",
   "source": [
    "### 2. 날짜 체크!!!!!!!!!!!!!!!!!!!!!!!!!!!!!!!!!!!!!!!!!!!!!!"
   ],
   "metadata": {
    "collapsed": false,
    "pycharm": {
     "name": "#%% md\n"
    }
   }
  },
  {
   "cell_type": "code",
   "execution_count": 15,
   "outputs": [
    {
     "name": "stderr",
     "output_type": "stream",
     "text": [
      "C:\\Users\\user\\AppData\\Local\\Temp\\ipykernel_23192\\895775541.py:4: FutureWarning: The frame.append method is deprecated and will be removed from pandas in a future version. Use pandas.concat instead.\n",
      "  Hap = Hap.append({'년월' :'202107-202112'  , '시구' : '{}'.format(City) , '시군구' : '{}'.format(SIGUNGU[i]) , '계약구분' : '합계' , '고객호수(호)' : sum3[i] ,  '사용량(kWh)' : sum2[i]} , ignore_index=True) #년월 파일마다 수정하기\n",
      "C:\\Users\\user\\AppData\\Local\\Temp\\ipykernel_23192\\895775541.py:4: FutureWarning: The frame.append method is deprecated and will be removed from pandas in a future version. Use pandas.concat instead.\n",
      "  Hap = Hap.append({'년월' :'202107-202112'  , '시구' : '{}'.format(City) , '시군구' : '{}'.format(SIGUNGU[i]) , '계약구분' : '합계' , '고객호수(호)' : sum3[i] ,  '사용량(kWh)' : sum2[i]} , ignore_index=True) #년월 파일마다 수정하기\n",
      "C:\\Users\\user\\AppData\\Local\\Temp\\ipykernel_23192\\895775541.py:4: FutureWarning: The frame.append method is deprecated and will be removed from pandas in a future version. Use pandas.concat instead.\n",
      "  Hap = Hap.append({'년월' :'202107-202112'  , '시구' : '{}'.format(City) , '시군구' : '{}'.format(SIGUNGU[i]) , '계약구분' : '합계' , '고객호수(호)' : sum3[i] ,  '사용량(kWh)' : sum2[i]} , ignore_index=True) #년월 파일마다 수정하기\n",
      "C:\\Users\\user\\AppData\\Local\\Temp\\ipykernel_23192\\895775541.py:4: FutureWarning: The frame.append method is deprecated and will be removed from pandas in a future version. Use pandas.concat instead.\n",
      "  Hap = Hap.append({'년월' :'202107-202112'  , '시구' : '{}'.format(City) , '시군구' : '{}'.format(SIGUNGU[i]) , '계약구분' : '합계' , '고객호수(호)' : sum3[i] ,  '사용량(kWh)' : sum2[i]} , ignore_index=True) #년월 파일마다 수정하기\n",
      "C:\\Users\\user\\AppData\\Local\\Temp\\ipykernel_23192\\895775541.py:4: FutureWarning: The frame.append method is deprecated and will be removed from pandas in a future version. Use pandas.concat instead.\n",
      "  Hap = Hap.append({'년월' :'202107-202112'  , '시구' : '{}'.format(City) , '시군구' : '{}'.format(SIGUNGU[i]) , '계약구분' : '합계' , '고객호수(호)' : sum3[i] ,  '사용량(kWh)' : sum2[i]} , ignore_index=True) #년월 파일마다 수정하기\n",
      "C:\\Users\\user\\AppData\\Local\\Temp\\ipykernel_23192\\895775541.py:4: FutureWarning: The frame.append method is deprecated and will be removed from pandas in a future version. Use pandas.concat instead.\n",
      "  Hap = Hap.append({'년월' :'202107-202112'  , '시구' : '{}'.format(City) , '시군구' : '{}'.format(SIGUNGU[i]) , '계약구분' : '합계' , '고객호수(호)' : sum3[i] ,  '사용량(kWh)' : sum2[i]} , ignore_index=True) #년월 파일마다 수정하기\n",
      "C:\\Users\\user\\AppData\\Local\\Temp\\ipykernel_23192\\895775541.py:4: FutureWarning: The frame.append method is deprecated and will be removed from pandas in a future version. Use pandas.concat instead.\n",
      "  Hap = Hap.append({'년월' :'202107-202112'  , '시구' : '{}'.format(City) , '시군구' : '{}'.format(SIGUNGU[i]) , '계약구분' : '합계' , '고객호수(호)' : sum3[i] ,  '사용량(kWh)' : sum2[i]} , ignore_index=True) #년월 파일마다 수정하기\n",
      "C:\\Users\\user\\AppData\\Local\\Temp\\ipykernel_23192\\895775541.py:4: FutureWarning: The frame.append method is deprecated and will be removed from pandas in a future version. Use pandas.concat instead.\n",
      "  Hap = Hap.append({'년월' :'202107-202112'  , '시구' : '{}'.format(City) , '시군구' : '{}'.format(SIGUNGU[i]) , '계약구분' : '합계' , '고객호수(호)' : sum3[i] ,  '사용량(kWh)' : sum2[i]} , ignore_index=True) #년월 파일마다 수정하기\n",
      "C:\\Users\\user\\AppData\\Local\\Temp\\ipykernel_23192\\895775541.py:4: FutureWarning: The frame.append method is deprecated and will be removed from pandas in a future version. Use pandas.concat instead.\n",
      "  Hap = Hap.append({'년월' :'202107-202112'  , '시구' : '{}'.format(City) , '시군구' : '{}'.format(SIGUNGU[i]) , '계약구분' : '합계' , '고객호수(호)' : sum3[i] ,  '사용량(kWh)' : sum2[i]} , ignore_index=True) #년월 파일마다 수정하기\n",
      "C:\\Users\\user\\AppData\\Local\\Temp\\ipykernel_23192\\895775541.py:4: FutureWarning: The frame.append method is deprecated and will be removed from pandas in a future version. Use pandas.concat instead.\n",
      "  Hap = Hap.append({'년월' :'202107-202112'  , '시구' : '{}'.format(City) , '시군구' : '{}'.format(SIGUNGU[i]) , '계약구분' : '합계' , '고객호수(호)' : sum3[i] ,  '사용량(kWh)' : sum2[i]} , ignore_index=True) #년월 파일마다 수정하기\n",
      "C:\\Users\\user\\AppData\\Local\\Temp\\ipykernel_23192\\895775541.py:4: FutureWarning: The frame.append method is deprecated and will be removed from pandas in a future version. Use pandas.concat instead.\n",
      "  Hap = Hap.append({'년월' :'202107-202112'  , '시구' : '{}'.format(City) , '시군구' : '{}'.format(SIGUNGU[i]) , '계약구분' : '합계' , '고객호수(호)' : sum3[i] ,  '사용량(kWh)' : sum2[i]} , ignore_index=True) #년월 파일마다 수정하기\n",
      "C:\\Users\\user\\AppData\\Local\\Temp\\ipykernel_23192\\895775541.py:4: FutureWarning: The frame.append method is deprecated and will be removed from pandas in a future version. Use pandas.concat instead.\n",
      "  Hap = Hap.append({'년월' :'202107-202112'  , '시구' : '{}'.format(City) , '시군구' : '{}'.format(SIGUNGU[i]) , '계약구분' : '합계' , '고객호수(호)' : sum3[i] ,  '사용량(kWh)' : sum2[i]} , ignore_index=True) #년월 파일마다 수정하기\n",
      "C:\\Users\\user\\AppData\\Local\\Temp\\ipykernel_23192\\895775541.py:4: FutureWarning: The frame.append method is deprecated and will be removed from pandas in a future version. Use pandas.concat instead.\n",
      "  Hap = Hap.append({'년월' :'202107-202112'  , '시구' : '{}'.format(City) , '시군구' : '{}'.format(SIGUNGU[i]) , '계약구분' : '합계' , '고객호수(호)' : sum3[i] ,  '사용량(kWh)' : sum2[i]} , ignore_index=True) #년월 파일마다 수정하기\n",
      "C:\\Users\\user\\AppData\\Local\\Temp\\ipykernel_23192\\895775541.py:4: FutureWarning: The frame.append method is deprecated and will be removed from pandas in a future version. Use pandas.concat instead.\n",
      "  Hap = Hap.append({'년월' :'202107-202112'  , '시구' : '{}'.format(City) , '시군구' : '{}'.format(SIGUNGU[i]) , '계약구분' : '합계' , '고객호수(호)' : sum3[i] ,  '사용량(kWh)' : sum2[i]} , ignore_index=True) #년월 파일마다 수정하기\n",
      "C:\\Users\\user\\AppData\\Local\\Temp\\ipykernel_23192\\895775541.py:4: FutureWarning: The frame.append method is deprecated and will be removed from pandas in a future version. Use pandas.concat instead.\n",
      "  Hap = Hap.append({'년월' :'202107-202112'  , '시구' : '{}'.format(City) , '시군구' : '{}'.format(SIGUNGU[i]) , '계약구분' : '합계' , '고객호수(호)' : sum3[i] ,  '사용량(kWh)' : sum2[i]} , ignore_index=True) #년월 파일마다 수정하기\n",
      "C:\\Users\\user\\AppData\\Local\\Temp\\ipykernel_23192\\895775541.py:4: FutureWarning: The frame.append method is deprecated and will be removed from pandas in a future version. Use pandas.concat instead.\n",
      "  Hap = Hap.append({'년월' :'202107-202112'  , '시구' : '{}'.format(City) , '시군구' : '{}'.format(SIGUNGU[i]) , '계약구분' : '합계' , '고객호수(호)' : sum3[i] ,  '사용량(kWh)' : sum2[i]} , ignore_index=True) #년월 파일마다 수정하기\n"
     ]
    },
    {
     "data": {
      "text/plain": "                년월     시구   시군구 계약구분  고객호수(호)      사용량(kWh)\n0           202107  부산광역시   강서구   합계  56,593   389,118,696 \n1           202108  부산광역시   강서구   합계  56,702   373,412,163 \n2           202109  부산광역시   강서구   합계  56,770   361,947,265 \n3           202110  부산광역시   강서구   합계  56,871   350,844,644 \n4           202111  부산광역시   강서구   합계  57,035   353,886,155 \n..             ...    ...   ...  ...      ...           ...\n107  202107-202112  부산광역시   수영구   합계    12853     333166539\n108  202107-202112  부산광역시   연제구   합계    12084     419392862\n109  202107-202112  부산광역시   영도구   합계     9617     241543157\n110  202107-202112  부산광역시    중구   합계     6423     187164063\n111  202107-202112  부산광역시  해운대구   합계    15809     986472186\n\n[112 rows x 6 columns]",
      "text/html": "<div>\n<style scoped>\n    .dataframe tbody tr th:only-of-type {\n        vertical-align: middle;\n    }\n\n    .dataframe tbody tr th {\n        vertical-align: top;\n    }\n\n    .dataframe thead th {\n        text-align: right;\n    }\n</style>\n<table border=\"1\" class=\"dataframe\">\n  <thead>\n    <tr style=\"text-align: right;\">\n      <th></th>\n      <th>년월</th>\n      <th>시구</th>\n      <th>시군구</th>\n      <th>계약구분</th>\n      <th>고객호수(호)</th>\n      <th>사용량(kWh)</th>\n    </tr>\n  </thead>\n  <tbody>\n    <tr>\n      <th>0</th>\n      <td>202107</td>\n      <td>부산광역시</td>\n      <td>강서구</td>\n      <td>합계</td>\n      <td>56,593</td>\n      <td>389,118,696</td>\n    </tr>\n    <tr>\n      <th>1</th>\n      <td>202108</td>\n      <td>부산광역시</td>\n      <td>강서구</td>\n      <td>합계</td>\n      <td>56,702</td>\n      <td>373,412,163</td>\n    </tr>\n    <tr>\n      <th>2</th>\n      <td>202109</td>\n      <td>부산광역시</td>\n      <td>강서구</td>\n      <td>합계</td>\n      <td>56,770</td>\n      <td>361,947,265</td>\n    </tr>\n    <tr>\n      <th>3</th>\n      <td>202110</td>\n      <td>부산광역시</td>\n      <td>강서구</td>\n      <td>합계</td>\n      <td>56,871</td>\n      <td>350,844,644</td>\n    </tr>\n    <tr>\n      <th>4</th>\n      <td>202111</td>\n      <td>부산광역시</td>\n      <td>강서구</td>\n      <td>합계</td>\n      <td>57,035</td>\n      <td>353,886,155</td>\n    </tr>\n    <tr>\n      <th>...</th>\n      <td>...</td>\n      <td>...</td>\n      <td>...</td>\n      <td>...</td>\n      <td>...</td>\n      <td>...</td>\n    </tr>\n    <tr>\n      <th>107</th>\n      <td>202107-202112</td>\n      <td>부산광역시</td>\n      <td>수영구</td>\n      <td>합계</td>\n      <td>12853</td>\n      <td>333166539</td>\n    </tr>\n    <tr>\n      <th>108</th>\n      <td>202107-202112</td>\n      <td>부산광역시</td>\n      <td>연제구</td>\n      <td>합계</td>\n      <td>12084</td>\n      <td>419392862</td>\n    </tr>\n    <tr>\n      <th>109</th>\n      <td>202107-202112</td>\n      <td>부산광역시</td>\n      <td>영도구</td>\n      <td>합계</td>\n      <td>9617</td>\n      <td>241543157</td>\n    </tr>\n    <tr>\n      <th>110</th>\n      <td>202107-202112</td>\n      <td>부산광역시</td>\n      <td>중구</td>\n      <td>합계</td>\n      <td>6423</td>\n      <td>187164063</td>\n    </tr>\n    <tr>\n      <th>111</th>\n      <td>202107-202112</td>\n      <td>부산광역시</td>\n      <td>해운대구</td>\n      <td>합계</td>\n      <td>15809</td>\n      <td>986472186</td>\n    </tr>\n  </tbody>\n</table>\n<p>112 rows × 6 columns</p>\n</div>"
     },
     "execution_count": 15,
     "metadata": {},
     "output_type": "execute_result"
    }
   ],
   "source": [
    "Hap = df_4.copy()\n",
    "Hap.reset_index(drop=True , inplace = True)\n",
    "for i in range(len(SIGUNGU)):\n",
    "    Hap = Hap.append({'년월' :'202107-202112'  , '시구' : '{}'.format(City) , '시군구' : '{}'.format(SIGUNGU[i]) , '계약구분' : '합계' , '고객호수(호)' : sum3[i] ,  '사용량(kWh)' : sum2[i]} , ignore_index=True) #년월 파일마다 수정하기\n",
    "Hap"
   ],
   "metadata": {
    "collapsed": false,
    "pycharm": {
     "name": "#%%\n"
    }
   }
  },
  {
   "cell_type": "markdown",
   "source": [
    "### 3. 날짜 변경!!!!!!!!!!!!!!!!!!!!!!!!!!!!!!!"
   ],
   "metadata": {
    "collapsed": false,
    "pycharm": {
     "name": "#%% md\n"
    }
   }
  },
  {
   "cell_type": "code",
   "execution_count": 16,
   "outputs": [
    {
     "data": {
      "text/plain": "                년월     시구   시군구 계약구분 고객호수(호)    사용량(kWh)\n96   202107-202112  부산광역시   강서구   합계    9472  2207628905\n97   202107-202112  부산광역시   금정구   합계   18700   556582631\n98   202107-202112  부산광역시   기장군   합계    9680   652497700\n99   202107-202112  부산광역시    남구   합계   16464   758529136\n100  202107-202112  부산광역시    동구   합계    8851   271042804\n101  202107-202112  부산광역시   동래구   합계   15648   496822445\n102  202107-202112  부산광역시  부산진구   합계   22831   880830172\n103  202107-202112  부산광역시    북구   합계   12957   463959185\n104  202107-202112  부산광역시   사상구   합계   14003   801974189\n105  202107-202112  부산광역시   사하구   합계   19461  1298078843\n106  202107-202112  부산광역시    서구   합계   10153   327526105\n107  202107-202112  부산광역시   수영구   합계   12853   333166539\n108  202107-202112  부산광역시   연제구   합계   12084   419392862\n109  202107-202112  부산광역시   영도구   합계    9617   241543157\n110  202107-202112  부산광역시    중구   합계    6423   187164063\n111  202107-202112  부산광역시  해운대구   합계   15809   986472186",
      "text/html": "<div>\n<style scoped>\n    .dataframe tbody tr th:only-of-type {\n        vertical-align: middle;\n    }\n\n    .dataframe tbody tr th {\n        vertical-align: top;\n    }\n\n    .dataframe thead th {\n        text-align: right;\n    }\n</style>\n<table border=\"1\" class=\"dataframe\">\n  <thead>\n    <tr style=\"text-align: right;\">\n      <th></th>\n      <th>년월</th>\n      <th>시구</th>\n      <th>시군구</th>\n      <th>계약구분</th>\n      <th>고객호수(호)</th>\n      <th>사용량(kWh)</th>\n    </tr>\n  </thead>\n  <tbody>\n    <tr>\n      <th>96</th>\n      <td>202107-202112</td>\n      <td>부산광역시</td>\n      <td>강서구</td>\n      <td>합계</td>\n      <td>9472</td>\n      <td>2207628905</td>\n    </tr>\n    <tr>\n      <th>97</th>\n      <td>202107-202112</td>\n      <td>부산광역시</td>\n      <td>금정구</td>\n      <td>합계</td>\n      <td>18700</td>\n      <td>556582631</td>\n    </tr>\n    <tr>\n      <th>98</th>\n      <td>202107-202112</td>\n      <td>부산광역시</td>\n      <td>기장군</td>\n      <td>합계</td>\n      <td>9680</td>\n      <td>652497700</td>\n    </tr>\n    <tr>\n      <th>99</th>\n      <td>202107-202112</td>\n      <td>부산광역시</td>\n      <td>남구</td>\n      <td>합계</td>\n      <td>16464</td>\n      <td>758529136</td>\n    </tr>\n    <tr>\n      <th>100</th>\n      <td>202107-202112</td>\n      <td>부산광역시</td>\n      <td>동구</td>\n      <td>합계</td>\n      <td>8851</td>\n      <td>271042804</td>\n    </tr>\n    <tr>\n      <th>101</th>\n      <td>202107-202112</td>\n      <td>부산광역시</td>\n      <td>동래구</td>\n      <td>합계</td>\n      <td>15648</td>\n      <td>496822445</td>\n    </tr>\n    <tr>\n      <th>102</th>\n      <td>202107-202112</td>\n      <td>부산광역시</td>\n      <td>부산진구</td>\n      <td>합계</td>\n      <td>22831</td>\n      <td>880830172</td>\n    </tr>\n    <tr>\n      <th>103</th>\n      <td>202107-202112</td>\n      <td>부산광역시</td>\n      <td>북구</td>\n      <td>합계</td>\n      <td>12957</td>\n      <td>463959185</td>\n    </tr>\n    <tr>\n      <th>104</th>\n      <td>202107-202112</td>\n      <td>부산광역시</td>\n      <td>사상구</td>\n      <td>합계</td>\n      <td>14003</td>\n      <td>801974189</td>\n    </tr>\n    <tr>\n      <th>105</th>\n      <td>202107-202112</td>\n      <td>부산광역시</td>\n      <td>사하구</td>\n      <td>합계</td>\n      <td>19461</td>\n      <td>1298078843</td>\n    </tr>\n    <tr>\n      <th>106</th>\n      <td>202107-202112</td>\n      <td>부산광역시</td>\n      <td>서구</td>\n      <td>합계</td>\n      <td>10153</td>\n      <td>327526105</td>\n    </tr>\n    <tr>\n      <th>107</th>\n      <td>202107-202112</td>\n      <td>부산광역시</td>\n      <td>수영구</td>\n      <td>합계</td>\n      <td>12853</td>\n      <td>333166539</td>\n    </tr>\n    <tr>\n      <th>108</th>\n      <td>202107-202112</td>\n      <td>부산광역시</td>\n      <td>연제구</td>\n      <td>합계</td>\n      <td>12084</td>\n      <td>419392862</td>\n    </tr>\n    <tr>\n      <th>109</th>\n      <td>202107-202112</td>\n      <td>부산광역시</td>\n      <td>영도구</td>\n      <td>합계</td>\n      <td>9617</td>\n      <td>241543157</td>\n    </tr>\n    <tr>\n      <th>110</th>\n      <td>202107-202112</td>\n      <td>부산광역시</td>\n      <td>중구</td>\n      <td>합계</td>\n      <td>6423</td>\n      <td>187164063</td>\n    </tr>\n    <tr>\n      <th>111</th>\n      <td>202107-202112</td>\n      <td>부산광역시</td>\n      <td>해운대구</td>\n      <td>합계</td>\n      <td>15809</td>\n      <td>986472186</td>\n    </tr>\n  </tbody>\n</table>\n</div>"
     },
     "execution_count": 16,
     "metadata": {},
     "output_type": "execute_result"
    }
   ],
   "source": [
    "Hap = Hap.loc[Hap['년월'] == '202107-202112']\n",
    "Hap"
   ],
   "metadata": {
    "collapsed": false,
    "pycharm": {
     "name": "#%%\n"
    }
   }
  },
  {
   "cell_type": "code",
   "execution_count": 17,
   "outputs": [],
   "source": [
    "# SIGUNGU = SIGUNGU[:1]\n",
    "# SIGUNGU\n",
    "#for i in SIGUNGU:\n",
    "#print('{}'.format(i))\n",
    "# df_3 = df_3.loc[(df_3['시군구'] == '가평군')]\n",
    "#\n",
    "# df_3"
   ],
   "metadata": {
    "collapsed": false,
    "pycharm": {
     "name": "#%%\n"
    }
   }
  },
  {
   "cell_type": "code",
   "execution_count": 18,
   "outputs": [
    {
     "data": {
      "text/plain": "['년월', '시구', '시군구', '계약구분', '고객호수(호)', '사용량(kWh)']"
     },
     "execution_count": 18,
     "metadata": {},
     "output_type": "execute_result"
    }
   ],
   "source": [
    "a = (df_3.columns).tolist()\n",
    "\n",
    "a"
   ],
   "metadata": {
    "collapsed": false,
    "pycharm": {
     "name": "#%%\n"
    }
   }
  },
  {
   "cell_type": "code",
   "execution_count": 19,
   "outputs": [
    {
     "data": {
      "text/plain": "         년월     시구   시군구 계약구분  고객호수(호)     사용량(kWh)\n53   202107  부산광역시   강서구  일반용  10,654   49,815,761 \n181  202108  부산광역시   강서구  일반용  10,692   54,417,985 \n309  202109  부산광역시   강서구  일반용  10,732   50,462,302 \n437  202110  부산광역시   강서구  일반용  10,795   44,854,468 \n565  202111  부산광역시   강서구  일반용  10,799   47,116,075 \n..      ...    ...   ...  ...      ...          ...\n301  202108  부산광역시  해운대구  일반용  14,961   92,266,525 \n429  202109  부산광역시  해운대구  일반용  14,992   79,329,372 \n557  202110  부산광역시  해운대구  일반용  15,015   71,988,592 \n685  202111  부산광역시  해운대구  일반용  15,046   65,554,001 \n813  202112  부산광역시  해운대구  일반용  15,094   73,175,382 \n\n[96 rows x 6 columns]",
      "text/html": "<div>\n<style scoped>\n    .dataframe tbody tr th:only-of-type {\n        vertical-align: middle;\n    }\n\n    .dataframe tbody tr th {\n        vertical-align: top;\n    }\n\n    .dataframe thead th {\n        text-align: right;\n    }\n</style>\n<table border=\"1\" class=\"dataframe\">\n  <thead>\n    <tr style=\"text-align: right;\">\n      <th></th>\n      <th>년월</th>\n      <th>시구</th>\n      <th>시군구</th>\n      <th>계약구분</th>\n      <th>고객호수(호)</th>\n      <th>사용량(kWh)</th>\n    </tr>\n  </thead>\n  <tbody>\n    <tr>\n      <th>53</th>\n      <td>202107</td>\n      <td>부산광역시</td>\n      <td>강서구</td>\n      <td>일반용</td>\n      <td>10,654</td>\n      <td>49,815,761</td>\n    </tr>\n    <tr>\n      <th>181</th>\n      <td>202108</td>\n      <td>부산광역시</td>\n      <td>강서구</td>\n      <td>일반용</td>\n      <td>10,692</td>\n      <td>54,417,985</td>\n    </tr>\n    <tr>\n      <th>309</th>\n      <td>202109</td>\n      <td>부산광역시</td>\n      <td>강서구</td>\n      <td>일반용</td>\n      <td>10,732</td>\n      <td>50,462,302</td>\n    </tr>\n    <tr>\n      <th>437</th>\n      <td>202110</td>\n      <td>부산광역시</td>\n      <td>강서구</td>\n      <td>일반용</td>\n      <td>10,795</td>\n      <td>44,854,468</td>\n    </tr>\n    <tr>\n      <th>565</th>\n      <td>202111</td>\n      <td>부산광역시</td>\n      <td>강서구</td>\n      <td>일반용</td>\n      <td>10,799</td>\n      <td>47,116,075</td>\n    </tr>\n    <tr>\n      <th>...</th>\n      <td>...</td>\n      <td>...</td>\n      <td>...</td>\n      <td>...</td>\n      <td>...</td>\n      <td>...</td>\n    </tr>\n    <tr>\n      <th>301</th>\n      <td>202108</td>\n      <td>부산광역시</td>\n      <td>해운대구</td>\n      <td>일반용</td>\n      <td>14,961</td>\n      <td>92,266,525</td>\n    </tr>\n    <tr>\n      <th>429</th>\n      <td>202109</td>\n      <td>부산광역시</td>\n      <td>해운대구</td>\n      <td>일반용</td>\n      <td>14,992</td>\n      <td>79,329,372</td>\n    </tr>\n    <tr>\n      <th>557</th>\n      <td>202110</td>\n      <td>부산광역시</td>\n      <td>해운대구</td>\n      <td>일반용</td>\n      <td>15,015</td>\n      <td>71,988,592</td>\n    </tr>\n    <tr>\n      <th>685</th>\n      <td>202111</td>\n      <td>부산광역시</td>\n      <td>해운대구</td>\n      <td>일반용</td>\n      <td>15,046</td>\n      <td>65,554,001</td>\n    </tr>\n    <tr>\n      <th>813</th>\n      <td>202112</td>\n      <td>부산광역시</td>\n      <td>해운대구</td>\n      <td>일반용</td>\n      <td>15,094</td>\n      <td>73,175,382</td>\n    </tr>\n  </tbody>\n</table>\n<p>96 rows × 6 columns</p>\n</div>"
     },
     "execution_count": 19,
     "metadata": {},
     "output_type": "execute_result"
    }
   ],
   "source": [
    "df_3"
   ],
   "metadata": {
    "collapsed": false,
    "pycharm": {
     "name": "#%%\n"
    }
   }
  },
  {
   "cell_type": "code",
   "execution_count": 20,
   "outputs": [],
   "source": [
    "# GyeonGiHap = pd.DataFrame([] , columns = a)\n",
    "# GyeonGiHap['사용량']= df_3['사용량(kWh)'].loc[(df_3['시군구'] == '{가평군}')]\n",
    "# GyeonGiHap"
   ],
   "metadata": {
    "collapsed": false,
    "pycharm": {
     "name": "#%%\n"
    }
   }
  },
  {
   "cell_type": "code",
   "execution_count": 21,
   "outputs": [
    {
     "name": "stdout",
     "output_type": "stream",
     "text": [
      "[49815761, 54417985, 50462302, 44854468, 47116075, 49941856]\n",
      "[33821379, 38889257, 33995270, 29826580, 28763934, 31743308]\n",
      "[31710033, 35797134, 31544080, 28832149, 27163972, 33438136]\n",
      "[37519125, 42529030, 36907969, 33341247, 31285472, 33168301]\n",
      "[26321305, 29543514, 25659994, 22462941, 21008071, 23788924]\n",
      "[37650614, 43112567, 37547123, 33134264, 30912872, 33982382]\n",
      "[73459842, 77811630, 72103361, 63540462, 59317990, 64745208]\n",
      "[29847538, 34001016, 29768507, 26214872, 25007965, 27220532]\n",
      "[37621065, 42287730, 36827099, 32264862, 31113143, 34778833]\n",
      "[37559842, 43267973, 38297738, 34292390, 31970848, 34175867]\n",
      "[21980967, 24716820, 21699446, 19239138, 17726678, 19358671]\n",
      "[28245161, 33518652, 29119995, 25697935, 23512839, 25038792]\n",
      "[35676091, 40084706, 35008793, 30415661, 28584140, 31937019]\n",
      "[13990892, 16234827, 14341843, 12746719, 11986350, 12859731]\n",
      "[25781034, 29645565, 25551529, 22339640, 20063295, 21851445]\n",
      "[85377276, 92266525, 79329372, 71988592, 65554001, 73175382]\n",
      "부산광역시 지역별 일반용 합계 :  [296608447, 197039728, 188485504, 214751144, 148784749, 216339822, 410978493, 172060430, 214892732, 219564658, 124721720, 165133374, 201706410, 82160362, 145232508, 467691148]\n",
      "부산광역시 고객호수 평균:  [10752, 15571, 9309, 12332, 7416, 15867, 23137, 10914, 13228, 14629, 6534, 11385, 11606, 6242, 8200, 15003]\n"
     ]
    }
   ],
   "source": [
    "sum2 , sum3 =[] , []\n",
    "for k in SIGUNGU:\n",
    "    GyeonGiHap = pd.DataFrame([] , columns = a)\n",
    "    HOSU = pd.DataFrame([], columns = a)\n",
    "    GyeonGiHap['사용량']= df_3['사용량(kWh)'].loc[(df_3['시군구'] == '{}'.format(k))]\n",
    "    HOSU['고객호수']= df_3['고객호수(호)'].loc[(df_3['시군구'] == '{}'.format(k))]\n",
    "    #경기합 데이터프레임의 사용량 열에 기군구가 가평군인 사용량 데이터만 뽑아내기\n",
    "    # GyeonGiHap = GyeonGiHap['사용량']\n",
    "\n",
    "    b = GyeonGiHap['사용량'].tolist()\n",
    "    c = HOSU['고객호수'].tolist()\n",
    "\n",
    "\n",
    "    #각지역별 사용량 리스트화\n",
    "    int_list  , int_list2=[] , []\n",
    "    for i in b:\n",
    "        i = re.sub(\",\" , \"\" , i)\n",
    "        #콤마 없애기\n",
    "        int_list.append(int(i))\n",
    "        #int_list에 각지역별 사용량 int로 저장\n",
    "    print(int_list)\n",
    "    sum=0\n",
    "    for i in c:\n",
    "        i = re.sub(\",\" , \"\" , i)\n",
    "        int_list2.append(int(i))\n",
    "\n",
    "    for j in int_list:\n",
    "\n",
    "        sum+= j\n",
    "    sum2.append(sum)\n",
    "    sum = 0\n",
    "    for j in int_list2: #고객호수 추출하여 더하기\n",
    "\n",
    "        sum+= j\n",
    "    sum3.append(sum//6) #6개월 치로 나눠야하나?!\n",
    "\n",
    "\n",
    "\n",
    "\n",
    "print(\"{} 지역별 일반용 합계 : \".format(City) , sum2)\n",
    "print(\"{} 고객호수 평균: \".format(City) , sum3)\n",
    "# GyeonGiHap['합계'] = sum\n",
    "#\n",
    "# GyeonGiHap"
   ],
   "metadata": {
    "collapsed": false,
    "pycharm": {
     "name": "#%%\n"
    }
   }
  },
  {
   "cell_type": "code",
   "execution_count": 22,
   "outputs": [],
   "source": [
    "# df_3 = df_3.loc[(df_3['시군구'] == '가평군')]\n",
    "#\n",
    "# df_3"
   ],
   "metadata": {
    "collapsed": false,
    "pycharm": {
     "name": "#%%\n"
    }
   }
  },
  {
   "cell_type": "code",
   "execution_count": 23,
   "outputs": [],
   "source": [
    "# GyeonGiHap = df_3.copy()\n",
    "# GyeonGiHap.reset_index(drop=True , inplace = True)\n",
    "# GyeonGiHap.append({'년월' : '202107-202112'  , '시구' : '경기도' , '시군구' : '가평군' , '계약구분' : '일반용' , '사용량(kWh)' : sum}, ignore_index=True)"
   ],
   "metadata": {
    "collapsed": false,
    "pycharm": {
     "name": "#%%\n"
    }
   }
  },
  {
   "cell_type": "code",
   "execution_count": 24,
   "outputs": [],
   "source": [
    "# a=[]\n",
    "# for i in SIGUNGU:\n",
    "#     a.append(i)\n",
    "#\n",
    "# print(a)"
   ],
   "metadata": {
    "collapsed": false,
    "pycharm": {
     "name": "#%%\n"
    }
   }
  },
  {
   "cell_type": "markdown",
   "source": [
    "### 4. 년월 체크!!!!!!!!!!!!!!!!!!!!!!!!!!!!!!!!!!!!!!!!!!!!!!!!!!!!!!!!!!!!!!!!!"
   ],
   "metadata": {
    "collapsed": false,
    "pycharm": {
     "name": "#%% md\n"
    }
   }
  },
  {
   "cell_type": "code",
   "execution_count": 25,
   "outputs": [
    {
     "name": "stderr",
     "output_type": "stream",
     "text": [
      "C:\\Users\\user\\AppData\\Local\\Temp\\ipykernel_23192\\2943201010.py:4: FutureWarning: The frame.append method is deprecated and will be removed from pandas in a future version. Use pandas.concat instead.\n",
      "  GyeonGiHap2 = GyeonGiHap2.append({'년월' :'202107-202112'  , '시구' : '{}'.format(City) , '시군구' : '{}'.format(SIGUNGU[i]) , '계약구분' : '일반용' , '고객호수(호)' : sum3[i] ,  '사용량(kWh)' : sum2[i]} , ignore_index=True) #년월 파일마다 수정하기\n",
      "C:\\Users\\user\\AppData\\Local\\Temp\\ipykernel_23192\\2943201010.py:4: FutureWarning: The frame.append method is deprecated and will be removed from pandas in a future version. Use pandas.concat instead.\n",
      "  GyeonGiHap2 = GyeonGiHap2.append({'년월' :'202107-202112'  , '시구' : '{}'.format(City) , '시군구' : '{}'.format(SIGUNGU[i]) , '계약구분' : '일반용' , '고객호수(호)' : sum3[i] ,  '사용량(kWh)' : sum2[i]} , ignore_index=True) #년월 파일마다 수정하기\n",
      "C:\\Users\\user\\AppData\\Local\\Temp\\ipykernel_23192\\2943201010.py:4: FutureWarning: The frame.append method is deprecated and will be removed from pandas in a future version. Use pandas.concat instead.\n",
      "  GyeonGiHap2 = GyeonGiHap2.append({'년월' :'202107-202112'  , '시구' : '{}'.format(City) , '시군구' : '{}'.format(SIGUNGU[i]) , '계약구분' : '일반용' , '고객호수(호)' : sum3[i] ,  '사용량(kWh)' : sum2[i]} , ignore_index=True) #년월 파일마다 수정하기\n",
      "C:\\Users\\user\\AppData\\Local\\Temp\\ipykernel_23192\\2943201010.py:4: FutureWarning: The frame.append method is deprecated and will be removed from pandas in a future version. Use pandas.concat instead.\n",
      "  GyeonGiHap2 = GyeonGiHap2.append({'년월' :'202107-202112'  , '시구' : '{}'.format(City) , '시군구' : '{}'.format(SIGUNGU[i]) , '계약구분' : '일반용' , '고객호수(호)' : sum3[i] ,  '사용량(kWh)' : sum2[i]} , ignore_index=True) #년월 파일마다 수정하기\n",
      "C:\\Users\\user\\AppData\\Local\\Temp\\ipykernel_23192\\2943201010.py:4: FutureWarning: The frame.append method is deprecated and will be removed from pandas in a future version. Use pandas.concat instead.\n",
      "  GyeonGiHap2 = GyeonGiHap2.append({'년월' :'202107-202112'  , '시구' : '{}'.format(City) , '시군구' : '{}'.format(SIGUNGU[i]) , '계약구분' : '일반용' , '고객호수(호)' : sum3[i] ,  '사용량(kWh)' : sum2[i]} , ignore_index=True) #년월 파일마다 수정하기\n",
      "C:\\Users\\user\\AppData\\Local\\Temp\\ipykernel_23192\\2943201010.py:4: FutureWarning: The frame.append method is deprecated and will be removed from pandas in a future version. Use pandas.concat instead.\n",
      "  GyeonGiHap2 = GyeonGiHap2.append({'년월' :'202107-202112'  , '시구' : '{}'.format(City) , '시군구' : '{}'.format(SIGUNGU[i]) , '계약구분' : '일반용' , '고객호수(호)' : sum3[i] ,  '사용량(kWh)' : sum2[i]} , ignore_index=True) #년월 파일마다 수정하기\n",
      "C:\\Users\\user\\AppData\\Local\\Temp\\ipykernel_23192\\2943201010.py:4: FutureWarning: The frame.append method is deprecated and will be removed from pandas in a future version. Use pandas.concat instead.\n",
      "  GyeonGiHap2 = GyeonGiHap2.append({'년월' :'202107-202112'  , '시구' : '{}'.format(City) , '시군구' : '{}'.format(SIGUNGU[i]) , '계약구분' : '일반용' , '고객호수(호)' : sum3[i] ,  '사용량(kWh)' : sum2[i]} , ignore_index=True) #년월 파일마다 수정하기\n",
      "C:\\Users\\user\\AppData\\Local\\Temp\\ipykernel_23192\\2943201010.py:4: FutureWarning: The frame.append method is deprecated and will be removed from pandas in a future version. Use pandas.concat instead.\n",
      "  GyeonGiHap2 = GyeonGiHap2.append({'년월' :'202107-202112'  , '시구' : '{}'.format(City) , '시군구' : '{}'.format(SIGUNGU[i]) , '계약구분' : '일반용' , '고객호수(호)' : sum3[i] ,  '사용량(kWh)' : sum2[i]} , ignore_index=True) #년월 파일마다 수정하기\n",
      "C:\\Users\\user\\AppData\\Local\\Temp\\ipykernel_23192\\2943201010.py:4: FutureWarning: The frame.append method is deprecated and will be removed from pandas in a future version. Use pandas.concat instead.\n",
      "  GyeonGiHap2 = GyeonGiHap2.append({'년월' :'202107-202112'  , '시구' : '{}'.format(City) , '시군구' : '{}'.format(SIGUNGU[i]) , '계약구분' : '일반용' , '고객호수(호)' : sum3[i] ,  '사용량(kWh)' : sum2[i]} , ignore_index=True) #년월 파일마다 수정하기\n",
      "C:\\Users\\user\\AppData\\Local\\Temp\\ipykernel_23192\\2943201010.py:4: FutureWarning: The frame.append method is deprecated and will be removed from pandas in a future version. Use pandas.concat instead.\n",
      "  GyeonGiHap2 = GyeonGiHap2.append({'년월' :'202107-202112'  , '시구' : '{}'.format(City) , '시군구' : '{}'.format(SIGUNGU[i]) , '계약구분' : '일반용' , '고객호수(호)' : sum3[i] ,  '사용량(kWh)' : sum2[i]} , ignore_index=True) #년월 파일마다 수정하기\n",
      "C:\\Users\\user\\AppData\\Local\\Temp\\ipykernel_23192\\2943201010.py:4: FutureWarning: The frame.append method is deprecated and will be removed from pandas in a future version. Use pandas.concat instead.\n",
      "  GyeonGiHap2 = GyeonGiHap2.append({'년월' :'202107-202112'  , '시구' : '{}'.format(City) , '시군구' : '{}'.format(SIGUNGU[i]) , '계약구분' : '일반용' , '고객호수(호)' : sum3[i] ,  '사용량(kWh)' : sum2[i]} , ignore_index=True) #년월 파일마다 수정하기\n",
      "C:\\Users\\user\\AppData\\Local\\Temp\\ipykernel_23192\\2943201010.py:4: FutureWarning: The frame.append method is deprecated and will be removed from pandas in a future version. Use pandas.concat instead.\n",
      "  GyeonGiHap2 = GyeonGiHap2.append({'년월' :'202107-202112'  , '시구' : '{}'.format(City) , '시군구' : '{}'.format(SIGUNGU[i]) , '계약구분' : '일반용' , '고객호수(호)' : sum3[i] ,  '사용량(kWh)' : sum2[i]} , ignore_index=True) #년월 파일마다 수정하기\n",
      "C:\\Users\\user\\AppData\\Local\\Temp\\ipykernel_23192\\2943201010.py:4: FutureWarning: The frame.append method is deprecated and will be removed from pandas in a future version. Use pandas.concat instead.\n",
      "  GyeonGiHap2 = GyeonGiHap2.append({'년월' :'202107-202112'  , '시구' : '{}'.format(City) , '시군구' : '{}'.format(SIGUNGU[i]) , '계약구분' : '일반용' , '고객호수(호)' : sum3[i] ,  '사용량(kWh)' : sum2[i]} , ignore_index=True) #년월 파일마다 수정하기\n",
      "C:\\Users\\user\\AppData\\Local\\Temp\\ipykernel_23192\\2943201010.py:4: FutureWarning: The frame.append method is deprecated and will be removed from pandas in a future version. Use pandas.concat instead.\n",
      "  GyeonGiHap2 = GyeonGiHap2.append({'년월' :'202107-202112'  , '시구' : '{}'.format(City) , '시군구' : '{}'.format(SIGUNGU[i]) , '계약구분' : '일반용' , '고객호수(호)' : sum3[i] ,  '사용량(kWh)' : sum2[i]} , ignore_index=True) #년월 파일마다 수정하기\n",
      "C:\\Users\\user\\AppData\\Local\\Temp\\ipykernel_23192\\2943201010.py:4: FutureWarning: The frame.append method is deprecated and will be removed from pandas in a future version. Use pandas.concat instead.\n",
      "  GyeonGiHap2 = GyeonGiHap2.append({'년월' :'202107-202112'  , '시구' : '{}'.format(City) , '시군구' : '{}'.format(SIGUNGU[i]) , '계약구분' : '일반용' , '고객호수(호)' : sum3[i] ,  '사용량(kWh)' : sum2[i]} , ignore_index=True) #년월 파일마다 수정하기\n",
      "C:\\Users\\user\\AppData\\Local\\Temp\\ipykernel_23192\\2943201010.py:4: FutureWarning: The frame.append method is deprecated and will be removed from pandas in a future version. Use pandas.concat instead.\n",
      "  GyeonGiHap2 = GyeonGiHap2.append({'년월' :'202107-202112'  , '시구' : '{}'.format(City) , '시군구' : '{}'.format(SIGUNGU[i]) , '계약구분' : '일반용' , '고객호수(호)' : sum3[i] ,  '사용량(kWh)' : sum2[i]} , ignore_index=True) #년월 파일마다 수정하기\n"
     ]
    },
    {
     "data": {
      "text/plain": "                년월     시구   시군구 계약구분  고객호수(호)     사용량(kWh)\n0           202107  부산광역시   강서구  일반용  10,654   49,815,761 \n1           202108  부산광역시   강서구  일반용  10,692   54,417,985 \n2           202109  부산광역시   강서구  일반용  10,732   50,462,302 \n3           202110  부산광역시   강서구  일반용  10,795   44,854,468 \n4           202111  부산광역시   강서구  일반용  10,799   47,116,075 \n..             ...    ...   ...  ...      ...          ...\n107  202107-202112  부산광역시   수영구  일반용    11385    165133374\n108  202107-202112  부산광역시   연제구  일반용    11606    201706410\n109  202107-202112  부산광역시   영도구  일반용     6242     82160362\n110  202107-202112  부산광역시    중구  일반용     8200    145232508\n111  202107-202112  부산광역시  해운대구  일반용    15003    467691148\n\n[112 rows x 6 columns]",
      "text/html": "<div>\n<style scoped>\n    .dataframe tbody tr th:only-of-type {\n        vertical-align: middle;\n    }\n\n    .dataframe tbody tr th {\n        vertical-align: top;\n    }\n\n    .dataframe thead th {\n        text-align: right;\n    }\n</style>\n<table border=\"1\" class=\"dataframe\">\n  <thead>\n    <tr style=\"text-align: right;\">\n      <th></th>\n      <th>년월</th>\n      <th>시구</th>\n      <th>시군구</th>\n      <th>계약구분</th>\n      <th>고객호수(호)</th>\n      <th>사용량(kWh)</th>\n    </tr>\n  </thead>\n  <tbody>\n    <tr>\n      <th>0</th>\n      <td>202107</td>\n      <td>부산광역시</td>\n      <td>강서구</td>\n      <td>일반용</td>\n      <td>10,654</td>\n      <td>49,815,761</td>\n    </tr>\n    <tr>\n      <th>1</th>\n      <td>202108</td>\n      <td>부산광역시</td>\n      <td>강서구</td>\n      <td>일반용</td>\n      <td>10,692</td>\n      <td>54,417,985</td>\n    </tr>\n    <tr>\n      <th>2</th>\n      <td>202109</td>\n      <td>부산광역시</td>\n      <td>강서구</td>\n      <td>일반용</td>\n      <td>10,732</td>\n      <td>50,462,302</td>\n    </tr>\n    <tr>\n      <th>3</th>\n      <td>202110</td>\n      <td>부산광역시</td>\n      <td>강서구</td>\n      <td>일반용</td>\n      <td>10,795</td>\n      <td>44,854,468</td>\n    </tr>\n    <tr>\n      <th>4</th>\n      <td>202111</td>\n      <td>부산광역시</td>\n      <td>강서구</td>\n      <td>일반용</td>\n      <td>10,799</td>\n      <td>47,116,075</td>\n    </tr>\n    <tr>\n      <th>...</th>\n      <td>...</td>\n      <td>...</td>\n      <td>...</td>\n      <td>...</td>\n      <td>...</td>\n      <td>...</td>\n    </tr>\n    <tr>\n      <th>107</th>\n      <td>202107-202112</td>\n      <td>부산광역시</td>\n      <td>수영구</td>\n      <td>일반용</td>\n      <td>11385</td>\n      <td>165133374</td>\n    </tr>\n    <tr>\n      <th>108</th>\n      <td>202107-202112</td>\n      <td>부산광역시</td>\n      <td>연제구</td>\n      <td>일반용</td>\n      <td>11606</td>\n      <td>201706410</td>\n    </tr>\n    <tr>\n      <th>109</th>\n      <td>202107-202112</td>\n      <td>부산광역시</td>\n      <td>영도구</td>\n      <td>일반용</td>\n      <td>6242</td>\n      <td>82160362</td>\n    </tr>\n    <tr>\n      <th>110</th>\n      <td>202107-202112</td>\n      <td>부산광역시</td>\n      <td>중구</td>\n      <td>일반용</td>\n      <td>8200</td>\n      <td>145232508</td>\n    </tr>\n    <tr>\n      <th>111</th>\n      <td>202107-202112</td>\n      <td>부산광역시</td>\n      <td>해운대구</td>\n      <td>일반용</td>\n      <td>15003</td>\n      <td>467691148</td>\n    </tr>\n  </tbody>\n</table>\n<p>112 rows × 6 columns</p>\n</div>"
     },
     "execution_count": 25,
     "metadata": {},
     "output_type": "execute_result"
    }
   ],
   "source": [
    "GyeonGiHap2 = df_3.copy()\n",
    "GyeonGiHap2.reset_index(drop=True , inplace = True)\n",
    "for i in range(len(SIGUNGU)):\n",
    "    GyeonGiHap2 = GyeonGiHap2.append({'년월' :'202107-202112'  , '시구' : '{}'.format(City) , '시군구' : '{}'.format(SIGUNGU[i]) , '계약구분' : '일반용' , '고객호수(호)' : sum3[i] ,  '사용량(kWh)' : sum2[i]} , ignore_index=True) #년월 파일마다 수정하기\n",
    "GyeonGiHap2"
   ],
   "metadata": {
    "collapsed": false,
    "pycharm": {
     "name": "#%%\n"
    }
   }
  },
  {
   "cell_type": "markdown",
   "source": [
    "### 5. 날짜 체크!!!!!!!!!!!!!!!!!!!!!!!!!!!!!!!!!!!!!!!!!!!!!!!!!!!!"
   ],
   "metadata": {
    "collapsed": false,
    "pycharm": {
     "name": "#%% md\n"
    }
   }
  },
  {
   "cell_type": "code",
   "execution_count": 26,
   "outputs": [
    {
     "data": {
      "text/plain": "                년월     시구   시군구 계약구분 고객호수(호)   사용량(kWh)\n96   202107-202112  부산광역시   강서구  일반용   10752  296608447\n97   202107-202112  부산광역시   금정구  일반용   15571  197039728\n98   202107-202112  부산광역시   기장군  일반용    9309  188485504\n99   202107-202112  부산광역시    남구  일반용   12332  214751144\n100  202107-202112  부산광역시    동구  일반용    7416  148784749\n101  202107-202112  부산광역시   동래구  일반용   15867  216339822\n102  202107-202112  부산광역시  부산진구  일반용   23137  410978493\n103  202107-202112  부산광역시    북구  일반용   10914  172060430\n104  202107-202112  부산광역시   사상구  일반용   13228  214892732\n105  202107-202112  부산광역시   사하구  일반용   14629  219564658\n106  202107-202112  부산광역시    서구  일반용    6534  124721720\n107  202107-202112  부산광역시   수영구  일반용   11385  165133374\n108  202107-202112  부산광역시   연제구  일반용   11606  201706410\n109  202107-202112  부산광역시   영도구  일반용    6242   82160362\n110  202107-202112  부산광역시    중구  일반용    8200  145232508\n111  202107-202112  부산광역시  해운대구  일반용   15003  467691148",
      "text/html": "<div>\n<style scoped>\n    .dataframe tbody tr th:only-of-type {\n        vertical-align: middle;\n    }\n\n    .dataframe tbody tr th {\n        vertical-align: top;\n    }\n\n    .dataframe thead th {\n        text-align: right;\n    }\n</style>\n<table border=\"1\" class=\"dataframe\">\n  <thead>\n    <tr style=\"text-align: right;\">\n      <th></th>\n      <th>년월</th>\n      <th>시구</th>\n      <th>시군구</th>\n      <th>계약구분</th>\n      <th>고객호수(호)</th>\n      <th>사용량(kWh)</th>\n    </tr>\n  </thead>\n  <tbody>\n    <tr>\n      <th>96</th>\n      <td>202107-202112</td>\n      <td>부산광역시</td>\n      <td>강서구</td>\n      <td>일반용</td>\n      <td>10752</td>\n      <td>296608447</td>\n    </tr>\n    <tr>\n      <th>97</th>\n      <td>202107-202112</td>\n      <td>부산광역시</td>\n      <td>금정구</td>\n      <td>일반용</td>\n      <td>15571</td>\n      <td>197039728</td>\n    </tr>\n    <tr>\n      <th>98</th>\n      <td>202107-202112</td>\n      <td>부산광역시</td>\n      <td>기장군</td>\n      <td>일반용</td>\n      <td>9309</td>\n      <td>188485504</td>\n    </tr>\n    <tr>\n      <th>99</th>\n      <td>202107-202112</td>\n      <td>부산광역시</td>\n      <td>남구</td>\n      <td>일반용</td>\n      <td>12332</td>\n      <td>214751144</td>\n    </tr>\n    <tr>\n      <th>100</th>\n      <td>202107-202112</td>\n      <td>부산광역시</td>\n      <td>동구</td>\n      <td>일반용</td>\n      <td>7416</td>\n      <td>148784749</td>\n    </tr>\n    <tr>\n      <th>101</th>\n      <td>202107-202112</td>\n      <td>부산광역시</td>\n      <td>동래구</td>\n      <td>일반용</td>\n      <td>15867</td>\n      <td>216339822</td>\n    </tr>\n    <tr>\n      <th>102</th>\n      <td>202107-202112</td>\n      <td>부산광역시</td>\n      <td>부산진구</td>\n      <td>일반용</td>\n      <td>23137</td>\n      <td>410978493</td>\n    </tr>\n    <tr>\n      <th>103</th>\n      <td>202107-202112</td>\n      <td>부산광역시</td>\n      <td>북구</td>\n      <td>일반용</td>\n      <td>10914</td>\n      <td>172060430</td>\n    </tr>\n    <tr>\n      <th>104</th>\n      <td>202107-202112</td>\n      <td>부산광역시</td>\n      <td>사상구</td>\n      <td>일반용</td>\n      <td>13228</td>\n      <td>214892732</td>\n    </tr>\n    <tr>\n      <th>105</th>\n      <td>202107-202112</td>\n      <td>부산광역시</td>\n      <td>사하구</td>\n      <td>일반용</td>\n      <td>14629</td>\n      <td>219564658</td>\n    </tr>\n    <tr>\n      <th>106</th>\n      <td>202107-202112</td>\n      <td>부산광역시</td>\n      <td>서구</td>\n      <td>일반용</td>\n      <td>6534</td>\n      <td>124721720</td>\n    </tr>\n    <tr>\n      <th>107</th>\n      <td>202107-202112</td>\n      <td>부산광역시</td>\n      <td>수영구</td>\n      <td>일반용</td>\n      <td>11385</td>\n      <td>165133374</td>\n    </tr>\n    <tr>\n      <th>108</th>\n      <td>202107-202112</td>\n      <td>부산광역시</td>\n      <td>연제구</td>\n      <td>일반용</td>\n      <td>11606</td>\n      <td>201706410</td>\n    </tr>\n    <tr>\n      <th>109</th>\n      <td>202107-202112</td>\n      <td>부산광역시</td>\n      <td>영도구</td>\n      <td>일반용</td>\n      <td>6242</td>\n      <td>82160362</td>\n    </tr>\n    <tr>\n      <th>110</th>\n      <td>202107-202112</td>\n      <td>부산광역시</td>\n      <td>중구</td>\n      <td>일반용</td>\n      <td>8200</td>\n      <td>145232508</td>\n    </tr>\n    <tr>\n      <th>111</th>\n      <td>202107-202112</td>\n      <td>부산광역시</td>\n      <td>해운대구</td>\n      <td>일반용</td>\n      <td>15003</td>\n      <td>467691148</td>\n    </tr>\n  </tbody>\n</table>\n</div>"
     },
     "execution_count": 26,
     "metadata": {},
     "output_type": "execute_result"
    }
   ],
   "source": [
    "GyeonGiHap2 = GyeonGiHap2.loc[GyeonGiHap2['년월'] == '202107-202112']\n",
    "GyeonGiHap2"
   ],
   "metadata": {
    "collapsed": false,
    "pycharm": {
     "name": "#%%\n"
    }
   }
  },
  {
   "cell_type": "code",
   "execution_count": 27,
   "outputs": [
    {
     "data": {
      "text/plain": "                년월     시구   시군구 계약구분 고객호수(호)    사용량(kWh)\n96   202107-202112  부산광역시   강서구  일반용   10752   296608447\n96   202107-202112  부산광역시   강서구   합계    9472  2207628905\n97   202107-202112  부산광역시   금정구   합계   18700   556582631\n97   202107-202112  부산광역시   금정구  일반용   15571   197039728\n98   202107-202112  부산광역시   기장군   합계    9680   652497700\n98   202107-202112  부산광역시   기장군  일반용    9309   188485504\n99   202107-202112  부산광역시    남구  일반용   12332   214751144\n99   202107-202112  부산광역시    남구   합계   16464   758529136\n100  202107-202112  부산광역시    동구  일반용    7416   148784749\n100  202107-202112  부산광역시    동구   합계    8851   271042804\n101  202107-202112  부산광역시   동래구  일반용   15867   216339822\n101  202107-202112  부산광역시   동래구   합계   15648   496822445\n102  202107-202112  부산광역시  부산진구  일반용   23137   410978493\n102  202107-202112  부산광역시  부산진구   합계   22831   880830172\n103  202107-202112  부산광역시    북구  일반용   10914   172060430\n103  202107-202112  부산광역시    북구   합계   12957   463959185\n104  202107-202112  부산광역시   사상구   합계   14003   801974189\n104  202107-202112  부산광역시   사상구  일반용   13228   214892732\n105  202107-202112  부산광역시   사하구   합계   19461  1298078843\n105  202107-202112  부산광역시   사하구  일반용   14629   219564658\n106  202107-202112  부산광역시    서구  일반용    6534   124721720\n106  202107-202112  부산광역시    서구   합계   10153   327526105\n107  202107-202112  부산광역시   수영구   합계   12853   333166539\n107  202107-202112  부산광역시   수영구  일반용   11385   165133374\n108  202107-202112  부산광역시   연제구   합계   12084   419392862\n108  202107-202112  부산광역시   연제구  일반용   11606   201706410\n109  202107-202112  부산광역시   영도구   합계    9617   241543157\n109  202107-202112  부산광역시   영도구  일반용    6242    82160362\n110  202107-202112  부산광역시    중구   합계    6423   187164063\n110  202107-202112  부산광역시    중구  일반용    8200   145232508\n111  202107-202112  부산광역시  해운대구  일반용   15003   467691148\n111  202107-202112  부산광역시  해운대구   합계   15809   986472186",
      "text/html": "<div>\n<style scoped>\n    .dataframe tbody tr th:only-of-type {\n        vertical-align: middle;\n    }\n\n    .dataframe tbody tr th {\n        vertical-align: top;\n    }\n\n    .dataframe thead th {\n        text-align: right;\n    }\n</style>\n<table border=\"1\" class=\"dataframe\">\n  <thead>\n    <tr style=\"text-align: right;\">\n      <th></th>\n      <th>년월</th>\n      <th>시구</th>\n      <th>시군구</th>\n      <th>계약구분</th>\n      <th>고객호수(호)</th>\n      <th>사용량(kWh)</th>\n    </tr>\n  </thead>\n  <tbody>\n    <tr>\n      <th>96</th>\n      <td>202107-202112</td>\n      <td>부산광역시</td>\n      <td>강서구</td>\n      <td>일반용</td>\n      <td>10752</td>\n      <td>296608447</td>\n    </tr>\n    <tr>\n      <th>96</th>\n      <td>202107-202112</td>\n      <td>부산광역시</td>\n      <td>강서구</td>\n      <td>합계</td>\n      <td>9472</td>\n      <td>2207628905</td>\n    </tr>\n    <tr>\n      <th>97</th>\n      <td>202107-202112</td>\n      <td>부산광역시</td>\n      <td>금정구</td>\n      <td>합계</td>\n      <td>18700</td>\n      <td>556582631</td>\n    </tr>\n    <tr>\n      <th>97</th>\n      <td>202107-202112</td>\n      <td>부산광역시</td>\n      <td>금정구</td>\n      <td>일반용</td>\n      <td>15571</td>\n      <td>197039728</td>\n    </tr>\n    <tr>\n      <th>98</th>\n      <td>202107-202112</td>\n      <td>부산광역시</td>\n      <td>기장군</td>\n      <td>합계</td>\n      <td>9680</td>\n      <td>652497700</td>\n    </tr>\n    <tr>\n      <th>98</th>\n      <td>202107-202112</td>\n      <td>부산광역시</td>\n      <td>기장군</td>\n      <td>일반용</td>\n      <td>9309</td>\n      <td>188485504</td>\n    </tr>\n    <tr>\n      <th>99</th>\n      <td>202107-202112</td>\n      <td>부산광역시</td>\n      <td>남구</td>\n      <td>일반용</td>\n      <td>12332</td>\n      <td>214751144</td>\n    </tr>\n    <tr>\n      <th>99</th>\n      <td>202107-202112</td>\n      <td>부산광역시</td>\n      <td>남구</td>\n      <td>합계</td>\n      <td>16464</td>\n      <td>758529136</td>\n    </tr>\n    <tr>\n      <th>100</th>\n      <td>202107-202112</td>\n      <td>부산광역시</td>\n      <td>동구</td>\n      <td>일반용</td>\n      <td>7416</td>\n      <td>148784749</td>\n    </tr>\n    <tr>\n      <th>100</th>\n      <td>202107-202112</td>\n      <td>부산광역시</td>\n      <td>동구</td>\n      <td>합계</td>\n      <td>8851</td>\n      <td>271042804</td>\n    </tr>\n    <tr>\n      <th>101</th>\n      <td>202107-202112</td>\n      <td>부산광역시</td>\n      <td>동래구</td>\n      <td>일반용</td>\n      <td>15867</td>\n      <td>216339822</td>\n    </tr>\n    <tr>\n      <th>101</th>\n      <td>202107-202112</td>\n      <td>부산광역시</td>\n      <td>동래구</td>\n      <td>합계</td>\n      <td>15648</td>\n      <td>496822445</td>\n    </tr>\n    <tr>\n      <th>102</th>\n      <td>202107-202112</td>\n      <td>부산광역시</td>\n      <td>부산진구</td>\n      <td>일반용</td>\n      <td>23137</td>\n      <td>410978493</td>\n    </tr>\n    <tr>\n      <th>102</th>\n      <td>202107-202112</td>\n      <td>부산광역시</td>\n      <td>부산진구</td>\n      <td>합계</td>\n      <td>22831</td>\n      <td>880830172</td>\n    </tr>\n    <tr>\n      <th>103</th>\n      <td>202107-202112</td>\n      <td>부산광역시</td>\n      <td>북구</td>\n      <td>일반용</td>\n      <td>10914</td>\n      <td>172060430</td>\n    </tr>\n    <tr>\n      <th>103</th>\n      <td>202107-202112</td>\n      <td>부산광역시</td>\n      <td>북구</td>\n      <td>합계</td>\n      <td>12957</td>\n      <td>463959185</td>\n    </tr>\n    <tr>\n      <th>104</th>\n      <td>202107-202112</td>\n      <td>부산광역시</td>\n      <td>사상구</td>\n      <td>합계</td>\n      <td>14003</td>\n      <td>801974189</td>\n    </tr>\n    <tr>\n      <th>104</th>\n      <td>202107-202112</td>\n      <td>부산광역시</td>\n      <td>사상구</td>\n      <td>일반용</td>\n      <td>13228</td>\n      <td>214892732</td>\n    </tr>\n    <tr>\n      <th>105</th>\n      <td>202107-202112</td>\n      <td>부산광역시</td>\n      <td>사하구</td>\n      <td>합계</td>\n      <td>19461</td>\n      <td>1298078843</td>\n    </tr>\n    <tr>\n      <th>105</th>\n      <td>202107-202112</td>\n      <td>부산광역시</td>\n      <td>사하구</td>\n      <td>일반용</td>\n      <td>14629</td>\n      <td>219564658</td>\n    </tr>\n    <tr>\n      <th>106</th>\n      <td>202107-202112</td>\n      <td>부산광역시</td>\n      <td>서구</td>\n      <td>일반용</td>\n      <td>6534</td>\n      <td>124721720</td>\n    </tr>\n    <tr>\n      <th>106</th>\n      <td>202107-202112</td>\n      <td>부산광역시</td>\n      <td>서구</td>\n      <td>합계</td>\n      <td>10153</td>\n      <td>327526105</td>\n    </tr>\n    <tr>\n      <th>107</th>\n      <td>202107-202112</td>\n      <td>부산광역시</td>\n      <td>수영구</td>\n      <td>합계</td>\n      <td>12853</td>\n      <td>333166539</td>\n    </tr>\n    <tr>\n      <th>107</th>\n      <td>202107-202112</td>\n      <td>부산광역시</td>\n      <td>수영구</td>\n      <td>일반용</td>\n      <td>11385</td>\n      <td>165133374</td>\n    </tr>\n    <tr>\n      <th>108</th>\n      <td>202107-202112</td>\n      <td>부산광역시</td>\n      <td>연제구</td>\n      <td>합계</td>\n      <td>12084</td>\n      <td>419392862</td>\n    </tr>\n    <tr>\n      <th>108</th>\n      <td>202107-202112</td>\n      <td>부산광역시</td>\n      <td>연제구</td>\n      <td>일반용</td>\n      <td>11606</td>\n      <td>201706410</td>\n    </tr>\n    <tr>\n      <th>109</th>\n      <td>202107-202112</td>\n      <td>부산광역시</td>\n      <td>영도구</td>\n      <td>합계</td>\n      <td>9617</td>\n      <td>241543157</td>\n    </tr>\n    <tr>\n      <th>109</th>\n      <td>202107-202112</td>\n      <td>부산광역시</td>\n      <td>영도구</td>\n      <td>일반용</td>\n      <td>6242</td>\n      <td>82160362</td>\n    </tr>\n    <tr>\n      <th>110</th>\n      <td>202107-202112</td>\n      <td>부산광역시</td>\n      <td>중구</td>\n      <td>합계</td>\n      <td>6423</td>\n      <td>187164063</td>\n    </tr>\n    <tr>\n      <th>110</th>\n      <td>202107-202112</td>\n      <td>부산광역시</td>\n      <td>중구</td>\n      <td>일반용</td>\n      <td>8200</td>\n      <td>145232508</td>\n    </tr>\n    <tr>\n      <th>111</th>\n      <td>202107-202112</td>\n      <td>부산광역시</td>\n      <td>해운대구</td>\n      <td>일반용</td>\n      <td>15003</td>\n      <td>467691148</td>\n    </tr>\n    <tr>\n      <th>111</th>\n      <td>202107-202112</td>\n      <td>부산광역시</td>\n      <td>해운대구</td>\n      <td>합계</td>\n      <td>15809</td>\n      <td>986472186</td>\n    </tr>\n  </tbody>\n</table>\n</div>"
     },
     "execution_count": 27,
     "metadata": {},
     "output_type": "execute_result"
    }
   ],
   "source": [
    "Final = pd.concat([GyeonGiHap2 , Hap])\n",
    "Final = Final.sort_values('시군구')\n",
    "Final"
   ],
   "metadata": {
    "collapsed": false,
    "pycharm": {
     "name": "#%%\n"
    }
   }
  },
  {
   "cell_type": "code",
   "execution_count": 28,
   "outputs": [
    {
     "data": {
      "text/plain": "[296608447,\n 197039728,\n 188485504,\n 214751144,\n 148784749,\n 216339822,\n 410978493,\n 172060430,\n 214892732,\n 219564658,\n 124721720,\n 165133374,\n 201706410,\n 82160362,\n 145232508,\n 467691148]"
     },
     "execution_count": 28,
     "metadata": {},
     "output_type": "execute_result"
    }
   ],
   "source": [
    "# Final['일반용 전기의 비율'] = (Final['사용량(kWh)'].loc[Final['계약구분'] == '일반용']) // (Final['사용량(kWh)'].loc[Final['계약구분'] == '합계'])\n",
    "# Final\n",
    "ex = (Final['사용량(kWh)'].loc[Final['계약구분'] == '일반용']).tolist()\n",
    "\n",
    "\n",
    "ex\n"
   ],
   "metadata": {
    "collapsed": false,
    "pycharm": {
     "name": "#%%\n"
    }
   }
  },
  {
   "cell_type": "code",
   "execution_count": 29,
   "outputs": [
    {
     "data": {
      "text/plain": "[2207628905,\n 556582631,\n 652497700,\n 758529136,\n 271042804,\n 496822445,\n 880830172,\n 463959185,\n 801974189,\n 1298078843,\n 327526105,\n 333166539,\n 419392862,\n 241543157,\n 187164063,\n 986472186]"
     },
     "execution_count": 29,
     "metadata": {},
     "output_type": "execute_result"
    }
   ],
   "source": [
    "ex_2 =(Final['사용량(kWh)'].loc[Final['계약구분'] == '합계']).tolist()\n",
    "ex_2"
   ],
   "metadata": {
    "collapsed": false,
    "pycharm": {
     "name": "#%%\n"
    }
   }
  },
  {
   "cell_type": "code",
   "execution_count": 30,
   "outputs": [
    {
     "name": "stdout",
     "output_type": "stream",
     "text": [
      "[13.44, 35.4, 28.89, 28.31, 54.89, 43.54, 46.66, 37.09, 26.8, 16.91, 38.08, 49.56, 48.09, 34.01, 77.6, 47.41]\n"
     ]
    }
   ],
   "source": [
    "Rate = []\n",
    "ilban = []\n",
    "rae = 0\n",
    "for i in range(len(ex)):\n",
    "    rae = round(ex[i] / ex_2[i] *100 ,2)\n",
    "    Rate.append(rae)\n",
    "print(Rate)"
   ],
   "metadata": {
    "collapsed": false,
    "pycharm": {
     "name": "#%%\n"
    }
   }
  },
  {
   "cell_type": "code",
   "execution_count": 31,
   "outputs": [
    {
     "data": {
      "text/plain": "0    13\n1    35\n2    29\n3    28\n4    55\n5    44\n6    47\n7    37\n8    27\n9    17\n10   38\n11   50\n12   48\n13   34\n14   78\n15   47\ndtype: float64"
     },
     "execution_count": 31,
     "metadata": {},
     "output_type": "execute_result"
    }
   ],
   "source": [
    "Rate3 = pd.Series(Rate)\n",
    "Rate3\n",
    "\n",
    "# Final = pd.concat([Final , Rate3])\n",
    "# Final"
   ],
   "metadata": {
    "collapsed": false,
    "pycharm": {
     "name": "#%%\n"
    }
   }
  },
  {
   "cell_type": "code",
   "execution_count": 32,
   "outputs": [
    {
     "data": {
      "text/plain": "     시군구 계약구분  비율\n0    강서구  일반용  13\n1    금정구  일반용  35\n2    기장군  일반용  29\n3     남구  일반용  28\n4     동구  일반용  55\n5    동래구  일반용  44\n6   부산진구  일반용  47\n7     북구  일반용  37\n8    사상구  일반용  27\n9    사하구  일반용  17\n10    서구  일반용  38\n11   수영구  일반용  50\n12   연제구  일반용  48\n13   영도구  일반용  34\n14    중구  일반용  78\n15  해운대구  일반용  47",
      "text/html": "<div>\n<style scoped>\n    .dataframe tbody tr th:only-of-type {\n        vertical-align: middle;\n    }\n\n    .dataframe tbody tr th {\n        vertical-align: top;\n    }\n\n    .dataframe thead th {\n        text-align: right;\n    }\n</style>\n<table border=\"1\" class=\"dataframe\">\n  <thead>\n    <tr style=\"text-align: right;\">\n      <th></th>\n      <th>시군구</th>\n      <th>계약구분</th>\n      <th>비율</th>\n    </tr>\n  </thead>\n  <tbody>\n    <tr>\n      <th>0</th>\n      <td>강서구</td>\n      <td>일반용</td>\n      <td>13</td>\n    </tr>\n    <tr>\n      <th>1</th>\n      <td>금정구</td>\n      <td>일반용</td>\n      <td>35</td>\n    </tr>\n    <tr>\n      <th>2</th>\n      <td>기장군</td>\n      <td>일반용</td>\n      <td>29</td>\n    </tr>\n    <tr>\n      <th>3</th>\n      <td>남구</td>\n      <td>일반용</td>\n      <td>28</td>\n    </tr>\n    <tr>\n      <th>4</th>\n      <td>동구</td>\n      <td>일반용</td>\n      <td>55</td>\n    </tr>\n    <tr>\n      <th>5</th>\n      <td>동래구</td>\n      <td>일반용</td>\n      <td>44</td>\n    </tr>\n    <tr>\n      <th>6</th>\n      <td>부산진구</td>\n      <td>일반용</td>\n      <td>47</td>\n    </tr>\n    <tr>\n      <th>7</th>\n      <td>북구</td>\n      <td>일반용</td>\n      <td>37</td>\n    </tr>\n    <tr>\n      <th>8</th>\n      <td>사상구</td>\n      <td>일반용</td>\n      <td>27</td>\n    </tr>\n    <tr>\n      <th>9</th>\n      <td>사하구</td>\n      <td>일반용</td>\n      <td>17</td>\n    </tr>\n    <tr>\n      <th>10</th>\n      <td>서구</td>\n      <td>일반용</td>\n      <td>38</td>\n    </tr>\n    <tr>\n      <th>11</th>\n      <td>수영구</td>\n      <td>일반용</td>\n      <td>50</td>\n    </tr>\n    <tr>\n      <th>12</th>\n      <td>연제구</td>\n      <td>일반용</td>\n      <td>48</td>\n    </tr>\n    <tr>\n      <th>13</th>\n      <td>영도구</td>\n      <td>일반용</td>\n      <td>34</td>\n    </tr>\n    <tr>\n      <th>14</th>\n      <td>중구</td>\n      <td>일반용</td>\n      <td>78</td>\n    </tr>\n    <tr>\n      <th>15</th>\n      <td>해운대구</td>\n      <td>일반용</td>\n      <td>47</td>\n    </tr>\n  </tbody>\n</table>\n</div>"
     },
     "execution_count": 32,
     "metadata": {},
     "output_type": "execute_result"
    }
   ],
   "source": [
    "for j in range(len(Rate)):\n",
    "    ilban.append('일반용')\n",
    "#print(Rate)\n",
    "\n",
    "Rate2 = pd.DataFrame()\n",
    "Rate2['시군구'] = pd.DataFrame(SIGUNGU)\n",
    "Rate2['계약구분'] = pd.DataFrame(ilban)\n",
    "Rate2['비율'] = pd.DataFrame(Rate)\n",
    "Rate2\n",
    "#print(Rate2.dtypes)"
   ],
   "metadata": {
    "collapsed": false,
    "pycharm": {
     "name": "#%%\n"
    }
   }
  },
  {
   "cell_type": "code",
   "execution_count": 33,
   "outputs": [
    {
     "data": {
      "text/plain": "               년월     시구   시군구 계약구분 고객호수(호)    사용량(kWh)  비율\n0   202107-202112  부산광역시   강서구  일반용   10752   296608447  13\n1   202107-202112  부산광역시   강서구   합계    9472  2207628905 NaN\n3   202107-202112  부산광역시   금정구  일반용   15571   197039728  35\n2   202107-202112  부산광역시   금정구   합계   18700   556582631 NaN\n5   202107-202112  부산광역시   기장군  일반용    9309   188485504  29\n4   202107-202112  부산광역시   기장군   합계    9680   652497700 NaN\n6   202107-202112  부산광역시    남구  일반용   12332   214751144  28\n7   202107-202112  부산광역시    남구   합계   16464   758529136 NaN\n8   202107-202112  부산광역시    동구  일반용    7416   148784749  55\n9   202107-202112  부산광역시    동구   합계    8851   271042804 NaN\n10  202107-202112  부산광역시   동래구  일반용   15867   216339822  44\n11  202107-202112  부산광역시   동래구   합계   15648   496822445 NaN\n12  202107-202112  부산광역시  부산진구  일반용   23137   410978493  47\n13  202107-202112  부산광역시  부산진구   합계   22831   880830172 NaN\n14  202107-202112  부산광역시    북구  일반용   10914   172060430  37\n15  202107-202112  부산광역시    북구   합계   12957   463959185 NaN\n17  202107-202112  부산광역시   사상구  일반용   13228   214892732  27\n16  202107-202112  부산광역시   사상구   합계   14003   801974189 NaN\n19  202107-202112  부산광역시   사하구  일반용   14629   219564658  17\n18  202107-202112  부산광역시   사하구   합계   19461  1298078843 NaN\n20  202107-202112  부산광역시    서구  일반용    6534   124721720  38\n21  202107-202112  부산광역시    서구   합계   10153   327526105 NaN\n23  202107-202112  부산광역시   수영구  일반용   11385   165133374  50\n22  202107-202112  부산광역시   수영구   합계   12853   333166539 NaN\n25  202107-202112  부산광역시   연제구  일반용   11606   201706410  48\n24  202107-202112  부산광역시   연제구   합계   12084   419392862 NaN\n27  202107-202112  부산광역시   영도구  일반용    6242    82160362  34\n26  202107-202112  부산광역시   영도구   합계    9617   241543157 NaN\n29  202107-202112  부산광역시    중구  일반용    8200   145232508  78\n28  202107-202112  부산광역시    중구   합계    6423   187164063 NaN\n30  202107-202112  부산광역시  해운대구  일반용   15003   467691148  47\n31  202107-202112  부산광역시  해운대구   합계   15809   986472186 NaN",
      "text/html": "<div>\n<style scoped>\n    .dataframe tbody tr th:only-of-type {\n        vertical-align: middle;\n    }\n\n    .dataframe tbody tr th {\n        vertical-align: top;\n    }\n\n    .dataframe thead th {\n        text-align: right;\n    }\n</style>\n<table border=\"1\" class=\"dataframe\">\n  <thead>\n    <tr style=\"text-align: right;\">\n      <th></th>\n      <th>년월</th>\n      <th>시구</th>\n      <th>시군구</th>\n      <th>계약구분</th>\n      <th>고객호수(호)</th>\n      <th>사용량(kWh)</th>\n      <th>비율</th>\n    </tr>\n  </thead>\n  <tbody>\n    <tr>\n      <th>0</th>\n      <td>202107-202112</td>\n      <td>부산광역시</td>\n      <td>강서구</td>\n      <td>일반용</td>\n      <td>10752</td>\n      <td>296608447</td>\n      <td>13</td>\n    </tr>\n    <tr>\n      <th>1</th>\n      <td>202107-202112</td>\n      <td>부산광역시</td>\n      <td>강서구</td>\n      <td>합계</td>\n      <td>9472</td>\n      <td>2207628905</td>\n      <td>NaN</td>\n    </tr>\n    <tr>\n      <th>3</th>\n      <td>202107-202112</td>\n      <td>부산광역시</td>\n      <td>금정구</td>\n      <td>일반용</td>\n      <td>15571</td>\n      <td>197039728</td>\n      <td>35</td>\n    </tr>\n    <tr>\n      <th>2</th>\n      <td>202107-202112</td>\n      <td>부산광역시</td>\n      <td>금정구</td>\n      <td>합계</td>\n      <td>18700</td>\n      <td>556582631</td>\n      <td>NaN</td>\n    </tr>\n    <tr>\n      <th>5</th>\n      <td>202107-202112</td>\n      <td>부산광역시</td>\n      <td>기장군</td>\n      <td>일반용</td>\n      <td>9309</td>\n      <td>188485504</td>\n      <td>29</td>\n    </tr>\n    <tr>\n      <th>4</th>\n      <td>202107-202112</td>\n      <td>부산광역시</td>\n      <td>기장군</td>\n      <td>합계</td>\n      <td>9680</td>\n      <td>652497700</td>\n      <td>NaN</td>\n    </tr>\n    <tr>\n      <th>6</th>\n      <td>202107-202112</td>\n      <td>부산광역시</td>\n      <td>남구</td>\n      <td>일반용</td>\n      <td>12332</td>\n      <td>214751144</td>\n      <td>28</td>\n    </tr>\n    <tr>\n      <th>7</th>\n      <td>202107-202112</td>\n      <td>부산광역시</td>\n      <td>남구</td>\n      <td>합계</td>\n      <td>16464</td>\n      <td>758529136</td>\n      <td>NaN</td>\n    </tr>\n    <tr>\n      <th>8</th>\n      <td>202107-202112</td>\n      <td>부산광역시</td>\n      <td>동구</td>\n      <td>일반용</td>\n      <td>7416</td>\n      <td>148784749</td>\n      <td>55</td>\n    </tr>\n    <tr>\n      <th>9</th>\n      <td>202107-202112</td>\n      <td>부산광역시</td>\n      <td>동구</td>\n      <td>합계</td>\n      <td>8851</td>\n      <td>271042804</td>\n      <td>NaN</td>\n    </tr>\n    <tr>\n      <th>10</th>\n      <td>202107-202112</td>\n      <td>부산광역시</td>\n      <td>동래구</td>\n      <td>일반용</td>\n      <td>15867</td>\n      <td>216339822</td>\n      <td>44</td>\n    </tr>\n    <tr>\n      <th>11</th>\n      <td>202107-202112</td>\n      <td>부산광역시</td>\n      <td>동래구</td>\n      <td>합계</td>\n      <td>15648</td>\n      <td>496822445</td>\n      <td>NaN</td>\n    </tr>\n    <tr>\n      <th>12</th>\n      <td>202107-202112</td>\n      <td>부산광역시</td>\n      <td>부산진구</td>\n      <td>일반용</td>\n      <td>23137</td>\n      <td>410978493</td>\n      <td>47</td>\n    </tr>\n    <tr>\n      <th>13</th>\n      <td>202107-202112</td>\n      <td>부산광역시</td>\n      <td>부산진구</td>\n      <td>합계</td>\n      <td>22831</td>\n      <td>880830172</td>\n      <td>NaN</td>\n    </tr>\n    <tr>\n      <th>14</th>\n      <td>202107-202112</td>\n      <td>부산광역시</td>\n      <td>북구</td>\n      <td>일반용</td>\n      <td>10914</td>\n      <td>172060430</td>\n      <td>37</td>\n    </tr>\n    <tr>\n      <th>15</th>\n      <td>202107-202112</td>\n      <td>부산광역시</td>\n      <td>북구</td>\n      <td>합계</td>\n      <td>12957</td>\n      <td>463959185</td>\n      <td>NaN</td>\n    </tr>\n    <tr>\n      <th>17</th>\n      <td>202107-202112</td>\n      <td>부산광역시</td>\n      <td>사상구</td>\n      <td>일반용</td>\n      <td>13228</td>\n      <td>214892732</td>\n      <td>27</td>\n    </tr>\n    <tr>\n      <th>16</th>\n      <td>202107-202112</td>\n      <td>부산광역시</td>\n      <td>사상구</td>\n      <td>합계</td>\n      <td>14003</td>\n      <td>801974189</td>\n      <td>NaN</td>\n    </tr>\n    <tr>\n      <th>19</th>\n      <td>202107-202112</td>\n      <td>부산광역시</td>\n      <td>사하구</td>\n      <td>일반용</td>\n      <td>14629</td>\n      <td>219564658</td>\n      <td>17</td>\n    </tr>\n    <tr>\n      <th>18</th>\n      <td>202107-202112</td>\n      <td>부산광역시</td>\n      <td>사하구</td>\n      <td>합계</td>\n      <td>19461</td>\n      <td>1298078843</td>\n      <td>NaN</td>\n    </tr>\n    <tr>\n      <th>20</th>\n      <td>202107-202112</td>\n      <td>부산광역시</td>\n      <td>서구</td>\n      <td>일반용</td>\n      <td>6534</td>\n      <td>124721720</td>\n      <td>38</td>\n    </tr>\n    <tr>\n      <th>21</th>\n      <td>202107-202112</td>\n      <td>부산광역시</td>\n      <td>서구</td>\n      <td>합계</td>\n      <td>10153</td>\n      <td>327526105</td>\n      <td>NaN</td>\n    </tr>\n    <tr>\n      <th>23</th>\n      <td>202107-202112</td>\n      <td>부산광역시</td>\n      <td>수영구</td>\n      <td>일반용</td>\n      <td>11385</td>\n      <td>165133374</td>\n      <td>50</td>\n    </tr>\n    <tr>\n      <th>22</th>\n      <td>202107-202112</td>\n      <td>부산광역시</td>\n      <td>수영구</td>\n      <td>합계</td>\n      <td>12853</td>\n      <td>333166539</td>\n      <td>NaN</td>\n    </tr>\n    <tr>\n      <th>25</th>\n      <td>202107-202112</td>\n      <td>부산광역시</td>\n      <td>연제구</td>\n      <td>일반용</td>\n      <td>11606</td>\n      <td>201706410</td>\n      <td>48</td>\n    </tr>\n    <tr>\n      <th>24</th>\n      <td>202107-202112</td>\n      <td>부산광역시</td>\n      <td>연제구</td>\n      <td>합계</td>\n      <td>12084</td>\n      <td>419392862</td>\n      <td>NaN</td>\n    </tr>\n    <tr>\n      <th>27</th>\n      <td>202107-202112</td>\n      <td>부산광역시</td>\n      <td>영도구</td>\n      <td>일반용</td>\n      <td>6242</td>\n      <td>82160362</td>\n      <td>34</td>\n    </tr>\n    <tr>\n      <th>26</th>\n      <td>202107-202112</td>\n      <td>부산광역시</td>\n      <td>영도구</td>\n      <td>합계</td>\n      <td>9617</td>\n      <td>241543157</td>\n      <td>NaN</td>\n    </tr>\n    <tr>\n      <th>29</th>\n      <td>202107-202112</td>\n      <td>부산광역시</td>\n      <td>중구</td>\n      <td>일반용</td>\n      <td>8200</td>\n      <td>145232508</td>\n      <td>78</td>\n    </tr>\n    <tr>\n      <th>28</th>\n      <td>202107-202112</td>\n      <td>부산광역시</td>\n      <td>중구</td>\n      <td>합계</td>\n      <td>6423</td>\n      <td>187164063</td>\n      <td>NaN</td>\n    </tr>\n    <tr>\n      <th>30</th>\n      <td>202107-202112</td>\n      <td>부산광역시</td>\n      <td>해운대구</td>\n      <td>일반용</td>\n      <td>15003</td>\n      <td>467691148</td>\n      <td>47</td>\n    </tr>\n    <tr>\n      <th>31</th>\n      <td>202107-202112</td>\n      <td>부산광역시</td>\n      <td>해운대구</td>\n      <td>합계</td>\n      <td>15809</td>\n      <td>986472186</td>\n      <td>NaN</td>\n    </tr>\n  </tbody>\n</table>\n</div>"
     },
     "execution_count": 33,
     "metadata": {},
     "output_type": "execute_result"
    }
   ],
   "source": [
    "Final = pd.merge(Final , Rate2, on=['시군구', '계약구분'] , how='left')\n",
    "\n",
    "#Final.drop(['비율_y]' , axis = 1 , inplace = True)\n",
    "#Final.rename(columns={'비율_y':'전체 계약종별 전력사용량 대비 일반용 사용량 비율'})\n",
    "Final = Final.sort_values(['시군구' , '계약구분'])\n",
    "Final"
   ],
   "metadata": {
    "collapsed": false,
    "pycharm": {
     "name": "#%%\n"
    }
   }
  },
  {
   "cell_type": "code",
   "execution_count": 34,
   "outputs": [],
   "source": [
    "# Final['일반용 전기의 비율'] = Final.append(Rate)\n",
    "# Final"
   ],
   "metadata": {
    "collapsed": false,
    "pycharm": {
     "name": "#%%\n"
    }
   }
  },
  {
   "cell_type": "markdown",
   "source": [
    "### 6. 날짜 체크!!!!!!!!!!!!!!!!!!!!1"
   ],
   "metadata": {
    "collapsed": false,
    "pycharm": {
     "name": "#%% md\n"
    }
   }
  },
  {
   "cell_type": "code",
   "execution_count": 35,
   "outputs": [],
   "source": [
    "Final.to_csv(\"{}_일반용_전력사용량_2107-12.csv\".format(City) , mode = 'w' , encoding= 'cp949' , index =False) #파일명 수정"
   ],
   "metadata": {
    "collapsed": false,
    "pycharm": {
     "name": "#%%\n"
    }
   }
  },
  {
   "cell_type": "code",
   "execution_count": 35,
   "outputs": [],
   "source": [],
   "metadata": {
    "collapsed": false,
    "pycharm": {
     "name": "#%%\n"
    }
   }
  },
  {
   "cell_type": "code",
   "execution_count": 36,
   "outputs": [],
   "source": [
    "# Sigu = list(set(df_3['시군구'].tolist()))\n",
    "#\n",
    "# Sigu.sort()\n",
    "#\n",
    "# Sigu"
   ],
   "metadata": {
    "collapsed": false,
    "pycharm": {
     "name": "#%%\n"
    }
   }
  },
  {
   "cell_type": "code",
   "execution_count": 37,
   "outputs": [],
   "source": [
    "# YearMonth = list(set(df_3['년월'].tolist()))\n",
    "#\n",
    "# YearMonth.sort()\n",
    "# YearMonth"
   ],
   "metadata": {
    "collapsed": false,
    "pycharm": {
     "name": "#%%\n"
    }
   }
  },
  {
   "cell_type": "code",
   "execution_count": 38,
   "outputs": [],
   "source": [
    "# Gayeak = list(set(df_3['계약구분'].tolist()))\n",
    "#\n",
    "# Gayeak.sort()\n",
    "# Gayeak"
   ],
   "metadata": {
    "collapsed": false,
    "pycharm": {
     "name": "#%%\n"
    }
   }
  },
  {
   "cell_type": "code",
   "execution_count": 39,
   "outputs": [],
   "source": [
    "# SEOUL = df_3.loc[(df_3['계약구분'] =='일반용')]\n",
    "# SEOUL.drop(['고객호수(호)' ,'전기요금(원)' , '평균판매단가(원/kWh)'] , axis = 1 , inplace = True)\n",
    "# #SEOUL.dtypes(['사용량(kWh)'])\n",
    "# SEOUL"
   ],
   "metadata": {
    "collapsed": false,
    "pycharm": {
     "name": "#%%\n"
    }
   }
  },
  {
   "cell_type": "code",
   "execution_count": 40,
   "outputs": [],
   "source": [
    "#SEOUL.to_csv(\"서울특별시_일반용_전력사용량.csv\" , mode = 'w' , encoding= 'cp949')"
   ],
   "metadata": {
    "collapsed": false,
    "pycharm": {
     "name": "#%%\n"
    }
   }
  },
  {
   "cell_type": "code",
   "execution_count": 41,
   "outputs": [],
   "source": [
    "# print(SEOUL.dtypes)\n",
    "# SEOUL = SEOUL.astype({'사용량(kWh)' : 'float'})"
   ],
   "metadata": {
    "collapsed": false,
    "pycharm": {
     "name": "#%%\n"
    }
   }
  },
  {
   "cell_type": "code",
   "execution_count": 42,
   "outputs": [],
   "source": [
    "# SEOUL"
   ],
   "metadata": {
    "collapsed": false,
    "pycharm": {
     "name": "#%%\n"
    }
   }
  },
  {
   "cell_type": "code",
   "execution_count": 43,
   "outputs": [],
   "source": [
    "# a = SEOUL['사용량(kWh)'].tolist()\n",
    "# int_list = map(int, a)\n",
    "# b=0\n",
    "# for i in int_list:\n",
    "#     b+=i\n",
    "#\n",
    "# print(b)"
   ],
   "metadata": {
    "collapsed": false,
    "pycharm": {
     "name": "#%%\n"
    }
   }
  },
  {
   "cell_type": "code",
   "execution_count": 43,
   "outputs": [],
   "source": [],
   "metadata": {
    "collapsed": false,
    "pycharm": {
     "name": "#%%\n"
    }
   }
  },
  {
   "cell_type": "code",
   "execution_count": 43,
   "outputs": [],
   "source": [],
   "metadata": {
    "collapsed": false,
    "pycharm": {
     "name": "#%%\n"
    }
   }
  },
  {
   "cell_type": "code",
   "execution_count": 43,
   "outputs": [],
   "source": [],
   "metadata": {
    "collapsed": false,
    "pycharm": {
     "name": "#%%\n"
    }
   }
  },
  {
   "cell_type": "code",
   "execution_count": 43,
   "outputs": [],
   "source": [],
   "metadata": {
    "collapsed": false,
    "pycharm": {
     "name": "#%%\n"
    }
   }
  },
  {
   "cell_type": "code",
   "execution_count": 43,
   "outputs": [],
   "source": [],
   "metadata": {
    "collapsed": false,
    "pycharm": {
     "name": "#%%\n"
    }
   }
  },
  {
   "cell_type": "code",
   "execution_count": 43,
   "outputs": [],
   "source": [],
   "metadata": {
    "collapsed": false,
    "pycharm": {
     "name": "#%%\n"
    }
   }
  },
  {
   "cell_type": "code",
   "execution_count": 43,
   "outputs": [],
   "source": [],
   "metadata": {
    "collapsed": false,
    "pycharm": {
     "name": "#%%\n"
    }
   }
  }
 ],
 "metadata": {
  "kernelspec": {
   "display_name": "Python 3",
   "language": "python",
   "name": "python3"
  },
  "language_info": {
   "codemirror_mode": {
    "name": "ipython",
    "version": 2
   },
   "file_extension": ".py",
   "mimetype": "text/x-python",
   "name": "python",
   "nbconvert_exporter": "python",
   "pygments_lexer": "ipython2",
   "version": "2.7.6"
  }
 },
 "nbformat": 4,
 "nbformat_minor": 0
}