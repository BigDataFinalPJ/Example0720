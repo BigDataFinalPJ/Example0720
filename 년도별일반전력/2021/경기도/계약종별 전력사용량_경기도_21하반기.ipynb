{
 "cells": [
  {
   "cell_type": "markdown",
   "source": [],
   "metadata": {
    "collapsed": false,
    "pycharm": {
     "name": "#%% md\n"
    }
   }
  },
  {
   "cell_type": "code",
   "execution_count": 17,
   "outputs": [],
   "source": [
    "import pandas as pd\n",
    "import re\n",
    "\n",
    "pd.options.display.float_format = '{:.0f}'.format"
   ],
   "metadata": {
    "collapsed": false,
    "pycharm": {
     "name": "#%%\n"
    }
   }
  },
  {
   "cell_type": "markdown",
   "source": [
    "### 1. 꼭 read_csv 21상반기, 19하반기와 같이 맞추어 주세요!!! 또한 지역(전라북도, 남도) 맞추기!!!!!"
   ],
   "metadata": {
    "collapsed": false,
    "pycharm": {
     "name": "#%% md\n"
    }
   }
  },
  {
   "cell_type": "code",
   "execution_count": 18,
   "outputs": [
    {
     "data": {
      "text/plain": "       계약종별 전력사용량 월별( 20220804 현재 ) Unnamed: 1     Unnamed: 2 Unnamed: 3  \\\n0     시도 : 경기도, 시군구 : 전체(시 / 군 / 구)        NaN            NaN        NaN   \n1       기간 : 2021년 07 월 ~ 2021년 12월        NaN            NaN        NaN   \n2                                년월         시구            시군구       계약구분   \n3                            202107        경기도  전체(시 / 군 / 구)        주택용   \n4                            202107        경기도  전체(시 / 군 / 구)        일반용   \n...                             ...        ...            ...        ...   \n1531                         202112        경기도            화성시        산업용   \n1532                         202112        경기도            화성시        심 야   \n1533                         202112        경기도            화성시        일반용   \n1534                         202112        경기도            화성시        주택용   \n1535                         202112        경기도            화성시         합계   \n\n      Unnamed: 4      Unnamed: 5        Unnamed: 6     Unnamed: 7  \n0            NaN             NaN               NaN            NaN  \n1            NaN             NaN               NaN            NaN  \n2        고객호수(호)        사용량(kWh)           전기요금(원)  평균판매단가(원/kWh)  \n3     3,040,136   1,881,838,378   209,764,303,349          111.5   \n4       717,133   2,818,435,785   394,330,777,114          139.9   \n...          ...             ...               ...            ...  \n1531     22,297   1,379,346,007   161,886,079,115          117.4   \n1532     11,165      21,987,287     1,661,549,179           75.6   \n1533     49,518     222,509,014    29,701,627,616          133.5   \n1534    148,924     119,087,912    13,542,172,499          113.7   \n1535    293,348   1,792,576,987   210,130,697,404          117.2   \n\n[1536 rows x 8 columns]",
      "text/html": "<div>\n<style scoped>\n    .dataframe tbody tr th:only-of-type {\n        vertical-align: middle;\n    }\n\n    .dataframe tbody tr th {\n        vertical-align: top;\n    }\n\n    .dataframe thead th {\n        text-align: right;\n    }\n</style>\n<table border=\"1\" class=\"dataframe\">\n  <thead>\n    <tr style=\"text-align: right;\">\n      <th></th>\n      <th>계약종별 전력사용량 월별( 20220804 현재 )</th>\n      <th>Unnamed: 1</th>\n      <th>Unnamed: 2</th>\n      <th>Unnamed: 3</th>\n      <th>Unnamed: 4</th>\n      <th>Unnamed: 5</th>\n      <th>Unnamed: 6</th>\n      <th>Unnamed: 7</th>\n    </tr>\n  </thead>\n  <tbody>\n    <tr>\n      <th>0</th>\n      <td>시도 : 경기도, 시군구 : 전체(시 / 군 / 구)</td>\n      <td>NaN</td>\n      <td>NaN</td>\n      <td>NaN</td>\n      <td>NaN</td>\n      <td>NaN</td>\n      <td>NaN</td>\n      <td>NaN</td>\n    </tr>\n    <tr>\n      <th>1</th>\n      <td>기간 : 2021년 07 월 ~ 2021년 12월</td>\n      <td>NaN</td>\n      <td>NaN</td>\n      <td>NaN</td>\n      <td>NaN</td>\n      <td>NaN</td>\n      <td>NaN</td>\n      <td>NaN</td>\n    </tr>\n    <tr>\n      <th>2</th>\n      <td>년월</td>\n      <td>시구</td>\n      <td>시군구</td>\n      <td>계약구분</td>\n      <td>고객호수(호)</td>\n      <td>사용량(kWh)</td>\n      <td>전기요금(원)</td>\n      <td>평균판매단가(원/kWh)</td>\n    </tr>\n    <tr>\n      <th>3</th>\n      <td>202107</td>\n      <td>경기도</td>\n      <td>전체(시 / 군 / 구)</td>\n      <td>주택용</td>\n      <td>3,040,136</td>\n      <td>1,881,838,378</td>\n      <td>209,764,303,349</td>\n      <td>111.5</td>\n    </tr>\n    <tr>\n      <th>4</th>\n      <td>202107</td>\n      <td>경기도</td>\n      <td>전체(시 / 군 / 구)</td>\n      <td>일반용</td>\n      <td>717,133</td>\n      <td>2,818,435,785</td>\n      <td>394,330,777,114</td>\n      <td>139.9</td>\n    </tr>\n    <tr>\n      <th>...</th>\n      <td>...</td>\n      <td>...</td>\n      <td>...</td>\n      <td>...</td>\n      <td>...</td>\n      <td>...</td>\n      <td>...</td>\n      <td>...</td>\n    </tr>\n    <tr>\n      <th>1531</th>\n      <td>202112</td>\n      <td>경기도</td>\n      <td>화성시</td>\n      <td>산업용</td>\n      <td>22,297</td>\n      <td>1,379,346,007</td>\n      <td>161,886,079,115</td>\n      <td>117.4</td>\n    </tr>\n    <tr>\n      <th>1532</th>\n      <td>202112</td>\n      <td>경기도</td>\n      <td>화성시</td>\n      <td>심 야</td>\n      <td>11,165</td>\n      <td>21,987,287</td>\n      <td>1,661,549,179</td>\n      <td>75.6</td>\n    </tr>\n    <tr>\n      <th>1533</th>\n      <td>202112</td>\n      <td>경기도</td>\n      <td>화성시</td>\n      <td>일반용</td>\n      <td>49,518</td>\n      <td>222,509,014</td>\n      <td>29,701,627,616</td>\n      <td>133.5</td>\n    </tr>\n    <tr>\n      <th>1534</th>\n      <td>202112</td>\n      <td>경기도</td>\n      <td>화성시</td>\n      <td>주택용</td>\n      <td>148,924</td>\n      <td>119,087,912</td>\n      <td>13,542,172,499</td>\n      <td>113.7</td>\n    </tr>\n    <tr>\n      <th>1535</th>\n      <td>202112</td>\n      <td>경기도</td>\n      <td>화성시</td>\n      <td>합계</td>\n      <td>293,348</td>\n      <td>1,792,576,987</td>\n      <td>210,130,697,404</td>\n      <td>117.2</td>\n    </tr>\n  </tbody>\n</table>\n<p>1536 rows × 8 columns</p>\n</div>"
     },
     "execution_count": 18,
     "metadata": {},
     "output_type": "execute_result"
    }
   ],
   "source": [
    "df = pd.read_csv('경기도_계약종별_전력사용량_월별_21하반기.csv' , encoding='cp949')\n",
    "\n",
    "df\n",
    "#exchng=  pd.read_csv('지역별_전력거래량_20220803093050.csv' , encoding='cp949')"
   ],
   "metadata": {
    "collapsed": false,
    "pycharm": {
     "name": "#%%\n"
    }
   }
  },
  {
   "cell_type": "code",
   "execution_count": 19,
   "outputs": [
    {
     "data": {
      "text/plain": "     계약종별 전력사용량 월별( 20220804 현재 ) Unnamed: 1     Unnamed: 2 Unnamed: 3  \\\n2                              년월         시구            시군구       계약구분   \n3                          202107        경기도  전체(시 / 군 / 구)        주택용   \n4                          202107        경기도  전체(시 / 군 / 구)        일반용   \n5                          202107        경기도  전체(시 / 군 / 구)        교육용   \n6                          202107        경기도  전체(시 / 군 / 구)        산업용   \n...                           ...        ...            ...        ...   \n1531                       202112        경기도            화성시        산업용   \n1532                       202112        경기도            화성시        심 야   \n1533                       202112        경기도            화성시        일반용   \n1534                       202112        경기도            화성시        주택용   \n1535                       202112        경기도            화성시         합계   \n\n      Unnamed: 4      Unnamed: 5        Unnamed: 6     Unnamed: 7  \n2        고객호수(호)        사용량(kWh)           전기요금(원)  평균판매단가(원/kWh)  \n3     3,040,136   1,881,838,378   209,764,303,349          111.5   \n4       717,133   2,818,435,785   394,330,777,114          139.9   \n5         4,538     124,548,985    14,910,430,883          119.7   \n6       134,362   6,429,649,212   762,872,485,444          118.6   \n...          ...             ...               ...            ...  \n1531     22,297   1,379,346,007   161,886,079,115          117.4   \n1532     11,165      21,987,287     1,661,549,179           75.6   \n1533     49,518     222,509,014    29,701,627,616          133.5   \n1534    148,924     119,087,912    13,542,172,499          113.7   \n1535    293,348   1,792,576,987   210,130,697,404          117.2   \n\n[1533 rows x 8 columns]",
      "text/html": "<div>\n<style scoped>\n    .dataframe tbody tr th:only-of-type {\n        vertical-align: middle;\n    }\n\n    .dataframe tbody tr th {\n        vertical-align: top;\n    }\n\n    .dataframe thead th {\n        text-align: right;\n    }\n</style>\n<table border=\"1\" class=\"dataframe\">\n  <thead>\n    <tr style=\"text-align: right;\">\n      <th></th>\n      <th>계약종별 전력사용량 월별( 20220804 현재 )</th>\n      <th>Unnamed: 1</th>\n      <th>Unnamed: 2</th>\n      <th>Unnamed: 3</th>\n      <th>Unnamed: 4</th>\n      <th>Unnamed: 5</th>\n      <th>Unnamed: 6</th>\n      <th>Unnamed: 7</th>\n    </tr>\n  </thead>\n  <tbody>\n    <tr>\n      <th>2</th>\n      <td>년월</td>\n      <td>시구</td>\n      <td>시군구</td>\n      <td>계약구분</td>\n      <td>고객호수(호)</td>\n      <td>사용량(kWh)</td>\n      <td>전기요금(원)</td>\n      <td>평균판매단가(원/kWh)</td>\n    </tr>\n    <tr>\n      <th>3</th>\n      <td>202107</td>\n      <td>경기도</td>\n      <td>전체(시 / 군 / 구)</td>\n      <td>주택용</td>\n      <td>3,040,136</td>\n      <td>1,881,838,378</td>\n      <td>209,764,303,349</td>\n      <td>111.5</td>\n    </tr>\n    <tr>\n      <th>4</th>\n      <td>202107</td>\n      <td>경기도</td>\n      <td>전체(시 / 군 / 구)</td>\n      <td>일반용</td>\n      <td>717,133</td>\n      <td>2,818,435,785</td>\n      <td>394,330,777,114</td>\n      <td>139.9</td>\n    </tr>\n    <tr>\n      <th>5</th>\n      <td>202107</td>\n      <td>경기도</td>\n      <td>전체(시 / 군 / 구)</td>\n      <td>교육용</td>\n      <td>4,538</td>\n      <td>124,548,985</td>\n      <td>14,910,430,883</td>\n      <td>119.7</td>\n    </tr>\n    <tr>\n      <th>6</th>\n      <td>202107</td>\n      <td>경기도</td>\n      <td>전체(시 / 군 / 구)</td>\n      <td>산업용</td>\n      <td>134,362</td>\n      <td>6,429,649,212</td>\n      <td>762,872,485,444</td>\n      <td>118.6</td>\n    </tr>\n    <tr>\n      <th>...</th>\n      <td>...</td>\n      <td>...</td>\n      <td>...</td>\n      <td>...</td>\n      <td>...</td>\n      <td>...</td>\n      <td>...</td>\n      <td>...</td>\n    </tr>\n    <tr>\n      <th>1531</th>\n      <td>202112</td>\n      <td>경기도</td>\n      <td>화성시</td>\n      <td>산업용</td>\n      <td>22,297</td>\n      <td>1,379,346,007</td>\n      <td>161,886,079,115</td>\n      <td>117.4</td>\n    </tr>\n    <tr>\n      <th>1532</th>\n      <td>202112</td>\n      <td>경기도</td>\n      <td>화성시</td>\n      <td>심 야</td>\n      <td>11,165</td>\n      <td>21,987,287</td>\n      <td>1,661,549,179</td>\n      <td>75.6</td>\n    </tr>\n    <tr>\n      <th>1533</th>\n      <td>202112</td>\n      <td>경기도</td>\n      <td>화성시</td>\n      <td>일반용</td>\n      <td>49,518</td>\n      <td>222,509,014</td>\n      <td>29,701,627,616</td>\n      <td>133.5</td>\n    </tr>\n    <tr>\n      <th>1534</th>\n      <td>202112</td>\n      <td>경기도</td>\n      <td>화성시</td>\n      <td>주택용</td>\n      <td>148,924</td>\n      <td>119,087,912</td>\n      <td>13,542,172,499</td>\n      <td>113.7</td>\n    </tr>\n    <tr>\n      <th>1535</th>\n      <td>202112</td>\n      <td>경기도</td>\n      <td>화성시</td>\n      <td>합계</td>\n      <td>293,348</td>\n      <td>1,792,576,987</td>\n      <td>210,130,697,404</td>\n      <td>117.2</td>\n    </tr>\n  </tbody>\n</table>\n<p>1533 rows × 8 columns</p>\n</div>"
     },
     "execution_count": 19,
     "metadata": {},
     "output_type": "execute_result"
    }
   ],
   "source": [
    "df = df.drop([0,1 , 46] , axis = 0)\n",
    "#0,1 , 10은 지우는게 맞다\n",
    "df"
   ],
   "metadata": {
    "collapsed": false,
    "pycharm": {
     "name": "#%%\n"
    }
   }
  },
  {
   "cell_type": "code",
   "execution_count": 20,
   "outputs": [],
   "source": [
    "a= df.loc[2].tolist()\n",
    "a\n",
    "df = df.drop([2] , axis = 0)"
   ],
   "metadata": {
    "collapsed": false,
    "pycharm": {
     "name": "#%%\n"
    }
   }
  },
  {
   "cell_type": "code",
   "execution_count": 21,
   "outputs": [
    {
     "data": {
      "text/plain": "          년월   시구            시군구 계약구분     고객호수(호)        사용량(kWh)  \\\n3     202107  경기도  전체(시 / 군 / 구)  주택용  3,040,136   1,881,838,378    \n4     202107  경기도  전체(시 / 군 / 구)  일반용    717,133   2,818,435,785    \n5     202107  경기도  전체(시 / 군 / 구)  교육용      4,538     124,548,985    \n6     202107  경기도  전체(시 / 군 / 구)  산업용    134,362   6,429,649,212    \n7     202107  경기도  전체(시 / 군 / 구)  농사용    243,302     201,755,643    \n...      ...  ...            ...  ...         ...             ...   \n1531  202112  경기도            화성시  산업용     22,297   1,379,346,007    \n1532  202112  경기도            화성시  심 야     11,165      21,987,287    \n1533  202112  경기도            화성시  일반용     49,518     222,509,014    \n1534  202112  경기도            화성시  주택용    148,924     119,087,912    \n1535  202112  경기도            화성시   합계    293,348   1,792,576,987    \n\n               전기요금(원) 평균판매단가(원/kWh)  \n3     209,764,303,349         111.5   \n4     394,330,777,114         139.9   \n5      14,910,430,883         119.7   \n6     762,872,485,444         118.6   \n7       9,359,576,067          46.4   \n...                ...           ...  \n1531  161,886,079,115         117.4   \n1532    1,661,549,179          75.6   \n1533   29,701,627,616         133.5   \n1534   13,542,172,499         113.7   \n1535  210,130,697,404         117.2   \n\n[1532 rows x 8 columns]",
      "text/html": "<div>\n<style scoped>\n    .dataframe tbody tr th:only-of-type {\n        vertical-align: middle;\n    }\n\n    .dataframe tbody tr th {\n        vertical-align: top;\n    }\n\n    .dataframe thead th {\n        text-align: right;\n    }\n</style>\n<table border=\"1\" class=\"dataframe\">\n  <thead>\n    <tr style=\"text-align: right;\">\n      <th></th>\n      <th>년월</th>\n      <th>시구</th>\n      <th>시군구</th>\n      <th>계약구분</th>\n      <th>고객호수(호)</th>\n      <th>사용량(kWh)</th>\n      <th>전기요금(원)</th>\n      <th>평균판매단가(원/kWh)</th>\n    </tr>\n  </thead>\n  <tbody>\n    <tr>\n      <th>3</th>\n      <td>202107</td>\n      <td>경기도</td>\n      <td>전체(시 / 군 / 구)</td>\n      <td>주택용</td>\n      <td>3,040,136</td>\n      <td>1,881,838,378</td>\n      <td>209,764,303,349</td>\n      <td>111.5</td>\n    </tr>\n    <tr>\n      <th>4</th>\n      <td>202107</td>\n      <td>경기도</td>\n      <td>전체(시 / 군 / 구)</td>\n      <td>일반용</td>\n      <td>717,133</td>\n      <td>2,818,435,785</td>\n      <td>394,330,777,114</td>\n      <td>139.9</td>\n    </tr>\n    <tr>\n      <th>5</th>\n      <td>202107</td>\n      <td>경기도</td>\n      <td>전체(시 / 군 / 구)</td>\n      <td>교육용</td>\n      <td>4,538</td>\n      <td>124,548,985</td>\n      <td>14,910,430,883</td>\n      <td>119.7</td>\n    </tr>\n    <tr>\n      <th>6</th>\n      <td>202107</td>\n      <td>경기도</td>\n      <td>전체(시 / 군 / 구)</td>\n      <td>산업용</td>\n      <td>134,362</td>\n      <td>6,429,649,212</td>\n      <td>762,872,485,444</td>\n      <td>118.6</td>\n    </tr>\n    <tr>\n      <th>7</th>\n      <td>202107</td>\n      <td>경기도</td>\n      <td>전체(시 / 군 / 구)</td>\n      <td>농사용</td>\n      <td>243,302</td>\n      <td>201,755,643</td>\n      <td>9,359,576,067</td>\n      <td>46.4</td>\n    </tr>\n    <tr>\n      <th>...</th>\n      <td>...</td>\n      <td>...</td>\n      <td>...</td>\n      <td>...</td>\n      <td>...</td>\n      <td>...</td>\n      <td>...</td>\n      <td>...</td>\n    </tr>\n    <tr>\n      <th>1531</th>\n      <td>202112</td>\n      <td>경기도</td>\n      <td>화성시</td>\n      <td>산업용</td>\n      <td>22,297</td>\n      <td>1,379,346,007</td>\n      <td>161,886,079,115</td>\n      <td>117.4</td>\n    </tr>\n    <tr>\n      <th>1532</th>\n      <td>202112</td>\n      <td>경기도</td>\n      <td>화성시</td>\n      <td>심 야</td>\n      <td>11,165</td>\n      <td>21,987,287</td>\n      <td>1,661,549,179</td>\n      <td>75.6</td>\n    </tr>\n    <tr>\n      <th>1533</th>\n      <td>202112</td>\n      <td>경기도</td>\n      <td>화성시</td>\n      <td>일반용</td>\n      <td>49,518</td>\n      <td>222,509,014</td>\n      <td>29,701,627,616</td>\n      <td>133.5</td>\n    </tr>\n    <tr>\n      <th>1534</th>\n      <td>202112</td>\n      <td>경기도</td>\n      <td>화성시</td>\n      <td>주택용</td>\n      <td>148,924</td>\n      <td>119,087,912</td>\n      <td>13,542,172,499</td>\n      <td>113.7</td>\n    </tr>\n    <tr>\n      <th>1535</th>\n      <td>202112</td>\n      <td>경기도</td>\n      <td>화성시</td>\n      <td>합계</td>\n      <td>293,348</td>\n      <td>1,792,576,987</td>\n      <td>210,130,697,404</td>\n      <td>117.2</td>\n    </tr>\n  </tbody>\n</table>\n<p>1532 rows × 8 columns</p>\n</div>"
     },
     "execution_count": 21,
     "metadata": {},
     "output_type": "execute_result"
    }
   ],
   "source": [
    "df.columns = a\n",
    "df"
   ],
   "metadata": {
    "collapsed": false,
    "pycharm": {
     "name": "#%%\n"
    }
   }
  },
  {
   "cell_type": "code",
   "execution_count": 22,
   "outputs": [
    {
     "data": {
      "text/plain": "        년월   시구            시군구 계약구분     고객호수(호)        사용량(kWh)  \\\n3   202107  경기도  전체(시 / 군 / 구)  주택용  3,040,136   1,881,838,378    \n4   202107  경기도  전체(시 / 군 / 구)  일반용    717,133   2,818,435,785    \n5   202107  경기도  전체(시 / 군 / 구)  교육용      4,538     124,548,985    \n6   202107  경기도  전체(시 / 군 / 구)  산업용    134,362   6,429,649,212    \n7   202107  경기도  전체(시 / 군 / 구)  농사용    243,302     201,755,643    \n8   202107  경기도  전체(시 / 군 / 구)  가로등    383,996      59,426,855    \n9   202107  경기도  전체(시 / 군 / 구)  심 야    131,843      81,797,473    \n10  202108  경기도  전체(시 / 군 / 구)  주택용  3,041,871   2,511,649,699    \n11  202108  경기도  전체(시 / 군 / 구)  일반용    719,476   3,112,985,345    \n12  202108  경기도  전체(시 / 군 / 구)  교육용      4,545     105,598,376    \n13  202108  경기도  전체(시 / 군 / 구)  산업용    134,577   6,063,789,222    \n14  202108  경기도  전체(시 / 군 / 구)  농사용    244,334     271,162,937    \n15  202108  경기도  전체(시 / 군 / 구)  가로등    376,845      62,722,219    \n16  202108  경기도  전체(시 / 군 / 구)  심 야    131,375      68,455,803    \n17  202109  경기도  전체(시 / 군 / 구)  주택용  3,044,509   1,872,278,185    \n18  202109  경기도  전체(시 / 군 / 구)  일반용    721,242   2,660,036,358    \n19  202109  경기도  전체(시 / 군 / 구)  교육용      4,556     115,539,718    \n20  202109  경기도  전체(시 / 군 / 구)  산업용    134,720   6,347,017,254    \n21  202109  경기도  전체(시 / 군 / 구)  농사용    245,466     245,057,885    \n22  202109  경기도  전체(시 / 군 / 구)  가로등    377,445      65,463,460    \n23  202109  경기도  전체(시 / 군 / 구)  심 야    130,965      66,406,115    \n24  202110  경기도  전체(시 / 군 / 구)  주택용  3,046,558   1,610,660,770    \n25  202110  경기도  전체(시 / 군 / 구)  일반용    722,865   2,381,610,005    \n26  202110  경기도  전체(시 / 군 / 구)  교육용      4,556     101,182,166    \n27  202110  경기도  전체(시 / 군 / 구)  산업용    134,818   5,947,082,694    \n28  202110  경기도  전체(시 / 군 / 구)  농사용    246,040     200,796,084    \n29  202110  경기도  전체(시 / 군 / 구)  가로등    377,758      69,304,987    \n30  202110  경기도  전체(시 / 군 / 구)  심 야    130,568      76,568,416    \n31  202111  경기도  전체(시 / 군 / 구)  주택용  3,050,072   1,644,356,650    \n32  202111  경기도  전체(시 / 군 / 구)  일반용    726,347   2,410,257,512    \n33  202111  경기도  전체(시 / 군 / 구)  교육용      4,551     127,717,274    \n34  202111  경기도  전체(시 / 군 / 구)  산업용    134,989   6,053,755,893    \n35  202111  경기도  전체(시 / 군 / 구)  농사용    317,715     270,293,134    \n36  202111  경기도  전체(시 / 군 / 구)  가로등    379,036      74,505,337    \n37  202111  경기도  전체(시 / 군 / 구)  심 야    130,200     180,178,706    \n38  202112  경기도  전체(시 / 군 / 구)  주택용  3,052,729   1,707,194,102    \n39  202112  경기도  전체(시 / 군 / 구)  일반용    730,332   2,831,898,326    \n40  202112  경기도  전체(시 / 군 / 구)  교육용      4,551     186,343,716    \n41  202112  경기도  전체(시 / 군 / 구)  산업용    135,144   6,467,087,422    \n42  202112  경기도  전체(시 / 군 / 구)  농사용    254,493     253,005,538    \n43  202112  경기도  전체(시 / 군 / 구)  가로등    380,334      77,476,442    \n44  202112  경기도  전체(시 / 군 / 구)  심 야    129,685     280,940,389    \n45      합계   합계             합계   합계  28,060,577  68,117,830,470   \n\n              전기요금(원) 평균판매단가(원/kWh)  \n3    209,764,303,349         111.5   \n4    394,330,777,114         139.9   \n5     14,910,430,883         119.7   \n6    762,872,485,444         118.6   \n7      9,359,576,067          46.4   \n8      7,260,993,046         122.2   \n9      4,954,468,299          60.6   \n10   315,592,950,250         125.7   \n11   423,363,461,941         136.0   \n12    13,285,862,822         125.8   \n13   717,268,856,797         118.3   \n14    11,877,151,797          43.8   \n15     7,436,639,617         118.6   \n16     4,289,558,169          62.7   \n17   200,059,999,847         106.9   \n18   322,790,879,469         121.3   \n19    12,331,727,495         106.7   \n20   607,401,955,202          95.7   \n21    11,171,068,413          45.6   \n22     7,579,481,497         115.8   \n23     3,941,944,443          59.4   \n24   174,996,758,202         108.6   \n25   269,759,272,023         113.3   \n26     9,917,689,719          98.0   \n27   562,497,537,488          94.6   \n28    10,135,351,271          50.5   \n29     7,930,856,318         114.4   \n30     4,586,809,475          59.9   \n31   182,463,710,309         111.0   \n32   314,848,635,774         130.6   \n33    14,056,320,173         110.1   \n34   706,827,324,427         116.8   \n35    11,962,852,054          44.3   \n36     8,341,986,582         112.0   \n37    11,712,110,962          65.0   \n38   194,270,284,122         113.8   \n39   381,336,064,002         134.7   \n40    18,479,810,461          99.2   \n41   763,154,701,788         118.0   \n42    12,269,499,277          48.5   \n43     8,508,490,336         109.8   \n44    21,300,234,474          75.8   \n45  7,751,200,871,198         113.8  ",
      "text/html": "<div>\n<style scoped>\n    .dataframe tbody tr th:only-of-type {\n        vertical-align: middle;\n    }\n\n    .dataframe tbody tr th {\n        vertical-align: top;\n    }\n\n    .dataframe thead th {\n        text-align: right;\n    }\n</style>\n<table border=\"1\" class=\"dataframe\">\n  <thead>\n    <tr style=\"text-align: right;\">\n      <th></th>\n      <th>년월</th>\n      <th>시구</th>\n      <th>시군구</th>\n      <th>계약구분</th>\n      <th>고객호수(호)</th>\n      <th>사용량(kWh)</th>\n      <th>전기요금(원)</th>\n      <th>평균판매단가(원/kWh)</th>\n    </tr>\n  </thead>\n  <tbody>\n    <tr>\n      <th>3</th>\n      <td>202107</td>\n      <td>경기도</td>\n      <td>전체(시 / 군 / 구)</td>\n      <td>주택용</td>\n      <td>3,040,136</td>\n      <td>1,881,838,378</td>\n      <td>209,764,303,349</td>\n      <td>111.5</td>\n    </tr>\n    <tr>\n      <th>4</th>\n      <td>202107</td>\n      <td>경기도</td>\n      <td>전체(시 / 군 / 구)</td>\n      <td>일반용</td>\n      <td>717,133</td>\n      <td>2,818,435,785</td>\n      <td>394,330,777,114</td>\n      <td>139.9</td>\n    </tr>\n    <tr>\n      <th>5</th>\n      <td>202107</td>\n      <td>경기도</td>\n      <td>전체(시 / 군 / 구)</td>\n      <td>교육용</td>\n      <td>4,538</td>\n      <td>124,548,985</td>\n      <td>14,910,430,883</td>\n      <td>119.7</td>\n    </tr>\n    <tr>\n      <th>6</th>\n      <td>202107</td>\n      <td>경기도</td>\n      <td>전체(시 / 군 / 구)</td>\n      <td>산업용</td>\n      <td>134,362</td>\n      <td>6,429,649,212</td>\n      <td>762,872,485,444</td>\n      <td>118.6</td>\n    </tr>\n    <tr>\n      <th>7</th>\n      <td>202107</td>\n      <td>경기도</td>\n      <td>전체(시 / 군 / 구)</td>\n      <td>농사용</td>\n      <td>243,302</td>\n      <td>201,755,643</td>\n      <td>9,359,576,067</td>\n      <td>46.4</td>\n    </tr>\n    <tr>\n      <th>8</th>\n      <td>202107</td>\n      <td>경기도</td>\n      <td>전체(시 / 군 / 구)</td>\n      <td>가로등</td>\n      <td>383,996</td>\n      <td>59,426,855</td>\n      <td>7,260,993,046</td>\n      <td>122.2</td>\n    </tr>\n    <tr>\n      <th>9</th>\n      <td>202107</td>\n      <td>경기도</td>\n      <td>전체(시 / 군 / 구)</td>\n      <td>심 야</td>\n      <td>131,843</td>\n      <td>81,797,473</td>\n      <td>4,954,468,299</td>\n      <td>60.6</td>\n    </tr>\n    <tr>\n      <th>10</th>\n      <td>202108</td>\n      <td>경기도</td>\n      <td>전체(시 / 군 / 구)</td>\n      <td>주택용</td>\n      <td>3,041,871</td>\n      <td>2,511,649,699</td>\n      <td>315,592,950,250</td>\n      <td>125.7</td>\n    </tr>\n    <tr>\n      <th>11</th>\n      <td>202108</td>\n      <td>경기도</td>\n      <td>전체(시 / 군 / 구)</td>\n      <td>일반용</td>\n      <td>719,476</td>\n      <td>3,112,985,345</td>\n      <td>423,363,461,941</td>\n      <td>136.0</td>\n    </tr>\n    <tr>\n      <th>12</th>\n      <td>202108</td>\n      <td>경기도</td>\n      <td>전체(시 / 군 / 구)</td>\n      <td>교육용</td>\n      <td>4,545</td>\n      <td>105,598,376</td>\n      <td>13,285,862,822</td>\n      <td>125.8</td>\n    </tr>\n    <tr>\n      <th>13</th>\n      <td>202108</td>\n      <td>경기도</td>\n      <td>전체(시 / 군 / 구)</td>\n      <td>산업용</td>\n      <td>134,577</td>\n      <td>6,063,789,222</td>\n      <td>717,268,856,797</td>\n      <td>118.3</td>\n    </tr>\n    <tr>\n      <th>14</th>\n      <td>202108</td>\n      <td>경기도</td>\n      <td>전체(시 / 군 / 구)</td>\n      <td>농사용</td>\n      <td>244,334</td>\n      <td>271,162,937</td>\n      <td>11,877,151,797</td>\n      <td>43.8</td>\n    </tr>\n    <tr>\n      <th>15</th>\n      <td>202108</td>\n      <td>경기도</td>\n      <td>전체(시 / 군 / 구)</td>\n      <td>가로등</td>\n      <td>376,845</td>\n      <td>62,722,219</td>\n      <td>7,436,639,617</td>\n      <td>118.6</td>\n    </tr>\n    <tr>\n      <th>16</th>\n      <td>202108</td>\n      <td>경기도</td>\n      <td>전체(시 / 군 / 구)</td>\n      <td>심 야</td>\n      <td>131,375</td>\n      <td>68,455,803</td>\n      <td>4,289,558,169</td>\n      <td>62.7</td>\n    </tr>\n    <tr>\n      <th>17</th>\n      <td>202109</td>\n      <td>경기도</td>\n      <td>전체(시 / 군 / 구)</td>\n      <td>주택용</td>\n      <td>3,044,509</td>\n      <td>1,872,278,185</td>\n      <td>200,059,999,847</td>\n      <td>106.9</td>\n    </tr>\n    <tr>\n      <th>18</th>\n      <td>202109</td>\n      <td>경기도</td>\n      <td>전체(시 / 군 / 구)</td>\n      <td>일반용</td>\n      <td>721,242</td>\n      <td>2,660,036,358</td>\n      <td>322,790,879,469</td>\n      <td>121.3</td>\n    </tr>\n    <tr>\n      <th>19</th>\n      <td>202109</td>\n      <td>경기도</td>\n      <td>전체(시 / 군 / 구)</td>\n      <td>교육용</td>\n      <td>4,556</td>\n      <td>115,539,718</td>\n      <td>12,331,727,495</td>\n      <td>106.7</td>\n    </tr>\n    <tr>\n      <th>20</th>\n      <td>202109</td>\n      <td>경기도</td>\n      <td>전체(시 / 군 / 구)</td>\n      <td>산업용</td>\n      <td>134,720</td>\n      <td>6,347,017,254</td>\n      <td>607,401,955,202</td>\n      <td>95.7</td>\n    </tr>\n    <tr>\n      <th>21</th>\n      <td>202109</td>\n      <td>경기도</td>\n      <td>전체(시 / 군 / 구)</td>\n      <td>농사용</td>\n      <td>245,466</td>\n      <td>245,057,885</td>\n      <td>11,171,068,413</td>\n      <td>45.6</td>\n    </tr>\n    <tr>\n      <th>22</th>\n      <td>202109</td>\n      <td>경기도</td>\n      <td>전체(시 / 군 / 구)</td>\n      <td>가로등</td>\n      <td>377,445</td>\n      <td>65,463,460</td>\n      <td>7,579,481,497</td>\n      <td>115.8</td>\n    </tr>\n    <tr>\n      <th>23</th>\n      <td>202109</td>\n      <td>경기도</td>\n      <td>전체(시 / 군 / 구)</td>\n      <td>심 야</td>\n      <td>130,965</td>\n      <td>66,406,115</td>\n      <td>3,941,944,443</td>\n      <td>59.4</td>\n    </tr>\n    <tr>\n      <th>24</th>\n      <td>202110</td>\n      <td>경기도</td>\n      <td>전체(시 / 군 / 구)</td>\n      <td>주택용</td>\n      <td>3,046,558</td>\n      <td>1,610,660,770</td>\n      <td>174,996,758,202</td>\n      <td>108.6</td>\n    </tr>\n    <tr>\n      <th>25</th>\n      <td>202110</td>\n      <td>경기도</td>\n      <td>전체(시 / 군 / 구)</td>\n      <td>일반용</td>\n      <td>722,865</td>\n      <td>2,381,610,005</td>\n      <td>269,759,272,023</td>\n      <td>113.3</td>\n    </tr>\n    <tr>\n      <th>26</th>\n      <td>202110</td>\n      <td>경기도</td>\n      <td>전체(시 / 군 / 구)</td>\n      <td>교육용</td>\n      <td>4,556</td>\n      <td>101,182,166</td>\n      <td>9,917,689,719</td>\n      <td>98.0</td>\n    </tr>\n    <tr>\n      <th>27</th>\n      <td>202110</td>\n      <td>경기도</td>\n      <td>전체(시 / 군 / 구)</td>\n      <td>산업용</td>\n      <td>134,818</td>\n      <td>5,947,082,694</td>\n      <td>562,497,537,488</td>\n      <td>94.6</td>\n    </tr>\n    <tr>\n      <th>28</th>\n      <td>202110</td>\n      <td>경기도</td>\n      <td>전체(시 / 군 / 구)</td>\n      <td>농사용</td>\n      <td>246,040</td>\n      <td>200,796,084</td>\n      <td>10,135,351,271</td>\n      <td>50.5</td>\n    </tr>\n    <tr>\n      <th>29</th>\n      <td>202110</td>\n      <td>경기도</td>\n      <td>전체(시 / 군 / 구)</td>\n      <td>가로등</td>\n      <td>377,758</td>\n      <td>69,304,987</td>\n      <td>7,930,856,318</td>\n      <td>114.4</td>\n    </tr>\n    <tr>\n      <th>30</th>\n      <td>202110</td>\n      <td>경기도</td>\n      <td>전체(시 / 군 / 구)</td>\n      <td>심 야</td>\n      <td>130,568</td>\n      <td>76,568,416</td>\n      <td>4,586,809,475</td>\n      <td>59.9</td>\n    </tr>\n    <tr>\n      <th>31</th>\n      <td>202111</td>\n      <td>경기도</td>\n      <td>전체(시 / 군 / 구)</td>\n      <td>주택용</td>\n      <td>3,050,072</td>\n      <td>1,644,356,650</td>\n      <td>182,463,710,309</td>\n      <td>111.0</td>\n    </tr>\n    <tr>\n      <th>32</th>\n      <td>202111</td>\n      <td>경기도</td>\n      <td>전체(시 / 군 / 구)</td>\n      <td>일반용</td>\n      <td>726,347</td>\n      <td>2,410,257,512</td>\n      <td>314,848,635,774</td>\n      <td>130.6</td>\n    </tr>\n    <tr>\n      <th>33</th>\n      <td>202111</td>\n      <td>경기도</td>\n      <td>전체(시 / 군 / 구)</td>\n      <td>교육용</td>\n      <td>4,551</td>\n      <td>127,717,274</td>\n      <td>14,056,320,173</td>\n      <td>110.1</td>\n    </tr>\n    <tr>\n      <th>34</th>\n      <td>202111</td>\n      <td>경기도</td>\n      <td>전체(시 / 군 / 구)</td>\n      <td>산업용</td>\n      <td>134,989</td>\n      <td>6,053,755,893</td>\n      <td>706,827,324,427</td>\n      <td>116.8</td>\n    </tr>\n    <tr>\n      <th>35</th>\n      <td>202111</td>\n      <td>경기도</td>\n      <td>전체(시 / 군 / 구)</td>\n      <td>농사용</td>\n      <td>317,715</td>\n      <td>270,293,134</td>\n      <td>11,962,852,054</td>\n      <td>44.3</td>\n    </tr>\n    <tr>\n      <th>36</th>\n      <td>202111</td>\n      <td>경기도</td>\n      <td>전체(시 / 군 / 구)</td>\n      <td>가로등</td>\n      <td>379,036</td>\n      <td>74,505,337</td>\n      <td>8,341,986,582</td>\n      <td>112.0</td>\n    </tr>\n    <tr>\n      <th>37</th>\n      <td>202111</td>\n      <td>경기도</td>\n      <td>전체(시 / 군 / 구)</td>\n      <td>심 야</td>\n      <td>130,200</td>\n      <td>180,178,706</td>\n      <td>11,712,110,962</td>\n      <td>65.0</td>\n    </tr>\n    <tr>\n      <th>38</th>\n      <td>202112</td>\n      <td>경기도</td>\n      <td>전체(시 / 군 / 구)</td>\n      <td>주택용</td>\n      <td>3,052,729</td>\n      <td>1,707,194,102</td>\n      <td>194,270,284,122</td>\n      <td>113.8</td>\n    </tr>\n    <tr>\n      <th>39</th>\n      <td>202112</td>\n      <td>경기도</td>\n      <td>전체(시 / 군 / 구)</td>\n      <td>일반용</td>\n      <td>730,332</td>\n      <td>2,831,898,326</td>\n      <td>381,336,064,002</td>\n      <td>134.7</td>\n    </tr>\n    <tr>\n      <th>40</th>\n      <td>202112</td>\n      <td>경기도</td>\n      <td>전체(시 / 군 / 구)</td>\n      <td>교육용</td>\n      <td>4,551</td>\n      <td>186,343,716</td>\n      <td>18,479,810,461</td>\n      <td>99.2</td>\n    </tr>\n    <tr>\n      <th>41</th>\n      <td>202112</td>\n      <td>경기도</td>\n      <td>전체(시 / 군 / 구)</td>\n      <td>산업용</td>\n      <td>135,144</td>\n      <td>6,467,087,422</td>\n      <td>763,154,701,788</td>\n      <td>118.0</td>\n    </tr>\n    <tr>\n      <th>42</th>\n      <td>202112</td>\n      <td>경기도</td>\n      <td>전체(시 / 군 / 구)</td>\n      <td>농사용</td>\n      <td>254,493</td>\n      <td>253,005,538</td>\n      <td>12,269,499,277</td>\n      <td>48.5</td>\n    </tr>\n    <tr>\n      <th>43</th>\n      <td>202112</td>\n      <td>경기도</td>\n      <td>전체(시 / 군 / 구)</td>\n      <td>가로등</td>\n      <td>380,334</td>\n      <td>77,476,442</td>\n      <td>8,508,490,336</td>\n      <td>109.8</td>\n    </tr>\n    <tr>\n      <th>44</th>\n      <td>202112</td>\n      <td>경기도</td>\n      <td>전체(시 / 군 / 구)</td>\n      <td>심 야</td>\n      <td>129,685</td>\n      <td>280,940,389</td>\n      <td>21,300,234,474</td>\n      <td>75.8</td>\n    </tr>\n    <tr>\n      <th>45</th>\n      <td>합계</td>\n      <td>합계</td>\n      <td>합계</td>\n      <td>합계</td>\n      <td>28,060,577</td>\n      <td>68,117,830,470</td>\n      <td>7,751,200,871,198</td>\n      <td>113.8</td>\n    </tr>\n  </tbody>\n</table>\n</div>"
     },
     "execution_count": 22,
     "metadata": {},
     "output_type": "execute_result"
    }
   ],
   "source": [
    "df_2 = df.loc[:45]\n",
    "df_2\n"
   ],
   "metadata": {
    "collapsed": false,
    "pycharm": {
     "name": "#%%\n"
    }
   }
  },
  {
   "cell_type": "code",
   "execution_count": 23,
   "outputs": [
    {
     "name": "stderr",
     "output_type": "stream",
     "text": [
      "C:\\Users\\user\\AppData\\Local\\Temp\\ipykernel_15168\\3551721261.py:3: SettingWithCopyWarning: \n",
      "A value is trying to be set on a copy of a slice from a DataFrame\n",
      "\n",
      "See the caveats in the documentation: https://pandas.pydata.org/pandas-docs/stable/user_guide/indexing.html#returning-a-view-versus-a-copy\n",
      "  GyeonGi.drop(['시군구' , '전기요금(원)' , '평균판매단가(원/kWh)'] , axis = 1 , inplace = True)\n"
     ]
    },
    {
     "data": {
      "text/plain": "        년월   시구 계약구분   고객호수(호)        사용량(kWh)\n4   202107  경기도  일반용  717,133   2,818,435,785 \n11  202108  경기도  일반용  719,476   3,112,985,345 \n18  202109  경기도  일반용  721,242   2,660,036,358 \n25  202110  경기도  일반용  722,865   2,381,610,005 \n32  202111  경기도  일반용  726,347   2,410,257,512 \n39  202112  경기도  일반용  730,332   2,831,898,326 ",
      "text/html": "<div>\n<style scoped>\n    .dataframe tbody tr th:only-of-type {\n        vertical-align: middle;\n    }\n\n    .dataframe tbody tr th {\n        vertical-align: top;\n    }\n\n    .dataframe thead th {\n        text-align: right;\n    }\n</style>\n<table border=\"1\" class=\"dataframe\">\n  <thead>\n    <tr style=\"text-align: right;\">\n      <th></th>\n      <th>년월</th>\n      <th>시구</th>\n      <th>계약구분</th>\n      <th>고객호수(호)</th>\n      <th>사용량(kWh)</th>\n    </tr>\n  </thead>\n  <tbody>\n    <tr>\n      <th>4</th>\n      <td>202107</td>\n      <td>경기도</td>\n      <td>일반용</td>\n      <td>717,133</td>\n      <td>2,818,435,785</td>\n    </tr>\n    <tr>\n      <th>11</th>\n      <td>202108</td>\n      <td>경기도</td>\n      <td>일반용</td>\n      <td>719,476</td>\n      <td>3,112,985,345</td>\n    </tr>\n    <tr>\n      <th>18</th>\n      <td>202109</td>\n      <td>경기도</td>\n      <td>일반용</td>\n      <td>721,242</td>\n      <td>2,660,036,358</td>\n    </tr>\n    <tr>\n      <th>25</th>\n      <td>202110</td>\n      <td>경기도</td>\n      <td>일반용</td>\n      <td>722,865</td>\n      <td>2,381,610,005</td>\n    </tr>\n    <tr>\n      <th>32</th>\n      <td>202111</td>\n      <td>경기도</td>\n      <td>일반용</td>\n      <td>726,347</td>\n      <td>2,410,257,512</td>\n    </tr>\n    <tr>\n      <th>39</th>\n      <td>202112</td>\n      <td>경기도</td>\n      <td>일반용</td>\n      <td>730,332</td>\n      <td>2,831,898,326</td>\n    </tr>\n  </tbody>\n</table>\n</div>"
     },
     "execution_count": 23,
     "metadata": {},
     "output_type": "execute_result"
    }
   ],
   "source": [
    "GyeonGi  = df_2.loc[(df_2['계약구분'] == '일반용')]\n",
    "#SEOUL = df_3.loc[(df_3['계약구분'] =='일반용')]\n",
    "GyeonGi.drop(['시군구' , '전기요금(원)' , '평균판매단가(원/kWh)'] , axis = 1 , inplace = True)\n",
    "GyeonGi"
   ],
   "metadata": {
    "collapsed": false,
    "pycharm": {
     "name": "#%%\n"
    }
   }
  },
  {
   "cell_type": "code",
   "execution_count": 24,
   "outputs": [],
   "source": [
    "#SEOUL1.to_csv(\"서울특별시_계약종별_전국_전력사용량_2022.csv\" , mode = 'w' , encoding= 'cp949')"
   ],
   "metadata": {
    "collapsed": false,
    "pycharm": {
     "name": "#%%\n"
    }
   }
  },
  {
   "cell_type": "code",
   "execution_count": 25,
   "outputs": [],
   "source": [
    "#df_2.to_csv(\"서울특별시_계약종별_전국_전력사용량.csv\" , mode = 'w' , encoding= 'cp949')"
   ],
   "metadata": {
    "collapsed": false,
    "pycharm": {
     "name": "#%%\n"
    }
   }
  },
  {
   "cell_type": "code",
   "execution_count": 26,
   "outputs": [
    {
     "data": {
      "text/plain": "          년월   시구  시군구 계약구분  고객호수(호)      사용량(kWh)\n53    202107  경기도  가평군  일반용  10,939    28,159,566 \n301   202108  경기도  가평군  일반용  10,998    32,256,862 \n549   202109  경기도  가평군  일반용  11,004    26,824,833 \n797   202110  경기도  가평군  일반용  11,005    24,804,280 \n1045  202111  경기도  가평군  일반용  11,053    29,566,815 \n...      ...  ...  ...  ...      ...           ...\n541   202108  경기도  화성시  일반용  48,575   248,166,088 \n789   202109  경기도  화성시  일반용  48,715   214,371,962 \n1037  202110  경기도  화성시  일반용  48,877   197,517,377 \n1285  202111  경기도  화성시  일반용  49,178   196,416,006 \n1533  202112  경기도  화성시  일반용  49,518   222,509,014 \n\n[186 rows x 6 columns]",
      "text/html": "<div>\n<style scoped>\n    .dataframe tbody tr th:only-of-type {\n        vertical-align: middle;\n    }\n\n    .dataframe tbody tr th {\n        vertical-align: top;\n    }\n\n    .dataframe thead th {\n        text-align: right;\n    }\n</style>\n<table border=\"1\" class=\"dataframe\">\n  <thead>\n    <tr style=\"text-align: right;\">\n      <th></th>\n      <th>년월</th>\n      <th>시구</th>\n      <th>시군구</th>\n      <th>계약구분</th>\n      <th>고객호수(호)</th>\n      <th>사용량(kWh)</th>\n    </tr>\n  </thead>\n  <tbody>\n    <tr>\n      <th>53</th>\n      <td>202107</td>\n      <td>경기도</td>\n      <td>가평군</td>\n      <td>일반용</td>\n      <td>10,939</td>\n      <td>28,159,566</td>\n    </tr>\n    <tr>\n      <th>301</th>\n      <td>202108</td>\n      <td>경기도</td>\n      <td>가평군</td>\n      <td>일반용</td>\n      <td>10,998</td>\n      <td>32,256,862</td>\n    </tr>\n    <tr>\n      <th>549</th>\n      <td>202109</td>\n      <td>경기도</td>\n      <td>가평군</td>\n      <td>일반용</td>\n      <td>11,004</td>\n      <td>26,824,833</td>\n    </tr>\n    <tr>\n      <th>797</th>\n      <td>202110</td>\n      <td>경기도</td>\n      <td>가평군</td>\n      <td>일반용</td>\n      <td>11,005</td>\n      <td>24,804,280</td>\n    </tr>\n    <tr>\n      <th>1045</th>\n      <td>202111</td>\n      <td>경기도</td>\n      <td>가평군</td>\n      <td>일반용</td>\n      <td>11,053</td>\n      <td>29,566,815</td>\n    </tr>\n    <tr>\n      <th>...</th>\n      <td>...</td>\n      <td>...</td>\n      <td>...</td>\n      <td>...</td>\n      <td>...</td>\n      <td>...</td>\n    </tr>\n    <tr>\n      <th>541</th>\n      <td>202108</td>\n      <td>경기도</td>\n      <td>화성시</td>\n      <td>일반용</td>\n      <td>48,575</td>\n      <td>248,166,088</td>\n    </tr>\n    <tr>\n      <th>789</th>\n      <td>202109</td>\n      <td>경기도</td>\n      <td>화성시</td>\n      <td>일반용</td>\n      <td>48,715</td>\n      <td>214,371,962</td>\n    </tr>\n    <tr>\n      <th>1037</th>\n      <td>202110</td>\n      <td>경기도</td>\n      <td>화성시</td>\n      <td>일반용</td>\n      <td>48,877</td>\n      <td>197,517,377</td>\n    </tr>\n    <tr>\n      <th>1285</th>\n      <td>202111</td>\n      <td>경기도</td>\n      <td>화성시</td>\n      <td>일반용</td>\n      <td>49,178</td>\n      <td>196,416,006</td>\n    </tr>\n    <tr>\n      <th>1533</th>\n      <td>202112</td>\n      <td>경기도</td>\n      <td>화성시</td>\n      <td>일반용</td>\n      <td>49,518</td>\n      <td>222,509,014</td>\n    </tr>\n  </tbody>\n</table>\n<p>186 rows × 6 columns</p>\n</div>"
     },
     "execution_count": 26,
     "metadata": {},
     "output_type": "execute_result"
    }
   ],
   "source": [
    "df_3 = df.loc[48:]\n",
    "df_3 = df_3.loc[(df_3['계약구분'] == '일반용')]\n",
    "df_3 = df_3.sort_values(by=['시군구' , '년월'])\n",
    "df_3.drop(['전기요금(원)',   '평균판매단가(원/kWh)'] , axis = 1 , inplace = True)\n",
    "df_3"
   ],
   "metadata": {
    "collapsed": false,
    "pycharm": {
     "name": "#%%\n"
    }
   }
  },
  {
   "cell_type": "code",
   "execution_count": 27,
   "outputs": [
    {
     "data": {
      "text/plain": "'경기도'"
     },
     "execution_count": 27,
     "metadata": {},
     "output_type": "execute_result"
    }
   ],
   "source": [
    "a = df_3.loc[: , \"시구\"]\n",
    "b = a[:1].tolist()\n",
    "for i in b:\n",
    "    City = i\n",
    "City"
   ],
   "metadata": {
    "collapsed": false,
    "pycharm": {
     "name": "#%%\n"
    }
   }
  },
  {
   "cell_type": "code",
   "execution_count": 28,
   "outputs": [
    {
     "data": {
      "text/plain": "['가평군',\n '고양시',\n '과천시',\n '광명시',\n '광주시',\n '구리시',\n '군포시',\n '김포시',\n '남양주시',\n '동두천시',\n '부천시',\n '성남시',\n '수원시',\n '시흥시',\n '안산시',\n '안성시',\n '안양시',\n '양주시',\n '양평군',\n '여주시',\n '연천군',\n '오산시',\n '용인시',\n '의왕시',\n '의정부시',\n '이천시',\n '파주시',\n '평택시',\n '포천시',\n '하남시',\n '화성시']"
     },
     "execution_count": 28,
     "metadata": {},
     "output_type": "execute_result"
    }
   ],
   "source": [
    "\n",
    "SIGUNGU = list(set(df_3.loc[: , '시군구'].tolist()))\n",
    "SIGUNGU.sort()\n",
    "SIGUNGU"
   ],
   "metadata": {
    "collapsed": false,
    "pycharm": {
     "name": "#%%\n"
    }
   }
  },
  {
   "cell_type": "code",
   "execution_count": 29,
   "outputs": [
    {
     "data": {
      "text/plain": "          년월   시구  시군구 계약구분   고객호수(호)        사용량(kWh)\n55    202107  경기도  가평군   합계   70,564      50,439,021 \n303   202108  경기도  가평군   합계   70,762      57,296,331 \n551   202109  경기도  가평군   합계   70,974      50,307,795 \n799   202110  경기도  가평군   합계   71,054      47,524,967 \n1047  202111  경기도  가평군   합계   72,307      58,203,498 \n...      ...  ...  ...  ...       ...             ...\n543   202108  경기도  화성시   합계  283,239   1,839,533,346 \n791   202109  경기도  화성시   합계  283,875   1,716,594,160 \n1039  202110  경기도  화성시   합계  284,410   1,634,536,863 \n1287  202111  경기도  화성시   합계  291,431   1,670,443,098 \n1535  202112  경기도  화성시   합계  293,348   1,792,576,987 \n\n[186 rows x 6 columns]",
      "text/html": "<div>\n<style scoped>\n    .dataframe tbody tr th:only-of-type {\n        vertical-align: middle;\n    }\n\n    .dataframe tbody tr th {\n        vertical-align: top;\n    }\n\n    .dataframe thead th {\n        text-align: right;\n    }\n</style>\n<table border=\"1\" class=\"dataframe\">\n  <thead>\n    <tr style=\"text-align: right;\">\n      <th></th>\n      <th>년월</th>\n      <th>시구</th>\n      <th>시군구</th>\n      <th>계약구분</th>\n      <th>고객호수(호)</th>\n      <th>사용량(kWh)</th>\n    </tr>\n  </thead>\n  <tbody>\n    <tr>\n      <th>55</th>\n      <td>202107</td>\n      <td>경기도</td>\n      <td>가평군</td>\n      <td>합계</td>\n      <td>70,564</td>\n      <td>50,439,021</td>\n    </tr>\n    <tr>\n      <th>303</th>\n      <td>202108</td>\n      <td>경기도</td>\n      <td>가평군</td>\n      <td>합계</td>\n      <td>70,762</td>\n      <td>57,296,331</td>\n    </tr>\n    <tr>\n      <th>551</th>\n      <td>202109</td>\n      <td>경기도</td>\n      <td>가평군</td>\n      <td>합계</td>\n      <td>70,974</td>\n      <td>50,307,795</td>\n    </tr>\n    <tr>\n      <th>799</th>\n      <td>202110</td>\n      <td>경기도</td>\n      <td>가평군</td>\n      <td>합계</td>\n      <td>71,054</td>\n      <td>47,524,967</td>\n    </tr>\n    <tr>\n      <th>1047</th>\n      <td>202111</td>\n      <td>경기도</td>\n      <td>가평군</td>\n      <td>합계</td>\n      <td>72,307</td>\n      <td>58,203,498</td>\n    </tr>\n    <tr>\n      <th>...</th>\n      <td>...</td>\n      <td>...</td>\n      <td>...</td>\n      <td>...</td>\n      <td>...</td>\n      <td>...</td>\n    </tr>\n    <tr>\n      <th>543</th>\n      <td>202108</td>\n      <td>경기도</td>\n      <td>화성시</td>\n      <td>합계</td>\n      <td>283,239</td>\n      <td>1,839,533,346</td>\n    </tr>\n    <tr>\n      <th>791</th>\n      <td>202109</td>\n      <td>경기도</td>\n      <td>화성시</td>\n      <td>합계</td>\n      <td>283,875</td>\n      <td>1,716,594,160</td>\n    </tr>\n    <tr>\n      <th>1039</th>\n      <td>202110</td>\n      <td>경기도</td>\n      <td>화성시</td>\n      <td>합계</td>\n      <td>284,410</td>\n      <td>1,634,536,863</td>\n    </tr>\n    <tr>\n      <th>1287</th>\n      <td>202111</td>\n      <td>경기도</td>\n      <td>화성시</td>\n      <td>합계</td>\n      <td>291,431</td>\n      <td>1,670,443,098</td>\n    </tr>\n    <tr>\n      <th>1535</th>\n      <td>202112</td>\n      <td>경기도</td>\n      <td>화성시</td>\n      <td>합계</td>\n      <td>293,348</td>\n      <td>1,792,576,987</td>\n    </tr>\n  </tbody>\n</table>\n<p>186 rows × 6 columns</p>\n</div>"
     },
     "execution_count": 29,
     "metadata": {},
     "output_type": "execute_result"
    }
   ],
   "source": [
    "df_4 = df.loc[48:]\n",
    "df_4 = df_4.loc[(df_4['계약구분'] == '합계')]\n",
    "df_4 = df_4.sort_values(by=['시군구' , '년월'])\n",
    "df_4.drop(['전기요금(원)',   '평균판매단가(원/kWh)'] , axis = 1 , inplace = True)\n",
    "df_4"
   ],
   "metadata": {
    "collapsed": false,
    "pycharm": {
     "name": "#%%\n"
    }
   }
  },
  {
   "cell_type": "code",
   "execution_count": 30,
   "outputs": [
    {
     "name": "stdout",
     "output_type": "stream",
     "text": [
      "[50439021, 57296331, 50307795, 47524967, 58203498, 69506330]\n",
      "[424095279, 487867544, 401433572, 358286760, 372991744, 444563909]\n",
      "[36040906, 40265822, 33266036, 30083875, 31682548, 35822808]\n",
      "[99741072, 110606364, 88895324, 80461167, 84175133, 99058052]\n",
      "[219033952, 248480390, 219289107, 196543676, 223602089, 255527156]\n",
      "[74735838, 84911294, 68238705, 61068662, 61700088, 69717971]\n",
      "[131390776, 149104096, 128031840, 113535303, 117476448, 132126325]\n",
      "[349377875, 386942415, 356486480, 314190560, 349141859, 392816368]\n",
      "[286221088, 336344677, 282241359, 251520519, 271044282, 305821143]\n",
      "[56210141, 61959780, 54218309, 47931511, 53531155, 59728599]\n",
      "[386064908, 435073952, 365235188, 319061842, 329241491, 365934961]\n",
      "[514690965, 562604073, 466950657, 420035761, 417504414, 463743952]\n",
      "[553189207, 624252012, 514806759, 462856877, 460373767, 509901541]\n",
      "[414332984, 444151162, 390919972, 362577070, 385358584, 424410718]\n",
      "[731536193, 754313842, 675686439, 638104249, 647268190, 702077653]\n",
      "[287260503, 304725548, 279789164, 257668934, 282490348, 309480606]\n",
      "[260235944, 294171200, 248746763, 223238716, 224590440, 249184740]\n",
      "[183809855, 192770838, 181061495, 167049500, 196837834, 220525956]\n",
      "[65100774, 76930746, 67953335, 63218644, 83783884, 97598354]\n",
      "[109052782, 123088581, 109047043, 101369699, 124975610, 135565232]\n",
      "[44753963, 50385808, 45491322, 41682695, 51820349, 56655627]\n",
      "[127799880, 146046747, 125226235, 111743247, 113286274, 123807595]\n",
      "[933257803, 1010489019, 889769614, 848501055, 859813839, 930016260]\n",
      "[69598222, 80189745, 69323177, 62528033, 65061324, 73517906]\n",
      "[152835935, 185156826, 150872713, 130266516, 136970064, 153969847]\n",
      "[715224947, 467422597, 953090097, 681489710, 693686913, 737039985]\n",
      "[807943751, 840285071, 776486143, 740866828, 759064271, 810386236]\n",
      "[1343929805, 1394010200, 1288847462, 1283719875, 1257031027, 1359306286]\n",
      "[208221571, 221972378, 215276397, 193230171, 234106373, 264244837]\n",
      "[167027305, 185011197, 158216313, 142311837, 143807568, 159311995]\n",
      "[1794299086, 1839533346, 1716594160, 1634536863, 1670443098, 1792576987]\n",
      "경기도 지역별 합계 :  [333277942, 2489238808, 207161995, 562937112, 1362476370, 420372558, 771664788, 2148955557, 1733193068, 333579495, 2200612342, 2845529822, 3125380163, 2421750490, 4148986566, 1721415103, 1500167803, 1142055478, 454585737, 703098947, 290789764, 747909978, 5471847590, 420218407, 910071901, 4247954249, 4735032300, 7926844655, 1337051727, 955686215, 10447983540]\n",
      "경기도 고객호수 평균:  [11865, 41034, 2740, 10349, 33093, 8826, 10861, 22570, 33592, 7297, 48263, 44567, 62253, 28254, 48968, 23261, 21912, 16021, 21149, 16700, 8057, 12452, 43805, 5661, 20283, 23770, 30393, 42662, 21383, 9668, 47738]\n"
     ]
    }
   ],
   "source": [
    "sum2 , sum3 =[] , []\n",
    "for k in SIGUNGU:\n",
    "    GyeonGiHap = pd.DataFrame([] , columns = a)\n",
    "    HOSU = pd.DataFrame([], columns = a)\n",
    "    GyeonGiHap['사용량']= df_4['사용량(kWh)'].loc[(df_4['시군구'] == '{}'.format(k))]\n",
    "    HOSU['고객호수']= df_4['고객호수(호)'].loc[(df_4['시군구'] == '{}'.format(k))]\n",
    "    #경기합 데이터프레임의 사용량 열에 기군구가 가평군인 사용량 데이터만 뽑아내기\n",
    "    # GyeonGiHap = GyeonGiHap['사용량']\n",
    "\n",
    "    b = GyeonGiHap['사용량'].tolist()\n",
    "    c = HOSU['고객호수'].tolist()\n",
    "\n",
    "\n",
    "    #각지역별 사용량 리스트화\n",
    "    int_list  , int_list2=[] , []\n",
    "    for i in b:\n",
    "        i = re.sub(\",\" , \"\" , i)\n",
    "        #콤마 없애기\n",
    "        int_list.append(int(i))\n",
    "        #int_list에 각지역별 사용량 int로 저장\n",
    "    print(int_list)\n",
    "    sum=0\n",
    "    for i in c:\n",
    "        i = re.sub(\",\" , \"\" , i)\n",
    "        int_list2.append(int(i))\n",
    "\n",
    "    for j in int_list:\n",
    "\n",
    "        sum+= j\n",
    "    sum2.append(sum)\n",
    "    sum = 0\n",
    "    for j in int_list2: #고객호수 추출하여 더하기\n",
    "\n",
    "        sum+= j\n",
    "    sum3.append(sum//36) #6개월 치로 나눠야하나?!\n",
    "\n",
    "\n",
    "\n",
    "\n",
    "print(\"{} 지역별 합계 : \".format(City) , sum2)\n",
    "print(\"{} 고객호수 평균: \".format(City) , sum3)"
   ],
   "metadata": {
    "collapsed": false,
    "pycharm": {
     "name": "#%%\n"
    }
   }
  },
  {
   "cell_type": "markdown",
   "source": [
    "### 2. 날짜 체크!!!!!!!!!!!!!!!!!!!!!!!!!!!!!!!!!!!!!!!!!!!!!!"
   ],
   "metadata": {
    "collapsed": false,
    "pycharm": {
     "name": "#%% md\n"
    }
   }
  },
  {
   "cell_type": "code",
   "execution_count": 31,
   "outputs": [
    {
     "name": "stderr",
     "output_type": "stream",
     "text": [
      "C:\\Users\\user\\AppData\\Local\\Temp\\ipykernel_15168\\895775541.py:4: FutureWarning: The frame.append method is deprecated and will be removed from pandas in a future version. Use pandas.concat instead.\n",
      "  Hap = Hap.append({'년월' :'202107-202112'  , '시구' : '{}'.format(City) , '시군구' : '{}'.format(SIGUNGU[i]) , '계약구분' : '합계' , '고객호수(호)' : sum3[i] ,  '사용량(kWh)' : sum2[i]} , ignore_index=True) #년월 파일마다 수정하기\n",
      "C:\\Users\\user\\AppData\\Local\\Temp\\ipykernel_15168\\895775541.py:4: FutureWarning: The frame.append method is deprecated and will be removed from pandas in a future version. Use pandas.concat instead.\n",
      "  Hap = Hap.append({'년월' :'202107-202112'  , '시구' : '{}'.format(City) , '시군구' : '{}'.format(SIGUNGU[i]) , '계약구분' : '합계' , '고객호수(호)' : sum3[i] ,  '사용량(kWh)' : sum2[i]} , ignore_index=True) #년월 파일마다 수정하기\n",
      "C:\\Users\\user\\AppData\\Local\\Temp\\ipykernel_15168\\895775541.py:4: FutureWarning: The frame.append method is deprecated and will be removed from pandas in a future version. Use pandas.concat instead.\n",
      "  Hap = Hap.append({'년월' :'202107-202112'  , '시구' : '{}'.format(City) , '시군구' : '{}'.format(SIGUNGU[i]) , '계약구분' : '합계' , '고객호수(호)' : sum3[i] ,  '사용량(kWh)' : sum2[i]} , ignore_index=True) #년월 파일마다 수정하기\n",
      "C:\\Users\\user\\AppData\\Local\\Temp\\ipykernel_15168\\895775541.py:4: FutureWarning: The frame.append method is deprecated and will be removed from pandas in a future version. Use pandas.concat instead.\n",
      "  Hap = Hap.append({'년월' :'202107-202112'  , '시구' : '{}'.format(City) , '시군구' : '{}'.format(SIGUNGU[i]) , '계약구분' : '합계' , '고객호수(호)' : sum3[i] ,  '사용량(kWh)' : sum2[i]} , ignore_index=True) #년월 파일마다 수정하기\n",
      "C:\\Users\\user\\AppData\\Local\\Temp\\ipykernel_15168\\895775541.py:4: FutureWarning: The frame.append method is deprecated and will be removed from pandas in a future version. Use pandas.concat instead.\n",
      "  Hap = Hap.append({'년월' :'202107-202112'  , '시구' : '{}'.format(City) , '시군구' : '{}'.format(SIGUNGU[i]) , '계약구분' : '합계' , '고객호수(호)' : sum3[i] ,  '사용량(kWh)' : sum2[i]} , ignore_index=True) #년월 파일마다 수정하기\n",
      "C:\\Users\\user\\AppData\\Local\\Temp\\ipykernel_15168\\895775541.py:4: FutureWarning: The frame.append method is deprecated and will be removed from pandas in a future version. Use pandas.concat instead.\n",
      "  Hap = Hap.append({'년월' :'202107-202112'  , '시구' : '{}'.format(City) , '시군구' : '{}'.format(SIGUNGU[i]) , '계약구분' : '합계' , '고객호수(호)' : sum3[i] ,  '사용량(kWh)' : sum2[i]} , ignore_index=True) #년월 파일마다 수정하기\n",
      "C:\\Users\\user\\AppData\\Local\\Temp\\ipykernel_15168\\895775541.py:4: FutureWarning: The frame.append method is deprecated and will be removed from pandas in a future version. Use pandas.concat instead.\n",
      "  Hap = Hap.append({'년월' :'202107-202112'  , '시구' : '{}'.format(City) , '시군구' : '{}'.format(SIGUNGU[i]) , '계약구분' : '합계' , '고객호수(호)' : sum3[i] ,  '사용량(kWh)' : sum2[i]} , ignore_index=True) #년월 파일마다 수정하기\n",
      "C:\\Users\\user\\AppData\\Local\\Temp\\ipykernel_15168\\895775541.py:4: FutureWarning: The frame.append method is deprecated and will be removed from pandas in a future version. Use pandas.concat instead.\n",
      "  Hap = Hap.append({'년월' :'202107-202112'  , '시구' : '{}'.format(City) , '시군구' : '{}'.format(SIGUNGU[i]) , '계약구분' : '합계' , '고객호수(호)' : sum3[i] ,  '사용량(kWh)' : sum2[i]} , ignore_index=True) #년월 파일마다 수정하기\n",
      "C:\\Users\\user\\AppData\\Local\\Temp\\ipykernel_15168\\895775541.py:4: FutureWarning: The frame.append method is deprecated and will be removed from pandas in a future version. Use pandas.concat instead.\n",
      "  Hap = Hap.append({'년월' :'202107-202112'  , '시구' : '{}'.format(City) , '시군구' : '{}'.format(SIGUNGU[i]) , '계약구분' : '합계' , '고객호수(호)' : sum3[i] ,  '사용량(kWh)' : sum2[i]} , ignore_index=True) #년월 파일마다 수정하기\n",
      "C:\\Users\\user\\AppData\\Local\\Temp\\ipykernel_15168\\895775541.py:4: FutureWarning: The frame.append method is deprecated and will be removed from pandas in a future version. Use pandas.concat instead.\n",
      "  Hap = Hap.append({'년월' :'202107-202112'  , '시구' : '{}'.format(City) , '시군구' : '{}'.format(SIGUNGU[i]) , '계약구분' : '합계' , '고객호수(호)' : sum3[i] ,  '사용량(kWh)' : sum2[i]} , ignore_index=True) #년월 파일마다 수정하기\n",
      "C:\\Users\\user\\AppData\\Local\\Temp\\ipykernel_15168\\895775541.py:4: FutureWarning: The frame.append method is deprecated and will be removed from pandas in a future version. Use pandas.concat instead.\n",
      "  Hap = Hap.append({'년월' :'202107-202112'  , '시구' : '{}'.format(City) , '시군구' : '{}'.format(SIGUNGU[i]) , '계약구분' : '합계' , '고객호수(호)' : sum3[i] ,  '사용량(kWh)' : sum2[i]} , ignore_index=True) #년월 파일마다 수정하기\n",
      "C:\\Users\\user\\AppData\\Local\\Temp\\ipykernel_15168\\895775541.py:4: FutureWarning: The frame.append method is deprecated and will be removed from pandas in a future version. Use pandas.concat instead.\n",
      "  Hap = Hap.append({'년월' :'202107-202112'  , '시구' : '{}'.format(City) , '시군구' : '{}'.format(SIGUNGU[i]) , '계약구분' : '합계' , '고객호수(호)' : sum3[i] ,  '사용량(kWh)' : sum2[i]} , ignore_index=True) #년월 파일마다 수정하기\n",
      "C:\\Users\\user\\AppData\\Local\\Temp\\ipykernel_15168\\895775541.py:4: FutureWarning: The frame.append method is deprecated and will be removed from pandas in a future version. Use pandas.concat instead.\n",
      "  Hap = Hap.append({'년월' :'202107-202112'  , '시구' : '{}'.format(City) , '시군구' : '{}'.format(SIGUNGU[i]) , '계약구분' : '합계' , '고객호수(호)' : sum3[i] ,  '사용량(kWh)' : sum2[i]} , ignore_index=True) #년월 파일마다 수정하기\n",
      "C:\\Users\\user\\AppData\\Local\\Temp\\ipykernel_15168\\895775541.py:4: FutureWarning: The frame.append method is deprecated and will be removed from pandas in a future version. Use pandas.concat instead.\n",
      "  Hap = Hap.append({'년월' :'202107-202112'  , '시구' : '{}'.format(City) , '시군구' : '{}'.format(SIGUNGU[i]) , '계약구분' : '합계' , '고객호수(호)' : sum3[i] ,  '사용량(kWh)' : sum2[i]} , ignore_index=True) #년월 파일마다 수정하기\n",
      "C:\\Users\\user\\AppData\\Local\\Temp\\ipykernel_15168\\895775541.py:4: FutureWarning: The frame.append method is deprecated and will be removed from pandas in a future version. Use pandas.concat instead.\n",
      "  Hap = Hap.append({'년월' :'202107-202112'  , '시구' : '{}'.format(City) , '시군구' : '{}'.format(SIGUNGU[i]) , '계약구분' : '합계' , '고객호수(호)' : sum3[i] ,  '사용량(kWh)' : sum2[i]} , ignore_index=True) #년월 파일마다 수정하기\n",
      "C:\\Users\\user\\AppData\\Local\\Temp\\ipykernel_15168\\895775541.py:4: FutureWarning: The frame.append method is deprecated and will be removed from pandas in a future version. Use pandas.concat instead.\n",
      "  Hap = Hap.append({'년월' :'202107-202112'  , '시구' : '{}'.format(City) , '시군구' : '{}'.format(SIGUNGU[i]) , '계약구분' : '합계' , '고객호수(호)' : sum3[i] ,  '사용량(kWh)' : sum2[i]} , ignore_index=True) #년월 파일마다 수정하기\n",
      "C:\\Users\\user\\AppData\\Local\\Temp\\ipykernel_15168\\895775541.py:4: FutureWarning: The frame.append method is deprecated and will be removed from pandas in a future version. Use pandas.concat instead.\n",
      "  Hap = Hap.append({'년월' :'202107-202112'  , '시구' : '{}'.format(City) , '시군구' : '{}'.format(SIGUNGU[i]) , '계약구분' : '합계' , '고객호수(호)' : sum3[i] ,  '사용량(kWh)' : sum2[i]} , ignore_index=True) #년월 파일마다 수정하기\n",
      "C:\\Users\\user\\AppData\\Local\\Temp\\ipykernel_15168\\895775541.py:4: FutureWarning: The frame.append method is deprecated and will be removed from pandas in a future version. Use pandas.concat instead.\n",
      "  Hap = Hap.append({'년월' :'202107-202112'  , '시구' : '{}'.format(City) , '시군구' : '{}'.format(SIGUNGU[i]) , '계약구분' : '합계' , '고객호수(호)' : sum3[i] ,  '사용량(kWh)' : sum2[i]} , ignore_index=True) #년월 파일마다 수정하기\n",
      "C:\\Users\\user\\AppData\\Local\\Temp\\ipykernel_15168\\895775541.py:4: FutureWarning: The frame.append method is deprecated and will be removed from pandas in a future version. Use pandas.concat instead.\n",
      "  Hap = Hap.append({'년월' :'202107-202112'  , '시구' : '{}'.format(City) , '시군구' : '{}'.format(SIGUNGU[i]) , '계약구분' : '합계' , '고객호수(호)' : sum3[i] ,  '사용량(kWh)' : sum2[i]} , ignore_index=True) #년월 파일마다 수정하기\n",
      "C:\\Users\\user\\AppData\\Local\\Temp\\ipykernel_15168\\895775541.py:4: FutureWarning: The frame.append method is deprecated and will be removed from pandas in a future version. Use pandas.concat instead.\n",
      "  Hap = Hap.append({'년월' :'202107-202112'  , '시구' : '{}'.format(City) , '시군구' : '{}'.format(SIGUNGU[i]) , '계약구분' : '합계' , '고객호수(호)' : sum3[i] ,  '사용량(kWh)' : sum2[i]} , ignore_index=True) #년월 파일마다 수정하기\n",
      "C:\\Users\\user\\AppData\\Local\\Temp\\ipykernel_15168\\895775541.py:4: FutureWarning: The frame.append method is deprecated and will be removed from pandas in a future version. Use pandas.concat instead.\n",
      "  Hap = Hap.append({'년월' :'202107-202112'  , '시구' : '{}'.format(City) , '시군구' : '{}'.format(SIGUNGU[i]) , '계약구분' : '합계' , '고객호수(호)' : sum3[i] ,  '사용량(kWh)' : sum2[i]} , ignore_index=True) #년월 파일마다 수정하기\n",
      "C:\\Users\\user\\AppData\\Local\\Temp\\ipykernel_15168\\895775541.py:4: FutureWarning: The frame.append method is deprecated and will be removed from pandas in a future version. Use pandas.concat instead.\n",
      "  Hap = Hap.append({'년월' :'202107-202112'  , '시구' : '{}'.format(City) , '시군구' : '{}'.format(SIGUNGU[i]) , '계약구분' : '합계' , '고객호수(호)' : sum3[i] ,  '사용량(kWh)' : sum2[i]} , ignore_index=True) #년월 파일마다 수정하기\n",
      "C:\\Users\\user\\AppData\\Local\\Temp\\ipykernel_15168\\895775541.py:4: FutureWarning: The frame.append method is deprecated and will be removed from pandas in a future version. Use pandas.concat instead.\n",
      "  Hap = Hap.append({'년월' :'202107-202112'  , '시구' : '{}'.format(City) , '시군구' : '{}'.format(SIGUNGU[i]) , '계약구분' : '합계' , '고객호수(호)' : sum3[i] ,  '사용량(kWh)' : sum2[i]} , ignore_index=True) #년월 파일마다 수정하기\n",
      "C:\\Users\\user\\AppData\\Local\\Temp\\ipykernel_15168\\895775541.py:4: FutureWarning: The frame.append method is deprecated and will be removed from pandas in a future version. Use pandas.concat instead.\n",
      "  Hap = Hap.append({'년월' :'202107-202112'  , '시구' : '{}'.format(City) , '시군구' : '{}'.format(SIGUNGU[i]) , '계약구분' : '합계' , '고객호수(호)' : sum3[i] ,  '사용량(kWh)' : sum2[i]} , ignore_index=True) #년월 파일마다 수정하기\n",
      "C:\\Users\\user\\AppData\\Local\\Temp\\ipykernel_15168\\895775541.py:4: FutureWarning: The frame.append method is deprecated and will be removed from pandas in a future version. Use pandas.concat instead.\n",
      "  Hap = Hap.append({'년월' :'202107-202112'  , '시구' : '{}'.format(City) , '시군구' : '{}'.format(SIGUNGU[i]) , '계약구분' : '합계' , '고객호수(호)' : sum3[i] ,  '사용량(kWh)' : sum2[i]} , ignore_index=True) #년월 파일마다 수정하기\n",
      "C:\\Users\\user\\AppData\\Local\\Temp\\ipykernel_15168\\895775541.py:4: FutureWarning: The frame.append method is deprecated and will be removed from pandas in a future version. Use pandas.concat instead.\n",
      "  Hap = Hap.append({'년월' :'202107-202112'  , '시구' : '{}'.format(City) , '시군구' : '{}'.format(SIGUNGU[i]) , '계약구분' : '합계' , '고객호수(호)' : sum3[i] ,  '사용량(kWh)' : sum2[i]} , ignore_index=True) #년월 파일마다 수정하기\n",
      "C:\\Users\\user\\AppData\\Local\\Temp\\ipykernel_15168\\895775541.py:4: FutureWarning: The frame.append method is deprecated and will be removed from pandas in a future version. Use pandas.concat instead.\n",
      "  Hap = Hap.append({'년월' :'202107-202112'  , '시구' : '{}'.format(City) , '시군구' : '{}'.format(SIGUNGU[i]) , '계약구분' : '합계' , '고객호수(호)' : sum3[i] ,  '사용량(kWh)' : sum2[i]} , ignore_index=True) #년월 파일마다 수정하기\n",
      "C:\\Users\\user\\AppData\\Local\\Temp\\ipykernel_15168\\895775541.py:4: FutureWarning: The frame.append method is deprecated and will be removed from pandas in a future version. Use pandas.concat instead.\n",
      "  Hap = Hap.append({'년월' :'202107-202112'  , '시구' : '{}'.format(City) , '시군구' : '{}'.format(SIGUNGU[i]) , '계약구분' : '합계' , '고객호수(호)' : sum3[i] ,  '사용량(kWh)' : sum2[i]} , ignore_index=True) #년월 파일마다 수정하기\n",
      "C:\\Users\\user\\AppData\\Local\\Temp\\ipykernel_15168\\895775541.py:4: FutureWarning: The frame.append method is deprecated and will be removed from pandas in a future version. Use pandas.concat instead.\n",
      "  Hap = Hap.append({'년월' :'202107-202112'  , '시구' : '{}'.format(City) , '시군구' : '{}'.format(SIGUNGU[i]) , '계약구분' : '합계' , '고객호수(호)' : sum3[i] ,  '사용량(kWh)' : sum2[i]} , ignore_index=True) #년월 파일마다 수정하기\n",
      "C:\\Users\\user\\AppData\\Local\\Temp\\ipykernel_15168\\895775541.py:4: FutureWarning: The frame.append method is deprecated and will be removed from pandas in a future version. Use pandas.concat instead.\n",
      "  Hap = Hap.append({'년월' :'202107-202112'  , '시구' : '{}'.format(City) , '시군구' : '{}'.format(SIGUNGU[i]) , '계약구분' : '합계' , '고객호수(호)' : sum3[i] ,  '사용량(kWh)' : sum2[i]} , ignore_index=True) #년월 파일마다 수정하기\n",
      "C:\\Users\\user\\AppData\\Local\\Temp\\ipykernel_15168\\895775541.py:4: FutureWarning: The frame.append method is deprecated and will be removed from pandas in a future version. Use pandas.concat instead.\n",
      "  Hap = Hap.append({'년월' :'202107-202112'  , '시구' : '{}'.format(City) , '시군구' : '{}'.format(SIGUNGU[i]) , '계약구분' : '합계' , '고객호수(호)' : sum3[i] ,  '사용량(kWh)' : sum2[i]} , ignore_index=True) #년월 파일마다 수정하기\n"
     ]
    },
    {
     "data": {
      "text/plain": "                년월   시구  시군구 계약구분  고객호수(호)     사용량(kWh)\n0           202107  경기도  가평군   합계  70,564   50,439,021 \n1           202108  경기도  가평군   합계  70,762   57,296,331 \n2           202109  경기도  가평군   합계  70,974   50,307,795 \n3           202110  경기도  가평군   합계  71,054   47,524,967 \n4           202111  경기도  가평군   합계  72,307   58,203,498 \n..             ...  ...  ...  ...      ...          ...\n212  202107-202112  경기도  파주시   합계    30393   4735032300\n213  202107-202112  경기도  평택시   합계    42662   7926844655\n214  202107-202112  경기도  포천시   합계    21383   1337051727\n215  202107-202112  경기도  하남시   합계     9668    955686215\n216  202107-202112  경기도  화성시   합계    47738  10447983540\n\n[217 rows x 6 columns]",
      "text/html": "<div>\n<style scoped>\n    .dataframe tbody tr th:only-of-type {\n        vertical-align: middle;\n    }\n\n    .dataframe tbody tr th {\n        vertical-align: top;\n    }\n\n    .dataframe thead th {\n        text-align: right;\n    }\n</style>\n<table border=\"1\" class=\"dataframe\">\n  <thead>\n    <tr style=\"text-align: right;\">\n      <th></th>\n      <th>년월</th>\n      <th>시구</th>\n      <th>시군구</th>\n      <th>계약구분</th>\n      <th>고객호수(호)</th>\n      <th>사용량(kWh)</th>\n    </tr>\n  </thead>\n  <tbody>\n    <tr>\n      <th>0</th>\n      <td>202107</td>\n      <td>경기도</td>\n      <td>가평군</td>\n      <td>합계</td>\n      <td>70,564</td>\n      <td>50,439,021</td>\n    </tr>\n    <tr>\n      <th>1</th>\n      <td>202108</td>\n      <td>경기도</td>\n      <td>가평군</td>\n      <td>합계</td>\n      <td>70,762</td>\n      <td>57,296,331</td>\n    </tr>\n    <tr>\n      <th>2</th>\n      <td>202109</td>\n      <td>경기도</td>\n      <td>가평군</td>\n      <td>합계</td>\n      <td>70,974</td>\n      <td>50,307,795</td>\n    </tr>\n    <tr>\n      <th>3</th>\n      <td>202110</td>\n      <td>경기도</td>\n      <td>가평군</td>\n      <td>합계</td>\n      <td>71,054</td>\n      <td>47,524,967</td>\n    </tr>\n    <tr>\n      <th>4</th>\n      <td>202111</td>\n      <td>경기도</td>\n      <td>가평군</td>\n      <td>합계</td>\n      <td>72,307</td>\n      <td>58,203,498</td>\n    </tr>\n    <tr>\n      <th>...</th>\n      <td>...</td>\n      <td>...</td>\n      <td>...</td>\n      <td>...</td>\n      <td>...</td>\n      <td>...</td>\n    </tr>\n    <tr>\n      <th>212</th>\n      <td>202107-202112</td>\n      <td>경기도</td>\n      <td>파주시</td>\n      <td>합계</td>\n      <td>30393</td>\n      <td>4735032300</td>\n    </tr>\n    <tr>\n      <th>213</th>\n      <td>202107-202112</td>\n      <td>경기도</td>\n      <td>평택시</td>\n      <td>합계</td>\n      <td>42662</td>\n      <td>7926844655</td>\n    </tr>\n    <tr>\n      <th>214</th>\n      <td>202107-202112</td>\n      <td>경기도</td>\n      <td>포천시</td>\n      <td>합계</td>\n      <td>21383</td>\n      <td>1337051727</td>\n    </tr>\n    <tr>\n      <th>215</th>\n      <td>202107-202112</td>\n      <td>경기도</td>\n      <td>하남시</td>\n      <td>합계</td>\n      <td>9668</td>\n      <td>955686215</td>\n    </tr>\n    <tr>\n      <th>216</th>\n      <td>202107-202112</td>\n      <td>경기도</td>\n      <td>화성시</td>\n      <td>합계</td>\n      <td>47738</td>\n      <td>10447983540</td>\n    </tr>\n  </tbody>\n</table>\n<p>217 rows × 6 columns</p>\n</div>"
     },
     "execution_count": 31,
     "metadata": {},
     "output_type": "execute_result"
    }
   ],
   "source": [
    "Hap = df_4.copy()\n",
    "Hap.reset_index(drop=True , inplace = True)\n",
    "for i in range(len(SIGUNGU)):\n",
    "    Hap = Hap.append({'년월' :'202107-202112'  , '시구' : '{}'.format(City) , '시군구' : '{}'.format(SIGUNGU[i]) , '계약구분' : '합계' , '고객호수(호)' : sum3[i] ,  '사용량(kWh)' : sum2[i]} , ignore_index=True) #년월 파일마다 수정하기\n",
    "Hap"
   ],
   "metadata": {
    "collapsed": false,
    "pycharm": {
     "name": "#%%\n"
    }
   }
  },
  {
   "cell_type": "markdown",
   "source": [
    "### 3. 날짜 변경!!!!!!!!!!!!!!!!!!!!!!!!!!!!!!!"
   ],
   "metadata": {
    "collapsed": false,
    "pycharm": {
     "name": "#%% md\n"
    }
   }
  },
  {
   "cell_type": "code",
   "execution_count": 32,
   "outputs": [
    {
     "data": {
      "text/plain": "                년월   시구   시군구 계약구분 고객호수(호)     사용량(kWh)\n186  202107-202112  경기도   가평군   합계   11865    333277942\n187  202107-202112  경기도   고양시   합계   41034   2489238808\n188  202107-202112  경기도   과천시   합계    2740    207161995\n189  202107-202112  경기도   광명시   합계   10349    562937112\n190  202107-202112  경기도   광주시   합계   33093   1362476370\n191  202107-202112  경기도   구리시   합계    8826    420372558\n192  202107-202112  경기도   군포시   합계   10861    771664788\n193  202107-202112  경기도   김포시   합계   22570   2148955557\n194  202107-202112  경기도  남양주시   합계   33592   1733193068\n195  202107-202112  경기도  동두천시   합계    7297    333579495\n196  202107-202112  경기도   부천시   합계   48263   2200612342\n197  202107-202112  경기도   성남시   합계   44567   2845529822\n198  202107-202112  경기도   수원시   합계   62253   3125380163\n199  202107-202112  경기도   시흥시   합계   28254   2421750490\n200  202107-202112  경기도   안산시   합계   48968   4148986566\n201  202107-202112  경기도   안성시   합계   23261   1721415103\n202  202107-202112  경기도   안양시   합계   21912   1500167803\n203  202107-202112  경기도   양주시   합계   16021   1142055478\n204  202107-202112  경기도   양평군   합계   21149    454585737\n205  202107-202112  경기도   여주시   합계   16700    703098947\n206  202107-202112  경기도   연천군   합계    8057    290789764\n207  202107-202112  경기도   오산시   합계   12452    747909978\n208  202107-202112  경기도   용인시   합계   43805   5471847590\n209  202107-202112  경기도   의왕시   합계    5661    420218407\n210  202107-202112  경기도  의정부시   합계   20283    910071901\n211  202107-202112  경기도   이천시   합계   23770   4247954249\n212  202107-202112  경기도   파주시   합계   30393   4735032300\n213  202107-202112  경기도   평택시   합계   42662   7926844655\n214  202107-202112  경기도   포천시   합계   21383   1337051727\n215  202107-202112  경기도   하남시   합계    9668    955686215\n216  202107-202112  경기도   화성시   합계   47738  10447983540",
      "text/html": "<div>\n<style scoped>\n    .dataframe tbody tr th:only-of-type {\n        vertical-align: middle;\n    }\n\n    .dataframe tbody tr th {\n        vertical-align: top;\n    }\n\n    .dataframe thead th {\n        text-align: right;\n    }\n</style>\n<table border=\"1\" class=\"dataframe\">\n  <thead>\n    <tr style=\"text-align: right;\">\n      <th></th>\n      <th>년월</th>\n      <th>시구</th>\n      <th>시군구</th>\n      <th>계약구분</th>\n      <th>고객호수(호)</th>\n      <th>사용량(kWh)</th>\n    </tr>\n  </thead>\n  <tbody>\n    <tr>\n      <th>186</th>\n      <td>202107-202112</td>\n      <td>경기도</td>\n      <td>가평군</td>\n      <td>합계</td>\n      <td>11865</td>\n      <td>333277942</td>\n    </tr>\n    <tr>\n      <th>187</th>\n      <td>202107-202112</td>\n      <td>경기도</td>\n      <td>고양시</td>\n      <td>합계</td>\n      <td>41034</td>\n      <td>2489238808</td>\n    </tr>\n    <tr>\n      <th>188</th>\n      <td>202107-202112</td>\n      <td>경기도</td>\n      <td>과천시</td>\n      <td>합계</td>\n      <td>2740</td>\n      <td>207161995</td>\n    </tr>\n    <tr>\n      <th>189</th>\n      <td>202107-202112</td>\n      <td>경기도</td>\n      <td>광명시</td>\n      <td>합계</td>\n      <td>10349</td>\n      <td>562937112</td>\n    </tr>\n    <tr>\n      <th>190</th>\n      <td>202107-202112</td>\n      <td>경기도</td>\n      <td>광주시</td>\n      <td>합계</td>\n      <td>33093</td>\n      <td>1362476370</td>\n    </tr>\n    <tr>\n      <th>191</th>\n      <td>202107-202112</td>\n      <td>경기도</td>\n      <td>구리시</td>\n      <td>합계</td>\n      <td>8826</td>\n      <td>420372558</td>\n    </tr>\n    <tr>\n      <th>192</th>\n      <td>202107-202112</td>\n      <td>경기도</td>\n      <td>군포시</td>\n      <td>합계</td>\n      <td>10861</td>\n      <td>771664788</td>\n    </tr>\n    <tr>\n      <th>193</th>\n      <td>202107-202112</td>\n      <td>경기도</td>\n      <td>김포시</td>\n      <td>합계</td>\n      <td>22570</td>\n      <td>2148955557</td>\n    </tr>\n    <tr>\n      <th>194</th>\n      <td>202107-202112</td>\n      <td>경기도</td>\n      <td>남양주시</td>\n      <td>합계</td>\n      <td>33592</td>\n      <td>1733193068</td>\n    </tr>\n    <tr>\n      <th>195</th>\n      <td>202107-202112</td>\n      <td>경기도</td>\n      <td>동두천시</td>\n      <td>합계</td>\n      <td>7297</td>\n      <td>333579495</td>\n    </tr>\n    <tr>\n      <th>196</th>\n      <td>202107-202112</td>\n      <td>경기도</td>\n      <td>부천시</td>\n      <td>합계</td>\n      <td>48263</td>\n      <td>2200612342</td>\n    </tr>\n    <tr>\n      <th>197</th>\n      <td>202107-202112</td>\n      <td>경기도</td>\n      <td>성남시</td>\n      <td>합계</td>\n      <td>44567</td>\n      <td>2845529822</td>\n    </tr>\n    <tr>\n      <th>198</th>\n      <td>202107-202112</td>\n      <td>경기도</td>\n      <td>수원시</td>\n      <td>합계</td>\n      <td>62253</td>\n      <td>3125380163</td>\n    </tr>\n    <tr>\n      <th>199</th>\n      <td>202107-202112</td>\n      <td>경기도</td>\n      <td>시흥시</td>\n      <td>합계</td>\n      <td>28254</td>\n      <td>2421750490</td>\n    </tr>\n    <tr>\n      <th>200</th>\n      <td>202107-202112</td>\n      <td>경기도</td>\n      <td>안산시</td>\n      <td>합계</td>\n      <td>48968</td>\n      <td>4148986566</td>\n    </tr>\n    <tr>\n      <th>201</th>\n      <td>202107-202112</td>\n      <td>경기도</td>\n      <td>안성시</td>\n      <td>합계</td>\n      <td>23261</td>\n      <td>1721415103</td>\n    </tr>\n    <tr>\n      <th>202</th>\n      <td>202107-202112</td>\n      <td>경기도</td>\n      <td>안양시</td>\n      <td>합계</td>\n      <td>21912</td>\n      <td>1500167803</td>\n    </tr>\n    <tr>\n      <th>203</th>\n      <td>202107-202112</td>\n      <td>경기도</td>\n      <td>양주시</td>\n      <td>합계</td>\n      <td>16021</td>\n      <td>1142055478</td>\n    </tr>\n    <tr>\n      <th>204</th>\n      <td>202107-202112</td>\n      <td>경기도</td>\n      <td>양평군</td>\n      <td>합계</td>\n      <td>21149</td>\n      <td>454585737</td>\n    </tr>\n    <tr>\n      <th>205</th>\n      <td>202107-202112</td>\n      <td>경기도</td>\n      <td>여주시</td>\n      <td>합계</td>\n      <td>16700</td>\n      <td>703098947</td>\n    </tr>\n    <tr>\n      <th>206</th>\n      <td>202107-202112</td>\n      <td>경기도</td>\n      <td>연천군</td>\n      <td>합계</td>\n      <td>8057</td>\n      <td>290789764</td>\n    </tr>\n    <tr>\n      <th>207</th>\n      <td>202107-202112</td>\n      <td>경기도</td>\n      <td>오산시</td>\n      <td>합계</td>\n      <td>12452</td>\n      <td>747909978</td>\n    </tr>\n    <tr>\n      <th>208</th>\n      <td>202107-202112</td>\n      <td>경기도</td>\n      <td>용인시</td>\n      <td>합계</td>\n      <td>43805</td>\n      <td>5471847590</td>\n    </tr>\n    <tr>\n      <th>209</th>\n      <td>202107-202112</td>\n      <td>경기도</td>\n      <td>의왕시</td>\n      <td>합계</td>\n      <td>5661</td>\n      <td>420218407</td>\n    </tr>\n    <tr>\n      <th>210</th>\n      <td>202107-202112</td>\n      <td>경기도</td>\n      <td>의정부시</td>\n      <td>합계</td>\n      <td>20283</td>\n      <td>910071901</td>\n    </tr>\n    <tr>\n      <th>211</th>\n      <td>202107-202112</td>\n      <td>경기도</td>\n      <td>이천시</td>\n      <td>합계</td>\n      <td>23770</td>\n      <td>4247954249</td>\n    </tr>\n    <tr>\n      <th>212</th>\n      <td>202107-202112</td>\n      <td>경기도</td>\n      <td>파주시</td>\n      <td>합계</td>\n      <td>30393</td>\n      <td>4735032300</td>\n    </tr>\n    <tr>\n      <th>213</th>\n      <td>202107-202112</td>\n      <td>경기도</td>\n      <td>평택시</td>\n      <td>합계</td>\n      <td>42662</td>\n      <td>7926844655</td>\n    </tr>\n    <tr>\n      <th>214</th>\n      <td>202107-202112</td>\n      <td>경기도</td>\n      <td>포천시</td>\n      <td>합계</td>\n      <td>21383</td>\n      <td>1337051727</td>\n    </tr>\n    <tr>\n      <th>215</th>\n      <td>202107-202112</td>\n      <td>경기도</td>\n      <td>하남시</td>\n      <td>합계</td>\n      <td>9668</td>\n      <td>955686215</td>\n    </tr>\n    <tr>\n      <th>216</th>\n      <td>202107-202112</td>\n      <td>경기도</td>\n      <td>화성시</td>\n      <td>합계</td>\n      <td>47738</td>\n      <td>10447983540</td>\n    </tr>\n  </tbody>\n</table>\n</div>"
     },
     "execution_count": 32,
     "metadata": {},
     "output_type": "execute_result"
    }
   ],
   "source": [
    "Hap = Hap.loc[Hap['년월'] == '202107-202112']\n",
    "Hap"
   ],
   "metadata": {
    "collapsed": false,
    "pycharm": {
     "name": "#%%\n"
    }
   }
  },
  {
   "cell_type": "code",
   "execution_count": 33,
   "outputs": [],
   "source": [
    "# SIGUNGU = SIGUNGU[:1]\n",
    "# SIGUNGU\n",
    "#for i in SIGUNGU:\n",
    "#print('{}'.format(i))\n",
    "# df_3 = df_3.loc[(df_3['시군구'] == '가평군')]\n",
    "#\n",
    "# df_3"
   ],
   "metadata": {
    "collapsed": false,
    "pycharm": {
     "name": "#%%\n"
    }
   }
  },
  {
   "cell_type": "code",
   "execution_count": 34,
   "outputs": [
    {
     "data": {
      "text/plain": "['년월', '시구', '시군구', '계약구분', '고객호수(호)', '사용량(kWh)']"
     },
     "execution_count": 34,
     "metadata": {},
     "output_type": "execute_result"
    }
   ],
   "source": [
    "a = (df_3.columns).tolist()\n",
    "\n",
    "a"
   ],
   "metadata": {
    "collapsed": false,
    "pycharm": {
     "name": "#%%\n"
    }
   }
  },
  {
   "cell_type": "code",
   "execution_count": 35,
   "outputs": [
    {
     "data": {
      "text/plain": "          년월   시구  시군구 계약구분  고객호수(호)      사용량(kWh)\n53    202107  경기도  가평군  일반용  10,939    28,159,566 \n301   202108  경기도  가평군  일반용  10,998    32,256,862 \n549   202109  경기도  가평군  일반용  11,004    26,824,833 \n797   202110  경기도  가평군  일반용  11,005    24,804,280 \n1045  202111  경기도  가평군  일반용  11,053    29,566,815 \n...      ...  ...  ...  ...      ...           ...\n541   202108  경기도  화성시  일반용  48,575   248,166,088 \n789   202109  경기도  화성시  일반용  48,715   214,371,962 \n1037  202110  경기도  화성시  일반용  48,877   197,517,377 \n1285  202111  경기도  화성시  일반용  49,178   196,416,006 \n1533  202112  경기도  화성시  일반용  49,518   222,509,014 \n\n[186 rows x 6 columns]",
      "text/html": "<div>\n<style scoped>\n    .dataframe tbody tr th:only-of-type {\n        vertical-align: middle;\n    }\n\n    .dataframe tbody tr th {\n        vertical-align: top;\n    }\n\n    .dataframe thead th {\n        text-align: right;\n    }\n</style>\n<table border=\"1\" class=\"dataframe\">\n  <thead>\n    <tr style=\"text-align: right;\">\n      <th></th>\n      <th>년월</th>\n      <th>시구</th>\n      <th>시군구</th>\n      <th>계약구분</th>\n      <th>고객호수(호)</th>\n      <th>사용량(kWh)</th>\n    </tr>\n  </thead>\n  <tbody>\n    <tr>\n      <th>53</th>\n      <td>202107</td>\n      <td>경기도</td>\n      <td>가평군</td>\n      <td>일반용</td>\n      <td>10,939</td>\n      <td>28,159,566</td>\n    </tr>\n    <tr>\n      <th>301</th>\n      <td>202108</td>\n      <td>경기도</td>\n      <td>가평군</td>\n      <td>일반용</td>\n      <td>10,998</td>\n      <td>32,256,862</td>\n    </tr>\n    <tr>\n      <th>549</th>\n      <td>202109</td>\n      <td>경기도</td>\n      <td>가평군</td>\n      <td>일반용</td>\n      <td>11,004</td>\n      <td>26,824,833</td>\n    </tr>\n    <tr>\n      <th>797</th>\n      <td>202110</td>\n      <td>경기도</td>\n      <td>가평군</td>\n      <td>일반용</td>\n      <td>11,005</td>\n      <td>24,804,280</td>\n    </tr>\n    <tr>\n      <th>1045</th>\n      <td>202111</td>\n      <td>경기도</td>\n      <td>가평군</td>\n      <td>일반용</td>\n      <td>11,053</td>\n      <td>29,566,815</td>\n    </tr>\n    <tr>\n      <th>...</th>\n      <td>...</td>\n      <td>...</td>\n      <td>...</td>\n      <td>...</td>\n      <td>...</td>\n      <td>...</td>\n    </tr>\n    <tr>\n      <th>541</th>\n      <td>202108</td>\n      <td>경기도</td>\n      <td>화성시</td>\n      <td>일반용</td>\n      <td>48,575</td>\n      <td>248,166,088</td>\n    </tr>\n    <tr>\n      <th>789</th>\n      <td>202109</td>\n      <td>경기도</td>\n      <td>화성시</td>\n      <td>일반용</td>\n      <td>48,715</td>\n      <td>214,371,962</td>\n    </tr>\n    <tr>\n      <th>1037</th>\n      <td>202110</td>\n      <td>경기도</td>\n      <td>화성시</td>\n      <td>일반용</td>\n      <td>48,877</td>\n      <td>197,517,377</td>\n    </tr>\n    <tr>\n      <th>1285</th>\n      <td>202111</td>\n      <td>경기도</td>\n      <td>화성시</td>\n      <td>일반용</td>\n      <td>49,178</td>\n      <td>196,416,006</td>\n    </tr>\n    <tr>\n      <th>1533</th>\n      <td>202112</td>\n      <td>경기도</td>\n      <td>화성시</td>\n      <td>일반용</td>\n      <td>49,518</td>\n      <td>222,509,014</td>\n    </tr>\n  </tbody>\n</table>\n<p>186 rows × 6 columns</p>\n</div>"
     },
     "execution_count": 35,
     "metadata": {},
     "output_type": "execute_result"
    }
   ],
   "source": [
    "df_3"
   ],
   "metadata": {
    "collapsed": false,
    "pycharm": {
     "name": "#%%\n"
    }
   }
  },
  {
   "cell_type": "code",
   "execution_count": 36,
   "outputs": [],
   "source": [
    "# GyeonGiHap = pd.DataFrame([] , columns = a)\n",
    "# GyeonGiHap['사용량']= df_3['사용량(kWh)'].loc[(df_3['시군구'] == '{가평군}')]\n",
    "# GyeonGiHap"
   ],
   "metadata": {
    "collapsed": false,
    "pycharm": {
     "name": "#%%\n"
    }
   }
  },
  {
   "cell_type": "code",
   "execution_count": 37,
   "outputs": [
    {
     "name": "stdout",
     "output_type": "stream",
     "text": [
      "[28159566, 32256862, 26824833, 24804280, 29566815, 35723971]\n",
      "[184655409, 209050257, 180063563, 158191858, 157077695, 200646173]\n",
      "[18290304, 19723942, 17183832, 15420885, 16503255, 19262749]\n",
      "[37075086, 40703822, 33616177, 29006828, 29251659, 39022636]\n",
      "[64301755, 73135874, 62743053, 56840209, 60603078, 73309932]\n",
      "[34466183, 38445115, 31821227, 27491956, 27343390, 32459688]\n",
      "[39365133, 43312473, 37223426, 32432362, 32646611, 37875643]\n",
      "[93136341, 104140662, 89451761, 78926662, 79460256, 94600833]\n",
      "[96713318, 113566955, 96424155, 83626223, 86979878, 102234113]\n",
      "[19889438, 23783752, 19938519, 16721544, 17205217, 20205288]\n",
      "[123006265, 138679831, 117543306, 101938781, 100675610, 117715035]\n",
      "[267396732, 280841362, 241261657, 217814357, 214338077, 242965601]\n",
      "[287375330, 308170317, 263862268, 238277541, 231247740, 263647860]\n",
      "[83303582, 94099393, 79250267, 70309839, 71367189, 83892079]\n",
      "[104508316, 119611532, 99972662, 87515615, 86943033, 103212392]\n",
      "[54483257, 60719384, 52706466, 48128015, 50388350, 58862762]\n",
      "[136765673, 146267189, 128667165, 116732392, 114183909, 130705576]\n",
      "[45074142, 50502161, 42772323, 39649377, 44161626, 54558421]\n",
      "[23085295, 27199596, 22718176, 20722478, 23865765, 29245108]\n",
      "[31447008, 35011852, 29538128, 26751266, 29465122, 34853103]\n",
      "[13557095, 15378611, 12649723, 11201737, 13064174, 16094310]\n",
      "[39620200, 45461459, 38320232, 33792285, 33131773, 38915025]\n",
      "[249528454, 268760211, 228193901, 212098339, 216014666, 248475109]\n",
      "[33296391, 35589169, 32668209, 29927941, 30066986, 35349788]\n",
      "[64907658, 74538673, 61815905, 53301803, 54341993, 64615566]\n",
      "[70766916, 78728103, 66967625, 60028381, 63668136, 75476215]\n",
      "[97394365, 110374364, 96043422, 84030516, 87779911, 104659533]\n",
      "[147190122, 159708225, 136483627, 120752523, 120908513, 139658708]\n",
      "[41998628, 49906230, 41977294, 37660918, 41357653, 51283123]\n",
      "[61449028, 67151881, 56961494, 49995717, 50233426, 59862972]\n",
      "[226228795, 248166088, 214371962, 197517377, 196416006, 222509014]\n",
      "경기도 지역별 일반용 합계 :  [177336327, 1089684955, 106384967, 208676208, 390933901, 192027559, 222855648, 539716515, 579544642, 117743758, 699558828, 1464617786, 1592581056, 482222349, 601763550, 325288234, 773321904, 276718050, 146836418, 187066479, 81945650, 229240974, 1423070680, 196898484, 373521598, 415635376, 580282111, 824701718, 264183846, 345654518, 1305209242]\n",
      "경기도 고객호수 평균:  [11019, 44160, 2741, 10776, 29077, 10593, 9512, 26014, 40991, 6589, 37179, 34539, 55182, 26350, 30758, 16646, 23388, 17001, 13789, 11024, 5239, 12261, 44967, 6323, 22457, 18422, 30402, 41853, 19239, 15523, 48869]\n"
     ]
    }
   ],
   "source": [
    "sum2 , sum3 =[] , []\n",
    "for k in SIGUNGU:\n",
    "    GyeonGiHap = pd.DataFrame([] , columns = a)\n",
    "    HOSU = pd.DataFrame([], columns = a)\n",
    "    GyeonGiHap['사용량']= df_3['사용량(kWh)'].loc[(df_3['시군구'] == '{}'.format(k))]\n",
    "    HOSU['고객호수']= df_3['고객호수(호)'].loc[(df_3['시군구'] == '{}'.format(k))]\n",
    "    #경기합 데이터프레임의 사용량 열에 기군구가 가평군인 사용량 데이터만 뽑아내기\n",
    "    # GyeonGiHap = GyeonGiHap['사용량']\n",
    "\n",
    "    b = GyeonGiHap['사용량'].tolist()\n",
    "    c = HOSU['고객호수'].tolist()\n",
    "\n",
    "\n",
    "    #각지역별 사용량 리스트화\n",
    "    int_list  , int_list2=[] , []\n",
    "    for i in b:\n",
    "        i = re.sub(\",\" , \"\" , i)\n",
    "        #콤마 없애기\n",
    "        int_list.append(int(i))\n",
    "        #int_list에 각지역별 사용량 int로 저장\n",
    "    print(int_list)\n",
    "    sum=0\n",
    "    for i in c:\n",
    "        i = re.sub(\",\" , \"\" , i)\n",
    "        int_list2.append(int(i))\n",
    "\n",
    "    for j in int_list:\n",
    "\n",
    "        sum+= j\n",
    "    sum2.append(sum)\n",
    "    sum = 0\n",
    "    for j in int_list2: #고객호수 추출하여 더하기\n",
    "\n",
    "        sum+= j\n",
    "    sum3.append(sum//6) #6개월 치로 나눠야하나?!\n",
    "\n",
    "\n",
    "\n",
    "\n",
    "print(\"{} 지역별 일반용 합계 : \".format(City) , sum2)\n",
    "print(\"{} 고객호수 평균: \".format(City) , sum3)\n",
    "# GyeonGiHap['합계'] = sum\n",
    "#\n",
    "# GyeonGiHap"
   ],
   "metadata": {
    "collapsed": false,
    "pycharm": {
     "name": "#%%\n"
    }
   }
  },
  {
   "cell_type": "code",
   "execution_count": 38,
   "outputs": [],
   "source": [
    "# df_3 = df_3.loc[(df_3['시군구'] == '가평군')]\n",
    "#\n",
    "# df_3"
   ],
   "metadata": {
    "collapsed": false,
    "pycharm": {
     "name": "#%%\n"
    }
   }
  },
  {
   "cell_type": "code",
   "execution_count": 39,
   "outputs": [],
   "source": [
    "# GyeonGiHap = df_3.copy()\n",
    "# GyeonGiHap.reset_index(drop=True , inplace = True)\n",
    "# GyeonGiHap.append({'년월' : '202107-202112'  , '시구' : '경기도' , '시군구' : '가평군' , '계약구분' : '일반용' , '사용량(kWh)' : sum}, ignore_index=True)"
   ],
   "metadata": {
    "collapsed": false,
    "pycharm": {
     "name": "#%%\n"
    }
   }
  },
  {
   "cell_type": "code",
   "execution_count": 40,
   "outputs": [],
   "source": [
    "# a=[]\n",
    "# for i in SIGUNGU:\n",
    "#     a.append(i)\n",
    "#\n",
    "# print(a)"
   ],
   "metadata": {
    "collapsed": false,
    "pycharm": {
     "name": "#%%\n"
    }
   }
  },
  {
   "cell_type": "markdown",
   "source": [
    "### 4. 년월 체크!!!!!!!!!!!!!!!!!!!!!!!!!!!!!!!!!!!!!!!!!!!!!!!!!!!!!!!!!!!!!!!!!"
   ],
   "metadata": {
    "collapsed": false,
    "pycharm": {
     "name": "#%% md\n"
    }
   }
  },
  {
   "cell_type": "code",
   "execution_count": 41,
   "outputs": [
    {
     "name": "stderr",
     "output_type": "stream",
     "text": [
      "C:\\Users\\user\\AppData\\Local\\Temp\\ipykernel_15168\\2943201010.py:4: FutureWarning: The frame.append method is deprecated and will be removed from pandas in a future version. Use pandas.concat instead.\n",
      "  GyeonGiHap2 = GyeonGiHap2.append({'년월' :'202107-202112'  , '시구' : '{}'.format(City) , '시군구' : '{}'.format(SIGUNGU[i]) , '계약구분' : '일반용' , '고객호수(호)' : sum3[i] ,  '사용량(kWh)' : sum2[i]} , ignore_index=True) #년월 파일마다 수정하기\n",
      "C:\\Users\\user\\AppData\\Local\\Temp\\ipykernel_15168\\2943201010.py:4: FutureWarning: The frame.append method is deprecated and will be removed from pandas in a future version. Use pandas.concat instead.\n",
      "  GyeonGiHap2 = GyeonGiHap2.append({'년월' :'202107-202112'  , '시구' : '{}'.format(City) , '시군구' : '{}'.format(SIGUNGU[i]) , '계약구분' : '일반용' , '고객호수(호)' : sum3[i] ,  '사용량(kWh)' : sum2[i]} , ignore_index=True) #년월 파일마다 수정하기\n",
      "C:\\Users\\user\\AppData\\Local\\Temp\\ipykernel_15168\\2943201010.py:4: FutureWarning: The frame.append method is deprecated and will be removed from pandas in a future version. Use pandas.concat instead.\n",
      "  GyeonGiHap2 = GyeonGiHap2.append({'년월' :'202107-202112'  , '시구' : '{}'.format(City) , '시군구' : '{}'.format(SIGUNGU[i]) , '계약구분' : '일반용' , '고객호수(호)' : sum3[i] ,  '사용량(kWh)' : sum2[i]} , ignore_index=True) #년월 파일마다 수정하기\n",
      "C:\\Users\\user\\AppData\\Local\\Temp\\ipykernel_15168\\2943201010.py:4: FutureWarning: The frame.append method is deprecated and will be removed from pandas in a future version. Use pandas.concat instead.\n",
      "  GyeonGiHap2 = GyeonGiHap2.append({'년월' :'202107-202112'  , '시구' : '{}'.format(City) , '시군구' : '{}'.format(SIGUNGU[i]) , '계약구분' : '일반용' , '고객호수(호)' : sum3[i] ,  '사용량(kWh)' : sum2[i]} , ignore_index=True) #년월 파일마다 수정하기\n",
      "C:\\Users\\user\\AppData\\Local\\Temp\\ipykernel_15168\\2943201010.py:4: FutureWarning: The frame.append method is deprecated and will be removed from pandas in a future version. Use pandas.concat instead.\n",
      "  GyeonGiHap2 = GyeonGiHap2.append({'년월' :'202107-202112'  , '시구' : '{}'.format(City) , '시군구' : '{}'.format(SIGUNGU[i]) , '계약구분' : '일반용' , '고객호수(호)' : sum3[i] ,  '사용량(kWh)' : sum2[i]} , ignore_index=True) #년월 파일마다 수정하기\n",
      "C:\\Users\\user\\AppData\\Local\\Temp\\ipykernel_15168\\2943201010.py:4: FutureWarning: The frame.append method is deprecated and will be removed from pandas in a future version. Use pandas.concat instead.\n",
      "  GyeonGiHap2 = GyeonGiHap2.append({'년월' :'202107-202112'  , '시구' : '{}'.format(City) , '시군구' : '{}'.format(SIGUNGU[i]) , '계약구분' : '일반용' , '고객호수(호)' : sum3[i] ,  '사용량(kWh)' : sum2[i]} , ignore_index=True) #년월 파일마다 수정하기\n",
      "C:\\Users\\user\\AppData\\Local\\Temp\\ipykernel_15168\\2943201010.py:4: FutureWarning: The frame.append method is deprecated and will be removed from pandas in a future version. Use pandas.concat instead.\n",
      "  GyeonGiHap2 = GyeonGiHap2.append({'년월' :'202107-202112'  , '시구' : '{}'.format(City) , '시군구' : '{}'.format(SIGUNGU[i]) , '계약구분' : '일반용' , '고객호수(호)' : sum3[i] ,  '사용량(kWh)' : sum2[i]} , ignore_index=True) #년월 파일마다 수정하기\n",
      "C:\\Users\\user\\AppData\\Local\\Temp\\ipykernel_15168\\2943201010.py:4: FutureWarning: The frame.append method is deprecated and will be removed from pandas in a future version. Use pandas.concat instead.\n",
      "  GyeonGiHap2 = GyeonGiHap2.append({'년월' :'202107-202112'  , '시구' : '{}'.format(City) , '시군구' : '{}'.format(SIGUNGU[i]) , '계약구분' : '일반용' , '고객호수(호)' : sum3[i] ,  '사용량(kWh)' : sum2[i]} , ignore_index=True) #년월 파일마다 수정하기\n",
      "C:\\Users\\user\\AppData\\Local\\Temp\\ipykernel_15168\\2943201010.py:4: FutureWarning: The frame.append method is deprecated and will be removed from pandas in a future version. Use pandas.concat instead.\n",
      "  GyeonGiHap2 = GyeonGiHap2.append({'년월' :'202107-202112'  , '시구' : '{}'.format(City) , '시군구' : '{}'.format(SIGUNGU[i]) , '계약구분' : '일반용' , '고객호수(호)' : sum3[i] ,  '사용량(kWh)' : sum2[i]} , ignore_index=True) #년월 파일마다 수정하기\n",
      "C:\\Users\\user\\AppData\\Local\\Temp\\ipykernel_15168\\2943201010.py:4: FutureWarning: The frame.append method is deprecated and will be removed from pandas in a future version. Use pandas.concat instead.\n",
      "  GyeonGiHap2 = GyeonGiHap2.append({'년월' :'202107-202112'  , '시구' : '{}'.format(City) , '시군구' : '{}'.format(SIGUNGU[i]) , '계약구분' : '일반용' , '고객호수(호)' : sum3[i] ,  '사용량(kWh)' : sum2[i]} , ignore_index=True) #년월 파일마다 수정하기\n",
      "C:\\Users\\user\\AppData\\Local\\Temp\\ipykernel_15168\\2943201010.py:4: FutureWarning: The frame.append method is deprecated and will be removed from pandas in a future version. Use pandas.concat instead.\n",
      "  GyeonGiHap2 = GyeonGiHap2.append({'년월' :'202107-202112'  , '시구' : '{}'.format(City) , '시군구' : '{}'.format(SIGUNGU[i]) , '계약구분' : '일반용' , '고객호수(호)' : sum3[i] ,  '사용량(kWh)' : sum2[i]} , ignore_index=True) #년월 파일마다 수정하기\n",
      "C:\\Users\\user\\AppData\\Local\\Temp\\ipykernel_15168\\2943201010.py:4: FutureWarning: The frame.append method is deprecated and will be removed from pandas in a future version. Use pandas.concat instead.\n",
      "  GyeonGiHap2 = GyeonGiHap2.append({'년월' :'202107-202112'  , '시구' : '{}'.format(City) , '시군구' : '{}'.format(SIGUNGU[i]) , '계약구분' : '일반용' , '고객호수(호)' : sum3[i] ,  '사용량(kWh)' : sum2[i]} , ignore_index=True) #년월 파일마다 수정하기\n",
      "C:\\Users\\user\\AppData\\Local\\Temp\\ipykernel_15168\\2943201010.py:4: FutureWarning: The frame.append method is deprecated and will be removed from pandas in a future version. Use pandas.concat instead.\n",
      "  GyeonGiHap2 = GyeonGiHap2.append({'년월' :'202107-202112'  , '시구' : '{}'.format(City) , '시군구' : '{}'.format(SIGUNGU[i]) , '계약구분' : '일반용' , '고객호수(호)' : sum3[i] ,  '사용량(kWh)' : sum2[i]} , ignore_index=True) #년월 파일마다 수정하기\n",
      "C:\\Users\\user\\AppData\\Local\\Temp\\ipykernel_15168\\2943201010.py:4: FutureWarning: The frame.append method is deprecated and will be removed from pandas in a future version. Use pandas.concat instead.\n",
      "  GyeonGiHap2 = GyeonGiHap2.append({'년월' :'202107-202112'  , '시구' : '{}'.format(City) , '시군구' : '{}'.format(SIGUNGU[i]) , '계약구분' : '일반용' , '고객호수(호)' : sum3[i] ,  '사용량(kWh)' : sum2[i]} , ignore_index=True) #년월 파일마다 수정하기\n",
      "C:\\Users\\user\\AppData\\Local\\Temp\\ipykernel_15168\\2943201010.py:4: FutureWarning: The frame.append method is deprecated and will be removed from pandas in a future version. Use pandas.concat instead.\n",
      "  GyeonGiHap2 = GyeonGiHap2.append({'년월' :'202107-202112'  , '시구' : '{}'.format(City) , '시군구' : '{}'.format(SIGUNGU[i]) , '계약구분' : '일반용' , '고객호수(호)' : sum3[i] ,  '사용량(kWh)' : sum2[i]} , ignore_index=True) #년월 파일마다 수정하기\n",
      "C:\\Users\\user\\AppData\\Local\\Temp\\ipykernel_15168\\2943201010.py:4: FutureWarning: The frame.append method is deprecated and will be removed from pandas in a future version. Use pandas.concat instead.\n",
      "  GyeonGiHap2 = GyeonGiHap2.append({'년월' :'202107-202112'  , '시구' : '{}'.format(City) , '시군구' : '{}'.format(SIGUNGU[i]) , '계약구분' : '일반용' , '고객호수(호)' : sum3[i] ,  '사용량(kWh)' : sum2[i]} , ignore_index=True) #년월 파일마다 수정하기\n",
      "C:\\Users\\user\\AppData\\Local\\Temp\\ipykernel_15168\\2943201010.py:4: FutureWarning: The frame.append method is deprecated and will be removed from pandas in a future version. Use pandas.concat instead.\n",
      "  GyeonGiHap2 = GyeonGiHap2.append({'년월' :'202107-202112'  , '시구' : '{}'.format(City) , '시군구' : '{}'.format(SIGUNGU[i]) , '계약구분' : '일반용' , '고객호수(호)' : sum3[i] ,  '사용량(kWh)' : sum2[i]} , ignore_index=True) #년월 파일마다 수정하기\n",
      "C:\\Users\\user\\AppData\\Local\\Temp\\ipykernel_15168\\2943201010.py:4: FutureWarning: The frame.append method is deprecated and will be removed from pandas in a future version. Use pandas.concat instead.\n",
      "  GyeonGiHap2 = GyeonGiHap2.append({'년월' :'202107-202112'  , '시구' : '{}'.format(City) , '시군구' : '{}'.format(SIGUNGU[i]) , '계약구분' : '일반용' , '고객호수(호)' : sum3[i] ,  '사용량(kWh)' : sum2[i]} , ignore_index=True) #년월 파일마다 수정하기\n",
      "C:\\Users\\user\\AppData\\Local\\Temp\\ipykernel_15168\\2943201010.py:4: FutureWarning: The frame.append method is deprecated and will be removed from pandas in a future version. Use pandas.concat instead.\n",
      "  GyeonGiHap2 = GyeonGiHap2.append({'년월' :'202107-202112'  , '시구' : '{}'.format(City) , '시군구' : '{}'.format(SIGUNGU[i]) , '계약구분' : '일반용' , '고객호수(호)' : sum3[i] ,  '사용량(kWh)' : sum2[i]} , ignore_index=True) #년월 파일마다 수정하기\n",
      "C:\\Users\\user\\AppData\\Local\\Temp\\ipykernel_15168\\2943201010.py:4: FutureWarning: The frame.append method is deprecated and will be removed from pandas in a future version. Use pandas.concat instead.\n",
      "  GyeonGiHap2 = GyeonGiHap2.append({'년월' :'202107-202112'  , '시구' : '{}'.format(City) , '시군구' : '{}'.format(SIGUNGU[i]) , '계약구분' : '일반용' , '고객호수(호)' : sum3[i] ,  '사용량(kWh)' : sum2[i]} , ignore_index=True) #년월 파일마다 수정하기\n",
      "C:\\Users\\user\\AppData\\Local\\Temp\\ipykernel_15168\\2943201010.py:4: FutureWarning: The frame.append method is deprecated and will be removed from pandas in a future version. Use pandas.concat instead.\n",
      "  GyeonGiHap2 = GyeonGiHap2.append({'년월' :'202107-202112'  , '시구' : '{}'.format(City) , '시군구' : '{}'.format(SIGUNGU[i]) , '계약구분' : '일반용' , '고객호수(호)' : sum3[i] ,  '사용량(kWh)' : sum2[i]} , ignore_index=True) #년월 파일마다 수정하기\n",
      "C:\\Users\\user\\AppData\\Local\\Temp\\ipykernel_15168\\2943201010.py:4: FutureWarning: The frame.append method is deprecated and will be removed from pandas in a future version. Use pandas.concat instead.\n",
      "  GyeonGiHap2 = GyeonGiHap2.append({'년월' :'202107-202112'  , '시구' : '{}'.format(City) , '시군구' : '{}'.format(SIGUNGU[i]) , '계약구분' : '일반용' , '고객호수(호)' : sum3[i] ,  '사용량(kWh)' : sum2[i]} , ignore_index=True) #년월 파일마다 수정하기\n",
      "C:\\Users\\user\\AppData\\Local\\Temp\\ipykernel_15168\\2943201010.py:4: FutureWarning: The frame.append method is deprecated and will be removed from pandas in a future version. Use pandas.concat instead.\n",
      "  GyeonGiHap2 = GyeonGiHap2.append({'년월' :'202107-202112'  , '시구' : '{}'.format(City) , '시군구' : '{}'.format(SIGUNGU[i]) , '계약구분' : '일반용' , '고객호수(호)' : sum3[i] ,  '사용량(kWh)' : sum2[i]} , ignore_index=True) #년월 파일마다 수정하기\n",
      "C:\\Users\\user\\AppData\\Local\\Temp\\ipykernel_15168\\2943201010.py:4: FutureWarning: The frame.append method is deprecated and will be removed from pandas in a future version. Use pandas.concat instead.\n",
      "  GyeonGiHap2 = GyeonGiHap2.append({'년월' :'202107-202112'  , '시구' : '{}'.format(City) , '시군구' : '{}'.format(SIGUNGU[i]) , '계약구분' : '일반용' , '고객호수(호)' : sum3[i] ,  '사용량(kWh)' : sum2[i]} , ignore_index=True) #년월 파일마다 수정하기\n",
      "C:\\Users\\user\\AppData\\Local\\Temp\\ipykernel_15168\\2943201010.py:4: FutureWarning: The frame.append method is deprecated and will be removed from pandas in a future version. Use pandas.concat instead.\n",
      "  GyeonGiHap2 = GyeonGiHap2.append({'년월' :'202107-202112'  , '시구' : '{}'.format(City) , '시군구' : '{}'.format(SIGUNGU[i]) , '계약구분' : '일반용' , '고객호수(호)' : sum3[i] ,  '사용량(kWh)' : sum2[i]} , ignore_index=True) #년월 파일마다 수정하기\n",
      "C:\\Users\\user\\AppData\\Local\\Temp\\ipykernel_15168\\2943201010.py:4: FutureWarning: The frame.append method is deprecated and will be removed from pandas in a future version. Use pandas.concat instead.\n",
      "  GyeonGiHap2 = GyeonGiHap2.append({'년월' :'202107-202112'  , '시구' : '{}'.format(City) , '시군구' : '{}'.format(SIGUNGU[i]) , '계약구분' : '일반용' , '고객호수(호)' : sum3[i] ,  '사용량(kWh)' : sum2[i]} , ignore_index=True) #년월 파일마다 수정하기\n",
      "C:\\Users\\user\\AppData\\Local\\Temp\\ipykernel_15168\\2943201010.py:4: FutureWarning: The frame.append method is deprecated and will be removed from pandas in a future version. Use pandas.concat instead.\n",
      "  GyeonGiHap2 = GyeonGiHap2.append({'년월' :'202107-202112'  , '시구' : '{}'.format(City) , '시군구' : '{}'.format(SIGUNGU[i]) , '계약구분' : '일반용' , '고객호수(호)' : sum3[i] ,  '사용량(kWh)' : sum2[i]} , ignore_index=True) #년월 파일마다 수정하기\n",
      "C:\\Users\\user\\AppData\\Local\\Temp\\ipykernel_15168\\2943201010.py:4: FutureWarning: The frame.append method is deprecated and will be removed from pandas in a future version. Use pandas.concat instead.\n",
      "  GyeonGiHap2 = GyeonGiHap2.append({'년월' :'202107-202112'  , '시구' : '{}'.format(City) , '시군구' : '{}'.format(SIGUNGU[i]) , '계약구분' : '일반용' , '고객호수(호)' : sum3[i] ,  '사용량(kWh)' : sum2[i]} , ignore_index=True) #년월 파일마다 수정하기\n",
      "C:\\Users\\user\\AppData\\Local\\Temp\\ipykernel_15168\\2943201010.py:4: FutureWarning: The frame.append method is deprecated and will be removed from pandas in a future version. Use pandas.concat instead.\n",
      "  GyeonGiHap2 = GyeonGiHap2.append({'년월' :'202107-202112'  , '시구' : '{}'.format(City) , '시군구' : '{}'.format(SIGUNGU[i]) , '계약구분' : '일반용' , '고객호수(호)' : sum3[i] ,  '사용량(kWh)' : sum2[i]} , ignore_index=True) #년월 파일마다 수정하기\n",
      "C:\\Users\\user\\AppData\\Local\\Temp\\ipykernel_15168\\2943201010.py:4: FutureWarning: The frame.append method is deprecated and will be removed from pandas in a future version. Use pandas.concat instead.\n",
      "  GyeonGiHap2 = GyeonGiHap2.append({'년월' :'202107-202112'  , '시구' : '{}'.format(City) , '시군구' : '{}'.format(SIGUNGU[i]) , '계약구분' : '일반용' , '고객호수(호)' : sum3[i] ,  '사용량(kWh)' : sum2[i]} , ignore_index=True) #년월 파일마다 수정하기\n",
      "C:\\Users\\user\\AppData\\Local\\Temp\\ipykernel_15168\\2943201010.py:4: FutureWarning: The frame.append method is deprecated and will be removed from pandas in a future version. Use pandas.concat instead.\n",
      "  GyeonGiHap2 = GyeonGiHap2.append({'년월' :'202107-202112'  , '시구' : '{}'.format(City) , '시군구' : '{}'.format(SIGUNGU[i]) , '계약구분' : '일반용' , '고객호수(호)' : sum3[i] ,  '사용량(kWh)' : sum2[i]} , ignore_index=True) #년월 파일마다 수정하기\n"
     ]
    },
    {
     "data": {
      "text/plain": "                년월   시구  시군구 계약구분  고객호수(호)     사용량(kWh)\n0           202107  경기도  가평군  일반용  10,939   28,159,566 \n1           202108  경기도  가평군  일반용  10,998   32,256,862 \n2           202109  경기도  가평군  일반용  11,004   26,824,833 \n3           202110  경기도  가평군  일반용  11,005   24,804,280 \n4           202111  경기도  가평군  일반용  11,053   29,566,815 \n..             ...  ...  ...  ...      ...          ...\n212  202107-202112  경기도  파주시  일반용    30402    580282111\n213  202107-202112  경기도  평택시  일반용    41853    824701718\n214  202107-202112  경기도  포천시  일반용    19239    264183846\n215  202107-202112  경기도  하남시  일반용    15523    345654518\n216  202107-202112  경기도  화성시  일반용    48869   1305209242\n\n[217 rows x 6 columns]",
      "text/html": "<div>\n<style scoped>\n    .dataframe tbody tr th:only-of-type {\n        vertical-align: middle;\n    }\n\n    .dataframe tbody tr th {\n        vertical-align: top;\n    }\n\n    .dataframe thead th {\n        text-align: right;\n    }\n</style>\n<table border=\"1\" class=\"dataframe\">\n  <thead>\n    <tr style=\"text-align: right;\">\n      <th></th>\n      <th>년월</th>\n      <th>시구</th>\n      <th>시군구</th>\n      <th>계약구분</th>\n      <th>고객호수(호)</th>\n      <th>사용량(kWh)</th>\n    </tr>\n  </thead>\n  <tbody>\n    <tr>\n      <th>0</th>\n      <td>202107</td>\n      <td>경기도</td>\n      <td>가평군</td>\n      <td>일반용</td>\n      <td>10,939</td>\n      <td>28,159,566</td>\n    </tr>\n    <tr>\n      <th>1</th>\n      <td>202108</td>\n      <td>경기도</td>\n      <td>가평군</td>\n      <td>일반용</td>\n      <td>10,998</td>\n      <td>32,256,862</td>\n    </tr>\n    <tr>\n      <th>2</th>\n      <td>202109</td>\n      <td>경기도</td>\n      <td>가평군</td>\n      <td>일반용</td>\n      <td>11,004</td>\n      <td>26,824,833</td>\n    </tr>\n    <tr>\n      <th>3</th>\n      <td>202110</td>\n      <td>경기도</td>\n      <td>가평군</td>\n      <td>일반용</td>\n      <td>11,005</td>\n      <td>24,804,280</td>\n    </tr>\n    <tr>\n      <th>4</th>\n      <td>202111</td>\n      <td>경기도</td>\n      <td>가평군</td>\n      <td>일반용</td>\n      <td>11,053</td>\n      <td>29,566,815</td>\n    </tr>\n    <tr>\n      <th>...</th>\n      <td>...</td>\n      <td>...</td>\n      <td>...</td>\n      <td>...</td>\n      <td>...</td>\n      <td>...</td>\n    </tr>\n    <tr>\n      <th>212</th>\n      <td>202107-202112</td>\n      <td>경기도</td>\n      <td>파주시</td>\n      <td>일반용</td>\n      <td>30402</td>\n      <td>580282111</td>\n    </tr>\n    <tr>\n      <th>213</th>\n      <td>202107-202112</td>\n      <td>경기도</td>\n      <td>평택시</td>\n      <td>일반용</td>\n      <td>41853</td>\n      <td>824701718</td>\n    </tr>\n    <tr>\n      <th>214</th>\n      <td>202107-202112</td>\n      <td>경기도</td>\n      <td>포천시</td>\n      <td>일반용</td>\n      <td>19239</td>\n      <td>264183846</td>\n    </tr>\n    <tr>\n      <th>215</th>\n      <td>202107-202112</td>\n      <td>경기도</td>\n      <td>하남시</td>\n      <td>일반용</td>\n      <td>15523</td>\n      <td>345654518</td>\n    </tr>\n    <tr>\n      <th>216</th>\n      <td>202107-202112</td>\n      <td>경기도</td>\n      <td>화성시</td>\n      <td>일반용</td>\n      <td>48869</td>\n      <td>1305209242</td>\n    </tr>\n  </tbody>\n</table>\n<p>217 rows × 6 columns</p>\n</div>"
     },
     "execution_count": 41,
     "metadata": {},
     "output_type": "execute_result"
    }
   ],
   "source": [
    "GyeonGiHap2 = df_3.copy()\n",
    "GyeonGiHap2.reset_index(drop=True , inplace = True)\n",
    "for i in range(len(SIGUNGU)):\n",
    "    GyeonGiHap2 = GyeonGiHap2.append({'년월' :'202107-202112'  , '시구' : '{}'.format(City) , '시군구' : '{}'.format(SIGUNGU[i]) , '계약구분' : '일반용' , '고객호수(호)' : sum3[i] ,  '사용량(kWh)' : sum2[i]} , ignore_index=True) #년월 파일마다 수정하기\n",
    "GyeonGiHap2"
   ],
   "metadata": {
    "collapsed": false,
    "pycharm": {
     "name": "#%%\n"
    }
   }
  },
  {
   "cell_type": "markdown",
   "source": [
    "### 5. 날짜 체크!!!!!!!!!!!!!!!!!!!!!!!!!!!!!!!!!!!!!!!!!!!!!!!!!!!!"
   ],
   "metadata": {
    "collapsed": false,
    "pycharm": {
     "name": "#%% md\n"
    }
   }
  },
  {
   "cell_type": "code",
   "execution_count": 42,
   "outputs": [
    {
     "data": {
      "text/plain": "                년월   시구   시군구 계약구분 고객호수(호)    사용량(kWh)\n186  202107-202112  경기도   가평군  일반용   11019   177336327\n187  202107-202112  경기도   고양시  일반용   44160  1089684955\n188  202107-202112  경기도   과천시  일반용    2741   106384967\n189  202107-202112  경기도   광명시  일반용   10776   208676208\n190  202107-202112  경기도   광주시  일반용   29077   390933901\n191  202107-202112  경기도   구리시  일반용   10593   192027559\n192  202107-202112  경기도   군포시  일반용    9512   222855648\n193  202107-202112  경기도   김포시  일반용   26014   539716515\n194  202107-202112  경기도  남양주시  일반용   40991   579544642\n195  202107-202112  경기도  동두천시  일반용    6589   117743758\n196  202107-202112  경기도   부천시  일반용   37179   699558828\n197  202107-202112  경기도   성남시  일반용   34539  1464617786\n198  202107-202112  경기도   수원시  일반용   55182  1592581056\n199  202107-202112  경기도   시흥시  일반용   26350   482222349\n200  202107-202112  경기도   안산시  일반용   30758   601763550\n201  202107-202112  경기도   안성시  일반용   16646   325288234\n202  202107-202112  경기도   안양시  일반용   23388   773321904\n203  202107-202112  경기도   양주시  일반용   17001   276718050\n204  202107-202112  경기도   양평군  일반용   13789   146836418\n205  202107-202112  경기도   여주시  일반용   11024   187066479\n206  202107-202112  경기도   연천군  일반용    5239    81945650\n207  202107-202112  경기도   오산시  일반용   12261   229240974\n208  202107-202112  경기도   용인시  일반용   44967  1423070680\n209  202107-202112  경기도   의왕시  일반용    6323   196898484\n210  202107-202112  경기도  의정부시  일반용   22457   373521598\n211  202107-202112  경기도   이천시  일반용   18422   415635376\n212  202107-202112  경기도   파주시  일반용   30402   580282111\n213  202107-202112  경기도   평택시  일반용   41853   824701718\n214  202107-202112  경기도   포천시  일반용   19239   264183846\n215  202107-202112  경기도   하남시  일반용   15523   345654518\n216  202107-202112  경기도   화성시  일반용   48869  1305209242",
      "text/html": "<div>\n<style scoped>\n    .dataframe tbody tr th:only-of-type {\n        vertical-align: middle;\n    }\n\n    .dataframe tbody tr th {\n        vertical-align: top;\n    }\n\n    .dataframe thead th {\n        text-align: right;\n    }\n</style>\n<table border=\"1\" class=\"dataframe\">\n  <thead>\n    <tr style=\"text-align: right;\">\n      <th></th>\n      <th>년월</th>\n      <th>시구</th>\n      <th>시군구</th>\n      <th>계약구분</th>\n      <th>고객호수(호)</th>\n      <th>사용량(kWh)</th>\n    </tr>\n  </thead>\n  <tbody>\n    <tr>\n      <th>186</th>\n      <td>202107-202112</td>\n      <td>경기도</td>\n      <td>가평군</td>\n      <td>일반용</td>\n      <td>11019</td>\n      <td>177336327</td>\n    </tr>\n    <tr>\n      <th>187</th>\n      <td>202107-202112</td>\n      <td>경기도</td>\n      <td>고양시</td>\n      <td>일반용</td>\n      <td>44160</td>\n      <td>1089684955</td>\n    </tr>\n    <tr>\n      <th>188</th>\n      <td>202107-202112</td>\n      <td>경기도</td>\n      <td>과천시</td>\n      <td>일반용</td>\n      <td>2741</td>\n      <td>106384967</td>\n    </tr>\n    <tr>\n      <th>189</th>\n      <td>202107-202112</td>\n      <td>경기도</td>\n      <td>광명시</td>\n      <td>일반용</td>\n      <td>10776</td>\n      <td>208676208</td>\n    </tr>\n    <tr>\n      <th>190</th>\n      <td>202107-202112</td>\n      <td>경기도</td>\n      <td>광주시</td>\n      <td>일반용</td>\n      <td>29077</td>\n      <td>390933901</td>\n    </tr>\n    <tr>\n      <th>191</th>\n      <td>202107-202112</td>\n      <td>경기도</td>\n      <td>구리시</td>\n      <td>일반용</td>\n      <td>10593</td>\n      <td>192027559</td>\n    </tr>\n    <tr>\n      <th>192</th>\n      <td>202107-202112</td>\n      <td>경기도</td>\n      <td>군포시</td>\n      <td>일반용</td>\n      <td>9512</td>\n      <td>222855648</td>\n    </tr>\n    <tr>\n      <th>193</th>\n      <td>202107-202112</td>\n      <td>경기도</td>\n      <td>김포시</td>\n      <td>일반용</td>\n      <td>26014</td>\n      <td>539716515</td>\n    </tr>\n    <tr>\n      <th>194</th>\n      <td>202107-202112</td>\n      <td>경기도</td>\n      <td>남양주시</td>\n      <td>일반용</td>\n      <td>40991</td>\n      <td>579544642</td>\n    </tr>\n    <tr>\n      <th>195</th>\n      <td>202107-202112</td>\n      <td>경기도</td>\n      <td>동두천시</td>\n      <td>일반용</td>\n      <td>6589</td>\n      <td>117743758</td>\n    </tr>\n    <tr>\n      <th>196</th>\n      <td>202107-202112</td>\n      <td>경기도</td>\n      <td>부천시</td>\n      <td>일반용</td>\n      <td>37179</td>\n      <td>699558828</td>\n    </tr>\n    <tr>\n      <th>197</th>\n      <td>202107-202112</td>\n      <td>경기도</td>\n      <td>성남시</td>\n      <td>일반용</td>\n      <td>34539</td>\n      <td>1464617786</td>\n    </tr>\n    <tr>\n      <th>198</th>\n      <td>202107-202112</td>\n      <td>경기도</td>\n      <td>수원시</td>\n      <td>일반용</td>\n      <td>55182</td>\n      <td>1592581056</td>\n    </tr>\n    <tr>\n      <th>199</th>\n      <td>202107-202112</td>\n      <td>경기도</td>\n      <td>시흥시</td>\n      <td>일반용</td>\n      <td>26350</td>\n      <td>482222349</td>\n    </tr>\n    <tr>\n      <th>200</th>\n      <td>202107-202112</td>\n      <td>경기도</td>\n      <td>안산시</td>\n      <td>일반용</td>\n      <td>30758</td>\n      <td>601763550</td>\n    </tr>\n    <tr>\n      <th>201</th>\n      <td>202107-202112</td>\n      <td>경기도</td>\n      <td>안성시</td>\n      <td>일반용</td>\n      <td>16646</td>\n      <td>325288234</td>\n    </tr>\n    <tr>\n      <th>202</th>\n      <td>202107-202112</td>\n      <td>경기도</td>\n      <td>안양시</td>\n      <td>일반용</td>\n      <td>23388</td>\n      <td>773321904</td>\n    </tr>\n    <tr>\n      <th>203</th>\n      <td>202107-202112</td>\n      <td>경기도</td>\n      <td>양주시</td>\n      <td>일반용</td>\n      <td>17001</td>\n      <td>276718050</td>\n    </tr>\n    <tr>\n      <th>204</th>\n      <td>202107-202112</td>\n      <td>경기도</td>\n      <td>양평군</td>\n      <td>일반용</td>\n      <td>13789</td>\n      <td>146836418</td>\n    </tr>\n    <tr>\n      <th>205</th>\n      <td>202107-202112</td>\n      <td>경기도</td>\n      <td>여주시</td>\n      <td>일반용</td>\n      <td>11024</td>\n      <td>187066479</td>\n    </tr>\n    <tr>\n      <th>206</th>\n      <td>202107-202112</td>\n      <td>경기도</td>\n      <td>연천군</td>\n      <td>일반용</td>\n      <td>5239</td>\n      <td>81945650</td>\n    </tr>\n    <tr>\n      <th>207</th>\n      <td>202107-202112</td>\n      <td>경기도</td>\n      <td>오산시</td>\n      <td>일반용</td>\n      <td>12261</td>\n      <td>229240974</td>\n    </tr>\n    <tr>\n      <th>208</th>\n      <td>202107-202112</td>\n      <td>경기도</td>\n      <td>용인시</td>\n      <td>일반용</td>\n      <td>44967</td>\n      <td>1423070680</td>\n    </tr>\n    <tr>\n      <th>209</th>\n      <td>202107-202112</td>\n      <td>경기도</td>\n      <td>의왕시</td>\n      <td>일반용</td>\n      <td>6323</td>\n      <td>196898484</td>\n    </tr>\n    <tr>\n      <th>210</th>\n      <td>202107-202112</td>\n      <td>경기도</td>\n      <td>의정부시</td>\n      <td>일반용</td>\n      <td>22457</td>\n      <td>373521598</td>\n    </tr>\n    <tr>\n      <th>211</th>\n      <td>202107-202112</td>\n      <td>경기도</td>\n      <td>이천시</td>\n      <td>일반용</td>\n      <td>18422</td>\n      <td>415635376</td>\n    </tr>\n    <tr>\n      <th>212</th>\n      <td>202107-202112</td>\n      <td>경기도</td>\n      <td>파주시</td>\n      <td>일반용</td>\n      <td>30402</td>\n      <td>580282111</td>\n    </tr>\n    <tr>\n      <th>213</th>\n      <td>202107-202112</td>\n      <td>경기도</td>\n      <td>평택시</td>\n      <td>일반용</td>\n      <td>41853</td>\n      <td>824701718</td>\n    </tr>\n    <tr>\n      <th>214</th>\n      <td>202107-202112</td>\n      <td>경기도</td>\n      <td>포천시</td>\n      <td>일반용</td>\n      <td>19239</td>\n      <td>264183846</td>\n    </tr>\n    <tr>\n      <th>215</th>\n      <td>202107-202112</td>\n      <td>경기도</td>\n      <td>하남시</td>\n      <td>일반용</td>\n      <td>15523</td>\n      <td>345654518</td>\n    </tr>\n    <tr>\n      <th>216</th>\n      <td>202107-202112</td>\n      <td>경기도</td>\n      <td>화성시</td>\n      <td>일반용</td>\n      <td>48869</td>\n      <td>1305209242</td>\n    </tr>\n  </tbody>\n</table>\n</div>"
     },
     "execution_count": 42,
     "metadata": {},
     "output_type": "execute_result"
    }
   ],
   "source": [
    "GyeonGiHap2 = GyeonGiHap2.loc[GyeonGiHap2['년월'] == '202107-202112']\n",
    "GyeonGiHap2"
   ],
   "metadata": {
    "collapsed": false,
    "pycharm": {
     "name": "#%%\n"
    }
   }
  },
  {
   "cell_type": "code",
   "execution_count": 43,
   "outputs": [
    {
     "data": {
      "text/plain": "                년월   시구  시군구 계약구분 고객호수(호)     사용량(kWh)\n186  202107-202112  경기도  가평군  일반용   11019    177336327\n186  202107-202112  경기도  가평군   합계   11865    333277942\n187  202107-202112  경기도  고양시  일반용   44160   1089684955\n187  202107-202112  경기도  고양시   합계   41034   2489238808\n188  202107-202112  경기도  과천시  일반용    2741    106384967\n..             ...  ...  ...  ...     ...          ...\n214  202107-202112  경기도  포천시  일반용   19239    264183846\n215  202107-202112  경기도  하남시   합계    9668    955686215\n215  202107-202112  경기도  하남시  일반용   15523    345654518\n216  202107-202112  경기도  화성시  일반용   48869   1305209242\n216  202107-202112  경기도  화성시   합계   47738  10447983540\n\n[62 rows x 6 columns]",
      "text/html": "<div>\n<style scoped>\n    .dataframe tbody tr th:only-of-type {\n        vertical-align: middle;\n    }\n\n    .dataframe tbody tr th {\n        vertical-align: top;\n    }\n\n    .dataframe thead th {\n        text-align: right;\n    }\n</style>\n<table border=\"1\" class=\"dataframe\">\n  <thead>\n    <tr style=\"text-align: right;\">\n      <th></th>\n      <th>년월</th>\n      <th>시구</th>\n      <th>시군구</th>\n      <th>계약구분</th>\n      <th>고객호수(호)</th>\n      <th>사용량(kWh)</th>\n    </tr>\n  </thead>\n  <tbody>\n    <tr>\n      <th>186</th>\n      <td>202107-202112</td>\n      <td>경기도</td>\n      <td>가평군</td>\n      <td>일반용</td>\n      <td>11019</td>\n      <td>177336327</td>\n    </tr>\n    <tr>\n      <th>186</th>\n      <td>202107-202112</td>\n      <td>경기도</td>\n      <td>가평군</td>\n      <td>합계</td>\n      <td>11865</td>\n      <td>333277942</td>\n    </tr>\n    <tr>\n      <th>187</th>\n      <td>202107-202112</td>\n      <td>경기도</td>\n      <td>고양시</td>\n      <td>일반용</td>\n      <td>44160</td>\n      <td>1089684955</td>\n    </tr>\n    <tr>\n      <th>187</th>\n      <td>202107-202112</td>\n      <td>경기도</td>\n      <td>고양시</td>\n      <td>합계</td>\n      <td>41034</td>\n      <td>2489238808</td>\n    </tr>\n    <tr>\n      <th>188</th>\n      <td>202107-202112</td>\n      <td>경기도</td>\n      <td>과천시</td>\n      <td>일반용</td>\n      <td>2741</td>\n      <td>106384967</td>\n    </tr>\n    <tr>\n      <th>...</th>\n      <td>...</td>\n      <td>...</td>\n      <td>...</td>\n      <td>...</td>\n      <td>...</td>\n      <td>...</td>\n    </tr>\n    <tr>\n      <th>214</th>\n      <td>202107-202112</td>\n      <td>경기도</td>\n      <td>포천시</td>\n      <td>일반용</td>\n      <td>19239</td>\n      <td>264183846</td>\n    </tr>\n    <tr>\n      <th>215</th>\n      <td>202107-202112</td>\n      <td>경기도</td>\n      <td>하남시</td>\n      <td>합계</td>\n      <td>9668</td>\n      <td>955686215</td>\n    </tr>\n    <tr>\n      <th>215</th>\n      <td>202107-202112</td>\n      <td>경기도</td>\n      <td>하남시</td>\n      <td>일반용</td>\n      <td>15523</td>\n      <td>345654518</td>\n    </tr>\n    <tr>\n      <th>216</th>\n      <td>202107-202112</td>\n      <td>경기도</td>\n      <td>화성시</td>\n      <td>일반용</td>\n      <td>48869</td>\n      <td>1305209242</td>\n    </tr>\n    <tr>\n      <th>216</th>\n      <td>202107-202112</td>\n      <td>경기도</td>\n      <td>화성시</td>\n      <td>합계</td>\n      <td>47738</td>\n      <td>10447983540</td>\n    </tr>\n  </tbody>\n</table>\n<p>62 rows × 6 columns</p>\n</div>"
     },
     "execution_count": 43,
     "metadata": {},
     "output_type": "execute_result"
    }
   ],
   "source": [
    "Final = pd.concat([GyeonGiHap2 , Hap])\n",
    "Final = Final.sort_values('시군구')\n",
    "Final"
   ],
   "metadata": {
    "collapsed": false,
    "pycharm": {
     "name": "#%%\n"
    }
   }
  },
  {
   "cell_type": "code",
   "execution_count": 44,
   "outputs": [
    {
     "data": {
      "text/plain": "[177336327,\n 1089684955,\n 106384967,\n 208676208,\n 390933901,\n 192027559,\n 222855648,\n 539716515,\n 579544642,\n 117743758,\n 699558828,\n 1464617786,\n 1592581056,\n 482222349,\n 601763550,\n 325288234,\n 773321904,\n 276718050,\n 146836418,\n 187066479,\n 81945650,\n 229240974,\n 1423070680,\n 196898484,\n 373521598,\n 415635376,\n 580282111,\n 824701718,\n 264183846,\n 345654518,\n 1305209242]"
     },
     "execution_count": 44,
     "metadata": {},
     "output_type": "execute_result"
    }
   ],
   "source": [
    "# Final['일반용 전기의 비율'] = (Final['사용량(kWh)'].loc[Final['계약구분'] == '일반용']) // (Final['사용량(kWh)'].loc[Final['계약구분'] == '합계'])\n",
    "# Final\n",
    "ex = (Final['사용량(kWh)'].loc[Final['계약구분'] == '일반용']).tolist()\n",
    "\n",
    "\n",
    "ex\n"
   ],
   "metadata": {
    "collapsed": false,
    "pycharm": {
     "name": "#%%\n"
    }
   }
  },
  {
   "cell_type": "code",
   "execution_count": 45,
   "outputs": [
    {
     "data": {
      "text/plain": "[333277942,\n 2489238808,\n 207161995,\n 562937112,\n 1362476370,\n 420372558,\n 771664788,\n 2148955557,\n 1733193068,\n 333579495,\n 2200612342,\n 2845529822,\n 3125380163,\n 2421750490,\n 4148986566,\n 1721415103,\n 1500167803,\n 1142055478,\n 454585737,\n 703098947,\n 290789764,\n 747909978,\n 5471847590,\n 420218407,\n 910071901,\n 4247954249,\n 4735032300,\n 7926844655,\n 1337051727,\n 955686215,\n 10447983540]"
     },
     "execution_count": 45,
     "metadata": {},
     "output_type": "execute_result"
    }
   ],
   "source": [
    "ex_2 =(Final['사용량(kWh)'].loc[Final['계약구분'] == '합계']).tolist()\n",
    "ex_2"
   ],
   "metadata": {
    "collapsed": false,
    "pycharm": {
     "name": "#%%\n"
    }
   }
  },
  {
   "cell_type": "code",
   "execution_count": 46,
   "outputs": [
    {
     "name": "stdout",
     "output_type": "stream",
     "text": [
      "[53.21, 43.78, 51.35, 37.07, 28.69, 45.68, 28.88, 25.12, 33.44, 35.3, 31.79, 51.47, 50.96, 19.91, 14.5, 18.9, 51.55, 24.23, 32.3, 26.61, 28.18, 30.65, 26.01, 46.86, 41.04, 9.78, 12.26, 10.4, 19.76, 36.17, 12.49]\n"
     ]
    }
   ],
   "source": [
    "Rate = []\n",
    "ilban = []\n",
    "rae = 0\n",
    "for i in range(len(ex)):\n",
    "    rae = round(ex[i] / ex_2[i] *100 ,2)\n",
    "    Rate.append(rae)\n",
    "print(Rate)"
   ],
   "metadata": {
    "collapsed": false,
    "pycharm": {
     "name": "#%%\n"
    }
   }
  },
  {
   "cell_type": "code",
   "execution_count": 47,
   "outputs": [
    {
     "data": {
      "text/plain": "0    53\n1    44\n2    51\n3    37\n4    29\n5    46\n6    29\n7    25\n8    33\n9    35\n10   32\n11   51\n12   51\n13   20\n14   14\n15   19\n16   52\n17   24\n18   32\n19   27\n20   28\n21   31\n22   26\n23   47\n24   41\n25   10\n26   12\n27   10\n28   20\n29   36\n30   12\ndtype: float64"
     },
     "execution_count": 47,
     "metadata": {},
     "output_type": "execute_result"
    }
   ],
   "source": [
    "Rate3 = pd.Series(Rate)\n",
    "Rate3\n",
    "\n",
    "# Final = pd.concat([Final , Rate3])\n",
    "# Final"
   ],
   "metadata": {
    "collapsed": false,
    "pycharm": {
     "name": "#%%\n"
    }
   }
  },
  {
   "cell_type": "code",
   "execution_count": 48,
   "outputs": [
    {
     "data": {
      "text/plain": "     시군구 계약구분  비율\n0    가평군  일반용  53\n1    고양시  일반용  44\n2    과천시  일반용  51\n3    광명시  일반용  37\n4    광주시  일반용  29\n5    구리시  일반용  46\n6    군포시  일반용  29\n7    김포시  일반용  25\n8   남양주시  일반용  33\n9   동두천시  일반용  35\n10   부천시  일반용  32\n11   성남시  일반용  51\n12   수원시  일반용  51\n13   시흥시  일반용  20\n14   안산시  일반용  14\n15   안성시  일반용  19\n16   안양시  일반용  52\n17   양주시  일반용  24\n18   양평군  일반용  32\n19   여주시  일반용  27\n20   연천군  일반용  28\n21   오산시  일반용  31\n22   용인시  일반용  26\n23   의왕시  일반용  47\n24  의정부시  일반용  41\n25   이천시  일반용  10\n26   파주시  일반용  12\n27   평택시  일반용  10\n28   포천시  일반용  20\n29   하남시  일반용  36\n30   화성시  일반용  12",
      "text/html": "<div>\n<style scoped>\n    .dataframe tbody tr th:only-of-type {\n        vertical-align: middle;\n    }\n\n    .dataframe tbody tr th {\n        vertical-align: top;\n    }\n\n    .dataframe thead th {\n        text-align: right;\n    }\n</style>\n<table border=\"1\" class=\"dataframe\">\n  <thead>\n    <tr style=\"text-align: right;\">\n      <th></th>\n      <th>시군구</th>\n      <th>계약구분</th>\n      <th>비율</th>\n    </tr>\n  </thead>\n  <tbody>\n    <tr>\n      <th>0</th>\n      <td>가평군</td>\n      <td>일반용</td>\n      <td>53</td>\n    </tr>\n    <tr>\n      <th>1</th>\n      <td>고양시</td>\n      <td>일반용</td>\n      <td>44</td>\n    </tr>\n    <tr>\n      <th>2</th>\n      <td>과천시</td>\n      <td>일반용</td>\n      <td>51</td>\n    </tr>\n    <tr>\n      <th>3</th>\n      <td>광명시</td>\n      <td>일반용</td>\n      <td>37</td>\n    </tr>\n    <tr>\n      <th>4</th>\n      <td>광주시</td>\n      <td>일반용</td>\n      <td>29</td>\n    </tr>\n    <tr>\n      <th>5</th>\n      <td>구리시</td>\n      <td>일반용</td>\n      <td>46</td>\n    </tr>\n    <tr>\n      <th>6</th>\n      <td>군포시</td>\n      <td>일반용</td>\n      <td>29</td>\n    </tr>\n    <tr>\n      <th>7</th>\n      <td>김포시</td>\n      <td>일반용</td>\n      <td>25</td>\n    </tr>\n    <tr>\n      <th>8</th>\n      <td>남양주시</td>\n      <td>일반용</td>\n      <td>33</td>\n    </tr>\n    <tr>\n      <th>9</th>\n      <td>동두천시</td>\n      <td>일반용</td>\n      <td>35</td>\n    </tr>\n    <tr>\n      <th>10</th>\n      <td>부천시</td>\n      <td>일반용</td>\n      <td>32</td>\n    </tr>\n    <tr>\n      <th>11</th>\n      <td>성남시</td>\n      <td>일반용</td>\n      <td>51</td>\n    </tr>\n    <tr>\n      <th>12</th>\n      <td>수원시</td>\n      <td>일반용</td>\n      <td>51</td>\n    </tr>\n    <tr>\n      <th>13</th>\n      <td>시흥시</td>\n      <td>일반용</td>\n      <td>20</td>\n    </tr>\n    <tr>\n      <th>14</th>\n      <td>안산시</td>\n      <td>일반용</td>\n      <td>14</td>\n    </tr>\n    <tr>\n      <th>15</th>\n      <td>안성시</td>\n      <td>일반용</td>\n      <td>19</td>\n    </tr>\n    <tr>\n      <th>16</th>\n      <td>안양시</td>\n      <td>일반용</td>\n      <td>52</td>\n    </tr>\n    <tr>\n      <th>17</th>\n      <td>양주시</td>\n      <td>일반용</td>\n      <td>24</td>\n    </tr>\n    <tr>\n      <th>18</th>\n      <td>양평군</td>\n      <td>일반용</td>\n      <td>32</td>\n    </tr>\n    <tr>\n      <th>19</th>\n      <td>여주시</td>\n      <td>일반용</td>\n      <td>27</td>\n    </tr>\n    <tr>\n      <th>20</th>\n      <td>연천군</td>\n      <td>일반용</td>\n      <td>28</td>\n    </tr>\n    <tr>\n      <th>21</th>\n      <td>오산시</td>\n      <td>일반용</td>\n      <td>31</td>\n    </tr>\n    <tr>\n      <th>22</th>\n      <td>용인시</td>\n      <td>일반용</td>\n      <td>26</td>\n    </tr>\n    <tr>\n      <th>23</th>\n      <td>의왕시</td>\n      <td>일반용</td>\n      <td>47</td>\n    </tr>\n    <tr>\n      <th>24</th>\n      <td>의정부시</td>\n      <td>일반용</td>\n      <td>41</td>\n    </tr>\n    <tr>\n      <th>25</th>\n      <td>이천시</td>\n      <td>일반용</td>\n      <td>10</td>\n    </tr>\n    <tr>\n      <th>26</th>\n      <td>파주시</td>\n      <td>일반용</td>\n      <td>12</td>\n    </tr>\n    <tr>\n      <th>27</th>\n      <td>평택시</td>\n      <td>일반용</td>\n      <td>10</td>\n    </tr>\n    <tr>\n      <th>28</th>\n      <td>포천시</td>\n      <td>일반용</td>\n      <td>20</td>\n    </tr>\n    <tr>\n      <th>29</th>\n      <td>하남시</td>\n      <td>일반용</td>\n      <td>36</td>\n    </tr>\n    <tr>\n      <th>30</th>\n      <td>화성시</td>\n      <td>일반용</td>\n      <td>12</td>\n    </tr>\n  </tbody>\n</table>\n</div>"
     },
     "execution_count": 48,
     "metadata": {},
     "output_type": "execute_result"
    }
   ],
   "source": [
    "for j in range(len(Rate)):\n",
    "    ilban.append('일반용')\n",
    "#print(Rate)\n",
    "\n",
    "Rate2 = pd.DataFrame()\n",
    "Rate2['시군구'] = pd.DataFrame(SIGUNGU)\n",
    "Rate2['계약구분'] = pd.DataFrame(ilban)\n",
    "Rate2['비율'] = pd.DataFrame(Rate)\n",
    "Rate2\n",
    "#print(Rate2.dtypes)"
   ],
   "metadata": {
    "collapsed": false,
    "pycharm": {
     "name": "#%%\n"
    }
   }
  },
  {
   "cell_type": "code",
   "execution_count": 49,
   "outputs": [
    {
     "data": {
      "text/plain": "               년월   시구  시군구 계약구분 고객호수(호)     사용량(kWh)  비율\n0   202107-202112  경기도  가평군  일반용   11019    177336327  53\n1   202107-202112  경기도  가평군   합계   11865    333277942 NaN\n2   202107-202112  경기도  고양시  일반용   44160   1089684955  44\n3   202107-202112  경기도  고양시   합계   41034   2489238808 NaN\n4   202107-202112  경기도  과천시  일반용    2741    106384967  51\n..            ...  ...  ...  ...     ...          ...  ..\n56  202107-202112  경기도  포천시   합계   21383   1337051727 NaN\n59  202107-202112  경기도  하남시  일반용   15523    345654518  36\n58  202107-202112  경기도  하남시   합계    9668    955686215 NaN\n60  202107-202112  경기도  화성시  일반용   48869   1305209242  12\n61  202107-202112  경기도  화성시   합계   47738  10447983540 NaN\n\n[62 rows x 7 columns]",
      "text/html": "<div>\n<style scoped>\n    .dataframe tbody tr th:only-of-type {\n        vertical-align: middle;\n    }\n\n    .dataframe tbody tr th {\n        vertical-align: top;\n    }\n\n    .dataframe thead th {\n        text-align: right;\n    }\n</style>\n<table border=\"1\" class=\"dataframe\">\n  <thead>\n    <tr style=\"text-align: right;\">\n      <th></th>\n      <th>년월</th>\n      <th>시구</th>\n      <th>시군구</th>\n      <th>계약구분</th>\n      <th>고객호수(호)</th>\n      <th>사용량(kWh)</th>\n      <th>비율</th>\n    </tr>\n  </thead>\n  <tbody>\n    <tr>\n      <th>0</th>\n      <td>202107-202112</td>\n      <td>경기도</td>\n      <td>가평군</td>\n      <td>일반용</td>\n      <td>11019</td>\n      <td>177336327</td>\n      <td>53</td>\n    </tr>\n    <tr>\n      <th>1</th>\n      <td>202107-202112</td>\n      <td>경기도</td>\n      <td>가평군</td>\n      <td>합계</td>\n      <td>11865</td>\n      <td>333277942</td>\n      <td>NaN</td>\n    </tr>\n    <tr>\n      <th>2</th>\n      <td>202107-202112</td>\n      <td>경기도</td>\n      <td>고양시</td>\n      <td>일반용</td>\n      <td>44160</td>\n      <td>1089684955</td>\n      <td>44</td>\n    </tr>\n    <tr>\n      <th>3</th>\n      <td>202107-202112</td>\n      <td>경기도</td>\n      <td>고양시</td>\n      <td>합계</td>\n      <td>41034</td>\n      <td>2489238808</td>\n      <td>NaN</td>\n    </tr>\n    <tr>\n      <th>4</th>\n      <td>202107-202112</td>\n      <td>경기도</td>\n      <td>과천시</td>\n      <td>일반용</td>\n      <td>2741</td>\n      <td>106384967</td>\n      <td>51</td>\n    </tr>\n    <tr>\n      <th>...</th>\n      <td>...</td>\n      <td>...</td>\n      <td>...</td>\n      <td>...</td>\n      <td>...</td>\n      <td>...</td>\n      <td>...</td>\n    </tr>\n    <tr>\n      <th>56</th>\n      <td>202107-202112</td>\n      <td>경기도</td>\n      <td>포천시</td>\n      <td>합계</td>\n      <td>21383</td>\n      <td>1337051727</td>\n      <td>NaN</td>\n    </tr>\n    <tr>\n      <th>59</th>\n      <td>202107-202112</td>\n      <td>경기도</td>\n      <td>하남시</td>\n      <td>일반용</td>\n      <td>15523</td>\n      <td>345654518</td>\n      <td>36</td>\n    </tr>\n    <tr>\n      <th>58</th>\n      <td>202107-202112</td>\n      <td>경기도</td>\n      <td>하남시</td>\n      <td>합계</td>\n      <td>9668</td>\n      <td>955686215</td>\n      <td>NaN</td>\n    </tr>\n    <tr>\n      <th>60</th>\n      <td>202107-202112</td>\n      <td>경기도</td>\n      <td>화성시</td>\n      <td>일반용</td>\n      <td>48869</td>\n      <td>1305209242</td>\n      <td>12</td>\n    </tr>\n    <tr>\n      <th>61</th>\n      <td>202107-202112</td>\n      <td>경기도</td>\n      <td>화성시</td>\n      <td>합계</td>\n      <td>47738</td>\n      <td>10447983540</td>\n      <td>NaN</td>\n    </tr>\n  </tbody>\n</table>\n<p>62 rows × 7 columns</p>\n</div>"
     },
     "execution_count": 49,
     "metadata": {},
     "output_type": "execute_result"
    }
   ],
   "source": [
    "Final = pd.merge(Final , Rate2, on=['시군구', '계약구분'] , how='left')\n",
    "\n",
    "#Final.drop(['비율_y]' , axis = 1 , inplace = True)\n",
    "#Final.rename(columns={'비율_y':'전체 계약종별 전력사용량 대비 일반용 사용량 비율'})\n",
    "Final = Final.sort_values(['시군구' , '계약구분'])\n",
    "Final"
   ],
   "metadata": {
    "collapsed": false,
    "pycharm": {
     "name": "#%%\n"
    }
   }
  },
  {
   "cell_type": "code",
   "execution_count": 50,
   "outputs": [],
   "source": [
    "# Final['일반용 전기의 비율'] = Final.append(Rate)\n",
    "# Final"
   ],
   "metadata": {
    "collapsed": false,
    "pycharm": {
     "name": "#%%\n"
    }
   }
  },
  {
   "cell_type": "markdown",
   "source": [
    "### 6. 날짜 체크!!!!!!!!!!!!!!!!!!!!1"
   ],
   "metadata": {
    "collapsed": false,
    "pycharm": {
     "name": "#%% md\n"
    }
   }
  },
  {
   "cell_type": "code",
   "execution_count": 51,
   "outputs": [],
   "source": [
    "Final.to_csv(\"{}_일반용_전력사용량_2107-12.csv\".format(City) , mode = 'w' , encoding= 'cp949' , index =False) #파일명 수정"
   ],
   "metadata": {
    "collapsed": false,
    "pycharm": {
     "name": "#%%\n"
    }
   }
  },
  {
   "cell_type": "code",
   "execution_count": 51,
   "outputs": [],
   "source": [],
   "metadata": {
    "collapsed": false,
    "pycharm": {
     "name": "#%%\n"
    }
   }
  },
  {
   "cell_type": "code",
   "execution_count": 52,
   "outputs": [],
   "source": [
    "# Sigu = list(set(df_3['시군구'].tolist()))\n",
    "#\n",
    "# Sigu.sort()\n",
    "#\n",
    "# Sigu"
   ],
   "metadata": {
    "collapsed": false,
    "pycharm": {
     "name": "#%%\n"
    }
   }
  },
  {
   "cell_type": "code",
   "execution_count": 53,
   "outputs": [],
   "source": [
    "# YearMonth = list(set(df_3['년월'].tolist()))\n",
    "#\n",
    "# YearMonth.sort()\n",
    "# YearMonth"
   ],
   "metadata": {
    "collapsed": false,
    "pycharm": {
     "name": "#%%\n"
    }
   }
  },
  {
   "cell_type": "code",
   "execution_count": 54,
   "outputs": [],
   "source": [
    "# Gayeak = list(set(df_3['계약구분'].tolist()))\n",
    "#\n",
    "# Gayeak.sort()\n",
    "# Gayeak"
   ],
   "metadata": {
    "collapsed": false,
    "pycharm": {
     "name": "#%%\n"
    }
   }
  },
  {
   "cell_type": "code",
   "execution_count": 55,
   "outputs": [],
   "source": [
    "# SEOUL = df_3.loc[(df_3['계약구분'] =='일반용')]\n",
    "# SEOUL.drop(['고객호수(호)' ,'전기요금(원)' , '평균판매단가(원/kWh)'] , axis = 1 , inplace = True)\n",
    "# #SEOUL.dtypes(['사용량(kWh)'])\n",
    "# SEOUL"
   ],
   "metadata": {
    "collapsed": false,
    "pycharm": {
     "name": "#%%\n"
    }
   }
  },
  {
   "cell_type": "code",
   "execution_count": 56,
   "outputs": [],
   "source": [
    "#SEOUL.to_csv(\"서울특별시_일반용_전력사용량.csv\" , mode = 'w' , encoding= 'cp949')"
   ],
   "metadata": {
    "collapsed": false,
    "pycharm": {
     "name": "#%%\n"
    }
   }
  },
  {
   "cell_type": "code",
   "execution_count": 57,
   "outputs": [],
   "source": [
    "# print(SEOUL.dtypes)\n",
    "# SEOUL = SEOUL.astype({'사용량(kWh)' : 'float'})"
   ],
   "metadata": {
    "collapsed": false,
    "pycharm": {
     "name": "#%%\n"
    }
   }
  },
  {
   "cell_type": "code",
   "execution_count": 58,
   "outputs": [],
   "source": [
    "# SEOUL"
   ],
   "metadata": {
    "collapsed": false,
    "pycharm": {
     "name": "#%%\n"
    }
   }
  },
  {
   "cell_type": "code",
   "execution_count": 59,
   "outputs": [],
   "source": [
    "# a = SEOUL['사용량(kWh)'].tolist()\n",
    "# int_list = map(int, a)\n",
    "# b=0\n",
    "# for i in int_list:\n",
    "#     b+=i\n",
    "#\n",
    "# print(b)"
   ],
   "metadata": {
    "collapsed": false,
    "pycharm": {
     "name": "#%%\n"
    }
   }
  },
  {
   "cell_type": "code",
   "execution_count": 59,
   "outputs": [],
   "source": [],
   "metadata": {
    "collapsed": false,
    "pycharm": {
     "name": "#%%\n"
    }
   }
  },
  {
   "cell_type": "code",
   "execution_count": 59,
   "outputs": [],
   "source": [],
   "metadata": {
    "collapsed": false,
    "pycharm": {
     "name": "#%%\n"
    }
   }
  },
  {
   "cell_type": "code",
   "execution_count": 59,
   "outputs": [],
   "source": [],
   "metadata": {
    "collapsed": false,
    "pycharm": {
     "name": "#%%\n"
    }
   }
  },
  {
   "cell_type": "code",
   "execution_count": 59,
   "outputs": [],
   "source": [],
   "metadata": {
    "collapsed": false,
    "pycharm": {
     "name": "#%%\n"
    }
   }
  },
  {
   "cell_type": "code",
   "execution_count": 59,
   "outputs": [],
   "source": [],
   "metadata": {
    "collapsed": false,
    "pycharm": {
     "name": "#%%\n"
    }
   }
  },
  {
   "cell_type": "code",
   "execution_count": 59,
   "outputs": [],
   "source": [],
   "metadata": {
    "collapsed": false,
    "pycharm": {
     "name": "#%%\n"
    }
   }
  },
  {
   "cell_type": "code",
   "execution_count": 59,
   "outputs": [],
   "source": [],
   "metadata": {
    "collapsed": false,
    "pycharm": {
     "name": "#%%\n"
    }
   }
  }
 ],
 "metadata": {
  "kernelspec": {
   "display_name": "Python 3",
   "language": "python",
   "name": "python3"
  },
  "language_info": {
   "codemirror_mode": {
    "name": "ipython",
    "version": 2
   },
   "file_extension": ".py",
   "mimetype": "text/x-python",
   "name": "python",
   "nbconvert_exporter": "python",
   "pygments_lexer": "ipython2",
   "version": "2.7.6"
  }
 },
 "nbformat": 4,
 "nbformat_minor": 0
}