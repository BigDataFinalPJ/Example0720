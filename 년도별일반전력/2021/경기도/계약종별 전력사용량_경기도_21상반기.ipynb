{
 "cells": [
  {
   "cell_type": "markdown",
   "source": [],
   "metadata": {
    "collapsed": false,
    "pycharm": {
     "name": "#%% md\n"
    }
   }
  },
  {
   "cell_type": "code",
   "execution_count": 1,
   "outputs": [],
   "source": [
    "import pandas as pd\n",
    "import re\n",
    "\n",
    "pd.options.display.float_format = '{:.0f}'.format"
   ],
   "metadata": {
    "collapsed": false,
    "pycharm": {
     "name": "#%%\n"
    }
   }
  },
  {
   "cell_type": "markdown",
   "source": [
    "### 1. 꼭 read_csv 21상반기, 19하반기와 같이 맞추어 주세요!!! 또한 지역(전라북도, 남도) 맞추기!!!!!"
   ],
   "metadata": {
    "collapsed": false,
    "pycharm": {
     "name": "#%% md\n"
    }
   }
  },
  {
   "cell_type": "code",
   "execution_count": 2,
   "outputs": [
    {
     "data": {
      "text/plain": "       계약종별 전력사용량 월별( 20220804 현재 ) Unnamed: 1     Unnamed: 2 Unnamed: 3  \\\n0     시도 : 경기도, 시군구 : 전체(시 / 군 / 구)        NaN            NaN        NaN   \n1       기간 : 2021년 01 월 ~ 2021년 06월        NaN            NaN        NaN   \n2                                년월         시구            시군구       계약구분   \n3                            202101        경기도  전체(시 / 군 / 구)        주택용   \n4                            202101        경기도  전체(시 / 군 / 구)        일반용   \n...                             ...        ...            ...        ...   \n1531                         202106        경기도            화성시        산업용   \n1532                         202106        경기도            화성시        심 야   \n1533                         202106        경기도            화성시        일반용   \n1534                         202106        경기도            화성시        주택용   \n1535                         202106        경기도            화성시         합계   \n\n      Unnamed: 4      Unnamed: 5        Unnamed: 6     Unnamed: 7  \n0            NaN             NaN               NaN            NaN  \n1            NaN             NaN               NaN            NaN  \n2        고객호수(호)        사용량(kWh)           전기요금(원)  평균판매단가(원/kWh)  \n3     3,022,730   1,881,372,025   223,583,388,621          118.8   \n4       708,113   3,034,698,761   385,578,993,725          127.1   \n...          ...             ...               ...            ...  \n1531     21,831   1,311,402,260   150,954,511,827          115.1   \n1532     11,366       8,213,724       459,694,915             56   \n1533     48,147     196,679,468    25,371,551,588            129   \n1534    147,156     111,369,930    11,770,236,517          105.7   \n1535    281,497   1,658,284,679   190,911,586,231          115.1   \n\n[1536 rows x 8 columns]",
      "text/html": "<div>\n<style scoped>\n    .dataframe tbody tr th:only-of-type {\n        vertical-align: middle;\n    }\n\n    .dataframe tbody tr th {\n        vertical-align: top;\n    }\n\n    .dataframe thead th {\n        text-align: right;\n    }\n</style>\n<table border=\"1\" class=\"dataframe\">\n  <thead>\n    <tr style=\"text-align: right;\">\n      <th></th>\n      <th>계약종별 전력사용량 월별( 20220804 현재 )</th>\n      <th>Unnamed: 1</th>\n      <th>Unnamed: 2</th>\n      <th>Unnamed: 3</th>\n      <th>Unnamed: 4</th>\n      <th>Unnamed: 5</th>\n      <th>Unnamed: 6</th>\n      <th>Unnamed: 7</th>\n    </tr>\n  </thead>\n  <tbody>\n    <tr>\n      <th>0</th>\n      <td>시도 : 경기도, 시군구 : 전체(시 / 군 / 구)</td>\n      <td>NaN</td>\n      <td>NaN</td>\n      <td>NaN</td>\n      <td>NaN</td>\n      <td>NaN</td>\n      <td>NaN</td>\n      <td>NaN</td>\n    </tr>\n    <tr>\n      <th>1</th>\n      <td>기간 : 2021년 01 월 ~ 2021년 06월</td>\n      <td>NaN</td>\n      <td>NaN</td>\n      <td>NaN</td>\n      <td>NaN</td>\n      <td>NaN</td>\n      <td>NaN</td>\n      <td>NaN</td>\n    </tr>\n    <tr>\n      <th>2</th>\n      <td>년월</td>\n      <td>시구</td>\n      <td>시군구</td>\n      <td>계약구분</td>\n      <td>고객호수(호)</td>\n      <td>사용량(kWh)</td>\n      <td>전기요금(원)</td>\n      <td>평균판매단가(원/kWh)</td>\n    </tr>\n    <tr>\n      <th>3</th>\n      <td>202101</td>\n      <td>경기도</td>\n      <td>전체(시 / 군 / 구)</td>\n      <td>주택용</td>\n      <td>3,022,730</td>\n      <td>1,881,372,025</td>\n      <td>223,583,388,621</td>\n      <td>118.8</td>\n    </tr>\n    <tr>\n      <th>4</th>\n      <td>202101</td>\n      <td>경기도</td>\n      <td>전체(시 / 군 / 구)</td>\n      <td>일반용</td>\n      <td>708,113</td>\n      <td>3,034,698,761</td>\n      <td>385,578,993,725</td>\n      <td>127.1</td>\n    </tr>\n    <tr>\n      <th>...</th>\n      <td>...</td>\n      <td>...</td>\n      <td>...</td>\n      <td>...</td>\n      <td>...</td>\n      <td>...</td>\n      <td>...</td>\n      <td>...</td>\n    </tr>\n    <tr>\n      <th>1531</th>\n      <td>202106</td>\n      <td>경기도</td>\n      <td>화성시</td>\n      <td>산업용</td>\n      <td>21,831</td>\n      <td>1,311,402,260</td>\n      <td>150,954,511,827</td>\n      <td>115.1</td>\n    </tr>\n    <tr>\n      <th>1532</th>\n      <td>202106</td>\n      <td>경기도</td>\n      <td>화성시</td>\n      <td>심 야</td>\n      <td>11,366</td>\n      <td>8,213,724</td>\n      <td>459,694,915</td>\n      <td>56</td>\n    </tr>\n    <tr>\n      <th>1533</th>\n      <td>202106</td>\n      <td>경기도</td>\n      <td>화성시</td>\n      <td>일반용</td>\n      <td>48,147</td>\n      <td>196,679,468</td>\n      <td>25,371,551,588</td>\n      <td>129</td>\n    </tr>\n    <tr>\n      <th>1534</th>\n      <td>202106</td>\n      <td>경기도</td>\n      <td>화성시</td>\n      <td>주택용</td>\n      <td>147,156</td>\n      <td>111,369,930</td>\n      <td>11,770,236,517</td>\n      <td>105.7</td>\n    </tr>\n    <tr>\n      <th>1535</th>\n      <td>202106</td>\n      <td>경기도</td>\n      <td>화성시</td>\n      <td>합계</td>\n      <td>281,497</td>\n      <td>1,658,284,679</td>\n      <td>190,911,586,231</td>\n      <td>115.1</td>\n    </tr>\n  </tbody>\n</table>\n<p>1536 rows × 8 columns</p>\n</div>"
     },
     "execution_count": 2,
     "metadata": {},
     "output_type": "execute_result"
    }
   ],
   "source": [
    "df = pd.read_csv('경기도_계약종별_전력사용량_월별_21상반기.csv' , encoding='cp949')\n",
    "\n",
    "df\n",
    "#exchng=  pd.read_csv('지역별_전력거래량_20220803093050.csv' , encoding='cp949')"
   ],
   "metadata": {
    "collapsed": false,
    "pycharm": {
     "name": "#%%\n"
    }
   }
  },
  {
   "cell_type": "code",
   "execution_count": 3,
   "outputs": [
    {
     "data": {
      "text/plain": "     계약종별 전력사용량 월별( 20220804 현재 ) Unnamed: 1     Unnamed: 2 Unnamed: 3  \\\n2                              년월         시구            시군구       계약구분   \n3                          202101        경기도  전체(시 / 군 / 구)        주택용   \n4                          202101        경기도  전체(시 / 군 / 구)        일반용   \n5                          202101        경기도  전체(시 / 군 / 구)        교육용   \n6                          202101        경기도  전체(시 / 군 / 구)        산업용   \n...                           ...        ...            ...        ...   \n1531                       202106        경기도            화성시        산업용   \n1532                       202106        경기도            화성시        심 야   \n1533                       202106        경기도            화성시        일반용   \n1534                       202106        경기도            화성시        주택용   \n1535                       202106        경기도            화성시         합계   \n\n      Unnamed: 4      Unnamed: 5        Unnamed: 6     Unnamed: 7  \n2        고객호수(호)        사용량(kWh)           전기요금(원)  평균판매단가(원/kWh)  \n3     3,022,730   1,881,372,025   223,583,388,621          118.8   \n4       708,113   3,034,698,761   385,578,993,725          127.1   \n5         4,532     202,960,431    18,508,160,674           91.2   \n6       133,001   6,398,473,417   719,747,563,555          112.5   \n...          ...             ...               ...            ...  \n1531     21,831   1,311,402,260   150,954,511,827          115.1   \n1532     11,366       8,213,724       459,694,915             56   \n1533     48,147     196,679,468    25,371,551,588            129   \n1534    147,156     111,369,930    11,770,236,517          105.7   \n1535    281,497   1,658,284,679   190,911,586,231          115.1   \n\n[1533 rows x 8 columns]",
      "text/html": "<div>\n<style scoped>\n    .dataframe tbody tr th:only-of-type {\n        vertical-align: middle;\n    }\n\n    .dataframe tbody tr th {\n        vertical-align: top;\n    }\n\n    .dataframe thead th {\n        text-align: right;\n    }\n</style>\n<table border=\"1\" class=\"dataframe\">\n  <thead>\n    <tr style=\"text-align: right;\">\n      <th></th>\n      <th>계약종별 전력사용량 월별( 20220804 현재 )</th>\n      <th>Unnamed: 1</th>\n      <th>Unnamed: 2</th>\n      <th>Unnamed: 3</th>\n      <th>Unnamed: 4</th>\n      <th>Unnamed: 5</th>\n      <th>Unnamed: 6</th>\n      <th>Unnamed: 7</th>\n    </tr>\n  </thead>\n  <tbody>\n    <tr>\n      <th>2</th>\n      <td>년월</td>\n      <td>시구</td>\n      <td>시군구</td>\n      <td>계약구분</td>\n      <td>고객호수(호)</td>\n      <td>사용량(kWh)</td>\n      <td>전기요금(원)</td>\n      <td>평균판매단가(원/kWh)</td>\n    </tr>\n    <tr>\n      <th>3</th>\n      <td>202101</td>\n      <td>경기도</td>\n      <td>전체(시 / 군 / 구)</td>\n      <td>주택용</td>\n      <td>3,022,730</td>\n      <td>1,881,372,025</td>\n      <td>223,583,388,621</td>\n      <td>118.8</td>\n    </tr>\n    <tr>\n      <th>4</th>\n      <td>202101</td>\n      <td>경기도</td>\n      <td>전체(시 / 군 / 구)</td>\n      <td>일반용</td>\n      <td>708,113</td>\n      <td>3,034,698,761</td>\n      <td>385,578,993,725</td>\n      <td>127.1</td>\n    </tr>\n    <tr>\n      <th>5</th>\n      <td>202101</td>\n      <td>경기도</td>\n      <td>전체(시 / 군 / 구)</td>\n      <td>교육용</td>\n      <td>4,532</td>\n      <td>202,960,431</td>\n      <td>18,508,160,674</td>\n      <td>91.2</td>\n    </tr>\n    <tr>\n      <th>6</th>\n      <td>202101</td>\n      <td>경기도</td>\n      <td>전체(시 / 군 / 구)</td>\n      <td>산업용</td>\n      <td>133,001</td>\n      <td>6,398,473,417</td>\n      <td>719,747,563,555</td>\n      <td>112.5</td>\n    </tr>\n    <tr>\n      <th>...</th>\n      <td>...</td>\n      <td>...</td>\n      <td>...</td>\n      <td>...</td>\n      <td>...</td>\n      <td>...</td>\n      <td>...</td>\n      <td>...</td>\n    </tr>\n    <tr>\n      <th>1531</th>\n      <td>202106</td>\n      <td>경기도</td>\n      <td>화성시</td>\n      <td>산업용</td>\n      <td>21,831</td>\n      <td>1,311,402,260</td>\n      <td>150,954,511,827</td>\n      <td>115.1</td>\n    </tr>\n    <tr>\n      <th>1532</th>\n      <td>202106</td>\n      <td>경기도</td>\n      <td>화성시</td>\n      <td>심 야</td>\n      <td>11,366</td>\n      <td>8,213,724</td>\n      <td>459,694,915</td>\n      <td>56</td>\n    </tr>\n    <tr>\n      <th>1533</th>\n      <td>202106</td>\n      <td>경기도</td>\n      <td>화성시</td>\n      <td>일반용</td>\n      <td>48,147</td>\n      <td>196,679,468</td>\n      <td>25,371,551,588</td>\n      <td>129</td>\n    </tr>\n    <tr>\n      <th>1534</th>\n      <td>202106</td>\n      <td>경기도</td>\n      <td>화성시</td>\n      <td>주택용</td>\n      <td>147,156</td>\n      <td>111,369,930</td>\n      <td>11,770,236,517</td>\n      <td>105.7</td>\n    </tr>\n    <tr>\n      <th>1535</th>\n      <td>202106</td>\n      <td>경기도</td>\n      <td>화성시</td>\n      <td>합계</td>\n      <td>281,497</td>\n      <td>1,658,284,679</td>\n      <td>190,911,586,231</td>\n      <td>115.1</td>\n    </tr>\n  </tbody>\n</table>\n<p>1533 rows × 8 columns</p>\n</div>"
     },
     "execution_count": 3,
     "metadata": {},
     "output_type": "execute_result"
    }
   ],
   "source": [
    "df = df.drop([0,1 , 46] , axis = 0)\n",
    "#0,1 , 10은 지우는게 맞다\n",
    "df"
   ],
   "metadata": {
    "collapsed": false,
    "pycharm": {
     "name": "#%%\n"
    }
   }
  },
  {
   "cell_type": "code",
   "execution_count": 4,
   "outputs": [],
   "source": [
    "a= df.loc[2].tolist()\n",
    "a\n",
    "df = df.drop([2] , axis = 0)"
   ],
   "metadata": {
    "collapsed": false,
    "pycharm": {
     "name": "#%%\n"
    }
   }
  },
  {
   "cell_type": "code",
   "execution_count": 5,
   "outputs": [
    {
     "data": {
      "text/plain": "          년월   시구            시군구 계약구분     고객호수(호)        사용량(kWh)  \\\n3     202101  경기도  전체(시 / 군 / 구)  주택용  3,022,730   1,881,372,025    \n4     202101  경기도  전체(시 / 군 / 구)  일반용    708,113   3,034,698,761    \n5     202101  경기도  전체(시 / 군 / 구)  교육용      4,532     202,960,431    \n6     202101  경기도  전체(시 / 군 / 구)  산업용    133,001   6,398,473,417    \n7     202101  경기도  전체(시 / 군 / 구)  농사용    237,710     301,196,370    \n...      ...  ...            ...  ...         ...             ...   \n1531  202106  경기도            화성시  산업용     21,831   1,311,402,260    \n1532  202106  경기도            화성시  심 야     11,366       8,213,724    \n1533  202106  경기도            화성시  일반용     48,147     196,679,468    \n1534  202106  경기도            화성시  주택용    147,156     111,369,930    \n1535  202106  경기도            화성시   합계    281,497   1,658,284,679    \n\n               전기요금(원) 평균판매단가(원/kWh)  \n3     223,583,388,621         118.8   \n4     385,578,993,725         127.1   \n5      18,508,160,674          91.2   \n6     719,747,563,555         112.5   \n7      13,412,229,410          44.5   \n...                ...           ...  \n1531  150,954,511,827         115.1   \n1532      459,694,915            56   \n1533   25,371,551,588           129   \n1534   11,770,236,517         105.7   \n1535  190,911,586,231         115.1   \n\n[1532 rows x 8 columns]",
      "text/html": "<div>\n<style scoped>\n    .dataframe tbody tr th:only-of-type {\n        vertical-align: middle;\n    }\n\n    .dataframe tbody tr th {\n        vertical-align: top;\n    }\n\n    .dataframe thead th {\n        text-align: right;\n    }\n</style>\n<table border=\"1\" class=\"dataframe\">\n  <thead>\n    <tr style=\"text-align: right;\">\n      <th></th>\n      <th>년월</th>\n      <th>시구</th>\n      <th>시군구</th>\n      <th>계약구분</th>\n      <th>고객호수(호)</th>\n      <th>사용량(kWh)</th>\n      <th>전기요금(원)</th>\n      <th>평균판매단가(원/kWh)</th>\n    </tr>\n  </thead>\n  <tbody>\n    <tr>\n      <th>3</th>\n      <td>202101</td>\n      <td>경기도</td>\n      <td>전체(시 / 군 / 구)</td>\n      <td>주택용</td>\n      <td>3,022,730</td>\n      <td>1,881,372,025</td>\n      <td>223,583,388,621</td>\n      <td>118.8</td>\n    </tr>\n    <tr>\n      <th>4</th>\n      <td>202101</td>\n      <td>경기도</td>\n      <td>전체(시 / 군 / 구)</td>\n      <td>일반용</td>\n      <td>708,113</td>\n      <td>3,034,698,761</td>\n      <td>385,578,993,725</td>\n      <td>127.1</td>\n    </tr>\n    <tr>\n      <th>5</th>\n      <td>202101</td>\n      <td>경기도</td>\n      <td>전체(시 / 군 / 구)</td>\n      <td>교육용</td>\n      <td>4,532</td>\n      <td>202,960,431</td>\n      <td>18,508,160,674</td>\n      <td>91.2</td>\n    </tr>\n    <tr>\n      <th>6</th>\n      <td>202101</td>\n      <td>경기도</td>\n      <td>전체(시 / 군 / 구)</td>\n      <td>산업용</td>\n      <td>133,001</td>\n      <td>6,398,473,417</td>\n      <td>719,747,563,555</td>\n      <td>112.5</td>\n    </tr>\n    <tr>\n      <th>7</th>\n      <td>202101</td>\n      <td>경기도</td>\n      <td>전체(시 / 군 / 구)</td>\n      <td>농사용</td>\n      <td>237,710</td>\n      <td>301,196,370</td>\n      <td>13,412,229,410</td>\n      <td>44.5</td>\n    </tr>\n    <tr>\n      <th>...</th>\n      <td>...</td>\n      <td>...</td>\n      <td>...</td>\n      <td>...</td>\n      <td>...</td>\n      <td>...</td>\n      <td>...</td>\n      <td>...</td>\n    </tr>\n    <tr>\n      <th>1531</th>\n      <td>202106</td>\n      <td>경기도</td>\n      <td>화성시</td>\n      <td>산업용</td>\n      <td>21,831</td>\n      <td>1,311,402,260</td>\n      <td>150,954,511,827</td>\n      <td>115.1</td>\n    </tr>\n    <tr>\n      <th>1532</th>\n      <td>202106</td>\n      <td>경기도</td>\n      <td>화성시</td>\n      <td>심 야</td>\n      <td>11,366</td>\n      <td>8,213,724</td>\n      <td>459,694,915</td>\n      <td>56</td>\n    </tr>\n    <tr>\n      <th>1533</th>\n      <td>202106</td>\n      <td>경기도</td>\n      <td>화성시</td>\n      <td>일반용</td>\n      <td>48,147</td>\n      <td>196,679,468</td>\n      <td>25,371,551,588</td>\n      <td>129</td>\n    </tr>\n    <tr>\n      <th>1534</th>\n      <td>202106</td>\n      <td>경기도</td>\n      <td>화성시</td>\n      <td>주택용</td>\n      <td>147,156</td>\n      <td>111,369,930</td>\n      <td>11,770,236,517</td>\n      <td>105.7</td>\n    </tr>\n    <tr>\n      <th>1535</th>\n      <td>202106</td>\n      <td>경기도</td>\n      <td>화성시</td>\n      <td>합계</td>\n      <td>281,497</td>\n      <td>1,658,284,679</td>\n      <td>190,911,586,231</td>\n      <td>115.1</td>\n    </tr>\n  </tbody>\n</table>\n<p>1532 rows × 8 columns</p>\n</div>"
     },
     "execution_count": 5,
     "metadata": {},
     "output_type": "execute_result"
    }
   ],
   "source": [
    "df.columns = a\n",
    "df"
   ],
   "metadata": {
    "collapsed": false,
    "pycharm": {
     "name": "#%%\n"
    }
   }
  },
  {
   "cell_type": "code",
   "execution_count": 6,
   "outputs": [
    {
     "data": {
      "text/plain": "        년월   시구            시군구 계약구분     고객호수(호)        사용량(kWh)  \\\n3   202101  경기도  전체(시 / 군 / 구)  주택용  3,022,730   1,881,372,025    \n4   202101  경기도  전체(시 / 군 / 구)  일반용    708,113   3,034,698,761    \n5   202101  경기도  전체(시 / 군 / 구)  교육용      4,532     202,960,431    \n6   202101  경기도  전체(시 / 군 / 구)  산업용    133,001   6,398,473,417    \n7   202101  경기도  전체(시 / 군 / 구)  농사용    237,710     301,196,370    \n8   202101  경기도  전체(시 / 군 / 구)  가로등    371,221      81,444,942    \n9   202101  경기도  전체(시 / 군 / 구)  심 야    134,878     419,443,230    \n10  202102  경기도  전체(시 / 군 / 구)  주택용  3,024,122   1,814,356,149    \n11  202102  경기도  전체(시 / 군 / 구)  일반용    708,695   2,865,372,717    \n12  202102  경기도  전체(시 / 군 / 구)  교육용      4,555     162,845,439    \n13  202102  경기도  전체(시 / 군 / 구)  산업용    133,247   5,870,630,052    \n14  202102  경기도  전체(시 / 군 / 구)  농사용    237,799     283,292,921    \n15  202102  경기도  전체(시 / 군 / 구)  가로등    370,106      76,352,030    \n16  202102  경기도  전체(시 / 군 / 구)  심 야    134,388     391,325,043    \n17  202103  경기도  전체(시 / 군 / 구)  주택용  3,026,154   1,560,797,581    \n18  202103  경기도  전체(시 / 군 / 구)  일반용    709,067   2,414,700,789    \n19  202103  경기도  전체(시 / 군 / 구)  교육용      4,561     145,872,020    \n20  202103  경기도  전체(시 / 군 / 구)  산업용    133,420   5,973,031,290    \n21  202103  경기도  전체(시 / 군 / 구)  농사용    309,019     221,096,222    \n22  202103  경기도  전체(시 / 군 / 구)  가로등    371,987      69,505,526    \n23  202103  경기도  전체(시 / 군 / 구)  심 야    133,852     283,283,181    \n24  202104  경기도  전체(시 / 군 / 구)  주택용  3,032,944   1,602,034,086    \n25  202104  경기도  전체(시 / 군 / 구)  일반용    711,355   2,266,415,201    \n26  202104  경기도  전체(시 / 군 / 구)  교육용      4,552     118,689,107    \n27  202104  경기도  전체(시 / 군 / 구)  산업용    133,726   5,873,685,151    \n28  202104  경기도  전체(시 / 군 / 구)  농사용    248,106     200,140,743    \n29  202104  경기도  전체(시 / 군 / 구)  가로등    372,776      69,059,489    \n30  202104  경기도  전체(시 / 군 / 구)  심 야    133,399     208,315,329    \n31  202105  경기도  전체(시 / 군 / 구)  주택용  3,035,116   1,525,515,035    \n32  202105  경기도  전체(시 / 군 / 구)  일반용    712,683   2,169,671,359    \n33  202105  경기도  전체(시 / 군 / 구)  교육용      4,549      94,310,222    \n34  202105  경기도  전체(시 / 군 / 구)  산업용    133,939   5,838,649,785    \n35  202105  경기도  전체(시 / 군 / 구)  농사용    241,396     190,286,301    \n36  202105  경기도  전체(시 / 군 / 구)  가로등    375,271      63,635,526    \n37  202105  경기도  전체(시 / 군 / 구)  심 야    132,822     142,861,428    \n38  202106  경기도  전체(시 / 군 / 구)  주택용  3,037,134   1,596,020,991    \n39  202106  경기도  전체(시 / 군 / 구)  일반용    714,779   2,437,733,964    \n40  202106  경기도  전체(시 / 군 / 구)  교육용      4,542     106,575,791    \n41  202106  경기도  전체(시 / 군 / 구)  산업용    134,179   6,013,273,444    \n42  202106  경기도  전체(시 / 군 / 구)  농사용    242,385     191,769,746    \n43  202106  경기도  전체(시 / 군 / 구)  가로등    386,095      60,415,635    \n44  202106  경기도  전체(시 / 군 / 구)  심 야    132,326     107,009,176    \n45      합계   합계             합계   합계  27,837,231  65,328,117,645   \n\n              전기요금(원) 평균판매단가(원/kWh)  \n3    223,583,388,621         118.8   \n4    385,578,993,725         127.1   \n5     18,508,160,674          91.2   \n6    719,747,563,555         112.5   \n7     13,412,229,410          44.5   \n8      8,662,756,050         106.4   \n9     30,493,761,129          72.7   \n10   209,738,032,163         115.6   \n11   369,785,214,367         129.1   \n12    15,749,688,078          96.7   \n13   667,270,548,120         113.7   \n14    12,757,834,625          45.0   \n15     8,476,865,124         111.0   \n16    28,501,351,170          72.8   \n17   161,469,953,816         103.5   \n18   289,854,950,145         120.0   \n19    14,580,302,184         100.0   \n20   571,215,879,763          95.6   \n21    10,269,064,336          46.4   \n22     7,842,672,516         112.8   \n23    18,248,808,169          64.4   \n24   168,555,149,148         105.2   \n25   256,998,371,867         113.4   \n26    10,873,609,961          91.6   \n27   549,632,455,560          93.6   \n28     9,291,785,712          46.4   \n29     7,996,812,014         115.8   \n30    10,986,836,596          52.7   \n31   154,989,729,094         101.6   \n32   248,171,247,408         114.4   \n33     8,843,062,487          93.8   \n34   538,711,662,823          92.3   \n35     8,628,227,662          45.3   \n36     7,606,419,725         119.5   \n37     7,713,337,689          54.0   \n38   167,767,233,011         105.1   \n39   322,168,007,171         132.2   \n40    12,272,963,224         115.2   \n41   699,730,871,484         116.4   \n42     8,724,880,469          45.5   \n43     7,448,509,031         123.3   \n44     6,018,380,011          56.2   \n45  6,998,877,569,887         107.1  ",
      "text/html": "<div>\n<style scoped>\n    .dataframe tbody tr th:only-of-type {\n        vertical-align: middle;\n    }\n\n    .dataframe tbody tr th {\n        vertical-align: top;\n    }\n\n    .dataframe thead th {\n        text-align: right;\n    }\n</style>\n<table border=\"1\" class=\"dataframe\">\n  <thead>\n    <tr style=\"text-align: right;\">\n      <th></th>\n      <th>년월</th>\n      <th>시구</th>\n      <th>시군구</th>\n      <th>계약구분</th>\n      <th>고객호수(호)</th>\n      <th>사용량(kWh)</th>\n      <th>전기요금(원)</th>\n      <th>평균판매단가(원/kWh)</th>\n    </tr>\n  </thead>\n  <tbody>\n    <tr>\n      <th>3</th>\n      <td>202101</td>\n      <td>경기도</td>\n      <td>전체(시 / 군 / 구)</td>\n      <td>주택용</td>\n      <td>3,022,730</td>\n      <td>1,881,372,025</td>\n      <td>223,583,388,621</td>\n      <td>118.8</td>\n    </tr>\n    <tr>\n      <th>4</th>\n      <td>202101</td>\n      <td>경기도</td>\n      <td>전체(시 / 군 / 구)</td>\n      <td>일반용</td>\n      <td>708,113</td>\n      <td>3,034,698,761</td>\n      <td>385,578,993,725</td>\n      <td>127.1</td>\n    </tr>\n    <tr>\n      <th>5</th>\n      <td>202101</td>\n      <td>경기도</td>\n      <td>전체(시 / 군 / 구)</td>\n      <td>교육용</td>\n      <td>4,532</td>\n      <td>202,960,431</td>\n      <td>18,508,160,674</td>\n      <td>91.2</td>\n    </tr>\n    <tr>\n      <th>6</th>\n      <td>202101</td>\n      <td>경기도</td>\n      <td>전체(시 / 군 / 구)</td>\n      <td>산업용</td>\n      <td>133,001</td>\n      <td>6,398,473,417</td>\n      <td>719,747,563,555</td>\n      <td>112.5</td>\n    </tr>\n    <tr>\n      <th>7</th>\n      <td>202101</td>\n      <td>경기도</td>\n      <td>전체(시 / 군 / 구)</td>\n      <td>농사용</td>\n      <td>237,710</td>\n      <td>301,196,370</td>\n      <td>13,412,229,410</td>\n      <td>44.5</td>\n    </tr>\n    <tr>\n      <th>8</th>\n      <td>202101</td>\n      <td>경기도</td>\n      <td>전체(시 / 군 / 구)</td>\n      <td>가로등</td>\n      <td>371,221</td>\n      <td>81,444,942</td>\n      <td>8,662,756,050</td>\n      <td>106.4</td>\n    </tr>\n    <tr>\n      <th>9</th>\n      <td>202101</td>\n      <td>경기도</td>\n      <td>전체(시 / 군 / 구)</td>\n      <td>심 야</td>\n      <td>134,878</td>\n      <td>419,443,230</td>\n      <td>30,493,761,129</td>\n      <td>72.7</td>\n    </tr>\n    <tr>\n      <th>10</th>\n      <td>202102</td>\n      <td>경기도</td>\n      <td>전체(시 / 군 / 구)</td>\n      <td>주택용</td>\n      <td>3,024,122</td>\n      <td>1,814,356,149</td>\n      <td>209,738,032,163</td>\n      <td>115.6</td>\n    </tr>\n    <tr>\n      <th>11</th>\n      <td>202102</td>\n      <td>경기도</td>\n      <td>전체(시 / 군 / 구)</td>\n      <td>일반용</td>\n      <td>708,695</td>\n      <td>2,865,372,717</td>\n      <td>369,785,214,367</td>\n      <td>129.1</td>\n    </tr>\n    <tr>\n      <th>12</th>\n      <td>202102</td>\n      <td>경기도</td>\n      <td>전체(시 / 군 / 구)</td>\n      <td>교육용</td>\n      <td>4,555</td>\n      <td>162,845,439</td>\n      <td>15,749,688,078</td>\n      <td>96.7</td>\n    </tr>\n    <tr>\n      <th>13</th>\n      <td>202102</td>\n      <td>경기도</td>\n      <td>전체(시 / 군 / 구)</td>\n      <td>산업용</td>\n      <td>133,247</td>\n      <td>5,870,630,052</td>\n      <td>667,270,548,120</td>\n      <td>113.7</td>\n    </tr>\n    <tr>\n      <th>14</th>\n      <td>202102</td>\n      <td>경기도</td>\n      <td>전체(시 / 군 / 구)</td>\n      <td>농사용</td>\n      <td>237,799</td>\n      <td>283,292,921</td>\n      <td>12,757,834,625</td>\n      <td>45.0</td>\n    </tr>\n    <tr>\n      <th>15</th>\n      <td>202102</td>\n      <td>경기도</td>\n      <td>전체(시 / 군 / 구)</td>\n      <td>가로등</td>\n      <td>370,106</td>\n      <td>76,352,030</td>\n      <td>8,476,865,124</td>\n      <td>111.0</td>\n    </tr>\n    <tr>\n      <th>16</th>\n      <td>202102</td>\n      <td>경기도</td>\n      <td>전체(시 / 군 / 구)</td>\n      <td>심 야</td>\n      <td>134,388</td>\n      <td>391,325,043</td>\n      <td>28,501,351,170</td>\n      <td>72.8</td>\n    </tr>\n    <tr>\n      <th>17</th>\n      <td>202103</td>\n      <td>경기도</td>\n      <td>전체(시 / 군 / 구)</td>\n      <td>주택용</td>\n      <td>3,026,154</td>\n      <td>1,560,797,581</td>\n      <td>161,469,953,816</td>\n      <td>103.5</td>\n    </tr>\n    <tr>\n      <th>18</th>\n      <td>202103</td>\n      <td>경기도</td>\n      <td>전체(시 / 군 / 구)</td>\n      <td>일반용</td>\n      <td>709,067</td>\n      <td>2,414,700,789</td>\n      <td>289,854,950,145</td>\n      <td>120.0</td>\n    </tr>\n    <tr>\n      <th>19</th>\n      <td>202103</td>\n      <td>경기도</td>\n      <td>전체(시 / 군 / 구)</td>\n      <td>교육용</td>\n      <td>4,561</td>\n      <td>145,872,020</td>\n      <td>14,580,302,184</td>\n      <td>100.0</td>\n    </tr>\n    <tr>\n      <th>20</th>\n      <td>202103</td>\n      <td>경기도</td>\n      <td>전체(시 / 군 / 구)</td>\n      <td>산업용</td>\n      <td>133,420</td>\n      <td>5,973,031,290</td>\n      <td>571,215,879,763</td>\n      <td>95.6</td>\n    </tr>\n    <tr>\n      <th>21</th>\n      <td>202103</td>\n      <td>경기도</td>\n      <td>전체(시 / 군 / 구)</td>\n      <td>농사용</td>\n      <td>309,019</td>\n      <td>221,096,222</td>\n      <td>10,269,064,336</td>\n      <td>46.4</td>\n    </tr>\n    <tr>\n      <th>22</th>\n      <td>202103</td>\n      <td>경기도</td>\n      <td>전체(시 / 군 / 구)</td>\n      <td>가로등</td>\n      <td>371,987</td>\n      <td>69,505,526</td>\n      <td>7,842,672,516</td>\n      <td>112.8</td>\n    </tr>\n    <tr>\n      <th>23</th>\n      <td>202103</td>\n      <td>경기도</td>\n      <td>전체(시 / 군 / 구)</td>\n      <td>심 야</td>\n      <td>133,852</td>\n      <td>283,283,181</td>\n      <td>18,248,808,169</td>\n      <td>64.4</td>\n    </tr>\n    <tr>\n      <th>24</th>\n      <td>202104</td>\n      <td>경기도</td>\n      <td>전체(시 / 군 / 구)</td>\n      <td>주택용</td>\n      <td>3,032,944</td>\n      <td>1,602,034,086</td>\n      <td>168,555,149,148</td>\n      <td>105.2</td>\n    </tr>\n    <tr>\n      <th>25</th>\n      <td>202104</td>\n      <td>경기도</td>\n      <td>전체(시 / 군 / 구)</td>\n      <td>일반용</td>\n      <td>711,355</td>\n      <td>2,266,415,201</td>\n      <td>256,998,371,867</td>\n      <td>113.4</td>\n    </tr>\n    <tr>\n      <th>26</th>\n      <td>202104</td>\n      <td>경기도</td>\n      <td>전체(시 / 군 / 구)</td>\n      <td>교육용</td>\n      <td>4,552</td>\n      <td>118,689,107</td>\n      <td>10,873,609,961</td>\n      <td>91.6</td>\n    </tr>\n    <tr>\n      <th>27</th>\n      <td>202104</td>\n      <td>경기도</td>\n      <td>전체(시 / 군 / 구)</td>\n      <td>산업용</td>\n      <td>133,726</td>\n      <td>5,873,685,151</td>\n      <td>549,632,455,560</td>\n      <td>93.6</td>\n    </tr>\n    <tr>\n      <th>28</th>\n      <td>202104</td>\n      <td>경기도</td>\n      <td>전체(시 / 군 / 구)</td>\n      <td>농사용</td>\n      <td>248,106</td>\n      <td>200,140,743</td>\n      <td>9,291,785,712</td>\n      <td>46.4</td>\n    </tr>\n    <tr>\n      <th>29</th>\n      <td>202104</td>\n      <td>경기도</td>\n      <td>전체(시 / 군 / 구)</td>\n      <td>가로등</td>\n      <td>372,776</td>\n      <td>69,059,489</td>\n      <td>7,996,812,014</td>\n      <td>115.8</td>\n    </tr>\n    <tr>\n      <th>30</th>\n      <td>202104</td>\n      <td>경기도</td>\n      <td>전체(시 / 군 / 구)</td>\n      <td>심 야</td>\n      <td>133,399</td>\n      <td>208,315,329</td>\n      <td>10,986,836,596</td>\n      <td>52.7</td>\n    </tr>\n    <tr>\n      <th>31</th>\n      <td>202105</td>\n      <td>경기도</td>\n      <td>전체(시 / 군 / 구)</td>\n      <td>주택용</td>\n      <td>3,035,116</td>\n      <td>1,525,515,035</td>\n      <td>154,989,729,094</td>\n      <td>101.6</td>\n    </tr>\n    <tr>\n      <th>32</th>\n      <td>202105</td>\n      <td>경기도</td>\n      <td>전체(시 / 군 / 구)</td>\n      <td>일반용</td>\n      <td>712,683</td>\n      <td>2,169,671,359</td>\n      <td>248,171,247,408</td>\n      <td>114.4</td>\n    </tr>\n    <tr>\n      <th>33</th>\n      <td>202105</td>\n      <td>경기도</td>\n      <td>전체(시 / 군 / 구)</td>\n      <td>교육용</td>\n      <td>4,549</td>\n      <td>94,310,222</td>\n      <td>8,843,062,487</td>\n      <td>93.8</td>\n    </tr>\n    <tr>\n      <th>34</th>\n      <td>202105</td>\n      <td>경기도</td>\n      <td>전체(시 / 군 / 구)</td>\n      <td>산업용</td>\n      <td>133,939</td>\n      <td>5,838,649,785</td>\n      <td>538,711,662,823</td>\n      <td>92.3</td>\n    </tr>\n    <tr>\n      <th>35</th>\n      <td>202105</td>\n      <td>경기도</td>\n      <td>전체(시 / 군 / 구)</td>\n      <td>농사용</td>\n      <td>241,396</td>\n      <td>190,286,301</td>\n      <td>8,628,227,662</td>\n      <td>45.3</td>\n    </tr>\n    <tr>\n      <th>36</th>\n      <td>202105</td>\n      <td>경기도</td>\n      <td>전체(시 / 군 / 구)</td>\n      <td>가로등</td>\n      <td>375,271</td>\n      <td>63,635,526</td>\n      <td>7,606,419,725</td>\n      <td>119.5</td>\n    </tr>\n    <tr>\n      <th>37</th>\n      <td>202105</td>\n      <td>경기도</td>\n      <td>전체(시 / 군 / 구)</td>\n      <td>심 야</td>\n      <td>132,822</td>\n      <td>142,861,428</td>\n      <td>7,713,337,689</td>\n      <td>54.0</td>\n    </tr>\n    <tr>\n      <th>38</th>\n      <td>202106</td>\n      <td>경기도</td>\n      <td>전체(시 / 군 / 구)</td>\n      <td>주택용</td>\n      <td>3,037,134</td>\n      <td>1,596,020,991</td>\n      <td>167,767,233,011</td>\n      <td>105.1</td>\n    </tr>\n    <tr>\n      <th>39</th>\n      <td>202106</td>\n      <td>경기도</td>\n      <td>전체(시 / 군 / 구)</td>\n      <td>일반용</td>\n      <td>714,779</td>\n      <td>2,437,733,964</td>\n      <td>322,168,007,171</td>\n      <td>132.2</td>\n    </tr>\n    <tr>\n      <th>40</th>\n      <td>202106</td>\n      <td>경기도</td>\n      <td>전체(시 / 군 / 구)</td>\n      <td>교육용</td>\n      <td>4,542</td>\n      <td>106,575,791</td>\n      <td>12,272,963,224</td>\n      <td>115.2</td>\n    </tr>\n    <tr>\n      <th>41</th>\n      <td>202106</td>\n      <td>경기도</td>\n      <td>전체(시 / 군 / 구)</td>\n      <td>산업용</td>\n      <td>134,179</td>\n      <td>6,013,273,444</td>\n      <td>699,730,871,484</td>\n      <td>116.4</td>\n    </tr>\n    <tr>\n      <th>42</th>\n      <td>202106</td>\n      <td>경기도</td>\n      <td>전체(시 / 군 / 구)</td>\n      <td>농사용</td>\n      <td>242,385</td>\n      <td>191,769,746</td>\n      <td>8,724,880,469</td>\n      <td>45.5</td>\n    </tr>\n    <tr>\n      <th>43</th>\n      <td>202106</td>\n      <td>경기도</td>\n      <td>전체(시 / 군 / 구)</td>\n      <td>가로등</td>\n      <td>386,095</td>\n      <td>60,415,635</td>\n      <td>7,448,509,031</td>\n      <td>123.3</td>\n    </tr>\n    <tr>\n      <th>44</th>\n      <td>202106</td>\n      <td>경기도</td>\n      <td>전체(시 / 군 / 구)</td>\n      <td>심 야</td>\n      <td>132,326</td>\n      <td>107,009,176</td>\n      <td>6,018,380,011</td>\n      <td>56.2</td>\n    </tr>\n    <tr>\n      <th>45</th>\n      <td>합계</td>\n      <td>합계</td>\n      <td>합계</td>\n      <td>합계</td>\n      <td>27,837,231</td>\n      <td>65,328,117,645</td>\n      <td>6,998,877,569,887</td>\n      <td>107.1</td>\n    </tr>\n  </tbody>\n</table>\n</div>"
     },
     "execution_count": 6,
     "metadata": {},
     "output_type": "execute_result"
    }
   ],
   "source": [
    "df_2 = df.loc[:45]\n",
    "df_2\n"
   ],
   "metadata": {
    "collapsed": false,
    "pycharm": {
     "name": "#%%\n"
    }
   }
  },
  {
   "cell_type": "code",
   "execution_count": 7,
   "outputs": [
    {
     "name": "stderr",
     "output_type": "stream",
     "text": [
      "C:\\Users\\user\\AppData\\Local\\Temp\\ipykernel_8252\\3551721261.py:3: SettingWithCopyWarning: \n",
      "A value is trying to be set on a copy of a slice from a DataFrame\n",
      "\n",
      "See the caveats in the documentation: https://pandas.pydata.org/pandas-docs/stable/user_guide/indexing.html#returning-a-view-versus-a-copy\n",
      "  GyeonGi.drop(['시군구' , '전기요금(원)' , '평균판매단가(원/kWh)'] , axis = 1 , inplace = True)\n"
     ]
    },
    {
     "data": {
      "text/plain": "        년월   시구 계약구분   고객호수(호)        사용량(kWh)\n4   202101  경기도  일반용  708,113   3,034,698,761 \n11  202102  경기도  일반용  708,695   2,865,372,717 \n18  202103  경기도  일반용  709,067   2,414,700,789 \n25  202104  경기도  일반용  711,355   2,266,415,201 \n32  202105  경기도  일반용  712,683   2,169,671,359 \n39  202106  경기도  일반용  714,779   2,437,733,964 ",
      "text/html": "<div>\n<style scoped>\n    .dataframe tbody tr th:only-of-type {\n        vertical-align: middle;\n    }\n\n    .dataframe tbody tr th {\n        vertical-align: top;\n    }\n\n    .dataframe thead th {\n        text-align: right;\n    }\n</style>\n<table border=\"1\" class=\"dataframe\">\n  <thead>\n    <tr style=\"text-align: right;\">\n      <th></th>\n      <th>년월</th>\n      <th>시구</th>\n      <th>계약구분</th>\n      <th>고객호수(호)</th>\n      <th>사용량(kWh)</th>\n    </tr>\n  </thead>\n  <tbody>\n    <tr>\n      <th>4</th>\n      <td>202101</td>\n      <td>경기도</td>\n      <td>일반용</td>\n      <td>708,113</td>\n      <td>3,034,698,761</td>\n    </tr>\n    <tr>\n      <th>11</th>\n      <td>202102</td>\n      <td>경기도</td>\n      <td>일반용</td>\n      <td>708,695</td>\n      <td>2,865,372,717</td>\n    </tr>\n    <tr>\n      <th>18</th>\n      <td>202103</td>\n      <td>경기도</td>\n      <td>일반용</td>\n      <td>709,067</td>\n      <td>2,414,700,789</td>\n    </tr>\n    <tr>\n      <th>25</th>\n      <td>202104</td>\n      <td>경기도</td>\n      <td>일반용</td>\n      <td>711,355</td>\n      <td>2,266,415,201</td>\n    </tr>\n    <tr>\n      <th>32</th>\n      <td>202105</td>\n      <td>경기도</td>\n      <td>일반용</td>\n      <td>712,683</td>\n      <td>2,169,671,359</td>\n    </tr>\n    <tr>\n      <th>39</th>\n      <td>202106</td>\n      <td>경기도</td>\n      <td>일반용</td>\n      <td>714,779</td>\n      <td>2,437,733,964</td>\n    </tr>\n  </tbody>\n</table>\n</div>"
     },
     "execution_count": 7,
     "metadata": {},
     "output_type": "execute_result"
    }
   ],
   "source": [
    "GyeonGi  = df_2.loc[(df_2['계약구분'] == '일반용')]\n",
    "#SEOUL = df_3.loc[(df_3['계약구분'] =='일반용')]\n",
    "GyeonGi.drop(['시군구' , '전기요금(원)' , '평균판매단가(원/kWh)'] , axis = 1 , inplace = True)\n",
    "GyeonGi"
   ],
   "metadata": {
    "collapsed": false,
    "pycharm": {
     "name": "#%%\n"
    }
   }
  },
  {
   "cell_type": "code",
   "execution_count": 8,
   "outputs": [],
   "source": [
    "#SEOUL1.to_csv(\"서울특별시_계약종별_전국_전력사용량_2022.csv\" , mode = 'w' , encoding= 'cp949')"
   ],
   "metadata": {
    "collapsed": false,
    "pycharm": {
     "name": "#%%\n"
    }
   }
  },
  {
   "cell_type": "code",
   "execution_count": 9,
   "outputs": [],
   "source": [
    "#df_2.to_csv(\"서울특별시_계약종별_전국_전력사용량.csv\" , mode = 'w' , encoding= 'cp949')"
   ],
   "metadata": {
    "collapsed": false,
    "pycharm": {
     "name": "#%%\n"
    }
   }
  },
  {
   "cell_type": "code",
   "execution_count": 10,
   "outputs": [
    {
     "data": {
      "text/plain": "          년월   시구  시군구 계약구분  고객호수(호)      사용량(kWh)\n53    202101  경기도  가평군  일반용  10,884    40,898,761 \n301   202102  경기도  가평군  일반용  10,851    37,858,450 \n549   202103  경기도  가평군  일반용  10,843    30,234,418 \n797   202104  경기도  가평군  일반용  10,872    26,049,435 \n1045  202105  경기도  가평군  일반용  10,892    24,295,275 \n...      ...  ...  ...  ...      ...           ...\n541   202102  경기도  화성시  일반용  47,595   220,385,741 \n789   202103  경기도  화성시  일반용  47,619   195,854,087 \n1037  202104  경기도  화성시  일반용  47,812   186,343,380 \n1285  202105  경기도  화성시  일반용  47,936   179,842,500 \n1533  202106  경기도  화성시  일반용  48,147   196,679,468 \n\n[186 rows x 6 columns]",
      "text/html": "<div>\n<style scoped>\n    .dataframe tbody tr th:only-of-type {\n        vertical-align: middle;\n    }\n\n    .dataframe tbody tr th {\n        vertical-align: top;\n    }\n\n    .dataframe thead th {\n        text-align: right;\n    }\n</style>\n<table border=\"1\" class=\"dataframe\">\n  <thead>\n    <tr style=\"text-align: right;\">\n      <th></th>\n      <th>년월</th>\n      <th>시구</th>\n      <th>시군구</th>\n      <th>계약구분</th>\n      <th>고객호수(호)</th>\n      <th>사용량(kWh)</th>\n    </tr>\n  </thead>\n  <tbody>\n    <tr>\n      <th>53</th>\n      <td>202101</td>\n      <td>경기도</td>\n      <td>가평군</td>\n      <td>일반용</td>\n      <td>10,884</td>\n      <td>40,898,761</td>\n    </tr>\n    <tr>\n      <th>301</th>\n      <td>202102</td>\n      <td>경기도</td>\n      <td>가평군</td>\n      <td>일반용</td>\n      <td>10,851</td>\n      <td>37,858,450</td>\n    </tr>\n    <tr>\n      <th>549</th>\n      <td>202103</td>\n      <td>경기도</td>\n      <td>가평군</td>\n      <td>일반용</td>\n      <td>10,843</td>\n      <td>30,234,418</td>\n    </tr>\n    <tr>\n      <th>797</th>\n      <td>202104</td>\n      <td>경기도</td>\n      <td>가평군</td>\n      <td>일반용</td>\n      <td>10,872</td>\n      <td>26,049,435</td>\n    </tr>\n    <tr>\n      <th>1045</th>\n      <td>202105</td>\n      <td>경기도</td>\n      <td>가평군</td>\n      <td>일반용</td>\n      <td>10,892</td>\n      <td>24,295,275</td>\n    </tr>\n    <tr>\n      <th>...</th>\n      <td>...</td>\n      <td>...</td>\n      <td>...</td>\n      <td>...</td>\n      <td>...</td>\n      <td>...</td>\n    </tr>\n    <tr>\n      <th>541</th>\n      <td>202102</td>\n      <td>경기도</td>\n      <td>화성시</td>\n      <td>일반용</td>\n      <td>47,595</td>\n      <td>220,385,741</td>\n    </tr>\n    <tr>\n      <th>789</th>\n      <td>202103</td>\n      <td>경기도</td>\n      <td>화성시</td>\n      <td>일반용</td>\n      <td>47,619</td>\n      <td>195,854,087</td>\n    </tr>\n    <tr>\n      <th>1037</th>\n      <td>202104</td>\n      <td>경기도</td>\n      <td>화성시</td>\n      <td>일반용</td>\n      <td>47,812</td>\n      <td>186,343,380</td>\n    </tr>\n    <tr>\n      <th>1285</th>\n      <td>202105</td>\n      <td>경기도</td>\n      <td>화성시</td>\n      <td>일반용</td>\n      <td>47,936</td>\n      <td>179,842,500</td>\n    </tr>\n    <tr>\n      <th>1533</th>\n      <td>202106</td>\n      <td>경기도</td>\n      <td>화성시</td>\n      <td>일반용</td>\n      <td>48,147</td>\n      <td>196,679,468</td>\n    </tr>\n  </tbody>\n</table>\n<p>186 rows × 6 columns</p>\n</div>"
     },
     "execution_count": 10,
     "metadata": {},
     "output_type": "execute_result"
    }
   ],
   "source": [
    "df_3 = df.loc[48:]\n",
    "df_3 = df_3.loc[(df_3['계약구분'] == '일반용')]\n",
    "df_3 = df_3.sort_values(by=['시군구' , '년월'])\n",
    "df_3.drop(['전기요금(원)',   '평균판매단가(원/kWh)'] , axis = 1 , inplace = True)\n",
    "df_3"
   ],
   "metadata": {
    "collapsed": false,
    "pycharm": {
     "name": "#%%\n"
    }
   }
  },
  {
   "cell_type": "code",
   "execution_count": 11,
   "outputs": [
    {
     "data": {
      "text/plain": "'경기도'"
     },
     "execution_count": 11,
     "metadata": {},
     "output_type": "execute_result"
    }
   ],
   "source": [
    "a = df_3.loc[: , \"시구\"]\n",
    "b = a[:1].tolist()\n",
    "for i in b:\n",
    "    City = i\n",
    "City"
   ],
   "metadata": {
    "collapsed": false,
    "pycharm": {
     "name": "#%%\n"
    }
   }
  },
  {
   "cell_type": "code",
   "execution_count": 12,
   "outputs": [
    {
     "data": {
      "text/plain": "['가평군',\n '고양시',\n '과천시',\n '광명시',\n '광주시',\n '구리시',\n '군포시',\n '김포시',\n '남양주시',\n '동두천시',\n '부천시',\n '성남시',\n '수원시',\n '시흥시',\n '안산시',\n '안성시',\n '안양시',\n '양주시',\n '양평군',\n '여주시',\n '연천군',\n '오산시',\n '용인시',\n '의왕시',\n '의정부시',\n '이천시',\n '파주시',\n '평택시',\n '포천시',\n '하남시',\n '화성시']"
     },
     "execution_count": 12,
     "metadata": {},
     "output_type": "execute_result"
    }
   ],
   "source": [
    "\n",
    "SIGUNGU = list(set(df_3.loc[: , '시군구'].tolist()))\n",
    "SIGUNGU.sort()\n",
    "SIGUNGU"
   ],
   "metadata": {
    "collapsed": false,
    "pycharm": {
     "name": "#%%\n"
    }
   }
  },
  {
   "cell_type": "code",
   "execution_count": 13,
   "outputs": [
    {
     "data": {
      "text/plain": "          년월   시구  시군구 계약구분   고객호수(호)        사용량(kWh)\n55    202101  경기도  가평군   합계   69,616      82,883,493 \n303   202102  경기도  가평군   합계   69,683      76,831,036 \n551   202103  경기도  가평군   합계   70,768      62,105,566 \n799   202104  경기도  가평군   합계   69,951      53,211,913 \n1047  202105  경기도  가평군   합계   70,107      47,914,173 \n...      ...  ...  ...  ...       ...             ...\n543   202102  경기도  화성시   합계  278,675   1,714,147,820 \n791   202103  경기도  화성시   합계  285,204   1,682,398,207 \n1039  202104  경기도  화성시   합계  287,304   1,644,254,794 \n1287  202105  경기도  화성시   합계  280,789   1,606,100,143 \n1535  202106  경기도  화성시   합계  281,497   1,658,284,679 \n\n[186 rows x 6 columns]",
      "text/html": "<div>\n<style scoped>\n    .dataframe tbody tr th:only-of-type {\n        vertical-align: middle;\n    }\n\n    .dataframe tbody tr th {\n        vertical-align: top;\n    }\n\n    .dataframe thead th {\n        text-align: right;\n    }\n</style>\n<table border=\"1\" class=\"dataframe\">\n  <thead>\n    <tr style=\"text-align: right;\">\n      <th></th>\n      <th>년월</th>\n      <th>시구</th>\n      <th>시군구</th>\n      <th>계약구분</th>\n      <th>고객호수(호)</th>\n      <th>사용량(kWh)</th>\n    </tr>\n  </thead>\n  <tbody>\n    <tr>\n      <th>55</th>\n      <td>202101</td>\n      <td>경기도</td>\n      <td>가평군</td>\n      <td>합계</td>\n      <td>69,616</td>\n      <td>82,883,493</td>\n    </tr>\n    <tr>\n      <th>303</th>\n      <td>202102</td>\n      <td>경기도</td>\n      <td>가평군</td>\n      <td>합계</td>\n      <td>69,683</td>\n      <td>76,831,036</td>\n    </tr>\n    <tr>\n      <th>551</th>\n      <td>202103</td>\n      <td>경기도</td>\n      <td>가평군</td>\n      <td>합계</td>\n      <td>70,768</td>\n      <td>62,105,566</td>\n    </tr>\n    <tr>\n      <th>799</th>\n      <td>202104</td>\n      <td>경기도</td>\n      <td>가평군</td>\n      <td>합계</td>\n      <td>69,951</td>\n      <td>53,211,913</td>\n    </tr>\n    <tr>\n      <th>1047</th>\n      <td>202105</td>\n      <td>경기도</td>\n      <td>가평군</td>\n      <td>합계</td>\n      <td>70,107</td>\n      <td>47,914,173</td>\n    </tr>\n    <tr>\n      <th>...</th>\n      <td>...</td>\n      <td>...</td>\n      <td>...</td>\n      <td>...</td>\n      <td>...</td>\n      <td>...</td>\n    </tr>\n    <tr>\n      <th>543</th>\n      <td>202102</td>\n      <td>경기도</td>\n      <td>화성시</td>\n      <td>합계</td>\n      <td>278,675</td>\n      <td>1,714,147,820</td>\n    </tr>\n    <tr>\n      <th>791</th>\n      <td>202103</td>\n      <td>경기도</td>\n      <td>화성시</td>\n      <td>합계</td>\n      <td>285,204</td>\n      <td>1,682,398,207</td>\n    </tr>\n    <tr>\n      <th>1039</th>\n      <td>202104</td>\n      <td>경기도</td>\n      <td>화성시</td>\n      <td>합계</td>\n      <td>287,304</td>\n      <td>1,644,254,794</td>\n    </tr>\n    <tr>\n      <th>1287</th>\n      <td>202105</td>\n      <td>경기도</td>\n      <td>화성시</td>\n      <td>합계</td>\n      <td>280,789</td>\n      <td>1,606,100,143</td>\n    </tr>\n    <tr>\n      <th>1535</th>\n      <td>202106</td>\n      <td>경기도</td>\n      <td>화성시</td>\n      <td>합계</td>\n      <td>281,497</td>\n      <td>1,658,284,679</td>\n    </tr>\n  </tbody>\n</table>\n<p>186 rows × 6 columns</p>\n</div>"
     },
     "execution_count": 13,
     "metadata": {},
     "output_type": "execute_result"
    }
   ],
   "source": [
    "df_4 = df.loc[48:]\n",
    "df_4 = df_4.loc[(df_4['계약구분'] == '합계')]\n",
    "df_4 = df_4.sort_values(by=['시군구' , '년월'])\n",
    "df_4.drop(['전기요금(원)',   '평균판매단가(원/kWh)'] , axis = 1 , inplace = True)\n",
    "df_4"
   ],
   "metadata": {
    "collapsed": false,
    "pycharm": {
     "name": "#%%\n"
    }
   }
  },
  {
   "cell_type": "code",
   "execution_count": 14,
   "outputs": [
    {
     "name": "stdout",
     "output_type": "stream",
     "text": [
      "[82883493, 76831036, 62105566, 53211913, 47914173, 47277751]\n",
      "[485633424, 465217457, 379488323, 359888157, 338334499, 360297709]\n",
      "[36721276, 34779838, 30105002, 29025001, 27620919, 30595759]\n",
      "[106327717, 97135563, 86503653, 82314719, 77944074, 85716725]\n",
      "[284466375, 270886086, 224427437, 215380915, 195316807, 203319093]\n",
      "[79877789, 74355290, 63535857, 60561962, 58033295, 62432530]\n",
      "[146822380, 134855581, 119739711, 115941088, 109291522, 117319537]\n",
      "[431376603, 405413714, 350956152, 343978002, 314337363, 325703762]\n",
      "[347686313, 329124069, 276034432, 265968555, 245668286, 252241875]\n",
      "[66531379, 62342886, 54498507, 51157999, 47796629, 51147005]\n",
      "[401846925, 376937410, 333360725, 323598668, 310350705, 333354173]\n",
      "[491761065, 449605773, 410930799, 396970200, 386039115, 444061064]\n",
      "[547568088, 507035390, 453692578, 442977602, 429757387, 472384183]\n",
      "[461877442, 431265071, 395185339, 384662787, 361746321, 380972487]\n",
      "[748845091, 683621221, 666891572, 639728001, 631646885, 655845941]\n",
      "[328981684, 311206711, 280243502, 271518267, 256355017, 269890959]\n",
      "[264208129, 242262543, 220355281, 214819693, 211610999, 228283067]\n",
      "[235946749, 221462526, 192399183, 185602255, 169417277, 172853458]\n",
      "[121796667, 114670159, 89151706, 77367997, 66931120, 64542422]\n",
      "[157794204, 146238563, 121634656, 110166426, 100708709, 103382864]\n",
      "[64587090, 59872961, 49530332, 45190144, 41880640, 41863019]\n",
      "[133069362, 125730073, 113958784, 110545318, 106167572, 113735801]\n",
      "[981236353, 911753293, 857618076, 837785912, 823485144, 854468606]\n",
      "[78015411, 72384236, 64055009, 61865172, 58756039, 62279540]\n",
      "[174016878, 164051215, 136997065, 131909760, 125156637, 134519272]\n",
      "[717909115, 660761874, 672902662, 644917582, 648068374, 660069832]\n",
      "[821426628, 767699250, 746161920, 728623863, 728591850, 740632346]\n",
      "[1211624096, 1107154564, 1162999246, 1139823625, 1159310643, 1230972383]\n",
      "[292251435, 289289634, 232207762, 231770778, 206337066, 206452714]\n",
      "[168592383, 156082544, 138217565, 136811951, 134254446, 147898191]\n",
      "[1847907632, 1714147820, 1682398207, 1644254794, 1606100143, 1658284679]\n",
      "경기도 지역별 합계 :  [370223932, 2388859569, 188847795, 535942451, 1393796713, 398796723, 743969819, 2171765596, 1716723530, 333474405, 2079448606, 2579368016, 2853415228, 2415709447, 4026578711, 1718196140, 1381539712, 1177681448, 534460071, 739925422, 302924186, 703206910, 5266347384, 397355407, 866650827, 4004629439, 4533135857, 7011884557, 1458309389, 881857080, 10153093275]\n",
      "경기도 고객호수 평균:  [11681, 40733, 2719, 10665, 32693, 9008, 10807, 22231, 33291, 7264, 48125, 44913, 62000, 27945, 48883, 23111, 21970, 15560, 20732, 16395, 7950, 12364, 43257, 5594, 20187, 23457, 29896, 42145, 21127, 9555, 46985]\n"
     ]
    }
   ],
   "source": [
    "sum2 , sum3 =[] , []\n",
    "for k in SIGUNGU:\n",
    "    GyeonGiHap = pd.DataFrame([] , columns = a)\n",
    "    HOSU = pd.DataFrame([], columns = a)\n",
    "    GyeonGiHap['사용량']= df_4['사용량(kWh)'].loc[(df_4['시군구'] == '{}'.format(k))]\n",
    "    HOSU['고객호수']= df_4['고객호수(호)'].loc[(df_4['시군구'] == '{}'.format(k))]\n",
    "    #경기합 데이터프레임의 사용량 열에 기군구가 가평군인 사용량 데이터만 뽑아내기\n",
    "    # GyeonGiHap = GyeonGiHap['사용량']\n",
    "\n",
    "    b = GyeonGiHap['사용량'].tolist()\n",
    "    c = HOSU['고객호수'].tolist()\n",
    "\n",
    "\n",
    "    #각지역별 사용량 리스트화\n",
    "    int_list  , int_list2=[] , []\n",
    "    for i in b:\n",
    "        i = re.sub(\",\" , \"\" , i)\n",
    "        #콤마 없애기\n",
    "        int_list.append(int(i))\n",
    "        #int_list에 각지역별 사용량 int로 저장\n",
    "    print(int_list)\n",
    "    sum=0\n",
    "    for i in c:\n",
    "        i = re.sub(\",\" , \"\" , i)\n",
    "        int_list2.append(int(i))\n",
    "\n",
    "    for j in int_list:\n",
    "\n",
    "        sum+= j\n",
    "    sum2.append(sum)\n",
    "    sum = 0\n",
    "    for j in int_list2: #고객호수 추출하여 더하기\n",
    "\n",
    "        sum+= j\n",
    "    sum3.append(sum//36) #6개월 치로 나눠야하나?!\n",
    "\n",
    "\n",
    "\n",
    "\n",
    "print(\"{} 지역별 합계 : \".format(City) , sum2)\n",
    "print(\"{} 고객호수 평균: \".format(City) , sum3)"
   ],
   "metadata": {
    "collapsed": false,
    "pycharm": {
     "name": "#%%\n"
    }
   }
  },
  {
   "cell_type": "markdown",
   "source": [
    "### 2. 날짜 체크!!!!!!!!!!!!!!!!!!!!!!!!!!!!!!!!!!!!!!!!!!!!!!"
   ],
   "metadata": {
    "collapsed": false,
    "pycharm": {
     "name": "#%% md\n"
    }
   }
  },
  {
   "cell_type": "code",
   "execution_count": 15,
   "outputs": [
    {
     "name": "stderr",
     "output_type": "stream",
     "text": [
      "C:\\Users\\user\\AppData\\Local\\Temp\\ipykernel_8252\\1481603074.py:4: FutureWarning: The frame.append method is deprecated and will be removed from pandas in a future version. Use pandas.concat instead.\n",
      "  Hap = Hap.append({'년월' :'202101-202106'  , '시구' : '{}'.format(City) , '시군구' : '{}'.format(SIGUNGU[i]) , '계약구분' : '합계' , '고객호수(호)' : sum3[i] ,  '사용량(kWh)' : sum2[i]} , ignore_index=True) #년월 파일마다 수정하기\n",
      "C:\\Users\\user\\AppData\\Local\\Temp\\ipykernel_8252\\1481603074.py:4: FutureWarning: The frame.append method is deprecated and will be removed from pandas in a future version. Use pandas.concat instead.\n",
      "  Hap = Hap.append({'년월' :'202101-202106'  , '시구' : '{}'.format(City) , '시군구' : '{}'.format(SIGUNGU[i]) , '계약구분' : '합계' , '고객호수(호)' : sum3[i] ,  '사용량(kWh)' : sum2[i]} , ignore_index=True) #년월 파일마다 수정하기\n",
      "C:\\Users\\user\\AppData\\Local\\Temp\\ipykernel_8252\\1481603074.py:4: FutureWarning: The frame.append method is deprecated and will be removed from pandas in a future version. Use pandas.concat instead.\n",
      "  Hap = Hap.append({'년월' :'202101-202106'  , '시구' : '{}'.format(City) , '시군구' : '{}'.format(SIGUNGU[i]) , '계약구분' : '합계' , '고객호수(호)' : sum3[i] ,  '사용량(kWh)' : sum2[i]} , ignore_index=True) #년월 파일마다 수정하기\n",
      "C:\\Users\\user\\AppData\\Local\\Temp\\ipykernel_8252\\1481603074.py:4: FutureWarning: The frame.append method is deprecated and will be removed from pandas in a future version. Use pandas.concat instead.\n",
      "  Hap = Hap.append({'년월' :'202101-202106'  , '시구' : '{}'.format(City) , '시군구' : '{}'.format(SIGUNGU[i]) , '계약구분' : '합계' , '고객호수(호)' : sum3[i] ,  '사용량(kWh)' : sum2[i]} , ignore_index=True) #년월 파일마다 수정하기\n",
      "C:\\Users\\user\\AppData\\Local\\Temp\\ipykernel_8252\\1481603074.py:4: FutureWarning: The frame.append method is deprecated and will be removed from pandas in a future version. Use pandas.concat instead.\n",
      "  Hap = Hap.append({'년월' :'202101-202106'  , '시구' : '{}'.format(City) , '시군구' : '{}'.format(SIGUNGU[i]) , '계약구분' : '합계' , '고객호수(호)' : sum3[i] ,  '사용량(kWh)' : sum2[i]} , ignore_index=True) #년월 파일마다 수정하기\n",
      "C:\\Users\\user\\AppData\\Local\\Temp\\ipykernel_8252\\1481603074.py:4: FutureWarning: The frame.append method is deprecated and will be removed from pandas in a future version. Use pandas.concat instead.\n",
      "  Hap = Hap.append({'년월' :'202101-202106'  , '시구' : '{}'.format(City) , '시군구' : '{}'.format(SIGUNGU[i]) , '계약구분' : '합계' , '고객호수(호)' : sum3[i] ,  '사용량(kWh)' : sum2[i]} , ignore_index=True) #년월 파일마다 수정하기\n",
      "C:\\Users\\user\\AppData\\Local\\Temp\\ipykernel_8252\\1481603074.py:4: FutureWarning: The frame.append method is deprecated and will be removed from pandas in a future version. Use pandas.concat instead.\n",
      "  Hap = Hap.append({'년월' :'202101-202106'  , '시구' : '{}'.format(City) , '시군구' : '{}'.format(SIGUNGU[i]) , '계약구분' : '합계' , '고객호수(호)' : sum3[i] ,  '사용량(kWh)' : sum2[i]} , ignore_index=True) #년월 파일마다 수정하기\n",
      "C:\\Users\\user\\AppData\\Local\\Temp\\ipykernel_8252\\1481603074.py:4: FutureWarning: The frame.append method is deprecated and will be removed from pandas in a future version. Use pandas.concat instead.\n",
      "  Hap = Hap.append({'년월' :'202101-202106'  , '시구' : '{}'.format(City) , '시군구' : '{}'.format(SIGUNGU[i]) , '계약구분' : '합계' , '고객호수(호)' : sum3[i] ,  '사용량(kWh)' : sum2[i]} , ignore_index=True) #년월 파일마다 수정하기\n",
      "C:\\Users\\user\\AppData\\Local\\Temp\\ipykernel_8252\\1481603074.py:4: FutureWarning: The frame.append method is deprecated and will be removed from pandas in a future version. Use pandas.concat instead.\n",
      "  Hap = Hap.append({'년월' :'202101-202106'  , '시구' : '{}'.format(City) , '시군구' : '{}'.format(SIGUNGU[i]) , '계약구분' : '합계' , '고객호수(호)' : sum3[i] ,  '사용량(kWh)' : sum2[i]} , ignore_index=True) #년월 파일마다 수정하기\n",
      "C:\\Users\\user\\AppData\\Local\\Temp\\ipykernel_8252\\1481603074.py:4: FutureWarning: The frame.append method is deprecated and will be removed from pandas in a future version. Use pandas.concat instead.\n",
      "  Hap = Hap.append({'년월' :'202101-202106'  , '시구' : '{}'.format(City) , '시군구' : '{}'.format(SIGUNGU[i]) , '계약구분' : '합계' , '고객호수(호)' : sum3[i] ,  '사용량(kWh)' : sum2[i]} , ignore_index=True) #년월 파일마다 수정하기\n",
      "C:\\Users\\user\\AppData\\Local\\Temp\\ipykernel_8252\\1481603074.py:4: FutureWarning: The frame.append method is deprecated and will be removed from pandas in a future version. Use pandas.concat instead.\n",
      "  Hap = Hap.append({'년월' :'202101-202106'  , '시구' : '{}'.format(City) , '시군구' : '{}'.format(SIGUNGU[i]) , '계약구분' : '합계' , '고객호수(호)' : sum3[i] ,  '사용량(kWh)' : sum2[i]} , ignore_index=True) #년월 파일마다 수정하기\n",
      "C:\\Users\\user\\AppData\\Local\\Temp\\ipykernel_8252\\1481603074.py:4: FutureWarning: The frame.append method is deprecated and will be removed from pandas in a future version. Use pandas.concat instead.\n",
      "  Hap = Hap.append({'년월' :'202101-202106'  , '시구' : '{}'.format(City) , '시군구' : '{}'.format(SIGUNGU[i]) , '계약구분' : '합계' , '고객호수(호)' : sum3[i] ,  '사용량(kWh)' : sum2[i]} , ignore_index=True) #년월 파일마다 수정하기\n",
      "C:\\Users\\user\\AppData\\Local\\Temp\\ipykernel_8252\\1481603074.py:4: FutureWarning: The frame.append method is deprecated and will be removed from pandas in a future version. Use pandas.concat instead.\n",
      "  Hap = Hap.append({'년월' :'202101-202106'  , '시구' : '{}'.format(City) , '시군구' : '{}'.format(SIGUNGU[i]) , '계약구분' : '합계' , '고객호수(호)' : sum3[i] ,  '사용량(kWh)' : sum2[i]} , ignore_index=True) #년월 파일마다 수정하기\n",
      "C:\\Users\\user\\AppData\\Local\\Temp\\ipykernel_8252\\1481603074.py:4: FutureWarning: The frame.append method is deprecated and will be removed from pandas in a future version. Use pandas.concat instead.\n",
      "  Hap = Hap.append({'년월' :'202101-202106'  , '시구' : '{}'.format(City) , '시군구' : '{}'.format(SIGUNGU[i]) , '계약구분' : '합계' , '고객호수(호)' : sum3[i] ,  '사용량(kWh)' : sum2[i]} , ignore_index=True) #년월 파일마다 수정하기\n",
      "C:\\Users\\user\\AppData\\Local\\Temp\\ipykernel_8252\\1481603074.py:4: FutureWarning: The frame.append method is deprecated and will be removed from pandas in a future version. Use pandas.concat instead.\n",
      "  Hap = Hap.append({'년월' :'202101-202106'  , '시구' : '{}'.format(City) , '시군구' : '{}'.format(SIGUNGU[i]) , '계약구분' : '합계' , '고객호수(호)' : sum3[i] ,  '사용량(kWh)' : sum2[i]} , ignore_index=True) #년월 파일마다 수정하기\n",
      "C:\\Users\\user\\AppData\\Local\\Temp\\ipykernel_8252\\1481603074.py:4: FutureWarning: The frame.append method is deprecated and will be removed from pandas in a future version. Use pandas.concat instead.\n",
      "  Hap = Hap.append({'년월' :'202101-202106'  , '시구' : '{}'.format(City) , '시군구' : '{}'.format(SIGUNGU[i]) , '계약구분' : '합계' , '고객호수(호)' : sum3[i] ,  '사용량(kWh)' : sum2[i]} , ignore_index=True) #년월 파일마다 수정하기\n",
      "C:\\Users\\user\\AppData\\Local\\Temp\\ipykernel_8252\\1481603074.py:4: FutureWarning: The frame.append method is deprecated and will be removed from pandas in a future version. Use pandas.concat instead.\n",
      "  Hap = Hap.append({'년월' :'202101-202106'  , '시구' : '{}'.format(City) , '시군구' : '{}'.format(SIGUNGU[i]) , '계약구분' : '합계' , '고객호수(호)' : sum3[i] ,  '사용량(kWh)' : sum2[i]} , ignore_index=True) #년월 파일마다 수정하기\n",
      "C:\\Users\\user\\AppData\\Local\\Temp\\ipykernel_8252\\1481603074.py:4: FutureWarning: The frame.append method is deprecated and will be removed from pandas in a future version. Use pandas.concat instead.\n",
      "  Hap = Hap.append({'년월' :'202101-202106'  , '시구' : '{}'.format(City) , '시군구' : '{}'.format(SIGUNGU[i]) , '계약구분' : '합계' , '고객호수(호)' : sum3[i] ,  '사용량(kWh)' : sum2[i]} , ignore_index=True) #년월 파일마다 수정하기\n",
      "C:\\Users\\user\\AppData\\Local\\Temp\\ipykernel_8252\\1481603074.py:4: FutureWarning: The frame.append method is deprecated and will be removed from pandas in a future version. Use pandas.concat instead.\n",
      "  Hap = Hap.append({'년월' :'202101-202106'  , '시구' : '{}'.format(City) , '시군구' : '{}'.format(SIGUNGU[i]) , '계약구분' : '합계' , '고객호수(호)' : sum3[i] ,  '사용량(kWh)' : sum2[i]} , ignore_index=True) #년월 파일마다 수정하기\n",
      "C:\\Users\\user\\AppData\\Local\\Temp\\ipykernel_8252\\1481603074.py:4: FutureWarning: The frame.append method is deprecated and will be removed from pandas in a future version. Use pandas.concat instead.\n",
      "  Hap = Hap.append({'년월' :'202101-202106'  , '시구' : '{}'.format(City) , '시군구' : '{}'.format(SIGUNGU[i]) , '계약구분' : '합계' , '고객호수(호)' : sum3[i] ,  '사용량(kWh)' : sum2[i]} , ignore_index=True) #년월 파일마다 수정하기\n",
      "C:\\Users\\user\\AppData\\Local\\Temp\\ipykernel_8252\\1481603074.py:4: FutureWarning: The frame.append method is deprecated and will be removed from pandas in a future version. Use pandas.concat instead.\n",
      "  Hap = Hap.append({'년월' :'202101-202106'  , '시구' : '{}'.format(City) , '시군구' : '{}'.format(SIGUNGU[i]) , '계약구분' : '합계' , '고객호수(호)' : sum3[i] ,  '사용량(kWh)' : sum2[i]} , ignore_index=True) #년월 파일마다 수정하기\n",
      "C:\\Users\\user\\AppData\\Local\\Temp\\ipykernel_8252\\1481603074.py:4: FutureWarning: The frame.append method is deprecated and will be removed from pandas in a future version. Use pandas.concat instead.\n",
      "  Hap = Hap.append({'년월' :'202101-202106'  , '시구' : '{}'.format(City) , '시군구' : '{}'.format(SIGUNGU[i]) , '계약구분' : '합계' , '고객호수(호)' : sum3[i] ,  '사용량(kWh)' : sum2[i]} , ignore_index=True) #년월 파일마다 수정하기\n",
      "C:\\Users\\user\\AppData\\Local\\Temp\\ipykernel_8252\\1481603074.py:4: FutureWarning: The frame.append method is deprecated and will be removed from pandas in a future version. Use pandas.concat instead.\n",
      "  Hap = Hap.append({'년월' :'202101-202106'  , '시구' : '{}'.format(City) , '시군구' : '{}'.format(SIGUNGU[i]) , '계약구분' : '합계' , '고객호수(호)' : sum3[i] ,  '사용량(kWh)' : sum2[i]} , ignore_index=True) #년월 파일마다 수정하기\n",
      "C:\\Users\\user\\AppData\\Local\\Temp\\ipykernel_8252\\1481603074.py:4: FutureWarning: The frame.append method is deprecated and will be removed from pandas in a future version. Use pandas.concat instead.\n",
      "  Hap = Hap.append({'년월' :'202101-202106'  , '시구' : '{}'.format(City) , '시군구' : '{}'.format(SIGUNGU[i]) , '계약구분' : '합계' , '고객호수(호)' : sum3[i] ,  '사용량(kWh)' : sum2[i]} , ignore_index=True) #년월 파일마다 수정하기\n",
      "C:\\Users\\user\\AppData\\Local\\Temp\\ipykernel_8252\\1481603074.py:4: FutureWarning: The frame.append method is deprecated and will be removed from pandas in a future version. Use pandas.concat instead.\n",
      "  Hap = Hap.append({'년월' :'202101-202106'  , '시구' : '{}'.format(City) , '시군구' : '{}'.format(SIGUNGU[i]) , '계약구분' : '합계' , '고객호수(호)' : sum3[i] ,  '사용량(kWh)' : sum2[i]} , ignore_index=True) #년월 파일마다 수정하기\n",
      "C:\\Users\\user\\AppData\\Local\\Temp\\ipykernel_8252\\1481603074.py:4: FutureWarning: The frame.append method is deprecated and will be removed from pandas in a future version. Use pandas.concat instead.\n",
      "  Hap = Hap.append({'년월' :'202101-202106'  , '시구' : '{}'.format(City) , '시군구' : '{}'.format(SIGUNGU[i]) , '계약구분' : '합계' , '고객호수(호)' : sum3[i] ,  '사용량(kWh)' : sum2[i]} , ignore_index=True) #년월 파일마다 수정하기\n",
      "C:\\Users\\user\\AppData\\Local\\Temp\\ipykernel_8252\\1481603074.py:4: FutureWarning: The frame.append method is deprecated and will be removed from pandas in a future version. Use pandas.concat instead.\n",
      "  Hap = Hap.append({'년월' :'202101-202106'  , '시구' : '{}'.format(City) , '시군구' : '{}'.format(SIGUNGU[i]) , '계약구분' : '합계' , '고객호수(호)' : sum3[i] ,  '사용량(kWh)' : sum2[i]} , ignore_index=True) #년월 파일마다 수정하기\n",
      "C:\\Users\\user\\AppData\\Local\\Temp\\ipykernel_8252\\1481603074.py:4: FutureWarning: The frame.append method is deprecated and will be removed from pandas in a future version. Use pandas.concat instead.\n",
      "  Hap = Hap.append({'년월' :'202101-202106'  , '시구' : '{}'.format(City) , '시군구' : '{}'.format(SIGUNGU[i]) , '계약구분' : '합계' , '고객호수(호)' : sum3[i] ,  '사용량(kWh)' : sum2[i]} , ignore_index=True) #년월 파일마다 수정하기\n",
      "C:\\Users\\user\\AppData\\Local\\Temp\\ipykernel_8252\\1481603074.py:4: FutureWarning: The frame.append method is deprecated and will be removed from pandas in a future version. Use pandas.concat instead.\n",
      "  Hap = Hap.append({'년월' :'202101-202106'  , '시구' : '{}'.format(City) , '시군구' : '{}'.format(SIGUNGU[i]) , '계약구분' : '합계' , '고객호수(호)' : sum3[i] ,  '사용량(kWh)' : sum2[i]} , ignore_index=True) #년월 파일마다 수정하기\n",
      "C:\\Users\\user\\AppData\\Local\\Temp\\ipykernel_8252\\1481603074.py:4: FutureWarning: The frame.append method is deprecated and will be removed from pandas in a future version. Use pandas.concat instead.\n",
      "  Hap = Hap.append({'년월' :'202101-202106'  , '시구' : '{}'.format(City) , '시군구' : '{}'.format(SIGUNGU[i]) , '계약구분' : '합계' , '고객호수(호)' : sum3[i] ,  '사용량(kWh)' : sum2[i]} , ignore_index=True) #년월 파일마다 수정하기\n",
      "C:\\Users\\user\\AppData\\Local\\Temp\\ipykernel_8252\\1481603074.py:4: FutureWarning: The frame.append method is deprecated and will be removed from pandas in a future version. Use pandas.concat instead.\n",
      "  Hap = Hap.append({'년월' :'202101-202106'  , '시구' : '{}'.format(City) , '시군구' : '{}'.format(SIGUNGU[i]) , '계약구분' : '합계' , '고객호수(호)' : sum3[i] ,  '사용량(kWh)' : sum2[i]} , ignore_index=True) #년월 파일마다 수정하기\n"
     ]
    },
    {
     "data": {
      "text/plain": "                년월   시구  시군구 계약구분  고객호수(호)     사용량(kWh)\n0           202101  경기도  가평군   합계  69,616   82,883,493 \n1           202102  경기도  가평군   합계  69,683   76,831,036 \n2           202103  경기도  가평군   합계  70,768   62,105,566 \n3           202104  경기도  가평군   합계  69,951   53,211,913 \n4           202105  경기도  가평군   합계  70,107   47,914,173 \n..             ...  ...  ...  ...      ...          ...\n212  202101-202106  경기도  파주시   합계    29896   4533135857\n213  202101-202106  경기도  평택시   합계    42145   7011884557\n214  202101-202106  경기도  포천시   합계    21127   1458309389\n215  202101-202106  경기도  하남시   합계     9555    881857080\n216  202101-202106  경기도  화성시   합계    46985  10153093275\n\n[217 rows x 6 columns]",
      "text/html": "<div>\n<style scoped>\n    .dataframe tbody tr th:only-of-type {\n        vertical-align: middle;\n    }\n\n    .dataframe tbody tr th {\n        vertical-align: top;\n    }\n\n    .dataframe thead th {\n        text-align: right;\n    }\n</style>\n<table border=\"1\" class=\"dataframe\">\n  <thead>\n    <tr style=\"text-align: right;\">\n      <th></th>\n      <th>년월</th>\n      <th>시구</th>\n      <th>시군구</th>\n      <th>계약구분</th>\n      <th>고객호수(호)</th>\n      <th>사용량(kWh)</th>\n    </tr>\n  </thead>\n  <tbody>\n    <tr>\n      <th>0</th>\n      <td>202101</td>\n      <td>경기도</td>\n      <td>가평군</td>\n      <td>합계</td>\n      <td>69,616</td>\n      <td>82,883,493</td>\n    </tr>\n    <tr>\n      <th>1</th>\n      <td>202102</td>\n      <td>경기도</td>\n      <td>가평군</td>\n      <td>합계</td>\n      <td>69,683</td>\n      <td>76,831,036</td>\n    </tr>\n    <tr>\n      <th>2</th>\n      <td>202103</td>\n      <td>경기도</td>\n      <td>가평군</td>\n      <td>합계</td>\n      <td>70,768</td>\n      <td>62,105,566</td>\n    </tr>\n    <tr>\n      <th>3</th>\n      <td>202104</td>\n      <td>경기도</td>\n      <td>가평군</td>\n      <td>합계</td>\n      <td>69,951</td>\n      <td>53,211,913</td>\n    </tr>\n    <tr>\n      <th>4</th>\n      <td>202105</td>\n      <td>경기도</td>\n      <td>가평군</td>\n      <td>합계</td>\n      <td>70,107</td>\n      <td>47,914,173</td>\n    </tr>\n    <tr>\n      <th>...</th>\n      <td>...</td>\n      <td>...</td>\n      <td>...</td>\n      <td>...</td>\n      <td>...</td>\n      <td>...</td>\n    </tr>\n    <tr>\n      <th>212</th>\n      <td>202101-202106</td>\n      <td>경기도</td>\n      <td>파주시</td>\n      <td>합계</td>\n      <td>29896</td>\n      <td>4533135857</td>\n    </tr>\n    <tr>\n      <th>213</th>\n      <td>202101-202106</td>\n      <td>경기도</td>\n      <td>평택시</td>\n      <td>합계</td>\n      <td>42145</td>\n      <td>7011884557</td>\n    </tr>\n    <tr>\n      <th>214</th>\n      <td>202101-202106</td>\n      <td>경기도</td>\n      <td>포천시</td>\n      <td>합계</td>\n      <td>21127</td>\n      <td>1458309389</td>\n    </tr>\n    <tr>\n      <th>215</th>\n      <td>202101-202106</td>\n      <td>경기도</td>\n      <td>하남시</td>\n      <td>합계</td>\n      <td>9555</td>\n      <td>881857080</td>\n    </tr>\n    <tr>\n      <th>216</th>\n      <td>202101-202106</td>\n      <td>경기도</td>\n      <td>화성시</td>\n      <td>합계</td>\n      <td>46985</td>\n      <td>10153093275</td>\n    </tr>\n  </tbody>\n</table>\n<p>217 rows × 6 columns</p>\n</div>"
     },
     "execution_count": 15,
     "metadata": {},
     "output_type": "execute_result"
    }
   ],
   "source": [
    "Hap = df_4.copy()\n",
    "Hap.reset_index(drop=True , inplace = True)\n",
    "for i in range(len(SIGUNGU)):\n",
    "    Hap = Hap.append({'년월' :'202101-202106'  , '시구' : '{}'.format(City) , '시군구' : '{}'.format(SIGUNGU[i]) , '계약구분' : '합계' , '고객호수(호)' : sum3[i] ,  '사용량(kWh)' : sum2[i]} , ignore_index=True) #년월 파일마다 수정하기\n",
    "Hap"
   ],
   "metadata": {
    "collapsed": false,
    "pycharm": {
     "name": "#%%\n"
    }
   }
  },
  {
   "cell_type": "markdown",
   "source": [
    "### 3. 날짜 변경!!!!!!!!!!!!!!!!!!!!!!!!!!!!!!!"
   ],
   "metadata": {
    "collapsed": false,
    "pycharm": {
     "name": "#%% md\n"
    }
   }
  },
  {
   "cell_type": "code",
   "execution_count": 16,
   "outputs": [
    {
     "data": {
      "text/plain": "                년월   시구   시군구 계약구분 고객호수(호)     사용량(kWh)\n186  202101-202106  경기도   가평군   합계   11681    370223932\n187  202101-202106  경기도   고양시   합계   40733   2388859569\n188  202101-202106  경기도   과천시   합계    2719    188847795\n189  202101-202106  경기도   광명시   합계   10665    535942451\n190  202101-202106  경기도   광주시   합계   32693   1393796713\n191  202101-202106  경기도   구리시   합계    9008    398796723\n192  202101-202106  경기도   군포시   합계   10807    743969819\n193  202101-202106  경기도   김포시   합계   22231   2171765596\n194  202101-202106  경기도  남양주시   합계   33291   1716723530\n195  202101-202106  경기도  동두천시   합계    7264    333474405\n196  202101-202106  경기도   부천시   합계   48125   2079448606\n197  202101-202106  경기도   성남시   합계   44913   2579368016\n198  202101-202106  경기도   수원시   합계   62000   2853415228\n199  202101-202106  경기도   시흥시   합계   27945   2415709447\n200  202101-202106  경기도   안산시   합계   48883   4026578711\n201  202101-202106  경기도   안성시   합계   23111   1718196140\n202  202101-202106  경기도   안양시   합계   21970   1381539712\n203  202101-202106  경기도   양주시   합계   15560   1177681448\n204  202101-202106  경기도   양평군   합계   20732    534460071\n205  202101-202106  경기도   여주시   합계   16395    739925422\n206  202101-202106  경기도   연천군   합계    7950    302924186\n207  202101-202106  경기도   오산시   합계   12364    703206910\n208  202101-202106  경기도   용인시   합계   43257   5266347384\n209  202101-202106  경기도   의왕시   합계    5594    397355407\n210  202101-202106  경기도  의정부시   합계   20187    866650827\n211  202101-202106  경기도   이천시   합계   23457   4004629439\n212  202101-202106  경기도   파주시   합계   29896   4533135857\n213  202101-202106  경기도   평택시   합계   42145   7011884557\n214  202101-202106  경기도   포천시   합계   21127   1458309389\n215  202101-202106  경기도   하남시   합계    9555    881857080\n216  202101-202106  경기도   화성시   합계   46985  10153093275",
      "text/html": "<div>\n<style scoped>\n    .dataframe tbody tr th:only-of-type {\n        vertical-align: middle;\n    }\n\n    .dataframe tbody tr th {\n        vertical-align: top;\n    }\n\n    .dataframe thead th {\n        text-align: right;\n    }\n</style>\n<table border=\"1\" class=\"dataframe\">\n  <thead>\n    <tr style=\"text-align: right;\">\n      <th></th>\n      <th>년월</th>\n      <th>시구</th>\n      <th>시군구</th>\n      <th>계약구분</th>\n      <th>고객호수(호)</th>\n      <th>사용량(kWh)</th>\n    </tr>\n  </thead>\n  <tbody>\n    <tr>\n      <th>186</th>\n      <td>202101-202106</td>\n      <td>경기도</td>\n      <td>가평군</td>\n      <td>합계</td>\n      <td>11681</td>\n      <td>370223932</td>\n    </tr>\n    <tr>\n      <th>187</th>\n      <td>202101-202106</td>\n      <td>경기도</td>\n      <td>고양시</td>\n      <td>합계</td>\n      <td>40733</td>\n      <td>2388859569</td>\n    </tr>\n    <tr>\n      <th>188</th>\n      <td>202101-202106</td>\n      <td>경기도</td>\n      <td>과천시</td>\n      <td>합계</td>\n      <td>2719</td>\n      <td>188847795</td>\n    </tr>\n    <tr>\n      <th>189</th>\n      <td>202101-202106</td>\n      <td>경기도</td>\n      <td>광명시</td>\n      <td>합계</td>\n      <td>10665</td>\n      <td>535942451</td>\n    </tr>\n    <tr>\n      <th>190</th>\n      <td>202101-202106</td>\n      <td>경기도</td>\n      <td>광주시</td>\n      <td>합계</td>\n      <td>32693</td>\n      <td>1393796713</td>\n    </tr>\n    <tr>\n      <th>191</th>\n      <td>202101-202106</td>\n      <td>경기도</td>\n      <td>구리시</td>\n      <td>합계</td>\n      <td>9008</td>\n      <td>398796723</td>\n    </tr>\n    <tr>\n      <th>192</th>\n      <td>202101-202106</td>\n      <td>경기도</td>\n      <td>군포시</td>\n      <td>합계</td>\n      <td>10807</td>\n      <td>743969819</td>\n    </tr>\n    <tr>\n      <th>193</th>\n      <td>202101-202106</td>\n      <td>경기도</td>\n      <td>김포시</td>\n      <td>합계</td>\n      <td>22231</td>\n      <td>2171765596</td>\n    </tr>\n    <tr>\n      <th>194</th>\n      <td>202101-202106</td>\n      <td>경기도</td>\n      <td>남양주시</td>\n      <td>합계</td>\n      <td>33291</td>\n      <td>1716723530</td>\n    </tr>\n    <tr>\n      <th>195</th>\n      <td>202101-202106</td>\n      <td>경기도</td>\n      <td>동두천시</td>\n      <td>합계</td>\n      <td>7264</td>\n      <td>333474405</td>\n    </tr>\n    <tr>\n      <th>196</th>\n      <td>202101-202106</td>\n      <td>경기도</td>\n      <td>부천시</td>\n      <td>합계</td>\n      <td>48125</td>\n      <td>2079448606</td>\n    </tr>\n    <tr>\n      <th>197</th>\n      <td>202101-202106</td>\n      <td>경기도</td>\n      <td>성남시</td>\n      <td>합계</td>\n      <td>44913</td>\n      <td>2579368016</td>\n    </tr>\n    <tr>\n      <th>198</th>\n      <td>202101-202106</td>\n      <td>경기도</td>\n      <td>수원시</td>\n      <td>합계</td>\n      <td>62000</td>\n      <td>2853415228</td>\n    </tr>\n    <tr>\n      <th>199</th>\n      <td>202101-202106</td>\n      <td>경기도</td>\n      <td>시흥시</td>\n      <td>합계</td>\n      <td>27945</td>\n      <td>2415709447</td>\n    </tr>\n    <tr>\n      <th>200</th>\n      <td>202101-202106</td>\n      <td>경기도</td>\n      <td>안산시</td>\n      <td>합계</td>\n      <td>48883</td>\n      <td>4026578711</td>\n    </tr>\n    <tr>\n      <th>201</th>\n      <td>202101-202106</td>\n      <td>경기도</td>\n      <td>안성시</td>\n      <td>합계</td>\n      <td>23111</td>\n      <td>1718196140</td>\n    </tr>\n    <tr>\n      <th>202</th>\n      <td>202101-202106</td>\n      <td>경기도</td>\n      <td>안양시</td>\n      <td>합계</td>\n      <td>21970</td>\n      <td>1381539712</td>\n    </tr>\n    <tr>\n      <th>203</th>\n      <td>202101-202106</td>\n      <td>경기도</td>\n      <td>양주시</td>\n      <td>합계</td>\n      <td>15560</td>\n      <td>1177681448</td>\n    </tr>\n    <tr>\n      <th>204</th>\n      <td>202101-202106</td>\n      <td>경기도</td>\n      <td>양평군</td>\n      <td>합계</td>\n      <td>20732</td>\n      <td>534460071</td>\n    </tr>\n    <tr>\n      <th>205</th>\n      <td>202101-202106</td>\n      <td>경기도</td>\n      <td>여주시</td>\n      <td>합계</td>\n      <td>16395</td>\n      <td>739925422</td>\n    </tr>\n    <tr>\n      <th>206</th>\n      <td>202101-202106</td>\n      <td>경기도</td>\n      <td>연천군</td>\n      <td>합계</td>\n      <td>7950</td>\n      <td>302924186</td>\n    </tr>\n    <tr>\n      <th>207</th>\n      <td>202101-202106</td>\n      <td>경기도</td>\n      <td>오산시</td>\n      <td>합계</td>\n      <td>12364</td>\n      <td>703206910</td>\n    </tr>\n    <tr>\n      <th>208</th>\n      <td>202101-202106</td>\n      <td>경기도</td>\n      <td>용인시</td>\n      <td>합계</td>\n      <td>43257</td>\n      <td>5266347384</td>\n    </tr>\n    <tr>\n      <th>209</th>\n      <td>202101-202106</td>\n      <td>경기도</td>\n      <td>의왕시</td>\n      <td>합계</td>\n      <td>5594</td>\n      <td>397355407</td>\n    </tr>\n    <tr>\n      <th>210</th>\n      <td>202101-202106</td>\n      <td>경기도</td>\n      <td>의정부시</td>\n      <td>합계</td>\n      <td>20187</td>\n      <td>866650827</td>\n    </tr>\n    <tr>\n      <th>211</th>\n      <td>202101-202106</td>\n      <td>경기도</td>\n      <td>이천시</td>\n      <td>합계</td>\n      <td>23457</td>\n      <td>4004629439</td>\n    </tr>\n    <tr>\n      <th>212</th>\n      <td>202101-202106</td>\n      <td>경기도</td>\n      <td>파주시</td>\n      <td>합계</td>\n      <td>29896</td>\n      <td>4533135857</td>\n    </tr>\n    <tr>\n      <th>213</th>\n      <td>202101-202106</td>\n      <td>경기도</td>\n      <td>평택시</td>\n      <td>합계</td>\n      <td>42145</td>\n      <td>7011884557</td>\n    </tr>\n    <tr>\n      <th>214</th>\n      <td>202101-202106</td>\n      <td>경기도</td>\n      <td>포천시</td>\n      <td>합계</td>\n      <td>21127</td>\n      <td>1458309389</td>\n    </tr>\n    <tr>\n      <th>215</th>\n      <td>202101-202106</td>\n      <td>경기도</td>\n      <td>하남시</td>\n      <td>합계</td>\n      <td>9555</td>\n      <td>881857080</td>\n    </tr>\n    <tr>\n      <th>216</th>\n      <td>202101-202106</td>\n      <td>경기도</td>\n      <td>화성시</td>\n      <td>합계</td>\n      <td>46985</td>\n      <td>10153093275</td>\n    </tr>\n  </tbody>\n</table>\n</div>"
     },
     "execution_count": 16,
     "metadata": {},
     "output_type": "execute_result"
    }
   ],
   "source": [
    "Hap = Hap.loc[Hap['년월'] == '202101-202106']\n",
    "Hap"
   ],
   "metadata": {
    "collapsed": false,
    "pycharm": {
     "name": "#%%\n"
    }
   }
  },
  {
   "cell_type": "code",
   "execution_count": 17,
   "outputs": [],
   "source": [
    "# SIGUNGU = SIGUNGU[:1]\n",
    "# SIGUNGU\n",
    "#for i in SIGUNGU:\n",
    "#print('{}'.format(i))\n",
    "# df_3 = df_3.loc[(df_3['시군구'] == '가평군')]\n",
    "#\n",
    "# df_3"
   ],
   "metadata": {
    "collapsed": false,
    "pycharm": {
     "name": "#%%\n"
    }
   }
  },
  {
   "cell_type": "code",
   "execution_count": 18,
   "outputs": [
    {
     "data": {
      "text/plain": "['년월', '시구', '시군구', '계약구분', '고객호수(호)', '사용량(kWh)']"
     },
     "execution_count": 18,
     "metadata": {},
     "output_type": "execute_result"
    }
   ],
   "source": [
    "a = (df_3.columns).tolist()\n",
    "\n",
    "a"
   ],
   "metadata": {
    "collapsed": false,
    "pycharm": {
     "name": "#%%\n"
    }
   }
  },
  {
   "cell_type": "code",
   "execution_count": 19,
   "outputs": [
    {
     "data": {
      "text/plain": "          년월   시구  시군구 계약구분  고객호수(호)      사용량(kWh)\n53    202101  경기도  가평군  일반용  10,884    40,898,761 \n301   202102  경기도  가평군  일반용  10,851    37,858,450 \n549   202103  경기도  가평군  일반용  10,843    30,234,418 \n797   202104  경기도  가평군  일반용  10,872    26,049,435 \n1045  202105  경기도  가평군  일반용  10,892    24,295,275 \n...      ...  ...  ...  ...      ...           ...\n541   202102  경기도  화성시  일반용  47,595   220,385,741 \n789   202103  경기도  화성시  일반용  47,619   195,854,087 \n1037  202104  경기도  화성시  일반용  47,812   186,343,380 \n1285  202105  경기도  화성시  일반용  47,936   179,842,500 \n1533  202106  경기도  화성시  일반용  48,147   196,679,468 \n\n[186 rows x 6 columns]",
      "text/html": "<div>\n<style scoped>\n    .dataframe tbody tr th:only-of-type {\n        vertical-align: middle;\n    }\n\n    .dataframe tbody tr th {\n        vertical-align: top;\n    }\n\n    .dataframe thead th {\n        text-align: right;\n    }\n</style>\n<table border=\"1\" class=\"dataframe\">\n  <thead>\n    <tr style=\"text-align: right;\">\n      <th></th>\n      <th>년월</th>\n      <th>시구</th>\n      <th>시군구</th>\n      <th>계약구분</th>\n      <th>고객호수(호)</th>\n      <th>사용량(kWh)</th>\n    </tr>\n  </thead>\n  <tbody>\n    <tr>\n      <th>53</th>\n      <td>202101</td>\n      <td>경기도</td>\n      <td>가평군</td>\n      <td>일반용</td>\n      <td>10,884</td>\n      <td>40,898,761</td>\n    </tr>\n    <tr>\n      <th>301</th>\n      <td>202102</td>\n      <td>경기도</td>\n      <td>가평군</td>\n      <td>일반용</td>\n      <td>10,851</td>\n      <td>37,858,450</td>\n    </tr>\n    <tr>\n      <th>549</th>\n      <td>202103</td>\n      <td>경기도</td>\n      <td>가평군</td>\n      <td>일반용</td>\n      <td>10,843</td>\n      <td>30,234,418</td>\n    </tr>\n    <tr>\n      <th>797</th>\n      <td>202104</td>\n      <td>경기도</td>\n      <td>가평군</td>\n      <td>일반용</td>\n      <td>10,872</td>\n      <td>26,049,435</td>\n    </tr>\n    <tr>\n      <th>1045</th>\n      <td>202105</td>\n      <td>경기도</td>\n      <td>가평군</td>\n      <td>일반용</td>\n      <td>10,892</td>\n      <td>24,295,275</td>\n    </tr>\n    <tr>\n      <th>...</th>\n      <td>...</td>\n      <td>...</td>\n      <td>...</td>\n      <td>...</td>\n      <td>...</td>\n      <td>...</td>\n    </tr>\n    <tr>\n      <th>541</th>\n      <td>202102</td>\n      <td>경기도</td>\n      <td>화성시</td>\n      <td>일반용</td>\n      <td>47,595</td>\n      <td>220,385,741</td>\n    </tr>\n    <tr>\n      <th>789</th>\n      <td>202103</td>\n      <td>경기도</td>\n      <td>화성시</td>\n      <td>일반용</td>\n      <td>47,619</td>\n      <td>195,854,087</td>\n    </tr>\n    <tr>\n      <th>1037</th>\n      <td>202104</td>\n      <td>경기도</td>\n      <td>화성시</td>\n      <td>일반용</td>\n      <td>47,812</td>\n      <td>186,343,380</td>\n    </tr>\n    <tr>\n      <th>1285</th>\n      <td>202105</td>\n      <td>경기도</td>\n      <td>화성시</td>\n      <td>일반용</td>\n      <td>47,936</td>\n      <td>179,842,500</td>\n    </tr>\n    <tr>\n      <th>1533</th>\n      <td>202106</td>\n      <td>경기도</td>\n      <td>화성시</td>\n      <td>일반용</td>\n      <td>48,147</td>\n      <td>196,679,468</td>\n    </tr>\n  </tbody>\n</table>\n<p>186 rows × 6 columns</p>\n</div>"
     },
     "execution_count": 19,
     "metadata": {},
     "output_type": "execute_result"
    }
   ],
   "source": [
    "df_3"
   ],
   "metadata": {
    "collapsed": false,
    "pycharm": {
     "name": "#%%\n"
    }
   }
  },
  {
   "cell_type": "code",
   "execution_count": 20,
   "outputs": [],
   "source": [
    "# GyeonGiHap = pd.DataFrame([] , columns = a)\n",
    "# GyeonGiHap['사용량']= df_3['사용량(kWh)'].loc[(df_3['시군구'] == '{가평군}')]\n",
    "# GyeonGiHap"
   ],
   "metadata": {
    "collapsed": false,
    "pycharm": {
     "name": "#%%\n"
    }
   }
  },
  {
   "cell_type": "code",
   "execution_count": 21,
   "outputs": [
    {
     "name": "stdout",
     "output_type": "stream",
     "text": [
      "[40898761, 37858450, 30234418, 26049435, 24295275, 25005933]\n",
      "[206020058, 205516115, 157109118, 148298865, 142241561, 158911839]\n",
      "[19972704, 18921328, 16047778, 15022373, 14279037, 15936978]\n",
      "[39567414, 36733496, 30105754, 27934524, 26902664, 30840831]\n",
      "[78773479, 75842924, 60485962, 55441677, 51199868, 55871768]\n",
      "[38057958, 35526490, 28904557, 26796462, 25521799, 29069809]\n",
      "[42020004, 40049071, 34155715, 32394618, 30421588, 33514811]\n",
      "[98816957, 93454198, 78292546, 72725075, 70141106, 78080663]\n",
      "[115953220, 113760095, 89501434, 82408237, 75969033, 83471882]\n",
      "[23870851, 23073329, 17877456, 16290801, 14901426, 17263529]\n",
      "[128149883, 122119926, 100947720, 95601568, 91951291, 103764447]\n",
      "[253767354, 231394046, 210755725, 200589863, 200972395, 229676793]\n",
      "[279577390, 258121650, 230428550, 220035172, 216531254, 245890583]\n",
      "[89966316, 85353931, 69583029, 65830397, 62681850, 70222794]\n",
      "[114348738, 108326793, 89992326, 84015124, 78918967, 87518135]\n",
      "[60083191, 56792302, 49087337, 46633266, 44545921, 48071658]\n",
      "[133901779, 120765780, 111926822, 106936728, 107466709, 119107247]\n",
      "[60289529, 56021018, 44694771, 38053207, 34983058, 38004446]\n",
      "[33840368, 32949163, 25386387, 22478325, 20216459, 20757420]\n",
      "[37660999, 33712071, 29267781, 26510787, 24631333, 27018713]\n",
      "[18878926, 17916053, 13248312, 11614018, 10503250, 11487280]\n",
      "[41897220, 40072943, 33527894, 31818103, 30473544, 33738665]\n",
      "[262627912, 245065602, 211804892, 200860181, 196444436, 216968169]\n",
      "[34935237, 32009536, 29277983, 27455293, 26805608, 29036089]\n",
      "[73275558, 69035622, 55844809, 51831767, 49440008, 55533288]\n",
      "[81058130, 76693869, 63455104, 58464685, 55356334, 61268053]\n",
      "[114443423, 111155339, 88715550, 81463126, 75931088, 82483247]\n",
      "[159574937, 153313885, 126916637, 121401434, 104420656, 142414665]\n",
      "[56540172, 54565978, 42479687, 38502694, 35379828, 37492014]\n",
      "[63588186, 58865973, 48790648, 46614016, 46301513, 52632747]\n",
      "[232342107, 220385741, 195854087, 186343380, 179842500, 196679468]\n",
      "경기도 지역별 일반용 합계 :  [184342272, 1018097556, 100180198, 192084683, 377615678, 183877075, 212555807, 491510545, 561063901, 113277392, 642534835, 1327156176, 1450584599, 443638317, 563120083, 305213675, 700105065, 272046029, 155628122, 178801684, 83647839, 211528369, 1333771192, 179519746, 354961052, 396296175, 554191773, 808042214, 264960373, 316793083, 1211447283]\n",
      "경기도 고객호수 평균:  [10877, 43326, 2697, 10816, 28251, 10665, 9421, 25145, 40292, 6480, 37024, 34327, 54821, 25788, 30415, 16329, 23390, 16024, 13446, 10716, 5202, 12086, 44215, 6114, 22238, 18095, 29539, 40975, 19006, 15288, 47761]\n"
     ]
    }
   ],
   "source": [
    "sum2 , sum3 =[] , []\n",
    "for k in SIGUNGU:\n",
    "    GyeonGiHap = pd.DataFrame([] , columns = a)\n",
    "    HOSU = pd.DataFrame([], columns = a)\n",
    "    GyeonGiHap['사용량']= df_3['사용량(kWh)'].loc[(df_3['시군구'] == '{}'.format(k))]\n",
    "    HOSU['고객호수']= df_3['고객호수(호)'].loc[(df_3['시군구'] == '{}'.format(k))]\n",
    "    #경기합 데이터프레임의 사용량 열에 기군구가 가평군인 사용량 데이터만 뽑아내기\n",
    "    # GyeonGiHap = GyeonGiHap['사용량']\n",
    "\n",
    "    b = GyeonGiHap['사용량'].tolist()\n",
    "    c = HOSU['고객호수'].tolist()\n",
    "\n",
    "\n",
    "    #각지역별 사용량 리스트화\n",
    "    int_list  , int_list2=[] , []\n",
    "    for i in b:\n",
    "        i = re.sub(\",\" , \"\" , i)\n",
    "        #콤마 없애기\n",
    "        int_list.append(int(i))\n",
    "        #int_list에 각지역별 사용량 int로 저장\n",
    "    print(int_list)\n",
    "    sum=0\n",
    "    for i in c:\n",
    "        i = re.sub(\",\" , \"\" , i)\n",
    "        int_list2.append(int(i))\n",
    "\n",
    "    for j in int_list:\n",
    "\n",
    "        sum+= j\n",
    "    sum2.append(sum)\n",
    "    sum = 0\n",
    "    for j in int_list2: #고객호수 추출하여 더하기\n",
    "\n",
    "        sum+= j\n",
    "    sum3.append(sum//6) #6개월 치로 나눠야하나?!\n",
    "\n",
    "\n",
    "\n",
    "\n",
    "print(\"{} 지역별 일반용 합계 : \".format(City) , sum2)\n",
    "print(\"{} 고객호수 평균: \".format(City) , sum3)\n",
    "# GyeonGiHap['합계'] = sum\n",
    "#\n",
    "# GyeonGiHap"
   ],
   "metadata": {
    "collapsed": false,
    "pycharm": {
     "name": "#%%\n"
    }
   }
  },
  {
   "cell_type": "code",
   "execution_count": 22,
   "outputs": [],
   "source": [
    "# df_3 = df_3.loc[(df_3['시군구'] == '가평군')]\n",
    "#\n",
    "# df_3"
   ],
   "metadata": {
    "collapsed": false,
    "pycharm": {
     "name": "#%%\n"
    }
   }
  },
  {
   "cell_type": "code",
   "execution_count": 23,
   "outputs": [],
   "source": [
    "# GyeonGiHap = df_3.copy()\n",
    "# GyeonGiHap.reset_index(drop=True , inplace = True)\n",
    "# GyeonGiHap.append({'년월' : '202107-202112'  , '시구' : '경기도' , '시군구' : '가평군' , '계약구분' : '일반용' , '사용량(kWh)' : sum}, ignore_index=True)"
   ],
   "metadata": {
    "collapsed": false,
    "pycharm": {
     "name": "#%%\n"
    }
   }
  },
  {
   "cell_type": "code",
   "execution_count": 24,
   "outputs": [],
   "source": [
    "# a=[]\n",
    "# for i in SIGUNGU:\n",
    "#     a.append(i)\n",
    "#\n",
    "# print(a)"
   ],
   "metadata": {
    "collapsed": false,
    "pycharm": {
     "name": "#%%\n"
    }
   }
  },
  {
   "cell_type": "markdown",
   "source": [
    "### 4. 년월 체크!!!!!!!!!!!!!!!!!!!!!!!!!!!!!!!!!!!!!!!!!!!!!!!!!!!!!!!!!!!!!!!!!"
   ],
   "metadata": {
    "collapsed": false,
    "pycharm": {
     "name": "#%% md\n"
    }
   }
  },
  {
   "cell_type": "code",
   "execution_count": 25,
   "outputs": [
    {
     "name": "stderr",
     "output_type": "stream",
     "text": [
      "C:\\Users\\user\\AppData\\Local\\Temp\\ipykernel_8252\\1152688266.py:4: FutureWarning: The frame.append method is deprecated and will be removed from pandas in a future version. Use pandas.concat instead.\n",
      "  GyeonGiHap2 = GyeonGiHap2.append({'년월' :'202101-202106'  , '시구' : '{}'.format(City) , '시군구' : '{}'.format(SIGUNGU[i]) , '계약구분' : '일반용' , '고객호수(호)' : sum3[i] ,  '사용량(kWh)' : sum2[i]} , ignore_index=True) #년월 파일마다 수정하기\n",
      "C:\\Users\\user\\AppData\\Local\\Temp\\ipykernel_8252\\1152688266.py:4: FutureWarning: The frame.append method is deprecated and will be removed from pandas in a future version. Use pandas.concat instead.\n",
      "  GyeonGiHap2 = GyeonGiHap2.append({'년월' :'202101-202106'  , '시구' : '{}'.format(City) , '시군구' : '{}'.format(SIGUNGU[i]) , '계약구분' : '일반용' , '고객호수(호)' : sum3[i] ,  '사용량(kWh)' : sum2[i]} , ignore_index=True) #년월 파일마다 수정하기\n",
      "C:\\Users\\user\\AppData\\Local\\Temp\\ipykernel_8252\\1152688266.py:4: FutureWarning: The frame.append method is deprecated and will be removed from pandas in a future version. Use pandas.concat instead.\n",
      "  GyeonGiHap2 = GyeonGiHap2.append({'년월' :'202101-202106'  , '시구' : '{}'.format(City) , '시군구' : '{}'.format(SIGUNGU[i]) , '계약구분' : '일반용' , '고객호수(호)' : sum3[i] ,  '사용량(kWh)' : sum2[i]} , ignore_index=True) #년월 파일마다 수정하기\n",
      "C:\\Users\\user\\AppData\\Local\\Temp\\ipykernel_8252\\1152688266.py:4: FutureWarning: The frame.append method is deprecated and will be removed from pandas in a future version. Use pandas.concat instead.\n",
      "  GyeonGiHap2 = GyeonGiHap2.append({'년월' :'202101-202106'  , '시구' : '{}'.format(City) , '시군구' : '{}'.format(SIGUNGU[i]) , '계약구분' : '일반용' , '고객호수(호)' : sum3[i] ,  '사용량(kWh)' : sum2[i]} , ignore_index=True) #년월 파일마다 수정하기\n",
      "C:\\Users\\user\\AppData\\Local\\Temp\\ipykernel_8252\\1152688266.py:4: FutureWarning: The frame.append method is deprecated and will be removed from pandas in a future version. Use pandas.concat instead.\n",
      "  GyeonGiHap2 = GyeonGiHap2.append({'년월' :'202101-202106'  , '시구' : '{}'.format(City) , '시군구' : '{}'.format(SIGUNGU[i]) , '계약구분' : '일반용' , '고객호수(호)' : sum3[i] ,  '사용량(kWh)' : sum2[i]} , ignore_index=True) #년월 파일마다 수정하기\n",
      "C:\\Users\\user\\AppData\\Local\\Temp\\ipykernel_8252\\1152688266.py:4: FutureWarning: The frame.append method is deprecated and will be removed from pandas in a future version. Use pandas.concat instead.\n",
      "  GyeonGiHap2 = GyeonGiHap2.append({'년월' :'202101-202106'  , '시구' : '{}'.format(City) , '시군구' : '{}'.format(SIGUNGU[i]) , '계약구분' : '일반용' , '고객호수(호)' : sum3[i] ,  '사용량(kWh)' : sum2[i]} , ignore_index=True) #년월 파일마다 수정하기\n",
      "C:\\Users\\user\\AppData\\Local\\Temp\\ipykernel_8252\\1152688266.py:4: FutureWarning: The frame.append method is deprecated and will be removed from pandas in a future version. Use pandas.concat instead.\n",
      "  GyeonGiHap2 = GyeonGiHap2.append({'년월' :'202101-202106'  , '시구' : '{}'.format(City) , '시군구' : '{}'.format(SIGUNGU[i]) , '계약구분' : '일반용' , '고객호수(호)' : sum3[i] ,  '사용량(kWh)' : sum2[i]} , ignore_index=True) #년월 파일마다 수정하기\n",
      "C:\\Users\\user\\AppData\\Local\\Temp\\ipykernel_8252\\1152688266.py:4: FutureWarning: The frame.append method is deprecated and will be removed from pandas in a future version. Use pandas.concat instead.\n",
      "  GyeonGiHap2 = GyeonGiHap2.append({'년월' :'202101-202106'  , '시구' : '{}'.format(City) , '시군구' : '{}'.format(SIGUNGU[i]) , '계약구분' : '일반용' , '고객호수(호)' : sum3[i] ,  '사용량(kWh)' : sum2[i]} , ignore_index=True) #년월 파일마다 수정하기\n",
      "C:\\Users\\user\\AppData\\Local\\Temp\\ipykernel_8252\\1152688266.py:4: FutureWarning: The frame.append method is deprecated and will be removed from pandas in a future version. Use pandas.concat instead.\n",
      "  GyeonGiHap2 = GyeonGiHap2.append({'년월' :'202101-202106'  , '시구' : '{}'.format(City) , '시군구' : '{}'.format(SIGUNGU[i]) , '계약구분' : '일반용' , '고객호수(호)' : sum3[i] ,  '사용량(kWh)' : sum2[i]} , ignore_index=True) #년월 파일마다 수정하기\n",
      "C:\\Users\\user\\AppData\\Local\\Temp\\ipykernel_8252\\1152688266.py:4: FutureWarning: The frame.append method is deprecated and will be removed from pandas in a future version. Use pandas.concat instead.\n",
      "  GyeonGiHap2 = GyeonGiHap2.append({'년월' :'202101-202106'  , '시구' : '{}'.format(City) , '시군구' : '{}'.format(SIGUNGU[i]) , '계약구분' : '일반용' , '고객호수(호)' : sum3[i] ,  '사용량(kWh)' : sum2[i]} , ignore_index=True) #년월 파일마다 수정하기\n",
      "C:\\Users\\user\\AppData\\Local\\Temp\\ipykernel_8252\\1152688266.py:4: FutureWarning: The frame.append method is deprecated and will be removed from pandas in a future version. Use pandas.concat instead.\n",
      "  GyeonGiHap2 = GyeonGiHap2.append({'년월' :'202101-202106'  , '시구' : '{}'.format(City) , '시군구' : '{}'.format(SIGUNGU[i]) , '계약구분' : '일반용' , '고객호수(호)' : sum3[i] ,  '사용량(kWh)' : sum2[i]} , ignore_index=True) #년월 파일마다 수정하기\n",
      "C:\\Users\\user\\AppData\\Local\\Temp\\ipykernel_8252\\1152688266.py:4: FutureWarning: The frame.append method is deprecated and will be removed from pandas in a future version. Use pandas.concat instead.\n",
      "  GyeonGiHap2 = GyeonGiHap2.append({'년월' :'202101-202106'  , '시구' : '{}'.format(City) , '시군구' : '{}'.format(SIGUNGU[i]) , '계약구분' : '일반용' , '고객호수(호)' : sum3[i] ,  '사용량(kWh)' : sum2[i]} , ignore_index=True) #년월 파일마다 수정하기\n",
      "C:\\Users\\user\\AppData\\Local\\Temp\\ipykernel_8252\\1152688266.py:4: FutureWarning: The frame.append method is deprecated and will be removed from pandas in a future version. Use pandas.concat instead.\n",
      "  GyeonGiHap2 = GyeonGiHap2.append({'년월' :'202101-202106'  , '시구' : '{}'.format(City) , '시군구' : '{}'.format(SIGUNGU[i]) , '계약구분' : '일반용' , '고객호수(호)' : sum3[i] ,  '사용량(kWh)' : sum2[i]} , ignore_index=True) #년월 파일마다 수정하기\n",
      "C:\\Users\\user\\AppData\\Local\\Temp\\ipykernel_8252\\1152688266.py:4: FutureWarning: The frame.append method is deprecated and will be removed from pandas in a future version. Use pandas.concat instead.\n",
      "  GyeonGiHap2 = GyeonGiHap2.append({'년월' :'202101-202106'  , '시구' : '{}'.format(City) , '시군구' : '{}'.format(SIGUNGU[i]) , '계약구분' : '일반용' , '고객호수(호)' : sum3[i] ,  '사용량(kWh)' : sum2[i]} , ignore_index=True) #년월 파일마다 수정하기\n",
      "C:\\Users\\user\\AppData\\Local\\Temp\\ipykernel_8252\\1152688266.py:4: FutureWarning: The frame.append method is deprecated and will be removed from pandas in a future version. Use pandas.concat instead.\n",
      "  GyeonGiHap2 = GyeonGiHap2.append({'년월' :'202101-202106'  , '시구' : '{}'.format(City) , '시군구' : '{}'.format(SIGUNGU[i]) , '계약구분' : '일반용' , '고객호수(호)' : sum3[i] ,  '사용량(kWh)' : sum2[i]} , ignore_index=True) #년월 파일마다 수정하기\n",
      "C:\\Users\\user\\AppData\\Local\\Temp\\ipykernel_8252\\1152688266.py:4: FutureWarning: The frame.append method is deprecated and will be removed from pandas in a future version. Use pandas.concat instead.\n",
      "  GyeonGiHap2 = GyeonGiHap2.append({'년월' :'202101-202106'  , '시구' : '{}'.format(City) , '시군구' : '{}'.format(SIGUNGU[i]) , '계약구분' : '일반용' , '고객호수(호)' : sum3[i] ,  '사용량(kWh)' : sum2[i]} , ignore_index=True) #년월 파일마다 수정하기\n",
      "C:\\Users\\user\\AppData\\Local\\Temp\\ipykernel_8252\\1152688266.py:4: FutureWarning: The frame.append method is deprecated and will be removed from pandas in a future version. Use pandas.concat instead.\n",
      "  GyeonGiHap2 = GyeonGiHap2.append({'년월' :'202101-202106'  , '시구' : '{}'.format(City) , '시군구' : '{}'.format(SIGUNGU[i]) , '계약구분' : '일반용' , '고객호수(호)' : sum3[i] ,  '사용량(kWh)' : sum2[i]} , ignore_index=True) #년월 파일마다 수정하기\n",
      "C:\\Users\\user\\AppData\\Local\\Temp\\ipykernel_8252\\1152688266.py:4: FutureWarning: The frame.append method is deprecated and will be removed from pandas in a future version. Use pandas.concat instead.\n",
      "  GyeonGiHap2 = GyeonGiHap2.append({'년월' :'202101-202106'  , '시구' : '{}'.format(City) , '시군구' : '{}'.format(SIGUNGU[i]) , '계약구분' : '일반용' , '고객호수(호)' : sum3[i] ,  '사용량(kWh)' : sum2[i]} , ignore_index=True) #년월 파일마다 수정하기\n",
      "C:\\Users\\user\\AppData\\Local\\Temp\\ipykernel_8252\\1152688266.py:4: FutureWarning: The frame.append method is deprecated and will be removed from pandas in a future version. Use pandas.concat instead.\n",
      "  GyeonGiHap2 = GyeonGiHap2.append({'년월' :'202101-202106'  , '시구' : '{}'.format(City) , '시군구' : '{}'.format(SIGUNGU[i]) , '계약구분' : '일반용' , '고객호수(호)' : sum3[i] ,  '사용량(kWh)' : sum2[i]} , ignore_index=True) #년월 파일마다 수정하기\n",
      "C:\\Users\\user\\AppData\\Local\\Temp\\ipykernel_8252\\1152688266.py:4: FutureWarning: The frame.append method is deprecated and will be removed from pandas in a future version. Use pandas.concat instead.\n",
      "  GyeonGiHap2 = GyeonGiHap2.append({'년월' :'202101-202106'  , '시구' : '{}'.format(City) , '시군구' : '{}'.format(SIGUNGU[i]) , '계약구분' : '일반용' , '고객호수(호)' : sum3[i] ,  '사용량(kWh)' : sum2[i]} , ignore_index=True) #년월 파일마다 수정하기\n",
      "C:\\Users\\user\\AppData\\Local\\Temp\\ipykernel_8252\\1152688266.py:4: FutureWarning: The frame.append method is deprecated and will be removed from pandas in a future version. Use pandas.concat instead.\n",
      "  GyeonGiHap2 = GyeonGiHap2.append({'년월' :'202101-202106'  , '시구' : '{}'.format(City) , '시군구' : '{}'.format(SIGUNGU[i]) , '계약구분' : '일반용' , '고객호수(호)' : sum3[i] ,  '사용량(kWh)' : sum2[i]} , ignore_index=True) #년월 파일마다 수정하기\n",
      "C:\\Users\\user\\AppData\\Local\\Temp\\ipykernel_8252\\1152688266.py:4: FutureWarning: The frame.append method is deprecated and will be removed from pandas in a future version. Use pandas.concat instead.\n",
      "  GyeonGiHap2 = GyeonGiHap2.append({'년월' :'202101-202106'  , '시구' : '{}'.format(City) , '시군구' : '{}'.format(SIGUNGU[i]) , '계약구분' : '일반용' , '고객호수(호)' : sum3[i] ,  '사용량(kWh)' : sum2[i]} , ignore_index=True) #년월 파일마다 수정하기\n",
      "C:\\Users\\user\\AppData\\Local\\Temp\\ipykernel_8252\\1152688266.py:4: FutureWarning: The frame.append method is deprecated and will be removed from pandas in a future version. Use pandas.concat instead.\n",
      "  GyeonGiHap2 = GyeonGiHap2.append({'년월' :'202101-202106'  , '시구' : '{}'.format(City) , '시군구' : '{}'.format(SIGUNGU[i]) , '계약구분' : '일반용' , '고객호수(호)' : sum3[i] ,  '사용량(kWh)' : sum2[i]} , ignore_index=True) #년월 파일마다 수정하기\n",
      "C:\\Users\\user\\AppData\\Local\\Temp\\ipykernel_8252\\1152688266.py:4: FutureWarning: The frame.append method is deprecated and will be removed from pandas in a future version. Use pandas.concat instead.\n",
      "  GyeonGiHap2 = GyeonGiHap2.append({'년월' :'202101-202106'  , '시구' : '{}'.format(City) , '시군구' : '{}'.format(SIGUNGU[i]) , '계약구분' : '일반용' , '고객호수(호)' : sum3[i] ,  '사용량(kWh)' : sum2[i]} , ignore_index=True) #년월 파일마다 수정하기\n",
      "C:\\Users\\user\\AppData\\Local\\Temp\\ipykernel_8252\\1152688266.py:4: FutureWarning: The frame.append method is deprecated and will be removed from pandas in a future version. Use pandas.concat instead.\n",
      "  GyeonGiHap2 = GyeonGiHap2.append({'년월' :'202101-202106'  , '시구' : '{}'.format(City) , '시군구' : '{}'.format(SIGUNGU[i]) , '계약구분' : '일반용' , '고객호수(호)' : sum3[i] ,  '사용량(kWh)' : sum2[i]} , ignore_index=True) #년월 파일마다 수정하기\n",
      "C:\\Users\\user\\AppData\\Local\\Temp\\ipykernel_8252\\1152688266.py:4: FutureWarning: The frame.append method is deprecated and will be removed from pandas in a future version. Use pandas.concat instead.\n",
      "  GyeonGiHap2 = GyeonGiHap2.append({'년월' :'202101-202106'  , '시구' : '{}'.format(City) , '시군구' : '{}'.format(SIGUNGU[i]) , '계약구분' : '일반용' , '고객호수(호)' : sum3[i] ,  '사용량(kWh)' : sum2[i]} , ignore_index=True) #년월 파일마다 수정하기\n",
      "C:\\Users\\user\\AppData\\Local\\Temp\\ipykernel_8252\\1152688266.py:4: FutureWarning: The frame.append method is deprecated and will be removed from pandas in a future version. Use pandas.concat instead.\n",
      "  GyeonGiHap2 = GyeonGiHap2.append({'년월' :'202101-202106'  , '시구' : '{}'.format(City) , '시군구' : '{}'.format(SIGUNGU[i]) , '계약구분' : '일반용' , '고객호수(호)' : sum3[i] ,  '사용량(kWh)' : sum2[i]} , ignore_index=True) #년월 파일마다 수정하기\n",
      "C:\\Users\\user\\AppData\\Local\\Temp\\ipykernel_8252\\1152688266.py:4: FutureWarning: The frame.append method is deprecated and will be removed from pandas in a future version. Use pandas.concat instead.\n",
      "  GyeonGiHap2 = GyeonGiHap2.append({'년월' :'202101-202106'  , '시구' : '{}'.format(City) , '시군구' : '{}'.format(SIGUNGU[i]) , '계약구분' : '일반용' , '고객호수(호)' : sum3[i] ,  '사용량(kWh)' : sum2[i]} , ignore_index=True) #년월 파일마다 수정하기\n",
      "C:\\Users\\user\\AppData\\Local\\Temp\\ipykernel_8252\\1152688266.py:4: FutureWarning: The frame.append method is deprecated and will be removed from pandas in a future version. Use pandas.concat instead.\n",
      "  GyeonGiHap2 = GyeonGiHap2.append({'년월' :'202101-202106'  , '시구' : '{}'.format(City) , '시군구' : '{}'.format(SIGUNGU[i]) , '계약구분' : '일반용' , '고객호수(호)' : sum3[i] ,  '사용량(kWh)' : sum2[i]} , ignore_index=True) #년월 파일마다 수정하기\n",
      "C:\\Users\\user\\AppData\\Local\\Temp\\ipykernel_8252\\1152688266.py:4: FutureWarning: The frame.append method is deprecated and will be removed from pandas in a future version. Use pandas.concat instead.\n",
      "  GyeonGiHap2 = GyeonGiHap2.append({'년월' :'202101-202106'  , '시구' : '{}'.format(City) , '시군구' : '{}'.format(SIGUNGU[i]) , '계약구분' : '일반용' , '고객호수(호)' : sum3[i] ,  '사용량(kWh)' : sum2[i]} , ignore_index=True) #년월 파일마다 수정하기\n",
      "C:\\Users\\user\\AppData\\Local\\Temp\\ipykernel_8252\\1152688266.py:4: FutureWarning: The frame.append method is deprecated and will be removed from pandas in a future version. Use pandas.concat instead.\n",
      "  GyeonGiHap2 = GyeonGiHap2.append({'년월' :'202101-202106'  , '시구' : '{}'.format(City) , '시군구' : '{}'.format(SIGUNGU[i]) , '계약구분' : '일반용' , '고객호수(호)' : sum3[i] ,  '사용량(kWh)' : sum2[i]} , ignore_index=True) #년월 파일마다 수정하기\n"
     ]
    },
    {
     "data": {
      "text/plain": "                년월   시구  시군구 계약구분  고객호수(호)     사용량(kWh)\n0           202101  경기도  가평군  일반용  10,884   40,898,761 \n1           202102  경기도  가평군  일반용  10,851   37,858,450 \n2           202103  경기도  가평군  일반용  10,843   30,234,418 \n3           202104  경기도  가평군  일반용  10,872   26,049,435 \n4           202105  경기도  가평군  일반용  10,892   24,295,275 \n..             ...  ...  ...  ...      ...          ...\n212  202101-202106  경기도  파주시  일반용    29539    554191773\n213  202101-202106  경기도  평택시  일반용    40975    808042214\n214  202101-202106  경기도  포천시  일반용    19006    264960373\n215  202101-202106  경기도  하남시  일반용    15288    316793083\n216  202101-202106  경기도  화성시  일반용    47761   1211447283\n\n[217 rows x 6 columns]",
      "text/html": "<div>\n<style scoped>\n    .dataframe tbody tr th:only-of-type {\n        vertical-align: middle;\n    }\n\n    .dataframe tbody tr th {\n        vertical-align: top;\n    }\n\n    .dataframe thead th {\n        text-align: right;\n    }\n</style>\n<table border=\"1\" class=\"dataframe\">\n  <thead>\n    <tr style=\"text-align: right;\">\n      <th></th>\n      <th>년월</th>\n      <th>시구</th>\n      <th>시군구</th>\n      <th>계약구분</th>\n      <th>고객호수(호)</th>\n      <th>사용량(kWh)</th>\n    </tr>\n  </thead>\n  <tbody>\n    <tr>\n      <th>0</th>\n      <td>202101</td>\n      <td>경기도</td>\n      <td>가평군</td>\n      <td>일반용</td>\n      <td>10,884</td>\n      <td>40,898,761</td>\n    </tr>\n    <tr>\n      <th>1</th>\n      <td>202102</td>\n      <td>경기도</td>\n      <td>가평군</td>\n      <td>일반용</td>\n      <td>10,851</td>\n      <td>37,858,450</td>\n    </tr>\n    <tr>\n      <th>2</th>\n      <td>202103</td>\n      <td>경기도</td>\n      <td>가평군</td>\n      <td>일반용</td>\n      <td>10,843</td>\n      <td>30,234,418</td>\n    </tr>\n    <tr>\n      <th>3</th>\n      <td>202104</td>\n      <td>경기도</td>\n      <td>가평군</td>\n      <td>일반용</td>\n      <td>10,872</td>\n      <td>26,049,435</td>\n    </tr>\n    <tr>\n      <th>4</th>\n      <td>202105</td>\n      <td>경기도</td>\n      <td>가평군</td>\n      <td>일반용</td>\n      <td>10,892</td>\n      <td>24,295,275</td>\n    </tr>\n    <tr>\n      <th>...</th>\n      <td>...</td>\n      <td>...</td>\n      <td>...</td>\n      <td>...</td>\n      <td>...</td>\n      <td>...</td>\n    </tr>\n    <tr>\n      <th>212</th>\n      <td>202101-202106</td>\n      <td>경기도</td>\n      <td>파주시</td>\n      <td>일반용</td>\n      <td>29539</td>\n      <td>554191773</td>\n    </tr>\n    <tr>\n      <th>213</th>\n      <td>202101-202106</td>\n      <td>경기도</td>\n      <td>평택시</td>\n      <td>일반용</td>\n      <td>40975</td>\n      <td>808042214</td>\n    </tr>\n    <tr>\n      <th>214</th>\n      <td>202101-202106</td>\n      <td>경기도</td>\n      <td>포천시</td>\n      <td>일반용</td>\n      <td>19006</td>\n      <td>264960373</td>\n    </tr>\n    <tr>\n      <th>215</th>\n      <td>202101-202106</td>\n      <td>경기도</td>\n      <td>하남시</td>\n      <td>일반용</td>\n      <td>15288</td>\n      <td>316793083</td>\n    </tr>\n    <tr>\n      <th>216</th>\n      <td>202101-202106</td>\n      <td>경기도</td>\n      <td>화성시</td>\n      <td>일반용</td>\n      <td>47761</td>\n      <td>1211447283</td>\n    </tr>\n  </tbody>\n</table>\n<p>217 rows × 6 columns</p>\n</div>"
     },
     "execution_count": 25,
     "metadata": {},
     "output_type": "execute_result"
    }
   ],
   "source": [
    "GyeonGiHap2 = df_3.copy()\n",
    "GyeonGiHap2.reset_index(drop=True , inplace = True)\n",
    "for i in range(len(SIGUNGU)):\n",
    "    GyeonGiHap2 = GyeonGiHap2.append({'년월' :'202101-202106'  , '시구' : '{}'.format(City) , '시군구' : '{}'.format(SIGUNGU[i]) , '계약구분' : '일반용' , '고객호수(호)' : sum3[i] ,  '사용량(kWh)' : sum2[i]} , ignore_index=True) #년월 파일마다 수정하기\n",
    "GyeonGiHap2"
   ],
   "metadata": {
    "collapsed": false,
    "pycharm": {
     "name": "#%%\n"
    }
   }
  },
  {
   "cell_type": "markdown",
   "source": [
    "### 5. 날짜 체크!!!!!!!!!!!!!!!!!!!!!!!!!!!!!!!!!!!!!!!!!!!!!!!!!!!!"
   ],
   "metadata": {
    "collapsed": false,
    "pycharm": {
     "name": "#%% md\n"
    }
   }
  },
  {
   "cell_type": "code",
   "execution_count": 26,
   "outputs": [
    {
     "data": {
      "text/plain": "                년월   시구   시군구 계약구분 고객호수(호)    사용량(kWh)\n186  202101-202106  경기도   가평군  일반용   10877   184342272\n187  202101-202106  경기도   고양시  일반용   43326  1018097556\n188  202101-202106  경기도   과천시  일반용    2697   100180198\n189  202101-202106  경기도   광명시  일반용   10816   192084683\n190  202101-202106  경기도   광주시  일반용   28251   377615678\n191  202101-202106  경기도   구리시  일반용   10665   183877075\n192  202101-202106  경기도   군포시  일반용    9421   212555807\n193  202101-202106  경기도   김포시  일반용   25145   491510545\n194  202101-202106  경기도  남양주시  일반용   40292   561063901\n195  202101-202106  경기도  동두천시  일반용    6480   113277392\n196  202101-202106  경기도   부천시  일반용   37024   642534835\n197  202101-202106  경기도   성남시  일반용   34327  1327156176\n198  202101-202106  경기도   수원시  일반용   54821  1450584599\n199  202101-202106  경기도   시흥시  일반용   25788   443638317\n200  202101-202106  경기도   안산시  일반용   30415   563120083\n201  202101-202106  경기도   안성시  일반용   16329   305213675\n202  202101-202106  경기도   안양시  일반용   23390   700105065\n203  202101-202106  경기도   양주시  일반용   16024   272046029\n204  202101-202106  경기도   양평군  일반용   13446   155628122\n205  202101-202106  경기도   여주시  일반용   10716   178801684\n206  202101-202106  경기도   연천군  일반용    5202    83647839\n207  202101-202106  경기도   오산시  일반용   12086   211528369\n208  202101-202106  경기도   용인시  일반용   44215  1333771192\n209  202101-202106  경기도   의왕시  일반용    6114   179519746\n210  202101-202106  경기도  의정부시  일반용   22238   354961052\n211  202101-202106  경기도   이천시  일반용   18095   396296175\n212  202101-202106  경기도   파주시  일반용   29539   554191773\n213  202101-202106  경기도   평택시  일반용   40975   808042214\n214  202101-202106  경기도   포천시  일반용   19006   264960373\n215  202101-202106  경기도   하남시  일반용   15288   316793083\n216  202101-202106  경기도   화성시  일반용   47761  1211447283",
      "text/html": "<div>\n<style scoped>\n    .dataframe tbody tr th:only-of-type {\n        vertical-align: middle;\n    }\n\n    .dataframe tbody tr th {\n        vertical-align: top;\n    }\n\n    .dataframe thead th {\n        text-align: right;\n    }\n</style>\n<table border=\"1\" class=\"dataframe\">\n  <thead>\n    <tr style=\"text-align: right;\">\n      <th></th>\n      <th>년월</th>\n      <th>시구</th>\n      <th>시군구</th>\n      <th>계약구분</th>\n      <th>고객호수(호)</th>\n      <th>사용량(kWh)</th>\n    </tr>\n  </thead>\n  <tbody>\n    <tr>\n      <th>186</th>\n      <td>202101-202106</td>\n      <td>경기도</td>\n      <td>가평군</td>\n      <td>일반용</td>\n      <td>10877</td>\n      <td>184342272</td>\n    </tr>\n    <tr>\n      <th>187</th>\n      <td>202101-202106</td>\n      <td>경기도</td>\n      <td>고양시</td>\n      <td>일반용</td>\n      <td>43326</td>\n      <td>1018097556</td>\n    </tr>\n    <tr>\n      <th>188</th>\n      <td>202101-202106</td>\n      <td>경기도</td>\n      <td>과천시</td>\n      <td>일반용</td>\n      <td>2697</td>\n      <td>100180198</td>\n    </tr>\n    <tr>\n      <th>189</th>\n      <td>202101-202106</td>\n      <td>경기도</td>\n      <td>광명시</td>\n      <td>일반용</td>\n      <td>10816</td>\n      <td>192084683</td>\n    </tr>\n    <tr>\n      <th>190</th>\n      <td>202101-202106</td>\n      <td>경기도</td>\n      <td>광주시</td>\n      <td>일반용</td>\n      <td>28251</td>\n      <td>377615678</td>\n    </tr>\n    <tr>\n      <th>191</th>\n      <td>202101-202106</td>\n      <td>경기도</td>\n      <td>구리시</td>\n      <td>일반용</td>\n      <td>10665</td>\n      <td>183877075</td>\n    </tr>\n    <tr>\n      <th>192</th>\n      <td>202101-202106</td>\n      <td>경기도</td>\n      <td>군포시</td>\n      <td>일반용</td>\n      <td>9421</td>\n      <td>212555807</td>\n    </tr>\n    <tr>\n      <th>193</th>\n      <td>202101-202106</td>\n      <td>경기도</td>\n      <td>김포시</td>\n      <td>일반용</td>\n      <td>25145</td>\n      <td>491510545</td>\n    </tr>\n    <tr>\n      <th>194</th>\n      <td>202101-202106</td>\n      <td>경기도</td>\n      <td>남양주시</td>\n      <td>일반용</td>\n      <td>40292</td>\n      <td>561063901</td>\n    </tr>\n    <tr>\n      <th>195</th>\n      <td>202101-202106</td>\n      <td>경기도</td>\n      <td>동두천시</td>\n      <td>일반용</td>\n      <td>6480</td>\n      <td>113277392</td>\n    </tr>\n    <tr>\n      <th>196</th>\n      <td>202101-202106</td>\n      <td>경기도</td>\n      <td>부천시</td>\n      <td>일반용</td>\n      <td>37024</td>\n      <td>642534835</td>\n    </tr>\n    <tr>\n      <th>197</th>\n      <td>202101-202106</td>\n      <td>경기도</td>\n      <td>성남시</td>\n      <td>일반용</td>\n      <td>34327</td>\n      <td>1327156176</td>\n    </tr>\n    <tr>\n      <th>198</th>\n      <td>202101-202106</td>\n      <td>경기도</td>\n      <td>수원시</td>\n      <td>일반용</td>\n      <td>54821</td>\n      <td>1450584599</td>\n    </tr>\n    <tr>\n      <th>199</th>\n      <td>202101-202106</td>\n      <td>경기도</td>\n      <td>시흥시</td>\n      <td>일반용</td>\n      <td>25788</td>\n      <td>443638317</td>\n    </tr>\n    <tr>\n      <th>200</th>\n      <td>202101-202106</td>\n      <td>경기도</td>\n      <td>안산시</td>\n      <td>일반용</td>\n      <td>30415</td>\n      <td>563120083</td>\n    </tr>\n    <tr>\n      <th>201</th>\n      <td>202101-202106</td>\n      <td>경기도</td>\n      <td>안성시</td>\n      <td>일반용</td>\n      <td>16329</td>\n      <td>305213675</td>\n    </tr>\n    <tr>\n      <th>202</th>\n      <td>202101-202106</td>\n      <td>경기도</td>\n      <td>안양시</td>\n      <td>일반용</td>\n      <td>23390</td>\n      <td>700105065</td>\n    </tr>\n    <tr>\n      <th>203</th>\n      <td>202101-202106</td>\n      <td>경기도</td>\n      <td>양주시</td>\n      <td>일반용</td>\n      <td>16024</td>\n      <td>272046029</td>\n    </tr>\n    <tr>\n      <th>204</th>\n      <td>202101-202106</td>\n      <td>경기도</td>\n      <td>양평군</td>\n      <td>일반용</td>\n      <td>13446</td>\n      <td>155628122</td>\n    </tr>\n    <tr>\n      <th>205</th>\n      <td>202101-202106</td>\n      <td>경기도</td>\n      <td>여주시</td>\n      <td>일반용</td>\n      <td>10716</td>\n      <td>178801684</td>\n    </tr>\n    <tr>\n      <th>206</th>\n      <td>202101-202106</td>\n      <td>경기도</td>\n      <td>연천군</td>\n      <td>일반용</td>\n      <td>5202</td>\n      <td>83647839</td>\n    </tr>\n    <tr>\n      <th>207</th>\n      <td>202101-202106</td>\n      <td>경기도</td>\n      <td>오산시</td>\n      <td>일반용</td>\n      <td>12086</td>\n      <td>211528369</td>\n    </tr>\n    <tr>\n      <th>208</th>\n      <td>202101-202106</td>\n      <td>경기도</td>\n      <td>용인시</td>\n      <td>일반용</td>\n      <td>44215</td>\n      <td>1333771192</td>\n    </tr>\n    <tr>\n      <th>209</th>\n      <td>202101-202106</td>\n      <td>경기도</td>\n      <td>의왕시</td>\n      <td>일반용</td>\n      <td>6114</td>\n      <td>179519746</td>\n    </tr>\n    <tr>\n      <th>210</th>\n      <td>202101-202106</td>\n      <td>경기도</td>\n      <td>의정부시</td>\n      <td>일반용</td>\n      <td>22238</td>\n      <td>354961052</td>\n    </tr>\n    <tr>\n      <th>211</th>\n      <td>202101-202106</td>\n      <td>경기도</td>\n      <td>이천시</td>\n      <td>일반용</td>\n      <td>18095</td>\n      <td>396296175</td>\n    </tr>\n    <tr>\n      <th>212</th>\n      <td>202101-202106</td>\n      <td>경기도</td>\n      <td>파주시</td>\n      <td>일반용</td>\n      <td>29539</td>\n      <td>554191773</td>\n    </tr>\n    <tr>\n      <th>213</th>\n      <td>202101-202106</td>\n      <td>경기도</td>\n      <td>평택시</td>\n      <td>일반용</td>\n      <td>40975</td>\n      <td>808042214</td>\n    </tr>\n    <tr>\n      <th>214</th>\n      <td>202101-202106</td>\n      <td>경기도</td>\n      <td>포천시</td>\n      <td>일반용</td>\n      <td>19006</td>\n      <td>264960373</td>\n    </tr>\n    <tr>\n      <th>215</th>\n      <td>202101-202106</td>\n      <td>경기도</td>\n      <td>하남시</td>\n      <td>일반용</td>\n      <td>15288</td>\n      <td>316793083</td>\n    </tr>\n    <tr>\n      <th>216</th>\n      <td>202101-202106</td>\n      <td>경기도</td>\n      <td>화성시</td>\n      <td>일반용</td>\n      <td>47761</td>\n      <td>1211447283</td>\n    </tr>\n  </tbody>\n</table>\n</div>"
     },
     "execution_count": 26,
     "metadata": {},
     "output_type": "execute_result"
    }
   ],
   "source": [
    "GyeonGiHap2 = GyeonGiHap2.loc[GyeonGiHap2['년월'] == '202101-202106']\n",
    "GyeonGiHap2"
   ],
   "metadata": {
    "collapsed": false,
    "pycharm": {
     "name": "#%%\n"
    }
   }
  },
  {
   "cell_type": "code",
   "execution_count": 27,
   "outputs": [
    {
     "data": {
      "text/plain": "                년월   시구  시군구 계약구분 고객호수(호)     사용량(kWh)\n186  202101-202106  경기도  가평군  일반용   10877    184342272\n186  202101-202106  경기도  가평군   합계   11681    370223932\n187  202101-202106  경기도  고양시  일반용   43326   1018097556\n187  202101-202106  경기도  고양시   합계   40733   2388859569\n188  202101-202106  경기도  과천시  일반용    2697    100180198\n..             ...  ...  ...  ...     ...          ...\n214  202101-202106  경기도  포천시  일반용   19006    264960373\n215  202101-202106  경기도  하남시   합계    9555    881857080\n215  202101-202106  경기도  하남시  일반용   15288    316793083\n216  202101-202106  경기도  화성시  일반용   47761   1211447283\n216  202101-202106  경기도  화성시   합계   46985  10153093275\n\n[62 rows x 6 columns]",
      "text/html": "<div>\n<style scoped>\n    .dataframe tbody tr th:only-of-type {\n        vertical-align: middle;\n    }\n\n    .dataframe tbody tr th {\n        vertical-align: top;\n    }\n\n    .dataframe thead th {\n        text-align: right;\n    }\n</style>\n<table border=\"1\" class=\"dataframe\">\n  <thead>\n    <tr style=\"text-align: right;\">\n      <th></th>\n      <th>년월</th>\n      <th>시구</th>\n      <th>시군구</th>\n      <th>계약구분</th>\n      <th>고객호수(호)</th>\n      <th>사용량(kWh)</th>\n    </tr>\n  </thead>\n  <tbody>\n    <tr>\n      <th>186</th>\n      <td>202101-202106</td>\n      <td>경기도</td>\n      <td>가평군</td>\n      <td>일반용</td>\n      <td>10877</td>\n      <td>184342272</td>\n    </tr>\n    <tr>\n      <th>186</th>\n      <td>202101-202106</td>\n      <td>경기도</td>\n      <td>가평군</td>\n      <td>합계</td>\n      <td>11681</td>\n      <td>370223932</td>\n    </tr>\n    <tr>\n      <th>187</th>\n      <td>202101-202106</td>\n      <td>경기도</td>\n      <td>고양시</td>\n      <td>일반용</td>\n      <td>43326</td>\n      <td>1018097556</td>\n    </tr>\n    <tr>\n      <th>187</th>\n      <td>202101-202106</td>\n      <td>경기도</td>\n      <td>고양시</td>\n      <td>합계</td>\n      <td>40733</td>\n      <td>2388859569</td>\n    </tr>\n    <tr>\n      <th>188</th>\n      <td>202101-202106</td>\n      <td>경기도</td>\n      <td>과천시</td>\n      <td>일반용</td>\n      <td>2697</td>\n      <td>100180198</td>\n    </tr>\n    <tr>\n      <th>...</th>\n      <td>...</td>\n      <td>...</td>\n      <td>...</td>\n      <td>...</td>\n      <td>...</td>\n      <td>...</td>\n    </tr>\n    <tr>\n      <th>214</th>\n      <td>202101-202106</td>\n      <td>경기도</td>\n      <td>포천시</td>\n      <td>일반용</td>\n      <td>19006</td>\n      <td>264960373</td>\n    </tr>\n    <tr>\n      <th>215</th>\n      <td>202101-202106</td>\n      <td>경기도</td>\n      <td>하남시</td>\n      <td>합계</td>\n      <td>9555</td>\n      <td>881857080</td>\n    </tr>\n    <tr>\n      <th>215</th>\n      <td>202101-202106</td>\n      <td>경기도</td>\n      <td>하남시</td>\n      <td>일반용</td>\n      <td>15288</td>\n      <td>316793083</td>\n    </tr>\n    <tr>\n      <th>216</th>\n      <td>202101-202106</td>\n      <td>경기도</td>\n      <td>화성시</td>\n      <td>일반용</td>\n      <td>47761</td>\n      <td>1211447283</td>\n    </tr>\n    <tr>\n      <th>216</th>\n      <td>202101-202106</td>\n      <td>경기도</td>\n      <td>화성시</td>\n      <td>합계</td>\n      <td>46985</td>\n      <td>10153093275</td>\n    </tr>\n  </tbody>\n</table>\n<p>62 rows × 6 columns</p>\n</div>"
     },
     "execution_count": 27,
     "metadata": {},
     "output_type": "execute_result"
    }
   ],
   "source": [
    "Final = pd.concat([GyeonGiHap2 , Hap])\n",
    "Final = Final.sort_values('시군구')\n",
    "Final"
   ],
   "metadata": {
    "collapsed": false,
    "pycharm": {
     "name": "#%%\n"
    }
   }
  },
  {
   "cell_type": "code",
   "execution_count": 28,
   "outputs": [
    {
     "data": {
      "text/plain": "[184342272,\n 1018097556,\n 100180198,\n 192084683,\n 377615678,\n 183877075,\n 212555807,\n 491510545,\n 561063901,\n 113277392,\n 642534835,\n 1327156176,\n 1450584599,\n 443638317,\n 563120083,\n 305213675,\n 700105065,\n 272046029,\n 155628122,\n 178801684,\n 83647839,\n 211528369,\n 1333771192,\n 179519746,\n 354961052,\n 396296175,\n 554191773,\n 808042214,\n 264960373,\n 316793083,\n 1211447283]"
     },
     "execution_count": 28,
     "metadata": {},
     "output_type": "execute_result"
    }
   ],
   "source": [
    "# Final['일반용 전기의 비율'] = (Final['사용량(kWh)'].loc[Final['계약구분'] == '일반용']) // (Final['사용량(kWh)'].loc[Final['계약구분'] == '합계'])\n",
    "# Final\n",
    "ex = (Final['사용량(kWh)'].loc[Final['계약구분'] == '일반용']).tolist()\n",
    "\n",
    "\n",
    "ex\n"
   ],
   "metadata": {
    "collapsed": false,
    "pycharm": {
     "name": "#%%\n"
    }
   }
  },
  {
   "cell_type": "code",
   "execution_count": 29,
   "outputs": [
    {
     "data": {
      "text/plain": "[370223932,\n 2388859569,\n 188847795,\n 535942451,\n 1393796713,\n 398796723,\n 743969819,\n 2171765596,\n 1716723530,\n 333474405,\n 2079448606,\n 2579368016,\n 2853415228,\n 2415709447,\n 4026578711,\n 1718196140,\n 1381539712,\n 1177681448,\n 534460071,\n 739925422,\n 302924186,\n 703206910,\n 5266347384,\n 397355407,\n 866650827,\n 4004629439,\n 4533135857,\n 7011884557,\n 1458309389,\n 881857080,\n 10153093275]"
     },
     "execution_count": 29,
     "metadata": {},
     "output_type": "execute_result"
    }
   ],
   "source": [
    "ex_2 =(Final['사용량(kWh)'].loc[Final['계약구분'] == '합계']).tolist()\n",
    "ex_2"
   ],
   "metadata": {
    "collapsed": false,
    "pycharm": {
     "name": "#%%\n"
    }
   }
  },
  {
   "cell_type": "code",
   "execution_count": 30,
   "outputs": [
    {
     "name": "stdout",
     "output_type": "stream",
     "text": [
      "[49.79, 42.62, 53.05, 35.84, 27.09, 46.11, 28.57, 22.63, 32.68, 33.97, 30.9, 51.45, 50.84, 18.36, 13.99, 17.76, 50.68, 23.1, 29.12, 24.16, 27.61, 30.08, 25.33, 45.18, 40.96, 9.9, 12.23, 11.52, 18.17, 35.92, 11.93]\n"
     ]
    }
   ],
   "source": [
    "Rate = []\n",
    "ilban = []\n",
    "rae = 0\n",
    "for i in range(len(ex)):\n",
    "    rae = round(ex[i] / ex_2[i] *100 ,2)\n",
    "    Rate.append(rae)\n",
    "print(Rate)"
   ],
   "metadata": {
    "collapsed": false,
    "pycharm": {
     "name": "#%%\n"
    }
   }
  },
  {
   "cell_type": "code",
   "execution_count": 31,
   "outputs": [
    {
     "data": {
      "text/plain": "0    50\n1    43\n2    53\n3    36\n4    27\n5    46\n6    29\n7    23\n8    33\n9    34\n10   31\n11   51\n12   51\n13   18\n14   14\n15   18\n16   51\n17   23\n18   29\n19   24\n20   28\n21   30\n22   25\n23   45\n24   41\n25   10\n26   12\n27   12\n28   18\n29   36\n30   12\ndtype: float64"
     },
     "execution_count": 31,
     "metadata": {},
     "output_type": "execute_result"
    }
   ],
   "source": [
    "Rate3 = pd.Series(Rate)\n",
    "Rate3\n",
    "\n",
    "# Final = pd.concat([Final , Rate3])\n",
    "# Final"
   ],
   "metadata": {
    "collapsed": false,
    "pycharm": {
     "name": "#%%\n"
    }
   }
  },
  {
   "cell_type": "code",
   "execution_count": 32,
   "outputs": [
    {
     "data": {
      "text/plain": "     시군구 계약구분  비율\n0    가평군  일반용  50\n1    고양시  일반용  43\n2    과천시  일반용  53\n3    광명시  일반용  36\n4    광주시  일반용  27\n5    구리시  일반용  46\n6    군포시  일반용  29\n7    김포시  일반용  23\n8   남양주시  일반용  33\n9   동두천시  일반용  34\n10   부천시  일반용  31\n11   성남시  일반용  51\n12   수원시  일반용  51\n13   시흥시  일반용  18\n14   안산시  일반용  14\n15   안성시  일반용  18\n16   안양시  일반용  51\n17   양주시  일반용  23\n18   양평군  일반용  29\n19   여주시  일반용  24\n20   연천군  일반용  28\n21   오산시  일반용  30\n22   용인시  일반용  25\n23   의왕시  일반용  45\n24  의정부시  일반용  41\n25   이천시  일반용  10\n26   파주시  일반용  12\n27   평택시  일반용  12\n28   포천시  일반용  18\n29   하남시  일반용  36\n30   화성시  일반용  12",
      "text/html": "<div>\n<style scoped>\n    .dataframe tbody tr th:only-of-type {\n        vertical-align: middle;\n    }\n\n    .dataframe tbody tr th {\n        vertical-align: top;\n    }\n\n    .dataframe thead th {\n        text-align: right;\n    }\n</style>\n<table border=\"1\" class=\"dataframe\">\n  <thead>\n    <tr style=\"text-align: right;\">\n      <th></th>\n      <th>시군구</th>\n      <th>계약구분</th>\n      <th>비율</th>\n    </tr>\n  </thead>\n  <tbody>\n    <tr>\n      <th>0</th>\n      <td>가평군</td>\n      <td>일반용</td>\n      <td>50</td>\n    </tr>\n    <tr>\n      <th>1</th>\n      <td>고양시</td>\n      <td>일반용</td>\n      <td>43</td>\n    </tr>\n    <tr>\n      <th>2</th>\n      <td>과천시</td>\n      <td>일반용</td>\n      <td>53</td>\n    </tr>\n    <tr>\n      <th>3</th>\n      <td>광명시</td>\n      <td>일반용</td>\n      <td>36</td>\n    </tr>\n    <tr>\n      <th>4</th>\n      <td>광주시</td>\n      <td>일반용</td>\n      <td>27</td>\n    </tr>\n    <tr>\n      <th>5</th>\n      <td>구리시</td>\n      <td>일반용</td>\n      <td>46</td>\n    </tr>\n    <tr>\n      <th>6</th>\n      <td>군포시</td>\n      <td>일반용</td>\n      <td>29</td>\n    </tr>\n    <tr>\n      <th>7</th>\n      <td>김포시</td>\n      <td>일반용</td>\n      <td>23</td>\n    </tr>\n    <tr>\n      <th>8</th>\n      <td>남양주시</td>\n      <td>일반용</td>\n      <td>33</td>\n    </tr>\n    <tr>\n      <th>9</th>\n      <td>동두천시</td>\n      <td>일반용</td>\n      <td>34</td>\n    </tr>\n    <tr>\n      <th>10</th>\n      <td>부천시</td>\n      <td>일반용</td>\n      <td>31</td>\n    </tr>\n    <tr>\n      <th>11</th>\n      <td>성남시</td>\n      <td>일반용</td>\n      <td>51</td>\n    </tr>\n    <tr>\n      <th>12</th>\n      <td>수원시</td>\n      <td>일반용</td>\n      <td>51</td>\n    </tr>\n    <tr>\n      <th>13</th>\n      <td>시흥시</td>\n      <td>일반용</td>\n      <td>18</td>\n    </tr>\n    <tr>\n      <th>14</th>\n      <td>안산시</td>\n      <td>일반용</td>\n      <td>14</td>\n    </tr>\n    <tr>\n      <th>15</th>\n      <td>안성시</td>\n      <td>일반용</td>\n      <td>18</td>\n    </tr>\n    <tr>\n      <th>16</th>\n      <td>안양시</td>\n      <td>일반용</td>\n      <td>51</td>\n    </tr>\n    <tr>\n      <th>17</th>\n      <td>양주시</td>\n      <td>일반용</td>\n      <td>23</td>\n    </tr>\n    <tr>\n      <th>18</th>\n      <td>양평군</td>\n      <td>일반용</td>\n      <td>29</td>\n    </tr>\n    <tr>\n      <th>19</th>\n      <td>여주시</td>\n      <td>일반용</td>\n      <td>24</td>\n    </tr>\n    <tr>\n      <th>20</th>\n      <td>연천군</td>\n      <td>일반용</td>\n      <td>28</td>\n    </tr>\n    <tr>\n      <th>21</th>\n      <td>오산시</td>\n      <td>일반용</td>\n      <td>30</td>\n    </tr>\n    <tr>\n      <th>22</th>\n      <td>용인시</td>\n      <td>일반용</td>\n      <td>25</td>\n    </tr>\n    <tr>\n      <th>23</th>\n      <td>의왕시</td>\n      <td>일반용</td>\n      <td>45</td>\n    </tr>\n    <tr>\n      <th>24</th>\n      <td>의정부시</td>\n      <td>일반용</td>\n      <td>41</td>\n    </tr>\n    <tr>\n      <th>25</th>\n      <td>이천시</td>\n      <td>일반용</td>\n      <td>10</td>\n    </tr>\n    <tr>\n      <th>26</th>\n      <td>파주시</td>\n      <td>일반용</td>\n      <td>12</td>\n    </tr>\n    <tr>\n      <th>27</th>\n      <td>평택시</td>\n      <td>일반용</td>\n      <td>12</td>\n    </tr>\n    <tr>\n      <th>28</th>\n      <td>포천시</td>\n      <td>일반용</td>\n      <td>18</td>\n    </tr>\n    <tr>\n      <th>29</th>\n      <td>하남시</td>\n      <td>일반용</td>\n      <td>36</td>\n    </tr>\n    <tr>\n      <th>30</th>\n      <td>화성시</td>\n      <td>일반용</td>\n      <td>12</td>\n    </tr>\n  </tbody>\n</table>\n</div>"
     },
     "execution_count": 32,
     "metadata": {},
     "output_type": "execute_result"
    }
   ],
   "source": [
    "for j in range(len(Rate)):\n",
    "    ilban.append('일반용')\n",
    "#print(Rate)\n",
    "\n",
    "Rate2 = pd.DataFrame()\n",
    "Rate2['시군구'] = pd.DataFrame(SIGUNGU)\n",
    "Rate2['계약구분'] = pd.DataFrame(ilban)\n",
    "Rate2['비율'] = pd.DataFrame(Rate)\n",
    "Rate2\n",
    "#print(Rate2.dtypes)"
   ],
   "metadata": {
    "collapsed": false,
    "pycharm": {
     "name": "#%%\n"
    }
   }
  },
  {
   "cell_type": "code",
   "execution_count": 33,
   "outputs": [
    {
     "data": {
      "text/plain": "               년월   시구  시군구 계약구분 고객호수(호)     사용량(kWh)  비율\n0   202101-202106  경기도  가평군  일반용   10877    184342272  50\n1   202101-202106  경기도  가평군   합계   11681    370223932 NaN\n2   202101-202106  경기도  고양시  일반용   43326   1018097556  43\n3   202101-202106  경기도  고양시   합계   40733   2388859569 NaN\n4   202101-202106  경기도  과천시  일반용    2697    100180198  53\n..            ...  ...  ...  ...     ...          ...  ..\n56  202101-202106  경기도  포천시   합계   21127   1458309389 NaN\n59  202101-202106  경기도  하남시  일반용   15288    316793083  36\n58  202101-202106  경기도  하남시   합계    9555    881857080 NaN\n60  202101-202106  경기도  화성시  일반용   47761   1211447283  12\n61  202101-202106  경기도  화성시   합계   46985  10153093275 NaN\n\n[62 rows x 7 columns]",
      "text/html": "<div>\n<style scoped>\n    .dataframe tbody tr th:only-of-type {\n        vertical-align: middle;\n    }\n\n    .dataframe tbody tr th {\n        vertical-align: top;\n    }\n\n    .dataframe thead th {\n        text-align: right;\n    }\n</style>\n<table border=\"1\" class=\"dataframe\">\n  <thead>\n    <tr style=\"text-align: right;\">\n      <th></th>\n      <th>년월</th>\n      <th>시구</th>\n      <th>시군구</th>\n      <th>계약구분</th>\n      <th>고객호수(호)</th>\n      <th>사용량(kWh)</th>\n      <th>비율</th>\n    </tr>\n  </thead>\n  <tbody>\n    <tr>\n      <th>0</th>\n      <td>202101-202106</td>\n      <td>경기도</td>\n      <td>가평군</td>\n      <td>일반용</td>\n      <td>10877</td>\n      <td>184342272</td>\n      <td>50</td>\n    </tr>\n    <tr>\n      <th>1</th>\n      <td>202101-202106</td>\n      <td>경기도</td>\n      <td>가평군</td>\n      <td>합계</td>\n      <td>11681</td>\n      <td>370223932</td>\n      <td>NaN</td>\n    </tr>\n    <tr>\n      <th>2</th>\n      <td>202101-202106</td>\n      <td>경기도</td>\n      <td>고양시</td>\n      <td>일반용</td>\n      <td>43326</td>\n      <td>1018097556</td>\n      <td>43</td>\n    </tr>\n    <tr>\n      <th>3</th>\n      <td>202101-202106</td>\n      <td>경기도</td>\n      <td>고양시</td>\n      <td>합계</td>\n      <td>40733</td>\n      <td>2388859569</td>\n      <td>NaN</td>\n    </tr>\n    <tr>\n      <th>4</th>\n      <td>202101-202106</td>\n      <td>경기도</td>\n      <td>과천시</td>\n      <td>일반용</td>\n      <td>2697</td>\n      <td>100180198</td>\n      <td>53</td>\n    </tr>\n    <tr>\n      <th>...</th>\n      <td>...</td>\n      <td>...</td>\n      <td>...</td>\n      <td>...</td>\n      <td>...</td>\n      <td>...</td>\n      <td>...</td>\n    </tr>\n    <tr>\n      <th>56</th>\n      <td>202101-202106</td>\n      <td>경기도</td>\n      <td>포천시</td>\n      <td>합계</td>\n      <td>21127</td>\n      <td>1458309389</td>\n      <td>NaN</td>\n    </tr>\n    <tr>\n      <th>59</th>\n      <td>202101-202106</td>\n      <td>경기도</td>\n      <td>하남시</td>\n      <td>일반용</td>\n      <td>15288</td>\n      <td>316793083</td>\n      <td>36</td>\n    </tr>\n    <tr>\n      <th>58</th>\n      <td>202101-202106</td>\n      <td>경기도</td>\n      <td>하남시</td>\n      <td>합계</td>\n      <td>9555</td>\n      <td>881857080</td>\n      <td>NaN</td>\n    </tr>\n    <tr>\n      <th>60</th>\n      <td>202101-202106</td>\n      <td>경기도</td>\n      <td>화성시</td>\n      <td>일반용</td>\n      <td>47761</td>\n      <td>1211447283</td>\n      <td>12</td>\n    </tr>\n    <tr>\n      <th>61</th>\n      <td>202101-202106</td>\n      <td>경기도</td>\n      <td>화성시</td>\n      <td>합계</td>\n      <td>46985</td>\n      <td>10153093275</td>\n      <td>NaN</td>\n    </tr>\n  </tbody>\n</table>\n<p>62 rows × 7 columns</p>\n</div>"
     },
     "execution_count": 33,
     "metadata": {},
     "output_type": "execute_result"
    }
   ],
   "source": [
    "Final = pd.merge(Final , Rate2, on=['시군구', '계약구분'] , how='left')\n",
    "\n",
    "#Final.drop(['비율_y]' , axis = 1 , inplace = True)\n",
    "#Final.rename(columns={'비율_y':'전체 계약종별 전력사용량 대비 일반용 사용량 비율'})\n",
    "Final = Final.sort_values(['시군구' , '계약구분'])\n",
    "Final"
   ],
   "metadata": {
    "collapsed": false,
    "pycharm": {
     "name": "#%%\n"
    }
   }
  },
  {
   "cell_type": "code",
   "execution_count": 34,
   "outputs": [],
   "source": [
    "# Final['일반용 전기의 비율'] = Final.append(Rate)\n",
    "# Final"
   ],
   "metadata": {
    "collapsed": false,
    "pycharm": {
     "name": "#%%\n"
    }
   }
  },
  {
   "cell_type": "markdown",
   "source": [
    "### 6. 날짜 체크!!!!!!!!!!!!!!!!!!!!1"
   ],
   "metadata": {
    "collapsed": false,
    "pycharm": {
     "name": "#%% md\n"
    }
   }
  },
  {
   "cell_type": "code",
   "execution_count": 35,
   "outputs": [],
   "source": [
    "Final.to_csv(\"{}_일반용_전력사용량_2101-06.csv\".format(City) , mode = 'w' , encoding= 'cp949' , index =False) #파일명 수정"
   ],
   "metadata": {
    "collapsed": false,
    "pycharm": {
     "name": "#%%\n"
    }
   }
  },
  {
   "cell_type": "code",
   "execution_count": 35,
   "outputs": [],
   "source": [],
   "metadata": {
    "collapsed": false,
    "pycharm": {
     "name": "#%%\n"
    }
   }
  },
  {
   "cell_type": "code",
   "execution_count": 36,
   "outputs": [],
   "source": [
    "# Sigu = list(set(df_3['시군구'].tolist()))\n",
    "#\n",
    "# Sigu.sort()\n",
    "#\n",
    "# Sigu"
   ],
   "metadata": {
    "collapsed": false,
    "pycharm": {
     "name": "#%%\n"
    }
   }
  },
  {
   "cell_type": "code",
   "execution_count": 37,
   "outputs": [],
   "source": [
    "# YearMonth = list(set(df_3['년월'].tolist()))\n",
    "#\n",
    "# YearMonth.sort()\n",
    "# YearMonth"
   ],
   "metadata": {
    "collapsed": false,
    "pycharm": {
     "name": "#%%\n"
    }
   }
  },
  {
   "cell_type": "code",
   "execution_count": 38,
   "outputs": [],
   "source": [
    "# Gayeak = list(set(df_3['계약구분'].tolist()))\n",
    "#\n",
    "# Gayeak.sort()\n",
    "# Gayeak"
   ],
   "metadata": {
    "collapsed": false,
    "pycharm": {
     "name": "#%%\n"
    }
   }
  },
  {
   "cell_type": "code",
   "execution_count": 39,
   "outputs": [],
   "source": [
    "# SEOUL = df_3.loc[(df_3['계약구분'] =='일반용')]\n",
    "# SEOUL.drop(['고객호수(호)' ,'전기요금(원)' , '평균판매단가(원/kWh)'] , axis = 1 , inplace = True)\n",
    "# #SEOUL.dtypes(['사용량(kWh)'])\n",
    "# SEOUL"
   ],
   "metadata": {
    "collapsed": false,
    "pycharm": {
     "name": "#%%\n"
    }
   }
  },
  {
   "cell_type": "code",
   "execution_count": 40,
   "outputs": [],
   "source": [
    "#SEOUL.to_csv(\"서울특별시_일반용_전력사용량.csv\" , mode = 'w' , encoding= 'cp949')"
   ],
   "metadata": {
    "collapsed": false,
    "pycharm": {
     "name": "#%%\n"
    }
   }
  },
  {
   "cell_type": "code",
   "execution_count": 41,
   "outputs": [],
   "source": [
    "# print(SEOUL.dtypes)\n",
    "# SEOUL = SEOUL.astype({'사용량(kWh)' : 'float'})"
   ],
   "metadata": {
    "collapsed": false,
    "pycharm": {
     "name": "#%%\n"
    }
   }
  },
  {
   "cell_type": "code",
   "execution_count": 42,
   "outputs": [],
   "source": [
    "# SEOUL"
   ],
   "metadata": {
    "collapsed": false,
    "pycharm": {
     "name": "#%%\n"
    }
   }
  },
  {
   "cell_type": "code",
   "execution_count": 43,
   "outputs": [],
   "source": [
    "# a = SEOUL['사용량(kWh)'].tolist()\n",
    "# int_list = map(int, a)\n",
    "# b=0\n",
    "# for i in int_list:\n",
    "#     b+=i\n",
    "#\n",
    "# print(b)"
   ],
   "metadata": {
    "collapsed": false,
    "pycharm": {
     "name": "#%%\n"
    }
   }
  },
  {
   "cell_type": "code",
   "execution_count": 43,
   "outputs": [],
   "source": [],
   "metadata": {
    "collapsed": false,
    "pycharm": {
     "name": "#%%\n"
    }
   }
  },
  {
   "cell_type": "code",
   "execution_count": 43,
   "outputs": [],
   "source": [],
   "metadata": {
    "collapsed": false,
    "pycharm": {
     "name": "#%%\n"
    }
   }
  },
  {
   "cell_type": "code",
   "execution_count": 43,
   "outputs": [],
   "source": [],
   "metadata": {
    "collapsed": false,
    "pycharm": {
     "name": "#%%\n"
    }
   }
  },
  {
   "cell_type": "code",
   "execution_count": 43,
   "outputs": [],
   "source": [],
   "metadata": {
    "collapsed": false,
    "pycharm": {
     "name": "#%%\n"
    }
   }
  },
  {
   "cell_type": "code",
   "execution_count": 43,
   "outputs": [],
   "source": [],
   "metadata": {
    "collapsed": false,
    "pycharm": {
     "name": "#%%\n"
    }
   }
  },
  {
   "cell_type": "code",
   "execution_count": 43,
   "outputs": [],
   "source": [],
   "metadata": {
    "collapsed": false,
    "pycharm": {
     "name": "#%%\n"
    }
   }
  },
  {
   "cell_type": "code",
   "execution_count": 43,
   "outputs": [],
   "source": [],
   "metadata": {
    "collapsed": false,
    "pycharm": {
     "name": "#%%\n"
    }
   }
  }
 ],
 "metadata": {
  "kernelspec": {
   "display_name": "Python 3",
   "language": "python",
   "name": "python3"
  },
  "language_info": {
   "codemirror_mode": {
    "name": "ipython",
    "version": 2
   },
   "file_extension": ".py",
   "mimetype": "text/x-python",
   "name": "python",
   "nbconvert_exporter": "python",
   "pygments_lexer": "ipython2",
   "version": "2.7.6"
  }
 },
 "nbformat": 4,
 "nbformat_minor": 0
}