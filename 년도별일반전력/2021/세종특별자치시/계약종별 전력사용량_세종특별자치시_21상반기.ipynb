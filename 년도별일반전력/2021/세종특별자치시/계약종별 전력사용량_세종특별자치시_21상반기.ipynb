{
 "cells": [
  {
   "cell_type": "markdown",
   "source": [],
   "metadata": {
    "collapsed": false,
    "pycharm": {
     "name": "#%% md\n"
    }
   }
  },
  {
   "cell_type": "code",
   "execution_count": 1,
   "outputs": [],
   "source": [
    "import pandas as pd\n",
    "import re\n",
    "\n",
    "pd.options.display.float_format = '{:.0f}'.format"
   ],
   "metadata": {
    "collapsed": false,
    "pycharm": {
     "name": "#%%\n"
    }
   }
  },
  {
   "cell_type": "markdown",
   "source": [
    "### 1. 꼭 read_csv 21상반기, 19하반기와 같이 맞추어 주세요!!! 또한 지역(전라북도, 남도) 맞추기!!!!!"
   ],
   "metadata": {
    "collapsed": false,
    "pycharm": {
     "name": "#%% md\n"
    }
   }
  },
  {
   "cell_type": "code",
   "execution_count": 2,
   "outputs": [
    {
     "data": {
      "text/plain": "         계약종별 전력사용량 월별( 20220804 현재 ) Unnamed: 1     Unnamed: 2 Unnamed: 3  \\\n0   시도 : 세종특별자치시, 시군구 : 전체(시 / 군 / 구)        NaN            NaN        NaN   \n1         기간 : 2021년 01 월 ~ 2021년 06월        NaN            NaN        NaN   \n2                                  년월         시구            시군구       계약구분   \n3                              202101    세종특별자치시  전체(시 / 군 / 구)        주택용   \n4                              202101    세종특별자치시  전체(시 / 군 / 구)        일반용   \n..                                ...        ...            ...        ...   \n91                             202106    세종특별자치시            세종시        산업용   \n92                             202106    세종특별자치시            세종시        심 야   \n93                             202106    세종특별자치시            세종시        일반용   \n94                             202106    세종특별자치시            세종시        주택용   \n95                             202106    세종특별자치시            세종시         합계   \n\n   Unnamed: 4    Unnamed: 5       Unnamed: 6     Unnamed: 7  \n0         NaN           NaN              NaN            NaN  \n1         NaN           NaN              NaN            NaN  \n2     고객호수(호)      사용량(kWh)          전기요금(원)  평균판매단가(원/kWh)  \n3     53,987    53,206,094    6,115,212,297          114.9   \n4     14,094    74,545,029    9,803,260,075          131.5   \n..        ...           ...              ...            ...  \n91     1,662   165,891,271   19,225,737,565          115.9   \n92     7,044     2,794,306      151,485,822           54.2   \n93    14,382    62,440,905    8,602,281,653          137.8   \n94    54,175    46,905,047    4,781,984,719            102   \n95   101,726   292,890,410   33,955,035,703          115.9   \n\n[96 rows x 8 columns]",
      "text/html": "<div>\n<style scoped>\n    .dataframe tbody tr th:only-of-type {\n        vertical-align: middle;\n    }\n\n    .dataframe tbody tr th {\n        vertical-align: top;\n    }\n\n    .dataframe thead th {\n        text-align: right;\n    }\n</style>\n<table border=\"1\" class=\"dataframe\">\n  <thead>\n    <tr style=\"text-align: right;\">\n      <th></th>\n      <th>계약종별 전력사용량 월별( 20220804 현재 )</th>\n      <th>Unnamed: 1</th>\n      <th>Unnamed: 2</th>\n      <th>Unnamed: 3</th>\n      <th>Unnamed: 4</th>\n      <th>Unnamed: 5</th>\n      <th>Unnamed: 6</th>\n      <th>Unnamed: 7</th>\n    </tr>\n  </thead>\n  <tbody>\n    <tr>\n      <th>0</th>\n      <td>시도 : 세종특별자치시, 시군구 : 전체(시 / 군 / 구)</td>\n      <td>NaN</td>\n      <td>NaN</td>\n      <td>NaN</td>\n      <td>NaN</td>\n      <td>NaN</td>\n      <td>NaN</td>\n      <td>NaN</td>\n    </tr>\n    <tr>\n      <th>1</th>\n      <td>기간 : 2021년 01 월 ~ 2021년 06월</td>\n      <td>NaN</td>\n      <td>NaN</td>\n      <td>NaN</td>\n      <td>NaN</td>\n      <td>NaN</td>\n      <td>NaN</td>\n      <td>NaN</td>\n    </tr>\n    <tr>\n      <th>2</th>\n      <td>년월</td>\n      <td>시구</td>\n      <td>시군구</td>\n      <td>계약구분</td>\n      <td>고객호수(호)</td>\n      <td>사용량(kWh)</td>\n      <td>전기요금(원)</td>\n      <td>평균판매단가(원/kWh)</td>\n    </tr>\n    <tr>\n      <th>3</th>\n      <td>202101</td>\n      <td>세종특별자치시</td>\n      <td>전체(시 / 군 / 구)</td>\n      <td>주택용</td>\n      <td>53,987</td>\n      <td>53,206,094</td>\n      <td>6,115,212,297</td>\n      <td>114.9</td>\n    </tr>\n    <tr>\n      <th>4</th>\n      <td>202101</td>\n      <td>세종특별자치시</td>\n      <td>전체(시 / 군 / 구)</td>\n      <td>일반용</td>\n      <td>14,094</td>\n      <td>74,545,029</td>\n      <td>9,803,260,075</td>\n      <td>131.5</td>\n    </tr>\n    <tr>\n      <th>...</th>\n      <td>...</td>\n      <td>...</td>\n      <td>...</td>\n      <td>...</td>\n      <td>...</td>\n      <td>...</td>\n      <td>...</td>\n      <td>...</td>\n    </tr>\n    <tr>\n      <th>91</th>\n      <td>202106</td>\n      <td>세종특별자치시</td>\n      <td>세종시</td>\n      <td>산업용</td>\n      <td>1,662</td>\n      <td>165,891,271</td>\n      <td>19,225,737,565</td>\n      <td>115.9</td>\n    </tr>\n    <tr>\n      <th>92</th>\n      <td>202106</td>\n      <td>세종특별자치시</td>\n      <td>세종시</td>\n      <td>심 야</td>\n      <td>7,044</td>\n      <td>2,794,306</td>\n      <td>151,485,822</td>\n      <td>54.2</td>\n    </tr>\n    <tr>\n      <th>93</th>\n      <td>202106</td>\n      <td>세종특별자치시</td>\n      <td>세종시</td>\n      <td>일반용</td>\n      <td>14,382</td>\n      <td>62,440,905</td>\n      <td>8,602,281,653</td>\n      <td>137.8</td>\n    </tr>\n    <tr>\n      <th>94</th>\n      <td>202106</td>\n      <td>세종특별자치시</td>\n      <td>세종시</td>\n      <td>주택용</td>\n      <td>54,175</td>\n      <td>46,905,047</td>\n      <td>4,781,984,719</td>\n      <td>102</td>\n    </tr>\n    <tr>\n      <th>95</th>\n      <td>202106</td>\n      <td>세종특별자치시</td>\n      <td>세종시</td>\n      <td>합계</td>\n      <td>101,726</td>\n      <td>292,890,410</td>\n      <td>33,955,035,703</td>\n      <td>115.9</td>\n    </tr>\n  </tbody>\n</table>\n<p>96 rows × 8 columns</p>\n</div>"
     },
     "execution_count": 2,
     "metadata": {},
     "output_type": "execute_result"
    }
   ],
   "source": [
    "df = pd.read_csv('세종특별자치시_계약종별_전력사용량_월별_21상반기.csv' , encoding='cp949')\n",
    "\n",
    "df\n",
    "#exchng=  pd.read_csv('지역별_전력거래량_20220803093050.csv' , encoding='cp949')"
   ],
   "metadata": {
    "collapsed": false,
    "pycharm": {
     "name": "#%%\n"
    }
   }
  },
  {
   "cell_type": "code",
   "execution_count": 3,
   "outputs": [
    {
     "data": {
      "text/plain": "   계약종별 전력사용량 월별( 20220804 현재 ) Unnamed: 1     Unnamed: 2 Unnamed: 3  \\\n2                            년월         시구            시군구       계약구분   \n3                        202101    세종특별자치시  전체(시 / 군 / 구)        주택용   \n4                        202101    세종특별자치시  전체(시 / 군 / 구)        일반용   \n5                        202101    세종특별자치시  전체(시 / 군 / 구)        교육용   \n6                        202101    세종특별자치시  전체(시 / 군 / 구)        산업용   \n..                          ...        ...            ...        ...   \n91                       202106    세종특별자치시            세종시        산업용   \n92                       202106    세종특별자치시            세종시        심 야   \n93                       202106    세종특별자치시            세종시        일반용   \n94                       202106    세종특별자치시            세종시        주택용   \n95                       202106    세종특별자치시            세종시         합계   \n\n   Unnamed: 4    Unnamed: 5       Unnamed: 6     Unnamed: 7  \n2     고객호수(호)      사용량(kWh)          전기요금(원)  평균판매단가(원/kWh)  \n3     53,987    53,206,094    6,115,212,297          114.9   \n4     14,094    74,545,029    9,803,260,075          131.5   \n5        147     9,919,429      880,639,256           88.8   \n6      1,665   170,948,117   19,125,039,437          111.9   \n..        ...           ...              ...            ...  \n91     1,662   165,891,271   19,225,737,565          115.9   \n92     7,044     2,794,306      151,485,822           54.2   \n93    14,382    62,440,905    8,602,281,653          137.8   \n94    54,175    46,905,047    4,781,984,719            102   \n95   101,726   292,890,410   33,955,035,703          115.9   \n\n[93 rows x 8 columns]",
      "text/html": "<div>\n<style scoped>\n    .dataframe tbody tr th:only-of-type {\n        vertical-align: middle;\n    }\n\n    .dataframe tbody tr th {\n        vertical-align: top;\n    }\n\n    .dataframe thead th {\n        text-align: right;\n    }\n</style>\n<table border=\"1\" class=\"dataframe\">\n  <thead>\n    <tr style=\"text-align: right;\">\n      <th></th>\n      <th>계약종별 전력사용량 월별( 20220804 현재 )</th>\n      <th>Unnamed: 1</th>\n      <th>Unnamed: 2</th>\n      <th>Unnamed: 3</th>\n      <th>Unnamed: 4</th>\n      <th>Unnamed: 5</th>\n      <th>Unnamed: 6</th>\n      <th>Unnamed: 7</th>\n    </tr>\n  </thead>\n  <tbody>\n    <tr>\n      <th>2</th>\n      <td>년월</td>\n      <td>시구</td>\n      <td>시군구</td>\n      <td>계약구분</td>\n      <td>고객호수(호)</td>\n      <td>사용량(kWh)</td>\n      <td>전기요금(원)</td>\n      <td>평균판매단가(원/kWh)</td>\n    </tr>\n    <tr>\n      <th>3</th>\n      <td>202101</td>\n      <td>세종특별자치시</td>\n      <td>전체(시 / 군 / 구)</td>\n      <td>주택용</td>\n      <td>53,987</td>\n      <td>53,206,094</td>\n      <td>6,115,212,297</td>\n      <td>114.9</td>\n    </tr>\n    <tr>\n      <th>4</th>\n      <td>202101</td>\n      <td>세종특별자치시</td>\n      <td>전체(시 / 군 / 구)</td>\n      <td>일반용</td>\n      <td>14,094</td>\n      <td>74,545,029</td>\n      <td>9,803,260,075</td>\n      <td>131.5</td>\n    </tr>\n    <tr>\n      <th>5</th>\n      <td>202101</td>\n      <td>세종특별자치시</td>\n      <td>전체(시 / 군 / 구)</td>\n      <td>교육용</td>\n      <td>147</td>\n      <td>9,919,429</td>\n      <td>880,639,256</td>\n      <td>88.8</td>\n    </tr>\n    <tr>\n      <th>6</th>\n      <td>202101</td>\n      <td>세종특별자치시</td>\n      <td>전체(시 / 군 / 구)</td>\n      <td>산업용</td>\n      <td>1,665</td>\n      <td>170,948,117</td>\n      <td>19,125,039,437</td>\n      <td>111.9</td>\n    </tr>\n    <tr>\n      <th>...</th>\n      <td>...</td>\n      <td>...</td>\n      <td>...</td>\n      <td>...</td>\n      <td>...</td>\n      <td>...</td>\n      <td>...</td>\n      <td>...</td>\n    </tr>\n    <tr>\n      <th>91</th>\n      <td>202106</td>\n      <td>세종특별자치시</td>\n      <td>세종시</td>\n      <td>산업용</td>\n      <td>1,662</td>\n      <td>165,891,271</td>\n      <td>19,225,737,565</td>\n      <td>115.9</td>\n    </tr>\n    <tr>\n      <th>92</th>\n      <td>202106</td>\n      <td>세종특별자치시</td>\n      <td>세종시</td>\n      <td>심 야</td>\n      <td>7,044</td>\n      <td>2,794,306</td>\n      <td>151,485,822</td>\n      <td>54.2</td>\n    </tr>\n    <tr>\n      <th>93</th>\n      <td>202106</td>\n      <td>세종특별자치시</td>\n      <td>세종시</td>\n      <td>일반용</td>\n      <td>14,382</td>\n      <td>62,440,905</td>\n      <td>8,602,281,653</td>\n      <td>137.8</td>\n    </tr>\n    <tr>\n      <th>94</th>\n      <td>202106</td>\n      <td>세종특별자치시</td>\n      <td>세종시</td>\n      <td>주택용</td>\n      <td>54,175</td>\n      <td>46,905,047</td>\n      <td>4,781,984,719</td>\n      <td>102</td>\n    </tr>\n    <tr>\n      <th>95</th>\n      <td>202106</td>\n      <td>세종특별자치시</td>\n      <td>세종시</td>\n      <td>합계</td>\n      <td>101,726</td>\n      <td>292,890,410</td>\n      <td>33,955,035,703</td>\n      <td>115.9</td>\n    </tr>\n  </tbody>\n</table>\n<p>93 rows × 8 columns</p>\n</div>"
     },
     "execution_count": 3,
     "metadata": {},
     "output_type": "execute_result"
    }
   ],
   "source": [
    "df = df.drop([0,1 , 46] , axis = 0)\n",
    "#0,1 , 10은 지우는게 맞다\n",
    "df"
   ],
   "metadata": {
    "collapsed": false,
    "pycharm": {
     "name": "#%%\n"
    }
   }
  },
  {
   "cell_type": "code",
   "execution_count": 4,
   "outputs": [],
   "source": [
    "a= df.loc[2].tolist()\n",
    "a\n",
    "df = df.drop([2] , axis = 0)"
   ],
   "metadata": {
    "collapsed": false,
    "pycharm": {
     "name": "#%%\n"
    }
   }
  },
  {
   "cell_type": "code",
   "execution_count": 5,
   "outputs": [
    {
     "data": {
      "text/plain": "        년월       시구            시군구 계약구분   고객호수(호)      사용량(kWh)  \\\n3   202101  세종특별자치시  전체(시 / 군 / 구)  주택용   53,987    53,206,094    \n4   202101  세종특별자치시  전체(시 / 군 / 구)  일반용   14,094    74,545,029    \n5   202101  세종특별자치시  전체(시 / 군 / 구)  교육용      147     9,919,429    \n6   202101  세종특별자치시  전체(시 / 군 / 구)  산업용    1,665   170,948,117    \n7   202101  세종특별자치시  전체(시 / 군 / 구)  농사용    9,877     8,886,933    \n..     ...      ...            ...  ...       ...           ...   \n91  202106  세종특별자치시            세종시  산업용    1,662   165,891,271    \n92  202106  세종특별자치시            세종시  심 야    7,044     2,794,306    \n93  202106  세종특별자치시            세종시  일반용   14,382    62,440,905    \n94  202106  세종특별자치시            세종시  주택용   54,175    46,905,047    \n95  202106  세종특별자치시            세종시   합계  101,726   292,890,410    \n\n            전기요금(원) 평균판매단가(원/kWh)  \n3    6,115,212,297         114.9   \n4    9,803,260,075         131.5   \n5      880,639,256          88.8   \n6   19,125,039,437         111.9   \n7      400,969,878          45.1   \n..              ...           ...  \n91  19,225,737,565         115.9   \n92     151,485,822          54.2   \n93   8,602,281,653         137.8   \n94   4,781,984,719           102   \n95  33,955,035,703         115.9   \n\n[92 rows x 8 columns]",
      "text/html": "<div>\n<style scoped>\n    .dataframe tbody tr th:only-of-type {\n        vertical-align: middle;\n    }\n\n    .dataframe tbody tr th {\n        vertical-align: top;\n    }\n\n    .dataframe thead th {\n        text-align: right;\n    }\n</style>\n<table border=\"1\" class=\"dataframe\">\n  <thead>\n    <tr style=\"text-align: right;\">\n      <th></th>\n      <th>년월</th>\n      <th>시구</th>\n      <th>시군구</th>\n      <th>계약구분</th>\n      <th>고객호수(호)</th>\n      <th>사용량(kWh)</th>\n      <th>전기요금(원)</th>\n      <th>평균판매단가(원/kWh)</th>\n    </tr>\n  </thead>\n  <tbody>\n    <tr>\n      <th>3</th>\n      <td>202101</td>\n      <td>세종특별자치시</td>\n      <td>전체(시 / 군 / 구)</td>\n      <td>주택용</td>\n      <td>53,987</td>\n      <td>53,206,094</td>\n      <td>6,115,212,297</td>\n      <td>114.9</td>\n    </tr>\n    <tr>\n      <th>4</th>\n      <td>202101</td>\n      <td>세종특별자치시</td>\n      <td>전체(시 / 군 / 구)</td>\n      <td>일반용</td>\n      <td>14,094</td>\n      <td>74,545,029</td>\n      <td>9,803,260,075</td>\n      <td>131.5</td>\n    </tr>\n    <tr>\n      <th>5</th>\n      <td>202101</td>\n      <td>세종특별자치시</td>\n      <td>전체(시 / 군 / 구)</td>\n      <td>교육용</td>\n      <td>147</td>\n      <td>9,919,429</td>\n      <td>880,639,256</td>\n      <td>88.8</td>\n    </tr>\n    <tr>\n      <th>6</th>\n      <td>202101</td>\n      <td>세종특별자치시</td>\n      <td>전체(시 / 군 / 구)</td>\n      <td>산업용</td>\n      <td>1,665</td>\n      <td>170,948,117</td>\n      <td>19,125,039,437</td>\n      <td>111.9</td>\n    </tr>\n    <tr>\n      <th>7</th>\n      <td>202101</td>\n      <td>세종특별자치시</td>\n      <td>전체(시 / 군 / 구)</td>\n      <td>농사용</td>\n      <td>9,877</td>\n      <td>8,886,933</td>\n      <td>400,969,878</td>\n      <td>45.1</td>\n    </tr>\n    <tr>\n      <th>...</th>\n      <td>...</td>\n      <td>...</td>\n      <td>...</td>\n      <td>...</td>\n      <td>...</td>\n      <td>...</td>\n      <td>...</td>\n      <td>...</td>\n    </tr>\n    <tr>\n      <th>91</th>\n      <td>202106</td>\n      <td>세종특별자치시</td>\n      <td>세종시</td>\n      <td>산업용</td>\n      <td>1,662</td>\n      <td>165,891,271</td>\n      <td>19,225,737,565</td>\n      <td>115.9</td>\n    </tr>\n    <tr>\n      <th>92</th>\n      <td>202106</td>\n      <td>세종특별자치시</td>\n      <td>세종시</td>\n      <td>심 야</td>\n      <td>7,044</td>\n      <td>2,794,306</td>\n      <td>151,485,822</td>\n      <td>54.2</td>\n    </tr>\n    <tr>\n      <th>93</th>\n      <td>202106</td>\n      <td>세종특별자치시</td>\n      <td>세종시</td>\n      <td>일반용</td>\n      <td>14,382</td>\n      <td>62,440,905</td>\n      <td>8,602,281,653</td>\n      <td>137.8</td>\n    </tr>\n    <tr>\n      <th>94</th>\n      <td>202106</td>\n      <td>세종특별자치시</td>\n      <td>세종시</td>\n      <td>주택용</td>\n      <td>54,175</td>\n      <td>46,905,047</td>\n      <td>4,781,984,719</td>\n      <td>102</td>\n    </tr>\n    <tr>\n      <th>95</th>\n      <td>202106</td>\n      <td>세종특별자치시</td>\n      <td>세종시</td>\n      <td>합계</td>\n      <td>101,726</td>\n      <td>292,890,410</td>\n      <td>33,955,035,703</td>\n      <td>115.9</td>\n    </tr>\n  </tbody>\n</table>\n<p>92 rows × 8 columns</p>\n</div>"
     },
     "execution_count": 5,
     "metadata": {},
     "output_type": "execute_result"
    }
   ],
   "source": [
    "df.columns = a\n",
    "df"
   ],
   "metadata": {
    "collapsed": false,
    "pycharm": {
     "name": "#%%\n"
    }
   }
  },
  {
   "cell_type": "code",
   "execution_count": 6,
   "outputs": [
    {
     "data": {
      "text/plain": "        년월       시구            시군구 계약구분  고객호수(호)       사용량(kWh)  \\\n3   202101  세종특별자치시  전체(시 / 군 / 구)  주택용  53,987     53,206,094    \n4   202101  세종특별자치시  전체(시 / 군 / 구)  일반용  14,094     74,545,029    \n5   202101  세종특별자치시  전체(시 / 군 / 구)  교육용     147      9,919,429    \n6   202101  세종특별자치시  전체(시 / 군 / 구)  산업용   1,665    170,948,117    \n7   202101  세종특별자치시  전체(시 / 군 / 구)  농사용   9,877      8,886,933    \n8   202101  세종특별자치시  전체(시 / 군 / 구)  가로등  13,945      3,281,397    \n9   202101  세종특별자치시  전체(시 / 군 / 구)  심 야   7,151     13,388,874    \n10  202102  세종특별자치시  전체(시 / 군 / 구)  주택용  54,013     54,109,517    \n11  202102  세종특별자치시  전체(시 / 군 / 구)  일반용  14,140     68,302,750    \n12  202102  세종특별자치시  전체(시 / 군 / 구)  교육용     149      7,998,599    \n13  202102  세종특별자치시  전체(시 / 군 / 구)  산업용   1,663    149,379,414    \n14  202102  세종특별자치시  전체(시 / 군 / 구)  농사용   9,879      8,611,497    \n15  202102  세종특별자치시  전체(시 / 군 / 구)  가로등  13,975      3,111,585    \n16  202102  세종특별자치시  전체(시 / 군 / 구)  심 야   7,134     12,496,456    \n17  202103  세종특별자치시  전체(시 / 군 / 구)  주택용  54,044     45,171,310    \n18  202103  세종특별자치시  전체(시 / 군 / 구)  일반용  14,181     59,561,962    \n19  202103  세종특별자치시  전체(시 / 군 / 구)  교육용     150      7,094,752    \n20  202103  세종특별자치시  전체(시 / 군 / 구)  산업용   1,658    165,118,636    \n21  202103  세종특별자치시  전체(시 / 군 / 구)  농사용  14,831      7,139,862    \n22  202103  세종특별자치시  전체(시 / 군 / 구)  가로등  14,008      2,839,473    \n23  202103  세종특별자치시  전체(시 / 군 / 구)  심 야   7,110      9,074,443    \n24  202104  세종특별자치시  전체(시 / 군 / 구)  주택용  54,093     47,551,509    \n25  202104  세종특별자치시  전체(시 / 군 / 구)  일반용  14,269     55,830,184    \n26  202104  세종특별자치시  전체(시 / 군 / 구)  교육용     151      6,676,212    \n27  202104  세종특별자치시  전체(시 / 군 / 구)  산업용   1,658    161,735,480    \n28  202104  세종특별자치시  전체(시 / 군 / 구)  농사용   9,965      6,210,078    \n29  202104  세종특별자치시  전체(시 / 군 / 구)  가로등  14,075      2,805,388    \n30  202104  세종특별자치시  전체(시 / 군 / 구)  심 야   7,093      6,714,929    \n31  202105  세종특별자치시  전체(시 / 군 / 구)  주택용  54,124     44,500,354    \n32  202105  세종특별자치시  전체(시 / 군 / 구)  일반용  14,305     54,533,151    \n33  202105  세종특별자치시  전체(시 / 군 / 구)  교육용     151      5,149,060    \n34  202105  세종특별자치시  전체(시 / 군 / 구)  산업용   1,660    158,141,171    \n35  202105  세종특별자치시  전체(시 / 군 / 구)  농사용  10,029      6,071,323    \n36  202105  세종특별자치시  전체(시 / 군 / 구)  가로등  14,162      2,570,629    \n37  202105  세종특별자치시  전체(시 / 군 / 구)  심 야   7,059      4,219,524    \n38  202106  세종특별자치시  전체(시 / 군 / 구)  주택용  54,175     46,905,047    \n39  202106  세종특별자치시  전체(시 / 군 / 구)  일반용  14,382     62,440,905    \n40  202106  세종특별자치시  전체(시 / 군 / 구)  교육용     152      5,564,557    \n41  202106  세종특별자치시  전체(시 / 군 / 구)  산업용   1,662    165,891,271    \n42  202106  세종특별자치시  전체(시 / 군 / 구)  농사용  10,119      6,852,686    \n43  202106  세종특별자치시  전체(시 / 군 / 구)  가로등  14,192      2,441,638    \n44  202106  세종특별자치시  전체(시 / 군 / 구)  심 야   7,044      2,794,306    \n45      합계       합계             합계   합계  612,321  1,789,785,531   \n\n            전기요금(원) 평균판매단가(원/kWh)  \n3    6,115,212,297         114.9   \n4    9,803,260,075         131.5   \n5      880,639,256          88.8   \n6   19,125,039,437         111.9   \n7      400,969,878          45.1   \n8      348,097,468         106.1   \n9      967,711,978          72.3   \n10   6,253,091,721         115.6   \n11   9,222,681,884         135.0   \n12     763,785,961          95.5   \n13  17,042,589,029         114.1   \n14     392,028,064          45.5   \n15     343,723,650         110.5   \n16     905,332,710          72.4   \n17   4,546,410,075         100.6   \n18   7,515,209,945         126.2   \n19     712,203,807         100.4   \n20  15,220,814,128          92.2   \n21     330,880,866          46.3   \n22     314,935,362         110.9   \n23     574,883,994          63.4   \n24   4,999,437,490         105.1   \n25   6,639,064,069         118.9   \n26     579,526,301          86.8   \n27  14,812,794,730          91.6   \n28     294,995,169          47.5   \n29     320,094,252         114.1   \n30     347,304,306          51.7   \n31   4,420,807,017          99.3   \n32   6,508,646,269         119.4   \n33     462,592,092          89.8   \n34  14,237,996,814          90.0   \n35     287,302,388          47.3   \n36     302,740,312         117.8   \n37     222,460,159          52.7   \n38   4,781,984,719         102.0   \n39   8,602,281,653         137.8   \n40     584,883,473         105.1   \n41  19,225,737,565         115.9   \n42     312,651,400          45.6   \n43     296,011,071         121.2   \n44     151,485,822          54.2   \n45  190,170,298,656         106.3  ",
      "text/html": "<div>\n<style scoped>\n    .dataframe tbody tr th:only-of-type {\n        vertical-align: middle;\n    }\n\n    .dataframe tbody tr th {\n        vertical-align: top;\n    }\n\n    .dataframe thead th {\n        text-align: right;\n    }\n</style>\n<table border=\"1\" class=\"dataframe\">\n  <thead>\n    <tr style=\"text-align: right;\">\n      <th></th>\n      <th>년월</th>\n      <th>시구</th>\n      <th>시군구</th>\n      <th>계약구분</th>\n      <th>고객호수(호)</th>\n      <th>사용량(kWh)</th>\n      <th>전기요금(원)</th>\n      <th>평균판매단가(원/kWh)</th>\n    </tr>\n  </thead>\n  <tbody>\n    <tr>\n      <th>3</th>\n      <td>202101</td>\n      <td>세종특별자치시</td>\n      <td>전체(시 / 군 / 구)</td>\n      <td>주택용</td>\n      <td>53,987</td>\n      <td>53,206,094</td>\n      <td>6,115,212,297</td>\n      <td>114.9</td>\n    </tr>\n    <tr>\n      <th>4</th>\n      <td>202101</td>\n      <td>세종특별자치시</td>\n      <td>전체(시 / 군 / 구)</td>\n      <td>일반용</td>\n      <td>14,094</td>\n      <td>74,545,029</td>\n      <td>9,803,260,075</td>\n      <td>131.5</td>\n    </tr>\n    <tr>\n      <th>5</th>\n      <td>202101</td>\n      <td>세종특별자치시</td>\n      <td>전체(시 / 군 / 구)</td>\n      <td>교육용</td>\n      <td>147</td>\n      <td>9,919,429</td>\n      <td>880,639,256</td>\n      <td>88.8</td>\n    </tr>\n    <tr>\n      <th>6</th>\n      <td>202101</td>\n      <td>세종특별자치시</td>\n      <td>전체(시 / 군 / 구)</td>\n      <td>산업용</td>\n      <td>1,665</td>\n      <td>170,948,117</td>\n      <td>19,125,039,437</td>\n      <td>111.9</td>\n    </tr>\n    <tr>\n      <th>7</th>\n      <td>202101</td>\n      <td>세종특별자치시</td>\n      <td>전체(시 / 군 / 구)</td>\n      <td>농사용</td>\n      <td>9,877</td>\n      <td>8,886,933</td>\n      <td>400,969,878</td>\n      <td>45.1</td>\n    </tr>\n    <tr>\n      <th>8</th>\n      <td>202101</td>\n      <td>세종특별자치시</td>\n      <td>전체(시 / 군 / 구)</td>\n      <td>가로등</td>\n      <td>13,945</td>\n      <td>3,281,397</td>\n      <td>348,097,468</td>\n      <td>106.1</td>\n    </tr>\n    <tr>\n      <th>9</th>\n      <td>202101</td>\n      <td>세종특별자치시</td>\n      <td>전체(시 / 군 / 구)</td>\n      <td>심 야</td>\n      <td>7,151</td>\n      <td>13,388,874</td>\n      <td>967,711,978</td>\n      <td>72.3</td>\n    </tr>\n    <tr>\n      <th>10</th>\n      <td>202102</td>\n      <td>세종특별자치시</td>\n      <td>전체(시 / 군 / 구)</td>\n      <td>주택용</td>\n      <td>54,013</td>\n      <td>54,109,517</td>\n      <td>6,253,091,721</td>\n      <td>115.6</td>\n    </tr>\n    <tr>\n      <th>11</th>\n      <td>202102</td>\n      <td>세종특별자치시</td>\n      <td>전체(시 / 군 / 구)</td>\n      <td>일반용</td>\n      <td>14,140</td>\n      <td>68,302,750</td>\n      <td>9,222,681,884</td>\n      <td>135.0</td>\n    </tr>\n    <tr>\n      <th>12</th>\n      <td>202102</td>\n      <td>세종특별자치시</td>\n      <td>전체(시 / 군 / 구)</td>\n      <td>교육용</td>\n      <td>149</td>\n      <td>7,998,599</td>\n      <td>763,785,961</td>\n      <td>95.5</td>\n    </tr>\n    <tr>\n      <th>13</th>\n      <td>202102</td>\n      <td>세종특별자치시</td>\n      <td>전체(시 / 군 / 구)</td>\n      <td>산업용</td>\n      <td>1,663</td>\n      <td>149,379,414</td>\n      <td>17,042,589,029</td>\n      <td>114.1</td>\n    </tr>\n    <tr>\n      <th>14</th>\n      <td>202102</td>\n      <td>세종특별자치시</td>\n      <td>전체(시 / 군 / 구)</td>\n      <td>농사용</td>\n      <td>9,879</td>\n      <td>8,611,497</td>\n      <td>392,028,064</td>\n      <td>45.5</td>\n    </tr>\n    <tr>\n      <th>15</th>\n      <td>202102</td>\n      <td>세종특별자치시</td>\n      <td>전체(시 / 군 / 구)</td>\n      <td>가로등</td>\n      <td>13,975</td>\n      <td>3,111,585</td>\n      <td>343,723,650</td>\n      <td>110.5</td>\n    </tr>\n    <tr>\n      <th>16</th>\n      <td>202102</td>\n      <td>세종특별자치시</td>\n      <td>전체(시 / 군 / 구)</td>\n      <td>심 야</td>\n      <td>7,134</td>\n      <td>12,496,456</td>\n      <td>905,332,710</td>\n      <td>72.4</td>\n    </tr>\n    <tr>\n      <th>17</th>\n      <td>202103</td>\n      <td>세종특별자치시</td>\n      <td>전체(시 / 군 / 구)</td>\n      <td>주택용</td>\n      <td>54,044</td>\n      <td>45,171,310</td>\n      <td>4,546,410,075</td>\n      <td>100.6</td>\n    </tr>\n    <tr>\n      <th>18</th>\n      <td>202103</td>\n      <td>세종특별자치시</td>\n      <td>전체(시 / 군 / 구)</td>\n      <td>일반용</td>\n      <td>14,181</td>\n      <td>59,561,962</td>\n      <td>7,515,209,945</td>\n      <td>126.2</td>\n    </tr>\n    <tr>\n      <th>19</th>\n      <td>202103</td>\n      <td>세종특별자치시</td>\n      <td>전체(시 / 군 / 구)</td>\n      <td>교육용</td>\n      <td>150</td>\n      <td>7,094,752</td>\n      <td>712,203,807</td>\n      <td>100.4</td>\n    </tr>\n    <tr>\n      <th>20</th>\n      <td>202103</td>\n      <td>세종특별자치시</td>\n      <td>전체(시 / 군 / 구)</td>\n      <td>산업용</td>\n      <td>1,658</td>\n      <td>165,118,636</td>\n      <td>15,220,814,128</td>\n      <td>92.2</td>\n    </tr>\n    <tr>\n      <th>21</th>\n      <td>202103</td>\n      <td>세종특별자치시</td>\n      <td>전체(시 / 군 / 구)</td>\n      <td>농사용</td>\n      <td>14,831</td>\n      <td>7,139,862</td>\n      <td>330,880,866</td>\n      <td>46.3</td>\n    </tr>\n    <tr>\n      <th>22</th>\n      <td>202103</td>\n      <td>세종특별자치시</td>\n      <td>전체(시 / 군 / 구)</td>\n      <td>가로등</td>\n      <td>14,008</td>\n      <td>2,839,473</td>\n      <td>314,935,362</td>\n      <td>110.9</td>\n    </tr>\n    <tr>\n      <th>23</th>\n      <td>202103</td>\n      <td>세종특별자치시</td>\n      <td>전체(시 / 군 / 구)</td>\n      <td>심 야</td>\n      <td>7,110</td>\n      <td>9,074,443</td>\n      <td>574,883,994</td>\n      <td>63.4</td>\n    </tr>\n    <tr>\n      <th>24</th>\n      <td>202104</td>\n      <td>세종특별자치시</td>\n      <td>전체(시 / 군 / 구)</td>\n      <td>주택용</td>\n      <td>54,093</td>\n      <td>47,551,509</td>\n      <td>4,999,437,490</td>\n      <td>105.1</td>\n    </tr>\n    <tr>\n      <th>25</th>\n      <td>202104</td>\n      <td>세종특별자치시</td>\n      <td>전체(시 / 군 / 구)</td>\n      <td>일반용</td>\n      <td>14,269</td>\n      <td>55,830,184</td>\n      <td>6,639,064,069</td>\n      <td>118.9</td>\n    </tr>\n    <tr>\n      <th>26</th>\n      <td>202104</td>\n      <td>세종특별자치시</td>\n      <td>전체(시 / 군 / 구)</td>\n      <td>교육용</td>\n      <td>151</td>\n      <td>6,676,212</td>\n      <td>579,526,301</td>\n      <td>86.8</td>\n    </tr>\n    <tr>\n      <th>27</th>\n      <td>202104</td>\n      <td>세종특별자치시</td>\n      <td>전체(시 / 군 / 구)</td>\n      <td>산업용</td>\n      <td>1,658</td>\n      <td>161,735,480</td>\n      <td>14,812,794,730</td>\n      <td>91.6</td>\n    </tr>\n    <tr>\n      <th>28</th>\n      <td>202104</td>\n      <td>세종특별자치시</td>\n      <td>전체(시 / 군 / 구)</td>\n      <td>농사용</td>\n      <td>9,965</td>\n      <td>6,210,078</td>\n      <td>294,995,169</td>\n      <td>47.5</td>\n    </tr>\n    <tr>\n      <th>29</th>\n      <td>202104</td>\n      <td>세종특별자치시</td>\n      <td>전체(시 / 군 / 구)</td>\n      <td>가로등</td>\n      <td>14,075</td>\n      <td>2,805,388</td>\n      <td>320,094,252</td>\n      <td>114.1</td>\n    </tr>\n    <tr>\n      <th>30</th>\n      <td>202104</td>\n      <td>세종특별자치시</td>\n      <td>전체(시 / 군 / 구)</td>\n      <td>심 야</td>\n      <td>7,093</td>\n      <td>6,714,929</td>\n      <td>347,304,306</td>\n      <td>51.7</td>\n    </tr>\n    <tr>\n      <th>31</th>\n      <td>202105</td>\n      <td>세종특별자치시</td>\n      <td>전체(시 / 군 / 구)</td>\n      <td>주택용</td>\n      <td>54,124</td>\n      <td>44,500,354</td>\n      <td>4,420,807,017</td>\n      <td>99.3</td>\n    </tr>\n    <tr>\n      <th>32</th>\n      <td>202105</td>\n      <td>세종특별자치시</td>\n      <td>전체(시 / 군 / 구)</td>\n      <td>일반용</td>\n      <td>14,305</td>\n      <td>54,533,151</td>\n      <td>6,508,646,269</td>\n      <td>119.4</td>\n    </tr>\n    <tr>\n      <th>33</th>\n      <td>202105</td>\n      <td>세종특별자치시</td>\n      <td>전체(시 / 군 / 구)</td>\n      <td>교육용</td>\n      <td>151</td>\n      <td>5,149,060</td>\n      <td>462,592,092</td>\n      <td>89.8</td>\n    </tr>\n    <tr>\n      <th>34</th>\n      <td>202105</td>\n      <td>세종특별자치시</td>\n      <td>전체(시 / 군 / 구)</td>\n      <td>산업용</td>\n      <td>1,660</td>\n      <td>158,141,171</td>\n      <td>14,237,996,814</td>\n      <td>90.0</td>\n    </tr>\n    <tr>\n      <th>35</th>\n      <td>202105</td>\n      <td>세종특별자치시</td>\n      <td>전체(시 / 군 / 구)</td>\n      <td>농사용</td>\n      <td>10,029</td>\n      <td>6,071,323</td>\n      <td>287,302,388</td>\n      <td>47.3</td>\n    </tr>\n    <tr>\n      <th>36</th>\n      <td>202105</td>\n      <td>세종특별자치시</td>\n      <td>전체(시 / 군 / 구)</td>\n      <td>가로등</td>\n      <td>14,162</td>\n      <td>2,570,629</td>\n      <td>302,740,312</td>\n      <td>117.8</td>\n    </tr>\n    <tr>\n      <th>37</th>\n      <td>202105</td>\n      <td>세종특별자치시</td>\n      <td>전체(시 / 군 / 구)</td>\n      <td>심 야</td>\n      <td>7,059</td>\n      <td>4,219,524</td>\n      <td>222,460,159</td>\n      <td>52.7</td>\n    </tr>\n    <tr>\n      <th>38</th>\n      <td>202106</td>\n      <td>세종특별자치시</td>\n      <td>전체(시 / 군 / 구)</td>\n      <td>주택용</td>\n      <td>54,175</td>\n      <td>46,905,047</td>\n      <td>4,781,984,719</td>\n      <td>102.0</td>\n    </tr>\n    <tr>\n      <th>39</th>\n      <td>202106</td>\n      <td>세종특별자치시</td>\n      <td>전체(시 / 군 / 구)</td>\n      <td>일반용</td>\n      <td>14,382</td>\n      <td>62,440,905</td>\n      <td>8,602,281,653</td>\n      <td>137.8</td>\n    </tr>\n    <tr>\n      <th>40</th>\n      <td>202106</td>\n      <td>세종특별자치시</td>\n      <td>전체(시 / 군 / 구)</td>\n      <td>교육용</td>\n      <td>152</td>\n      <td>5,564,557</td>\n      <td>584,883,473</td>\n      <td>105.1</td>\n    </tr>\n    <tr>\n      <th>41</th>\n      <td>202106</td>\n      <td>세종특별자치시</td>\n      <td>전체(시 / 군 / 구)</td>\n      <td>산업용</td>\n      <td>1,662</td>\n      <td>165,891,271</td>\n      <td>19,225,737,565</td>\n      <td>115.9</td>\n    </tr>\n    <tr>\n      <th>42</th>\n      <td>202106</td>\n      <td>세종특별자치시</td>\n      <td>전체(시 / 군 / 구)</td>\n      <td>농사용</td>\n      <td>10,119</td>\n      <td>6,852,686</td>\n      <td>312,651,400</td>\n      <td>45.6</td>\n    </tr>\n    <tr>\n      <th>43</th>\n      <td>202106</td>\n      <td>세종특별자치시</td>\n      <td>전체(시 / 군 / 구)</td>\n      <td>가로등</td>\n      <td>14,192</td>\n      <td>2,441,638</td>\n      <td>296,011,071</td>\n      <td>121.2</td>\n    </tr>\n    <tr>\n      <th>44</th>\n      <td>202106</td>\n      <td>세종특별자치시</td>\n      <td>전체(시 / 군 / 구)</td>\n      <td>심 야</td>\n      <td>7,044</td>\n      <td>2,794,306</td>\n      <td>151,485,822</td>\n      <td>54.2</td>\n    </tr>\n    <tr>\n      <th>45</th>\n      <td>합계</td>\n      <td>합계</td>\n      <td>합계</td>\n      <td>합계</td>\n      <td>612,321</td>\n      <td>1,789,785,531</td>\n      <td>190,170,298,656</td>\n      <td>106.3</td>\n    </tr>\n  </tbody>\n</table>\n</div>"
     },
     "execution_count": 6,
     "metadata": {},
     "output_type": "execute_result"
    }
   ],
   "source": [
    "df_2 = df.loc[:45]\n",
    "df_2\n"
   ],
   "metadata": {
    "collapsed": false,
    "pycharm": {
     "name": "#%%\n"
    }
   }
  },
  {
   "cell_type": "code",
   "execution_count": 7,
   "outputs": [
    {
     "name": "stderr",
     "output_type": "stream",
     "text": [
      "C:\\Users\\user\\AppData\\Local\\Temp\\ipykernel_3252\\3551721261.py:3: SettingWithCopyWarning: \n",
      "A value is trying to be set on a copy of a slice from a DataFrame\n",
      "\n",
      "See the caveats in the documentation: https://pandas.pydata.org/pandas-docs/stable/user_guide/indexing.html#returning-a-view-versus-a-copy\n",
      "  GyeonGi.drop(['시군구' , '전기요금(원)' , '평균판매단가(원/kWh)'] , axis = 1 , inplace = True)\n"
     ]
    },
    {
     "data": {
      "text/plain": "        년월       시구 계약구분  고객호수(호)     사용량(kWh)\n4   202101  세종특별자치시  일반용  14,094   74,545,029 \n11  202102  세종특별자치시  일반용  14,140   68,302,750 \n18  202103  세종특별자치시  일반용  14,181   59,561,962 \n25  202104  세종특별자치시  일반용  14,269   55,830,184 \n32  202105  세종특별자치시  일반용  14,305   54,533,151 \n39  202106  세종특별자치시  일반용  14,382   62,440,905 ",
      "text/html": "<div>\n<style scoped>\n    .dataframe tbody tr th:only-of-type {\n        vertical-align: middle;\n    }\n\n    .dataframe tbody tr th {\n        vertical-align: top;\n    }\n\n    .dataframe thead th {\n        text-align: right;\n    }\n</style>\n<table border=\"1\" class=\"dataframe\">\n  <thead>\n    <tr style=\"text-align: right;\">\n      <th></th>\n      <th>년월</th>\n      <th>시구</th>\n      <th>계약구분</th>\n      <th>고객호수(호)</th>\n      <th>사용량(kWh)</th>\n    </tr>\n  </thead>\n  <tbody>\n    <tr>\n      <th>4</th>\n      <td>202101</td>\n      <td>세종특별자치시</td>\n      <td>일반용</td>\n      <td>14,094</td>\n      <td>74,545,029</td>\n    </tr>\n    <tr>\n      <th>11</th>\n      <td>202102</td>\n      <td>세종특별자치시</td>\n      <td>일반용</td>\n      <td>14,140</td>\n      <td>68,302,750</td>\n    </tr>\n    <tr>\n      <th>18</th>\n      <td>202103</td>\n      <td>세종특별자치시</td>\n      <td>일반용</td>\n      <td>14,181</td>\n      <td>59,561,962</td>\n    </tr>\n    <tr>\n      <th>25</th>\n      <td>202104</td>\n      <td>세종특별자치시</td>\n      <td>일반용</td>\n      <td>14,269</td>\n      <td>55,830,184</td>\n    </tr>\n    <tr>\n      <th>32</th>\n      <td>202105</td>\n      <td>세종특별자치시</td>\n      <td>일반용</td>\n      <td>14,305</td>\n      <td>54,533,151</td>\n    </tr>\n    <tr>\n      <th>39</th>\n      <td>202106</td>\n      <td>세종특별자치시</td>\n      <td>일반용</td>\n      <td>14,382</td>\n      <td>62,440,905</td>\n    </tr>\n  </tbody>\n</table>\n</div>"
     },
     "execution_count": 7,
     "metadata": {},
     "output_type": "execute_result"
    }
   ],
   "source": [
    "GyeonGi  = df_2.loc[(df_2['계약구분'] == '일반용')]\n",
    "#SEOUL = df_3.loc[(df_3['계약구분'] =='일반용')]\n",
    "GyeonGi.drop(['시군구' , '전기요금(원)' , '평균판매단가(원/kWh)'] , axis = 1 , inplace = True)\n",
    "GyeonGi"
   ],
   "metadata": {
    "collapsed": false,
    "pycharm": {
     "name": "#%%\n"
    }
   }
  },
  {
   "cell_type": "code",
   "execution_count": 8,
   "outputs": [],
   "source": [
    "#SEOUL1.to_csv(\"서울특별시_계약종별_전국_전력사용량_2022.csv\" , mode = 'w' , encoding= 'cp949')"
   ],
   "metadata": {
    "collapsed": false,
    "pycharm": {
     "name": "#%%\n"
    }
   }
  },
  {
   "cell_type": "code",
   "execution_count": 9,
   "outputs": [],
   "source": [
    "#df_2.to_csv(\"서울특별시_계약종별_전국_전력사용량.csv\" , mode = 'w' , encoding= 'cp949')"
   ],
   "metadata": {
    "collapsed": false,
    "pycharm": {
     "name": "#%%\n"
    }
   }
  },
  {
   "cell_type": "code",
   "execution_count": 10,
   "outputs": [
    {
     "data": {
      "text/plain": "        년월       시구  시군구 계약구분  고객호수(호)     사용량(kWh)\n53  202101  세종특별자치시  세종시  일반용  14,094   74,545,029 \n61  202102  세종특별자치시  세종시  일반용  14,140   68,302,750 \n69  202103  세종특별자치시  세종시  일반용  14,181   59,561,962 \n77  202104  세종특별자치시  세종시  일반용  14,269   55,830,184 \n85  202105  세종특별자치시  세종시  일반용  14,305   54,533,151 \n93  202106  세종특별자치시  세종시  일반용  14,382   62,440,905 ",
      "text/html": "<div>\n<style scoped>\n    .dataframe tbody tr th:only-of-type {\n        vertical-align: middle;\n    }\n\n    .dataframe tbody tr th {\n        vertical-align: top;\n    }\n\n    .dataframe thead th {\n        text-align: right;\n    }\n</style>\n<table border=\"1\" class=\"dataframe\">\n  <thead>\n    <tr style=\"text-align: right;\">\n      <th></th>\n      <th>년월</th>\n      <th>시구</th>\n      <th>시군구</th>\n      <th>계약구분</th>\n      <th>고객호수(호)</th>\n      <th>사용량(kWh)</th>\n    </tr>\n  </thead>\n  <tbody>\n    <tr>\n      <th>53</th>\n      <td>202101</td>\n      <td>세종특별자치시</td>\n      <td>세종시</td>\n      <td>일반용</td>\n      <td>14,094</td>\n      <td>74,545,029</td>\n    </tr>\n    <tr>\n      <th>61</th>\n      <td>202102</td>\n      <td>세종특별자치시</td>\n      <td>세종시</td>\n      <td>일반용</td>\n      <td>14,140</td>\n      <td>68,302,750</td>\n    </tr>\n    <tr>\n      <th>69</th>\n      <td>202103</td>\n      <td>세종특별자치시</td>\n      <td>세종시</td>\n      <td>일반용</td>\n      <td>14,181</td>\n      <td>59,561,962</td>\n    </tr>\n    <tr>\n      <th>77</th>\n      <td>202104</td>\n      <td>세종특별자치시</td>\n      <td>세종시</td>\n      <td>일반용</td>\n      <td>14,269</td>\n      <td>55,830,184</td>\n    </tr>\n    <tr>\n      <th>85</th>\n      <td>202105</td>\n      <td>세종특별자치시</td>\n      <td>세종시</td>\n      <td>일반용</td>\n      <td>14,305</td>\n      <td>54,533,151</td>\n    </tr>\n    <tr>\n      <th>93</th>\n      <td>202106</td>\n      <td>세종특별자치시</td>\n      <td>세종시</td>\n      <td>일반용</td>\n      <td>14,382</td>\n      <td>62,440,905</td>\n    </tr>\n  </tbody>\n</table>\n</div>"
     },
     "execution_count": 10,
     "metadata": {},
     "output_type": "execute_result"
    }
   ],
   "source": [
    "df_3 = df.loc[48:]\n",
    "df_3 = df_3.loc[(df_3['계약구분'] == '일반용')]\n",
    "df_3 = df_3.sort_values(by=['시군구' , '년월'])\n",
    "df_3.drop(['전기요금(원)',   '평균판매단가(원/kWh)'] , axis = 1 , inplace = True)\n",
    "df_3"
   ],
   "metadata": {
    "collapsed": false,
    "pycharm": {
     "name": "#%%\n"
    }
   }
  },
  {
   "cell_type": "code",
   "execution_count": 11,
   "outputs": [
    {
     "data": {
      "text/plain": "'세종특별자치시'"
     },
     "execution_count": 11,
     "metadata": {},
     "output_type": "execute_result"
    }
   ],
   "source": [
    "a = df_3.loc[: , \"시구\"]\n",
    "b = a[:1].tolist()\n",
    "for i in b:\n",
    "    City = i\n",
    "City"
   ],
   "metadata": {
    "collapsed": false,
    "pycharm": {
     "name": "#%%\n"
    }
   }
  },
  {
   "cell_type": "code",
   "execution_count": 12,
   "outputs": [
    {
     "data": {
      "text/plain": "['세종시']"
     },
     "execution_count": 12,
     "metadata": {},
     "output_type": "execute_result"
    }
   ],
   "source": [
    "\n",
    "SIGUNGU = list(set(df_3.loc[: , '시군구'].tolist()))\n",
    "SIGUNGU.sort()\n",
    "SIGUNGU"
   ],
   "metadata": {
    "collapsed": false,
    "pycharm": {
     "name": "#%%\n"
    }
   }
  },
  {
   "cell_type": "code",
   "execution_count": 13,
   "outputs": [
    {
     "data": {
      "text/plain": "        년월       시구  시군구 계약구분   고객호수(호)      사용량(kWh)\n55  202101  세종특별자치시  세종시   합계  100,866   334,175,873 \n63  202102  세종특별자치시  세종시   합계  100,953   304,009,818 \n71  202103  세종특별자치시  세종시   합계  105,982   296,000,438 \n79  202104  세종특별자치시  세종시   합계  101,304   287,523,780 \n87  202105  세종특별자치시  세종시   합계  101,490   275,185,212 \n95  202106  세종특별자치시  세종시   합계  101,726   292,890,410 ",
      "text/html": "<div>\n<style scoped>\n    .dataframe tbody tr th:only-of-type {\n        vertical-align: middle;\n    }\n\n    .dataframe tbody tr th {\n        vertical-align: top;\n    }\n\n    .dataframe thead th {\n        text-align: right;\n    }\n</style>\n<table border=\"1\" class=\"dataframe\">\n  <thead>\n    <tr style=\"text-align: right;\">\n      <th></th>\n      <th>년월</th>\n      <th>시구</th>\n      <th>시군구</th>\n      <th>계약구분</th>\n      <th>고객호수(호)</th>\n      <th>사용량(kWh)</th>\n    </tr>\n  </thead>\n  <tbody>\n    <tr>\n      <th>55</th>\n      <td>202101</td>\n      <td>세종특별자치시</td>\n      <td>세종시</td>\n      <td>합계</td>\n      <td>100,866</td>\n      <td>334,175,873</td>\n    </tr>\n    <tr>\n      <th>63</th>\n      <td>202102</td>\n      <td>세종특별자치시</td>\n      <td>세종시</td>\n      <td>합계</td>\n      <td>100,953</td>\n      <td>304,009,818</td>\n    </tr>\n    <tr>\n      <th>71</th>\n      <td>202103</td>\n      <td>세종특별자치시</td>\n      <td>세종시</td>\n      <td>합계</td>\n      <td>105,982</td>\n      <td>296,000,438</td>\n    </tr>\n    <tr>\n      <th>79</th>\n      <td>202104</td>\n      <td>세종특별자치시</td>\n      <td>세종시</td>\n      <td>합계</td>\n      <td>101,304</td>\n      <td>287,523,780</td>\n    </tr>\n    <tr>\n      <th>87</th>\n      <td>202105</td>\n      <td>세종특별자치시</td>\n      <td>세종시</td>\n      <td>합계</td>\n      <td>101,490</td>\n      <td>275,185,212</td>\n    </tr>\n    <tr>\n      <th>95</th>\n      <td>202106</td>\n      <td>세종특별자치시</td>\n      <td>세종시</td>\n      <td>합계</td>\n      <td>101,726</td>\n      <td>292,890,410</td>\n    </tr>\n  </tbody>\n</table>\n</div>"
     },
     "execution_count": 13,
     "metadata": {},
     "output_type": "execute_result"
    }
   ],
   "source": [
    "df_4 = df.loc[48:]\n",
    "df_4 = df_4.loc[(df_4['계약구분'] == '합계')]\n",
    "df_4 = df_4.sort_values(by=['시군구' , '년월'])\n",
    "df_4.drop(['전기요금(원)',   '평균판매단가(원/kWh)'] , axis = 1 , inplace = True)\n",
    "df_4"
   ],
   "metadata": {
    "collapsed": false,
    "pycharm": {
     "name": "#%%\n"
    }
   }
  },
  {
   "cell_type": "code",
   "execution_count": 14,
   "outputs": [
    {
     "name": "stdout",
     "output_type": "stream",
     "text": [
      "[334175873, 304009818, 296000438, 287523780, 275185212, 292890410]\n",
      "세종특별자치시 지역별 합계 :  [1789785531]\n",
      "세종특별자치시 고객호수 평균:  [17008]\n"
     ]
    }
   ],
   "source": [
    "sum2 , sum3 =[] , []\n",
    "for k in SIGUNGU:\n",
    "    GyeonGiHap = pd.DataFrame([] , columns = a)\n",
    "    HOSU = pd.DataFrame([], columns = a)\n",
    "    GyeonGiHap['사용량']= df_4['사용량(kWh)'].loc[(df_4['시군구'] == '{}'.format(k))]\n",
    "    HOSU['고객호수']= df_4['고객호수(호)'].loc[(df_4['시군구'] == '{}'.format(k))]\n",
    "    #경기합 데이터프레임의 사용량 열에 기군구가 가평군인 사용량 데이터만 뽑아내기\n",
    "    # GyeonGiHap = GyeonGiHap['사용량']\n",
    "\n",
    "    b = GyeonGiHap['사용량'].tolist()\n",
    "    c = HOSU['고객호수'].tolist()\n",
    "\n",
    "\n",
    "    #각지역별 사용량 리스트화\n",
    "    int_list  , int_list2=[] , []\n",
    "    for i in b:\n",
    "        i = re.sub(\",\" , \"\" , i)\n",
    "        #콤마 없애기\n",
    "        int_list.append(int(i))\n",
    "        #int_list에 각지역별 사용량 int로 저장\n",
    "    print(int_list)\n",
    "    sum=0\n",
    "    for i in c:\n",
    "        i = re.sub(\",\" , \"\" , i)\n",
    "        int_list2.append(int(i))\n",
    "\n",
    "    for j in int_list:\n",
    "\n",
    "        sum+= j\n",
    "    sum2.append(sum)\n",
    "    sum = 0\n",
    "    for j in int_list2: #고객호수 추출하여 더하기\n",
    "\n",
    "        sum+= j\n",
    "    sum3.append(sum//36) #6개월 치로 나눠야하나?!\n",
    "\n",
    "\n",
    "\n",
    "\n",
    "print(\"{} 지역별 합계 : \".format(City) , sum2)\n",
    "print(\"{} 고객호수 평균: \".format(City) , sum3)"
   ],
   "metadata": {
    "collapsed": false,
    "pycharm": {
     "name": "#%%\n"
    }
   }
  },
  {
   "cell_type": "markdown",
   "source": [
    "### 2. 날짜 체크!!!!!!!!!!!!!!!!!!!!!!!!!!!!!!!!!!!!!!!!!!!!!!"
   ],
   "metadata": {
    "collapsed": false,
    "pycharm": {
     "name": "#%% md\n"
    }
   }
  },
  {
   "cell_type": "code",
   "execution_count": 15,
   "outputs": [
    {
     "name": "stderr",
     "output_type": "stream",
     "text": [
      "C:\\Users\\user\\AppData\\Local\\Temp\\ipykernel_3252\\1481603074.py:4: FutureWarning: The frame.append method is deprecated and will be removed from pandas in a future version. Use pandas.concat instead.\n",
      "  Hap = Hap.append({'년월' :'202101-202106'  , '시구' : '{}'.format(City) , '시군구' : '{}'.format(SIGUNGU[i]) , '계약구분' : '합계' , '고객호수(호)' : sum3[i] ,  '사용량(kWh)' : sum2[i]} , ignore_index=True) #년월 파일마다 수정하기\n"
     ]
    },
    {
     "data": {
      "text/plain": "              년월       시구  시군구 계약구분   고객호수(호)      사용량(kWh)\n0         202101  세종특별자치시  세종시   합계  100,866   334,175,873 \n1         202102  세종특별자치시  세종시   합계  100,953   304,009,818 \n2         202103  세종특별자치시  세종시   합계  105,982   296,000,438 \n3         202104  세종특별자치시  세종시   합계  101,304   287,523,780 \n4         202105  세종특별자치시  세종시   합계  101,490   275,185,212 \n5         202106  세종특별자치시  세종시   합계  101,726   292,890,410 \n6  202101-202106  세종특별자치시  세종시   합계     17008    1789785531",
      "text/html": "<div>\n<style scoped>\n    .dataframe tbody tr th:only-of-type {\n        vertical-align: middle;\n    }\n\n    .dataframe tbody tr th {\n        vertical-align: top;\n    }\n\n    .dataframe thead th {\n        text-align: right;\n    }\n</style>\n<table border=\"1\" class=\"dataframe\">\n  <thead>\n    <tr style=\"text-align: right;\">\n      <th></th>\n      <th>년월</th>\n      <th>시구</th>\n      <th>시군구</th>\n      <th>계약구분</th>\n      <th>고객호수(호)</th>\n      <th>사용량(kWh)</th>\n    </tr>\n  </thead>\n  <tbody>\n    <tr>\n      <th>0</th>\n      <td>202101</td>\n      <td>세종특별자치시</td>\n      <td>세종시</td>\n      <td>합계</td>\n      <td>100,866</td>\n      <td>334,175,873</td>\n    </tr>\n    <tr>\n      <th>1</th>\n      <td>202102</td>\n      <td>세종특별자치시</td>\n      <td>세종시</td>\n      <td>합계</td>\n      <td>100,953</td>\n      <td>304,009,818</td>\n    </tr>\n    <tr>\n      <th>2</th>\n      <td>202103</td>\n      <td>세종특별자치시</td>\n      <td>세종시</td>\n      <td>합계</td>\n      <td>105,982</td>\n      <td>296,000,438</td>\n    </tr>\n    <tr>\n      <th>3</th>\n      <td>202104</td>\n      <td>세종특별자치시</td>\n      <td>세종시</td>\n      <td>합계</td>\n      <td>101,304</td>\n      <td>287,523,780</td>\n    </tr>\n    <tr>\n      <th>4</th>\n      <td>202105</td>\n      <td>세종특별자치시</td>\n      <td>세종시</td>\n      <td>합계</td>\n      <td>101,490</td>\n      <td>275,185,212</td>\n    </tr>\n    <tr>\n      <th>5</th>\n      <td>202106</td>\n      <td>세종특별자치시</td>\n      <td>세종시</td>\n      <td>합계</td>\n      <td>101,726</td>\n      <td>292,890,410</td>\n    </tr>\n    <tr>\n      <th>6</th>\n      <td>202101-202106</td>\n      <td>세종특별자치시</td>\n      <td>세종시</td>\n      <td>합계</td>\n      <td>17008</td>\n      <td>1789785531</td>\n    </tr>\n  </tbody>\n</table>\n</div>"
     },
     "execution_count": 15,
     "metadata": {},
     "output_type": "execute_result"
    }
   ],
   "source": [
    "Hap = df_4.copy()\n",
    "Hap.reset_index(drop=True , inplace = True)\n",
    "for i in range(len(SIGUNGU)):\n",
    "    Hap = Hap.append({'년월' :'202101-202106'  , '시구' : '{}'.format(City) , '시군구' : '{}'.format(SIGUNGU[i]) , '계약구분' : '합계' , '고객호수(호)' : sum3[i] ,  '사용량(kWh)' : sum2[i]} , ignore_index=True) #년월 파일마다 수정하기\n",
    "Hap"
   ],
   "metadata": {
    "collapsed": false,
    "pycharm": {
     "name": "#%%\n"
    }
   }
  },
  {
   "cell_type": "markdown",
   "source": [
    "### 3. 날짜 변경!!!!!!!!!!!!!!!!!!!!!!!!!!!!!!!"
   ],
   "metadata": {
    "collapsed": false,
    "pycharm": {
     "name": "#%% md\n"
    }
   }
  },
  {
   "cell_type": "code",
   "execution_count": 16,
   "outputs": [
    {
     "data": {
      "text/plain": "              년월       시구  시군구 계약구분 고객호수(호)    사용량(kWh)\n6  202101-202106  세종특별자치시  세종시   합계   17008  1789785531",
      "text/html": "<div>\n<style scoped>\n    .dataframe tbody tr th:only-of-type {\n        vertical-align: middle;\n    }\n\n    .dataframe tbody tr th {\n        vertical-align: top;\n    }\n\n    .dataframe thead th {\n        text-align: right;\n    }\n</style>\n<table border=\"1\" class=\"dataframe\">\n  <thead>\n    <tr style=\"text-align: right;\">\n      <th></th>\n      <th>년월</th>\n      <th>시구</th>\n      <th>시군구</th>\n      <th>계약구분</th>\n      <th>고객호수(호)</th>\n      <th>사용량(kWh)</th>\n    </tr>\n  </thead>\n  <tbody>\n    <tr>\n      <th>6</th>\n      <td>202101-202106</td>\n      <td>세종특별자치시</td>\n      <td>세종시</td>\n      <td>합계</td>\n      <td>17008</td>\n      <td>1789785531</td>\n    </tr>\n  </tbody>\n</table>\n</div>"
     },
     "execution_count": 16,
     "metadata": {},
     "output_type": "execute_result"
    }
   ],
   "source": [
    "Hap = Hap.loc[Hap['년월'] == '202101-202106']\n",
    "Hap"
   ],
   "metadata": {
    "collapsed": false,
    "pycharm": {
     "name": "#%%\n"
    }
   }
  },
  {
   "cell_type": "code",
   "execution_count": 17,
   "outputs": [],
   "source": [
    "# SIGUNGU = SIGUNGU[:1]\n",
    "# SIGUNGU\n",
    "#for i in SIGUNGU:\n",
    "#print('{}'.format(i))\n",
    "# df_3 = df_3.loc[(df_3['시군구'] == '가평군')]\n",
    "#\n",
    "# df_3"
   ],
   "metadata": {
    "collapsed": false,
    "pycharm": {
     "name": "#%%\n"
    }
   }
  },
  {
   "cell_type": "code",
   "execution_count": 18,
   "outputs": [
    {
     "data": {
      "text/plain": "['년월', '시구', '시군구', '계약구분', '고객호수(호)', '사용량(kWh)']"
     },
     "execution_count": 18,
     "metadata": {},
     "output_type": "execute_result"
    }
   ],
   "source": [
    "a = (df_3.columns).tolist()\n",
    "\n",
    "a"
   ],
   "metadata": {
    "collapsed": false,
    "pycharm": {
     "name": "#%%\n"
    }
   }
  },
  {
   "cell_type": "code",
   "execution_count": 19,
   "outputs": [
    {
     "data": {
      "text/plain": "        년월       시구  시군구 계약구분  고객호수(호)     사용량(kWh)\n53  202101  세종특별자치시  세종시  일반용  14,094   74,545,029 \n61  202102  세종특별자치시  세종시  일반용  14,140   68,302,750 \n69  202103  세종특별자치시  세종시  일반용  14,181   59,561,962 \n77  202104  세종특별자치시  세종시  일반용  14,269   55,830,184 \n85  202105  세종특별자치시  세종시  일반용  14,305   54,533,151 \n93  202106  세종특별자치시  세종시  일반용  14,382   62,440,905 ",
      "text/html": "<div>\n<style scoped>\n    .dataframe tbody tr th:only-of-type {\n        vertical-align: middle;\n    }\n\n    .dataframe tbody tr th {\n        vertical-align: top;\n    }\n\n    .dataframe thead th {\n        text-align: right;\n    }\n</style>\n<table border=\"1\" class=\"dataframe\">\n  <thead>\n    <tr style=\"text-align: right;\">\n      <th></th>\n      <th>년월</th>\n      <th>시구</th>\n      <th>시군구</th>\n      <th>계약구분</th>\n      <th>고객호수(호)</th>\n      <th>사용량(kWh)</th>\n    </tr>\n  </thead>\n  <tbody>\n    <tr>\n      <th>53</th>\n      <td>202101</td>\n      <td>세종특별자치시</td>\n      <td>세종시</td>\n      <td>일반용</td>\n      <td>14,094</td>\n      <td>74,545,029</td>\n    </tr>\n    <tr>\n      <th>61</th>\n      <td>202102</td>\n      <td>세종특별자치시</td>\n      <td>세종시</td>\n      <td>일반용</td>\n      <td>14,140</td>\n      <td>68,302,750</td>\n    </tr>\n    <tr>\n      <th>69</th>\n      <td>202103</td>\n      <td>세종특별자치시</td>\n      <td>세종시</td>\n      <td>일반용</td>\n      <td>14,181</td>\n      <td>59,561,962</td>\n    </tr>\n    <tr>\n      <th>77</th>\n      <td>202104</td>\n      <td>세종특별자치시</td>\n      <td>세종시</td>\n      <td>일반용</td>\n      <td>14,269</td>\n      <td>55,830,184</td>\n    </tr>\n    <tr>\n      <th>85</th>\n      <td>202105</td>\n      <td>세종특별자치시</td>\n      <td>세종시</td>\n      <td>일반용</td>\n      <td>14,305</td>\n      <td>54,533,151</td>\n    </tr>\n    <tr>\n      <th>93</th>\n      <td>202106</td>\n      <td>세종특별자치시</td>\n      <td>세종시</td>\n      <td>일반용</td>\n      <td>14,382</td>\n      <td>62,440,905</td>\n    </tr>\n  </tbody>\n</table>\n</div>"
     },
     "execution_count": 19,
     "metadata": {},
     "output_type": "execute_result"
    }
   ],
   "source": [
    "df_3"
   ],
   "metadata": {
    "collapsed": false,
    "pycharm": {
     "name": "#%%\n"
    }
   }
  },
  {
   "cell_type": "code",
   "execution_count": 20,
   "outputs": [],
   "source": [
    "# GyeonGiHap = pd.DataFrame([] , columns = a)\n",
    "# GyeonGiHap['사용량']= df_3['사용량(kWh)'].loc[(df_3['시군구'] == '{가평군}')]\n",
    "# GyeonGiHap"
   ],
   "metadata": {
    "collapsed": false,
    "pycharm": {
     "name": "#%%\n"
    }
   }
  },
  {
   "cell_type": "code",
   "execution_count": 21,
   "outputs": [
    {
     "name": "stdout",
     "output_type": "stream",
     "text": [
      "[74545029, 68302750, 59561962, 55830184, 54533151, 62440905]\n",
      "세종특별자치시 지역별 일반용 합계 :  [375213981]\n",
      "세종특별자치시 고객호수 평균:  [14228]\n"
     ]
    }
   ],
   "source": [
    "sum2 , sum3 =[] , []\n",
    "for k in SIGUNGU:\n",
    "    GyeonGiHap = pd.DataFrame([] , columns = a)\n",
    "    HOSU = pd.DataFrame([], columns = a)\n",
    "    GyeonGiHap['사용량']= df_3['사용량(kWh)'].loc[(df_3['시군구'] == '{}'.format(k))]\n",
    "    HOSU['고객호수']= df_3['고객호수(호)'].loc[(df_3['시군구'] == '{}'.format(k))]\n",
    "    #경기합 데이터프레임의 사용량 열에 기군구가 가평군인 사용량 데이터만 뽑아내기\n",
    "    # GyeonGiHap = GyeonGiHap['사용량']\n",
    "\n",
    "    b = GyeonGiHap['사용량'].tolist()\n",
    "    c = HOSU['고객호수'].tolist()\n",
    "\n",
    "\n",
    "    #각지역별 사용량 리스트화\n",
    "    int_list  , int_list2=[] , []\n",
    "    for i in b:\n",
    "        i = re.sub(\",\" , \"\" , i)\n",
    "        #콤마 없애기\n",
    "        int_list.append(int(i))\n",
    "        #int_list에 각지역별 사용량 int로 저장\n",
    "    print(int_list)\n",
    "    sum=0\n",
    "    for i in c:\n",
    "        i = re.sub(\",\" , \"\" , i)\n",
    "        int_list2.append(int(i))\n",
    "\n",
    "    for j in int_list:\n",
    "\n",
    "        sum+= j\n",
    "    sum2.append(sum)\n",
    "    sum = 0\n",
    "    for j in int_list2: #고객호수 추출하여 더하기\n",
    "\n",
    "        sum+= j\n",
    "    sum3.append(sum//6) #6개월 치로 나눠야하나?!\n",
    "\n",
    "\n",
    "\n",
    "\n",
    "print(\"{} 지역별 일반용 합계 : \".format(City) , sum2)\n",
    "print(\"{} 고객호수 평균: \".format(City) , sum3)\n",
    "# GyeonGiHap['합계'] = sum\n",
    "#\n",
    "# GyeonGiHap"
   ],
   "metadata": {
    "collapsed": false,
    "pycharm": {
     "name": "#%%\n"
    }
   }
  },
  {
   "cell_type": "code",
   "execution_count": 22,
   "outputs": [],
   "source": [
    "# df_3 = df_3.loc[(df_3['시군구'] == '가평군')]\n",
    "#\n",
    "# df_3"
   ],
   "metadata": {
    "collapsed": false,
    "pycharm": {
     "name": "#%%\n"
    }
   }
  },
  {
   "cell_type": "code",
   "execution_count": 23,
   "outputs": [],
   "source": [
    "# GyeonGiHap = df_3.copy()\n",
    "# GyeonGiHap.reset_index(drop=True , inplace = True)\n",
    "# GyeonGiHap.append({'년월' : '202107-202112'  , '시구' : '경기도' , '시군구' : '가평군' , '계약구분' : '일반용' , '사용량(kWh)' : sum}, ignore_index=True)"
   ],
   "metadata": {
    "collapsed": false,
    "pycharm": {
     "name": "#%%\n"
    }
   }
  },
  {
   "cell_type": "code",
   "execution_count": 24,
   "outputs": [],
   "source": [
    "# a=[]\n",
    "# for i in SIGUNGU:\n",
    "#     a.append(i)\n",
    "#\n",
    "# print(a)"
   ],
   "metadata": {
    "collapsed": false,
    "pycharm": {
     "name": "#%%\n"
    }
   }
  },
  {
   "cell_type": "markdown",
   "source": [
    "### 4. 년월 체크!!!!!!!!!!!!!!!!!!!!!!!!!!!!!!!!!!!!!!!!!!!!!!!!!!!!!!!!!!!!!!!!!"
   ],
   "metadata": {
    "collapsed": false,
    "pycharm": {
     "name": "#%% md\n"
    }
   }
  },
  {
   "cell_type": "code",
   "execution_count": 25,
   "outputs": [
    {
     "name": "stderr",
     "output_type": "stream",
     "text": [
      "C:\\Users\\user\\AppData\\Local\\Temp\\ipykernel_3252\\1152688266.py:4: FutureWarning: The frame.append method is deprecated and will be removed from pandas in a future version. Use pandas.concat instead.\n",
      "  GyeonGiHap2 = GyeonGiHap2.append({'년월' :'202101-202106'  , '시구' : '{}'.format(City) , '시군구' : '{}'.format(SIGUNGU[i]) , '계약구분' : '일반용' , '고객호수(호)' : sum3[i] ,  '사용량(kWh)' : sum2[i]} , ignore_index=True) #년월 파일마다 수정하기\n"
     ]
    },
    {
     "data": {
      "text/plain": "              년월       시구  시군구 계약구분  고객호수(호)     사용량(kWh)\n0         202101  세종특별자치시  세종시  일반용  14,094   74,545,029 \n1         202102  세종특별자치시  세종시  일반용  14,140   68,302,750 \n2         202103  세종특별자치시  세종시  일반용  14,181   59,561,962 \n3         202104  세종특별자치시  세종시  일반용  14,269   55,830,184 \n4         202105  세종특별자치시  세종시  일반용  14,305   54,533,151 \n5         202106  세종특별자치시  세종시  일반용  14,382   62,440,905 \n6  202101-202106  세종특별자치시  세종시  일반용    14228    375213981",
      "text/html": "<div>\n<style scoped>\n    .dataframe tbody tr th:only-of-type {\n        vertical-align: middle;\n    }\n\n    .dataframe tbody tr th {\n        vertical-align: top;\n    }\n\n    .dataframe thead th {\n        text-align: right;\n    }\n</style>\n<table border=\"1\" class=\"dataframe\">\n  <thead>\n    <tr style=\"text-align: right;\">\n      <th></th>\n      <th>년월</th>\n      <th>시구</th>\n      <th>시군구</th>\n      <th>계약구분</th>\n      <th>고객호수(호)</th>\n      <th>사용량(kWh)</th>\n    </tr>\n  </thead>\n  <tbody>\n    <tr>\n      <th>0</th>\n      <td>202101</td>\n      <td>세종특별자치시</td>\n      <td>세종시</td>\n      <td>일반용</td>\n      <td>14,094</td>\n      <td>74,545,029</td>\n    </tr>\n    <tr>\n      <th>1</th>\n      <td>202102</td>\n      <td>세종특별자치시</td>\n      <td>세종시</td>\n      <td>일반용</td>\n      <td>14,140</td>\n      <td>68,302,750</td>\n    </tr>\n    <tr>\n      <th>2</th>\n      <td>202103</td>\n      <td>세종특별자치시</td>\n      <td>세종시</td>\n      <td>일반용</td>\n      <td>14,181</td>\n      <td>59,561,962</td>\n    </tr>\n    <tr>\n      <th>3</th>\n      <td>202104</td>\n      <td>세종특별자치시</td>\n      <td>세종시</td>\n      <td>일반용</td>\n      <td>14,269</td>\n      <td>55,830,184</td>\n    </tr>\n    <tr>\n      <th>4</th>\n      <td>202105</td>\n      <td>세종특별자치시</td>\n      <td>세종시</td>\n      <td>일반용</td>\n      <td>14,305</td>\n      <td>54,533,151</td>\n    </tr>\n    <tr>\n      <th>5</th>\n      <td>202106</td>\n      <td>세종특별자치시</td>\n      <td>세종시</td>\n      <td>일반용</td>\n      <td>14,382</td>\n      <td>62,440,905</td>\n    </tr>\n    <tr>\n      <th>6</th>\n      <td>202101-202106</td>\n      <td>세종특별자치시</td>\n      <td>세종시</td>\n      <td>일반용</td>\n      <td>14228</td>\n      <td>375213981</td>\n    </tr>\n  </tbody>\n</table>\n</div>"
     },
     "execution_count": 25,
     "metadata": {},
     "output_type": "execute_result"
    }
   ],
   "source": [
    "GyeonGiHap2 = df_3.copy()\n",
    "GyeonGiHap2.reset_index(drop=True , inplace = True)\n",
    "for i in range(len(SIGUNGU)):\n",
    "    GyeonGiHap2 = GyeonGiHap2.append({'년월' :'202101-202106'  , '시구' : '{}'.format(City) , '시군구' : '{}'.format(SIGUNGU[i]) , '계약구분' : '일반용' , '고객호수(호)' : sum3[i] ,  '사용량(kWh)' : sum2[i]} , ignore_index=True) #년월 파일마다 수정하기\n",
    "GyeonGiHap2"
   ],
   "metadata": {
    "collapsed": false,
    "pycharm": {
     "name": "#%%\n"
    }
   }
  },
  {
   "cell_type": "markdown",
   "source": [
    "### 5. 날짜 체크!!!!!!!!!!!!!!!!!!!!!!!!!!!!!!!!!!!!!!!!!!!!!!!!!!!!"
   ],
   "metadata": {
    "collapsed": false,
    "pycharm": {
     "name": "#%% md\n"
    }
   }
  },
  {
   "cell_type": "code",
   "execution_count": 26,
   "outputs": [
    {
     "data": {
      "text/plain": "              년월       시구  시군구 계약구분 고객호수(호)   사용량(kWh)\n6  202101-202106  세종특별자치시  세종시  일반용   14228  375213981",
      "text/html": "<div>\n<style scoped>\n    .dataframe tbody tr th:only-of-type {\n        vertical-align: middle;\n    }\n\n    .dataframe tbody tr th {\n        vertical-align: top;\n    }\n\n    .dataframe thead th {\n        text-align: right;\n    }\n</style>\n<table border=\"1\" class=\"dataframe\">\n  <thead>\n    <tr style=\"text-align: right;\">\n      <th></th>\n      <th>년월</th>\n      <th>시구</th>\n      <th>시군구</th>\n      <th>계약구분</th>\n      <th>고객호수(호)</th>\n      <th>사용량(kWh)</th>\n    </tr>\n  </thead>\n  <tbody>\n    <tr>\n      <th>6</th>\n      <td>202101-202106</td>\n      <td>세종특별자치시</td>\n      <td>세종시</td>\n      <td>일반용</td>\n      <td>14228</td>\n      <td>375213981</td>\n    </tr>\n  </tbody>\n</table>\n</div>"
     },
     "execution_count": 26,
     "metadata": {},
     "output_type": "execute_result"
    }
   ],
   "source": [
    "GyeonGiHap2 = GyeonGiHap2.loc[GyeonGiHap2['년월'] == '202101-202106']\n",
    "GyeonGiHap2"
   ],
   "metadata": {
    "collapsed": false,
    "pycharm": {
     "name": "#%%\n"
    }
   }
  },
  {
   "cell_type": "code",
   "execution_count": 27,
   "outputs": [
    {
     "data": {
      "text/plain": "              년월       시구  시군구 계약구분 고객호수(호)    사용량(kWh)\n6  202101-202106  세종특별자치시  세종시  일반용   14228   375213981\n6  202101-202106  세종특별자치시  세종시   합계   17008  1789785531",
      "text/html": "<div>\n<style scoped>\n    .dataframe tbody tr th:only-of-type {\n        vertical-align: middle;\n    }\n\n    .dataframe tbody tr th {\n        vertical-align: top;\n    }\n\n    .dataframe thead th {\n        text-align: right;\n    }\n</style>\n<table border=\"1\" class=\"dataframe\">\n  <thead>\n    <tr style=\"text-align: right;\">\n      <th></th>\n      <th>년월</th>\n      <th>시구</th>\n      <th>시군구</th>\n      <th>계약구분</th>\n      <th>고객호수(호)</th>\n      <th>사용량(kWh)</th>\n    </tr>\n  </thead>\n  <tbody>\n    <tr>\n      <th>6</th>\n      <td>202101-202106</td>\n      <td>세종특별자치시</td>\n      <td>세종시</td>\n      <td>일반용</td>\n      <td>14228</td>\n      <td>375213981</td>\n    </tr>\n    <tr>\n      <th>6</th>\n      <td>202101-202106</td>\n      <td>세종특별자치시</td>\n      <td>세종시</td>\n      <td>합계</td>\n      <td>17008</td>\n      <td>1789785531</td>\n    </tr>\n  </tbody>\n</table>\n</div>"
     },
     "execution_count": 27,
     "metadata": {},
     "output_type": "execute_result"
    }
   ],
   "source": [
    "Final = pd.concat([GyeonGiHap2 , Hap])\n",
    "Final = Final.sort_values('시군구')\n",
    "Final"
   ],
   "metadata": {
    "collapsed": false,
    "pycharm": {
     "name": "#%%\n"
    }
   }
  },
  {
   "cell_type": "code",
   "execution_count": 28,
   "outputs": [
    {
     "data": {
      "text/plain": "[375213981]"
     },
     "execution_count": 28,
     "metadata": {},
     "output_type": "execute_result"
    }
   ],
   "source": [
    "# Final['일반용 전기의 비율'] = (Final['사용량(kWh)'].loc[Final['계약구분'] == '일반용']) // (Final['사용량(kWh)'].loc[Final['계약구분'] == '합계'])\n",
    "# Final\n",
    "ex = (Final['사용량(kWh)'].loc[Final['계약구분'] == '일반용']).tolist()\n",
    "\n",
    "\n",
    "ex\n"
   ],
   "metadata": {
    "collapsed": false,
    "pycharm": {
     "name": "#%%\n"
    }
   }
  },
  {
   "cell_type": "code",
   "execution_count": 29,
   "outputs": [
    {
     "data": {
      "text/plain": "[1789785531]"
     },
     "execution_count": 29,
     "metadata": {},
     "output_type": "execute_result"
    }
   ],
   "source": [
    "ex_2 =(Final['사용량(kWh)'].loc[Final['계약구분'] == '합계']).tolist()\n",
    "ex_2"
   ],
   "metadata": {
    "collapsed": false,
    "pycharm": {
     "name": "#%%\n"
    }
   }
  },
  {
   "cell_type": "code",
   "execution_count": 30,
   "outputs": [
    {
     "name": "stdout",
     "output_type": "stream",
     "text": [
      "[20.96]\n"
     ]
    }
   ],
   "source": [
    "Rate = []\n",
    "ilban = []\n",
    "rae = 0\n",
    "for i in range(len(ex)):\n",
    "    rae = round(ex[i] / ex_2[i] *100 ,2)\n",
    "    Rate.append(rae)\n",
    "print(Rate)"
   ],
   "metadata": {
    "collapsed": false,
    "pycharm": {
     "name": "#%%\n"
    }
   }
  },
  {
   "cell_type": "code",
   "execution_count": 31,
   "outputs": [
    {
     "data": {
      "text/plain": "0   21\ndtype: float64"
     },
     "execution_count": 31,
     "metadata": {},
     "output_type": "execute_result"
    }
   ],
   "source": [
    "Rate3 = pd.Series(Rate)\n",
    "Rate3\n",
    "\n",
    "# Final = pd.concat([Final , Rate3])\n",
    "# Final"
   ],
   "metadata": {
    "collapsed": false,
    "pycharm": {
     "name": "#%%\n"
    }
   }
  },
  {
   "cell_type": "code",
   "execution_count": 32,
   "outputs": [
    {
     "data": {
      "text/plain": "   시군구 계약구분  비율\n0  세종시  일반용  21",
      "text/html": "<div>\n<style scoped>\n    .dataframe tbody tr th:only-of-type {\n        vertical-align: middle;\n    }\n\n    .dataframe tbody tr th {\n        vertical-align: top;\n    }\n\n    .dataframe thead th {\n        text-align: right;\n    }\n</style>\n<table border=\"1\" class=\"dataframe\">\n  <thead>\n    <tr style=\"text-align: right;\">\n      <th></th>\n      <th>시군구</th>\n      <th>계약구분</th>\n      <th>비율</th>\n    </tr>\n  </thead>\n  <tbody>\n    <tr>\n      <th>0</th>\n      <td>세종시</td>\n      <td>일반용</td>\n      <td>21</td>\n    </tr>\n  </tbody>\n</table>\n</div>"
     },
     "execution_count": 32,
     "metadata": {},
     "output_type": "execute_result"
    }
   ],
   "source": [
    "for j in range(len(Rate)):\n",
    "    ilban.append('일반용')\n",
    "#print(Rate)\n",
    "\n",
    "Rate2 = pd.DataFrame()\n",
    "Rate2['시군구'] = pd.DataFrame(SIGUNGU)\n",
    "Rate2['계약구분'] = pd.DataFrame(ilban)\n",
    "Rate2['비율'] = pd.DataFrame(Rate)\n",
    "Rate2\n",
    "#print(Rate2.dtypes)"
   ],
   "metadata": {
    "collapsed": false,
    "pycharm": {
     "name": "#%%\n"
    }
   }
  },
  {
   "cell_type": "code",
   "execution_count": 33,
   "outputs": [
    {
     "data": {
      "text/plain": "              년월       시구  시군구 계약구분 고객호수(호)    사용량(kWh)  비율\n0  202101-202106  세종특별자치시  세종시  일반용   14228   375213981  21\n1  202101-202106  세종특별자치시  세종시   합계   17008  1789785531 NaN",
      "text/html": "<div>\n<style scoped>\n    .dataframe tbody tr th:only-of-type {\n        vertical-align: middle;\n    }\n\n    .dataframe tbody tr th {\n        vertical-align: top;\n    }\n\n    .dataframe thead th {\n        text-align: right;\n    }\n</style>\n<table border=\"1\" class=\"dataframe\">\n  <thead>\n    <tr style=\"text-align: right;\">\n      <th></th>\n      <th>년월</th>\n      <th>시구</th>\n      <th>시군구</th>\n      <th>계약구분</th>\n      <th>고객호수(호)</th>\n      <th>사용량(kWh)</th>\n      <th>비율</th>\n    </tr>\n  </thead>\n  <tbody>\n    <tr>\n      <th>0</th>\n      <td>202101-202106</td>\n      <td>세종특별자치시</td>\n      <td>세종시</td>\n      <td>일반용</td>\n      <td>14228</td>\n      <td>375213981</td>\n      <td>21</td>\n    </tr>\n    <tr>\n      <th>1</th>\n      <td>202101-202106</td>\n      <td>세종특별자치시</td>\n      <td>세종시</td>\n      <td>합계</td>\n      <td>17008</td>\n      <td>1789785531</td>\n      <td>NaN</td>\n    </tr>\n  </tbody>\n</table>\n</div>"
     },
     "execution_count": 33,
     "metadata": {},
     "output_type": "execute_result"
    }
   ],
   "source": [
    "Final = pd.merge(Final , Rate2, on=['시군구', '계약구분'] , how='left')\n",
    "\n",
    "#Final.drop(['비율_y]' , axis = 1 , inplace = True)\n",
    "#Final.rename(columns={'비율_y':'전체 계약종별 전력사용량 대비 일반용 사용량 비율'})\n",
    "Final = Final.sort_values(['시군구' , '계약구분'])\n",
    "Final"
   ],
   "metadata": {
    "collapsed": false,
    "pycharm": {
     "name": "#%%\n"
    }
   }
  },
  {
   "cell_type": "code",
   "execution_count": 34,
   "outputs": [],
   "source": [
    "# Final['일반용 전기의 비율'] = Final.append(Rate)\n",
    "# Final"
   ],
   "metadata": {
    "collapsed": false,
    "pycharm": {
     "name": "#%%\n"
    }
   }
  },
  {
   "cell_type": "markdown",
   "source": [
    "### 6. 날짜 체크!!!!!!!!!!!!!!!!!!!!1"
   ],
   "metadata": {
    "collapsed": false,
    "pycharm": {
     "name": "#%% md\n"
    }
   }
  },
  {
   "cell_type": "code",
   "execution_count": 35,
   "outputs": [],
   "source": [
    "Final.to_csv(\"{}_일반용_전력사용량_2101-06.csv\".format(City) , mode = 'w' , encoding= 'cp949' , index =False) #파일명 수정"
   ],
   "metadata": {
    "collapsed": false,
    "pycharm": {
     "name": "#%%\n"
    }
   }
  },
  {
   "cell_type": "code",
   "execution_count": 35,
   "outputs": [],
   "source": [],
   "metadata": {
    "collapsed": false,
    "pycharm": {
     "name": "#%%\n"
    }
   }
  },
  {
   "cell_type": "code",
   "execution_count": 36,
   "outputs": [],
   "source": [
    "# Sigu = list(set(df_3['시군구'].tolist()))\n",
    "#\n",
    "# Sigu.sort()\n",
    "#\n",
    "# Sigu"
   ],
   "metadata": {
    "collapsed": false,
    "pycharm": {
     "name": "#%%\n"
    }
   }
  },
  {
   "cell_type": "code",
   "execution_count": 37,
   "outputs": [],
   "source": [
    "# YearMonth = list(set(df_3['년월'].tolist()))\n",
    "#\n",
    "# YearMonth.sort()\n",
    "# YearMonth"
   ],
   "metadata": {
    "collapsed": false,
    "pycharm": {
     "name": "#%%\n"
    }
   }
  },
  {
   "cell_type": "code",
   "execution_count": 38,
   "outputs": [],
   "source": [
    "# Gayeak = list(set(df_3['계약구분'].tolist()))\n",
    "#\n",
    "# Gayeak.sort()\n",
    "# Gayeak"
   ],
   "metadata": {
    "collapsed": false,
    "pycharm": {
     "name": "#%%\n"
    }
   }
  },
  {
   "cell_type": "code",
   "execution_count": 39,
   "outputs": [],
   "source": [
    "# SEOUL = df_3.loc[(df_3['계약구분'] =='일반용')]\n",
    "# SEOUL.drop(['고객호수(호)' ,'전기요금(원)' , '평균판매단가(원/kWh)'] , axis = 1 , inplace = True)\n",
    "# #SEOUL.dtypes(['사용량(kWh)'])\n",
    "# SEOUL"
   ],
   "metadata": {
    "collapsed": false,
    "pycharm": {
     "name": "#%%\n"
    }
   }
  },
  {
   "cell_type": "code",
   "execution_count": 40,
   "outputs": [],
   "source": [
    "#SEOUL.to_csv(\"서울특별시_일반용_전력사용량.csv\" , mode = 'w' , encoding= 'cp949')"
   ],
   "metadata": {
    "collapsed": false,
    "pycharm": {
     "name": "#%%\n"
    }
   }
  },
  {
   "cell_type": "code",
   "execution_count": 41,
   "outputs": [],
   "source": [
    "# print(SEOUL.dtypes)\n",
    "# SEOUL = SEOUL.astype({'사용량(kWh)' : 'float'})"
   ],
   "metadata": {
    "collapsed": false,
    "pycharm": {
     "name": "#%%\n"
    }
   }
  },
  {
   "cell_type": "code",
   "execution_count": 42,
   "outputs": [],
   "source": [
    "# SEOUL"
   ],
   "metadata": {
    "collapsed": false,
    "pycharm": {
     "name": "#%%\n"
    }
   }
  },
  {
   "cell_type": "code",
   "execution_count": 43,
   "outputs": [],
   "source": [
    "# a = SEOUL['사용량(kWh)'].tolist()\n",
    "# int_list = map(int, a)\n",
    "# b=0\n",
    "# for i in int_list:\n",
    "#     b+=i\n",
    "#\n",
    "# print(b)"
   ],
   "metadata": {
    "collapsed": false,
    "pycharm": {
     "name": "#%%\n"
    }
   }
  },
  {
   "cell_type": "code",
   "execution_count": 43,
   "outputs": [],
   "source": [],
   "metadata": {
    "collapsed": false,
    "pycharm": {
     "name": "#%%\n"
    }
   }
  },
  {
   "cell_type": "code",
   "execution_count": 43,
   "outputs": [],
   "source": [],
   "metadata": {
    "collapsed": false,
    "pycharm": {
     "name": "#%%\n"
    }
   }
  },
  {
   "cell_type": "code",
   "execution_count": 43,
   "outputs": [],
   "source": [],
   "metadata": {
    "collapsed": false,
    "pycharm": {
     "name": "#%%\n"
    }
   }
  },
  {
   "cell_type": "code",
   "execution_count": 43,
   "outputs": [],
   "source": [],
   "metadata": {
    "collapsed": false,
    "pycharm": {
     "name": "#%%\n"
    }
   }
  },
  {
   "cell_type": "code",
   "execution_count": 43,
   "outputs": [],
   "source": [],
   "metadata": {
    "collapsed": false,
    "pycharm": {
     "name": "#%%\n"
    }
   }
  },
  {
   "cell_type": "code",
   "execution_count": 43,
   "outputs": [],
   "source": [],
   "metadata": {
    "collapsed": false,
    "pycharm": {
     "name": "#%%\n"
    }
   }
  },
  {
   "cell_type": "code",
   "execution_count": 43,
   "outputs": [],
   "source": [],
   "metadata": {
    "collapsed": false,
    "pycharm": {
     "name": "#%%\n"
    }
   }
  }
 ],
 "metadata": {
  "kernelspec": {
   "display_name": "Python 3",
   "language": "python",
   "name": "python3"
  },
  "language_info": {
   "codemirror_mode": {
    "name": "ipython",
    "version": 2
   },
   "file_extension": ".py",
   "mimetype": "text/x-python",
   "name": "python",
   "nbconvert_exporter": "python",
   "pygments_lexer": "ipython2",
   "version": "2.7.6"
  }
 },
 "nbformat": 4,
 "nbformat_minor": 0
}