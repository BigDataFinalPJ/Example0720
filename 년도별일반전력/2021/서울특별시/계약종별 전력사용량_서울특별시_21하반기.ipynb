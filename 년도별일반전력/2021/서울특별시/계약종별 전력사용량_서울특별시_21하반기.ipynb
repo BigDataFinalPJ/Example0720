{
 "cells": [
  {
   "cell_type": "markdown",
   "source": [],
   "metadata": {
    "collapsed": false,
    "pycharm": {
     "name": "#%% md\n"
    }
   }
  },
  {
   "cell_type": "code",
   "execution_count": 1,
   "outputs": [],
   "source": [
    "import pandas as pd\n",
    "import re\n",
    "\n",
    "pd.options.display.float_format = '{:.0f}'.format"
   ],
   "metadata": {
    "collapsed": false,
    "pycharm": {
     "name": "#%%\n"
    }
   }
  },
  {
   "cell_type": "markdown",
   "source": [
    "### 1. 꼭 read_csv 21상반기, 19하반기와 같이 맞추어 주세요!!! 또한 지역(전라북도, 남도) 맞추기!!!!!"
   ],
   "metadata": {
    "collapsed": false,
    "pycharm": {
     "name": "#%% md\n"
    }
   }
  },
  {
   "cell_type": "code",
   "execution_count": 2,
   "outputs": [
    {
     "data": {
      "text/plain": "         계약종별 전력사용량 월별( 20220804 현재 ) Unnamed: 1     Unnamed: 2 Unnamed: 3  \\\n0     시도 : 서울특별시, 시군구 : 전체(시 / 군 / 구)        NaN            NaN        NaN   \n1         기간 : 2021년 07 월 ~ 2021년 12월        NaN            NaN        NaN   \n2                                  년월         시구            시군구       계약구분   \n3                              202107      서울특별시  전체(시 / 군 / 구)        주택용   \n4                              202107      서울특별시  전체(시 / 군 / 구)        일반용   \n...                               ...        ...            ...        ...   \n1237                           202112      서울특별시            중랑구        산업용   \n1238                           202112      서울특별시            중랑구        심 야   \n1239                           202112      서울특별시            중랑구        일반용   \n1240                           202112      서울특별시            중랑구        주택용   \n1241                           202112      서울특별시            중랑구         합계   \n\n      Unnamed: 4      Unnamed: 5        Unnamed: 6     Unnamed: 7  \n0            NaN             NaN               NaN            NaN  \n1            NaN             NaN               NaN            NaN  \n2        고객호수(호)        사용량(kWh)           전기요금(원)  평균판매단가(원/kWh)  \n3     2,880,812   1,391,209,916   161,420,259,249          116.0   \n4       547,647   2,339,594,127   331,367,781,395          141.6   \n...          ...             ...               ...            ...  \n1237      2,602       6,118,503       760,552,909          124.3   \n1238        362         312,368        25,000,839             80   \n1239     20,474      38,803,403     5,456,174,590          140.6   \n1240    141,548      44,445,464     4,811,999,712          108.3   \n1241    175,829      94,096,564    11,493,428,766          122.1   \n\n[1242 rows x 8 columns]",
      "text/html": "<div>\n<style scoped>\n    .dataframe tbody tr th:only-of-type {\n        vertical-align: middle;\n    }\n\n    .dataframe tbody tr th {\n        vertical-align: top;\n    }\n\n    .dataframe thead th {\n        text-align: right;\n    }\n</style>\n<table border=\"1\" class=\"dataframe\">\n  <thead>\n    <tr style=\"text-align: right;\">\n      <th></th>\n      <th>계약종별 전력사용량 월별( 20220804 현재 )</th>\n      <th>Unnamed: 1</th>\n      <th>Unnamed: 2</th>\n      <th>Unnamed: 3</th>\n      <th>Unnamed: 4</th>\n      <th>Unnamed: 5</th>\n      <th>Unnamed: 6</th>\n      <th>Unnamed: 7</th>\n    </tr>\n  </thead>\n  <tbody>\n    <tr>\n      <th>0</th>\n      <td>시도 : 서울특별시, 시군구 : 전체(시 / 군 / 구)</td>\n      <td>NaN</td>\n      <td>NaN</td>\n      <td>NaN</td>\n      <td>NaN</td>\n      <td>NaN</td>\n      <td>NaN</td>\n      <td>NaN</td>\n    </tr>\n    <tr>\n      <th>1</th>\n      <td>기간 : 2021년 07 월 ~ 2021년 12월</td>\n      <td>NaN</td>\n      <td>NaN</td>\n      <td>NaN</td>\n      <td>NaN</td>\n      <td>NaN</td>\n      <td>NaN</td>\n      <td>NaN</td>\n    </tr>\n    <tr>\n      <th>2</th>\n      <td>년월</td>\n      <td>시구</td>\n      <td>시군구</td>\n      <td>계약구분</td>\n      <td>고객호수(호)</td>\n      <td>사용량(kWh)</td>\n      <td>전기요금(원)</td>\n      <td>평균판매단가(원/kWh)</td>\n    </tr>\n    <tr>\n      <th>3</th>\n      <td>202107</td>\n      <td>서울특별시</td>\n      <td>전체(시 / 군 / 구)</td>\n      <td>주택용</td>\n      <td>2,880,812</td>\n      <td>1,391,209,916</td>\n      <td>161,420,259,249</td>\n      <td>116.0</td>\n    </tr>\n    <tr>\n      <th>4</th>\n      <td>202107</td>\n      <td>서울특별시</td>\n      <td>전체(시 / 군 / 구)</td>\n      <td>일반용</td>\n      <td>547,647</td>\n      <td>2,339,594,127</td>\n      <td>331,367,781,395</td>\n      <td>141.6</td>\n    </tr>\n    <tr>\n      <th>...</th>\n      <td>...</td>\n      <td>...</td>\n      <td>...</td>\n      <td>...</td>\n      <td>...</td>\n      <td>...</td>\n      <td>...</td>\n      <td>...</td>\n    </tr>\n    <tr>\n      <th>1237</th>\n      <td>202112</td>\n      <td>서울특별시</td>\n      <td>중랑구</td>\n      <td>산업용</td>\n      <td>2,602</td>\n      <td>6,118,503</td>\n      <td>760,552,909</td>\n      <td>124.3</td>\n    </tr>\n    <tr>\n      <th>1238</th>\n      <td>202112</td>\n      <td>서울특별시</td>\n      <td>중랑구</td>\n      <td>심 야</td>\n      <td>362</td>\n      <td>312,368</td>\n      <td>25,000,839</td>\n      <td>80</td>\n    </tr>\n    <tr>\n      <th>1239</th>\n      <td>202112</td>\n      <td>서울특별시</td>\n      <td>중랑구</td>\n      <td>일반용</td>\n      <td>20,474</td>\n      <td>38,803,403</td>\n      <td>5,456,174,590</td>\n      <td>140.6</td>\n    </tr>\n    <tr>\n      <th>1240</th>\n      <td>202112</td>\n      <td>서울특별시</td>\n      <td>중랑구</td>\n      <td>주택용</td>\n      <td>141,548</td>\n      <td>44,445,464</td>\n      <td>4,811,999,712</td>\n      <td>108.3</td>\n    </tr>\n    <tr>\n      <th>1241</th>\n      <td>202112</td>\n      <td>서울특별시</td>\n      <td>중랑구</td>\n      <td>합계</td>\n      <td>175,829</td>\n      <td>94,096,564</td>\n      <td>11,493,428,766</td>\n      <td>122.1</td>\n    </tr>\n  </tbody>\n</table>\n<p>1242 rows × 8 columns</p>\n</div>"
     },
     "execution_count": 2,
     "metadata": {},
     "output_type": "execute_result"
    }
   ],
   "source": [
    "df = pd.read_csv('서울특별시_계약종별_전력사용량_월별_21하반기.csv' , encoding='cp949')\n",
    "\n",
    "df\n",
    "#exchng=  pd.read_csv('지역별_전력거래량_20220803093050.csv' , encoding='cp949')"
   ],
   "metadata": {
    "collapsed": false,
    "pycharm": {
     "name": "#%%\n"
    }
   }
  },
  {
   "cell_type": "code",
   "execution_count": 3,
   "outputs": [
    {
     "data": {
      "text/plain": "     계약종별 전력사용량 월별( 20220804 현재 ) Unnamed: 1     Unnamed: 2 Unnamed: 3  \\\n2                              년월         시구            시군구       계약구분   \n3                          202107      서울특별시  전체(시 / 군 / 구)        주택용   \n4                          202107      서울특별시  전체(시 / 군 / 구)        일반용   \n5                          202107      서울특별시  전체(시 / 군 / 구)        교육용   \n6                          202107      서울특별시  전체(시 / 군 / 구)        산업용   \n...                           ...        ...            ...        ...   \n1237                       202112      서울특별시            중랑구        산업용   \n1238                       202112      서울특별시            중랑구        심 야   \n1239                       202112      서울특별시            중랑구        일반용   \n1240                       202112      서울특별시            중랑구        주택용   \n1241                       202112      서울특별시            중랑구         합계   \n\n      Unnamed: 4      Unnamed: 5        Unnamed: 6     Unnamed: 7  \n2        고객호수(호)        사용량(kWh)           전기요금(원)  평균판매단가(원/kWh)  \n3     2,880,812   1,391,209,916   161,420,259,249          116.0   \n4       547,647   2,339,594,127   331,367,781,395          141.6   \n5         2,607     143,020,516    16,025,213,515          112.0   \n6        43,525     438,177,238    56,055,820,515          127.9   \n...          ...             ...               ...            ...  \n1237      2,602       6,118,503       760,552,909          124.3   \n1238        362         312,368        25,000,839             80   \n1239     20,474      38,803,403     5,456,174,590          140.6   \n1240    141,548      44,445,464     4,811,999,712          108.3   \n1241    175,829      94,096,564    11,493,428,766          122.1   \n\n[1239 rows x 8 columns]",
      "text/html": "<div>\n<style scoped>\n    .dataframe tbody tr th:only-of-type {\n        vertical-align: middle;\n    }\n\n    .dataframe tbody tr th {\n        vertical-align: top;\n    }\n\n    .dataframe thead th {\n        text-align: right;\n    }\n</style>\n<table border=\"1\" class=\"dataframe\">\n  <thead>\n    <tr style=\"text-align: right;\">\n      <th></th>\n      <th>계약종별 전력사용량 월별( 20220804 현재 )</th>\n      <th>Unnamed: 1</th>\n      <th>Unnamed: 2</th>\n      <th>Unnamed: 3</th>\n      <th>Unnamed: 4</th>\n      <th>Unnamed: 5</th>\n      <th>Unnamed: 6</th>\n      <th>Unnamed: 7</th>\n    </tr>\n  </thead>\n  <tbody>\n    <tr>\n      <th>2</th>\n      <td>년월</td>\n      <td>시구</td>\n      <td>시군구</td>\n      <td>계약구분</td>\n      <td>고객호수(호)</td>\n      <td>사용량(kWh)</td>\n      <td>전기요금(원)</td>\n      <td>평균판매단가(원/kWh)</td>\n    </tr>\n    <tr>\n      <th>3</th>\n      <td>202107</td>\n      <td>서울특별시</td>\n      <td>전체(시 / 군 / 구)</td>\n      <td>주택용</td>\n      <td>2,880,812</td>\n      <td>1,391,209,916</td>\n      <td>161,420,259,249</td>\n      <td>116.0</td>\n    </tr>\n    <tr>\n      <th>4</th>\n      <td>202107</td>\n      <td>서울특별시</td>\n      <td>전체(시 / 군 / 구)</td>\n      <td>일반용</td>\n      <td>547,647</td>\n      <td>2,339,594,127</td>\n      <td>331,367,781,395</td>\n      <td>141.6</td>\n    </tr>\n    <tr>\n      <th>5</th>\n      <td>202107</td>\n      <td>서울특별시</td>\n      <td>전체(시 / 군 / 구)</td>\n      <td>교육용</td>\n      <td>2,607</td>\n      <td>143,020,516</td>\n      <td>16,025,213,515</td>\n      <td>112.0</td>\n    </tr>\n    <tr>\n      <th>6</th>\n      <td>202107</td>\n      <td>서울특별시</td>\n      <td>전체(시 / 군 / 구)</td>\n      <td>산업용</td>\n      <td>43,525</td>\n      <td>438,177,238</td>\n      <td>56,055,820,515</td>\n      <td>127.9</td>\n    </tr>\n    <tr>\n      <th>...</th>\n      <td>...</td>\n      <td>...</td>\n      <td>...</td>\n      <td>...</td>\n      <td>...</td>\n      <td>...</td>\n      <td>...</td>\n      <td>...</td>\n    </tr>\n    <tr>\n      <th>1237</th>\n      <td>202112</td>\n      <td>서울특별시</td>\n      <td>중랑구</td>\n      <td>산업용</td>\n      <td>2,602</td>\n      <td>6,118,503</td>\n      <td>760,552,909</td>\n      <td>124.3</td>\n    </tr>\n    <tr>\n      <th>1238</th>\n      <td>202112</td>\n      <td>서울특별시</td>\n      <td>중랑구</td>\n      <td>심 야</td>\n      <td>362</td>\n      <td>312,368</td>\n      <td>25,000,839</td>\n      <td>80</td>\n    </tr>\n    <tr>\n      <th>1239</th>\n      <td>202112</td>\n      <td>서울특별시</td>\n      <td>중랑구</td>\n      <td>일반용</td>\n      <td>20,474</td>\n      <td>38,803,403</td>\n      <td>5,456,174,590</td>\n      <td>140.6</td>\n    </tr>\n    <tr>\n      <th>1240</th>\n      <td>202112</td>\n      <td>서울특별시</td>\n      <td>중랑구</td>\n      <td>주택용</td>\n      <td>141,548</td>\n      <td>44,445,464</td>\n      <td>4,811,999,712</td>\n      <td>108.3</td>\n    </tr>\n    <tr>\n      <th>1241</th>\n      <td>202112</td>\n      <td>서울특별시</td>\n      <td>중랑구</td>\n      <td>합계</td>\n      <td>175,829</td>\n      <td>94,096,564</td>\n      <td>11,493,428,766</td>\n      <td>122.1</td>\n    </tr>\n  </tbody>\n</table>\n<p>1239 rows × 8 columns</p>\n</div>"
     },
     "execution_count": 3,
     "metadata": {},
     "output_type": "execute_result"
    }
   ],
   "source": [
    "df = df.drop([0,1 , 46] , axis = 0)\n",
    "#0,1 , 10은 지우는게 맞다\n",
    "df"
   ],
   "metadata": {
    "collapsed": false,
    "pycharm": {
     "name": "#%%\n"
    }
   }
  },
  {
   "cell_type": "code",
   "execution_count": 4,
   "outputs": [],
   "source": [
    "a= df.loc[2].tolist()\n",
    "a\n",
    "df = df.drop([2] , axis = 0)"
   ],
   "metadata": {
    "collapsed": false,
    "pycharm": {
     "name": "#%%\n"
    }
   }
  },
  {
   "cell_type": "code",
   "execution_count": 5,
   "outputs": [
    {
     "data": {
      "text/plain": "          년월     시구            시군구 계약구분     고객호수(호)        사용량(kWh)  \\\n3     202107  서울특별시  전체(시 / 군 / 구)  주택용  2,880,812   1,391,209,916    \n4     202107  서울특별시  전체(시 / 군 / 구)  일반용    547,647   2,339,594,127    \n5     202107  서울특별시  전체(시 / 군 / 구)  교육용      2,607     143,020,516    \n6     202107  서울특별시  전체(시 / 군 / 구)  산업용     43,525     438,177,238    \n7     202107  서울특별시  전체(시 / 군 / 구)  농사용      1,948       1,726,274    \n...      ...    ...            ...  ...         ...             ...   \n1237  202112  서울특별시            중랑구  산업용      2,602       6,118,503    \n1238  202112  서울특별시            중랑구  심 야        362         312,368    \n1239  202112  서울특별시            중랑구  일반용     20,474      38,803,403    \n1240  202112  서울특별시            중랑구  주택용    141,548      44,445,464    \n1241  202112  서울특별시            중랑구   합계    175,829      94,096,564    \n\n               전기요금(원) 평균판매단가(원/kWh)  \n3     161,420,259,249         116.0   \n4     331,367,781,395         141.6   \n5      16,025,213,515         112.0   \n6      56,055,820,515         127.9   \n7          81,426,911          47.2   \n...                ...           ...  \n1237      760,552,909         124.3   \n1238       25,000,839            80   \n1239    5,456,174,590         140.6   \n1240    4,811,999,712         108.3   \n1241   11,493,428,766         122.1   \n\n[1238 rows x 8 columns]",
      "text/html": "<div>\n<style scoped>\n    .dataframe tbody tr th:only-of-type {\n        vertical-align: middle;\n    }\n\n    .dataframe tbody tr th {\n        vertical-align: top;\n    }\n\n    .dataframe thead th {\n        text-align: right;\n    }\n</style>\n<table border=\"1\" class=\"dataframe\">\n  <thead>\n    <tr style=\"text-align: right;\">\n      <th></th>\n      <th>년월</th>\n      <th>시구</th>\n      <th>시군구</th>\n      <th>계약구분</th>\n      <th>고객호수(호)</th>\n      <th>사용량(kWh)</th>\n      <th>전기요금(원)</th>\n      <th>평균판매단가(원/kWh)</th>\n    </tr>\n  </thead>\n  <tbody>\n    <tr>\n      <th>3</th>\n      <td>202107</td>\n      <td>서울특별시</td>\n      <td>전체(시 / 군 / 구)</td>\n      <td>주택용</td>\n      <td>2,880,812</td>\n      <td>1,391,209,916</td>\n      <td>161,420,259,249</td>\n      <td>116.0</td>\n    </tr>\n    <tr>\n      <th>4</th>\n      <td>202107</td>\n      <td>서울특별시</td>\n      <td>전체(시 / 군 / 구)</td>\n      <td>일반용</td>\n      <td>547,647</td>\n      <td>2,339,594,127</td>\n      <td>331,367,781,395</td>\n      <td>141.6</td>\n    </tr>\n    <tr>\n      <th>5</th>\n      <td>202107</td>\n      <td>서울특별시</td>\n      <td>전체(시 / 군 / 구)</td>\n      <td>교육용</td>\n      <td>2,607</td>\n      <td>143,020,516</td>\n      <td>16,025,213,515</td>\n      <td>112.0</td>\n    </tr>\n    <tr>\n      <th>6</th>\n      <td>202107</td>\n      <td>서울특별시</td>\n      <td>전체(시 / 군 / 구)</td>\n      <td>산업용</td>\n      <td>43,525</td>\n      <td>438,177,238</td>\n      <td>56,055,820,515</td>\n      <td>127.9</td>\n    </tr>\n    <tr>\n      <th>7</th>\n      <td>202107</td>\n      <td>서울특별시</td>\n      <td>전체(시 / 군 / 구)</td>\n      <td>농사용</td>\n      <td>1,948</td>\n      <td>1,726,274</td>\n      <td>81,426,911</td>\n      <td>47.2</td>\n    </tr>\n    <tr>\n      <th>...</th>\n      <td>...</td>\n      <td>...</td>\n      <td>...</td>\n      <td>...</td>\n      <td>...</td>\n      <td>...</td>\n      <td>...</td>\n      <td>...</td>\n    </tr>\n    <tr>\n      <th>1237</th>\n      <td>202112</td>\n      <td>서울특별시</td>\n      <td>중랑구</td>\n      <td>산업용</td>\n      <td>2,602</td>\n      <td>6,118,503</td>\n      <td>760,552,909</td>\n      <td>124.3</td>\n    </tr>\n    <tr>\n      <th>1238</th>\n      <td>202112</td>\n      <td>서울특별시</td>\n      <td>중랑구</td>\n      <td>심 야</td>\n      <td>362</td>\n      <td>312,368</td>\n      <td>25,000,839</td>\n      <td>80</td>\n    </tr>\n    <tr>\n      <th>1239</th>\n      <td>202112</td>\n      <td>서울특별시</td>\n      <td>중랑구</td>\n      <td>일반용</td>\n      <td>20,474</td>\n      <td>38,803,403</td>\n      <td>5,456,174,590</td>\n      <td>140.6</td>\n    </tr>\n    <tr>\n      <th>1240</th>\n      <td>202112</td>\n      <td>서울특별시</td>\n      <td>중랑구</td>\n      <td>주택용</td>\n      <td>141,548</td>\n      <td>44,445,464</td>\n      <td>4,811,999,712</td>\n      <td>108.3</td>\n    </tr>\n    <tr>\n      <th>1241</th>\n      <td>202112</td>\n      <td>서울특별시</td>\n      <td>중랑구</td>\n      <td>합계</td>\n      <td>175,829</td>\n      <td>94,096,564</td>\n      <td>11,493,428,766</td>\n      <td>122.1</td>\n    </tr>\n  </tbody>\n</table>\n<p>1238 rows × 8 columns</p>\n</div>"
     },
     "execution_count": 5,
     "metadata": {},
     "output_type": "execute_result"
    }
   ],
   "source": [
    "df.columns = a\n",
    "df"
   ],
   "metadata": {
    "collapsed": false,
    "pycharm": {
     "name": "#%%\n"
    }
   }
  },
  {
   "cell_type": "code",
   "execution_count": 6,
   "outputs": [
    {
     "data": {
      "text/plain": "        년월     시구            시군구 계약구분     고객호수(호)        사용량(kWh)  \\\n3   202107  서울특별시  전체(시 / 군 / 구)  주택용  2,880,812   1,391,209,916    \n4   202107  서울특별시  전체(시 / 군 / 구)  일반용    547,647   2,339,594,127    \n5   202107  서울특별시  전체(시 / 군 / 구)  교육용      2,607     143,020,516    \n6   202107  서울특별시  전체(시 / 군 / 구)  산업용     43,525     438,177,238    \n7   202107  서울특별시  전체(시 / 군 / 구)  농사용      1,948       1,726,274    \n8   202107  서울특별시  전체(시 / 군 / 구)  가로등    217,242      19,431,537    \n9   202107  서울특별시  전체(시 / 군 / 구)  심 야     12,747      73,393,257    \n10  202108  서울특별시  전체(시 / 군 / 구)  주택용  2,880,888   1,844,125,479    \n11  202108  서울특별시  전체(시 / 군 / 구)  일반용    548,712   2,556,403,493    \n12  202108  서울특별시  전체(시 / 군 / 구)  교육용      2,605     135,899,020    \n13  202108  서울특별시  전체(시 / 군 / 구)  산업용     43,474     473,615,046    \n14  202108  서울특별시  전체(시 / 군 / 구)  농사용      1,945       1,959,487    \n15  202108  서울특별시  전체(시 / 군 / 구)  가로등    217,370      20,626,076    \n16  202108  서울특별시  전체(시 / 군 / 구)  심 야     12,642      71,239,002    \n17  202109  서울특별시  전체(시 / 군 / 구)  주택용  2,881,884   1,336,305,520    \n18  202109  서울특별시  전체(시 / 군 / 구)  일반용    549,221   2,172,660,512    \n19  202109  서울특별시  전체(시 / 군 / 구)  교육용      2,601     132,750,580    \n20  202109  서울특별시  전체(시 / 군 / 구)  산업용     43,419     427,580,442    \n21  202109  서울특별시  전체(시 / 군 / 구)  농사용      1,941       1,858,777    \n22  202109  서울특별시  전체(시 / 군 / 구)  가로등    217,743      21,743,799    \n23  202109  서울특별시  전체(시 / 군 / 구)  심 야     12,587      52,183,306    \n24  202110  서울특별시  전체(시 / 군 / 구)  주택용  2,882,199   1,131,012,682    \n25  202110  서울특별시  전체(시 / 군 / 구)  일반용    548,974   1,893,516,333    \n26  202110  서울특별시  전체(시 / 군 / 구)  교육용      2,601     113,694,805    \n27  202110  서울특별시  전체(시 / 군 / 구)  산업용     43,341     386,360,662    \n28  202110  서울특별시  전체(시 / 군 / 구)  농사용      1,948       1,620,021    \n29  202110  서울특별시  전체(시 / 군 / 구)  가로등    220,822      23,297,500    \n30  202110  서울특별시  전체(시 / 군 / 구)  심 야     12,490      29,112,011    \n31  202111  서울특별시  전체(시 / 군 / 구)  주택용  2,883,890   1,126,418,959    \n32  202111  서울특별시  전체(시 / 군 / 구)  일반용    549,819   1,843,687,326    \n33  202111  서울특별시  전체(시 / 군 / 구)  교육용      2,601     130,557,928    \n34  202111  서울특별시  전체(시 / 군 / 구)  산업용     43,248     394,691,984    \n35  202111  서울특별시  전체(시 / 군 / 구)  농사용      2,210       1,798,588    \n36  202111  서울특별시  전체(시 / 군 / 구)  가로등    218,654      25,031,700    \n37  202111  서울특별시  전체(시 / 군 / 구)  심 야     12,415      14,954,600    \n38  202112  서울특별시  전체(시 / 군 / 구)  주택용  2,884,087   1,175,771,327    \n39  202112  서울특별시  전체(시 / 군 / 구)  일반용    551,484   2,146,321,737    \n40  202112  서울특별시  전체(시 / 군 / 구)  교육용      2,601     179,081,029    \n41  202112  서울특별시  전체(시 / 군 / 구)  산업용     43,108     416,503,903    \n42  202112  서울특별시  전체(시 / 군 / 구)  농사용      1,953       1,916,499    \n43  202112  서울특별시  전체(시 / 군 / 구)  가로등    218,332      25,919,131    \n44  202112  서울특별시  전체(시 / 군 / 구)  심 야     12,326      18,185,912    \n45      합계     합계             합계   합계  22,262,663  24,734,958,041   \n\n              전기요금(원) 평균판매단가(원/kWh)  \n3    161,420,259,249         116.0   \n4    331,367,781,395         141.6   \n5     16,025,213,515         112.0   \n6     56,055,820,515         127.9   \n7         81,426,911          47.2   \n8      2,361,022,811         121.5   \n9      5,230,295,955          71.3   \n10   242,649,572,167         131.6   \n11   351,753,199,605         137.6   \n12    15,383,041,040         113.2   \n13    58,460,316,669         123.4   \n14        90,360,196          46.1   \n15     2,413,949,317         117.0   \n16     5,053,415,177          70.9   \n17   146,237,365,340         109.4   \n18   263,214,641,978         121.1   \n19    12,861,386,171          96.9   \n20    46,948,797,835         109.8   \n21        84,677,570          45.6   \n22     2,469,033,311         113.6   \n23     3,594,405,543          68.9   \n24   123,123,317,248         108.9   \n25   216,761,222,005         114.5   \n26    10,217,997,045          89.9   \n27    40,345,929,049         104.4   \n28        81,125,819          50.1   \n29     2,585,332,244         111.0   \n30     2,283,059,635          78.4   \n31   123,714,049,704         109.8   \n32   247,874,167,617         134.4   \n33    13,605,693,413         104.2   \n34    47,902,354,542         121.4   \n35        88,022,204          48.9   \n36     2,713,214,086         108.4   \n37     1,291,855,312          86.4   \n38   133,202,697,743         113.3   \n39   296,476,395,460         138.1   \n40    17,719,070,450          98.9   \n41    52,421,431,594         125.9   \n42        94,775,795          49.5   \n43     2,747,867,845         106.0   \n44     1,573,105,961          86.5   \n45  3,060,578,667,041         123.7  ",
      "text/html": "<div>\n<style scoped>\n    .dataframe tbody tr th:only-of-type {\n        vertical-align: middle;\n    }\n\n    .dataframe tbody tr th {\n        vertical-align: top;\n    }\n\n    .dataframe thead th {\n        text-align: right;\n    }\n</style>\n<table border=\"1\" class=\"dataframe\">\n  <thead>\n    <tr style=\"text-align: right;\">\n      <th></th>\n      <th>년월</th>\n      <th>시구</th>\n      <th>시군구</th>\n      <th>계약구분</th>\n      <th>고객호수(호)</th>\n      <th>사용량(kWh)</th>\n      <th>전기요금(원)</th>\n      <th>평균판매단가(원/kWh)</th>\n    </tr>\n  </thead>\n  <tbody>\n    <tr>\n      <th>3</th>\n      <td>202107</td>\n      <td>서울특별시</td>\n      <td>전체(시 / 군 / 구)</td>\n      <td>주택용</td>\n      <td>2,880,812</td>\n      <td>1,391,209,916</td>\n      <td>161,420,259,249</td>\n      <td>116.0</td>\n    </tr>\n    <tr>\n      <th>4</th>\n      <td>202107</td>\n      <td>서울특별시</td>\n      <td>전체(시 / 군 / 구)</td>\n      <td>일반용</td>\n      <td>547,647</td>\n      <td>2,339,594,127</td>\n      <td>331,367,781,395</td>\n      <td>141.6</td>\n    </tr>\n    <tr>\n      <th>5</th>\n      <td>202107</td>\n      <td>서울특별시</td>\n      <td>전체(시 / 군 / 구)</td>\n      <td>교육용</td>\n      <td>2,607</td>\n      <td>143,020,516</td>\n      <td>16,025,213,515</td>\n      <td>112.0</td>\n    </tr>\n    <tr>\n      <th>6</th>\n      <td>202107</td>\n      <td>서울특별시</td>\n      <td>전체(시 / 군 / 구)</td>\n      <td>산업용</td>\n      <td>43,525</td>\n      <td>438,177,238</td>\n      <td>56,055,820,515</td>\n      <td>127.9</td>\n    </tr>\n    <tr>\n      <th>7</th>\n      <td>202107</td>\n      <td>서울특별시</td>\n      <td>전체(시 / 군 / 구)</td>\n      <td>농사용</td>\n      <td>1,948</td>\n      <td>1,726,274</td>\n      <td>81,426,911</td>\n      <td>47.2</td>\n    </tr>\n    <tr>\n      <th>8</th>\n      <td>202107</td>\n      <td>서울특별시</td>\n      <td>전체(시 / 군 / 구)</td>\n      <td>가로등</td>\n      <td>217,242</td>\n      <td>19,431,537</td>\n      <td>2,361,022,811</td>\n      <td>121.5</td>\n    </tr>\n    <tr>\n      <th>9</th>\n      <td>202107</td>\n      <td>서울특별시</td>\n      <td>전체(시 / 군 / 구)</td>\n      <td>심 야</td>\n      <td>12,747</td>\n      <td>73,393,257</td>\n      <td>5,230,295,955</td>\n      <td>71.3</td>\n    </tr>\n    <tr>\n      <th>10</th>\n      <td>202108</td>\n      <td>서울특별시</td>\n      <td>전체(시 / 군 / 구)</td>\n      <td>주택용</td>\n      <td>2,880,888</td>\n      <td>1,844,125,479</td>\n      <td>242,649,572,167</td>\n      <td>131.6</td>\n    </tr>\n    <tr>\n      <th>11</th>\n      <td>202108</td>\n      <td>서울특별시</td>\n      <td>전체(시 / 군 / 구)</td>\n      <td>일반용</td>\n      <td>548,712</td>\n      <td>2,556,403,493</td>\n      <td>351,753,199,605</td>\n      <td>137.6</td>\n    </tr>\n    <tr>\n      <th>12</th>\n      <td>202108</td>\n      <td>서울특별시</td>\n      <td>전체(시 / 군 / 구)</td>\n      <td>교육용</td>\n      <td>2,605</td>\n      <td>135,899,020</td>\n      <td>15,383,041,040</td>\n      <td>113.2</td>\n    </tr>\n    <tr>\n      <th>13</th>\n      <td>202108</td>\n      <td>서울특별시</td>\n      <td>전체(시 / 군 / 구)</td>\n      <td>산업용</td>\n      <td>43,474</td>\n      <td>473,615,046</td>\n      <td>58,460,316,669</td>\n      <td>123.4</td>\n    </tr>\n    <tr>\n      <th>14</th>\n      <td>202108</td>\n      <td>서울특별시</td>\n      <td>전체(시 / 군 / 구)</td>\n      <td>농사용</td>\n      <td>1,945</td>\n      <td>1,959,487</td>\n      <td>90,360,196</td>\n      <td>46.1</td>\n    </tr>\n    <tr>\n      <th>15</th>\n      <td>202108</td>\n      <td>서울특별시</td>\n      <td>전체(시 / 군 / 구)</td>\n      <td>가로등</td>\n      <td>217,370</td>\n      <td>20,626,076</td>\n      <td>2,413,949,317</td>\n      <td>117.0</td>\n    </tr>\n    <tr>\n      <th>16</th>\n      <td>202108</td>\n      <td>서울특별시</td>\n      <td>전체(시 / 군 / 구)</td>\n      <td>심 야</td>\n      <td>12,642</td>\n      <td>71,239,002</td>\n      <td>5,053,415,177</td>\n      <td>70.9</td>\n    </tr>\n    <tr>\n      <th>17</th>\n      <td>202109</td>\n      <td>서울특별시</td>\n      <td>전체(시 / 군 / 구)</td>\n      <td>주택용</td>\n      <td>2,881,884</td>\n      <td>1,336,305,520</td>\n      <td>146,237,365,340</td>\n      <td>109.4</td>\n    </tr>\n    <tr>\n      <th>18</th>\n      <td>202109</td>\n      <td>서울특별시</td>\n      <td>전체(시 / 군 / 구)</td>\n      <td>일반용</td>\n      <td>549,221</td>\n      <td>2,172,660,512</td>\n      <td>263,214,641,978</td>\n      <td>121.1</td>\n    </tr>\n    <tr>\n      <th>19</th>\n      <td>202109</td>\n      <td>서울특별시</td>\n      <td>전체(시 / 군 / 구)</td>\n      <td>교육용</td>\n      <td>2,601</td>\n      <td>132,750,580</td>\n      <td>12,861,386,171</td>\n      <td>96.9</td>\n    </tr>\n    <tr>\n      <th>20</th>\n      <td>202109</td>\n      <td>서울특별시</td>\n      <td>전체(시 / 군 / 구)</td>\n      <td>산업용</td>\n      <td>43,419</td>\n      <td>427,580,442</td>\n      <td>46,948,797,835</td>\n      <td>109.8</td>\n    </tr>\n    <tr>\n      <th>21</th>\n      <td>202109</td>\n      <td>서울특별시</td>\n      <td>전체(시 / 군 / 구)</td>\n      <td>농사용</td>\n      <td>1,941</td>\n      <td>1,858,777</td>\n      <td>84,677,570</td>\n      <td>45.6</td>\n    </tr>\n    <tr>\n      <th>22</th>\n      <td>202109</td>\n      <td>서울특별시</td>\n      <td>전체(시 / 군 / 구)</td>\n      <td>가로등</td>\n      <td>217,743</td>\n      <td>21,743,799</td>\n      <td>2,469,033,311</td>\n      <td>113.6</td>\n    </tr>\n    <tr>\n      <th>23</th>\n      <td>202109</td>\n      <td>서울특별시</td>\n      <td>전체(시 / 군 / 구)</td>\n      <td>심 야</td>\n      <td>12,587</td>\n      <td>52,183,306</td>\n      <td>3,594,405,543</td>\n      <td>68.9</td>\n    </tr>\n    <tr>\n      <th>24</th>\n      <td>202110</td>\n      <td>서울특별시</td>\n      <td>전체(시 / 군 / 구)</td>\n      <td>주택용</td>\n      <td>2,882,199</td>\n      <td>1,131,012,682</td>\n      <td>123,123,317,248</td>\n      <td>108.9</td>\n    </tr>\n    <tr>\n      <th>25</th>\n      <td>202110</td>\n      <td>서울특별시</td>\n      <td>전체(시 / 군 / 구)</td>\n      <td>일반용</td>\n      <td>548,974</td>\n      <td>1,893,516,333</td>\n      <td>216,761,222,005</td>\n      <td>114.5</td>\n    </tr>\n    <tr>\n      <th>26</th>\n      <td>202110</td>\n      <td>서울특별시</td>\n      <td>전체(시 / 군 / 구)</td>\n      <td>교육용</td>\n      <td>2,601</td>\n      <td>113,694,805</td>\n      <td>10,217,997,045</td>\n      <td>89.9</td>\n    </tr>\n    <tr>\n      <th>27</th>\n      <td>202110</td>\n      <td>서울특별시</td>\n      <td>전체(시 / 군 / 구)</td>\n      <td>산업용</td>\n      <td>43,341</td>\n      <td>386,360,662</td>\n      <td>40,345,929,049</td>\n      <td>104.4</td>\n    </tr>\n    <tr>\n      <th>28</th>\n      <td>202110</td>\n      <td>서울특별시</td>\n      <td>전체(시 / 군 / 구)</td>\n      <td>농사용</td>\n      <td>1,948</td>\n      <td>1,620,021</td>\n      <td>81,125,819</td>\n      <td>50.1</td>\n    </tr>\n    <tr>\n      <th>29</th>\n      <td>202110</td>\n      <td>서울특별시</td>\n      <td>전체(시 / 군 / 구)</td>\n      <td>가로등</td>\n      <td>220,822</td>\n      <td>23,297,500</td>\n      <td>2,585,332,244</td>\n      <td>111.0</td>\n    </tr>\n    <tr>\n      <th>30</th>\n      <td>202110</td>\n      <td>서울특별시</td>\n      <td>전체(시 / 군 / 구)</td>\n      <td>심 야</td>\n      <td>12,490</td>\n      <td>29,112,011</td>\n      <td>2,283,059,635</td>\n      <td>78.4</td>\n    </tr>\n    <tr>\n      <th>31</th>\n      <td>202111</td>\n      <td>서울특별시</td>\n      <td>전체(시 / 군 / 구)</td>\n      <td>주택용</td>\n      <td>2,883,890</td>\n      <td>1,126,418,959</td>\n      <td>123,714,049,704</td>\n      <td>109.8</td>\n    </tr>\n    <tr>\n      <th>32</th>\n      <td>202111</td>\n      <td>서울특별시</td>\n      <td>전체(시 / 군 / 구)</td>\n      <td>일반용</td>\n      <td>549,819</td>\n      <td>1,843,687,326</td>\n      <td>247,874,167,617</td>\n      <td>134.4</td>\n    </tr>\n    <tr>\n      <th>33</th>\n      <td>202111</td>\n      <td>서울특별시</td>\n      <td>전체(시 / 군 / 구)</td>\n      <td>교육용</td>\n      <td>2,601</td>\n      <td>130,557,928</td>\n      <td>13,605,693,413</td>\n      <td>104.2</td>\n    </tr>\n    <tr>\n      <th>34</th>\n      <td>202111</td>\n      <td>서울특별시</td>\n      <td>전체(시 / 군 / 구)</td>\n      <td>산업용</td>\n      <td>43,248</td>\n      <td>394,691,984</td>\n      <td>47,902,354,542</td>\n      <td>121.4</td>\n    </tr>\n    <tr>\n      <th>35</th>\n      <td>202111</td>\n      <td>서울특별시</td>\n      <td>전체(시 / 군 / 구)</td>\n      <td>농사용</td>\n      <td>2,210</td>\n      <td>1,798,588</td>\n      <td>88,022,204</td>\n      <td>48.9</td>\n    </tr>\n    <tr>\n      <th>36</th>\n      <td>202111</td>\n      <td>서울특별시</td>\n      <td>전체(시 / 군 / 구)</td>\n      <td>가로등</td>\n      <td>218,654</td>\n      <td>25,031,700</td>\n      <td>2,713,214,086</td>\n      <td>108.4</td>\n    </tr>\n    <tr>\n      <th>37</th>\n      <td>202111</td>\n      <td>서울특별시</td>\n      <td>전체(시 / 군 / 구)</td>\n      <td>심 야</td>\n      <td>12,415</td>\n      <td>14,954,600</td>\n      <td>1,291,855,312</td>\n      <td>86.4</td>\n    </tr>\n    <tr>\n      <th>38</th>\n      <td>202112</td>\n      <td>서울특별시</td>\n      <td>전체(시 / 군 / 구)</td>\n      <td>주택용</td>\n      <td>2,884,087</td>\n      <td>1,175,771,327</td>\n      <td>133,202,697,743</td>\n      <td>113.3</td>\n    </tr>\n    <tr>\n      <th>39</th>\n      <td>202112</td>\n      <td>서울특별시</td>\n      <td>전체(시 / 군 / 구)</td>\n      <td>일반용</td>\n      <td>551,484</td>\n      <td>2,146,321,737</td>\n      <td>296,476,395,460</td>\n      <td>138.1</td>\n    </tr>\n    <tr>\n      <th>40</th>\n      <td>202112</td>\n      <td>서울특별시</td>\n      <td>전체(시 / 군 / 구)</td>\n      <td>교육용</td>\n      <td>2,601</td>\n      <td>179,081,029</td>\n      <td>17,719,070,450</td>\n      <td>98.9</td>\n    </tr>\n    <tr>\n      <th>41</th>\n      <td>202112</td>\n      <td>서울특별시</td>\n      <td>전체(시 / 군 / 구)</td>\n      <td>산업용</td>\n      <td>43,108</td>\n      <td>416,503,903</td>\n      <td>52,421,431,594</td>\n      <td>125.9</td>\n    </tr>\n    <tr>\n      <th>42</th>\n      <td>202112</td>\n      <td>서울특별시</td>\n      <td>전체(시 / 군 / 구)</td>\n      <td>농사용</td>\n      <td>1,953</td>\n      <td>1,916,499</td>\n      <td>94,775,795</td>\n      <td>49.5</td>\n    </tr>\n    <tr>\n      <th>43</th>\n      <td>202112</td>\n      <td>서울특별시</td>\n      <td>전체(시 / 군 / 구)</td>\n      <td>가로등</td>\n      <td>218,332</td>\n      <td>25,919,131</td>\n      <td>2,747,867,845</td>\n      <td>106.0</td>\n    </tr>\n    <tr>\n      <th>44</th>\n      <td>202112</td>\n      <td>서울특별시</td>\n      <td>전체(시 / 군 / 구)</td>\n      <td>심 야</td>\n      <td>12,326</td>\n      <td>18,185,912</td>\n      <td>1,573,105,961</td>\n      <td>86.5</td>\n    </tr>\n    <tr>\n      <th>45</th>\n      <td>합계</td>\n      <td>합계</td>\n      <td>합계</td>\n      <td>합계</td>\n      <td>22,262,663</td>\n      <td>24,734,958,041</td>\n      <td>3,060,578,667,041</td>\n      <td>123.7</td>\n    </tr>\n  </tbody>\n</table>\n</div>"
     },
     "execution_count": 6,
     "metadata": {},
     "output_type": "execute_result"
    }
   ],
   "source": [
    "df_2 = df.loc[:45]\n",
    "df_2\n"
   ],
   "metadata": {
    "collapsed": false,
    "pycharm": {
     "name": "#%%\n"
    }
   }
  },
  {
   "cell_type": "code",
   "execution_count": 7,
   "outputs": [
    {
     "name": "stderr",
     "output_type": "stream",
     "text": [
      "C:\\Users\\user\\AppData\\Local\\Temp\\ipykernel_23136\\3551721261.py:3: SettingWithCopyWarning: \n",
      "A value is trying to be set on a copy of a slice from a DataFrame\n",
      "\n",
      "See the caveats in the documentation: https://pandas.pydata.org/pandas-docs/stable/user_guide/indexing.html#returning-a-view-versus-a-copy\n",
      "  GyeonGi.drop(['시군구' , '전기요금(원)' , '평균판매단가(원/kWh)'] , axis = 1 , inplace = True)\n"
     ]
    },
    {
     "data": {
      "text/plain": "        년월     시구 계약구분   고객호수(호)        사용량(kWh)\n4   202107  서울특별시  일반용  547,647   2,339,594,127 \n11  202108  서울특별시  일반용  548,712   2,556,403,493 \n18  202109  서울특별시  일반용  549,221   2,172,660,512 \n25  202110  서울특별시  일반용  548,974   1,893,516,333 \n32  202111  서울특별시  일반용  549,819   1,843,687,326 \n39  202112  서울특별시  일반용  551,484   2,146,321,737 ",
      "text/html": "<div>\n<style scoped>\n    .dataframe tbody tr th:only-of-type {\n        vertical-align: middle;\n    }\n\n    .dataframe tbody tr th {\n        vertical-align: top;\n    }\n\n    .dataframe thead th {\n        text-align: right;\n    }\n</style>\n<table border=\"1\" class=\"dataframe\">\n  <thead>\n    <tr style=\"text-align: right;\">\n      <th></th>\n      <th>년월</th>\n      <th>시구</th>\n      <th>계약구분</th>\n      <th>고객호수(호)</th>\n      <th>사용량(kWh)</th>\n    </tr>\n  </thead>\n  <tbody>\n    <tr>\n      <th>4</th>\n      <td>202107</td>\n      <td>서울특별시</td>\n      <td>일반용</td>\n      <td>547,647</td>\n      <td>2,339,594,127</td>\n    </tr>\n    <tr>\n      <th>11</th>\n      <td>202108</td>\n      <td>서울특별시</td>\n      <td>일반용</td>\n      <td>548,712</td>\n      <td>2,556,403,493</td>\n    </tr>\n    <tr>\n      <th>18</th>\n      <td>202109</td>\n      <td>서울특별시</td>\n      <td>일반용</td>\n      <td>549,221</td>\n      <td>2,172,660,512</td>\n    </tr>\n    <tr>\n      <th>25</th>\n      <td>202110</td>\n      <td>서울특별시</td>\n      <td>일반용</td>\n      <td>548,974</td>\n      <td>1,893,516,333</td>\n    </tr>\n    <tr>\n      <th>32</th>\n      <td>202111</td>\n      <td>서울특별시</td>\n      <td>일반용</td>\n      <td>549,819</td>\n      <td>1,843,687,326</td>\n    </tr>\n    <tr>\n      <th>39</th>\n      <td>202112</td>\n      <td>서울특별시</td>\n      <td>일반용</td>\n      <td>551,484</td>\n      <td>2,146,321,737</td>\n    </tr>\n  </tbody>\n</table>\n</div>"
     },
     "execution_count": 7,
     "metadata": {},
     "output_type": "execute_result"
    }
   ],
   "source": [
    "GyeonGi  = df_2.loc[(df_2['계약구분'] == '일반용')]\n",
    "#SEOUL = df_3.loc[(df_3['계약구분'] =='일반용')]\n",
    "GyeonGi.drop(['시군구' , '전기요금(원)' , '평균판매단가(원/kWh)'] , axis = 1 , inplace = True)\n",
    "GyeonGi"
   ],
   "metadata": {
    "collapsed": false,
    "pycharm": {
     "name": "#%%\n"
    }
   }
  },
  {
   "cell_type": "code",
   "execution_count": 8,
   "outputs": [],
   "source": [
    "#SEOUL1.to_csv(\"서울특별시_계약종별_전국_전력사용량_2022.csv\" , mode = 'w' , encoding= 'cp949')"
   ],
   "metadata": {
    "collapsed": false,
    "pycharm": {
     "name": "#%%\n"
    }
   }
  },
  {
   "cell_type": "code",
   "execution_count": 9,
   "outputs": [],
   "source": [
    "#df_2.to_csv(\"서울특별시_계약종별_전국_전력사용량.csv\" , mode = 'w' , encoding= 'cp949')"
   ],
   "metadata": {
    "collapsed": false,
    "pycharm": {
     "name": "#%%\n"
    }
   }
  },
  {
   "cell_type": "code",
   "execution_count": 10,
   "outputs": [
    {
     "data": {
      "text/plain": "          년월     시구  시군구 계약구분  고객호수(호)      사용량(kWh)\n53    202107  서울특별시  강남구  일반용  51,135   304,780,278 \n252   202108  서울특별시  강남구  일반용  51,321   333,954,411 \n451   202109  서울특별시  강남구  일반용  51,406   281,268,895 \n650   202110  서울특별시  강남구  일반용  51,401   239,682,794 \n849   202111  서울특별시  강남구  일반용  51,592   239,123,479 \n...      ...    ...  ...  ...      ...           ...\n443   202108  서울특별시  중랑구  일반용  20,387    48,017,350 \n642   202109  서울특별시  중랑구  일반용  20,444    40,208,600 \n841   202110  서울특별시  중랑구  일반용  20,365    34,534,040 \n1040  202111  서울특별시  중랑구  일반용  20,419    33,697,299 \n1239  202112  서울특별시  중랑구  일반용  20,474    38,803,403 \n\n[150 rows x 6 columns]",
      "text/html": "<div>\n<style scoped>\n    .dataframe tbody tr th:only-of-type {\n        vertical-align: middle;\n    }\n\n    .dataframe tbody tr th {\n        vertical-align: top;\n    }\n\n    .dataframe thead th {\n        text-align: right;\n    }\n</style>\n<table border=\"1\" class=\"dataframe\">\n  <thead>\n    <tr style=\"text-align: right;\">\n      <th></th>\n      <th>년월</th>\n      <th>시구</th>\n      <th>시군구</th>\n      <th>계약구분</th>\n      <th>고객호수(호)</th>\n      <th>사용량(kWh)</th>\n    </tr>\n  </thead>\n  <tbody>\n    <tr>\n      <th>53</th>\n      <td>202107</td>\n      <td>서울특별시</td>\n      <td>강남구</td>\n      <td>일반용</td>\n      <td>51,135</td>\n      <td>304,780,278</td>\n    </tr>\n    <tr>\n      <th>252</th>\n      <td>202108</td>\n      <td>서울특별시</td>\n      <td>강남구</td>\n      <td>일반용</td>\n      <td>51,321</td>\n      <td>333,954,411</td>\n    </tr>\n    <tr>\n      <th>451</th>\n      <td>202109</td>\n      <td>서울특별시</td>\n      <td>강남구</td>\n      <td>일반용</td>\n      <td>51,406</td>\n      <td>281,268,895</td>\n    </tr>\n    <tr>\n      <th>650</th>\n      <td>202110</td>\n      <td>서울특별시</td>\n      <td>강남구</td>\n      <td>일반용</td>\n      <td>51,401</td>\n      <td>239,682,794</td>\n    </tr>\n    <tr>\n      <th>849</th>\n      <td>202111</td>\n      <td>서울특별시</td>\n      <td>강남구</td>\n      <td>일반용</td>\n      <td>51,592</td>\n      <td>239,123,479</td>\n    </tr>\n    <tr>\n      <th>...</th>\n      <td>...</td>\n      <td>...</td>\n      <td>...</td>\n      <td>...</td>\n      <td>...</td>\n      <td>...</td>\n    </tr>\n    <tr>\n      <th>443</th>\n      <td>202108</td>\n      <td>서울특별시</td>\n      <td>중랑구</td>\n      <td>일반용</td>\n      <td>20,387</td>\n      <td>48,017,350</td>\n    </tr>\n    <tr>\n      <th>642</th>\n      <td>202109</td>\n      <td>서울특별시</td>\n      <td>중랑구</td>\n      <td>일반용</td>\n      <td>20,444</td>\n      <td>40,208,600</td>\n    </tr>\n    <tr>\n      <th>841</th>\n      <td>202110</td>\n      <td>서울특별시</td>\n      <td>중랑구</td>\n      <td>일반용</td>\n      <td>20,365</td>\n      <td>34,534,040</td>\n    </tr>\n    <tr>\n      <th>1040</th>\n      <td>202111</td>\n      <td>서울특별시</td>\n      <td>중랑구</td>\n      <td>일반용</td>\n      <td>20,419</td>\n      <td>33,697,299</td>\n    </tr>\n    <tr>\n      <th>1239</th>\n      <td>202112</td>\n      <td>서울특별시</td>\n      <td>중랑구</td>\n      <td>일반용</td>\n      <td>20,474</td>\n      <td>38,803,403</td>\n    </tr>\n  </tbody>\n</table>\n<p>150 rows × 6 columns</p>\n</div>"
     },
     "execution_count": 10,
     "metadata": {},
     "output_type": "execute_result"
    }
   ],
   "source": [
    "df_3 = df.loc[48:]\n",
    "df_3 = df_3.loc[(df_3['계약구분'] == '일반용')]\n",
    "df_3 = df_3.sort_values(by=['시군구' , '년월'])\n",
    "df_3.drop(['전기요금(원)',   '평균판매단가(원/kWh)'] , axis = 1 , inplace = True)\n",
    "df_3"
   ],
   "metadata": {
    "collapsed": false,
    "pycharm": {
     "name": "#%%\n"
    }
   }
  },
  {
   "cell_type": "code",
   "execution_count": 11,
   "outputs": [
    {
     "data": {
      "text/plain": "'서울특별시'"
     },
     "execution_count": 11,
     "metadata": {},
     "output_type": "execute_result"
    }
   ],
   "source": [
    "a = df_3.loc[: , \"시구\"]\n",
    "b = a[:1].tolist()\n",
    "for i in b:\n",
    "    City = i\n",
    "City"
   ],
   "metadata": {
    "collapsed": false,
    "pycharm": {
     "name": "#%%\n"
    }
   }
  },
  {
   "cell_type": "code",
   "execution_count": 12,
   "outputs": [
    {
     "data": {
      "text/plain": "['강남구',\n '강동구',\n '강북구',\n '강서구',\n '관악구',\n '광진구',\n '구로구',\n '금천구',\n '노원구',\n '도봉구',\n '동대문구',\n '동작구',\n '마포구',\n '서대문구',\n '서초구',\n '성동구',\n '성북구',\n '송파구',\n '양천구',\n '영등포구',\n '용산구',\n '은평구',\n '종로구',\n '중구',\n '중랑구']"
     },
     "execution_count": 12,
     "metadata": {},
     "output_type": "execute_result"
    }
   ],
   "source": [
    "\n",
    "SIGUNGU = list(set(df_3.loc[: , '시군구'].tolist()))\n",
    "SIGUNGU.sort()\n",
    "SIGUNGU"
   ],
   "metadata": {
    "collapsed": false,
    "pycharm": {
     "name": "#%%\n"
    }
   }
  },
  {
   "cell_type": "code",
   "execution_count": 13,
   "outputs": [
    {
     "data": {
      "text/plain": "          년월     시구  시군구 계약구분   고객호수(호)      사용량(kWh)\n55    202107  서울특별시  강남구   합계  195,016   441,065,241 \n254   202108  서울특별시  강남구   합계  194,809   489,434,825 \n453   202109  서울특별시  강남구   합계  194,718   400,288,647 \n652   202110  서울특별시  강남구   합계  194,668   344,029,924 \n851   202111  서울특별시  강남구   합계  194,841   344,673,512 \n...      ...    ...  ...  ...       ...           ...\n445   202108  서울특별시  중랑구   합계  175,318   126,650,718 \n644   202109  서울특별시  중랑구   합계  175,497    99,143,674 \n843   202110  서울특별시  중랑구   합계  175,514    84,783,580 \n1042  202111  서울특별시  중랑구   합계  175,784    85,072,770 \n1241  202112  서울특별시  중랑구   합계  175,829    94,096,564 \n\n[150 rows x 6 columns]",
      "text/html": "<div>\n<style scoped>\n    .dataframe tbody tr th:only-of-type {\n        vertical-align: middle;\n    }\n\n    .dataframe tbody tr th {\n        vertical-align: top;\n    }\n\n    .dataframe thead th {\n        text-align: right;\n    }\n</style>\n<table border=\"1\" class=\"dataframe\">\n  <thead>\n    <tr style=\"text-align: right;\">\n      <th></th>\n      <th>년월</th>\n      <th>시구</th>\n      <th>시군구</th>\n      <th>계약구분</th>\n      <th>고객호수(호)</th>\n      <th>사용량(kWh)</th>\n    </tr>\n  </thead>\n  <tbody>\n    <tr>\n      <th>55</th>\n      <td>202107</td>\n      <td>서울특별시</td>\n      <td>강남구</td>\n      <td>합계</td>\n      <td>195,016</td>\n      <td>441,065,241</td>\n    </tr>\n    <tr>\n      <th>254</th>\n      <td>202108</td>\n      <td>서울특별시</td>\n      <td>강남구</td>\n      <td>합계</td>\n      <td>194,809</td>\n      <td>489,434,825</td>\n    </tr>\n    <tr>\n      <th>453</th>\n      <td>202109</td>\n      <td>서울특별시</td>\n      <td>강남구</td>\n      <td>합계</td>\n      <td>194,718</td>\n      <td>400,288,647</td>\n    </tr>\n    <tr>\n      <th>652</th>\n      <td>202110</td>\n      <td>서울특별시</td>\n      <td>강남구</td>\n      <td>합계</td>\n      <td>194,668</td>\n      <td>344,029,924</td>\n    </tr>\n    <tr>\n      <th>851</th>\n      <td>202111</td>\n      <td>서울특별시</td>\n      <td>강남구</td>\n      <td>합계</td>\n      <td>194,841</td>\n      <td>344,673,512</td>\n    </tr>\n    <tr>\n      <th>...</th>\n      <td>...</td>\n      <td>...</td>\n      <td>...</td>\n      <td>...</td>\n      <td>...</td>\n      <td>...</td>\n    </tr>\n    <tr>\n      <th>445</th>\n      <td>202108</td>\n      <td>서울특별시</td>\n      <td>중랑구</td>\n      <td>합계</td>\n      <td>175,318</td>\n      <td>126,650,718</td>\n    </tr>\n    <tr>\n      <th>644</th>\n      <td>202109</td>\n      <td>서울특별시</td>\n      <td>중랑구</td>\n      <td>합계</td>\n      <td>175,497</td>\n      <td>99,143,674</td>\n    </tr>\n    <tr>\n      <th>843</th>\n      <td>202110</td>\n      <td>서울특별시</td>\n      <td>중랑구</td>\n      <td>합계</td>\n      <td>175,514</td>\n      <td>84,783,580</td>\n    </tr>\n    <tr>\n      <th>1042</th>\n      <td>202111</td>\n      <td>서울특별시</td>\n      <td>중랑구</td>\n      <td>합계</td>\n      <td>175,784</td>\n      <td>85,072,770</td>\n    </tr>\n    <tr>\n      <th>1241</th>\n      <td>202112</td>\n      <td>서울특별시</td>\n      <td>중랑구</td>\n      <td>합계</td>\n      <td>175,829</td>\n      <td>94,096,564</td>\n    </tr>\n  </tbody>\n</table>\n<p>150 rows × 6 columns</p>\n</div>"
     },
     "execution_count": 13,
     "metadata": {},
     "output_type": "execute_result"
    }
   ],
   "source": [
    "df_4 = df.loc[48:]\n",
    "df_4 = df_4.loc[(df_4['계약구분'] == '합계')]\n",
    "df_4 = df_4.sort_values(by=['시군구' , '년월'])\n",
    "df_4.drop(['전기요금(원)',   '평균판매단가(원/kWh)'] , axis = 1 , inplace = True)\n",
    "df_4"
   ],
   "metadata": {
    "collapsed": false,
    "pycharm": {
     "name": "#%%\n"
    }
   }
  },
  {
   "cell_type": "code",
   "execution_count": 14,
   "outputs": [
    {
     "name": "stdout",
     "output_type": "stream",
     "text": [
      "[441065241, 489434825, 400288647, 344029924, 344673512, 401761087]\n",
      "[150653111, 178054188, 141605047, 123319477, 122613562, 135230944]\n",
      "[79571483, 102249618, 79856470, 68414249, 68570708, 75978498]\n",
      "[246963259, 285587503, 235290130, 204347672, 200584146, 223995333]\n",
      "[152928513, 188865073, 152410007, 130782671, 128523181, 139848594]\n",
      "[148853028, 177323052, 141076270, 118916005, 117421082, 129315326]\n",
      "[169440335, 195736209, 157429723, 137064054, 138468345, 160854582]\n",
      "[156504127, 170478209, 141032038, 124553463, 124930967, 142538588]\n",
      "[136330891, 161038816, 127317764, 112576618, 114467821, 128900320]\n",
      "[79099850, 96976092, 75326874, 65405582, 66911747, 73816770]\n",
      "[127576820, 157872145, 126220239, 106763271, 106141145, 118723295]\n",
      "[118391331, 143183657, 113127597, 97062578, 95620377, 104413463]\n",
      "[203606703, 230467242, 188754676, 165147652, 161792539, 178039828]\n",
      "[119062977, 134083212, 107198715, 93593026, 93903871, 106013291]\n",
      "[302080404, 346879301, 285499500, 243056695, 239136534, 266571472]\n",
      "[198647648, 232213682, 193796526, 167878921, 168463890, 183150924]\n",
      "[129117397, 159425474, 127489069, 109186539, 111084150, 123151032]\n",
      "[269011011, 315534545, 254905234, 224549476, 208439561, 236203474]\n",
      "[160538841, 191616829, 159636273, 141571983, 137235804, 146385068]\n",
      "[266392891, 291321326, 239076850, 206178057, 199083218, 223438194]\n",
      "[135323138, 157121357, 126410725, 107913393, 106207446, 118731577]\n",
      "[130025539, 163395644, 130987922, 112129993, 111768831, 121365495]\n",
      "[160635186, 174788825, 145117725, 122959712, 122571655, 141629289]\n",
      "[223125674, 233570061, 196085241, 166429423, 163454223, 189546530]\n",
      "[101607467, 126650718, 99143674, 84783580, 85072770, 94096564]\n",
      "서울특별시 지역별 합계 :  [2421253236, 851476329, 474641026, 1396768043, 893358039, 832904763, 958993248, 860037392, 780632230, 457536915, 743296915, 671799003, 1127808640, 653855092, 1683223906, 1144151591, 759453661, 1508643301, 936984798, 1425490536, 751707636, 769673424, 867702392, 1172211152, 591354773]\n",
      "서울특별시 고객호수 평균:  [32472, 23720, 24934, 35268, 46480, 30225, 23351, 18311, 18528, 17271, 24876, 27535, 25479, 20030, 21754, 16057, 25855, 30074, 21305, 24309, 18115, 32446, 17562, 13186, 29254]\n"
     ]
    }
   ],
   "source": [
    "sum2 , sum3 =[] , []\n",
    "for k in SIGUNGU:\n",
    "    GyeonGiHap = pd.DataFrame([] , columns = a)\n",
    "    HOSU = pd.DataFrame([], columns = a)\n",
    "    GyeonGiHap['사용량']= df_4['사용량(kWh)'].loc[(df_4['시군구'] == '{}'.format(k))]\n",
    "    HOSU['고객호수']= df_4['고객호수(호)'].loc[(df_4['시군구'] == '{}'.format(k))]\n",
    "    #경기합 데이터프레임의 사용량 열에 기군구가 가평군인 사용량 데이터만 뽑아내기\n",
    "    # GyeonGiHap = GyeonGiHap['사용량']\n",
    "\n",
    "    b = GyeonGiHap['사용량'].tolist()\n",
    "    c = HOSU['고객호수'].tolist()\n",
    "\n",
    "\n",
    "    #각지역별 사용량 리스트화\n",
    "    int_list  , int_list2=[] , []\n",
    "    for i in b:\n",
    "        i = re.sub(\",\" , \"\" , i)\n",
    "        #콤마 없애기\n",
    "        int_list.append(int(i))\n",
    "        #int_list에 각지역별 사용량 int로 저장\n",
    "    print(int_list)\n",
    "    sum=0\n",
    "    for i in c:\n",
    "        i = re.sub(\",\" , \"\" , i)\n",
    "        int_list2.append(int(i))\n",
    "\n",
    "    for j in int_list:\n",
    "\n",
    "        sum+= j\n",
    "    sum2.append(sum)\n",
    "    sum = 0\n",
    "    for j in int_list2: #고객호수 추출하여 더하기\n",
    "\n",
    "        sum+= j\n",
    "    sum3.append(sum//36) #6개월 치로 나눠야하나?!\n",
    "\n",
    "\n",
    "\n",
    "\n",
    "print(\"{} 지역별 합계 : \".format(City) , sum2)\n",
    "print(\"{} 고객호수 평균: \".format(City) , sum3)"
   ],
   "metadata": {
    "collapsed": false,
    "pycharm": {
     "name": "#%%\n"
    }
   }
  },
  {
   "cell_type": "markdown",
   "source": [
    "### 2. 날짜 체크!!!!!!!!!!!!!!!!!!!!!!!!!!!!!!!!!!!!!!!!!!!!!!"
   ],
   "metadata": {
    "collapsed": false,
    "pycharm": {
     "name": "#%% md\n"
    }
   }
  },
  {
   "cell_type": "code",
   "execution_count": 15,
   "outputs": [
    {
     "name": "stderr",
     "output_type": "stream",
     "text": [
      "C:\\Users\\user\\AppData\\Local\\Temp\\ipykernel_23136\\895775541.py:4: FutureWarning: The frame.append method is deprecated and will be removed from pandas in a future version. Use pandas.concat instead.\n",
      "  Hap = Hap.append({'년월' :'202107-202112'  , '시구' : '{}'.format(City) , '시군구' : '{}'.format(SIGUNGU[i]) , '계약구분' : '합계' , '고객호수(호)' : sum3[i] ,  '사용량(kWh)' : sum2[i]} , ignore_index=True) #년월 파일마다 수정하기\n",
      "C:\\Users\\user\\AppData\\Local\\Temp\\ipykernel_23136\\895775541.py:4: FutureWarning: The frame.append method is deprecated and will be removed from pandas in a future version. Use pandas.concat instead.\n",
      "  Hap = Hap.append({'년월' :'202107-202112'  , '시구' : '{}'.format(City) , '시군구' : '{}'.format(SIGUNGU[i]) , '계약구분' : '합계' , '고객호수(호)' : sum3[i] ,  '사용량(kWh)' : sum2[i]} , ignore_index=True) #년월 파일마다 수정하기\n",
      "C:\\Users\\user\\AppData\\Local\\Temp\\ipykernel_23136\\895775541.py:4: FutureWarning: The frame.append method is deprecated and will be removed from pandas in a future version. Use pandas.concat instead.\n",
      "  Hap = Hap.append({'년월' :'202107-202112'  , '시구' : '{}'.format(City) , '시군구' : '{}'.format(SIGUNGU[i]) , '계약구분' : '합계' , '고객호수(호)' : sum3[i] ,  '사용량(kWh)' : sum2[i]} , ignore_index=True) #년월 파일마다 수정하기\n",
      "C:\\Users\\user\\AppData\\Local\\Temp\\ipykernel_23136\\895775541.py:4: FutureWarning: The frame.append method is deprecated and will be removed from pandas in a future version. Use pandas.concat instead.\n",
      "  Hap = Hap.append({'년월' :'202107-202112'  , '시구' : '{}'.format(City) , '시군구' : '{}'.format(SIGUNGU[i]) , '계약구분' : '합계' , '고객호수(호)' : sum3[i] ,  '사용량(kWh)' : sum2[i]} , ignore_index=True) #년월 파일마다 수정하기\n",
      "C:\\Users\\user\\AppData\\Local\\Temp\\ipykernel_23136\\895775541.py:4: FutureWarning: The frame.append method is deprecated and will be removed from pandas in a future version. Use pandas.concat instead.\n",
      "  Hap = Hap.append({'년월' :'202107-202112'  , '시구' : '{}'.format(City) , '시군구' : '{}'.format(SIGUNGU[i]) , '계약구분' : '합계' , '고객호수(호)' : sum3[i] ,  '사용량(kWh)' : sum2[i]} , ignore_index=True) #년월 파일마다 수정하기\n",
      "C:\\Users\\user\\AppData\\Local\\Temp\\ipykernel_23136\\895775541.py:4: FutureWarning: The frame.append method is deprecated and will be removed from pandas in a future version. Use pandas.concat instead.\n",
      "  Hap = Hap.append({'년월' :'202107-202112'  , '시구' : '{}'.format(City) , '시군구' : '{}'.format(SIGUNGU[i]) , '계약구분' : '합계' , '고객호수(호)' : sum3[i] ,  '사용량(kWh)' : sum2[i]} , ignore_index=True) #년월 파일마다 수정하기\n",
      "C:\\Users\\user\\AppData\\Local\\Temp\\ipykernel_23136\\895775541.py:4: FutureWarning: The frame.append method is deprecated and will be removed from pandas in a future version. Use pandas.concat instead.\n",
      "  Hap = Hap.append({'년월' :'202107-202112'  , '시구' : '{}'.format(City) , '시군구' : '{}'.format(SIGUNGU[i]) , '계약구분' : '합계' , '고객호수(호)' : sum3[i] ,  '사용량(kWh)' : sum2[i]} , ignore_index=True) #년월 파일마다 수정하기\n",
      "C:\\Users\\user\\AppData\\Local\\Temp\\ipykernel_23136\\895775541.py:4: FutureWarning: The frame.append method is deprecated and will be removed from pandas in a future version. Use pandas.concat instead.\n",
      "  Hap = Hap.append({'년월' :'202107-202112'  , '시구' : '{}'.format(City) , '시군구' : '{}'.format(SIGUNGU[i]) , '계약구분' : '합계' , '고객호수(호)' : sum3[i] ,  '사용량(kWh)' : sum2[i]} , ignore_index=True) #년월 파일마다 수정하기\n",
      "C:\\Users\\user\\AppData\\Local\\Temp\\ipykernel_23136\\895775541.py:4: FutureWarning: The frame.append method is deprecated and will be removed from pandas in a future version. Use pandas.concat instead.\n",
      "  Hap = Hap.append({'년월' :'202107-202112'  , '시구' : '{}'.format(City) , '시군구' : '{}'.format(SIGUNGU[i]) , '계약구분' : '합계' , '고객호수(호)' : sum3[i] ,  '사용량(kWh)' : sum2[i]} , ignore_index=True) #년월 파일마다 수정하기\n",
      "C:\\Users\\user\\AppData\\Local\\Temp\\ipykernel_23136\\895775541.py:4: FutureWarning: The frame.append method is deprecated and will be removed from pandas in a future version. Use pandas.concat instead.\n",
      "  Hap = Hap.append({'년월' :'202107-202112'  , '시구' : '{}'.format(City) , '시군구' : '{}'.format(SIGUNGU[i]) , '계약구분' : '합계' , '고객호수(호)' : sum3[i] ,  '사용량(kWh)' : sum2[i]} , ignore_index=True) #년월 파일마다 수정하기\n",
      "C:\\Users\\user\\AppData\\Local\\Temp\\ipykernel_23136\\895775541.py:4: FutureWarning: The frame.append method is deprecated and will be removed from pandas in a future version. Use pandas.concat instead.\n",
      "  Hap = Hap.append({'년월' :'202107-202112'  , '시구' : '{}'.format(City) , '시군구' : '{}'.format(SIGUNGU[i]) , '계약구분' : '합계' , '고객호수(호)' : sum3[i] ,  '사용량(kWh)' : sum2[i]} , ignore_index=True) #년월 파일마다 수정하기\n",
      "C:\\Users\\user\\AppData\\Local\\Temp\\ipykernel_23136\\895775541.py:4: FutureWarning: The frame.append method is deprecated and will be removed from pandas in a future version. Use pandas.concat instead.\n",
      "  Hap = Hap.append({'년월' :'202107-202112'  , '시구' : '{}'.format(City) , '시군구' : '{}'.format(SIGUNGU[i]) , '계약구분' : '합계' , '고객호수(호)' : sum3[i] ,  '사용량(kWh)' : sum2[i]} , ignore_index=True) #년월 파일마다 수정하기\n",
      "C:\\Users\\user\\AppData\\Local\\Temp\\ipykernel_23136\\895775541.py:4: FutureWarning: The frame.append method is deprecated and will be removed from pandas in a future version. Use pandas.concat instead.\n",
      "  Hap = Hap.append({'년월' :'202107-202112'  , '시구' : '{}'.format(City) , '시군구' : '{}'.format(SIGUNGU[i]) , '계약구분' : '합계' , '고객호수(호)' : sum3[i] ,  '사용량(kWh)' : sum2[i]} , ignore_index=True) #년월 파일마다 수정하기\n",
      "C:\\Users\\user\\AppData\\Local\\Temp\\ipykernel_23136\\895775541.py:4: FutureWarning: The frame.append method is deprecated and will be removed from pandas in a future version. Use pandas.concat instead.\n",
      "  Hap = Hap.append({'년월' :'202107-202112'  , '시구' : '{}'.format(City) , '시군구' : '{}'.format(SIGUNGU[i]) , '계약구분' : '합계' , '고객호수(호)' : sum3[i] ,  '사용량(kWh)' : sum2[i]} , ignore_index=True) #년월 파일마다 수정하기\n",
      "C:\\Users\\user\\AppData\\Local\\Temp\\ipykernel_23136\\895775541.py:4: FutureWarning: The frame.append method is deprecated and will be removed from pandas in a future version. Use pandas.concat instead.\n",
      "  Hap = Hap.append({'년월' :'202107-202112'  , '시구' : '{}'.format(City) , '시군구' : '{}'.format(SIGUNGU[i]) , '계약구분' : '합계' , '고객호수(호)' : sum3[i] ,  '사용량(kWh)' : sum2[i]} , ignore_index=True) #년월 파일마다 수정하기\n",
      "C:\\Users\\user\\AppData\\Local\\Temp\\ipykernel_23136\\895775541.py:4: FutureWarning: The frame.append method is deprecated and will be removed from pandas in a future version. Use pandas.concat instead.\n",
      "  Hap = Hap.append({'년월' :'202107-202112'  , '시구' : '{}'.format(City) , '시군구' : '{}'.format(SIGUNGU[i]) , '계약구분' : '합계' , '고객호수(호)' : sum3[i] ,  '사용량(kWh)' : sum2[i]} , ignore_index=True) #년월 파일마다 수정하기\n",
      "C:\\Users\\user\\AppData\\Local\\Temp\\ipykernel_23136\\895775541.py:4: FutureWarning: The frame.append method is deprecated and will be removed from pandas in a future version. Use pandas.concat instead.\n",
      "  Hap = Hap.append({'년월' :'202107-202112'  , '시구' : '{}'.format(City) , '시군구' : '{}'.format(SIGUNGU[i]) , '계약구분' : '합계' , '고객호수(호)' : sum3[i] ,  '사용량(kWh)' : sum2[i]} , ignore_index=True) #년월 파일마다 수정하기\n",
      "C:\\Users\\user\\AppData\\Local\\Temp\\ipykernel_23136\\895775541.py:4: FutureWarning: The frame.append method is deprecated and will be removed from pandas in a future version. Use pandas.concat instead.\n",
      "  Hap = Hap.append({'년월' :'202107-202112'  , '시구' : '{}'.format(City) , '시군구' : '{}'.format(SIGUNGU[i]) , '계약구분' : '합계' , '고객호수(호)' : sum3[i] ,  '사용량(kWh)' : sum2[i]} , ignore_index=True) #년월 파일마다 수정하기\n",
      "C:\\Users\\user\\AppData\\Local\\Temp\\ipykernel_23136\\895775541.py:4: FutureWarning: The frame.append method is deprecated and will be removed from pandas in a future version. Use pandas.concat instead.\n",
      "  Hap = Hap.append({'년월' :'202107-202112'  , '시구' : '{}'.format(City) , '시군구' : '{}'.format(SIGUNGU[i]) , '계약구분' : '합계' , '고객호수(호)' : sum3[i] ,  '사용량(kWh)' : sum2[i]} , ignore_index=True) #년월 파일마다 수정하기\n",
      "C:\\Users\\user\\AppData\\Local\\Temp\\ipykernel_23136\\895775541.py:4: FutureWarning: The frame.append method is deprecated and will be removed from pandas in a future version. Use pandas.concat instead.\n",
      "  Hap = Hap.append({'년월' :'202107-202112'  , '시구' : '{}'.format(City) , '시군구' : '{}'.format(SIGUNGU[i]) , '계약구분' : '합계' , '고객호수(호)' : sum3[i] ,  '사용량(kWh)' : sum2[i]} , ignore_index=True) #년월 파일마다 수정하기\n",
      "C:\\Users\\user\\AppData\\Local\\Temp\\ipykernel_23136\\895775541.py:4: FutureWarning: The frame.append method is deprecated and will be removed from pandas in a future version. Use pandas.concat instead.\n",
      "  Hap = Hap.append({'년월' :'202107-202112'  , '시구' : '{}'.format(City) , '시군구' : '{}'.format(SIGUNGU[i]) , '계약구분' : '합계' , '고객호수(호)' : sum3[i] ,  '사용량(kWh)' : sum2[i]} , ignore_index=True) #년월 파일마다 수정하기\n",
      "C:\\Users\\user\\AppData\\Local\\Temp\\ipykernel_23136\\895775541.py:4: FutureWarning: The frame.append method is deprecated and will be removed from pandas in a future version. Use pandas.concat instead.\n",
      "  Hap = Hap.append({'년월' :'202107-202112'  , '시구' : '{}'.format(City) , '시군구' : '{}'.format(SIGUNGU[i]) , '계약구분' : '합계' , '고객호수(호)' : sum3[i] ,  '사용량(kWh)' : sum2[i]} , ignore_index=True) #년월 파일마다 수정하기\n",
      "C:\\Users\\user\\AppData\\Local\\Temp\\ipykernel_23136\\895775541.py:4: FutureWarning: The frame.append method is deprecated and will be removed from pandas in a future version. Use pandas.concat instead.\n",
      "  Hap = Hap.append({'년월' :'202107-202112'  , '시구' : '{}'.format(City) , '시군구' : '{}'.format(SIGUNGU[i]) , '계약구분' : '합계' , '고객호수(호)' : sum3[i] ,  '사용량(kWh)' : sum2[i]} , ignore_index=True) #년월 파일마다 수정하기\n",
      "C:\\Users\\user\\AppData\\Local\\Temp\\ipykernel_23136\\895775541.py:4: FutureWarning: The frame.append method is deprecated and will be removed from pandas in a future version. Use pandas.concat instead.\n",
      "  Hap = Hap.append({'년월' :'202107-202112'  , '시구' : '{}'.format(City) , '시군구' : '{}'.format(SIGUNGU[i]) , '계약구분' : '합계' , '고객호수(호)' : sum3[i] ,  '사용량(kWh)' : sum2[i]} , ignore_index=True) #년월 파일마다 수정하기\n",
      "C:\\Users\\user\\AppData\\Local\\Temp\\ipykernel_23136\\895775541.py:4: FutureWarning: The frame.append method is deprecated and will be removed from pandas in a future version. Use pandas.concat instead.\n",
      "  Hap = Hap.append({'년월' :'202107-202112'  , '시구' : '{}'.format(City) , '시군구' : '{}'.format(SIGUNGU[i]) , '계약구분' : '합계' , '고객호수(호)' : sum3[i] ,  '사용량(kWh)' : sum2[i]} , ignore_index=True) #년월 파일마다 수정하기\n"
     ]
    },
    {
     "data": {
      "text/plain": "                년월     시구  시군구 계약구분   고객호수(호)      사용량(kWh)\n0           202107  서울특별시  강남구   합계  195,016   441,065,241 \n1           202108  서울특별시  강남구   합계  194,809   489,434,825 \n2           202109  서울특별시  강남구   합계  194,718   400,288,647 \n3           202110  서울특별시  강남구   합계  194,668   344,029,924 \n4           202111  서울특별시  강남구   합계  194,841   344,673,512 \n..             ...    ...  ...  ...       ...           ...\n170  202107-202112  서울특별시  용산구   합계     18115     751707636\n171  202107-202112  서울특별시  은평구   합계     32446     769673424\n172  202107-202112  서울특별시  종로구   합계     17562     867702392\n173  202107-202112  서울특별시   중구   합계     13186    1172211152\n174  202107-202112  서울특별시  중랑구   합계     29254     591354773\n\n[175 rows x 6 columns]",
      "text/html": "<div>\n<style scoped>\n    .dataframe tbody tr th:only-of-type {\n        vertical-align: middle;\n    }\n\n    .dataframe tbody tr th {\n        vertical-align: top;\n    }\n\n    .dataframe thead th {\n        text-align: right;\n    }\n</style>\n<table border=\"1\" class=\"dataframe\">\n  <thead>\n    <tr style=\"text-align: right;\">\n      <th></th>\n      <th>년월</th>\n      <th>시구</th>\n      <th>시군구</th>\n      <th>계약구분</th>\n      <th>고객호수(호)</th>\n      <th>사용량(kWh)</th>\n    </tr>\n  </thead>\n  <tbody>\n    <tr>\n      <th>0</th>\n      <td>202107</td>\n      <td>서울특별시</td>\n      <td>강남구</td>\n      <td>합계</td>\n      <td>195,016</td>\n      <td>441,065,241</td>\n    </tr>\n    <tr>\n      <th>1</th>\n      <td>202108</td>\n      <td>서울특별시</td>\n      <td>강남구</td>\n      <td>합계</td>\n      <td>194,809</td>\n      <td>489,434,825</td>\n    </tr>\n    <tr>\n      <th>2</th>\n      <td>202109</td>\n      <td>서울특별시</td>\n      <td>강남구</td>\n      <td>합계</td>\n      <td>194,718</td>\n      <td>400,288,647</td>\n    </tr>\n    <tr>\n      <th>3</th>\n      <td>202110</td>\n      <td>서울특별시</td>\n      <td>강남구</td>\n      <td>합계</td>\n      <td>194,668</td>\n      <td>344,029,924</td>\n    </tr>\n    <tr>\n      <th>4</th>\n      <td>202111</td>\n      <td>서울특별시</td>\n      <td>강남구</td>\n      <td>합계</td>\n      <td>194,841</td>\n      <td>344,673,512</td>\n    </tr>\n    <tr>\n      <th>...</th>\n      <td>...</td>\n      <td>...</td>\n      <td>...</td>\n      <td>...</td>\n      <td>...</td>\n      <td>...</td>\n    </tr>\n    <tr>\n      <th>170</th>\n      <td>202107-202112</td>\n      <td>서울특별시</td>\n      <td>용산구</td>\n      <td>합계</td>\n      <td>18115</td>\n      <td>751707636</td>\n    </tr>\n    <tr>\n      <th>171</th>\n      <td>202107-202112</td>\n      <td>서울특별시</td>\n      <td>은평구</td>\n      <td>합계</td>\n      <td>32446</td>\n      <td>769673424</td>\n    </tr>\n    <tr>\n      <th>172</th>\n      <td>202107-202112</td>\n      <td>서울특별시</td>\n      <td>종로구</td>\n      <td>합계</td>\n      <td>17562</td>\n      <td>867702392</td>\n    </tr>\n    <tr>\n      <th>173</th>\n      <td>202107-202112</td>\n      <td>서울특별시</td>\n      <td>중구</td>\n      <td>합계</td>\n      <td>13186</td>\n      <td>1172211152</td>\n    </tr>\n    <tr>\n      <th>174</th>\n      <td>202107-202112</td>\n      <td>서울특별시</td>\n      <td>중랑구</td>\n      <td>합계</td>\n      <td>29254</td>\n      <td>591354773</td>\n    </tr>\n  </tbody>\n</table>\n<p>175 rows × 6 columns</p>\n</div>"
     },
     "execution_count": 15,
     "metadata": {},
     "output_type": "execute_result"
    }
   ],
   "source": [
    "Hap = df_4.copy()\n",
    "Hap.reset_index(drop=True , inplace = True)\n",
    "for i in range(len(SIGUNGU)):\n",
    "    Hap = Hap.append({'년월' :'202107-202112'  , '시구' : '{}'.format(City) , '시군구' : '{}'.format(SIGUNGU[i]) , '계약구분' : '합계' , '고객호수(호)' : sum3[i] ,  '사용량(kWh)' : sum2[i]} , ignore_index=True) #년월 파일마다 수정하기\n",
    "Hap"
   ],
   "metadata": {
    "collapsed": false,
    "pycharm": {
     "name": "#%%\n"
    }
   }
  },
  {
   "cell_type": "markdown",
   "source": [
    "### 3. 날짜 변경!!!!!!!!!!!!!!!!!!!!!!!!!!!!!!!"
   ],
   "metadata": {
    "collapsed": false,
    "pycharm": {
     "name": "#%% md\n"
    }
   }
  },
  {
   "cell_type": "code",
   "execution_count": 16,
   "outputs": [
    {
     "data": {
      "text/plain": "                년월     시구   시군구 계약구분 고객호수(호)    사용량(kWh)\n150  202107-202112  서울특별시   강남구   합계   32472  2421253236\n151  202107-202112  서울특별시   강동구   합계   23720   851476329\n152  202107-202112  서울특별시   강북구   합계   24934   474641026\n153  202107-202112  서울특별시   강서구   합계   35268  1396768043\n154  202107-202112  서울특별시   관악구   합계   46480   893358039\n155  202107-202112  서울특별시   광진구   합계   30225   832904763\n156  202107-202112  서울특별시   구로구   합계   23351   958993248\n157  202107-202112  서울특별시   금천구   합계   18311   860037392\n158  202107-202112  서울특별시   노원구   합계   18528   780632230\n159  202107-202112  서울특별시   도봉구   합계   17271   457536915\n160  202107-202112  서울특별시  동대문구   합계   24876   743296915\n161  202107-202112  서울특별시   동작구   합계   27535   671799003\n162  202107-202112  서울특별시   마포구   합계   25479  1127808640\n163  202107-202112  서울특별시  서대문구   합계   20030   653855092\n164  202107-202112  서울특별시   서초구   합계   21754  1683223906\n165  202107-202112  서울특별시   성동구   합계   16057  1144151591\n166  202107-202112  서울특별시   성북구   합계   25855   759453661\n167  202107-202112  서울특별시   송파구   합계   30074  1508643301\n168  202107-202112  서울특별시   양천구   합계   21305   936984798\n169  202107-202112  서울특별시  영등포구   합계   24309  1425490536\n170  202107-202112  서울특별시   용산구   합계   18115   751707636\n171  202107-202112  서울특별시   은평구   합계   32446   769673424\n172  202107-202112  서울특별시   종로구   합계   17562   867702392\n173  202107-202112  서울특별시    중구   합계   13186  1172211152\n174  202107-202112  서울특별시   중랑구   합계   29254   591354773",
      "text/html": "<div>\n<style scoped>\n    .dataframe tbody tr th:only-of-type {\n        vertical-align: middle;\n    }\n\n    .dataframe tbody tr th {\n        vertical-align: top;\n    }\n\n    .dataframe thead th {\n        text-align: right;\n    }\n</style>\n<table border=\"1\" class=\"dataframe\">\n  <thead>\n    <tr style=\"text-align: right;\">\n      <th></th>\n      <th>년월</th>\n      <th>시구</th>\n      <th>시군구</th>\n      <th>계약구분</th>\n      <th>고객호수(호)</th>\n      <th>사용량(kWh)</th>\n    </tr>\n  </thead>\n  <tbody>\n    <tr>\n      <th>150</th>\n      <td>202107-202112</td>\n      <td>서울특별시</td>\n      <td>강남구</td>\n      <td>합계</td>\n      <td>32472</td>\n      <td>2421253236</td>\n    </tr>\n    <tr>\n      <th>151</th>\n      <td>202107-202112</td>\n      <td>서울특별시</td>\n      <td>강동구</td>\n      <td>합계</td>\n      <td>23720</td>\n      <td>851476329</td>\n    </tr>\n    <tr>\n      <th>152</th>\n      <td>202107-202112</td>\n      <td>서울특별시</td>\n      <td>강북구</td>\n      <td>합계</td>\n      <td>24934</td>\n      <td>474641026</td>\n    </tr>\n    <tr>\n      <th>153</th>\n      <td>202107-202112</td>\n      <td>서울특별시</td>\n      <td>강서구</td>\n      <td>합계</td>\n      <td>35268</td>\n      <td>1396768043</td>\n    </tr>\n    <tr>\n      <th>154</th>\n      <td>202107-202112</td>\n      <td>서울특별시</td>\n      <td>관악구</td>\n      <td>합계</td>\n      <td>46480</td>\n      <td>893358039</td>\n    </tr>\n    <tr>\n      <th>155</th>\n      <td>202107-202112</td>\n      <td>서울특별시</td>\n      <td>광진구</td>\n      <td>합계</td>\n      <td>30225</td>\n      <td>832904763</td>\n    </tr>\n    <tr>\n      <th>156</th>\n      <td>202107-202112</td>\n      <td>서울특별시</td>\n      <td>구로구</td>\n      <td>합계</td>\n      <td>23351</td>\n      <td>958993248</td>\n    </tr>\n    <tr>\n      <th>157</th>\n      <td>202107-202112</td>\n      <td>서울특별시</td>\n      <td>금천구</td>\n      <td>합계</td>\n      <td>18311</td>\n      <td>860037392</td>\n    </tr>\n    <tr>\n      <th>158</th>\n      <td>202107-202112</td>\n      <td>서울특별시</td>\n      <td>노원구</td>\n      <td>합계</td>\n      <td>18528</td>\n      <td>780632230</td>\n    </tr>\n    <tr>\n      <th>159</th>\n      <td>202107-202112</td>\n      <td>서울특별시</td>\n      <td>도봉구</td>\n      <td>합계</td>\n      <td>17271</td>\n      <td>457536915</td>\n    </tr>\n    <tr>\n      <th>160</th>\n      <td>202107-202112</td>\n      <td>서울특별시</td>\n      <td>동대문구</td>\n      <td>합계</td>\n      <td>24876</td>\n      <td>743296915</td>\n    </tr>\n    <tr>\n      <th>161</th>\n      <td>202107-202112</td>\n      <td>서울특별시</td>\n      <td>동작구</td>\n      <td>합계</td>\n      <td>27535</td>\n      <td>671799003</td>\n    </tr>\n    <tr>\n      <th>162</th>\n      <td>202107-202112</td>\n      <td>서울특별시</td>\n      <td>마포구</td>\n      <td>합계</td>\n      <td>25479</td>\n      <td>1127808640</td>\n    </tr>\n    <tr>\n      <th>163</th>\n      <td>202107-202112</td>\n      <td>서울특별시</td>\n      <td>서대문구</td>\n      <td>합계</td>\n      <td>20030</td>\n      <td>653855092</td>\n    </tr>\n    <tr>\n      <th>164</th>\n      <td>202107-202112</td>\n      <td>서울특별시</td>\n      <td>서초구</td>\n      <td>합계</td>\n      <td>21754</td>\n      <td>1683223906</td>\n    </tr>\n    <tr>\n      <th>165</th>\n      <td>202107-202112</td>\n      <td>서울특별시</td>\n      <td>성동구</td>\n      <td>합계</td>\n      <td>16057</td>\n      <td>1144151591</td>\n    </tr>\n    <tr>\n      <th>166</th>\n      <td>202107-202112</td>\n      <td>서울특별시</td>\n      <td>성북구</td>\n      <td>합계</td>\n      <td>25855</td>\n      <td>759453661</td>\n    </tr>\n    <tr>\n      <th>167</th>\n      <td>202107-202112</td>\n      <td>서울특별시</td>\n      <td>송파구</td>\n      <td>합계</td>\n      <td>30074</td>\n      <td>1508643301</td>\n    </tr>\n    <tr>\n      <th>168</th>\n      <td>202107-202112</td>\n      <td>서울특별시</td>\n      <td>양천구</td>\n      <td>합계</td>\n      <td>21305</td>\n      <td>936984798</td>\n    </tr>\n    <tr>\n      <th>169</th>\n      <td>202107-202112</td>\n      <td>서울특별시</td>\n      <td>영등포구</td>\n      <td>합계</td>\n      <td>24309</td>\n      <td>1425490536</td>\n    </tr>\n    <tr>\n      <th>170</th>\n      <td>202107-202112</td>\n      <td>서울특별시</td>\n      <td>용산구</td>\n      <td>합계</td>\n      <td>18115</td>\n      <td>751707636</td>\n    </tr>\n    <tr>\n      <th>171</th>\n      <td>202107-202112</td>\n      <td>서울특별시</td>\n      <td>은평구</td>\n      <td>합계</td>\n      <td>32446</td>\n      <td>769673424</td>\n    </tr>\n    <tr>\n      <th>172</th>\n      <td>202107-202112</td>\n      <td>서울특별시</td>\n      <td>종로구</td>\n      <td>합계</td>\n      <td>17562</td>\n      <td>867702392</td>\n    </tr>\n    <tr>\n      <th>173</th>\n      <td>202107-202112</td>\n      <td>서울특별시</td>\n      <td>중구</td>\n      <td>합계</td>\n      <td>13186</td>\n      <td>1172211152</td>\n    </tr>\n    <tr>\n      <th>174</th>\n      <td>202107-202112</td>\n      <td>서울특별시</td>\n      <td>중랑구</td>\n      <td>합계</td>\n      <td>29254</td>\n      <td>591354773</td>\n    </tr>\n  </tbody>\n</table>\n</div>"
     },
     "execution_count": 16,
     "metadata": {},
     "output_type": "execute_result"
    }
   ],
   "source": [
    "Hap = Hap.loc[Hap['년월'] == '202107-202112']\n",
    "Hap"
   ],
   "metadata": {
    "collapsed": false,
    "pycharm": {
     "name": "#%%\n"
    }
   }
  },
  {
   "cell_type": "code",
   "execution_count": 17,
   "outputs": [],
   "source": [
    "# SIGUNGU = SIGUNGU[:1]\n",
    "# SIGUNGU\n",
    "#for i in SIGUNGU:\n",
    "#print('{}'.format(i))\n",
    "# df_3 = df_3.loc[(df_3['시군구'] == '가평군')]\n",
    "#\n",
    "# df_3"
   ],
   "metadata": {
    "collapsed": false,
    "pycharm": {
     "name": "#%%\n"
    }
   }
  },
  {
   "cell_type": "code",
   "execution_count": 18,
   "outputs": [
    {
     "data": {
      "text/plain": "['년월', '시구', '시군구', '계약구분', '고객호수(호)', '사용량(kWh)']"
     },
     "execution_count": 18,
     "metadata": {},
     "output_type": "execute_result"
    }
   ],
   "source": [
    "a = (df_3.columns).tolist()\n",
    "\n",
    "a"
   ],
   "metadata": {
    "collapsed": false,
    "pycharm": {
     "name": "#%%\n"
    }
   }
  },
  {
   "cell_type": "code",
   "execution_count": 19,
   "outputs": [
    {
     "data": {
      "text/plain": "          년월     시구  시군구 계약구분  고객호수(호)      사용량(kWh)\n53    202107  서울특별시  강남구  일반용  51,135   304,780,278 \n252   202108  서울특별시  강남구  일반용  51,321   333,954,411 \n451   202109  서울특별시  강남구  일반용  51,406   281,268,895 \n650   202110  서울특별시  강남구  일반용  51,401   239,682,794 \n849   202111  서울특별시  강남구  일반용  51,592   239,123,479 \n...      ...    ...  ...  ...      ...           ...\n443   202108  서울특별시  중랑구  일반용  20,387    48,017,350 \n642   202109  서울특별시  중랑구  일반용  20,444    40,208,600 \n841   202110  서울특별시  중랑구  일반용  20,365    34,534,040 \n1040  202111  서울특별시  중랑구  일반용  20,419    33,697,299 \n1239  202112  서울특별시  중랑구  일반용  20,474    38,803,403 \n\n[150 rows x 6 columns]",
      "text/html": "<div>\n<style scoped>\n    .dataframe tbody tr th:only-of-type {\n        vertical-align: middle;\n    }\n\n    .dataframe tbody tr th {\n        vertical-align: top;\n    }\n\n    .dataframe thead th {\n        text-align: right;\n    }\n</style>\n<table border=\"1\" class=\"dataframe\">\n  <thead>\n    <tr style=\"text-align: right;\">\n      <th></th>\n      <th>년월</th>\n      <th>시구</th>\n      <th>시군구</th>\n      <th>계약구분</th>\n      <th>고객호수(호)</th>\n      <th>사용량(kWh)</th>\n    </tr>\n  </thead>\n  <tbody>\n    <tr>\n      <th>53</th>\n      <td>202107</td>\n      <td>서울특별시</td>\n      <td>강남구</td>\n      <td>일반용</td>\n      <td>51,135</td>\n      <td>304,780,278</td>\n    </tr>\n    <tr>\n      <th>252</th>\n      <td>202108</td>\n      <td>서울특별시</td>\n      <td>강남구</td>\n      <td>일반용</td>\n      <td>51,321</td>\n      <td>333,954,411</td>\n    </tr>\n    <tr>\n      <th>451</th>\n      <td>202109</td>\n      <td>서울특별시</td>\n      <td>강남구</td>\n      <td>일반용</td>\n      <td>51,406</td>\n      <td>281,268,895</td>\n    </tr>\n    <tr>\n      <th>650</th>\n      <td>202110</td>\n      <td>서울특별시</td>\n      <td>강남구</td>\n      <td>일반용</td>\n      <td>51,401</td>\n      <td>239,682,794</td>\n    </tr>\n    <tr>\n      <th>849</th>\n      <td>202111</td>\n      <td>서울특별시</td>\n      <td>강남구</td>\n      <td>일반용</td>\n      <td>51,592</td>\n      <td>239,123,479</td>\n    </tr>\n    <tr>\n      <th>...</th>\n      <td>...</td>\n      <td>...</td>\n      <td>...</td>\n      <td>...</td>\n      <td>...</td>\n      <td>...</td>\n    </tr>\n    <tr>\n      <th>443</th>\n      <td>202108</td>\n      <td>서울특별시</td>\n      <td>중랑구</td>\n      <td>일반용</td>\n      <td>20,387</td>\n      <td>48,017,350</td>\n    </tr>\n    <tr>\n      <th>642</th>\n      <td>202109</td>\n      <td>서울특별시</td>\n      <td>중랑구</td>\n      <td>일반용</td>\n      <td>20,444</td>\n      <td>40,208,600</td>\n    </tr>\n    <tr>\n      <th>841</th>\n      <td>202110</td>\n      <td>서울특별시</td>\n      <td>중랑구</td>\n      <td>일반용</td>\n      <td>20,365</td>\n      <td>34,534,040</td>\n    </tr>\n    <tr>\n      <th>1040</th>\n      <td>202111</td>\n      <td>서울특별시</td>\n      <td>중랑구</td>\n      <td>일반용</td>\n      <td>20,419</td>\n      <td>33,697,299</td>\n    </tr>\n    <tr>\n      <th>1239</th>\n      <td>202112</td>\n      <td>서울특별시</td>\n      <td>중랑구</td>\n      <td>일반용</td>\n      <td>20,474</td>\n      <td>38,803,403</td>\n    </tr>\n  </tbody>\n</table>\n<p>150 rows × 6 columns</p>\n</div>"
     },
     "execution_count": 19,
     "metadata": {},
     "output_type": "execute_result"
    }
   ],
   "source": [
    "df_3"
   ],
   "metadata": {
    "collapsed": false,
    "pycharm": {
     "name": "#%%\n"
    }
   }
  },
  {
   "cell_type": "code",
   "execution_count": 20,
   "outputs": [],
   "source": [
    "# GyeonGiHap = pd.DataFrame([] , columns = a)\n",
    "# GyeonGiHap['사용량']= df_3['사용량(kWh)'].loc[(df_3['시군구'] == '{가평군}')]\n",
    "# GyeonGiHap"
   ],
   "metadata": {
    "collapsed": false,
    "pycharm": {
     "name": "#%%\n"
    }
   }
  },
  {
   "cell_type": "code",
   "execution_count": 21,
   "outputs": [
    {
     "name": "stdout",
     "output_type": "stream",
     "text": [
      "[304780278, 333954411, 281268895, 239682794, 239123479, 284111161]\n",
      "[67319238, 75787660, 63621219, 54770146, 53564794, 62440430]\n",
      "[35665454, 42366439, 35253774, 30209852, 29229405, 34065607]\n",
      "[132486083, 142971092, 122067363, 106299807, 103834468, 120917312]\n",
      "[67831348, 77792009, 66420872, 57520658, 55286780, 60957996]\n",
      "[56722239, 63367962, 52337369, 45011176, 43827975, 50817812]\n",
      "[77911820, 83117330, 68954485, 60281201, 59797573, 74895977]\n",
      "[98829518, 102028555, 86539195, 77820778, 77370051, 91325332]\n",
      "[54776988, 61314468, 51702998, 45034815, 44143143, 51033987]\n",
      "[30471019, 35283758, 29464009, 25117925, 24666684, 28643413]\n",
      "[54874774, 63662454, 53113141, 45039660, 43990736, 51056959]\n",
      "[52864918, 59037328, 49905609, 43491240, 41642039, 46531660]\n",
      "[116333585, 125658156, 109211393, 97480915, 94532870, 109237511]\n",
      "[52308543, 57058794, 48191440, 41732628, 40731995, 46935962]\n",
      "[179335152, 198904313, 169570127, 145935557, 143270295, 165572858]\n",
      "[69269764, 76033376, 64252261, 55287703, 54285482, 64069293]\n",
      "[46659383, 53585062, 45150650, 39037774, 37873878, 43711405]\n",
      "[145408738, 158169642, 134884541, 122941446, 107266521, 130561107]\n",
      "[88665366, 97707062, 88748261, 81710810, 77561359, 83176191]\n",
      "[166148385, 174157476, 148301802, 129769403, 127139663, 146663146]\n",
      "[74345968, 81530259, 69776705, 60556535, 59364910, 68059433]\n",
      "[47840640, 55215711, 47416570, 40701869, 39057265, 44426442]\n",
      "[111593855, 118671522, 100688805, 87018442, 87190341, 101720462]\n",
      "[166021926, 171011304, 145610428, 126529159, 125238321, 146586878]\n",
      "[41129145, 48017350, 40208600, 34534040, 33697299, 38803403]\n",
      "서울특별시 지역별 일반용 합계 :  [1682921018, 377503487, 206790531, 728576125, 385809663, 312084533, 424958386, 533913429, 308006399, 173646808, 311737724, 293472794, 652454430, 286959362, 1002588302, 383197879, 266018152, 799231995, 517569049, 892179875, 413633810, 274658497, 606883427, 880998016, 236389837]\n",
      "서울특별시 고객호수 평균:  [51442, 20355, 16394, 23923, 25168, 21243, 18573, 13605, 15130, 12525, 23438, 16702, 30537, 15907, 30972, 16652, 21055, 29150, 16775, 23673, 17172, 20793, 24512, 23208, 20396]\n"
     ]
    }
   ],
   "source": [
    "sum2 , sum3 =[] , []\n",
    "for k in SIGUNGU:\n",
    "    GyeonGiHap = pd.DataFrame([] , columns = a)\n",
    "    HOSU = pd.DataFrame([], columns = a)\n",
    "    GyeonGiHap['사용량']= df_3['사용량(kWh)'].loc[(df_3['시군구'] == '{}'.format(k))]\n",
    "    HOSU['고객호수']= df_3['고객호수(호)'].loc[(df_3['시군구'] == '{}'.format(k))]\n",
    "    #경기합 데이터프레임의 사용량 열에 기군구가 가평군인 사용량 데이터만 뽑아내기\n",
    "    # GyeonGiHap = GyeonGiHap['사용량']\n",
    "\n",
    "    b = GyeonGiHap['사용량'].tolist()\n",
    "    c = HOSU['고객호수'].tolist()\n",
    "\n",
    "\n",
    "    #각지역별 사용량 리스트화\n",
    "    int_list  , int_list2=[] , []\n",
    "    for i in b:\n",
    "        i = re.sub(\",\" , \"\" , i)\n",
    "        #콤마 없애기\n",
    "        int_list.append(int(i))\n",
    "        #int_list에 각지역별 사용량 int로 저장\n",
    "    print(int_list)\n",
    "    sum=0\n",
    "    for i in c:\n",
    "        i = re.sub(\",\" , \"\" , i)\n",
    "        int_list2.append(int(i))\n",
    "\n",
    "    for j in int_list:\n",
    "\n",
    "        sum+= j\n",
    "    sum2.append(sum)\n",
    "    sum = 0\n",
    "    for j in int_list2: #고객호수 추출하여 더하기\n",
    "\n",
    "        sum+= j\n",
    "    sum3.append(sum//6) #6개월 치로 나눠야하나?!\n",
    "\n",
    "\n",
    "\n",
    "\n",
    "print(\"{} 지역별 일반용 합계 : \".format(City) , sum2)\n",
    "print(\"{} 고객호수 평균: \".format(City) , sum3)\n",
    "# GyeonGiHap['합계'] = sum\n",
    "#\n",
    "# GyeonGiHap"
   ],
   "metadata": {
    "collapsed": false,
    "pycharm": {
     "name": "#%%\n"
    }
   }
  },
  {
   "cell_type": "code",
   "execution_count": 22,
   "outputs": [],
   "source": [
    "# df_3 = df_3.loc[(df_3['시군구'] == '가평군')]\n",
    "#\n",
    "# df_3"
   ],
   "metadata": {
    "collapsed": false,
    "pycharm": {
     "name": "#%%\n"
    }
   }
  },
  {
   "cell_type": "code",
   "execution_count": 23,
   "outputs": [],
   "source": [
    "# GyeonGiHap = df_3.copy()\n",
    "# GyeonGiHap.reset_index(drop=True , inplace = True)\n",
    "# GyeonGiHap.append({'년월' : '202107-202112'  , '시구' : '경기도' , '시군구' : '가평군' , '계약구분' : '일반용' , '사용량(kWh)' : sum}, ignore_index=True)"
   ],
   "metadata": {
    "collapsed": false,
    "pycharm": {
     "name": "#%%\n"
    }
   }
  },
  {
   "cell_type": "code",
   "execution_count": 24,
   "outputs": [],
   "source": [
    "# a=[]\n",
    "# for i in SIGUNGU:\n",
    "#     a.append(i)\n",
    "#\n",
    "# print(a)"
   ],
   "metadata": {
    "collapsed": false,
    "pycharm": {
     "name": "#%%\n"
    }
   }
  },
  {
   "cell_type": "markdown",
   "source": [
    "### 4. 년월 체크!!!!!!!!!!!!!!!!!!!!!!!!!!!!!!!!!!!!!!!!!!!!!!!!!!!!!!!!!!!!!!!!!"
   ],
   "metadata": {
    "collapsed": false,
    "pycharm": {
     "name": "#%% md\n"
    }
   }
  },
  {
   "cell_type": "code",
   "execution_count": 25,
   "outputs": [
    {
     "name": "stderr",
     "output_type": "stream",
     "text": [
      "C:\\Users\\user\\AppData\\Local\\Temp\\ipykernel_23136\\2943201010.py:4: FutureWarning: The frame.append method is deprecated and will be removed from pandas in a future version. Use pandas.concat instead.\n",
      "  GyeonGiHap2 = GyeonGiHap2.append({'년월' :'202107-202112'  , '시구' : '{}'.format(City) , '시군구' : '{}'.format(SIGUNGU[i]) , '계약구분' : '일반용' , '고객호수(호)' : sum3[i] ,  '사용량(kWh)' : sum2[i]} , ignore_index=True) #년월 파일마다 수정하기\n",
      "C:\\Users\\user\\AppData\\Local\\Temp\\ipykernel_23136\\2943201010.py:4: FutureWarning: The frame.append method is deprecated and will be removed from pandas in a future version. Use pandas.concat instead.\n",
      "  GyeonGiHap2 = GyeonGiHap2.append({'년월' :'202107-202112'  , '시구' : '{}'.format(City) , '시군구' : '{}'.format(SIGUNGU[i]) , '계약구분' : '일반용' , '고객호수(호)' : sum3[i] ,  '사용량(kWh)' : sum2[i]} , ignore_index=True) #년월 파일마다 수정하기\n",
      "C:\\Users\\user\\AppData\\Local\\Temp\\ipykernel_23136\\2943201010.py:4: FutureWarning: The frame.append method is deprecated and will be removed from pandas in a future version. Use pandas.concat instead.\n",
      "  GyeonGiHap2 = GyeonGiHap2.append({'년월' :'202107-202112'  , '시구' : '{}'.format(City) , '시군구' : '{}'.format(SIGUNGU[i]) , '계약구분' : '일반용' , '고객호수(호)' : sum3[i] ,  '사용량(kWh)' : sum2[i]} , ignore_index=True) #년월 파일마다 수정하기\n",
      "C:\\Users\\user\\AppData\\Local\\Temp\\ipykernel_23136\\2943201010.py:4: FutureWarning: The frame.append method is deprecated and will be removed from pandas in a future version. Use pandas.concat instead.\n",
      "  GyeonGiHap2 = GyeonGiHap2.append({'년월' :'202107-202112'  , '시구' : '{}'.format(City) , '시군구' : '{}'.format(SIGUNGU[i]) , '계약구분' : '일반용' , '고객호수(호)' : sum3[i] ,  '사용량(kWh)' : sum2[i]} , ignore_index=True) #년월 파일마다 수정하기\n",
      "C:\\Users\\user\\AppData\\Local\\Temp\\ipykernel_23136\\2943201010.py:4: FutureWarning: The frame.append method is deprecated and will be removed from pandas in a future version. Use pandas.concat instead.\n",
      "  GyeonGiHap2 = GyeonGiHap2.append({'년월' :'202107-202112'  , '시구' : '{}'.format(City) , '시군구' : '{}'.format(SIGUNGU[i]) , '계약구분' : '일반용' , '고객호수(호)' : sum3[i] ,  '사용량(kWh)' : sum2[i]} , ignore_index=True) #년월 파일마다 수정하기\n",
      "C:\\Users\\user\\AppData\\Local\\Temp\\ipykernel_23136\\2943201010.py:4: FutureWarning: The frame.append method is deprecated and will be removed from pandas in a future version. Use pandas.concat instead.\n",
      "  GyeonGiHap2 = GyeonGiHap2.append({'년월' :'202107-202112'  , '시구' : '{}'.format(City) , '시군구' : '{}'.format(SIGUNGU[i]) , '계약구분' : '일반용' , '고객호수(호)' : sum3[i] ,  '사용량(kWh)' : sum2[i]} , ignore_index=True) #년월 파일마다 수정하기\n",
      "C:\\Users\\user\\AppData\\Local\\Temp\\ipykernel_23136\\2943201010.py:4: FutureWarning: The frame.append method is deprecated and will be removed from pandas in a future version. Use pandas.concat instead.\n",
      "  GyeonGiHap2 = GyeonGiHap2.append({'년월' :'202107-202112'  , '시구' : '{}'.format(City) , '시군구' : '{}'.format(SIGUNGU[i]) , '계약구분' : '일반용' , '고객호수(호)' : sum3[i] ,  '사용량(kWh)' : sum2[i]} , ignore_index=True) #년월 파일마다 수정하기\n",
      "C:\\Users\\user\\AppData\\Local\\Temp\\ipykernel_23136\\2943201010.py:4: FutureWarning: The frame.append method is deprecated and will be removed from pandas in a future version. Use pandas.concat instead.\n",
      "  GyeonGiHap2 = GyeonGiHap2.append({'년월' :'202107-202112'  , '시구' : '{}'.format(City) , '시군구' : '{}'.format(SIGUNGU[i]) , '계약구분' : '일반용' , '고객호수(호)' : sum3[i] ,  '사용량(kWh)' : sum2[i]} , ignore_index=True) #년월 파일마다 수정하기\n",
      "C:\\Users\\user\\AppData\\Local\\Temp\\ipykernel_23136\\2943201010.py:4: FutureWarning: The frame.append method is deprecated and will be removed from pandas in a future version. Use pandas.concat instead.\n",
      "  GyeonGiHap2 = GyeonGiHap2.append({'년월' :'202107-202112'  , '시구' : '{}'.format(City) , '시군구' : '{}'.format(SIGUNGU[i]) , '계약구분' : '일반용' , '고객호수(호)' : sum3[i] ,  '사용량(kWh)' : sum2[i]} , ignore_index=True) #년월 파일마다 수정하기\n",
      "C:\\Users\\user\\AppData\\Local\\Temp\\ipykernel_23136\\2943201010.py:4: FutureWarning: The frame.append method is deprecated and will be removed from pandas in a future version. Use pandas.concat instead.\n",
      "  GyeonGiHap2 = GyeonGiHap2.append({'년월' :'202107-202112'  , '시구' : '{}'.format(City) , '시군구' : '{}'.format(SIGUNGU[i]) , '계약구분' : '일반용' , '고객호수(호)' : sum3[i] ,  '사용량(kWh)' : sum2[i]} , ignore_index=True) #년월 파일마다 수정하기\n",
      "C:\\Users\\user\\AppData\\Local\\Temp\\ipykernel_23136\\2943201010.py:4: FutureWarning: The frame.append method is deprecated and will be removed from pandas in a future version. Use pandas.concat instead.\n",
      "  GyeonGiHap2 = GyeonGiHap2.append({'년월' :'202107-202112'  , '시구' : '{}'.format(City) , '시군구' : '{}'.format(SIGUNGU[i]) , '계약구분' : '일반용' , '고객호수(호)' : sum3[i] ,  '사용량(kWh)' : sum2[i]} , ignore_index=True) #년월 파일마다 수정하기\n",
      "C:\\Users\\user\\AppData\\Local\\Temp\\ipykernel_23136\\2943201010.py:4: FutureWarning: The frame.append method is deprecated and will be removed from pandas in a future version. Use pandas.concat instead.\n",
      "  GyeonGiHap2 = GyeonGiHap2.append({'년월' :'202107-202112'  , '시구' : '{}'.format(City) , '시군구' : '{}'.format(SIGUNGU[i]) , '계약구분' : '일반용' , '고객호수(호)' : sum3[i] ,  '사용량(kWh)' : sum2[i]} , ignore_index=True) #년월 파일마다 수정하기\n",
      "C:\\Users\\user\\AppData\\Local\\Temp\\ipykernel_23136\\2943201010.py:4: FutureWarning: The frame.append method is deprecated and will be removed from pandas in a future version. Use pandas.concat instead.\n",
      "  GyeonGiHap2 = GyeonGiHap2.append({'년월' :'202107-202112'  , '시구' : '{}'.format(City) , '시군구' : '{}'.format(SIGUNGU[i]) , '계약구분' : '일반용' , '고객호수(호)' : sum3[i] ,  '사용량(kWh)' : sum2[i]} , ignore_index=True) #년월 파일마다 수정하기\n",
      "C:\\Users\\user\\AppData\\Local\\Temp\\ipykernel_23136\\2943201010.py:4: FutureWarning: The frame.append method is deprecated and will be removed from pandas in a future version. Use pandas.concat instead.\n",
      "  GyeonGiHap2 = GyeonGiHap2.append({'년월' :'202107-202112'  , '시구' : '{}'.format(City) , '시군구' : '{}'.format(SIGUNGU[i]) , '계약구분' : '일반용' , '고객호수(호)' : sum3[i] ,  '사용량(kWh)' : sum2[i]} , ignore_index=True) #년월 파일마다 수정하기\n",
      "C:\\Users\\user\\AppData\\Local\\Temp\\ipykernel_23136\\2943201010.py:4: FutureWarning: The frame.append method is deprecated and will be removed from pandas in a future version. Use pandas.concat instead.\n",
      "  GyeonGiHap2 = GyeonGiHap2.append({'년월' :'202107-202112'  , '시구' : '{}'.format(City) , '시군구' : '{}'.format(SIGUNGU[i]) , '계약구분' : '일반용' , '고객호수(호)' : sum3[i] ,  '사용량(kWh)' : sum2[i]} , ignore_index=True) #년월 파일마다 수정하기\n",
      "C:\\Users\\user\\AppData\\Local\\Temp\\ipykernel_23136\\2943201010.py:4: FutureWarning: The frame.append method is deprecated and will be removed from pandas in a future version. Use pandas.concat instead.\n",
      "  GyeonGiHap2 = GyeonGiHap2.append({'년월' :'202107-202112'  , '시구' : '{}'.format(City) , '시군구' : '{}'.format(SIGUNGU[i]) , '계약구분' : '일반용' , '고객호수(호)' : sum3[i] ,  '사용량(kWh)' : sum2[i]} , ignore_index=True) #년월 파일마다 수정하기\n",
      "C:\\Users\\user\\AppData\\Local\\Temp\\ipykernel_23136\\2943201010.py:4: FutureWarning: The frame.append method is deprecated and will be removed from pandas in a future version. Use pandas.concat instead.\n",
      "  GyeonGiHap2 = GyeonGiHap2.append({'년월' :'202107-202112'  , '시구' : '{}'.format(City) , '시군구' : '{}'.format(SIGUNGU[i]) , '계약구분' : '일반용' , '고객호수(호)' : sum3[i] ,  '사용량(kWh)' : sum2[i]} , ignore_index=True) #년월 파일마다 수정하기\n",
      "C:\\Users\\user\\AppData\\Local\\Temp\\ipykernel_23136\\2943201010.py:4: FutureWarning: The frame.append method is deprecated and will be removed from pandas in a future version. Use pandas.concat instead.\n",
      "  GyeonGiHap2 = GyeonGiHap2.append({'년월' :'202107-202112'  , '시구' : '{}'.format(City) , '시군구' : '{}'.format(SIGUNGU[i]) , '계약구분' : '일반용' , '고객호수(호)' : sum3[i] ,  '사용량(kWh)' : sum2[i]} , ignore_index=True) #년월 파일마다 수정하기\n",
      "C:\\Users\\user\\AppData\\Local\\Temp\\ipykernel_23136\\2943201010.py:4: FutureWarning: The frame.append method is deprecated and will be removed from pandas in a future version. Use pandas.concat instead.\n",
      "  GyeonGiHap2 = GyeonGiHap2.append({'년월' :'202107-202112'  , '시구' : '{}'.format(City) , '시군구' : '{}'.format(SIGUNGU[i]) , '계약구분' : '일반용' , '고객호수(호)' : sum3[i] ,  '사용량(kWh)' : sum2[i]} , ignore_index=True) #년월 파일마다 수정하기\n",
      "C:\\Users\\user\\AppData\\Local\\Temp\\ipykernel_23136\\2943201010.py:4: FutureWarning: The frame.append method is deprecated and will be removed from pandas in a future version. Use pandas.concat instead.\n",
      "  GyeonGiHap2 = GyeonGiHap2.append({'년월' :'202107-202112'  , '시구' : '{}'.format(City) , '시군구' : '{}'.format(SIGUNGU[i]) , '계약구분' : '일반용' , '고객호수(호)' : sum3[i] ,  '사용량(kWh)' : sum2[i]} , ignore_index=True) #년월 파일마다 수정하기\n",
      "C:\\Users\\user\\AppData\\Local\\Temp\\ipykernel_23136\\2943201010.py:4: FutureWarning: The frame.append method is deprecated and will be removed from pandas in a future version. Use pandas.concat instead.\n",
      "  GyeonGiHap2 = GyeonGiHap2.append({'년월' :'202107-202112'  , '시구' : '{}'.format(City) , '시군구' : '{}'.format(SIGUNGU[i]) , '계약구분' : '일반용' , '고객호수(호)' : sum3[i] ,  '사용량(kWh)' : sum2[i]} , ignore_index=True) #년월 파일마다 수정하기\n",
      "C:\\Users\\user\\AppData\\Local\\Temp\\ipykernel_23136\\2943201010.py:4: FutureWarning: The frame.append method is deprecated and will be removed from pandas in a future version. Use pandas.concat instead.\n",
      "  GyeonGiHap2 = GyeonGiHap2.append({'년월' :'202107-202112'  , '시구' : '{}'.format(City) , '시군구' : '{}'.format(SIGUNGU[i]) , '계약구분' : '일반용' , '고객호수(호)' : sum3[i] ,  '사용량(kWh)' : sum2[i]} , ignore_index=True) #년월 파일마다 수정하기\n",
      "C:\\Users\\user\\AppData\\Local\\Temp\\ipykernel_23136\\2943201010.py:4: FutureWarning: The frame.append method is deprecated and will be removed from pandas in a future version. Use pandas.concat instead.\n",
      "  GyeonGiHap2 = GyeonGiHap2.append({'년월' :'202107-202112'  , '시구' : '{}'.format(City) , '시군구' : '{}'.format(SIGUNGU[i]) , '계약구분' : '일반용' , '고객호수(호)' : sum3[i] ,  '사용량(kWh)' : sum2[i]} , ignore_index=True) #년월 파일마다 수정하기\n",
      "C:\\Users\\user\\AppData\\Local\\Temp\\ipykernel_23136\\2943201010.py:4: FutureWarning: The frame.append method is deprecated and will be removed from pandas in a future version. Use pandas.concat instead.\n",
      "  GyeonGiHap2 = GyeonGiHap2.append({'년월' :'202107-202112'  , '시구' : '{}'.format(City) , '시군구' : '{}'.format(SIGUNGU[i]) , '계약구분' : '일반용' , '고객호수(호)' : sum3[i] ,  '사용량(kWh)' : sum2[i]} , ignore_index=True) #년월 파일마다 수정하기\n",
      "C:\\Users\\user\\AppData\\Local\\Temp\\ipykernel_23136\\2943201010.py:4: FutureWarning: The frame.append method is deprecated and will be removed from pandas in a future version. Use pandas.concat instead.\n",
      "  GyeonGiHap2 = GyeonGiHap2.append({'년월' :'202107-202112'  , '시구' : '{}'.format(City) , '시군구' : '{}'.format(SIGUNGU[i]) , '계약구분' : '일반용' , '고객호수(호)' : sum3[i] ,  '사용량(kWh)' : sum2[i]} , ignore_index=True) #년월 파일마다 수정하기\n"
     ]
    },
    {
     "data": {
      "text/plain": "                년월     시구  시군구 계약구분  고객호수(호)      사용량(kWh)\n0           202107  서울특별시  강남구  일반용  51,135   304,780,278 \n1           202108  서울특별시  강남구  일반용  51,321   333,954,411 \n2           202109  서울특별시  강남구  일반용  51,406   281,268,895 \n3           202110  서울특별시  강남구  일반용  51,401   239,682,794 \n4           202111  서울특별시  강남구  일반용  51,592   239,123,479 \n..             ...    ...  ...  ...      ...           ...\n170  202107-202112  서울특별시  용산구  일반용    17172     413633810\n171  202107-202112  서울특별시  은평구  일반용    20793     274658497\n172  202107-202112  서울특별시  종로구  일반용    24512     606883427\n173  202107-202112  서울특별시   중구  일반용    23208     880998016\n174  202107-202112  서울특별시  중랑구  일반용    20396     236389837\n\n[175 rows x 6 columns]",
      "text/html": "<div>\n<style scoped>\n    .dataframe tbody tr th:only-of-type {\n        vertical-align: middle;\n    }\n\n    .dataframe tbody tr th {\n        vertical-align: top;\n    }\n\n    .dataframe thead th {\n        text-align: right;\n    }\n</style>\n<table border=\"1\" class=\"dataframe\">\n  <thead>\n    <tr style=\"text-align: right;\">\n      <th></th>\n      <th>년월</th>\n      <th>시구</th>\n      <th>시군구</th>\n      <th>계약구분</th>\n      <th>고객호수(호)</th>\n      <th>사용량(kWh)</th>\n    </tr>\n  </thead>\n  <tbody>\n    <tr>\n      <th>0</th>\n      <td>202107</td>\n      <td>서울특별시</td>\n      <td>강남구</td>\n      <td>일반용</td>\n      <td>51,135</td>\n      <td>304,780,278</td>\n    </tr>\n    <tr>\n      <th>1</th>\n      <td>202108</td>\n      <td>서울특별시</td>\n      <td>강남구</td>\n      <td>일반용</td>\n      <td>51,321</td>\n      <td>333,954,411</td>\n    </tr>\n    <tr>\n      <th>2</th>\n      <td>202109</td>\n      <td>서울특별시</td>\n      <td>강남구</td>\n      <td>일반용</td>\n      <td>51,406</td>\n      <td>281,268,895</td>\n    </tr>\n    <tr>\n      <th>3</th>\n      <td>202110</td>\n      <td>서울특별시</td>\n      <td>강남구</td>\n      <td>일반용</td>\n      <td>51,401</td>\n      <td>239,682,794</td>\n    </tr>\n    <tr>\n      <th>4</th>\n      <td>202111</td>\n      <td>서울특별시</td>\n      <td>강남구</td>\n      <td>일반용</td>\n      <td>51,592</td>\n      <td>239,123,479</td>\n    </tr>\n    <tr>\n      <th>...</th>\n      <td>...</td>\n      <td>...</td>\n      <td>...</td>\n      <td>...</td>\n      <td>...</td>\n      <td>...</td>\n    </tr>\n    <tr>\n      <th>170</th>\n      <td>202107-202112</td>\n      <td>서울특별시</td>\n      <td>용산구</td>\n      <td>일반용</td>\n      <td>17172</td>\n      <td>413633810</td>\n    </tr>\n    <tr>\n      <th>171</th>\n      <td>202107-202112</td>\n      <td>서울특별시</td>\n      <td>은평구</td>\n      <td>일반용</td>\n      <td>20793</td>\n      <td>274658497</td>\n    </tr>\n    <tr>\n      <th>172</th>\n      <td>202107-202112</td>\n      <td>서울특별시</td>\n      <td>종로구</td>\n      <td>일반용</td>\n      <td>24512</td>\n      <td>606883427</td>\n    </tr>\n    <tr>\n      <th>173</th>\n      <td>202107-202112</td>\n      <td>서울특별시</td>\n      <td>중구</td>\n      <td>일반용</td>\n      <td>23208</td>\n      <td>880998016</td>\n    </tr>\n    <tr>\n      <th>174</th>\n      <td>202107-202112</td>\n      <td>서울특별시</td>\n      <td>중랑구</td>\n      <td>일반용</td>\n      <td>20396</td>\n      <td>236389837</td>\n    </tr>\n  </tbody>\n</table>\n<p>175 rows × 6 columns</p>\n</div>"
     },
     "execution_count": 25,
     "metadata": {},
     "output_type": "execute_result"
    }
   ],
   "source": [
    "GyeonGiHap2 = df_3.copy()\n",
    "GyeonGiHap2.reset_index(drop=True , inplace = True)\n",
    "for i in range(len(SIGUNGU)):\n",
    "    GyeonGiHap2 = GyeonGiHap2.append({'년월' :'202107-202112'  , '시구' : '{}'.format(City) , '시군구' : '{}'.format(SIGUNGU[i]) , '계약구분' : '일반용' , '고객호수(호)' : sum3[i] ,  '사용량(kWh)' : sum2[i]} , ignore_index=True) #년월 파일마다 수정하기\n",
    "GyeonGiHap2"
   ],
   "metadata": {
    "collapsed": false,
    "pycharm": {
     "name": "#%%\n"
    }
   }
  },
  {
   "cell_type": "markdown",
   "source": [
    "### 5. 날짜 체크!!!!!!!!!!!!!!!!!!!!!!!!!!!!!!!!!!!!!!!!!!!!!!!!!!!!"
   ],
   "metadata": {
    "collapsed": false,
    "pycharm": {
     "name": "#%% md\n"
    }
   }
  },
  {
   "cell_type": "code",
   "execution_count": 26,
   "outputs": [
    {
     "data": {
      "text/plain": "                년월     시구   시군구 계약구분 고객호수(호)    사용량(kWh)\n150  202107-202112  서울특별시   강남구  일반용   51442  1682921018\n151  202107-202112  서울특별시   강동구  일반용   20355   377503487\n152  202107-202112  서울특별시   강북구  일반용   16394   206790531\n153  202107-202112  서울특별시   강서구  일반용   23923   728576125\n154  202107-202112  서울특별시   관악구  일반용   25168   385809663\n155  202107-202112  서울특별시   광진구  일반용   21243   312084533\n156  202107-202112  서울특별시   구로구  일반용   18573   424958386\n157  202107-202112  서울특별시   금천구  일반용   13605   533913429\n158  202107-202112  서울특별시   노원구  일반용   15130   308006399\n159  202107-202112  서울특별시   도봉구  일반용   12525   173646808\n160  202107-202112  서울특별시  동대문구  일반용   23438   311737724\n161  202107-202112  서울특별시   동작구  일반용   16702   293472794\n162  202107-202112  서울특별시   마포구  일반용   30537   652454430\n163  202107-202112  서울특별시  서대문구  일반용   15907   286959362\n164  202107-202112  서울특별시   서초구  일반용   30972  1002588302\n165  202107-202112  서울특별시   성동구  일반용   16652   383197879\n166  202107-202112  서울특별시   성북구  일반용   21055   266018152\n167  202107-202112  서울특별시   송파구  일반용   29150   799231995\n168  202107-202112  서울특별시   양천구  일반용   16775   517569049\n169  202107-202112  서울특별시  영등포구  일반용   23673   892179875\n170  202107-202112  서울특별시   용산구  일반용   17172   413633810\n171  202107-202112  서울특별시   은평구  일반용   20793   274658497\n172  202107-202112  서울특별시   종로구  일반용   24512   606883427\n173  202107-202112  서울특별시    중구  일반용   23208   880998016\n174  202107-202112  서울특별시   중랑구  일반용   20396   236389837",
      "text/html": "<div>\n<style scoped>\n    .dataframe tbody tr th:only-of-type {\n        vertical-align: middle;\n    }\n\n    .dataframe tbody tr th {\n        vertical-align: top;\n    }\n\n    .dataframe thead th {\n        text-align: right;\n    }\n</style>\n<table border=\"1\" class=\"dataframe\">\n  <thead>\n    <tr style=\"text-align: right;\">\n      <th></th>\n      <th>년월</th>\n      <th>시구</th>\n      <th>시군구</th>\n      <th>계약구분</th>\n      <th>고객호수(호)</th>\n      <th>사용량(kWh)</th>\n    </tr>\n  </thead>\n  <tbody>\n    <tr>\n      <th>150</th>\n      <td>202107-202112</td>\n      <td>서울특별시</td>\n      <td>강남구</td>\n      <td>일반용</td>\n      <td>51442</td>\n      <td>1682921018</td>\n    </tr>\n    <tr>\n      <th>151</th>\n      <td>202107-202112</td>\n      <td>서울특별시</td>\n      <td>강동구</td>\n      <td>일반용</td>\n      <td>20355</td>\n      <td>377503487</td>\n    </tr>\n    <tr>\n      <th>152</th>\n      <td>202107-202112</td>\n      <td>서울특별시</td>\n      <td>강북구</td>\n      <td>일반용</td>\n      <td>16394</td>\n      <td>206790531</td>\n    </tr>\n    <tr>\n      <th>153</th>\n      <td>202107-202112</td>\n      <td>서울특별시</td>\n      <td>강서구</td>\n      <td>일반용</td>\n      <td>23923</td>\n      <td>728576125</td>\n    </tr>\n    <tr>\n      <th>154</th>\n      <td>202107-202112</td>\n      <td>서울특별시</td>\n      <td>관악구</td>\n      <td>일반용</td>\n      <td>25168</td>\n      <td>385809663</td>\n    </tr>\n    <tr>\n      <th>155</th>\n      <td>202107-202112</td>\n      <td>서울특별시</td>\n      <td>광진구</td>\n      <td>일반용</td>\n      <td>21243</td>\n      <td>312084533</td>\n    </tr>\n    <tr>\n      <th>156</th>\n      <td>202107-202112</td>\n      <td>서울특별시</td>\n      <td>구로구</td>\n      <td>일반용</td>\n      <td>18573</td>\n      <td>424958386</td>\n    </tr>\n    <tr>\n      <th>157</th>\n      <td>202107-202112</td>\n      <td>서울특별시</td>\n      <td>금천구</td>\n      <td>일반용</td>\n      <td>13605</td>\n      <td>533913429</td>\n    </tr>\n    <tr>\n      <th>158</th>\n      <td>202107-202112</td>\n      <td>서울특별시</td>\n      <td>노원구</td>\n      <td>일반용</td>\n      <td>15130</td>\n      <td>308006399</td>\n    </tr>\n    <tr>\n      <th>159</th>\n      <td>202107-202112</td>\n      <td>서울특별시</td>\n      <td>도봉구</td>\n      <td>일반용</td>\n      <td>12525</td>\n      <td>173646808</td>\n    </tr>\n    <tr>\n      <th>160</th>\n      <td>202107-202112</td>\n      <td>서울특별시</td>\n      <td>동대문구</td>\n      <td>일반용</td>\n      <td>23438</td>\n      <td>311737724</td>\n    </tr>\n    <tr>\n      <th>161</th>\n      <td>202107-202112</td>\n      <td>서울특별시</td>\n      <td>동작구</td>\n      <td>일반용</td>\n      <td>16702</td>\n      <td>293472794</td>\n    </tr>\n    <tr>\n      <th>162</th>\n      <td>202107-202112</td>\n      <td>서울특별시</td>\n      <td>마포구</td>\n      <td>일반용</td>\n      <td>30537</td>\n      <td>652454430</td>\n    </tr>\n    <tr>\n      <th>163</th>\n      <td>202107-202112</td>\n      <td>서울특별시</td>\n      <td>서대문구</td>\n      <td>일반용</td>\n      <td>15907</td>\n      <td>286959362</td>\n    </tr>\n    <tr>\n      <th>164</th>\n      <td>202107-202112</td>\n      <td>서울특별시</td>\n      <td>서초구</td>\n      <td>일반용</td>\n      <td>30972</td>\n      <td>1002588302</td>\n    </tr>\n    <tr>\n      <th>165</th>\n      <td>202107-202112</td>\n      <td>서울특별시</td>\n      <td>성동구</td>\n      <td>일반용</td>\n      <td>16652</td>\n      <td>383197879</td>\n    </tr>\n    <tr>\n      <th>166</th>\n      <td>202107-202112</td>\n      <td>서울특별시</td>\n      <td>성북구</td>\n      <td>일반용</td>\n      <td>21055</td>\n      <td>266018152</td>\n    </tr>\n    <tr>\n      <th>167</th>\n      <td>202107-202112</td>\n      <td>서울특별시</td>\n      <td>송파구</td>\n      <td>일반용</td>\n      <td>29150</td>\n      <td>799231995</td>\n    </tr>\n    <tr>\n      <th>168</th>\n      <td>202107-202112</td>\n      <td>서울특별시</td>\n      <td>양천구</td>\n      <td>일반용</td>\n      <td>16775</td>\n      <td>517569049</td>\n    </tr>\n    <tr>\n      <th>169</th>\n      <td>202107-202112</td>\n      <td>서울특별시</td>\n      <td>영등포구</td>\n      <td>일반용</td>\n      <td>23673</td>\n      <td>892179875</td>\n    </tr>\n    <tr>\n      <th>170</th>\n      <td>202107-202112</td>\n      <td>서울특별시</td>\n      <td>용산구</td>\n      <td>일반용</td>\n      <td>17172</td>\n      <td>413633810</td>\n    </tr>\n    <tr>\n      <th>171</th>\n      <td>202107-202112</td>\n      <td>서울특별시</td>\n      <td>은평구</td>\n      <td>일반용</td>\n      <td>20793</td>\n      <td>274658497</td>\n    </tr>\n    <tr>\n      <th>172</th>\n      <td>202107-202112</td>\n      <td>서울특별시</td>\n      <td>종로구</td>\n      <td>일반용</td>\n      <td>24512</td>\n      <td>606883427</td>\n    </tr>\n    <tr>\n      <th>173</th>\n      <td>202107-202112</td>\n      <td>서울특별시</td>\n      <td>중구</td>\n      <td>일반용</td>\n      <td>23208</td>\n      <td>880998016</td>\n    </tr>\n    <tr>\n      <th>174</th>\n      <td>202107-202112</td>\n      <td>서울특별시</td>\n      <td>중랑구</td>\n      <td>일반용</td>\n      <td>20396</td>\n      <td>236389837</td>\n    </tr>\n  </tbody>\n</table>\n</div>"
     },
     "execution_count": 26,
     "metadata": {},
     "output_type": "execute_result"
    }
   ],
   "source": [
    "GyeonGiHap2 = GyeonGiHap2.loc[GyeonGiHap2['년월'] == '202107-202112']\n",
    "GyeonGiHap2"
   ],
   "metadata": {
    "collapsed": false,
    "pycharm": {
     "name": "#%%\n"
    }
   }
  },
  {
   "cell_type": "code",
   "execution_count": 27,
   "outputs": [
    {
     "data": {
      "text/plain": "                년월     시구   시군구 계약구분 고객호수(호)    사용량(kWh)\n150  202107-202112  서울특별시   강남구  일반용   51442  1682921018\n150  202107-202112  서울특별시   강남구   합계   32472  2421253236\n151  202107-202112  서울특별시   강동구   합계   23720   851476329\n151  202107-202112  서울특별시   강동구  일반용   20355   377503487\n152  202107-202112  서울특별시   강북구  일반용   16394   206790531\n152  202107-202112  서울특별시   강북구   합계   24934   474641026\n153  202107-202112  서울특별시   강서구  일반용   23923   728576125\n153  202107-202112  서울특별시   강서구   합계   35268  1396768043\n154  202107-202112  서울특별시   관악구  일반용   25168   385809663\n154  202107-202112  서울특별시   관악구   합계   46480   893358039\n155  202107-202112  서울특별시   광진구  일반용   21243   312084533\n155  202107-202112  서울특별시   광진구   합계   30225   832904763\n156  202107-202112  서울특별시   구로구  일반용   18573   424958386\n156  202107-202112  서울특별시   구로구   합계   23351   958993248\n157  202107-202112  서울특별시   금천구  일반용   13605   533913429\n157  202107-202112  서울특별시   금천구   합계   18311   860037392\n158  202107-202112  서울특별시   노원구   합계   18528   780632230\n158  202107-202112  서울특별시   노원구  일반용   15130   308006399\n159  202107-202112  서울특별시   도봉구   합계   17271   457536915\n159  202107-202112  서울특별시   도봉구  일반용   12525   173646808\n160  202107-202112  서울특별시  동대문구   합계   24876   743296915\n160  202107-202112  서울특별시  동대문구  일반용   23438   311737724\n161  202107-202112  서울특별시   동작구   합계   27535   671799003\n161  202107-202112  서울특별시   동작구  일반용   16702   293472794\n162  202107-202112  서울특별시   마포구   합계   25479  1127808640\n162  202107-202112  서울특별시   마포구  일반용   30537   652454430\n163  202107-202112  서울특별시  서대문구   합계   20030   653855092\n163  202107-202112  서울특별시  서대문구  일반용   15907   286959362\n164  202107-202112  서울특별시   서초구  일반용   30972  1002588302\n164  202107-202112  서울특별시   서초구   합계   21754  1683223906\n165  202107-202112  서울특별시   성동구   합계   16057  1144151591\n165  202107-202112  서울특별시   성동구  일반용   16652   383197879\n166  202107-202112  서울특별시   성북구   합계   25855   759453661\n166  202107-202112  서울특별시   성북구  일반용   21055   266018152\n167  202107-202112  서울특별시   송파구   합계   30074  1508643301\n167  202107-202112  서울특별시   송파구  일반용   29150   799231995\n168  202107-202112  서울특별시   양천구   합계   21305   936984798\n168  202107-202112  서울특별시   양천구  일반용   16775   517569049\n169  202107-202112  서울특별시  영등포구  일반용   23673   892179875\n169  202107-202112  서울특별시  영등포구   합계   24309  1425490536\n170  202107-202112  서울특별시   용산구   합계   18115   751707636\n170  202107-202112  서울특별시   용산구  일반용   17172   413633810\n171  202107-202112  서울특별시   은평구   합계   32446   769673424\n171  202107-202112  서울특별시   은평구  일반용   20793   274658497\n172  202107-202112  서울특별시   종로구   합계   17562   867702392\n172  202107-202112  서울특별시   종로구  일반용   24512   606883427\n173  202107-202112  서울특별시    중구   합계   13186  1172211152\n173  202107-202112  서울특별시    중구  일반용   23208   880998016\n174  202107-202112  서울특별시   중랑구  일반용   20396   236389837\n174  202107-202112  서울특별시   중랑구   합계   29254   591354773",
      "text/html": "<div>\n<style scoped>\n    .dataframe tbody tr th:only-of-type {\n        vertical-align: middle;\n    }\n\n    .dataframe tbody tr th {\n        vertical-align: top;\n    }\n\n    .dataframe thead th {\n        text-align: right;\n    }\n</style>\n<table border=\"1\" class=\"dataframe\">\n  <thead>\n    <tr style=\"text-align: right;\">\n      <th></th>\n      <th>년월</th>\n      <th>시구</th>\n      <th>시군구</th>\n      <th>계약구분</th>\n      <th>고객호수(호)</th>\n      <th>사용량(kWh)</th>\n    </tr>\n  </thead>\n  <tbody>\n    <tr>\n      <th>150</th>\n      <td>202107-202112</td>\n      <td>서울특별시</td>\n      <td>강남구</td>\n      <td>일반용</td>\n      <td>51442</td>\n      <td>1682921018</td>\n    </tr>\n    <tr>\n      <th>150</th>\n      <td>202107-202112</td>\n      <td>서울특별시</td>\n      <td>강남구</td>\n      <td>합계</td>\n      <td>32472</td>\n      <td>2421253236</td>\n    </tr>\n    <tr>\n      <th>151</th>\n      <td>202107-202112</td>\n      <td>서울특별시</td>\n      <td>강동구</td>\n      <td>합계</td>\n      <td>23720</td>\n      <td>851476329</td>\n    </tr>\n    <tr>\n      <th>151</th>\n      <td>202107-202112</td>\n      <td>서울특별시</td>\n      <td>강동구</td>\n      <td>일반용</td>\n      <td>20355</td>\n      <td>377503487</td>\n    </tr>\n    <tr>\n      <th>152</th>\n      <td>202107-202112</td>\n      <td>서울특별시</td>\n      <td>강북구</td>\n      <td>일반용</td>\n      <td>16394</td>\n      <td>206790531</td>\n    </tr>\n    <tr>\n      <th>152</th>\n      <td>202107-202112</td>\n      <td>서울특별시</td>\n      <td>강북구</td>\n      <td>합계</td>\n      <td>24934</td>\n      <td>474641026</td>\n    </tr>\n    <tr>\n      <th>153</th>\n      <td>202107-202112</td>\n      <td>서울특별시</td>\n      <td>강서구</td>\n      <td>일반용</td>\n      <td>23923</td>\n      <td>728576125</td>\n    </tr>\n    <tr>\n      <th>153</th>\n      <td>202107-202112</td>\n      <td>서울특별시</td>\n      <td>강서구</td>\n      <td>합계</td>\n      <td>35268</td>\n      <td>1396768043</td>\n    </tr>\n    <tr>\n      <th>154</th>\n      <td>202107-202112</td>\n      <td>서울특별시</td>\n      <td>관악구</td>\n      <td>일반용</td>\n      <td>25168</td>\n      <td>385809663</td>\n    </tr>\n    <tr>\n      <th>154</th>\n      <td>202107-202112</td>\n      <td>서울특별시</td>\n      <td>관악구</td>\n      <td>합계</td>\n      <td>46480</td>\n      <td>893358039</td>\n    </tr>\n    <tr>\n      <th>155</th>\n      <td>202107-202112</td>\n      <td>서울특별시</td>\n      <td>광진구</td>\n      <td>일반용</td>\n      <td>21243</td>\n      <td>312084533</td>\n    </tr>\n    <tr>\n      <th>155</th>\n      <td>202107-202112</td>\n      <td>서울특별시</td>\n      <td>광진구</td>\n      <td>합계</td>\n      <td>30225</td>\n      <td>832904763</td>\n    </tr>\n    <tr>\n      <th>156</th>\n      <td>202107-202112</td>\n      <td>서울특별시</td>\n      <td>구로구</td>\n      <td>일반용</td>\n      <td>18573</td>\n      <td>424958386</td>\n    </tr>\n    <tr>\n      <th>156</th>\n      <td>202107-202112</td>\n      <td>서울특별시</td>\n      <td>구로구</td>\n      <td>합계</td>\n      <td>23351</td>\n      <td>958993248</td>\n    </tr>\n    <tr>\n      <th>157</th>\n      <td>202107-202112</td>\n      <td>서울특별시</td>\n      <td>금천구</td>\n      <td>일반용</td>\n      <td>13605</td>\n      <td>533913429</td>\n    </tr>\n    <tr>\n      <th>157</th>\n      <td>202107-202112</td>\n      <td>서울특별시</td>\n      <td>금천구</td>\n      <td>합계</td>\n      <td>18311</td>\n      <td>860037392</td>\n    </tr>\n    <tr>\n      <th>158</th>\n      <td>202107-202112</td>\n      <td>서울특별시</td>\n      <td>노원구</td>\n      <td>합계</td>\n      <td>18528</td>\n      <td>780632230</td>\n    </tr>\n    <tr>\n      <th>158</th>\n      <td>202107-202112</td>\n      <td>서울특별시</td>\n      <td>노원구</td>\n      <td>일반용</td>\n      <td>15130</td>\n      <td>308006399</td>\n    </tr>\n    <tr>\n      <th>159</th>\n      <td>202107-202112</td>\n      <td>서울특별시</td>\n      <td>도봉구</td>\n      <td>합계</td>\n      <td>17271</td>\n      <td>457536915</td>\n    </tr>\n    <tr>\n      <th>159</th>\n      <td>202107-202112</td>\n      <td>서울특별시</td>\n      <td>도봉구</td>\n      <td>일반용</td>\n      <td>12525</td>\n      <td>173646808</td>\n    </tr>\n    <tr>\n      <th>160</th>\n      <td>202107-202112</td>\n      <td>서울특별시</td>\n      <td>동대문구</td>\n      <td>합계</td>\n      <td>24876</td>\n      <td>743296915</td>\n    </tr>\n    <tr>\n      <th>160</th>\n      <td>202107-202112</td>\n      <td>서울특별시</td>\n      <td>동대문구</td>\n      <td>일반용</td>\n      <td>23438</td>\n      <td>311737724</td>\n    </tr>\n    <tr>\n      <th>161</th>\n      <td>202107-202112</td>\n      <td>서울특별시</td>\n      <td>동작구</td>\n      <td>합계</td>\n      <td>27535</td>\n      <td>671799003</td>\n    </tr>\n    <tr>\n      <th>161</th>\n      <td>202107-202112</td>\n      <td>서울특별시</td>\n      <td>동작구</td>\n      <td>일반용</td>\n      <td>16702</td>\n      <td>293472794</td>\n    </tr>\n    <tr>\n      <th>162</th>\n      <td>202107-202112</td>\n      <td>서울특별시</td>\n      <td>마포구</td>\n      <td>합계</td>\n      <td>25479</td>\n      <td>1127808640</td>\n    </tr>\n    <tr>\n      <th>162</th>\n      <td>202107-202112</td>\n      <td>서울특별시</td>\n      <td>마포구</td>\n      <td>일반용</td>\n      <td>30537</td>\n      <td>652454430</td>\n    </tr>\n    <tr>\n      <th>163</th>\n      <td>202107-202112</td>\n      <td>서울특별시</td>\n      <td>서대문구</td>\n      <td>합계</td>\n      <td>20030</td>\n      <td>653855092</td>\n    </tr>\n    <tr>\n      <th>163</th>\n      <td>202107-202112</td>\n      <td>서울특별시</td>\n      <td>서대문구</td>\n      <td>일반용</td>\n      <td>15907</td>\n      <td>286959362</td>\n    </tr>\n    <tr>\n      <th>164</th>\n      <td>202107-202112</td>\n      <td>서울특별시</td>\n      <td>서초구</td>\n      <td>일반용</td>\n      <td>30972</td>\n      <td>1002588302</td>\n    </tr>\n    <tr>\n      <th>164</th>\n      <td>202107-202112</td>\n      <td>서울특별시</td>\n      <td>서초구</td>\n      <td>합계</td>\n      <td>21754</td>\n      <td>1683223906</td>\n    </tr>\n    <tr>\n      <th>165</th>\n      <td>202107-202112</td>\n      <td>서울특별시</td>\n      <td>성동구</td>\n      <td>합계</td>\n      <td>16057</td>\n      <td>1144151591</td>\n    </tr>\n    <tr>\n      <th>165</th>\n      <td>202107-202112</td>\n      <td>서울특별시</td>\n      <td>성동구</td>\n      <td>일반용</td>\n      <td>16652</td>\n      <td>383197879</td>\n    </tr>\n    <tr>\n      <th>166</th>\n      <td>202107-202112</td>\n      <td>서울특별시</td>\n      <td>성북구</td>\n      <td>합계</td>\n      <td>25855</td>\n      <td>759453661</td>\n    </tr>\n    <tr>\n      <th>166</th>\n      <td>202107-202112</td>\n      <td>서울특별시</td>\n      <td>성북구</td>\n      <td>일반용</td>\n      <td>21055</td>\n      <td>266018152</td>\n    </tr>\n    <tr>\n      <th>167</th>\n      <td>202107-202112</td>\n      <td>서울특별시</td>\n      <td>송파구</td>\n      <td>합계</td>\n      <td>30074</td>\n      <td>1508643301</td>\n    </tr>\n    <tr>\n      <th>167</th>\n      <td>202107-202112</td>\n      <td>서울특별시</td>\n      <td>송파구</td>\n      <td>일반용</td>\n      <td>29150</td>\n      <td>799231995</td>\n    </tr>\n    <tr>\n      <th>168</th>\n      <td>202107-202112</td>\n      <td>서울특별시</td>\n      <td>양천구</td>\n      <td>합계</td>\n      <td>21305</td>\n      <td>936984798</td>\n    </tr>\n    <tr>\n      <th>168</th>\n      <td>202107-202112</td>\n      <td>서울특별시</td>\n      <td>양천구</td>\n      <td>일반용</td>\n      <td>16775</td>\n      <td>517569049</td>\n    </tr>\n    <tr>\n      <th>169</th>\n      <td>202107-202112</td>\n      <td>서울특별시</td>\n      <td>영등포구</td>\n      <td>일반용</td>\n      <td>23673</td>\n      <td>892179875</td>\n    </tr>\n    <tr>\n      <th>169</th>\n      <td>202107-202112</td>\n      <td>서울특별시</td>\n      <td>영등포구</td>\n      <td>합계</td>\n      <td>24309</td>\n      <td>1425490536</td>\n    </tr>\n    <tr>\n      <th>170</th>\n      <td>202107-202112</td>\n      <td>서울특별시</td>\n      <td>용산구</td>\n      <td>합계</td>\n      <td>18115</td>\n      <td>751707636</td>\n    </tr>\n    <tr>\n      <th>170</th>\n      <td>202107-202112</td>\n      <td>서울특별시</td>\n      <td>용산구</td>\n      <td>일반용</td>\n      <td>17172</td>\n      <td>413633810</td>\n    </tr>\n    <tr>\n      <th>171</th>\n      <td>202107-202112</td>\n      <td>서울특별시</td>\n      <td>은평구</td>\n      <td>합계</td>\n      <td>32446</td>\n      <td>769673424</td>\n    </tr>\n    <tr>\n      <th>171</th>\n      <td>202107-202112</td>\n      <td>서울특별시</td>\n      <td>은평구</td>\n      <td>일반용</td>\n      <td>20793</td>\n      <td>274658497</td>\n    </tr>\n    <tr>\n      <th>172</th>\n      <td>202107-202112</td>\n      <td>서울특별시</td>\n      <td>종로구</td>\n      <td>합계</td>\n      <td>17562</td>\n      <td>867702392</td>\n    </tr>\n    <tr>\n      <th>172</th>\n      <td>202107-202112</td>\n      <td>서울특별시</td>\n      <td>종로구</td>\n      <td>일반용</td>\n      <td>24512</td>\n      <td>606883427</td>\n    </tr>\n    <tr>\n      <th>173</th>\n      <td>202107-202112</td>\n      <td>서울특별시</td>\n      <td>중구</td>\n      <td>합계</td>\n      <td>13186</td>\n      <td>1172211152</td>\n    </tr>\n    <tr>\n      <th>173</th>\n      <td>202107-202112</td>\n      <td>서울특별시</td>\n      <td>중구</td>\n      <td>일반용</td>\n      <td>23208</td>\n      <td>880998016</td>\n    </tr>\n    <tr>\n      <th>174</th>\n      <td>202107-202112</td>\n      <td>서울특별시</td>\n      <td>중랑구</td>\n      <td>일반용</td>\n      <td>20396</td>\n      <td>236389837</td>\n    </tr>\n    <tr>\n      <th>174</th>\n      <td>202107-202112</td>\n      <td>서울특별시</td>\n      <td>중랑구</td>\n      <td>합계</td>\n      <td>29254</td>\n      <td>591354773</td>\n    </tr>\n  </tbody>\n</table>\n</div>"
     },
     "execution_count": 27,
     "metadata": {},
     "output_type": "execute_result"
    }
   ],
   "source": [
    "Final = pd.concat([GyeonGiHap2 , Hap])\n",
    "Final = Final.sort_values('시군구')\n",
    "Final"
   ],
   "metadata": {
    "collapsed": false,
    "pycharm": {
     "name": "#%%\n"
    }
   }
  },
  {
   "cell_type": "code",
   "execution_count": 28,
   "outputs": [
    {
     "data": {
      "text/plain": "[1682921018,\n 377503487,\n 206790531,\n 728576125,\n 385809663,\n 312084533,\n 424958386,\n 533913429,\n 308006399,\n 173646808,\n 311737724,\n 293472794,\n 652454430,\n 286959362,\n 1002588302,\n 383197879,\n 266018152,\n 799231995,\n 517569049,\n 892179875,\n 413633810,\n 274658497,\n 606883427,\n 880998016,\n 236389837]"
     },
     "execution_count": 28,
     "metadata": {},
     "output_type": "execute_result"
    }
   ],
   "source": [
    "# Final['일반용 전기의 비율'] = (Final['사용량(kWh)'].loc[Final['계약구분'] == '일반용']) // (Final['사용량(kWh)'].loc[Final['계약구분'] == '합계'])\n",
    "# Final\n",
    "ex = (Final['사용량(kWh)'].loc[Final['계약구분'] == '일반용']).tolist()\n",
    "\n",
    "\n",
    "ex\n"
   ],
   "metadata": {
    "collapsed": false,
    "pycharm": {
     "name": "#%%\n"
    }
   }
  },
  {
   "cell_type": "code",
   "execution_count": 29,
   "outputs": [
    {
     "data": {
      "text/plain": "[2421253236,\n 851476329,\n 474641026,\n 1396768043,\n 893358039,\n 832904763,\n 958993248,\n 860037392,\n 780632230,\n 457536915,\n 743296915,\n 671799003,\n 1127808640,\n 653855092,\n 1683223906,\n 1144151591,\n 759453661,\n 1508643301,\n 936984798,\n 1425490536,\n 751707636,\n 769673424,\n 867702392,\n 1172211152,\n 591354773]"
     },
     "execution_count": 29,
     "metadata": {},
     "output_type": "execute_result"
    }
   ],
   "source": [
    "ex_2 =(Final['사용량(kWh)'].loc[Final['계약구분'] == '합계']).tolist()\n",
    "ex_2"
   ],
   "metadata": {
    "collapsed": false,
    "pycharm": {
     "name": "#%%\n"
    }
   }
  },
  {
   "cell_type": "code",
   "execution_count": 30,
   "outputs": [
    {
     "name": "stdout",
     "output_type": "stream",
     "text": [
      "[69.51, 44.34, 43.57, 52.16, 43.19, 37.47, 44.31, 62.08, 39.46, 37.95, 41.94, 43.68, 57.85, 43.89, 59.56, 33.49, 35.03, 52.98, 55.24, 62.59, 55.03, 35.69, 69.94, 75.16, 39.97]\n"
     ]
    }
   ],
   "source": [
    "Rate = []\n",
    "ilban = []\n",
    "rae = 0\n",
    "for i in range(len(ex)):\n",
    "    rae = round(ex[i] / ex_2[i] *100 ,2)\n",
    "    Rate.append(rae)\n",
    "print(Rate)"
   ],
   "metadata": {
    "collapsed": false,
    "pycharm": {
     "name": "#%%\n"
    }
   }
  },
  {
   "cell_type": "code",
   "execution_count": 31,
   "outputs": [
    {
     "data": {
      "text/plain": "0    70\n1    44\n2    44\n3    52\n4    43\n5    37\n6    44\n7    62\n8    39\n9    38\n10   42\n11   44\n12   58\n13   44\n14   60\n15   33\n16   35\n17   53\n18   55\n19   63\n20   55\n21   36\n22   70\n23   75\n24   40\ndtype: float64"
     },
     "execution_count": 31,
     "metadata": {},
     "output_type": "execute_result"
    }
   ],
   "source": [
    "Rate3 = pd.Series(Rate)\n",
    "Rate3\n",
    "\n",
    "# Final = pd.concat([Final , Rate3])\n",
    "# Final"
   ],
   "metadata": {
    "collapsed": false,
    "pycharm": {
     "name": "#%%\n"
    }
   }
  },
  {
   "cell_type": "code",
   "execution_count": 32,
   "outputs": [
    {
     "data": {
      "text/plain": "     시군구 계약구분  비율\n0    강남구  일반용  70\n1    강동구  일반용  44\n2    강북구  일반용  44\n3    강서구  일반용  52\n4    관악구  일반용  43\n5    광진구  일반용  37\n6    구로구  일반용  44\n7    금천구  일반용  62\n8    노원구  일반용  39\n9    도봉구  일반용  38\n10  동대문구  일반용  42\n11   동작구  일반용  44\n12   마포구  일반용  58\n13  서대문구  일반용  44\n14   서초구  일반용  60\n15   성동구  일반용  33\n16   성북구  일반용  35\n17   송파구  일반용  53\n18   양천구  일반용  55\n19  영등포구  일반용  63\n20   용산구  일반용  55\n21   은평구  일반용  36\n22   종로구  일반용  70\n23    중구  일반용  75\n24   중랑구  일반용  40",
      "text/html": "<div>\n<style scoped>\n    .dataframe tbody tr th:only-of-type {\n        vertical-align: middle;\n    }\n\n    .dataframe tbody tr th {\n        vertical-align: top;\n    }\n\n    .dataframe thead th {\n        text-align: right;\n    }\n</style>\n<table border=\"1\" class=\"dataframe\">\n  <thead>\n    <tr style=\"text-align: right;\">\n      <th></th>\n      <th>시군구</th>\n      <th>계약구분</th>\n      <th>비율</th>\n    </tr>\n  </thead>\n  <tbody>\n    <tr>\n      <th>0</th>\n      <td>강남구</td>\n      <td>일반용</td>\n      <td>70</td>\n    </tr>\n    <tr>\n      <th>1</th>\n      <td>강동구</td>\n      <td>일반용</td>\n      <td>44</td>\n    </tr>\n    <tr>\n      <th>2</th>\n      <td>강북구</td>\n      <td>일반용</td>\n      <td>44</td>\n    </tr>\n    <tr>\n      <th>3</th>\n      <td>강서구</td>\n      <td>일반용</td>\n      <td>52</td>\n    </tr>\n    <tr>\n      <th>4</th>\n      <td>관악구</td>\n      <td>일반용</td>\n      <td>43</td>\n    </tr>\n    <tr>\n      <th>5</th>\n      <td>광진구</td>\n      <td>일반용</td>\n      <td>37</td>\n    </tr>\n    <tr>\n      <th>6</th>\n      <td>구로구</td>\n      <td>일반용</td>\n      <td>44</td>\n    </tr>\n    <tr>\n      <th>7</th>\n      <td>금천구</td>\n      <td>일반용</td>\n      <td>62</td>\n    </tr>\n    <tr>\n      <th>8</th>\n      <td>노원구</td>\n      <td>일반용</td>\n      <td>39</td>\n    </tr>\n    <tr>\n      <th>9</th>\n      <td>도봉구</td>\n      <td>일반용</td>\n      <td>38</td>\n    </tr>\n    <tr>\n      <th>10</th>\n      <td>동대문구</td>\n      <td>일반용</td>\n      <td>42</td>\n    </tr>\n    <tr>\n      <th>11</th>\n      <td>동작구</td>\n      <td>일반용</td>\n      <td>44</td>\n    </tr>\n    <tr>\n      <th>12</th>\n      <td>마포구</td>\n      <td>일반용</td>\n      <td>58</td>\n    </tr>\n    <tr>\n      <th>13</th>\n      <td>서대문구</td>\n      <td>일반용</td>\n      <td>44</td>\n    </tr>\n    <tr>\n      <th>14</th>\n      <td>서초구</td>\n      <td>일반용</td>\n      <td>60</td>\n    </tr>\n    <tr>\n      <th>15</th>\n      <td>성동구</td>\n      <td>일반용</td>\n      <td>33</td>\n    </tr>\n    <tr>\n      <th>16</th>\n      <td>성북구</td>\n      <td>일반용</td>\n      <td>35</td>\n    </tr>\n    <tr>\n      <th>17</th>\n      <td>송파구</td>\n      <td>일반용</td>\n      <td>53</td>\n    </tr>\n    <tr>\n      <th>18</th>\n      <td>양천구</td>\n      <td>일반용</td>\n      <td>55</td>\n    </tr>\n    <tr>\n      <th>19</th>\n      <td>영등포구</td>\n      <td>일반용</td>\n      <td>63</td>\n    </tr>\n    <tr>\n      <th>20</th>\n      <td>용산구</td>\n      <td>일반용</td>\n      <td>55</td>\n    </tr>\n    <tr>\n      <th>21</th>\n      <td>은평구</td>\n      <td>일반용</td>\n      <td>36</td>\n    </tr>\n    <tr>\n      <th>22</th>\n      <td>종로구</td>\n      <td>일반용</td>\n      <td>70</td>\n    </tr>\n    <tr>\n      <th>23</th>\n      <td>중구</td>\n      <td>일반용</td>\n      <td>75</td>\n    </tr>\n    <tr>\n      <th>24</th>\n      <td>중랑구</td>\n      <td>일반용</td>\n      <td>40</td>\n    </tr>\n  </tbody>\n</table>\n</div>"
     },
     "execution_count": 32,
     "metadata": {},
     "output_type": "execute_result"
    }
   ],
   "source": [
    "for j in range(len(Rate)):\n",
    "    ilban.append('일반용')\n",
    "#print(Rate)\n",
    "\n",
    "Rate2 = pd.DataFrame()\n",
    "Rate2['시군구'] = pd.DataFrame(SIGUNGU)\n",
    "Rate2['계약구분'] = pd.DataFrame(ilban)\n",
    "Rate2['비율'] = pd.DataFrame(Rate)\n",
    "Rate2\n",
    "#print(Rate2.dtypes)"
   ],
   "metadata": {
    "collapsed": false,
    "pycharm": {
     "name": "#%%\n"
    }
   }
  },
  {
   "cell_type": "code",
   "execution_count": 33,
   "outputs": [
    {
     "data": {
      "text/plain": "               년월     시구   시군구 계약구분 고객호수(호)    사용량(kWh)  비율\n0   202107-202112  서울특별시   강남구  일반용   51442  1682921018  70\n1   202107-202112  서울특별시   강남구   합계   32472  2421253236 NaN\n3   202107-202112  서울특별시   강동구  일반용   20355   377503487  44\n2   202107-202112  서울특별시   강동구   합계   23720   851476329 NaN\n4   202107-202112  서울특별시   강북구  일반용   16394   206790531  44\n5   202107-202112  서울특별시   강북구   합계   24934   474641026 NaN\n6   202107-202112  서울특별시   강서구  일반용   23923   728576125  52\n7   202107-202112  서울특별시   강서구   합계   35268  1396768043 NaN\n8   202107-202112  서울특별시   관악구  일반용   25168   385809663  43\n9   202107-202112  서울특별시   관악구   합계   46480   893358039 NaN\n10  202107-202112  서울특별시   광진구  일반용   21243   312084533  37\n11  202107-202112  서울특별시   광진구   합계   30225   832904763 NaN\n12  202107-202112  서울특별시   구로구  일반용   18573   424958386  44\n13  202107-202112  서울특별시   구로구   합계   23351   958993248 NaN\n14  202107-202112  서울특별시   금천구  일반용   13605   533913429  62\n15  202107-202112  서울특별시   금천구   합계   18311   860037392 NaN\n17  202107-202112  서울특별시   노원구  일반용   15130   308006399  39\n16  202107-202112  서울특별시   노원구   합계   18528   780632230 NaN\n19  202107-202112  서울특별시   도봉구  일반용   12525   173646808  38\n18  202107-202112  서울특별시   도봉구   합계   17271   457536915 NaN\n21  202107-202112  서울특별시  동대문구  일반용   23438   311737724  42\n20  202107-202112  서울특별시  동대문구   합계   24876   743296915 NaN\n23  202107-202112  서울특별시   동작구  일반용   16702   293472794  44\n22  202107-202112  서울특별시   동작구   합계   27535   671799003 NaN\n25  202107-202112  서울특별시   마포구  일반용   30537   652454430  58\n24  202107-202112  서울특별시   마포구   합계   25479  1127808640 NaN\n27  202107-202112  서울특별시  서대문구  일반용   15907   286959362  44\n26  202107-202112  서울특별시  서대문구   합계   20030   653855092 NaN\n28  202107-202112  서울특별시   서초구  일반용   30972  1002588302  60\n29  202107-202112  서울특별시   서초구   합계   21754  1683223906 NaN\n31  202107-202112  서울특별시   성동구  일반용   16652   383197879  33\n30  202107-202112  서울특별시   성동구   합계   16057  1144151591 NaN\n33  202107-202112  서울특별시   성북구  일반용   21055   266018152  35\n32  202107-202112  서울특별시   성북구   합계   25855   759453661 NaN\n35  202107-202112  서울특별시   송파구  일반용   29150   799231995  53\n34  202107-202112  서울특별시   송파구   합계   30074  1508643301 NaN\n37  202107-202112  서울특별시   양천구  일반용   16775   517569049  55\n36  202107-202112  서울특별시   양천구   합계   21305   936984798 NaN\n38  202107-202112  서울특별시  영등포구  일반용   23673   892179875  63\n39  202107-202112  서울특별시  영등포구   합계   24309  1425490536 NaN\n41  202107-202112  서울특별시   용산구  일반용   17172   413633810  55\n40  202107-202112  서울특별시   용산구   합계   18115   751707636 NaN\n43  202107-202112  서울특별시   은평구  일반용   20793   274658497  36\n42  202107-202112  서울특별시   은평구   합계   32446   769673424 NaN\n45  202107-202112  서울특별시   종로구  일반용   24512   606883427  70\n44  202107-202112  서울특별시   종로구   합계   17562   867702392 NaN\n47  202107-202112  서울특별시    중구  일반용   23208   880998016  75\n46  202107-202112  서울특별시    중구   합계   13186  1172211152 NaN\n48  202107-202112  서울특별시   중랑구  일반용   20396   236389837  40\n49  202107-202112  서울특별시   중랑구   합계   29254   591354773 NaN",
      "text/html": "<div>\n<style scoped>\n    .dataframe tbody tr th:only-of-type {\n        vertical-align: middle;\n    }\n\n    .dataframe tbody tr th {\n        vertical-align: top;\n    }\n\n    .dataframe thead th {\n        text-align: right;\n    }\n</style>\n<table border=\"1\" class=\"dataframe\">\n  <thead>\n    <tr style=\"text-align: right;\">\n      <th></th>\n      <th>년월</th>\n      <th>시구</th>\n      <th>시군구</th>\n      <th>계약구분</th>\n      <th>고객호수(호)</th>\n      <th>사용량(kWh)</th>\n      <th>비율</th>\n    </tr>\n  </thead>\n  <tbody>\n    <tr>\n      <th>0</th>\n      <td>202107-202112</td>\n      <td>서울특별시</td>\n      <td>강남구</td>\n      <td>일반용</td>\n      <td>51442</td>\n      <td>1682921018</td>\n      <td>70</td>\n    </tr>\n    <tr>\n      <th>1</th>\n      <td>202107-202112</td>\n      <td>서울특별시</td>\n      <td>강남구</td>\n      <td>합계</td>\n      <td>32472</td>\n      <td>2421253236</td>\n      <td>NaN</td>\n    </tr>\n    <tr>\n      <th>3</th>\n      <td>202107-202112</td>\n      <td>서울특별시</td>\n      <td>강동구</td>\n      <td>일반용</td>\n      <td>20355</td>\n      <td>377503487</td>\n      <td>44</td>\n    </tr>\n    <tr>\n      <th>2</th>\n      <td>202107-202112</td>\n      <td>서울특별시</td>\n      <td>강동구</td>\n      <td>합계</td>\n      <td>23720</td>\n      <td>851476329</td>\n      <td>NaN</td>\n    </tr>\n    <tr>\n      <th>4</th>\n      <td>202107-202112</td>\n      <td>서울특별시</td>\n      <td>강북구</td>\n      <td>일반용</td>\n      <td>16394</td>\n      <td>206790531</td>\n      <td>44</td>\n    </tr>\n    <tr>\n      <th>5</th>\n      <td>202107-202112</td>\n      <td>서울특별시</td>\n      <td>강북구</td>\n      <td>합계</td>\n      <td>24934</td>\n      <td>474641026</td>\n      <td>NaN</td>\n    </tr>\n    <tr>\n      <th>6</th>\n      <td>202107-202112</td>\n      <td>서울특별시</td>\n      <td>강서구</td>\n      <td>일반용</td>\n      <td>23923</td>\n      <td>728576125</td>\n      <td>52</td>\n    </tr>\n    <tr>\n      <th>7</th>\n      <td>202107-202112</td>\n      <td>서울특별시</td>\n      <td>강서구</td>\n      <td>합계</td>\n      <td>35268</td>\n      <td>1396768043</td>\n      <td>NaN</td>\n    </tr>\n    <tr>\n      <th>8</th>\n      <td>202107-202112</td>\n      <td>서울특별시</td>\n      <td>관악구</td>\n      <td>일반용</td>\n      <td>25168</td>\n      <td>385809663</td>\n      <td>43</td>\n    </tr>\n    <tr>\n      <th>9</th>\n      <td>202107-202112</td>\n      <td>서울특별시</td>\n      <td>관악구</td>\n      <td>합계</td>\n      <td>46480</td>\n      <td>893358039</td>\n      <td>NaN</td>\n    </tr>\n    <tr>\n      <th>10</th>\n      <td>202107-202112</td>\n      <td>서울특별시</td>\n      <td>광진구</td>\n      <td>일반용</td>\n      <td>21243</td>\n      <td>312084533</td>\n      <td>37</td>\n    </tr>\n    <tr>\n      <th>11</th>\n      <td>202107-202112</td>\n      <td>서울특별시</td>\n      <td>광진구</td>\n      <td>합계</td>\n      <td>30225</td>\n      <td>832904763</td>\n      <td>NaN</td>\n    </tr>\n    <tr>\n      <th>12</th>\n      <td>202107-202112</td>\n      <td>서울특별시</td>\n      <td>구로구</td>\n      <td>일반용</td>\n      <td>18573</td>\n      <td>424958386</td>\n      <td>44</td>\n    </tr>\n    <tr>\n      <th>13</th>\n      <td>202107-202112</td>\n      <td>서울특별시</td>\n      <td>구로구</td>\n      <td>합계</td>\n      <td>23351</td>\n      <td>958993248</td>\n      <td>NaN</td>\n    </tr>\n    <tr>\n      <th>14</th>\n      <td>202107-202112</td>\n      <td>서울특별시</td>\n      <td>금천구</td>\n      <td>일반용</td>\n      <td>13605</td>\n      <td>533913429</td>\n      <td>62</td>\n    </tr>\n    <tr>\n      <th>15</th>\n      <td>202107-202112</td>\n      <td>서울특별시</td>\n      <td>금천구</td>\n      <td>합계</td>\n      <td>18311</td>\n      <td>860037392</td>\n      <td>NaN</td>\n    </tr>\n    <tr>\n      <th>17</th>\n      <td>202107-202112</td>\n      <td>서울특별시</td>\n      <td>노원구</td>\n      <td>일반용</td>\n      <td>15130</td>\n      <td>308006399</td>\n      <td>39</td>\n    </tr>\n    <tr>\n      <th>16</th>\n      <td>202107-202112</td>\n      <td>서울특별시</td>\n      <td>노원구</td>\n      <td>합계</td>\n      <td>18528</td>\n      <td>780632230</td>\n      <td>NaN</td>\n    </tr>\n    <tr>\n      <th>19</th>\n      <td>202107-202112</td>\n      <td>서울특별시</td>\n      <td>도봉구</td>\n      <td>일반용</td>\n      <td>12525</td>\n      <td>173646808</td>\n      <td>38</td>\n    </tr>\n    <tr>\n      <th>18</th>\n      <td>202107-202112</td>\n      <td>서울특별시</td>\n      <td>도봉구</td>\n      <td>합계</td>\n      <td>17271</td>\n      <td>457536915</td>\n      <td>NaN</td>\n    </tr>\n    <tr>\n      <th>21</th>\n      <td>202107-202112</td>\n      <td>서울특별시</td>\n      <td>동대문구</td>\n      <td>일반용</td>\n      <td>23438</td>\n      <td>311737724</td>\n      <td>42</td>\n    </tr>\n    <tr>\n      <th>20</th>\n      <td>202107-202112</td>\n      <td>서울특별시</td>\n      <td>동대문구</td>\n      <td>합계</td>\n      <td>24876</td>\n      <td>743296915</td>\n      <td>NaN</td>\n    </tr>\n    <tr>\n      <th>23</th>\n      <td>202107-202112</td>\n      <td>서울특별시</td>\n      <td>동작구</td>\n      <td>일반용</td>\n      <td>16702</td>\n      <td>293472794</td>\n      <td>44</td>\n    </tr>\n    <tr>\n      <th>22</th>\n      <td>202107-202112</td>\n      <td>서울특별시</td>\n      <td>동작구</td>\n      <td>합계</td>\n      <td>27535</td>\n      <td>671799003</td>\n      <td>NaN</td>\n    </tr>\n    <tr>\n      <th>25</th>\n      <td>202107-202112</td>\n      <td>서울특별시</td>\n      <td>마포구</td>\n      <td>일반용</td>\n      <td>30537</td>\n      <td>652454430</td>\n      <td>58</td>\n    </tr>\n    <tr>\n      <th>24</th>\n      <td>202107-202112</td>\n      <td>서울특별시</td>\n      <td>마포구</td>\n      <td>합계</td>\n      <td>25479</td>\n      <td>1127808640</td>\n      <td>NaN</td>\n    </tr>\n    <tr>\n      <th>27</th>\n      <td>202107-202112</td>\n      <td>서울특별시</td>\n      <td>서대문구</td>\n      <td>일반용</td>\n      <td>15907</td>\n      <td>286959362</td>\n      <td>44</td>\n    </tr>\n    <tr>\n      <th>26</th>\n      <td>202107-202112</td>\n      <td>서울특별시</td>\n      <td>서대문구</td>\n      <td>합계</td>\n      <td>20030</td>\n      <td>653855092</td>\n      <td>NaN</td>\n    </tr>\n    <tr>\n      <th>28</th>\n      <td>202107-202112</td>\n      <td>서울특별시</td>\n      <td>서초구</td>\n      <td>일반용</td>\n      <td>30972</td>\n      <td>1002588302</td>\n      <td>60</td>\n    </tr>\n    <tr>\n      <th>29</th>\n      <td>202107-202112</td>\n      <td>서울특별시</td>\n      <td>서초구</td>\n      <td>합계</td>\n      <td>21754</td>\n      <td>1683223906</td>\n      <td>NaN</td>\n    </tr>\n    <tr>\n      <th>31</th>\n      <td>202107-202112</td>\n      <td>서울특별시</td>\n      <td>성동구</td>\n      <td>일반용</td>\n      <td>16652</td>\n      <td>383197879</td>\n      <td>33</td>\n    </tr>\n    <tr>\n      <th>30</th>\n      <td>202107-202112</td>\n      <td>서울특별시</td>\n      <td>성동구</td>\n      <td>합계</td>\n      <td>16057</td>\n      <td>1144151591</td>\n      <td>NaN</td>\n    </tr>\n    <tr>\n      <th>33</th>\n      <td>202107-202112</td>\n      <td>서울특별시</td>\n      <td>성북구</td>\n      <td>일반용</td>\n      <td>21055</td>\n      <td>266018152</td>\n      <td>35</td>\n    </tr>\n    <tr>\n      <th>32</th>\n      <td>202107-202112</td>\n      <td>서울특별시</td>\n      <td>성북구</td>\n      <td>합계</td>\n      <td>25855</td>\n      <td>759453661</td>\n      <td>NaN</td>\n    </tr>\n    <tr>\n      <th>35</th>\n      <td>202107-202112</td>\n      <td>서울특별시</td>\n      <td>송파구</td>\n      <td>일반용</td>\n      <td>29150</td>\n      <td>799231995</td>\n      <td>53</td>\n    </tr>\n    <tr>\n      <th>34</th>\n      <td>202107-202112</td>\n      <td>서울특별시</td>\n      <td>송파구</td>\n      <td>합계</td>\n      <td>30074</td>\n      <td>1508643301</td>\n      <td>NaN</td>\n    </tr>\n    <tr>\n      <th>37</th>\n      <td>202107-202112</td>\n      <td>서울특별시</td>\n      <td>양천구</td>\n      <td>일반용</td>\n      <td>16775</td>\n      <td>517569049</td>\n      <td>55</td>\n    </tr>\n    <tr>\n      <th>36</th>\n      <td>202107-202112</td>\n      <td>서울특별시</td>\n      <td>양천구</td>\n      <td>합계</td>\n      <td>21305</td>\n      <td>936984798</td>\n      <td>NaN</td>\n    </tr>\n    <tr>\n      <th>38</th>\n      <td>202107-202112</td>\n      <td>서울특별시</td>\n      <td>영등포구</td>\n      <td>일반용</td>\n      <td>23673</td>\n      <td>892179875</td>\n      <td>63</td>\n    </tr>\n    <tr>\n      <th>39</th>\n      <td>202107-202112</td>\n      <td>서울특별시</td>\n      <td>영등포구</td>\n      <td>합계</td>\n      <td>24309</td>\n      <td>1425490536</td>\n      <td>NaN</td>\n    </tr>\n    <tr>\n      <th>41</th>\n      <td>202107-202112</td>\n      <td>서울특별시</td>\n      <td>용산구</td>\n      <td>일반용</td>\n      <td>17172</td>\n      <td>413633810</td>\n      <td>55</td>\n    </tr>\n    <tr>\n      <th>40</th>\n      <td>202107-202112</td>\n      <td>서울특별시</td>\n      <td>용산구</td>\n      <td>합계</td>\n      <td>18115</td>\n      <td>751707636</td>\n      <td>NaN</td>\n    </tr>\n    <tr>\n      <th>43</th>\n      <td>202107-202112</td>\n      <td>서울특별시</td>\n      <td>은평구</td>\n      <td>일반용</td>\n      <td>20793</td>\n      <td>274658497</td>\n      <td>36</td>\n    </tr>\n    <tr>\n      <th>42</th>\n      <td>202107-202112</td>\n      <td>서울특별시</td>\n      <td>은평구</td>\n      <td>합계</td>\n      <td>32446</td>\n      <td>769673424</td>\n      <td>NaN</td>\n    </tr>\n    <tr>\n      <th>45</th>\n      <td>202107-202112</td>\n      <td>서울특별시</td>\n      <td>종로구</td>\n      <td>일반용</td>\n      <td>24512</td>\n      <td>606883427</td>\n      <td>70</td>\n    </tr>\n    <tr>\n      <th>44</th>\n      <td>202107-202112</td>\n      <td>서울특별시</td>\n      <td>종로구</td>\n      <td>합계</td>\n      <td>17562</td>\n      <td>867702392</td>\n      <td>NaN</td>\n    </tr>\n    <tr>\n      <th>47</th>\n      <td>202107-202112</td>\n      <td>서울특별시</td>\n      <td>중구</td>\n      <td>일반용</td>\n      <td>23208</td>\n      <td>880998016</td>\n      <td>75</td>\n    </tr>\n    <tr>\n      <th>46</th>\n      <td>202107-202112</td>\n      <td>서울특별시</td>\n      <td>중구</td>\n      <td>합계</td>\n      <td>13186</td>\n      <td>1172211152</td>\n      <td>NaN</td>\n    </tr>\n    <tr>\n      <th>48</th>\n      <td>202107-202112</td>\n      <td>서울특별시</td>\n      <td>중랑구</td>\n      <td>일반용</td>\n      <td>20396</td>\n      <td>236389837</td>\n      <td>40</td>\n    </tr>\n    <tr>\n      <th>49</th>\n      <td>202107-202112</td>\n      <td>서울특별시</td>\n      <td>중랑구</td>\n      <td>합계</td>\n      <td>29254</td>\n      <td>591354773</td>\n      <td>NaN</td>\n    </tr>\n  </tbody>\n</table>\n</div>"
     },
     "execution_count": 33,
     "metadata": {},
     "output_type": "execute_result"
    }
   ],
   "source": [
    "Final = pd.merge(Final , Rate2, on=['시군구', '계약구분'] , how='left')\n",
    "\n",
    "#Final.drop(['비율_y]' , axis = 1 , inplace = True)\n",
    "#Final.rename(columns={'비율_y':'전체 계약종별 전력사용량 대비 일반용 사용량 비율'})\n",
    "Final = Final.sort_values(['시군구' , '계약구분'])\n",
    "Final"
   ],
   "metadata": {
    "collapsed": false,
    "pycharm": {
     "name": "#%%\n"
    }
   }
  },
  {
   "cell_type": "code",
   "execution_count": 34,
   "outputs": [],
   "source": [
    "# Final['일반용 전기의 비율'] = Final.append(Rate)\n",
    "# Final"
   ],
   "metadata": {
    "collapsed": false,
    "pycharm": {
     "name": "#%%\n"
    }
   }
  },
  {
   "cell_type": "markdown",
   "source": [
    "### 6. 날짜 체크!!!!!!!!!!!!!!!!!!!!1"
   ],
   "metadata": {
    "collapsed": false,
    "pycharm": {
     "name": "#%% md\n"
    }
   }
  },
  {
   "cell_type": "code",
   "execution_count": 35,
   "outputs": [],
   "source": [
    "Final.to_csv(\"{}_일반용_전력사용량_2107-12.csv\".format(City) , mode = 'w' , encoding= 'cp949' , index =False) #파일명 수정"
   ],
   "metadata": {
    "collapsed": false,
    "pycharm": {
     "name": "#%%\n"
    }
   }
  },
  {
   "cell_type": "code",
   "execution_count": 35,
   "outputs": [],
   "source": [],
   "metadata": {
    "collapsed": false,
    "pycharm": {
     "name": "#%%\n"
    }
   }
  },
  {
   "cell_type": "code",
   "execution_count": 36,
   "outputs": [],
   "source": [
    "# Sigu = list(set(df_3['시군구'].tolist()))\n",
    "#\n",
    "# Sigu.sort()\n",
    "#\n",
    "# Sigu"
   ],
   "metadata": {
    "collapsed": false,
    "pycharm": {
     "name": "#%%\n"
    }
   }
  },
  {
   "cell_type": "code",
   "execution_count": 37,
   "outputs": [],
   "source": [
    "# YearMonth = list(set(df_3['년월'].tolist()))\n",
    "#\n",
    "# YearMonth.sort()\n",
    "# YearMonth"
   ],
   "metadata": {
    "collapsed": false,
    "pycharm": {
     "name": "#%%\n"
    }
   }
  },
  {
   "cell_type": "code",
   "execution_count": 38,
   "outputs": [],
   "source": [
    "# Gayeak = list(set(df_3['계약구분'].tolist()))\n",
    "#\n",
    "# Gayeak.sort()\n",
    "# Gayeak"
   ],
   "metadata": {
    "collapsed": false,
    "pycharm": {
     "name": "#%%\n"
    }
   }
  },
  {
   "cell_type": "code",
   "execution_count": 39,
   "outputs": [],
   "source": [
    "# SEOUL = df_3.loc[(df_3['계약구분'] =='일반용')]\n",
    "# SEOUL.drop(['고객호수(호)' ,'전기요금(원)' , '평균판매단가(원/kWh)'] , axis = 1 , inplace = True)\n",
    "# #SEOUL.dtypes(['사용량(kWh)'])\n",
    "# SEOUL"
   ],
   "metadata": {
    "collapsed": false,
    "pycharm": {
     "name": "#%%\n"
    }
   }
  },
  {
   "cell_type": "code",
   "execution_count": 40,
   "outputs": [],
   "source": [
    "#SEOUL.to_csv(\"서울특별시_일반용_전력사용량.csv\" , mode = 'w' , encoding= 'cp949')"
   ],
   "metadata": {
    "collapsed": false,
    "pycharm": {
     "name": "#%%\n"
    }
   }
  },
  {
   "cell_type": "code",
   "execution_count": 41,
   "outputs": [],
   "source": [
    "# print(SEOUL.dtypes)\n",
    "# SEOUL = SEOUL.astype({'사용량(kWh)' : 'float'})"
   ],
   "metadata": {
    "collapsed": false,
    "pycharm": {
     "name": "#%%\n"
    }
   }
  },
  {
   "cell_type": "code",
   "execution_count": 42,
   "outputs": [],
   "source": [
    "# SEOUL"
   ],
   "metadata": {
    "collapsed": false,
    "pycharm": {
     "name": "#%%\n"
    }
   }
  },
  {
   "cell_type": "code",
   "execution_count": 43,
   "outputs": [],
   "source": [
    "# a = SEOUL['사용량(kWh)'].tolist()\n",
    "# int_list = map(int, a)\n",
    "# b=0\n",
    "# for i in int_list:\n",
    "#     b+=i\n",
    "#\n",
    "# print(b)"
   ],
   "metadata": {
    "collapsed": false,
    "pycharm": {
     "name": "#%%\n"
    }
   }
  },
  {
   "cell_type": "code",
   "execution_count": 43,
   "outputs": [],
   "source": [],
   "metadata": {
    "collapsed": false,
    "pycharm": {
     "name": "#%%\n"
    }
   }
  },
  {
   "cell_type": "code",
   "execution_count": 43,
   "outputs": [],
   "source": [],
   "metadata": {
    "collapsed": false,
    "pycharm": {
     "name": "#%%\n"
    }
   }
  },
  {
   "cell_type": "code",
   "execution_count": 43,
   "outputs": [],
   "source": [],
   "metadata": {
    "collapsed": false,
    "pycharm": {
     "name": "#%%\n"
    }
   }
  },
  {
   "cell_type": "code",
   "execution_count": 43,
   "outputs": [],
   "source": [],
   "metadata": {
    "collapsed": false,
    "pycharm": {
     "name": "#%%\n"
    }
   }
  },
  {
   "cell_type": "code",
   "execution_count": 43,
   "outputs": [],
   "source": [],
   "metadata": {
    "collapsed": false,
    "pycharm": {
     "name": "#%%\n"
    }
   }
  },
  {
   "cell_type": "code",
   "execution_count": 43,
   "outputs": [],
   "source": [],
   "metadata": {
    "collapsed": false,
    "pycharm": {
     "name": "#%%\n"
    }
   }
  },
  {
   "cell_type": "code",
   "execution_count": 43,
   "outputs": [],
   "source": [],
   "metadata": {
    "collapsed": false,
    "pycharm": {
     "name": "#%%\n"
    }
   }
  }
 ],
 "metadata": {
  "kernelspec": {
   "display_name": "Python 3",
   "language": "python",
   "name": "python3"
  },
  "language_info": {
   "codemirror_mode": {
    "name": "ipython",
    "version": 2
   },
   "file_extension": ".py",
   "mimetype": "text/x-python",
   "name": "python",
   "nbconvert_exporter": "python",
   "pygments_lexer": "ipython2",
   "version": "2.7.6"
  }
 },
 "nbformat": 4,
 "nbformat_minor": 0
}