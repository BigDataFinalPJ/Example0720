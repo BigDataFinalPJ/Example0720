{
 "cells": [
  {
   "cell_type": "markdown",
   "source": [],
   "metadata": {
    "collapsed": false,
    "pycharm": {
     "name": "#%% md\n"
    }
   }
  },
  {
   "cell_type": "code",
   "execution_count": 1,
   "outputs": [],
   "source": [
    "import pandas as pd\n",
    "import re\n",
    "\n",
    "pd.options.display.float_format = '{:.0f}'.format"
   ],
   "metadata": {
    "collapsed": false,
    "pycharm": {
     "name": "#%%\n"
    }
   }
  },
  {
   "cell_type": "markdown",
   "source": [
    "### 1. 꼭 read_csv 21상반기, 19하반기와 같이 맞추어 주세요!!! 또한 지역(전라북도, 남도) 맞추기!!!!!"
   ],
   "metadata": {
    "collapsed": false,
    "pycharm": {
     "name": "#%% md\n"
    }
   }
  },
  {
   "cell_type": "code",
   "execution_count": 2,
   "outputs": [
    {
     "data": {
      "text/plain": "         계약종별 전력사용량 월별( 20220804 현재 ) Unnamed: 1     Unnamed: 2 Unnamed: 3  \\\n0     시도 : 서울특별시, 시군구 : 전체(시 / 군 / 구)        NaN            NaN        NaN   \n1         기간 : 2021년 01 월 ~ 2021년 06월        NaN            NaN        NaN   \n2                                  년월         시구            시군구       계약구분   \n3                              202101      서울특별시  전체(시 / 군 / 구)        주택용   \n4                              202101      서울특별시  전체(시 / 군 / 구)        일반용   \n...                               ...        ...            ...        ...   \n1237                           202106      서울특별시            중랑구        산업용   \n1238                           202106      서울특별시            중랑구        심 야   \n1239                           202106      서울특별시            중랑구        일반용   \n1240                           202106      서울특별시            중랑구        주택용   \n1241                           202106      서울특별시            중랑구         합계   \n\n      Unnamed: 4      Unnamed: 5        Unnamed: 6     Unnamed: 7  \n0            NaN             NaN               NaN            NaN  \n1            NaN             NaN               NaN            NaN  \n2        고객호수(호)        사용량(kWh)           전기요금(원)  평균판매단가(원/kWh)  \n3     2,869,649   1,331,688,210   157,244,336,747          118.1   \n4       546,529   2,371,896,050   306,812,112,115          129.4   \n...          ...             ...               ...            ...  \n1237      2,612       5,201,675       659,497,669          126.8   \n1238        381         412,405        24,049,104           58.3   \n1239     20,252      35,018,264     4,746,633,618          135.5   \n1240    141,056      42,069,078     4,190,650,859           99.6   \n1241    175,100      85,064,448     9,897,292,087          116.4   \n\n[1242 rows x 8 columns]",
      "text/html": "<div>\n<style scoped>\n    .dataframe tbody tr th:only-of-type {\n        vertical-align: middle;\n    }\n\n    .dataframe tbody tr th {\n        vertical-align: top;\n    }\n\n    .dataframe thead th {\n        text-align: right;\n    }\n</style>\n<table border=\"1\" class=\"dataframe\">\n  <thead>\n    <tr style=\"text-align: right;\">\n      <th></th>\n      <th>계약종별 전력사용량 월별( 20220804 현재 )</th>\n      <th>Unnamed: 1</th>\n      <th>Unnamed: 2</th>\n      <th>Unnamed: 3</th>\n      <th>Unnamed: 4</th>\n      <th>Unnamed: 5</th>\n      <th>Unnamed: 6</th>\n      <th>Unnamed: 7</th>\n    </tr>\n  </thead>\n  <tbody>\n    <tr>\n      <th>0</th>\n      <td>시도 : 서울특별시, 시군구 : 전체(시 / 군 / 구)</td>\n      <td>NaN</td>\n      <td>NaN</td>\n      <td>NaN</td>\n      <td>NaN</td>\n      <td>NaN</td>\n      <td>NaN</td>\n      <td>NaN</td>\n    </tr>\n    <tr>\n      <th>1</th>\n      <td>기간 : 2021년 01 월 ~ 2021년 06월</td>\n      <td>NaN</td>\n      <td>NaN</td>\n      <td>NaN</td>\n      <td>NaN</td>\n      <td>NaN</td>\n      <td>NaN</td>\n      <td>NaN</td>\n    </tr>\n    <tr>\n      <th>2</th>\n      <td>년월</td>\n      <td>시구</td>\n      <td>시군구</td>\n      <td>계약구분</td>\n      <td>고객호수(호)</td>\n      <td>사용량(kWh)</td>\n      <td>전기요금(원)</td>\n      <td>평균판매단가(원/kWh)</td>\n    </tr>\n    <tr>\n      <th>3</th>\n      <td>202101</td>\n      <td>서울특별시</td>\n      <td>전체(시 / 군 / 구)</td>\n      <td>주택용</td>\n      <td>2,869,649</td>\n      <td>1,331,688,210</td>\n      <td>157,244,336,747</td>\n      <td>118.1</td>\n    </tr>\n    <tr>\n      <th>4</th>\n      <td>202101</td>\n      <td>서울특별시</td>\n      <td>전체(시 / 군 / 구)</td>\n      <td>일반용</td>\n      <td>546,529</td>\n      <td>2,371,896,050</td>\n      <td>306,812,112,115</td>\n      <td>129.4</td>\n    </tr>\n    <tr>\n      <th>...</th>\n      <td>...</td>\n      <td>...</td>\n      <td>...</td>\n      <td>...</td>\n      <td>...</td>\n      <td>...</td>\n      <td>...</td>\n      <td>...</td>\n    </tr>\n    <tr>\n      <th>1237</th>\n      <td>202106</td>\n      <td>서울특별시</td>\n      <td>중랑구</td>\n      <td>산업용</td>\n      <td>2,612</td>\n      <td>5,201,675</td>\n      <td>659,497,669</td>\n      <td>126.8</td>\n    </tr>\n    <tr>\n      <th>1238</th>\n      <td>202106</td>\n      <td>서울특별시</td>\n      <td>중랑구</td>\n      <td>심 야</td>\n      <td>381</td>\n      <td>412,405</td>\n      <td>24,049,104</td>\n      <td>58.3</td>\n    </tr>\n    <tr>\n      <th>1239</th>\n      <td>202106</td>\n      <td>서울특별시</td>\n      <td>중랑구</td>\n      <td>일반용</td>\n      <td>20,252</td>\n      <td>35,018,264</td>\n      <td>4,746,633,618</td>\n      <td>135.5</td>\n    </tr>\n    <tr>\n      <th>1240</th>\n      <td>202106</td>\n      <td>서울특별시</td>\n      <td>중랑구</td>\n      <td>주택용</td>\n      <td>141,056</td>\n      <td>42,069,078</td>\n      <td>4,190,650,859</td>\n      <td>99.6</td>\n    </tr>\n    <tr>\n      <th>1241</th>\n      <td>202106</td>\n      <td>서울특별시</td>\n      <td>중랑구</td>\n      <td>합계</td>\n      <td>175,100</td>\n      <td>85,064,448</td>\n      <td>9,897,292,087</td>\n      <td>116.4</td>\n    </tr>\n  </tbody>\n</table>\n<p>1242 rows × 8 columns</p>\n</div>"
     },
     "execution_count": 2,
     "metadata": {},
     "output_type": "execute_result"
    }
   ],
   "source": [
    "df = pd.read_csv('서울특별시_계약종별_전력사용량_월별_21상반기.csv' , encoding='cp949')\n",
    "\n",
    "df\n",
    "#exchng=  pd.read_csv('지역별_전력거래량_20220803093050.csv' , encoding='cp949')"
   ],
   "metadata": {
    "collapsed": false,
    "pycharm": {
     "name": "#%%\n"
    }
   }
  },
  {
   "cell_type": "code",
   "execution_count": 3,
   "outputs": [
    {
     "data": {
      "text/plain": "     계약종별 전력사용량 월별( 20220804 현재 ) Unnamed: 1     Unnamed: 2 Unnamed: 3  \\\n2                              년월         시구            시군구       계약구분   \n3                          202101      서울특별시  전체(시 / 군 / 구)        주택용   \n4                          202101      서울특별시  전체(시 / 군 / 구)        일반용   \n5                          202101      서울특별시  전체(시 / 군 / 구)        교육용   \n6                          202101      서울특별시  전체(시 / 군 / 구)        산업용   \n...                           ...        ...            ...        ...   \n1237                       202106      서울특별시            중랑구        산업용   \n1238                       202106      서울특별시            중랑구        심 야   \n1239                       202106      서울특별시            중랑구        일반용   \n1240                       202106      서울특별시            중랑구        주택용   \n1241                       202106      서울특별시            중랑구         합계   \n\n      Unnamed: 4      Unnamed: 5        Unnamed: 6     Unnamed: 7  \n2        고객호수(호)        사용량(kWh)           전기요금(원)  평균판매단가(원/kWh)  \n3     2,869,649   1,331,688,210   157,244,336,747          118.1   \n4       546,529   2,371,896,050   306,812,112,115          129.4   \n5         2,628     193,016,224    17,548,052,933           90.9   \n6        43,658     448,731,955    53,891,207,212          120.1   \n...          ...             ...               ...            ...  \n1237      2,612       5,201,675       659,497,669          126.8   \n1238        381         412,405        24,049,104           58.3   \n1239     20,252      35,018,264     4,746,633,618          135.5   \n1240    141,056      42,069,078     4,190,650,859           99.6   \n1241    175,100      85,064,448     9,897,292,087          116.4   \n\n[1239 rows x 8 columns]",
      "text/html": "<div>\n<style scoped>\n    .dataframe tbody tr th:only-of-type {\n        vertical-align: middle;\n    }\n\n    .dataframe tbody tr th {\n        vertical-align: top;\n    }\n\n    .dataframe thead th {\n        text-align: right;\n    }\n</style>\n<table border=\"1\" class=\"dataframe\">\n  <thead>\n    <tr style=\"text-align: right;\">\n      <th></th>\n      <th>계약종별 전력사용량 월별( 20220804 현재 )</th>\n      <th>Unnamed: 1</th>\n      <th>Unnamed: 2</th>\n      <th>Unnamed: 3</th>\n      <th>Unnamed: 4</th>\n      <th>Unnamed: 5</th>\n      <th>Unnamed: 6</th>\n      <th>Unnamed: 7</th>\n    </tr>\n  </thead>\n  <tbody>\n    <tr>\n      <th>2</th>\n      <td>년월</td>\n      <td>시구</td>\n      <td>시군구</td>\n      <td>계약구분</td>\n      <td>고객호수(호)</td>\n      <td>사용량(kWh)</td>\n      <td>전기요금(원)</td>\n      <td>평균판매단가(원/kWh)</td>\n    </tr>\n    <tr>\n      <th>3</th>\n      <td>202101</td>\n      <td>서울특별시</td>\n      <td>전체(시 / 군 / 구)</td>\n      <td>주택용</td>\n      <td>2,869,649</td>\n      <td>1,331,688,210</td>\n      <td>157,244,336,747</td>\n      <td>118.1</td>\n    </tr>\n    <tr>\n      <th>4</th>\n      <td>202101</td>\n      <td>서울특별시</td>\n      <td>전체(시 / 군 / 구)</td>\n      <td>일반용</td>\n      <td>546,529</td>\n      <td>2,371,896,050</td>\n      <td>306,812,112,115</td>\n      <td>129.4</td>\n    </tr>\n    <tr>\n      <th>5</th>\n      <td>202101</td>\n      <td>서울특별시</td>\n      <td>전체(시 / 군 / 구)</td>\n      <td>교육용</td>\n      <td>2,628</td>\n      <td>193,016,224</td>\n      <td>17,548,052,933</td>\n      <td>90.9</td>\n    </tr>\n    <tr>\n      <th>6</th>\n      <td>202101</td>\n      <td>서울특별시</td>\n      <td>전체(시 / 군 / 구)</td>\n      <td>산업용</td>\n      <td>43,658</td>\n      <td>448,731,955</td>\n      <td>53,891,207,212</td>\n      <td>120.1</td>\n    </tr>\n    <tr>\n      <th>...</th>\n      <td>...</td>\n      <td>...</td>\n      <td>...</td>\n      <td>...</td>\n      <td>...</td>\n      <td>...</td>\n      <td>...</td>\n      <td>...</td>\n    </tr>\n    <tr>\n      <th>1237</th>\n      <td>202106</td>\n      <td>서울특별시</td>\n      <td>중랑구</td>\n      <td>산업용</td>\n      <td>2,612</td>\n      <td>5,201,675</td>\n      <td>659,497,669</td>\n      <td>126.8</td>\n    </tr>\n    <tr>\n      <th>1238</th>\n      <td>202106</td>\n      <td>서울특별시</td>\n      <td>중랑구</td>\n      <td>심 야</td>\n      <td>381</td>\n      <td>412,405</td>\n      <td>24,049,104</td>\n      <td>58.3</td>\n    </tr>\n    <tr>\n      <th>1239</th>\n      <td>202106</td>\n      <td>서울특별시</td>\n      <td>중랑구</td>\n      <td>일반용</td>\n      <td>20,252</td>\n      <td>35,018,264</td>\n      <td>4,746,633,618</td>\n      <td>135.5</td>\n    </tr>\n    <tr>\n      <th>1240</th>\n      <td>202106</td>\n      <td>서울특별시</td>\n      <td>중랑구</td>\n      <td>주택용</td>\n      <td>141,056</td>\n      <td>42,069,078</td>\n      <td>4,190,650,859</td>\n      <td>99.6</td>\n    </tr>\n    <tr>\n      <th>1241</th>\n      <td>202106</td>\n      <td>서울특별시</td>\n      <td>중랑구</td>\n      <td>합계</td>\n      <td>175,100</td>\n      <td>85,064,448</td>\n      <td>9,897,292,087</td>\n      <td>116.4</td>\n    </tr>\n  </tbody>\n</table>\n<p>1239 rows × 8 columns</p>\n</div>"
     },
     "execution_count": 3,
     "metadata": {},
     "output_type": "execute_result"
    }
   ],
   "source": [
    "df = df.drop([0,1 , 46] , axis = 0)\n",
    "#0,1 , 10은 지우는게 맞다\n",
    "df"
   ],
   "metadata": {
    "collapsed": false,
    "pycharm": {
     "name": "#%%\n"
    }
   }
  },
  {
   "cell_type": "code",
   "execution_count": 4,
   "outputs": [],
   "source": [
    "a= df.loc[2].tolist()\n",
    "a\n",
    "df = df.drop([2] , axis = 0)"
   ],
   "metadata": {
    "collapsed": false,
    "pycharm": {
     "name": "#%%\n"
    }
   }
  },
  {
   "cell_type": "code",
   "execution_count": 5,
   "outputs": [
    {
     "data": {
      "text/plain": "          년월     시구            시군구 계약구분     고객호수(호)        사용량(kWh)  \\\n3     202101  서울특별시  전체(시 / 군 / 구)  주택용  2,869,649   1,331,688,210    \n4     202101  서울특별시  전체(시 / 군 / 구)  일반용    546,529   2,371,896,050    \n5     202101  서울특별시  전체(시 / 군 / 구)  교육용      2,628     193,016,224    \n6     202101  서울특별시  전체(시 / 군 / 구)  산업용     43,658     448,731,955    \n7     202101  서울특별시  전체(시 / 군 / 구)  농사용      1,928       2,068,194    \n...      ...    ...            ...  ...         ...             ...   \n1237  202106  서울특별시            중랑구  산업용      2,612       5,201,675    \n1238  202106  서울특별시            중랑구  심 야        381         412,405    \n1239  202106  서울특별시            중랑구  일반용     20,252      35,018,264    \n1240  202106  서울특별시            중랑구  주택용    141,056      42,069,078    \n1241  202106  서울특별시            중랑구   합계    175,100      85,064,448    \n\n               전기요금(원) 평균판매단가(원/kWh)  \n3     157,244,336,747         118.1   \n4     306,812,112,115         129.4   \n5      17,548,052,933          90.9   \n6      53,891,207,212         120.1   \n7          93,678,872          45.3   \n...                ...           ...  \n1237      659,497,669         126.8   \n1238       24,049,104          58.3   \n1239    4,746,633,618         135.5   \n1240    4,190,650,859          99.6   \n1241    9,897,292,087         116.4   \n\n[1238 rows x 8 columns]",
      "text/html": "<div>\n<style scoped>\n    .dataframe tbody tr th:only-of-type {\n        vertical-align: middle;\n    }\n\n    .dataframe tbody tr th {\n        vertical-align: top;\n    }\n\n    .dataframe thead th {\n        text-align: right;\n    }\n</style>\n<table border=\"1\" class=\"dataframe\">\n  <thead>\n    <tr style=\"text-align: right;\">\n      <th></th>\n      <th>년월</th>\n      <th>시구</th>\n      <th>시군구</th>\n      <th>계약구분</th>\n      <th>고객호수(호)</th>\n      <th>사용량(kWh)</th>\n      <th>전기요금(원)</th>\n      <th>평균판매단가(원/kWh)</th>\n    </tr>\n  </thead>\n  <tbody>\n    <tr>\n      <th>3</th>\n      <td>202101</td>\n      <td>서울특별시</td>\n      <td>전체(시 / 군 / 구)</td>\n      <td>주택용</td>\n      <td>2,869,649</td>\n      <td>1,331,688,210</td>\n      <td>157,244,336,747</td>\n      <td>118.1</td>\n    </tr>\n    <tr>\n      <th>4</th>\n      <td>202101</td>\n      <td>서울특별시</td>\n      <td>전체(시 / 군 / 구)</td>\n      <td>일반용</td>\n      <td>546,529</td>\n      <td>2,371,896,050</td>\n      <td>306,812,112,115</td>\n      <td>129.4</td>\n    </tr>\n    <tr>\n      <th>5</th>\n      <td>202101</td>\n      <td>서울특별시</td>\n      <td>전체(시 / 군 / 구)</td>\n      <td>교육용</td>\n      <td>2,628</td>\n      <td>193,016,224</td>\n      <td>17,548,052,933</td>\n      <td>90.9</td>\n    </tr>\n    <tr>\n      <th>6</th>\n      <td>202101</td>\n      <td>서울특별시</td>\n      <td>전체(시 / 군 / 구)</td>\n      <td>산업용</td>\n      <td>43,658</td>\n      <td>448,731,955</td>\n      <td>53,891,207,212</td>\n      <td>120.1</td>\n    </tr>\n    <tr>\n      <th>7</th>\n      <td>202101</td>\n      <td>서울특별시</td>\n      <td>전체(시 / 군 / 구)</td>\n      <td>농사용</td>\n      <td>1,928</td>\n      <td>2,068,194</td>\n      <td>93,678,872</td>\n      <td>45.3</td>\n    </tr>\n    <tr>\n      <th>...</th>\n      <td>...</td>\n      <td>...</td>\n      <td>...</td>\n      <td>...</td>\n      <td>...</td>\n      <td>...</td>\n      <td>...</td>\n      <td>...</td>\n    </tr>\n    <tr>\n      <th>1237</th>\n      <td>202106</td>\n      <td>서울특별시</td>\n      <td>중랑구</td>\n      <td>산업용</td>\n      <td>2,612</td>\n      <td>5,201,675</td>\n      <td>659,497,669</td>\n      <td>126.8</td>\n    </tr>\n    <tr>\n      <th>1238</th>\n      <td>202106</td>\n      <td>서울특별시</td>\n      <td>중랑구</td>\n      <td>심 야</td>\n      <td>381</td>\n      <td>412,405</td>\n      <td>24,049,104</td>\n      <td>58.3</td>\n    </tr>\n    <tr>\n      <th>1239</th>\n      <td>202106</td>\n      <td>서울특별시</td>\n      <td>중랑구</td>\n      <td>일반용</td>\n      <td>20,252</td>\n      <td>35,018,264</td>\n      <td>4,746,633,618</td>\n      <td>135.5</td>\n    </tr>\n    <tr>\n      <th>1240</th>\n      <td>202106</td>\n      <td>서울특별시</td>\n      <td>중랑구</td>\n      <td>주택용</td>\n      <td>141,056</td>\n      <td>42,069,078</td>\n      <td>4,190,650,859</td>\n      <td>99.6</td>\n    </tr>\n    <tr>\n      <th>1241</th>\n      <td>202106</td>\n      <td>서울특별시</td>\n      <td>중랑구</td>\n      <td>합계</td>\n      <td>175,100</td>\n      <td>85,064,448</td>\n      <td>9,897,292,087</td>\n      <td>116.4</td>\n    </tr>\n  </tbody>\n</table>\n<p>1238 rows × 8 columns</p>\n</div>"
     },
     "execution_count": 5,
     "metadata": {},
     "output_type": "execute_result"
    }
   ],
   "source": [
    "df.columns = a\n",
    "df"
   ],
   "metadata": {
    "collapsed": false,
    "pycharm": {
     "name": "#%%\n"
    }
   }
  },
  {
   "cell_type": "code",
   "execution_count": 6,
   "outputs": [
    {
     "data": {
      "text/plain": "        년월     시구            시군구 계약구분     고객호수(호)        사용량(kWh)  \\\n3   202101  서울특별시  전체(시 / 군 / 구)  주택용  2,869,649   1,331,688,210    \n4   202101  서울특별시  전체(시 / 군 / 구)  일반용    546,529   2,371,896,050    \n5   202101  서울특별시  전체(시 / 군 / 구)  교육용      2,628     193,016,224    \n6   202101  서울특별시  전체(시 / 군 / 구)  산업용     43,658     448,731,955    \n7   202101  서울특별시  전체(시 / 군 / 구)  농사용      1,928       2,068,194    \n8   202101  서울특별시  전체(시 / 군 / 구)  가로등    216,650      28,185,756    \n9   202101  서울특별시  전체(시 / 군 / 구)  심 야     13,200      24,823,906    \n10  202102  서울특별시  전체(시 / 군 / 구)  주택용  2,872,040   1,272,211,063    \n11  202102  서울특별시  전체(시 / 군 / 구)  일반용    546,938   2,212,642,378    \n12  202102  서울특별시  전체(시 / 군 / 구)  교육용      2,629     173,793,842    \n13  202102  서울특별시  전체(시 / 군 / 구)  산업용     43,613     423,732,610    \n14  202102  서울특별시  전체(시 / 군 / 구)  농사용      1,928       2,027,286    \n15  202102  서울특별시  전체(시 / 군 / 구)  가로등    217,180      26,182,592    \n16  202102  서울특별시  전체(시 / 군 / 구)  심 야     13,137      23,455,668    \n17  202103  서울특별시  전체(시 / 군 / 구)  주택용  2,873,585   1,090,281,733    \n18  202103  서울특별시  전체(시 / 군 / 구)  일반용    546,555   1,886,032,118    \n19  202103  서울특별시  전체(시 / 군 / 구)  교육용      2,623     142,623,936    \n20  202103  서울특별시  전체(시 / 군 / 구)  산업용     43,633     387,108,944    \n21  202103  서울특별시  전체(시 / 군 / 구)  농사용      2,188       1,845,102    \n22  202103  서울특별시  전체(시 / 군 / 구)  가로등    217,301      23,846,954    \n23  202103  서울특별시  전체(시 / 군 / 구)  심 야     13,061      19,012,005    \n24  202104  서울특별시  전체(시 / 군 / 구)  주택용  2,876,341   1,112,408,343    \n25  202104  서울특별시  전체(시 / 군 / 구)  일반용    546,478   1,781,885,892    \n26  202104  서울특별시  전체(시 / 군 / 구)  교육용      2,619     120,964,527    \n27  202104  서울특별시  전체(시 / 군 / 구)  산업용     43,614     390,398,761    \n28  202104  서울특별시  전체(시 / 군 / 구)  농사용      1,933       1,692,104    \n29  202104  서울특별시  전체(시 / 군 / 구)  가로등    217,356      22,898,403    \n30  202104  서울특별시  전체(시 / 군 / 구)  심 야     13,005      19,008,677    \n31  202105  서울특별시  전체(시 / 군 / 구)  주택용  2,877,876   1,060,022,886    \n32  202105  서울특별시  전체(시 / 군 / 구)  일반용    546,322   1,731,810,105    \n33  202105  서울특별시  전체(시 / 군 / 구)  교육용      2,612     103,542,383    \n34  202105  서울특별시  전체(시 / 군 / 구)  산업용     43,632     379,296,340    \n35  202105  서울특별시  전체(시 / 군 / 구)  농사용      1,938       1,546,128    \n36  202105  서울특별시  전체(시 / 군 / 구)  가로등    217,554      21,116,147    \n37  202105  서울특별시  전체(시 / 군 / 구)  심 야     12,912      27,428,959    \n38  202106  서울특별시  전체(시 / 군 / 구)  주택용  2,878,708   1,127,819,486    \n39  202106  서울특별시  전체(시 / 군 / 구)  일반용    546,893   1,983,260,537    \n40  202106  서울특별시  전체(시 / 군 / 구)  교육용      2,610     120,394,840    \n41  202106  서울특별시  전체(시 / 군 / 구)  산업용     43,584     398,125,722    \n42  202106  서울특별시  전체(시 / 군 / 구)  농사용      1,947       1,568,217    \n43  202106  서울특별시  전체(시 / 군 / 구)  가로등    217,769      19,773,344    \n44  202106  서울특별시  전체(시 / 군 / 구)  심 야     12,838      50,678,772    \n45      합계     합계             합계   합계  22,199,194  22,560,847,099   \n\n              전기요금(원) 평균판매단가(원/kWh)  \n3    157,244,336,747         118.1   \n4    306,812,112,115         129.4   \n5     17,548,052,933          90.9   \n6     53,891,207,212         120.1   \n7         93,678,872          45.3   \n8      2,900,599,973         102.9   \n9      2,022,255,088          81.5   \n10   145,583,631,575         114.4   \n11   293,331,926,139         132.6   \n12    16,230,643,434          93.4   \n13    51,737,782,080         122.1   \n14        92,502,851          45.6   \n15     2,831,341,774         108.1   \n16     1,914,662,937          81.6   \n17   111,500,312,943         102.3   \n18   230,667,423,863         122.3   \n19    13,435,113,172          94.2   \n20    42,212,405,753         109.0   \n21        83,978,206          45.5   \n22     2,610,330,605         109.5   \n23     1,425,223,007          75.0   \n24   114,647,317,936         103.1   \n25   206,726,398,604         116.0   \n26    10,487,357,583          86.7   \n27    40,032,223,436         102.5   \n28        78,146,336          46.2   \n29     2,614,525,045         114.2   \n30     1,428,023,154          75.1   \n31   105,843,599,995          99.9   \n32   201,623,227,894         116.4   \n33     9,033,410,912          87.2   \n34    39,244,866,472         103.5   \n35        72,819,812          47.1   \n36     2,491,031,744         118.0   \n37     2,017,531,790          73.6   \n38   118,440,986,106         105.0   \n39   269,153,075,182         135.7   \n40    12,907,562,675         107.2   \n41    49,306,131,486         123.8   \n42        75,109,763          47.9   \n43     2,418,286,227         122.3   \n44     3,563,716,492          70.3   \n45  2,646,374,869,923         117.3  ",
      "text/html": "<div>\n<style scoped>\n    .dataframe tbody tr th:only-of-type {\n        vertical-align: middle;\n    }\n\n    .dataframe tbody tr th {\n        vertical-align: top;\n    }\n\n    .dataframe thead th {\n        text-align: right;\n    }\n</style>\n<table border=\"1\" class=\"dataframe\">\n  <thead>\n    <tr style=\"text-align: right;\">\n      <th></th>\n      <th>년월</th>\n      <th>시구</th>\n      <th>시군구</th>\n      <th>계약구분</th>\n      <th>고객호수(호)</th>\n      <th>사용량(kWh)</th>\n      <th>전기요금(원)</th>\n      <th>평균판매단가(원/kWh)</th>\n    </tr>\n  </thead>\n  <tbody>\n    <tr>\n      <th>3</th>\n      <td>202101</td>\n      <td>서울특별시</td>\n      <td>전체(시 / 군 / 구)</td>\n      <td>주택용</td>\n      <td>2,869,649</td>\n      <td>1,331,688,210</td>\n      <td>157,244,336,747</td>\n      <td>118.1</td>\n    </tr>\n    <tr>\n      <th>4</th>\n      <td>202101</td>\n      <td>서울특별시</td>\n      <td>전체(시 / 군 / 구)</td>\n      <td>일반용</td>\n      <td>546,529</td>\n      <td>2,371,896,050</td>\n      <td>306,812,112,115</td>\n      <td>129.4</td>\n    </tr>\n    <tr>\n      <th>5</th>\n      <td>202101</td>\n      <td>서울특별시</td>\n      <td>전체(시 / 군 / 구)</td>\n      <td>교육용</td>\n      <td>2,628</td>\n      <td>193,016,224</td>\n      <td>17,548,052,933</td>\n      <td>90.9</td>\n    </tr>\n    <tr>\n      <th>6</th>\n      <td>202101</td>\n      <td>서울특별시</td>\n      <td>전체(시 / 군 / 구)</td>\n      <td>산업용</td>\n      <td>43,658</td>\n      <td>448,731,955</td>\n      <td>53,891,207,212</td>\n      <td>120.1</td>\n    </tr>\n    <tr>\n      <th>7</th>\n      <td>202101</td>\n      <td>서울특별시</td>\n      <td>전체(시 / 군 / 구)</td>\n      <td>농사용</td>\n      <td>1,928</td>\n      <td>2,068,194</td>\n      <td>93,678,872</td>\n      <td>45.3</td>\n    </tr>\n    <tr>\n      <th>8</th>\n      <td>202101</td>\n      <td>서울특별시</td>\n      <td>전체(시 / 군 / 구)</td>\n      <td>가로등</td>\n      <td>216,650</td>\n      <td>28,185,756</td>\n      <td>2,900,599,973</td>\n      <td>102.9</td>\n    </tr>\n    <tr>\n      <th>9</th>\n      <td>202101</td>\n      <td>서울특별시</td>\n      <td>전체(시 / 군 / 구)</td>\n      <td>심 야</td>\n      <td>13,200</td>\n      <td>24,823,906</td>\n      <td>2,022,255,088</td>\n      <td>81.5</td>\n    </tr>\n    <tr>\n      <th>10</th>\n      <td>202102</td>\n      <td>서울특별시</td>\n      <td>전체(시 / 군 / 구)</td>\n      <td>주택용</td>\n      <td>2,872,040</td>\n      <td>1,272,211,063</td>\n      <td>145,583,631,575</td>\n      <td>114.4</td>\n    </tr>\n    <tr>\n      <th>11</th>\n      <td>202102</td>\n      <td>서울특별시</td>\n      <td>전체(시 / 군 / 구)</td>\n      <td>일반용</td>\n      <td>546,938</td>\n      <td>2,212,642,378</td>\n      <td>293,331,926,139</td>\n      <td>132.6</td>\n    </tr>\n    <tr>\n      <th>12</th>\n      <td>202102</td>\n      <td>서울특별시</td>\n      <td>전체(시 / 군 / 구)</td>\n      <td>교육용</td>\n      <td>2,629</td>\n      <td>173,793,842</td>\n      <td>16,230,643,434</td>\n      <td>93.4</td>\n    </tr>\n    <tr>\n      <th>13</th>\n      <td>202102</td>\n      <td>서울특별시</td>\n      <td>전체(시 / 군 / 구)</td>\n      <td>산업용</td>\n      <td>43,613</td>\n      <td>423,732,610</td>\n      <td>51,737,782,080</td>\n      <td>122.1</td>\n    </tr>\n    <tr>\n      <th>14</th>\n      <td>202102</td>\n      <td>서울특별시</td>\n      <td>전체(시 / 군 / 구)</td>\n      <td>농사용</td>\n      <td>1,928</td>\n      <td>2,027,286</td>\n      <td>92,502,851</td>\n      <td>45.6</td>\n    </tr>\n    <tr>\n      <th>15</th>\n      <td>202102</td>\n      <td>서울특별시</td>\n      <td>전체(시 / 군 / 구)</td>\n      <td>가로등</td>\n      <td>217,180</td>\n      <td>26,182,592</td>\n      <td>2,831,341,774</td>\n      <td>108.1</td>\n    </tr>\n    <tr>\n      <th>16</th>\n      <td>202102</td>\n      <td>서울특별시</td>\n      <td>전체(시 / 군 / 구)</td>\n      <td>심 야</td>\n      <td>13,137</td>\n      <td>23,455,668</td>\n      <td>1,914,662,937</td>\n      <td>81.6</td>\n    </tr>\n    <tr>\n      <th>17</th>\n      <td>202103</td>\n      <td>서울특별시</td>\n      <td>전체(시 / 군 / 구)</td>\n      <td>주택용</td>\n      <td>2,873,585</td>\n      <td>1,090,281,733</td>\n      <td>111,500,312,943</td>\n      <td>102.3</td>\n    </tr>\n    <tr>\n      <th>18</th>\n      <td>202103</td>\n      <td>서울특별시</td>\n      <td>전체(시 / 군 / 구)</td>\n      <td>일반용</td>\n      <td>546,555</td>\n      <td>1,886,032,118</td>\n      <td>230,667,423,863</td>\n      <td>122.3</td>\n    </tr>\n    <tr>\n      <th>19</th>\n      <td>202103</td>\n      <td>서울특별시</td>\n      <td>전체(시 / 군 / 구)</td>\n      <td>교육용</td>\n      <td>2,623</td>\n      <td>142,623,936</td>\n      <td>13,435,113,172</td>\n      <td>94.2</td>\n    </tr>\n    <tr>\n      <th>20</th>\n      <td>202103</td>\n      <td>서울특별시</td>\n      <td>전체(시 / 군 / 구)</td>\n      <td>산업용</td>\n      <td>43,633</td>\n      <td>387,108,944</td>\n      <td>42,212,405,753</td>\n      <td>109.0</td>\n    </tr>\n    <tr>\n      <th>21</th>\n      <td>202103</td>\n      <td>서울특별시</td>\n      <td>전체(시 / 군 / 구)</td>\n      <td>농사용</td>\n      <td>2,188</td>\n      <td>1,845,102</td>\n      <td>83,978,206</td>\n      <td>45.5</td>\n    </tr>\n    <tr>\n      <th>22</th>\n      <td>202103</td>\n      <td>서울특별시</td>\n      <td>전체(시 / 군 / 구)</td>\n      <td>가로등</td>\n      <td>217,301</td>\n      <td>23,846,954</td>\n      <td>2,610,330,605</td>\n      <td>109.5</td>\n    </tr>\n    <tr>\n      <th>23</th>\n      <td>202103</td>\n      <td>서울특별시</td>\n      <td>전체(시 / 군 / 구)</td>\n      <td>심 야</td>\n      <td>13,061</td>\n      <td>19,012,005</td>\n      <td>1,425,223,007</td>\n      <td>75.0</td>\n    </tr>\n    <tr>\n      <th>24</th>\n      <td>202104</td>\n      <td>서울특별시</td>\n      <td>전체(시 / 군 / 구)</td>\n      <td>주택용</td>\n      <td>2,876,341</td>\n      <td>1,112,408,343</td>\n      <td>114,647,317,936</td>\n      <td>103.1</td>\n    </tr>\n    <tr>\n      <th>25</th>\n      <td>202104</td>\n      <td>서울특별시</td>\n      <td>전체(시 / 군 / 구)</td>\n      <td>일반용</td>\n      <td>546,478</td>\n      <td>1,781,885,892</td>\n      <td>206,726,398,604</td>\n      <td>116.0</td>\n    </tr>\n    <tr>\n      <th>26</th>\n      <td>202104</td>\n      <td>서울특별시</td>\n      <td>전체(시 / 군 / 구)</td>\n      <td>교육용</td>\n      <td>2,619</td>\n      <td>120,964,527</td>\n      <td>10,487,357,583</td>\n      <td>86.7</td>\n    </tr>\n    <tr>\n      <th>27</th>\n      <td>202104</td>\n      <td>서울특별시</td>\n      <td>전체(시 / 군 / 구)</td>\n      <td>산업용</td>\n      <td>43,614</td>\n      <td>390,398,761</td>\n      <td>40,032,223,436</td>\n      <td>102.5</td>\n    </tr>\n    <tr>\n      <th>28</th>\n      <td>202104</td>\n      <td>서울특별시</td>\n      <td>전체(시 / 군 / 구)</td>\n      <td>농사용</td>\n      <td>1,933</td>\n      <td>1,692,104</td>\n      <td>78,146,336</td>\n      <td>46.2</td>\n    </tr>\n    <tr>\n      <th>29</th>\n      <td>202104</td>\n      <td>서울특별시</td>\n      <td>전체(시 / 군 / 구)</td>\n      <td>가로등</td>\n      <td>217,356</td>\n      <td>22,898,403</td>\n      <td>2,614,525,045</td>\n      <td>114.2</td>\n    </tr>\n    <tr>\n      <th>30</th>\n      <td>202104</td>\n      <td>서울특별시</td>\n      <td>전체(시 / 군 / 구)</td>\n      <td>심 야</td>\n      <td>13,005</td>\n      <td>19,008,677</td>\n      <td>1,428,023,154</td>\n      <td>75.1</td>\n    </tr>\n    <tr>\n      <th>31</th>\n      <td>202105</td>\n      <td>서울특별시</td>\n      <td>전체(시 / 군 / 구)</td>\n      <td>주택용</td>\n      <td>2,877,876</td>\n      <td>1,060,022,886</td>\n      <td>105,843,599,995</td>\n      <td>99.9</td>\n    </tr>\n    <tr>\n      <th>32</th>\n      <td>202105</td>\n      <td>서울특별시</td>\n      <td>전체(시 / 군 / 구)</td>\n      <td>일반용</td>\n      <td>546,322</td>\n      <td>1,731,810,105</td>\n      <td>201,623,227,894</td>\n      <td>116.4</td>\n    </tr>\n    <tr>\n      <th>33</th>\n      <td>202105</td>\n      <td>서울특별시</td>\n      <td>전체(시 / 군 / 구)</td>\n      <td>교육용</td>\n      <td>2,612</td>\n      <td>103,542,383</td>\n      <td>9,033,410,912</td>\n      <td>87.2</td>\n    </tr>\n    <tr>\n      <th>34</th>\n      <td>202105</td>\n      <td>서울특별시</td>\n      <td>전체(시 / 군 / 구)</td>\n      <td>산업용</td>\n      <td>43,632</td>\n      <td>379,296,340</td>\n      <td>39,244,866,472</td>\n      <td>103.5</td>\n    </tr>\n    <tr>\n      <th>35</th>\n      <td>202105</td>\n      <td>서울특별시</td>\n      <td>전체(시 / 군 / 구)</td>\n      <td>농사용</td>\n      <td>1,938</td>\n      <td>1,546,128</td>\n      <td>72,819,812</td>\n      <td>47.1</td>\n    </tr>\n    <tr>\n      <th>36</th>\n      <td>202105</td>\n      <td>서울특별시</td>\n      <td>전체(시 / 군 / 구)</td>\n      <td>가로등</td>\n      <td>217,554</td>\n      <td>21,116,147</td>\n      <td>2,491,031,744</td>\n      <td>118.0</td>\n    </tr>\n    <tr>\n      <th>37</th>\n      <td>202105</td>\n      <td>서울특별시</td>\n      <td>전체(시 / 군 / 구)</td>\n      <td>심 야</td>\n      <td>12,912</td>\n      <td>27,428,959</td>\n      <td>2,017,531,790</td>\n      <td>73.6</td>\n    </tr>\n    <tr>\n      <th>38</th>\n      <td>202106</td>\n      <td>서울특별시</td>\n      <td>전체(시 / 군 / 구)</td>\n      <td>주택용</td>\n      <td>2,878,708</td>\n      <td>1,127,819,486</td>\n      <td>118,440,986,106</td>\n      <td>105.0</td>\n    </tr>\n    <tr>\n      <th>39</th>\n      <td>202106</td>\n      <td>서울특별시</td>\n      <td>전체(시 / 군 / 구)</td>\n      <td>일반용</td>\n      <td>546,893</td>\n      <td>1,983,260,537</td>\n      <td>269,153,075,182</td>\n      <td>135.7</td>\n    </tr>\n    <tr>\n      <th>40</th>\n      <td>202106</td>\n      <td>서울특별시</td>\n      <td>전체(시 / 군 / 구)</td>\n      <td>교육용</td>\n      <td>2,610</td>\n      <td>120,394,840</td>\n      <td>12,907,562,675</td>\n      <td>107.2</td>\n    </tr>\n    <tr>\n      <th>41</th>\n      <td>202106</td>\n      <td>서울특별시</td>\n      <td>전체(시 / 군 / 구)</td>\n      <td>산업용</td>\n      <td>43,584</td>\n      <td>398,125,722</td>\n      <td>49,306,131,486</td>\n      <td>123.8</td>\n    </tr>\n    <tr>\n      <th>42</th>\n      <td>202106</td>\n      <td>서울특별시</td>\n      <td>전체(시 / 군 / 구)</td>\n      <td>농사용</td>\n      <td>1,947</td>\n      <td>1,568,217</td>\n      <td>75,109,763</td>\n      <td>47.9</td>\n    </tr>\n    <tr>\n      <th>43</th>\n      <td>202106</td>\n      <td>서울특별시</td>\n      <td>전체(시 / 군 / 구)</td>\n      <td>가로등</td>\n      <td>217,769</td>\n      <td>19,773,344</td>\n      <td>2,418,286,227</td>\n      <td>122.3</td>\n    </tr>\n    <tr>\n      <th>44</th>\n      <td>202106</td>\n      <td>서울특별시</td>\n      <td>전체(시 / 군 / 구)</td>\n      <td>심 야</td>\n      <td>12,838</td>\n      <td>50,678,772</td>\n      <td>3,563,716,492</td>\n      <td>70.3</td>\n    </tr>\n    <tr>\n      <th>45</th>\n      <td>합계</td>\n      <td>합계</td>\n      <td>합계</td>\n      <td>합계</td>\n      <td>22,199,194</td>\n      <td>22,560,847,099</td>\n      <td>2,646,374,869,923</td>\n      <td>117.3</td>\n    </tr>\n  </tbody>\n</table>\n</div>"
     },
     "execution_count": 6,
     "metadata": {},
     "output_type": "execute_result"
    }
   ],
   "source": [
    "df_2 = df.loc[:45]\n",
    "df_2\n"
   ],
   "metadata": {
    "collapsed": false,
    "pycharm": {
     "name": "#%%\n"
    }
   }
  },
  {
   "cell_type": "code",
   "execution_count": 7,
   "outputs": [
    {
     "name": "stderr",
     "output_type": "stream",
     "text": [
      "C:\\Users\\user\\AppData\\Local\\Temp\\ipykernel_20696\\3551721261.py:3: SettingWithCopyWarning: \n",
      "A value is trying to be set on a copy of a slice from a DataFrame\n",
      "\n",
      "See the caveats in the documentation: https://pandas.pydata.org/pandas-docs/stable/user_guide/indexing.html#returning-a-view-versus-a-copy\n",
      "  GyeonGi.drop(['시군구' , '전기요금(원)' , '평균판매단가(원/kWh)'] , axis = 1 , inplace = True)\n"
     ]
    },
    {
     "data": {
      "text/plain": "        년월     시구 계약구분   고객호수(호)        사용량(kWh)\n4   202101  서울특별시  일반용  546,529   2,371,896,050 \n11  202102  서울특별시  일반용  546,938   2,212,642,378 \n18  202103  서울특별시  일반용  546,555   1,886,032,118 \n25  202104  서울특별시  일반용  546,478   1,781,885,892 \n32  202105  서울특별시  일반용  546,322   1,731,810,105 \n39  202106  서울특별시  일반용  546,893   1,983,260,537 ",
      "text/html": "<div>\n<style scoped>\n    .dataframe tbody tr th:only-of-type {\n        vertical-align: middle;\n    }\n\n    .dataframe tbody tr th {\n        vertical-align: top;\n    }\n\n    .dataframe thead th {\n        text-align: right;\n    }\n</style>\n<table border=\"1\" class=\"dataframe\">\n  <thead>\n    <tr style=\"text-align: right;\">\n      <th></th>\n      <th>년월</th>\n      <th>시구</th>\n      <th>계약구분</th>\n      <th>고객호수(호)</th>\n      <th>사용량(kWh)</th>\n    </tr>\n  </thead>\n  <tbody>\n    <tr>\n      <th>4</th>\n      <td>202101</td>\n      <td>서울특별시</td>\n      <td>일반용</td>\n      <td>546,529</td>\n      <td>2,371,896,050</td>\n    </tr>\n    <tr>\n      <th>11</th>\n      <td>202102</td>\n      <td>서울특별시</td>\n      <td>일반용</td>\n      <td>546,938</td>\n      <td>2,212,642,378</td>\n    </tr>\n    <tr>\n      <th>18</th>\n      <td>202103</td>\n      <td>서울특별시</td>\n      <td>일반용</td>\n      <td>546,555</td>\n      <td>1,886,032,118</td>\n    </tr>\n    <tr>\n      <th>25</th>\n      <td>202104</td>\n      <td>서울특별시</td>\n      <td>일반용</td>\n      <td>546,478</td>\n      <td>1,781,885,892</td>\n    </tr>\n    <tr>\n      <th>32</th>\n      <td>202105</td>\n      <td>서울특별시</td>\n      <td>일반용</td>\n      <td>546,322</td>\n      <td>1,731,810,105</td>\n    </tr>\n    <tr>\n      <th>39</th>\n      <td>202106</td>\n      <td>서울특별시</td>\n      <td>일반용</td>\n      <td>546,893</td>\n      <td>1,983,260,537</td>\n    </tr>\n  </tbody>\n</table>\n</div>"
     },
     "execution_count": 7,
     "metadata": {},
     "output_type": "execute_result"
    }
   ],
   "source": [
    "GyeonGi  = df_2.loc[(df_2['계약구분'] == '일반용')]\n",
    "#SEOUL = df_3.loc[(df_3['계약구분'] =='일반용')]\n",
    "GyeonGi.drop(['시군구' , '전기요금(원)' , '평균판매단가(원/kWh)'] , axis = 1 , inplace = True)\n",
    "GyeonGi"
   ],
   "metadata": {
    "collapsed": false,
    "pycharm": {
     "name": "#%%\n"
    }
   }
  },
  {
   "cell_type": "code",
   "execution_count": 8,
   "outputs": [],
   "source": [
    "#SEOUL1.to_csv(\"서울특별시_계약종별_전국_전력사용량_2022.csv\" , mode = 'w' , encoding= 'cp949')"
   ],
   "metadata": {
    "collapsed": false,
    "pycharm": {
     "name": "#%%\n"
    }
   }
  },
  {
   "cell_type": "code",
   "execution_count": 9,
   "outputs": [],
   "source": [
    "#df_2.to_csv(\"서울특별시_계약종별_전국_전력사용량.csv\" , mode = 'w' , encoding= 'cp949')"
   ],
   "metadata": {
    "collapsed": false,
    "pycharm": {
     "name": "#%%\n"
    }
   }
  },
  {
   "cell_type": "code",
   "execution_count": 10,
   "outputs": [
    {
     "data": {
      "text/plain": "          년월     시구  시군구 계약구분  고객호수(호)      사용량(kWh)\n53    202101  서울특별시  강남구  일반용  50,670   323,067,357 \n252   202102  서울특별시  강남구  일반용  50,757   297,753,752 \n451   202103  서울특별시  강남구  일반용  50,783   248,849,557 \n650   202104  서울특별시  강남구  일반용  50,768   228,927,083 \n849   202105  서울특별시  강남구  일반용  50,871   219,933,737 \n...      ...    ...  ...  ...      ...           ...\n443   202102  서울특별시  중랑구  일반용  20,222    41,939,555 \n642   202103  서울특별시  중랑구  일반용  20,221    34,380,842 \n841   202104  서울특별시  중랑구  일반용  20,215    32,699,075 \n1040  202105  서울특별시  중랑구  일반용  20,231    31,063,790 \n1239  202106  서울특별시  중랑구  일반용  20,252    35,018,264 \n\n[150 rows x 6 columns]",
      "text/html": "<div>\n<style scoped>\n    .dataframe tbody tr th:only-of-type {\n        vertical-align: middle;\n    }\n\n    .dataframe tbody tr th {\n        vertical-align: top;\n    }\n\n    .dataframe thead th {\n        text-align: right;\n    }\n</style>\n<table border=\"1\" class=\"dataframe\">\n  <thead>\n    <tr style=\"text-align: right;\">\n      <th></th>\n      <th>년월</th>\n      <th>시구</th>\n      <th>시군구</th>\n      <th>계약구분</th>\n      <th>고객호수(호)</th>\n      <th>사용량(kWh)</th>\n    </tr>\n  </thead>\n  <tbody>\n    <tr>\n      <th>53</th>\n      <td>202101</td>\n      <td>서울특별시</td>\n      <td>강남구</td>\n      <td>일반용</td>\n      <td>50,670</td>\n      <td>323,067,357</td>\n    </tr>\n    <tr>\n      <th>252</th>\n      <td>202102</td>\n      <td>서울특별시</td>\n      <td>강남구</td>\n      <td>일반용</td>\n      <td>50,757</td>\n      <td>297,753,752</td>\n    </tr>\n    <tr>\n      <th>451</th>\n      <td>202103</td>\n      <td>서울특별시</td>\n      <td>강남구</td>\n      <td>일반용</td>\n      <td>50,783</td>\n      <td>248,849,557</td>\n    </tr>\n    <tr>\n      <th>650</th>\n      <td>202104</td>\n      <td>서울특별시</td>\n      <td>강남구</td>\n      <td>일반용</td>\n      <td>50,768</td>\n      <td>228,927,083</td>\n    </tr>\n    <tr>\n      <th>849</th>\n      <td>202105</td>\n      <td>서울특별시</td>\n      <td>강남구</td>\n      <td>일반용</td>\n      <td>50,871</td>\n      <td>219,933,737</td>\n    </tr>\n    <tr>\n      <th>...</th>\n      <td>...</td>\n      <td>...</td>\n      <td>...</td>\n      <td>...</td>\n      <td>...</td>\n      <td>...</td>\n    </tr>\n    <tr>\n      <th>443</th>\n      <td>202102</td>\n      <td>서울특별시</td>\n      <td>중랑구</td>\n      <td>일반용</td>\n      <td>20,222</td>\n      <td>41,939,555</td>\n    </tr>\n    <tr>\n      <th>642</th>\n      <td>202103</td>\n      <td>서울특별시</td>\n      <td>중랑구</td>\n      <td>일반용</td>\n      <td>20,221</td>\n      <td>34,380,842</td>\n    </tr>\n    <tr>\n      <th>841</th>\n      <td>202104</td>\n      <td>서울특별시</td>\n      <td>중랑구</td>\n      <td>일반용</td>\n      <td>20,215</td>\n      <td>32,699,075</td>\n    </tr>\n    <tr>\n      <th>1040</th>\n      <td>202105</td>\n      <td>서울특별시</td>\n      <td>중랑구</td>\n      <td>일반용</td>\n      <td>20,231</td>\n      <td>31,063,790</td>\n    </tr>\n    <tr>\n      <th>1239</th>\n      <td>202106</td>\n      <td>서울특별시</td>\n      <td>중랑구</td>\n      <td>일반용</td>\n      <td>20,252</td>\n      <td>35,018,264</td>\n    </tr>\n  </tbody>\n</table>\n<p>150 rows × 6 columns</p>\n</div>"
     },
     "execution_count": 10,
     "metadata": {},
     "output_type": "execute_result"
    }
   ],
   "source": [
    "df_3 = df.loc[48:]\n",
    "df_3 = df_3.loc[(df_3['계약구분'] == '일반용')]\n",
    "df_3 = df_3.sort_values(by=['시군구' , '년월'])\n",
    "df_3.drop(['전기요금(원)',   '평균판매단가(원/kWh)'] , axis = 1 , inplace = True)\n",
    "df_3"
   ],
   "metadata": {
    "collapsed": false,
    "pycharm": {
     "name": "#%%\n"
    }
   }
  },
  {
   "cell_type": "code",
   "execution_count": 11,
   "outputs": [
    {
     "data": {
      "text/plain": "'서울특별시'"
     },
     "execution_count": 11,
     "metadata": {},
     "output_type": "execute_result"
    }
   ],
   "source": [
    "a = df_3.loc[: , \"시구\"]\n",
    "b = a[:1].tolist()\n",
    "for i in b:\n",
    "    City = i\n",
    "City"
   ],
   "metadata": {
    "collapsed": false,
    "pycharm": {
     "name": "#%%\n"
    }
   }
  },
  {
   "cell_type": "code",
   "execution_count": 12,
   "outputs": [
    {
     "data": {
      "text/plain": "['강남구',\n '강동구',\n '강북구',\n '강서구',\n '관악구',\n '광진구',\n '구로구',\n '금천구',\n '노원구',\n '도봉구',\n '동대문구',\n '동작구',\n '마포구',\n '서대문구',\n '서초구',\n '성동구',\n '성북구',\n '송파구',\n '양천구',\n '영등포구',\n '용산구',\n '은평구',\n '종로구',\n '중구',\n '중랑구']"
     },
     "execution_count": 12,
     "metadata": {},
     "output_type": "execute_result"
    }
   ],
   "source": [
    "\n",
    "SIGUNGU = list(set(df_3.loc[: , '시군구'].tolist()))\n",
    "SIGUNGU.sort()\n",
    "SIGUNGU"
   ],
   "metadata": {
    "collapsed": false,
    "pycharm": {
     "name": "#%%\n"
    }
   }
  },
  {
   "cell_type": "code",
   "execution_count": 13,
   "outputs": [
    {
     "data": {
      "text/plain": "          년월     시구  시군구 계약구분   고객호수(호)      사용량(kWh)\n55    202101  서울특별시  강남구   합계  195,330   444,836,690 \n254   202102  서울특별시  강남구   합계  195,381   408,864,781 \n453   202103  서울특별시  강남구   합계  195,294   347,482,850 \n652   202104  서울특별시  강남구   합계  195,241   326,613,478 \n851   202105  서울특별시  강남구   합계  195,209   315,727,918 \n...      ...    ...  ...  ...       ...           ...\n445   202102  서울특별시  중랑구   합계  174,600   101,783,833 \n644   202103  서울특별시  중랑구   합계  174,755    85,484,295 \n843   202104  서울특별시  중랑구   합계  174,889    83,645,759 \n1042  202105  서울특별시  중랑구   합계  174,940    78,721,083 \n1241  202106  서울특별시  중랑구   합계  175,100    85,064,448 \n\n[150 rows x 6 columns]",
      "text/html": "<div>\n<style scoped>\n    .dataframe tbody tr th:only-of-type {\n        vertical-align: middle;\n    }\n\n    .dataframe tbody tr th {\n        vertical-align: top;\n    }\n\n    .dataframe thead th {\n        text-align: right;\n    }\n</style>\n<table border=\"1\" class=\"dataframe\">\n  <thead>\n    <tr style=\"text-align: right;\">\n      <th></th>\n      <th>년월</th>\n      <th>시구</th>\n      <th>시군구</th>\n      <th>계약구분</th>\n      <th>고객호수(호)</th>\n      <th>사용량(kWh)</th>\n    </tr>\n  </thead>\n  <tbody>\n    <tr>\n      <th>55</th>\n      <td>202101</td>\n      <td>서울특별시</td>\n      <td>강남구</td>\n      <td>합계</td>\n      <td>195,330</td>\n      <td>444,836,690</td>\n    </tr>\n    <tr>\n      <th>254</th>\n      <td>202102</td>\n      <td>서울특별시</td>\n      <td>강남구</td>\n      <td>합계</td>\n      <td>195,381</td>\n      <td>408,864,781</td>\n    </tr>\n    <tr>\n      <th>453</th>\n      <td>202103</td>\n      <td>서울특별시</td>\n      <td>강남구</td>\n      <td>합계</td>\n      <td>195,294</td>\n      <td>347,482,850</td>\n    </tr>\n    <tr>\n      <th>652</th>\n      <td>202104</td>\n      <td>서울특별시</td>\n      <td>강남구</td>\n      <td>합계</td>\n      <td>195,241</td>\n      <td>326,613,478</td>\n    </tr>\n    <tr>\n      <th>851</th>\n      <td>202105</td>\n      <td>서울특별시</td>\n      <td>강남구</td>\n      <td>합계</td>\n      <td>195,209</td>\n      <td>315,727,918</td>\n    </tr>\n    <tr>\n      <th>...</th>\n      <td>...</td>\n      <td>...</td>\n      <td>...</td>\n      <td>...</td>\n      <td>...</td>\n      <td>...</td>\n    </tr>\n    <tr>\n      <th>445</th>\n      <td>202102</td>\n      <td>서울특별시</td>\n      <td>중랑구</td>\n      <td>합계</td>\n      <td>174,600</td>\n      <td>101,783,833</td>\n    </tr>\n    <tr>\n      <th>644</th>\n      <td>202103</td>\n      <td>서울특별시</td>\n      <td>중랑구</td>\n      <td>합계</td>\n      <td>174,755</td>\n      <td>85,484,295</td>\n    </tr>\n    <tr>\n      <th>843</th>\n      <td>202104</td>\n      <td>서울특별시</td>\n      <td>중랑구</td>\n      <td>합계</td>\n      <td>174,889</td>\n      <td>83,645,759</td>\n    </tr>\n    <tr>\n      <th>1042</th>\n      <td>202105</td>\n      <td>서울특별시</td>\n      <td>중랑구</td>\n      <td>합계</td>\n      <td>174,940</td>\n      <td>78,721,083</td>\n    </tr>\n    <tr>\n      <th>1241</th>\n      <td>202106</td>\n      <td>서울특별시</td>\n      <td>중랑구</td>\n      <td>합계</td>\n      <td>175,100</td>\n      <td>85,064,448</td>\n    </tr>\n  </tbody>\n</table>\n<p>150 rows × 6 columns</p>\n</div>"
     },
     "execution_count": 13,
     "metadata": {},
     "output_type": "execute_result"
    }
   ],
   "source": [
    "df_4 = df.loc[48:]\n",
    "df_4 = df_4.loc[(df_4['계약구분'] == '합계')]\n",
    "df_4 = df_4.sort_values(by=['시군구' , '년월'])\n",
    "df_4.drop(['전기요금(원)',   '평균판매단가(원/kWh)'] , axis = 1 , inplace = True)\n",
    "df_4"
   ],
   "metadata": {
    "collapsed": false,
    "pycharm": {
     "name": "#%%\n"
    }
   }
  },
  {
   "cell_type": "code",
   "execution_count": 14,
   "outputs": [
    {
     "name": "stdout",
     "output_type": "stream",
     "text": [
      "[444836690, 408864781, 347482850, 326613478, 315727918, 361010700]\n",
      "[149625308, 141753273, 121369785, 119191067, 114847999, 125291250]\n",
      "[86346011, 83507776, 68648419, 67546746, 63366515, 68299952]\n",
      "[246983386, 228615668, 202800852, 197187344, 191530546, 209351924]\n",
      "[159324545, 153485749, 127846073, 127267383, 119432261, 130775324]\n",
      "[144632205, 136254505, 114689723, 113088470, 110509685, 123831910]\n",
      "[180484288, 167908568, 138440746, 134204827, 124722766, 143039446]\n",
      "[156086480, 140003496, 122845297, 117728032, 115299172, 129979243]\n",
      "[142668314, 136158274, 114774001, 112513755, 105494847, 114794480]\n",
      "[83399304, 80257372, 66815673, 66097323, 62051736, 66706965]\n",
      "[135335434, 129239690, 107560508, 104320068, 98238481, 107547925]\n",
      "[118160123, 112114460, 94837750, 93624233, 89670636, 98927755]\n",
      "[195783104, 184900703, 157649983, 155249816, 151628682, 170126789]\n",
      "[116335749, 107265970, 93889956, 89624459, 87719001, 97888947]\n",
      "[303864612, 286455803, 244777581, 235741156, 225584495, 251867804]\n",
      "[201813556, 190483837, 169444613, 165478307, 160678665, 173699630]\n",
      "[138603524, 133297099, 111392333, 108571843, 102611308, 111618585]\n",
      "[256116997, 243178263, 210517232, 207945984, 203969858, 227174663]\n",
      "[158717737, 153989397, 136987816, 136432312, 131154078, 137693172]\n",
      "[244086447, 227139919, 204376567, 196606232, 194655201, 221774801]\n",
      "[129510145, 122316493, 104231794, 100997764, 98902294, 111975144]\n",
      "[135204631, 131063590, 110484203, 109798942, 103756201, 111846819]\n",
      "[158669408, 146460180, 126819548, 120877151, 117078916, 135137278]\n",
      "[207732603, 187546740, 166583194, 158904256, 157410604, 186195964]\n",
      "[106089694, 101783833, 85484295, 83645759, 78721083, 85064448]\n",
      "서울특별시 지역별 합계 :  [2204536417, 772078682, 437715419, 1276469720, 818131335, 743006498, 888800641, 781941720, 726403671, 425328373, 682242106, 607334957, 1015339077, 592724082, 1548291451, 1061598608, 706094692, 1348902997, 854974512, 1288639167, 667933634, 702154386, 805042481, 1064373361, 540789112]\n",
      "서울특별시 고객호수 평균:  [32538, 23602, 24910, 35092, 46239, 30131, 23201, 18103, 18520, 17197, 24895, 27620, 25367, 20049, 21698, 16047, 25790, 30025, 21238, 24187, 18078, 32276, 17540, 13159, 29131]\n"
     ]
    }
   ],
   "source": [
    "sum2 , sum3 =[] , []\n",
    "for k in SIGUNGU:\n",
    "    GyeonGiHap = pd.DataFrame([] , columns = a)\n",
    "    HOSU = pd.DataFrame([], columns = a)\n",
    "    GyeonGiHap['사용량']= df_4['사용량(kWh)'].loc[(df_4['시군구'] == '{}'.format(k))]\n",
    "    HOSU['고객호수']= df_4['고객호수(호)'].loc[(df_4['시군구'] == '{}'.format(k))]\n",
    "    #경기합 데이터프레임의 사용량 열에 기군구가 가평군인 사용량 데이터만 뽑아내기\n",
    "    # GyeonGiHap = GyeonGiHap['사용량']\n",
    "\n",
    "    b = GyeonGiHap['사용량'].tolist()\n",
    "    c = HOSU['고객호수'].tolist()\n",
    "\n",
    "\n",
    "    #각지역별 사용량 리스트화\n",
    "    int_list  , int_list2=[] , []\n",
    "    for i in b:\n",
    "        i = re.sub(\",\" , \"\" , i)\n",
    "        #콤마 없애기\n",
    "        int_list.append(int(i))\n",
    "        #int_list에 각지역별 사용량 int로 저장\n",
    "    print(int_list)\n",
    "    sum=0\n",
    "    for i in c:\n",
    "        i = re.sub(\",\" , \"\" , i)\n",
    "        int_list2.append(int(i))\n",
    "\n",
    "    for j in int_list:\n",
    "\n",
    "        sum+= j\n",
    "    sum2.append(sum)\n",
    "    sum = 0\n",
    "    for j in int_list2: #고객호수 추출하여 더하기\n",
    "\n",
    "        sum+= j\n",
    "    sum3.append(sum//36) #6개월 치로 나눠야하나?!\n",
    "\n",
    "\n",
    "\n",
    "\n",
    "print(\"{} 지역별 합계 : \".format(City) , sum2)\n",
    "print(\"{} 고객호수 평균: \".format(City) , sum3)"
   ],
   "metadata": {
    "collapsed": false,
    "pycharm": {
     "name": "#%%\n"
    }
   }
  },
  {
   "cell_type": "markdown",
   "source": [
    "### 2. 날짜 체크!!!!!!!!!!!!!!!!!!!!!!!!!!!!!!!!!!!!!!!!!!!!!!"
   ],
   "metadata": {
    "collapsed": false,
    "pycharm": {
     "name": "#%% md\n"
    }
   }
  },
  {
   "cell_type": "code",
   "execution_count": 15,
   "outputs": [
    {
     "name": "stderr",
     "output_type": "stream",
     "text": [
      "C:\\Users\\user\\AppData\\Local\\Temp\\ipykernel_20696\\1481603074.py:4: FutureWarning: The frame.append method is deprecated and will be removed from pandas in a future version. Use pandas.concat instead.\n",
      "  Hap = Hap.append({'년월' :'202101-202106'  , '시구' : '{}'.format(City) , '시군구' : '{}'.format(SIGUNGU[i]) , '계약구분' : '합계' , '고객호수(호)' : sum3[i] ,  '사용량(kWh)' : sum2[i]} , ignore_index=True) #년월 파일마다 수정하기\n",
      "C:\\Users\\user\\AppData\\Local\\Temp\\ipykernel_20696\\1481603074.py:4: FutureWarning: The frame.append method is deprecated and will be removed from pandas in a future version. Use pandas.concat instead.\n",
      "  Hap = Hap.append({'년월' :'202101-202106'  , '시구' : '{}'.format(City) , '시군구' : '{}'.format(SIGUNGU[i]) , '계약구분' : '합계' , '고객호수(호)' : sum3[i] ,  '사용량(kWh)' : sum2[i]} , ignore_index=True) #년월 파일마다 수정하기\n",
      "C:\\Users\\user\\AppData\\Local\\Temp\\ipykernel_20696\\1481603074.py:4: FutureWarning: The frame.append method is deprecated and will be removed from pandas in a future version. Use pandas.concat instead.\n",
      "  Hap = Hap.append({'년월' :'202101-202106'  , '시구' : '{}'.format(City) , '시군구' : '{}'.format(SIGUNGU[i]) , '계약구분' : '합계' , '고객호수(호)' : sum3[i] ,  '사용량(kWh)' : sum2[i]} , ignore_index=True) #년월 파일마다 수정하기\n",
      "C:\\Users\\user\\AppData\\Local\\Temp\\ipykernel_20696\\1481603074.py:4: FutureWarning: The frame.append method is deprecated and will be removed from pandas in a future version. Use pandas.concat instead.\n",
      "  Hap = Hap.append({'년월' :'202101-202106'  , '시구' : '{}'.format(City) , '시군구' : '{}'.format(SIGUNGU[i]) , '계약구분' : '합계' , '고객호수(호)' : sum3[i] ,  '사용량(kWh)' : sum2[i]} , ignore_index=True) #년월 파일마다 수정하기\n",
      "C:\\Users\\user\\AppData\\Local\\Temp\\ipykernel_20696\\1481603074.py:4: FutureWarning: The frame.append method is deprecated and will be removed from pandas in a future version. Use pandas.concat instead.\n",
      "  Hap = Hap.append({'년월' :'202101-202106'  , '시구' : '{}'.format(City) , '시군구' : '{}'.format(SIGUNGU[i]) , '계약구분' : '합계' , '고객호수(호)' : sum3[i] ,  '사용량(kWh)' : sum2[i]} , ignore_index=True) #년월 파일마다 수정하기\n",
      "C:\\Users\\user\\AppData\\Local\\Temp\\ipykernel_20696\\1481603074.py:4: FutureWarning: The frame.append method is deprecated and will be removed from pandas in a future version. Use pandas.concat instead.\n",
      "  Hap = Hap.append({'년월' :'202101-202106'  , '시구' : '{}'.format(City) , '시군구' : '{}'.format(SIGUNGU[i]) , '계약구분' : '합계' , '고객호수(호)' : sum3[i] ,  '사용량(kWh)' : sum2[i]} , ignore_index=True) #년월 파일마다 수정하기\n",
      "C:\\Users\\user\\AppData\\Local\\Temp\\ipykernel_20696\\1481603074.py:4: FutureWarning: The frame.append method is deprecated and will be removed from pandas in a future version. Use pandas.concat instead.\n",
      "  Hap = Hap.append({'년월' :'202101-202106'  , '시구' : '{}'.format(City) , '시군구' : '{}'.format(SIGUNGU[i]) , '계약구분' : '합계' , '고객호수(호)' : sum3[i] ,  '사용량(kWh)' : sum2[i]} , ignore_index=True) #년월 파일마다 수정하기\n",
      "C:\\Users\\user\\AppData\\Local\\Temp\\ipykernel_20696\\1481603074.py:4: FutureWarning: The frame.append method is deprecated and will be removed from pandas in a future version. Use pandas.concat instead.\n",
      "  Hap = Hap.append({'년월' :'202101-202106'  , '시구' : '{}'.format(City) , '시군구' : '{}'.format(SIGUNGU[i]) , '계약구분' : '합계' , '고객호수(호)' : sum3[i] ,  '사용량(kWh)' : sum2[i]} , ignore_index=True) #년월 파일마다 수정하기\n",
      "C:\\Users\\user\\AppData\\Local\\Temp\\ipykernel_20696\\1481603074.py:4: FutureWarning: The frame.append method is deprecated and will be removed from pandas in a future version. Use pandas.concat instead.\n",
      "  Hap = Hap.append({'년월' :'202101-202106'  , '시구' : '{}'.format(City) , '시군구' : '{}'.format(SIGUNGU[i]) , '계약구분' : '합계' , '고객호수(호)' : sum3[i] ,  '사용량(kWh)' : sum2[i]} , ignore_index=True) #년월 파일마다 수정하기\n",
      "C:\\Users\\user\\AppData\\Local\\Temp\\ipykernel_20696\\1481603074.py:4: FutureWarning: The frame.append method is deprecated and will be removed from pandas in a future version. Use pandas.concat instead.\n",
      "  Hap = Hap.append({'년월' :'202101-202106'  , '시구' : '{}'.format(City) , '시군구' : '{}'.format(SIGUNGU[i]) , '계약구분' : '합계' , '고객호수(호)' : sum3[i] ,  '사용량(kWh)' : sum2[i]} , ignore_index=True) #년월 파일마다 수정하기\n",
      "C:\\Users\\user\\AppData\\Local\\Temp\\ipykernel_20696\\1481603074.py:4: FutureWarning: The frame.append method is deprecated and will be removed from pandas in a future version. Use pandas.concat instead.\n",
      "  Hap = Hap.append({'년월' :'202101-202106'  , '시구' : '{}'.format(City) , '시군구' : '{}'.format(SIGUNGU[i]) , '계약구분' : '합계' , '고객호수(호)' : sum3[i] ,  '사용량(kWh)' : sum2[i]} , ignore_index=True) #년월 파일마다 수정하기\n",
      "C:\\Users\\user\\AppData\\Local\\Temp\\ipykernel_20696\\1481603074.py:4: FutureWarning: The frame.append method is deprecated and will be removed from pandas in a future version. Use pandas.concat instead.\n",
      "  Hap = Hap.append({'년월' :'202101-202106'  , '시구' : '{}'.format(City) , '시군구' : '{}'.format(SIGUNGU[i]) , '계약구분' : '합계' , '고객호수(호)' : sum3[i] ,  '사용량(kWh)' : sum2[i]} , ignore_index=True) #년월 파일마다 수정하기\n",
      "C:\\Users\\user\\AppData\\Local\\Temp\\ipykernel_20696\\1481603074.py:4: FutureWarning: The frame.append method is deprecated and will be removed from pandas in a future version. Use pandas.concat instead.\n",
      "  Hap = Hap.append({'년월' :'202101-202106'  , '시구' : '{}'.format(City) , '시군구' : '{}'.format(SIGUNGU[i]) , '계약구분' : '합계' , '고객호수(호)' : sum3[i] ,  '사용량(kWh)' : sum2[i]} , ignore_index=True) #년월 파일마다 수정하기\n",
      "C:\\Users\\user\\AppData\\Local\\Temp\\ipykernel_20696\\1481603074.py:4: FutureWarning: The frame.append method is deprecated and will be removed from pandas in a future version. Use pandas.concat instead.\n",
      "  Hap = Hap.append({'년월' :'202101-202106'  , '시구' : '{}'.format(City) , '시군구' : '{}'.format(SIGUNGU[i]) , '계약구분' : '합계' , '고객호수(호)' : sum3[i] ,  '사용량(kWh)' : sum2[i]} , ignore_index=True) #년월 파일마다 수정하기\n",
      "C:\\Users\\user\\AppData\\Local\\Temp\\ipykernel_20696\\1481603074.py:4: FutureWarning: The frame.append method is deprecated and will be removed from pandas in a future version. Use pandas.concat instead.\n",
      "  Hap = Hap.append({'년월' :'202101-202106'  , '시구' : '{}'.format(City) , '시군구' : '{}'.format(SIGUNGU[i]) , '계약구분' : '합계' , '고객호수(호)' : sum3[i] ,  '사용량(kWh)' : sum2[i]} , ignore_index=True) #년월 파일마다 수정하기\n",
      "C:\\Users\\user\\AppData\\Local\\Temp\\ipykernel_20696\\1481603074.py:4: FutureWarning: The frame.append method is deprecated and will be removed from pandas in a future version. Use pandas.concat instead.\n",
      "  Hap = Hap.append({'년월' :'202101-202106'  , '시구' : '{}'.format(City) , '시군구' : '{}'.format(SIGUNGU[i]) , '계약구분' : '합계' , '고객호수(호)' : sum3[i] ,  '사용량(kWh)' : sum2[i]} , ignore_index=True) #년월 파일마다 수정하기\n",
      "C:\\Users\\user\\AppData\\Local\\Temp\\ipykernel_20696\\1481603074.py:4: FutureWarning: The frame.append method is deprecated and will be removed from pandas in a future version. Use pandas.concat instead.\n",
      "  Hap = Hap.append({'년월' :'202101-202106'  , '시구' : '{}'.format(City) , '시군구' : '{}'.format(SIGUNGU[i]) , '계약구분' : '합계' , '고객호수(호)' : sum3[i] ,  '사용량(kWh)' : sum2[i]} , ignore_index=True) #년월 파일마다 수정하기\n",
      "C:\\Users\\user\\AppData\\Local\\Temp\\ipykernel_20696\\1481603074.py:4: FutureWarning: The frame.append method is deprecated and will be removed from pandas in a future version. Use pandas.concat instead.\n",
      "  Hap = Hap.append({'년월' :'202101-202106'  , '시구' : '{}'.format(City) , '시군구' : '{}'.format(SIGUNGU[i]) , '계약구분' : '합계' , '고객호수(호)' : sum3[i] ,  '사용량(kWh)' : sum2[i]} , ignore_index=True) #년월 파일마다 수정하기\n",
      "C:\\Users\\user\\AppData\\Local\\Temp\\ipykernel_20696\\1481603074.py:4: FutureWarning: The frame.append method is deprecated and will be removed from pandas in a future version. Use pandas.concat instead.\n",
      "  Hap = Hap.append({'년월' :'202101-202106'  , '시구' : '{}'.format(City) , '시군구' : '{}'.format(SIGUNGU[i]) , '계약구분' : '합계' , '고객호수(호)' : sum3[i] ,  '사용량(kWh)' : sum2[i]} , ignore_index=True) #년월 파일마다 수정하기\n",
      "C:\\Users\\user\\AppData\\Local\\Temp\\ipykernel_20696\\1481603074.py:4: FutureWarning: The frame.append method is deprecated and will be removed from pandas in a future version. Use pandas.concat instead.\n",
      "  Hap = Hap.append({'년월' :'202101-202106'  , '시구' : '{}'.format(City) , '시군구' : '{}'.format(SIGUNGU[i]) , '계약구분' : '합계' , '고객호수(호)' : sum3[i] ,  '사용량(kWh)' : sum2[i]} , ignore_index=True) #년월 파일마다 수정하기\n",
      "C:\\Users\\user\\AppData\\Local\\Temp\\ipykernel_20696\\1481603074.py:4: FutureWarning: The frame.append method is deprecated and will be removed from pandas in a future version. Use pandas.concat instead.\n",
      "  Hap = Hap.append({'년월' :'202101-202106'  , '시구' : '{}'.format(City) , '시군구' : '{}'.format(SIGUNGU[i]) , '계약구분' : '합계' , '고객호수(호)' : sum3[i] ,  '사용량(kWh)' : sum2[i]} , ignore_index=True) #년월 파일마다 수정하기\n",
      "C:\\Users\\user\\AppData\\Local\\Temp\\ipykernel_20696\\1481603074.py:4: FutureWarning: The frame.append method is deprecated and will be removed from pandas in a future version. Use pandas.concat instead.\n",
      "  Hap = Hap.append({'년월' :'202101-202106'  , '시구' : '{}'.format(City) , '시군구' : '{}'.format(SIGUNGU[i]) , '계약구분' : '합계' , '고객호수(호)' : sum3[i] ,  '사용량(kWh)' : sum2[i]} , ignore_index=True) #년월 파일마다 수정하기\n",
      "C:\\Users\\user\\AppData\\Local\\Temp\\ipykernel_20696\\1481603074.py:4: FutureWarning: The frame.append method is deprecated and will be removed from pandas in a future version. Use pandas.concat instead.\n",
      "  Hap = Hap.append({'년월' :'202101-202106'  , '시구' : '{}'.format(City) , '시군구' : '{}'.format(SIGUNGU[i]) , '계약구분' : '합계' , '고객호수(호)' : sum3[i] ,  '사용량(kWh)' : sum2[i]} , ignore_index=True) #년월 파일마다 수정하기\n",
      "C:\\Users\\user\\AppData\\Local\\Temp\\ipykernel_20696\\1481603074.py:4: FutureWarning: The frame.append method is deprecated and will be removed from pandas in a future version. Use pandas.concat instead.\n",
      "  Hap = Hap.append({'년월' :'202101-202106'  , '시구' : '{}'.format(City) , '시군구' : '{}'.format(SIGUNGU[i]) , '계약구분' : '합계' , '고객호수(호)' : sum3[i] ,  '사용량(kWh)' : sum2[i]} , ignore_index=True) #년월 파일마다 수정하기\n",
      "C:\\Users\\user\\AppData\\Local\\Temp\\ipykernel_20696\\1481603074.py:4: FutureWarning: The frame.append method is deprecated and will be removed from pandas in a future version. Use pandas.concat instead.\n",
      "  Hap = Hap.append({'년월' :'202101-202106'  , '시구' : '{}'.format(City) , '시군구' : '{}'.format(SIGUNGU[i]) , '계약구분' : '합계' , '고객호수(호)' : sum3[i] ,  '사용량(kWh)' : sum2[i]} , ignore_index=True) #년월 파일마다 수정하기\n"
     ]
    },
    {
     "data": {
      "text/plain": "                년월     시구  시군구 계약구분   고객호수(호)      사용량(kWh)\n0           202101  서울특별시  강남구   합계  195,330   444,836,690 \n1           202102  서울특별시  강남구   합계  195,381   408,864,781 \n2           202103  서울특별시  강남구   합계  195,294   347,482,850 \n3           202104  서울특별시  강남구   합계  195,241   326,613,478 \n4           202105  서울특별시  강남구   합계  195,209   315,727,918 \n..             ...    ...  ...  ...       ...           ...\n170  202101-202106  서울특별시  용산구   합계     18078     667933634\n171  202101-202106  서울특별시  은평구   합계     32276     702154386\n172  202101-202106  서울특별시  종로구   합계     17540     805042481\n173  202101-202106  서울특별시   중구   합계     13159    1064373361\n174  202101-202106  서울특별시  중랑구   합계     29131     540789112\n\n[175 rows x 6 columns]",
      "text/html": "<div>\n<style scoped>\n    .dataframe tbody tr th:only-of-type {\n        vertical-align: middle;\n    }\n\n    .dataframe tbody tr th {\n        vertical-align: top;\n    }\n\n    .dataframe thead th {\n        text-align: right;\n    }\n</style>\n<table border=\"1\" class=\"dataframe\">\n  <thead>\n    <tr style=\"text-align: right;\">\n      <th></th>\n      <th>년월</th>\n      <th>시구</th>\n      <th>시군구</th>\n      <th>계약구분</th>\n      <th>고객호수(호)</th>\n      <th>사용량(kWh)</th>\n    </tr>\n  </thead>\n  <tbody>\n    <tr>\n      <th>0</th>\n      <td>202101</td>\n      <td>서울특별시</td>\n      <td>강남구</td>\n      <td>합계</td>\n      <td>195,330</td>\n      <td>444,836,690</td>\n    </tr>\n    <tr>\n      <th>1</th>\n      <td>202102</td>\n      <td>서울특별시</td>\n      <td>강남구</td>\n      <td>합계</td>\n      <td>195,381</td>\n      <td>408,864,781</td>\n    </tr>\n    <tr>\n      <th>2</th>\n      <td>202103</td>\n      <td>서울특별시</td>\n      <td>강남구</td>\n      <td>합계</td>\n      <td>195,294</td>\n      <td>347,482,850</td>\n    </tr>\n    <tr>\n      <th>3</th>\n      <td>202104</td>\n      <td>서울특별시</td>\n      <td>강남구</td>\n      <td>합계</td>\n      <td>195,241</td>\n      <td>326,613,478</td>\n    </tr>\n    <tr>\n      <th>4</th>\n      <td>202105</td>\n      <td>서울특별시</td>\n      <td>강남구</td>\n      <td>합계</td>\n      <td>195,209</td>\n      <td>315,727,918</td>\n    </tr>\n    <tr>\n      <th>...</th>\n      <td>...</td>\n      <td>...</td>\n      <td>...</td>\n      <td>...</td>\n      <td>...</td>\n      <td>...</td>\n    </tr>\n    <tr>\n      <th>170</th>\n      <td>202101-202106</td>\n      <td>서울특별시</td>\n      <td>용산구</td>\n      <td>합계</td>\n      <td>18078</td>\n      <td>667933634</td>\n    </tr>\n    <tr>\n      <th>171</th>\n      <td>202101-202106</td>\n      <td>서울특별시</td>\n      <td>은평구</td>\n      <td>합계</td>\n      <td>32276</td>\n      <td>702154386</td>\n    </tr>\n    <tr>\n      <th>172</th>\n      <td>202101-202106</td>\n      <td>서울특별시</td>\n      <td>종로구</td>\n      <td>합계</td>\n      <td>17540</td>\n      <td>805042481</td>\n    </tr>\n    <tr>\n      <th>173</th>\n      <td>202101-202106</td>\n      <td>서울특별시</td>\n      <td>중구</td>\n      <td>합계</td>\n      <td>13159</td>\n      <td>1064373361</td>\n    </tr>\n    <tr>\n      <th>174</th>\n      <td>202101-202106</td>\n      <td>서울특별시</td>\n      <td>중랑구</td>\n      <td>합계</td>\n      <td>29131</td>\n      <td>540789112</td>\n    </tr>\n  </tbody>\n</table>\n<p>175 rows × 6 columns</p>\n</div>"
     },
     "execution_count": 15,
     "metadata": {},
     "output_type": "execute_result"
    }
   ],
   "source": [
    "Hap = df_4.copy()\n",
    "Hap.reset_index(drop=True , inplace = True)\n",
    "for i in range(len(SIGUNGU)):\n",
    "    Hap = Hap.append({'년월' :'202101-202106'  , '시구' : '{}'.format(City) , '시군구' : '{}'.format(SIGUNGU[i]) , '계약구분' : '합계' , '고객호수(호)' : sum3[i] ,  '사용량(kWh)' : sum2[i]} , ignore_index=True) #년월 파일마다 수정하기\n",
    "Hap"
   ],
   "metadata": {
    "collapsed": false,
    "pycharm": {
     "name": "#%%\n"
    }
   }
  },
  {
   "cell_type": "markdown",
   "source": [
    "### 3. 날짜 변경!!!!!!!!!!!!!!!!!!!!!!!!!!!!!!!"
   ],
   "metadata": {
    "collapsed": false,
    "pycharm": {
     "name": "#%% md\n"
    }
   }
  },
  {
   "cell_type": "code",
   "execution_count": 16,
   "outputs": [
    {
     "data": {
      "text/plain": "                년월     시구   시군구 계약구분 고객호수(호)    사용량(kWh)\n150  202101-202106  서울특별시   강남구   합계   32538  2204536417\n151  202101-202106  서울특별시   강동구   합계   23602   772078682\n152  202101-202106  서울특별시   강북구   합계   24910   437715419\n153  202101-202106  서울특별시   강서구   합계   35092  1276469720\n154  202101-202106  서울특별시   관악구   합계   46239   818131335\n155  202101-202106  서울특별시   광진구   합계   30131   743006498\n156  202101-202106  서울특별시   구로구   합계   23201   888800641\n157  202101-202106  서울특별시   금천구   합계   18103   781941720\n158  202101-202106  서울특별시   노원구   합계   18520   726403671\n159  202101-202106  서울특별시   도봉구   합계   17197   425328373\n160  202101-202106  서울특별시  동대문구   합계   24895   682242106\n161  202101-202106  서울특별시   동작구   합계   27620   607334957\n162  202101-202106  서울특별시   마포구   합계   25367  1015339077\n163  202101-202106  서울특별시  서대문구   합계   20049   592724082\n164  202101-202106  서울특별시   서초구   합계   21698  1548291451\n165  202101-202106  서울특별시   성동구   합계   16047  1061598608\n166  202101-202106  서울특별시   성북구   합계   25790   706094692\n167  202101-202106  서울특별시   송파구   합계   30025  1348902997\n168  202101-202106  서울특별시   양천구   합계   21238   854974512\n169  202101-202106  서울특별시  영등포구   합계   24187  1288639167\n170  202101-202106  서울특별시   용산구   합계   18078   667933634\n171  202101-202106  서울특별시   은평구   합계   32276   702154386\n172  202101-202106  서울특별시   종로구   합계   17540   805042481\n173  202101-202106  서울특별시    중구   합계   13159  1064373361\n174  202101-202106  서울특별시   중랑구   합계   29131   540789112",
      "text/html": "<div>\n<style scoped>\n    .dataframe tbody tr th:only-of-type {\n        vertical-align: middle;\n    }\n\n    .dataframe tbody tr th {\n        vertical-align: top;\n    }\n\n    .dataframe thead th {\n        text-align: right;\n    }\n</style>\n<table border=\"1\" class=\"dataframe\">\n  <thead>\n    <tr style=\"text-align: right;\">\n      <th></th>\n      <th>년월</th>\n      <th>시구</th>\n      <th>시군구</th>\n      <th>계약구분</th>\n      <th>고객호수(호)</th>\n      <th>사용량(kWh)</th>\n    </tr>\n  </thead>\n  <tbody>\n    <tr>\n      <th>150</th>\n      <td>202101-202106</td>\n      <td>서울특별시</td>\n      <td>강남구</td>\n      <td>합계</td>\n      <td>32538</td>\n      <td>2204536417</td>\n    </tr>\n    <tr>\n      <th>151</th>\n      <td>202101-202106</td>\n      <td>서울특별시</td>\n      <td>강동구</td>\n      <td>합계</td>\n      <td>23602</td>\n      <td>772078682</td>\n    </tr>\n    <tr>\n      <th>152</th>\n      <td>202101-202106</td>\n      <td>서울특별시</td>\n      <td>강북구</td>\n      <td>합계</td>\n      <td>24910</td>\n      <td>437715419</td>\n    </tr>\n    <tr>\n      <th>153</th>\n      <td>202101-202106</td>\n      <td>서울특별시</td>\n      <td>강서구</td>\n      <td>합계</td>\n      <td>35092</td>\n      <td>1276469720</td>\n    </tr>\n    <tr>\n      <th>154</th>\n      <td>202101-202106</td>\n      <td>서울특별시</td>\n      <td>관악구</td>\n      <td>합계</td>\n      <td>46239</td>\n      <td>818131335</td>\n    </tr>\n    <tr>\n      <th>155</th>\n      <td>202101-202106</td>\n      <td>서울특별시</td>\n      <td>광진구</td>\n      <td>합계</td>\n      <td>30131</td>\n      <td>743006498</td>\n    </tr>\n    <tr>\n      <th>156</th>\n      <td>202101-202106</td>\n      <td>서울특별시</td>\n      <td>구로구</td>\n      <td>합계</td>\n      <td>23201</td>\n      <td>888800641</td>\n    </tr>\n    <tr>\n      <th>157</th>\n      <td>202101-202106</td>\n      <td>서울특별시</td>\n      <td>금천구</td>\n      <td>합계</td>\n      <td>18103</td>\n      <td>781941720</td>\n    </tr>\n    <tr>\n      <th>158</th>\n      <td>202101-202106</td>\n      <td>서울특별시</td>\n      <td>노원구</td>\n      <td>합계</td>\n      <td>18520</td>\n      <td>726403671</td>\n    </tr>\n    <tr>\n      <th>159</th>\n      <td>202101-202106</td>\n      <td>서울특별시</td>\n      <td>도봉구</td>\n      <td>합계</td>\n      <td>17197</td>\n      <td>425328373</td>\n    </tr>\n    <tr>\n      <th>160</th>\n      <td>202101-202106</td>\n      <td>서울특별시</td>\n      <td>동대문구</td>\n      <td>합계</td>\n      <td>24895</td>\n      <td>682242106</td>\n    </tr>\n    <tr>\n      <th>161</th>\n      <td>202101-202106</td>\n      <td>서울특별시</td>\n      <td>동작구</td>\n      <td>합계</td>\n      <td>27620</td>\n      <td>607334957</td>\n    </tr>\n    <tr>\n      <th>162</th>\n      <td>202101-202106</td>\n      <td>서울특별시</td>\n      <td>마포구</td>\n      <td>합계</td>\n      <td>25367</td>\n      <td>1015339077</td>\n    </tr>\n    <tr>\n      <th>163</th>\n      <td>202101-202106</td>\n      <td>서울특별시</td>\n      <td>서대문구</td>\n      <td>합계</td>\n      <td>20049</td>\n      <td>592724082</td>\n    </tr>\n    <tr>\n      <th>164</th>\n      <td>202101-202106</td>\n      <td>서울특별시</td>\n      <td>서초구</td>\n      <td>합계</td>\n      <td>21698</td>\n      <td>1548291451</td>\n    </tr>\n    <tr>\n      <th>165</th>\n      <td>202101-202106</td>\n      <td>서울특별시</td>\n      <td>성동구</td>\n      <td>합계</td>\n      <td>16047</td>\n      <td>1061598608</td>\n    </tr>\n    <tr>\n      <th>166</th>\n      <td>202101-202106</td>\n      <td>서울특별시</td>\n      <td>성북구</td>\n      <td>합계</td>\n      <td>25790</td>\n      <td>706094692</td>\n    </tr>\n    <tr>\n      <th>167</th>\n      <td>202101-202106</td>\n      <td>서울특별시</td>\n      <td>송파구</td>\n      <td>합계</td>\n      <td>30025</td>\n      <td>1348902997</td>\n    </tr>\n    <tr>\n      <th>168</th>\n      <td>202101-202106</td>\n      <td>서울특별시</td>\n      <td>양천구</td>\n      <td>합계</td>\n      <td>21238</td>\n      <td>854974512</td>\n    </tr>\n    <tr>\n      <th>169</th>\n      <td>202101-202106</td>\n      <td>서울특별시</td>\n      <td>영등포구</td>\n      <td>합계</td>\n      <td>24187</td>\n      <td>1288639167</td>\n    </tr>\n    <tr>\n      <th>170</th>\n      <td>202101-202106</td>\n      <td>서울특별시</td>\n      <td>용산구</td>\n      <td>합계</td>\n      <td>18078</td>\n      <td>667933634</td>\n    </tr>\n    <tr>\n      <th>171</th>\n      <td>202101-202106</td>\n      <td>서울특별시</td>\n      <td>은평구</td>\n      <td>합계</td>\n      <td>32276</td>\n      <td>702154386</td>\n    </tr>\n    <tr>\n      <th>172</th>\n      <td>202101-202106</td>\n      <td>서울특별시</td>\n      <td>종로구</td>\n      <td>합계</td>\n      <td>17540</td>\n      <td>805042481</td>\n    </tr>\n    <tr>\n      <th>173</th>\n      <td>202101-202106</td>\n      <td>서울특별시</td>\n      <td>중구</td>\n      <td>합계</td>\n      <td>13159</td>\n      <td>1064373361</td>\n    </tr>\n    <tr>\n      <th>174</th>\n      <td>202101-202106</td>\n      <td>서울특별시</td>\n      <td>중랑구</td>\n      <td>합계</td>\n      <td>29131</td>\n      <td>540789112</td>\n    </tr>\n  </tbody>\n</table>\n</div>"
     },
     "execution_count": 16,
     "metadata": {},
     "output_type": "execute_result"
    }
   ],
   "source": [
    "Hap = Hap.loc[Hap['년월'] == '202101-202106']\n",
    "Hap"
   ],
   "metadata": {
    "collapsed": false,
    "pycharm": {
     "name": "#%%\n"
    }
   }
  },
  {
   "cell_type": "code",
   "execution_count": 17,
   "outputs": [],
   "source": [
    "# SIGUNGU = SIGUNGU[:1]\n",
    "# SIGUNGU\n",
    "#for i in SIGUNGU:\n",
    "#print('{}'.format(i))\n",
    "# df_3 = df_3.loc[(df_3['시군구'] == '가평군')]\n",
    "#\n",
    "# df_3"
   ],
   "metadata": {
    "collapsed": false,
    "pycharm": {
     "name": "#%%\n"
    }
   }
  },
  {
   "cell_type": "code",
   "execution_count": 18,
   "outputs": [
    {
     "data": {
      "text/plain": "['년월', '시구', '시군구', '계약구분', '고객호수(호)', '사용량(kWh)']"
     },
     "execution_count": 18,
     "metadata": {},
     "output_type": "execute_result"
    }
   ],
   "source": [
    "a = (df_3.columns).tolist()\n",
    "\n",
    "a"
   ],
   "metadata": {
    "collapsed": false,
    "pycharm": {
     "name": "#%%\n"
    }
   }
  },
  {
   "cell_type": "code",
   "execution_count": 19,
   "outputs": [
    {
     "data": {
      "text/plain": "          년월     시구  시군구 계약구분  고객호수(호)      사용량(kWh)\n53    202101  서울특별시  강남구  일반용  50,670   323,067,357 \n252   202102  서울특별시  강남구  일반용  50,757   297,753,752 \n451   202103  서울특별시  강남구  일반용  50,783   248,849,557 \n650   202104  서울특별시  강남구  일반용  50,768   228,927,083 \n849   202105  서울특별시  강남구  일반용  50,871   219,933,737 \n...      ...    ...  ...  ...      ...           ...\n443   202102  서울특별시  중랑구  일반용  20,222    41,939,555 \n642   202103  서울특별시  중랑구  일반용  20,221    34,380,842 \n841   202104  서울특별시  중랑구  일반용  20,215    32,699,075 \n1040  202105  서울특별시  중랑구  일반용  20,231    31,063,790 \n1239  202106  서울특별시  중랑구  일반용  20,252    35,018,264 \n\n[150 rows x 6 columns]",
      "text/html": "<div>\n<style scoped>\n    .dataframe tbody tr th:only-of-type {\n        vertical-align: middle;\n    }\n\n    .dataframe tbody tr th {\n        vertical-align: top;\n    }\n\n    .dataframe thead th {\n        text-align: right;\n    }\n</style>\n<table border=\"1\" class=\"dataframe\">\n  <thead>\n    <tr style=\"text-align: right;\">\n      <th></th>\n      <th>년월</th>\n      <th>시구</th>\n      <th>시군구</th>\n      <th>계약구분</th>\n      <th>고객호수(호)</th>\n      <th>사용량(kWh)</th>\n    </tr>\n  </thead>\n  <tbody>\n    <tr>\n      <th>53</th>\n      <td>202101</td>\n      <td>서울특별시</td>\n      <td>강남구</td>\n      <td>일반용</td>\n      <td>50,670</td>\n      <td>323,067,357</td>\n    </tr>\n    <tr>\n      <th>252</th>\n      <td>202102</td>\n      <td>서울특별시</td>\n      <td>강남구</td>\n      <td>일반용</td>\n      <td>50,757</td>\n      <td>297,753,752</td>\n    </tr>\n    <tr>\n      <th>451</th>\n      <td>202103</td>\n      <td>서울특별시</td>\n      <td>강남구</td>\n      <td>일반용</td>\n      <td>50,783</td>\n      <td>248,849,557</td>\n    </tr>\n    <tr>\n      <th>650</th>\n      <td>202104</td>\n      <td>서울특별시</td>\n      <td>강남구</td>\n      <td>일반용</td>\n      <td>50,768</td>\n      <td>228,927,083</td>\n    </tr>\n    <tr>\n      <th>849</th>\n      <td>202105</td>\n      <td>서울특별시</td>\n      <td>강남구</td>\n      <td>일반용</td>\n      <td>50,871</td>\n      <td>219,933,737</td>\n    </tr>\n    <tr>\n      <th>...</th>\n      <td>...</td>\n      <td>...</td>\n      <td>...</td>\n      <td>...</td>\n      <td>...</td>\n      <td>...</td>\n    </tr>\n    <tr>\n      <th>443</th>\n      <td>202102</td>\n      <td>서울특별시</td>\n      <td>중랑구</td>\n      <td>일반용</td>\n      <td>20,222</td>\n      <td>41,939,555</td>\n    </tr>\n    <tr>\n      <th>642</th>\n      <td>202103</td>\n      <td>서울특별시</td>\n      <td>중랑구</td>\n      <td>일반용</td>\n      <td>20,221</td>\n      <td>34,380,842</td>\n    </tr>\n    <tr>\n      <th>841</th>\n      <td>202104</td>\n      <td>서울특별시</td>\n      <td>중랑구</td>\n      <td>일반용</td>\n      <td>20,215</td>\n      <td>32,699,075</td>\n    </tr>\n    <tr>\n      <th>1040</th>\n      <td>202105</td>\n      <td>서울특별시</td>\n      <td>중랑구</td>\n      <td>일반용</td>\n      <td>20,231</td>\n      <td>31,063,790</td>\n    </tr>\n    <tr>\n      <th>1239</th>\n      <td>202106</td>\n      <td>서울특별시</td>\n      <td>중랑구</td>\n      <td>일반용</td>\n      <td>20,252</td>\n      <td>35,018,264</td>\n    </tr>\n  </tbody>\n</table>\n<p>150 rows × 6 columns</p>\n</div>"
     },
     "execution_count": 19,
     "metadata": {},
     "output_type": "execute_result"
    }
   ],
   "source": [
    "df_3"
   ],
   "metadata": {
    "collapsed": false,
    "pycharm": {
     "name": "#%%\n"
    }
   }
  },
  {
   "cell_type": "code",
   "execution_count": 20,
   "outputs": [],
   "source": [
    "# GyeonGiHap = pd.DataFrame([] , columns = a)\n",
    "# GyeonGiHap['사용량']= df_3['사용량(kWh)'].loc[(df_3['시군구'] == '{가평군}')]\n",
    "# GyeonGiHap"
   ],
   "metadata": {
    "collapsed": false,
    "pycharm": {
     "name": "#%%\n"
    }
   }
  },
  {
   "cell_type": "code",
   "execution_count": 21,
   "outputs": [
    {
     "name": "stdout",
     "output_type": "stream",
     "text": [
      "[323067357, 297753752, 248849557, 228927083, 219933737, 256414262]\n",
      "[69059122, 65514822, 54391040, 51376090, 49642075, 56692420]\n",
      "[38241442, 36710302, 29492979, 28080112, 26730664, 30022268]\n",
      "[132076237, 119572702, 104519356, 98881701, 97798120, 111346707]\n",
      "[67754752, 65626832, 55468000, 54844878, 52535128, 58816089]\n",
      "[56053634, 52874617, 43642634, 42052292, 41172111, 47467087]\n",
      "[82091877, 75361945, 60762264, 56339969, 50747182, 64177340]\n",
      "[97617720, 85282211, 75611837, 70858413, 71068410, 81438884]\n",
      "[55937627, 54009352, 44988066, 42673303, 41186352, 46286069]\n",
      "[32075843, 31152993, 25346624, 23979261, 22797867, 25747350]\n",
      "[59583431, 57126941, 46493519, 43477297, 40955687, 46115548]\n",
      "[52666439, 49951046, 42029888, 40637550, 39289622, 44988137]\n",
      "[119661592, 113150370, 93553886, 90452732, 89053475, 100021866]\n",
      "[51205789, 48017467, 41184512, 39096905, 38499162, 44262703]\n",
      "[190226637, 179058859, 150688751, 141150197, 134454972, 152437590]\n",
      "[72117207, 66485250, 55979392, 51986307, 50533990, 57959415]\n",
      "[49957697, 48667389, 39520033, 37205525, 35432377, 39664056]\n",
      "[139869535, 131699499, 113447323, 108473720, 107929062, 124175173]\n",
      "[86631854, 85109616, 78742504, 76704080, 75884888, 79311623]\n",
      "[157445380, 144952386, 131349431, 124012879, 122675679, 140999379]\n",
      "[72249035, 68252796, 57872123, 54567649, 54155204, 62943985]\n",
      "[50312651, 48664035, 39671407, 38293087, 36273472, 40943247]\n",
      "[113082168, 103460106, 90283166, 84892275, 82623201, 95379420]\n",
      "[159415979, 142247535, 127762984, 120223512, 119373878, 140631655]\n",
      "[43495045, 41939555, 34380842, 32699075, 31063790, 35018264]\n",
      "서울특별시 지역별 일반용 합계 :  [1574945748, 346675569, 189277767, 664194823, 355045679, 283262375, 389480577, 481877475, 285080769, 161099938, 293752423, 269562682, 605893921, 262266538, 948017006, 355061561, 250447077, 725594312, 482384565, 821435134, 370040792, 254157899, 569720336, 809655543, 218596571]\n",
      "서울특별시 고객호수 평균:  [50810, 20107, 16318, 23825, 25087, 21150, 18416, 13542, 15015, 12428, 23411, 16741, 30298, 15906, 30668, 16439, 21035, 28888, 16681, 23657, 17106, 20635, 24784, 23436, 20224]\n"
     ]
    }
   ],
   "source": [
    "sum2 , sum3 =[] , []\n",
    "for k in SIGUNGU:\n",
    "    GyeonGiHap = pd.DataFrame([] , columns = a)\n",
    "    HOSU = pd.DataFrame([], columns = a)\n",
    "    GyeonGiHap['사용량']= df_3['사용량(kWh)'].loc[(df_3['시군구'] == '{}'.format(k))]\n",
    "    HOSU['고객호수']= df_3['고객호수(호)'].loc[(df_3['시군구'] == '{}'.format(k))]\n",
    "    #경기합 데이터프레임의 사용량 열에 기군구가 가평군인 사용량 데이터만 뽑아내기\n",
    "    # GyeonGiHap = GyeonGiHap['사용량']\n",
    "\n",
    "    b = GyeonGiHap['사용량'].tolist()\n",
    "    c = HOSU['고객호수'].tolist()\n",
    "\n",
    "\n",
    "    #각지역별 사용량 리스트화\n",
    "    int_list  , int_list2=[] , []\n",
    "    for i in b:\n",
    "        i = re.sub(\",\" , \"\" , i)\n",
    "        #콤마 없애기\n",
    "        int_list.append(int(i))\n",
    "        #int_list에 각지역별 사용량 int로 저장\n",
    "    print(int_list)\n",
    "    sum=0\n",
    "    for i in c:\n",
    "        i = re.sub(\",\" , \"\" , i)\n",
    "        int_list2.append(int(i))\n",
    "\n",
    "    for j in int_list:\n",
    "\n",
    "        sum+= j\n",
    "    sum2.append(sum)\n",
    "    sum = 0\n",
    "    for j in int_list2: #고객호수 추출하여 더하기\n",
    "\n",
    "        sum+= j\n",
    "    sum3.append(sum//6) #6개월 치로 나눠야하나?!\n",
    "\n",
    "\n",
    "\n",
    "\n",
    "print(\"{} 지역별 일반용 합계 : \".format(City) , sum2)\n",
    "print(\"{} 고객호수 평균: \".format(City) , sum3)\n",
    "# GyeonGiHap['합계'] = sum\n",
    "#\n",
    "# GyeonGiHap"
   ],
   "metadata": {
    "collapsed": false,
    "pycharm": {
     "name": "#%%\n"
    }
   }
  },
  {
   "cell_type": "code",
   "execution_count": 22,
   "outputs": [],
   "source": [
    "# df_3 = df_3.loc[(df_3['시군구'] == '가평군')]\n",
    "#\n",
    "# df_3"
   ],
   "metadata": {
    "collapsed": false,
    "pycharm": {
     "name": "#%%\n"
    }
   }
  },
  {
   "cell_type": "code",
   "execution_count": 23,
   "outputs": [],
   "source": [
    "# GyeonGiHap = df_3.copy()\n",
    "# GyeonGiHap.reset_index(drop=True , inplace = True)\n",
    "# GyeonGiHap.append({'년월' : '202107-202112'  , '시구' : '경기도' , '시군구' : '가평군' , '계약구분' : '일반용' , '사용량(kWh)' : sum}, ignore_index=True)"
   ],
   "metadata": {
    "collapsed": false,
    "pycharm": {
     "name": "#%%\n"
    }
   }
  },
  {
   "cell_type": "code",
   "execution_count": 24,
   "outputs": [],
   "source": [
    "# a=[]\n",
    "# for i in SIGUNGU:\n",
    "#     a.append(i)\n",
    "#\n",
    "# print(a)"
   ],
   "metadata": {
    "collapsed": false,
    "pycharm": {
     "name": "#%%\n"
    }
   }
  },
  {
   "cell_type": "markdown",
   "source": [
    "### 4. 년월 체크!!!!!!!!!!!!!!!!!!!!!!!!!!!!!!!!!!!!!!!!!!!!!!!!!!!!!!!!!!!!!!!!!"
   ],
   "metadata": {
    "collapsed": false,
    "pycharm": {
     "name": "#%% md\n"
    }
   }
  },
  {
   "cell_type": "code",
   "execution_count": 25,
   "outputs": [
    {
     "name": "stderr",
     "output_type": "stream",
     "text": [
      "C:\\Users\\user\\AppData\\Local\\Temp\\ipykernel_20696\\1152688266.py:4: FutureWarning: The frame.append method is deprecated and will be removed from pandas in a future version. Use pandas.concat instead.\n",
      "  GyeonGiHap2 = GyeonGiHap2.append({'년월' :'202101-202106'  , '시구' : '{}'.format(City) , '시군구' : '{}'.format(SIGUNGU[i]) , '계약구분' : '일반용' , '고객호수(호)' : sum3[i] ,  '사용량(kWh)' : sum2[i]} , ignore_index=True) #년월 파일마다 수정하기\n",
      "C:\\Users\\user\\AppData\\Local\\Temp\\ipykernel_20696\\1152688266.py:4: FutureWarning: The frame.append method is deprecated and will be removed from pandas in a future version. Use pandas.concat instead.\n",
      "  GyeonGiHap2 = GyeonGiHap2.append({'년월' :'202101-202106'  , '시구' : '{}'.format(City) , '시군구' : '{}'.format(SIGUNGU[i]) , '계약구분' : '일반용' , '고객호수(호)' : sum3[i] ,  '사용량(kWh)' : sum2[i]} , ignore_index=True) #년월 파일마다 수정하기\n",
      "C:\\Users\\user\\AppData\\Local\\Temp\\ipykernel_20696\\1152688266.py:4: FutureWarning: The frame.append method is deprecated and will be removed from pandas in a future version. Use pandas.concat instead.\n",
      "  GyeonGiHap2 = GyeonGiHap2.append({'년월' :'202101-202106'  , '시구' : '{}'.format(City) , '시군구' : '{}'.format(SIGUNGU[i]) , '계약구분' : '일반용' , '고객호수(호)' : sum3[i] ,  '사용량(kWh)' : sum2[i]} , ignore_index=True) #년월 파일마다 수정하기\n",
      "C:\\Users\\user\\AppData\\Local\\Temp\\ipykernel_20696\\1152688266.py:4: FutureWarning: The frame.append method is deprecated and will be removed from pandas in a future version. Use pandas.concat instead.\n",
      "  GyeonGiHap2 = GyeonGiHap2.append({'년월' :'202101-202106'  , '시구' : '{}'.format(City) , '시군구' : '{}'.format(SIGUNGU[i]) , '계약구분' : '일반용' , '고객호수(호)' : sum3[i] ,  '사용량(kWh)' : sum2[i]} , ignore_index=True) #년월 파일마다 수정하기\n",
      "C:\\Users\\user\\AppData\\Local\\Temp\\ipykernel_20696\\1152688266.py:4: FutureWarning: The frame.append method is deprecated and will be removed from pandas in a future version. Use pandas.concat instead.\n",
      "  GyeonGiHap2 = GyeonGiHap2.append({'년월' :'202101-202106'  , '시구' : '{}'.format(City) , '시군구' : '{}'.format(SIGUNGU[i]) , '계약구분' : '일반용' , '고객호수(호)' : sum3[i] ,  '사용량(kWh)' : sum2[i]} , ignore_index=True) #년월 파일마다 수정하기\n",
      "C:\\Users\\user\\AppData\\Local\\Temp\\ipykernel_20696\\1152688266.py:4: FutureWarning: The frame.append method is deprecated and will be removed from pandas in a future version. Use pandas.concat instead.\n",
      "  GyeonGiHap2 = GyeonGiHap2.append({'년월' :'202101-202106'  , '시구' : '{}'.format(City) , '시군구' : '{}'.format(SIGUNGU[i]) , '계약구분' : '일반용' , '고객호수(호)' : sum3[i] ,  '사용량(kWh)' : sum2[i]} , ignore_index=True) #년월 파일마다 수정하기\n",
      "C:\\Users\\user\\AppData\\Local\\Temp\\ipykernel_20696\\1152688266.py:4: FutureWarning: The frame.append method is deprecated and will be removed from pandas in a future version. Use pandas.concat instead.\n",
      "  GyeonGiHap2 = GyeonGiHap2.append({'년월' :'202101-202106'  , '시구' : '{}'.format(City) , '시군구' : '{}'.format(SIGUNGU[i]) , '계약구분' : '일반용' , '고객호수(호)' : sum3[i] ,  '사용량(kWh)' : sum2[i]} , ignore_index=True) #년월 파일마다 수정하기\n",
      "C:\\Users\\user\\AppData\\Local\\Temp\\ipykernel_20696\\1152688266.py:4: FutureWarning: The frame.append method is deprecated and will be removed from pandas in a future version. Use pandas.concat instead.\n",
      "  GyeonGiHap2 = GyeonGiHap2.append({'년월' :'202101-202106'  , '시구' : '{}'.format(City) , '시군구' : '{}'.format(SIGUNGU[i]) , '계약구분' : '일반용' , '고객호수(호)' : sum3[i] ,  '사용량(kWh)' : sum2[i]} , ignore_index=True) #년월 파일마다 수정하기\n",
      "C:\\Users\\user\\AppData\\Local\\Temp\\ipykernel_20696\\1152688266.py:4: FutureWarning: The frame.append method is deprecated and will be removed from pandas in a future version. Use pandas.concat instead.\n",
      "  GyeonGiHap2 = GyeonGiHap2.append({'년월' :'202101-202106'  , '시구' : '{}'.format(City) , '시군구' : '{}'.format(SIGUNGU[i]) , '계약구분' : '일반용' , '고객호수(호)' : sum3[i] ,  '사용량(kWh)' : sum2[i]} , ignore_index=True) #년월 파일마다 수정하기\n",
      "C:\\Users\\user\\AppData\\Local\\Temp\\ipykernel_20696\\1152688266.py:4: FutureWarning: The frame.append method is deprecated and will be removed from pandas in a future version. Use pandas.concat instead.\n",
      "  GyeonGiHap2 = GyeonGiHap2.append({'년월' :'202101-202106'  , '시구' : '{}'.format(City) , '시군구' : '{}'.format(SIGUNGU[i]) , '계약구분' : '일반용' , '고객호수(호)' : sum3[i] ,  '사용량(kWh)' : sum2[i]} , ignore_index=True) #년월 파일마다 수정하기\n",
      "C:\\Users\\user\\AppData\\Local\\Temp\\ipykernel_20696\\1152688266.py:4: FutureWarning: The frame.append method is deprecated and will be removed from pandas in a future version. Use pandas.concat instead.\n",
      "  GyeonGiHap2 = GyeonGiHap2.append({'년월' :'202101-202106'  , '시구' : '{}'.format(City) , '시군구' : '{}'.format(SIGUNGU[i]) , '계약구분' : '일반용' , '고객호수(호)' : sum3[i] ,  '사용량(kWh)' : sum2[i]} , ignore_index=True) #년월 파일마다 수정하기\n",
      "C:\\Users\\user\\AppData\\Local\\Temp\\ipykernel_20696\\1152688266.py:4: FutureWarning: The frame.append method is deprecated and will be removed from pandas in a future version. Use pandas.concat instead.\n",
      "  GyeonGiHap2 = GyeonGiHap2.append({'년월' :'202101-202106'  , '시구' : '{}'.format(City) , '시군구' : '{}'.format(SIGUNGU[i]) , '계약구분' : '일반용' , '고객호수(호)' : sum3[i] ,  '사용량(kWh)' : sum2[i]} , ignore_index=True) #년월 파일마다 수정하기\n",
      "C:\\Users\\user\\AppData\\Local\\Temp\\ipykernel_20696\\1152688266.py:4: FutureWarning: The frame.append method is deprecated and will be removed from pandas in a future version. Use pandas.concat instead.\n",
      "  GyeonGiHap2 = GyeonGiHap2.append({'년월' :'202101-202106'  , '시구' : '{}'.format(City) , '시군구' : '{}'.format(SIGUNGU[i]) , '계약구분' : '일반용' , '고객호수(호)' : sum3[i] ,  '사용량(kWh)' : sum2[i]} , ignore_index=True) #년월 파일마다 수정하기\n",
      "C:\\Users\\user\\AppData\\Local\\Temp\\ipykernel_20696\\1152688266.py:4: FutureWarning: The frame.append method is deprecated and will be removed from pandas in a future version. Use pandas.concat instead.\n",
      "  GyeonGiHap2 = GyeonGiHap2.append({'년월' :'202101-202106'  , '시구' : '{}'.format(City) , '시군구' : '{}'.format(SIGUNGU[i]) , '계약구분' : '일반용' , '고객호수(호)' : sum3[i] ,  '사용량(kWh)' : sum2[i]} , ignore_index=True) #년월 파일마다 수정하기\n",
      "C:\\Users\\user\\AppData\\Local\\Temp\\ipykernel_20696\\1152688266.py:4: FutureWarning: The frame.append method is deprecated and will be removed from pandas in a future version. Use pandas.concat instead.\n",
      "  GyeonGiHap2 = GyeonGiHap2.append({'년월' :'202101-202106'  , '시구' : '{}'.format(City) , '시군구' : '{}'.format(SIGUNGU[i]) , '계약구분' : '일반용' , '고객호수(호)' : sum3[i] ,  '사용량(kWh)' : sum2[i]} , ignore_index=True) #년월 파일마다 수정하기\n",
      "C:\\Users\\user\\AppData\\Local\\Temp\\ipykernel_20696\\1152688266.py:4: FutureWarning: The frame.append method is deprecated and will be removed from pandas in a future version. Use pandas.concat instead.\n",
      "  GyeonGiHap2 = GyeonGiHap2.append({'년월' :'202101-202106'  , '시구' : '{}'.format(City) , '시군구' : '{}'.format(SIGUNGU[i]) , '계약구분' : '일반용' , '고객호수(호)' : sum3[i] ,  '사용량(kWh)' : sum2[i]} , ignore_index=True) #년월 파일마다 수정하기\n",
      "C:\\Users\\user\\AppData\\Local\\Temp\\ipykernel_20696\\1152688266.py:4: FutureWarning: The frame.append method is deprecated and will be removed from pandas in a future version. Use pandas.concat instead.\n",
      "  GyeonGiHap2 = GyeonGiHap2.append({'년월' :'202101-202106'  , '시구' : '{}'.format(City) , '시군구' : '{}'.format(SIGUNGU[i]) , '계약구분' : '일반용' , '고객호수(호)' : sum3[i] ,  '사용량(kWh)' : sum2[i]} , ignore_index=True) #년월 파일마다 수정하기\n",
      "C:\\Users\\user\\AppData\\Local\\Temp\\ipykernel_20696\\1152688266.py:4: FutureWarning: The frame.append method is deprecated and will be removed from pandas in a future version. Use pandas.concat instead.\n",
      "  GyeonGiHap2 = GyeonGiHap2.append({'년월' :'202101-202106'  , '시구' : '{}'.format(City) , '시군구' : '{}'.format(SIGUNGU[i]) , '계약구분' : '일반용' , '고객호수(호)' : sum3[i] ,  '사용량(kWh)' : sum2[i]} , ignore_index=True) #년월 파일마다 수정하기\n",
      "C:\\Users\\user\\AppData\\Local\\Temp\\ipykernel_20696\\1152688266.py:4: FutureWarning: The frame.append method is deprecated and will be removed from pandas in a future version. Use pandas.concat instead.\n",
      "  GyeonGiHap2 = GyeonGiHap2.append({'년월' :'202101-202106'  , '시구' : '{}'.format(City) , '시군구' : '{}'.format(SIGUNGU[i]) , '계약구분' : '일반용' , '고객호수(호)' : sum3[i] ,  '사용량(kWh)' : sum2[i]} , ignore_index=True) #년월 파일마다 수정하기\n",
      "C:\\Users\\user\\AppData\\Local\\Temp\\ipykernel_20696\\1152688266.py:4: FutureWarning: The frame.append method is deprecated and will be removed from pandas in a future version. Use pandas.concat instead.\n",
      "  GyeonGiHap2 = GyeonGiHap2.append({'년월' :'202101-202106'  , '시구' : '{}'.format(City) , '시군구' : '{}'.format(SIGUNGU[i]) , '계약구분' : '일반용' , '고객호수(호)' : sum3[i] ,  '사용량(kWh)' : sum2[i]} , ignore_index=True) #년월 파일마다 수정하기\n",
      "C:\\Users\\user\\AppData\\Local\\Temp\\ipykernel_20696\\1152688266.py:4: FutureWarning: The frame.append method is deprecated and will be removed from pandas in a future version. Use pandas.concat instead.\n",
      "  GyeonGiHap2 = GyeonGiHap2.append({'년월' :'202101-202106'  , '시구' : '{}'.format(City) , '시군구' : '{}'.format(SIGUNGU[i]) , '계약구분' : '일반용' , '고객호수(호)' : sum3[i] ,  '사용량(kWh)' : sum2[i]} , ignore_index=True) #년월 파일마다 수정하기\n",
      "C:\\Users\\user\\AppData\\Local\\Temp\\ipykernel_20696\\1152688266.py:4: FutureWarning: The frame.append method is deprecated and will be removed from pandas in a future version. Use pandas.concat instead.\n",
      "  GyeonGiHap2 = GyeonGiHap2.append({'년월' :'202101-202106'  , '시구' : '{}'.format(City) , '시군구' : '{}'.format(SIGUNGU[i]) , '계약구분' : '일반용' , '고객호수(호)' : sum3[i] ,  '사용량(kWh)' : sum2[i]} , ignore_index=True) #년월 파일마다 수정하기\n",
      "C:\\Users\\user\\AppData\\Local\\Temp\\ipykernel_20696\\1152688266.py:4: FutureWarning: The frame.append method is deprecated and will be removed from pandas in a future version. Use pandas.concat instead.\n",
      "  GyeonGiHap2 = GyeonGiHap2.append({'년월' :'202101-202106'  , '시구' : '{}'.format(City) , '시군구' : '{}'.format(SIGUNGU[i]) , '계약구분' : '일반용' , '고객호수(호)' : sum3[i] ,  '사용량(kWh)' : sum2[i]} , ignore_index=True) #년월 파일마다 수정하기\n",
      "C:\\Users\\user\\AppData\\Local\\Temp\\ipykernel_20696\\1152688266.py:4: FutureWarning: The frame.append method is deprecated and will be removed from pandas in a future version. Use pandas.concat instead.\n",
      "  GyeonGiHap2 = GyeonGiHap2.append({'년월' :'202101-202106'  , '시구' : '{}'.format(City) , '시군구' : '{}'.format(SIGUNGU[i]) , '계약구분' : '일반용' , '고객호수(호)' : sum3[i] ,  '사용량(kWh)' : sum2[i]} , ignore_index=True) #년월 파일마다 수정하기\n",
      "C:\\Users\\user\\AppData\\Local\\Temp\\ipykernel_20696\\1152688266.py:4: FutureWarning: The frame.append method is deprecated and will be removed from pandas in a future version. Use pandas.concat instead.\n",
      "  GyeonGiHap2 = GyeonGiHap2.append({'년월' :'202101-202106'  , '시구' : '{}'.format(City) , '시군구' : '{}'.format(SIGUNGU[i]) , '계약구분' : '일반용' , '고객호수(호)' : sum3[i] ,  '사용량(kWh)' : sum2[i]} , ignore_index=True) #년월 파일마다 수정하기\n"
     ]
    },
    {
     "data": {
      "text/plain": "                년월     시구  시군구 계약구분  고객호수(호)      사용량(kWh)\n0           202101  서울특별시  강남구  일반용  50,670   323,067,357 \n1           202102  서울특별시  강남구  일반용  50,757   297,753,752 \n2           202103  서울특별시  강남구  일반용  50,783   248,849,557 \n3           202104  서울특별시  강남구  일반용  50,768   228,927,083 \n4           202105  서울특별시  강남구  일반용  50,871   219,933,737 \n..             ...    ...  ...  ...      ...           ...\n170  202101-202106  서울특별시  용산구  일반용    17106     370040792\n171  202101-202106  서울특별시  은평구  일반용    20635     254157899\n172  202101-202106  서울특별시  종로구  일반용    24784     569720336\n173  202101-202106  서울특별시   중구  일반용    23436     809655543\n174  202101-202106  서울특별시  중랑구  일반용    20224     218596571\n\n[175 rows x 6 columns]",
      "text/html": "<div>\n<style scoped>\n    .dataframe tbody tr th:only-of-type {\n        vertical-align: middle;\n    }\n\n    .dataframe tbody tr th {\n        vertical-align: top;\n    }\n\n    .dataframe thead th {\n        text-align: right;\n    }\n</style>\n<table border=\"1\" class=\"dataframe\">\n  <thead>\n    <tr style=\"text-align: right;\">\n      <th></th>\n      <th>년월</th>\n      <th>시구</th>\n      <th>시군구</th>\n      <th>계약구분</th>\n      <th>고객호수(호)</th>\n      <th>사용량(kWh)</th>\n    </tr>\n  </thead>\n  <tbody>\n    <tr>\n      <th>0</th>\n      <td>202101</td>\n      <td>서울특별시</td>\n      <td>강남구</td>\n      <td>일반용</td>\n      <td>50,670</td>\n      <td>323,067,357</td>\n    </tr>\n    <tr>\n      <th>1</th>\n      <td>202102</td>\n      <td>서울특별시</td>\n      <td>강남구</td>\n      <td>일반용</td>\n      <td>50,757</td>\n      <td>297,753,752</td>\n    </tr>\n    <tr>\n      <th>2</th>\n      <td>202103</td>\n      <td>서울특별시</td>\n      <td>강남구</td>\n      <td>일반용</td>\n      <td>50,783</td>\n      <td>248,849,557</td>\n    </tr>\n    <tr>\n      <th>3</th>\n      <td>202104</td>\n      <td>서울특별시</td>\n      <td>강남구</td>\n      <td>일반용</td>\n      <td>50,768</td>\n      <td>228,927,083</td>\n    </tr>\n    <tr>\n      <th>4</th>\n      <td>202105</td>\n      <td>서울특별시</td>\n      <td>강남구</td>\n      <td>일반용</td>\n      <td>50,871</td>\n      <td>219,933,737</td>\n    </tr>\n    <tr>\n      <th>...</th>\n      <td>...</td>\n      <td>...</td>\n      <td>...</td>\n      <td>...</td>\n      <td>...</td>\n      <td>...</td>\n    </tr>\n    <tr>\n      <th>170</th>\n      <td>202101-202106</td>\n      <td>서울특별시</td>\n      <td>용산구</td>\n      <td>일반용</td>\n      <td>17106</td>\n      <td>370040792</td>\n    </tr>\n    <tr>\n      <th>171</th>\n      <td>202101-202106</td>\n      <td>서울특별시</td>\n      <td>은평구</td>\n      <td>일반용</td>\n      <td>20635</td>\n      <td>254157899</td>\n    </tr>\n    <tr>\n      <th>172</th>\n      <td>202101-202106</td>\n      <td>서울특별시</td>\n      <td>종로구</td>\n      <td>일반용</td>\n      <td>24784</td>\n      <td>569720336</td>\n    </tr>\n    <tr>\n      <th>173</th>\n      <td>202101-202106</td>\n      <td>서울특별시</td>\n      <td>중구</td>\n      <td>일반용</td>\n      <td>23436</td>\n      <td>809655543</td>\n    </tr>\n    <tr>\n      <th>174</th>\n      <td>202101-202106</td>\n      <td>서울특별시</td>\n      <td>중랑구</td>\n      <td>일반용</td>\n      <td>20224</td>\n      <td>218596571</td>\n    </tr>\n  </tbody>\n</table>\n<p>175 rows × 6 columns</p>\n</div>"
     },
     "execution_count": 25,
     "metadata": {},
     "output_type": "execute_result"
    }
   ],
   "source": [
    "GyeonGiHap2 = df_3.copy()\n",
    "GyeonGiHap2.reset_index(drop=True , inplace = True)\n",
    "for i in range(len(SIGUNGU)):\n",
    "    GyeonGiHap2 = GyeonGiHap2.append({'년월' :'202101-202106'  , '시구' : '{}'.format(City) , '시군구' : '{}'.format(SIGUNGU[i]) , '계약구분' : '일반용' , '고객호수(호)' : sum3[i] ,  '사용량(kWh)' : sum2[i]} , ignore_index=True) #년월 파일마다 수정하기\n",
    "GyeonGiHap2"
   ],
   "metadata": {
    "collapsed": false,
    "pycharm": {
     "name": "#%%\n"
    }
   }
  },
  {
   "cell_type": "markdown",
   "source": [
    "### 5. 날짜 체크!!!!!!!!!!!!!!!!!!!!!!!!!!!!!!!!!!!!!!!!!!!!!!!!!!!!"
   ],
   "metadata": {
    "collapsed": false,
    "pycharm": {
     "name": "#%% md\n"
    }
   }
  },
  {
   "cell_type": "code",
   "execution_count": 26,
   "outputs": [
    {
     "data": {
      "text/plain": "                년월     시구   시군구 계약구분 고객호수(호)    사용량(kWh)\n150  202101-202106  서울특별시   강남구  일반용   50810  1574945748\n151  202101-202106  서울특별시   강동구  일반용   20107   346675569\n152  202101-202106  서울특별시   강북구  일반용   16318   189277767\n153  202101-202106  서울특별시   강서구  일반용   23825   664194823\n154  202101-202106  서울특별시   관악구  일반용   25087   355045679\n155  202101-202106  서울특별시   광진구  일반용   21150   283262375\n156  202101-202106  서울특별시   구로구  일반용   18416   389480577\n157  202101-202106  서울특별시   금천구  일반용   13542   481877475\n158  202101-202106  서울특별시   노원구  일반용   15015   285080769\n159  202101-202106  서울특별시   도봉구  일반용   12428   161099938\n160  202101-202106  서울특별시  동대문구  일반용   23411   293752423\n161  202101-202106  서울특별시   동작구  일반용   16741   269562682\n162  202101-202106  서울특별시   마포구  일반용   30298   605893921\n163  202101-202106  서울특별시  서대문구  일반용   15906   262266538\n164  202101-202106  서울특별시   서초구  일반용   30668   948017006\n165  202101-202106  서울특별시   성동구  일반용   16439   355061561\n166  202101-202106  서울특별시   성북구  일반용   21035   250447077\n167  202101-202106  서울특별시   송파구  일반용   28888   725594312\n168  202101-202106  서울특별시   양천구  일반용   16681   482384565\n169  202101-202106  서울특별시  영등포구  일반용   23657   821435134\n170  202101-202106  서울특별시   용산구  일반용   17106   370040792\n171  202101-202106  서울특별시   은평구  일반용   20635   254157899\n172  202101-202106  서울특별시   종로구  일반용   24784   569720336\n173  202101-202106  서울특별시    중구  일반용   23436   809655543\n174  202101-202106  서울특별시   중랑구  일반용   20224   218596571",
      "text/html": "<div>\n<style scoped>\n    .dataframe tbody tr th:only-of-type {\n        vertical-align: middle;\n    }\n\n    .dataframe tbody tr th {\n        vertical-align: top;\n    }\n\n    .dataframe thead th {\n        text-align: right;\n    }\n</style>\n<table border=\"1\" class=\"dataframe\">\n  <thead>\n    <tr style=\"text-align: right;\">\n      <th></th>\n      <th>년월</th>\n      <th>시구</th>\n      <th>시군구</th>\n      <th>계약구분</th>\n      <th>고객호수(호)</th>\n      <th>사용량(kWh)</th>\n    </tr>\n  </thead>\n  <tbody>\n    <tr>\n      <th>150</th>\n      <td>202101-202106</td>\n      <td>서울특별시</td>\n      <td>강남구</td>\n      <td>일반용</td>\n      <td>50810</td>\n      <td>1574945748</td>\n    </tr>\n    <tr>\n      <th>151</th>\n      <td>202101-202106</td>\n      <td>서울특별시</td>\n      <td>강동구</td>\n      <td>일반용</td>\n      <td>20107</td>\n      <td>346675569</td>\n    </tr>\n    <tr>\n      <th>152</th>\n      <td>202101-202106</td>\n      <td>서울특별시</td>\n      <td>강북구</td>\n      <td>일반용</td>\n      <td>16318</td>\n      <td>189277767</td>\n    </tr>\n    <tr>\n      <th>153</th>\n      <td>202101-202106</td>\n      <td>서울특별시</td>\n      <td>강서구</td>\n      <td>일반용</td>\n      <td>23825</td>\n      <td>664194823</td>\n    </tr>\n    <tr>\n      <th>154</th>\n      <td>202101-202106</td>\n      <td>서울특별시</td>\n      <td>관악구</td>\n      <td>일반용</td>\n      <td>25087</td>\n      <td>355045679</td>\n    </tr>\n    <tr>\n      <th>155</th>\n      <td>202101-202106</td>\n      <td>서울특별시</td>\n      <td>광진구</td>\n      <td>일반용</td>\n      <td>21150</td>\n      <td>283262375</td>\n    </tr>\n    <tr>\n      <th>156</th>\n      <td>202101-202106</td>\n      <td>서울특별시</td>\n      <td>구로구</td>\n      <td>일반용</td>\n      <td>18416</td>\n      <td>389480577</td>\n    </tr>\n    <tr>\n      <th>157</th>\n      <td>202101-202106</td>\n      <td>서울특별시</td>\n      <td>금천구</td>\n      <td>일반용</td>\n      <td>13542</td>\n      <td>481877475</td>\n    </tr>\n    <tr>\n      <th>158</th>\n      <td>202101-202106</td>\n      <td>서울특별시</td>\n      <td>노원구</td>\n      <td>일반용</td>\n      <td>15015</td>\n      <td>285080769</td>\n    </tr>\n    <tr>\n      <th>159</th>\n      <td>202101-202106</td>\n      <td>서울특별시</td>\n      <td>도봉구</td>\n      <td>일반용</td>\n      <td>12428</td>\n      <td>161099938</td>\n    </tr>\n    <tr>\n      <th>160</th>\n      <td>202101-202106</td>\n      <td>서울특별시</td>\n      <td>동대문구</td>\n      <td>일반용</td>\n      <td>23411</td>\n      <td>293752423</td>\n    </tr>\n    <tr>\n      <th>161</th>\n      <td>202101-202106</td>\n      <td>서울특별시</td>\n      <td>동작구</td>\n      <td>일반용</td>\n      <td>16741</td>\n      <td>269562682</td>\n    </tr>\n    <tr>\n      <th>162</th>\n      <td>202101-202106</td>\n      <td>서울특별시</td>\n      <td>마포구</td>\n      <td>일반용</td>\n      <td>30298</td>\n      <td>605893921</td>\n    </tr>\n    <tr>\n      <th>163</th>\n      <td>202101-202106</td>\n      <td>서울특별시</td>\n      <td>서대문구</td>\n      <td>일반용</td>\n      <td>15906</td>\n      <td>262266538</td>\n    </tr>\n    <tr>\n      <th>164</th>\n      <td>202101-202106</td>\n      <td>서울특별시</td>\n      <td>서초구</td>\n      <td>일반용</td>\n      <td>30668</td>\n      <td>948017006</td>\n    </tr>\n    <tr>\n      <th>165</th>\n      <td>202101-202106</td>\n      <td>서울특별시</td>\n      <td>성동구</td>\n      <td>일반용</td>\n      <td>16439</td>\n      <td>355061561</td>\n    </tr>\n    <tr>\n      <th>166</th>\n      <td>202101-202106</td>\n      <td>서울특별시</td>\n      <td>성북구</td>\n      <td>일반용</td>\n      <td>21035</td>\n      <td>250447077</td>\n    </tr>\n    <tr>\n      <th>167</th>\n      <td>202101-202106</td>\n      <td>서울특별시</td>\n      <td>송파구</td>\n      <td>일반용</td>\n      <td>28888</td>\n      <td>725594312</td>\n    </tr>\n    <tr>\n      <th>168</th>\n      <td>202101-202106</td>\n      <td>서울특별시</td>\n      <td>양천구</td>\n      <td>일반용</td>\n      <td>16681</td>\n      <td>482384565</td>\n    </tr>\n    <tr>\n      <th>169</th>\n      <td>202101-202106</td>\n      <td>서울특별시</td>\n      <td>영등포구</td>\n      <td>일반용</td>\n      <td>23657</td>\n      <td>821435134</td>\n    </tr>\n    <tr>\n      <th>170</th>\n      <td>202101-202106</td>\n      <td>서울특별시</td>\n      <td>용산구</td>\n      <td>일반용</td>\n      <td>17106</td>\n      <td>370040792</td>\n    </tr>\n    <tr>\n      <th>171</th>\n      <td>202101-202106</td>\n      <td>서울특별시</td>\n      <td>은평구</td>\n      <td>일반용</td>\n      <td>20635</td>\n      <td>254157899</td>\n    </tr>\n    <tr>\n      <th>172</th>\n      <td>202101-202106</td>\n      <td>서울특별시</td>\n      <td>종로구</td>\n      <td>일반용</td>\n      <td>24784</td>\n      <td>569720336</td>\n    </tr>\n    <tr>\n      <th>173</th>\n      <td>202101-202106</td>\n      <td>서울특별시</td>\n      <td>중구</td>\n      <td>일반용</td>\n      <td>23436</td>\n      <td>809655543</td>\n    </tr>\n    <tr>\n      <th>174</th>\n      <td>202101-202106</td>\n      <td>서울특별시</td>\n      <td>중랑구</td>\n      <td>일반용</td>\n      <td>20224</td>\n      <td>218596571</td>\n    </tr>\n  </tbody>\n</table>\n</div>"
     },
     "execution_count": 26,
     "metadata": {},
     "output_type": "execute_result"
    }
   ],
   "source": [
    "GyeonGiHap2 = GyeonGiHap2.loc[GyeonGiHap2['년월'] == '202101-202106']\n",
    "GyeonGiHap2"
   ],
   "metadata": {
    "collapsed": false,
    "pycharm": {
     "name": "#%%\n"
    }
   }
  },
  {
   "cell_type": "code",
   "execution_count": 27,
   "outputs": [
    {
     "data": {
      "text/plain": "                년월     시구   시군구 계약구분 고객호수(호)    사용량(kWh)\n150  202101-202106  서울특별시   강남구  일반용   50810  1574945748\n150  202101-202106  서울특별시   강남구   합계   32538  2204536417\n151  202101-202106  서울특별시   강동구   합계   23602   772078682\n151  202101-202106  서울특별시   강동구  일반용   20107   346675569\n152  202101-202106  서울특별시   강북구  일반용   16318   189277767\n152  202101-202106  서울특별시   강북구   합계   24910   437715419\n153  202101-202106  서울특별시   강서구  일반용   23825   664194823\n153  202101-202106  서울특별시   강서구   합계   35092  1276469720\n154  202101-202106  서울특별시   관악구  일반용   25087   355045679\n154  202101-202106  서울특별시   관악구   합계   46239   818131335\n155  202101-202106  서울특별시   광진구  일반용   21150   283262375\n155  202101-202106  서울특별시   광진구   합계   30131   743006498\n156  202101-202106  서울특별시   구로구  일반용   18416   389480577\n156  202101-202106  서울특별시   구로구   합계   23201   888800641\n157  202101-202106  서울특별시   금천구  일반용   13542   481877475\n157  202101-202106  서울특별시   금천구   합계   18103   781941720\n158  202101-202106  서울특별시   노원구   합계   18520   726403671\n158  202101-202106  서울특별시   노원구  일반용   15015   285080769\n159  202101-202106  서울특별시   도봉구   합계   17197   425328373\n159  202101-202106  서울특별시   도봉구  일반용   12428   161099938\n160  202101-202106  서울특별시  동대문구   합계   24895   682242106\n160  202101-202106  서울특별시  동대문구  일반용   23411   293752423\n161  202101-202106  서울특별시   동작구   합계   27620   607334957\n161  202101-202106  서울특별시   동작구  일반용   16741   269562682\n162  202101-202106  서울특별시   마포구   합계   25367  1015339077\n162  202101-202106  서울특별시   마포구  일반용   30298   605893921\n163  202101-202106  서울특별시  서대문구   합계   20049   592724082\n163  202101-202106  서울특별시  서대문구  일반용   15906   262266538\n164  202101-202106  서울특별시   서초구  일반용   30668   948017006\n164  202101-202106  서울특별시   서초구   합계   21698  1548291451\n165  202101-202106  서울특별시   성동구   합계   16047  1061598608\n165  202101-202106  서울특별시   성동구  일반용   16439   355061561\n166  202101-202106  서울특별시   성북구   합계   25790   706094692\n166  202101-202106  서울특별시   성북구  일반용   21035   250447077\n167  202101-202106  서울특별시   송파구   합계   30025  1348902997\n167  202101-202106  서울특별시   송파구  일반용   28888   725594312\n168  202101-202106  서울특별시   양천구   합계   21238   854974512\n168  202101-202106  서울특별시   양천구  일반용   16681   482384565\n169  202101-202106  서울특별시  영등포구  일반용   23657   821435134\n169  202101-202106  서울특별시  영등포구   합계   24187  1288639167\n170  202101-202106  서울특별시   용산구   합계   18078   667933634\n170  202101-202106  서울특별시   용산구  일반용   17106   370040792\n171  202101-202106  서울특별시   은평구   합계   32276   702154386\n171  202101-202106  서울특별시   은평구  일반용   20635   254157899\n172  202101-202106  서울특별시   종로구   합계   17540   805042481\n172  202101-202106  서울특별시   종로구  일반용   24784   569720336\n173  202101-202106  서울특별시    중구   합계   13159  1064373361\n173  202101-202106  서울특별시    중구  일반용   23436   809655543\n174  202101-202106  서울특별시   중랑구  일반용   20224   218596571\n174  202101-202106  서울특별시   중랑구   합계   29131   540789112",
      "text/html": "<div>\n<style scoped>\n    .dataframe tbody tr th:only-of-type {\n        vertical-align: middle;\n    }\n\n    .dataframe tbody tr th {\n        vertical-align: top;\n    }\n\n    .dataframe thead th {\n        text-align: right;\n    }\n</style>\n<table border=\"1\" class=\"dataframe\">\n  <thead>\n    <tr style=\"text-align: right;\">\n      <th></th>\n      <th>년월</th>\n      <th>시구</th>\n      <th>시군구</th>\n      <th>계약구분</th>\n      <th>고객호수(호)</th>\n      <th>사용량(kWh)</th>\n    </tr>\n  </thead>\n  <tbody>\n    <tr>\n      <th>150</th>\n      <td>202101-202106</td>\n      <td>서울특별시</td>\n      <td>강남구</td>\n      <td>일반용</td>\n      <td>50810</td>\n      <td>1574945748</td>\n    </tr>\n    <tr>\n      <th>150</th>\n      <td>202101-202106</td>\n      <td>서울특별시</td>\n      <td>강남구</td>\n      <td>합계</td>\n      <td>32538</td>\n      <td>2204536417</td>\n    </tr>\n    <tr>\n      <th>151</th>\n      <td>202101-202106</td>\n      <td>서울특별시</td>\n      <td>강동구</td>\n      <td>합계</td>\n      <td>23602</td>\n      <td>772078682</td>\n    </tr>\n    <tr>\n      <th>151</th>\n      <td>202101-202106</td>\n      <td>서울특별시</td>\n      <td>강동구</td>\n      <td>일반용</td>\n      <td>20107</td>\n      <td>346675569</td>\n    </tr>\n    <tr>\n      <th>152</th>\n      <td>202101-202106</td>\n      <td>서울특별시</td>\n      <td>강북구</td>\n      <td>일반용</td>\n      <td>16318</td>\n      <td>189277767</td>\n    </tr>\n    <tr>\n      <th>152</th>\n      <td>202101-202106</td>\n      <td>서울특별시</td>\n      <td>강북구</td>\n      <td>합계</td>\n      <td>24910</td>\n      <td>437715419</td>\n    </tr>\n    <tr>\n      <th>153</th>\n      <td>202101-202106</td>\n      <td>서울특별시</td>\n      <td>강서구</td>\n      <td>일반용</td>\n      <td>23825</td>\n      <td>664194823</td>\n    </tr>\n    <tr>\n      <th>153</th>\n      <td>202101-202106</td>\n      <td>서울특별시</td>\n      <td>강서구</td>\n      <td>합계</td>\n      <td>35092</td>\n      <td>1276469720</td>\n    </tr>\n    <tr>\n      <th>154</th>\n      <td>202101-202106</td>\n      <td>서울특별시</td>\n      <td>관악구</td>\n      <td>일반용</td>\n      <td>25087</td>\n      <td>355045679</td>\n    </tr>\n    <tr>\n      <th>154</th>\n      <td>202101-202106</td>\n      <td>서울특별시</td>\n      <td>관악구</td>\n      <td>합계</td>\n      <td>46239</td>\n      <td>818131335</td>\n    </tr>\n    <tr>\n      <th>155</th>\n      <td>202101-202106</td>\n      <td>서울특별시</td>\n      <td>광진구</td>\n      <td>일반용</td>\n      <td>21150</td>\n      <td>283262375</td>\n    </tr>\n    <tr>\n      <th>155</th>\n      <td>202101-202106</td>\n      <td>서울특별시</td>\n      <td>광진구</td>\n      <td>합계</td>\n      <td>30131</td>\n      <td>743006498</td>\n    </tr>\n    <tr>\n      <th>156</th>\n      <td>202101-202106</td>\n      <td>서울특별시</td>\n      <td>구로구</td>\n      <td>일반용</td>\n      <td>18416</td>\n      <td>389480577</td>\n    </tr>\n    <tr>\n      <th>156</th>\n      <td>202101-202106</td>\n      <td>서울특별시</td>\n      <td>구로구</td>\n      <td>합계</td>\n      <td>23201</td>\n      <td>888800641</td>\n    </tr>\n    <tr>\n      <th>157</th>\n      <td>202101-202106</td>\n      <td>서울특별시</td>\n      <td>금천구</td>\n      <td>일반용</td>\n      <td>13542</td>\n      <td>481877475</td>\n    </tr>\n    <tr>\n      <th>157</th>\n      <td>202101-202106</td>\n      <td>서울특별시</td>\n      <td>금천구</td>\n      <td>합계</td>\n      <td>18103</td>\n      <td>781941720</td>\n    </tr>\n    <tr>\n      <th>158</th>\n      <td>202101-202106</td>\n      <td>서울특별시</td>\n      <td>노원구</td>\n      <td>합계</td>\n      <td>18520</td>\n      <td>726403671</td>\n    </tr>\n    <tr>\n      <th>158</th>\n      <td>202101-202106</td>\n      <td>서울특별시</td>\n      <td>노원구</td>\n      <td>일반용</td>\n      <td>15015</td>\n      <td>285080769</td>\n    </tr>\n    <tr>\n      <th>159</th>\n      <td>202101-202106</td>\n      <td>서울특별시</td>\n      <td>도봉구</td>\n      <td>합계</td>\n      <td>17197</td>\n      <td>425328373</td>\n    </tr>\n    <tr>\n      <th>159</th>\n      <td>202101-202106</td>\n      <td>서울특별시</td>\n      <td>도봉구</td>\n      <td>일반용</td>\n      <td>12428</td>\n      <td>161099938</td>\n    </tr>\n    <tr>\n      <th>160</th>\n      <td>202101-202106</td>\n      <td>서울특별시</td>\n      <td>동대문구</td>\n      <td>합계</td>\n      <td>24895</td>\n      <td>682242106</td>\n    </tr>\n    <tr>\n      <th>160</th>\n      <td>202101-202106</td>\n      <td>서울특별시</td>\n      <td>동대문구</td>\n      <td>일반용</td>\n      <td>23411</td>\n      <td>293752423</td>\n    </tr>\n    <tr>\n      <th>161</th>\n      <td>202101-202106</td>\n      <td>서울특별시</td>\n      <td>동작구</td>\n      <td>합계</td>\n      <td>27620</td>\n      <td>607334957</td>\n    </tr>\n    <tr>\n      <th>161</th>\n      <td>202101-202106</td>\n      <td>서울특별시</td>\n      <td>동작구</td>\n      <td>일반용</td>\n      <td>16741</td>\n      <td>269562682</td>\n    </tr>\n    <tr>\n      <th>162</th>\n      <td>202101-202106</td>\n      <td>서울특별시</td>\n      <td>마포구</td>\n      <td>합계</td>\n      <td>25367</td>\n      <td>1015339077</td>\n    </tr>\n    <tr>\n      <th>162</th>\n      <td>202101-202106</td>\n      <td>서울특별시</td>\n      <td>마포구</td>\n      <td>일반용</td>\n      <td>30298</td>\n      <td>605893921</td>\n    </tr>\n    <tr>\n      <th>163</th>\n      <td>202101-202106</td>\n      <td>서울특별시</td>\n      <td>서대문구</td>\n      <td>합계</td>\n      <td>20049</td>\n      <td>592724082</td>\n    </tr>\n    <tr>\n      <th>163</th>\n      <td>202101-202106</td>\n      <td>서울특별시</td>\n      <td>서대문구</td>\n      <td>일반용</td>\n      <td>15906</td>\n      <td>262266538</td>\n    </tr>\n    <tr>\n      <th>164</th>\n      <td>202101-202106</td>\n      <td>서울특별시</td>\n      <td>서초구</td>\n      <td>일반용</td>\n      <td>30668</td>\n      <td>948017006</td>\n    </tr>\n    <tr>\n      <th>164</th>\n      <td>202101-202106</td>\n      <td>서울특별시</td>\n      <td>서초구</td>\n      <td>합계</td>\n      <td>21698</td>\n      <td>1548291451</td>\n    </tr>\n    <tr>\n      <th>165</th>\n      <td>202101-202106</td>\n      <td>서울특별시</td>\n      <td>성동구</td>\n      <td>합계</td>\n      <td>16047</td>\n      <td>1061598608</td>\n    </tr>\n    <tr>\n      <th>165</th>\n      <td>202101-202106</td>\n      <td>서울특별시</td>\n      <td>성동구</td>\n      <td>일반용</td>\n      <td>16439</td>\n      <td>355061561</td>\n    </tr>\n    <tr>\n      <th>166</th>\n      <td>202101-202106</td>\n      <td>서울특별시</td>\n      <td>성북구</td>\n      <td>합계</td>\n      <td>25790</td>\n      <td>706094692</td>\n    </tr>\n    <tr>\n      <th>166</th>\n      <td>202101-202106</td>\n      <td>서울특별시</td>\n      <td>성북구</td>\n      <td>일반용</td>\n      <td>21035</td>\n      <td>250447077</td>\n    </tr>\n    <tr>\n      <th>167</th>\n      <td>202101-202106</td>\n      <td>서울특별시</td>\n      <td>송파구</td>\n      <td>합계</td>\n      <td>30025</td>\n      <td>1348902997</td>\n    </tr>\n    <tr>\n      <th>167</th>\n      <td>202101-202106</td>\n      <td>서울특별시</td>\n      <td>송파구</td>\n      <td>일반용</td>\n      <td>28888</td>\n      <td>725594312</td>\n    </tr>\n    <tr>\n      <th>168</th>\n      <td>202101-202106</td>\n      <td>서울특별시</td>\n      <td>양천구</td>\n      <td>합계</td>\n      <td>21238</td>\n      <td>854974512</td>\n    </tr>\n    <tr>\n      <th>168</th>\n      <td>202101-202106</td>\n      <td>서울특별시</td>\n      <td>양천구</td>\n      <td>일반용</td>\n      <td>16681</td>\n      <td>482384565</td>\n    </tr>\n    <tr>\n      <th>169</th>\n      <td>202101-202106</td>\n      <td>서울특별시</td>\n      <td>영등포구</td>\n      <td>일반용</td>\n      <td>23657</td>\n      <td>821435134</td>\n    </tr>\n    <tr>\n      <th>169</th>\n      <td>202101-202106</td>\n      <td>서울특별시</td>\n      <td>영등포구</td>\n      <td>합계</td>\n      <td>24187</td>\n      <td>1288639167</td>\n    </tr>\n    <tr>\n      <th>170</th>\n      <td>202101-202106</td>\n      <td>서울특별시</td>\n      <td>용산구</td>\n      <td>합계</td>\n      <td>18078</td>\n      <td>667933634</td>\n    </tr>\n    <tr>\n      <th>170</th>\n      <td>202101-202106</td>\n      <td>서울특별시</td>\n      <td>용산구</td>\n      <td>일반용</td>\n      <td>17106</td>\n      <td>370040792</td>\n    </tr>\n    <tr>\n      <th>171</th>\n      <td>202101-202106</td>\n      <td>서울특별시</td>\n      <td>은평구</td>\n      <td>합계</td>\n      <td>32276</td>\n      <td>702154386</td>\n    </tr>\n    <tr>\n      <th>171</th>\n      <td>202101-202106</td>\n      <td>서울특별시</td>\n      <td>은평구</td>\n      <td>일반용</td>\n      <td>20635</td>\n      <td>254157899</td>\n    </tr>\n    <tr>\n      <th>172</th>\n      <td>202101-202106</td>\n      <td>서울특별시</td>\n      <td>종로구</td>\n      <td>합계</td>\n      <td>17540</td>\n      <td>805042481</td>\n    </tr>\n    <tr>\n      <th>172</th>\n      <td>202101-202106</td>\n      <td>서울특별시</td>\n      <td>종로구</td>\n      <td>일반용</td>\n      <td>24784</td>\n      <td>569720336</td>\n    </tr>\n    <tr>\n      <th>173</th>\n      <td>202101-202106</td>\n      <td>서울특별시</td>\n      <td>중구</td>\n      <td>합계</td>\n      <td>13159</td>\n      <td>1064373361</td>\n    </tr>\n    <tr>\n      <th>173</th>\n      <td>202101-202106</td>\n      <td>서울특별시</td>\n      <td>중구</td>\n      <td>일반용</td>\n      <td>23436</td>\n      <td>809655543</td>\n    </tr>\n    <tr>\n      <th>174</th>\n      <td>202101-202106</td>\n      <td>서울특별시</td>\n      <td>중랑구</td>\n      <td>일반용</td>\n      <td>20224</td>\n      <td>218596571</td>\n    </tr>\n    <tr>\n      <th>174</th>\n      <td>202101-202106</td>\n      <td>서울특별시</td>\n      <td>중랑구</td>\n      <td>합계</td>\n      <td>29131</td>\n      <td>540789112</td>\n    </tr>\n  </tbody>\n</table>\n</div>"
     },
     "execution_count": 27,
     "metadata": {},
     "output_type": "execute_result"
    }
   ],
   "source": [
    "Final = pd.concat([GyeonGiHap2 , Hap])\n",
    "Final = Final.sort_values('시군구')\n",
    "Final"
   ],
   "metadata": {
    "collapsed": false,
    "pycharm": {
     "name": "#%%\n"
    }
   }
  },
  {
   "cell_type": "code",
   "execution_count": 28,
   "outputs": [
    {
     "data": {
      "text/plain": "[1574945748,\n 346675569,\n 189277767,\n 664194823,\n 355045679,\n 283262375,\n 389480577,\n 481877475,\n 285080769,\n 161099938,\n 293752423,\n 269562682,\n 605893921,\n 262266538,\n 948017006,\n 355061561,\n 250447077,\n 725594312,\n 482384565,\n 821435134,\n 370040792,\n 254157899,\n 569720336,\n 809655543,\n 218596571]"
     },
     "execution_count": 28,
     "metadata": {},
     "output_type": "execute_result"
    }
   ],
   "source": [
    "# Final['일반용 전기의 비율'] = (Final['사용량(kWh)'].loc[Final['계약구분'] == '일반용']) // (Final['사용량(kWh)'].loc[Final['계약구분'] == '합계'])\n",
    "# Final\n",
    "ex = (Final['사용량(kWh)'].loc[Final['계약구분'] == '일반용']).tolist()\n",
    "\n",
    "\n",
    "ex\n"
   ],
   "metadata": {
    "collapsed": false,
    "pycharm": {
     "name": "#%%\n"
    }
   }
  },
  {
   "cell_type": "code",
   "execution_count": 29,
   "outputs": [
    {
     "data": {
      "text/plain": "[2204536417,\n 772078682,\n 437715419,\n 1276469720,\n 818131335,\n 743006498,\n 888800641,\n 781941720,\n 726403671,\n 425328373,\n 682242106,\n 607334957,\n 1015339077,\n 592724082,\n 1548291451,\n 1061598608,\n 706094692,\n 1348902997,\n 854974512,\n 1288639167,\n 667933634,\n 702154386,\n 805042481,\n 1064373361,\n 540789112]"
     },
     "execution_count": 29,
     "metadata": {},
     "output_type": "execute_result"
    }
   ],
   "source": [
    "ex_2 =(Final['사용량(kWh)'].loc[Final['계약구분'] == '합계']).tolist()\n",
    "ex_2"
   ],
   "metadata": {
    "collapsed": false,
    "pycharm": {
     "name": "#%%\n"
    }
   }
  },
  {
   "cell_type": "code",
   "execution_count": 30,
   "outputs": [
    {
     "name": "stdout",
     "output_type": "stream",
     "text": [
      "[71.44, 44.9, 43.24, 52.03, 43.4, 38.12, 43.82, 61.63, 39.25, 37.88, 43.06, 44.38, 59.67, 44.25, 61.23, 33.45, 35.47, 53.79, 56.42, 63.74, 55.4, 36.2, 70.77, 76.07, 40.42]\n"
     ]
    }
   ],
   "source": [
    "Rate = []\n",
    "ilban = []\n",
    "rae = 0\n",
    "for i in range(len(ex)):\n",
    "    rae = round(ex[i] / ex_2[i] *100 ,2)\n",
    "    Rate.append(rae)\n",
    "print(Rate)"
   ],
   "metadata": {
    "collapsed": false,
    "pycharm": {
     "name": "#%%\n"
    }
   }
  },
  {
   "cell_type": "code",
   "execution_count": 31,
   "outputs": [
    {
     "data": {
      "text/plain": "0    71\n1    45\n2    43\n3    52\n4    43\n5    38\n6    44\n7    62\n8    39\n9    38\n10   43\n11   44\n12   60\n13   44\n14   61\n15   33\n16   35\n17   54\n18   56\n19   64\n20   55\n21   36\n22   71\n23   76\n24   40\ndtype: float64"
     },
     "execution_count": 31,
     "metadata": {},
     "output_type": "execute_result"
    }
   ],
   "source": [
    "Rate3 = pd.Series(Rate)\n",
    "Rate3\n",
    "\n",
    "# Final = pd.concat([Final , Rate3])\n",
    "# Final"
   ],
   "metadata": {
    "collapsed": false,
    "pycharm": {
     "name": "#%%\n"
    }
   }
  },
  {
   "cell_type": "code",
   "execution_count": 32,
   "outputs": [
    {
     "data": {
      "text/plain": "     시군구 계약구분  비율\n0    강남구  일반용  71\n1    강동구  일반용  45\n2    강북구  일반용  43\n3    강서구  일반용  52\n4    관악구  일반용  43\n5    광진구  일반용  38\n6    구로구  일반용  44\n7    금천구  일반용  62\n8    노원구  일반용  39\n9    도봉구  일반용  38\n10  동대문구  일반용  43\n11   동작구  일반용  44\n12   마포구  일반용  60\n13  서대문구  일반용  44\n14   서초구  일반용  61\n15   성동구  일반용  33\n16   성북구  일반용  35\n17   송파구  일반용  54\n18   양천구  일반용  56\n19  영등포구  일반용  64\n20   용산구  일반용  55\n21   은평구  일반용  36\n22   종로구  일반용  71\n23    중구  일반용  76\n24   중랑구  일반용  40",
      "text/html": "<div>\n<style scoped>\n    .dataframe tbody tr th:only-of-type {\n        vertical-align: middle;\n    }\n\n    .dataframe tbody tr th {\n        vertical-align: top;\n    }\n\n    .dataframe thead th {\n        text-align: right;\n    }\n</style>\n<table border=\"1\" class=\"dataframe\">\n  <thead>\n    <tr style=\"text-align: right;\">\n      <th></th>\n      <th>시군구</th>\n      <th>계약구분</th>\n      <th>비율</th>\n    </tr>\n  </thead>\n  <tbody>\n    <tr>\n      <th>0</th>\n      <td>강남구</td>\n      <td>일반용</td>\n      <td>71</td>\n    </tr>\n    <tr>\n      <th>1</th>\n      <td>강동구</td>\n      <td>일반용</td>\n      <td>45</td>\n    </tr>\n    <tr>\n      <th>2</th>\n      <td>강북구</td>\n      <td>일반용</td>\n      <td>43</td>\n    </tr>\n    <tr>\n      <th>3</th>\n      <td>강서구</td>\n      <td>일반용</td>\n      <td>52</td>\n    </tr>\n    <tr>\n      <th>4</th>\n      <td>관악구</td>\n      <td>일반용</td>\n      <td>43</td>\n    </tr>\n    <tr>\n      <th>5</th>\n      <td>광진구</td>\n      <td>일반용</td>\n      <td>38</td>\n    </tr>\n    <tr>\n      <th>6</th>\n      <td>구로구</td>\n      <td>일반용</td>\n      <td>44</td>\n    </tr>\n    <tr>\n      <th>7</th>\n      <td>금천구</td>\n      <td>일반용</td>\n      <td>62</td>\n    </tr>\n    <tr>\n      <th>8</th>\n      <td>노원구</td>\n      <td>일반용</td>\n      <td>39</td>\n    </tr>\n    <tr>\n      <th>9</th>\n      <td>도봉구</td>\n      <td>일반용</td>\n      <td>38</td>\n    </tr>\n    <tr>\n      <th>10</th>\n      <td>동대문구</td>\n      <td>일반용</td>\n      <td>43</td>\n    </tr>\n    <tr>\n      <th>11</th>\n      <td>동작구</td>\n      <td>일반용</td>\n      <td>44</td>\n    </tr>\n    <tr>\n      <th>12</th>\n      <td>마포구</td>\n      <td>일반용</td>\n      <td>60</td>\n    </tr>\n    <tr>\n      <th>13</th>\n      <td>서대문구</td>\n      <td>일반용</td>\n      <td>44</td>\n    </tr>\n    <tr>\n      <th>14</th>\n      <td>서초구</td>\n      <td>일반용</td>\n      <td>61</td>\n    </tr>\n    <tr>\n      <th>15</th>\n      <td>성동구</td>\n      <td>일반용</td>\n      <td>33</td>\n    </tr>\n    <tr>\n      <th>16</th>\n      <td>성북구</td>\n      <td>일반용</td>\n      <td>35</td>\n    </tr>\n    <tr>\n      <th>17</th>\n      <td>송파구</td>\n      <td>일반용</td>\n      <td>54</td>\n    </tr>\n    <tr>\n      <th>18</th>\n      <td>양천구</td>\n      <td>일반용</td>\n      <td>56</td>\n    </tr>\n    <tr>\n      <th>19</th>\n      <td>영등포구</td>\n      <td>일반용</td>\n      <td>64</td>\n    </tr>\n    <tr>\n      <th>20</th>\n      <td>용산구</td>\n      <td>일반용</td>\n      <td>55</td>\n    </tr>\n    <tr>\n      <th>21</th>\n      <td>은평구</td>\n      <td>일반용</td>\n      <td>36</td>\n    </tr>\n    <tr>\n      <th>22</th>\n      <td>종로구</td>\n      <td>일반용</td>\n      <td>71</td>\n    </tr>\n    <tr>\n      <th>23</th>\n      <td>중구</td>\n      <td>일반용</td>\n      <td>76</td>\n    </tr>\n    <tr>\n      <th>24</th>\n      <td>중랑구</td>\n      <td>일반용</td>\n      <td>40</td>\n    </tr>\n  </tbody>\n</table>\n</div>"
     },
     "execution_count": 32,
     "metadata": {},
     "output_type": "execute_result"
    }
   ],
   "source": [
    "for j in range(len(Rate)):\n",
    "    ilban.append('일반용')\n",
    "#print(Rate)\n",
    "\n",
    "Rate2 = pd.DataFrame()\n",
    "Rate2['시군구'] = pd.DataFrame(SIGUNGU)\n",
    "Rate2['계약구분'] = pd.DataFrame(ilban)\n",
    "Rate2['비율'] = pd.DataFrame(Rate)\n",
    "Rate2\n",
    "#print(Rate2.dtypes)"
   ],
   "metadata": {
    "collapsed": false,
    "pycharm": {
     "name": "#%%\n"
    }
   }
  },
  {
   "cell_type": "code",
   "execution_count": 33,
   "outputs": [
    {
     "data": {
      "text/plain": "               년월     시구   시군구 계약구분 고객호수(호)    사용량(kWh)  비율\n0   202101-202106  서울특별시   강남구  일반용   50810  1574945748  71\n1   202101-202106  서울특별시   강남구   합계   32538  2204536417 NaN\n3   202101-202106  서울특별시   강동구  일반용   20107   346675569  45\n2   202101-202106  서울특별시   강동구   합계   23602   772078682 NaN\n4   202101-202106  서울특별시   강북구  일반용   16318   189277767  43\n5   202101-202106  서울특별시   강북구   합계   24910   437715419 NaN\n6   202101-202106  서울특별시   강서구  일반용   23825   664194823  52\n7   202101-202106  서울특별시   강서구   합계   35092  1276469720 NaN\n8   202101-202106  서울특별시   관악구  일반용   25087   355045679  43\n9   202101-202106  서울특별시   관악구   합계   46239   818131335 NaN\n10  202101-202106  서울특별시   광진구  일반용   21150   283262375  38\n11  202101-202106  서울특별시   광진구   합계   30131   743006498 NaN\n12  202101-202106  서울특별시   구로구  일반용   18416   389480577  44\n13  202101-202106  서울특별시   구로구   합계   23201   888800641 NaN\n14  202101-202106  서울특별시   금천구  일반용   13542   481877475  62\n15  202101-202106  서울특별시   금천구   합계   18103   781941720 NaN\n17  202101-202106  서울특별시   노원구  일반용   15015   285080769  39\n16  202101-202106  서울특별시   노원구   합계   18520   726403671 NaN\n19  202101-202106  서울특별시   도봉구  일반용   12428   161099938  38\n18  202101-202106  서울특별시   도봉구   합계   17197   425328373 NaN\n21  202101-202106  서울특별시  동대문구  일반용   23411   293752423  43\n20  202101-202106  서울특별시  동대문구   합계   24895   682242106 NaN\n23  202101-202106  서울특별시   동작구  일반용   16741   269562682  44\n22  202101-202106  서울특별시   동작구   합계   27620   607334957 NaN\n25  202101-202106  서울특별시   마포구  일반용   30298   605893921  60\n24  202101-202106  서울특별시   마포구   합계   25367  1015339077 NaN\n27  202101-202106  서울특별시  서대문구  일반용   15906   262266538  44\n26  202101-202106  서울특별시  서대문구   합계   20049   592724082 NaN\n28  202101-202106  서울특별시   서초구  일반용   30668   948017006  61\n29  202101-202106  서울특별시   서초구   합계   21698  1548291451 NaN\n31  202101-202106  서울특별시   성동구  일반용   16439   355061561  33\n30  202101-202106  서울특별시   성동구   합계   16047  1061598608 NaN\n33  202101-202106  서울특별시   성북구  일반용   21035   250447077  35\n32  202101-202106  서울특별시   성북구   합계   25790   706094692 NaN\n35  202101-202106  서울특별시   송파구  일반용   28888   725594312  54\n34  202101-202106  서울특별시   송파구   합계   30025  1348902997 NaN\n37  202101-202106  서울특별시   양천구  일반용   16681   482384565  56\n36  202101-202106  서울특별시   양천구   합계   21238   854974512 NaN\n38  202101-202106  서울특별시  영등포구  일반용   23657   821435134  64\n39  202101-202106  서울특별시  영등포구   합계   24187  1288639167 NaN\n41  202101-202106  서울특별시   용산구  일반용   17106   370040792  55\n40  202101-202106  서울특별시   용산구   합계   18078   667933634 NaN\n43  202101-202106  서울특별시   은평구  일반용   20635   254157899  36\n42  202101-202106  서울특별시   은평구   합계   32276   702154386 NaN\n45  202101-202106  서울특별시   종로구  일반용   24784   569720336  71\n44  202101-202106  서울특별시   종로구   합계   17540   805042481 NaN\n47  202101-202106  서울특별시    중구  일반용   23436   809655543  76\n46  202101-202106  서울특별시    중구   합계   13159  1064373361 NaN\n48  202101-202106  서울특별시   중랑구  일반용   20224   218596571  40\n49  202101-202106  서울특별시   중랑구   합계   29131   540789112 NaN",
      "text/html": "<div>\n<style scoped>\n    .dataframe tbody tr th:only-of-type {\n        vertical-align: middle;\n    }\n\n    .dataframe tbody tr th {\n        vertical-align: top;\n    }\n\n    .dataframe thead th {\n        text-align: right;\n    }\n</style>\n<table border=\"1\" class=\"dataframe\">\n  <thead>\n    <tr style=\"text-align: right;\">\n      <th></th>\n      <th>년월</th>\n      <th>시구</th>\n      <th>시군구</th>\n      <th>계약구분</th>\n      <th>고객호수(호)</th>\n      <th>사용량(kWh)</th>\n      <th>비율</th>\n    </tr>\n  </thead>\n  <tbody>\n    <tr>\n      <th>0</th>\n      <td>202101-202106</td>\n      <td>서울특별시</td>\n      <td>강남구</td>\n      <td>일반용</td>\n      <td>50810</td>\n      <td>1574945748</td>\n      <td>71</td>\n    </tr>\n    <tr>\n      <th>1</th>\n      <td>202101-202106</td>\n      <td>서울특별시</td>\n      <td>강남구</td>\n      <td>합계</td>\n      <td>32538</td>\n      <td>2204536417</td>\n      <td>NaN</td>\n    </tr>\n    <tr>\n      <th>3</th>\n      <td>202101-202106</td>\n      <td>서울특별시</td>\n      <td>강동구</td>\n      <td>일반용</td>\n      <td>20107</td>\n      <td>346675569</td>\n      <td>45</td>\n    </tr>\n    <tr>\n      <th>2</th>\n      <td>202101-202106</td>\n      <td>서울특별시</td>\n      <td>강동구</td>\n      <td>합계</td>\n      <td>23602</td>\n      <td>772078682</td>\n      <td>NaN</td>\n    </tr>\n    <tr>\n      <th>4</th>\n      <td>202101-202106</td>\n      <td>서울특별시</td>\n      <td>강북구</td>\n      <td>일반용</td>\n      <td>16318</td>\n      <td>189277767</td>\n      <td>43</td>\n    </tr>\n    <tr>\n      <th>5</th>\n      <td>202101-202106</td>\n      <td>서울특별시</td>\n      <td>강북구</td>\n      <td>합계</td>\n      <td>24910</td>\n      <td>437715419</td>\n      <td>NaN</td>\n    </tr>\n    <tr>\n      <th>6</th>\n      <td>202101-202106</td>\n      <td>서울특별시</td>\n      <td>강서구</td>\n      <td>일반용</td>\n      <td>23825</td>\n      <td>664194823</td>\n      <td>52</td>\n    </tr>\n    <tr>\n      <th>7</th>\n      <td>202101-202106</td>\n      <td>서울특별시</td>\n      <td>강서구</td>\n      <td>합계</td>\n      <td>35092</td>\n      <td>1276469720</td>\n      <td>NaN</td>\n    </tr>\n    <tr>\n      <th>8</th>\n      <td>202101-202106</td>\n      <td>서울특별시</td>\n      <td>관악구</td>\n      <td>일반용</td>\n      <td>25087</td>\n      <td>355045679</td>\n      <td>43</td>\n    </tr>\n    <tr>\n      <th>9</th>\n      <td>202101-202106</td>\n      <td>서울특별시</td>\n      <td>관악구</td>\n      <td>합계</td>\n      <td>46239</td>\n      <td>818131335</td>\n      <td>NaN</td>\n    </tr>\n    <tr>\n      <th>10</th>\n      <td>202101-202106</td>\n      <td>서울특별시</td>\n      <td>광진구</td>\n      <td>일반용</td>\n      <td>21150</td>\n      <td>283262375</td>\n      <td>38</td>\n    </tr>\n    <tr>\n      <th>11</th>\n      <td>202101-202106</td>\n      <td>서울특별시</td>\n      <td>광진구</td>\n      <td>합계</td>\n      <td>30131</td>\n      <td>743006498</td>\n      <td>NaN</td>\n    </tr>\n    <tr>\n      <th>12</th>\n      <td>202101-202106</td>\n      <td>서울특별시</td>\n      <td>구로구</td>\n      <td>일반용</td>\n      <td>18416</td>\n      <td>389480577</td>\n      <td>44</td>\n    </tr>\n    <tr>\n      <th>13</th>\n      <td>202101-202106</td>\n      <td>서울특별시</td>\n      <td>구로구</td>\n      <td>합계</td>\n      <td>23201</td>\n      <td>888800641</td>\n      <td>NaN</td>\n    </tr>\n    <tr>\n      <th>14</th>\n      <td>202101-202106</td>\n      <td>서울특별시</td>\n      <td>금천구</td>\n      <td>일반용</td>\n      <td>13542</td>\n      <td>481877475</td>\n      <td>62</td>\n    </tr>\n    <tr>\n      <th>15</th>\n      <td>202101-202106</td>\n      <td>서울특별시</td>\n      <td>금천구</td>\n      <td>합계</td>\n      <td>18103</td>\n      <td>781941720</td>\n      <td>NaN</td>\n    </tr>\n    <tr>\n      <th>17</th>\n      <td>202101-202106</td>\n      <td>서울특별시</td>\n      <td>노원구</td>\n      <td>일반용</td>\n      <td>15015</td>\n      <td>285080769</td>\n      <td>39</td>\n    </tr>\n    <tr>\n      <th>16</th>\n      <td>202101-202106</td>\n      <td>서울특별시</td>\n      <td>노원구</td>\n      <td>합계</td>\n      <td>18520</td>\n      <td>726403671</td>\n      <td>NaN</td>\n    </tr>\n    <tr>\n      <th>19</th>\n      <td>202101-202106</td>\n      <td>서울특별시</td>\n      <td>도봉구</td>\n      <td>일반용</td>\n      <td>12428</td>\n      <td>161099938</td>\n      <td>38</td>\n    </tr>\n    <tr>\n      <th>18</th>\n      <td>202101-202106</td>\n      <td>서울특별시</td>\n      <td>도봉구</td>\n      <td>합계</td>\n      <td>17197</td>\n      <td>425328373</td>\n      <td>NaN</td>\n    </tr>\n    <tr>\n      <th>21</th>\n      <td>202101-202106</td>\n      <td>서울특별시</td>\n      <td>동대문구</td>\n      <td>일반용</td>\n      <td>23411</td>\n      <td>293752423</td>\n      <td>43</td>\n    </tr>\n    <tr>\n      <th>20</th>\n      <td>202101-202106</td>\n      <td>서울특별시</td>\n      <td>동대문구</td>\n      <td>합계</td>\n      <td>24895</td>\n      <td>682242106</td>\n      <td>NaN</td>\n    </tr>\n    <tr>\n      <th>23</th>\n      <td>202101-202106</td>\n      <td>서울특별시</td>\n      <td>동작구</td>\n      <td>일반용</td>\n      <td>16741</td>\n      <td>269562682</td>\n      <td>44</td>\n    </tr>\n    <tr>\n      <th>22</th>\n      <td>202101-202106</td>\n      <td>서울특별시</td>\n      <td>동작구</td>\n      <td>합계</td>\n      <td>27620</td>\n      <td>607334957</td>\n      <td>NaN</td>\n    </tr>\n    <tr>\n      <th>25</th>\n      <td>202101-202106</td>\n      <td>서울특별시</td>\n      <td>마포구</td>\n      <td>일반용</td>\n      <td>30298</td>\n      <td>605893921</td>\n      <td>60</td>\n    </tr>\n    <tr>\n      <th>24</th>\n      <td>202101-202106</td>\n      <td>서울특별시</td>\n      <td>마포구</td>\n      <td>합계</td>\n      <td>25367</td>\n      <td>1015339077</td>\n      <td>NaN</td>\n    </tr>\n    <tr>\n      <th>27</th>\n      <td>202101-202106</td>\n      <td>서울특별시</td>\n      <td>서대문구</td>\n      <td>일반용</td>\n      <td>15906</td>\n      <td>262266538</td>\n      <td>44</td>\n    </tr>\n    <tr>\n      <th>26</th>\n      <td>202101-202106</td>\n      <td>서울특별시</td>\n      <td>서대문구</td>\n      <td>합계</td>\n      <td>20049</td>\n      <td>592724082</td>\n      <td>NaN</td>\n    </tr>\n    <tr>\n      <th>28</th>\n      <td>202101-202106</td>\n      <td>서울특별시</td>\n      <td>서초구</td>\n      <td>일반용</td>\n      <td>30668</td>\n      <td>948017006</td>\n      <td>61</td>\n    </tr>\n    <tr>\n      <th>29</th>\n      <td>202101-202106</td>\n      <td>서울특별시</td>\n      <td>서초구</td>\n      <td>합계</td>\n      <td>21698</td>\n      <td>1548291451</td>\n      <td>NaN</td>\n    </tr>\n    <tr>\n      <th>31</th>\n      <td>202101-202106</td>\n      <td>서울특별시</td>\n      <td>성동구</td>\n      <td>일반용</td>\n      <td>16439</td>\n      <td>355061561</td>\n      <td>33</td>\n    </tr>\n    <tr>\n      <th>30</th>\n      <td>202101-202106</td>\n      <td>서울특별시</td>\n      <td>성동구</td>\n      <td>합계</td>\n      <td>16047</td>\n      <td>1061598608</td>\n      <td>NaN</td>\n    </tr>\n    <tr>\n      <th>33</th>\n      <td>202101-202106</td>\n      <td>서울특별시</td>\n      <td>성북구</td>\n      <td>일반용</td>\n      <td>21035</td>\n      <td>250447077</td>\n      <td>35</td>\n    </tr>\n    <tr>\n      <th>32</th>\n      <td>202101-202106</td>\n      <td>서울특별시</td>\n      <td>성북구</td>\n      <td>합계</td>\n      <td>25790</td>\n      <td>706094692</td>\n      <td>NaN</td>\n    </tr>\n    <tr>\n      <th>35</th>\n      <td>202101-202106</td>\n      <td>서울특별시</td>\n      <td>송파구</td>\n      <td>일반용</td>\n      <td>28888</td>\n      <td>725594312</td>\n      <td>54</td>\n    </tr>\n    <tr>\n      <th>34</th>\n      <td>202101-202106</td>\n      <td>서울특별시</td>\n      <td>송파구</td>\n      <td>합계</td>\n      <td>30025</td>\n      <td>1348902997</td>\n      <td>NaN</td>\n    </tr>\n    <tr>\n      <th>37</th>\n      <td>202101-202106</td>\n      <td>서울특별시</td>\n      <td>양천구</td>\n      <td>일반용</td>\n      <td>16681</td>\n      <td>482384565</td>\n      <td>56</td>\n    </tr>\n    <tr>\n      <th>36</th>\n      <td>202101-202106</td>\n      <td>서울특별시</td>\n      <td>양천구</td>\n      <td>합계</td>\n      <td>21238</td>\n      <td>854974512</td>\n      <td>NaN</td>\n    </tr>\n    <tr>\n      <th>38</th>\n      <td>202101-202106</td>\n      <td>서울특별시</td>\n      <td>영등포구</td>\n      <td>일반용</td>\n      <td>23657</td>\n      <td>821435134</td>\n      <td>64</td>\n    </tr>\n    <tr>\n      <th>39</th>\n      <td>202101-202106</td>\n      <td>서울특별시</td>\n      <td>영등포구</td>\n      <td>합계</td>\n      <td>24187</td>\n      <td>1288639167</td>\n      <td>NaN</td>\n    </tr>\n    <tr>\n      <th>41</th>\n      <td>202101-202106</td>\n      <td>서울특별시</td>\n      <td>용산구</td>\n      <td>일반용</td>\n      <td>17106</td>\n      <td>370040792</td>\n      <td>55</td>\n    </tr>\n    <tr>\n      <th>40</th>\n      <td>202101-202106</td>\n      <td>서울특별시</td>\n      <td>용산구</td>\n      <td>합계</td>\n      <td>18078</td>\n      <td>667933634</td>\n      <td>NaN</td>\n    </tr>\n    <tr>\n      <th>43</th>\n      <td>202101-202106</td>\n      <td>서울특별시</td>\n      <td>은평구</td>\n      <td>일반용</td>\n      <td>20635</td>\n      <td>254157899</td>\n      <td>36</td>\n    </tr>\n    <tr>\n      <th>42</th>\n      <td>202101-202106</td>\n      <td>서울특별시</td>\n      <td>은평구</td>\n      <td>합계</td>\n      <td>32276</td>\n      <td>702154386</td>\n      <td>NaN</td>\n    </tr>\n    <tr>\n      <th>45</th>\n      <td>202101-202106</td>\n      <td>서울특별시</td>\n      <td>종로구</td>\n      <td>일반용</td>\n      <td>24784</td>\n      <td>569720336</td>\n      <td>71</td>\n    </tr>\n    <tr>\n      <th>44</th>\n      <td>202101-202106</td>\n      <td>서울특별시</td>\n      <td>종로구</td>\n      <td>합계</td>\n      <td>17540</td>\n      <td>805042481</td>\n      <td>NaN</td>\n    </tr>\n    <tr>\n      <th>47</th>\n      <td>202101-202106</td>\n      <td>서울특별시</td>\n      <td>중구</td>\n      <td>일반용</td>\n      <td>23436</td>\n      <td>809655543</td>\n      <td>76</td>\n    </tr>\n    <tr>\n      <th>46</th>\n      <td>202101-202106</td>\n      <td>서울특별시</td>\n      <td>중구</td>\n      <td>합계</td>\n      <td>13159</td>\n      <td>1064373361</td>\n      <td>NaN</td>\n    </tr>\n    <tr>\n      <th>48</th>\n      <td>202101-202106</td>\n      <td>서울특별시</td>\n      <td>중랑구</td>\n      <td>일반용</td>\n      <td>20224</td>\n      <td>218596571</td>\n      <td>40</td>\n    </tr>\n    <tr>\n      <th>49</th>\n      <td>202101-202106</td>\n      <td>서울특별시</td>\n      <td>중랑구</td>\n      <td>합계</td>\n      <td>29131</td>\n      <td>540789112</td>\n      <td>NaN</td>\n    </tr>\n  </tbody>\n</table>\n</div>"
     },
     "execution_count": 33,
     "metadata": {},
     "output_type": "execute_result"
    }
   ],
   "source": [
    "Final = pd.merge(Final , Rate2, on=['시군구', '계약구분'] , how='left')\n",
    "\n",
    "#Final.drop(['비율_y]' , axis = 1 , inplace = True)\n",
    "#Final.rename(columns={'비율_y':'전체 계약종별 전력사용량 대비 일반용 사용량 비율'})\n",
    "Final = Final.sort_values(['시군구' , '계약구분'])\n",
    "Final"
   ],
   "metadata": {
    "collapsed": false,
    "pycharm": {
     "name": "#%%\n"
    }
   }
  },
  {
   "cell_type": "code",
   "execution_count": 34,
   "outputs": [],
   "source": [
    "# Final['일반용 전기의 비율'] = Final.append(Rate)\n",
    "# Final"
   ],
   "metadata": {
    "collapsed": false,
    "pycharm": {
     "name": "#%%\n"
    }
   }
  },
  {
   "cell_type": "markdown",
   "source": [
    "### 6. 날짜 체크!!!!!!!!!!!!!!!!!!!!1"
   ],
   "metadata": {
    "collapsed": false,
    "pycharm": {
     "name": "#%% md\n"
    }
   }
  },
  {
   "cell_type": "code",
   "execution_count": 35,
   "outputs": [],
   "source": [
    "Final.to_csv(\"{}_일반용_전력사용량_2101-06.csv\".format(City) , mode = 'w' , encoding= 'cp949' , index =False) #파일명 수정"
   ],
   "metadata": {
    "collapsed": false,
    "pycharm": {
     "name": "#%%\n"
    }
   }
  },
  {
   "cell_type": "code",
   "execution_count": 35,
   "outputs": [],
   "source": [],
   "metadata": {
    "collapsed": false,
    "pycharm": {
     "name": "#%%\n"
    }
   }
  },
  {
   "cell_type": "code",
   "execution_count": 36,
   "outputs": [],
   "source": [
    "# Sigu = list(set(df_3['시군구'].tolist()))\n",
    "#\n",
    "# Sigu.sort()\n",
    "#\n",
    "# Sigu"
   ],
   "metadata": {
    "collapsed": false,
    "pycharm": {
     "name": "#%%\n"
    }
   }
  },
  {
   "cell_type": "code",
   "execution_count": 37,
   "outputs": [],
   "source": [
    "# YearMonth = list(set(df_3['년월'].tolist()))\n",
    "#\n",
    "# YearMonth.sort()\n",
    "# YearMonth"
   ],
   "metadata": {
    "collapsed": false,
    "pycharm": {
     "name": "#%%\n"
    }
   }
  },
  {
   "cell_type": "code",
   "execution_count": 38,
   "outputs": [],
   "source": [
    "# Gayeak = list(set(df_3['계약구분'].tolist()))\n",
    "#\n",
    "# Gayeak.sort()\n",
    "# Gayeak"
   ],
   "metadata": {
    "collapsed": false,
    "pycharm": {
     "name": "#%%\n"
    }
   }
  },
  {
   "cell_type": "code",
   "execution_count": 39,
   "outputs": [],
   "source": [
    "# SEOUL = df_3.loc[(df_3['계약구분'] =='일반용')]\n",
    "# SEOUL.drop(['고객호수(호)' ,'전기요금(원)' , '평균판매단가(원/kWh)'] , axis = 1 , inplace = True)\n",
    "# #SEOUL.dtypes(['사용량(kWh)'])\n",
    "# SEOUL"
   ],
   "metadata": {
    "collapsed": false,
    "pycharm": {
     "name": "#%%\n"
    }
   }
  },
  {
   "cell_type": "code",
   "execution_count": 40,
   "outputs": [],
   "source": [
    "#SEOUL.to_csv(\"서울특별시_일반용_전력사용량.csv\" , mode = 'w' , encoding= 'cp949')"
   ],
   "metadata": {
    "collapsed": false,
    "pycharm": {
     "name": "#%%\n"
    }
   }
  },
  {
   "cell_type": "code",
   "execution_count": 41,
   "outputs": [],
   "source": [
    "# print(SEOUL.dtypes)\n",
    "# SEOUL = SEOUL.astype({'사용량(kWh)' : 'float'})"
   ],
   "metadata": {
    "collapsed": false,
    "pycharm": {
     "name": "#%%\n"
    }
   }
  },
  {
   "cell_type": "code",
   "execution_count": 42,
   "outputs": [],
   "source": [
    "# SEOUL"
   ],
   "metadata": {
    "collapsed": false,
    "pycharm": {
     "name": "#%%\n"
    }
   }
  },
  {
   "cell_type": "code",
   "execution_count": 43,
   "outputs": [],
   "source": [
    "# a = SEOUL['사용량(kWh)'].tolist()\n",
    "# int_list = map(int, a)\n",
    "# b=0\n",
    "# for i in int_list:\n",
    "#     b+=i\n",
    "#\n",
    "# print(b)"
   ],
   "metadata": {
    "collapsed": false,
    "pycharm": {
     "name": "#%%\n"
    }
   }
  },
  {
   "cell_type": "code",
   "execution_count": 43,
   "outputs": [],
   "source": [],
   "metadata": {
    "collapsed": false,
    "pycharm": {
     "name": "#%%\n"
    }
   }
  },
  {
   "cell_type": "code",
   "execution_count": 43,
   "outputs": [],
   "source": [],
   "metadata": {
    "collapsed": false,
    "pycharm": {
     "name": "#%%\n"
    }
   }
  },
  {
   "cell_type": "code",
   "execution_count": 43,
   "outputs": [],
   "source": [],
   "metadata": {
    "collapsed": false,
    "pycharm": {
     "name": "#%%\n"
    }
   }
  },
  {
   "cell_type": "code",
   "execution_count": 43,
   "outputs": [],
   "source": [],
   "metadata": {
    "collapsed": false,
    "pycharm": {
     "name": "#%%\n"
    }
   }
  },
  {
   "cell_type": "code",
   "execution_count": 43,
   "outputs": [],
   "source": [],
   "metadata": {
    "collapsed": false,
    "pycharm": {
     "name": "#%%\n"
    }
   }
  },
  {
   "cell_type": "code",
   "execution_count": 43,
   "outputs": [],
   "source": [],
   "metadata": {
    "collapsed": false,
    "pycharm": {
     "name": "#%%\n"
    }
   }
  },
  {
   "cell_type": "code",
   "execution_count": 43,
   "outputs": [],
   "source": [],
   "metadata": {
    "collapsed": false,
    "pycharm": {
     "name": "#%%\n"
    }
   }
  }
 ],
 "metadata": {
  "kernelspec": {
   "display_name": "Python 3",
   "language": "python",
   "name": "python3"
  },
  "language_info": {
   "codemirror_mode": {
    "name": "ipython",
    "version": 2
   },
   "file_extension": ".py",
   "mimetype": "text/x-python",
   "name": "python",
   "nbconvert_exporter": "python",
   "pygments_lexer": "ipython2",
   "version": "2.7.6"
  }
 },
 "nbformat": 4,
 "nbformat_minor": 0
}