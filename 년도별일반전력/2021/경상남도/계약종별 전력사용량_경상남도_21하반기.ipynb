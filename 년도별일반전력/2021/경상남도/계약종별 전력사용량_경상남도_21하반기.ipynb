{
 "cells": [
  {
   "cell_type": "markdown",
   "source": [],
   "metadata": {
    "collapsed": false,
    "pycharm": {
     "name": "#%% md\n"
    }
   }
  },
  {
   "cell_type": "code",
   "execution_count": 1,
   "outputs": [],
   "source": [
    "import pandas as pd\n",
    "import re\n",
    "\n",
    "pd.options.display.float_format = '{:.0f}'.format"
   ],
   "metadata": {
    "collapsed": false,
    "pycharm": {
     "name": "#%%\n"
    }
   }
  },
  {
   "cell_type": "markdown",
   "source": [
    "### 1. 꼭 read_csv 21상반기, 19하반기와 같이 맞추어 주세요!!! 또한 지역(전라북도, 남도) 맞추기!!!!!"
   ],
   "metadata": {
    "collapsed": false,
    "pycharm": {
     "name": "#%% md\n"
    }
   }
  },
  {
   "cell_type": "code",
   "execution_count": 2,
   "outputs": [
    {
     "data": {
      "text/plain": "       계약종별 전력사용량 월별( 20220804 현재 ) Unnamed: 1     Unnamed: 2 Unnamed: 3  \\\n0    시도 : 경상남도, 시군구 : 전체(시 / 군 / 구)        NaN            NaN        NaN   \n1       기간 : 2021년 07 월 ~ 2021년 12월        NaN            NaN        NaN   \n2                                년월         시구            시군구       계약구분   \n3                            202107       경상남도  전체(시 / 군 / 구)        주택용   \n4                            202107       경상남도  전체(시 / 군 / 구)        일반용   \n..                              ...        ...            ...        ...   \n907                          202112       경상남도            합천군        산업용   \n908                          202112       경상남도            합천군        심 야   \n909                          202112       경상남도            합천군        일반용   \n910                          202112       경상남도            합천군        주택용   \n911                          202112       경상남도            합천군         합계   \n\n     Unnamed: 4    Unnamed: 5       Unnamed: 6     Unnamed: 7  \n0           NaN           NaN              NaN            NaN  \n1           NaN           NaN              NaN            NaN  \n2       고객호수(호)      사용량(kWh)          전기요금(원)  평균판매단가(원/kWh)  \n3    1,184,603   433,513,289   44,688,454,243          103.1   \n4      227,132   588,694,307   85,452,259,132          145.2   \n..          ...           ...              ...            ...  \n907        869     7,044,225      925,423,951          131.4   \n908      1,907     3,316,112      249,730,781           75.3   \n909      4,114     9,434,680    1,360,014,147          144.2   \n910     30,687     4,863,301      585,733,386          120.4   \n911     58,062    38,955,857    3,904,511,583          100.2   \n\n[912 rows x 8 columns]",
      "text/html": "<div>\n<style scoped>\n    .dataframe tbody tr th:only-of-type {\n        vertical-align: middle;\n    }\n\n    .dataframe tbody tr th {\n        vertical-align: top;\n    }\n\n    .dataframe thead th {\n        text-align: right;\n    }\n</style>\n<table border=\"1\" class=\"dataframe\">\n  <thead>\n    <tr style=\"text-align: right;\">\n      <th></th>\n      <th>계약종별 전력사용량 월별( 20220804 현재 )</th>\n      <th>Unnamed: 1</th>\n      <th>Unnamed: 2</th>\n      <th>Unnamed: 3</th>\n      <th>Unnamed: 4</th>\n      <th>Unnamed: 5</th>\n      <th>Unnamed: 6</th>\n      <th>Unnamed: 7</th>\n    </tr>\n  </thead>\n  <tbody>\n    <tr>\n      <th>0</th>\n      <td>시도 : 경상남도, 시군구 : 전체(시 / 군 / 구)</td>\n      <td>NaN</td>\n      <td>NaN</td>\n      <td>NaN</td>\n      <td>NaN</td>\n      <td>NaN</td>\n      <td>NaN</td>\n      <td>NaN</td>\n    </tr>\n    <tr>\n      <th>1</th>\n      <td>기간 : 2021년 07 월 ~ 2021년 12월</td>\n      <td>NaN</td>\n      <td>NaN</td>\n      <td>NaN</td>\n      <td>NaN</td>\n      <td>NaN</td>\n      <td>NaN</td>\n      <td>NaN</td>\n    </tr>\n    <tr>\n      <th>2</th>\n      <td>년월</td>\n      <td>시구</td>\n      <td>시군구</td>\n      <td>계약구분</td>\n      <td>고객호수(호)</td>\n      <td>사용량(kWh)</td>\n      <td>전기요금(원)</td>\n      <td>평균판매단가(원/kWh)</td>\n    </tr>\n    <tr>\n      <th>3</th>\n      <td>202107</td>\n      <td>경상남도</td>\n      <td>전체(시 / 군 / 구)</td>\n      <td>주택용</td>\n      <td>1,184,603</td>\n      <td>433,513,289</td>\n      <td>44,688,454,243</td>\n      <td>103.1</td>\n    </tr>\n    <tr>\n      <th>4</th>\n      <td>202107</td>\n      <td>경상남도</td>\n      <td>전체(시 / 군 / 구)</td>\n      <td>일반용</td>\n      <td>227,132</td>\n      <td>588,694,307</td>\n      <td>85,452,259,132</td>\n      <td>145.2</td>\n    </tr>\n    <tr>\n      <th>...</th>\n      <td>...</td>\n      <td>...</td>\n      <td>...</td>\n      <td>...</td>\n      <td>...</td>\n      <td>...</td>\n      <td>...</td>\n      <td>...</td>\n    </tr>\n    <tr>\n      <th>907</th>\n      <td>202112</td>\n      <td>경상남도</td>\n      <td>합천군</td>\n      <td>산업용</td>\n      <td>869</td>\n      <td>7,044,225</td>\n      <td>925,423,951</td>\n      <td>131.4</td>\n    </tr>\n    <tr>\n      <th>908</th>\n      <td>202112</td>\n      <td>경상남도</td>\n      <td>합천군</td>\n      <td>심 야</td>\n      <td>1,907</td>\n      <td>3,316,112</td>\n      <td>249,730,781</td>\n      <td>75.3</td>\n    </tr>\n    <tr>\n      <th>909</th>\n      <td>202112</td>\n      <td>경상남도</td>\n      <td>합천군</td>\n      <td>일반용</td>\n      <td>4,114</td>\n      <td>9,434,680</td>\n      <td>1,360,014,147</td>\n      <td>144.2</td>\n    </tr>\n    <tr>\n      <th>910</th>\n      <td>202112</td>\n      <td>경상남도</td>\n      <td>합천군</td>\n      <td>주택용</td>\n      <td>30,687</td>\n      <td>4,863,301</td>\n      <td>585,733,386</td>\n      <td>120.4</td>\n    </tr>\n    <tr>\n      <th>911</th>\n      <td>202112</td>\n      <td>경상남도</td>\n      <td>합천군</td>\n      <td>합계</td>\n      <td>58,062</td>\n      <td>38,955,857</td>\n      <td>3,904,511,583</td>\n      <td>100.2</td>\n    </tr>\n  </tbody>\n</table>\n<p>912 rows × 8 columns</p>\n</div>"
     },
     "execution_count": 2,
     "metadata": {},
     "output_type": "execute_result"
    }
   ],
   "source": [
    "df = pd.read_csv('경상남도_계약종별_전력사용량_월별_21하반기.csv' , encoding='cp949')\n",
    "\n",
    "df\n",
    "#exchng=  pd.read_csv('지역별_전력거래량_20220803093050.csv' , encoding='cp949')"
   ],
   "metadata": {
    "collapsed": false,
    "pycharm": {
     "name": "#%%\n"
    }
   }
  },
  {
   "cell_type": "code",
   "execution_count": 3,
   "outputs": [
    {
     "data": {
      "text/plain": "    계약종별 전력사용량 월별( 20220804 현재 ) Unnamed: 1     Unnamed: 2 Unnamed: 3  \\\n2                             년월         시구            시군구       계약구분   \n3                         202107       경상남도  전체(시 / 군 / 구)        주택용   \n4                         202107       경상남도  전체(시 / 군 / 구)        일반용   \n5                         202107       경상남도  전체(시 / 군 / 구)        교육용   \n6                         202107       경상남도  전체(시 / 군 / 구)        산업용   \n..                           ...        ...            ...        ...   \n907                       202112       경상남도            합천군        산업용   \n908                       202112       경상남도            합천군        심 야   \n909                       202112       경상남도            합천군        일반용   \n910                       202112       경상남도            합천군        주택용   \n911                       202112       경상남도            합천군         합계   \n\n     Unnamed: 4      Unnamed: 5        Unnamed: 6     Unnamed: 7  \n2       고객호수(호)        사용량(kWh)           전기요금(원)  평균판매단가(원/kWh)  \n3    1,184,603     433,513,289    44,688,454,243          103.1   \n4      227,132     588,694,307    85,452,259,132          145.2   \n5        1,688      38,433,192     4,627,291,531          120.4   \n6       38,734   1,741,737,513   220,786,360,826          126.8   \n..          ...             ...               ...            ...  \n907        869       7,044,225       925,423,951          131.4   \n908      1,907       3,316,112       249,730,781           75.3   \n909      4,114       9,434,680     1,360,014,147          144.2   \n910     30,687       4,863,301       585,733,386          120.4   \n911     58,062      38,955,857     3,904,511,583          100.2   \n\n[909 rows x 8 columns]",
      "text/html": "<div>\n<style scoped>\n    .dataframe tbody tr th:only-of-type {\n        vertical-align: middle;\n    }\n\n    .dataframe tbody tr th {\n        vertical-align: top;\n    }\n\n    .dataframe thead th {\n        text-align: right;\n    }\n</style>\n<table border=\"1\" class=\"dataframe\">\n  <thead>\n    <tr style=\"text-align: right;\">\n      <th></th>\n      <th>계약종별 전력사용량 월별( 20220804 현재 )</th>\n      <th>Unnamed: 1</th>\n      <th>Unnamed: 2</th>\n      <th>Unnamed: 3</th>\n      <th>Unnamed: 4</th>\n      <th>Unnamed: 5</th>\n      <th>Unnamed: 6</th>\n      <th>Unnamed: 7</th>\n    </tr>\n  </thead>\n  <tbody>\n    <tr>\n      <th>2</th>\n      <td>년월</td>\n      <td>시구</td>\n      <td>시군구</td>\n      <td>계약구분</td>\n      <td>고객호수(호)</td>\n      <td>사용량(kWh)</td>\n      <td>전기요금(원)</td>\n      <td>평균판매단가(원/kWh)</td>\n    </tr>\n    <tr>\n      <th>3</th>\n      <td>202107</td>\n      <td>경상남도</td>\n      <td>전체(시 / 군 / 구)</td>\n      <td>주택용</td>\n      <td>1,184,603</td>\n      <td>433,513,289</td>\n      <td>44,688,454,243</td>\n      <td>103.1</td>\n    </tr>\n    <tr>\n      <th>4</th>\n      <td>202107</td>\n      <td>경상남도</td>\n      <td>전체(시 / 군 / 구)</td>\n      <td>일반용</td>\n      <td>227,132</td>\n      <td>588,694,307</td>\n      <td>85,452,259,132</td>\n      <td>145.2</td>\n    </tr>\n    <tr>\n      <th>5</th>\n      <td>202107</td>\n      <td>경상남도</td>\n      <td>전체(시 / 군 / 구)</td>\n      <td>교육용</td>\n      <td>1,688</td>\n      <td>38,433,192</td>\n      <td>4,627,291,531</td>\n      <td>120.4</td>\n    </tr>\n    <tr>\n      <th>6</th>\n      <td>202107</td>\n      <td>경상남도</td>\n      <td>전체(시 / 군 / 구)</td>\n      <td>산업용</td>\n      <td>38,734</td>\n      <td>1,741,737,513</td>\n      <td>220,786,360,826</td>\n      <td>126.8</td>\n    </tr>\n    <tr>\n      <th>...</th>\n      <td>...</td>\n      <td>...</td>\n      <td>...</td>\n      <td>...</td>\n      <td>...</td>\n      <td>...</td>\n      <td>...</td>\n      <td>...</td>\n    </tr>\n    <tr>\n      <th>907</th>\n      <td>202112</td>\n      <td>경상남도</td>\n      <td>합천군</td>\n      <td>산업용</td>\n      <td>869</td>\n      <td>7,044,225</td>\n      <td>925,423,951</td>\n      <td>131.4</td>\n    </tr>\n    <tr>\n      <th>908</th>\n      <td>202112</td>\n      <td>경상남도</td>\n      <td>합천군</td>\n      <td>심 야</td>\n      <td>1,907</td>\n      <td>3,316,112</td>\n      <td>249,730,781</td>\n      <td>75.3</td>\n    </tr>\n    <tr>\n      <th>909</th>\n      <td>202112</td>\n      <td>경상남도</td>\n      <td>합천군</td>\n      <td>일반용</td>\n      <td>4,114</td>\n      <td>9,434,680</td>\n      <td>1,360,014,147</td>\n      <td>144.2</td>\n    </tr>\n    <tr>\n      <th>910</th>\n      <td>202112</td>\n      <td>경상남도</td>\n      <td>합천군</td>\n      <td>주택용</td>\n      <td>30,687</td>\n      <td>4,863,301</td>\n      <td>585,733,386</td>\n      <td>120.4</td>\n    </tr>\n    <tr>\n      <th>911</th>\n      <td>202112</td>\n      <td>경상남도</td>\n      <td>합천군</td>\n      <td>합계</td>\n      <td>58,062</td>\n      <td>38,955,857</td>\n      <td>3,904,511,583</td>\n      <td>100.2</td>\n    </tr>\n  </tbody>\n</table>\n<p>909 rows × 8 columns</p>\n</div>"
     },
     "execution_count": 3,
     "metadata": {},
     "output_type": "execute_result"
    }
   ],
   "source": [
    "df = df.drop([0,1 , 46] , axis = 0)\n",
    "#0,1 , 10은 지우는게 맞다\n",
    "df"
   ],
   "metadata": {
    "collapsed": false,
    "pycharm": {
     "name": "#%%\n"
    }
   }
  },
  {
   "cell_type": "code",
   "execution_count": 4,
   "outputs": [],
   "source": [
    "a= df.loc[2].tolist()\n",
    "a\n",
    "df = df.drop([2] , axis = 0)"
   ],
   "metadata": {
    "collapsed": false,
    "pycharm": {
     "name": "#%%\n"
    }
   }
  },
  {
   "cell_type": "code",
   "execution_count": 5,
   "outputs": [
    {
     "data": {
      "text/plain": "         년월    시구            시군구 계약구분     고객호수(호)        사용량(kWh)  \\\n3    202107  경상남도  전체(시 / 군 / 구)  주택용  1,184,603     433,513,289    \n4    202107  경상남도  전체(시 / 군 / 구)  일반용    227,132     588,694,307    \n5    202107  경상남도  전체(시 / 군 / 구)  교육용      1,688      38,433,192    \n6    202107  경상남도  전체(시 / 군 / 구)  산업용     38,734   1,741,737,513    \n7    202107  경상남도  전체(시 / 군 / 구)  농사용    223,843     162,332,879    \n..      ...   ...            ...  ...         ...             ...   \n907  202112  경상남도            합천군  산업용        869       7,044,225    \n908  202112  경상남도            합천군  심 야      1,907       3,316,112    \n909  202112  경상남도            합천군  일반용      4,114       9,434,680    \n910  202112  경상남도            합천군  주택용     30,687       4,863,301    \n911  202112  경상남도            합천군   합계     58,062      38,955,857    \n\n              전기요금(원) 평균판매단가(원/kWh)  \n3     44,688,454,243         103.1   \n4     85,452,259,132         145.2   \n5      4,627,291,531         120.4   \n6    220,786,360,826         126.8   \n7      7,718,426,288          47.5   \n..                ...           ...  \n907      925,423,951         131.4   \n908      249,730,781          75.3   \n909    1,360,014,147         144.2   \n910      585,733,386         120.4   \n911    3,904,511,583         100.2   \n\n[908 rows x 8 columns]",
      "text/html": "<div>\n<style scoped>\n    .dataframe tbody tr th:only-of-type {\n        vertical-align: middle;\n    }\n\n    .dataframe tbody tr th {\n        vertical-align: top;\n    }\n\n    .dataframe thead th {\n        text-align: right;\n    }\n</style>\n<table border=\"1\" class=\"dataframe\">\n  <thead>\n    <tr style=\"text-align: right;\">\n      <th></th>\n      <th>년월</th>\n      <th>시구</th>\n      <th>시군구</th>\n      <th>계약구분</th>\n      <th>고객호수(호)</th>\n      <th>사용량(kWh)</th>\n      <th>전기요금(원)</th>\n      <th>평균판매단가(원/kWh)</th>\n    </tr>\n  </thead>\n  <tbody>\n    <tr>\n      <th>3</th>\n      <td>202107</td>\n      <td>경상남도</td>\n      <td>전체(시 / 군 / 구)</td>\n      <td>주택용</td>\n      <td>1,184,603</td>\n      <td>433,513,289</td>\n      <td>44,688,454,243</td>\n      <td>103.1</td>\n    </tr>\n    <tr>\n      <th>4</th>\n      <td>202107</td>\n      <td>경상남도</td>\n      <td>전체(시 / 군 / 구)</td>\n      <td>일반용</td>\n      <td>227,132</td>\n      <td>588,694,307</td>\n      <td>85,452,259,132</td>\n      <td>145.2</td>\n    </tr>\n    <tr>\n      <th>5</th>\n      <td>202107</td>\n      <td>경상남도</td>\n      <td>전체(시 / 군 / 구)</td>\n      <td>교육용</td>\n      <td>1,688</td>\n      <td>38,433,192</td>\n      <td>4,627,291,531</td>\n      <td>120.4</td>\n    </tr>\n    <tr>\n      <th>6</th>\n      <td>202107</td>\n      <td>경상남도</td>\n      <td>전체(시 / 군 / 구)</td>\n      <td>산업용</td>\n      <td>38,734</td>\n      <td>1,741,737,513</td>\n      <td>220,786,360,826</td>\n      <td>126.8</td>\n    </tr>\n    <tr>\n      <th>7</th>\n      <td>202107</td>\n      <td>경상남도</td>\n      <td>전체(시 / 군 / 구)</td>\n      <td>농사용</td>\n      <td>223,843</td>\n      <td>162,332,879</td>\n      <td>7,718,426,288</td>\n      <td>47.5</td>\n    </tr>\n    <tr>\n      <th>...</th>\n      <td>...</td>\n      <td>...</td>\n      <td>...</td>\n      <td>...</td>\n      <td>...</td>\n      <td>...</td>\n      <td>...</td>\n      <td>...</td>\n    </tr>\n    <tr>\n      <th>907</th>\n      <td>202112</td>\n      <td>경상남도</td>\n      <td>합천군</td>\n      <td>산업용</td>\n      <td>869</td>\n      <td>7,044,225</td>\n      <td>925,423,951</td>\n      <td>131.4</td>\n    </tr>\n    <tr>\n      <th>908</th>\n      <td>202112</td>\n      <td>경상남도</td>\n      <td>합천군</td>\n      <td>심 야</td>\n      <td>1,907</td>\n      <td>3,316,112</td>\n      <td>249,730,781</td>\n      <td>75.3</td>\n    </tr>\n    <tr>\n      <th>909</th>\n      <td>202112</td>\n      <td>경상남도</td>\n      <td>합천군</td>\n      <td>일반용</td>\n      <td>4,114</td>\n      <td>9,434,680</td>\n      <td>1,360,014,147</td>\n      <td>144.2</td>\n    </tr>\n    <tr>\n      <th>910</th>\n      <td>202112</td>\n      <td>경상남도</td>\n      <td>합천군</td>\n      <td>주택용</td>\n      <td>30,687</td>\n      <td>4,863,301</td>\n      <td>585,733,386</td>\n      <td>120.4</td>\n    </tr>\n    <tr>\n      <th>911</th>\n      <td>202112</td>\n      <td>경상남도</td>\n      <td>합천군</td>\n      <td>합계</td>\n      <td>58,062</td>\n      <td>38,955,857</td>\n      <td>3,904,511,583</td>\n      <td>100.2</td>\n    </tr>\n  </tbody>\n</table>\n<p>908 rows × 8 columns</p>\n</div>"
     },
     "execution_count": 5,
     "metadata": {},
     "output_type": "execute_result"
    }
   ],
   "source": [
    "df.columns = a\n",
    "df"
   ],
   "metadata": {
    "collapsed": false,
    "pycharm": {
     "name": "#%%\n"
    }
   }
  },
  {
   "cell_type": "code",
   "execution_count": 6,
   "outputs": [
    {
     "data": {
      "text/plain": "        년월    시구            시군구 계약구분     고객호수(호)        사용량(kWh)  \\\n3   202107  경상남도  전체(시 / 군 / 구)  주택용  1,184,603     433,513,289    \n4   202107  경상남도  전체(시 / 군 / 구)  일반용    227,132     588,694,307    \n5   202107  경상남도  전체(시 / 군 / 구)  교육용      1,688      38,433,192    \n6   202107  경상남도  전체(시 / 군 / 구)  산업용     38,734   1,741,737,513    \n7   202107  경상남도  전체(시 / 군 / 구)  농사용    223,843     162,332,879    \n8   202107  경상남도  전체(시 / 군 / 구)  가로등    191,779      21,006,652    \n9   202107  경상남도  전체(시 / 군 / 구)  심 야     79,767      22,893,333    \n10  202108  경상남도  전체(시 / 군 / 구)  주택용  1,184,518     558,062,475    \n11  202108  경상남도  전체(시 / 군 / 구)  일반용    227,740     673,798,680    \n12  202108  경상남도  전체(시 / 군 / 구)  교육용      1,687      32,791,022    \n13  202108  경상남도  전체(시 / 군 / 구)  산업용     38,789   1,609,305,075    \n14  202108  경상남도  전체(시 / 군 / 구)  농사용    224,743     213,493,427    \n15  202108  경상남도  전체(시 / 군 / 구)  가로등    192,170      22,441,762    \n16  202108  경상남도  전체(시 / 군 / 구)  심 야     79,498      18,925,346    \n17  202109  경상남도  전체(시 / 군 / 구)  주택용  1,185,192     450,798,758    \n18  202109  경상남도  전체(시 / 군 / 구)  일반용    228,228     591,530,381    \n19  202109  경상남도  전체(시 / 군 / 구)  교육용      1,687      36,074,910    \n20  202109  경상남도  전체(시 / 군 / 구)  산업용     38,829   1,603,090,084    \n21  202109  경상남도  전체(시 / 군 / 구)  농사용    225,365     182,758,592    \n22  202109  경상남도  전체(시 / 군 / 구)  가로등    192,715      22,568,394    \n23  202109  경상남도  전체(시 / 군 / 구)  심 야     79,088      19,625,035    \n24  202110  경상남도  전체(시 / 군 / 구)  주택용  1,185,705     384,713,785    \n25  202110  경상남도  전체(시 / 군 / 구)  일반용    228,403     521,048,880    \n26  202110  경상남도  전체(시 / 군 / 구)  교육용      1,687      32,161,090    \n27  202110  경상남도  전체(시 / 군 / 구)  산업용     38,861   1,565,273,242    \n28  202110  경상남도  전체(시 / 군 / 구)  농사용    226,249     147,142,224    \n29  202110  경상남도  전체(시 / 군 / 구)  가로등    192,809      24,012,626    \n30  202110  경상남도  전체(시 / 군 / 구)  심 야     78,868      23,522,276    \n31  202111  경상남도  전체(시 / 군 / 구)  주택용  1,186,263     389,238,220    \n32  202111  경상남도  전체(시 / 군 / 구)  일반용    229,082     510,152,475    \n33  202111  경상남도  전체(시 / 군 / 구)  교육용      1,687      35,542,717    \n34  202111  경상남도  전체(시 / 군 / 구)  산업용     38,878   1,649,394,054    \n35  202111  경상남도  전체(시 / 군 / 구)  농사용    252,911     205,094,057    \n36  202111  경상남도  전체(시 / 군 / 구)  가로등    194,140      25,340,535    \n37  202111  경상남도  전체(시 / 군 / 구)  심 야     78,682      54,161,236    \n38  202112  경상남도  전체(시 / 군 / 구)  주택용  1,186,322     408,114,504    \n39  202112  경상남도  전체(시 / 군 / 구)  일반용    229,832     566,264,988    \n40  202112  경상남도  전체(시 / 군 / 구)  교육용      1,688      47,860,393    \n41  202112  경상남도  전체(시 / 군 / 구)  산업용     38,854   1,723,183,332    \n42  202112  경상남도  전체(시 / 군 / 구)  농사용    228,537     276,604,766    \n43  202112  경상남도  전체(시 / 군 / 구)  가로등    194,814      26,024,660    \n44  202112  경상남도  전체(시 / 군 / 구)  심 야     78,384      85,956,885    \n45      합계    합계             합계   합계  11,740,451  17,744,682,051   \n\n              전기요금(원) 평균판매단가(원/kWh)  \n3     44,688,454,243         103.1   \n4     85,452,259,132         145.2   \n5      4,627,291,531         120.4   \n6    220,786,360,826         126.8   \n7      7,718,426,288          47.5   \n8      2,566,096,122         122.2   \n9      1,270,715,264          55.5   \n10    63,510,089,900         113.8   \n11    94,434,413,376         140.2   \n12     4,211,950,680         128.4   \n13   202,535,119,271         125.9   \n14     9,682,932,355          45.4   \n15     2,634,064,312         117.4   \n16     1,074,943,422          56.8   \n17    47,162,154,023         104.6   \n18    75,190,699,149         127.1   \n19     3,888,241,059         107.8   \n20   167,601,438,130         104.5   \n21     8,555,667,458          46.8   \n22     2,608,721,302         115.6   \n23     1,090,076,901          55.5   \n24    40,916,335,972         106.4   \n25    60,427,993,622         116.0   \n26     3,180,951,487          98.9   \n27   159,412,855,558         101.8   \n28     7,722,667,339          52.5   \n29     2,719,703,492         113.3   \n30     1,341,983,706          57.1   \n31    42,221,893,316         108.5   \n32    67,143,983,544         131.6   \n33     3,865,362,917         108.8   \n34   201,730,168,265         122.3   \n35    10,201,327,224          49.7   \n36     2,810,520,498         110.9   \n37     3,500,026,130          64.6   \n38    45,302,147,516         111.0   \n39    79,543,569,067         140.5   \n40     5,089,276,119         106.3   \n41   214,500,758,649         124.5   \n42    13,704,182,844          49.5   \n43     2,818,350,526         108.3   \n44     6,492,280,113          75.5   \n45  2,025,936,452,648         114.2  ",
      "text/html": "<div>\n<style scoped>\n    .dataframe tbody tr th:only-of-type {\n        vertical-align: middle;\n    }\n\n    .dataframe tbody tr th {\n        vertical-align: top;\n    }\n\n    .dataframe thead th {\n        text-align: right;\n    }\n</style>\n<table border=\"1\" class=\"dataframe\">\n  <thead>\n    <tr style=\"text-align: right;\">\n      <th></th>\n      <th>년월</th>\n      <th>시구</th>\n      <th>시군구</th>\n      <th>계약구분</th>\n      <th>고객호수(호)</th>\n      <th>사용량(kWh)</th>\n      <th>전기요금(원)</th>\n      <th>평균판매단가(원/kWh)</th>\n    </tr>\n  </thead>\n  <tbody>\n    <tr>\n      <th>3</th>\n      <td>202107</td>\n      <td>경상남도</td>\n      <td>전체(시 / 군 / 구)</td>\n      <td>주택용</td>\n      <td>1,184,603</td>\n      <td>433,513,289</td>\n      <td>44,688,454,243</td>\n      <td>103.1</td>\n    </tr>\n    <tr>\n      <th>4</th>\n      <td>202107</td>\n      <td>경상남도</td>\n      <td>전체(시 / 군 / 구)</td>\n      <td>일반용</td>\n      <td>227,132</td>\n      <td>588,694,307</td>\n      <td>85,452,259,132</td>\n      <td>145.2</td>\n    </tr>\n    <tr>\n      <th>5</th>\n      <td>202107</td>\n      <td>경상남도</td>\n      <td>전체(시 / 군 / 구)</td>\n      <td>교육용</td>\n      <td>1,688</td>\n      <td>38,433,192</td>\n      <td>4,627,291,531</td>\n      <td>120.4</td>\n    </tr>\n    <tr>\n      <th>6</th>\n      <td>202107</td>\n      <td>경상남도</td>\n      <td>전체(시 / 군 / 구)</td>\n      <td>산업용</td>\n      <td>38,734</td>\n      <td>1,741,737,513</td>\n      <td>220,786,360,826</td>\n      <td>126.8</td>\n    </tr>\n    <tr>\n      <th>7</th>\n      <td>202107</td>\n      <td>경상남도</td>\n      <td>전체(시 / 군 / 구)</td>\n      <td>농사용</td>\n      <td>223,843</td>\n      <td>162,332,879</td>\n      <td>7,718,426,288</td>\n      <td>47.5</td>\n    </tr>\n    <tr>\n      <th>8</th>\n      <td>202107</td>\n      <td>경상남도</td>\n      <td>전체(시 / 군 / 구)</td>\n      <td>가로등</td>\n      <td>191,779</td>\n      <td>21,006,652</td>\n      <td>2,566,096,122</td>\n      <td>122.2</td>\n    </tr>\n    <tr>\n      <th>9</th>\n      <td>202107</td>\n      <td>경상남도</td>\n      <td>전체(시 / 군 / 구)</td>\n      <td>심 야</td>\n      <td>79,767</td>\n      <td>22,893,333</td>\n      <td>1,270,715,264</td>\n      <td>55.5</td>\n    </tr>\n    <tr>\n      <th>10</th>\n      <td>202108</td>\n      <td>경상남도</td>\n      <td>전체(시 / 군 / 구)</td>\n      <td>주택용</td>\n      <td>1,184,518</td>\n      <td>558,062,475</td>\n      <td>63,510,089,900</td>\n      <td>113.8</td>\n    </tr>\n    <tr>\n      <th>11</th>\n      <td>202108</td>\n      <td>경상남도</td>\n      <td>전체(시 / 군 / 구)</td>\n      <td>일반용</td>\n      <td>227,740</td>\n      <td>673,798,680</td>\n      <td>94,434,413,376</td>\n      <td>140.2</td>\n    </tr>\n    <tr>\n      <th>12</th>\n      <td>202108</td>\n      <td>경상남도</td>\n      <td>전체(시 / 군 / 구)</td>\n      <td>교육용</td>\n      <td>1,687</td>\n      <td>32,791,022</td>\n      <td>4,211,950,680</td>\n      <td>128.4</td>\n    </tr>\n    <tr>\n      <th>13</th>\n      <td>202108</td>\n      <td>경상남도</td>\n      <td>전체(시 / 군 / 구)</td>\n      <td>산업용</td>\n      <td>38,789</td>\n      <td>1,609,305,075</td>\n      <td>202,535,119,271</td>\n      <td>125.9</td>\n    </tr>\n    <tr>\n      <th>14</th>\n      <td>202108</td>\n      <td>경상남도</td>\n      <td>전체(시 / 군 / 구)</td>\n      <td>농사용</td>\n      <td>224,743</td>\n      <td>213,493,427</td>\n      <td>9,682,932,355</td>\n      <td>45.4</td>\n    </tr>\n    <tr>\n      <th>15</th>\n      <td>202108</td>\n      <td>경상남도</td>\n      <td>전체(시 / 군 / 구)</td>\n      <td>가로등</td>\n      <td>192,170</td>\n      <td>22,441,762</td>\n      <td>2,634,064,312</td>\n      <td>117.4</td>\n    </tr>\n    <tr>\n      <th>16</th>\n      <td>202108</td>\n      <td>경상남도</td>\n      <td>전체(시 / 군 / 구)</td>\n      <td>심 야</td>\n      <td>79,498</td>\n      <td>18,925,346</td>\n      <td>1,074,943,422</td>\n      <td>56.8</td>\n    </tr>\n    <tr>\n      <th>17</th>\n      <td>202109</td>\n      <td>경상남도</td>\n      <td>전체(시 / 군 / 구)</td>\n      <td>주택용</td>\n      <td>1,185,192</td>\n      <td>450,798,758</td>\n      <td>47,162,154,023</td>\n      <td>104.6</td>\n    </tr>\n    <tr>\n      <th>18</th>\n      <td>202109</td>\n      <td>경상남도</td>\n      <td>전체(시 / 군 / 구)</td>\n      <td>일반용</td>\n      <td>228,228</td>\n      <td>591,530,381</td>\n      <td>75,190,699,149</td>\n      <td>127.1</td>\n    </tr>\n    <tr>\n      <th>19</th>\n      <td>202109</td>\n      <td>경상남도</td>\n      <td>전체(시 / 군 / 구)</td>\n      <td>교육용</td>\n      <td>1,687</td>\n      <td>36,074,910</td>\n      <td>3,888,241,059</td>\n      <td>107.8</td>\n    </tr>\n    <tr>\n      <th>20</th>\n      <td>202109</td>\n      <td>경상남도</td>\n      <td>전체(시 / 군 / 구)</td>\n      <td>산업용</td>\n      <td>38,829</td>\n      <td>1,603,090,084</td>\n      <td>167,601,438,130</td>\n      <td>104.5</td>\n    </tr>\n    <tr>\n      <th>21</th>\n      <td>202109</td>\n      <td>경상남도</td>\n      <td>전체(시 / 군 / 구)</td>\n      <td>농사용</td>\n      <td>225,365</td>\n      <td>182,758,592</td>\n      <td>8,555,667,458</td>\n      <td>46.8</td>\n    </tr>\n    <tr>\n      <th>22</th>\n      <td>202109</td>\n      <td>경상남도</td>\n      <td>전체(시 / 군 / 구)</td>\n      <td>가로등</td>\n      <td>192,715</td>\n      <td>22,568,394</td>\n      <td>2,608,721,302</td>\n      <td>115.6</td>\n    </tr>\n    <tr>\n      <th>23</th>\n      <td>202109</td>\n      <td>경상남도</td>\n      <td>전체(시 / 군 / 구)</td>\n      <td>심 야</td>\n      <td>79,088</td>\n      <td>19,625,035</td>\n      <td>1,090,076,901</td>\n      <td>55.5</td>\n    </tr>\n    <tr>\n      <th>24</th>\n      <td>202110</td>\n      <td>경상남도</td>\n      <td>전체(시 / 군 / 구)</td>\n      <td>주택용</td>\n      <td>1,185,705</td>\n      <td>384,713,785</td>\n      <td>40,916,335,972</td>\n      <td>106.4</td>\n    </tr>\n    <tr>\n      <th>25</th>\n      <td>202110</td>\n      <td>경상남도</td>\n      <td>전체(시 / 군 / 구)</td>\n      <td>일반용</td>\n      <td>228,403</td>\n      <td>521,048,880</td>\n      <td>60,427,993,622</td>\n      <td>116.0</td>\n    </tr>\n    <tr>\n      <th>26</th>\n      <td>202110</td>\n      <td>경상남도</td>\n      <td>전체(시 / 군 / 구)</td>\n      <td>교육용</td>\n      <td>1,687</td>\n      <td>32,161,090</td>\n      <td>3,180,951,487</td>\n      <td>98.9</td>\n    </tr>\n    <tr>\n      <th>27</th>\n      <td>202110</td>\n      <td>경상남도</td>\n      <td>전체(시 / 군 / 구)</td>\n      <td>산업용</td>\n      <td>38,861</td>\n      <td>1,565,273,242</td>\n      <td>159,412,855,558</td>\n      <td>101.8</td>\n    </tr>\n    <tr>\n      <th>28</th>\n      <td>202110</td>\n      <td>경상남도</td>\n      <td>전체(시 / 군 / 구)</td>\n      <td>농사용</td>\n      <td>226,249</td>\n      <td>147,142,224</td>\n      <td>7,722,667,339</td>\n      <td>52.5</td>\n    </tr>\n    <tr>\n      <th>29</th>\n      <td>202110</td>\n      <td>경상남도</td>\n      <td>전체(시 / 군 / 구)</td>\n      <td>가로등</td>\n      <td>192,809</td>\n      <td>24,012,626</td>\n      <td>2,719,703,492</td>\n      <td>113.3</td>\n    </tr>\n    <tr>\n      <th>30</th>\n      <td>202110</td>\n      <td>경상남도</td>\n      <td>전체(시 / 군 / 구)</td>\n      <td>심 야</td>\n      <td>78,868</td>\n      <td>23,522,276</td>\n      <td>1,341,983,706</td>\n      <td>57.1</td>\n    </tr>\n    <tr>\n      <th>31</th>\n      <td>202111</td>\n      <td>경상남도</td>\n      <td>전체(시 / 군 / 구)</td>\n      <td>주택용</td>\n      <td>1,186,263</td>\n      <td>389,238,220</td>\n      <td>42,221,893,316</td>\n      <td>108.5</td>\n    </tr>\n    <tr>\n      <th>32</th>\n      <td>202111</td>\n      <td>경상남도</td>\n      <td>전체(시 / 군 / 구)</td>\n      <td>일반용</td>\n      <td>229,082</td>\n      <td>510,152,475</td>\n      <td>67,143,983,544</td>\n      <td>131.6</td>\n    </tr>\n    <tr>\n      <th>33</th>\n      <td>202111</td>\n      <td>경상남도</td>\n      <td>전체(시 / 군 / 구)</td>\n      <td>교육용</td>\n      <td>1,687</td>\n      <td>35,542,717</td>\n      <td>3,865,362,917</td>\n      <td>108.8</td>\n    </tr>\n    <tr>\n      <th>34</th>\n      <td>202111</td>\n      <td>경상남도</td>\n      <td>전체(시 / 군 / 구)</td>\n      <td>산업용</td>\n      <td>38,878</td>\n      <td>1,649,394,054</td>\n      <td>201,730,168,265</td>\n      <td>122.3</td>\n    </tr>\n    <tr>\n      <th>35</th>\n      <td>202111</td>\n      <td>경상남도</td>\n      <td>전체(시 / 군 / 구)</td>\n      <td>농사용</td>\n      <td>252,911</td>\n      <td>205,094,057</td>\n      <td>10,201,327,224</td>\n      <td>49.7</td>\n    </tr>\n    <tr>\n      <th>36</th>\n      <td>202111</td>\n      <td>경상남도</td>\n      <td>전체(시 / 군 / 구)</td>\n      <td>가로등</td>\n      <td>194,140</td>\n      <td>25,340,535</td>\n      <td>2,810,520,498</td>\n      <td>110.9</td>\n    </tr>\n    <tr>\n      <th>37</th>\n      <td>202111</td>\n      <td>경상남도</td>\n      <td>전체(시 / 군 / 구)</td>\n      <td>심 야</td>\n      <td>78,682</td>\n      <td>54,161,236</td>\n      <td>3,500,026,130</td>\n      <td>64.6</td>\n    </tr>\n    <tr>\n      <th>38</th>\n      <td>202112</td>\n      <td>경상남도</td>\n      <td>전체(시 / 군 / 구)</td>\n      <td>주택용</td>\n      <td>1,186,322</td>\n      <td>408,114,504</td>\n      <td>45,302,147,516</td>\n      <td>111.0</td>\n    </tr>\n    <tr>\n      <th>39</th>\n      <td>202112</td>\n      <td>경상남도</td>\n      <td>전체(시 / 군 / 구)</td>\n      <td>일반용</td>\n      <td>229,832</td>\n      <td>566,264,988</td>\n      <td>79,543,569,067</td>\n      <td>140.5</td>\n    </tr>\n    <tr>\n      <th>40</th>\n      <td>202112</td>\n      <td>경상남도</td>\n      <td>전체(시 / 군 / 구)</td>\n      <td>교육용</td>\n      <td>1,688</td>\n      <td>47,860,393</td>\n      <td>5,089,276,119</td>\n      <td>106.3</td>\n    </tr>\n    <tr>\n      <th>41</th>\n      <td>202112</td>\n      <td>경상남도</td>\n      <td>전체(시 / 군 / 구)</td>\n      <td>산업용</td>\n      <td>38,854</td>\n      <td>1,723,183,332</td>\n      <td>214,500,758,649</td>\n      <td>124.5</td>\n    </tr>\n    <tr>\n      <th>42</th>\n      <td>202112</td>\n      <td>경상남도</td>\n      <td>전체(시 / 군 / 구)</td>\n      <td>농사용</td>\n      <td>228,537</td>\n      <td>276,604,766</td>\n      <td>13,704,182,844</td>\n      <td>49.5</td>\n    </tr>\n    <tr>\n      <th>43</th>\n      <td>202112</td>\n      <td>경상남도</td>\n      <td>전체(시 / 군 / 구)</td>\n      <td>가로등</td>\n      <td>194,814</td>\n      <td>26,024,660</td>\n      <td>2,818,350,526</td>\n      <td>108.3</td>\n    </tr>\n    <tr>\n      <th>44</th>\n      <td>202112</td>\n      <td>경상남도</td>\n      <td>전체(시 / 군 / 구)</td>\n      <td>심 야</td>\n      <td>78,384</td>\n      <td>85,956,885</td>\n      <td>6,492,280,113</td>\n      <td>75.5</td>\n    </tr>\n    <tr>\n      <th>45</th>\n      <td>합계</td>\n      <td>합계</td>\n      <td>합계</td>\n      <td>합계</td>\n      <td>11,740,451</td>\n      <td>17,744,682,051</td>\n      <td>2,025,936,452,648</td>\n      <td>114.2</td>\n    </tr>\n  </tbody>\n</table>\n</div>"
     },
     "execution_count": 6,
     "metadata": {},
     "output_type": "execute_result"
    }
   ],
   "source": [
    "df_2 = df.loc[:45]\n",
    "df_2\n"
   ],
   "metadata": {
    "collapsed": false,
    "pycharm": {
     "name": "#%%\n"
    }
   }
  },
  {
   "cell_type": "code",
   "execution_count": 7,
   "outputs": [
    {
     "name": "stderr",
     "output_type": "stream",
     "text": [
      "C:\\Users\\user\\AppData\\Local\\Temp\\ipykernel_20748\\3551721261.py:3: SettingWithCopyWarning: \n",
      "A value is trying to be set on a copy of a slice from a DataFrame\n",
      "\n",
      "See the caveats in the documentation: https://pandas.pydata.org/pandas-docs/stable/user_guide/indexing.html#returning-a-view-versus-a-copy\n",
      "  GyeonGi.drop(['시군구' , '전기요금(원)' , '평균판매단가(원/kWh)'] , axis = 1 , inplace = True)\n"
     ]
    },
    {
     "data": {
      "text/plain": "        년월    시구 계약구분   고객호수(호)      사용량(kWh)\n4   202107  경상남도  일반용  227,132   588,694,307 \n11  202108  경상남도  일반용  227,740   673,798,680 \n18  202109  경상남도  일반용  228,228   591,530,381 \n25  202110  경상남도  일반용  228,403   521,048,880 \n32  202111  경상남도  일반용  229,082   510,152,475 \n39  202112  경상남도  일반용  229,832   566,264,988 ",
      "text/html": "<div>\n<style scoped>\n    .dataframe tbody tr th:only-of-type {\n        vertical-align: middle;\n    }\n\n    .dataframe tbody tr th {\n        vertical-align: top;\n    }\n\n    .dataframe thead th {\n        text-align: right;\n    }\n</style>\n<table border=\"1\" class=\"dataframe\">\n  <thead>\n    <tr style=\"text-align: right;\">\n      <th></th>\n      <th>년월</th>\n      <th>시구</th>\n      <th>계약구분</th>\n      <th>고객호수(호)</th>\n      <th>사용량(kWh)</th>\n    </tr>\n  </thead>\n  <tbody>\n    <tr>\n      <th>4</th>\n      <td>202107</td>\n      <td>경상남도</td>\n      <td>일반용</td>\n      <td>227,132</td>\n      <td>588,694,307</td>\n    </tr>\n    <tr>\n      <th>11</th>\n      <td>202108</td>\n      <td>경상남도</td>\n      <td>일반용</td>\n      <td>227,740</td>\n      <td>673,798,680</td>\n    </tr>\n    <tr>\n      <th>18</th>\n      <td>202109</td>\n      <td>경상남도</td>\n      <td>일반용</td>\n      <td>228,228</td>\n      <td>591,530,381</td>\n    </tr>\n    <tr>\n      <th>25</th>\n      <td>202110</td>\n      <td>경상남도</td>\n      <td>일반용</td>\n      <td>228,403</td>\n      <td>521,048,880</td>\n    </tr>\n    <tr>\n      <th>32</th>\n      <td>202111</td>\n      <td>경상남도</td>\n      <td>일반용</td>\n      <td>229,082</td>\n      <td>510,152,475</td>\n    </tr>\n    <tr>\n      <th>39</th>\n      <td>202112</td>\n      <td>경상남도</td>\n      <td>일반용</td>\n      <td>229,832</td>\n      <td>566,264,988</td>\n    </tr>\n  </tbody>\n</table>\n</div>"
     },
     "execution_count": 7,
     "metadata": {},
     "output_type": "execute_result"
    }
   ],
   "source": [
    "GyeonGi  = df_2.loc[(df_2['계약구분'] == '일반용')]\n",
    "#SEOUL = df_3.loc[(df_3['계약구분'] =='일반용')]\n",
    "GyeonGi.drop(['시군구' , '전기요금(원)' , '평균판매단가(원/kWh)'] , axis = 1 , inplace = True)\n",
    "GyeonGi"
   ],
   "metadata": {
    "collapsed": false,
    "pycharm": {
     "name": "#%%\n"
    }
   }
  },
  {
   "cell_type": "code",
   "execution_count": 8,
   "outputs": [],
   "source": [
    "#SEOUL1.to_csv(\"서울특별시_계약종별_전국_전력사용량_2022.csv\" , mode = 'w' , encoding= 'cp949')"
   ],
   "metadata": {
    "collapsed": false,
    "pycharm": {
     "name": "#%%\n"
    }
   }
  },
  {
   "cell_type": "code",
   "execution_count": 9,
   "outputs": [],
   "source": [
    "#df_2.to_csv(\"서울특별시_계약종별_전국_전력사용량.csv\" , mode = 'w' , encoding= 'cp949')"
   ],
   "metadata": {
    "collapsed": false,
    "pycharm": {
     "name": "#%%\n"
    }
   }
  },
  {
   "cell_type": "code",
   "execution_count": 10,
   "outputs": [
    {
     "data": {
      "text/plain": "         년월    시구  시군구 계약구분  고객호수(호)     사용량(kWh)\n53   202107  경상남도  거제시  일반용  17,559   41,712,478 \n197  202108  경상남도  거제시  일반용  17,608   47,504,115 \n341  202109  경상남도  거제시  일반용  17,647   41,248,137 \n485  202110  경상남도  거제시  일반용  17,647   36,256,875 \n629  202111  경상남도  거제시  일반용  17,731   34,795,049 \n..      ...   ...  ...  ...      ...          ...\n333  202108  경상남도  합천군  일반용   4,064    8,733,955 \n477  202109  경상남도  합천군  일반용   4,070    7,812,432 \n621  202110  경상남도  합천군  일반용   4,084    7,032,981 \n765  202111  경상남도  합천군  일반용   4,100    8,133,114 \n909  202112  경상남도  합천군  일반용   4,114    9,434,680 \n\n[108 rows x 6 columns]",
      "text/html": "<div>\n<style scoped>\n    .dataframe tbody tr th:only-of-type {\n        vertical-align: middle;\n    }\n\n    .dataframe tbody tr th {\n        vertical-align: top;\n    }\n\n    .dataframe thead th {\n        text-align: right;\n    }\n</style>\n<table border=\"1\" class=\"dataframe\">\n  <thead>\n    <tr style=\"text-align: right;\">\n      <th></th>\n      <th>년월</th>\n      <th>시구</th>\n      <th>시군구</th>\n      <th>계약구분</th>\n      <th>고객호수(호)</th>\n      <th>사용량(kWh)</th>\n    </tr>\n  </thead>\n  <tbody>\n    <tr>\n      <th>53</th>\n      <td>202107</td>\n      <td>경상남도</td>\n      <td>거제시</td>\n      <td>일반용</td>\n      <td>17,559</td>\n      <td>41,712,478</td>\n    </tr>\n    <tr>\n      <th>197</th>\n      <td>202108</td>\n      <td>경상남도</td>\n      <td>거제시</td>\n      <td>일반용</td>\n      <td>17,608</td>\n      <td>47,504,115</td>\n    </tr>\n    <tr>\n      <th>341</th>\n      <td>202109</td>\n      <td>경상남도</td>\n      <td>거제시</td>\n      <td>일반용</td>\n      <td>17,647</td>\n      <td>41,248,137</td>\n    </tr>\n    <tr>\n      <th>485</th>\n      <td>202110</td>\n      <td>경상남도</td>\n      <td>거제시</td>\n      <td>일반용</td>\n      <td>17,647</td>\n      <td>36,256,875</td>\n    </tr>\n    <tr>\n      <th>629</th>\n      <td>202111</td>\n      <td>경상남도</td>\n      <td>거제시</td>\n      <td>일반용</td>\n      <td>17,731</td>\n      <td>34,795,049</td>\n    </tr>\n    <tr>\n      <th>...</th>\n      <td>...</td>\n      <td>...</td>\n      <td>...</td>\n      <td>...</td>\n      <td>...</td>\n      <td>...</td>\n    </tr>\n    <tr>\n      <th>333</th>\n      <td>202108</td>\n      <td>경상남도</td>\n      <td>합천군</td>\n      <td>일반용</td>\n      <td>4,064</td>\n      <td>8,733,955</td>\n    </tr>\n    <tr>\n      <th>477</th>\n      <td>202109</td>\n      <td>경상남도</td>\n      <td>합천군</td>\n      <td>일반용</td>\n      <td>4,070</td>\n      <td>7,812,432</td>\n    </tr>\n    <tr>\n      <th>621</th>\n      <td>202110</td>\n      <td>경상남도</td>\n      <td>합천군</td>\n      <td>일반용</td>\n      <td>4,084</td>\n      <td>7,032,981</td>\n    </tr>\n    <tr>\n      <th>765</th>\n      <td>202111</td>\n      <td>경상남도</td>\n      <td>합천군</td>\n      <td>일반용</td>\n      <td>4,100</td>\n      <td>8,133,114</td>\n    </tr>\n    <tr>\n      <th>909</th>\n      <td>202112</td>\n      <td>경상남도</td>\n      <td>합천군</td>\n      <td>일반용</td>\n      <td>4,114</td>\n      <td>9,434,680</td>\n    </tr>\n  </tbody>\n</table>\n<p>108 rows × 6 columns</p>\n</div>"
     },
     "execution_count": 10,
     "metadata": {},
     "output_type": "execute_result"
    }
   ],
   "source": [
    "df_3 = df.loc[48:]\n",
    "df_3 = df_3.loc[(df_3['계약구분'] == '일반용')]\n",
    "df_3 = df_3.sort_values(by=['시군구' , '년월'])\n",
    "df_3.drop(['전기요금(원)',   '평균판매단가(원/kWh)'] , axis = 1 , inplace = True)\n",
    "df_3"
   ],
   "metadata": {
    "collapsed": false,
    "pycharm": {
     "name": "#%%\n"
    }
   }
  },
  {
   "cell_type": "code",
   "execution_count": 11,
   "outputs": [
    {
     "data": {
      "text/plain": "'경상남도'"
     },
     "execution_count": 11,
     "metadata": {},
     "output_type": "execute_result"
    }
   ],
   "source": [
    "a = df_3.loc[: , \"시구\"]\n",
    "b = a[:1].tolist()\n",
    "for i in b:\n",
    "    City = i\n",
    "City"
   ],
   "metadata": {
    "collapsed": false,
    "pycharm": {
     "name": "#%%\n"
    }
   }
  },
  {
   "cell_type": "code",
   "execution_count": 12,
   "outputs": [
    {
     "data": {
      "text/plain": "['거제시',\n '거창군',\n '고성군',\n '김해시',\n '남해군',\n '밀양시',\n '사천시',\n '산청군',\n '양산시',\n '의령군',\n '진주시',\n '창녕군',\n '창원시',\n '통영시',\n '하동군',\n '함안군',\n '함양군',\n '합천군']"
     },
     "execution_count": 12,
     "metadata": {},
     "output_type": "execute_result"
    }
   ],
   "source": [
    "\n",
    "SIGUNGU = list(set(df_3.loc[: , '시군구'].tolist()))\n",
    "SIGUNGU.sort()\n",
    "SIGUNGU"
   ],
   "metadata": {
    "collapsed": false,
    "pycharm": {
     "name": "#%%\n"
    }
   }
  },
  {
   "cell_type": "code",
   "execution_count": 13,
   "outputs": [
    {
     "data": {
      "text/plain": "         년월    시구  시군구 계약구분   고객호수(호)      사용량(kWh)\n55   202107  경상남도  거제시   합계  126,513   188,633,251 \n199  202108  경상남도  거제시   합계  126,550   194,549,113 \n343  202109  경상남도  거제시   합계  126,639   178,319,674 \n487  202110  경상남도  거제시   합계  126,766   160,134,387 \n631  202111  경상남도  거제시   합계  128,119   152,612,888 \n..      ...   ...  ...  ...       ...           ...\n335  202108  경상남도  합천군   합계   57,823    37,041,550 \n479  202109  경상남도  합천군   합계   58,026    33,598,268 \n623  202110  경상남도  합천군   합계   58,117    29,192,917 \n767  202111  경상남도  합천군   합계   60,388    36,706,020 \n911  202112  경상남도  합천군   합계   58,062    38,955,857 \n\n[108 rows x 6 columns]",
      "text/html": "<div>\n<style scoped>\n    .dataframe tbody tr th:only-of-type {\n        vertical-align: middle;\n    }\n\n    .dataframe tbody tr th {\n        vertical-align: top;\n    }\n\n    .dataframe thead th {\n        text-align: right;\n    }\n</style>\n<table border=\"1\" class=\"dataframe\">\n  <thead>\n    <tr style=\"text-align: right;\">\n      <th></th>\n      <th>년월</th>\n      <th>시구</th>\n      <th>시군구</th>\n      <th>계약구분</th>\n      <th>고객호수(호)</th>\n      <th>사용량(kWh)</th>\n    </tr>\n  </thead>\n  <tbody>\n    <tr>\n      <th>55</th>\n      <td>202107</td>\n      <td>경상남도</td>\n      <td>거제시</td>\n      <td>합계</td>\n      <td>126,513</td>\n      <td>188,633,251</td>\n    </tr>\n    <tr>\n      <th>199</th>\n      <td>202108</td>\n      <td>경상남도</td>\n      <td>거제시</td>\n      <td>합계</td>\n      <td>126,550</td>\n      <td>194,549,113</td>\n    </tr>\n    <tr>\n      <th>343</th>\n      <td>202109</td>\n      <td>경상남도</td>\n      <td>거제시</td>\n      <td>합계</td>\n      <td>126,639</td>\n      <td>178,319,674</td>\n    </tr>\n    <tr>\n      <th>487</th>\n      <td>202110</td>\n      <td>경상남도</td>\n      <td>거제시</td>\n      <td>합계</td>\n      <td>126,766</td>\n      <td>160,134,387</td>\n    </tr>\n    <tr>\n      <th>631</th>\n      <td>202111</td>\n      <td>경상남도</td>\n      <td>거제시</td>\n      <td>합계</td>\n      <td>128,119</td>\n      <td>152,612,888</td>\n    </tr>\n    <tr>\n      <th>...</th>\n      <td>...</td>\n      <td>...</td>\n      <td>...</td>\n      <td>...</td>\n      <td>...</td>\n      <td>...</td>\n    </tr>\n    <tr>\n      <th>335</th>\n      <td>202108</td>\n      <td>경상남도</td>\n      <td>합천군</td>\n      <td>합계</td>\n      <td>57,823</td>\n      <td>37,041,550</td>\n    </tr>\n    <tr>\n      <th>479</th>\n      <td>202109</td>\n      <td>경상남도</td>\n      <td>합천군</td>\n      <td>합계</td>\n      <td>58,026</td>\n      <td>33,598,268</td>\n    </tr>\n    <tr>\n      <th>623</th>\n      <td>202110</td>\n      <td>경상남도</td>\n      <td>합천군</td>\n      <td>합계</td>\n      <td>58,117</td>\n      <td>29,192,917</td>\n    </tr>\n    <tr>\n      <th>767</th>\n      <td>202111</td>\n      <td>경상남도</td>\n      <td>합천군</td>\n      <td>합계</td>\n      <td>60,388</td>\n      <td>36,706,020</td>\n    </tr>\n    <tr>\n      <th>911</th>\n      <td>202112</td>\n      <td>경상남도</td>\n      <td>합천군</td>\n      <td>합계</td>\n      <td>58,062</td>\n      <td>38,955,857</td>\n    </tr>\n  </tbody>\n</table>\n<p>108 rows × 6 columns</p>\n</div>"
     },
     "execution_count": 13,
     "metadata": {},
     "output_type": "execute_result"
    }
   ],
   "source": [
    "df_4 = df.loc[48:]\n",
    "df_4 = df_4.loc[(df_4['계약구분'] == '합계')]\n",
    "df_4 = df_4.sort_values(by=['시군구' , '년월'])\n",
    "df_4.drop(['전기요금(원)',   '평균판매단가(원/kWh)'] , axis = 1 , inplace = True)\n",
    "df_4"
   ],
   "metadata": {
    "collapsed": false,
    "pycharm": {
     "name": "#%%\n"
    }
   }
  },
  {
   "cell_type": "code",
   "execution_count": 14,
   "outputs": [
    {
     "name": "stdout",
     "output_type": "stream",
     "text": [
      "[188633251, 194549113, 178319674, 160134387, 152612888, 166919548]\n",
      "[37020056, 42206401, 39628481, 36021460, 39101245, 41625162]\n",
      "[55845322, 69618623, 69850746, 61630055, 66076672, 66348416]\n",
      "[459636006, 475954998, 457266168, 409451340, 440879728, 475215539]\n",
      "[21590143, 28279514, 24588435, 21143593, 22826749, 23723059]\n",
      "[92349797, 103330950, 94448259, 88497678, 100524724, 126649305]\n",
      "[121262230, 125688670, 117683656, 111417104, 116019409, 123964789]\n",
      "[26015161, 31420341, 28770450, 25072609, 31254717, 33857177]\n",
      "[334456932, 338941005, 314871641, 297926703, 307096954, 327303120]\n",
      "[31626330, 35032892, 31843221, 29169323, 33848103, 36960517]\n",
      "[213332758, 234640218, 215279224, 192850052, 213278140, 257863463]\n",
      "[88869388, 90183915, 81081949, 75465908, 85193650, 95969541]\n",
      "[941864358, 928000091, 863297874, 831331961, 848738297, 919817434]\n",
      "[77139473, 94181183, 80436283, 72089094, 73723403, 83070181]\n",
      "[27217209, 31086843, 31238751, 30805848, 35565586, 38849492]\n",
      "[237931811, 242454184, 218088574, 202939078, 240115084, 250281013]\n",
      "[21782525, 26207296, 26154500, 22735013, 25361925, 26635915]\n",
      "[32038415, 37041550, 33598268, 29192917, 36706020, 38955857]\n",
      "경상남도 지역별 합계 :  [1041168861, 235602805, 389369834, 2718403779, 142151493, 605800713, 716035858, 176390455, 1920596355, 198480386, 1327243855, 516764351, 5333050015, 480639617, 194763729, 1391809744, 148877174, 207533027]\n",
      "경상남도 고객호수 평균:  [21153, 10464, 9803, 35050, 8980, 18185, 13841, 8516, 21243, 6339, 33976, 11274, 76089, 14124, 9810, 9758, 7786, 9723]\n"
     ]
    }
   ],
   "source": [
    "sum2 , sum3 =[] , []\n",
    "for k in SIGUNGU:\n",
    "    GyeonGiHap = pd.DataFrame([] , columns = a)\n",
    "    HOSU = pd.DataFrame([], columns = a)\n",
    "    GyeonGiHap['사용량']= df_4['사용량(kWh)'].loc[(df_4['시군구'] == '{}'.format(k))]\n",
    "    HOSU['고객호수']= df_4['고객호수(호)'].loc[(df_4['시군구'] == '{}'.format(k))]\n",
    "    #경기합 데이터프레임의 사용량 열에 기군구가 가평군인 사용량 데이터만 뽑아내기\n",
    "    # GyeonGiHap = GyeonGiHap['사용량']\n",
    "\n",
    "    b = GyeonGiHap['사용량'].tolist()\n",
    "    c = HOSU['고객호수'].tolist()\n",
    "\n",
    "\n",
    "    #각지역별 사용량 리스트화\n",
    "    int_list  , int_list2=[] , []\n",
    "    for i in b:\n",
    "        i = re.sub(\",\" , \"\" , i)\n",
    "        #콤마 없애기\n",
    "        int_list.append(int(i))\n",
    "        #int_list에 각지역별 사용량 int로 저장\n",
    "    print(int_list)\n",
    "    sum=0\n",
    "    for i in c:\n",
    "        i = re.sub(\",\" , \"\" , i)\n",
    "        int_list2.append(int(i))\n",
    "\n",
    "    for j in int_list:\n",
    "\n",
    "        sum+= j\n",
    "    sum2.append(sum)\n",
    "    sum = 0\n",
    "    for j in int_list2: #고객호수 추출하여 더하기\n",
    "\n",
    "        sum+= j\n",
    "    sum3.append(sum//36) #6개월 치로 나눠야하나?!\n",
    "\n",
    "\n",
    "\n",
    "\n",
    "print(\"{} 지역별 합계 : \".format(City) , sum2)\n",
    "print(\"{} 고객호수 평균: \".format(City) , sum3)"
   ],
   "metadata": {
    "collapsed": false,
    "pycharm": {
     "name": "#%%\n"
    }
   }
  },
  {
   "cell_type": "markdown",
   "source": [
    "### 2. 날짜 체크!!!!!!!!!!!!!!!!!!!!!!!!!!!!!!!!!!!!!!!!!!!!!!"
   ],
   "metadata": {
    "collapsed": false,
    "pycharm": {
     "name": "#%% md\n"
    }
   }
  },
  {
   "cell_type": "code",
   "execution_count": 15,
   "outputs": [
    {
     "name": "stderr",
     "output_type": "stream",
     "text": [
      "C:\\Users\\user\\AppData\\Local\\Temp\\ipykernel_20748\\895775541.py:4: FutureWarning: The frame.append method is deprecated and will be removed from pandas in a future version. Use pandas.concat instead.\n",
      "  Hap = Hap.append({'년월' :'202107-202112'  , '시구' : '{}'.format(City) , '시군구' : '{}'.format(SIGUNGU[i]) , '계약구분' : '합계' , '고객호수(호)' : sum3[i] ,  '사용량(kWh)' : sum2[i]} , ignore_index=True) #년월 파일마다 수정하기\n",
      "C:\\Users\\user\\AppData\\Local\\Temp\\ipykernel_20748\\895775541.py:4: FutureWarning: The frame.append method is deprecated and will be removed from pandas in a future version. Use pandas.concat instead.\n",
      "  Hap = Hap.append({'년월' :'202107-202112'  , '시구' : '{}'.format(City) , '시군구' : '{}'.format(SIGUNGU[i]) , '계약구분' : '합계' , '고객호수(호)' : sum3[i] ,  '사용량(kWh)' : sum2[i]} , ignore_index=True) #년월 파일마다 수정하기\n",
      "C:\\Users\\user\\AppData\\Local\\Temp\\ipykernel_20748\\895775541.py:4: FutureWarning: The frame.append method is deprecated and will be removed from pandas in a future version. Use pandas.concat instead.\n",
      "  Hap = Hap.append({'년월' :'202107-202112'  , '시구' : '{}'.format(City) , '시군구' : '{}'.format(SIGUNGU[i]) , '계약구분' : '합계' , '고객호수(호)' : sum3[i] ,  '사용량(kWh)' : sum2[i]} , ignore_index=True) #년월 파일마다 수정하기\n",
      "C:\\Users\\user\\AppData\\Local\\Temp\\ipykernel_20748\\895775541.py:4: FutureWarning: The frame.append method is deprecated and will be removed from pandas in a future version. Use pandas.concat instead.\n",
      "  Hap = Hap.append({'년월' :'202107-202112'  , '시구' : '{}'.format(City) , '시군구' : '{}'.format(SIGUNGU[i]) , '계약구분' : '합계' , '고객호수(호)' : sum3[i] ,  '사용량(kWh)' : sum2[i]} , ignore_index=True) #년월 파일마다 수정하기\n",
      "C:\\Users\\user\\AppData\\Local\\Temp\\ipykernel_20748\\895775541.py:4: FutureWarning: The frame.append method is deprecated and will be removed from pandas in a future version. Use pandas.concat instead.\n",
      "  Hap = Hap.append({'년월' :'202107-202112'  , '시구' : '{}'.format(City) , '시군구' : '{}'.format(SIGUNGU[i]) , '계약구분' : '합계' , '고객호수(호)' : sum3[i] ,  '사용량(kWh)' : sum2[i]} , ignore_index=True) #년월 파일마다 수정하기\n",
      "C:\\Users\\user\\AppData\\Local\\Temp\\ipykernel_20748\\895775541.py:4: FutureWarning: The frame.append method is deprecated and will be removed from pandas in a future version. Use pandas.concat instead.\n",
      "  Hap = Hap.append({'년월' :'202107-202112'  , '시구' : '{}'.format(City) , '시군구' : '{}'.format(SIGUNGU[i]) , '계약구분' : '합계' , '고객호수(호)' : sum3[i] ,  '사용량(kWh)' : sum2[i]} , ignore_index=True) #년월 파일마다 수정하기\n",
      "C:\\Users\\user\\AppData\\Local\\Temp\\ipykernel_20748\\895775541.py:4: FutureWarning: The frame.append method is deprecated and will be removed from pandas in a future version. Use pandas.concat instead.\n",
      "  Hap = Hap.append({'년월' :'202107-202112'  , '시구' : '{}'.format(City) , '시군구' : '{}'.format(SIGUNGU[i]) , '계약구분' : '합계' , '고객호수(호)' : sum3[i] ,  '사용량(kWh)' : sum2[i]} , ignore_index=True) #년월 파일마다 수정하기\n",
      "C:\\Users\\user\\AppData\\Local\\Temp\\ipykernel_20748\\895775541.py:4: FutureWarning: The frame.append method is deprecated and will be removed from pandas in a future version. Use pandas.concat instead.\n",
      "  Hap = Hap.append({'년월' :'202107-202112'  , '시구' : '{}'.format(City) , '시군구' : '{}'.format(SIGUNGU[i]) , '계약구분' : '합계' , '고객호수(호)' : sum3[i] ,  '사용량(kWh)' : sum2[i]} , ignore_index=True) #년월 파일마다 수정하기\n",
      "C:\\Users\\user\\AppData\\Local\\Temp\\ipykernel_20748\\895775541.py:4: FutureWarning: The frame.append method is deprecated and will be removed from pandas in a future version. Use pandas.concat instead.\n",
      "  Hap = Hap.append({'년월' :'202107-202112'  , '시구' : '{}'.format(City) , '시군구' : '{}'.format(SIGUNGU[i]) , '계약구분' : '합계' , '고객호수(호)' : sum3[i] ,  '사용량(kWh)' : sum2[i]} , ignore_index=True) #년월 파일마다 수정하기\n",
      "C:\\Users\\user\\AppData\\Local\\Temp\\ipykernel_20748\\895775541.py:4: FutureWarning: The frame.append method is deprecated and will be removed from pandas in a future version. Use pandas.concat instead.\n",
      "  Hap = Hap.append({'년월' :'202107-202112'  , '시구' : '{}'.format(City) , '시군구' : '{}'.format(SIGUNGU[i]) , '계약구분' : '합계' , '고객호수(호)' : sum3[i] ,  '사용량(kWh)' : sum2[i]} , ignore_index=True) #년월 파일마다 수정하기\n",
      "C:\\Users\\user\\AppData\\Local\\Temp\\ipykernel_20748\\895775541.py:4: FutureWarning: The frame.append method is deprecated and will be removed from pandas in a future version. Use pandas.concat instead.\n",
      "  Hap = Hap.append({'년월' :'202107-202112'  , '시구' : '{}'.format(City) , '시군구' : '{}'.format(SIGUNGU[i]) , '계약구분' : '합계' , '고객호수(호)' : sum3[i] ,  '사용량(kWh)' : sum2[i]} , ignore_index=True) #년월 파일마다 수정하기\n",
      "C:\\Users\\user\\AppData\\Local\\Temp\\ipykernel_20748\\895775541.py:4: FutureWarning: The frame.append method is deprecated and will be removed from pandas in a future version. Use pandas.concat instead.\n",
      "  Hap = Hap.append({'년월' :'202107-202112'  , '시구' : '{}'.format(City) , '시군구' : '{}'.format(SIGUNGU[i]) , '계약구분' : '합계' , '고객호수(호)' : sum3[i] ,  '사용량(kWh)' : sum2[i]} , ignore_index=True) #년월 파일마다 수정하기\n",
      "C:\\Users\\user\\AppData\\Local\\Temp\\ipykernel_20748\\895775541.py:4: FutureWarning: The frame.append method is deprecated and will be removed from pandas in a future version. Use pandas.concat instead.\n",
      "  Hap = Hap.append({'년월' :'202107-202112'  , '시구' : '{}'.format(City) , '시군구' : '{}'.format(SIGUNGU[i]) , '계약구분' : '합계' , '고객호수(호)' : sum3[i] ,  '사용량(kWh)' : sum2[i]} , ignore_index=True) #년월 파일마다 수정하기\n",
      "C:\\Users\\user\\AppData\\Local\\Temp\\ipykernel_20748\\895775541.py:4: FutureWarning: The frame.append method is deprecated and will be removed from pandas in a future version. Use pandas.concat instead.\n",
      "  Hap = Hap.append({'년월' :'202107-202112'  , '시구' : '{}'.format(City) , '시군구' : '{}'.format(SIGUNGU[i]) , '계약구분' : '합계' , '고객호수(호)' : sum3[i] ,  '사용량(kWh)' : sum2[i]} , ignore_index=True) #년월 파일마다 수정하기\n",
      "C:\\Users\\user\\AppData\\Local\\Temp\\ipykernel_20748\\895775541.py:4: FutureWarning: The frame.append method is deprecated and will be removed from pandas in a future version. Use pandas.concat instead.\n",
      "  Hap = Hap.append({'년월' :'202107-202112'  , '시구' : '{}'.format(City) , '시군구' : '{}'.format(SIGUNGU[i]) , '계약구분' : '합계' , '고객호수(호)' : sum3[i] ,  '사용량(kWh)' : sum2[i]} , ignore_index=True) #년월 파일마다 수정하기\n",
      "C:\\Users\\user\\AppData\\Local\\Temp\\ipykernel_20748\\895775541.py:4: FutureWarning: The frame.append method is deprecated and will be removed from pandas in a future version. Use pandas.concat instead.\n",
      "  Hap = Hap.append({'년월' :'202107-202112'  , '시구' : '{}'.format(City) , '시군구' : '{}'.format(SIGUNGU[i]) , '계약구분' : '합계' , '고객호수(호)' : sum3[i] ,  '사용량(kWh)' : sum2[i]} , ignore_index=True) #년월 파일마다 수정하기\n",
      "C:\\Users\\user\\AppData\\Local\\Temp\\ipykernel_20748\\895775541.py:4: FutureWarning: The frame.append method is deprecated and will be removed from pandas in a future version. Use pandas.concat instead.\n",
      "  Hap = Hap.append({'년월' :'202107-202112'  , '시구' : '{}'.format(City) , '시군구' : '{}'.format(SIGUNGU[i]) , '계약구분' : '합계' , '고객호수(호)' : sum3[i] ,  '사용량(kWh)' : sum2[i]} , ignore_index=True) #년월 파일마다 수정하기\n",
      "C:\\Users\\user\\AppData\\Local\\Temp\\ipykernel_20748\\895775541.py:4: FutureWarning: The frame.append method is deprecated and will be removed from pandas in a future version. Use pandas.concat instead.\n",
      "  Hap = Hap.append({'년월' :'202107-202112'  , '시구' : '{}'.format(City) , '시군구' : '{}'.format(SIGUNGU[i]) , '계약구분' : '합계' , '고객호수(호)' : sum3[i] ,  '사용량(kWh)' : sum2[i]} , ignore_index=True) #년월 파일마다 수정하기\n"
     ]
    },
    {
     "data": {
      "text/plain": "                년월    시구  시군구 계약구분   고객호수(호)      사용량(kWh)\n0           202107  경상남도  거제시   합계  126,513   188,633,251 \n1           202108  경상남도  거제시   합계  126,550   194,549,113 \n2           202109  경상남도  거제시   합계  126,639   178,319,674 \n3           202110  경상남도  거제시   합계  126,766   160,134,387 \n4           202111  경상남도  거제시   합계  128,119   152,612,888 \n..             ...   ...  ...  ...       ...           ...\n121  202107-202112  경상남도  통영시   합계     14124     480639617\n122  202107-202112  경상남도  하동군   합계      9810     194763729\n123  202107-202112  경상남도  함안군   합계      9758    1391809744\n124  202107-202112  경상남도  함양군   합계      7786     148877174\n125  202107-202112  경상남도  합천군   합계      9723     207533027\n\n[126 rows x 6 columns]",
      "text/html": "<div>\n<style scoped>\n    .dataframe tbody tr th:only-of-type {\n        vertical-align: middle;\n    }\n\n    .dataframe tbody tr th {\n        vertical-align: top;\n    }\n\n    .dataframe thead th {\n        text-align: right;\n    }\n</style>\n<table border=\"1\" class=\"dataframe\">\n  <thead>\n    <tr style=\"text-align: right;\">\n      <th></th>\n      <th>년월</th>\n      <th>시구</th>\n      <th>시군구</th>\n      <th>계약구분</th>\n      <th>고객호수(호)</th>\n      <th>사용량(kWh)</th>\n    </tr>\n  </thead>\n  <tbody>\n    <tr>\n      <th>0</th>\n      <td>202107</td>\n      <td>경상남도</td>\n      <td>거제시</td>\n      <td>합계</td>\n      <td>126,513</td>\n      <td>188,633,251</td>\n    </tr>\n    <tr>\n      <th>1</th>\n      <td>202108</td>\n      <td>경상남도</td>\n      <td>거제시</td>\n      <td>합계</td>\n      <td>126,550</td>\n      <td>194,549,113</td>\n    </tr>\n    <tr>\n      <th>2</th>\n      <td>202109</td>\n      <td>경상남도</td>\n      <td>거제시</td>\n      <td>합계</td>\n      <td>126,639</td>\n      <td>178,319,674</td>\n    </tr>\n    <tr>\n      <th>3</th>\n      <td>202110</td>\n      <td>경상남도</td>\n      <td>거제시</td>\n      <td>합계</td>\n      <td>126,766</td>\n      <td>160,134,387</td>\n    </tr>\n    <tr>\n      <th>4</th>\n      <td>202111</td>\n      <td>경상남도</td>\n      <td>거제시</td>\n      <td>합계</td>\n      <td>128,119</td>\n      <td>152,612,888</td>\n    </tr>\n    <tr>\n      <th>...</th>\n      <td>...</td>\n      <td>...</td>\n      <td>...</td>\n      <td>...</td>\n      <td>...</td>\n      <td>...</td>\n    </tr>\n    <tr>\n      <th>121</th>\n      <td>202107-202112</td>\n      <td>경상남도</td>\n      <td>통영시</td>\n      <td>합계</td>\n      <td>14124</td>\n      <td>480639617</td>\n    </tr>\n    <tr>\n      <th>122</th>\n      <td>202107-202112</td>\n      <td>경상남도</td>\n      <td>하동군</td>\n      <td>합계</td>\n      <td>9810</td>\n      <td>194763729</td>\n    </tr>\n    <tr>\n      <th>123</th>\n      <td>202107-202112</td>\n      <td>경상남도</td>\n      <td>함안군</td>\n      <td>합계</td>\n      <td>9758</td>\n      <td>1391809744</td>\n    </tr>\n    <tr>\n      <th>124</th>\n      <td>202107-202112</td>\n      <td>경상남도</td>\n      <td>함양군</td>\n      <td>합계</td>\n      <td>7786</td>\n      <td>148877174</td>\n    </tr>\n    <tr>\n      <th>125</th>\n      <td>202107-202112</td>\n      <td>경상남도</td>\n      <td>합천군</td>\n      <td>합계</td>\n      <td>9723</td>\n      <td>207533027</td>\n    </tr>\n  </tbody>\n</table>\n<p>126 rows × 6 columns</p>\n</div>"
     },
     "execution_count": 15,
     "metadata": {},
     "output_type": "execute_result"
    }
   ],
   "source": [
    "Hap = df_4.copy()\n",
    "Hap.reset_index(drop=True , inplace = True)\n",
    "for i in range(len(SIGUNGU)):\n",
    "    Hap = Hap.append({'년월' :'202107-202112'  , '시구' : '{}'.format(City) , '시군구' : '{}'.format(SIGUNGU[i]) , '계약구분' : '합계' , '고객호수(호)' : sum3[i] ,  '사용량(kWh)' : sum2[i]} , ignore_index=True) #년월 파일마다 수정하기\n",
    "Hap"
   ],
   "metadata": {
    "collapsed": false,
    "pycharm": {
     "name": "#%%\n"
    }
   }
  },
  {
   "cell_type": "markdown",
   "source": [
    "### 3. 날짜 변경!!!!!!!!!!!!!!!!!!!!!!!!!!!!!!!"
   ],
   "metadata": {
    "collapsed": false,
    "pycharm": {
     "name": "#%% md\n"
    }
   }
  },
  {
   "cell_type": "code",
   "execution_count": 16,
   "outputs": [
    {
     "data": {
      "text/plain": "                년월    시구  시군구 계약구분 고객호수(호)    사용량(kWh)\n108  202107-202112  경상남도  거제시   합계   21153  1041168861\n109  202107-202112  경상남도  거창군   합계   10464   235602805\n110  202107-202112  경상남도  고성군   합계    9803   389369834\n111  202107-202112  경상남도  김해시   합계   35050  2718403779\n112  202107-202112  경상남도  남해군   합계    8980   142151493\n113  202107-202112  경상남도  밀양시   합계   18185   605800713\n114  202107-202112  경상남도  사천시   합계   13841   716035858\n115  202107-202112  경상남도  산청군   합계    8516   176390455\n116  202107-202112  경상남도  양산시   합계   21243  1920596355\n117  202107-202112  경상남도  의령군   합계    6339   198480386\n118  202107-202112  경상남도  진주시   합계   33976  1327243855\n119  202107-202112  경상남도  창녕군   합계   11274   516764351\n120  202107-202112  경상남도  창원시   합계   76089  5333050015\n121  202107-202112  경상남도  통영시   합계   14124   480639617\n122  202107-202112  경상남도  하동군   합계    9810   194763729\n123  202107-202112  경상남도  함안군   합계    9758  1391809744\n124  202107-202112  경상남도  함양군   합계    7786   148877174\n125  202107-202112  경상남도  합천군   합계    9723   207533027",
      "text/html": "<div>\n<style scoped>\n    .dataframe tbody tr th:only-of-type {\n        vertical-align: middle;\n    }\n\n    .dataframe tbody tr th {\n        vertical-align: top;\n    }\n\n    .dataframe thead th {\n        text-align: right;\n    }\n</style>\n<table border=\"1\" class=\"dataframe\">\n  <thead>\n    <tr style=\"text-align: right;\">\n      <th></th>\n      <th>년월</th>\n      <th>시구</th>\n      <th>시군구</th>\n      <th>계약구분</th>\n      <th>고객호수(호)</th>\n      <th>사용량(kWh)</th>\n    </tr>\n  </thead>\n  <tbody>\n    <tr>\n      <th>108</th>\n      <td>202107-202112</td>\n      <td>경상남도</td>\n      <td>거제시</td>\n      <td>합계</td>\n      <td>21153</td>\n      <td>1041168861</td>\n    </tr>\n    <tr>\n      <th>109</th>\n      <td>202107-202112</td>\n      <td>경상남도</td>\n      <td>거창군</td>\n      <td>합계</td>\n      <td>10464</td>\n      <td>235602805</td>\n    </tr>\n    <tr>\n      <th>110</th>\n      <td>202107-202112</td>\n      <td>경상남도</td>\n      <td>고성군</td>\n      <td>합계</td>\n      <td>9803</td>\n      <td>389369834</td>\n    </tr>\n    <tr>\n      <th>111</th>\n      <td>202107-202112</td>\n      <td>경상남도</td>\n      <td>김해시</td>\n      <td>합계</td>\n      <td>35050</td>\n      <td>2718403779</td>\n    </tr>\n    <tr>\n      <th>112</th>\n      <td>202107-202112</td>\n      <td>경상남도</td>\n      <td>남해군</td>\n      <td>합계</td>\n      <td>8980</td>\n      <td>142151493</td>\n    </tr>\n    <tr>\n      <th>113</th>\n      <td>202107-202112</td>\n      <td>경상남도</td>\n      <td>밀양시</td>\n      <td>합계</td>\n      <td>18185</td>\n      <td>605800713</td>\n    </tr>\n    <tr>\n      <th>114</th>\n      <td>202107-202112</td>\n      <td>경상남도</td>\n      <td>사천시</td>\n      <td>합계</td>\n      <td>13841</td>\n      <td>716035858</td>\n    </tr>\n    <tr>\n      <th>115</th>\n      <td>202107-202112</td>\n      <td>경상남도</td>\n      <td>산청군</td>\n      <td>합계</td>\n      <td>8516</td>\n      <td>176390455</td>\n    </tr>\n    <tr>\n      <th>116</th>\n      <td>202107-202112</td>\n      <td>경상남도</td>\n      <td>양산시</td>\n      <td>합계</td>\n      <td>21243</td>\n      <td>1920596355</td>\n    </tr>\n    <tr>\n      <th>117</th>\n      <td>202107-202112</td>\n      <td>경상남도</td>\n      <td>의령군</td>\n      <td>합계</td>\n      <td>6339</td>\n      <td>198480386</td>\n    </tr>\n    <tr>\n      <th>118</th>\n      <td>202107-202112</td>\n      <td>경상남도</td>\n      <td>진주시</td>\n      <td>합계</td>\n      <td>33976</td>\n      <td>1327243855</td>\n    </tr>\n    <tr>\n      <th>119</th>\n      <td>202107-202112</td>\n      <td>경상남도</td>\n      <td>창녕군</td>\n      <td>합계</td>\n      <td>11274</td>\n      <td>516764351</td>\n    </tr>\n    <tr>\n      <th>120</th>\n      <td>202107-202112</td>\n      <td>경상남도</td>\n      <td>창원시</td>\n      <td>합계</td>\n      <td>76089</td>\n      <td>5333050015</td>\n    </tr>\n    <tr>\n      <th>121</th>\n      <td>202107-202112</td>\n      <td>경상남도</td>\n      <td>통영시</td>\n      <td>합계</td>\n      <td>14124</td>\n      <td>480639617</td>\n    </tr>\n    <tr>\n      <th>122</th>\n      <td>202107-202112</td>\n      <td>경상남도</td>\n      <td>하동군</td>\n      <td>합계</td>\n      <td>9810</td>\n      <td>194763729</td>\n    </tr>\n    <tr>\n      <th>123</th>\n      <td>202107-202112</td>\n      <td>경상남도</td>\n      <td>함안군</td>\n      <td>합계</td>\n      <td>9758</td>\n      <td>1391809744</td>\n    </tr>\n    <tr>\n      <th>124</th>\n      <td>202107-202112</td>\n      <td>경상남도</td>\n      <td>함양군</td>\n      <td>합계</td>\n      <td>7786</td>\n      <td>148877174</td>\n    </tr>\n    <tr>\n      <th>125</th>\n      <td>202107-202112</td>\n      <td>경상남도</td>\n      <td>합천군</td>\n      <td>합계</td>\n      <td>9723</td>\n      <td>207533027</td>\n    </tr>\n  </tbody>\n</table>\n</div>"
     },
     "execution_count": 16,
     "metadata": {},
     "output_type": "execute_result"
    }
   ],
   "source": [
    "Hap = Hap.loc[Hap['년월'] == '202107-202112']\n",
    "Hap"
   ],
   "metadata": {
    "collapsed": false,
    "pycharm": {
     "name": "#%%\n"
    }
   }
  },
  {
   "cell_type": "code",
   "execution_count": 17,
   "outputs": [],
   "source": [
    "# SIGUNGU = SIGUNGU[:1]\n",
    "# SIGUNGU\n",
    "#for i in SIGUNGU:\n",
    "#print('{}'.format(i))\n",
    "# df_3 = df_3.loc[(df_3['시군구'] == '가평군')]\n",
    "#\n",
    "# df_3"
   ],
   "metadata": {
    "collapsed": false,
    "pycharm": {
     "name": "#%%\n"
    }
   }
  },
  {
   "cell_type": "code",
   "execution_count": 18,
   "outputs": [
    {
     "data": {
      "text/plain": "['년월', '시구', '시군구', '계약구분', '고객호수(호)', '사용량(kWh)']"
     },
     "execution_count": 18,
     "metadata": {},
     "output_type": "execute_result"
    }
   ],
   "source": [
    "a = (df_3.columns).tolist()\n",
    "\n",
    "a"
   ],
   "metadata": {
    "collapsed": false,
    "pycharm": {
     "name": "#%%\n"
    }
   }
  },
  {
   "cell_type": "code",
   "execution_count": 19,
   "outputs": [
    {
     "data": {
      "text/plain": "         년월    시구  시군구 계약구분  고객호수(호)     사용량(kWh)\n53   202107  경상남도  거제시  일반용  17,559   41,712,478 \n197  202108  경상남도  거제시  일반용  17,608   47,504,115 \n341  202109  경상남도  거제시  일반용  17,647   41,248,137 \n485  202110  경상남도  거제시  일반용  17,647   36,256,875 \n629  202111  경상남도  거제시  일반용  17,731   34,795,049 \n..      ...   ...  ...  ...      ...          ...\n333  202108  경상남도  합천군  일반용   4,064    8,733,955 \n477  202109  경상남도  합천군  일반용   4,070    7,812,432 \n621  202110  경상남도  합천군  일반용   4,084    7,032,981 \n765  202111  경상남도  합천군  일반용   4,100    8,133,114 \n909  202112  경상남도  합천군  일반용   4,114    9,434,680 \n\n[108 rows x 6 columns]",
      "text/html": "<div>\n<style scoped>\n    .dataframe tbody tr th:only-of-type {\n        vertical-align: middle;\n    }\n\n    .dataframe tbody tr th {\n        vertical-align: top;\n    }\n\n    .dataframe thead th {\n        text-align: right;\n    }\n</style>\n<table border=\"1\" class=\"dataframe\">\n  <thead>\n    <tr style=\"text-align: right;\">\n      <th></th>\n      <th>년월</th>\n      <th>시구</th>\n      <th>시군구</th>\n      <th>계약구분</th>\n      <th>고객호수(호)</th>\n      <th>사용량(kWh)</th>\n    </tr>\n  </thead>\n  <tbody>\n    <tr>\n      <th>53</th>\n      <td>202107</td>\n      <td>경상남도</td>\n      <td>거제시</td>\n      <td>일반용</td>\n      <td>17,559</td>\n      <td>41,712,478</td>\n    </tr>\n    <tr>\n      <th>197</th>\n      <td>202108</td>\n      <td>경상남도</td>\n      <td>거제시</td>\n      <td>일반용</td>\n      <td>17,608</td>\n      <td>47,504,115</td>\n    </tr>\n    <tr>\n      <th>341</th>\n      <td>202109</td>\n      <td>경상남도</td>\n      <td>거제시</td>\n      <td>일반용</td>\n      <td>17,647</td>\n      <td>41,248,137</td>\n    </tr>\n    <tr>\n      <th>485</th>\n      <td>202110</td>\n      <td>경상남도</td>\n      <td>거제시</td>\n      <td>일반용</td>\n      <td>17,647</td>\n      <td>36,256,875</td>\n    </tr>\n    <tr>\n      <th>629</th>\n      <td>202111</td>\n      <td>경상남도</td>\n      <td>거제시</td>\n      <td>일반용</td>\n      <td>17,731</td>\n      <td>34,795,049</td>\n    </tr>\n    <tr>\n      <th>...</th>\n      <td>...</td>\n      <td>...</td>\n      <td>...</td>\n      <td>...</td>\n      <td>...</td>\n      <td>...</td>\n    </tr>\n    <tr>\n      <th>333</th>\n      <td>202108</td>\n      <td>경상남도</td>\n      <td>합천군</td>\n      <td>일반용</td>\n      <td>4,064</td>\n      <td>8,733,955</td>\n    </tr>\n    <tr>\n      <th>477</th>\n      <td>202109</td>\n      <td>경상남도</td>\n      <td>합천군</td>\n      <td>일반용</td>\n      <td>4,070</td>\n      <td>7,812,432</td>\n    </tr>\n    <tr>\n      <th>621</th>\n      <td>202110</td>\n      <td>경상남도</td>\n      <td>합천군</td>\n      <td>일반용</td>\n      <td>4,084</td>\n      <td>7,032,981</td>\n    </tr>\n    <tr>\n      <th>765</th>\n      <td>202111</td>\n      <td>경상남도</td>\n      <td>합천군</td>\n      <td>일반용</td>\n      <td>4,100</td>\n      <td>8,133,114</td>\n    </tr>\n    <tr>\n      <th>909</th>\n      <td>202112</td>\n      <td>경상남도</td>\n      <td>합천군</td>\n      <td>일반용</td>\n      <td>4,114</td>\n      <td>9,434,680</td>\n    </tr>\n  </tbody>\n</table>\n<p>108 rows × 6 columns</p>\n</div>"
     },
     "execution_count": 19,
     "metadata": {},
     "output_type": "execute_result"
    }
   ],
   "source": [
    "df_3"
   ],
   "metadata": {
    "collapsed": false,
    "pycharm": {
     "name": "#%%\n"
    }
   }
  },
  {
   "cell_type": "code",
   "execution_count": 20,
   "outputs": [],
   "source": [
    "# GyeonGiHap = pd.DataFrame([] , columns = a)\n",
    "# GyeonGiHap['사용량']= df_3['사용량(kWh)'].loc[(df_3['시군구'] == '{가평군}')]\n",
    "# GyeonGiHap"
   ],
   "metadata": {
    "collapsed": false,
    "pycharm": {
     "name": "#%%\n"
    }
   }
  },
  {
   "cell_type": "code",
   "execution_count": 21,
   "outputs": [
    {
     "name": "stdout",
     "output_type": "stream",
     "text": [
      "[41712478, 47504115, 41248137, 36256875, 34795049, 37536542]\n",
      "[9418990, 10964617, 9405859, 8638076, 9948012, 11464154]\n",
      "[8531808, 10094566, 9001799, 7950897, 8288519, 9067543]\n",
      "[92142490, 102994679, 90452506, 80000498, 76355275, 84324657]\n",
      "[8605877, 11167459, 9275478, 8148925, 8404827, 9325604]\n",
      "[17714492, 20631133, 18410646, 16216931, 17107378, 20350560]\n",
      "[20767019, 24911057, 22239727, 18973500, 19045674, 20893643]\n",
      "[5586964, 6904407, 6013251, 5225545, 5822657, 6564602]\n",
      "[60284227, 69310003, 60425424, 53974867, 52417077, 57078380]\n",
      "[4452464, 5186501, 4673176, 4137863, 4604966, 5069669]\n",
      "[62283335, 71354827, 63079617, 54687908, 54022258, 60570848]\n",
      "[11091698, 13215806, 11352776, 10091424, 10362711, 11781975]\n",
      "[188057608, 210441457, 184737106, 163144842, 153761529, 171016349]\n",
      "[26729509, 32716489, 28963495, 24658878, 23851663, 25899227]\n",
      "[6632852, 8131547, 7137341, 6253252, 6679448, 7487930]\n",
      "[11772959, 13195421, 11546719, 10212231, 10799054, 11913616]\n",
      "[5475309, 6340641, 5754892, 5443387, 5753264, 6485009]\n",
      "[7434228, 8733955, 7812432, 7032981, 8133114, 9434680]\n",
      "경상남도 지역별 일반용 합계 :  [239053196, 59839708, 52935132, 526270105, 54928170, 110431140, 126830620, 36117426, 353489978, 28124639, 365998793, 67896390, 1071158891, 162819261, 42322370, 69440000, 35252502, 48581390]\n",
      "경상남도 고객호수 평균:  [17660, 5225, 4697, 31872, 5070, 9849, 9825, 3726, 20006, 2447, 25843, 5562, 57311, 11550, 4533, 5330, 3808, 4083]\n"
     ]
    }
   ],
   "source": [
    "sum2 , sum3 =[] , []\n",
    "for k in SIGUNGU:\n",
    "    GyeonGiHap = pd.DataFrame([] , columns = a)\n",
    "    HOSU = pd.DataFrame([], columns = a)\n",
    "    GyeonGiHap['사용량']= df_3['사용량(kWh)'].loc[(df_3['시군구'] == '{}'.format(k))]\n",
    "    HOSU['고객호수']= df_3['고객호수(호)'].loc[(df_3['시군구'] == '{}'.format(k))]\n",
    "    #경기합 데이터프레임의 사용량 열에 기군구가 가평군인 사용량 데이터만 뽑아내기\n",
    "    # GyeonGiHap = GyeonGiHap['사용량']\n",
    "\n",
    "    b = GyeonGiHap['사용량'].tolist()\n",
    "    c = HOSU['고객호수'].tolist()\n",
    "\n",
    "\n",
    "    #각지역별 사용량 리스트화\n",
    "    int_list  , int_list2=[] , []\n",
    "    for i in b:\n",
    "        i = re.sub(\",\" , \"\" , i)\n",
    "        #콤마 없애기\n",
    "        int_list.append(int(i))\n",
    "        #int_list에 각지역별 사용량 int로 저장\n",
    "    print(int_list)\n",
    "    sum=0\n",
    "    for i in c:\n",
    "        i = re.sub(\",\" , \"\" , i)\n",
    "        int_list2.append(int(i))\n",
    "\n",
    "    for j in int_list:\n",
    "\n",
    "        sum+= j\n",
    "    sum2.append(sum)\n",
    "    sum = 0\n",
    "    for j in int_list2: #고객호수 추출하여 더하기\n",
    "\n",
    "        sum+= j\n",
    "    sum3.append(sum//6) #6개월 치로 나눠야하나?!\n",
    "\n",
    "\n",
    "\n",
    "\n",
    "print(\"{} 지역별 일반용 합계 : \".format(City) , sum2)\n",
    "print(\"{} 고객호수 평균: \".format(City) , sum3)\n",
    "# GyeonGiHap['합계'] = sum\n",
    "#\n",
    "# GyeonGiHap"
   ],
   "metadata": {
    "collapsed": false,
    "pycharm": {
     "name": "#%%\n"
    }
   }
  },
  {
   "cell_type": "code",
   "execution_count": 22,
   "outputs": [],
   "source": [
    "# df_3 = df_3.loc[(df_3['시군구'] == '가평군')]\n",
    "#\n",
    "# df_3"
   ],
   "metadata": {
    "collapsed": false,
    "pycharm": {
     "name": "#%%\n"
    }
   }
  },
  {
   "cell_type": "code",
   "execution_count": 23,
   "outputs": [],
   "source": [
    "# GyeonGiHap = df_3.copy()\n",
    "# GyeonGiHap.reset_index(drop=True , inplace = True)\n",
    "# GyeonGiHap.append({'년월' : '202107-202112'  , '시구' : '경기도' , '시군구' : '가평군' , '계약구분' : '일반용' , '사용량(kWh)' : sum}, ignore_index=True)"
   ],
   "metadata": {
    "collapsed": false,
    "pycharm": {
     "name": "#%%\n"
    }
   }
  },
  {
   "cell_type": "code",
   "execution_count": 24,
   "outputs": [],
   "source": [
    "# a=[]\n",
    "# for i in SIGUNGU:\n",
    "#     a.append(i)\n",
    "#\n",
    "# print(a)"
   ],
   "metadata": {
    "collapsed": false,
    "pycharm": {
     "name": "#%%\n"
    }
   }
  },
  {
   "cell_type": "markdown",
   "source": [
    "### 4. 년월 체크!!!!!!!!!!!!!!!!!!!!!!!!!!!!!!!!!!!!!!!!!!!!!!!!!!!!!!!!!!!!!!!!!"
   ],
   "metadata": {
    "collapsed": false,
    "pycharm": {
     "name": "#%% md\n"
    }
   }
  },
  {
   "cell_type": "code",
   "execution_count": 25,
   "outputs": [
    {
     "name": "stderr",
     "output_type": "stream",
     "text": [
      "C:\\Users\\user\\AppData\\Local\\Temp\\ipykernel_20748\\2943201010.py:4: FutureWarning: The frame.append method is deprecated and will be removed from pandas in a future version. Use pandas.concat instead.\n",
      "  GyeonGiHap2 = GyeonGiHap2.append({'년월' :'202107-202112'  , '시구' : '{}'.format(City) , '시군구' : '{}'.format(SIGUNGU[i]) , '계약구분' : '일반용' , '고객호수(호)' : sum3[i] ,  '사용량(kWh)' : sum2[i]} , ignore_index=True) #년월 파일마다 수정하기\n",
      "C:\\Users\\user\\AppData\\Local\\Temp\\ipykernel_20748\\2943201010.py:4: FutureWarning: The frame.append method is deprecated and will be removed from pandas in a future version. Use pandas.concat instead.\n",
      "  GyeonGiHap2 = GyeonGiHap2.append({'년월' :'202107-202112'  , '시구' : '{}'.format(City) , '시군구' : '{}'.format(SIGUNGU[i]) , '계약구분' : '일반용' , '고객호수(호)' : sum3[i] ,  '사용량(kWh)' : sum2[i]} , ignore_index=True) #년월 파일마다 수정하기\n",
      "C:\\Users\\user\\AppData\\Local\\Temp\\ipykernel_20748\\2943201010.py:4: FutureWarning: The frame.append method is deprecated and will be removed from pandas in a future version. Use pandas.concat instead.\n",
      "  GyeonGiHap2 = GyeonGiHap2.append({'년월' :'202107-202112'  , '시구' : '{}'.format(City) , '시군구' : '{}'.format(SIGUNGU[i]) , '계약구분' : '일반용' , '고객호수(호)' : sum3[i] ,  '사용량(kWh)' : sum2[i]} , ignore_index=True) #년월 파일마다 수정하기\n",
      "C:\\Users\\user\\AppData\\Local\\Temp\\ipykernel_20748\\2943201010.py:4: FutureWarning: The frame.append method is deprecated and will be removed from pandas in a future version. Use pandas.concat instead.\n",
      "  GyeonGiHap2 = GyeonGiHap2.append({'년월' :'202107-202112'  , '시구' : '{}'.format(City) , '시군구' : '{}'.format(SIGUNGU[i]) , '계약구분' : '일반용' , '고객호수(호)' : sum3[i] ,  '사용량(kWh)' : sum2[i]} , ignore_index=True) #년월 파일마다 수정하기\n",
      "C:\\Users\\user\\AppData\\Local\\Temp\\ipykernel_20748\\2943201010.py:4: FutureWarning: The frame.append method is deprecated and will be removed from pandas in a future version. Use pandas.concat instead.\n",
      "  GyeonGiHap2 = GyeonGiHap2.append({'년월' :'202107-202112'  , '시구' : '{}'.format(City) , '시군구' : '{}'.format(SIGUNGU[i]) , '계약구분' : '일반용' , '고객호수(호)' : sum3[i] ,  '사용량(kWh)' : sum2[i]} , ignore_index=True) #년월 파일마다 수정하기\n",
      "C:\\Users\\user\\AppData\\Local\\Temp\\ipykernel_20748\\2943201010.py:4: FutureWarning: The frame.append method is deprecated and will be removed from pandas in a future version. Use pandas.concat instead.\n",
      "  GyeonGiHap2 = GyeonGiHap2.append({'년월' :'202107-202112'  , '시구' : '{}'.format(City) , '시군구' : '{}'.format(SIGUNGU[i]) , '계약구분' : '일반용' , '고객호수(호)' : sum3[i] ,  '사용량(kWh)' : sum2[i]} , ignore_index=True) #년월 파일마다 수정하기\n",
      "C:\\Users\\user\\AppData\\Local\\Temp\\ipykernel_20748\\2943201010.py:4: FutureWarning: The frame.append method is deprecated and will be removed from pandas in a future version. Use pandas.concat instead.\n",
      "  GyeonGiHap2 = GyeonGiHap2.append({'년월' :'202107-202112'  , '시구' : '{}'.format(City) , '시군구' : '{}'.format(SIGUNGU[i]) , '계약구분' : '일반용' , '고객호수(호)' : sum3[i] ,  '사용량(kWh)' : sum2[i]} , ignore_index=True) #년월 파일마다 수정하기\n",
      "C:\\Users\\user\\AppData\\Local\\Temp\\ipykernel_20748\\2943201010.py:4: FutureWarning: The frame.append method is deprecated and will be removed from pandas in a future version. Use pandas.concat instead.\n",
      "  GyeonGiHap2 = GyeonGiHap2.append({'년월' :'202107-202112'  , '시구' : '{}'.format(City) , '시군구' : '{}'.format(SIGUNGU[i]) , '계약구분' : '일반용' , '고객호수(호)' : sum3[i] ,  '사용량(kWh)' : sum2[i]} , ignore_index=True) #년월 파일마다 수정하기\n",
      "C:\\Users\\user\\AppData\\Local\\Temp\\ipykernel_20748\\2943201010.py:4: FutureWarning: The frame.append method is deprecated and will be removed from pandas in a future version. Use pandas.concat instead.\n",
      "  GyeonGiHap2 = GyeonGiHap2.append({'년월' :'202107-202112'  , '시구' : '{}'.format(City) , '시군구' : '{}'.format(SIGUNGU[i]) , '계약구분' : '일반용' , '고객호수(호)' : sum3[i] ,  '사용량(kWh)' : sum2[i]} , ignore_index=True) #년월 파일마다 수정하기\n",
      "C:\\Users\\user\\AppData\\Local\\Temp\\ipykernel_20748\\2943201010.py:4: FutureWarning: The frame.append method is deprecated and will be removed from pandas in a future version. Use pandas.concat instead.\n",
      "  GyeonGiHap2 = GyeonGiHap2.append({'년월' :'202107-202112'  , '시구' : '{}'.format(City) , '시군구' : '{}'.format(SIGUNGU[i]) , '계약구분' : '일반용' , '고객호수(호)' : sum3[i] ,  '사용량(kWh)' : sum2[i]} , ignore_index=True) #년월 파일마다 수정하기\n",
      "C:\\Users\\user\\AppData\\Local\\Temp\\ipykernel_20748\\2943201010.py:4: FutureWarning: The frame.append method is deprecated and will be removed from pandas in a future version. Use pandas.concat instead.\n",
      "  GyeonGiHap2 = GyeonGiHap2.append({'년월' :'202107-202112'  , '시구' : '{}'.format(City) , '시군구' : '{}'.format(SIGUNGU[i]) , '계약구분' : '일반용' , '고객호수(호)' : sum3[i] ,  '사용량(kWh)' : sum2[i]} , ignore_index=True) #년월 파일마다 수정하기\n",
      "C:\\Users\\user\\AppData\\Local\\Temp\\ipykernel_20748\\2943201010.py:4: FutureWarning: The frame.append method is deprecated and will be removed from pandas in a future version. Use pandas.concat instead.\n",
      "  GyeonGiHap2 = GyeonGiHap2.append({'년월' :'202107-202112'  , '시구' : '{}'.format(City) , '시군구' : '{}'.format(SIGUNGU[i]) , '계약구분' : '일반용' , '고객호수(호)' : sum3[i] ,  '사용량(kWh)' : sum2[i]} , ignore_index=True) #년월 파일마다 수정하기\n",
      "C:\\Users\\user\\AppData\\Local\\Temp\\ipykernel_20748\\2943201010.py:4: FutureWarning: The frame.append method is deprecated and will be removed from pandas in a future version. Use pandas.concat instead.\n",
      "  GyeonGiHap2 = GyeonGiHap2.append({'년월' :'202107-202112'  , '시구' : '{}'.format(City) , '시군구' : '{}'.format(SIGUNGU[i]) , '계약구분' : '일반용' , '고객호수(호)' : sum3[i] ,  '사용량(kWh)' : sum2[i]} , ignore_index=True) #년월 파일마다 수정하기\n",
      "C:\\Users\\user\\AppData\\Local\\Temp\\ipykernel_20748\\2943201010.py:4: FutureWarning: The frame.append method is deprecated and will be removed from pandas in a future version. Use pandas.concat instead.\n",
      "  GyeonGiHap2 = GyeonGiHap2.append({'년월' :'202107-202112'  , '시구' : '{}'.format(City) , '시군구' : '{}'.format(SIGUNGU[i]) , '계약구분' : '일반용' , '고객호수(호)' : sum3[i] ,  '사용량(kWh)' : sum2[i]} , ignore_index=True) #년월 파일마다 수정하기\n",
      "C:\\Users\\user\\AppData\\Local\\Temp\\ipykernel_20748\\2943201010.py:4: FutureWarning: The frame.append method is deprecated and will be removed from pandas in a future version. Use pandas.concat instead.\n",
      "  GyeonGiHap2 = GyeonGiHap2.append({'년월' :'202107-202112'  , '시구' : '{}'.format(City) , '시군구' : '{}'.format(SIGUNGU[i]) , '계약구분' : '일반용' , '고객호수(호)' : sum3[i] ,  '사용량(kWh)' : sum2[i]} , ignore_index=True) #년월 파일마다 수정하기\n",
      "C:\\Users\\user\\AppData\\Local\\Temp\\ipykernel_20748\\2943201010.py:4: FutureWarning: The frame.append method is deprecated and will be removed from pandas in a future version. Use pandas.concat instead.\n",
      "  GyeonGiHap2 = GyeonGiHap2.append({'년월' :'202107-202112'  , '시구' : '{}'.format(City) , '시군구' : '{}'.format(SIGUNGU[i]) , '계약구분' : '일반용' , '고객호수(호)' : sum3[i] ,  '사용량(kWh)' : sum2[i]} , ignore_index=True) #년월 파일마다 수정하기\n",
      "C:\\Users\\user\\AppData\\Local\\Temp\\ipykernel_20748\\2943201010.py:4: FutureWarning: The frame.append method is deprecated and will be removed from pandas in a future version. Use pandas.concat instead.\n",
      "  GyeonGiHap2 = GyeonGiHap2.append({'년월' :'202107-202112'  , '시구' : '{}'.format(City) , '시군구' : '{}'.format(SIGUNGU[i]) , '계약구분' : '일반용' , '고객호수(호)' : sum3[i] ,  '사용량(kWh)' : sum2[i]} , ignore_index=True) #년월 파일마다 수정하기\n",
      "C:\\Users\\user\\AppData\\Local\\Temp\\ipykernel_20748\\2943201010.py:4: FutureWarning: The frame.append method is deprecated and will be removed from pandas in a future version. Use pandas.concat instead.\n",
      "  GyeonGiHap2 = GyeonGiHap2.append({'년월' :'202107-202112'  , '시구' : '{}'.format(City) , '시군구' : '{}'.format(SIGUNGU[i]) , '계약구분' : '일반용' , '고객호수(호)' : sum3[i] ,  '사용량(kWh)' : sum2[i]} , ignore_index=True) #년월 파일마다 수정하기\n"
     ]
    },
    {
     "data": {
      "text/plain": "                년월    시구  시군구 계약구분  고객호수(호)     사용량(kWh)\n0           202107  경상남도  거제시  일반용  17,559   41,712,478 \n1           202108  경상남도  거제시  일반용  17,608   47,504,115 \n2           202109  경상남도  거제시  일반용  17,647   41,248,137 \n3           202110  경상남도  거제시  일반용  17,647   36,256,875 \n4           202111  경상남도  거제시  일반용  17,731   34,795,049 \n..             ...   ...  ...  ...      ...          ...\n121  202107-202112  경상남도  통영시  일반용    11550    162819261\n122  202107-202112  경상남도  하동군  일반용     4533     42322370\n123  202107-202112  경상남도  함안군  일반용     5330     69440000\n124  202107-202112  경상남도  함양군  일반용     3808     35252502\n125  202107-202112  경상남도  합천군  일반용     4083     48581390\n\n[126 rows x 6 columns]",
      "text/html": "<div>\n<style scoped>\n    .dataframe tbody tr th:only-of-type {\n        vertical-align: middle;\n    }\n\n    .dataframe tbody tr th {\n        vertical-align: top;\n    }\n\n    .dataframe thead th {\n        text-align: right;\n    }\n</style>\n<table border=\"1\" class=\"dataframe\">\n  <thead>\n    <tr style=\"text-align: right;\">\n      <th></th>\n      <th>년월</th>\n      <th>시구</th>\n      <th>시군구</th>\n      <th>계약구분</th>\n      <th>고객호수(호)</th>\n      <th>사용량(kWh)</th>\n    </tr>\n  </thead>\n  <tbody>\n    <tr>\n      <th>0</th>\n      <td>202107</td>\n      <td>경상남도</td>\n      <td>거제시</td>\n      <td>일반용</td>\n      <td>17,559</td>\n      <td>41,712,478</td>\n    </tr>\n    <tr>\n      <th>1</th>\n      <td>202108</td>\n      <td>경상남도</td>\n      <td>거제시</td>\n      <td>일반용</td>\n      <td>17,608</td>\n      <td>47,504,115</td>\n    </tr>\n    <tr>\n      <th>2</th>\n      <td>202109</td>\n      <td>경상남도</td>\n      <td>거제시</td>\n      <td>일반용</td>\n      <td>17,647</td>\n      <td>41,248,137</td>\n    </tr>\n    <tr>\n      <th>3</th>\n      <td>202110</td>\n      <td>경상남도</td>\n      <td>거제시</td>\n      <td>일반용</td>\n      <td>17,647</td>\n      <td>36,256,875</td>\n    </tr>\n    <tr>\n      <th>4</th>\n      <td>202111</td>\n      <td>경상남도</td>\n      <td>거제시</td>\n      <td>일반용</td>\n      <td>17,731</td>\n      <td>34,795,049</td>\n    </tr>\n    <tr>\n      <th>...</th>\n      <td>...</td>\n      <td>...</td>\n      <td>...</td>\n      <td>...</td>\n      <td>...</td>\n      <td>...</td>\n    </tr>\n    <tr>\n      <th>121</th>\n      <td>202107-202112</td>\n      <td>경상남도</td>\n      <td>통영시</td>\n      <td>일반용</td>\n      <td>11550</td>\n      <td>162819261</td>\n    </tr>\n    <tr>\n      <th>122</th>\n      <td>202107-202112</td>\n      <td>경상남도</td>\n      <td>하동군</td>\n      <td>일반용</td>\n      <td>4533</td>\n      <td>42322370</td>\n    </tr>\n    <tr>\n      <th>123</th>\n      <td>202107-202112</td>\n      <td>경상남도</td>\n      <td>함안군</td>\n      <td>일반용</td>\n      <td>5330</td>\n      <td>69440000</td>\n    </tr>\n    <tr>\n      <th>124</th>\n      <td>202107-202112</td>\n      <td>경상남도</td>\n      <td>함양군</td>\n      <td>일반용</td>\n      <td>3808</td>\n      <td>35252502</td>\n    </tr>\n    <tr>\n      <th>125</th>\n      <td>202107-202112</td>\n      <td>경상남도</td>\n      <td>합천군</td>\n      <td>일반용</td>\n      <td>4083</td>\n      <td>48581390</td>\n    </tr>\n  </tbody>\n</table>\n<p>126 rows × 6 columns</p>\n</div>"
     },
     "execution_count": 25,
     "metadata": {},
     "output_type": "execute_result"
    }
   ],
   "source": [
    "GyeonGiHap2 = df_3.copy()\n",
    "GyeonGiHap2.reset_index(drop=True , inplace = True)\n",
    "for i in range(len(SIGUNGU)):\n",
    "    GyeonGiHap2 = GyeonGiHap2.append({'년월' :'202107-202112'  , '시구' : '{}'.format(City) , '시군구' : '{}'.format(SIGUNGU[i]) , '계약구분' : '일반용' , '고객호수(호)' : sum3[i] ,  '사용량(kWh)' : sum2[i]} , ignore_index=True) #년월 파일마다 수정하기\n",
    "GyeonGiHap2"
   ],
   "metadata": {
    "collapsed": false,
    "pycharm": {
     "name": "#%%\n"
    }
   }
  },
  {
   "cell_type": "markdown",
   "source": [
    "### 5. 날짜 체크!!!!!!!!!!!!!!!!!!!!!!!!!!!!!!!!!!!!!!!!!!!!!!!!!!!!"
   ],
   "metadata": {
    "collapsed": false,
    "pycharm": {
     "name": "#%% md\n"
    }
   }
  },
  {
   "cell_type": "code",
   "execution_count": 26,
   "outputs": [
    {
     "data": {
      "text/plain": "                년월    시구  시군구 계약구분 고객호수(호)    사용량(kWh)\n108  202107-202112  경상남도  거제시  일반용   17660   239053196\n109  202107-202112  경상남도  거창군  일반용    5225    59839708\n110  202107-202112  경상남도  고성군  일반용    4697    52935132\n111  202107-202112  경상남도  김해시  일반용   31872   526270105\n112  202107-202112  경상남도  남해군  일반용    5070    54928170\n113  202107-202112  경상남도  밀양시  일반용    9849   110431140\n114  202107-202112  경상남도  사천시  일반용    9825   126830620\n115  202107-202112  경상남도  산청군  일반용    3726    36117426\n116  202107-202112  경상남도  양산시  일반용   20006   353489978\n117  202107-202112  경상남도  의령군  일반용    2447    28124639\n118  202107-202112  경상남도  진주시  일반용   25843   365998793\n119  202107-202112  경상남도  창녕군  일반용    5562    67896390\n120  202107-202112  경상남도  창원시  일반용   57311  1071158891\n121  202107-202112  경상남도  통영시  일반용   11550   162819261\n122  202107-202112  경상남도  하동군  일반용    4533    42322370\n123  202107-202112  경상남도  함안군  일반용    5330    69440000\n124  202107-202112  경상남도  함양군  일반용    3808    35252502\n125  202107-202112  경상남도  합천군  일반용    4083    48581390",
      "text/html": "<div>\n<style scoped>\n    .dataframe tbody tr th:only-of-type {\n        vertical-align: middle;\n    }\n\n    .dataframe tbody tr th {\n        vertical-align: top;\n    }\n\n    .dataframe thead th {\n        text-align: right;\n    }\n</style>\n<table border=\"1\" class=\"dataframe\">\n  <thead>\n    <tr style=\"text-align: right;\">\n      <th></th>\n      <th>년월</th>\n      <th>시구</th>\n      <th>시군구</th>\n      <th>계약구분</th>\n      <th>고객호수(호)</th>\n      <th>사용량(kWh)</th>\n    </tr>\n  </thead>\n  <tbody>\n    <tr>\n      <th>108</th>\n      <td>202107-202112</td>\n      <td>경상남도</td>\n      <td>거제시</td>\n      <td>일반용</td>\n      <td>17660</td>\n      <td>239053196</td>\n    </tr>\n    <tr>\n      <th>109</th>\n      <td>202107-202112</td>\n      <td>경상남도</td>\n      <td>거창군</td>\n      <td>일반용</td>\n      <td>5225</td>\n      <td>59839708</td>\n    </tr>\n    <tr>\n      <th>110</th>\n      <td>202107-202112</td>\n      <td>경상남도</td>\n      <td>고성군</td>\n      <td>일반용</td>\n      <td>4697</td>\n      <td>52935132</td>\n    </tr>\n    <tr>\n      <th>111</th>\n      <td>202107-202112</td>\n      <td>경상남도</td>\n      <td>김해시</td>\n      <td>일반용</td>\n      <td>31872</td>\n      <td>526270105</td>\n    </tr>\n    <tr>\n      <th>112</th>\n      <td>202107-202112</td>\n      <td>경상남도</td>\n      <td>남해군</td>\n      <td>일반용</td>\n      <td>5070</td>\n      <td>54928170</td>\n    </tr>\n    <tr>\n      <th>113</th>\n      <td>202107-202112</td>\n      <td>경상남도</td>\n      <td>밀양시</td>\n      <td>일반용</td>\n      <td>9849</td>\n      <td>110431140</td>\n    </tr>\n    <tr>\n      <th>114</th>\n      <td>202107-202112</td>\n      <td>경상남도</td>\n      <td>사천시</td>\n      <td>일반용</td>\n      <td>9825</td>\n      <td>126830620</td>\n    </tr>\n    <tr>\n      <th>115</th>\n      <td>202107-202112</td>\n      <td>경상남도</td>\n      <td>산청군</td>\n      <td>일반용</td>\n      <td>3726</td>\n      <td>36117426</td>\n    </tr>\n    <tr>\n      <th>116</th>\n      <td>202107-202112</td>\n      <td>경상남도</td>\n      <td>양산시</td>\n      <td>일반용</td>\n      <td>20006</td>\n      <td>353489978</td>\n    </tr>\n    <tr>\n      <th>117</th>\n      <td>202107-202112</td>\n      <td>경상남도</td>\n      <td>의령군</td>\n      <td>일반용</td>\n      <td>2447</td>\n      <td>28124639</td>\n    </tr>\n    <tr>\n      <th>118</th>\n      <td>202107-202112</td>\n      <td>경상남도</td>\n      <td>진주시</td>\n      <td>일반용</td>\n      <td>25843</td>\n      <td>365998793</td>\n    </tr>\n    <tr>\n      <th>119</th>\n      <td>202107-202112</td>\n      <td>경상남도</td>\n      <td>창녕군</td>\n      <td>일반용</td>\n      <td>5562</td>\n      <td>67896390</td>\n    </tr>\n    <tr>\n      <th>120</th>\n      <td>202107-202112</td>\n      <td>경상남도</td>\n      <td>창원시</td>\n      <td>일반용</td>\n      <td>57311</td>\n      <td>1071158891</td>\n    </tr>\n    <tr>\n      <th>121</th>\n      <td>202107-202112</td>\n      <td>경상남도</td>\n      <td>통영시</td>\n      <td>일반용</td>\n      <td>11550</td>\n      <td>162819261</td>\n    </tr>\n    <tr>\n      <th>122</th>\n      <td>202107-202112</td>\n      <td>경상남도</td>\n      <td>하동군</td>\n      <td>일반용</td>\n      <td>4533</td>\n      <td>42322370</td>\n    </tr>\n    <tr>\n      <th>123</th>\n      <td>202107-202112</td>\n      <td>경상남도</td>\n      <td>함안군</td>\n      <td>일반용</td>\n      <td>5330</td>\n      <td>69440000</td>\n    </tr>\n    <tr>\n      <th>124</th>\n      <td>202107-202112</td>\n      <td>경상남도</td>\n      <td>함양군</td>\n      <td>일반용</td>\n      <td>3808</td>\n      <td>35252502</td>\n    </tr>\n    <tr>\n      <th>125</th>\n      <td>202107-202112</td>\n      <td>경상남도</td>\n      <td>합천군</td>\n      <td>일반용</td>\n      <td>4083</td>\n      <td>48581390</td>\n    </tr>\n  </tbody>\n</table>\n</div>"
     },
     "execution_count": 26,
     "metadata": {},
     "output_type": "execute_result"
    }
   ],
   "source": [
    "GyeonGiHap2 = GyeonGiHap2.loc[GyeonGiHap2['년월'] == '202107-202112']\n",
    "GyeonGiHap2"
   ],
   "metadata": {
    "collapsed": false,
    "pycharm": {
     "name": "#%%\n"
    }
   }
  },
  {
   "cell_type": "code",
   "execution_count": 27,
   "outputs": [
    {
     "data": {
      "text/plain": "                년월    시구  시군구 계약구분 고객호수(호)    사용량(kWh)\n108  202107-202112  경상남도  거제시  일반용   17660   239053196\n108  202107-202112  경상남도  거제시   합계   21153  1041168861\n109  202107-202112  경상남도  거창군  일반용    5225    59839708\n109  202107-202112  경상남도  거창군   합계   10464   235602805\n110  202107-202112  경상남도  고성군  일반용    4697    52935132\n110  202107-202112  경상남도  고성군   합계    9803   389369834\n111  202107-202112  경상남도  김해시   합계   35050  2718403779\n111  202107-202112  경상남도  김해시  일반용   31872   526270105\n112  202107-202112  경상남도  남해군   합계    8980   142151493\n112  202107-202112  경상남도  남해군  일반용    5070    54928170\n113  202107-202112  경상남도  밀양시  일반용    9849   110431140\n113  202107-202112  경상남도  밀양시   합계   18185   605800713\n114  202107-202112  경상남도  사천시   합계   13841   716035858\n114  202107-202112  경상남도  사천시  일반용    9825   126830620\n115  202107-202112  경상남도  산청군  일반용    3726    36117426\n115  202107-202112  경상남도  산청군   합계    8516   176390455\n116  202107-202112  경상남도  양산시  일반용   20006   353489978\n116  202107-202112  경상남도  양산시   합계   21243  1920596355\n117  202107-202112  경상남도  의령군  일반용    2447    28124639\n117  202107-202112  경상남도  의령군   합계    6339   198480386\n118  202107-202112  경상남도  진주시   합계   33976  1327243855\n118  202107-202112  경상남도  진주시  일반용   25843   365998793\n119  202107-202112  경상남도  창녕군   합계   11274   516764351\n119  202107-202112  경상남도  창녕군  일반용    5562    67896390\n120  202107-202112  경상남도  창원시  일반용   57311  1071158891\n120  202107-202112  경상남도  창원시   합계   76089  5333050015\n121  202107-202112  경상남도  통영시   합계   14124   480639617\n121  202107-202112  경상남도  통영시  일반용   11550   162819261\n122  202107-202112  경상남도  하동군   합계    9810   194763729\n122  202107-202112  경상남도  하동군  일반용    4533    42322370\n123  202107-202112  경상남도  함안군   합계    9758  1391809744\n123  202107-202112  경상남도  함안군  일반용    5330    69440000\n124  202107-202112  경상남도  함양군   합계    7786   148877174\n124  202107-202112  경상남도  함양군  일반용    3808    35252502\n125  202107-202112  경상남도  합천군  일반용    4083    48581390\n125  202107-202112  경상남도  합천군   합계    9723   207533027",
      "text/html": "<div>\n<style scoped>\n    .dataframe tbody tr th:only-of-type {\n        vertical-align: middle;\n    }\n\n    .dataframe tbody tr th {\n        vertical-align: top;\n    }\n\n    .dataframe thead th {\n        text-align: right;\n    }\n</style>\n<table border=\"1\" class=\"dataframe\">\n  <thead>\n    <tr style=\"text-align: right;\">\n      <th></th>\n      <th>년월</th>\n      <th>시구</th>\n      <th>시군구</th>\n      <th>계약구분</th>\n      <th>고객호수(호)</th>\n      <th>사용량(kWh)</th>\n    </tr>\n  </thead>\n  <tbody>\n    <tr>\n      <th>108</th>\n      <td>202107-202112</td>\n      <td>경상남도</td>\n      <td>거제시</td>\n      <td>일반용</td>\n      <td>17660</td>\n      <td>239053196</td>\n    </tr>\n    <tr>\n      <th>108</th>\n      <td>202107-202112</td>\n      <td>경상남도</td>\n      <td>거제시</td>\n      <td>합계</td>\n      <td>21153</td>\n      <td>1041168861</td>\n    </tr>\n    <tr>\n      <th>109</th>\n      <td>202107-202112</td>\n      <td>경상남도</td>\n      <td>거창군</td>\n      <td>일반용</td>\n      <td>5225</td>\n      <td>59839708</td>\n    </tr>\n    <tr>\n      <th>109</th>\n      <td>202107-202112</td>\n      <td>경상남도</td>\n      <td>거창군</td>\n      <td>합계</td>\n      <td>10464</td>\n      <td>235602805</td>\n    </tr>\n    <tr>\n      <th>110</th>\n      <td>202107-202112</td>\n      <td>경상남도</td>\n      <td>고성군</td>\n      <td>일반용</td>\n      <td>4697</td>\n      <td>52935132</td>\n    </tr>\n    <tr>\n      <th>110</th>\n      <td>202107-202112</td>\n      <td>경상남도</td>\n      <td>고성군</td>\n      <td>합계</td>\n      <td>9803</td>\n      <td>389369834</td>\n    </tr>\n    <tr>\n      <th>111</th>\n      <td>202107-202112</td>\n      <td>경상남도</td>\n      <td>김해시</td>\n      <td>합계</td>\n      <td>35050</td>\n      <td>2718403779</td>\n    </tr>\n    <tr>\n      <th>111</th>\n      <td>202107-202112</td>\n      <td>경상남도</td>\n      <td>김해시</td>\n      <td>일반용</td>\n      <td>31872</td>\n      <td>526270105</td>\n    </tr>\n    <tr>\n      <th>112</th>\n      <td>202107-202112</td>\n      <td>경상남도</td>\n      <td>남해군</td>\n      <td>합계</td>\n      <td>8980</td>\n      <td>142151493</td>\n    </tr>\n    <tr>\n      <th>112</th>\n      <td>202107-202112</td>\n      <td>경상남도</td>\n      <td>남해군</td>\n      <td>일반용</td>\n      <td>5070</td>\n      <td>54928170</td>\n    </tr>\n    <tr>\n      <th>113</th>\n      <td>202107-202112</td>\n      <td>경상남도</td>\n      <td>밀양시</td>\n      <td>일반용</td>\n      <td>9849</td>\n      <td>110431140</td>\n    </tr>\n    <tr>\n      <th>113</th>\n      <td>202107-202112</td>\n      <td>경상남도</td>\n      <td>밀양시</td>\n      <td>합계</td>\n      <td>18185</td>\n      <td>605800713</td>\n    </tr>\n    <tr>\n      <th>114</th>\n      <td>202107-202112</td>\n      <td>경상남도</td>\n      <td>사천시</td>\n      <td>합계</td>\n      <td>13841</td>\n      <td>716035858</td>\n    </tr>\n    <tr>\n      <th>114</th>\n      <td>202107-202112</td>\n      <td>경상남도</td>\n      <td>사천시</td>\n      <td>일반용</td>\n      <td>9825</td>\n      <td>126830620</td>\n    </tr>\n    <tr>\n      <th>115</th>\n      <td>202107-202112</td>\n      <td>경상남도</td>\n      <td>산청군</td>\n      <td>일반용</td>\n      <td>3726</td>\n      <td>36117426</td>\n    </tr>\n    <tr>\n      <th>115</th>\n      <td>202107-202112</td>\n      <td>경상남도</td>\n      <td>산청군</td>\n      <td>합계</td>\n      <td>8516</td>\n      <td>176390455</td>\n    </tr>\n    <tr>\n      <th>116</th>\n      <td>202107-202112</td>\n      <td>경상남도</td>\n      <td>양산시</td>\n      <td>일반용</td>\n      <td>20006</td>\n      <td>353489978</td>\n    </tr>\n    <tr>\n      <th>116</th>\n      <td>202107-202112</td>\n      <td>경상남도</td>\n      <td>양산시</td>\n      <td>합계</td>\n      <td>21243</td>\n      <td>1920596355</td>\n    </tr>\n    <tr>\n      <th>117</th>\n      <td>202107-202112</td>\n      <td>경상남도</td>\n      <td>의령군</td>\n      <td>일반용</td>\n      <td>2447</td>\n      <td>28124639</td>\n    </tr>\n    <tr>\n      <th>117</th>\n      <td>202107-202112</td>\n      <td>경상남도</td>\n      <td>의령군</td>\n      <td>합계</td>\n      <td>6339</td>\n      <td>198480386</td>\n    </tr>\n    <tr>\n      <th>118</th>\n      <td>202107-202112</td>\n      <td>경상남도</td>\n      <td>진주시</td>\n      <td>합계</td>\n      <td>33976</td>\n      <td>1327243855</td>\n    </tr>\n    <tr>\n      <th>118</th>\n      <td>202107-202112</td>\n      <td>경상남도</td>\n      <td>진주시</td>\n      <td>일반용</td>\n      <td>25843</td>\n      <td>365998793</td>\n    </tr>\n    <tr>\n      <th>119</th>\n      <td>202107-202112</td>\n      <td>경상남도</td>\n      <td>창녕군</td>\n      <td>합계</td>\n      <td>11274</td>\n      <td>516764351</td>\n    </tr>\n    <tr>\n      <th>119</th>\n      <td>202107-202112</td>\n      <td>경상남도</td>\n      <td>창녕군</td>\n      <td>일반용</td>\n      <td>5562</td>\n      <td>67896390</td>\n    </tr>\n    <tr>\n      <th>120</th>\n      <td>202107-202112</td>\n      <td>경상남도</td>\n      <td>창원시</td>\n      <td>일반용</td>\n      <td>57311</td>\n      <td>1071158891</td>\n    </tr>\n    <tr>\n      <th>120</th>\n      <td>202107-202112</td>\n      <td>경상남도</td>\n      <td>창원시</td>\n      <td>합계</td>\n      <td>76089</td>\n      <td>5333050015</td>\n    </tr>\n    <tr>\n      <th>121</th>\n      <td>202107-202112</td>\n      <td>경상남도</td>\n      <td>통영시</td>\n      <td>합계</td>\n      <td>14124</td>\n      <td>480639617</td>\n    </tr>\n    <tr>\n      <th>121</th>\n      <td>202107-202112</td>\n      <td>경상남도</td>\n      <td>통영시</td>\n      <td>일반용</td>\n      <td>11550</td>\n      <td>162819261</td>\n    </tr>\n    <tr>\n      <th>122</th>\n      <td>202107-202112</td>\n      <td>경상남도</td>\n      <td>하동군</td>\n      <td>합계</td>\n      <td>9810</td>\n      <td>194763729</td>\n    </tr>\n    <tr>\n      <th>122</th>\n      <td>202107-202112</td>\n      <td>경상남도</td>\n      <td>하동군</td>\n      <td>일반용</td>\n      <td>4533</td>\n      <td>42322370</td>\n    </tr>\n    <tr>\n      <th>123</th>\n      <td>202107-202112</td>\n      <td>경상남도</td>\n      <td>함안군</td>\n      <td>합계</td>\n      <td>9758</td>\n      <td>1391809744</td>\n    </tr>\n    <tr>\n      <th>123</th>\n      <td>202107-202112</td>\n      <td>경상남도</td>\n      <td>함안군</td>\n      <td>일반용</td>\n      <td>5330</td>\n      <td>69440000</td>\n    </tr>\n    <tr>\n      <th>124</th>\n      <td>202107-202112</td>\n      <td>경상남도</td>\n      <td>함양군</td>\n      <td>합계</td>\n      <td>7786</td>\n      <td>148877174</td>\n    </tr>\n    <tr>\n      <th>124</th>\n      <td>202107-202112</td>\n      <td>경상남도</td>\n      <td>함양군</td>\n      <td>일반용</td>\n      <td>3808</td>\n      <td>35252502</td>\n    </tr>\n    <tr>\n      <th>125</th>\n      <td>202107-202112</td>\n      <td>경상남도</td>\n      <td>합천군</td>\n      <td>일반용</td>\n      <td>4083</td>\n      <td>48581390</td>\n    </tr>\n    <tr>\n      <th>125</th>\n      <td>202107-202112</td>\n      <td>경상남도</td>\n      <td>합천군</td>\n      <td>합계</td>\n      <td>9723</td>\n      <td>207533027</td>\n    </tr>\n  </tbody>\n</table>\n</div>"
     },
     "execution_count": 27,
     "metadata": {},
     "output_type": "execute_result"
    }
   ],
   "source": [
    "Final = pd.concat([GyeonGiHap2 , Hap])\n",
    "Final = Final.sort_values('시군구')\n",
    "Final"
   ],
   "metadata": {
    "collapsed": false,
    "pycharm": {
     "name": "#%%\n"
    }
   }
  },
  {
   "cell_type": "code",
   "execution_count": 28,
   "outputs": [
    {
     "data": {
      "text/plain": "[239053196,\n 59839708,\n 52935132,\n 526270105,\n 54928170,\n 110431140,\n 126830620,\n 36117426,\n 353489978,\n 28124639,\n 365998793,\n 67896390,\n 1071158891,\n 162819261,\n 42322370,\n 69440000,\n 35252502,\n 48581390]"
     },
     "execution_count": 28,
     "metadata": {},
     "output_type": "execute_result"
    }
   ],
   "source": [
    "# Final['일반용 전기의 비율'] = (Final['사용량(kWh)'].loc[Final['계약구분'] == '일반용']) // (Final['사용량(kWh)'].loc[Final['계약구분'] == '합계'])\n",
    "# Final\n",
    "ex = (Final['사용량(kWh)'].loc[Final['계약구분'] == '일반용']).tolist()\n",
    "\n",
    "\n",
    "ex\n"
   ],
   "metadata": {
    "collapsed": false,
    "pycharm": {
     "name": "#%%\n"
    }
   }
  },
  {
   "cell_type": "code",
   "execution_count": 29,
   "outputs": [
    {
     "data": {
      "text/plain": "[1041168861,\n 235602805,\n 389369834,\n 2718403779,\n 142151493,\n 605800713,\n 716035858,\n 176390455,\n 1920596355,\n 198480386,\n 1327243855,\n 516764351,\n 5333050015,\n 480639617,\n 194763729,\n 1391809744,\n 148877174,\n 207533027]"
     },
     "execution_count": 29,
     "metadata": {},
     "output_type": "execute_result"
    }
   ],
   "source": [
    "ex_2 =(Final['사용량(kWh)'].loc[Final['계약구분'] == '합계']).tolist()\n",
    "ex_2"
   ],
   "metadata": {
    "collapsed": false,
    "pycharm": {
     "name": "#%%\n"
    }
   }
  },
  {
   "cell_type": "code",
   "execution_count": 30,
   "outputs": [
    {
     "name": "stdout",
     "output_type": "stream",
     "text": [
      "[22.96, 25.4, 13.6, 19.36, 38.64, 18.23, 17.71, 20.48, 18.41, 14.17, 27.58, 13.14, 20.09, 33.88, 21.73, 4.99, 23.68, 23.41]\n"
     ]
    }
   ],
   "source": [
    "Rate = []\n",
    "ilban = []\n",
    "rae = 0\n",
    "for i in range(len(ex)):\n",
    "    rae = round(ex[i] / ex_2[i] *100 ,2)\n",
    "    Rate.append(rae)\n",
    "print(Rate)"
   ],
   "metadata": {
    "collapsed": false,
    "pycharm": {
     "name": "#%%\n"
    }
   }
  },
  {
   "cell_type": "code",
   "execution_count": 31,
   "outputs": [
    {
     "data": {
      "text/plain": "0    23\n1    25\n2    14\n3    19\n4    39\n5    18\n6    18\n7    20\n8    18\n9    14\n10   28\n11   13\n12   20\n13   34\n14   22\n15    5\n16   24\n17   23\ndtype: float64"
     },
     "execution_count": 31,
     "metadata": {},
     "output_type": "execute_result"
    }
   ],
   "source": [
    "Rate3 = pd.Series(Rate)\n",
    "Rate3\n",
    "\n",
    "# Final = pd.concat([Final , Rate3])\n",
    "# Final"
   ],
   "metadata": {
    "collapsed": false,
    "pycharm": {
     "name": "#%%\n"
    }
   }
  },
  {
   "cell_type": "code",
   "execution_count": 32,
   "outputs": [
    {
     "data": {
      "text/plain": "    시군구 계약구분  비율\n0   거제시  일반용  23\n1   거창군  일반용  25\n2   고성군  일반용  14\n3   김해시  일반용  19\n4   남해군  일반용  39\n5   밀양시  일반용  18\n6   사천시  일반용  18\n7   산청군  일반용  20\n8   양산시  일반용  18\n9   의령군  일반용  14\n10  진주시  일반용  28\n11  창녕군  일반용  13\n12  창원시  일반용  20\n13  통영시  일반용  34\n14  하동군  일반용  22\n15  함안군  일반용   5\n16  함양군  일반용  24\n17  합천군  일반용  23",
      "text/html": "<div>\n<style scoped>\n    .dataframe tbody tr th:only-of-type {\n        vertical-align: middle;\n    }\n\n    .dataframe tbody tr th {\n        vertical-align: top;\n    }\n\n    .dataframe thead th {\n        text-align: right;\n    }\n</style>\n<table border=\"1\" class=\"dataframe\">\n  <thead>\n    <tr style=\"text-align: right;\">\n      <th></th>\n      <th>시군구</th>\n      <th>계약구분</th>\n      <th>비율</th>\n    </tr>\n  </thead>\n  <tbody>\n    <tr>\n      <th>0</th>\n      <td>거제시</td>\n      <td>일반용</td>\n      <td>23</td>\n    </tr>\n    <tr>\n      <th>1</th>\n      <td>거창군</td>\n      <td>일반용</td>\n      <td>25</td>\n    </tr>\n    <tr>\n      <th>2</th>\n      <td>고성군</td>\n      <td>일반용</td>\n      <td>14</td>\n    </tr>\n    <tr>\n      <th>3</th>\n      <td>김해시</td>\n      <td>일반용</td>\n      <td>19</td>\n    </tr>\n    <tr>\n      <th>4</th>\n      <td>남해군</td>\n      <td>일반용</td>\n      <td>39</td>\n    </tr>\n    <tr>\n      <th>5</th>\n      <td>밀양시</td>\n      <td>일반용</td>\n      <td>18</td>\n    </tr>\n    <tr>\n      <th>6</th>\n      <td>사천시</td>\n      <td>일반용</td>\n      <td>18</td>\n    </tr>\n    <tr>\n      <th>7</th>\n      <td>산청군</td>\n      <td>일반용</td>\n      <td>20</td>\n    </tr>\n    <tr>\n      <th>8</th>\n      <td>양산시</td>\n      <td>일반용</td>\n      <td>18</td>\n    </tr>\n    <tr>\n      <th>9</th>\n      <td>의령군</td>\n      <td>일반용</td>\n      <td>14</td>\n    </tr>\n    <tr>\n      <th>10</th>\n      <td>진주시</td>\n      <td>일반용</td>\n      <td>28</td>\n    </tr>\n    <tr>\n      <th>11</th>\n      <td>창녕군</td>\n      <td>일반용</td>\n      <td>13</td>\n    </tr>\n    <tr>\n      <th>12</th>\n      <td>창원시</td>\n      <td>일반용</td>\n      <td>20</td>\n    </tr>\n    <tr>\n      <th>13</th>\n      <td>통영시</td>\n      <td>일반용</td>\n      <td>34</td>\n    </tr>\n    <tr>\n      <th>14</th>\n      <td>하동군</td>\n      <td>일반용</td>\n      <td>22</td>\n    </tr>\n    <tr>\n      <th>15</th>\n      <td>함안군</td>\n      <td>일반용</td>\n      <td>5</td>\n    </tr>\n    <tr>\n      <th>16</th>\n      <td>함양군</td>\n      <td>일반용</td>\n      <td>24</td>\n    </tr>\n    <tr>\n      <th>17</th>\n      <td>합천군</td>\n      <td>일반용</td>\n      <td>23</td>\n    </tr>\n  </tbody>\n</table>\n</div>"
     },
     "execution_count": 32,
     "metadata": {},
     "output_type": "execute_result"
    }
   ],
   "source": [
    "for j in range(len(Rate)):\n",
    "    ilban.append('일반용')\n",
    "#print(Rate)\n",
    "\n",
    "Rate2 = pd.DataFrame()\n",
    "Rate2['시군구'] = pd.DataFrame(SIGUNGU)\n",
    "Rate2['계약구분'] = pd.DataFrame(ilban)\n",
    "Rate2['비율'] = pd.DataFrame(Rate)\n",
    "Rate2\n",
    "#print(Rate2.dtypes)"
   ],
   "metadata": {
    "collapsed": false,
    "pycharm": {
     "name": "#%%\n"
    }
   }
  },
  {
   "cell_type": "code",
   "execution_count": 33,
   "outputs": [
    {
     "data": {
      "text/plain": "               년월    시구  시군구 계약구분 고객호수(호)    사용량(kWh)  비율\n0   202107-202112  경상남도  거제시  일반용   17660   239053196  23\n1   202107-202112  경상남도  거제시   합계   21153  1041168861 NaN\n2   202107-202112  경상남도  거창군  일반용    5225    59839708  25\n3   202107-202112  경상남도  거창군   합계   10464   235602805 NaN\n4   202107-202112  경상남도  고성군  일반용    4697    52935132  14\n5   202107-202112  경상남도  고성군   합계    9803   389369834 NaN\n7   202107-202112  경상남도  김해시  일반용   31872   526270105  19\n6   202107-202112  경상남도  김해시   합계   35050  2718403779 NaN\n9   202107-202112  경상남도  남해군  일반용    5070    54928170  39\n8   202107-202112  경상남도  남해군   합계    8980   142151493 NaN\n10  202107-202112  경상남도  밀양시  일반용    9849   110431140  18\n11  202107-202112  경상남도  밀양시   합계   18185   605800713 NaN\n13  202107-202112  경상남도  사천시  일반용    9825   126830620  18\n12  202107-202112  경상남도  사천시   합계   13841   716035858 NaN\n14  202107-202112  경상남도  산청군  일반용    3726    36117426  20\n15  202107-202112  경상남도  산청군   합계    8516   176390455 NaN\n16  202107-202112  경상남도  양산시  일반용   20006   353489978  18\n17  202107-202112  경상남도  양산시   합계   21243  1920596355 NaN\n18  202107-202112  경상남도  의령군  일반용    2447    28124639  14\n19  202107-202112  경상남도  의령군   합계    6339   198480386 NaN\n21  202107-202112  경상남도  진주시  일반용   25843   365998793  28\n20  202107-202112  경상남도  진주시   합계   33976  1327243855 NaN\n23  202107-202112  경상남도  창녕군  일반용    5562    67896390  13\n22  202107-202112  경상남도  창녕군   합계   11274   516764351 NaN\n24  202107-202112  경상남도  창원시  일반용   57311  1071158891  20\n25  202107-202112  경상남도  창원시   합계   76089  5333050015 NaN\n27  202107-202112  경상남도  통영시  일반용   11550   162819261  34\n26  202107-202112  경상남도  통영시   합계   14124   480639617 NaN\n29  202107-202112  경상남도  하동군  일반용    4533    42322370  22\n28  202107-202112  경상남도  하동군   합계    9810   194763729 NaN\n31  202107-202112  경상남도  함안군  일반용    5330    69440000   5\n30  202107-202112  경상남도  함안군   합계    9758  1391809744 NaN\n33  202107-202112  경상남도  함양군  일반용    3808    35252502  24\n32  202107-202112  경상남도  함양군   합계    7786   148877174 NaN\n34  202107-202112  경상남도  합천군  일반용    4083    48581390  23\n35  202107-202112  경상남도  합천군   합계    9723   207533027 NaN",
      "text/html": "<div>\n<style scoped>\n    .dataframe tbody tr th:only-of-type {\n        vertical-align: middle;\n    }\n\n    .dataframe tbody tr th {\n        vertical-align: top;\n    }\n\n    .dataframe thead th {\n        text-align: right;\n    }\n</style>\n<table border=\"1\" class=\"dataframe\">\n  <thead>\n    <tr style=\"text-align: right;\">\n      <th></th>\n      <th>년월</th>\n      <th>시구</th>\n      <th>시군구</th>\n      <th>계약구분</th>\n      <th>고객호수(호)</th>\n      <th>사용량(kWh)</th>\n      <th>비율</th>\n    </tr>\n  </thead>\n  <tbody>\n    <tr>\n      <th>0</th>\n      <td>202107-202112</td>\n      <td>경상남도</td>\n      <td>거제시</td>\n      <td>일반용</td>\n      <td>17660</td>\n      <td>239053196</td>\n      <td>23</td>\n    </tr>\n    <tr>\n      <th>1</th>\n      <td>202107-202112</td>\n      <td>경상남도</td>\n      <td>거제시</td>\n      <td>합계</td>\n      <td>21153</td>\n      <td>1041168861</td>\n      <td>NaN</td>\n    </tr>\n    <tr>\n      <th>2</th>\n      <td>202107-202112</td>\n      <td>경상남도</td>\n      <td>거창군</td>\n      <td>일반용</td>\n      <td>5225</td>\n      <td>59839708</td>\n      <td>25</td>\n    </tr>\n    <tr>\n      <th>3</th>\n      <td>202107-202112</td>\n      <td>경상남도</td>\n      <td>거창군</td>\n      <td>합계</td>\n      <td>10464</td>\n      <td>235602805</td>\n      <td>NaN</td>\n    </tr>\n    <tr>\n      <th>4</th>\n      <td>202107-202112</td>\n      <td>경상남도</td>\n      <td>고성군</td>\n      <td>일반용</td>\n      <td>4697</td>\n      <td>52935132</td>\n      <td>14</td>\n    </tr>\n    <tr>\n      <th>5</th>\n      <td>202107-202112</td>\n      <td>경상남도</td>\n      <td>고성군</td>\n      <td>합계</td>\n      <td>9803</td>\n      <td>389369834</td>\n      <td>NaN</td>\n    </tr>\n    <tr>\n      <th>7</th>\n      <td>202107-202112</td>\n      <td>경상남도</td>\n      <td>김해시</td>\n      <td>일반용</td>\n      <td>31872</td>\n      <td>526270105</td>\n      <td>19</td>\n    </tr>\n    <tr>\n      <th>6</th>\n      <td>202107-202112</td>\n      <td>경상남도</td>\n      <td>김해시</td>\n      <td>합계</td>\n      <td>35050</td>\n      <td>2718403779</td>\n      <td>NaN</td>\n    </tr>\n    <tr>\n      <th>9</th>\n      <td>202107-202112</td>\n      <td>경상남도</td>\n      <td>남해군</td>\n      <td>일반용</td>\n      <td>5070</td>\n      <td>54928170</td>\n      <td>39</td>\n    </tr>\n    <tr>\n      <th>8</th>\n      <td>202107-202112</td>\n      <td>경상남도</td>\n      <td>남해군</td>\n      <td>합계</td>\n      <td>8980</td>\n      <td>142151493</td>\n      <td>NaN</td>\n    </tr>\n    <tr>\n      <th>10</th>\n      <td>202107-202112</td>\n      <td>경상남도</td>\n      <td>밀양시</td>\n      <td>일반용</td>\n      <td>9849</td>\n      <td>110431140</td>\n      <td>18</td>\n    </tr>\n    <tr>\n      <th>11</th>\n      <td>202107-202112</td>\n      <td>경상남도</td>\n      <td>밀양시</td>\n      <td>합계</td>\n      <td>18185</td>\n      <td>605800713</td>\n      <td>NaN</td>\n    </tr>\n    <tr>\n      <th>13</th>\n      <td>202107-202112</td>\n      <td>경상남도</td>\n      <td>사천시</td>\n      <td>일반용</td>\n      <td>9825</td>\n      <td>126830620</td>\n      <td>18</td>\n    </tr>\n    <tr>\n      <th>12</th>\n      <td>202107-202112</td>\n      <td>경상남도</td>\n      <td>사천시</td>\n      <td>합계</td>\n      <td>13841</td>\n      <td>716035858</td>\n      <td>NaN</td>\n    </tr>\n    <tr>\n      <th>14</th>\n      <td>202107-202112</td>\n      <td>경상남도</td>\n      <td>산청군</td>\n      <td>일반용</td>\n      <td>3726</td>\n      <td>36117426</td>\n      <td>20</td>\n    </tr>\n    <tr>\n      <th>15</th>\n      <td>202107-202112</td>\n      <td>경상남도</td>\n      <td>산청군</td>\n      <td>합계</td>\n      <td>8516</td>\n      <td>176390455</td>\n      <td>NaN</td>\n    </tr>\n    <tr>\n      <th>16</th>\n      <td>202107-202112</td>\n      <td>경상남도</td>\n      <td>양산시</td>\n      <td>일반용</td>\n      <td>20006</td>\n      <td>353489978</td>\n      <td>18</td>\n    </tr>\n    <tr>\n      <th>17</th>\n      <td>202107-202112</td>\n      <td>경상남도</td>\n      <td>양산시</td>\n      <td>합계</td>\n      <td>21243</td>\n      <td>1920596355</td>\n      <td>NaN</td>\n    </tr>\n    <tr>\n      <th>18</th>\n      <td>202107-202112</td>\n      <td>경상남도</td>\n      <td>의령군</td>\n      <td>일반용</td>\n      <td>2447</td>\n      <td>28124639</td>\n      <td>14</td>\n    </tr>\n    <tr>\n      <th>19</th>\n      <td>202107-202112</td>\n      <td>경상남도</td>\n      <td>의령군</td>\n      <td>합계</td>\n      <td>6339</td>\n      <td>198480386</td>\n      <td>NaN</td>\n    </tr>\n    <tr>\n      <th>21</th>\n      <td>202107-202112</td>\n      <td>경상남도</td>\n      <td>진주시</td>\n      <td>일반용</td>\n      <td>25843</td>\n      <td>365998793</td>\n      <td>28</td>\n    </tr>\n    <tr>\n      <th>20</th>\n      <td>202107-202112</td>\n      <td>경상남도</td>\n      <td>진주시</td>\n      <td>합계</td>\n      <td>33976</td>\n      <td>1327243855</td>\n      <td>NaN</td>\n    </tr>\n    <tr>\n      <th>23</th>\n      <td>202107-202112</td>\n      <td>경상남도</td>\n      <td>창녕군</td>\n      <td>일반용</td>\n      <td>5562</td>\n      <td>67896390</td>\n      <td>13</td>\n    </tr>\n    <tr>\n      <th>22</th>\n      <td>202107-202112</td>\n      <td>경상남도</td>\n      <td>창녕군</td>\n      <td>합계</td>\n      <td>11274</td>\n      <td>516764351</td>\n      <td>NaN</td>\n    </tr>\n    <tr>\n      <th>24</th>\n      <td>202107-202112</td>\n      <td>경상남도</td>\n      <td>창원시</td>\n      <td>일반용</td>\n      <td>57311</td>\n      <td>1071158891</td>\n      <td>20</td>\n    </tr>\n    <tr>\n      <th>25</th>\n      <td>202107-202112</td>\n      <td>경상남도</td>\n      <td>창원시</td>\n      <td>합계</td>\n      <td>76089</td>\n      <td>5333050015</td>\n      <td>NaN</td>\n    </tr>\n    <tr>\n      <th>27</th>\n      <td>202107-202112</td>\n      <td>경상남도</td>\n      <td>통영시</td>\n      <td>일반용</td>\n      <td>11550</td>\n      <td>162819261</td>\n      <td>34</td>\n    </tr>\n    <tr>\n      <th>26</th>\n      <td>202107-202112</td>\n      <td>경상남도</td>\n      <td>통영시</td>\n      <td>합계</td>\n      <td>14124</td>\n      <td>480639617</td>\n      <td>NaN</td>\n    </tr>\n    <tr>\n      <th>29</th>\n      <td>202107-202112</td>\n      <td>경상남도</td>\n      <td>하동군</td>\n      <td>일반용</td>\n      <td>4533</td>\n      <td>42322370</td>\n      <td>22</td>\n    </tr>\n    <tr>\n      <th>28</th>\n      <td>202107-202112</td>\n      <td>경상남도</td>\n      <td>하동군</td>\n      <td>합계</td>\n      <td>9810</td>\n      <td>194763729</td>\n      <td>NaN</td>\n    </tr>\n    <tr>\n      <th>31</th>\n      <td>202107-202112</td>\n      <td>경상남도</td>\n      <td>함안군</td>\n      <td>일반용</td>\n      <td>5330</td>\n      <td>69440000</td>\n      <td>5</td>\n    </tr>\n    <tr>\n      <th>30</th>\n      <td>202107-202112</td>\n      <td>경상남도</td>\n      <td>함안군</td>\n      <td>합계</td>\n      <td>9758</td>\n      <td>1391809744</td>\n      <td>NaN</td>\n    </tr>\n    <tr>\n      <th>33</th>\n      <td>202107-202112</td>\n      <td>경상남도</td>\n      <td>함양군</td>\n      <td>일반용</td>\n      <td>3808</td>\n      <td>35252502</td>\n      <td>24</td>\n    </tr>\n    <tr>\n      <th>32</th>\n      <td>202107-202112</td>\n      <td>경상남도</td>\n      <td>함양군</td>\n      <td>합계</td>\n      <td>7786</td>\n      <td>148877174</td>\n      <td>NaN</td>\n    </tr>\n    <tr>\n      <th>34</th>\n      <td>202107-202112</td>\n      <td>경상남도</td>\n      <td>합천군</td>\n      <td>일반용</td>\n      <td>4083</td>\n      <td>48581390</td>\n      <td>23</td>\n    </tr>\n    <tr>\n      <th>35</th>\n      <td>202107-202112</td>\n      <td>경상남도</td>\n      <td>합천군</td>\n      <td>합계</td>\n      <td>9723</td>\n      <td>207533027</td>\n      <td>NaN</td>\n    </tr>\n  </tbody>\n</table>\n</div>"
     },
     "execution_count": 33,
     "metadata": {},
     "output_type": "execute_result"
    }
   ],
   "source": [
    "Final = pd.merge(Final , Rate2, on=['시군구', '계약구분'] , how='left')\n",
    "\n",
    "#Final.drop(['비율_y]' , axis = 1 , inplace = True)\n",
    "#Final.rename(columns={'비율_y':'전체 계약종별 전력사용량 대비 일반용 사용량 비율'})\n",
    "Final = Final.sort_values(['시군구' , '계약구분'])\n",
    "Final"
   ],
   "metadata": {
    "collapsed": false,
    "pycharm": {
     "name": "#%%\n"
    }
   }
  },
  {
   "cell_type": "code",
   "execution_count": 34,
   "outputs": [],
   "source": [
    "# Final['일반용 전기의 비율'] = Final.append(Rate)\n",
    "# Final"
   ],
   "metadata": {
    "collapsed": false,
    "pycharm": {
     "name": "#%%\n"
    }
   }
  },
  {
   "cell_type": "markdown",
   "source": [
    "### 6. 날짜 체크!!!!!!!!!!!!!!!!!!!!1"
   ],
   "metadata": {
    "collapsed": false,
    "pycharm": {
     "name": "#%% md\n"
    }
   }
  },
  {
   "cell_type": "code",
   "execution_count": 35,
   "outputs": [],
   "source": [
    "Final.to_csv(\"{}_일반용_전력사용량_2107-12.csv\".format(City) , mode = 'w' , encoding= 'cp949' , index =False) #파일명 수정"
   ],
   "metadata": {
    "collapsed": false,
    "pycharm": {
     "name": "#%%\n"
    }
   }
  },
  {
   "cell_type": "code",
   "execution_count": 35,
   "outputs": [],
   "source": [],
   "metadata": {
    "collapsed": false,
    "pycharm": {
     "name": "#%%\n"
    }
   }
  },
  {
   "cell_type": "code",
   "execution_count": 36,
   "outputs": [],
   "source": [
    "# Sigu = list(set(df_3['시군구'].tolist()))\n",
    "#\n",
    "# Sigu.sort()\n",
    "#\n",
    "# Sigu"
   ],
   "metadata": {
    "collapsed": false,
    "pycharm": {
     "name": "#%%\n"
    }
   }
  },
  {
   "cell_type": "code",
   "execution_count": 37,
   "outputs": [],
   "source": [
    "# YearMonth = list(set(df_3['년월'].tolist()))\n",
    "#\n",
    "# YearMonth.sort()\n",
    "# YearMonth"
   ],
   "metadata": {
    "collapsed": false,
    "pycharm": {
     "name": "#%%\n"
    }
   }
  },
  {
   "cell_type": "code",
   "execution_count": 38,
   "outputs": [],
   "source": [
    "# Gayeak = list(set(df_3['계약구분'].tolist()))\n",
    "#\n",
    "# Gayeak.sort()\n",
    "# Gayeak"
   ],
   "metadata": {
    "collapsed": false,
    "pycharm": {
     "name": "#%%\n"
    }
   }
  },
  {
   "cell_type": "code",
   "execution_count": 39,
   "outputs": [],
   "source": [
    "# SEOUL = df_3.loc[(df_3['계약구분'] =='일반용')]\n",
    "# SEOUL.drop(['고객호수(호)' ,'전기요금(원)' , '평균판매단가(원/kWh)'] , axis = 1 , inplace = True)\n",
    "# #SEOUL.dtypes(['사용량(kWh)'])\n",
    "# SEOUL"
   ],
   "metadata": {
    "collapsed": false,
    "pycharm": {
     "name": "#%%\n"
    }
   }
  },
  {
   "cell_type": "code",
   "execution_count": 40,
   "outputs": [],
   "source": [
    "#SEOUL.to_csv(\"서울특별시_일반용_전력사용량.csv\" , mode = 'w' , encoding= 'cp949')"
   ],
   "metadata": {
    "collapsed": false,
    "pycharm": {
     "name": "#%%\n"
    }
   }
  },
  {
   "cell_type": "code",
   "execution_count": 41,
   "outputs": [],
   "source": [
    "# print(SEOUL.dtypes)\n",
    "# SEOUL = SEOUL.astype({'사용량(kWh)' : 'float'})"
   ],
   "metadata": {
    "collapsed": false,
    "pycharm": {
     "name": "#%%\n"
    }
   }
  },
  {
   "cell_type": "code",
   "execution_count": 42,
   "outputs": [],
   "source": [
    "# SEOUL"
   ],
   "metadata": {
    "collapsed": false,
    "pycharm": {
     "name": "#%%\n"
    }
   }
  },
  {
   "cell_type": "code",
   "execution_count": 43,
   "outputs": [],
   "source": [
    "# a = SEOUL['사용량(kWh)'].tolist()\n",
    "# int_list = map(int, a)\n",
    "# b=0\n",
    "# for i in int_list:\n",
    "#     b+=i\n",
    "#\n",
    "# print(b)"
   ],
   "metadata": {
    "collapsed": false,
    "pycharm": {
     "name": "#%%\n"
    }
   }
  },
  {
   "cell_type": "code",
   "execution_count": 43,
   "outputs": [],
   "source": [],
   "metadata": {
    "collapsed": false,
    "pycharm": {
     "name": "#%%\n"
    }
   }
  },
  {
   "cell_type": "code",
   "execution_count": 43,
   "outputs": [],
   "source": [],
   "metadata": {
    "collapsed": false,
    "pycharm": {
     "name": "#%%\n"
    }
   }
  },
  {
   "cell_type": "code",
   "execution_count": 43,
   "outputs": [],
   "source": [],
   "metadata": {
    "collapsed": false,
    "pycharm": {
     "name": "#%%\n"
    }
   }
  },
  {
   "cell_type": "code",
   "execution_count": 43,
   "outputs": [],
   "source": [],
   "metadata": {
    "collapsed": false,
    "pycharm": {
     "name": "#%%\n"
    }
   }
  },
  {
   "cell_type": "code",
   "execution_count": 43,
   "outputs": [],
   "source": [],
   "metadata": {
    "collapsed": false,
    "pycharm": {
     "name": "#%%\n"
    }
   }
  },
  {
   "cell_type": "code",
   "execution_count": 43,
   "outputs": [],
   "source": [],
   "metadata": {
    "collapsed": false,
    "pycharm": {
     "name": "#%%\n"
    }
   }
  },
  {
   "cell_type": "code",
   "execution_count": 43,
   "outputs": [],
   "source": [],
   "metadata": {
    "collapsed": false,
    "pycharm": {
     "name": "#%%\n"
    }
   }
  }
 ],
 "metadata": {
  "kernelspec": {
   "display_name": "Python 3",
   "language": "python",
   "name": "python3"
  },
  "language_info": {
   "codemirror_mode": {
    "name": "ipython",
    "version": 2
   },
   "file_extension": ".py",
   "mimetype": "text/x-python",
   "name": "python",
   "nbconvert_exporter": "python",
   "pygments_lexer": "ipython2",
   "version": "2.7.6"
  }
 },
 "nbformat": 4,
 "nbformat_minor": 0
}