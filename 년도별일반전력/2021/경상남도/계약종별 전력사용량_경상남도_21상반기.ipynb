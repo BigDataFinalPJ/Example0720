{
 "cells": [
  {
   "cell_type": "markdown",
   "source": [],
   "metadata": {
    "collapsed": false,
    "pycharm": {
     "name": "#%% md\n"
    }
   }
  },
  {
   "cell_type": "code",
   "execution_count": 1,
   "outputs": [],
   "source": [
    "import pandas as pd\n",
    "import re\n",
    "\n",
    "pd.options.display.float_format = '{:.0f}'.format"
   ],
   "metadata": {
    "collapsed": false,
    "pycharm": {
     "name": "#%%\n"
    }
   }
  },
  {
   "cell_type": "markdown",
   "source": [
    "### 1. 꼭 read_csv 21상반기, 19하반기와 같이 맞추어 주세요!!! 또한 지역(전라북도, 남도) 맞추기!!!!!"
   ],
   "metadata": {
    "collapsed": false,
    "pycharm": {
     "name": "#%% md\n"
    }
   }
  },
  {
   "cell_type": "code",
   "execution_count": 2,
   "outputs": [
    {
     "data": {
      "text/plain": "       계약종별 전력사용량 월별( 20220804 현재 ) Unnamed: 1     Unnamed: 2 Unnamed: 3  \\\n0    시도 : 경상남도, 시군구 : 전체(시 / 군 / 구)        NaN            NaN        NaN   \n1       기간 : 2021년 01 월 ~ 2021년 06월        NaN            NaN        NaN   \n2                                년월         시구            시군구       계약구분   \n3                            202101       경상남도  전체(시 / 군 / 구)        주택용   \n4                            202101       경상남도  전체(시 / 군 / 구)        일반용   \n..                              ...        ...            ...        ...   \n907                          202106       경상남도            합천군        산업용   \n908                          202106       경상남도            합천군        심 야   \n909                          202106       경상남도            합천군        일반용   \n910                          202106       경상남도            합천군        주택용   \n911                          202106       경상남도            합천군         합계   \n\n     Unnamed: 4    Unnamed: 5       Unnamed: 6     Unnamed: 7  \n0           NaN           NaN              NaN            NaN  \n1           NaN           NaN              NaN            NaN  \n2       고객호수(호)      사용량(kWh)          전기요금(원)  평균판매단가(원/kWh)  \n3    1,180,688   454,903,847   52,553,310,996          115.5   \n4      225,860   627,572,860   82,739,092,634          131.8   \n..          ...           ...              ...            ...  \n907        876     6,278,053      810,319,915          129.1   \n908      1,943     1,270,007       65,733,954           51.8   \n909      4,070     7,024,835      984,964,184          140.2   \n910     30,464     4,276,494      473,116,983          110.6   \n911     57,384    29,880,236    2,900,114,284           97.1   \n\n[912 rows x 8 columns]",
      "text/html": "<div>\n<style scoped>\n    .dataframe tbody tr th:only-of-type {\n        vertical-align: middle;\n    }\n\n    .dataframe tbody tr th {\n        vertical-align: top;\n    }\n\n    .dataframe thead th {\n        text-align: right;\n    }\n</style>\n<table border=\"1\" class=\"dataframe\">\n  <thead>\n    <tr style=\"text-align: right;\">\n      <th></th>\n      <th>계약종별 전력사용량 월별( 20220804 현재 )</th>\n      <th>Unnamed: 1</th>\n      <th>Unnamed: 2</th>\n      <th>Unnamed: 3</th>\n      <th>Unnamed: 4</th>\n      <th>Unnamed: 5</th>\n      <th>Unnamed: 6</th>\n      <th>Unnamed: 7</th>\n    </tr>\n  </thead>\n  <tbody>\n    <tr>\n      <th>0</th>\n      <td>시도 : 경상남도, 시군구 : 전체(시 / 군 / 구)</td>\n      <td>NaN</td>\n      <td>NaN</td>\n      <td>NaN</td>\n      <td>NaN</td>\n      <td>NaN</td>\n      <td>NaN</td>\n      <td>NaN</td>\n    </tr>\n    <tr>\n      <th>1</th>\n      <td>기간 : 2021년 01 월 ~ 2021년 06월</td>\n      <td>NaN</td>\n      <td>NaN</td>\n      <td>NaN</td>\n      <td>NaN</td>\n      <td>NaN</td>\n      <td>NaN</td>\n      <td>NaN</td>\n    </tr>\n    <tr>\n      <th>2</th>\n      <td>년월</td>\n      <td>시구</td>\n      <td>시군구</td>\n      <td>계약구분</td>\n      <td>고객호수(호)</td>\n      <td>사용량(kWh)</td>\n      <td>전기요금(원)</td>\n      <td>평균판매단가(원/kWh)</td>\n    </tr>\n    <tr>\n      <th>3</th>\n      <td>202101</td>\n      <td>경상남도</td>\n      <td>전체(시 / 군 / 구)</td>\n      <td>주택용</td>\n      <td>1,180,688</td>\n      <td>454,903,847</td>\n      <td>52,553,310,996</td>\n      <td>115.5</td>\n    </tr>\n    <tr>\n      <th>4</th>\n      <td>202101</td>\n      <td>경상남도</td>\n      <td>전체(시 / 군 / 구)</td>\n      <td>일반용</td>\n      <td>225,860</td>\n      <td>627,572,860</td>\n      <td>82,739,092,634</td>\n      <td>131.8</td>\n    </tr>\n    <tr>\n      <th>...</th>\n      <td>...</td>\n      <td>...</td>\n      <td>...</td>\n      <td>...</td>\n      <td>...</td>\n      <td>...</td>\n      <td>...</td>\n      <td>...</td>\n    </tr>\n    <tr>\n      <th>907</th>\n      <td>202106</td>\n      <td>경상남도</td>\n      <td>합천군</td>\n      <td>산업용</td>\n      <td>876</td>\n      <td>6,278,053</td>\n      <td>810,319,915</td>\n      <td>129.1</td>\n    </tr>\n    <tr>\n      <th>908</th>\n      <td>202106</td>\n      <td>경상남도</td>\n      <td>합천군</td>\n      <td>심 야</td>\n      <td>1,943</td>\n      <td>1,270,007</td>\n      <td>65,733,954</td>\n      <td>51.8</td>\n    </tr>\n    <tr>\n      <th>909</th>\n      <td>202106</td>\n      <td>경상남도</td>\n      <td>합천군</td>\n      <td>일반용</td>\n      <td>4,070</td>\n      <td>7,024,835</td>\n      <td>984,964,184</td>\n      <td>140.2</td>\n    </tr>\n    <tr>\n      <th>910</th>\n      <td>202106</td>\n      <td>경상남도</td>\n      <td>합천군</td>\n      <td>주택용</td>\n      <td>30,464</td>\n      <td>4,276,494</td>\n      <td>473,116,983</td>\n      <td>110.6</td>\n    </tr>\n    <tr>\n      <th>911</th>\n      <td>202106</td>\n      <td>경상남도</td>\n      <td>합천군</td>\n      <td>합계</td>\n      <td>57,384</td>\n      <td>29,880,236</td>\n      <td>2,900,114,284</td>\n      <td>97.1</td>\n    </tr>\n  </tbody>\n</table>\n<p>912 rows × 8 columns</p>\n</div>"
     },
     "execution_count": 2,
     "metadata": {},
     "output_type": "execute_result"
    }
   ],
   "source": [
    "df = pd.read_csv('경상남도_계약종별_전력사용량_월별_21상반기.csv' , encoding='cp949')\n",
    "\n",
    "df\n",
    "#exchng=  pd.read_csv('지역별_전력거래량_20220803093050.csv' , encoding='cp949')"
   ],
   "metadata": {
    "collapsed": false,
    "pycharm": {
     "name": "#%%\n"
    }
   }
  },
  {
   "cell_type": "code",
   "execution_count": 3,
   "outputs": [
    {
     "data": {
      "text/plain": "    계약종별 전력사용량 월별( 20220804 현재 ) Unnamed: 1     Unnamed: 2 Unnamed: 3  \\\n2                             년월         시구            시군구       계약구분   \n3                         202101       경상남도  전체(시 / 군 / 구)        주택용   \n4                         202101       경상남도  전체(시 / 군 / 구)        일반용   \n5                         202101       경상남도  전체(시 / 군 / 구)        교육용   \n6                         202101       경상남도  전체(시 / 군 / 구)        산업용   \n..                           ...        ...            ...        ...   \n907                       202106       경상남도            합천군        산업용   \n908                       202106       경상남도            합천군        심 야   \n909                       202106       경상남도            합천군        일반용   \n910                       202106       경상남도            합천군        주택용   \n911                       202106       경상남도            합천군         합계   \n\n     Unnamed: 4      Unnamed: 5        Unnamed: 6     Unnamed: 7  \n2       고객호수(호)        사용량(kWh)           전기요금(원)  평균판매단가(원/kWh)  \n3    1,180,688     454,903,847    52,553,310,996          115.5   \n4      225,860     627,572,860    82,739,092,634          131.8   \n5        1,680      48,336,049     4,982,081,830          103.1   \n6       38,693   1,788,760,776   212,824,360,326          119.0   \n..          ...             ...               ...            ...  \n907        876       6,278,053       810,319,915          129.1   \n908      1,943       1,270,007        65,733,954           51.8   \n909      4,070       7,024,835       984,964,184          140.2   \n910     30,464       4,276,494       473,116,983          110.6   \n911     57,384      29,880,236     2,900,114,284           97.1   \n\n[909 rows x 8 columns]",
      "text/html": "<div>\n<style scoped>\n    .dataframe tbody tr th:only-of-type {\n        vertical-align: middle;\n    }\n\n    .dataframe tbody tr th {\n        vertical-align: top;\n    }\n\n    .dataframe thead th {\n        text-align: right;\n    }\n</style>\n<table border=\"1\" class=\"dataframe\">\n  <thead>\n    <tr style=\"text-align: right;\">\n      <th></th>\n      <th>계약종별 전력사용량 월별( 20220804 현재 )</th>\n      <th>Unnamed: 1</th>\n      <th>Unnamed: 2</th>\n      <th>Unnamed: 3</th>\n      <th>Unnamed: 4</th>\n      <th>Unnamed: 5</th>\n      <th>Unnamed: 6</th>\n      <th>Unnamed: 7</th>\n    </tr>\n  </thead>\n  <tbody>\n    <tr>\n      <th>2</th>\n      <td>년월</td>\n      <td>시구</td>\n      <td>시군구</td>\n      <td>계약구분</td>\n      <td>고객호수(호)</td>\n      <td>사용량(kWh)</td>\n      <td>전기요금(원)</td>\n      <td>평균판매단가(원/kWh)</td>\n    </tr>\n    <tr>\n      <th>3</th>\n      <td>202101</td>\n      <td>경상남도</td>\n      <td>전체(시 / 군 / 구)</td>\n      <td>주택용</td>\n      <td>1,180,688</td>\n      <td>454,903,847</td>\n      <td>52,553,310,996</td>\n      <td>115.5</td>\n    </tr>\n    <tr>\n      <th>4</th>\n      <td>202101</td>\n      <td>경상남도</td>\n      <td>전체(시 / 군 / 구)</td>\n      <td>일반용</td>\n      <td>225,860</td>\n      <td>627,572,860</td>\n      <td>82,739,092,634</td>\n      <td>131.8</td>\n    </tr>\n    <tr>\n      <th>5</th>\n      <td>202101</td>\n      <td>경상남도</td>\n      <td>전체(시 / 군 / 구)</td>\n      <td>교육용</td>\n      <td>1,680</td>\n      <td>48,336,049</td>\n      <td>4,982,081,830</td>\n      <td>103.1</td>\n    </tr>\n    <tr>\n      <th>6</th>\n      <td>202101</td>\n      <td>경상남도</td>\n      <td>전체(시 / 군 / 구)</td>\n      <td>산업용</td>\n      <td>38,693</td>\n      <td>1,788,760,776</td>\n      <td>212,824,360,326</td>\n      <td>119.0</td>\n    </tr>\n    <tr>\n      <th>...</th>\n      <td>...</td>\n      <td>...</td>\n      <td>...</td>\n      <td>...</td>\n      <td>...</td>\n      <td>...</td>\n      <td>...</td>\n      <td>...</td>\n    </tr>\n    <tr>\n      <th>907</th>\n      <td>202106</td>\n      <td>경상남도</td>\n      <td>합천군</td>\n      <td>산업용</td>\n      <td>876</td>\n      <td>6,278,053</td>\n      <td>810,319,915</td>\n      <td>129.1</td>\n    </tr>\n    <tr>\n      <th>908</th>\n      <td>202106</td>\n      <td>경상남도</td>\n      <td>합천군</td>\n      <td>심 야</td>\n      <td>1,943</td>\n      <td>1,270,007</td>\n      <td>65,733,954</td>\n      <td>51.8</td>\n    </tr>\n    <tr>\n      <th>909</th>\n      <td>202106</td>\n      <td>경상남도</td>\n      <td>합천군</td>\n      <td>일반용</td>\n      <td>4,070</td>\n      <td>7,024,835</td>\n      <td>984,964,184</td>\n      <td>140.2</td>\n    </tr>\n    <tr>\n      <th>910</th>\n      <td>202106</td>\n      <td>경상남도</td>\n      <td>합천군</td>\n      <td>주택용</td>\n      <td>30,464</td>\n      <td>4,276,494</td>\n      <td>473,116,983</td>\n      <td>110.6</td>\n    </tr>\n    <tr>\n      <th>911</th>\n      <td>202106</td>\n      <td>경상남도</td>\n      <td>합천군</td>\n      <td>합계</td>\n      <td>57,384</td>\n      <td>29,880,236</td>\n      <td>2,900,114,284</td>\n      <td>97.1</td>\n    </tr>\n  </tbody>\n</table>\n<p>909 rows × 8 columns</p>\n</div>"
     },
     "execution_count": 3,
     "metadata": {},
     "output_type": "execute_result"
    }
   ],
   "source": [
    "df = df.drop([0,1 , 46] , axis = 0)\n",
    "#0,1 , 10은 지우는게 맞다\n",
    "df"
   ],
   "metadata": {
    "collapsed": false,
    "pycharm": {
     "name": "#%%\n"
    }
   }
  },
  {
   "cell_type": "code",
   "execution_count": 4,
   "outputs": [],
   "source": [
    "a= df.loc[2].tolist()\n",
    "a\n",
    "df = df.drop([2] , axis = 0)"
   ],
   "metadata": {
    "collapsed": false,
    "pycharm": {
     "name": "#%%\n"
    }
   }
  },
  {
   "cell_type": "code",
   "execution_count": 5,
   "outputs": [
    {
     "data": {
      "text/plain": "         년월    시구            시군구 계약구분     고객호수(호)        사용량(kWh)  \\\n3    202101  경상남도  전체(시 / 군 / 구)  주택용  1,180,688     454,903,847    \n4    202101  경상남도  전체(시 / 군 / 구)  일반용    225,860     627,572,860    \n5    202101  경상남도  전체(시 / 군 / 구)  교육용      1,680      48,336,049    \n6    202101  경상남도  전체(시 / 군 / 구)  산업용     38,693   1,788,760,776    \n7    202101  경상남도  전체(시 / 군 / 구)  농사용    220,960     375,025,487    \n..      ...   ...            ...  ...         ...             ...   \n907  202106  경상남도            합천군  산업용        876       6,278,053    \n908  202106  경상남도            합천군  심 야      1,943       1,270,007    \n909  202106  경상남도            합천군  일반용      4,070       7,024,835    \n910  202106  경상남도            합천군  주택용     30,464       4,276,494    \n911  202106  경상남도            합천군   합계     57,384      29,880,236    \n\n              전기요금(원) 평균판매단가(원/kWh)  \n3     52,553,310,996         115.5   \n4     82,739,092,634         131.8   \n5      4,982,081,830         103.1   \n6    212,824,360,326         119.0   \n7     16,563,510,931          44.2   \n..                ...           ...  \n907      810,319,915         129.1   \n908       65,733,954          51.8   \n909      984,964,184         140.2   \n910      473,116,983         110.6   \n911    2,900,114,284          97.1   \n\n[908 rows x 8 columns]",
      "text/html": "<div>\n<style scoped>\n    .dataframe tbody tr th:only-of-type {\n        vertical-align: middle;\n    }\n\n    .dataframe tbody tr th {\n        vertical-align: top;\n    }\n\n    .dataframe thead th {\n        text-align: right;\n    }\n</style>\n<table border=\"1\" class=\"dataframe\">\n  <thead>\n    <tr style=\"text-align: right;\">\n      <th></th>\n      <th>년월</th>\n      <th>시구</th>\n      <th>시군구</th>\n      <th>계약구분</th>\n      <th>고객호수(호)</th>\n      <th>사용량(kWh)</th>\n      <th>전기요금(원)</th>\n      <th>평균판매단가(원/kWh)</th>\n    </tr>\n  </thead>\n  <tbody>\n    <tr>\n      <th>3</th>\n      <td>202101</td>\n      <td>경상남도</td>\n      <td>전체(시 / 군 / 구)</td>\n      <td>주택용</td>\n      <td>1,180,688</td>\n      <td>454,903,847</td>\n      <td>52,553,310,996</td>\n      <td>115.5</td>\n    </tr>\n    <tr>\n      <th>4</th>\n      <td>202101</td>\n      <td>경상남도</td>\n      <td>전체(시 / 군 / 구)</td>\n      <td>일반용</td>\n      <td>225,860</td>\n      <td>627,572,860</td>\n      <td>82,739,092,634</td>\n      <td>131.8</td>\n    </tr>\n    <tr>\n      <th>5</th>\n      <td>202101</td>\n      <td>경상남도</td>\n      <td>전체(시 / 군 / 구)</td>\n      <td>교육용</td>\n      <td>1,680</td>\n      <td>48,336,049</td>\n      <td>4,982,081,830</td>\n      <td>103.1</td>\n    </tr>\n    <tr>\n      <th>6</th>\n      <td>202101</td>\n      <td>경상남도</td>\n      <td>전체(시 / 군 / 구)</td>\n      <td>산업용</td>\n      <td>38,693</td>\n      <td>1,788,760,776</td>\n      <td>212,824,360,326</td>\n      <td>119.0</td>\n    </tr>\n    <tr>\n      <th>7</th>\n      <td>202101</td>\n      <td>경상남도</td>\n      <td>전체(시 / 군 / 구)</td>\n      <td>농사용</td>\n      <td>220,960</td>\n      <td>375,025,487</td>\n      <td>16,563,510,931</td>\n      <td>44.2</td>\n    </tr>\n    <tr>\n      <th>...</th>\n      <td>...</td>\n      <td>...</td>\n      <td>...</td>\n      <td>...</td>\n      <td>...</td>\n      <td>...</td>\n      <td>...</td>\n      <td>...</td>\n    </tr>\n    <tr>\n      <th>907</th>\n      <td>202106</td>\n      <td>경상남도</td>\n      <td>합천군</td>\n      <td>산업용</td>\n      <td>876</td>\n      <td>6,278,053</td>\n      <td>810,319,915</td>\n      <td>129.1</td>\n    </tr>\n    <tr>\n      <th>908</th>\n      <td>202106</td>\n      <td>경상남도</td>\n      <td>합천군</td>\n      <td>심 야</td>\n      <td>1,943</td>\n      <td>1,270,007</td>\n      <td>65,733,954</td>\n      <td>51.8</td>\n    </tr>\n    <tr>\n      <th>909</th>\n      <td>202106</td>\n      <td>경상남도</td>\n      <td>합천군</td>\n      <td>일반용</td>\n      <td>4,070</td>\n      <td>7,024,835</td>\n      <td>984,964,184</td>\n      <td>140.2</td>\n    </tr>\n    <tr>\n      <th>910</th>\n      <td>202106</td>\n      <td>경상남도</td>\n      <td>합천군</td>\n      <td>주택용</td>\n      <td>30,464</td>\n      <td>4,276,494</td>\n      <td>473,116,983</td>\n      <td>110.6</td>\n    </tr>\n    <tr>\n      <th>911</th>\n      <td>202106</td>\n      <td>경상남도</td>\n      <td>합천군</td>\n      <td>합계</td>\n      <td>57,384</td>\n      <td>29,880,236</td>\n      <td>2,900,114,284</td>\n      <td>97.1</td>\n    </tr>\n  </tbody>\n</table>\n<p>908 rows × 8 columns</p>\n</div>"
     },
     "execution_count": 5,
     "metadata": {},
     "output_type": "execute_result"
    }
   ],
   "source": [
    "df.columns = a\n",
    "df"
   ],
   "metadata": {
    "collapsed": false,
    "pycharm": {
     "name": "#%%\n"
    }
   }
  },
  {
   "cell_type": "code",
   "execution_count": 6,
   "outputs": [
    {
     "data": {
      "text/plain": "        년월    시구            시군구 계약구분     고객호수(호)        사용량(kWh)  \\\n3   202101  경상남도  전체(시 / 군 / 구)  주택용  1,180,688     454,903,847    \n4   202101  경상남도  전체(시 / 군 / 구)  일반용    225,860     627,572,860    \n5   202101  경상남도  전체(시 / 군 / 구)  교육용      1,680      48,336,049    \n6   202101  경상남도  전체(시 / 군 / 구)  산업용     38,693   1,788,760,776    \n7   202101  경상남도  전체(시 / 군 / 구)  농사용    220,960     375,025,487    \n8   202101  경상남도  전체(시 / 군 / 구)  가로등    188,024      26,231,063    \n9   202101  경상남도  전체(시 / 군 / 구)  심 야     81,406     128,411,330    \n10  202102  경상남도  전체(시 / 군 / 구)  주택용  1,180,958     432,440,289    \n11  202102  경상남도  전체(시 / 군 / 구)  일반용    226,035     591,100,113    \n12  202102  경상남도  전체(시 / 군 / 구)  교육용      1,685      38,467,652    \n13  202102  경상남도  전체(시 / 군 / 구)  산업용     38,586   1,581,240,895    \n14  202102  경상남도  전체(시 / 군 / 구)  농사용    221,209     342,887,368    \n15  202102  경상남도  전체(시 / 군 / 구)  가로등    188,591      24,960,644    \n16  202102  경상남도  전체(시 / 군 / 구)  심 야     81,164     120,234,053    \n17  202103  경상남도  전체(시 / 군 / 구)  주택용  1,181,251     379,608,911    \n18  202103  경상남도  전체(시 / 군 / 구)  일반용    226,052     504,410,399    \n19  202103  경상남도  전체(시 / 군 / 구)  교육용      1,690      36,399,233    \n20  202103  경상남도  전체(시 / 군 / 구)  산업용     38,531   1,709,322,598    \n21  202103  경상남도  전체(시 / 군 / 구)  농사용    246,544     249,349,444    \n22  202103  경상남도  전체(시 / 군 / 구)  가로등    188,920      23,254,426    \n23  202103  경상남도  전체(시 / 군 / 구)  심 야     80,876      89,316,040    \n24  202104  경상남도  전체(시 / 군 / 구)  주택용  1,182,879     386,331,920    \n25  202104  경상남도  전체(시 / 군 / 구)  일반용    225,908     489,988,159    \n26  202104  경상남도  전체(시 / 군 / 구)  교육용      1,689      32,633,957    \n27  202104  경상남도  전체(시 / 군 / 구)  산업용     38,579   1,681,421,839    \n28  202104  경상남도  전체(시 / 군 / 구)  농사용    223,172     200,654,827    \n29  202104  경상남도  전체(시 / 군 / 구)  가로등    189,699      23,371,686    \n30  202104  경상남도  전체(시 / 군 / 구)  심 야     80,608      67,149,166    \n31  202105  경상남도  전체(시 / 군 / 구)  주택용  1,183,631     366,257,000    \n32  202105  경상남도  전체(시 / 군 / 구)  일반용    226,082     467,072,358    \n33  202105  경상남도  전체(시 / 군 / 구)  교육용      1,689      26,775,535    \n34  202105  경상남도  전체(시 / 군 / 구)  산업용     38,628   1,637,591,249    \n35  202105  경상남도  전체(시 / 군 / 구)  농사용    223,944     148,380,722    \n36  202105  경상남도  전체(시 / 군 / 구)  가로등    190,305      22,179,920    \n37  202105  경상남도  전체(시 / 군 / 구)  심 야     80,297      44,537,064    \n38  202106  경상남도  전체(시 / 군 / 구)  주택용  1,184,069     376,957,717    \n39  202106  경상남도  전체(시 / 군 / 구)  일반용    226,739     515,282,261    \n40  202106  경상남도  전체(시 / 군 / 구)  교육용      1,690      31,747,108    \n41  202106  경상남도  전체(시 / 군 / 구)  산업용     38,694   1,706,638,077    \n42  202106  경상남도  전체(시 / 군 / 구)  농사용    223,773     140,485,019    \n43  202106  경상남도  전체(시 / 군 / 구)  가로등    191,119      21,447,939    \n44  202106  경상남도  전체(시 / 군 / 구)  심 야     80,003      30,240,443    \n45      합계    합계             합계   합계  11,672,600  17,989,377,443   \n\n              전기요금(원) 평균판매단가(원/kWh)  \n3     52,553,310,996         115.5   \n4     82,739,092,634         131.8   \n5      4,982,081,830         103.1   \n6    212,824,360,326         119.0   \n7     16,563,510,931          44.2   \n8      2,793,688,576         106.5   \n9      9,323,039,335          72.6   \n10    48,372,899,698         111.9   \n11    79,233,719,413         134.0   \n12     4,253,223,072         110.6   \n13   193,298,533,189         122.2   \n14    15,365,940,614          44.8   \n15     2,789,550,228         111.8   \n16     8,740,412,824          72.7   \n17    38,586,327,095         101.6   \n18    64,267,593,090         127.4   \n19     3,772,384,567         103.6   \n20   173,104,562,760         101.3   \n21    11,643,837,401          46.7   \n22     2,630,272,956         113.1   \n23     5,708,319,926          63.9   \n24    40,375,852,737         104.5   \n25    57,234,539,342         116.8   \n26     3,029,238,906          92.8   \n27   166,097,144,359          98.8   \n28     9,700,061,314          48.3   \n29     2,716,468,207         116.2   \n30     3,492,988,951          52.0   \n31    37,082,290,731         101.2   \n32    55,470,493,043         118.8   \n33     2,529,807,670          94.5   \n34   160,583,585,452          98.1   \n35     7,565,726,360          51.0   \n36     2,649,238,062         119.4   \n37     2,324,793,257          52.2   \n38    38,371,173,955         101.8   \n39    68,736,682,953         133.4   \n40     3,719,425,209         117.2   \n41   208,630,277,576         122.2   \n42     6,903,599,206          49.1   \n43     2,630,191,750         122.6   \n44     1,601,928,888          53.0   \n45  1,914,992,169,389         106.5  ",
      "text/html": "<div>\n<style scoped>\n    .dataframe tbody tr th:only-of-type {\n        vertical-align: middle;\n    }\n\n    .dataframe tbody tr th {\n        vertical-align: top;\n    }\n\n    .dataframe thead th {\n        text-align: right;\n    }\n</style>\n<table border=\"1\" class=\"dataframe\">\n  <thead>\n    <tr style=\"text-align: right;\">\n      <th></th>\n      <th>년월</th>\n      <th>시구</th>\n      <th>시군구</th>\n      <th>계약구분</th>\n      <th>고객호수(호)</th>\n      <th>사용량(kWh)</th>\n      <th>전기요금(원)</th>\n      <th>평균판매단가(원/kWh)</th>\n    </tr>\n  </thead>\n  <tbody>\n    <tr>\n      <th>3</th>\n      <td>202101</td>\n      <td>경상남도</td>\n      <td>전체(시 / 군 / 구)</td>\n      <td>주택용</td>\n      <td>1,180,688</td>\n      <td>454,903,847</td>\n      <td>52,553,310,996</td>\n      <td>115.5</td>\n    </tr>\n    <tr>\n      <th>4</th>\n      <td>202101</td>\n      <td>경상남도</td>\n      <td>전체(시 / 군 / 구)</td>\n      <td>일반용</td>\n      <td>225,860</td>\n      <td>627,572,860</td>\n      <td>82,739,092,634</td>\n      <td>131.8</td>\n    </tr>\n    <tr>\n      <th>5</th>\n      <td>202101</td>\n      <td>경상남도</td>\n      <td>전체(시 / 군 / 구)</td>\n      <td>교육용</td>\n      <td>1,680</td>\n      <td>48,336,049</td>\n      <td>4,982,081,830</td>\n      <td>103.1</td>\n    </tr>\n    <tr>\n      <th>6</th>\n      <td>202101</td>\n      <td>경상남도</td>\n      <td>전체(시 / 군 / 구)</td>\n      <td>산업용</td>\n      <td>38,693</td>\n      <td>1,788,760,776</td>\n      <td>212,824,360,326</td>\n      <td>119.0</td>\n    </tr>\n    <tr>\n      <th>7</th>\n      <td>202101</td>\n      <td>경상남도</td>\n      <td>전체(시 / 군 / 구)</td>\n      <td>농사용</td>\n      <td>220,960</td>\n      <td>375,025,487</td>\n      <td>16,563,510,931</td>\n      <td>44.2</td>\n    </tr>\n    <tr>\n      <th>8</th>\n      <td>202101</td>\n      <td>경상남도</td>\n      <td>전체(시 / 군 / 구)</td>\n      <td>가로등</td>\n      <td>188,024</td>\n      <td>26,231,063</td>\n      <td>2,793,688,576</td>\n      <td>106.5</td>\n    </tr>\n    <tr>\n      <th>9</th>\n      <td>202101</td>\n      <td>경상남도</td>\n      <td>전체(시 / 군 / 구)</td>\n      <td>심 야</td>\n      <td>81,406</td>\n      <td>128,411,330</td>\n      <td>9,323,039,335</td>\n      <td>72.6</td>\n    </tr>\n    <tr>\n      <th>10</th>\n      <td>202102</td>\n      <td>경상남도</td>\n      <td>전체(시 / 군 / 구)</td>\n      <td>주택용</td>\n      <td>1,180,958</td>\n      <td>432,440,289</td>\n      <td>48,372,899,698</td>\n      <td>111.9</td>\n    </tr>\n    <tr>\n      <th>11</th>\n      <td>202102</td>\n      <td>경상남도</td>\n      <td>전체(시 / 군 / 구)</td>\n      <td>일반용</td>\n      <td>226,035</td>\n      <td>591,100,113</td>\n      <td>79,233,719,413</td>\n      <td>134.0</td>\n    </tr>\n    <tr>\n      <th>12</th>\n      <td>202102</td>\n      <td>경상남도</td>\n      <td>전체(시 / 군 / 구)</td>\n      <td>교육용</td>\n      <td>1,685</td>\n      <td>38,467,652</td>\n      <td>4,253,223,072</td>\n      <td>110.6</td>\n    </tr>\n    <tr>\n      <th>13</th>\n      <td>202102</td>\n      <td>경상남도</td>\n      <td>전체(시 / 군 / 구)</td>\n      <td>산업용</td>\n      <td>38,586</td>\n      <td>1,581,240,895</td>\n      <td>193,298,533,189</td>\n      <td>122.2</td>\n    </tr>\n    <tr>\n      <th>14</th>\n      <td>202102</td>\n      <td>경상남도</td>\n      <td>전체(시 / 군 / 구)</td>\n      <td>농사용</td>\n      <td>221,209</td>\n      <td>342,887,368</td>\n      <td>15,365,940,614</td>\n      <td>44.8</td>\n    </tr>\n    <tr>\n      <th>15</th>\n      <td>202102</td>\n      <td>경상남도</td>\n      <td>전체(시 / 군 / 구)</td>\n      <td>가로등</td>\n      <td>188,591</td>\n      <td>24,960,644</td>\n      <td>2,789,550,228</td>\n      <td>111.8</td>\n    </tr>\n    <tr>\n      <th>16</th>\n      <td>202102</td>\n      <td>경상남도</td>\n      <td>전체(시 / 군 / 구)</td>\n      <td>심 야</td>\n      <td>81,164</td>\n      <td>120,234,053</td>\n      <td>8,740,412,824</td>\n      <td>72.7</td>\n    </tr>\n    <tr>\n      <th>17</th>\n      <td>202103</td>\n      <td>경상남도</td>\n      <td>전체(시 / 군 / 구)</td>\n      <td>주택용</td>\n      <td>1,181,251</td>\n      <td>379,608,911</td>\n      <td>38,586,327,095</td>\n      <td>101.6</td>\n    </tr>\n    <tr>\n      <th>18</th>\n      <td>202103</td>\n      <td>경상남도</td>\n      <td>전체(시 / 군 / 구)</td>\n      <td>일반용</td>\n      <td>226,052</td>\n      <td>504,410,399</td>\n      <td>64,267,593,090</td>\n      <td>127.4</td>\n    </tr>\n    <tr>\n      <th>19</th>\n      <td>202103</td>\n      <td>경상남도</td>\n      <td>전체(시 / 군 / 구)</td>\n      <td>교육용</td>\n      <td>1,690</td>\n      <td>36,399,233</td>\n      <td>3,772,384,567</td>\n      <td>103.6</td>\n    </tr>\n    <tr>\n      <th>20</th>\n      <td>202103</td>\n      <td>경상남도</td>\n      <td>전체(시 / 군 / 구)</td>\n      <td>산업용</td>\n      <td>38,531</td>\n      <td>1,709,322,598</td>\n      <td>173,104,562,760</td>\n      <td>101.3</td>\n    </tr>\n    <tr>\n      <th>21</th>\n      <td>202103</td>\n      <td>경상남도</td>\n      <td>전체(시 / 군 / 구)</td>\n      <td>농사용</td>\n      <td>246,544</td>\n      <td>249,349,444</td>\n      <td>11,643,837,401</td>\n      <td>46.7</td>\n    </tr>\n    <tr>\n      <th>22</th>\n      <td>202103</td>\n      <td>경상남도</td>\n      <td>전체(시 / 군 / 구)</td>\n      <td>가로등</td>\n      <td>188,920</td>\n      <td>23,254,426</td>\n      <td>2,630,272,956</td>\n      <td>113.1</td>\n    </tr>\n    <tr>\n      <th>23</th>\n      <td>202103</td>\n      <td>경상남도</td>\n      <td>전체(시 / 군 / 구)</td>\n      <td>심 야</td>\n      <td>80,876</td>\n      <td>89,316,040</td>\n      <td>5,708,319,926</td>\n      <td>63.9</td>\n    </tr>\n    <tr>\n      <th>24</th>\n      <td>202104</td>\n      <td>경상남도</td>\n      <td>전체(시 / 군 / 구)</td>\n      <td>주택용</td>\n      <td>1,182,879</td>\n      <td>386,331,920</td>\n      <td>40,375,852,737</td>\n      <td>104.5</td>\n    </tr>\n    <tr>\n      <th>25</th>\n      <td>202104</td>\n      <td>경상남도</td>\n      <td>전체(시 / 군 / 구)</td>\n      <td>일반용</td>\n      <td>225,908</td>\n      <td>489,988,159</td>\n      <td>57,234,539,342</td>\n      <td>116.8</td>\n    </tr>\n    <tr>\n      <th>26</th>\n      <td>202104</td>\n      <td>경상남도</td>\n      <td>전체(시 / 군 / 구)</td>\n      <td>교육용</td>\n      <td>1,689</td>\n      <td>32,633,957</td>\n      <td>3,029,238,906</td>\n      <td>92.8</td>\n    </tr>\n    <tr>\n      <th>27</th>\n      <td>202104</td>\n      <td>경상남도</td>\n      <td>전체(시 / 군 / 구)</td>\n      <td>산업용</td>\n      <td>38,579</td>\n      <td>1,681,421,839</td>\n      <td>166,097,144,359</td>\n      <td>98.8</td>\n    </tr>\n    <tr>\n      <th>28</th>\n      <td>202104</td>\n      <td>경상남도</td>\n      <td>전체(시 / 군 / 구)</td>\n      <td>농사용</td>\n      <td>223,172</td>\n      <td>200,654,827</td>\n      <td>9,700,061,314</td>\n      <td>48.3</td>\n    </tr>\n    <tr>\n      <th>29</th>\n      <td>202104</td>\n      <td>경상남도</td>\n      <td>전체(시 / 군 / 구)</td>\n      <td>가로등</td>\n      <td>189,699</td>\n      <td>23,371,686</td>\n      <td>2,716,468,207</td>\n      <td>116.2</td>\n    </tr>\n    <tr>\n      <th>30</th>\n      <td>202104</td>\n      <td>경상남도</td>\n      <td>전체(시 / 군 / 구)</td>\n      <td>심 야</td>\n      <td>80,608</td>\n      <td>67,149,166</td>\n      <td>3,492,988,951</td>\n      <td>52.0</td>\n    </tr>\n    <tr>\n      <th>31</th>\n      <td>202105</td>\n      <td>경상남도</td>\n      <td>전체(시 / 군 / 구)</td>\n      <td>주택용</td>\n      <td>1,183,631</td>\n      <td>366,257,000</td>\n      <td>37,082,290,731</td>\n      <td>101.2</td>\n    </tr>\n    <tr>\n      <th>32</th>\n      <td>202105</td>\n      <td>경상남도</td>\n      <td>전체(시 / 군 / 구)</td>\n      <td>일반용</td>\n      <td>226,082</td>\n      <td>467,072,358</td>\n      <td>55,470,493,043</td>\n      <td>118.8</td>\n    </tr>\n    <tr>\n      <th>33</th>\n      <td>202105</td>\n      <td>경상남도</td>\n      <td>전체(시 / 군 / 구)</td>\n      <td>교육용</td>\n      <td>1,689</td>\n      <td>26,775,535</td>\n      <td>2,529,807,670</td>\n      <td>94.5</td>\n    </tr>\n    <tr>\n      <th>34</th>\n      <td>202105</td>\n      <td>경상남도</td>\n      <td>전체(시 / 군 / 구)</td>\n      <td>산업용</td>\n      <td>38,628</td>\n      <td>1,637,591,249</td>\n      <td>160,583,585,452</td>\n      <td>98.1</td>\n    </tr>\n    <tr>\n      <th>35</th>\n      <td>202105</td>\n      <td>경상남도</td>\n      <td>전체(시 / 군 / 구)</td>\n      <td>농사용</td>\n      <td>223,944</td>\n      <td>148,380,722</td>\n      <td>7,565,726,360</td>\n      <td>51.0</td>\n    </tr>\n    <tr>\n      <th>36</th>\n      <td>202105</td>\n      <td>경상남도</td>\n      <td>전체(시 / 군 / 구)</td>\n      <td>가로등</td>\n      <td>190,305</td>\n      <td>22,179,920</td>\n      <td>2,649,238,062</td>\n      <td>119.4</td>\n    </tr>\n    <tr>\n      <th>37</th>\n      <td>202105</td>\n      <td>경상남도</td>\n      <td>전체(시 / 군 / 구)</td>\n      <td>심 야</td>\n      <td>80,297</td>\n      <td>44,537,064</td>\n      <td>2,324,793,257</td>\n      <td>52.2</td>\n    </tr>\n    <tr>\n      <th>38</th>\n      <td>202106</td>\n      <td>경상남도</td>\n      <td>전체(시 / 군 / 구)</td>\n      <td>주택용</td>\n      <td>1,184,069</td>\n      <td>376,957,717</td>\n      <td>38,371,173,955</td>\n      <td>101.8</td>\n    </tr>\n    <tr>\n      <th>39</th>\n      <td>202106</td>\n      <td>경상남도</td>\n      <td>전체(시 / 군 / 구)</td>\n      <td>일반용</td>\n      <td>226,739</td>\n      <td>515,282,261</td>\n      <td>68,736,682,953</td>\n      <td>133.4</td>\n    </tr>\n    <tr>\n      <th>40</th>\n      <td>202106</td>\n      <td>경상남도</td>\n      <td>전체(시 / 군 / 구)</td>\n      <td>교육용</td>\n      <td>1,690</td>\n      <td>31,747,108</td>\n      <td>3,719,425,209</td>\n      <td>117.2</td>\n    </tr>\n    <tr>\n      <th>41</th>\n      <td>202106</td>\n      <td>경상남도</td>\n      <td>전체(시 / 군 / 구)</td>\n      <td>산업용</td>\n      <td>38,694</td>\n      <td>1,706,638,077</td>\n      <td>208,630,277,576</td>\n      <td>122.2</td>\n    </tr>\n    <tr>\n      <th>42</th>\n      <td>202106</td>\n      <td>경상남도</td>\n      <td>전체(시 / 군 / 구)</td>\n      <td>농사용</td>\n      <td>223,773</td>\n      <td>140,485,019</td>\n      <td>6,903,599,206</td>\n      <td>49.1</td>\n    </tr>\n    <tr>\n      <th>43</th>\n      <td>202106</td>\n      <td>경상남도</td>\n      <td>전체(시 / 군 / 구)</td>\n      <td>가로등</td>\n      <td>191,119</td>\n      <td>21,447,939</td>\n      <td>2,630,191,750</td>\n      <td>122.6</td>\n    </tr>\n    <tr>\n      <th>44</th>\n      <td>202106</td>\n      <td>경상남도</td>\n      <td>전체(시 / 군 / 구)</td>\n      <td>심 야</td>\n      <td>80,003</td>\n      <td>30,240,443</td>\n      <td>1,601,928,888</td>\n      <td>53.0</td>\n    </tr>\n    <tr>\n      <th>45</th>\n      <td>합계</td>\n      <td>합계</td>\n      <td>합계</td>\n      <td>합계</td>\n      <td>11,672,600</td>\n      <td>17,989,377,443</td>\n      <td>1,914,992,169,389</td>\n      <td>106.5</td>\n    </tr>\n  </tbody>\n</table>\n</div>"
     },
     "execution_count": 6,
     "metadata": {},
     "output_type": "execute_result"
    }
   ],
   "source": [
    "df_2 = df.loc[:45]\n",
    "df_2\n"
   ],
   "metadata": {
    "collapsed": false,
    "pycharm": {
     "name": "#%%\n"
    }
   }
  },
  {
   "cell_type": "code",
   "execution_count": 7,
   "outputs": [
    {
     "name": "stderr",
     "output_type": "stream",
     "text": [
      "C:\\Users\\user\\AppData\\Local\\Temp\\ipykernel_21772\\3551721261.py:3: SettingWithCopyWarning: \n",
      "A value is trying to be set on a copy of a slice from a DataFrame\n",
      "\n",
      "See the caveats in the documentation: https://pandas.pydata.org/pandas-docs/stable/user_guide/indexing.html#returning-a-view-versus-a-copy\n",
      "  GyeonGi.drop(['시군구' , '전기요금(원)' , '평균판매단가(원/kWh)'] , axis = 1 , inplace = True)\n"
     ]
    },
    {
     "data": {
      "text/plain": "        년월    시구 계약구분   고객호수(호)      사용량(kWh)\n4   202101  경상남도  일반용  225,860   627,572,860 \n11  202102  경상남도  일반용  226,035   591,100,113 \n18  202103  경상남도  일반용  226,052   504,410,399 \n25  202104  경상남도  일반용  225,908   489,988,159 \n32  202105  경상남도  일반용  226,082   467,072,358 \n39  202106  경상남도  일반용  226,739   515,282,261 ",
      "text/html": "<div>\n<style scoped>\n    .dataframe tbody tr th:only-of-type {\n        vertical-align: middle;\n    }\n\n    .dataframe tbody tr th {\n        vertical-align: top;\n    }\n\n    .dataframe thead th {\n        text-align: right;\n    }\n</style>\n<table border=\"1\" class=\"dataframe\">\n  <thead>\n    <tr style=\"text-align: right;\">\n      <th></th>\n      <th>년월</th>\n      <th>시구</th>\n      <th>계약구분</th>\n      <th>고객호수(호)</th>\n      <th>사용량(kWh)</th>\n    </tr>\n  </thead>\n  <tbody>\n    <tr>\n      <th>4</th>\n      <td>202101</td>\n      <td>경상남도</td>\n      <td>일반용</td>\n      <td>225,860</td>\n      <td>627,572,860</td>\n    </tr>\n    <tr>\n      <th>11</th>\n      <td>202102</td>\n      <td>경상남도</td>\n      <td>일반용</td>\n      <td>226,035</td>\n      <td>591,100,113</td>\n    </tr>\n    <tr>\n      <th>18</th>\n      <td>202103</td>\n      <td>경상남도</td>\n      <td>일반용</td>\n      <td>226,052</td>\n      <td>504,410,399</td>\n    </tr>\n    <tr>\n      <th>25</th>\n      <td>202104</td>\n      <td>경상남도</td>\n      <td>일반용</td>\n      <td>225,908</td>\n      <td>489,988,159</td>\n    </tr>\n    <tr>\n      <th>32</th>\n      <td>202105</td>\n      <td>경상남도</td>\n      <td>일반용</td>\n      <td>226,082</td>\n      <td>467,072,358</td>\n    </tr>\n    <tr>\n      <th>39</th>\n      <td>202106</td>\n      <td>경상남도</td>\n      <td>일반용</td>\n      <td>226,739</td>\n      <td>515,282,261</td>\n    </tr>\n  </tbody>\n</table>\n</div>"
     },
     "execution_count": 7,
     "metadata": {},
     "output_type": "execute_result"
    }
   ],
   "source": [
    "GyeonGi  = df_2.loc[(df_2['계약구분'] == '일반용')]\n",
    "#SEOUL = df_3.loc[(df_3['계약구분'] =='일반용')]\n",
    "GyeonGi.drop(['시군구' , '전기요금(원)' , '평균판매단가(원/kWh)'] , axis = 1 , inplace = True)\n",
    "GyeonGi"
   ],
   "metadata": {
    "collapsed": false,
    "pycharm": {
     "name": "#%%\n"
    }
   }
  },
  {
   "cell_type": "code",
   "execution_count": 8,
   "outputs": [],
   "source": [
    "#SEOUL1.to_csv(\"서울특별시_계약종별_전국_전력사용량_2022.csv\" , mode = 'w' , encoding= 'cp949')"
   ],
   "metadata": {
    "collapsed": false,
    "pycharm": {
     "name": "#%%\n"
    }
   }
  },
  {
   "cell_type": "code",
   "execution_count": 9,
   "outputs": [],
   "source": [
    "#df_2.to_csv(\"서울특별시_계약종별_전국_전력사용량.csv\" , mode = 'w' , encoding= 'cp949')"
   ],
   "metadata": {
    "collapsed": false,
    "pycharm": {
     "name": "#%%\n"
    }
   }
  },
  {
   "cell_type": "code",
   "execution_count": 10,
   "outputs": [
    {
     "data": {
      "text/plain": "         년월    시구  시군구 계약구분  고객호수(호)     사용량(kWh)\n53   202101  경상남도  거제시  일반용  17,533   40,843,642 \n197  202102  경상남도  거제시  일반용  17,535   38,857,457 \n341  202103  경상남도  거제시  일반용  17,523   34,033,472 \n485  202104  경상남도  거제시  일반용  17,493   32,347,661 \n629  202105  경상남도  거제시  일반용  17,500   32,532,701 \n..      ...   ...  ...  ...      ...          ...\n333  202102  경상남도  합천군  일반용   4,093    9,682,047 \n477  202103  경상남도  합천군  일반용   4,099    7,933,995 \n621  202104  경상남도  합천군  일반용   4,072    7,359,991 \n765  202105  경상남도  합천군  일반용   4,070    6,635,874 \n909  202106  경상남도  합천군  일반용   4,070    7,024,835 \n\n[108 rows x 6 columns]",
      "text/html": "<div>\n<style scoped>\n    .dataframe tbody tr th:only-of-type {\n        vertical-align: middle;\n    }\n\n    .dataframe tbody tr th {\n        vertical-align: top;\n    }\n\n    .dataframe thead th {\n        text-align: right;\n    }\n</style>\n<table border=\"1\" class=\"dataframe\">\n  <thead>\n    <tr style=\"text-align: right;\">\n      <th></th>\n      <th>년월</th>\n      <th>시구</th>\n      <th>시군구</th>\n      <th>계약구분</th>\n      <th>고객호수(호)</th>\n      <th>사용량(kWh)</th>\n    </tr>\n  </thead>\n  <tbody>\n    <tr>\n      <th>53</th>\n      <td>202101</td>\n      <td>경상남도</td>\n      <td>거제시</td>\n      <td>일반용</td>\n      <td>17,533</td>\n      <td>40,843,642</td>\n    </tr>\n    <tr>\n      <th>197</th>\n      <td>202102</td>\n      <td>경상남도</td>\n      <td>거제시</td>\n      <td>일반용</td>\n      <td>17,535</td>\n      <td>38,857,457</td>\n    </tr>\n    <tr>\n      <th>341</th>\n      <td>202103</td>\n      <td>경상남도</td>\n      <td>거제시</td>\n      <td>일반용</td>\n      <td>17,523</td>\n      <td>34,033,472</td>\n    </tr>\n    <tr>\n      <th>485</th>\n      <td>202104</td>\n      <td>경상남도</td>\n      <td>거제시</td>\n      <td>일반용</td>\n      <td>17,493</td>\n      <td>32,347,661</td>\n    </tr>\n    <tr>\n      <th>629</th>\n      <td>202105</td>\n      <td>경상남도</td>\n      <td>거제시</td>\n      <td>일반용</td>\n      <td>17,500</td>\n      <td>32,532,701</td>\n    </tr>\n    <tr>\n      <th>...</th>\n      <td>...</td>\n      <td>...</td>\n      <td>...</td>\n      <td>...</td>\n      <td>...</td>\n      <td>...</td>\n    </tr>\n    <tr>\n      <th>333</th>\n      <td>202102</td>\n      <td>경상남도</td>\n      <td>합천군</td>\n      <td>일반용</td>\n      <td>4,093</td>\n      <td>9,682,047</td>\n    </tr>\n    <tr>\n      <th>477</th>\n      <td>202103</td>\n      <td>경상남도</td>\n      <td>합천군</td>\n      <td>일반용</td>\n      <td>4,099</td>\n      <td>7,933,995</td>\n    </tr>\n    <tr>\n      <th>621</th>\n      <td>202104</td>\n      <td>경상남도</td>\n      <td>합천군</td>\n      <td>일반용</td>\n      <td>4,072</td>\n      <td>7,359,991</td>\n    </tr>\n    <tr>\n      <th>765</th>\n      <td>202105</td>\n      <td>경상남도</td>\n      <td>합천군</td>\n      <td>일반용</td>\n      <td>4,070</td>\n      <td>6,635,874</td>\n    </tr>\n    <tr>\n      <th>909</th>\n      <td>202106</td>\n      <td>경상남도</td>\n      <td>합천군</td>\n      <td>일반용</td>\n      <td>4,070</td>\n      <td>7,024,835</td>\n    </tr>\n  </tbody>\n</table>\n<p>108 rows × 6 columns</p>\n</div>"
     },
     "execution_count": 10,
     "metadata": {},
     "output_type": "execute_result"
    }
   ],
   "source": [
    "df_3 = df.loc[48:]\n",
    "df_3 = df_3.loc[(df_3['계약구분'] == '일반용')]\n",
    "df_3 = df_3.sort_values(by=['시군구' , '년월'])\n",
    "df_3.drop(['전기요금(원)',   '평균판매단가(원/kWh)'] , axis = 1 , inplace = True)\n",
    "df_3"
   ],
   "metadata": {
    "collapsed": false,
    "pycharm": {
     "name": "#%%\n"
    }
   }
  },
  {
   "cell_type": "code",
   "execution_count": 11,
   "outputs": [
    {
     "data": {
      "text/plain": "'경상남도'"
     },
     "execution_count": 11,
     "metadata": {},
     "output_type": "execute_result"
    }
   ],
   "source": [
    "a = df_3.loc[: , \"시구\"]\n",
    "b = a[:1].tolist()\n",
    "for i in b:\n",
    "    City = i\n",
    "City"
   ],
   "metadata": {
    "collapsed": false,
    "pycharm": {
     "name": "#%%\n"
    }
   }
  },
  {
   "cell_type": "code",
   "execution_count": 12,
   "outputs": [
    {
     "data": {
      "text/plain": "['거제시',\n '거창군',\n '고성군',\n '김해시',\n '남해군',\n '밀양시',\n '사천시',\n '산청군',\n '양산시',\n '의령군',\n '진주시',\n '창녕군',\n '창원시',\n '통영시',\n '하동군',\n '함안군',\n '함양군',\n '합천군']"
     },
     "execution_count": 12,
     "metadata": {},
     "output_type": "execute_result"
    }
   ],
   "source": [
    "\n",
    "SIGUNGU = list(set(df_3.loc[: , '시군구'].tolist()))\n",
    "SIGUNGU.sort()\n",
    "SIGUNGU"
   ],
   "metadata": {
    "collapsed": false,
    "pycharm": {
     "name": "#%%\n"
    }
   }
  },
  {
   "cell_type": "code",
   "execution_count": 13,
   "outputs": [
    {
     "data": {
      "text/plain": "         년월    시구  시군구 계약구분   고객호수(호)      사용량(kWh)\n55   202101  경상남도  거제시   합계  126,017   185,882,867 \n199  202102  경상남도  거제시   합계  125,991   167,070,759 \n343  202103  경상남도  거제시   합계  127,171   158,081,630 \n487  202104  경상남도  거제시   합계  126,075   149,333,532 \n631  202105  경상남도  거제시   합계  126,218   151,422,863 \n..      ...   ...  ...  ...       ...           ...\n335  202102  경상남도  합천군   합계   56,706    42,419,581 \n479  202103  경상남도  합천군   합계   59,090    34,913,314 \n623  202104  경상남도  합천군   합계   57,027    31,939,773 \n767  202105  경상남도  합천군   합계   57,208    28,024,220 \n911  202106  경상남도  합천군   합계   57,384    29,880,236 \n\n[108 rows x 6 columns]",
      "text/html": "<div>\n<style scoped>\n    .dataframe tbody tr th:only-of-type {\n        vertical-align: middle;\n    }\n\n    .dataframe tbody tr th {\n        vertical-align: top;\n    }\n\n    .dataframe thead th {\n        text-align: right;\n    }\n</style>\n<table border=\"1\" class=\"dataframe\">\n  <thead>\n    <tr style=\"text-align: right;\">\n      <th></th>\n      <th>년월</th>\n      <th>시구</th>\n      <th>시군구</th>\n      <th>계약구분</th>\n      <th>고객호수(호)</th>\n      <th>사용량(kWh)</th>\n    </tr>\n  </thead>\n  <tbody>\n    <tr>\n      <th>55</th>\n      <td>202101</td>\n      <td>경상남도</td>\n      <td>거제시</td>\n      <td>합계</td>\n      <td>126,017</td>\n      <td>185,882,867</td>\n    </tr>\n    <tr>\n      <th>199</th>\n      <td>202102</td>\n      <td>경상남도</td>\n      <td>거제시</td>\n      <td>합계</td>\n      <td>125,991</td>\n      <td>167,070,759</td>\n    </tr>\n    <tr>\n      <th>343</th>\n      <td>202103</td>\n      <td>경상남도</td>\n      <td>거제시</td>\n      <td>합계</td>\n      <td>127,171</td>\n      <td>158,081,630</td>\n    </tr>\n    <tr>\n      <th>487</th>\n      <td>202104</td>\n      <td>경상남도</td>\n      <td>거제시</td>\n      <td>합계</td>\n      <td>126,075</td>\n      <td>149,333,532</td>\n    </tr>\n    <tr>\n      <th>631</th>\n      <td>202105</td>\n      <td>경상남도</td>\n      <td>거제시</td>\n      <td>합계</td>\n      <td>126,218</td>\n      <td>151,422,863</td>\n    </tr>\n    <tr>\n      <th>...</th>\n      <td>...</td>\n      <td>...</td>\n      <td>...</td>\n      <td>...</td>\n      <td>...</td>\n      <td>...</td>\n    </tr>\n    <tr>\n      <th>335</th>\n      <td>202102</td>\n      <td>경상남도</td>\n      <td>합천군</td>\n      <td>합계</td>\n      <td>56,706</td>\n      <td>42,419,581</td>\n    </tr>\n    <tr>\n      <th>479</th>\n      <td>202103</td>\n      <td>경상남도</td>\n      <td>합천군</td>\n      <td>합계</td>\n      <td>59,090</td>\n      <td>34,913,314</td>\n    </tr>\n    <tr>\n      <th>623</th>\n      <td>202104</td>\n      <td>경상남도</td>\n      <td>합천군</td>\n      <td>합계</td>\n      <td>57,027</td>\n      <td>31,939,773</td>\n    </tr>\n    <tr>\n      <th>767</th>\n      <td>202105</td>\n      <td>경상남도</td>\n      <td>합천군</td>\n      <td>합계</td>\n      <td>57,208</td>\n      <td>28,024,220</td>\n    </tr>\n    <tr>\n      <th>911</th>\n      <td>202106</td>\n      <td>경상남도</td>\n      <td>합천군</td>\n      <td>합계</td>\n      <td>57,384</td>\n      <td>29,880,236</td>\n    </tr>\n  </tbody>\n</table>\n<p>108 rows × 6 columns</p>\n</div>"
     },
     "execution_count": 13,
     "metadata": {},
     "output_type": "execute_result"
    }
   ],
   "source": [
    "df_4 = df.loc[48:]\n",
    "df_4 = df_4.loc[(df_4['계약구분'] == '합계')]\n",
    "df_4 = df_4.sort_values(by=['시군구' , '년월'])\n",
    "df_4.drop(['전기요금(원)',   '평균판매단가(원/kWh)'] , axis = 1 , inplace = True)\n",
    "df_4"
   ],
   "metadata": {
    "collapsed": false,
    "pycharm": {
     "name": "#%%\n"
    }
   }
  },
  {
   "cell_type": "code",
   "execution_count": 14,
   "outputs": [
    {
     "name": "stdout",
     "output_type": "stream",
     "text": [
      "[185882867, 167070759, 158081630, 149333532, 151422863, 166076467]\n",
      "[47116824, 45119178, 38821816, 37553319, 34101281, 35161686]\n",
      "[94164130, 86437734, 87171773, 67213739, 70281592, 65856856]\n",
      "[510460554, 478863271, 438315917, 447775769, 415106980, 433526346]\n",
      "[27511714, 25924506, 21758892, 20798179, 19289257, 20986943]\n",
      "[152066736, 139790579, 119331837, 107293138, 91182690, 90585179]\n",
      "[129738289, 119262506, 115529777, 112930300, 105836758, 111769546]\n",
      "[39711333, 36827202, 29908007, 27109587, 24942842, 25417709]\n",
      "[348318449, 318116008, 313452111, 312857066, 290701087, 321776685]\n",
      "[43552567, 39030522, 34765140, 32087181, 29580594, 29500501]\n",
      "[297087488, 276942984, 234463047, 219773405, 195950639, 197502793]\n",
      "[108753276, 99483621, 88986686, 82381292, 74138539, 79282157]\n",
      "[989791138, 864333346, 892960182, 860243549, 826413777, 857298876]\n",
      "[95132485, 88886229, 78007880, 74568422, 71147924, 64896127]\n",
      "[41593509, 41945061, 33268374, 32231630, 27998516, 30106257]\n",
      "[264625357, 233327525, 249006417, 243051194, 236389889, 242528778]\n",
      "[28686466, 27550402, 22918251, 22410479, 20284400, 20645422]\n",
      "[45048230, 42419581, 34913314, 31939773, 28024220, 29880236]\n",
      "경상남도 지역별 합계 :  [977868118, 237874104, 471125824, 2724048837, 136269491, 700250159, 695067176, 183916680, 1905221406, 208516505, 1421720356, 533025571, 5291040868, 472639067, 207143347, 1468929160, 142495420, 212225354]\n",
      "경상남도 고객호수 평균:  [21050, 10297, 9680, 34933, 8864, 18026, 13694, 8373, 21077, 6258, 33936, 11173, 76196, 14074, 9718, 9643, 7682, 9556]\n"
     ]
    }
   ],
   "source": [
    "sum2 , sum3 =[] , []\n",
    "for k in SIGUNGU:\n",
    "    GyeonGiHap = pd.DataFrame([] , columns = a)\n",
    "    HOSU = pd.DataFrame([], columns = a)\n",
    "    GyeonGiHap['사용량']= df_4['사용량(kWh)'].loc[(df_4['시군구'] == '{}'.format(k))]\n",
    "    HOSU['고객호수']= df_4['고객호수(호)'].loc[(df_4['시군구'] == '{}'.format(k))]\n",
    "    #경기합 데이터프레임의 사용량 열에 기군구가 가평군인 사용량 데이터만 뽑아내기\n",
    "    # GyeonGiHap = GyeonGiHap['사용량']\n",
    "\n",
    "    b = GyeonGiHap['사용량'].tolist()\n",
    "    c = HOSU['고객호수'].tolist()\n",
    "\n",
    "\n",
    "    #각지역별 사용량 리스트화\n",
    "    int_list  , int_list2=[] , []\n",
    "    for i in b:\n",
    "        i = re.sub(\",\" , \"\" , i)\n",
    "        #콤마 없애기\n",
    "        int_list.append(int(i))\n",
    "        #int_list에 각지역별 사용량 int로 저장\n",
    "    print(int_list)\n",
    "    sum=0\n",
    "    for i in c:\n",
    "        i = re.sub(\",\" , \"\" , i)\n",
    "        int_list2.append(int(i))\n",
    "\n",
    "    for j in int_list:\n",
    "\n",
    "        sum+= j\n",
    "    sum2.append(sum)\n",
    "    sum = 0\n",
    "    for j in int_list2: #고객호수 추출하여 더하기\n",
    "\n",
    "        sum+= j\n",
    "    sum3.append(sum//36) #6개월 치로 나눠야하나?!\n",
    "\n",
    "\n",
    "\n",
    "\n",
    "print(\"{} 지역별 합계 : \".format(City) , sum2)\n",
    "print(\"{} 고객호수 평균: \".format(City) , sum3)"
   ],
   "metadata": {
    "collapsed": false,
    "pycharm": {
     "name": "#%%\n"
    }
   }
  },
  {
   "cell_type": "markdown",
   "source": [
    "### 2. 날짜 체크!!!!!!!!!!!!!!!!!!!!!!!!!!!!!!!!!!!!!!!!!!!!!!"
   ],
   "metadata": {
    "collapsed": false,
    "pycharm": {
     "name": "#%% md\n"
    }
   }
  },
  {
   "cell_type": "code",
   "execution_count": 15,
   "outputs": [
    {
     "name": "stderr",
     "output_type": "stream",
     "text": [
      "C:\\Users\\user\\AppData\\Local\\Temp\\ipykernel_21772\\1481603074.py:4: FutureWarning: The frame.append method is deprecated and will be removed from pandas in a future version. Use pandas.concat instead.\n",
      "  Hap = Hap.append({'년월' :'202101-202106'  , '시구' : '{}'.format(City) , '시군구' : '{}'.format(SIGUNGU[i]) , '계약구분' : '합계' , '고객호수(호)' : sum3[i] ,  '사용량(kWh)' : sum2[i]} , ignore_index=True) #년월 파일마다 수정하기\n",
      "C:\\Users\\user\\AppData\\Local\\Temp\\ipykernel_21772\\1481603074.py:4: FutureWarning: The frame.append method is deprecated and will be removed from pandas in a future version. Use pandas.concat instead.\n",
      "  Hap = Hap.append({'년월' :'202101-202106'  , '시구' : '{}'.format(City) , '시군구' : '{}'.format(SIGUNGU[i]) , '계약구분' : '합계' , '고객호수(호)' : sum3[i] ,  '사용량(kWh)' : sum2[i]} , ignore_index=True) #년월 파일마다 수정하기\n",
      "C:\\Users\\user\\AppData\\Local\\Temp\\ipykernel_21772\\1481603074.py:4: FutureWarning: The frame.append method is deprecated and will be removed from pandas in a future version. Use pandas.concat instead.\n",
      "  Hap = Hap.append({'년월' :'202101-202106'  , '시구' : '{}'.format(City) , '시군구' : '{}'.format(SIGUNGU[i]) , '계약구분' : '합계' , '고객호수(호)' : sum3[i] ,  '사용량(kWh)' : sum2[i]} , ignore_index=True) #년월 파일마다 수정하기\n",
      "C:\\Users\\user\\AppData\\Local\\Temp\\ipykernel_21772\\1481603074.py:4: FutureWarning: The frame.append method is deprecated and will be removed from pandas in a future version. Use pandas.concat instead.\n",
      "  Hap = Hap.append({'년월' :'202101-202106'  , '시구' : '{}'.format(City) , '시군구' : '{}'.format(SIGUNGU[i]) , '계약구분' : '합계' , '고객호수(호)' : sum3[i] ,  '사용량(kWh)' : sum2[i]} , ignore_index=True) #년월 파일마다 수정하기\n",
      "C:\\Users\\user\\AppData\\Local\\Temp\\ipykernel_21772\\1481603074.py:4: FutureWarning: The frame.append method is deprecated and will be removed from pandas in a future version. Use pandas.concat instead.\n",
      "  Hap = Hap.append({'년월' :'202101-202106'  , '시구' : '{}'.format(City) , '시군구' : '{}'.format(SIGUNGU[i]) , '계약구분' : '합계' , '고객호수(호)' : sum3[i] ,  '사용량(kWh)' : sum2[i]} , ignore_index=True) #년월 파일마다 수정하기\n",
      "C:\\Users\\user\\AppData\\Local\\Temp\\ipykernel_21772\\1481603074.py:4: FutureWarning: The frame.append method is deprecated and will be removed from pandas in a future version. Use pandas.concat instead.\n",
      "  Hap = Hap.append({'년월' :'202101-202106'  , '시구' : '{}'.format(City) , '시군구' : '{}'.format(SIGUNGU[i]) , '계약구분' : '합계' , '고객호수(호)' : sum3[i] ,  '사용량(kWh)' : sum2[i]} , ignore_index=True) #년월 파일마다 수정하기\n",
      "C:\\Users\\user\\AppData\\Local\\Temp\\ipykernel_21772\\1481603074.py:4: FutureWarning: The frame.append method is deprecated and will be removed from pandas in a future version. Use pandas.concat instead.\n",
      "  Hap = Hap.append({'년월' :'202101-202106'  , '시구' : '{}'.format(City) , '시군구' : '{}'.format(SIGUNGU[i]) , '계약구분' : '합계' , '고객호수(호)' : sum3[i] ,  '사용량(kWh)' : sum2[i]} , ignore_index=True) #년월 파일마다 수정하기\n",
      "C:\\Users\\user\\AppData\\Local\\Temp\\ipykernel_21772\\1481603074.py:4: FutureWarning: The frame.append method is deprecated and will be removed from pandas in a future version. Use pandas.concat instead.\n",
      "  Hap = Hap.append({'년월' :'202101-202106'  , '시구' : '{}'.format(City) , '시군구' : '{}'.format(SIGUNGU[i]) , '계약구분' : '합계' , '고객호수(호)' : sum3[i] ,  '사용량(kWh)' : sum2[i]} , ignore_index=True) #년월 파일마다 수정하기\n",
      "C:\\Users\\user\\AppData\\Local\\Temp\\ipykernel_21772\\1481603074.py:4: FutureWarning: The frame.append method is deprecated and will be removed from pandas in a future version. Use pandas.concat instead.\n",
      "  Hap = Hap.append({'년월' :'202101-202106'  , '시구' : '{}'.format(City) , '시군구' : '{}'.format(SIGUNGU[i]) , '계약구분' : '합계' , '고객호수(호)' : sum3[i] ,  '사용량(kWh)' : sum2[i]} , ignore_index=True) #년월 파일마다 수정하기\n",
      "C:\\Users\\user\\AppData\\Local\\Temp\\ipykernel_21772\\1481603074.py:4: FutureWarning: The frame.append method is deprecated and will be removed from pandas in a future version. Use pandas.concat instead.\n",
      "  Hap = Hap.append({'년월' :'202101-202106'  , '시구' : '{}'.format(City) , '시군구' : '{}'.format(SIGUNGU[i]) , '계약구분' : '합계' , '고객호수(호)' : sum3[i] ,  '사용량(kWh)' : sum2[i]} , ignore_index=True) #년월 파일마다 수정하기\n",
      "C:\\Users\\user\\AppData\\Local\\Temp\\ipykernel_21772\\1481603074.py:4: FutureWarning: The frame.append method is deprecated and will be removed from pandas in a future version. Use pandas.concat instead.\n",
      "  Hap = Hap.append({'년월' :'202101-202106'  , '시구' : '{}'.format(City) , '시군구' : '{}'.format(SIGUNGU[i]) , '계약구분' : '합계' , '고객호수(호)' : sum3[i] ,  '사용량(kWh)' : sum2[i]} , ignore_index=True) #년월 파일마다 수정하기\n",
      "C:\\Users\\user\\AppData\\Local\\Temp\\ipykernel_21772\\1481603074.py:4: FutureWarning: The frame.append method is deprecated and will be removed from pandas in a future version. Use pandas.concat instead.\n",
      "  Hap = Hap.append({'년월' :'202101-202106'  , '시구' : '{}'.format(City) , '시군구' : '{}'.format(SIGUNGU[i]) , '계약구분' : '합계' , '고객호수(호)' : sum3[i] ,  '사용량(kWh)' : sum2[i]} , ignore_index=True) #년월 파일마다 수정하기\n",
      "C:\\Users\\user\\AppData\\Local\\Temp\\ipykernel_21772\\1481603074.py:4: FutureWarning: The frame.append method is deprecated and will be removed from pandas in a future version. Use pandas.concat instead.\n",
      "  Hap = Hap.append({'년월' :'202101-202106'  , '시구' : '{}'.format(City) , '시군구' : '{}'.format(SIGUNGU[i]) , '계약구분' : '합계' , '고객호수(호)' : sum3[i] ,  '사용량(kWh)' : sum2[i]} , ignore_index=True) #년월 파일마다 수정하기\n",
      "C:\\Users\\user\\AppData\\Local\\Temp\\ipykernel_21772\\1481603074.py:4: FutureWarning: The frame.append method is deprecated and will be removed from pandas in a future version. Use pandas.concat instead.\n",
      "  Hap = Hap.append({'년월' :'202101-202106'  , '시구' : '{}'.format(City) , '시군구' : '{}'.format(SIGUNGU[i]) , '계약구분' : '합계' , '고객호수(호)' : sum3[i] ,  '사용량(kWh)' : sum2[i]} , ignore_index=True) #년월 파일마다 수정하기\n",
      "C:\\Users\\user\\AppData\\Local\\Temp\\ipykernel_21772\\1481603074.py:4: FutureWarning: The frame.append method is deprecated and will be removed from pandas in a future version. Use pandas.concat instead.\n",
      "  Hap = Hap.append({'년월' :'202101-202106'  , '시구' : '{}'.format(City) , '시군구' : '{}'.format(SIGUNGU[i]) , '계약구분' : '합계' , '고객호수(호)' : sum3[i] ,  '사용량(kWh)' : sum2[i]} , ignore_index=True) #년월 파일마다 수정하기\n",
      "C:\\Users\\user\\AppData\\Local\\Temp\\ipykernel_21772\\1481603074.py:4: FutureWarning: The frame.append method is deprecated and will be removed from pandas in a future version. Use pandas.concat instead.\n",
      "  Hap = Hap.append({'년월' :'202101-202106'  , '시구' : '{}'.format(City) , '시군구' : '{}'.format(SIGUNGU[i]) , '계약구분' : '합계' , '고객호수(호)' : sum3[i] ,  '사용량(kWh)' : sum2[i]} , ignore_index=True) #년월 파일마다 수정하기\n",
      "C:\\Users\\user\\AppData\\Local\\Temp\\ipykernel_21772\\1481603074.py:4: FutureWarning: The frame.append method is deprecated and will be removed from pandas in a future version. Use pandas.concat instead.\n",
      "  Hap = Hap.append({'년월' :'202101-202106'  , '시구' : '{}'.format(City) , '시군구' : '{}'.format(SIGUNGU[i]) , '계약구분' : '합계' , '고객호수(호)' : sum3[i] ,  '사용량(kWh)' : sum2[i]} , ignore_index=True) #년월 파일마다 수정하기\n",
      "C:\\Users\\user\\AppData\\Local\\Temp\\ipykernel_21772\\1481603074.py:4: FutureWarning: The frame.append method is deprecated and will be removed from pandas in a future version. Use pandas.concat instead.\n",
      "  Hap = Hap.append({'년월' :'202101-202106'  , '시구' : '{}'.format(City) , '시군구' : '{}'.format(SIGUNGU[i]) , '계약구분' : '합계' , '고객호수(호)' : sum3[i] ,  '사용량(kWh)' : sum2[i]} , ignore_index=True) #년월 파일마다 수정하기\n"
     ]
    },
    {
     "data": {
      "text/plain": "                년월    시구  시군구 계약구분   고객호수(호)      사용량(kWh)\n0           202101  경상남도  거제시   합계  126,017   185,882,867 \n1           202102  경상남도  거제시   합계  125,991   167,070,759 \n2           202103  경상남도  거제시   합계  127,171   158,081,630 \n3           202104  경상남도  거제시   합계  126,075   149,333,532 \n4           202105  경상남도  거제시   합계  126,218   151,422,863 \n..             ...   ...  ...  ...       ...           ...\n121  202101-202106  경상남도  통영시   합계     14074     472639067\n122  202101-202106  경상남도  하동군   합계      9718     207143347\n123  202101-202106  경상남도  함안군   합계      9643    1468929160\n124  202101-202106  경상남도  함양군   합계      7682     142495420\n125  202101-202106  경상남도  합천군   합계      9556     212225354\n\n[126 rows x 6 columns]",
      "text/html": "<div>\n<style scoped>\n    .dataframe tbody tr th:only-of-type {\n        vertical-align: middle;\n    }\n\n    .dataframe tbody tr th {\n        vertical-align: top;\n    }\n\n    .dataframe thead th {\n        text-align: right;\n    }\n</style>\n<table border=\"1\" class=\"dataframe\">\n  <thead>\n    <tr style=\"text-align: right;\">\n      <th></th>\n      <th>년월</th>\n      <th>시구</th>\n      <th>시군구</th>\n      <th>계약구분</th>\n      <th>고객호수(호)</th>\n      <th>사용량(kWh)</th>\n    </tr>\n  </thead>\n  <tbody>\n    <tr>\n      <th>0</th>\n      <td>202101</td>\n      <td>경상남도</td>\n      <td>거제시</td>\n      <td>합계</td>\n      <td>126,017</td>\n      <td>185,882,867</td>\n    </tr>\n    <tr>\n      <th>1</th>\n      <td>202102</td>\n      <td>경상남도</td>\n      <td>거제시</td>\n      <td>합계</td>\n      <td>125,991</td>\n      <td>167,070,759</td>\n    </tr>\n    <tr>\n      <th>2</th>\n      <td>202103</td>\n      <td>경상남도</td>\n      <td>거제시</td>\n      <td>합계</td>\n      <td>127,171</td>\n      <td>158,081,630</td>\n    </tr>\n    <tr>\n      <th>3</th>\n      <td>202104</td>\n      <td>경상남도</td>\n      <td>거제시</td>\n      <td>합계</td>\n      <td>126,075</td>\n      <td>149,333,532</td>\n    </tr>\n    <tr>\n      <th>4</th>\n      <td>202105</td>\n      <td>경상남도</td>\n      <td>거제시</td>\n      <td>합계</td>\n      <td>126,218</td>\n      <td>151,422,863</td>\n    </tr>\n    <tr>\n      <th>...</th>\n      <td>...</td>\n      <td>...</td>\n      <td>...</td>\n      <td>...</td>\n      <td>...</td>\n      <td>...</td>\n    </tr>\n    <tr>\n      <th>121</th>\n      <td>202101-202106</td>\n      <td>경상남도</td>\n      <td>통영시</td>\n      <td>합계</td>\n      <td>14074</td>\n      <td>472639067</td>\n    </tr>\n    <tr>\n      <th>122</th>\n      <td>202101-202106</td>\n      <td>경상남도</td>\n      <td>하동군</td>\n      <td>합계</td>\n      <td>9718</td>\n      <td>207143347</td>\n    </tr>\n    <tr>\n      <th>123</th>\n      <td>202101-202106</td>\n      <td>경상남도</td>\n      <td>함안군</td>\n      <td>합계</td>\n      <td>9643</td>\n      <td>1468929160</td>\n    </tr>\n    <tr>\n      <th>124</th>\n      <td>202101-202106</td>\n      <td>경상남도</td>\n      <td>함양군</td>\n      <td>합계</td>\n      <td>7682</td>\n      <td>142495420</td>\n    </tr>\n    <tr>\n      <th>125</th>\n      <td>202101-202106</td>\n      <td>경상남도</td>\n      <td>합천군</td>\n      <td>합계</td>\n      <td>9556</td>\n      <td>212225354</td>\n    </tr>\n  </tbody>\n</table>\n<p>126 rows × 6 columns</p>\n</div>"
     },
     "execution_count": 15,
     "metadata": {},
     "output_type": "execute_result"
    }
   ],
   "source": [
    "Hap = df_4.copy()\n",
    "Hap.reset_index(drop=True , inplace = True)\n",
    "for i in range(len(SIGUNGU)):\n",
    "    Hap = Hap.append({'년월' :'202101-202106'  , '시구' : '{}'.format(City) , '시군구' : '{}'.format(SIGUNGU[i]) , '계약구분' : '합계' , '고객호수(호)' : sum3[i] ,  '사용량(kWh)' : sum2[i]} , ignore_index=True) #년월 파일마다 수정하기\n",
    "Hap"
   ],
   "metadata": {
    "collapsed": false,
    "pycharm": {
     "name": "#%%\n"
    }
   }
  },
  {
   "cell_type": "markdown",
   "source": [
    "### 3. 날짜 변경!!!!!!!!!!!!!!!!!!!!!!!!!!!!!!!"
   ],
   "metadata": {
    "collapsed": false,
    "pycharm": {
     "name": "#%% md\n"
    }
   }
  },
  {
   "cell_type": "code",
   "execution_count": 16,
   "outputs": [
    {
     "data": {
      "text/plain": "                년월    시구  시군구 계약구분 고객호수(호)    사용량(kWh)\n108  202101-202106  경상남도  거제시   합계   21050   977868118\n109  202101-202106  경상남도  거창군   합계   10297   237874104\n110  202101-202106  경상남도  고성군   합계    9680   471125824\n111  202101-202106  경상남도  김해시   합계   34933  2724048837\n112  202101-202106  경상남도  남해군   합계    8864   136269491\n113  202101-202106  경상남도  밀양시   합계   18026   700250159\n114  202101-202106  경상남도  사천시   합계   13694   695067176\n115  202101-202106  경상남도  산청군   합계    8373   183916680\n116  202101-202106  경상남도  양산시   합계   21077  1905221406\n117  202101-202106  경상남도  의령군   합계    6258   208516505\n118  202101-202106  경상남도  진주시   합계   33936  1421720356\n119  202101-202106  경상남도  창녕군   합계   11173   533025571\n120  202101-202106  경상남도  창원시   합계   76196  5291040868\n121  202101-202106  경상남도  통영시   합계   14074   472639067\n122  202101-202106  경상남도  하동군   합계    9718   207143347\n123  202101-202106  경상남도  함안군   합계    9643  1468929160\n124  202101-202106  경상남도  함양군   합계    7682   142495420\n125  202101-202106  경상남도  합천군   합계    9556   212225354",
      "text/html": "<div>\n<style scoped>\n    .dataframe tbody tr th:only-of-type {\n        vertical-align: middle;\n    }\n\n    .dataframe tbody tr th {\n        vertical-align: top;\n    }\n\n    .dataframe thead th {\n        text-align: right;\n    }\n</style>\n<table border=\"1\" class=\"dataframe\">\n  <thead>\n    <tr style=\"text-align: right;\">\n      <th></th>\n      <th>년월</th>\n      <th>시구</th>\n      <th>시군구</th>\n      <th>계약구분</th>\n      <th>고객호수(호)</th>\n      <th>사용량(kWh)</th>\n    </tr>\n  </thead>\n  <tbody>\n    <tr>\n      <th>108</th>\n      <td>202101-202106</td>\n      <td>경상남도</td>\n      <td>거제시</td>\n      <td>합계</td>\n      <td>21050</td>\n      <td>977868118</td>\n    </tr>\n    <tr>\n      <th>109</th>\n      <td>202101-202106</td>\n      <td>경상남도</td>\n      <td>거창군</td>\n      <td>합계</td>\n      <td>10297</td>\n      <td>237874104</td>\n    </tr>\n    <tr>\n      <th>110</th>\n      <td>202101-202106</td>\n      <td>경상남도</td>\n      <td>고성군</td>\n      <td>합계</td>\n      <td>9680</td>\n      <td>471125824</td>\n    </tr>\n    <tr>\n      <th>111</th>\n      <td>202101-202106</td>\n      <td>경상남도</td>\n      <td>김해시</td>\n      <td>합계</td>\n      <td>34933</td>\n      <td>2724048837</td>\n    </tr>\n    <tr>\n      <th>112</th>\n      <td>202101-202106</td>\n      <td>경상남도</td>\n      <td>남해군</td>\n      <td>합계</td>\n      <td>8864</td>\n      <td>136269491</td>\n    </tr>\n    <tr>\n      <th>113</th>\n      <td>202101-202106</td>\n      <td>경상남도</td>\n      <td>밀양시</td>\n      <td>합계</td>\n      <td>18026</td>\n      <td>700250159</td>\n    </tr>\n    <tr>\n      <th>114</th>\n      <td>202101-202106</td>\n      <td>경상남도</td>\n      <td>사천시</td>\n      <td>합계</td>\n      <td>13694</td>\n      <td>695067176</td>\n    </tr>\n    <tr>\n      <th>115</th>\n      <td>202101-202106</td>\n      <td>경상남도</td>\n      <td>산청군</td>\n      <td>합계</td>\n      <td>8373</td>\n      <td>183916680</td>\n    </tr>\n    <tr>\n      <th>116</th>\n      <td>202101-202106</td>\n      <td>경상남도</td>\n      <td>양산시</td>\n      <td>합계</td>\n      <td>21077</td>\n      <td>1905221406</td>\n    </tr>\n    <tr>\n      <th>117</th>\n      <td>202101-202106</td>\n      <td>경상남도</td>\n      <td>의령군</td>\n      <td>합계</td>\n      <td>6258</td>\n      <td>208516505</td>\n    </tr>\n    <tr>\n      <th>118</th>\n      <td>202101-202106</td>\n      <td>경상남도</td>\n      <td>진주시</td>\n      <td>합계</td>\n      <td>33936</td>\n      <td>1421720356</td>\n    </tr>\n    <tr>\n      <th>119</th>\n      <td>202101-202106</td>\n      <td>경상남도</td>\n      <td>창녕군</td>\n      <td>합계</td>\n      <td>11173</td>\n      <td>533025571</td>\n    </tr>\n    <tr>\n      <th>120</th>\n      <td>202101-202106</td>\n      <td>경상남도</td>\n      <td>창원시</td>\n      <td>합계</td>\n      <td>76196</td>\n      <td>5291040868</td>\n    </tr>\n    <tr>\n      <th>121</th>\n      <td>202101-202106</td>\n      <td>경상남도</td>\n      <td>통영시</td>\n      <td>합계</td>\n      <td>14074</td>\n      <td>472639067</td>\n    </tr>\n    <tr>\n      <th>122</th>\n      <td>202101-202106</td>\n      <td>경상남도</td>\n      <td>하동군</td>\n      <td>합계</td>\n      <td>9718</td>\n      <td>207143347</td>\n    </tr>\n    <tr>\n      <th>123</th>\n      <td>202101-202106</td>\n      <td>경상남도</td>\n      <td>함안군</td>\n      <td>합계</td>\n      <td>9643</td>\n      <td>1468929160</td>\n    </tr>\n    <tr>\n      <th>124</th>\n      <td>202101-202106</td>\n      <td>경상남도</td>\n      <td>함양군</td>\n      <td>합계</td>\n      <td>7682</td>\n      <td>142495420</td>\n    </tr>\n    <tr>\n      <th>125</th>\n      <td>202101-202106</td>\n      <td>경상남도</td>\n      <td>합천군</td>\n      <td>합계</td>\n      <td>9556</td>\n      <td>212225354</td>\n    </tr>\n  </tbody>\n</table>\n</div>"
     },
     "execution_count": 16,
     "metadata": {},
     "output_type": "execute_result"
    }
   ],
   "source": [
    "Hap = Hap.loc[Hap['년월'] == '202101-202106']\n",
    "Hap"
   ],
   "metadata": {
    "collapsed": false,
    "pycharm": {
     "name": "#%%\n"
    }
   }
  },
  {
   "cell_type": "code",
   "execution_count": 17,
   "outputs": [],
   "source": [
    "# SIGUNGU = SIGUNGU[:1]\n",
    "# SIGUNGU\n",
    "#for i in SIGUNGU:\n",
    "#print('{}'.format(i))\n",
    "# df_3 = df_3.loc[(df_3['시군구'] == '가평군')]\n",
    "#\n",
    "# df_3"
   ],
   "metadata": {
    "collapsed": false,
    "pycharm": {
     "name": "#%%\n"
    }
   }
  },
  {
   "cell_type": "code",
   "execution_count": 18,
   "outputs": [
    {
     "data": {
      "text/plain": "['년월', '시구', '시군구', '계약구분', '고객호수(호)', '사용량(kWh)']"
     },
     "execution_count": 18,
     "metadata": {},
     "output_type": "execute_result"
    }
   ],
   "source": [
    "a = (df_3.columns).tolist()\n",
    "\n",
    "a"
   ],
   "metadata": {
    "collapsed": false,
    "pycharm": {
     "name": "#%%\n"
    }
   }
  },
  {
   "cell_type": "code",
   "execution_count": 19,
   "outputs": [
    {
     "data": {
      "text/plain": "         년월    시구  시군구 계약구분  고객호수(호)     사용량(kWh)\n53   202101  경상남도  거제시  일반용  17,533   40,843,642 \n197  202102  경상남도  거제시  일반용  17,535   38,857,457 \n341  202103  경상남도  거제시  일반용  17,523   34,033,472 \n485  202104  경상남도  거제시  일반용  17,493   32,347,661 \n629  202105  경상남도  거제시  일반용  17,500   32,532,701 \n..      ...   ...  ...  ...      ...          ...\n333  202102  경상남도  합천군  일반용   4,093    9,682,047 \n477  202103  경상남도  합천군  일반용   4,099    7,933,995 \n621  202104  경상남도  합천군  일반용   4,072    7,359,991 \n765  202105  경상남도  합천군  일반용   4,070    6,635,874 \n909  202106  경상남도  합천군  일반용   4,070    7,024,835 \n\n[108 rows x 6 columns]",
      "text/html": "<div>\n<style scoped>\n    .dataframe tbody tr th:only-of-type {\n        vertical-align: middle;\n    }\n\n    .dataframe tbody tr th {\n        vertical-align: top;\n    }\n\n    .dataframe thead th {\n        text-align: right;\n    }\n</style>\n<table border=\"1\" class=\"dataframe\">\n  <thead>\n    <tr style=\"text-align: right;\">\n      <th></th>\n      <th>년월</th>\n      <th>시구</th>\n      <th>시군구</th>\n      <th>계약구분</th>\n      <th>고객호수(호)</th>\n      <th>사용량(kWh)</th>\n    </tr>\n  </thead>\n  <tbody>\n    <tr>\n      <th>53</th>\n      <td>202101</td>\n      <td>경상남도</td>\n      <td>거제시</td>\n      <td>일반용</td>\n      <td>17,533</td>\n      <td>40,843,642</td>\n    </tr>\n    <tr>\n      <th>197</th>\n      <td>202102</td>\n      <td>경상남도</td>\n      <td>거제시</td>\n      <td>일반용</td>\n      <td>17,535</td>\n      <td>38,857,457</td>\n    </tr>\n    <tr>\n      <th>341</th>\n      <td>202103</td>\n      <td>경상남도</td>\n      <td>거제시</td>\n      <td>일반용</td>\n      <td>17,523</td>\n      <td>34,033,472</td>\n    </tr>\n    <tr>\n      <th>485</th>\n      <td>202104</td>\n      <td>경상남도</td>\n      <td>거제시</td>\n      <td>일반용</td>\n      <td>17,493</td>\n      <td>32,347,661</td>\n    </tr>\n    <tr>\n      <th>629</th>\n      <td>202105</td>\n      <td>경상남도</td>\n      <td>거제시</td>\n      <td>일반용</td>\n      <td>17,500</td>\n      <td>32,532,701</td>\n    </tr>\n    <tr>\n      <th>...</th>\n      <td>...</td>\n      <td>...</td>\n      <td>...</td>\n      <td>...</td>\n      <td>...</td>\n      <td>...</td>\n    </tr>\n    <tr>\n      <th>333</th>\n      <td>202102</td>\n      <td>경상남도</td>\n      <td>합천군</td>\n      <td>일반용</td>\n      <td>4,093</td>\n      <td>9,682,047</td>\n    </tr>\n    <tr>\n      <th>477</th>\n      <td>202103</td>\n      <td>경상남도</td>\n      <td>합천군</td>\n      <td>일반용</td>\n      <td>4,099</td>\n      <td>7,933,995</td>\n    </tr>\n    <tr>\n      <th>621</th>\n      <td>202104</td>\n      <td>경상남도</td>\n      <td>합천군</td>\n      <td>일반용</td>\n      <td>4,072</td>\n      <td>7,359,991</td>\n    </tr>\n    <tr>\n      <th>765</th>\n      <td>202105</td>\n      <td>경상남도</td>\n      <td>합천군</td>\n      <td>일반용</td>\n      <td>4,070</td>\n      <td>6,635,874</td>\n    </tr>\n    <tr>\n      <th>909</th>\n      <td>202106</td>\n      <td>경상남도</td>\n      <td>합천군</td>\n      <td>일반용</td>\n      <td>4,070</td>\n      <td>7,024,835</td>\n    </tr>\n  </tbody>\n</table>\n<p>108 rows × 6 columns</p>\n</div>"
     },
     "execution_count": 19,
     "metadata": {},
     "output_type": "execute_result"
    }
   ],
   "source": [
    "df_3"
   ],
   "metadata": {
    "collapsed": false,
    "pycharm": {
     "name": "#%%\n"
    }
   }
  },
  {
   "cell_type": "code",
   "execution_count": 20,
   "outputs": [],
   "source": [
    "# GyeonGiHap = pd.DataFrame([] , columns = a)\n",
    "# GyeonGiHap['사용량']= df_3['사용량(kWh)'].loc[(df_3['시군구'] == '{가평군}')]\n",
    "# GyeonGiHap"
   ],
   "metadata": {
    "collapsed": false,
    "pycharm": {
     "name": "#%%\n"
    }
   }
  },
  {
   "cell_type": "code",
   "execution_count": 21,
   "outputs": [
    {
     "name": "stdout",
     "output_type": "stream",
     "text": [
      "[40843642, 38857457, 34033472, 32347661, 32532701, 35051133]\n",
      "[12642561, 11860896, 9574134, 9139139, 8179046, 8545047]\n",
      "[11479280, 10703846, 8722255, 8296521, 7423310, 7756712]\n",
      "[93267674, 86284279, 74466877, 74052155, 71264529, 79971145]\n",
      "[10933959, 10285210, 8615696, 8088160, 7521436, 7799330]\n",
      "[20921735, 19917072, 16072238, 15643720, 14710720, 15841281]\n",
      "[23723133, 22793630, 18998717, 18425680, 16658205, 18102677]\n",
      "[7130963, 7006599, 5696924, 5509340, 4999193, 5090649]\n",
      "[61180645, 57641808, 50228909, 50167128, 48217570, 53536955]\n",
      "[6227157, 5712549, 4874331, 4596085, 3985189, 4132894]\n",
      "[64889191, 62041211, 52778043, 48977432, 47157489, 53939011]\n",
      "[13547816, 13037519, 10833831, 10279407, 9482494, 9979148]\n",
      "[191536623, 178309911, 154131449, 151370089, 146038297, 162806066]\n",
      "[30418531, 29670276, 24743122, 23576406, 21843151, 23571702]\n",
      "[8329046, 8105285, 6863469, 6715718, 5995797, 6099073]\n",
      "[13181423, 12337555, 10281053, 10082162, 9526053, 10919558]\n",
      "[7030070, 6852963, 5561884, 5361365, 4901304, 5115045]\n",
      "[10289411, 9682047, 7933995, 7359991, 6635874, 7024835]\n",
      "경상남도 지역별 일반용 합계 :  [213666066, 59940823, 54381924, 479306659, 53243791, 103106766, 118702042, 35433668, 320973015, 29528205, 329782377, 67160215, 984192435, 153823188, 42108388, 66327804, 34822631, 48926153]\n",
      "경상남도 고객호수 평균:  [17518, 5206, 4643, 31491, 5013, 9690, 9764, 3706, 19567, 2409, 25669, 5542, 56838, 11440, 4499, 5281, 3749, 4081]\n"
     ]
    }
   ],
   "source": [
    "sum2 , sum3 =[] , []\n",
    "for k in SIGUNGU:\n",
    "    GyeonGiHap = pd.DataFrame([] , columns = a)\n",
    "    HOSU = pd.DataFrame([], columns = a)\n",
    "    GyeonGiHap['사용량']= df_3['사용량(kWh)'].loc[(df_3['시군구'] == '{}'.format(k))]\n",
    "    HOSU['고객호수']= df_3['고객호수(호)'].loc[(df_3['시군구'] == '{}'.format(k))]\n",
    "    #경기합 데이터프레임의 사용량 열에 기군구가 가평군인 사용량 데이터만 뽑아내기\n",
    "    # GyeonGiHap = GyeonGiHap['사용량']\n",
    "\n",
    "    b = GyeonGiHap['사용량'].tolist()\n",
    "    c = HOSU['고객호수'].tolist()\n",
    "\n",
    "\n",
    "    #각지역별 사용량 리스트화\n",
    "    int_list  , int_list2=[] , []\n",
    "    for i in b:\n",
    "        i = re.sub(\",\" , \"\" , i)\n",
    "        #콤마 없애기\n",
    "        int_list.append(int(i))\n",
    "        #int_list에 각지역별 사용량 int로 저장\n",
    "    print(int_list)\n",
    "    sum=0\n",
    "    for i in c:\n",
    "        i = re.sub(\",\" , \"\" , i)\n",
    "        int_list2.append(int(i))\n",
    "\n",
    "    for j in int_list:\n",
    "\n",
    "        sum+= j\n",
    "    sum2.append(sum)\n",
    "    sum = 0\n",
    "    for j in int_list2: #고객호수 추출하여 더하기\n",
    "\n",
    "        sum+= j\n",
    "    sum3.append(sum//6) #6개월 치로 나눠야하나?!\n",
    "\n",
    "\n",
    "\n",
    "\n",
    "print(\"{} 지역별 일반용 합계 : \".format(City) , sum2)\n",
    "print(\"{} 고객호수 평균: \".format(City) , sum3)\n",
    "# GyeonGiHap['합계'] = sum\n",
    "#\n",
    "# GyeonGiHap"
   ],
   "metadata": {
    "collapsed": false,
    "pycharm": {
     "name": "#%%\n"
    }
   }
  },
  {
   "cell_type": "code",
   "execution_count": 22,
   "outputs": [],
   "source": [
    "# df_3 = df_3.loc[(df_3['시군구'] == '가평군')]\n",
    "#\n",
    "# df_3"
   ],
   "metadata": {
    "collapsed": false,
    "pycharm": {
     "name": "#%%\n"
    }
   }
  },
  {
   "cell_type": "code",
   "execution_count": 23,
   "outputs": [],
   "source": [
    "# GyeonGiHap = df_3.copy()\n",
    "# GyeonGiHap.reset_index(drop=True , inplace = True)\n",
    "# GyeonGiHap.append({'년월' : '202107-202112'  , '시구' : '경기도' , '시군구' : '가평군' , '계약구분' : '일반용' , '사용량(kWh)' : sum}, ignore_index=True)"
   ],
   "metadata": {
    "collapsed": false,
    "pycharm": {
     "name": "#%%\n"
    }
   }
  },
  {
   "cell_type": "code",
   "execution_count": 24,
   "outputs": [],
   "source": [
    "# a=[]\n",
    "# for i in SIGUNGU:\n",
    "#     a.append(i)\n",
    "#\n",
    "# print(a)"
   ],
   "metadata": {
    "collapsed": false,
    "pycharm": {
     "name": "#%%\n"
    }
   }
  },
  {
   "cell_type": "markdown",
   "source": [
    "### 4. 년월 체크!!!!!!!!!!!!!!!!!!!!!!!!!!!!!!!!!!!!!!!!!!!!!!!!!!!!!!!!!!!!!!!!!"
   ],
   "metadata": {
    "collapsed": false,
    "pycharm": {
     "name": "#%% md\n"
    }
   }
  },
  {
   "cell_type": "code",
   "execution_count": 25,
   "outputs": [
    {
     "name": "stderr",
     "output_type": "stream",
     "text": [
      "C:\\Users\\user\\AppData\\Local\\Temp\\ipykernel_21772\\1152688266.py:4: FutureWarning: The frame.append method is deprecated and will be removed from pandas in a future version. Use pandas.concat instead.\n",
      "  GyeonGiHap2 = GyeonGiHap2.append({'년월' :'202101-202106'  , '시구' : '{}'.format(City) , '시군구' : '{}'.format(SIGUNGU[i]) , '계약구분' : '일반용' , '고객호수(호)' : sum3[i] ,  '사용량(kWh)' : sum2[i]} , ignore_index=True) #년월 파일마다 수정하기\n",
      "C:\\Users\\user\\AppData\\Local\\Temp\\ipykernel_21772\\1152688266.py:4: FutureWarning: The frame.append method is deprecated and will be removed from pandas in a future version. Use pandas.concat instead.\n",
      "  GyeonGiHap2 = GyeonGiHap2.append({'년월' :'202101-202106'  , '시구' : '{}'.format(City) , '시군구' : '{}'.format(SIGUNGU[i]) , '계약구분' : '일반용' , '고객호수(호)' : sum3[i] ,  '사용량(kWh)' : sum2[i]} , ignore_index=True) #년월 파일마다 수정하기\n",
      "C:\\Users\\user\\AppData\\Local\\Temp\\ipykernel_21772\\1152688266.py:4: FutureWarning: The frame.append method is deprecated and will be removed from pandas in a future version. Use pandas.concat instead.\n",
      "  GyeonGiHap2 = GyeonGiHap2.append({'년월' :'202101-202106'  , '시구' : '{}'.format(City) , '시군구' : '{}'.format(SIGUNGU[i]) , '계약구분' : '일반용' , '고객호수(호)' : sum3[i] ,  '사용량(kWh)' : sum2[i]} , ignore_index=True) #년월 파일마다 수정하기\n",
      "C:\\Users\\user\\AppData\\Local\\Temp\\ipykernel_21772\\1152688266.py:4: FutureWarning: The frame.append method is deprecated and will be removed from pandas in a future version. Use pandas.concat instead.\n",
      "  GyeonGiHap2 = GyeonGiHap2.append({'년월' :'202101-202106'  , '시구' : '{}'.format(City) , '시군구' : '{}'.format(SIGUNGU[i]) , '계약구분' : '일반용' , '고객호수(호)' : sum3[i] ,  '사용량(kWh)' : sum2[i]} , ignore_index=True) #년월 파일마다 수정하기\n",
      "C:\\Users\\user\\AppData\\Local\\Temp\\ipykernel_21772\\1152688266.py:4: FutureWarning: The frame.append method is deprecated and will be removed from pandas in a future version. Use pandas.concat instead.\n",
      "  GyeonGiHap2 = GyeonGiHap2.append({'년월' :'202101-202106'  , '시구' : '{}'.format(City) , '시군구' : '{}'.format(SIGUNGU[i]) , '계약구분' : '일반용' , '고객호수(호)' : sum3[i] ,  '사용량(kWh)' : sum2[i]} , ignore_index=True) #년월 파일마다 수정하기\n",
      "C:\\Users\\user\\AppData\\Local\\Temp\\ipykernel_21772\\1152688266.py:4: FutureWarning: The frame.append method is deprecated and will be removed from pandas in a future version. Use pandas.concat instead.\n",
      "  GyeonGiHap2 = GyeonGiHap2.append({'년월' :'202101-202106'  , '시구' : '{}'.format(City) , '시군구' : '{}'.format(SIGUNGU[i]) , '계약구분' : '일반용' , '고객호수(호)' : sum3[i] ,  '사용량(kWh)' : sum2[i]} , ignore_index=True) #년월 파일마다 수정하기\n",
      "C:\\Users\\user\\AppData\\Local\\Temp\\ipykernel_21772\\1152688266.py:4: FutureWarning: The frame.append method is deprecated and will be removed from pandas in a future version. Use pandas.concat instead.\n",
      "  GyeonGiHap2 = GyeonGiHap2.append({'년월' :'202101-202106'  , '시구' : '{}'.format(City) , '시군구' : '{}'.format(SIGUNGU[i]) , '계약구분' : '일반용' , '고객호수(호)' : sum3[i] ,  '사용량(kWh)' : sum2[i]} , ignore_index=True) #년월 파일마다 수정하기\n",
      "C:\\Users\\user\\AppData\\Local\\Temp\\ipykernel_21772\\1152688266.py:4: FutureWarning: The frame.append method is deprecated and will be removed from pandas in a future version. Use pandas.concat instead.\n",
      "  GyeonGiHap2 = GyeonGiHap2.append({'년월' :'202101-202106'  , '시구' : '{}'.format(City) , '시군구' : '{}'.format(SIGUNGU[i]) , '계약구분' : '일반용' , '고객호수(호)' : sum3[i] ,  '사용량(kWh)' : sum2[i]} , ignore_index=True) #년월 파일마다 수정하기\n",
      "C:\\Users\\user\\AppData\\Local\\Temp\\ipykernel_21772\\1152688266.py:4: FutureWarning: The frame.append method is deprecated and will be removed from pandas in a future version. Use pandas.concat instead.\n",
      "  GyeonGiHap2 = GyeonGiHap2.append({'년월' :'202101-202106'  , '시구' : '{}'.format(City) , '시군구' : '{}'.format(SIGUNGU[i]) , '계약구분' : '일반용' , '고객호수(호)' : sum3[i] ,  '사용량(kWh)' : sum2[i]} , ignore_index=True) #년월 파일마다 수정하기\n",
      "C:\\Users\\user\\AppData\\Local\\Temp\\ipykernel_21772\\1152688266.py:4: FutureWarning: The frame.append method is deprecated and will be removed from pandas in a future version. Use pandas.concat instead.\n",
      "  GyeonGiHap2 = GyeonGiHap2.append({'년월' :'202101-202106'  , '시구' : '{}'.format(City) , '시군구' : '{}'.format(SIGUNGU[i]) , '계약구분' : '일반용' , '고객호수(호)' : sum3[i] ,  '사용량(kWh)' : sum2[i]} , ignore_index=True) #년월 파일마다 수정하기\n",
      "C:\\Users\\user\\AppData\\Local\\Temp\\ipykernel_21772\\1152688266.py:4: FutureWarning: The frame.append method is deprecated and will be removed from pandas in a future version. Use pandas.concat instead.\n",
      "  GyeonGiHap2 = GyeonGiHap2.append({'년월' :'202101-202106'  , '시구' : '{}'.format(City) , '시군구' : '{}'.format(SIGUNGU[i]) , '계약구분' : '일반용' , '고객호수(호)' : sum3[i] ,  '사용량(kWh)' : sum2[i]} , ignore_index=True) #년월 파일마다 수정하기\n",
      "C:\\Users\\user\\AppData\\Local\\Temp\\ipykernel_21772\\1152688266.py:4: FutureWarning: The frame.append method is deprecated and will be removed from pandas in a future version. Use pandas.concat instead.\n",
      "  GyeonGiHap2 = GyeonGiHap2.append({'년월' :'202101-202106'  , '시구' : '{}'.format(City) , '시군구' : '{}'.format(SIGUNGU[i]) , '계약구분' : '일반용' , '고객호수(호)' : sum3[i] ,  '사용량(kWh)' : sum2[i]} , ignore_index=True) #년월 파일마다 수정하기\n",
      "C:\\Users\\user\\AppData\\Local\\Temp\\ipykernel_21772\\1152688266.py:4: FutureWarning: The frame.append method is deprecated and will be removed from pandas in a future version. Use pandas.concat instead.\n",
      "  GyeonGiHap2 = GyeonGiHap2.append({'년월' :'202101-202106'  , '시구' : '{}'.format(City) , '시군구' : '{}'.format(SIGUNGU[i]) , '계약구분' : '일반용' , '고객호수(호)' : sum3[i] ,  '사용량(kWh)' : sum2[i]} , ignore_index=True) #년월 파일마다 수정하기\n",
      "C:\\Users\\user\\AppData\\Local\\Temp\\ipykernel_21772\\1152688266.py:4: FutureWarning: The frame.append method is deprecated and will be removed from pandas in a future version. Use pandas.concat instead.\n",
      "  GyeonGiHap2 = GyeonGiHap2.append({'년월' :'202101-202106'  , '시구' : '{}'.format(City) , '시군구' : '{}'.format(SIGUNGU[i]) , '계약구분' : '일반용' , '고객호수(호)' : sum3[i] ,  '사용량(kWh)' : sum2[i]} , ignore_index=True) #년월 파일마다 수정하기\n",
      "C:\\Users\\user\\AppData\\Local\\Temp\\ipykernel_21772\\1152688266.py:4: FutureWarning: The frame.append method is deprecated and will be removed from pandas in a future version. Use pandas.concat instead.\n",
      "  GyeonGiHap2 = GyeonGiHap2.append({'년월' :'202101-202106'  , '시구' : '{}'.format(City) , '시군구' : '{}'.format(SIGUNGU[i]) , '계약구분' : '일반용' , '고객호수(호)' : sum3[i] ,  '사용량(kWh)' : sum2[i]} , ignore_index=True) #년월 파일마다 수정하기\n",
      "C:\\Users\\user\\AppData\\Local\\Temp\\ipykernel_21772\\1152688266.py:4: FutureWarning: The frame.append method is deprecated and will be removed from pandas in a future version. Use pandas.concat instead.\n",
      "  GyeonGiHap2 = GyeonGiHap2.append({'년월' :'202101-202106'  , '시구' : '{}'.format(City) , '시군구' : '{}'.format(SIGUNGU[i]) , '계약구분' : '일반용' , '고객호수(호)' : sum3[i] ,  '사용량(kWh)' : sum2[i]} , ignore_index=True) #년월 파일마다 수정하기\n",
      "C:\\Users\\user\\AppData\\Local\\Temp\\ipykernel_21772\\1152688266.py:4: FutureWarning: The frame.append method is deprecated and will be removed from pandas in a future version. Use pandas.concat instead.\n",
      "  GyeonGiHap2 = GyeonGiHap2.append({'년월' :'202101-202106'  , '시구' : '{}'.format(City) , '시군구' : '{}'.format(SIGUNGU[i]) , '계약구분' : '일반용' , '고객호수(호)' : sum3[i] ,  '사용량(kWh)' : sum2[i]} , ignore_index=True) #년월 파일마다 수정하기\n",
      "C:\\Users\\user\\AppData\\Local\\Temp\\ipykernel_21772\\1152688266.py:4: FutureWarning: The frame.append method is deprecated and will be removed from pandas in a future version. Use pandas.concat instead.\n",
      "  GyeonGiHap2 = GyeonGiHap2.append({'년월' :'202101-202106'  , '시구' : '{}'.format(City) , '시군구' : '{}'.format(SIGUNGU[i]) , '계약구분' : '일반용' , '고객호수(호)' : sum3[i] ,  '사용량(kWh)' : sum2[i]} , ignore_index=True) #년월 파일마다 수정하기\n"
     ]
    },
    {
     "data": {
      "text/plain": "                년월    시구  시군구 계약구분  고객호수(호)     사용량(kWh)\n0           202101  경상남도  거제시  일반용  17,533   40,843,642 \n1           202102  경상남도  거제시  일반용  17,535   38,857,457 \n2           202103  경상남도  거제시  일반용  17,523   34,033,472 \n3           202104  경상남도  거제시  일반용  17,493   32,347,661 \n4           202105  경상남도  거제시  일반용  17,500   32,532,701 \n..             ...   ...  ...  ...      ...          ...\n121  202101-202106  경상남도  통영시  일반용    11440    153823188\n122  202101-202106  경상남도  하동군  일반용     4499     42108388\n123  202101-202106  경상남도  함안군  일반용     5281     66327804\n124  202101-202106  경상남도  함양군  일반용     3749     34822631\n125  202101-202106  경상남도  합천군  일반용     4081     48926153\n\n[126 rows x 6 columns]",
      "text/html": "<div>\n<style scoped>\n    .dataframe tbody tr th:only-of-type {\n        vertical-align: middle;\n    }\n\n    .dataframe tbody tr th {\n        vertical-align: top;\n    }\n\n    .dataframe thead th {\n        text-align: right;\n    }\n</style>\n<table border=\"1\" class=\"dataframe\">\n  <thead>\n    <tr style=\"text-align: right;\">\n      <th></th>\n      <th>년월</th>\n      <th>시구</th>\n      <th>시군구</th>\n      <th>계약구분</th>\n      <th>고객호수(호)</th>\n      <th>사용량(kWh)</th>\n    </tr>\n  </thead>\n  <tbody>\n    <tr>\n      <th>0</th>\n      <td>202101</td>\n      <td>경상남도</td>\n      <td>거제시</td>\n      <td>일반용</td>\n      <td>17,533</td>\n      <td>40,843,642</td>\n    </tr>\n    <tr>\n      <th>1</th>\n      <td>202102</td>\n      <td>경상남도</td>\n      <td>거제시</td>\n      <td>일반용</td>\n      <td>17,535</td>\n      <td>38,857,457</td>\n    </tr>\n    <tr>\n      <th>2</th>\n      <td>202103</td>\n      <td>경상남도</td>\n      <td>거제시</td>\n      <td>일반용</td>\n      <td>17,523</td>\n      <td>34,033,472</td>\n    </tr>\n    <tr>\n      <th>3</th>\n      <td>202104</td>\n      <td>경상남도</td>\n      <td>거제시</td>\n      <td>일반용</td>\n      <td>17,493</td>\n      <td>32,347,661</td>\n    </tr>\n    <tr>\n      <th>4</th>\n      <td>202105</td>\n      <td>경상남도</td>\n      <td>거제시</td>\n      <td>일반용</td>\n      <td>17,500</td>\n      <td>32,532,701</td>\n    </tr>\n    <tr>\n      <th>...</th>\n      <td>...</td>\n      <td>...</td>\n      <td>...</td>\n      <td>...</td>\n      <td>...</td>\n      <td>...</td>\n    </tr>\n    <tr>\n      <th>121</th>\n      <td>202101-202106</td>\n      <td>경상남도</td>\n      <td>통영시</td>\n      <td>일반용</td>\n      <td>11440</td>\n      <td>153823188</td>\n    </tr>\n    <tr>\n      <th>122</th>\n      <td>202101-202106</td>\n      <td>경상남도</td>\n      <td>하동군</td>\n      <td>일반용</td>\n      <td>4499</td>\n      <td>42108388</td>\n    </tr>\n    <tr>\n      <th>123</th>\n      <td>202101-202106</td>\n      <td>경상남도</td>\n      <td>함안군</td>\n      <td>일반용</td>\n      <td>5281</td>\n      <td>66327804</td>\n    </tr>\n    <tr>\n      <th>124</th>\n      <td>202101-202106</td>\n      <td>경상남도</td>\n      <td>함양군</td>\n      <td>일반용</td>\n      <td>3749</td>\n      <td>34822631</td>\n    </tr>\n    <tr>\n      <th>125</th>\n      <td>202101-202106</td>\n      <td>경상남도</td>\n      <td>합천군</td>\n      <td>일반용</td>\n      <td>4081</td>\n      <td>48926153</td>\n    </tr>\n  </tbody>\n</table>\n<p>126 rows × 6 columns</p>\n</div>"
     },
     "execution_count": 25,
     "metadata": {},
     "output_type": "execute_result"
    }
   ],
   "source": [
    "GyeonGiHap2 = df_3.copy()\n",
    "GyeonGiHap2.reset_index(drop=True , inplace = True)\n",
    "for i in range(len(SIGUNGU)):\n",
    "    GyeonGiHap2 = GyeonGiHap2.append({'년월' :'202101-202106'  , '시구' : '{}'.format(City) , '시군구' : '{}'.format(SIGUNGU[i]) , '계약구분' : '일반용' , '고객호수(호)' : sum3[i] ,  '사용량(kWh)' : sum2[i]} , ignore_index=True) #년월 파일마다 수정하기\n",
    "GyeonGiHap2"
   ],
   "metadata": {
    "collapsed": false,
    "pycharm": {
     "name": "#%%\n"
    }
   }
  },
  {
   "cell_type": "markdown",
   "source": [
    "### 5. 날짜 체크!!!!!!!!!!!!!!!!!!!!!!!!!!!!!!!!!!!!!!!!!!!!!!!!!!!!"
   ],
   "metadata": {
    "collapsed": false,
    "pycharm": {
     "name": "#%% md\n"
    }
   }
  },
  {
   "cell_type": "code",
   "execution_count": 26,
   "outputs": [
    {
     "data": {
      "text/plain": "                년월    시구  시군구 계약구분 고객호수(호)   사용량(kWh)\n108  202101-202106  경상남도  거제시  일반용   17518  213666066\n109  202101-202106  경상남도  거창군  일반용    5206   59940823\n110  202101-202106  경상남도  고성군  일반용    4643   54381924\n111  202101-202106  경상남도  김해시  일반용   31491  479306659\n112  202101-202106  경상남도  남해군  일반용    5013   53243791\n113  202101-202106  경상남도  밀양시  일반용    9690  103106766\n114  202101-202106  경상남도  사천시  일반용    9764  118702042\n115  202101-202106  경상남도  산청군  일반용    3706   35433668\n116  202101-202106  경상남도  양산시  일반용   19567  320973015\n117  202101-202106  경상남도  의령군  일반용    2409   29528205\n118  202101-202106  경상남도  진주시  일반용   25669  329782377\n119  202101-202106  경상남도  창녕군  일반용    5542   67160215\n120  202101-202106  경상남도  창원시  일반용   56838  984192435\n121  202101-202106  경상남도  통영시  일반용   11440  153823188\n122  202101-202106  경상남도  하동군  일반용    4499   42108388\n123  202101-202106  경상남도  함안군  일반용    5281   66327804\n124  202101-202106  경상남도  함양군  일반용    3749   34822631\n125  202101-202106  경상남도  합천군  일반용    4081   48926153",
      "text/html": "<div>\n<style scoped>\n    .dataframe tbody tr th:only-of-type {\n        vertical-align: middle;\n    }\n\n    .dataframe tbody tr th {\n        vertical-align: top;\n    }\n\n    .dataframe thead th {\n        text-align: right;\n    }\n</style>\n<table border=\"1\" class=\"dataframe\">\n  <thead>\n    <tr style=\"text-align: right;\">\n      <th></th>\n      <th>년월</th>\n      <th>시구</th>\n      <th>시군구</th>\n      <th>계약구분</th>\n      <th>고객호수(호)</th>\n      <th>사용량(kWh)</th>\n    </tr>\n  </thead>\n  <tbody>\n    <tr>\n      <th>108</th>\n      <td>202101-202106</td>\n      <td>경상남도</td>\n      <td>거제시</td>\n      <td>일반용</td>\n      <td>17518</td>\n      <td>213666066</td>\n    </tr>\n    <tr>\n      <th>109</th>\n      <td>202101-202106</td>\n      <td>경상남도</td>\n      <td>거창군</td>\n      <td>일반용</td>\n      <td>5206</td>\n      <td>59940823</td>\n    </tr>\n    <tr>\n      <th>110</th>\n      <td>202101-202106</td>\n      <td>경상남도</td>\n      <td>고성군</td>\n      <td>일반용</td>\n      <td>4643</td>\n      <td>54381924</td>\n    </tr>\n    <tr>\n      <th>111</th>\n      <td>202101-202106</td>\n      <td>경상남도</td>\n      <td>김해시</td>\n      <td>일반용</td>\n      <td>31491</td>\n      <td>479306659</td>\n    </tr>\n    <tr>\n      <th>112</th>\n      <td>202101-202106</td>\n      <td>경상남도</td>\n      <td>남해군</td>\n      <td>일반용</td>\n      <td>5013</td>\n      <td>53243791</td>\n    </tr>\n    <tr>\n      <th>113</th>\n      <td>202101-202106</td>\n      <td>경상남도</td>\n      <td>밀양시</td>\n      <td>일반용</td>\n      <td>9690</td>\n      <td>103106766</td>\n    </tr>\n    <tr>\n      <th>114</th>\n      <td>202101-202106</td>\n      <td>경상남도</td>\n      <td>사천시</td>\n      <td>일반용</td>\n      <td>9764</td>\n      <td>118702042</td>\n    </tr>\n    <tr>\n      <th>115</th>\n      <td>202101-202106</td>\n      <td>경상남도</td>\n      <td>산청군</td>\n      <td>일반용</td>\n      <td>3706</td>\n      <td>35433668</td>\n    </tr>\n    <tr>\n      <th>116</th>\n      <td>202101-202106</td>\n      <td>경상남도</td>\n      <td>양산시</td>\n      <td>일반용</td>\n      <td>19567</td>\n      <td>320973015</td>\n    </tr>\n    <tr>\n      <th>117</th>\n      <td>202101-202106</td>\n      <td>경상남도</td>\n      <td>의령군</td>\n      <td>일반용</td>\n      <td>2409</td>\n      <td>29528205</td>\n    </tr>\n    <tr>\n      <th>118</th>\n      <td>202101-202106</td>\n      <td>경상남도</td>\n      <td>진주시</td>\n      <td>일반용</td>\n      <td>25669</td>\n      <td>329782377</td>\n    </tr>\n    <tr>\n      <th>119</th>\n      <td>202101-202106</td>\n      <td>경상남도</td>\n      <td>창녕군</td>\n      <td>일반용</td>\n      <td>5542</td>\n      <td>67160215</td>\n    </tr>\n    <tr>\n      <th>120</th>\n      <td>202101-202106</td>\n      <td>경상남도</td>\n      <td>창원시</td>\n      <td>일반용</td>\n      <td>56838</td>\n      <td>984192435</td>\n    </tr>\n    <tr>\n      <th>121</th>\n      <td>202101-202106</td>\n      <td>경상남도</td>\n      <td>통영시</td>\n      <td>일반용</td>\n      <td>11440</td>\n      <td>153823188</td>\n    </tr>\n    <tr>\n      <th>122</th>\n      <td>202101-202106</td>\n      <td>경상남도</td>\n      <td>하동군</td>\n      <td>일반용</td>\n      <td>4499</td>\n      <td>42108388</td>\n    </tr>\n    <tr>\n      <th>123</th>\n      <td>202101-202106</td>\n      <td>경상남도</td>\n      <td>함안군</td>\n      <td>일반용</td>\n      <td>5281</td>\n      <td>66327804</td>\n    </tr>\n    <tr>\n      <th>124</th>\n      <td>202101-202106</td>\n      <td>경상남도</td>\n      <td>함양군</td>\n      <td>일반용</td>\n      <td>3749</td>\n      <td>34822631</td>\n    </tr>\n    <tr>\n      <th>125</th>\n      <td>202101-202106</td>\n      <td>경상남도</td>\n      <td>합천군</td>\n      <td>일반용</td>\n      <td>4081</td>\n      <td>48926153</td>\n    </tr>\n  </tbody>\n</table>\n</div>"
     },
     "execution_count": 26,
     "metadata": {},
     "output_type": "execute_result"
    }
   ],
   "source": [
    "GyeonGiHap2 = GyeonGiHap2.loc[GyeonGiHap2['년월'] == '202101-202106']\n",
    "GyeonGiHap2"
   ],
   "metadata": {
    "collapsed": false,
    "pycharm": {
     "name": "#%%\n"
    }
   }
  },
  {
   "cell_type": "code",
   "execution_count": 27,
   "outputs": [
    {
     "data": {
      "text/plain": "                년월    시구  시군구 계약구분 고객호수(호)    사용량(kWh)\n108  202101-202106  경상남도  거제시  일반용   17518   213666066\n108  202101-202106  경상남도  거제시   합계   21050   977868118\n109  202101-202106  경상남도  거창군  일반용    5206    59940823\n109  202101-202106  경상남도  거창군   합계   10297   237874104\n110  202101-202106  경상남도  고성군  일반용    4643    54381924\n110  202101-202106  경상남도  고성군   합계    9680   471125824\n111  202101-202106  경상남도  김해시   합계   34933  2724048837\n111  202101-202106  경상남도  김해시  일반용   31491   479306659\n112  202101-202106  경상남도  남해군   합계    8864   136269491\n112  202101-202106  경상남도  남해군  일반용    5013    53243791\n113  202101-202106  경상남도  밀양시  일반용    9690   103106766\n113  202101-202106  경상남도  밀양시   합계   18026   700250159\n114  202101-202106  경상남도  사천시   합계   13694   695067176\n114  202101-202106  경상남도  사천시  일반용    9764   118702042\n115  202101-202106  경상남도  산청군  일반용    3706    35433668\n115  202101-202106  경상남도  산청군   합계    8373   183916680\n116  202101-202106  경상남도  양산시  일반용   19567   320973015\n116  202101-202106  경상남도  양산시   합계   21077  1905221406\n117  202101-202106  경상남도  의령군  일반용    2409    29528205\n117  202101-202106  경상남도  의령군   합계    6258   208516505\n118  202101-202106  경상남도  진주시   합계   33936  1421720356\n118  202101-202106  경상남도  진주시  일반용   25669   329782377\n119  202101-202106  경상남도  창녕군   합계   11173   533025571\n119  202101-202106  경상남도  창녕군  일반용    5542    67160215\n120  202101-202106  경상남도  창원시  일반용   56838   984192435\n120  202101-202106  경상남도  창원시   합계   76196  5291040868\n121  202101-202106  경상남도  통영시   합계   14074   472639067\n121  202101-202106  경상남도  통영시  일반용   11440   153823188\n122  202101-202106  경상남도  하동군   합계    9718   207143347\n122  202101-202106  경상남도  하동군  일반용    4499    42108388\n123  202101-202106  경상남도  함안군   합계    9643  1468929160\n123  202101-202106  경상남도  함안군  일반용    5281    66327804\n124  202101-202106  경상남도  함양군   합계    7682   142495420\n124  202101-202106  경상남도  함양군  일반용    3749    34822631\n125  202101-202106  경상남도  합천군  일반용    4081    48926153\n125  202101-202106  경상남도  합천군   합계    9556   212225354",
      "text/html": "<div>\n<style scoped>\n    .dataframe tbody tr th:only-of-type {\n        vertical-align: middle;\n    }\n\n    .dataframe tbody tr th {\n        vertical-align: top;\n    }\n\n    .dataframe thead th {\n        text-align: right;\n    }\n</style>\n<table border=\"1\" class=\"dataframe\">\n  <thead>\n    <tr style=\"text-align: right;\">\n      <th></th>\n      <th>년월</th>\n      <th>시구</th>\n      <th>시군구</th>\n      <th>계약구분</th>\n      <th>고객호수(호)</th>\n      <th>사용량(kWh)</th>\n    </tr>\n  </thead>\n  <tbody>\n    <tr>\n      <th>108</th>\n      <td>202101-202106</td>\n      <td>경상남도</td>\n      <td>거제시</td>\n      <td>일반용</td>\n      <td>17518</td>\n      <td>213666066</td>\n    </tr>\n    <tr>\n      <th>108</th>\n      <td>202101-202106</td>\n      <td>경상남도</td>\n      <td>거제시</td>\n      <td>합계</td>\n      <td>21050</td>\n      <td>977868118</td>\n    </tr>\n    <tr>\n      <th>109</th>\n      <td>202101-202106</td>\n      <td>경상남도</td>\n      <td>거창군</td>\n      <td>일반용</td>\n      <td>5206</td>\n      <td>59940823</td>\n    </tr>\n    <tr>\n      <th>109</th>\n      <td>202101-202106</td>\n      <td>경상남도</td>\n      <td>거창군</td>\n      <td>합계</td>\n      <td>10297</td>\n      <td>237874104</td>\n    </tr>\n    <tr>\n      <th>110</th>\n      <td>202101-202106</td>\n      <td>경상남도</td>\n      <td>고성군</td>\n      <td>일반용</td>\n      <td>4643</td>\n      <td>54381924</td>\n    </tr>\n    <tr>\n      <th>110</th>\n      <td>202101-202106</td>\n      <td>경상남도</td>\n      <td>고성군</td>\n      <td>합계</td>\n      <td>9680</td>\n      <td>471125824</td>\n    </tr>\n    <tr>\n      <th>111</th>\n      <td>202101-202106</td>\n      <td>경상남도</td>\n      <td>김해시</td>\n      <td>합계</td>\n      <td>34933</td>\n      <td>2724048837</td>\n    </tr>\n    <tr>\n      <th>111</th>\n      <td>202101-202106</td>\n      <td>경상남도</td>\n      <td>김해시</td>\n      <td>일반용</td>\n      <td>31491</td>\n      <td>479306659</td>\n    </tr>\n    <tr>\n      <th>112</th>\n      <td>202101-202106</td>\n      <td>경상남도</td>\n      <td>남해군</td>\n      <td>합계</td>\n      <td>8864</td>\n      <td>136269491</td>\n    </tr>\n    <tr>\n      <th>112</th>\n      <td>202101-202106</td>\n      <td>경상남도</td>\n      <td>남해군</td>\n      <td>일반용</td>\n      <td>5013</td>\n      <td>53243791</td>\n    </tr>\n    <tr>\n      <th>113</th>\n      <td>202101-202106</td>\n      <td>경상남도</td>\n      <td>밀양시</td>\n      <td>일반용</td>\n      <td>9690</td>\n      <td>103106766</td>\n    </tr>\n    <tr>\n      <th>113</th>\n      <td>202101-202106</td>\n      <td>경상남도</td>\n      <td>밀양시</td>\n      <td>합계</td>\n      <td>18026</td>\n      <td>700250159</td>\n    </tr>\n    <tr>\n      <th>114</th>\n      <td>202101-202106</td>\n      <td>경상남도</td>\n      <td>사천시</td>\n      <td>합계</td>\n      <td>13694</td>\n      <td>695067176</td>\n    </tr>\n    <tr>\n      <th>114</th>\n      <td>202101-202106</td>\n      <td>경상남도</td>\n      <td>사천시</td>\n      <td>일반용</td>\n      <td>9764</td>\n      <td>118702042</td>\n    </tr>\n    <tr>\n      <th>115</th>\n      <td>202101-202106</td>\n      <td>경상남도</td>\n      <td>산청군</td>\n      <td>일반용</td>\n      <td>3706</td>\n      <td>35433668</td>\n    </tr>\n    <tr>\n      <th>115</th>\n      <td>202101-202106</td>\n      <td>경상남도</td>\n      <td>산청군</td>\n      <td>합계</td>\n      <td>8373</td>\n      <td>183916680</td>\n    </tr>\n    <tr>\n      <th>116</th>\n      <td>202101-202106</td>\n      <td>경상남도</td>\n      <td>양산시</td>\n      <td>일반용</td>\n      <td>19567</td>\n      <td>320973015</td>\n    </tr>\n    <tr>\n      <th>116</th>\n      <td>202101-202106</td>\n      <td>경상남도</td>\n      <td>양산시</td>\n      <td>합계</td>\n      <td>21077</td>\n      <td>1905221406</td>\n    </tr>\n    <tr>\n      <th>117</th>\n      <td>202101-202106</td>\n      <td>경상남도</td>\n      <td>의령군</td>\n      <td>일반용</td>\n      <td>2409</td>\n      <td>29528205</td>\n    </tr>\n    <tr>\n      <th>117</th>\n      <td>202101-202106</td>\n      <td>경상남도</td>\n      <td>의령군</td>\n      <td>합계</td>\n      <td>6258</td>\n      <td>208516505</td>\n    </tr>\n    <tr>\n      <th>118</th>\n      <td>202101-202106</td>\n      <td>경상남도</td>\n      <td>진주시</td>\n      <td>합계</td>\n      <td>33936</td>\n      <td>1421720356</td>\n    </tr>\n    <tr>\n      <th>118</th>\n      <td>202101-202106</td>\n      <td>경상남도</td>\n      <td>진주시</td>\n      <td>일반용</td>\n      <td>25669</td>\n      <td>329782377</td>\n    </tr>\n    <tr>\n      <th>119</th>\n      <td>202101-202106</td>\n      <td>경상남도</td>\n      <td>창녕군</td>\n      <td>합계</td>\n      <td>11173</td>\n      <td>533025571</td>\n    </tr>\n    <tr>\n      <th>119</th>\n      <td>202101-202106</td>\n      <td>경상남도</td>\n      <td>창녕군</td>\n      <td>일반용</td>\n      <td>5542</td>\n      <td>67160215</td>\n    </tr>\n    <tr>\n      <th>120</th>\n      <td>202101-202106</td>\n      <td>경상남도</td>\n      <td>창원시</td>\n      <td>일반용</td>\n      <td>56838</td>\n      <td>984192435</td>\n    </tr>\n    <tr>\n      <th>120</th>\n      <td>202101-202106</td>\n      <td>경상남도</td>\n      <td>창원시</td>\n      <td>합계</td>\n      <td>76196</td>\n      <td>5291040868</td>\n    </tr>\n    <tr>\n      <th>121</th>\n      <td>202101-202106</td>\n      <td>경상남도</td>\n      <td>통영시</td>\n      <td>합계</td>\n      <td>14074</td>\n      <td>472639067</td>\n    </tr>\n    <tr>\n      <th>121</th>\n      <td>202101-202106</td>\n      <td>경상남도</td>\n      <td>통영시</td>\n      <td>일반용</td>\n      <td>11440</td>\n      <td>153823188</td>\n    </tr>\n    <tr>\n      <th>122</th>\n      <td>202101-202106</td>\n      <td>경상남도</td>\n      <td>하동군</td>\n      <td>합계</td>\n      <td>9718</td>\n      <td>207143347</td>\n    </tr>\n    <tr>\n      <th>122</th>\n      <td>202101-202106</td>\n      <td>경상남도</td>\n      <td>하동군</td>\n      <td>일반용</td>\n      <td>4499</td>\n      <td>42108388</td>\n    </tr>\n    <tr>\n      <th>123</th>\n      <td>202101-202106</td>\n      <td>경상남도</td>\n      <td>함안군</td>\n      <td>합계</td>\n      <td>9643</td>\n      <td>1468929160</td>\n    </tr>\n    <tr>\n      <th>123</th>\n      <td>202101-202106</td>\n      <td>경상남도</td>\n      <td>함안군</td>\n      <td>일반용</td>\n      <td>5281</td>\n      <td>66327804</td>\n    </tr>\n    <tr>\n      <th>124</th>\n      <td>202101-202106</td>\n      <td>경상남도</td>\n      <td>함양군</td>\n      <td>합계</td>\n      <td>7682</td>\n      <td>142495420</td>\n    </tr>\n    <tr>\n      <th>124</th>\n      <td>202101-202106</td>\n      <td>경상남도</td>\n      <td>함양군</td>\n      <td>일반용</td>\n      <td>3749</td>\n      <td>34822631</td>\n    </tr>\n    <tr>\n      <th>125</th>\n      <td>202101-202106</td>\n      <td>경상남도</td>\n      <td>합천군</td>\n      <td>일반용</td>\n      <td>4081</td>\n      <td>48926153</td>\n    </tr>\n    <tr>\n      <th>125</th>\n      <td>202101-202106</td>\n      <td>경상남도</td>\n      <td>합천군</td>\n      <td>합계</td>\n      <td>9556</td>\n      <td>212225354</td>\n    </tr>\n  </tbody>\n</table>\n</div>"
     },
     "execution_count": 27,
     "metadata": {},
     "output_type": "execute_result"
    }
   ],
   "source": [
    "Final = pd.concat([GyeonGiHap2 , Hap])\n",
    "Final = Final.sort_values('시군구')\n",
    "Final"
   ],
   "metadata": {
    "collapsed": false,
    "pycharm": {
     "name": "#%%\n"
    }
   }
  },
  {
   "cell_type": "code",
   "execution_count": 28,
   "outputs": [
    {
     "data": {
      "text/plain": "[213666066,\n 59940823,\n 54381924,\n 479306659,\n 53243791,\n 103106766,\n 118702042,\n 35433668,\n 320973015,\n 29528205,\n 329782377,\n 67160215,\n 984192435,\n 153823188,\n 42108388,\n 66327804,\n 34822631,\n 48926153]"
     },
     "execution_count": 28,
     "metadata": {},
     "output_type": "execute_result"
    }
   ],
   "source": [
    "# Final['일반용 전기의 비율'] = (Final['사용량(kWh)'].loc[Final['계약구분'] == '일반용']) // (Final['사용량(kWh)'].loc[Final['계약구분'] == '합계'])\n",
    "# Final\n",
    "ex = (Final['사용량(kWh)'].loc[Final['계약구분'] == '일반용']).tolist()\n",
    "\n",
    "\n",
    "ex\n"
   ],
   "metadata": {
    "collapsed": false,
    "pycharm": {
     "name": "#%%\n"
    }
   }
  },
  {
   "cell_type": "code",
   "execution_count": 29,
   "outputs": [
    {
     "data": {
      "text/plain": "[977868118,\n 237874104,\n 471125824,\n 2724048837,\n 136269491,\n 700250159,\n 695067176,\n 183916680,\n 1905221406,\n 208516505,\n 1421720356,\n 533025571,\n 5291040868,\n 472639067,\n 207143347,\n 1468929160,\n 142495420,\n 212225354]"
     },
     "execution_count": 29,
     "metadata": {},
     "output_type": "execute_result"
    }
   ],
   "source": [
    "ex_2 =(Final['사용량(kWh)'].loc[Final['계약구분'] == '합계']).tolist()\n",
    "ex_2"
   ],
   "metadata": {
    "collapsed": false,
    "pycharm": {
     "name": "#%%\n"
    }
   }
  },
  {
   "cell_type": "code",
   "execution_count": 30,
   "outputs": [
    {
     "name": "stdout",
     "output_type": "stream",
     "text": [
      "[21.85, 25.2, 11.54, 17.6, 39.07, 14.72, 17.08, 19.27, 16.85, 14.16, 23.2, 12.6, 18.6, 32.55, 20.33, 4.52, 24.44, 23.05]\n"
     ]
    }
   ],
   "source": [
    "Rate = []\n",
    "ilban = []\n",
    "rae = 0\n",
    "for i in range(len(ex)):\n",
    "    rae = round(ex[i] / ex_2[i] *100 ,2)\n",
    "    Rate.append(rae)\n",
    "print(Rate)"
   ],
   "metadata": {
    "collapsed": false,
    "pycharm": {
     "name": "#%%\n"
    }
   }
  },
  {
   "cell_type": "code",
   "execution_count": 31,
   "outputs": [
    {
     "data": {
      "text/plain": "0    22\n1    25\n2    12\n3    18\n4    39\n5    15\n6    17\n7    19\n8    17\n9    14\n10   23\n11   13\n12   19\n13   33\n14   20\n15    5\n16   24\n17   23\ndtype: float64"
     },
     "execution_count": 31,
     "metadata": {},
     "output_type": "execute_result"
    }
   ],
   "source": [
    "Rate3 = pd.Series(Rate)\n",
    "Rate3\n",
    "\n",
    "# Final = pd.concat([Final , Rate3])\n",
    "# Final"
   ],
   "metadata": {
    "collapsed": false,
    "pycharm": {
     "name": "#%%\n"
    }
   }
  },
  {
   "cell_type": "code",
   "execution_count": 32,
   "outputs": [
    {
     "data": {
      "text/plain": "    시군구 계약구분  비율\n0   거제시  일반용  22\n1   거창군  일반용  25\n2   고성군  일반용  12\n3   김해시  일반용  18\n4   남해군  일반용  39\n5   밀양시  일반용  15\n6   사천시  일반용  17\n7   산청군  일반용  19\n8   양산시  일반용  17\n9   의령군  일반용  14\n10  진주시  일반용  23\n11  창녕군  일반용  13\n12  창원시  일반용  19\n13  통영시  일반용  33\n14  하동군  일반용  20\n15  함안군  일반용   5\n16  함양군  일반용  24\n17  합천군  일반용  23",
      "text/html": "<div>\n<style scoped>\n    .dataframe tbody tr th:only-of-type {\n        vertical-align: middle;\n    }\n\n    .dataframe tbody tr th {\n        vertical-align: top;\n    }\n\n    .dataframe thead th {\n        text-align: right;\n    }\n</style>\n<table border=\"1\" class=\"dataframe\">\n  <thead>\n    <tr style=\"text-align: right;\">\n      <th></th>\n      <th>시군구</th>\n      <th>계약구분</th>\n      <th>비율</th>\n    </tr>\n  </thead>\n  <tbody>\n    <tr>\n      <th>0</th>\n      <td>거제시</td>\n      <td>일반용</td>\n      <td>22</td>\n    </tr>\n    <tr>\n      <th>1</th>\n      <td>거창군</td>\n      <td>일반용</td>\n      <td>25</td>\n    </tr>\n    <tr>\n      <th>2</th>\n      <td>고성군</td>\n      <td>일반용</td>\n      <td>12</td>\n    </tr>\n    <tr>\n      <th>3</th>\n      <td>김해시</td>\n      <td>일반용</td>\n      <td>18</td>\n    </tr>\n    <tr>\n      <th>4</th>\n      <td>남해군</td>\n      <td>일반용</td>\n      <td>39</td>\n    </tr>\n    <tr>\n      <th>5</th>\n      <td>밀양시</td>\n      <td>일반용</td>\n      <td>15</td>\n    </tr>\n    <tr>\n      <th>6</th>\n      <td>사천시</td>\n      <td>일반용</td>\n      <td>17</td>\n    </tr>\n    <tr>\n      <th>7</th>\n      <td>산청군</td>\n      <td>일반용</td>\n      <td>19</td>\n    </tr>\n    <tr>\n      <th>8</th>\n      <td>양산시</td>\n      <td>일반용</td>\n      <td>17</td>\n    </tr>\n    <tr>\n      <th>9</th>\n      <td>의령군</td>\n      <td>일반용</td>\n      <td>14</td>\n    </tr>\n    <tr>\n      <th>10</th>\n      <td>진주시</td>\n      <td>일반용</td>\n      <td>23</td>\n    </tr>\n    <tr>\n      <th>11</th>\n      <td>창녕군</td>\n      <td>일반용</td>\n      <td>13</td>\n    </tr>\n    <tr>\n      <th>12</th>\n      <td>창원시</td>\n      <td>일반용</td>\n      <td>19</td>\n    </tr>\n    <tr>\n      <th>13</th>\n      <td>통영시</td>\n      <td>일반용</td>\n      <td>33</td>\n    </tr>\n    <tr>\n      <th>14</th>\n      <td>하동군</td>\n      <td>일반용</td>\n      <td>20</td>\n    </tr>\n    <tr>\n      <th>15</th>\n      <td>함안군</td>\n      <td>일반용</td>\n      <td>5</td>\n    </tr>\n    <tr>\n      <th>16</th>\n      <td>함양군</td>\n      <td>일반용</td>\n      <td>24</td>\n    </tr>\n    <tr>\n      <th>17</th>\n      <td>합천군</td>\n      <td>일반용</td>\n      <td>23</td>\n    </tr>\n  </tbody>\n</table>\n</div>"
     },
     "execution_count": 32,
     "metadata": {},
     "output_type": "execute_result"
    }
   ],
   "source": [
    "for j in range(len(Rate)):\n",
    "    ilban.append('일반용')\n",
    "#print(Rate)\n",
    "\n",
    "Rate2 = pd.DataFrame()\n",
    "Rate2['시군구'] = pd.DataFrame(SIGUNGU)\n",
    "Rate2['계약구분'] = pd.DataFrame(ilban)\n",
    "Rate2['비율'] = pd.DataFrame(Rate)\n",
    "Rate2\n",
    "#print(Rate2.dtypes)"
   ],
   "metadata": {
    "collapsed": false,
    "pycharm": {
     "name": "#%%\n"
    }
   }
  },
  {
   "cell_type": "code",
   "execution_count": 33,
   "outputs": [
    {
     "data": {
      "text/plain": "               년월    시구  시군구 계약구분 고객호수(호)    사용량(kWh)  비율\n0   202101-202106  경상남도  거제시  일반용   17518   213666066  22\n1   202101-202106  경상남도  거제시   합계   21050   977868118 NaN\n2   202101-202106  경상남도  거창군  일반용    5206    59940823  25\n3   202101-202106  경상남도  거창군   합계   10297   237874104 NaN\n4   202101-202106  경상남도  고성군  일반용    4643    54381924  12\n5   202101-202106  경상남도  고성군   합계    9680   471125824 NaN\n7   202101-202106  경상남도  김해시  일반용   31491   479306659  18\n6   202101-202106  경상남도  김해시   합계   34933  2724048837 NaN\n9   202101-202106  경상남도  남해군  일반용    5013    53243791  39\n8   202101-202106  경상남도  남해군   합계    8864   136269491 NaN\n10  202101-202106  경상남도  밀양시  일반용    9690   103106766  15\n11  202101-202106  경상남도  밀양시   합계   18026   700250159 NaN\n13  202101-202106  경상남도  사천시  일반용    9764   118702042  17\n12  202101-202106  경상남도  사천시   합계   13694   695067176 NaN\n14  202101-202106  경상남도  산청군  일반용    3706    35433668  19\n15  202101-202106  경상남도  산청군   합계    8373   183916680 NaN\n16  202101-202106  경상남도  양산시  일반용   19567   320973015  17\n17  202101-202106  경상남도  양산시   합계   21077  1905221406 NaN\n18  202101-202106  경상남도  의령군  일반용    2409    29528205  14\n19  202101-202106  경상남도  의령군   합계    6258   208516505 NaN\n21  202101-202106  경상남도  진주시  일반용   25669   329782377  23\n20  202101-202106  경상남도  진주시   합계   33936  1421720356 NaN\n23  202101-202106  경상남도  창녕군  일반용    5542    67160215  13\n22  202101-202106  경상남도  창녕군   합계   11173   533025571 NaN\n24  202101-202106  경상남도  창원시  일반용   56838   984192435  19\n25  202101-202106  경상남도  창원시   합계   76196  5291040868 NaN\n27  202101-202106  경상남도  통영시  일반용   11440   153823188  33\n26  202101-202106  경상남도  통영시   합계   14074   472639067 NaN\n29  202101-202106  경상남도  하동군  일반용    4499    42108388  20\n28  202101-202106  경상남도  하동군   합계    9718   207143347 NaN\n31  202101-202106  경상남도  함안군  일반용    5281    66327804   5\n30  202101-202106  경상남도  함안군   합계    9643  1468929160 NaN\n33  202101-202106  경상남도  함양군  일반용    3749    34822631  24\n32  202101-202106  경상남도  함양군   합계    7682   142495420 NaN\n34  202101-202106  경상남도  합천군  일반용    4081    48926153  23\n35  202101-202106  경상남도  합천군   합계    9556   212225354 NaN",
      "text/html": "<div>\n<style scoped>\n    .dataframe tbody tr th:only-of-type {\n        vertical-align: middle;\n    }\n\n    .dataframe tbody tr th {\n        vertical-align: top;\n    }\n\n    .dataframe thead th {\n        text-align: right;\n    }\n</style>\n<table border=\"1\" class=\"dataframe\">\n  <thead>\n    <tr style=\"text-align: right;\">\n      <th></th>\n      <th>년월</th>\n      <th>시구</th>\n      <th>시군구</th>\n      <th>계약구분</th>\n      <th>고객호수(호)</th>\n      <th>사용량(kWh)</th>\n      <th>비율</th>\n    </tr>\n  </thead>\n  <tbody>\n    <tr>\n      <th>0</th>\n      <td>202101-202106</td>\n      <td>경상남도</td>\n      <td>거제시</td>\n      <td>일반용</td>\n      <td>17518</td>\n      <td>213666066</td>\n      <td>22</td>\n    </tr>\n    <tr>\n      <th>1</th>\n      <td>202101-202106</td>\n      <td>경상남도</td>\n      <td>거제시</td>\n      <td>합계</td>\n      <td>21050</td>\n      <td>977868118</td>\n      <td>NaN</td>\n    </tr>\n    <tr>\n      <th>2</th>\n      <td>202101-202106</td>\n      <td>경상남도</td>\n      <td>거창군</td>\n      <td>일반용</td>\n      <td>5206</td>\n      <td>59940823</td>\n      <td>25</td>\n    </tr>\n    <tr>\n      <th>3</th>\n      <td>202101-202106</td>\n      <td>경상남도</td>\n      <td>거창군</td>\n      <td>합계</td>\n      <td>10297</td>\n      <td>237874104</td>\n      <td>NaN</td>\n    </tr>\n    <tr>\n      <th>4</th>\n      <td>202101-202106</td>\n      <td>경상남도</td>\n      <td>고성군</td>\n      <td>일반용</td>\n      <td>4643</td>\n      <td>54381924</td>\n      <td>12</td>\n    </tr>\n    <tr>\n      <th>5</th>\n      <td>202101-202106</td>\n      <td>경상남도</td>\n      <td>고성군</td>\n      <td>합계</td>\n      <td>9680</td>\n      <td>471125824</td>\n      <td>NaN</td>\n    </tr>\n    <tr>\n      <th>7</th>\n      <td>202101-202106</td>\n      <td>경상남도</td>\n      <td>김해시</td>\n      <td>일반용</td>\n      <td>31491</td>\n      <td>479306659</td>\n      <td>18</td>\n    </tr>\n    <tr>\n      <th>6</th>\n      <td>202101-202106</td>\n      <td>경상남도</td>\n      <td>김해시</td>\n      <td>합계</td>\n      <td>34933</td>\n      <td>2724048837</td>\n      <td>NaN</td>\n    </tr>\n    <tr>\n      <th>9</th>\n      <td>202101-202106</td>\n      <td>경상남도</td>\n      <td>남해군</td>\n      <td>일반용</td>\n      <td>5013</td>\n      <td>53243791</td>\n      <td>39</td>\n    </tr>\n    <tr>\n      <th>8</th>\n      <td>202101-202106</td>\n      <td>경상남도</td>\n      <td>남해군</td>\n      <td>합계</td>\n      <td>8864</td>\n      <td>136269491</td>\n      <td>NaN</td>\n    </tr>\n    <tr>\n      <th>10</th>\n      <td>202101-202106</td>\n      <td>경상남도</td>\n      <td>밀양시</td>\n      <td>일반용</td>\n      <td>9690</td>\n      <td>103106766</td>\n      <td>15</td>\n    </tr>\n    <tr>\n      <th>11</th>\n      <td>202101-202106</td>\n      <td>경상남도</td>\n      <td>밀양시</td>\n      <td>합계</td>\n      <td>18026</td>\n      <td>700250159</td>\n      <td>NaN</td>\n    </tr>\n    <tr>\n      <th>13</th>\n      <td>202101-202106</td>\n      <td>경상남도</td>\n      <td>사천시</td>\n      <td>일반용</td>\n      <td>9764</td>\n      <td>118702042</td>\n      <td>17</td>\n    </tr>\n    <tr>\n      <th>12</th>\n      <td>202101-202106</td>\n      <td>경상남도</td>\n      <td>사천시</td>\n      <td>합계</td>\n      <td>13694</td>\n      <td>695067176</td>\n      <td>NaN</td>\n    </tr>\n    <tr>\n      <th>14</th>\n      <td>202101-202106</td>\n      <td>경상남도</td>\n      <td>산청군</td>\n      <td>일반용</td>\n      <td>3706</td>\n      <td>35433668</td>\n      <td>19</td>\n    </tr>\n    <tr>\n      <th>15</th>\n      <td>202101-202106</td>\n      <td>경상남도</td>\n      <td>산청군</td>\n      <td>합계</td>\n      <td>8373</td>\n      <td>183916680</td>\n      <td>NaN</td>\n    </tr>\n    <tr>\n      <th>16</th>\n      <td>202101-202106</td>\n      <td>경상남도</td>\n      <td>양산시</td>\n      <td>일반용</td>\n      <td>19567</td>\n      <td>320973015</td>\n      <td>17</td>\n    </tr>\n    <tr>\n      <th>17</th>\n      <td>202101-202106</td>\n      <td>경상남도</td>\n      <td>양산시</td>\n      <td>합계</td>\n      <td>21077</td>\n      <td>1905221406</td>\n      <td>NaN</td>\n    </tr>\n    <tr>\n      <th>18</th>\n      <td>202101-202106</td>\n      <td>경상남도</td>\n      <td>의령군</td>\n      <td>일반용</td>\n      <td>2409</td>\n      <td>29528205</td>\n      <td>14</td>\n    </tr>\n    <tr>\n      <th>19</th>\n      <td>202101-202106</td>\n      <td>경상남도</td>\n      <td>의령군</td>\n      <td>합계</td>\n      <td>6258</td>\n      <td>208516505</td>\n      <td>NaN</td>\n    </tr>\n    <tr>\n      <th>21</th>\n      <td>202101-202106</td>\n      <td>경상남도</td>\n      <td>진주시</td>\n      <td>일반용</td>\n      <td>25669</td>\n      <td>329782377</td>\n      <td>23</td>\n    </tr>\n    <tr>\n      <th>20</th>\n      <td>202101-202106</td>\n      <td>경상남도</td>\n      <td>진주시</td>\n      <td>합계</td>\n      <td>33936</td>\n      <td>1421720356</td>\n      <td>NaN</td>\n    </tr>\n    <tr>\n      <th>23</th>\n      <td>202101-202106</td>\n      <td>경상남도</td>\n      <td>창녕군</td>\n      <td>일반용</td>\n      <td>5542</td>\n      <td>67160215</td>\n      <td>13</td>\n    </tr>\n    <tr>\n      <th>22</th>\n      <td>202101-202106</td>\n      <td>경상남도</td>\n      <td>창녕군</td>\n      <td>합계</td>\n      <td>11173</td>\n      <td>533025571</td>\n      <td>NaN</td>\n    </tr>\n    <tr>\n      <th>24</th>\n      <td>202101-202106</td>\n      <td>경상남도</td>\n      <td>창원시</td>\n      <td>일반용</td>\n      <td>56838</td>\n      <td>984192435</td>\n      <td>19</td>\n    </tr>\n    <tr>\n      <th>25</th>\n      <td>202101-202106</td>\n      <td>경상남도</td>\n      <td>창원시</td>\n      <td>합계</td>\n      <td>76196</td>\n      <td>5291040868</td>\n      <td>NaN</td>\n    </tr>\n    <tr>\n      <th>27</th>\n      <td>202101-202106</td>\n      <td>경상남도</td>\n      <td>통영시</td>\n      <td>일반용</td>\n      <td>11440</td>\n      <td>153823188</td>\n      <td>33</td>\n    </tr>\n    <tr>\n      <th>26</th>\n      <td>202101-202106</td>\n      <td>경상남도</td>\n      <td>통영시</td>\n      <td>합계</td>\n      <td>14074</td>\n      <td>472639067</td>\n      <td>NaN</td>\n    </tr>\n    <tr>\n      <th>29</th>\n      <td>202101-202106</td>\n      <td>경상남도</td>\n      <td>하동군</td>\n      <td>일반용</td>\n      <td>4499</td>\n      <td>42108388</td>\n      <td>20</td>\n    </tr>\n    <tr>\n      <th>28</th>\n      <td>202101-202106</td>\n      <td>경상남도</td>\n      <td>하동군</td>\n      <td>합계</td>\n      <td>9718</td>\n      <td>207143347</td>\n      <td>NaN</td>\n    </tr>\n    <tr>\n      <th>31</th>\n      <td>202101-202106</td>\n      <td>경상남도</td>\n      <td>함안군</td>\n      <td>일반용</td>\n      <td>5281</td>\n      <td>66327804</td>\n      <td>5</td>\n    </tr>\n    <tr>\n      <th>30</th>\n      <td>202101-202106</td>\n      <td>경상남도</td>\n      <td>함안군</td>\n      <td>합계</td>\n      <td>9643</td>\n      <td>1468929160</td>\n      <td>NaN</td>\n    </tr>\n    <tr>\n      <th>33</th>\n      <td>202101-202106</td>\n      <td>경상남도</td>\n      <td>함양군</td>\n      <td>일반용</td>\n      <td>3749</td>\n      <td>34822631</td>\n      <td>24</td>\n    </tr>\n    <tr>\n      <th>32</th>\n      <td>202101-202106</td>\n      <td>경상남도</td>\n      <td>함양군</td>\n      <td>합계</td>\n      <td>7682</td>\n      <td>142495420</td>\n      <td>NaN</td>\n    </tr>\n    <tr>\n      <th>34</th>\n      <td>202101-202106</td>\n      <td>경상남도</td>\n      <td>합천군</td>\n      <td>일반용</td>\n      <td>4081</td>\n      <td>48926153</td>\n      <td>23</td>\n    </tr>\n    <tr>\n      <th>35</th>\n      <td>202101-202106</td>\n      <td>경상남도</td>\n      <td>합천군</td>\n      <td>합계</td>\n      <td>9556</td>\n      <td>212225354</td>\n      <td>NaN</td>\n    </tr>\n  </tbody>\n</table>\n</div>"
     },
     "execution_count": 33,
     "metadata": {},
     "output_type": "execute_result"
    }
   ],
   "source": [
    "Final = pd.merge(Final , Rate2, on=['시군구', '계약구분'] , how='left')\n",
    "\n",
    "#Final.drop(['비율_y]' , axis = 1 , inplace = True)\n",
    "#Final.rename(columns={'비율_y':'전체 계약종별 전력사용량 대비 일반용 사용량 비율'})\n",
    "Final = Final.sort_values(['시군구' , '계약구분'])\n",
    "Final"
   ],
   "metadata": {
    "collapsed": false,
    "pycharm": {
     "name": "#%%\n"
    }
   }
  },
  {
   "cell_type": "code",
   "execution_count": 34,
   "outputs": [],
   "source": [
    "# Final['일반용 전기의 비율'] = Final.append(Rate)\n",
    "# Final"
   ],
   "metadata": {
    "collapsed": false,
    "pycharm": {
     "name": "#%%\n"
    }
   }
  },
  {
   "cell_type": "markdown",
   "source": [
    "### 6. 날짜 체크!!!!!!!!!!!!!!!!!!!!1"
   ],
   "metadata": {
    "collapsed": false,
    "pycharm": {
     "name": "#%% md\n"
    }
   }
  },
  {
   "cell_type": "code",
   "execution_count": 35,
   "outputs": [],
   "source": [
    "Final.to_csv(\"{}_일반용_전력사용량_2101-06.csv\".format(City) , mode = 'w' , encoding= 'cp949' , index =False) #파일명 수정"
   ],
   "metadata": {
    "collapsed": false,
    "pycharm": {
     "name": "#%%\n"
    }
   }
  },
  {
   "cell_type": "code",
   "execution_count": 35,
   "outputs": [],
   "source": [],
   "metadata": {
    "collapsed": false,
    "pycharm": {
     "name": "#%%\n"
    }
   }
  },
  {
   "cell_type": "code",
   "execution_count": 36,
   "outputs": [],
   "source": [
    "# Sigu = list(set(df_3['시군구'].tolist()))\n",
    "#\n",
    "# Sigu.sort()\n",
    "#\n",
    "# Sigu"
   ],
   "metadata": {
    "collapsed": false,
    "pycharm": {
     "name": "#%%\n"
    }
   }
  },
  {
   "cell_type": "code",
   "execution_count": 37,
   "outputs": [],
   "source": [
    "# YearMonth = list(set(df_3['년월'].tolist()))\n",
    "#\n",
    "# YearMonth.sort()\n",
    "# YearMonth"
   ],
   "metadata": {
    "collapsed": false,
    "pycharm": {
     "name": "#%%\n"
    }
   }
  },
  {
   "cell_type": "code",
   "execution_count": 38,
   "outputs": [],
   "source": [
    "# Gayeak = list(set(df_3['계약구분'].tolist()))\n",
    "#\n",
    "# Gayeak.sort()\n",
    "# Gayeak"
   ],
   "metadata": {
    "collapsed": false,
    "pycharm": {
     "name": "#%%\n"
    }
   }
  },
  {
   "cell_type": "code",
   "execution_count": 39,
   "outputs": [],
   "source": [
    "# SEOUL = df_3.loc[(df_3['계약구분'] =='일반용')]\n",
    "# SEOUL.drop(['고객호수(호)' ,'전기요금(원)' , '평균판매단가(원/kWh)'] , axis = 1 , inplace = True)\n",
    "# #SEOUL.dtypes(['사용량(kWh)'])\n",
    "# SEOUL"
   ],
   "metadata": {
    "collapsed": false,
    "pycharm": {
     "name": "#%%\n"
    }
   }
  },
  {
   "cell_type": "code",
   "execution_count": 40,
   "outputs": [],
   "source": [
    "#SEOUL.to_csv(\"서울특별시_일반용_전력사용량.csv\" , mode = 'w' , encoding= 'cp949')"
   ],
   "metadata": {
    "collapsed": false,
    "pycharm": {
     "name": "#%%\n"
    }
   }
  },
  {
   "cell_type": "code",
   "execution_count": 41,
   "outputs": [],
   "source": [
    "# print(SEOUL.dtypes)\n",
    "# SEOUL = SEOUL.astype({'사용량(kWh)' : 'float'})"
   ],
   "metadata": {
    "collapsed": false,
    "pycharm": {
     "name": "#%%\n"
    }
   }
  },
  {
   "cell_type": "code",
   "execution_count": 42,
   "outputs": [],
   "source": [
    "# SEOUL"
   ],
   "metadata": {
    "collapsed": false,
    "pycharm": {
     "name": "#%%\n"
    }
   }
  },
  {
   "cell_type": "code",
   "execution_count": 43,
   "outputs": [],
   "source": [
    "# a = SEOUL['사용량(kWh)'].tolist()\n",
    "# int_list = map(int, a)\n",
    "# b=0\n",
    "# for i in int_list:\n",
    "#     b+=i\n",
    "#\n",
    "# print(b)"
   ],
   "metadata": {
    "collapsed": false,
    "pycharm": {
     "name": "#%%\n"
    }
   }
  },
  {
   "cell_type": "code",
   "execution_count": 43,
   "outputs": [],
   "source": [],
   "metadata": {
    "collapsed": false,
    "pycharm": {
     "name": "#%%\n"
    }
   }
  },
  {
   "cell_type": "code",
   "execution_count": 43,
   "outputs": [],
   "source": [],
   "metadata": {
    "collapsed": false,
    "pycharm": {
     "name": "#%%\n"
    }
   }
  },
  {
   "cell_type": "code",
   "execution_count": 43,
   "outputs": [],
   "source": [],
   "metadata": {
    "collapsed": false,
    "pycharm": {
     "name": "#%%\n"
    }
   }
  },
  {
   "cell_type": "code",
   "execution_count": 43,
   "outputs": [],
   "source": [],
   "metadata": {
    "collapsed": false,
    "pycharm": {
     "name": "#%%\n"
    }
   }
  },
  {
   "cell_type": "code",
   "execution_count": 43,
   "outputs": [],
   "source": [],
   "metadata": {
    "collapsed": false,
    "pycharm": {
     "name": "#%%\n"
    }
   }
  },
  {
   "cell_type": "code",
   "execution_count": 43,
   "outputs": [],
   "source": [],
   "metadata": {
    "collapsed": false,
    "pycharm": {
     "name": "#%%\n"
    }
   }
  },
  {
   "cell_type": "code",
   "execution_count": 43,
   "outputs": [],
   "source": [],
   "metadata": {
    "collapsed": false,
    "pycharm": {
     "name": "#%%\n"
    }
   }
  }
 ],
 "metadata": {
  "kernelspec": {
   "display_name": "Python 3",
   "language": "python",
   "name": "python3"
  },
  "language_info": {
   "codemirror_mode": {
    "name": "ipython",
    "version": 2
   },
   "file_extension": ".py",
   "mimetype": "text/x-python",
   "name": "python",
   "nbconvert_exporter": "python",
   "pygments_lexer": "ipython2",
   "version": "2.7.6"
  }
 },
 "nbformat": 4,
 "nbformat_minor": 0
}