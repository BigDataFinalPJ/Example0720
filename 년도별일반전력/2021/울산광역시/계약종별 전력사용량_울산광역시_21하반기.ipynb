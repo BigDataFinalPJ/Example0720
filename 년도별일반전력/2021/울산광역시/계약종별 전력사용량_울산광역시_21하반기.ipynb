{
 "cells": [
  {
   "cell_type": "markdown",
   "source": [],
   "metadata": {
    "collapsed": false,
    "pycharm": {
     "name": "#%% md\n"
    }
   }
  },
  {
   "cell_type": "code",
   "execution_count": 1,
   "outputs": [],
   "source": [
    "import pandas as pd\n",
    "import re\n",
    "\n",
    "pd.options.display.float_format = '{:.0f}'.format"
   ],
   "metadata": {
    "collapsed": false,
    "pycharm": {
     "name": "#%%\n"
    }
   }
  },
  {
   "cell_type": "markdown",
   "source": [
    "### 1. 꼭 read_csv 21상반기, 19하반기와 같이 맞추어 주세요!!! 또한 지역(전라북도, 남도) 맞추기!!!!!"
   ],
   "metadata": {
    "collapsed": false,
    "pycharm": {
     "name": "#%% md\n"
    }
   }
  },
  {
   "cell_type": "code",
   "execution_count": 2,
   "outputs": [
    {
     "data": {
      "text/plain": "        계약종별 전력사용량 월별( 20220804 현재 ) Unnamed: 1     Unnamed: 2 Unnamed: 3  \\\n0    시도 : 울산광역시, 시군구 : 전체(시 / 군 / 구)        NaN            NaN        NaN   \n1        기간 : 2021년 07 월 ~ 2021년 12월        NaN            NaN        NaN   \n2                                 년월         시구            시군구       계약구분   \n3                             202107      울산광역시  전체(시 / 군 / 구)        주택용   \n4                             202107      울산광역시  전체(시 / 군 / 구)        일반용   \n..                               ...        ...            ...        ...   \n283                           202112      울산광역시             중구        산업용   \n284                           202112      울산광역시             중구        심 야   \n285                           202112      울산광역시             중구        일반용   \n286                           202112      울산광역시             중구        주택용   \n287                           202112      울산광역시             중구         합계   \n\n    Unnamed: 4    Unnamed: 5       Unnamed: 6     Unnamed: 7  \n0          NaN           NaN              NaN            NaN  \n1          NaN           NaN              NaN            NaN  \n2      고객호수(호)      사용량(kWh)          전기요금(원)  평균판매단가(원/kWh)  \n3     331,071   137,227,577   13,687,660,802           99.7   \n4      73,462   182,838,605   26,882,841,509          147.0   \n..         ...           ...              ...            ...  \n283       479     2,597,306      349,353,074          134.5   \n284       435       710,416       54,637,159           76.9   \n285    13,565    26,559,902    3,801,221,006          143.1   \n286    71,301    25,311,662    2,814,040,621          111.2   \n287    92,318    58,467,701    7,358,938,803          125.9   \n\n[288 rows x 8 columns]",
      "text/html": "<div>\n<style scoped>\n    .dataframe tbody tr th:only-of-type {\n        vertical-align: middle;\n    }\n\n    .dataframe tbody tr th {\n        vertical-align: top;\n    }\n\n    .dataframe thead th {\n        text-align: right;\n    }\n</style>\n<table border=\"1\" class=\"dataframe\">\n  <thead>\n    <tr style=\"text-align: right;\">\n      <th></th>\n      <th>계약종별 전력사용량 월별( 20220804 현재 )</th>\n      <th>Unnamed: 1</th>\n      <th>Unnamed: 2</th>\n      <th>Unnamed: 3</th>\n      <th>Unnamed: 4</th>\n      <th>Unnamed: 5</th>\n      <th>Unnamed: 6</th>\n      <th>Unnamed: 7</th>\n    </tr>\n  </thead>\n  <tbody>\n    <tr>\n      <th>0</th>\n      <td>시도 : 울산광역시, 시군구 : 전체(시 / 군 / 구)</td>\n      <td>NaN</td>\n      <td>NaN</td>\n      <td>NaN</td>\n      <td>NaN</td>\n      <td>NaN</td>\n      <td>NaN</td>\n      <td>NaN</td>\n    </tr>\n    <tr>\n      <th>1</th>\n      <td>기간 : 2021년 07 월 ~ 2021년 12월</td>\n      <td>NaN</td>\n      <td>NaN</td>\n      <td>NaN</td>\n      <td>NaN</td>\n      <td>NaN</td>\n      <td>NaN</td>\n      <td>NaN</td>\n    </tr>\n    <tr>\n      <th>2</th>\n      <td>년월</td>\n      <td>시구</td>\n      <td>시군구</td>\n      <td>계약구분</td>\n      <td>고객호수(호)</td>\n      <td>사용량(kWh)</td>\n      <td>전기요금(원)</td>\n      <td>평균판매단가(원/kWh)</td>\n    </tr>\n    <tr>\n      <th>3</th>\n      <td>202107</td>\n      <td>울산광역시</td>\n      <td>전체(시 / 군 / 구)</td>\n      <td>주택용</td>\n      <td>331,071</td>\n      <td>137,227,577</td>\n      <td>13,687,660,802</td>\n      <td>99.7</td>\n    </tr>\n    <tr>\n      <th>4</th>\n      <td>202107</td>\n      <td>울산광역시</td>\n      <td>전체(시 / 군 / 구)</td>\n      <td>일반용</td>\n      <td>73,462</td>\n      <td>182,838,605</td>\n      <td>26,882,841,509</td>\n      <td>147.0</td>\n    </tr>\n    <tr>\n      <th>...</th>\n      <td>...</td>\n      <td>...</td>\n      <td>...</td>\n      <td>...</td>\n      <td>...</td>\n      <td>...</td>\n      <td>...</td>\n      <td>...</td>\n    </tr>\n    <tr>\n      <th>283</th>\n      <td>202112</td>\n      <td>울산광역시</td>\n      <td>중구</td>\n      <td>산업용</td>\n      <td>479</td>\n      <td>2,597,306</td>\n      <td>349,353,074</td>\n      <td>134.5</td>\n    </tr>\n    <tr>\n      <th>284</th>\n      <td>202112</td>\n      <td>울산광역시</td>\n      <td>중구</td>\n      <td>심 야</td>\n      <td>435</td>\n      <td>710,416</td>\n      <td>54,637,159</td>\n      <td>76.9</td>\n    </tr>\n    <tr>\n      <th>285</th>\n      <td>202112</td>\n      <td>울산광역시</td>\n      <td>중구</td>\n      <td>일반용</td>\n      <td>13,565</td>\n      <td>26,559,902</td>\n      <td>3,801,221,006</td>\n      <td>143.1</td>\n    </tr>\n    <tr>\n      <th>286</th>\n      <td>202112</td>\n      <td>울산광역시</td>\n      <td>중구</td>\n      <td>주택용</td>\n      <td>71,301</td>\n      <td>25,311,662</td>\n      <td>2,814,040,621</td>\n      <td>111.2</td>\n    </tr>\n    <tr>\n      <th>287</th>\n      <td>202112</td>\n      <td>울산광역시</td>\n      <td>중구</td>\n      <td>합계</td>\n      <td>92,318</td>\n      <td>58,467,701</td>\n      <td>7,358,938,803</td>\n      <td>125.9</td>\n    </tr>\n  </tbody>\n</table>\n<p>288 rows × 8 columns</p>\n</div>"
     },
     "execution_count": 2,
     "metadata": {},
     "output_type": "execute_result"
    }
   ],
   "source": [
    "df = pd.read_csv('울산광역시_계약종별_전력사용량_월별_21하반기.csv' , encoding='cp949')\n",
    "\n",
    "df\n",
    "#exchng=  pd.read_csv('지역별_전력거래량_20220803093050.csv' , encoding='cp949')"
   ],
   "metadata": {
    "collapsed": false,
    "pycharm": {
     "name": "#%%\n"
    }
   }
  },
  {
   "cell_type": "code",
   "execution_count": 3,
   "outputs": [
    {
     "data": {
      "text/plain": "    계약종별 전력사용량 월별( 20220804 현재 ) Unnamed: 1     Unnamed: 2 Unnamed: 3  \\\n2                             년월         시구            시군구       계약구분   \n3                         202107      울산광역시  전체(시 / 군 / 구)        주택용   \n4                         202107      울산광역시  전체(시 / 군 / 구)        일반용   \n5                         202107      울산광역시  전체(시 / 군 / 구)        교육용   \n6                         202107      울산광역시  전체(시 / 군 / 구)        산업용   \n..                           ...        ...            ...        ...   \n283                       202112      울산광역시             중구        산업용   \n284                       202112      울산광역시             중구        심 야   \n285                       202112      울산광역시             중구        일반용   \n286                       202112      울산광역시             중구        주택용   \n287                       202112      울산광역시             중구         합계   \n\n    Unnamed: 4      Unnamed: 5        Unnamed: 6     Unnamed: 7  \n2      고객호수(호)        사용량(kWh)           전기요금(원)  평균판매단가(원/kWh)  \n3     331,071     137,227,577    13,687,660,802           99.7   \n4      73,462     182,838,605    26,882,841,509          147.0   \n5         428      18,462,516     2,000,277,704          108.3   \n6       6,531   2,527,081,695   270,215,841,667          106.9   \n..         ...             ...               ...            ...  \n283       479       2,597,306       349,353,074          134.5   \n284       435         710,416        54,637,159           76.9   \n285    13,565      26,559,902     3,801,221,006          143.1   \n286    71,301      25,311,662     2,814,040,621          111.2   \n287    92,318      58,467,701     7,358,938,803          125.9   \n\n[285 rows x 8 columns]",
      "text/html": "<div>\n<style scoped>\n    .dataframe tbody tr th:only-of-type {\n        vertical-align: middle;\n    }\n\n    .dataframe tbody tr th {\n        vertical-align: top;\n    }\n\n    .dataframe thead th {\n        text-align: right;\n    }\n</style>\n<table border=\"1\" class=\"dataframe\">\n  <thead>\n    <tr style=\"text-align: right;\">\n      <th></th>\n      <th>계약종별 전력사용량 월별( 20220804 현재 )</th>\n      <th>Unnamed: 1</th>\n      <th>Unnamed: 2</th>\n      <th>Unnamed: 3</th>\n      <th>Unnamed: 4</th>\n      <th>Unnamed: 5</th>\n      <th>Unnamed: 6</th>\n      <th>Unnamed: 7</th>\n    </tr>\n  </thead>\n  <tbody>\n    <tr>\n      <th>2</th>\n      <td>년월</td>\n      <td>시구</td>\n      <td>시군구</td>\n      <td>계약구분</td>\n      <td>고객호수(호)</td>\n      <td>사용량(kWh)</td>\n      <td>전기요금(원)</td>\n      <td>평균판매단가(원/kWh)</td>\n    </tr>\n    <tr>\n      <th>3</th>\n      <td>202107</td>\n      <td>울산광역시</td>\n      <td>전체(시 / 군 / 구)</td>\n      <td>주택용</td>\n      <td>331,071</td>\n      <td>137,227,577</td>\n      <td>13,687,660,802</td>\n      <td>99.7</td>\n    </tr>\n    <tr>\n      <th>4</th>\n      <td>202107</td>\n      <td>울산광역시</td>\n      <td>전체(시 / 군 / 구)</td>\n      <td>일반용</td>\n      <td>73,462</td>\n      <td>182,838,605</td>\n      <td>26,882,841,509</td>\n      <td>147.0</td>\n    </tr>\n    <tr>\n      <th>5</th>\n      <td>202107</td>\n      <td>울산광역시</td>\n      <td>전체(시 / 군 / 구)</td>\n      <td>교육용</td>\n      <td>428</td>\n      <td>18,462,516</td>\n      <td>2,000,277,704</td>\n      <td>108.3</td>\n    </tr>\n    <tr>\n      <th>6</th>\n      <td>202107</td>\n      <td>울산광역시</td>\n      <td>전체(시 / 군 / 구)</td>\n      <td>산업용</td>\n      <td>6,531</td>\n      <td>2,527,081,695</td>\n      <td>270,215,841,667</td>\n      <td>106.9</td>\n    </tr>\n    <tr>\n      <th>...</th>\n      <td>...</td>\n      <td>...</td>\n      <td>...</td>\n      <td>...</td>\n      <td>...</td>\n      <td>...</td>\n      <td>...</td>\n      <td>...</td>\n    </tr>\n    <tr>\n      <th>283</th>\n      <td>202112</td>\n      <td>울산광역시</td>\n      <td>중구</td>\n      <td>산업용</td>\n      <td>479</td>\n      <td>2,597,306</td>\n      <td>349,353,074</td>\n      <td>134.5</td>\n    </tr>\n    <tr>\n      <th>284</th>\n      <td>202112</td>\n      <td>울산광역시</td>\n      <td>중구</td>\n      <td>심 야</td>\n      <td>435</td>\n      <td>710,416</td>\n      <td>54,637,159</td>\n      <td>76.9</td>\n    </tr>\n    <tr>\n      <th>285</th>\n      <td>202112</td>\n      <td>울산광역시</td>\n      <td>중구</td>\n      <td>일반용</td>\n      <td>13,565</td>\n      <td>26,559,902</td>\n      <td>3,801,221,006</td>\n      <td>143.1</td>\n    </tr>\n    <tr>\n      <th>286</th>\n      <td>202112</td>\n      <td>울산광역시</td>\n      <td>중구</td>\n      <td>주택용</td>\n      <td>71,301</td>\n      <td>25,311,662</td>\n      <td>2,814,040,621</td>\n      <td>111.2</td>\n    </tr>\n    <tr>\n      <th>287</th>\n      <td>202112</td>\n      <td>울산광역시</td>\n      <td>중구</td>\n      <td>합계</td>\n      <td>92,318</td>\n      <td>58,467,701</td>\n      <td>7,358,938,803</td>\n      <td>125.9</td>\n    </tr>\n  </tbody>\n</table>\n<p>285 rows × 8 columns</p>\n</div>"
     },
     "execution_count": 3,
     "metadata": {},
     "output_type": "execute_result"
    }
   ],
   "source": [
    "df = df.drop([0,1 , 46] , axis = 0)\n",
    "#0,1 , 10은 지우는게 맞다\n",
    "df"
   ],
   "metadata": {
    "collapsed": false,
    "pycharm": {
     "name": "#%%\n"
    }
   }
  },
  {
   "cell_type": "code",
   "execution_count": 4,
   "outputs": [],
   "source": [
    "a= df.loc[2].tolist()\n",
    "a\n",
    "df = df.drop([2] , axis = 0)"
   ],
   "metadata": {
    "collapsed": false,
    "pycharm": {
     "name": "#%%\n"
    }
   }
  },
  {
   "cell_type": "code",
   "execution_count": 5,
   "outputs": [
    {
     "data": {
      "text/plain": "         년월     시구            시군구 계약구분   고객호수(호)        사용량(kWh)  \\\n3    202107  울산광역시  전체(시 / 군 / 구)  주택용  331,071     137,227,577    \n4    202107  울산광역시  전체(시 / 군 / 구)  일반용   73,462     182,838,605    \n5    202107  울산광역시  전체(시 / 군 / 구)  교육용      428      18,462,516    \n6    202107  울산광역시  전체(시 / 군 / 구)  산업용    6,531   2,527,081,695    \n7    202107  울산광역시  전체(시 / 군 / 구)  농사용   16,730       7,098,563    \n..      ...    ...            ...  ...       ...             ...   \n283  202112  울산광역시             중구  산업용      479       2,597,306    \n284  202112  울산광역시             중구  심 야      435         710,416    \n285  202112  울산광역시             중구  일반용   13,565      26,559,902    \n286  202112  울산광역시             중구  주택용   71,301      25,311,662    \n287  202112  울산광역시             중구   합계   92,318      58,467,701    \n\n              전기요금(원) 평균판매단가(원/kWh)  \n3     13,687,660,802          99.7   \n4     26,882,841,509         147.0   \n5      2,000,277,704         108.3   \n6    270,215,841,667         106.9   \n7        353,382,100          49.8   \n..                ...           ...  \n283      349,353,074         134.5   \n284       54,637,159          76.9   \n285    3,801,221,006         143.1   \n286    2,814,040,621         111.2   \n287    7,358,938,803         125.9   \n\n[284 rows x 8 columns]",
      "text/html": "<div>\n<style scoped>\n    .dataframe tbody tr th:only-of-type {\n        vertical-align: middle;\n    }\n\n    .dataframe tbody tr th {\n        vertical-align: top;\n    }\n\n    .dataframe thead th {\n        text-align: right;\n    }\n</style>\n<table border=\"1\" class=\"dataframe\">\n  <thead>\n    <tr style=\"text-align: right;\">\n      <th></th>\n      <th>년월</th>\n      <th>시구</th>\n      <th>시군구</th>\n      <th>계약구분</th>\n      <th>고객호수(호)</th>\n      <th>사용량(kWh)</th>\n      <th>전기요금(원)</th>\n      <th>평균판매단가(원/kWh)</th>\n    </tr>\n  </thead>\n  <tbody>\n    <tr>\n      <th>3</th>\n      <td>202107</td>\n      <td>울산광역시</td>\n      <td>전체(시 / 군 / 구)</td>\n      <td>주택용</td>\n      <td>331,071</td>\n      <td>137,227,577</td>\n      <td>13,687,660,802</td>\n      <td>99.7</td>\n    </tr>\n    <tr>\n      <th>4</th>\n      <td>202107</td>\n      <td>울산광역시</td>\n      <td>전체(시 / 군 / 구)</td>\n      <td>일반용</td>\n      <td>73,462</td>\n      <td>182,838,605</td>\n      <td>26,882,841,509</td>\n      <td>147.0</td>\n    </tr>\n    <tr>\n      <th>5</th>\n      <td>202107</td>\n      <td>울산광역시</td>\n      <td>전체(시 / 군 / 구)</td>\n      <td>교육용</td>\n      <td>428</td>\n      <td>18,462,516</td>\n      <td>2,000,277,704</td>\n      <td>108.3</td>\n    </tr>\n    <tr>\n      <th>6</th>\n      <td>202107</td>\n      <td>울산광역시</td>\n      <td>전체(시 / 군 / 구)</td>\n      <td>산업용</td>\n      <td>6,531</td>\n      <td>2,527,081,695</td>\n      <td>270,215,841,667</td>\n      <td>106.9</td>\n    </tr>\n    <tr>\n      <th>7</th>\n      <td>202107</td>\n      <td>울산광역시</td>\n      <td>전체(시 / 군 / 구)</td>\n      <td>농사용</td>\n      <td>16,730</td>\n      <td>7,098,563</td>\n      <td>353,382,100</td>\n      <td>49.8</td>\n    </tr>\n    <tr>\n      <th>...</th>\n      <td>...</td>\n      <td>...</td>\n      <td>...</td>\n      <td>...</td>\n      <td>...</td>\n      <td>...</td>\n      <td>...</td>\n      <td>...</td>\n    </tr>\n    <tr>\n      <th>283</th>\n      <td>202112</td>\n      <td>울산광역시</td>\n      <td>중구</td>\n      <td>산업용</td>\n      <td>479</td>\n      <td>2,597,306</td>\n      <td>349,353,074</td>\n      <td>134.5</td>\n    </tr>\n    <tr>\n      <th>284</th>\n      <td>202112</td>\n      <td>울산광역시</td>\n      <td>중구</td>\n      <td>심 야</td>\n      <td>435</td>\n      <td>710,416</td>\n      <td>54,637,159</td>\n      <td>76.9</td>\n    </tr>\n    <tr>\n      <th>285</th>\n      <td>202112</td>\n      <td>울산광역시</td>\n      <td>중구</td>\n      <td>일반용</td>\n      <td>13,565</td>\n      <td>26,559,902</td>\n      <td>3,801,221,006</td>\n      <td>143.1</td>\n    </tr>\n    <tr>\n      <th>286</th>\n      <td>202112</td>\n      <td>울산광역시</td>\n      <td>중구</td>\n      <td>주택용</td>\n      <td>71,301</td>\n      <td>25,311,662</td>\n      <td>2,814,040,621</td>\n      <td>111.2</td>\n    </tr>\n    <tr>\n      <th>287</th>\n      <td>202112</td>\n      <td>울산광역시</td>\n      <td>중구</td>\n      <td>합계</td>\n      <td>92,318</td>\n      <td>58,467,701</td>\n      <td>7,358,938,803</td>\n      <td>125.9</td>\n    </tr>\n  </tbody>\n</table>\n<p>284 rows × 8 columns</p>\n</div>"
     },
     "execution_count": 5,
     "metadata": {},
     "output_type": "execute_result"
    }
   ],
   "source": [
    "df.columns = a\n",
    "df"
   ],
   "metadata": {
    "collapsed": false,
    "pycharm": {
     "name": "#%%\n"
    }
   }
  },
  {
   "cell_type": "code",
   "execution_count": 6,
   "outputs": [
    {
     "data": {
      "text/plain": "        년월     시구            시군구 계약구분    고객호수(호)        사용량(kWh)  \\\n3   202107  울산광역시  전체(시 / 군 / 구)  주택용   331,071     137,227,577    \n4   202107  울산광역시  전체(시 / 군 / 구)  일반용    73,462     182,838,605    \n5   202107  울산광역시  전체(시 / 군 / 구)  교육용       428      18,462,516    \n6   202107  울산광역시  전체(시 / 군 / 구)  산업용     6,531   2,527,081,695    \n7   202107  울산광역시  전체(시 / 군 / 구)  농사용    16,730       7,098,563    \n8   202107  울산광역시  전체(시 / 군 / 구)  가로등    38,013       5,702,903    \n9   202107  울산광역시  전체(시 / 군 / 구)  심 야     5,533       3,420,615    \n10  202108  울산광역시  전체(시 / 군 / 구)  주택용   330,562     188,503,904    \n11  202108  울산광역시  전체(시 / 군 / 구)  일반용    73,578     214,413,261    \n12  202108  울산광역시  전체(시 / 군 / 구)  교육용       427      16,567,408    \n13  202108  울산광역시  전체(시 / 군 / 구)  산업용     6,539   2,473,189,070    \n14  202108  울산광역시  전체(시 / 군 / 구)  농사용    16,857      10,085,876    \n15  202108  울산광역시  전체(시 / 군 / 구)  가로등    38,146       6,042,585    \n16  202108  울산광역시  전체(시 / 군 / 구)  심 야     5,500       2,921,618    \n17  202109  울산광역시  전체(시 / 군 / 구)  주택용   330,425     157,075,937    \n18  202109  울산광역시  전체(시 / 군 / 구)  일반용    73,588     186,712,981    \n19  202109  울산광역시  전체(시 / 군 / 구)  교육용       427      17,233,623    \n20  202109  울산광역시  전체(시 / 군 / 구)  산업용     6,536   2,481,517,282    \n21  202109  울산광역시  전체(시 / 군 / 구)  농사용    16,981      10,130,121    \n22  202109  울산광역시  전체(시 / 군 / 구)  가로등    38,216       6,245,538    \n23  202109  울산광역시  전체(시 / 군 / 구)  심 야     5,472       2,646,823    \n24  202110  울산광역시  전체(시 / 군 / 구)  주택용   330,334     130,637,166    \n25  202110  울산광역시  전체(시 / 군 / 구)  일반용    73,591     164,270,685    \n26  202110  울산광역시  전체(시 / 군 / 구)  교육용       427      15,319,984    \n27  202110  울산광역시  전체(시 / 군 / 구)  산업용     6,539   2,469,786,522    \n28  202110  울산광역시  전체(시 / 군 / 구)  농사용    17,033       7,494,642    \n29  202110  울산광역시  전체(시 / 군 / 구)  가로등    38,276       6,688,617    \n30  202110  울산광역시  전체(시 / 군 / 구)  심 야     5,432       2,971,995    \n31  202111  울산광역시  전체(시 / 군 / 구)  주택용   330,297     131,533,657    \n32  202111  울산광역시  전체(시 / 군 / 구)  일반용    73,761     158,474,350    \n33  202111  울산광역시  전체(시 / 군 / 구)  교육용       428      15,245,375    \n34  202111  울산광역시  전체(시 / 군 / 구)  산업용     6,561   2,419,941,615    \n35  202111  울산광역시  전체(시 / 군 / 구)  농사용    17,962       7,599,969    \n36  202111  울산광역시  전체(시 / 군 / 구)  가로등    38,309       7,179,070    \n37  202111  울산광역시  전체(시 / 군 / 구)  심 야     5,396       6,312,148    \n38  202112  울산광역시  전체(시 / 군 / 구)  주택용   329,950     133,422,027    \n39  202112  울산광역시  전체(시 / 군 / 구)  일반용    73,968     172,781,258    \n40  202112  울산광역시  전체(시 / 군 / 구)  교육용       428      19,304,835    \n41  202112  울산광역시  전체(시 / 군 / 구)  산업용     6,554   2,557,070,333    \n42  202112  울산광역시  전체(시 / 군 / 구)  농사용    17,054       7,206,519    \n43  202112  울산광역시  전체(시 / 군 / 구)  가로등    38,499       7,438,527    \n44  202112  울산광역시  전체(시 / 군 / 구)  심 야     5,340       9,278,355    \n45      합계     합계             합계   합계  2,831,161  17,105,076,150   \n\n              전기요금(원) 평균판매단가(원/kWh)  \n3     13,687,660,802          99.7   \n4     26,882,841,509         147.0   \n5      2,000,277,704         108.3   \n6    270,215,841,667         106.9   \n7        353,382,100          49.8   \n8        690,496,835         121.1   \n9        204,503,884          59.8   \n10    21,366,253,136         113.3   \n11    30,253,417,505         141.1   \n12     1,845,157,702         111.4   \n13   257,824,756,734         104.2   \n14       468,387,813          46.4   \n15       707,001,902         117.0   \n16       174,878,233          59.9   \n17    16,417,485,660         104.5   \n18    24,011,516,416         128.6   \n19     1,600,811,390          92.9   \n20   202,804,361,059          81.7   \n21       475,186,685          46.9   \n22       712,719,716         114.1   \n23       161,003,389          60.8   \n24    13,923,633,278         106.6   \n25    19,152,010,618         116.6   \n26     1,351,508,382          88.2   \n27   206,716,456,657          83.7   \n28       395,964,957          52.8   \n29       747,956,774         111.8   \n30       181,253,437          61.0   \n31    14,153,422,774         107.6   \n32    21,039,702,087         132.8   \n33     1,545,499,237         101.4   \n34   262,708,032,592         108.6   \n35       391,742,278          51.5   \n36       785,568,035         109.4   \n37       400,060,225          63.4   \n38    14,499,085,371         108.7   \n39    24,613,681,743         142.5   \n40     1,945,413,647         100.8   \n41   274,082,373,600         107.2   \n42       385,787,210          53.5   \n43       793,911,997         106.7   \n44       692,305,914          74.6   \n45  1,733,363,312,654         101.3  ",
      "text/html": "<div>\n<style scoped>\n    .dataframe tbody tr th:only-of-type {\n        vertical-align: middle;\n    }\n\n    .dataframe tbody tr th {\n        vertical-align: top;\n    }\n\n    .dataframe thead th {\n        text-align: right;\n    }\n</style>\n<table border=\"1\" class=\"dataframe\">\n  <thead>\n    <tr style=\"text-align: right;\">\n      <th></th>\n      <th>년월</th>\n      <th>시구</th>\n      <th>시군구</th>\n      <th>계약구분</th>\n      <th>고객호수(호)</th>\n      <th>사용량(kWh)</th>\n      <th>전기요금(원)</th>\n      <th>평균판매단가(원/kWh)</th>\n    </tr>\n  </thead>\n  <tbody>\n    <tr>\n      <th>3</th>\n      <td>202107</td>\n      <td>울산광역시</td>\n      <td>전체(시 / 군 / 구)</td>\n      <td>주택용</td>\n      <td>331,071</td>\n      <td>137,227,577</td>\n      <td>13,687,660,802</td>\n      <td>99.7</td>\n    </tr>\n    <tr>\n      <th>4</th>\n      <td>202107</td>\n      <td>울산광역시</td>\n      <td>전체(시 / 군 / 구)</td>\n      <td>일반용</td>\n      <td>73,462</td>\n      <td>182,838,605</td>\n      <td>26,882,841,509</td>\n      <td>147.0</td>\n    </tr>\n    <tr>\n      <th>5</th>\n      <td>202107</td>\n      <td>울산광역시</td>\n      <td>전체(시 / 군 / 구)</td>\n      <td>교육용</td>\n      <td>428</td>\n      <td>18,462,516</td>\n      <td>2,000,277,704</td>\n      <td>108.3</td>\n    </tr>\n    <tr>\n      <th>6</th>\n      <td>202107</td>\n      <td>울산광역시</td>\n      <td>전체(시 / 군 / 구)</td>\n      <td>산업용</td>\n      <td>6,531</td>\n      <td>2,527,081,695</td>\n      <td>270,215,841,667</td>\n      <td>106.9</td>\n    </tr>\n    <tr>\n      <th>7</th>\n      <td>202107</td>\n      <td>울산광역시</td>\n      <td>전체(시 / 군 / 구)</td>\n      <td>농사용</td>\n      <td>16,730</td>\n      <td>7,098,563</td>\n      <td>353,382,100</td>\n      <td>49.8</td>\n    </tr>\n    <tr>\n      <th>8</th>\n      <td>202107</td>\n      <td>울산광역시</td>\n      <td>전체(시 / 군 / 구)</td>\n      <td>가로등</td>\n      <td>38,013</td>\n      <td>5,702,903</td>\n      <td>690,496,835</td>\n      <td>121.1</td>\n    </tr>\n    <tr>\n      <th>9</th>\n      <td>202107</td>\n      <td>울산광역시</td>\n      <td>전체(시 / 군 / 구)</td>\n      <td>심 야</td>\n      <td>5,533</td>\n      <td>3,420,615</td>\n      <td>204,503,884</td>\n      <td>59.8</td>\n    </tr>\n    <tr>\n      <th>10</th>\n      <td>202108</td>\n      <td>울산광역시</td>\n      <td>전체(시 / 군 / 구)</td>\n      <td>주택용</td>\n      <td>330,562</td>\n      <td>188,503,904</td>\n      <td>21,366,253,136</td>\n      <td>113.3</td>\n    </tr>\n    <tr>\n      <th>11</th>\n      <td>202108</td>\n      <td>울산광역시</td>\n      <td>전체(시 / 군 / 구)</td>\n      <td>일반용</td>\n      <td>73,578</td>\n      <td>214,413,261</td>\n      <td>30,253,417,505</td>\n      <td>141.1</td>\n    </tr>\n    <tr>\n      <th>12</th>\n      <td>202108</td>\n      <td>울산광역시</td>\n      <td>전체(시 / 군 / 구)</td>\n      <td>교육용</td>\n      <td>427</td>\n      <td>16,567,408</td>\n      <td>1,845,157,702</td>\n      <td>111.4</td>\n    </tr>\n    <tr>\n      <th>13</th>\n      <td>202108</td>\n      <td>울산광역시</td>\n      <td>전체(시 / 군 / 구)</td>\n      <td>산업용</td>\n      <td>6,539</td>\n      <td>2,473,189,070</td>\n      <td>257,824,756,734</td>\n      <td>104.2</td>\n    </tr>\n    <tr>\n      <th>14</th>\n      <td>202108</td>\n      <td>울산광역시</td>\n      <td>전체(시 / 군 / 구)</td>\n      <td>농사용</td>\n      <td>16,857</td>\n      <td>10,085,876</td>\n      <td>468,387,813</td>\n      <td>46.4</td>\n    </tr>\n    <tr>\n      <th>15</th>\n      <td>202108</td>\n      <td>울산광역시</td>\n      <td>전체(시 / 군 / 구)</td>\n      <td>가로등</td>\n      <td>38,146</td>\n      <td>6,042,585</td>\n      <td>707,001,902</td>\n      <td>117.0</td>\n    </tr>\n    <tr>\n      <th>16</th>\n      <td>202108</td>\n      <td>울산광역시</td>\n      <td>전체(시 / 군 / 구)</td>\n      <td>심 야</td>\n      <td>5,500</td>\n      <td>2,921,618</td>\n      <td>174,878,233</td>\n      <td>59.9</td>\n    </tr>\n    <tr>\n      <th>17</th>\n      <td>202109</td>\n      <td>울산광역시</td>\n      <td>전체(시 / 군 / 구)</td>\n      <td>주택용</td>\n      <td>330,425</td>\n      <td>157,075,937</td>\n      <td>16,417,485,660</td>\n      <td>104.5</td>\n    </tr>\n    <tr>\n      <th>18</th>\n      <td>202109</td>\n      <td>울산광역시</td>\n      <td>전체(시 / 군 / 구)</td>\n      <td>일반용</td>\n      <td>73,588</td>\n      <td>186,712,981</td>\n      <td>24,011,516,416</td>\n      <td>128.6</td>\n    </tr>\n    <tr>\n      <th>19</th>\n      <td>202109</td>\n      <td>울산광역시</td>\n      <td>전체(시 / 군 / 구)</td>\n      <td>교육용</td>\n      <td>427</td>\n      <td>17,233,623</td>\n      <td>1,600,811,390</td>\n      <td>92.9</td>\n    </tr>\n    <tr>\n      <th>20</th>\n      <td>202109</td>\n      <td>울산광역시</td>\n      <td>전체(시 / 군 / 구)</td>\n      <td>산업용</td>\n      <td>6,536</td>\n      <td>2,481,517,282</td>\n      <td>202,804,361,059</td>\n      <td>81.7</td>\n    </tr>\n    <tr>\n      <th>21</th>\n      <td>202109</td>\n      <td>울산광역시</td>\n      <td>전체(시 / 군 / 구)</td>\n      <td>농사용</td>\n      <td>16,981</td>\n      <td>10,130,121</td>\n      <td>475,186,685</td>\n      <td>46.9</td>\n    </tr>\n    <tr>\n      <th>22</th>\n      <td>202109</td>\n      <td>울산광역시</td>\n      <td>전체(시 / 군 / 구)</td>\n      <td>가로등</td>\n      <td>38,216</td>\n      <td>6,245,538</td>\n      <td>712,719,716</td>\n      <td>114.1</td>\n    </tr>\n    <tr>\n      <th>23</th>\n      <td>202109</td>\n      <td>울산광역시</td>\n      <td>전체(시 / 군 / 구)</td>\n      <td>심 야</td>\n      <td>5,472</td>\n      <td>2,646,823</td>\n      <td>161,003,389</td>\n      <td>60.8</td>\n    </tr>\n    <tr>\n      <th>24</th>\n      <td>202110</td>\n      <td>울산광역시</td>\n      <td>전체(시 / 군 / 구)</td>\n      <td>주택용</td>\n      <td>330,334</td>\n      <td>130,637,166</td>\n      <td>13,923,633,278</td>\n      <td>106.6</td>\n    </tr>\n    <tr>\n      <th>25</th>\n      <td>202110</td>\n      <td>울산광역시</td>\n      <td>전체(시 / 군 / 구)</td>\n      <td>일반용</td>\n      <td>73,591</td>\n      <td>164,270,685</td>\n      <td>19,152,010,618</td>\n      <td>116.6</td>\n    </tr>\n    <tr>\n      <th>26</th>\n      <td>202110</td>\n      <td>울산광역시</td>\n      <td>전체(시 / 군 / 구)</td>\n      <td>교육용</td>\n      <td>427</td>\n      <td>15,319,984</td>\n      <td>1,351,508,382</td>\n      <td>88.2</td>\n    </tr>\n    <tr>\n      <th>27</th>\n      <td>202110</td>\n      <td>울산광역시</td>\n      <td>전체(시 / 군 / 구)</td>\n      <td>산업용</td>\n      <td>6,539</td>\n      <td>2,469,786,522</td>\n      <td>206,716,456,657</td>\n      <td>83.7</td>\n    </tr>\n    <tr>\n      <th>28</th>\n      <td>202110</td>\n      <td>울산광역시</td>\n      <td>전체(시 / 군 / 구)</td>\n      <td>농사용</td>\n      <td>17,033</td>\n      <td>7,494,642</td>\n      <td>395,964,957</td>\n      <td>52.8</td>\n    </tr>\n    <tr>\n      <th>29</th>\n      <td>202110</td>\n      <td>울산광역시</td>\n      <td>전체(시 / 군 / 구)</td>\n      <td>가로등</td>\n      <td>38,276</td>\n      <td>6,688,617</td>\n      <td>747,956,774</td>\n      <td>111.8</td>\n    </tr>\n    <tr>\n      <th>30</th>\n      <td>202110</td>\n      <td>울산광역시</td>\n      <td>전체(시 / 군 / 구)</td>\n      <td>심 야</td>\n      <td>5,432</td>\n      <td>2,971,995</td>\n      <td>181,253,437</td>\n      <td>61.0</td>\n    </tr>\n    <tr>\n      <th>31</th>\n      <td>202111</td>\n      <td>울산광역시</td>\n      <td>전체(시 / 군 / 구)</td>\n      <td>주택용</td>\n      <td>330,297</td>\n      <td>131,533,657</td>\n      <td>14,153,422,774</td>\n      <td>107.6</td>\n    </tr>\n    <tr>\n      <th>32</th>\n      <td>202111</td>\n      <td>울산광역시</td>\n      <td>전체(시 / 군 / 구)</td>\n      <td>일반용</td>\n      <td>73,761</td>\n      <td>158,474,350</td>\n      <td>21,039,702,087</td>\n      <td>132.8</td>\n    </tr>\n    <tr>\n      <th>33</th>\n      <td>202111</td>\n      <td>울산광역시</td>\n      <td>전체(시 / 군 / 구)</td>\n      <td>교육용</td>\n      <td>428</td>\n      <td>15,245,375</td>\n      <td>1,545,499,237</td>\n      <td>101.4</td>\n    </tr>\n    <tr>\n      <th>34</th>\n      <td>202111</td>\n      <td>울산광역시</td>\n      <td>전체(시 / 군 / 구)</td>\n      <td>산업용</td>\n      <td>6,561</td>\n      <td>2,419,941,615</td>\n      <td>262,708,032,592</td>\n      <td>108.6</td>\n    </tr>\n    <tr>\n      <th>35</th>\n      <td>202111</td>\n      <td>울산광역시</td>\n      <td>전체(시 / 군 / 구)</td>\n      <td>농사용</td>\n      <td>17,962</td>\n      <td>7,599,969</td>\n      <td>391,742,278</td>\n      <td>51.5</td>\n    </tr>\n    <tr>\n      <th>36</th>\n      <td>202111</td>\n      <td>울산광역시</td>\n      <td>전체(시 / 군 / 구)</td>\n      <td>가로등</td>\n      <td>38,309</td>\n      <td>7,179,070</td>\n      <td>785,568,035</td>\n      <td>109.4</td>\n    </tr>\n    <tr>\n      <th>37</th>\n      <td>202111</td>\n      <td>울산광역시</td>\n      <td>전체(시 / 군 / 구)</td>\n      <td>심 야</td>\n      <td>5,396</td>\n      <td>6,312,148</td>\n      <td>400,060,225</td>\n      <td>63.4</td>\n    </tr>\n    <tr>\n      <th>38</th>\n      <td>202112</td>\n      <td>울산광역시</td>\n      <td>전체(시 / 군 / 구)</td>\n      <td>주택용</td>\n      <td>329,950</td>\n      <td>133,422,027</td>\n      <td>14,499,085,371</td>\n      <td>108.7</td>\n    </tr>\n    <tr>\n      <th>39</th>\n      <td>202112</td>\n      <td>울산광역시</td>\n      <td>전체(시 / 군 / 구)</td>\n      <td>일반용</td>\n      <td>73,968</td>\n      <td>172,781,258</td>\n      <td>24,613,681,743</td>\n      <td>142.5</td>\n    </tr>\n    <tr>\n      <th>40</th>\n      <td>202112</td>\n      <td>울산광역시</td>\n      <td>전체(시 / 군 / 구)</td>\n      <td>교육용</td>\n      <td>428</td>\n      <td>19,304,835</td>\n      <td>1,945,413,647</td>\n      <td>100.8</td>\n    </tr>\n    <tr>\n      <th>41</th>\n      <td>202112</td>\n      <td>울산광역시</td>\n      <td>전체(시 / 군 / 구)</td>\n      <td>산업용</td>\n      <td>6,554</td>\n      <td>2,557,070,333</td>\n      <td>274,082,373,600</td>\n      <td>107.2</td>\n    </tr>\n    <tr>\n      <th>42</th>\n      <td>202112</td>\n      <td>울산광역시</td>\n      <td>전체(시 / 군 / 구)</td>\n      <td>농사용</td>\n      <td>17,054</td>\n      <td>7,206,519</td>\n      <td>385,787,210</td>\n      <td>53.5</td>\n    </tr>\n    <tr>\n      <th>43</th>\n      <td>202112</td>\n      <td>울산광역시</td>\n      <td>전체(시 / 군 / 구)</td>\n      <td>가로등</td>\n      <td>38,499</td>\n      <td>7,438,527</td>\n      <td>793,911,997</td>\n      <td>106.7</td>\n    </tr>\n    <tr>\n      <th>44</th>\n      <td>202112</td>\n      <td>울산광역시</td>\n      <td>전체(시 / 군 / 구)</td>\n      <td>심 야</td>\n      <td>5,340</td>\n      <td>9,278,355</td>\n      <td>692,305,914</td>\n      <td>74.6</td>\n    </tr>\n    <tr>\n      <th>45</th>\n      <td>합계</td>\n      <td>합계</td>\n      <td>합계</td>\n      <td>합계</td>\n      <td>2,831,161</td>\n      <td>17,105,076,150</td>\n      <td>1,733,363,312,654</td>\n      <td>101.3</td>\n    </tr>\n  </tbody>\n</table>\n</div>"
     },
     "execution_count": 6,
     "metadata": {},
     "output_type": "execute_result"
    }
   ],
   "source": [
    "df_2 = df.loc[:45]\n",
    "df_2\n"
   ],
   "metadata": {
    "collapsed": false,
    "pycharm": {
     "name": "#%%\n"
    }
   }
  },
  {
   "cell_type": "code",
   "execution_count": 7,
   "outputs": [
    {
     "name": "stderr",
     "output_type": "stream",
     "text": [
      "C:\\Users\\user\\AppData\\Local\\Temp\\ipykernel_13192\\3551721261.py:3: SettingWithCopyWarning: \n",
      "A value is trying to be set on a copy of a slice from a DataFrame\n",
      "\n",
      "See the caveats in the documentation: https://pandas.pydata.org/pandas-docs/stable/user_guide/indexing.html#returning-a-view-versus-a-copy\n",
      "  GyeonGi.drop(['시군구' , '전기요금(원)' , '평균판매단가(원/kWh)'] , axis = 1 , inplace = True)\n"
     ]
    },
    {
     "data": {
      "text/plain": "        년월     시구 계약구분  고객호수(호)      사용량(kWh)\n4   202107  울산광역시  일반용  73,462   182,838,605 \n11  202108  울산광역시  일반용  73,578   214,413,261 \n18  202109  울산광역시  일반용  73,588   186,712,981 \n25  202110  울산광역시  일반용  73,591   164,270,685 \n32  202111  울산광역시  일반용  73,761   158,474,350 \n39  202112  울산광역시  일반용  73,968   172,781,258 ",
      "text/html": "<div>\n<style scoped>\n    .dataframe tbody tr th:only-of-type {\n        vertical-align: middle;\n    }\n\n    .dataframe tbody tr th {\n        vertical-align: top;\n    }\n\n    .dataframe thead th {\n        text-align: right;\n    }\n</style>\n<table border=\"1\" class=\"dataframe\">\n  <thead>\n    <tr style=\"text-align: right;\">\n      <th></th>\n      <th>년월</th>\n      <th>시구</th>\n      <th>계약구분</th>\n      <th>고객호수(호)</th>\n      <th>사용량(kWh)</th>\n    </tr>\n  </thead>\n  <tbody>\n    <tr>\n      <th>4</th>\n      <td>202107</td>\n      <td>울산광역시</td>\n      <td>일반용</td>\n      <td>73,462</td>\n      <td>182,838,605</td>\n    </tr>\n    <tr>\n      <th>11</th>\n      <td>202108</td>\n      <td>울산광역시</td>\n      <td>일반용</td>\n      <td>73,578</td>\n      <td>214,413,261</td>\n    </tr>\n    <tr>\n      <th>18</th>\n      <td>202109</td>\n      <td>울산광역시</td>\n      <td>일반용</td>\n      <td>73,588</td>\n      <td>186,712,981</td>\n    </tr>\n    <tr>\n      <th>25</th>\n      <td>202110</td>\n      <td>울산광역시</td>\n      <td>일반용</td>\n      <td>73,591</td>\n      <td>164,270,685</td>\n    </tr>\n    <tr>\n      <th>32</th>\n      <td>202111</td>\n      <td>울산광역시</td>\n      <td>일반용</td>\n      <td>73,761</td>\n      <td>158,474,350</td>\n    </tr>\n    <tr>\n      <th>39</th>\n      <td>202112</td>\n      <td>울산광역시</td>\n      <td>일반용</td>\n      <td>73,968</td>\n      <td>172,781,258</td>\n    </tr>\n  </tbody>\n</table>\n</div>"
     },
     "execution_count": 7,
     "metadata": {},
     "output_type": "execute_result"
    }
   ],
   "source": [
    "GyeonGi  = df_2.loc[(df_2['계약구분'] == '일반용')]\n",
    "#SEOUL = df_3.loc[(df_3['계약구분'] =='일반용')]\n",
    "GyeonGi.drop(['시군구' , '전기요금(원)' , '평균판매단가(원/kWh)'] , axis = 1 , inplace = True)\n",
    "GyeonGi"
   ],
   "metadata": {
    "collapsed": false,
    "pycharm": {
     "name": "#%%\n"
    }
   }
  },
  {
   "cell_type": "code",
   "execution_count": 8,
   "outputs": [],
   "source": [
    "#SEOUL1.to_csv(\"서울특별시_계약종별_전국_전력사용량_2022.csv\" , mode = 'w' , encoding= 'cp949')"
   ],
   "metadata": {
    "collapsed": false,
    "pycharm": {
     "name": "#%%\n"
    }
   }
  },
  {
   "cell_type": "code",
   "execution_count": 9,
   "outputs": [],
   "source": [
    "#df_2.to_csv(\"서울특별시_계약종별_전국_전력사용량.csv\" , mode = 'w' , encoding= 'cp949')"
   ],
   "metadata": {
    "collapsed": false,
    "pycharm": {
     "name": "#%%\n"
    }
   }
  },
  {
   "cell_type": "code",
   "execution_count": 10,
   "outputs": [
    {
     "data": {
      "text/plain": "         년월     시구  시군구 계약구분  고객호수(호)     사용량(kWh)\n53   202107  울산광역시   남구  일반용  25,156   66,153,368 \n93   202108  울산광역시   남구  일반용  25,198   77,928,112 \n133  202109  울산광역시   남구  일반용  25,168   67,319,230 \n173  202110  울산광역시   남구  일반용  25,144   58,011,907 \n213  202111  울산광역시   남구  일반용  25,153   54,770,702 \n253  202112  울산광역시   남구  일반용  25,193   60,592,100 \n61   202107  울산광역시   동구  일반용   7,722   20,088,577 \n101  202108  울산광역시   동구  일반용   7,735   23,881,193 \n141  202109  울산광역시   동구  일반용   7,725   21,080,802 \n181  202110  울산광역시   동구  일반용   7,719   18,516,957 \n221  202111  울산광역시   동구  일반용   7,721   17,345,572 \n261  202112  울산광역시   동구  일반용   7,731   18,280,012 \n69   202107  울산광역시   북구  일반용  10,401   29,246,772 \n109  202108  울산광역시   북구  일반용  10,437   33,435,059 \n149  202109  울산광역시   북구  일반용  10,465   29,596,557 \n189  202110  울산광역시   북구  일반용  10,495   26,245,165 \n229  202111  울산광역시   북구  일반용  10,555   25,478,588 \n269  202112  울산광역시   북구  일반용  10,601   27,707,209 \n77   202107  울산광역시  울주군  일반용  16,597   38,461,824 \n117  202108  울산광역시  울주군  일반용  16,617   45,427,456 \n157  202109  울산광역시  울주군  일반용  16,664   39,633,967 \n197  202110  울산광역시  울주군  일반용  16,676   35,998,918 \n237  202111  울산광역시  울주군  일반용  16,754   36,454,478 \n277  202112  울산광역시  울주군  일반용  16,878   39,642,035 \n85   202107  울산광역시   중구  일반용  13,586   28,888,064 \n125  202108  울산광역시   중구  일반용  13,591   33,741,441 \n165  202109  울산광역시   중구  일반용  13,566   29,082,425 \n205  202110  울산광역시   중구  일반용  13,557   25,497,738 \n245  202111  울산광역시   중구  일반용  13,578   24,425,010 \n285  202112  울산광역시   중구  일반용  13,565   26,559,902 ",
      "text/html": "<div>\n<style scoped>\n    .dataframe tbody tr th:only-of-type {\n        vertical-align: middle;\n    }\n\n    .dataframe tbody tr th {\n        vertical-align: top;\n    }\n\n    .dataframe thead th {\n        text-align: right;\n    }\n</style>\n<table border=\"1\" class=\"dataframe\">\n  <thead>\n    <tr style=\"text-align: right;\">\n      <th></th>\n      <th>년월</th>\n      <th>시구</th>\n      <th>시군구</th>\n      <th>계약구분</th>\n      <th>고객호수(호)</th>\n      <th>사용량(kWh)</th>\n    </tr>\n  </thead>\n  <tbody>\n    <tr>\n      <th>53</th>\n      <td>202107</td>\n      <td>울산광역시</td>\n      <td>남구</td>\n      <td>일반용</td>\n      <td>25,156</td>\n      <td>66,153,368</td>\n    </tr>\n    <tr>\n      <th>93</th>\n      <td>202108</td>\n      <td>울산광역시</td>\n      <td>남구</td>\n      <td>일반용</td>\n      <td>25,198</td>\n      <td>77,928,112</td>\n    </tr>\n    <tr>\n      <th>133</th>\n      <td>202109</td>\n      <td>울산광역시</td>\n      <td>남구</td>\n      <td>일반용</td>\n      <td>25,168</td>\n      <td>67,319,230</td>\n    </tr>\n    <tr>\n      <th>173</th>\n      <td>202110</td>\n      <td>울산광역시</td>\n      <td>남구</td>\n      <td>일반용</td>\n      <td>25,144</td>\n      <td>58,011,907</td>\n    </tr>\n    <tr>\n      <th>213</th>\n      <td>202111</td>\n      <td>울산광역시</td>\n      <td>남구</td>\n      <td>일반용</td>\n      <td>25,153</td>\n      <td>54,770,702</td>\n    </tr>\n    <tr>\n      <th>253</th>\n      <td>202112</td>\n      <td>울산광역시</td>\n      <td>남구</td>\n      <td>일반용</td>\n      <td>25,193</td>\n      <td>60,592,100</td>\n    </tr>\n    <tr>\n      <th>61</th>\n      <td>202107</td>\n      <td>울산광역시</td>\n      <td>동구</td>\n      <td>일반용</td>\n      <td>7,722</td>\n      <td>20,088,577</td>\n    </tr>\n    <tr>\n      <th>101</th>\n      <td>202108</td>\n      <td>울산광역시</td>\n      <td>동구</td>\n      <td>일반용</td>\n      <td>7,735</td>\n      <td>23,881,193</td>\n    </tr>\n    <tr>\n      <th>141</th>\n      <td>202109</td>\n      <td>울산광역시</td>\n      <td>동구</td>\n      <td>일반용</td>\n      <td>7,725</td>\n      <td>21,080,802</td>\n    </tr>\n    <tr>\n      <th>181</th>\n      <td>202110</td>\n      <td>울산광역시</td>\n      <td>동구</td>\n      <td>일반용</td>\n      <td>7,719</td>\n      <td>18,516,957</td>\n    </tr>\n    <tr>\n      <th>221</th>\n      <td>202111</td>\n      <td>울산광역시</td>\n      <td>동구</td>\n      <td>일반용</td>\n      <td>7,721</td>\n      <td>17,345,572</td>\n    </tr>\n    <tr>\n      <th>261</th>\n      <td>202112</td>\n      <td>울산광역시</td>\n      <td>동구</td>\n      <td>일반용</td>\n      <td>7,731</td>\n      <td>18,280,012</td>\n    </tr>\n    <tr>\n      <th>69</th>\n      <td>202107</td>\n      <td>울산광역시</td>\n      <td>북구</td>\n      <td>일반용</td>\n      <td>10,401</td>\n      <td>29,246,772</td>\n    </tr>\n    <tr>\n      <th>109</th>\n      <td>202108</td>\n      <td>울산광역시</td>\n      <td>북구</td>\n      <td>일반용</td>\n      <td>10,437</td>\n      <td>33,435,059</td>\n    </tr>\n    <tr>\n      <th>149</th>\n      <td>202109</td>\n      <td>울산광역시</td>\n      <td>북구</td>\n      <td>일반용</td>\n      <td>10,465</td>\n      <td>29,596,557</td>\n    </tr>\n    <tr>\n      <th>189</th>\n      <td>202110</td>\n      <td>울산광역시</td>\n      <td>북구</td>\n      <td>일반용</td>\n      <td>10,495</td>\n      <td>26,245,165</td>\n    </tr>\n    <tr>\n      <th>229</th>\n      <td>202111</td>\n      <td>울산광역시</td>\n      <td>북구</td>\n      <td>일반용</td>\n      <td>10,555</td>\n      <td>25,478,588</td>\n    </tr>\n    <tr>\n      <th>269</th>\n      <td>202112</td>\n      <td>울산광역시</td>\n      <td>북구</td>\n      <td>일반용</td>\n      <td>10,601</td>\n      <td>27,707,209</td>\n    </tr>\n    <tr>\n      <th>77</th>\n      <td>202107</td>\n      <td>울산광역시</td>\n      <td>울주군</td>\n      <td>일반용</td>\n      <td>16,597</td>\n      <td>38,461,824</td>\n    </tr>\n    <tr>\n      <th>117</th>\n      <td>202108</td>\n      <td>울산광역시</td>\n      <td>울주군</td>\n      <td>일반용</td>\n      <td>16,617</td>\n      <td>45,427,456</td>\n    </tr>\n    <tr>\n      <th>157</th>\n      <td>202109</td>\n      <td>울산광역시</td>\n      <td>울주군</td>\n      <td>일반용</td>\n      <td>16,664</td>\n      <td>39,633,967</td>\n    </tr>\n    <tr>\n      <th>197</th>\n      <td>202110</td>\n      <td>울산광역시</td>\n      <td>울주군</td>\n      <td>일반용</td>\n      <td>16,676</td>\n      <td>35,998,918</td>\n    </tr>\n    <tr>\n      <th>237</th>\n      <td>202111</td>\n      <td>울산광역시</td>\n      <td>울주군</td>\n      <td>일반용</td>\n      <td>16,754</td>\n      <td>36,454,478</td>\n    </tr>\n    <tr>\n      <th>277</th>\n      <td>202112</td>\n      <td>울산광역시</td>\n      <td>울주군</td>\n      <td>일반용</td>\n      <td>16,878</td>\n      <td>39,642,035</td>\n    </tr>\n    <tr>\n      <th>85</th>\n      <td>202107</td>\n      <td>울산광역시</td>\n      <td>중구</td>\n      <td>일반용</td>\n      <td>13,586</td>\n      <td>28,888,064</td>\n    </tr>\n    <tr>\n      <th>125</th>\n      <td>202108</td>\n      <td>울산광역시</td>\n      <td>중구</td>\n      <td>일반용</td>\n      <td>13,591</td>\n      <td>33,741,441</td>\n    </tr>\n    <tr>\n      <th>165</th>\n      <td>202109</td>\n      <td>울산광역시</td>\n      <td>중구</td>\n      <td>일반용</td>\n      <td>13,566</td>\n      <td>29,082,425</td>\n    </tr>\n    <tr>\n      <th>205</th>\n      <td>202110</td>\n      <td>울산광역시</td>\n      <td>중구</td>\n      <td>일반용</td>\n      <td>13,557</td>\n      <td>25,497,738</td>\n    </tr>\n    <tr>\n      <th>245</th>\n      <td>202111</td>\n      <td>울산광역시</td>\n      <td>중구</td>\n      <td>일반용</td>\n      <td>13,578</td>\n      <td>24,425,010</td>\n    </tr>\n    <tr>\n      <th>285</th>\n      <td>202112</td>\n      <td>울산광역시</td>\n      <td>중구</td>\n      <td>일반용</td>\n      <td>13,565</td>\n      <td>26,559,902</td>\n    </tr>\n  </tbody>\n</table>\n</div>"
     },
     "execution_count": 10,
     "metadata": {},
     "output_type": "execute_result"
    }
   ],
   "source": [
    "df_3 = df.loc[48:]\n",
    "df_3 = df_3.loc[(df_3['계약구분'] == '일반용')]\n",
    "df_3 = df_3.sort_values(by=['시군구' , '년월'])\n",
    "df_3.drop(['전기요금(원)',   '평균판매단가(원/kWh)'] , axis = 1 , inplace = True)\n",
    "df_3"
   ],
   "metadata": {
    "collapsed": false,
    "pycharm": {
     "name": "#%%\n"
    }
   }
  },
  {
   "cell_type": "code",
   "execution_count": 11,
   "outputs": [
    {
     "data": {
      "text/plain": "'울산광역시'"
     },
     "execution_count": 11,
     "metadata": {},
     "output_type": "execute_result"
    }
   ],
   "source": [
    "a = df_3.loc[: , \"시구\"]\n",
    "b = a[:1].tolist()\n",
    "for i in b:\n",
    "    City = i\n",
    "City"
   ],
   "metadata": {
    "collapsed": false,
    "pycharm": {
     "name": "#%%\n"
    }
   }
  },
  {
   "cell_type": "code",
   "execution_count": 12,
   "outputs": [
    {
     "data": {
      "text/plain": "['남구', '동구', '북구', '울주군', '중구']"
     },
     "execution_count": 12,
     "metadata": {},
     "output_type": "execute_result"
    }
   ],
   "source": [
    "\n",
    "SIGUNGU = list(set(df_3.loc[: , '시군구'].tolist()))\n",
    "SIGUNGU.sort()\n",
    "SIGUNGU"
   ],
   "metadata": {
    "collapsed": false,
    "pycharm": {
     "name": "#%%\n"
    }
   }
  },
  {
   "cell_type": "code",
   "execution_count": 13,
   "outputs": [
    {
     "data": {
      "text/plain": "         년월     시구  시군구 계약구분   고객호수(호)        사용량(kWh)\n55   202107  울산광역시   남구   합계  135,659   1,442,251,842 \n95   202108  울산광역시   남구   합계  135,270   1,474,409,045 \n135  202109  울산광역시   남구   합계  135,077   1,402,240,328 \n175  202110  울산광역시   남구   합계  134,848   1,319,724,484 \n215  202111  울산광역시   남구   합계  134,596   1,283,016,496 \n255  202112  울산광역시   남구   합계  134,332   1,393,784,266 \n63   202107  울산광역시   동구   합계   60,234     138,430,484 \n103  202108  울산광역시   동구   합계   60,271     127,759,283 \n143  202109  울산광역시   동구   합계   60,287     127,485,384 \n183  202110  울산광역시   동구   합계   60,312     122,271,180 \n223  202111  울산광역시   동구   합계   60,337     117,112,099 \n263  202112  울산광역시   동구   합계   60,355     129,600,201 \n71   202107  울산광역시   북구   합계   57,264     224,531,658 \n111  202108  울산광역시   북구   합계   57,405     221,208,449 \n151  202109  울산광역시   북구   합계   57,529     198,562,564 \n191  202110  울산광역시   북구   합계   57,651     195,308,080 \n231  202111  울산광역시   북구   합계   58,049     195,353,625 \n271  202112  울산광역시   북구   합계   57,934     210,117,496 \n79   202107  울산광역시  울주군   합계  126,109   1,016,291,555 \n119  202108  울산광역시  울주군   합계  126,255   1,013,111,342 \n159  202109  울산광역시  울주군   합계  126,407   1,068,896,268 \n199  202110  울산광역시  울주군   합계  126,489   1,104,714,016 \n239  202111  울산광역시  울주군   합계  127,355   1,095,990,930 \n279  202112  울산광역시  울주군   합계  126,854   1,114,532,190 \n87   202107  울산광역시   중구   합계   92,502      60,326,935 \n127  202108  울산광역시   중구   합계   92,408      75,235,603 \n167  202109  울산광역시   중구   합계   92,345      64,377,761 \n207  202110  울산광역시   중구   합계   92,332      55,151,851 \n247  202111  울산광역시   중구   합계   92,377      54,813,034 \n287  202112  울산광역시   중구   합계   92,318      58,467,701 ",
      "text/html": "<div>\n<style scoped>\n    .dataframe tbody tr th:only-of-type {\n        vertical-align: middle;\n    }\n\n    .dataframe tbody tr th {\n        vertical-align: top;\n    }\n\n    .dataframe thead th {\n        text-align: right;\n    }\n</style>\n<table border=\"1\" class=\"dataframe\">\n  <thead>\n    <tr style=\"text-align: right;\">\n      <th></th>\n      <th>년월</th>\n      <th>시구</th>\n      <th>시군구</th>\n      <th>계약구분</th>\n      <th>고객호수(호)</th>\n      <th>사용량(kWh)</th>\n    </tr>\n  </thead>\n  <tbody>\n    <tr>\n      <th>55</th>\n      <td>202107</td>\n      <td>울산광역시</td>\n      <td>남구</td>\n      <td>합계</td>\n      <td>135,659</td>\n      <td>1,442,251,842</td>\n    </tr>\n    <tr>\n      <th>95</th>\n      <td>202108</td>\n      <td>울산광역시</td>\n      <td>남구</td>\n      <td>합계</td>\n      <td>135,270</td>\n      <td>1,474,409,045</td>\n    </tr>\n    <tr>\n      <th>135</th>\n      <td>202109</td>\n      <td>울산광역시</td>\n      <td>남구</td>\n      <td>합계</td>\n      <td>135,077</td>\n      <td>1,402,240,328</td>\n    </tr>\n    <tr>\n      <th>175</th>\n      <td>202110</td>\n      <td>울산광역시</td>\n      <td>남구</td>\n      <td>합계</td>\n      <td>134,848</td>\n      <td>1,319,724,484</td>\n    </tr>\n    <tr>\n      <th>215</th>\n      <td>202111</td>\n      <td>울산광역시</td>\n      <td>남구</td>\n      <td>합계</td>\n      <td>134,596</td>\n      <td>1,283,016,496</td>\n    </tr>\n    <tr>\n      <th>255</th>\n      <td>202112</td>\n      <td>울산광역시</td>\n      <td>남구</td>\n      <td>합계</td>\n      <td>134,332</td>\n      <td>1,393,784,266</td>\n    </tr>\n    <tr>\n      <th>63</th>\n      <td>202107</td>\n      <td>울산광역시</td>\n      <td>동구</td>\n      <td>합계</td>\n      <td>60,234</td>\n      <td>138,430,484</td>\n    </tr>\n    <tr>\n      <th>103</th>\n      <td>202108</td>\n      <td>울산광역시</td>\n      <td>동구</td>\n      <td>합계</td>\n      <td>60,271</td>\n      <td>127,759,283</td>\n    </tr>\n    <tr>\n      <th>143</th>\n      <td>202109</td>\n      <td>울산광역시</td>\n      <td>동구</td>\n      <td>합계</td>\n      <td>60,287</td>\n      <td>127,485,384</td>\n    </tr>\n    <tr>\n      <th>183</th>\n      <td>202110</td>\n      <td>울산광역시</td>\n      <td>동구</td>\n      <td>합계</td>\n      <td>60,312</td>\n      <td>122,271,180</td>\n    </tr>\n    <tr>\n      <th>223</th>\n      <td>202111</td>\n      <td>울산광역시</td>\n      <td>동구</td>\n      <td>합계</td>\n      <td>60,337</td>\n      <td>117,112,099</td>\n    </tr>\n    <tr>\n      <th>263</th>\n      <td>202112</td>\n      <td>울산광역시</td>\n      <td>동구</td>\n      <td>합계</td>\n      <td>60,355</td>\n      <td>129,600,201</td>\n    </tr>\n    <tr>\n      <th>71</th>\n      <td>202107</td>\n      <td>울산광역시</td>\n      <td>북구</td>\n      <td>합계</td>\n      <td>57,264</td>\n      <td>224,531,658</td>\n    </tr>\n    <tr>\n      <th>111</th>\n      <td>202108</td>\n      <td>울산광역시</td>\n      <td>북구</td>\n      <td>합계</td>\n      <td>57,405</td>\n      <td>221,208,449</td>\n    </tr>\n    <tr>\n      <th>151</th>\n      <td>202109</td>\n      <td>울산광역시</td>\n      <td>북구</td>\n      <td>합계</td>\n      <td>57,529</td>\n      <td>198,562,564</td>\n    </tr>\n    <tr>\n      <th>191</th>\n      <td>202110</td>\n      <td>울산광역시</td>\n      <td>북구</td>\n      <td>합계</td>\n      <td>57,651</td>\n      <td>195,308,080</td>\n    </tr>\n    <tr>\n      <th>231</th>\n      <td>202111</td>\n      <td>울산광역시</td>\n      <td>북구</td>\n      <td>합계</td>\n      <td>58,049</td>\n      <td>195,353,625</td>\n    </tr>\n    <tr>\n      <th>271</th>\n      <td>202112</td>\n      <td>울산광역시</td>\n      <td>북구</td>\n      <td>합계</td>\n      <td>57,934</td>\n      <td>210,117,496</td>\n    </tr>\n    <tr>\n      <th>79</th>\n      <td>202107</td>\n      <td>울산광역시</td>\n      <td>울주군</td>\n      <td>합계</td>\n      <td>126,109</td>\n      <td>1,016,291,555</td>\n    </tr>\n    <tr>\n      <th>119</th>\n      <td>202108</td>\n      <td>울산광역시</td>\n      <td>울주군</td>\n      <td>합계</td>\n      <td>126,255</td>\n      <td>1,013,111,342</td>\n    </tr>\n    <tr>\n      <th>159</th>\n      <td>202109</td>\n      <td>울산광역시</td>\n      <td>울주군</td>\n      <td>합계</td>\n      <td>126,407</td>\n      <td>1,068,896,268</td>\n    </tr>\n    <tr>\n      <th>199</th>\n      <td>202110</td>\n      <td>울산광역시</td>\n      <td>울주군</td>\n      <td>합계</td>\n      <td>126,489</td>\n      <td>1,104,714,016</td>\n    </tr>\n    <tr>\n      <th>239</th>\n      <td>202111</td>\n      <td>울산광역시</td>\n      <td>울주군</td>\n      <td>합계</td>\n      <td>127,355</td>\n      <td>1,095,990,930</td>\n    </tr>\n    <tr>\n      <th>279</th>\n      <td>202112</td>\n      <td>울산광역시</td>\n      <td>울주군</td>\n      <td>합계</td>\n      <td>126,854</td>\n      <td>1,114,532,190</td>\n    </tr>\n    <tr>\n      <th>87</th>\n      <td>202107</td>\n      <td>울산광역시</td>\n      <td>중구</td>\n      <td>합계</td>\n      <td>92,502</td>\n      <td>60,326,935</td>\n    </tr>\n    <tr>\n      <th>127</th>\n      <td>202108</td>\n      <td>울산광역시</td>\n      <td>중구</td>\n      <td>합계</td>\n      <td>92,408</td>\n      <td>75,235,603</td>\n    </tr>\n    <tr>\n      <th>167</th>\n      <td>202109</td>\n      <td>울산광역시</td>\n      <td>중구</td>\n      <td>합계</td>\n      <td>92,345</td>\n      <td>64,377,761</td>\n    </tr>\n    <tr>\n      <th>207</th>\n      <td>202110</td>\n      <td>울산광역시</td>\n      <td>중구</td>\n      <td>합계</td>\n      <td>92,332</td>\n      <td>55,151,851</td>\n    </tr>\n    <tr>\n      <th>247</th>\n      <td>202111</td>\n      <td>울산광역시</td>\n      <td>중구</td>\n      <td>합계</td>\n      <td>92,377</td>\n      <td>54,813,034</td>\n    </tr>\n    <tr>\n      <th>287</th>\n      <td>202112</td>\n      <td>울산광역시</td>\n      <td>중구</td>\n      <td>합계</td>\n      <td>92,318</td>\n      <td>58,467,701</td>\n    </tr>\n  </tbody>\n</table>\n</div>"
     },
     "execution_count": 13,
     "metadata": {},
     "output_type": "execute_result"
    }
   ],
   "source": [
    "df_4 = df.loc[48:]\n",
    "df_4 = df_4.loc[(df_4['계약구분'] == '합계')]\n",
    "df_4 = df_4.sort_values(by=['시군구' , '년월'])\n",
    "df_4.drop(['전기요금(원)',   '평균판매단가(원/kWh)'] , axis = 1 , inplace = True)\n",
    "df_4"
   ],
   "metadata": {
    "collapsed": false,
    "pycharm": {
     "name": "#%%\n"
    }
   }
  },
  {
   "cell_type": "code",
   "execution_count": 14,
   "outputs": [
    {
     "name": "stdout",
     "output_type": "stream",
     "text": [
      "[1442251842, 1474409045, 1402240328, 1319724484, 1283016496, 1393784266]\n",
      "[138430484, 127759283, 127485384, 122271180, 117112099, 129600201]\n",
      "[224531658, 221208449, 198562564, 195308080, 195353625, 210117496]\n",
      "[1016291555, 1013111342, 1068896268, 1104714016, 1095990930, 1114532190]\n",
      "[60326935, 75235603, 64377761, 55151851, 54813034, 58467701]\n",
      "울산광역시 지역별 합계 :  [8315426461, 762658631, 1245081872, 6413536301, 368372885]\n",
      "울산광역시 고객호수 평균:  [22493, 10049, 9606, 21096, 15396]\n"
     ]
    }
   ],
   "source": [
    "sum2 , sum3 =[] , []\n",
    "for k in SIGUNGU:\n",
    "    GyeonGiHap = pd.DataFrame([] , columns = a)\n",
    "    HOSU = pd.DataFrame([], columns = a)\n",
    "    GyeonGiHap['사용량']= df_4['사용량(kWh)'].loc[(df_4['시군구'] == '{}'.format(k))]\n",
    "    HOSU['고객호수']= df_4['고객호수(호)'].loc[(df_4['시군구'] == '{}'.format(k))]\n",
    "    #경기합 데이터프레임의 사용량 열에 기군구가 가평군인 사용량 데이터만 뽑아내기\n",
    "    # GyeonGiHap = GyeonGiHap['사용량']\n",
    "\n",
    "    b = GyeonGiHap['사용량'].tolist()\n",
    "    c = HOSU['고객호수'].tolist()\n",
    "\n",
    "\n",
    "    #각지역별 사용량 리스트화\n",
    "    int_list  , int_list2=[] , []\n",
    "    for i in b:\n",
    "        i = re.sub(\",\" , \"\" , i)\n",
    "        #콤마 없애기\n",
    "        int_list.append(int(i))\n",
    "        #int_list에 각지역별 사용량 int로 저장\n",
    "    print(int_list)\n",
    "    sum=0\n",
    "    for i in c:\n",
    "        i = re.sub(\",\" , \"\" , i)\n",
    "        int_list2.append(int(i))\n",
    "\n",
    "    for j in int_list:\n",
    "\n",
    "        sum+= j\n",
    "    sum2.append(sum)\n",
    "    sum = 0\n",
    "    for j in int_list2: #고객호수 추출하여 더하기\n",
    "\n",
    "        sum+= j\n",
    "    sum3.append(sum//36) #6개월 치로 나눠야하나?!\n",
    "\n",
    "\n",
    "\n",
    "\n",
    "print(\"{} 지역별 합계 : \".format(City) , sum2)\n",
    "print(\"{} 고객호수 평균: \".format(City) , sum3)"
   ],
   "metadata": {
    "collapsed": false,
    "pycharm": {
     "name": "#%%\n"
    }
   }
  },
  {
   "cell_type": "markdown",
   "source": [
    "### 2. 날짜 체크!!!!!!!!!!!!!!!!!!!!!!!!!!!!!!!!!!!!!!!!!!!!!!"
   ],
   "metadata": {
    "collapsed": false,
    "pycharm": {
     "name": "#%% md\n"
    }
   }
  },
  {
   "cell_type": "code",
   "execution_count": 15,
   "outputs": [
    {
     "name": "stderr",
     "output_type": "stream",
     "text": [
      "C:\\Users\\user\\AppData\\Local\\Temp\\ipykernel_13192\\895775541.py:4: FutureWarning: The frame.append method is deprecated and will be removed from pandas in a future version. Use pandas.concat instead.\n",
      "  Hap = Hap.append({'년월' :'202107-202112'  , '시구' : '{}'.format(City) , '시군구' : '{}'.format(SIGUNGU[i]) , '계약구분' : '합계' , '고객호수(호)' : sum3[i] ,  '사용량(kWh)' : sum2[i]} , ignore_index=True) #년월 파일마다 수정하기\n",
      "C:\\Users\\user\\AppData\\Local\\Temp\\ipykernel_13192\\895775541.py:4: FutureWarning: The frame.append method is deprecated and will be removed from pandas in a future version. Use pandas.concat instead.\n",
      "  Hap = Hap.append({'년월' :'202107-202112'  , '시구' : '{}'.format(City) , '시군구' : '{}'.format(SIGUNGU[i]) , '계약구분' : '합계' , '고객호수(호)' : sum3[i] ,  '사용량(kWh)' : sum2[i]} , ignore_index=True) #년월 파일마다 수정하기\n",
      "C:\\Users\\user\\AppData\\Local\\Temp\\ipykernel_13192\\895775541.py:4: FutureWarning: The frame.append method is deprecated and will be removed from pandas in a future version. Use pandas.concat instead.\n",
      "  Hap = Hap.append({'년월' :'202107-202112'  , '시구' : '{}'.format(City) , '시군구' : '{}'.format(SIGUNGU[i]) , '계약구분' : '합계' , '고객호수(호)' : sum3[i] ,  '사용량(kWh)' : sum2[i]} , ignore_index=True) #년월 파일마다 수정하기\n",
      "C:\\Users\\user\\AppData\\Local\\Temp\\ipykernel_13192\\895775541.py:4: FutureWarning: The frame.append method is deprecated and will be removed from pandas in a future version. Use pandas.concat instead.\n",
      "  Hap = Hap.append({'년월' :'202107-202112'  , '시구' : '{}'.format(City) , '시군구' : '{}'.format(SIGUNGU[i]) , '계약구분' : '합계' , '고객호수(호)' : sum3[i] ,  '사용량(kWh)' : sum2[i]} , ignore_index=True) #년월 파일마다 수정하기\n",
      "C:\\Users\\user\\AppData\\Local\\Temp\\ipykernel_13192\\895775541.py:4: FutureWarning: The frame.append method is deprecated and will be removed from pandas in a future version. Use pandas.concat instead.\n",
      "  Hap = Hap.append({'년월' :'202107-202112'  , '시구' : '{}'.format(City) , '시군구' : '{}'.format(SIGUNGU[i]) , '계약구분' : '합계' , '고객호수(호)' : sum3[i] ,  '사용량(kWh)' : sum2[i]} , ignore_index=True) #년월 파일마다 수정하기\n"
     ]
    },
    {
     "data": {
      "text/plain": "               년월     시구  시군구 계약구분   고객호수(호)        사용량(kWh)\n0          202107  울산광역시   남구   합계  135,659   1,442,251,842 \n1          202108  울산광역시   남구   합계  135,270   1,474,409,045 \n2          202109  울산광역시   남구   합계  135,077   1,402,240,328 \n3          202110  울산광역시   남구   합계  134,848   1,319,724,484 \n4          202111  울산광역시   남구   합계  134,596   1,283,016,496 \n5          202112  울산광역시   남구   합계  134,332   1,393,784,266 \n6          202107  울산광역시   동구   합계   60,234     138,430,484 \n7          202108  울산광역시   동구   합계   60,271     127,759,283 \n8          202109  울산광역시   동구   합계   60,287     127,485,384 \n9          202110  울산광역시   동구   합계   60,312     122,271,180 \n10         202111  울산광역시   동구   합계   60,337     117,112,099 \n11         202112  울산광역시   동구   합계   60,355     129,600,201 \n12         202107  울산광역시   북구   합계   57,264     224,531,658 \n13         202108  울산광역시   북구   합계   57,405     221,208,449 \n14         202109  울산광역시   북구   합계   57,529     198,562,564 \n15         202110  울산광역시   북구   합계   57,651     195,308,080 \n16         202111  울산광역시   북구   합계   58,049     195,353,625 \n17         202112  울산광역시   북구   합계   57,934     210,117,496 \n18         202107  울산광역시  울주군   합계  126,109   1,016,291,555 \n19         202108  울산광역시  울주군   합계  126,255   1,013,111,342 \n20         202109  울산광역시  울주군   합계  126,407   1,068,896,268 \n21         202110  울산광역시  울주군   합계  126,489   1,104,714,016 \n22         202111  울산광역시  울주군   합계  127,355   1,095,990,930 \n23         202112  울산광역시  울주군   합계  126,854   1,114,532,190 \n24         202107  울산광역시   중구   합계   92,502      60,326,935 \n25         202108  울산광역시   중구   합계   92,408      75,235,603 \n26         202109  울산광역시   중구   합계   92,345      64,377,761 \n27         202110  울산광역시   중구   합계   92,332      55,151,851 \n28         202111  울산광역시   중구   합계   92,377      54,813,034 \n29         202112  울산광역시   중구   합계   92,318      58,467,701 \n30  202107-202112  울산광역시   남구   합계     22493      8315426461\n31  202107-202112  울산광역시   동구   합계     10049       762658631\n32  202107-202112  울산광역시   북구   합계      9606      1245081872\n33  202107-202112  울산광역시  울주군   합계     21096      6413536301\n34  202107-202112  울산광역시   중구   합계     15396       368372885",
      "text/html": "<div>\n<style scoped>\n    .dataframe tbody tr th:only-of-type {\n        vertical-align: middle;\n    }\n\n    .dataframe tbody tr th {\n        vertical-align: top;\n    }\n\n    .dataframe thead th {\n        text-align: right;\n    }\n</style>\n<table border=\"1\" class=\"dataframe\">\n  <thead>\n    <tr style=\"text-align: right;\">\n      <th></th>\n      <th>년월</th>\n      <th>시구</th>\n      <th>시군구</th>\n      <th>계약구분</th>\n      <th>고객호수(호)</th>\n      <th>사용량(kWh)</th>\n    </tr>\n  </thead>\n  <tbody>\n    <tr>\n      <th>0</th>\n      <td>202107</td>\n      <td>울산광역시</td>\n      <td>남구</td>\n      <td>합계</td>\n      <td>135,659</td>\n      <td>1,442,251,842</td>\n    </tr>\n    <tr>\n      <th>1</th>\n      <td>202108</td>\n      <td>울산광역시</td>\n      <td>남구</td>\n      <td>합계</td>\n      <td>135,270</td>\n      <td>1,474,409,045</td>\n    </tr>\n    <tr>\n      <th>2</th>\n      <td>202109</td>\n      <td>울산광역시</td>\n      <td>남구</td>\n      <td>합계</td>\n      <td>135,077</td>\n      <td>1,402,240,328</td>\n    </tr>\n    <tr>\n      <th>3</th>\n      <td>202110</td>\n      <td>울산광역시</td>\n      <td>남구</td>\n      <td>합계</td>\n      <td>134,848</td>\n      <td>1,319,724,484</td>\n    </tr>\n    <tr>\n      <th>4</th>\n      <td>202111</td>\n      <td>울산광역시</td>\n      <td>남구</td>\n      <td>합계</td>\n      <td>134,596</td>\n      <td>1,283,016,496</td>\n    </tr>\n    <tr>\n      <th>5</th>\n      <td>202112</td>\n      <td>울산광역시</td>\n      <td>남구</td>\n      <td>합계</td>\n      <td>134,332</td>\n      <td>1,393,784,266</td>\n    </tr>\n    <tr>\n      <th>6</th>\n      <td>202107</td>\n      <td>울산광역시</td>\n      <td>동구</td>\n      <td>합계</td>\n      <td>60,234</td>\n      <td>138,430,484</td>\n    </tr>\n    <tr>\n      <th>7</th>\n      <td>202108</td>\n      <td>울산광역시</td>\n      <td>동구</td>\n      <td>합계</td>\n      <td>60,271</td>\n      <td>127,759,283</td>\n    </tr>\n    <tr>\n      <th>8</th>\n      <td>202109</td>\n      <td>울산광역시</td>\n      <td>동구</td>\n      <td>합계</td>\n      <td>60,287</td>\n      <td>127,485,384</td>\n    </tr>\n    <tr>\n      <th>9</th>\n      <td>202110</td>\n      <td>울산광역시</td>\n      <td>동구</td>\n      <td>합계</td>\n      <td>60,312</td>\n      <td>122,271,180</td>\n    </tr>\n    <tr>\n      <th>10</th>\n      <td>202111</td>\n      <td>울산광역시</td>\n      <td>동구</td>\n      <td>합계</td>\n      <td>60,337</td>\n      <td>117,112,099</td>\n    </tr>\n    <tr>\n      <th>11</th>\n      <td>202112</td>\n      <td>울산광역시</td>\n      <td>동구</td>\n      <td>합계</td>\n      <td>60,355</td>\n      <td>129,600,201</td>\n    </tr>\n    <tr>\n      <th>12</th>\n      <td>202107</td>\n      <td>울산광역시</td>\n      <td>북구</td>\n      <td>합계</td>\n      <td>57,264</td>\n      <td>224,531,658</td>\n    </tr>\n    <tr>\n      <th>13</th>\n      <td>202108</td>\n      <td>울산광역시</td>\n      <td>북구</td>\n      <td>합계</td>\n      <td>57,405</td>\n      <td>221,208,449</td>\n    </tr>\n    <tr>\n      <th>14</th>\n      <td>202109</td>\n      <td>울산광역시</td>\n      <td>북구</td>\n      <td>합계</td>\n      <td>57,529</td>\n      <td>198,562,564</td>\n    </tr>\n    <tr>\n      <th>15</th>\n      <td>202110</td>\n      <td>울산광역시</td>\n      <td>북구</td>\n      <td>합계</td>\n      <td>57,651</td>\n      <td>195,308,080</td>\n    </tr>\n    <tr>\n      <th>16</th>\n      <td>202111</td>\n      <td>울산광역시</td>\n      <td>북구</td>\n      <td>합계</td>\n      <td>58,049</td>\n      <td>195,353,625</td>\n    </tr>\n    <tr>\n      <th>17</th>\n      <td>202112</td>\n      <td>울산광역시</td>\n      <td>북구</td>\n      <td>합계</td>\n      <td>57,934</td>\n      <td>210,117,496</td>\n    </tr>\n    <tr>\n      <th>18</th>\n      <td>202107</td>\n      <td>울산광역시</td>\n      <td>울주군</td>\n      <td>합계</td>\n      <td>126,109</td>\n      <td>1,016,291,555</td>\n    </tr>\n    <tr>\n      <th>19</th>\n      <td>202108</td>\n      <td>울산광역시</td>\n      <td>울주군</td>\n      <td>합계</td>\n      <td>126,255</td>\n      <td>1,013,111,342</td>\n    </tr>\n    <tr>\n      <th>20</th>\n      <td>202109</td>\n      <td>울산광역시</td>\n      <td>울주군</td>\n      <td>합계</td>\n      <td>126,407</td>\n      <td>1,068,896,268</td>\n    </tr>\n    <tr>\n      <th>21</th>\n      <td>202110</td>\n      <td>울산광역시</td>\n      <td>울주군</td>\n      <td>합계</td>\n      <td>126,489</td>\n      <td>1,104,714,016</td>\n    </tr>\n    <tr>\n      <th>22</th>\n      <td>202111</td>\n      <td>울산광역시</td>\n      <td>울주군</td>\n      <td>합계</td>\n      <td>127,355</td>\n      <td>1,095,990,930</td>\n    </tr>\n    <tr>\n      <th>23</th>\n      <td>202112</td>\n      <td>울산광역시</td>\n      <td>울주군</td>\n      <td>합계</td>\n      <td>126,854</td>\n      <td>1,114,532,190</td>\n    </tr>\n    <tr>\n      <th>24</th>\n      <td>202107</td>\n      <td>울산광역시</td>\n      <td>중구</td>\n      <td>합계</td>\n      <td>92,502</td>\n      <td>60,326,935</td>\n    </tr>\n    <tr>\n      <th>25</th>\n      <td>202108</td>\n      <td>울산광역시</td>\n      <td>중구</td>\n      <td>합계</td>\n      <td>92,408</td>\n      <td>75,235,603</td>\n    </tr>\n    <tr>\n      <th>26</th>\n      <td>202109</td>\n      <td>울산광역시</td>\n      <td>중구</td>\n      <td>합계</td>\n      <td>92,345</td>\n      <td>64,377,761</td>\n    </tr>\n    <tr>\n      <th>27</th>\n      <td>202110</td>\n      <td>울산광역시</td>\n      <td>중구</td>\n      <td>합계</td>\n      <td>92,332</td>\n      <td>55,151,851</td>\n    </tr>\n    <tr>\n      <th>28</th>\n      <td>202111</td>\n      <td>울산광역시</td>\n      <td>중구</td>\n      <td>합계</td>\n      <td>92,377</td>\n      <td>54,813,034</td>\n    </tr>\n    <tr>\n      <th>29</th>\n      <td>202112</td>\n      <td>울산광역시</td>\n      <td>중구</td>\n      <td>합계</td>\n      <td>92,318</td>\n      <td>58,467,701</td>\n    </tr>\n    <tr>\n      <th>30</th>\n      <td>202107-202112</td>\n      <td>울산광역시</td>\n      <td>남구</td>\n      <td>합계</td>\n      <td>22493</td>\n      <td>8315426461</td>\n    </tr>\n    <tr>\n      <th>31</th>\n      <td>202107-202112</td>\n      <td>울산광역시</td>\n      <td>동구</td>\n      <td>합계</td>\n      <td>10049</td>\n      <td>762658631</td>\n    </tr>\n    <tr>\n      <th>32</th>\n      <td>202107-202112</td>\n      <td>울산광역시</td>\n      <td>북구</td>\n      <td>합계</td>\n      <td>9606</td>\n      <td>1245081872</td>\n    </tr>\n    <tr>\n      <th>33</th>\n      <td>202107-202112</td>\n      <td>울산광역시</td>\n      <td>울주군</td>\n      <td>합계</td>\n      <td>21096</td>\n      <td>6413536301</td>\n    </tr>\n    <tr>\n      <th>34</th>\n      <td>202107-202112</td>\n      <td>울산광역시</td>\n      <td>중구</td>\n      <td>합계</td>\n      <td>15396</td>\n      <td>368372885</td>\n    </tr>\n  </tbody>\n</table>\n</div>"
     },
     "execution_count": 15,
     "metadata": {},
     "output_type": "execute_result"
    }
   ],
   "source": [
    "Hap = df_4.copy()\n",
    "Hap.reset_index(drop=True , inplace = True)\n",
    "for i in range(len(SIGUNGU)):\n",
    "    Hap = Hap.append({'년월' :'202107-202112'  , '시구' : '{}'.format(City) , '시군구' : '{}'.format(SIGUNGU[i]) , '계약구분' : '합계' , '고객호수(호)' : sum3[i] ,  '사용량(kWh)' : sum2[i]} , ignore_index=True) #년월 파일마다 수정하기\n",
    "Hap"
   ],
   "metadata": {
    "collapsed": false,
    "pycharm": {
     "name": "#%%\n"
    }
   }
  },
  {
   "cell_type": "markdown",
   "source": [
    "### 3. 날짜 변경!!!!!!!!!!!!!!!!!!!!!!!!!!!!!!!"
   ],
   "metadata": {
    "collapsed": false,
    "pycharm": {
     "name": "#%% md\n"
    }
   }
  },
  {
   "cell_type": "code",
   "execution_count": 16,
   "outputs": [
    {
     "data": {
      "text/plain": "               년월     시구  시군구 계약구분 고객호수(호)    사용량(kWh)\n30  202107-202112  울산광역시   남구   합계   22493  8315426461\n31  202107-202112  울산광역시   동구   합계   10049   762658631\n32  202107-202112  울산광역시   북구   합계    9606  1245081872\n33  202107-202112  울산광역시  울주군   합계   21096  6413536301\n34  202107-202112  울산광역시   중구   합계   15396   368372885",
      "text/html": "<div>\n<style scoped>\n    .dataframe tbody tr th:only-of-type {\n        vertical-align: middle;\n    }\n\n    .dataframe tbody tr th {\n        vertical-align: top;\n    }\n\n    .dataframe thead th {\n        text-align: right;\n    }\n</style>\n<table border=\"1\" class=\"dataframe\">\n  <thead>\n    <tr style=\"text-align: right;\">\n      <th></th>\n      <th>년월</th>\n      <th>시구</th>\n      <th>시군구</th>\n      <th>계약구분</th>\n      <th>고객호수(호)</th>\n      <th>사용량(kWh)</th>\n    </tr>\n  </thead>\n  <tbody>\n    <tr>\n      <th>30</th>\n      <td>202107-202112</td>\n      <td>울산광역시</td>\n      <td>남구</td>\n      <td>합계</td>\n      <td>22493</td>\n      <td>8315426461</td>\n    </tr>\n    <tr>\n      <th>31</th>\n      <td>202107-202112</td>\n      <td>울산광역시</td>\n      <td>동구</td>\n      <td>합계</td>\n      <td>10049</td>\n      <td>762658631</td>\n    </tr>\n    <tr>\n      <th>32</th>\n      <td>202107-202112</td>\n      <td>울산광역시</td>\n      <td>북구</td>\n      <td>합계</td>\n      <td>9606</td>\n      <td>1245081872</td>\n    </tr>\n    <tr>\n      <th>33</th>\n      <td>202107-202112</td>\n      <td>울산광역시</td>\n      <td>울주군</td>\n      <td>합계</td>\n      <td>21096</td>\n      <td>6413536301</td>\n    </tr>\n    <tr>\n      <th>34</th>\n      <td>202107-202112</td>\n      <td>울산광역시</td>\n      <td>중구</td>\n      <td>합계</td>\n      <td>15396</td>\n      <td>368372885</td>\n    </tr>\n  </tbody>\n</table>\n</div>"
     },
     "execution_count": 16,
     "metadata": {},
     "output_type": "execute_result"
    }
   ],
   "source": [
    "Hap = Hap.loc[Hap['년월'] == '202107-202112']\n",
    "Hap"
   ],
   "metadata": {
    "collapsed": false,
    "pycharm": {
     "name": "#%%\n"
    }
   }
  },
  {
   "cell_type": "code",
   "execution_count": 17,
   "outputs": [],
   "source": [
    "# SIGUNGU = SIGUNGU[:1]\n",
    "# SIGUNGU\n",
    "#for i in SIGUNGU:\n",
    "#print('{}'.format(i))\n",
    "# df_3 = df_3.loc[(df_3['시군구'] == '가평군')]\n",
    "#\n",
    "# df_3"
   ],
   "metadata": {
    "collapsed": false,
    "pycharm": {
     "name": "#%%\n"
    }
   }
  },
  {
   "cell_type": "code",
   "execution_count": 18,
   "outputs": [
    {
     "data": {
      "text/plain": "['년월', '시구', '시군구', '계약구분', '고객호수(호)', '사용량(kWh)']"
     },
     "execution_count": 18,
     "metadata": {},
     "output_type": "execute_result"
    }
   ],
   "source": [
    "a = (df_3.columns).tolist()\n",
    "\n",
    "a"
   ],
   "metadata": {
    "collapsed": false,
    "pycharm": {
     "name": "#%%\n"
    }
   }
  },
  {
   "cell_type": "code",
   "execution_count": 19,
   "outputs": [
    {
     "data": {
      "text/plain": "         년월     시구  시군구 계약구분  고객호수(호)     사용량(kWh)\n53   202107  울산광역시   남구  일반용  25,156   66,153,368 \n93   202108  울산광역시   남구  일반용  25,198   77,928,112 \n133  202109  울산광역시   남구  일반용  25,168   67,319,230 \n173  202110  울산광역시   남구  일반용  25,144   58,011,907 \n213  202111  울산광역시   남구  일반용  25,153   54,770,702 \n253  202112  울산광역시   남구  일반용  25,193   60,592,100 \n61   202107  울산광역시   동구  일반용   7,722   20,088,577 \n101  202108  울산광역시   동구  일반용   7,735   23,881,193 \n141  202109  울산광역시   동구  일반용   7,725   21,080,802 \n181  202110  울산광역시   동구  일반용   7,719   18,516,957 \n221  202111  울산광역시   동구  일반용   7,721   17,345,572 \n261  202112  울산광역시   동구  일반용   7,731   18,280,012 \n69   202107  울산광역시   북구  일반용  10,401   29,246,772 \n109  202108  울산광역시   북구  일반용  10,437   33,435,059 \n149  202109  울산광역시   북구  일반용  10,465   29,596,557 \n189  202110  울산광역시   북구  일반용  10,495   26,245,165 \n229  202111  울산광역시   북구  일반용  10,555   25,478,588 \n269  202112  울산광역시   북구  일반용  10,601   27,707,209 \n77   202107  울산광역시  울주군  일반용  16,597   38,461,824 \n117  202108  울산광역시  울주군  일반용  16,617   45,427,456 \n157  202109  울산광역시  울주군  일반용  16,664   39,633,967 \n197  202110  울산광역시  울주군  일반용  16,676   35,998,918 \n237  202111  울산광역시  울주군  일반용  16,754   36,454,478 \n277  202112  울산광역시  울주군  일반용  16,878   39,642,035 \n85   202107  울산광역시   중구  일반용  13,586   28,888,064 \n125  202108  울산광역시   중구  일반용  13,591   33,741,441 \n165  202109  울산광역시   중구  일반용  13,566   29,082,425 \n205  202110  울산광역시   중구  일반용  13,557   25,497,738 \n245  202111  울산광역시   중구  일반용  13,578   24,425,010 \n285  202112  울산광역시   중구  일반용  13,565   26,559,902 ",
      "text/html": "<div>\n<style scoped>\n    .dataframe tbody tr th:only-of-type {\n        vertical-align: middle;\n    }\n\n    .dataframe tbody tr th {\n        vertical-align: top;\n    }\n\n    .dataframe thead th {\n        text-align: right;\n    }\n</style>\n<table border=\"1\" class=\"dataframe\">\n  <thead>\n    <tr style=\"text-align: right;\">\n      <th></th>\n      <th>년월</th>\n      <th>시구</th>\n      <th>시군구</th>\n      <th>계약구분</th>\n      <th>고객호수(호)</th>\n      <th>사용량(kWh)</th>\n    </tr>\n  </thead>\n  <tbody>\n    <tr>\n      <th>53</th>\n      <td>202107</td>\n      <td>울산광역시</td>\n      <td>남구</td>\n      <td>일반용</td>\n      <td>25,156</td>\n      <td>66,153,368</td>\n    </tr>\n    <tr>\n      <th>93</th>\n      <td>202108</td>\n      <td>울산광역시</td>\n      <td>남구</td>\n      <td>일반용</td>\n      <td>25,198</td>\n      <td>77,928,112</td>\n    </tr>\n    <tr>\n      <th>133</th>\n      <td>202109</td>\n      <td>울산광역시</td>\n      <td>남구</td>\n      <td>일반용</td>\n      <td>25,168</td>\n      <td>67,319,230</td>\n    </tr>\n    <tr>\n      <th>173</th>\n      <td>202110</td>\n      <td>울산광역시</td>\n      <td>남구</td>\n      <td>일반용</td>\n      <td>25,144</td>\n      <td>58,011,907</td>\n    </tr>\n    <tr>\n      <th>213</th>\n      <td>202111</td>\n      <td>울산광역시</td>\n      <td>남구</td>\n      <td>일반용</td>\n      <td>25,153</td>\n      <td>54,770,702</td>\n    </tr>\n    <tr>\n      <th>253</th>\n      <td>202112</td>\n      <td>울산광역시</td>\n      <td>남구</td>\n      <td>일반용</td>\n      <td>25,193</td>\n      <td>60,592,100</td>\n    </tr>\n    <tr>\n      <th>61</th>\n      <td>202107</td>\n      <td>울산광역시</td>\n      <td>동구</td>\n      <td>일반용</td>\n      <td>7,722</td>\n      <td>20,088,577</td>\n    </tr>\n    <tr>\n      <th>101</th>\n      <td>202108</td>\n      <td>울산광역시</td>\n      <td>동구</td>\n      <td>일반용</td>\n      <td>7,735</td>\n      <td>23,881,193</td>\n    </tr>\n    <tr>\n      <th>141</th>\n      <td>202109</td>\n      <td>울산광역시</td>\n      <td>동구</td>\n      <td>일반용</td>\n      <td>7,725</td>\n      <td>21,080,802</td>\n    </tr>\n    <tr>\n      <th>181</th>\n      <td>202110</td>\n      <td>울산광역시</td>\n      <td>동구</td>\n      <td>일반용</td>\n      <td>7,719</td>\n      <td>18,516,957</td>\n    </tr>\n    <tr>\n      <th>221</th>\n      <td>202111</td>\n      <td>울산광역시</td>\n      <td>동구</td>\n      <td>일반용</td>\n      <td>7,721</td>\n      <td>17,345,572</td>\n    </tr>\n    <tr>\n      <th>261</th>\n      <td>202112</td>\n      <td>울산광역시</td>\n      <td>동구</td>\n      <td>일반용</td>\n      <td>7,731</td>\n      <td>18,280,012</td>\n    </tr>\n    <tr>\n      <th>69</th>\n      <td>202107</td>\n      <td>울산광역시</td>\n      <td>북구</td>\n      <td>일반용</td>\n      <td>10,401</td>\n      <td>29,246,772</td>\n    </tr>\n    <tr>\n      <th>109</th>\n      <td>202108</td>\n      <td>울산광역시</td>\n      <td>북구</td>\n      <td>일반용</td>\n      <td>10,437</td>\n      <td>33,435,059</td>\n    </tr>\n    <tr>\n      <th>149</th>\n      <td>202109</td>\n      <td>울산광역시</td>\n      <td>북구</td>\n      <td>일반용</td>\n      <td>10,465</td>\n      <td>29,596,557</td>\n    </tr>\n    <tr>\n      <th>189</th>\n      <td>202110</td>\n      <td>울산광역시</td>\n      <td>북구</td>\n      <td>일반용</td>\n      <td>10,495</td>\n      <td>26,245,165</td>\n    </tr>\n    <tr>\n      <th>229</th>\n      <td>202111</td>\n      <td>울산광역시</td>\n      <td>북구</td>\n      <td>일반용</td>\n      <td>10,555</td>\n      <td>25,478,588</td>\n    </tr>\n    <tr>\n      <th>269</th>\n      <td>202112</td>\n      <td>울산광역시</td>\n      <td>북구</td>\n      <td>일반용</td>\n      <td>10,601</td>\n      <td>27,707,209</td>\n    </tr>\n    <tr>\n      <th>77</th>\n      <td>202107</td>\n      <td>울산광역시</td>\n      <td>울주군</td>\n      <td>일반용</td>\n      <td>16,597</td>\n      <td>38,461,824</td>\n    </tr>\n    <tr>\n      <th>117</th>\n      <td>202108</td>\n      <td>울산광역시</td>\n      <td>울주군</td>\n      <td>일반용</td>\n      <td>16,617</td>\n      <td>45,427,456</td>\n    </tr>\n    <tr>\n      <th>157</th>\n      <td>202109</td>\n      <td>울산광역시</td>\n      <td>울주군</td>\n      <td>일반용</td>\n      <td>16,664</td>\n      <td>39,633,967</td>\n    </tr>\n    <tr>\n      <th>197</th>\n      <td>202110</td>\n      <td>울산광역시</td>\n      <td>울주군</td>\n      <td>일반용</td>\n      <td>16,676</td>\n      <td>35,998,918</td>\n    </tr>\n    <tr>\n      <th>237</th>\n      <td>202111</td>\n      <td>울산광역시</td>\n      <td>울주군</td>\n      <td>일반용</td>\n      <td>16,754</td>\n      <td>36,454,478</td>\n    </tr>\n    <tr>\n      <th>277</th>\n      <td>202112</td>\n      <td>울산광역시</td>\n      <td>울주군</td>\n      <td>일반용</td>\n      <td>16,878</td>\n      <td>39,642,035</td>\n    </tr>\n    <tr>\n      <th>85</th>\n      <td>202107</td>\n      <td>울산광역시</td>\n      <td>중구</td>\n      <td>일반용</td>\n      <td>13,586</td>\n      <td>28,888,064</td>\n    </tr>\n    <tr>\n      <th>125</th>\n      <td>202108</td>\n      <td>울산광역시</td>\n      <td>중구</td>\n      <td>일반용</td>\n      <td>13,591</td>\n      <td>33,741,441</td>\n    </tr>\n    <tr>\n      <th>165</th>\n      <td>202109</td>\n      <td>울산광역시</td>\n      <td>중구</td>\n      <td>일반용</td>\n      <td>13,566</td>\n      <td>29,082,425</td>\n    </tr>\n    <tr>\n      <th>205</th>\n      <td>202110</td>\n      <td>울산광역시</td>\n      <td>중구</td>\n      <td>일반용</td>\n      <td>13,557</td>\n      <td>25,497,738</td>\n    </tr>\n    <tr>\n      <th>245</th>\n      <td>202111</td>\n      <td>울산광역시</td>\n      <td>중구</td>\n      <td>일반용</td>\n      <td>13,578</td>\n      <td>24,425,010</td>\n    </tr>\n    <tr>\n      <th>285</th>\n      <td>202112</td>\n      <td>울산광역시</td>\n      <td>중구</td>\n      <td>일반용</td>\n      <td>13,565</td>\n      <td>26,559,902</td>\n    </tr>\n  </tbody>\n</table>\n</div>"
     },
     "execution_count": 19,
     "metadata": {},
     "output_type": "execute_result"
    }
   ],
   "source": [
    "df_3"
   ],
   "metadata": {
    "collapsed": false,
    "pycharm": {
     "name": "#%%\n"
    }
   }
  },
  {
   "cell_type": "code",
   "execution_count": 20,
   "outputs": [],
   "source": [
    "# GyeonGiHap = pd.DataFrame([] , columns = a)\n",
    "# GyeonGiHap['사용량']= df_3['사용량(kWh)'].loc[(df_3['시군구'] == '{가평군}')]\n",
    "# GyeonGiHap"
   ],
   "metadata": {
    "collapsed": false,
    "pycharm": {
     "name": "#%%\n"
    }
   }
  },
  {
   "cell_type": "code",
   "execution_count": 21,
   "outputs": [
    {
     "name": "stdout",
     "output_type": "stream",
     "text": [
      "[66153368, 77928112, 67319230, 58011907, 54770702, 60592100]\n",
      "[20088577, 23881193, 21080802, 18516957, 17345572, 18280012]\n",
      "[29246772, 33435059, 29596557, 26245165, 25478588, 27707209]\n",
      "[38461824, 45427456, 39633967, 35998918, 36454478, 39642035]\n",
      "[28888064, 33741441, 29082425, 25497738, 24425010, 26559902]\n",
      "울산광역시 지역별 일반용 합계 :  [384775419, 119193113, 171709350, 235618678, 168194580]\n",
      "울산광역시 고객호수 평균:  [25168, 7725, 10492, 16697, 13573]\n"
     ]
    }
   ],
   "source": [
    "sum2 , sum3 =[] , []\n",
    "for k in SIGUNGU:\n",
    "    GyeonGiHap = pd.DataFrame([] , columns = a)\n",
    "    HOSU = pd.DataFrame([], columns = a)\n",
    "    GyeonGiHap['사용량']= df_3['사용량(kWh)'].loc[(df_3['시군구'] == '{}'.format(k))]\n",
    "    HOSU['고객호수']= df_3['고객호수(호)'].loc[(df_3['시군구'] == '{}'.format(k))]\n",
    "    #경기합 데이터프레임의 사용량 열에 기군구가 가평군인 사용량 데이터만 뽑아내기\n",
    "    # GyeonGiHap = GyeonGiHap['사용량']\n",
    "\n",
    "    b = GyeonGiHap['사용량'].tolist()\n",
    "    c = HOSU['고객호수'].tolist()\n",
    "\n",
    "\n",
    "    #각지역별 사용량 리스트화\n",
    "    int_list  , int_list2=[] , []\n",
    "    for i in b:\n",
    "        i = re.sub(\",\" , \"\" , i)\n",
    "        #콤마 없애기\n",
    "        int_list.append(int(i))\n",
    "        #int_list에 각지역별 사용량 int로 저장\n",
    "    print(int_list)\n",
    "    sum=0\n",
    "    for i in c:\n",
    "        i = re.sub(\",\" , \"\" , i)\n",
    "        int_list2.append(int(i))\n",
    "\n",
    "    for j in int_list:\n",
    "\n",
    "        sum+= j\n",
    "    sum2.append(sum)\n",
    "    sum = 0\n",
    "    for j in int_list2: #고객호수 추출하여 더하기\n",
    "\n",
    "        sum+= j\n",
    "    sum3.append(sum//6) #6개월 치로 나눠야하나?!\n",
    "\n",
    "\n",
    "\n",
    "\n",
    "print(\"{} 지역별 일반용 합계 : \".format(City) , sum2)\n",
    "print(\"{} 고객호수 평균: \".format(City) , sum3)\n",
    "# GyeonGiHap['합계'] = sum\n",
    "#\n",
    "# GyeonGiHap"
   ],
   "metadata": {
    "collapsed": false,
    "pycharm": {
     "name": "#%%\n"
    }
   }
  },
  {
   "cell_type": "code",
   "execution_count": 22,
   "outputs": [],
   "source": [
    "# df_3 = df_3.loc[(df_3['시군구'] == '가평군')]\n",
    "#\n",
    "# df_3"
   ],
   "metadata": {
    "collapsed": false,
    "pycharm": {
     "name": "#%%\n"
    }
   }
  },
  {
   "cell_type": "code",
   "execution_count": 23,
   "outputs": [],
   "source": [
    "# GyeonGiHap = df_3.copy()\n",
    "# GyeonGiHap.reset_index(drop=True , inplace = True)\n",
    "# GyeonGiHap.append({'년월' : '202107-202112'  , '시구' : '경기도' , '시군구' : '가평군' , '계약구분' : '일반용' , '사용량(kWh)' : sum}, ignore_index=True)"
   ],
   "metadata": {
    "collapsed": false,
    "pycharm": {
     "name": "#%%\n"
    }
   }
  },
  {
   "cell_type": "code",
   "execution_count": 24,
   "outputs": [],
   "source": [
    "# a=[]\n",
    "# for i in SIGUNGU:\n",
    "#     a.append(i)\n",
    "#\n",
    "# print(a)"
   ],
   "metadata": {
    "collapsed": false,
    "pycharm": {
     "name": "#%%\n"
    }
   }
  },
  {
   "cell_type": "markdown",
   "source": [
    "### 4. 년월 체크!!!!!!!!!!!!!!!!!!!!!!!!!!!!!!!!!!!!!!!!!!!!!!!!!!!!!!!!!!!!!!!!!"
   ],
   "metadata": {
    "collapsed": false,
    "pycharm": {
     "name": "#%% md\n"
    }
   }
  },
  {
   "cell_type": "code",
   "execution_count": 25,
   "outputs": [
    {
     "name": "stderr",
     "output_type": "stream",
     "text": [
      "C:\\Users\\user\\AppData\\Local\\Temp\\ipykernel_13192\\2943201010.py:4: FutureWarning: The frame.append method is deprecated and will be removed from pandas in a future version. Use pandas.concat instead.\n",
      "  GyeonGiHap2 = GyeonGiHap2.append({'년월' :'202107-202112'  , '시구' : '{}'.format(City) , '시군구' : '{}'.format(SIGUNGU[i]) , '계약구분' : '일반용' , '고객호수(호)' : sum3[i] ,  '사용량(kWh)' : sum2[i]} , ignore_index=True) #년월 파일마다 수정하기\n",
      "C:\\Users\\user\\AppData\\Local\\Temp\\ipykernel_13192\\2943201010.py:4: FutureWarning: The frame.append method is deprecated and will be removed from pandas in a future version. Use pandas.concat instead.\n",
      "  GyeonGiHap2 = GyeonGiHap2.append({'년월' :'202107-202112'  , '시구' : '{}'.format(City) , '시군구' : '{}'.format(SIGUNGU[i]) , '계약구분' : '일반용' , '고객호수(호)' : sum3[i] ,  '사용량(kWh)' : sum2[i]} , ignore_index=True) #년월 파일마다 수정하기\n",
      "C:\\Users\\user\\AppData\\Local\\Temp\\ipykernel_13192\\2943201010.py:4: FutureWarning: The frame.append method is deprecated and will be removed from pandas in a future version. Use pandas.concat instead.\n",
      "  GyeonGiHap2 = GyeonGiHap2.append({'년월' :'202107-202112'  , '시구' : '{}'.format(City) , '시군구' : '{}'.format(SIGUNGU[i]) , '계약구분' : '일반용' , '고객호수(호)' : sum3[i] ,  '사용량(kWh)' : sum2[i]} , ignore_index=True) #년월 파일마다 수정하기\n",
      "C:\\Users\\user\\AppData\\Local\\Temp\\ipykernel_13192\\2943201010.py:4: FutureWarning: The frame.append method is deprecated and will be removed from pandas in a future version. Use pandas.concat instead.\n",
      "  GyeonGiHap2 = GyeonGiHap2.append({'년월' :'202107-202112'  , '시구' : '{}'.format(City) , '시군구' : '{}'.format(SIGUNGU[i]) , '계약구분' : '일반용' , '고객호수(호)' : sum3[i] ,  '사용량(kWh)' : sum2[i]} , ignore_index=True) #년월 파일마다 수정하기\n",
      "C:\\Users\\user\\AppData\\Local\\Temp\\ipykernel_13192\\2943201010.py:4: FutureWarning: The frame.append method is deprecated and will be removed from pandas in a future version. Use pandas.concat instead.\n",
      "  GyeonGiHap2 = GyeonGiHap2.append({'년월' :'202107-202112'  , '시구' : '{}'.format(City) , '시군구' : '{}'.format(SIGUNGU[i]) , '계약구분' : '일반용' , '고객호수(호)' : sum3[i] ,  '사용량(kWh)' : sum2[i]} , ignore_index=True) #년월 파일마다 수정하기\n"
     ]
    },
    {
     "data": {
      "text/plain": "               년월     시구  시군구 계약구분  고객호수(호)     사용량(kWh)\n0          202107  울산광역시   남구  일반용  25,156   66,153,368 \n1          202108  울산광역시   남구  일반용  25,198   77,928,112 \n2          202109  울산광역시   남구  일반용  25,168   67,319,230 \n3          202110  울산광역시   남구  일반용  25,144   58,011,907 \n4          202111  울산광역시   남구  일반용  25,153   54,770,702 \n5          202112  울산광역시   남구  일반용  25,193   60,592,100 \n6          202107  울산광역시   동구  일반용   7,722   20,088,577 \n7          202108  울산광역시   동구  일반용   7,735   23,881,193 \n8          202109  울산광역시   동구  일반용   7,725   21,080,802 \n9          202110  울산광역시   동구  일반용   7,719   18,516,957 \n10         202111  울산광역시   동구  일반용   7,721   17,345,572 \n11         202112  울산광역시   동구  일반용   7,731   18,280,012 \n12         202107  울산광역시   북구  일반용  10,401   29,246,772 \n13         202108  울산광역시   북구  일반용  10,437   33,435,059 \n14         202109  울산광역시   북구  일반용  10,465   29,596,557 \n15         202110  울산광역시   북구  일반용  10,495   26,245,165 \n16         202111  울산광역시   북구  일반용  10,555   25,478,588 \n17         202112  울산광역시   북구  일반용  10,601   27,707,209 \n18         202107  울산광역시  울주군  일반용  16,597   38,461,824 \n19         202108  울산광역시  울주군  일반용  16,617   45,427,456 \n20         202109  울산광역시  울주군  일반용  16,664   39,633,967 \n21         202110  울산광역시  울주군  일반용  16,676   35,998,918 \n22         202111  울산광역시  울주군  일반용  16,754   36,454,478 \n23         202112  울산광역시  울주군  일반용  16,878   39,642,035 \n24         202107  울산광역시   중구  일반용  13,586   28,888,064 \n25         202108  울산광역시   중구  일반용  13,591   33,741,441 \n26         202109  울산광역시   중구  일반용  13,566   29,082,425 \n27         202110  울산광역시   중구  일반용  13,557   25,497,738 \n28         202111  울산광역시   중구  일반용  13,578   24,425,010 \n29         202112  울산광역시   중구  일반용  13,565   26,559,902 \n30  202107-202112  울산광역시   남구  일반용    25168    384775419\n31  202107-202112  울산광역시   동구  일반용     7725    119193113\n32  202107-202112  울산광역시   북구  일반용    10492    171709350\n33  202107-202112  울산광역시  울주군  일반용    16697    235618678\n34  202107-202112  울산광역시   중구  일반용    13573    168194580",
      "text/html": "<div>\n<style scoped>\n    .dataframe tbody tr th:only-of-type {\n        vertical-align: middle;\n    }\n\n    .dataframe tbody tr th {\n        vertical-align: top;\n    }\n\n    .dataframe thead th {\n        text-align: right;\n    }\n</style>\n<table border=\"1\" class=\"dataframe\">\n  <thead>\n    <tr style=\"text-align: right;\">\n      <th></th>\n      <th>년월</th>\n      <th>시구</th>\n      <th>시군구</th>\n      <th>계약구분</th>\n      <th>고객호수(호)</th>\n      <th>사용량(kWh)</th>\n    </tr>\n  </thead>\n  <tbody>\n    <tr>\n      <th>0</th>\n      <td>202107</td>\n      <td>울산광역시</td>\n      <td>남구</td>\n      <td>일반용</td>\n      <td>25,156</td>\n      <td>66,153,368</td>\n    </tr>\n    <tr>\n      <th>1</th>\n      <td>202108</td>\n      <td>울산광역시</td>\n      <td>남구</td>\n      <td>일반용</td>\n      <td>25,198</td>\n      <td>77,928,112</td>\n    </tr>\n    <tr>\n      <th>2</th>\n      <td>202109</td>\n      <td>울산광역시</td>\n      <td>남구</td>\n      <td>일반용</td>\n      <td>25,168</td>\n      <td>67,319,230</td>\n    </tr>\n    <tr>\n      <th>3</th>\n      <td>202110</td>\n      <td>울산광역시</td>\n      <td>남구</td>\n      <td>일반용</td>\n      <td>25,144</td>\n      <td>58,011,907</td>\n    </tr>\n    <tr>\n      <th>4</th>\n      <td>202111</td>\n      <td>울산광역시</td>\n      <td>남구</td>\n      <td>일반용</td>\n      <td>25,153</td>\n      <td>54,770,702</td>\n    </tr>\n    <tr>\n      <th>5</th>\n      <td>202112</td>\n      <td>울산광역시</td>\n      <td>남구</td>\n      <td>일반용</td>\n      <td>25,193</td>\n      <td>60,592,100</td>\n    </tr>\n    <tr>\n      <th>6</th>\n      <td>202107</td>\n      <td>울산광역시</td>\n      <td>동구</td>\n      <td>일반용</td>\n      <td>7,722</td>\n      <td>20,088,577</td>\n    </tr>\n    <tr>\n      <th>7</th>\n      <td>202108</td>\n      <td>울산광역시</td>\n      <td>동구</td>\n      <td>일반용</td>\n      <td>7,735</td>\n      <td>23,881,193</td>\n    </tr>\n    <tr>\n      <th>8</th>\n      <td>202109</td>\n      <td>울산광역시</td>\n      <td>동구</td>\n      <td>일반용</td>\n      <td>7,725</td>\n      <td>21,080,802</td>\n    </tr>\n    <tr>\n      <th>9</th>\n      <td>202110</td>\n      <td>울산광역시</td>\n      <td>동구</td>\n      <td>일반용</td>\n      <td>7,719</td>\n      <td>18,516,957</td>\n    </tr>\n    <tr>\n      <th>10</th>\n      <td>202111</td>\n      <td>울산광역시</td>\n      <td>동구</td>\n      <td>일반용</td>\n      <td>7,721</td>\n      <td>17,345,572</td>\n    </tr>\n    <tr>\n      <th>11</th>\n      <td>202112</td>\n      <td>울산광역시</td>\n      <td>동구</td>\n      <td>일반용</td>\n      <td>7,731</td>\n      <td>18,280,012</td>\n    </tr>\n    <tr>\n      <th>12</th>\n      <td>202107</td>\n      <td>울산광역시</td>\n      <td>북구</td>\n      <td>일반용</td>\n      <td>10,401</td>\n      <td>29,246,772</td>\n    </tr>\n    <tr>\n      <th>13</th>\n      <td>202108</td>\n      <td>울산광역시</td>\n      <td>북구</td>\n      <td>일반용</td>\n      <td>10,437</td>\n      <td>33,435,059</td>\n    </tr>\n    <tr>\n      <th>14</th>\n      <td>202109</td>\n      <td>울산광역시</td>\n      <td>북구</td>\n      <td>일반용</td>\n      <td>10,465</td>\n      <td>29,596,557</td>\n    </tr>\n    <tr>\n      <th>15</th>\n      <td>202110</td>\n      <td>울산광역시</td>\n      <td>북구</td>\n      <td>일반용</td>\n      <td>10,495</td>\n      <td>26,245,165</td>\n    </tr>\n    <tr>\n      <th>16</th>\n      <td>202111</td>\n      <td>울산광역시</td>\n      <td>북구</td>\n      <td>일반용</td>\n      <td>10,555</td>\n      <td>25,478,588</td>\n    </tr>\n    <tr>\n      <th>17</th>\n      <td>202112</td>\n      <td>울산광역시</td>\n      <td>북구</td>\n      <td>일반용</td>\n      <td>10,601</td>\n      <td>27,707,209</td>\n    </tr>\n    <tr>\n      <th>18</th>\n      <td>202107</td>\n      <td>울산광역시</td>\n      <td>울주군</td>\n      <td>일반용</td>\n      <td>16,597</td>\n      <td>38,461,824</td>\n    </tr>\n    <tr>\n      <th>19</th>\n      <td>202108</td>\n      <td>울산광역시</td>\n      <td>울주군</td>\n      <td>일반용</td>\n      <td>16,617</td>\n      <td>45,427,456</td>\n    </tr>\n    <tr>\n      <th>20</th>\n      <td>202109</td>\n      <td>울산광역시</td>\n      <td>울주군</td>\n      <td>일반용</td>\n      <td>16,664</td>\n      <td>39,633,967</td>\n    </tr>\n    <tr>\n      <th>21</th>\n      <td>202110</td>\n      <td>울산광역시</td>\n      <td>울주군</td>\n      <td>일반용</td>\n      <td>16,676</td>\n      <td>35,998,918</td>\n    </tr>\n    <tr>\n      <th>22</th>\n      <td>202111</td>\n      <td>울산광역시</td>\n      <td>울주군</td>\n      <td>일반용</td>\n      <td>16,754</td>\n      <td>36,454,478</td>\n    </tr>\n    <tr>\n      <th>23</th>\n      <td>202112</td>\n      <td>울산광역시</td>\n      <td>울주군</td>\n      <td>일반용</td>\n      <td>16,878</td>\n      <td>39,642,035</td>\n    </tr>\n    <tr>\n      <th>24</th>\n      <td>202107</td>\n      <td>울산광역시</td>\n      <td>중구</td>\n      <td>일반용</td>\n      <td>13,586</td>\n      <td>28,888,064</td>\n    </tr>\n    <tr>\n      <th>25</th>\n      <td>202108</td>\n      <td>울산광역시</td>\n      <td>중구</td>\n      <td>일반용</td>\n      <td>13,591</td>\n      <td>33,741,441</td>\n    </tr>\n    <tr>\n      <th>26</th>\n      <td>202109</td>\n      <td>울산광역시</td>\n      <td>중구</td>\n      <td>일반용</td>\n      <td>13,566</td>\n      <td>29,082,425</td>\n    </tr>\n    <tr>\n      <th>27</th>\n      <td>202110</td>\n      <td>울산광역시</td>\n      <td>중구</td>\n      <td>일반용</td>\n      <td>13,557</td>\n      <td>25,497,738</td>\n    </tr>\n    <tr>\n      <th>28</th>\n      <td>202111</td>\n      <td>울산광역시</td>\n      <td>중구</td>\n      <td>일반용</td>\n      <td>13,578</td>\n      <td>24,425,010</td>\n    </tr>\n    <tr>\n      <th>29</th>\n      <td>202112</td>\n      <td>울산광역시</td>\n      <td>중구</td>\n      <td>일반용</td>\n      <td>13,565</td>\n      <td>26,559,902</td>\n    </tr>\n    <tr>\n      <th>30</th>\n      <td>202107-202112</td>\n      <td>울산광역시</td>\n      <td>남구</td>\n      <td>일반용</td>\n      <td>25168</td>\n      <td>384775419</td>\n    </tr>\n    <tr>\n      <th>31</th>\n      <td>202107-202112</td>\n      <td>울산광역시</td>\n      <td>동구</td>\n      <td>일반용</td>\n      <td>7725</td>\n      <td>119193113</td>\n    </tr>\n    <tr>\n      <th>32</th>\n      <td>202107-202112</td>\n      <td>울산광역시</td>\n      <td>북구</td>\n      <td>일반용</td>\n      <td>10492</td>\n      <td>171709350</td>\n    </tr>\n    <tr>\n      <th>33</th>\n      <td>202107-202112</td>\n      <td>울산광역시</td>\n      <td>울주군</td>\n      <td>일반용</td>\n      <td>16697</td>\n      <td>235618678</td>\n    </tr>\n    <tr>\n      <th>34</th>\n      <td>202107-202112</td>\n      <td>울산광역시</td>\n      <td>중구</td>\n      <td>일반용</td>\n      <td>13573</td>\n      <td>168194580</td>\n    </tr>\n  </tbody>\n</table>\n</div>"
     },
     "execution_count": 25,
     "metadata": {},
     "output_type": "execute_result"
    }
   ],
   "source": [
    "GyeonGiHap2 = df_3.copy()\n",
    "GyeonGiHap2.reset_index(drop=True , inplace = True)\n",
    "for i in range(len(SIGUNGU)):\n",
    "    GyeonGiHap2 = GyeonGiHap2.append({'년월' :'202107-202112'  , '시구' : '{}'.format(City) , '시군구' : '{}'.format(SIGUNGU[i]) , '계약구분' : '일반용' , '고객호수(호)' : sum3[i] ,  '사용량(kWh)' : sum2[i]} , ignore_index=True) #년월 파일마다 수정하기\n",
    "GyeonGiHap2"
   ],
   "metadata": {
    "collapsed": false,
    "pycharm": {
     "name": "#%%\n"
    }
   }
  },
  {
   "cell_type": "markdown",
   "source": [
    "### 5. 날짜 체크!!!!!!!!!!!!!!!!!!!!!!!!!!!!!!!!!!!!!!!!!!!!!!!!!!!!"
   ],
   "metadata": {
    "collapsed": false,
    "pycharm": {
     "name": "#%% md\n"
    }
   }
  },
  {
   "cell_type": "code",
   "execution_count": 26,
   "outputs": [
    {
     "data": {
      "text/plain": "               년월     시구  시군구 계약구분 고객호수(호)   사용량(kWh)\n30  202107-202112  울산광역시   남구  일반용   25168  384775419\n31  202107-202112  울산광역시   동구  일반용    7725  119193113\n32  202107-202112  울산광역시   북구  일반용   10492  171709350\n33  202107-202112  울산광역시  울주군  일반용   16697  235618678\n34  202107-202112  울산광역시   중구  일반용   13573  168194580",
      "text/html": "<div>\n<style scoped>\n    .dataframe tbody tr th:only-of-type {\n        vertical-align: middle;\n    }\n\n    .dataframe tbody tr th {\n        vertical-align: top;\n    }\n\n    .dataframe thead th {\n        text-align: right;\n    }\n</style>\n<table border=\"1\" class=\"dataframe\">\n  <thead>\n    <tr style=\"text-align: right;\">\n      <th></th>\n      <th>년월</th>\n      <th>시구</th>\n      <th>시군구</th>\n      <th>계약구분</th>\n      <th>고객호수(호)</th>\n      <th>사용량(kWh)</th>\n    </tr>\n  </thead>\n  <tbody>\n    <tr>\n      <th>30</th>\n      <td>202107-202112</td>\n      <td>울산광역시</td>\n      <td>남구</td>\n      <td>일반용</td>\n      <td>25168</td>\n      <td>384775419</td>\n    </tr>\n    <tr>\n      <th>31</th>\n      <td>202107-202112</td>\n      <td>울산광역시</td>\n      <td>동구</td>\n      <td>일반용</td>\n      <td>7725</td>\n      <td>119193113</td>\n    </tr>\n    <tr>\n      <th>32</th>\n      <td>202107-202112</td>\n      <td>울산광역시</td>\n      <td>북구</td>\n      <td>일반용</td>\n      <td>10492</td>\n      <td>171709350</td>\n    </tr>\n    <tr>\n      <th>33</th>\n      <td>202107-202112</td>\n      <td>울산광역시</td>\n      <td>울주군</td>\n      <td>일반용</td>\n      <td>16697</td>\n      <td>235618678</td>\n    </tr>\n    <tr>\n      <th>34</th>\n      <td>202107-202112</td>\n      <td>울산광역시</td>\n      <td>중구</td>\n      <td>일반용</td>\n      <td>13573</td>\n      <td>168194580</td>\n    </tr>\n  </tbody>\n</table>\n</div>"
     },
     "execution_count": 26,
     "metadata": {},
     "output_type": "execute_result"
    }
   ],
   "source": [
    "GyeonGiHap2 = GyeonGiHap2.loc[GyeonGiHap2['년월'] == '202107-202112']\n",
    "GyeonGiHap2"
   ],
   "metadata": {
    "collapsed": false,
    "pycharm": {
     "name": "#%%\n"
    }
   }
  },
  {
   "cell_type": "code",
   "execution_count": 27,
   "outputs": [
    {
     "data": {
      "text/plain": "               년월     시구  시군구 계약구분 고객호수(호)    사용량(kWh)\n30  202107-202112  울산광역시   남구  일반용   25168   384775419\n30  202107-202112  울산광역시   남구   합계   22493  8315426461\n31  202107-202112  울산광역시   동구  일반용    7725   119193113\n31  202107-202112  울산광역시   동구   합계   10049   762658631\n32  202107-202112  울산광역시   북구  일반용   10492   171709350\n32  202107-202112  울산광역시   북구   합계    9606  1245081872\n33  202107-202112  울산광역시  울주군  일반용   16697   235618678\n33  202107-202112  울산광역시  울주군   합계   21096  6413536301\n34  202107-202112  울산광역시   중구  일반용   13573   168194580\n34  202107-202112  울산광역시   중구   합계   15396   368372885",
      "text/html": "<div>\n<style scoped>\n    .dataframe tbody tr th:only-of-type {\n        vertical-align: middle;\n    }\n\n    .dataframe tbody tr th {\n        vertical-align: top;\n    }\n\n    .dataframe thead th {\n        text-align: right;\n    }\n</style>\n<table border=\"1\" class=\"dataframe\">\n  <thead>\n    <tr style=\"text-align: right;\">\n      <th></th>\n      <th>년월</th>\n      <th>시구</th>\n      <th>시군구</th>\n      <th>계약구분</th>\n      <th>고객호수(호)</th>\n      <th>사용량(kWh)</th>\n    </tr>\n  </thead>\n  <tbody>\n    <tr>\n      <th>30</th>\n      <td>202107-202112</td>\n      <td>울산광역시</td>\n      <td>남구</td>\n      <td>일반용</td>\n      <td>25168</td>\n      <td>384775419</td>\n    </tr>\n    <tr>\n      <th>30</th>\n      <td>202107-202112</td>\n      <td>울산광역시</td>\n      <td>남구</td>\n      <td>합계</td>\n      <td>22493</td>\n      <td>8315426461</td>\n    </tr>\n    <tr>\n      <th>31</th>\n      <td>202107-202112</td>\n      <td>울산광역시</td>\n      <td>동구</td>\n      <td>일반용</td>\n      <td>7725</td>\n      <td>119193113</td>\n    </tr>\n    <tr>\n      <th>31</th>\n      <td>202107-202112</td>\n      <td>울산광역시</td>\n      <td>동구</td>\n      <td>합계</td>\n      <td>10049</td>\n      <td>762658631</td>\n    </tr>\n    <tr>\n      <th>32</th>\n      <td>202107-202112</td>\n      <td>울산광역시</td>\n      <td>북구</td>\n      <td>일반용</td>\n      <td>10492</td>\n      <td>171709350</td>\n    </tr>\n    <tr>\n      <th>32</th>\n      <td>202107-202112</td>\n      <td>울산광역시</td>\n      <td>북구</td>\n      <td>합계</td>\n      <td>9606</td>\n      <td>1245081872</td>\n    </tr>\n    <tr>\n      <th>33</th>\n      <td>202107-202112</td>\n      <td>울산광역시</td>\n      <td>울주군</td>\n      <td>일반용</td>\n      <td>16697</td>\n      <td>235618678</td>\n    </tr>\n    <tr>\n      <th>33</th>\n      <td>202107-202112</td>\n      <td>울산광역시</td>\n      <td>울주군</td>\n      <td>합계</td>\n      <td>21096</td>\n      <td>6413536301</td>\n    </tr>\n    <tr>\n      <th>34</th>\n      <td>202107-202112</td>\n      <td>울산광역시</td>\n      <td>중구</td>\n      <td>일반용</td>\n      <td>13573</td>\n      <td>168194580</td>\n    </tr>\n    <tr>\n      <th>34</th>\n      <td>202107-202112</td>\n      <td>울산광역시</td>\n      <td>중구</td>\n      <td>합계</td>\n      <td>15396</td>\n      <td>368372885</td>\n    </tr>\n  </tbody>\n</table>\n</div>"
     },
     "execution_count": 27,
     "metadata": {},
     "output_type": "execute_result"
    }
   ],
   "source": [
    "Final = pd.concat([GyeonGiHap2 , Hap])\n",
    "Final = Final.sort_values('시군구')\n",
    "Final"
   ],
   "metadata": {
    "collapsed": false,
    "pycharm": {
     "name": "#%%\n"
    }
   }
  },
  {
   "cell_type": "code",
   "execution_count": 28,
   "outputs": [
    {
     "data": {
      "text/plain": "[384775419, 119193113, 171709350, 235618678, 168194580]"
     },
     "execution_count": 28,
     "metadata": {},
     "output_type": "execute_result"
    }
   ],
   "source": [
    "# Final['일반용 전기의 비율'] = (Final['사용량(kWh)'].loc[Final['계약구분'] == '일반용']) // (Final['사용량(kWh)'].loc[Final['계약구분'] == '합계'])\n",
    "# Final\n",
    "ex = (Final['사용량(kWh)'].loc[Final['계약구분'] == '일반용']).tolist()\n",
    "\n",
    "\n",
    "ex\n"
   ],
   "metadata": {
    "collapsed": false,
    "pycharm": {
     "name": "#%%\n"
    }
   }
  },
  {
   "cell_type": "code",
   "execution_count": 29,
   "outputs": [
    {
     "data": {
      "text/plain": "[8315426461, 762658631, 1245081872, 6413536301, 368372885]"
     },
     "execution_count": 29,
     "metadata": {},
     "output_type": "execute_result"
    }
   ],
   "source": [
    "ex_2 =(Final['사용량(kWh)'].loc[Final['계약구분'] == '합계']).tolist()\n",
    "ex_2"
   ],
   "metadata": {
    "collapsed": false,
    "pycharm": {
     "name": "#%%\n"
    }
   }
  },
  {
   "cell_type": "code",
   "execution_count": 30,
   "outputs": [
    {
     "name": "stdout",
     "output_type": "stream",
     "text": [
      "[4.63, 15.63, 13.79, 3.67, 45.66]\n"
     ]
    }
   ],
   "source": [
    "Rate = []\n",
    "ilban = []\n",
    "rae = 0\n",
    "for i in range(len(ex)):\n",
    "    rae = round(ex[i] / ex_2[i] *100 ,2)\n",
    "    Rate.append(rae)\n",
    "print(Rate)"
   ],
   "metadata": {
    "collapsed": false,
    "pycharm": {
     "name": "#%%\n"
    }
   }
  },
  {
   "cell_type": "code",
   "execution_count": 31,
   "outputs": [
    {
     "data": {
      "text/plain": "0    5\n1   16\n2   14\n3    4\n4   46\ndtype: float64"
     },
     "execution_count": 31,
     "metadata": {},
     "output_type": "execute_result"
    }
   ],
   "source": [
    "Rate3 = pd.Series(Rate)\n",
    "Rate3\n",
    "\n",
    "# Final = pd.concat([Final , Rate3])\n",
    "# Final"
   ],
   "metadata": {
    "collapsed": false,
    "pycharm": {
     "name": "#%%\n"
    }
   }
  },
  {
   "cell_type": "code",
   "execution_count": 32,
   "outputs": [
    {
     "data": {
      "text/plain": "   시군구 계약구분  비율\n0   남구  일반용   5\n1   동구  일반용  16\n2   북구  일반용  14\n3  울주군  일반용   4\n4   중구  일반용  46",
      "text/html": "<div>\n<style scoped>\n    .dataframe tbody tr th:only-of-type {\n        vertical-align: middle;\n    }\n\n    .dataframe tbody tr th {\n        vertical-align: top;\n    }\n\n    .dataframe thead th {\n        text-align: right;\n    }\n</style>\n<table border=\"1\" class=\"dataframe\">\n  <thead>\n    <tr style=\"text-align: right;\">\n      <th></th>\n      <th>시군구</th>\n      <th>계약구분</th>\n      <th>비율</th>\n    </tr>\n  </thead>\n  <tbody>\n    <tr>\n      <th>0</th>\n      <td>남구</td>\n      <td>일반용</td>\n      <td>5</td>\n    </tr>\n    <tr>\n      <th>1</th>\n      <td>동구</td>\n      <td>일반용</td>\n      <td>16</td>\n    </tr>\n    <tr>\n      <th>2</th>\n      <td>북구</td>\n      <td>일반용</td>\n      <td>14</td>\n    </tr>\n    <tr>\n      <th>3</th>\n      <td>울주군</td>\n      <td>일반용</td>\n      <td>4</td>\n    </tr>\n    <tr>\n      <th>4</th>\n      <td>중구</td>\n      <td>일반용</td>\n      <td>46</td>\n    </tr>\n  </tbody>\n</table>\n</div>"
     },
     "execution_count": 32,
     "metadata": {},
     "output_type": "execute_result"
    }
   ],
   "source": [
    "for j in range(len(Rate)):\n",
    "    ilban.append('일반용')\n",
    "#print(Rate)\n",
    "\n",
    "Rate2 = pd.DataFrame()\n",
    "Rate2['시군구'] = pd.DataFrame(SIGUNGU)\n",
    "Rate2['계약구분'] = pd.DataFrame(ilban)\n",
    "Rate2['비율'] = pd.DataFrame(Rate)\n",
    "Rate2\n",
    "#print(Rate2.dtypes)"
   ],
   "metadata": {
    "collapsed": false,
    "pycharm": {
     "name": "#%%\n"
    }
   }
  },
  {
   "cell_type": "code",
   "execution_count": 33,
   "outputs": [
    {
     "data": {
      "text/plain": "              년월     시구  시군구 계약구분 고객호수(호)    사용량(kWh)  비율\n0  202107-202112  울산광역시   남구  일반용   25168   384775419   5\n1  202107-202112  울산광역시   남구   합계   22493  8315426461 NaN\n2  202107-202112  울산광역시   동구  일반용    7725   119193113  16\n3  202107-202112  울산광역시   동구   합계   10049   762658631 NaN\n4  202107-202112  울산광역시   북구  일반용   10492   171709350  14\n5  202107-202112  울산광역시   북구   합계    9606  1245081872 NaN\n6  202107-202112  울산광역시  울주군  일반용   16697   235618678   4\n7  202107-202112  울산광역시  울주군   합계   21096  6413536301 NaN\n8  202107-202112  울산광역시   중구  일반용   13573   168194580  46\n9  202107-202112  울산광역시   중구   합계   15396   368372885 NaN",
      "text/html": "<div>\n<style scoped>\n    .dataframe tbody tr th:only-of-type {\n        vertical-align: middle;\n    }\n\n    .dataframe tbody tr th {\n        vertical-align: top;\n    }\n\n    .dataframe thead th {\n        text-align: right;\n    }\n</style>\n<table border=\"1\" class=\"dataframe\">\n  <thead>\n    <tr style=\"text-align: right;\">\n      <th></th>\n      <th>년월</th>\n      <th>시구</th>\n      <th>시군구</th>\n      <th>계약구분</th>\n      <th>고객호수(호)</th>\n      <th>사용량(kWh)</th>\n      <th>비율</th>\n    </tr>\n  </thead>\n  <tbody>\n    <tr>\n      <th>0</th>\n      <td>202107-202112</td>\n      <td>울산광역시</td>\n      <td>남구</td>\n      <td>일반용</td>\n      <td>25168</td>\n      <td>384775419</td>\n      <td>5</td>\n    </tr>\n    <tr>\n      <th>1</th>\n      <td>202107-202112</td>\n      <td>울산광역시</td>\n      <td>남구</td>\n      <td>합계</td>\n      <td>22493</td>\n      <td>8315426461</td>\n      <td>NaN</td>\n    </tr>\n    <tr>\n      <th>2</th>\n      <td>202107-202112</td>\n      <td>울산광역시</td>\n      <td>동구</td>\n      <td>일반용</td>\n      <td>7725</td>\n      <td>119193113</td>\n      <td>16</td>\n    </tr>\n    <tr>\n      <th>3</th>\n      <td>202107-202112</td>\n      <td>울산광역시</td>\n      <td>동구</td>\n      <td>합계</td>\n      <td>10049</td>\n      <td>762658631</td>\n      <td>NaN</td>\n    </tr>\n    <tr>\n      <th>4</th>\n      <td>202107-202112</td>\n      <td>울산광역시</td>\n      <td>북구</td>\n      <td>일반용</td>\n      <td>10492</td>\n      <td>171709350</td>\n      <td>14</td>\n    </tr>\n    <tr>\n      <th>5</th>\n      <td>202107-202112</td>\n      <td>울산광역시</td>\n      <td>북구</td>\n      <td>합계</td>\n      <td>9606</td>\n      <td>1245081872</td>\n      <td>NaN</td>\n    </tr>\n    <tr>\n      <th>6</th>\n      <td>202107-202112</td>\n      <td>울산광역시</td>\n      <td>울주군</td>\n      <td>일반용</td>\n      <td>16697</td>\n      <td>235618678</td>\n      <td>4</td>\n    </tr>\n    <tr>\n      <th>7</th>\n      <td>202107-202112</td>\n      <td>울산광역시</td>\n      <td>울주군</td>\n      <td>합계</td>\n      <td>21096</td>\n      <td>6413536301</td>\n      <td>NaN</td>\n    </tr>\n    <tr>\n      <th>8</th>\n      <td>202107-202112</td>\n      <td>울산광역시</td>\n      <td>중구</td>\n      <td>일반용</td>\n      <td>13573</td>\n      <td>168194580</td>\n      <td>46</td>\n    </tr>\n    <tr>\n      <th>9</th>\n      <td>202107-202112</td>\n      <td>울산광역시</td>\n      <td>중구</td>\n      <td>합계</td>\n      <td>15396</td>\n      <td>368372885</td>\n      <td>NaN</td>\n    </tr>\n  </tbody>\n</table>\n</div>"
     },
     "execution_count": 33,
     "metadata": {},
     "output_type": "execute_result"
    }
   ],
   "source": [
    "Final = pd.merge(Final , Rate2, on=['시군구', '계약구분'] , how='left')\n",
    "\n",
    "#Final.drop(['비율_y]' , axis = 1 , inplace = True)\n",
    "#Final.rename(columns={'비율_y':'전체 계약종별 전력사용량 대비 일반용 사용량 비율'})\n",
    "Final = Final.sort_values(['시군구' , '계약구분'])\n",
    "Final"
   ],
   "metadata": {
    "collapsed": false,
    "pycharm": {
     "name": "#%%\n"
    }
   }
  },
  {
   "cell_type": "code",
   "execution_count": 34,
   "outputs": [],
   "source": [
    "# Final['일반용 전기의 비율'] = Final.append(Rate)\n",
    "# Final"
   ],
   "metadata": {
    "collapsed": false,
    "pycharm": {
     "name": "#%%\n"
    }
   }
  },
  {
   "cell_type": "markdown",
   "source": [
    "### 6. 날짜 체크!!!!!!!!!!!!!!!!!!!!1"
   ],
   "metadata": {
    "collapsed": false,
    "pycharm": {
     "name": "#%% md\n"
    }
   }
  },
  {
   "cell_type": "code",
   "execution_count": 35,
   "outputs": [],
   "source": [
    "Final.to_csv(\"{}_일반용_전력사용량_2107-12.csv\".format(City) , mode = 'w' , encoding= 'cp949' , index =False) #파일명 수정"
   ],
   "metadata": {
    "collapsed": false,
    "pycharm": {
     "name": "#%%\n"
    }
   }
  },
  {
   "cell_type": "code",
   "execution_count": 35,
   "outputs": [],
   "source": [],
   "metadata": {
    "collapsed": false,
    "pycharm": {
     "name": "#%%\n"
    }
   }
  },
  {
   "cell_type": "code",
   "execution_count": 36,
   "outputs": [],
   "source": [
    "# Sigu = list(set(df_3['시군구'].tolist()))\n",
    "#\n",
    "# Sigu.sort()\n",
    "#\n",
    "# Sigu"
   ],
   "metadata": {
    "collapsed": false,
    "pycharm": {
     "name": "#%%\n"
    }
   }
  },
  {
   "cell_type": "code",
   "execution_count": 37,
   "outputs": [],
   "source": [
    "# YearMonth = list(set(df_3['년월'].tolist()))\n",
    "#\n",
    "# YearMonth.sort()\n",
    "# YearMonth"
   ],
   "metadata": {
    "collapsed": false,
    "pycharm": {
     "name": "#%%\n"
    }
   }
  },
  {
   "cell_type": "code",
   "execution_count": 38,
   "outputs": [],
   "source": [
    "# Gayeak = list(set(df_3['계약구분'].tolist()))\n",
    "#\n",
    "# Gayeak.sort()\n",
    "# Gayeak"
   ],
   "metadata": {
    "collapsed": false,
    "pycharm": {
     "name": "#%%\n"
    }
   }
  },
  {
   "cell_type": "code",
   "execution_count": 39,
   "outputs": [],
   "source": [
    "# SEOUL = df_3.loc[(df_3['계약구분'] =='일반용')]\n",
    "# SEOUL.drop(['고객호수(호)' ,'전기요금(원)' , '평균판매단가(원/kWh)'] , axis = 1 , inplace = True)\n",
    "# #SEOUL.dtypes(['사용량(kWh)'])\n",
    "# SEOUL"
   ],
   "metadata": {
    "collapsed": false,
    "pycharm": {
     "name": "#%%\n"
    }
   }
  },
  {
   "cell_type": "code",
   "execution_count": 40,
   "outputs": [],
   "source": [
    "#SEOUL.to_csv(\"서울특별시_일반용_전력사용량.csv\" , mode = 'w' , encoding= 'cp949')"
   ],
   "metadata": {
    "collapsed": false,
    "pycharm": {
     "name": "#%%\n"
    }
   }
  },
  {
   "cell_type": "code",
   "execution_count": 41,
   "outputs": [],
   "source": [
    "# print(SEOUL.dtypes)\n",
    "# SEOUL = SEOUL.astype({'사용량(kWh)' : 'float'})"
   ],
   "metadata": {
    "collapsed": false,
    "pycharm": {
     "name": "#%%\n"
    }
   }
  },
  {
   "cell_type": "code",
   "execution_count": 42,
   "outputs": [],
   "source": [
    "# SEOUL"
   ],
   "metadata": {
    "collapsed": false,
    "pycharm": {
     "name": "#%%\n"
    }
   }
  },
  {
   "cell_type": "code",
   "execution_count": 43,
   "outputs": [],
   "source": [
    "# a = SEOUL['사용량(kWh)'].tolist()\n",
    "# int_list = map(int, a)\n",
    "# b=0\n",
    "# for i in int_list:\n",
    "#     b+=i\n",
    "#\n",
    "# print(b)"
   ],
   "metadata": {
    "collapsed": false,
    "pycharm": {
     "name": "#%%\n"
    }
   }
  },
  {
   "cell_type": "code",
   "execution_count": 43,
   "outputs": [],
   "source": [],
   "metadata": {
    "collapsed": false,
    "pycharm": {
     "name": "#%%\n"
    }
   }
  },
  {
   "cell_type": "code",
   "execution_count": 43,
   "outputs": [],
   "source": [],
   "metadata": {
    "collapsed": false,
    "pycharm": {
     "name": "#%%\n"
    }
   }
  },
  {
   "cell_type": "code",
   "execution_count": 43,
   "outputs": [],
   "source": [],
   "metadata": {
    "collapsed": false,
    "pycharm": {
     "name": "#%%\n"
    }
   }
  },
  {
   "cell_type": "code",
   "execution_count": 43,
   "outputs": [],
   "source": [],
   "metadata": {
    "collapsed": false,
    "pycharm": {
     "name": "#%%\n"
    }
   }
  },
  {
   "cell_type": "code",
   "execution_count": 43,
   "outputs": [],
   "source": [],
   "metadata": {
    "collapsed": false,
    "pycharm": {
     "name": "#%%\n"
    }
   }
  },
  {
   "cell_type": "code",
   "execution_count": 43,
   "outputs": [],
   "source": [],
   "metadata": {
    "collapsed": false,
    "pycharm": {
     "name": "#%%\n"
    }
   }
  },
  {
   "cell_type": "code",
   "execution_count": 43,
   "outputs": [],
   "source": [],
   "metadata": {
    "collapsed": false,
    "pycharm": {
     "name": "#%%\n"
    }
   }
  }
 ],
 "metadata": {
  "kernelspec": {
   "display_name": "Python 3",
   "language": "python",
   "name": "python3"
  },
  "language_info": {
   "codemirror_mode": {
    "name": "ipython",
    "version": 2
   },
   "file_extension": ".py",
   "mimetype": "text/x-python",
   "name": "python",
   "nbconvert_exporter": "python",
   "pygments_lexer": "ipython2",
   "version": "2.7.6"
  }
 },
 "nbformat": 4,
 "nbformat_minor": 0
}