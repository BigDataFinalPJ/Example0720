{
 "cells": [
  {
   "cell_type": "markdown",
   "source": [],
   "metadata": {
    "collapsed": false,
    "pycharm": {
     "name": "#%% md\n"
    }
   }
  },
  {
   "cell_type": "code",
   "execution_count": 1,
   "outputs": [],
   "source": [
    "import pandas as pd\n",
    "import re\n",
    "\n",
    "pd.options.display.float_format = '{:.0f}'.format"
   ],
   "metadata": {
    "collapsed": false,
    "pycharm": {
     "name": "#%%\n"
    }
   }
  },
  {
   "cell_type": "markdown",
   "source": [
    "### 1. 꼭 read_csv 21상반기, 19하반기와 같이 맞추어 주세요!!! 또한 지역(전라북도, 남도) 맞추기!!!!!"
   ],
   "metadata": {
    "collapsed": false,
    "pycharm": {
     "name": "#%% md\n"
    }
   }
  },
  {
   "cell_type": "code",
   "execution_count": 2,
   "outputs": [
    {
     "data": {
      "text/plain": "        계약종별 전력사용량 월별( 20220804 현재 ) Unnamed: 1     Unnamed: 2 Unnamed: 3  \\\n0    시도 : 울산광역시, 시군구 : 전체(시 / 군 / 구)        NaN            NaN        NaN   \n1        기간 : 2021년 01 월 ~ 2021년 06월        NaN            NaN        NaN   \n2                                 년월         시구            시군구       계약구분   \n3                             202101      울산광역시  전체(시 / 군 / 구)        주택용   \n4                             202101      울산광역시  전체(시 / 군 / 구)        일반용   \n..                               ...        ...            ...        ...   \n283                           202106      울산광역시             중구        산업용   \n284                           202106      울산광역시             중구        심 야   \n285                           202106      울산광역시             중구        일반용   \n286                           202106      울산광역시             중구        주택용   \n287                           202106      울산광역시             중구         합계   \n\n    Unnamed: 4    Unnamed: 5       Unnamed: 6     Unnamed: 7  \n0          NaN           NaN              NaN            NaN  \n1          NaN           NaN              NaN            NaN  \n2      고객호수(호)      사용량(kWh)          전기요금(원)  평균판매단가(원/kWh)  \n3     331,342   151,605,608   17,353,676,432          114.5   \n4      72,993   189,617,038   25,573,295,923          134.9   \n..         ...           ...              ...            ...  \n283       485     2,380,542      348,637,640          146.5   \n284       474       331,031       20,094,538           60.7   \n285    13,561    25,282,883    3,418,651,048          135.2   \n286    71,554    24,208,689    2,498,772,793          103.2   \n287    92,550    54,600,059    6,562,107,713          120.2   \n\n[288 rows x 8 columns]",
      "text/html": "<div>\n<style scoped>\n    .dataframe tbody tr th:only-of-type {\n        vertical-align: middle;\n    }\n\n    .dataframe tbody tr th {\n        vertical-align: top;\n    }\n\n    .dataframe thead th {\n        text-align: right;\n    }\n</style>\n<table border=\"1\" class=\"dataframe\">\n  <thead>\n    <tr style=\"text-align: right;\">\n      <th></th>\n      <th>계약종별 전력사용량 월별( 20220804 현재 )</th>\n      <th>Unnamed: 1</th>\n      <th>Unnamed: 2</th>\n      <th>Unnamed: 3</th>\n      <th>Unnamed: 4</th>\n      <th>Unnamed: 5</th>\n      <th>Unnamed: 6</th>\n      <th>Unnamed: 7</th>\n    </tr>\n  </thead>\n  <tbody>\n    <tr>\n      <th>0</th>\n      <td>시도 : 울산광역시, 시군구 : 전체(시 / 군 / 구)</td>\n      <td>NaN</td>\n      <td>NaN</td>\n      <td>NaN</td>\n      <td>NaN</td>\n      <td>NaN</td>\n      <td>NaN</td>\n      <td>NaN</td>\n    </tr>\n    <tr>\n      <th>1</th>\n      <td>기간 : 2021년 01 월 ~ 2021년 06월</td>\n      <td>NaN</td>\n      <td>NaN</td>\n      <td>NaN</td>\n      <td>NaN</td>\n      <td>NaN</td>\n      <td>NaN</td>\n      <td>NaN</td>\n    </tr>\n    <tr>\n      <th>2</th>\n      <td>년월</td>\n      <td>시구</td>\n      <td>시군구</td>\n      <td>계약구분</td>\n      <td>고객호수(호)</td>\n      <td>사용량(kWh)</td>\n      <td>전기요금(원)</td>\n      <td>평균판매단가(원/kWh)</td>\n    </tr>\n    <tr>\n      <th>3</th>\n      <td>202101</td>\n      <td>울산광역시</td>\n      <td>전체(시 / 군 / 구)</td>\n      <td>주택용</td>\n      <td>331,342</td>\n      <td>151,605,608</td>\n      <td>17,353,676,432</td>\n      <td>114.5</td>\n    </tr>\n    <tr>\n      <th>4</th>\n      <td>202101</td>\n      <td>울산광역시</td>\n      <td>전체(시 / 군 / 구)</td>\n      <td>일반용</td>\n      <td>72,993</td>\n      <td>189,617,038</td>\n      <td>25,573,295,923</td>\n      <td>134.9</td>\n    </tr>\n    <tr>\n      <th>...</th>\n      <td>...</td>\n      <td>...</td>\n      <td>...</td>\n      <td>...</td>\n      <td>...</td>\n      <td>...</td>\n      <td>...</td>\n      <td>...</td>\n    </tr>\n    <tr>\n      <th>283</th>\n      <td>202106</td>\n      <td>울산광역시</td>\n      <td>중구</td>\n      <td>산업용</td>\n      <td>485</td>\n      <td>2,380,542</td>\n      <td>348,637,640</td>\n      <td>146.5</td>\n    </tr>\n    <tr>\n      <th>284</th>\n      <td>202106</td>\n      <td>울산광역시</td>\n      <td>중구</td>\n      <td>심 야</td>\n      <td>474</td>\n      <td>331,031</td>\n      <td>20,094,538</td>\n      <td>60.7</td>\n    </tr>\n    <tr>\n      <th>285</th>\n      <td>202106</td>\n      <td>울산광역시</td>\n      <td>중구</td>\n      <td>일반용</td>\n      <td>13,561</td>\n      <td>25,282,883</td>\n      <td>3,418,651,048</td>\n      <td>135.2</td>\n    </tr>\n    <tr>\n      <th>286</th>\n      <td>202106</td>\n      <td>울산광역시</td>\n      <td>중구</td>\n      <td>주택용</td>\n      <td>71,554</td>\n      <td>24,208,689</td>\n      <td>2,498,772,793</td>\n      <td>103.2</td>\n    </tr>\n    <tr>\n      <th>287</th>\n      <td>202106</td>\n      <td>울산광역시</td>\n      <td>중구</td>\n      <td>합계</td>\n      <td>92,550</td>\n      <td>54,600,059</td>\n      <td>6,562,107,713</td>\n      <td>120.2</td>\n    </tr>\n  </tbody>\n</table>\n<p>288 rows × 8 columns</p>\n</div>"
     },
     "execution_count": 2,
     "metadata": {},
     "output_type": "execute_result"
    }
   ],
   "source": [
    "df = pd.read_csv('울산광역시_계약종별_전력사용량_월별_21상반기.csv' , encoding='cp949')\n",
    "\n",
    "df\n",
    "#exchng=  pd.read_csv('지역별_전력거래량_20220803093050.csv' , encoding='cp949')"
   ],
   "metadata": {
    "collapsed": false,
    "pycharm": {
     "name": "#%%\n"
    }
   }
  },
  {
   "cell_type": "code",
   "execution_count": 3,
   "outputs": [
    {
     "data": {
      "text/plain": "    계약종별 전력사용량 월별( 20220804 현재 ) Unnamed: 1     Unnamed: 2 Unnamed: 3  \\\n2                             년월         시구            시군구       계약구분   \n3                         202101      울산광역시  전체(시 / 군 / 구)        주택용   \n4                         202101      울산광역시  전체(시 / 군 / 구)        일반용   \n5                         202101      울산광역시  전체(시 / 군 / 구)        교육용   \n6                         202101      울산광역시  전체(시 / 군 / 구)        산업용   \n..                           ...        ...            ...        ...   \n283                       202106      울산광역시             중구        산업용   \n284                       202106      울산광역시             중구        심 야   \n285                       202106      울산광역시             중구        일반용   \n286                       202106      울산광역시             중구        주택용   \n287                       202106      울산광역시             중구         합계   \n\n    Unnamed: 4      Unnamed: 5        Unnamed: 6     Unnamed: 7  \n2      고객호수(호)        사용량(kWh)           전기요금(원)  평균판매단가(원/kWh)  \n3     331,342     151,605,608    17,353,676,432          114.5   \n4      72,993     189,617,038    25,573,295,923          134.9   \n5         428      18,477,242     1,814,780,169           98.2   \n6       6,582   2,553,522,436   262,074,951,732          102.6   \n..         ...             ...               ...            ...  \n283       485       2,380,542       348,637,640          146.5   \n284       474         331,031        20,094,538           60.7   \n285    13,561      25,282,883     3,418,651,048          135.2   \n286    71,554      24,208,689     2,498,772,793          103.2   \n287    92,550      54,600,059     6,562,107,713          120.2   \n\n[285 rows x 8 columns]",
      "text/html": "<div>\n<style scoped>\n    .dataframe tbody tr th:only-of-type {\n        vertical-align: middle;\n    }\n\n    .dataframe tbody tr th {\n        vertical-align: top;\n    }\n\n    .dataframe thead th {\n        text-align: right;\n    }\n</style>\n<table border=\"1\" class=\"dataframe\">\n  <thead>\n    <tr style=\"text-align: right;\">\n      <th></th>\n      <th>계약종별 전력사용량 월별( 20220804 현재 )</th>\n      <th>Unnamed: 1</th>\n      <th>Unnamed: 2</th>\n      <th>Unnamed: 3</th>\n      <th>Unnamed: 4</th>\n      <th>Unnamed: 5</th>\n      <th>Unnamed: 6</th>\n      <th>Unnamed: 7</th>\n    </tr>\n  </thead>\n  <tbody>\n    <tr>\n      <th>2</th>\n      <td>년월</td>\n      <td>시구</td>\n      <td>시군구</td>\n      <td>계약구분</td>\n      <td>고객호수(호)</td>\n      <td>사용량(kWh)</td>\n      <td>전기요금(원)</td>\n      <td>평균판매단가(원/kWh)</td>\n    </tr>\n    <tr>\n      <th>3</th>\n      <td>202101</td>\n      <td>울산광역시</td>\n      <td>전체(시 / 군 / 구)</td>\n      <td>주택용</td>\n      <td>331,342</td>\n      <td>151,605,608</td>\n      <td>17,353,676,432</td>\n      <td>114.5</td>\n    </tr>\n    <tr>\n      <th>4</th>\n      <td>202101</td>\n      <td>울산광역시</td>\n      <td>전체(시 / 군 / 구)</td>\n      <td>일반용</td>\n      <td>72,993</td>\n      <td>189,617,038</td>\n      <td>25,573,295,923</td>\n      <td>134.9</td>\n    </tr>\n    <tr>\n      <th>5</th>\n      <td>202101</td>\n      <td>울산광역시</td>\n      <td>전체(시 / 군 / 구)</td>\n      <td>교육용</td>\n      <td>428</td>\n      <td>18,477,242</td>\n      <td>1,814,780,169</td>\n      <td>98.2</td>\n    </tr>\n    <tr>\n      <th>6</th>\n      <td>202101</td>\n      <td>울산광역시</td>\n      <td>전체(시 / 군 / 구)</td>\n      <td>산업용</td>\n      <td>6,582</td>\n      <td>2,553,522,436</td>\n      <td>262,074,951,732</td>\n      <td>102.6</td>\n    </tr>\n    <tr>\n      <th>...</th>\n      <td>...</td>\n      <td>...</td>\n      <td>...</td>\n      <td>...</td>\n      <td>...</td>\n      <td>...</td>\n      <td>...</td>\n      <td>...</td>\n    </tr>\n    <tr>\n      <th>283</th>\n      <td>202106</td>\n      <td>울산광역시</td>\n      <td>중구</td>\n      <td>산업용</td>\n      <td>485</td>\n      <td>2,380,542</td>\n      <td>348,637,640</td>\n      <td>146.5</td>\n    </tr>\n    <tr>\n      <th>284</th>\n      <td>202106</td>\n      <td>울산광역시</td>\n      <td>중구</td>\n      <td>심 야</td>\n      <td>474</td>\n      <td>331,031</td>\n      <td>20,094,538</td>\n      <td>60.7</td>\n    </tr>\n    <tr>\n      <th>285</th>\n      <td>202106</td>\n      <td>울산광역시</td>\n      <td>중구</td>\n      <td>일반용</td>\n      <td>13,561</td>\n      <td>25,282,883</td>\n      <td>3,418,651,048</td>\n      <td>135.2</td>\n    </tr>\n    <tr>\n      <th>286</th>\n      <td>202106</td>\n      <td>울산광역시</td>\n      <td>중구</td>\n      <td>주택용</td>\n      <td>71,554</td>\n      <td>24,208,689</td>\n      <td>2,498,772,793</td>\n      <td>103.2</td>\n    </tr>\n    <tr>\n      <th>287</th>\n      <td>202106</td>\n      <td>울산광역시</td>\n      <td>중구</td>\n      <td>합계</td>\n      <td>92,550</td>\n      <td>54,600,059</td>\n      <td>6,562,107,713</td>\n      <td>120.2</td>\n    </tr>\n  </tbody>\n</table>\n<p>285 rows × 8 columns</p>\n</div>"
     },
     "execution_count": 3,
     "metadata": {},
     "output_type": "execute_result"
    }
   ],
   "source": [
    "df = df.drop([0,1 , 46] , axis = 0)\n",
    "#0,1 , 10은 지우는게 맞다\n",
    "df"
   ],
   "metadata": {
    "collapsed": false,
    "pycharm": {
     "name": "#%%\n"
    }
   }
  },
  {
   "cell_type": "code",
   "execution_count": 4,
   "outputs": [],
   "source": [
    "a= df.loc[2].tolist()\n",
    "a\n",
    "df = df.drop([2] , axis = 0)"
   ],
   "metadata": {
    "collapsed": false,
    "pycharm": {
     "name": "#%%\n"
    }
   }
  },
  {
   "cell_type": "code",
   "execution_count": 5,
   "outputs": [
    {
     "data": {
      "text/plain": "         년월     시구            시군구 계약구분   고객호수(호)        사용량(kWh)  \\\n3    202101  울산광역시  전체(시 / 군 / 구)  주택용  331,342     151,605,608    \n4    202101  울산광역시  전체(시 / 군 / 구)  일반용   72,993     189,617,038    \n5    202101  울산광역시  전체(시 / 군 / 구)  교육용      428      18,477,242    \n6    202101  울산광역시  전체(시 / 군 / 구)  산업용    6,582   2,553,522,436    \n7    202101  울산광역시  전체(시 / 군 / 구)  농사용   15,985       8,902,285    \n..      ...    ...            ...  ...       ...             ...   \n283  202106  울산광역시             중구  산업용      485       2,380,542    \n284  202106  울산광역시             중구  심 야      474         331,031    \n285  202106  울산광역시             중구  일반용   13,561      25,282,883    \n286  202106  울산광역시             중구  주택용   71,554      24,208,689    \n287  202106  울산광역시             중구   합계   92,550      54,600,059    \n\n              전기요금(원) 평균판매단가(원/kWh)  \n3     17,353,676,432         114.5   \n4     25,573,295,923         134.9   \n5      1,814,780,169          98.2   \n6    262,074,951,732         102.6   \n7        424,692,187          47.7   \n..                ...           ...  \n283      348,637,640         146.5   \n284       20,094,538          60.7   \n285    3,418,651,048         135.2   \n286    2,498,772,793         103.2   \n287    6,562,107,713         120.2   \n\n[284 rows x 8 columns]",
      "text/html": "<div>\n<style scoped>\n    .dataframe tbody tr th:only-of-type {\n        vertical-align: middle;\n    }\n\n    .dataframe tbody tr th {\n        vertical-align: top;\n    }\n\n    .dataframe thead th {\n        text-align: right;\n    }\n</style>\n<table border=\"1\" class=\"dataframe\">\n  <thead>\n    <tr style=\"text-align: right;\">\n      <th></th>\n      <th>년월</th>\n      <th>시구</th>\n      <th>시군구</th>\n      <th>계약구분</th>\n      <th>고객호수(호)</th>\n      <th>사용량(kWh)</th>\n      <th>전기요금(원)</th>\n      <th>평균판매단가(원/kWh)</th>\n    </tr>\n  </thead>\n  <tbody>\n    <tr>\n      <th>3</th>\n      <td>202101</td>\n      <td>울산광역시</td>\n      <td>전체(시 / 군 / 구)</td>\n      <td>주택용</td>\n      <td>331,342</td>\n      <td>151,605,608</td>\n      <td>17,353,676,432</td>\n      <td>114.5</td>\n    </tr>\n    <tr>\n      <th>4</th>\n      <td>202101</td>\n      <td>울산광역시</td>\n      <td>전체(시 / 군 / 구)</td>\n      <td>일반용</td>\n      <td>72,993</td>\n      <td>189,617,038</td>\n      <td>25,573,295,923</td>\n      <td>134.9</td>\n    </tr>\n    <tr>\n      <th>5</th>\n      <td>202101</td>\n      <td>울산광역시</td>\n      <td>전체(시 / 군 / 구)</td>\n      <td>교육용</td>\n      <td>428</td>\n      <td>18,477,242</td>\n      <td>1,814,780,169</td>\n      <td>98.2</td>\n    </tr>\n    <tr>\n      <th>6</th>\n      <td>202101</td>\n      <td>울산광역시</td>\n      <td>전체(시 / 군 / 구)</td>\n      <td>산업용</td>\n      <td>6,582</td>\n      <td>2,553,522,436</td>\n      <td>262,074,951,732</td>\n      <td>102.6</td>\n    </tr>\n    <tr>\n      <th>7</th>\n      <td>202101</td>\n      <td>울산광역시</td>\n      <td>전체(시 / 군 / 구)</td>\n      <td>농사용</td>\n      <td>15,985</td>\n      <td>8,902,285</td>\n      <td>424,692,187</td>\n      <td>47.7</td>\n    </tr>\n    <tr>\n      <th>...</th>\n      <td>...</td>\n      <td>...</td>\n      <td>...</td>\n      <td>...</td>\n      <td>...</td>\n      <td>...</td>\n      <td>...</td>\n      <td>...</td>\n    </tr>\n    <tr>\n      <th>283</th>\n      <td>202106</td>\n      <td>울산광역시</td>\n      <td>중구</td>\n      <td>산업용</td>\n      <td>485</td>\n      <td>2,380,542</td>\n      <td>348,637,640</td>\n      <td>146.5</td>\n    </tr>\n    <tr>\n      <th>284</th>\n      <td>202106</td>\n      <td>울산광역시</td>\n      <td>중구</td>\n      <td>심 야</td>\n      <td>474</td>\n      <td>331,031</td>\n      <td>20,094,538</td>\n      <td>60.7</td>\n    </tr>\n    <tr>\n      <th>285</th>\n      <td>202106</td>\n      <td>울산광역시</td>\n      <td>중구</td>\n      <td>일반용</td>\n      <td>13,561</td>\n      <td>25,282,883</td>\n      <td>3,418,651,048</td>\n      <td>135.2</td>\n    </tr>\n    <tr>\n      <th>286</th>\n      <td>202106</td>\n      <td>울산광역시</td>\n      <td>중구</td>\n      <td>주택용</td>\n      <td>71,554</td>\n      <td>24,208,689</td>\n      <td>2,498,772,793</td>\n      <td>103.2</td>\n    </tr>\n    <tr>\n      <th>287</th>\n      <td>202106</td>\n      <td>울산광역시</td>\n      <td>중구</td>\n      <td>합계</td>\n      <td>92,550</td>\n      <td>54,600,059</td>\n      <td>6,562,107,713</td>\n      <td>120.2</td>\n    </tr>\n  </tbody>\n</table>\n<p>284 rows × 8 columns</p>\n</div>"
     },
     "execution_count": 5,
     "metadata": {},
     "output_type": "execute_result"
    }
   ],
   "source": [
    "df.columns = a\n",
    "df"
   ],
   "metadata": {
    "collapsed": false,
    "pycharm": {
     "name": "#%%\n"
    }
   }
  },
  {
   "cell_type": "code",
   "execution_count": 6,
   "outputs": [
    {
     "data": {
      "text/plain": "        년월     시구            시군구 계약구분    고객호수(호)        사용량(kWh)  \\\n3   202101  울산광역시  전체(시 / 군 / 구)  주택용   331,342     151,605,608    \n4   202101  울산광역시  전체(시 / 군 / 구)  일반용    72,993     189,617,038    \n5   202101  울산광역시  전체(시 / 군 / 구)  교육용       428      18,477,242    \n6   202101  울산광역시  전체(시 / 군 / 구)  산업용     6,582   2,553,522,436    \n7   202101  울산광역시  전체(시 / 군 / 구)  농사용    15,985       8,902,285    \n8   202101  울산광역시  전체(시 / 군 / 구)  가로등    37,605       7,543,510    \n9   202101  울산광역시  전체(시 / 군 / 구)  심 야     5,835      14,116,895    \n10  202102  울산광역시  전체(시 / 군 / 구)  주택용   331,286     147,901,801    \n11  202102  울산광역시  전체(시 / 군 / 구)  일반용    72,954     179,203,800    \n12  202102  울산광역시  전체(시 / 군 / 구)  교육용       430      15,757,306    \n13  202102  울산광역시  전체(시 / 군 / 구)  산업용     6,573   2,274,936,033    \n14  202102  울산광역시  전체(시 / 군 / 구)  농사용    16,050       8,680,860    \n15  202102  울산광역시  전체(시 / 군 / 구)  가로등    37,656       7,127,318    \n16  202102  울산광역시  전체(시 / 군 / 구)  심 야     5,796      13,187,950    \n17  202103  울산광역시  전체(시 / 군 / 구)  주택용   331,226     126,909,896    \n18  202103  울산광역시  전체(시 / 군 / 구)  일반용    72,965     155,608,727    \n19  202103  울산광역시  전체(시 / 군 / 구)  교육용       431      16,180,000    \n20  202103  울산광역시  전체(시 / 군 / 구)  산업용     6,566   2,490,377,183    \n21  202103  울산광역시  전체(시 / 군 / 구)  농사용    17,075       6,911,141    \n22  202103  울산광역시  전체(시 / 군 / 구)  가로등    37,691       6,507,637    \n23  202103  울산광역시  전체(시 / 군 / 구)  심 야     5,740      10,106,605    \n24  202104  울산광역시  전체(시 / 군 / 구)  주택용   331,341     132,499,521    \n25  202104  울산광역시  전체(시 / 군 / 구)  일반용    72,989     154,452,328    \n26  202104  울산광역시  전체(시 / 군 / 구)  교육용       431      14,927,697    \n27  202104  울산광역시  전체(시 / 군 / 구)  산업용     6,544   2,393,624,719    \n28  202104  울산광역시  전체(시 / 군 / 구)  농사용    16,323       6,499,645    \n29  202104  울산광역시  전체(시 / 군 / 구)  가로등    37,520       6,527,112    \n30  202104  울산광역시  전체(시 / 군 / 구)  심 야     5,675       8,082,959    \n31  202105  울산광역시  전체(시 / 군 / 구)  주택용   331,348     124,473,267    \n32  202105  울산광역시  전체(시 / 군 / 구)  일반용    73,027     144,461,688    \n33  202105  울산광역시  전체(시 / 군 / 구)  교육용       429      13,235,762    \n34  202105  울산광역시  전체(시 / 군 / 구)  산업용     6,533   2,382,855,123    \n35  202105  울산광역시  전체(시 / 군 / 구)  농사용    16,478       6,073,257    \n36  202105  울산광역시  전체(시 / 군 / 구)  가로등    37,554       6,086,621    \n37  202105  울산광역시  전체(시 / 군 / 구)  심 야     5,611       5,611,671    \n38  202106  울산광역시  전체(시 / 군 / 구)  주택용   331,261     128,696,448    \n39  202106  울산광역시  전체(시 / 군 / 구)  일반용    73,278     158,632,676    \n40  202106  울산광역시  전체(시 / 군 / 구)  교육용       428      14,955,566    \n41  202106  울산광역시  전체(시 / 군 / 구)  산업용     6,530   2,366,725,053    \n42  202106  울산광역시  전체(시 / 군 / 구)  농사용    16,631       6,549,242    \n43  202106  울산광역시  전체(시 / 군 / 구)  가로등    37,936       5,848,477    \n44  202106  울산광역시  전체(시 / 군 / 구)  심 야     5,572       4,046,734    \n45      합계     합계             합계   합계  2,826,648  16,488,046,837   \n\n              전기요금(원) 평균판매단가(원/kWh)  \n3     17,353,676,432         114.5   \n4     25,573,295,923         134.9   \n5      1,814,780,169          98.2   \n6    262,074,951,732         102.6   \n7        424,692,187          47.7   \n8        786,101,092         104.2   \n9      1,014,809,843          71.9   \n10    16,627,037,109         112.4   \n11    24,579,603,991         137.2   \n12     1,602,269,832         101.7   \n13   234,402,366,726         103.0   \n14       417,410,945          48.1   \n15       780,398,903         109.5   \n16       950,047,503          72.0   \n17    12,728,724,978         100.3   \n18    20,184,596,067         129.7   \n19     1,477,370,981          91.3   \n20   205,325,841,288          82.4   \n21       345,415,487          50.0   \n22       727,459,017         111.8   \n23       641,491,281          63.5   \n24    13,781,047,519         104.0   \n25    18,160,152,120         117.6   \n26     1,259,297,511          84.4   \n27   199,716,628,684          83.4   \n28       331,040,706          50.9   \n29       749,029,082         114.8   \n30       418,461,422          51.8   \n31    12,443,265,765         100.0   \n32    17,425,877,897         120.6   \n33     1,078,086,431          81.5   \n34   194,386,178,638          81.6   \n35       310,997,220          51.2   \n36       718,361,183         118.0   \n37       292,540,473          52.1   \n38    13,060,609,436         101.5   \n39    21,467,175,286         135.3   \n40     1,603,841,440         107.2   \n41   254,942,531,406         107.7   \n42       327,022,305          49.9   \n43       711,938,001         121.7   \n44       224,342,183          55.4   \n45  1,583,240,766,194            96  ",
      "text/html": "<div>\n<style scoped>\n    .dataframe tbody tr th:only-of-type {\n        vertical-align: middle;\n    }\n\n    .dataframe tbody tr th {\n        vertical-align: top;\n    }\n\n    .dataframe thead th {\n        text-align: right;\n    }\n</style>\n<table border=\"1\" class=\"dataframe\">\n  <thead>\n    <tr style=\"text-align: right;\">\n      <th></th>\n      <th>년월</th>\n      <th>시구</th>\n      <th>시군구</th>\n      <th>계약구분</th>\n      <th>고객호수(호)</th>\n      <th>사용량(kWh)</th>\n      <th>전기요금(원)</th>\n      <th>평균판매단가(원/kWh)</th>\n    </tr>\n  </thead>\n  <tbody>\n    <tr>\n      <th>3</th>\n      <td>202101</td>\n      <td>울산광역시</td>\n      <td>전체(시 / 군 / 구)</td>\n      <td>주택용</td>\n      <td>331,342</td>\n      <td>151,605,608</td>\n      <td>17,353,676,432</td>\n      <td>114.5</td>\n    </tr>\n    <tr>\n      <th>4</th>\n      <td>202101</td>\n      <td>울산광역시</td>\n      <td>전체(시 / 군 / 구)</td>\n      <td>일반용</td>\n      <td>72,993</td>\n      <td>189,617,038</td>\n      <td>25,573,295,923</td>\n      <td>134.9</td>\n    </tr>\n    <tr>\n      <th>5</th>\n      <td>202101</td>\n      <td>울산광역시</td>\n      <td>전체(시 / 군 / 구)</td>\n      <td>교육용</td>\n      <td>428</td>\n      <td>18,477,242</td>\n      <td>1,814,780,169</td>\n      <td>98.2</td>\n    </tr>\n    <tr>\n      <th>6</th>\n      <td>202101</td>\n      <td>울산광역시</td>\n      <td>전체(시 / 군 / 구)</td>\n      <td>산업용</td>\n      <td>6,582</td>\n      <td>2,553,522,436</td>\n      <td>262,074,951,732</td>\n      <td>102.6</td>\n    </tr>\n    <tr>\n      <th>7</th>\n      <td>202101</td>\n      <td>울산광역시</td>\n      <td>전체(시 / 군 / 구)</td>\n      <td>농사용</td>\n      <td>15,985</td>\n      <td>8,902,285</td>\n      <td>424,692,187</td>\n      <td>47.7</td>\n    </tr>\n    <tr>\n      <th>8</th>\n      <td>202101</td>\n      <td>울산광역시</td>\n      <td>전체(시 / 군 / 구)</td>\n      <td>가로등</td>\n      <td>37,605</td>\n      <td>7,543,510</td>\n      <td>786,101,092</td>\n      <td>104.2</td>\n    </tr>\n    <tr>\n      <th>9</th>\n      <td>202101</td>\n      <td>울산광역시</td>\n      <td>전체(시 / 군 / 구)</td>\n      <td>심 야</td>\n      <td>5,835</td>\n      <td>14,116,895</td>\n      <td>1,014,809,843</td>\n      <td>71.9</td>\n    </tr>\n    <tr>\n      <th>10</th>\n      <td>202102</td>\n      <td>울산광역시</td>\n      <td>전체(시 / 군 / 구)</td>\n      <td>주택용</td>\n      <td>331,286</td>\n      <td>147,901,801</td>\n      <td>16,627,037,109</td>\n      <td>112.4</td>\n    </tr>\n    <tr>\n      <th>11</th>\n      <td>202102</td>\n      <td>울산광역시</td>\n      <td>전체(시 / 군 / 구)</td>\n      <td>일반용</td>\n      <td>72,954</td>\n      <td>179,203,800</td>\n      <td>24,579,603,991</td>\n      <td>137.2</td>\n    </tr>\n    <tr>\n      <th>12</th>\n      <td>202102</td>\n      <td>울산광역시</td>\n      <td>전체(시 / 군 / 구)</td>\n      <td>교육용</td>\n      <td>430</td>\n      <td>15,757,306</td>\n      <td>1,602,269,832</td>\n      <td>101.7</td>\n    </tr>\n    <tr>\n      <th>13</th>\n      <td>202102</td>\n      <td>울산광역시</td>\n      <td>전체(시 / 군 / 구)</td>\n      <td>산업용</td>\n      <td>6,573</td>\n      <td>2,274,936,033</td>\n      <td>234,402,366,726</td>\n      <td>103.0</td>\n    </tr>\n    <tr>\n      <th>14</th>\n      <td>202102</td>\n      <td>울산광역시</td>\n      <td>전체(시 / 군 / 구)</td>\n      <td>농사용</td>\n      <td>16,050</td>\n      <td>8,680,860</td>\n      <td>417,410,945</td>\n      <td>48.1</td>\n    </tr>\n    <tr>\n      <th>15</th>\n      <td>202102</td>\n      <td>울산광역시</td>\n      <td>전체(시 / 군 / 구)</td>\n      <td>가로등</td>\n      <td>37,656</td>\n      <td>7,127,318</td>\n      <td>780,398,903</td>\n      <td>109.5</td>\n    </tr>\n    <tr>\n      <th>16</th>\n      <td>202102</td>\n      <td>울산광역시</td>\n      <td>전체(시 / 군 / 구)</td>\n      <td>심 야</td>\n      <td>5,796</td>\n      <td>13,187,950</td>\n      <td>950,047,503</td>\n      <td>72.0</td>\n    </tr>\n    <tr>\n      <th>17</th>\n      <td>202103</td>\n      <td>울산광역시</td>\n      <td>전체(시 / 군 / 구)</td>\n      <td>주택용</td>\n      <td>331,226</td>\n      <td>126,909,896</td>\n      <td>12,728,724,978</td>\n      <td>100.3</td>\n    </tr>\n    <tr>\n      <th>18</th>\n      <td>202103</td>\n      <td>울산광역시</td>\n      <td>전체(시 / 군 / 구)</td>\n      <td>일반용</td>\n      <td>72,965</td>\n      <td>155,608,727</td>\n      <td>20,184,596,067</td>\n      <td>129.7</td>\n    </tr>\n    <tr>\n      <th>19</th>\n      <td>202103</td>\n      <td>울산광역시</td>\n      <td>전체(시 / 군 / 구)</td>\n      <td>교육용</td>\n      <td>431</td>\n      <td>16,180,000</td>\n      <td>1,477,370,981</td>\n      <td>91.3</td>\n    </tr>\n    <tr>\n      <th>20</th>\n      <td>202103</td>\n      <td>울산광역시</td>\n      <td>전체(시 / 군 / 구)</td>\n      <td>산업용</td>\n      <td>6,566</td>\n      <td>2,490,377,183</td>\n      <td>205,325,841,288</td>\n      <td>82.4</td>\n    </tr>\n    <tr>\n      <th>21</th>\n      <td>202103</td>\n      <td>울산광역시</td>\n      <td>전체(시 / 군 / 구)</td>\n      <td>농사용</td>\n      <td>17,075</td>\n      <td>6,911,141</td>\n      <td>345,415,487</td>\n      <td>50.0</td>\n    </tr>\n    <tr>\n      <th>22</th>\n      <td>202103</td>\n      <td>울산광역시</td>\n      <td>전체(시 / 군 / 구)</td>\n      <td>가로등</td>\n      <td>37,691</td>\n      <td>6,507,637</td>\n      <td>727,459,017</td>\n      <td>111.8</td>\n    </tr>\n    <tr>\n      <th>23</th>\n      <td>202103</td>\n      <td>울산광역시</td>\n      <td>전체(시 / 군 / 구)</td>\n      <td>심 야</td>\n      <td>5,740</td>\n      <td>10,106,605</td>\n      <td>641,491,281</td>\n      <td>63.5</td>\n    </tr>\n    <tr>\n      <th>24</th>\n      <td>202104</td>\n      <td>울산광역시</td>\n      <td>전체(시 / 군 / 구)</td>\n      <td>주택용</td>\n      <td>331,341</td>\n      <td>132,499,521</td>\n      <td>13,781,047,519</td>\n      <td>104.0</td>\n    </tr>\n    <tr>\n      <th>25</th>\n      <td>202104</td>\n      <td>울산광역시</td>\n      <td>전체(시 / 군 / 구)</td>\n      <td>일반용</td>\n      <td>72,989</td>\n      <td>154,452,328</td>\n      <td>18,160,152,120</td>\n      <td>117.6</td>\n    </tr>\n    <tr>\n      <th>26</th>\n      <td>202104</td>\n      <td>울산광역시</td>\n      <td>전체(시 / 군 / 구)</td>\n      <td>교육용</td>\n      <td>431</td>\n      <td>14,927,697</td>\n      <td>1,259,297,511</td>\n      <td>84.4</td>\n    </tr>\n    <tr>\n      <th>27</th>\n      <td>202104</td>\n      <td>울산광역시</td>\n      <td>전체(시 / 군 / 구)</td>\n      <td>산업용</td>\n      <td>6,544</td>\n      <td>2,393,624,719</td>\n      <td>199,716,628,684</td>\n      <td>83.4</td>\n    </tr>\n    <tr>\n      <th>28</th>\n      <td>202104</td>\n      <td>울산광역시</td>\n      <td>전체(시 / 군 / 구)</td>\n      <td>농사용</td>\n      <td>16,323</td>\n      <td>6,499,645</td>\n      <td>331,040,706</td>\n      <td>50.9</td>\n    </tr>\n    <tr>\n      <th>29</th>\n      <td>202104</td>\n      <td>울산광역시</td>\n      <td>전체(시 / 군 / 구)</td>\n      <td>가로등</td>\n      <td>37,520</td>\n      <td>6,527,112</td>\n      <td>749,029,082</td>\n      <td>114.8</td>\n    </tr>\n    <tr>\n      <th>30</th>\n      <td>202104</td>\n      <td>울산광역시</td>\n      <td>전체(시 / 군 / 구)</td>\n      <td>심 야</td>\n      <td>5,675</td>\n      <td>8,082,959</td>\n      <td>418,461,422</td>\n      <td>51.8</td>\n    </tr>\n    <tr>\n      <th>31</th>\n      <td>202105</td>\n      <td>울산광역시</td>\n      <td>전체(시 / 군 / 구)</td>\n      <td>주택용</td>\n      <td>331,348</td>\n      <td>124,473,267</td>\n      <td>12,443,265,765</td>\n      <td>100.0</td>\n    </tr>\n    <tr>\n      <th>32</th>\n      <td>202105</td>\n      <td>울산광역시</td>\n      <td>전체(시 / 군 / 구)</td>\n      <td>일반용</td>\n      <td>73,027</td>\n      <td>144,461,688</td>\n      <td>17,425,877,897</td>\n      <td>120.6</td>\n    </tr>\n    <tr>\n      <th>33</th>\n      <td>202105</td>\n      <td>울산광역시</td>\n      <td>전체(시 / 군 / 구)</td>\n      <td>교육용</td>\n      <td>429</td>\n      <td>13,235,762</td>\n      <td>1,078,086,431</td>\n      <td>81.5</td>\n    </tr>\n    <tr>\n      <th>34</th>\n      <td>202105</td>\n      <td>울산광역시</td>\n      <td>전체(시 / 군 / 구)</td>\n      <td>산업용</td>\n      <td>6,533</td>\n      <td>2,382,855,123</td>\n      <td>194,386,178,638</td>\n      <td>81.6</td>\n    </tr>\n    <tr>\n      <th>35</th>\n      <td>202105</td>\n      <td>울산광역시</td>\n      <td>전체(시 / 군 / 구)</td>\n      <td>농사용</td>\n      <td>16,478</td>\n      <td>6,073,257</td>\n      <td>310,997,220</td>\n      <td>51.2</td>\n    </tr>\n    <tr>\n      <th>36</th>\n      <td>202105</td>\n      <td>울산광역시</td>\n      <td>전체(시 / 군 / 구)</td>\n      <td>가로등</td>\n      <td>37,554</td>\n      <td>6,086,621</td>\n      <td>718,361,183</td>\n      <td>118.0</td>\n    </tr>\n    <tr>\n      <th>37</th>\n      <td>202105</td>\n      <td>울산광역시</td>\n      <td>전체(시 / 군 / 구)</td>\n      <td>심 야</td>\n      <td>5,611</td>\n      <td>5,611,671</td>\n      <td>292,540,473</td>\n      <td>52.1</td>\n    </tr>\n    <tr>\n      <th>38</th>\n      <td>202106</td>\n      <td>울산광역시</td>\n      <td>전체(시 / 군 / 구)</td>\n      <td>주택용</td>\n      <td>331,261</td>\n      <td>128,696,448</td>\n      <td>13,060,609,436</td>\n      <td>101.5</td>\n    </tr>\n    <tr>\n      <th>39</th>\n      <td>202106</td>\n      <td>울산광역시</td>\n      <td>전체(시 / 군 / 구)</td>\n      <td>일반용</td>\n      <td>73,278</td>\n      <td>158,632,676</td>\n      <td>21,467,175,286</td>\n      <td>135.3</td>\n    </tr>\n    <tr>\n      <th>40</th>\n      <td>202106</td>\n      <td>울산광역시</td>\n      <td>전체(시 / 군 / 구)</td>\n      <td>교육용</td>\n      <td>428</td>\n      <td>14,955,566</td>\n      <td>1,603,841,440</td>\n      <td>107.2</td>\n    </tr>\n    <tr>\n      <th>41</th>\n      <td>202106</td>\n      <td>울산광역시</td>\n      <td>전체(시 / 군 / 구)</td>\n      <td>산업용</td>\n      <td>6,530</td>\n      <td>2,366,725,053</td>\n      <td>254,942,531,406</td>\n      <td>107.7</td>\n    </tr>\n    <tr>\n      <th>42</th>\n      <td>202106</td>\n      <td>울산광역시</td>\n      <td>전체(시 / 군 / 구)</td>\n      <td>농사용</td>\n      <td>16,631</td>\n      <td>6,549,242</td>\n      <td>327,022,305</td>\n      <td>49.9</td>\n    </tr>\n    <tr>\n      <th>43</th>\n      <td>202106</td>\n      <td>울산광역시</td>\n      <td>전체(시 / 군 / 구)</td>\n      <td>가로등</td>\n      <td>37,936</td>\n      <td>5,848,477</td>\n      <td>711,938,001</td>\n      <td>121.7</td>\n    </tr>\n    <tr>\n      <th>44</th>\n      <td>202106</td>\n      <td>울산광역시</td>\n      <td>전체(시 / 군 / 구)</td>\n      <td>심 야</td>\n      <td>5,572</td>\n      <td>4,046,734</td>\n      <td>224,342,183</td>\n      <td>55.4</td>\n    </tr>\n    <tr>\n      <th>45</th>\n      <td>합계</td>\n      <td>합계</td>\n      <td>합계</td>\n      <td>합계</td>\n      <td>2,826,648</td>\n      <td>16,488,046,837</td>\n      <td>1,583,240,766,194</td>\n      <td>96</td>\n    </tr>\n  </tbody>\n</table>\n</div>"
     },
     "execution_count": 6,
     "metadata": {},
     "output_type": "execute_result"
    }
   ],
   "source": [
    "df_2 = df.loc[:45]\n",
    "df_2\n"
   ],
   "metadata": {
    "collapsed": false,
    "pycharm": {
     "name": "#%%\n"
    }
   }
  },
  {
   "cell_type": "code",
   "execution_count": 7,
   "outputs": [
    {
     "name": "stderr",
     "output_type": "stream",
     "text": [
      "C:\\Users\\user\\AppData\\Local\\Temp\\ipykernel_20168\\3551721261.py:3: SettingWithCopyWarning: \n",
      "A value is trying to be set on a copy of a slice from a DataFrame\n",
      "\n",
      "See the caveats in the documentation: https://pandas.pydata.org/pandas-docs/stable/user_guide/indexing.html#returning-a-view-versus-a-copy\n",
      "  GyeonGi.drop(['시군구' , '전기요금(원)' , '평균판매단가(원/kWh)'] , axis = 1 , inplace = True)\n"
     ]
    },
    {
     "data": {
      "text/plain": "        년월     시구 계약구분  고객호수(호)      사용량(kWh)\n4   202101  울산광역시  일반용  72,993   189,617,038 \n11  202102  울산광역시  일반용  72,954   179,203,800 \n18  202103  울산광역시  일반용  72,965   155,608,727 \n25  202104  울산광역시  일반용  72,989   154,452,328 \n32  202105  울산광역시  일반용  73,027   144,461,688 \n39  202106  울산광역시  일반용  73,278   158,632,676 ",
      "text/html": "<div>\n<style scoped>\n    .dataframe tbody tr th:only-of-type {\n        vertical-align: middle;\n    }\n\n    .dataframe tbody tr th {\n        vertical-align: top;\n    }\n\n    .dataframe thead th {\n        text-align: right;\n    }\n</style>\n<table border=\"1\" class=\"dataframe\">\n  <thead>\n    <tr style=\"text-align: right;\">\n      <th></th>\n      <th>년월</th>\n      <th>시구</th>\n      <th>계약구분</th>\n      <th>고객호수(호)</th>\n      <th>사용량(kWh)</th>\n    </tr>\n  </thead>\n  <tbody>\n    <tr>\n      <th>4</th>\n      <td>202101</td>\n      <td>울산광역시</td>\n      <td>일반용</td>\n      <td>72,993</td>\n      <td>189,617,038</td>\n    </tr>\n    <tr>\n      <th>11</th>\n      <td>202102</td>\n      <td>울산광역시</td>\n      <td>일반용</td>\n      <td>72,954</td>\n      <td>179,203,800</td>\n    </tr>\n    <tr>\n      <th>18</th>\n      <td>202103</td>\n      <td>울산광역시</td>\n      <td>일반용</td>\n      <td>72,965</td>\n      <td>155,608,727</td>\n    </tr>\n    <tr>\n      <th>25</th>\n      <td>202104</td>\n      <td>울산광역시</td>\n      <td>일반용</td>\n      <td>72,989</td>\n      <td>154,452,328</td>\n    </tr>\n    <tr>\n      <th>32</th>\n      <td>202105</td>\n      <td>울산광역시</td>\n      <td>일반용</td>\n      <td>73,027</td>\n      <td>144,461,688</td>\n    </tr>\n    <tr>\n      <th>39</th>\n      <td>202106</td>\n      <td>울산광역시</td>\n      <td>일반용</td>\n      <td>73,278</td>\n      <td>158,632,676</td>\n    </tr>\n  </tbody>\n</table>\n</div>"
     },
     "execution_count": 7,
     "metadata": {},
     "output_type": "execute_result"
    }
   ],
   "source": [
    "GyeonGi  = df_2.loc[(df_2['계약구분'] == '일반용')]\n",
    "#SEOUL = df_3.loc[(df_3['계약구분'] =='일반용')]\n",
    "GyeonGi.drop(['시군구' , '전기요금(원)' , '평균판매단가(원/kWh)'] , axis = 1 , inplace = True)\n",
    "GyeonGi"
   ],
   "metadata": {
    "collapsed": false,
    "pycharm": {
     "name": "#%%\n"
    }
   }
  },
  {
   "cell_type": "code",
   "execution_count": 8,
   "outputs": [],
   "source": [
    "#SEOUL1.to_csv(\"서울특별시_계약종별_전국_전력사용량_2022.csv\" , mode = 'w' , encoding= 'cp949')"
   ],
   "metadata": {
    "collapsed": false,
    "pycharm": {
     "name": "#%%\n"
    }
   }
  },
  {
   "cell_type": "code",
   "execution_count": 9,
   "outputs": [],
   "source": [
    "#df_2.to_csv(\"서울특별시_계약종별_전국_전력사용량.csv\" , mode = 'w' , encoding= 'cp949')"
   ],
   "metadata": {
    "collapsed": false,
    "pycharm": {
     "name": "#%%\n"
    }
   }
  },
  {
   "cell_type": "code",
   "execution_count": 10,
   "outputs": [
    {
     "data": {
      "text/plain": "         년월     시구  시군구 계약구분  고객호수(호)     사용량(kWh)\n53   202101  울산광역시   남구  일반용  25,178   68,039,285 \n93   202102  울산광역시   남구  일반용  25,139   64,896,235 \n133  202103  울산광역시   남구  일반용  25,126   55,854,885 \n173  202104  울산광역시   남구  일반용  25,101   55,156,445 \n213  202105  울산광역시   남구  일반용  25,083   51,350,066 \n253  202106  울산광역시   남구  일반용  25,138   56,974,813 \n61   202101  울산광역시   동구  일반용   7,705   19,556,582 \n101  202102  울산광역시   동구  일반용   7,698   18,327,052 \n141  202103  울산광역시   동구  일반용   7,686   16,558,474 \n181  202104  울산광역시   동구  일반용   7,677   16,749,996 \n221  202105  울산광역시   동구  일반용   7,691   15,792,459 \n261  202106  울산광역시   동구  일반용   7,705   17,256,227 \n69   202101  울산광역시   북구  일반용  10,144   29,478,229 \n109  202102  울산광역시   북구  일반용  10,172   27,602,008 \n149  202103  울산광역시   북구  일반용  10,211   23,683,264 \n189  202104  울산광역시   북구  일반용  10,229   23,909,740 \n229  202105  울산광역시   북구  일반용  10,242   22,802,241 \n269  202106  울산광역시   북구  일반용  10,327   25,280,392 \n77   202101  울산광역시  울주군  일반용  16,408   42,638,668 \n117  202102  울산광역시  울주군  일반용  16,413   40,239,706 \n157  202103  울산광역시  울주군  일반용  16,402   35,056,829 \n197  202104  울산광역시  울주군  일반용  16,443   34,633,528 \n237  202105  울산광역시  울주군  일반용  16,448   31,845,376 \n277  202106  울산광역시  울주군  일반용  16,547   33,838,361 \n85   202101  울산광역시   중구  일반용  13,558   29,904,274 \n125  202102  울산광역시   중구  일반용  13,532   28,138,799 \n165  202103  울산광역시   중구  일반용  13,540   24,455,275 \n205  202104  울산광역시   중구  일반용  13,539   24,002,619 \n245  202105  울산광역시   중구  일반용  13,563   22,671,546 \n285  202106  울산광역시   중구  일반용  13,561   25,282,883 ",
      "text/html": "<div>\n<style scoped>\n    .dataframe tbody tr th:only-of-type {\n        vertical-align: middle;\n    }\n\n    .dataframe tbody tr th {\n        vertical-align: top;\n    }\n\n    .dataframe thead th {\n        text-align: right;\n    }\n</style>\n<table border=\"1\" class=\"dataframe\">\n  <thead>\n    <tr style=\"text-align: right;\">\n      <th></th>\n      <th>년월</th>\n      <th>시구</th>\n      <th>시군구</th>\n      <th>계약구분</th>\n      <th>고객호수(호)</th>\n      <th>사용량(kWh)</th>\n    </tr>\n  </thead>\n  <tbody>\n    <tr>\n      <th>53</th>\n      <td>202101</td>\n      <td>울산광역시</td>\n      <td>남구</td>\n      <td>일반용</td>\n      <td>25,178</td>\n      <td>68,039,285</td>\n    </tr>\n    <tr>\n      <th>93</th>\n      <td>202102</td>\n      <td>울산광역시</td>\n      <td>남구</td>\n      <td>일반용</td>\n      <td>25,139</td>\n      <td>64,896,235</td>\n    </tr>\n    <tr>\n      <th>133</th>\n      <td>202103</td>\n      <td>울산광역시</td>\n      <td>남구</td>\n      <td>일반용</td>\n      <td>25,126</td>\n      <td>55,854,885</td>\n    </tr>\n    <tr>\n      <th>173</th>\n      <td>202104</td>\n      <td>울산광역시</td>\n      <td>남구</td>\n      <td>일반용</td>\n      <td>25,101</td>\n      <td>55,156,445</td>\n    </tr>\n    <tr>\n      <th>213</th>\n      <td>202105</td>\n      <td>울산광역시</td>\n      <td>남구</td>\n      <td>일반용</td>\n      <td>25,083</td>\n      <td>51,350,066</td>\n    </tr>\n    <tr>\n      <th>253</th>\n      <td>202106</td>\n      <td>울산광역시</td>\n      <td>남구</td>\n      <td>일반용</td>\n      <td>25,138</td>\n      <td>56,974,813</td>\n    </tr>\n    <tr>\n      <th>61</th>\n      <td>202101</td>\n      <td>울산광역시</td>\n      <td>동구</td>\n      <td>일반용</td>\n      <td>7,705</td>\n      <td>19,556,582</td>\n    </tr>\n    <tr>\n      <th>101</th>\n      <td>202102</td>\n      <td>울산광역시</td>\n      <td>동구</td>\n      <td>일반용</td>\n      <td>7,698</td>\n      <td>18,327,052</td>\n    </tr>\n    <tr>\n      <th>141</th>\n      <td>202103</td>\n      <td>울산광역시</td>\n      <td>동구</td>\n      <td>일반용</td>\n      <td>7,686</td>\n      <td>16,558,474</td>\n    </tr>\n    <tr>\n      <th>181</th>\n      <td>202104</td>\n      <td>울산광역시</td>\n      <td>동구</td>\n      <td>일반용</td>\n      <td>7,677</td>\n      <td>16,749,996</td>\n    </tr>\n    <tr>\n      <th>221</th>\n      <td>202105</td>\n      <td>울산광역시</td>\n      <td>동구</td>\n      <td>일반용</td>\n      <td>7,691</td>\n      <td>15,792,459</td>\n    </tr>\n    <tr>\n      <th>261</th>\n      <td>202106</td>\n      <td>울산광역시</td>\n      <td>동구</td>\n      <td>일반용</td>\n      <td>7,705</td>\n      <td>17,256,227</td>\n    </tr>\n    <tr>\n      <th>69</th>\n      <td>202101</td>\n      <td>울산광역시</td>\n      <td>북구</td>\n      <td>일반용</td>\n      <td>10,144</td>\n      <td>29,478,229</td>\n    </tr>\n    <tr>\n      <th>109</th>\n      <td>202102</td>\n      <td>울산광역시</td>\n      <td>북구</td>\n      <td>일반용</td>\n      <td>10,172</td>\n      <td>27,602,008</td>\n    </tr>\n    <tr>\n      <th>149</th>\n      <td>202103</td>\n      <td>울산광역시</td>\n      <td>북구</td>\n      <td>일반용</td>\n      <td>10,211</td>\n      <td>23,683,264</td>\n    </tr>\n    <tr>\n      <th>189</th>\n      <td>202104</td>\n      <td>울산광역시</td>\n      <td>북구</td>\n      <td>일반용</td>\n      <td>10,229</td>\n      <td>23,909,740</td>\n    </tr>\n    <tr>\n      <th>229</th>\n      <td>202105</td>\n      <td>울산광역시</td>\n      <td>북구</td>\n      <td>일반용</td>\n      <td>10,242</td>\n      <td>22,802,241</td>\n    </tr>\n    <tr>\n      <th>269</th>\n      <td>202106</td>\n      <td>울산광역시</td>\n      <td>북구</td>\n      <td>일반용</td>\n      <td>10,327</td>\n      <td>25,280,392</td>\n    </tr>\n    <tr>\n      <th>77</th>\n      <td>202101</td>\n      <td>울산광역시</td>\n      <td>울주군</td>\n      <td>일반용</td>\n      <td>16,408</td>\n      <td>42,638,668</td>\n    </tr>\n    <tr>\n      <th>117</th>\n      <td>202102</td>\n      <td>울산광역시</td>\n      <td>울주군</td>\n      <td>일반용</td>\n      <td>16,413</td>\n      <td>40,239,706</td>\n    </tr>\n    <tr>\n      <th>157</th>\n      <td>202103</td>\n      <td>울산광역시</td>\n      <td>울주군</td>\n      <td>일반용</td>\n      <td>16,402</td>\n      <td>35,056,829</td>\n    </tr>\n    <tr>\n      <th>197</th>\n      <td>202104</td>\n      <td>울산광역시</td>\n      <td>울주군</td>\n      <td>일반용</td>\n      <td>16,443</td>\n      <td>34,633,528</td>\n    </tr>\n    <tr>\n      <th>237</th>\n      <td>202105</td>\n      <td>울산광역시</td>\n      <td>울주군</td>\n      <td>일반용</td>\n      <td>16,448</td>\n      <td>31,845,376</td>\n    </tr>\n    <tr>\n      <th>277</th>\n      <td>202106</td>\n      <td>울산광역시</td>\n      <td>울주군</td>\n      <td>일반용</td>\n      <td>16,547</td>\n      <td>33,838,361</td>\n    </tr>\n    <tr>\n      <th>85</th>\n      <td>202101</td>\n      <td>울산광역시</td>\n      <td>중구</td>\n      <td>일반용</td>\n      <td>13,558</td>\n      <td>29,904,274</td>\n    </tr>\n    <tr>\n      <th>125</th>\n      <td>202102</td>\n      <td>울산광역시</td>\n      <td>중구</td>\n      <td>일반용</td>\n      <td>13,532</td>\n      <td>28,138,799</td>\n    </tr>\n    <tr>\n      <th>165</th>\n      <td>202103</td>\n      <td>울산광역시</td>\n      <td>중구</td>\n      <td>일반용</td>\n      <td>13,540</td>\n      <td>24,455,275</td>\n    </tr>\n    <tr>\n      <th>205</th>\n      <td>202104</td>\n      <td>울산광역시</td>\n      <td>중구</td>\n      <td>일반용</td>\n      <td>13,539</td>\n      <td>24,002,619</td>\n    </tr>\n    <tr>\n      <th>245</th>\n      <td>202105</td>\n      <td>울산광역시</td>\n      <td>중구</td>\n      <td>일반용</td>\n      <td>13,563</td>\n      <td>22,671,546</td>\n    </tr>\n    <tr>\n      <th>285</th>\n      <td>202106</td>\n      <td>울산광역시</td>\n      <td>중구</td>\n      <td>일반용</td>\n      <td>13,561</td>\n      <td>25,282,883</td>\n    </tr>\n  </tbody>\n</table>\n</div>"
     },
     "execution_count": 10,
     "metadata": {},
     "output_type": "execute_result"
    }
   ],
   "source": [
    "df_3 = df.loc[48:]\n",
    "df_3 = df_3.loc[(df_3['계약구분'] == '일반용')]\n",
    "df_3 = df_3.sort_values(by=['시군구' , '년월'])\n",
    "df_3.drop(['전기요금(원)',   '평균판매단가(원/kWh)'] , axis = 1 , inplace = True)\n",
    "df_3"
   ],
   "metadata": {
    "collapsed": false,
    "pycharm": {
     "name": "#%%\n"
    }
   }
  },
  {
   "cell_type": "code",
   "execution_count": 11,
   "outputs": [
    {
     "data": {
      "text/plain": "'울산광역시'"
     },
     "execution_count": 11,
     "metadata": {},
     "output_type": "execute_result"
    }
   ],
   "source": [
    "a = df_3.loc[: , \"시구\"]\n",
    "b = a[:1].tolist()\n",
    "for i in b:\n",
    "    City = i\n",
    "City"
   ],
   "metadata": {
    "collapsed": false,
    "pycharm": {
     "name": "#%%\n"
    }
   }
  },
  {
   "cell_type": "code",
   "execution_count": 12,
   "outputs": [
    {
     "data": {
      "text/plain": "['남구', '동구', '북구', '울주군', '중구']"
     },
     "execution_count": 12,
     "metadata": {},
     "output_type": "execute_result"
    }
   ],
   "source": [
    "\n",
    "SIGUNGU = list(set(df_3.loc[: , '시군구'].tolist()))\n",
    "SIGUNGU.sort()\n",
    "SIGUNGU"
   ],
   "metadata": {
    "collapsed": false,
    "pycharm": {
     "name": "#%%\n"
    }
   }
  },
  {
   "cell_type": "code",
   "execution_count": 13,
   "outputs": [
    {
     "data": {
      "text/plain": "         년월     시구  시군구 계약구분   고객호수(호)        사용량(kWh)\n55   202101  울산광역시   남구   합계  136,428   1,356,803,673 \n95   202102  울산광역시   남구   합계  136,286   1,238,593,314 \n135  202103  울산광역시   남구   합계  136,143   1,330,121,973 \n175  202104  울산광역시   남구   합계  136,005   1,279,800,453 \n215  202105  울산광역시   남구   합계  135,948   1,358,470,222 \n255  202106  울산광역시   남구   합계  135,884   1,331,812,681 \n63   202101  울산광역시   동구   합계   60,152     130,354,391 \n103  202102  울산광역시   동구   합계   60,218     107,974,686 \n143  202103  울산광역시   동구   합계   60,215     112,369,553 \n183  202104  울산광역시   동구   합계   60,239     109,748,643 \n223  202105  울산광역시   동구   합계   60,233     104,749,728 \n263  202106  울산광역시   동구   합계   60,234     121,520,783 \n71   202101  울산광역시   북구   합계   56,455     217,362,103 \n111  202102  울산광역시   북구   합계   56,553     189,421,727 \n151  202103  울산광역시   북구   합계   56,847     198,431,619 \n191  202104  울산광역시   북구   합계   56,794     188,425,350 \n231  202105  울산광역시   북구   합계   56,905     179,018,170 \n271  202106  울산광역시   북구   합계   57,116     198,807,346 \n79   202101  울산광역시  울주군   합계  124,820   1,173,105,620 \n119  202102  울산광역시  울주군   합계  124,855   1,047,673,435 \n159  202103  울산광역시  울주군   합계  125,630   1,117,099,373 \n199  202104  울산광역시  울주군   합계  125,214   1,083,858,905 \n239  202105  울산광역시  울주군   합계  125,334     989,463,621 \n279  202106  울산광역시  울주군   합계  125,852     978,713,327 \n87   202101  울산광역시   중구   합계   92,915      66,159,227 \n127  202102  울산광역시   중구   합계   92,833      63,131,906 \n167  202103  울산광역시   중구   합계   92,859      54,578,671 \n207  202104  울산광역시   중구   합계   92,571      54,780,630 \n247  202105  울산광역시   중구   합계   92,560      51,095,648 \n287  202106  울산광역시   중구   합계   92,550      54,600,059 ",
      "text/html": "<div>\n<style scoped>\n    .dataframe tbody tr th:only-of-type {\n        vertical-align: middle;\n    }\n\n    .dataframe tbody tr th {\n        vertical-align: top;\n    }\n\n    .dataframe thead th {\n        text-align: right;\n    }\n</style>\n<table border=\"1\" class=\"dataframe\">\n  <thead>\n    <tr style=\"text-align: right;\">\n      <th></th>\n      <th>년월</th>\n      <th>시구</th>\n      <th>시군구</th>\n      <th>계약구분</th>\n      <th>고객호수(호)</th>\n      <th>사용량(kWh)</th>\n    </tr>\n  </thead>\n  <tbody>\n    <tr>\n      <th>55</th>\n      <td>202101</td>\n      <td>울산광역시</td>\n      <td>남구</td>\n      <td>합계</td>\n      <td>136,428</td>\n      <td>1,356,803,673</td>\n    </tr>\n    <tr>\n      <th>95</th>\n      <td>202102</td>\n      <td>울산광역시</td>\n      <td>남구</td>\n      <td>합계</td>\n      <td>136,286</td>\n      <td>1,238,593,314</td>\n    </tr>\n    <tr>\n      <th>135</th>\n      <td>202103</td>\n      <td>울산광역시</td>\n      <td>남구</td>\n      <td>합계</td>\n      <td>136,143</td>\n      <td>1,330,121,973</td>\n    </tr>\n    <tr>\n      <th>175</th>\n      <td>202104</td>\n      <td>울산광역시</td>\n      <td>남구</td>\n      <td>합계</td>\n      <td>136,005</td>\n      <td>1,279,800,453</td>\n    </tr>\n    <tr>\n      <th>215</th>\n      <td>202105</td>\n      <td>울산광역시</td>\n      <td>남구</td>\n      <td>합계</td>\n      <td>135,948</td>\n      <td>1,358,470,222</td>\n    </tr>\n    <tr>\n      <th>255</th>\n      <td>202106</td>\n      <td>울산광역시</td>\n      <td>남구</td>\n      <td>합계</td>\n      <td>135,884</td>\n      <td>1,331,812,681</td>\n    </tr>\n    <tr>\n      <th>63</th>\n      <td>202101</td>\n      <td>울산광역시</td>\n      <td>동구</td>\n      <td>합계</td>\n      <td>60,152</td>\n      <td>130,354,391</td>\n    </tr>\n    <tr>\n      <th>103</th>\n      <td>202102</td>\n      <td>울산광역시</td>\n      <td>동구</td>\n      <td>합계</td>\n      <td>60,218</td>\n      <td>107,974,686</td>\n    </tr>\n    <tr>\n      <th>143</th>\n      <td>202103</td>\n      <td>울산광역시</td>\n      <td>동구</td>\n      <td>합계</td>\n      <td>60,215</td>\n      <td>112,369,553</td>\n    </tr>\n    <tr>\n      <th>183</th>\n      <td>202104</td>\n      <td>울산광역시</td>\n      <td>동구</td>\n      <td>합계</td>\n      <td>60,239</td>\n      <td>109,748,643</td>\n    </tr>\n    <tr>\n      <th>223</th>\n      <td>202105</td>\n      <td>울산광역시</td>\n      <td>동구</td>\n      <td>합계</td>\n      <td>60,233</td>\n      <td>104,749,728</td>\n    </tr>\n    <tr>\n      <th>263</th>\n      <td>202106</td>\n      <td>울산광역시</td>\n      <td>동구</td>\n      <td>합계</td>\n      <td>60,234</td>\n      <td>121,520,783</td>\n    </tr>\n    <tr>\n      <th>71</th>\n      <td>202101</td>\n      <td>울산광역시</td>\n      <td>북구</td>\n      <td>합계</td>\n      <td>56,455</td>\n      <td>217,362,103</td>\n    </tr>\n    <tr>\n      <th>111</th>\n      <td>202102</td>\n      <td>울산광역시</td>\n      <td>북구</td>\n      <td>합계</td>\n      <td>56,553</td>\n      <td>189,421,727</td>\n    </tr>\n    <tr>\n      <th>151</th>\n      <td>202103</td>\n      <td>울산광역시</td>\n      <td>북구</td>\n      <td>합계</td>\n      <td>56,847</td>\n      <td>198,431,619</td>\n    </tr>\n    <tr>\n      <th>191</th>\n      <td>202104</td>\n      <td>울산광역시</td>\n      <td>북구</td>\n      <td>합계</td>\n      <td>56,794</td>\n      <td>188,425,350</td>\n    </tr>\n    <tr>\n      <th>231</th>\n      <td>202105</td>\n      <td>울산광역시</td>\n      <td>북구</td>\n      <td>합계</td>\n      <td>56,905</td>\n      <td>179,018,170</td>\n    </tr>\n    <tr>\n      <th>271</th>\n      <td>202106</td>\n      <td>울산광역시</td>\n      <td>북구</td>\n      <td>합계</td>\n      <td>57,116</td>\n      <td>198,807,346</td>\n    </tr>\n    <tr>\n      <th>79</th>\n      <td>202101</td>\n      <td>울산광역시</td>\n      <td>울주군</td>\n      <td>합계</td>\n      <td>124,820</td>\n      <td>1,173,105,620</td>\n    </tr>\n    <tr>\n      <th>119</th>\n      <td>202102</td>\n      <td>울산광역시</td>\n      <td>울주군</td>\n      <td>합계</td>\n      <td>124,855</td>\n      <td>1,047,673,435</td>\n    </tr>\n    <tr>\n      <th>159</th>\n      <td>202103</td>\n      <td>울산광역시</td>\n      <td>울주군</td>\n      <td>합계</td>\n      <td>125,630</td>\n      <td>1,117,099,373</td>\n    </tr>\n    <tr>\n      <th>199</th>\n      <td>202104</td>\n      <td>울산광역시</td>\n      <td>울주군</td>\n      <td>합계</td>\n      <td>125,214</td>\n      <td>1,083,858,905</td>\n    </tr>\n    <tr>\n      <th>239</th>\n      <td>202105</td>\n      <td>울산광역시</td>\n      <td>울주군</td>\n      <td>합계</td>\n      <td>125,334</td>\n      <td>989,463,621</td>\n    </tr>\n    <tr>\n      <th>279</th>\n      <td>202106</td>\n      <td>울산광역시</td>\n      <td>울주군</td>\n      <td>합계</td>\n      <td>125,852</td>\n      <td>978,713,327</td>\n    </tr>\n    <tr>\n      <th>87</th>\n      <td>202101</td>\n      <td>울산광역시</td>\n      <td>중구</td>\n      <td>합계</td>\n      <td>92,915</td>\n      <td>66,159,227</td>\n    </tr>\n    <tr>\n      <th>127</th>\n      <td>202102</td>\n      <td>울산광역시</td>\n      <td>중구</td>\n      <td>합계</td>\n      <td>92,833</td>\n      <td>63,131,906</td>\n    </tr>\n    <tr>\n      <th>167</th>\n      <td>202103</td>\n      <td>울산광역시</td>\n      <td>중구</td>\n      <td>합계</td>\n      <td>92,859</td>\n      <td>54,578,671</td>\n    </tr>\n    <tr>\n      <th>207</th>\n      <td>202104</td>\n      <td>울산광역시</td>\n      <td>중구</td>\n      <td>합계</td>\n      <td>92,571</td>\n      <td>54,780,630</td>\n    </tr>\n    <tr>\n      <th>247</th>\n      <td>202105</td>\n      <td>울산광역시</td>\n      <td>중구</td>\n      <td>합계</td>\n      <td>92,560</td>\n      <td>51,095,648</td>\n    </tr>\n    <tr>\n      <th>287</th>\n      <td>202106</td>\n      <td>울산광역시</td>\n      <td>중구</td>\n      <td>합계</td>\n      <td>92,550</td>\n      <td>54,600,059</td>\n    </tr>\n  </tbody>\n</table>\n</div>"
     },
     "execution_count": 13,
     "metadata": {},
     "output_type": "execute_result"
    }
   ],
   "source": [
    "df_4 = df.loc[48:]\n",
    "df_4 = df_4.loc[(df_4['계약구분'] == '합계')]\n",
    "df_4 = df_4.sort_values(by=['시군구' , '년월'])\n",
    "df_4.drop(['전기요금(원)',   '평균판매단가(원/kWh)'] , axis = 1 , inplace = True)\n",
    "df_4"
   ],
   "metadata": {
    "collapsed": false,
    "pycharm": {
     "name": "#%%\n"
    }
   }
  },
  {
   "cell_type": "code",
   "execution_count": 14,
   "outputs": [
    {
     "name": "stdout",
     "output_type": "stream",
     "text": [
      "[1356803673, 1238593314, 1330121973, 1279800453, 1358470222, 1331812681]\n",
      "[130354391, 107974686, 112369553, 109748643, 104749728, 121520783]\n",
      "[217362103, 189421727, 198431619, 188425350, 179018170, 198807346]\n",
      "[1173105620, 1047673435, 1117099373, 1083858905, 989463621, 978713327]\n",
      "[66159227, 63131906, 54578671, 54780630, 51095648, 54600059]\n",
      "울산광역시 지역별 합계 :  [7895602316, 686717784, 1171466315, 6389914281, 344346141]\n",
      "울산광역시 고객호수 평균:  [22685, 10035, 9463, 20880, 15452]\n"
     ]
    }
   ],
   "source": [
    "sum2 , sum3 =[] , []\n",
    "for k in SIGUNGU:\n",
    "    GyeonGiHap = pd.DataFrame([] , columns = a)\n",
    "    HOSU = pd.DataFrame([], columns = a)\n",
    "    GyeonGiHap['사용량']= df_4['사용량(kWh)'].loc[(df_4['시군구'] == '{}'.format(k))]\n",
    "    HOSU['고객호수']= df_4['고객호수(호)'].loc[(df_4['시군구'] == '{}'.format(k))]\n",
    "    #경기합 데이터프레임의 사용량 열에 기군구가 가평군인 사용량 데이터만 뽑아내기\n",
    "    # GyeonGiHap = GyeonGiHap['사용량']\n",
    "\n",
    "    b = GyeonGiHap['사용량'].tolist()\n",
    "    c = HOSU['고객호수'].tolist()\n",
    "\n",
    "\n",
    "    #각지역별 사용량 리스트화\n",
    "    int_list  , int_list2=[] , []\n",
    "    for i in b:\n",
    "        i = re.sub(\",\" , \"\" , i)\n",
    "        #콤마 없애기\n",
    "        int_list.append(int(i))\n",
    "        #int_list에 각지역별 사용량 int로 저장\n",
    "    print(int_list)\n",
    "    sum=0\n",
    "    for i in c:\n",
    "        i = re.sub(\",\" , \"\" , i)\n",
    "        int_list2.append(int(i))\n",
    "\n",
    "    for j in int_list:\n",
    "\n",
    "        sum+= j\n",
    "    sum2.append(sum)\n",
    "    sum = 0\n",
    "    for j in int_list2: #고객호수 추출하여 더하기\n",
    "\n",
    "        sum+= j\n",
    "    sum3.append(sum//36) #6개월 치로 나눠야하나?!\n",
    "\n",
    "\n",
    "\n",
    "\n",
    "print(\"{} 지역별 합계 : \".format(City) , sum2)\n",
    "print(\"{} 고객호수 평균: \".format(City) , sum3)"
   ],
   "metadata": {
    "collapsed": false,
    "pycharm": {
     "name": "#%%\n"
    }
   }
  },
  {
   "cell_type": "markdown",
   "source": [
    "### 2. 날짜 체크!!!!!!!!!!!!!!!!!!!!!!!!!!!!!!!!!!!!!!!!!!!!!!"
   ],
   "metadata": {
    "collapsed": false,
    "pycharm": {
     "name": "#%% md\n"
    }
   }
  },
  {
   "cell_type": "code",
   "execution_count": 15,
   "outputs": [
    {
     "name": "stderr",
     "output_type": "stream",
     "text": [
      "C:\\Users\\user\\AppData\\Local\\Temp\\ipykernel_20168\\1481603074.py:4: FutureWarning: The frame.append method is deprecated and will be removed from pandas in a future version. Use pandas.concat instead.\n",
      "  Hap = Hap.append({'년월' :'202101-202106'  , '시구' : '{}'.format(City) , '시군구' : '{}'.format(SIGUNGU[i]) , '계약구분' : '합계' , '고객호수(호)' : sum3[i] ,  '사용량(kWh)' : sum2[i]} , ignore_index=True) #년월 파일마다 수정하기\n",
      "C:\\Users\\user\\AppData\\Local\\Temp\\ipykernel_20168\\1481603074.py:4: FutureWarning: The frame.append method is deprecated and will be removed from pandas in a future version. Use pandas.concat instead.\n",
      "  Hap = Hap.append({'년월' :'202101-202106'  , '시구' : '{}'.format(City) , '시군구' : '{}'.format(SIGUNGU[i]) , '계약구분' : '합계' , '고객호수(호)' : sum3[i] ,  '사용량(kWh)' : sum2[i]} , ignore_index=True) #년월 파일마다 수정하기\n",
      "C:\\Users\\user\\AppData\\Local\\Temp\\ipykernel_20168\\1481603074.py:4: FutureWarning: The frame.append method is deprecated and will be removed from pandas in a future version. Use pandas.concat instead.\n",
      "  Hap = Hap.append({'년월' :'202101-202106'  , '시구' : '{}'.format(City) , '시군구' : '{}'.format(SIGUNGU[i]) , '계약구분' : '합계' , '고객호수(호)' : sum3[i] ,  '사용량(kWh)' : sum2[i]} , ignore_index=True) #년월 파일마다 수정하기\n",
      "C:\\Users\\user\\AppData\\Local\\Temp\\ipykernel_20168\\1481603074.py:4: FutureWarning: The frame.append method is deprecated and will be removed from pandas in a future version. Use pandas.concat instead.\n",
      "  Hap = Hap.append({'년월' :'202101-202106'  , '시구' : '{}'.format(City) , '시군구' : '{}'.format(SIGUNGU[i]) , '계약구분' : '합계' , '고객호수(호)' : sum3[i] ,  '사용량(kWh)' : sum2[i]} , ignore_index=True) #년월 파일마다 수정하기\n",
      "C:\\Users\\user\\AppData\\Local\\Temp\\ipykernel_20168\\1481603074.py:4: FutureWarning: The frame.append method is deprecated and will be removed from pandas in a future version. Use pandas.concat instead.\n",
      "  Hap = Hap.append({'년월' :'202101-202106'  , '시구' : '{}'.format(City) , '시군구' : '{}'.format(SIGUNGU[i]) , '계약구분' : '합계' , '고객호수(호)' : sum3[i] ,  '사용량(kWh)' : sum2[i]} , ignore_index=True) #년월 파일마다 수정하기\n"
     ]
    },
    {
     "data": {
      "text/plain": "               년월     시구  시군구 계약구분   고객호수(호)        사용량(kWh)\n0          202101  울산광역시   남구   합계  136,428   1,356,803,673 \n1          202102  울산광역시   남구   합계  136,286   1,238,593,314 \n2          202103  울산광역시   남구   합계  136,143   1,330,121,973 \n3          202104  울산광역시   남구   합계  136,005   1,279,800,453 \n4          202105  울산광역시   남구   합계  135,948   1,358,470,222 \n5          202106  울산광역시   남구   합계  135,884   1,331,812,681 \n6          202101  울산광역시   동구   합계   60,152     130,354,391 \n7          202102  울산광역시   동구   합계   60,218     107,974,686 \n8          202103  울산광역시   동구   합계   60,215     112,369,553 \n9          202104  울산광역시   동구   합계   60,239     109,748,643 \n10         202105  울산광역시   동구   합계   60,233     104,749,728 \n11         202106  울산광역시   동구   합계   60,234     121,520,783 \n12         202101  울산광역시   북구   합계   56,455     217,362,103 \n13         202102  울산광역시   북구   합계   56,553     189,421,727 \n14         202103  울산광역시   북구   합계   56,847     198,431,619 \n15         202104  울산광역시   북구   합계   56,794     188,425,350 \n16         202105  울산광역시   북구   합계   56,905     179,018,170 \n17         202106  울산광역시   북구   합계   57,116     198,807,346 \n18         202101  울산광역시  울주군   합계  124,820   1,173,105,620 \n19         202102  울산광역시  울주군   합계  124,855   1,047,673,435 \n20         202103  울산광역시  울주군   합계  125,630   1,117,099,373 \n21         202104  울산광역시  울주군   합계  125,214   1,083,858,905 \n22         202105  울산광역시  울주군   합계  125,334     989,463,621 \n23         202106  울산광역시  울주군   합계  125,852     978,713,327 \n24         202101  울산광역시   중구   합계   92,915      66,159,227 \n25         202102  울산광역시   중구   합계   92,833      63,131,906 \n26         202103  울산광역시   중구   합계   92,859      54,578,671 \n27         202104  울산광역시   중구   합계   92,571      54,780,630 \n28         202105  울산광역시   중구   합계   92,560      51,095,648 \n29         202106  울산광역시   중구   합계   92,550      54,600,059 \n30  202101-202106  울산광역시   남구   합계     22685      7895602316\n31  202101-202106  울산광역시   동구   합계     10035       686717784\n32  202101-202106  울산광역시   북구   합계      9463      1171466315\n33  202101-202106  울산광역시  울주군   합계     20880      6389914281\n34  202101-202106  울산광역시   중구   합계     15452       344346141",
      "text/html": "<div>\n<style scoped>\n    .dataframe tbody tr th:only-of-type {\n        vertical-align: middle;\n    }\n\n    .dataframe tbody tr th {\n        vertical-align: top;\n    }\n\n    .dataframe thead th {\n        text-align: right;\n    }\n</style>\n<table border=\"1\" class=\"dataframe\">\n  <thead>\n    <tr style=\"text-align: right;\">\n      <th></th>\n      <th>년월</th>\n      <th>시구</th>\n      <th>시군구</th>\n      <th>계약구분</th>\n      <th>고객호수(호)</th>\n      <th>사용량(kWh)</th>\n    </tr>\n  </thead>\n  <tbody>\n    <tr>\n      <th>0</th>\n      <td>202101</td>\n      <td>울산광역시</td>\n      <td>남구</td>\n      <td>합계</td>\n      <td>136,428</td>\n      <td>1,356,803,673</td>\n    </tr>\n    <tr>\n      <th>1</th>\n      <td>202102</td>\n      <td>울산광역시</td>\n      <td>남구</td>\n      <td>합계</td>\n      <td>136,286</td>\n      <td>1,238,593,314</td>\n    </tr>\n    <tr>\n      <th>2</th>\n      <td>202103</td>\n      <td>울산광역시</td>\n      <td>남구</td>\n      <td>합계</td>\n      <td>136,143</td>\n      <td>1,330,121,973</td>\n    </tr>\n    <tr>\n      <th>3</th>\n      <td>202104</td>\n      <td>울산광역시</td>\n      <td>남구</td>\n      <td>합계</td>\n      <td>136,005</td>\n      <td>1,279,800,453</td>\n    </tr>\n    <tr>\n      <th>4</th>\n      <td>202105</td>\n      <td>울산광역시</td>\n      <td>남구</td>\n      <td>합계</td>\n      <td>135,948</td>\n      <td>1,358,470,222</td>\n    </tr>\n    <tr>\n      <th>5</th>\n      <td>202106</td>\n      <td>울산광역시</td>\n      <td>남구</td>\n      <td>합계</td>\n      <td>135,884</td>\n      <td>1,331,812,681</td>\n    </tr>\n    <tr>\n      <th>6</th>\n      <td>202101</td>\n      <td>울산광역시</td>\n      <td>동구</td>\n      <td>합계</td>\n      <td>60,152</td>\n      <td>130,354,391</td>\n    </tr>\n    <tr>\n      <th>7</th>\n      <td>202102</td>\n      <td>울산광역시</td>\n      <td>동구</td>\n      <td>합계</td>\n      <td>60,218</td>\n      <td>107,974,686</td>\n    </tr>\n    <tr>\n      <th>8</th>\n      <td>202103</td>\n      <td>울산광역시</td>\n      <td>동구</td>\n      <td>합계</td>\n      <td>60,215</td>\n      <td>112,369,553</td>\n    </tr>\n    <tr>\n      <th>9</th>\n      <td>202104</td>\n      <td>울산광역시</td>\n      <td>동구</td>\n      <td>합계</td>\n      <td>60,239</td>\n      <td>109,748,643</td>\n    </tr>\n    <tr>\n      <th>10</th>\n      <td>202105</td>\n      <td>울산광역시</td>\n      <td>동구</td>\n      <td>합계</td>\n      <td>60,233</td>\n      <td>104,749,728</td>\n    </tr>\n    <tr>\n      <th>11</th>\n      <td>202106</td>\n      <td>울산광역시</td>\n      <td>동구</td>\n      <td>합계</td>\n      <td>60,234</td>\n      <td>121,520,783</td>\n    </tr>\n    <tr>\n      <th>12</th>\n      <td>202101</td>\n      <td>울산광역시</td>\n      <td>북구</td>\n      <td>합계</td>\n      <td>56,455</td>\n      <td>217,362,103</td>\n    </tr>\n    <tr>\n      <th>13</th>\n      <td>202102</td>\n      <td>울산광역시</td>\n      <td>북구</td>\n      <td>합계</td>\n      <td>56,553</td>\n      <td>189,421,727</td>\n    </tr>\n    <tr>\n      <th>14</th>\n      <td>202103</td>\n      <td>울산광역시</td>\n      <td>북구</td>\n      <td>합계</td>\n      <td>56,847</td>\n      <td>198,431,619</td>\n    </tr>\n    <tr>\n      <th>15</th>\n      <td>202104</td>\n      <td>울산광역시</td>\n      <td>북구</td>\n      <td>합계</td>\n      <td>56,794</td>\n      <td>188,425,350</td>\n    </tr>\n    <tr>\n      <th>16</th>\n      <td>202105</td>\n      <td>울산광역시</td>\n      <td>북구</td>\n      <td>합계</td>\n      <td>56,905</td>\n      <td>179,018,170</td>\n    </tr>\n    <tr>\n      <th>17</th>\n      <td>202106</td>\n      <td>울산광역시</td>\n      <td>북구</td>\n      <td>합계</td>\n      <td>57,116</td>\n      <td>198,807,346</td>\n    </tr>\n    <tr>\n      <th>18</th>\n      <td>202101</td>\n      <td>울산광역시</td>\n      <td>울주군</td>\n      <td>합계</td>\n      <td>124,820</td>\n      <td>1,173,105,620</td>\n    </tr>\n    <tr>\n      <th>19</th>\n      <td>202102</td>\n      <td>울산광역시</td>\n      <td>울주군</td>\n      <td>합계</td>\n      <td>124,855</td>\n      <td>1,047,673,435</td>\n    </tr>\n    <tr>\n      <th>20</th>\n      <td>202103</td>\n      <td>울산광역시</td>\n      <td>울주군</td>\n      <td>합계</td>\n      <td>125,630</td>\n      <td>1,117,099,373</td>\n    </tr>\n    <tr>\n      <th>21</th>\n      <td>202104</td>\n      <td>울산광역시</td>\n      <td>울주군</td>\n      <td>합계</td>\n      <td>125,214</td>\n      <td>1,083,858,905</td>\n    </tr>\n    <tr>\n      <th>22</th>\n      <td>202105</td>\n      <td>울산광역시</td>\n      <td>울주군</td>\n      <td>합계</td>\n      <td>125,334</td>\n      <td>989,463,621</td>\n    </tr>\n    <tr>\n      <th>23</th>\n      <td>202106</td>\n      <td>울산광역시</td>\n      <td>울주군</td>\n      <td>합계</td>\n      <td>125,852</td>\n      <td>978,713,327</td>\n    </tr>\n    <tr>\n      <th>24</th>\n      <td>202101</td>\n      <td>울산광역시</td>\n      <td>중구</td>\n      <td>합계</td>\n      <td>92,915</td>\n      <td>66,159,227</td>\n    </tr>\n    <tr>\n      <th>25</th>\n      <td>202102</td>\n      <td>울산광역시</td>\n      <td>중구</td>\n      <td>합계</td>\n      <td>92,833</td>\n      <td>63,131,906</td>\n    </tr>\n    <tr>\n      <th>26</th>\n      <td>202103</td>\n      <td>울산광역시</td>\n      <td>중구</td>\n      <td>합계</td>\n      <td>92,859</td>\n      <td>54,578,671</td>\n    </tr>\n    <tr>\n      <th>27</th>\n      <td>202104</td>\n      <td>울산광역시</td>\n      <td>중구</td>\n      <td>합계</td>\n      <td>92,571</td>\n      <td>54,780,630</td>\n    </tr>\n    <tr>\n      <th>28</th>\n      <td>202105</td>\n      <td>울산광역시</td>\n      <td>중구</td>\n      <td>합계</td>\n      <td>92,560</td>\n      <td>51,095,648</td>\n    </tr>\n    <tr>\n      <th>29</th>\n      <td>202106</td>\n      <td>울산광역시</td>\n      <td>중구</td>\n      <td>합계</td>\n      <td>92,550</td>\n      <td>54,600,059</td>\n    </tr>\n    <tr>\n      <th>30</th>\n      <td>202101-202106</td>\n      <td>울산광역시</td>\n      <td>남구</td>\n      <td>합계</td>\n      <td>22685</td>\n      <td>7895602316</td>\n    </tr>\n    <tr>\n      <th>31</th>\n      <td>202101-202106</td>\n      <td>울산광역시</td>\n      <td>동구</td>\n      <td>합계</td>\n      <td>10035</td>\n      <td>686717784</td>\n    </tr>\n    <tr>\n      <th>32</th>\n      <td>202101-202106</td>\n      <td>울산광역시</td>\n      <td>북구</td>\n      <td>합계</td>\n      <td>9463</td>\n      <td>1171466315</td>\n    </tr>\n    <tr>\n      <th>33</th>\n      <td>202101-202106</td>\n      <td>울산광역시</td>\n      <td>울주군</td>\n      <td>합계</td>\n      <td>20880</td>\n      <td>6389914281</td>\n    </tr>\n    <tr>\n      <th>34</th>\n      <td>202101-202106</td>\n      <td>울산광역시</td>\n      <td>중구</td>\n      <td>합계</td>\n      <td>15452</td>\n      <td>344346141</td>\n    </tr>\n  </tbody>\n</table>\n</div>"
     },
     "execution_count": 15,
     "metadata": {},
     "output_type": "execute_result"
    }
   ],
   "source": [
    "Hap = df_4.copy()\n",
    "Hap.reset_index(drop=True , inplace = True)\n",
    "for i in range(len(SIGUNGU)):\n",
    "    Hap = Hap.append({'년월' :'202101-202106'  , '시구' : '{}'.format(City) , '시군구' : '{}'.format(SIGUNGU[i]) , '계약구분' : '합계' , '고객호수(호)' : sum3[i] ,  '사용량(kWh)' : sum2[i]} , ignore_index=True) #년월 파일마다 수정하기\n",
    "Hap"
   ],
   "metadata": {
    "collapsed": false,
    "pycharm": {
     "name": "#%%\n"
    }
   }
  },
  {
   "cell_type": "markdown",
   "source": [
    "### 3. 날짜 변경!!!!!!!!!!!!!!!!!!!!!!!!!!!!!!!"
   ],
   "metadata": {
    "collapsed": false,
    "pycharm": {
     "name": "#%% md\n"
    }
   }
  },
  {
   "cell_type": "code",
   "execution_count": 16,
   "outputs": [
    {
     "data": {
      "text/plain": "               년월     시구  시군구 계약구분 고객호수(호)    사용량(kWh)\n30  202101-202106  울산광역시   남구   합계   22685  7895602316\n31  202101-202106  울산광역시   동구   합계   10035   686717784\n32  202101-202106  울산광역시   북구   합계    9463  1171466315\n33  202101-202106  울산광역시  울주군   합계   20880  6389914281\n34  202101-202106  울산광역시   중구   합계   15452   344346141",
      "text/html": "<div>\n<style scoped>\n    .dataframe tbody tr th:only-of-type {\n        vertical-align: middle;\n    }\n\n    .dataframe tbody tr th {\n        vertical-align: top;\n    }\n\n    .dataframe thead th {\n        text-align: right;\n    }\n</style>\n<table border=\"1\" class=\"dataframe\">\n  <thead>\n    <tr style=\"text-align: right;\">\n      <th></th>\n      <th>년월</th>\n      <th>시구</th>\n      <th>시군구</th>\n      <th>계약구분</th>\n      <th>고객호수(호)</th>\n      <th>사용량(kWh)</th>\n    </tr>\n  </thead>\n  <tbody>\n    <tr>\n      <th>30</th>\n      <td>202101-202106</td>\n      <td>울산광역시</td>\n      <td>남구</td>\n      <td>합계</td>\n      <td>22685</td>\n      <td>7895602316</td>\n    </tr>\n    <tr>\n      <th>31</th>\n      <td>202101-202106</td>\n      <td>울산광역시</td>\n      <td>동구</td>\n      <td>합계</td>\n      <td>10035</td>\n      <td>686717784</td>\n    </tr>\n    <tr>\n      <th>32</th>\n      <td>202101-202106</td>\n      <td>울산광역시</td>\n      <td>북구</td>\n      <td>합계</td>\n      <td>9463</td>\n      <td>1171466315</td>\n    </tr>\n    <tr>\n      <th>33</th>\n      <td>202101-202106</td>\n      <td>울산광역시</td>\n      <td>울주군</td>\n      <td>합계</td>\n      <td>20880</td>\n      <td>6389914281</td>\n    </tr>\n    <tr>\n      <th>34</th>\n      <td>202101-202106</td>\n      <td>울산광역시</td>\n      <td>중구</td>\n      <td>합계</td>\n      <td>15452</td>\n      <td>344346141</td>\n    </tr>\n  </tbody>\n</table>\n</div>"
     },
     "execution_count": 16,
     "metadata": {},
     "output_type": "execute_result"
    }
   ],
   "source": [
    "Hap = Hap.loc[Hap['년월'] == '202101-202106']\n",
    "Hap"
   ],
   "metadata": {
    "collapsed": false,
    "pycharm": {
     "name": "#%%\n"
    }
   }
  },
  {
   "cell_type": "code",
   "execution_count": 17,
   "outputs": [],
   "source": [
    "# SIGUNGU = SIGUNGU[:1]\n",
    "# SIGUNGU\n",
    "#for i in SIGUNGU:\n",
    "#print('{}'.format(i))\n",
    "# df_3 = df_3.loc[(df_3['시군구'] == '가평군')]\n",
    "#\n",
    "# df_3"
   ],
   "metadata": {
    "collapsed": false,
    "pycharm": {
     "name": "#%%\n"
    }
   }
  },
  {
   "cell_type": "code",
   "execution_count": 18,
   "outputs": [
    {
     "data": {
      "text/plain": "['년월', '시구', '시군구', '계약구분', '고객호수(호)', '사용량(kWh)']"
     },
     "execution_count": 18,
     "metadata": {},
     "output_type": "execute_result"
    }
   ],
   "source": [
    "a = (df_3.columns).tolist()\n",
    "\n",
    "a"
   ],
   "metadata": {
    "collapsed": false,
    "pycharm": {
     "name": "#%%\n"
    }
   }
  },
  {
   "cell_type": "code",
   "execution_count": 19,
   "outputs": [
    {
     "data": {
      "text/plain": "         년월     시구  시군구 계약구분  고객호수(호)     사용량(kWh)\n53   202101  울산광역시   남구  일반용  25,178   68,039,285 \n93   202102  울산광역시   남구  일반용  25,139   64,896,235 \n133  202103  울산광역시   남구  일반용  25,126   55,854,885 \n173  202104  울산광역시   남구  일반용  25,101   55,156,445 \n213  202105  울산광역시   남구  일반용  25,083   51,350,066 \n253  202106  울산광역시   남구  일반용  25,138   56,974,813 \n61   202101  울산광역시   동구  일반용   7,705   19,556,582 \n101  202102  울산광역시   동구  일반용   7,698   18,327,052 \n141  202103  울산광역시   동구  일반용   7,686   16,558,474 \n181  202104  울산광역시   동구  일반용   7,677   16,749,996 \n221  202105  울산광역시   동구  일반용   7,691   15,792,459 \n261  202106  울산광역시   동구  일반용   7,705   17,256,227 \n69   202101  울산광역시   북구  일반용  10,144   29,478,229 \n109  202102  울산광역시   북구  일반용  10,172   27,602,008 \n149  202103  울산광역시   북구  일반용  10,211   23,683,264 \n189  202104  울산광역시   북구  일반용  10,229   23,909,740 \n229  202105  울산광역시   북구  일반용  10,242   22,802,241 \n269  202106  울산광역시   북구  일반용  10,327   25,280,392 \n77   202101  울산광역시  울주군  일반용  16,408   42,638,668 \n117  202102  울산광역시  울주군  일반용  16,413   40,239,706 \n157  202103  울산광역시  울주군  일반용  16,402   35,056,829 \n197  202104  울산광역시  울주군  일반용  16,443   34,633,528 \n237  202105  울산광역시  울주군  일반용  16,448   31,845,376 \n277  202106  울산광역시  울주군  일반용  16,547   33,838,361 \n85   202101  울산광역시   중구  일반용  13,558   29,904,274 \n125  202102  울산광역시   중구  일반용  13,532   28,138,799 \n165  202103  울산광역시   중구  일반용  13,540   24,455,275 \n205  202104  울산광역시   중구  일반용  13,539   24,002,619 \n245  202105  울산광역시   중구  일반용  13,563   22,671,546 \n285  202106  울산광역시   중구  일반용  13,561   25,282,883 ",
      "text/html": "<div>\n<style scoped>\n    .dataframe tbody tr th:only-of-type {\n        vertical-align: middle;\n    }\n\n    .dataframe tbody tr th {\n        vertical-align: top;\n    }\n\n    .dataframe thead th {\n        text-align: right;\n    }\n</style>\n<table border=\"1\" class=\"dataframe\">\n  <thead>\n    <tr style=\"text-align: right;\">\n      <th></th>\n      <th>년월</th>\n      <th>시구</th>\n      <th>시군구</th>\n      <th>계약구분</th>\n      <th>고객호수(호)</th>\n      <th>사용량(kWh)</th>\n    </tr>\n  </thead>\n  <tbody>\n    <tr>\n      <th>53</th>\n      <td>202101</td>\n      <td>울산광역시</td>\n      <td>남구</td>\n      <td>일반용</td>\n      <td>25,178</td>\n      <td>68,039,285</td>\n    </tr>\n    <tr>\n      <th>93</th>\n      <td>202102</td>\n      <td>울산광역시</td>\n      <td>남구</td>\n      <td>일반용</td>\n      <td>25,139</td>\n      <td>64,896,235</td>\n    </tr>\n    <tr>\n      <th>133</th>\n      <td>202103</td>\n      <td>울산광역시</td>\n      <td>남구</td>\n      <td>일반용</td>\n      <td>25,126</td>\n      <td>55,854,885</td>\n    </tr>\n    <tr>\n      <th>173</th>\n      <td>202104</td>\n      <td>울산광역시</td>\n      <td>남구</td>\n      <td>일반용</td>\n      <td>25,101</td>\n      <td>55,156,445</td>\n    </tr>\n    <tr>\n      <th>213</th>\n      <td>202105</td>\n      <td>울산광역시</td>\n      <td>남구</td>\n      <td>일반용</td>\n      <td>25,083</td>\n      <td>51,350,066</td>\n    </tr>\n    <tr>\n      <th>253</th>\n      <td>202106</td>\n      <td>울산광역시</td>\n      <td>남구</td>\n      <td>일반용</td>\n      <td>25,138</td>\n      <td>56,974,813</td>\n    </tr>\n    <tr>\n      <th>61</th>\n      <td>202101</td>\n      <td>울산광역시</td>\n      <td>동구</td>\n      <td>일반용</td>\n      <td>7,705</td>\n      <td>19,556,582</td>\n    </tr>\n    <tr>\n      <th>101</th>\n      <td>202102</td>\n      <td>울산광역시</td>\n      <td>동구</td>\n      <td>일반용</td>\n      <td>7,698</td>\n      <td>18,327,052</td>\n    </tr>\n    <tr>\n      <th>141</th>\n      <td>202103</td>\n      <td>울산광역시</td>\n      <td>동구</td>\n      <td>일반용</td>\n      <td>7,686</td>\n      <td>16,558,474</td>\n    </tr>\n    <tr>\n      <th>181</th>\n      <td>202104</td>\n      <td>울산광역시</td>\n      <td>동구</td>\n      <td>일반용</td>\n      <td>7,677</td>\n      <td>16,749,996</td>\n    </tr>\n    <tr>\n      <th>221</th>\n      <td>202105</td>\n      <td>울산광역시</td>\n      <td>동구</td>\n      <td>일반용</td>\n      <td>7,691</td>\n      <td>15,792,459</td>\n    </tr>\n    <tr>\n      <th>261</th>\n      <td>202106</td>\n      <td>울산광역시</td>\n      <td>동구</td>\n      <td>일반용</td>\n      <td>7,705</td>\n      <td>17,256,227</td>\n    </tr>\n    <tr>\n      <th>69</th>\n      <td>202101</td>\n      <td>울산광역시</td>\n      <td>북구</td>\n      <td>일반용</td>\n      <td>10,144</td>\n      <td>29,478,229</td>\n    </tr>\n    <tr>\n      <th>109</th>\n      <td>202102</td>\n      <td>울산광역시</td>\n      <td>북구</td>\n      <td>일반용</td>\n      <td>10,172</td>\n      <td>27,602,008</td>\n    </tr>\n    <tr>\n      <th>149</th>\n      <td>202103</td>\n      <td>울산광역시</td>\n      <td>북구</td>\n      <td>일반용</td>\n      <td>10,211</td>\n      <td>23,683,264</td>\n    </tr>\n    <tr>\n      <th>189</th>\n      <td>202104</td>\n      <td>울산광역시</td>\n      <td>북구</td>\n      <td>일반용</td>\n      <td>10,229</td>\n      <td>23,909,740</td>\n    </tr>\n    <tr>\n      <th>229</th>\n      <td>202105</td>\n      <td>울산광역시</td>\n      <td>북구</td>\n      <td>일반용</td>\n      <td>10,242</td>\n      <td>22,802,241</td>\n    </tr>\n    <tr>\n      <th>269</th>\n      <td>202106</td>\n      <td>울산광역시</td>\n      <td>북구</td>\n      <td>일반용</td>\n      <td>10,327</td>\n      <td>25,280,392</td>\n    </tr>\n    <tr>\n      <th>77</th>\n      <td>202101</td>\n      <td>울산광역시</td>\n      <td>울주군</td>\n      <td>일반용</td>\n      <td>16,408</td>\n      <td>42,638,668</td>\n    </tr>\n    <tr>\n      <th>117</th>\n      <td>202102</td>\n      <td>울산광역시</td>\n      <td>울주군</td>\n      <td>일반용</td>\n      <td>16,413</td>\n      <td>40,239,706</td>\n    </tr>\n    <tr>\n      <th>157</th>\n      <td>202103</td>\n      <td>울산광역시</td>\n      <td>울주군</td>\n      <td>일반용</td>\n      <td>16,402</td>\n      <td>35,056,829</td>\n    </tr>\n    <tr>\n      <th>197</th>\n      <td>202104</td>\n      <td>울산광역시</td>\n      <td>울주군</td>\n      <td>일반용</td>\n      <td>16,443</td>\n      <td>34,633,528</td>\n    </tr>\n    <tr>\n      <th>237</th>\n      <td>202105</td>\n      <td>울산광역시</td>\n      <td>울주군</td>\n      <td>일반용</td>\n      <td>16,448</td>\n      <td>31,845,376</td>\n    </tr>\n    <tr>\n      <th>277</th>\n      <td>202106</td>\n      <td>울산광역시</td>\n      <td>울주군</td>\n      <td>일반용</td>\n      <td>16,547</td>\n      <td>33,838,361</td>\n    </tr>\n    <tr>\n      <th>85</th>\n      <td>202101</td>\n      <td>울산광역시</td>\n      <td>중구</td>\n      <td>일반용</td>\n      <td>13,558</td>\n      <td>29,904,274</td>\n    </tr>\n    <tr>\n      <th>125</th>\n      <td>202102</td>\n      <td>울산광역시</td>\n      <td>중구</td>\n      <td>일반용</td>\n      <td>13,532</td>\n      <td>28,138,799</td>\n    </tr>\n    <tr>\n      <th>165</th>\n      <td>202103</td>\n      <td>울산광역시</td>\n      <td>중구</td>\n      <td>일반용</td>\n      <td>13,540</td>\n      <td>24,455,275</td>\n    </tr>\n    <tr>\n      <th>205</th>\n      <td>202104</td>\n      <td>울산광역시</td>\n      <td>중구</td>\n      <td>일반용</td>\n      <td>13,539</td>\n      <td>24,002,619</td>\n    </tr>\n    <tr>\n      <th>245</th>\n      <td>202105</td>\n      <td>울산광역시</td>\n      <td>중구</td>\n      <td>일반용</td>\n      <td>13,563</td>\n      <td>22,671,546</td>\n    </tr>\n    <tr>\n      <th>285</th>\n      <td>202106</td>\n      <td>울산광역시</td>\n      <td>중구</td>\n      <td>일반용</td>\n      <td>13,561</td>\n      <td>25,282,883</td>\n    </tr>\n  </tbody>\n</table>\n</div>"
     },
     "execution_count": 19,
     "metadata": {},
     "output_type": "execute_result"
    }
   ],
   "source": [
    "df_3"
   ],
   "metadata": {
    "collapsed": false,
    "pycharm": {
     "name": "#%%\n"
    }
   }
  },
  {
   "cell_type": "code",
   "execution_count": 20,
   "outputs": [],
   "source": [
    "# GyeonGiHap = pd.DataFrame([] , columns = a)\n",
    "# GyeonGiHap['사용량']= df_3['사용량(kWh)'].loc[(df_3['시군구'] == '{가평군}')]\n",
    "# GyeonGiHap"
   ],
   "metadata": {
    "collapsed": false,
    "pycharm": {
     "name": "#%%\n"
    }
   }
  },
  {
   "cell_type": "code",
   "execution_count": 21,
   "outputs": [
    {
     "name": "stdout",
     "output_type": "stream",
     "text": [
      "[68039285, 64896235, 55854885, 55156445, 51350066, 56974813]\n",
      "[19556582, 18327052, 16558474, 16749996, 15792459, 17256227]\n",
      "[29478229, 27602008, 23683264, 23909740, 22802241, 25280392]\n",
      "[42638668, 40239706, 35056829, 34633528, 31845376, 33838361]\n",
      "[29904274, 28138799, 24455275, 24002619, 22671546, 25282883]\n",
      "울산광역시 지역별 일반용 합계 :  [352271729, 104240790, 152755874, 218252468, 154455396]\n",
      "울산광역시 고객호수 평균:  [25127, 7693, 10220, 16443, 13548]\n"
     ]
    }
   ],
   "source": [
    "sum2 , sum3 =[] , []\n",
    "for k in SIGUNGU:\n",
    "    GyeonGiHap = pd.DataFrame([] , columns = a)\n",
    "    HOSU = pd.DataFrame([], columns = a)\n",
    "    GyeonGiHap['사용량']= df_3['사용량(kWh)'].loc[(df_3['시군구'] == '{}'.format(k))]\n",
    "    HOSU['고객호수']= df_3['고객호수(호)'].loc[(df_3['시군구'] == '{}'.format(k))]\n",
    "    #경기합 데이터프레임의 사용량 열에 기군구가 가평군인 사용량 데이터만 뽑아내기\n",
    "    # GyeonGiHap = GyeonGiHap['사용량']\n",
    "\n",
    "    b = GyeonGiHap['사용량'].tolist()\n",
    "    c = HOSU['고객호수'].tolist()\n",
    "\n",
    "\n",
    "    #각지역별 사용량 리스트화\n",
    "    int_list  , int_list2=[] , []\n",
    "    for i in b:\n",
    "        i = re.sub(\",\" , \"\" , i)\n",
    "        #콤마 없애기\n",
    "        int_list.append(int(i))\n",
    "        #int_list에 각지역별 사용량 int로 저장\n",
    "    print(int_list)\n",
    "    sum=0\n",
    "    for i in c:\n",
    "        i = re.sub(\",\" , \"\" , i)\n",
    "        int_list2.append(int(i))\n",
    "\n",
    "    for j in int_list:\n",
    "\n",
    "        sum+= j\n",
    "    sum2.append(sum)\n",
    "    sum = 0\n",
    "    for j in int_list2: #고객호수 추출하여 더하기\n",
    "\n",
    "        sum+= j\n",
    "    sum3.append(sum//6) #6개월 치로 나눠야하나?!\n",
    "\n",
    "\n",
    "\n",
    "\n",
    "print(\"{} 지역별 일반용 합계 : \".format(City) , sum2)\n",
    "print(\"{} 고객호수 평균: \".format(City) , sum3)\n",
    "# GyeonGiHap['합계'] = sum\n",
    "#\n",
    "# GyeonGiHap"
   ],
   "metadata": {
    "collapsed": false,
    "pycharm": {
     "name": "#%%\n"
    }
   }
  },
  {
   "cell_type": "code",
   "execution_count": 22,
   "outputs": [],
   "source": [
    "# df_3 = df_3.loc[(df_3['시군구'] == '가평군')]\n",
    "#\n",
    "# df_3"
   ],
   "metadata": {
    "collapsed": false,
    "pycharm": {
     "name": "#%%\n"
    }
   }
  },
  {
   "cell_type": "code",
   "execution_count": 23,
   "outputs": [],
   "source": [
    "# GyeonGiHap = df_3.copy()\n",
    "# GyeonGiHap.reset_index(drop=True , inplace = True)\n",
    "# GyeonGiHap.append({'년월' : '202107-202112'  , '시구' : '경기도' , '시군구' : '가평군' , '계약구분' : '일반용' , '사용량(kWh)' : sum}, ignore_index=True)"
   ],
   "metadata": {
    "collapsed": false,
    "pycharm": {
     "name": "#%%\n"
    }
   }
  },
  {
   "cell_type": "code",
   "execution_count": 24,
   "outputs": [],
   "source": [
    "# a=[]\n",
    "# for i in SIGUNGU:\n",
    "#     a.append(i)\n",
    "#\n",
    "# print(a)"
   ],
   "metadata": {
    "collapsed": false,
    "pycharm": {
     "name": "#%%\n"
    }
   }
  },
  {
   "cell_type": "markdown",
   "source": [
    "### 4. 년월 체크!!!!!!!!!!!!!!!!!!!!!!!!!!!!!!!!!!!!!!!!!!!!!!!!!!!!!!!!!!!!!!!!!"
   ],
   "metadata": {
    "collapsed": false,
    "pycharm": {
     "name": "#%% md\n"
    }
   }
  },
  {
   "cell_type": "code",
   "execution_count": 25,
   "outputs": [
    {
     "name": "stderr",
     "output_type": "stream",
     "text": [
      "C:\\Users\\user\\AppData\\Local\\Temp\\ipykernel_20168\\1152688266.py:4: FutureWarning: The frame.append method is deprecated and will be removed from pandas in a future version. Use pandas.concat instead.\n",
      "  GyeonGiHap2 = GyeonGiHap2.append({'년월' :'202101-202106'  , '시구' : '{}'.format(City) , '시군구' : '{}'.format(SIGUNGU[i]) , '계약구분' : '일반용' , '고객호수(호)' : sum3[i] ,  '사용량(kWh)' : sum2[i]} , ignore_index=True) #년월 파일마다 수정하기\n",
      "C:\\Users\\user\\AppData\\Local\\Temp\\ipykernel_20168\\1152688266.py:4: FutureWarning: The frame.append method is deprecated and will be removed from pandas in a future version. Use pandas.concat instead.\n",
      "  GyeonGiHap2 = GyeonGiHap2.append({'년월' :'202101-202106'  , '시구' : '{}'.format(City) , '시군구' : '{}'.format(SIGUNGU[i]) , '계약구분' : '일반용' , '고객호수(호)' : sum3[i] ,  '사용량(kWh)' : sum2[i]} , ignore_index=True) #년월 파일마다 수정하기\n",
      "C:\\Users\\user\\AppData\\Local\\Temp\\ipykernel_20168\\1152688266.py:4: FutureWarning: The frame.append method is deprecated and will be removed from pandas in a future version. Use pandas.concat instead.\n",
      "  GyeonGiHap2 = GyeonGiHap2.append({'년월' :'202101-202106'  , '시구' : '{}'.format(City) , '시군구' : '{}'.format(SIGUNGU[i]) , '계약구분' : '일반용' , '고객호수(호)' : sum3[i] ,  '사용량(kWh)' : sum2[i]} , ignore_index=True) #년월 파일마다 수정하기\n",
      "C:\\Users\\user\\AppData\\Local\\Temp\\ipykernel_20168\\1152688266.py:4: FutureWarning: The frame.append method is deprecated and will be removed from pandas in a future version. Use pandas.concat instead.\n",
      "  GyeonGiHap2 = GyeonGiHap2.append({'년월' :'202101-202106'  , '시구' : '{}'.format(City) , '시군구' : '{}'.format(SIGUNGU[i]) , '계약구분' : '일반용' , '고객호수(호)' : sum3[i] ,  '사용량(kWh)' : sum2[i]} , ignore_index=True) #년월 파일마다 수정하기\n",
      "C:\\Users\\user\\AppData\\Local\\Temp\\ipykernel_20168\\1152688266.py:4: FutureWarning: The frame.append method is deprecated and will be removed from pandas in a future version. Use pandas.concat instead.\n",
      "  GyeonGiHap2 = GyeonGiHap2.append({'년월' :'202101-202106'  , '시구' : '{}'.format(City) , '시군구' : '{}'.format(SIGUNGU[i]) , '계약구분' : '일반용' , '고객호수(호)' : sum3[i] ,  '사용량(kWh)' : sum2[i]} , ignore_index=True) #년월 파일마다 수정하기\n"
     ]
    },
    {
     "data": {
      "text/plain": "               년월     시구  시군구 계약구분  고객호수(호)     사용량(kWh)\n0          202101  울산광역시   남구  일반용  25,178   68,039,285 \n1          202102  울산광역시   남구  일반용  25,139   64,896,235 \n2          202103  울산광역시   남구  일반용  25,126   55,854,885 \n3          202104  울산광역시   남구  일반용  25,101   55,156,445 \n4          202105  울산광역시   남구  일반용  25,083   51,350,066 \n5          202106  울산광역시   남구  일반용  25,138   56,974,813 \n6          202101  울산광역시   동구  일반용   7,705   19,556,582 \n7          202102  울산광역시   동구  일반용   7,698   18,327,052 \n8          202103  울산광역시   동구  일반용   7,686   16,558,474 \n9          202104  울산광역시   동구  일반용   7,677   16,749,996 \n10         202105  울산광역시   동구  일반용   7,691   15,792,459 \n11         202106  울산광역시   동구  일반용   7,705   17,256,227 \n12         202101  울산광역시   북구  일반용  10,144   29,478,229 \n13         202102  울산광역시   북구  일반용  10,172   27,602,008 \n14         202103  울산광역시   북구  일반용  10,211   23,683,264 \n15         202104  울산광역시   북구  일반용  10,229   23,909,740 \n16         202105  울산광역시   북구  일반용  10,242   22,802,241 \n17         202106  울산광역시   북구  일반용  10,327   25,280,392 \n18         202101  울산광역시  울주군  일반용  16,408   42,638,668 \n19         202102  울산광역시  울주군  일반용  16,413   40,239,706 \n20         202103  울산광역시  울주군  일반용  16,402   35,056,829 \n21         202104  울산광역시  울주군  일반용  16,443   34,633,528 \n22         202105  울산광역시  울주군  일반용  16,448   31,845,376 \n23         202106  울산광역시  울주군  일반용  16,547   33,838,361 \n24         202101  울산광역시   중구  일반용  13,558   29,904,274 \n25         202102  울산광역시   중구  일반용  13,532   28,138,799 \n26         202103  울산광역시   중구  일반용  13,540   24,455,275 \n27         202104  울산광역시   중구  일반용  13,539   24,002,619 \n28         202105  울산광역시   중구  일반용  13,563   22,671,546 \n29         202106  울산광역시   중구  일반용  13,561   25,282,883 \n30  202101-202106  울산광역시   남구  일반용    25127    352271729\n31  202101-202106  울산광역시   동구  일반용     7693    104240790\n32  202101-202106  울산광역시   북구  일반용    10220    152755874\n33  202101-202106  울산광역시  울주군  일반용    16443    218252468\n34  202101-202106  울산광역시   중구  일반용    13548    154455396",
      "text/html": "<div>\n<style scoped>\n    .dataframe tbody tr th:only-of-type {\n        vertical-align: middle;\n    }\n\n    .dataframe tbody tr th {\n        vertical-align: top;\n    }\n\n    .dataframe thead th {\n        text-align: right;\n    }\n</style>\n<table border=\"1\" class=\"dataframe\">\n  <thead>\n    <tr style=\"text-align: right;\">\n      <th></th>\n      <th>년월</th>\n      <th>시구</th>\n      <th>시군구</th>\n      <th>계약구분</th>\n      <th>고객호수(호)</th>\n      <th>사용량(kWh)</th>\n    </tr>\n  </thead>\n  <tbody>\n    <tr>\n      <th>0</th>\n      <td>202101</td>\n      <td>울산광역시</td>\n      <td>남구</td>\n      <td>일반용</td>\n      <td>25,178</td>\n      <td>68,039,285</td>\n    </tr>\n    <tr>\n      <th>1</th>\n      <td>202102</td>\n      <td>울산광역시</td>\n      <td>남구</td>\n      <td>일반용</td>\n      <td>25,139</td>\n      <td>64,896,235</td>\n    </tr>\n    <tr>\n      <th>2</th>\n      <td>202103</td>\n      <td>울산광역시</td>\n      <td>남구</td>\n      <td>일반용</td>\n      <td>25,126</td>\n      <td>55,854,885</td>\n    </tr>\n    <tr>\n      <th>3</th>\n      <td>202104</td>\n      <td>울산광역시</td>\n      <td>남구</td>\n      <td>일반용</td>\n      <td>25,101</td>\n      <td>55,156,445</td>\n    </tr>\n    <tr>\n      <th>4</th>\n      <td>202105</td>\n      <td>울산광역시</td>\n      <td>남구</td>\n      <td>일반용</td>\n      <td>25,083</td>\n      <td>51,350,066</td>\n    </tr>\n    <tr>\n      <th>5</th>\n      <td>202106</td>\n      <td>울산광역시</td>\n      <td>남구</td>\n      <td>일반용</td>\n      <td>25,138</td>\n      <td>56,974,813</td>\n    </tr>\n    <tr>\n      <th>6</th>\n      <td>202101</td>\n      <td>울산광역시</td>\n      <td>동구</td>\n      <td>일반용</td>\n      <td>7,705</td>\n      <td>19,556,582</td>\n    </tr>\n    <tr>\n      <th>7</th>\n      <td>202102</td>\n      <td>울산광역시</td>\n      <td>동구</td>\n      <td>일반용</td>\n      <td>7,698</td>\n      <td>18,327,052</td>\n    </tr>\n    <tr>\n      <th>8</th>\n      <td>202103</td>\n      <td>울산광역시</td>\n      <td>동구</td>\n      <td>일반용</td>\n      <td>7,686</td>\n      <td>16,558,474</td>\n    </tr>\n    <tr>\n      <th>9</th>\n      <td>202104</td>\n      <td>울산광역시</td>\n      <td>동구</td>\n      <td>일반용</td>\n      <td>7,677</td>\n      <td>16,749,996</td>\n    </tr>\n    <tr>\n      <th>10</th>\n      <td>202105</td>\n      <td>울산광역시</td>\n      <td>동구</td>\n      <td>일반용</td>\n      <td>7,691</td>\n      <td>15,792,459</td>\n    </tr>\n    <tr>\n      <th>11</th>\n      <td>202106</td>\n      <td>울산광역시</td>\n      <td>동구</td>\n      <td>일반용</td>\n      <td>7,705</td>\n      <td>17,256,227</td>\n    </tr>\n    <tr>\n      <th>12</th>\n      <td>202101</td>\n      <td>울산광역시</td>\n      <td>북구</td>\n      <td>일반용</td>\n      <td>10,144</td>\n      <td>29,478,229</td>\n    </tr>\n    <tr>\n      <th>13</th>\n      <td>202102</td>\n      <td>울산광역시</td>\n      <td>북구</td>\n      <td>일반용</td>\n      <td>10,172</td>\n      <td>27,602,008</td>\n    </tr>\n    <tr>\n      <th>14</th>\n      <td>202103</td>\n      <td>울산광역시</td>\n      <td>북구</td>\n      <td>일반용</td>\n      <td>10,211</td>\n      <td>23,683,264</td>\n    </tr>\n    <tr>\n      <th>15</th>\n      <td>202104</td>\n      <td>울산광역시</td>\n      <td>북구</td>\n      <td>일반용</td>\n      <td>10,229</td>\n      <td>23,909,740</td>\n    </tr>\n    <tr>\n      <th>16</th>\n      <td>202105</td>\n      <td>울산광역시</td>\n      <td>북구</td>\n      <td>일반용</td>\n      <td>10,242</td>\n      <td>22,802,241</td>\n    </tr>\n    <tr>\n      <th>17</th>\n      <td>202106</td>\n      <td>울산광역시</td>\n      <td>북구</td>\n      <td>일반용</td>\n      <td>10,327</td>\n      <td>25,280,392</td>\n    </tr>\n    <tr>\n      <th>18</th>\n      <td>202101</td>\n      <td>울산광역시</td>\n      <td>울주군</td>\n      <td>일반용</td>\n      <td>16,408</td>\n      <td>42,638,668</td>\n    </tr>\n    <tr>\n      <th>19</th>\n      <td>202102</td>\n      <td>울산광역시</td>\n      <td>울주군</td>\n      <td>일반용</td>\n      <td>16,413</td>\n      <td>40,239,706</td>\n    </tr>\n    <tr>\n      <th>20</th>\n      <td>202103</td>\n      <td>울산광역시</td>\n      <td>울주군</td>\n      <td>일반용</td>\n      <td>16,402</td>\n      <td>35,056,829</td>\n    </tr>\n    <tr>\n      <th>21</th>\n      <td>202104</td>\n      <td>울산광역시</td>\n      <td>울주군</td>\n      <td>일반용</td>\n      <td>16,443</td>\n      <td>34,633,528</td>\n    </tr>\n    <tr>\n      <th>22</th>\n      <td>202105</td>\n      <td>울산광역시</td>\n      <td>울주군</td>\n      <td>일반용</td>\n      <td>16,448</td>\n      <td>31,845,376</td>\n    </tr>\n    <tr>\n      <th>23</th>\n      <td>202106</td>\n      <td>울산광역시</td>\n      <td>울주군</td>\n      <td>일반용</td>\n      <td>16,547</td>\n      <td>33,838,361</td>\n    </tr>\n    <tr>\n      <th>24</th>\n      <td>202101</td>\n      <td>울산광역시</td>\n      <td>중구</td>\n      <td>일반용</td>\n      <td>13,558</td>\n      <td>29,904,274</td>\n    </tr>\n    <tr>\n      <th>25</th>\n      <td>202102</td>\n      <td>울산광역시</td>\n      <td>중구</td>\n      <td>일반용</td>\n      <td>13,532</td>\n      <td>28,138,799</td>\n    </tr>\n    <tr>\n      <th>26</th>\n      <td>202103</td>\n      <td>울산광역시</td>\n      <td>중구</td>\n      <td>일반용</td>\n      <td>13,540</td>\n      <td>24,455,275</td>\n    </tr>\n    <tr>\n      <th>27</th>\n      <td>202104</td>\n      <td>울산광역시</td>\n      <td>중구</td>\n      <td>일반용</td>\n      <td>13,539</td>\n      <td>24,002,619</td>\n    </tr>\n    <tr>\n      <th>28</th>\n      <td>202105</td>\n      <td>울산광역시</td>\n      <td>중구</td>\n      <td>일반용</td>\n      <td>13,563</td>\n      <td>22,671,546</td>\n    </tr>\n    <tr>\n      <th>29</th>\n      <td>202106</td>\n      <td>울산광역시</td>\n      <td>중구</td>\n      <td>일반용</td>\n      <td>13,561</td>\n      <td>25,282,883</td>\n    </tr>\n    <tr>\n      <th>30</th>\n      <td>202101-202106</td>\n      <td>울산광역시</td>\n      <td>남구</td>\n      <td>일반용</td>\n      <td>25127</td>\n      <td>352271729</td>\n    </tr>\n    <tr>\n      <th>31</th>\n      <td>202101-202106</td>\n      <td>울산광역시</td>\n      <td>동구</td>\n      <td>일반용</td>\n      <td>7693</td>\n      <td>104240790</td>\n    </tr>\n    <tr>\n      <th>32</th>\n      <td>202101-202106</td>\n      <td>울산광역시</td>\n      <td>북구</td>\n      <td>일반용</td>\n      <td>10220</td>\n      <td>152755874</td>\n    </tr>\n    <tr>\n      <th>33</th>\n      <td>202101-202106</td>\n      <td>울산광역시</td>\n      <td>울주군</td>\n      <td>일반용</td>\n      <td>16443</td>\n      <td>218252468</td>\n    </tr>\n    <tr>\n      <th>34</th>\n      <td>202101-202106</td>\n      <td>울산광역시</td>\n      <td>중구</td>\n      <td>일반용</td>\n      <td>13548</td>\n      <td>154455396</td>\n    </tr>\n  </tbody>\n</table>\n</div>"
     },
     "execution_count": 25,
     "metadata": {},
     "output_type": "execute_result"
    }
   ],
   "source": [
    "GyeonGiHap2 = df_3.copy()\n",
    "GyeonGiHap2.reset_index(drop=True , inplace = True)\n",
    "for i in range(len(SIGUNGU)):\n",
    "    GyeonGiHap2 = GyeonGiHap2.append({'년월' :'202101-202106'  , '시구' : '{}'.format(City) , '시군구' : '{}'.format(SIGUNGU[i]) , '계약구분' : '일반용' , '고객호수(호)' : sum3[i] ,  '사용량(kWh)' : sum2[i]} , ignore_index=True) #년월 파일마다 수정하기\n",
    "GyeonGiHap2"
   ],
   "metadata": {
    "collapsed": false,
    "pycharm": {
     "name": "#%%\n"
    }
   }
  },
  {
   "cell_type": "markdown",
   "source": [
    "### 5. 날짜 체크!!!!!!!!!!!!!!!!!!!!!!!!!!!!!!!!!!!!!!!!!!!!!!!!!!!!"
   ],
   "metadata": {
    "collapsed": false,
    "pycharm": {
     "name": "#%% md\n"
    }
   }
  },
  {
   "cell_type": "code",
   "execution_count": 26,
   "outputs": [
    {
     "data": {
      "text/plain": "               년월     시구  시군구 계약구분 고객호수(호)   사용량(kWh)\n30  202101-202106  울산광역시   남구  일반용   25127  352271729\n31  202101-202106  울산광역시   동구  일반용    7693  104240790\n32  202101-202106  울산광역시   북구  일반용   10220  152755874\n33  202101-202106  울산광역시  울주군  일반용   16443  218252468\n34  202101-202106  울산광역시   중구  일반용   13548  154455396",
      "text/html": "<div>\n<style scoped>\n    .dataframe tbody tr th:only-of-type {\n        vertical-align: middle;\n    }\n\n    .dataframe tbody tr th {\n        vertical-align: top;\n    }\n\n    .dataframe thead th {\n        text-align: right;\n    }\n</style>\n<table border=\"1\" class=\"dataframe\">\n  <thead>\n    <tr style=\"text-align: right;\">\n      <th></th>\n      <th>년월</th>\n      <th>시구</th>\n      <th>시군구</th>\n      <th>계약구분</th>\n      <th>고객호수(호)</th>\n      <th>사용량(kWh)</th>\n    </tr>\n  </thead>\n  <tbody>\n    <tr>\n      <th>30</th>\n      <td>202101-202106</td>\n      <td>울산광역시</td>\n      <td>남구</td>\n      <td>일반용</td>\n      <td>25127</td>\n      <td>352271729</td>\n    </tr>\n    <tr>\n      <th>31</th>\n      <td>202101-202106</td>\n      <td>울산광역시</td>\n      <td>동구</td>\n      <td>일반용</td>\n      <td>7693</td>\n      <td>104240790</td>\n    </tr>\n    <tr>\n      <th>32</th>\n      <td>202101-202106</td>\n      <td>울산광역시</td>\n      <td>북구</td>\n      <td>일반용</td>\n      <td>10220</td>\n      <td>152755874</td>\n    </tr>\n    <tr>\n      <th>33</th>\n      <td>202101-202106</td>\n      <td>울산광역시</td>\n      <td>울주군</td>\n      <td>일반용</td>\n      <td>16443</td>\n      <td>218252468</td>\n    </tr>\n    <tr>\n      <th>34</th>\n      <td>202101-202106</td>\n      <td>울산광역시</td>\n      <td>중구</td>\n      <td>일반용</td>\n      <td>13548</td>\n      <td>154455396</td>\n    </tr>\n  </tbody>\n</table>\n</div>"
     },
     "execution_count": 26,
     "metadata": {},
     "output_type": "execute_result"
    }
   ],
   "source": [
    "GyeonGiHap2 = GyeonGiHap2.loc[GyeonGiHap2['년월'] == '202101-202106']\n",
    "GyeonGiHap2"
   ],
   "metadata": {
    "collapsed": false,
    "pycharm": {
     "name": "#%%\n"
    }
   }
  },
  {
   "cell_type": "code",
   "execution_count": 27,
   "outputs": [
    {
     "data": {
      "text/plain": "               년월     시구  시군구 계약구분 고객호수(호)    사용량(kWh)\n30  202101-202106  울산광역시   남구  일반용   25127   352271729\n30  202101-202106  울산광역시   남구   합계   22685  7895602316\n31  202101-202106  울산광역시   동구  일반용    7693   104240790\n31  202101-202106  울산광역시   동구   합계   10035   686717784\n32  202101-202106  울산광역시   북구  일반용   10220   152755874\n32  202101-202106  울산광역시   북구   합계    9463  1171466315\n33  202101-202106  울산광역시  울주군  일반용   16443   218252468\n33  202101-202106  울산광역시  울주군   합계   20880  6389914281\n34  202101-202106  울산광역시   중구  일반용   13548   154455396\n34  202101-202106  울산광역시   중구   합계   15452   344346141",
      "text/html": "<div>\n<style scoped>\n    .dataframe tbody tr th:only-of-type {\n        vertical-align: middle;\n    }\n\n    .dataframe tbody tr th {\n        vertical-align: top;\n    }\n\n    .dataframe thead th {\n        text-align: right;\n    }\n</style>\n<table border=\"1\" class=\"dataframe\">\n  <thead>\n    <tr style=\"text-align: right;\">\n      <th></th>\n      <th>년월</th>\n      <th>시구</th>\n      <th>시군구</th>\n      <th>계약구분</th>\n      <th>고객호수(호)</th>\n      <th>사용량(kWh)</th>\n    </tr>\n  </thead>\n  <tbody>\n    <tr>\n      <th>30</th>\n      <td>202101-202106</td>\n      <td>울산광역시</td>\n      <td>남구</td>\n      <td>일반용</td>\n      <td>25127</td>\n      <td>352271729</td>\n    </tr>\n    <tr>\n      <th>30</th>\n      <td>202101-202106</td>\n      <td>울산광역시</td>\n      <td>남구</td>\n      <td>합계</td>\n      <td>22685</td>\n      <td>7895602316</td>\n    </tr>\n    <tr>\n      <th>31</th>\n      <td>202101-202106</td>\n      <td>울산광역시</td>\n      <td>동구</td>\n      <td>일반용</td>\n      <td>7693</td>\n      <td>104240790</td>\n    </tr>\n    <tr>\n      <th>31</th>\n      <td>202101-202106</td>\n      <td>울산광역시</td>\n      <td>동구</td>\n      <td>합계</td>\n      <td>10035</td>\n      <td>686717784</td>\n    </tr>\n    <tr>\n      <th>32</th>\n      <td>202101-202106</td>\n      <td>울산광역시</td>\n      <td>북구</td>\n      <td>일반용</td>\n      <td>10220</td>\n      <td>152755874</td>\n    </tr>\n    <tr>\n      <th>32</th>\n      <td>202101-202106</td>\n      <td>울산광역시</td>\n      <td>북구</td>\n      <td>합계</td>\n      <td>9463</td>\n      <td>1171466315</td>\n    </tr>\n    <tr>\n      <th>33</th>\n      <td>202101-202106</td>\n      <td>울산광역시</td>\n      <td>울주군</td>\n      <td>일반용</td>\n      <td>16443</td>\n      <td>218252468</td>\n    </tr>\n    <tr>\n      <th>33</th>\n      <td>202101-202106</td>\n      <td>울산광역시</td>\n      <td>울주군</td>\n      <td>합계</td>\n      <td>20880</td>\n      <td>6389914281</td>\n    </tr>\n    <tr>\n      <th>34</th>\n      <td>202101-202106</td>\n      <td>울산광역시</td>\n      <td>중구</td>\n      <td>일반용</td>\n      <td>13548</td>\n      <td>154455396</td>\n    </tr>\n    <tr>\n      <th>34</th>\n      <td>202101-202106</td>\n      <td>울산광역시</td>\n      <td>중구</td>\n      <td>합계</td>\n      <td>15452</td>\n      <td>344346141</td>\n    </tr>\n  </tbody>\n</table>\n</div>"
     },
     "execution_count": 27,
     "metadata": {},
     "output_type": "execute_result"
    }
   ],
   "source": [
    "Final = pd.concat([GyeonGiHap2 , Hap])\n",
    "Final = Final.sort_values('시군구')\n",
    "Final"
   ],
   "metadata": {
    "collapsed": false,
    "pycharm": {
     "name": "#%%\n"
    }
   }
  },
  {
   "cell_type": "code",
   "execution_count": 28,
   "outputs": [
    {
     "data": {
      "text/plain": "[352271729, 104240790, 152755874, 218252468, 154455396]"
     },
     "execution_count": 28,
     "metadata": {},
     "output_type": "execute_result"
    }
   ],
   "source": [
    "# Final['일반용 전기의 비율'] = (Final['사용량(kWh)'].loc[Final['계약구분'] == '일반용']) // (Final['사용량(kWh)'].loc[Final['계약구분'] == '합계'])\n",
    "# Final\n",
    "ex = (Final['사용량(kWh)'].loc[Final['계약구분'] == '일반용']).tolist()\n",
    "\n",
    "\n",
    "ex\n"
   ],
   "metadata": {
    "collapsed": false,
    "pycharm": {
     "name": "#%%\n"
    }
   }
  },
  {
   "cell_type": "code",
   "execution_count": 29,
   "outputs": [
    {
     "data": {
      "text/plain": "[7895602316, 686717784, 1171466315, 6389914281, 344346141]"
     },
     "execution_count": 29,
     "metadata": {},
     "output_type": "execute_result"
    }
   ],
   "source": [
    "ex_2 =(Final['사용량(kWh)'].loc[Final['계약구분'] == '합계']).tolist()\n",
    "ex_2"
   ],
   "metadata": {
    "collapsed": false,
    "pycharm": {
     "name": "#%%\n"
    }
   }
  },
  {
   "cell_type": "code",
   "execution_count": 30,
   "outputs": [
    {
     "name": "stdout",
     "output_type": "stream",
     "text": [
      "[4.46, 15.18, 13.04, 3.42, 44.85]\n"
     ]
    }
   ],
   "source": [
    "Rate = []\n",
    "ilban = []\n",
    "rae = 0\n",
    "for i in range(len(ex)):\n",
    "    rae = round(ex[i] / ex_2[i] *100 ,2)\n",
    "    Rate.append(rae)\n",
    "print(Rate)"
   ],
   "metadata": {
    "collapsed": false,
    "pycharm": {
     "name": "#%%\n"
    }
   }
  },
  {
   "cell_type": "code",
   "execution_count": 31,
   "outputs": [
    {
     "data": {
      "text/plain": "0    4\n1   15\n2   13\n3    3\n4   45\ndtype: float64"
     },
     "execution_count": 31,
     "metadata": {},
     "output_type": "execute_result"
    }
   ],
   "source": [
    "Rate3 = pd.Series(Rate)\n",
    "Rate3\n",
    "\n",
    "# Final = pd.concat([Final , Rate3])\n",
    "# Final"
   ],
   "metadata": {
    "collapsed": false,
    "pycharm": {
     "name": "#%%\n"
    }
   }
  },
  {
   "cell_type": "code",
   "execution_count": 32,
   "outputs": [
    {
     "data": {
      "text/plain": "   시군구 계약구분  비율\n0   남구  일반용   4\n1   동구  일반용  15\n2   북구  일반용  13\n3  울주군  일반용   3\n4   중구  일반용  45",
      "text/html": "<div>\n<style scoped>\n    .dataframe tbody tr th:only-of-type {\n        vertical-align: middle;\n    }\n\n    .dataframe tbody tr th {\n        vertical-align: top;\n    }\n\n    .dataframe thead th {\n        text-align: right;\n    }\n</style>\n<table border=\"1\" class=\"dataframe\">\n  <thead>\n    <tr style=\"text-align: right;\">\n      <th></th>\n      <th>시군구</th>\n      <th>계약구분</th>\n      <th>비율</th>\n    </tr>\n  </thead>\n  <tbody>\n    <tr>\n      <th>0</th>\n      <td>남구</td>\n      <td>일반용</td>\n      <td>4</td>\n    </tr>\n    <tr>\n      <th>1</th>\n      <td>동구</td>\n      <td>일반용</td>\n      <td>15</td>\n    </tr>\n    <tr>\n      <th>2</th>\n      <td>북구</td>\n      <td>일반용</td>\n      <td>13</td>\n    </tr>\n    <tr>\n      <th>3</th>\n      <td>울주군</td>\n      <td>일반용</td>\n      <td>3</td>\n    </tr>\n    <tr>\n      <th>4</th>\n      <td>중구</td>\n      <td>일반용</td>\n      <td>45</td>\n    </tr>\n  </tbody>\n</table>\n</div>"
     },
     "execution_count": 32,
     "metadata": {},
     "output_type": "execute_result"
    }
   ],
   "source": [
    "for j in range(len(Rate)):\n",
    "    ilban.append('일반용')\n",
    "#print(Rate)\n",
    "\n",
    "Rate2 = pd.DataFrame()\n",
    "Rate2['시군구'] = pd.DataFrame(SIGUNGU)\n",
    "Rate2['계약구분'] = pd.DataFrame(ilban)\n",
    "Rate2['비율'] = pd.DataFrame(Rate)\n",
    "Rate2\n",
    "#print(Rate2.dtypes)"
   ],
   "metadata": {
    "collapsed": false,
    "pycharm": {
     "name": "#%%\n"
    }
   }
  },
  {
   "cell_type": "code",
   "execution_count": 33,
   "outputs": [
    {
     "data": {
      "text/plain": "              년월     시구  시군구 계약구분 고객호수(호)    사용량(kWh)  비율\n0  202101-202106  울산광역시   남구  일반용   25127   352271729   4\n1  202101-202106  울산광역시   남구   합계   22685  7895602316 NaN\n2  202101-202106  울산광역시   동구  일반용    7693   104240790  15\n3  202101-202106  울산광역시   동구   합계   10035   686717784 NaN\n4  202101-202106  울산광역시   북구  일반용   10220   152755874  13\n5  202101-202106  울산광역시   북구   합계    9463  1171466315 NaN\n6  202101-202106  울산광역시  울주군  일반용   16443   218252468   3\n7  202101-202106  울산광역시  울주군   합계   20880  6389914281 NaN\n8  202101-202106  울산광역시   중구  일반용   13548   154455396  45\n9  202101-202106  울산광역시   중구   합계   15452   344346141 NaN",
      "text/html": "<div>\n<style scoped>\n    .dataframe tbody tr th:only-of-type {\n        vertical-align: middle;\n    }\n\n    .dataframe tbody tr th {\n        vertical-align: top;\n    }\n\n    .dataframe thead th {\n        text-align: right;\n    }\n</style>\n<table border=\"1\" class=\"dataframe\">\n  <thead>\n    <tr style=\"text-align: right;\">\n      <th></th>\n      <th>년월</th>\n      <th>시구</th>\n      <th>시군구</th>\n      <th>계약구분</th>\n      <th>고객호수(호)</th>\n      <th>사용량(kWh)</th>\n      <th>비율</th>\n    </tr>\n  </thead>\n  <tbody>\n    <tr>\n      <th>0</th>\n      <td>202101-202106</td>\n      <td>울산광역시</td>\n      <td>남구</td>\n      <td>일반용</td>\n      <td>25127</td>\n      <td>352271729</td>\n      <td>4</td>\n    </tr>\n    <tr>\n      <th>1</th>\n      <td>202101-202106</td>\n      <td>울산광역시</td>\n      <td>남구</td>\n      <td>합계</td>\n      <td>22685</td>\n      <td>7895602316</td>\n      <td>NaN</td>\n    </tr>\n    <tr>\n      <th>2</th>\n      <td>202101-202106</td>\n      <td>울산광역시</td>\n      <td>동구</td>\n      <td>일반용</td>\n      <td>7693</td>\n      <td>104240790</td>\n      <td>15</td>\n    </tr>\n    <tr>\n      <th>3</th>\n      <td>202101-202106</td>\n      <td>울산광역시</td>\n      <td>동구</td>\n      <td>합계</td>\n      <td>10035</td>\n      <td>686717784</td>\n      <td>NaN</td>\n    </tr>\n    <tr>\n      <th>4</th>\n      <td>202101-202106</td>\n      <td>울산광역시</td>\n      <td>북구</td>\n      <td>일반용</td>\n      <td>10220</td>\n      <td>152755874</td>\n      <td>13</td>\n    </tr>\n    <tr>\n      <th>5</th>\n      <td>202101-202106</td>\n      <td>울산광역시</td>\n      <td>북구</td>\n      <td>합계</td>\n      <td>9463</td>\n      <td>1171466315</td>\n      <td>NaN</td>\n    </tr>\n    <tr>\n      <th>6</th>\n      <td>202101-202106</td>\n      <td>울산광역시</td>\n      <td>울주군</td>\n      <td>일반용</td>\n      <td>16443</td>\n      <td>218252468</td>\n      <td>3</td>\n    </tr>\n    <tr>\n      <th>7</th>\n      <td>202101-202106</td>\n      <td>울산광역시</td>\n      <td>울주군</td>\n      <td>합계</td>\n      <td>20880</td>\n      <td>6389914281</td>\n      <td>NaN</td>\n    </tr>\n    <tr>\n      <th>8</th>\n      <td>202101-202106</td>\n      <td>울산광역시</td>\n      <td>중구</td>\n      <td>일반용</td>\n      <td>13548</td>\n      <td>154455396</td>\n      <td>45</td>\n    </tr>\n    <tr>\n      <th>9</th>\n      <td>202101-202106</td>\n      <td>울산광역시</td>\n      <td>중구</td>\n      <td>합계</td>\n      <td>15452</td>\n      <td>344346141</td>\n      <td>NaN</td>\n    </tr>\n  </tbody>\n</table>\n</div>"
     },
     "execution_count": 33,
     "metadata": {},
     "output_type": "execute_result"
    }
   ],
   "source": [
    "Final = pd.merge(Final , Rate2, on=['시군구', '계약구분'] , how='left')\n",
    "\n",
    "#Final.drop(['비율_y]' , axis = 1 , inplace = True)\n",
    "#Final.rename(columns={'비율_y':'전체 계약종별 전력사용량 대비 일반용 사용량 비율'})\n",
    "Final = Final.sort_values(['시군구' , '계약구분'])\n",
    "Final"
   ],
   "metadata": {
    "collapsed": false,
    "pycharm": {
     "name": "#%%\n"
    }
   }
  },
  {
   "cell_type": "code",
   "execution_count": 34,
   "outputs": [],
   "source": [
    "# Final['일반용 전기의 비율'] = Final.append(Rate)\n",
    "# Final"
   ],
   "metadata": {
    "collapsed": false,
    "pycharm": {
     "name": "#%%\n"
    }
   }
  },
  {
   "cell_type": "markdown",
   "source": [
    "### 6. 날짜 체크!!!!!!!!!!!!!!!!!!!!1"
   ],
   "metadata": {
    "collapsed": false,
    "pycharm": {
     "name": "#%% md\n"
    }
   }
  },
  {
   "cell_type": "code",
   "execution_count": 35,
   "outputs": [],
   "source": [
    "Final.to_csv(\"{}_일반용_전력사용량_2101-06.csv\".format(City) , mode = 'w' , encoding= 'cp949' , index =False) #파일명 수정"
   ],
   "metadata": {
    "collapsed": false,
    "pycharm": {
     "name": "#%%\n"
    }
   }
  },
  {
   "cell_type": "code",
   "execution_count": 35,
   "outputs": [],
   "source": [],
   "metadata": {
    "collapsed": false,
    "pycharm": {
     "name": "#%%\n"
    }
   }
  },
  {
   "cell_type": "code",
   "execution_count": 36,
   "outputs": [],
   "source": [
    "# Sigu = list(set(df_3['시군구'].tolist()))\n",
    "#\n",
    "# Sigu.sort()\n",
    "#\n",
    "# Sigu"
   ],
   "metadata": {
    "collapsed": false,
    "pycharm": {
     "name": "#%%\n"
    }
   }
  },
  {
   "cell_type": "code",
   "execution_count": 37,
   "outputs": [],
   "source": [
    "# YearMonth = list(set(df_3['년월'].tolist()))\n",
    "#\n",
    "# YearMonth.sort()\n",
    "# YearMonth"
   ],
   "metadata": {
    "collapsed": false,
    "pycharm": {
     "name": "#%%\n"
    }
   }
  },
  {
   "cell_type": "code",
   "execution_count": 38,
   "outputs": [],
   "source": [
    "# Gayeak = list(set(df_3['계약구분'].tolist()))\n",
    "#\n",
    "# Gayeak.sort()\n",
    "# Gayeak"
   ],
   "metadata": {
    "collapsed": false,
    "pycharm": {
     "name": "#%%\n"
    }
   }
  },
  {
   "cell_type": "code",
   "execution_count": 39,
   "outputs": [],
   "source": [
    "# SEOUL = df_3.loc[(df_3['계약구분'] =='일반용')]\n",
    "# SEOUL.drop(['고객호수(호)' ,'전기요금(원)' , '평균판매단가(원/kWh)'] , axis = 1 , inplace = True)\n",
    "# #SEOUL.dtypes(['사용량(kWh)'])\n",
    "# SEOUL"
   ],
   "metadata": {
    "collapsed": false,
    "pycharm": {
     "name": "#%%\n"
    }
   }
  },
  {
   "cell_type": "code",
   "execution_count": 40,
   "outputs": [],
   "source": [
    "#SEOUL.to_csv(\"서울특별시_일반용_전력사용량.csv\" , mode = 'w' , encoding= 'cp949')"
   ],
   "metadata": {
    "collapsed": false,
    "pycharm": {
     "name": "#%%\n"
    }
   }
  },
  {
   "cell_type": "code",
   "execution_count": 41,
   "outputs": [],
   "source": [
    "# print(SEOUL.dtypes)\n",
    "# SEOUL = SEOUL.astype({'사용량(kWh)' : 'float'})"
   ],
   "metadata": {
    "collapsed": false,
    "pycharm": {
     "name": "#%%\n"
    }
   }
  },
  {
   "cell_type": "code",
   "execution_count": 42,
   "outputs": [],
   "source": [
    "# SEOUL"
   ],
   "metadata": {
    "collapsed": false,
    "pycharm": {
     "name": "#%%\n"
    }
   }
  },
  {
   "cell_type": "code",
   "execution_count": 43,
   "outputs": [],
   "source": [
    "# a = SEOUL['사용량(kWh)'].tolist()\n",
    "# int_list = map(int, a)\n",
    "# b=0\n",
    "# for i in int_list:\n",
    "#     b+=i\n",
    "#\n",
    "# print(b)"
   ],
   "metadata": {
    "collapsed": false,
    "pycharm": {
     "name": "#%%\n"
    }
   }
  },
  {
   "cell_type": "code",
   "execution_count": 43,
   "outputs": [],
   "source": [],
   "metadata": {
    "collapsed": false,
    "pycharm": {
     "name": "#%%\n"
    }
   }
  },
  {
   "cell_type": "code",
   "execution_count": 43,
   "outputs": [],
   "source": [],
   "metadata": {
    "collapsed": false,
    "pycharm": {
     "name": "#%%\n"
    }
   }
  },
  {
   "cell_type": "code",
   "execution_count": 43,
   "outputs": [],
   "source": [],
   "metadata": {
    "collapsed": false,
    "pycharm": {
     "name": "#%%\n"
    }
   }
  },
  {
   "cell_type": "code",
   "execution_count": 43,
   "outputs": [],
   "source": [],
   "metadata": {
    "collapsed": false,
    "pycharm": {
     "name": "#%%\n"
    }
   }
  },
  {
   "cell_type": "code",
   "execution_count": 43,
   "outputs": [],
   "source": [],
   "metadata": {
    "collapsed": false,
    "pycharm": {
     "name": "#%%\n"
    }
   }
  },
  {
   "cell_type": "code",
   "execution_count": 43,
   "outputs": [],
   "source": [],
   "metadata": {
    "collapsed": false,
    "pycharm": {
     "name": "#%%\n"
    }
   }
  },
  {
   "cell_type": "code",
   "execution_count": 43,
   "outputs": [],
   "source": [],
   "metadata": {
    "collapsed": false,
    "pycharm": {
     "name": "#%%\n"
    }
   }
  }
 ],
 "metadata": {
  "kernelspec": {
   "display_name": "Python 3",
   "language": "python",
   "name": "python3"
  },
  "language_info": {
   "codemirror_mode": {
    "name": "ipython",
    "version": 2
   },
   "file_extension": ".py",
   "mimetype": "text/x-python",
   "name": "python",
   "nbconvert_exporter": "python",
   "pygments_lexer": "ipython2",
   "version": "2.7.6"
  }
 },
 "nbformat": 4,
 "nbformat_minor": 0
}