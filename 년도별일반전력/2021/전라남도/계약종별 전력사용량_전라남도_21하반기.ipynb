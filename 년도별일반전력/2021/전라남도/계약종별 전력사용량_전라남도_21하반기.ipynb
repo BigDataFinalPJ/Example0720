{
 "cells": [
  {
   "cell_type": "markdown",
   "source": [],
   "metadata": {
    "collapsed": false,
    "pycharm": {
     "name": "#%% md\n"
    }
   }
  },
  {
   "cell_type": "code",
   "execution_count": 44,
   "outputs": [],
   "source": [
    "import pandas as pd\n",
    "import re\n",
    "\n",
    "pd.options.display.float_format = '{:.0f}'.format"
   ],
   "metadata": {
    "collapsed": false,
    "pycharm": {
     "name": "#%%\n"
    }
   }
  },
  {
   "cell_type": "markdown",
   "source": [
    "### 1. 꼭 read_csv 21상반기, 19하반기와 같이 맞추어 주세요!!! 또한 지역(전라북도, 남도) 맞추기!!!!!"
   ],
   "metadata": {
    "collapsed": false,
    "pycharm": {
     "name": "#%% md\n"
    }
   }
  },
  {
   "cell_type": "code",
   "execution_count": 45,
   "outputs": [
    {
     "data": {
      "text/plain": "        계약종별 전력사용량 월별( 20220804 현재 ) Unnamed: 1     Unnamed: 2 Unnamed: 3  \\\n0     시도 : 전라남도, 시군구 : 전체(시 / 군 / 구)        NaN            NaN        NaN   \n1        기간 : 2021년 07 월 ~ 2021년 12월        NaN            NaN        NaN   \n2                                 년월         시구            시군구       계약구분   \n3                             202107       전라남도  전체(시 / 군 / 구)        주택용   \n4                             202107       전라남도  전체(시 / 군 / 구)        일반용   \n...                              ...        ...            ...        ...   \n1099                          202112       전라남도            화순군        산업용   \n1100                          202112       전라남도            화순군        심 야   \n1101                          202112       전라남도            화순군        일반용   \n1102                          202112       전라남도            화순군        주택용   \n1103                          202112       전라남도            화순군         합계   \n\n     Unnamed: 4    Unnamed: 5       Unnamed: 6     Unnamed: 7  \n0           NaN           NaN              NaN            NaN  \n1           NaN           NaN              NaN            NaN  \n2       고객호수(호)      사용량(kWh)          전기요금(원)  평균판매단가(원/kWh)  \n3      770,261   226,306,192   23,517,554,134          103.9   \n4      157,283   344,080,065   50,531,725,202          146.9   \n...         ...           ...              ...            ...  \n1099       883    11,057,134    1,511,325,760          136.7   \n1100     1,450     1,878,297      136,997,246           72.9   \n1101     4,897    12,902,970    1,788,289,878          138.6   \n1102    27,123     7,141,650      779,348,844          109.1   \n1103    56,899    50,559,725    5,185,710,185          102.6   \n\n[1104 rows x 8 columns]",
      "text/html": "<div>\n<style scoped>\n    .dataframe tbody tr th:only-of-type {\n        vertical-align: middle;\n    }\n\n    .dataframe tbody tr th {\n        vertical-align: top;\n    }\n\n    .dataframe thead th {\n        text-align: right;\n    }\n</style>\n<table border=\"1\" class=\"dataframe\">\n  <thead>\n    <tr style=\"text-align: right;\">\n      <th></th>\n      <th>계약종별 전력사용량 월별( 20220804 현재 )</th>\n      <th>Unnamed: 1</th>\n      <th>Unnamed: 2</th>\n      <th>Unnamed: 3</th>\n      <th>Unnamed: 4</th>\n      <th>Unnamed: 5</th>\n      <th>Unnamed: 6</th>\n      <th>Unnamed: 7</th>\n    </tr>\n  </thead>\n  <tbody>\n    <tr>\n      <th>0</th>\n      <td>시도 : 전라남도, 시군구 : 전체(시 / 군 / 구)</td>\n      <td>NaN</td>\n      <td>NaN</td>\n      <td>NaN</td>\n      <td>NaN</td>\n      <td>NaN</td>\n      <td>NaN</td>\n      <td>NaN</td>\n    </tr>\n    <tr>\n      <th>1</th>\n      <td>기간 : 2021년 07 월 ~ 2021년 12월</td>\n      <td>NaN</td>\n      <td>NaN</td>\n      <td>NaN</td>\n      <td>NaN</td>\n      <td>NaN</td>\n      <td>NaN</td>\n      <td>NaN</td>\n    </tr>\n    <tr>\n      <th>2</th>\n      <td>년월</td>\n      <td>시구</td>\n      <td>시군구</td>\n      <td>계약구분</td>\n      <td>고객호수(호)</td>\n      <td>사용량(kWh)</td>\n      <td>전기요금(원)</td>\n      <td>평균판매단가(원/kWh)</td>\n    </tr>\n    <tr>\n      <th>3</th>\n      <td>202107</td>\n      <td>전라남도</td>\n      <td>전체(시 / 군 / 구)</td>\n      <td>주택용</td>\n      <td>770,261</td>\n      <td>226,306,192</td>\n      <td>23,517,554,134</td>\n      <td>103.9</td>\n    </tr>\n    <tr>\n      <th>4</th>\n      <td>202107</td>\n      <td>전라남도</td>\n      <td>전체(시 / 군 / 구)</td>\n      <td>일반용</td>\n      <td>157,283</td>\n      <td>344,080,065</td>\n      <td>50,531,725,202</td>\n      <td>146.9</td>\n    </tr>\n    <tr>\n      <th>...</th>\n      <td>...</td>\n      <td>...</td>\n      <td>...</td>\n      <td>...</td>\n      <td>...</td>\n      <td>...</td>\n      <td>...</td>\n      <td>...</td>\n    </tr>\n    <tr>\n      <th>1099</th>\n      <td>202112</td>\n      <td>전라남도</td>\n      <td>화순군</td>\n      <td>산업용</td>\n      <td>883</td>\n      <td>11,057,134</td>\n      <td>1,511,325,760</td>\n      <td>136.7</td>\n    </tr>\n    <tr>\n      <th>1100</th>\n      <td>202112</td>\n      <td>전라남도</td>\n      <td>화순군</td>\n      <td>심 야</td>\n      <td>1,450</td>\n      <td>1,878,297</td>\n      <td>136,997,246</td>\n      <td>72.9</td>\n    </tr>\n    <tr>\n      <th>1101</th>\n      <td>202112</td>\n      <td>전라남도</td>\n      <td>화순군</td>\n      <td>일반용</td>\n      <td>4,897</td>\n      <td>12,902,970</td>\n      <td>1,788,289,878</td>\n      <td>138.6</td>\n    </tr>\n    <tr>\n      <th>1102</th>\n      <td>202112</td>\n      <td>전라남도</td>\n      <td>화순군</td>\n      <td>주택용</td>\n      <td>27,123</td>\n      <td>7,141,650</td>\n      <td>779,348,844</td>\n      <td>109.1</td>\n    </tr>\n    <tr>\n      <th>1103</th>\n      <td>202112</td>\n      <td>전라남도</td>\n      <td>화순군</td>\n      <td>합계</td>\n      <td>56,899</td>\n      <td>50,559,725</td>\n      <td>5,185,710,185</td>\n      <td>102.6</td>\n    </tr>\n  </tbody>\n</table>\n<p>1104 rows × 8 columns</p>\n</div>"
     },
     "execution_count": 45,
     "metadata": {},
     "output_type": "execute_result"
    }
   ],
   "source": [
    "df = pd.read_csv('전라남도_계약종별_전력사용량_월별_21하반기.csv' , encoding='cp949')\n",
    "\n",
    "df\n",
    "#exchng=  pd.read_csv('지역별_전력거래량_20220803093050.csv' , encoding='cp949')"
   ],
   "metadata": {
    "collapsed": false,
    "pycharm": {
     "name": "#%%\n"
    }
   }
  },
  {
   "cell_type": "code",
   "execution_count": 46,
   "outputs": [
    {
     "data": {
      "text/plain": "     계약종별 전력사용량 월별( 20220804 현재 ) Unnamed: 1     Unnamed: 2 Unnamed: 3  \\\n2                              년월         시구            시군구       계약구분   \n3                          202107       전라남도  전체(시 / 군 / 구)        주택용   \n4                          202107       전라남도  전체(시 / 군 / 구)        일반용   \n5                          202107       전라남도  전체(시 / 군 / 구)        교육용   \n6                          202107       전라남도  전체(시 / 군 / 구)        산업용   \n...                           ...        ...            ...        ...   \n1099                       202112       전라남도            화순군        산업용   \n1100                       202112       전라남도            화순군        심 야   \n1101                       202112       전라남도            화순군        일반용   \n1102                       202112       전라남도            화순군        주택용   \n1103                       202112       전라남도            화순군         합계   \n\n     Unnamed: 4      Unnamed: 5        Unnamed: 6     Unnamed: 7  \n2       고객호수(호)        사용량(kWh)           전기요금(원)  평균판매단가(원/kWh)  \n3      770,261     226,306,192    23,517,554,134          103.9   \n4      157,283     344,080,065    50,531,725,202          146.9   \n5        1,328      27,185,473     3,352,115,064          123.3   \n6       21,695   1,914,629,799   210,132,811,652          109.8   \n...         ...             ...               ...            ...  \n1099       883      11,057,134     1,511,325,760          136.7   \n1100     1,450       1,878,297       136,997,246           72.9   \n1101     4,897      12,902,970     1,788,289,878          138.6   \n1102    27,123       7,141,650       779,348,844          109.1   \n1103    56,899      50,559,725     5,185,710,185          102.6   \n\n[1101 rows x 8 columns]",
      "text/html": "<div>\n<style scoped>\n    .dataframe tbody tr th:only-of-type {\n        vertical-align: middle;\n    }\n\n    .dataframe tbody tr th {\n        vertical-align: top;\n    }\n\n    .dataframe thead th {\n        text-align: right;\n    }\n</style>\n<table border=\"1\" class=\"dataframe\">\n  <thead>\n    <tr style=\"text-align: right;\">\n      <th></th>\n      <th>계약종별 전력사용량 월별( 20220804 현재 )</th>\n      <th>Unnamed: 1</th>\n      <th>Unnamed: 2</th>\n      <th>Unnamed: 3</th>\n      <th>Unnamed: 4</th>\n      <th>Unnamed: 5</th>\n      <th>Unnamed: 6</th>\n      <th>Unnamed: 7</th>\n    </tr>\n  </thead>\n  <tbody>\n    <tr>\n      <th>2</th>\n      <td>년월</td>\n      <td>시구</td>\n      <td>시군구</td>\n      <td>계약구분</td>\n      <td>고객호수(호)</td>\n      <td>사용량(kWh)</td>\n      <td>전기요금(원)</td>\n      <td>평균판매단가(원/kWh)</td>\n    </tr>\n    <tr>\n      <th>3</th>\n      <td>202107</td>\n      <td>전라남도</td>\n      <td>전체(시 / 군 / 구)</td>\n      <td>주택용</td>\n      <td>770,261</td>\n      <td>226,306,192</td>\n      <td>23,517,554,134</td>\n      <td>103.9</td>\n    </tr>\n    <tr>\n      <th>4</th>\n      <td>202107</td>\n      <td>전라남도</td>\n      <td>전체(시 / 군 / 구)</td>\n      <td>일반용</td>\n      <td>157,283</td>\n      <td>344,080,065</td>\n      <td>50,531,725,202</td>\n      <td>146.9</td>\n    </tr>\n    <tr>\n      <th>5</th>\n      <td>202107</td>\n      <td>전라남도</td>\n      <td>전체(시 / 군 / 구)</td>\n      <td>교육용</td>\n      <td>1,328</td>\n      <td>27,185,473</td>\n      <td>3,352,115,064</td>\n      <td>123.3</td>\n    </tr>\n    <tr>\n      <th>6</th>\n      <td>202107</td>\n      <td>전라남도</td>\n      <td>전체(시 / 군 / 구)</td>\n      <td>산업용</td>\n      <td>21,695</td>\n      <td>1,914,629,799</td>\n      <td>210,132,811,652</td>\n      <td>109.8</td>\n    </tr>\n    <tr>\n      <th>...</th>\n      <td>...</td>\n      <td>...</td>\n      <td>...</td>\n      <td>...</td>\n      <td>...</td>\n      <td>...</td>\n      <td>...</td>\n      <td>...</td>\n    </tr>\n    <tr>\n      <th>1099</th>\n      <td>202112</td>\n      <td>전라남도</td>\n      <td>화순군</td>\n      <td>산업용</td>\n      <td>883</td>\n      <td>11,057,134</td>\n      <td>1,511,325,760</td>\n      <td>136.7</td>\n    </tr>\n    <tr>\n      <th>1100</th>\n      <td>202112</td>\n      <td>전라남도</td>\n      <td>화순군</td>\n      <td>심 야</td>\n      <td>1,450</td>\n      <td>1,878,297</td>\n      <td>136,997,246</td>\n      <td>72.9</td>\n    </tr>\n    <tr>\n      <th>1101</th>\n      <td>202112</td>\n      <td>전라남도</td>\n      <td>화순군</td>\n      <td>일반용</td>\n      <td>4,897</td>\n      <td>12,902,970</td>\n      <td>1,788,289,878</td>\n      <td>138.6</td>\n    </tr>\n    <tr>\n      <th>1102</th>\n      <td>202112</td>\n      <td>전라남도</td>\n      <td>화순군</td>\n      <td>주택용</td>\n      <td>27,123</td>\n      <td>7,141,650</td>\n      <td>779,348,844</td>\n      <td>109.1</td>\n    </tr>\n    <tr>\n      <th>1103</th>\n      <td>202112</td>\n      <td>전라남도</td>\n      <td>화순군</td>\n      <td>합계</td>\n      <td>56,899</td>\n      <td>50,559,725</td>\n      <td>5,185,710,185</td>\n      <td>102.6</td>\n    </tr>\n  </tbody>\n</table>\n<p>1101 rows × 8 columns</p>\n</div>"
     },
     "execution_count": 46,
     "metadata": {},
     "output_type": "execute_result"
    }
   ],
   "source": [
    "df = df.drop([0,1 , 46] , axis = 0)\n",
    "#0,1 , 10은 지우는게 맞다\n",
    "df"
   ],
   "metadata": {
    "collapsed": false,
    "pycharm": {
     "name": "#%%\n"
    }
   }
  },
  {
   "cell_type": "code",
   "execution_count": 47,
   "outputs": [],
   "source": [
    "a= df.loc[2].tolist()\n",
    "a\n",
    "df = df.drop([2] , axis = 0)"
   ],
   "metadata": {
    "collapsed": false,
    "pycharm": {
     "name": "#%%\n"
    }
   }
  },
  {
   "cell_type": "code",
   "execution_count": 48,
   "outputs": [
    {
     "data": {
      "text/plain": "          년월    시구            시군구 계약구분   고객호수(호)        사용량(kWh)  \\\n3     202107  전라남도  전체(시 / 군 / 구)  주택용  770,261     226,306,192    \n4     202107  전라남도  전체(시 / 군 / 구)  일반용  157,283     344,080,065    \n5     202107  전라남도  전체(시 / 군 / 구)  교육용    1,328      27,185,473    \n6     202107  전라남도  전체(시 / 군 / 구)  산업용   21,695   1,914,629,799    \n7     202107  전라남도  전체(시 / 군 / 구)  농사용  306,391     311,034,684    \n...      ...   ...            ...  ...       ...             ...   \n1099  202112  전라남도            화순군  산업용      883      11,057,134    \n1100  202112  전라남도            화순군  심 야    1,450       1,878,297    \n1101  202112  전라남도            화순군  일반용    4,897      12,902,970    \n1102  202112  전라남도            화순군  주택용   27,123       7,141,650    \n1103  202112  전라남도            화순군   합계   56,899      50,559,725    \n\n               전기요금(원) 평균판매단가(원/kWh)  \n3      23,517,554,134         103.9   \n4      50,531,725,202         146.9   \n5       3,352,115,064         123.3   \n6     210,132,811,652         109.8   \n7      13,727,487,656          44.1   \n...                ...           ...  \n1099    1,511,325,760         136.7   \n1100      136,997,246          72.9   \n1101    1,788,289,878         138.6   \n1102      779,348,844         109.1   \n1103    5,185,710,185         102.6   \n\n[1100 rows x 8 columns]",
      "text/html": "<div>\n<style scoped>\n    .dataframe tbody tr th:only-of-type {\n        vertical-align: middle;\n    }\n\n    .dataframe tbody tr th {\n        vertical-align: top;\n    }\n\n    .dataframe thead th {\n        text-align: right;\n    }\n</style>\n<table border=\"1\" class=\"dataframe\">\n  <thead>\n    <tr style=\"text-align: right;\">\n      <th></th>\n      <th>년월</th>\n      <th>시구</th>\n      <th>시군구</th>\n      <th>계약구분</th>\n      <th>고객호수(호)</th>\n      <th>사용량(kWh)</th>\n      <th>전기요금(원)</th>\n      <th>평균판매단가(원/kWh)</th>\n    </tr>\n  </thead>\n  <tbody>\n    <tr>\n      <th>3</th>\n      <td>202107</td>\n      <td>전라남도</td>\n      <td>전체(시 / 군 / 구)</td>\n      <td>주택용</td>\n      <td>770,261</td>\n      <td>226,306,192</td>\n      <td>23,517,554,134</td>\n      <td>103.9</td>\n    </tr>\n    <tr>\n      <th>4</th>\n      <td>202107</td>\n      <td>전라남도</td>\n      <td>전체(시 / 군 / 구)</td>\n      <td>일반용</td>\n      <td>157,283</td>\n      <td>344,080,065</td>\n      <td>50,531,725,202</td>\n      <td>146.9</td>\n    </tr>\n    <tr>\n      <th>5</th>\n      <td>202107</td>\n      <td>전라남도</td>\n      <td>전체(시 / 군 / 구)</td>\n      <td>교육용</td>\n      <td>1,328</td>\n      <td>27,185,473</td>\n      <td>3,352,115,064</td>\n      <td>123.3</td>\n    </tr>\n    <tr>\n      <th>6</th>\n      <td>202107</td>\n      <td>전라남도</td>\n      <td>전체(시 / 군 / 구)</td>\n      <td>산업용</td>\n      <td>21,695</td>\n      <td>1,914,629,799</td>\n      <td>210,132,811,652</td>\n      <td>109.8</td>\n    </tr>\n    <tr>\n      <th>7</th>\n      <td>202107</td>\n      <td>전라남도</td>\n      <td>전체(시 / 군 / 구)</td>\n      <td>농사용</td>\n      <td>306,391</td>\n      <td>311,034,684</td>\n      <td>13,727,487,656</td>\n      <td>44.1</td>\n    </tr>\n    <tr>\n      <th>...</th>\n      <td>...</td>\n      <td>...</td>\n      <td>...</td>\n      <td>...</td>\n      <td>...</td>\n      <td>...</td>\n      <td>...</td>\n      <td>...</td>\n    </tr>\n    <tr>\n      <th>1099</th>\n      <td>202112</td>\n      <td>전라남도</td>\n      <td>화순군</td>\n      <td>산업용</td>\n      <td>883</td>\n      <td>11,057,134</td>\n      <td>1,511,325,760</td>\n      <td>136.7</td>\n    </tr>\n    <tr>\n      <th>1100</th>\n      <td>202112</td>\n      <td>전라남도</td>\n      <td>화순군</td>\n      <td>심 야</td>\n      <td>1,450</td>\n      <td>1,878,297</td>\n      <td>136,997,246</td>\n      <td>72.9</td>\n    </tr>\n    <tr>\n      <th>1101</th>\n      <td>202112</td>\n      <td>전라남도</td>\n      <td>화순군</td>\n      <td>일반용</td>\n      <td>4,897</td>\n      <td>12,902,970</td>\n      <td>1,788,289,878</td>\n      <td>138.6</td>\n    </tr>\n    <tr>\n      <th>1102</th>\n      <td>202112</td>\n      <td>전라남도</td>\n      <td>화순군</td>\n      <td>주택용</td>\n      <td>27,123</td>\n      <td>7,141,650</td>\n      <td>779,348,844</td>\n      <td>109.1</td>\n    </tr>\n    <tr>\n      <th>1103</th>\n      <td>202112</td>\n      <td>전라남도</td>\n      <td>화순군</td>\n      <td>합계</td>\n      <td>56,899</td>\n      <td>50,559,725</td>\n      <td>5,185,710,185</td>\n      <td>102.6</td>\n    </tr>\n  </tbody>\n</table>\n<p>1100 rows × 8 columns</p>\n</div>"
     },
     "execution_count": 48,
     "metadata": {},
     "output_type": "execute_result"
    }
   ],
   "source": [
    "df.columns = a\n",
    "df"
   ],
   "metadata": {
    "collapsed": false,
    "pycharm": {
     "name": "#%%\n"
    }
   }
  },
  {
   "cell_type": "code",
   "execution_count": 49,
   "outputs": [
    {
     "data": {
      "text/plain": "        년월    시구            시군구 계약구분    고객호수(호)        사용량(kWh)  \\\n3   202107  전라남도  전체(시 / 군 / 구)  주택용   770,261     226,306,192    \n4   202107  전라남도  전체(시 / 군 / 구)  일반용   157,283     344,080,065    \n5   202107  전라남도  전체(시 / 군 / 구)  교육용     1,328      27,185,473    \n6   202107  전라남도  전체(시 / 군 / 구)  산업용    21,695   1,914,629,799    \n7   202107  전라남도  전체(시 / 군 / 구)  농사용   306,391     311,034,684    \n8   202107  전라남도  전체(시 / 군 / 구)  가로등   195,128      17,735,262    \n9   202107  전라남도  전체(시 / 군 / 구)  심 야    40,223      15,378,161    \n10  202108  전라남도  전체(시 / 군 / 구)  주택용   770,833     293,187,264    \n11  202108  전라남도  전체(시 / 군 / 구)  일반용   157,607     401,165,441    \n12  202108  전라남도  전체(시 / 군 / 구)  교육용     1,331      23,134,791    \n13  202108  전라남도  전체(시 / 군 / 구)  산업용    21,738   1,931,669,376    \n14  202108  전라남도  전체(시 / 군 / 구)  농사용   307,468     392,321,211    \n15  202108  전라남도  전체(시 / 군 / 구)  가로등   195,667      18,707,391    \n16  202108  전라남도  전체(시 / 군 / 구)  심 야    40,095      12,864,566    \n17  202109  전라남도  전체(시 / 군 / 구)  주택용   771,721     245,169,870    \n18  202109  전라남도  전체(시 / 군 / 구)  일반용   157,971     357,165,162    \n19  202109  전라남도  전체(시 / 군 / 구)  교육용     1,331      26,390,402    \n20  202109  전라남도  전체(시 / 군 / 구)  산업용    21,781   1,816,701,567    \n21  202109  전라남도  전체(시 / 군 / 구)  농사용   308,575     359,295,113    \n22  202109  전라남도  전체(시 / 군 / 구)  가로등   196,077      18,866,317    \n23  202109  전라남도  전체(시 / 군 / 구)  심 야    39,993      13,175,951    \n24  202110  전라남도  전체(시 / 군 / 구)  주택용   772,345     208,212,880    \n25  202110  전라남도  전체(시 / 군 / 구)  일반용   158,130     311,577,590    \n26  202110  전라남도  전체(시 / 군 / 구)  교육용     1,327      22,701,024    \n27  202110  전라남도  전체(시 / 군 / 구)  산업용    21,796   1,841,634,003    \n28  202110  전라남도  전체(시 / 군 / 구)  농사용   309,412     306,932,071    \n29  202110  전라남도  전체(시 / 군 / 구)  가로등   196,816      20,014,994    \n30  202110  전라남도  전체(시 / 군 / 구)  심 야    39,867      15,422,140    \n31  202111  전라남도  전체(시 / 군 / 구)  주택용   773,152     209,867,208    \n32  202111  전라남도  전체(시 / 군 / 구)  일반용   158,702     308,334,695    \n33  202111  전라남도  전체(시 / 군 / 구)  교육용     1,326      24,581,884    \n34  202111  전라남도  전체(시 / 군 / 구)  산업용    21,813   1,683,973,463    \n35  202111  전라남도  전체(시 / 군 / 구)  농사용   432,999     396,811,343    \n36  202111  전라남도  전체(시 / 군 / 구)  가로등   197,260      20,961,205    \n37  202111  전라남도  전체(시 / 군 / 구)  심 야    39,729      35,187,707    \n38  202112  전라남도  전체(시 / 군 / 구)  주택용   774,017     219,878,354    \n39  202112  전라남도  전체(시 / 군 / 구)  일반용   159,236     341,272,177    \n40  202112  전라남도  전체(시 / 군 / 구)  교육용     1,326      33,281,330    \n41  202112  전라남도  전체(시 / 군 / 구)  산업용    21,917   1,939,365,669    \n42  202112  전라남도  전체(시 / 군 / 구)  농사용   334,073     356,159,047    \n43  202112  전라남도  전체(시 / 군 / 구)  가로등   197,762      21,429,714    \n44  202112  전라남도  전체(시 / 군 / 구)  심 야    39,595      54,859,322    \n45      합계    합계             합계   합계  9,137,097  17,138,621,878   \n\n              전기요금(원) 평균판매단가(원/kWh)  \n3     23,517,554,134         103.9   \n4     50,531,725,202         146.9   \n5      3,352,115,064         123.3   \n6    210,132,811,652         109.8   \n7     13,727,487,656          44.1   \n8      2,136,625,298         120.5   \n9        859,993,920          55.9   \n10    33,387,714,304         113.9   \n11    56,570,088,478         141.0   \n12     2,916,849,115         126.1   \n13   205,287,029,642         106.3   \n14    16,866,137,968          43.0   \n15     2,172,156,176         116.1   \n16       732,541,789          56.9   \n17    26,072,802,798         106.3   \n18    45,971,691,281         128.7   \n19     2,781,489,405         105.4   \n20   156,331,126,020          86.1   \n21    15,629,367,756          43.5   \n22     2,149,555,057         113.9   \n23       746,535,833          56.7   \n24    22,804,157,653         109.5   \n25    36,284,247,775         116.5   \n26     2,208,001,229          97.3   \n27   161,413,669,033          87.6   \n28    14,606,933,535          47.6   \n29     2,219,368,673         110.9   \n30       886,895,214          57.5   \n31    23,333,197,038         111.2   \n32    40,203,948,034         130.4   \n33     2,616,002,566         106.4   \n34   188,478,781,169         111.9   \n35    17,168,458,550          43.3   \n36     2,282,275,516         108.9   \n37     2,262,851,334          64.3   \n38    24,875,484,909         113.1   \n39    47,818,748,135         140.1   \n40     3,502,253,321         105.2   \n41   214,952,985,345         110.8   \n42    16,644,943,428          46.7   \n43     2,282,417,702         106.5   \n44     4,132,053,053          75.3   \n45  1,702,851,071,760          99.4  ",
      "text/html": "<div>\n<style scoped>\n    .dataframe tbody tr th:only-of-type {\n        vertical-align: middle;\n    }\n\n    .dataframe tbody tr th {\n        vertical-align: top;\n    }\n\n    .dataframe thead th {\n        text-align: right;\n    }\n</style>\n<table border=\"1\" class=\"dataframe\">\n  <thead>\n    <tr style=\"text-align: right;\">\n      <th></th>\n      <th>년월</th>\n      <th>시구</th>\n      <th>시군구</th>\n      <th>계약구분</th>\n      <th>고객호수(호)</th>\n      <th>사용량(kWh)</th>\n      <th>전기요금(원)</th>\n      <th>평균판매단가(원/kWh)</th>\n    </tr>\n  </thead>\n  <tbody>\n    <tr>\n      <th>3</th>\n      <td>202107</td>\n      <td>전라남도</td>\n      <td>전체(시 / 군 / 구)</td>\n      <td>주택용</td>\n      <td>770,261</td>\n      <td>226,306,192</td>\n      <td>23,517,554,134</td>\n      <td>103.9</td>\n    </tr>\n    <tr>\n      <th>4</th>\n      <td>202107</td>\n      <td>전라남도</td>\n      <td>전체(시 / 군 / 구)</td>\n      <td>일반용</td>\n      <td>157,283</td>\n      <td>344,080,065</td>\n      <td>50,531,725,202</td>\n      <td>146.9</td>\n    </tr>\n    <tr>\n      <th>5</th>\n      <td>202107</td>\n      <td>전라남도</td>\n      <td>전체(시 / 군 / 구)</td>\n      <td>교육용</td>\n      <td>1,328</td>\n      <td>27,185,473</td>\n      <td>3,352,115,064</td>\n      <td>123.3</td>\n    </tr>\n    <tr>\n      <th>6</th>\n      <td>202107</td>\n      <td>전라남도</td>\n      <td>전체(시 / 군 / 구)</td>\n      <td>산업용</td>\n      <td>21,695</td>\n      <td>1,914,629,799</td>\n      <td>210,132,811,652</td>\n      <td>109.8</td>\n    </tr>\n    <tr>\n      <th>7</th>\n      <td>202107</td>\n      <td>전라남도</td>\n      <td>전체(시 / 군 / 구)</td>\n      <td>농사용</td>\n      <td>306,391</td>\n      <td>311,034,684</td>\n      <td>13,727,487,656</td>\n      <td>44.1</td>\n    </tr>\n    <tr>\n      <th>8</th>\n      <td>202107</td>\n      <td>전라남도</td>\n      <td>전체(시 / 군 / 구)</td>\n      <td>가로등</td>\n      <td>195,128</td>\n      <td>17,735,262</td>\n      <td>2,136,625,298</td>\n      <td>120.5</td>\n    </tr>\n    <tr>\n      <th>9</th>\n      <td>202107</td>\n      <td>전라남도</td>\n      <td>전체(시 / 군 / 구)</td>\n      <td>심 야</td>\n      <td>40,223</td>\n      <td>15,378,161</td>\n      <td>859,993,920</td>\n      <td>55.9</td>\n    </tr>\n    <tr>\n      <th>10</th>\n      <td>202108</td>\n      <td>전라남도</td>\n      <td>전체(시 / 군 / 구)</td>\n      <td>주택용</td>\n      <td>770,833</td>\n      <td>293,187,264</td>\n      <td>33,387,714,304</td>\n      <td>113.9</td>\n    </tr>\n    <tr>\n      <th>11</th>\n      <td>202108</td>\n      <td>전라남도</td>\n      <td>전체(시 / 군 / 구)</td>\n      <td>일반용</td>\n      <td>157,607</td>\n      <td>401,165,441</td>\n      <td>56,570,088,478</td>\n      <td>141.0</td>\n    </tr>\n    <tr>\n      <th>12</th>\n      <td>202108</td>\n      <td>전라남도</td>\n      <td>전체(시 / 군 / 구)</td>\n      <td>교육용</td>\n      <td>1,331</td>\n      <td>23,134,791</td>\n      <td>2,916,849,115</td>\n      <td>126.1</td>\n    </tr>\n    <tr>\n      <th>13</th>\n      <td>202108</td>\n      <td>전라남도</td>\n      <td>전체(시 / 군 / 구)</td>\n      <td>산업용</td>\n      <td>21,738</td>\n      <td>1,931,669,376</td>\n      <td>205,287,029,642</td>\n      <td>106.3</td>\n    </tr>\n    <tr>\n      <th>14</th>\n      <td>202108</td>\n      <td>전라남도</td>\n      <td>전체(시 / 군 / 구)</td>\n      <td>농사용</td>\n      <td>307,468</td>\n      <td>392,321,211</td>\n      <td>16,866,137,968</td>\n      <td>43.0</td>\n    </tr>\n    <tr>\n      <th>15</th>\n      <td>202108</td>\n      <td>전라남도</td>\n      <td>전체(시 / 군 / 구)</td>\n      <td>가로등</td>\n      <td>195,667</td>\n      <td>18,707,391</td>\n      <td>2,172,156,176</td>\n      <td>116.1</td>\n    </tr>\n    <tr>\n      <th>16</th>\n      <td>202108</td>\n      <td>전라남도</td>\n      <td>전체(시 / 군 / 구)</td>\n      <td>심 야</td>\n      <td>40,095</td>\n      <td>12,864,566</td>\n      <td>732,541,789</td>\n      <td>56.9</td>\n    </tr>\n    <tr>\n      <th>17</th>\n      <td>202109</td>\n      <td>전라남도</td>\n      <td>전체(시 / 군 / 구)</td>\n      <td>주택용</td>\n      <td>771,721</td>\n      <td>245,169,870</td>\n      <td>26,072,802,798</td>\n      <td>106.3</td>\n    </tr>\n    <tr>\n      <th>18</th>\n      <td>202109</td>\n      <td>전라남도</td>\n      <td>전체(시 / 군 / 구)</td>\n      <td>일반용</td>\n      <td>157,971</td>\n      <td>357,165,162</td>\n      <td>45,971,691,281</td>\n      <td>128.7</td>\n    </tr>\n    <tr>\n      <th>19</th>\n      <td>202109</td>\n      <td>전라남도</td>\n      <td>전체(시 / 군 / 구)</td>\n      <td>교육용</td>\n      <td>1,331</td>\n      <td>26,390,402</td>\n      <td>2,781,489,405</td>\n      <td>105.4</td>\n    </tr>\n    <tr>\n      <th>20</th>\n      <td>202109</td>\n      <td>전라남도</td>\n      <td>전체(시 / 군 / 구)</td>\n      <td>산업용</td>\n      <td>21,781</td>\n      <td>1,816,701,567</td>\n      <td>156,331,126,020</td>\n      <td>86.1</td>\n    </tr>\n    <tr>\n      <th>21</th>\n      <td>202109</td>\n      <td>전라남도</td>\n      <td>전체(시 / 군 / 구)</td>\n      <td>농사용</td>\n      <td>308,575</td>\n      <td>359,295,113</td>\n      <td>15,629,367,756</td>\n      <td>43.5</td>\n    </tr>\n    <tr>\n      <th>22</th>\n      <td>202109</td>\n      <td>전라남도</td>\n      <td>전체(시 / 군 / 구)</td>\n      <td>가로등</td>\n      <td>196,077</td>\n      <td>18,866,317</td>\n      <td>2,149,555,057</td>\n      <td>113.9</td>\n    </tr>\n    <tr>\n      <th>23</th>\n      <td>202109</td>\n      <td>전라남도</td>\n      <td>전체(시 / 군 / 구)</td>\n      <td>심 야</td>\n      <td>39,993</td>\n      <td>13,175,951</td>\n      <td>746,535,833</td>\n      <td>56.7</td>\n    </tr>\n    <tr>\n      <th>24</th>\n      <td>202110</td>\n      <td>전라남도</td>\n      <td>전체(시 / 군 / 구)</td>\n      <td>주택용</td>\n      <td>772,345</td>\n      <td>208,212,880</td>\n      <td>22,804,157,653</td>\n      <td>109.5</td>\n    </tr>\n    <tr>\n      <th>25</th>\n      <td>202110</td>\n      <td>전라남도</td>\n      <td>전체(시 / 군 / 구)</td>\n      <td>일반용</td>\n      <td>158,130</td>\n      <td>311,577,590</td>\n      <td>36,284,247,775</td>\n      <td>116.5</td>\n    </tr>\n    <tr>\n      <th>26</th>\n      <td>202110</td>\n      <td>전라남도</td>\n      <td>전체(시 / 군 / 구)</td>\n      <td>교육용</td>\n      <td>1,327</td>\n      <td>22,701,024</td>\n      <td>2,208,001,229</td>\n      <td>97.3</td>\n    </tr>\n    <tr>\n      <th>27</th>\n      <td>202110</td>\n      <td>전라남도</td>\n      <td>전체(시 / 군 / 구)</td>\n      <td>산업용</td>\n      <td>21,796</td>\n      <td>1,841,634,003</td>\n      <td>161,413,669,033</td>\n      <td>87.6</td>\n    </tr>\n    <tr>\n      <th>28</th>\n      <td>202110</td>\n      <td>전라남도</td>\n      <td>전체(시 / 군 / 구)</td>\n      <td>농사용</td>\n      <td>309,412</td>\n      <td>306,932,071</td>\n      <td>14,606,933,535</td>\n      <td>47.6</td>\n    </tr>\n    <tr>\n      <th>29</th>\n      <td>202110</td>\n      <td>전라남도</td>\n      <td>전체(시 / 군 / 구)</td>\n      <td>가로등</td>\n      <td>196,816</td>\n      <td>20,014,994</td>\n      <td>2,219,368,673</td>\n      <td>110.9</td>\n    </tr>\n    <tr>\n      <th>30</th>\n      <td>202110</td>\n      <td>전라남도</td>\n      <td>전체(시 / 군 / 구)</td>\n      <td>심 야</td>\n      <td>39,867</td>\n      <td>15,422,140</td>\n      <td>886,895,214</td>\n      <td>57.5</td>\n    </tr>\n    <tr>\n      <th>31</th>\n      <td>202111</td>\n      <td>전라남도</td>\n      <td>전체(시 / 군 / 구)</td>\n      <td>주택용</td>\n      <td>773,152</td>\n      <td>209,867,208</td>\n      <td>23,333,197,038</td>\n      <td>111.2</td>\n    </tr>\n    <tr>\n      <th>32</th>\n      <td>202111</td>\n      <td>전라남도</td>\n      <td>전체(시 / 군 / 구)</td>\n      <td>일반용</td>\n      <td>158,702</td>\n      <td>308,334,695</td>\n      <td>40,203,948,034</td>\n      <td>130.4</td>\n    </tr>\n    <tr>\n      <th>33</th>\n      <td>202111</td>\n      <td>전라남도</td>\n      <td>전체(시 / 군 / 구)</td>\n      <td>교육용</td>\n      <td>1,326</td>\n      <td>24,581,884</td>\n      <td>2,616,002,566</td>\n      <td>106.4</td>\n    </tr>\n    <tr>\n      <th>34</th>\n      <td>202111</td>\n      <td>전라남도</td>\n      <td>전체(시 / 군 / 구)</td>\n      <td>산업용</td>\n      <td>21,813</td>\n      <td>1,683,973,463</td>\n      <td>188,478,781,169</td>\n      <td>111.9</td>\n    </tr>\n    <tr>\n      <th>35</th>\n      <td>202111</td>\n      <td>전라남도</td>\n      <td>전체(시 / 군 / 구)</td>\n      <td>농사용</td>\n      <td>432,999</td>\n      <td>396,811,343</td>\n      <td>17,168,458,550</td>\n      <td>43.3</td>\n    </tr>\n    <tr>\n      <th>36</th>\n      <td>202111</td>\n      <td>전라남도</td>\n      <td>전체(시 / 군 / 구)</td>\n      <td>가로등</td>\n      <td>197,260</td>\n      <td>20,961,205</td>\n      <td>2,282,275,516</td>\n      <td>108.9</td>\n    </tr>\n    <tr>\n      <th>37</th>\n      <td>202111</td>\n      <td>전라남도</td>\n      <td>전체(시 / 군 / 구)</td>\n      <td>심 야</td>\n      <td>39,729</td>\n      <td>35,187,707</td>\n      <td>2,262,851,334</td>\n      <td>64.3</td>\n    </tr>\n    <tr>\n      <th>38</th>\n      <td>202112</td>\n      <td>전라남도</td>\n      <td>전체(시 / 군 / 구)</td>\n      <td>주택용</td>\n      <td>774,017</td>\n      <td>219,878,354</td>\n      <td>24,875,484,909</td>\n      <td>113.1</td>\n    </tr>\n    <tr>\n      <th>39</th>\n      <td>202112</td>\n      <td>전라남도</td>\n      <td>전체(시 / 군 / 구)</td>\n      <td>일반용</td>\n      <td>159,236</td>\n      <td>341,272,177</td>\n      <td>47,818,748,135</td>\n      <td>140.1</td>\n    </tr>\n    <tr>\n      <th>40</th>\n      <td>202112</td>\n      <td>전라남도</td>\n      <td>전체(시 / 군 / 구)</td>\n      <td>교육용</td>\n      <td>1,326</td>\n      <td>33,281,330</td>\n      <td>3,502,253,321</td>\n      <td>105.2</td>\n    </tr>\n    <tr>\n      <th>41</th>\n      <td>202112</td>\n      <td>전라남도</td>\n      <td>전체(시 / 군 / 구)</td>\n      <td>산업용</td>\n      <td>21,917</td>\n      <td>1,939,365,669</td>\n      <td>214,952,985,345</td>\n      <td>110.8</td>\n    </tr>\n    <tr>\n      <th>42</th>\n      <td>202112</td>\n      <td>전라남도</td>\n      <td>전체(시 / 군 / 구)</td>\n      <td>농사용</td>\n      <td>334,073</td>\n      <td>356,159,047</td>\n      <td>16,644,943,428</td>\n      <td>46.7</td>\n    </tr>\n    <tr>\n      <th>43</th>\n      <td>202112</td>\n      <td>전라남도</td>\n      <td>전체(시 / 군 / 구)</td>\n      <td>가로등</td>\n      <td>197,762</td>\n      <td>21,429,714</td>\n      <td>2,282,417,702</td>\n      <td>106.5</td>\n    </tr>\n    <tr>\n      <th>44</th>\n      <td>202112</td>\n      <td>전라남도</td>\n      <td>전체(시 / 군 / 구)</td>\n      <td>심 야</td>\n      <td>39,595</td>\n      <td>54,859,322</td>\n      <td>4,132,053,053</td>\n      <td>75.3</td>\n    </tr>\n    <tr>\n      <th>45</th>\n      <td>합계</td>\n      <td>합계</td>\n      <td>합계</td>\n      <td>합계</td>\n      <td>9,137,097</td>\n      <td>17,138,621,878</td>\n      <td>1,702,851,071,760</td>\n      <td>99.4</td>\n    </tr>\n  </tbody>\n</table>\n</div>"
     },
     "execution_count": 49,
     "metadata": {},
     "output_type": "execute_result"
    }
   ],
   "source": [
    "df_2 = df.loc[:45]\n",
    "df_2\n"
   ],
   "metadata": {
    "collapsed": false,
    "pycharm": {
     "name": "#%%\n"
    }
   }
  },
  {
   "cell_type": "code",
   "execution_count": 50,
   "outputs": [
    {
     "name": "stderr",
     "output_type": "stream",
     "text": [
      "C:\\Users\\user\\AppData\\Local\\Temp\\ipykernel_25412\\3551721261.py:3: SettingWithCopyWarning: \n",
      "A value is trying to be set on a copy of a slice from a DataFrame\n",
      "\n",
      "See the caveats in the documentation: https://pandas.pydata.org/pandas-docs/stable/user_guide/indexing.html#returning-a-view-versus-a-copy\n",
      "  GyeonGi.drop(['시군구' , '전기요금(원)' , '평균판매단가(원/kWh)'] , axis = 1 , inplace = True)\n"
     ]
    },
    {
     "data": {
      "text/plain": "        년월    시구 계약구분   고객호수(호)      사용량(kWh)\n4   202107  전라남도  일반용  157,283   344,080,065 \n11  202108  전라남도  일반용  157,607   401,165,441 \n18  202109  전라남도  일반용  157,971   357,165,162 \n25  202110  전라남도  일반용  158,130   311,577,590 \n32  202111  전라남도  일반용  158,702   308,334,695 \n39  202112  전라남도  일반용  159,236   341,272,177 ",
      "text/html": "<div>\n<style scoped>\n    .dataframe tbody tr th:only-of-type {\n        vertical-align: middle;\n    }\n\n    .dataframe tbody tr th {\n        vertical-align: top;\n    }\n\n    .dataframe thead th {\n        text-align: right;\n    }\n</style>\n<table border=\"1\" class=\"dataframe\">\n  <thead>\n    <tr style=\"text-align: right;\">\n      <th></th>\n      <th>년월</th>\n      <th>시구</th>\n      <th>계약구분</th>\n      <th>고객호수(호)</th>\n      <th>사용량(kWh)</th>\n    </tr>\n  </thead>\n  <tbody>\n    <tr>\n      <th>4</th>\n      <td>202107</td>\n      <td>전라남도</td>\n      <td>일반용</td>\n      <td>157,283</td>\n      <td>344,080,065</td>\n    </tr>\n    <tr>\n      <th>11</th>\n      <td>202108</td>\n      <td>전라남도</td>\n      <td>일반용</td>\n      <td>157,607</td>\n      <td>401,165,441</td>\n    </tr>\n    <tr>\n      <th>18</th>\n      <td>202109</td>\n      <td>전라남도</td>\n      <td>일반용</td>\n      <td>157,971</td>\n      <td>357,165,162</td>\n    </tr>\n    <tr>\n      <th>25</th>\n      <td>202110</td>\n      <td>전라남도</td>\n      <td>일반용</td>\n      <td>158,130</td>\n      <td>311,577,590</td>\n    </tr>\n    <tr>\n      <th>32</th>\n      <td>202111</td>\n      <td>전라남도</td>\n      <td>일반용</td>\n      <td>158,702</td>\n      <td>308,334,695</td>\n    </tr>\n    <tr>\n      <th>39</th>\n      <td>202112</td>\n      <td>전라남도</td>\n      <td>일반용</td>\n      <td>159,236</td>\n      <td>341,272,177</td>\n    </tr>\n  </tbody>\n</table>\n</div>"
     },
     "execution_count": 50,
     "metadata": {},
     "output_type": "execute_result"
    }
   ],
   "source": [
    "GyeonGi  = df_2.loc[(df_2['계약구분'] == '일반용')]\n",
    "#SEOUL = df_3.loc[(df_3['계약구분'] =='일반용')]\n",
    "GyeonGi.drop(['시군구' , '전기요금(원)' , '평균판매단가(원/kWh)'] , axis = 1 , inplace = True)\n",
    "GyeonGi"
   ],
   "metadata": {
    "collapsed": false,
    "pycharm": {
     "name": "#%%\n"
    }
   }
  },
  {
   "cell_type": "code",
   "execution_count": 51,
   "outputs": [],
   "source": [
    "#SEOUL1.to_csv(\"서울특별시_계약종별_전국_전력사용량_2022.csv\" , mode = 'w' , encoding= 'cp949')"
   ],
   "metadata": {
    "collapsed": false,
    "pycharm": {
     "name": "#%%\n"
    }
   }
  },
  {
   "cell_type": "code",
   "execution_count": 52,
   "outputs": [],
   "source": [
    "#df_2.to_csv(\"서울특별시_계약종별_전국_전력사용량.csv\" , mode = 'w' , encoding= 'cp949')"
   ],
   "metadata": {
    "collapsed": false,
    "pycharm": {
     "name": "#%%\n"
    }
   }
  },
  {
   "cell_type": "code",
   "execution_count": 53,
   "outputs": [
    {
     "data": {
      "text/plain": "          년월    시구  시군구 계약구분 고객호수(호)     사용량(kWh)\n53    202107  전라남도  강진군  일반용  3,275    5,691,927 \n229   202108  전라남도  강진군  일반용  3,279    6,479,977 \n405   202109  전라남도  강진군  일반용  3,295    5,866,168 \n581   202110  전라남도  강진군  일반용  3,288    5,093,110 \n757   202111  전라남도  강진군  일반용  3,300    5,288,005 \n...      ...   ...  ...  ...     ...          ...\n397   202108  전라남도  화순군  일반용  4,820   15,083,934 \n573   202109  전라남도  화순군  일반용  4,830   13,406,848 \n749   202110  전라남도  화순군  일반용  4,848   11,715,565 \n925   202111  전라남도  화순군  일반용  4,891   11,612,986 \n1101  202112  전라남도  화순군  일반용  4,897   12,902,970 \n\n[132 rows x 6 columns]",
      "text/html": "<div>\n<style scoped>\n    .dataframe tbody tr th:only-of-type {\n        vertical-align: middle;\n    }\n\n    .dataframe tbody tr th {\n        vertical-align: top;\n    }\n\n    .dataframe thead th {\n        text-align: right;\n    }\n</style>\n<table border=\"1\" class=\"dataframe\">\n  <thead>\n    <tr style=\"text-align: right;\">\n      <th></th>\n      <th>년월</th>\n      <th>시구</th>\n      <th>시군구</th>\n      <th>계약구분</th>\n      <th>고객호수(호)</th>\n      <th>사용량(kWh)</th>\n    </tr>\n  </thead>\n  <tbody>\n    <tr>\n      <th>53</th>\n      <td>202107</td>\n      <td>전라남도</td>\n      <td>강진군</td>\n      <td>일반용</td>\n      <td>3,275</td>\n      <td>5,691,927</td>\n    </tr>\n    <tr>\n      <th>229</th>\n      <td>202108</td>\n      <td>전라남도</td>\n      <td>강진군</td>\n      <td>일반용</td>\n      <td>3,279</td>\n      <td>6,479,977</td>\n    </tr>\n    <tr>\n      <th>405</th>\n      <td>202109</td>\n      <td>전라남도</td>\n      <td>강진군</td>\n      <td>일반용</td>\n      <td>3,295</td>\n      <td>5,866,168</td>\n    </tr>\n    <tr>\n      <th>581</th>\n      <td>202110</td>\n      <td>전라남도</td>\n      <td>강진군</td>\n      <td>일반용</td>\n      <td>3,288</td>\n      <td>5,093,110</td>\n    </tr>\n    <tr>\n      <th>757</th>\n      <td>202111</td>\n      <td>전라남도</td>\n      <td>강진군</td>\n      <td>일반용</td>\n      <td>3,300</td>\n      <td>5,288,005</td>\n    </tr>\n    <tr>\n      <th>...</th>\n      <td>...</td>\n      <td>...</td>\n      <td>...</td>\n      <td>...</td>\n      <td>...</td>\n      <td>...</td>\n    </tr>\n    <tr>\n      <th>397</th>\n      <td>202108</td>\n      <td>전라남도</td>\n      <td>화순군</td>\n      <td>일반용</td>\n      <td>4,820</td>\n      <td>15,083,934</td>\n    </tr>\n    <tr>\n      <th>573</th>\n      <td>202109</td>\n      <td>전라남도</td>\n      <td>화순군</td>\n      <td>일반용</td>\n      <td>4,830</td>\n      <td>13,406,848</td>\n    </tr>\n    <tr>\n      <th>749</th>\n      <td>202110</td>\n      <td>전라남도</td>\n      <td>화순군</td>\n      <td>일반용</td>\n      <td>4,848</td>\n      <td>11,715,565</td>\n    </tr>\n    <tr>\n      <th>925</th>\n      <td>202111</td>\n      <td>전라남도</td>\n      <td>화순군</td>\n      <td>일반용</td>\n      <td>4,891</td>\n      <td>11,612,986</td>\n    </tr>\n    <tr>\n      <th>1101</th>\n      <td>202112</td>\n      <td>전라남도</td>\n      <td>화순군</td>\n      <td>일반용</td>\n      <td>4,897</td>\n      <td>12,902,970</td>\n    </tr>\n  </tbody>\n</table>\n<p>132 rows × 6 columns</p>\n</div>"
     },
     "execution_count": 53,
     "metadata": {},
     "output_type": "execute_result"
    }
   ],
   "source": [
    "df_3 = df.loc[48:]\n",
    "df_3 = df_3.loc[(df_3['계약구분'] == '일반용')]\n",
    "df_3 = df_3.sort_values(by=['시군구' , '년월'])\n",
    "df_3.drop(['전기요금(원)',   '평균판매단가(원/kWh)'] , axis = 1 , inplace = True)\n",
    "df_3"
   ],
   "metadata": {
    "collapsed": false,
    "pycharm": {
     "name": "#%%\n"
    }
   }
  },
  {
   "cell_type": "code",
   "execution_count": 54,
   "outputs": [
    {
     "data": {
      "text/plain": "'전라남도'"
     },
     "execution_count": 54,
     "metadata": {},
     "output_type": "execute_result"
    }
   ],
   "source": [
    "a = df_3.loc[: , \"시구\"]\n",
    "b = a[:1].tolist()\n",
    "for i in b:\n",
    "    City = i\n",
    "City"
   ],
   "metadata": {
    "collapsed": false,
    "pycharm": {
     "name": "#%%\n"
    }
   }
  },
  {
   "cell_type": "code",
   "execution_count": 55,
   "outputs": [
    {
     "data": {
      "text/plain": "['강진군',\n '고흥군',\n '곡성군',\n '광양시',\n '구례군',\n '나주시',\n '담양군',\n '목포시',\n '무안군',\n '보성군',\n '순천시',\n '신안군',\n '여수시',\n '영광군',\n '영암군',\n '완도군',\n '장성군',\n '장흥군',\n '진도군',\n '함평군',\n '해남군',\n '화순군']"
     },
     "execution_count": 55,
     "metadata": {},
     "output_type": "execute_result"
    }
   ],
   "source": [
    "\n",
    "SIGUNGU = list(set(df_3.loc[: , '시군구'].tolist()))\n",
    "SIGUNGU.sort()\n",
    "SIGUNGU"
   ],
   "metadata": {
    "collapsed": false,
    "pycharm": {
     "name": "#%%\n"
    }
   }
  },
  {
   "cell_type": "code",
   "execution_count": 56,
   "outputs": [
    {
     "data": {
      "text/plain": "          년월    시구  시군구 계약구분  고객호수(호)     사용량(kWh)\n55    202107  전라남도  강진군   합계  41,715   28,690,413 \n231   202108  전라남도  강진군   합계  41,819   33,214,192 \n407   202109  전라남도  강진군   합계  41,912   31,920,083 \n583   202110  전라남도  강진군   합계  42,000   28,573,553 \n759   202111  전라남도  강진군   합계  51,413   36,743,214 \n...      ...   ...  ...  ...      ...          ...\n399   202108  전라남도  화순군   합계  56,223   47,366,787 \n575   202109  전라남도  화순군   합계  56,438   43,565,546 \n751   202110  전라남도  화순군   합계  56,621   39,294,510 \n927   202111  전라남도  화순군   합계  58,674   45,906,640 \n1103  202112  전라남도  화순군   합계  56,899   50,559,725 \n\n[132 rows x 6 columns]",
      "text/html": "<div>\n<style scoped>\n    .dataframe tbody tr th:only-of-type {\n        vertical-align: middle;\n    }\n\n    .dataframe tbody tr th {\n        vertical-align: top;\n    }\n\n    .dataframe thead th {\n        text-align: right;\n    }\n</style>\n<table border=\"1\" class=\"dataframe\">\n  <thead>\n    <tr style=\"text-align: right;\">\n      <th></th>\n      <th>년월</th>\n      <th>시구</th>\n      <th>시군구</th>\n      <th>계약구분</th>\n      <th>고객호수(호)</th>\n      <th>사용량(kWh)</th>\n    </tr>\n  </thead>\n  <tbody>\n    <tr>\n      <th>55</th>\n      <td>202107</td>\n      <td>전라남도</td>\n      <td>강진군</td>\n      <td>합계</td>\n      <td>41,715</td>\n      <td>28,690,413</td>\n    </tr>\n    <tr>\n      <th>231</th>\n      <td>202108</td>\n      <td>전라남도</td>\n      <td>강진군</td>\n      <td>합계</td>\n      <td>41,819</td>\n      <td>33,214,192</td>\n    </tr>\n    <tr>\n      <th>407</th>\n      <td>202109</td>\n      <td>전라남도</td>\n      <td>강진군</td>\n      <td>합계</td>\n      <td>41,912</td>\n      <td>31,920,083</td>\n    </tr>\n    <tr>\n      <th>583</th>\n      <td>202110</td>\n      <td>전라남도</td>\n      <td>강진군</td>\n      <td>합계</td>\n      <td>42,000</td>\n      <td>28,573,553</td>\n    </tr>\n    <tr>\n      <th>759</th>\n      <td>202111</td>\n      <td>전라남도</td>\n      <td>강진군</td>\n      <td>합계</td>\n      <td>51,413</td>\n      <td>36,743,214</td>\n    </tr>\n    <tr>\n      <th>...</th>\n      <td>...</td>\n      <td>...</td>\n      <td>...</td>\n      <td>...</td>\n      <td>...</td>\n      <td>...</td>\n    </tr>\n    <tr>\n      <th>399</th>\n      <td>202108</td>\n      <td>전라남도</td>\n      <td>화순군</td>\n      <td>합계</td>\n      <td>56,223</td>\n      <td>47,366,787</td>\n    </tr>\n    <tr>\n      <th>575</th>\n      <td>202109</td>\n      <td>전라남도</td>\n      <td>화순군</td>\n      <td>합계</td>\n      <td>56,438</td>\n      <td>43,565,546</td>\n    </tr>\n    <tr>\n      <th>751</th>\n      <td>202110</td>\n      <td>전라남도</td>\n      <td>화순군</td>\n      <td>합계</td>\n      <td>56,621</td>\n      <td>39,294,510</td>\n    </tr>\n    <tr>\n      <th>927</th>\n      <td>202111</td>\n      <td>전라남도</td>\n      <td>화순군</td>\n      <td>합계</td>\n      <td>58,674</td>\n      <td>45,906,640</td>\n    </tr>\n    <tr>\n      <th>1103</th>\n      <td>202112</td>\n      <td>전라남도</td>\n      <td>화순군</td>\n      <td>합계</td>\n      <td>56,899</td>\n      <td>50,559,725</td>\n    </tr>\n  </tbody>\n</table>\n<p>132 rows × 6 columns</p>\n</div>"
     },
     "execution_count": 56,
     "metadata": {},
     "output_type": "execute_result"
    }
   ],
   "source": [
    "df_4 = df.loc[48:]\n",
    "df_4 = df_4.loc[(df_4['계약구분'] == '합계')]\n",
    "df_4 = df_4.sort_values(by=['시군구' , '년월'])\n",
    "df_4.drop(['전기요금(원)',   '평균판매단가(원/kWh)'] , axis = 1 , inplace = True)\n",
    "df_4"
   ],
   "metadata": {
    "collapsed": false,
    "pycharm": {
     "name": "#%%\n"
    }
   }
  },
  {
   "cell_type": "code",
   "execution_count": 57,
   "outputs": [
    {
     "name": "stdout",
     "output_type": "stream",
     "text": [
      "[28690413, 33214192, 31920083, 28573553, 36743214, 44989740]\n",
      "[39444129, 48501263, 43765815, 36656031, 45856354, 47616429]\n",
      "[36611515, 37735752, 33981292, 32965416, 35780166, 37607053]\n",
      "[332330730, 364471507, 362702160, 389372409, 335853988, 396081047]\n",
      "[14014936, 17220669, 15099495, 13322115, 14486178, 15990896]\n",
      "[117558433, 130714807, 118502131, 107260661, 113835363, 118500438]\n",
      "[41408478, 46962125, 44059562, 40077387, 45304120, 48947213]\n",
      "[88990488, 106639178, 95308587, 80969014, 80433453, 88566406]\n",
      "[63074490, 72608074, 64240939, 56630678, 65092916, 60193431]\n",
      "[24446187, 30135031, 27674403, 23715379, 27440490, 29650045]\n",
      "[182969942, 209048537, 188854328, 163937809, 179014470, 189673523]\n",
      "[25878170, 33871887, 32880732, 27994974, 28752103, 27709119]\n",
      "[1359969334, 1392254213, 1258552757, 1246304113, 1158935675, 1302202604]\n",
      "[60750749, 68011776, 63903073, 68885289, 66608753, 60140988]\n",
      "[112261872, 109674447, 105292027, 96130671, 76946033, 131202101]\n",
      "[88461162, 101272168, 99438246, 93261744, 95609968, 83563682]\n",
      "[54835977, 56043484, 54819857, 46541452, 56549907, 57891036]\n",
      "[28566498, 33945741, 30717261, 27104046, 34601230, 32519092]\n",
      "[27811495, 32752753, 30060286, 26878291, 31387281, 29942767]\n",
      "[32940882, 38110838, 36163273, 31857168, 39112912, 37786855]\n",
      "[54485348, 62494811, 55262529, 48761992, 65466291, 74911423]\n",
      "[40848408, 47366787, 43565546, 39294510, 45906640, 50559725]\n",
      "전라남도 지역별 합계 :  [204131195, 261840021, 214681194, 2180811841, 90134289, 706371833, 266758885, 540907126, 381840528, 163061535, 1113498609, 177086985, 7718218696, 388300628, 631507151, 561606970, 326681713, 187453868, 178832873, 215971928, 361382394, 267541616]\n",
      "전라남도 고객호수 평균:  [7250, 14645, 6414, 13879, 5524, 15620, 8715, 16615, 11947, 9157, 25474, 9082, 27597, 9682, 10244, 8669, 7223, 7910, 7111, 7053, 14520, 9466]\n"
     ]
    }
   ],
   "source": [
    "sum2 , sum3 =[] , []\n",
    "for k in SIGUNGU:\n",
    "    GyeonGiHap = pd.DataFrame([] , columns = a)\n",
    "    HOSU = pd.DataFrame([], columns = a)\n",
    "    GyeonGiHap['사용량']= df_4['사용량(kWh)'].loc[(df_4['시군구'] == '{}'.format(k))]\n",
    "    HOSU['고객호수']= df_4['고객호수(호)'].loc[(df_4['시군구'] == '{}'.format(k))]\n",
    "    #경기합 데이터프레임의 사용량 열에 기군구가 가평군인 사용량 데이터만 뽑아내기\n",
    "    # GyeonGiHap = GyeonGiHap['사용량']\n",
    "\n",
    "    b = GyeonGiHap['사용량'].tolist()\n",
    "    c = HOSU['고객호수'].tolist()\n",
    "\n",
    "\n",
    "    #각지역별 사용량 리스트화\n",
    "    int_list  , int_list2=[] , []\n",
    "    for i in b:\n",
    "        i = re.sub(\",\" , \"\" , i)\n",
    "        #콤마 없애기\n",
    "        int_list.append(int(i))\n",
    "        #int_list에 각지역별 사용량 int로 저장\n",
    "    print(int_list)\n",
    "    sum=0\n",
    "    for i in c:\n",
    "        i = re.sub(\",\" , \"\" , i)\n",
    "        int_list2.append(int(i))\n",
    "\n",
    "    for j in int_list:\n",
    "\n",
    "        sum+= j\n",
    "    sum2.append(sum)\n",
    "    sum = 0\n",
    "    for j in int_list2: #고객호수 추출하여 더하기\n",
    "\n",
    "        sum+= j\n",
    "    sum3.append(sum//36) #6개월 치로 나눠야하나?!\n",
    "\n",
    "\n",
    "\n",
    "\n",
    "print(\"{} 지역별 합계 : \".format(City) , sum2)\n",
    "print(\"{} 고객호수 평균: \".format(City) , sum3)"
   ],
   "metadata": {
    "collapsed": false,
    "pycharm": {
     "name": "#%%\n"
    }
   }
  },
  {
   "cell_type": "markdown",
   "source": [
    "### 2. 날짜 체크!!!!!!!!!!!!!!!!!!!!!!!!!!!!!!!!!!!!!!!!!!!!!!"
   ],
   "metadata": {
    "collapsed": false,
    "pycharm": {
     "name": "#%% md\n"
    }
   }
  },
  {
   "cell_type": "code",
   "execution_count": 58,
   "outputs": [
    {
     "name": "stderr",
     "output_type": "stream",
     "text": [
      "C:\\Users\\user\\AppData\\Local\\Temp\\ipykernel_25412\\895775541.py:4: FutureWarning: The frame.append method is deprecated and will be removed from pandas in a future version. Use pandas.concat instead.\n",
      "  Hap = Hap.append({'년월' :'202107-202112'  , '시구' : '{}'.format(City) , '시군구' : '{}'.format(SIGUNGU[i]) , '계약구분' : '합계' , '고객호수(호)' : sum3[i] ,  '사용량(kWh)' : sum2[i]} , ignore_index=True) #년월 파일마다 수정하기\n",
      "C:\\Users\\user\\AppData\\Local\\Temp\\ipykernel_25412\\895775541.py:4: FutureWarning: The frame.append method is deprecated and will be removed from pandas in a future version. Use pandas.concat instead.\n",
      "  Hap = Hap.append({'년월' :'202107-202112'  , '시구' : '{}'.format(City) , '시군구' : '{}'.format(SIGUNGU[i]) , '계약구분' : '합계' , '고객호수(호)' : sum3[i] ,  '사용량(kWh)' : sum2[i]} , ignore_index=True) #년월 파일마다 수정하기\n",
      "C:\\Users\\user\\AppData\\Local\\Temp\\ipykernel_25412\\895775541.py:4: FutureWarning: The frame.append method is deprecated and will be removed from pandas in a future version. Use pandas.concat instead.\n",
      "  Hap = Hap.append({'년월' :'202107-202112'  , '시구' : '{}'.format(City) , '시군구' : '{}'.format(SIGUNGU[i]) , '계약구분' : '합계' , '고객호수(호)' : sum3[i] ,  '사용량(kWh)' : sum2[i]} , ignore_index=True) #년월 파일마다 수정하기\n",
      "C:\\Users\\user\\AppData\\Local\\Temp\\ipykernel_25412\\895775541.py:4: FutureWarning: The frame.append method is deprecated and will be removed from pandas in a future version. Use pandas.concat instead.\n",
      "  Hap = Hap.append({'년월' :'202107-202112'  , '시구' : '{}'.format(City) , '시군구' : '{}'.format(SIGUNGU[i]) , '계약구분' : '합계' , '고객호수(호)' : sum3[i] ,  '사용량(kWh)' : sum2[i]} , ignore_index=True) #년월 파일마다 수정하기\n",
      "C:\\Users\\user\\AppData\\Local\\Temp\\ipykernel_25412\\895775541.py:4: FutureWarning: The frame.append method is deprecated and will be removed from pandas in a future version. Use pandas.concat instead.\n",
      "  Hap = Hap.append({'년월' :'202107-202112'  , '시구' : '{}'.format(City) , '시군구' : '{}'.format(SIGUNGU[i]) , '계약구분' : '합계' , '고객호수(호)' : sum3[i] ,  '사용량(kWh)' : sum2[i]} , ignore_index=True) #년월 파일마다 수정하기\n",
      "C:\\Users\\user\\AppData\\Local\\Temp\\ipykernel_25412\\895775541.py:4: FutureWarning: The frame.append method is deprecated and will be removed from pandas in a future version. Use pandas.concat instead.\n",
      "  Hap = Hap.append({'년월' :'202107-202112'  , '시구' : '{}'.format(City) , '시군구' : '{}'.format(SIGUNGU[i]) , '계약구분' : '합계' , '고객호수(호)' : sum3[i] ,  '사용량(kWh)' : sum2[i]} , ignore_index=True) #년월 파일마다 수정하기\n",
      "C:\\Users\\user\\AppData\\Local\\Temp\\ipykernel_25412\\895775541.py:4: FutureWarning: The frame.append method is deprecated and will be removed from pandas in a future version. Use pandas.concat instead.\n",
      "  Hap = Hap.append({'년월' :'202107-202112'  , '시구' : '{}'.format(City) , '시군구' : '{}'.format(SIGUNGU[i]) , '계약구분' : '합계' , '고객호수(호)' : sum3[i] ,  '사용량(kWh)' : sum2[i]} , ignore_index=True) #년월 파일마다 수정하기\n",
      "C:\\Users\\user\\AppData\\Local\\Temp\\ipykernel_25412\\895775541.py:4: FutureWarning: The frame.append method is deprecated and will be removed from pandas in a future version. Use pandas.concat instead.\n",
      "  Hap = Hap.append({'년월' :'202107-202112'  , '시구' : '{}'.format(City) , '시군구' : '{}'.format(SIGUNGU[i]) , '계약구분' : '합계' , '고객호수(호)' : sum3[i] ,  '사용량(kWh)' : sum2[i]} , ignore_index=True) #년월 파일마다 수정하기\n",
      "C:\\Users\\user\\AppData\\Local\\Temp\\ipykernel_25412\\895775541.py:4: FutureWarning: The frame.append method is deprecated and will be removed from pandas in a future version. Use pandas.concat instead.\n",
      "  Hap = Hap.append({'년월' :'202107-202112'  , '시구' : '{}'.format(City) , '시군구' : '{}'.format(SIGUNGU[i]) , '계약구분' : '합계' , '고객호수(호)' : sum3[i] ,  '사용량(kWh)' : sum2[i]} , ignore_index=True) #년월 파일마다 수정하기\n",
      "C:\\Users\\user\\AppData\\Local\\Temp\\ipykernel_25412\\895775541.py:4: FutureWarning: The frame.append method is deprecated and will be removed from pandas in a future version. Use pandas.concat instead.\n",
      "  Hap = Hap.append({'년월' :'202107-202112'  , '시구' : '{}'.format(City) , '시군구' : '{}'.format(SIGUNGU[i]) , '계약구분' : '합계' , '고객호수(호)' : sum3[i] ,  '사용량(kWh)' : sum2[i]} , ignore_index=True) #년월 파일마다 수정하기\n",
      "C:\\Users\\user\\AppData\\Local\\Temp\\ipykernel_25412\\895775541.py:4: FutureWarning: The frame.append method is deprecated and will be removed from pandas in a future version. Use pandas.concat instead.\n",
      "  Hap = Hap.append({'년월' :'202107-202112'  , '시구' : '{}'.format(City) , '시군구' : '{}'.format(SIGUNGU[i]) , '계약구분' : '합계' , '고객호수(호)' : sum3[i] ,  '사용량(kWh)' : sum2[i]} , ignore_index=True) #년월 파일마다 수정하기\n",
      "C:\\Users\\user\\AppData\\Local\\Temp\\ipykernel_25412\\895775541.py:4: FutureWarning: The frame.append method is deprecated and will be removed from pandas in a future version. Use pandas.concat instead.\n",
      "  Hap = Hap.append({'년월' :'202107-202112'  , '시구' : '{}'.format(City) , '시군구' : '{}'.format(SIGUNGU[i]) , '계약구분' : '합계' , '고객호수(호)' : sum3[i] ,  '사용량(kWh)' : sum2[i]} , ignore_index=True) #년월 파일마다 수정하기\n",
      "C:\\Users\\user\\AppData\\Local\\Temp\\ipykernel_25412\\895775541.py:4: FutureWarning: The frame.append method is deprecated and will be removed from pandas in a future version. Use pandas.concat instead.\n",
      "  Hap = Hap.append({'년월' :'202107-202112'  , '시구' : '{}'.format(City) , '시군구' : '{}'.format(SIGUNGU[i]) , '계약구분' : '합계' , '고객호수(호)' : sum3[i] ,  '사용량(kWh)' : sum2[i]} , ignore_index=True) #년월 파일마다 수정하기\n",
      "C:\\Users\\user\\AppData\\Local\\Temp\\ipykernel_25412\\895775541.py:4: FutureWarning: The frame.append method is deprecated and will be removed from pandas in a future version. Use pandas.concat instead.\n",
      "  Hap = Hap.append({'년월' :'202107-202112'  , '시구' : '{}'.format(City) , '시군구' : '{}'.format(SIGUNGU[i]) , '계약구분' : '합계' , '고객호수(호)' : sum3[i] ,  '사용량(kWh)' : sum2[i]} , ignore_index=True) #년월 파일마다 수정하기\n",
      "C:\\Users\\user\\AppData\\Local\\Temp\\ipykernel_25412\\895775541.py:4: FutureWarning: The frame.append method is deprecated and will be removed from pandas in a future version. Use pandas.concat instead.\n",
      "  Hap = Hap.append({'년월' :'202107-202112'  , '시구' : '{}'.format(City) , '시군구' : '{}'.format(SIGUNGU[i]) , '계약구분' : '합계' , '고객호수(호)' : sum3[i] ,  '사용량(kWh)' : sum2[i]} , ignore_index=True) #년월 파일마다 수정하기\n",
      "C:\\Users\\user\\AppData\\Local\\Temp\\ipykernel_25412\\895775541.py:4: FutureWarning: The frame.append method is deprecated and will be removed from pandas in a future version. Use pandas.concat instead.\n",
      "  Hap = Hap.append({'년월' :'202107-202112'  , '시구' : '{}'.format(City) , '시군구' : '{}'.format(SIGUNGU[i]) , '계약구분' : '합계' , '고객호수(호)' : sum3[i] ,  '사용량(kWh)' : sum2[i]} , ignore_index=True) #년월 파일마다 수정하기\n",
      "C:\\Users\\user\\AppData\\Local\\Temp\\ipykernel_25412\\895775541.py:4: FutureWarning: The frame.append method is deprecated and will be removed from pandas in a future version. Use pandas.concat instead.\n",
      "  Hap = Hap.append({'년월' :'202107-202112'  , '시구' : '{}'.format(City) , '시군구' : '{}'.format(SIGUNGU[i]) , '계약구분' : '합계' , '고객호수(호)' : sum3[i] ,  '사용량(kWh)' : sum2[i]} , ignore_index=True) #년월 파일마다 수정하기\n",
      "C:\\Users\\user\\AppData\\Local\\Temp\\ipykernel_25412\\895775541.py:4: FutureWarning: The frame.append method is deprecated and will be removed from pandas in a future version. Use pandas.concat instead.\n",
      "  Hap = Hap.append({'년월' :'202107-202112'  , '시구' : '{}'.format(City) , '시군구' : '{}'.format(SIGUNGU[i]) , '계약구분' : '합계' , '고객호수(호)' : sum3[i] ,  '사용량(kWh)' : sum2[i]} , ignore_index=True) #년월 파일마다 수정하기\n",
      "C:\\Users\\user\\AppData\\Local\\Temp\\ipykernel_25412\\895775541.py:4: FutureWarning: The frame.append method is deprecated and will be removed from pandas in a future version. Use pandas.concat instead.\n",
      "  Hap = Hap.append({'년월' :'202107-202112'  , '시구' : '{}'.format(City) , '시군구' : '{}'.format(SIGUNGU[i]) , '계약구분' : '합계' , '고객호수(호)' : sum3[i] ,  '사용량(kWh)' : sum2[i]} , ignore_index=True) #년월 파일마다 수정하기\n",
      "C:\\Users\\user\\AppData\\Local\\Temp\\ipykernel_25412\\895775541.py:4: FutureWarning: The frame.append method is deprecated and will be removed from pandas in a future version. Use pandas.concat instead.\n",
      "  Hap = Hap.append({'년월' :'202107-202112'  , '시구' : '{}'.format(City) , '시군구' : '{}'.format(SIGUNGU[i]) , '계약구분' : '합계' , '고객호수(호)' : sum3[i] ,  '사용량(kWh)' : sum2[i]} , ignore_index=True) #년월 파일마다 수정하기\n",
      "C:\\Users\\user\\AppData\\Local\\Temp\\ipykernel_25412\\895775541.py:4: FutureWarning: The frame.append method is deprecated and will be removed from pandas in a future version. Use pandas.concat instead.\n",
      "  Hap = Hap.append({'년월' :'202107-202112'  , '시구' : '{}'.format(City) , '시군구' : '{}'.format(SIGUNGU[i]) , '계약구분' : '합계' , '고객호수(호)' : sum3[i] ,  '사용량(kWh)' : sum2[i]} , ignore_index=True) #년월 파일마다 수정하기\n",
      "C:\\Users\\user\\AppData\\Local\\Temp\\ipykernel_25412\\895775541.py:4: FutureWarning: The frame.append method is deprecated and will be removed from pandas in a future version. Use pandas.concat instead.\n",
      "  Hap = Hap.append({'년월' :'202107-202112'  , '시구' : '{}'.format(City) , '시군구' : '{}'.format(SIGUNGU[i]) , '계약구분' : '합계' , '고객호수(호)' : sum3[i] ,  '사용량(kWh)' : sum2[i]} , ignore_index=True) #년월 파일마다 수정하기\n"
     ]
    },
    {
     "data": {
      "text/plain": "                년월    시구  시군구 계약구분  고객호수(호)     사용량(kWh)\n0           202107  전라남도  강진군   합계  41,715   28,690,413 \n1           202108  전라남도  강진군   합계  41,819   33,214,192 \n2           202109  전라남도  강진군   합계  41,912   31,920,083 \n3           202110  전라남도  강진군   합계  42,000   28,573,553 \n4           202111  전라남도  강진군   합계  51,413   36,743,214 \n..             ...   ...  ...  ...      ...          ...\n149  202107-202112  전라남도  장흥군   합계     7910    187453868\n150  202107-202112  전라남도  진도군   합계     7111    178832873\n151  202107-202112  전라남도  함평군   합계     7053    215971928\n152  202107-202112  전라남도  해남군   합계    14520    361382394\n153  202107-202112  전라남도  화순군   합계     9466    267541616\n\n[154 rows x 6 columns]",
      "text/html": "<div>\n<style scoped>\n    .dataframe tbody tr th:only-of-type {\n        vertical-align: middle;\n    }\n\n    .dataframe tbody tr th {\n        vertical-align: top;\n    }\n\n    .dataframe thead th {\n        text-align: right;\n    }\n</style>\n<table border=\"1\" class=\"dataframe\">\n  <thead>\n    <tr style=\"text-align: right;\">\n      <th></th>\n      <th>년월</th>\n      <th>시구</th>\n      <th>시군구</th>\n      <th>계약구분</th>\n      <th>고객호수(호)</th>\n      <th>사용량(kWh)</th>\n    </tr>\n  </thead>\n  <tbody>\n    <tr>\n      <th>0</th>\n      <td>202107</td>\n      <td>전라남도</td>\n      <td>강진군</td>\n      <td>합계</td>\n      <td>41,715</td>\n      <td>28,690,413</td>\n    </tr>\n    <tr>\n      <th>1</th>\n      <td>202108</td>\n      <td>전라남도</td>\n      <td>강진군</td>\n      <td>합계</td>\n      <td>41,819</td>\n      <td>33,214,192</td>\n    </tr>\n    <tr>\n      <th>2</th>\n      <td>202109</td>\n      <td>전라남도</td>\n      <td>강진군</td>\n      <td>합계</td>\n      <td>41,912</td>\n      <td>31,920,083</td>\n    </tr>\n    <tr>\n      <th>3</th>\n      <td>202110</td>\n      <td>전라남도</td>\n      <td>강진군</td>\n      <td>합계</td>\n      <td>42,000</td>\n      <td>28,573,553</td>\n    </tr>\n    <tr>\n      <th>4</th>\n      <td>202111</td>\n      <td>전라남도</td>\n      <td>강진군</td>\n      <td>합계</td>\n      <td>51,413</td>\n      <td>36,743,214</td>\n    </tr>\n    <tr>\n      <th>...</th>\n      <td>...</td>\n      <td>...</td>\n      <td>...</td>\n      <td>...</td>\n      <td>...</td>\n      <td>...</td>\n    </tr>\n    <tr>\n      <th>149</th>\n      <td>202107-202112</td>\n      <td>전라남도</td>\n      <td>장흥군</td>\n      <td>합계</td>\n      <td>7910</td>\n      <td>187453868</td>\n    </tr>\n    <tr>\n      <th>150</th>\n      <td>202107-202112</td>\n      <td>전라남도</td>\n      <td>진도군</td>\n      <td>합계</td>\n      <td>7111</td>\n      <td>178832873</td>\n    </tr>\n    <tr>\n      <th>151</th>\n      <td>202107-202112</td>\n      <td>전라남도</td>\n      <td>함평군</td>\n      <td>합계</td>\n      <td>7053</td>\n      <td>215971928</td>\n    </tr>\n    <tr>\n      <th>152</th>\n      <td>202107-202112</td>\n      <td>전라남도</td>\n      <td>해남군</td>\n      <td>합계</td>\n      <td>14520</td>\n      <td>361382394</td>\n    </tr>\n    <tr>\n      <th>153</th>\n      <td>202107-202112</td>\n      <td>전라남도</td>\n      <td>화순군</td>\n      <td>합계</td>\n      <td>9466</td>\n      <td>267541616</td>\n    </tr>\n  </tbody>\n</table>\n<p>154 rows × 6 columns</p>\n</div>"
     },
     "execution_count": 58,
     "metadata": {},
     "output_type": "execute_result"
    }
   ],
   "source": [
    "Hap = df_4.copy()\n",
    "Hap.reset_index(drop=True , inplace = True)\n",
    "for i in range(len(SIGUNGU)):\n",
    "    Hap = Hap.append({'년월' :'202107-202112'  , '시구' : '{}'.format(City) , '시군구' : '{}'.format(SIGUNGU[i]) , '계약구분' : '합계' , '고객호수(호)' : sum3[i] ,  '사용량(kWh)' : sum2[i]} , ignore_index=True) #년월 파일마다 수정하기\n",
    "Hap"
   ],
   "metadata": {
    "collapsed": false,
    "pycharm": {
     "name": "#%%\n"
    }
   }
  },
  {
   "cell_type": "markdown",
   "source": [
    "### 3. 날짜 변경!!!!!!!!!!!!!!!!!!!!!!!!!!!!!!!"
   ],
   "metadata": {
    "collapsed": false,
    "pycharm": {
     "name": "#%% md\n"
    }
   }
  },
  {
   "cell_type": "code",
   "execution_count": 59,
   "outputs": [
    {
     "data": {
      "text/plain": "                년월    시구  시군구 계약구분 고객호수(호)    사용량(kWh)\n132  202107-202112  전라남도  강진군   합계    7250   204131195\n133  202107-202112  전라남도  고흥군   합계   14645   261840021\n134  202107-202112  전라남도  곡성군   합계    6414   214681194\n135  202107-202112  전라남도  광양시   합계   13879  2180811841\n136  202107-202112  전라남도  구례군   합계    5524    90134289\n137  202107-202112  전라남도  나주시   합계   15620   706371833\n138  202107-202112  전라남도  담양군   합계    8715   266758885\n139  202107-202112  전라남도  목포시   합계   16615   540907126\n140  202107-202112  전라남도  무안군   합계   11947   381840528\n141  202107-202112  전라남도  보성군   합계    9157   163061535\n142  202107-202112  전라남도  순천시   합계   25474  1113498609\n143  202107-202112  전라남도  신안군   합계    9082   177086985\n144  202107-202112  전라남도  여수시   합계   27597  7718218696\n145  202107-202112  전라남도  영광군   합계    9682   388300628\n146  202107-202112  전라남도  영암군   합계   10244   631507151\n147  202107-202112  전라남도  완도군   합계    8669   561606970\n148  202107-202112  전라남도  장성군   합계    7223   326681713\n149  202107-202112  전라남도  장흥군   합계    7910   187453868\n150  202107-202112  전라남도  진도군   합계    7111   178832873\n151  202107-202112  전라남도  함평군   합계    7053   215971928\n152  202107-202112  전라남도  해남군   합계   14520   361382394\n153  202107-202112  전라남도  화순군   합계    9466   267541616",
      "text/html": "<div>\n<style scoped>\n    .dataframe tbody tr th:only-of-type {\n        vertical-align: middle;\n    }\n\n    .dataframe tbody tr th {\n        vertical-align: top;\n    }\n\n    .dataframe thead th {\n        text-align: right;\n    }\n</style>\n<table border=\"1\" class=\"dataframe\">\n  <thead>\n    <tr style=\"text-align: right;\">\n      <th></th>\n      <th>년월</th>\n      <th>시구</th>\n      <th>시군구</th>\n      <th>계약구분</th>\n      <th>고객호수(호)</th>\n      <th>사용량(kWh)</th>\n    </tr>\n  </thead>\n  <tbody>\n    <tr>\n      <th>132</th>\n      <td>202107-202112</td>\n      <td>전라남도</td>\n      <td>강진군</td>\n      <td>합계</td>\n      <td>7250</td>\n      <td>204131195</td>\n    </tr>\n    <tr>\n      <th>133</th>\n      <td>202107-202112</td>\n      <td>전라남도</td>\n      <td>고흥군</td>\n      <td>합계</td>\n      <td>14645</td>\n      <td>261840021</td>\n    </tr>\n    <tr>\n      <th>134</th>\n      <td>202107-202112</td>\n      <td>전라남도</td>\n      <td>곡성군</td>\n      <td>합계</td>\n      <td>6414</td>\n      <td>214681194</td>\n    </tr>\n    <tr>\n      <th>135</th>\n      <td>202107-202112</td>\n      <td>전라남도</td>\n      <td>광양시</td>\n      <td>합계</td>\n      <td>13879</td>\n      <td>2180811841</td>\n    </tr>\n    <tr>\n      <th>136</th>\n      <td>202107-202112</td>\n      <td>전라남도</td>\n      <td>구례군</td>\n      <td>합계</td>\n      <td>5524</td>\n      <td>90134289</td>\n    </tr>\n    <tr>\n      <th>137</th>\n      <td>202107-202112</td>\n      <td>전라남도</td>\n      <td>나주시</td>\n      <td>합계</td>\n      <td>15620</td>\n      <td>706371833</td>\n    </tr>\n    <tr>\n      <th>138</th>\n      <td>202107-202112</td>\n      <td>전라남도</td>\n      <td>담양군</td>\n      <td>합계</td>\n      <td>8715</td>\n      <td>266758885</td>\n    </tr>\n    <tr>\n      <th>139</th>\n      <td>202107-202112</td>\n      <td>전라남도</td>\n      <td>목포시</td>\n      <td>합계</td>\n      <td>16615</td>\n      <td>540907126</td>\n    </tr>\n    <tr>\n      <th>140</th>\n      <td>202107-202112</td>\n      <td>전라남도</td>\n      <td>무안군</td>\n      <td>합계</td>\n      <td>11947</td>\n      <td>381840528</td>\n    </tr>\n    <tr>\n      <th>141</th>\n      <td>202107-202112</td>\n      <td>전라남도</td>\n      <td>보성군</td>\n      <td>합계</td>\n      <td>9157</td>\n      <td>163061535</td>\n    </tr>\n    <tr>\n      <th>142</th>\n      <td>202107-202112</td>\n      <td>전라남도</td>\n      <td>순천시</td>\n      <td>합계</td>\n      <td>25474</td>\n      <td>1113498609</td>\n    </tr>\n    <tr>\n      <th>143</th>\n      <td>202107-202112</td>\n      <td>전라남도</td>\n      <td>신안군</td>\n      <td>합계</td>\n      <td>9082</td>\n      <td>177086985</td>\n    </tr>\n    <tr>\n      <th>144</th>\n      <td>202107-202112</td>\n      <td>전라남도</td>\n      <td>여수시</td>\n      <td>합계</td>\n      <td>27597</td>\n      <td>7718218696</td>\n    </tr>\n    <tr>\n      <th>145</th>\n      <td>202107-202112</td>\n      <td>전라남도</td>\n      <td>영광군</td>\n      <td>합계</td>\n      <td>9682</td>\n      <td>388300628</td>\n    </tr>\n    <tr>\n      <th>146</th>\n      <td>202107-202112</td>\n      <td>전라남도</td>\n      <td>영암군</td>\n      <td>합계</td>\n      <td>10244</td>\n      <td>631507151</td>\n    </tr>\n    <tr>\n      <th>147</th>\n      <td>202107-202112</td>\n      <td>전라남도</td>\n      <td>완도군</td>\n      <td>합계</td>\n      <td>8669</td>\n      <td>561606970</td>\n    </tr>\n    <tr>\n      <th>148</th>\n      <td>202107-202112</td>\n      <td>전라남도</td>\n      <td>장성군</td>\n      <td>합계</td>\n      <td>7223</td>\n      <td>326681713</td>\n    </tr>\n    <tr>\n      <th>149</th>\n      <td>202107-202112</td>\n      <td>전라남도</td>\n      <td>장흥군</td>\n      <td>합계</td>\n      <td>7910</td>\n      <td>187453868</td>\n    </tr>\n    <tr>\n      <th>150</th>\n      <td>202107-202112</td>\n      <td>전라남도</td>\n      <td>진도군</td>\n      <td>합계</td>\n      <td>7111</td>\n      <td>178832873</td>\n    </tr>\n    <tr>\n      <th>151</th>\n      <td>202107-202112</td>\n      <td>전라남도</td>\n      <td>함평군</td>\n      <td>합계</td>\n      <td>7053</td>\n      <td>215971928</td>\n    </tr>\n    <tr>\n      <th>152</th>\n      <td>202107-202112</td>\n      <td>전라남도</td>\n      <td>해남군</td>\n      <td>합계</td>\n      <td>14520</td>\n      <td>361382394</td>\n    </tr>\n    <tr>\n      <th>153</th>\n      <td>202107-202112</td>\n      <td>전라남도</td>\n      <td>화순군</td>\n      <td>합계</td>\n      <td>9466</td>\n      <td>267541616</td>\n    </tr>\n  </tbody>\n</table>\n</div>"
     },
     "execution_count": 59,
     "metadata": {},
     "output_type": "execute_result"
    }
   ],
   "source": [
    "Hap = Hap.loc[Hap['년월'] == '202107-202112']\n",
    "Hap"
   ],
   "metadata": {
    "collapsed": false,
    "pycharm": {
     "name": "#%%\n"
    }
   }
  },
  {
   "cell_type": "code",
   "execution_count": 60,
   "outputs": [],
   "source": [
    "# SIGUNGU = SIGUNGU[:1]\n",
    "# SIGUNGU\n",
    "#for i in SIGUNGU:\n",
    "#print('{}'.format(i))\n",
    "# df_3 = df_3.loc[(df_3['시군구'] == '가평군')]\n",
    "#\n",
    "# df_3"
   ],
   "metadata": {
    "collapsed": false,
    "pycharm": {
     "name": "#%%\n"
    }
   }
  },
  {
   "cell_type": "code",
   "execution_count": 61,
   "outputs": [
    {
     "data": {
      "text/plain": "['년월', '시구', '시군구', '계약구분', '고객호수(호)', '사용량(kWh)']"
     },
     "execution_count": 61,
     "metadata": {},
     "output_type": "execute_result"
    }
   ],
   "source": [
    "a = (df_3.columns).tolist()\n",
    "\n",
    "a"
   ],
   "metadata": {
    "collapsed": false,
    "pycharm": {
     "name": "#%%\n"
    }
   }
  },
  {
   "cell_type": "code",
   "execution_count": 62,
   "outputs": [
    {
     "data": {
      "text/plain": "          년월    시구  시군구 계약구분 고객호수(호)     사용량(kWh)\n53    202107  전라남도  강진군  일반용  3,275    5,691,927 \n229   202108  전라남도  강진군  일반용  3,279    6,479,977 \n405   202109  전라남도  강진군  일반용  3,295    5,866,168 \n581   202110  전라남도  강진군  일반용  3,288    5,093,110 \n757   202111  전라남도  강진군  일반용  3,300    5,288,005 \n...      ...   ...  ...  ...     ...          ...\n397   202108  전라남도  화순군  일반용  4,820   15,083,934 \n573   202109  전라남도  화순군  일반용  4,830   13,406,848 \n749   202110  전라남도  화순군  일반용  4,848   11,715,565 \n925   202111  전라남도  화순군  일반용  4,891   11,612,986 \n1101  202112  전라남도  화순군  일반용  4,897   12,902,970 \n\n[132 rows x 6 columns]",
      "text/html": "<div>\n<style scoped>\n    .dataframe tbody tr th:only-of-type {\n        vertical-align: middle;\n    }\n\n    .dataframe tbody tr th {\n        vertical-align: top;\n    }\n\n    .dataframe thead th {\n        text-align: right;\n    }\n</style>\n<table border=\"1\" class=\"dataframe\">\n  <thead>\n    <tr style=\"text-align: right;\">\n      <th></th>\n      <th>년월</th>\n      <th>시구</th>\n      <th>시군구</th>\n      <th>계약구분</th>\n      <th>고객호수(호)</th>\n      <th>사용량(kWh)</th>\n    </tr>\n  </thead>\n  <tbody>\n    <tr>\n      <th>53</th>\n      <td>202107</td>\n      <td>전라남도</td>\n      <td>강진군</td>\n      <td>일반용</td>\n      <td>3,275</td>\n      <td>5,691,927</td>\n    </tr>\n    <tr>\n      <th>229</th>\n      <td>202108</td>\n      <td>전라남도</td>\n      <td>강진군</td>\n      <td>일반용</td>\n      <td>3,279</td>\n      <td>6,479,977</td>\n    </tr>\n    <tr>\n      <th>405</th>\n      <td>202109</td>\n      <td>전라남도</td>\n      <td>강진군</td>\n      <td>일반용</td>\n      <td>3,295</td>\n      <td>5,866,168</td>\n    </tr>\n    <tr>\n      <th>581</th>\n      <td>202110</td>\n      <td>전라남도</td>\n      <td>강진군</td>\n      <td>일반용</td>\n      <td>3,288</td>\n      <td>5,093,110</td>\n    </tr>\n    <tr>\n      <th>757</th>\n      <td>202111</td>\n      <td>전라남도</td>\n      <td>강진군</td>\n      <td>일반용</td>\n      <td>3,300</td>\n      <td>5,288,005</td>\n    </tr>\n    <tr>\n      <th>...</th>\n      <td>...</td>\n      <td>...</td>\n      <td>...</td>\n      <td>...</td>\n      <td>...</td>\n      <td>...</td>\n    </tr>\n    <tr>\n      <th>397</th>\n      <td>202108</td>\n      <td>전라남도</td>\n      <td>화순군</td>\n      <td>일반용</td>\n      <td>4,820</td>\n      <td>15,083,934</td>\n    </tr>\n    <tr>\n      <th>573</th>\n      <td>202109</td>\n      <td>전라남도</td>\n      <td>화순군</td>\n      <td>일반용</td>\n      <td>4,830</td>\n      <td>13,406,848</td>\n    </tr>\n    <tr>\n      <th>749</th>\n      <td>202110</td>\n      <td>전라남도</td>\n      <td>화순군</td>\n      <td>일반용</td>\n      <td>4,848</td>\n      <td>11,715,565</td>\n    </tr>\n    <tr>\n      <th>925</th>\n      <td>202111</td>\n      <td>전라남도</td>\n      <td>화순군</td>\n      <td>일반용</td>\n      <td>4,891</td>\n      <td>11,612,986</td>\n    </tr>\n    <tr>\n      <th>1101</th>\n      <td>202112</td>\n      <td>전라남도</td>\n      <td>화순군</td>\n      <td>일반용</td>\n      <td>4,897</td>\n      <td>12,902,970</td>\n    </tr>\n  </tbody>\n</table>\n<p>132 rows × 6 columns</p>\n</div>"
     },
     "execution_count": 62,
     "metadata": {},
     "output_type": "execute_result"
    }
   ],
   "source": [
    "df_3"
   ],
   "metadata": {
    "collapsed": false,
    "pycharm": {
     "name": "#%%\n"
    }
   }
  },
  {
   "cell_type": "code",
   "execution_count": 63,
   "outputs": [],
   "source": [
    "# GyeonGiHap = pd.DataFrame([] , columns = a)\n",
    "# GyeonGiHap['사용량']= df_3['사용량(kWh)'].loc[(df_3['시군구'] == '{가평군}')]\n",
    "# GyeonGiHap"
   ],
   "metadata": {
    "collapsed": false,
    "pycharm": {
     "name": "#%%\n"
    }
   }
  },
  {
   "cell_type": "code",
   "execution_count": 64,
   "outputs": [
    {
     "name": "stdout",
     "output_type": "stream",
     "text": [
      "[5691927, 6479977, 5866168, 5093110, 5288005, 6112301]\n",
      "[9008516, 10885825, 9838753, 8550278, 8742175, 9599727]\n",
      "[4051747, 4821200, 4276800, 3739704, 4024886, 4559157]\n",
      "[25344671, 29167357, 25538777, 22113042, 21783271, 24551068]\n",
      "[4879268, 5968755, 5161807, 4551608, 4875163, 5617738]\n",
      "[27904608, 30997717, 26835780, 24270641, 23752544, 26865850]\n",
      "[9955065, 11922276, 10645126, 9504079, 9859796, 10895071]\n",
      "[44014830, 52206704, 47829890, 39795852, 37375255, 40323486]\n",
      "[15868745, 18540501, 16403083, 14391457, 14199846, 15796972]\n",
      "[6227164, 7550656, 6768145, 5917823, 6100480, 6901409]\n",
      "[49845488, 57538602, 50459862, 44282815, 42873022, 46941119]\n",
      "[5546196, 6706270, 6335082, 5522499, 5671779, 6128195]\n",
      "[57313199, 67197925, 60095805, 51841229, 50716655, 55181696]\n",
      "[8711114, 10221504, 9155394, 8160859, 8506799, 9534290]\n",
      "[10790188, 12370304, 11276495, 10111924, 10095169, 11191703]\n",
      "[8524192, 10547845, 9588297, 8165313, 7961670, 8602640]\n",
      "[9355091, 10381044, 9085147, 8273628, 8787315, 10213162]\n",
      "[5896742, 6986945, 6090031, 5502863, 5704692, 6431504]\n",
      "[5800295, 6628523, 5764384, 5228265, 5100953, 5671582]\n",
      "[4560827, 5380755, 4809132, 4215721, 4346973, 4844323]\n",
      "[11745904, 13580822, 11934356, 10629315, 10955261, 12406214]\n",
      "[13044288, 15083934, 13406848, 11715565, 11612986, 12902970]\n",
      "전라남도 지역별 일반용 합계 :  [34531488, 56625274, 25473494, 148498186, 31054339, 160627140, 62781413, 261546017, 95200604, 39465677, 291940908, 35910021, 342346509, 54289960, 65835783, 53389957, 56095387, 36612777, 34194002, 28157731, 71251872, 77766591]\n",
      "전라남도 고객호수 평균:  [3291, 5904, 2386, 11708, 2700, 8333, 4292, 19635, 6536, 3834, 21485, 3979, 24346, 5032, 4671, 5706, 3810, 3503, 3099, 2526, 6520, 4850]\n"
     ]
    }
   ],
   "source": [
    "sum2 , sum3 =[] , []\n",
    "for k in SIGUNGU:\n",
    "    GyeonGiHap = pd.DataFrame([] , columns = a)\n",
    "    HOSU = pd.DataFrame([], columns = a)\n",
    "    GyeonGiHap['사용량']= df_3['사용량(kWh)'].loc[(df_3['시군구'] == '{}'.format(k))]\n",
    "    HOSU['고객호수']= df_3['고객호수(호)'].loc[(df_3['시군구'] == '{}'.format(k))]\n",
    "    #경기합 데이터프레임의 사용량 열에 기군구가 가평군인 사용량 데이터만 뽑아내기\n",
    "    # GyeonGiHap = GyeonGiHap['사용량']\n",
    "\n",
    "    b = GyeonGiHap['사용량'].tolist()\n",
    "    c = HOSU['고객호수'].tolist()\n",
    "\n",
    "\n",
    "    #각지역별 사용량 리스트화\n",
    "    int_list  , int_list2=[] , []\n",
    "    for i in b:\n",
    "        i = re.sub(\",\" , \"\" , i)\n",
    "        #콤마 없애기\n",
    "        int_list.append(int(i))\n",
    "        #int_list에 각지역별 사용량 int로 저장\n",
    "    print(int_list)\n",
    "    sum=0\n",
    "    for i in c:\n",
    "        i = re.sub(\",\" , \"\" , i)\n",
    "        int_list2.append(int(i))\n",
    "\n",
    "    for j in int_list:\n",
    "\n",
    "        sum+= j\n",
    "    sum2.append(sum)\n",
    "    sum = 0\n",
    "    for j in int_list2: #고객호수 추출하여 더하기\n",
    "\n",
    "        sum+= j\n",
    "    sum3.append(sum//6) #6개월 치로 나눠야하나?!\n",
    "\n",
    "\n",
    "\n",
    "\n",
    "print(\"{} 지역별 일반용 합계 : \".format(City) , sum2)\n",
    "print(\"{} 고객호수 평균: \".format(City) , sum3)\n",
    "# GyeonGiHap['합계'] = sum\n",
    "#\n",
    "# GyeonGiHap"
   ],
   "metadata": {
    "collapsed": false,
    "pycharm": {
     "name": "#%%\n"
    }
   }
  },
  {
   "cell_type": "code",
   "execution_count": 65,
   "outputs": [],
   "source": [
    "# df_3 = df_3.loc[(df_3['시군구'] == '가평군')]\n",
    "#\n",
    "# df_3"
   ],
   "metadata": {
    "collapsed": false,
    "pycharm": {
     "name": "#%%\n"
    }
   }
  },
  {
   "cell_type": "code",
   "execution_count": 66,
   "outputs": [],
   "source": [
    "# GyeonGiHap = df_3.copy()\n",
    "# GyeonGiHap.reset_index(drop=True , inplace = True)\n",
    "# GyeonGiHap.append({'년월' : '202107-202112'  , '시구' : '경기도' , '시군구' : '가평군' , '계약구분' : '일반용' , '사용량(kWh)' : sum}, ignore_index=True)"
   ],
   "metadata": {
    "collapsed": false,
    "pycharm": {
     "name": "#%%\n"
    }
   }
  },
  {
   "cell_type": "code",
   "execution_count": 67,
   "outputs": [],
   "source": [
    "# a=[]\n",
    "# for i in SIGUNGU:\n",
    "#     a.append(i)\n",
    "#\n",
    "# print(a)"
   ],
   "metadata": {
    "collapsed": false,
    "pycharm": {
     "name": "#%%\n"
    }
   }
  },
  {
   "cell_type": "markdown",
   "source": [
    "### 4. 년월 체크!!!!!!!!!!!!!!!!!!!!!!!!!!!!!!!!!!!!!!!!!!!!!!!!!!!!!!!!!!!!!!!!!"
   ],
   "metadata": {
    "collapsed": false,
    "pycharm": {
     "name": "#%% md\n"
    }
   }
  },
  {
   "cell_type": "code",
   "execution_count": 68,
   "outputs": [
    {
     "name": "stderr",
     "output_type": "stream",
     "text": [
      "C:\\Users\\user\\AppData\\Local\\Temp\\ipykernel_25412\\2943201010.py:4: FutureWarning: The frame.append method is deprecated and will be removed from pandas in a future version. Use pandas.concat instead.\n",
      "  GyeonGiHap2 = GyeonGiHap2.append({'년월' :'202107-202112'  , '시구' : '{}'.format(City) , '시군구' : '{}'.format(SIGUNGU[i]) , '계약구분' : '일반용' , '고객호수(호)' : sum3[i] ,  '사용량(kWh)' : sum2[i]} , ignore_index=True) #년월 파일마다 수정하기\n",
      "C:\\Users\\user\\AppData\\Local\\Temp\\ipykernel_25412\\2943201010.py:4: FutureWarning: The frame.append method is deprecated and will be removed from pandas in a future version. Use pandas.concat instead.\n",
      "  GyeonGiHap2 = GyeonGiHap2.append({'년월' :'202107-202112'  , '시구' : '{}'.format(City) , '시군구' : '{}'.format(SIGUNGU[i]) , '계약구분' : '일반용' , '고객호수(호)' : sum3[i] ,  '사용량(kWh)' : sum2[i]} , ignore_index=True) #년월 파일마다 수정하기\n",
      "C:\\Users\\user\\AppData\\Local\\Temp\\ipykernel_25412\\2943201010.py:4: FutureWarning: The frame.append method is deprecated and will be removed from pandas in a future version. Use pandas.concat instead.\n",
      "  GyeonGiHap2 = GyeonGiHap2.append({'년월' :'202107-202112'  , '시구' : '{}'.format(City) , '시군구' : '{}'.format(SIGUNGU[i]) , '계약구분' : '일반용' , '고객호수(호)' : sum3[i] ,  '사용량(kWh)' : sum2[i]} , ignore_index=True) #년월 파일마다 수정하기\n",
      "C:\\Users\\user\\AppData\\Local\\Temp\\ipykernel_25412\\2943201010.py:4: FutureWarning: The frame.append method is deprecated and will be removed from pandas in a future version. Use pandas.concat instead.\n",
      "  GyeonGiHap2 = GyeonGiHap2.append({'년월' :'202107-202112'  , '시구' : '{}'.format(City) , '시군구' : '{}'.format(SIGUNGU[i]) , '계약구분' : '일반용' , '고객호수(호)' : sum3[i] ,  '사용량(kWh)' : sum2[i]} , ignore_index=True) #년월 파일마다 수정하기\n",
      "C:\\Users\\user\\AppData\\Local\\Temp\\ipykernel_25412\\2943201010.py:4: FutureWarning: The frame.append method is deprecated and will be removed from pandas in a future version. Use pandas.concat instead.\n",
      "  GyeonGiHap2 = GyeonGiHap2.append({'년월' :'202107-202112'  , '시구' : '{}'.format(City) , '시군구' : '{}'.format(SIGUNGU[i]) , '계약구분' : '일반용' , '고객호수(호)' : sum3[i] ,  '사용량(kWh)' : sum2[i]} , ignore_index=True) #년월 파일마다 수정하기\n",
      "C:\\Users\\user\\AppData\\Local\\Temp\\ipykernel_25412\\2943201010.py:4: FutureWarning: The frame.append method is deprecated and will be removed from pandas in a future version. Use pandas.concat instead.\n",
      "  GyeonGiHap2 = GyeonGiHap2.append({'년월' :'202107-202112'  , '시구' : '{}'.format(City) , '시군구' : '{}'.format(SIGUNGU[i]) , '계약구분' : '일반용' , '고객호수(호)' : sum3[i] ,  '사용량(kWh)' : sum2[i]} , ignore_index=True) #년월 파일마다 수정하기\n",
      "C:\\Users\\user\\AppData\\Local\\Temp\\ipykernel_25412\\2943201010.py:4: FutureWarning: The frame.append method is deprecated and will be removed from pandas in a future version. Use pandas.concat instead.\n",
      "  GyeonGiHap2 = GyeonGiHap2.append({'년월' :'202107-202112'  , '시구' : '{}'.format(City) , '시군구' : '{}'.format(SIGUNGU[i]) , '계약구분' : '일반용' , '고객호수(호)' : sum3[i] ,  '사용량(kWh)' : sum2[i]} , ignore_index=True) #년월 파일마다 수정하기\n",
      "C:\\Users\\user\\AppData\\Local\\Temp\\ipykernel_25412\\2943201010.py:4: FutureWarning: The frame.append method is deprecated and will be removed from pandas in a future version. Use pandas.concat instead.\n",
      "  GyeonGiHap2 = GyeonGiHap2.append({'년월' :'202107-202112'  , '시구' : '{}'.format(City) , '시군구' : '{}'.format(SIGUNGU[i]) , '계약구분' : '일반용' , '고객호수(호)' : sum3[i] ,  '사용량(kWh)' : sum2[i]} , ignore_index=True) #년월 파일마다 수정하기\n",
      "C:\\Users\\user\\AppData\\Local\\Temp\\ipykernel_25412\\2943201010.py:4: FutureWarning: The frame.append method is deprecated and will be removed from pandas in a future version. Use pandas.concat instead.\n",
      "  GyeonGiHap2 = GyeonGiHap2.append({'년월' :'202107-202112'  , '시구' : '{}'.format(City) , '시군구' : '{}'.format(SIGUNGU[i]) , '계약구분' : '일반용' , '고객호수(호)' : sum3[i] ,  '사용량(kWh)' : sum2[i]} , ignore_index=True) #년월 파일마다 수정하기\n",
      "C:\\Users\\user\\AppData\\Local\\Temp\\ipykernel_25412\\2943201010.py:4: FutureWarning: The frame.append method is deprecated and will be removed from pandas in a future version. Use pandas.concat instead.\n",
      "  GyeonGiHap2 = GyeonGiHap2.append({'년월' :'202107-202112'  , '시구' : '{}'.format(City) , '시군구' : '{}'.format(SIGUNGU[i]) , '계약구분' : '일반용' , '고객호수(호)' : sum3[i] ,  '사용량(kWh)' : sum2[i]} , ignore_index=True) #년월 파일마다 수정하기\n",
      "C:\\Users\\user\\AppData\\Local\\Temp\\ipykernel_25412\\2943201010.py:4: FutureWarning: The frame.append method is deprecated and will be removed from pandas in a future version. Use pandas.concat instead.\n",
      "  GyeonGiHap2 = GyeonGiHap2.append({'년월' :'202107-202112'  , '시구' : '{}'.format(City) , '시군구' : '{}'.format(SIGUNGU[i]) , '계약구분' : '일반용' , '고객호수(호)' : sum3[i] ,  '사용량(kWh)' : sum2[i]} , ignore_index=True) #년월 파일마다 수정하기\n",
      "C:\\Users\\user\\AppData\\Local\\Temp\\ipykernel_25412\\2943201010.py:4: FutureWarning: The frame.append method is deprecated and will be removed from pandas in a future version. Use pandas.concat instead.\n",
      "  GyeonGiHap2 = GyeonGiHap2.append({'년월' :'202107-202112'  , '시구' : '{}'.format(City) , '시군구' : '{}'.format(SIGUNGU[i]) , '계약구분' : '일반용' , '고객호수(호)' : sum3[i] ,  '사용량(kWh)' : sum2[i]} , ignore_index=True) #년월 파일마다 수정하기\n",
      "C:\\Users\\user\\AppData\\Local\\Temp\\ipykernel_25412\\2943201010.py:4: FutureWarning: The frame.append method is deprecated and will be removed from pandas in a future version. Use pandas.concat instead.\n",
      "  GyeonGiHap2 = GyeonGiHap2.append({'년월' :'202107-202112'  , '시구' : '{}'.format(City) , '시군구' : '{}'.format(SIGUNGU[i]) , '계약구분' : '일반용' , '고객호수(호)' : sum3[i] ,  '사용량(kWh)' : sum2[i]} , ignore_index=True) #년월 파일마다 수정하기\n",
      "C:\\Users\\user\\AppData\\Local\\Temp\\ipykernel_25412\\2943201010.py:4: FutureWarning: The frame.append method is deprecated and will be removed from pandas in a future version. Use pandas.concat instead.\n",
      "  GyeonGiHap2 = GyeonGiHap2.append({'년월' :'202107-202112'  , '시구' : '{}'.format(City) , '시군구' : '{}'.format(SIGUNGU[i]) , '계약구분' : '일반용' , '고객호수(호)' : sum3[i] ,  '사용량(kWh)' : sum2[i]} , ignore_index=True) #년월 파일마다 수정하기\n",
      "C:\\Users\\user\\AppData\\Local\\Temp\\ipykernel_25412\\2943201010.py:4: FutureWarning: The frame.append method is deprecated and will be removed from pandas in a future version. Use pandas.concat instead.\n",
      "  GyeonGiHap2 = GyeonGiHap2.append({'년월' :'202107-202112'  , '시구' : '{}'.format(City) , '시군구' : '{}'.format(SIGUNGU[i]) , '계약구분' : '일반용' , '고객호수(호)' : sum3[i] ,  '사용량(kWh)' : sum2[i]} , ignore_index=True) #년월 파일마다 수정하기\n",
      "C:\\Users\\user\\AppData\\Local\\Temp\\ipykernel_25412\\2943201010.py:4: FutureWarning: The frame.append method is deprecated and will be removed from pandas in a future version. Use pandas.concat instead.\n",
      "  GyeonGiHap2 = GyeonGiHap2.append({'년월' :'202107-202112'  , '시구' : '{}'.format(City) , '시군구' : '{}'.format(SIGUNGU[i]) , '계약구분' : '일반용' , '고객호수(호)' : sum3[i] ,  '사용량(kWh)' : sum2[i]} , ignore_index=True) #년월 파일마다 수정하기\n",
      "C:\\Users\\user\\AppData\\Local\\Temp\\ipykernel_25412\\2943201010.py:4: FutureWarning: The frame.append method is deprecated and will be removed from pandas in a future version. Use pandas.concat instead.\n",
      "  GyeonGiHap2 = GyeonGiHap2.append({'년월' :'202107-202112'  , '시구' : '{}'.format(City) , '시군구' : '{}'.format(SIGUNGU[i]) , '계약구분' : '일반용' , '고객호수(호)' : sum3[i] ,  '사용량(kWh)' : sum2[i]} , ignore_index=True) #년월 파일마다 수정하기\n",
      "C:\\Users\\user\\AppData\\Local\\Temp\\ipykernel_25412\\2943201010.py:4: FutureWarning: The frame.append method is deprecated and will be removed from pandas in a future version. Use pandas.concat instead.\n",
      "  GyeonGiHap2 = GyeonGiHap2.append({'년월' :'202107-202112'  , '시구' : '{}'.format(City) , '시군구' : '{}'.format(SIGUNGU[i]) , '계약구분' : '일반용' , '고객호수(호)' : sum3[i] ,  '사용량(kWh)' : sum2[i]} , ignore_index=True) #년월 파일마다 수정하기\n",
      "C:\\Users\\user\\AppData\\Local\\Temp\\ipykernel_25412\\2943201010.py:4: FutureWarning: The frame.append method is deprecated and will be removed from pandas in a future version. Use pandas.concat instead.\n",
      "  GyeonGiHap2 = GyeonGiHap2.append({'년월' :'202107-202112'  , '시구' : '{}'.format(City) , '시군구' : '{}'.format(SIGUNGU[i]) , '계약구분' : '일반용' , '고객호수(호)' : sum3[i] ,  '사용량(kWh)' : sum2[i]} , ignore_index=True) #년월 파일마다 수정하기\n",
      "C:\\Users\\user\\AppData\\Local\\Temp\\ipykernel_25412\\2943201010.py:4: FutureWarning: The frame.append method is deprecated and will be removed from pandas in a future version. Use pandas.concat instead.\n",
      "  GyeonGiHap2 = GyeonGiHap2.append({'년월' :'202107-202112'  , '시구' : '{}'.format(City) , '시군구' : '{}'.format(SIGUNGU[i]) , '계약구분' : '일반용' , '고객호수(호)' : sum3[i] ,  '사용량(kWh)' : sum2[i]} , ignore_index=True) #년월 파일마다 수정하기\n",
      "C:\\Users\\user\\AppData\\Local\\Temp\\ipykernel_25412\\2943201010.py:4: FutureWarning: The frame.append method is deprecated and will be removed from pandas in a future version. Use pandas.concat instead.\n",
      "  GyeonGiHap2 = GyeonGiHap2.append({'년월' :'202107-202112'  , '시구' : '{}'.format(City) , '시군구' : '{}'.format(SIGUNGU[i]) , '계약구분' : '일반용' , '고객호수(호)' : sum3[i] ,  '사용량(kWh)' : sum2[i]} , ignore_index=True) #년월 파일마다 수정하기\n",
      "C:\\Users\\user\\AppData\\Local\\Temp\\ipykernel_25412\\2943201010.py:4: FutureWarning: The frame.append method is deprecated and will be removed from pandas in a future version. Use pandas.concat instead.\n",
      "  GyeonGiHap2 = GyeonGiHap2.append({'년월' :'202107-202112'  , '시구' : '{}'.format(City) , '시군구' : '{}'.format(SIGUNGU[i]) , '계약구분' : '일반용' , '고객호수(호)' : sum3[i] ,  '사용량(kWh)' : sum2[i]} , ignore_index=True) #년월 파일마다 수정하기\n"
     ]
    },
    {
     "data": {
      "text/plain": "                년월    시구  시군구 계약구분 고객호수(호)    사용량(kWh)\n0           202107  전라남도  강진군  일반용  3,275   5,691,927 \n1           202108  전라남도  강진군  일반용  3,279   6,479,977 \n2           202109  전라남도  강진군  일반용  3,295   5,866,168 \n3           202110  전라남도  강진군  일반용  3,288   5,093,110 \n4           202111  전라남도  강진군  일반용  3,300   5,288,005 \n..             ...   ...  ...  ...     ...         ...\n149  202107-202112  전라남도  장흥군  일반용    3503    36612777\n150  202107-202112  전라남도  진도군  일반용    3099    34194002\n151  202107-202112  전라남도  함평군  일반용    2526    28157731\n152  202107-202112  전라남도  해남군  일반용    6520    71251872\n153  202107-202112  전라남도  화순군  일반용    4850    77766591\n\n[154 rows x 6 columns]",
      "text/html": "<div>\n<style scoped>\n    .dataframe tbody tr th:only-of-type {\n        vertical-align: middle;\n    }\n\n    .dataframe tbody tr th {\n        vertical-align: top;\n    }\n\n    .dataframe thead th {\n        text-align: right;\n    }\n</style>\n<table border=\"1\" class=\"dataframe\">\n  <thead>\n    <tr style=\"text-align: right;\">\n      <th></th>\n      <th>년월</th>\n      <th>시구</th>\n      <th>시군구</th>\n      <th>계약구분</th>\n      <th>고객호수(호)</th>\n      <th>사용량(kWh)</th>\n    </tr>\n  </thead>\n  <tbody>\n    <tr>\n      <th>0</th>\n      <td>202107</td>\n      <td>전라남도</td>\n      <td>강진군</td>\n      <td>일반용</td>\n      <td>3,275</td>\n      <td>5,691,927</td>\n    </tr>\n    <tr>\n      <th>1</th>\n      <td>202108</td>\n      <td>전라남도</td>\n      <td>강진군</td>\n      <td>일반용</td>\n      <td>3,279</td>\n      <td>6,479,977</td>\n    </tr>\n    <tr>\n      <th>2</th>\n      <td>202109</td>\n      <td>전라남도</td>\n      <td>강진군</td>\n      <td>일반용</td>\n      <td>3,295</td>\n      <td>5,866,168</td>\n    </tr>\n    <tr>\n      <th>3</th>\n      <td>202110</td>\n      <td>전라남도</td>\n      <td>강진군</td>\n      <td>일반용</td>\n      <td>3,288</td>\n      <td>5,093,110</td>\n    </tr>\n    <tr>\n      <th>4</th>\n      <td>202111</td>\n      <td>전라남도</td>\n      <td>강진군</td>\n      <td>일반용</td>\n      <td>3,300</td>\n      <td>5,288,005</td>\n    </tr>\n    <tr>\n      <th>...</th>\n      <td>...</td>\n      <td>...</td>\n      <td>...</td>\n      <td>...</td>\n      <td>...</td>\n      <td>...</td>\n    </tr>\n    <tr>\n      <th>149</th>\n      <td>202107-202112</td>\n      <td>전라남도</td>\n      <td>장흥군</td>\n      <td>일반용</td>\n      <td>3503</td>\n      <td>36612777</td>\n    </tr>\n    <tr>\n      <th>150</th>\n      <td>202107-202112</td>\n      <td>전라남도</td>\n      <td>진도군</td>\n      <td>일반용</td>\n      <td>3099</td>\n      <td>34194002</td>\n    </tr>\n    <tr>\n      <th>151</th>\n      <td>202107-202112</td>\n      <td>전라남도</td>\n      <td>함평군</td>\n      <td>일반용</td>\n      <td>2526</td>\n      <td>28157731</td>\n    </tr>\n    <tr>\n      <th>152</th>\n      <td>202107-202112</td>\n      <td>전라남도</td>\n      <td>해남군</td>\n      <td>일반용</td>\n      <td>6520</td>\n      <td>71251872</td>\n    </tr>\n    <tr>\n      <th>153</th>\n      <td>202107-202112</td>\n      <td>전라남도</td>\n      <td>화순군</td>\n      <td>일반용</td>\n      <td>4850</td>\n      <td>77766591</td>\n    </tr>\n  </tbody>\n</table>\n<p>154 rows × 6 columns</p>\n</div>"
     },
     "execution_count": 68,
     "metadata": {},
     "output_type": "execute_result"
    }
   ],
   "source": [
    "GyeonGiHap2 = df_3.copy()\n",
    "GyeonGiHap2.reset_index(drop=True , inplace = True)\n",
    "for i in range(len(SIGUNGU)):\n",
    "    GyeonGiHap2 = GyeonGiHap2.append({'년월' :'202107-202112'  , '시구' : '{}'.format(City) , '시군구' : '{}'.format(SIGUNGU[i]) , '계약구분' : '일반용' , '고객호수(호)' : sum3[i] ,  '사용량(kWh)' : sum2[i]} , ignore_index=True) #년월 파일마다 수정하기\n",
    "GyeonGiHap2"
   ],
   "metadata": {
    "collapsed": false,
    "pycharm": {
     "name": "#%%\n"
    }
   }
  },
  {
   "cell_type": "markdown",
   "source": [
    "### 5. 날짜 체크!!!!!!!!!!!!!!!!!!!!!!!!!!!!!!!!!!!!!!!!!!!!!!!!!!!!"
   ],
   "metadata": {
    "collapsed": false,
    "pycharm": {
     "name": "#%% md\n"
    }
   }
  },
  {
   "cell_type": "code",
   "execution_count": 69,
   "outputs": [
    {
     "data": {
      "text/plain": "                년월    시구  시군구 계약구분 고객호수(호)   사용량(kWh)\n132  202107-202112  전라남도  강진군  일반용    3291   34531488\n133  202107-202112  전라남도  고흥군  일반용    5904   56625274\n134  202107-202112  전라남도  곡성군  일반용    2386   25473494\n135  202107-202112  전라남도  광양시  일반용   11708  148498186\n136  202107-202112  전라남도  구례군  일반용    2700   31054339\n137  202107-202112  전라남도  나주시  일반용    8333  160627140\n138  202107-202112  전라남도  담양군  일반용    4292   62781413\n139  202107-202112  전라남도  목포시  일반용   19635  261546017\n140  202107-202112  전라남도  무안군  일반용    6536   95200604\n141  202107-202112  전라남도  보성군  일반용    3834   39465677\n142  202107-202112  전라남도  순천시  일반용   21485  291940908\n143  202107-202112  전라남도  신안군  일반용    3979   35910021\n144  202107-202112  전라남도  여수시  일반용   24346  342346509\n145  202107-202112  전라남도  영광군  일반용    5032   54289960\n146  202107-202112  전라남도  영암군  일반용    4671   65835783\n147  202107-202112  전라남도  완도군  일반용    5706   53389957\n148  202107-202112  전라남도  장성군  일반용    3810   56095387\n149  202107-202112  전라남도  장흥군  일반용    3503   36612777\n150  202107-202112  전라남도  진도군  일반용    3099   34194002\n151  202107-202112  전라남도  함평군  일반용    2526   28157731\n152  202107-202112  전라남도  해남군  일반용    6520   71251872\n153  202107-202112  전라남도  화순군  일반용    4850   77766591",
      "text/html": "<div>\n<style scoped>\n    .dataframe tbody tr th:only-of-type {\n        vertical-align: middle;\n    }\n\n    .dataframe tbody tr th {\n        vertical-align: top;\n    }\n\n    .dataframe thead th {\n        text-align: right;\n    }\n</style>\n<table border=\"1\" class=\"dataframe\">\n  <thead>\n    <tr style=\"text-align: right;\">\n      <th></th>\n      <th>년월</th>\n      <th>시구</th>\n      <th>시군구</th>\n      <th>계약구분</th>\n      <th>고객호수(호)</th>\n      <th>사용량(kWh)</th>\n    </tr>\n  </thead>\n  <tbody>\n    <tr>\n      <th>132</th>\n      <td>202107-202112</td>\n      <td>전라남도</td>\n      <td>강진군</td>\n      <td>일반용</td>\n      <td>3291</td>\n      <td>34531488</td>\n    </tr>\n    <tr>\n      <th>133</th>\n      <td>202107-202112</td>\n      <td>전라남도</td>\n      <td>고흥군</td>\n      <td>일반용</td>\n      <td>5904</td>\n      <td>56625274</td>\n    </tr>\n    <tr>\n      <th>134</th>\n      <td>202107-202112</td>\n      <td>전라남도</td>\n      <td>곡성군</td>\n      <td>일반용</td>\n      <td>2386</td>\n      <td>25473494</td>\n    </tr>\n    <tr>\n      <th>135</th>\n      <td>202107-202112</td>\n      <td>전라남도</td>\n      <td>광양시</td>\n      <td>일반용</td>\n      <td>11708</td>\n      <td>148498186</td>\n    </tr>\n    <tr>\n      <th>136</th>\n      <td>202107-202112</td>\n      <td>전라남도</td>\n      <td>구례군</td>\n      <td>일반용</td>\n      <td>2700</td>\n      <td>31054339</td>\n    </tr>\n    <tr>\n      <th>137</th>\n      <td>202107-202112</td>\n      <td>전라남도</td>\n      <td>나주시</td>\n      <td>일반용</td>\n      <td>8333</td>\n      <td>160627140</td>\n    </tr>\n    <tr>\n      <th>138</th>\n      <td>202107-202112</td>\n      <td>전라남도</td>\n      <td>담양군</td>\n      <td>일반용</td>\n      <td>4292</td>\n      <td>62781413</td>\n    </tr>\n    <tr>\n      <th>139</th>\n      <td>202107-202112</td>\n      <td>전라남도</td>\n      <td>목포시</td>\n      <td>일반용</td>\n      <td>19635</td>\n      <td>261546017</td>\n    </tr>\n    <tr>\n      <th>140</th>\n      <td>202107-202112</td>\n      <td>전라남도</td>\n      <td>무안군</td>\n      <td>일반용</td>\n      <td>6536</td>\n      <td>95200604</td>\n    </tr>\n    <tr>\n      <th>141</th>\n      <td>202107-202112</td>\n      <td>전라남도</td>\n      <td>보성군</td>\n      <td>일반용</td>\n      <td>3834</td>\n      <td>39465677</td>\n    </tr>\n    <tr>\n      <th>142</th>\n      <td>202107-202112</td>\n      <td>전라남도</td>\n      <td>순천시</td>\n      <td>일반용</td>\n      <td>21485</td>\n      <td>291940908</td>\n    </tr>\n    <tr>\n      <th>143</th>\n      <td>202107-202112</td>\n      <td>전라남도</td>\n      <td>신안군</td>\n      <td>일반용</td>\n      <td>3979</td>\n      <td>35910021</td>\n    </tr>\n    <tr>\n      <th>144</th>\n      <td>202107-202112</td>\n      <td>전라남도</td>\n      <td>여수시</td>\n      <td>일반용</td>\n      <td>24346</td>\n      <td>342346509</td>\n    </tr>\n    <tr>\n      <th>145</th>\n      <td>202107-202112</td>\n      <td>전라남도</td>\n      <td>영광군</td>\n      <td>일반용</td>\n      <td>5032</td>\n      <td>54289960</td>\n    </tr>\n    <tr>\n      <th>146</th>\n      <td>202107-202112</td>\n      <td>전라남도</td>\n      <td>영암군</td>\n      <td>일반용</td>\n      <td>4671</td>\n      <td>65835783</td>\n    </tr>\n    <tr>\n      <th>147</th>\n      <td>202107-202112</td>\n      <td>전라남도</td>\n      <td>완도군</td>\n      <td>일반용</td>\n      <td>5706</td>\n      <td>53389957</td>\n    </tr>\n    <tr>\n      <th>148</th>\n      <td>202107-202112</td>\n      <td>전라남도</td>\n      <td>장성군</td>\n      <td>일반용</td>\n      <td>3810</td>\n      <td>56095387</td>\n    </tr>\n    <tr>\n      <th>149</th>\n      <td>202107-202112</td>\n      <td>전라남도</td>\n      <td>장흥군</td>\n      <td>일반용</td>\n      <td>3503</td>\n      <td>36612777</td>\n    </tr>\n    <tr>\n      <th>150</th>\n      <td>202107-202112</td>\n      <td>전라남도</td>\n      <td>진도군</td>\n      <td>일반용</td>\n      <td>3099</td>\n      <td>34194002</td>\n    </tr>\n    <tr>\n      <th>151</th>\n      <td>202107-202112</td>\n      <td>전라남도</td>\n      <td>함평군</td>\n      <td>일반용</td>\n      <td>2526</td>\n      <td>28157731</td>\n    </tr>\n    <tr>\n      <th>152</th>\n      <td>202107-202112</td>\n      <td>전라남도</td>\n      <td>해남군</td>\n      <td>일반용</td>\n      <td>6520</td>\n      <td>71251872</td>\n    </tr>\n    <tr>\n      <th>153</th>\n      <td>202107-202112</td>\n      <td>전라남도</td>\n      <td>화순군</td>\n      <td>일반용</td>\n      <td>4850</td>\n      <td>77766591</td>\n    </tr>\n  </tbody>\n</table>\n</div>"
     },
     "execution_count": 69,
     "metadata": {},
     "output_type": "execute_result"
    }
   ],
   "source": [
    "GyeonGiHap2 = GyeonGiHap2.loc[GyeonGiHap2['년월'] == '202107-202112']\n",
    "GyeonGiHap2"
   ],
   "metadata": {
    "collapsed": false,
    "pycharm": {
     "name": "#%%\n"
    }
   }
  },
  {
   "cell_type": "code",
   "execution_count": 70,
   "outputs": [
    {
     "data": {
      "text/plain": "                년월    시구  시군구 계약구분 고객호수(호)    사용량(kWh)\n132  202107-202112  전라남도  강진군  일반용    3291    34531488\n132  202107-202112  전라남도  강진군   합계    7250   204131195\n133  202107-202112  전라남도  고흥군  일반용    5904    56625274\n133  202107-202112  전라남도  고흥군   합계   14645   261840021\n134  202107-202112  전라남도  곡성군  일반용    2386    25473494\n134  202107-202112  전라남도  곡성군   합계    6414   214681194\n135  202107-202112  전라남도  광양시  일반용   11708   148498186\n135  202107-202112  전라남도  광양시   합계   13879  2180811841\n136  202107-202112  전라남도  구례군  일반용    2700    31054339\n136  202107-202112  전라남도  구례군   합계    5524    90134289\n137  202107-202112  전라남도  나주시  일반용    8333   160627140\n137  202107-202112  전라남도  나주시   합계   15620   706371833\n138  202107-202112  전라남도  담양군  일반용    4292    62781413\n138  202107-202112  전라남도  담양군   합계    8715   266758885\n139  202107-202112  전라남도  목포시   합계   16615   540907126\n139  202107-202112  전라남도  목포시  일반용   19635   261546017\n140  202107-202112  전라남도  무안군   합계   11947   381840528\n140  202107-202112  전라남도  무안군  일반용    6536    95200604\n141  202107-202112  전라남도  보성군   합계    9157   163061535\n141  202107-202112  전라남도  보성군  일반용    3834    39465677\n142  202107-202112  전라남도  순천시   합계   25474  1113498609\n142  202107-202112  전라남도  순천시  일반용   21485   291940908\n143  202107-202112  전라남도  신안군   합계    9082   177086985\n143  202107-202112  전라남도  신안군  일반용    3979    35910021\n144  202107-202112  전라남도  여수시   합계   27597  7718218696\n144  202107-202112  전라남도  여수시  일반용   24346   342346509\n145  202107-202112  전라남도  영광군   합계    9682   388300628\n145  202107-202112  전라남도  영광군  일반용    5032    54289960\n146  202107-202112  전라남도  영암군   합계   10244   631507151\n146  202107-202112  전라남도  영암군  일반용    4671    65835783\n147  202107-202112  전라남도  완도군   합계    8669   561606970\n147  202107-202112  전라남도  완도군  일반용    5706    53389957\n148  202107-202112  전라남도  장성군  일반용    3810    56095387\n148  202107-202112  전라남도  장성군   합계    7223   326681713\n149  202107-202112  전라남도  장흥군   합계    7910   187453868\n149  202107-202112  전라남도  장흥군  일반용    3503    36612777\n150  202107-202112  전라남도  진도군   합계    7111   178832873\n150  202107-202112  전라남도  진도군  일반용    3099    34194002\n151  202107-202112  전라남도  함평군   합계    7053   215971928\n151  202107-202112  전라남도  함평군  일반용    2526    28157731\n152  202107-202112  전라남도  해남군   합계   14520   361382394\n152  202107-202112  전라남도  해남군  일반용    6520    71251872\n153  202107-202112  전라남도  화순군  일반용    4850    77766591\n153  202107-202112  전라남도  화순군   합계    9466   267541616",
      "text/html": "<div>\n<style scoped>\n    .dataframe tbody tr th:only-of-type {\n        vertical-align: middle;\n    }\n\n    .dataframe tbody tr th {\n        vertical-align: top;\n    }\n\n    .dataframe thead th {\n        text-align: right;\n    }\n</style>\n<table border=\"1\" class=\"dataframe\">\n  <thead>\n    <tr style=\"text-align: right;\">\n      <th></th>\n      <th>년월</th>\n      <th>시구</th>\n      <th>시군구</th>\n      <th>계약구분</th>\n      <th>고객호수(호)</th>\n      <th>사용량(kWh)</th>\n    </tr>\n  </thead>\n  <tbody>\n    <tr>\n      <th>132</th>\n      <td>202107-202112</td>\n      <td>전라남도</td>\n      <td>강진군</td>\n      <td>일반용</td>\n      <td>3291</td>\n      <td>34531488</td>\n    </tr>\n    <tr>\n      <th>132</th>\n      <td>202107-202112</td>\n      <td>전라남도</td>\n      <td>강진군</td>\n      <td>합계</td>\n      <td>7250</td>\n      <td>204131195</td>\n    </tr>\n    <tr>\n      <th>133</th>\n      <td>202107-202112</td>\n      <td>전라남도</td>\n      <td>고흥군</td>\n      <td>일반용</td>\n      <td>5904</td>\n      <td>56625274</td>\n    </tr>\n    <tr>\n      <th>133</th>\n      <td>202107-202112</td>\n      <td>전라남도</td>\n      <td>고흥군</td>\n      <td>합계</td>\n      <td>14645</td>\n      <td>261840021</td>\n    </tr>\n    <tr>\n      <th>134</th>\n      <td>202107-202112</td>\n      <td>전라남도</td>\n      <td>곡성군</td>\n      <td>일반용</td>\n      <td>2386</td>\n      <td>25473494</td>\n    </tr>\n    <tr>\n      <th>134</th>\n      <td>202107-202112</td>\n      <td>전라남도</td>\n      <td>곡성군</td>\n      <td>합계</td>\n      <td>6414</td>\n      <td>214681194</td>\n    </tr>\n    <tr>\n      <th>135</th>\n      <td>202107-202112</td>\n      <td>전라남도</td>\n      <td>광양시</td>\n      <td>일반용</td>\n      <td>11708</td>\n      <td>148498186</td>\n    </tr>\n    <tr>\n      <th>135</th>\n      <td>202107-202112</td>\n      <td>전라남도</td>\n      <td>광양시</td>\n      <td>합계</td>\n      <td>13879</td>\n      <td>2180811841</td>\n    </tr>\n    <tr>\n      <th>136</th>\n      <td>202107-202112</td>\n      <td>전라남도</td>\n      <td>구례군</td>\n      <td>일반용</td>\n      <td>2700</td>\n      <td>31054339</td>\n    </tr>\n    <tr>\n      <th>136</th>\n      <td>202107-202112</td>\n      <td>전라남도</td>\n      <td>구례군</td>\n      <td>합계</td>\n      <td>5524</td>\n      <td>90134289</td>\n    </tr>\n    <tr>\n      <th>137</th>\n      <td>202107-202112</td>\n      <td>전라남도</td>\n      <td>나주시</td>\n      <td>일반용</td>\n      <td>8333</td>\n      <td>160627140</td>\n    </tr>\n    <tr>\n      <th>137</th>\n      <td>202107-202112</td>\n      <td>전라남도</td>\n      <td>나주시</td>\n      <td>합계</td>\n      <td>15620</td>\n      <td>706371833</td>\n    </tr>\n    <tr>\n      <th>138</th>\n      <td>202107-202112</td>\n      <td>전라남도</td>\n      <td>담양군</td>\n      <td>일반용</td>\n      <td>4292</td>\n      <td>62781413</td>\n    </tr>\n    <tr>\n      <th>138</th>\n      <td>202107-202112</td>\n      <td>전라남도</td>\n      <td>담양군</td>\n      <td>합계</td>\n      <td>8715</td>\n      <td>266758885</td>\n    </tr>\n    <tr>\n      <th>139</th>\n      <td>202107-202112</td>\n      <td>전라남도</td>\n      <td>목포시</td>\n      <td>합계</td>\n      <td>16615</td>\n      <td>540907126</td>\n    </tr>\n    <tr>\n      <th>139</th>\n      <td>202107-202112</td>\n      <td>전라남도</td>\n      <td>목포시</td>\n      <td>일반용</td>\n      <td>19635</td>\n      <td>261546017</td>\n    </tr>\n    <tr>\n      <th>140</th>\n      <td>202107-202112</td>\n      <td>전라남도</td>\n      <td>무안군</td>\n      <td>합계</td>\n      <td>11947</td>\n      <td>381840528</td>\n    </tr>\n    <tr>\n      <th>140</th>\n      <td>202107-202112</td>\n      <td>전라남도</td>\n      <td>무안군</td>\n      <td>일반용</td>\n      <td>6536</td>\n      <td>95200604</td>\n    </tr>\n    <tr>\n      <th>141</th>\n      <td>202107-202112</td>\n      <td>전라남도</td>\n      <td>보성군</td>\n      <td>합계</td>\n      <td>9157</td>\n      <td>163061535</td>\n    </tr>\n    <tr>\n      <th>141</th>\n      <td>202107-202112</td>\n      <td>전라남도</td>\n      <td>보성군</td>\n      <td>일반용</td>\n      <td>3834</td>\n      <td>39465677</td>\n    </tr>\n    <tr>\n      <th>142</th>\n      <td>202107-202112</td>\n      <td>전라남도</td>\n      <td>순천시</td>\n      <td>합계</td>\n      <td>25474</td>\n      <td>1113498609</td>\n    </tr>\n    <tr>\n      <th>142</th>\n      <td>202107-202112</td>\n      <td>전라남도</td>\n      <td>순천시</td>\n      <td>일반용</td>\n      <td>21485</td>\n      <td>291940908</td>\n    </tr>\n    <tr>\n      <th>143</th>\n      <td>202107-202112</td>\n      <td>전라남도</td>\n      <td>신안군</td>\n      <td>합계</td>\n      <td>9082</td>\n      <td>177086985</td>\n    </tr>\n    <tr>\n      <th>143</th>\n      <td>202107-202112</td>\n      <td>전라남도</td>\n      <td>신안군</td>\n      <td>일반용</td>\n      <td>3979</td>\n      <td>35910021</td>\n    </tr>\n    <tr>\n      <th>144</th>\n      <td>202107-202112</td>\n      <td>전라남도</td>\n      <td>여수시</td>\n      <td>합계</td>\n      <td>27597</td>\n      <td>7718218696</td>\n    </tr>\n    <tr>\n      <th>144</th>\n      <td>202107-202112</td>\n      <td>전라남도</td>\n      <td>여수시</td>\n      <td>일반용</td>\n      <td>24346</td>\n      <td>342346509</td>\n    </tr>\n    <tr>\n      <th>145</th>\n      <td>202107-202112</td>\n      <td>전라남도</td>\n      <td>영광군</td>\n      <td>합계</td>\n      <td>9682</td>\n      <td>388300628</td>\n    </tr>\n    <tr>\n      <th>145</th>\n      <td>202107-202112</td>\n      <td>전라남도</td>\n      <td>영광군</td>\n      <td>일반용</td>\n      <td>5032</td>\n      <td>54289960</td>\n    </tr>\n    <tr>\n      <th>146</th>\n      <td>202107-202112</td>\n      <td>전라남도</td>\n      <td>영암군</td>\n      <td>합계</td>\n      <td>10244</td>\n      <td>631507151</td>\n    </tr>\n    <tr>\n      <th>146</th>\n      <td>202107-202112</td>\n      <td>전라남도</td>\n      <td>영암군</td>\n      <td>일반용</td>\n      <td>4671</td>\n      <td>65835783</td>\n    </tr>\n    <tr>\n      <th>147</th>\n      <td>202107-202112</td>\n      <td>전라남도</td>\n      <td>완도군</td>\n      <td>합계</td>\n      <td>8669</td>\n      <td>561606970</td>\n    </tr>\n    <tr>\n      <th>147</th>\n      <td>202107-202112</td>\n      <td>전라남도</td>\n      <td>완도군</td>\n      <td>일반용</td>\n      <td>5706</td>\n      <td>53389957</td>\n    </tr>\n    <tr>\n      <th>148</th>\n      <td>202107-202112</td>\n      <td>전라남도</td>\n      <td>장성군</td>\n      <td>일반용</td>\n      <td>3810</td>\n      <td>56095387</td>\n    </tr>\n    <tr>\n      <th>148</th>\n      <td>202107-202112</td>\n      <td>전라남도</td>\n      <td>장성군</td>\n      <td>합계</td>\n      <td>7223</td>\n      <td>326681713</td>\n    </tr>\n    <tr>\n      <th>149</th>\n      <td>202107-202112</td>\n      <td>전라남도</td>\n      <td>장흥군</td>\n      <td>합계</td>\n      <td>7910</td>\n      <td>187453868</td>\n    </tr>\n    <tr>\n      <th>149</th>\n      <td>202107-202112</td>\n      <td>전라남도</td>\n      <td>장흥군</td>\n      <td>일반용</td>\n      <td>3503</td>\n      <td>36612777</td>\n    </tr>\n    <tr>\n      <th>150</th>\n      <td>202107-202112</td>\n      <td>전라남도</td>\n      <td>진도군</td>\n      <td>합계</td>\n      <td>7111</td>\n      <td>178832873</td>\n    </tr>\n    <tr>\n      <th>150</th>\n      <td>202107-202112</td>\n      <td>전라남도</td>\n      <td>진도군</td>\n      <td>일반용</td>\n      <td>3099</td>\n      <td>34194002</td>\n    </tr>\n    <tr>\n      <th>151</th>\n      <td>202107-202112</td>\n      <td>전라남도</td>\n      <td>함평군</td>\n      <td>합계</td>\n      <td>7053</td>\n      <td>215971928</td>\n    </tr>\n    <tr>\n      <th>151</th>\n      <td>202107-202112</td>\n      <td>전라남도</td>\n      <td>함평군</td>\n      <td>일반용</td>\n      <td>2526</td>\n      <td>28157731</td>\n    </tr>\n    <tr>\n      <th>152</th>\n      <td>202107-202112</td>\n      <td>전라남도</td>\n      <td>해남군</td>\n      <td>합계</td>\n      <td>14520</td>\n      <td>361382394</td>\n    </tr>\n    <tr>\n      <th>152</th>\n      <td>202107-202112</td>\n      <td>전라남도</td>\n      <td>해남군</td>\n      <td>일반용</td>\n      <td>6520</td>\n      <td>71251872</td>\n    </tr>\n    <tr>\n      <th>153</th>\n      <td>202107-202112</td>\n      <td>전라남도</td>\n      <td>화순군</td>\n      <td>일반용</td>\n      <td>4850</td>\n      <td>77766591</td>\n    </tr>\n    <tr>\n      <th>153</th>\n      <td>202107-202112</td>\n      <td>전라남도</td>\n      <td>화순군</td>\n      <td>합계</td>\n      <td>9466</td>\n      <td>267541616</td>\n    </tr>\n  </tbody>\n</table>\n</div>"
     },
     "execution_count": 70,
     "metadata": {},
     "output_type": "execute_result"
    }
   ],
   "source": [
    "Final = pd.concat([GyeonGiHap2 , Hap])\n",
    "Final = Final.sort_values('시군구')\n",
    "Final"
   ],
   "metadata": {
    "collapsed": false,
    "pycharm": {
     "name": "#%%\n"
    }
   }
  },
  {
   "cell_type": "code",
   "execution_count": 71,
   "outputs": [
    {
     "data": {
      "text/plain": "[34531488,\n 56625274,\n 25473494,\n 148498186,\n 31054339,\n 160627140,\n 62781413,\n 261546017,\n 95200604,\n 39465677,\n 291940908,\n 35910021,\n 342346509,\n 54289960,\n 65835783,\n 53389957,\n 56095387,\n 36612777,\n 34194002,\n 28157731,\n 71251872,\n 77766591]"
     },
     "execution_count": 71,
     "metadata": {},
     "output_type": "execute_result"
    }
   ],
   "source": [
    "# Final['일반용 전기의 비율'] = (Final['사용량(kWh)'].loc[Final['계약구분'] == '일반용']) // (Final['사용량(kWh)'].loc[Final['계약구분'] == '합계'])\n",
    "# Final\n",
    "ex = (Final['사용량(kWh)'].loc[Final['계약구분'] == '일반용']).tolist()\n",
    "\n",
    "\n",
    "ex\n"
   ],
   "metadata": {
    "collapsed": false,
    "pycharm": {
     "name": "#%%\n"
    }
   }
  },
  {
   "cell_type": "code",
   "execution_count": 72,
   "outputs": [
    {
     "data": {
      "text/plain": "[204131195,\n 261840021,\n 214681194,\n 2180811841,\n 90134289,\n 706371833,\n 266758885,\n 540907126,\n 381840528,\n 163061535,\n 1113498609,\n 177086985,\n 7718218696,\n 388300628,\n 631507151,\n 561606970,\n 326681713,\n 187453868,\n 178832873,\n 215971928,\n 361382394,\n 267541616]"
     },
     "execution_count": 72,
     "metadata": {},
     "output_type": "execute_result"
    }
   ],
   "source": [
    "ex_2 =(Final['사용량(kWh)'].loc[Final['계약구분'] == '합계']).tolist()\n",
    "ex_2"
   ],
   "metadata": {
    "collapsed": false,
    "pycharm": {
     "name": "#%%\n"
    }
   }
  },
  {
   "cell_type": "code",
   "execution_count": 73,
   "outputs": [
    {
     "name": "stdout",
     "output_type": "stream",
     "text": [
      "[16.92, 21.63, 11.87, 6.81, 34.45, 22.74, 23.53, 48.35, 24.93, 24.2, 26.22, 20.28, 4.44, 13.98, 10.43, 9.51, 17.17, 19.53, 19.12, 13.04, 19.72, 29.07]\n"
     ]
    }
   ],
   "source": [
    "Rate = []\n",
    "ilban = []\n",
    "rae = 0\n",
    "for i in range(len(ex)):\n",
    "    rae = round(ex[i] / ex_2[i] *100 ,2)\n",
    "    Rate.append(rae)\n",
    "print(Rate)"
   ],
   "metadata": {
    "collapsed": false,
    "pycharm": {
     "name": "#%%\n"
    }
   }
  },
  {
   "cell_type": "code",
   "execution_count": 74,
   "outputs": [
    {
     "data": {
      "text/plain": "0    17\n1    22\n2    12\n3     7\n4    34\n5    23\n6    24\n7    48\n8    25\n9    24\n10   26\n11   20\n12    4\n13   14\n14   10\n15   10\n16   17\n17   20\n18   19\n19   13\n20   20\n21   29\ndtype: float64"
     },
     "execution_count": 74,
     "metadata": {},
     "output_type": "execute_result"
    }
   ],
   "source": [
    "Rate3 = pd.Series(Rate)\n",
    "Rate3\n",
    "\n",
    "# Final = pd.concat([Final , Rate3])\n",
    "# Final"
   ],
   "metadata": {
    "collapsed": false,
    "pycharm": {
     "name": "#%%\n"
    }
   }
  },
  {
   "cell_type": "code",
   "execution_count": 75,
   "outputs": [
    {
     "data": {
      "text/plain": "    시군구 계약구분  비율\n0   강진군  일반용  17\n1   고흥군  일반용  22\n2   곡성군  일반용  12\n3   광양시  일반용   7\n4   구례군  일반용  34\n5   나주시  일반용  23\n6   담양군  일반용  24\n7   목포시  일반용  48\n8   무안군  일반용  25\n9   보성군  일반용  24\n10  순천시  일반용  26\n11  신안군  일반용  20\n12  여수시  일반용   4\n13  영광군  일반용  14\n14  영암군  일반용  10\n15  완도군  일반용  10\n16  장성군  일반용  17\n17  장흥군  일반용  20\n18  진도군  일반용  19\n19  함평군  일반용  13\n20  해남군  일반용  20\n21  화순군  일반용  29",
      "text/html": "<div>\n<style scoped>\n    .dataframe tbody tr th:only-of-type {\n        vertical-align: middle;\n    }\n\n    .dataframe tbody tr th {\n        vertical-align: top;\n    }\n\n    .dataframe thead th {\n        text-align: right;\n    }\n</style>\n<table border=\"1\" class=\"dataframe\">\n  <thead>\n    <tr style=\"text-align: right;\">\n      <th></th>\n      <th>시군구</th>\n      <th>계약구분</th>\n      <th>비율</th>\n    </tr>\n  </thead>\n  <tbody>\n    <tr>\n      <th>0</th>\n      <td>강진군</td>\n      <td>일반용</td>\n      <td>17</td>\n    </tr>\n    <tr>\n      <th>1</th>\n      <td>고흥군</td>\n      <td>일반용</td>\n      <td>22</td>\n    </tr>\n    <tr>\n      <th>2</th>\n      <td>곡성군</td>\n      <td>일반용</td>\n      <td>12</td>\n    </tr>\n    <tr>\n      <th>3</th>\n      <td>광양시</td>\n      <td>일반용</td>\n      <td>7</td>\n    </tr>\n    <tr>\n      <th>4</th>\n      <td>구례군</td>\n      <td>일반용</td>\n      <td>34</td>\n    </tr>\n    <tr>\n      <th>5</th>\n      <td>나주시</td>\n      <td>일반용</td>\n      <td>23</td>\n    </tr>\n    <tr>\n      <th>6</th>\n      <td>담양군</td>\n      <td>일반용</td>\n      <td>24</td>\n    </tr>\n    <tr>\n      <th>7</th>\n      <td>목포시</td>\n      <td>일반용</td>\n      <td>48</td>\n    </tr>\n    <tr>\n      <th>8</th>\n      <td>무안군</td>\n      <td>일반용</td>\n      <td>25</td>\n    </tr>\n    <tr>\n      <th>9</th>\n      <td>보성군</td>\n      <td>일반용</td>\n      <td>24</td>\n    </tr>\n    <tr>\n      <th>10</th>\n      <td>순천시</td>\n      <td>일반용</td>\n      <td>26</td>\n    </tr>\n    <tr>\n      <th>11</th>\n      <td>신안군</td>\n      <td>일반용</td>\n      <td>20</td>\n    </tr>\n    <tr>\n      <th>12</th>\n      <td>여수시</td>\n      <td>일반용</td>\n      <td>4</td>\n    </tr>\n    <tr>\n      <th>13</th>\n      <td>영광군</td>\n      <td>일반용</td>\n      <td>14</td>\n    </tr>\n    <tr>\n      <th>14</th>\n      <td>영암군</td>\n      <td>일반용</td>\n      <td>10</td>\n    </tr>\n    <tr>\n      <th>15</th>\n      <td>완도군</td>\n      <td>일반용</td>\n      <td>10</td>\n    </tr>\n    <tr>\n      <th>16</th>\n      <td>장성군</td>\n      <td>일반용</td>\n      <td>17</td>\n    </tr>\n    <tr>\n      <th>17</th>\n      <td>장흥군</td>\n      <td>일반용</td>\n      <td>20</td>\n    </tr>\n    <tr>\n      <th>18</th>\n      <td>진도군</td>\n      <td>일반용</td>\n      <td>19</td>\n    </tr>\n    <tr>\n      <th>19</th>\n      <td>함평군</td>\n      <td>일반용</td>\n      <td>13</td>\n    </tr>\n    <tr>\n      <th>20</th>\n      <td>해남군</td>\n      <td>일반용</td>\n      <td>20</td>\n    </tr>\n    <tr>\n      <th>21</th>\n      <td>화순군</td>\n      <td>일반용</td>\n      <td>29</td>\n    </tr>\n  </tbody>\n</table>\n</div>"
     },
     "execution_count": 75,
     "metadata": {},
     "output_type": "execute_result"
    }
   ],
   "source": [
    "for j in range(len(Rate)):\n",
    "    ilban.append('일반용')\n",
    "#print(Rate)\n",
    "\n",
    "Rate2 = pd.DataFrame()\n",
    "Rate2['시군구'] = pd.DataFrame(SIGUNGU)\n",
    "Rate2['계약구분'] = pd.DataFrame(ilban)\n",
    "Rate2['비율'] = pd.DataFrame(Rate)\n",
    "Rate2\n",
    "#print(Rate2.dtypes)"
   ],
   "metadata": {
    "collapsed": false,
    "pycharm": {
     "name": "#%%\n"
    }
   }
  },
  {
   "cell_type": "code",
   "execution_count": 76,
   "outputs": [
    {
     "data": {
      "text/plain": "               년월    시구  시군구 계약구분 고객호수(호)    사용량(kWh)  비율\n0   202107-202112  전라남도  강진군  일반용    3291    34531488  17\n1   202107-202112  전라남도  강진군   합계    7250   204131195 NaN\n2   202107-202112  전라남도  고흥군  일반용    5904    56625274  22\n3   202107-202112  전라남도  고흥군   합계   14645   261840021 NaN\n4   202107-202112  전라남도  곡성군  일반용    2386    25473494  12\n5   202107-202112  전라남도  곡성군   합계    6414   214681194 NaN\n6   202107-202112  전라남도  광양시  일반용   11708   148498186   7\n7   202107-202112  전라남도  광양시   합계   13879  2180811841 NaN\n8   202107-202112  전라남도  구례군  일반용    2700    31054339  34\n9   202107-202112  전라남도  구례군   합계    5524    90134289 NaN\n10  202107-202112  전라남도  나주시  일반용    8333   160627140  23\n11  202107-202112  전라남도  나주시   합계   15620   706371833 NaN\n12  202107-202112  전라남도  담양군  일반용    4292    62781413  24\n13  202107-202112  전라남도  담양군   합계    8715   266758885 NaN\n15  202107-202112  전라남도  목포시  일반용   19635   261546017  48\n14  202107-202112  전라남도  목포시   합계   16615   540907126 NaN\n17  202107-202112  전라남도  무안군  일반용    6536    95200604  25\n16  202107-202112  전라남도  무안군   합계   11947   381840528 NaN\n19  202107-202112  전라남도  보성군  일반용    3834    39465677  24\n18  202107-202112  전라남도  보성군   합계    9157   163061535 NaN\n21  202107-202112  전라남도  순천시  일반용   21485   291940908  26\n20  202107-202112  전라남도  순천시   합계   25474  1113498609 NaN\n23  202107-202112  전라남도  신안군  일반용    3979    35910021  20\n22  202107-202112  전라남도  신안군   합계    9082   177086985 NaN\n25  202107-202112  전라남도  여수시  일반용   24346   342346509   4\n24  202107-202112  전라남도  여수시   합계   27597  7718218696 NaN\n27  202107-202112  전라남도  영광군  일반용    5032    54289960  14\n26  202107-202112  전라남도  영광군   합계    9682   388300628 NaN\n29  202107-202112  전라남도  영암군  일반용    4671    65835783  10\n28  202107-202112  전라남도  영암군   합계   10244   631507151 NaN\n31  202107-202112  전라남도  완도군  일반용    5706    53389957  10\n30  202107-202112  전라남도  완도군   합계    8669   561606970 NaN\n32  202107-202112  전라남도  장성군  일반용    3810    56095387  17\n33  202107-202112  전라남도  장성군   합계    7223   326681713 NaN\n35  202107-202112  전라남도  장흥군  일반용    3503    36612777  20\n34  202107-202112  전라남도  장흥군   합계    7910   187453868 NaN\n37  202107-202112  전라남도  진도군  일반용    3099    34194002  19\n36  202107-202112  전라남도  진도군   합계    7111   178832873 NaN\n39  202107-202112  전라남도  함평군  일반용    2526    28157731  13\n38  202107-202112  전라남도  함평군   합계    7053   215971928 NaN\n41  202107-202112  전라남도  해남군  일반용    6520    71251872  20\n40  202107-202112  전라남도  해남군   합계   14520   361382394 NaN\n42  202107-202112  전라남도  화순군  일반용    4850    77766591  29\n43  202107-202112  전라남도  화순군   합계    9466   267541616 NaN",
      "text/html": "<div>\n<style scoped>\n    .dataframe tbody tr th:only-of-type {\n        vertical-align: middle;\n    }\n\n    .dataframe tbody tr th {\n        vertical-align: top;\n    }\n\n    .dataframe thead th {\n        text-align: right;\n    }\n</style>\n<table border=\"1\" class=\"dataframe\">\n  <thead>\n    <tr style=\"text-align: right;\">\n      <th></th>\n      <th>년월</th>\n      <th>시구</th>\n      <th>시군구</th>\n      <th>계약구분</th>\n      <th>고객호수(호)</th>\n      <th>사용량(kWh)</th>\n      <th>비율</th>\n    </tr>\n  </thead>\n  <tbody>\n    <tr>\n      <th>0</th>\n      <td>202107-202112</td>\n      <td>전라남도</td>\n      <td>강진군</td>\n      <td>일반용</td>\n      <td>3291</td>\n      <td>34531488</td>\n      <td>17</td>\n    </tr>\n    <tr>\n      <th>1</th>\n      <td>202107-202112</td>\n      <td>전라남도</td>\n      <td>강진군</td>\n      <td>합계</td>\n      <td>7250</td>\n      <td>204131195</td>\n      <td>NaN</td>\n    </tr>\n    <tr>\n      <th>2</th>\n      <td>202107-202112</td>\n      <td>전라남도</td>\n      <td>고흥군</td>\n      <td>일반용</td>\n      <td>5904</td>\n      <td>56625274</td>\n      <td>22</td>\n    </tr>\n    <tr>\n      <th>3</th>\n      <td>202107-202112</td>\n      <td>전라남도</td>\n      <td>고흥군</td>\n      <td>합계</td>\n      <td>14645</td>\n      <td>261840021</td>\n      <td>NaN</td>\n    </tr>\n    <tr>\n      <th>4</th>\n      <td>202107-202112</td>\n      <td>전라남도</td>\n      <td>곡성군</td>\n      <td>일반용</td>\n      <td>2386</td>\n      <td>25473494</td>\n      <td>12</td>\n    </tr>\n    <tr>\n      <th>5</th>\n      <td>202107-202112</td>\n      <td>전라남도</td>\n      <td>곡성군</td>\n      <td>합계</td>\n      <td>6414</td>\n      <td>214681194</td>\n      <td>NaN</td>\n    </tr>\n    <tr>\n      <th>6</th>\n      <td>202107-202112</td>\n      <td>전라남도</td>\n      <td>광양시</td>\n      <td>일반용</td>\n      <td>11708</td>\n      <td>148498186</td>\n      <td>7</td>\n    </tr>\n    <tr>\n      <th>7</th>\n      <td>202107-202112</td>\n      <td>전라남도</td>\n      <td>광양시</td>\n      <td>합계</td>\n      <td>13879</td>\n      <td>2180811841</td>\n      <td>NaN</td>\n    </tr>\n    <tr>\n      <th>8</th>\n      <td>202107-202112</td>\n      <td>전라남도</td>\n      <td>구례군</td>\n      <td>일반용</td>\n      <td>2700</td>\n      <td>31054339</td>\n      <td>34</td>\n    </tr>\n    <tr>\n      <th>9</th>\n      <td>202107-202112</td>\n      <td>전라남도</td>\n      <td>구례군</td>\n      <td>합계</td>\n      <td>5524</td>\n      <td>90134289</td>\n      <td>NaN</td>\n    </tr>\n    <tr>\n      <th>10</th>\n      <td>202107-202112</td>\n      <td>전라남도</td>\n      <td>나주시</td>\n      <td>일반용</td>\n      <td>8333</td>\n      <td>160627140</td>\n      <td>23</td>\n    </tr>\n    <tr>\n      <th>11</th>\n      <td>202107-202112</td>\n      <td>전라남도</td>\n      <td>나주시</td>\n      <td>합계</td>\n      <td>15620</td>\n      <td>706371833</td>\n      <td>NaN</td>\n    </tr>\n    <tr>\n      <th>12</th>\n      <td>202107-202112</td>\n      <td>전라남도</td>\n      <td>담양군</td>\n      <td>일반용</td>\n      <td>4292</td>\n      <td>62781413</td>\n      <td>24</td>\n    </tr>\n    <tr>\n      <th>13</th>\n      <td>202107-202112</td>\n      <td>전라남도</td>\n      <td>담양군</td>\n      <td>합계</td>\n      <td>8715</td>\n      <td>266758885</td>\n      <td>NaN</td>\n    </tr>\n    <tr>\n      <th>15</th>\n      <td>202107-202112</td>\n      <td>전라남도</td>\n      <td>목포시</td>\n      <td>일반용</td>\n      <td>19635</td>\n      <td>261546017</td>\n      <td>48</td>\n    </tr>\n    <tr>\n      <th>14</th>\n      <td>202107-202112</td>\n      <td>전라남도</td>\n      <td>목포시</td>\n      <td>합계</td>\n      <td>16615</td>\n      <td>540907126</td>\n      <td>NaN</td>\n    </tr>\n    <tr>\n      <th>17</th>\n      <td>202107-202112</td>\n      <td>전라남도</td>\n      <td>무안군</td>\n      <td>일반용</td>\n      <td>6536</td>\n      <td>95200604</td>\n      <td>25</td>\n    </tr>\n    <tr>\n      <th>16</th>\n      <td>202107-202112</td>\n      <td>전라남도</td>\n      <td>무안군</td>\n      <td>합계</td>\n      <td>11947</td>\n      <td>381840528</td>\n      <td>NaN</td>\n    </tr>\n    <tr>\n      <th>19</th>\n      <td>202107-202112</td>\n      <td>전라남도</td>\n      <td>보성군</td>\n      <td>일반용</td>\n      <td>3834</td>\n      <td>39465677</td>\n      <td>24</td>\n    </tr>\n    <tr>\n      <th>18</th>\n      <td>202107-202112</td>\n      <td>전라남도</td>\n      <td>보성군</td>\n      <td>합계</td>\n      <td>9157</td>\n      <td>163061535</td>\n      <td>NaN</td>\n    </tr>\n    <tr>\n      <th>21</th>\n      <td>202107-202112</td>\n      <td>전라남도</td>\n      <td>순천시</td>\n      <td>일반용</td>\n      <td>21485</td>\n      <td>291940908</td>\n      <td>26</td>\n    </tr>\n    <tr>\n      <th>20</th>\n      <td>202107-202112</td>\n      <td>전라남도</td>\n      <td>순천시</td>\n      <td>합계</td>\n      <td>25474</td>\n      <td>1113498609</td>\n      <td>NaN</td>\n    </tr>\n    <tr>\n      <th>23</th>\n      <td>202107-202112</td>\n      <td>전라남도</td>\n      <td>신안군</td>\n      <td>일반용</td>\n      <td>3979</td>\n      <td>35910021</td>\n      <td>20</td>\n    </tr>\n    <tr>\n      <th>22</th>\n      <td>202107-202112</td>\n      <td>전라남도</td>\n      <td>신안군</td>\n      <td>합계</td>\n      <td>9082</td>\n      <td>177086985</td>\n      <td>NaN</td>\n    </tr>\n    <tr>\n      <th>25</th>\n      <td>202107-202112</td>\n      <td>전라남도</td>\n      <td>여수시</td>\n      <td>일반용</td>\n      <td>24346</td>\n      <td>342346509</td>\n      <td>4</td>\n    </tr>\n    <tr>\n      <th>24</th>\n      <td>202107-202112</td>\n      <td>전라남도</td>\n      <td>여수시</td>\n      <td>합계</td>\n      <td>27597</td>\n      <td>7718218696</td>\n      <td>NaN</td>\n    </tr>\n    <tr>\n      <th>27</th>\n      <td>202107-202112</td>\n      <td>전라남도</td>\n      <td>영광군</td>\n      <td>일반용</td>\n      <td>5032</td>\n      <td>54289960</td>\n      <td>14</td>\n    </tr>\n    <tr>\n      <th>26</th>\n      <td>202107-202112</td>\n      <td>전라남도</td>\n      <td>영광군</td>\n      <td>합계</td>\n      <td>9682</td>\n      <td>388300628</td>\n      <td>NaN</td>\n    </tr>\n    <tr>\n      <th>29</th>\n      <td>202107-202112</td>\n      <td>전라남도</td>\n      <td>영암군</td>\n      <td>일반용</td>\n      <td>4671</td>\n      <td>65835783</td>\n      <td>10</td>\n    </tr>\n    <tr>\n      <th>28</th>\n      <td>202107-202112</td>\n      <td>전라남도</td>\n      <td>영암군</td>\n      <td>합계</td>\n      <td>10244</td>\n      <td>631507151</td>\n      <td>NaN</td>\n    </tr>\n    <tr>\n      <th>31</th>\n      <td>202107-202112</td>\n      <td>전라남도</td>\n      <td>완도군</td>\n      <td>일반용</td>\n      <td>5706</td>\n      <td>53389957</td>\n      <td>10</td>\n    </tr>\n    <tr>\n      <th>30</th>\n      <td>202107-202112</td>\n      <td>전라남도</td>\n      <td>완도군</td>\n      <td>합계</td>\n      <td>8669</td>\n      <td>561606970</td>\n      <td>NaN</td>\n    </tr>\n    <tr>\n      <th>32</th>\n      <td>202107-202112</td>\n      <td>전라남도</td>\n      <td>장성군</td>\n      <td>일반용</td>\n      <td>3810</td>\n      <td>56095387</td>\n      <td>17</td>\n    </tr>\n    <tr>\n      <th>33</th>\n      <td>202107-202112</td>\n      <td>전라남도</td>\n      <td>장성군</td>\n      <td>합계</td>\n      <td>7223</td>\n      <td>326681713</td>\n      <td>NaN</td>\n    </tr>\n    <tr>\n      <th>35</th>\n      <td>202107-202112</td>\n      <td>전라남도</td>\n      <td>장흥군</td>\n      <td>일반용</td>\n      <td>3503</td>\n      <td>36612777</td>\n      <td>20</td>\n    </tr>\n    <tr>\n      <th>34</th>\n      <td>202107-202112</td>\n      <td>전라남도</td>\n      <td>장흥군</td>\n      <td>합계</td>\n      <td>7910</td>\n      <td>187453868</td>\n      <td>NaN</td>\n    </tr>\n    <tr>\n      <th>37</th>\n      <td>202107-202112</td>\n      <td>전라남도</td>\n      <td>진도군</td>\n      <td>일반용</td>\n      <td>3099</td>\n      <td>34194002</td>\n      <td>19</td>\n    </tr>\n    <tr>\n      <th>36</th>\n      <td>202107-202112</td>\n      <td>전라남도</td>\n      <td>진도군</td>\n      <td>합계</td>\n      <td>7111</td>\n      <td>178832873</td>\n      <td>NaN</td>\n    </tr>\n    <tr>\n      <th>39</th>\n      <td>202107-202112</td>\n      <td>전라남도</td>\n      <td>함평군</td>\n      <td>일반용</td>\n      <td>2526</td>\n      <td>28157731</td>\n      <td>13</td>\n    </tr>\n    <tr>\n      <th>38</th>\n      <td>202107-202112</td>\n      <td>전라남도</td>\n      <td>함평군</td>\n      <td>합계</td>\n      <td>7053</td>\n      <td>215971928</td>\n      <td>NaN</td>\n    </tr>\n    <tr>\n      <th>41</th>\n      <td>202107-202112</td>\n      <td>전라남도</td>\n      <td>해남군</td>\n      <td>일반용</td>\n      <td>6520</td>\n      <td>71251872</td>\n      <td>20</td>\n    </tr>\n    <tr>\n      <th>40</th>\n      <td>202107-202112</td>\n      <td>전라남도</td>\n      <td>해남군</td>\n      <td>합계</td>\n      <td>14520</td>\n      <td>361382394</td>\n      <td>NaN</td>\n    </tr>\n    <tr>\n      <th>42</th>\n      <td>202107-202112</td>\n      <td>전라남도</td>\n      <td>화순군</td>\n      <td>일반용</td>\n      <td>4850</td>\n      <td>77766591</td>\n      <td>29</td>\n    </tr>\n    <tr>\n      <th>43</th>\n      <td>202107-202112</td>\n      <td>전라남도</td>\n      <td>화순군</td>\n      <td>합계</td>\n      <td>9466</td>\n      <td>267541616</td>\n      <td>NaN</td>\n    </tr>\n  </tbody>\n</table>\n</div>"
     },
     "execution_count": 76,
     "metadata": {},
     "output_type": "execute_result"
    }
   ],
   "source": [
    "Final = pd.merge(Final , Rate2, on=['시군구', '계약구분'] , how='left')\n",
    "\n",
    "#Final.drop(['비율_y]' , axis = 1 , inplace = True)\n",
    "#Final.rename(columns={'비율_y':'전체 계약종별 전력사용량 대비 일반용 사용량 비율'})\n",
    "Final = Final.sort_values(['시군구' , '계약구분'])\n",
    "Final"
   ],
   "metadata": {
    "collapsed": false,
    "pycharm": {
     "name": "#%%\n"
    }
   }
  },
  {
   "cell_type": "code",
   "execution_count": 77,
   "outputs": [],
   "source": [
    "# Final['일반용 전기의 비율'] = Final.append(Rate)\n",
    "# Final"
   ],
   "metadata": {
    "collapsed": false,
    "pycharm": {
     "name": "#%%\n"
    }
   }
  },
  {
   "cell_type": "markdown",
   "source": [
    "### 6. 날짜 체크!!!!!!!!!!!!!!!!!!!!1"
   ],
   "metadata": {
    "collapsed": false,
    "pycharm": {
     "name": "#%% md\n"
    }
   }
  },
  {
   "cell_type": "code",
   "execution_count": 78,
   "outputs": [],
   "source": [
    "Final.to_csv(\"{}_일반용_전력사용량_2107-12.csv\".format(City) , mode = 'w' , encoding= 'cp949' , index =False) #파일명 수정"
   ],
   "metadata": {
    "collapsed": false,
    "pycharm": {
     "name": "#%%\n"
    }
   }
  },
  {
   "cell_type": "code",
   "execution_count": 78,
   "outputs": [],
   "source": [],
   "metadata": {
    "collapsed": false,
    "pycharm": {
     "name": "#%%\n"
    }
   }
  },
  {
   "cell_type": "code",
   "execution_count": 79,
   "outputs": [],
   "source": [
    "# Sigu = list(set(df_3['시군구'].tolist()))\n",
    "#\n",
    "# Sigu.sort()\n",
    "#\n",
    "# Sigu"
   ],
   "metadata": {
    "collapsed": false,
    "pycharm": {
     "name": "#%%\n"
    }
   }
  },
  {
   "cell_type": "code",
   "execution_count": 80,
   "outputs": [],
   "source": [
    "# YearMonth = list(set(df_3['년월'].tolist()))\n",
    "#\n",
    "# YearMonth.sort()\n",
    "# YearMonth"
   ],
   "metadata": {
    "collapsed": false,
    "pycharm": {
     "name": "#%%\n"
    }
   }
  },
  {
   "cell_type": "code",
   "execution_count": 81,
   "outputs": [],
   "source": [
    "# Gayeak = list(set(df_3['계약구분'].tolist()))\n",
    "#\n",
    "# Gayeak.sort()\n",
    "# Gayeak"
   ],
   "metadata": {
    "collapsed": false,
    "pycharm": {
     "name": "#%%\n"
    }
   }
  },
  {
   "cell_type": "code",
   "execution_count": 82,
   "outputs": [],
   "source": [
    "# SEOUL = df_3.loc[(df_3['계약구분'] =='일반용')]\n",
    "# SEOUL.drop(['고객호수(호)' ,'전기요금(원)' , '평균판매단가(원/kWh)'] , axis = 1 , inplace = True)\n",
    "# #SEOUL.dtypes(['사용량(kWh)'])\n",
    "# SEOUL"
   ],
   "metadata": {
    "collapsed": false,
    "pycharm": {
     "name": "#%%\n"
    }
   }
  },
  {
   "cell_type": "code",
   "execution_count": 83,
   "outputs": [],
   "source": [
    "#SEOUL.to_csv(\"서울특별시_일반용_전력사용량.csv\" , mode = 'w' , encoding= 'cp949')"
   ],
   "metadata": {
    "collapsed": false,
    "pycharm": {
     "name": "#%%\n"
    }
   }
  },
  {
   "cell_type": "code",
   "execution_count": 84,
   "outputs": [],
   "source": [
    "# print(SEOUL.dtypes)\n",
    "# SEOUL = SEOUL.astype({'사용량(kWh)' : 'float'})"
   ],
   "metadata": {
    "collapsed": false,
    "pycharm": {
     "name": "#%%\n"
    }
   }
  },
  {
   "cell_type": "code",
   "execution_count": 85,
   "outputs": [],
   "source": [
    "# SEOUL"
   ],
   "metadata": {
    "collapsed": false,
    "pycharm": {
     "name": "#%%\n"
    }
   }
  },
  {
   "cell_type": "code",
   "execution_count": 86,
   "outputs": [],
   "source": [
    "# a = SEOUL['사용량(kWh)'].tolist()\n",
    "# int_list = map(int, a)\n",
    "# b=0\n",
    "# for i in int_list:\n",
    "#     b+=i\n",
    "#\n",
    "# print(b)"
   ],
   "metadata": {
    "collapsed": false,
    "pycharm": {
     "name": "#%%\n"
    }
   }
  },
  {
   "cell_type": "code",
   "execution_count": 86,
   "outputs": [],
   "source": [],
   "metadata": {
    "collapsed": false,
    "pycharm": {
     "name": "#%%\n"
    }
   }
  },
  {
   "cell_type": "code",
   "execution_count": 86,
   "outputs": [],
   "source": [],
   "metadata": {
    "collapsed": false,
    "pycharm": {
     "name": "#%%\n"
    }
   }
  },
  {
   "cell_type": "code",
   "execution_count": 86,
   "outputs": [],
   "source": [],
   "metadata": {
    "collapsed": false,
    "pycharm": {
     "name": "#%%\n"
    }
   }
  },
  {
   "cell_type": "code",
   "execution_count": 86,
   "outputs": [],
   "source": [],
   "metadata": {
    "collapsed": false,
    "pycharm": {
     "name": "#%%\n"
    }
   }
  },
  {
   "cell_type": "code",
   "execution_count": 86,
   "outputs": [],
   "source": [],
   "metadata": {
    "collapsed": false,
    "pycharm": {
     "name": "#%%\n"
    }
   }
  },
  {
   "cell_type": "code",
   "execution_count": 86,
   "outputs": [],
   "source": [],
   "metadata": {
    "collapsed": false,
    "pycharm": {
     "name": "#%%\n"
    }
   }
  },
  {
   "cell_type": "code",
   "execution_count": 86,
   "outputs": [],
   "source": [],
   "metadata": {
    "collapsed": false,
    "pycharm": {
     "name": "#%%\n"
    }
   }
  }
 ],
 "metadata": {
  "kernelspec": {
   "display_name": "Python 3",
   "language": "python",
   "name": "python3"
  },
  "language_info": {
   "codemirror_mode": {
    "name": "ipython",
    "version": 2
   },
   "file_extension": ".py",
   "mimetype": "text/x-python",
   "name": "python",
   "nbconvert_exporter": "python",
   "pygments_lexer": "ipython2",
   "version": "2.7.6"
  }
 },
 "nbformat": 4,
 "nbformat_minor": 0
}