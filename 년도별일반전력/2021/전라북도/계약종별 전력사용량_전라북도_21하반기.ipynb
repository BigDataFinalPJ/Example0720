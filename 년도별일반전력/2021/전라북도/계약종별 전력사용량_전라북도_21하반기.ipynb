{
 "cells": [
  {
   "cell_type": "markdown",
   "source": [],
   "metadata": {
    "collapsed": false,
    "pycharm": {
     "name": "#%% md\n"
    }
   }
  },
  {
   "cell_type": "code",
   "execution_count": 75,
   "outputs": [],
   "source": [
    "import pandas as pd\n",
    "import re\n",
    "\n",
    "pd.options.display.float_format = '{:.0f}'.format"
   ],
   "metadata": {
    "collapsed": false,
    "pycharm": {
     "name": "#%%\n"
    }
   }
  },
  {
   "cell_type": "markdown",
   "source": [
    "### 1. 꼭 read_csv 21상반기, 19하반기와 같이 맞추어 주세요!!! 또한 지역(전라북도, 남도) 맞추기!!!!!"
   ],
   "metadata": {
    "collapsed": false,
    "pycharm": {
     "name": "#%% md\n"
    }
   }
  },
  {
   "cell_type": "code",
   "execution_count": 76,
   "outputs": [
    {
     "data": {
      "text/plain": "       계약종별 전력사용량 월별( 20220804 현재 ) Unnamed: 1     Unnamed: 2 Unnamed: 3  \\\n0    시도 : 전라북도, 시군구 : 전체(시 / 군 / 구)        NaN            NaN        NaN   \n1       기간 : 2021년 07 월 ~ 2021년 12월        NaN            NaN        NaN   \n2                                년월         시구            시군구       계약구분   \n3                            202107       전라북도  전체(시 / 군 / 구)        주택용   \n4                            202107       전라북도  전체(시 / 군 / 구)        일반용   \n..                              ...        ...            ...        ...   \n715                          202112       전라북도            진안군        산업용   \n716                          202112       전라북도            진안군        심 야   \n717                          202112       전라북도            진안군        일반용   \n718                          202112       전라북도            진안군        주택용   \n719                          202112       전라북도            진안군         합계   \n\n    Unnamed: 4    Unnamed: 5       Unnamed: 6     Unnamed: 7  \n0          NaN           NaN              NaN            NaN  \n1          NaN           NaN              NaN            NaN  \n2      고객호수(호)      사용량(kWh)          전기요금(원)  평균판매단가(원/kWh)  \n3     682,974   220,696,722   22,284,723,414          101.0   \n4     145,461   329,360,343   48,419,189,168          147.0   \n..         ...           ...              ...            ...  \n715       973     3,107,790      421,681,888          135.7   \n716     1,703     2,639,426      198,524,490           75.2   \n717     2,251     4,597,606      635,073,792          138.1   \n718    15,603     2,648,618      314,996,614          118.9   \n719    33,685    20,318,535    2,015,818,896           99.2   \n\n[720 rows x 8 columns]",
      "text/html": "<div>\n<style scoped>\n    .dataframe tbody tr th:only-of-type {\n        vertical-align: middle;\n    }\n\n    .dataframe tbody tr th {\n        vertical-align: top;\n    }\n\n    .dataframe thead th {\n        text-align: right;\n    }\n</style>\n<table border=\"1\" class=\"dataframe\">\n  <thead>\n    <tr style=\"text-align: right;\">\n      <th></th>\n      <th>계약종별 전력사용량 월별( 20220804 현재 )</th>\n      <th>Unnamed: 1</th>\n      <th>Unnamed: 2</th>\n      <th>Unnamed: 3</th>\n      <th>Unnamed: 4</th>\n      <th>Unnamed: 5</th>\n      <th>Unnamed: 6</th>\n      <th>Unnamed: 7</th>\n    </tr>\n  </thead>\n  <tbody>\n    <tr>\n      <th>0</th>\n      <td>시도 : 전라북도, 시군구 : 전체(시 / 군 / 구)</td>\n      <td>NaN</td>\n      <td>NaN</td>\n      <td>NaN</td>\n      <td>NaN</td>\n      <td>NaN</td>\n      <td>NaN</td>\n      <td>NaN</td>\n    </tr>\n    <tr>\n      <th>1</th>\n      <td>기간 : 2021년 07 월 ~ 2021년 12월</td>\n      <td>NaN</td>\n      <td>NaN</td>\n      <td>NaN</td>\n      <td>NaN</td>\n      <td>NaN</td>\n      <td>NaN</td>\n      <td>NaN</td>\n    </tr>\n    <tr>\n      <th>2</th>\n      <td>년월</td>\n      <td>시구</td>\n      <td>시군구</td>\n      <td>계약구분</td>\n      <td>고객호수(호)</td>\n      <td>사용량(kWh)</td>\n      <td>전기요금(원)</td>\n      <td>평균판매단가(원/kWh)</td>\n    </tr>\n    <tr>\n      <th>3</th>\n      <td>202107</td>\n      <td>전라북도</td>\n      <td>전체(시 / 군 / 구)</td>\n      <td>주택용</td>\n      <td>682,974</td>\n      <td>220,696,722</td>\n      <td>22,284,723,414</td>\n      <td>101.0</td>\n    </tr>\n    <tr>\n      <th>4</th>\n      <td>202107</td>\n      <td>전라북도</td>\n      <td>전체(시 / 군 / 구)</td>\n      <td>일반용</td>\n      <td>145,461</td>\n      <td>329,360,343</td>\n      <td>48,419,189,168</td>\n      <td>147.0</td>\n    </tr>\n    <tr>\n      <th>...</th>\n      <td>...</td>\n      <td>...</td>\n      <td>...</td>\n      <td>...</td>\n      <td>...</td>\n      <td>...</td>\n      <td>...</td>\n      <td>...</td>\n    </tr>\n    <tr>\n      <th>715</th>\n      <td>202112</td>\n      <td>전라북도</td>\n      <td>진안군</td>\n      <td>산업용</td>\n      <td>973</td>\n      <td>3,107,790</td>\n      <td>421,681,888</td>\n      <td>135.7</td>\n    </tr>\n    <tr>\n      <th>716</th>\n      <td>202112</td>\n      <td>전라북도</td>\n      <td>진안군</td>\n      <td>심 야</td>\n      <td>1,703</td>\n      <td>2,639,426</td>\n      <td>198,524,490</td>\n      <td>75.2</td>\n    </tr>\n    <tr>\n      <th>717</th>\n      <td>202112</td>\n      <td>전라북도</td>\n      <td>진안군</td>\n      <td>일반용</td>\n      <td>2,251</td>\n      <td>4,597,606</td>\n      <td>635,073,792</td>\n      <td>138.1</td>\n    </tr>\n    <tr>\n      <th>718</th>\n      <td>202112</td>\n      <td>전라북도</td>\n      <td>진안군</td>\n      <td>주택용</td>\n      <td>15,603</td>\n      <td>2,648,618</td>\n      <td>314,996,614</td>\n      <td>118.9</td>\n    </tr>\n    <tr>\n      <th>719</th>\n      <td>202112</td>\n      <td>전라북도</td>\n      <td>진안군</td>\n      <td>합계</td>\n      <td>33,685</td>\n      <td>20,318,535</td>\n      <td>2,015,818,896</td>\n      <td>99.2</td>\n    </tr>\n  </tbody>\n</table>\n<p>720 rows × 8 columns</p>\n</div>"
     },
     "execution_count": 76,
     "metadata": {},
     "output_type": "execute_result"
    }
   ],
   "source": [
    "df = pd.read_csv('전라북도_계약종별_전력사용량_월별_21하반기.csv' , encoding='cp949')\n",
    "\n",
    "df\n",
    "#exchng=  pd.read_csv('지역별_전력거래량_20220803093050.csv' , encoding='cp949')"
   ],
   "metadata": {
    "collapsed": false,
    "pycharm": {
     "name": "#%%\n"
    }
   }
  },
  {
   "cell_type": "code",
   "execution_count": 77,
   "outputs": [
    {
     "data": {
      "text/plain": "    계약종별 전력사용량 월별( 20220804 현재 ) Unnamed: 1     Unnamed: 2 Unnamed: 3  \\\n2                             년월         시구            시군구       계약구분   \n3                         202107       전라북도  전체(시 / 군 / 구)        주택용   \n4                         202107       전라북도  전체(시 / 군 / 구)        일반용   \n5                         202107       전라북도  전체(시 / 군 / 구)        교육용   \n6                         202107       전라북도  전체(시 / 군 / 구)        산업용   \n..                           ...        ...            ...        ...   \n715                       202112       전라북도            진안군        산업용   \n716                       202112       전라북도            진안군        심 야   \n717                       202112       전라북도            진안군        일반용   \n718                       202112       전라북도            진안군        주택용   \n719                       202112       전라북도            진안군         합계   \n\n    Unnamed: 4      Unnamed: 5        Unnamed: 6     Unnamed: 7  \n2      고객호수(호)        사용량(kWh)           전기요금(원)  평균판매단가(원/kWh)  \n3     682,974     220,696,722    22,284,723,414          101.0   \n4     145,461     329,360,343    48,419,189,168          147.0   \n5       1,228      29,311,976     3,519,406,267          120.1   \n6      16,301   1,041,964,773   122,393,530,614          117.5   \n..         ...             ...               ...            ...  \n715       973       3,107,790       421,681,888          135.7   \n716     1,703       2,639,426       198,524,490           75.2   \n717     2,251       4,597,606       635,073,792          138.1   \n718    15,603       2,648,618       314,996,614          118.9   \n719    33,685      20,318,535     2,015,818,896           99.2   \n\n[717 rows x 8 columns]",
      "text/html": "<div>\n<style scoped>\n    .dataframe tbody tr th:only-of-type {\n        vertical-align: middle;\n    }\n\n    .dataframe tbody tr th {\n        vertical-align: top;\n    }\n\n    .dataframe thead th {\n        text-align: right;\n    }\n</style>\n<table border=\"1\" class=\"dataframe\">\n  <thead>\n    <tr style=\"text-align: right;\">\n      <th></th>\n      <th>계약종별 전력사용량 월별( 20220804 현재 )</th>\n      <th>Unnamed: 1</th>\n      <th>Unnamed: 2</th>\n      <th>Unnamed: 3</th>\n      <th>Unnamed: 4</th>\n      <th>Unnamed: 5</th>\n      <th>Unnamed: 6</th>\n      <th>Unnamed: 7</th>\n    </tr>\n  </thead>\n  <tbody>\n    <tr>\n      <th>2</th>\n      <td>년월</td>\n      <td>시구</td>\n      <td>시군구</td>\n      <td>계약구분</td>\n      <td>고객호수(호)</td>\n      <td>사용량(kWh)</td>\n      <td>전기요금(원)</td>\n      <td>평균판매단가(원/kWh)</td>\n    </tr>\n    <tr>\n      <th>3</th>\n      <td>202107</td>\n      <td>전라북도</td>\n      <td>전체(시 / 군 / 구)</td>\n      <td>주택용</td>\n      <td>682,974</td>\n      <td>220,696,722</td>\n      <td>22,284,723,414</td>\n      <td>101.0</td>\n    </tr>\n    <tr>\n      <th>4</th>\n      <td>202107</td>\n      <td>전라북도</td>\n      <td>전체(시 / 군 / 구)</td>\n      <td>일반용</td>\n      <td>145,461</td>\n      <td>329,360,343</td>\n      <td>48,419,189,168</td>\n      <td>147.0</td>\n    </tr>\n    <tr>\n      <th>5</th>\n      <td>202107</td>\n      <td>전라북도</td>\n      <td>전체(시 / 군 / 구)</td>\n      <td>교육용</td>\n      <td>1,228</td>\n      <td>29,311,976</td>\n      <td>3,519,406,267</td>\n      <td>120.1</td>\n    </tr>\n    <tr>\n      <th>6</th>\n      <td>202107</td>\n      <td>전라북도</td>\n      <td>전체(시 / 군 / 구)</td>\n      <td>산업용</td>\n      <td>16,301</td>\n      <td>1,041,964,773</td>\n      <td>122,393,530,614</td>\n      <td>117.5</td>\n    </tr>\n    <tr>\n      <th>...</th>\n      <td>...</td>\n      <td>...</td>\n      <td>...</td>\n      <td>...</td>\n      <td>...</td>\n      <td>...</td>\n      <td>...</td>\n      <td>...</td>\n    </tr>\n    <tr>\n      <th>715</th>\n      <td>202112</td>\n      <td>전라북도</td>\n      <td>진안군</td>\n      <td>산업용</td>\n      <td>973</td>\n      <td>3,107,790</td>\n      <td>421,681,888</td>\n      <td>135.7</td>\n    </tr>\n    <tr>\n      <th>716</th>\n      <td>202112</td>\n      <td>전라북도</td>\n      <td>진안군</td>\n      <td>심 야</td>\n      <td>1,703</td>\n      <td>2,639,426</td>\n      <td>198,524,490</td>\n      <td>75.2</td>\n    </tr>\n    <tr>\n      <th>717</th>\n      <td>202112</td>\n      <td>전라북도</td>\n      <td>진안군</td>\n      <td>일반용</td>\n      <td>2,251</td>\n      <td>4,597,606</td>\n      <td>635,073,792</td>\n      <td>138.1</td>\n    </tr>\n    <tr>\n      <th>718</th>\n      <td>202112</td>\n      <td>전라북도</td>\n      <td>진안군</td>\n      <td>주택용</td>\n      <td>15,603</td>\n      <td>2,648,618</td>\n      <td>314,996,614</td>\n      <td>118.9</td>\n    </tr>\n    <tr>\n      <th>719</th>\n      <td>202112</td>\n      <td>전라북도</td>\n      <td>진안군</td>\n      <td>합계</td>\n      <td>33,685</td>\n      <td>20,318,535</td>\n      <td>2,015,818,896</td>\n      <td>99.2</td>\n    </tr>\n  </tbody>\n</table>\n<p>717 rows × 8 columns</p>\n</div>"
     },
     "execution_count": 77,
     "metadata": {},
     "output_type": "execute_result"
    }
   ],
   "source": [
    "df = df.drop([0,1 , 46] , axis = 0)\n",
    "#0,1 , 10은 지우는게 맞다\n",
    "df"
   ],
   "metadata": {
    "collapsed": false,
    "pycharm": {
     "name": "#%%\n"
    }
   }
  },
  {
   "cell_type": "code",
   "execution_count": 78,
   "outputs": [],
   "source": [
    "a= df.loc[2].tolist()\n",
    "a\n",
    "df = df.drop([2] , axis = 0)"
   ],
   "metadata": {
    "collapsed": false,
    "pycharm": {
     "name": "#%%\n"
    }
   }
  },
  {
   "cell_type": "code",
   "execution_count": 79,
   "outputs": [
    {
     "data": {
      "text/plain": "         년월    시구            시군구 계약구분   고객호수(호)        사용량(kWh)  \\\n3    202107  전라북도  전체(시 / 군 / 구)  주택용  682,974     220,696,722    \n4    202107  전라북도  전체(시 / 군 / 구)  일반용  145,461     329,360,343    \n5    202107  전라북도  전체(시 / 군 / 구)  교육용    1,228      29,311,976    \n6    202107  전라북도  전체(시 / 군 / 구)  산업용   16,301   1,041,964,773    \n7    202107  전라북도  전체(시 / 군 / 구)  농사용  164,685     148,595,096    \n..      ...   ...            ...  ...       ...             ...   \n715  202112  전라북도            진안군  산업용      973       3,107,790    \n716  202112  전라북도            진안군  심 야    1,703       2,639,426    \n717  202112  전라북도            진안군  일반용    2,251       4,597,606    \n718  202112  전라북도            진안군  주택용   15,603       2,648,618    \n719  202112  전라북도            진안군   합계   33,685      20,318,535    \n\n              전기요금(원) 평균판매단가(원/kWh)  \n3     22,284,723,414         101.0   \n4     48,419,189,168         147.0   \n5      3,519,406,267         120.1   \n6    122,393,530,614         117.5   \n7      6,677,664,906          44.9   \n..                ...           ...  \n715      421,681,888         135.7   \n716      198,524,490          75.2   \n717      635,073,792         138.1   \n718      314,996,614         118.9   \n719    2,015,818,896          99.2   \n\n[716 rows x 8 columns]",
      "text/html": "<div>\n<style scoped>\n    .dataframe tbody tr th:only-of-type {\n        vertical-align: middle;\n    }\n\n    .dataframe tbody tr th {\n        vertical-align: top;\n    }\n\n    .dataframe thead th {\n        text-align: right;\n    }\n</style>\n<table border=\"1\" class=\"dataframe\">\n  <thead>\n    <tr style=\"text-align: right;\">\n      <th></th>\n      <th>년월</th>\n      <th>시구</th>\n      <th>시군구</th>\n      <th>계약구분</th>\n      <th>고객호수(호)</th>\n      <th>사용량(kWh)</th>\n      <th>전기요금(원)</th>\n      <th>평균판매단가(원/kWh)</th>\n    </tr>\n  </thead>\n  <tbody>\n    <tr>\n      <th>3</th>\n      <td>202107</td>\n      <td>전라북도</td>\n      <td>전체(시 / 군 / 구)</td>\n      <td>주택용</td>\n      <td>682,974</td>\n      <td>220,696,722</td>\n      <td>22,284,723,414</td>\n      <td>101.0</td>\n    </tr>\n    <tr>\n      <th>4</th>\n      <td>202107</td>\n      <td>전라북도</td>\n      <td>전체(시 / 군 / 구)</td>\n      <td>일반용</td>\n      <td>145,461</td>\n      <td>329,360,343</td>\n      <td>48,419,189,168</td>\n      <td>147.0</td>\n    </tr>\n    <tr>\n      <th>5</th>\n      <td>202107</td>\n      <td>전라북도</td>\n      <td>전체(시 / 군 / 구)</td>\n      <td>교육용</td>\n      <td>1,228</td>\n      <td>29,311,976</td>\n      <td>3,519,406,267</td>\n      <td>120.1</td>\n    </tr>\n    <tr>\n      <th>6</th>\n      <td>202107</td>\n      <td>전라북도</td>\n      <td>전체(시 / 군 / 구)</td>\n      <td>산업용</td>\n      <td>16,301</td>\n      <td>1,041,964,773</td>\n      <td>122,393,530,614</td>\n      <td>117.5</td>\n    </tr>\n    <tr>\n      <th>7</th>\n      <td>202107</td>\n      <td>전라북도</td>\n      <td>전체(시 / 군 / 구)</td>\n      <td>농사용</td>\n      <td>164,685</td>\n      <td>148,595,096</td>\n      <td>6,677,664,906</td>\n      <td>44.9</td>\n    </tr>\n    <tr>\n      <th>...</th>\n      <td>...</td>\n      <td>...</td>\n      <td>...</td>\n      <td>...</td>\n      <td>...</td>\n      <td>...</td>\n      <td>...</td>\n      <td>...</td>\n    </tr>\n    <tr>\n      <th>715</th>\n      <td>202112</td>\n      <td>전라북도</td>\n      <td>진안군</td>\n      <td>산업용</td>\n      <td>973</td>\n      <td>3,107,790</td>\n      <td>421,681,888</td>\n      <td>135.7</td>\n    </tr>\n    <tr>\n      <th>716</th>\n      <td>202112</td>\n      <td>전라북도</td>\n      <td>진안군</td>\n      <td>심 야</td>\n      <td>1,703</td>\n      <td>2,639,426</td>\n      <td>198,524,490</td>\n      <td>75.2</td>\n    </tr>\n    <tr>\n      <th>717</th>\n      <td>202112</td>\n      <td>전라북도</td>\n      <td>진안군</td>\n      <td>일반용</td>\n      <td>2,251</td>\n      <td>4,597,606</td>\n      <td>635,073,792</td>\n      <td>138.1</td>\n    </tr>\n    <tr>\n      <th>718</th>\n      <td>202112</td>\n      <td>전라북도</td>\n      <td>진안군</td>\n      <td>주택용</td>\n      <td>15,603</td>\n      <td>2,648,618</td>\n      <td>314,996,614</td>\n      <td>118.9</td>\n    </tr>\n    <tr>\n      <th>719</th>\n      <td>202112</td>\n      <td>전라북도</td>\n      <td>진안군</td>\n      <td>합계</td>\n      <td>33,685</td>\n      <td>20,318,535</td>\n      <td>2,015,818,896</td>\n      <td>99.2</td>\n    </tr>\n  </tbody>\n</table>\n<p>716 rows × 8 columns</p>\n</div>"
     },
     "execution_count": 79,
     "metadata": {},
     "output_type": "execute_result"
    }
   ],
   "source": [
    "df.columns = a\n",
    "df"
   ],
   "metadata": {
    "collapsed": false,
    "pycharm": {
     "name": "#%%\n"
    }
   }
  },
  {
   "cell_type": "code",
   "execution_count": 80,
   "outputs": [
    {
     "data": {
      "text/plain": "        년월    시구            시군구 계약구분    고객호수(호)        사용량(kWh)  \\\n3   202107  전라북도  전체(시 / 군 / 구)  주택용   682,974     220,696,722    \n4   202107  전라북도  전체(시 / 군 / 구)  일반용   145,461     329,360,343    \n5   202107  전라북도  전체(시 / 군 / 구)  교육용     1,228      29,311,976    \n6   202107  전라북도  전체(시 / 군 / 구)  산업용    16,301   1,041,964,773    \n7   202107  전라북도  전체(시 / 군 / 구)  농사용   164,685     148,595,096    \n8   202107  전라북도  전체(시 / 군 / 구)  가로등   159,594      14,805,297    \n9   202107  전라북도  전체(시 / 군 / 구)  심 야    57,534      18,728,282    \n10  202108  전라북도  전체(시 / 군 / 구)  주택용   683,191     293,096,179    \n11  202108  전라북도  전체(시 / 군 / 구)  일반용   145,785     381,865,469    \n12  202108  전라북도  전체(시 / 군 / 구)  교육용     1,229      27,547,015    \n13  202108  전라북도  전체(시 / 군 / 구)  산업용    16,313     994,663,979    \n14  202108  전라북도  전체(시 / 군 / 구)  농사용   165,727     194,959,649    \n15  202108  전라북도  전체(시 / 군 / 구)  가로등   159,884      15,763,811    \n16  202108  전라북도  전체(시 / 군 / 구)  심 야    57,363      15,431,946    \n17  202109  전라북도  전체(시 / 군 / 구)  주택용   683,902     238,600,327    \n18  202109  전라북도  전체(시 / 군 / 구)  일반용   145,976     334,549,785    \n19  202109  전라북도  전체(시 / 군 / 구)  교육용     1,230      27,987,209    \n20  202109  전라북도  전체(시 / 군 / 구)  산업용    16,323     981,138,056    \n21  202109  전라북도  전체(시 / 군 / 구)  농사용   166,797     176,250,901    \n22  202109  전라북도  전체(시 / 군 / 구)  가로등   160,212      16,044,580    \n23  202109  전라북도  전체(시 / 군 / 구)  심 야    57,219      16,485,560    \n24  202110  전라북도  전체(시 / 군 / 구)  주택용   684,443     203,861,481    \n25  202110  전라북도  전체(시 / 군 / 구)  일반용   146,068     284,838,927    \n26  202110  전라북도  전체(시 / 군 / 구)  교육용     1,229      24,946,335    \n27  202110  전라북도  전체(시 / 군 / 구)  산업용    16,353     986,508,133    \n28  202110  전라북도  전체(시 / 군 / 구)  농사용   167,314     141,163,163    \n29  202110  전라북도  전체(시 / 군 / 구)  가로등   160,655      17,315,145    \n30  202110  전라북도  전체(시 / 군 / 구)  심 야    57,086      20,830,437    \n31  202111  전라북도  전체(시 / 군 / 구)  주택용   685,200     209,063,610    \n32  202111  전라북도  전체(시 / 군 / 구)  일반용   146,510     292,211,091    \n33  202111  전라북도  전체(시 / 군 / 구)  교육용     1,228      29,229,187    \n34  202111  전라북도  전체(시 / 군 / 구)  산업용    16,394     946,738,898    \n35  202111  전라북도  전체(시 / 군 / 구)  농사용   240,363     188,105,593    \n36  202111  전라북도  전체(시 / 군 / 구)  가로등   160,903      18,116,574    \n37  202111  전라북도  전체(시 / 군 / 구)  심 야    56,967      52,604,194    \n38  202112  전라북도  전체(시 / 군 / 구)  주택용   685,619     219,731,384    \n39  202112  전라북도  전체(시 / 군 / 구)  일반용   147,151     334,618,301    \n40  202112  전라북도  전체(시 / 군 / 구)  교육용     1,225      40,084,805    \n41  202112  전라북도  전체(시 / 군 / 구)  산업용    16,392     984,197,150    \n42  202112  전라북도  전체(시 / 군 / 구)  농사용   204,378     183,127,330    \n43  202112  전라북도  전체(시 / 군 / 구)  가로등   161,061      18,602,621    \n44  202112  전라북도  전체(시 / 군 / 구)  심 야    56,788      83,980,804    \n45      합계    합계             합계   합계  7,502,255  10,797,722,118   \n\n              전기요금(원) 평균판매단가(원/kWh)  \n3     22,284,723,414         101.0   \n4     48,419,189,168         147.0   \n5      3,519,406,267         120.1   \n6    122,393,530,614         117.5   \n7      6,677,664,906          44.9   \n8      1,777,560,472         120.1   \n9      1,030,116,334          55.0   \n10    32,710,227,833         111.6   \n11    53,873,153,727         141.1   \n12     3,452,695,714         125.3   \n13   110,555,951,571         111.1   \n14     8,432,639,723          43.3   \n15     1,818,967,239         115.4   \n16       872,956,808          56.6   \n17    24,197,843,761         101.4   \n18    43,186,287,383         129.1   \n19     3,015,326,179         107.7   \n20    89,960,074,069          91.7   \n21     7,869,593,560          44.6   \n22     1,806,678,029         112.6   \n23       912,848,746          55.4   \n24    21,740,350,143         106.6   \n25    33,914,652,859         119.1   \n26     2,401,692,883          96.3   \n27    89,936,001,299          91.2   \n28     7,037,720,973          49.9   \n29     1,883,313,921         108.8   \n30     1,172,322,144          56.3   \n31    22,685,167,942         108.5   \n32    38,644,763,475         132.2   \n33     3,109,356,549         106.4   \n34   109,962,999,324         116.1   \n35     8,296,590,773          44.1   \n36     1,929,750,570         106.5   \n37     3,335,059,156          63.4   \n38    24,026,944,393         109.3   \n39    47,142,895,953         140.9   \n40     4,102,523,093         102.3   \n41   114,949,714,642         116.8   \n42     8,422,455,451          46.0   \n43     1,927,820,006         103.6   \n44     6,252,314,650          74.4   \n45  1,141,641,845,716         105.7  ",
      "text/html": "<div>\n<style scoped>\n    .dataframe tbody tr th:only-of-type {\n        vertical-align: middle;\n    }\n\n    .dataframe tbody tr th {\n        vertical-align: top;\n    }\n\n    .dataframe thead th {\n        text-align: right;\n    }\n</style>\n<table border=\"1\" class=\"dataframe\">\n  <thead>\n    <tr style=\"text-align: right;\">\n      <th></th>\n      <th>년월</th>\n      <th>시구</th>\n      <th>시군구</th>\n      <th>계약구분</th>\n      <th>고객호수(호)</th>\n      <th>사용량(kWh)</th>\n      <th>전기요금(원)</th>\n      <th>평균판매단가(원/kWh)</th>\n    </tr>\n  </thead>\n  <tbody>\n    <tr>\n      <th>3</th>\n      <td>202107</td>\n      <td>전라북도</td>\n      <td>전체(시 / 군 / 구)</td>\n      <td>주택용</td>\n      <td>682,974</td>\n      <td>220,696,722</td>\n      <td>22,284,723,414</td>\n      <td>101.0</td>\n    </tr>\n    <tr>\n      <th>4</th>\n      <td>202107</td>\n      <td>전라북도</td>\n      <td>전체(시 / 군 / 구)</td>\n      <td>일반용</td>\n      <td>145,461</td>\n      <td>329,360,343</td>\n      <td>48,419,189,168</td>\n      <td>147.0</td>\n    </tr>\n    <tr>\n      <th>5</th>\n      <td>202107</td>\n      <td>전라북도</td>\n      <td>전체(시 / 군 / 구)</td>\n      <td>교육용</td>\n      <td>1,228</td>\n      <td>29,311,976</td>\n      <td>3,519,406,267</td>\n      <td>120.1</td>\n    </tr>\n    <tr>\n      <th>6</th>\n      <td>202107</td>\n      <td>전라북도</td>\n      <td>전체(시 / 군 / 구)</td>\n      <td>산업용</td>\n      <td>16,301</td>\n      <td>1,041,964,773</td>\n      <td>122,393,530,614</td>\n      <td>117.5</td>\n    </tr>\n    <tr>\n      <th>7</th>\n      <td>202107</td>\n      <td>전라북도</td>\n      <td>전체(시 / 군 / 구)</td>\n      <td>농사용</td>\n      <td>164,685</td>\n      <td>148,595,096</td>\n      <td>6,677,664,906</td>\n      <td>44.9</td>\n    </tr>\n    <tr>\n      <th>8</th>\n      <td>202107</td>\n      <td>전라북도</td>\n      <td>전체(시 / 군 / 구)</td>\n      <td>가로등</td>\n      <td>159,594</td>\n      <td>14,805,297</td>\n      <td>1,777,560,472</td>\n      <td>120.1</td>\n    </tr>\n    <tr>\n      <th>9</th>\n      <td>202107</td>\n      <td>전라북도</td>\n      <td>전체(시 / 군 / 구)</td>\n      <td>심 야</td>\n      <td>57,534</td>\n      <td>18,728,282</td>\n      <td>1,030,116,334</td>\n      <td>55.0</td>\n    </tr>\n    <tr>\n      <th>10</th>\n      <td>202108</td>\n      <td>전라북도</td>\n      <td>전체(시 / 군 / 구)</td>\n      <td>주택용</td>\n      <td>683,191</td>\n      <td>293,096,179</td>\n      <td>32,710,227,833</td>\n      <td>111.6</td>\n    </tr>\n    <tr>\n      <th>11</th>\n      <td>202108</td>\n      <td>전라북도</td>\n      <td>전체(시 / 군 / 구)</td>\n      <td>일반용</td>\n      <td>145,785</td>\n      <td>381,865,469</td>\n      <td>53,873,153,727</td>\n      <td>141.1</td>\n    </tr>\n    <tr>\n      <th>12</th>\n      <td>202108</td>\n      <td>전라북도</td>\n      <td>전체(시 / 군 / 구)</td>\n      <td>교육용</td>\n      <td>1,229</td>\n      <td>27,547,015</td>\n      <td>3,452,695,714</td>\n      <td>125.3</td>\n    </tr>\n    <tr>\n      <th>13</th>\n      <td>202108</td>\n      <td>전라북도</td>\n      <td>전체(시 / 군 / 구)</td>\n      <td>산업용</td>\n      <td>16,313</td>\n      <td>994,663,979</td>\n      <td>110,555,951,571</td>\n      <td>111.1</td>\n    </tr>\n    <tr>\n      <th>14</th>\n      <td>202108</td>\n      <td>전라북도</td>\n      <td>전체(시 / 군 / 구)</td>\n      <td>농사용</td>\n      <td>165,727</td>\n      <td>194,959,649</td>\n      <td>8,432,639,723</td>\n      <td>43.3</td>\n    </tr>\n    <tr>\n      <th>15</th>\n      <td>202108</td>\n      <td>전라북도</td>\n      <td>전체(시 / 군 / 구)</td>\n      <td>가로등</td>\n      <td>159,884</td>\n      <td>15,763,811</td>\n      <td>1,818,967,239</td>\n      <td>115.4</td>\n    </tr>\n    <tr>\n      <th>16</th>\n      <td>202108</td>\n      <td>전라북도</td>\n      <td>전체(시 / 군 / 구)</td>\n      <td>심 야</td>\n      <td>57,363</td>\n      <td>15,431,946</td>\n      <td>872,956,808</td>\n      <td>56.6</td>\n    </tr>\n    <tr>\n      <th>17</th>\n      <td>202109</td>\n      <td>전라북도</td>\n      <td>전체(시 / 군 / 구)</td>\n      <td>주택용</td>\n      <td>683,902</td>\n      <td>238,600,327</td>\n      <td>24,197,843,761</td>\n      <td>101.4</td>\n    </tr>\n    <tr>\n      <th>18</th>\n      <td>202109</td>\n      <td>전라북도</td>\n      <td>전체(시 / 군 / 구)</td>\n      <td>일반용</td>\n      <td>145,976</td>\n      <td>334,549,785</td>\n      <td>43,186,287,383</td>\n      <td>129.1</td>\n    </tr>\n    <tr>\n      <th>19</th>\n      <td>202109</td>\n      <td>전라북도</td>\n      <td>전체(시 / 군 / 구)</td>\n      <td>교육용</td>\n      <td>1,230</td>\n      <td>27,987,209</td>\n      <td>3,015,326,179</td>\n      <td>107.7</td>\n    </tr>\n    <tr>\n      <th>20</th>\n      <td>202109</td>\n      <td>전라북도</td>\n      <td>전체(시 / 군 / 구)</td>\n      <td>산업용</td>\n      <td>16,323</td>\n      <td>981,138,056</td>\n      <td>89,960,074,069</td>\n      <td>91.7</td>\n    </tr>\n    <tr>\n      <th>21</th>\n      <td>202109</td>\n      <td>전라북도</td>\n      <td>전체(시 / 군 / 구)</td>\n      <td>농사용</td>\n      <td>166,797</td>\n      <td>176,250,901</td>\n      <td>7,869,593,560</td>\n      <td>44.6</td>\n    </tr>\n    <tr>\n      <th>22</th>\n      <td>202109</td>\n      <td>전라북도</td>\n      <td>전체(시 / 군 / 구)</td>\n      <td>가로등</td>\n      <td>160,212</td>\n      <td>16,044,580</td>\n      <td>1,806,678,029</td>\n      <td>112.6</td>\n    </tr>\n    <tr>\n      <th>23</th>\n      <td>202109</td>\n      <td>전라북도</td>\n      <td>전체(시 / 군 / 구)</td>\n      <td>심 야</td>\n      <td>57,219</td>\n      <td>16,485,560</td>\n      <td>912,848,746</td>\n      <td>55.4</td>\n    </tr>\n    <tr>\n      <th>24</th>\n      <td>202110</td>\n      <td>전라북도</td>\n      <td>전체(시 / 군 / 구)</td>\n      <td>주택용</td>\n      <td>684,443</td>\n      <td>203,861,481</td>\n      <td>21,740,350,143</td>\n      <td>106.6</td>\n    </tr>\n    <tr>\n      <th>25</th>\n      <td>202110</td>\n      <td>전라북도</td>\n      <td>전체(시 / 군 / 구)</td>\n      <td>일반용</td>\n      <td>146,068</td>\n      <td>284,838,927</td>\n      <td>33,914,652,859</td>\n      <td>119.1</td>\n    </tr>\n    <tr>\n      <th>26</th>\n      <td>202110</td>\n      <td>전라북도</td>\n      <td>전체(시 / 군 / 구)</td>\n      <td>교육용</td>\n      <td>1,229</td>\n      <td>24,946,335</td>\n      <td>2,401,692,883</td>\n      <td>96.3</td>\n    </tr>\n    <tr>\n      <th>27</th>\n      <td>202110</td>\n      <td>전라북도</td>\n      <td>전체(시 / 군 / 구)</td>\n      <td>산업용</td>\n      <td>16,353</td>\n      <td>986,508,133</td>\n      <td>89,936,001,299</td>\n      <td>91.2</td>\n    </tr>\n    <tr>\n      <th>28</th>\n      <td>202110</td>\n      <td>전라북도</td>\n      <td>전체(시 / 군 / 구)</td>\n      <td>농사용</td>\n      <td>167,314</td>\n      <td>141,163,163</td>\n      <td>7,037,720,973</td>\n      <td>49.9</td>\n    </tr>\n    <tr>\n      <th>29</th>\n      <td>202110</td>\n      <td>전라북도</td>\n      <td>전체(시 / 군 / 구)</td>\n      <td>가로등</td>\n      <td>160,655</td>\n      <td>17,315,145</td>\n      <td>1,883,313,921</td>\n      <td>108.8</td>\n    </tr>\n    <tr>\n      <th>30</th>\n      <td>202110</td>\n      <td>전라북도</td>\n      <td>전체(시 / 군 / 구)</td>\n      <td>심 야</td>\n      <td>57,086</td>\n      <td>20,830,437</td>\n      <td>1,172,322,144</td>\n      <td>56.3</td>\n    </tr>\n    <tr>\n      <th>31</th>\n      <td>202111</td>\n      <td>전라북도</td>\n      <td>전체(시 / 군 / 구)</td>\n      <td>주택용</td>\n      <td>685,200</td>\n      <td>209,063,610</td>\n      <td>22,685,167,942</td>\n      <td>108.5</td>\n    </tr>\n    <tr>\n      <th>32</th>\n      <td>202111</td>\n      <td>전라북도</td>\n      <td>전체(시 / 군 / 구)</td>\n      <td>일반용</td>\n      <td>146,510</td>\n      <td>292,211,091</td>\n      <td>38,644,763,475</td>\n      <td>132.2</td>\n    </tr>\n    <tr>\n      <th>33</th>\n      <td>202111</td>\n      <td>전라북도</td>\n      <td>전체(시 / 군 / 구)</td>\n      <td>교육용</td>\n      <td>1,228</td>\n      <td>29,229,187</td>\n      <td>3,109,356,549</td>\n      <td>106.4</td>\n    </tr>\n    <tr>\n      <th>34</th>\n      <td>202111</td>\n      <td>전라북도</td>\n      <td>전체(시 / 군 / 구)</td>\n      <td>산업용</td>\n      <td>16,394</td>\n      <td>946,738,898</td>\n      <td>109,962,999,324</td>\n      <td>116.1</td>\n    </tr>\n    <tr>\n      <th>35</th>\n      <td>202111</td>\n      <td>전라북도</td>\n      <td>전체(시 / 군 / 구)</td>\n      <td>농사용</td>\n      <td>240,363</td>\n      <td>188,105,593</td>\n      <td>8,296,590,773</td>\n      <td>44.1</td>\n    </tr>\n    <tr>\n      <th>36</th>\n      <td>202111</td>\n      <td>전라북도</td>\n      <td>전체(시 / 군 / 구)</td>\n      <td>가로등</td>\n      <td>160,903</td>\n      <td>18,116,574</td>\n      <td>1,929,750,570</td>\n      <td>106.5</td>\n    </tr>\n    <tr>\n      <th>37</th>\n      <td>202111</td>\n      <td>전라북도</td>\n      <td>전체(시 / 군 / 구)</td>\n      <td>심 야</td>\n      <td>56,967</td>\n      <td>52,604,194</td>\n      <td>3,335,059,156</td>\n      <td>63.4</td>\n    </tr>\n    <tr>\n      <th>38</th>\n      <td>202112</td>\n      <td>전라북도</td>\n      <td>전체(시 / 군 / 구)</td>\n      <td>주택용</td>\n      <td>685,619</td>\n      <td>219,731,384</td>\n      <td>24,026,944,393</td>\n      <td>109.3</td>\n    </tr>\n    <tr>\n      <th>39</th>\n      <td>202112</td>\n      <td>전라북도</td>\n      <td>전체(시 / 군 / 구)</td>\n      <td>일반용</td>\n      <td>147,151</td>\n      <td>334,618,301</td>\n      <td>47,142,895,953</td>\n      <td>140.9</td>\n    </tr>\n    <tr>\n      <th>40</th>\n      <td>202112</td>\n      <td>전라북도</td>\n      <td>전체(시 / 군 / 구)</td>\n      <td>교육용</td>\n      <td>1,225</td>\n      <td>40,084,805</td>\n      <td>4,102,523,093</td>\n      <td>102.3</td>\n    </tr>\n    <tr>\n      <th>41</th>\n      <td>202112</td>\n      <td>전라북도</td>\n      <td>전체(시 / 군 / 구)</td>\n      <td>산업용</td>\n      <td>16,392</td>\n      <td>984,197,150</td>\n      <td>114,949,714,642</td>\n      <td>116.8</td>\n    </tr>\n    <tr>\n      <th>42</th>\n      <td>202112</td>\n      <td>전라북도</td>\n      <td>전체(시 / 군 / 구)</td>\n      <td>농사용</td>\n      <td>204,378</td>\n      <td>183,127,330</td>\n      <td>8,422,455,451</td>\n      <td>46.0</td>\n    </tr>\n    <tr>\n      <th>43</th>\n      <td>202112</td>\n      <td>전라북도</td>\n      <td>전체(시 / 군 / 구)</td>\n      <td>가로등</td>\n      <td>161,061</td>\n      <td>18,602,621</td>\n      <td>1,927,820,006</td>\n      <td>103.6</td>\n    </tr>\n    <tr>\n      <th>44</th>\n      <td>202112</td>\n      <td>전라북도</td>\n      <td>전체(시 / 군 / 구)</td>\n      <td>심 야</td>\n      <td>56,788</td>\n      <td>83,980,804</td>\n      <td>6,252,314,650</td>\n      <td>74.4</td>\n    </tr>\n    <tr>\n      <th>45</th>\n      <td>합계</td>\n      <td>합계</td>\n      <td>합계</td>\n      <td>합계</td>\n      <td>7,502,255</td>\n      <td>10,797,722,118</td>\n      <td>1,141,641,845,716</td>\n      <td>105.7</td>\n    </tr>\n  </tbody>\n</table>\n</div>"
     },
     "execution_count": 80,
     "metadata": {},
     "output_type": "execute_result"
    }
   ],
   "source": [
    "df_2 = df.loc[:45]\n",
    "df_2\n"
   ],
   "metadata": {
    "collapsed": false,
    "pycharm": {
     "name": "#%%\n"
    }
   }
  },
  {
   "cell_type": "code",
   "execution_count": 81,
   "outputs": [
    {
     "name": "stderr",
     "output_type": "stream",
     "text": [
      "C:\\Users\\user\\AppData\\Local\\Temp\\ipykernel_12104\\3551721261.py:3: SettingWithCopyWarning: \n",
      "A value is trying to be set on a copy of a slice from a DataFrame\n",
      "\n",
      "See the caveats in the documentation: https://pandas.pydata.org/pandas-docs/stable/user_guide/indexing.html#returning-a-view-versus-a-copy\n",
      "  GyeonGi.drop(['시군구' , '전기요금(원)' , '평균판매단가(원/kWh)'] , axis = 1 , inplace = True)\n"
     ]
    },
    {
     "data": {
      "text/plain": "        년월    시구 계약구분   고객호수(호)      사용량(kWh)\n4   202107  전라북도  일반용  145,461   329,360,343 \n11  202108  전라북도  일반용  145,785   381,865,469 \n18  202109  전라북도  일반용  145,976   334,549,785 \n25  202110  전라북도  일반용  146,068   284,838,927 \n32  202111  전라북도  일반용  146,510   292,211,091 \n39  202112  전라북도  일반용  147,151   334,618,301 ",
      "text/html": "<div>\n<style scoped>\n    .dataframe tbody tr th:only-of-type {\n        vertical-align: middle;\n    }\n\n    .dataframe tbody tr th {\n        vertical-align: top;\n    }\n\n    .dataframe thead th {\n        text-align: right;\n    }\n</style>\n<table border=\"1\" class=\"dataframe\">\n  <thead>\n    <tr style=\"text-align: right;\">\n      <th></th>\n      <th>년월</th>\n      <th>시구</th>\n      <th>계약구분</th>\n      <th>고객호수(호)</th>\n      <th>사용량(kWh)</th>\n    </tr>\n  </thead>\n  <tbody>\n    <tr>\n      <th>4</th>\n      <td>202107</td>\n      <td>전라북도</td>\n      <td>일반용</td>\n      <td>145,461</td>\n      <td>329,360,343</td>\n    </tr>\n    <tr>\n      <th>11</th>\n      <td>202108</td>\n      <td>전라북도</td>\n      <td>일반용</td>\n      <td>145,785</td>\n      <td>381,865,469</td>\n    </tr>\n    <tr>\n      <th>18</th>\n      <td>202109</td>\n      <td>전라북도</td>\n      <td>일반용</td>\n      <td>145,976</td>\n      <td>334,549,785</td>\n    </tr>\n    <tr>\n      <th>25</th>\n      <td>202110</td>\n      <td>전라북도</td>\n      <td>일반용</td>\n      <td>146,068</td>\n      <td>284,838,927</td>\n    </tr>\n    <tr>\n      <th>32</th>\n      <td>202111</td>\n      <td>전라북도</td>\n      <td>일반용</td>\n      <td>146,510</td>\n      <td>292,211,091</td>\n    </tr>\n    <tr>\n      <th>39</th>\n      <td>202112</td>\n      <td>전라북도</td>\n      <td>일반용</td>\n      <td>147,151</td>\n      <td>334,618,301</td>\n    </tr>\n  </tbody>\n</table>\n</div>"
     },
     "execution_count": 81,
     "metadata": {},
     "output_type": "execute_result"
    }
   ],
   "source": [
    "GyeonGi  = df_2.loc[(df_2['계약구분'] == '일반용')]\n",
    "#SEOUL = df_3.loc[(df_3['계약구분'] =='일반용')]\n",
    "GyeonGi.drop(['시군구' , '전기요금(원)' , '평균판매단가(원/kWh)'] , axis = 1 , inplace = True)\n",
    "GyeonGi"
   ],
   "metadata": {
    "collapsed": false,
    "pycharm": {
     "name": "#%%\n"
    }
   }
  },
  {
   "cell_type": "code",
   "execution_count": 82,
   "outputs": [],
   "source": [
    "#SEOUL1.to_csv(\"서울특별시_계약종별_전국_전력사용량_2022.csv\" , mode = 'w' , encoding= 'cp949')"
   ],
   "metadata": {
    "collapsed": false,
    "pycharm": {
     "name": "#%%\n"
    }
   }
  },
  {
   "cell_type": "code",
   "execution_count": 83,
   "outputs": [],
   "source": [
    "#df_2.to_csv(\"서울특별시_계약종별_전국_전력사용량.csv\" , mode = 'w' , encoding= 'cp949')"
   ],
   "metadata": {
    "collapsed": false,
    "pycharm": {
     "name": "#%%\n"
    }
   }
  },
  {
   "cell_type": "code",
   "execution_count": 84,
   "outputs": [
    {
     "data": {
      "text/plain": "         년월    시구  시군구 계약구분 고객호수(호)     사용량(kWh)\n53   202107  전라북도  고창군  일반용  4,910    9,316,978 \n165  202108  전라북도  고창군  일반용  4,907   11,153,873 \n277  202109  전라북도  고창군  일반용  4,917   14,803,104 \n389  202110  전라북도  고창군  일반용  4,916    3,624,656 \n501  202111  전라북도  고창군  일반용  4,937    8,944,086 \n..      ...   ...  ...  ...     ...          ...\n269  202108  전라북도  진안군  일반용  2,242    4,108,600 \n381  202109  전라북도  진안군  일반용  2,247    3,659,896 \n493  202110  전라북도  진안군  일반용  2,239    3,426,157 \n605  202111  전라북도  진안군  일반용  2,239    3,998,053 \n717  202112  전라북도  진안군  일반용  2,251    4,597,606 \n\n[84 rows x 6 columns]",
      "text/html": "<div>\n<style scoped>\n    .dataframe tbody tr th:only-of-type {\n        vertical-align: middle;\n    }\n\n    .dataframe tbody tr th {\n        vertical-align: top;\n    }\n\n    .dataframe thead th {\n        text-align: right;\n    }\n</style>\n<table border=\"1\" class=\"dataframe\">\n  <thead>\n    <tr style=\"text-align: right;\">\n      <th></th>\n      <th>년월</th>\n      <th>시구</th>\n      <th>시군구</th>\n      <th>계약구분</th>\n      <th>고객호수(호)</th>\n      <th>사용량(kWh)</th>\n    </tr>\n  </thead>\n  <tbody>\n    <tr>\n      <th>53</th>\n      <td>202107</td>\n      <td>전라북도</td>\n      <td>고창군</td>\n      <td>일반용</td>\n      <td>4,910</td>\n      <td>9,316,978</td>\n    </tr>\n    <tr>\n      <th>165</th>\n      <td>202108</td>\n      <td>전라북도</td>\n      <td>고창군</td>\n      <td>일반용</td>\n      <td>4,907</td>\n      <td>11,153,873</td>\n    </tr>\n    <tr>\n      <th>277</th>\n      <td>202109</td>\n      <td>전라북도</td>\n      <td>고창군</td>\n      <td>일반용</td>\n      <td>4,917</td>\n      <td>14,803,104</td>\n    </tr>\n    <tr>\n      <th>389</th>\n      <td>202110</td>\n      <td>전라북도</td>\n      <td>고창군</td>\n      <td>일반용</td>\n      <td>4,916</td>\n      <td>3,624,656</td>\n    </tr>\n    <tr>\n      <th>501</th>\n      <td>202111</td>\n      <td>전라북도</td>\n      <td>고창군</td>\n      <td>일반용</td>\n      <td>4,937</td>\n      <td>8,944,086</td>\n    </tr>\n    <tr>\n      <th>...</th>\n      <td>...</td>\n      <td>...</td>\n      <td>...</td>\n      <td>...</td>\n      <td>...</td>\n      <td>...</td>\n    </tr>\n    <tr>\n      <th>269</th>\n      <td>202108</td>\n      <td>전라북도</td>\n      <td>진안군</td>\n      <td>일반용</td>\n      <td>2,242</td>\n      <td>4,108,600</td>\n    </tr>\n    <tr>\n      <th>381</th>\n      <td>202109</td>\n      <td>전라북도</td>\n      <td>진안군</td>\n      <td>일반용</td>\n      <td>2,247</td>\n      <td>3,659,896</td>\n    </tr>\n    <tr>\n      <th>493</th>\n      <td>202110</td>\n      <td>전라북도</td>\n      <td>진안군</td>\n      <td>일반용</td>\n      <td>2,239</td>\n      <td>3,426,157</td>\n    </tr>\n    <tr>\n      <th>605</th>\n      <td>202111</td>\n      <td>전라북도</td>\n      <td>진안군</td>\n      <td>일반용</td>\n      <td>2,239</td>\n      <td>3,998,053</td>\n    </tr>\n    <tr>\n      <th>717</th>\n      <td>202112</td>\n      <td>전라북도</td>\n      <td>진안군</td>\n      <td>일반용</td>\n      <td>2,251</td>\n      <td>4,597,606</td>\n    </tr>\n  </tbody>\n</table>\n<p>84 rows × 6 columns</p>\n</div>"
     },
     "execution_count": 84,
     "metadata": {},
     "output_type": "execute_result"
    }
   ],
   "source": [
    "df_3 = df.loc[48:]\n",
    "df_3 = df_3.loc[(df_3['계약구분'] == '일반용')]\n",
    "df_3 = df_3.sort_values(by=['시군구' , '년월'])\n",
    "df_3.drop(['전기요금(원)',   '평균판매단가(원/kWh)'] , axis = 1 , inplace = True)\n",
    "df_3"
   ],
   "metadata": {
    "collapsed": false,
    "pycharm": {
     "name": "#%%\n"
    }
   }
  },
  {
   "cell_type": "code",
   "execution_count": 85,
   "outputs": [
    {
     "data": {
      "text/plain": "'전라북도'"
     },
     "execution_count": 85,
     "metadata": {},
     "output_type": "execute_result"
    }
   ],
   "source": [
    "a = df_3.loc[: , \"시구\"]\n",
    "b = a[:1].tolist()\n",
    "for i in b:\n",
    "    City = i\n",
    "City"
   ],
   "metadata": {
    "collapsed": false,
    "pycharm": {
     "name": "#%%\n"
    }
   }
  },
  {
   "cell_type": "code",
   "execution_count": 86,
   "outputs": [
    {
     "data": {
      "text/plain": "['고창군',\n '군산시',\n '김제시',\n '남원시',\n '무주군',\n '부안군',\n '순창군',\n '완주군',\n '익산시',\n '임실군',\n '장수군',\n '전주시',\n '정읍시',\n '진안군']"
     },
     "execution_count": 86,
     "metadata": {},
     "output_type": "execute_result"
    }
   ],
   "source": [
    "\n",
    "SIGUNGU = list(set(df_3.loc[: , '시군구'].tolist()))\n",
    "SIGUNGU.sort()\n",
    "SIGUNGU"
   ],
   "metadata": {
    "collapsed": false,
    "pycharm": {
     "name": "#%%\n"
    }
   }
  },
  {
   "cell_type": "code",
   "execution_count": 87,
   "outputs": [
    {
     "data": {
      "text/plain": "         년월    시구  시군구 계약구분  고객호수(호)     사용량(kWh)\n55   202107  전라북도  고창군   합계  61,417   49,699,086 \n167  202108  전라북도  고창군   합계  61,510   57,037,069 \n279  202109  전라북도  고창군   합계  61,642   57,983,507 \n391  202110  전라북도  고창군   합계  61,763   43,130,634 \n503  202111  전라북도  고창군   합계  65,116   56,029,306 \n..      ...   ...  ...  ...      ...          ...\n271  202108  전라북도  진안군   합계  33,275   17,106,043 \n383  202109  전라북도  진안군   합계  33,426   17,846,560 \n495  202110  전라북도  진안군   합계  33,557   15,920,100 \n607  202111  전라북도  진안군   합계  35,974   19,140,469 \n719  202112  전라북도  진안군   합계  33,685   20,318,535 \n\n[84 rows x 6 columns]",
      "text/html": "<div>\n<style scoped>\n    .dataframe tbody tr th:only-of-type {\n        vertical-align: middle;\n    }\n\n    .dataframe tbody tr th {\n        vertical-align: top;\n    }\n\n    .dataframe thead th {\n        text-align: right;\n    }\n</style>\n<table border=\"1\" class=\"dataframe\">\n  <thead>\n    <tr style=\"text-align: right;\">\n      <th></th>\n      <th>년월</th>\n      <th>시구</th>\n      <th>시군구</th>\n      <th>계약구분</th>\n      <th>고객호수(호)</th>\n      <th>사용량(kWh)</th>\n    </tr>\n  </thead>\n  <tbody>\n    <tr>\n      <th>55</th>\n      <td>202107</td>\n      <td>전라북도</td>\n      <td>고창군</td>\n      <td>합계</td>\n      <td>61,417</td>\n      <td>49,699,086</td>\n    </tr>\n    <tr>\n      <th>167</th>\n      <td>202108</td>\n      <td>전라북도</td>\n      <td>고창군</td>\n      <td>합계</td>\n      <td>61,510</td>\n      <td>57,037,069</td>\n    </tr>\n    <tr>\n      <th>279</th>\n      <td>202109</td>\n      <td>전라북도</td>\n      <td>고창군</td>\n      <td>합계</td>\n      <td>61,642</td>\n      <td>57,983,507</td>\n    </tr>\n    <tr>\n      <th>391</th>\n      <td>202110</td>\n      <td>전라북도</td>\n      <td>고창군</td>\n      <td>합계</td>\n      <td>61,763</td>\n      <td>43,130,634</td>\n    </tr>\n    <tr>\n      <th>503</th>\n      <td>202111</td>\n      <td>전라북도</td>\n      <td>고창군</td>\n      <td>합계</td>\n      <td>65,116</td>\n      <td>56,029,306</td>\n    </tr>\n    <tr>\n      <th>...</th>\n      <td>...</td>\n      <td>...</td>\n      <td>...</td>\n      <td>...</td>\n      <td>...</td>\n      <td>...</td>\n    </tr>\n    <tr>\n      <th>271</th>\n      <td>202108</td>\n      <td>전라북도</td>\n      <td>진안군</td>\n      <td>합계</td>\n      <td>33,275</td>\n      <td>17,106,043</td>\n    </tr>\n    <tr>\n      <th>383</th>\n      <td>202109</td>\n      <td>전라북도</td>\n      <td>진안군</td>\n      <td>합계</td>\n      <td>33,426</td>\n      <td>17,846,560</td>\n    </tr>\n    <tr>\n      <th>495</th>\n      <td>202110</td>\n      <td>전라북도</td>\n      <td>진안군</td>\n      <td>합계</td>\n      <td>33,557</td>\n      <td>15,920,100</td>\n    </tr>\n    <tr>\n      <th>607</th>\n      <td>202111</td>\n      <td>전라북도</td>\n      <td>진안군</td>\n      <td>합계</td>\n      <td>35,974</td>\n      <td>19,140,469</td>\n    </tr>\n    <tr>\n      <th>719</th>\n      <td>202112</td>\n      <td>전라북도</td>\n      <td>진안군</td>\n      <td>합계</td>\n      <td>33,685</td>\n      <td>20,318,535</td>\n    </tr>\n  </tbody>\n</table>\n<p>84 rows × 6 columns</p>\n</div>"
     },
     "execution_count": 87,
     "metadata": {},
     "output_type": "execute_result"
    }
   ],
   "source": [
    "df_4 = df.loc[48:]\n",
    "df_4 = df_4.loc[(df_4['계약구분'] == '합계')]\n",
    "df_4 = df_4.sort_values(by=['시군구' , '년월'])\n",
    "df_4.drop(['전기요금(원)',   '평균판매단가(원/kWh)'] , axis = 1 , inplace = True)\n",
    "df_4"
   ],
   "metadata": {
    "collapsed": false,
    "pycharm": {
     "name": "#%%\n"
    }
   }
  },
  {
   "cell_type": "code",
   "execution_count": 88,
   "outputs": [
    {
     "name": "stdout",
     "output_type": "stream",
     "text": [
      "[49699086, 57037069, 57983507, 43130634, 56029306, 73565667]\n",
      "[522782543, 514819985, 510663481, 506294520, 461314826, 492881888]\n",
      "[88953939, 97884992, 90544868, 81552835, 97465681, 104328015]\n",
      "[51057334, 59453974, 53232838, 48604775, 53144843, 63602631]\n",
      "[15009018, 17145480, 16701018, 15384192, 17998823, 22621011]\n",
      "[40244860, 47448009, 42785683, 37028832, 43324796, 43002185]\n",
      "[22082565, 25361499, 24110586, 21675393, 25863124, 23738402]\n",
      "[146898688, 158509088, 142308523, 133294134, 157519941, 159601635]\n",
      "[265970425, 285992015, 261001563, 239729966, 251535380, 267730353]\n",
      "[23903170, 27034331, 25979844, 23558145, 27354211, 28537773]\n",
      "[13964950, 15999350, 15505600, 14753686, 19012401, 23091343]\n",
      "[396246819, 435349383, 379257748, 355454538, 353385951, 384056983]\n",
      "[152079499, 164186830, 153134599, 143081871, 152979395, 157265974]\n",
      "[14569593, 17106043, 17846560, 15920100, 19140469, 20318535]\n",
      "전라북도 지역별 합계 :  [337445269, 3008757243, 560730330, 329096395, 104859542, 253834365, 142831569, 898132009, 1571959702, 156367474, 102327330, 2303751422, 922728168, 104901300]\n",
      "전라북도 고객호수 평균:  [10913, 23891, 15332, 14297, 5127, 9487, 6280, 12369, 29138, 6075, 4940, 47476, 17425, 5641]\n"
     ]
    }
   ],
   "source": [
    "sum2 , sum3 =[] , []\n",
    "for k in SIGUNGU:\n",
    "    GyeonGiHap = pd.DataFrame([] , columns = a)\n",
    "    HOSU = pd.DataFrame([], columns = a)\n",
    "    GyeonGiHap['사용량']= df_4['사용량(kWh)'].loc[(df_4['시군구'] == '{}'.format(k))]\n",
    "    HOSU['고객호수']= df_4['고객호수(호)'].loc[(df_4['시군구'] == '{}'.format(k))]\n",
    "    #경기합 데이터프레임의 사용량 열에 기군구가 가평군인 사용량 데이터만 뽑아내기\n",
    "    # GyeonGiHap = GyeonGiHap['사용량']\n",
    "\n",
    "    b = GyeonGiHap['사용량'].tolist()\n",
    "    c = HOSU['고객호수'].tolist()\n",
    "\n",
    "\n",
    "    #각지역별 사용량 리스트화\n",
    "    int_list  , int_list2=[] , []\n",
    "    for i in b:\n",
    "        i = re.sub(\",\" , \"\" , i)\n",
    "        #콤마 없애기\n",
    "        int_list.append(int(i))\n",
    "        #int_list에 각지역별 사용량 int로 저장\n",
    "    print(int_list)\n",
    "    sum=0\n",
    "    for i in c:\n",
    "        i = re.sub(\",\" , \"\" , i)\n",
    "        int_list2.append(int(i))\n",
    "\n",
    "    for j in int_list:\n",
    "\n",
    "        sum+= j\n",
    "    sum2.append(sum)\n",
    "    sum = 0\n",
    "    for j in int_list2: #고객호수 추출하여 더하기\n",
    "\n",
    "        sum+= j\n",
    "    sum3.append(sum//36) #6개월 치로 나눠야하나?!\n",
    "\n",
    "\n",
    "\n",
    "\n",
    "print(\"{} 지역별 합계 : \".format(City) , sum2)\n",
    "print(\"{} 고객호수 평균: \".format(City) , sum3)"
   ],
   "metadata": {
    "collapsed": false,
    "pycharm": {
     "name": "#%%\n"
    }
   }
  },
  {
   "cell_type": "markdown",
   "source": [
    "### 2. 날짜 체크!!!!!!!!!!!!!!!!!!!!!!!!!!!!!!!!!!!!!!!!!!!!!!"
   ],
   "metadata": {
    "collapsed": false,
    "pycharm": {
     "name": "#%% md\n"
    }
   }
  },
  {
   "cell_type": "code",
   "execution_count": 89,
   "outputs": [
    {
     "name": "stderr",
     "output_type": "stream",
     "text": [
      "C:\\Users\\user\\AppData\\Local\\Temp\\ipykernel_12104\\895775541.py:4: FutureWarning: The frame.append method is deprecated and will be removed from pandas in a future version. Use pandas.concat instead.\n",
      "  Hap = Hap.append({'년월' :'202107-202112'  , '시구' : '{}'.format(City) , '시군구' : '{}'.format(SIGUNGU[i]) , '계약구분' : '합계' , '고객호수(호)' : sum3[i] ,  '사용량(kWh)' : sum2[i]} , ignore_index=True) #년월 파일마다 수정하기\n",
      "C:\\Users\\user\\AppData\\Local\\Temp\\ipykernel_12104\\895775541.py:4: FutureWarning: The frame.append method is deprecated and will be removed from pandas in a future version. Use pandas.concat instead.\n",
      "  Hap = Hap.append({'년월' :'202107-202112'  , '시구' : '{}'.format(City) , '시군구' : '{}'.format(SIGUNGU[i]) , '계약구분' : '합계' , '고객호수(호)' : sum3[i] ,  '사용량(kWh)' : sum2[i]} , ignore_index=True) #년월 파일마다 수정하기\n",
      "C:\\Users\\user\\AppData\\Local\\Temp\\ipykernel_12104\\895775541.py:4: FutureWarning: The frame.append method is deprecated and will be removed from pandas in a future version. Use pandas.concat instead.\n",
      "  Hap = Hap.append({'년월' :'202107-202112'  , '시구' : '{}'.format(City) , '시군구' : '{}'.format(SIGUNGU[i]) , '계약구분' : '합계' , '고객호수(호)' : sum3[i] ,  '사용량(kWh)' : sum2[i]} , ignore_index=True) #년월 파일마다 수정하기\n",
      "C:\\Users\\user\\AppData\\Local\\Temp\\ipykernel_12104\\895775541.py:4: FutureWarning: The frame.append method is deprecated and will be removed from pandas in a future version. Use pandas.concat instead.\n",
      "  Hap = Hap.append({'년월' :'202107-202112'  , '시구' : '{}'.format(City) , '시군구' : '{}'.format(SIGUNGU[i]) , '계약구분' : '합계' , '고객호수(호)' : sum3[i] ,  '사용량(kWh)' : sum2[i]} , ignore_index=True) #년월 파일마다 수정하기\n",
      "C:\\Users\\user\\AppData\\Local\\Temp\\ipykernel_12104\\895775541.py:4: FutureWarning: The frame.append method is deprecated and will be removed from pandas in a future version. Use pandas.concat instead.\n",
      "  Hap = Hap.append({'년월' :'202107-202112'  , '시구' : '{}'.format(City) , '시군구' : '{}'.format(SIGUNGU[i]) , '계약구분' : '합계' , '고객호수(호)' : sum3[i] ,  '사용량(kWh)' : sum2[i]} , ignore_index=True) #년월 파일마다 수정하기\n",
      "C:\\Users\\user\\AppData\\Local\\Temp\\ipykernel_12104\\895775541.py:4: FutureWarning: The frame.append method is deprecated and will be removed from pandas in a future version. Use pandas.concat instead.\n",
      "  Hap = Hap.append({'년월' :'202107-202112'  , '시구' : '{}'.format(City) , '시군구' : '{}'.format(SIGUNGU[i]) , '계약구분' : '합계' , '고객호수(호)' : sum3[i] ,  '사용량(kWh)' : sum2[i]} , ignore_index=True) #년월 파일마다 수정하기\n",
      "C:\\Users\\user\\AppData\\Local\\Temp\\ipykernel_12104\\895775541.py:4: FutureWarning: The frame.append method is deprecated and will be removed from pandas in a future version. Use pandas.concat instead.\n",
      "  Hap = Hap.append({'년월' :'202107-202112'  , '시구' : '{}'.format(City) , '시군구' : '{}'.format(SIGUNGU[i]) , '계약구분' : '합계' , '고객호수(호)' : sum3[i] ,  '사용량(kWh)' : sum2[i]} , ignore_index=True) #년월 파일마다 수정하기\n",
      "C:\\Users\\user\\AppData\\Local\\Temp\\ipykernel_12104\\895775541.py:4: FutureWarning: The frame.append method is deprecated and will be removed from pandas in a future version. Use pandas.concat instead.\n",
      "  Hap = Hap.append({'년월' :'202107-202112'  , '시구' : '{}'.format(City) , '시군구' : '{}'.format(SIGUNGU[i]) , '계약구분' : '합계' , '고객호수(호)' : sum3[i] ,  '사용량(kWh)' : sum2[i]} , ignore_index=True) #년월 파일마다 수정하기\n",
      "C:\\Users\\user\\AppData\\Local\\Temp\\ipykernel_12104\\895775541.py:4: FutureWarning: The frame.append method is deprecated and will be removed from pandas in a future version. Use pandas.concat instead.\n",
      "  Hap = Hap.append({'년월' :'202107-202112'  , '시구' : '{}'.format(City) , '시군구' : '{}'.format(SIGUNGU[i]) , '계약구분' : '합계' , '고객호수(호)' : sum3[i] ,  '사용량(kWh)' : sum2[i]} , ignore_index=True) #년월 파일마다 수정하기\n",
      "C:\\Users\\user\\AppData\\Local\\Temp\\ipykernel_12104\\895775541.py:4: FutureWarning: The frame.append method is deprecated and will be removed from pandas in a future version. Use pandas.concat instead.\n",
      "  Hap = Hap.append({'년월' :'202107-202112'  , '시구' : '{}'.format(City) , '시군구' : '{}'.format(SIGUNGU[i]) , '계약구분' : '합계' , '고객호수(호)' : sum3[i] ,  '사용량(kWh)' : sum2[i]} , ignore_index=True) #년월 파일마다 수정하기\n",
      "C:\\Users\\user\\AppData\\Local\\Temp\\ipykernel_12104\\895775541.py:4: FutureWarning: The frame.append method is deprecated and will be removed from pandas in a future version. Use pandas.concat instead.\n",
      "  Hap = Hap.append({'년월' :'202107-202112'  , '시구' : '{}'.format(City) , '시군구' : '{}'.format(SIGUNGU[i]) , '계약구분' : '합계' , '고객호수(호)' : sum3[i] ,  '사용량(kWh)' : sum2[i]} , ignore_index=True) #년월 파일마다 수정하기\n",
      "C:\\Users\\user\\AppData\\Local\\Temp\\ipykernel_12104\\895775541.py:4: FutureWarning: The frame.append method is deprecated and will be removed from pandas in a future version. Use pandas.concat instead.\n",
      "  Hap = Hap.append({'년월' :'202107-202112'  , '시구' : '{}'.format(City) , '시군구' : '{}'.format(SIGUNGU[i]) , '계약구분' : '합계' , '고객호수(호)' : sum3[i] ,  '사용량(kWh)' : sum2[i]} , ignore_index=True) #년월 파일마다 수정하기\n",
      "C:\\Users\\user\\AppData\\Local\\Temp\\ipykernel_12104\\895775541.py:4: FutureWarning: The frame.append method is deprecated and will be removed from pandas in a future version. Use pandas.concat instead.\n",
      "  Hap = Hap.append({'년월' :'202107-202112'  , '시구' : '{}'.format(City) , '시군구' : '{}'.format(SIGUNGU[i]) , '계약구분' : '합계' , '고객호수(호)' : sum3[i] ,  '사용량(kWh)' : sum2[i]} , ignore_index=True) #년월 파일마다 수정하기\n",
      "C:\\Users\\user\\AppData\\Local\\Temp\\ipykernel_12104\\895775541.py:4: FutureWarning: The frame.append method is deprecated and will be removed from pandas in a future version. Use pandas.concat instead.\n",
      "  Hap = Hap.append({'년월' :'202107-202112'  , '시구' : '{}'.format(City) , '시군구' : '{}'.format(SIGUNGU[i]) , '계약구분' : '합계' , '고객호수(호)' : sum3[i] ,  '사용량(kWh)' : sum2[i]} , ignore_index=True) #년월 파일마다 수정하기\n"
     ]
    },
    {
     "data": {
      "text/plain": "               년월    시구  시군구 계약구분  고객호수(호)     사용량(kWh)\n0          202107  전라북도  고창군   합계  61,417   49,699,086 \n1          202108  전라북도  고창군   합계  61,510   57,037,069 \n2          202109  전라북도  고창군   합계  61,642   57,983,507 \n3          202110  전라북도  고창군   합계  61,763   43,130,634 \n4          202111  전라북도  고창군   합계  65,116   56,029,306 \n..            ...   ...  ...  ...      ...          ...\n93  202107-202112  전라북도  임실군   합계     6075    156367474\n94  202107-202112  전라북도  장수군   합계     4940    102327330\n95  202107-202112  전라북도  전주시   합계    47476   2303751422\n96  202107-202112  전라북도  정읍시   합계    17425    922728168\n97  202107-202112  전라북도  진안군   합계     5641    104901300\n\n[98 rows x 6 columns]",
      "text/html": "<div>\n<style scoped>\n    .dataframe tbody tr th:only-of-type {\n        vertical-align: middle;\n    }\n\n    .dataframe tbody tr th {\n        vertical-align: top;\n    }\n\n    .dataframe thead th {\n        text-align: right;\n    }\n</style>\n<table border=\"1\" class=\"dataframe\">\n  <thead>\n    <tr style=\"text-align: right;\">\n      <th></th>\n      <th>년월</th>\n      <th>시구</th>\n      <th>시군구</th>\n      <th>계약구분</th>\n      <th>고객호수(호)</th>\n      <th>사용량(kWh)</th>\n    </tr>\n  </thead>\n  <tbody>\n    <tr>\n      <th>0</th>\n      <td>202107</td>\n      <td>전라북도</td>\n      <td>고창군</td>\n      <td>합계</td>\n      <td>61,417</td>\n      <td>49,699,086</td>\n    </tr>\n    <tr>\n      <th>1</th>\n      <td>202108</td>\n      <td>전라북도</td>\n      <td>고창군</td>\n      <td>합계</td>\n      <td>61,510</td>\n      <td>57,037,069</td>\n    </tr>\n    <tr>\n      <th>2</th>\n      <td>202109</td>\n      <td>전라북도</td>\n      <td>고창군</td>\n      <td>합계</td>\n      <td>61,642</td>\n      <td>57,983,507</td>\n    </tr>\n    <tr>\n      <th>3</th>\n      <td>202110</td>\n      <td>전라북도</td>\n      <td>고창군</td>\n      <td>합계</td>\n      <td>61,763</td>\n      <td>43,130,634</td>\n    </tr>\n    <tr>\n      <th>4</th>\n      <td>202111</td>\n      <td>전라북도</td>\n      <td>고창군</td>\n      <td>합계</td>\n      <td>65,116</td>\n      <td>56,029,306</td>\n    </tr>\n    <tr>\n      <th>...</th>\n      <td>...</td>\n      <td>...</td>\n      <td>...</td>\n      <td>...</td>\n      <td>...</td>\n      <td>...</td>\n    </tr>\n    <tr>\n      <th>93</th>\n      <td>202107-202112</td>\n      <td>전라북도</td>\n      <td>임실군</td>\n      <td>합계</td>\n      <td>6075</td>\n      <td>156367474</td>\n    </tr>\n    <tr>\n      <th>94</th>\n      <td>202107-202112</td>\n      <td>전라북도</td>\n      <td>장수군</td>\n      <td>합계</td>\n      <td>4940</td>\n      <td>102327330</td>\n    </tr>\n    <tr>\n      <th>95</th>\n      <td>202107-202112</td>\n      <td>전라북도</td>\n      <td>전주시</td>\n      <td>합계</td>\n      <td>47476</td>\n      <td>2303751422</td>\n    </tr>\n    <tr>\n      <th>96</th>\n      <td>202107-202112</td>\n      <td>전라북도</td>\n      <td>정읍시</td>\n      <td>합계</td>\n      <td>17425</td>\n      <td>922728168</td>\n    </tr>\n    <tr>\n      <th>97</th>\n      <td>202107-202112</td>\n      <td>전라북도</td>\n      <td>진안군</td>\n      <td>합계</td>\n      <td>5641</td>\n      <td>104901300</td>\n    </tr>\n  </tbody>\n</table>\n<p>98 rows × 6 columns</p>\n</div>"
     },
     "execution_count": 89,
     "metadata": {},
     "output_type": "execute_result"
    }
   ],
   "source": [
    "Hap = df_4.copy()\n",
    "Hap.reset_index(drop=True , inplace = True)\n",
    "for i in range(len(SIGUNGU)):\n",
    "    Hap = Hap.append({'년월' :'202107-202112'  , '시구' : '{}'.format(City) , '시군구' : '{}'.format(SIGUNGU[i]) , '계약구분' : '합계' , '고객호수(호)' : sum3[i] ,  '사용량(kWh)' : sum2[i]} , ignore_index=True) #년월 파일마다 수정하기\n",
    "Hap"
   ],
   "metadata": {
    "collapsed": false,
    "pycharm": {
     "name": "#%%\n"
    }
   }
  },
  {
   "cell_type": "markdown",
   "source": [
    "### 3. 날짜 변경!!!!!!!!!!!!!!!!!!!!!!!!!!!!!!!"
   ],
   "metadata": {
    "collapsed": false,
    "pycharm": {
     "name": "#%% md\n"
    }
   }
  },
  {
   "cell_type": "code",
   "execution_count": 90,
   "outputs": [
    {
     "data": {
      "text/plain": "               년월    시구  시군구 계약구분 고객호수(호)    사용량(kWh)\n84  202107-202112  전라북도  고창군   합계   10913   337445269\n85  202107-202112  전라북도  군산시   합계   23891  3008757243\n86  202107-202112  전라북도  김제시   합계   15332   560730330\n87  202107-202112  전라북도  남원시   합계   14297   329096395\n88  202107-202112  전라북도  무주군   합계    5127   104859542\n89  202107-202112  전라북도  부안군   합계    9487   253834365\n90  202107-202112  전라북도  순창군   합계    6280   142831569\n91  202107-202112  전라북도  완주군   합계   12369   898132009\n92  202107-202112  전라북도  익산시   합계   29138  1571959702\n93  202107-202112  전라북도  임실군   합계    6075   156367474\n94  202107-202112  전라북도  장수군   합계    4940   102327330\n95  202107-202112  전라북도  전주시   합계   47476  2303751422\n96  202107-202112  전라북도  정읍시   합계   17425   922728168\n97  202107-202112  전라북도  진안군   합계    5641   104901300",
      "text/html": "<div>\n<style scoped>\n    .dataframe tbody tr th:only-of-type {\n        vertical-align: middle;\n    }\n\n    .dataframe tbody tr th {\n        vertical-align: top;\n    }\n\n    .dataframe thead th {\n        text-align: right;\n    }\n</style>\n<table border=\"1\" class=\"dataframe\">\n  <thead>\n    <tr style=\"text-align: right;\">\n      <th></th>\n      <th>년월</th>\n      <th>시구</th>\n      <th>시군구</th>\n      <th>계약구분</th>\n      <th>고객호수(호)</th>\n      <th>사용량(kWh)</th>\n    </tr>\n  </thead>\n  <tbody>\n    <tr>\n      <th>84</th>\n      <td>202107-202112</td>\n      <td>전라북도</td>\n      <td>고창군</td>\n      <td>합계</td>\n      <td>10913</td>\n      <td>337445269</td>\n    </tr>\n    <tr>\n      <th>85</th>\n      <td>202107-202112</td>\n      <td>전라북도</td>\n      <td>군산시</td>\n      <td>합계</td>\n      <td>23891</td>\n      <td>3008757243</td>\n    </tr>\n    <tr>\n      <th>86</th>\n      <td>202107-202112</td>\n      <td>전라북도</td>\n      <td>김제시</td>\n      <td>합계</td>\n      <td>15332</td>\n      <td>560730330</td>\n    </tr>\n    <tr>\n      <th>87</th>\n      <td>202107-202112</td>\n      <td>전라북도</td>\n      <td>남원시</td>\n      <td>합계</td>\n      <td>14297</td>\n      <td>329096395</td>\n    </tr>\n    <tr>\n      <th>88</th>\n      <td>202107-202112</td>\n      <td>전라북도</td>\n      <td>무주군</td>\n      <td>합계</td>\n      <td>5127</td>\n      <td>104859542</td>\n    </tr>\n    <tr>\n      <th>89</th>\n      <td>202107-202112</td>\n      <td>전라북도</td>\n      <td>부안군</td>\n      <td>합계</td>\n      <td>9487</td>\n      <td>253834365</td>\n    </tr>\n    <tr>\n      <th>90</th>\n      <td>202107-202112</td>\n      <td>전라북도</td>\n      <td>순창군</td>\n      <td>합계</td>\n      <td>6280</td>\n      <td>142831569</td>\n    </tr>\n    <tr>\n      <th>91</th>\n      <td>202107-202112</td>\n      <td>전라북도</td>\n      <td>완주군</td>\n      <td>합계</td>\n      <td>12369</td>\n      <td>898132009</td>\n    </tr>\n    <tr>\n      <th>92</th>\n      <td>202107-202112</td>\n      <td>전라북도</td>\n      <td>익산시</td>\n      <td>합계</td>\n      <td>29138</td>\n      <td>1571959702</td>\n    </tr>\n    <tr>\n      <th>93</th>\n      <td>202107-202112</td>\n      <td>전라북도</td>\n      <td>임실군</td>\n      <td>합계</td>\n      <td>6075</td>\n      <td>156367474</td>\n    </tr>\n    <tr>\n      <th>94</th>\n      <td>202107-202112</td>\n      <td>전라북도</td>\n      <td>장수군</td>\n      <td>합계</td>\n      <td>4940</td>\n      <td>102327330</td>\n    </tr>\n    <tr>\n      <th>95</th>\n      <td>202107-202112</td>\n      <td>전라북도</td>\n      <td>전주시</td>\n      <td>합계</td>\n      <td>47476</td>\n      <td>2303751422</td>\n    </tr>\n    <tr>\n      <th>96</th>\n      <td>202107-202112</td>\n      <td>전라북도</td>\n      <td>정읍시</td>\n      <td>합계</td>\n      <td>17425</td>\n      <td>922728168</td>\n    </tr>\n    <tr>\n      <th>97</th>\n      <td>202107-202112</td>\n      <td>전라북도</td>\n      <td>진안군</td>\n      <td>합계</td>\n      <td>5641</td>\n      <td>104901300</td>\n    </tr>\n  </tbody>\n</table>\n</div>"
     },
     "execution_count": 90,
     "metadata": {},
     "output_type": "execute_result"
    }
   ],
   "source": [
    "Hap = Hap.loc[Hap['년월'] == '202107-202112']\n",
    "Hap"
   ],
   "metadata": {
    "collapsed": false,
    "pycharm": {
     "name": "#%%\n"
    }
   }
  },
  {
   "cell_type": "code",
   "execution_count": 91,
   "outputs": [],
   "source": [
    "# SIGUNGU = SIGUNGU[:1]\n",
    "# SIGUNGU\n",
    "#for i in SIGUNGU:\n",
    "#print('{}'.format(i))\n",
    "# df_3 = df_3.loc[(df_3['시군구'] == '가평군')]\n",
    "#\n",
    "# df_3"
   ],
   "metadata": {
    "collapsed": false,
    "pycharm": {
     "name": "#%%\n"
    }
   }
  },
  {
   "cell_type": "code",
   "execution_count": 92,
   "outputs": [
    {
     "data": {
      "text/plain": "['년월', '시구', '시군구', '계약구분', '고객호수(호)', '사용량(kWh)']"
     },
     "execution_count": 92,
     "metadata": {},
     "output_type": "execute_result"
    }
   ],
   "source": [
    "a = (df_3.columns).tolist()\n",
    "\n",
    "a"
   ],
   "metadata": {
    "collapsed": false,
    "pycharm": {
     "name": "#%%\n"
    }
   }
  },
  {
   "cell_type": "code",
   "execution_count": 93,
   "outputs": [
    {
     "data": {
      "text/plain": "         년월    시구  시군구 계약구분 고객호수(호)     사용량(kWh)\n53   202107  전라북도  고창군  일반용  4,910    9,316,978 \n165  202108  전라북도  고창군  일반용  4,907   11,153,873 \n277  202109  전라북도  고창군  일반용  4,917   14,803,104 \n389  202110  전라북도  고창군  일반용  4,916    3,624,656 \n501  202111  전라북도  고창군  일반용  4,937    8,944,086 \n..      ...   ...  ...  ...     ...          ...\n269  202108  전라북도  진안군  일반용  2,242    4,108,600 \n381  202109  전라북도  진안군  일반용  2,247    3,659,896 \n493  202110  전라북도  진안군  일반용  2,239    3,426,157 \n605  202111  전라북도  진안군  일반용  2,239    3,998,053 \n717  202112  전라북도  진안군  일반용  2,251    4,597,606 \n\n[84 rows x 6 columns]",
      "text/html": "<div>\n<style scoped>\n    .dataframe tbody tr th:only-of-type {\n        vertical-align: middle;\n    }\n\n    .dataframe tbody tr th {\n        vertical-align: top;\n    }\n\n    .dataframe thead th {\n        text-align: right;\n    }\n</style>\n<table border=\"1\" class=\"dataframe\">\n  <thead>\n    <tr style=\"text-align: right;\">\n      <th></th>\n      <th>년월</th>\n      <th>시구</th>\n      <th>시군구</th>\n      <th>계약구분</th>\n      <th>고객호수(호)</th>\n      <th>사용량(kWh)</th>\n    </tr>\n  </thead>\n  <tbody>\n    <tr>\n      <th>53</th>\n      <td>202107</td>\n      <td>전라북도</td>\n      <td>고창군</td>\n      <td>일반용</td>\n      <td>4,910</td>\n      <td>9,316,978</td>\n    </tr>\n    <tr>\n      <th>165</th>\n      <td>202108</td>\n      <td>전라북도</td>\n      <td>고창군</td>\n      <td>일반용</td>\n      <td>4,907</td>\n      <td>11,153,873</td>\n    </tr>\n    <tr>\n      <th>277</th>\n      <td>202109</td>\n      <td>전라북도</td>\n      <td>고창군</td>\n      <td>일반용</td>\n      <td>4,917</td>\n      <td>14,803,104</td>\n    </tr>\n    <tr>\n      <th>389</th>\n      <td>202110</td>\n      <td>전라북도</td>\n      <td>고창군</td>\n      <td>일반용</td>\n      <td>4,916</td>\n      <td>3,624,656</td>\n    </tr>\n    <tr>\n      <th>501</th>\n      <td>202111</td>\n      <td>전라북도</td>\n      <td>고창군</td>\n      <td>일반용</td>\n      <td>4,937</td>\n      <td>8,944,086</td>\n    </tr>\n    <tr>\n      <th>...</th>\n      <td>...</td>\n      <td>...</td>\n      <td>...</td>\n      <td>...</td>\n      <td>...</td>\n      <td>...</td>\n    </tr>\n    <tr>\n      <th>269</th>\n      <td>202108</td>\n      <td>전라북도</td>\n      <td>진안군</td>\n      <td>일반용</td>\n      <td>2,242</td>\n      <td>4,108,600</td>\n    </tr>\n    <tr>\n      <th>381</th>\n      <td>202109</td>\n      <td>전라북도</td>\n      <td>진안군</td>\n      <td>일반용</td>\n      <td>2,247</td>\n      <td>3,659,896</td>\n    </tr>\n    <tr>\n      <th>493</th>\n      <td>202110</td>\n      <td>전라북도</td>\n      <td>진안군</td>\n      <td>일반용</td>\n      <td>2,239</td>\n      <td>3,426,157</td>\n    </tr>\n    <tr>\n      <th>605</th>\n      <td>202111</td>\n      <td>전라북도</td>\n      <td>진안군</td>\n      <td>일반용</td>\n      <td>2,239</td>\n      <td>3,998,053</td>\n    </tr>\n    <tr>\n      <th>717</th>\n      <td>202112</td>\n      <td>전라북도</td>\n      <td>진안군</td>\n      <td>일반용</td>\n      <td>2,251</td>\n      <td>4,597,606</td>\n    </tr>\n  </tbody>\n</table>\n<p>84 rows × 6 columns</p>\n</div>"
     },
     "execution_count": 93,
     "metadata": {},
     "output_type": "execute_result"
    }
   ],
   "source": [
    "df_3"
   ],
   "metadata": {
    "collapsed": false,
    "pycharm": {
     "name": "#%%\n"
    }
   }
  },
  {
   "cell_type": "code",
   "execution_count": 94,
   "outputs": [],
   "source": [
    "# GyeonGiHap = pd.DataFrame([] , columns = a)\n",
    "# GyeonGiHap['사용량']= df_3['사용량(kWh)'].loc[(df_3['시군구'] == '{가평군}')]\n",
    "# GyeonGiHap"
   ],
   "metadata": {
    "collapsed": false,
    "pycharm": {
     "name": "#%%\n"
    }
   }
  },
  {
   "cell_type": "code",
   "execution_count": 95,
   "outputs": [
    {
     "name": "stdout",
     "output_type": "stream",
     "text": [
      "[9316978, 11153873, 14803104, 3624656, 8944086, 9861096]\n",
      "[54190908, 63157809, 54873292, 48248551, 46797790, 52983573]\n",
      "[14034497, 16507418, 14514036, 13006023, 13268095, 14634790]\n",
      "[13357800, 15786693, 13836372, 12333206, 13233340, 15180754]\n",
      "[5567642, 6447512, 5604927, 5355168, 6536637, 10488122]\n",
      "[11223145, 13709750, 11702949, 10180300, 10376002, 11708803]\n",
      "[3804638, 4318826, 3776106, 3383345, 3915789, 4515098]\n",
      "[22678689, 25254996, 21772794, 19244002, 19876931, 22889293]\n",
      "[45248351, 53455375, 45743269, 39588893, 39074464, 44417245]\n",
      "[4745724, 5357132, 4651122, 4285889, 4798134, 5737805]\n",
      "[2914996, 3333443, 2902898, 2732192, 3233585, 3827621]\n",
      "[121553319, 139240010, 119311527, 103920283, 102116537, 115688555]\n",
      "[17188561, 20034032, 17397493, 15510262, 16041648, 18087940]\n",
      "[3535095, 4108600, 3659896, 3426157, 3998053, 4597606]\n",
      "전라북도 지역별 일반용 합계 :  [57703793, 320251923, 85964859, 83728165, 40000008, 68900949, 23713802, 131716705, 267527597, 29575806, 18944735, 701830231, 104259936, 23325407]\n",
      "전라북도 고객호수 평균:  [4923, 21216, 6889, 7803, 2835, 5838, 2387, 7931, 21097, 2413, 1869, 49115, 9591, 2245]\n"
     ]
    }
   ],
   "source": [
    "sum2 , sum3 =[] , []\n",
    "for k in SIGUNGU:\n",
    "    GyeonGiHap = pd.DataFrame([] , columns = a)\n",
    "    HOSU = pd.DataFrame([], columns = a)\n",
    "    GyeonGiHap['사용량']= df_3['사용량(kWh)'].loc[(df_3['시군구'] == '{}'.format(k))]\n",
    "    HOSU['고객호수']= df_3['고객호수(호)'].loc[(df_3['시군구'] == '{}'.format(k))]\n",
    "    #경기합 데이터프레임의 사용량 열에 기군구가 가평군인 사용량 데이터만 뽑아내기\n",
    "    # GyeonGiHap = GyeonGiHap['사용량']\n",
    "\n",
    "    b = GyeonGiHap['사용량'].tolist()\n",
    "    c = HOSU['고객호수'].tolist()\n",
    "\n",
    "\n",
    "    #각지역별 사용량 리스트화\n",
    "    int_list  , int_list2=[] , []\n",
    "    for i in b:\n",
    "        i = re.sub(\",\" , \"\" , i)\n",
    "        #콤마 없애기\n",
    "        int_list.append(int(i))\n",
    "        #int_list에 각지역별 사용량 int로 저장\n",
    "    print(int_list)\n",
    "    sum=0\n",
    "    for i in c:\n",
    "        i = re.sub(\",\" , \"\" , i)\n",
    "        int_list2.append(int(i))\n",
    "\n",
    "    for j in int_list:\n",
    "\n",
    "        sum+= j\n",
    "    sum2.append(sum)\n",
    "    sum = 0\n",
    "    for j in int_list2: #고객호수 추출하여 더하기\n",
    "\n",
    "        sum+= j\n",
    "    sum3.append(sum//6) #6개월 치로 나눠야하나?!\n",
    "\n",
    "\n",
    "\n",
    "\n",
    "print(\"{} 지역별 일반용 합계 : \".format(City) , sum2)\n",
    "print(\"{} 고객호수 평균: \".format(City) , sum3)\n",
    "# GyeonGiHap['합계'] = sum\n",
    "#\n",
    "# GyeonGiHap"
   ],
   "metadata": {
    "collapsed": false,
    "pycharm": {
     "name": "#%%\n"
    }
   }
  },
  {
   "cell_type": "code",
   "execution_count": 96,
   "outputs": [],
   "source": [
    "# df_3 = df_3.loc[(df_3['시군구'] == '가평군')]\n",
    "#\n",
    "# df_3"
   ],
   "metadata": {
    "collapsed": false,
    "pycharm": {
     "name": "#%%\n"
    }
   }
  },
  {
   "cell_type": "code",
   "execution_count": 97,
   "outputs": [],
   "source": [
    "# GyeonGiHap = df_3.copy()\n",
    "# GyeonGiHap.reset_index(drop=True , inplace = True)\n",
    "# GyeonGiHap.append({'년월' : '202107-202112'  , '시구' : '경기도' , '시군구' : '가평군' , '계약구분' : '일반용' , '사용량(kWh)' : sum}, ignore_index=True)"
   ],
   "metadata": {
    "collapsed": false,
    "pycharm": {
     "name": "#%%\n"
    }
   }
  },
  {
   "cell_type": "code",
   "execution_count": 98,
   "outputs": [],
   "source": [
    "# a=[]\n",
    "# for i in SIGUNGU:\n",
    "#     a.append(i)\n",
    "#\n",
    "# print(a)"
   ],
   "metadata": {
    "collapsed": false,
    "pycharm": {
     "name": "#%%\n"
    }
   }
  },
  {
   "cell_type": "markdown",
   "source": [
    "### 4. 년월 체크!!!!!!!!!!!!!!!!!!!!!!!!!!!!!!!!!!!!!!!!!!!!!!!!!!!!!!!!!!!!!!!!!"
   ],
   "metadata": {
    "collapsed": false,
    "pycharm": {
     "name": "#%% md\n"
    }
   }
  },
  {
   "cell_type": "code",
   "execution_count": 99,
   "outputs": [
    {
     "name": "stderr",
     "output_type": "stream",
     "text": [
      "C:\\Users\\user\\AppData\\Local\\Temp\\ipykernel_12104\\2943201010.py:4: FutureWarning: The frame.append method is deprecated and will be removed from pandas in a future version. Use pandas.concat instead.\n",
      "  GyeonGiHap2 = GyeonGiHap2.append({'년월' :'202107-202112'  , '시구' : '{}'.format(City) , '시군구' : '{}'.format(SIGUNGU[i]) , '계약구분' : '일반용' , '고객호수(호)' : sum3[i] ,  '사용량(kWh)' : sum2[i]} , ignore_index=True) #년월 파일마다 수정하기\n",
      "C:\\Users\\user\\AppData\\Local\\Temp\\ipykernel_12104\\2943201010.py:4: FutureWarning: The frame.append method is deprecated and will be removed from pandas in a future version. Use pandas.concat instead.\n",
      "  GyeonGiHap2 = GyeonGiHap2.append({'년월' :'202107-202112'  , '시구' : '{}'.format(City) , '시군구' : '{}'.format(SIGUNGU[i]) , '계약구분' : '일반용' , '고객호수(호)' : sum3[i] ,  '사용량(kWh)' : sum2[i]} , ignore_index=True) #년월 파일마다 수정하기\n",
      "C:\\Users\\user\\AppData\\Local\\Temp\\ipykernel_12104\\2943201010.py:4: FutureWarning: The frame.append method is deprecated and will be removed from pandas in a future version. Use pandas.concat instead.\n",
      "  GyeonGiHap2 = GyeonGiHap2.append({'년월' :'202107-202112'  , '시구' : '{}'.format(City) , '시군구' : '{}'.format(SIGUNGU[i]) , '계약구분' : '일반용' , '고객호수(호)' : sum3[i] ,  '사용량(kWh)' : sum2[i]} , ignore_index=True) #년월 파일마다 수정하기\n",
      "C:\\Users\\user\\AppData\\Local\\Temp\\ipykernel_12104\\2943201010.py:4: FutureWarning: The frame.append method is deprecated and will be removed from pandas in a future version. Use pandas.concat instead.\n",
      "  GyeonGiHap2 = GyeonGiHap2.append({'년월' :'202107-202112'  , '시구' : '{}'.format(City) , '시군구' : '{}'.format(SIGUNGU[i]) , '계약구분' : '일반용' , '고객호수(호)' : sum3[i] ,  '사용량(kWh)' : sum2[i]} , ignore_index=True) #년월 파일마다 수정하기\n",
      "C:\\Users\\user\\AppData\\Local\\Temp\\ipykernel_12104\\2943201010.py:4: FutureWarning: The frame.append method is deprecated and will be removed from pandas in a future version. Use pandas.concat instead.\n",
      "  GyeonGiHap2 = GyeonGiHap2.append({'년월' :'202107-202112'  , '시구' : '{}'.format(City) , '시군구' : '{}'.format(SIGUNGU[i]) , '계약구분' : '일반용' , '고객호수(호)' : sum3[i] ,  '사용량(kWh)' : sum2[i]} , ignore_index=True) #년월 파일마다 수정하기\n",
      "C:\\Users\\user\\AppData\\Local\\Temp\\ipykernel_12104\\2943201010.py:4: FutureWarning: The frame.append method is deprecated and will be removed from pandas in a future version. Use pandas.concat instead.\n",
      "  GyeonGiHap2 = GyeonGiHap2.append({'년월' :'202107-202112'  , '시구' : '{}'.format(City) , '시군구' : '{}'.format(SIGUNGU[i]) , '계약구분' : '일반용' , '고객호수(호)' : sum3[i] ,  '사용량(kWh)' : sum2[i]} , ignore_index=True) #년월 파일마다 수정하기\n",
      "C:\\Users\\user\\AppData\\Local\\Temp\\ipykernel_12104\\2943201010.py:4: FutureWarning: The frame.append method is deprecated and will be removed from pandas in a future version. Use pandas.concat instead.\n",
      "  GyeonGiHap2 = GyeonGiHap2.append({'년월' :'202107-202112'  , '시구' : '{}'.format(City) , '시군구' : '{}'.format(SIGUNGU[i]) , '계약구분' : '일반용' , '고객호수(호)' : sum3[i] ,  '사용량(kWh)' : sum2[i]} , ignore_index=True) #년월 파일마다 수정하기\n",
      "C:\\Users\\user\\AppData\\Local\\Temp\\ipykernel_12104\\2943201010.py:4: FutureWarning: The frame.append method is deprecated and will be removed from pandas in a future version. Use pandas.concat instead.\n",
      "  GyeonGiHap2 = GyeonGiHap2.append({'년월' :'202107-202112'  , '시구' : '{}'.format(City) , '시군구' : '{}'.format(SIGUNGU[i]) , '계약구분' : '일반용' , '고객호수(호)' : sum3[i] ,  '사용량(kWh)' : sum2[i]} , ignore_index=True) #년월 파일마다 수정하기\n",
      "C:\\Users\\user\\AppData\\Local\\Temp\\ipykernel_12104\\2943201010.py:4: FutureWarning: The frame.append method is deprecated and will be removed from pandas in a future version. Use pandas.concat instead.\n",
      "  GyeonGiHap2 = GyeonGiHap2.append({'년월' :'202107-202112'  , '시구' : '{}'.format(City) , '시군구' : '{}'.format(SIGUNGU[i]) , '계약구분' : '일반용' , '고객호수(호)' : sum3[i] ,  '사용량(kWh)' : sum2[i]} , ignore_index=True) #년월 파일마다 수정하기\n",
      "C:\\Users\\user\\AppData\\Local\\Temp\\ipykernel_12104\\2943201010.py:4: FutureWarning: The frame.append method is deprecated and will be removed from pandas in a future version. Use pandas.concat instead.\n",
      "  GyeonGiHap2 = GyeonGiHap2.append({'년월' :'202107-202112'  , '시구' : '{}'.format(City) , '시군구' : '{}'.format(SIGUNGU[i]) , '계약구분' : '일반용' , '고객호수(호)' : sum3[i] ,  '사용량(kWh)' : sum2[i]} , ignore_index=True) #년월 파일마다 수정하기\n",
      "C:\\Users\\user\\AppData\\Local\\Temp\\ipykernel_12104\\2943201010.py:4: FutureWarning: The frame.append method is deprecated and will be removed from pandas in a future version. Use pandas.concat instead.\n",
      "  GyeonGiHap2 = GyeonGiHap2.append({'년월' :'202107-202112'  , '시구' : '{}'.format(City) , '시군구' : '{}'.format(SIGUNGU[i]) , '계약구분' : '일반용' , '고객호수(호)' : sum3[i] ,  '사용량(kWh)' : sum2[i]} , ignore_index=True) #년월 파일마다 수정하기\n",
      "C:\\Users\\user\\AppData\\Local\\Temp\\ipykernel_12104\\2943201010.py:4: FutureWarning: The frame.append method is deprecated and will be removed from pandas in a future version. Use pandas.concat instead.\n",
      "  GyeonGiHap2 = GyeonGiHap2.append({'년월' :'202107-202112'  , '시구' : '{}'.format(City) , '시군구' : '{}'.format(SIGUNGU[i]) , '계약구분' : '일반용' , '고객호수(호)' : sum3[i] ,  '사용량(kWh)' : sum2[i]} , ignore_index=True) #년월 파일마다 수정하기\n",
      "C:\\Users\\user\\AppData\\Local\\Temp\\ipykernel_12104\\2943201010.py:4: FutureWarning: The frame.append method is deprecated and will be removed from pandas in a future version. Use pandas.concat instead.\n",
      "  GyeonGiHap2 = GyeonGiHap2.append({'년월' :'202107-202112'  , '시구' : '{}'.format(City) , '시군구' : '{}'.format(SIGUNGU[i]) , '계약구분' : '일반용' , '고객호수(호)' : sum3[i] ,  '사용량(kWh)' : sum2[i]} , ignore_index=True) #년월 파일마다 수정하기\n",
      "C:\\Users\\user\\AppData\\Local\\Temp\\ipykernel_12104\\2943201010.py:4: FutureWarning: The frame.append method is deprecated and will be removed from pandas in a future version. Use pandas.concat instead.\n",
      "  GyeonGiHap2 = GyeonGiHap2.append({'년월' :'202107-202112'  , '시구' : '{}'.format(City) , '시군구' : '{}'.format(SIGUNGU[i]) , '계약구분' : '일반용' , '고객호수(호)' : sum3[i] ,  '사용량(kWh)' : sum2[i]} , ignore_index=True) #년월 파일마다 수정하기\n"
     ]
    },
    {
     "data": {
      "text/plain": "               년월    시구  시군구 계약구분 고객호수(호)     사용량(kWh)\n0          202107  전라북도  고창군  일반용  4,910    9,316,978 \n1          202108  전라북도  고창군  일반용  4,907   11,153,873 \n2          202109  전라북도  고창군  일반용  4,917   14,803,104 \n3          202110  전라북도  고창군  일반용  4,916    3,624,656 \n4          202111  전라북도  고창군  일반용  4,937    8,944,086 \n..            ...   ...  ...  ...     ...          ...\n93  202107-202112  전라북도  임실군  일반용    2413     29575806\n94  202107-202112  전라북도  장수군  일반용    1869     18944735\n95  202107-202112  전라북도  전주시  일반용   49115    701830231\n96  202107-202112  전라북도  정읍시  일반용    9591    104259936\n97  202107-202112  전라북도  진안군  일반용    2245     23325407\n\n[98 rows x 6 columns]",
      "text/html": "<div>\n<style scoped>\n    .dataframe tbody tr th:only-of-type {\n        vertical-align: middle;\n    }\n\n    .dataframe tbody tr th {\n        vertical-align: top;\n    }\n\n    .dataframe thead th {\n        text-align: right;\n    }\n</style>\n<table border=\"1\" class=\"dataframe\">\n  <thead>\n    <tr style=\"text-align: right;\">\n      <th></th>\n      <th>년월</th>\n      <th>시구</th>\n      <th>시군구</th>\n      <th>계약구분</th>\n      <th>고객호수(호)</th>\n      <th>사용량(kWh)</th>\n    </tr>\n  </thead>\n  <tbody>\n    <tr>\n      <th>0</th>\n      <td>202107</td>\n      <td>전라북도</td>\n      <td>고창군</td>\n      <td>일반용</td>\n      <td>4,910</td>\n      <td>9,316,978</td>\n    </tr>\n    <tr>\n      <th>1</th>\n      <td>202108</td>\n      <td>전라북도</td>\n      <td>고창군</td>\n      <td>일반용</td>\n      <td>4,907</td>\n      <td>11,153,873</td>\n    </tr>\n    <tr>\n      <th>2</th>\n      <td>202109</td>\n      <td>전라북도</td>\n      <td>고창군</td>\n      <td>일반용</td>\n      <td>4,917</td>\n      <td>14,803,104</td>\n    </tr>\n    <tr>\n      <th>3</th>\n      <td>202110</td>\n      <td>전라북도</td>\n      <td>고창군</td>\n      <td>일반용</td>\n      <td>4,916</td>\n      <td>3,624,656</td>\n    </tr>\n    <tr>\n      <th>4</th>\n      <td>202111</td>\n      <td>전라북도</td>\n      <td>고창군</td>\n      <td>일반용</td>\n      <td>4,937</td>\n      <td>8,944,086</td>\n    </tr>\n    <tr>\n      <th>...</th>\n      <td>...</td>\n      <td>...</td>\n      <td>...</td>\n      <td>...</td>\n      <td>...</td>\n      <td>...</td>\n    </tr>\n    <tr>\n      <th>93</th>\n      <td>202107-202112</td>\n      <td>전라북도</td>\n      <td>임실군</td>\n      <td>일반용</td>\n      <td>2413</td>\n      <td>29575806</td>\n    </tr>\n    <tr>\n      <th>94</th>\n      <td>202107-202112</td>\n      <td>전라북도</td>\n      <td>장수군</td>\n      <td>일반용</td>\n      <td>1869</td>\n      <td>18944735</td>\n    </tr>\n    <tr>\n      <th>95</th>\n      <td>202107-202112</td>\n      <td>전라북도</td>\n      <td>전주시</td>\n      <td>일반용</td>\n      <td>49115</td>\n      <td>701830231</td>\n    </tr>\n    <tr>\n      <th>96</th>\n      <td>202107-202112</td>\n      <td>전라북도</td>\n      <td>정읍시</td>\n      <td>일반용</td>\n      <td>9591</td>\n      <td>104259936</td>\n    </tr>\n    <tr>\n      <th>97</th>\n      <td>202107-202112</td>\n      <td>전라북도</td>\n      <td>진안군</td>\n      <td>일반용</td>\n      <td>2245</td>\n      <td>23325407</td>\n    </tr>\n  </tbody>\n</table>\n<p>98 rows × 6 columns</p>\n</div>"
     },
     "execution_count": 99,
     "metadata": {},
     "output_type": "execute_result"
    }
   ],
   "source": [
    "GyeonGiHap2 = df_3.copy()\n",
    "GyeonGiHap2.reset_index(drop=True , inplace = True)\n",
    "for i in range(len(SIGUNGU)):\n",
    "    GyeonGiHap2 = GyeonGiHap2.append({'년월' :'202107-202112'  , '시구' : '{}'.format(City) , '시군구' : '{}'.format(SIGUNGU[i]) , '계약구분' : '일반용' , '고객호수(호)' : sum3[i] ,  '사용량(kWh)' : sum2[i]} , ignore_index=True) #년월 파일마다 수정하기\n",
    "GyeonGiHap2"
   ],
   "metadata": {
    "collapsed": false,
    "pycharm": {
     "name": "#%%\n"
    }
   }
  },
  {
   "cell_type": "markdown",
   "source": [
    "### 5. 날짜 체크!!!!!!!!!!!!!!!!!!!!!!!!!!!!!!!!!!!!!!!!!!!!!!!!!!!!"
   ],
   "metadata": {
    "collapsed": false,
    "pycharm": {
     "name": "#%% md\n"
    }
   }
  },
  {
   "cell_type": "code",
   "execution_count": 100,
   "outputs": [
    {
     "data": {
      "text/plain": "               년월    시구  시군구 계약구분 고객호수(호)   사용량(kWh)\n84  202107-202112  전라북도  고창군  일반용    4923   57703793\n85  202107-202112  전라북도  군산시  일반용   21216  320251923\n86  202107-202112  전라북도  김제시  일반용    6889   85964859\n87  202107-202112  전라북도  남원시  일반용    7803   83728165\n88  202107-202112  전라북도  무주군  일반용    2835   40000008\n89  202107-202112  전라북도  부안군  일반용    5838   68900949\n90  202107-202112  전라북도  순창군  일반용    2387   23713802\n91  202107-202112  전라북도  완주군  일반용    7931  131716705\n92  202107-202112  전라북도  익산시  일반용   21097  267527597\n93  202107-202112  전라북도  임실군  일반용    2413   29575806\n94  202107-202112  전라북도  장수군  일반용    1869   18944735\n95  202107-202112  전라북도  전주시  일반용   49115  701830231\n96  202107-202112  전라북도  정읍시  일반용    9591  104259936\n97  202107-202112  전라북도  진안군  일반용    2245   23325407",
      "text/html": "<div>\n<style scoped>\n    .dataframe tbody tr th:only-of-type {\n        vertical-align: middle;\n    }\n\n    .dataframe tbody tr th {\n        vertical-align: top;\n    }\n\n    .dataframe thead th {\n        text-align: right;\n    }\n</style>\n<table border=\"1\" class=\"dataframe\">\n  <thead>\n    <tr style=\"text-align: right;\">\n      <th></th>\n      <th>년월</th>\n      <th>시구</th>\n      <th>시군구</th>\n      <th>계약구분</th>\n      <th>고객호수(호)</th>\n      <th>사용량(kWh)</th>\n    </tr>\n  </thead>\n  <tbody>\n    <tr>\n      <th>84</th>\n      <td>202107-202112</td>\n      <td>전라북도</td>\n      <td>고창군</td>\n      <td>일반용</td>\n      <td>4923</td>\n      <td>57703793</td>\n    </tr>\n    <tr>\n      <th>85</th>\n      <td>202107-202112</td>\n      <td>전라북도</td>\n      <td>군산시</td>\n      <td>일반용</td>\n      <td>21216</td>\n      <td>320251923</td>\n    </tr>\n    <tr>\n      <th>86</th>\n      <td>202107-202112</td>\n      <td>전라북도</td>\n      <td>김제시</td>\n      <td>일반용</td>\n      <td>6889</td>\n      <td>85964859</td>\n    </tr>\n    <tr>\n      <th>87</th>\n      <td>202107-202112</td>\n      <td>전라북도</td>\n      <td>남원시</td>\n      <td>일반용</td>\n      <td>7803</td>\n      <td>83728165</td>\n    </tr>\n    <tr>\n      <th>88</th>\n      <td>202107-202112</td>\n      <td>전라북도</td>\n      <td>무주군</td>\n      <td>일반용</td>\n      <td>2835</td>\n      <td>40000008</td>\n    </tr>\n    <tr>\n      <th>89</th>\n      <td>202107-202112</td>\n      <td>전라북도</td>\n      <td>부안군</td>\n      <td>일반용</td>\n      <td>5838</td>\n      <td>68900949</td>\n    </tr>\n    <tr>\n      <th>90</th>\n      <td>202107-202112</td>\n      <td>전라북도</td>\n      <td>순창군</td>\n      <td>일반용</td>\n      <td>2387</td>\n      <td>23713802</td>\n    </tr>\n    <tr>\n      <th>91</th>\n      <td>202107-202112</td>\n      <td>전라북도</td>\n      <td>완주군</td>\n      <td>일반용</td>\n      <td>7931</td>\n      <td>131716705</td>\n    </tr>\n    <tr>\n      <th>92</th>\n      <td>202107-202112</td>\n      <td>전라북도</td>\n      <td>익산시</td>\n      <td>일반용</td>\n      <td>21097</td>\n      <td>267527597</td>\n    </tr>\n    <tr>\n      <th>93</th>\n      <td>202107-202112</td>\n      <td>전라북도</td>\n      <td>임실군</td>\n      <td>일반용</td>\n      <td>2413</td>\n      <td>29575806</td>\n    </tr>\n    <tr>\n      <th>94</th>\n      <td>202107-202112</td>\n      <td>전라북도</td>\n      <td>장수군</td>\n      <td>일반용</td>\n      <td>1869</td>\n      <td>18944735</td>\n    </tr>\n    <tr>\n      <th>95</th>\n      <td>202107-202112</td>\n      <td>전라북도</td>\n      <td>전주시</td>\n      <td>일반용</td>\n      <td>49115</td>\n      <td>701830231</td>\n    </tr>\n    <tr>\n      <th>96</th>\n      <td>202107-202112</td>\n      <td>전라북도</td>\n      <td>정읍시</td>\n      <td>일반용</td>\n      <td>9591</td>\n      <td>104259936</td>\n    </tr>\n    <tr>\n      <th>97</th>\n      <td>202107-202112</td>\n      <td>전라북도</td>\n      <td>진안군</td>\n      <td>일반용</td>\n      <td>2245</td>\n      <td>23325407</td>\n    </tr>\n  </tbody>\n</table>\n</div>"
     },
     "execution_count": 100,
     "metadata": {},
     "output_type": "execute_result"
    }
   ],
   "source": [
    "GyeonGiHap2 = GyeonGiHap2.loc[GyeonGiHap2['년월'] == '202107-202112']\n",
    "GyeonGiHap2"
   ],
   "metadata": {
    "collapsed": false,
    "pycharm": {
     "name": "#%%\n"
    }
   }
  },
  {
   "cell_type": "code",
   "execution_count": 101,
   "outputs": [
    {
     "data": {
      "text/plain": "               년월    시구  시군구 계약구분 고객호수(호)    사용량(kWh)\n84  202107-202112  전라북도  고창군  일반용    4923    57703793\n84  202107-202112  전라북도  고창군   합계   10913   337445269\n85  202107-202112  전라북도  군산시  일반용   21216   320251923\n85  202107-202112  전라북도  군산시   합계   23891  3008757243\n86  202107-202112  전라북도  김제시  일반용    6889    85964859\n86  202107-202112  전라북도  김제시   합계   15332   560730330\n87  202107-202112  전라북도  남원시  일반용    7803    83728165\n87  202107-202112  전라북도  남원시   합계   14297   329096395\n88  202107-202112  전라북도  무주군  일반용    2835    40000008\n88  202107-202112  전라북도  무주군   합계    5127   104859542\n89  202107-202112  전라북도  부안군  일반용    5838    68900949\n89  202107-202112  전라북도  부안군   합계    9487   253834365\n90  202107-202112  전라북도  순창군  일반용    2387    23713802\n90  202107-202112  전라북도  순창군   합계    6280   142831569\n91  202107-202112  전라북도  완주군   합계   12369   898132009\n91  202107-202112  전라북도  완주군  일반용    7931   131716705\n92  202107-202112  전라북도  익산시  일반용   21097   267527597\n92  202107-202112  전라북도  익산시   합계   29138  1571959702\n93  202107-202112  전라북도  임실군   합계    6075   156367474\n93  202107-202112  전라북도  임실군  일반용    2413    29575806\n94  202107-202112  전라북도  장수군   합계    4940   102327330\n94  202107-202112  전라북도  장수군  일반용    1869    18944735\n95  202107-202112  전라북도  전주시   합계   47476  2303751422\n95  202107-202112  전라북도  전주시  일반용   49115   701830231\n96  202107-202112  전라북도  정읍시   합계   17425   922728168\n96  202107-202112  전라북도  정읍시  일반용    9591   104259936\n97  202107-202112  전라북도  진안군  일반용    2245    23325407\n97  202107-202112  전라북도  진안군   합계    5641   104901300",
      "text/html": "<div>\n<style scoped>\n    .dataframe tbody tr th:only-of-type {\n        vertical-align: middle;\n    }\n\n    .dataframe tbody tr th {\n        vertical-align: top;\n    }\n\n    .dataframe thead th {\n        text-align: right;\n    }\n</style>\n<table border=\"1\" class=\"dataframe\">\n  <thead>\n    <tr style=\"text-align: right;\">\n      <th></th>\n      <th>년월</th>\n      <th>시구</th>\n      <th>시군구</th>\n      <th>계약구분</th>\n      <th>고객호수(호)</th>\n      <th>사용량(kWh)</th>\n    </tr>\n  </thead>\n  <tbody>\n    <tr>\n      <th>84</th>\n      <td>202107-202112</td>\n      <td>전라북도</td>\n      <td>고창군</td>\n      <td>일반용</td>\n      <td>4923</td>\n      <td>57703793</td>\n    </tr>\n    <tr>\n      <th>84</th>\n      <td>202107-202112</td>\n      <td>전라북도</td>\n      <td>고창군</td>\n      <td>합계</td>\n      <td>10913</td>\n      <td>337445269</td>\n    </tr>\n    <tr>\n      <th>85</th>\n      <td>202107-202112</td>\n      <td>전라북도</td>\n      <td>군산시</td>\n      <td>일반용</td>\n      <td>21216</td>\n      <td>320251923</td>\n    </tr>\n    <tr>\n      <th>85</th>\n      <td>202107-202112</td>\n      <td>전라북도</td>\n      <td>군산시</td>\n      <td>합계</td>\n      <td>23891</td>\n      <td>3008757243</td>\n    </tr>\n    <tr>\n      <th>86</th>\n      <td>202107-202112</td>\n      <td>전라북도</td>\n      <td>김제시</td>\n      <td>일반용</td>\n      <td>6889</td>\n      <td>85964859</td>\n    </tr>\n    <tr>\n      <th>86</th>\n      <td>202107-202112</td>\n      <td>전라북도</td>\n      <td>김제시</td>\n      <td>합계</td>\n      <td>15332</td>\n      <td>560730330</td>\n    </tr>\n    <tr>\n      <th>87</th>\n      <td>202107-202112</td>\n      <td>전라북도</td>\n      <td>남원시</td>\n      <td>일반용</td>\n      <td>7803</td>\n      <td>83728165</td>\n    </tr>\n    <tr>\n      <th>87</th>\n      <td>202107-202112</td>\n      <td>전라북도</td>\n      <td>남원시</td>\n      <td>합계</td>\n      <td>14297</td>\n      <td>329096395</td>\n    </tr>\n    <tr>\n      <th>88</th>\n      <td>202107-202112</td>\n      <td>전라북도</td>\n      <td>무주군</td>\n      <td>일반용</td>\n      <td>2835</td>\n      <td>40000008</td>\n    </tr>\n    <tr>\n      <th>88</th>\n      <td>202107-202112</td>\n      <td>전라북도</td>\n      <td>무주군</td>\n      <td>합계</td>\n      <td>5127</td>\n      <td>104859542</td>\n    </tr>\n    <tr>\n      <th>89</th>\n      <td>202107-202112</td>\n      <td>전라북도</td>\n      <td>부안군</td>\n      <td>일반용</td>\n      <td>5838</td>\n      <td>68900949</td>\n    </tr>\n    <tr>\n      <th>89</th>\n      <td>202107-202112</td>\n      <td>전라북도</td>\n      <td>부안군</td>\n      <td>합계</td>\n      <td>9487</td>\n      <td>253834365</td>\n    </tr>\n    <tr>\n      <th>90</th>\n      <td>202107-202112</td>\n      <td>전라북도</td>\n      <td>순창군</td>\n      <td>일반용</td>\n      <td>2387</td>\n      <td>23713802</td>\n    </tr>\n    <tr>\n      <th>90</th>\n      <td>202107-202112</td>\n      <td>전라북도</td>\n      <td>순창군</td>\n      <td>합계</td>\n      <td>6280</td>\n      <td>142831569</td>\n    </tr>\n    <tr>\n      <th>91</th>\n      <td>202107-202112</td>\n      <td>전라북도</td>\n      <td>완주군</td>\n      <td>합계</td>\n      <td>12369</td>\n      <td>898132009</td>\n    </tr>\n    <tr>\n      <th>91</th>\n      <td>202107-202112</td>\n      <td>전라북도</td>\n      <td>완주군</td>\n      <td>일반용</td>\n      <td>7931</td>\n      <td>131716705</td>\n    </tr>\n    <tr>\n      <th>92</th>\n      <td>202107-202112</td>\n      <td>전라북도</td>\n      <td>익산시</td>\n      <td>일반용</td>\n      <td>21097</td>\n      <td>267527597</td>\n    </tr>\n    <tr>\n      <th>92</th>\n      <td>202107-202112</td>\n      <td>전라북도</td>\n      <td>익산시</td>\n      <td>합계</td>\n      <td>29138</td>\n      <td>1571959702</td>\n    </tr>\n    <tr>\n      <th>93</th>\n      <td>202107-202112</td>\n      <td>전라북도</td>\n      <td>임실군</td>\n      <td>합계</td>\n      <td>6075</td>\n      <td>156367474</td>\n    </tr>\n    <tr>\n      <th>93</th>\n      <td>202107-202112</td>\n      <td>전라북도</td>\n      <td>임실군</td>\n      <td>일반용</td>\n      <td>2413</td>\n      <td>29575806</td>\n    </tr>\n    <tr>\n      <th>94</th>\n      <td>202107-202112</td>\n      <td>전라북도</td>\n      <td>장수군</td>\n      <td>합계</td>\n      <td>4940</td>\n      <td>102327330</td>\n    </tr>\n    <tr>\n      <th>94</th>\n      <td>202107-202112</td>\n      <td>전라북도</td>\n      <td>장수군</td>\n      <td>일반용</td>\n      <td>1869</td>\n      <td>18944735</td>\n    </tr>\n    <tr>\n      <th>95</th>\n      <td>202107-202112</td>\n      <td>전라북도</td>\n      <td>전주시</td>\n      <td>합계</td>\n      <td>47476</td>\n      <td>2303751422</td>\n    </tr>\n    <tr>\n      <th>95</th>\n      <td>202107-202112</td>\n      <td>전라북도</td>\n      <td>전주시</td>\n      <td>일반용</td>\n      <td>49115</td>\n      <td>701830231</td>\n    </tr>\n    <tr>\n      <th>96</th>\n      <td>202107-202112</td>\n      <td>전라북도</td>\n      <td>정읍시</td>\n      <td>합계</td>\n      <td>17425</td>\n      <td>922728168</td>\n    </tr>\n    <tr>\n      <th>96</th>\n      <td>202107-202112</td>\n      <td>전라북도</td>\n      <td>정읍시</td>\n      <td>일반용</td>\n      <td>9591</td>\n      <td>104259936</td>\n    </tr>\n    <tr>\n      <th>97</th>\n      <td>202107-202112</td>\n      <td>전라북도</td>\n      <td>진안군</td>\n      <td>일반용</td>\n      <td>2245</td>\n      <td>23325407</td>\n    </tr>\n    <tr>\n      <th>97</th>\n      <td>202107-202112</td>\n      <td>전라북도</td>\n      <td>진안군</td>\n      <td>합계</td>\n      <td>5641</td>\n      <td>104901300</td>\n    </tr>\n  </tbody>\n</table>\n</div>"
     },
     "execution_count": 101,
     "metadata": {},
     "output_type": "execute_result"
    }
   ],
   "source": [
    "Final = pd.concat([GyeonGiHap2 , Hap])\n",
    "Final = Final.sort_values('시군구')\n",
    "Final"
   ],
   "metadata": {
    "collapsed": false,
    "pycharm": {
     "name": "#%%\n"
    }
   }
  },
  {
   "cell_type": "code",
   "execution_count": 102,
   "outputs": [
    {
     "data": {
      "text/plain": "[57703793,\n 320251923,\n 85964859,\n 83728165,\n 40000008,\n 68900949,\n 23713802,\n 131716705,\n 267527597,\n 29575806,\n 18944735,\n 701830231,\n 104259936,\n 23325407]"
     },
     "execution_count": 102,
     "metadata": {},
     "output_type": "execute_result"
    }
   ],
   "source": [
    "# Final['일반용 전기의 비율'] = (Final['사용량(kWh)'].loc[Final['계약구분'] == '일반용']) // (Final['사용량(kWh)'].loc[Final['계약구분'] == '합계'])\n",
    "# Final\n",
    "ex = (Final['사용량(kWh)'].loc[Final['계약구분'] == '일반용']).tolist()\n",
    "\n",
    "\n",
    "ex\n"
   ],
   "metadata": {
    "collapsed": false,
    "pycharm": {
     "name": "#%%\n"
    }
   }
  },
  {
   "cell_type": "code",
   "execution_count": 103,
   "outputs": [
    {
     "data": {
      "text/plain": "[337445269,\n 3008757243,\n 560730330,\n 329096395,\n 104859542,\n 253834365,\n 142831569,\n 898132009,\n 1571959702,\n 156367474,\n 102327330,\n 2303751422,\n 922728168,\n 104901300]"
     },
     "execution_count": 103,
     "metadata": {},
     "output_type": "execute_result"
    }
   ],
   "source": [
    "ex_2 =(Final['사용량(kWh)'].loc[Final['계약구분'] == '합계']).tolist()\n",
    "ex_2"
   ],
   "metadata": {
    "collapsed": false,
    "pycharm": {
     "name": "#%%\n"
    }
   }
  },
  {
   "cell_type": "code",
   "execution_count": 104,
   "outputs": [
    {
     "name": "stdout",
     "output_type": "stream",
     "text": [
      "[17.1, 10.64, 15.33, 25.44, 38.15, 27.14, 16.6, 14.67, 17.02, 18.91, 18.51, 30.46, 11.3, 22.24]\n"
     ]
    }
   ],
   "source": [
    "Rate = []\n",
    "ilban = []\n",
    "rae = 0\n",
    "for i in range(len(ex)):\n",
    "    rae = round(ex[i] / ex_2[i] *100 ,2)\n",
    "    Rate.append(rae)\n",
    "print(Rate)"
   ],
   "metadata": {
    "collapsed": false,
    "pycharm": {
     "name": "#%%\n"
    }
   }
  },
  {
   "cell_type": "code",
   "execution_count": 105,
   "outputs": [
    {
     "data": {
      "text/plain": "0    17\n1    11\n2    15\n3    25\n4    38\n5    27\n6    17\n7    15\n8    17\n9    19\n10   19\n11   30\n12   11\n13   22\ndtype: float64"
     },
     "execution_count": 105,
     "metadata": {},
     "output_type": "execute_result"
    }
   ],
   "source": [
    "Rate3 = pd.Series(Rate)\n",
    "Rate3\n",
    "\n",
    "# Final = pd.concat([Final , Rate3])\n",
    "# Final"
   ],
   "metadata": {
    "collapsed": false,
    "pycharm": {
     "name": "#%%\n"
    }
   }
  },
  {
   "cell_type": "code",
   "execution_count": 106,
   "outputs": [
    {
     "data": {
      "text/plain": "    시군구 계약구분  비율\n0   고창군  일반용  17\n1   군산시  일반용  11\n2   김제시  일반용  15\n3   남원시  일반용  25\n4   무주군  일반용  38\n5   부안군  일반용  27\n6   순창군  일반용  17\n7   완주군  일반용  15\n8   익산시  일반용  17\n9   임실군  일반용  19\n10  장수군  일반용  19\n11  전주시  일반용  30\n12  정읍시  일반용  11\n13  진안군  일반용  22",
      "text/html": "<div>\n<style scoped>\n    .dataframe tbody tr th:only-of-type {\n        vertical-align: middle;\n    }\n\n    .dataframe tbody tr th {\n        vertical-align: top;\n    }\n\n    .dataframe thead th {\n        text-align: right;\n    }\n</style>\n<table border=\"1\" class=\"dataframe\">\n  <thead>\n    <tr style=\"text-align: right;\">\n      <th></th>\n      <th>시군구</th>\n      <th>계약구분</th>\n      <th>비율</th>\n    </tr>\n  </thead>\n  <tbody>\n    <tr>\n      <th>0</th>\n      <td>고창군</td>\n      <td>일반용</td>\n      <td>17</td>\n    </tr>\n    <tr>\n      <th>1</th>\n      <td>군산시</td>\n      <td>일반용</td>\n      <td>11</td>\n    </tr>\n    <tr>\n      <th>2</th>\n      <td>김제시</td>\n      <td>일반용</td>\n      <td>15</td>\n    </tr>\n    <tr>\n      <th>3</th>\n      <td>남원시</td>\n      <td>일반용</td>\n      <td>25</td>\n    </tr>\n    <tr>\n      <th>4</th>\n      <td>무주군</td>\n      <td>일반용</td>\n      <td>38</td>\n    </tr>\n    <tr>\n      <th>5</th>\n      <td>부안군</td>\n      <td>일반용</td>\n      <td>27</td>\n    </tr>\n    <tr>\n      <th>6</th>\n      <td>순창군</td>\n      <td>일반용</td>\n      <td>17</td>\n    </tr>\n    <tr>\n      <th>7</th>\n      <td>완주군</td>\n      <td>일반용</td>\n      <td>15</td>\n    </tr>\n    <tr>\n      <th>8</th>\n      <td>익산시</td>\n      <td>일반용</td>\n      <td>17</td>\n    </tr>\n    <tr>\n      <th>9</th>\n      <td>임실군</td>\n      <td>일반용</td>\n      <td>19</td>\n    </tr>\n    <tr>\n      <th>10</th>\n      <td>장수군</td>\n      <td>일반용</td>\n      <td>19</td>\n    </tr>\n    <tr>\n      <th>11</th>\n      <td>전주시</td>\n      <td>일반용</td>\n      <td>30</td>\n    </tr>\n    <tr>\n      <th>12</th>\n      <td>정읍시</td>\n      <td>일반용</td>\n      <td>11</td>\n    </tr>\n    <tr>\n      <th>13</th>\n      <td>진안군</td>\n      <td>일반용</td>\n      <td>22</td>\n    </tr>\n  </tbody>\n</table>\n</div>"
     },
     "execution_count": 106,
     "metadata": {},
     "output_type": "execute_result"
    }
   ],
   "source": [
    "for j in range(len(Rate)):\n",
    "    ilban.append('일반용')\n",
    "#print(Rate)\n",
    "\n",
    "Rate2 = pd.DataFrame()\n",
    "Rate2['시군구'] = pd.DataFrame(SIGUNGU)\n",
    "Rate2['계약구분'] = pd.DataFrame(ilban)\n",
    "Rate2['비율'] = pd.DataFrame(Rate)\n",
    "Rate2\n",
    "#print(Rate2.dtypes)"
   ],
   "metadata": {
    "collapsed": false,
    "pycharm": {
     "name": "#%%\n"
    }
   }
  },
  {
   "cell_type": "code",
   "execution_count": 107,
   "outputs": [
    {
     "data": {
      "text/plain": "               년월    시구  시군구 계약구분 고객호수(호)    사용량(kWh)  비율\n0   202107-202112  전라북도  고창군  일반용    4923    57703793  17\n1   202107-202112  전라북도  고창군   합계   10913   337445269 NaN\n2   202107-202112  전라북도  군산시  일반용   21216   320251923  11\n3   202107-202112  전라북도  군산시   합계   23891  3008757243 NaN\n4   202107-202112  전라북도  김제시  일반용    6889    85964859  15\n5   202107-202112  전라북도  김제시   합계   15332   560730330 NaN\n6   202107-202112  전라북도  남원시  일반용    7803    83728165  25\n7   202107-202112  전라북도  남원시   합계   14297   329096395 NaN\n8   202107-202112  전라북도  무주군  일반용    2835    40000008  38\n9   202107-202112  전라북도  무주군   합계    5127   104859542 NaN\n10  202107-202112  전라북도  부안군  일반용    5838    68900949  27\n11  202107-202112  전라북도  부안군   합계    9487   253834365 NaN\n12  202107-202112  전라북도  순창군  일반용    2387    23713802  17\n13  202107-202112  전라북도  순창군   합계    6280   142831569 NaN\n15  202107-202112  전라북도  완주군  일반용    7931   131716705  15\n14  202107-202112  전라북도  완주군   합계   12369   898132009 NaN\n16  202107-202112  전라북도  익산시  일반용   21097   267527597  17\n17  202107-202112  전라북도  익산시   합계   29138  1571959702 NaN\n19  202107-202112  전라북도  임실군  일반용    2413    29575806  19\n18  202107-202112  전라북도  임실군   합계    6075   156367474 NaN\n21  202107-202112  전라북도  장수군  일반용    1869    18944735  19\n20  202107-202112  전라북도  장수군   합계    4940   102327330 NaN\n23  202107-202112  전라북도  전주시  일반용   49115   701830231  30\n22  202107-202112  전라북도  전주시   합계   47476  2303751422 NaN\n25  202107-202112  전라북도  정읍시  일반용    9591   104259936  11\n24  202107-202112  전라북도  정읍시   합계   17425   922728168 NaN\n26  202107-202112  전라북도  진안군  일반용    2245    23325407  22\n27  202107-202112  전라북도  진안군   합계    5641   104901300 NaN",
      "text/html": "<div>\n<style scoped>\n    .dataframe tbody tr th:only-of-type {\n        vertical-align: middle;\n    }\n\n    .dataframe tbody tr th {\n        vertical-align: top;\n    }\n\n    .dataframe thead th {\n        text-align: right;\n    }\n</style>\n<table border=\"1\" class=\"dataframe\">\n  <thead>\n    <tr style=\"text-align: right;\">\n      <th></th>\n      <th>년월</th>\n      <th>시구</th>\n      <th>시군구</th>\n      <th>계약구분</th>\n      <th>고객호수(호)</th>\n      <th>사용량(kWh)</th>\n      <th>비율</th>\n    </tr>\n  </thead>\n  <tbody>\n    <tr>\n      <th>0</th>\n      <td>202107-202112</td>\n      <td>전라북도</td>\n      <td>고창군</td>\n      <td>일반용</td>\n      <td>4923</td>\n      <td>57703793</td>\n      <td>17</td>\n    </tr>\n    <tr>\n      <th>1</th>\n      <td>202107-202112</td>\n      <td>전라북도</td>\n      <td>고창군</td>\n      <td>합계</td>\n      <td>10913</td>\n      <td>337445269</td>\n      <td>NaN</td>\n    </tr>\n    <tr>\n      <th>2</th>\n      <td>202107-202112</td>\n      <td>전라북도</td>\n      <td>군산시</td>\n      <td>일반용</td>\n      <td>21216</td>\n      <td>320251923</td>\n      <td>11</td>\n    </tr>\n    <tr>\n      <th>3</th>\n      <td>202107-202112</td>\n      <td>전라북도</td>\n      <td>군산시</td>\n      <td>합계</td>\n      <td>23891</td>\n      <td>3008757243</td>\n      <td>NaN</td>\n    </tr>\n    <tr>\n      <th>4</th>\n      <td>202107-202112</td>\n      <td>전라북도</td>\n      <td>김제시</td>\n      <td>일반용</td>\n      <td>6889</td>\n      <td>85964859</td>\n      <td>15</td>\n    </tr>\n    <tr>\n      <th>5</th>\n      <td>202107-202112</td>\n      <td>전라북도</td>\n      <td>김제시</td>\n      <td>합계</td>\n      <td>15332</td>\n      <td>560730330</td>\n      <td>NaN</td>\n    </tr>\n    <tr>\n      <th>6</th>\n      <td>202107-202112</td>\n      <td>전라북도</td>\n      <td>남원시</td>\n      <td>일반용</td>\n      <td>7803</td>\n      <td>83728165</td>\n      <td>25</td>\n    </tr>\n    <tr>\n      <th>7</th>\n      <td>202107-202112</td>\n      <td>전라북도</td>\n      <td>남원시</td>\n      <td>합계</td>\n      <td>14297</td>\n      <td>329096395</td>\n      <td>NaN</td>\n    </tr>\n    <tr>\n      <th>8</th>\n      <td>202107-202112</td>\n      <td>전라북도</td>\n      <td>무주군</td>\n      <td>일반용</td>\n      <td>2835</td>\n      <td>40000008</td>\n      <td>38</td>\n    </tr>\n    <tr>\n      <th>9</th>\n      <td>202107-202112</td>\n      <td>전라북도</td>\n      <td>무주군</td>\n      <td>합계</td>\n      <td>5127</td>\n      <td>104859542</td>\n      <td>NaN</td>\n    </tr>\n    <tr>\n      <th>10</th>\n      <td>202107-202112</td>\n      <td>전라북도</td>\n      <td>부안군</td>\n      <td>일반용</td>\n      <td>5838</td>\n      <td>68900949</td>\n      <td>27</td>\n    </tr>\n    <tr>\n      <th>11</th>\n      <td>202107-202112</td>\n      <td>전라북도</td>\n      <td>부안군</td>\n      <td>합계</td>\n      <td>9487</td>\n      <td>253834365</td>\n      <td>NaN</td>\n    </tr>\n    <tr>\n      <th>12</th>\n      <td>202107-202112</td>\n      <td>전라북도</td>\n      <td>순창군</td>\n      <td>일반용</td>\n      <td>2387</td>\n      <td>23713802</td>\n      <td>17</td>\n    </tr>\n    <tr>\n      <th>13</th>\n      <td>202107-202112</td>\n      <td>전라북도</td>\n      <td>순창군</td>\n      <td>합계</td>\n      <td>6280</td>\n      <td>142831569</td>\n      <td>NaN</td>\n    </tr>\n    <tr>\n      <th>15</th>\n      <td>202107-202112</td>\n      <td>전라북도</td>\n      <td>완주군</td>\n      <td>일반용</td>\n      <td>7931</td>\n      <td>131716705</td>\n      <td>15</td>\n    </tr>\n    <tr>\n      <th>14</th>\n      <td>202107-202112</td>\n      <td>전라북도</td>\n      <td>완주군</td>\n      <td>합계</td>\n      <td>12369</td>\n      <td>898132009</td>\n      <td>NaN</td>\n    </tr>\n    <tr>\n      <th>16</th>\n      <td>202107-202112</td>\n      <td>전라북도</td>\n      <td>익산시</td>\n      <td>일반용</td>\n      <td>21097</td>\n      <td>267527597</td>\n      <td>17</td>\n    </tr>\n    <tr>\n      <th>17</th>\n      <td>202107-202112</td>\n      <td>전라북도</td>\n      <td>익산시</td>\n      <td>합계</td>\n      <td>29138</td>\n      <td>1571959702</td>\n      <td>NaN</td>\n    </tr>\n    <tr>\n      <th>19</th>\n      <td>202107-202112</td>\n      <td>전라북도</td>\n      <td>임실군</td>\n      <td>일반용</td>\n      <td>2413</td>\n      <td>29575806</td>\n      <td>19</td>\n    </tr>\n    <tr>\n      <th>18</th>\n      <td>202107-202112</td>\n      <td>전라북도</td>\n      <td>임실군</td>\n      <td>합계</td>\n      <td>6075</td>\n      <td>156367474</td>\n      <td>NaN</td>\n    </tr>\n    <tr>\n      <th>21</th>\n      <td>202107-202112</td>\n      <td>전라북도</td>\n      <td>장수군</td>\n      <td>일반용</td>\n      <td>1869</td>\n      <td>18944735</td>\n      <td>19</td>\n    </tr>\n    <tr>\n      <th>20</th>\n      <td>202107-202112</td>\n      <td>전라북도</td>\n      <td>장수군</td>\n      <td>합계</td>\n      <td>4940</td>\n      <td>102327330</td>\n      <td>NaN</td>\n    </tr>\n    <tr>\n      <th>23</th>\n      <td>202107-202112</td>\n      <td>전라북도</td>\n      <td>전주시</td>\n      <td>일반용</td>\n      <td>49115</td>\n      <td>701830231</td>\n      <td>30</td>\n    </tr>\n    <tr>\n      <th>22</th>\n      <td>202107-202112</td>\n      <td>전라북도</td>\n      <td>전주시</td>\n      <td>합계</td>\n      <td>47476</td>\n      <td>2303751422</td>\n      <td>NaN</td>\n    </tr>\n    <tr>\n      <th>25</th>\n      <td>202107-202112</td>\n      <td>전라북도</td>\n      <td>정읍시</td>\n      <td>일반용</td>\n      <td>9591</td>\n      <td>104259936</td>\n      <td>11</td>\n    </tr>\n    <tr>\n      <th>24</th>\n      <td>202107-202112</td>\n      <td>전라북도</td>\n      <td>정읍시</td>\n      <td>합계</td>\n      <td>17425</td>\n      <td>922728168</td>\n      <td>NaN</td>\n    </tr>\n    <tr>\n      <th>26</th>\n      <td>202107-202112</td>\n      <td>전라북도</td>\n      <td>진안군</td>\n      <td>일반용</td>\n      <td>2245</td>\n      <td>23325407</td>\n      <td>22</td>\n    </tr>\n    <tr>\n      <th>27</th>\n      <td>202107-202112</td>\n      <td>전라북도</td>\n      <td>진안군</td>\n      <td>합계</td>\n      <td>5641</td>\n      <td>104901300</td>\n      <td>NaN</td>\n    </tr>\n  </tbody>\n</table>\n</div>"
     },
     "execution_count": 107,
     "metadata": {},
     "output_type": "execute_result"
    }
   ],
   "source": [
    "Final = pd.merge(Final , Rate2, on=['시군구', '계약구분'] , how='left')\n",
    "\n",
    "#Final.drop(['비율_y]' , axis = 1 , inplace = True)\n",
    "#Final.rename(columns={'비율_y':'전체 계약종별 전력사용량 대비 일반용 사용량 비율'})\n",
    "Final = Final.sort_values(['시군구' , '계약구분'])\n",
    "Final"
   ],
   "metadata": {
    "collapsed": false,
    "pycharm": {
     "name": "#%%\n"
    }
   }
  },
  {
   "cell_type": "code",
   "execution_count": 108,
   "outputs": [],
   "source": [
    "# Final['일반용 전기의 비율'] = Final.append(Rate)\n",
    "# Final"
   ],
   "metadata": {
    "collapsed": false,
    "pycharm": {
     "name": "#%%\n"
    }
   }
  },
  {
   "cell_type": "markdown",
   "source": [
    "### 6. 날짜 체크!!!!!!!!!!!!!!!!!!!!1"
   ],
   "metadata": {
    "collapsed": false,
    "pycharm": {
     "name": "#%% md\n"
    }
   }
  },
  {
   "cell_type": "code",
   "execution_count": 109,
   "outputs": [],
   "source": [
    "Final.to_csv(\"{}_일반용_전력사용량_2107-12.csv\".format(City) , mode = 'w' , encoding= 'cp949' , index =False) #파일명 수정"
   ],
   "metadata": {
    "collapsed": false,
    "pycharm": {
     "name": "#%%\n"
    }
   }
  },
  {
   "cell_type": "code",
   "execution_count": 106,
   "outputs": [],
   "source": [],
   "metadata": {
    "collapsed": false,
    "pycharm": {
     "name": "#%%\n"
    }
   }
  },
  {
   "cell_type": "code",
   "execution_count": 107,
   "outputs": [],
   "source": [
    "# Sigu = list(set(df_3['시군구'].tolist()))\n",
    "#\n",
    "# Sigu.sort()\n",
    "#\n",
    "# Sigu"
   ],
   "metadata": {
    "collapsed": false,
    "pycharm": {
     "name": "#%%\n"
    }
   }
  },
  {
   "cell_type": "code",
   "execution_count": 108,
   "outputs": [],
   "source": [
    "# YearMonth = list(set(df_3['년월'].tolist()))\n",
    "#\n",
    "# YearMonth.sort()\n",
    "# YearMonth"
   ],
   "metadata": {
    "collapsed": false,
    "pycharm": {
     "name": "#%%\n"
    }
   }
  },
  {
   "cell_type": "code",
   "execution_count": 109,
   "outputs": [],
   "source": [
    "# Gayeak = list(set(df_3['계약구분'].tolist()))\n",
    "#\n",
    "# Gayeak.sort()\n",
    "# Gayeak"
   ],
   "metadata": {
    "collapsed": false,
    "pycharm": {
     "name": "#%%\n"
    }
   }
  },
  {
   "cell_type": "code",
   "execution_count": 110,
   "outputs": [],
   "source": [
    "# SEOUL = df_3.loc[(df_3['계약구분'] =='일반용')]\n",
    "# SEOUL.drop(['고객호수(호)' ,'전기요금(원)' , '평균판매단가(원/kWh)'] , axis = 1 , inplace = True)\n",
    "# #SEOUL.dtypes(['사용량(kWh)'])\n",
    "# SEOUL"
   ],
   "metadata": {
    "collapsed": false,
    "pycharm": {
     "name": "#%%\n"
    }
   }
  },
  {
   "cell_type": "code",
   "execution_count": 111,
   "outputs": [],
   "source": [
    "#SEOUL.to_csv(\"서울특별시_일반용_전력사용량.csv\" , mode = 'w' , encoding= 'cp949')"
   ],
   "metadata": {
    "collapsed": false,
    "pycharm": {
     "name": "#%%\n"
    }
   }
  },
  {
   "cell_type": "code",
   "execution_count": 112,
   "outputs": [],
   "source": [
    "# print(SEOUL.dtypes)\n",
    "# SEOUL = SEOUL.astype({'사용량(kWh)' : 'float'})"
   ],
   "metadata": {
    "collapsed": false,
    "pycharm": {
     "name": "#%%\n"
    }
   }
  },
  {
   "cell_type": "code",
   "execution_count": 113,
   "outputs": [],
   "source": [
    "# SEOUL"
   ],
   "metadata": {
    "collapsed": false,
    "pycharm": {
     "name": "#%%\n"
    }
   }
  },
  {
   "cell_type": "code",
   "execution_count": 114,
   "outputs": [],
   "source": [
    "# a = SEOUL['사용량(kWh)'].tolist()\n",
    "# int_list = map(int, a)\n",
    "# b=0\n",
    "# for i in int_list:\n",
    "#     b+=i\n",
    "#\n",
    "# print(b)"
   ],
   "metadata": {
    "collapsed": false,
    "pycharm": {
     "name": "#%%\n"
    }
   }
  },
  {
   "cell_type": "code",
   "execution_count": 114,
   "outputs": [],
   "source": [],
   "metadata": {
    "collapsed": false,
    "pycharm": {
     "name": "#%%\n"
    }
   }
  },
  {
   "cell_type": "code",
   "execution_count": 114,
   "outputs": [],
   "source": [],
   "metadata": {
    "collapsed": false,
    "pycharm": {
     "name": "#%%\n"
    }
   }
  },
  {
   "cell_type": "code",
   "execution_count": 114,
   "outputs": [],
   "source": [],
   "metadata": {
    "collapsed": false,
    "pycharm": {
     "name": "#%%\n"
    }
   }
  },
  {
   "cell_type": "code",
   "execution_count": 114,
   "outputs": [],
   "source": [],
   "metadata": {
    "collapsed": false,
    "pycharm": {
     "name": "#%%\n"
    }
   }
  },
  {
   "cell_type": "code",
   "execution_count": 114,
   "outputs": [],
   "source": [],
   "metadata": {
    "collapsed": false,
    "pycharm": {
     "name": "#%%\n"
    }
   }
  },
  {
   "cell_type": "code",
   "execution_count": 114,
   "outputs": [],
   "source": [],
   "metadata": {
    "collapsed": false,
    "pycharm": {
     "name": "#%%\n"
    }
   }
  },
  {
   "cell_type": "code",
   "execution_count": 114,
   "outputs": [],
   "source": [],
   "metadata": {
    "collapsed": false,
    "pycharm": {
     "name": "#%%\n"
    }
   }
  }
 ],
 "metadata": {
  "kernelspec": {
   "display_name": "Python 3",
   "language": "python",
   "name": "python3"
  },
  "language_info": {
   "codemirror_mode": {
    "name": "ipython",
    "version": 2
   },
   "file_extension": ".py",
   "mimetype": "text/x-python",
   "name": "python",
   "nbconvert_exporter": "python",
   "pygments_lexer": "ipython2",
   "version": "2.7.6"
  }
 },
 "nbformat": 4,
 "nbformat_minor": 0
}