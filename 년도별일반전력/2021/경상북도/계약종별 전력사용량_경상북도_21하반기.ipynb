{
 "cells": [
  {
   "cell_type": "markdown",
   "source": [],
   "metadata": {
    "collapsed": false,
    "pycharm": {
     "name": "#%% md\n"
    }
   }
  },
  {
   "cell_type": "code",
   "execution_count": 1,
   "outputs": [],
   "source": [
    "import pandas as pd\n",
    "import re\n",
    "\n",
    "pd.options.display.float_format = '{:.0f}'.format"
   ],
   "metadata": {
    "collapsed": false,
    "pycharm": {
     "name": "#%%\n"
    }
   }
  },
  {
   "cell_type": "markdown",
   "source": [
    "### 1. 꼭 read_csv 21상반기, 19하반기와 같이 맞추어 주세요!!! 또한 지역(전라북도, 남도) 맞추기!!!!!"
   ],
   "metadata": {
    "collapsed": false,
    "pycharm": {
     "name": "#%% md\n"
    }
   }
  },
  {
   "cell_type": "code",
   "execution_count": 2,
   "outputs": [
    {
     "data": {
      "text/plain": "        계약종별 전력사용량 월별( 20220804 현재 ) Unnamed: 1     Unnamed: 2 Unnamed: 3  \\\n0     시도 : 경상북도, 시군구 : 전체(시 / 군 / 구)        NaN            NaN        NaN   \n1        기간 : 2021년 07 월 ~ 2021년 12월        NaN            NaN        NaN   \n2                                 년월         시구            시군구       계약구분   \n3                             202107       경상북도  전체(시 / 군 / 구)        주택용   \n4                             202107       경상북도  전체(시 / 군 / 구)        일반용   \n...                              ...        ...            ...        ...   \n1147                          202112       경상북도            포항시        산업용   \n1148                          202112       경상북도            포항시        심 야   \n1149                          202112       경상북도            포항시        일반용   \n1150                          202112       경상북도            포항시        주택용   \n1151                          202112       경상북도            포항시         합계   \n\n      Unnamed: 4    Unnamed: 5       Unnamed: 6     Unnamed: 7  \n0            NaN           NaN              NaN            NaN  \n1            NaN           NaN              NaN            NaN  \n2        고객호수(호)      사용량(kWh)          전기요금(원)  평균판매단가(원/kWh)  \n3     1,177,283   322,923,449   31,553,309,333           97.7   \n4       224,866   472,408,629   69,602,758,532          147.3   \n...          ...           ...              ...            ...  \n1147      2,789   672,630,454   72,007,571,531          107.1   \n1148      3,918     6,510,358      490,144,916           75.3   \n1149     41,591    89,851,320   12,521,125,600          139.4   \n1150    187,633    61,608,006    6,633,929,976          107.7   \n1151    277,394   865,376,552   94,479,599,048          109.2   \n\n[1152 rows x 8 columns]",
      "text/html": "<div>\n<style scoped>\n    .dataframe tbody tr th:only-of-type {\n        vertical-align: middle;\n    }\n\n    .dataframe tbody tr th {\n        vertical-align: top;\n    }\n\n    .dataframe thead th {\n        text-align: right;\n    }\n</style>\n<table border=\"1\" class=\"dataframe\">\n  <thead>\n    <tr style=\"text-align: right;\">\n      <th></th>\n      <th>계약종별 전력사용량 월별( 20220804 현재 )</th>\n      <th>Unnamed: 1</th>\n      <th>Unnamed: 2</th>\n      <th>Unnamed: 3</th>\n      <th>Unnamed: 4</th>\n      <th>Unnamed: 5</th>\n      <th>Unnamed: 6</th>\n      <th>Unnamed: 7</th>\n    </tr>\n  </thead>\n  <tbody>\n    <tr>\n      <th>0</th>\n      <td>시도 : 경상북도, 시군구 : 전체(시 / 군 / 구)</td>\n      <td>NaN</td>\n      <td>NaN</td>\n      <td>NaN</td>\n      <td>NaN</td>\n      <td>NaN</td>\n      <td>NaN</td>\n      <td>NaN</td>\n    </tr>\n    <tr>\n      <th>1</th>\n      <td>기간 : 2021년 07 월 ~ 2021년 12월</td>\n      <td>NaN</td>\n      <td>NaN</td>\n      <td>NaN</td>\n      <td>NaN</td>\n      <td>NaN</td>\n      <td>NaN</td>\n      <td>NaN</td>\n    </tr>\n    <tr>\n      <th>2</th>\n      <td>년월</td>\n      <td>시구</td>\n      <td>시군구</td>\n      <td>계약구분</td>\n      <td>고객호수(호)</td>\n      <td>사용량(kWh)</td>\n      <td>전기요금(원)</td>\n      <td>평균판매단가(원/kWh)</td>\n    </tr>\n    <tr>\n      <th>3</th>\n      <td>202107</td>\n      <td>경상북도</td>\n      <td>전체(시 / 군 / 구)</td>\n      <td>주택용</td>\n      <td>1,177,283</td>\n      <td>322,923,449</td>\n      <td>31,553,309,333</td>\n      <td>97.7</td>\n    </tr>\n    <tr>\n      <th>4</th>\n      <td>202107</td>\n      <td>경상북도</td>\n      <td>전체(시 / 군 / 구)</td>\n      <td>일반용</td>\n      <td>224,866</td>\n      <td>472,408,629</td>\n      <td>69,602,758,532</td>\n      <td>147.3</td>\n    </tr>\n    <tr>\n      <th>...</th>\n      <td>...</td>\n      <td>...</td>\n      <td>...</td>\n      <td>...</td>\n      <td>...</td>\n      <td>...</td>\n      <td>...</td>\n      <td>...</td>\n    </tr>\n    <tr>\n      <th>1147</th>\n      <td>202112</td>\n      <td>경상북도</td>\n      <td>포항시</td>\n      <td>산업용</td>\n      <td>2,789</td>\n      <td>672,630,454</td>\n      <td>72,007,571,531</td>\n      <td>107.1</td>\n    </tr>\n    <tr>\n      <th>1148</th>\n      <td>202112</td>\n      <td>경상북도</td>\n      <td>포항시</td>\n      <td>심 야</td>\n      <td>3,918</td>\n      <td>6,510,358</td>\n      <td>490,144,916</td>\n      <td>75.3</td>\n    </tr>\n    <tr>\n      <th>1149</th>\n      <td>202112</td>\n      <td>경상북도</td>\n      <td>포항시</td>\n      <td>일반용</td>\n      <td>41,591</td>\n      <td>89,851,320</td>\n      <td>12,521,125,600</td>\n      <td>139.4</td>\n    </tr>\n    <tr>\n      <th>1150</th>\n      <td>202112</td>\n      <td>경상북도</td>\n      <td>포항시</td>\n      <td>주택용</td>\n      <td>187,633</td>\n      <td>61,608,006</td>\n      <td>6,633,929,976</td>\n      <td>107.7</td>\n    </tr>\n    <tr>\n      <th>1151</th>\n      <td>202112</td>\n      <td>경상북도</td>\n      <td>포항시</td>\n      <td>합계</td>\n      <td>277,394</td>\n      <td>865,376,552</td>\n      <td>94,479,599,048</td>\n      <td>109.2</td>\n    </tr>\n  </tbody>\n</table>\n<p>1152 rows × 8 columns</p>\n</div>"
     },
     "execution_count": 2,
     "metadata": {},
     "output_type": "execute_result"
    }
   ],
   "source": [
    "df = pd.read_csv('경상북도_계약종별_전력사용량_월별_21하반기.csv' , encoding='cp949')\n",
    "\n",
    "df\n",
    "#exchng=  pd.read_csv('지역별_전력거래량_20220803093050.csv' , encoding='cp949')"
   ],
   "metadata": {
    "collapsed": false,
    "pycharm": {
     "name": "#%%\n"
    }
   }
  },
  {
   "cell_type": "code",
   "execution_count": 3,
   "outputs": [
    {
     "data": {
      "text/plain": "     계약종별 전력사용량 월별( 20220804 현재 ) Unnamed: 1     Unnamed: 2 Unnamed: 3  \\\n2                              년월         시구            시군구       계약구분   \n3                          202107       경상북도  전체(시 / 군 / 구)        주택용   \n4                          202107       경상북도  전체(시 / 군 / 구)        일반용   \n5                          202107       경상북도  전체(시 / 군 / 구)        교육용   \n6                          202107       경상북도  전체(시 / 군 / 구)        산업용   \n...                           ...        ...            ...        ...   \n1147                       202112       경상북도            포항시        산업용   \n1148                       202112       경상북도            포항시        심 야   \n1149                       202112       경상북도            포항시        일반용   \n1150                       202112       경상북도            포항시        주택용   \n1151                       202112       경상북도            포항시         합계   \n\n      Unnamed: 4      Unnamed: 5        Unnamed: 6     Unnamed: 7  \n2        고객호수(호)        사용량(kWh)           전기요금(원)  평균판매단가(원/kWh)  \n3     1,177,283     322,923,449    31,553,309,333           97.7   \n4       224,866     472,408,629    69,602,758,532          147.3   \n5         1,498      52,434,393     5,926,927,038          113.0   \n6        33,363   2,596,447,047   292,817,966,255          112.8   \n...          ...             ...               ...            ...  \n1147      2,789     672,630,454    72,007,571,531          107.1   \n1148      3,918       6,510,358       490,144,916           75.3   \n1149     41,591      89,851,320    12,521,125,600          139.4   \n1150    187,633      61,608,006     6,633,929,976          107.7   \n1151    277,394     865,376,552    94,479,599,048          109.2   \n\n[1149 rows x 8 columns]",
      "text/html": "<div>\n<style scoped>\n    .dataframe tbody tr th:only-of-type {\n        vertical-align: middle;\n    }\n\n    .dataframe tbody tr th {\n        vertical-align: top;\n    }\n\n    .dataframe thead th {\n        text-align: right;\n    }\n</style>\n<table border=\"1\" class=\"dataframe\">\n  <thead>\n    <tr style=\"text-align: right;\">\n      <th></th>\n      <th>계약종별 전력사용량 월별( 20220804 현재 )</th>\n      <th>Unnamed: 1</th>\n      <th>Unnamed: 2</th>\n      <th>Unnamed: 3</th>\n      <th>Unnamed: 4</th>\n      <th>Unnamed: 5</th>\n      <th>Unnamed: 6</th>\n      <th>Unnamed: 7</th>\n    </tr>\n  </thead>\n  <tbody>\n    <tr>\n      <th>2</th>\n      <td>년월</td>\n      <td>시구</td>\n      <td>시군구</td>\n      <td>계약구분</td>\n      <td>고객호수(호)</td>\n      <td>사용량(kWh)</td>\n      <td>전기요금(원)</td>\n      <td>평균판매단가(원/kWh)</td>\n    </tr>\n    <tr>\n      <th>3</th>\n      <td>202107</td>\n      <td>경상북도</td>\n      <td>전체(시 / 군 / 구)</td>\n      <td>주택용</td>\n      <td>1,177,283</td>\n      <td>322,923,449</td>\n      <td>31,553,309,333</td>\n      <td>97.7</td>\n    </tr>\n    <tr>\n      <th>4</th>\n      <td>202107</td>\n      <td>경상북도</td>\n      <td>전체(시 / 군 / 구)</td>\n      <td>일반용</td>\n      <td>224,866</td>\n      <td>472,408,629</td>\n      <td>69,602,758,532</td>\n      <td>147.3</td>\n    </tr>\n    <tr>\n      <th>5</th>\n      <td>202107</td>\n      <td>경상북도</td>\n      <td>전체(시 / 군 / 구)</td>\n      <td>교육용</td>\n      <td>1,498</td>\n      <td>52,434,393</td>\n      <td>5,926,927,038</td>\n      <td>113.0</td>\n    </tr>\n    <tr>\n      <th>6</th>\n      <td>202107</td>\n      <td>경상북도</td>\n      <td>전체(시 / 군 / 구)</td>\n      <td>산업용</td>\n      <td>33,363</td>\n      <td>2,596,447,047</td>\n      <td>292,817,966,255</td>\n      <td>112.8</td>\n    </tr>\n    <tr>\n      <th>...</th>\n      <td>...</td>\n      <td>...</td>\n      <td>...</td>\n      <td>...</td>\n      <td>...</td>\n      <td>...</td>\n      <td>...</td>\n      <td>...</td>\n    </tr>\n    <tr>\n      <th>1147</th>\n      <td>202112</td>\n      <td>경상북도</td>\n      <td>포항시</td>\n      <td>산업용</td>\n      <td>2,789</td>\n      <td>672,630,454</td>\n      <td>72,007,571,531</td>\n      <td>107.1</td>\n    </tr>\n    <tr>\n      <th>1148</th>\n      <td>202112</td>\n      <td>경상북도</td>\n      <td>포항시</td>\n      <td>심 야</td>\n      <td>3,918</td>\n      <td>6,510,358</td>\n      <td>490,144,916</td>\n      <td>75.3</td>\n    </tr>\n    <tr>\n      <th>1149</th>\n      <td>202112</td>\n      <td>경상북도</td>\n      <td>포항시</td>\n      <td>일반용</td>\n      <td>41,591</td>\n      <td>89,851,320</td>\n      <td>12,521,125,600</td>\n      <td>139.4</td>\n    </tr>\n    <tr>\n      <th>1150</th>\n      <td>202112</td>\n      <td>경상북도</td>\n      <td>포항시</td>\n      <td>주택용</td>\n      <td>187,633</td>\n      <td>61,608,006</td>\n      <td>6,633,929,976</td>\n      <td>107.7</td>\n    </tr>\n    <tr>\n      <th>1151</th>\n      <td>202112</td>\n      <td>경상북도</td>\n      <td>포항시</td>\n      <td>합계</td>\n      <td>277,394</td>\n      <td>865,376,552</td>\n      <td>94,479,599,048</td>\n      <td>109.2</td>\n    </tr>\n  </tbody>\n</table>\n<p>1149 rows × 8 columns</p>\n</div>"
     },
     "execution_count": 3,
     "metadata": {},
     "output_type": "execute_result"
    }
   ],
   "source": [
    "df = df.drop([0,1 , 46] , axis = 0)\n",
    "#0,1 , 10은 지우는게 맞다\n",
    "df"
   ],
   "metadata": {
    "collapsed": false,
    "pycharm": {
     "name": "#%%\n"
    }
   }
  },
  {
   "cell_type": "code",
   "execution_count": 4,
   "outputs": [],
   "source": [
    "a= df.loc[2].tolist()\n",
    "a\n",
    "df = df.drop([2] , axis = 0)"
   ],
   "metadata": {
    "collapsed": false,
    "pycharm": {
     "name": "#%%\n"
    }
   }
  },
  {
   "cell_type": "code",
   "execution_count": 5,
   "outputs": [
    {
     "data": {
      "text/plain": "          년월    시구            시군구 계약구분     고객호수(호)        사용량(kWh)  \\\n3     202107  경상북도  전체(시 / 군 / 구)  주택용  1,177,283     322,923,449    \n4     202107  경상북도  전체(시 / 군 / 구)  일반용    224,866     472,408,629    \n5     202107  경상북도  전체(시 / 군 / 구)  교육용      1,498      52,434,393    \n6     202107  경상북도  전체(시 / 군 / 구)  산업용     33,363   2,596,447,047    \n7     202107  경상북도  전체(시 / 군 / 구)  농사용    382,100     206,608,765    \n...      ...   ...            ...  ...         ...             ...   \n1147  202112  경상북도            포항시  산업용      2,789     672,630,454    \n1148  202112  경상북도            포항시  심 야      3,918       6,510,358    \n1149  202112  경상북도            포항시  일반용     41,591      89,851,320    \n1150  202112  경상북도            포항시  주택용    187,633      61,608,006    \n1151  202112  경상북도            포항시   합계    277,394     865,376,552    \n\n               전기요금(원) 평균판매단가(원/kWh)  \n3      31,553,309,333          97.7   \n4      69,602,758,532         147.3   \n5       5,926,927,038         113.0   \n6     292,817,966,255         112.8   \n7       9,560,556,479          46.3   \n...                ...           ...  \n1147   72,007,571,531         107.1   \n1148      490,144,916          75.3   \n1149   12,521,125,600         139.4   \n1150    6,633,929,976         107.7   \n1151   94,479,599,048         109.2   \n\n[1148 rows x 8 columns]",
      "text/html": "<div>\n<style scoped>\n    .dataframe tbody tr th:only-of-type {\n        vertical-align: middle;\n    }\n\n    .dataframe tbody tr th {\n        vertical-align: top;\n    }\n\n    .dataframe thead th {\n        text-align: right;\n    }\n</style>\n<table border=\"1\" class=\"dataframe\">\n  <thead>\n    <tr style=\"text-align: right;\">\n      <th></th>\n      <th>년월</th>\n      <th>시구</th>\n      <th>시군구</th>\n      <th>계약구분</th>\n      <th>고객호수(호)</th>\n      <th>사용량(kWh)</th>\n      <th>전기요금(원)</th>\n      <th>평균판매단가(원/kWh)</th>\n    </tr>\n  </thead>\n  <tbody>\n    <tr>\n      <th>3</th>\n      <td>202107</td>\n      <td>경상북도</td>\n      <td>전체(시 / 군 / 구)</td>\n      <td>주택용</td>\n      <td>1,177,283</td>\n      <td>322,923,449</td>\n      <td>31,553,309,333</td>\n      <td>97.7</td>\n    </tr>\n    <tr>\n      <th>4</th>\n      <td>202107</td>\n      <td>경상북도</td>\n      <td>전체(시 / 군 / 구)</td>\n      <td>일반용</td>\n      <td>224,866</td>\n      <td>472,408,629</td>\n      <td>69,602,758,532</td>\n      <td>147.3</td>\n    </tr>\n    <tr>\n      <th>5</th>\n      <td>202107</td>\n      <td>경상북도</td>\n      <td>전체(시 / 군 / 구)</td>\n      <td>교육용</td>\n      <td>1,498</td>\n      <td>52,434,393</td>\n      <td>5,926,927,038</td>\n      <td>113.0</td>\n    </tr>\n    <tr>\n      <th>6</th>\n      <td>202107</td>\n      <td>경상북도</td>\n      <td>전체(시 / 군 / 구)</td>\n      <td>산업용</td>\n      <td>33,363</td>\n      <td>2,596,447,047</td>\n      <td>292,817,966,255</td>\n      <td>112.8</td>\n    </tr>\n    <tr>\n      <th>7</th>\n      <td>202107</td>\n      <td>경상북도</td>\n      <td>전체(시 / 군 / 구)</td>\n      <td>농사용</td>\n      <td>382,100</td>\n      <td>206,608,765</td>\n      <td>9,560,556,479</td>\n      <td>46.3</td>\n    </tr>\n    <tr>\n      <th>...</th>\n      <td>...</td>\n      <td>...</td>\n      <td>...</td>\n      <td>...</td>\n      <td>...</td>\n      <td>...</td>\n      <td>...</td>\n      <td>...</td>\n    </tr>\n    <tr>\n      <th>1147</th>\n      <td>202112</td>\n      <td>경상북도</td>\n      <td>포항시</td>\n      <td>산업용</td>\n      <td>2,789</td>\n      <td>672,630,454</td>\n      <td>72,007,571,531</td>\n      <td>107.1</td>\n    </tr>\n    <tr>\n      <th>1148</th>\n      <td>202112</td>\n      <td>경상북도</td>\n      <td>포항시</td>\n      <td>심 야</td>\n      <td>3,918</td>\n      <td>6,510,358</td>\n      <td>490,144,916</td>\n      <td>75.3</td>\n    </tr>\n    <tr>\n      <th>1149</th>\n      <td>202112</td>\n      <td>경상북도</td>\n      <td>포항시</td>\n      <td>일반용</td>\n      <td>41,591</td>\n      <td>89,851,320</td>\n      <td>12,521,125,600</td>\n      <td>139.4</td>\n    </tr>\n    <tr>\n      <th>1150</th>\n      <td>202112</td>\n      <td>경상북도</td>\n      <td>포항시</td>\n      <td>주택용</td>\n      <td>187,633</td>\n      <td>61,608,006</td>\n      <td>6,633,929,976</td>\n      <td>107.7</td>\n    </tr>\n    <tr>\n      <th>1151</th>\n      <td>202112</td>\n      <td>경상북도</td>\n      <td>포항시</td>\n      <td>합계</td>\n      <td>277,394</td>\n      <td>865,376,552</td>\n      <td>94,479,599,048</td>\n      <td>109.2</td>\n    </tr>\n  </tbody>\n</table>\n<p>1148 rows × 8 columns</p>\n</div>"
     },
     "execution_count": 5,
     "metadata": {},
     "output_type": "execute_result"
    }
   ],
   "source": [
    "df.columns = a\n",
    "df"
   ],
   "metadata": {
    "collapsed": false,
    "pycharm": {
     "name": "#%%\n"
    }
   }
  },
  {
   "cell_type": "code",
   "execution_count": 6,
   "outputs": [
    {
     "data": {
      "text/plain": "        년월    시구            시군구 계약구분     고객호수(호)        사용량(kWh)  \\\n3   202107  경상북도  전체(시 / 군 / 구)  주택용  1,177,283     322,923,449    \n4   202107  경상북도  전체(시 / 군 / 구)  일반용    224,866     472,408,629    \n5   202107  경상북도  전체(시 / 군 / 구)  교육용      1,498      52,434,393    \n6   202107  경상북도  전체(시 / 군 / 구)  산업용     33,363   2,596,447,047    \n7   202107  경상북도  전체(시 / 군 / 구)  농사용    382,100     206,608,765    \n8   202107  경상북도  전체(시 / 군 / 구)  가로등    220,298      23,214,267    \n9   202107  경상북도  전체(시 / 군 / 구)  심 야     70,669      28,163,542    \n10  202108  경상북도  전체(시 / 군 / 구)  주택용  1,177,885     418,638,396    \n11  202108  경상북도  전체(시 / 군 / 구)  일반용    225,519     546,149,513    \n12  202108  경상북도  전체(시 / 군 / 구)  교육용      1,496      48,715,160    \n13  202108  경상북도  전체(시 / 군 / 구)  산업용     33,399   2,436,008,392    \n14  202108  경상북도  전체(시 / 군 / 구)  농사용    384,259     269,776,887    \n15  202108  경상북도  전체(시 / 군 / 구)  가로등    220,770      24,715,171    \n16  202108  경상북도  전체(시 / 군 / 구)  심 야     70,477      22,704,730    \n17  202109  경상북도  전체(시 / 군 / 구)  주택용  1,178,977     333,751,196    \n18  202109  경상북도  전체(시 / 군 / 구)  일반용    226,162     468,334,360    \n19  202109  경상북도  전체(시 / 군 / 구)  교육용      1,497      48,169,523    \n20  202109  경상북도  전체(시 / 군 / 구)  산업용     33,472   2,518,459,461    \n21  202109  경상북도  전체(시 / 군 / 구)  농사용    386,732     258,797,300    \n22  202109  경상북도  전체(시 / 군 / 구)  가로등    221,224      24,821,120    \n23  202109  경상북도  전체(시 / 군 / 구)  심 야     70,303      25,702,989    \n24  202110  경상북도  전체(시 / 군 / 구)  주택용  1,179,638     298,450,082    \n25  202110  경상북도  전체(시 / 군 / 구)  일반용    226,276     417,383,514    \n26  202110  경상북도  전체(시 / 군 / 구)  교육용      1,497      46,310,378    \n27  202110  경상북도  전체(시 / 군 / 구)  산업용     33,509   2,604,148,975    \n28  202110  경상북도  전체(시 / 군 / 구)  농사용    387,763     200,968,019    \n29  202110  경상북도  전체(시 / 군 / 구)  가로등    221,562      26,364,437    \n30  202110  경상북도  전체(시 / 군 / 구)  심 야     70,125      34,150,726    \n31  202111  경상북도  전체(시 / 군 / 구)  주택용  1,180,775     309,201,741    \n32  202111  경상북도  전체(시 / 군 / 구)  일반용    226,917     440,709,454    \n33  202111  경상북도  전체(시 / 군 / 구)  교육용      1,498      55,965,634    \n34  202111  경상북도  전체(시 / 군 / 구)  산업용     33,546   2,469,967,402    \n35  202111  경상북도  전체(시 / 군 / 구)  농사용    460,521     227,961,421    \n36  202111  경상북도  전체(시 / 군 / 구)  가로등    222,108      27,798,563    \n37  202111  경상북도  전체(시 / 군 / 구)  심 야     70,010      78,230,355    \n38  202112  경상북도  전체(시 / 군 / 구)  주택용  1,181,698     322,131,198    \n39  202112  경상북도  전체(시 / 군 / 구)  일반용    227,544     502,381,504    \n40  202112  경상북도  전체(시 / 군 / 구)  교육용      1,498      71,131,420    \n41  202112  경상북도  전체(시 / 군 / 구)  산업용     33,619   2,613,881,608    \n42  202112  경상북도  전체(시 / 군 / 구)  농사용    385,556     198,227,927    \n43  202112  경상북도  전체(시 / 군 / 구)  가로등    222,506      28,224,475    \n44  202112  경상북도  전체(시 / 군 / 구)  심 야     69,766     118,222,433    \n45      합계    합계             합계   합계  12,780,181  22,238,755,556   \n\n              전기요금(원) 평균판매단가(원/kWh)  \n3     31,553,309,333          97.7   \n4     69,602,758,532         147.3   \n5      5,926,927,038         113.0   \n6    292,817,966,255         112.8   \n7      9,560,556,479          46.3   \n8      2,802,351,661         120.7   \n9      1,527,393,647          54.2   \n10    45,171,169,656         107.9   \n11    77,381,636,869         141.7   \n12     5,623,657,155         115.4   \n13   270,713,686,822         111.1   \n14    11,990,705,679          44.4   \n15     2,867,815,079         116.0   \n16     1,269,020,029          55.9   \n17    32,828,141,012          98.4   \n18    60,923,221,295         130.1   \n19     4,578,628,662          95.1   \n20   232,353,352,822          92.3   \n21    11,720,782,400          45.3   \n22     2,828,726,441         114.0   \n23     1,385,258,245          53.9   \n24    31,063,789,612         104.1   \n25    49,597,607,313         118.8   \n26     4,055,419,653          87.6   \n27   235,551,355,992          90.5   \n28    10,167,368,651          50.6   \n29     2,928,747,729         111.1   \n30     1,904,454,241          55.8   \n31    33,134,402,294         107.2   \n32    57,685,854,369         130.9   \n33     5,723,512,994         102.3   \n34   282,667,103,367         114.4   \n35    10,701,354,894          46.9   \n36     3,022,825,293         108.7   \n37     4,992,146,671          63.8   \n38    35,349,346,872         109.7   \n39    69,277,644,817         137.9   \n40     6,925,534,615          97.4   \n41   299,223,574,187         114.5   \n42    10,076,421,140          50.8   \n43     3,009,309,102         106.6   \n44     8,864,269,721          75.0   \n45  2,341,349,108,638         105.3  ",
      "text/html": "<div>\n<style scoped>\n    .dataframe tbody tr th:only-of-type {\n        vertical-align: middle;\n    }\n\n    .dataframe tbody tr th {\n        vertical-align: top;\n    }\n\n    .dataframe thead th {\n        text-align: right;\n    }\n</style>\n<table border=\"1\" class=\"dataframe\">\n  <thead>\n    <tr style=\"text-align: right;\">\n      <th></th>\n      <th>년월</th>\n      <th>시구</th>\n      <th>시군구</th>\n      <th>계약구분</th>\n      <th>고객호수(호)</th>\n      <th>사용량(kWh)</th>\n      <th>전기요금(원)</th>\n      <th>평균판매단가(원/kWh)</th>\n    </tr>\n  </thead>\n  <tbody>\n    <tr>\n      <th>3</th>\n      <td>202107</td>\n      <td>경상북도</td>\n      <td>전체(시 / 군 / 구)</td>\n      <td>주택용</td>\n      <td>1,177,283</td>\n      <td>322,923,449</td>\n      <td>31,553,309,333</td>\n      <td>97.7</td>\n    </tr>\n    <tr>\n      <th>4</th>\n      <td>202107</td>\n      <td>경상북도</td>\n      <td>전체(시 / 군 / 구)</td>\n      <td>일반용</td>\n      <td>224,866</td>\n      <td>472,408,629</td>\n      <td>69,602,758,532</td>\n      <td>147.3</td>\n    </tr>\n    <tr>\n      <th>5</th>\n      <td>202107</td>\n      <td>경상북도</td>\n      <td>전체(시 / 군 / 구)</td>\n      <td>교육용</td>\n      <td>1,498</td>\n      <td>52,434,393</td>\n      <td>5,926,927,038</td>\n      <td>113.0</td>\n    </tr>\n    <tr>\n      <th>6</th>\n      <td>202107</td>\n      <td>경상북도</td>\n      <td>전체(시 / 군 / 구)</td>\n      <td>산업용</td>\n      <td>33,363</td>\n      <td>2,596,447,047</td>\n      <td>292,817,966,255</td>\n      <td>112.8</td>\n    </tr>\n    <tr>\n      <th>7</th>\n      <td>202107</td>\n      <td>경상북도</td>\n      <td>전체(시 / 군 / 구)</td>\n      <td>농사용</td>\n      <td>382,100</td>\n      <td>206,608,765</td>\n      <td>9,560,556,479</td>\n      <td>46.3</td>\n    </tr>\n    <tr>\n      <th>8</th>\n      <td>202107</td>\n      <td>경상북도</td>\n      <td>전체(시 / 군 / 구)</td>\n      <td>가로등</td>\n      <td>220,298</td>\n      <td>23,214,267</td>\n      <td>2,802,351,661</td>\n      <td>120.7</td>\n    </tr>\n    <tr>\n      <th>9</th>\n      <td>202107</td>\n      <td>경상북도</td>\n      <td>전체(시 / 군 / 구)</td>\n      <td>심 야</td>\n      <td>70,669</td>\n      <td>28,163,542</td>\n      <td>1,527,393,647</td>\n      <td>54.2</td>\n    </tr>\n    <tr>\n      <th>10</th>\n      <td>202108</td>\n      <td>경상북도</td>\n      <td>전체(시 / 군 / 구)</td>\n      <td>주택용</td>\n      <td>1,177,885</td>\n      <td>418,638,396</td>\n      <td>45,171,169,656</td>\n      <td>107.9</td>\n    </tr>\n    <tr>\n      <th>11</th>\n      <td>202108</td>\n      <td>경상북도</td>\n      <td>전체(시 / 군 / 구)</td>\n      <td>일반용</td>\n      <td>225,519</td>\n      <td>546,149,513</td>\n      <td>77,381,636,869</td>\n      <td>141.7</td>\n    </tr>\n    <tr>\n      <th>12</th>\n      <td>202108</td>\n      <td>경상북도</td>\n      <td>전체(시 / 군 / 구)</td>\n      <td>교육용</td>\n      <td>1,496</td>\n      <td>48,715,160</td>\n      <td>5,623,657,155</td>\n      <td>115.4</td>\n    </tr>\n    <tr>\n      <th>13</th>\n      <td>202108</td>\n      <td>경상북도</td>\n      <td>전체(시 / 군 / 구)</td>\n      <td>산업용</td>\n      <td>33,399</td>\n      <td>2,436,008,392</td>\n      <td>270,713,686,822</td>\n      <td>111.1</td>\n    </tr>\n    <tr>\n      <th>14</th>\n      <td>202108</td>\n      <td>경상북도</td>\n      <td>전체(시 / 군 / 구)</td>\n      <td>농사용</td>\n      <td>384,259</td>\n      <td>269,776,887</td>\n      <td>11,990,705,679</td>\n      <td>44.4</td>\n    </tr>\n    <tr>\n      <th>15</th>\n      <td>202108</td>\n      <td>경상북도</td>\n      <td>전체(시 / 군 / 구)</td>\n      <td>가로등</td>\n      <td>220,770</td>\n      <td>24,715,171</td>\n      <td>2,867,815,079</td>\n      <td>116.0</td>\n    </tr>\n    <tr>\n      <th>16</th>\n      <td>202108</td>\n      <td>경상북도</td>\n      <td>전체(시 / 군 / 구)</td>\n      <td>심 야</td>\n      <td>70,477</td>\n      <td>22,704,730</td>\n      <td>1,269,020,029</td>\n      <td>55.9</td>\n    </tr>\n    <tr>\n      <th>17</th>\n      <td>202109</td>\n      <td>경상북도</td>\n      <td>전체(시 / 군 / 구)</td>\n      <td>주택용</td>\n      <td>1,178,977</td>\n      <td>333,751,196</td>\n      <td>32,828,141,012</td>\n      <td>98.4</td>\n    </tr>\n    <tr>\n      <th>18</th>\n      <td>202109</td>\n      <td>경상북도</td>\n      <td>전체(시 / 군 / 구)</td>\n      <td>일반용</td>\n      <td>226,162</td>\n      <td>468,334,360</td>\n      <td>60,923,221,295</td>\n      <td>130.1</td>\n    </tr>\n    <tr>\n      <th>19</th>\n      <td>202109</td>\n      <td>경상북도</td>\n      <td>전체(시 / 군 / 구)</td>\n      <td>교육용</td>\n      <td>1,497</td>\n      <td>48,169,523</td>\n      <td>4,578,628,662</td>\n      <td>95.1</td>\n    </tr>\n    <tr>\n      <th>20</th>\n      <td>202109</td>\n      <td>경상북도</td>\n      <td>전체(시 / 군 / 구)</td>\n      <td>산업용</td>\n      <td>33,472</td>\n      <td>2,518,459,461</td>\n      <td>232,353,352,822</td>\n      <td>92.3</td>\n    </tr>\n    <tr>\n      <th>21</th>\n      <td>202109</td>\n      <td>경상북도</td>\n      <td>전체(시 / 군 / 구)</td>\n      <td>농사용</td>\n      <td>386,732</td>\n      <td>258,797,300</td>\n      <td>11,720,782,400</td>\n      <td>45.3</td>\n    </tr>\n    <tr>\n      <th>22</th>\n      <td>202109</td>\n      <td>경상북도</td>\n      <td>전체(시 / 군 / 구)</td>\n      <td>가로등</td>\n      <td>221,224</td>\n      <td>24,821,120</td>\n      <td>2,828,726,441</td>\n      <td>114.0</td>\n    </tr>\n    <tr>\n      <th>23</th>\n      <td>202109</td>\n      <td>경상북도</td>\n      <td>전체(시 / 군 / 구)</td>\n      <td>심 야</td>\n      <td>70,303</td>\n      <td>25,702,989</td>\n      <td>1,385,258,245</td>\n      <td>53.9</td>\n    </tr>\n    <tr>\n      <th>24</th>\n      <td>202110</td>\n      <td>경상북도</td>\n      <td>전체(시 / 군 / 구)</td>\n      <td>주택용</td>\n      <td>1,179,638</td>\n      <td>298,450,082</td>\n      <td>31,063,789,612</td>\n      <td>104.1</td>\n    </tr>\n    <tr>\n      <th>25</th>\n      <td>202110</td>\n      <td>경상북도</td>\n      <td>전체(시 / 군 / 구)</td>\n      <td>일반용</td>\n      <td>226,276</td>\n      <td>417,383,514</td>\n      <td>49,597,607,313</td>\n      <td>118.8</td>\n    </tr>\n    <tr>\n      <th>26</th>\n      <td>202110</td>\n      <td>경상북도</td>\n      <td>전체(시 / 군 / 구)</td>\n      <td>교육용</td>\n      <td>1,497</td>\n      <td>46,310,378</td>\n      <td>4,055,419,653</td>\n      <td>87.6</td>\n    </tr>\n    <tr>\n      <th>27</th>\n      <td>202110</td>\n      <td>경상북도</td>\n      <td>전체(시 / 군 / 구)</td>\n      <td>산업용</td>\n      <td>33,509</td>\n      <td>2,604,148,975</td>\n      <td>235,551,355,992</td>\n      <td>90.5</td>\n    </tr>\n    <tr>\n      <th>28</th>\n      <td>202110</td>\n      <td>경상북도</td>\n      <td>전체(시 / 군 / 구)</td>\n      <td>농사용</td>\n      <td>387,763</td>\n      <td>200,968,019</td>\n      <td>10,167,368,651</td>\n      <td>50.6</td>\n    </tr>\n    <tr>\n      <th>29</th>\n      <td>202110</td>\n      <td>경상북도</td>\n      <td>전체(시 / 군 / 구)</td>\n      <td>가로등</td>\n      <td>221,562</td>\n      <td>26,364,437</td>\n      <td>2,928,747,729</td>\n      <td>111.1</td>\n    </tr>\n    <tr>\n      <th>30</th>\n      <td>202110</td>\n      <td>경상북도</td>\n      <td>전체(시 / 군 / 구)</td>\n      <td>심 야</td>\n      <td>70,125</td>\n      <td>34,150,726</td>\n      <td>1,904,454,241</td>\n      <td>55.8</td>\n    </tr>\n    <tr>\n      <th>31</th>\n      <td>202111</td>\n      <td>경상북도</td>\n      <td>전체(시 / 군 / 구)</td>\n      <td>주택용</td>\n      <td>1,180,775</td>\n      <td>309,201,741</td>\n      <td>33,134,402,294</td>\n      <td>107.2</td>\n    </tr>\n    <tr>\n      <th>32</th>\n      <td>202111</td>\n      <td>경상북도</td>\n      <td>전체(시 / 군 / 구)</td>\n      <td>일반용</td>\n      <td>226,917</td>\n      <td>440,709,454</td>\n      <td>57,685,854,369</td>\n      <td>130.9</td>\n    </tr>\n    <tr>\n      <th>33</th>\n      <td>202111</td>\n      <td>경상북도</td>\n      <td>전체(시 / 군 / 구)</td>\n      <td>교육용</td>\n      <td>1,498</td>\n      <td>55,965,634</td>\n      <td>5,723,512,994</td>\n      <td>102.3</td>\n    </tr>\n    <tr>\n      <th>34</th>\n      <td>202111</td>\n      <td>경상북도</td>\n      <td>전체(시 / 군 / 구)</td>\n      <td>산업용</td>\n      <td>33,546</td>\n      <td>2,469,967,402</td>\n      <td>282,667,103,367</td>\n      <td>114.4</td>\n    </tr>\n    <tr>\n      <th>35</th>\n      <td>202111</td>\n      <td>경상북도</td>\n      <td>전체(시 / 군 / 구)</td>\n      <td>농사용</td>\n      <td>460,521</td>\n      <td>227,961,421</td>\n      <td>10,701,354,894</td>\n      <td>46.9</td>\n    </tr>\n    <tr>\n      <th>36</th>\n      <td>202111</td>\n      <td>경상북도</td>\n      <td>전체(시 / 군 / 구)</td>\n      <td>가로등</td>\n      <td>222,108</td>\n      <td>27,798,563</td>\n      <td>3,022,825,293</td>\n      <td>108.7</td>\n    </tr>\n    <tr>\n      <th>37</th>\n      <td>202111</td>\n      <td>경상북도</td>\n      <td>전체(시 / 군 / 구)</td>\n      <td>심 야</td>\n      <td>70,010</td>\n      <td>78,230,355</td>\n      <td>4,992,146,671</td>\n      <td>63.8</td>\n    </tr>\n    <tr>\n      <th>38</th>\n      <td>202112</td>\n      <td>경상북도</td>\n      <td>전체(시 / 군 / 구)</td>\n      <td>주택용</td>\n      <td>1,181,698</td>\n      <td>322,131,198</td>\n      <td>35,349,346,872</td>\n      <td>109.7</td>\n    </tr>\n    <tr>\n      <th>39</th>\n      <td>202112</td>\n      <td>경상북도</td>\n      <td>전체(시 / 군 / 구)</td>\n      <td>일반용</td>\n      <td>227,544</td>\n      <td>502,381,504</td>\n      <td>69,277,644,817</td>\n      <td>137.9</td>\n    </tr>\n    <tr>\n      <th>40</th>\n      <td>202112</td>\n      <td>경상북도</td>\n      <td>전체(시 / 군 / 구)</td>\n      <td>교육용</td>\n      <td>1,498</td>\n      <td>71,131,420</td>\n      <td>6,925,534,615</td>\n      <td>97.4</td>\n    </tr>\n    <tr>\n      <th>41</th>\n      <td>202112</td>\n      <td>경상북도</td>\n      <td>전체(시 / 군 / 구)</td>\n      <td>산업용</td>\n      <td>33,619</td>\n      <td>2,613,881,608</td>\n      <td>299,223,574,187</td>\n      <td>114.5</td>\n    </tr>\n    <tr>\n      <th>42</th>\n      <td>202112</td>\n      <td>경상북도</td>\n      <td>전체(시 / 군 / 구)</td>\n      <td>농사용</td>\n      <td>385,556</td>\n      <td>198,227,927</td>\n      <td>10,076,421,140</td>\n      <td>50.8</td>\n    </tr>\n    <tr>\n      <th>43</th>\n      <td>202112</td>\n      <td>경상북도</td>\n      <td>전체(시 / 군 / 구)</td>\n      <td>가로등</td>\n      <td>222,506</td>\n      <td>28,224,475</td>\n      <td>3,009,309,102</td>\n      <td>106.6</td>\n    </tr>\n    <tr>\n      <th>44</th>\n      <td>202112</td>\n      <td>경상북도</td>\n      <td>전체(시 / 군 / 구)</td>\n      <td>심 야</td>\n      <td>69,766</td>\n      <td>118,222,433</td>\n      <td>8,864,269,721</td>\n      <td>75.0</td>\n    </tr>\n    <tr>\n      <th>45</th>\n      <td>합계</td>\n      <td>합계</td>\n      <td>합계</td>\n      <td>합계</td>\n      <td>12,780,181</td>\n      <td>22,238,755,556</td>\n      <td>2,341,349,108,638</td>\n      <td>105.3</td>\n    </tr>\n  </tbody>\n</table>\n</div>"
     },
     "execution_count": 6,
     "metadata": {},
     "output_type": "execute_result"
    }
   ],
   "source": [
    "df_2 = df.loc[:45]\n",
    "df_2\n"
   ],
   "metadata": {
    "collapsed": false,
    "pycharm": {
     "name": "#%%\n"
    }
   }
  },
  {
   "cell_type": "code",
   "execution_count": 7,
   "outputs": [
    {
     "name": "stderr",
     "output_type": "stream",
     "text": [
      "C:\\Users\\user\\AppData\\Local\\Temp\\ipykernel_24604\\3551721261.py:3: SettingWithCopyWarning: \n",
      "A value is trying to be set on a copy of a slice from a DataFrame\n",
      "\n",
      "See the caveats in the documentation: https://pandas.pydata.org/pandas-docs/stable/user_guide/indexing.html#returning-a-view-versus-a-copy\n",
      "  GyeonGi.drop(['시군구' , '전기요금(원)' , '평균판매단가(원/kWh)'] , axis = 1 , inplace = True)\n"
     ]
    },
    {
     "data": {
      "text/plain": "        년월    시구 계약구분   고객호수(호)      사용량(kWh)\n4   202107  경상북도  일반용  224,866   472,408,629 \n11  202108  경상북도  일반용  225,519   546,149,513 \n18  202109  경상북도  일반용  226,162   468,334,360 \n25  202110  경상북도  일반용  226,276   417,383,514 \n32  202111  경상북도  일반용  226,917   440,709,454 \n39  202112  경상북도  일반용  227,544   502,381,504 ",
      "text/html": "<div>\n<style scoped>\n    .dataframe tbody tr th:only-of-type {\n        vertical-align: middle;\n    }\n\n    .dataframe tbody tr th {\n        vertical-align: top;\n    }\n\n    .dataframe thead th {\n        text-align: right;\n    }\n</style>\n<table border=\"1\" class=\"dataframe\">\n  <thead>\n    <tr style=\"text-align: right;\">\n      <th></th>\n      <th>년월</th>\n      <th>시구</th>\n      <th>계약구분</th>\n      <th>고객호수(호)</th>\n      <th>사용량(kWh)</th>\n    </tr>\n  </thead>\n  <tbody>\n    <tr>\n      <th>4</th>\n      <td>202107</td>\n      <td>경상북도</td>\n      <td>일반용</td>\n      <td>224,866</td>\n      <td>472,408,629</td>\n    </tr>\n    <tr>\n      <th>11</th>\n      <td>202108</td>\n      <td>경상북도</td>\n      <td>일반용</td>\n      <td>225,519</td>\n      <td>546,149,513</td>\n    </tr>\n    <tr>\n      <th>18</th>\n      <td>202109</td>\n      <td>경상북도</td>\n      <td>일반용</td>\n      <td>226,162</td>\n      <td>468,334,360</td>\n    </tr>\n    <tr>\n      <th>25</th>\n      <td>202110</td>\n      <td>경상북도</td>\n      <td>일반용</td>\n      <td>226,276</td>\n      <td>417,383,514</td>\n    </tr>\n    <tr>\n      <th>32</th>\n      <td>202111</td>\n      <td>경상북도</td>\n      <td>일반용</td>\n      <td>226,917</td>\n      <td>440,709,454</td>\n    </tr>\n    <tr>\n      <th>39</th>\n      <td>202112</td>\n      <td>경상북도</td>\n      <td>일반용</td>\n      <td>227,544</td>\n      <td>502,381,504</td>\n    </tr>\n  </tbody>\n</table>\n</div>"
     },
     "execution_count": 7,
     "metadata": {},
     "output_type": "execute_result"
    }
   ],
   "source": [
    "GyeonGi  = df_2.loc[(df_2['계약구분'] == '일반용')]\n",
    "#SEOUL = df_3.loc[(df_3['계약구분'] =='일반용')]\n",
    "GyeonGi.drop(['시군구' , '전기요금(원)' , '평균판매단가(원/kWh)'] , axis = 1 , inplace = True)\n",
    "GyeonGi"
   ],
   "metadata": {
    "collapsed": false,
    "pycharm": {
     "name": "#%%\n"
    }
   }
  },
  {
   "cell_type": "code",
   "execution_count": 8,
   "outputs": [],
   "source": [
    "#SEOUL1.to_csv(\"서울특별시_계약종별_전국_전력사용량_2022.csv\" , mode = 'w' , encoding= 'cp949')"
   ],
   "metadata": {
    "collapsed": false,
    "pycharm": {
     "name": "#%%\n"
    }
   }
  },
  {
   "cell_type": "code",
   "execution_count": 9,
   "outputs": [],
   "source": [
    "#df_2.to_csv(\"서울특별시_계약종별_전국_전력사용량.csv\" , mode = 'w' , encoding= 'cp949')"
   ],
   "metadata": {
    "collapsed": false,
    "pycharm": {
     "name": "#%%\n"
    }
   }
  },
  {
   "cell_type": "code",
   "execution_count": 10,
   "outputs": [
    {
     "data": {
      "text/plain": "          년월    시구  시군구 계약구분  고객호수(호)      사용량(kWh)\n53    202107  경상북도  경산시  일반용  18,404    42,100,258 \n237   202108  경상북도  경산시  일반용  18,428    48,799,999 \n421   202109  경상북도  경산시  일반용  18,464    42,242,977 \n605   202110  경상북도  경산시  일반용  18,463    37,386,086 \n789   202111  경상북도  경산시  일반용  18,501    37,296,646 \n...      ...   ...  ...  ...      ...           ...\n413   202108  경상북도  포항시  일반용  41,075   107,112,696 \n597   202109  경상북도  포항시  일반용  41,302    90,552,706 \n781   202110  경상북도  포항시  일반용  41,320    81,031,248 \n965   202111  경상북도  포항시  일반용  41,401    80,560,151 \n1149  202112  경상북도  포항시  일반용  41,591    89,851,320 \n\n[138 rows x 6 columns]",
      "text/html": "<div>\n<style scoped>\n    .dataframe tbody tr th:only-of-type {\n        vertical-align: middle;\n    }\n\n    .dataframe tbody tr th {\n        vertical-align: top;\n    }\n\n    .dataframe thead th {\n        text-align: right;\n    }\n</style>\n<table border=\"1\" class=\"dataframe\">\n  <thead>\n    <tr style=\"text-align: right;\">\n      <th></th>\n      <th>년월</th>\n      <th>시구</th>\n      <th>시군구</th>\n      <th>계약구분</th>\n      <th>고객호수(호)</th>\n      <th>사용량(kWh)</th>\n    </tr>\n  </thead>\n  <tbody>\n    <tr>\n      <th>53</th>\n      <td>202107</td>\n      <td>경상북도</td>\n      <td>경산시</td>\n      <td>일반용</td>\n      <td>18,404</td>\n      <td>42,100,258</td>\n    </tr>\n    <tr>\n      <th>237</th>\n      <td>202108</td>\n      <td>경상북도</td>\n      <td>경산시</td>\n      <td>일반용</td>\n      <td>18,428</td>\n      <td>48,799,999</td>\n    </tr>\n    <tr>\n      <th>421</th>\n      <td>202109</td>\n      <td>경상북도</td>\n      <td>경산시</td>\n      <td>일반용</td>\n      <td>18,464</td>\n      <td>42,242,977</td>\n    </tr>\n    <tr>\n      <th>605</th>\n      <td>202110</td>\n      <td>경상북도</td>\n      <td>경산시</td>\n      <td>일반용</td>\n      <td>18,463</td>\n      <td>37,386,086</td>\n    </tr>\n    <tr>\n      <th>789</th>\n      <td>202111</td>\n      <td>경상북도</td>\n      <td>경산시</td>\n      <td>일반용</td>\n      <td>18,501</td>\n      <td>37,296,646</td>\n    </tr>\n    <tr>\n      <th>...</th>\n      <td>...</td>\n      <td>...</td>\n      <td>...</td>\n      <td>...</td>\n      <td>...</td>\n      <td>...</td>\n    </tr>\n    <tr>\n      <th>413</th>\n      <td>202108</td>\n      <td>경상북도</td>\n      <td>포항시</td>\n      <td>일반용</td>\n      <td>41,075</td>\n      <td>107,112,696</td>\n    </tr>\n    <tr>\n      <th>597</th>\n      <td>202109</td>\n      <td>경상북도</td>\n      <td>포항시</td>\n      <td>일반용</td>\n      <td>41,302</td>\n      <td>90,552,706</td>\n    </tr>\n    <tr>\n      <th>781</th>\n      <td>202110</td>\n      <td>경상북도</td>\n      <td>포항시</td>\n      <td>일반용</td>\n      <td>41,320</td>\n      <td>81,031,248</td>\n    </tr>\n    <tr>\n      <th>965</th>\n      <td>202111</td>\n      <td>경상북도</td>\n      <td>포항시</td>\n      <td>일반용</td>\n      <td>41,401</td>\n      <td>80,560,151</td>\n    </tr>\n    <tr>\n      <th>1149</th>\n      <td>202112</td>\n      <td>경상북도</td>\n      <td>포항시</td>\n      <td>일반용</td>\n      <td>41,591</td>\n      <td>89,851,320</td>\n    </tr>\n  </tbody>\n</table>\n<p>138 rows × 6 columns</p>\n</div>"
     },
     "execution_count": 10,
     "metadata": {},
     "output_type": "execute_result"
    }
   ],
   "source": [
    "df_3 = df.loc[48:]\n",
    "df_3 = df_3.loc[(df_3['계약구분'] == '일반용')]\n",
    "df_3 = df_3.sort_values(by=['시군구' , '년월'])\n",
    "df_3.drop(['전기요금(원)',   '평균판매단가(원/kWh)'] , axis = 1 , inplace = True)\n",
    "df_3"
   ],
   "metadata": {
    "collapsed": false,
    "pycharm": {
     "name": "#%%\n"
    }
   }
  },
  {
   "cell_type": "code",
   "execution_count": 11,
   "outputs": [
    {
     "data": {
      "text/plain": "'경상북도'"
     },
     "execution_count": 11,
     "metadata": {},
     "output_type": "execute_result"
    }
   ],
   "source": [
    "a = df_3.loc[: , \"시구\"]\n",
    "b = a[:1].tolist()\n",
    "for i in b:\n",
    "    City = i\n",
    "City"
   ],
   "metadata": {
    "collapsed": false,
    "pycharm": {
     "name": "#%%\n"
    }
   }
  },
  {
   "cell_type": "code",
   "execution_count": 12,
   "outputs": [
    {
     "data": {
      "text/plain": "['경산시',\n '경주시',\n '고령군',\n '구미시',\n '군위군',\n '김천시',\n '문경시',\n '봉화군',\n '상주시',\n '성주군',\n '안동시',\n '영덕군',\n '영양군',\n '영주시',\n '영천시',\n '예천군',\n '울릉군',\n '울진군',\n '의성군',\n '청도군',\n '청송군',\n '칠곡군',\n '포항시']"
     },
     "execution_count": 12,
     "metadata": {},
     "output_type": "execute_result"
    }
   ],
   "source": [
    "\n",
    "SIGUNGU = list(set(df_3.loc[: , '시군구'].tolist()))\n",
    "SIGUNGU.sort()\n",
    "SIGUNGU"
   ],
   "metadata": {
    "collapsed": false,
    "pycharm": {
     "name": "#%%\n"
    }
   }
  },
  {
   "cell_type": "code",
   "execution_count": 13,
   "outputs": [
    {
     "data": {
      "text/plain": "          년월    시구  시군구 계약구분   고객호수(호)      사용량(kWh)\n55    202107  경상북도  경산시   합계  163,608   230,804,879 \n239   202108  경상북도  경산시   합계  163,745   240,541,825 \n423   202109  경상북도  경산시   합계  163,932   225,699,703 \n607   202110  경상북도  경산시   합계  163,956   210,673,518 \n791   202111  경상북도  경산시   합계  164,273   225,714,853 \n...      ...   ...  ...  ...       ...           ...\n415   202108  경상북도  포항시   합계  276,734   869,268,023 \n599   202109  경상북도  포항시   합계  277,147   817,724,081 \n783   202110  경상북도  포항시   합계  277,267   859,751,108 \n967   202111  경상북도  포항시   합계  281,345   860,642,608 \n1151  202112  경상북도  포항시   합계  277,394   865,376,552 \n\n[138 rows x 6 columns]",
      "text/html": "<div>\n<style scoped>\n    .dataframe tbody tr th:only-of-type {\n        vertical-align: middle;\n    }\n\n    .dataframe tbody tr th {\n        vertical-align: top;\n    }\n\n    .dataframe thead th {\n        text-align: right;\n    }\n</style>\n<table border=\"1\" class=\"dataframe\">\n  <thead>\n    <tr style=\"text-align: right;\">\n      <th></th>\n      <th>년월</th>\n      <th>시구</th>\n      <th>시군구</th>\n      <th>계약구분</th>\n      <th>고객호수(호)</th>\n      <th>사용량(kWh)</th>\n    </tr>\n  </thead>\n  <tbody>\n    <tr>\n      <th>55</th>\n      <td>202107</td>\n      <td>경상북도</td>\n      <td>경산시</td>\n      <td>합계</td>\n      <td>163,608</td>\n      <td>230,804,879</td>\n    </tr>\n    <tr>\n      <th>239</th>\n      <td>202108</td>\n      <td>경상북도</td>\n      <td>경산시</td>\n      <td>합계</td>\n      <td>163,745</td>\n      <td>240,541,825</td>\n    </tr>\n    <tr>\n      <th>423</th>\n      <td>202109</td>\n      <td>경상북도</td>\n      <td>경산시</td>\n      <td>합계</td>\n      <td>163,932</td>\n      <td>225,699,703</td>\n    </tr>\n    <tr>\n      <th>607</th>\n      <td>202110</td>\n      <td>경상북도</td>\n      <td>경산시</td>\n      <td>합계</td>\n      <td>163,956</td>\n      <td>210,673,518</td>\n    </tr>\n    <tr>\n      <th>791</th>\n      <td>202111</td>\n      <td>경상북도</td>\n      <td>경산시</td>\n      <td>합계</td>\n      <td>164,273</td>\n      <td>225,714,853</td>\n    </tr>\n    <tr>\n      <th>...</th>\n      <td>...</td>\n      <td>...</td>\n      <td>...</td>\n      <td>...</td>\n      <td>...</td>\n      <td>...</td>\n    </tr>\n    <tr>\n      <th>415</th>\n      <td>202108</td>\n      <td>경상북도</td>\n      <td>포항시</td>\n      <td>합계</td>\n      <td>276,734</td>\n      <td>869,268,023</td>\n    </tr>\n    <tr>\n      <th>599</th>\n      <td>202109</td>\n      <td>경상북도</td>\n      <td>포항시</td>\n      <td>합계</td>\n      <td>277,147</td>\n      <td>817,724,081</td>\n    </tr>\n    <tr>\n      <th>783</th>\n      <td>202110</td>\n      <td>경상북도</td>\n      <td>포항시</td>\n      <td>합계</td>\n      <td>277,267</td>\n      <td>859,751,108</td>\n    </tr>\n    <tr>\n      <th>967</th>\n      <td>202111</td>\n      <td>경상북도</td>\n      <td>포항시</td>\n      <td>합계</td>\n      <td>281,345</td>\n      <td>860,642,608</td>\n    </tr>\n    <tr>\n      <th>1151</th>\n      <td>202112</td>\n      <td>경상북도</td>\n      <td>포항시</td>\n      <td>합계</td>\n      <td>277,394</td>\n      <td>865,376,552</td>\n    </tr>\n  </tbody>\n</table>\n<p>138 rows × 6 columns</p>\n</div>"
     },
     "execution_count": 13,
     "metadata": {},
     "output_type": "execute_result"
    }
   ],
   "source": [
    "df_4 = df.loc[48:]\n",
    "df_4 = df_4.loc[(df_4['계약구분'] == '합계')]\n",
    "df_4 = df_4.sort_values(by=['시군구' , '년월'])\n",
    "df_4.drop(['전기요금(원)',   '평균판매단가(원/kWh)'] , axis = 1 , inplace = True)\n",
    "df_4"
   ],
   "metadata": {
    "collapsed": false,
    "pycharm": {
     "name": "#%%\n"
    }
   }
  },
  {
   "cell_type": "code",
   "execution_count": 14,
   "outputs": [
    {
     "name": "stdout",
     "output_type": "stream",
     "text": [
      "[230804879, 240541825, 225699703, 210673518, 225714853, 242696688]\n",
      "[342130659, 340464685, 326910602, 306089791, 322046437, 345062121]\n",
      "[108550616, 106272945, 104989713, 105685332, 113428842, 119626798]\n",
      "[881809564, 793759863, 855212973, 902520605, 790562885, 825185311]\n",
      "[26242498, 28786941, 27483987, 24550563, 28038436, 29848229]\n",
      "[203698989, 207467719, 197848328, 189567424, 200423139, 212062150]\n",
      "[46144512, 51874297, 47490980, 44178968, 49744438, 55122947]\n",
      "[145376796, 143601260, 157980954, 166937880, 97856484, 172347440]\n",
      "[59038071, 69848565, 62989405, 56493750, 73285371, 72024542]\n",
      "[87086601, 86398174, 85076535, 79474132, 92737991, 97616737]\n",
      "[93423714, 108634847, 95820691, 85483883, 97158260, 108888219]\n",
      "[23044352, 27682456, 24305675, 22431355, 24745894, 25862190]\n",
      "[7474416, 9312279, 11907573, 9863721, 9735453, 10237093]\n",
      "[138849998, 145428509, 137360186, 119285471, 145276404, 156635320]\n",
      "[130820778, 132773818, 130678519, 118744733, 132421618, 141302663]\n",
      "[29937197, 36986851, 31094038, 27522581, 34878696, 34718818]\n",
      "[5652254, 6430338, 5575147, 5459088, 6061240, 6016158]\n",
      "[70338710, 87765227, 67106214, 58610378, 40016999, 44690108]\n",
      "[36748561, 43927254, 38035033, 32015607, 35979290, 38151005]\n",
      "[37646672, 43218335, 40156165, 37612464, 43027383, 47577905]\n",
      "[14447759, 16785119, 16388260, 14986634, 17538607, 19446823]\n",
      "[169694181, 169478919, 170201187, 149837145, 168513242, 183704748]\n",
      "[813238315, 869268023, 817724081, 859751108, 860642608, 865376552]\n",
      "경상북도 지역별 합계 :  [1376131466, 1982704295, 658554246, 5049051201, 164950654, 1211067749, 294556142, 884100814, 393679704, 528390170, 589409614, 148071922, 58530535, 842835888, 786742129, 195138181, 35194225, 368527636, 224856750, 249238924, 99593202, 1011429422, 5086000687]\n",
      "경상북도 고객호수 평균:  [27330, 35117, 5904, 35163, 5628, 19340, 11547, 7871, 18343, 10376, 22632, 7404, 4431, 15052, 16070, 10469, 1440, 9634, 12986, 10410, 6901, 14653, 46291]\n"
     ]
    }
   ],
   "source": [
    "sum2 , sum3 =[] , []\n",
    "for k in SIGUNGU:\n",
    "    GyeonGiHap = pd.DataFrame([] , columns = a)\n",
    "    HOSU = pd.DataFrame([], columns = a)\n",
    "    GyeonGiHap['사용량']= df_4['사용량(kWh)'].loc[(df_4['시군구'] == '{}'.format(k))]\n",
    "    HOSU['고객호수']= df_4['고객호수(호)'].loc[(df_4['시군구'] == '{}'.format(k))]\n",
    "    #경기합 데이터프레임의 사용량 열에 기군구가 가평군인 사용량 데이터만 뽑아내기\n",
    "    # GyeonGiHap = GyeonGiHap['사용량']\n",
    "\n",
    "    b = GyeonGiHap['사용량'].tolist()\n",
    "    c = HOSU['고객호수'].tolist()\n",
    "\n",
    "\n",
    "    #각지역별 사용량 리스트화\n",
    "    int_list  , int_list2=[] , []\n",
    "    for i in b:\n",
    "        i = re.sub(\",\" , \"\" , i)\n",
    "        #콤마 없애기\n",
    "        int_list.append(int(i))\n",
    "        #int_list에 각지역별 사용량 int로 저장\n",
    "    print(int_list)\n",
    "    sum=0\n",
    "    for i in c:\n",
    "        i = re.sub(\",\" , \"\" , i)\n",
    "        int_list2.append(int(i))\n",
    "\n",
    "    for j in int_list:\n",
    "\n",
    "        sum+= j\n",
    "    sum2.append(sum)\n",
    "    sum = 0\n",
    "    for j in int_list2: #고객호수 추출하여 더하기\n",
    "\n",
    "        sum+= j\n",
    "    sum3.append(sum//36) #6개월 치로 나눠야하나?!\n",
    "\n",
    "\n",
    "\n",
    "\n",
    "print(\"{} 지역별 합계 : \".format(City) , sum2)\n",
    "print(\"{} 고객호수 평균: \".format(City) , sum3)"
   ],
   "metadata": {
    "collapsed": false,
    "pycharm": {
     "name": "#%%\n"
    }
   }
  },
  {
   "cell_type": "markdown",
   "source": [
    "### 2. 날짜 체크!!!!!!!!!!!!!!!!!!!!!!!!!!!!!!!!!!!!!!!!!!!!!!"
   ],
   "metadata": {
    "collapsed": false,
    "pycharm": {
     "name": "#%% md\n"
    }
   }
  },
  {
   "cell_type": "code",
   "execution_count": 15,
   "outputs": [
    {
     "name": "stderr",
     "output_type": "stream",
     "text": [
      "C:\\Users\\user\\AppData\\Local\\Temp\\ipykernel_24604\\895775541.py:4: FutureWarning: The frame.append method is deprecated and will be removed from pandas in a future version. Use pandas.concat instead.\n",
      "  Hap = Hap.append({'년월' :'202107-202112'  , '시구' : '{}'.format(City) , '시군구' : '{}'.format(SIGUNGU[i]) , '계약구분' : '합계' , '고객호수(호)' : sum3[i] ,  '사용량(kWh)' : sum2[i]} , ignore_index=True) #년월 파일마다 수정하기\n",
      "C:\\Users\\user\\AppData\\Local\\Temp\\ipykernel_24604\\895775541.py:4: FutureWarning: The frame.append method is deprecated and will be removed from pandas in a future version. Use pandas.concat instead.\n",
      "  Hap = Hap.append({'년월' :'202107-202112'  , '시구' : '{}'.format(City) , '시군구' : '{}'.format(SIGUNGU[i]) , '계약구분' : '합계' , '고객호수(호)' : sum3[i] ,  '사용량(kWh)' : sum2[i]} , ignore_index=True) #년월 파일마다 수정하기\n",
      "C:\\Users\\user\\AppData\\Local\\Temp\\ipykernel_24604\\895775541.py:4: FutureWarning: The frame.append method is deprecated and will be removed from pandas in a future version. Use pandas.concat instead.\n",
      "  Hap = Hap.append({'년월' :'202107-202112'  , '시구' : '{}'.format(City) , '시군구' : '{}'.format(SIGUNGU[i]) , '계약구분' : '합계' , '고객호수(호)' : sum3[i] ,  '사용량(kWh)' : sum2[i]} , ignore_index=True) #년월 파일마다 수정하기\n",
      "C:\\Users\\user\\AppData\\Local\\Temp\\ipykernel_24604\\895775541.py:4: FutureWarning: The frame.append method is deprecated and will be removed from pandas in a future version. Use pandas.concat instead.\n",
      "  Hap = Hap.append({'년월' :'202107-202112'  , '시구' : '{}'.format(City) , '시군구' : '{}'.format(SIGUNGU[i]) , '계약구분' : '합계' , '고객호수(호)' : sum3[i] ,  '사용량(kWh)' : sum2[i]} , ignore_index=True) #년월 파일마다 수정하기\n",
      "C:\\Users\\user\\AppData\\Local\\Temp\\ipykernel_24604\\895775541.py:4: FutureWarning: The frame.append method is deprecated and will be removed from pandas in a future version. Use pandas.concat instead.\n",
      "  Hap = Hap.append({'년월' :'202107-202112'  , '시구' : '{}'.format(City) , '시군구' : '{}'.format(SIGUNGU[i]) , '계약구분' : '합계' , '고객호수(호)' : sum3[i] ,  '사용량(kWh)' : sum2[i]} , ignore_index=True) #년월 파일마다 수정하기\n",
      "C:\\Users\\user\\AppData\\Local\\Temp\\ipykernel_24604\\895775541.py:4: FutureWarning: The frame.append method is deprecated and will be removed from pandas in a future version. Use pandas.concat instead.\n",
      "  Hap = Hap.append({'년월' :'202107-202112'  , '시구' : '{}'.format(City) , '시군구' : '{}'.format(SIGUNGU[i]) , '계약구분' : '합계' , '고객호수(호)' : sum3[i] ,  '사용량(kWh)' : sum2[i]} , ignore_index=True) #년월 파일마다 수정하기\n",
      "C:\\Users\\user\\AppData\\Local\\Temp\\ipykernel_24604\\895775541.py:4: FutureWarning: The frame.append method is deprecated and will be removed from pandas in a future version. Use pandas.concat instead.\n",
      "  Hap = Hap.append({'년월' :'202107-202112'  , '시구' : '{}'.format(City) , '시군구' : '{}'.format(SIGUNGU[i]) , '계약구분' : '합계' , '고객호수(호)' : sum3[i] ,  '사용량(kWh)' : sum2[i]} , ignore_index=True) #년월 파일마다 수정하기\n",
      "C:\\Users\\user\\AppData\\Local\\Temp\\ipykernel_24604\\895775541.py:4: FutureWarning: The frame.append method is deprecated and will be removed from pandas in a future version. Use pandas.concat instead.\n",
      "  Hap = Hap.append({'년월' :'202107-202112'  , '시구' : '{}'.format(City) , '시군구' : '{}'.format(SIGUNGU[i]) , '계약구분' : '합계' , '고객호수(호)' : sum3[i] ,  '사용량(kWh)' : sum2[i]} , ignore_index=True) #년월 파일마다 수정하기\n",
      "C:\\Users\\user\\AppData\\Local\\Temp\\ipykernel_24604\\895775541.py:4: FutureWarning: The frame.append method is deprecated and will be removed from pandas in a future version. Use pandas.concat instead.\n",
      "  Hap = Hap.append({'년월' :'202107-202112'  , '시구' : '{}'.format(City) , '시군구' : '{}'.format(SIGUNGU[i]) , '계약구분' : '합계' , '고객호수(호)' : sum3[i] ,  '사용량(kWh)' : sum2[i]} , ignore_index=True) #년월 파일마다 수정하기\n",
      "C:\\Users\\user\\AppData\\Local\\Temp\\ipykernel_24604\\895775541.py:4: FutureWarning: The frame.append method is deprecated and will be removed from pandas in a future version. Use pandas.concat instead.\n",
      "  Hap = Hap.append({'년월' :'202107-202112'  , '시구' : '{}'.format(City) , '시군구' : '{}'.format(SIGUNGU[i]) , '계약구분' : '합계' , '고객호수(호)' : sum3[i] ,  '사용량(kWh)' : sum2[i]} , ignore_index=True) #년월 파일마다 수정하기\n",
      "C:\\Users\\user\\AppData\\Local\\Temp\\ipykernel_24604\\895775541.py:4: FutureWarning: The frame.append method is deprecated and will be removed from pandas in a future version. Use pandas.concat instead.\n",
      "  Hap = Hap.append({'년월' :'202107-202112'  , '시구' : '{}'.format(City) , '시군구' : '{}'.format(SIGUNGU[i]) , '계약구분' : '합계' , '고객호수(호)' : sum3[i] ,  '사용량(kWh)' : sum2[i]} , ignore_index=True) #년월 파일마다 수정하기\n",
      "C:\\Users\\user\\AppData\\Local\\Temp\\ipykernel_24604\\895775541.py:4: FutureWarning: The frame.append method is deprecated and will be removed from pandas in a future version. Use pandas.concat instead.\n",
      "  Hap = Hap.append({'년월' :'202107-202112'  , '시구' : '{}'.format(City) , '시군구' : '{}'.format(SIGUNGU[i]) , '계약구분' : '합계' , '고객호수(호)' : sum3[i] ,  '사용량(kWh)' : sum2[i]} , ignore_index=True) #년월 파일마다 수정하기\n",
      "C:\\Users\\user\\AppData\\Local\\Temp\\ipykernel_24604\\895775541.py:4: FutureWarning: The frame.append method is deprecated and will be removed from pandas in a future version. Use pandas.concat instead.\n",
      "  Hap = Hap.append({'년월' :'202107-202112'  , '시구' : '{}'.format(City) , '시군구' : '{}'.format(SIGUNGU[i]) , '계약구분' : '합계' , '고객호수(호)' : sum3[i] ,  '사용량(kWh)' : sum2[i]} , ignore_index=True) #년월 파일마다 수정하기\n",
      "C:\\Users\\user\\AppData\\Local\\Temp\\ipykernel_24604\\895775541.py:4: FutureWarning: The frame.append method is deprecated and will be removed from pandas in a future version. Use pandas.concat instead.\n",
      "  Hap = Hap.append({'년월' :'202107-202112'  , '시구' : '{}'.format(City) , '시군구' : '{}'.format(SIGUNGU[i]) , '계약구분' : '합계' , '고객호수(호)' : sum3[i] ,  '사용량(kWh)' : sum2[i]} , ignore_index=True) #년월 파일마다 수정하기\n",
      "C:\\Users\\user\\AppData\\Local\\Temp\\ipykernel_24604\\895775541.py:4: FutureWarning: The frame.append method is deprecated and will be removed from pandas in a future version. Use pandas.concat instead.\n",
      "  Hap = Hap.append({'년월' :'202107-202112'  , '시구' : '{}'.format(City) , '시군구' : '{}'.format(SIGUNGU[i]) , '계약구분' : '합계' , '고객호수(호)' : sum3[i] ,  '사용량(kWh)' : sum2[i]} , ignore_index=True) #년월 파일마다 수정하기\n",
      "C:\\Users\\user\\AppData\\Local\\Temp\\ipykernel_24604\\895775541.py:4: FutureWarning: The frame.append method is deprecated and will be removed from pandas in a future version. Use pandas.concat instead.\n",
      "  Hap = Hap.append({'년월' :'202107-202112'  , '시구' : '{}'.format(City) , '시군구' : '{}'.format(SIGUNGU[i]) , '계약구분' : '합계' , '고객호수(호)' : sum3[i] ,  '사용량(kWh)' : sum2[i]} , ignore_index=True) #년월 파일마다 수정하기\n",
      "C:\\Users\\user\\AppData\\Local\\Temp\\ipykernel_24604\\895775541.py:4: FutureWarning: The frame.append method is deprecated and will be removed from pandas in a future version. Use pandas.concat instead.\n",
      "  Hap = Hap.append({'년월' :'202107-202112'  , '시구' : '{}'.format(City) , '시군구' : '{}'.format(SIGUNGU[i]) , '계약구분' : '합계' , '고객호수(호)' : sum3[i] ,  '사용량(kWh)' : sum2[i]} , ignore_index=True) #년월 파일마다 수정하기\n",
      "C:\\Users\\user\\AppData\\Local\\Temp\\ipykernel_24604\\895775541.py:4: FutureWarning: The frame.append method is deprecated and will be removed from pandas in a future version. Use pandas.concat instead.\n",
      "  Hap = Hap.append({'년월' :'202107-202112'  , '시구' : '{}'.format(City) , '시군구' : '{}'.format(SIGUNGU[i]) , '계약구분' : '합계' , '고객호수(호)' : sum3[i] ,  '사용량(kWh)' : sum2[i]} , ignore_index=True) #년월 파일마다 수정하기\n",
      "C:\\Users\\user\\AppData\\Local\\Temp\\ipykernel_24604\\895775541.py:4: FutureWarning: The frame.append method is deprecated and will be removed from pandas in a future version. Use pandas.concat instead.\n",
      "  Hap = Hap.append({'년월' :'202107-202112'  , '시구' : '{}'.format(City) , '시군구' : '{}'.format(SIGUNGU[i]) , '계약구분' : '합계' , '고객호수(호)' : sum3[i] ,  '사용량(kWh)' : sum2[i]} , ignore_index=True) #년월 파일마다 수정하기\n",
      "C:\\Users\\user\\AppData\\Local\\Temp\\ipykernel_24604\\895775541.py:4: FutureWarning: The frame.append method is deprecated and will be removed from pandas in a future version. Use pandas.concat instead.\n",
      "  Hap = Hap.append({'년월' :'202107-202112'  , '시구' : '{}'.format(City) , '시군구' : '{}'.format(SIGUNGU[i]) , '계약구분' : '합계' , '고객호수(호)' : sum3[i] ,  '사용량(kWh)' : sum2[i]} , ignore_index=True) #년월 파일마다 수정하기\n",
      "C:\\Users\\user\\AppData\\Local\\Temp\\ipykernel_24604\\895775541.py:4: FutureWarning: The frame.append method is deprecated and will be removed from pandas in a future version. Use pandas.concat instead.\n",
      "  Hap = Hap.append({'년월' :'202107-202112'  , '시구' : '{}'.format(City) , '시군구' : '{}'.format(SIGUNGU[i]) , '계약구분' : '합계' , '고객호수(호)' : sum3[i] ,  '사용량(kWh)' : sum2[i]} , ignore_index=True) #년월 파일마다 수정하기\n",
      "C:\\Users\\user\\AppData\\Local\\Temp\\ipykernel_24604\\895775541.py:4: FutureWarning: The frame.append method is deprecated and will be removed from pandas in a future version. Use pandas.concat instead.\n",
      "  Hap = Hap.append({'년월' :'202107-202112'  , '시구' : '{}'.format(City) , '시군구' : '{}'.format(SIGUNGU[i]) , '계약구분' : '합계' , '고객호수(호)' : sum3[i] ,  '사용량(kWh)' : sum2[i]} , ignore_index=True) #년월 파일마다 수정하기\n",
      "C:\\Users\\user\\AppData\\Local\\Temp\\ipykernel_24604\\895775541.py:4: FutureWarning: The frame.append method is deprecated and will be removed from pandas in a future version. Use pandas.concat instead.\n",
      "  Hap = Hap.append({'년월' :'202107-202112'  , '시구' : '{}'.format(City) , '시군구' : '{}'.format(SIGUNGU[i]) , '계약구분' : '합계' , '고객호수(호)' : sum3[i] ,  '사용량(kWh)' : sum2[i]} , ignore_index=True) #년월 파일마다 수정하기\n"
     ]
    },
    {
     "data": {
      "text/plain": "                년월    시구  시군구 계약구분   고객호수(호)      사용량(kWh)\n0           202107  경상북도  경산시   합계  163,608   230,804,879 \n1           202108  경상북도  경산시   합계  163,745   240,541,825 \n2           202109  경상북도  경산시   합계  163,932   225,699,703 \n3           202110  경상북도  경산시   합계  163,956   210,673,518 \n4           202111  경상북도  경산시   합계  164,273   225,714,853 \n..             ...   ...  ...  ...       ...           ...\n156  202107-202112  경상북도  의성군   합계     12986     224856750\n157  202107-202112  경상북도  청도군   합계     10410     249238924\n158  202107-202112  경상북도  청송군   합계      6901      99593202\n159  202107-202112  경상북도  칠곡군   합계     14653    1011429422\n160  202107-202112  경상북도  포항시   합계     46291    5086000687\n\n[161 rows x 6 columns]",
      "text/html": "<div>\n<style scoped>\n    .dataframe tbody tr th:only-of-type {\n        vertical-align: middle;\n    }\n\n    .dataframe tbody tr th {\n        vertical-align: top;\n    }\n\n    .dataframe thead th {\n        text-align: right;\n    }\n</style>\n<table border=\"1\" class=\"dataframe\">\n  <thead>\n    <tr style=\"text-align: right;\">\n      <th></th>\n      <th>년월</th>\n      <th>시구</th>\n      <th>시군구</th>\n      <th>계약구분</th>\n      <th>고객호수(호)</th>\n      <th>사용량(kWh)</th>\n    </tr>\n  </thead>\n  <tbody>\n    <tr>\n      <th>0</th>\n      <td>202107</td>\n      <td>경상북도</td>\n      <td>경산시</td>\n      <td>합계</td>\n      <td>163,608</td>\n      <td>230,804,879</td>\n    </tr>\n    <tr>\n      <th>1</th>\n      <td>202108</td>\n      <td>경상북도</td>\n      <td>경산시</td>\n      <td>합계</td>\n      <td>163,745</td>\n      <td>240,541,825</td>\n    </tr>\n    <tr>\n      <th>2</th>\n      <td>202109</td>\n      <td>경상북도</td>\n      <td>경산시</td>\n      <td>합계</td>\n      <td>163,932</td>\n      <td>225,699,703</td>\n    </tr>\n    <tr>\n      <th>3</th>\n      <td>202110</td>\n      <td>경상북도</td>\n      <td>경산시</td>\n      <td>합계</td>\n      <td>163,956</td>\n      <td>210,673,518</td>\n    </tr>\n    <tr>\n      <th>4</th>\n      <td>202111</td>\n      <td>경상북도</td>\n      <td>경산시</td>\n      <td>합계</td>\n      <td>164,273</td>\n      <td>225,714,853</td>\n    </tr>\n    <tr>\n      <th>...</th>\n      <td>...</td>\n      <td>...</td>\n      <td>...</td>\n      <td>...</td>\n      <td>...</td>\n      <td>...</td>\n    </tr>\n    <tr>\n      <th>156</th>\n      <td>202107-202112</td>\n      <td>경상북도</td>\n      <td>의성군</td>\n      <td>합계</td>\n      <td>12986</td>\n      <td>224856750</td>\n    </tr>\n    <tr>\n      <th>157</th>\n      <td>202107-202112</td>\n      <td>경상북도</td>\n      <td>청도군</td>\n      <td>합계</td>\n      <td>10410</td>\n      <td>249238924</td>\n    </tr>\n    <tr>\n      <th>158</th>\n      <td>202107-202112</td>\n      <td>경상북도</td>\n      <td>청송군</td>\n      <td>합계</td>\n      <td>6901</td>\n      <td>99593202</td>\n    </tr>\n    <tr>\n      <th>159</th>\n      <td>202107-202112</td>\n      <td>경상북도</td>\n      <td>칠곡군</td>\n      <td>합계</td>\n      <td>14653</td>\n      <td>1011429422</td>\n    </tr>\n    <tr>\n      <th>160</th>\n      <td>202107-202112</td>\n      <td>경상북도</td>\n      <td>포항시</td>\n      <td>합계</td>\n      <td>46291</td>\n      <td>5086000687</td>\n    </tr>\n  </tbody>\n</table>\n<p>161 rows × 6 columns</p>\n</div>"
     },
     "execution_count": 15,
     "metadata": {},
     "output_type": "execute_result"
    }
   ],
   "source": [
    "Hap = df_4.copy()\n",
    "Hap.reset_index(drop=True , inplace = True)\n",
    "for i in range(len(SIGUNGU)):\n",
    "    Hap = Hap.append({'년월' :'202107-202112'  , '시구' : '{}'.format(City) , '시군구' : '{}'.format(SIGUNGU[i]) , '계약구분' : '합계' , '고객호수(호)' : sum3[i] ,  '사용량(kWh)' : sum2[i]} , ignore_index=True) #년월 파일마다 수정하기\n",
    "Hap"
   ],
   "metadata": {
    "collapsed": false,
    "pycharm": {
     "name": "#%%\n"
    }
   }
  },
  {
   "cell_type": "markdown",
   "source": [
    "### 3. 날짜 변경!!!!!!!!!!!!!!!!!!!!!!!!!!!!!!!"
   ],
   "metadata": {
    "collapsed": false,
    "pycharm": {
     "name": "#%% md\n"
    }
   }
  },
  {
   "cell_type": "code",
   "execution_count": 16,
   "outputs": [
    {
     "data": {
      "text/plain": "                년월    시구  시군구 계약구분 고객호수(호)    사용량(kWh)\n138  202107-202112  경상북도  경산시   합계   27330  1376131466\n139  202107-202112  경상북도  경주시   합계   35117  1982704295\n140  202107-202112  경상북도  고령군   합계    5904   658554246\n141  202107-202112  경상북도  구미시   합계   35163  5049051201\n142  202107-202112  경상북도  군위군   합계    5628   164950654\n143  202107-202112  경상북도  김천시   합계   19340  1211067749\n144  202107-202112  경상북도  문경시   합계   11547   294556142\n145  202107-202112  경상북도  봉화군   합계    7871   884100814\n146  202107-202112  경상북도  상주시   합계   18343   393679704\n147  202107-202112  경상북도  성주군   합계   10376   528390170\n148  202107-202112  경상북도  안동시   합계   22632   589409614\n149  202107-202112  경상북도  영덕군   합계    7404   148071922\n150  202107-202112  경상북도  영양군   합계    4431    58530535\n151  202107-202112  경상북도  영주시   합계   15052   842835888\n152  202107-202112  경상북도  영천시   합계   16070   786742129\n153  202107-202112  경상북도  예천군   합계   10469   195138181\n154  202107-202112  경상북도  울릉군   합계    1440    35194225\n155  202107-202112  경상북도  울진군   합계    9634   368527636\n156  202107-202112  경상북도  의성군   합계   12986   224856750\n157  202107-202112  경상북도  청도군   합계   10410   249238924\n158  202107-202112  경상북도  청송군   합계    6901    99593202\n159  202107-202112  경상북도  칠곡군   합계   14653  1011429422\n160  202107-202112  경상북도  포항시   합계   46291  5086000687",
      "text/html": "<div>\n<style scoped>\n    .dataframe tbody tr th:only-of-type {\n        vertical-align: middle;\n    }\n\n    .dataframe tbody tr th {\n        vertical-align: top;\n    }\n\n    .dataframe thead th {\n        text-align: right;\n    }\n</style>\n<table border=\"1\" class=\"dataframe\">\n  <thead>\n    <tr style=\"text-align: right;\">\n      <th></th>\n      <th>년월</th>\n      <th>시구</th>\n      <th>시군구</th>\n      <th>계약구분</th>\n      <th>고객호수(호)</th>\n      <th>사용량(kWh)</th>\n    </tr>\n  </thead>\n  <tbody>\n    <tr>\n      <th>138</th>\n      <td>202107-202112</td>\n      <td>경상북도</td>\n      <td>경산시</td>\n      <td>합계</td>\n      <td>27330</td>\n      <td>1376131466</td>\n    </tr>\n    <tr>\n      <th>139</th>\n      <td>202107-202112</td>\n      <td>경상북도</td>\n      <td>경주시</td>\n      <td>합계</td>\n      <td>35117</td>\n      <td>1982704295</td>\n    </tr>\n    <tr>\n      <th>140</th>\n      <td>202107-202112</td>\n      <td>경상북도</td>\n      <td>고령군</td>\n      <td>합계</td>\n      <td>5904</td>\n      <td>658554246</td>\n    </tr>\n    <tr>\n      <th>141</th>\n      <td>202107-202112</td>\n      <td>경상북도</td>\n      <td>구미시</td>\n      <td>합계</td>\n      <td>35163</td>\n      <td>5049051201</td>\n    </tr>\n    <tr>\n      <th>142</th>\n      <td>202107-202112</td>\n      <td>경상북도</td>\n      <td>군위군</td>\n      <td>합계</td>\n      <td>5628</td>\n      <td>164950654</td>\n    </tr>\n    <tr>\n      <th>143</th>\n      <td>202107-202112</td>\n      <td>경상북도</td>\n      <td>김천시</td>\n      <td>합계</td>\n      <td>19340</td>\n      <td>1211067749</td>\n    </tr>\n    <tr>\n      <th>144</th>\n      <td>202107-202112</td>\n      <td>경상북도</td>\n      <td>문경시</td>\n      <td>합계</td>\n      <td>11547</td>\n      <td>294556142</td>\n    </tr>\n    <tr>\n      <th>145</th>\n      <td>202107-202112</td>\n      <td>경상북도</td>\n      <td>봉화군</td>\n      <td>합계</td>\n      <td>7871</td>\n      <td>884100814</td>\n    </tr>\n    <tr>\n      <th>146</th>\n      <td>202107-202112</td>\n      <td>경상북도</td>\n      <td>상주시</td>\n      <td>합계</td>\n      <td>18343</td>\n      <td>393679704</td>\n    </tr>\n    <tr>\n      <th>147</th>\n      <td>202107-202112</td>\n      <td>경상북도</td>\n      <td>성주군</td>\n      <td>합계</td>\n      <td>10376</td>\n      <td>528390170</td>\n    </tr>\n    <tr>\n      <th>148</th>\n      <td>202107-202112</td>\n      <td>경상북도</td>\n      <td>안동시</td>\n      <td>합계</td>\n      <td>22632</td>\n      <td>589409614</td>\n    </tr>\n    <tr>\n      <th>149</th>\n      <td>202107-202112</td>\n      <td>경상북도</td>\n      <td>영덕군</td>\n      <td>합계</td>\n      <td>7404</td>\n      <td>148071922</td>\n    </tr>\n    <tr>\n      <th>150</th>\n      <td>202107-202112</td>\n      <td>경상북도</td>\n      <td>영양군</td>\n      <td>합계</td>\n      <td>4431</td>\n      <td>58530535</td>\n    </tr>\n    <tr>\n      <th>151</th>\n      <td>202107-202112</td>\n      <td>경상북도</td>\n      <td>영주시</td>\n      <td>합계</td>\n      <td>15052</td>\n      <td>842835888</td>\n    </tr>\n    <tr>\n      <th>152</th>\n      <td>202107-202112</td>\n      <td>경상북도</td>\n      <td>영천시</td>\n      <td>합계</td>\n      <td>16070</td>\n      <td>786742129</td>\n    </tr>\n    <tr>\n      <th>153</th>\n      <td>202107-202112</td>\n      <td>경상북도</td>\n      <td>예천군</td>\n      <td>합계</td>\n      <td>10469</td>\n      <td>195138181</td>\n    </tr>\n    <tr>\n      <th>154</th>\n      <td>202107-202112</td>\n      <td>경상북도</td>\n      <td>울릉군</td>\n      <td>합계</td>\n      <td>1440</td>\n      <td>35194225</td>\n    </tr>\n    <tr>\n      <th>155</th>\n      <td>202107-202112</td>\n      <td>경상북도</td>\n      <td>울진군</td>\n      <td>합계</td>\n      <td>9634</td>\n      <td>368527636</td>\n    </tr>\n    <tr>\n      <th>156</th>\n      <td>202107-202112</td>\n      <td>경상북도</td>\n      <td>의성군</td>\n      <td>합계</td>\n      <td>12986</td>\n      <td>224856750</td>\n    </tr>\n    <tr>\n      <th>157</th>\n      <td>202107-202112</td>\n      <td>경상북도</td>\n      <td>청도군</td>\n      <td>합계</td>\n      <td>10410</td>\n      <td>249238924</td>\n    </tr>\n    <tr>\n      <th>158</th>\n      <td>202107-202112</td>\n      <td>경상북도</td>\n      <td>청송군</td>\n      <td>합계</td>\n      <td>6901</td>\n      <td>99593202</td>\n    </tr>\n    <tr>\n      <th>159</th>\n      <td>202107-202112</td>\n      <td>경상북도</td>\n      <td>칠곡군</td>\n      <td>합계</td>\n      <td>14653</td>\n      <td>1011429422</td>\n    </tr>\n    <tr>\n      <th>160</th>\n      <td>202107-202112</td>\n      <td>경상북도</td>\n      <td>포항시</td>\n      <td>합계</td>\n      <td>46291</td>\n      <td>5086000687</td>\n    </tr>\n  </tbody>\n</table>\n</div>"
     },
     "execution_count": 16,
     "metadata": {},
     "output_type": "execute_result"
    }
   ],
   "source": [
    "Hap = Hap.loc[Hap['년월'] == '202107-202112']\n",
    "Hap"
   ],
   "metadata": {
    "collapsed": false,
    "pycharm": {
     "name": "#%%\n"
    }
   }
  },
  {
   "cell_type": "code",
   "execution_count": 17,
   "outputs": [],
   "source": [
    "# SIGUNGU = SIGUNGU[:1]\n",
    "# SIGUNGU\n",
    "#for i in SIGUNGU:\n",
    "#print('{}'.format(i))\n",
    "# df_3 = df_3.loc[(df_3['시군구'] == '가평군')]\n",
    "#\n",
    "# df_3"
   ],
   "metadata": {
    "collapsed": false,
    "pycharm": {
     "name": "#%%\n"
    }
   }
  },
  {
   "cell_type": "code",
   "execution_count": 18,
   "outputs": [
    {
     "data": {
      "text/plain": "['년월', '시구', '시군구', '계약구분', '고객호수(호)', '사용량(kWh)']"
     },
     "execution_count": 18,
     "metadata": {},
     "output_type": "execute_result"
    }
   ],
   "source": [
    "a = (df_3.columns).tolist()\n",
    "\n",
    "a"
   ],
   "metadata": {
    "collapsed": false,
    "pycharm": {
     "name": "#%%\n"
    }
   }
  },
  {
   "cell_type": "code",
   "execution_count": 19,
   "outputs": [
    {
     "data": {
      "text/plain": "          년월    시구  시군구 계약구분  고객호수(호)      사용량(kWh)\n53    202107  경상북도  경산시  일반용  18,404    42,100,258 \n237   202108  경상북도  경산시  일반용  18,428    48,799,999 \n421   202109  경상북도  경산시  일반용  18,464    42,242,977 \n605   202110  경상북도  경산시  일반용  18,463    37,386,086 \n789   202111  경상북도  경산시  일반용  18,501    37,296,646 \n...      ...   ...  ...  ...      ...           ...\n413   202108  경상북도  포항시  일반용  41,075   107,112,696 \n597   202109  경상북도  포항시  일반용  41,302    90,552,706 \n781   202110  경상북도  포항시  일반용  41,320    81,031,248 \n965   202111  경상북도  포항시  일반용  41,401    80,560,151 \n1149  202112  경상북도  포항시  일반용  41,591    89,851,320 \n\n[138 rows x 6 columns]",
      "text/html": "<div>\n<style scoped>\n    .dataframe tbody tr th:only-of-type {\n        vertical-align: middle;\n    }\n\n    .dataframe tbody tr th {\n        vertical-align: top;\n    }\n\n    .dataframe thead th {\n        text-align: right;\n    }\n</style>\n<table border=\"1\" class=\"dataframe\">\n  <thead>\n    <tr style=\"text-align: right;\">\n      <th></th>\n      <th>년월</th>\n      <th>시구</th>\n      <th>시군구</th>\n      <th>계약구분</th>\n      <th>고객호수(호)</th>\n      <th>사용량(kWh)</th>\n    </tr>\n  </thead>\n  <tbody>\n    <tr>\n      <th>53</th>\n      <td>202107</td>\n      <td>경상북도</td>\n      <td>경산시</td>\n      <td>일반용</td>\n      <td>18,404</td>\n      <td>42,100,258</td>\n    </tr>\n    <tr>\n      <th>237</th>\n      <td>202108</td>\n      <td>경상북도</td>\n      <td>경산시</td>\n      <td>일반용</td>\n      <td>18,428</td>\n      <td>48,799,999</td>\n    </tr>\n    <tr>\n      <th>421</th>\n      <td>202109</td>\n      <td>경상북도</td>\n      <td>경산시</td>\n      <td>일반용</td>\n      <td>18,464</td>\n      <td>42,242,977</td>\n    </tr>\n    <tr>\n      <th>605</th>\n      <td>202110</td>\n      <td>경상북도</td>\n      <td>경산시</td>\n      <td>일반용</td>\n      <td>18,463</td>\n      <td>37,386,086</td>\n    </tr>\n    <tr>\n      <th>789</th>\n      <td>202111</td>\n      <td>경상북도</td>\n      <td>경산시</td>\n      <td>일반용</td>\n      <td>18,501</td>\n      <td>37,296,646</td>\n    </tr>\n    <tr>\n      <th>...</th>\n      <td>...</td>\n      <td>...</td>\n      <td>...</td>\n      <td>...</td>\n      <td>...</td>\n      <td>...</td>\n    </tr>\n    <tr>\n      <th>413</th>\n      <td>202108</td>\n      <td>경상북도</td>\n      <td>포항시</td>\n      <td>일반용</td>\n      <td>41,075</td>\n      <td>107,112,696</td>\n    </tr>\n    <tr>\n      <th>597</th>\n      <td>202109</td>\n      <td>경상북도</td>\n      <td>포항시</td>\n      <td>일반용</td>\n      <td>41,302</td>\n      <td>90,552,706</td>\n    </tr>\n    <tr>\n      <th>781</th>\n      <td>202110</td>\n      <td>경상북도</td>\n      <td>포항시</td>\n      <td>일반용</td>\n      <td>41,320</td>\n      <td>81,031,248</td>\n    </tr>\n    <tr>\n      <th>965</th>\n      <td>202111</td>\n      <td>경상북도</td>\n      <td>포항시</td>\n      <td>일반용</td>\n      <td>41,401</td>\n      <td>80,560,151</td>\n    </tr>\n    <tr>\n      <th>1149</th>\n      <td>202112</td>\n      <td>경상북도</td>\n      <td>포항시</td>\n      <td>일반용</td>\n      <td>41,591</td>\n      <td>89,851,320</td>\n    </tr>\n  </tbody>\n</table>\n<p>138 rows × 6 columns</p>\n</div>"
     },
     "execution_count": 19,
     "metadata": {},
     "output_type": "execute_result"
    }
   ],
   "source": [
    "df_3"
   ],
   "metadata": {
    "collapsed": false,
    "pycharm": {
     "name": "#%%\n"
    }
   }
  },
  {
   "cell_type": "code",
   "execution_count": 20,
   "outputs": [],
   "source": [
    "# GyeonGiHap = pd.DataFrame([] , columns = a)\n",
    "# GyeonGiHap['사용량']= df_3['사용량(kWh)'].loc[(df_3['시군구'] == '{가평군}')]\n",
    "# GyeonGiHap"
   ],
   "metadata": {
    "collapsed": false,
    "pycharm": {
     "name": "#%%\n"
    }
   }
  },
  {
   "cell_type": "code",
   "execution_count": 21,
   "outputs": [
    {
     "name": "stdout",
     "output_type": "stream",
     "text": [
      "[42100258, 48799999, 42242977, 37386086, 37296646, 41520051]\n",
      "[58713478, 68443720, 57490800, 52442690, 54204414, 60275871]\n",
      "[5764329, 6761813, 5830845, 5347749, 5697639, 6141580]\n",
      "[62705615, 74448688, 61381551, 54675826, 56272755, 63806029]\n",
      "[4300396, 5001103, 4273461, 4077912, 4518054, 5069134]\n",
      "[25460595, 28426841, 24308643, 22163793, 23458139, 26791089]\n",
      "[12387328, 14266449, 11910801, 10929377, 12264315, 14462047]\n",
      "[3845335, 4527184, 3975351, 3733427, 4355041, 5116393]\n",
      "[14056181, 15973188, 13401861, 12325073, 13718124, 16153184]\n",
      "[7738294, 8816983, 7493649, 6848959, 7739265, 8997947]\n",
      "[30494247, 34852718, 29436378, 26963676, 29625205, 34472700]\n",
      "[9880214, 12402861, 9780408, 9082219, 9738549, 10594250]\n",
      "[2116992, 2555642, 2267932, 2028601, 2353412, 2743950]\n",
      "[16521520, 18864464, 15793899, 14478852, 16000651, 20020121]\n",
      "[16309777, 18648817, 16139355, 14645981, 15635802, 17848324]\n",
      "[8131231, 9590800, 7928592, 7307680, 7917857, 9240545]\n",
      "[3434604, 3997964, 3352700, 3253899, 3849582, 3736025]\n",
      "[11843820, 14087915, 11355358, 10698061, 11576431, 13244067]\n",
      "[6395599, 7517254, 6286352, 5757477, 6496865, 7637361]\n",
      "[7324330, 8810962, 7622164, 6888653, 7414288, 8623362]\n",
      "[4645703, 5328092, 4476329, 4209452, 5023766, 5805736]\n",
      "[26695310, 26913360, 31032248, 21106823, 24992503, 30230418]\n",
      "[91543473, 107112696, 90552706, 81031248, 80560151, 89851320]\n",
      "경상북도 지역별 일반용 합계 :  [249346017, 351570973, 35543955, 373290464, 27240060, 150609100, 76220317, 25552731, 85627611, 47635097, 185844924, 61478501, 14066529, 101679507, 99228056, 50116705, 21624774, 72805652, 40090908, 46683759, 29489078, 160970662, 540651594]\n",
      "경상북도 고객호수 평균:  [18472, 26069, 3287, 27978, 2337, 10621, 6738, 3039, 8198, 4473, 14169, 5377, 1607, 9991, 8807, 3943, 1942, 5640, 4332, 4032, 2806, 11091, 41257]\n"
     ]
    }
   ],
   "source": [
    "sum2 , sum3 =[] , []\n",
    "for k in SIGUNGU:\n",
    "    GyeonGiHap = pd.DataFrame([] , columns = a)\n",
    "    HOSU = pd.DataFrame([], columns = a)\n",
    "    GyeonGiHap['사용량']= df_3['사용량(kWh)'].loc[(df_3['시군구'] == '{}'.format(k))]\n",
    "    HOSU['고객호수']= df_3['고객호수(호)'].loc[(df_3['시군구'] == '{}'.format(k))]\n",
    "    #경기합 데이터프레임의 사용량 열에 기군구가 가평군인 사용량 데이터만 뽑아내기\n",
    "    # GyeonGiHap = GyeonGiHap['사용량']\n",
    "\n",
    "    b = GyeonGiHap['사용량'].tolist()\n",
    "    c = HOSU['고객호수'].tolist()\n",
    "\n",
    "\n",
    "    #각지역별 사용량 리스트화\n",
    "    int_list  , int_list2=[] , []\n",
    "    for i in b:\n",
    "        i = re.sub(\",\" , \"\" , i)\n",
    "        #콤마 없애기\n",
    "        int_list.append(int(i))\n",
    "        #int_list에 각지역별 사용량 int로 저장\n",
    "    print(int_list)\n",
    "    sum=0\n",
    "    for i in c:\n",
    "        i = re.sub(\",\" , \"\" , i)\n",
    "        int_list2.append(int(i))\n",
    "\n",
    "    for j in int_list:\n",
    "\n",
    "        sum+= j\n",
    "    sum2.append(sum)\n",
    "    sum = 0\n",
    "    for j in int_list2: #고객호수 추출하여 더하기\n",
    "\n",
    "        sum+= j\n",
    "    sum3.append(sum//6) #6개월 치로 나눠야하나?!\n",
    "\n",
    "\n",
    "\n",
    "\n",
    "print(\"{} 지역별 일반용 합계 : \".format(City) , sum2)\n",
    "print(\"{} 고객호수 평균: \".format(City) , sum3)\n",
    "# GyeonGiHap['합계'] = sum\n",
    "#\n",
    "# GyeonGiHap"
   ],
   "metadata": {
    "collapsed": false,
    "pycharm": {
     "name": "#%%\n"
    }
   }
  },
  {
   "cell_type": "code",
   "execution_count": 22,
   "outputs": [],
   "source": [
    "# df_3 = df_3.loc[(df_3['시군구'] == '가평군')]\n",
    "#\n",
    "# df_3"
   ],
   "metadata": {
    "collapsed": false,
    "pycharm": {
     "name": "#%%\n"
    }
   }
  },
  {
   "cell_type": "code",
   "execution_count": 23,
   "outputs": [],
   "source": [
    "# GyeonGiHap = df_3.copy()\n",
    "# GyeonGiHap.reset_index(drop=True , inplace = True)\n",
    "# GyeonGiHap.append({'년월' : '202107-202112'  , '시구' : '경기도' , '시군구' : '가평군' , '계약구분' : '일반용' , '사용량(kWh)' : sum}, ignore_index=True)"
   ],
   "metadata": {
    "collapsed": false,
    "pycharm": {
     "name": "#%%\n"
    }
   }
  },
  {
   "cell_type": "code",
   "execution_count": 24,
   "outputs": [],
   "source": [
    "# a=[]\n",
    "# for i in SIGUNGU:\n",
    "#     a.append(i)\n",
    "#\n",
    "# print(a)"
   ],
   "metadata": {
    "collapsed": false,
    "pycharm": {
     "name": "#%%\n"
    }
   }
  },
  {
   "cell_type": "markdown",
   "source": [
    "### 4. 년월 체크!!!!!!!!!!!!!!!!!!!!!!!!!!!!!!!!!!!!!!!!!!!!!!!!!!!!!!!!!!!!!!!!!"
   ],
   "metadata": {
    "collapsed": false,
    "pycharm": {
     "name": "#%% md\n"
    }
   }
  },
  {
   "cell_type": "code",
   "execution_count": 25,
   "outputs": [
    {
     "name": "stderr",
     "output_type": "stream",
     "text": [
      "C:\\Users\\user\\AppData\\Local\\Temp\\ipykernel_24604\\2943201010.py:4: FutureWarning: The frame.append method is deprecated and will be removed from pandas in a future version. Use pandas.concat instead.\n",
      "  GyeonGiHap2 = GyeonGiHap2.append({'년월' :'202107-202112'  , '시구' : '{}'.format(City) , '시군구' : '{}'.format(SIGUNGU[i]) , '계약구분' : '일반용' , '고객호수(호)' : sum3[i] ,  '사용량(kWh)' : sum2[i]} , ignore_index=True) #년월 파일마다 수정하기\n",
      "C:\\Users\\user\\AppData\\Local\\Temp\\ipykernel_24604\\2943201010.py:4: FutureWarning: The frame.append method is deprecated and will be removed from pandas in a future version. Use pandas.concat instead.\n",
      "  GyeonGiHap2 = GyeonGiHap2.append({'년월' :'202107-202112'  , '시구' : '{}'.format(City) , '시군구' : '{}'.format(SIGUNGU[i]) , '계약구분' : '일반용' , '고객호수(호)' : sum3[i] ,  '사용량(kWh)' : sum2[i]} , ignore_index=True) #년월 파일마다 수정하기\n",
      "C:\\Users\\user\\AppData\\Local\\Temp\\ipykernel_24604\\2943201010.py:4: FutureWarning: The frame.append method is deprecated and will be removed from pandas in a future version. Use pandas.concat instead.\n",
      "  GyeonGiHap2 = GyeonGiHap2.append({'년월' :'202107-202112'  , '시구' : '{}'.format(City) , '시군구' : '{}'.format(SIGUNGU[i]) , '계약구분' : '일반용' , '고객호수(호)' : sum3[i] ,  '사용량(kWh)' : sum2[i]} , ignore_index=True) #년월 파일마다 수정하기\n",
      "C:\\Users\\user\\AppData\\Local\\Temp\\ipykernel_24604\\2943201010.py:4: FutureWarning: The frame.append method is deprecated and will be removed from pandas in a future version. Use pandas.concat instead.\n",
      "  GyeonGiHap2 = GyeonGiHap2.append({'년월' :'202107-202112'  , '시구' : '{}'.format(City) , '시군구' : '{}'.format(SIGUNGU[i]) , '계약구분' : '일반용' , '고객호수(호)' : sum3[i] ,  '사용량(kWh)' : sum2[i]} , ignore_index=True) #년월 파일마다 수정하기\n",
      "C:\\Users\\user\\AppData\\Local\\Temp\\ipykernel_24604\\2943201010.py:4: FutureWarning: The frame.append method is deprecated and will be removed from pandas in a future version. Use pandas.concat instead.\n",
      "  GyeonGiHap2 = GyeonGiHap2.append({'년월' :'202107-202112'  , '시구' : '{}'.format(City) , '시군구' : '{}'.format(SIGUNGU[i]) , '계약구분' : '일반용' , '고객호수(호)' : sum3[i] ,  '사용량(kWh)' : sum2[i]} , ignore_index=True) #년월 파일마다 수정하기\n",
      "C:\\Users\\user\\AppData\\Local\\Temp\\ipykernel_24604\\2943201010.py:4: FutureWarning: The frame.append method is deprecated and will be removed from pandas in a future version. Use pandas.concat instead.\n",
      "  GyeonGiHap2 = GyeonGiHap2.append({'년월' :'202107-202112'  , '시구' : '{}'.format(City) , '시군구' : '{}'.format(SIGUNGU[i]) , '계약구분' : '일반용' , '고객호수(호)' : sum3[i] ,  '사용량(kWh)' : sum2[i]} , ignore_index=True) #년월 파일마다 수정하기\n",
      "C:\\Users\\user\\AppData\\Local\\Temp\\ipykernel_24604\\2943201010.py:4: FutureWarning: The frame.append method is deprecated and will be removed from pandas in a future version. Use pandas.concat instead.\n",
      "  GyeonGiHap2 = GyeonGiHap2.append({'년월' :'202107-202112'  , '시구' : '{}'.format(City) , '시군구' : '{}'.format(SIGUNGU[i]) , '계약구분' : '일반용' , '고객호수(호)' : sum3[i] ,  '사용량(kWh)' : sum2[i]} , ignore_index=True) #년월 파일마다 수정하기\n",
      "C:\\Users\\user\\AppData\\Local\\Temp\\ipykernel_24604\\2943201010.py:4: FutureWarning: The frame.append method is deprecated and will be removed from pandas in a future version. Use pandas.concat instead.\n",
      "  GyeonGiHap2 = GyeonGiHap2.append({'년월' :'202107-202112'  , '시구' : '{}'.format(City) , '시군구' : '{}'.format(SIGUNGU[i]) , '계약구분' : '일반용' , '고객호수(호)' : sum3[i] ,  '사용량(kWh)' : sum2[i]} , ignore_index=True) #년월 파일마다 수정하기\n",
      "C:\\Users\\user\\AppData\\Local\\Temp\\ipykernel_24604\\2943201010.py:4: FutureWarning: The frame.append method is deprecated and will be removed from pandas in a future version. Use pandas.concat instead.\n",
      "  GyeonGiHap2 = GyeonGiHap2.append({'년월' :'202107-202112'  , '시구' : '{}'.format(City) , '시군구' : '{}'.format(SIGUNGU[i]) , '계약구분' : '일반용' , '고객호수(호)' : sum3[i] ,  '사용량(kWh)' : sum2[i]} , ignore_index=True) #년월 파일마다 수정하기\n",
      "C:\\Users\\user\\AppData\\Local\\Temp\\ipykernel_24604\\2943201010.py:4: FutureWarning: The frame.append method is deprecated and will be removed from pandas in a future version. Use pandas.concat instead.\n",
      "  GyeonGiHap2 = GyeonGiHap2.append({'년월' :'202107-202112'  , '시구' : '{}'.format(City) , '시군구' : '{}'.format(SIGUNGU[i]) , '계약구분' : '일반용' , '고객호수(호)' : sum3[i] ,  '사용량(kWh)' : sum2[i]} , ignore_index=True) #년월 파일마다 수정하기\n",
      "C:\\Users\\user\\AppData\\Local\\Temp\\ipykernel_24604\\2943201010.py:4: FutureWarning: The frame.append method is deprecated and will be removed from pandas in a future version. Use pandas.concat instead.\n",
      "  GyeonGiHap2 = GyeonGiHap2.append({'년월' :'202107-202112'  , '시구' : '{}'.format(City) , '시군구' : '{}'.format(SIGUNGU[i]) , '계약구분' : '일반용' , '고객호수(호)' : sum3[i] ,  '사용량(kWh)' : sum2[i]} , ignore_index=True) #년월 파일마다 수정하기\n",
      "C:\\Users\\user\\AppData\\Local\\Temp\\ipykernel_24604\\2943201010.py:4: FutureWarning: The frame.append method is deprecated and will be removed from pandas in a future version. Use pandas.concat instead.\n",
      "  GyeonGiHap2 = GyeonGiHap2.append({'년월' :'202107-202112'  , '시구' : '{}'.format(City) , '시군구' : '{}'.format(SIGUNGU[i]) , '계약구분' : '일반용' , '고객호수(호)' : sum3[i] ,  '사용량(kWh)' : sum2[i]} , ignore_index=True) #년월 파일마다 수정하기\n",
      "C:\\Users\\user\\AppData\\Local\\Temp\\ipykernel_24604\\2943201010.py:4: FutureWarning: The frame.append method is deprecated and will be removed from pandas in a future version. Use pandas.concat instead.\n",
      "  GyeonGiHap2 = GyeonGiHap2.append({'년월' :'202107-202112'  , '시구' : '{}'.format(City) , '시군구' : '{}'.format(SIGUNGU[i]) , '계약구분' : '일반용' , '고객호수(호)' : sum3[i] ,  '사용량(kWh)' : sum2[i]} , ignore_index=True) #년월 파일마다 수정하기\n",
      "C:\\Users\\user\\AppData\\Local\\Temp\\ipykernel_24604\\2943201010.py:4: FutureWarning: The frame.append method is deprecated and will be removed from pandas in a future version. Use pandas.concat instead.\n",
      "  GyeonGiHap2 = GyeonGiHap2.append({'년월' :'202107-202112'  , '시구' : '{}'.format(City) , '시군구' : '{}'.format(SIGUNGU[i]) , '계약구분' : '일반용' , '고객호수(호)' : sum3[i] ,  '사용량(kWh)' : sum2[i]} , ignore_index=True) #년월 파일마다 수정하기\n",
      "C:\\Users\\user\\AppData\\Local\\Temp\\ipykernel_24604\\2943201010.py:4: FutureWarning: The frame.append method is deprecated and will be removed from pandas in a future version. Use pandas.concat instead.\n",
      "  GyeonGiHap2 = GyeonGiHap2.append({'년월' :'202107-202112'  , '시구' : '{}'.format(City) , '시군구' : '{}'.format(SIGUNGU[i]) , '계약구분' : '일반용' , '고객호수(호)' : sum3[i] ,  '사용량(kWh)' : sum2[i]} , ignore_index=True) #년월 파일마다 수정하기\n",
      "C:\\Users\\user\\AppData\\Local\\Temp\\ipykernel_24604\\2943201010.py:4: FutureWarning: The frame.append method is deprecated and will be removed from pandas in a future version. Use pandas.concat instead.\n",
      "  GyeonGiHap2 = GyeonGiHap2.append({'년월' :'202107-202112'  , '시구' : '{}'.format(City) , '시군구' : '{}'.format(SIGUNGU[i]) , '계약구분' : '일반용' , '고객호수(호)' : sum3[i] ,  '사용량(kWh)' : sum2[i]} , ignore_index=True) #년월 파일마다 수정하기\n",
      "C:\\Users\\user\\AppData\\Local\\Temp\\ipykernel_24604\\2943201010.py:4: FutureWarning: The frame.append method is deprecated and will be removed from pandas in a future version. Use pandas.concat instead.\n",
      "  GyeonGiHap2 = GyeonGiHap2.append({'년월' :'202107-202112'  , '시구' : '{}'.format(City) , '시군구' : '{}'.format(SIGUNGU[i]) , '계약구분' : '일반용' , '고객호수(호)' : sum3[i] ,  '사용량(kWh)' : sum2[i]} , ignore_index=True) #년월 파일마다 수정하기\n",
      "C:\\Users\\user\\AppData\\Local\\Temp\\ipykernel_24604\\2943201010.py:4: FutureWarning: The frame.append method is deprecated and will be removed from pandas in a future version. Use pandas.concat instead.\n",
      "  GyeonGiHap2 = GyeonGiHap2.append({'년월' :'202107-202112'  , '시구' : '{}'.format(City) , '시군구' : '{}'.format(SIGUNGU[i]) , '계약구분' : '일반용' , '고객호수(호)' : sum3[i] ,  '사용량(kWh)' : sum2[i]} , ignore_index=True) #년월 파일마다 수정하기\n",
      "C:\\Users\\user\\AppData\\Local\\Temp\\ipykernel_24604\\2943201010.py:4: FutureWarning: The frame.append method is deprecated and will be removed from pandas in a future version. Use pandas.concat instead.\n",
      "  GyeonGiHap2 = GyeonGiHap2.append({'년월' :'202107-202112'  , '시구' : '{}'.format(City) , '시군구' : '{}'.format(SIGUNGU[i]) , '계약구분' : '일반용' , '고객호수(호)' : sum3[i] ,  '사용량(kWh)' : sum2[i]} , ignore_index=True) #년월 파일마다 수정하기\n",
      "C:\\Users\\user\\AppData\\Local\\Temp\\ipykernel_24604\\2943201010.py:4: FutureWarning: The frame.append method is deprecated and will be removed from pandas in a future version. Use pandas.concat instead.\n",
      "  GyeonGiHap2 = GyeonGiHap2.append({'년월' :'202107-202112'  , '시구' : '{}'.format(City) , '시군구' : '{}'.format(SIGUNGU[i]) , '계약구분' : '일반용' , '고객호수(호)' : sum3[i] ,  '사용량(kWh)' : sum2[i]} , ignore_index=True) #년월 파일마다 수정하기\n",
      "C:\\Users\\user\\AppData\\Local\\Temp\\ipykernel_24604\\2943201010.py:4: FutureWarning: The frame.append method is deprecated and will be removed from pandas in a future version. Use pandas.concat instead.\n",
      "  GyeonGiHap2 = GyeonGiHap2.append({'년월' :'202107-202112'  , '시구' : '{}'.format(City) , '시군구' : '{}'.format(SIGUNGU[i]) , '계약구분' : '일반용' , '고객호수(호)' : sum3[i] ,  '사용량(kWh)' : sum2[i]} , ignore_index=True) #년월 파일마다 수정하기\n",
      "C:\\Users\\user\\AppData\\Local\\Temp\\ipykernel_24604\\2943201010.py:4: FutureWarning: The frame.append method is deprecated and will be removed from pandas in a future version. Use pandas.concat instead.\n",
      "  GyeonGiHap2 = GyeonGiHap2.append({'년월' :'202107-202112'  , '시구' : '{}'.format(City) , '시군구' : '{}'.format(SIGUNGU[i]) , '계약구분' : '일반용' , '고객호수(호)' : sum3[i] ,  '사용량(kWh)' : sum2[i]} , ignore_index=True) #년월 파일마다 수정하기\n",
      "C:\\Users\\user\\AppData\\Local\\Temp\\ipykernel_24604\\2943201010.py:4: FutureWarning: The frame.append method is deprecated and will be removed from pandas in a future version. Use pandas.concat instead.\n",
      "  GyeonGiHap2 = GyeonGiHap2.append({'년월' :'202107-202112'  , '시구' : '{}'.format(City) , '시군구' : '{}'.format(SIGUNGU[i]) , '계약구분' : '일반용' , '고객호수(호)' : sum3[i] ,  '사용량(kWh)' : sum2[i]} , ignore_index=True) #년월 파일마다 수정하기\n"
     ]
    },
    {
     "data": {
      "text/plain": "                년월    시구  시군구 계약구분  고객호수(호)     사용량(kWh)\n0           202107  경상북도  경산시  일반용  18,404   42,100,258 \n1           202108  경상북도  경산시  일반용  18,428   48,799,999 \n2           202109  경상북도  경산시  일반용  18,464   42,242,977 \n3           202110  경상북도  경산시  일반용  18,463   37,386,086 \n4           202111  경상북도  경산시  일반용  18,501   37,296,646 \n..             ...   ...  ...  ...      ...          ...\n156  202107-202112  경상북도  의성군  일반용     4332     40090908\n157  202107-202112  경상북도  청도군  일반용     4032     46683759\n158  202107-202112  경상북도  청송군  일반용     2806     29489078\n159  202107-202112  경상북도  칠곡군  일반용    11091    160970662\n160  202107-202112  경상북도  포항시  일반용    41257    540651594\n\n[161 rows x 6 columns]",
      "text/html": "<div>\n<style scoped>\n    .dataframe tbody tr th:only-of-type {\n        vertical-align: middle;\n    }\n\n    .dataframe tbody tr th {\n        vertical-align: top;\n    }\n\n    .dataframe thead th {\n        text-align: right;\n    }\n</style>\n<table border=\"1\" class=\"dataframe\">\n  <thead>\n    <tr style=\"text-align: right;\">\n      <th></th>\n      <th>년월</th>\n      <th>시구</th>\n      <th>시군구</th>\n      <th>계약구분</th>\n      <th>고객호수(호)</th>\n      <th>사용량(kWh)</th>\n    </tr>\n  </thead>\n  <tbody>\n    <tr>\n      <th>0</th>\n      <td>202107</td>\n      <td>경상북도</td>\n      <td>경산시</td>\n      <td>일반용</td>\n      <td>18,404</td>\n      <td>42,100,258</td>\n    </tr>\n    <tr>\n      <th>1</th>\n      <td>202108</td>\n      <td>경상북도</td>\n      <td>경산시</td>\n      <td>일반용</td>\n      <td>18,428</td>\n      <td>48,799,999</td>\n    </tr>\n    <tr>\n      <th>2</th>\n      <td>202109</td>\n      <td>경상북도</td>\n      <td>경산시</td>\n      <td>일반용</td>\n      <td>18,464</td>\n      <td>42,242,977</td>\n    </tr>\n    <tr>\n      <th>3</th>\n      <td>202110</td>\n      <td>경상북도</td>\n      <td>경산시</td>\n      <td>일반용</td>\n      <td>18,463</td>\n      <td>37,386,086</td>\n    </tr>\n    <tr>\n      <th>4</th>\n      <td>202111</td>\n      <td>경상북도</td>\n      <td>경산시</td>\n      <td>일반용</td>\n      <td>18,501</td>\n      <td>37,296,646</td>\n    </tr>\n    <tr>\n      <th>...</th>\n      <td>...</td>\n      <td>...</td>\n      <td>...</td>\n      <td>...</td>\n      <td>...</td>\n      <td>...</td>\n    </tr>\n    <tr>\n      <th>156</th>\n      <td>202107-202112</td>\n      <td>경상북도</td>\n      <td>의성군</td>\n      <td>일반용</td>\n      <td>4332</td>\n      <td>40090908</td>\n    </tr>\n    <tr>\n      <th>157</th>\n      <td>202107-202112</td>\n      <td>경상북도</td>\n      <td>청도군</td>\n      <td>일반용</td>\n      <td>4032</td>\n      <td>46683759</td>\n    </tr>\n    <tr>\n      <th>158</th>\n      <td>202107-202112</td>\n      <td>경상북도</td>\n      <td>청송군</td>\n      <td>일반용</td>\n      <td>2806</td>\n      <td>29489078</td>\n    </tr>\n    <tr>\n      <th>159</th>\n      <td>202107-202112</td>\n      <td>경상북도</td>\n      <td>칠곡군</td>\n      <td>일반용</td>\n      <td>11091</td>\n      <td>160970662</td>\n    </tr>\n    <tr>\n      <th>160</th>\n      <td>202107-202112</td>\n      <td>경상북도</td>\n      <td>포항시</td>\n      <td>일반용</td>\n      <td>41257</td>\n      <td>540651594</td>\n    </tr>\n  </tbody>\n</table>\n<p>161 rows × 6 columns</p>\n</div>"
     },
     "execution_count": 25,
     "metadata": {},
     "output_type": "execute_result"
    }
   ],
   "source": [
    "GyeonGiHap2 = df_3.copy()\n",
    "GyeonGiHap2.reset_index(drop=True , inplace = True)\n",
    "for i in range(len(SIGUNGU)):\n",
    "    GyeonGiHap2 = GyeonGiHap2.append({'년월' :'202107-202112'  , '시구' : '{}'.format(City) , '시군구' : '{}'.format(SIGUNGU[i]) , '계약구분' : '일반용' , '고객호수(호)' : sum3[i] ,  '사용량(kWh)' : sum2[i]} , ignore_index=True) #년월 파일마다 수정하기\n",
    "GyeonGiHap2"
   ],
   "metadata": {
    "collapsed": false,
    "pycharm": {
     "name": "#%%\n"
    }
   }
  },
  {
   "cell_type": "markdown",
   "source": [
    "### 5. 날짜 체크!!!!!!!!!!!!!!!!!!!!!!!!!!!!!!!!!!!!!!!!!!!!!!!!!!!!"
   ],
   "metadata": {
    "collapsed": false,
    "pycharm": {
     "name": "#%% md\n"
    }
   }
  },
  {
   "cell_type": "code",
   "execution_count": 26,
   "outputs": [
    {
     "data": {
      "text/plain": "                년월    시구  시군구 계약구분 고객호수(호)   사용량(kWh)\n138  202107-202112  경상북도  경산시  일반용   18472  249346017\n139  202107-202112  경상북도  경주시  일반용   26069  351570973\n140  202107-202112  경상북도  고령군  일반용    3287   35543955\n141  202107-202112  경상북도  구미시  일반용   27978  373290464\n142  202107-202112  경상북도  군위군  일반용    2337   27240060\n143  202107-202112  경상북도  김천시  일반용   10621  150609100\n144  202107-202112  경상북도  문경시  일반용    6738   76220317\n145  202107-202112  경상북도  봉화군  일반용    3039   25552731\n146  202107-202112  경상북도  상주시  일반용    8198   85627611\n147  202107-202112  경상북도  성주군  일반용    4473   47635097\n148  202107-202112  경상북도  안동시  일반용   14169  185844924\n149  202107-202112  경상북도  영덕군  일반용    5377   61478501\n150  202107-202112  경상북도  영양군  일반용    1607   14066529\n151  202107-202112  경상북도  영주시  일반용    9991  101679507\n152  202107-202112  경상북도  영천시  일반용    8807   99228056\n153  202107-202112  경상북도  예천군  일반용    3943   50116705\n154  202107-202112  경상북도  울릉군  일반용    1942   21624774\n155  202107-202112  경상북도  울진군  일반용    5640   72805652\n156  202107-202112  경상북도  의성군  일반용    4332   40090908\n157  202107-202112  경상북도  청도군  일반용    4032   46683759\n158  202107-202112  경상북도  청송군  일반용    2806   29489078\n159  202107-202112  경상북도  칠곡군  일반용   11091  160970662\n160  202107-202112  경상북도  포항시  일반용   41257  540651594",
      "text/html": "<div>\n<style scoped>\n    .dataframe tbody tr th:only-of-type {\n        vertical-align: middle;\n    }\n\n    .dataframe tbody tr th {\n        vertical-align: top;\n    }\n\n    .dataframe thead th {\n        text-align: right;\n    }\n</style>\n<table border=\"1\" class=\"dataframe\">\n  <thead>\n    <tr style=\"text-align: right;\">\n      <th></th>\n      <th>년월</th>\n      <th>시구</th>\n      <th>시군구</th>\n      <th>계약구분</th>\n      <th>고객호수(호)</th>\n      <th>사용량(kWh)</th>\n    </tr>\n  </thead>\n  <tbody>\n    <tr>\n      <th>138</th>\n      <td>202107-202112</td>\n      <td>경상북도</td>\n      <td>경산시</td>\n      <td>일반용</td>\n      <td>18472</td>\n      <td>249346017</td>\n    </tr>\n    <tr>\n      <th>139</th>\n      <td>202107-202112</td>\n      <td>경상북도</td>\n      <td>경주시</td>\n      <td>일반용</td>\n      <td>26069</td>\n      <td>351570973</td>\n    </tr>\n    <tr>\n      <th>140</th>\n      <td>202107-202112</td>\n      <td>경상북도</td>\n      <td>고령군</td>\n      <td>일반용</td>\n      <td>3287</td>\n      <td>35543955</td>\n    </tr>\n    <tr>\n      <th>141</th>\n      <td>202107-202112</td>\n      <td>경상북도</td>\n      <td>구미시</td>\n      <td>일반용</td>\n      <td>27978</td>\n      <td>373290464</td>\n    </tr>\n    <tr>\n      <th>142</th>\n      <td>202107-202112</td>\n      <td>경상북도</td>\n      <td>군위군</td>\n      <td>일반용</td>\n      <td>2337</td>\n      <td>27240060</td>\n    </tr>\n    <tr>\n      <th>143</th>\n      <td>202107-202112</td>\n      <td>경상북도</td>\n      <td>김천시</td>\n      <td>일반용</td>\n      <td>10621</td>\n      <td>150609100</td>\n    </tr>\n    <tr>\n      <th>144</th>\n      <td>202107-202112</td>\n      <td>경상북도</td>\n      <td>문경시</td>\n      <td>일반용</td>\n      <td>6738</td>\n      <td>76220317</td>\n    </tr>\n    <tr>\n      <th>145</th>\n      <td>202107-202112</td>\n      <td>경상북도</td>\n      <td>봉화군</td>\n      <td>일반용</td>\n      <td>3039</td>\n      <td>25552731</td>\n    </tr>\n    <tr>\n      <th>146</th>\n      <td>202107-202112</td>\n      <td>경상북도</td>\n      <td>상주시</td>\n      <td>일반용</td>\n      <td>8198</td>\n      <td>85627611</td>\n    </tr>\n    <tr>\n      <th>147</th>\n      <td>202107-202112</td>\n      <td>경상북도</td>\n      <td>성주군</td>\n      <td>일반용</td>\n      <td>4473</td>\n      <td>47635097</td>\n    </tr>\n    <tr>\n      <th>148</th>\n      <td>202107-202112</td>\n      <td>경상북도</td>\n      <td>안동시</td>\n      <td>일반용</td>\n      <td>14169</td>\n      <td>185844924</td>\n    </tr>\n    <tr>\n      <th>149</th>\n      <td>202107-202112</td>\n      <td>경상북도</td>\n      <td>영덕군</td>\n      <td>일반용</td>\n      <td>5377</td>\n      <td>61478501</td>\n    </tr>\n    <tr>\n      <th>150</th>\n      <td>202107-202112</td>\n      <td>경상북도</td>\n      <td>영양군</td>\n      <td>일반용</td>\n      <td>1607</td>\n      <td>14066529</td>\n    </tr>\n    <tr>\n      <th>151</th>\n      <td>202107-202112</td>\n      <td>경상북도</td>\n      <td>영주시</td>\n      <td>일반용</td>\n      <td>9991</td>\n      <td>101679507</td>\n    </tr>\n    <tr>\n      <th>152</th>\n      <td>202107-202112</td>\n      <td>경상북도</td>\n      <td>영천시</td>\n      <td>일반용</td>\n      <td>8807</td>\n      <td>99228056</td>\n    </tr>\n    <tr>\n      <th>153</th>\n      <td>202107-202112</td>\n      <td>경상북도</td>\n      <td>예천군</td>\n      <td>일반용</td>\n      <td>3943</td>\n      <td>50116705</td>\n    </tr>\n    <tr>\n      <th>154</th>\n      <td>202107-202112</td>\n      <td>경상북도</td>\n      <td>울릉군</td>\n      <td>일반용</td>\n      <td>1942</td>\n      <td>21624774</td>\n    </tr>\n    <tr>\n      <th>155</th>\n      <td>202107-202112</td>\n      <td>경상북도</td>\n      <td>울진군</td>\n      <td>일반용</td>\n      <td>5640</td>\n      <td>72805652</td>\n    </tr>\n    <tr>\n      <th>156</th>\n      <td>202107-202112</td>\n      <td>경상북도</td>\n      <td>의성군</td>\n      <td>일반용</td>\n      <td>4332</td>\n      <td>40090908</td>\n    </tr>\n    <tr>\n      <th>157</th>\n      <td>202107-202112</td>\n      <td>경상북도</td>\n      <td>청도군</td>\n      <td>일반용</td>\n      <td>4032</td>\n      <td>46683759</td>\n    </tr>\n    <tr>\n      <th>158</th>\n      <td>202107-202112</td>\n      <td>경상북도</td>\n      <td>청송군</td>\n      <td>일반용</td>\n      <td>2806</td>\n      <td>29489078</td>\n    </tr>\n    <tr>\n      <th>159</th>\n      <td>202107-202112</td>\n      <td>경상북도</td>\n      <td>칠곡군</td>\n      <td>일반용</td>\n      <td>11091</td>\n      <td>160970662</td>\n    </tr>\n    <tr>\n      <th>160</th>\n      <td>202107-202112</td>\n      <td>경상북도</td>\n      <td>포항시</td>\n      <td>일반용</td>\n      <td>41257</td>\n      <td>540651594</td>\n    </tr>\n  </tbody>\n</table>\n</div>"
     },
     "execution_count": 26,
     "metadata": {},
     "output_type": "execute_result"
    }
   ],
   "source": [
    "GyeonGiHap2 = GyeonGiHap2.loc[GyeonGiHap2['년월'] == '202107-202112']\n",
    "GyeonGiHap2"
   ],
   "metadata": {
    "collapsed": false,
    "pycharm": {
     "name": "#%%\n"
    }
   }
  },
  {
   "cell_type": "code",
   "execution_count": 27,
   "outputs": [
    {
     "data": {
      "text/plain": "                년월    시구  시군구 계약구분 고객호수(호)    사용량(kWh)\n138  202107-202112  경상북도  경산시  일반용   18472   249346017\n138  202107-202112  경상북도  경산시   합계   27330  1376131466\n139  202107-202112  경상북도  경주시  일반용   26069   351570973\n139  202107-202112  경상북도  경주시   합계   35117  1982704295\n140  202107-202112  경상북도  고령군  일반용    3287    35543955\n140  202107-202112  경상북도  고령군   합계    5904   658554246\n141  202107-202112  경상북도  구미시  일반용   27978   373290464\n141  202107-202112  경상북도  구미시   합계   35163  5049051201\n142  202107-202112  경상북도  군위군  일반용    2337    27240060\n142  202107-202112  경상북도  군위군   합계    5628   164950654\n143  202107-202112  경상북도  김천시  일반용   10621   150609100\n143  202107-202112  경상북도  김천시   합계   19340  1211067749\n144  202107-202112  경상북도  문경시  일반용    6738    76220317\n144  202107-202112  경상북도  문경시   합계   11547   294556142\n145  202107-202112  경상북도  봉화군  일반용    3039    25552731\n145  202107-202112  경상북도  봉화군   합계    7871   884100814\n146  202107-202112  경상북도  상주시   합계   18343   393679704\n146  202107-202112  경상북도  상주시  일반용    8198    85627611\n147  202107-202112  경상북도  성주군   합계   10376   528390170\n147  202107-202112  경상북도  성주군  일반용    4473    47635097\n148  202107-202112  경상북도  안동시   합계   22632   589409614\n148  202107-202112  경상북도  안동시  일반용   14169   185844924\n149  202107-202112  경상북도  영덕군   합계    7404   148071922\n149  202107-202112  경상북도  영덕군  일반용    5377    61478501\n150  202107-202112  경상북도  영양군   합계    4431    58530535\n150  202107-202112  경상북도  영양군  일반용    1607    14066529\n151  202107-202112  경상북도  영주시   합계   15052   842835888\n151  202107-202112  경상북도  영주시  일반용    9991   101679507\n152  202107-202112  경상북도  영천시  일반용    8807    99228056\n152  202107-202112  경상북도  영천시   합계   16070   786742129\n153  202107-202112  경상북도  예천군   합계   10469   195138181\n153  202107-202112  경상북도  예천군  일반용    3943    50116705\n154  202107-202112  경상북도  울릉군   합계    1440    35194225\n154  202107-202112  경상북도  울릉군  일반용    1942    21624774\n155  202107-202112  경상북도  울진군  일반용    5640    72805652\n155  202107-202112  경상북도  울진군   합계    9634   368527636\n156  202107-202112  경상북도  의성군   합계   12986   224856750\n156  202107-202112  경상북도  의성군  일반용    4332    40090908\n157  202107-202112  경상북도  청도군   합계   10410   249238924\n157  202107-202112  경상북도  청도군  일반용    4032    46683759\n158  202107-202112  경상북도  청송군   합계    6901    99593202\n158  202107-202112  경상북도  청송군  일반용    2806    29489078\n159  202107-202112  경상북도  칠곡군   합계   14653  1011429422\n159  202107-202112  경상북도  칠곡군  일반용   11091   160970662\n160  202107-202112  경상북도  포항시  일반용   41257   540651594\n160  202107-202112  경상북도  포항시   합계   46291  5086000687",
      "text/html": "<div>\n<style scoped>\n    .dataframe tbody tr th:only-of-type {\n        vertical-align: middle;\n    }\n\n    .dataframe tbody tr th {\n        vertical-align: top;\n    }\n\n    .dataframe thead th {\n        text-align: right;\n    }\n</style>\n<table border=\"1\" class=\"dataframe\">\n  <thead>\n    <tr style=\"text-align: right;\">\n      <th></th>\n      <th>년월</th>\n      <th>시구</th>\n      <th>시군구</th>\n      <th>계약구분</th>\n      <th>고객호수(호)</th>\n      <th>사용량(kWh)</th>\n    </tr>\n  </thead>\n  <tbody>\n    <tr>\n      <th>138</th>\n      <td>202107-202112</td>\n      <td>경상북도</td>\n      <td>경산시</td>\n      <td>일반용</td>\n      <td>18472</td>\n      <td>249346017</td>\n    </tr>\n    <tr>\n      <th>138</th>\n      <td>202107-202112</td>\n      <td>경상북도</td>\n      <td>경산시</td>\n      <td>합계</td>\n      <td>27330</td>\n      <td>1376131466</td>\n    </tr>\n    <tr>\n      <th>139</th>\n      <td>202107-202112</td>\n      <td>경상북도</td>\n      <td>경주시</td>\n      <td>일반용</td>\n      <td>26069</td>\n      <td>351570973</td>\n    </tr>\n    <tr>\n      <th>139</th>\n      <td>202107-202112</td>\n      <td>경상북도</td>\n      <td>경주시</td>\n      <td>합계</td>\n      <td>35117</td>\n      <td>1982704295</td>\n    </tr>\n    <tr>\n      <th>140</th>\n      <td>202107-202112</td>\n      <td>경상북도</td>\n      <td>고령군</td>\n      <td>일반용</td>\n      <td>3287</td>\n      <td>35543955</td>\n    </tr>\n    <tr>\n      <th>140</th>\n      <td>202107-202112</td>\n      <td>경상북도</td>\n      <td>고령군</td>\n      <td>합계</td>\n      <td>5904</td>\n      <td>658554246</td>\n    </tr>\n    <tr>\n      <th>141</th>\n      <td>202107-202112</td>\n      <td>경상북도</td>\n      <td>구미시</td>\n      <td>일반용</td>\n      <td>27978</td>\n      <td>373290464</td>\n    </tr>\n    <tr>\n      <th>141</th>\n      <td>202107-202112</td>\n      <td>경상북도</td>\n      <td>구미시</td>\n      <td>합계</td>\n      <td>35163</td>\n      <td>5049051201</td>\n    </tr>\n    <tr>\n      <th>142</th>\n      <td>202107-202112</td>\n      <td>경상북도</td>\n      <td>군위군</td>\n      <td>일반용</td>\n      <td>2337</td>\n      <td>27240060</td>\n    </tr>\n    <tr>\n      <th>142</th>\n      <td>202107-202112</td>\n      <td>경상북도</td>\n      <td>군위군</td>\n      <td>합계</td>\n      <td>5628</td>\n      <td>164950654</td>\n    </tr>\n    <tr>\n      <th>143</th>\n      <td>202107-202112</td>\n      <td>경상북도</td>\n      <td>김천시</td>\n      <td>일반용</td>\n      <td>10621</td>\n      <td>150609100</td>\n    </tr>\n    <tr>\n      <th>143</th>\n      <td>202107-202112</td>\n      <td>경상북도</td>\n      <td>김천시</td>\n      <td>합계</td>\n      <td>19340</td>\n      <td>1211067749</td>\n    </tr>\n    <tr>\n      <th>144</th>\n      <td>202107-202112</td>\n      <td>경상북도</td>\n      <td>문경시</td>\n      <td>일반용</td>\n      <td>6738</td>\n      <td>76220317</td>\n    </tr>\n    <tr>\n      <th>144</th>\n      <td>202107-202112</td>\n      <td>경상북도</td>\n      <td>문경시</td>\n      <td>합계</td>\n      <td>11547</td>\n      <td>294556142</td>\n    </tr>\n    <tr>\n      <th>145</th>\n      <td>202107-202112</td>\n      <td>경상북도</td>\n      <td>봉화군</td>\n      <td>일반용</td>\n      <td>3039</td>\n      <td>25552731</td>\n    </tr>\n    <tr>\n      <th>145</th>\n      <td>202107-202112</td>\n      <td>경상북도</td>\n      <td>봉화군</td>\n      <td>합계</td>\n      <td>7871</td>\n      <td>884100814</td>\n    </tr>\n    <tr>\n      <th>146</th>\n      <td>202107-202112</td>\n      <td>경상북도</td>\n      <td>상주시</td>\n      <td>합계</td>\n      <td>18343</td>\n      <td>393679704</td>\n    </tr>\n    <tr>\n      <th>146</th>\n      <td>202107-202112</td>\n      <td>경상북도</td>\n      <td>상주시</td>\n      <td>일반용</td>\n      <td>8198</td>\n      <td>85627611</td>\n    </tr>\n    <tr>\n      <th>147</th>\n      <td>202107-202112</td>\n      <td>경상북도</td>\n      <td>성주군</td>\n      <td>합계</td>\n      <td>10376</td>\n      <td>528390170</td>\n    </tr>\n    <tr>\n      <th>147</th>\n      <td>202107-202112</td>\n      <td>경상북도</td>\n      <td>성주군</td>\n      <td>일반용</td>\n      <td>4473</td>\n      <td>47635097</td>\n    </tr>\n    <tr>\n      <th>148</th>\n      <td>202107-202112</td>\n      <td>경상북도</td>\n      <td>안동시</td>\n      <td>합계</td>\n      <td>22632</td>\n      <td>589409614</td>\n    </tr>\n    <tr>\n      <th>148</th>\n      <td>202107-202112</td>\n      <td>경상북도</td>\n      <td>안동시</td>\n      <td>일반용</td>\n      <td>14169</td>\n      <td>185844924</td>\n    </tr>\n    <tr>\n      <th>149</th>\n      <td>202107-202112</td>\n      <td>경상북도</td>\n      <td>영덕군</td>\n      <td>합계</td>\n      <td>7404</td>\n      <td>148071922</td>\n    </tr>\n    <tr>\n      <th>149</th>\n      <td>202107-202112</td>\n      <td>경상북도</td>\n      <td>영덕군</td>\n      <td>일반용</td>\n      <td>5377</td>\n      <td>61478501</td>\n    </tr>\n    <tr>\n      <th>150</th>\n      <td>202107-202112</td>\n      <td>경상북도</td>\n      <td>영양군</td>\n      <td>합계</td>\n      <td>4431</td>\n      <td>58530535</td>\n    </tr>\n    <tr>\n      <th>150</th>\n      <td>202107-202112</td>\n      <td>경상북도</td>\n      <td>영양군</td>\n      <td>일반용</td>\n      <td>1607</td>\n      <td>14066529</td>\n    </tr>\n    <tr>\n      <th>151</th>\n      <td>202107-202112</td>\n      <td>경상북도</td>\n      <td>영주시</td>\n      <td>합계</td>\n      <td>15052</td>\n      <td>842835888</td>\n    </tr>\n    <tr>\n      <th>151</th>\n      <td>202107-202112</td>\n      <td>경상북도</td>\n      <td>영주시</td>\n      <td>일반용</td>\n      <td>9991</td>\n      <td>101679507</td>\n    </tr>\n    <tr>\n      <th>152</th>\n      <td>202107-202112</td>\n      <td>경상북도</td>\n      <td>영천시</td>\n      <td>일반용</td>\n      <td>8807</td>\n      <td>99228056</td>\n    </tr>\n    <tr>\n      <th>152</th>\n      <td>202107-202112</td>\n      <td>경상북도</td>\n      <td>영천시</td>\n      <td>합계</td>\n      <td>16070</td>\n      <td>786742129</td>\n    </tr>\n    <tr>\n      <th>153</th>\n      <td>202107-202112</td>\n      <td>경상북도</td>\n      <td>예천군</td>\n      <td>합계</td>\n      <td>10469</td>\n      <td>195138181</td>\n    </tr>\n    <tr>\n      <th>153</th>\n      <td>202107-202112</td>\n      <td>경상북도</td>\n      <td>예천군</td>\n      <td>일반용</td>\n      <td>3943</td>\n      <td>50116705</td>\n    </tr>\n    <tr>\n      <th>154</th>\n      <td>202107-202112</td>\n      <td>경상북도</td>\n      <td>울릉군</td>\n      <td>합계</td>\n      <td>1440</td>\n      <td>35194225</td>\n    </tr>\n    <tr>\n      <th>154</th>\n      <td>202107-202112</td>\n      <td>경상북도</td>\n      <td>울릉군</td>\n      <td>일반용</td>\n      <td>1942</td>\n      <td>21624774</td>\n    </tr>\n    <tr>\n      <th>155</th>\n      <td>202107-202112</td>\n      <td>경상북도</td>\n      <td>울진군</td>\n      <td>일반용</td>\n      <td>5640</td>\n      <td>72805652</td>\n    </tr>\n    <tr>\n      <th>155</th>\n      <td>202107-202112</td>\n      <td>경상북도</td>\n      <td>울진군</td>\n      <td>합계</td>\n      <td>9634</td>\n      <td>368527636</td>\n    </tr>\n    <tr>\n      <th>156</th>\n      <td>202107-202112</td>\n      <td>경상북도</td>\n      <td>의성군</td>\n      <td>합계</td>\n      <td>12986</td>\n      <td>224856750</td>\n    </tr>\n    <tr>\n      <th>156</th>\n      <td>202107-202112</td>\n      <td>경상북도</td>\n      <td>의성군</td>\n      <td>일반용</td>\n      <td>4332</td>\n      <td>40090908</td>\n    </tr>\n    <tr>\n      <th>157</th>\n      <td>202107-202112</td>\n      <td>경상북도</td>\n      <td>청도군</td>\n      <td>합계</td>\n      <td>10410</td>\n      <td>249238924</td>\n    </tr>\n    <tr>\n      <th>157</th>\n      <td>202107-202112</td>\n      <td>경상북도</td>\n      <td>청도군</td>\n      <td>일반용</td>\n      <td>4032</td>\n      <td>46683759</td>\n    </tr>\n    <tr>\n      <th>158</th>\n      <td>202107-202112</td>\n      <td>경상북도</td>\n      <td>청송군</td>\n      <td>합계</td>\n      <td>6901</td>\n      <td>99593202</td>\n    </tr>\n    <tr>\n      <th>158</th>\n      <td>202107-202112</td>\n      <td>경상북도</td>\n      <td>청송군</td>\n      <td>일반용</td>\n      <td>2806</td>\n      <td>29489078</td>\n    </tr>\n    <tr>\n      <th>159</th>\n      <td>202107-202112</td>\n      <td>경상북도</td>\n      <td>칠곡군</td>\n      <td>합계</td>\n      <td>14653</td>\n      <td>1011429422</td>\n    </tr>\n    <tr>\n      <th>159</th>\n      <td>202107-202112</td>\n      <td>경상북도</td>\n      <td>칠곡군</td>\n      <td>일반용</td>\n      <td>11091</td>\n      <td>160970662</td>\n    </tr>\n    <tr>\n      <th>160</th>\n      <td>202107-202112</td>\n      <td>경상북도</td>\n      <td>포항시</td>\n      <td>일반용</td>\n      <td>41257</td>\n      <td>540651594</td>\n    </tr>\n    <tr>\n      <th>160</th>\n      <td>202107-202112</td>\n      <td>경상북도</td>\n      <td>포항시</td>\n      <td>합계</td>\n      <td>46291</td>\n      <td>5086000687</td>\n    </tr>\n  </tbody>\n</table>\n</div>"
     },
     "execution_count": 27,
     "metadata": {},
     "output_type": "execute_result"
    }
   ],
   "source": [
    "Final = pd.concat([GyeonGiHap2 , Hap])\n",
    "Final = Final.sort_values('시군구')\n",
    "Final"
   ],
   "metadata": {
    "collapsed": false,
    "pycharm": {
     "name": "#%%\n"
    }
   }
  },
  {
   "cell_type": "code",
   "execution_count": 28,
   "outputs": [
    {
     "data": {
      "text/plain": "[249346017,\n 351570973,\n 35543955,\n 373290464,\n 27240060,\n 150609100,\n 76220317,\n 25552731,\n 85627611,\n 47635097,\n 185844924,\n 61478501,\n 14066529,\n 101679507,\n 99228056,\n 50116705,\n 21624774,\n 72805652,\n 40090908,\n 46683759,\n 29489078,\n 160970662,\n 540651594]"
     },
     "execution_count": 28,
     "metadata": {},
     "output_type": "execute_result"
    }
   ],
   "source": [
    "# Final['일반용 전기의 비율'] = (Final['사용량(kWh)'].loc[Final['계약구분'] == '일반용']) // (Final['사용량(kWh)'].loc[Final['계약구분'] == '합계'])\n",
    "# Final\n",
    "ex = (Final['사용량(kWh)'].loc[Final['계약구분'] == '일반용']).tolist()\n",
    "\n",
    "\n",
    "ex\n"
   ],
   "metadata": {
    "collapsed": false,
    "pycharm": {
     "name": "#%%\n"
    }
   }
  },
  {
   "cell_type": "code",
   "execution_count": 29,
   "outputs": [
    {
     "data": {
      "text/plain": "[1376131466,\n 1982704295,\n 658554246,\n 5049051201,\n 164950654,\n 1211067749,\n 294556142,\n 884100814,\n 393679704,\n 528390170,\n 589409614,\n 148071922,\n 58530535,\n 842835888,\n 786742129,\n 195138181,\n 35194225,\n 368527636,\n 224856750,\n 249238924,\n 99593202,\n 1011429422,\n 5086000687]"
     },
     "execution_count": 29,
     "metadata": {},
     "output_type": "execute_result"
    }
   ],
   "source": [
    "ex_2 =(Final['사용량(kWh)'].loc[Final['계약구분'] == '합계']).tolist()\n",
    "ex_2"
   ],
   "metadata": {
    "collapsed": false,
    "pycharm": {
     "name": "#%%\n"
    }
   }
  },
  {
   "cell_type": "code",
   "execution_count": 30,
   "outputs": [
    {
     "name": "stdout",
     "output_type": "stream",
     "text": [
      "[18.12, 17.73, 5.4, 7.39, 16.51, 12.44, 25.88, 2.89, 21.75, 9.02, 31.53, 41.52, 24.03, 12.06, 12.61, 25.68, 61.44, 19.76, 17.83, 18.73, 29.61, 15.92, 10.63]\n"
     ]
    }
   ],
   "source": [
    "Rate = []\n",
    "ilban = []\n",
    "rae = 0\n",
    "for i in range(len(ex)):\n",
    "    rae = round(ex[i] / ex_2[i] *100 ,2)\n",
    "    Rate.append(rae)\n",
    "print(Rate)"
   ],
   "metadata": {
    "collapsed": false,
    "pycharm": {
     "name": "#%%\n"
    }
   }
  },
  {
   "cell_type": "code",
   "execution_count": 31,
   "outputs": [
    {
     "data": {
      "text/plain": "0    18\n1    18\n2     5\n3     7\n4    17\n5    12\n6    26\n7     3\n8    22\n9     9\n10   32\n11   42\n12   24\n13   12\n14   13\n15   26\n16   61\n17   20\n18   18\n19   19\n20   30\n21   16\n22   11\ndtype: float64"
     },
     "execution_count": 31,
     "metadata": {},
     "output_type": "execute_result"
    }
   ],
   "source": [
    "Rate3 = pd.Series(Rate)\n",
    "Rate3\n",
    "\n",
    "# Final = pd.concat([Final , Rate3])\n",
    "# Final"
   ],
   "metadata": {
    "collapsed": false,
    "pycharm": {
     "name": "#%%\n"
    }
   }
  },
  {
   "cell_type": "code",
   "execution_count": 32,
   "outputs": [
    {
     "data": {
      "text/plain": "    시군구 계약구분  비율\n0   경산시  일반용  18\n1   경주시  일반용  18\n2   고령군  일반용   5\n3   구미시  일반용   7\n4   군위군  일반용  17\n5   김천시  일반용  12\n6   문경시  일반용  26\n7   봉화군  일반용   3\n8   상주시  일반용  22\n9   성주군  일반용   9\n10  안동시  일반용  32\n11  영덕군  일반용  42\n12  영양군  일반용  24\n13  영주시  일반용  12\n14  영천시  일반용  13\n15  예천군  일반용  26\n16  울릉군  일반용  61\n17  울진군  일반용  20\n18  의성군  일반용  18\n19  청도군  일반용  19\n20  청송군  일반용  30\n21  칠곡군  일반용  16\n22  포항시  일반용  11",
      "text/html": "<div>\n<style scoped>\n    .dataframe tbody tr th:only-of-type {\n        vertical-align: middle;\n    }\n\n    .dataframe tbody tr th {\n        vertical-align: top;\n    }\n\n    .dataframe thead th {\n        text-align: right;\n    }\n</style>\n<table border=\"1\" class=\"dataframe\">\n  <thead>\n    <tr style=\"text-align: right;\">\n      <th></th>\n      <th>시군구</th>\n      <th>계약구분</th>\n      <th>비율</th>\n    </tr>\n  </thead>\n  <tbody>\n    <tr>\n      <th>0</th>\n      <td>경산시</td>\n      <td>일반용</td>\n      <td>18</td>\n    </tr>\n    <tr>\n      <th>1</th>\n      <td>경주시</td>\n      <td>일반용</td>\n      <td>18</td>\n    </tr>\n    <tr>\n      <th>2</th>\n      <td>고령군</td>\n      <td>일반용</td>\n      <td>5</td>\n    </tr>\n    <tr>\n      <th>3</th>\n      <td>구미시</td>\n      <td>일반용</td>\n      <td>7</td>\n    </tr>\n    <tr>\n      <th>4</th>\n      <td>군위군</td>\n      <td>일반용</td>\n      <td>17</td>\n    </tr>\n    <tr>\n      <th>5</th>\n      <td>김천시</td>\n      <td>일반용</td>\n      <td>12</td>\n    </tr>\n    <tr>\n      <th>6</th>\n      <td>문경시</td>\n      <td>일반용</td>\n      <td>26</td>\n    </tr>\n    <tr>\n      <th>7</th>\n      <td>봉화군</td>\n      <td>일반용</td>\n      <td>3</td>\n    </tr>\n    <tr>\n      <th>8</th>\n      <td>상주시</td>\n      <td>일반용</td>\n      <td>22</td>\n    </tr>\n    <tr>\n      <th>9</th>\n      <td>성주군</td>\n      <td>일반용</td>\n      <td>9</td>\n    </tr>\n    <tr>\n      <th>10</th>\n      <td>안동시</td>\n      <td>일반용</td>\n      <td>32</td>\n    </tr>\n    <tr>\n      <th>11</th>\n      <td>영덕군</td>\n      <td>일반용</td>\n      <td>42</td>\n    </tr>\n    <tr>\n      <th>12</th>\n      <td>영양군</td>\n      <td>일반용</td>\n      <td>24</td>\n    </tr>\n    <tr>\n      <th>13</th>\n      <td>영주시</td>\n      <td>일반용</td>\n      <td>12</td>\n    </tr>\n    <tr>\n      <th>14</th>\n      <td>영천시</td>\n      <td>일반용</td>\n      <td>13</td>\n    </tr>\n    <tr>\n      <th>15</th>\n      <td>예천군</td>\n      <td>일반용</td>\n      <td>26</td>\n    </tr>\n    <tr>\n      <th>16</th>\n      <td>울릉군</td>\n      <td>일반용</td>\n      <td>61</td>\n    </tr>\n    <tr>\n      <th>17</th>\n      <td>울진군</td>\n      <td>일반용</td>\n      <td>20</td>\n    </tr>\n    <tr>\n      <th>18</th>\n      <td>의성군</td>\n      <td>일반용</td>\n      <td>18</td>\n    </tr>\n    <tr>\n      <th>19</th>\n      <td>청도군</td>\n      <td>일반용</td>\n      <td>19</td>\n    </tr>\n    <tr>\n      <th>20</th>\n      <td>청송군</td>\n      <td>일반용</td>\n      <td>30</td>\n    </tr>\n    <tr>\n      <th>21</th>\n      <td>칠곡군</td>\n      <td>일반용</td>\n      <td>16</td>\n    </tr>\n    <tr>\n      <th>22</th>\n      <td>포항시</td>\n      <td>일반용</td>\n      <td>11</td>\n    </tr>\n  </tbody>\n</table>\n</div>"
     },
     "execution_count": 32,
     "metadata": {},
     "output_type": "execute_result"
    }
   ],
   "source": [
    "for j in range(len(Rate)):\n",
    "    ilban.append('일반용')\n",
    "#print(Rate)\n",
    "\n",
    "Rate2 = pd.DataFrame()\n",
    "Rate2['시군구'] = pd.DataFrame(SIGUNGU)\n",
    "Rate2['계약구분'] = pd.DataFrame(ilban)\n",
    "Rate2['비율'] = pd.DataFrame(Rate)\n",
    "Rate2\n",
    "#print(Rate2.dtypes)"
   ],
   "metadata": {
    "collapsed": false,
    "pycharm": {
     "name": "#%%\n"
    }
   }
  },
  {
   "cell_type": "code",
   "execution_count": 33,
   "outputs": [
    {
     "data": {
      "text/plain": "               년월    시구  시군구 계약구분 고객호수(호)    사용량(kWh)  비율\n0   202107-202112  경상북도  경산시  일반용   18472   249346017  18\n1   202107-202112  경상북도  경산시   합계   27330  1376131466 NaN\n2   202107-202112  경상북도  경주시  일반용   26069   351570973  18\n3   202107-202112  경상북도  경주시   합계   35117  1982704295 NaN\n4   202107-202112  경상북도  고령군  일반용    3287    35543955   5\n5   202107-202112  경상북도  고령군   합계    5904   658554246 NaN\n6   202107-202112  경상북도  구미시  일반용   27978   373290464   7\n7   202107-202112  경상북도  구미시   합계   35163  5049051201 NaN\n8   202107-202112  경상북도  군위군  일반용    2337    27240060  17\n9   202107-202112  경상북도  군위군   합계    5628   164950654 NaN\n10  202107-202112  경상북도  김천시  일반용   10621   150609100  12\n11  202107-202112  경상북도  김천시   합계   19340  1211067749 NaN\n12  202107-202112  경상북도  문경시  일반용    6738    76220317  26\n13  202107-202112  경상북도  문경시   합계   11547   294556142 NaN\n14  202107-202112  경상북도  봉화군  일반용    3039    25552731   3\n15  202107-202112  경상북도  봉화군   합계    7871   884100814 NaN\n17  202107-202112  경상북도  상주시  일반용    8198    85627611  22\n16  202107-202112  경상북도  상주시   합계   18343   393679704 NaN\n19  202107-202112  경상북도  성주군  일반용    4473    47635097   9\n18  202107-202112  경상북도  성주군   합계   10376   528390170 NaN\n21  202107-202112  경상북도  안동시  일반용   14169   185844924  32\n20  202107-202112  경상북도  안동시   합계   22632   589409614 NaN\n23  202107-202112  경상북도  영덕군  일반용    5377    61478501  42\n22  202107-202112  경상북도  영덕군   합계    7404   148071922 NaN\n25  202107-202112  경상북도  영양군  일반용    1607    14066529  24\n24  202107-202112  경상북도  영양군   합계    4431    58530535 NaN\n27  202107-202112  경상북도  영주시  일반용    9991   101679507  12\n26  202107-202112  경상북도  영주시   합계   15052   842835888 NaN\n28  202107-202112  경상북도  영천시  일반용    8807    99228056  13\n29  202107-202112  경상북도  영천시   합계   16070   786742129 NaN\n31  202107-202112  경상북도  예천군  일반용    3943    50116705  26\n30  202107-202112  경상북도  예천군   합계   10469   195138181 NaN\n33  202107-202112  경상북도  울릉군  일반용    1942    21624774  61\n32  202107-202112  경상북도  울릉군   합계    1440    35194225 NaN\n34  202107-202112  경상북도  울진군  일반용    5640    72805652  20\n35  202107-202112  경상북도  울진군   합계    9634   368527636 NaN\n37  202107-202112  경상북도  의성군  일반용    4332    40090908  18\n36  202107-202112  경상북도  의성군   합계   12986   224856750 NaN\n39  202107-202112  경상북도  청도군  일반용    4032    46683759  19\n38  202107-202112  경상북도  청도군   합계   10410   249238924 NaN\n41  202107-202112  경상북도  청송군  일반용    2806    29489078  30\n40  202107-202112  경상북도  청송군   합계    6901    99593202 NaN\n43  202107-202112  경상북도  칠곡군  일반용   11091   160970662  16\n42  202107-202112  경상북도  칠곡군   합계   14653  1011429422 NaN\n44  202107-202112  경상북도  포항시  일반용   41257   540651594  11\n45  202107-202112  경상북도  포항시   합계   46291  5086000687 NaN",
      "text/html": "<div>\n<style scoped>\n    .dataframe tbody tr th:only-of-type {\n        vertical-align: middle;\n    }\n\n    .dataframe tbody tr th {\n        vertical-align: top;\n    }\n\n    .dataframe thead th {\n        text-align: right;\n    }\n</style>\n<table border=\"1\" class=\"dataframe\">\n  <thead>\n    <tr style=\"text-align: right;\">\n      <th></th>\n      <th>년월</th>\n      <th>시구</th>\n      <th>시군구</th>\n      <th>계약구분</th>\n      <th>고객호수(호)</th>\n      <th>사용량(kWh)</th>\n      <th>비율</th>\n    </tr>\n  </thead>\n  <tbody>\n    <tr>\n      <th>0</th>\n      <td>202107-202112</td>\n      <td>경상북도</td>\n      <td>경산시</td>\n      <td>일반용</td>\n      <td>18472</td>\n      <td>249346017</td>\n      <td>18</td>\n    </tr>\n    <tr>\n      <th>1</th>\n      <td>202107-202112</td>\n      <td>경상북도</td>\n      <td>경산시</td>\n      <td>합계</td>\n      <td>27330</td>\n      <td>1376131466</td>\n      <td>NaN</td>\n    </tr>\n    <tr>\n      <th>2</th>\n      <td>202107-202112</td>\n      <td>경상북도</td>\n      <td>경주시</td>\n      <td>일반용</td>\n      <td>26069</td>\n      <td>351570973</td>\n      <td>18</td>\n    </tr>\n    <tr>\n      <th>3</th>\n      <td>202107-202112</td>\n      <td>경상북도</td>\n      <td>경주시</td>\n      <td>합계</td>\n      <td>35117</td>\n      <td>1982704295</td>\n      <td>NaN</td>\n    </tr>\n    <tr>\n      <th>4</th>\n      <td>202107-202112</td>\n      <td>경상북도</td>\n      <td>고령군</td>\n      <td>일반용</td>\n      <td>3287</td>\n      <td>35543955</td>\n      <td>5</td>\n    </tr>\n    <tr>\n      <th>5</th>\n      <td>202107-202112</td>\n      <td>경상북도</td>\n      <td>고령군</td>\n      <td>합계</td>\n      <td>5904</td>\n      <td>658554246</td>\n      <td>NaN</td>\n    </tr>\n    <tr>\n      <th>6</th>\n      <td>202107-202112</td>\n      <td>경상북도</td>\n      <td>구미시</td>\n      <td>일반용</td>\n      <td>27978</td>\n      <td>373290464</td>\n      <td>7</td>\n    </tr>\n    <tr>\n      <th>7</th>\n      <td>202107-202112</td>\n      <td>경상북도</td>\n      <td>구미시</td>\n      <td>합계</td>\n      <td>35163</td>\n      <td>5049051201</td>\n      <td>NaN</td>\n    </tr>\n    <tr>\n      <th>8</th>\n      <td>202107-202112</td>\n      <td>경상북도</td>\n      <td>군위군</td>\n      <td>일반용</td>\n      <td>2337</td>\n      <td>27240060</td>\n      <td>17</td>\n    </tr>\n    <tr>\n      <th>9</th>\n      <td>202107-202112</td>\n      <td>경상북도</td>\n      <td>군위군</td>\n      <td>합계</td>\n      <td>5628</td>\n      <td>164950654</td>\n      <td>NaN</td>\n    </tr>\n    <tr>\n      <th>10</th>\n      <td>202107-202112</td>\n      <td>경상북도</td>\n      <td>김천시</td>\n      <td>일반용</td>\n      <td>10621</td>\n      <td>150609100</td>\n      <td>12</td>\n    </tr>\n    <tr>\n      <th>11</th>\n      <td>202107-202112</td>\n      <td>경상북도</td>\n      <td>김천시</td>\n      <td>합계</td>\n      <td>19340</td>\n      <td>1211067749</td>\n      <td>NaN</td>\n    </tr>\n    <tr>\n      <th>12</th>\n      <td>202107-202112</td>\n      <td>경상북도</td>\n      <td>문경시</td>\n      <td>일반용</td>\n      <td>6738</td>\n      <td>76220317</td>\n      <td>26</td>\n    </tr>\n    <tr>\n      <th>13</th>\n      <td>202107-202112</td>\n      <td>경상북도</td>\n      <td>문경시</td>\n      <td>합계</td>\n      <td>11547</td>\n      <td>294556142</td>\n      <td>NaN</td>\n    </tr>\n    <tr>\n      <th>14</th>\n      <td>202107-202112</td>\n      <td>경상북도</td>\n      <td>봉화군</td>\n      <td>일반용</td>\n      <td>3039</td>\n      <td>25552731</td>\n      <td>3</td>\n    </tr>\n    <tr>\n      <th>15</th>\n      <td>202107-202112</td>\n      <td>경상북도</td>\n      <td>봉화군</td>\n      <td>합계</td>\n      <td>7871</td>\n      <td>884100814</td>\n      <td>NaN</td>\n    </tr>\n    <tr>\n      <th>17</th>\n      <td>202107-202112</td>\n      <td>경상북도</td>\n      <td>상주시</td>\n      <td>일반용</td>\n      <td>8198</td>\n      <td>85627611</td>\n      <td>22</td>\n    </tr>\n    <tr>\n      <th>16</th>\n      <td>202107-202112</td>\n      <td>경상북도</td>\n      <td>상주시</td>\n      <td>합계</td>\n      <td>18343</td>\n      <td>393679704</td>\n      <td>NaN</td>\n    </tr>\n    <tr>\n      <th>19</th>\n      <td>202107-202112</td>\n      <td>경상북도</td>\n      <td>성주군</td>\n      <td>일반용</td>\n      <td>4473</td>\n      <td>47635097</td>\n      <td>9</td>\n    </tr>\n    <tr>\n      <th>18</th>\n      <td>202107-202112</td>\n      <td>경상북도</td>\n      <td>성주군</td>\n      <td>합계</td>\n      <td>10376</td>\n      <td>528390170</td>\n      <td>NaN</td>\n    </tr>\n    <tr>\n      <th>21</th>\n      <td>202107-202112</td>\n      <td>경상북도</td>\n      <td>안동시</td>\n      <td>일반용</td>\n      <td>14169</td>\n      <td>185844924</td>\n      <td>32</td>\n    </tr>\n    <tr>\n      <th>20</th>\n      <td>202107-202112</td>\n      <td>경상북도</td>\n      <td>안동시</td>\n      <td>합계</td>\n      <td>22632</td>\n      <td>589409614</td>\n      <td>NaN</td>\n    </tr>\n    <tr>\n      <th>23</th>\n      <td>202107-202112</td>\n      <td>경상북도</td>\n      <td>영덕군</td>\n      <td>일반용</td>\n      <td>5377</td>\n      <td>61478501</td>\n      <td>42</td>\n    </tr>\n    <tr>\n      <th>22</th>\n      <td>202107-202112</td>\n      <td>경상북도</td>\n      <td>영덕군</td>\n      <td>합계</td>\n      <td>7404</td>\n      <td>148071922</td>\n      <td>NaN</td>\n    </tr>\n    <tr>\n      <th>25</th>\n      <td>202107-202112</td>\n      <td>경상북도</td>\n      <td>영양군</td>\n      <td>일반용</td>\n      <td>1607</td>\n      <td>14066529</td>\n      <td>24</td>\n    </tr>\n    <tr>\n      <th>24</th>\n      <td>202107-202112</td>\n      <td>경상북도</td>\n      <td>영양군</td>\n      <td>합계</td>\n      <td>4431</td>\n      <td>58530535</td>\n      <td>NaN</td>\n    </tr>\n    <tr>\n      <th>27</th>\n      <td>202107-202112</td>\n      <td>경상북도</td>\n      <td>영주시</td>\n      <td>일반용</td>\n      <td>9991</td>\n      <td>101679507</td>\n      <td>12</td>\n    </tr>\n    <tr>\n      <th>26</th>\n      <td>202107-202112</td>\n      <td>경상북도</td>\n      <td>영주시</td>\n      <td>합계</td>\n      <td>15052</td>\n      <td>842835888</td>\n      <td>NaN</td>\n    </tr>\n    <tr>\n      <th>28</th>\n      <td>202107-202112</td>\n      <td>경상북도</td>\n      <td>영천시</td>\n      <td>일반용</td>\n      <td>8807</td>\n      <td>99228056</td>\n      <td>13</td>\n    </tr>\n    <tr>\n      <th>29</th>\n      <td>202107-202112</td>\n      <td>경상북도</td>\n      <td>영천시</td>\n      <td>합계</td>\n      <td>16070</td>\n      <td>786742129</td>\n      <td>NaN</td>\n    </tr>\n    <tr>\n      <th>31</th>\n      <td>202107-202112</td>\n      <td>경상북도</td>\n      <td>예천군</td>\n      <td>일반용</td>\n      <td>3943</td>\n      <td>50116705</td>\n      <td>26</td>\n    </tr>\n    <tr>\n      <th>30</th>\n      <td>202107-202112</td>\n      <td>경상북도</td>\n      <td>예천군</td>\n      <td>합계</td>\n      <td>10469</td>\n      <td>195138181</td>\n      <td>NaN</td>\n    </tr>\n    <tr>\n      <th>33</th>\n      <td>202107-202112</td>\n      <td>경상북도</td>\n      <td>울릉군</td>\n      <td>일반용</td>\n      <td>1942</td>\n      <td>21624774</td>\n      <td>61</td>\n    </tr>\n    <tr>\n      <th>32</th>\n      <td>202107-202112</td>\n      <td>경상북도</td>\n      <td>울릉군</td>\n      <td>합계</td>\n      <td>1440</td>\n      <td>35194225</td>\n      <td>NaN</td>\n    </tr>\n    <tr>\n      <th>34</th>\n      <td>202107-202112</td>\n      <td>경상북도</td>\n      <td>울진군</td>\n      <td>일반용</td>\n      <td>5640</td>\n      <td>72805652</td>\n      <td>20</td>\n    </tr>\n    <tr>\n      <th>35</th>\n      <td>202107-202112</td>\n      <td>경상북도</td>\n      <td>울진군</td>\n      <td>합계</td>\n      <td>9634</td>\n      <td>368527636</td>\n      <td>NaN</td>\n    </tr>\n    <tr>\n      <th>37</th>\n      <td>202107-202112</td>\n      <td>경상북도</td>\n      <td>의성군</td>\n      <td>일반용</td>\n      <td>4332</td>\n      <td>40090908</td>\n      <td>18</td>\n    </tr>\n    <tr>\n      <th>36</th>\n      <td>202107-202112</td>\n      <td>경상북도</td>\n      <td>의성군</td>\n      <td>합계</td>\n      <td>12986</td>\n      <td>224856750</td>\n      <td>NaN</td>\n    </tr>\n    <tr>\n      <th>39</th>\n      <td>202107-202112</td>\n      <td>경상북도</td>\n      <td>청도군</td>\n      <td>일반용</td>\n      <td>4032</td>\n      <td>46683759</td>\n      <td>19</td>\n    </tr>\n    <tr>\n      <th>38</th>\n      <td>202107-202112</td>\n      <td>경상북도</td>\n      <td>청도군</td>\n      <td>합계</td>\n      <td>10410</td>\n      <td>249238924</td>\n      <td>NaN</td>\n    </tr>\n    <tr>\n      <th>41</th>\n      <td>202107-202112</td>\n      <td>경상북도</td>\n      <td>청송군</td>\n      <td>일반용</td>\n      <td>2806</td>\n      <td>29489078</td>\n      <td>30</td>\n    </tr>\n    <tr>\n      <th>40</th>\n      <td>202107-202112</td>\n      <td>경상북도</td>\n      <td>청송군</td>\n      <td>합계</td>\n      <td>6901</td>\n      <td>99593202</td>\n      <td>NaN</td>\n    </tr>\n    <tr>\n      <th>43</th>\n      <td>202107-202112</td>\n      <td>경상북도</td>\n      <td>칠곡군</td>\n      <td>일반용</td>\n      <td>11091</td>\n      <td>160970662</td>\n      <td>16</td>\n    </tr>\n    <tr>\n      <th>42</th>\n      <td>202107-202112</td>\n      <td>경상북도</td>\n      <td>칠곡군</td>\n      <td>합계</td>\n      <td>14653</td>\n      <td>1011429422</td>\n      <td>NaN</td>\n    </tr>\n    <tr>\n      <th>44</th>\n      <td>202107-202112</td>\n      <td>경상북도</td>\n      <td>포항시</td>\n      <td>일반용</td>\n      <td>41257</td>\n      <td>540651594</td>\n      <td>11</td>\n    </tr>\n    <tr>\n      <th>45</th>\n      <td>202107-202112</td>\n      <td>경상북도</td>\n      <td>포항시</td>\n      <td>합계</td>\n      <td>46291</td>\n      <td>5086000687</td>\n      <td>NaN</td>\n    </tr>\n  </tbody>\n</table>\n</div>"
     },
     "execution_count": 33,
     "metadata": {},
     "output_type": "execute_result"
    }
   ],
   "source": [
    "Final = pd.merge(Final , Rate2, on=['시군구', '계약구분'] , how='left')\n",
    "\n",
    "#Final.drop(['비율_y]' , axis = 1 , inplace = True)\n",
    "#Final.rename(columns={'비율_y':'전체 계약종별 전력사용량 대비 일반용 사용량 비율'})\n",
    "Final = Final.sort_values(['시군구' , '계약구분'])\n",
    "Final"
   ],
   "metadata": {
    "collapsed": false,
    "pycharm": {
     "name": "#%%\n"
    }
   }
  },
  {
   "cell_type": "code",
   "execution_count": 34,
   "outputs": [],
   "source": [
    "# Final['일반용 전기의 비율'] = Final.append(Rate)\n",
    "# Final"
   ],
   "metadata": {
    "collapsed": false,
    "pycharm": {
     "name": "#%%\n"
    }
   }
  },
  {
   "cell_type": "markdown",
   "source": [
    "### 6. 날짜 체크!!!!!!!!!!!!!!!!!!!!1"
   ],
   "metadata": {
    "collapsed": false,
    "pycharm": {
     "name": "#%% md\n"
    }
   }
  },
  {
   "cell_type": "code",
   "execution_count": 35,
   "outputs": [],
   "source": [
    "Final.to_csv(\"{}_일반용_전력사용량_2107-12.csv\".format(City) , mode = 'w' , encoding= 'cp949' , index =False) #파일명 수정"
   ],
   "metadata": {
    "collapsed": false,
    "pycharm": {
     "name": "#%%\n"
    }
   }
  },
  {
   "cell_type": "code",
   "execution_count": 35,
   "outputs": [],
   "source": [],
   "metadata": {
    "collapsed": false,
    "pycharm": {
     "name": "#%%\n"
    }
   }
  },
  {
   "cell_type": "code",
   "execution_count": 36,
   "outputs": [],
   "source": [
    "# Sigu = list(set(df_3['시군구'].tolist()))\n",
    "#\n",
    "# Sigu.sort()\n",
    "#\n",
    "# Sigu"
   ],
   "metadata": {
    "collapsed": false,
    "pycharm": {
     "name": "#%%\n"
    }
   }
  },
  {
   "cell_type": "code",
   "execution_count": 37,
   "outputs": [],
   "source": [
    "# YearMonth = list(set(df_3['년월'].tolist()))\n",
    "#\n",
    "# YearMonth.sort()\n",
    "# YearMonth"
   ],
   "metadata": {
    "collapsed": false,
    "pycharm": {
     "name": "#%%\n"
    }
   }
  },
  {
   "cell_type": "code",
   "execution_count": 38,
   "outputs": [],
   "source": [
    "# Gayeak = list(set(df_3['계약구분'].tolist()))\n",
    "#\n",
    "# Gayeak.sort()\n",
    "# Gayeak"
   ],
   "metadata": {
    "collapsed": false,
    "pycharm": {
     "name": "#%%\n"
    }
   }
  },
  {
   "cell_type": "code",
   "execution_count": 39,
   "outputs": [],
   "source": [
    "# SEOUL = df_3.loc[(df_3['계약구분'] =='일반용')]\n",
    "# SEOUL.drop(['고객호수(호)' ,'전기요금(원)' , '평균판매단가(원/kWh)'] , axis = 1 , inplace = True)\n",
    "# #SEOUL.dtypes(['사용량(kWh)'])\n",
    "# SEOUL"
   ],
   "metadata": {
    "collapsed": false,
    "pycharm": {
     "name": "#%%\n"
    }
   }
  },
  {
   "cell_type": "code",
   "execution_count": 40,
   "outputs": [],
   "source": [
    "#SEOUL.to_csv(\"서울특별시_일반용_전력사용량.csv\" , mode = 'w' , encoding= 'cp949')"
   ],
   "metadata": {
    "collapsed": false,
    "pycharm": {
     "name": "#%%\n"
    }
   }
  },
  {
   "cell_type": "code",
   "execution_count": 41,
   "outputs": [],
   "source": [
    "# print(SEOUL.dtypes)\n",
    "# SEOUL = SEOUL.astype({'사용량(kWh)' : 'float'})"
   ],
   "metadata": {
    "collapsed": false,
    "pycharm": {
     "name": "#%%\n"
    }
   }
  },
  {
   "cell_type": "code",
   "execution_count": 42,
   "outputs": [],
   "source": [
    "# SEOUL"
   ],
   "metadata": {
    "collapsed": false,
    "pycharm": {
     "name": "#%%\n"
    }
   }
  },
  {
   "cell_type": "code",
   "execution_count": 43,
   "outputs": [],
   "source": [
    "# a = SEOUL['사용량(kWh)'].tolist()\n",
    "# int_list = map(int, a)\n",
    "# b=0\n",
    "# for i in int_list:\n",
    "#     b+=i\n",
    "#\n",
    "# print(b)"
   ],
   "metadata": {
    "collapsed": false,
    "pycharm": {
     "name": "#%%\n"
    }
   }
  },
  {
   "cell_type": "code",
   "execution_count": 43,
   "outputs": [],
   "source": [],
   "metadata": {
    "collapsed": false,
    "pycharm": {
     "name": "#%%\n"
    }
   }
  },
  {
   "cell_type": "code",
   "execution_count": 43,
   "outputs": [],
   "source": [],
   "metadata": {
    "collapsed": false,
    "pycharm": {
     "name": "#%%\n"
    }
   }
  },
  {
   "cell_type": "code",
   "execution_count": 43,
   "outputs": [],
   "source": [],
   "metadata": {
    "collapsed": false,
    "pycharm": {
     "name": "#%%\n"
    }
   }
  },
  {
   "cell_type": "code",
   "execution_count": 43,
   "outputs": [],
   "source": [],
   "metadata": {
    "collapsed": false,
    "pycharm": {
     "name": "#%%\n"
    }
   }
  },
  {
   "cell_type": "code",
   "execution_count": 43,
   "outputs": [],
   "source": [],
   "metadata": {
    "collapsed": false,
    "pycharm": {
     "name": "#%%\n"
    }
   }
  },
  {
   "cell_type": "code",
   "execution_count": 43,
   "outputs": [],
   "source": [],
   "metadata": {
    "collapsed": false,
    "pycharm": {
     "name": "#%%\n"
    }
   }
  },
  {
   "cell_type": "code",
   "execution_count": 43,
   "outputs": [],
   "source": [],
   "metadata": {
    "collapsed": false,
    "pycharm": {
     "name": "#%%\n"
    }
   }
  }
 ],
 "metadata": {
  "kernelspec": {
   "display_name": "Python 3",
   "language": "python",
   "name": "python3"
  },
  "language_info": {
   "codemirror_mode": {
    "name": "ipython",
    "version": 2
   },
   "file_extension": ".py",
   "mimetype": "text/x-python",
   "name": "python",
   "nbconvert_exporter": "python",
   "pygments_lexer": "ipython2",
   "version": "2.7.6"
  }
 },
 "nbformat": 4,
 "nbformat_minor": 0
}